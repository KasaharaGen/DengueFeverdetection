{
 "cells": [
  {
   "cell_type": "code",
   "execution_count": 8,
   "metadata": {},
   "outputs": [],
   "source": [
    "import pandas as pd\n",
    "from sklearn.model_selection import train_test_split\n",
    "\n",
    "import tensorflow as tf\n",
    "from tensorflow.keras.models import Sequential\n",
    "from tensorflow.keras.layers import Dense,Dropout\n",
    "from tensorflow.keras import regularizers\n",
    "from tensorflow.keras.optimizers import Adam\n",
    "from tensorflow.keras.callbacks import EarlyStopping\n",
    "\n"
   ]
  },
  {
   "cell_type": "code",
   "execution_count": 9,
   "metadata": {},
   "outputs": [
    {
     "name": "stdout",
     "output_type": "stream",
     "text": [
      "Num GPUs Available:  2\n"
     ]
    }
   ],
   "source": [
    "import tensorflow as tf\n",
    "print(\"Num GPUs Available: \", len(tf.config.list_physical_devices('GPU')))\n"
   ]
  },
  {
   "cell_type": "code",
   "execution_count": 10,
   "metadata": {},
   "outputs": [],
   "source": [
    "# データの読み込み\n",
    "data = pd.read_csv('../data/preprocessed_data.csv')\n",
    "\n",
    "# 特徴量とターゲット変数の分割\n",
    "X = data.drop('dengue', axis=1).values\n",
    "y = data['dengue'].values\n",
    "\n",
    "X_train, X_test, y_train, y_test = train_test_split(X, y, test_size=0.2, random_state=42)"
   ]
  },
  {
   "cell_type": "code",
   "execution_count": 11,
   "metadata": {},
   "outputs": [
    {
     "data": {
      "text/plain": [
       "(3508, 13)"
      ]
     },
     "execution_count": 11,
     "metadata": {},
     "output_type": "execute_result"
    }
   ],
   "source": [
    "X_train.shape"
   ]
  },
  {
   "cell_type": "code",
   "execution_count": 12,
   "metadata": {},
   "outputs": [
    {
     "name": "stdout",
     "output_type": "stream",
     "text": [
      "INFO:tensorflow:Using MirroredStrategy with devices ('/job:localhost/replica:0/task:0/device:GPU:0', '/job:localhost/replica:0/task:0/device:GPU:1')\n"
     ]
    }
   ],
   "source": [
    "strategy = tf.distribute.MirroredStrategy()"
   ]
  },
  {
   "cell_type": "code",
   "execution_count": 13,
   "metadata": {},
   "outputs": [],
   "source": [
    "with strategy.scope():\n",
    "    # モデルの定義\n",
    "    model = Sequential()\n",
    "\n",
    "    # 入力層および隠れ層\n",
    "    model.add(Dense(128, activation='relu',kernel_regularizer=regularizers.l2(0.001), input_dim=13))\n",
    "    model.add(Dropout(0.25))\n",
    "    model.add(Dense(64, activation='relu',kernel_regularizer=regularizers.l2(0.001)))\n",
    "    model.add(Dropout(0.25))\n",
    "    \n",
    "    # 出力層（シグモイド活性化関数を使用）\n",
    "    model.add(Dense(1, activation='sigmoid'))\n",
    "\n",
    "    # モデルのコンパイル\n",
    "    model.compile(optimizer=Adam(learning_rate=0.001), loss='binary_crossentropy', metrics=['accuracy'])\n",
    "\n"
   ]
  },
  {
   "cell_type": "code",
   "execution_count": 14,
   "metadata": {},
   "outputs": [
    {
     "name": "stdout",
     "output_type": "stream",
     "text": [
      "Epoch 1/50\n"
     ]
    },
    {
     "name": "stderr",
     "output_type": "stream",
     "text": [
      "2024-10-02 17:57:01.488025: I tensorflow/core/common_runtime/executor.cc:1197] [/device:CPU:0] (DEBUG INFO) Executor start aborting (this does not indicate an error and you can ignore this message): INVALID_ARGUMENT: You must feed a value for placeholder tensor 'Placeholder/_11' with dtype int64 and shape [3157]\n",
      "\t [[{{node Placeholder/_11}}]]\n",
      "2024-10-02 17:57:01.488453: I tensorflow/core/common_runtime/executor.cc:1197] [/device:CPU:0] (DEBUG INFO) Executor start aborting (this does not indicate an error and you can ignore this message): INVALID_ARGUMENT: You must feed a value for placeholder tensor 'Placeholder/_10' with dtype int64 and shape [3157,13]\n",
      "\t [[{{node Placeholder/_10}}]]\n"
     ]
    },
    {
     "name": "stdout",
     "output_type": "stream",
     "text": [
      "INFO:tensorflow:batch_all_reduce: 6 all-reduces with algorithm = nccl, num_packs = 1\n",
      "INFO:tensorflow:batch_all_reduce: 6 all-reduces with algorithm = nccl, num_packs = 1\n",
      "96/99 [============================>.] - ETA: 0s - loss: 0.7502 - accuracy: 0.6016"
     ]
    },
    {
     "name": "stderr",
     "output_type": "stream",
     "text": [
      "2024-10-02 17:57:04.643547: I tensorflow/core/common_runtime/executor.cc:1197] [/device:CPU:0] (DEBUG INFO) Executor start aborting (this does not indicate an error and you can ignore this message): INVALID_ARGUMENT: You must feed a value for placeholder tensor 'Placeholder/_11' with dtype int64 and shape [351]\n",
      "\t [[{{node Placeholder/_11}}]]\n",
      "2024-10-02 17:57:04.643885: I tensorflow/core/common_runtime/executor.cc:1197] [/device:CPU:0] (DEBUG INFO) Executor start aborting (this does not indicate an error and you can ignore this message): INVALID_ARGUMENT: You must feed a value for placeholder tensor 'Placeholder/_11' with dtype int64 and shape [351]\n",
      "\t [[{{node Placeholder/_11}}]]\n"
     ]
    },
    {
     "name": "stdout",
     "output_type": "stream",
     "text": [
      "99/99 [==============================] - 3s 14ms/step - loss: 0.7485 - accuracy: 0.6018 - val_loss: 0.7045 - val_accuracy: 0.6268\n",
      "Epoch 2/50\n",
      "99/99 [==============================] - 1s 10ms/step - loss: 0.6760 - accuracy: 0.6357 - val_loss: 0.6535 - val_accuracy: 0.6353\n",
      "Epoch 3/50\n",
      "99/99 [==============================] - 1s 10ms/step - loss: 0.6431 - accuracy: 0.6487 - val_loss: 0.6337 - val_accuracy: 0.6524\n",
      "Epoch 4/50\n",
      "99/99 [==============================] - 1s 11ms/step - loss: 0.6246 - accuracy: 0.6516 - val_loss: 0.6202 - val_accuracy: 0.6496\n",
      "Epoch 5/50\n",
      "99/99 [==============================] - 1s 11ms/step - loss: 0.6054 - accuracy: 0.6639 - val_loss: 0.6154 - val_accuracy: 0.6695\n",
      "Epoch 6/50\n",
      "99/99 [==============================] - 1s 11ms/step - loss: 0.6006 - accuracy: 0.6623 - val_loss: 0.6109 - val_accuracy: 0.6553\n",
      "Epoch 7/50\n",
      "99/99 [==============================] - 1s 11ms/step - loss: 0.5945 - accuracy: 0.6690 - val_loss: 0.6037 - val_accuracy: 0.6382\n",
      "Epoch 8/50\n",
      "99/99 [==============================] - 1s 11ms/step - loss: 0.5906 - accuracy: 0.6649 - val_loss: 0.6017 - val_accuracy: 0.6553\n",
      "Epoch 9/50\n",
      "99/99 [==============================] - 1s 11ms/step - loss: 0.5835 - accuracy: 0.6655 - val_loss: 0.5974 - val_accuracy: 0.6182\n",
      "Epoch 10/50\n",
      "99/99 [==============================] - 1s 11ms/step - loss: 0.5775 - accuracy: 0.6766 - val_loss: 0.5944 - val_accuracy: 0.6467\n",
      "Epoch 11/50\n",
      "99/99 [==============================] - 1s 11ms/step - loss: 0.5796 - accuracy: 0.6741 - val_loss: 0.5936 - val_accuracy: 0.6581\n",
      "Epoch 12/50\n",
      "99/99 [==============================] - 1s 10ms/step - loss: 0.5708 - accuracy: 0.6775 - val_loss: 0.5939 - val_accuracy: 0.6524\n",
      "Epoch 13/50\n",
      "99/99 [==============================] - 1s 10ms/step - loss: 0.5703 - accuracy: 0.6785 - val_loss: 0.5940 - val_accuracy: 0.6325\n",
      "Epoch 14/50\n",
      "99/99 [==============================] - 1s 10ms/step - loss: 0.5708 - accuracy: 0.6782 - val_loss: 0.5903 - val_accuracy: 0.6638\n",
      "Epoch 15/50\n",
      "99/99 [==============================] - 1s 11ms/step - loss: 0.5638 - accuracy: 0.6801 - val_loss: 0.5898 - val_accuracy: 0.6353\n",
      "Epoch 16/50\n",
      "99/99 [==============================] - 1s 10ms/step - loss: 0.5640 - accuracy: 0.6718 - val_loss: 0.5922 - val_accuracy: 0.6467\n",
      "Epoch 17/50\n",
      "99/99 [==============================] - 1s 10ms/step - loss: 0.5609 - accuracy: 0.6817 - val_loss: 0.5874 - val_accuracy: 0.6496\n",
      "Epoch 18/50\n",
      "99/99 [==============================] - 1s 11ms/step - loss: 0.5590 - accuracy: 0.6915 - val_loss: 0.5897 - val_accuracy: 0.6239\n",
      "Epoch 19/50\n",
      "99/99 [==============================] - 1s 10ms/step - loss: 0.5593 - accuracy: 0.6794 - val_loss: 0.5839 - val_accuracy: 0.6439\n",
      "Epoch 20/50\n",
      "99/99 [==============================] - 1s 11ms/step - loss: 0.5553 - accuracy: 0.6883 - val_loss: 0.5860 - val_accuracy: 0.6638\n",
      "Epoch 21/50\n",
      "99/99 [==============================] - 1s 10ms/step - loss: 0.5562 - accuracy: 0.6889 - val_loss: 0.5869 - val_accuracy: 0.6581\n",
      "Epoch 22/50\n",
      "99/99 [==============================] - 1s 11ms/step - loss: 0.5585 - accuracy: 0.6810 - val_loss: 0.5867 - val_accuracy: 0.6581\n",
      "Epoch 23/50\n",
      "99/99 [==============================] - 1s 11ms/step - loss: 0.5542 - accuracy: 0.6832 - val_loss: 0.5850 - val_accuracy: 0.6410\n",
      "Epoch 24/50\n",
      "99/99 [==============================] - 1s 11ms/step - loss: 0.5536 - accuracy: 0.6855 - val_loss: 0.5881 - val_accuracy: 0.6581\n"
     ]
    }
   ],
   "source": [
    "# モデルのトレーニング\n",
    "early_stopping = EarlyStopping(monitor='val_loss', patience=5)\n",
    "history=model.fit(X_train, y_train, epochs=50,validation_split=0.1, batch_size=32,callbacks=[early_stopping])"
   ]
  },
  {
   "cell_type": "code",
   "execution_count": 15,
   "metadata": {},
   "outputs": [
    {
     "name": "stderr",
     "output_type": "stream",
     "text": [
      "2024-10-02 17:57:29.306011: I tensorflow/core/common_runtime/executor.cc:1197] [/device:CPU:0] (DEBUG INFO) Executor start aborting (this does not indicate an error and you can ignore this message): INVALID_ARGUMENT: You must feed a value for placeholder tensor 'Placeholder/_10' with dtype int64 and shape [878,13]\n",
      "\t [[{{node Placeholder/_10}}]]\n",
      "2024-10-02 17:57:29.306360: I tensorflow/core/common_runtime/executor.cc:1197] [/device:CPU:0] (DEBUG INFO) Executor start aborting (this does not indicate an error and you can ignore this message): INVALID_ARGUMENT: You must feed a value for placeholder tensor 'Placeholder/_10' with dtype int64 and shape [878,13]\n",
      "\t [[{{node Placeholder/_10}}]]\n"
     ]
    },
    {
     "name": "stdout",
     "output_type": "stream",
     "text": [
      "28/28 [==============================] - 0s 3ms/step\n"
     ]
    }
   ],
   "source": [
    "# テストデータを使って予測\n",
    "y_pred = model.predict(X_test)"
   ]
  },
  {
   "cell_type": "code",
   "execution_count": null,
   "metadata": {},
   "outputs": [],
   "source": []
  }
 ],
 "metadata": {
  "kernelspec": {
   "display_name": "tf",
   "language": "python",
   "name": "python3"
  },
  "language_info": {
   "codemirror_mode": {
    "name": "ipython",
    "version": 3
   },
   "file_extension": ".py",
   "mimetype": "text/x-python",
   "name": "python",
   "nbconvert_exporter": "python",
   "pygments_lexer": "ipython3",
   "version": "3.11.5"
  }
 },
 "nbformat": 4,
 "nbformat_minor": 2
}
