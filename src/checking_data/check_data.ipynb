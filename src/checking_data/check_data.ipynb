{
 "cells": [
  {
   "cell_type": "code",
   "metadata": {
    "ExecuteTime": {
     "end_time": "2024-10-11T04:50:00.720281Z",
     "start_time": "2024-10-11T04:50:00.712909Z"
    }
   },
   "source": [
    "import pandas as pd\n",
    "import numpy as np\n",
    "import matplotlib.pyplot as plt\n",
    "import seaborn as sns\n",
    "from lightgbm import train\n",
    "from sklearn.model_selection import train_test_split \n",
    "from scipy.stats import beta, bernoulli"
   ],
   "outputs": [],
   "execution_count": 21
  },
  {
   "cell_type": "code",
   "metadata": {
    "ExecuteTime": {
     "end_time": "2024-10-11T04:50:00.787578Z",
     "start_time": "2024-10-11T04:50:00.769920Z"
    }
   },
   "source": [
    "df=pd.read_csv('../../data/preprocessed_data.csv')\n",
    "df.head()"
   ],
   "outputs": [
    {
     "data": {
      "text/plain": [
       "   fever  headache  muscle pain  joint pain  rash  nausea  vomiting  eye pain  \\\n",
       "0      0         1            0           0     1       1         0         0   \n",
       "1      1         0            1           1     1       1         0         1   \n",
       "2      1         0            0           0     0       1         1         0   \n",
       "3      1         0            0           1     0       1         0         1   \n",
       "4      1         0            0           0     1       0         1         1   \n",
       "\n",
       "   abdominal pain  lymphadenopathy  chills  diarrhea  fatigue  dengue  \n",
       "0               1                1       1         0        1       1  \n",
       "1               0                1       0         0        1       0  \n",
       "2               1                0       1         0        1       0  \n",
       "3               1                1       0         1        0       0  \n",
       "4               1                1       0         1        0       1  "
      ],
      "text/html": [
       "<div>\n",
       "<style scoped>\n",
       "    .dataframe tbody tr th:only-of-type {\n",
       "        vertical-align: middle;\n",
       "    }\n",
       "\n",
       "    .dataframe tbody tr th {\n",
       "        vertical-align: top;\n",
       "    }\n",
       "\n",
       "    .dataframe thead th {\n",
       "        text-align: right;\n",
       "    }\n",
       "</style>\n",
       "<table border=\"1\" class=\"dataframe\">\n",
       "  <thead>\n",
       "    <tr style=\"text-align: right;\">\n",
       "      <th></th>\n",
       "      <th>fever</th>\n",
       "      <th>headache</th>\n",
       "      <th>muscle pain</th>\n",
       "      <th>joint pain</th>\n",
       "      <th>rash</th>\n",
       "      <th>nausea</th>\n",
       "      <th>vomiting</th>\n",
       "      <th>eye pain</th>\n",
       "      <th>abdominal pain</th>\n",
       "      <th>lymphadenopathy</th>\n",
       "      <th>chills</th>\n",
       "      <th>diarrhea</th>\n",
       "      <th>fatigue</th>\n",
       "      <th>dengue</th>\n",
       "    </tr>\n",
       "  </thead>\n",
       "  <tbody>\n",
       "    <tr>\n",
       "      <th>0</th>\n",
       "      <td>0</td>\n",
       "      <td>1</td>\n",
       "      <td>0</td>\n",
       "      <td>0</td>\n",
       "      <td>1</td>\n",
       "      <td>1</td>\n",
       "      <td>0</td>\n",
       "      <td>0</td>\n",
       "      <td>1</td>\n",
       "      <td>1</td>\n",
       "      <td>1</td>\n",
       "      <td>0</td>\n",
       "      <td>1</td>\n",
       "      <td>1</td>\n",
       "    </tr>\n",
       "    <tr>\n",
       "      <th>1</th>\n",
       "      <td>1</td>\n",
       "      <td>0</td>\n",
       "      <td>1</td>\n",
       "      <td>1</td>\n",
       "      <td>1</td>\n",
       "      <td>1</td>\n",
       "      <td>0</td>\n",
       "      <td>1</td>\n",
       "      <td>0</td>\n",
       "      <td>1</td>\n",
       "      <td>0</td>\n",
       "      <td>0</td>\n",
       "      <td>1</td>\n",
       "      <td>0</td>\n",
       "    </tr>\n",
       "    <tr>\n",
       "      <th>2</th>\n",
       "      <td>1</td>\n",
       "      <td>0</td>\n",
       "      <td>0</td>\n",
       "      <td>0</td>\n",
       "      <td>0</td>\n",
       "      <td>1</td>\n",
       "      <td>1</td>\n",
       "      <td>0</td>\n",
       "      <td>1</td>\n",
       "      <td>0</td>\n",
       "      <td>1</td>\n",
       "      <td>0</td>\n",
       "      <td>1</td>\n",
       "      <td>0</td>\n",
       "    </tr>\n",
       "    <tr>\n",
       "      <th>3</th>\n",
       "      <td>1</td>\n",
       "      <td>0</td>\n",
       "      <td>0</td>\n",
       "      <td>1</td>\n",
       "      <td>0</td>\n",
       "      <td>1</td>\n",
       "      <td>0</td>\n",
       "      <td>1</td>\n",
       "      <td>1</td>\n",
       "      <td>1</td>\n",
       "      <td>0</td>\n",
       "      <td>1</td>\n",
       "      <td>0</td>\n",
       "      <td>0</td>\n",
       "    </tr>\n",
       "    <tr>\n",
       "      <th>4</th>\n",
       "      <td>1</td>\n",
       "      <td>0</td>\n",
       "      <td>0</td>\n",
       "      <td>0</td>\n",
       "      <td>1</td>\n",
       "      <td>0</td>\n",
       "      <td>1</td>\n",
       "      <td>1</td>\n",
       "      <td>1</td>\n",
       "      <td>1</td>\n",
       "      <td>0</td>\n",
       "      <td>1</td>\n",
       "      <td>0</td>\n",
       "      <td>1</td>\n",
       "    </tr>\n",
       "  </tbody>\n",
       "</table>\n",
       "</div>"
      ]
     },
     "execution_count": 22,
     "metadata": {},
     "output_type": "execute_result"
    }
   ],
   "execution_count": 22
  },
  {
   "metadata": {
    "ExecuteTime": {
     "end_time": "2024-10-11T04:50:00.881515Z",
     "start_time": "2024-10-11T04:50:00.869132Z"
    }
   },
   "cell_type": "code",
   "source": [
    "for colum in df.columns:\n",
    "    print(df[colum].value_counts())"
   ],
   "outputs": [
    {
     "name": "stdout",
     "output_type": "stream",
     "text": [
      "fever\n",
      "1    2817\n",
      "0    1569\n",
      "Name: count, dtype: int64\n",
      "headache\n",
      "0    2213\n",
      "1    2173\n",
      "Name: count, dtype: int64\n",
      "muscle pain\n",
      "0    2679\n",
      "1    1707\n",
      "Name: count, dtype: int64\n",
      "joint pain\n",
      "0    2457\n",
      "1    1929\n",
      "Name: count, dtype: int64\n",
      "rash\n",
      "0    2811\n",
      "1    1575\n",
      "Name: count, dtype: int64\n",
      "nausea\n",
      "0    2537\n",
      "1    1849\n",
      "Name: count, dtype: int64\n",
      "vomiting\n",
      "0    2417\n",
      "1    1969\n",
      "Name: count, dtype: int64\n",
      "eye pain\n",
      "0    2387\n",
      "1    1999\n",
      "Name: count, dtype: int64\n",
      "abdominal pain\n",
      "0    2741\n",
      "1    1645\n",
      "Name: count, dtype: int64\n",
      "lymphadenopathy\n",
      "0    2574\n",
      "1    1812\n",
      "Name: count, dtype: int64\n",
      "chills\n",
      "1    2473\n",
      "0    1913\n",
      "Name: count, dtype: int64\n",
      "diarrhea\n",
      "0    2871\n",
      "1    1515\n",
      "Name: count, dtype: int64\n",
      "fatigue\n",
      "0    2880\n",
      "1    1506\n",
      "Name: count, dtype: int64\n",
      "dengue\n",
      "0    2472\n",
      "1    1914\n",
      "Name: count, dtype: int64\n"
     ]
    }
   ],
   "execution_count": 23
  },
  {
   "metadata": {
    "ExecuteTime": {
     "end_time": "2024-10-11T04:50:00.939145Z",
     "start_time": "2024-10-11T04:50:00.924901Z"
    }
   },
   "cell_type": "code",
   "source": [
    "# ベータ分布に基づいてバイナリ特徴量の生成を行う\n",
    "# ベータ分布のパラメータ alpha, beta を決定するため、各特徴量の0,1の出現頻度を計算\n",
    "n_samples = 5000  # 生成するサンプルの数\n",
    "generated_data = []\n",
    "\n",
    "for col in df.columns:\n",
    "    positive_count = df[col].sum()  # 1の数\n",
    "    negative_count = len(df[col]) - positive_count  # 0の数\n",
    "\n",
    "    # ベータ分布のパラメータを計算 (ラプラススムージング: +1)\n",
    "    alpha = positive_count + 1\n",
    "    beta_param = negative_count + 1\n",
    "\n",
    "    # ベータ分布に基づいてサンプルを生成 (1が出る確率を推定)\n",
    "    probability = beta.rvs(alpha, beta_param)\n",
    "    \n",
    "    # 推定された確率に基づいてベルヌーイ分布から新しいサンプルを生成\n",
    "    generated_feature = bernoulli.rvs(probability, size=n_samples)\n",
    "    generated_data.append(generated_feature)\n",
    "\n",
    "# 生成されたデータをDataFrameに変換\n",
    "generated_df = pd.DataFrame(np.array(generated_data).T, columns=df.columns)"
   ],
   "outputs": [],
   "execution_count": 24
  },
  {
   "metadata": {
    "ExecuteTime": {
     "end_time": "2024-10-11T04:50:01.042074Z",
     "start_time": "2024-10-11T04:50:01.023091Z"
    }
   },
   "cell_type": "code",
   "source": [
    "for colum in generated_df.columns:\n",
    "    print(generated_df[colum].value_counts())"
   ],
   "outputs": [
    {
     "name": "stdout",
     "output_type": "stream",
     "text": [
      "fever\n",
      "1    3198\n",
      "0    1802\n",
      "Name: count, dtype: int64\n",
      "headache\n",
      "0    2531\n",
      "1    2469\n",
      "Name: count, dtype: int64\n",
      "muscle pain\n",
      "0    3025\n",
      "1    1975\n",
      "Name: count, dtype: int64\n",
      "joint pain\n",
      "0    2836\n",
      "1    2164\n",
      "Name: count, dtype: int64\n",
      "rash\n",
      "0    3332\n",
      "1    1668\n",
      "Name: count, dtype: int64\n",
      "nausea\n",
      "0    2925\n",
      "1    2075\n",
      "Name: count, dtype: int64\n",
      "vomiting\n",
      "0    2670\n",
      "1    2330\n",
      "Name: count, dtype: int64\n",
      "eye pain\n",
      "0    2694\n",
      "1    2306\n",
      "Name: count, dtype: int64\n",
      "abdominal pain\n",
      "0    3096\n",
      "1    1904\n",
      "Name: count, dtype: int64\n",
      "lymphadenopathy\n",
      "0    2911\n",
      "1    2089\n",
      "Name: count, dtype: int64\n",
      "chills\n",
      "1    2766\n",
      "0    2234\n",
      "Name: count, dtype: int64\n",
      "diarrhea\n",
      "0    3263\n",
      "1    1737\n",
      "Name: count, dtype: int64\n",
      "fatigue\n",
      "0    3289\n",
      "1    1711\n",
      "Name: count, dtype: int64\n",
      "dengue\n",
      "0    2741\n",
      "1    2259\n",
      "Name: count, dtype: int64\n"
     ]
    }
   ],
   "execution_count": 25
  },
  {
   "metadata": {
    "ExecuteTime": {
     "end_time": "2024-10-11T04:50:01.257355Z",
     "start_time": "2024-10-11T04:50:01.251962Z"
    }
   },
   "cell_type": "code",
   "source": [
    "data_count=len(df)+len(generated_df)\n",
    "data_count"
   ],
   "outputs": [
    {
     "data": {
      "text/plain": [
       "9386"
      ]
     },
     "execution_count": 26,
     "metadata": {},
     "output_type": "execute_result"
    }
   ],
   "execution_count": 26
  },
  {
   "metadata": {
    "ExecuteTime": {
     "end_time": "2024-10-11T04:50:01.376660Z",
     "start_time": "2024-10-11T04:50:01.370761Z"
    }
   },
   "cell_type": "code",
   "source": [
    "#trainデータ\n",
    "train=df[:int(len(df)*0.6)]\n",
    "train=pd.concat([train,generated_df],axis=0, ignore_index=True)\n",
    "\n",
    "#testデータ\n",
    "test=df[int(len(df)*0.6):]"
   ],
   "outputs": [],
   "execution_count": 27
  },
  {
   "metadata": {
    "ExecuteTime": {
     "end_time": "2024-10-11T04:50:01.451474Z",
     "start_time": "2024-10-11T04:50:01.442974Z"
    }
   },
   "cell_type": "code",
   "source": "len(test)/len(train)",
   "outputs": [
    {
     "data": {
      "text/plain": [
       "0.22998296422487224"
      ]
     },
     "execution_count": 28,
     "metadata": {},
     "output_type": "execute_result"
    }
   ],
   "execution_count": 28
  },
  {
   "metadata": {
    "ExecuteTime": {
     "end_time": "2024-10-11T04:50:01.620937Z",
     "start_time": "2024-10-11T04:50:01.559121Z"
    }
   },
   "cell_type": "code",
   "source": [
    "train.to_csv('../../data/train.csv',index=False)\n",
    "test.to_csv('../../data/test.csv',index=False)"
   ],
   "outputs": [],
   "execution_count": 29
  },
  {
   "metadata": {
    "ExecuteTime": {
     "end_time": "2024-10-11T05:47:45.150183Z",
     "start_time": "2024-10-11T05:47:45.134726Z"
    }
   },
   "cell_type": "code",
   "source": "df['dengue'].value_counts()",
   "outputs": [
    {
     "data": {
      "text/plain": [
       "dengue\n",
       "0    2472\n",
       "1    1914\n",
       "Name: count, dtype: int64"
      ]
     },
     "execution_count": 33,
     "metadata": {},
     "output_type": "execute_result"
    }
   ],
   "execution_count": 33
  },
  {
   "metadata": {
    "ExecuteTime": {
     "end_time": "2024-10-11T05:48:06.524160Z",
     "start_time": "2024-10-11T05:48:06.498525Z"
    }
   },
   "cell_type": "code",
   "source": "train['dengue'].value_counts()",
   "outputs": [
    {
     "data": {
      "text/plain": [
       "dengue\n",
       "0    4056\n",
       "1    3575\n",
       "Name: count, dtype: int64"
      ]
     },
     "execution_count": 34,
     "metadata": {},
     "output_type": "execute_result"
    }
   ],
   "execution_count": 34
  },
  {
   "metadata": {},
   "cell_type": "code",
   "outputs": [],
   "execution_count": null,
   "source": ""
  }
 ],
 "metadata": {
  "kernelspec": {
   "display_name": "dengue",
   "language": "python",
   "name": "python3"
  },
  "language_info": {
   "codemirror_mode": {
    "name": "ipython",
    "version": 3
   },
   "file_extension": ".py",
   "mimetype": "text/x-python",
   "name": "python",
   "nbconvert_exporter": "python",
   "pygments_lexer": "ipython3",
   "version": "3.11.5"
  }
 },
 "nbformat": 4,
 "nbformat_minor": 2
}
