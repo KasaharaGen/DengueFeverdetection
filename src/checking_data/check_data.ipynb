{
 "cells": [
  {
   "cell_type": "code",
   "execution_count": 12,
   "metadata": {
    "ExecuteTime": {
     "end_time": "2024-10-11T04:50:00.720281Z",
     "start_time": "2024-10-11T04:50:00.712909Z"
    }
   },
   "outputs": [],
   "source": [
    "import pandas as pd\n",
    "import numpy as np\n",
    "import matplotlib.pyplot as plt\n",
    "import seaborn as sns\n",
    "from sklearn.model_selection import train_test_split \n",
    "from scipy.stats import beta, bernoulli"
   ]
  },
  {
   "cell_type": "code",
   "execution_count": 13,
   "metadata": {
    "ExecuteTime": {
     "end_time": "2024-10-11T04:50:00.787578Z",
     "start_time": "2024-10-11T04:50:00.769920Z"
    }
   },
   "outputs": [
    {
     "data": {
      "text/html": [
       "<div>\n",
       "<style scoped>\n",
       "    .dataframe tbody tr th:only-of-type {\n",
       "        vertical-align: middle;\n",
       "    }\n",
       "\n",
       "    .dataframe tbody tr th {\n",
       "        vertical-align: top;\n",
       "    }\n",
       "\n",
       "    .dataframe thead th {\n",
       "        text-align: right;\n",
       "    }\n",
       "</style>\n",
       "<table border=\"1\" class=\"dataframe\">\n",
       "  <thead>\n",
       "    <tr style=\"text-align: right;\">\n",
       "      <th></th>\n",
       "      <th>fever</th>\n",
       "      <th>headache</th>\n",
       "      <th>muscle pain</th>\n",
       "      <th>joint pain</th>\n",
       "      <th>rash</th>\n",
       "      <th>nausea</th>\n",
       "      <th>vomiting</th>\n",
       "      <th>eye pain</th>\n",
       "      <th>abdominal pain</th>\n",
       "      <th>lymphadenopathy</th>\n",
       "      <th>chills</th>\n",
       "      <th>diarrhea</th>\n",
       "      <th>fatigue</th>\n",
       "      <th>dengue</th>\n",
       "    </tr>\n",
       "  </thead>\n",
       "  <tbody>\n",
       "    <tr>\n",
       "      <th>0</th>\n",
       "      <td>0</td>\n",
       "      <td>1</td>\n",
       "      <td>0</td>\n",
       "      <td>0</td>\n",
       "      <td>1</td>\n",
       "      <td>1</td>\n",
       "      <td>0</td>\n",
       "      <td>0</td>\n",
       "      <td>1</td>\n",
       "      <td>1</td>\n",
       "      <td>1</td>\n",
       "      <td>0</td>\n",
       "      <td>1</td>\n",
       "      <td>1</td>\n",
       "    </tr>\n",
       "    <tr>\n",
       "      <th>1</th>\n",
       "      <td>1</td>\n",
       "      <td>0</td>\n",
       "      <td>1</td>\n",
       "      <td>1</td>\n",
       "      <td>1</td>\n",
       "      <td>1</td>\n",
       "      <td>0</td>\n",
       "      <td>1</td>\n",
       "      <td>0</td>\n",
       "      <td>1</td>\n",
       "      <td>0</td>\n",
       "      <td>0</td>\n",
       "      <td>1</td>\n",
       "      <td>0</td>\n",
       "    </tr>\n",
       "    <tr>\n",
       "      <th>2</th>\n",
       "      <td>1</td>\n",
       "      <td>0</td>\n",
       "      <td>0</td>\n",
       "      <td>0</td>\n",
       "      <td>0</td>\n",
       "      <td>1</td>\n",
       "      <td>1</td>\n",
       "      <td>0</td>\n",
       "      <td>1</td>\n",
       "      <td>0</td>\n",
       "      <td>1</td>\n",
       "      <td>0</td>\n",
       "      <td>1</td>\n",
       "      <td>0</td>\n",
       "    </tr>\n",
       "    <tr>\n",
       "      <th>3</th>\n",
       "      <td>1</td>\n",
       "      <td>0</td>\n",
       "      <td>0</td>\n",
       "      <td>1</td>\n",
       "      <td>0</td>\n",
       "      <td>1</td>\n",
       "      <td>0</td>\n",
       "      <td>1</td>\n",
       "      <td>1</td>\n",
       "      <td>1</td>\n",
       "      <td>0</td>\n",
       "      <td>1</td>\n",
       "      <td>0</td>\n",
       "      <td>0</td>\n",
       "    </tr>\n",
       "    <tr>\n",
       "      <th>4</th>\n",
       "      <td>1</td>\n",
       "      <td>0</td>\n",
       "      <td>0</td>\n",
       "      <td>0</td>\n",
       "      <td>1</td>\n",
       "      <td>0</td>\n",
       "      <td>1</td>\n",
       "      <td>1</td>\n",
       "      <td>1</td>\n",
       "      <td>1</td>\n",
       "      <td>0</td>\n",
       "      <td>1</td>\n",
       "      <td>0</td>\n",
       "      <td>1</td>\n",
       "    </tr>\n",
       "  </tbody>\n",
       "</table>\n",
       "</div>"
      ],
      "text/plain": [
       "   fever  headache  muscle pain  joint pain  rash  nausea  vomiting  eye pain  \\\n",
       "0      0         1            0           0     1       1         0         0   \n",
       "1      1         0            1           1     1       1         0         1   \n",
       "2      1         0            0           0     0       1         1         0   \n",
       "3      1         0            0           1     0       1         0         1   \n",
       "4      1         0            0           0     1       0         1         1   \n",
       "\n",
       "   abdominal pain  lymphadenopathy  chills  diarrhea  fatigue  dengue  \n",
       "0               1                1       1         0        1       1  \n",
       "1               0                1       0         0        1       0  \n",
       "2               1                0       1         0        1       0  \n",
       "3               1                1       0         1        0       0  \n",
       "4               1                1       0         1        0       1  "
      ]
     },
     "execution_count": 13,
     "metadata": {},
     "output_type": "execute_result"
    }
   ],
   "source": [
    "df=pd.read_csv('../../data/preprocessed_data.csv')\n",
    "df.head()"
   ]
  },
  {
   "cell_type": "code",
   "execution_count": 14,
   "metadata": {
    "ExecuteTime": {
     "end_time": "2024-10-11T04:50:00.881515Z",
     "start_time": "2024-10-11T04:50:00.869132Z"
    }
   },
   "outputs": [
    {
     "name": "stdout",
     "output_type": "stream",
     "text": [
      "fever\n",
      "1    2817\n",
      "0    1569\n",
      "Name: count, dtype: int64\n",
      "headache\n",
      "0    2213\n",
      "1    2173\n",
      "Name: count, dtype: int64\n",
      "muscle pain\n",
      "0    2679\n",
      "1    1707\n",
      "Name: count, dtype: int64\n",
      "joint pain\n",
      "0    2457\n",
      "1    1929\n",
      "Name: count, dtype: int64\n",
      "rash\n",
      "0    2811\n",
      "1    1575\n",
      "Name: count, dtype: int64\n",
      "nausea\n",
      "0    2537\n",
      "1    1849\n",
      "Name: count, dtype: int64\n",
      "vomiting\n",
      "0    2417\n",
      "1    1969\n",
      "Name: count, dtype: int64\n",
      "eye pain\n",
      "0    2387\n",
      "1    1999\n",
      "Name: count, dtype: int64\n",
      "abdominal pain\n",
      "0    2741\n",
      "1    1645\n",
      "Name: count, dtype: int64\n",
      "lymphadenopathy\n",
      "0    2574\n",
      "1    1812\n",
      "Name: count, dtype: int64\n",
      "chills\n",
      "1    2473\n",
      "0    1913\n",
      "Name: count, dtype: int64\n",
      "diarrhea\n",
      "0    2871\n",
      "1    1515\n",
      "Name: count, dtype: int64\n",
      "fatigue\n",
      "0    2880\n",
      "1    1506\n",
      "Name: count, dtype: int64\n",
      "dengue\n",
      "0    2472\n",
      "1    1914\n",
      "Name: count, dtype: int64\n"
     ]
    }
   ],
   "source": [
    "for colum in df.columns:\n",
    "    print(df[colum].value_counts())"
   ]
  },
  {
   "cell_type": "code",
   "execution_count": 15,
   "metadata": {
    "ExecuteTime": {
     "end_time": "2024-10-11T04:50:00.939145Z",
     "start_time": "2024-10-11T04:50:00.924901Z"
    }
   },
   "outputs": [],
   "source": [
    "# ベータ分布に基づいてバイナリ特徴量の生成を行う\n",
    "# ベータ分布のパラメータ alpha, beta を決定するため、各特徴量の0,1の出現頻度を計算\n",
    "n_samples = 5000  # 生成するサンプルの数\n",
    "generated_data = []\n",
    "\n",
    "for col in df.columns:\n",
    "    positive_count = df[col].sum()  # 1の数\n",
    "    negative_count = len(df[col]) - positive_count  # 0の数\n",
    "\n",
    "    # ベータ分布のパラメータを計算 (ラプラススムージング: +1)\n",
    "    alpha = positive_count + 1\n",
    "    beta_param = negative_count + 1\n",
    "\n",
    "    # ベータ分布に基づいてサンプルを生成 (1が出る確率を推定)\n",
    "    probability = beta.rvs(alpha, beta_param)\n",
    "    \n",
    "    # 推定された確率に基づいてベルヌーイ分布から新しいサンプルを生成\n",
    "    generated_feature = bernoulli.rvs(probability, size=n_samples)\n",
    "    generated_data.append(generated_feature)\n",
    "\n",
    "# 生成されたデータをDataFrameに変換\n",
    "generated_df = pd.DataFrame(np.array(generated_data).T, columns=df.columns)"
   ]
  },
  {
   "cell_type": "code",
   "execution_count": 16,
   "metadata": {
    "ExecuteTime": {
     "end_time": "2024-10-11T04:50:01.042074Z",
     "start_time": "2024-10-11T04:50:01.023091Z"
    }
   },
   "outputs": [
    {
     "name": "stdout",
     "output_type": "stream",
     "text": [
      "fever\n",
      "1    3256\n",
      "0    1744\n",
      "Name: count, dtype: int64\n",
      "headache\n",
      "1    2532\n",
      "0    2468\n",
      "Name: count, dtype: int64\n",
      "muscle pain\n",
      "0    3144\n",
      "1    1856\n",
      "Name: count, dtype: int64\n",
      "joint pain\n",
      "0    2703\n",
      "1    2297\n",
      "Name: count, dtype: int64\n",
      "rash\n",
      "0    3192\n",
      "1    1808\n",
      "Name: count, dtype: int64\n",
      "nausea\n",
      "0    2948\n",
      "1    2052\n",
      "Name: count, dtype: int64\n",
      "vomiting\n",
      "0    2735\n",
      "1    2265\n",
      "Name: count, dtype: int64\n",
      "eye pain\n",
      "0    2632\n",
      "1    2368\n",
      "Name: count, dtype: int64\n",
      "abdominal pain\n",
      "0    3169\n",
      "1    1831\n",
      "Name: count, dtype: int64\n",
      "lymphadenopathy\n",
      "0    2907\n",
      "1    2093\n",
      "Name: count, dtype: int64\n",
      "chills\n",
      "1    2819\n",
      "0    2181\n",
      "Name: count, dtype: int64\n",
      "diarrhea\n",
      "0    3284\n",
      "1    1716\n",
      "Name: count, dtype: int64\n",
      "fatigue\n",
      "0    3188\n",
      "1    1812\n",
      "Name: count, dtype: int64\n",
      "dengue\n",
      "0    2782\n",
      "1    2218\n",
      "Name: count, dtype: int64\n"
     ]
    }
   ],
   "source": [
    "for colum in generated_df.columns:\n",
    "    print(generated_df[colum].value_counts())"
   ]
  },
  {
   "cell_type": "code",
   "execution_count": 17,
   "metadata": {
    "ExecuteTime": {
     "end_time": "2024-10-11T04:50:01.257355Z",
     "start_time": "2024-10-11T04:50:01.251962Z"
    }
   },
   "outputs": [
    {
     "data": {
      "text/plain": [
       "9386"
      ]
     },
     "execution_count": 17,
     "metadata": {},
     "output_type": "execute_result"
    }
   ],
   "source": [
    "data_count=len(df)+len(generated_df)\n",
    "data_count"
   ]
  },
  {
   "cell_type": "code",
   "execution_count": 18,
   "metadata": {
    "ExecuteTime": {
     "end_time": "2024-10-11T04:50:01.376660Z",
     "start_time": "2024-10-11T04:50:01.370761Z"
    }
   },
   "outputs": [],
   "source": [
    "data=pd.concat([df,generated_df],axis=0, ignore_index=True)"
   ]
  },
  {
   "cell_type": "code",
   "execution_count": 19,
   "metadata": {
    "ExecuteTime": {
     "end_time": "2024-10-11T04:50:01.620937Z",
     "start_time": "2024-10-11T04:50:01.559121Z"
    }
   },
   "outputs": [],
   "source": [
    "data.to_csv('../../data/learning_data.csv',index=False)"
   ]
  }
 ],
 "metadata": {
  "kernelspec": {
   "display_name": "torch",
   "language": "python",
   "name": "python3"
  },
  "language_info": {
   "codemirror_mode": {
    "name": "ipython",
    "version": 3
   },
   "file_extension": ".py",
   "mimetype": "text/x-python",
   "name": "python",
   "nbconvert_exporter": "python",
   "pygments_lexer": "ipython3",
   "version": "3.12.7"
  }
 },
 "nbformat": 4,
 "nbformat_minor": 2
}
