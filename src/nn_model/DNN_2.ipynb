{
 "cells": [
  {
   "cell_type": "code",
   "execution_count": 30,
   "metadata": {},
   "outputs": [],
   "source": [
    "import numpy as np\n",
    "import pandas as pd\n",
    "import matplotlib.pyplot as plt\n",
    "import seaborn as sns\n",
    "\n",
    "import torch\n",
    "import torch.nn as nn\n",
    "import torch.optim as optim\n",
    "\n",
    "import optuna\n",
    "\n",
    "from sklearn.model_selection import train_test_split\n",
    "from sklearn.metrics import confusion_matrix,accuracy_score, precision_score, recall_score, f1_score, confusion_matrix, roc_curve, auc,matthews_corrcoef, precision_recall_curve,roc_auc_score\n",
    "\n"
   ]
  },
  {
   "cell_type": "markdown",
   "metadata": {},
   "source": [
    "データ読み取り"
   ]
  },
  {
   "cell_type": "code",
   "execution_count": 31,
   "metadata": {},
   "outputs": [],
   "source": [
    "df=pd.read_csv('../../data/learning_data.csv',index_col=0)\n",
    "\n",
    "X=df.drop(columns='dengue',axis=1).values\n",
    "y=df['dengue'].values\n",
    "\n",
    "X_train, X_test, y_train, y_test = train_test_split(X, y, test_size=0.2,random_state=42)\n",
    "X_train, X_val, y_train, y_val = train_test_split(X_train, y_train, test_size=0.1,random_state=42)\n",
    "\n",
    "#torchテンソルに変換\n",
    "X_train_tensor = torch.tensor(X_train, dtype=torch.float32)\n",
    "y_train_tensor = torch.tensor(y_train, dtype=torch.float32)\n",
    "X_test_tensor = torch.tensor(X_test, dtype=torch.float32)\n",
    "y_test_tensor = torch.tensor(y_test, dtype=torch.float32)\n",
    "X_val_tensor = torch.tensor(X_val, dtype=torch.float32)\n",
    "y_val_tensor = torch.tensor(y_val, dtype=torch.float32)\n"
   ]
  },
  {
   "cell_type": "code",
   "execution_count": 32,
   "metadata": {},
   "outputs": [],
   "source": [
    "class DNN_2(nn.Module):\n",
    "    def __init__(self, input_dim,hidden_units1,hidden_units2,hidden_units3,hidden_units4,dropout1,dropout2,dropout3,dropout4):\n",
    "        super(DNN_2, self).__init__()\n",
    "        self.layer1 = nn.Linear(input_dim,hidden_units1)\n",
    "        self.layer2 = nn.Linear(hidden_units1,hidden_units2)\n",
    "        self.layer3 = nn.Linear(hidden_units2, hidden_units3)\n",
    "        self.layer4 = nn.Linear(hidden_units3, hidden_units4)\n",
    "        self.output_layer = nn.Linear(hidden_units4, 1)\n",
    "\n",
    "        self.dropout1 = nn.Dropout(dropout1)\n",
    "        self.dropout2 = nn.Dropout(dropout2)\n",
    "        self.dropout3 = nn.Dropout(dropout3)\n",
    "        self.dropout4 = nn.Dropout(dropout4)\n",
    "\n",
    "\n",
    "        self.bn1 = nn.BatchNorm1d(hidden_units1)\n",
    "        self.bn2 = nn.BatchNorm1d(hidden_units2)\n",
    "        self.bn3 = nn.BatchNorm1d(hidden_units3)\n",
    "        self.bn4 = nn.BatchNorm1d(hidden_units4)\n",
    "\n",
    "        \n",
    "        \n",
    "    def forward(self, x):\n",
    "        x = torch.relu(self.bn1(self.layer1(x)))\n",
    "        x = self.dropout1(x)\n",
    "        \n",
    "        x = torch.relu(self.bn2(self.layer2(x)))\n",
    "        x = self.dropout2(x)\n",
    "\n",
    "        x = torch.relu(self.bn3(self.layer3(x)))\n",
    "        x = self.dropout3(x)\n",
    "\n",
    "        x = torch.relu(self.bn4(self.layer4(x)))\n",
    "        x = self.dropout4(x)\n",
    "\n",
    "        x = torch.sigmoid(self.output_layer(x)) \n",
    "        return x\n",
    "    "
   ]
  },
  {
   "cell_type": "markdown",
   "metadata": {},
   "source": [
    "学習データセットの作成"
   ]
  },
  {
   "cell_type": "code",
   "execution_count": 33,
   "metadata": {},
   "outputs": [],
   "source": [
    "train_dataset = torch.utils.data.TensorDataset(X_train_tensor, y_train_tensor)\n",
    "train_loader = torch.utils.data.DataLoader(dataset=train_dataset, batch_size=32, shuffle=True)\n",
    "\n",
    "val_dataset = torch.utils.data.TensorDataset(X_val_tensor, y_val_tensor)\n",
    "val_loader = torch.utils.data.DataLoader(dataset=val_dataset, batch_size=32, shuffle=False)"
   ]
  },
  {
   "cell_type": "markdown",
   "metadata": {},
   "source": [
    "Optunaの設定"
   ]
  },
  {
   "cell_type": "code",
   "execution_count": 34,
   "metadata": {},
   "outputs": [],
   "source": [
    "def objective(trial):\n",
    "    # ハイパーパラメータのサンプリング\n",
    "    hidden_units1 = trial.suggest_int(\"hidden_units1\", 216, 512, step=2)\n",
    "    hidden_units2 = trial.suggest_int(\"hidden_units2\", 128, 216, step=2)\n",
    "    hidden_units3 = trial.suggest_int(\"hidden_units3\", 64, 128, step=2)\n",
    "    hidden_units4 = trial.suggest_int(\"hidden_units4\", 4, 64, step=2)\n",
    "    dropout1 = trial.suggest_float(\"dropout1\", 0, 0.5, step=0.05)\n",
    "    dropout2 = trial.suggest_float(\"dropout2\", 0, 0.5, step=0.05)\n",
    "    dropout3 = trial.suggest_float(\"dropout3\", 0, 0.5, step=0.05)\n",
    "    dropout4 = trial.suggest_float(\"dropout4\", 0, 0.5, step=0.05)\n",
    "    learning_rate = trial.suggest_loguniform(\"learning_rate\", 1e-4, 1e-2)  # 範囲を調整\n",
    "\n",
    "    # モデル定義\n",
    "    model = DNN_2(\n",
    "        input_dim=X_train_tensor.shape[1],\n",
    "        hidden_units1=hidden_units1,\n",
    "        hidden_units2=hidden_units2,\n",
    "        hidden_units3=hidden_units3,\n",
    "        hidden_units4=hidden_units4,\n",
    "        dropout1=dropout1,\n",
    "        dropout2=dropout2,\n",
    "        dropout3=dropout3,\n",
    "        dropout4=dropout4\n",
    "    ).to(device)\n",
    "\n",
    "    criterion = nn.BCELoss()\n",
    "    optimizer = torch.optim.Adam(model.parameters(), lr=learning_rate)\n",
    "\n",
    "    # Early Stoppingの設定\n",
    "    patience = 10\n",
    "    best_val_loss = float('inf')\n",
    "    patience_counter = 0\n",
    "\n",
    "    # 訓練ループ\n",
    "    num_epochs = 100\n",
    "    for epoch in range(num_epochs):\n",
    "        model.train()\n",
    "        for X_batch, y_batch in train_loader:\n",
    "            X_batch, y_batch = X_batch.to(device), y_batch.to(device)\n",
    "            optimizer.zero_grad()\n",
    "            outputs = model(X_batch).squeeze()\n",
    "            loss = criterion(outputs, y_batch)\n",
    "            loss.backward()\n",
    "            optimizer.step()\n",
    "\n",
    "        # バリデーション評価\n",
    "        model.eval()\n",
    "        val_loss = 0\n",
    "        val_true, val_pred = [], []\n",
    "        with torch.no_grad():\n",
    "            for X_val, y_val in val_loader:\n",
    "                X_val, y_val = X_val.to(device), y_val.to(device)\n",
    "                val_outputs = model(X_val).squeeze()\n",
    "                val_loss += criterion(val_outputs, y_val).item()\n",
    "                predictions = (val_outputs >= 0.5).float()  # 閾値を0.5に修正\n",
    "                val_true.extend(y_val.cpu().numpy())\n",
    "                val_pred.extend(predictions.cpu().numpy())\n",
    "\n",
    "        val_loss /= len(val_loader)\n",
    "\n",
    "        # Early Stopping判定\n",
    "        if val_loss < best_val_loss:\n",
    "            best_val_loss = val_loss\n",
    "            patience_counter = 0\n",
    "        else:\n",
    "            patience_counter += 1\n",
    "\n",
    "        if patience_counter >= patience:\n",
    "            print(f\"Early stopping at epoch {epoch}\")\n",
    "            break\n",
    "\n",
    "        # Optunaへのログ\n",
    "        trial.report(val_loss, epoch)\n",
    "        if trial.should_prune():\n",
    "            raise optuna.exceptions.TrialPruned()\n",
    "\n",
    "    # 評価指標の計算\n",
    "    mcc = matthews_corrcoef(val_true, val_pred)\n",
    "    print(f\"Final MCC: {mcc:.4f}\")\n",
    "\n",
    "    return mcc  # mccを返す\n"
   ]
  },
  {
   "cell_type": "code",
   "execution_count": 35,
   "metadata": {},
   "outputs": [
    {
     "name": "stderr",
     "output_type": "stream",
     "text": [
      "[I 2024-11-29 18:13:10,000] A new study created in memory with name: no-name-a48e8a14-d15c-4cac-b0d1-003feba6a1ca\n",
      "/tmp/ipykernel_183729/2028656304.py:11: FutureWarning: suggest_loguniform has been deprecated in v3.0.0. This feature will be removed in v6.0.0. See https://github.com/optuna/optuna/releases/tag/v3.0.0. Use suggest_float(..., log=True) instead.\n",
      "  learning_rate = trial.suggest_loguniform(\"learning_rate\", 1e-4, 1e-2)  # 範囲を調整\n",
      "[I 2024-11-29 18:13:25,028] Trial 0 finished with value: 0.0 and parameters: {'hidden_units1': 246, 'hidden_units2': 148, 'hidden_units3': 78, 'hidden_units4': 24, 'dropout1': 0.5, 'dropout2': 0.5, 'dropout3': 0.5, 'dropout4': 0.45, 'learning_rate': 0.008749099201642695}. Best is trial 0 with value: 0.0.\n"
     ]
    },
    {
     "name": "stdout",
     "output_type": "stream",
     "text": [
      "Early stopping at epoch 30\n",
      "Final MCC: 0.0000\n"
     ]
    },
    {
     "name": "stderr",
     "output_type": "stream",
     "text": [
      "/tmp/ipykernel_183729/2028656304.py:11: FutureWarning: suggest_loguniform has been deprecated in v3.0.0. This feature will be removed in v6.0.0. See https://github.com/optuna/optuna/releases/tag/v3.0.0. Use suggest_float(..., log=True) instead.\n",
      "  learning_rate = trial.suggest_loguniform(\"learning_rate\", 1e-4, 1e-2)  # 範囲を調整\n",
      "[I 2024-11-29 18:13:31,443] Trial 1 finished with value: 0.2106087778715399 and parameters: {'hidden_units1': 234, 'hidden_units2': 216, 'hidden_units3': 74, 'hidden_units4': 26, 'dropout1': 0.0, 'dropout2': 0.30000000000000004, 'dropout3': 0.30000000000000004, 'dropout4': 0.1, 'learning_rate': 0.0031782819471316247}. Best is trial 1 with value: 0.2106087778715399.\n"
     ]
    },
    {
     "name": "stdout",
     "output_type": "stream",
     "text": [
      "Early stopping at epoch 13\n",
      "Final MCC: 0.2106\n"
     ]
    },
    {
     "name": "stderr",
     "output_type": "stream",
     "text": [
      "/tmp/ipykernel_183729/2028656304.py:11: FutureWarning: suggest_loguniform has been deprecated in v3.0.0. This feature will be removed in v6.0.0. See https://github.com/optuna/optuna/releases/tag/v3.0.0. Use suggest_float(..., log=True) instead.\n",
      "  learning_rate = trial.suggest_loguniform(\"learning_rate\", 1e-4, 1e-2)  # 範囲を調整\n",
      "[I 2024-11-29 18:13:39,929] Trial 2 finished with value: 0.12480195223650359 and parameters: {'hidden_units1': 492, 'hidden_units2': 214, 'hidden_units3': 114, 'hidden_units4': 24, 'dropout1': 0.2, 'dropout2': 0.45, 'dropout3': 0.0, 'dropout4': 0.2, 'learning_rate': 0.008910747805139946}. Best is trial 1 with value: 0.2106087778715399.\n"
     ]
    },
    {
     "name": "stdout",
     "output_type": "stream",
     "text": [
      "Early stopping at epoch 17\n",
      "Final MCC: 0.1248\n"
     ]
    },
    {
     "name": "stderr",
     "output_type": "stream",
     "text": [
      "/tmp/ipykernel_183729/2028656304.py:11: FutureWarning: suggest_loguniform has been deprecated in v3.0.0. This feature will be removed in v6.0.0. See https://github.com/optuna/optuna/releases/tag/v3.0.0. Use suggest_float(..., log=True) instead.\n",
      "  learning_rate = trial.suggest_loguniform(\"learning_rate\", 1e-4, 1e-2)  # 範囲を調整\n",
      "[I 2024-11-29 18:14:01,028] Trial 3 finished with value: 0.14746466690226387 and parameters: {'hidden_units1': 430, 'hidden_units2': 144, 'hidden_units3': 116, 'hidden_units4': 18, 'dropout1': 0.45, 'dropout2': 0.30000000000000004, 'dropout3': 0.5, 'dropout4': 0.25, 'learning_rate': 0.00022199598355182972}. Best is trial 1 with value: 0.2106087778715399.\n"
     ]
    },
    {
     "name": "stdout",
     "output_type": "stream",
     "text": [
      "Early stopping at epoch 44\n",
      "Final MCC: 0.1475\n"
     ]
    },
    {
     "name": "stderr",
     "output_type": "stream",
     "text": [
      "/tmp/ipykernel_183729/2028656304.py:11: FutureWarning: suggest_loguniform has been deprecated in v3.0.0. This feature will be removed in v6.0.0. See https://github.com/optuna/optuna/releases/tag/v3.0.0. Use suggest_float(..., log=True) instead.\n",
      "  learning_rate = trial.suggest_loguniform(\"learning_rate\", 1e-4, 1e-2)  # 範囲を調整\n",
      "[I 2024-11-29 18:14:11,429] Trial 4 finished with value: 0.13974933767839096 and parameters: {'hidden_units1': 488, 'hidden_units2': 194, 'hidden_units3': 124, 'hidden_units4': 20, 'dropout1': 0.0, 'dropout2': 0.45, 'dropout3': 0.0, 'dropout4': 0.30000000000000004, 'learning_rate': 0.00019121512205234453}. Best is trial 1 with value: 0.2106087778715399.\n"
     ]
    },
    {
     "name": "stdout",
     "output_type": "stream",
     "text": [
      "Early stopping at epoch 21\n",
      "Final MCC: 0.1397\n"
     ]
    },
    {
     "name": "stderr",
     "output_type": "stream",
     "text": [
      "/tmp/ipykernel_183729/2028656304.py:11: FutureWarning: suggest_loguniform has been deprecated in v3.0.0. This feature will be removed in v6.0.0. See https://github.com/optuna/optuna/releases/tag/v3.0.0. Use suggest_float(..., log=True) instead.\n",
      "  learning_rate = trial.suggest_loguniform(\"learning_rate\", 1e-4, 1e-2)  # 範囲を調整\n",
      "[I 2024-11-29 18:14:22,008] Trial 5 finished with value: 0.1819942682049714 and parameters: {'hidden_units1': 412, 'hidden_units2': 148, 'hidden_units3': 128, 'hidden_units4': 24, 'dropout1': 0.15000000000000002, 'dropout2': 0.30000000000000004, 'dropout3': 0.4, 'dropout4': 0.1, 'learning_rate': 0.0003473630777981778}. Best is trial 1 with value: 0.2106087778715399.\n"
     ]
    },
    {
     "name": "stdout",
     "output_type": "stream",
     "text": [
      "Early stopping at epoch 22\n",
      "Final MCC: 0.1820\n"
     ]
    },
    {
     "name": "stderr",
     "output_type": "stream",
     "text": [
      "/tmp/ipykernel_183729/2028656304.py:11: FutureWarning: suggest_loguniform has been deprecated in v3.0.0. This feature will be removed in v6.0.0. See https://github.com/optuna/optuna/releases/tag/v3.0.0. Use suggest_float(..., log=True) instead.\n",
      "  learning_rate = trial.suggest_loguniform(\"learning_rate\", 1e-4, 1e-2)  # 範囲を調整\n",
      "[I 2024-11-29 18:14:51,831] Trial 6 finished with value: 0.2709445997259468 and parameters: {'hidden_units1': 256, 'hidden_units2': 148, 'hidden_units3': 88, 'hidden_units4': 28, 'dropout1': 0.45, 'dropout2': 0.25, 'dropout3': 0.2, 'dropout4': 0.4, 'learning_rate': 0.00018874910379268456}. Best is trial 6 with value: 0.2709445997259468.\n"
     ]
    },
    {
     "name": "stdout",
     "output_type": "stream",
     "text": [
      "Early stopping at epoch 64\n",
      "Final MCC: 0.2709\n"
     ]
    },
    {
     "name": "stderr",
     "output_type": "stream",
     "text": [
      "/tmp/ipykernel_183729/2028656304.py:11: FutureWarning: suggest_loguniform has been deprecated in v3.0.0. This feature will be removed in v6.0.0. See https://github.com/optuna/optuna/releases/tag/v3.0.0. Use suggest_float(..., log=True) instead.\n",
      "  learning_rate = trial.suggest_loguniform(\"learning_rate\", 1e-4, 1e-2)  # 範囲を調整\n",
      "[I 2024-11-29 18:14:52,333] Trial 7 pruned. \n",
      "[I 2024-11-29 18:14:52,759] Trial 8 pruned. \n",
      "[I 2024-11-29 18:14:53,135] Trial 9 pruned. \n",
      "[I 2024-11-29 18:15:08,871] Trial 10 finished with value: 0.07817124803971867 and parameters: {'hidden_units1': 328, 'hidden_units2': 130, 'hidden_units3': 94, 'hidden_units4': 6, 'dropout1': 0.4, 'dropout2': 0.0, 'dropout3': 0.15000000000000002, 'dropout4': 0.5, 'learning_rate': 0.0006132890870559252}. Best is trial 6 with value: 0.2709445997259468.\n"
     ]
    },
    {
     "name": "stdout",
     "output_type": "stream",
     "text": [
      "Early stopping at epoch 33\n",
      "Final MCC: 0.0782\n"
     ]
    },
    {
     "name": "stderr",
     "output_type": "stream",
     "text": [
      "/tmp/ipykernel_183729/2028656304.py:11: FutureWarning: suggest_loguniform has been deprecated in v3.0.0. This feature will be removed in v6.0.0. See https://github.com/optuna/optuna/releases/tag/v3.0.0. Use suggest_float(..., log=True) instead.\n",
      "  learning_rate = trial.suggest_loguniform(\"learning_rate\", 1e-4, 1e-2)  # 範囲を調整\n",
      "[I 2024-11-29 18:15:09,387] Trial 11 pruned. \n",
      "[I 2024-11-29 18:15:32,384] Trial 12 finished with value: 0.20008756547232942 and parameters: {'hidden_units1': 326, 'hidden_units2': 166, 'hidden_units3': 88, 'hidden_units4': 38, 'dropout1': 0.35000000000000003, 'dropout2': 0.35000000000000003, 'dropout3': 0.30000000000000004, 'dropout4': 0.15000000000000002, 'learning_rate': 0.00011716258098252209}. Best is trial 6 with value: 0.2709445997259468.\n"
     ]
    },
    {
     "name": "stdout",
     "output_type": "stream",
     "text": [
      "Early stopping at epoch 49\n",
      "Final MCC: 0.2001\n"
     ]
    },
    {
     "name": "stderr",
     "output_type": "stream",
     "text": [
      "/tmp/ipykernel_183729/2028656304.py:11: FutureWarning: suggest_loguniform has been deprecated in v3.0.0. This feature will be removed in v6.0.0. See https://github.com/optuna/optuna/releases/tag/v3.0.0. Use suggest_float(..., log=True) instead.\n",
      "  learning_rate = trial.suggest_loguniform(\"learning_rate\", 1e-4, 1e-2)  # 範囲を調整\n",
      "[I 2024-11-29 18:15:32,946] Trial 13 pruned. \n",
      "[I 2024-11-29 18:15:33,440] Trial 14 pruned. \n",
      "[I 2024-11-29 18:15:33,950] Trial 15 pruned. \n",
      "[I 2024-11-29 18:15:34,487] Trial 16 pruned. \n",
      "[I 2024-11-29 18:15:34,998] Trial 17 pruned. \n",
      "[I 2024-11-29 18:15:35,545] Trial 18 pruned. \n",
      "[I 2024-11-29 18:15:50,999] Trial 19 finished with value: 0.19841889479369207 and parameters: {'hidden_units1': 244, 'hidden_units2': 188, 'hidden_units3': 84, 'hidden_units4': 40, 'dropout1': 0.1, 'dropout2': 0.05, 'dropout3': 0.4, 'dropout4': 0.25, 'learning_rate': 0.00010019955119927257}. Best is trial 6 with value: 0.2709445997259468.\n"
     ]
    },
    {
     "name": "stdout",
     "output_type": "stream",
     "text": [
      "Early stopping at epoch 32\n",
      "Final MCC: 0.1984\n"
     ]
    },
    {
     "name": "stderr",
     "output_type": "stream",
     "text": [
      "/tmp/ipykernel_183729/2028656304.py:11: FutureWarning: suggest_loguniform has been deprecated in v3.0.0. This feature will be removed in v6.0.0. See https://github.com/optuna/optuna/releases/tag/v3.0.0. Use suggest_float(..., log=True) instead.\n",
      "  learning_rate = trial.suggest_loguniform(\"learning_rate\", 1e-4, 1e-2)  # 範囲を調整\n",
      "[I 2024-11-29 18:15:51,552] Trial 20 pruned. \n",
      "[I 2024-11-29 18:16:21,937] Trial 21 finished with value: 0.2697919970014594 and parameters: {'hidden_units1': 330, 'hidden_units2': 168, 'hidden_units3': 88, 'hidden_units4': 38, 'dropout1': 0.4, 'dropout2': 0.35000000000000003, 'dropout3': 0.30000000000000004, 'dropout4': 0.1, 'learning_rate': 0.00011119800011380125}. Best is trial 6 with value: 0.2709445997259468.\n"
     ]
    },
    {
     "name": "stdout",
     "output_type": "stream",
     "text": [
      "Early stopping at epoch 64\n",
      "Final MCC: 0.2698\n"
     ]
    },
    {
     "name": "stderr",
     "output_type": "stream",
     "text": [
      "/tmp/ipykernel_183729/2028656304.py:11: FutureWarning: suggest_loguniform has been deprecated in v3.0.0. This feature will be removed in v6.0.0. See https://github.com/optuna/optuna/releases/tag/v3.0.0. Use suggest_float(..., log=True) instead.\n",
      "  learning_rate = trial.suggest_loguniform(\"learning_rate\", 1e-4, 1e-2)  # 範囲を調整\n",
      "[I 2024-11-29 18:16:22,342] Trial 22 pruned. \n",
      "[I 2024-11-29 18:16:22,820] Trial 23 pruned. \n",
      "[I 2024-11-29 18:16:23,305] Trial 24 pruned. \n",
      "[I 2024-11-29 18:16:23,855] Trial 25 pruned. \n",
      "[I 2024-11-29 18:16:24,404] Trial 26 pruned. \n",
      "[I 2024-11-29 18:16:24,954] Trial 27 pruned. \n",
      "[I 2024-11-29 18:16:45,653] Trial 28 finished with value: 0.22097672664552434 and parameters: {'hidden_units1': 348, 'hidden_units2': 190, 'hidden_units3': 76, 'hidden_units4': 16, 'dropout1': 0.2, 'dropout2': 0.4, 'dropout3': 0.25, 'dropout4': 0.25, 'learning_rate': 0.00013481651610494888}. Best is trial 6 with value: 0.2709445997259468.\n"
     ]
    },
    {
     "name": "stdout",
     "output_type": "stream",
     "text": [
      "Early stopping at epoch 43\n",
      "Final MCC: 0.2210\n"
     ]
    },
    {
     "name": "stderr",
     "output_type": "stream",
     "text": [
      "/tmp/ipykernel_183729/2028656304.py:11: FutureWarning: suggest_loguniform has been deprecated in v3.0.0. This feature will be removed in v6.0.0. See https://github.com/optuna/optuna/releases/tag/v3.0.0. Use suggest_float(..., log=True) instead.\n",
      "  learning_rate = trial.suggest_loguniform(\"learning_rate\", 1e-4, 1e-2)  # 範囲を調整\n",
      "[I 2024-11-29 18:17:05,509] Trial 29 finished with value: 0.2535772325601047 and parameters: {'hidden_units1': 346, 'hidden_units2': 148, 'hidden_units3': 80, 'hidden_units4': 16, 'dropout1': 0.2, 'dropout2': 0.4, 'dropout3': 0.15000000000000002, 'dropout4': 0.45, 'learning_rate': 0.00013360886279975779}. Best is trial 6 with value: 0.2709445997259468.\n"
     ]
    },
    {
     "name": "stdout",
     "output_type": "stream",
     "text": [
      "Early stopping at epoch 42\n",
      "Final MCC: 0.2536\n"
     ]
    },
    {
     "name": "stderr",
     "output_type": "stream",
     "text": [
      "/tmp/ipykernel_183729/2028656304.py:11: FutureWarning: suggest_loguniform has been deprecated in v3.0.0. This feature will be removed in v6.0.0. See https://github.com/optuna/optuna/releases/tag/v3.0.0. Use suggest_float(..., log=True) instead.\n",
      "  learning_rate = trial.suggest_loguniform(\"learning_rate\", 1e-4, 1e-2)  # 範囲を調整\n",
      "[I 2024-11-29 18:17:47,517] Trial 30 finished with value: 0.08282654396961969 and parameters: {'hidden_units1': 344, 'hidden_units2': 152, 'hidden_units3': 80, 'hidden_units4': 14, 'dropout1': 0.5, 'dropout2': 0.5, 'dropout3': 0.15000000000000002, 'dropout4': 0.45, 'learning_rate': 0.00010495512625042105}. Best is trial 6 with value: 0.2709445997259468.\n"
     ]
    },
    {
     "name": "stdout",
     "output_type": "stream",
     "text": [
      "Early stopping at epoch 90\n",
      "Final MCC: 0.0828\n"
     ]
    },
    {
     "name": "stderr",
     "output_type": "stream",
     "text": [
      "/tmp/ipykernel_183729/2028656304.py:11: FutureWarning: suggest_loguniform has been deprecated in v3.0.0. This feature will be removed in v6.0.0. See https://github.com/optuna/optuna/releases/tag/v3.0.0. Use suggest_float(..., log=True) instead.\n",
      "  learning_rate = trial.suggest_loguniform(\"learning_rate\", 1e-4, 1e-2)  # 範囲を調整\n",
      "[I 2024-11-29 18:18:11,399] Trial 31 finished with value: 0.10991323160167901 and parameters: {'hidden_units1': 352, 'hidden_units2': 148, 'hidden_units3': 90, 'hidden_units4': 16, 'dropout1': 0.2, 'dropout2': 0.4, 'dropout3': 0.2, 'dropout4': 0.45, 'learning_rate': 0.00014127739062999676}. Best is trial 6 with value: 0.2709445997259468.\n"
     ]
    },
    {
     "name": "stdout",
     "output_type": "stream",
     "text": [
      "Early stopping at epoch 50\n",
      "Final MCC: 0.1099\n"
     ]
    },
    {
     "name": "stderr",
     "output_type": "stream",
     "text": [
      "/tmp/ipykernel_183729/2028656304.py:11: FutureWarning: suggest_loguniform has been deprecated in v3.0.0. This feature will be removed in v6.0.0. See https://github.com/optuna/optuna/releases/tag/v3.0.0. Use suggest_float(..., log=True) instead.\n",
      "  learning_rate = trial.suggest_loguniform(\"learning_rate\", 1e-4, 1e-2)  # 範囲を調整\n",
      "[I 2024-11-29 18:18:33,295] Trial 32 finished with value: -0.026440275072257786 and parameters: {'hidden_units1': 378, 'hidden_units2': 190, 'hidden_units3': 76, 'hidden_units4': 4, 'dropout1': 0.2, 'dropout2': 0.4, 'dropout3': 0.05, 'dropout4': 0.4, 'learning_rate': 0.00020402953375810637}. Best is trial 6 with value: 0.2709445997259468.\n"
     ]
    },
    {
     "name": "stdout",
     "output_type": "stream",
     "text": [
      "Early stopping at epoch 47\n",
      "Final MCC: -0.0264\n"
     ]
    },
    {
     "name": "stderr",
     "output_type": "stream",
     "text": [
      "/tmp/ipykernel_183729/2028656304.py:11: FutureWarning: suggest_loguniform has been deprecated in v3.0.0. This feature will be removed in v6.0.0. See https://github.com/optuna/optuna/releases/tag/v3.0.0. Use suggest_float(..., log=True) instead.\n",
      "  learning_rate = trial.suggest_loguniform(\"learning_rate\", 1e-4, 1e-2)  # 範囲を調整\n",
      "[I 2024-11-29 18:18:58,814] Trial 33 finished with value: 0.05177931783596535 and parameters: {'hidden_units1': 398, 'hidden_units2': 128, 'hidden_units3': 84, 'hidden_units4': 10, 'dropout1': 0.25, 'dropout2': 0.5, 'dropout3': 0.25, 'dropout4': 0.35000000000000003, 'learning_rate': 0.00013945466267321826}. Best is trial 6 with value: 0.2709445997259468.\n"
     ]
    },
    {
     "name": "stdout",
     "output_type": "stream",
     "text": [
      "Early stopping at epoch 55\n",
      "Final MCC: 0.0518\n"
     ]
    },
    {
     "name": "stderr",
     "output_type": "stream",
     "text": [
      "/tmp/ipykernel_183729/2028656304.py:11: FutureWarning: suggest_loguniform has been deprecated in v3.0.0. This feature will be removed in v6.0.0. See https://github.com/optuna/optuna/releases/tag/v3.0.0. Use suggest_float(..., log=True) instead.\n",
      "  learning_rate = trial.suggest_loguniform(\"learning_rate\", 1e-4, 1e-2)  # 範囲を調整\n",
      "[I 2024-11-29 18:18:59,381] Trial 34 pruned. \n",
      "[I 2024-11-29 18:18:59,942] Trial 35 pruned. \n",
      "[I 2024-11-29 18:19:00,497] Trial 36 pruned. \n",
      "[I 2024-11-29 18:19:00,994] Trial 37 pruned. \n",
      "[I 2024-11-29 18:19:01,535] Trial 38 pruned. \n",
      "[I 2024-11-29 18:19:01,976] Trial 39 pruned. \n",
      "[I 2024-11-29 18:19:20,399] Trial 40 finished with value: 0.30337042282559146 and parameters: {'hidden_units1': 314, 'hidden_units2': 136, 'hidden_units3': 112, 'hidden_units4': 22, 'dropout1': 0.2, 'dropout2': 0.45, 'dropout3': 0.35000000000000003, 'dropout4': 0.2, 'learning_rate': 0.00012460246026815592}. Best is trial 40 with value: 0.30337042282559146.\n"
     ]
    },
    {
     "name": "stdout",
     "output_type": "stream",
     "text": [
      "Early stopping at epoch 38\n",
      "Final MCC: 0.3034\n"
     ]
    },
    {
     "name": "stderr",
     "output_type": "stream",
     "text": [
      "/tmp/ipykernel_183729/2028656304.py:11: FutureWarning: suggest_loguniform has been deprecated in v3.0.0. This feature will be removed in v6.0.0. See https://github.com/optuna/optuna/releases/tag/v3.0.0. Use suggest_float(..., log=True) instead.\n",
      "  learning_rate = trial.suggest_loguniform(\"learning_rate\", 1e-4, 1e-2)  # 範囲を調整\n",
      "[I 2024-11-29 18:19:46,539] Trial 41 finished with value: 0.19700428620275537 and parameters: {'hidden_units1': 312, 'hidden_units2': 136, 'hidden_units3': 114, 'hidden_units4': 22, 'dropout1': 0.2, 'dropout2': 0.45, 'dropout3': 0.35000000000000003, 'dropout4': 0.2, 'learning_rate': 0.00012113514020108637}. Best is trial 40 with value: 0.30337042282559146.\n"
     ]
    },
    {
     "name": "stdout",
     "output_type": "stream",
     "text": [
      "Early stopping at epoch 55\n",
      "Final MCC: 0.1970\n"
     ]
    },
    {
     "name": "stderr",
     "output_type": "stream",
     "text": [
      "/tmp/ipykernel_183729/2028656304.py:11: FutureWarning: suggest_loguniform has been deprecated in v3.0.0. This feature will be removed in v6.0.0. See https://github.com/optuna/optuna/releases/tag/v3.0.0. Use suggest_float(..., log=True) instead.\n",
      "  learning_rate = trial.suggest_loguniform(\"learning_rate\", 1e-4, 1e-2)  # 範囲を調整\n",
      "[I 2024-11-29 18:19:47,008] Trial 42 pruned. \n",
      "[I 2024-11-29 18:19:47,548] Trial 43 pruned. \n",
      "[I 2024-11-29 18:19:48,117] Trial 44 pruned. \n",
      "[I 2024-11-29 18:19:48,656] Trial 45 pruned. \n",
      "[I 2024-11-29 18:20:05,170] Trial 46 finished with value: 0.2244755939415051 and parameters: {'hidden_units1': 304, 'hidden_units2': 152, 'hidden_units3': 100, 'hidden_units4': 36, 'dropout1': 0.4, 'dropout2': 0.30000000000000004, 'dropout3': 0.15000000000000002, 'dropout4': 0.35000000000000003, 'learning_rate': 0.00018413769418019}. Best is trial 40 with value: 0.30337042282559146.\n"
     ]
    },
    {
     "name": "stdout",
     "output_type": "stream",
     "text": [
      "Early stopping at epoch 35\n",
      "Final MCC: 0.2245\n"
     ]
    },
    {
     "name": "stderr",
     "output_type": "stream",
     "text": [
      "/tmp/ipykernel_183729/2028656304.py:11: FutureWarning: suggest_loguniform has been deprecated in v3.0.0. This feature will be removed in v6.0.0. See https://github.com/optuna/optuna/releases/tag/v3.0.0. Use suggest_float(..., log=True) instead.\n",
      "  learning_rate = trial.suggest_loguniform(\"learning_rate\", 1e-4, 1e-2)  # 範囲を調整\n",
      "[I 2024-11-29 18:20:05,655] Trial 47 pruned. \n",
      "[I 2024-11-29 18:20:06,259] Trial 48 pruned. \n",
      "[I 2024-11-29 18:20:06,698] Trial 49 pruned. \n",
      "[I 2024-11-29 18:20:07,227] Trial 50 pruned. \n",
      "[I 2024-11-29 18:20:30,060] Trial 51 finished with value: 0.16693656613933466 and parameters: {'hidden_units1': 336, 'hidden_units2': 144, 'hidden_units3': 128, 'hidden_units4': 22, 'dropout1': 0.15000000000000002, 'dropout2': 0.35000000000000003, 'dropout3': 0.30000000000000004, 'dropout4': 0.30000000000000004, 'learning_rate': 0.00012049266090032416}. Best is trial 40 with value: 0.30337042282559146.\n"
     ]
    },
    {
     "name": "stdout",
     "output_type": "stream",
     "text": [
      "Early stopping at epoch 48\n",
      "Final MCC: 0.1669\n"
     ]
    },
    {
     "name": "stderr",
     "output_type": "stream",
     "text": [
      "/tmp/ipykernel_183729/2028656304.py:11: FutureWarning: suggest_loguniform has been deprecated in v3.0.0. This feature will be removed in v6.0.0. See https://github.com/optuna/optuna/releases/tag/v3.0.0. Use suggest_float(..., log=True) instead.\n",
      "  learning_rate = trial.suggest_loguniform(\"learning_rate\", 1e-4, 1e-2)  # 範囲を調整\n",
      "[I 2024-11-29 18:20:30,574] Trial 52 pruned. \n",
      "[I 2024-11-29 18:20:31,147] Trial 53 pruned. \n",
      "[I 2024-11-29 18:20:59,798] Trial 54 finished with value: 0.08894108502354832 and parameters: {'hidden_units1': 236, 'hidden_units2': 180, 'hidden_units3': 120, 'hidden_units4': 14, 'dropout1': 0.45, 'dropout2': 0.45, 'dropout3': 0.35000000000000003, 'dropout4': 0.45, 'learning_rate': 0.00011365337555216072}. Best is trial 40 with value: 0.30337042282559146.\n"
     ]
    },
    {
     "name": "stdout",
     "output_type": "stream",
     "text": [
      "Early stopping at epoch 60\n",
      "Final MCC: 0.0889\n"
     ]
    },
    {
     "name": "stderr",
     "output_type": "stream",
     "text": [
      "/tmp/ipykernel_183729/2028656304.py:11: FutureWarning: suggest_loguniform has been deprecated in v3.0.0. This feature will be removed in v6.0.0. See https://github.com/optuna/optuna/releases/tag/v3.0.0. Use suggest_float(..., log=True) instead.\n",
      "  learning_rate = trial.suggest_loguniform(\"learning_rate\", 1e-4, 1e-2)  # 範囲を調整\n",
      "[I 2024-11-29 18:21:00,372] Trial 55 pruned. \n",
      "[I 2024-11-29 18:21:00,946] Trial 56 pruned. \n",
      "[I 2024-11-29 18:21:01,440] Trial 57 pruned. \n",
      "[I 2024-11-29 18:21:01,957] Trial 58 pruned. \n",
      "[I 2024-11-29 18:21:30,045] Trial 59 finished with value: 0.23770472804689657 and parameters: {'hidden_units1': 256, 'hidden_units2': 176, 'hidden_units3': 84, 'hidden_units4': 28, 'dropout1': 0.35000000000000003, 'dropout2': 0.45, 'dropout3': 0.4, 'dropout4': 0.15000000000000002, 'learning_rate': 0.00010046106420121163}. Best is trial 40 with value: 0.30337042282559146.\n"
     ]
    },
    {
     "name": "stdout",
     "output_type": "stream",
     "text": [
      "Early stopping at epoch 59\n",
      "Final MCC: 0.2377\n"
     ]
    },
    {
     "name": "stderr",
     "output_type": "stream",
     "text": [
      "/tmp/ipykernel_183729/2028656304.py:11: FutureWarning: suggest_loguniform has been deprecated in v3.0.0. This feature will be removed in v6.0.0. See https://github.com/optuna/optuna/releases/tag/v3.0.0. Use suggest_float(..., log=True) instead.\n",
      "  learning_rate = trial.suggest_loguniform(\"learning_rate\", 1e-4, 1e-2)  # 範囲を調整\n",
      "[I 2024-11-29 18:21:30,506] Trial 60 pruned. \n",
      "[I 2024-11-29 18:21:31,023] Trial 61 pruned. \n",
      "[I 2024-11-29 18:21:50,853] Trial 62 finished with value: 0.1768707967517425 and parameters: {'hidden_units1': 228, 'hidden_units2': 176, 'hidden_units3': 84, 'hidden_units4': 20, 'dropout1': 0.2, 'dropout2': 0.4, 'dropout3': 0.4, 'dropout4': 0.2, 'learning_rate': 0.00013856751897704708}. Best is trial 40 with value: 0.30337042282559146.\n"
     ]
    },
    {
     "name": "stdout",
     "output_type": "stream",
     "text": [
      "Early stopping at epoch 46\n",
      "Final MCC: 0.1769\n"
     ]
    },
    {
     "name": "stderr",
     "output_type": "stream",
     "text": [
      "/tmp/ipykernel_183729/2028656304.py:11: FutureWarning: suggest_loguniform has been deprecated in v3.0.0. This feature will be removed in v6.0.0. See https://github.com/optuna/optuna/releases/tag/v3.0.0. Use suggest_float(..., log=True) instead.\n",
      "  learning_rate = trial.suggest_loguniform(\"learning_rate\", 1e-4, 1e-2)  # 範囲を調整\n",
      "[I 2024-11-29 18:21:51,387] Trial 63 pruned. \n",
      "[I 2024-11-29 18:21:51,970] Trial 64 pruned. \n",
      "[I 2024-11-29 18:22:21,335] Trial 65 finished with value: 0.1819942682049714 and parameters: {'hidden_units1': 322, 'hidden_units2': 166, 'hidden_units3': 80, 'hidden_units4': 12, 'dropout1': 0.25, 'dropout2': 0.4, 'dropout3': 0.25, 'dropout4': 0.15000000000000002, 'learning_rate': 0.00011874698347146433}. Best is trial 40 with value: 0.30337042282559146.\n"
     ]
    },
    {
     "name": "stdout",
     "output_type": "stream",
     "text": [
      "Early stopping at epoch 61\n",
      "Final MCC: 0.1820\n"
     ]
    },
    {
     "name": "stderr",
     "output_type": "stream",
     "text": [
      "/tmp/ipykernel_183729/2028656304.py:11: FutureWarning: suggest_loguniform has been deprecated in v3.0.0. This feature will be removed in v6.0.0. See https://github.com/optuna/optuna/releases/tag/v3.0.0. Use suggest_float(..., log=True) instead.\n",
      "  learning_rate = trial.suggest_loguniform(\"learning_rate\", 1e-4, 1e-2)  # 範囲を調整\n",
      "[I 2024-11-29 18:22:21,873] Trial 66 pruned. \n",
      "[I 2024-11-29 18:22:22,433] Trial 67 pruned. \n",
      "[I 2024-11-29 18:22:22,948] Trial 68 pruned. \n",
      "[I 2024-11-29 18:22:42,955] Trial 69 finished with value: 0.16867113812129386 and parameters: {'hidden_units1': 390, 'hidden_units2': 156, 'hidden_units3': 88, 'hidden_units4': 38, 'dropout1': 0.45, 'dropout2': 0.25, 'dropout3': 0.1, 'dropout4': 0.2, 'learning_rate': 0.00010102997600310442}. Best is trial 40 with value: 0.30337042282559146.\n"
     ]
    },
    {
     "name": "stdout",
     "output_type": "stream",
     "text": [
      "Early stopping at epoch 42\n",
      "Final MCC: 0.1687\n"
     ]
    },
    {
     "name": "stderr",
     "output_type": "stream",
     "text": [
      "/tmp/ipykernel_183729/2028656304.py:11: FutureWarning: suggest_loguniform has been deprecated in v3.0.0. This feature will be removed in v6.0.0. See https://github.com/optuna/optuna/releases/tag/v3.0.0. Use suggest_float(..., log=True) instead.\n",
      "  learning_rate = trial.suggest_loguniform(\"learning_rate\", 1e-4, 1e-2)  # 範囲を調整\n",
      "[I 2024-11-29 18:22:43,484] Trial 70 pruned. \n",
      "[I 2024-11-29 18:22:44,010] Trial 71 pruned. \n",
      "[I 2024-11-29 18:22:44,556] Trial 72 pruned. \n",
      "[I 2024-11-29 18:22:45,127] Trial 73 pruned. \n",
      "[I 2024-11-29 18:22:45,644] Trial 74 pruned. \n",
      "[I 2024-11-29 18:22:46,150] Trial 75 pruned. \n",
      "[I 2024-11-29 18:22:46,649] Trial 76 pruned. \n",
      "[I 2024-11-29 18:22:47,108] Trial 77 pruned. \n",
      "[I 2024-11-29 18:22:47,688] Trial 78 pruned. \n",
      "[I 2024-11-29 18:22:48,232] Trial 79 pruned. \n",
      "[I 2024-11-29 18:22:48,766] Trial 80 pruned. \n",
      "[I 2024-11-29 18:23:15,347] Trial 81 finished with value: 0.23543450534698124 and parameters: {'hidden_units1': 314, 'hidden_units2': 168, 'hidden_units3': 88, 'hidden_units4': 36, 'dropout1': 0.35000000000000003, 'dropout2': 0.35000000000000003, 'dropout3': 0.30000000000000004, 'dropout4': 0.15000000000000002, 'learning_rate': 0.0001107233426557752}. Best is trial 40 with value: 0.30337042282559146.\n"
     ]
    },
    {
     "name": "stdout",
     "output_type": "stream",
     "text": [
      "Early stopping at epoch 57\n",
      "Final MCC: 0.2354\n"
     ]
    },
    {
     "name": "stderr",
     "output_type": "stream",
     "text": [
      "/tmp/ipykernel_183729/2028656304.py:11: FutureWarning: suggest_loguniform has been deprecated in v3.0.0. This feature will be removed in v6.0.0. See https://github.com/optuna/optuna/releases/tag/v3.0.0. Use suggest_float(..., log=True) instead.\n",
      "  learning_rate = trial.suggest_loguniform(\"learning_rate\", 1e-4, 1e-2)  # 範囲を調整\n",
      "[I 2024-11-29 18:23:38,064] Trial 82 finished with value: 0.11677533503106041 and parameters: {'hidden_units1': 308, 'hidden_units2': 170, 'hidden_units3': 86, 'hidden_units4': 34, 'dropout1': 0.4, 'dropout2': 0.30000000000000004, 'dropout3': 0.35000000000000003, 'dropout4': 0.15000000000000002, 'learning_rate': 0.00013505375948221347}. Best is trial 40 with value: 0.30337042282559146.\n"
     ]
    },
    {
     "name": "stdout",
     "output_type": "stream",
     "text": [
      "Early stopping at epoch 49\n",
      "Final MCC: 0.1168\n"
     ]
    },
    {
     "name": "stderr",
     "output_type": "stream",
     "text": [
      "/tmp/ipykernel_183729/2028656304.py:11: FutureWarning: suggest_loguniform has been deprecated in v3.0.0. This feature will be removed in v6.0.0. See https://github.com/optuna/optuna/releases/tag/v3.0.0. Use suggest_float(..., log=True) instead.\n",
      "  learning_rate = trial.suggest_loguniform(\"learning_rate\", 1e-4, 1e-2)  # 範囲を調整\n",
      "[I 2024-11-29 18:23:38,606] Trial 83 pruned. \n",
      "[I 2024-11-29 18:23:39,098] Trial 84 pruned. \n",
      "[I 2024-11-29 18:23:39,674] Trial 85 pruned. \n",
      "[I 2024-11-29 18:23:40,155] Trial 86 pruned. \n",
      "[I 2024-11-29 18:24:12,512] Trial 87 finished with value: 0.08571428571428572 and parameters: {'hidden_units1': 346, 'hidden_units2': 154, 'hidden_units3': 92, 'hidden_units4': 10, 'dropout1': 0.35000000000000003, 'dropout2': 0.45, 'dropout3': 0.25, 'dropout4': 0.2, 'learning_rate': 0.0001283603606113446}. Best is trial 40 with value: 0.30337042282559146.\n"
     ]
    },
    {
     "name": "stdout",
     "output_type": "stream",
     "text": [
      "Early stopping at epoch 67\n",
      "Final MCC: 0.0857\n"
     ]
    },
    {
     "name": "stderr",
     "output_type": "stream",
     "text": [
      "/tmp/ipykernel_183729/2028656304.py:11: FutureWarning: suggest_loguniform has been deprecated in v3.0.0. This feature will be removed in v6.0.0. See https://github.com/optuna/optuna/releases/tag/v3.0.0. Use suggest_float(..., log=True) instead.\n",
      "  learning_rate = trial.suggest_loguniform(\"learning_rate\", 1e-4, 1e-2)  # 範囲を調整\n",
      "[I 2024-11-29 18:24:12,967] Trial 88 pruned. \n",
      "[I 2024-11-29 18:24:13,493] Trial 89 pruned. \n",
      "[I 2024-11-29 18:24:14,058] Trial 90 pruned. \n",
      "[I 2024-11-29 18:24:37,323] Trial 91 finished with value: 0.21039247703903016 and parameters: {'hidden_units1': 324, 'hidden_units2': 164, 'hidden_units3': 82, 'hidden_units4': 42, 'dropout1': 0.30000000000000004, 'dropout2': 0.35000000000000003, 'dropout3': 0.35000000000000003, 'dropout4': 0.15000000000000002, 'learning_rate': 0.0001002624538532815}. Best is trial 40 with value: 0.30337042282559146.\n"
     ]
    },
    {
     "name": "stdout",
     "output_type": "stream",
     "text": [
      "Early stopping at epoch 49\n",
      "Final MCC: 0.2104\n"
     ]
    },
    {
     "name": "stderr",
     "output_type": "stream",
     "text": [
      "/tmp/ipykernel_183729/2028656304.py:11: FutureWarning: suggest_loguniform has been deprecated in v3.0.0. This feature will be removed in v6.0.0. See https://github.com/optuna/optuna/releases/tag/v3.0.0. Use suggest_float(..., log=True) instead.\n",
      "  learning_rate = trial.suggest_loguniform(\"learning_rate\", 1e-4, 1e-2)  # 範囲を調整\n",
      "[I 2024-11-29 18:25:05,929] Trial 92 finished with value: 0.18182193636434194 and parameters: {'hidden_units1': 326, 'hidden_units2': 164, 'hidden_units3': 80, 'hidden_units4': 42, 'dropout1': 0.30000000000000004, 'dropout2': 0.35000000000000003, 'dropout3': 0.35000000000000003, 'dropout4': 0.15000000000000002, 'learning_rate': 0.00010007473896328262}. Best is trial 40 with value: 0.30337042282559146.\n"
     ]
    },
    {
     "name": "stdout",
     "output_type": "stream",
     "text": [
      "Early stopping at epoch 60\n",
      "Final MCC: 0.1818\n"
     ]
    },
    {
     "name": "stderr",
     "output_type": "stream",
     "text": [
      "/tmp/ipykernel_183729/2028656304.py:11: FutureWarning: suggest_loguniform has been deprecated in v3.0.0. This feature will be removed in v6.0.0. See https://github.com/optuna/optuna/releases/tag/v3.0.0. Use suggest_float(..., log=True) instead.\n",
      "  learning_rate = trial.suggest_loguniform(\"learning_rate\", 1e-4, 1e-2)  # 範囲を調整\n",
      "[I 2024-11-29 18:25:06,493] Trial 93 pruned. \n",
      "[I 2024-11-29 18:25:06,953] Trial 94 pruned. \n",
      "[I 2024-11-29 18:25:07,476] Trial 95 pruned. \n",
      "[I 2024-11-29 18:25:07,994] Trial 96 pruned. \n",
      "[I 2024-11-29 18:25:08,440] Trial 97 pruned. \n",
      "[I 2024-11-29 18:25:08,991] Trial 98 pruned. \n",
      "[I 2024-11-29 18:25:09,487] Trial 99 pruned. \n"
     ]
    },
    {
     "name": "stdout",
     "output_type": "stream",
     "text": [
      "Best Parameters:  {'hidden_units1': 314, 'hidden_units2': 136, 'hidden_units3': 112, 'hidden_units4': 22, 'dropout1': 0.2, 'dropout2': 0.45, 'dropout3': 0.35000000000000003, 'dropout4': 0.2, 'learning_rate': 0.00012460246026815592}\n",
      "Best Validation F1:  0.30337042282559146\n"
     ]
    }
   ],
   "source": [
    "device_id = 0\n",
    "torch.cuda.set_device(device_id)\n",
    "device = torch.device(f\"cuda:{device_id}\" if torch.cuda.is_available() else \"cpu\")\n",
    "\n",
    "# Optunaの設定\n",
    "study = optuna.create_study(direction=\"maximize\")  \n",
    "study.optimize(objective, n_trials=100)\n",
    "\n",
    "# 結果表示\n",
    "print(\"Best Parameters: \", study.best_params)\n",
    "print(\"Best Validation F1: \", study.best_value)"
   ]
  },
  {
   "cell_type": "code",
   "execution_count": 36,
   "metadata": {},
   "outputs": [
    {
     "name": "stdout",
     "output_type": "stream",
     "text": [
      "Epoch [1/100], Loss: 0.6741\n",
      "Epoch [1/100], Train Loss: 0.6741, Val Loss: 0.6327\n",
      "Epoch [2/100], Loss: 0.6451\n",
      "Epoch [2/100], Train Loss: 0.6451, Val Loss: 0.6095\n",
      "Epoch [3/100], Loss: 0.6249\n",
      "Epoch [3/100], Train Loss: 0.6249, Val Loss: 0.5973\n",
      "Epoch [4/100], Loss: 0.6122\n",
      "Epoch [4/100], Train Loss: 0.6122, Val Loss: 0.5882\n",
      "Epoch [5/100], Loss: 0.5980\n",
      "Epoch [5/100], Train Loss: 0.5980, Val Loss: 0.5860\n",
      "Epoch [6/100], Loss: 0.5872\n",
      "Epoch [6/100], Train Loss: 0.5872, Val Loss: 0.5792\n",
      "Epoch [7/100], Loss: 0.5900\n",
      "Epoch [7/100], Train Loss: 0.5900, Val Loss: 0.5762\n",
      "Epoch [8/100], Loss: 0.5814\n",
      "Epoch [8/100], Train Loss: 0.5814, Val Loss: 0.5686\n",
      "Epoch [9/100], Loss: 0.5856\n",
      "Epoch [9/100], Train Loss: 0.5856, Val Loss: 0.5673\n",
      "Epoch [10/100], Loss: 0.5763\n",
      "Epoch [10/100], Train Loss: 0.5763, Val Loss: 0.5688\n",
      "Epoch [11/100], Loss: 0.5772\n",
      "Epoch [11/100], Train Loss: 0.5772, Val Loss: 0.5649\n",
      "Epoch [12/100], Loss: 0.5751\n",
      "Epoch [12/100], Train Loss: 0.5751, Val Loss: 0.5650\n",
      "Epoch [13/100], Loss: 0.5709\n",
      "Epoch [13/100], Train Loss: 0.5709, Val Loss: 0.5629\n",
      "Epoch [14/100], Loss: 0.5716\n",
      "Epoch [14/100], Train Loss: 0.5716, Val Loss: 0.5625\n",
      "Epoch [15/100], Loss: 0.5675\n",
      "Epoch [15/100], Train Loss: 0.5675, Val Loss: 0.5592\n",
      "Epoch [16/100], Loss: 0.5707\n",
      "Epoch [16/100], Train Loss: 0.5707, Val Loss: 0.5579\n",
      "Epoch [17/100], Loss: 0.5695\n",
      "Epoch [17/100], Train Loss: 0.5695, Val Loss: 0.5600\n",
      "Epoch [18/100], Loss: 0.5608\n",
      "Epoch [18/100], Train Loss: 0.5608, Val Loss: 0.5598\n",
      "Epoch [19/100], Loss: 0.5681\n",
      "Epoch [19/100], Train Loss: 0.5681, Val Loss: 0.5587\n",
      "Epoch [20/100], Loss: 0.5686\n",
      "Epoch [20/100], Train Loss: 0.5686, Val Loss: 0.5576\n",
      "Epoch [21/100], Loss: 0.5680\n",
      "Epoch [21/100], Train Loss: 0.5680, Val Loss: 0.5551\n",
      "Epoch [22/100], Loss: 0.5612\n",
      "Epoch [22/100], Train Loss: 0.5612, Val Loss: 0.5576\n",
      "Epoch [23/100], Loss: 0.5619\n",
      "Epoch [23/100], Train Loss: 0.5619, Val Loss: 0.5577\n",
      "Epoch [24/100], Loss: 0.5650\n",
      "Epoch [24/100], Train Loss: 0.5650, Val Loss: 0.5571\n",
      "Epoch [25/100], Loss: 0.5598\n",
      "Epoch [25/100], Train Loss: 0.5598, Val Loss: 0.5565\n",
      "Epoch [26/100], Loss: 0.5614\n",
      "Epoch [26/100], Train Loss: 0.5614, Val Loss: 0.5547\n",
      "Epoch [27/100], Loss: 0.5597\n",
      "Epoch [27/100], Train Loss: 0.5597, Val Loss: 0.5551\n",
      "Epoch [28/100], Loss: 0.5559\n",
      "Epoch [28/100], Train Loss: 0.5559, Val Loss: 0.5545\n",
      "Epoch [29/100], Loss: 0.5582\n",
      "Epoch [29/100], Train Loss: 0.5582, Val Loss: 0.5541\n",
      "Epoch [30/100], Loss: 0.5538\n",
      "Epoch [30/100], Train Loss: 0.5538, Val Loss: 0.5551\n",
      "Epoch [31/100], Loss: 0.5591\n",
      "Epoch [31/100], Train Loss: 0.5591, Val Loss: 0.5543\n",
      "Epoch [32/100], Loss: 0.5586\n",
      "Epoch [32/100], Train Loss: 0.5586, Val Loss: 0.5543\n",
      "Epoch [33/100], Loss: 0.5583\n",
      "Epoch [33/100], Train Loss: 0.5583, Val Loss: 0.5536\n",
      "Epoch [34/100], Loss: 0.5591\n",
      "Epoch [34/100], Train Loss: 0.5591, Val Loss: 0.5532\n",
      "Epoch [35/100], Loss: 0.5554\n",
      "Epoch [35/100], Train Loss: 0.5554, Val Loss: 0.5536\n",
      "Epoch [36/100], Loss: 0.5547\n",
      "Epoch [36/100], Train Loss: 0.5547, Val Loss: 0.5543\n",
      "Epoch [37/100], Loss: 0.5516\n",
      "Epoch [37/100], Train Loss: 0.5516, Val Loss: 0.5543\n",
      "Epoch [38/100], Loss: 0.5544\n",
      "Epoch [38/100], Train Loss: 0.5544, Val Loss: 0.5531\n",
      "Epoch [39/100], Loss: 0.5489\n",
      "Epoch [39/100], Train Loss: 0.5489, Val Loss: 0.5543\n",
      "Epoch [40/100], Loss: 0.5585\n",
      "Epoch [40/100], Train Loss: 0.5585, Val Loss: 0.5535\n",
      "Epoch [41/100], Loss: 0.5572\n",
      "Epoch [41/100], Train Loss: 0.5572, Val Loss: 0.5511\n",
      "Epoch [42/100], Loss: 0.5510\n",
      "Epoch [42/100], Train Loss: 0.5510, Val Loss: 0.5529\n",
      "Epoch [43/100], Loss: 0.5548\n",
      "Epoch [43/100], Train Loss: 0.5548, Val Loss: 0.5519\n",
      "Epoch [44/100], Loss: 0.5491\n",
      "Epoch [44/100], Train Loss: 0.5491, Val Loss: 0.5516\n",
      "Epoch [45/100], Loss: 0.5453\n",
      "Epoch [45/100], Train Loss: 0.5453, Val Loss: 0.5518\n",
      "Epoch [46/100], Loss: 0.5468\n",
      "Epoch [46/100], Train Loss: 0.5468, Val Loss: 0.5514\n",
      "Epoch [47/100], Loss: 0.5495\n",
      "Epoch [47/100], Train Loss: 0.5495, Val Loss: 0.5525\n",
      "Epoch [48/100], Loss: 0.5553\n",
      "Epoch [48/100], Train Loss: 0.5553, Val Loss: 0.5521\n",
      "Epoch [49/100], Loss: 0.5472\n",
      "Epoch [49/100], Train Loss: 0.5472, Val Loss: 0.5531\n",
      "Epoch [50/100], Loss: 0.5396\n",
      "Epoch [50/100], Train Loss: 0.5396, Val Loss: 0.5530\n",
      "Epoch [51/100], Loss: 0.5459\n",
      "Epoch [51/100], Train Loss: 0.5459, Val Loss: 0.5515\n",
      "Epoch [52/100], Loss: 0.5485\n",
      "Epoch [52/100], Train Loss: 0.5485, Val Loss: 0.5531\n",
      "Epoch [53/100], Loss: 0.5483\n",
      "Epoch [53/100], Train Loss: 0.5483, Val Loss: 0.5533\n",
      "Epoch [54/100], Loss: 0.5464\n",
      "Epoch [54/100], Train Loss: 0.5464, Val Loss: 0.5544\n",
      "Epoch [55/100], Loss: 0.5418\n",
      "Epoch [55/100], Train Loss: 0.5418, Val Loss: 0.5546\n",
      "Epoch [56/100], Loss: 0.5467\n",
      "Epoch [56/100], Train Loss: 0.5467, Val Loss: 0.5553\n",
      "Epoch [57/100], Loss: 0.5412\n",
      "Epoch [57/100], Train Loss: 0.5412, Val Loss: 0.5534\n",
      "Epoch [58/100], Loss: 0.5380\n",
      "Epoch [58/100], Train Loss: 0.5380, Val Loss: 0.5523\n",
      "Epoch [59/100], Loss: 0.5479\n",
      "Epoch [59/100], Train Loss: 0.5479, Val Loss: 0.5549\n",
      "Epoch [60/100], Loss: 0.5375\n",
      "Epoch [60/100], Train Loss: 0.5375, Val Loss: 0.5548\n",
      "Epoch [61/100], Loss: 0.5418\n",
      "Epoch [61/100], Train Loss: 0.5418, Val Loss: 0.5538\n",
      "Epoch [62/100], Loss: 0.5433\n",
      "Epoch [62/100], Train Loss: 0.5433, Val Loss: 0.5536\n",
      "Epoch [63/100], Loss: 0.5377\n",
      "Epoch [63/100], Train Loss: 0.5377, Val Loss: 0.5528\n",
      "Epoch [64/100], Loss: 0.5393\n",
      "Epoch [64/100], Train Loss: 0.5393, Val Loss: 0.5537\n",
      "Epoch [65/100], Loss: 0.5385\n",
      "Epoch [65/100], Train Loss: 0.5385, Val Loss: 0.5556\n",
      "Epoch [66/100], Loss: 0.5425\n",
      "Epoch [66/100], Train Loss: 0.5425, Val Loss: 0.5547\n",
      "Epoch [67/100], Loss: 0.5409\n",
      "Epoch [67/100], Train Loss: 0.5409, Val Loss: 0.5557\n",
      "Epoch [68/100], Loss: 0.5350\n",
      "Epoch [68/100], Train Loss: 0.5350, Val Loss: 0.5569\n",
      "Epoch [69/100], Loss: 0.5426\n",
      "Epoch [69/100], Train Loss: 0.5426, Val Loss: 0.5556\n",
      "Epoch [70/100], Loss: 0.5444\n",
      "Epoch [70/100], Train Loss: 0.5444, Val Loss: 0.5540\n",
      "Epoch [71/100], Loss: 0.5318\n",
      "Epoch [71/100], Train Loss: 0.5318, Val Loss: 0.5575\n",
      "Epoch [72/100], Loss: 0.5377\n",
      "Epoch [72/100], Train Loss: 0.5377, Val Loss: 0.5562\n",
      "Epoch [73/100], Loss: 0.5360\n",
      "Epoch [73/100], Train Loss: 0.5360, Val Loss: 0.5562\n",
      "Epoch [74/100], Loss: 0.5377\n",
      "Epoch [74/100], Train Loss: 0.5377, Val Loss: 0.5590\n",
      "Epoch [75/100], Loss: 0.5295\n",
      "Epoch [75/100], Train Loss: 0.5295, Val Loss: 0.5621\n",
      "Epoch [76/100], Loss: 0.5363\n",
      "Epoch [76/100], Train Loss: 0.5363, Val Loss: 0.5590\n",
      "Epoch [77/100], Loss: 0.5317\n",
      "Epoch [77/100], Train Loss: 0.5317, Val Loss: 0.5603\n",
      "Epoch [78/100], Loss: 0.5355\n",
      "Epoch [78/100], Train Loss: 0.5355, Val Loss: 0.5612\n",
      "Epoch [79/100], Loss: 0.5365\n",
      "Epoch [79/100], Train Loss: 0.5365, Val Loss: 0.5626\n",
      "Epoch [80/100], Loss: 0.5296\n",
      "Epoch [80/100], Train Loss: 0.5296, Val Loss: 0.5648\n",
      "Epoch [81/100], Loss: 0.5324\n",
      "Epoch [81/100], Train Loss: 0.5324, Val Loss: 0.5613\n",
      "Epoch [82/100], Loss: 0.5381\n",
      "Epoch [82/100], Train Loss: 0.5381, Val Loss: 0.5635\n",
      "Epoch [83/100], Loss: 0.5281\n",
      "Epoch [83/100], Train Loss: 0.5281, Val Loss: 0.5624\n",
      "Epoch [84/100], Loss: 0.5303\n",
      "Epoch [84/100], Train Loss: 0.5303, Val Loss: 0.5637\n",
      "Epoch [85/100], Loss: 0.5283\n",
      "Epoch [85/100], Train Loss: 0.5283, Val Loss: 0.5641\n",
      "Epoch [86/100], Loss: 0.5316\n",
      "Epoch [86/100], Train Loss: 0.5316, Val Loss: 0.5640\n",
      "Epoch [87/100], Loss: 0.5271\n",
      "Epoch [87/100], Train Loss: 0.5271, Val Loss: 0.5662\n",
      "Epoch [88/100], Loss: 0.5262\n",
      "Epoch [88/100], Train Loss: 0.5262, Val Loss: 0.5672\n",
      "Epoch [89/100], Loss: 0.5336\n",
      "Epoch [89/100], Train Loss: 0.5336, Val Loss: 0.5639\n",
      "Epoch [90/100], Loss: 0.5253\n",
      "Epoch [90/100], Train Loss: 0.5253, Val Loss: 0.5655\n",
      "Epoch [91/100], Loss: 0.5247\n",
      "Epoch [91/100], Train Loss: 0.5247, Val Loss: 0.5666\n",
      "Epoch [92/100], Loss: 0.5207\n",
      "Epoch [92/100], Train Loss: 0.5207, Val Loss: 0.5684\n",
      "Epoch [93/100], Loss: 0.5287\n",
      "Epoch [93/100], Train Loss: 0.5287, Val Loss: 0.5705\n",
      "Epoch [94/100], Loss: 0.5229\n",
      "Epoch [94/100], Train Loss: 0.5229, Val Loss: 0.5695\n",
      "Epoch [95/100], Loss: 0.5278\n",
      "Epoch [95/100], Train Loss: 0.5278, Val Loss: 0.5680\n",
      "Epoch [96/100], Loss: 0.5282\n",
      "Epoch [96/100], Train Loss: 0.5282, Val Loss: 0.5666\n",
      "Epoch [97/100], Loss: 0.5286\n",
      "Epoch [97/100], Train Loss: 0.5286, Val Loss: 0.5657\n",
      "Epoch [98/100], Loss: 0.5215\n",
      "Epoch [98/100], Train Loss: 0.5215, Val Loss: 0.5616\n",
      "Epoch [99/100], Loss: 0.5295\n",
      "Epoch [99/100], Train Loss: 0.5295, Val Loss: 0.5696\n",
      "Epoch [100/100], Loss: 0.5317\n",
      "Epoch [100/100], Train Loss: 0.5317, Val Loss: 0.5648\n"
     ]
    },
    {
     "data": {
      "image/png": "[encoded data removed]",
      "text/plain": [
       "<Figure size 1000x600 with 1 Axes>"
      ]
     },
     "metadata": {},
     "output_type": "display_data"
    }
   ],
   "source": [
    "best_params=study.best_params\n",
    "model = DNN_2(input_dim=X_train_tensor.shape[1],\n",
    "              hidden_units1=best_params[\"hidden_units1\"],\n",
    "              hidden_units2=best_params[\"hidden_units2\"],\n",
    "              hidden_units3=best_params[\"hidden_units3\"],\n",
    "              hidden_units4=best_params[\"hidden_units4\"],\n",
    "              dropout1=best_params[\"dropout1\"],\n",
    "              dropout2=best_params[\"dropout2\"],\n",
    "              dropout3=best_params[\"dropout3\"],\n",
    "              dropout4=best_params[\"dropout4\"]).to(device)\n",
    "# 最適化と訓練を実行\n",
    "optimizer = optim.Adam(model.parameters(), lr=best_params[\"learning_rate\"])\n",
    "criterion = nn.BCELoss()\n",
    "\n",
    "num_epochs=100\n",
    "train_losses = []\n",
    "val_losses = []\n",
    "\n",
    "model.train()\n",
    "for epoch in range(num_epochs):\n",
    "    epoch_train_loss = 0\n",
    "    epoch_val_loss = 0\n",
    "\n",
    "    for X_batch, y_batch in train_loader:\n",
    "        X_batch, y_batch = X_batch.to(device), y_batch.to(device)\n",
    "        optimizer.zero_grad()\n",
    "        outputs = model(X_batch).squeeze()\n",
    "        loss = criterion(outputs, y_batch)\n",
    "        loss.backward()\n",
    "        optimizer.step()\n",
    "        epoch_train_loss += loss.item()\n",
    "    avg_train_loss = epoch_train_loss / len(train_loader)\n",
    "    train_losses.append(avg_train_loss)\n",
    "    print(f'Epoch [{epoch+1}/{num_epochs}], Loss: {avg_train_loss:.4f}')\n",
    "\n",
    "    if val_loader is not None:\n",
    "        model.eval()  \n",
    "        with torch.no_grad():\n",
    "            for X_val, y_val in val_loader:\n",
    "                X_val, y_val = X_val.to(device), y_val.to(device)\n",
    "                val_outputs = model(X_val).squeeze()\n",
    "                val_loss = criterion(val_outputs, y_val)\n",
    "                epoch_val_loss += val_loss.item()\n",
    "\n",
    "        avg_val_loss = epoch_val_loss / len(val_loader)\n",
    "        val_losses.append(avg_val_loss)\n",
    "        model.train()  \n",
    "\n",
    "    if val_loader is not None:\n",
    "        print(f\"Epoch [{epoch+1}/{num_epochs}], Train Loss: {avg_train_loss:.4f}, Val Loss: {avg_val_loss:.4f}\")\n",
    "    else:\n",
    "        print(f\"Epoch [{epoch+1}/{num_epochs}], Train Loss: {avg_train_loss:.4f}\")\n",
    "\n",
    "plt.figure(figsize=(10, 6))\n",
    "plt.plot(range(1, num_epochs + 1), train_losses, label='Train Loss')\n",
    "if val_losses:\n",
    "    plt.plot(range(1, num_epochs + 1), val_losses, label='Validation Loss')\n",
    "plt.xlabel('Epoch')\n",
    "plt.ylabel('Loss')\n",
    "plt.title('Learning Curve for DNN1')\n",
    "plt.legend()\n",
    "plt.grid()\n",
    "plt.show()"
   ]
  },
  {
   "cell_type": "code",
   "execution_count": 37,
   "metadata": {},
   "outputs": [
    {
     "name": "stdout",
     "output_type": "stream",
     "text": [
      "Accuracy: 58.77%\n",
      "Precision: 0.4710\n",
      "Recall: 0.5516\n",
      "F1 Score: 0.5082\n",
      "Matthews Correlation Coefficient: 0.1585\n",
      "Specificity: 0.6104\n"
     ]
    },
    {
     "data": {
      "image/png": "[encoded data removed]",
      "text/plain": [
       "<Figure size 640x480 with 1 Axes>"
      ]
     },
     "metadata": {},
     "output_type": "display_data"
    },
    {
     "data": {
      "image/png": "[encoded data removed]",
      "text/plain": [
       "<Figure size 640x480 with 1 Axes>"
      ]
     },
     "metadata": {},
     "output_type": "display_data"
    },
    {
     "data": {
      "image/png": "[encoded data removed]",
      "text/plain": [
       "<Figure size 640x480 with 1 Axes>"
      ]
     },
     "metadata": {},
     "output_type": "display_data"
    }
   ],
   "source": [
    "model.eval()\n",
    "with torch.no_grad():\n",
    "    X_test_tensor = X_test_tensor.to(device)\n",
    "    y_test_tensor = y_test_tensor.to(device)\n",
    "\n",
    "    # 予測と確率\n",
    "    test_outputs = model(X_test_tensor).squeeze()\n",
    "    predictions = (test_outputs > 0.49).float()\n",
    "    y_true = y_test_tensor.cpu().numpy()\n",
    "    y_pred = predictions.cpu().numpy()\n",
    "    y_prob = test_outputs.cpu().numpy()\n",
    "\n",
    "# 評価指標\n",
    "    accuracy = accuracy_score(y_true, y_pred)\n",
    "    precision = precision_score(y_true, y_pred)\n",
    "    recall = recall_score(y_true, y_pred)\n",
    "    f1 = f1_score(y_true, y_pred)\n",
    "    mcc = matthews_corrcoef(y_true, y_pred)\n",
    "    specificity = recall_score(y_true, y_pred, pos_label=0)  \n",
    "    print(f'Accuracy: {accuracy * 100:.2f}%')\n",
    "    print(f'Precision: {precision:.4f}')\n",
    "    print(f'Recall: {recall:.4f}')\n",
    "    print(f'F1 Score: {f1:.4f}')\n",
    "    print(f'Matthews Correlation Coefficient: {mcc:.4f}')\n",
    "    print(f'Specificity: {specificity:.4f}')\n",
    "\n",
    "    # 混同行列（割合表示）\n",
    "    cm = confusion_matrix(y_true, y_pred, normalize='true')\n",
    "    sns.heatmap(cm, annot=True, fmt=\".2%\", cmap=\"Blues\", cbar=False)\n",
    "    plt.xlabel(\"Predicted\")\n",
    "    plt.ylabel(\"Actual\")\n",
    "    plt.title(f\"Confusion Matrix (Normalized)\")\n",
    "    plt.show()\n",
    "\n",
    "    # ROC曲線とAUC\n",
    "    fpr, tpr, thresholds = roc_curve(y_true, y_prob)\n",
    "    roc_auc = auc(fpr, tpr)\n",
    "    plt.plot(fpr, tpr, label=f'ROC curve (AUC = {roc_auc:.2f})')\n",
    "    plt.plot([0, 1], [0, 1], 'k--') \n",
    "    plt.xlabel('False Positive Rate')\n",
    "    plt.ylabel('True Positive Rate')\n",
    "    plt.title(f'ROC Curve - Model ')\n",
    "    plt.legend(loc=\"lower right\")\n",
    "    plt.show()\n",
    "\n",
    "    # Precision-Recall曲線\n",
    "    precision_curve, recall_curve, pr_thresholds = precision_recall_curve(y_true, y_prob)\n",
    "    pr_auc = auc(recall_curve, precision_curve)\n",
    "    plt.plot(recall_curve, precision_curve, label=f'PR curve (AUC = {pr_auc:.2f})')\n",
    "    plt.xlabel('Recall')\n",
    "    plt.ylabel('Precision')\n",
    "    plt.title(f'Precision-Recall Curve ')\n",
    "    plt.legend(loc=\"lower left\")\n",
    "    plt.show()    "
   ]
  },
  {
   "cell_type": "code",
   "execution_count": 38,
   "metadata": {},
   "outputs": [],
   "source": [
    "# モデルと構造を保存\n",
    "torch.save(model, '../../saved_model/DNN_2.pth')\n"
   ]
  },
  {
   "cell_type": "code",
   "execution_count": null,
   "metadata": {},
   "outputs": [],
   "source": []
  }
 ],
 "metadata": {
  "kernelspec": {
   "display_name": "torch",
   "language": "python",
   "name": "python3"
  },
  "language_info": {
   "codemirror_mode": {
    "name": "ipython",
    "version": 3
   },
   "file_extension": ".py",
   "mimetype": "text/x-python",
   "name": "python",
   "nbconvert_exporter": "python",
   "pygments_lexer": "ipython3",
   "version": "3.12.7"
  }
 },
 "nbformat": 4,
 "nbformat_minor": 2
}
