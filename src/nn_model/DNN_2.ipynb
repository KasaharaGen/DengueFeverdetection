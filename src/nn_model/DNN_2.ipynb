{
 "cells": [
  {
   "cell_type": "code",
   "execution_count": 64,
   "metadata": {},
   "outputs": [],
   "source": [
    "import numpy as np\n",
    "import pandas as pd\n",
    "import matplotlib.pyplot as plt\n",
    "import seaborn as sns\n",
    "\n",
    "import torch\n",
    "import torch.nn as nn\n",
    "import torch.optim as optim\n",
    "\n",
    "import optuna\n",
    "\n",
    "from sklearn.model_selection import train_test_split\n",
    "from sklearn.metrics import confusion_matrix,accuracy_score, precision_score, recall_score, f1_score, confusion_matrix, roc_curve, auc,matthews_corrcoef, precision_recall_curve,roc_auc_score\n",
    "\n"
   ]
  },
  {
   "cell_type": "markdown",
   "metadata": {},
   "source": [
    "データ読み取り"
   ]
  },
  {
   "cell_type": "code",
   "execution_count": 65,
   "metadata": {},
   "outputs": [],
   "source": [
    "df=pd.read_csv('../../data/learning_data.csv',index_col=0)\n",
    "\n",
    "X=df.drop(columns='dengue',axis=1).values\n",
    "y=df['dengue'].values\n",
    "\n",
    "X_train, X_test, y_train, y_test = train_test_split(X, y, test_size=0.2,random_state=42)\n",
    "X_train, X_val, y_train, y_val = train_test_split(X_train, y_train, test_size=0.1,random_state=42)\n",
    "\n",
    "#torchテンソルに変換\n",
    "X_train_tensor = torch.tensor(X_train, dtype=torch.float32)\n",
    "y_train_tensor = torch.tensor(y_train, dtype=torch.float32)\n",
    "X_test_tensor = torch.tensor(X_test, dtype=torch.float32)\n",
    "y_test_tensor = torch.tensor(y_test, dtype=torch.float32)\n",
    "X_val_tensor = torch.tensor(X_val, dtype=torch.float32)\n",
    "y_val_tensor = torch.tensor(y_val, dtype=torch.float32)\n"
   ]
  },
  {
   "cell_type": "code",
   "execution_count": 66,
   "metadata": {},
   "outputs": [],
   "source": [
    "class DNN_2(nn.Module):\n",
    "    def __init__(self, input_dim,dropout1,dropout2,dropout3,dropout4):\n",
    "        super(DNN_2, self).__init__()\n",
    "        self.layer1 = nn.Linear(input_dim,64)\n",
    "        self.layer2 = nn.Linear(64,32)\n",
    "        self.layer3 = nn.Linear(32,16)\n",
    "        self.layer4 = nn.Linear(16,8)\n",
    "        self.output_layer = nn.Linear(8, 1)\n",
    "\n",
    "        self.dropout1 = nn.Dropout(dropout1)\n",
    "        self.dropout2 = nn.Dropout(dropout2)\n",
    "        self.dropout3 = nn.Dropout(dropout3)\n",
    "        self.dropout4 = nn.Dropout(dropout4)\n",
    "\n",
    "        \n",
    "        \n",
    "    def forward(self, x):\n",
    "        x = torch.relu(self.layer1(x))\n",
    "        x = self.dropout1(x)\n",
    "        \n",
    "        x = torch.relu(self.layer2(x))\n",
    "        x = self.dropout2(x)\n",
    "\n",
    "        x = torch.relu(self.layer3(x))\n",
    "        x = self.dropout3(x)\n",
    "\n",
    "        x = torch.relu(self.layer4(x))\n",
    "        x = self.dropout4(x)\n",
    "\n",
    "        x = torch.sigmoid(self.output_layer(x)) \n",
    "        return x\n",
    "    "
   ]
  },
  {
   "cell_type": "markdown",
   "metadata": {},
   "source": [
    "学習データセットの作成"
   ]
  },
  {
   "cell_type": "code",
   "execution_count": 67,
   "metadata": {},
   "outputs": [],
   "source": [
    "train_dataset = torch.utils.data.TensorDataset(X_train_tensor, y_train_tensor)\n",
    "train_loader = torch.utils.data.DataLoader(dataset=train_dataset, batch_size=4, shuffle=True)\n",
    "\n",
    "val_dataset = torch.utils.data.TensorDataset(X_val_tensor, y_val_tensor)\n",
    "val_loader = torch.utils.data.DataLoader(dataset=val_dataset, batch_size=4, shuffle=False)"
   ]
  },
  {
   "cell_type": "markdown",
   "metadata": {},
   "source": [
    "Optunaの設定"
   ]
  },
  {
   "cell_type": "code",
   "execution_count": 68,
   "metadata": {},
   "outputs": [],
   "source": [
    "def objective(trial):\n",
    "    # ハイパーパラメータのサンプリング\n",
    "    dropout1 = trial.suggest_float(\"dropout1\", 0, 0.5, step=0.05)\n",
    "    dropout2 = trial.suggest_float(\"dropout2\", 0, 0.5, step=0.05)\n",
    "    dropout3 = trial.suggest_float(\"dropout3\", 0, 0.5, step=0.05)\n",
    "    dropout4 = trial.suggest_float(\"dropout4\", 0, 0.5, step=0.05)\n",
    "    learning_rate = trial.suggest_loguniform(\"learning_rate\", 1e-4, 1e-2)  # 範囲を調整\n",
    "\n",
    "    # モデル定義\n",
    "    model = DNN_2(\n",
    "        input_dim=X_train_tensor.shape[1],\n",
    "        dropout1=dropout1,\n",
    "        dropout2=dropout2,\n",
    "        dropout3=dropout3,\n",
    "        dropout4=dropout4\n",
    "    ).to(device)\n",
    "\n",
    "    criterion = nn.BCELoss()\n",
    "    optimizer = torch.optim.Adam(model.parameters(), lr=learning_rate)\n",
    "\n",
    "    # Early Stoppingの設定\n",
    "    patience = 10\n",
    "    best_val_loss = float('inf')\n",
    "    patience_counter = 0\n",
    "\n",
    "    # 訓練ループ\n",
    "    num_epochs = 100\n",
    "    for epoch in range(num_epochs):\n",
    "        model.train()\n",
    "        for X_batch, y_batch in train_loader:\n",
    "            X_batch, y_batch = X_batch.to(device), y_batch.to(device)\n",
    "            optimizer.zero_grad()\n",
    "            outputs = model(X_batch).squeeze()\n",
    "            loss = criterion(outputs, y_batch.squeeze())\n",
    "            loss.backward()\n",
    "            optimizer.step()\n",
    "\n",
    "        # バリデーション評価\n",
    "        model.eval()\n",
    "        val_loss = 0\n",
    "        val_true, val_pred = [], []\n",
    "        with torch.no_grad():\n",
    "            for X_val, y_val in val_loader:\n",
    "                X_val, y_val = X_val.to(device), y_val.to(device)\n",
    "                val_outputs = model(X_val).squeeze()\n",
    "                val_loss += criterion(val_outputs, y_val.squeeze()).item()\n",
    "                predictions = (val_outputs > 0.49).float()  \n",
    "                val_true.extend(y_val.cpu().numpy())\n",
    "                val_pred.extend(predictions.cpu().numpy())\n",
    "\n",
    "        val_loss /= len(val_loader)\n",
    "\n",
    "        # Early Stopping判定\n",
    "        if val_loss < best_val_loss:\n",
    "            best_val_loss = val_loss\n",
    "            patience_counter = 0\n",
    "        else:\n",
    "            patience_counter += 1\n",
    "\n",
    "        if patience_counter >= patience:\n",
    "            print(f\"Early stopping at epoch {epoch}\")\n",
    "            break\n",
    "\n",
    "        # Optunaへのログ\n",
    "        trial.report(val_loss, epoch)\n",
    "        if trial.should_prune():\n",
    "            raise optuna.exceptions.TrialPruned()\n",
    "\n",
    "    # 評価指標の計算\n",
    "    mcc = matthews_corrcoef(val_true, val_pred)\n",
    "    print(f\"Final MCC: {mcc:.4f}\")\n",
    "\n",
    "    return mcc  # mccを返す\n"
   ]
  },
  {
   "cell_type": "code",
   "execution_count": 69,
   "metadata": {},
   "outputs": [
    {
     "name": "stderr",
     "output_type": "stream",
     "text": [
      "[I 2024-12-04 16:00:54,394] A new study created in memory with name: no-name-78ac5338-4858-42f0-9609-c8a2fa8fa982\n",
      "/tmp/ipykernel_183729/3461470650.py:7: FutureWarning: suggest_loguniform has been deprecated in v3.0.0. This feature will be removed in v6.0.0. See https://github.com/optuna/optuna/releases/tag/v3.0.0. Use suggest_float(..., log=True) instead.\n",
      "  learning_rate = trial.suggest_loguniform(\"learning_rate\", 1e-4, 1e-2)  # 範囲を調整\n",
      "[I 2024-12-04 16:01:46,445] Trial 0 finished with value: 0.3444571811508554 and parameters: {'dropout1': 0.4, 'dropout2': 0.5, 'dropout3': 0.45, 'dropout4': 0.45, 'learning_rate': 0.0009525570879818969}. Best is trial 0 with value: 0.3444571811508554.\n"
     ]
    },
    {
     "name": "stdout",
     "output_type": "stream",
     "text": [
      "Early stopping at epoch 15\n",
      "Final MCC: 0.3445\n"
     ]
    },
    {
     "name": "stderr",
     "output_type": "stream",
     "text": [
      "/tmp/ipykernel_183729/3461470650.py:7: FutureWarning: suggest_loguniform has been deprecated in v3.0.0. This feature will be removed in v6.0.0. See https://github.com/optuna/optuna/releases/tag/v3.0.0. Use suggest_float(..., log=True) instead.\n",
      "  learning_rate = trial.suggest_loguniform(\"learning_rate\", 1e-4, 1e-2)  # 範囲を調整\n",
      "[I 2024-12-04 16:03:47,587] Trial 1 finished with value: 0.17263532565794473 and parameters: {'dropout1': 0.5, 'dropout2': 0.4, 'dropout3': 0.0, 'dropout4': 0.30000000000000004, 'learning_rate': 0.0004158922631517666}. Best is trial 0 with value: 0.3444571811508554.\n"
     ]
    },
    {
     "name": "stdout",
     "output_type": "stream",
     "text": [
      "Early stopping at epoch 37\n",
      "Final MCC: 0.1726\n"
     ]
    },
    {
     "name": "stderr",
     "output_type": "stream",
     "text": [
      "/tmp/ipykernel_183729/3461470650.py:7: FutureWarning: suggest_loguniform has been deprecated in v3.0.0. This feature will be removed in v6.0.0. See https://github.com/optuna/optuna/releases/tag/v3.0.0. Use suggest_float(..., log=True) instead.\n",
      "  learning_rate = trial.suggest_loguniform(\"learning_rate\", 1e-4, 1e-2)  # 範囲を調整\n",
      "[I 2024-12-04 16:05:33,066] Trial 2 finished with value: 0.17142857142857143 and parameters: {'dropout1': 0.30000000000000004, 'dropout2': 0.1, 'dropout3': 0.25, 'dropout4': 0.05, 'learning_rate': 0.0013000562661700577}. Best is trial 0 with value: 0.3444571811508554.\n"
     ]
    },
    {
     "name": "stdout",
     "output_type": "stream",
     "text": [
      "Early stopping at epoch 33\n",
      "Final MCC: 0.1714\n"
     ]
    },
    {
     "name": "stderr",
     "output_type": "stream",
     "text": [
      "/tmp/ipykernel_183729/3461470650.py:7: FutureWarning: suggest_loguniform has been deprecated in v3.0.0. This feature will be removed in v6.0.0. See https://github.com/optuna/optuna/releases/tag/v3.0.0. Use suggest_float(..., log=True) instead.\n",
      "  learning_rate = trial.suggest_loguniform(\"learning_rate\", 1e-4, 1e-2)  # 範囲を調整\n",
      "[I 2024-12-04 16:07:44,205] Trial 3 finished with value: 0.22046032766546803 and parameters: {'dropout1': 0.0, 'dropout2': 0.5, 'dropout3': 0.2, 'dropout4': 0.0, 'learning_rate': 0.00013930500878631542}. Best is trial 0 with value: 0.3444571811508554.\n"
     ]
    },
    {
     "name": "stdout",
     "output_type": "stream",
     "text": [
      "Early stopping at epoch 44\n",
      "Final MCC: 0.2205\n"
     ]
    },
    {
     "name": "stderr",
     "output_type": "stream",
     "text": [
      "/tmp/ipykernel_183729/3461470650.py:7: FutureWarning: suggest_loguniform has been deprecated in v3.0.0. This feature will be removed in v6.0.0. See https://github.com/optuna/optuna/releases/tag/v3.0.0. Use suggest_float(..., log=True) instead.\n",
      "  learning_rate = trial.suggest_loguniform(\"learning_rate\", 1e-4, 1e-2)  # 範囲を調整\n",
      "[I 2024-12-04 16:09:46,555] Trial 4 finished with value: 0.3238620405592368 and parameters: {'dropout1': 0.5, 'dropout2': 0.1, 'dropout3': 0.2, 'dropout4': 0.1, 'learning_rate': 0.002609133462789895}. Best is trial 0 with value: 0.3444571811508554.\n"
     ]
    },
    {
     "name": "stdout",
     "output_type": "stream",
     "text": [
      "Early stopping at epoch 40\n",
      "Final MCC: 0.3239\n"
     ]
    },
    {
     "name": "stderr",
     "output_type": "stream",
     "text": [
      "/tmp/ipykernel_183729/3461470650.py:7: FutureWarning: suggest_loguniform has been deprecated in v3.0.0. This feature will be removed in v6.0.0. See https://github.com/optuna/optuna/releases/tag/v3.0.0. Use suggest_float(..., log=True) instead.\n",
      "  learning_rate = trial.suggest_loguniform(\"learning_rate\", 1e-4, 1e-2)  # 範囲を調整\n",
      "[I 2024-12-04 16:13:26,157] Trial 5 finished with value: 0.1576203816946855 and parameters: {'dropout1': 0.1, 'dropout2': 0.4, 'dropout3': 0.2, 'dropout4': 0.30000000000000004, 'learning_rate': 0.00010437830500818084}. Best is trial 0 with value: 0.3444571811508554.\n"
     ]
    },
    {
     "name": "stdout",
     "output_type": "stream",
     "text": [
      "Early stopping at epoch 73\n",
      "Final MCC: 0.1576\n"
     ]
    },
    {
     "name": "stderr",
     "output_type": "stream",
     "text": [
      "/tmp/ipykernel_183729/3461470650.py:7: FutureWarning: suggest_loguniform has been deprecated in v3.0.0. This feature will be removed in v6.0.0. See https://github.com/optuna/optuna/releases/tag/v3.0.0. Use suggest_float(..., log=True) instead.\n",
      "  learning_rate = trial.suggest_loguniform(\"learning_rate\", 1e-4, 1e-2)  # 範囲を調整\n",
      "[I 2024-12-04 16:16:06,056] Trial 6 finished with value: 0.30624613682160584 and parameters: {'dropout1': 0.35000000000000003, 'dropout2': 0.35000000000000003, 'dropout3': 0.35000000000000003, 'dropout4': 0.05, 'learning_rate': 0.0001631334300219737}. Best is trial 0 with value: 0.3444571811508554.\n"
     ]
    },
    {
     "name": "stdout",
     "output_type": "stream",
     "text": [
      "Early stopping at epoch 53\n",
      "Final MCC: 0.3062\n"
     ]
    },
    {
     "name": "stderr",
     "output_type": "stream",
     "text": [
      "/tmp/ipykernel_183729/3461470650.py:7: FutureWarning: suggest_loguniform has been deprecated in v3.0.0. This feature will be removed in v6.0.0. See https://github.com/optuna/optuna/releases/tag/v3.0.0. Use suggest_float(..., log=True) instead.\n",
      "  learning_rate = trial.suggest_loguniform(\"learning_rate\", 1e-4, 1e-2)  # 範囲を調整\n",
      "[I 2024-12-04 16:16:08,997] Trial 7 pruned. \n",
      "[I 2024-12-04 16:16:12,019] Trial 8 pruned. \n",
      "[I 2024-12-04 16:16:14,886] Trial 9 pruned. \n",
      "[I 2024-12-04 16:16:17,845] Trial 10 pruned. \n",
      "[I 2024-12-04 16:16:20,767] Trial 11 pruned. \n",
      "[I 2024-12-04 16:16:23,476] Trial 12 pruned. \n",
      "[I 2024-12-04 16:16:26,279] Trial 13 pruned. \n",
      "[I 2024-12-04 16:16:29,344] Trial 14 pruned. \n",
      "[I 2024-12-04 16:16:32,389] Trial 15 pruned. \n",
      "[I 2024-12-04 16:16:35,420] Trial 16 pruned. \n",
      "[I 2024-12-04 16:16:38,353] Trial 17 pruned. \n",
      "[I 2024-12-04 16:16:41,347] Trial 18 pruned. \n",
      "[I 2024-12-04 16:16:44,389] Trial 19 pruned. \n",
      "[I 2024-12-04 16:16:47,460] Trial 20 pruned. \n",
      "[I 2024-12-04 16:16:50,440] Trial 21 pruned. \n",
      "[I 2024-12-04 16:16:53,494] Trial 22 pruned. \n",
      "[I 2024-12-04 16:16:56,507] Trial 23 pruned. \n",
      "[I 2024-12-04 16:16:59,428] Trial 24 pruned. \n",
      "[I 2024-12-04 16:17:02,322] Trial 25 pruned. \n",
      "[I 2024-12-04 16:17:05,332] Trial 26 pruned. \n",
      "[I 2024-12-04 16:17:08,325] Trial 27 pruned. \n",
      "[I 2024-12-04 16:17:11,304] Trial 28 pruned. \n",
      "[I 2024-12-04 16:17:14,547] Trial 29 pruned. \n",
      "[I 2024-12-04 16:17:17,712] Trial 30 pruned. \n",
      "[I 2024-12-04 16:20:09,878] Trial 31 finished with value: 0.2901083796939586 and parameters: {'dropout1': 0.0, 'dropout2': 0.5, 'dropout3': 0.2, 'dropout4': 0.0, 'learning_rate': 0.00010201701029533744}. Best is trial 0 with value: 0.3444571811508554.\n"
     ]
    },
    {
     "name": "stdout",
     "output_type": "stream",
     "text": [
      "Early stopping at epoch 52\n",
      "Final MCC: 0.2901\n"
     ]
    },
    {
     "name": "stderr",
     "output_type": "stream",
     "text": [
      "/tmp/ipykernel_183729/3461470650.py:7: FutureWarning: suggest_loguniform has been deprecated in v3.0.0. This feature will be removed in v6.0.0. See https://github.com/optuna/optuna/releases/tag/v3.0.0. Use suggest_float(..., log=True) instead.\n",
      "  learning_rate = trial.suggest_loguniform(\"learning_rate\", 1e-4, 1e-2)  # 範囲を調整\n",
      "[I 2024-12-04 16:22:58,390] Trial 32 finished with value: 0.23303407422663083 and parameters: {'dropout1': 0.0, 'dropout2': 0.5, 'dropout3': 0.15000000000000002, 'dropout4': 0.05, 'learning_rate': 0.00012522651874333736}. Best is trial 0 with value: 0.3444571811508554.\n"
     ]
    },
    {
     "name": "stdout",
     "output_type": "stream",
     "text": [
      "Early stopping at epoch 49\n",
      "Final MCC: 0.2330\n"
     ]
    },
    {
     "name": "stderr",
     "output_type": "stream",
     "text": [
      "/tmp/ipykernel_183729/3461470650.py:7: FutureWarning: suggest_loguniform has been deprecated in v3.0.0. This feature will be removed in v6.0.0. See https://github.com/optuna/optuna/releases/tag/v3.0.0. Use suggest_float(..., log=True) instead.\n",
      "  learning_rate = trial.suggest_loguniform(\"learning_rate\", 1e-4, 1e-2)  # 範囲を調整\n",
      "[I 2024-12-04 16:23:01,803] Trial 33 pruned. \n",
      "[I 2024-12-04 16:25:51,632] Trial 34 finished with value: 0.3350670380926767 and parameters: {'dropout1': 0.05, 'dropout2': 0.4, 'dropout3': 0.25, 'dropout4': 0.1, 'learning_rate': 0.00010529587846183779}. Best is trial 0 with value: 0.3444571811508554.\n"
     ]
    },
    {
     "name": "stdout",
     "output_type": "stream",
     "text": [
      "Early stopping at epoch 48\n",
      "Final MCC: 0.3351\n"
     ]
    },
    {
     "name": "stderr",
     "output_type": "stream",
     "text": [
      "/tmp/ipykernel_183729/3461470650.py:7: FutureWarning: suggest_loguniform has been deprecated in v3.0.0. This feature will be removed in v6.0.0. See https://github.com/optuna/optuna/releases/tag/v3.0.0. Use suggest_float(..., log=True) instead.\n",
      "  learning_rate = trial.suggest_loguniform(\"learning_rate\", 1e-4, 1e-2)  # 範囲を調整\n",
      "[I 2024-12-04 16:25:55,159] Trial 35 pruned. \n",
      "[I 2024-12-04 16:25:58,768] Trial 36 pruned. \n",
      "[I 2024-12-04 16:27:53,896] Trial 37 finished with value: 0.31066390097531804 and parameters: {'dropout1': 0.5, 'dropout2': 0.4, 'dropout3': 0.35000000000000003, 'dropout4': 0.05, 'learning_rate': 0.0001308204736675227}. Best is trial 0 with value: 0.3444571811508554.\n"
     ]
    },
    {
     "name": "stdout",
     "output_type": "stream",
     "text": [
      "Early stopping at epoch 33\n",
      "Final MCC: 0.3107\n"
     ]
    },
    {
     "name": "stderr",
     "output_type": "stream",
     "text": [
      "/tmp/ipykernel_183729/3461470650.py:7: FutureWarning: suggest_loguniform has been deprecated in v3.0.0. This feature will be removed in v6.0.0. See https://github.com/optuna/optuna/releases/tag/v3.0.0. Use suggest_float(..., log=True) instead.\n",
      "  learning_rate = trial.suggest_loguniform(\"learning_rate\", 1e-4, 1e-2)  # 範囲を調整\n",
      "[I 2024-12-04 16:27:57,292] Trial 38 pruned. \n",
      "[I 2024-12-04 16:30:43,979] Trial 39 finished with value: 0.21098934859276514 and parameters: {'dropout1': 0.05, 'dropout2': 0.45, 'dropout3': 0.30000000000000004, 'dropout4': 0.25, 'learning_rate': 0.00012471537901226313}. Best is trial 0 with value: 0.3444571811508554.\n"
     ]
    },
    {
     "name": "stdout",
     "output_type": "stream",
     "text": [
      "Early stopping at epoch 46\n",
      "Final MCC: 0.2110\n"
     ]
    },
    {
     "name": "stderr",
     "output_type": "stream",
     "text": [
      "/tmp/ipykernel_183729/3461470650.py:7: FutureWarning: suggest_loguniform has been deprecated in v3.0.0. This feature will be removed in v6.0.0. See https://github.com/optuna/optuna/releases/tag/v3.0.0. Use suggest_float(..., log=True) instead.\n",
      "  learning_rate = trial.suggest_loguniform(\"learning_rate\", 1e-4, 1e-2)  # 範囲を調整\n",
      "[I 2024-12-04 16:30:47,341] Trial 40 pruned. \n",
      "[I 2024-12-04 16:30:50,741] Trial 41 pruned. \n",
      "[I 2024-12-04 16:34:47,935] Trial 42 finished with value: 0.34659191007765316 and parameters: {'dropout1': 0.25, 'dropout2': 0.35000000000000003, 'dropout3': 0.35000000000000003, 'dropout4': 0.05, 'learning_rate': 0.00010051000344745869}. Best is trial 42 with value: 0.34659191007765316.\n"
     ]
    },
    {
     "name": "stdout",
     "output_type": "stream",
     "text": [
      "Early stopping at epoch 65\n",
      "Final MCC: 0.3466\n"
     ]
    },
    {
     "name": "stderr",
     "output_type": "stream",
     "text": [
      "/tmp/ipykernel_183729/3461470650.py:7: FutureWarning: suggest_loguniform has been deprecated in v3.0.0. This feature will be removed in v6.0.0. See https://github.com/optuna/optuna/releases/tag/v3.0.0. Use suggest_float(..., log=True) instead.\n",
      "  learning_rate = trial.suggest_loguniform(\"learning_rate\", 1e-4, 1e-2)  # 範囲を調整\n",
      "[I 2024-12-04 16:34:51,604] Trial 43 pruned. \n",
      "[I 2024-12-04 16:38:47,130] Trial 44 finished with value: 0.2619978189658401 and parameters: {'dropout1': 0.30000000000000004, 'dropout2': 0.45, 'dropout3': 0.45, 'dropout4': 0.05, 'learning_rate': 0.00013929284905076777}. Best is trial 42 with value: 0.34659191007765316.\n"
     ]
    },
    {
     "name": "stdout",
     "output_type": "stream",
     "text": [
      "Early stopping at epoch 62\n",
      "Final MCC: 0.2620\n"
     ]
    },
    {
     "name": "stderr",
     "output_type": "stream",
     "text": [
      "/tmp/ipykernel_183729/3461470650.py:7: FutureWarning: suggest_loguniform has been deprecated in v3.0.0. This feature will be removed in v6.0.0. See https://github.com/optuna/optuna/releases/tag/v3.0.0. Use suggest_float(..., log=True) instead.\n",
      "  learning_rate = trial.suggest_loguniform(\"learning_rate\", 1e-4, 1e-2)  # 範囲を調整\n",
      "[I 2024-12-04 16:44:09,141] Trial 45 finished with value: 0.2901023219738108 and parameters: {'dropout1': 0.5, 'dropout2': 0.2, 'dropout3': 0.35000000000000003, 'dropout4': 0.15000000000000002, 'learning_rate': 0.00010995790289182664}. Best is trial 42 with value: 0.34659191007765316.\n"
     ]
    },
    {
     "name": "stdout",
     "output_type": "stream",
     "text": [
      "Early stopping at epoch 86\n",
      "Final MCC: 0.2901\n"
     ]
    },
    {
     "name": "stderr",
     "output_type": "stream",
     "text": [
      "/tmp/ipykernel_183729/3461470650.py:7: FutureWarning: suggest_loguniform has been deprecated in v3.0.0. This feature will be removed in v6.0.0. See https://github.com/optuna/optuna/releases/tag/v3.0.0. Use suggest_float(..., log=True) instead.\n",
      "  learning_rate = trial.suggest_loguniform(\"learning_rate\", 1e-4, 1e-2)  # 範囲を調整\n",
      "[I 2024-12-04 16:47:25,294] Trial 46 finished with value: 0.2534777411351246 and parameters: {'dropout1': 0.15000000000000002, 'dropout2': 0.35000000000000003, 'dropout3': 0.4, 'dropout4': 0.45, 'learning_rate': 0.00010098938272805745}. Best is trial 42 with value: 0.34659191007765316.\n"
     ]
    },
    {
     "name": "stdout",
     "output_type": "stream",
     "text": [
      "Early stopping at epoch 52\n",
      "Final MCC: 0.2535\n"
     ]
    },
    {
     "name": "stderr",
     "output_type": "stream",
     "text": [
      "/tmp/ipykernel_183729/3461470650.py:7: FutureWarning: suggest_loguniform has been deprecated in v3.0.0. This feature will be removed in v6.0.0. See https://github.com/optuna/optuna/releases/tag/v3.0.0. Use suggest_float(..., log=True) instead.\n",
      "  learning_rate = trial.suggest_loguniform(\"learning_rate\", 1e-4, 1e-2)  # 範囲を調整\n",
      "[I 2024-12-04 16:47:28,924] Trial 47 pruned. \n",
      "[I 2024-12-04 16:47:32,629] Trial 48 pruned. \n",
      "[I 2024-12-04 16:47:36,341] Trial 49 pruned. \n",
      "[I 2024-12-04 16:47:39,994] Trial 50 pruned. \n",
      "[I 2024-12-04 16:51:30,935] Trial 51 finished with value: 0.30220915702878676 and parameters: {'dropout1': 0.30000000000000004, 'dropout2': 0.15000000000000002, 'dropout3': 0.4, 'dropout4': 0.05, 'learning_rate': 0.00014686705598763213}. Best is trial 42 with value: 0.34659191007765316.\n"
     ]
    },
    {
     "name": "stdout",
     "output_type": "stream",
     "text": [
      "Early stopping at epoch 61\n",
      "Final MCC: 0.3022\n"
     ]
    },
    {
     "name": "stderr",
     "output_type": "stream",
     "text": [
      "/tmp/ipykernel_183729/3461470650.py:7: FutureWarning: suggest_loguniform has been deprecated in v3.0.0. This feature will be removed in v6.0.0. See https://github.com/optuna/optuna/releases/tag/v3.0.0. Use suggest_float(..., log=True) instead.\n",
      "  learning_rate = trial.suggest_loguniform(\"learning_rate\", 1e-4, 1e-2)  # 範囲を調整\n",
      "[I 2024-12-04 16:51:34,703] Trial 52 pruned. \n",
      "[I 2024-12-04 16:51:38,524] Trial 53 pruned. \n",
      "[I 2024-12-04 16:51:42,356] Trial 54 pruned. \n",
      "[I 2024-12-04 16:51:46,265] Trial 55 pruned. \n",
      "[I 2024-12-04 16:51:50,145] Trial 56 pruned. \n",
      "[I 2024-12-04 16:51:53,944] Trial 57 pruned. \n",
      "[I 2024-12-04 16:51:57,699] Trial 58 pruned. \n",
      "[I 2024-12-04 16:52:01,504] Trial 59 pruned. \n",
      "[I 2024-12-04 16:52:05,274] Trial 60 pruned. \n",
      "[I 2024-12-04 16:52:09,032] Trial 61 pruned. \n",
      "[I 2024-12-04 16:52:12,883] Trial 62 pruned. \n",
      "[I 2024-12-04 16:55:35,808] Trial 63 finished with value: 0.286529479613142 and parameters: {'dropout1': 0.35000000000000003, 'dropout2': 0.15000000000000002, 'dropout3': 0.4, 'dropout4': 0.05, 'learning_rate': 0.00011444260515904616}. Best is trial 42 with value: 0.34659191007765316.\n"
     ]
    },
    {
     "name": "stdout",
     "output_type": "stream",
     "text": [
      "Early stopping at epoch 52\n",
      "Final MCC: 0.2865\n"
     ]
    },
    {
     "name": "stderr",
     "output_type": "stream",
     "text": [
      "/tmp/ipykernel_183729/3461470650.py:7: FutureWarning: suggest_loguniform has been deprecated in v3.0.0. This feature will be removed in v6.0.0. See https://github.com/optuna/optuna/releases/tag/v3.0.0. Use suggest_float(..., log=True) instead.\n",
      "  learning_rate = trial.suggest_loguniform(\"learning_rate\", 1e-4, 1e-2)  # 範囲を調整\n",
      "[I 2024-12-04 16:55:39,694] Trial 64 pruned. \n",
      "[I 2024-12-04 16:55:43,435] Trial 65 pruned. \n",
      "[I 2024-12-04 16:55:47,209] Trial 66 pruned. \n",
      "[I 2024-12-04 16:55:50,953] Trial 67 pruned. \n",
      "[I 2024-12-04 16:55:54,829] Trial 68 pruned. \n",
      "[I 2024-12-04 17:00:48,523] Trial 69 finished with value: 0.2633297623254712 and parameters: {'dropout1': 0.5, 'dropout2': 0.25, 'dropout3': 0.30000000000000004, 'dropout4': 0.05, 'learning_rate': 0.00010227209972288011}. Best is trial 42 with value: 0.34659191007765316.\n"
     ]
    },
    {
     "name": "stdout",
     "output_type": "stream",
     "text": [
      "Early stopping at epoch 77\n",
      "Final MCC: 0.2633\n"
     ]
    },
    {
     "name": "stderr",
     "output_type": "stream",
     "text": [
      "/tmp/ipykernel_183729/3461470650.py:7: FutureWarning: suggest_loguniform has been deprecated in v3.0.0. This feature will be removed in v6.0.0. See https://github.com/optuna/optuna/releases/tag/v3.0.0. Use suggest_float(..., log=True) instead.\n",
      "  learning_rate = trial.suggest_loguniform(\"learning_rate\", 1e-4, 1e-2)  # 範囲を調整\n",
      "[I 2024-12-04 17:02:55,166] Trial 70 finished with value: 0.2950773086964557 and parameters: {'dropout1': 0.45, 'dropout2': 0.4, 'dropout3': 0.25, 'dropout4': 0.4, 'learning_rate': 0.000217868083904031}. Best is trial 42 with value: 0.34659191007765316.\n"
     ]
    },
    {
     "name": "stdout",
     "output_type": "stream",
     "text": [
      "Early stopping at epoch 32\n",
      "Final MCC: 0.2951\n"
     ]
    },
    {
     "name": "stderr",
     "output_type": "stream",
     "text": [
      "/tmp/ipykernel_183729/3461470650.py:7: FutureWarning: suggest_loguniform has been deprecated in v3.0.0. This feature will be removed in v6.0.0. See https://github.com/optuna/optuna/releases/tag/v3.0.0. Use suggest_float(..., log=True) instead.\n",
      "  learning_rate = trial.suggest_loguniform(\"learning_rate\", 1e-4, 1e-2)  # 範囲を調整\n",
      "[I 2024-12-04 17:05:29,696] Trial 71 finished with value: 0.0699230178027249 and parameters: {'dropout1': 0.45, 'dropout2': 0.4, 'dropout3': 0.25, 'dropout4': 0.4, 'learning_rate': 0.00011929895539222144}. Best is trial 42 with value: 0.34659191007765316.\n"
     ]
    },
    {
     "name": "stdout",
     "output_type": "stream",
     "text": [
      "Early stopping at epoch 39\n",
      "Final MCC: 0.0699\n"
     ]
    },
    {
     "name": "stderr",
     "output_type": "stream",
     "text": [
      "/tmp/ipykernel_183729/3461470650.py:7: FutureWarning: suggest_loguniform has been deprecated in v3.0.0. This feature will be removed in v6.0.0. See https://github.com/optuna/optuna/releases/tag/v3.0.0. Use suggest_float(..., log=True) instead.\n",
      "  learning_rate = trial.suggest_loguniform(\"learning_rate\", 1e-4, 1e-2)  # 範囲を調整\n",
      "[I 2024-12-04 17:05:33,563] Trial 72 pruned. \n",
      "[I 2024-12-04 17:05:37,411] Trial 73 pruned. \n",
      "[I 2024-12-04 17:05:41,235] Trial 74 pruned. \n",
      "[I 2024-12-04 17:05:45,073] Trial 75 pruned. \n",
      "[I 2024-12-04 17:11:15,068] Trial 76 finished with value: 0.3062127263296445 and parameters: {'dropout1': 0.4, 'dropout2': 0.4, 'dropout3': 0.25, 'dropout4': 0.05, 'learning_rate': 0.00015587334572767655}. Best is trial 42 with value: 0.34659191007765316.\n"
     ]
    },
    {
     "name": "stdout",
     "output_type": "stream",
     "text": [
      "Early stopping at epoch 89\n",
      "Final MCC: 0.3062\n"
     ]
    },
    {
     "name": "stderr",
     "output_type": "stream",
     "text": [
      "/tmp/ipykernel_183729/3461470650.py:7: FutureWarning: suggest_loguniform has been deprecated in v3.0.0. This feature will be removed in v6.0.0. See https://github.com/optuna/optuna/releases/tag/v3.0.0. Use suggest_float(..., log=True) instead.\n",
      "  learning_rate = trial.suggest_loguniform(\"learning_rate\", 1e-4, 1e-2)  # 範囲を調整\n",
      "[I 2024-12-04 17:11:18,568] Trial 77 pruned. \n",
      "[I 2024-12-04 17:11:22,046] Trial 78 pruned. \n",
      "[I 2024-12-04 17:13:05,236] Trial 79 finished with value: 0.32017622069699025 and parameters: {'dropout1': 0.35000000000000003, 'dropout2': 0.45, 'dropout3': 0.25, 'dropout4': 0.1, 'learning_rate': 0.00015055943131910102}. Best is trial 42 with value: 0.34659191007765316.\n"
     ]
    },
    {
     "name": "stdout",
     "output_type": "stream",
     "text": [
      "Early stopping at epoch 28\n",
      "Final MCC: 0.3202\n"
     ]
    },
    {
     "name": "stderr",
     "output_type": "stream",
     "text": [
      "/tmp/ipykernel_183729/3461470650.py:7: FutureWarning: suggest_loguniform has been deprecated in v3.0.0. This feature will be removed in v6.0.0. See https://github.com/optuna/optuna/releases/tag/v3.0.0. Use suggest_float(..., log=True) instead.\n",
      "  learning_rate = trial.suggest_loguniform(\"learning_rate\", 1e-4, 1e-2)  # 範囲を調整\n",
      "[I 2024-12-04 17:13:08,855] Trial 80 pruned. \n",
      "[I 2024-12-04 17:13:12,613] Trial 81 pruned. \n",
      "[I 2024-12-04 17:16:02,747] Trial 82 finished with value: 0.30730442030883687 and parameters: {'dropout1': 0.35000000000000003, 'dropout2': 0.5, 'dropout3': 0.25, 'dropout4': 0.05, 'learning_rate': 0.00012431665073611792}. Best is trial 42 with value: 0.34659191007765316.\n"
     ]
    },
    {
     "name": "stdout",
     "output_type": "stream",
     "text": [
      "Early stopping at epoch 51\n",
      "Final MCC: 0.3073\n"
     ]
    },
    {
     "name": "stderr",
     "output_type": "stream",
     "text": [
      "/tmp/ipykernel_183729/3461470650.py:7: FutureWarning: suggest_loguniform has been deprecated in v3.0.0. This feature will be removed in v6.0.0. See https://github.com/optuna/optuna/releases/tag/v3.0.0. Use suggest_float(..., log=True) instead.\n",
      "  learning_rate = trial.suggest_loguniform(\"learning_rate\", 1e-4, 1e-2)  # 範囲を調整\n",
      "[I 2024-12-04 17:18:24,969] Trial 83 finished with value: 0.3657176470950697 and parameters: {'dropout1': 0.35000000000000003, 'dropout2': 0.5, 'dropout3': 0.25, 'dropout4': 0.1, 'learning_rate': 0.00013059339987377878}. Best is trial 83 with value: 0.3657176470950697.\n"
     ]
    },
    {
     "name": "stdout",
     "output_type": "stream",
     "text": [
      "Early stopping at epoch 44\n",
      "Final MCC: 0.3657\n"
     ]
    },
    {
     "name": "stderr",
     "output_type": "stream",
     "text": [
      "/tmp/ipykernel_183729/3461470650.py:7: FutureWarning: suggest_loguniform has been deprecated in v3.0.0. This feature will be removed in v6.0.0. See https://github.com/optuna/optuna/releases/tag/v3.0.0. Use suggest_float(..., log=True) instead.\n",
      "  learning_rate = trial.suggest_loguniform(\"learning_rate\", 1e-4, 1e-2)  # 範囲を調整\n",
      "[I 2024-12-04 17:21:13,063] Trial 84 finished with value: 0.33133820647811774 and parameters: {'dropout1': 0.35000000000000003, 'dropout2': 0.5, 'dropout3': 0.25, 'dropout4': 0.1, 'learning_rate': 0.00012821946388615085}. Best is trial 83 with value: 0.3657176470950697.\n"
     ]
    },
    {
     "name": "stdout",
     "output_type": "stream",
     "text": [
      "Early stopping at epoch 52\n",
      "Final MCC: 0.3313\n"
     ]
    },
    {
     "name": "stderr",
     "output_type": "stream",
     "text": [
      "/tmp/ipykernel_183729/3461470650.py:7: FutureWarning: suggest_loguniform has been deprecated in v3.0.0. This feature will be removed in v6.0.0. See https://github.com/optuna/optuna/releases/tag/v3.0.0. Use suggest_float(..., log=True) instead.\n",
      "  learning_rate = trial.suggest_loguniform(\"learning_rate\", 1e-4, 1e-2)  # 範囲を調整\n",
      "[I 2024-12-04 17:21:16,276] Trial 85 pruned. \n",
      "[I 2024-12-04 17:21:19,476] Trial 86 pruned. \n",
      "[I 2024-12-04 17:23:26,341] Trial 87 finished with value: 0.32756920994133026 and parameters: {'dropout1': 0.30000000000000004, 'dropout2': 0.5, 'dropout3': 0.25, 'dropout4': 0.15000000000000002, 'learning_rate': 0.0001294747991051311}. Best is trial 83 with value: 0.3657176470950697.\n"
     ]
    },
    {
     "name": "stdout",
     "output_type": "stream",
     "text": [
      "Early stopping at epoch 39\n",
      "Final MCC: 0.3276\n"
     ]
    },
    {
     "name": "stderr",
     "output_type": "stream",
     "text": [
      "/tmp/ipykernel_183729/3461470650.py:7: FutureWarning: suggest_loguniform has been deprecated in v3.0.0. This feature will be removed in v6.0.0. See https://github.com/optuna/optuna/releases/tag/v3.0.0. Use suggest_float(..., log=True) instead.\n",
      "  learning_rate = trial.suggest_loguniform(\"learning_rate\", 1e-4, 1e-2)  # 範囲を調整\n",
      "[I 2024-12-04 17:23:29,538] Trial 88 pruned. \n",
      "[I 2024-12-04 17:26:35,809] Trial 89 finished with value: 0.30348848933344197 and parameters: {'dropout1': 0.2, 'dropout2': 0.5, 'dropout3': 0.2, 'dropout4': 0.15000000000000002, 'learning_rate': 0.00011409491252137955}. Best is trial 83 with value: 0.3657176470950697.\n"
     ]
    },
    {
     "name": "stdout",
     "output_type": "stream",
     "text": [
      "Early stopping at epoch 58\n",
      "Final MCC: 0.3035\n"
     ]
    },
    {
     "name": "stderr",
     "output_type": "stream",
     "text": [
      "/tmp/ipykernel_183729/3461470650.py:7: FutureWarning: suggest_loguniform has been deprecated in v3.0.0. This feature will be removed in v6.0.0. See https://github.com/optuna/optuna/releases/tag/v3.0.0. Use suggest_float(..., log=True) instead.\n",
      "  learning_rate = trial.suggest_loguniform(\"learning_rate\", 1e-4, 1e-2)  # 範囲を調整\n",
      "[I 2024-12-04 17:26:39,015] Trial 90 pruned. \n",
      "[I 2024-12-04 17:26:42,223] Trial 91 pruned. \n",
      "[I 2024-12-04 17:26:45,435] Trial 92 pruned. \n",
      "[I 2024-12-04 17:26:48,613] Trial 93 pruned. \n",
      "[I 2024-12-04 17:26:51,750] Trial 94 pruned. \n",
      "[I 2024-12-04 17:26:54,898] Trial 95 pruned. \n",
      "[I 2024-12-04 17:26:58,107] Trial 96 pruned. \n",
      "[I 2024-12-04 17:27:01,299] Trial 97 pruned. \n",
      "[I 2024-12-04 17:27:04,508] Trial 98 pruned. \n",
      "[I 2024-12-04 17:27:07,676] Trial 99 pruned. \n"
     ]
    },
    {
     "name": "stdout",
     "output_type": "stream",
     "text": [
      "Best Parameters:  {'dropout1': 0.35000000000000003, 'dropout2': 0.5, 'dropout3': 0.25, 'dropout4': 0.1, 'learning_rate': 0.00013059339987377878}\n",
      "Best Validation F1:  0.3657176470950697\n"
     ]
    }
   ],
   "source": [
    "device_id = 0\n",
    "torch.cuda.set_device(device_id)\n",
    "device = torch.device(f\"cuda:{device_id}\" if torch.cuda.is_available() else \"cpu\")\n",
    "\n",
    "# Optunaの設定\n",
    "study = optuna.create_study(direction=\"maximize\")  \n",
    "study.optimize(objective, n_trials=100)\n",
    "\n",
    "# 結果表示\n",
    "print(\"Best Parameters: \", study.best_params)\n",
    "print(\"Best Validation F1: \", study.best_value)"
   ]
  },
  {
   "cell_type": "code",
   "execution_count": 70,
   "metadata": {},
   "outputs": [
    {
     "name": "stdout",
     "output_type": "stream",
     "text": [
      "Epoch [1/100], Loss: 0.6733\n",
      "Epoch [1/100], Train Loss: 0.6733, Val Loss: 0.6217\n",
      "Epoch [2/100], Loss: 0.6186\n",
      "Epoch [2/100], Train Loss: 0.6186, Val Loss: 0.5899\n",
      "Epoch [3/100], Loss: 0.5999\n",
      "Epoch [3/100], Train Loss: 0.5999, Val Loss: 0.5830\n",
      "Epoch [4/100], Loss: 0.5970\n",
      "Epoch [4/100], Train Loss: 0.5970, Val Loss: 0.5804\n",
      "Epoch [5/100], Loss: 0.5892\n",
      "Epoch [5/100], Train Loss: 0.5892, Val Loss: 0.5792\n",
      "Epoch [6/100], Loss: 0.5827\n",
      "Epoch [6/100], Train Loss: 0.5827, Val Loss: 0.5779\n",
      "Epoch [7/100], Loss: 0.5830\n",
      "Epoch [7/100], Train Loss: 0.5830, Val Loss: 0.5768\n",
      "Epoch [8/100], Loss: 0.5777\n",
      "Epoch [8/100], Train Loss: 0.5777, Val Loss: 0.5767\n",
      "Epoch [9/100], Loss: 0.5777\n",
      "Epoch [9/100], Train Loss: 0.5777, Val Loss: 0.5758\n",
      "Epoch [10/100], Loss: 0.5728\n",
      "Epoch [10/100], Train Loss: 0.5728, Val Loss: 0.5747\n",
      "Epoch [11/100], Loss: 0.5720\n",
      "Epoch [11/100], Train Loss: 0.5720, Val Loss: 0.5730\n",
      "Epoch [12/100], Loss: 0.5740\n",
      "Epoch [12/100], Train Loss: 0.5740, Val Loss: 0.5717\n",
      "Epoch [13/100], Loss: 0.5708\n",
      "Epoch [13/100], Train Loss: 0.5708, Val Loss: 0.5702\n",
      "Epoch [14/100], Loss: 0.5720\n",
      "Epoch [14/100], Train Loss: 0.5720, Val Loss: 0.5702\n",
      "Epoch [15/100], Loss: 0.5689\n",
      "Epoch [15/100], Train Loss: 0.5689, Val Loss: 0.5695\n",
      "Epoch [16/100], Loss: 0.5685\n",
      "Epoch [16/100], Train Loss: 0.5685, Val Loss: 0.5680\n",
      "Epoch [17/100], Loss: 0.5630\n",
      "Epoch [17/100], Train Loss: 0.5630, Val Loss: 0.5689\n",
      "Epoch [18/100], Loss: 0.5678\n",
      "Epoch [18/100], Train Loss: 0.5678, Val Loss: 0.5671\n",
      "Epoch [19/100], Loss: 0.5680\n",
      "Epoch [19/100], Train Loss: 0.5680, Val Loss: 0.5684\n",
      "Epoch [20/100], Loss: 0.5686\n",
      "Epoch [20/100], Train Loss: 0.5686, Val Loss: 0.5664\n",
      "Epoch [21/100], Loss: 0.5635\n",
      "Epoch [21/100], Train Loss: 0.5635, Val Loss: 0.5664\n",
      "Epoch [22/100], Loss: 0.5667\n",
      "Epoch [22/100], Train Loss: 0.5667, Val Loss: 0.5652\n",
      "Epoch [23/100], Loss: 0.5655\n",
      "Epoch [23/100], Train Loss: 0.5655, Val Loss: 0.5658\n",
      "Epoch [24/100], Loss: 0.5622\n",
      "Epoch [24/100], Train Loss: 0.5622, Val Loss: 0.5664\n",
      "Epoch [25/100], Loss: 0.5618\n",
      "Epoch [25/100], Train Loss: 0.5618, Val Loss: 0.5653\n",
      "Epoch [26/100], Loss: 0.5628\n",
      "Epoch [26/100], Train Loss: 0.5628, Val Loss: 0.5649\n",
      "Epoch [27/100], Loss: 0.5638\n",
      "Epoch [27/100], Train Loss: 0.5638, Val Loss: 0.5648\n",
      "Epoch [28/100], Loss: 0.5619\n",
      "Epoch [28/100], Train Loss: 0.5619, Val Loss: 0.5644\n",
      "Epoch [29/100], Loss: 0.5600\n",
      "Epoch [29/100], Train Loss: 0.5600, Val Loss: 0.5633\n",
      "Epoch [30/100], Loss: 0.5603\n",
      "Epoch [30/100], Train Loss: 0.5603, Val Loss: 0.5643\n",
      "Epoch [31/100], Loss: 0.5603\n",
      "Epoch [31/100], Train Loss: 0.5603, Val Loss: 0.5644\n",
      "Epoch [32/100], Loss: 0.5627\n",
      "Epoch [32/100], Train Loss: 0.5627, Val Loss: 0.5650\n",
      "Epoch [33/100], Loss: 0.5588\n",
      "Epoch [33/100], Train Loss: 0.5588, Val Loss: 0.5633\n",
      "Epoch [34/100], Loss: 0.5600\n",
      "Epoch [34/100], Train Loss: 0.5600, Val Loss: 0.5641\n",
      "Epoch [35/100], Loss: 0.5636\n",
      "Epoch [35/100], Train Loss: 0.5636, Val Loss: 0.5636\n",
      "Epoch [36/100], Loss: 0.5586\n",
      "Epoch [36/100], Train Loss: 0.5586, Val Loss: 0.5645\n",
      "Epoch [37/100], Loss: 0.5581\n",
      "Epoch [37/100], Train Loss: 0.5581, Val Loss: 0.5635\n",
      "Epoch [38/100], Loss: 0.5632\n",
      "Epoch [38/100], Train Loss: 0.5632, Val Loss: 0.5633\n",
      "Epoch [39/100], Loss: 0.5614\n",
      "Epoch [39/100], Train Loss: 0.5614, Val Loss: 0.5633\n",
      "Epoch [40/100], Loss: 0.5567\n",
      "Epoch [40/100], Train Loss: 0.5567, Val Loss: 0.5631\n",
      "Epoch [41/100], Loss: 0.5589\n",
      "Epoch [41/100], Train Loss: 0.5589, Val Loss: 0.5629\n",
      "Epoch [42/100], Loss: 0.5550\n",
      "Epoch [42/100], Train Loss: 0.5550, Val Loss: 0.5631\n",
      "Epoch [43/100], Loss: 0.5571\n",
      "Epoch [43/100], Train Loss: 0.5571, Val Loss: 0.5615\n",
      "Epoch [44/100], Loss: 0.5579\n",
      "Epoch [44/100], Train Loss: 0.5579, Val Loss: 0.5615\n",
      "Epoch [45/100], Loss: 0.5560\n",
      "Epoch [45/100], Train Loss: 0.5560, Val Loss: 0.5611\n",
      "Epoch [46/100], Loss: 0.5594\n",
      "Epoch [46/100], Train Loss: 0.5594, Val Loss: 0.5617\n",
      "Epoch [47/100], Loss: 0.5535\n",
      "Epoch [47/100], Train Loss: 0.5535, Val Loss: 0.5624\n",
      "Epoch [48/100], Loss: 0.5555\n",
      "Epoch [48/100], Train Loss: 0.5555, Val Loss: 0.5631\n",
      "Epoch [49/100], Loss: 0.5550\n",
      "Epoch [49/100], Train Loss: 0.5550, Val Loss: 0.5636\n",
      "Epoch [50/100], Loss: 0.5558\n",
      "Epoch [50/100], Train Loss: 0.5558, Val Loss: 0.5637\n",
      "Epoch [51/100], Loss: 0.5567\n",
      "Epoch [51/100], Train Loss: 0.5567, Val Loss: 0.5634\n",
      "Epoch [52/100], Loss: 0.5571\n",
      "Epoch [52/100], Train Loss: 0.5571, Val Loss: 0.5626\n",
      "Epoch [53/100], Loss: 0.5618\n",
      "Epoch [53/100], Train Loss: 0.5618, Val Loss: 0.5616\n",
      "Epoch [54/100], Loss: 0.5561\n",
      "Epoch [54/100], Train Loss: 0.5561, Val Loss: 0.5623\n",
      "Epoch [55/100], Loss: 0.5558\n",
      "Epoch [55/100], Train Loss: 0.5558, Val Loss: 0.5616\n",
      "Epoch [56/100], Loss: 0.5554\n",
      "Epoch [56/100], Train Loss: 0.5554, Val Loss: 0.5615\n",
      "Epoch [57/100], Loss: 0.5500\n",
      "Epoch [57/100], Train Loss: 0.5500, Val Loss: 0.5637\n",
      "Epoch [58/100], Loss: 0.5548\n",
      "Epoch [58/100], Train Loss: 0.5548, Val Loss: 0.5616\n",
      "Epoch [59/100], Loss: 0.5534\n",
      "Epoch [59/100], Train Loss: 0.5534, Val Loss: 0.5614\n",
      "Epoch [60/100], Loss: 0.5563\n",
      "Epoch [60/100], Train Loss: 0.5563, Val Loss: 0.5615\n",
      "Epoch [61/100], Loss: 0.5550\n",
      "Epoch [61/100], Train Loss: 0.5550, Val Loss: 0.5620\n",
      "Epoch [62/100], Loss: 0.5566\n",
      "Epoch [62/100], Train Loss: 0.5566, Val Loss: 0.5607\n",
      "Epoch [63/100], Loss: 0.5547\n",
      "Epoch [63/100], Train Loss: 0.5547, Val Loss: 0.5597\n",
      "Epoch [64/100], Loss: 0.5524\n",
      "Epoch [64/100], Train Loss: 0.5524, Val Loss: 0.5620\n",
      "Epoch [65/100], Loss: 0.5535\n",
      "Epoch [65/100], Train Loss: 0.5535, Val Loss: 0.5617\n",
      "Epoch [66/100], Loss: 0.5521\n",
      "Epoch [66/100], Train Loss: 0.5521, Val Loss: 0.5612\n",
      "Epoch [67/100], Loss: 0.5556\n",
      "Epoch [67/100], Train Loss: 0.5556, Val Loss: 0.5610\n",
      "Epoch [68/100], Loss: 0.5554\n",
      "Epoch [68/100], Train Loss: 0.5554, Val Loss: 0.5606\n",
      "Epoch [69/100], Loss: 0.5583\n",
      "Epoch [69/100], Train Loss: 0.5583, Val Loss: 0.5611\n",
      "Epoch [70/100], Loss: 0.5573\n",
      "Epoch [70/100], Train Loss: 0.5573, Val Loss: 0.5597\n",
      "Epoch [71/100], Loss: 0.5546\n",
      "Epoch [71/100], Train Loss: 0.5546, Val Loss: 0.5600\n",
      "Epoch [72/100], Loss: 0.5530\n",
      "Epoch [72/100], Train Loss: 0.5530, Val Loss: 0.5606\n",
      "Epoch [73/100], Loss: 0.5523\n",
      "Epoch [73/100], Train Loss: 0.5523, Val Loss: 0.5599\n",
      "Epoch [74/100], Loss: 0.5495\n",
      "Epoch [74/100], Train Loss: 0.5495, Val Loss: 0.5605\n",
      "Epoch [75/100], Loss: 0.5524\n",
      "Epoch [75/100], Train Loss: 0.5524, Val Loss: 0.5598\n",
      "Epoch [76/100], Loss: 0.5511\n",
      "Epoch [76/100], Train Loss: 0.5511, Val Loss: 0.5604\n",
      "Epoch [77/100], Loss: 0.5542\n",
      "Epoch [77/100], Train Loss: 0.5542, Val Loss: 0.5607\n",
      "Epoch [78/100], Loss: 0.5506\n",
      "Epoch [78/100], Train Loss: 0.5506, Val Loss: 0.5590\n",
      "Epoch [79/100], Loss: 0.5511\n",
      "Epoch [79/100], Train Loss: 0.5511, Val Loss: 0.5593\n",
      "Epoch [80/100], Loss: 0.5546\n",
      "Epoch [80/100], Train Loss: 0.5546, Val Loss: 0.5605\n",
      "Epoch [81/100], Loss: 0.5517\n",
      "Epoch [81/100], Train Loss: 0.5517, Val Loss: 0.5597\n",
      "Epoch [82/100], Loss: 0.5509\n",
      "Epoch [82/100], Train Loss: 0.5509, Val Loss: 0.5589\n",
      "Epoch [83/100], Loss: 0.5527\n",
      "Epoch [83/100], Train Loss: 0.5527, Val Loss: 0.5598\n",
      "Epoch [84/100], Loss: 0.5502\n",
      "Epoch [84/100], Train Loss: 0.5502, Val Loss: 0.5598\n",
      "Epoch [85/100], Loss: 0.5498\n",
      "Epoch [85/100], Train Loss: 0.5498, Val Loss: 0.5598\n",
      "Epoch [86/100], Loss: 0.5485\n",
      "Epoch [86/100], Train Loss: 0.5485, Val Loss: 0.5623\n",
      "Epoch [87/100], Loss: 0.5483\n",
      "Epoch [87/100], Train Loss: 0.5483, Val Loss: 0.5602\n",
      "Epoch [88/100], Loss: 0.5486\n",
      "Epoch [88/100], Train Loss: 0.5486, Val Loss: 0.5609\n",
      "Epoch [89/100], Loss: 0.5466\n",
      "Epoch [89/100], Train Loss: 0.5466, Val Loss: 0.5601\n",
      "Epoch [90/100], Loss: 0.5487\n",
      "Epoch [90/100], Train Loss: 0.5487, Val Loss: 0.5601\n",
      "Epoch [91/100], Loss: 0.5486\n",
      "Epoch [91/100], Train Loss: 0.5486, Val Loss: 0.5581\n",
      "Epoch [92/100], Loss: 0.5497\n",
      "Epoch [92/100], Train Loss: 0.5497, Val Loss: 0.5600\n",
      "Epoch [93/100], Loss: 0.5518\n",
      "Epoch [93/100], Train Loss: 0.5518, Val Loss: 0.5579\n",
      "Epoch [94/100], Loss: 0.5463\n",
      "Epoch [94/100], Train Loss: 0.5463, Val Loss: 0.5604\n",
      "Epoch [95/100], Loss: 0.5510\n",
      "Epoch [95/100], Train Loss: 0.5510, Val Loss: 0.5574\n",
      "Epoch [96/100], Loss: 0.5482\n",
      "Epoch [96/100], Train Loss: 0.5482, Val Loss: 0.5582\n",
      "Epoch [97/100], Loss: 0.5457\n",
      "Epoch [97/100], Train Loss: 0.5457, Val Loss: 0.5602\n",
      "Epoch [98/100], Loss: 0.5464\n",
      "Epoch [98/100], Train Loss: 0.5464, Val Loss: 0.5580\n",
      "Epoch [99/100], Loss: 0.5489\n",
      "Epoch [99/100], Train Loss: 0.5489, Val Loss: 0.5573\n",
      "Epoch [100/100], Loss: 0.5493\n",
      "Epoch [100/100], Train Loss: 0.5493, Val Loss: 0.5577\n"
     ]
    },
    {
     "data": {
      "image/png": "[encoded data removed]",
      "text/plain": [
       "<Figure size 1000x600 with 1 Axes>"
      ]
     },
     "metadata": {},
     "output_type": "display_data"
    }
   ],
   "source": [
    "best_params=study.best_params\n",
    "model = DNN_2(input_dim=X_train_tensor.shape[1],\n",
    "              dropout1=best_params[\"dropout1\"],\n",
    "              dropout2=best_params[\"dropout2\"],\n",
    "              dropout3=best_params[\"dropout3\"],\n",
    "              dropout4=best_params[\"dropout4\"]).to(device)\n",
    "# 最適化と訓練を実行\n",
    "optimizer = optim.Adam(model.parameters(), lr=best_params[\"learning_rate\"])\n",
    "criterion = nn.BCELoss()\n",
    "\n",
    "num_epochs=100\n",
    "train_losses = []\n",
    "val_losses = []\n",
    "\n",
    "model.train()\n",
    "for epoch in range(num_epochs):\n",
    "    epoch_train_loss = 0\n",
    "    epoch_val_loss = 0\n",
    "\n",
    "    for X_batch, y_batch in train_loader:\n",
    "        X_batch, y_batch = X_batch.to(device), y_batch.to(device)\n",
    "        optimizer.zero_grad()\n",
    "        outputs = model(X_batch).squeeze()\n",
    "        loss = criterion(outputs, y_batch.squeeze())\n",
    "        loss.backward()\n",
    "        optimizer.step()\n",
    "        epoch_train_loss += loss.item()\n",
    "    avg_train_loss = epoch_train_loss / len(train_loader)\n",
    "    train_losses.append(avg_train_loss)\n",
    "    print(f'Epoch [{epoch+1}/{num_epochs}], Loss: {avg_train_loss:.4f}')\n",
    "\n",
    "    if val_loader is not None:\n",
    "        model.eval()  \n",
    "        with torch.no_grad():\n",
    "            for X_val, y_val in val_loader:\n",
    "                X_val, y_val = X_val.to(device), y_val.to(device)\n",
    "                val_outputs = model(X_val).squeeze()\n",
    "                val_loss = criterion(val_outputs, y_val.squeeze())\n",
    "                epoch_val_loss += val_loss.item()\n",
    "\n",
    "        avg_val_loss = epoch_val_loss / len(val_loader)\n",
    "        val_losses.append(avg_val_loss)\n",
    "        model.train()  \n",
    "\n",
    "    if val_loader is not None:\n",
    "        print(f\"Epoch [{epoch+1}/{num_epochs}], Train Loss: {avg_train_loss:.4f}, Val Loss: {avg_val_loss:.4f}\")\n",
    "    else:\n",
    "        print(f\"Epoch [{epoch+1}/{num_epochs}], Train Loss: {avg_train_loss:.4f}\")\n",
    "\n",
    "plt.figure(figsize=(10, 6))\n",
    "plt.plot(range(1, num_epochs + 1), train_losses, label='Train Loss')\n",
    "if val_losses:\n",
    "    plt.plot(range(1, num_epochs + 1), val_losses, label='Validation Loss')\n",
    "plt.xlabel('Epoch')\n",
    "plt.ylabel('Loss')\n",
    "plt.title('Learning Curve for DNN1')\n",
    "plt.legend()\n",
    "plt.grid()\n",
    "plt.show()"
   ]
  },
  {
   "cell_type": "code",
   "execution_count": 71,
   "metadata": {},
   "outputs": [
    {
     "name": "stdout",
     "output_type": "stream",
     "text": [
      "Accuracy: 58.20%\n",
      "Precision: 0.4760\n",
      "Recall: 0.8201\n",
      "F1 Score: 0.6024\n",
      "Matthews Correlation Coefficient: 0.2603\n",
      "Specificity: 0.4323\n"
     ]
    },
    {
     "data": {
      "image/png": "[encoded data removed]",
      "text/plain": [
       "<Figure size 640x480 with 1 Axes>"
      ]
     },
     "metadata": {},
     "output_type": "display_data"
    },
    {
     "data": {
      "image/png": "[encoded data removed]",
      "text/plain": [
       "<Figure size 640x480 with 1 Axes>"
      ]
     },
     "metadata": {},
     "output_type": "display_data"
    },
    {
     "data": {
      "image/png": "[encoded data removed]",
      "text/plain": [
       "<Figure size 640x480 with 1 Axes>"
      ]
     },
     "metadata": {},
     "output_type": "display_data"
    }
   ],
   "source": [
    "model.eval()\n",
    "with torch.no_grad():\n",
    "    X_test_tensor = X_test_tensor.to(device)\n",
    "    y_test_tensor = y_test_tensor.to(device)\n",
    "\n",
    "    # 予測と確率\n",
    "    test_outputs = model(X_test_tensor).squeeze()\n",
    "    predictions = (test_outputs > 0.49).float()\n",
    "    y_true = y_test_tensor.cpu().numpy()\n",
    "    y_pred = predictions.cpu().numpy()\n",
    "    y_prob = test_outputs.cpu().numpy()\n",
    "\n",
    "# 評価指標\n",
    "    accuracy = accuracy_score(y_true, y_pred)\n",
    "    precision = precision_score(y_true, y_pred)\n",
    "    recall = recall_score(y_true, y_pred)\n",
    "    f1 = f1_score(y_true, y_pred)\n",
    "    mcc = matthews_corrcoef(y_true, y_pred)\n",
    "    specificity = recall_score(y_true, y_pred, pos_label=0)  \n",
    "    print(f'Accuracy: {accuracy * 100:.2f}%')\n",
    "    print(f'Precision: {precision:.4f}')\n",
    "    print(f'Recall: {recall:.4f}')\n",
    "    print(f'F1 Score: {f1:.4f}')\n",
    "    print(f'Matthews Correlation Coefficient: {mcc:.4f}')\n",
    "    print(f'Specificity: {specificity:.4f}')\n",
    "\n",
    "    # 混同行列（割合表示）\n",
    "    cm = confusion_matrix(y_true, y_pred, normalize='true')\n",
    "    sns.heatmap(cm, annot=True, fmt=\".2%\", cmap=\"Blues\", cbar=False)\n",
    "    plt.xlabel(\"Predicted\")\n",
    "    plt.ylabel(\"Actual\")\n",
    "    plt.title(f\"Confusion Matrix (Normalized)\")\n",
    "    plt.show()\n",
    "\n",
    "    # ROC曲線とAUC\n",
    "    fpr, tpr, thresholds = roc_curve(y_true, y_prob)\n",
    "    roc_auc = auc(fpr, tpr)\n",
    "    plt.plot(fpr, tpr, label=f'ROC curve (AUC = {roc_auc:.2f})')\n",
    "    plt.plot([0, 1], [0, 1], 'k--') \n",
    "    plt.xlabel('False Positive Rate')\n",
    "    plt.ylabel('True Positive Rate')\n",
    "    plt.title(f'ROC Curve - Model ')\n",
    "    plt.legend(loc=\"lower right\")\n",
    "    plt.show()\n",
    "\n",
    "    # Precision-Recall曲線\n",
    "    precision_curve, recall_curve, pr_thresholds = precision_recall_curve(y_true, y_prob)\n",
    "    pr_auc = auc(recall_curve, precision_curve)\n",
    "    plt.plot(recall_curve, precision_curve, label=f'PR curve (AUC = {pr_auc:.2f})')\n",
    "    plt.xlabel('Recall')\n",
    "    plt.ylabel('Precision')\n",
    "    plt.title(f'Precision-Recall Curve ')\n",
    "    plt.legend(loc=\"lower left\")\n",
    "    plt.show()    "
   ]
  },
  {
   "cell_type": "code",
   "execution_count": 72,
   "metadata": {},
   "outputs": [],
   "source": [
    "# モデルと構造を保存\n",
    "torch.save(model.state_dict(), '../../saved_model/DNN_2.pth')\n",
    "\n"
   ]
  }
 ],
 "metadata": {
  "kernelspec": {
   "display_name": "torch",
   "language": "python",
   "name": "python3"
  },
  "language_info": {
   "codemirror_mode": {
    "name": "ipython",
    "version": 3
   },
   "file_extension": ".py",
   "mimetype": "text/x-python",
   "name": "python",
   "nbconvert_exporter": "python",
   "pygments_lexer": "ipython3",
   "version": "3.12.7"
  }
 },
 "nbformat": 4,
 "nbformat_minor": 2
}
