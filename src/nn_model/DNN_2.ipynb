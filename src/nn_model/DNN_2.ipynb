{
 "cells": [
  {
   "cell_type": "code",
   "execution_count": 1,
   "metadata": {},
   "outputs": [],
   "source": [
    "import numpy as np\n",
    "import pandas as pd\n",
    "import matplotlib.pyplot as plt\n",
    "import seaborn as sns\n",
    "\n",
    "import torch\n",
    "import torch.nn as nn\n",
    "import torch.optim as optim\n",
    "\n",
    "import optuna\n",
    "\n",
    "from sklearn.model_selection import train_test_split\n",
    "from sklearn.metrics import confusion_matrix,accuracy_score, precision_score, recall_score, f1_score, confusion_matrix, roc_curve, auc,matthews_corrcoef, precision_recall_curve,roc_auc_score\n",
    "\n"
   ]
  },
  {
   "cell_type": "markdown",
   "metadata": {},
   "source": [
    "データ読み取り"
   ]
  },
  {
   "cell_type": "code",
   "execution_count": 2,
   "metadata": {},
   "outputs": [],
   "source": [
    "df=pd.read_csv('../../data/learning_data.csv',index_col=0)\n",
    "\n",
    "X=df.drop(columns='dengue',axis=1).values\n",
    "y=df['dengue'].values\n",
    "\n",
    "X_train, X_test, y_train, y_test = train_test_split(X, y, test_size=0.2,random_state=42)\n",
    "X_train, X_val, y_train, y_val = train_test_split(X_train, y_train, test_size=0.1,random_state=42)\n",
    "\n",
    "#torchテンソルに変換\n",
    "X_train_tensor = torch.tensor(X_train, dtype=torch.float32)\n",
    "y_train_tensor = torch.tensor(y_train, dtype=torch.float32)\n",
    "X_test_tensor = torch.tensor(X_test, dtype=torch.float32)\n",
    "y_test_tensor = torch.tensor(y_test, dtype=torch.float32)\n",
    "X_val_tensor = torch.tensor(X_val, dtype=torch.float32)\n",
    "y_val_tensor = torch.tensor(y_val, dtype=torch.float32)\n"
   ]
  },
  {
   "cell_type": "code",
   "execution_count": null,
   "metadata": {},
   "outputs": [],
   "source": [
    "class DNN_2(nn.Module):\n",
    "    def __init__(self, input_dim,hidden_units,dropout1,dropout2,dropout3,dropout4):\n",
    "        super(DNN_2, self).__init__()\n",
    "        self.layer1 = nn.Linear(input_dim,hidden_units)\n",
    "        self.layer2 = nn.Linear(hidden_units,hidden_units)\n",
    "        self.layer3 = nn.Linear(hidden_units, hidden_units)\n",
    "        self.layer4 = nn.Linear(hidden_units, hidden_units)\n",
    "        self.output_layer = nn.Linear(hidden_units, 1)\n",
    "\n",
    "        self.dropout1 = nn.Dropout(dropout1)\n",
    "        self.dropout2 = nn.Dropout(dropout2)\n",
    "        self.dropout3 = nn.Dropout(dropout3)\n",
    "        self.dropout4 = nn.Dropout(dropout4)\n",
    "\n",
    "\n",
    "        self.bn1 = nn.BatchNorm1d(hidden_units)\n",
    "        self.bn2 = nn.BatchNorm1d(hidden_units)\n",
    "        self.bn3 = nn.BatchNorm1d(hidden_units)\n",
    "        self.bn4 = nn.BatchNorm1d(hidden_units)\n",
    "\n",
    "        \n",
    "        \n",
    "    def forward(self, x):\n",
    "        x = torch.relu(self.bn1(self.layer1(x)))\n",
    "        x = self.dropout1(x)\n",
    "        \n",
    "        x = torch.relu(self.bn2(self.layer2(x)))\n",
    "        x = self.dropout2(x)\n",
    "\n",
    "        x = torch.relu(self.bn3(self.layer3(x)))\n",
    "        x = self.dropout3(x)\n",
    "\n",
    "        x = torch.relu(self.bn4(self.layer4(x)))\n",
    "        x = self.dropout4(x)\n",
    "\n",
    "        x = torch.sigmoid(self.output_layer(x)) \n",
    "        return x\n",
    "    "
   ]
  },
  {
   "cell_type": "markdown",
   "metadata": {},
   "source": [
    "学習データセットの作成"
   ]
  },
  {
   "cell_type": "code",
   "execution_count": 4,
   "metadata": {},
   "outputs": [],
   "source": [
    "train_dataset = torch.utils.data.TensorDataset(X_train_tensor, y_train_tensor)\n",
    "train_loader = torch.utils.data.DataLoader(dataset=train_dataset, batch_size=32, shuffle=True)\n",
    "\n",
    "val_dataset = torch.utils.data.TensorDataset(X_val_tensor, y_val_tensor)\n",
    "val_loader = torch.utils.data.DataLoader(dataset=val_dataset, batch_size=32, shuffle=False)"
   ]
  },
  {
   "cell_type": "markdown",
   "metadata": {},
   "source": [
    "Optunaの設定"
   ]
  },
  {
   "cell_type": "code",
   "execution_count": 5,
   "metadata": {},
   "outputs": [],
   "source": [
    "def objective(trial):\n",
    "    hidden_units = trial.suggest_int(\"hidden_units\", 4, 512, step=4)\n",
    "    dropout1 = trial.suggest_float(\"dropout1\", 0.1, 0.5, step=0.05)\n",
    "    dropout2 = trial.suggest_float(\"dropout2\", 0.1, 0.5, step=0.05)\n",
    "    dropout3 = trial.suggest_float(\"dropout3\", 0.1, 0.5, step=0.05)\n",
    "    dropout4 = trial.suggest_float(\"dropout4\", 0.1, 0.5, step=0.05)\n",
    "    learning_rate = trial.suggest_loguniform(\"learning_rate\", 1e-5, 1e-1)\n",
    "\n",
    "    model = DNN_2(input_dim=X_train_tensor.shape[1], hidden_units=hidden_units, dropout1=dropout1,dropout2=dropout2,dropout3=dropout3,dropout4=dropout4).to(device)\n",
    "\n",
    "    criterion = nn.BCELoss()\n",
    "    optimizer = torch.optim.Adam(model.parameters(), lr=learning_rate)\n",
    "\n",
    "    num_epochs = 100\n",
    "    for epoch in range(num_epochs):\n",
    "        model.train()\n",
    "        for X_batch, y_batch in train_loader:\n",
    "            X_batch, y_batch = X_batch.to(device), y_batch.to(device)\n",
    "            optimizer.zero_grad()\n",
    "            outputs = model(X_batch).squeeze()\n",
    "            loss = criterion(outputs, y_batch)\n",
    "            loss.backward()\n",
    "            optimizer.step()\n",
    "\n",
    "    \n",
    "    model.eval()\n",
    "    val_true, val_pred, val_prob = [], [], []\n",
    "    with torch.no_grad():\n",
    "        for X_val, y_val in val_loader:\n",
    "            X_val, y_val = X_val.to(device), y_val.to(device)\n",
    "            val_outputs = model(X_val).squeeze()\n",
    "            predictions = (val_outputs >= 0.5).float()\n",
    "            val_true.extend(y_val.cpu().numpy())\n",
    "            val_pred.extend(predictions.cpu().numpy())\n",
    "            val_prob.extend(val_outputs.cpu().numpy())\n",
    "\n",
    "\n",
    "    accuracy = accuracy_score(val_true, val_pred)\n",
    "    precision = precision_score(val_true, val_pred)\n",
    "    recall = recall_score(val_true, val_pred)\n",
    "    f1 = f1_score(val_true, val_pred)\n",
    "    mcc = matthews_corrcoef(val_true, val_pred)\n",
    "    specificity = recall_score(val_true, val_pred, pos_label=0)\n",
    "\n",
    "    # ログ\n",
    "    print(f'Accuracy: {accuracy * 100:.2f}%')\n",
    "    print(f'Precision: {precision:.4f}')\n",
    "    print(f'Recall: {recall:.4f}')\n",
    "    print(f'F1 Score: {f1:.4f}')\n",
    "    print(f'Matthews Correlation Coefficient: {mcc:.4f}')\n",
    "    print(f'Specificity: {specificity:.4f}')\n",
    "\n",
    "    return f1\n"
   ]
  },
  {
   "cell_type": "code",
   "execution_count": null,
   "metadata": {},
   "outputs": [],
   "source": [
    "# 使用可能なGPUの数を取得\n",
    "num_gpus = torch.cuda.device_count()\n",
    "\n",
    "if num_gpus == 0:\n",
    "    print(\"使用可能なGPUはありません。\")\n",
    "else:\n",
    "    print(f\"使用可能なGPUの数: {num_gpus}\")\n",
    "    for i in range(num_gpus):\n",
    "        print(f\"GPU {i}: {torch.cuda.get_device_name(i)}\")\n",
    "        print(f\"  メモリ使用状況: {torch.cuda.memory_allocated(i) / 1024**2:.2f} MB / {torch.cuda.get_device_properties(i).total_memory / 1024**2:.2f} MB\")\n",
    "        print(f\"  CUDA対応バージョン: {torch.cuda.get_device_properties(i).major}.{torch.cuda.get_device_properties(i).minor}\")\n"
   ]
  },
  {
   "cell_type": "code",
   "execution_count": null,
   "metadata": {},
   "outputs": [
    {
     "name": "stderr",
     "output_type": "stream",
     "text": [
      "[I 2024-11-28 15:33:53,956] A new study created in memory with name: no-name-3aadafd8-616c-4b6d-b979-a4960478acaa\n",
      "/tmp/ipykernel_83745/2881429764.py:7: FutureWarning: suggest_loguniform has been deprecated in v3.0.0. This feature will be removed in v6.0.0. See https://github.com/optuna/optuna/releases/tag/v3.0.0. Use suggest_float(..., log=True) instead.\n",
      "  learning_rate = trial.suggest_loguniform(\"learning_rate\", 1e-5, 1e-1)\n",
      "[I 2024-11-28 15:34:47,510] Trial 0 finished with value: 0.4578313253012048 and parameters: {'hidden_units': 460, 'dropout1': 0.45000000000000007, 'dropout2': 0.25, 'dropout3': 0.5, 'dropout4': 0.30000000000000004, 'learning_rate': 0.0007397927104584296}. Best is trial 0 with value: 0.4578313253012048.\n"
     ]
    },
    {
     "name": "stdout",
     "output_type": "stream",
     "text": [
      "Accuracy: 61.54%\n",
      "Precision: 0.4634\n",
      "Recall: 0.4524\n",
      "F1 Score: 0.4578\n",
      "Matthews Correlation Coefficient: 0.1599\n",
      "Specificity: 0.7067\n"
     ]
    },
    {
     "name": "stderr",
     "output_type": "stream",
     "text": [
      "/tmp/ipykernel_83745/2881429764.py:7: FutureWarning: suggest_loguniform has been deprecated in v3.0.0. This feature will be removed in v6.0.0. See https://github.com/optuna/optuna/releases/tag/v3.0.0. Use suggest_float(..., log=True) instead.\n",
      "  learning_rate = trial.suggest_loguniform(\"learning_rate\", 1e-5, 1e-1)\n",
      "[I 2024-11-28 15:35:36,124] Trial 1 finished with value: 0.5454545454545454 and parameters: {'hidden_units': 496, 'dropout1': 0.25, 'dropout2': 0.5, 'dropout3': 0.35, 'dropout4': 0.15000000000000002, 'learning_rate': 0.021033858868171242}. Best is trial 1 with value: 0.5454545454545454.\n"
     ]
    },
    {
     "name": "stdout",
     "output_type": "stream",
     "text": [
      "Accuracy: 62.96%\n",
      "Precision: 0.4875\n",
      "Recall: 0.6190\n",
      "F1 Score: 0.5455\n",
      "Matthews Correlation Coefficient: 0.2452\n",
      "Specificity: 0.6356\n"
     ]
    },
    {
     "name": "stderr",
     "output_type": "stream",
     "text": [
      "/tmp/ipykernel_83745/2881429764.py:7: FutureWarning: suggest_loguniform has been deprecated in v3.0.0. This feature will be removed in v6.0.0. See https://github.com/optuna/optuna/releases/tag/v3.0.0. Use suggest_float(..., log=True) instead.\n",
      "  learning_rate = trial.suggest_loguniform(\"learning_rate\", 1e-5, 1e-1)\n",
      "[I 2024-11-28 15:36:33,146] Trial 2 finished with value: 0.4621212121212121 and parameters: {'hidden_units': 404, 'dropout1': 0.1, 'dropout2': 0.5, 'dropout3': 0.45000000000000007, 'dropout4': 0.1, 'learning_rate': 0.024483573633231157}. Best is trial 1 with value: 0.5454545454545454.\n"
     ]
    },
    {
     "name": "stdout",
     "output_type": "stream",
     "text": [
      "Accuracy: 59.54%\n",
      "Precision: 0.4420\n",
      "Recall: 0.4841\n",
      "F1 Score: 0.4621\n",
      "Matthews Correlation Coefficient: 0.1394\n",
      "Specificity: 0.6578\n"
     ]
    },
    {
     "name": "stderr",
     "output_type": "stream",
     "text": [
      "/tmp/ipykernel_83745/2881429764.py:7: FutureWarning: suggest_loguniform has been deprecated in v3.0.0. This feature will be removed in v6.0.0. See https://github.com/optuna/optuna/releases/tag/v3.0.0. Use suggest_float(..., log=True) instead.\n",
      "  learning_rate = trial.suggest_loguniform(\"learning_rate\", 1e-5, 1e-1)\n",
      "[I 2024-11-28 15:37:26,192] Trial 3 finished with value: 0.48627450980392156 and parameters: {'hidden_units': 464, 'dropout1': 0.30000000000000004, 'dropout2': 0.25, 'dropout3': 0.25, 'dropout4': 0.45000000000000007, 'learning_rate': 0.00012441164028060574}. Best is trial 1 with value: 0.5454545454545454.\n"
     ]
    },
    {
     "name": "stdout",
     "output_type": "stream",
     "text": [
      "Accuracy: 62.68%\n",
      "Precision: 0.4806\n",
      "Recall: 0.4921\n",
      "F1 Score: 0.4863\n",
      "Matthews Correlation Coefficient: 0.1933\n",
      "Specificity: 0.7022\n"
     ]
    },
    {
     "name": "stderr",
     "output_type": "stream",
     "text": [
      "/tmp/ipykernel_83745/2881429764.py:7: FutureWarning: suggest_loguniform has been deprecated in v3.0.0. This feature will be removed in v6.0.0. See https://github.com/optuna/optuna/releases/tag/v3.0.0. Use suggest_float(..., log=True) instead.\n",
      "  learning_rate = trial.suggest_loguniform(\"learning_rate\", 1e-5, 1e-1)\n",
      "[I 2024-11-28 15:38:19,224] Trial 4 finished with value: 0.6190476190476191 and parameters: {'hidden_units': 148, 'dropout1': 0.2, 'dropout2': 0.5, 'dropout3': 0.45000000000000007, 'dropout4': 0.25, 'learning_rate': 3.696637571493931e-05}. Best is trial 4 with value: 0.6190476190476191.\n"
     ]
    },
    {
     "name": "stdout",
     "output_type": "stream",
     "text": [
      "Accuracy: 58.97%\n",
      "Precision: 0.4643\n",
      "Recall: 0.9286\n",
      "F1 Score: 0.6190\n",
      "Matthews Correlation Coefficient: 0.3503\n",
      "Specificity: 0.4000\n"
     ]
    },
    {
     "name": "stderr",
     "output_type": "stream",
     "text": [
      "/tmp/ipykernel_83745/2881429764.py:7: FutureWarning: suggest_loguniform has been deprecated in v3.0.0. This feature will be removed in v6.0.0. See https://github.com/optuna/optuna/releases/tag/v3.0.0. Use suggest_float(..., log=True) instead.\n",
      "  learning_rate = trial.suggest_loguniform(\"learning_rate\", 1e-5, 1e-1)\n",
      "[I 2024-11-28 15:39:12,350] Trial 5 finished with value: 0.5989304812834224 and parameters: {'hidden_units': 272, 'dropout1': 0.15000000000000002, 'dropout2': 0.35, 'dropout3': 0.25, 'dropout4': 0.1, 'learning_rate': 0.0497849401057829}. Best is trial 4 with value: 0.6190476190476191.\n"
     ]
    },
    {
     "name": "stdout",
     "output_type": "stream",
     "text": [
      "Accuracy: 57.26%\n",
      "Precision: 0.4516\n",
      "Recall: 0.8889\n",
      "F1 Score: 0.5989\n",
      "Matthews Correlation Coefficient: 0.2997\n",
      "Specificity: 0.3956\n"
     ]
    },
    {
     "name": "stderr",
     "output_type": "stream",
     "text": [
      "/tmp/ipykernel_83745/2881429764.py:7: FutureWarning: suggest_loguniform has been deprecated in v3.0.0. This feature will be removed in v6.0.0. See https://github.com/optuna/optuna/releases/tag/v3.0.0. Use suggest_float(..., log=True) instead.\n",
      "  learning_rate = trial.suggest_loguniform(\"learning_rate\", 1e-5, 1e-1)\n",
      "[I 2024-11-28 15:40:04,772] Trial 6 finished with value: 0.3235294117647059 and parameters: {'hidden_units': 52, 'dropout1': 0.4, 'dropout2': 0.35, 'dropout3': 0.4, 'dropout4': 0.4, 'learning_rate': 0.0007063447013010116}. Best is trial 4 with value: 0.6190476190476191.\n"
     ]
    },
    {
     "name": "stdout",
     "output_type": "stream",
     "text": [
      "Accuracy: 60.68%\n",
      "Precision: 0.4231\n",
      "Recall: 0.2619\n",
      "F1 Score: 0.3235\n",
      "Matthews Correlation Coefficient: 0.0714\n",
      "Specificity: 0.8000\n"
     ]
    },
    {
     "name": "stderr",
     "output_type": "stream",
     "text": [
      "/tmp/ipykernel_83745/2881429764.py:7: FutureWarning: suggest_loguniform has been deprecated in v3.0.0. This feature will be removed in v6.0.0. See https://github.com/optuna/optuna/releases/tag/v3.0.0. Use suggest_float(..., log=True) instead.\n",
      "  learning_rate = trial.suggest_loguniform(\"learning_rate\", 1e-5, 1e-1)\n",
      "[I 2024-11-28 15:40:56,158] Trial 7 finished with value: 0.4375 and parameters: {'hidden_units': 476, 'dropout1': 0.1, 'dropout2': 0.5, 'dropout3': 0.2, 'dropout4': 0.2, 'learning_rate': 0.022685023431631104}. Best is trial 4 with value: 0.6190476190476191.\n"
     ]
    },
    {
     "name": "stdout",
     "output_type": "stream",
     "text": [
      "Accuracy: 58.97%\n",
      "Precision: 0.4308\n",
      "Recall: 0.4444\n",
      "F1 Score: 0.4375\n",
      "Matthews Correlation Coefficient: 0.1148\n",
      "Specificity: 0.6711\n"
     ]
    },
    {
     "name": "stderr",
     "output_type": "stream",
     "text": [
      "/tmp/ipykernel_83745/2881429764.py:7: FutureWarning: suggest_loguniform has been deprecated in v3.0.0. This feature will be removed in v6.0.0. See https://github.com/optuna/optuna/releases/tag/v3.0.0. Use suggest_float(..., log=True) instead.\n",
      "  learning_rate = trial.suggest_loguniform(\"learning_rate\", 1e-5, 1e-1)\n",
      "[I 2024-11-28 15:41:53,395] Trial 8 finished with value: 0.6149732620320856 and parameters: {'hidden_units': 448, 'dropout1': 0.4, 'dropout2': 0.15000000000000002, 'dropout3': 0.25, 'dropout4': 0.15000000000000002, 'learning_rate': 0.04462046225799692}. Best is trial 4 with value: 0.6190476190476191.\n"
     ]
    },
    {
     "name": "stdout",
     "output_type": "stream",
     "text": [
      "Accuracy: 58.97%\n",
      "Precision: 0.4637\n",
      "Recall: 0.9127\n",
      "F1 Score: 0.6150\n",
      "Matthews Correlation Coefficient: 0.3388\n",
      "Specificity: 0.4089\n"
     ]
    },
    {
     "name": "stderr",
     "output_type": "stream",
     "text": [
      "/tmp/ipykernel_83745/2881429764.py:7: FutureWarning: suggest_loguniform has been deprecated in v3.0.0. This feature will be removed in v6.0.0. See https://github.com/optuna/optuna/releases/tag/v3.0.0. Use suggest_float(..., log=True) instead.\n",
      "  learning_rate = trial.suggest_loguniform(\"learning_rate\", 1e-5, 1e-1)\n",
      "[I 2024-11-28 15:42:44,569] Trial 9 finished with value: 0.5324232081911263 and parameters: {'hidden_units': 508, 'dropout1': 0.25, 'dropout2': 0.35, 'dropout3': 0.5, 'dropout4': 0.35, 'learning_rate': 0.022513389508914357}. Best is trial 4 with value: 0.6190476190476191.\n"
     ]
    },
    {
     "name": "stdout",
     "output_type": "stream",
     "text": [
      "Accuracy: 60.97%\n",
      "Precision: 0.4671\n",
      "Recall: 0.6190\n",
      "F1 Score: 0.5324\n",
      "Matthews Correlation Coefficient: 0.2147\n",
      "Specificity: 0.6044\n"
     ]
    },
    {
     "name": "stderr",
     "output_type": "stream",
     "text": [
      "/tmp/ipykernel_83745/2881429764.py:7: FutureWarning: suggest_loguniform has been deprecated in v3.0.0. This feature will be removed in v6.0.0. See https://github.com/optuna/optuna/releases/tag/v3.0.0. Use suggest_float(..., log=True) instead.\n",
      "  learning_rate = trial.suggest_loguniform(\"learning_rate\", 1e-5, 1e-1)\n",
      "[I 2024-11-28 15:43:38,210] Trial 10 finished with value: 0.5763688760806917 and parameters: {'hidden_units': 48, 'dropout1': 0.2, 'dropout2': 0.1, 'dropout3': 0.35, 'dropout4': 0.25, 'learning_rate': 1.612863622403368e-05}. Best is trial 4 with value: 0.6190476190476191.\n"
     ]
    },
    {
     "name": "stdout",
     "output_type": "stream",
     "text": [
      "Accuracy: 58.12%\n",
      "Precision: 0.4525\n",
      "Recall: 0.7937\n",
      "F1 Score: 0.5764\n",
      "Matthews Correlation Coefficient: 0.2542\n",
      "Specificity: 0.4622\n"
     ]
    },
    {
     "name": "stderr",
     "output_type": "stream",
     "text": [
      "/tmp/ipykernel_83745/2881429764.py:7: FutureWarning: suggest_loguniform has been deprecated in v3.0.0. This feature will be removed in v6.0.0. See https://github.com/optuna/optuna/releases/tag/v3.0.0. Use suggest_float(..., log=True) instead.\n",
      "  learning_rate = trial.suggest_loguniform(\"learning_rate\", 1e-5, 1e-1)\n",
      "[I 2024-11-28 15:44:31,567] Trial 11 finished with value: 0.4868913857677903 and parameters: {'hidden_units': 184, 'dropout1': 0.35, 'dropout2': 0.1, 'dropout3': 0.1, 'dropout4': 0.2, 'learning_rate': 2.0646548849646485e-05}. Best is trial 4 with value: 0.6190476190476191.\n"
     ]
    },
    {
     "name": "stdout",
     "output_type": "stream",
     "text": [
      "Accuracy: 60.97%\n",
      "Precision: 0.4610\n",
      "Recall: 0.5159\n",
      "F1 Score: 0.4869\n",
      "Matthews Correlation Coefficient: 0.1743\n",
      "Specificity: 0.6622\n"
     ]
    },
    {
     "name": "stderr",
     "output_type": "stream",
     "text": [
      "/tmp/ipykernel_83745/2881429764.py:7: FutureWarning: suggest_loguniform has been deprecated in v3.0.0. This feature will be removed in v6.0.0. See https://github.com/optuna/optuna/releases/tag/v3.0.0. Use suggest_float(..., log=True) instead.\n",
      "  learning_rate = trial.suggest_loguniform(\"learning_rate\", 1e-5, 1e-1)\n",
      "[I 2024-11-28 15:45:19,709] Trial 12 finished with value: 0.4435483870967742 and parameters: {'hidden_units': 192, 'dropout1': 0.5, 'dropout2': 0.15000000000000002, 'dropout3': 0.15000000000000002, 'dropout4': 0.25, 'learning_rate': 0.0034914300949210105}. Best is trial 4 with value: 0.6190476190476191.\n"
     ]
    },
    {
     "name": "stdout",
     "output_type": "stream",
     "text": [
      "Accuracy: 60.68%\n",
      "Precision: 0.4508\n",
      "Recall: 0.4365\n",
      "F1 Score: 0.4435\n",
      "Matthews Correlation Coefficient: 0.1397\n",
      "Specificity: 0.7022\n"
     ]
    },
    {
     "name": "stderr",
     "output_type": "stream",
     "text": [
      "/tmp/ipykernel_83745/2881429764.py:7: FutureWarning: suggest_loguniform has been deprecated in v3.0.0. This feature will be removed in v6.0.0. See https://github.com/optuna/optuna/releases/tag/v3.0.0. Use suggest_float(..., log=True) instead.\n",
      "  learning_rate = trial.suggest_loguniform(\"learning_rate\", 1e-5, 1e-1)\n",
      "[I 2024-11-28 15:46:10,735] Trial 13 finished with value: 0.50199203187251 and parameters: {'hidden_units': 324, 'dropout1': 0.35, 'dropout2': 0.4, 'dropout3': 0.30000000000000004, 'dropout4': 0.5, 'learning_rate': 9.266410947485761e-05}. Best is trial 4 with value: 0.6190476190476191.\n"
     ]
    },
    {
     "name": "stdout",
     "output_type": "stream",
     "text": [
      "Accuracy: 64.39%\n",
      "Precision: 0.5040\n",
      "Recall: 0.5000\n",
      "F1 Score: 0.5020\n",
      "Matthews Correlation Coefficient: 0.2248\n",
      "Specificity: 0.7244\n"
     ]
    },
    {
     "name": "stderr",
     "output_type": "stream",
     "text": [
      "/tmp/ipykernel_83745/2881429764.py:7: FutureWarning: suggest_loguniform has been deprecated in v3.0.0. This feature will be removed in v6.0.0. See https://github.com/optuna/optuna/releases/tag/v3.0.0. Use suggest_float(..., log=True) instead.\n",
      "  learning_rate = trial.suggest_loguniform(\"learning_rate\", 1e-5, 1e-1)\n",
      "[I 2024-11-28 15:47:02,906] Trial 14 finished with value: 0.4634146341463415 and parameters: {'hidden_units': 140, 'dropout1': 0.4, 'dropout2': 0.2, 'dropout3': 0.4, 'dropout4': 0.2, 'learning_rate': 0.0035202404147569605}. Best is trial 4 with value: 0.6190476190476191.\n"
     ]
    },
    {
     "name": "stdout",
     "output_type": "stream",
     "text": [
      "Accuracy: 62.39%\n",
      "Precision: 0.4750\n",
      "Recall: 0.4524\n",
      "F1 Score: 0.4634\n",
      "Matthews Correlation Coefficient: 0.1743\n",
      "Specificity: 0.7200\n"
     ]
    },
    {
     "name": "stderr",
     "output_type": "stream",
     "text": [
      "/tmp/ipykernel_83745/2881429764.py:7: FutureWarning: suggest_loguniform has been deprecated in v3.0.0. This feature will be removed in v6.0.0. See https://github.com/optuna/optuna/releases/tag/v3.0.0. Use suggest_float(..., log=True) instead.\n",
      "  learning_rate = trial.suggest_loguniform(\"learning_rate\", 1e-5, 1e-1)\n",
      "[I 2024-11-28 15:47:51,644] Trial 15 finished with value: 0.56 and parameters: {'hidden_units': 368, 'dropout1': 0.2, 'dropout2': 0.4, 'dropout3': 0.25, 'dropout4': 0.30000000000000004, 'learning_rate': 0.00011024492760549817}. Best is trial 4 with value: 0.6190476190476191.\n"
     ]
    },
    {
     "name": "stdout",
     "output_type": "stream",
     "text": [
      "Accuracy: 65.53%\n",
      "Precision: 0.5168\n",
      "Recall: 0.6111\n",
      "F1 Score: 0.5600\n",
      "Matthews Correlation Coefficient: 0.2825\n",
      "Specificity: 0.6800\n"
     ]
    },
    {
     "name": "stderr",
     "output_type": "stream",
     "text": [
      "/tmp/ipykernel_83745/2881429764.py:7: FutureWarning: suggest_loguniform has been deprecated in v3.0.0. This feature will be removed in v6.0.0. See https://github.com/optuna/optuna/releases/tag/v3.0.0. Use suggest_float(..., log=True) instead.\n",
      "  learning_rate = trial.suggest_loguniform(\"learning_rate\", 1e-5, 1e-1)\n",
      "[I 2024-11-28 15:48:35,533] Trial 16 finished with value: 0.46875 and parameters: {'hidden_units': 112, 'dropout1': 0.5, 'dropout2': 0.2, 'dropout3': 0.35, 'dropout4': 0.15000000000000002, 'learning_rate': 0.0039876962077158564}. Best is trial 4 with value: 0.6190476190476191.\n"
     ]
    },
    {
     "name": "stdout",
     "output_type": "stream",
     "text": [
      "Accuracy: 61.25%\n",
      "Precision: 0.4615\n",
      "Recall: 0.4762\n",
      "F1 Score: 0.4688\n",
      "Matthews Correlation Coefficient: 0.1640\n",
      "Specificity: 0.6889\n"
     ]
    },
    {
     "name": "stderr",
     "output_type": "stream",
     "text": [
      "/tmp/ipykernel_83745/2881429764.py:7: FutureWarning: suggest_loguniform has been deprecated in v3.0.0. This feature will be removed in v6.0.0. See https://github.com/optuna/optuna/releases/tag/v3.0.0. Use suggest_float(..., log=True) instead.\n",
      "  learning_rate = trial.suggest_loguniform(\"learning_rate\", 1e-5, 1e-1)\n",
      "[I 2024-11-28 15:49:24,983] Trial 17 finished with value: 0.4388185654008439 and parameters: {'hidden_units': 256, 'dropout1': 0.30000000000000004, 'dropout2': 0.45000000000000007, 'dropout3': 0.15000000000000002, 'dropout4': 0.35, 'learning_rate': 0.0002936562392098366}. Best is trial 4 with value: 0.6190476190476191.\n"
     ]
    },
    {
     "name": "stdout",
     "output_type": "stream",
     "text": [
      "Accuracy: 62.11%\n",
      "Precision: 0.4685\n",
      "Recall: 0.4127\n",
      "F1 Score: 0.4388\n",
      "Matthews Correlation Coefficient: 0.1552\n",
      "Specificity: 0.7378\n"
     ]
    },
    {
     "name": "stderr",
     "output_type": "stream",
     "text": [
      "/tmp/ipykernel_83745/2881429764.py:7: FutureWarning: suggest_loguniform has been deprecated in v3.0.0. This feature will be removed in v6.0.0. See https://github.com/optuna/optuna/releases/tag/v3.0.0. Use suggest_float(..., log=True) instead.\n",
      "  learning_rate = trial.suggest_loguniform(\"learning_rate\", 1e-5, 1e-1)\n",
      "/home/gonken/anaconda3/envs/torch/lib/python3.12/site-packages/sklearn/metrics/_classification.py:1531: UndefinedMetricWarning: Precision is ill-defined and being set to 0.0 due to no predicted samples. Use `zero_division` parameter to control this behavior.\n",
      "  _warn_prf(average, modifier, f\"{metric.capitalize()} is\", len(result))\n",
      "[I 2024-11-28 15:50:12,953] Trial 18 finished with value: 0.0 and parameters: {'hidden_units': 8, 'dropout1': 0.4, 'dropout2': 0.30000000000000004, 'dropout3': 0.45000000000000007, 'dropout4': 0.25, 'learning_rate': 0.09065653008445308}. Best is trial 4 with value: 0.6190476190476191.\n",
      "/tmp/ipykernel_83745/2881429764.py:7: FutureWarning: suggest_loguniform has been deprecated in v3.0.0. This feature will be removed in v6.0.0. See https://github.com/optuna/optuna/releases/tag/v3.0.0. Use suggest_float(..., log=True) instead.\n",
      "  learning_rate = trial.suggest_loguniform(\"learning_rate\", 1e-5, 1e-1)\n"
     ]
    },
    {
     "name": "stdout",
     "output_type": "stream",
     "text": [
      "Accuracy: 64.10%\n",
      "Precision: 0.0000\n",
      "Recall: 0.0000\n",
      "F1 Score: 0.0000\n",
      "Matthews Correlation Coefficient: 0.0000\n",
      "Specificity: 1.0000\n"
     ]
    },
    {
     "name": "stderr",
     "output_type": "stream",
     "text": [
      "[I 2024-11-28 15:51:01,164] Trial 19 finished with value: 0.48484848484848486 and parameters: {'hidden_units': 244, 'dropout1': 0.2, 'dropout2': 0.2, 'dropout3': 0.30000000000000004, 'dropout4': 0.15000000000000002, 'learning_rate': 3.821896245108508e-05}. Best is trial 4 with value: 0.6190476190476191.\n"
     ]
    },
    {
     "name": "stdout",
     "output_type": "stream",
     "text": [
      "Accuracy: 61.25%\n",
      "Precision: 0.4638\n",
      "Recall: 0.5079\n",
      "F1 Score: 0.4848\n",
      "Matthews Correlation Coefficient: 0.1758\n",
      "Specificity: 0.6711\n"
     ]
    },
    {
     "name": "stderr",
     "output_type": "stream",
     "text": [
      "/tmp/ipykernel_83745/2881429764.py:7: FutureWarning: suggest_loguniform has been deprecated in v3.0.0. This feature will be removed in v6.0.0. See https://github.com/optuna/optuna/releases/tag/v3.0.0. Use suggest_float(..., log=True) instead.\n",
      "  learning_rate = trial.suggest_loguniform(\"learning_rate\", 1e-5, 1e-1)\n",
      "[I 2024-11-28 15:51:48,387] Trial 20 finished with value: 0.44881889763779526 and parameters: {'hidden_units': 316, 'dropout1': 0.25, 'dropout2': 0.15000000000000002, 'dropout3': 0.2, 'dropout4': 0.1, 'learning_rate': 0.007855958976080614}. Best is trial 4 with value: 0.6190476190476191.\n"
     ]
    },
    {
     "name": "stdout",
     "output_type": "stream",
     "text": [
      "Accuracy: 60.11%\n",
      "Precision: 0.4453\n",
      "Recall: 0.4524\n",
      "F1 Score: 0.4488\n",
      "Matthews Correlation Coefficient: 0.1364\n",
      "Specificity: 0.6844\n"
     ]
    },
    {
     "name": "stderr",
     "output_type": "stream",
     "text": [
      "/tmp/ipykernel_83745/2881429764.py:7: FutureWarning: suggest_loguniform has been deprecated in v3.0.0. This feature will be removed in v6.0.0. See https://github.com/optuna/optuna/releases/tag/v3.0.0. Use suggest_float(..., log=True) instead.\n",
      "  learning_rate = trial.suggest_loguniform(\"learning_rate\", 1e-5, 1e-1)\n",
      "[I 2024-11-28 15:52:36,788] Trial 21 finished with value: 0.6170212765957447 and parameters: {'hidden_units': 308, 'dropout1': 0.15000000000000002, 'dropout2': 0.4, 'dropout3': 0.25, 'dropout4': 0.1, 'learning_rate': 0.04743157021955338}. Best is trial 4 with value: 0.6190476190476191.\n"
     ]
    },
    {
     "name": "stdout",
     "output_type": "stream",
     "text": [
      "Accuracy: 58.97%\n",
      "Precision: 0.4640\n",
      "Recall: 0.9206\n",
      "F1 Score: 0.6170\n",
      "Matthews Correlation Coefficient: 0.3445\n",
      "Specificity: 0.4044\n"
     ]
    },
    {
     "name": "stderr",
     "output_type": "stream",
     "text": [
      "/tmp/ipykernel_83745/2881429764.py:7: FutureWarning: suggest_loguniform has been deprecated in v3.0.0. This feature will be removed in v6.0.0. See https://github.com/optuna/optuna/releases/tag/v3.0.0. Use suggest_float(..., log=True) instead.\n",
      "  learning_rate = trial.suggest_loguniform(\"learning_rate\", 1e-5, 1e-1)\n",
      "/home/gonken/anaconda3/envs/torch/lib/python3.12/site-packages/sklearn/metrics/_classification.py:1531: UndefinedMetricWarning: Precision is ill-defined and being set to 0.0 due to no predicted samples. Use `zero_division` parameter to control this behavior.\n",
      "  _warn_prf(average, modifier, f\"{metric.capitalize()} is\", len(result))\n",
      "[I 2024-11-28 15:53:25,511] Trial 22 finished with value: 0.0 and parameters: {'hidden_units': 404, 'dropout1': 0.15000000000000002, 'dropout2': 0.45000000000000007, 'dropout3': 0.2, 'dropout4': 0.15000000000000002, 'learning_rate': 0.09800377488891104}. Best is trial 4 with value: 0.6190476190476191.\n",
      "/tmp/ipykernel_83745/2881429764.py:7: FutureWarning: suggest_loguniform has been deprecated in v3.0.0. This feature will be removed in v6.0.0. See https://github.com/optuna/optuna/releases/tag/v3.0.0. Use suggest_float(..., log=True) instead.\n",
      "  learning_rate = trial.suggest_loguniform(\"learning_rate\", 1e-5, 1e-1)\n"
     ]
    },
    {
     "name": "stdout",
     "output_type": "stream",
     "text": [
      "Accuracy: 64.10%\n",
      "Precision: 0.0000\n",
      "Recall: 0.0000\n",
      "F1 Score: 0.0000\n",
      "Matthews Correlation Coefficient: 0.0000\n",
      "Specificity: 1.0000\n"
     ]
    },
    {
     "name": "stderr",
     "output_type": "stream",
     "text": [
      "[I 2024-11-28 15:54:14,721] Trial 23 finished with value: 0.4051724137931034 and parameters: {'hidden_units': 208, 'dropout1': 0.15000000000000002, 'dropout2': 0.45000000000000007, 'dropout3': 0.30000000000000004, 'dropout4': 0.1, 'learning_rate': 0.009575702506429978}. Best is trial 4 with value: 0.6190476190476191.\n"
     ]
    },
    {
     "name": "stdout",
     "output_type": "stream",
     "text": [
      "Accuracy: 60.68%\n",
      "Precision: 0.4434\n",
      "Recall: 0.3730\n",
      "F1 Score: 0.4052\n",
      "Matthews Correlation Coefficient: 0.1158\n",
      "Specificity: 0.7378\n"
     ]
    },
    {
     "name": "stderr",
     "output_type": "stream",
     "text": [
      "/tmp/ipykernel_83745/2881429764.py:7: FutureWarning: suggest_loguniform has been deprecated in v3.0.0. This feature will be removed in v6.0.0. See https://github.com/optuna/optuna/releases/tag/v3.0.0. Use suggest_float(..., log=True) instead.\n",
      "  learning_rate = trial.suggest_loguniform(\"learning_rate\", 1e-5, 1e-1)\n",
      "[I 2024-11-28 15:55:03,840] Trial 24 finished with value: 0.4366812227074236 and parameters: {'hidden_units': 140, 'dropout1': 0.1, 'dropout2': 0.4, 'dropout3': 0.25, 'dropout4': 0.2, 'learning_rate': 0.001395583351870178}. Best is trial 4 with value: 0.6190476190476191.\n"
     ]
    },
    {
     "name": "stdout",
     "output_type": "stream",
     "text": [
      "Accuracy: 63.25%\n",
      "Precision: 0.4854\n",
      "Recall: 0.3968\n",
      "F1 Score: 0.4367\n",
      "Matthews Correlation Coefficient: 0.1699\n",
      "Specificity: 0.7644\n"
     ]
    },
    {
     "name": "stderr",
     "output_type": "stream",
     "text": [
      "/tmp/ipykernel_83745/2881429764.py:7: FutureWarning: suggest_loguniform has been deprecated in v3.0.0. This feature will be removed in v6.0.0. See https://github.com/optuna/optuna/releases/tag/v3.0.0. Use suggest_float(..., log=True) instead.\n",
      "  learning_rate = trial.suggest_loguniform(\"learning_rate\", 1e-5, 1e-1)\n",
      "[I 2024-11-28 15:55:51,619] Trial 25 finished with value: 0.45849802371541504 and parameters: {'hidden_units': 308, 'dropout1': 0.35, 'dropout2': 0.30000000000000004, 'dropout3': 0.4, 'dropout4': 0.15000000000000002, 'learning_rate': 0.00033228939514638717}. Best is trial 4 with value: 0.6190476190476191.\n"
     ]
    },
    {
     "name": "stdout",
     "output_type": "stream",
     "text": [
      "Accuracy: 60.97%\n",
      "Precision: 0.4567\n",
      "Recall: 0.4603\n",
      "F1 Score: 0.4585\n",
      "Matthews Correlation Coefficient: 0.1534\n",
      "Specificity: 0.6933\n"
     ]
    },
    {
     "name": "stderr",
     "output_type": "stream",
     "text": [
      "/tmp/ipykernel_83745/2881429764.py:7: FutureWarning: suggest_loguniform has been deprecated in v3.0.0. This feature will be removed in v6.0.0. See https://github.com/optuna/optuna/releases/tag/v3.0.0. Use suggest_float(..., log=True) instead.\n",
      "  learning_rate = trial.suggest_loguniform(\"learning_rate\", 1e-5, 1e-1)\n",
      "/home/gonken/anaconda3/envs/torch/lib/python3.12/site-packages/sklearn/metrics/_classification.py:1531: UndefinedMetricWarning: Precision is ill-defined and being set to 0.0 due to no predicted samples. Use `zero_division` parameter to control this behavior.\n",
      "  _warn_prf(average, modifier, f\"{metric.capitalize()} is\", len(result))\n",
      "[I 2024-11-28 15:56:39,637] Trial 26 finished with value: 0.0 and parameters: {'hidden_units': 368, 'dropout1': 0.2, 'dropout2': 0.45000000000000007, 'dropout3': 0.15000000000000002, 'dropout4': 0.25, 'learning_rate': 0.04709376712644975}. Best is trial 4 with value: 0.6190476190476191.\n",
      "/tmp/ipykernel_83745/2881429764.py:7: FutureWarning: suggest_loguniform has been deprecated in v3.0.0. This feature will be removed in v6.0.0. See https://github.com/optuna/optuna/releases/tag/v3.0.0. Use suggest_float(..., log=True) instead.\n",
      "  learning_rate = trial.suggest_loguniform(\"learning_rate\", 1e-5, 1e-1)\n"
     ]
    },
    {
     "name": "stdout",
     "output_type": "stream",
     "text": [
      "Accuracy: 64.10%\n",
      "Precision: 0.0000\n",
      "Recall: 0.0000\n",
      "F1 Score: 0.0000\n",
      "Matthews Correlation Coefficient: 0.0000\n",
      "Specificity: 1.0000\n"
     ]
    },
    {
     "name": "stderr",
     "output_type": "stream",
     "text": [
      "[I 2024-11-28 15:57:27,118] Trial 27 finished with value: 0.4049586776859504 and parameters: {'hidden_units': 400, 'dropout1': 0.45000000000000007, 'dropout2': 0.4, 'dropout3': 0.2, 'dropout4': 0.1, 'learning_rate': 0.008204465072943775}. Best is trial 4 with value: 0.6190476190476191.\n"
     ]
    },
    {
     "name": "stdout",
     "output_type": "stream",
     "text": [
      "Accuracy: 58.97%\n",
      "Precision: 0.4224\n",
      "Recall: 0.3889\n",
      "F1 Score: 0.4050\n",
      "Matthews Correlation Coefficient: 0.0929\n",
      "Specificity: 0.7022\n"
     ]
    },
    {
     "name": "stderr",
     "output_type": "stream",
     "text": [
      "/tmp/ipykernel_83745/2881429764.py:7: FutureWarning: suggest_loguniform has been deprecated in v3.0.0. This feature will be removed in v6.0.0. See https://github.com/optuna/optuna/releases/tag/v3.0.0. Use suggest_float(..., log=True) instead.\n",
      "  learning_rate = trial.suggest_loguniform(\"learning_rate\", 1e-5, 1e-1)\n",
      "[I 2024-11-28 15:58:15,324] Trial 28 finished with value: 0.4444444444444444 and parameters: {'hidden_units': 96, 'dropout1': 0.15000000000000002, 'dropout2': 0.25, 'dropout3': 0.35, 'dropout4': 0.2, 'learning_rate': 0.0015182588569414713}. Best is trial 4 with value: 0.6190476190476191.\n"
     ]
    },
    {
     "name": "stdout",
     "output_type": "stream",
     "text": [
      "Accuracy: 61.54%\n",
      "Precision: 0.4615\n",
      "Recall: 0.4286\n",
      "F1 Score: 0.4444\n",
      "Matthews Correlation Coefficient: 0.1512\n",
      "Specificity: 0.7200\n"
     ]
    },
    {
     "name": "stderr",
     "output_type": "stream",
     "text": [
      "/tmp/ipykernel_83745/2881429764.py:7: FutureWarning: suggest_loguniform has been deprecated in v3.0.0. This feature will be removed in v6.0.0. See https://github.com/optuna/optuna/releases/tag/v3.0.0. Use suggest_float(..., log=True) instead.\n",
      "  learning_rate = trial.suggest_loguniform(\"learning_rate\", 1e-5, 1e-1)\n",
      "[I 2024-11-28 15:59:03,731] Trial 29 finished with value: 0.3568075117370892 and parameters: {'hidden_units': 356, 'dropout1': 0.45000000000000007, 'dropout2': 0.5, 'dropout3': 0.45000000000000007, 'dropout4': 0.30000000000000004, 'learning_rate': 4.3603415737542085e-05}. Best is trial 4 with value: 0.6190476190476191.\n"
     ]
    },
    {
     "name": "stdout",
     "output_type": "stream",
     "text": [
      "Accuracy: 60.97%\n",
      "Precision: 0.4368\n",
      "Recall: 0.3016\n",
      "F1 Score: 0.3568\n",
      "Matthews Correlation Coefficient: 0.0931\n",
      "Specificity: 0.7822\n"
     ]
    },
    {
     "name": "stderr",
     "output_type": "stream",
     "text": [
      "/tmp/ipykernel_83745/2881429764.py:7: FutureWarning: suggest_loguniform has been deprecated in v3.0.0. This feature will be removed in v6.0.0. See https://github.com/optuna/optuna/releases/tag/v3.0.0. Use suggest_float(..., log=True) instead.\n",
      "  learning_rate = trial.suggest_loguniform(\"learning_rate\", 1e-5, 1e-1)\n",
      "[I 2024-11-28 15:59:52,945] Trial 30 finished with value: 0.43983402489626555 and parameters: {'hidden_units': 432, 'dropout1': 0.25, 'dropout2': 0.35, 'dropout3': 0.5, 'dropout4': 0.35, 'learning_rate': 0.0005901639998401967}. Best is trial 4 with value: 0.6190476190476191.\n"
     ]
    },
    {
     "name": "stdout",
     "output_type": "stream",
     "text": [
      "Accuracy: 61.54%\n",
      "Precision: 0.4609\n",
      "Recall: 0.4206\n",
      "F1 Score: 0.4398\n",
      "Matthews Correlation Coefficient: 0.1483\n",
      "Specificity: 0.7244\n"
     ]
    },
    {
     "name": "stderr",
     "output_type": "stream",
     "text": [
      "/tmp/ipykernel_83745/2881429764.py:7: FutureWarning: suggest_loguniform has been deprecated in v3.0.0. This feature will be removed in v6.0.0. See https://github.com/optuna/optuna/releases/tag/v3.0.0. Use suggest_float(..., log=True) instead.\n",
      "  learning_rate = trial.suggest_loguniform(\"learning_rate\", 1e-5, 1e-1)\n",
      "[I 2024-11-28 16:00:37,819] Trial 31 finished with value: 0.6022099447513812 and parameters: {'hidden_units': 284, 'dropout1': 0.15000000000000002, 'dropout2': 0.35, 'dropout3': 0.25, 'dropout4': 0.1, 'learning_rate': 0.04291382441997465}. Best is trial 4 with value: 0.6190476190476191.\n"
     ]
    },
    {
     "name": "stdout",
     "output_type": "stream",
     "text": [
      "Accuracy: 58.97%\n",
      "Precision: 0.4619\n",
      "Recall: 0.8651\n",
      "F1 Score: 0.6022\n",
      "Matthews Correlation Coefficient: 0.3073\n",
      "Specificity: 0.4356\n"
     ]
    },
    {
     "name": "stderr",
     "output_type": "stream",
     "text": [
      "/tmp/ipykernel_83745/2881429764.py:7: FutureWarning: suggest_loguniform has been deprecated in v3.0.0. This feature will be removed in v6.0.0. See https://github.com/optuna/optuna/releases/tag/v3.0.0. Use suggest_float(..., log=True) instead.\n",
      "  learning_rate = trial.suggest_loguniform(\"learning_rate\", 1e-5, 1e-1)\n",
      "/home/gonken/anaconda3/envs/torch/lib/python3.12/site-packages/sklearn/metrics/_classification.py:1531: UndefinedMetricWarning: Precision is ill-defined and being set to 0.0 due to no predicted samples. Use `zero_division` parameter to control this behavior.\n",
      "  _warn_prf(average, modifier, f\"{metric.capitalize()} is\", len(result))\n",
      "[I 2024-11-28 16:01:26,891] Trial 32 finished with value: 0.0 and parameters: {'hidden_units': 224, 'dropout1': 0.15000000000000002, 'dropout2': 0.25, 'dropout3': 0.25, 'dropout4': 0.15000000000000002, 'learning_rate': 0.033200296838374416}. Best is trial 4 with value: 0.6190476190476191.\n",
      "/tmp/ipykernel_83745/2881429764.py:7: FutureWarning: suggest_loguniform has been deprecated in v3.0.0. This feature will be removed in v6.0.0. See https://github.com/optuna/optuna/releases/tag/v3.0.0. Use suggest_float(..., log=True) instead.\n",
      "  learning_rate = trial.suggest_loguniform(\"learning_rate\", 1e-5, 1e-1)\n"
     ]
    },
    {
     "name": "stdout",
     "output_type": "stream",
     "text": [
      "Accuracy: 64.10%\n",
      "Precision: 0.0000\n",
      "Recall: 0.0000\n",
      "F1 Score: 0.0000\n",
      "Matthews Correlation Coefficient: 0.0000\n",
      "Specificity: 1.0000\n"
     ]
    },
    {
     "name": "stderr",
     "output_type": "stream",
     "text": [
      "[I 2024-11-28 16:02:14,303] Trial 33 finished with value: 0.45569620253164556 and parameters: {'hidden_units': 288, 'dropout1': 0.1, 'dropout2': 0.30000000000000004, 'dropout3': 0.30000000000000004, 'dropout4': 0.1, 'learning_rate': 0.014275056492803619}. Best is trial 4 with value: 0.6190476190476191.\n"
     ]
    },
    {
     "name": "stdout",
     "output_type": "stream",
     "text": [
      "Accuracy: 63.25%\n",
      "Precision: 0.4865\n",
      "Recall: 0.4286\n",
      "F1 Score: 0.4557\n",
      "Matthews Correlation Coefficient: 0.1808\n",
      "Specificity: 0.7467\n"
     ]
    },
    {
     "name": "stderr",
     "output_type": "stream",
     "text": [
      "/tmp/ipykernel_83745/2881429764.py:7: FutureWarning: suggest_loguniform has been deprecated in v3.0.0. This feature will be removed in v6.0.0. See https://github.com/optuna/optuna/releases/tag/v3.0.0. Use suggest_float(..., log=True) instead.\n",
      "  learning_rate = trial.suggest_loguniform(\"learning_rate\", 1e-5, 1e-1)\n",
      "/home/gonken/anaconda3/envs/torch/lib/python3.12/site-packages/sklearn/metrics/_classification.py:1531: UndefinedMetricWarning: Precision is ill-defined and being set to 0.0 due to no predicted samples. Use `zero_division` parameter to control this behavior.\n",
      "  _warn_prf(average, modifier, f\"{metric.capitalize()} is\", len(result))\n",
      "[I 2024-11-28 16:03:01,824] Trial 34 finished with value: 0.0 and parameters: {'hidden_units': 176, 'dropout1': 0.2, 'dropout2': 0.35, 'dropout3': 0.25, 'dropout4': 0.1, 'learning_rate': 0.05598887089824865}. Best is trial 4 with value: 0.6190476190476191.\n",
      "/tmp/ipykernel_83745/2881429764.py:7: FutureWarning: suggest_loguniform has been deprecated in v3.0.0. This feature will be removed in v6.0.0. See https://github.com/optuna/optuna/releases/tag/v3.0.0. Use suggest_float(..., log=True) instead.\n",
      "  learning_rate = trial.suggest_loguniform(\"learning_rate\", 1e-5, 1e-1)\n"
     ]
    },
    {
     "name": "stdout",
     "output_type": "stream",
     "text": [
      "Accuracy: 64.10%\n",
      "Precision: 0.0000\n",
      "Recall: 0.0000\n",
      "F1 Score: 0.0000\n",
      "Matthews Correlation Coefficient: 0.0000\n",
      "Specificity: 1.0000\n"
     ]
    },
    {
     "name": "stderr",
     "output_type": "stream",
     "text": [
      "[I 2024-11-28 16:03:50,538] Trial 35 finished with value: 0.6178010471204188 and parameters: {'hidden_units': 236, 'dropout1': 0.25, 'dropout2': 0.4, 'dropout3': 0.2, 'dropout4': 0.15000000000000002, 'learning_rate': 0.04101944581903078}. Best is trial 4 with value: 0.6190476190476191.\n"
     ]
    },
    {
     "name": "stdout",
     "output_type": "stream",
     "text": [
      "Accuracy: 58.40%\n",
      "Precision: 0.4609\n",
      "Recall: 0.9365\n",
      "F1 Score: 0.6178\n",
      "Matthews Correlation Coefficient: 0.3489\n",
      "Specificity: 0.3867\n"
     ]
    },
    {
     "name": "stderr",
     "output_type": "stream",
     "text": [
      "/tmp/ipykernel_83745/2881429764.py:7: FutureWarning: suggest_loguniform has been deprecated in v3.0.0. This feature will be removed in v6.0.0. See https://github.com/optuna/optuna/releases/tag/v3.0.0. Use suggest_float(..., log=True) instead.\n",
      "  learning_rate = trial.suggest_loguniform(\"learning_rate\", 1e-5, 1e-1)\n",
      "[I 2024-11-28 16:04:36,139] Trial 36 finished with value: 0.37104072398190047 and parameters: {'hidden_units': 156, 'dropout1': 0.30000000000000004, 'dropout2': 0.5, 'dropout3': 0.1, 'dropout4': 0.15000000000000002, 'learning_rate': 0.012190585457658486}. Best is trial 4 with value: 0.6190476190476191.\n"
     ]
    },
    {
     "name": "stdout",
     "output_type": "stream",
     "text": [
      "Accuracy: 60.40%\n",
      "Precision: 0.4316\n",
      "Recall: 0.3254\n",
      "F1 Score: 0.3710\n",
      "Matthews Correlation Coefficient: 0.0922\n",
      "Specificity: 0.7600\n"
     ]
    },
    {
     "name": "stderr",
     "output_type": "stream",
     "text": [
      "/tmp/ipykernel_83745/2881429764.py:7: FutureWarning: suggest_loguniform has been deprecated in v3.0.0. This feature will be removed in v6.0.0. See https://github.com/optuna/optuna/releases/tag/v3.0.0. Use suggest_float(..., log=True) instead.\n",
      "  learning_rate = trial.suggest_loguniform(\"learning_rate\", 1e-5, 1e-1)\n",
      "[I 2024-11-28 16:05:24,311] Trial 37 finished with value: 0.6205128205128205 and parameters: {'hidden_units': 440, 'dropout1': 0.25, 'dropout2': 0.45000000000000007, 'dropout3': 0.2, 'dropout4': 0.2, 'learning_rate': 0.07052397879680143}. Best is trial 37 with value: 0.6205128205128205.\n"
     ]
    },
    {
     "name": "stdout",
     "output_type": "stream",
     "text": [
      "Accuracy: 57.83%\n",
      "Precision: 0.4583\n",
      "Recall: 0.9603\n",
      "F1 Score: 0.6205\n",
      "Matthews Correlation Coefficient: 0.3608\n",
      "Specificity: 0.3644\n"
     ]
    },
    {
     "name": "stderr",
     "output_type": "stream",
     "text": [
      "/tmp/ipykernel_83745/2881429764.py:7: FutureWarning: suggest_loguniform has been deprecated in v3.0.0. This feature will be removed in v6.0.0. See https://github.com/optuna/optuna/releases/tag/v3.0.0. Use suggest_float(..., log=True) instead.\n",
      "  learning_rate = trial.suggest_loguniform(\"learning_rate\", 1e-5, 1e-1)\n",
      "[I 2024-11-28 16:06:11,323] Trial 38 finished with value: 0.6121372031662269 and parameters: {'hidden_units': 228, 'dropout1': 0.25, 'dropout2': 0.45000000000000007, 'dropout3': 0.15000000000000002, 'dropout4': 0.2, 'learning_rate': 0.06426106466407794}. Best is trial 37 with value: 0.6205128205128205.\n"
     ]
    },
    {
     "name": "stdout",
     "output_type": "stream",
     "text": [
      "Accuracy: 58.12%\n",
      "Precision: 0.4585\n",
      "Recall: 0.9206\n",
      "F1 Score: 0.6121\n",
      "Matthews Correlation Coefficient: 0.3334\n",
      "Specificity: 0.3911\n"
     ]
    },
    {
     "name": "stderr",
     "output_type": "stream",
     "text": [
      "/tmp/ipykernel_83745/2881429764.py:7: FutureWarning: suggest_loguniform has been deprecated in v3.0.0. This feature will be removed in v6.0.0. See https://github.com/optuna/optuna/releases/tag/v3.0.0. Use suggest_float(..., log=True) instead.\n",
      "  learning_rate = trial.suggest_loguniform(\"learning_rate\", 1e-5, 1e-1)\n",
      "[I 2024-11-28 16:06:56,321] Trial 39 finished with value: 0.6115702479338843 and parameters: {'hidden_units': 88, 'dropout1': 0.25, 'dropout2': 0.5, 'dropout3': 0.2, 'dropout4': 0.25, 'learning_rate': 0.018236214301310755}. Best is trial 37 with value: 0.6205128205128205.\n"
     ]
    },
    {
     "name": "stdout",
     "output_type": "stream",
     "text": [
      "Accuracy: 59.83%\n",
      "Precision: 0.4684\n",
      "Recall: 0.8810\n",
      "F1 Score: 0.6116\n",
      "Matthews Correlation Coefficient: 0.3288\n",
      "Specificity: 0.4400\n"
     ]
    },
    {
     "name": "stderr",
     "output_type": "stream",
     "text": [
      "/tmp/ipykernel_83745/2881429764.py:7: FutureWarning: suggest_loguniform has been deprecated in v3.0.0. This feature will be removed in v6.0.0. See https://github.com/optuna/optuna/releases/tag/v3.0.0. Use suggest_float(..., log=True) instead.\n",
      "  learning_rate = trial.suggest_loguniform(\"learning_rate\", 1e-5, 1e-1)\n",
      "[I 2024-11-28 16:07:44,621] Trial 40 finished with value: 0.5506329113924051 and parameters: {'hidden_units': 436, 'dropout1': 0.2, 'dropout2': 0.4, 'dropout3': 0.2, 'dropout4': 0.2, 'learning_rate': 0.03338941082614817}. Best is trial 37 with value: 0.6205128205128205.\n"
     ]
    },
    {
     "name": "stdout",
     "output_type": "stream",
     "text": [
      "Accuracy: 59.54%\n",
      "Precision: 0.4579\n",
      "Recall: 0.6905\n",
      "F1 Score: 0.5506\n",
      "Matthews Correlation Coefficient: 0.2240\n",
      "Specificity: 0.5422\n"
     ]
    },
    {
     "name": "stderr",
     "output_type": "stream",
     "text": [
      "/tmp/ipykernel_83745/2881429764.py:7: FutureWarning: suggest_loguniform has been deprecated in v3.0.0. This feature will be removed in v6.0.0. See https://github.com/optuna/optuna/releases/tag/v3.0.0. Use suggest_float(..., log=True) instead.\n",
      "  learning_rate = trial.suggest_loguniform(\"learning_rate\", 1e-5, 1e-1)\n",
      "/home/gonken/anaconda3/envs/torch/lib/python3.12/site-packages/sklearn/metrics/_classification.py:1531: UndefinedMetricWarning: Precision is ill-defined and being set to 0.0 due to no predicted samples. Use `zero_division` parameter to control this behavior.\n",
      "  _warn_prf(average, modifier, f\"{metric.capitalize()} is\", len(result))\n",
      "[I 2024-11-28 16:08:34,543] Trial 41 finished with value: 0.0 and parameters: {'hidden_units': 484, 'dropout1': 0.25, 'dropout2': 0.45000000000000007, 'dropout3': 0.25, 'dropout4': 0.15000000000000002, 'learning_rate': 0.07516720030362754}. Best is trial 37 with value: 0.6205128205128205.\n",
      "/tmp/ipykernel_83745/2881429764.py:7: FutureWarning: suggest_loguniform has been deprecated in v3.0.0. This feature will be removed in v6.0.0. See https://github.com/optuna/optuna/releases/tag/v3.0.0. Use suggest_float(..., log=True) instead.\n",
      "  learning_rate = trial.suggest_loguniform(\"learning_rate\", 1e-5, 1e-1)\n"
     ]
    },
    {
     "name": "stdout",
     "output_type": "stream",
     "text": [
      "Accuracy: 64.10%\n",
      "Precision: 0.0000\n",
      "Recall: 0.0000\n",
      "F1 Score: 0.0000\n",
      "Matthews Correlation Coefficient: 0.0000\n",
      "Specificity: 1.0000\n"
     ]
    },
    {
     "name": "stderr",
     "output_type": "stream",
     "text": [
      "[I 2024-11-28 16:09:23,931] Trial 42 finished with value: 0.4497991967871486 and parameters: {'hidden_units': 512, 'dropout1': 0.30000000000000004, 'dropout2': 0.5, 'dropout3': 0.2, 'dropout4': 0.15000000000000002, 'learning_rate': 0.028324967705915693}. Best is trial 37 with value: 0.6205128205128205.\n"
     ]
    },
    {
     "name": "stdout",
     "output_type": "stream",
     "text": [
      "Accuracy: 60.97%\n",
      "Precision: 0.4553\n",
      "Recall: 0.4444\n",
      "F1 Score: 0.4498\n",
      "Matthews Correlation Coefficient: 0.1475\n",
      "Specificity: 0.7022\n"
     ]
    },
    {
     "name": "stderr",
     "output_type": "stream",
     "text": [
      "/tmp/ipykernel_83745/2881429764.py:7: FutureWarning: suggest_loguniform has been deprecated in v3.0.0. This feature will be removed in v6.0.0. See https://github.com/optuna/optuna/releases/tag/v3.0.0. Use suggest_float(..., log=True) instead.\n",
      "  learning_rate = trial.suggest_loguniform(\"learning_rate\", 1e-5, 1e-1)\n",
      "[I 2024-11-28 16:10:12,278] Trial 43 finished with value: 0.35121951219512193 and parameters: {'hidden_units': 460, 'dropout1': 0.35, 'dropout2': 0.45000000000000007, 'dropout3': 0.15000000000000002, 'dropout4': 0.25, 'learning_rate': 0.016913755650987614}. Best is trial 37 with value: 0.6205128205128205.\n"
     ]
    },
    {
     "name": "stdout",
     "output_type": "stream",
     "text": [
      "Accuracy: 62.11%\n",
      "Precision: 0.4557\n",
      "Recall: 0.2857\n",
      "F1 Score: 0.3512\n",
      "Matthews Correlation Coefficient: 0.1087\n",
      "Specificity: 0.8089\n"
     ]
    },
    {
     "name": "stderr",
     "output_type": "stream",
     "text": [
      "/tmp/ipykernel_83745/2881429764.py:7: FutureWarning: suggest_loguniform has been deprecated in v3.0.0. This feature will be removed in v6.0.0. See https://github.com/optuna/optuna/releases/tag/v3.0.0. Use suggest_float(..., log=True) instead.\n",
      "  learning_rate = trial.suggest_loguniform(\"learning_rate\", 1e-5, 1e-1)\n",
      "[I 2024-11-28 16:11:00,916] Trial 44 finished with value: 0.5741324921135647 and parameters: {'hidden_units': 344, 'dropout1': 0.30000000000000004, 'dropout2': 0.4, 'dropout3': 0.35, 'dropout4': 0.2, 'learning_rate': 1.058942183559117e-05}. Best is trial 37 with value: 0.6205128205128205.\n"
     ]
    },
    {
     "name": "stdout",
     "output_type": "stream",
     "text": [
      "Accuracy: 61.54%\n",
      "Precision: 0.4764\n",
      "Recall: 0.7222\n",
      "F1 Score: 0.5741\n",
      "Matthews Correlation Coefficient: 0.2675\n",
      "Specificity: 0.5556\n"
     ]
    },
    {
     "name": "stderr",
     "output_type": "stream",
     "text": [
      "/tmp/ipykernel_83745/2881429764.py:7: FutureWarning: suggest_loguniform has been deprecated in v3.0.0. This feature will be removed in v6.0.0. See https://github.com/optuna/optuna/releases/tag/v3.0.0. Use suggest_float(..., log=True) instead.\n",
      "  learning_rate = trial.suggest_loguniform(\"learning_rate\", 1e-5, 1e-1)\n",
      "[I 2024-11-28 16:11:49,667] Trial 45 finished with value: 0.43089430894308944 and parameters: {'hidden_units': 428, 'dropout1': 0.25, 'dropout2': 0.15000000000000002, 'dropout3': 0.30000000000000004, 'dropout4': 0.15000000000000002, 'learning_rate': 0.004782113361677886}. Best is trial 37 with value: 0.6205128205128205.\n"
     ]
    },
    {
     "name": "stdout",
     "output_type": "stream",
     "text": [
      "Accuracy: 60.11%\n",
      "Precision: 0.4417\n",
      "Recall: 0.4206\n",
      "F1 Score: 0.4309\n",
      "Matthews Correlation Coefficient: 0.1242\n",
      "Specificity: 0.7022\n"
     ]
    },
    {
     "name": "stderr",
     "output_type": "stream",
     "text": [
      "/tmp/ipykernel_83745/2881429764.py:7: FutureWarning: suggest_loguniform has been deprecated in v3.0.0. This feature will be removed in v6.0.0. See https://github.com/optuna/optuna/releases/tag/v3.0.0. Use suggest_float(..., log=True) instead.\n",
      "  learning_rate = trial.suggest_loguniform(\"learning_rate\", 1e-5, 1e-1)\n",
      "[I 2024-11-28 16:12:37,021] Trial 46 finished with value: 0.6117021276595744 and parameters: {'hidden_units': 392, 'dropout1': 0.2, 'dropout2': 0.5, 'dropout3': 0.25, 'dropout4': 0.25, 'learning_rate': 0.04041353299350649}. Best is trial 37 with value: 0.6205128205128205.\n"
     ]
    },
    {
     "name": "stdout",
     "output_type": "stream",
     "text": [
      "Accuracy: 58.40%\n",
      "Precision: 0.4600\n",
      "Recall: 0.9127\n",
      "F1 Score: 0.6117\n",
      "Matthews Correlation Coefficient: 0.3313\n",
      "Specificity: 0.4000\n"
     ]
    },
    {
     "name": "stderr",
     "output_type": "stream",
     "text": [
      "/tmp/ipykernel_83745/2881429764.py:7: FutureWarning: suggest_loguniform has been deprecated in v3.0.0. This feature will be removed in v6.0.0. See https://github.com/optuna/optuna/releases/tag/v3.0.0. Use suggest_float(..., log=True) instead.\n",
      "  learning_rate = trial.suggest_loguniform(\"learning_rate\", 1e-5, 1e-1)\n",
      "[I 2024-11-28 16:13:26,131] Trial 47 finished with value: 0.5 and parameters: {'hidden_units': 444, 'dropout1': 0.1, 'dropout2': 0.4, 'dropout3': 0.15000000000000002, 'dropout4': 0.2, 'learning_rate': 0.021707489047229283}. Best is trial 37 with value: 0.6205128205128205.\n"
     ]
    },
    {
     "name": "stdout",
     "output_type": "stream",
     "text": [
      "Accuracy: 61.82%\n",
      "Precision: 0.4718\n",
      "Recall: 0.5317\n",
      "F1 Score: 0.5000\n",
      "Matthews Correlation Coefficient: 0.1939\n",
      "Specificity: 0.6667\n"
     ]
    },
    {
     "name": "stderr",
     "output_type": "stream",
     "text": [
      "/tmp/ipykernel_83745/2881429764.py:7: FutureWarning: suggest_loguniform has been deprecated in v3.0.0. This feature will be removed in v6.0.0. See https://github.com/optuna/optuna/releases/tag/v3.0.0. Use suggest_float(..., log=True) instead.\n",
      "  learning_rate = trial.suggest_loguniform(\"learning_rate\", 1e-5, 1e-1)\n",
      "[I 2024-11-28 16:14:13,682] Trial 48 finished with value: 0.49411764705882355 and parameters: {'hidden_units': 472, 'dropout1': 0.2, 'dropout2': 0.1, 'dropout3': 0.4, 'dropout4': 0.45000000000000007, 'learning_rate': 0.002255503059943532}. Best is trial 37 with value: 0.6205128205128205.\n"
     ]
    },
    {
     "name": "stdout",
     "output_type": "stream",
     "text": [
      "Accuracy: 63.25%\n",
      "Precision: 0.4884\n",
      "Recall: 0.5000\n",
      "F1 Score: 0.4941\n",
      "Matthews Correlation Coefficient: 0.2056\n",
      "Specificity: 0.7067\n"
     ]
    },
    {
     "name": "stderr",
     "output_type": "stream",
     "text": [
      "/tmp/ipykernel_83745/2881429764.py:7: FutureWarning: suggest_loguniform has been deprecated in v3.0.0. This feature will be removed in v6.0.0. See https://github.com/optuna/optuna/releases/tag/v3.0.0. Use suggest_float(..., log=True) instead.\n",
      "  learning_rate = trial.suggest_loguniform(\"learning_rate\", 1e-5, 1e-1)\n",
      "[I 2024-11-28 16:15:02,687] Trial 49 finished with value: 0.4686192468619247 and parameters: {'hidden_units': 336, 'dropout1': 0.4, 'dropout2': 0.35, 'dropout3': 0.2, 'dropout4': 0.1, 'learning_rate': 0.00019399163206578382}. Best is trial 37 with value: 0.6205128205128205.\n"
     ]
    },
    {
     "name": "stdout",
     "output_type": "stream",
     "text": [
      "Accuracy: 63.82%\n",
      "Precision: 0.4956\n",
      "Recall: 0.4444\n",
      "F1 Score: 0.4686\n",
      "Matthews Correlation Coefficient: 0.1962\n",
      "Specificity: 0.7467\n"
     ]
    },
    {
     "name": "stderr",
     "output_type": "stream",
     "text": [
      "/tmp/ipykernel_83745/2881429764.py:7: FutureWarning: suggest_loguniform has been deprecated in v3.0.0. This feature will be removed in v6.0.0. See https://github.com/optuna/optuna/releases/tag/v3.0.0. Use suggest_float(..., log=True) instead.\n",
      "  learning_rate = trial.suggest_loguniform(\"learning_rate\", 1e-5, 1e-1)\n",
      "[I 2024-11-28 16:15:50,147] Trial 50 finished with value: 0.4206008583690987 and parameters: {'hidden_units': 56, 'dropout1': 0.25, 'dropout2': 0.45000000000000007, 'dropout3': 0.1, 'dropout4': 0.2, 'learning_rate': 0.005919374135223005}. Best is trial 37 with value: 0.6205128205128205.\n"
     ]
    },
    {
     "name": "stdout",
     "output_type": "stream",
     "text": [
      "Accuracy: 61.54%\n",
      "Precision: 0.4579\n",
      "Recall: 0.3889\n",
      "F1 Score: 0.4206\n",
      "Matthews Correlation Coefficient: 0.1366\n",
      "Specificity: 0.7422\n"
     ]
    },
    {
     "name": "stderr",
     "output_type": "stream",
     "text": [
      "/tmp/ipykernel_83745/2881429764.py:7: FutureWarning: suggest_loguniform has been deprecated in v3.0.0. This feature will be removed in v6.0.0. See https://github.com/optuna/optuna/releases/tag/v3.0.0. Use suggest_float(..., log=True) instead.\n",
      "  learning_rate = trial.suggest_loguniform(\"learning_rate\", 1e-5, 1e-1)\n",
      "/home/gonken/anaconda3/envs/torch/lib/python3.12/site-packages/sklearn/metrics/_classification.py:1531: UndefinedMetricWarning: Precision is ill-defined and being set to 0.0 due to no predicted samples. Use `zero_division` parameter to control this behavior.\n",
      "  _warn_prf(average, modifier, f\"{metric.capitalize()} is\", len(result))\n",
      "[I 2024-11-28 16:16:36,184] Trial 51 finished with value: 0.0 and parameters: {'hidden_units': 212, 'dropout1': 0.25, 'dropout2': 0.45000000000000007, 'dropout3': 0.15000000000000002, 'dropout4': 0.2, 'learning_rate': 0.0721762841953416}. Best is trial 37 with value: 0.6205128205128205.\n",
      "/tmp/ipykernel_83745/2881429764.py:7: FutureWarning: suggest_loguniform has been deprecated in v3.0.0. This feature will be removed in v6.0.0. See https://github.com/optuna/optuna/releases/tag/v3.0.0. Use suggest_float(..., log=True) instead.\n",
      "  learning_rate = trial.suggest_loguniform(\"learning_rate\", 1e-5, 1e-1)\n"
     ]
    },
    {
     "name": "stdout",
     "output_type": "stream",
     "text": [
      "Accuracy: 64.10%\n",
      "Precision: 0.0000\n",
      "Recall: 0.0000\n",
      "F1 Score: 0.0000\n",
      "Matthews Correlation Coefficient: 0.0000\n",
      "Specificity: 1.0000\n"
     ]
    },
    {
     "name": "stderr",
     "output_type": "stream",
     "text": [
      "/home/gonken/anaconda3/envs/torch/lib/python3.12/site-packages/sklearn/metrics/_classification.py:1531: UndefinedMetricWarning: Precision is ill-defined and being set to 0.0 due to no predicted samples. Use `zero_division` parameter to control this behavior.\n",
      "  _warn_prf(average, modifier, f\"{metric.capitalize()} is\", len(result))\n",
      "[I 2024-11-28 16:17:17,798] Trial 52 finished with value: 0.0 and parameters: {'hidden_units': 232, 'dropout1': 0.30000000000000004, 'dropout2': 0.5, 'dropout3': 0.2, 'dropout4': 0.25, 'learning_rate': 0.05801570176072759}. Best is trial 37 with value: 0.6205128205128205.\n",
      "/tmp/ipykernel_83745/2881429764.py:7: FutureWarning: suggest_loguniform has been deprecated in v3.0.0. This feature will be removed in v6.0.0. See https://github.com/optuna/optuna/releases/tag/v3.0.0. Use suggest_float(..., log=True) instead.\n",
      "  learning_rate = trial.suggest_loguniform(\"learning_rate\", 1e-5, 1e-1)\n"
     ]
    },
    {
     "name": "stdout",
     "output_type": "stream",
     "text": [
      "Accuracy: 64.10%\n",
      "Precision: 0.0000\n",
      "Recall: 0.0000\n",
      "F1 Score: 0.0000\n",
      "Matthews Correlation Coefficient: 0.0000\n",
      "Specificity: 1.0000\n"
     ]
    },
    {
     "name": "stderr",
     "output_type": "stream",
     "text": [
      "/home/gonken/anaconda3/envs/torch/lib/python3.12/site-packages/sklearn/metrics/_classification.py:1531: UndefinedMetricWarning: Precision is ill-defined and being set to 0.0 due to no predicted samples. Use `zero_division` parameter to control this behavior.\n",
      "  _warn_prf(average, modifier, f\"{metric.capitalize()} is\", len(result))\n",
      "[I 2024-11-28 16:18:01,929] Trial 53 finished with value: 0.0 and parameters: {'hidden_units': 272, 'dropout1': 0.25, 'dropout2': 0.45000000000000007, 'dropout3': 0.15000000000000002, 'dropout4': 0.15000000000000002, 'learning_rate': 0.06034214806243792}. Best is trial 37 with value: 0.6205128205128205.\n",
      "/tmp/ipykernel_83745/2881429764.py:7: FutureWarning: suggest_loguniform has been deprecated in v3.0.0. This feature will be removed in v6.0.0. See https://github.com/optuna/optuna/releases/tag/v3.0.0. Use suggest_float(..., log=True) instead.\n",
      "  learning_rate = trial.suggest_loguniform(\"learning_rate\", 1e-5, 1e-1)\n"
     ]
    },
    {
     "name": "stdout",
     "output_type": "stream",
     "text": [
      "Accuracy: 64.10%\n",
      "Precision: 0.0000\n",
      "Recall: 0.0000\n",
      "F1 Score: 0.0000\n",
      "Matthews Correlation Coefficient: 0.0000\n",
      "Specificity: 1.0000\n"
     ]
    }
   ],
   "source": [
    "device = torch.device(\"cuda\" if torch.cuda.is_available() else \"cpu\")\n",
    "\n",
    "study = optuna.create_study(direction=\"maximize\")  \n",
    "study.optimize(objective, n_trials=100)\n",
    "\n",
    "\n",
    "print(\"Best Parameters: \", study.best_params)\n",
    "print(\"Best Validation F1: \", study.best_value)\n"
   ]
  },
  {
   "cell_type": "code",
   "execution_count": null,
   "metadata": {},
   "outputs": [],
   "source": [
    "best_params=study.best_params\n",
    "model = DNN_2(input_dim=X_train_tensor.shape[1],\n",
    "              hidden_units=best_params[\"hidden_units\"],\n",
    "              dropout1=best_params[\"dropout1\"],\n",
    "              dropout2=best_params[\"dropout2\"],\n",
    "              dropout3=best_params[\"dropout3\"],\n",
    "              dropout4=best_params[\"dropout4\"])\n",
    "# 最適化と訓練を実行\n",
    "optimizer = optim.Adam(model.parameters(), lr=best_params[\"learning_rate\"])\n",
    "criterion = nn.BCELoss()\n",
    "\n",
    "num_epochs=100\n",
    "train_losses = []\n",
    "val_losses = []\n",
    "\n",
    "model.train()\n",
    "for epoch in range(num_epochs):\n",
    "    epoch_train_loss = 0\n",
    "    epoch_val_loss = 0\n",
    "\n",
    "    for X_batch, y_batch in train_loader:\n",
    "        X_batch, y_batch = X_batch.to(device), y_batch.to(device)\n",
    "        optimizer.zero_grad()\n",
    "        outputs = model(X_batch).squeeze()\n",
    "        loss = criterion(outputs, y_batch)\n",
    "        loss.backward()\n",
    "        optimizer.step()\n",
    "        epoch_train_loss += loss.item()\n",
    "    avg_train_loss = epoch_train_loss / len(train_loader)\n",
    "    train_losses.append(avg_train_loss)\n",
    "    print(f'Epoch [{epoch+1}/{num_epochs}], Loss: {avg_train_loss:.4f}')\n",
    "\n",
    "    if val_loader is not None:\n",
    "        model.eval()  \n",
    "        with torch.no_grad():\n",
    "            for X_val, y_val in val_loader:\n",
    "                X_val, y_val = X_val.to(device), y_val.to(device)\n",
    "                val_outputs = model(X_val).squeeze()\n",
    "                val_loss = criterion(val_outputs, y_val)\n",
    "                epoch_val_loss += val_loss.item()\n",
    "\n",
    "        avg_val_loss = epoch_val_loss / len(val_loader)\n",
    "        val_losses.append(avg_val_loss)\n",
    "        model.train()  \n",
    "\n",
    "    if val_loader is not None:\n",
    "        print(f\"Epoch [{epoch+1}/{num_epochs}], Train Loss: {avg_train_loss:.4f}, Val Loss: {avg_val_loss:.4f}\")\n",
    "    else:\n",
    "        print(f\"Epoch [{epoch+1}/{num_epochs}], Train Loss: {avg_train_loss:.4f}\")\n",
    "\n",
    "plt.figure(figsize=(10, 6))\n",
    "plt.plot(range(1, num_epochs + 1), train_losses, label='Train Loss')\n",
    "if val_losses:\n",
    "    plt.plot(range(1, num_epochs + 1), val_losses, label='Validation Loss')\n",
    "plt.xlabel('Epoch')\n",
    "plt.ylabel('Loss')\n",
    "plt.title('Learning Curve for DNN1')\n",
    "plt.legend()\n",
    "plt.grid()\n",
    "plt.show()"
   ]
  },
  {
   "cell_type": "code",
   "execution_count": null,
   "metadata": {},
   "outputs": [],
   "source": [
    "model.eval()\n",
    "with torch.no_grad():\n",
    "    X_test_tensor = X_test_tensor.to(device)\n",
    "    y_test_tensor = y_test_tensor.to(device)\n",
    "\n",
    "    # 予測と確率\n",
    "    test_outputs = model(X_test_tensor).squeeze()\n",
    "    predictions = (test_outputs >= 0.5).float()\n",
    "    y_true = y_test_tensor.cpu().numpy()\n",
    "    y_pred = predictions.cpu().numpy()\n",
    "    y_prob = test_outputs.cpu().numpy()\n",
    "\n",
    "# 評価指標\n",
    "    accuracy = accuracy_score(y_true, y_pred)\n",
    "    precision = precision_score(y_true, y_pred)\n",
    "    recall = recall_score(y_true, y_pred)\n",
    "    f1 = f1_score(y_true, y_pred)\n",
    "    mcc = matthews_corrcoef(y_true, y_pred)\n",
    "    specificity = recall_score(y_true, y_pred, pos_label=0)  \n",
    "    print(f'Accuracy: {accuracy * 100:.2f}%')\n",
    "    print(f'Precision: {precision:.4f}')\n",
    "    print(f'Recall: {recall:.4f}')\n",
    "    print(f'F1 Score: {f1:.4f}')\n",
    "    print(f'Matthews Correlation Coefficient: {mcc:.4f}')\n",
    "    print(f'Specificity: {specificity:.4f}')\n",
    "\n",
    "    # 混同行列（割合表示）\n",
    "    cm = confusion_matrix(y_true, y_pred, normalize='true')\n",
    "    sns.heatmap(cm, annot=True, fmt=\".2%\", cmap=\"Blues\", cbar=False)\n",
    "    plt.xlabel(\"Predicted\")\n",
    "    plt.ylabel(\"Actual\")\n",
    "    plt.title(f\"Confusion Matrix (Normalized)\")\n",
    "    plt.show()\n",
    "\n",
    "    # ROC曲線とAUC\n",
    "    fpr, tpr, thresholds = roc_curve(y_true, y_prob)\n",
    "    roc_auc = auc(fpr, tpr)\n",
    "    plt.plot(fpr, tpr, label=f'ROC curve (AUC = {roc_auc:.2f})')\n",
    "    plt.plot([0, 1], [0, 1], 'k--') \n",
    "    plt.xlabel('False Positive Rate')\n",
    "    plt.ylabel('True Positive Rate')\n",
    "    plt.title(f'ROC Curve - Model ')\n",
    "    plt.legend(loc=\"lower right\")\n",
    "    plt.show()\n",
    "\n",
    "    # Precision-Recall曲線\n",
    "    precision_curve, recall_curve, pr_thresholds = precision_recall_curve(y_true, y_prob)\n",
    "    pr_auc = auc(recall_curve, precision_curve)\n",
    "    plt.plot(recall_curve, precision_curve, label=f'PR curve (AUC = {pr_auc:.2f})')\n",
    "    plt.xlabel('Recall')\n",
    "    plt.ylabel('Precision')\n",
    "    plt.title(f'Precision-Recall Curve ')\n",
    "    plt.legend(loc=\"lower left\")\n",
    "    plt.show()    "
   ]
  },
  {
   "cell_type": "code",
   "execution_count": null,
   "metadata": {},
   "outputs": [],
   "source": [
    "# モデルと構造を保存\n",
    "torch.save(model, '../../saved_model/DNN_2.pth')\n"
   ]
  }
 ],
 "metadata": {
  "kernelspec": {
   "display_name": "torch",
   "language": "python",
   "name": "python3"
  },
  "language_info": {
   "codemirror_mode": {
    "name": "ipython",
    "version": 3
   },
   "file_extension": ".py",
   "mimetype": "text/x-python",
   "name": "python",
   "nbconvert_exporter": "python",
   "pygments_lexer": "ipython3",
   "version": "3.12.7"
  }
 },
 "nbformat": 4,
 "nbformat_minor": 2
}
