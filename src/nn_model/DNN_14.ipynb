{
 "cells": [
  {
   "cell_type": "code",
   "execution_count": 7,
   "metadata": {},
   "outputs": [],
   "source": [
    "import numpy as np\n",
    "import pandas as pd\n",
    "import matplotlib.pyplot as plt\n",
    "import seaborn as sns\n",
    "\n",
    "import torch\n",
    "import torch.nn as nn\n",
    "import torch.optim as optim\n",
    "\n",
    "import optuna\n",
    "\n",
    "from sklearn.model_selection import train_test_split\n",
    "from sklearn.metrics import confusion_matrix,accuracy_score, precision_score, recall_score, f1_score, confusion_matrix, roc_curve, auc,matthews_corrcoef, precision_recall_curve,roc_auc_score\n",
    "\n"
   ]
  },
  {
   "cell_type": "markdown",
   "metadata": {},
   "source": [
    "データ読み取り"
   ]
  },
  {
   "cell_type": "code",
   "execution_count": 8,
   "metadata": {},
   "outputs": [],
   "source": [
    "df=pd.read_csv('../../data/learning_data.csv',index_col=0)\n",
    "\n",
    "X=df.drop(columns='dengue',axis=1).values\n",
    "y=df['dengue'].values\n",
    "\n",
    "X_train, X_test, y_train, y_test = train_test_split(X, y, test_size=0.2,random_state=42)\n",
    "X_train, X_val, y_train, y_val = train_test_split(X_train, y_train, test_size=0.1,random_state=42)\n",
    "\n",
    "#torchテンソルに変換\n",
    "X_train_tensor = torch.tensor(X_train, dtype=torch.float32)\n",
    "y_train_tensor = torch.tensor(y_train, dtype=torch.float32)\n",
    "X_test_tensor = torch.tensor(X_test, dtype=torch.float32)\n",
    "y_test_tensor = torch.tensor(y_test, dtype=torch.float32)\n",
    "X_val_tensor = torch.tensor(X_val, dtype=torch.float32)\n",
    "y_val_tensor = torch.tensor(y_val, dtype=torch.float32)\n"
   ]
  },
  {
   "cell_type": "code",
   "execution_count": 9,
   "metadata": {},
   "outputs": [],
   "source": [
    "class DNN_14(nn.Module):\n",
    "    def __init__(self, input_dim,dropout1,dropout2):\n",
    "        super(DNN_14, self).__init__()\n",
    "        self.layer1 = nn.Linear(input_dim,128)\n",
    "        self.layer2 = nn.Linear(128,64)\n",
    "        self.layer3 = nn.Linear(64, 32)\n",
    "        self.layer4 = nn.Linear(32, 16)\n",
    "        self.output_layer = nn.Linear(16, 1)\n",
    "\n",
    "        self.dropout1 = nn.Dropout(dropout1)\n",
    "        self.dropout2 = nn.Dropout(dropout2)\n",
    "        \n",
    "        \n",
    "    def forward(self, x):\n",
    "        x = torch.relu(self.layer1(x))\n",
    "        x = self.dropout1(x)\n",
    "        \n",
    "        x = torch.relu(self.layer2(x))\n",
    "    \n",
    "\n",
    "        x = torch.relu(self.layer3(x))\n",
    "        \n",
    "\n",
    "        x = torch.relu(self.layer4(x))\n",
    "        x = self.dropout2(x)\n",
    "\n",
    "        x = torch.sigmoid(self.output_layer(x)) \n",
    "        return x\n",
    "    "
   ]
  },
  {
   "cell_type": "markdown",
   "metadata": {},
   "source": [
    "学習データセットの作成"
   ]
  },
  {
   "cell_type": "code",
   "execution_count": 10,
   "metadata": {},
   "outputs": [],
   "source": [
    "train_dataset = torch.utils.data.TensorDataset(X_train_tensor, y_train_tensor)\n",
    "train_loader = torch.utils.data.DataLoader(dataset=train_dataset, batch_size=4, shuffle=True)\n",
    "\n",
    "val_dataset = torch.utils.data.TensorDataset(X_val_tensor, y_val_tensor)\n",
    "val_loader = torch.utils.data.DataLoader(dataset=val_dataset, batch_size=4, shuffle=False)"
   ]
  },
  {
   "cell_type": "markdown",
   "metadata": {},
   "source": [
    "Optunaの設定"
   ]
  },
  {
   "cell_type": "code",
   "execution_count": 11,
   "metadata": {},
   "outputs": [],
   "source": [
    "def objective(trial):\n",
    "    dropout1 = trial.suggest_float(\"dropout1\", 0, 0.5, step=0.05)\n",
    "    dropout2 = trial.suggest_float(\"dropout2\", 0, 0.5, step=0.05)\n",
    "    learning_rate = trial.suggest_loguniform(\"learning_rate\", 1e-4, 1e-2)  # 範囲を調整\n",
    "    weight_decay = trial.suggest_loguniform(\"weight_decay\", 1e-5, 1e-2)   # 範囲を調整\n",
    "\n",
    "    # モデル定義\n",
    "    model = DNN_14(\n",
    "        input_dim=X_train_tensor.shape[1],\n",
    "        dropout1=dropout1,\n",
    "        dropout2=dropout2\n",
    "    ).to(device)\n",
    "\n",
    "    criterion = nn.BCELoss()\n",
    "    optimizer = torch.optim.Adam(model.parameters(), lr=learning_rate, weight_decay=weight_decay)\n",
    "\n",
    "    # Early Stoppingの設定\n",
    "    patience = 10\n",
    "    best_val_loss = float('inf')\n",
    "    patience_counter = 0\n",
    "\n",
    "    # 訓練ループ\n",
    "    num_epochs = 100\n",
    "    for epoch in range(num_epochs):\n",
    "        model.train()\n",
    "        for X_batch, y_batch in train_loader:\n",
    "            X_batch, y_batch = X_batch.to(device), y_batch.to(device)\n",
    "            optimizer.zero_grad()\n",
    "            outputs = model(X_batch).squeeze()\n",
    "            loss = criterion(outputs, y_batch.squeeze())\n",
    "            loss.backward()\n",
    "            optimizer.step()\n",
    "\n",
    "        # バリデーション評価\n",
    "        model.eval()\n",
    "        val_loss = 0\n",
    "        val_true, val_pred = [], []\n",
    "        with torch.no_grad():\n",
    "            for X_val, y_val in val_loader:\n",
    "                X_val, y_val = X_val.to(device), y_val.to(device)\n",
    "                val_outputs = model(X_val).squeeze()\n",
    "                val_loss += criterion(val_outputs, y_val.squeeze()).item()\n",
    "                predictions = (val_outputs >= 0.5).float()\n",
    "                val_true.extend(y_val.cpu().numpy())\n",
    "                val_pred.extend(predictions.cpu().numpy())\n",
    "\n",
    "        val_loss /= len(val_loader)\n",
    "\n",
    "        # Early Stoppingの判定\n",
    "        if val_loss < best_val_loss:\n",
    "            best_val_loss = val_loss\n",
    "            patience_counter = 0\n",
    "        else:\n",
    "            patience_counter += 1\n",
    "\n",
    "        if patience_counter >= patience:\n",
    "            print(f\"Early stopping at epoch {epoch}\")\n",
    "            break\n",
    "\n",
    "        # Optunaへのログ\n",
    "        trial.report(val_loss, epoch)\n",
    "        if trial.should_prune():\n",
    "            raise optuna.exceptions.TrialPruned()\n",
    "\n",
    "    # 評価指標の計算\n",
    "    mcc = matthews_corrcoef(val_true, val_pred)\n",
    "    print(f\"Final MCC: {mcc:.4f}\")\n",
    "\n",
    "    return mcc  # mccを返す\n"
   ]
  },
  {
   "cell_type": "code",
   "execution_count": 12,
   "metadata": {},
   "outputs": [
    {
     "name": "stderr",
     "output_type": "stream",
     "text": [
      "[I 2024-12-04 16:18:05,821] A new study created in memory with name: no-name-f99cb06f-48fd-45f5-9dad-72399957f590\n",
      "/tmp/ipykernel_283437/4210310411.py:4: FutureWarning: suggest_loguniform has been deprecated in v3.0.0. This feature will be removed in v6.0.0. See https://github.com/optuna/optuna/releases/tag/v3.0.0. Use suggest_float(..., log=True) instead.\n",
      "  learning_rate = trial.suggest_loguniform(\"learning_rate\", 1e-4, 1e-2)  # 範囲を調整\n",
      "/tmp/ipykernel_283437/4210310411.py:5: FutureWarning: suggest_loguniform has been deprecated in v3.0.0. This feature will be removed in v6.0.0. See https://github.com/optuna/optuna/releases/tag/v3.0.0. Use suggest_float(..., log=True) instead.\n",
      "  weight_decay = trial.suggest_loguniform(\"weight_decay\", 1e-5, 1e-2)   # 範囲を調整\n",
      "[I 2024-12-04 16:20:50,975] Trial 0 finished with value: 0.17919744387838185 and parameters: {'dropout1': 0.5, 'dropout2': 0.2, 'learning_rate': 0.0002126612033645583, 'weight_decay': 0.0004281266628855525}. Best is trial 0 with value: 0.17919744387838185.\n"
     ]
    },
    {
     "name": "stdout",
     "output_type": "stream",
     "text": [
      "Early stopping at epoch 48\n",
      "Final MCC: 0.1792\n"
     ]
    },
    {
     "name": "stderr",
     "output_type": "stream",
     "text": [
      "/tmp/ipykernel_283437/4210310411.py:4: FutureWarning: suggest_loguniform has been deprecated in v3.0.0. This feature will be removed in v6.0.0. See https://github.com/optuna/optuna/releases/tag/v3.0.0. Use suggest_float(..., log=True) instead.\n",
      "  learning_rate = trial.suggest_loguniform(\"learning_rate\", 1e-4, 1e-2)  # 範囲を調整\n",
      "/tmp/ipykernel_283437/4210310411.py:5: FutureWarning: suggest_loguniform has been deprecated in v3.0.0. This feature will be removed in v6.0.0. See https://github.com/optuna/optuna/releases/tag/v3.0.0. Use suggest_float(..., log=True) instead.\n",
      "  weight_decay = trial.suggest_loguniform(\"weight_decay\", 1e-5, 1e-2)   # 範囲を調整\n",
      "[I 2024-12-04 16:21:31,251] Trial 1 finished with value: 0.0 and parameters: {'dropout1': 0.15000000000000002, 'dropout2': 0.5, 'learning_rate': 0.002339154252561104, 'weight_decay': 0.00011977988111677582}. Best is trial 0 with value: 0.17919744387838185.\n"
     ]
    },
    {
     "name": "stdout",
     "output_type": "stream",
     "text": [
      "Early stopping at epoch 11\n",
      "Final MCC: 0.0000\n"
     ]
    },
    {
     "name": "stderr",
     "output_type": "stream",
     "text": [
      "/tmp/ipykernel_283437/4210310411.py:4: FutureWarning: suggest_loguniform has been deprecated in v3.0.0. This feature will be removed in v6.0.0. See https://github.com/optuna/optuna/releases/tag/v3.0.0. Use suggest_float(..., log=True) instead.\n",
      "  learning_rate = trial.suggest_loguniform(\"learning_rate\", 1e-4, 1e-2)  # 範囲を調整\n",
      "/tmp/ipykernel_283437/4210310411.py:5: FutureWarning: suggest_loguniform has been deprecated in v3.0.0. This feature will be removed in v6.0.0. See https://github.com/optuna/optuna/releases/tag/v3.0.0. Use suggest_float(..., log=True) instead.\n",
      "  weight_decay = trial.suggest_loguniform(\"weight_decay\", 1e-5, 1e-2)   # 範囲を調整\n",
      "[I 2024-12-04 16:23:04,393] Trial 2 finished with value: 0.29818767909364446 and parameters: {'dropout1': 0.4, 'dropout2': 0.45, 'learning_rate': 0.0007221821466412762, 'weight_decay': 0.0014268201043563158}. Best is trial 2 with value: 0.29818767909364446.\n"
     ]
    },
    {
     "name": "stdout",
     "output_type": "stream",
     "text": [
      "Early stopping at epoch 27\n",
      "Final MCC: 0.2982\n"
     ]
    },
    {
     "name": "stderr",
     "output_type": "stream",
     "text": [
      "/tmp/ipykernel_283437/4210310411.py:4: FutureWarning: suggest_loguniform has been deprecated in v3.0.0. This feature will be removed in v6.0.0. See https://github.com/optuna/optuna/releases/tag/v3.0.0. Use suggest_float(..., log=True) instead.\n",
      "  learning_rate = trial.suggest_loguniform(\"learning_rate\", 1e-4, 1e-2)  # 範囲を調整\n",
      "/tmp/ipykernel_283437/4210310411.py:5: FutureWarning: suggest_loguniform has been deprecated in v3.0.0. This feature will be removed in v6.0.0. See https://github.com/optuna/optuna/releases/tag/v3.0.0. Use suggest_float(..., log=True) instead.\n",
      "  weight_decay = trial.suggest_loguniform(\"weight_decay\", 1e-5, 1e-2)   # 範囲を調整\n",
      "[I 2024-12-04 16:24:49,282] Trial 3 finished with value: 0.0 and parameters: {'dropout1': 0.5, 'dropout2': 0.5, 'learning_rate': 0.0002300082964916935, 'weight_decay': 0.0066639479941959755}. Best is trial 2 with value: 0.29818767909364446.\n"
     ]
    },
    {
     "name": "stdout",
     "output_type": "stream",
     "text": [
      "Early stopping at epoch 30\n",
      "Final MCC: 0.0000\n"
     ]
    },
    {
     "name": "stderr",
     "output_type": "stream",
     "text": [
      "/tmp/ipykernel_283437/4210310411.py:4: FutureWarning: suggest_loguniform has been deprecated in v3.0.0. This feature will be removed in v6.0.0. See https://github.com/optuna/optuna/releases/tag/v3.0.0. Use suggest_float(..., log=True) instead.\n",
      "  learning_rate = trial.suggest_loguniform(\"learning_rate\", 1e-4, 1e-2)  # 範囲を調整\n",
      "/tmp/ipykernel_283437/4210310411.py:5: FutureWarning: suggest_loguniform has been deprecated in v3.0.0. This feature will be removed in v6.0.0. See https://github.com/optuna/optuna/releases/tag/v3.0.0. Use suggest_float(..., log=True) instead.\n",
      "  weight_decay = trial.suggest_loguniform(\"weight_decay\", 1e-5, 1e-2)   # 範囲を調整\n",
      "[I 2024-12-04 16:25:44,299] Trial 4 finished with value: 0.29685993184495857 and parameters: {'dropout1': 0.45, 'dropout2': 0.0, 'learning_rate': 0.003852136712490171, 'weight_decay': 0.00013905795394081506}. Best is trial 2 with value: 0.29818767909364446.\n"
     ]
    },
    {
     "name": "stdout",
     "output_type": "stream",
     "text": [
      "Early stopping at epoch 15\n",
      "Final MCC: 0.2969\n"
     ]
    },
    {
     "name": "stderr",
     "output_type": "stream",
     "text": [
      "/tmp/ipykernel_283437/4210310411.py:4: FutureWarning: suggest_loguniform has been deprecated in v3.0.0. This feature will be removed in v6.0.0. See https://github.com/optuna/optuna/releases/tag/v3.0.0. Use suggest_float(..., log=True) instead.\n",
      "  learning_rate = trial.suggest_loguniform(\"learning_rate\", 1e-4, 1e-2)  # 範囲を調整\n",
      "/tmp/ipykernel_283437/4210310411.py:5: FutureWarning: suggest_loguniform has been deprecated in v3.0.0. This feature will be removed in v6.0.0. See https://github.com/optuna/optuna/releases/tag/v3.0.0. Use suggest_float(..., log=True) instead.\n",
      "  weight_decay = trial.suggest_loguniform(\"weight_decay\", 1e-5, 1e-2)   # 範囲を調整\n",
      "[I 2024-12-04 16:25:47,804] Trial 5 pruned. \n",
      "[I 2024-12-04 16:25:51,243] Trial 6 pruned. \n",
      "[I 2024-12-04 16:25:54,631] Trial 7 pruned. \n",
      "[I 2024-12-04 16:25:58,089] Trial 8 pruned. \n",
      "[I 2024-12-04 16:26:01,608] Trial 9 pruned. \n",
      "[I 2024-12-04 16:26:04,953] Trial 10 pruned. \n",
      "[I 2024-12-04 16:26:08,322] Trial 11 pruned. \n",
      "[I 2024-12-04 16:26:11,665] Trial 12 pruned. \n",
      "[I 2024-12-04 16:26:14,977] Trial 13 pruned. \n",
      "[I 2024-12-04 16:28:29,872] Trial 14 finished with value: 0.12900094070966361 and parameters: {'dropout1': 0.2, 'dropout2': 0.1, 'learning_rate': 0.00010961648943260041, 'weight_decay': 2.7022952695421785e-05}. Best is trial 2 with value: 0.29818767909364446.\n"
     ]
    },
    {
     "name": "stdout",
     "output_type": "stream",
     "text": [
      "Early stopping at epoch 39\n",
      "Final MCC: 0.1290\n"
     ]
    },
    {
     "name": "stderr",
     "output_type": "stream",
     "text": [
      "/tmp/ipykernel_283437/4210310411.py:4: FutureWarning: suggest_loguniform has been deprecated in v3.0.0. This feature will be removed in v6.0.0. See https://github.com/optuna/optuna/releases/tag/v3.0.0. Use suggest_float(..., log=True) instead.\n",
      "  learning_rate = trial.suggest_loguniform(\"learning_rate\", 1e-4, 1e-2)  # 範囲を調整\n",
      "/tmp/ipykernel_283437/4210310411.py:5: FutureWarning: suggest_loguniform has been deprecated in v3.0.0. This feature will be removed in v6.0.0. See https://github.com/optuna/optuna/releases/tag/v3.0.0. Use suggest_float(..., log=True) instead.\n",
      "  weight_decay = trial.suggest_loguniform(\"weight_decay\", 1e-5, 1e-2)   # 範囲を調整\n",
      "[I 2024-12-04 16:28:33,287] Trial 15 pruned. \n",
      "[I 2024-12-04 16:28:36,642] Trial 16 pruned. \n",
      "[I 2024-12-04 16:28:40,001] Trial 17 pruned. \n",
      "[I 2024-12-04 16:29:49,954] Trial 18 finished with value: 0.0 and parameters: {'dropout1': 0.45, 'dropout2': 0.4, 'learning_rate': 0.0015031722077258015, 'weight_decay': 0.00981822602928768}. Best is trial 2 with value: 0.29818767909364446.\n"
     ]
    },
    {
     "name": "stdout",
     "output_type": "stream",
     "text": [
      "Early stopping at epoch 19\n",
      "Final MCC: 0.0000\n"
     ]
    },
    {
     "name": "stderr",
     "output_type": "stream",
     "text": [
      "/tmp/ipykernel_283437/4210310411.py:4: FutureWarning: suggest_loguniform has been deprecated in v3.0.0. This feature will be removed in v6.0.0. See https://github.com/optuna/optuna/releases/tag/v3.0.0. Use suggest_float(..., log=True) instead.\n",
      "  learning_rate = trial.suggest_loguniform(\"learning_rate\", 1e-4, 1e-2)  # 範囲を調整\n",
      "/tmp/ipykernel_283437/4210310411.py:5: FutureWarning: suggest_loguniform has been deprecated in v3.0.0. This feature will be removed in v6.0.0. See https://github.com/optuna/optuna/releases/tag/v3.0.0. Use suggest_float(..., log=True) instead.\n",
      "  weight_decay = trial.suggest_loguniform(\"weight_decay\", 1e-5, 1e-2)   # 範囲を調整\n",
      "[I 2024-12-04 16:29:53,566] Trial 19 pruned. \n",
      "[I 2024-12-04 16:29:57,161] Trial 20 pruned. \n",
      "[I 2024-12-04 16:30:00,840] Trial 21 pruned. \n",
      "[I 2024-12-04 16:30:04,446] Trial 22 pruned. \n",
      "[I 2024-12-04 16:30:08,000] Trial 23 pruned. \n",
      "[I 2024-12-04 16:32:40,698] Trial 24 finished with value: 0.2984928778269346 and parameters: {'dropout1': 0.5, 'dropout2': 0.2, 'learning_rate': 0.00010124991707691783, 'weight_decay': 0.0032872878701195856}. Best is trial 24 with value: 0.2984928778269346.\n"
     ]
    },
    {
     "name": "stdout",
     "output_type": "stream",
     "text": [
      "Early stopping at epoch 43\n",
      "Final MCC: 0.2985\n"
     ]
    },
    {
     "name": "stderr",
     "output_type": "stream",
     "text": [
      "/tmp/ipykernel_283437/4210310411.py:4: FutureWarning: suggest_loguniform has been deprecated in v3.0.0. This feature will be removed in v6.0.0. See https://github.com/optuna/optuna/releases/tag/v3.0.0. Use suggest_float(..., log=True) instead.\n",
      "  learning_rate = trial.suggest_loguniform(\"learning_rate\", 1e-4, 1e-2)  # 範囲を調整\n",
      "/tmp/ipykernel_283437/4210310411.py:5: FutureWarning: suggest_loguniform has been deprecated in v3.0.0. This feature will be removed in v6.0.0. See https://github.com/optuna/optuna/releases/tag/v3.0.0. Use suggest_float(..., log=True) instead.\n",
      "  weight_decay = trial.suggest_loguniform(\"weight_decay\", 1e-5, 1e-2)   # 範囲を調整\n",
      "[I 2024-12-04 16:32:44,247] Trial 25 pruned. \n",
      "[I 2024-12-04 16:37:09,423] Trial 26 finished with value: 0.3117538231685599 and parameters: {'dropout1': 0.4, 'dropout2': 0.30000000000000004, 'learning_rate': 0.00011193248395252305, 'weight_decay': 0.00362947455688143}. Best is trial 26 with value: 0.3117538231685599.\n"
     ]
    },
    {
     "name": "stdout",
     "output_type": "stream",
     "text": [
      "Early stopping at epoch 73\n",
      "Final MCC: 0.3118\n"
     ]
    },
    {
     "name": "stderr",
     "output_type": "stream",
     "text": [
      "/tmp/ipykernel_283437/4210310411.py:4: FutureWarning: suggest_loguniform has been deprecated in v3.0.0. This feature will be removed in v6.0.0. See https://github.com/optuna/optuna/releases/tag/v3.0.0. Use suggest_float(..., log=True) instead.\n",
      "  learning_rate = trial.suggest_loguniform(\"learning_rate\", 1e-4, 1e-2)  # 範囲を調整\n",
      "/tmp/ipykernel_283437/4210310411.py:5: FutureWarning: suggest_loguniform has been deprecated in v3.0.0. This feature will be removed in v6.0.0. See https://github.com/optuna/optuna/releases/tag/v3.0.0. Use suggest_float(..., log=True) instead.\n",
      "  weight_decay = trial.suggest_loguniform(\"weight_decay\", 1e-5, 1e-2)   # 範囲を調整\n",
      "[I 2024-12-04 16:40:17,519] Trial 27 finished with value: 0.29179414386485275 and parameters: {'dropout1': 0.4, 'dropout2': 0.30000000000000004, 'learning_rate': 0.00010968336826407585, 'weight_decay': 0.0038044679870774616}. Best is trial 26 with value: 0.3117538231685599.\n"
     ]
    },
    {
     "name": "stdout",
     "output_type": "stream",
     "text": [
      "Early stopping at epoch 50\n",
      "Final MCC: 0.2918\n"
     ]
    },
    {
     "name": "stderr",
     "output_type": "stream",
     "text": [
      "/tmp/ipykernel_283437/4210310411.py:4: FutureWarning: suggest_loguniform has been deprecated in v3.0.0. This feature will be removed in v6.0.0. See https://github.com/optuna/optuna/releases/tag/v3.0.0. Use suggest_float(..., log=True) instead.\n",
      "  learning_rate = trial.suggest_loguniform(\"learning_rate\", 1e-4, 1e-2)  # 範囲を調整\n",
      "/tmp/ipykernel_283437/4210310411.py:5: FutureWarning: suggest_loguniform has been deprecated in v3.0.0. This feature will be removed in v6.0.0. See https://github.com/optuna/optuna/releases/tag/v3.0.0. Use suggest_float(..., log=True) instead.\n",
      "  weight_decay = trial.suggest_loguniform(\"weight_decay\", 1e-5, 1e-2)   # 範囲を調整\n",
      "[I 2024-12-04 16:40:21,236] Trial 28 pruned. \n",
      "[I 2024-12-04 16:43:28,932] Trial 29 finished with value: 0.2633297623254712 and parameters: {'dropout1': 0.5, 'dropout2': 0.15000000000000002, 'learning_rate': 0.0001484039806655693, 'weight_decay': 0.006450149972554286}. Best is trial 26 with value: 0.3117538231685599.\n"
     ]
    },
    {
     "name": "stdout",
     "output_type": "stream",
     "text": [
      "Early stopping at epoch 50\n",
      "Final MCC: 0.2633\n"
     ]
    },
    {
     "name": "stderr",
     "output_type": "stream",
     "text": [
      "/tmp/ipykernel_283437/4210310411.py:4: FutureWarning: suggest_loguniform has been deprecated in v3.0.0. This feature will be removed in v6.0.0. See https://github.com/optuna/optuna/releases/tag/v3.0.0. Use suggest_float(..., log=True) instead.\n",
      "  learning_rate = trial.suggest_loguniform(\"learning_rate\", 1e-4, 1e-2)  # 範囲を調整\n",
      "/tmp/ipykernel_283437/4210310411.py:5: FutureWarning: suggest_loguniform has been deprecated in v3.0.0. This feature will be removed in v6.0.0. See https://github.com/optuna/optuna/releases/tag/v3.0.0. Use suggest_float(..., log=True) instead.\n",
      "  weight_decay = trial.suggest_loguniform(\"weight_decay\", 1e-5, 1e-2)   # 範囲を調整\n",
      "[I 2024-12-04 16:43:32,583] Trial 30 pruned. \n",
      "[I 2024-12-04 16:46:18,937] Trial 31 finished with value: 0.0 and parameters: {'dropout1': 0.45, 'dropout2': 0.25, 'learning_rate': 0.00010079416277366808, 'weight_decay': 0.005564105930370486}. Best is trial 26 with value: 0.3117538231685599.\n"
     ]
    },
    {
     "name": "stdout",
     "output_type": "stream",
     "text": [
      "Early stopping at epoch 45\n",
      "Final MCC: 0.0000\n"
     ]
    },
    {
     "name": "stderr",
     "output_type": "stream",
     "text": [
      "/tmp/ipykernel_283437/4210310411.py:4: FutureWarning: suggest_loguniform has been deprecated in v3.0.0. This feature will be removed in v6.0.0. See https://github.com/optuna/optuna/releases/tag/v3.0.0. Use suggest_float(..., log=True) instead.\n",
      "  learning_rate = trial.suggest_loguniform(\"learning_rate\", 1e-4, 1e-2)  # 範囲を調整\n",
      "/tmp/ipykernel_283437/4210310411.py:5: FutureWarning: suggest_loguniform has been deprecated in v3.0.0. This feature will be removed in v6.0.0. See https://github.com/optuna/optuna/releases/tag/v3.0.0. Use suggest_float(..., log=True) instead.\n",
      "  weight_decay = trial.suggest_loguniform(\"weight_decay\", 1e-5, 1e-2)   # 範囲を調整\n",
      "[I 2024-12-04 16:46:22,756] Trial 32 pruned. \n",
      "[I 2024-12-04 16:46:26,615] Trial 33 pruned. \n",
      "[I 2024-12-04 16:46:30,400] Trial 34 pruned. \n",
      "[I 2024-12-04 16:46:34,131] Trial 35 pruned. \n",
      "[I 2024-12-04 16:47:24,678] Trial 36 finished with value: 0.0 and parameters: {'dropout1': 0.4, 'dropout2': 0.5, 'learning_rate': 0.002893834737946148, 'weight_decay': 0.005872264733519689}. Best is trial 26 with value: 0.3117538231685599.\n"
     ]
    },
    {
     "name": "stdout",
     "output_type": "stream",
     "text": [
      "Early stopping at epoch 13\n",
      "Final MCC: 0.0000\n"
     ]
    },
    {
     "name": "stderr",
     "output_type": "stream",
     "text": [
      "/tmp/ipykernel_283437/4210310411.py:4: FutureWarning: suggest_loguniform has been deprecated in v3.0.0. This feature will be removed in v6.0.0. See https://github.com/optuna/optuna/releases/tag/v3.0.0. Use suggest_float(..., log=True) instead.\n",
      "  learning_rate = trial.suggest_loguniform(\"learning_rate\", 1e-4, 1e-2)  # 範囲を調整\n",
      "/tmp/ipykernel_283437/4210310411.py:5: FutureWarning: suggest_loguniform has been deprecated in v3.0.0. This feature will be removed in v6.0.0. See https://github.com/optuna/optuna/releases/tag/v3.0.0. Use suggest_float(..., log=True) instead.\n",
      "  weight_decay = trial.suggest_loguniform(\"weight_decay\", 1e-5, 1e-2)   # 範囲を調整\n",
      "[I 2024-12-04 16:47:28,292] Trial 37 pruned. \n",
      "[I 2024-12-04 16:47:31,876] Trial 38 pruned. \n",
      "[I 2024-12-04 16:47:35,492] Trial 39 pruned. \n",
      "[I 2024-12-04 16:47:39,115] Trial 40 pruned. \n",
      "[I 2024-12-04 16:47:42,739] Trial 41 pruned. \n",
      "[I 2024-12-04 16:52:00,081] Trial 42 finished with value: 0.29191145879250335 and parameters: {'dropout1': 0.4, 'dropout2': 0.35000000000000003, 'learning_rate': 0.00011243825780425235, 'weight_decay': 0.0034237587635334984}. Best is trial 26 with value: 0.3117538231685599.\n"
     ]
    },
    {
     "name": "stdout",
     "output_type": "stream",
     "text": [
      "Early stopping at epoch 69\n",
      "Final MCC: 0.2919\n"
     ]
    },
    {
     "name": "stderr",
     "output_type": "stream",
     "text": [
      "/tmp/ipykernel_283437/4210310411.py:4: FutureWarning: suggest_loguniform has been deprecated in v3.0.0. This feature will be removed in v6.0.0. See https://github.com/optuna/optuna/releases/tag/v3.0.0. Use suggest_float(..., log=True) instead.\n",
      "  learning_rate = trial.suggest_loguniform(\"learning_rate\", 1e-4, 1e-2)  # 範囲を調整\n",
      "/tmp/ipykernel_283437/4210310411.py:5: FutureWarning: suggest_loguniform has been deprecated in v3.0.0. This feature will be removed in v6.0.0. See https://github.com/optuna/optuna/releases/tag/v3.0.0. Use suggest_float(..., log=True) instead.\n",
      "  weight_decay = trial.suggest_loguniform(\"weight_decay\", 1e-5, 1e-2)   # 範囲を調整\n",
      "[I 2024-12-04 16:52:03,850] Trial 43 pruned. \n",
      "[I 2024-12-04 16:54:56,827] Trial 44 finished with value: 0.13794926124656237 and parameters: {'dropout1': 0.4, 'dropout2': 0.4, 'learning_rate': 0.00012125512107063399, 'weight_decay': 0.0011945032340702857}. Best is trial 26 with value: 0.3117538231685599.\n"
     ]
    },
    {
     "name": "stdout",
     "output_type": "stream",
     "text": [
      "Early stopping at epoch 45\n",
      "Final MCC: 0.1379\n"
     ]
    },
    {
     "name": "stderr",
     "output_type": "stream",
     "text": [
      "/tmp/ipykernel_283437/4210310411.py:4: FutureWarning: suggest_loguniform has been deprecated in v3.0.0. This feature will be removed in v6.0.0. See https://github.com/optuna/optuna/releases/tag/v3.0.0. Use suggest_float(..., log=True) instead.\n",
      "  learning_rate = trial.suggest_loguniform(\"learning_rate\", 1e-4, 1e-2)  # 範囲を調整\n",
      "/tmp/ipykernel_283437/4210310411.py:5: FutureWarning: suggest_loguniform has been deprecated in v3.0.0. This feature will be removed in v6.0.0. See https://github.com/optuna/optuna/releases/tag/v3.0.0. Use suggest_float(..., log=True) instead.\n",
      "  weight_decay = trial.suggest_loguniform(\"weight_decay\", 1e-5, 1e-2)   # 範囲を調整\n",
      "[I 2024-12-04 16:55:00,574] Trial 45 pruned. \n",
      "[I 2024-12-04 16:55:04,296] Trial 46 pruned. \n",
      "[I 2024-12-04 16:55:07,998] Trial 47 pruned. \n",
      "[I 2024-12-04 16:55:11,720] Trial 48 pruned. \n",
      "[I 2024-12-04 16:55:15,501] Trial 49 pruned. \n",
      "[I 2024-12-04 16:55:19,229] Trial 50 pruned. \n",
      "[I 2024-12-04 16:57:51,042] Trial 51 finished with value: 0.2936739269941926 and parameters: {'dropout1': 0.4, 'dropout2': 0.30000000000000004, 'learning_rate': 0.00010845610848728874, 'weight_decay': 0.0033623042738031217}. Best is trial 26 with value: 0.3117538231685599.\n"
     ]
    },
    {
     "name": "stdout",
     "output_type": "stream",
     "text": [
      "Early stopping at epoch 40\n",
      "Final MCC: 0.2937\n"
     ]
    },
    {
     "name": "stderr",
     "output_type": "stream",
     "text": [
      "/tmp/ipykernel_283437/4210310411.py:4: FutureWarning: suggest_loguniform has been deprecated in v3.0.0. This feature will be removed in v6.0.0. See https://github.com/optuna/optuna/releases/tag/v3.0.0. Use suggest_float(..., log=True) instead.\n",
      "  learning_rate = trial.suggest_loguniform(\"learning_rate\", 1e-4, 1e-2)  # 範囲を調整\n",
      "/tmp/ipykernel_283437/4210310411.py:5: FutureWarning: suggest_loguniform has been deprecated in v3.0.0. This feature will be removed in v6.0.0. See https://github.com/optuna/optuna/releases/tag/v3.0.0. Use suggest_float(..., log=True) instead.\n",
      "  weight_decay = trial.suggest_loguniform(\"weight_decay\", 1e-5, 1e-2)   # 範囲を調整\n",
      "[I 2024-12-04 17:02:05,677] Trial 52 finished with value: 0.2975707485197976 and parameters: {'dropout1': 0.35000000000000003, 'dropout2': 0.30000000000000004, 'learning_rate': 0.00010065354959355276, 'weight_decay': 0.0018891544617244524}. Best is trial 26 with value: 0.3117538231685599.\n"
     ]
    },
    {
     "name": "stdout",
     "output_type": "stream",
     "text": [
      "Early stopping at epoch 67\n",
      "Final MCC: 0.2976\n"
     ]
    },
    {
     "name": "stderr",
     "output_type": "stream",
     "text": [
      "/tmp/ipykernel_283437/4210310411.py:4: FutureWarning: suggest_loguniform has been deprecated in v3.0.0. This feature will be removed in v6.0.0. See https://github.com/optuna/optuna/releases/tag/v3.0.0. Use suggest_float(..., log=True) instead.\n",
      "  learning_rate = trial.suggest_loguniform(\"learning_rate\", 1e-4, 1e-2)  # 範囲を調整\n",
      "/tmp/ipykernel_283437/4210310411.py:5: FutureWarning: suggest_loguniform has been deprecated in v3.0.0. This feature will be removed in v6.0.0. See https://github.com/optuna/optuna/releases/tag/v3.0.0. Use suggest_float(..., log=True) instead.\n",
      "  weight_decay = trial.suggest_loguniform(\"weight_decay\", 1e-5, 1e-2)   # 範囲を調整\n",
      "[I 2024-12-04 17:02:09,536] Trial 53 pruned. \n",
      "[I 2024-12-04 17:04:14,779] Trial 54 finished with value: 0.0 and parameters: {'dropout1': 0.45, 'dropout2': 0.25, 'learning_rate': 0.00013236226960502758, 'weight_decay': 0.0017570183320141954}. Best is trial 26 with value: 0.3117538231685599.\n"
     ]
    },
    {
     "name": "stdout",
     "output_type": "stream",
     "text": [
      "Early stopping at epoch 32\n",
      "Final MCC: 0.0000\n"
     ]
    },
    {
     "name": "stderr",
     "output_type": "stream",
     "text": [
      "/tmp/ipykernel_283437/4210310411.py:4: FutureWarning: suggest_loguniform has been deprecated in v3.0.0. This feature will be removed in v6.0.0. See https://github.com/optuna/optuna/releases/tag/v3.0.0. Use suggest_float(..., log=True) instead.\n",
      "  learning_rate = trial.suggest_loguniform(\"learning_rate\", 1e-4, 1e-2)  # 範囲を調整\n",
      "/tmp/ipykernel_283437/4210310411.py:5: FutureWarning: suggest_loguniform has been deprecated in v3.0.0. This feature will be removed in v6.0.0. See https://github.com/optuna/optuna/releases/tag/v3.0.0. Use suggest_float(..., log=True) instead.\n",
      "  weight_decay = trial.suggest_loguniform(\"weight_decay\", 1e-5, 1e-2)   # 範囲を調整\n",
      "[I 2024-12-04 17:06:57,686] Trial 55 finished with value: 0.3045662781080955 and parameters: {'dropout1': 0.5, 'dropout2': 0.2, 'learning_rate': 0.00010013210633510253, 'weight_decay': 0.005074860657960297}. Best is trial 26 with value: 0.3117538231685599.\n"
     ]
    },
    {
     "name": "stdout",
     "output_type": "stream",
     "text": [
      "Early stopping at epoch 42\n",
      "Final MCC: 0.3046\n"
     ]
    },
    {
     "name": "stderr",
     "output_type": "stream",
     "text": [
      "/tmp/ipykernel_283437/4210310411.py:4: FutureWarning: suggest_loguniform has been deprecated in v3.0.0. This feature will be removed in v6.0.0. See https://github.com/optuna/optuna/releases/tag/v3.0.0. Use suggest_float(..., log=True) instead.\n",
      "  learning_rate = trial.suggest_loguniform(\"learning_rate\", 1e-4, 1e-2)  # 範囲を調整\n",
      "/tmp/ipykernel_283437/4210310411.py:5: FutureWarning: suggest_loguniform has been deprecated in v3.0.0. This feature will be removed in v6.0.0. See https://github.com/optuna/optuna/releases/tag/v3.0.0. Use suggest_float(..., log=True) instead.\n",
      "  weight_decay = trial.suggest_loguniform(\"weight_decay\", 1e-5, 1e-2)   # 範囲を調整\n",
      "[I 2024-12-04 17:07:01,499] Trial 56 pruned. \n",
      "[I 2024-12-04 17:07:05,385] Trial 57 pruned. \n",
      "[I 2024-12-04 17:07:09,238] Trial 58 pruned. \n",
      "[I 2024-12-04 17:07:13,107] Trial 59 pruned. \n",
      "[I 2024-12-04 17:07:17,015] Trial 60 pruned. \n",
      "[I 2024-12-04 17:10:42,170] Trial 61 finished with value: 0.2724782962121822 and parameters: {'dropout1': 0.45, 'dropout2': 0.30000000000000004, 'learning_rate': 0.00010071648263482817, 'weight_decay': 0.005214186448107965}. Best is trial 26 with value: 0.3117538231685599.\n"
     ]
    },
    {
     "name": "stdout",
     "output_type": "stream",
     "text": [
      "Early stopping at epoch 57\n",
      "Final MCC: 0.2725\n"
     ]
    },
    {
     "name": "stderr",
     "output_type": "stream",
     "text": [
      "/tmp/ipykernel_283437/4210310411.py:4: FutureWarning: suggest_loguniform has been deprecated in v3.0.0. This feature will be removed in v6.0.0. See https://github.com/optuna/optuna/releases/tag/v3.0.0. Use suggest_float(..., log=True) instead.\n",
      "  learning_rate = trial.suggest_loguniform(\"learning_rate\", 1e-4, 1e-2)  # 範囲を調整\n",
      "/tmp/ipykernel_283437/4210310411.py:5: FutureWarning: suggest_loguniform has been deprecated in v3.0.0. This feature will be removed in v6.0.0. See https://github.com/optuna/optuna/releases/tag/v3.0.0. Use suggest_float(..., log=True) instead.\n",
      "  weight_decay = trial.suggest_loguniform(\"weight_decay\", 1e-5, 1e-2)   # 範囲を調整\n",
      "[I 2024-12-04 17:10:45,581] Trial 62 pruned. \n",
      "[I 2024-12-04 17:10:49,012] Trial 63 pruned. \n",
      "[I 2024-12-04 17:10:52,437] Trial 64 pruned. \n",
      "[I 2024-12-04 17:10:55,879] Trial 65 pruned. \n",
      "[I 2024-12-04 17:10:59,302] Trial 66 pruned. \n",
      "[I 2024-12-04 17:11:02,705] Trial 67 pruned. \n",
      "[I 2024-12-04 17:11:06,124] Trial 68 pruned. \n",
      "[I 2024-12-04 17:11:09,542] Trial 69 pruned. \n",
      "[I 2024-12-04 17:11:12,958] Trial 70 pruned. \n",
      "[I 2024-12-04 17:11:16,341] Trial 71 pruned. \n",
      "[I 2024-12-04 17:11:19,744] Trial 72 pruned. \n",
      "[I 2024-12-04 17:15:59,493] Trial 73 finished with value: 0.2732407688567601 and parameters: {'dropout1': 0.45, 'dropout2': 0.30000000000000004, 'learning_rate': 0.00010043848024742182, 'weight_decay': 0.006617945342097237}. Best is trial 26 with value: 0.3117538231685599.\n"
     ]
    },
    {
     "name": "stdout",
     "output_type": "stream",
     "text": [
      "Early stopping at epoch 84\n",
      "Final MCC: 0.2732\n"
     ]
    },
    {
     "name": "stderr",
     "output_type": "stream",
     "text": [
      "/tmp/ipykernel_283437/4210310411.py:4: FutureWarning: suggest_loguniform has been deprecated in v3.0.0. This feature will be removed in v6.0.0. See https://github.com/optuna/optuna/releases/tag/v3.0.0. Use suggest_float(..., log=True) instead.\n",
      "  learning_rate = trial.suggest_loguniform(\"learning_rate\", 1e-4, 1e-2)  # 範囲を調整\n",
      "/tmp/ipykernel_283437/4210310411.py:5: FutureWarning: suggest_loguniform has been deprecated in v3.0.0. This feature will be removed in v6.0.0. See https://github.com/optuna/optuna/releases/tag/v3.0.0. Use suggest_float(..., log=True) instead.\n",
      "  weight_decay = trial.suggest_loguniform(\"weight_decay\", 1e-5, 1e-2)   # 範囲を調整\n",
      "[I 2024-12-04 17:16:02,569] Trial 74 pruned. \n",
      "[I 2024-12-04 17:16:05,662] Trial 75 pruned. \n",
      "[I 2024-12-04 17:16:08,762] Trial 76 pruned. \n",
      "[I 2024-12-04 17:18:23,271] Trial 77 finished with value: 0.0 and parameters: {'dropout1': 0.4, 'dropout2': 0.4, 'learning_rate': 0.00011388753628898596, 'weight_decay': 0.0020848865483601847}. Best is trial 26 with value: 0.3117538231685599.\n"
     ]
    },
    {
     "name": "stdout",
     "output_type": "stream",
     "text": [
      "Early stopping at epoch 43\n",
      "Final MCC: 0.0000\n"
     ]
    },
    {
     "name": "stderr",
     "output_type": "stream",
     "text": [
      "/tmp/ipykernel_283437/4210310411.py:4: FutureWarning: suggest_loguniform has been deprecated in v3.0.0. This feature will be removed in v6.0.0. See https://github.com/optuna/optuna/releases/tag/v3.0.0. Use suggest_float(..., log=True) instead.\n",
      "  learning_rate = trial.suggest_loguniform(\"learning_rate\", 1e-4, 1e-2)  # 範囲を調整\n",
      "/tmp/ipykernel_283437/4210310411.py:5: FutureWarning: suggest_loguniform has been deprecated in v3.0.0. This feature will be removed in v6.0.0. See https://github.com/optuna/optuna/releases/tag/v3.0.0. Use suggest_float(..., log=True) instead.\n",
      "  weight_decay = trial.suggest_loguniform(\"weight_decay\", 1e-5, 1e-2)   # 範囲を調整\n",
      "[I 2024-12-04 17:18:26,394] Trial 78 pruned. \n",
      "[I 2024-12-04 17:18:29,462] Trial 79 pruned. \n",
      "[I 2024-12-04 17:18:32,571] Trial 80 pruned. \n",
      "[I 2024-12-04 17:20:30,090] Trial 81 finished with value: 0.2984928778269346 and parameters: {'dropout1': 0.4, 'dropout2': 0.30000000000000004, 'learning_rate': 0.00011398285283610529, 'weight_decay': 0.004426655166363379}. Best is trial 26 with value: 0.3117538231685599.\n"
     ]
    },
    {
     "name": "stdout",
     "output_type": "stream",
     "text": [
      "Early stopping at epoch 37\n",
      "Final MCC: 0.2985\n"
     ]
    },
    {
     "name": "stderr",
     "output_type": "stream",
     "text": [
      "/tmp/ipykernel_283437/4210310411.py:4: FutureWarning: suggest_loguniform has been deprecated in v3.0.0. This feature will be removed in v6.0.0. See https://github.com/optuna/optuna/releases/tag/v3.0.0. Use suggest_float(..., log=True) instead.\n",
      "  learning_rate = trial.suggest_loguniform(\"learning_rate\", 1e-4, 1e-2)  # 範囲を調整\n",
      "/tmp/ipykernel_283437/4210310411.py:5: FutureWarning: suggest_loguniform has been deprecated in v3.0.0. This feature will be removed in v6.0.0. See https://github.com/optuna/optuna/releases/tag/v3.0.0. Use suggest_float(..., log=True) instead.\n",
      "  weight_decay = trial.suggest_loguniform(\"weight_decay\", 1e-5, 1e-2)   # 範囲を調整\n",
      "[I 2024-12-04 17:22:33,522] Trial 82 finished with value: 0.29685993184495857 and parameters: {'dropout1': 0.4, 'dropout2': 0.30000000000000004, 'learning_rate': 0.00011272357824505157, 'weight_decay': 0.004275915963779416}. Best is trial 26 with value: 0.3117538231685599.\n"
     ]
    },
    {
     "name": "stdout",
     "output_type": "stream",
     "text": [
      "Early stopping at epoch 39\n",
      "Final MCC: 0.2969\n"
     ]
    },
    {
     "name": "stderr",
     "output_type": "stream",
     "text": [
      "/tmp/ipykernel_283437/4210310411.py:4: FutureWarning: suggest_loguniform has been deprecated in v3.0.0. This feature will be removed in v6.0.0. See https://github.com/optuna/optuna/releases/tag/v3.0.0. Use suggest_float(..., log=True) instead.\n",
      "  learning_rate = trial.suggest_loguniform(\"learning_rate\", 1e-4, 1e-2)  # 範囲を調整\n",
      "/tmp/ipykernel_283437/4210310411.py:5: FutureWarning: suggest_loguniform has been deprecated in v3.0.0. This feature will be removed in v6.0.0. See https://github.com/optuna/optuna/releases/tag/v3.0.0. Use suggest_float(..., log=True) instead.\n",
      "  weight_decay = trial.suggest_loguniform(\"weight_decay\", 1e-5, 1e-2)   # 範囲を調整\n",
      "[I 2024-12-04 17:22:36,643] Trial 83 pruned. \n",
      "[I 2024-12-04 17:22:39,734] Trial 84 pruned. \n",
      "[I 2024-12-04 17:22:42,873] Trial 85 pruned. \n",
      "[I 2024-12-04 17:26:09,016] Trial 86 finished with value: 0.2633297623254712 and parameters: {'dropout1': 0.45, 'dropout2': 0.2, 'learning_rate': 0.00010858832894637644, 'weight_decay': 0.00953317411441642}. Best is trial 26 with value: 0.3117538231685599.\n"
     ]
    },
    {
     "name": "stdout",
     "output_type": "stream",
     "text": [
      "Early stopping at epoch 66\n",
      "Final MCC: 0.2633\n"
     ]
    },
    {
     "name": "stderr",
     "output_type": "stream",
     "text": [
      "/tmp/ipykernel_283437/4210310411.py:4: FutureWarning: suggest_loguniform has been deprecated in v3.0.0. This feature will be removed in v6.0.0. See https://github.com/optuna/optuna/releases/tag/v3.0.0. Use suggest_float(..., log=True) instead.\n",
      "  learning_rate = trial.suggest_loguniform(\"learning_rate\", 1e-4, 1e-2)  # 範囲を調整\n",
      "/tmp/ipykernel_283437/4210310411.py:5: FutureWarning: suggest_loguniform has been deprecated in v3.0.0. This feature will be removed in v6.0.0. See https://github.com/optuna/optuna/releases/tag/v3.0.0. Use suggest_float(..., log=True) instead.\n",
      "  weight_decay = trial.suggest_loguniform(\"weight_decay\", 1e-5, 1e-2)   # 範囲を調整\n",
      "[I 2024-12-04 17:26:12,156] Trial 87 pruned. \n",
      "[I 2024-12-04 17:26:45,915] Trial 88 finished with value: 0.0 and parameters: {'dropout1': 0.45, 'dropout2': 0.05, 'learning_rate': 0.001517389159640343, 'weight_decay': 0.008240706873703115}. Best is trial 26 with value: 0.3117538231685599.\n"
     ]
    },
    {
     "name": "stdout",
     "output_type": "stream",
     "text": [
      "Early stopping at epoch 10\n",
      "Final MCC: 0.0000\n"
     ]
    },
    {
     "name": "stderr",
     "output_type": "stream",
     "text": [
      "/tmp/ipykernel_283437/4210310411.py:4: FutureWarning: suggest_loguniform has been deprecated in v3.0.0. This feature will be removed in v6.0.0. See https://github.com/optuna/optuna/releases/tag/v3.0.0. Use suggest_float(..., log=True) instead.\n",
      "  learning_rate = trial.suggest_loguniform(\"learning_rate\", 1e-4, 1e-2)  # 範囲を調整\n",
      "/tmp/ipykernel_283437/4210310411.py:5: FutureWarning: suggest_loguniform has been deprecated in v3.0.0. This feature will be removed in v6.0.0. See https://github.com/optuna/optuna/releases/tag/v3.0.0. Use suggest_float(..., log=True) instead.\n",
      "  weight_decay = trial.suggest_loguniform(\"weight_decay\", 1e-5, 1e-2)   # 範囲を調整\n",
      "[I 2024-12-04 17:26:48,984] Trial 89 pruned. \n",
      "[I 2024-12-04 17:26:52,072] Trial 90 pruned. \n",
      "[I 2024-12-04 17:26:55,151] Trial 91 pruned. \n",
      "[I 2024-12-04 17:26:58,239] Trial 92 pruned. \n",
      "[I 2024-12-04 17:27:01,350] Trial 93 pruned. \n",
      "[I 2024-12-04 17:30:35,470] Trial 94 finished with value: 0.29072133077420836 and parameters: {'dropout1': 0.45, 'dropout2': 0.30000000000000004, 'learning_rate': 0.00010874336872261662, 'weight_decay': 0.005023864006501953}. Best is trial 26 with value: 0.3117538231685599.\n"
     ]
    },
    {
     "name": "stdout",
     "output_type": "stream",
     "text": [
      "Early stopping at epoch 67\n",
      "Final MCC: 0.2907\n"
     ]
    },
    {
     "name": "stderr",
     "output_type": "stream",
     "text": [
      "/tmp/ipykernel_283437/4210310411.py:4: FutureWarning: suggest_loguniform has been deprecated in v3.0.0. This feature will be removed in v6.0.0. See https://github.com/optuna/optuna/releases/tag/v3.0.0. Use suggest_float(..., log=True) instead.\n",
      "  learning_rate = trial.suggest_loguniform(\"learning_rate\", 1e-4, 1e-2)  # 範囲を調整\n",
      "/tmp/ipykernel_283437/4210310411.py:5: FutureWarning: suggest_loguniform has been deprecated in v3.0.0. This feature will be removed in v6.0.0. See https://github.com/optuna/optuna/releases/tag/v3.0.0. Use suggest_float(..., log=True) instead.\n",
      "  weight_decay = trial.suggest_loguniform(\"weight_decay\", 1e-5, 1e-2)   # 範囲を調整\n",
      "[I 2024-12-04 17:30:38,673] Trial 95 pruned. \n",
      "[I 2024-12-04 17:30:41,850] Trial 96 pruned. \n",
      "[I 2024-12-04 17:30:45,017] Trial 97 pruned. \n",
      "[I 2024-12-04 17:30:48,212] Trial 98 pruned. \n",
      "[I 2024-12-04 17:30:51,402] Trial 99 pruned. \n"
     ]
    },
    {
     "name": "stdout",
     "output_type": "stream",
     "text": [
      "Best Parameters:  {'dropout1': 0.4, 'dropout2': 0.30000000000000004, 'learning_rate': 0.00011193248395252305, 'weight_decay': 0.00362947455688143}\n",
      "Best Validation F1:  0.3117538231685599\n"
     ]
    }
   ],
   "source": [
    "device_id = 0  # 使用するGPUのID（0または1）\n",
    "torch.cuda.set_device(device_id)\n",
    "device = torch.device(f\"cuda:{device_id}\" if torch.cuda.is_available() else \"cpu\")\n",
    "\n",
    "# Optunaの設定\n",
    "study = optuna.create_study(direction=\"maximize\")  \n",
    "study.optimize(objective, n_trials=100)\n",
    "\n",
    "# 結果表示\n",
    "print(\"Best Parameters: \", study.best_params)\n",
    "print(\"Best Validation F1: \", study.best_value)"
   ]
  },
  {
   "cell_type": "code",
   "execution_count": 13,
   "metadata": {},
   "outputs": [
    {
     "name": "stdout",
     "output_type": "stream",
     "text": [
      "Epoch [1/100], Loss: 0.6579\n",
      "Epoch [1/100], Train Loss: 0.6579, Val Loss: 0.6048\n",
      "Epoch [2/100], Loss: 0.6023\n",
      "Epoch [2/100], Train Loss: 0.6023, Val Loss: 0.5830\n",
      "Epoch [3/100], Loss: 0.5875\n",
      "Epoch [3/100], Train Loss: 0.5875, Val Loss: 0.5792\n",
      "Epoch [4/100], Loss: 0.5814\n",
      "Epoch [4/100], Train Loss: 0.5814, Val Loss: 0.5771\n",
      "Epoch [5/100], Loss: 0.5768\n",
      "Epoch [5/100], Train Loss: 0.5768, Val Loss: 0.5759\n",
      "Epoch [6/100], Loss: 0.5760\n",
      "Epoch [6/100], Train Loss: 0.5760, Val Loss: 0.5764\n",
      "Epoch [7/100], Loss: 0.5727\n",
      "Epoch [7/100], Train Loss: 0.5727, Val Loss: 0.5748\n",
      "Epoch [8/100], Loss: 0.5714\n",
      "Epoch [8/100], Train Loss: 0.5714, Val Loss: 0.5730\n",
      "Epoch [9/100], Loss: 0.5685\n",
      "Epoch [9/100], Train Loss: 0.5685, Val Loss: 0.5738\n",
      "Epoch [10/100], Loss: 0.5705\n",
      "Epoch [10/100], Train Loss: 0.5705, Val Loss: 0.5710\n",
      "Epoch [11/100], Loss: 0.5698\n",
      "Epoch [11/100], Train Loss: 0.5698, Val Loss: 0.5720\n",
      "Epoch [12/100], Loss: 0.5651\n",
      "Epoch [12/100], Train Loss: 0.5651, Val Loss: 0.5713\n",
      "Epoch [13/100], Loss: 0.5715\n",
      "Epoch [13/100], Train Loss: 0.5715, Val Loss: 0.5697\n",
      "Epoch [14/100], Loss: 0.5682\n",
      "Epoch [14/100], Train Loss: 0.5682, Val Loss: 0.5694\n",
      "Epoch [15/100], Loss: 0.5675\n",
      "Epoch [15/100], Train Loss: 0.5675, Val Loss: 0.5718\n",
      "Epoch [16/100], Loss: 0.5655\n",
      "Epoch [16/100], Train Loss: 0.5655, Val Loss: 0.5704\n",
      "Epoch [17/100], Loss: 0.5649\n",
      "Epoch [17/100], Train Loss: 0.5649, Val Loss: 0.5725\n",
      "Epoch [18/100], Loss: 0.5661\n",
      "Epoch [18/100], Train Loss: 0.5661, Val Loss: 0.5694\n",
      "Epoch [19/100], Loss: 0.5620\n",
      "Epoch [19/100], Train Loss: 0.5620, Val Loss: 0.5698\n",
      "Epoch [20/100], Loss: 0.5634\n",
      "Epoch [20/100], Train Loss: 0.5634, Val Loss: 0.5684\n",
      "Epoch [21/100], Loss: 0.5660\n",
      "Epoch [21/100], Train Loss: 0.5660, Val Loss: 0.5682\n",
      "Epoch [22/100], Loss: 0.5636\n",
      "Epoch [22/100], Train Loss: 0.5636, Val Loss: 0.5673\n",
      "Epoch [23/100], Loss: 0.5626\n",
      "Epoch [23/100], Train Loss: 0.5626, Val Loss: 0.5673\n",
      "Epoch [24/100], Loss: 0.5614\n",
      "Epoch [24/100], Train Loss: 0.5614, Val Loss: 0.5691\n",
      "Epoch [25/100], Loss: 0.5646\n",
      "Epoch [25/100], Train Loss: 0.5646, Val Loss: 0.5672\n",
      "Epoch [26/100], Loss: 0.5640\n",
      "Epoch [26/100], Train Loss: 0.5640, Val Loss: 0.5676\n",
      "Epoch [27/100], Loss: 0.5624\n",
      "Epoch [27/100], Train Loss: 0.5624, Val Loss: 0.5673\n",
      "Epoch [28/100], Loss: 0.5648\n",
      "Epoch [28/100], Train Loss: 0.5648, Val Loss: 0.5685\n",
      "Epoch [29/100], Loss: 0.5619\n",
      "Epoch [29/100], Train Loss: 0.5619, Val Loss: 0.5675\n",
      "Epoch [30/100], Loss: 0.5602\n",
      "Epoch [30/100], Train Loss: 0.5602, Val Loss: 0.5679\n",
      "Epoch [31/100], Loss: 0.5598\n",
      "Epoch [31/100], Train Loss: 0.5598, Val Loss: 0.5683\n",
      "Epoch [32/100], Loss: 0.5633\n",
      "Epoch [32/100], Train Loss: 0.5633, Val Loss: 0.5671\n",
      "Epoch [33/100], Loss: 0.5628\n",
      "Epoch [33/100], Train Loss: 0.5628, Val Loss: 0.5671\n",
      "Epoch [34/100], Loss: 0.5628\n",
      "Epoch [34/100], Train Loss: 0.5628, Val Loss: 0.5670\n",
      "Epoch [35/100], Loss: 0.5588\n",
      "Epoch [35/100], Train Loss: 0.5588, Val Loss: 0.5674\n",
      "Epoch [36/100], Loss: 0.5600\n",
      "Epoch [36/100], Train Loss: 0.5600, Val Loss: 0.5676\n",
      "Epoch [37/100], Loss: 0.5617\n",
      "Epoch [37/100], Train Loss: 0.5617, Val Loss: 0.5663\n",
      "Epoch [38/100], Loss: 0.5614\n",
      "Epoch [38/100], Train Loss: 0.5614, Val Loss: 0.5662\n",
      "Epoch [39/100], Loss: 0.5619\n",
      "Epoch [39/100], Train Loss: 0.5619, Val Loss: 0.5660\n",
      "Epoch [40/100], Loss: 0.5619\n",
      "Epoch [40/100], Train Loss: 0.5619, Val Loss: 0.5660\n",
      "Epoch [41/100], Loss: 0.5610\n",
      "Epoch [41/100], Train Loss: 0.5610, Val Loss: 0.5679\n",
      "Epoch [42/100], Loss: 0.5611\n",
      "Epoch [42/100], Train Loss: 0.5611, Val Loss: 0.5670\n",
      "Epoch [43/100], Loss: 0.5626\n",
      "Epoch [43/100], Train Loss: 0.5626, Val Loss: 0.5667\n",
      "Epoch [44/100], Loss: 0.5616\n",
      "Epoch [44/100], Train Loss: 0.5616, Val Loss: 0.5667\n",
      "Epoch [45/100], Loss: 0.5625\n",
      "Epoch [45/100], Train Loss: 0.5625, Val Loss: 0.5668\n",
      "Epoch [46/100], Loss: 0.5608\n",
      "Epoch [46/100], Train Loss: 0.5608, Val Loss: 0.5673\n",
      "Epoch [47/100], Loss: 0.5589\n",
      "Epoch [47/100], Train Loss: 0.5589, Val Loss: 0.5683\n",
      "Epoch [48/100], Loss: 0.5598\n",
      "Epoch [48/100], Train Loss: 0.5598, Val Loss: 0.5687\n",
      "Epoch [49/100], Loss: 0.5607\n",
      "Epoch [49/100], Train Loss: 0.5607, Val Loss: 0.5682\n",
      "Epoch [50/100], Loss: 0.5578\n",
      "Epoch [50/100], Train Loss: 0.5578, Val Loss: 0.5672\n",
      "Epoch [51/100], Loss: 0.5595\n",
      "Epoch [51/100], Train Loss: 0.5595, Val Loss: 0.5678\n",
      "Epoch [52/100], Loss: 0.5604\n",
      "Epoch [52/100], Train Loss: 0.5604, Val Loss: 0.5673\n",
      "Epoch [53/100], Loss: 0.5600\n",
      "Epoch [53/100], Train Loss: 0.5600, Val Loss: 0.5665\n",
      "Epoch [54/100], Loss: 0.5593\n",
      "Epoch [54/100], Train Loss: 0.5593, Val Loss: 0.5667\n",
      "Epoch [55/100], Loss: 0.5613\n",
      "Epoch [55/100], Train Loss: 0.5613, Val Loss: 0.5680\n",
      "Epoch [56/100], Loss: 0.5608\n",
      "Epoch [56/100], Train Loss: 0.5608, Val Loss: 0.5664\n",
      "Epoch [57/100], Loss: 0.5594\n",
      "Epoch [57/100], Train Loss: 0.5594, Val Loss: 0.5665\n",
      "Epoch [58/100], Loss: 0.5606\n",
      "Epoch [58/100], Train Loss: 0.5606, Val Loss: 0.5669\n",
      "Epoch [59/100], Loss: 0.5581\n",
      "Epoch [59/100], Train Loss: 0.5581, Val Loss: 0.5663\n",
      "Epoch [60/100], Loss: 0.5580\n",
      "Epoch [60/100], Train Loss: 0.5580, Val Loss: 0.5662\n",
      "Epoch [61/100], Loss: 0.5595\n",
      "Epoch [61/100], Train Loss: 0.5595, Val Loss: 0.5692\n",
      "Epoch [62/100], Loss: 0.5630\n",
      "Epoch [62/100], Train Loss: 0.5630, Val Loss: 0.5660\n",
      "Epoch [63/100], Loss: 0.5606\n",
      "Epoch [63/100], Train Loss: 0.5606, Val Loss: 0.5679\n",
      "Epoch [64/100], Loss: 0.5579\n",
      "Epoch [64/100], Train Loss: 0.5579, Val Loss: 0.5711\n",
      "Epoch [65/100], Loss: 0.5605\n",
      "Epoch [65/100], Train Loss: 0.5605, Val Loss: 0.5677\n",
      "Epoch [66/100], Loss: 0.5568\n",
      "Epoch [66/100], Train Loss: 0.5568, Val Loss: 0.5676\n",
      "Epoch [67/100], Loss: 0.5596\n",
      "Epoch [67/100], Train Loss: 0.5596, Val Loss: 0.5675\n",
      "Epoch [68/100], Loss: 0.5584\n",
      "Epoch [68/100], Train Loss: 0.5584, Val Loss: 0.5669\n",
      "Epoch [69/100], Loss: 0.5575\n",
      "Epoch [69/100], Train Loss: 0.5575, Val Loss: 0.5674\n",
      "Epoch [70/100], Loss: 0.5596\n",
      "Epoch [70/100], Train Loss: 0.5596, Val Loss: 0.5684\n",
      "Epoch [71/100], Loss: 0.5580\n",
      "Epoch [71/100], Train Loss: 0.5580, Val Loss: 0.5666\n",
      "Epoch [72/100], Loss: 0.5622\n",
      "Epoch [72/100], Train Loss: 0.5622, Val Loss: 0.5664\n",
      "Epoch [73/100], Loss: 0.5564\n",
      "Epoch [73/100], Train Loss: 0.5564, Val Loss: 0.5677\n",
      "Epoch [74/100], Loss: 0.5600\n",
      "Epoch [74/100], Train Loss: 0.5600, Val Loss: 0.5664\n",
      "Epoch [75/100], Loss: 0.5596\n",
      "Epoch [75/100], Train Loss: 0.5596, Val Loss: 0.5670\n",
      "Epoch [76/100], Loss: 0.5575\n",
      "Epoch [76/100], Train Loss: 0.5575, Val Loss: 0.5670\n",
      "Epoch [77/100], Loss: 0.5598\n",
      "Epoch [77/100], Train Loss: 0.5598, Val Loss: 0.5666\n",
      "Epoch [78/100], Loss: 0.5592\n",
      "Epoch [78/100], Train Loss: 0.5592, Val Loss: 0.5651\n",
      "Epoch [79/100], Loss: 0.5572\n",
      "Epoch [79/100], Train Loss: 0.5572, Val Loss: 0.5656\n",
      "Epoch [80/100], Loss: 0.5579\n",
      "Epoch [80/100], Train Loss: 0.5579, Val Loss: 0.5658\n",
      "Epoch [81/100], Loss: 0.5600\n",
      "Epoch [81/100], Train Loss: 0.5600, Val Loss: 0.5654\n",
      "Epoch [82/100], Loss: 0.5592\n",
      "Epoch [82/100], Train Loss: 0.5592, Val Loss: 0.5658\n",
      "Epoch [83/100], Loss: 0.5592\n",
      "Epoch [83/100], Train Loss: 0.5592, Val Loss: 0.5668\n",
      "Epoch [84/100], Loss: 0.5593\n",
      "Epoch [84/100], Train Loss: 0.5593, Val Loss: 0.5666\n",
      "Epoch [85/100], Loss: 0.5585\n",
      "Epoch [85/100], Train Loss: 0.5585, Val Loss: 0.5661\n",
      "Epoch [86/100], Loss: 0.5584\n",
      "Epoch [86/100], Train Loss: 0.5584, Val Loss: 0.5667\n",
      "Epoch [87/100], Loss: 0.5569\n",
      "Epoch [87/100], Train Loss: 0.5569, Val Loss: 0.5648\n",
      "Epoch [88/100], Loss: 0.5581\n",
      "Epoch [88/100], Train Loss: 0.5581, Val Loss: 0.5651\n",
      "Epoch [89/100], Loss: 0.5585\n",
      "Epoch [89/100], Train Loss: 0.5585, Val Loss: 0.5657\n",
      "Epoch [90/100], Loss: 0.5575\n",
      "Epoch [90/100], Train Loss: 0.5575, Val Loss: 0.5674\n",
      "Epoch [91/100], Loss: 0.5561\n",
      "Epoch [91/100], Train Loss: 0.5561, Val Loss: 0.5652\n",
      "Epoch [92/100], Loss: 0.5587\n",
      "Epoch [92/100], Train Loss: 0.5587, Val Loss: 0.5657\n",
      "Epoch [93/100], Loss: 0.5572\n",
      "Epoch [93/100], Train Loss: 0.5572, Val Loss: 0.5645\n",
      "Epoch [94/100], Loss: 0.5547\n",
      "Epoch [94/100], Train Loss: 0.5547, Val Loss: 0.5661\n",
      "Epoch [95/100], Loss: 0.5573\n",
      "Epoch [95/100], Train Loss: 0.5573, Val Loss: 0.5653\n",
      "Epoch [96/100], Loss: 0.5566\n",
      "Epoch [96/100], Train Loss: 0.5566, Val Loss: 0.5658\n",
      "Epoch [97/100], Loss: 0.5568\n",
      "Epoch [97/100], Train Loss: 0.5568, Val Loss: 0.5685\n",
      "Epoch [98/100], Loss: 0.5550\n",
      "Epoch [98/100], Train Loss: 0.5550, Val Loss: 0.5663\n",
      "Epoch [99/100], Loss: 0.5582\n",
      "Epoch [99/100], Train Loss: 0.5582, Val Loss: 0.5645\n",
      "Epoch [100/100], Loss: 0.5584\n",
      "Epoch [100/100], Train Loss: 0.5584, Val Loss: 0.5668\n"
     ]
    },
    {
     "data": {
      "image/png": "[encoded data removed]",
      "text/plain": [
       "<Figure size 1000x600 with 1 Axes>"
      ]
     },
     "metadata": {},
     "output_type": "display_data"
    }
   ],
   "source": [
    "best_params=study.best_params\n",
    "model = DNN_14(input_dim=X_train_tensor.shape[1],\n",
    "              dropout1=best_params[\"dropout1\"],\n",
    "              dropout2=best_params[\"dropout2\"],).to(device)\n",
    "# 最適化と訓練を実行\n",
    "optimizer = optim.Adam(model.parameters(), lr=best_params[\"learning_rate\"],weight_decay=best_params[\"weight_decay\"])\n",
    "criterion = nn.BCELoss()\n",
    "\n",
    "num_epochs=100\n",
    "train_losses = []\n",
    "val_losses = []\n",
    "\n",
    "model.train()\n",
    "for epoch in range(num_epochs):\n",
    "    epoch_train_loss = 0\n",
    "    epoch_val_loss = 0\n",
    "\n",
    "    for X_batch, y_batch in train_loader:\n",
    "        X_batch, y_batch = X_batch.to(device), y_batch.to(device)\n",
    "        optimizer.zero_grad()\n",
    "        outputs = model(X_batch).squeeze()\n",
    "        loss = criterion(outputs, y_batch.squeeze())\n",
    "        loss.backward()\n",
    "        optimizer.step()\n",
    "        epoch_train_loss += loss.item()\n",
    "    avg_train_loss = epoch_train_loss / len(train_loader)\n",
    "    train_losses.append(avg_train_loss)\n",
    "    print(f'Epoch [{epoch+1}/{num_epochs}], Loss: {avg_train_loss:.4f}')\n",
    "\n",
    "    if val_loader is not None:\n",
    "        model.eval()  \n",
    "        with torch.no_grad():\n",
    "            for X_val, y_val in val_loader:\n",
    "                X_val, y_val = X_val.to(device), y_val.to(device)\n",
    "                val_outputs = model(X_val).squeeze()\n",
    "                val_loss = criterion(val_outputs, y_val.squeeze())\n",
    "                epoch_val_loss += val_loss.item()\n",
    "\n",
    "        avg_val_loss = epoch_val_loss / len(val_loader)\n",
    "        val_losses.append(avg_val_loss)\n",
    "        model.train()  \n",
    "\n",
    "    if val_loader is not None:\n",
    "        print(f\"Epoch [{epoch+1}/{num_epochs}], Train Loss: {avg_train_loss:.4f}, Val Loss: {avg_val_loss:.4f}\")\n",
    "    else:\n",
    "        print(f\"Epoch [{epoch+1}/{num_epochs}], Train Loss: {avg_train_loss:.4f}\")\n",
    "\n",
    "plt.figure(figsize=(10, 6))\n",
    "plt.plot(range(1, num_epochs + 1), train_losses, label='Train Loss')\n",
    "if val_losses:\n",
    "    plt.plot(range(1, num_epochs + 1), val_losses, label='Validation Loss')\n",
    "plt.xlabel('Epoch')\n",
    "plt.ylabel('Loss')\n",
    "plt.title('Learning Curve for DNN1')\n",
    "plt.legend()\n",
    "plt.grid()\n",
    "plt.show()"
   ]
  },
  {
   "cell_type": "code",
   "execution_count": 16,
   "metadata": {},
   "outputs": [
    {
     "name": "stdout",
     "output_type": "stream",
     "text": [
      "Accuracy: 58.54%\n",
      "Precision: 0.4797\n",
      "Recall: 0.8702\n",
      "F1 Score: 0.6184\n",
      "Matthews Correlation Coefficient: 0.2939\n",
      "Specificity: 0.4063\n"
     ]
    },
    {
     "data": {
      "image/png": "[encoded data removed]",
      "text/plain": [
       "<Figure size 640x480 with 1 Axes>"
      ]
     },
     "metadata": {},
     "output_type": "display_data"
    },
    {
     "data": {
      "image/png": "[encoded data removed]",
      "text/plain": [
       "<Figure size 640x480 with 1 Axes>"
      ]
     },
     "metadata": {},
     "output_type": "display_data"
    },
    {
     "data": {
      "image/png": "[encoded data removed]",
      "text/plain": [
       "<Figure size 640x480 with 1 Axes>"
      ]
     },
     "metadata": {},
     "output_type": "display_data"
    }
   ],
   "source": [
    "model.eval()\n",
    "with torch.no_grad():\n",
    "    X_test_tensor = X_test_tensor.to(device)\n",
    "    y_test_tensor = y_test_tensor.to(device)\n",
    "\n",
    "    # 予測と確率\n",
    "    test_outputs = model(X_test_tensor).squeeze()\n",
    "    predictions = (test_outputs >0.49).float()\n",
    "    y_true = y_test_tensor.cpu().numpy()\n",
    "    y_pred = predictions.cpu().numpy()\n",
    "    y_prob = test_outputs.cpu().numpy()\n",
    "\n",
    "# 評価指標\n",
    "    accuracy = accuracy_score(y_true, y_pred)\n",
    "    precision = precision_score(y_true, y_pred)\n",
    "    recall = recall_score(y_true, y_pred)\n",
    "    f1 = f1_score(y_true, y_pred)\n",
    "    mcc = matthews_corrcoef(y_true, y_pred)\n",
    "    specificity = recall_score(y_true, y_pred, pos_label=0)  \n",
    "    print(f'Accuracy: {accuracy * 100:.2f}%')\n",
    "    print(f'Precision: {precision:.4f}')\n",
    "    print(f'Recall: {recall:.4f}')\n",
    "    print(f'F1 Score: {f1:.4f}')\n",
    "    print(f'Matthews Correlation Coefficient: {mcc:.4f}')\n",
    "    print(f'Specificity: {specificity:.4f}')\n",
    "\n",
    "    # 混同行列（割合表示）\n",
    "    cm = confusion_matrix(y_true, y_pred, normalize='true')\n",
    "    sns.heatmap(cm, annot=True, fmt=\".2%\", cmap=\"Blues\", cbar=False)\n",
    "    plt.xlabel(\"Predicted\")\n",
    "    plt.ylabel(\"Actual\")\n",
    "    plt.title(f\"Confusion Matrix (Normalized)\")\n",
    "    plt.show()\n",
    "\n",
    "    # ROC曲線とAUC\n",
    "    fpr, tpr, thresholds = roc_curve(y_true, y_prob)\n",
    "    roc_auc = auc(fpr, tpr)\n",
    "    plt.plot(fpr, tpr, label=f'ROC curve (AUC = {roc_auc:.2f})')\n",
    "    plt.plot([0, 1], [0, 1], 'k--') \n",
    "    plt.xlabel('False Positive Rate')\n",
    "    plt.ylabel('True Positive Rate')\n",
    "    plt.title(f'ROC Curve - Model ')\n",
    "    plt.legend(loc=\"lower right\")\n",
    "    plt.show()\n",
    "\n",
    "    # Precision-Recall曲線\n",
    "    precision_curve, recall_curve, pr_thresholds = precision_recall_curve(y_true, y_prob)\n",
    "    pr_auc = auc(recall_curve, precision_curve)\n",
    "    plt.plot(recall_curve, precision_curve, label=f'PR curve (AUC = {pr_auc:.2f})')\n",
    "    plt.xlabel('Recall')\n",
    "    plt.ylabel('Precision')\n",
    "    plt.title(f'Precision-Recall Curve ')\n",
    "    plt.legend(loc=\"lower left\")\n",
    "    plt.show()    "
   ]
  },
  {
   "cell_type": "code",
   "execution_count": 15,
   "metadata": {},
   "outputs": [],
   "source": [
    "# モデルと構造を保存\n",
    "torch.save(model.state_dict(), '../../saved_model/DNN_14.pth')\n",
    "\n"
   ]
  }
 ],
 "metadata": {
  "kernelspec": {
   "display_name": "torch",
   "language": "python",
   "name": "python3"
  },
  "language_info": {
   "codemirror_mode": {
    "name": "ipython",
    "version": 3
   },
   "file_extension": ".py",
   "mimetype": "text/x-python",
   "name": "python",
   "nbconvert_exporter": "python",
   "pygments_lexer": "ipython3",
   "version": "3.12.7"
  }
 },
 "nbformat": 4,
 "nbformat_minor": 2
}
