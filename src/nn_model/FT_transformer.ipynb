{
 "cells": [
  {
   "cell_type": "code",
   "execution_count": 21,
   "metadata": {},
   "outputs": [],
   "source": [
    "import numpy as np\n",
    "import pandas as pd\n",
    "import matplotlib.pyplot as plt\n",
    "import seaborn as sns\n",
    "\n",
    "import torch\n",
    "import torch.nn as nn\n",
    "import torch.optim as optim\n",
    "\n",
    "import optuna\n",
    "\n",
    "from sklearn.model_selection import train_test_split\n",
    "from sklearn.metrics import confusion_matrix,accuracy_score, precision_score, recall_score, f1_score, confusion_matrix, roc_curve, auc,matthews_corrcoef, precision_recall_curve,roc_auc_score\n",
    "\n"
   ]
  },
  {
   "cell_type": "markdown",
   "metadata": {},
   "source": [
    "データ読み取り"
   ]
  },
  {
   "cell_type": "code",
   "execution_count": 22,
   "metadata": {},
   "outputs": [],
   "source": [
    "df=pd.read_csv('../../data/learning_data.csv',index_col=0)\n",
    "\n",
    "X=df.drop(columns='dengue',axis=1).values\n",
    "y=df['dengue'].values\n",
    "\n",
    "X_train, X_test, y_train, y_test = train_test_split(X, y, test_size=0.2,random_state=42)\n",
    "X_train, X_val, y_train, y_val = train_test_split(X_train, y_train, test_size=0.1,random_state=42)\n",
    "\n",
    "#torchテンソルに変換\n",
    "X_train_tensor = torch.tensor(X_train, dtype=torch.float32)\n",
    "y_train_tensor = torch.tensor(y_train, dtype=torch.float32)\n",
    "X_test_tensor = torch.tensor(X_test, dtype=torch.float32)\n",
    "y_test_tensor = torch.tensor(y_test, dtype=torch.float32)\n",
    "X_val_tensor = torch.tensor(X_val, dtype=torch.float32)\n",
    "y_val_tensor = torch.tensor(y_val, dtype=torch.float32)\n"
   ]
  },
  {
   "cell_type": "code",
   "execution_count": 23,
   "metadata": {},
   "outputs": [],
   "source": [
    "class FTTransformer(nn.Module):\n",
    "    def __init__(self, input_dim, num_heads, num_layers, d_model, dropout):\n",
    "        super(FTTransformer, self).__init__()\n",
    "        self.input_dim = input_dim\n",
    "\n",
    "        # 入力を特徴トークンとして埋め込む\n",
    "        self.embedding = nn.Linear(input_dim, d_model)\n",
    "        \n",
    "        # Transformerエンコーダ層\n",
    "        self.transformer = nn.TransformerEncoder(\n",
    "            nn.TransformerEncoderLayer(d_model=d_model, nhead=num_heads, dropout=dropout),\n",
    "            num_layers=num_layers\n",
    "        )\n",
    "        \n",
    "        # 出力層\n",
    "        self.fc = nn.Linear(d_model, 1)\n",
    "        \n",
    "    def forward(self, x):\n",
    "        # 入力を埋め込み\n",
    "        # [batch_size, input_dim] -> [batch_size, seq_len=1, d_model]\n",
    "        x = self.embedding(x).unsqueeze(1)\n",
    "        \n",
    "        # 次元を変更 [batch_size, seq_len, d_model] -> [seq_len, batch_size, d_model]\n",
    "        x = x.permute(1, 0, 2)\n",
    "        \n",
    "        # Transformerエンコーダに通す\n",
    "        x = self.transformer(x)\n",
    "        \n",
    "        # 最後のトークンを取得して分類\n",
    "        # [seq_len, batch_size, d_model] -> [batch_size, d_model]\n",
    "        x = x.mean(dim=0)  # 平均を取る\n",
    "        x = self.fc(x)  # 出力層\n",
    "        return torch.sigmoid(x)\n"
   ]
  },
  {
   "cell_type": "markdown",
   "metadata": {},
   "source": [
    "学習データセットの作成"
   ]
  },
  {
   "cell_type": "code",
   "execution_count": 24,
   "metadata": {},
   "outputs": [],
   "source": [
    "train_dataset = torch.utils.data.TensorDataset(X_train_tensor, y_train_tensor)\n",
    "train_loader = torch.utils.data.DataLoader(dataset=train_dataset, batch_size=32, shuffle=True)\n",
    "\n",
    "val_dataset = torch.utils.data.TensorDataset(X_val_tensor, y_val_tensor)\n",
    "val_loader = torch.utils.data.DataLoader(dataset=val_dataset, batch_size=32, shuffle=False)"
   ]
  },
  {
   "cell_type": "markdown",
   "metadata": {},
   "source": [
    "Optunaの設定"
   ]
  },
  {
   "cell_type": "code",
   "execution_count": 25,
   "metadata": {},
   "outputs": [],
   "source": [
    "def objective(trial):\n",
    "    # ハイパーパラメータのサンプリング\n",
    "    num_heads = trial.suggest_categorical('num_heads', [2, 4, 8])\n",
    "    num_layers = trial.suggest_int('num_layers', 1, 5)\n",
    "    d_model = trial.suggest_categorical('d_model', [32, 64, 128])\n",
    "    dropout = trial.suggest_float('dropout', 0, 0.5, step=0.05)\n",
    "    learning_rate = trial.suggest_loguniform('learning_rate', 1e-4, 1e-2)  # 範囲を狭める\n",
    "\n",
    "    # モデル定義\n",
    "    model = FTTransformer(\n",
    "        input_dim=X_train.shape[1],\n",
    "        num_heads=num_heads,\n",
    "        num_layers=num_layers,\n",
    "        d_model=d_model,\n",
    "        dropout=dropout\n",
    "    ).to(device)\n",
    "\n",
    "    criterion = nn.BCELoss()\n",
    "    optimizer = torch.optim.Adam(model.parameters(), lr=learning_rate)\n",
    "\n",
    "    # Early Stoppingの設定\n",
    "    patience = 10\n",
    "    best_val_loss = float('inf')\n",
    "    patience_counter = 0\n",
    "\n",
    "    # 訓練ループ\n",
    "    num_epochs = 100\n",
    "    for epoch in range(num_epochs):\n",
    "        model.train()\n",
    "        for X_batch, y_batch in train_loader:\n",
    "            X_batch, y_batch = X_batch.to(device), y_batch.to(device)\n",
    "            optimizer.zero_grad()\n",
    "            outputs = model(X_batch).squeeze()\n",
    "            loss = criterion(outputs, y_batch)\n",
    "            loss.backward()\n",
    "            optimizer.step()\n",
    "\n",
    "        # バリデーション評価\n",
    "        model.eval()\n",
    "        val_loss = 0\n",
    "        val_true, val_pred = [], []\n",
    "        with torch.no_grad():\n",
    "            for X_val, y_val in val_loader:\n",
    "                X_val, y_val = X_val.to(device), y_val.to(device)\n",
    "                val_outputs = model(X_val).squeeze()\n",
    "                val_loss += criterion(val_outputs, y_val).item()\n",
    "                predictions = (val_outputs >= 0.5).float()\n",
    "                val_true.extend(y_val.cpu().numpy())\n",
    "                val_pred.extend(predictions.cpu().numpy())\n",
    "\n",
    "        val_loss /= len(val_loader)\n",
    "\n",
    "        # Early Stoppingの判定\n",
    "        if val_loss < best_val_loss:\n",
    "            best_val_loss = val_loss\n",
    "            patience_counter = 0\n",
    "        else:\n",
    "            patience_counter += 1\n",
    "\n",
    "        if patience_counter >= patience:\n",
    "            print(f\"Early stopping at epoch {epoch}\")\n",
    "            break\n",
    "\n",
    "        # Optunaへのログ\n",
    "        trial.report(val_loss, epoch)\n",
    "        if trial.should_prune():\n",
    "            raise optuna.exceptions.TrialPruned()\n",
    "\n",
    "    # 評価指標の計算\n",
    "    mcc = matthews_corrcoef(val_true, val_pred)\n",
    "    print(f\"Final MCC: {mcc:.4f}\")\n",
    "\n",
    "    return mcc  # mccを返す\n"
   ]
  },
  {
   "cell_type": "code",
   "execution_count": null,
   "metadata": {},
   "outputs": [
    {
     "name": "stderr",
     "output_type": "stream",
     "text": [
      "[I 2024-11-29 18:13:15,562] A new study created in memory with name: no-name-e02ac0b5-6a6b-45b4-beef-46b94488f3da\n",
      "/tmp/ipykernel_187141/3055239567.py:7: FutureWarning: suggest_loguniform has been deprecated in v3.0.0. This feature will be removed in v6.0.0. See https://github.com/optuna/optuna/releases/tag/v3.0.0. Use suggest_float(..., log=True) instead.\n",
      "  learning_rate = trial.suggest_loguniform('learning_rate', 1e-4, 1e-2)  # 範囲を狭める\n",
      "/home/gonken/anaconda3/envs/torch/lib/python3.12/site-packages/torch/nn/modules/transformer.py:379: UserWarning: enable_nested_tensor is True, but self.use_nested_tensor is False because encoder_layer.self_attn.batch_first was not True(use batch_first for better inference performance)\n",
      "  warnings.warn(\n",
      "[I 2024-11-29 18:13:55,738] Trial 0 finished with value: 0.09687107653069617 and parameters: {'num_heads': 2, 'num_layers': 3, 'd_model': 128, 'dropout': 0.45, 'learning_rate': 0.0002035110241585683}. Best is trial 0 with value: 0.09687107653069617.\n"
     ]
    },
    {
     "name": "stdout",
     "output_type": "stream",
     "text": [
      "Early stopping at epoch 36\n",
      "Final MCC: 0.0969\n"
     ]
    },
    {
     "name": "stderr",
     "output_type": "stream",
     "text": [
      "/tmp/ipykernel_187141/3055239567.py:7: FutureWarning: suggest_loguniform has been deprecated in v3.0.0. This feature will be removed in v6.0.0. See https://github.com/optuna/optuna/releases/tag/v3.0.0. Use suggest_float(..., log=True) instead.\n",
      "  learning_rate = trial.suggest_loguniform('learning_rate', 1e-4, 1e-2)  # 範囲を狭める\n",
      "/home/gonken/anaconda3/envs/torch/lib/python3.12/site-packages/torch/nn/modules/transformer.py:379: UserWarning: enable_nested_tensor is True, but self.use_nested_tensor is False because encoder_layer.self_attn.batch_first was not True(use batch_first for better inference performance)\n",
      "  warnings.warn(\n",
      "[I 2024-11-29 18:14:05,716] Trial 1 finished with value: 0.19330632196469974 and parameters: {'num_heads': 4, 'num_layers': 1, 'd_model': 64, 'dropout': 0.0, 'learning_rate': 0.0001368221928849118}. Best is trial 1 with value: 0.19330632196469974.\n"
     ]
    },
    {
     "name": "stdout",
     "output_type": "stream",
     "text": [
      "Early stopping at epoch 18\n",
      "Final MCC: 0.1933\n"
     ]
    },
    {
     "name": "stderr",
     "output_type": "stream",
     "text": [
      "/tmp/ipykernel_187141/3055239567.py:7: FutureWarning: suggest_loguniform has been deprecated in v3.0.0. This feature will be removed in v6.0.0. See https://github.com/optuna/optuna/releases/tag/v3.0.0. Use suggest_float(..., log=True) instead.\n",
      "  learning_rate = trial.suggest_loguniform('learning_rate', 1e-4, 1e-2)  # 範囲を狭める\n",
      "/home/gonken/anaconda3/envs/torch/lib/python3.12/site-packages/torch/nn/modules/transformer.py:379: UserWarning: enable_nested_tensor is True, but self.use_nested_tensor is False because encoder_layer.self_attn.batch_first was not True(use batch_first for better inference performance)\n",
      "  warnings.warn(\n",
      "[I 2024-11-29 18:14:25,901] Trial 2 finished with value: 0.0 and parameters: {'num_heads': 4, 'num_layers': 5, 'd_model': 32, 'dropout': 0.0, 'learning_rate': 0.0009693085947522154}. Best is trial 1 with value: 0.19330632196469974.\n"
     ]
    },
    {
     "name": "stdout",
     "output_type": "stream",
     "text": [
      "Early stopping at epoch 12\n",
      "Final MCC: 0.0000\n"
     ]
    },
    {
     "name": "stderr",
     "output_type": "stream",
     "text": [
      "/tmp/ipykernel_187141/3055239567.py:7: FutureWarning: suggest_loguniform has been deprecated in v3.0.0. This feature will be removed in v6.0.0. See https://github.com/optuna/optuna/releases/tag/v3.0.0. Use suggest_float(..., log=True) instead.\n",
      "  learning_rate = trial.suggest_loguniform('learning_rate', 1e-4, 1e-2)  # 範囲を狭める\n",
      "/home/gonken/anaconda3/envs/torch/lib/python3.12/site-packages/torch/nn/modules/transformer.py:379: UserWarning: enable_nested_tensor is True, but self.use_nested_tensor is False because encoder_layer.self_attn.batch_first was not True(use batch_first for better inference performance)\n",
      "  warnings.warn(\n",
      "[I 2024-11-29 18:14:46,229] Trial 3 finished with value: 0.3710693622969014 and parameters: {'num_heads': 4, 'num_layers': 5, 'd_model': 64, 'dropout': 0.0, 'learning_rate': 0.0004899002858129665}. Best is trial 3 with value: 0.3710693622969014.\n"
     ]
    },
    {
     "name": "stdout",
     "output_type": "stream",
     "text": [
      "Early stopping at epoch 12\n",
      "Final MCC: 0.3711\n"
     ]
    },
    {
     "name": "stderr",
     "output_type": "stream",
     "text": [
      "/tmp/ipykernel_187141/3055239567.py:7: FutureWarning: suggest_loguniform has been deprecated in v3.0.0. This feature will be removed in v6.0.0. See https://github.com/optuna/optuna/releases/tag/v3.0.0. Use suggest_float(..., log=True) instead.\n",
      "  learning_rate = trial.suggest_loguniform('learning_rate', 1e-4, 1e-2)  # 範囲を狭める\n",
      "/home/gonken/anaconda3/envs/torch/lib/python3.12/site-packages/torch/nn/modules/transformer.py:379: UserWarning: enable_nested_tensor is True, but self.use_nested_tensor is False because encoder_layer.self_attn.batch_first was not True(use batch_first for better inference performance)\n",
      "  warnings.warn(\n",
      "[I 2024-11-29 18:15:07,355] Trial 4 finished with value: 0.09213462593266854 and parameters: {'num_heads': 8, 'num_layers': 2, 'd_model': 128, 'dropout': 0.15000000000000002, 'learning_rate': 0.00014637486552674834}. Best is trial 3 with value: 0.3710693622969014.\n"
     ]
    },
    {
     "name": "stdout",
     "output_type": "stream",
     "text": [
      "Early stopping at epoch 23\n",
      "Final MCC: 0.0921\n"
     ]
    },
    {
     "name": "stderr",
     "output_type": "stream",
     "text": [
      "/tmp/ipykernel_187141/3055239567.py:7: FutureWarning: suggest_loguniform has been deprecated in v3.0.0. This feature will be removed in v6.0.0. See https://github.com/optuna/optuna/releases/tag/v3.0.0. Use suggest_float(..., log=True) instead.\n",
      "  learning_rate = trial.suggest_loguniform('learning_rate', 1e-4, 1e-2)  # 範囲を狭める\n",
      "/home/gonken/anaconda3/envs/torch/lib/python3.12/site-packages/torch/nn/modules/transformer.py:379: UserWarning: enable_nested_tensor is True, but self.use_nested_tensor is False because encoder_layer.self_attn.batch_first was not True(use batch_first for better inference performance)\n",
      "  warnings.warn(\n",
      "[I 2024-11-29 18:15:42,907] Trial 5 finished with value: 0.0 and parameters: {'num_heads': 8, 'num_layers': 5, 'd_model': 32, 'dropout': 0.4, 'learning_rate': 0.0038380865584451847}. Best is trial 3 with value: 0.3710693622969014.\n"
     ]
    },
    {
     "name": "stdout",
     "output_type": "stream",
     "text": [
      "Early stopping at epoch 21\n",
      "Final MCC: 0.0000\n"
     ]
    },
    {
     "name": "stderr",
     "output_type": "stream",
     "text": [
      "/tmp/ipykernel_187141/3055239567.py:7: FutureWarning: suggest_loguniform has been deprecated in v3.0.0. This feature will be removed in v6.0.0. See https://github.com/optuna/optuna/releases/tag/v3.0.0. Use suggest_float(..., log=True) instead.\n",
      "  learning_rate = trial.suggest_loguniform('learning_rate', 1e-4, 1e-2)  # 範囲を狭める\n",
      "/home/gonken/anaconda3/envs/torch/lib/python3.12/site-packages/torch/nn/modules/transformer.py:379: UserWarning: enable_nested_tensor is True, but self.use_nested_tensor is False because encoder_layer.self_attn.batch_first was not True(use batch_first for better inference performance)\n",
      "  warnings.warn(\n",
      "[I 2024-11-29 18:15:43,950] Trial 6 pruned. \n",
      "[I 2024-11-29 18:15:44,454] Trial 7 pruned. \n",
      "[I 2024-11-29 18:16:07,213] Trial 8 finished with value: 0.0 and parameters: {'num_heads': 2, 'num_layers': 4, 'd_model': 128, 'dropout': 0.35000000000000003, 'learning_rate': 0.0035314529336301116}. Best is trial 3 with value: 0.3710693622969014.\n"
     ]
    },
    {
     "name": "stdout",
     "output_type": "stream",
     "text": [
      "Early stopping at epoch 16\n",
      "Final MCC: 0.0000\n"
     ]
    },
    {
     "name": "stderr",
     "output_type": "stream",
     "text": [
      "/tmp/ipykernel_187141/3055239567.py:7: FutureWarning: suggest_loguniform has been deprecated in v3.0.0. This feature will be removed in v6.0.0. See https://github.com/optuna/optuna/releases/tag/v3.0.0. Use suggest_float(..., log=True) instead.\n",
      "  learning_rate = trial.suggest_loguniform('learning_rate', 1e-4, 1e-2)  # 範囲を狭める\n",
      "/home/gonken/anaconda3/envs/torch/lib/python3.12/site-packages/torch/nn/modules/transformer.py:379: UserWarning: enable_nested_tensor is True, but self.use_nested_tensor is False because encoder_layer.self_attn.batch_first was not True(use batch_first for better inference performance)\n",
      "  warnings.warn(\n",
      "[I 2024-11-29 18:16:44,298] Trial 9 finished with value: 0.0 and parameters: {'num_heads': 8, 'num_layers': 4, 'd_model': 32, 'dropout': 0.25, 'learning_rate': 0.008654131623196027}. Best is trial 3 with value: 0.3710693622969014.\n"
     ]
    },
    {
     "name": "stdout",
     "output_type": "stream",
     "text": [
      "Early stopping at epoch 26\n",
      "Final MCC: 0.0000\n"
     ]
    },
    {
     "name": "stderr",
     "output_type": "stream",
     "text": [
      "/tmp/ipykernel_187141/3055239567.py:7: FutureWarning: suggest_loguniform has been deprecated in v3.0.0. This feature will be removed in v6.0.0. See https://github.com/optuna/optuna/releases/tag/v3.0.0. Use suggest_float(..., log=True) instead.\n",
      "  learning_rate = trial.suggest_loguniform('learning_rate', 1e-4, 1e-2)  # 範囲を狭める\n",
      "/home/gonken/anaconda3/envs/torch/lib/python3.12/site-packages/torch/nn/modules/transformer.py:379: UserWarning: enable_nested_tensor is True, but self.use_nested_tensor is False because encoder_layer.self_attn.batch_first was not True(use batch_first for better inference performance)\n",
      "  warnings.warn(\n",
      "[I 2024-11-29 18:16:45,659] Trial 10 pruned. \n",
      "[I 2024-11-29 18:16:46,177] Trial 11 pruned. \n",
      "[I 2024-11-29 18:16:46,971] Trial 12 pruned. \n",
      "[I 2024-11-29 18:16:47,846] Trial 13 pruned. \n",
      "[I 2024-11-29 18:16:49,522] Trial 14 pruned. \n",
      "[I 2024-11-29 18:16:50,032] Trial 15 pruned. \n",
      "[I 2024-11-29 18:16:51,278] Trial 16 pruned. \n",
      "[I 2024-11-29 18:16:51,998] Trial 17 pruned. \n",
      "[I 2024-11-29 18:16:53,231] Trial 18 pruned. \n",
      "[I 2024-11-29 18:16:54,249] Trial 19 pruned. \n",
      "[I 2024-11-29 18:16:54,726] Trial 20 pruned. \n",
      "[I 2024-11-29 18:16:55,810] Trial 21 pruned. \n",
      "[I 2024-11-29 18:16:57,458] Trial 22 pruned. \n",
      "[I 2024-11-29 18:16:58,877] Trial 23 pruned. \n",
      "[I 2024-11-29 18:16:59,681] Trial 24 pruned. \n",
      "[I 2024-11-29 18:17:00,780] Trial 25 pruned. \n",
      "[I 2024-11-29 18:17:01,886] Trial 26 pruned. \n",
      "[I 2024-11-29 18:17:02,713] Trial 27 pruned. \n",
      "[I 2024-11-29 18:17:04,039] Trial 28 pruned. \n",
      "[I 2024-11-29 18:17:05,609] Trial 29 pruned. \n",
      "[I 2024-11-29 18:17:06,132] Trial 30 pruned. \n",
      "[I 2024-11-29 18:17:07,013] Trial 31 pruned. \n",
      "[I 2024-11-29 18:17:07,809] Trial 32 pruned. \n",
      "[I 2024-11-29 18:17:08,306] Trial 33 pruned. \n",
      "[I 2024-11-29 18:17:09,106] Trial 34 pruned. \n",
      "[I 2024-11-29 18:17:10,376] Trial 35 pruned. \n",
      "[I 2024-11-29 18:17:10,956] Trial 36 pruned. \n",
      "[I 2024-11-29 18:17:26,749] Trial 37 pruned. \n",
      "[I 2024-11-29 18:17:28,191] Trial 38 pruned. \n",
      "[I 2024-11-29 18:17:28,704] Trial 39 pruned. \n",
      "[I 2024-11-29 18:17:52,945] Trial 40 finished with value: 0.0 and parameters: {'num_heads': 4, 'num_layers': 3, 'd_model': 128, 'dropout': 0.1, 'learning_rate': 0.008742874122868453}. Best is trial 3 with value: 0.3710693622969014.\n"
     ]
    },
    {
     "name": "stdout",
     "output_type": "stream",
     "text": [
      "Early stopping at epoch 20\n",
      "Final MCC: 0.0000\n"
     ]
    },
    {
     "name": "stderr",
     "output_type": "stream",
     "text": [
      "/tmp/ipykernel_187141/3055239567.py:7: FutureWarning: suggest_loguniform has been deprecated in v3.0.0. This feature will be removed in v6.0.0. See https://github.com/optuna/optuna/releases/tag/v3.0.0. Use suggest_float(..., log=True) instead.\n",
      "  learning_rate = trial.suggest_loguniform('learning_rate', 1e-4, 1e-2)  # 範囲を狭める\n",
      "/home/gonken/anaconda3/envs/torch/lib/python3.12/site-packages/torch/nn/modules/transformer.py:379: UserWarning: enable_nested_tensor is True, but self.use_nested_tensor is False because encoder_layer.self_attn.batch_first was not True(use batch_first for better inference performance)\n",
      "  warnings.warn(\n",
      "[I 2024-11-29 18:17:54,585] Trial 41 pruned. \n",
      "[I 2024-11-29 18:17:56,153] Trial 42 pruned. \n",
      "[I 2024-11-29 18:17:57,551] Trial 43 pruned. \n",
      "[I 2024-11-29 18:18:23,745] Trial 44 finished with value: 0.0 and parameters: {'num_heads': 4, 'num_layers': 5, 'd_model': 32, 'dropout': 0.35000000000000003, 'learning_rate': 0.0014320823847970984}. Best is trial 3 with value: 0.3710693622969014.\n"
     ]
    },
    {
     "name": "stdout",
     "output_type": "stream",
     "text": [
      "Early stopping at epoch 15\n",
      "Final MCC: 0.0000\n"
     ]
    },
    {
     "name": "stderr",
     "output_type": "stream",
     "text": [
      "/tmp/ipykernel_187141/3055239567.py:7: FutureWarning: suggest_loguniform has been deprecated in v3.0.0. This feature will be removed in v6.0.0. See https://github.com/optuna/optuna/releases/tag/v3.0.0. Use suggest_float(..., log=True) instead.\n",
      "  learning_rate = trial.suggest_loguniform('learning_rate', 1e-4, 1e-2)  # 範囲を狭める\n",
      "/home/gonken/anaconda3/envs/torch/lib/python3.12/site-packages/torch/nn/modules/transformer.py:379: UserWarning: enable_nested_tensor is True, but self.use_nested_tensor is False because encoder_layer.self_attn.batch_first was not True(use batch_first for better inference performance)\n",
      "  warnings.warn(\n",
      "[I 2024-11-29 18:18:25,131] Trial 45 pruned. \n",
      "[I 2024-11-29 18:18:25,880] Trial 46 pruned. \n",
      "[I 2024-11-29 18:19:02,290] Trial 47 finished with value: 0.0 and parameters: {'num_heads': 8, 'num_layers': 5, 'd_model': 32, 'dropout': 0.1, 'learning_rate': 0.00655614005564287}. Best is trial 3 with value: 0.3710693622969014.\n"
     ]
    },
    {
     "name": "stdout",
     "output_type": "stream",
     "text": [
      "Early stopping at epoch 21\n",
      "Final MCC: 0.0000\n"
     ]
    },
    {
     "name": "stderr",
     "output_type": "stream",
     "text": [
      "/tmp/ipykernel_187141/3055239567.py:7: FutureWarning: suggest_loguniform has been deprecated in v3.0.0. This feature will be removed in v6.0.0. See https://github.com/optuna/optuna/releases/tag/v3.0.0. Use suggest_float(..., log=True) instead.\n",
      "  learning_rate = trial.suggest_loguniform('learning_rate', 1e-4, 1e-2)  # 範囲を狭める\n",
      "/home/gonken/anaconda3/envs/torch/lib/python3.12/site-packages/torch/nn/modules/transformer.py:379: UserWarning: enable_nested_tensor is True, but self.use_nested_tensor is False because encoder_layer.self_attn.batch_first was not True(use batch_first for better inference performance)\n",
      "  warnings.warn(\n",
      "[I 2024-11-29 18:19:03,116] Trial 48 pruned. \n",
      "[I 2024-11-29 18:19:04,201] Trial 49 pruned. \n",
      "[I 2024-11-29 18:19:04,770] Trial 50 pruned. \n",
      "[I 2024-11-29 18:19:06,647] Trial 51 pruned. \n",
      "[I 2024-11-29 18:19:08,252] Trial 52 pruned. \n",
      "[I 2024-11-29 18:19:09,658] Trial 53 pruned. \n",
      "[I 2024-11-29 18:19:30,307] Trial 54 finished with value: 0.0 and parameters: {'num_heads': 8, 'num_layers': 5, 'd_model': 32, 'dropout': 0.4, 'learning_rate': 0.0037822714388627047}. Best is trial 3 with value: 0.3710693622969014.\n"
     ]
    },
    {
     "name": "stdout",
     "output_type": "stream",
     "text": [
      "Early stopping at epoch 12\n",
      "Final MCC: 0.0000\n"
     ]
    },
    {
     "name": "stderr",
     "output_type": "stream",
     "text": [
      "/tmp/ipykernel_187141/3055239567.py:7: FutureWarning: suggest_loguniform has been deprecated in v3.0.0. This feature will be removed in v6.0.0. See https://github.com/optuna/optuna/releases/tag/v3.0.0. Use suggest_float(..., log=True) instead.\n",
      "  learning_rate = trial.suggest_loguniform('learning_rate', 1e-4, 1e-2)  # 範囲を狭める\n",
      "/home/gonken/anaconda3/envs/torch/lib/python3.12/site-packages/torch/nn/modules/transformer.py:379: UserWarning: enable_nested_tensor is True, but self.use_nested_tensor is False because encoder_layer.self_attn.batch_first was not True(use batch_first for better inference performance)\n",
      "  warnings.warn(\n",
      "[I 2024-11-29 18:19:31,967] Trial 55 pruned. \n",
      "[I 2024-11-29 18:19:33,650] Trial 56 pruned. \n",
      "[I 2024-11-29 18:19:35,044] Trial 57 pruned. \n",
      "[I 2024-11-29 18:19:36,461] Trial 58 pruned. \n",
      "[I 2024-11-29 18:19:37,594] Trial 59 pruned. \n",
      "[I 2024-11-29 18:19:38,093] Trial 60 pruned. \n",
      "[I 2024-11-29 18:20:17,183] Trial 61 finished with value: 0.0 and parameters: {'num_heads': 2, 'num_layers': 5, 'd_model': 128, 'dropout': 0.35000000000000003, 'learning_rate': 0.003562816439519716}. Best is trial 3 with value: 0.3710693622969014.\n"
     ]
    },
    {
     "name": "stdout",
     "output_type": "stream",
     "text": [
      "Early stopping at epoch 23\n",
      "Final MCC: 0.0000\n"
     ]
    },
    {
     "name": "stderr",
     "output_type": "stream",
     "text": [
      "/tmp/ipykernel_187141/3055239567.py:7: FutureWarning: suggest_loguniform has been deprecated in v3.0.0. This feature will be removed in v6.0.0. See https://github.com/optuna/optuna/releases/tag/v3.0.0. Use suggest_float(..., log=True) instead.\n",
      "  learning_rate = trial.suggest_loguniform('learning_rate', 1e-4, 1e-2)  # 範囲を狭める\n",
      "/home/gonken/anaconda3/envs/torch/lib/python3.12/site-packages/torch/nn/modules/transformer.py:379: UserWarning: enable_nested_tensor is True, but self.use_nested_tensor is False because encoder_layer.self_attn.batch_first was not True(use batch_first for better inference performance)\n",
      "  warnings.warn(\n",
      "[I 2024-11-29 18:20:55,333] Trial 62 finished with value: 0.0 and parameters: {'num_heads': 2, 'num_layers': 4, 'd_model': 128, 'dropout': 0.4, 'learning_rate': 0.00469148558126994}. Best is trial 3 with value: 0.3710693622969014.\n"
     ]
    },
    {
     "name": "stdout",
     "output_type": "stream",
     "text": [
      "Early stopping at epoch 27\n",
      "Final MCC: 0.0000\n"
     ]
    },
    {
     "name": "stderr",
     "output_type": "stream",
     "text": [
      "/tmp/ipykernel_187141/3055239567.py:7: FutureWarning: suggest_loguniform has been deprecated in v3.0.0. This feature will be removed in v6.0.0. See https://github.com/optuna/optuna/releases/tag/v3.0.0. Use suggest_float(..., log=True) instead.\n",
      "  learning_rate = trial.suggest_loguniform('learning_rate', 1e-4, 1e-2)  # 範囲を狭める\n",
      "/home/gonken/anaconda3/envs/torch/lib/python3.12/site-packages/torch/nn/modules/transformer.py:379: UserWarning: enable_nested_tensor is True, but self.use_nested_tensor is False because encoder_layer.self_attn.batch_first was not True(use batch_first for better inference performance)\n",
      "  warnings.warn(\n",
      "[I 2024-11-29 18:20:56,972] Trial 63 pruned. \n",
      "[I 2024-11-29 18:20:58,141] Trial 64 pruned. \n",
      "[I 2024-11-29 18:20:58,911] Trial 65 pruned. \n",
      "[I 2024-11-29 18:21:21,336] Trial 66 finished with value: 0.0 and parameters: {'num_heads': 4, 'num_layers': 4, 'd_model': 64, 'dropout': 0.30000000000000004, 'learning_rate': 0.009967890626283104}. Best is trial 3 with value: 0.3710693622969014.\n"
     ]
    },
    {
     "name": "stdout",
     "output_type": "stream",
     "text": [
      "Early stopping at epoch 15\n",
      "Final MCC: 0.0000\n"
     ]
    },
    {
     "name": "stderr",
     "output_type": "stream",
     "text": [
      "/tmp/ipykernel_187141/3055239567.py:7: FutureWarning: suggest_loguniform has been deprecated in v3.0.0. This feature will be removed in v6.0.0. See https://github.com/optuna/optuna/releases/tag/v3.0.0. Use suggest_float(..., log=True) instead.\n",
      "  learning_rate = trial.suggest_loguniform('learning_rate', 1e-4, 1e-2)  # 範囲を狭める\n",
      "/home/gonken/anaconda3/envs/torch/lib/python3.12/site-packages/torch/nn/modules/transformer.py:379: UserWarning: enable_nested_tensor is True, but self.use_nested_tensor is False because encoder_layer.self_attn.batch_first was not True(use batch_first for better inference performance)\n",
      "  warnings.warn(\n",
      "[I 2024-11-29 18:22:00,686] Trial 67 finished with value: 0.0 and parameters: {'num_heads': 2, 'num_layers': 5, 'd_model': 32, 'dropout': 0.4, 'learning_rate': 0.0026877238472183132}. Best is trial 3 with value: 0.3710693622969014.\n"
     ]
    },
    {
     "name": "stdout",
     "output_type": "stream",
     "text": [
      "Early stopping at epoch 23\n",
      "Final MCC: 0.0000\n"
     ]
    },
    {
     "name": "stderr",
     "output_type": "stream",
     "text": [
      "/tmp/ipykernel_187141/3055239567.py:7: FutureWarning: suggest_loguniform has been deprecated in v3.0.0. This feature will be removed in v6.0.0. See https://github.com/optuna/optuna/releases/tag/v3.0.0. Use suggest_float(..., log=True) instead.\n",
      "  learning_rate = trial.suggest_loguniform('learning_rate', 1e-4, 1e-2)  # 範囲を狭める\n",
      "/home/gonken/anaconda3/envs/torch/lib/python3.12/site-packages/torch/nn/modules/transformer.py:379: UserWarning: enable_nested_tensor is True, but self.use_nested_tensor is False because encoder_layer.self_attn.batch_first was not True(use batch_first for better inference performance)\n",
      "  warnings.warn(\n",
      "[I 2024-11-29 18:22:01,870] Trial 68 pruned. \n",
      "[I 2024-11-29 18:22:02,738] Trial 69 pruned. \n",
      "[I 2024-11-29 18:22:04,049] Trial 70 pruned. \n",
      "[I 2024-11-29 18:22:05,689] Trial 71 pruned. \n",
      "[I 2024-11-29 18:22:34,992] Trial 72 finished with value: 0.0 and parameters: {'num_heads': 8, 'num_layers': 4, 'd_model': 32, 'dropout': 0.2, 'learning_rate': 0.004855170640207065}. Best is trial 3 with value: 0.3710693622969014.\n"
     ]
    },
    {
     "name": "stdout",
     "output_type": "stream",
     "text": [
      "Early stopping at epoch 20\n",
      "Final MCC: 0.0000\n"
     ]
    },
    {
     "name": "stderr",
     "output_type": "stream",
     "text": [
      "/tmp/ipykernel_187141/3055239567.py:7: FutureWarning: suggest_loguniform has been deprecated in v3.0.0. This feature will be removed in v6.0.0. See https://github.com/optuna/optuna/releases/tag/v3.0.0. Use suggest_float(..., log=True) instead.\n",
      "  learning_rate = trial.suggest_loguniform('learning_rate', 1e-4, 1e-2)  # 範囲を狭める\n",
      "/home/gonken/anaconda3/envs/torch/lib/python3.12/site-packages/torch/nn/modules/transformer.py:379: UserWarning: enable_nested_tensor is True, but self.use_nested_tensor is False because encoder_layer.self_attn.batch_first was not True(use batch_first for better inference performance)\n",
      "  warnings.warn(\n",
      "[I 2024-11-29 18:22:36,621] Trial 73 pruned. \n",
      "[I 2024-11-29 18:22:37,739] Trial 74 pruned. \n",
      "[I 2024-11-29 18:22:58,126] Trial 75 finished with value: 0.0 and parameters: {'num_heads': 4, 'num_layers': 4, 'd_model': 32, 'dropout': 0.15000000000000002, 'learning_rate': 0.003107989997724954}. Best is trial 3 with value: 0.3710693622969014.\n"
     ]
    },
    {
     "name": "stdout",
     "output_type": "stream",
     "text": [
      "Early stopping at epoch 14\n",
      "Final MCC: 0.0000\n"
     ]
    },
    {
     "name": "stderr",
     "output_type": "stream",
     "text": [
      "/tmp/ipykernel_187141/3055239567.py:7: FutureWarning: suggest_loguniform has been deprecated in v3.0.0. This feature will be removed in v6.0.0. See https://github.com/optuna/optuna/releases/tag/v3.0.0. Use suggest_float(..., log=True) instead.\n",
      "  learning_rate = trial.suggest_loguniform('learning_rate', 1e-4, 1e-2)  # 範囲を狭める\n",
      "/home/gonken/anaconda3/envs/torch/lib/python3.12/site-packages/torch/nn/modules/transformer.py:379: UserWarning: enable_nested_tensor is True, but self.use_nested_tensor is False because encoder_layer.self_attn.batch_first was not True(use batch_first for better inference performance)\n",
      "  warnings.warn(\n",
      "[I 2024-11-29 18:22:58,888] Trial 76 pruned. \n",
      "[I 2024-11-29 18:22:59,357] Trial 77 pruned. \n",
      "[I 2024-11-29 18:23:00,952] Trial 78 pruned. \n",
      "[I 2024-11-29 18:23:02,010] Trial 79 pruned. \n",
      "[I 2024-11-29 18:23:03,607] Trial 80 pruned. \n",
      "[I 2024-11-29 18:23:04,865] Trial 81 pruned. \n",
      "[I 2024-11-29 18:23:36,440] Trial 82 finished with value: 0.0 and parameters: {'num_heads': 4, 'num_layers': 3, 'd_model': 128, 'dropout': 0.1, 'learning_rate': 0.009831484553990787}. Best is trial 3 with value: 0.3710693622969014.\n"
     ]
    },
    {
     "name": "stdout",
     "output_type": "stream",
     "text": [
      "Early stopping at epoch 27\n",
      "Final MCC: 0.0000\n"
     ]
    },
    {
     "name": "stderr",
     "output_type": "stream",
     "text": [
      "/tmp/ipykernel_187141/3055239567.py:7: FutureWarning: suggest_loguniform has been deprecated in v3.0.0. This feature will be removed in v6.0.0. See https://github.com/optuna/optuna/releases/tag/v3.0.0. Use suggest_float(..., log=True) instead.\n",
      "  learning_rate = trial.suggest_loguniform('learning_rate', 1e-4, 1e-2)  # 範囲を狭める\n",
      "/home/gonken/anaconda3/envs/torch/lib/python3.12/site-packages/torch/nn/modules/transformer.py:379: UserWarning: enable_nested_tensor is True, but self.use_nested_tensor is False because encoder_layer.self_attn.batch_first was not True(use batch_first for better inference performance)\n",
      "  warnings.warn(\n",
      "[I 2024-11-29 18:23:37,515] Trial 83 pruned. \n",
      "[I 2024-11-29 18:23:47,650] Trial 84 finished with value: 0.0 and parameters: {'num_heads': 4, 'num_layers': 2, 'd_model': 128, 'dropout': 0.4, 'learning_rate': 0.007058484833336115}. Best is trial 3 with value: 0.3710693622969014.\n"
     ]
    },
    {
     "name": "stdout",
     "output_type": "stream",
     "text": [
      "Early stopping at epoch 11\n",
      "Final MCC: 0.0000\n"
     ]
    },
    {
     "name": "stderr",
     "output_type": "stream",
     "text": [
      "/tmp/ipykernel_187141/3055239567.py:7: FutureWarning: suggest_loguniform has been deprecated in v3.0.0. This feature will be removed in v6.0.0. See https://github.com/optuna/optuna/releases/tag/v3.0.0. Use suggest_float(..., log=True) instead.\n",
      "  learning_rate = trial.suggest_loguniform('learning_rate', 1e-4, 1e-2)  # 範囲を狭める\n",
      "/home/gonken/anaconda3/envs/torch/lib/python3.12/site-packages/torch/nn/modules/transformer.py:379: UserWarning: enable_nested_tensor is True, but self.use_nested_tensor is False because encoder_layer.self_attn.batch_first was not True(use batch_first for better inference performance)\n",
      "  warnings.warn(\n",
      "[I 2024-11-29 18:24:04,520] Trial 85 finished with value: 0.0 and parameters: {'num_heads': 4, 'num_layers': 3, 'd_model': 32, 'dropout': 0.2, 'learning_rate': 0.009099032495457394}. Best is trial 3 with value: 0.3710693622969014.\n"
     ]
    },
    {
     "name": "stdout",
     "output_type": "stream",
     "text": [
      "Early stopping at epoch 14\n",
      "Final MCC: 0.0000\n"
     ]
    },
    {
     "name": "stderr",
     "output_type": "stream",
     "text": [
      "/tmp/ipykernel_187141/3055239567.py:7: FutureWarning: suggest_loguniform has been deprecated in v3.0.0. This feature will be removed in v6.0.0. See https://github.com/optuna/optuna/releases/tag/v3.0.0. Use suggest_float(..., log=True) instead.\n",
      "  learning_rate = trial.suggest_loguniform('learning_rate', 1e-4, 1e-2)  # 範囲を狭める\n",
      "/home/gonken/anaconda3/envs/torch/lib/python3.12/site-packages/torch/nn/modules/transformer.py:379: UserWarning: enable_nested_tensor is True, but self.use_nested_tensor is False because encoder_layer.self_attn.batch_first was not True(use batch_first for better inference performance)\n",
      "  warnings.warn(\n",
      "[I 2024-11-29 18:24:51,033] Trial 86 finished with value: 0.0 and parameters: {'num_heads': 8, 'num_layers': 4, 'd_model': 128, 'dropout': 0.05, 'learning_rate': 0.005777034133764094}. Best is trial 3 with value: 0.3710693622969014.\n"
     ]
    },
    {
     "name": "stdout",
     "output_type": "stream",
     "text": [
      "Early stopping at epoch 32\n",
      "Final MCC: 0.0000\n"
     ]
    },
    {
     "name": "stderr",
     "output_type": "stream",
     "text": [
      "/tmp/ipykernel_187141/3055239567.py:7: FutureWarning: suggest_loguniform has been deprecated in v3.0.0. This feature will be removed in v6.0.0. See https://github.com/optuna/optuna/releases/tag/v3.0.0. Use suggest_float(..., log=True) instead.\n",
      "  learning_rate = trial.suggest_loguniform('learning_rate', 1e-4, 1e-2)  # 範囲を狭める\n",
      "/home/gonken/anaconda3/envs/torch/lib/python3.12/site-packages/torch/nn/modules/transformer.py:379: UserWarning: enable_nested_tensor is True, but self.use_nested_tensor is False because encoder_layer.self_attn.batch_first was not True(use batch_first for better inference performance)\n",
      "  warnings.warn(\n",
      "[I 2024-11-29 18:24:52,130] Trial 87 pruned. \n",
      "[I 2024-11-29 18:24:52,874] Trial 88 pruned. \n",
      "[I 2024-11-29 18:24:53,380] Trial 89 pruned. \n",
      "[I 2024-11-29 18:24:54,897] Trial 90 pruned. \n",
      "[I 2024-11-29 18:24:56,472] Trial 91 pruned. \n",
      "[I 2024-11-29 18:24:58,113] Trial 92 pruned. \n",
      "[I 2024-11-29 18:24:59,664] Trial 93 pruned. \n",
      "[I 2024-11-29 18:25:38,630] Trial 94 finished with value: 0.0 and parameters: {'num_heads': 4, 'num_layers': 5, 'd_model': 32, 'dropout': 0.5, 'learning_rate': 0.008356998145877478}. Best is trial 3 with value: 0.3710693622969014.\n"
     ]
    },
    {
     "name": "stdout",
     "output_type": "stream",
     "text": [
      "Early stopping at epoch 23\n",
      "Final MCC: 0.0000\n"
     ]
    },
    {
     "name": "stderr",
     "output_type": "stream",
     "text": [
      "/tmp/ipykernel_187141/3055239567.py:7: FutureWarning: suggest_loguniform has been deprecated in v3.0.0. This feature will be removed in v6.0.0. See https://github.com/optuna/optuna/releases/tag/v3.0.0. Use suggest_float(..., log=True) instead.\n",
      "  learning_rate = trial.suggest_loguniform('learning_rate', 1e-4, 1e-2)  # 範囲を狭める\n",
      "/home/gonken/anaconda3/envs/torch/lib/python3.12/site-packages/torch/nn/modules/transformer.py:379: UserWarning: enable_nested_tensor is True, but self.use_nested_tensor is False because encoder_layer.self_attn.batch_first was not True(use batch_first for better inference performance)\n",
      "  warnings.warn(\n",
      "[I 2024-11-29 18:25:40,359] Trial 95 pruned. \n",
      "[I 2024-11-29 18:25:41,857] Trial 96 pruned. \n",
      "[I 2024-11-29 18:25:43,222] Trial 97 pruned. \n",
      "[I 2024-11-29 18:25:44,925] Trial 98 pruned. \n",
      "[I 2024-11-29 18:25:46,034] Trial 99 pruned. \n"
     ]
    },
    {
     "name": "stdout",
     "output_type": "stream",
     "text": [
      "Best Parameters:  {'num_heads': 4, 'num_layers': 5, 'd_model': 64, 'dropout': 0.0, 'learning_rate': 0.0004899002858129665}\n",
      "Best Validation F1:  0.3710693622969014\n"
     ]
    }
   ],
   "source": [
    "device_id =  1  # 使用するGPUのID（0または1）\n",
    "torch.cuda.se_device(device_id)\n",
    "device = torch.device(f\"cuda:{device_id}\" if torch.cuda.is_available() else \"cpu\")\n",
    "\n",
    "# Optunaの設定\n",
    "study = optuna.create_study(direction=\"maximize\")  \n",
    "study.optimize(objective, n_trials=100)\n",
    "\n",
    "# 結果表示\n",
    "print(\"Best Parameters: \", study.best_params)\n",
    "print(\"Best Validation F1: \", study.best_value)"
   ]
  },
  {
   "cell_type": "code",
   "execution_count": 27,
   "metadata": {},
   "outputs": [
    {
     "name": "stdout",
     "output_type": "stream",
     "text": [
      "Epoch [1/200], Loss: 0.6147\n",
      "Epoch [1/200], Train Loss: 0.6147, Val Loss: 0.5775\n",
      "Epoch [2/200], Loss: 0.5755\n",
      "Epoch [2/200], Train Loss: 0.5755, Val Loss: 0.6005\n",
      "Epoch [3/200], Loss: 0.5956\n",
      "Epoch [3/200], Train Loss: 0.5956, Val Loss: 0.5785\n",
      "Epoch [4/200], Loss: 0.5910\n",
      "Epoch [4/200], Train Loss: 0.5910, Val Loss: 0.5711\n",
      "Epoch [5/200], Loss: 0.5821\n",
      "Epoch [5/200], Train Loss: 0.5821, Val Loss: 0.5652\n",
      "Epoch [6/200], Loss: 0.5627\n",
      "Epoch [6/200], Train Loss: 0.5627, Val Loss: 0.5678\n",
      "Epoch [7/200], Loss: 0.5667\n",
      "Epoch [7/200], Train Loss: 0.5667, Val Loss: 0.5686\n",
      "Epoch [8/200], Loss: 0.5640\n",
      "Epoch [8/200], Train Loss: 0.5640, Val Loss: 0.5696\n",
      "Epoch [9/200], Loss: 0.5612\n",
      "Epoch [9/200], Train Loss: 0.5612, Val Loss: 0.5568\n",
      "Epoch [10/200], Loss: 0.5603\n",
      "Epoch [10/200], Train Loss: 0.5603, Val Loss: 0.5809\n",
      "Epoch [11/200], Loss: 0.5643\n",
      "Epoch [11/200], Train Loss: 0.5643, Val Loss: 0.5609\n",
      "Epoch [12/200], Loss: 0.5664\n",
      "Epoch [12/200], Train Loss: 0.5664, Val Loss: 0.5662\n",
      "Epoch [13/200], Loss: 0.5643\n",
      "Epoch [13/200], Train Loss: 0.5643, Val Loss: 0.5709\n",
      "Epoch [14/200], Loss: 0.5569\n",
      "Epoch [14/200], Train Loss: 0.5569, Val Loss: 0.5617\n",
      "Epoch [15/200], Loss: 0.5688\n",
      "Epoch [15/200], Train Loss: 0.5688, Val Loss: 0.5594\n",
      "Epoch [16/200], Loss: 0.5583\n",
      "Epoch [16/200], Train Loss: 0.5583, Val Loss: 0.5705\n",
      "Epoch [17/200], Loss: 0.5685\n",
      "Epoch [17/200], Train Loss: 0.5685, Val Loss: 0.5792\n",
      "Epoch [18/200], Loss: 0.5814\n",
      "Epoch [18/200], Train Loss: 0.5814, Val Loss: 0.5716\n",
      "Epoch [19/200], Loss: 0.5827\n",
      "Epoch [19/200], Train Loss: 0.5827, Val Loss: 0.5789\n",
      "Epoch [20/200], Loss: 0.6097\n",
      "Epoch [20/200], Train Loss: 0.6097, Val Loss: 0.5958\n",
      "Epoch [21/200], Loss: 0.6112\n",
      "Epoch [21/200], Train Loss: 0.6112, Val Loss: 0.6137\n",
      "Epoch [22/200], Loss: 0.6166\n",
      "Epoch [22/200], Train Loss: 0.6166, Val Loss: 0.6132\n",
      "Epoch [23/200], Loss: 0.6160\n",
      "Epoch [23/200], Train Loss: 0.6160, Val Loss: 0.6157\n",
      "Epoch [24/200], Loss: 0.6175\n",
      "Epoch [24/200], Train Loss: 0.6175, Val Loss: 0.6057\n",
      "Epoch [25/200], Loss: 0.6058\n",
      "Epoch [25/200], Train Loss: 0.6058, Val Loss: 0.6034\n",
      "Epoch [26/200], Loss: 0.6033\n",
      "Epoch [26/200], Train Loss: 0.6033, Val Loss: 0.5924\n",
      "Epoch [27/200], Loss: 0.6664\n",
      "Epoch [27/200], Train Loss: 0.6664, Val Loss: 0.6529\n",
      "Epoch [28/200], Loss: 0.6685\n",
      "Epoch [28/200], Train Loss: 0.6685, Val Loss: 0.6630\n",
      "Epoch [29/200], Loss: 0.6684\n",
      "Epoch [29/200], Train Loss: 0.6684, Val Loss: 0.6586\n",
      "Epoch [30/200], Loss: 0.6696\n",
      "Epoch [30/200], Train Loss: 0.6696, Val Loss: 0.6537\n",
      "Epoch [31/200], Loss: 0.6695\n",
      "Epoch [31/200], Train Loss: 0.6695, Val Loss: 0.6600\n",
      "Epoch [32/200], Loss: 0.6687\n",
      "Epoch [32/200], Train Loss: 0.6687, Val Loss: 0.6540\n",
      "Epoch [33/200], Loss: 0.6679\n",
      "Epoch [33/200], Train Loss: 0.6679, Val Loss: 0.6548\n",
      "Epoch [34/200], Loss: 0.6685\n",
      "Epoch [34/200], Train Loss: 0.6685, Val Loss: 0.6545\n",
      "Epoch [35/200], Loss: 0.6676\n",
      "Epoch [35/200], Train Loss: 0.6676, Val Loss: 0.6556\n",
      "Epoch [36/200], Loss: 0.6677\n",
      "Epoch [36/200], Train Loss: 0.6677, Val Loss: 0.6551\n",
      "Epoch [37/200], Loss: 0.6686\n",
      "Epoch [37/200], Train Loss: 0.6686, Val Loss: 0.6539\n",
      "Epoch [38/200], Loss: 0.6683\n",
      "Epoch [38/200], Train Loss: 0.6683, Val Loss: 0.6540\n",
      "Epoch [39/200], Loss: 0.6682\n",
      "Epoch [39/200], Train Loss: 0.6682, Val Loss: 0.6549\n",
      "Epoch [40/200], Loss: 0.6680\n",
      "Epoch [40/200], Train Loss: 0.6680, Val Loss: 0.6528\n",
      "Epoch [41/200], Loss: 0.6678\n",
      "Epoch [41/200], Train Loss: 0.6678, Val Loss: 0.6555\n",
      "Epoch [42/200], Loss: 0.6683\n",
      "Epoch [42/200], Train Loss: 0.6683, Val Loss: 0.6537\n",
      "Epoch [43/200], Loss: 0.6682\n",
      "Epoch [43/200], Train Loss: 0.6682, Val Loss: 0.6541\n",
      "Epoch [44/200], Loss: 0.6685\n",
      "Epoch [44/200], Train Loss: 0.6685, Val Loss: 0.6528\n",
      "Epoch [45/200], Loss: 0.6678\n",
      "Epoch [45/200], Train Loss: 0.6678, Val Loss: 0.6544\n",
      "Epoch [46/200], Loss: 0.6679\n",
      "Epoch [46/200], Train Loss: 0.6679, Val Loss: 0.6570\n",
      "Epoch [47/200], Loss: 0.6682\n",
      "Epoch [47/200], Train Loss: 0.6682, Val Loss: 0.6536\n",
      "Epoch [48/200], Loss: 0.6681\n",
      "Epoch [48/200], Train Loss: 0.6681, Val Loss: 0.6540\n",
      "Epoch [49/200], Loss: 0.6681\n",
      "Epoch [49/200], Train Loss: 0.6681, Val Loss: 0.6530\n",
      "Epoch [50/200], Loss: 0.6685\n",
      "Epoch [50/200], Train Loss: 0.6685, Val Loss: 0.6551\n",
      "Epoch [51/200], Loss: 0.6682\n",
      "Epoch [51/200], Train Loss: 0.6682, Val Loss: 0.6528\n",
      "Epoch [52/200], Loss: 0.6684\n",
      "Epoch [52/200], Train Loss: 0.6684, Val Loss: 0.6534\n",
      "Epoch [53/200], Loss: 0.6682\n",
      "Epoch [53/200], Train Loss: 0.6682, Val Loss: 0.6532\n",
      "Epoch [54/200], Loss: 0.6680\n",
      "Epoch [54/200], Train Loss: 0.6680, Val Loss: 0.6560\n",
      "Epoch [55/200], Loss: 0.6678\n",
      "Epoch [55/200], Train Loss: 0.6678, Val Loss: 0.6534\n",
      "Epoch [56/200], Loss: 0.6677\n",
      "Epoch [56/200], Train Loss: 0.6677, Val Loss: 0.6548\n",
      "Epoch [57/200], Loss: 0.6682\n",
      "Epoch [57/200], Train Loss: 0.6682, Val Loss: 0.6537\n",
      "Epoch [58/200], Loss: 0.6685\n",
      "Epoch [58/200], Train Loss: 0.6685, Val Loss: 0.6549\n",
      "Epoch [59/200], Loss: 0.6675\n",
      "Epoch [59/200], Train Loss: 0.6675, Val Loss: 0.6596\n",
      "Epoch [60/200], Loss: 0.6686\n",
      "Epoch [60/200], Train Loss: 0.6686, Val Loss: 0.6558\n",
      "Epoch [61/200], Loss: 0.6679\n",
      "Epoch [61/200], Train Loss: 0.6679, Val Loss: 0.6529\n",
      "Epoch [62/200], Loss: 0.6682\n",
      "Epoch [62/200], Train Loss: 0.6682, Val Loss: 0.6579\n",
      "Epoch [63/200], Loss: 0.6679\n",
      "Epoch [63/200], Train Loss: 0.6679, Val Loss: 0.6553\n",
      "Epoch [64/200], Loss: 0.6683\n",
      "Epoch [64/200], Train Loss: 0.6683, Val Loss: 0.6540\n",
      "Epoch [65/200], Loss: 0.6676\n",
      "Epoch [65/200], Train Loss: 0.6676, Val Loss: 0.6530\n",
      "Epoch [66/200], Loss: 0.6681\n",
      "Epoch [66/200], Train Loss: 0.6681, Val Loss: 0.6544\n",
      "Epoch [67/200], Loss: 0.6674\n",
      "Epoch [67/200], Train Loss: 0.6674, Val Loss: 0.6533\n",
      "Epoch [68/200], Loss: 0.6682\n",
      "Epoch [68/200], Train Loss: 0.6682, Val Loss: 0.6554\n",
      "Epoch [69/200], Loss: 0.6680\n",
      "Epoch [69/200], Train Loss: 0.6680, Val Loss: 0.6548\n",
      "Epoch [70/200], Loss: 0.6681\n",
      "Epoch [70/200], Train Loss: 0.6681, Val Loss: 0.6530\n",
      "Epoch [71/200], Loss: 0.6682\n",
      "Epoch [71/200], Train Loss: 0.6682, Val Loss: 0.6538\n",
      "Epoch [72/200], Loss: 0.6680\n",
      "Epoch [72/200], Train Loss: 0.6680, Val Loss: 0.6544\n",
      "Epoch [73/200], Loss: 0.6677\n",
      "Epoch [73/200], Train Loss: 0.6677, Val Loss: 0.6551\n",
      "Epoch [74/200], Loss: 0.6678\n",
      "Epoch [74/200], Train Loss: 0.6678, Val Loss: 0.6562\n",
      "Epoch [75/200], Loss: 0.6678\n",
      "Epoch [75/200], Train Loss: 0.6678, Val Loss: 0.6580\n",
      "Epoch [76/200], Loss: 0.6682\n",
      "Epoch [76/200], Train Loss: 0.6682, Val Loss: 0.6555\n",
      "Epoch [77/200], Loss: 0.6676\n",
      "Epoch [77/200], Train Loss: 0.6676, Val Loss: 0.6547\n",
      "Epoch [78/200], Loss: 0.6678\n",
      "Epoch [78/200], Train Loss: 0.6678, Val Loss: 0.6546\n",
      "Epoch [79/200], Loss: 0.6676\n",
      "Epoch [79/200], Train Loss: 0.6676, Val Loss: 0.6566\n",
      "Epoch [80/200], Loss: 0.6681\n",
      "Epoch [80/200], Train Loss: 0.6681, Val Loss: 0.6544\n",
      "Epoch [81/200], Loss: 0.6681\n",
      "Epoch [81/200], Train Loss: 0.6681, Val Loss: 0.6540\n",
      "Epoch [82/200], Loss: 0.6682\n",
      "Epoch [82/200], Train Loss: 0.6682, Val Loss: 0.6551\n",
      "Epoch [83/200], Loss: 0.6680\n",
      "Epoch [83/200], Train Loss: 0.6680, Val Loss: 0.6569\n",
      "Epoch [84/200], Loss: 0.6681\n",
      "Epoch [84/200], Train Loss: 0.6681, Val Loss: 0.6533\n",
      "Epoch [85/200], Loss: 0.6674\n",
      "Epoch [85/200], Train Loss: 0.6674, Val Loss: 0.6588\n",
      "Epoch [86/200], Loss: 0.6680\n",
      "Epoch [86/200], Train Loss: 0.6680, Val Loss: 0.6534\n",
      "Epoch [87/200], Loss: 0.6677\n",
      "Epoch [87/200], Train Loss: 0.6677, Val Loss: 0.6547\n",
      "Epoch [88/200], Loss: 0.6682\n",
      "Epoch [88/200], Train Loss: 0.6682, Val Loss: 0.6536\n",
      "Epoch [89/200], Loss: 0.6680\n",
      "Epoch [89/200], Train Loss: 0.6680, Val Loss: 0.6551\n",
      "Epoch [90/200], Loss: 0.6676\n",
      "Epoch [90/200], Train Loss: 0.6676, Val Loss: 0.6535\n",
      "Epoch [91/200], Loss: 0.6684\n",
      "Epoch [91/200], Train Loss: 0.6684, Val Loss: 0.6536\n",
      "Epoch [92/200], Loss: 0.6678\n",
      "Epoch [92/200], Train Loss: 0.6678, Val Loss: 0.6538\n",
      "Epoch [93/200], Loss: 0.6681\n",
      "Epoch [93/200], Train Loss: 0.6681, Val Loss: 0.6538\n",
      "Epoch [94/200], Loss: 0.6675\n",
      "Epoch [94/200], Train Loss: 0.6675, Val Loss: 0.6544\n",
      "Epoch [95/200], Loss: 0.6678\n",
      "Epoch [95/200], Train Loss: 0.6678, Val Loss: 0.6543\n",
      "Epoch [96/200], Loss: 0.6678\n",
      "Epoch [96/200], Train Loss: 0.6678, Val Loss: 0.6542\n",
      "Epoch [97/200], Loss: 0.6680\n",
      "Epoch [97/200], Train Loss: 0.6680, Val Loss: 0.6542\n",
      "Epoch [98/200], Loss: 0.6677\n",
      "Epoch [98/200], Train Loss: 0.6677, Val Loss: 0.6550\n",
      "Epoch [99/200], Loss: 0.6675\n",
      "Epoch [99/200], Train Loss: 0.6675, Val Loss: 0.6542\n",
      "Epoch [100/200], Loss: 0.6678\n",
      "Epoch [100/200], Train Loss: 0.6678, Val Loss: 0.6556\n",
      "Epoch [101/200], Loss: 0.6679\n",
      "Epoch [101/200], Train Loss: 0.6679, Val Loss: 0.6543\n",
      "Epoch [102/200], Loss: 0.6683\n",
      "Epoch [102/200], Train Loss: 0.6683, Val Loss: 0.6540\n",
      "Epoch [103/200], Loss: 0.6681\n",
      "Epoch [103/200], Train Loss: 0.6681, Val Loss: 0.6535\n",
      "Epoch [104/200], Loss: 0.6679\n",
      "Epoch [104/200], Train Loss: 0.6679, Val Loss: 0.6544\n",
      "Epoch [105/200], Loss: 0.6678\n",
      "Epoch [105/200], Train Loss: 0.6678, Val Loss: 0.6550\n",
      "Epoch [106/200], Loss: 0.6675\n",
      "Epoch [106/200], Train Loss: 0.6675, Val Loss: 0.6540\n",
      "Epoch [107/200], Loss: 0.6676\n",
      "Epoch [107/200], Train Loss: 0.6676, Val Loss: 0.6558\n",
      "Epoch [108/200], Loss: 0.6681\n",
      "Epoch [108/200], Train Loss: 0.6681, Val Loss: 0.6539\n",
      "Epoch [109/200], Loss: 0.6676\n",
      "Epoch [109/200], Train Loss: 0.6676, Val Loss: 0.6541\n",
      "Epoch [110/200], Loss: 0.6674\n",
      "Epoch [110/200], Train Loss: 0.6674, Val Loss: 0.6556\n",
      "Epoch [111/200], Loss: 0.6675\n",
      "Epoch [111/200], Train Loss: 0.6675, Val Loss: 0.6538\n",
      "Epoch [112/200], Loss: 0.6681\n",
      "Epoch [112/200], Train Loss: 0.6681, Val Loss: 0.6555\n",
      "Epoch [113/200], Loss: 0.6679\n",
      "Epoch [113/200], Train Loss: 0.6679, Val Loss: 0.6538\n",
      "Epoch [114/200], Loss: 0.6677\n",
      "Epoch [114/200], Train Loss: 0.6677, Val Loss: 0.6546\n",
      "Epoch [115/200], Loss: 0.6677\n",
      "Epoch [115/200], Train Loss: 0.6677, Val Loss: 0.6548\n",
      "Epoch [116/200], Loss: 0.6679\n",
      "Epoch [116/200], Train Loss: 0.6679, Val Loss: 0.6534\n",
      "Epoch [117/200], Loss: 0.6677\n",
      "Epoch [117/200], Train Loss: 0.6677, Val Loss: 0.6553\n",
      "Epoch [118/200], Loss: 0.6677\n",
      "Epoch [118/200], Train Loss: 0.6677, Val Loss: 0.6539\n",
      "Epoch [119/200], Loss: 0.6676\n",
      "Epoch [119/200], Train Loss: 0.6676, Val Loss: 0.6545\n",
      "Epoch [120/200], Loss: 0.6675\n",
      "Epoch [120/200], Train Loss: 0.6675, Val Loss: 0.6552\n",
      "Epoch [121/200], Loss: 0.6675\n",
      "Epoch [121/200], Train Loss: 0.6675, Val Loss: 0.6538\n",
      "Epoch [122/200], Loss: 0.6680\n",
      "Epoch [122/200], Train Loss: 0.6680, Val Loss: 0.6537\n",
      "Epoch [123/200], Loss: 0.6676\n",
      "Epoch [123/200], Train Loss: 0.6676, Val Loss: 0.6544\n",
      "Epoch [124/200], Loss: 0.6678\n",
      "Epoch [124/200], Train Loss: 0.6678, Val Loss: 0.6553\n",
      "Epoch [125/200], Loss: 0.6675\n",
      "Epoch [125/200], Train Loss: 0.6675, Val Loss: 0.6556\n",
      "Epoch [126/200], Loss: 0.6678\n",
      "Epoch [126/200], Train Loss: 0.6678, Val Loss: 0.6535\n",
      "Epoch [127/200], Loss: 0.6677\n",
      "Epoch [127/200], Train Loss: 0.6677, Val Loss: 0.6541\n",
      "Epoch [128/200], Loss: 0.6678\n",
      "Epoch [128/200], Train Loss: 0.6678, Val Loss: 0.6537\n",
      "Epoch [129/200], Loss: 0.6678\n",
      "Epoch [129/200], Train Loss: 0.6678, Val Loss: 0.6541\n",
      "Epoch [130/200], Loss: 0.6675\n",
      "Epoch [130/200], Train Loss: 0.6675, Val Loss: 0.6548\n",
      "Epoch [131/200], Loss: 0.6679\n",
      "Epoch [131/200], Train Loss: 0.6679, Val Loss: 0.6546\n",
      "Epoch [132/200], Loss: 0.6678\n",
      "Epoch [132/200], Train Loss: 0.6678, Val Loss: 0.6548\n",
      "Epoch [133/200], Loss: 0.6676\n",
      "Epoch [133/200], Train Loss: 0.6676, Val Loss: 0.6554\n",
      "Epoch [134/200], Loss: 0.6677\n",
      "Epoch [134/200], Train Loss: 0.6677, Val Loss: 0.6547\n",
      "Epoch [135/200], Loss: 0.6679\n",
      "Epoch [135/200], Train Loss: 0.6679, Val Loss: 0.6539\n",
      "Epoch [136/200], Loss: 0.6677\n",
      "Epoch [136/200], Train Loss: 0.6677, Val Loss: 0.6550\n",
      "Epoch [137/200], Loss: 0.6675\n",
      "Epoch [137/200], Train Loss: 0.6675, Val Loss: 0.6542\n",
      "Epoch [138/200], Loss: 0.6679\n",
      "Epoch [138/200], Train Loss: 0.6679, Val Loss: 0.6542\n",
      "Epoch [139/200], Loss: 0.6676\n",
      "Epoch [139/200], Train Loss: 0.6676, Val Loss: 0.6548\n",
      "Epoch [140/200], Loss: 0.6677\n",
      "Epoch [140/200], Train Loss: 0.6677, Val Loss: 0.6539\n",
      "Epoch [141/200], Loss: 0.6674\n",
      "Epoch [141/200], Train Loss: 0.6674, Val Loss: 0.6547\n",
      "Epoch [142/200], Loss: 0.6676\n",
      "Epoch [142/200], Train Loss: 0.6676, Val Loss: 0.6537\n",
      "Epoch [143/200], Loss: 0.6678\n",
      "Epoch [143/200], Train Loss: 0.6678, Val Loss: 0.6532\n",
      "Epoch [144/200], Loss: 0.6678\n",
      "Epoch [144/200], Train Loss: 0.6678, Val Loss: 0.6553\n",
      "Epoch [145/200], Loss: 0.6676\n",
      "Epoch [145/200], Train Loss: 0.6676, Val Loss: 0.6549\n",
      "Epoch [146/200], Loss: 0.6676\n",
      "Epoch [146/200], Train Loss: 0.6676, Val Loss: 0.6549\n",
      "Epoch [147/200], Loss: 0.6678\n",
      "Epoch [147/200], Train Loss: 0.6678, Val Loss: 0.6538\n",
      "Epoch [148/200], Loss: 0.6680\n",
      "Epoch [148/200], Train Loss: 0.6680, Val Loss: 0.6542\n",
      "Epoch [149/200], Loss: 0.6679\n",
      "Epoch [149/200], Train Loss: 0.6679, Val Loss: 0.6552\n",
      "Epoch [150/200], Loss: 0.6678\n",
      "Epoch [150/200], Train Loss: 0.6678, Val Loss: 0.6553\n",
      "Epoch [151/200], Loss: 0.6680\n",
      "Epoch [151/200], Train Loss: 0.6680, Val Loss: 0.6550\n",
      "Epoch [152/200], Loss: 0.6679\n",
      "Epoch [152/200], Train Loss: 0.6679, Val Loss: 0.6546\n",
      "Epoch [153/200], Loss: 0.6678\n",
      "Epoch [153/200], Train Loss: 0.6678, Val Loss: 0.6541\n",
      "Epoch [154/200], Loss: 0.6682\n",
      "Epoch [154/200], Train Loss: 0.6682, Val Loss: 0.6536\n",
      "Epoch [155/200], Loss: 0.6675\n",
      "Epoch [155/200], Train Loss: 0.6675, Val Loss: 0.6538\n",
      "Epoch [156/200], Loss: 0.6678\n",
      "Epoch [156/200], Train Loss: 0.6678, Val Loss: 0.6552\n",
      "Epoch [157/200], Loss: 0.6681\n",
      "Epoch [157/200], Train Loss: 0.6681, Val Loss: 0.6549\n",
      "Epoch [158/200], Loss: 0.6675\n",
      "Epoch [158/200], Train Loss: 0.6675, Val Loss: 0.6548\n",
      "Epoch [159/200], Loss: 0.6678\n",
      "Epoch [159/200], Train Loss: 0.6678, Val Loss: 0.6542\n",
      "Epoch [160/200], Loss: 0.6679\n",
      "Epoch [160/200], Train Loss: 0.6679, Val Loss: 0.6551\n",
      "Epoch [161/200], Loss: 0.6678\n",
      "Epoch [161/200], Train Loss: 0.6678, Val Loss: 0.6548\n",
      "Epoch [162/200], Loss: 0.6674\n",
      "Epoch [162/200], Train Loss: 0.6674, Val Loss: 0.6546\n",
      "Epoch [163/200], Loss: 0.6676\n",
      "Epoch [163/200], Train Loss: 0.6676, Val Loss: 0.6549\n",
      "Epoch [164/200], Loss: 0.6675\n",
      "Epoch [164/200], Train Loss: 0.6675, Val Loss: 0.6539\n",
      "Epoch [165/200], Loss: 0.6675\n",
      "Epoch [165/200], Train Loss: 0.6675, Val Loss: 0.6542\n",
      "Epoch [166/200], Loss: 0.6675\n",
      "Epoch [166/200], Train Loss: 0.6675, Val Loss: 0.6559\n",
      "Epoch [167/200], Loss: 0.6674\n",
      "Epoch [167/200], Train Loss: 0.6674, Val Loss: 0.6551\n",
      "Epoch [168/200], Loss: 0.6685\n",
      "Epoch [168/200], Train Loss: 0.6685, Val Loss: 0.6551\n",
      "Epoch [169/200], Loss: 0.6679\n",
      "Epoch [169/200], Train Loss: 0.6679, Val Loss: 0.6552\n",
      "Epoch [170/200], Loss: 0.6675\n",
      "Epoch [170/200], Train Loss: 0.6675, Val Loss: 0.6540\n",
      "Epoch [171/200], Loss: 0.6676\n",
      "Epoch [171/200], Train Loss: 0.6676, Val Loss: 0.6541\n",
      "Epoch [172/200], Loss: 0.6677\n",
      "Epoch [172/200], Train Loss: 0.6677, Val Loss: 0.6545\n",
      "Epoch [173/200], Loss: 0.6677\n",
      "Epoch [173/200], Train Loss: 0.6677, Val Loss: 0.6546\n",
      "Epoch [174/200], Loss: 0.6679\n",
      "Epoch [174/200], Train Loss: 0.6679, Val Loss: 0.6544\n",
      "Epoch [175/200], Loss: 0.6680\n",
      "Epoch [175/200], Train Loss: 0.6680, Val Loss: 0.6547\n",
      "Epoch [176/200], Loss: 0.6676\n",
      "Epoch [176/200], Train Loss: 0.6676, Val Loss: 0.6549\n",
      "Epoch [177/200], Loss: 0.6677\n",
      "Epoch [177/200], Train Loss: 0.6677, Val Loss: 0.6539\n",
      "Epoch [178/200], Loss: 0.6673\n",
      "Epoch [178/200], Train Loss: 0.6673, Val Loss: 0.6544\n",
      "Epoch [179/200], Loss: 0.6678\n",
      "Epoch [179/200], Train Loss: 0.6678, Val Loss: 0.6554\n",
      "Epoch [180/200], Loss: 0.6675\n",
      "Epoch [180/200], Train Loss: 0.6675, Val Loss: 0.6545\n",
      "Epoch [181/200], Loss: 0.6677\n",
      "Epoch [181/200], Train Loss: 0.6677, Val Loss: 0.6551\n",
      "Epoch [182/200], Loss: 0.6676\n",
      "Epoch [182/200], Train Loss: 0.6676, Val Loss: 0.6543\n",
      "Epoch [183/200], Loss: 0.6677\n",
      "Epoch [183/200], Train Loss: 0.6677, Val Loss: 0.6546\n",
      "Epoch [184/200], Loss: 0.6675\n",
      "Epoch [184/200], Train Loss: 0.6675, Val Loss: 0.6544\n",
      "Epoch [185/200], Loss: 0.6676\n",
      "Epoch [185/200], Train Loss: 0.6676, Val Loss: 0.6544\n",
      "Epoch [186/200], Loss: 0.6677\n",
      "Epoch [186/200], Train Loss: 0.6677, Val Loss: 0.6553\n",
      "Epoch [187/200], Loss: 0.6680\n",
      "Epoch [187/200], Train Loss: 0.6680, Val Loss: 0.6547\n",
      "Epoch [188/200], Loss: 0.6677\n",
      "Epoch [188/200], Train Loss: 0.6677, Val Loss: 0.6556\n",
      "Epoch [189/200], Loss: 0.6676\n",
      "Epoch [189/200], Train Loss: 0.6676, Val Loss: 0.6539\n",
      "Epoch [190/200], Loss: 0.6679\n",
      "Epoch [190/200], Train Loss: 0.6679, Val Loss: 0.6539\n",
      "Epoch [191/200], Loss: 0.6677\n",
      "Epoch [191/200], Train Loss: 0.6677, Val Loss: 0.6549\n",
      "Epoch [192/200], Loss: 0.6677\n",
      "Epoch [192/200], Train Loss: 0.6677, Val Loss: 0.6537\n",
      "Epoch [193/200], Loss: 0.6676\n",
      "Epoch [193/200], Train Loss: 0.6676, Val Loss: 0.6541\n",
      "Epoch [194/200], Loss: 0.6680\n",
      "Epoch [194/200], Train Loss: 0.6680, Val Loss: 0.6534\n",
      "Epoch [195/200], Loss: 0.6676\n",
      "Epoch [195/200], Train Loss: 0.6676, Val Loss: 0.6542\n",
      "Epoch [196/200], Loss: 0.6679\n",
      "Epoch [196/200], Train Loss: 0.6679, Val Loss: 0.6542\n",
      "Epoch [197/200], Loss: 0.6677\n",
      "Epoch [197/200], Train Loss: 0.6677, Val Loss: 0.6539\n",
      "Epoch [198/200], Loss: 0.6677\n",
      "Epoch [198/200], Train Loss: 0.6677, Val Loss: 0.6549\n",
      "Epoch [199/200], Loss: 0.6676\n",
      "Epoch [199/200], Train Loss: 0.6676, Val Loss: 0.6542\n",
      "Epoch [200/200], Loss: 0.6677\n",
      "Epoch [200/200], Train Loss: 0.6677, Val Loss: 0.6536\n"
     ]
    },
    {
     "data": {
      "image/png": "[encoded data removed]",
      "text/plain": [
       "<Figure size 1000x600 with 1 Axes>"
      ]
     },
     "metadata": {},
     "output_type": "display_data"
    }
   ],
   "source": [
    "best_params=study.best_params\n",
    "model = FTTransformer(input_dim=X_train_tensor.shape[1],\n",
    "                      num_heads=best_params[\"num_heads\"],\n",
    "                      num_layers=best_params[\"num_layers\"],\n",
    "                      d_model=best_params[\"d_model\"],\n",
    "                      dropout=best_params[\"dropout\"]).to(device)\n",
    "# 最適化と訓練を実行\n",
    "optimizer = optim.Adam(model.parameters(), lr=best_params[\"learning_rate\"])\n",
    "criterion = nn.BCELoss()\n",
    "\n",
    "num_epochs=200\n",
    "train_losses = []\n",
    "val_losses = []\n",
    "\n",
    "model.train()\n",
    "for epoch in range(num_epochs):\n",
    "    epoch_train_loss = 0\n",
    "    epoch_val_loss = 0\n",
    "\n",
    "    for X_batch, y_batch in train_loader:\n",
    "        X_batch, y_batch = X_batch.to(device), y_batch.to(device)\n",
    "        optimizer.zero_grad()\n",
    "        outputs = model(X_batch).squeeze()\n",
    "        loss = criterion(outputs, y_batch)\n",
    "        loss.backward()\n",
    "        optimizer.step()\n",
    "        epoch_train_loss += loss.item()\n",
    "    avg_train_loss = epoch_train_loss / len(train_loader)\n",
    "    train_losses.append(avg_train_loss)\n",
    "    print(f'Epoch [{epoch+1}/{num_epochs}], Loss: {avg_train_loss:.4f}')\n",
    "\n",
    "    if val_loader is not None:\n",
    "        model.eval()  \n",
    "        with torch.no_grad():\n",
    "            for X_val, y_val in val_loader:\n",
    "                X_val, y_val = X_val.to(device), y_val.to(device)\n",
    "                val_outputs = model(X_val).squeeze()\n",
    "                val_loss = criterion(val_outputs, y_val)\n",
    "                epoch_val_loss += val_loss.item()\n",
    "\n",
    "        avg_val_loss = epoch_val_loss / len(val_loader)\n",
    "        val_losses.append(avg_val_loss)\n",
    "        model.train()  \n",
    "\n",
    "    if val_loader is not None:\n",
    "        print(f\"Epoch [{epoch+1}/{num_epochs}], Train Loss: {avg_train_loss:.4f}, Val Loss: {avg_val_loss:.4f}\")\n",
    "    else:\n",
    "        print(f\"Epoch [{epoch+1}/{num_epochs}], Train Loss: {avg_train_loss:.4f}\")\n",
    "\n",
    "plt.figure(figsize=(10, 6))\n",
    "plt.plot(range(1, num_epochs + 1), train_losses, label='Train Loss')\n",
    "if val_losses:\n",
    "    plt.plot(range(1, num_epochs + 1), val_losses, label='Validation Loss')\n",
    "plt.xlabel('Epoch')\n",
    "plt.ylabel('Loss')\n",
    "plt.title('Learning Curve for DNN1')\n",
    "plt.legend()\n",
    "plt.grid()\n",
    "plt.show()"
   ]
  },
  {
   "cell_type": "code",
   "execution_count": 28,
   "metadata": {},
   "outputs": [
    {
     "name": "stdout",
     "output_type": "stream",
     "text": [
      "Accuracy: 61.39%\n",
      "Precision: 0.0000\n",
      "Recall: 0.0000\n",
      "F1 Score: 0.0000\n",
      "Matthews Correlation Coefficient: 0.0000\n",
      "Specificity: 1.0000\n"
     ]
    },
    {
     "name": "stderr",
     "output_type": "stream",
     "text": [
      "/home/gonken/anaconda3/envs/torch/lib/python3.12/site-packages/sklearn/metrics/_classification.py:1531: UndefinedMetricWarning: Precision is ill-defined and being set to 0.0 due to no predicted samples. Use `zero_division` parameter to control this behavior.\n",
      "  _warn_prf(average, modifier, f\"{metric.capitalize()} is\", len(result))\n"
     ]
    },
    {
     "data": {
      "image/png": "[encoded data removed]",
      "text/plain": [
       "<Figure size 640x480 with 1 Axes>"
      ]
     },
     "metadata": {},
     "output_type": "display_data"
    },
    {
     "data": {
      "image/png": "[encoded data removed]",
      "text/plain": [
       "<Figure size 640x480 with 1 Axes>"
      ]
     },
     "metadata": {},
     "output_type": "display_data"
    },
    {
     "data": {
      "image/png": "[encoded data removed]",
      "text/plain": [
       "<Figure size 640x480 with 1 Axes>"
      ]
     },
     "metadata": {},
     "output_type": "display_data"
    }
   ],
   "source": [
    "model.eval()\n",
    "with torch.no_grad():\n",
    "    X_test_tensor = X_test_tensor.to(device)\n",
    "    y_test_tensor = y_test_tensor.to(device)\n",
    "\n",
    "    # 予測と確率\n",
    "    test_outputs = model(X_test_tensor).squeeze()\n",
    "    predictions = (test_outputs >= 0.5).float()\n",
    "    y_true = y_test_tensor.cpu().numpy()\n",
    "    y_pred = predictions.cpu().numpy()\n",
    "    y_prob = test_outputs.cpu().numpy()\n",
    "\n",
    "# 評価指標\n",
    "    accuracy = accuracy_score(y_true, y_pred)\n",
    "    precision = precision_score(y_true, y_pred)\n",
    "    recall = recall_score(y_true, y_pred)\n",
    "    f1 = f1_score(y_true, y_pred)\n",
    "    mcc = matthews_corrcoef(y_true, y_pred)\n",
    "    specificity = recall_score(y_true, y_pred, pos_label=0)  \n",
    "    print(f'Accuracy: {accuracy * 100:.2f}%')\n",
    "    print(f'Precision: {precision:.4f}')\n",
    "    print(f'Recall: {recall:.4f}')\n",
    "    print(f'F1 Score: {f1:.4f}')\n",
    "    print(f'Matthews Correlation Coefficient: {mcc:.4f}')\n",
    "    print(f'Specificity: {specificity:.4f}')\n",
    "\n",
    "    # 混同行列（割合表示）\n",
    "    cm = confusion_matrix(y_true, y_pred, normalize='true')\n",
    "    sns.heatmap(cm, annot=True, fmt=\".2%\", cmap=\"Blues\", cbar=False)\n",
    "    plt.xlabel(\"Predicted\")\n",
    "    plt.ylabel(\"Actual\")\n",
    "    plt.title(f\"Confusion Matrix (Normalized)\")\n",
    "    plt.show()\n",
    "\n",
    "    # ROC曲線とAUC\n",
    "    fpr, tpr, thresholds = roc_curve(y_true, y_prob)\n",
    "    roc_auc = auc(fpr, tpr)\n",
    "    plt.plot(fpr, tpr, label=f'ROC curve (AUC = {roc_auc:.2f})')\n",
    "    plt.plot([0, 1], [0, 1], 'k--') \n",
    "    plt.xlabel('False Positive Rate')\n",
    "    plt.ylabel('True Positive Rate')\n",
    "    plt.title(f'ROC Curve - Model ')\n",
    "    plt.legend(loc=\"lower right\")\n",
    "    plt.show()\n",
    "\n",
    "    # Precision-Recall曲線\n",
    "    precision_curve, recall_curve, pr_thresholds = precision_recall_curve(y_true, y_prob)\n",
    "    pr_auc = auc(recall_curve, precision_curve)\n",
    "    plt.plot(recall_curve, precision_curve, label=f'PR curve (AUC = {pr_auc:.2f})')\n",
    "    plt.xlabel('Recall')\n",
    "    plt.ylabel('Precision')\n",
    "    plt.title(f'Precision-Recall Curve ')\n",
    "    plt.legend(loc=\"lower left\")\n",
    "    plt.show()    "
   ]
  },
  {
   "cell_type": "code",
   "execution_count": 29,
   "metadata": {},
   "outputs": [],
   "source": [
    "# モデルと構造を保存\n",
    "torch.save(model, '../../saved_model/FT_tranformer_1.pth')"
   ]
  },
  {
   "cell_type": "code",
   "execution_count": null,
   "metadata": {},
   "outputs": [],
   "source": []
  }
 ],
 "metadata": {
  "kernelspec": {
   "display_name": "torch",
   "language": "python",
   "name": "python3"
  },
  "language_info": {
   "codemirror_mode": {
    "name": "ipython",
    "version": 3
   },
   "file_extension": ".py",
   "mimetype": "text/x-python",
   "name": "python",
   "nbconvert_exporter": "python",
   "pygments_lexer": "ipython3",
   "version": "3.12.7"
  }
 },
 "nbformat": 4,
 "nbformat_minor": 2
}
