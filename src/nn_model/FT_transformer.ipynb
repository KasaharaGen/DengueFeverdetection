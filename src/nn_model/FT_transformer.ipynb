{
 "cells": [
  {
   "cell_type": "code",
   "execution_count": 1,
   "metadata": {},
   "outputs": [],
   "source": [
    "import numpy as np\n",
    "import pandas as pd\n",
    "import matplotlib.pyplot as plt\n",
    "import seaborn as sns\n",
    "\n",
    "import torch\n",
    "import torch.nn as nn\n",
    "import torch.optim as optim\n",
    "\n",
    "import optuna\n",
    "\n",
    "from sklearn.model_selection import train_test_split\n",
    "from sklearn.metrics import confusion_matrix,accuracy_score, precision_score, recall_score, f1_score, confusion_matrix, roc_curve, auc,matthews_corrcoef, precision_recall_curve,roc_auc_score\n",
    "\n"
   ]
  },
  {
   "cell_type": "markdown",
   "metadata": {},
   "source": [
    "データ読み取り"
   ]
  },
  {
   "cell_type": "code",
   "execution_count": 2,
   "metadata": {},
   "outputs": [],
   "source": [
    "df=pd.read_csv('../../data/learning_data.csv',index_col=0)\n",
    "\n",
    "X=df.drop(columns='dengue',axis=1).values\n",
    "y=df['dengue'].values\n",
    "\n",
    "X_train, X_test, y_train, y_test = train_test_split(X, y, test_size=0.2,random_state=42)\n",
    "X_train, X_val, y_train, y_val = train_test_split(X_train, y_train, test_size=0.1,random_state=42)\n",
    "\n",
    "#torchテンソルに変換\n",
    "X_train_tensor = torch.tensor(X_train, dtype=torch.float32)\n",
    "y_train_tensor = torch.tensor(y_train, dtype=torch.float32)\n",
    "X_test_tensor = torch.tensor(X_test, dtype=torch.float32)\n",
    "y_test_tensor = torch.tensor(y_test, dtype=torch.float32)\n",
    "X_val_tensor = torch.tensor(X_val, dtype=torch.float32)\n",
    "y_val_tensor = torch.tensor(y_val, dtype=torch.float32)\n"
   ]
  },
  {
   "cell_type": "code",
   "execution_count": 3,
   "metadata": {},
   "outputs": [],
   "source": [
    "class FTTransformer(nn.Module):\n",
    "    def __init__(self, input_dim, num_heads, num_layers, d_model, dropout):\n",
    "        super(FTTransformer, self).__init__()\n",
    "        self.input_dim = input_dim\n",
    "\n",
    "        # 入力を特徴トークンとして埋め込む\n",
    "        self.embedding = nn.Linear(input_dim, d_model)\n",
    "        \n",
    "        # Transformerエンコーダ層\n",
    "        self.transformer = nn.TransformerEncoder(\n",
    "            nn.TransformerEncoderLayer(d_model=d_model, nhead=num_heads, dropout=dropout),\n",
    "            num_layers=num_layers\n",
    "        )\n",
    "        \n",
    "        # 出力層\n",
    "        self.fc = nn.Linear(d_model, 1)\n",
    "        \n",
    "    def forward(self, x):\n",
    "        # 入力を埋め込み\n",
    "        # [batch_size, input_dim] -> [batch_size, seq_len=1, d_model]\n",
    "        x = self.embedding(x).unsqueeze(1)\n",
    "        \n",
    "        # 次元を変更 [batch_size, seq_len, d_model] -> [seq_len, batch_size, d_model]\n",
    "        x = x.permute(1, 0, 2)\n",
    "        \n",
    "        # Transformerエンコーダに通す\n",
    "        x = self.transformer(x)\n",
    "        \n",
    "        # 最後のトークンを取得して分類\n",
    "        # [seq_len, batch_size, d_model] -> [batch_size, d_model]\n",
    "        x = x.mean(dim=0)  # 平均を取る\n",
    "        x = self.fc(x)  # 出力層\n",
    "        return torch.sigmoid(x)\n"
   ]
  },
  {
   "cell_type": "markdown",
   "metadata": {},
   "source": [
    "学習データセットの作成"
   ]
  },
  {
   "cell_type": "code",
   "execution_count": 4,
   "metadata": {},
   "outputs": [],
   "source": [
    "train_dataset = torch.utils.data.TensorDataset(X_train_tensor, y_train_tensor)\n",
    "train_loader = torch.utils.data.DataLoader(dataset=train_dataset, batch_size=32, shuffle=True)\n",
    "\n",
    "val_dataset = torch.utils.data.TensorDataset(X_val_tensor, y_val_tensor)\n",
    "val_loader = torch.utils.data.DataLoader(dataset=val_dataset, batch_size=32, shuffle=False)"
   ]
  },
  {
   "cell_type": "markdown",
   "metadata": {},
   "source": [
    "Optunaの設定"
   ]
  },
  {
   "cell_type": "code",
   "execution_count": null,
   "metadata": {},
   "outputs": [],
   "source": [
    "# 目的関数の定義\n",
    "def objective(trial):\n",
    "    # ハイパーパラメータのサンプリング\n",
    "    num_heads = trial.suggest_categorical('num_heads', [2, 4, 8])\n",
    "    num_layers = trial.suggest_int('num_layers', 1, 5)\n",
    "    d_model = trial.suggest_categorical('d_model', [32, 64, 128])\n",
    "    dropout = trial.suggest_float('dropout', 0.1, 0.5,step=0.05)\n",
    "    learning_rate = trial.suggest_loguniform('learning_rate', 1e-5, 1e-1)\n",
    "\n",
    "    model = FTTransformer(input_dim=X_train.shape[1], \n",
    "                           num_heads=num_heads, \n",
    "                           num_layers=num_layers, \n",
    "                           d_model=d_model, \n",
    "                           dropout=dropout)\n",
    "    model = model.to(device)\n",
    "\n",
    "    criterion = nn.BCELoss()\n",
    "    optimizer = torch.optim.Adam(model.parameters(), lr=learning_rate)\n",
    "    \n",
    "    num_epochs=100\n",
    "    model.train()\n",
    "    for epoch in range(num_epochs):\n",
    "        for X_batch, y_batch in train_loader:\n",
    "            X_batch, y_batch = X_batch.to(device), y_batch.to(device)\n",
    "            optimizer.zero_grad()\n",
    "            outputs = model(X_batch).squeeze()\n",
    "            loss = criterion(outputs,y_batch )\n",
    "            loss.backward()\n",
    "            optimizer.step()\n",
    "    \n",
    "    model.eval()\n",
    "    val_true, val_pred, val_prob = [], [], []\n",
    "    with torch.no_grad():\n",
    "        for X_val, y_val in val_loader:\n",
    "            X_val, y_val = X_val.to(device), y_val.to(device)\n",
    "            val_outputs = model(X_val).squeeze()\n",
    "            predictions = (val_outputs >= 0.5).float()\n",
    "            val_true.extend(y_val.cpu().numpy())\n",
    "            val_pred.extend(predictions.cpu().numpy())\n",
    "            val_prob.extend(val_outputs.cpu().numpy())\n",
    "\n",
    "\n",
    "    accuracy = accuracy_score(val_true, val_pred)\n",
    "    precision = precision_score(val_true, val_pred)\n",
    "    recall = recall_score(val_true, val_pred)\n",
    "    f1 = f1_score(val_true, val_pred)\n",
    "    mcc = matthews_corrcoef(val_true, val_pred)\n",
    "    specificity = recall_score(val_true, val_pred, pos_label=0)\n",
    "\n",
    "    # ログ\n",
    "    print(f'Accuracy: {accuracy * 100:.2f}%')\n",
    "    print(f'Precision: {precision:.4f}')\n",
    "    print(f'Recall: {recall:.4f}')\n",
    "    print(f'F1 Score: {f1:.4f}')\n",
    "    print(f'Matthews Correlation Coefficient: {mcc:.4f}')\n",
    "    print(f'Specificity: {specificity:.4f}')\n",
    "    \n",
    "    return precision"
   ]
  },
  {
   "cell_type": "code",
   "execution_count": 6,
   "metadata": {},
   "outputs": [
    {
     "name": "stdout",
     "output_type": "stream",
     "text": [
      "使用可能なGPUの数: 2\n",
      "GPU 0: NVIDIA GeForce GTX 1080 Ti\n",
      "  メモリ使用状況: 0.00 MB / 11169.31 MB\n",
      "  CUDA対応バージョン: 6.1\n",
      "GPU 1: NVIDIA GeForce GTX 1080 Ti\n",
      "  メモリ使用状況: 0.00 MB / 11172.19 MB\n",
      "  CUDA対応バージョン: 6.1\n"
     ]
    }
   ],
   "source": [
    "# 使用可能なGPUの数を取得\n",
    "num_gpus = torch.cuda.device_count()\n",
    "\n",
    "if num_gpus == 0:\n",
    "    print(\"使用可能なGPUはありません。\")\n",
    "else:\n",
    "    print(f\"使用可能なGPUの数: {num_gpus}\")\n",
    "    for i in range(num_gpus):\n",
    "        print(f\"GPU {i}: {torch.cuda.get_device_name(i)}\")\n",
    "        print(f\"  メモリ使用状況: {torch.cuda.memory_allocated(i) / 1024**2:.2f} MB / {torch.cuda.get_device_properties(i).total_memory / 1024**2:.2f} MB\")\n",
    "        print(f\"  CUDA対応バージョン: {torch.cuda.get_device_properties(i).major}.{torch.cuda.get_device_properties(i).minor}\")\n"
   ]
  },
  {
   "cell_type": "code",
   "execution_count": 7,
   "metadata": {},
   "outputs": [
    {
     "name": "stderr",
     "output_type": "stream",
     "text": [
      "[I 2024-11-28 19:02:52,151] A new study created in memory with name: no-name-02e7e6ce-7d94-4b2d-bfa7-02c2369963cb\n",
      "/tmp/ipykernel_187141/2037634495.py:10: FutureWarning: suggest_loguniform has been deprecated in v3.0.0. This feature will be removed in v6.0.0. See https://github.com/optuna/optuna/releases/tag/v3.0.0. Use suggest_float(..., log=True) instead.\n",
      "  learning_rate = trial.suggest_loguniform('learning_rate', 1e-5, 1e-1)\n",
      "/home/gonken/anaconda3/envs/torch/lib/python3.12/site-packages/torch/nn/modules/transformer.py:379: UserWarning: enable_nested_tensor is True, but self.use_nested_tensor is False because encoder_layer.self_attn.batch_first was not True(use batch_first for better inference performance)\n",
      "  warnings.warn(\n",
      "[I 2024-11-28 19:03:57,906] Trial 0 finished with value: 0.5337620578778135 and parameters: {'num_heads': 8, 'num_layers': 1, 'd_model': 64, 'dropout': 0.15000000000000002, 'learning_rate': 0.016282354143651326}. Best is trial 0 with value: 0.5337620578778135.\n"
     ]
    },
    {
     "name": "stdout",
     "output_type": "stream",
     "text": [
      "Accuracy: 58.69%\n",
      "Precision: 0.4486\n",
      "Recall: 0.6587\n",
      "F1 Score: 0.5338\n",
      "Matthews Correlation Coefficient: 0.1973\n",
      "Specificity: 0.5467\n"
     ]
    },
    {
     "name": "stderr",
     "output_type": "stream",
     "text": [
      "/tmp/ipykernel_187141/2037634495.py:10: FutureWarning: suggest_loguniform has been deprecated in v3.0.0. This feature will be removed in v6.0.0. See https://github.com/optuna/optuna/releases/tag/v3.0.0. Use suggest_float(..., log=True) instead.\n",
      "  learning_rate = trial.suggest_loguniform('learning_rate', 1e-5, 1e-1)\n",
      "/home/gonken/anaconda3/envs/torch/lib/python3.12/site-packages/torch/nn/modules/transformer.py:379: UserWarning: enable_nested_tensor is True, but self.use_nested_tensor is False because encoder_layer.self_attn.batch_first was not True(use batch_first for better inference performance)\n",
      "  warnings.warn(\n",
      "[I 2024-11-28 19:05:52,074] Trial 1 finished with value: 0.6021505376344086 and parameters: {'num_heads': 2, 'num_layers': 3, 'd_model': 32, 'dropout': 0.4, 'learning_rate': 0.0007603256195457132}. Best is trial 1 with value: 0.6021505376344086.\n"
     ]
    },
    {
     "name": "stdout",
     "output_type": "stream",
     "text": [
      "Accuracy: 57.83%\n",
      "Precision: 0.4553\n",
      "Recall: 0.8889\n",
      "F1 Score: 0.6022\n",
      "Matthews Correlation Coefficient: 0.3073\n",
      "Specificity: 0.4044\n"
     ]
    },
    {
     "name": "stderr",
     "output_type": "stream",
     "text": [
      "/tmp/ipykernel_187141/2037634495.py:10: FutureWarning: suggest_loguniform has been deprecated in v3.0.0. This feature will be removed in v6.0.0. See https://github.com/optuna/optuna/releases/tag/v3.0.0. Use suggest_float(..., log=True) instead.\n",
      "  learning_rate = trial.suggest_loguniform('learning_rate', 1e-5, 1e-1)\n",
      "/home/gonken/anaconda3/envs/torch/lib/python3.12/site-packages/torch/nn/modules/transformer.py:379: UserWarning: enable_nested_tensor is True, but self.use_nested_tensor is False because encoder_layer.self_attn.batch_first was not True(use batch_first for better inference performance)\n",
      "  warnings.warn(\n",
      "[I 2024-11-28 19:08:40,318] Trial 2 finished with value: 0.5283018867924528 and parameters: {'num_heads': 4, 'num_layers': 5, 'd_model': 64, 'dropout': 0.25, 'learning_rate': 0.0878177881338969}. Best is trial 1 with value: 0.6021505376344086.\n"
     ]
    },
    {
     "name": "stdout",
     "output_type": "stream",
     "text": [
      "Accuracy: 35.90%\n",
      "Precision: 0.3590\n",
      "Recall: 1.0000\n",
      "F1 Score: 0.5283\n",
      "Matthews Correlation Coefficient: 0.0000\n",
      "Specificity: 0.0000\n"
     ]
    },
    {
     "name": "stderr",
     "output_type": "stream",
     "text": [
      "/tmp/ipykernel_187141/2037634495.py:10: FutureWarning: suggest_loguniform has been deprecated in v3.0.0. This feature will be removed in v6.0.0. See https://github.com/optuna/optuna/releases/tag/v3.0.0. Use suggest_float(..., log=True) instead.\n",
      "  learning_rate = trial.suggest_loguniform('learning_rate', 1e-5, 1e-1)\n",
      "/home/gonken/anaconda3/envs/torch/lib/python3.12/site-packages/torch/nn/modules/transformer.py:379: UserWarning: enable_nested_tensor is True, but self.use_nested_tensor is False because encoder_layer.self_attn.batch_first was not True(use batch_first for better inference performance)\n",
      "  warnings.warn(\n",
      "/home/gonken/anaconda3/envs/torch/lib/python3.12/site-packages/sklearn/metrics/_classification.py:1531: UndefinedMetricWarning: Precision is ill-defined and being set to 0.0 due to no predicted samples. Use `zero_division` parameter to control this behavior.\n",
      "  _warn_prf(average, modifier, f\"{metric.capitalize()} is\", len(result))\n",
      "[I 2024-11-28 19:11:01,645] Trial 3 finished with value: 0.0 and parameters: {'num_heads': 4, 'num_layers': 4, 'd_model': 64, 'dropout': 0.35, 'learning_rate': 0.03655644203928863}. Best is trial 1 with value: 0.6021505376344086.\n",
      "/tmp/ipykernel_187141/2037634495.py:10: FutureWarning: suggest_loguniform has been deprecated in v3.0.0. This feature will be removed in v6.0.0. See https://github.com/optuna/optuna/releases/tag/v3.0.0. Use suggest_float(..., log=True) instead.\n",
      "  learning_rate = trial.suggest_loguniform('learning_rate', 1e-5, 1e-1)\n",
      "/home/gonken/anaconda3/envs/torch/lib/python3.12/site-packages/torch/nn/modules/transformer.py:379: UserWarning: enable_nested_tensor is True, but self.use_nested_tensor is False because encoder_layer.self_attn.batch_first was not True(use batch_first for better inference performance)\n",
      "  warnings.warn(\n"
     ]
    },
    {
     "name": "stdout",
     "output_type": "stream",
     "text": [
      "Accuracy: 64.10%\n",
      "Precision: 0.0000\n",
      "Recall: 0.0000\n",
      "F1 Score: 0.0000\n",
      "Matthews Correlation Coefficient: 0.0000\n",
      "Specificity: 1.0000\n"
     ]
    },
    {
     "name": "stderr",
     "output_type": "stream",
     "text": [
      "[I 2024-11-28 19:13:22,822] Trial 4 finished with value: 0.4322033898305085 and parameters: {'num_heads': 4, 'num_layers': 4, 'd_model': 128, 'dropout': 0.45000000000000007, 'learning_rate': 4.244410828373392e-05}. Best is trial 1 with value: 0.6021505376344086.\n"
     ]
    },
    {
     "name": "stdout",
     "output_type": "stream",
     "text": [
      "Accuracy: 61.82%\n",
      "Precision: 0.4636\n",
      "Recall: 0.4048\n",
      "F1 Score: 0.4322\n",
      "Matthews Correlation Coefficient: 0.1474\n",
      "Specificity: 0.7378\n"
     ]
    },
    {
     "name": "stderr",
     "output_type": "stream",
     "text": [
      "/tmp/ipykernel_187141/2037634495.py:10: FutureWarning: suggest_loguniform has been deprecated in v3.0.0. This feature will be removed in v6.0.0. See https://github.com/optuna/optuna/releases/tag/v3.0.0. Use suggest_float(..., log=True) instead.\n",
      "  learning_rate = trial.suggest_loguniform('learning_rate', 1e-5, 1e-1)\n",
      "/home/gonken/anaconda3/envs/torch/lib/python3.12/site-packages/torch/nn/modules/transformer.py:379: UserWarning: enable_nested_tensor is True, but self.use_nested_tensor is False because encoder_layer.self_attn.batch_first was not True(use batch_first for better inference performance)\n",
      "  warnings.warn(\n",
      "[I 2024-11-28 19:14:53,241] Trial 5 finished with value: 0.45714285714285713 and parameters: {'num_heads': 2, 'num_layers': 2, 'd_model': 64, 'dropout': 0.30000000000000004, 'learning_rate': 6.794608913770452e-05}. Best is trial 1 with value: 0.6021505376344086.\n"
     ]
    },
    {
     "name": "stdout",
     "output_type": "stream",
     "text": [
      "Accuracy: 62.11%\n",
      "Precision: 0.4706\n",
      "Recall: 0.4444\n",
      "F1 Score: 0.4571\n",
      "Matthews Correlation Coefficient: 0.1666\n",
      "Specificity: 0.7200\n"
     ]
    },
    {
     "name": "stderr",
     "output_type": "stream",
     "text": [
      "/tmp/ipykernel_187141/2037634495.py:10: FutureWarning: suggest_loguniform has been deprecated in v3.0.0. This feature will be removed in v6.0.0. See https://github.com/optuna/optuna/releases/tag/v3.0.0. Use suggest_float(..., log=True) instead.\n",
      "  learning_rate = trial.suggest_loguniform('learning_rate', 1e-5, 1e-1)\n",
      "/home/gonken/anaconda3/envs/torch/lib/python3.12/site-packages/torch/nn/modules/transformer.py:379: UserWarning: enable_nested_tensor is True, but self.use_nested_tensor is False because encoder_layer.self_attn.batch_first was not True(use batch_first for better inference performance)\n",
      "  warnings.warn(\n",
      "[I 2024-11-28 19:16:46,604] Trial 6 finished with value: 0.6073298429319371 and parameters: {'num_heads': 4, 'num_layers': 3, 'd_model': 32, 'dropout': 0.45000000000000007, 'learning_rate': 0.0023505018423643415}. Best is trial 6 with value: 0.6073298429319371.\n"
     ]
    },
    {
     "name": "stdout",
     "output_type": "stream",
     "text": [
      "Accuracy: 57.26%\n",
      "Precision: 0.4531\n",
      "Recall: 0.9206\n",
      "F1 Score: 0.6073\n",
      "Matthews Correlation Coefficient: 0.3222\n",
      "Specificity: 0.3778\n"
     ]
    },
    {
     "name": "stderr",
     "output_type": "stream",
     "text": [
      "/tmp/ipykernel_187141/2037634495.py:10: FutureWarning: suggest_loguniform has been deprecated in v3.0.0. This feature will be removed in v6.0.0. See https://github.com/optuna/optuna/releases/tag/v3.0.0. Use suggest_float(..., log=True) instead.\n",
      "  learning_rate = trial.suggest_loguniform('learning_rate', 1e-5, 1e-1)\n",
      "/home/gonken/anaconda3/envs/torch/lib/python3.12/site-packages/torch/nn/modules/transformer.py:379: UserWarning: enable_nested_tensor is True, but self.use_nested_tensor is False because encoder_layer.self_attn.batch_first was not True(use batch_first for better inference performance)\n",
      "  warnings.warn(\n",
      "[I 2024-11-28 19:17:44,169] Trial 7 finished with value: 0.5196850393700787 and parameters: {'num_heads': 8, 'num_layers': 1, 'd_model': 128, 'dropout': 0.1, 'learning_rate': 0.000184437963402636}. Best is trial 6 with value: 0.6073298429319371.\n"
     ]
    },
    {
     "name": "stdout",
     "output_type": "stream",
     "text": [
      "Accuracy: 65.24%\n",
      "Precision: 0.5156\n",
      "Recall: 0.5238\n",
      "F1 Score: 0.5197\n",
      "Matthews Correlation Coefficient: 0.2474\n",
      "Specificity: 0.7244\n"
     ]
    },
    {
     "name": "stderr",
     "output_type": "stream",
     "text": [
      "/tmp/ipykernel_187141/2037634495.py:10: FutureWarning: suggest_loguniform has been deprecated in v3.0.0. This feature will be removed in v6.0.0. See https://github.com/optuna/optuna/releases/tag/v3.0.0. Use suggest_float(..., log=True) instead.\n",
      "  learning_rate = trial.suggest_loguniform('learning_rate', 1e-5, 1e-1)\n",
      "/home/gonken/anaconda3/envs/torch/lib/python3.12/site-packages/torch/nn/modules/transformer.py:379: UserWarning: enable_nested_tensor is True, but self.use_nested_tensor is False because encoder_layer.self_attn.batch_first was not True(use batch_first for better inference performance)\n",
      "  warnings.warn(\n",
      "/home/gonken/anaconda3/envs/torch/lib/python3.12/site-packages/sklearn/metrics/_classification.py:1531: UndefinedMetricWarning: Precision is ill-defined and being set to 0.0 due to no predicted samples. Use `zero_division` parameter to control this behavior.\n",
      "  _warn_prf(average, modifier, f\"{metric.capitalize()} is\", len(result))\n",
      "[I 2024-11-28 19:20:05,877] Trial 8 finished with value: 0.0 and parameters: {'num_heads': 2, 'num_layers': 4, 'd_model': 128, 'dropout': 0.1, 'learning_rate': 0.0013767388907581224}. Best is trial 6 with value: 0.6073298429319371.\n",
      "/tmp/ipykernel_187141/2037634495.py:10: FutureWarning: suggest_loguniform has been deprecated in v3.0.0. This feature will be removed in v6.0.0. See https://github.com/optuna/optuna/releases/tag/v3.0.0. Use suggest_float(..., log=True) instead.\n",
      "  learning_rate = trial.suggest_loguniform('learning_rate', 1e-5, 1e-1)\n",
      "/home/gonken/anaconda3/envs/torch/lib/python3.12/site-packages/torch/nn/modules/transformer.py:379: UserWarning: enable_nested_tensor is True, but self.use_nested_tensor is False because encoder_layer.self_attn.batch_first was not True(use batch_first for better inference performance)\n",
      "  warnings.warn(\n"
     ]
    },
    {
     "name": "stdout",
     "output_type": "stream",
     "text": [
      "Accuracy: 64.10%\n",
      "Precision: 0.0000\n",
      "Recall: 0.0000\n",
      "F1 Score: 0.0000\n",
      "Matthews Correlation Coefficient: 0.0000\n",
      "Specificity: 1.0000\n"
     ]
    },
    {
     "name": "stderr",
     "output_type": "stream",
     "text": [
      "/home/gonken/anaconda3/envs/torch/lib/python3.12/site-packages/sklearn/metrics/_classification.py:1531: UndefinedMetricWarning: Precision is ill-defined and being set to 0.0 due to no predicted samples. Use `zero_division` parameter to control this behavior.\n",
      "  _warn_prf(average, modifier, f\"{metric.capitalize()} is\", len(result))\n",
      "[I 2024-11-28 19:21:36,322] Trial 9 finished with value: 0.0 and parameters: {'num_heads': 8, 'num_layers': 2, 'd_model': 32, 'dropout': 0.45000000000000007, 'learning_rate': 0.05490523904454784}. Best is trial 6 with value: 0.6073298429319371.\n",
      "/tmp/ipykernel_187141/2037634495.py:10: FutureWarning: suggest_loguniform has been deprecated in v3.0.0. This feature will be removed in v6.0.0. See https://github.com/optuna/optuna/releases/tag/v3.0.0. Use suggest_float(..., log=True) instead.\n",
      "  learning_rate = trial.suggest_loguniform('learning_rate', 1e-5, 1e-1)\n",
      "/home/gonken/anaconda3/envs/torch/lib/python3.12/site-packages/torch/nn/modules/transformer.py:379: UserWarning: enable_nested_tensor is True, but self.use_nested_tensor is False because encoder_layer.self_attn.batch_first was not True(use batch_first for better inference performance)\n",
      "  warnings.warn(\n"
     ]
    },
    {
     "name": "stdout",
     "output_type": "stream",
     "text": [
      "Accuracy: 64.10%\n",
      "Precision: 0.0000\n",
      "Recall: 0.0000\n",
      "F1 Score: 0.0000\n",
      "Matthews Correlation Coefficient: 0.0000\n",
      "Specificity: 1.0000\n"
     ]
    },
    {
     "name": "stderr",
     "output_type": "stream",
     "text": [
      "/home/gonken/anaconda3/envs/torch/lib/python3.12/site-packages/sklearn/metrics/_classification.py:1531: UndefinedMetricWarning: Precision is ill-defined and being set to 0.0 due to no predicted samples. Use `zero_division` parameter to control this behavior.\n",
      "  _warn_prf(average, modifier, f\"{metric.capitalize()} is\", len(result))\n",
      "[I 2024-11-28 19:23:31,808] Trial 10 finished with value: 0.0 and parameters: {'num_heads': 4, 'num_layers': 3, 'd_model': 32, 'dropout': 0.5, 'learning_rate': 0.004063151390332446}. Best is trial 6 with value: 0.6073298429319371.\n",
      "/tmp/ipykernel_187141/2037634495.py:10: FutureWarning: suggest_loguniform has been deprecated in v3.0.0. This feature will be removed in v6.0.0. See https://github.com/optuna/optuna/releases/tag/v3.0.0. Use suggest_float(..., log=True) instead.\n",
      "  learning_rate = trial.suggest_loguniform('learning_rate', 1e-5, 1e-1)\n",
      "/home/gonken/anaconda3/envs/torch/lib/python3.12/site-packages/torch/nn/modules/transformer.py:379: UserWarning: enable_nested_tensor is True, but self.use_nested_tensor is False because encoder_layer.self_attn.batch_first was not True(use batch_first for better inference performance)\n",
      "  warnings.warn(\n"
     ]
    },
    {
     "name": "stdout",
     "output_type": "stream",
     "text": [
      "Accuracy: 64.10%\n",
      "Precision: 0.0000\n",
      "Recall: 0.0000\n",
      "F1 Score: 0.0000\n",
      "Matthews Correlation Coefficient: 0.0000\n",
      "Specificity: 1.0000\n"
     ]
    },
    {
     "name": "stderr",
     "output_type": "stream",
     "text": [
      "[I 2024-11-28 19:25:29,239] Trial 11 finished with value: 0.5977653631284916 and parameters: {'num_heads': 2, 'num_layers': 3, 'd_model': 32, 'dropout': 0.4, 'learning_rate': 0.00043487155742115695}. Best is trial 6 with value: 0.6073298429319371.\n"
     ]
    },
    {
     "name": "stdout",
     "output_type": "stream",
     "text": [
      "Accuracy: 58.97%\n",
      "Precision: 0.4612\n",
      "Recall: 0.8492\n",
      "F1 Score: 0.5978\n",
      "Matthews Correlation Coefficient: 0.2976\n",
      "Specificity: 0.4444\n"
     ]
    },
    {
     "name": "stderr",
     "output_type": "stream",
     "text": [
      "/tmp/ipykernel_187141/2037634495.py:10: FutureWarning: suggest_loguniform has been deprecated in v3.0.0. This feature will be removed in v6.0.0. See https://github.com/optuna/optuna/releases/tag/v3.0.0. Use suggest_float(..., log=True) instead.\n",
      "  learning_rate = trial.suggest_loguniform('learning_rate', 1e-5, 1e-1)\n",
      "/home/gonken/anaconda3/envs/torch/lib/python3.12/site-packages/torch/nn/modules/transformer.py:379: UserWarning: enable_nested_tensor is True, but self.use_nested_tensor is False because encoder_layer.self_attn.batch_first was not True(use batch_first for better inference performance)\n",
      "  warnings.warn(\n",
      "/home/gonken/anaconda3/envs/torch/lib/python3.12/site-packages/sklearn/metrics/_classification.py:1531: UndefinedMetricWarning: Precision is ill-defined and being set to 0.0 due to no predicted samples. Use `zero_division` parameter to control this behavior.\n",
      "  _warn_prf(average, modifier, f\"{metric.capitalize()} is\", len(result))\n",
      "[I 2024-11-28 19:26:58,766] Trial 12 finished with value: 0.0 and parameters: {'num_heads': 2, 'num_layers': 2, 'd_model': 32, 'dropout': 0.5, 'learning_rate': 0.00469846322094979}. Best is trial 6 with value: 0.6073298429319371.\n",
      "/tmp/ipykernel_187141/2037634495.py:10: FutureWarning: suggest_loguniform has been deprecated in v3.0.0. This feature will be removed in v6.0.0. See https://github.com/optuna/optuna/releases/tag/v3.0.0. Use suggest_float(..., log=True) instead.\n",
      "  learning_rate = trial.suggest_loguniform('learning_rate', 1e-5, 1e-1)\n",
      "/home/gonken/anaconda3/envs/torch/lib/python3.12/site-packages/torch/nn/modules/transformer.py:379: UserWarning: enable_nested_tensor is True, but self.use_nested_tensor is False because encoder_layer.self_attn.batch_first was not True(use batch_first for better inference performance)\n",
      "  warnings.warn(\n"
     ]
    },
    {
     "name": "stdout",
     "output_type": "stream",
     "text": [
      "Accuracy: 64.10%\n",
      "Precision: 0.0000\n",
      "Recall: 0.0000\n",
      "F1 Score: 0.0000\n",
      "Matthews Correlation Coefficient: 0.0000\n",
      "Specificity: 1.0000\n"
     ]
    },
    {
     "name": "stderr",
     "output_type": "stream",
     "text": [
      "[I 2024-11-28 19:28:55,356] Trial 13 finished with value: 0.5 and parameters: {'num_heads': 4, 'num_layers': 3, 'd_model': 32, 'dropout': 0.35, 'learning_rate': 1.133811053666828e-05}. Best is trial 6 with value: 0.6073298429319371.\n"
     ]
    },
    {
     "name": "stdout",
     "output_type": "stream",
     "text": [
      "Accuracy: 60.11%\n",
      "Precision: 0.4545\n",
      "Recall: 0.5556\n",
      "F1 Score: 0.5000\n",
      "Matthews Correlation Coefficient: 0.1762\n",
      "Specificity: 0.6267\n"
     ]
    },
    {
     "name": "stderr",
     "output_type": "stream",
     "text": [
      "/tmp/ipykernel_187141/2037634495.py:10: FutureWarning: suggest_loguniform has been deprecated in v3.0.0. This feature will be removed in v6.0.0. See https://github.com/optuna/optuna/releases/tag/v3.0.0. Use suggest_float(..., log=True) instead.\n",
      "  learning_rate = trial.suggest_loguniform('learning_rate', 1e-5, 1e-1)\n",
      "/home/gonken/anaconda3/envs/torch/lib/python3.12/site-packages/torch/nn/modules/transformer.py:379: UserWarning: enable_nested_tensor is True, but self.use_nested_tensor is False because encoder_layer.self_attn.batch_first was not True(use batch_first for better inference performance)\n",
      "  warnings.warn(\n",
      "/home/gonken/anaconda3/envs/torch/lib/python3.12/site-packages/sklearn/metrics/_classification.py:1531: UndefinedMetricWarning: Precision is ill-defined and being set to 0.0 due to no predicted samples. Use `zero_division` parameter to control this behavior.\n",
      "  _warn_prf(average, modifier, f\"{metric.capitalize()} is\", len(result))\n",
      "[I 2024-11-28 19:31:41,923] Trial 14 finished with value: 0.0 and parameters: {'num_heads': 2, 'num_layers': 5, 'd_model': 32, 'dropout': 0.4, 'learning_rate': 0.0012203684448144794}. Best is trial 6 with value: 0.6073298429319371.\n",
      "/tmp/ipykernel_187141/2037634495.py:10: FutureWarning: suggest_loguniform has been deprecated in v3.0.0. This feature will be removed in v6.0.0. See https://github.com/optuna/optuna/releases/tag/v3.0.0. Use suggest_float(..., log=True) instead.\n",
      "  learning_rate = trial.suggest_loguniform('learning_rate', 1e-5, 1e-1)\n",
      "/home/gonken/anaconda3/envs/torch/lib/python3.12/site-packages/torch/nn/modules/transformer.py:379: UserWarning: enable_nested_tensor is True, but self.use_nested_tensor is False because encoder_layer.self_attn.batch_first was not True(use batch_first for better inference performance)\n",
      "  warnings.warn(\n"
     ]
    },
    {
     "name": "stdout",
     "output_type": "stream",
     "text": [
      "Accuracy: 64.10%\n",
      "Precision: 0.0000\n",
      "Recall: 0.0000\n",
      "F1 Score: 0.0000\n",
      "Matthews Correlation Coefficient: 0.0000\n",
      "Specificity: 1.0000\n"
     ]
    },
    {
     "name": "stderr",
     "output_type": "stream",
     "text": [
      "/home/gonken/anaconda3/envs/torch/lib/python3.12/site-packages/sklearn/metrics/_classification.py:1531: UndefinedMetricWarning: Precision is ill-defined and being set to 0.0 due to no predicted samples. Use `zero_division` parameter to control this behavior.\n",
      "  _warn_prf(average, modifier, f\"{metric.capitalize()} is\", len(result))\n",
      "[I 2024-11-28 19:33:12,647] Trial 15 finished with value: 0.0 and parameters: {'num_heads': 4, 'num_layers': 2, 'd_model': 32, 'dropout': 0.2, 'learning_rate': 0.005206856938799152}. Best is trial 6 with value: 0.6073298429319371.\n",
      "/tmp/ipykernel_187141/2037634495.py:10: FutureWarning: suggest_loguniform has been deprecated in v3.0.0. This feature will be removed in v6.0.0. See https://github.com/optuna/optuna/releases/tag/v3.0.0. Use suggest_float(..., log=True) instead.\n",
      "  learning_rate = trial.suggest_loguniform('learning_rate', 1e-5, 1e-1)\n",
      "/home/gonken/anaconda3/envs/torch/lib/python3.12/site-packages/torch/nn/modules/transformer.py:379: UserWarning: enable_nested_tensor is True, but self.use_nested_tensor is False because encoder_layer.self_attn.batch_first was not True(use batch_first for better inference performance)\n",
      "  warnings.warn(\n"
     ]
    },
    {
     "name": "stdout",
     "output_type": "stream",
     "text": [
      "Accuracy: 64.10%\n",
      "Precision: 0.0000\n",
      "Recall: 0.0000\n",
      "F1 Score: 0.0000\n",
      "Matthews Correlation Coefficient: 0.0000\n",
      "Specificity: 1.0000\n"
     ]
    },
    {
     "name": "stderr",
     "output_type": "stream",
     "text": [
      "[I 2024-11-28 19:35:34,856] Trial 16 finished with value: 0.6237113402061856 and parameters: {'num_heads': 2, 'num_layers': 4, 'd_model': 32, 'dropout': 0.4, 'learning_rate': 0.0003702420627410823}. Best is trial 16 with value: 0.6237113402061856.\n"
     ]
    },
    {
     "name": "stdout",
     "output_type": "stream",
     "text": [
      "Accuracy: 58.40%\n",
      "Precision: 0.4618\n",
      "Recall: 0.9603\n",
      "F1 Score: 0.6237\n",
      "Matthews Correlation Coefficient: 0.3679\n",
      "Specificity: 0.3733\n"
     ]
    },
    {
     "name": "stderr",
     "output_type": "stream",
     "text": [
      "/tmp/ipykernel_187141/2037634495.py:10: FutureWarning: suggest_loguniform has been deprecated in v3.0.0. This feature will be removed in v6.0.0. See https://github.com/optuna/optuna/releases/tag/v3.0.0. Use suggest_float(..., log=True) instead.\n",
      "  learning_rate = trial.suggest_loguniform('learning_rate', 1e-5, 1e-1)\n",
      "/home/gonken/anaconda3/envs/torch/lib/python3.12/site-packages/torch/nn/modules/transformer.py:379: UserWarning: enable_nested_tensor is True, but self.use_nested_tensor is False because encoder_layer.self_attn.batch_first was not True(use batch_first for better inference performance)\n",
      "  warnings.warn(\n",
      "[I 2024-11-28 19:37:56,172] Trial 17 finished with value: 0.5477707006369427 and parameters: {'num_heads': 2, 'num_layers': 4, 'd_model': 32, 'dropout': 0.30000000000000004, 'learning_rate': 0.0001510016587105567}. Best is trial 16 with value: 0.6237113402061856.\n"
     ]
    },
    {
     "name": "stdout",
     "output_type": "stream",
     "text": [
      "Accuracy: 59.54%\n",
      "Precision: 0.4574\n",
      "Recall: 0.6825\n",
      "F1 Score: 0.5478\n",
      "Matthews Correlation Coefficient: 0.2205\n",
      "Specificity: 0.5467\n"
     ]
    },
    {
     "name": "stderr",
     "output_type": "stream",
     "text": [
      "/tmp/ipykernel_187141/2037634495.py:10: FutureWarning: suggest_loguniform has been deprecated in v3.0.0. This feature will be removed in v6.0.0. See https://github.com/optuna/optuna/releases/tag/v3.0.0. Use suggest_float(..., log=True) instead.\n",
      "  learning_rate = trial.suggest_loguniform('learning_rate', 1e-5, 1e-1)\n",
      "/home/gonken/anaconda3/envs/torch/lib/python3.12/site-packages/torch/nn/modules/transformer.py:379: UserWarning: enable_nested_tensor is True, but self.use_nested_tensor is False because encoder_layer.self_attn.batch_first was not True(use batch_first for better inference performance)\n",
      "  warnings.warn(\n",
      "/home/gonken/anaconda3/envs/torch/lib/python3.12/site-packages/sklearn/metrics/_classification.py:1531: UndefinedMetricWarning: Precision is ill-defined and being set to 0.0 due to no predicted samples. Use `zero_division` parameter to control this behavior.\n",
      "  _warn_prf(average, modifier, f\"{metric.capitalize()} is\", len(result))\n",
      "[I 2024-11-28 19:40:42,841] Trial 18 finished with value: 0.0 and parameters: {'num_heads': 4, 'num_layers': 5, 'd_model': 32, 'dropout': 0.45000000000000007, 'learning_rate': 0.0024632934200725116}. Best is trial 16 with value: 0.6237113402061856.\n",
      "/tmp/ipykernel_187141/2037634495.py:10: FutureWarning: suggest_loguniform has been deprecated in v3.0.0. This feature will be removed in v6.0.0. See https://github.com/optuna/optuna/releases/tag/v3.0.0. Use suggest_float(..., log=True) instead.\n",
      "  learning_rate = trial.suggest_loguniform('learning_rate', 1e-5, 1e-1)\n",
      "/home/gonken/anaconda3/envs/torch/lib/python3.12/site-packages/torch/nn/modules/transformer.py:379: UserWarning: enable_nested_tensor is True, but self.use_nested_tensor is False because encoder_layer.self_attn.batch_first was not True(use batch_first for better inference performance)\n",
      "  warnings.warn(\n"
     ]
    },
    {
     "name": "stdout",
     "output_type": "stream",
     "text": [
      "Accuracy: 64.10%\n",
      "Precision: 0.0000\n",
      "Recall: 0.0000\n",
      "F1 Score: 0.0000\n",
      "Matthews Correlation Coefficient: 0.0000\n",
      "Specificity: 1.0000\n"
     ]
    },
    {
     "name": "stderr",
     "output_type": "stream",
     "text": [
      "/home/gonken/anaconda3/envs/torch/lib/python3.12/site-packages/sklearn/metrics/_classification.py:1531: UndefinedMetricWarning: Precision is ill-defined and being set to 0.0 due to no predicted samples. Use `zero_division` parameter to control this behavior.\n",
      "  _warn_prf(average, modifier, f\"{metric.capitalize()} is\", len(result))\n",
      "[I 2024-11-28 19:43:04,155] Trial 19 finished with value: 0.0 and parameters: {'num_heads': 8, 'num_layers': 4, 'd_model': 128, 'dropout': 0.35, 'learning_rate': 0.01361821315347561}. Best is trial 16 with value: 0.6237113402061856.\n",
      "/tmp/ipykernel_187141/2037634495.py:10: FutureWarning: suggest_loguniform has been deprecated in v3.0.0. This feature will be removed in v6.0.0. See https://github.com/optuna/optuna/releases/tag/v3.0.0. Use suggest_float(..., log=True) instead.\n",
      "  learning_rate = trial.suggest_loguniform('learning_rate', 1e-5, 1e-1)\n",
      "/home/gonken/anaconda3/envs/torch/lib/python3.12/site-packages/torch/nn/modules/transformer.py:379: UserWarning: enable_nested_tensor is True, but self.use_nested_tensor is False because encoder_layer.self_attn.batch_first was not True(use batch_first for better inference performance)\n",
      "  warnings.warn(\n"
     ]
    },
    {
     "name": "stdout",
     "output_type": "stream",
     "text": [
      "Accuracy: 64.10%\n",
      "Precision: 0.0000\n",
      "Recall: 0.0000\n",
      "F1 Score: 0.0000\n",
      "Matthews Correlation Coefficient: 0.0000\n",
      "Specificity: 1.0000\n"
     ]
    },
    {
     "name": "stderr",
     "output_type": "stream",
     "text": [
      "[I 2024-11-28 19:45:27,513] Trial 20 finished with value: 0.6212121212121212 and parameters: {'num_heads': 4, 'num_layers': 4, 'd_model': 32, 'dropout': 0.5, 'learning_rate': 0.0004103773129754718}. Best is trial 16 with value: 0.6237113402061856.\n"
     ]
    },
    {
     "name": "stdout",
     "output_type": "stream",
     "text": [
      "Accuracy: 57.26%\n",
      "Precision: 0.4556\n",
      "Recall: 0.9762\n",
      "F1 Score: 0.6212\n",
      "Matthews Correlation Coefficient: 0.3676\n",
      "Specificity: 0.3467\n"
     ]
    },
    {
     "name": "stderr",
     "output_type": "stream",
     "text": [
      "/tmp/ipykernel_187141/2037634495.py:10: FutureWarning: suggest_loguniform has been deprecated in v3.0.0. This feature will be removed in v6.0.0. See https://github.com/optuna/optuna/releases/tag/v3.0.0. Use suggest_float(..., log=True) instead.\n",
      "  learning_rate = trial.suggest_loguniform('learning_rate', 1e-5, 1e-1)\n",
      "/home/gonken/anaconda3/envs/torch/lib/python3.12/site-packages/torch/nn/modules/transformer.py:379: UserWarning: enable_nested_tensor is True, but self.use_nested_tensor is False because encoder_layer.self_attn.batch_first was not True(use batch_first for better inference performance)\n",
      "  warnings.warn(\n",
      "[I 2024-11-28 19:47:49,129] Trial 21 finished with value: 0.6259541984732825 and parameters: {'num_heads': 4, 'num_layers': 4, 'd_model': 32, 'dropout': 0.5, 'learning_rate': 0.0003814910190920585}. Best is trial 21 with value: 0.6259541984732825.\n"
     ]
    },
    {
     "name": "stdout",
     "output_type": "stream",
     "text": [
      "Accuracy: 58.12%\n",
      "Precision: 0.4607\n",
      "Recall: 0.9762\n",
      "F1 Score: 0.6260\n",
      "Matthews Correlation Coefficient: 0.3780\n",
      "Specificity: 0.3600\n"
     ]
    },
    {
     "name": "stderr",
     "output_type": "stream",
     "text": [
      "/tmp/ipykernel_187141/2037634495.py:10: FutureWarning: suggest_loguniform has been deprecated in v3.0.0. This feature will be removed in v6.0.0. See https://github.com/optuna/optuna/releases/tag/v3.0.0. Use suggest_float(..., log=True) instead.\n",
      "  learning_rate = trial.suggest_loguniform('learning_rate', 1e-5, 1e-1)\n",
      "/home/gonken/anaconda3/envs/torch/lib/python3.12/site-packages/torch/nn/modules/transformer.py:379: UserWarning: enable_nested_tensor is True, but self.use_nested_tensor is False because encoder_layer.self_attn.batch_first was not True(use batch_first for better inference performance)\n",
      "  warnings.warn(\n",
      "[I 2024-11-28 19:50:11,082] Trial 22 finished with value: 0.628140703517588 and parameters: {'num_heads': 4, 'num_layers': 4, 'd_model': 32, 'dropout': 0.5, 'learning_rate': 0.000385109830438782}. Best is trial 22 with value: 0.628140703517588.\n"
     ]
    },
    {
     "name": "stdout",
     "output_type": "stream",
     "text": [
      "Accuracy: 57.83%\n",
      "Precision: 0.4596\n",
      "Recall: 0.9921\n",
      "F1 Score: 0.6281\n",
      "Matthews Correlation Coefficient: 0.3891\n",
      "Specificity: 0.3467\n"
     ]
    },
    {
     "name": "stderr",
     "output_type": "stream",
     "text": [
      "/tmp/ipykernel_187141/2037634495.py:10: FutureWarning: suggest_loguniform has been deprecated in v3.0.0. This feature will be removed in v6.0.0. See https://github.com/optuna/optuna/releases/tag/v3.0.0. Use suggest_float(..., log=True) instead.\n",
      "  learning_rate = trial.suggest_loguniform('learning_rate', 1e-5, 1e-1)\n",
      "/home/gonken/anaconda3/envs/torch/lib/python3.12/site-packages/torch/nn/modules/transformer.py:379: UserWarning: enable_nested_tensor is True, but self.use_nested_tensor is False because encoder_layer.self_attn.batch_first was not True(use batch_first for better inference performance)\n",
      "  warnings.warn(\n",
      "[I 2024-11-28 19:52:58,091] Trial 23 finished with value: 0.628140703517588 and parameters: {'num_heads': 4, 'num_layers': 5, 'd_model': 32, 'dropout': 0.5, 'learning_rate': 0.00020391015744903812}. Best is trial 22 with value: 0.628140703517588.\n"
     ]
    },
    {
     "name": "stdout",
     "output_type": "stream",
     "text": [
      "Accuracy: 57.83%\n",
      "Precision: 0.4596\n",
      "Recall: 0.9921\n",
      "F1 Score: 0.6281\n",
      "Matthews Correlation Coefficient: 0.3891\n",
      "Specificity: 0.3467\n"
     ]
    },
    {
     "name": "stderr",
     "output_type": "stream",
     "text": [
      "/tmp/ipykernel_187141/2037634495.py:10: FutureWarning: suggest_loguniform has been deprecated in v3.0.0. This feature will be removed in v6.0.0. See https://github.com/optuna/optuna/releases/tag/v3.0.0. Use suggest_float(..., log=True) instead.\n",
      "  learning_rate = trial.suggest_loguniform('learning_rate', 1e-5, 1e-1)\n",
      "/home/gonken/anaconda3/envs/torch/lib/python3.12/site-packages/torch/nn/modules/transformer.py:379: UserWarning: enable_nested_tensor is True, but self.use_nested_tensor is False because encoder_layer.self_attn.batch_first was not True(use batch_first for better inference performance)\n",
      "  warnings.warn(\n",
      "[I 2024-11-28 19:55:43,392] Trial 24 finished with value: 0.616580310880829 and parameters: {'num_heads': 4, 'num_layers': 5, 'd_model': 32, 'dropout': 0.5, 'learning_rate': 6.0421692624770786e-05}. Best is trial 22 with value: 0.628140703517588.\n"
     ]
    },
    {
     "name": "stdout",
     "output_type": "stream",
     "text": [
      "Accuracy: 57.83%\n",
      "Precision: 0.4577\n",
      "Recall: 0.9444\n",
      "F1 Score: 0.6166\n",
      "Matthews Correlation Coefficient: 0.3479\n",
      "Specificity: 0.3733\n"
     ]
    },
    {
     "name": "stderr",
     "output_type": "stream",
     "text": [
      "/tmp/ipykernel_187141/2037634495.py:10: FutureWarning: suggest_loguniform has been deprecated in v3.0.0. This feature will be removed in v6.0.0. See https://github.com/optuna/optuna/releases/tag/v3.0.0. Use suggest_float(..., log=True) instead.\n",
      "  learning_rate = trial.suggest_loguniform('learning_rate', 1e-5, 1e-1)\n",
      "/home/gonken/anaconda3/envs/torch/lib/python3.12/site-packages/torch/nn/modules/transformer.py:379: UserWarning: enable_nested_tensor is True, but self.use_nested_tensor is False because encoder_layer.self_attn.batch_first was not True(use batch_first for better inference performance)\n",
      "  warnings.warn(\n",
      "[I 2024-11-28 19:58:29,577] Trial 25 finished with value: 0.6259541984732825 and parameters: {'num_heads': 4, 'num_layers': 5, 'd_model': 32, 'dropout': 0.5, 'learning_rate': 0.00013193812743544738}. Best is trial 22 with value: 0.628140703517588.\n"
     ]
    },
    {
     "name": "stdout",
     "output_type": "stream",
     "text": [
      "Accuracy: 58.12%\n",
      "Precision: 0.4607\n",
      "Recall: 0.9762\n",
      "F1 Score: 0.6260\n",
      "Matthews Correlation Coefficient: 0.3780\n",
      "Specificity: 0.3600\n"
     ]
    },
    {
     "name": "stderr",
     "output_type": "stream",
     "text": [
      "/tmp/ipykernel_187141/2037634495.py:10: FutureWarning: suggest_loguniform has been deprecated in v3.0.0. This feature will be removed in v6.0.0. See https://github.com/optuna/optuna/releases/tag/v3.0.0. Use suggest_float(..., log=True) instead.\n",
      "  learning_rate = trial.suggest_loguniform('learning_rate', 1e-5, 1e-1)\n",
      "/home/gonken/anaconda3/envs/torch/lib/python3.12/site-packages/torch/nn/modules/transformer.py:379: UserWarning: enable_nested_tensor is True, but self.use_nested_tensor is False because encoder_layer.self_attn.batch_first was not True(use batch_first for better inference performance)\n",
      "  warnings.warn(\n",
      "[I 2024-11-28 20:01:13,057] Trial 26 finished with value: 0.624 and parameters: {'num_heads': 4, 'num_layers': 5, 'd_model': 32, 'dropout': 0.45000000000000007, 'learning_rate': 3.6709722845750145e-05}. Best is trial 22 with value: 0.628140703517588.\n"
     ]
    },
    {
     "name": "stdout",
     "output_type": "stream",
     "text": [
      "Accuracy: 59.83%\n",
      "Precision: 0.4699\n",
      "Recall: 0.9286\n",
      "F1 Score: 0.6240\n",
      "Matthews Correlation Coefficient: 0.3612\n",
      "Specificity: 0.4133\n"
     ]
    },
    {
     "name": "stderr",
     "output_type": "stream",
     "text": [
      "/tmp/ipykernel_187141/2037634495.py:10: FutureWarning: suggest_loguniform has been deprecated in v3.0.0. This feature will be removed in v6.0.0. See https://github.com/optuna/optuna/releases/tag/v3.0.0. Use suggest_float(..., log=True) instead.\n",
      "  learning_rate = trial.suggest_loguniform('learning_rate', 1e-5, 1e-1)\n",
      "/home/gonken/anaconda3/envs/torch/lib/python3.12/site-packages/torch/nn/modules/transformer.py:379: UserWarning: enable_nested_tensor is True, but self.use_nested_tensor is False because encoder_layer.self_attn.batch_first was not True(use batch_first for better inference performance)\n",
      "  warnings.warn(\n",
      "[I 2024-11-28 20:03:37,854] Trial 27 finished with value: 0.6005361930294906 and parameters: {'num_heads': 4, 'num_layers': 4, 'd_model': 32, 'dropout': 0.5, 'learning_rate': 1.7166539949872812e-05}. Best is trial 22 with value: 0.628140703517588.\n"
     ]
    },
    {
     "name": "stdout",
     "output_type": "stream",
     "text": [
      "Accuracy: 57.55%\n",
      "Precision: 0.4534\n",
      "Recall: 0.8889\n",
      "F1 Score: 0.6005\n",
      "Matthews Correlation Coefficient: 0.3035\n",
      "Specificity: 0.4000\n"
     ]
    },
    {
     "name": "stderr",
     "output_type": "stream",
     "text": [
      "/tmp/ipykernel_187141/2037634495.py:10: FutureWarning: suggest_loguniform has been deprecated in v3.0.0. This feature will be removed in v6.0.0. See https://github.com/optuna/optuna/releases/tag/v3.0.0. Use suggest_float(..., log=True) instead.\n",
      "  learning_rate = trial.suggest_loguniform('learning_rate', 1e-5, 1e-1)\n",
      "/home/gonken/anaconda3/envs/torch/lib/python3.12/site-packages/torch/nn/modules/transformer.py:379: UserWarning: enable_nested_tensor is True, but self.use_nested_tensor is False because encoder_layer.self_attn.batch_first was not True(use batch_first for better inference performance)\n",
      "  warnings.warn(\n",
      "/home/gonken/anaconda3/envs/torch/lib/python3.12/site-packages/sklearn/metrics/_classification.py:1531: UndefinedMetricWarning: Precision is ill-defined and being set to 0.0 due to no predicted samples. Use `zero_division` parameter to control this behavior.\n",
      "  _warn_prf(average, modifier, f\"{metric.capitalize()} is\", len(result))\n",
      "[I 2024-11-28 20:06:27,669] Trial 28 finished with value: 0.0 and parameters: {'num_heads': 4, 'num_layers': 5, 'd_model': 128, 'dropout': 0.45000000000000007, 'learning_rate': 0.00023483618008180717}. Best is trial 22 with value: 0.628140703517588.\n",
      "/tmp/ipykernel_187141/2037634495.py:10: FutureWarning: suggest_loguniform has been deprecated in v3.0.0. This feature will be removed in v6.0.0. See https://github.com/optuna/optuna/releases/tag/v3.0.0. Use suggest_float(..., log=True) instead.\n",
      "  learning_rate = trial.suggest_loguniform('learning_rate', 1e-5, 1e-1)\n",
      "/home/gonken/anaconda3/envs/torch/lib/python3.12/site-packages/torch/nn/modules/transformer.py:379: UserWarning: enable_nested_tensor is True, but self.use_nested_tensor is False because encoder_layer.self_attn.batch_first was not True(use batch_first for better inference performance)\n",
      "  warnings.warn(\n"
     ]
    },
    {
     "name": "stdout",
     "output_type": "stream",
     "text": [
      "Accuracy: 64.10%\n",
      "Precision: 0.0000\n",
      "Recall: 0.0000\n",
      "F1 Score: 0.0000\n",
      "Matthews Correlation Coefficient: 0.0000\n",
      "Specificity: 1.0000\n"
     ]
    },
    {
     "name": "stderr",
     "output_type": "stream",
     "text": [
      "/home/gonken/anaconda3/envs/torch/lib/python3.12/site-packages/sklearn/metrics/_classification.py:1531: UndefinedMetricWarning: Precision is ill-defined and being set to 0.0 due to no predicted samples. Use `zero_division` parameter to control this behavior.\n",
      "  _warn_prf(average, modifier, f\"{metric.capitalize()} is\", len(result))\n",
      "[I 2024-11-28 20:08:50,532] Trial 29 finished with value: 0.0 and parameters: {'num_heads': 8, 'num_layers': 4, 'd_model': 64, 'dropout': 0.2, 'learning_rate': 0.0007126698619779685}. Best is trial 22 with value: 0.628140703517588.\n",
      "/tmp/ipykernel_187141/2037634495.py:10: FutureWarning: suggest_loguniform has been deprecated in v3.0.0. This feature will be removed in v6.0.0. See https://github.com/optuna/optuna/releases/tag/v3.0.0. Use suggest_float(..., log=True) instead.\n",
      "  learning_rate = trial.suggest_loguniform('learning_rate', 1e-5, 1e-1)\n",
      "/home/gonken/anaconda3/envs/torch/lib/python3.12/site-packages/torch/nn/modules/transformer.py:379: UserWarning: enable_nested_tensor is True, but self.use_nested_tensor is False because encoder_layer.self_attn.batch_first was not True(use batch_first for better inference performance)\n",
      "  warnings.warn(\n"
     ]
    },
    {
     "name": "stdout",
     "output_type": "stream",
     "text": [
      "Accuracy: 64.10%\n",
      "Precision: 0.0000\n",
      "Recall: 0.0000\n",
      "F1 Score: 0.0000\n",
      "Matthews Correlation Coefficient: 0.0000\n",
      "Specificity: 1.0000\n"
     ]
    },
    {
     "name": "stderr",
     "output_type": "stream",
     "text": [
      "[I 2024-11-28 20:11:41,493] Trial 30 finished with value: 0.6246851385390428 and parameters: {'num_heads': 4, 'num_layers': 5, 'd_model': 64, 'dropout': 0.4, 'learning_rate': 0.0002735076418144564}. Best is trial 22 with value: 0.628140703517588.\n"
     ]
    },
    {
     "name": "stdout",
     "output_type": "stream",
     "text": [
      "Accuracy: 57.55%\n",
      "Precision: 0.4576\n",
      "Recall: 0.9841\n",
      "F1 Score: 0.6247\n",
      "Matthews Correlation Coefficient: 0.3783\n",
      "Specificity: 0.3467\n"
     ]
    },
    {
     "name": "stderr",
     "output_type": "stream",
     "text": [
      "/tmp/ipykernel_187141/2037634495.py:10: FutureWarning: suggest_loguniform has been deprecated in v3.0.0. This feature will be removed in v6.0.0. See https://github.com/optuna/optuna/releases/tag/v3.0.0. Use suggest_float(..., log=True) instead.\n",
      "  learning_rate = trial.suggest_loguniform('learning_rate', 1e-5, 1e-1)\n",
      "/home/gonken/anaconda3/envs/torch/lib/python3.12/site-packages/torch/nn/modules/transformer.py:379: UserWarning: enable_nested_tensor is True, but self.use_nested_tensor is False because encoder_layer.self_attn.batch_first was not True(use batch_first for better inference performance)\n",
      "  warnings.warn(\n",
      "[I 2024-11-28 20:14:28,167] Trial 31 finished with value: 0.6246851385390428 and parameters: {'num_heads': 4, 'num_layers': 5, 'd_model': 32, 'dropout': 0.5, 'learning_rate': 0.00011113388194059287}. Best is trial 22 with value: 0.628140703517588.\n"
     ]
    },
    {
     "name": "stdout",
     "output_type": "stream",
     "text": [
      "Accuracy: 57.55%\n",
      "Precision: 0.4576\n",
      "Recall: 0.9841\n",
      "F1 Score: 0.6247\n",
      "Matthews Correlation Coefficient: 0.3783\n",
      "Specificity: 0.3467\n"
     ]
    },
    {
     "name": "stderr",
     "output_type": "stream",
     "text": [
      "/tmp/ipykernel_187141/2037634495.py:10: FutureWarning: suggest_loguniform has been deprecated in v3.0.0. This feature will be removed in v6.0.0. See https://github.com/optuna/optuna/releases/tag/v3.0.0. Use suggest_float(..., log=True) instead.\n",
      "  learning_rate = trial.suggest_loguniform('learning_rate', 1e-5, 1e-1)\n",
      "/home/gonken/anaconda3/envs/torch/lib/python3.12/site-packages/torch/nn/modules/transformer.py:379: UserWarning: enable_nested_tensor is True, but self.use_nested_tensor is False because encoder_layer.self_attn.batch_first was not True(use batch_first for better inference performance)\n",
      "  warnings.warn(\n",
      "[I 2024-11-28 20:17:13,873] Trial 32 finished with value: 0.5994397759103641 and parameters: {'num_heads': 4, 'num_layers': 5, 'd_model': 32, 'dropout': 0.5, 'learning_rate': 0.0006989729655520919}. Best is trial 22 with value: 0.628140703517588.\n"
     ]
    },
    {
     "name": "stdout",
     "output_type": "stream",
     "text": [
      "Accuracy: 59.26%\n",
      "Precision: 0.4632\n",
      "Recall: 0.8492\n",
      "F1 Score: 0.5994\n",
      "Matthews Correlation Coefficient: 0.3015\n",
      "Specificity: 0.4489\n"
     ]
    },
    {
     "name": "stderr",
     "output_type": "stream",
     "text": [
      "/tmp/ipykernel_187141/2037634495.py:10: FutureWarning: suggest_loguniform has been deprecated in v3.0.0. This feature will be removed in v6.0.0. See https://github.com/optuna/optuna/releases/tag/v3.0.0. Use suggest_float(..., log=True) instead.\n",
      "  learning_rate = trial.suggest_loguniform('learning_rate', 1e-5, 1e-1)\n",
      "/home/gonken/anaconda3/envs/torch/lib/python3.12/site-packages/torch/nn/modules/transformer.py:379: UserWarning: enable_nested_tensor is True, but self.use_nested_tensor is False because encoder_layer.self_attn.batch_first was not True(use batch_first for better inference performance)\n",
      "  warnings.warn(\n",
      "[I 2024-11-28 20:19:57,700] Trial 33 finished with value: 0.6181818181818182 and parameters: {'num_heads': 4, 'num_layers': 5, 'd_model': 32, 'dropout': 0.45000000000000007, 'learning_rate': 0.00010082113335718151}. Best is trial 22 with value: 0.628140703517588.\n"
     ]
    },
    {
     "name": "stdout",
     "output_type": "stream",
     "text": [
      "Accuracy: 58.12%\n",
      "Precision: 0.4595\n",
      "Recall: 0.9444\n",
      "F1 Score: 0.6182\n",
      "Matthews Correlation Coefficient: 0.3515\n",
      "Specificity: 0.3778\n"
     ]
    },
    {
     "name": "stderr",
     "output_type": "stream",
     "text": [
      "/tmp/ipykernel_187141/2037634495.py:10: FutureWarning: suggest_loguniform has been deprecated in v3.0.0. This feature will be removed in v6.0.0. See https://github.com/optuna/optuna/releases/tag/v3.0.0. Use suggest_float(..., log=True) instead.\n",
      "  learning_rate = trial.suggest_loguniform('learning_rate', 1e-5, 1e-1)\n",
      "/home/gonken/anaconda3/envs/torch/lib/python3.12/site-packages/torch/nn/modules/transformer.py:379: UserWarning: enable_nested_tensor is True, but self.use_nested_tensor is False because encoder_layer.self_attn.batch_first was not True(use batch_first for better inference performance)\n",
      "  warnings.warn(\n",
      "[I 2024-11-28 20:22:18,528] Trial 34 finished with value: 0.6253229974160207 and parameters: {'num_heads': 4, 'num_layers': 4, 'd_model': 32, 'dropout': 0.5, 'learning_rate': 3.138148807011191e-05}. Best is trial 22 with value: 0.628140703517588.\n"
     ]
    },
    {
     "name": "stdout",
     "output_type": "stream",
     "text": [
      "Accuracy: 58.69%\n",
      "Precision: 0.4636\n",
      "Recall: 0.9603\n",
      "F1 Score: 0.6253\n",
      "Matthews Correlation Coefficient: 0.3714\n",
      "Specificity: 0.3778\n"
     ]
    },
    {
     "name": "stderr",
     "output_type": "stream",
     "text": [
      "/tmp/ipykernel_187141/2037634495.py:10: FutureWarning: suggest_loguniform has been deprecated in v3.0.0. This feature will be removed in v6.0.0. See https://github.com/optuna/optuna/releases/tag/v3.0.0. Use suggest_float(..., log=True) instead.\n",
      "  learning_rate = trial.suggest_loguniform('learning_rate', 1e-5, 1e-1)\n",
      "/home/gonken/anaconda3/envs/torch/lib/python3.12/site-packages/torch/nn/modules/transformer.py:379: UserWarning: enable_nested_tensor is True, but self.use_nested_tensor is False because encoder_layer.self_attn.batch_first was not True(use batch_first for better inference performance)\n",
      "  warnings.warn(\n",
      "[I 2024-11-28 20:24:23,816] Trial 35 finished with value: 0.24858757062146894 and parameters: {'num_heads': 4, 'num_layers': 3, 'd_model': 32, 'dropout': 0.45000000000000007, 'learning_rate': 0.00011750021768094866}. Best is trial 22 with value: 0.628140703517588.\n"
     ]
    },
    {
     "name": "stdout",
     "output_type": "stream",
     "text": [
      "Accuracy: 62.11%\n",
      "Precision: 0.4314\n",
      "Recall: 0.1746\n",
      "F1 Score: 0.2486\n",
      "Matthews Correlation Coefficient: 0.0622\n",
      "Specificity: 0.8711\n"
     ]
    },
    {
     "name": "stderr",
     "output_type": "stream",
     "text": [
      "/tmp/ipykernel_187141/2037634495.py:10: FutureWarning: suggest_loguniform has been deprecated in v3.0.0. This feature will be removed in v6.0.0. See https://github.com/optuna/optuna/releases/tag/v3.0.0. Use suggest_float(..., log=True) instead.\n",
      "  learning_rate = trial.suggest_loguniform('learning_rate', 1e-5, 1e-1)\n",
      "/home/gonken/anaconda3/envs/torch/lib/python3.12/site-packages/torch/nn/modules/transformer.py:379: UserWarning: enable_nested_tensor is True, but self.use_nested_tensor is False because encoder_layer.self_attn.batch_first was not True(use batch_first for better inference performance)\n",
      "  warnings.warn(\n",
      "/home/gonken/anaconda3/envs/torch/lib/python3.12/site-packages/sklearn/metrics/_classification.py:1531: UndefinedMetricWarning: Precision is ill-defined and being set to 0.0 due to no predicted samples. Use `zero_division` parameter to control this behavior.\n",
      "  _warn_prf(average, modifier, f\"{metric.capitalize()} is\", len(result))\n",
      "[I 2024-11-28 20:27:48,586] Trial 36 finished with value: 0.0 and parameters: {'num_heads': 4, 'num_layers': 5, 'd_model': 64, 'dropout': 0.4, 'learning_rate': 0.0006467977649708419}. Best is trial 22 with value: 0.628140703517588.\n",
      "/tmp/ipykernel_187141/2037634495.py:10: FutureWarning: suggest_loguniform has been deprecated in v3.0.0. This feature will be removed in v6.0.0. See https://github.com/optuna/optuna/releases/tag/v3.0.0. Use suggest_float(..., log=True) instead.\n",
      "  learning_rate = trial.suggest_loguniform('learning_rate', 1e-5, 1e-1)\n",
      "/home/gonken/anaconda3/envs/torch/lib/python3.12/site-packages/torch/nn/modules/transformer.py:379: UserWarning: enable_nested_tensor is True, but self.use_nested_tensor is False because encoder_layer.self_attn.batch_first was not True(use batch_first for better inference performance)\n",
      "  warnings.warn(\n"
     ]
    },
    {
     "name": "stdout",
     "output_type": "stream",
     "text": [
      "Accuracy: 64.10%\n",
      "Precision: 0.0000\n",
      "Recall: 0.0000\n",
      "F1 Score: 0.0000\n",
      "Matthews Correlation Coefficient: 0.0000\n",
      "Specificity: 1.0000\n"
     ]
    },
    {
     "name": "stderr",
     "output_type": "stream",
     "text": [
      "[I 2024-11-28 20:31:14,303] Trial 37 finished with value: 0.38461538461538464 and parameters: {'num_heads': 4, 'num_layers': 4, 'd_model': 32, 'dropout': 0.25, 'learning_rate': 8.439904253991151e-05}. Best is trial 22 with value: 0.628140703517588.\n"
     ]
    },
    {
     "name": "stdout",
     "output_type": "stream",
     "text": [
      "Accuracy: 63.53%\n",
      "Precision: 0.4878\n",
      "Recall: 0.3175\n",
      "F1 Score: 0.3846\n",
      "Matthews Correlation Coefficient: 0.1483\n",
      "Specificity: 0.8133\n"
     ]
    },
    {
     "name": "stderr",
     "output_type": "stream",
     "text": [
      "/tmp/ipykernel_187141/2037634495.py:10: FutureWarning: suggest_loguniform has been deprecated in v3.0.0. This feature will be removed in v6.0.0. See https://github.com/optuna/optuna/releases/tag/v3.0.0. Use suggest_float(..., log=True) instead.\n",
      "  learning_rate = trial.suggest_loguniform('learning_rate', 1e-5, 1e-1)\n",
      "/home/gonken/anaconda3/envs/torch/lib/python3.12/site-packages/torch/nn/modules/transformer.py:379: UserWarning: enable_nested_tensor is True, but self.use_nested_tensor is False because encoder_layer.self_attn.batch_first was not True(use batch_first for better inference performance)\n",
      "  warnings.warn(\n",
      "[I 2024-11-28 20:34:53,836] Trial 38 finished with value: 0.616580310880829 and parameters: {'num_heads': 4, 'num_layers': 5, 'd_model': 32, 'dropout': 0.35, 'learning_rate': 0.0002163529050807547}. Best is trial 22 with value: 0.628140703517588.\n"
     ]
    },
    {
     "name": "stdout",
     "output_type": "stream",
     "text": [
      "Accuracy: 57.83%\n",
      "Precision: 0.4577\n",
      "Recall: 0.9444\n",
      "F1 Score: 0.6166\n",
      "Matthews Correlation Coefficient: 0.3479\n",
      "Specificity: 0.3733\n"
     ]
    },
    {
     "name": "stderr",
     "output_type": "stream",
     "text": [
      "/tmp/ipykernel_187141/2037634495.py:10: FutureWarning: suggest_loguniform has been deprecated in v3.0.0. This feature will be removed in v6.0.0. See https://github.com/optuna/optuna/releases/tag/v3.0.0. Use suggest_float(..., log=True) instead.\n",
      "  learning_rate = trial.suggest_loguniform('learning_rate', 1e-5, 1e-1)\n",
      "/home/gonken/anaconda3/envs/torch/lib/python3.12/site-packages/torch/nn/modules/transformer.py:379: UserWarning: enable_nested_tensor is True, but self.use_nested_tensor is False because encoder_layer.self_attn.batch_first was not True(use batch_first for better inference performance)\n",
      "  warnings.warn(\n",
      "/home/gonken/anaconda3/envs/torch/lib/python3.12/site-packages/sklearn/metrics/_classification.py:1531: UndefinedMetricWarning: Precision is ill-defined and being set to 0.0 due to no predicted samples. Use `zero_division` parameter to control this behavior.\n",
      "  _warn_prf(average, modifier, f\"{metric.capitalize()} is\", len(result))\n",
      "[I 2024-11-28 20:38:11,993] Trial 39 finished with value: 0.0 and parameters: {'num_heads': 8, 'num_layers': 4, 'd_model': 128, 'dropout': 0.5, 'learning_rate': 0.001553278497974592}. Best is trial 22 with value: 0.628140703517588.\n",
      "/tmp/ipykernel_187141/2037634495.py:10: FutureWarning: suggest_loguniform has been deprecated in v3.0.0. This feature will be removed in v6.0.0. See https://github.com/optuna/optuna/releases/tag/v3.0.0. Use suggest_float(..., log=True) instead.\n",
      "  learning_rate = trial.suggest_loguniform('learning_rate', 1e-5, 1e-1)\n",
      "/home/gonken/anaconda3/envs/torch/lib/python3.12/site-packages/torch/nn/modules/transformer.py:379: UserWarning: enable_nested_tensor is True, but self.use_nested_tensor is False because encoder_layer.self_attn.batch_first was not True(use batch_first for better inference performance)\n",
      "  warnings.warn(\n"
     ]
    },
    {
     "name": "stdout",
     "output_type": "stream",
     "text": [
      "Accuracy: 64.10%\n",
      "Precision: 0.0000\n",
      "Recall: 0.0000\n",
      "F1 Score: 0.0000\n",
      "Matthews Correlation Coefficient: 0.0000\n",
      "Specificity: 1.0000\n"
     ]
    },
    {
     "name": "stderr",
     "output_type": "stream",
     "text": [
      "[I 2024-11-28 20:41:28,382] Trial 40 finished with value: 0.5223367697594502 and parameters: {'num_heads': 4, 'num_layers': 4, 'd_model': 64, 'dropout': 0.45000000000000007, 'learning_rate': 2.27781873532099e-05}. Best is trial 22 with value: 0.628140703517588.\n"
     ]
    },
    {
     "name": "stdout",
     "output_type": "stream",
     "text": [
      "Accuracy: 60.40%\n",
      "Precision: 0.4606\n",
      "Recall: 0.6032\n",
      "F1 Score: 0.5223\n",
      "Matthews Correlation Coefficient: 0.1995\n",
      "Specificity: 0.6044\n"
     ]
    },
    {
     "name": "stderr",
     "output_type": "stream",
     "text": [
      "/tmp/ipykernel_187141/2037634495.py:10: FutureWarning: suggest_loguniform has been deprecated in v3.0.0. This feature will be removed in v6.0.0. See https://github.com/optuna/optuna/releases/tag/v3.0.0. Use suggest_float(..., log=True) instead.\n",
      "  learning_rate = trial.suggest_loguniform('learning_rate', 1e-5, 1e-1)\n",
      "/home/gonken/anaconda3/envs/torch/lib/python3.12/site-packages/torch/nn/modules/transformer.py:379: UserWarning: enable_nested_tensor is True, but self.use_nested_tensor is False because encoder_layer.self_attn.batch_first was not True(use batch_first for better inference performance)\n",
      "  warnings.warn(\n",
      "[I 2024-11-28 20:44:40,198] Trial 41 finished with value: 0.6272493573264781 and parameters: {'num_heads': 4, 'num_layers': 4, 'd_model': 32, 'dropout': 0.5, 'learning_rate': 4.474112480238049e-05}. Best is trial 22 with value: 0.628140703517588.\n"
     ]
    },
    {
     "name": "stdout",
     "output_type": "stream",
     "text": [
      "Accuracy: 58.69%\n",
      "Precision: 0.4639\n",
      "Recall: 0.9683\n",
      "F1 Score: 0.6272\n",
      "Matthews Correlation Coefficient: 0.3781\n",
      "Specificity: 0.3733\n"
     ]
    },
    {
     "name": "stderr",
     "output_type": "stream",
     "text": [
      "/tmp/ipykernel_187141/2037634495.py:10: FutureWarning: suggest_loguniform has been deprecated in v3.0.0. This feature will be removed in v6.0.0. See https://github.com/optuna/optuna/releases/tag/v3.0.0. Use suggest_float(..., log=True) instead.\n",
      "  learning_rate = trial.suggest_loguniform('learning_rate', 1e-5, 1e-1)\n",
      "/home/gonken/anaconda3/envs/torch/lib/python3.12/site-packages/torch/nn/modules/transformer.py:379: UserWarning: enable_nested_tensor is True, but self.use_nested_tensor is False because encoder_layer.self_attn.batch_first was not True(use batch_first for better inference performance)\n",
      "  warnings.warn(\n",
      "[I 2024-11-28 20:47:23,277] Trial 42 finished with value: 0.5730659025787965 and parameters: {'num_heads': 4, 'num_layers': 3, 'd_model': 32, 'dropout': 0.5, 'learning_rate': 6.264513735582374e-05}. Best is trial 22 with value: 0.628140703517588.\n"
     ]
    },
    {
     "name": "stdout",
     "output_type": "stream",
     "text": [
      "Accuracy: 57.55%\n",
      "Precision: 0.4484\n",
      "Recall: 0.7937\n",
      "F1 Score: 0.5731\n",
      "Matthews Correlation Coefficient: 0.2461\n",
      "Specificity: 0.4533\n"
     ]
    },
    {
     "name": "stderr",
     "output_type": "stream",
     "text": [
      "/tmp/ipykernel_187141/2037634495.py:10: FutureWarning: suggest_loguniform has been deprecated in v3.0.0. This feature will be removed in v6.0.0. See https://github.com/optuna/optuna/releases/tag/v3.0.0. Use suggest_float(..., log=True) instead.\n",
      "  learning_rate = trial.suggest_loguniform('learning_rate', 1e-5, 1e-1)\n",
      "/home/gonken/anaconda3/envs/torch/lib/python3.12/site-packages/torch/nn/modules/transformer.py:379: UserWarning: enable_nested_tensor is True, but self.use_nested_tensor is False because encoder_layer.self_attn.batch_first was not True(use batch_first for better inference performance)\n",
      "  warnings.warn(\n",
      "[I 2024-11-28 20:50:00,412] Trial 43 finished with value: 0.5431309904153354 and parameters: {'num_heads': 4, 'num_layers': 3, 'd_model': 32, 'dropout': 0.45000000000000007, 'learning_rate': 0.00015860730835494684}. Best is trial 22 with value: 0.628140703517588.\n"
     ]
    },
    {
     "name": "stdout",
     "output_type": "stream",
     "text": [
      "Accuracy: 59.26%\n",
      "Precision: 0.4545\n",
      "Recall: 0.6746\n",
      "F1 Score: 0.5431\n",
      "Matthews Correlation Coefficient: 0.2127\n",
      "Specificity: 0.5467\n"
     ]
    },
    {
     "name": "stderr",
     "output_type": "stream",
     "text": [
      "/tmp/ipykernel_187141/2037634495.py:10: FutureWarning: suggest_loguniform has been deprecated in v3.0.0. This feature will be removed in v6.0.0. See https://github.com/optuna/optuna/releases/tag/v3.0.0. Use suggest_float(..., log=True) instead.\n",
      "  learning_rate = trial.suggest_loguniform('learning_rate', 1e-5, 1e-1)\n",
      "/home/gonken/anaconda3/envs/torch/lib/python3.12/site-packages/torch/nn/modules/transformer.py:379: UserWarning: enable_nested_tensor is True, but self.use_nested_tensor is False because encoder_layer.self_attn.batch_first was not True(use batch_first for better inference performance)\n",
      "  warnings.warn(\n",
      "[I 2024-11-28 20:53:14,474] Trial 44 finished with value: 0.5548780487804879 and parameters: {'num_heads': 4, 'num_layers': 4, 'd_model': 32, 'dropout': 0.5, 'learning_rate': 5.111501119999971e-05}. Best is trial 22 with value: 0.628140703517588.\n"
     ]
    },
    {
     "name": "stdout",
     "output_type": "stream",
     "text": [
      "Accuracy: 58.40%\n",
      "Precision: 0.4505\n",
      "Recall: 0.7222\n",
      "F1 Score: 0.5549\n",
      "Matthews Correlation Coefficient: 0.2221\n",
      "Specificity: 0.5067\n"
     ]
    },
    {
     "name": "stderr",
     "output_type": "stream",
     "text": [
      "/tmp/ipykernel_187141/2037634495.py:10: FutureWarning: suggest_loguniform has been deprecated in v3.0.0. This feature will be removed in v6.0.0. See https://github.com/optuna/optuna/releases/tag/v3.0.0. Use suggest_float(..., log=True) instead.\n",
      "  learning_rate = trial.suggest_loguniform('learning_rate', 1e-5, 1e-1)\n",
      "/home/gonken/anaconda3/envs/torch/lib/python3.12/site-packages/torch/nn/modules/transformer.py:379: UserWarning: enable_nested_tensor is True, but self.use_nested_tensor is False because encoder_layer.self_attn.batch_first was not True(use batch_first for better inference performance)\n",
      "  warnings.warn(\n",
      "[I 2024-11-28 20:54:34,579] Trial 45 finished with value: 0.5037037037037037 and parameters: {'num_heads': 4, 'num_layers': 1, 'd_model': 32, 'dropout': 0.5, 'learning_rate': 0.00035596273358270893}. Best is trial 22 with value: 0.628140703517588.\n"
     ]
    },
    {
     "name": "stdout",
     "output_type": "stream",
     "text": [
      "Accuracy: 61.82%\n",
      "Precision: 0.4722\n",
      "Recall: 0.5397\n",
      "F1 Score: 0.5037\n",
      "Matthews Correlation Coefficient: 0.1969\n",
      "Specificity: 0.6622\n"
     ]
    },
    {
     "name": "stderr",
     "output_type": "stream",
     "text": [
      "/tmp/ipykernel_187141/2037634495.py:10: FutureWarning: suggest_loguniform has been deprecated in v3.0.0. This feature will be removed in v6.0.0. See https://github.com/optuna/optuna/releases/tag/v3.0.0. Use suggest_float(..., log=True) instead.\n",
      "  learning_rate = trial.suggest_loguniform('learning_rate', 1e-5, 1e-1)\n",
      "/home/gonken/anaconda3/envs/torch/lib/python3.12/site-packages/torch/nn/modules/transformer.py:379: UserWarning: enable_nested_tensor is True, but self.use_nested_tensor is False because encoder_layer.self_attn.batch_first was not True(use batch_first for better inference performance)\n",
      "  warnings.warn(\n",
      "[I 2024-11-28 20:58:18,429] Trial 46 finished with value: 0.629156010230179 and parameters: {'num_heads': 4, 'num_layers': 5, 'd_model': 32, 'dropout': 0.45000000000000007, 'learning_rate': 0.0002694475272998857}. Best is trial 46 with value: 0.629156010230179.\n"
     ]
    },
    {
     "name": "stdout",
     "output_type": "stream",
     "text": [
      "Accuracy: 58.69%\n",
      "Precision: 0.4642\n",
      "Recall: 0.9762\n",
      "F1 Score: 0.6292\n",
      "Matthews Correlation Coefficient: 0.3849\n",
      "Specificity: 0.3689\n"
     ]
    },
    {
     "name": "stderr",
     "output_type": "stream",
     "text": [
      "/tmp/ipykernel_187141/2037634495.py:10: FutureWarning: suggest_loguniform has been deprecated in v3.0.0. This feature will be removed in v6.0.0. See https://github.com/optuna/optuna/releases/tag/v3.0.0. Use suggest_float(..., log=True) instead.\n",
      "  learning_rate = trial.suggest_loguniform('learning_rate', 1e-5, 1e-1)\n",
      "/home/gonken/anaconda3/envs/torch/lib/python3.12/site-packages/torch/nn/modules/transformer.py:379: UserWarning: enable_nested_tensor is True, but self.use_nested_tensor is False because encoder_layer.self_attn.batch_first was not True(use batch_first for better inference performance)\n",
      "  warnings.warn(\n",
      "/home/gonken/anaconda3/envs/torch/lib/python3.12/site-packages/sklearn/metrics/_classification.py:1531: UndefinedMetricWarning: Precision is ill-defined and being set to 0.0 due to no predicted samples. Use `zero_division` parameter to control this behavior.\n",
      "  _warn_prf(average, modifier, f\"{metric.capitalize()} is\", len(result))\n",
      "[I 2024-11-28 21:01:37,042] Trial 47 finished with value: 0.0 and parameters: {'num_heads': 8, 'num_layers': 4, 'd_model': 128, 'dropout': 0.45000000000000007, 'learning_rate': 0.0005470400883643458}. Best is trial 46 with value: 0.629156010230179.\n",
      "/tmp/ipykernel_187141/2037634495.py:10: FutureWarning: suggest_loguniform has been deprecated in v3.0.0. This feature will be removed in v6.0.0. See https://github.com/optuna/optuna/releases/tag/v3.0.0. Use suggest_float(..., log=True) instead.\n",
      "  learning_rate = trial.suggest_loguniform('learning_rate', 1e-5, 1e-1)\n",
      "/home/gonken/anaconda3/envs/torch/lib/python3.12/site-packages/torch/nn/modules/transformer.py:379: UserWarning: enable_nested_tensor is True, but self.use_nested_tensor is False because encoder_layer.self_attn.batch_first was not True(use batch_first for better inference performance)\n",
      "  warnings.warn(\n"
     ]
    },
    {
     "name": "stdout",
     "output_type": "stream",
     "text": [
      "Accuracy: 64.10%\n",
      "Precision: 0.0000\n",
      "Recall: 0.0000\n",
      "F1 Score: 0.0000\n",
      "Matthews Correlation Coefficient: 0.0000\n",
      "Specificity: 1.0000\n"
     ]
    },
    {
     "name": "stderr",
     "output_type": "stream",
     "text": [
      "[I 2024-11-28 21:04:16,460] Trial 48 finished with value: 0.6098901098901099 and parameters: {'num_heads': 4, 'num_layers': 3, 'd_model': 32, 'dropout': 0.4, 'learning_rate': 0.0002729692083199856}. Best is trial 46 with value: 0.629156010230179.\n"
     ]
    },
    {
     "name": "stdout",
     "output_type": "stream",
     "text": [
      "Accuracy: 59.54%\n",
      "Precision: 0.4664\n",
      "Recall: 0.8810\n",
      "F1 Score: 0.6099\n",
      "Matthews Correlation Coefficient: 0.3250\n",
      "Specificity: 0.4356\n"
     ]
    },
    {
     "name": "stderr",
     "output_type": "stream",
     "text": [
      "/tmp/ipykernel_187141/2037634495.py:10: FutureWarning: suggest_loguniform has been deprecated in v3.0.0. This feature will be removed in v6.0.0. See https://github.com/optuna/optuna/releases/tag/v3.0.0. Use suggest_float(..., log=True) instead.\n",
      "  learning_rate = trial.suggest_loguniform('learning_rate', 1e-5, 1e-1)\n",
      "/home/gonken/anaconda3/envs/torch/lib/python3.12/site-packages/torch/nn/modules/transformer.py:379: UserWarning: enable_nested_tensor is True, but self.use_nested_tensor is False because encoder_layer.self_attn.batch_first was not True(use batch_first for better inference performance)\n",
      "  warnings.warn(\n",
      "[I 2024-11-28 21:08:02,174] Trial 49 finished with value: 0.6121372031662269 and parameters: {'num_heads': 4, 'num_layers': 5, 'd_model': 32, 'dropout': 0.45000000000000007, 'learning_rate': 0.0011085643634859551}. Best is trial 46 with value: 0.629156010230179.\n"
     ]
    },
    {
     "name": "stdout",
     "output_type": "stream",
     "text": [
      "Accuracy: 58.12%\n",
      "Precision: 0.4585\n",
      "Recall: 0.9206\n",
      "F1 Score: 0.6121\n",
      "Matthews Correlation Coefficient: 0.3334\n",
      "Specificity: 0.3911\n"
     ]
    },
    {
     "name": "stderr",
     "output_type": "stream",
     "text": [
      "/tmp/ipykernel_187141/2037634495.py:10: FutureWarning: suggest_loguniform has been deprecated in v3.0.0. This feature will be removed in v6.0.0. See https://github.com/optuna/optuna/releases/tag/v3.0.0. Use suggest_float(..., log=True) instead.\n",
      "  learning_rate = trial.suggest_loguniform('learning_rate', 1e-5, 1e-1)\n",
      "/home/gonken/anaconda3/envs/torch/lib/python3.12/site-packages/torch/nn/modules/transformer.py:379: UserWarning: enable_nested_tensor is True, but self.use_nested_tensor is False because encoder_layer.self_attn.batch_first was not True(use batch_first for better inference performance)\n",
      "  warnings.warn(\n",
      "/home/gonken/anaconda3/envs/torch/lib/python3.12/site-packages/sklearn/metrics/_classification.py:1531: UndefinedMetricWarning: Precision is ill-defined and being set to 0.0 due to no predicted samples. Use `zero_division` parameter to control this behavior.\n",
      "  _warn_prf(average, modifier, f\"{metric.capitalize()} is\", len(result))\n",
      "[I 2024-11-28 21:11:19,828] Trial 50 finished with value: 0.0 and parameters: {'num_heads': 2, 'num_layers': 4, 'd_model': 32, 'dropout': 0.45000000000000007, 'learning_rate': 0.0020328381489570584}. Best is trial 46 with value: 0.629156010230179.\n",
      "/tmp/ipykernel_187141/2037634495.py:10: FutureWarning: suggest_loguniform has been deprecated in v3.0.0. This feature will be removed in v6.0.0. See https://github.com/optuna/optuna/releases/tag/v3.0.0. Use suggest_float(..., log=True) instead.\n",
      "  learning_rate = trial.suggest_loguniform('learning_rate', 1e-5, 1e-1)\n",
      "/home/gonken/anaconda3/envs/torch/lib/python3.12/site-packages/torch/nn/modules/transformer.py:379: UserWarning: enable_nested_tensor is True, but self.use_nested_tensor is False because encoder_layer.self_attn.batch_first was not True(use batch_first for better inference performance)\n",
      "  warnings.warn(\n"
     ]
    },
    {
     "name": "stdout",
     "output_type": "stream",
     "text": [
      "Accuracy: 64.10%\n",
      "Precision: 0.0000\n",
      "Recall: 0.0000\n",
      "F1 Score: 0.0000\n",
      "Matthews Correlation Coefficient: 0.0000\n",
      "Specificity: 1.0000\n"
     ]
    },
    {
     "name": "stderr",
     "output_type": "stream",
     "text": [
      "/home/gonken/anaconda3/envs/torch/lib/python3.12/site-packages/sklearn/metrics/_classification.py:1531: UndefinedMetricWarning: Precision is ill-defined and being set to 0.0 due to no predicted samples. Use `zero_division` parameter to control this behavior.\n",
      "  _warn_prf(average, modifier, f\"{metric.capitalize()} is\", len(result))\n",
      "[I 2024-11-28 21:15:09,243] Trial 51 finished with value: 0.0 and parameters: {'num_heads': 4, 'num_layers': 5, 'd_model': 32, 'dropout': 0.5, 'learning_rate': 0.00016056464553078134}. Best is trial 46 with value: 0.629156010230179.\n",
      "/tmp/ipykernel_187141/2037634495.py:10: FutureWarning: suggest_loguniform has been deprecated in v3.0.0. This feature will be removed in v6.0.0. See https://github.com/optuna/optuna/releases/tag/v3.0.0. Use suggest_float(..., log=True) instead.\n",
      "  learning_rate = trial.suggest_loguniform('learning_rate', 1e-5, 1e-1)\n",
      "/home/gonken/anaconda3/envs/torch/lib/python3.12/site-packages/torch/nn/modules/transformer.py:379: UserWarning: enable_nested_tensor is True, but self.use_nested_tensor is False because encoder_layer.self_attn.batch_first was not True(use batch_first for better inference performance)\n",
      "  warnings.warn(\n"
     ]
    },
    {
     "name": "stdout",
     "output_type": "stream",
     "text": [
      "Accuracy: 64.10%\n",
      "Precision: 0.0000\n",
      "Recall: 0.0000\n",
      "F1 Score: 0.0000\n",
      "Matthews Correlation Coefficient: 0.0000\n",
      "Specificity: 1.0000\n"
     ]
    },
    {
     "name": "stderr",
     "output_type": "stream",
     "text": [
      "/home/gonken/anaconda3/envs/torch/lib/python3.12/site-packages/sklearn/metrics/_classification.py:1531: UndefinedMetricWarning: Precision is ill-defined and being set to 0.0 due to no predicted samples. Use `zero_division` parameter to control this behavior.\n",
      "  _warn_prf(average, modifier, f\"{metric.capitalize()} is\", len(result))\n",
      "[I 2024-11-28 21:18:53,534] Trial 52 finished with value: 0.0 and parameters: {'num_heads': 4, 'num_layers': 5, 'd_model': 32, 'dropout': 0.5, 'learning_rate': 0.0002969431596659384}. Best is trial 46 with value: 0.629156010230179.\n",
      "/tmp/ipykernel_187141/2037634495.py:10: FutureWarning: suggest_loguniform has been deprecated in v3.0.0. This feature will be removed in v6.0.0. See https://github.com/optuna/optuna/releases/tag/v3.0.0. Use suggest_float(..., log=True) instead.\n",
      "  learning_rate = trial.suggest_loguniform('learning_rate', 1e-5, 1e-1)\n",
      "/home/gonken/anaconda3/envs/torch/lib/python3.12/site-packages/torch/nn/modules/transformer.py:379: UserWarning: enable_nested_tensor is True, but self.use_nested_tensor is False because encoder_layer.self_attn.batch_first was not True(use batch_first for better inference performance)\n",
      "  warnings.warn(\n"
     ]
    },
    {
     "name": "stdout",
     "output_type": "stream",
     "text": [
      "Accuracy: 64.10%\n",
      "Precision: 0.0000\n",
      "Recall: 0.0000\n",
      "F1 Score: 0.0000\n",
      "Matthews Correlation Coefficient: 0.0000\n",
      "Specificity: 1.0000\n"
     ]
    },
    {
     "name": "stderr",
     "output_type": "stream",
     "text": [
      "[I 2024-11-28 21:22:39,669] Trial 53 finished with value: 0.6243654822335025 and parameters: {'num_heads': 4, 'num_layers': 5, 'd_model': 32, 'dropout': 0.5, 'learning_rate': 8.069518898860847e-05}. Best is trial 46 with value: 0.629156010230179.\n"
     ]
    },
    {
     "name": "stdout",
     "output_type": "stream",
     "text": [
      "Accuracy: 57.83%\n",
      "Precision: 0.4590\n",
      "Recall: 0.9762\n",
      "F1 Score: 0.6244\n",
      "Matthews Correlation Coefficient: 0.3745\n",
      "Specificity: 0.3556\n"
     ]
    },
    {
     "name": "stderr",
     "output_type": "stream",
     "text": [
      "/tmp/ipykernel_187141/2037634495.py:10: FutureWarning: suggest_loguniform has been deprecated in v3.0.0. This feature will be removed in v6.0.0. See https://github.com/optuna/optuna/releases/tag/v3.0.0. Use suggest_float(..., log=True) instead.\n",
      "  learning_rate = trial.suggest_loguniform('learning_rate', 1e-5, 1e-1)\n",
      "/home/gonken/anaconda3/envs/torch/lib/python3.12/site-packages/torch/nn/modules/transformer.py:379: UserWarning: enable_nested_tensor is True, but self.use_nested_tensor is False because encoder_layer.self_attn.batch_first was not True(use batch_first for better inference performance)\n",
      "  warnings.warn(\n",
      "[I 2024-11-28 21:26:20,277] Trial 54 finished with value: 0.6294416243654822 and parameters: {'num_heads': 4, 'num_layers': 5, 'd_model': 32, 'dropout': 0.5, 'learning_rate': 0.00014611773136497693}. Best is trial 54 with value: 0.6294416243654822.\n"
     ]
    },
    {
     "name": "stdout",
     "output_type": "stream",
     "text": [
      "Accuracy: 58.40%\n",
      "Precision: 0.4627\n",
      "Recall: 0.9841\n",
      "F1 Score: 0.6294\n",
      "Matthews Correlation Coefficient: 0.3885\n",
      "Specificity: 0.3600\n"
     ]
    },
    {
     "name": "stderr",
     "output_type": "stream",
     "text": [
      "/tmp/ipykernel_187141/2037634495.py:10: FutureWarning: suggest_loguniform has been deprecated in v3.0.0. This feature will be removed in v6.0.0. See https://github.com/optuna/optuna/releases/tag/v3.0.0. Use suggest_float(..., log=True) instead.\n",
      "  learning_rate = trial.suggest_loguniform('learning_rate', 1e-5, 1e-1)\n",
      "/home/gonken/anaconda3/envs/torch/lib/python3.12/site-packages/torch/nn/modules/transformer.py:379: UserWarning: enable_nested_tensor is True, but self.use_nested_tensor is False because encoder_layer.self_attn.batch_first was not True(use batch_first for better inference performance)\n",
      "  warnings.warn(\n",
      "[I 2024-11-28 21:29:38,525] Trial 55 finished with value: 0.6212121212121212 and parameters: {'num_heads': 4, 'num_layers': 4, 'd_model': 32, 'dropout': 0.45000000000000007, 'learning_rate': 0.0005176508960321835}. Best is trial 54 with value: 0.6294416243654822.\n"
     ]
    },
    {
     "name": "stdout",
     "output_type": "stream",
     "text": [
      "Accuracy: 57.26%\n",
      "Precision: 0.4556\n",
      "Recall: 0.9762\n",
      "F1 Score: 0.6212\n",
      "Matthews Correlation Coefficient: 0.3676\n",
      "Specificity: 0.3467\n"
     ]
    },
    {
     "name": "stderr",
     "output_type": "stream",
     "text": [
      "/tmp/ipykernel_187141/2037634495.py:10: FutureWarning: suggest_loguniform has been deprecated in v3.0.0. This feature will be removed in v6.0.0. See https://github.com/optuna/optuna/releases/tag/v3.0.0. Use suggest_float(..., log=True) instead.\n",
      "  learning_rate = trial.suggest_loguniform('learning_rate', 1e-5, 1e-1)\n",
      "/home/gonken/anaconda3/envs/torch/lib/python3.12/site-packages/torch/nn/modules/transformer.py:379: UserWarning: enable_nested_tensor is True, but self.use_nested_tensor is False because encoder_layer.self_attn.batch_first was not True(use batch_first for better inference performance)\n",
      "  warnings.warn(\n",
      "/home/gonken/anaconda3/envs/torch/lib/python3.12/site-packages/sklearn/metrics/_classification.py:1531: UndefinedMetricWarning: Precision is ill-defined and being set to 0.0 due to no predicted samples. Use `zero_division` parameter to control this behavior.\n",
      "  _warn_prf(average, modifier, f\"{metric.capitalize()} is\", len(result))\n",
      "[I 2024-11-28 21:33:21,912] Trial 56 finished with value: 0.0 and parameters: {'num_heads': 4, 'num_layers': 5, 'd_model': 32, 'dropout': 0.15000000000000002, 'learning_rate': 0.0008506503653817938}. Best is trial 54 with value: 0.6294416243654822.\n",
      "/tmp/ipykernel_187141/2037634495.py:10: FutureWarning: suggest_loguniform has been deprecated in v3.0.0. This feature will be removed in v6.0.0. See https://github.com/optuna/optuna/releases/tag/v3.0.0. Use suggest_float(..., log=True) instead.\n",
      "  learning_rate = trial.suggest_loguniform('learning_rate', 1e-5, 1e-1)\n",
      "/home/gonken/anaconda3/envs/torch/lib/python3.12/site-packages/torch/nn/modules/transformer.py:379: UserWarning: enable_nested_tensor is True, but self.use_nested_tensor is False because encoder_layer.self_attn.batch_first was not True(use batch_first for better inference performance)\n",
      "  warnings.warn(\n"
     ]
    },
    {
     "name": "stdout",
     "output_type": "stream",
     "text": [
      "Accuracy: 64.10%\n",
      "Precision: 0.0000\n",
      "Recall: 0.0000\n",
      "F1 Score: 0.0000\n",
      "Matthews Correlation Coefficient: 0.0000\n",
      "Specificity: 1.0000\n"
     ]
    },
    {
     "name": "stderr",
     "output_type": "stream",
     "text": [
      "[I 2024-11-28 21:36:35,501] Trial 57 finished with value: 0.618925831202046 and parameters: {'num_heads': 4, 'num_layers': 4, 'd_model': 32, 'dropout': 0.4, 'learning_rate': 0.00019658704695881465}. Best is trial 54 with value: 0.6294416243654822.\n"
     ]
    },
    {
     "name": "stdout",
     "output_type": "stream",
     "text": [
      "Accuracy: 57.55%\n",
      "Precision: 0.4566\n",
      "Recall: 0.9603\n",
      "F1 Score: 0.6189\n",
      "Matthews Correlation Coefficient: 0.3573\n",
      "Specificity: 0.3600\n"
     ]
    },
    {
     "name": "stderr",
     "output_type": "stream",
     "text": [
      "/tmp/ipykernel_187141/2037634495.py:10: FutureWarning: suggest_loguniform has been deprecated in v3.0.0. This feature will be removed in v6.0.0. See https://github.com/optuna/optuna/releases/tag/v3.0.0. Use suggest_float(..., log=True) instead.\n",
      "  learning_rate = trial.suggest_loguniform('learning_rate', 1e-5, 1e-1)\n",
      "/home/gonken/anaconda3/envs/torch/lib/python3.12/site-packages/torch/nn/modules/transformer.py:379: UserWarning: enable_nested_tensor is True, but self.use_nested_tensor is False because encoder_layer.self_attn.batch_first was not True(use batch_first for better inference performance)\n",
      "  warnings.warn(\n",
      "[I 2024-11-28 21:40:11,101] Trial 58 finished with value: 0.6194225721784777 and parameters: {'num_heads': 2, 'num_layers': 5, 'd_model': 64, 'dropout': 0.5, 'learning_rate': 4.2736213326823144e-05}. Best is trial 54 with value: 0.6294416243654822.\n"
     ]
    },
    {
     "name": "stdout",
     "output_type": "stream",
     "text": [
      "Accuracy: 58.69%\n",
      "Precision: 0.4627\n",
      "Recall: 0.9365\n",
      "F1 Score: 0.6194\n",
      "Matthews Correlation Coefficient: 0.3526\n",
      "Specificity: 0.3911\n"
     ]
    },
    {
     "name": "stderr",
     "output_type": "stream",
     "text": [
      "/tmp/ipykernel_187141/2037634495.py:10: FutureWarning: suggest_loguniform has been deprecated in v3.0.0. This feature will be removed in v6.0.0. See https://github.com/optuna/optuna/releases/tag/v3.0.0. Use suggest_float(..., log=True) instead.\n",
      "  learning_rate = trial.suggest_loguniform('learning_rate', 1e-5, 1e-1)\n",
      "/home/gonken/anaconda3/envs/torch/lib/python3.12/site-packages/torch/nn/modules/transformer.py:379: UserWarning: enable_nested_tensor is True, but self.use_nested_tensor is False because encoder_layer.self_attn.batch_first was not True(use batch_first for better inference performance)\n",
      "  warnings.warn(\n",
      "[I 2024-11-28 21:42:56,144] Trial 59 finished with value: 0.56875 and parameters: {'num_heads': 8, 'num_layers': 3, 'd_model': 128, 'dropout': 0.45000000000000007, 'learning_rate': 2.2956326753760725e-05}. Best is trial 54 with value: 0.6294416243654822.\n"
     ]
    },
    {
     "name": "stdout",
     "output_type": "stream",
     "text": [
      "Accuracy: 60.68%\n",
      "Precision: 0.4691\n",
      "Recall: 0.7222\n",
      "F1 Score: 0.5687\n",
      "Matthews Correlation Coefficient: 0.2551\n",
      "Specificity: 0.5422\n"
     ]
    },
    {
     "name": "stderr",
     "output_type": "stream",
     "text": [
      "/tmp/ipykernel_187141/2037634495.py:10: FutureWarning: suggest_loguniform has been deprecated in v3.0.0. This feature will be removed in v6.0.0. See https://github.com/optuna/optuna/releases/tag/v3.0.0. Use suggest_float(..., log=True) instead.\n",
      "  learning_rate = trial.suggest_loguniform('learning_rate', 1e-5, 1e-1)\n",
      "/home/gonken/anaconda3/envs/torch/lib/python3.12/site-packages/torch/nn/modules/transformer.py:379: UserWarning: enable_nested_tensor is True, but self.use_nested_tensor is False because encoder_layer.self_attn.batch_first was not True(use batch_first for better inference performance)\n",
      "  warnings.warn(\n",
      "[I 2024-11-28 21:44:57,333] Trial 60 finished with value: 0.5571847507331378 and parameters: {'num_heads': 4, 'num_layers': 2, 'd_model': 32, 'dropout': 0.5, 'learning_rate': 0.00043096953024122724}. Best is trial 54 with value: 0.6294416243654822.\n"
     ]
    },
    {
     "name": "stdout",
     "output_type": "stream",
     "text": [
      "Accuracy: 56.98%\n",
      "Precision: 0.4419\n",
      "Recall: 0.7540\n",
      "F1 Score: 0.5572\n",
      "Matthews Correlation Coefficient: 0.2173\n",
      "Specificity: 0.4667\n"
     ]
    },
    {
     "name": "stderr",
     "output_type": "stream",
     "text": [
      "/tmp/ipykernel_187141/2037634495.py:10: FutureWarning: suggest_loguniform has been deprecated in v3.0.0. This feature will be removed in v6.0.0. See https://github.com/optuna/optuna/releases/tag/v3.0.0. Use suggest_float(..., log=True) instead.\n",
      "  learning_rate = trial.suggest_loguniform('learning_rate', 1e-5, 1e-1)\n",
      "/home/gonken/anaconda3/envs/torch/lib/python3.12/site-packages/torch/nn/modules/transformer.py:379: UserWarning: enable_nested_tensor is True, but self.use_nested_tensor is False because encoder_layer.self_attn.batch_first was not True(use batch_first for better inference performance)\n",
      "  warnings.warn(\n",
      "[I 2024-11-28 21:48:37,992] Trial 61 finished with value: 0.6259541984732825 and parameters: {'num_heads': 4, 'num_layers': 5, 'd_model': 32, 'dropout': 0.5, 'learning_rate': 0.00010852494421363591}. Best is trial 54 with value: 0.6294416243654822.\n"
     ]
    },
    {
     "name": "stdout",
     "output_type": "stream",
     "text": [
      "Accuracy: 58.12%\n",
      "Precision: 0.4607\n",
      "Recall: 0.9762\n",
      "F1 Score: 0.6260\n",
      "Matthews Correlation Coefficient: 0.3780\n",
      "Specificity: 0.3600\n"
     ]
    },
    {
     "name": "stderr",
     "output_type": "stream",
     "text": [
      "/tmp/ipykernel_187141/2037634495.py:10: FutureWarning: suggest_loguniform has been deprecated in v3.0.0. This feature will be removed in v6.0.0. See https://github.com/optuna/optuna/releases/tag/v3.0.0. Use suggest_float(..., log=True) instead.\n",
      "  learning_rate = trial.suggest_loguniform('learning_rate', 1e-5, 1e-1)\n",
      "/home/gonken/anaconda3/envs/torch/lib/python3.12/site-packages/torch/nn/modules/transformer.py:379: UserWarning: enable_nested_tensor is True, but self.use_nested_tensor is False because encoder_layer.self_attn.batch_first was not True(use batch_first for better inference performance)\n",
      "  warnings.warn(\n",
      "[I 2024-11-28 21:52:16,506] Trial 62 finished with value: 0.6243654822335025 and parameters: {'num_heads': 4, 'num_layers': 5, 'd_model': 32, 'dropout': 0.5, 'learning_rate': 0.00013079625957865493}. Best is trial 54 with value: 0.6294416243654822.\n"
     ]
    },
    {
     "name": "stdout",
     "output_type": "stream",
     "text": [
      "Accuracy: 57.83%\n",
      "Precision: 0.4590\n",
      "Recall: 0.9762\n",
      "F1 Score: 0.6244\n",
      "Matthews Correlation Coefficient: 0.3745\n",
      "Specificity: 0.3556\n"
     ]
    },
    {
     "name": "stderr",
     "output_type": "stream",
     "text": [
      "/tmp/ipykernel_187141/2037634495.py:10: FutureWarning: suggest_loguniform has been deprecated in v3.0.0. This feature will be removed in v6.0.0. See https://github.com/optuna/optuna/releases/tag/v3.0.0. Use suggest_float(..., log=True) instead.\n",
      "  learning_rate = trial.suggest_loguniform('learning_rate', 1e-5, 1e-1)\n",
      "/home/gonken/anaconda3/envs/torch/lib/python3.12/site-packages/torch/nn/modules/transformer.py:379: UserWarning: enable_nested_tensor is True, but self.use_nested_tensor is False because encoder_layer.self_attn.batch_first was not True(use batch_first for better inference performance)\n",
      "  warnings.warn(\n",
      "[I 2024-11-28 21:55:52,121] Trial 63 finished with value: 0.6208651399491094 and parameters: {'num_heads': 4, 'num_layers': 5, 'd_model': 32, 'dropout': 0.5, 'learning_rate': 0.00021502802937777696}. Best is trial 54 with value: 0.6294416243654822.\n"
     ]
    },
    {
     "name": "stdout",
     "output_type": "stream",
     "text": [
      "Accuracy: 57.55%\n",
      "Precision: 0.4569\n",
      "Recall: 0.9683\n",
      "F1 Score: 0.6209\n",
      "Matthews Correlation Coefficient: 0.3641\n",
      "Specificity: 0.3556\n"
     ]
    },
    {
     "name": "stderr",
     "output_type": "stream",
     "text": [
      "/tmp/ipykernel_187141/2037634495.py:10: FutureWarning: suggest_loguniform has been deprecated in v3.0.0. This feature will be removed in v6.0.0. See https://github.com/optuna/optuna/releases/tag/v3.0.0. Use suggest_float(..., log=True) instead.\n",
      "  learning_rate = trial.suggest_loguniform('learning_rate', 1e-5, 1e-1)\n",
      "/home/gonken/anaconda3/envs/torch/lib/python3.12/site-packages/torch/nn/modules/transformer.py:379: UserWarning: enable_nested_tensor is True, but self.use_nested_tensor is False because encoder_layer.self_attn.batch_first was not True(use batch_first for better inference performance)\n",
      "  warnings.warn(\n",
      "[I 2024-11-28 21:59:24,742] Trial 64 finished with value: 0.6226912928759895 and parameters: {'num_heads': 4, 'num_layers': 5, 'd_model': 32, 'dropout': 0.45000000000000007, 'learning_rate': 1.0742972177725787e-05}. Best is trial 54 with value: 0.6294416243654822.\n"
     ]
    },
    {
     "name": "stdout",
     "output_type": "stream",
     "text": [
      "Accuracy: 59.26%\n",
      "Precision: 0.4664\n",
      "Recall: 0.9365\n",
      "F1 Score: 0.6227\n",
      "Matthews Correlation Coefficient: 0.3598\n",
      "Specificity: 0.4000\n"
     ]
    },
    {
     "name": "stderr",
     "output_type": "stream",
     "text": [
      "/tmp/ipykernel_187141/2037634495.py:10: FutureWarning: suggest_loguniform has been deprecated in v3.0.0. This feature will be removed in v6.0.0. See https://github.com/optuna/optuna/releases/tag/v3.0.0. Use suggest_float(..., log=True) instead.\n",
      "  learning_rate = trial.suggest_loguniform('learning_rate', 1e-5, 1e-1)\n",
      "/home/gonken/anaconda3/envs/torch/lib/python3.12/site-packages/torch/nn/modules/transformer.py:379: UserWarning: enable_nested_tensor is True, but self.use_nested_tensor is False because encoder_layer.self_attn.batch_first was not True(use batch_first for better inference performance)\n",
      "  warnings.warn(\n",
      "[I 2024-11-28 22:02:37,513] Trial 65 finished with value: 0.6288659793814433 and parameters: {'num_heads': 4, 'num_layers': 4, 'd_model': 32, 'dropout': 0.5, 'learning_rate': 0.00034898609624037447}. Best is trial 54 with value: 0.6294416243654822.\n"
     ]
    },
    {
     "name": "stdout",
     "output_type": "stream",
     "text": [
      "Accuracy: 58.97%\n",
      "Precision: 0.4656\n",
      "Recall: 0.9683\n",
      "F1 Score: 0.6289\n",
      "Matthews Correlation Coefficient: 0.3815\n",
      "Specificity: 0.3778\n"
     ]
    },
    {
     "name": "stderr",
     "output_type": "stream",
     "text": [
      "/tmp/ipykernel_187141/2037634495.py:10: FutureWarning: suggest_loguniform has been deprecated in v3.0.0. This feature will be removed in v6.0.0. See https://github.com/optuna/optuna/releases/tag/v3.0.0. Use suggest_float(..., log=True) instead.\n",
      "  learning_rate = trial.suggest_loguniform('learning_rate', 1e-5, 1e-1)\n",
      "/home/gonken/anaconda3/envs/torch/lib/python3.12/site-packages/torch/nn/modules/transformer.py:379: UserWarning: enable_nested_tensor is True, but self.use_nested_tensor is False because encoder_layer.self_attn.batch_first was not True(use batch_first for better inference performance)\n",
      "  warnings.warn(\n",
      "[I 2024-11-28 22:05:54,029] Trial 66 finished with value: 0.6246851385390428 and parameters: {'num_heads': 4, 'num_layers': 4, 'd_model': 32, 'dropout': 0.5, 'learning_rate': 0.00035662752088246665}. Best is trial 54 with value: 0.6294416243654822.\n"
     ]
    },
    {
     "name": "stdout",
     "output_type": "stream",
     "text": [
      "Accuracy: 57.55%\n",
      "Precision: 0.4576\n",
      "Recall: 0.9841\n",
      "F1 Score: 0.6247\n",
      "Matthews Correlation Coefficient: 0.3783\n",
      "Specificity: 0.3467\n"
     ]
    },
    {
     "name": "stderr",
     "output_type": "stream",
     "text": [
      "/tmp/ipykernel_187141/2037634495.py:10: FutureWarning: suggest_loguniform has been deprecated in v3.0.0. This feature will be removed in v6.0.0. See https://github.com/optuna/optuna/releases/tag/v3.0.0. Use suggest_float(..., log=True) instead.\n",
      "  learning_rate = trial.suggest_loguniform('learning_rate', 1e-5, 1e-1)\n",
      "/home/gonken/anaconda3/envs/torch/lib/python3.12/site-packages/torch/nn/modules/transformer.py:379: UserWarning: enable_nested_tensor is True, but self.use_nested_tensor is False because encoder_layer.self_attn.batch_first was not True(use batch_first for better inference performance)\n",
      "  warnings.warn(\n",
      "/home/gonken/anaconda3/envs/torch/lib/python3.12/site-packages/sklearn/metrics/_classification.py:1531: UndefinedMetricWarning: Precision is ill-defined and being set to 0.0 due to no predicted samples. Use `zero_division` parameter to control this behavior.\n",
      "  _warn_prf(average, modifier, f\"{metric.capitalize()} is\", len(result))\n",
      "[I 2024-11-28 22:09:06,449] Trial 67 finished with value: 0.0 and parameters: {'num_heads': 4, 'num_layers': 4, 'd_model': 32, 'dropout': 0.30000000000000004, 'learning_rate': 0.0005034750905327589}. Best is trial 54 with value: 0.6294416243654822.\n",
      "/tmp/ipykernel_187141/2037634495.py:10: FutureWarning: suggest_loguniform has been deprecated in v3.0.0. This feature will be removed in v6.0.0. See https://github.com/optuna/optuna/releases/tag/v3.0.0. Use suggest_float(..., log=True) instead.\n",
      "  learning_rate = trial.suggest_loguniform('learning_rate', 1e-5, 1e-1)\n",
      "/home/gonken/anaconda3/envs/torch/lib/python3.12/site-packages/torch/nn/modules/transformer.py:379: UserWarning: enable_nested_tensor is True, but self.use_nested_tensor is False because encoder_layer.self_attn.batch_first was not True(use batch_first for better inference performance)\n",
      "  warnings.warn(\n"
     ]
    },
    {
     "name": "stdout",
     "output_type": "stream",
     "text": [
      "Accuracy: 64.10%\n",
      "Precision: 0.0000\n",
      "Recall: 0.0000\n",
      "F1 Score: 0.0000\n",
      "Matthews Correlation Coefficient: 0.0000\n",
      "Specificity: 1.0000\n"
     ]
    },
    {
     "name": "stderr",
     "output_type": "stream",
     "text": [
      "[I 2024-11-28 22:12:19,220] Trial 68 finished with value: 0.6142506142506142 and parameters: {'num_heads': 2, 'num_layers': 4, 'd_model': 32, 'dropout': 0.45000000000000007, 'learning_rate': 0.0009714541094366088}. Best is trial 54 with value: 0.6294416243654822.\n"
     ]
    },
    {
     "name": "stdout",
     "output_type": "stream",
     "text": [
      "Accuracy: 55.27%\n",
      "Precision: 0.4448\n",
      "Recall: 0.9921\n",
      "F1 Score: 0.6143\n",
      "Matthews Correlation Coefficient: 0.3586\n",
      "Specificity: 0.3067\n"
     ]
    },
    {
     "name": "stderr",
     "output_type": "stream",
     "text": [
      "/tmp/ipykernel_187141/2037634495.py:10: FutureWarning: suggest_loguniform has been deprecated in v3.0.0. This feature will be removed in v6.0.0. See https://github.com/optuna/optuna/releases/tag/v3.0.0. Use suggest_float(..., log=True) instead.\n",
      "  learning_rate = trial.suggest_loguniform('learning_rate', 1e-5, 1e-1)\n",
      "/home/gonken/anaconda3/envs/torch/lib/python3.12/site-packages/torch/nn/modules/transformer.py:379: UserWarning: enable_nested_tensor is True, but self.use_nested_tensor is False because encoder_layer.self_attn.batch_first was not True(use batch_first for better inference performance)\n",
      "  warnings.warn(\n",
      "[I 2024-11-28 22:15:31,538] Trial 69 finished with value: 0.6113989637305699 and parameters: {'num_heads': 4, 'num_layers': 4, 'd_model': 32, 'dropout': 0.5, 'learning_rate': 0.000296295101670698}. Best is trial 54 with value: 0.6294416243654822.\n"
     ]
    },
    {
     "name": "stdout",
     "output_type": "stream",
     "text": [
      "Accuracy: 57.26%\n",
      "Precision: 0.4538\n",
      "Recall: 0.9365\n",
      "F1 Score: 0.6114\n",
      "Matthews Correlation Coefficient: 0.3343\n",
      "Specificity: 0.3689\n"
     ]
    },
    {
     "name": "stderr",
     "output_type": "stream",
     "text": [
      "/tmp/ipykernel_187141/2037634495.py:10: FutureWarning: suggest_loguniform has been deprecated in v3.0.0. This feature will be removed in v6.0.0. See https://github.com/optuna/optuna/releases/tag/v3.0.0. Use suggest_float(..., log=True) instead.\n",
      "  learning_rate = trial.suggest_loguniform('learning_rate', 1e-5, 1e-1)\n",
      "/home/gonken/anaconda3/envs/torch/lib/python3.12/site-packages/torch/nn/modules/transformer.py:379: UserWarning: enable_nested_tensor is True, but self.use_nested_tensor is False because encoder_layer.self_attn.batch_first was not True(use batch_first for better inference performance)\n",
      "  warnings.warn(\n",
      "[I 2024-11-28 22:18:47,627] Trial 70 finished with value: 0.3482587064676617 and parameters: {'num_heads': 4, 'num_layers': 4, 'd_model': 64, 'dropout': 0.25, 'learning_rate': 9.075169778015119e-05}. Best is trial 54 with value: 0.6294416243654822.\n"
     ]
    },
    {
     "name": "stdout",
     "output_type": "stream",
     "text": [
      "Accuracy: 62.68%\n",
      "Precision: 0.4667\n",
      "Recall: 0.2778\n",
      "F1 Score: 0.3483\n",
      "Matthews Correlation Coefficient: 0.1170\n",
      "Specificity: 0.8222\n"
     ]
    },
    {
     "name": "stderr",
     "output_type": "stream",
     "text": [
      "/tmp/ipykernel_187141/2037634495.py:10: FutureWarning: suggest_loguniform has been deprecated in v3.0.0. This feature will be removed in v6.0.0. See https://github.com/optuna/optuna/releases/tag/v3.0.0. Use suggest_float(..., log=True) instead.\n",
      "  learning_rate = trial.suggest_loguniform('learning_rate', 1e-5, 1e-1)\n",
      "/home/gonken/anaconda3/envs/torch/lib/python3.12/site-packages/torch/nn/modules/transformer.py:379: UserWarning: enable_nested_tensor is True, but self.use_nested_tensor is False because encoder_layer.self_attn.batch_first was not True(use batch_first for better inference performance)\n",
      "  warnings.warn(\n",
      "[I 2024-11-28 22:22:19,718] Trial 71 finished with value: 0.6294416243654822 and parameters: {'num_heads': 4, 'num_layers': 5, 'd_model': 32, 'dropout': 0.5, 'learning_rate': 0.00017452383741586486}. Best is trial 54 with value: 0.6294416243654822.\n"
     ]
    },
    {
     "name": "stdout",
     "output_type": "stream",
     "text": [
      "Accuracy: 58.40%\n",
      "Precision: 0.4627\n",
      "Recall: 0.9841\n",
      "F1 Score: 0.6294\n",
      "Matthews Correlation Coefficient: 0.3885\n",
      "Specificity: 0.3600\n"
     ]
    },
    {
     "name": "stderr",
     "output_type": "stream",
     "text": [
      "/tmp/ipykernel_187141/2037634495.py:10: FutureWarning: suggest_loguniform has been deprecated in v3.0.0. This feature will be removed in v6.0.0. See https://github.com/optuna/optuna/releases/tag/v3.0.0. Use suggest_float(..., log=True) instead.\n",
      "  learning_rate = trial.suggest_loguniform('learning_rate', 1e-5, 1e-1)\n",
      "/home/gonken/anaconda3/envs/torch/lib/python3.12/site-packages/torch/nn/modules/transformer.py:379: UserWarning: enable_nested_tensor is True, but self.use_nested_tensor is False because encoder_layer.self_attn.batch_first was not True(use batch_first for better inference performance)\n",
      "  warnings.warn(\n",
      "[I 2024-11-28 22:26:01,555] Trial 72 finished with value: 0.6215538847117794 and parameters: {'num_heads': 4, 'num_layers': 5, 'd_model': 32, 'dropout': 0.5, 'learning_rate': 0.00017717857941687212}. Best is trial 54 with value: 0.6294416243654822.\n"
     ]
    },
    {
     "name": "stdout",
     "output_type": "stream",
     "text": [
      "Accuracy: 56.98%\n",
      "Precision: 0.4542\n",
      "Recall: 0.9841\n",
      "F1 Score: 0.6216\n",
      "Matthews Correlation Coefficient: 0.3714\n",
      "Specificity: 0.3378\n"
     ]
    },
    {
     "name": "stderr",
     "output_type": "stream",
     "text": [
      "/tmp/ipykernel_187141/2037634495.py:10: FutureWarning: suggest_loguniform has been deprecated in v3.0.0. This feature will be removed in v6.0.0. See https://github.com/optuna/optuna/releases/tag/v3.0.0. Use suggest_float(..., log=True) instead.\n",
      "  learning_rate = trial.suggest_loguniform('learning_rate', 1e-5, 1e-1)\n",
      "/home/gonken/anaconda3/envs/torch/lib/python3.12/site-packages/torch/nn/modules/transformer.py:379: UserWarning: enable_nested_tensor is True, but self.use_nested_tensor is False because encoder_layer.self_attn.batch_first was not True(use batch_first for better inference performance)\n",
      "  warnings.warn(\n",
      "[I 2024-11-28 22:29:47,921] Trial 73 finished with value: 0.62 and parameters: {'num_heads': 4, 'num_layers': 5, 'd_model': 32, 'dropout': 0.5, 'learning_rate': 0.00022357989288231066}. Best is trial 54 with value: 0.6294416243654822.\n"
     ]
    },
    {
     "name": "stdout",
     "output_type": "stream",
     "text": [
      "Accuracy: 56.70%\n",
      "Precision: 0.4526\n",
      "Recall: 0.9841\n",
      "F1 Score: 0.6200\n",
      "Matthews Correlation Coefficient: 0.3680\n",
      "Specificity: 0.3333\n"
     ]
    },
    {
     "name": "stderr",
     "output_type": "stream",
     "text": [
      "/tmp/ipykernel_187141/2037634495.py:10: FutureWarning: suggest_loguniform has been deprecated in v3.0.0. This feature will be removed in v6.0.0. See https://github.com/optuna/optuna/releases/tag/v3.0.0. Use suggest_float(..., log=True) instead.\n",
      "  learning_rate = trial.suggest_loguniform('learning_rate', 1e-5, 1e-1)\n",
      "/home/gonken/anaconda3/envs/torch/lib/python3.12/site-packages/torch/nn/modules/transformer.py:379: UserWarning: enable_nested_tensor is True, but self.use_nested_tensor is False because encoder_layer.self_attn.batch_first was not True(use batch_first for better inference performance)\n",
      "  warnings.warn(\n",
      "[I 2024-11-28 22:33:34,925] Trial 74 finished with value: 0.5283018867924528 and parameters: {'num_heads': 4, 'num_layers': 5, 'd_model': 32, 'dropout': 0.45000000000000007, 'learning_rate': 0.09339575478505686}. Best is trial 54 with value: 0.6294416243654822.\n"
     ]
    },
    {
     "name": "stdout",
     "output_type": "stream",
     "text": [
      "Accuracy: 35.90%\n",
      "Precision: 0.3590\n",
      "Recall: 1.0000\n",
      "F1 Score: 0.5283\n",
      "Matthews Correlation Coefficient: 0.0000\n",
      "Specificity: 0.0000\n"
     ]
    },
    {
     "name": "stderr",
     "output_type": "stream",
     "text": [
      "/tmp/ipykernel_187141/2037634495.py:10: FutureWarning: suggest_loguniform has been deprecated in v3.0.0. This feature will be removed in v6.0.0. See https://github.com/optuna/optuna/releases/tag/v3.0.0. Use suggest_float(..., log=True) instead.\n",
      "  learning_rate = trial.suggest_loguniform('learning_rate', 1e-5, 1e-1)\n",
      "/home/gonken/anaconda3/envs/torch/lib/python3.12/site-packages/torch/nn/modules/transformer.py:379: UserWarning: enable_nested_tensor is True, but self.use_nested_tensor is False because encoder_layer.self_attn.batch_first was not True(use batch_first for better inference performance)\n",
      "  warnings.warn(\n",
      "[I 2024-11-28 22:36:50,302] Trial 75 finished with value: 0.6208651399491094 and parameters: {'num_heads': 4, 'num_layers': 4, 'd_model': 32, 'dropout': 0.5, 'learning_rate': 6.8427801682008e-05}. Best is trial 54 with value: 0.6294416243654822.\n"
     ]
    },
    {
     "name": "stdout",
     "output_type": "stream",
     "text": [
      "Accuracy: 57.55%\n",
      "Precision: 0.4569\n",
      "Recall: 0.9683\n",
      "F1 Score: 0.6209\n",
      "Matthews Correlation Coefficient: 0.3641\n",
      "Specificity: 0.3556\n"
     ]
    },
    {
     "name": "stderr",
     "output_type": "stream",
     "text": [
      "/tmp/ipykernel_187141/2037634495.py:10: FutureWarning: suggest_loguniform has been deprecated in v3.0.0. This feature will be removed in v6.0.0. See https://github.com/optuna/optuna/releases/tag/v3.0.0. Use suggest_float(..., log=True) instead.\n",
      "  learning_rate = trial.suggest_loguniform('learning_rate', 1e-5, 1e-1)\n",
      "/home/gonken/anaconda3/envs/torch/lib/python3.12/site-packages/torch/nn/modules/transformer.py:379: UserWarning: enable_nested_tensor is True, but self.use_nested_tensor is False because encoder_layer.self_attn.batch_first was not True(use batch_first for better inference performance)\n",
      "  warnings.warn(\n",
      "/home/gonken/anaconda3/envs/torch/lib/python3.12/site-packages/sklearn/metrics/_classification.py:1531: UndefinedMetricWarning: Precision is ill-defined and being set to 0.0 due to no predicted samples. Use `zero_division` parameter to control this behavior.\n",
      "  _warn_prf(average, modifier, f\"{metric.capitalize()} is\", len(result))\n",
      "[I 2024-11-28 22:39:27,081] Trial 76 finished with value: 0.0 and parameters: {'num_heads': 8, 'num_layers': 3, 'd_model': 128, 'dropout': 0.5, 'learning_rate': 0.01076818031706878}. Best is trial 54 with value: 0.6294416243654822.\n",
      "/tmp/ipykernel_187141/2037634495.py:10: FutureWarning: suggest_loguniform has been deprecated in v3.0.0. This feature will be removed in v6.0.0. See https://github.com/optuna/optuna/releases/tag/v3.0.0. Use suggest_float(..., log=True) instead.\n",
      "  learning_rate = trial.suggest_loguniform('learning_rate', 1e-5, 1e-1)\n",
      "/home/gonken/anaconda3/envs/torch/lib/python3.12/site-packages/torch/nn/modules/transformer.py:379: UserWarning: enable_nested_tensor is True, but self.use_nested_tensor is False because encoder_layer.self_attn.batch_first was not True(use batch_first for better inference performance)\n",
      "  warnings.warn(\n"
     ]
    },
    {
     "name": "stdout",
     "output_type": "stream",
     "text": [
      "Accuracy: 64.10%\n",
      "Precision: 0.0000\n",
      "Recall: 0.0000\n",
      "F1 Score: 0.0000\n",
      "Matthews Correlation Coefficient: 0.0000\n",
      "Specificity: 1.0000\n"
     ]
    },
    {
     "name": "stderr",
     "output_type": "stream",
     "text": [
      "[I 2024-11-28 22:43:02,387] Trial 77 finished with value: 0.6265664160401002 and parameters: {'num_heads': 4, 'num_layers': 5, 'd_model': 32, 'dropout': 0.45000000000000007, 'learning_rate': 0.0003479812302209431}. Best is trial 54 with value: 0.6294416243654822.\n"
     ]
    },
    {
     "name": "stdout",
     "output_type": "stream",
     "text": [
      "Accuracy: 57.55%\n",
      "Precision: 0.4579\n",
      "Recall: 0.9921\n",
      "F1 Score: 0.6266\n",
      "Matthews Correlation Coefficient: 0.3857\n",
      "Specificity: 0.3422\n"
     ]
    },
    {
     "name": "stderr",
     "output_type": "stream",
     "text": [
      "/tmp/ipykernel_187141/2037634495.py:10: FutureWarning: suggest_loguniform has been deprecated in v3.0.0. This feature will be removed in v6.0.0. See https://github.com/optuna/optuna/releases/tag/v3.0.0. Use suggest_float(..., log=True) instead.\n",
      "  learning_rate = trial.suggest_loguniform('learning_rate', 1e-5, 1e-1)\n",
      "/home/gonken/anaconda3/envs/torch/lib/python3.12/site-packages/torch/nn/modules/transformer.py:379: UserWarning: enable_nested_tensor is True, but self.use_nested_tensor is False because encoder_layer.self_attn.batch_first was not True(use batch_first for better inference performance)\n",
      "  warnings.warn(\n",
      "[I 2024-11-28 22:46:49,594] Trial 78 finished with value: 0.425531914893617 and parameters: {'num_heads': 4, 'num_layers': 5, 'd_model': 32, 'dropout': 0.4, 'learning_rate': 0.0006213586752194319}. Best is trial 54 with value: 0.6294416243654822.\n"
     ]
    },
    {
     "name": "stdout",
     "output_type": "stream",
     "text": [
      "Accuracy: 61.54%\n",
      "Precision: 0.4587\n",
      "Recall: 0.3968\n",
      "F1 Score: 0.4255\n",
      "Matthews Correlation Coefficient: 0.1395\n",
      "Specificity: 0.7378\n"
     ]
    },
    {
     "name": "stderr",
     "output_type": "stream",
     "text": [
      "/tmp/ipykernel_187141/2037634495.py:10: FutureWarning: suggest_loguniform has been deprecated in v3.0.0. This feature will be removed in v6.0.0. See https://github.com/optuna/optuna/releases/tag/v3.0.0. Use suggest_float(..., log=True) instead.\n",
      "  learning_rate = trial.suggest_loguniform('learning_rate', 1e-5, 1e-1)\n",
      "/home/gonken/anaconda3/envs/torch/lib/python3.12/site-packages/torch/nn/modules/transformer.py:379: UserWarning: enable_nested_tensor is True, but self.use_nested_tensor is False because encoder_layer.self_attn.batch_first was not True(use batch_first for better inference performance)\n",
      "  warnings.warn(\n",
      "/home/gonken/anaconda3/envs/torch/lib/python3.12/site-packages/sklearn/metrics/_classification.py:1531: UndefinedMetricWarning: Precision is ill-defined and being set to 0.0 due to no predicted samples. Use `zero_division` parameter to control this behavior.\n",
      "  _warn_prf(average, modifier, f\"{metric.capitalize()} is\", len(result))\n",
      "[I 2024-11-28 22:50:23,917] Trial 79 finished with value: 0.0 and parameters: {'num_heads': 4, 'num_layers': 5, 'd_model': 32, 'dropout': 0.45000000000000007, 'learning_rate': 0.05334234482522784}. Best is trial 54 with value: 0.6294416243654822.\n",
      "/tmp/ipykernel_187141/2037634495.py:10: FutureWarning: suggest_loguniform has been deprecated in v3.0.0. This feature will be removed in v6.0.0. See https://github.com/optuna/optuna/releases/tag/v3.0.0. Use suggest_float(..., log=True) instead.\n",
      "  learning_rate = trial.suggest_loguniform('learning_rate', 1e-5, 1e-1)\n",
      "/home/gonken/anaconda3/envs/torch/lib/python3.12/site-packages/torch/nn/modules/transformer.py:379: UserWarning: enable_nested_tensor is True, but self.use_nested_tensor is False because encoder_layer.self_attn.batch_first was not True(use batch_first for better inference performance)\n",
      "  warnings.warn(\n"
     ]
    },
    {
     "name": "stdout",
     "output_type": "stream",
     "text": [
      "Accuracy: 64.10%\n",
      "Precision: 0.0000\n",
      "Recall: 0.0000\n",
      "F1 Score: 0.0000\n",
      "Matthews Correlation Coefficient: 0.0000\n",
      "Specificity: 1.0000\n"
     ]
    },
    {
     "name": "stderr",
     "output_type": "stream",
     "text": [
      "[I 2024-11-28 22:54:01,576] Trial 80 finished with value: 0.6233766233766234 and parameters: {'num_heads': 4, 'num_layers': 5, 'd_model': 32, 'dropout': 0.35, 'learning_rate': 0.0001406287513629186}. Best is trial 54 with value: 0.6294416243654822.\n"
     ]
    },
    {
     "name": "stdout",
     "output_type": "stream",
     "text": [
      "Accuracy: 58.69%\n",
      "Precision: 0.4633\n",
      "Recall: 0.9524\n",
      "F1 Score: 0.6234\n",
      "Matthews Correlation Coefficient: 0.3650\n",
      "Specificity: 0.3822\n"
     ]
    },
    {
     "name": "stderr",
     "output_type": "stream",
     "text": [
      "/tmp/ipykernel_187141/2037634495.py:10: FutureWarning: suggest_loguniform has been deprecated in v3.0.0. This feature will be removed in v6.0.0. See https://github.com/optuna/optuna/releases/tag/v3.0.0. Use suggest_float(..., log=True) instead.\n",
      "  learning_rate = trial.suggest_loguniform('learning_rate', 1e-5, 1e-1)\n",
      "/home/gonken/anaconda3/envs/torch/lib/python3.12/site-packages/torch/nn/modules/transformer.py:379: UserWarning: enable_nested_tensor is True, but self.use_nested_tensor is False because encoder_layer.self_attn.batch_first was not True(use batch_first for better inference performance)\n",
      "  warnings.warn(\n",
      "/home/gonken/anaconda3/envs/torch/lib/python3.12/site-packages/sklearn/metrics/_classification.py:1531: UndefinedMetricWarning: Precision is ill-defined and being set to 0.0 due to no predicted samples. Use `zero_division` parameter to control this behavior.\n",
      "  _warn_prf(average, modifier, f\"{metric.capitalize()} is\", len(result))\n",
      "[I 2024-11-28 22:57:37,689] Trial 81 finished with value: 0.0 and parameters: {'num_heads': 4, 'num_layers': 5, 'd_model': 32, 'dropout': 0.5, 'learning_rate': 0.00034171207216110444}. Best is trial 54 with value: 0.6294416243654822.\n",
      "/tmp/ipykernel_187141/2037634495.py:10: FutureWarning: suggest_loguniform has been deprecated in v3.0.0. This feature will be removed in v6.0.0. See https://github.com/optuna/optuna/releases/tag/v3.0.0. Use suggest_float(..., log=True) instead.\n",
      "  learning_rate = trial.suggest_loguniform('learning_rate', 1e-5, 1e-1)\n",
      "/home/gonken/anaconda3/envs/torch/lib/python3.12/site-packages/torch/nn/modules/transformer.py:379: UserWarning: enable_nested_tensor is True, but self.use_nested_tensor is False because encoder_layer.self_attn.batch_first was not True(use batch_first for better inference performance)\n",
      "  warnings.warn(\n"
     ]
    },
    {
     "name": "stdout",
     "output_type": "stream",
     "text": [
      "Accuracy: 64.10%\n",
      "Precision: 0.0000\n",
      "Recall: 0.0000\n",
      "F1 Score: 0.0000\n",
      "Matthews Correlation Coefficient: 0.0000\n",
      "Specificity: 1.0000\n"
     ]
    },
    {
     "name": "stderr",
     "output_type": "stream",
     "text": [
      "[I 2024-11-28 23:01:15,592] Trial 82 finished with value: 0.6259541984732825 and parameters: {'num_heads': 4, 'num_layers': 5, 'd_model': 32, 'dropout': 0.45000000000000007, 'learning_rate': 0.0004477587769132317}. Best is trial 54 with value: 0.6294416243654822.\n"
     ]
    },
    {
     "name": "stdout",
     "output_type": "stream",
     "text": [
      "Accuracy: 58.12%\n",
      "Precision: 0.4607\n",
      "Recall: 0.9762\n",
      "F1 Score: 0.6260\n",
      "Matthews Correlation Coefficient: 0.3780\n",
      "Specificity: 0.3600\n"
     ]
    },
    {
     "name": "stderr",
     "output_type": "stream",
     "text": [
      "/tmp/ipykernel_187141/2037634495.py:10: FutureWarning: suggest_loguniform has been deprecated in v3.0.0. This feature will be removed in v6.0.0. See https://github.com/optuna/optuna/releases/tag/v3.0.0. Use suggest_float(..., log=True) instead.\n",
      "  learning_rate = trial.suggest_loguniform('learning_rate', 1e-5, 1e-1)\n",
      "/home/gonken/anaconda3/envs/torch/lib/python3.12/site-packages/torch/nn/modules/transformer.py:379: UserWarning: enable_nested_tensor is True, but self.use_nested_tensor is False because encoder_layer.self_attn.batch_first was not True(use batch_first for better inference performance)\n",
      "  warnings.warn(\n",
      "[I 2024-11-28 23:04:23,960] Trial 83 finished with value: 0.6272493573264781 and parameters: {'num_heads': 4, 'num_layers': 4, 'd_model': 32, 'dropout': 0.45000000000000007, 'learning_rate': 0.00027475637238447175}. Best is trial 54 with value: 0.6294416243654822.\n"
     ]
    },
    {
     "name": "stdout",
     "output_type": "stream",
     "text": [
      "Accuracy: 58.69%\n",
      "Precision: 0.4639\n",
      "Recall: 0.9683\n",
      "F1 Score: 0.6272\n",
      "Matthews Correlation Coefficient: 0.3781\n",
      "Specificity: 0.3733\n"
     ]
    },
    {
     "name": "stderr",
     "output_type": "stream",
     "text": [
      "/tmp/ipykernel_187141/2037634495.py:10: FutureWarning: suggest_loguniform has been deprecated in v3.0.0. This feature will be removed in v6.0.0. See https://github.com/optuna/optuna/releases/tag/v3.0.0. Use suggest_float(..., log=True) instead.\n",
      "  learning_rate = trial.suggest_loguniform('learning_rate', 1e-5, 1e-1)\n",
      "/home/gonken/anaconda3/envs/torch/lib/python3.12/site-packages/torch/nn/modules/transformer.py:379: UserWarning: enable_nested_tensor is True, but self.use_nested_tensor is False because encoder_layer.self_attn.batch_first was not True(use batch_first for better inference performance)\n",
      "  warnings.warn(\n",
      "[I 2024-11-28 23:08:09,575] Trial 84 finished with value: 0.6224489795918368 and parameters: {'num_heads': 4, 'num_layers': 5, 'd_model': 32, 'dropout': 0.45000000000000007, 'learning_rate': 0.0002755318037901093}. Best is trial 54 with value: 0.6294416243654822.\n"
     ]
    },
    {
     "name": "stdout",
     "output_type": "stream",
     "text": [
      "Accuracy: 57.83%\n",
      "Precision: 0.4586\n",
      "Recall: 0.9683\n",
      "F1 Score: 0.6224\n",
      "Matthews Correlation Coefficient: 0.3676\n",
      "Specificity: 0.3600\n"
     ]
    },
    {
     "name": "stderr",
     "output_type": "stream",
     "text": [
      "/tmp/ipykernel_187141/2037634495.py:10: FutureWarning: suggest_loguniform has been deprecated in v3.0.0. This feature will be removed in v6.0.0. See https://github.com/optuna/optuna/releases/tag/v3.0.0. Use suggest_float(..., log=True) instead.\n",
      "  learning_rate = trial.suggest_loguniform('learning_rate', 1e-5, 1e-1)\n",
      "/home/gonken/anaconda3/envs/torch/lib/python3.12/site-packages/torch/nn/modules/transformer.py:379: UserWarning: enable_nested_tensor is True, but self.use_nested_tensor is False because encoder_layer.self_attn.batch_first was not True(use batch_first for better inference performance)\n",
      "  warnings.warn(\n",
      "[I 2024-11-28 23:10:09,412] Trial 85 finished with value: 0.503448275862069 and parameters: {'num_heads': 4, 'num_layers': 2, 'd_model': 32, 'dropout': 0.4, 'learning_rate': 0.0001819247751119411}. Best is trial 54 with value: 0.6294416243654822.\n"
     ]
    },
    {
     "name": "stdout",
     "output_type": "stream",
     "text": [
      "Accuracy: 58.97%\n",
      "Precision: 0.4451\n",
      "Recall: 0.5794\n",
      "F1 Score: 0.5034\n",
      "Matthews Correlation Coefficient: 0.1682\n",
      "Specificity: 0.5956\n"
     ]
    },
    {
     "name": "stderr",
     "output_type": "stream",
     "text": [
      "/tmp/ipykernel_187141/2037634495.py:10: FutureWarning: suggest_loguniform has been deprecated in v3.0.0. This feature will be removed in v6.0.0. See https://github.com/optuna/optuna/releases/tag/v3.0.0. Use suggest_float(..., log=True) instead.\n",
      "  learning_rate = trial.suggest_loguniform('learning_rate', 1e-5, 1e-1)\n",
      "/home/gonken/anaconda3/envs/torch/lib/python3.12/site-packages/torch/nn/modules/transformer.py:379: UserWarning: enable_nested_tensor is True, but self.use_nested_tensor is False because encoder_layer.self_attn.batch_first was not True(use batch_first for better inference performance)\n",
      "  warnings.warn(\n",
      "[I 2024-11-28 23:13:20,032] Trial 86 finished with value: 0.62 and parameters: {'num_heads': 4, 'num_layers': 4, 'd_model': 32, 'dropout': 0.45000000000000007, 'learning_rate': 0.0007483578092959912}. Best is trial 54 with value: 0.6294416243654822.\n"
     ]
    },
    {
     "name": "stdout",
     "output_type": "stream",
     "text": [
      "Accuracy: 56.70%\n",
      "Precision: 0.4526\n",
      "Recall: 0.9841\n",
      "F1 Score: 0.6200\n",
      "Matthews Correlation Coefficient: 0.3680\n",
      "Specificity: 0.3333\n"
     ]
    },
    {
     "name": "stderr",
     "output_type": "stream",
     "text": [
      "/tmp/ipykernel_187141/2037634495.py:10: FutureWarning: suggest_loguniform has been deprecated in v3.0.0. This feature will be removed in v6.0.0. See https://github.com/optuna/optuna/releases/tag/v3.0.0. Use suggest_float(..., log=True) instead.\n",
      "  learning_rate = trial.suggest_loguniform('learning_rate', 1e-5, 1e-1)\n",
      "/home/gonken/anaconda3/envs/torch/lib/python3.12/site-packages/torch/nn/modules/transformer.py:379: UserWarning: enable_nested_tensor is True, but self.use_nested_tensor is False because encoder_layer.self_attn.batch_first was not True(use batch_first for better inference performance)\n",
      "  warnings.warn(\n",
      "[I 2024-11-28 23:16:58,962] Trial 87 finished with value: 0.6227848101265823 and parameters: {'num_heads': 2, 'num_layers': 5, 'd_model': 32, 'dropout': 0.45000000000000007, 'learning_rate': 0.0002472811311567939}. Best is trial 54 with value: 0.6294416243654822.\n"
     ]
    },
    {
     "name": "stdout",
     "output_type": "stream",
     "text": [
      "Accuracy: 57.55%\n",
      "Precision: 0.4572\n",
      "Recall: 0.9762\n",
      "F1 Score: 0.6228\n",
      "Matthews Correlation Coefficient: 0.3711\n",
      "Specificity: 0.3511\n"
     ]
    },
    {
     "name": "stderr",
     "output_type": "stream",
     "text": [
      "/tmp/ipykernel_187141/2037634495.py:10: FutureWarning: suggest_loguniform has been deprecated in v3.0.0. This feature will be removed in v6.0.0. See https://github.com/optuna/optuna/releases/tag/v3.0.0. Use suggest_float(..., log=True) instead.\n",
      "  learning_rate = trial.suggest_loguniform('learning_rate', 1e-5, 1e-1)\n",
      "/home/gonken/anaconda3/envs/torch/lib/python3.12/site-packages/torch/nn/modules/transformer.py:379: UserWarning: enable_nested_tensor is True, but self.use_nested_tensor is False because encoder_layer.self_attn.batch_first was not True(use batch_first for better inference performance)\n",
      "  warnings.warn(\n",
      "[I 2024-11-28 23:20:16,378] Trial 88 finished with value: 0.5730994152046783 and parameters: {'num_heads': 4, 'num_layers': 4, 'd_model': 64, 'dropout': 0.4, 'learning_rate': 7.4545321191838e-05}. Best is trial 54 with value: 0.6294416243654822.\n"
     ]
    },
    {
     "name": "stdout",
     "output_type": "stream",
     "text": [
      "Accuracy: 58.40%\n",
      "Precision: 0.4537\n",
      "Recall: 0.7778\n",
      "F1 Score: 0.5731\n",
      "Matthews Correlation Coefficient: 0.2498\n",
      "Specificity: 0.4756\n"
     ]
    },
    {
     "name": "stderr",
     "output_type": "stream",
     "text": [
      "/tmp/ipykernel_187141/2037634495.py:10: FutureWarning: suggest_loguniform has been deprecated in v3.0.0. This feature will be removed in v6.0.0. See https://github.com/optuna/optuna/releases/tag/v3.0.0. Use suggest_float(..., log=True) instead.\n",
      "  learning_rate = trial.suggest_loguniform('learning_rate', 1e-5, 1e-1)\n",
      "/home/gonken/anaconda3/envs/torch/lib/python3.12/site-packages/torch/nn/modules/transformer.py:379: UserWarning: enable_nested_tensor is True, but self.use_nested_tensor is False because encoder_layer.self_attn.batch_first was not True(use batch_first for better inference performance)\n",
      "  warnings.warn(\n",
      "[I 2024-11-28 23:23:33,901] Trial 89 finished with value: 0.6233766233766234 and parameters: {'num_heads': 4, 'num_layers': 4, 'd_model': 32, 'dropout': 0.5, 'learning_rate': 0.00014975614113004433}. Best is trial 54 with value: 0.6294416243654822.\n"
     ]
    },
    {
     "name": "stdout",
     "output_type": "stream",
     "text": [
      "Accuracy: 58.69%\n",
      "Precision: 0.4633\n",
      "Recall: 0.9524\n",
      "F1 Score: 0.6234\n",
      "Matthews Correlation Coefficient: 0.3650\n",
      "Specificity: 0.3822\n"
     ]
    },
    {
     "name": "stderr",
     "output_type": "stream",
     "text": [
      "/tmp/ipykernel_187141/2037634495.py:10: FutureWarning: suggest_loguniform has been deprecated in v3.0.0. This feature will be removed in v6.0.0. See https://github.com/optuna/optuna/releases/tag/v3.0.0. Use suggest_float(..., log=True) instead.\n",
      "  learning_rate = trial.suggest_loguniform('learning_rate', 1e-5, 1e-1)\n",
      "/home/gonken/anaconda3/envs/torch/lib/python3.12/site-packages/torch/nn/modules/transformer.py:379: UserWarning: enable_nested_tensor is True, but self.use_nested_tensor is False because encoder_layer.self_attn.batch_first was not True(use batch_first for better inference performance)\n",
      "  warnings.warn(\n",
      "[I 2024-11-28 23:27:12,320] Trial 90 finished with value: 0.6282722513089005 and parameters: {'num_heads': 8, 'num_layers': 5, 'd_model': 128, 'dropout': 0.5, 'learning_rate': 5.3134614759440934e-05}. Best is trial 54 with value: 0.6294416243654822.\n"
     ]
    },
    {
     "name": "stdout",
     "output_type": "stream",
     "text": [
      "Accuracy: 59.54%\n",
      "Precision: 0.4688\n",
      "Recall: 0.9524\n",
      "F1 Score: 0.6283\n",
      "Matthews Correlation Coefficient: 0.3757\n",
      "Specificity: 0.3956\n"
     ]
    },
    {
     "name": "stderr",
     "output_type": "stream",
     "text": [
      "/tmp/ipykernel_187141/2037634495.py:10: FutureWarning: suggest_loguniform has been deprecated in v3.0.0. This feature will be removed in v6.0.0. See https://github.com/optuna/optuna/releases/tag/v3.0.0. Use suggest_float(..., log=True) instead.\n",
      "  learning_rate = trial.suggest_loguniform('learning_rate', 1e-5, 1e-1)\n",
      "/home/gonken/anaconda3/envs/torch/lib/python3.12/site-packages/torch/nn/modules/transformer.py:379: UserWarning: enable_nested_tensor is True, but self.use_nested_tensor is False because encoder_layer.self_attn.batch_first was not True(use batch_first for better inference performance)\n",
      "  warnings.warn(\n",
      "[I 2024-11-28 23:30:54,193] Trial 91 finished with value: 0.5779036827195467 and parameters: {'num_heads': 8, 'num_layers': 5, 'd_model': 128, 'dropout': 0.5, 'learning_rate': 3.432271766166396e-05}. Best is trial 54 with value: 0.6294416243654822.\n"
     ]
    },
    {
     "name": "stdout",
     "output_type": "stream",
     "text": [
      "Accuracy: 57.55%\n",
      "Precision: 0.4493\n",
      "Recall: 0.8095\n",
      "F1 Score: 0.5779\n",
      "Matthews Correlation Coefficient: 0.2549\n",
      "Specificity: 0.4444\n"
     ]
    },
    {
     "name": "stderr",
     "output_type": "stream",
     "text": [
      "/tmp/ipykernel_187141/2037634495.py:10: FutureWarning: suggest_loguniform has been deprecated in v3.0.0. This feature will be removed in v6.0.0. See https://github.com/optuna/optuna/releases/tag/v3.0.0. Use suggest_float(..., log=True) instead.\n",
      "  learning_rate = trial.suggest_loguniform('learning_rate', 1e-5, 1e-1)\n",
      "/home/gonken/anaconda3/envs/torch/lib/python3.12/site-packages/torch/nn/modules/transformer.py:379: UserWarning: enable_nested_tensor is True, but self.use_nested_tensor is False because encoder_layer.self_attn.batch_first was not True(use batch_first for better inference performance)\n",
      "  warnings.warn(\n",
      "[I 2024-11-28 23:34:32,243] Trial 92 finished with value: 0.5950413223140496 and parameters: {'num_heads': 8, 'num_layers': 5, 'd_model': 128, 'dropout': 0.5, 'learning_rate': 4.913517142596972e-05}. Best is trial 54 with value: 0.6294416243654822.\n"
     ]
    },
    {
     "name": "stdout",
     "output_type": "stream",
     "text": [
      "Accuracy: 58.12%\n",
      "Precision: 0.4557\n",
      "Recall: 0.8571\n",
      "F1 Score: 0.5950\n",
      "Matthews Correlation Coefficient: 0.2907\n",
      "Specificity: 0.4267\n"
     ]
    },
    {
     "name": "stderr",
     "output_type": "stream",
     "text": [
      "/tmp/ipykernel_187141/2037634495.py:10: FutureWarning: suggest_loguniform has been deprecated in v3.0.0. This feature will be removed in v6.0.0. See https://github.com/optuna/optuna/releases/tag/v3.0.0. Use suggest_float(..., log=True) instead.\n",
      "  learning_rate = trial.suggest_loguniform('learning_rate', 1e-5, 1e-1)\n",
      "/home/gonken/anaconda3/envs/torch/lib/python3.12/site-packages/torch/nn/modules/transformer.py:379: UserWarning: enable_nested_tensor is True, but self.use_nested_tensor is False because encoder_layer.self_attn.batch_first was not True(use batch_first for better inference performance)\n",
      "  warnings.warn(\n",
      "[I 2024-11-28 23:38:25,157] Trial 93 finished with value: 0.6266318537859008 and parameters: {'num_heads': 8, 'num_layers': 5, 'd_model': 128, 'dropout': 0.5, 'learning_rate': 1.8678866185193544e-05}. Best is trial 54 with value: 0.6294416243654822.\n"
     ]
    },
    {
     "name": "stdout",
     "output_type": "stream",
     "text": [
      "Accuracy: 59.26%\n",
      "Precision: 0.4669\n",
      "Recall: 0.9524\n",
      "F1 Score: 0.6266\n",
      "Matthews Correlation Coefficient: 0.3721\n",
      "Specificity: 0.3911\n"
     ]
    },
    {
     "name": "stderr",
     "output_type": "stream",
     "text": [
      "/tmp/ipykernel_187141/2037634495.py:10: FutureWarning: suggest_loguniform has been deprecated in v3.0.0. This feature will be removed in v6.0.0. See https://github.com/optuna/optuna/releases/tag/v3.0.0. Use suggest_float(..., log=True) instead.\n",
      "  learning_rate = trial.suggest_loguniform('learning_rate', 1e-5, 1e-1)\n",
      "/home/gonken/anaconda3/envs/torch/lib/python3.12/site-packages/torch/nn/modules/transformer.py:379: UserWarning: enable_nested_tensor is True, but self.use_nested_tensor is False because encoder_layer.self_attn.batch_first was not True(use batch_first for better inference performance)\n",
      "  warnings.warn(\n",
      "[I 2024-11-28 23:42:05,901] Trial 94 finished with value: 0.6321243523316062 and parameters: {'num_heads': 8, 'num_layers': 5, 'd_model': 128, 'dropout': 0.5, 'learning_rate': 1.4506550279902921e-05}. Best is trial 94 with value: 0.6321243523316062.\n"
     ]
    },
    {
     "name": "stdout",
     "output_type": "stream",
     "text": [
      "Accuracy: 59.54%\n",
      "Precision: 0.4692\n",
      "Recall: 0.9683\n",
      "F1 Score: 0.6321\n",
      "Matthews Correlation Coefficient: 0.3885\n",
      "Specificity: 0.3867\n"
     ]
    },
    {
     "name": "stderr",
     "output_type": "stream",
     "text": [
      "/tmp/ipykernel_187141/2037634495.py:10: FutureWarning: suggest_loguniform has been deprecated in v3.0.0. This feature will be removed in v6.0.0. See https://github.com/optuna/optuna/releases/tag/v3.0.0. Use suggest_float(..., log=True) instead.\n",
      "  learning_rate = trial.suggest_loguniform('learning_rate', 1e-5, 1e-1)\n",
      "/home/gonken/anaconda3/envs/torch/lib/python3.12/site-packages/torch/nn/modules/transformer.py:379: UserWarning: enable_nested_tensor is True, but self.use_nested_tensor is False because encoder_layer.self_attn.batch_first was not True(use batch_first for better inference performance)\n",
      "  warnings.warn(\n",
      "[I 2024-11-28 23:45:42,762] Trial 95 finished with value: 0.6129032258064516 and parameters: {'num_heads': 8, 'num_layers': 5, 'd_model': 128, 'dropout': 0.5, 'learning_rate': 3.0481431719178153e-05}. Best is trial 94 with value: 0.6321243523316062.\n"
     ]
    },
    {
     "name": "stdout",
     "output_type": "stream",
     "text": [
      "Accuracy: 58.97%\n",
      "Precision: 0.4634\n",
      "Recall: 0.9048\n",
      "F1 Score: 0.6129\n",
      "Matthews Correlation Coefficient: 0.3333\n",
      "Specificity: 0.4133\n"
     ]
    },
    {
     "name": "stderr",
     "output_type": "stream",
     "text": [
      "/tmp/ipykernel_187141/2037634495.py:10: FutureWarning: suggest_loguniform has been deprecated in v3.0.0. This feature will be removed in v6.0.0. See https://github.com/optuna/optuna/releases/tag/v3.0.0. Use suggest_float(..., log=True) instead.\n",
      "  learning_rate = trial.suggest_loguniform('learning_rate', 1e-5, 1e-1)\n",
      "/home/gonken/anaconda3/envs/torch/lib/python3.12/site-packages/torch/nn/modules/transformer.py:379: UserWarning: enable_nested_tensor is True, but self.use_nested_tensor is False because encoder_layer.self_attn.batch_first was not True(use batch_first for better inference performance)\n",
      "  warnings.warn(\n",
      "[I 2024-11-28 23:49:19,842] Trial 96 finished with value: 0.6174142480211082 and parameters: {'num_heads': 8, 'num_layers': 5, 'd_model': 128, 'dropout': 0.5, 'learning_rate': 1.5841439267589005e-05}. Best is trial 94 with value: 0.6321243523316062.\n"
     ]
    },
    {
     "name": "stdout",
     "output_type": "stream",
     "text": [
      "Accuracy: 58.69%\n",
      "Precision: 0.4625\n",
      "Recall: 0.9286\n",
      "F1 Score: 0.6174\n",
      "Matthews Correlation Coefficient: 0.3466\n",
      "Specificity: 0.3956\n"
     ]
    },
    {
     "name": "stderr",
     "output_type": "stream",
     "text": [
      "/tmp/ipykernel_187141/2037634495.py:10: FutureWarning: suggest_loguniform has been deprecated in v3.0.0. This feature will be removed in v6.0.0. See https://github.com/optuna/optuna/releases/tag/v3.0.0. Use suggest_float(..., log=True) instead.\n",
      "  learning_rate = trial.suggest_loguniform('learning_rate', 1e-5, 1e-1)\n",
      "/home/gonken/anaconda3/envs/torch/lib/python3.12/site-packages/torch/nn/modules/transformer.py:379: UserWarning: enable_nested_tensor is True, but self.use_nested_tensor is False because encoder_layer.self_attn.batch_first was not True(use batch_first for better inference performance)\n",
      "  warnings.warn(\n",
      "[I 2024-11-28 23:52:32,341] Trial 97 finished with value: 0.5085910652920962 and parameters: {'num_heads': 8, 'num_layers': 4, 'd_model': 128, 'dropout': 0.5, 'learning_rate': 2.678480457299264e-05}. Best is trial 94 with value: 0.6321243523316062.\n"
     ]
    },
    {
     "name": "stdout",
     "output_type": "stream",
     "text": [
      "Accuracy: 59.26%\n",
      "Precision: 0.4485\n",
      "Recall: 0.5873\n",
      "F1 Score: 0.5086\n",
      "Matthews Correlation Coefficient: 0.1757\n",
      "Specificity: 0.5956\n"
     ]
    },
    {
     "name": "stderr",
     "output_type": "stream",
     "text": [
      "/tmp/ipykernel_187141/2037634495.py:10: FutureWarning: suggest_loguniform has been deprecated in v3.0.0. This feature will be removed in v6.0.0. See https://github.com/optuna/optuna/releases/tag/v3.0.0. Use suggest_float(..., log=True) instead.\n",
      "  learning_rate = trial.suggest_loguniform('learning_rate', 1e-5, 1e-1)\n",
      "/home/gonken/anaconda3/envs/torch/lib/python3.12/site-packages/torch/nn/modules/transformer.py:379: UserWarning: enable_nested_tensor is True, but self.use_nested_tensor is False because encoder_layer.self_attn.batch_first was not True(use batch_first for better inference performance)\n",
      "  warnings.warn(\n",
      "[I 2024-11-28 23:56:07,062] Trial 98 finished with value: 0.6304909560723514 and parameters: {'num_heads': 8, 'num_layers': 5, 'd_model': 128, 'dropout': 0.5, 'learning_rate': 1.4500780952912481e-05}. Best is trial 94 with value: 0.6321243523316062.\n"
     ]
    },
    {
     "name": "stdout",
     "output_type": "stream",
     "text": [
      "Accuracy: 59.26%\n",
      "Precision: 0.4674\n",
      "Recall: 0.9683\n",
      "F1 Score: 0.6305\n",
      "Matthews Correlation Coefficient: 0.3850\n",
      "Specificity: 0.3822\n"
     ]
    },
    {
     "name": "stderr",
     "output_type": "stream",
     "text": [
      "/tmp/ipykernel_187141/2037634495.py:10: FutureWarning: suggest_loguniform has been deprecated in v3.0.0. This feature will be removed in v6.0.0. See https://github.com/optuna/optuna/releases/tag/v3.0.0. Use suggest_float(..., log=True) instead.\n",
      "  learning_rate = trial.suggest_loguniform('learning_rate', 1e-5, 1e-1)\n",
      "/home/gonken/anaconda3/envs/torch/lib/python3.12/site-packages/torch/nn/modules/transformer.py:379: UserWarning: enable_nested_tensor is True, but self.use_nested_tensor is False because encoder_layer.self_attn.batch_first was not True(use batch_first for better inference performance)\n",
      "  warnings.warn(\n",
      "[I 2024-11-28 23:59:48,022] Trial 99 finished with value: 0.6230366492146597 and parameters: {'num_heads': 8, 'num_layers': 5, 'd_model': 128, 'dropout': 0.5, 'learning_rate': 1.601823907661446e-05}. Best is trial 94 with value: 0.6321243523316062.\n"
     ]
    },
    {
     "name": "stdout",
     "output_type": "stream",
     "text": [
      "Accuracy: 58.97%\n",
      "Precision: 0.4648\n",
      "Recall: 0.9444\n",
      "F1 Score: 0.6230\n",
      "Matthews Correlation Coefficient: 0.3623\n",
      "Specificity: 0.3911\n",
      "Best Parameters:  {'num_heads': 8, 'num_layers': 5, 'd_model': 128, 'dropout': 0.5, 'learning_rate': 1.4506550279902921e-05}\n",
      "Best Validation F1:  0.6321243523316062\n"
     ]
    }
   ],
   "source": [
    "device = torch.device(\"cuda\" if torch.cuda.is_available() else \"cpu\")\n",
    "\n",
    "study = optuna.create_study(direction=\"maximize\")  \n",
    "study.optimize(objective, n_trials=100)\n",
    "\n",
    "\n",
    "print(\"Best Parameters: \", study.best_params)\n",
    "print(\"Best Validation F1: \", study.best_value)\n"
   ]
  },
  {
   "cell_type": "code",
   "execution_count": 13,
   "metadata": {},
   "outputs": [
    {
     "name": "stderr",
     "output_type": "stream",
     "text": [
      "/home/gonken/anaconda3/envs/torch/lib/python3.12/site-packages/torch/nn/modules/transformer.py:379: UserWarning: enable_nested_tensor is True, but self.use_nested_tensor is False because encoder_layer.self_attn.batch_first was not True(use batch_first for better inference performance)\n",
      "  warnings.warn(\n"
     ]
    },
    {
     "name": "stdout",
     "output_type": "stream",
     "text": [
      "Epoch [1/200], Loss: 0.6739\n",
      "Epoch [1/200], Train Loss: 0.6739, Val Loss: 0.6002\n",
      "Epoch [2/200], Loss: 0.6584\n",
      "Epoch [2/200], Train Loss: 0.6584, Val Loss: 0.5941\n",
      "Epoch [3/200], Loss: 0.6418\n",
      "Epoch [3/200], Train Loss: 0.6418, Val Loss: 0.5950\n",
      "Epoch [4/200], Loss: 0.6327\n",
      "Epoch [4/200], Train Loss: 0.6327, Val Loss: 0.5949\n",
      "Epoch [5/200], Loss: 0.6247\n",
      "Epoch [5/200], Train Loss: 0.6247, Val Loss: 0.5957\n",
      "Epoch [6/200], Loss: 0.6220\n",
      "Epoch [6/200], Train Loss: 0.6220, Val Loss: 0.5967\n",
      "Epoch [7/200], Loss: 0.6146\n",
      "Epoch [7/200], Train Loss: 0.6146, Val Loss: 0.5984\n",
      "Epoch [8/200], Loss: 0.6146\n",
      "Epoch [8/200], Train Loss: 0.6146, Val Loss: 0.5935\n",
      "Epoch [9/200], Loss: 0.6036\n",
      "Epoch [9/200], Train Loss: 0.6036, Val Loss: 0.5892\n",
      "Epoch [10/200], Loss: 0.5963\n",
      "Epoch [10/200], Train Loss: 0.5963, Val Loss: 0.5997\n",
      "Epoch [11/200], Loss: 0.5997\n",
      "Epoch [11/200], Train Loss: 0.5997, Val Loss: 0.5857\n",
      "Epoch [12/200], Loss: 0.5974\n",
      "Epoch [12/200], Train Loss: 0.5974, Val Loss: 0.5954\n",
      "Epoch [13/200], Loss: 0.5925\n",
      "Epoch [13/200], Train Loss: 0.5925, Val Loss: 0.5810\n",
      "Epoch [14/200], Loss: 0.5915\n",
      "Epoch [14/200], Train Loss: 0.5915, Val Loss: 0.5804\n",
      "Epoch [15/200], Loss: 0.5863\n",
      "Epoch [15/200], Train Loss: 0.5863, Val Loss: 0.5811\n",
      "Epoch [16/200], Loss: 0.5854\n",
      "Epoch [16/200], Train Loss: 0.5854, Val Loss: 0.5846\n",
      "Epoch [17/200], Loss: 0.5766\n",
      "Epoch [17/200], Train Loss: 0.5766, Val Loss: 0.5773\n",
      "Epoch [18/200], Loss: 0.5868\n",
      "Epoch [18/200], Train Loss: 0.5868, Val Loss: 0.5838\n",
      "Epoch [19/200], Loss: 0.5817\n",
      "Epoch [19/200], Train Loss: 0.5817, Val Loss: 0.5808\n",
      "Epoch [20/200], Loss: 0.5735\n",
      "Epoch [20/200], Train Loss: 0.5735, Val Loss: 0.5796\n",
      "Epoch [21/200], Loss: 0.5762\n",
      "Epoch [21/200], Train Loss: 0.5762, Val Loss: 0.5768\n",
      "Epoch [22/200], Loss: 0.5753\n",
      "Epoch [22/200], Train Loss: 0.5753, Val Loss: 0.5783\n",
      "Epoch [23/200], Loss: 0.5786\n",
      "Epoch [23/200], Train Loss: 0.5786, Val Loss: 0.5768\n",
      "Epoch [24/200], Loss: 0.5714\n",
      "Epoch [24/200], Train Loss: 0.5714, Val Loss: 0.5715\n",
      "Epoch [25/200], Loss: 0.5700\n",
      "Epoch [25/200], Train Loss: 0.5700, Val Loss: 0.5789\n",
      "Epoch [26/200], Loss: 0.5692\n",
      "Epoch [26/200], Train Loss: 0.5692, Val Loss: 0.5725\n",
      "Epoch [27/200], Loss: 0.5759\n",
      "Epoch [27/200], Train Loss: 0.5759, Val Loss: 0.5712\n",
      "Epoch [28/200], Loss: 0.5718\n",
      "Epoch [28/200], Train Loss: 0.5718, Val Loss: 0.5725\n",
      "Epoch [29/200], Loss: 0.5734\n",
      "Epoch [29/200], Train Loss: 0.5734, Val Loss: 0.5762\n",
      "Epoch [30/200], Loss: 0.5661\n",
      "Epoch [30/200], Train Loss: 0.5661, Val Loss: 0.5713\n",
      "Epoch [31/200], Loss: 0.5703\n",
      "Epoch [31/200], Train Loss: 0.5703, Val Loss: 0.5701\n",
      "Epoch [32/200], Loss: 0.5696\n",
      "Epoch [32/200], Train Loss: 0.5696, Val Loss: 0.5731\n",
      "Epoch [33/200], Loss: 0.5713\n",
      "Epoch [33/200], Train Loss: 0.5713, Val Loss: 0.5718\n",
      "Epoch [34/200], Loss: 0.5651\n",
      "Epoch [34/200], Train Loss: 0.5651, Val Loss: 0.5748\n",
      "Epoch [35/200], Loss: 0.5677\n",
      "Epoch [35/200], Train Loss: 0.5677, Val Loss: 0.5740\n",
      "Epoch [36/200], Loss: 0.5666\n",
      "Epoch [36/200], Train Loss: 0.5666, Val Loss: 0.5741\n",
      "Epoch [37/200], Loss: 0.5652\n",
      "Epoch [37/200], Train Loss: 0.5652, Val Loss: 0.5778\n",
      "Epoch [38/200], Loss: 0.5681\n",
      "Epoch [38/200], Train Loss: 0.5681, Val Loss: 0.5741\n",
      "Epoch [39/200], Loss: 0.5665\n",
      "Epoch [39/200], Train Loss: 0.5665, Val Loss: 0.5749\n",
      "Epoch [40/200], Loss: 0.5655\n",
      "Epoch [40/200], Train Loss: 0.5655, Val Loss: 0.5690\n",
      "Epoch [41/200], Loss: 0.5660\n",
      "Epoch [41/200], Train Loss: 0.5660, Val Loss: 0.5801\n",
      "Epoch [42/200], Loss: 0.5658\n",
      "Epoch [42/200], Train Loss: 0.5658, Val Loss: 0.5738\n",
      "Epoch [43/200], Loss: 0.5592\n",
      "Epoch [43/200], Train Loss: 0.5592, Val Loss: 0.5773\n",
      "Epoch [44/200], Loss: 0.5651\n",
      "Epoch [44/200], Train Loss: 0.5651, Val Loss: 0.5764\n",
      "Epoch [45/200], Loss: 0.5704\n",
      "Epoch [45/200], Train Loss: 0.5704, Val Loss: 0.5756\n",
      "Epoch [46/200], Loss: 0.5667\n",
      "Epoch [46/200], Train Loss: 0.5667, Val Loss: 0.5739\n",
      "Epoch [47/200], Loss: 0.5627\n",
      "Epoch [47/200], Train Loss: 0.5627, Val Loss: 0.5763\n",
      "Epoch [48/200], Loss: 0.5653\n",
      "Epoch [48/200], Train Loss: 0.5653, Val Loss: 0.5726\n",
      "Epoch [49/200], Loss: 0.5653\n",
      "Epoch [49/200], Train Loss: 0.5653, Val Loss: 0.5788\n",
      "Epoch [50/200], Loss: 0.5684\n",
      "Epoch [50/200], Train Loss: 0.5684, Val Loss: 0.5739\n",
      "Epoch [51/200], Loss: 0.5673\n",
      "Epoch [51/200], Train Loss: 0.5673, Val Loss: 0.5768\n",
      "Epoch [52/200], Loss: 0.5639\n",
      "Epoch [52/200], Train Loss: 0.5639, Val Loss: 0.5693\n",
      "Epoch [53/200], Loss: 0.5644\n",
      "Epoch [53/200], Train Loss: 0.5644, Val Loss: 0.5672\n",
      "Epoch [54/200], Loss: 0.5654\n",
      "Epoch [54/200], Train Loss: 0.5654, Val Loss: 0.5716\n",
      "Epoch [55/200], Loss: 0.5666\n",
      "Epoch [55/200], Train Loss: 0.5666, Val Loss: 0.5723\n",
      "Epoch [56/200], Loss: 0.5650\n",
      "Epoch [56/200], Train Loss: 0.5650, Val Loss: 0.5712\n",
      "Epoch [57/200], Loss: 0.5648\n",
      "Epoch [57/200], Train Loss: 0.5648, Val Loss: 0.5778\n",
      "Epoch [58/200], Loss: 0.5612\n",
      "Epoch [58/200], Train Loss: 0.5612, Val Loss: 0.5734\n",
      "Epoch [59/200], Loss: 0.5624\n",
      "Epoch [59/200], Train Loss: 0.5624, Val Loss: 0.5758\n",
      "Epoch [60/200], Loss: 0.5664\n",
      "Epoch [60/200], Train Loss: 0.5664, Val Loss: 0.5739\n",
      "Epoch [61/200], Loss: 0.5630\n",
      "Epoch [61/200], Train Loss: 0.5630, Val Loss: 0.5774\n",
      "Epoch [62/200], Loss: 0.5660\n",
      "Epoch [62/200], Train Loss: 0.5660, Val Loss: 0.5710\n",
      "Epoch [63/200], Loss: 0.5681\n",
      "Epoch [63/200], Train Loss: 0.5681, Val Loss: 0.5708\n",
      "Epoch [64/200], Loss: 0.5642\n",
      "Epoch [64/200], Train Loss: 0.5642, Val Loss: 0.5739\n",
      "Epoch [65/200], Loss: 0.5582\n",
      "Epoch [65/200], Train Loss: 0.5582, Val Loss: 0.5766\n",
      "Epoch [66/200], Loss: 0.5647\n",
      "Epoch [66/200], Train Loss: 0.5647, Val Loss: 0.5748\n",
      "Epoch [67/200], Loss: 0.5621\n",
      "Epoch [67/200], Train Loss: 0.5621, Val Loss: 0.5772\n",
      "Epoch [68/200], Loss: 0.5632\n",
      "Epoch [68/200], Train Loss: 0.5632, Val Loss: 0.5768\n",
      "Epoch [69/200], Loss: 0.5627\n",
      "Epoch [69/200], Train Loss: 0.5627, Val Loss: 0.5765\n",
      "Epoch [70/200], Loss: 0.5636\n",
      "Epoch [70/200], Train Loss: 0.5636, Val Loss: 0.5767\n",
      "Epoch [71/200], Loss: 0.5614\n",
      "Epoch [71/200], Train Loss: 0.5614, Val Loss: 0.5760\n",
      "Epoch [72/200], Loss: 0.5603\n",
      "Epoch [72/200], Train Loss: 0.5603, Val Loss: 0.5728\n",
      "Epoch [73/200], Loss: 0.5649\n",
      "Epoch [73/200], Train Loss: 0.5649, Val Loss: 0.5693\n",
      "Epoch [74/200], Loss: 0.5632\n",
      "Epoch [74/200], Train Loss: 0.5632, Val Loss: 0.5747\n",
      "Epoch [75/200], Loss: 0.5621\n",
      "Epoch [75/200], Train Loss: 0.5621, Val Loss: 0.5742\n",
      "Epoch [76/200], Loss: 0.5642\n",
      "Epoch [76/200], Train Loss: 0.5642, Val Loss: 0.5714\n",
      "Epoch [77/200], Loss: 0.5624\n",
      "Epoch [77/200], Train Loss: 0.5624, Val Loss: 0.5753\n",
      "Epoch [78/200], Loss: 0.5619\n",
      "Epoch [78/200], Train Loss: 0.5619, Val Loss: 0.5775\n",
      "Epoch [79/200], Loss: 0.5657\n",
      "Epoch [79/200], Train Loss: 0.5657, Val Loss: 0.5777\n",
      "Epoch [80/200], Loss: 0.5621\n",
      "Epoch [80/200], Train Loss: 0.5621, Val Loss: 0.5734\n",
      "Epoch [81/200], Loss: 0.5621\n",
      "Epoch [81/200], Train Loss: 0.5621, Val Loss: 0.5762\n",
      "Epoch [82/200], Loss: 0.5583\n",
      "Epoch [82/200], Train Loss: 0.5583, Val Loss: 0.5728\n",
      "Epoch [83/200], Loss: 0.5618\n",
      "Epoch [83/200], Train Loss: 0.5618, Val Loss: 0.5753\n",
      "Epoch [84/200], Loss: 0.5631\n",
      "Epoch [84/200], Train Loss: 0.5631, Val Loss: 0.5667\n",
      "Epoch [85/200], Loss: 0.5622\n",
      "Epoch [85/200], Train Loss: 0.5622, Val Loss: 0.5653\n",
      "Epoch [86/200], Loss: 0.5596\n",
      "Epoch [86/200], Train Loss: 0.5596, Val Loss: 0.5743\n",
      "Epoch [87/200], Loss: 0.5581\n",
      "Epoch [87/200], Train Loss: 0.5581, Val Loss: 0.5726\n",
      "Epoch [88/200], Loss: 0.5595\n",
      "Epoch [88/200], Train Loss: 0.5595, Val Loss: 0.5773\n",
      "Epoch [89/200], Loss: 0.5620\n",
      "Epoch [89/200], Train Loss: 0.5620, Val Loss: 0.5799\n",
      "Epoch [90/200], Loss: 0.5595\n",
      "Epoch [90/200], Train Loss: 0.5595, Val Loss: 0.5712\n",
      "Epoch [91/200], Loss: 0.5621\n",
      "Epoch [91/200], Train Loss: 0.5621, Val Loss: 0.5732\n",
      "Epoch [92/200], Loss: 0.5577\n",
      "Epoch [92/200], Train Loss: 0.5577, Val Loss: 0.5760\n",
      "Epoch [93/200], Loss: 0.5605\n",
      "Epoch [93/200], Train Loss: 0.5605, Val Loss: 0.5720\n",
      "Epoch [94/200], Loss: 0.5634\n",
      "Epoch [94/200], Train Loss: 0.5634, Val Loss: 0.5688\n",
      "Epoch [95/200], Loss: 0.5610\n",
      "Epoch [95/200], Train Loss: 0.5610, Val Loss: 0.5719\n",
      "Epoch [96/200], Loss: 0.5590\n",
      "Epoch [96/200], Train Loss: 0.5590, Val Loss: 0.5716\n",
      "Epoch [97/200], Loss: 0.5585\n",
      "Epoch [97/200], Train Loss: 0.5585, Val Loss: 0.5714\n",
      "Epoch [98/200], Loss: 0.5625\n",
      "Epoch [98/200], Train Loss: 0.5625, Val Loss: 0.5749\n",
      "Epoch [99/200], Loss: 0.5597\n",
      "Epoch [99/200], Train Loss: 0.5597, Val Loss: 0.5732\n",
      "Epoch [100/200], Loss: 0.5575\n",
      "Epoch [100/200], Train Loss: 0.5575, Val Loss: 0.5797\n",
      "Epoch [101/200], Loss: 0.5580\n",
      "Epoch [101/200], Train Loss: 0.5580, Val Loss: 0.5722\n",
      "Epoch [102/200], Loss: 0.5606\n",
      "Epoch [102/200], Train Loss: 0.5606, Val Loss: 0.5695\n",
      "Epoch [103/200], Loss: 0.5592\n",
      "Epoch [103/200], Train Loss: 0.5592, Val Loss: 0.5714\n",
      "Epoch [104/200], Loss: 0.5593\n",
      "Epoch [104/200], Train Loss: 0.5593, Val Loss: 0.5784\n",
      "Epoch [105/200], Loss: 0.5569\n",
      "Epoch [105/200], Train Loss: 0.5569, Val Loss: 0.5792\n",
      "Epoch [106/200], Loss: 0.5585\n",
      "Epoch [106/200], Train Loss: 0.5585, Val Loss: 0.5804\n",
      "Epoch [107/200], Loss: 0.5573\n",
      "Epoch [107/200], Train Loss: 0.5573, Val Loss: 0.5750\n",
      "Epoch [108/200], Loss: 0.5603\n",
      "Epoch [108/200], Train Loss: 0.5603, Val Loss: 0.5709\n",
      "Epoch [109/200], Loss: 0.5573\n",
      "Epoch [109/200], Train Loss: 0.5573, Val Loss: 0.5748\n",
      "Epoch [110/200], Loss: 0.5590\n",
      "Epoch [110/200], Train Loss: 0.5590, Val Loss: 0.5720\n",
      "Epoch [111/200], Loss: 0.5592\n",
      "Epoch [111/200], Train Loss: 0.5592, Val Loss: 0.5755\n",
      "Epoch [112/200], Loss: 0.5610\n",
      "Epoch [112/200], Train Loss: 0.5610, Val Loss: 0.5681\n",
      "Epoch [113/200], Loss: 0.5602\n",
      "Epoch [113/200], Train Loss: 0.5602, Val Loss: 0.5677\n",
      "Epoch [114/200], Loss: 0.5584\n",
      "Epoch [114/200], Train Loss: 0.5584, Val Loss: 0.5776\n",
      "Epoch [115/200], Loss: 0.5592\n",
      "Epoch [115/200], Train Loss: 0.5592, Val Loss: 0.5666\n",
      "Epoch [116/200], Loss: 0.5575\n",
      "Epoch [116/200], Train Loss: 0.5575, Val Loss: 0.5662\n",
      "Epoch [117/200], Loss: 0.5608\n",
      "Epoch [117/200], Train Loss: 0.5608, Val Loss: 0.5712\n",
      "Epoch [118/200], Loss: 0.5578\n",
      "Epoch [118/200], Train Loss: 0.5578, Val Loss: 0.5766\n",
      "Epoch [119/200], Loss: 0.5608\n",
      "Epoch [119/200], Train Loss: 0.5608, Val Loss: 0.5688\n",
      "Epoch [120/200], Loss: 0.5571\n",
      "Epoch [120/200], Train Loss: 0.5571, Val Loss: 0.5749\n",
      "Epoch [121/200], Loss: 0.5569\n",
      "Epoch [121/200], Train Loss: 0.5569, Val Loss: 0.5739\n",
      "Epoch [122/200], Loss: 0.5556\n",
      "Epoch [122/200], Train Loss: 0.5556, Val Loss: 0.5703\n",
      "Epoch [123/200], Loss: 0.5548\n",
      "Epoch [123/200], Train Loss: 0.5548, Val Loss: 0.5743\n",
      "Epoch [124/200], Loss: 0.5577\n",
      "Epoch [124/200], Train Loss: 0.5577, Val Loss: 0.5638\n",
      "Epoch [125/200], Loss: 0.5572\n",
      "Epoch [125/200], Train Loss: 0.5572, Val Loss: 0.5738\n",
      "Epoch [126/200], Loss: 0.5548\n",
      "Epoch [126/200], Train Loss: 0.5548, Val Loss: 0.5763\n",
      "Epoch [127/200], Loss: 0.5575\n",
      "Epoch [127/200], Train Loss: 0.5575, Val Loss: 0.5730\n",
      "Epoch [128/200], Loss: 0.5570\n",
      "Epoch [128/200], Train Loss: 0.5570, Val Loss: 0.5694\n",
      "Epoch [129/200], Loss: 0.5593\n",
      "Epoch [129/200], Train Loss: 0.5593, Val Loss: 0.5691\n",
      "Epoch [130/200], Loss: 0.5614\n",
      "Epoch [130/200], Train Loss: 0.5614, Val Loss: 0.5679\n",
      "Epoch [131/200], Loss: 0.5589\n",
      "Epoch [131/200], Train Loss: 0.5589, Val Loss: 0.5705\n",
      "Epoch [132/200], Loss: 0.5596\n",
      "Epoch [132/200], Train Loss: 0.5596, Val Loss: 0.5694\n",
      "Epoch [133/200], Loss: 0.5577\n",
      "Epoch [133/200], Train Loss: 0.5577, Val Loss: 0.5691\n",
      "Epoch [134/200], Loss: 0.5583\n",
      "Epoch [134/200], Train Loss: 0.5583, Val Loss: 0.5706\n",
      "Epoch [135/200], Loss: 0.5583\n",
      "Epoch [135/200], Train Loss: 0.5583, Val Loss: 0.5704\n",
      "Epoch [136/200], Loss: 0.5536\n",
      "Epoch [136/200], Train Loss: 0.5536, Val Loss: 0.5711\n",
      "Epoch [137/200], Loss: 0.5593\n",
      "Epoch [137/200], Train Loss: 0.5593, Val Loss: 0.5650\n",
      "Epoch [138/200], Loss: 0.5602\n",
      "Epoch [138/200], Train Loss: 0.5602, Val Loss: 0.5685\n",
      "Epoch [139/200], Loss: 0.5592\n",
      "Epoch [139/200], Train Loss: 0.5592, Val Loss: 0.5693\n",
      "Epoch [140/200], Loss: 0.5589\n",
      "Epoch [140/200], Train Loss: 0.5589, Val Loss: 0.5675\n",
      "Epoch [141/200], Loss: 0.5536\n",
      "Epoch [141/200], Train Loss: 0.5536, Val Loss: 0.5700\n",
      "Epoch [142/200], Loss: 0.5540\n",
      "Epoch [142/200], Train Loss: 0.5540, Val Loss: 0.5710\n",
      "Epoch [143/200], Loss: 0.5579\n",
      "Epoch [143/200], Train Loss: 0.5579, Val Loss: 0.5695\n",
      "Epoch [144/200], Loss: 0.5561\n",
      "Epoch [144/200], Train Loss: 0.5561, Val Loss: 0.5712\n",
      "Epoch [145/200], Loss: 0.5539\n",
      "Epoch [145/200], Train Loss: 0.5539, Val Loss: 0.5701\n",
      "Epoch [146/200], Loss: 0.5604\n",
      "Epoch [146/200], Train Loss: 0.5604, Val Loss: 0.5685\n",
      "Epoch [147/200], Loss: 0.5568\n",
      "Epoch [147/200], Train Loss: 0.5568, Val Loss: 0.5687\n",
      "Epoch [148/200], Loss: 0.5559\n",
      "Epoch [148/200], Train Loss: 0.5559, Val Loss: 0.5693\n",
      "Epoch [149/200], Loss: 0.5532\n",
      "Epoch [149/200], Train Loss: 0.5532, Val Loss: 0.5700\n",
      "Epoch [150/200], Loss: 0.5557\n",
      "Epoch [150/200], Train Loss: 0.5557, Val Loss: 0.5695\n",
      "Epoch [151/200], Loss: 0.5544\n",
      "Epoch [151/200], Train Loss: 0.5544, Val Loss: 0.5697\n",
      "Epoch [152/200], Loss: 0.5558\n",
      "Epoch [152/200], Train Loss: 0.5558, Val Loss: 0.5692\n",
      "Epoch [153/200], Loss: 0.5543\n",
      "Epoch [153/200], Train Loss: 0.5543, Val Loss: 0.5693\n",
      "Epoch [154/200], Loss: 0.5555\n",
      "Epoch [154/200], Train Loss: 0.5555, Val Loss: 0.5667\n",
      "Epoch [155/200], Loss: 0.5582\n",
      "Epoch [155/200], Train Loss: 0.5582, Val Loss: 0.5679\n",
      "Epoch [156/200], Loss: 0.5588\n",
      "Epoch [156/200], Train Loss: 0.5588, Val Loss: 0.5622\n",
      "Epoch [157/200], Loss: 0.5537\n",
      "Epoch [157/200], Train Loss: 0.5537, Val Loss: 0.5706\n",
      "Epoch [158/200], Loss: 0.5574\n",
      "Epoch [158/200], Train Loss: 0.5574, Val Loss: 0.5639\n",
      "Epoch [159/200], Loss: 0.5576\n",
      "Epoch [159/200], Train Loss: 0.5576, Val Loss: 0.5643\n",
      "Epoch [160/200], Loss: 0.5553\n",
      "Epoch [160/200], Train Loss: 0.5553, Val Loss: 0.5687\n",
      "Epoch [161/200], Loss: 0.5544\n",
      "Epoch [161/200], Train Loss: 0.5544, Val Loss: 0.5685\n",
      "Epoch [162/200], Loss: 0.5552\n",
      "Epoch [162/200], Train Loss: 0.5552, Val Loss: 0.5708\n",
      "Epoch [163/200], Loss: 0.5586\n",
      "Epoch [163/200], Train Loss: 0.5586, Val Loss: 0.5667\n",
      "Epoch [164/200], Loss: 0.5545\n",
      "Epoch [164/200], Train Loss: 0.5545, Val Loss: 0.5657\n",
      "Epoch [165/200], Loss: 0.5540\n",
      "Epoch [165/200], Train Loss: 0.5540, Val Loss: 0.5682\n",
      "Epoch [166/200], Loss: 0.5535\n",
      "Epoch [166/200], Train Loss: 0.5535, Val Loss: 0.5739\n",
      "Epoch [167/200], Loss: 0.5529\n",
      "Epoch [167/200], Train Loss: 0.5529, Val Loss: 0.5686\n",
      "Epoch [168/200], Loss: 0.5523\n",
      "Epoch [168/200], Train Loss: 0.5523, Val Loss: 0.5652\n",
      "Epoch [169/200], Loss: 0.5602\n",
      "Epoch [169/200], Train Loss: 0.5602, Val Loss: 0.5617\n",
      "Epoch [170/200], Loss: 0.5539\n",
      "Epoch [170/200], Train Loss: 0.5539, Val Loss: 0.5645\n",
      "Epoch [171/200], Loss: 0.5563\n",
      "Epoch [171/200], Train Loss: 0.5563, Val Loss: 0.5639\n",
      "Epoch [172/200], Loss: 0.5541\n",
      "Epoch [172/200], Train Loss: 0.5541, Val Loss: 0.5638\n",
      "Epoch [173/200], Loss: 0.5565\n",
      "Epoch [173/200], Train Loss: 0.5565, Val Loss: 0.5630\n",
      "Epoch [174/200], Loss: 0.5552\n",
      "Epoch [174/200], Train Loss: 0.5552, Val Loss: 0.5632\n",
      "Epoch [175/200], Loss: 0.5535\n",
      "Epoch [175/200], Train Loss: 0.5535, Val Loss: 0.5673\n",
      "Epoch [176/200], Loss: 0.5539\n",
      "Epoch [176/200], Train Loss: 0.5539, Val Loss: 0.5624\n",
      "Epoch [177/200], Loss: 0.5542\n",
      "Epoch [177/200], Train Loss: 0.5542, Val Loss: 0.5610\n",
      "Epoch [178/200], Loss: 0.5537\n",
      "Epoch [178/200], Train Loss: 0.5537, Val Loss: 0.5650\n",
      "Epoch [179/200], Loss: 0.5545\n",
      "Epoch [179/200], Train Loss: 0.5545, Val Loss: 0.5614\n",
      "Epoch [180/200], Loss: 0.5555\n",
      "Epoch [180/200], Train Loss: 0.5555, Val Loss: 0.5600\n",
      "Epoch [181/200], Loss: 0.5547\n",
      "Epoch [181/200], Train Loss: 0.5547, Val Loss: 0.5623\n",
      "Epoch [182/200], Loss: 0.5550\n",
      "Epoch [182/200], Train Loss: 0.5550, Val Loss: 0.5636\n",
      "Epoch [183/200], Loss: 0.5555\n",
      "Epoch [183/200], Train Loss: 0.5555, Val Loss: 0.5660\n",
      "Epoch [184/200], Loss: 0.5540\n",
      "Epoch [184/200], Train Loss: 0.5540, Val Loss: 0.5641\n",
      "Epoch [185/200], Loss: 0.5559\n",
      "Epoch [185/200], Train Loss: 0.5559, Val Loss: 0.5618\n",
      "Epoch [186/200], Loss: 0.5555\n",
      "Epoch [186/200], Train Loss: 0.5555, Val Loss: 0.5611\n",
      "Epoch [187/200], Loss: 0.5544\n",
      "Epoch [187/200], Train Loss: 0.5544, Val Loss: 0.5646\n",
      "Epoch [188/200], Loss: 0.5519\n",
      "Epoch [188/200], Train Loss: 0.5519, Val Loss: 0.5634\n",
      "Epoch [189/200], Loss: 0.5524\n",
      "Epoch [189/200], Train Loss: 0.5524, Val Loss: 0.5619\n"
     ]
    },
    {
     "ename": "KeyboardInterrupt",
     "evalue": "",
     "output_type": "error",
     "traceback": [
      "\u001b[0;31m---------------------------------------------------------------------------\u001b[0m",
      "\u001b[0;31mKeyboardInterrupt\u001b[0m                         Traceback (most recent call last)",
      "Cell \u001b[0;32mIn[13], line 23\u001b[0m\n\u001b[1;32m     21\u001b[0m X_batch, y_batch \u001b[38;5;241m=\u001b[39m X_batch\u001b[38;5;241m.\u001b[39mto(device), y_batch\u001b[38;5;241m.\u001b[39mto(device)\n\u001b[1;32m     22\u001b[0m optimizer\u001b[38;5;241m.\u001b[39mzero_grad()\n\u001b[0;32m---> 23\u001b[0m outputs \u001b[38;5;241m=\u001b[39m model(X_batch)\u001b[38;5;241m.\u001b[39msqueeze()\n\u001b[1;32m     24\u001b[0m loss \u001b[38;5;241m=\u001b[39m criterion(outputs, y_batch)\n\u001b[1;32m     25\u001b[0m loss\u001b[38;5;241m.\u001b[39mbackward()\n",
      "File \u001b[0;32m~/anaconda3/envs/torch/lib/python3.12/site-packages/torch/nn/modules/module.py:1736\u001b[0m, in \u001b[0;36mModule._wrapped_call_impl\u001b[0;34m(self, *args, **kwargs)\u001b[0m\n\u001b[1;32m   1734\u001b[0m     \u001b[38;5;28;01mreturn\u001b[39;00m \u001b[38;5;28mself\u001b[39m\u001b[38;5;241m.\u001b[39m_compiled_call_impl(\u001b[38;5;241m*\u001b[39margs, \u001b[38;5;241m*\u001b[39m\u001b[38;5;241m*\u001b[39mkwargs)  \u001b[38;5;66;03m# type: ignore[misc]\u001b[39;00m\n\u001b[1;32m   1735\u001b[0m \u001b[38;5;28;01melse\u001b[39;00m:\n\u001b[0;32m-> 1736\u001b[0m     \u001b[38;5;28;01mreturn\u001b[39;00m \u001b[38;5;28mself\u001b[39m\u001b[38;5;241m.\u001b[39m_call_impl(\u001b[38;5;241m*\u001b[39margs, \u001b[38;5;241m*\u001b[39m\u001b[38;5;241m*\u001b[39mkwargs)\n",
      "File \u001b[0;32m~/anaconda3/envs/torch/lib/python3.12/site-packages/torch/nn/modules/module.py:1747\u001b[0m, in \u001b[0;36mModule._call_impl\u001b[0;34m(self, *args, **kwargs)\u001b[0m\n\u001b[1;32m   1742\u001b[0m \u001b[38;5;66;03m# If we don't have any hooks, we want to skip the rest of the logic in\u001b[39;00m\n\u001b[1;32m   1743\u001b[0m \u001b[38;5;66;03m# this function, and just call forward.\u001b[39;00m\n\u001b[1;32m   1744\u001b[0m \u001b[38;5;28;01mif\u001b[39;00m \u001b[38;5;129;01mnot\u001b[39;00m (\u001b[38;5;28mself\u001b[39m\u001b[38;5;241m.\u001b[39m_backward_hooks \u001b[38;5;129;01mor\u001b[39;00m \u001b[38;5;28mself\u001b[39m\u001b[38;5;241m.\u001b[39m_backward_pre_hooks \u001b[38;5;129;01mor\u001b[39;00m \u001b[38;5;28mself\u001b[39m\u001b[38;5;241m.\u001b[39m_forward_hooks \u001b[38;5;129;01mor\u001b[39;00m \u001b[38;5;28mself\u001b[39m\u001b[38;5;241m.\u001b[39m_forward_pre_hooks\n\u001b[1;32m   1745\u001b[0m         \u001b[38;5;129;01mor\u001b[39;00m _global_backward_pre_hooks \u001b[38;5;129;01mor\u001b[39;00m _global_backward_hooks\n\u001b[1;32m   1746\u001b[0m         \u001b[38;5;129;01mor\u001b[39;00m _global_forward_hooks \u001b[38;5;129;01mor\u001b[39;00m _global_forward_pre_hooks):\n\u001b[0;32m-> 1747\u001b[0m     \u001b[38;5;28;01mreturn\u001b[39;00m forward_call(\u001b[38;5;241m*\u001b[39margs, \u001b[38;5;241m*\u001b[39m\u001b[38;5;241m*\u001b[39mkwargs)\n\u001b[1;32m   1749\u001b[0m result \u001b[38;5;241m=\u001b[39m \u001b[38;5;28;01mNone\u001b[39;00m\n\u001b[1;32m   1750\u001b[0m called_always_called_hooks \u001b[38;5;241m=\u001b[39m \u001b[38;5;28mset\u001b[39m()\n",
      "Cell \u001b[0;32mIn[3], line 27\u001b[0m, in \u001b[0;36mFTTransformer.forward\u001b[0;34m(self, x)\u001b[0m\n\u001b[1;32m     24\u001b[0m x \u001b[38;5;241m=\u001b[39m x\u001b[38;5;241m.\u001b[39mpermute(\u001b[38;5;241m1\u001b[39m, \u001b[38;5;241m0\u001b[39m, \u001b[38;5;241m2\u001b[39m)\n\u001b[1;32m     26\u001b[0m \u001b[38;5;66;03m# Transformerエンコーダに通す\u001b[39;00m\n\u001b[0;32m---> 27\u001b[0m x \u001b[38;5;241m=\u001b[39m \u001b[38;5;28mself\u001b[39m\u001b[38;5;241m.\u001b[39mtransformer(x)\n\u001b[1;32m     29\u001b[0m \u001b[38;5;66;03m# 最後のトークンを取得して分類\u001b[39;00m\n\u001b[1;32m     30\u001b[0m \u001b[38;5;66;03m# [seq_len, batch_size, d_model] -> [batch_size, d_model]\u001b[39;00m\n\u001b[1;32m     31\u001b[0m x \u001b[38;5;241m=\u001b[39m x\u001b[38;5;241m.\u001b[39mmean(dim\u001b[38;5;241m=\u001b[39m\u001b[38;5;241m0\u001b[39m)  \u001b[38;5;66;03m# 平均を取る\u001b[39;00m\n",
      "File \u001b[0;32m~/anaconda3/envs/torch/lib/python3.12/site-packages/torch/nn/modules/module.py:1736\u001b[0m, in \u001b[0;36mModule._wrapped_call_impl\u001b[0;34m(self, *args, **kwargs)\u001b[0m\n\u001b[1;32m   1734\u001b[0m     \u001b[38;5;28;01mreturn\u001b[39;00m \u001b[38;5;28mself\u001b[39m\u001b[38;5;241m.\u001b[39m_compiled_call_impl(\u001b[38;5;241m*\u001b[39margs, \u001b[38;5;241m*\u001b[39m\u001b[38;5;241m*\u001b[39mkwargs)  \u001b[38;5;66;03m# type: ignore[misc]\u001b[39;00m\n\u001b[1;32m   1735\u001b[0m \u001b[38;5;28;01melse\u001b[39;00m:\n\u001b[0;32m-> 1736\u001b[0m     \u001b[38;5;28;01mreturn\u001b[39;00m \u001b[38;5;28mself\u001b[39m\u001b[38;5;241m.\u001b[39m_call_impl(\u001b[38;5;241m*\u001b[39margs, \u001b[38;5;241m*\u001b[39m\u001b[38;5;241m*\u001b[39mkwargs)\n",
      "File \u001b[0;32m~/anaconda3/envs/torch/lib/python3.12/site-packages/torch/nn/modules/module.py:1747\u001b[0m, in \u001b[0;36mModule._call_impl\u001b[0;34m(self, *args, **kwargs)\u001b[0m\n\u001b[1;32m   1742\u001b[0m \u001b[38;5;66;03m# If we don't have any hooks, we want to skip the rest of the logic in\u001b[39;00m\n\u001b[1;32m   1743\u001b[0m \u001b[38;5;66;03m# this function, and just call forward.\u001b[39;00m\n\u001b[1;32m   1744\u001b[0m \u001b[38;5;28;01mif\u001b[39;00m \u001b[38;5;129;01mnot\u001b[39;00m (\u001b[38;5;28mself\u001b[39m\u001b[38;5;241m.\u001b[39m_backward_hooks \u001b[38;5;129;01mor\u001b[39;00m \u001b[38;5;28mself\u001b[39m\u001b[38;5;241m.\u001b[39m_backward_pre_hooks \u001b[38;5;129;01mor\u001b[39;00m \u001b[38;5;28mself\u001b[39m\u001b[38;5;241m.\u001b[39m_forward_hooks \u001b[38;5;129;01mor\u001b[39;00m \u001b[38;5;28mself\u001b[39m\u001b[38;5;241m.\u001b[39m_forward_pre_hooks\n\u001b[1;32m   1745\u001b[0m         \u001b[38;5;129;01mor\u001b[39;00m _global_backward_pre_hooks \u001b[38;5;129;01mor\u001b[39;00m _global_backward_hooks\n\u001b[1;32m   1746\u001b[0m         \u001b[38;5;129;01mor\u001b[39;00m _global_forward_hooks \u001b[38;5;129;01mor\u001b[39;00m _global_forward_pre_hooks):\n\u001b[0;32m-> 1747\u001b[0m     \u001b[38;5;28;01mreturn\u001b[39;00m forward_call(\u001b[38;5;241m*\u001b[39margs, \u001b[38;5;241m*\u001b[39m\u001b[38;5;241m*\u001b[39mkwargs)\n\u001b[1;32m   1749\u001b[0m result \u001b[38;5;241m=\u001b[39m \u001b[38;5;28;01mNone\u001b[39;00m\n\u001b[1;32m   1750\u001b[0m called_always_called_hooks \u001b[38;5;241m=\u001b[39m \u001b[38;5;28mset\u001b[39m()\n",
      "File \u001b[0;32m~/anaconda3/envs/torch/lib/python3.12/site-packages/torch/nn/modules/transformer.py:511\u001b[0m, in \u001b[0;36mTransformerEncoder.forward\u001b[0;34m(self, src, mask, src_key_padding_mask, is_causal)\u001b[0m\n\u001b[1;32m    508\u001b[0m is_causal \u001b[38;5;241m=\u001b[39m _detect_is_causal_mask(mask, is_causal, seq_len)\n\u001b[1;32m    510\u001b[0m \u001b[38;5;28;01mfor\u001b[39;00m mod \u001b[38;5;129;01min\u001b[39;00m \u001b[38;5;28mself\u001b[39m\u001b[38;5;241m.\u001b[39mlayers:\n\u001b[0;32m--> 511\u001b[0m     output \u001b[38;5;241m=\u001b[39m mod(\n\u001b[1;32m    512\u001b[0m         output,\n\u001b[1;32m    513\u001b[0m         src_mask\u001b[38;5;241m=\u001b[39mmask,\n\u001b[1;32m    514\u001b[0m         is_causal\u001b[38;5;241m=\u001b[39mis_causal,\n\u001b[1;32m    515\u001b[0m         src_key_padding_mask\u001b[38;5;241m=\u001b[39msrc_key_padding_mask_for_layers,\n\u001b[1;32m    516\u001b[0m     )\n\u001b[1;32m    518\u001b[0m \u001b[38;5;28;01mif\u001b[39;00m convert_to_nested:\n\u001b[1;32m    519\u001b[0m     output \u001b[38;5;241m=\u001b[39m output\u001b[38;5;241m.\u001b[39mto_padded_tensor(\u001b[38;5;241m0.0\u001b[39m, src\u001b[38;5;241m.\u001b[39msize())\n",
      "File \u001b[0;32m~/anaconda3/envs/torch/lib/python3.12/site-packages/torch/nn/modules/module.py:1736\u001b[0m, in \u001b[0;36mModule._wrapped_call_impl\u001b[0;34m(self, *args, **kwargs)\u001b[0m\n\u001b[1;32m   1734\u001b[0m     \u001b[38;5;28;01mreturn\u001b[39;00m \u001b[38;5;28mself\u001b[39m\u001b[38;5;241m.\u001b[39m_compiled_call_impl(\u001b[38;5;241m*\u001b[39margs, \u001b[38;5;241m*\u001b[39m\u001b[38;5;241m*\u001b[39mkwargs)  \u001b[38;5;66;03m# type: ignore[misc]\u001b[39;00m\n\u001b[1;32m   1735\u001b[0m \u001b[38;5;28;01melse\u001b[39;00m:\n\u001b[0;32m-> 1736\u001b[0m     \u001b[38;5;28;01mreturn\u001b[39;00m \u001b[38;5;28mself\u001b[39m\u001b[38;5;241m.\u001b[39m_call_impl(\u001b[38;5;241m*\u001b[39margs, \u001b[38;5;241m*\u001b[39m\u001b[38;5;241m*\u001b[39mkwargs)\n",
      "File \u001b[0;32m~/anaconda3/envs/torch/lib/python3.12/site-packages/torch/nn/modules/module.py:1747\u001b[0m, in \u001b[0;36mModule._call_impl\u001b[0;34m(self, *args, **kwargs)\u001b[0m\n\u001b[1;32m   1742\u001b[0m \u001b[38;5;66;03m# If we don't have any hooks, we want to skip the rest of the logic in\u001b[39;00m\n\u001b[1;32m   1743\u001b[0m \u001b[38;5;66;03m# this function, and just call forward.\u001b[39;00m\n\u001b[1;32m   1744\u001b[0m \u001b[38;5;28;01mif\u001b[39;00m \u001b[38;5;129;01mnot\u001b[39;00m (\u001b[38;5;28mself\u001b[39m\u001b[38;5;241m.\u001b[39m_backward_hooks \u001b[38;5;129;01mor\u001b[39;00m \u001b[38;5;28mself\u001b[39m\u001b[38;5;241m.\u001b[39m_backward_pre_hooks \u001b[38;5;129;01mor\u001b[39;00m \u001b[38;5;28mself\u001b[39m\u001b[38;5;241m.\u001b[39m_forward_hooks \u001b[38;5;129;01mor\u001b[39;00m \u001b[38;5;28mself\u001b[39m\u001b[38;5;241m.\u001b[39m_forward_pre_hooks\n\u001b[1;32m   1745\u001b[0m         \u001b[38;5;129;01mor\u001b[39;00m _global_backward_pre_hooks \u001b[38;5;129;01mor\u001b[39;00m _global_backward_hooks\n\u001b[1;32m   1746\u001b[0m         \u001b[38;5;129;01mor\u001b[39;00m _global_forward_hooks \u001b[38;5;129;01mor\u001b[39;00m _global_forward_pre_hooks):\n\u001b[0;32m-> 1747\u001b[0m     \u001b[38;5;28;01mreturn\u001b[39;00m forward_call(\u001b[38;5;241m*\u001b[39margs, \u001b[38;5;241m*\u001b[39m\u001b[38;5;241m*\u001b[39mkwargs)\n\u001b[1;32m   1749\u001b[0m result \u001b[38;5;241m=\u001b[39m \u001b[38;5;28;01mNone\u001b[39;00m\n\u001b[1;32m   1750\u001b[0m called_always_called_hooks \u001b[38;5;241m=\u001b[39m \u001b[38;5;28mset\u001b[39m()\n",
      "File \u001b[0;32m~/anaconda3/envs/torch/lib/python3.12/site-packages/torch/nn/modules/transformer.py:902\u001b[0m, in \u001b[0;36mTransformerEncoderLayer.forward\u001b[0;34m(self, src, src_mask, src_key_padding_mask, is_causal)\u001b[0m\n\u001b[1;32m    900\u001b[0m     x \u001b[38;5;241m=\u001b[39m x \u001b[38;5;241m+\u001b[39m \u001b[38;5;28mself\u001b[39m\u001b[38;5;241m.\u001b[39m_ff_block(\u001b[38;5;28mself\u001b[39m\u001b[38;5;241m.\u001b[39mnorm2(x))\n\u001b[1;32m    901\u001b[0m \u001b[38;5;28;01melse\u001b[39;00m:\n\u001b[0;32m--> 902\u001b[0m     x \u001b[38;5;241m=\u001b[39m \u001b[38;5;28mself\u001b[39m\u001b[38;5;241m.\u001b[39mnorm1(\n\u001b[1;32m    903\u001b[0m         x\n\u001b[1;32m    904\u001b[0m         \u001b[38;5;241m+\u001b[39m \u001b[38;5;28mself\u001b[39m\u001b[38;5;241m.\u001b[39m_sa_block(x, src_mask, src_key_padding_mask, is_causal\u001b[38;5;241m=\u001b[39mis_causal)\n\u001b[1;32m    905\u001b[0m     )\n\u001b[1;32m    906\u001b[0m     x \u001b[38;5;241m=\u001b[39m \u001b[38;5;28mself\u001b[39m\u001b[38;5;241m.\u001b[39mnorm2(x \u001b[38;5;241m+\u001b[39m \u001b[38;5;28mself\u001b[39m\u001b[38;5;241m.\u001b[39m_ff_block(x))\n\u001b[1;32m    908\u001b[0m \u001b[38;5;28;01mreturn\u001b[39;00m x\n",
      "File \u001b[0;32m~/anaconda3/envs/torch/lib/python3.12/site-packages/torch/nn/modules/module.py:1736\u001b[0m, in \u001b[0;36mModule._wrapped_call_impl\u001b[0;34m(self, *args, **kwargs)\u001b[0m\n\u001b[1;32m   1734\u001b[0m     \u001b[38;5;28;01mreturn\u001b[39;00m \u001b[38;5;28mself\u001b[39m\u001b[38;5;241m.\u001b[39m_compiled_call_impl(\u001b[38;5;241m*\u001b[39margs, \u001b[38;5;241m*\u001b[39m\u001b[38;5;241m*\u001b[39mkwargs)  \u001b[38;5;66;03m# type: ignore[misc]\u001b[39;00m\n\u001b[1;32m   1735\u001b[0m \u001b[38;5;28;01melse\u001b[39;00m:\n\u001b[0;32m-> 1736\u001b[0m     \u001b[38;5;28;01mreturn\u001b[39;00m \u001b[38;5;28mself\u001b[39m\u001b[38;5;241m.\u001b[39m_call_impl(\u001b[38;5;241m*\u001b[39margs, \u001b[38;5;241m*\u001b[39m\u001b[38;5;241m*\u001b[39mkwargs)\n",
      "File \u001b[0;32m~/anaconda3/envs/torch/lib/python3.12/site-packages/torch/nn/modules/module.py:1747\u001b[0m, in \u001b[0;36mModule._call_impl\u001b[0;34m(self, *args, **kwargs)\u001b[0m\n\u001b[1;32m   1742\u001b[0m \u001b[38;5;66;03m# If we don't have any hooks, we want to skip the rest of the logic in\u001b[39;00m\n\u001b[1;32m   1743\u001b[0m \u001b[38;5;66;03m# this function, and just call forward.\u001b[39;00m\n\u001b[1;32m   1744\u001b[0m \u001b[38;5;28;01mif\u001b[39;00m \u001b[38;5;129;01mnot\u001b[39;00m (\u001b[38;5;28mself\u001b[39m\u001b[38;5;241m.\u001b[39m_backward_hooks \u001b[38;5;129;01mor\u001b[39;00m \u001b[38;5;28mself\u001b[39m\u001b[38;5;241m.\u001b[39m_backward_pre_hooks \u001b[38;5;129;01mor\u001b[39;00m \u001b[38;5;28mself\u001b[39m\u001b[38;5;241m.\u001b[39m_forward_hooks \u001b[38;5;129;01mor\u001b[39;00m \u001b[38;5;28mself\u001b[39m\u001b[38;5;241m.\u001b[39m_forward_pre_hooks\n\u001b[1;32m   1745\u001b[0m         \u001b[38;5;129;01mor\u001b[39;00m _global_backward_pre_hooks \u001b[38;5;129;01mor\u001b[39;00m _global_backward_hooks\n\u001b[1;32m   1746\u001b[0m         \u001b[38;5;129;01mor\u001b[39;00m _global_forward_hooks \u001b[38;5;129;01mor\u001b[39;00m _global_forward_pre_hooks):\n\u001b[0;32m-> 1747\u001b[0m     \u001b[38;5;28;01mreturn\u001b[39;00m forward_call(\u001b[38;5;241m*\u001b[39margs, \u001b[38;5;241m*\u001b[39m\u001b[38;5;241m*\u001b[39mkwargs)\n\u001b[1;32m   1749\u001b[0m result \u001b[38;5;241m=\u001b[39m \u001b[38;5;28;01mNone\u001b[39;00m\n\u001b[1;32m   1750\u001b[0m called_always_called_hooks \u001b[38;5;241m=\u001b[39m \u001b[38;5;28mset\u001b[39m()\n",
      "File \u001b[0;32m~/anaconda3/envs/torch/lib/python3.12/site-packages/torch/nn/modules/normalization.py:217\u001b[0m, in \u001b[0;36mLayerNorm.forward\u001b[0;34m(self, input)\u001b[0m\n\u001b[1;32m    216\u001b[0m \u001b[38;5;28;01mdef\u001b[39;00m \u001b[38;5;21mforward\u001b[39m(\u001b[38;5;28mself\u001b[39m, \u001b[38;5;28minput\u001b[39m: Tensor) \u001b[38;5;241m-\u001b[39m\u001b[38;5;241m>\u001b[39m Tensor:\n\u001b[0;32m--> 217\u001b[0m     \u001b[38;5;28;01mreturn\u001b[39;00m F\u001b[38;5;241m.\u001b[39mlayer_norm(\n\u001b[1;32m    218\u001b[0m         \u001b[38;5;28minput\u001b[39m, \u001b[38;5;28mself\u001b[39m\u001b[38;5;241m.\u001b[39mnormalized_shape, \u001b[38;5;28mself\u001b[39m\u001b[38;5;241m.\u001b[39mweight, \u001b[38;5;28mself\u001b[39m\u001b[38;5;241m.\u001b[39mbias, \u001b[38;5;28mself\u001b[39m\u001b[38;5;241m.\u001b[39meps\n\u001b[1;32m    219\u001b[0m     )\n",
      "File \u001b[0;32m~/anaconda3/envs/torch/lib/python3.12/site-packages/torch/nn/functional.py:2900\u001b[0m, in \u001b[0;36mlayer_norm\u001b[0;34m(input, normalized_shape, weight, bias, eps)\u001b[0m\n\u001b[1;32m   2890\u001b[0m \u001b[38;5;28;01mif\u001b[39;00m has_torch_function_variadic(\u001b[38;5;28minput\u001b[39m, weight, bias):\n\u001b[1;32m   2891\u001b[0m     \u001b[38;5;28;01mreturn\u001b[39;00m handle_torch_function(\n\u001b[1;32m   2892\u001b[0m         layer_norm,\n\u001b[1;32m   2893\u001b[0m         (\u001b[38;5;28minput\u001b[39m, weight, bias),\n\u001b[0;32m   (...)\u001b[0m\n\u001b[1;32m   2898\u001b[0m         eps\u001b[38;5;241m=\u001b[39meps,\n\u001b[1;32m   2899\u001b[0m     )\n\u001b[0;32m-> 2900\u001b[0m \u001b[38;5;28;01mreturn\u001b[39;00m torch\u001b[38;5;241m.\u001b[39mlayer_norm(\n\u001b[1;32m   2901\u001b[0m     \u001b[38;5;28minput\u001b[39m, normalized_shape, weight, bias, eps, torch\u001b[38;5;241m.\u001b[39mbackends\u001b[38;5;241m.\u001b[39mcudnn\u001b[38;5;241m.\u001b[39menabled\n\u001b[1;32m   2902\u001b[0m )\n",
      "\u001b[0;31mKeyboardInterrupt\u001b[0m: "
     ]
    }
   ],
   "source": [
    "best_params=study.best_params\n",
    "model = FTTransformer(input_dim=X_train_tensor.shape[1],\n",
    "                      num_heads=best_params[\"num_heads\"],\n",
    "                      num_layers=best_params[\"num_layers\"],\n",
    "                      d_model=best_params[\"d_model\"],\n",
    "                      dropout=best_params[\"dropout\"]).to(device)\n",
    "# 最適化と訓練を実行\n",
    "optimizer = optim.Adam(model.parameters(), lr=best_params[\"learning_rate\"])\n",
    "criterion = nn.BCELoss()\n",
    "\n",
    "num_epochs=200\n",
    "train_losses = []\n",
    "val_losses = []\n",
    "\n",
    "model.train()\n",
    "for epoch in range(num_epochs):\n",
    "    epoch_train_loss = 0\n",
    "    epoch_val_loss = 0\n",
    "\n",
    "    for X_batch, y_batch in train_loader:\n",
    "        X_batch, y_batch = X_batch.to(device), y_batch.to(device)\n",
    "        optimizer.zero_grad()\n",
    "        outputs = model(X_batch).squeeze()\n",
    "        loss = criterion(outputs, y_batch)\n",
    "        loss.backward()\n",
    "        optimizer.step()\n",
    "        epoch_train_loss += loss.item()\n",
    "    avg_train_loss = epoch_train_loss / len(train_loader)\n",
    "    train_losses.append(avg_train_loss)\n",
    "    print(f'Epoch [{epoch+1}/{num_epochs}], Loss: {avg_train_loss:.4f}')\n",
    "\n",
    "    if val_loader is not None:\n",
    "        model.eval()  \n",
    "        with torch.no_grad():\n",
    "            for X_val, y_val in val_loader:\n",
    "                X_val, y_val = X_val.to(device), y_val.to(device)\n",
    "                val_outputs = model(X_val).squeeze()\n",
    "                val_loss = criterion(val_outputs, y_val)\n",
    "                epoch_val_loss += val_loss.item()\n",
    "\n",
    "        avg_val_loss = epoch_val_loss / len(val_loader)\n",
    "        val_losses.append(avg_val_loss)\n",
    "        model.train()  \n",
    "\n",
    "    if val_loader is not None:\n",
    "        print(f\"Epoch [{epoch+1}/{num_epochs}], Train Loss: {avg_train_loss:.4f}, Val Loss: {avg_val_loss:.4f}\")\n",
    "    else:\n",
    "        print(f\"Epoch [{epoch+1}/{num_epochs}], Train Loss: {avg_train_loss:.4f}\")\n",
    "\n",
    "plt.figure(figsize=(10, 6))\n",
    "plt.plot(range(1, num_epochs + 1), train_losses, label='Train Loss')\n",
    "if val_losses:\n",
    "    plt.plot(range(1, num_epochs + 1), val_losses, label='Validation Loss')\n",
    "plt.xlabel('Epoch')\n",
    "plt.ylabel('Loss')\n",
    "plt.title('Learning Curve for DNN1')\n",
    "plt.legend()\n",
    "plt.grid()\n",
    "plt.show()"
   ]
  },
  {
   "cell_type": "code",
   "execution_count": null,
   "metadata": {},
   "outputs": [
    {
     "name": "stdout",
     "output_type": "stream",
     "text": [
      "Accuracy: 57.52%\n",
      "Precision: 0.4750\n",
      "Recall: 0.9528\n",
      "F1 Score: 0.6340\n",
      "Matthews Correlation Coefficient: 0.3384\n",
      "Specificity: 0.3377\n"
     ]
    },
    {
     "data": {
      "image/png": "[encoded data removed]",
      "text/plain": [
       "<Figure size 640x480 with 1 Axes>"
      ]
     },
     "metadata": {},
     "output_type": "display_data"
    },
    {
     "data": {
      "image/png": "[encoded data removed]",
      "text/plain": [
       "<Figure size 640x480 with 1 Axes>"
      ]
     },
     "metadata": {},
     "output_type": "display_data"
    },
    {
     "data": {
      "image/png": "[encoded data removed]",
      "text/plain": [
       "<Figure size 640x480 with 1 Axes>"
      ]
     },
     "metadata": {},
     "output_type": "display_data"
    }
   ],
   "source": [
    "model.eval()\n",
    "with torch.no_grad():\n",
    "    X_test_tensor = X_test_tensor.to(device)\n",
    "    y_test_tensor = y_test_tensor.to(device)\n",
    "\n",
    "    # 予測と確率\n",
    "    test_outputs = model(X_test_tensor).squeeze()\n",
    "    predictions = (test_outputs >= 0.5).float()\n",
    "    y_true = y_test_tensor.cpu().numpy()\n",
    "    y_pred = predictions.cpu().numpy()\n",
    "    y_prob = test_outputs.cpu().numpy()\n",
    "\n",
    "# 評価指標\n",
    "    accuracy = accuracy_score(y_true, y_pred)\n",
    "    precision = precision_score(y_true, y_pred)\n",
    "    recall = recall_score(y_true, y_pred)\n",
    "    f1 = f1_score(y_true, y_pred)\n",
    "    mcc = matthews_corrcoef(y_true, y_pred)\n",
    "    specificity = recall_score(y_true, y_pred, pos_label=0)  \n",
    "    print(f'Accuracy: {accuracy * 100:.2f}%')\n",
    "    print(f'Precision: {precision:.4f}')\n",
    "    print(f'Recall: {recall:.4f}')\n",
    "    print(f'F1 Score: {f1:.4f}')\n",
    "    print(f'Matthews Correlation Coefficient: {mcc:.4f}')\n",
    "    print(f'Specificity: {specificity:.4f}')\n",
    "\n",
    "    # 混同行列（割合表示）\n",
    "    cm = confusion_matrix(y_true, y_pred, normalize='true')\n",
    "    sns.heatmap(cm, annot=True, fmt=\".2%\", cmap=\"Blues\", cbar=False)\n",
    "    plt.xlabel(\"Predicted\")\n",
    "    plt.ylabel(\"Actual\")\n",
    "    plt.title(f\"Confusion Matrix (Normalized)\")\n",
    "    plt.show()\n",
    "\n",
    "    # ROC曲線とAUC\n",
    "    fpr, tpr, thresholds = roc_curve(y_true, y_prob)\n",
    "    roc_auc = auc(fpr, tpr)\n",
    "    plt.plot(fpr, tpr, label=f'ROC curve (AUC = {roc_auc:.2f})')\n",
    "    plt.plot([0, 1], [0, 1], 'k--') \n",
    "    plt.xlabel('False Positive Rate')\n",
    "    plt.ylabel('True Positive Rate')\n",
    "    plt.title(f'ROC Curve - Model ')\n",
    "    plt.legend(loc=\"lower right\")\n",
    "    plt.show()\n",
    "\n",
    "    # Precision-Recall曲線\n",
    "    precision_curve, recall_curve, pr_thresholds = precision_recall_curve(y_true, y_prob)\n",
    "    pr_auc = auc(recall_curve, precision_curve)\n",
    "    plt.plot(recall_curve, precision_curve, label=f'PR curve (AUC = {pr_auc:.2f})')\n",
    "    plt.xlabel('Recall')\n",
    "    plt.ylabel('Precision')\n",
    "    plt.title(f'Precision-Recall Curve ')\n",
    "    plt.legend(loc=\"lower left\")\n",
    "    plt.show()    "
   ]
  },
  {
   "cell_type": "code",
   "execution_count": null,
   "metadata": {},
   "outputs": [],
   "source": [
    "# モデルと構造を保存\n",
    "torch.save(model, '../../saved_model/FT_tranformer_1.pth')"
   ]
  },
  {
   "cell_type": "code",
   "execution_count": null,
   "metadata": {},
   "outputs": [],
   "source": []
  }
 ],
 "metadata": {
  "kernelspec": {
   "display_name": "torch",
   "language": "python",
   "name": "python3"
  },
  "language_info": {
   "codemirror_mode": {
    "name": "ipython",
    "version": 3
   },
   "file_extension": ".py",
   "mimetype": "text/x-python",
   "name": "python",
   "nbconvert_exporter": "python",
   "pygments_lexer": "ipython3",
   "version": "3.12.7"
  }
 },
 "nbformat": 4,
 "nbformat_minor": 2
}
