{
 "cells": [
  {
   "cell_type": "code",
   "execution_count": 7,
   "metadata": {},
   "outputs": [],
   "source": [
    "import numpy as np\n",
    "import pandas as pd\n",
    "import matplotlib.pyplot as plt\n",
    "import seaborn as sns\n",
    "\n",
    "import torch\n",
    "import torch.nn as nn\n",
    "import torch.optim as optim\n",
    "\n",
    "import optuna\n",
    "\n",
    "from sklearn.model_selection import train_test_split\n",
    "from sklearn.metrics import confusion_matrix,accuracy_score, precision_score, recall_score, f1_score, confusion_matrix, roc_curve, auc,matthews_corrcoef, precision_recall_curve,roc_auc_score\n",
    "\n"
   ]
  },
  {
   "cell_type": "markdown",
   "metadata": {},
   "source": [
    "データ読み取り"
   ]
  },
  {
   "cell_type": "code",
   "execution_count": 8,
   "metadata": {},
   "outputs": [],
   "source": [
    "df=pd.read_csv('../../data/learning_data.csv',index_col=0)\n",
    "\n",
    "X=df.drop(columns='dengue',axis=1).values\n",
    "y=df['dengue'].values\n",
    "\n",
    "X_train, X_test, y_train, y_test = train_test_split(X, y, test_size=0.2,random_state=42)\n",
    "X_train, X_val, y_train, y_val = train_test_split(X_train, y_train, test_size=0.1,random_state=42)\n",
    "\n",
    "#torchテンソルに変換\n",
    "X_train_tensor = torch.tensor(X_train, dtype=torch.float32)\n",
    "y_train_tensor = torch.tensor(y_train, dtype=torch.float32)\n",
    "X_test_tensor = torch.tensor(X_test, dtype=torch.float32)\n",
    "y_test_tensor = torch.tensor(y_test, dtype=torch.float32)\n",
    "X_val_tensor = torch.tensor(X_val, dtype=torch.float32)\n",
    "y_val_tensor = torch.tensor(y_val, dtype=torch.float32)\n"
   ]
  },
  {
   "cell_type": "code",
   "execution_count": 9,
   "metadata": {},
   "outputs": [],
   "source": [
    "class DNN_6(nn.Module):\n",
    "    def __init__(self, input_dim,dropout1,dropout2,dropout3,dropout4):\n",
    "        super(DNN_6, self).__init__()\n",
    "        self.layer1 = nn.Linear(input_dim,64)\n",
    "        self.layer2 = nn.Linear(64,32)\n",
    "        self.layer3 = nn.Linear(32,16)\n",
    "        self.layer4 = nn.Linear(16,8)\n",
    "        self.output_layer = nn.Linear(8, 1)\n",
    "\n",
    "        self.dropout1 = nn.Dropout(dropout1)\n",
    "        self.dropout2 = nn.Dropout(dropout2)\n",
    "        self.dropout3 = nn.Dropout(dropout3)\n",
    "        self.dropout4 = nn.Dropout(dropout4)\n",
    "\n",
    "        \n",
    "        \n",
    "    def forward(self, x):\n",
    "        x = torch.relu(self.layer1(x))\n",
    "        x = self.dropout1(x)\n",
    "        \n",
    "        x = torch.relu(self.layer2(x))\n",
    "        x = self.dropout2(x)\n",
    "\n",
    "        x = torch.relu(self.layer3(x))\n",
    "        x = self.dropout3(x)\n",
    "\n",
    "        x = torch.relu(self.layer4(x))\n",
    "        x = self.dropout4(x)\n",
    "\n",
    "        x = torch.sigmoid(self.output_layer(x)) \n",
    "        return x\n",
    "    "
   ]
  },
  {
   "cell_type": "markdown",
   "metadata": {},
   "source": [
    "学習データセットの作成"
   ]
  },
  {
   "cell_type": "code",
   "execution_count": 10,
   "metadata": {},
   "outputs": [],
   "source": [
    "train_dataset = torch.utils.data.TensorDataset(X_train_tensor, y_train_tensor)\n",
    "train_loader = torch.utils.data.DataLoader(dataset=train_dataset, batch_size=4, shuffle=True)\n",
    "\n",
    "val_dataset = torch.utils.data.TensorDataset(X_val_tensor, y_val_tensor)\n",
    "val_loader = torch.utils.data.DataLoader(dataset=val_dataset, batch_size=4, shuffle=False)"
   ]
  },
  {
   "cell_type": "markdown",
   "metadata": {},
   "source": [
    "Optunaの設定"
   ]
  },
  {
   "cell_type": "code",
   "execution_count": 11,
   "metadata": {},
   "outputs": [],
   "source": [
    "def objective(trial):\n",
    "    # ハイパーパラメータのサンプリング\n",
    "    dropout1 = trial.suggest_float(\"dropout1\", 0, 0.5, step=0.05)\n",
    "    dropout2 = trial.suggest_float(\"dropout2\", 0, 0.5, step=0.05)\n",
    "    dropout3 = trial.suggest_float(\"dropout3\", 0, 0.5, step=0.05)\n",
    "    dropout4 = trial.suggest_float(\"dropout4\", 0, 0.5, step=0.05)\n",
    "    learning_rate = trial.suggest_loguniform(\"learning_rate\", 1e-4, 1e-2)  # 範囲を調整\n",
    "\n",
    "    # モデル定義\n",
    "    model = DNN_6(\n",
    "        input_dim=X_train_tensor.shape[1],\n",
    "        dropout1=dropout1,\n",
    "        dropout2=dropout2,\n",
    "        dropout3=dropout3,\n",
    "        dropout4=dropout4\n",
    "    ).to(device)\n",
    "\n",
    "    criterion = nn.BCELoss()\n",
    "    optimizer = torch.optim.Adam(model.parameters(), lr=learning_rate)\n",
    "\n",
    "    # Early Stoppingの設定\n",
    "    patience = 10\n",
    "    best_val_loss = float('inf')\n",
    "    patience_counter = 0\n",
    "\n",
    "    # 訓練ループ\n",
    "    num_epochs = 100\n",
    "    for epoch in range(num_epochs):\n",
    "        model.train()\n",
    "        for X_batch, y_batch in train_loader:\n",
    "            X_batch, y_batch = X_batch.to(device), y_batch.to(device)\n",
    "            optimizer.zero_grad()\n",
    "            outputs = model(X_batch).squeeze()\n",
    "            loss = criterion(outputs, y_batch.squeeze())\n",
    "            loss.backward()\n",
    "            optimizer.step()\n",
    "\n",
    "        # バリデーション評価\n",
    "        model.eval()\n",
    "        val_loss = 0\n",
    "        val_true, val_pred = [], []\n",
    "        with torch.no_grad():\n",
    "            for X_val, y_val in val_loader:\n",
    "                X_val, y_val = X_val.to(device), y_val.to(device)\n",
    "                val_outputs = model(X_val).squeeze()\n",
    "                val_loss += criterion(val_outputs, y_val.squeeze()).item()\n",
    "                predictions = (val_outputs > 0.49).float()  \n",
    "                val_true.extend(y_val.cpu().numpy())\n",
    "                val_pred.extend(predictions.cpu().numpy())\n",
    "\n",
    "        val_loss /= len(val_loader)\n",
    "\n",
    "        # Early Stopping判定\n",
    "        if val_loss < best_val_loss:\n",
    "            best_val_loss = val_loss\n",
    "            patience_counter = 0\n",
    "        else:\n",
    "            patience_counter += 1\n",
    "\n",
    "        if patience_counter >= patience:\n",
    "            print(f\"Early stopping at epoch {epoch}\")\n",
    "            break\n",
    "\n",
    "        # Optunaへのログ\n",
    "        trial.report(val_loss, epoch)\n",
    "        if trial.should_prune():\n",
    "            raise optuna.exceptions.TrialPruned()\n",
    "\n",
    "    # 評価指標の計算\n",
    "    mcc = matthews_corrcoef(val_true, val_pred)\n",
    "    print(f\"Final MCC: {mcc:.4f}\")\n",
    "\n",
    "    return mcc  # mccを返す\n"
   ]
  },
  {
   "cell_type": "code",
   "execution_count": 12,
   "metadata": {},
   "outputs": [
    {
     "name": "stderr",
     "output_type": "stream",
     "text": [
      "[I 2024-12-04 16:09:28,391] A new study created in memory with name: no-name-4176f204-1d6c-4fd6-ad94-2e65181ea183\n",
      "/tmp/ipykernel_282182/2540710613.py:7: FutureWarning: suggest_loguniform has been deprecated in v3.0.0. This feature will be removed in v6.0.0. See https://github.com/optuna/optuna/releases/tag/v3.0.0. Use suggest_float(..., log=True) instead.\n",
      "  learning_rate = trial.suggest_loguniform(\"learning_rate\", 1e-4, 1e-2)  # 範囲を調整\n",
      "[I 2024-12-04 16:10:54,358] Trial 0 finished with value: 0.17635143244924836 and parameters: {'dropout1': 0.35000000000000003, 'dropout2': 0.05, 'dropout3': 0.05, 'dropout4': 0.0, 'learning_rate': 0.0009113035802664196}. Best is trial 0 with value: 0.17635143244924836.\n"
     ]
    },
    {
     "name": "stdout",
     "output_type": "stream",
     "text": [
      "Early stopping at epoch 29\n",
      "Final MCC: 0.1764\n"
     ]
    },
    {
     "name": "stderr",
     "output_type": "stream",
     "text": [
      "/tmp/ipykernel_282182/2540710613.py:7: FutureWarning: suggest_loguniform has been deprecated in v3.0.0. This feature will be removed in v6.0.0. See https://github.com/optuna/optuna/releases/tag/v3.0.0. Use suggest_float(..., log=True) instead.\n",
      "  learning_rate = trial.suggest_loguniform(\"learning_rate\", 1e-4, 1e-2)  # 範囲を調整\n",
      "[I 2024-12-04 16:11:56,664] Trial 1 finished with value: 0.0 and parameters: {'dropout1': 0.15000000000000002, 'dropout2': 0.5, 'dropout3': 0.15000000000000002, 'dropout4': 0.30000000000000004, 'learning_rate': 0.0034229803553909787}. Best is trial 0 with value: 0.17635143244924836.\n"
     ]
    },
    {
     "name": "stdout",
     "output_type": "stream",
     "text": [
      "Early stopping at epoch 20\n",
      "Final MCC: 0.0000\n"
     ]
    },
    {
     "name": "stderr",
     "output_type": "stream",
     "text": [
      "/tmp/ipykernel_282182/2540710613.py:7: FutureWarning: suggest_loguniform has been deprecated in v3.0.0. This feature will be removed in v6.0.0. See https://github.com/optuna/optuna/releases/tag/v3.0.0. Use suggest_float(..., log=True) instead.\n",
      "  learning_rate = trial.suggest_loguniform(\"learning_rate\", 1e-4, 1e-2)  # 範囲を調整\n",
      "[I 2024-12-04 16:13:23,501] Trial 2 finished with value: 0.05249283197298709 and parameters: {'dropout1': 0.25, 'dropout2': 0.25, 'dropout3': 0.1, 'dropout4': 0.45, 'learning_rate': 0.002055133916190706}. Best is trial 0 with value: 0.17635143244924836.\n"
     ]
    },
    {
     "name": "stdout",
     "output_type": "stream",
     "text": [
      "Early stopping at epoch 28\n",
      "Final MCC: 0.0525\n"
     ]
    },
    {
     "name": "stderr",
     "output_type": "stream",
     "text": [
      "/tmp/ipykernel_282182/2540710613.py:7: FutureWarning: suggest_loguniform has been deprecated in v3.0.0. This feature will be removed in v6.0.0. See https://github.com/optuna/optuna/releases/tag/v3.0.0. Use suggest_float(..., log=True) instead.\n",
      "  learning_rate = trial.suggest_loguniform(\"learning_rate\", 1e-4, 1e-2)  # 範囲を調整\n",
      "[I 2024-12-04 16:16:53,817] Trial 3 finished with value: 0.32876875325808125 and parameters: {'dropout1': 0.5, 'dropout2': 0.30000000000000004, 'dropout3': 0.30000000000000004, 'dropout4': 0.45, 'learning_rate': 0.00010529855553305321}. Best is trial 3 with value: 0.32876875325808125.\n"
     ]
    },
    {
     "name": "stdout",
     "output_type": "stream",
     "text": [
      "Early stopping at epoch 70\n",
      "Final MCC: 0.3288\n"
     ]
    },
    {
     "name": "stderr",
     "output_type": "stream",
     "text": [
      "/tmp/ipykernel_282182/2540710613.py:7: FutureWarning: suggest_loguniform has been deprecated in v3.0.0. This feature will be removed in v6.0.0. See https://github.com/optuna/optuna/releases/tag/v3.0.0. Use suggest_float(..., log=True) instead.\n",
      "  learning_rate = trial.suggest_loguniform(\"learning_rate\", 1e-4, 1e-2)  # 範囲を調整\n",
      "[I 2024-12-04 16:17:29,840] Trial 4 finished with value: 0.2850245223659899 and parameters: {'dropout1': 0.2, 'dropout2': 0.15000000000000002, 'dropout3': 0.2, 'dropout4': 0.2, 'learning_rate': 0.0028323771936837163}. Best is trial 3 with value: 0.32876875325808125.\n"
     ]
    },
    {
     "name": "stdout",
     "output_type": "stream",
     "text": [
      "Early stopping at epoch 11\n",
      "Final MCC: 0.2850\n"
     ]
    },
    {
     "name": "stderr",
     "output_type": "stream",
     "text": [
      "/tmp/ipykernel_282182/2540710613.py:7: FutureWarning: suggest_loguniform has been deprecated in v3.0.0. This feature will be removed in v6.0.0. See https://github.com/optuna/optuna/releases/tag/v3.0.0. Use suggest_float(..., log=True) instead.\n",
      "  learning_rate = trial.suggest_loguniform(\"learning_rate\", 1e-4, 1e-2)  # 範囲を調整\n",
      "[I 2024-12-04 16:18:24,658] Trial 5 finished with value: 0.32574704291377815 and parameters: {'dropout1': 0.35000000000000003, 'dropout2': 0.45, 'dropout3': 0.15000000000000002, 'dropout4': 0.35000000000000003, 'learning_rate': 0.00047290850682806304}. Best is trial 3 with value: 0.32876875325808125.\n"
     ]
    },
    {
     "name": "stdout",
     "output_type": "stream",
     "text": [
      "Early stopping at epoch 16\n",
      "Final MCC: 0.3257\n"
     ]
    },
    {
     "name": "stderr",
     "output_type": "stream",
     "text": [
      "/tmp/ipykernel_282182/2540710613.py:7: FutureWarning: suggest_loguniform has been deprecated in v3.0.0. This feature will be removed in v6.0.0. See https://github.com/optuna/optuna/releases/tag/v3.0.0. Use suggest_float(..., log=True) instead.\n",
      "  learning_rate = trial.suggest_loguniform(\"learning_rate\", 1e-4, 1e-2)  # 範囲を調整\n",
      "[I 2024-12-04 16:19:08,747] Trial 6 finished with value: 0.0 and parameters: {'dropout1': 0.45, 'dropout2': 0.1, 'dropout3': 0.1, 'dropout4': 0.4, 'learning_rate': 0.009647526619809346}. Best is trial 3 with value: 0.32876875325808125.\n"
     ]
    },
    {
     "name": "stdout",
     "output_type": "stream",
     "text": [
      "Early stopping at epoch 12\n",
      "Final MCC: 0.0000\n"
     ]
    },
    {
     "name": "stderr",
     "output_type": "stream",
     "text": [
      "/tmp/ipykernel_282182/2540710613.py:7: FutureWarning: suggest_loguniform has been deprecated in v3.0.0. This feature will be removed in v6.0.0. See https://github.com/optuna/optuna/releases/tag/v3.0.0. Use suggest_float(..., log=True) instead.\n",
      "  learning_rate = trial.suggest_loguniform(\"learning_rate\", 1e-4, 1e-2)  # 範囲を調整\n",
      "[I 2024-12-04 16:20:30,322] Trial 7 finished with value: 0.31021820500027975 and parameters: {'dropout1': 0.5, 'dropout2': 0.1, 'dropout3': 0.5, 'dropout4': 0.25, 'learning_rate': 0.0003360283827981226}. Best is trial 3 with value: 0.32876875325808125.\n"
     ]
    },
    {
     "name": "stdout",
     "output_type": "stream",
     "text": [
      "Early stopping at epoch 23\n",
      "Final MCC: 0.3102\n"
     ]
    },
    {
     "name": "stderr",
     "output_type": "stream",
     "text": [
      "/tmp/ipykernel_282182/2540710613.py:7: FutureWarning: suggest_loguniform has been deprecated in v3.0.0. This feature will be removed in v6.0.0. See https://github.com/optuna/optuna/releases/tag/v3.0.0. Use suggest_float(..., log=True) instead.\n",
      "  learning_rate = trial.suggest_loguniform(\"learning_rate\", 1e-4, 1e-2)  # 範囲を調整\n",
      "[I 2024-12-04 16:20:33,955] Trial 8 pruned. \n",
      "[I 2024-12-04 16:20:37,465] Trial 9 pruned. \n",
      "[I 2024-12-04 16:22:34,820] Trial 10 finished with value: 0.27800760235913036 and parameters: {'dropout1': 0.0, 'dropout2': 0.30000000000000004, 'dropout3': 0.4, 'dropout4': 0.45, 'learning_rate': 0.0001375149434029498}. Best is trial 3 with value: 0.32876875325808125.\n"
     ]
    },
    {
     "name": "stdout",
     "output_type": "stream",
     "text": [
      "Early stopping at epoch 34\n",
      "Final MCC: 0.2780\n"
     ]
    },
    {
     "name": "stderr",
     "output_type": "stream",
     "text": [
      "/tmp/ipykernel_282182/2540710613.py:7: FutureWarning: suggest_loguniform has been deprecated in v3.0.0. This feature will be removed in v6.0.0. See https://github.com/optuna/optuna/releases/tag/v3.0.0. Use suggest_float(..., log=True) instead.\n",
      "  learning_rate = trial.suggest_loguniform(\"learning_rate\", 1e-4, 1e-2)  # 範囲を調整\n",
      "[I 2024-12-04 16:25:30,147] Trial 11 finished with value: 0.3127037834952593 and parameters: {'dropout1': 0.4, 'dropout2': 0.5, 'dropout3': 0.30000000000000004, 'dropout4': 0.35000000000000003, 'learning_rate': 0.00010706718253061178}. Best is trial 3 with value: 0.32876875325808125.\n"
     ]
    },
    {
     "name": "stdout",
     "output_type": "stream",
     "text": [
      "Early stopping at epoch 50\n",
      "Final MCC: 0.3127\n"
     ]
    },
    {
     "name": "stderr",
     "output_type": "stream",
     "text": [
      "/tmp/ipykernel_282182/2540710613.py:7: FutureWarning: suggest_loguniform has been deprecated in v3.0.0. This feature will be removed in v6.0.0. See https://github.com/optuna/optuna/releases/tag/v3.0.0. Use suggest_float(..., log=True) instead.\n",
      "  learning_rate = trial.suggest_loguniform(\"learning_rate\", 1e-4, 1e-2)  # 範囲を調整\n",
      "[I 2024-12-04 16:28:04,087] Trial 12 finished with value: 0.01967582419901983 and parameters: {'dropout1': 0.5, 'dropout2': 0.35000000000000003, 'dropout3': 0.25, 'dropout4': 0.5, 'learning_rate': 0.0003234878287904902}. Best is trial 3 with value: 0.32876875325808125.\n"
     ]
    },
    {
     "name": "stdout",
     "output_type": "stream",
     "text": [
      "Early stopping at epoch 44\n",
      "Final MCC: 0.0197\n"
     ]
    },
    {
     "name": "stderr",
     "output_type": "stream",
     "text": [
      "/tmp/ipykernel_282182/2540710613.py:7: FutureWarning: suggest_loguniform has been deprecated in v3.0.0. This feature will be removed in v6.0.0. See https://github.com/optuna/optuna/releases/tag/v3.0.0. Use suggest_float(..., log=True) instead.\n",
      "  learning_rate = trial.suggest_loguniform(\"learning_rate\", 1e-4, 1e-2)  # 範囲を調整\n",
      "[I 2024-12-04 16:28:07,572] Trial 13 pruned. \n",
      "[I 2024-12-04 16:30:08,496] Trial 14 finished with value: 0.3219863429118815 and parameters: {'dropout1': 0.35000000000000003, 'dropout2': 0.2, 'dropout3': 0.4, 'dropout4': 0.5, 'learning_rate': 0.00020802887258685197}. Best is trial 3 with value: 0.32876875325808125.\n"
     ]
    },
    {
     "name": "stdout",
     "output_type": "stream",
     "text": [
      "Early stopping at epoch 33\n",
      "Final MCC: 0.3220\n"
     ]
    },
    {
     "name": "stderr",
     "output_type": "stream",
     "text": [
      "/tmp/ipykernel_282182/2540710613.py:7: FutureWarning: suggest_loguniform has been deprecated in v3.0.0. This feature will be removed in v6.0.0. See https://github.com/optuna/optuna/releases/tag/v3.0.0. Use suggest_float(..., log=True) instead.\n",
      "  learning_rate = trial.suggest_loguniform(\"learning_rate\", 1e-4, 1e-2)  # 範囲を調整\n",
      "[I 2024-12-04 16:30:12,263] Trial 15 pruned. \n",
      "[I 2024-12-04 16:31:35,493] Trial 16 finished with value: 0.2670740987867434 and parameters: {'dropout1': 0.30000000000000004, 'dropout2': 0.30000000000000004, 'dropout3': 0.2, 'dropout4': 0.15000000000000002, 'learning_rate': 0.00021653622313579286}. Best is trial 3 with value: 0.32876875325808125.\n"
     ]
    },
    {
     "name": "stdout",
     "output_type": "stream",
     "text": [
      "Early stopping at epoch 23\n",
      "Final MCC: 0.2671\n"
     ]
    },
    {
     "name": "stderr",
     "output_type": "stream",
     "text": [
      "/tmp/ipykernel_282182/2540710613.py:7: FutureWarning: suggest_loguniform has been deprecated in v3.0.0. This feature will be removed in v6.0.0. See https://github.com/optuna/optuna/releases/tag/v3.0.0. Use suggest_float(..., log=True) instead.\n",
      "  learning_rate = trial.suggest_loguniform(\"learning_rate\", 1e-4, 1e-2)  # 範囲を調整\n",
      "[I 2024-12-04 16:31:39,122] Trial 17 pruned. \n",
      "[I 2024-12-04 16:31:42,738] Trial 18 pruned. \n",
      "[I 2024-12-04 16:34:39,439] Trial 19 finished with value: 0.3401680257083045 and parameters: {'dropout1': 0.4, 'dropout2': 0.35000000000000003, 'dropout3': 0.30000000000000004, 'dropout4': 0.30000000000000004, 'learning_rate': 0.00016591983542101353}. Best is trial 19 with value: 0.3401680257083045.\n"
     ]
    },
    {
     "name": "stdout",
     "output_type": "stream",
     "text": [
      "Early stopping at epoch 48\n",
      "Final MCC: 0.3402\n"
     ]
    },
    {
     "name": "stderr",
     "output_type": "stream",
     "text": [
      "/tmp/ipykernel_282182/2540710613.py:7: FutureWarning: suggest_loguniform has been deprecated in v3.0.0. This feature will be removed in v6.0.0. See https://github.com/optuna/optuna/releases/tag/v3.0.0. Use suggest_float(..., log=True) instead.\n",
      "  learning_rate = trial.suggest_loguniform(\"learning_rate\", 1e-4, 1e-2)  # 範囲を調整\n",
      "[I 2024-12-04 16:36:46,888] Trial 20 finished with value: 0.3182192318053801 and parameters: {'dropout1': 0.45, 'dropout2': 0.30000000000000004, 'dropout3': 0.4, 'dropout4': 0.15000000000000002, 'learning_rate': 0.00016600218708147697}. Best is trial 19 with value: 0.3401680257083045.\n"
     ]
    },
    {
     "name": "stdout",
     "output_type": "stream",
     "text": [
      "Early stopping at epoch 34\n",
      "Final MCC: 0.3182\n"
     ]
    },
    {
     "name": "stderr",
     "output_type": "stream",
     "text": [
      "/tmp/ipykernel_282182/2540710613.py:7: FutureWarning: suggest_loguniform has been deprecated in v3.0.0. This feature will be removed in v6.0.0. See https://github.com/optuna/optuna/releases/tag/v3.0.0. Use suggest_float(..., log=True) instead.\n",
      "  learning_rate = trial.suggest_loguniform(\"learning_rate\", 1e-4, 1e-2)  # 範囲を調整\n",
      "[I 2024-12-04 16:41:20,617] Trial 21 finished with value: 0.30340380493549934 and parameters: {'dropout1': 0.4, 'dropout2': 0.35000000000000003, 'dropout3': 0.30000000000000004, 'dropout4': 0.30000000000000004, 'learning_rate': 0.00010564605933712874}. Best is trial 19 with value: 0.3401680257083045.\n"
     ]
    },
    {
     "name": "stdout",
     "output_type": "stream",
     "text": [
      "Early stopping at epoch 72\n",
      "Final MCC: 0.3034\n"
     ]
    },
    {
     "name": "stderr",
     "output_type": "stream",
     "text": [
      "/tmp/ipykernel_282182/2540710613.py:7: FutureWarning: suggest_loguniform has been deprecated in v3.0.0. This feature will be removed in v6.0.0. See https://github.com/optuna/optuna/releases/tag/v3.0.0. Use suggest_float(..., log=True) instead.\n",
      "  learning_rate = trial.suggest_loguniform(\"learning_rate\", 1e-4, 1e-2)  # 範囲を調整\n",
      "[I 2024-12-04 16:41:24,313] Trial 22 pruned. \n",
      "[I 2024-12-04 16:41:27,997] Trial 23 pruned. \n",
      "[I 2024-12-04 16:44:50,937] Trial 24 finished with value: 0.3073093301386144 and parameters: {'dropout1': 0.45, 'dropout2': 0.45, 'dropout3': 0.15000000000000002, 'dropout4': 0.25, 'learning_rate': 0.00013885616971142162}. Best is trial 19 with value: 0.3401680257083045.\n"
     ]
    },
    {
     "name": "stdout",
     "output_type": "stream",
     "text": [
      "Early stopping at epoch 54\n",
      "Final MCC: 0.3073\n"
     ]
    },
    {
     "name": "stderr",
     "output_type": "stream",
     "text": [
      "/tmp/ipykernel_282182/2540710613.py:7: FutureWarning: suggest_loguniform has been deprecated in v3.0.0. This feature will be removed in v6.0.0. See https://github.com/optuna/optuna/releases/tag/v3.0.0. Use suggest_float(..., log=True) instead.\n",
      "  learning_rate = trial.suggest_loguniform(\"learning_rate\", 1e-4, 1e-2)  # 範囲を調整\n",
      "[I 2024-12-04 16:44:54,657] Trial 25 pruned. \n",
      "[I 2024-12-04 16:44:58,521] Trial 26 pruned. \n",
      "[I 2024-12-04 16:45:02,313] Trial 27 pruned. \n",
      "[I 2024-12-04 16:46:56,039] Trial 28 finished with value: 0.0 and parameters: {'dropout1': 0.35000000000000003, 'dropout2': 0.2, 'dropout3': 0.45, 'dropout4': 0.5, 'learning_rate': 0.00016195367323604975}. Best is trial 19 with value: 0.3401680257083045.\n"
     ]
    },
    {
     "name": "stdout",
     "output_type": "stream",
     "text": [
      "Early stopping at epoch 30\n",
      "Final MCC: 0.0000\n"
     ]
    },
    {
     "name": "stderr",
     "output_type": "stream",
     "text": [
      "/tmp/ipykernel_282182/2540710613.py:7: FutureWarning: suggest_loguniform has been deprecated in v3.0.0. This feature will be removed in v6.0.0. See https://github.com/optuna/optuna/releases/tag/v3.0.0. Use suggest_float(..., log=True) instead.\n",
      "  learning_rate = trial.suggest_loguniform(\"learning_rate\", 1e-4, 1e-2)  # 範囲を調整\n",
      "[I 2024-12-04 16:46:59,697] Trial 29 pruned. \n",
      "[I 2024-12-04 16:49:07,723] Trial 30 finished with value: 0.07337993857053428 and parameters: {'dropout1': 0.2, 'dropout2': 0.5, 'dropout3': 0.25, 'dropout4': 0.45, 'learning_rate': 0.0001957523939107067}. Best is trial 19 with value: 0.3401680257083045.\n"
     ]
    },
    {
     "name": "stdout",
     "output_type": "stream",
     "text": [
      "Early stopping at epoch 34\n",
      "Final MCC: 0.0734\n"
     ]
    },
    {
     "name": "stderr",
     "output_type": "stream",
     "text": [
      "/tmp/ipykernel_282182/2540710613.py:7: FutureWarning: suggest_loguniform has been deprecated in v3.0.0. This feature will be removed in v6.0.0. See https://github.com/optuna/optuna/releases/tag/v3.0.0. Use suggest_float(..., log=True) instead.\n",
      "  learning_rate = trial.suggest_loguniform(\"learning_rate\", 1e-4, 1e-2)  # 範囲を調整\n",
      "[I 2024-12-04 16:50:30,258] Trial 31 finished with value: 0.12420766160787448 and parameters: {'dropout1': 0.30000000000000004, 'dropout2': 0.2, 'dropout3': 0.4, 'dropout4': 0.5, 'learning_rate': 0.00024710168817899486}. Best is trial 19 with value: 0.3401680257083045.\n"
     ]
    },
    {
     "name": "stdout",
     "output_type": "stream",
     "text": [
      "Early stopping at epoch 21\n",
      "Final MCC: 0.1242\n"
     ]
    },
    {
     "name": "stderr",
     "output_type": "stream",
     "text": [
      "/tmp/ipykernel_282182/2540710613.py:7: FutureWarning: suggest_loguniform has been deprecated in v3.0.0. This feature will be removed in v6.0.0. See https://github.com/optuna/optuna/releases/tag/v3.0.0. Use suggest_float(..., log=True) instead.\n",
      "  learning_rate = trial.suggest_loguniform(\"learning_rate\", 1e-4, 1e-2)  # 範囲を調整\n",
      "[I 2024-12-04 16:52:54,458] Trial 32 finished with value: 0.0 and parameters: {'dropout1': 0.4, 'dropout2': 0.2, 'dropout3': 0.45, 'dropout4': 0.5, 'learning_rate': 0.00010606567444150131}. Best is trial 19 with value: 0.3401680257083045.\n"
     ]
    },
    {
     "name": "stdout",
     "output_type": "stream",
     "text": [
      "Early stopping at epoch 37\n",
      "Final MCC: 0.0000\n"
     ]
    },
    {
     "name": "stderr",
     "output_type": "stream",
     "text": [
      "/tmp/ipykernel_282182/2540710613.py:7: FutureWarning: suggest_loguniform has been deprecated in v3.0.0. This feature will be removed in v6.0.0. See https://github.com/optuna/optuna/releases/tag/v3.0.0. Use suggest_float(..., log=True) instead.\n",
      "  learning_rate = trial.suggest_loguniform(\"learning_rate\", 1e-4, 1e-2)  # 範囲を調整\n",
      "[I 2024-12-04 16:52:58,320] Trial 33 pruned. \n",
      "[I 2024-12-04 16:53:02,184] Trial 34 pruned. \n",
      "[I 2024-12-04 16:55:23,090] Trial 35 finished with value: 0.24397045524847633 and parameters: {'dropout1': 0.45, 'dropout2': 0.15000000000000002, 'dropout3': 0.2, 'dropout4': 0.4, 'learning_rate': 0.00013611949264612772}. Best is trial 19 with value: 0.3401680257083045.\n"
     ]
    },
    {
     "name": "stdout",
     "output_type": "stream",
     "text": [
      "Early stopping at epoch 36\n",
      "Final MCC: 0.2440\n"
     ]
    },
    {
     "name": "stderr",
     "output_type": "stream",
     "text": [
      "/tmp/ipykernel_282182/2540710613.py:7: FutureWarning: suggest_loguniform has been deprecated in v3.0.0. This feature will be removed in v6.0.0. See https://github.com/optuna/optuna/releases/tag/v3.0.0. Use suggest_float(..., log=True) instead.\n",
      "  learning_rate = trial.suggest_loguniform(\"learning_rate\", 1e-4, 1e-2)  # 範囲を調整\n",
      "[I 2024-12-04 16:55:26,866] Trial 36 pruned. \n",
      "[I 2024-12-04 16:55:30,649] Trial 37 pruned. \n",
      "[I 2024-12-04 16:55:34,442] Trial 38 pruned. \n",
      "[I 2024-12-04 16:59:28,297] Trial 39 finished with value: 0.16718283108591322 and parameters: {'dropout1': 0.25, 'dropout2': 0.2, 'dropout3': 0.15000000000000002, 'dropout4': 0.45, 'learning_rate': 0.00027536926639790696}. Best is trial 19 with value: 0.3401680257083045.\n"
     ]
    },
    {
     "name": "stdout",
     "output_type": "stream",
     "text": [
      "Early stopping at epoch 61\n",
      "Final MCC: 0.1672\n"
     ]
    },
    {
     "name": "stderr",
     "output_type": "stream",
     "text": [
      "/tmp/ipykernel_282182/2540710613.py:7: FutureWarning: suggest_loguniform has been deprecated in v3.0.0. This feature will be removed in v6.0.0. See https://github.com/optuna/optuna/releases/tag/v3.0.0. Use suggest_float(..., log=True) instead.\n",
      "  learning_rate = trial.suggest_loguniform(\"learning_rate\", 1e-4, 1e-2)  # 範囲を調整\n",
      "[I 2024-12-04 16:59:32,139] Trial 40 pruned. \n",
      "[I 2024-12-04 17:02:19,327] Trial 41 finished with value: 0.31112351834242324 and parameters: {'dropout1': 0.45, 'dropout2': 0.25, 'dropout3': 0.4, 'dropout4': 0.1, 'learning_rate': 0.0001656877977823098}. Best is trial 19 with value: 0.3401680257083045.\n"
     ]
    },
    {
     "name": "stdout",
     "output_type": "stream",
     "text": [
      "Early stopping at epoch 43\n",
      "Final MCC: 0.3111\n"
     ]
    },
    {
     "name": "stderr",
     "output_type": "stream",
     "text": [
      "/tmp/ipykernel_282182/2540710613.py:7: FutureWarning: suggest_loguniform has been deprecated in v3.0.0. This feature will be removed in v6.0.0. See https://github.com/optuna/optuna/releases/tag/v3.0.0. Use suggest_float(..., log=True) instead.\n",
      "  learning_rate = trial.suggest_loguniform(\"learning_rate\", 1e-4, 1e-2)  # 範囲を調整\n",
      "[I 2024-12-04 17:06:01,684] Trial 42 finished with value: 0.2645751311064591 and parameters: {'dropout1': 0.5, 'dropout2': 0.30000000000000004, 'dropout3': 0.30000000000000004, 'dropout4': 0.15000000000000002, 'learning_rate': 0.00012207770723687622}. Best is trial 19 with value: 0.3401680257083045.\n"
     ]
    },
    {
     "name": "stdout",
     "output_type": "stream",
     "text": [
      "Early stopping at epoch 57\n",
      "Final MCC: 0.2646\n"
     ]
    },
    {
     "name": "stderr",
     "output_type": "stream",
     "text": [
      "/tmp/ipykernel_282182/2540710613.py:7: FutureWarning: suggest_loguniform has been deprecated in v3.0.0. This feature will be removed in v6.0.0. See https://github.com/optuna/optuna/releases/tag/v3.0.0. Use suggest_float(..., log=True) instead.\n",
      "  learning_rate = trial.suggest_loguniform(\"learning_rate\", 1e-4, 1e-2)  # 範囲を調整\n",
      "[I 2024-12-04 17:07:53,907] Trial 43 finished with value: 0.060678496982207536 and parameters: {'dropout1': 0.45, 'dropout2': 0.35000000000000003, 'dropout3': 0.35000000000000003, 'dropout4': 0.2, 'learning_rate': 0.00018279627784122885}. Best is trial 19 with value: 0.3401680257083045.\n"
     ]
    },
    {
     "name": "stdout",
     "output_type": "stream",
     "text": [
      "Early stopping at epoch 28\n",
      "Final MCC: 0.0607\n"
     ]
    },
    {
     "name": "stderr",
     "output_type": "stream",
     "text": [
      "/tmp/ipykernel_282182/2540710613.py:7: FutureWarning: suggest_loguniform has been deprecated in v3.0.0. This feature will be removed in v6.0.0. See https://github.com/optuna/optuna/releases/tag/v3.0.0. Use suggest_float(..., log=True) instead.\n",
      "  learning_rate = trial.suggest_loguniform(\"learning_rate\", 1e-4, 1e-2)  # 範囲を調整\n",
      "[I 2024-12-04 17:07:57,828] Trial 44 pruned. \n",
      "[I 2024-12-04 17:11:50,599] Trial 45 finished with value: 0.28682760706051597 and parameters: {'dropout1': 0.4, 'dropout2': 0.4, 'dropout3': 0.4, 'dropout4': 0.25, 'learning_rate': 0.00027302245885907887}. Best is trial 19 with value: 0.3401680257083045.\n"
     ]
    },
    {
     "name": "stdout",
     "output_type": "stream",
     "text": [
      "Early stopping at epoch 65\n",
      "Final MCC: 0.2868\n"
     ]
    },
    {
     "name": "stderr",
     "output_type": "stream",
     "text": [
      "/tmp/ipykernel_282182/2540710613.py:7: FutureWarning: suggest_loguniform has been deprecated in v3.0.0. This feature will be removed in v6.0.0. See https://github.com/optuna/optuna/releases/tag/v3.0.0. Use suggest_float(..., log=True) instead.\n",
      "  learning_rate = trial.suggest_loguniform(\"learning_rate\", 1e-4, 1e-2)  # 範囲を調整\n",
      "[I 2024-12-04 17:13:48,011] Trial 46 finished with value: 0.3149315163115528 and parameters: {'dropout1': 0.30000000000000004, 'dropout2': 0.25, 'dropout3': 0.30000000000000004, 'dropout4': 0.5, 'learning_rate': 0.0001606461969422278}. Best is trial 19 with value: 0.3401680257083045.\n"
     ]
    },
    {
     "name": "stdout",
     "output_type": "stream",
     "text": [
      "Early stopping at epoch 32\n",
      "Final MCC: 0.3149\n"
     ]
    },
    {
     "name": "stderr",
     "output_type": "stream",
     "text": [
      "/tmp/ipykernel_282182/2540710613.py:7: FutureWarning: suggest_loguniform has been deprecated in v3.0.0. This feature will be removed in v6.0.0. See https://github.com/optuna/optuna/releases/tag/v3.0.0. Use suggest_float(..., log=True) instead.\n",
      "  learning_rate = trial.suggest_loguniform(\"learning_rate\", 1e-4, 1e-2)  # 範囲を調整\n",
      "[I 2024-12-04 17:13:51,482] Trial 47 pruned. \n",
      "[I 2024-12-04 17:16:58,888] Trial 48 finished with value: 0.23350726947740727 and parameters: {'dropout1': 0.45, 'dropout2': 0.35000000000000003, 'dropout3': 0.25, 'dropout4': 0.15000000000000002, 'learning_rate': 0.00012258412073693742}. Best is trial 19 with value: 0.3401680257083045.\n"
     ]
    },
    {
     "name": "stdout",
     "output_type": "stream",
     "text": [
      "Early stopping at epoch 58\n",
      "Final MCC: 0.2335\n"
     ]
    },
    {
     "name": "stderr",
     "output_type": "stream",
     "text": [
      "/tmp/ipykernel_282182/2540710613.py:7: FutureWarning: suggest_loguniform has been deprecated in v3.0.0. This feature will be removed in v6.0.0. See https://github.com/optuna/optuna/releases/tag/v3.0.0. Use suggest_float(..., log=True) instead.\n",
      "  learning_rate = trial.suggest_loguniform(\"learning_rate\", 1e-4, 1e-2)  # 範囲を調整\n",
      "[I 2024-12-04 17:18:51,965] Trial 49 finished with value: 0.0719065237942896 and parameters: {'dropout1': 0.4, 'dropout2': 0.4, 'dropout3': 0.2, 'dropout4': 0.45, 'learning_rate': 0.00020561333938260343}. Best is trial 19 with value: 0.3401680257083045.\n"
     ]
    },
    {
     "name": "stdout",
     "output_type": "stream",
     "text": [
      "Early stopping at epoch 35\n",
      "Final MCC: 0.0719\n"
     ]
    },
    {
     "name": "stderr",
     "output_type": "stream",
     "text": [
      "/tmp/ipykernel_282182/2540710613.py:7: FutureWarning: suggest_loguniform has been deprecated in v3.0.0. This feature will be removed in v6.0.0. See https://github.com/optuna/optuna/releases/tag/v3.0.0. Use suggest_float(..., log=True) instead.\n",
      "  learning_rate = trial.suggest_loguniform(\"learning_rate\", 1e-4, 1e-2)  # 範囲を調整\n",
      "[I 2024-12-04 17:21:20,161] Trial 50 finished with value: 0.3276033597166953 and parameters: {'dropout1': 0.5, 'dropout2': 0.30000000000000004, 'dropout3': 0.35000000000000003, 'dropout4': 0.30000000000000004, 'learning_rate': 0.00010103961166714404}. Best is trial 19 with value: 0.3401680257083045.\n"
     ]
    },
    {
     "name": "stdout",
     "output_type": "stream",
     "text": [
      "Early stopping at epoch 46\n",
      "Final MCC: 0.3276\n"
     ]
    },
    {
     "name": "stderr",
     "output_type": "stream",
     "text": [
      "/tmp/ipykernel_282182/2540710613.py:7: FutureWarning: suggest_loguniform has been deprecated in v3.0.0. This feature will be removed in v6.0.0. See https://github.com/optuna/optuna/releases/tag/v3.0.0. Use suggest_float(..., log=True) instead.\n",
      "  learning_rate = trial.suggest_loguniform(\"learning_rate\", 1e-4, 1e-2)  # 範囲を調整\n",
      "[I 2024-12-04 17:24:01,937] Trial 51 finished with value: 0.3144452433120083 and parameters: {'dropout1': 0.5, 'dropout2': 0.30000000000000004, 'dropout3': 0.35000000000000003, 'dropout4': 0.30000000000000004, 'learning_rate': 0.00010462150061026685}. Best is trial 19 with value: 0.3401680257083045.\n"
     ]
    },
    {
     "name": "stdout",
     "output_type": "stream",
     "text": [
      "Early stopping at epoch 50\n",
      "Final MCC: 0.3144\n"
     ]
    },
    {
     "name": "stderr",
     "output_type": "stream",
     "text": [
      "/tmp/ipykernel_282182/2540710613.py:7: FutureWarning: suggest_loguniform has been deprecated in v3.0.0. This feature will be removed in v6.0.0. See https://github.com/optuna/optuna/releases/tag/v3.0.0. Use suggest_float(..., log=True) instead.\n",
      "  learning_rate = trial.suggest_loguniform(\"learning_rate\", 1e-4, 1e-2)  # 範囲を調整\n",
      "[I 2024-12-04 17:27:20,904] Trial 52 finished with value: 0.1984621082065641 and parameters: {'dropout1': 0.5, 'dropout2': 0.25, 'dropout3': 0.4, 'dropout4': 0.35000000000000003, 'learning_rate': 0.00013061607580264764}. Best is trial 19 with value: 0.3401680257083045.\n"
     ]
    },
    {
     "name": "stdout",
     "output_type": "stream",
     "text": [
      "Early stopping at epoch 62\n",
      "Final MCC: 0.1985\n"
     ]
    },
    {
     "name": "stderr",
     "output_type": "stream",
     "text": [
      "/tmp/ipykernel_282182/2540710613.py:7: FutureWarning: suggest_loguniform has been deprecated in v3.0.0. This feature will be removed in v6.0.0. See https://github.com/optuna/optuna/releases/tag/v3.0.0. Use suggest_float(..., log=True) instead.\n",
      "  learning_rate = trial.suggest_loguniform(\"learning_rate\", 1e-4, 1e-2)  # 範囲を調整\n",
      "[I 2024-12-04 17:27:24,175] Trial 53 pruned. \n",
      "[I 2024-12-04 17:27:27,423] Trial 54 pruned. \n",
      "[I 2024-12-04 17:29:59,415] Trial 55 finished with value: 0.31066390097531804 and parameters: {'dropout1': 0.45, 'dropout2': 0.2, 'dropout3': 0.35000000000000003, 'dropout4': 0.2, 'learning_rate': 0.00010456424834256949}. Best is trial 19 with value: 0.3401680257083045.\n"
     ]
    },
    {
     "name": "stdout",
     "output_type": "stream",
     "text": [
      "Early stopping at epoch 46\n",
      "Final MCC: 0.3107\n"
     ]
    },
    {
     "name": "stderr",
     "output_type": "stream",
     "text": [
      "/tmp/ipykernel_282182/2540710613.py:7: FutureWarning: suggest_loguniform has been deprecated in v3.0.0. This feature will be removed in v6.0.0. See https://github.com/optuna/optuna/releases/tag/v3.0.0. Use suggest_float(..., log=True) instead.\n",
      "  learning_rate = trial.suggest_loguniform(\"learning_rate\", 1e-4, 1e-2)  # 範囲を調整\n",
      "[I 2024-12-04 17:30:02,665] Trial 56 pruned. \n",
      "[I 2024-12-04 17:35:02,489] Trial 57 finished with value: 0.14215828201016295 and parameters: {'dropout1': 0.5, 'dropout2': 0.45, 'dropout3': 0.30000000000000004, 'dropout4': 0.25, 'learning_rate': 0.0001221593307246036}. Best is trial 19 with value: 0.3401680257083045.\n"
     ]
    },
    {
     "name": "stdout",
     "output_type": "stream",
     "text": [
      "Early stopping at epoch 96\n",
      "Final MCC: 0.1422\n"
     ]
    },
    {
     "name": "stderr",
     "output_type": "stream",
     "text": [
      "/tmp/ipykernel_282182/2540710613.py:7: FutureWarning: suggest_loguniform has been deprecated in v3.0.0. This feature will be removed in v6.0.0. See https://github.com/optuna/optuna/releases/tag/v3.0.0. Use suggest_float(..., log=True) instead.\n",
      "  learning_rate = trial.suggest_loguniform(\"learning_rate\", 1e-4, 1e-2)  # 範囲を調整\n",
      "[I 2024-12-04 17:35:05,408] Trial 58 pruned. \n",
      "[I 2024-12-04 17:35:08,413] Trial 59 pruned. \n",
      "[I 2024-12-04 17:35:11,386] Trial 60 pruned. \n",
      "[I 2024-12-04 17:38:06,087] Trial 61 finished with value: 0.14048279070968459 and parameters: {'dropout1': 0.30000000000000004, 'dropout2': 0.25, 'dropout3': 0.30000000000000004, 'dropout4': 0.5, 'learning_rate': 0.00015498876233588775}. Best is trial 19 with value: 0.3401680257083045.\n"
     ]
    },
    {
     "name": "stdout",
     "output_type": "stream",
     "text": [
      "Early stopping at epoch 59\n",
      "Final MCC: 0.1405\n"
     ]
    },
    {
     "name": "stderr",
     "output_type": "stream",
     "text": [
      "/tmp/ipykernel_282182/2540710613.py:7: FutureWarning: suggest_loguniform has been deprecated in v3.0.0. This feature will be removed in v6.0.0. See https://github.com/optuna/optuna/releases/tag/v3.0.0. Use suggest_float(..., log=True) instead.\n",
      "  learning_rate = trial.suggest_loguniform(\"learning_rate\", 1e-4, 1e-2)  # 範囲を調整\n",
      "[I 2024-12-04 17:38:09,123] Trial 62 pruned. \n",
      "[I 2024-12-04 17:38:12,170] Trial 63 pruned. \n",
      "[I 2024-12-04 17:40:53,923] Trial 64 finished with value: 0.23350726947740727 and parameters: {'dropout1': 0.35000000000000003, 'dropout2': 0.15000000000000002, 'dropout3': 0.25, 'dropout4': 0.45, 'learning_rate': 0.00014627670898613305}. Best is trial 19 with value: 0.3401680257083045.\n"
     ]
    },
    {
     "name": "stdout",
     "output_type": "stream",
     "text": [
      "Early stopping at epoch 54\n",
      "Final MCC: 0.2335\n"
     ]
    },
    {
     "name": "stderr",
     "output_type": "stream",
     "text": [
      "/tmp/ipykernel_282182/2540710613.py:7: FutureWarning: suggest_loguniform has been deprecated in v3.0.0. This feature will be removed in v6.0.0. See https://github.com/optuna/optuna/releases/tag/v3.0.0. Use suggest_float(..., log=True) instead.\n",
      "  learning_rate = trial.suggest_loguniform(\"learning_rate\", 1e-4, 1e-2)  # 範囲を調整\n",
      "[I 2024-12-04 17:42:22,426] Trial 65 finished with value: 0.29433848178860794 and parameters: {'dropout1': 0.4, 'dropout2': 0.25, 'dropout3': 0.30000000000000004, 'dropout4': 0.5, 'learning_rate': 0.00011651264081776822}. Best is trial 19 with value: 0.3401680257083045.\n"
     ]
    },
    {
     "name": "stdout",
     "output_type": "stream",
     "text": [
      "Early stopping at epoch 29\n",
      "Final MCC: 0.2943\n"
     ]
    },
    {
     "name": "stderr",
     "output_type": "stream",
     "text": [
      "/tmp/ipykernel_282182/2540710613.py:7: FutureWarning: suggest_loguniform has been deprecated in v3.0.0. This feature will be removed in v6.0.0. See https://github.com/optuna/optuna/releases/tag/v3.0.0. Use suggest_float(..., log=True) instead.\n",
      "  learning_rate = trial.suggest_loguniform(\"learning_rate\", 1e-4, 1e-2)  # 範囲を調整\n",
      "[I 2024-12-04 17:42:25,318] Trial 66 pruned. \n",
      "[I 2024-12-04 17:42:28,191] Trial 67 pruned. \n",
      "[I 2024-12-04 17:42:31,172] Trial 68 pruned. \n",
      "[I 2024-12-04 17:42:34,222] Trial 69 pruned. \n",
      "[I 2024-12-04 17:42:37,354] Trial 70 pruned. \n",
      "[I 2024-12-04 17:44:56,604] Trial 71 finished with value: 0.32011378178572664 and parameters: {'dropout1': 0.5, 'dropout2': 0.30000000000000004, 'dropout3': 0.35000000000000003, 'dropout4': 0.30000000000000004, 'learning_rate': 0.00011233388755975536}. Best is trial 19 with value: 0.3401680257083045.\n"
     ]
    },
    {
     "name": "stdout",
     "output_type": "stream",
     "text": [
      "Early stopping at epoch 47\n",
      "Final MCC: 0.3201\n"
     ]
    },
    {
     "name": "stderr",
     "output_type": "stream",
     "text": [
      "/tmp/ipykernel_282182/2540710613.py:7: FutureWarning: suggest_loguniform has been deprecated in v3.0.0. This feature will be removed in v6.0.0. See https://github.com/optuna/optuna/releases/tag/v3.0.0. Use suggest_float(..., log=True) instead.\n",
      "  learning_rate = trial.suggest_loguniform(\"learning_rate\", 1e-4, 1e-2)  # 範囲を調整\n",
      "[I 2024-12-04 17:44:59,515] Trial 72 pruned. \n",
      "[I 2024-12-04 17:46:48,002] Trial 73 finished with value: 0.3219863429118815 and parameters: {'dropout1': 0.5, 'dropout2': 0.30000000000000004, 'dropout3': 0.30000000000000004, 'dropout4': 0.30000000000000004, 'learning_rate': 0.00016951772017042825}. Best is trial 19 with value: 0.3401680257083045.\n"
     ]
    },
    {
     "name": "stdout",
     "output_type": "stream",
     "text": [
      "Early stopping at epoch 37\n",
      "Final MCC: 0.3220\n"
     ]
    },
    {
     "name": "stderr",
     "output_type": "stream",
     "text": [
      "/tmp/ipykernel_282182/2540710613.py:7: FutureWarning: suggest_loguniform has been deprecated in v3.0.0. This feature will be removed in v6.0.0. See https://github.com/optuna/optuna/releases/tag/v3.0.0. Use suggest_float(..., log=True) instead.\n",
      "  learning_rate = trial.suggest_loguniform(\"learning_rate\", 1e-4, 1e-2)  # 範囲を調整\n",
      "[I 2024-12-04 17:46:50,973] Trial 74 pruned. \n",
      "[I 2024-12-04 17:49:17,848] Trial 75 finished with value: 0.20761904761904762 and parameters: {'dropout1': 0.5, 'dropout2': 0.35000000000000003, 'dropout3': 0.35000000000000003, 'dropout4': 0.35000000000000003, 'learning_rate': 0.00011769044397649482}. Best is trial 19 with value: 0.3401680257083045.\n"
     ]
    },
    {
     "name": "stdout",
     "output_type": "stream",
     "text": [
      "Early stopping at epoch 50\n",
      "Final MCC: 0.2076\n"
     ]
    },
    {
     "name": "stderr",
     "output_type": "stream",
     "text": [
      "/tmp/ipykernel_282182/2540710613.py:7: FutureWarning: suggest_loguniform has been deprecated in v3.0.0. This feature will be removed in v6.0.0. See https://github.com/optuna/optuna/releases/tag/v3.0.0. Use suggest_float(..., log=True) instead.\n",
      "  learning_rate = trial.suggest_loguniform(\"learning_rate\", 1e-4, 1e-2)  # 範囲を調整\n",
      "[I 2024-12-04 17:49:20,852] Trial 76 pruned. \n",
      "[I 2024-12-04 17:51:10,144] Trial 77 finished with value: 0.3182192318053801 and parameters: {'dropout1': 0.45, 'dropout2': 0.35000000000000003, 'dropout3': 0.35000000000000003, 'dropout4': 0.30000000000000004, 'learning_rate': 0.00016883105975293875}. Best is trial 19 with value: 0.3401680257083045.\n"
     ]
    },
    {
     "name": "stdout",
     "output_type": "stream",
     "text": [
      "Early stopping at epoch 37\n",
      "Final MCC: 0.3182\n"
     ]
    },
    {
     "name": "stderr",
     "output_type": "stream",
     "text": [
      "/tmp/ipykernel_282182/2540710613.py:7: FutureWarning: suggest_loguniform has been deprecated in v3.0.0. This feature will be removed in v6.0.0. See https://github.com/optuna/optuna/releases/tag/v3.0.0. Use suggest_float(..., log=True) instead.\n",
      "  learning_rate = trial.suggest_loguniform(\"learning_rate\", 1e-4, 1e-2)  # 範囲を調整\n",
      "[I 2024-12-04 17:51:13,043] Trial 78 pruned. \n",
      "[I 2024-12-04 17:51:15,988] Trial 79 pruned. \n",
      "[I 2024-12-04 17:51:18,888] Trial 80 pruned. \n",
      "[I 2024-12-04 17:51:21,845] Trial 81 pruned. \n",
      "[I 2024-12-04 17:51:24,765] Trial 82 pruned. \n",
      "[I 2024-12-04 17:51:27,678] Trial 83 pruned. \n",
      "[I 2024-12-04 17:54:35,294] Trial 84 finished with value: 0.32963901647465516 and parameters: {'dropout1': 0.45, 'dropout2': 0.25, 'dropout3': 0.4, 'dropout4': 0.30000000000000004, 'learning_rate': 0.00011509674012565804}. Best is trial 19 with value: 0.3401680257083045.\n"
     ]
    },
    {
     "name": "stdout",
     "output_type": "stream",
     "text": [
      "Early stopping at epoch 64\n",
      "Final MCC: 0.3296\n"
     ]
    },
    {
     "name": "stderr",
     "output_type": "stream",
     "text": [
      "/tmp/ipykernel_282182/2540710613.py:7: FutureWarning: suggest_loguniform has been deprecated in v3.0.0. This feature will be removed in v6.0.0. See https://github.com/optuna/optuna/releases/tag/v3.0.0. Use suggest_float(..., log=True) instead.\n",
      "  learning_rate = trial.suggest_loguniform(\"learning_rate\", 1e-4, 1e-2)  # 範囲を調整\n",
      "[I 2024-12-04 17:56:18,604] Trial 85 finished with value: 0.3020299100761005 and parameters: {'dropout1': 0.4, 'dropout2': 0.25, 'dropout3': 0.4, 'dropout4': 0.35000000000000003, 'learning_rate': 0.0001383166383348234}. Best is trial 19 with value: 0.3401680257083045.\n"
     ]
    },
    {
     "name": "stdout",
     "output_type": "stream",
     "text": [
      "Early stopping at epoch 34\n",
      "Final MCC: 0.3020\n"
     ]
    },
    {
     "name": "stderr",
     "output_type": "stream",
     "text": [
      "/tmp/ipykernel_282182/2540710613.py:7: FutureWarning: suggest_loguniform has been deprecated in v3.0.0. This feature will be removed in v6.0.0. See https://github.com/optuna/optuna/releases/tag/v3.0.0. Use suggest_float(..., log=True) instead.\n",
      "  learning_rate = trial.suggest_loguniform(\"learning_rate\", 1e-4, 1e-2)  # 範囲を調整\n",
      "[I 2024-12-04 17:59:16,922] Trial 86 finished with value: 0.33902621655294457 and parameters: {'dropout1': 0.45, 'dropout2': 0.25, 'dropout3': 0.4, 'dropout4': 0.25, 'learning_rate': 0.00011189424224287243}. Best is trial 19 with value: 0.3401680257083045.\n"
     ]
    },
    {
     "name": "stdout",
     "output_type": "stream",
     "text": [
      "Early stopping at epoch 59\n",
      "Final MCC: 0.3390\n"
     ]
    },
    {
     "name": "stderr",
     "output_type": "stream",
     "text": [
      "/tmp/ipykernel_282182/2540710613.py:7: FutureWarning: suggest_loguniform has been deprecated in v3.0.0. This feature will be removed in v6.0.0. See https://github.com/optuna/optuna/releases/tag/v3.0.0. Use suggest_float(..., log=True) instead.\n",
      "  learning_rate = trial.suggest_loguniform(\"learning_rate\", 1e-4, 1e-2)  # 範囲を調整\n",
      "[I 2024-12-04 17:59:20,012] Trial 87 pruned. \n",
      "[I 2024-12-04 18:02:55,733] Trial 88 finished with value: 0.3219863429118815 and parameters: {'dropout1': 0.45, 'dropout2': 0.2, 'dropout3': 0.45, 'dropout4': 0.2, 'learning_rate': 0.00010089722187945118}. Best is trial 19 with value: 0.3401680257083045.\n"
     ]
    },
    {
     "name": "stdout",
     "output_type": "stream",
     "text": [
      "Early stopping at epoch 72\n",
      "Final MCC: 0.3220\n"
     ]
    },
    {
     "name": "stderr",
     "output_type": "stream",
     "text": [
      "/tmp/ipykernel_282182/2540710613.py:7: FutureWarning: suggest_loguniform has been deprecated in v3.0.0. This feature will be removed in v6.0.0. See https://github.com/optuna/optuna/releases/tag/v3.0.0. Use suggest_float(..., log=True) instead.\n",
      "  learning_rate = trial.suggest_loguniform(\"learning_rate\", 1e-4, 1e-2)  # 範囲を調整\n",
      "[I 2024-12-04 18:06:02,840] Trial 89 finished with value: 0.14498416521560314 and parameters: {'dropout1': 0.4, 'dropout2': 0.2, 'dropout3': 0.45, 'dropout4': 0.2, 'learning_rate': 0.00012451024931100027}. Best is trial 19 with value: 0.3401680257083045.\n"
     ]
    },
    {
     "name": "stdout",
     "output_type": "stream",
     "text": [
      "Early stopping at epoch 59\n",
      "Final MCC: 0.1450\n"
     ]
    },
    {
     "name": "stderr",
     "output_type": "stream",
     "text": [
      "/tmp/ipykernel_282182/2540710613.py:7: FutureWarning: suggest_loguniform has been deprecated in v3.0.0. This feature will be removed in v6.0.0. See https://github.com/optuna/optuna/releases/tag/v3.0.0. Use suggest_float(..., log=True) instead.\n",
      "  learning_rate = trial.suggest_loguniform(\"learning_rate\", 1e-4, 1e-2)  # 範囲を調整\n",
      "[I 2024-12-04 18:06:06,219] Trial 90 pruned. \n",
      "[I 2024-12-04 18:08:28,936] Trial 91 finished with value: 0.31066390097531804 and parameters: {'dropout1': 0.45, 'dropout2': 0.2, 'dropout3': 0.45, 'dropout4': 0.25, 'learning_rate': 0.00010052843572604175}. Best is trial 19 with value: 0.3401680257083045.\n"
     ]
    },
    {
     "name": "stdout",
     "output_type": "stream",
     "text": [
      "Early stopping at epoch 47\n",
      "Final MCC: 0.3107\n"
     ]
    },
    {
     "name": "stderr",
     "output_type": "stream",
     "text": [
      "/tmp/ipykernel_282182/2540710613.py:7: FutureWarning: suggest_loguniform has been deprecated in v3.0.0. This feature will be removed in v6.0.0. See https://github.com/optuna/optuna/releases/tag/v3.0.0. Use suggest_float(..., log=True) instead.\n",
      "  learning_rate = trial.suggest_loguniform(\"learning_rate\", 1e-4, 1e-2)  # 範囲を調整\n",
      "[I 2024-12-04 18:08:31,916] Trial 92 pruned. \n",
      "[I 2024-12-04 18:10:54,541] Trial 93 finished with value: 0.3089056477310863 and parameters: {'dropout1': 0.45, 'dropout2': 0.2, 'dropout3': 0.45, 'dropout4': 0.25, 'learning_rate': 0.00011305926644119207}. Best is trial 19 with value: 0.3401680257083045.\n"
     ]
    },
    {
     "name": "stdout",
     "output_type": "stream",
     "text": [
      "Early stopping at epoch 45\n",
      "Final MCC: 0.3089\n"
     ]
    },
    {
     "name": "stderr",
     "output_type": "stream",
     "text": [
      "/tmp/ipykernel_282182/2540710613.py:7: FutureWarning: suggest_loguniform has been deprecated in v3.0.0. This feature will be removed in v6.0.0. See https://github.com/optuna/optuna/releases/tag/v3.0.0. Use suggest_float(..., log=True) instead.\n",
      "  learning_rate = trial.suggest_loguniform(\"learning_rate\", 1e-4, 1e-2)  # 範囲を調整\n",
      "[I 2024-12-04 18:10:57,966] Trial 94 pruned. \n",
      "[I 2024-12-04 18:13:39,720] Trial 95 finished with value: 0.3225307463503984 and parameters: {'dropout1': 0.45, 'dropout2': 0.30000000000000004, 'dropout3': 0.30000000000000004, 'dropout4': 0.30000000000000004, 'learning_rate': 0.00014861569021867402}. Best is trial 19 with value: 0.3401680257083045.\n"
     ]
    },
    {
     "name": "stdout",
     "output_type": "stream",
     "text": [
      "Early stopping at epoch 51\n",
      "Final MCC: 0.3225\n"
     ]
    },
    {
     "name": "stderr",
     "output_type": "stream",
     "text": [
      "/tmp/ipykernel_282182/2540710613.py:7: FutureWarning: suggest_loguniform has been deprecated in v3.0.0. This feature will be removed in v6.0.0. See https://github.com/optuna/optuna/releases/tag/v3.0.0. Use suggest_float(..., log=True) instead.\n",
      "  learning_rate = trial.suggest_loguniform(\"learning_rate\", 1e-4, 1e-2)  # 範囲を調整\n",
      "[I 2024-12-04 18:13:43,263] Trial 96 pruned. \n",
      "[I 2024-12-04 18:13:46,752] Trial 97 pruned. \n",
      "[I 2024-12-04 18:13:49,559] Trial 98 pruned. \n",
      "[I 2024-12-04 18:13:52,483] Trial 99 pruned. \n"
     ]
    },
    {
     "name": "stdout",
     "output_type": "stream",
     "text": [
      "Best Parameters:  {'dropout1': 0.4, 'dropout2': 0.35000000000000003, 'dropout3': 0.30000000000000004, 'dropout4': 0.30000000000000004, 'learning_rate': 0.00016591983542101353}\n",
      "Best Validation F1:  0.3401680257083045\n"
     ]
    }
   ],
   "source": [
    "device_id = 0\n",
    "torch.cuda.set_device(device_id)\n",
    "device = torch.device(f\"cuda:{device_id}\" if torch.cuda.is_available() else \"cpu\")\n",
    "\n",
    "# Optunaの設定\n",
    "study = optuna.create_study(direction=\"maximize\")  \n",
    "study.optimize(objective, n_trials=100)\n",
    "\n",
    "# 結果表示\n",
    "print(\"Best Parameters: \", study.best_params)\n",
    "print(\"Best Validation F1: \", study.best_value)"
   ]
  },
  {
   "cell_type": "code",
   "execution_count": 13,
   "metadata": {},
   "outputs": [
    {
     "name": "stdout",
     "output_type": "stream",
     "text": [
      "Epoch [1/100], Loss: 0.6685\n",
      "Epoch [1/100], Train Loss: 0.6685, Val Loss: 0.6477\n",
      "Epoch [2/100], Loss: 0.6396\n",
      "Epoch [2/100], Train Loss: 0.6396, Val Loss: 0.5996\n",
      "Epoch [3/100], Loss: 0.6143\n",
      "Epoch [3/100], Train Loss: 0.6143, Val Loss: 0.5857\n",
      "Epoch [4/100], Loss: 0.5986\n",
      "Epoch [4/100], Train Loss: 0.5986, Val Loss: 0.5820\n",
      "Epoch [5/100], Loss: 0.5929\n",
      "Epoch [5/100], Train Loss: 0.5929, Val Loss: 0.5797\n",
      "Epoch [6/100], Loss: 0.5947\n",
      "Epoch [6/100], Train Loss: 0.5947, Val Loss: 0.5781\n",
      "Epoch [7/100], Loss: 0.5876\n",
      "Epoch [7/100], Train Loss: 0.5876, Val Loss: 0.5763\n",
      "Epoch [8/100], Loss: 0.5800\n",
      "Epoch [8/100], Train Loss: 0.5800, Val Loss: 0.5741\n",
      "Epoch [9/100], Loss: 0.5837\n",
      "Epoch [9/100], Train Loss: 0.5837, Val Loss: 0.5717\n",
      "Epoch [10/100], Loss: 0.5773\n",
      "Epoch [10/100], Train Loss: 0.5773, Val Loss: 0.5706\n",
      "Epoch [11/100], Loss: 0.5722\n",
      "Epoch [11/100], Train Loss: 0.5722, Val Loss: 0.5699\n",
      "Epoch [12/100], Loss: 0.5754\n",
      "Epoch [12/100], Train Loss: 0.5754, Val Loss: 0.5679\n",
      "Epoch [13/100], Loss: 0.5695\n",
      "Epoch [13/100], Train Loss: 0.5695, Val Loss: 0.5674\n",
      "Epoch [14/100], Loss: 0.5698\n",
      "Epoch [14/100], Train Loss: 0.5698, Val Loss: 0.5667\n",
      "Epoch [15/100], Loss: 0.5700\n",
      "Epoch [15/100], Train Loss: 0.5700, Val Loss: 0.5649\n",
      "Epoch [16/100], Loss: 0.5704\n",
      "Epoch [16/100], Train Loss: 0.5704, Val Loss: 0.5659\n",
      "Epoch [17/100], Loss: 0.5680\n",
      "Epoch [17/100], Train Loss: 0.5680, Val Loss: 0.5668\n",
      "Epoch [18/100], Loss: 0.5739\n",
      "Epoch [18/100], Train Loss: 0.5739, Val Loss: 0.5649\n",
      "Epoch [19/100], Loss: 0.5688\n",
      "Epoch [19/100], Train Loss: 0.5688, Val Loss: 0.5641\n",
      "Epoch [20/100], Loss: 0.5717\n",
      "Epoch [20/100], Train Loss: 0.5717, Val Loss: 0.5630\n",
      "Epoch [21/100], Loss: 0.5671\n",
      "Epoch [21/100], Train Loss: 0.5671, Val Loss: 0.5621\n",
      "Epoch [22/100], Loss: 0.5673\n",
      "Epoch [22/100], Train Loss: 0.5673, Val Loss: 0.5634\n",
      "Epoch [23/100], Loss: 0.5631\n",
      "Epoch [23/100], Train Loss: 0.5631, Val Loss: 0.5652\n",
      "Epoch [24/100], Loss: 0.5654\n",
      "Epoch [24/100], Train Loss: 0.5654, Val Loss: 0.5635\n",
      "Epoch [25/100], Loss: 0.5664\n",
      "Epoch [25/100], Train Loss: 0.5664, Val Loss: 0.5637\n",
      "Epoch [26/100], Loss: 0.5689\n",
      "Epoch [26/100], Train Loss: 0.5689, Val Loss: 0.5628\n",
      "Epoch [27/100], Loss: 0.5714\n",
      "Epoch [27/100], Train Loss: 0.5714, Val Loss: 0.5628\n",
      "Epoch [28/100], Loss: 0.5669\n",
      "Epoch [28/100], Train Loss: 0.5669, Val Loss: 0.5632\n",
      "Epoch [29/100], Loss: 0.5652\n",
      "Epoch [29/100], Train Loss: 0.5652, Val Loss: 0.5629\n",
      "Epoch [30/100], Loss: 0.5615\n",
      "Epoch [30/100], Train Loss: 0.5615, Val Loss: 0.5634\n",
      "Epoch [31/100], Loss: 0.5682\n",
      "Epoch [31/100], Train Loss: 0.5682, Val Loss: 0.5626\n",
      "Epoch [32/100], Loss: 0.5706\n",
      "Epoch [32/100], Train Loss: 0.5706, Val Loss: 0.5625\n",
      "Epoch [33/100], Loss: 0.5596\n",
      "Epoch [33/100], Train Loss: 0.5596, Val Loss: 0.5645\n",
      "Epoch [34/100], Loss: 0.5648\n",
      "Epoch [34/100], Train Loss: 0.5648, Val Loss: 0.5619\n",
      "Epoch [35/100], Loss: 0.5666\n",
      "Epoch [35/100], Train Loss: 0.5666, Val Loss: 0.5601\n",
      "Epoch [36/100], Loss: 0.5619\n",
      "Epoch [36/100], Train Loss: 0.5619, Val Loss: 0.5620\n",
      "Epoch [37/100], Loss: 0.5622\n",
      "Epoch [37/100], Train Loss: 0.5622, Val Loss: 0.5643\n",
      "Epoch [38/100], Loss: 0.5610\n",
      "Epoch [38/100], Train Loss: 0.5610, Val Loss: 0.5625\n",
      "Epoch [39/100], Loss: 0.5611\n",
      "Epoch [39/100], Train Loss: 0.5611, Val Loss: 0.5647\n",
      "Epoch [40/100], Loss: 0.5638\n",
      "Epoch [40/100], Train Loss: 0.5638, Val Loss: 0.5632\n",
      "Epoch [41/100], Loss: 0.5630\n",
      "Epoch [41/100], Train Loss: 0.5630, Val Loss: 0.5618\n",
      "Epoch [42/100], Loss: 0.5610\n",
      "Epoch [42/100], Train Loss: 0.5610, Val Loss: 0.5624\n",
      "Epoch [43/100], Loss: 0.5540\n",
      "Epoch [43/100], Train Loss: 0.5540, Val Loss: 0.5653\n",
      "Epoch [44/100], Loss: 0.5577\n",
      "Epoch [44/100], Train Loss: 0.5577, Val Loss: 0.5623\n",
      "Epoch [45/100], Loss: 0.5602\n",
      "Epoch [45/100], Train Loss: 0.5602, Val Loss: 0.5615\n",
      "Epoch [46/100], Loss: 0.5587\n",
      "Epoch [46/100], Train Loss: 0.5587, Val Loss: 0.5627\n",
      "Epoch [47/100], Loss: 0.5627\n",
      "Epoch [47/100], Train Loss: 0.5627, Val Loss: 0.5613\n",
      "Epoch [48/100], Loss: 0.5628\n",
      "Epoch [48/100], Train Loss: 0.5628, Val Loss: 0.5619\n",
      "Epoch [49/100], Loss: 0.5570\n",
      "Epoch [49/100], Train Loss: 0.5570, Val Loss: 0.5631\n",
      "Epoch [50/100], Loss: 0.5560\n",
      "Epoch [50/100], Train Loss: 0.5560, Val Loss: 0.5611\n",
      "Epoch [51/100], Loss: 0.5606\n",
      "Epoch [51/100], Train Loss: 0.5606, Val Loss: 0.5603\n",
      "Epoch [52/100], Loss: 0.5574\n",
      "Epoch [52/100], Train Loss: 0.5574, Val Loss: 0.5626\n",
      "Epoch [53/100], Loss: 0.5557\n",
      "Epoch [53/100], Train Loss: 0.5557, Val Loss: 0.5617\n",
      "Epoch [54/100], Loss: 0.5577\n",
      "Epoch [54/100], Train Loss: 0.5577, Val Loss: 0.5616\n",
      "Epoch [55/100], Loss: 0.5599\n",
      "Epoch [55/100], Train Loss: 0.5599, Val Loss: 0.5605\n",
      "Epoch [56/100], Loss: 0.5590\n",
      "Epoch [56/100], Train Loss: 0.5590, Val Loss: 0.5615\n",
      "Epoch [57/100], Loss: 0.5562\n",
      "Epoch [57/100], Train Loss: 0.5562, Val Loss: 0.5613\n",
      "Epoch [58/100], Loss: 0.5536\n",
      "Epoch [58/100], Train Loss: 0.5536, Val Loss: 0.5615\n",
      "Epoch [59/100], Loss: 0.5552\n",
      "Epoch [59/100], Train Loss: 0.5552, Val Loss: 0.5627\n",
      "Epoch [60/100], Loss: 0.5624\n",
      "Epoch [60/100], Train Loss: 0.5624, Val Loss: 0.5607\n",
      "Epoch [61/100], Loss: 0.5532\n",
      "Epoch [61/100], Train Loss: 0.5532, Val Loss: 0.5605\n",
      "Epoch [62/100], Loss: 0.5553\n",
      "Epoch [62/100], Train Loss: 0.5553, Val Loss: 0.5615\n",
      "Epoch [63/100], Loss: 0.5549\n",
      "Epoch [63/100], Train Loss: 0.5549, Val Loss: 0.5606\n",
      "Epoch [64/100], Loss: 0.5537\n",
      "Epoch [64/100], Train Loss: 0.5537, Val Loss: 0.5641\n",
      "Epoch [65/100], Loss: 0.5605\n",
      "Epoch [65/100], Train Loss: 0.5605, Val Loss: 0.5613\n",
      "Epoch [66/100], Loss: 0.5549\n",
      "Epoch [66/100], Train Loss: 0.5549, Val Loss: 0.5610\n",
      "Epoch [67/100], Loss: 0.5531\n",
      "Epoch [67/100], Train Loss: 0.5531, Val Loss: 0.5635\n",
      "Epoch [68/100], Loss: 0.5489\n",
      "Epoch [68/100], Train Loss: 0.5489, Val Loss: 0.5633\n",
      "Epoch [69/100], Loss: 0.5527\n",
      "Epoch [69/100], Train Loss: 0.5527, Val Loss: 0.5628\n",
      "Epoch [70/100], Loss: 0.5608\n",
      "Epoch [70/100], Train Loss: 0.5608, Val Loss: 0.5630\n",
      "Epoch [71/100], Loss: 0.5518\n",
      "Epoch [71/100], Train Loss: 0.5518, Val Loss: 0.5637\n",
      "Epoch [72/100], Loss: 0.5549\n",
      "Epoch [72/100], Train Loss: 0.5549, Val Loss: 0.5633\n",
      "Epoch [73/100], Loss: 0.5548\n",
      "Epoch [73/100], Train Loss: 0.5548, Val Loss: 0.5617\n",
      "Epoch [74/100], Loss: 0.5517\n",
      "Epoch [74/100], Train Loss: 0.5517, Val Loss: 0.5615\n",
      "Epoch [75/100], Loss: 0.5558\n",
      "Epoch [75/100], Train Loss: 0.5558, Val Loss: 0.5611\n",
      "Epoch [76/100], Loss: 0.5527\n",
      "Epoch [76/100], Train Loss: 0.5527, Val Loss: 0.5630\n",
      "Epoch [77/100], Loss: 0.5511\n",
      "Epoch [77/100], Train Loss: 0.5511, Val Loss: 0.5623\n",
      "Epoch [78/100], Loss: 0.5536\n",
      "Epoch [78/100], Train Loss: 0.5536, Val Loss: 0.5611\n",
      "Epoch [79/100], Loss: 0.5484\n",
      "Epoch [79/100], Train Loss: 0.5484, Val Loss: 0.5624\n",
      "Epoch [80/100], Loss: 0.5552\n",
      "Epoch [80/100], Train Loss: 0.5552, Val Loss: 0.5628\n",
      "Epoch [81/100], Loss: 0.5532\n",
      "Epoch [81/100], Train Loss: 0.5532, Val Loss: 0.5621\n",
      "Epoch [82/100], Loss: 0.5553\n",
      "Epoch [82/100], Train Loss: 0.5553, Val Loss: 0.5604\n",
      "Epoch [83/100], Loss: 0.5522\n",
      "Epoch [83/100], Train Loss: 0.5522, Val Loss: 0.5600\n",
      "Epoch [84/100], Loss: 0.5462\n",
      "Epoch [84/100], Train Loss: 0.5462, Val Loss: 0.5621\n",
      "Epoch [85/100], Loss: 0.5491\n",
      "Epoch [85/100], Train Loss: 0.5491, Val Loss: 0.5601\n",
      "Epoch [86/100], Loss: 0.5562\n",
      "Epoch [86/100], Train Loss: 0.5562, Val Loss: 0.5593\n",
      "Epoch [87/100], Loss: 0.5517\n",
      "Epoch [87/100], Train Loss: 0.5517, Val Loss: 0.5599\n",
      "Epoch [88/100], Loss: 0.5503\n",
      "Epoch [88/100], Train Loss: 0.5503, Val Loss: 0.5623\n",
      "Epoch [89/100], Loss: 0.5535\n",
      "Epoch [89/100], Train Loss: 0.5535, Val Loss: 0.5618\n",
      "Epoch [90/100], Loss: 0.5483\n",
      "Epoch [90/100], Train Loss: 0.5483, Val Loss: 0.5598\n",
      "Epoch [91/100], Loss: 0.5513\n",
      "Epoch [91/100], Train Loss: 0.5513, Val Loss: 0.5612\n",
      "Epoch [92/100], Loss: 0.5498\n",
      "Epoch [92/100], Train Loss: 0.5498, Val Loss: 0.5609\n",
      "Epoch [93/100], Loss: 0.5477\n",
      "Epoch [93/100], Train Loss: 0.5477, Val Loss: 0.5635\n",
      "Epoch [94/100], Loss: 0.5541\n",
      "Epoch [94/100], Train Loss: 0.5541, Val Loss: 0.5645\n",
      "Epoch [95/100], Loss: 0.5502\n",
      "Epoch [95/100], Train Loss: 0.5502, Val Loss: 0.5649\n",
      "Epoch [96/100], Loss: 0.5464\n",
      "Epoch [96/100], Train Loss: 0.5464, Val Loss: 0.5668\n",
      "Epoch [97/100], Loss: 0.5499\n",
      "Epoch [97/100], Train Loss: 0.5499, Val Loss: 0.5645\n",
      "Epoch [98/100], Loss: 0.5434\n",
      "Epoch [98/100], Train Loss: 0.5434, Val Loss: 0.5644\n",
      "Epoch [99/100], Loss: 0.5457\n",
      "Epoch [99/100], Train Loss: 0.5457, Val Loss: 0.5670\n",
      "Epoch [100/100], Loss: 0.5484\n",
      "Epoch [100/100], Train Loss: 0.5484, Val Loss: 0.5676\n"
     ]
    },
    {
     "data": {
      "image/png": "[encoded data removed]",
      "text/plain": [
       "<Figure size 1000x600 with 1 Axes>"
      ]
     },
     "metadata": {},
     "output_type": "display_data"
    }
   ],
   "source": [
    "best_params=study.best_params\n",
    "model = DNN_6(input_dim=X_train_tensor.shape[1],\n",
    "              dropout1=best_params[\"dropout1\"],\n",
    "              dropout2=best_params[\"dropout2\"],\n",
    "              dropout3=best_params[\"dropout3\"],\n",
    "              dropout4=best_params[\"dropout4\"]).to(device)\n",
    "# 最適化と訓練を実行\n",
    "optimizer = optim.Adam(model.parameters(), lr=best_params[\"learning_rate\"])\n",
    "criterion = nn.BCELoss()\n",
    "\n",
    "num_epochs=100\n",
    "train_losses = []\n",
    "val_losses = []\n",
    "\n",
    "model.train()\n",
    "for epoch in range(num_epochs):\n",
    "    epoch_train_loss = 0\n",
    "    epoch_val_loss = 0\n",
    "\n",
    "    for X_batch, y_batch in train_loader:\n",
    "        X_batch, y_batch = X_batch.to(device), y_batch.to(device)\n",
    "        optimizer.zero_grad()\n",
    "        outputs = model(X_batch).squeeze()\n",
    "        loss = criterion(outputs, y_batch.squeeze())\n",
    "        loss.backward()\n",
    "        optimizer.step()\n",
    "        epoch_train_loss += loss.item()\n",
    "    avg_train_loss = epoch_train_loss / len(train_loader)\n",
    "    train_losses.append(avg_train_loss)\n",
    "    print(f'Epoch [{epoch+1}/{num_epochs}], Loss: {avg_train_loss:.4f}')\n",
    "\n",
    "    if val_loader is not None:\n",
    "        model.eval()  \n",
    "        with torch.no_grad():\n",
    "            for X_val, y_val in val_loader:\n",
    "                X_val, y_val = X_val.to(device), y_val.to(device)\n",
    "                val_outputs = model(X_val).squeeze()\n",
    "                val_loss = criterion(val_outputs, y_val.squeeze())\n",
    "                epoch_val_loss += val_loss.item()\n",
    "\n",
    "        avg_val_loss = epoch_val_loss / len(val_loader)\n",
    "        val_losses.append(avg_val_loss)\n",
    "        model.train()  \n",
    "\n",
    "    if val_loader is not None:\n",
    "        print(f\"Epoch [{epoch+1}/{num_epochs}], Train Loss: {avg_train_loss:.4f}, Val Loss: {avg_val_loss:.4f}\")\n",
    "    else:\n",
    "        print(f\"Epoch [{epoch+1}/{num_epochs}], Train Loss: {avg_train_loss:.4f}\")\n",
    "\n",
    "plt.figure(figsize=(10, 6))\n",
    "plt.plot(range(1, num_epochs + 1), train_losses, label='Train Loss')\n",
    "if val_losses:\n",
    "    plt.plot(range(1, num_epochs + 1), val_losses, label='Validation Loss')\n",
    "plt.xlabel('Epoch')\n",
    "plt.ylabel('Loss')\n",
    "plt.title('Learning Curve for DNN1')\n",
    "plt.legend()\n",
    "plt.grid()\n",
    "plt.show()"
   ]
  },
  {
   "cell_type": "code",
   "execution_count": 14,
   "metadata": {},
   "outputs": [
    {
     "name": "stdout",
     "output_type": "stream",
     "text": [
      "Accuracy: 57.63%\n",
      "Precision: 0.4560\n",
      "Recall: 0.5044\n",
      "F1 Score: 0.4790\n",
      "Matthews Correlation Coefficient: 0.1240\n",
      "Specificity: 0.6215\n"
     ]
    },
    {
     "data": {
      "image/png": "[encoded data removed]",
      "text/plain": [
       "<Figure size 640x480 with 1 Axes>"
      ]
     },
     "metadata": {},
     "output_type": "display_data"
    },
    {
     "data": {
      "image/png": "[encoded data removed]",
      "text/plain": [
       "<Figure size 640x480 with 1 Axes>"
      ]
     },
     "metadata": {},
     "output_type": "display_data"
    },
    {
     "data": {
      "image/png": "[encoded data removed]",
      "text/plain": [
       "<Figure size 640x480 with 1 Axes>"
      ]
     },
     "metadata": {},
     "output_type": "display_data"
    }
   ],
   "source": [
    "model.eval()\n",
    "with torch.no_grad():\n",
    "    X_test_tensor = X_test_tensor.to(device)\n",
    "    y_test_tensor = y_test_tensor.to(device)\n",
    "\n",
    "    # 予測と確率\n",
    "    test_outputs = model(X_test_tensor).squeeze()\n",
    "    predictions = (test_outputs > 0.49).float()\n",
    "    y_true = y_test_tensor.cpu().numpy()\n",
    "    y_pred = predictions.cpu().numpy()\n",
    "    y_prob = test_outputs.cpu().numpy()\n",
    "\n",
    "# 評価指標\n",
    "    accuracy = accuracy_score(y_true, y_pred)\n",
    "    precision = precision_score(y_true, y_pred)\n",
    "    recall = recall_score(y_true, y_pred)\n",
    "    f1 = f1_score(y_true, y_pred)\n",
    "    mcc = matthews_corrcoef(y_true, y_pred)\n",
    "    specificity = recall_score(y_true, y_pred, pos_label=0)  \n",
    "    print(f'Accuracy: {accuracy * 100:.2f}%')\n",
    "    print(f'Precision: {precision:.4f}')\n",
    "    print(f'Recall: {recall:.4f}')\n",
    "    print(f'F1 Score: {f1:.4f}')\n",
    "    print(f'Matthews Correlation Coefficient: {mcc:.4f}')\n",
    "    print(f'Specificity: {specificity:.4f}')\n",
    "\n",
    "    # 混同行列（割合表示）\n",
    "    cm = confusion_matrix(y_true, y_pred, normalize='true')\n",
    "    sns.heatmap(cm, annot=True, fmt=\".2%\", cmap=\"Blues\", cbar=False)\n",
    "    plt.xlabel(\"Predicted\")\n",
    "    plt.ylabel(\"Actual\")\n",
    "    plt.title(f\"Confusion Matrix (Normalized)\")\n",
    "    plt.show()\n",
    "\n",
    "    # ROC曲線とAUC\n",
    "    fpr, tpr, thresholds = roc_curve(y_true, y_prob)\n",
    "    roc_auc = auc(fpr, tpr)\n",
    "    plt.plot(fpr, tpr, label=f'ROC curve (AUC = {roc_auc:.2f})')\n",
    "    plt.plot([0, 1], [0, 1], 'k--') \n",
    "    plt.xlabel('False Positive Rate')\n",
    "    plt.ylabel('True Positive Rate')\n",
    "    plt.title(f'ROC Curve - Model ')\n",
    "    plt.legend(loc=\"lower right\")\n",
    "    plt.show()\n",
    "\n",
    "    # Precision-Recall曲線\n",
    "    precision_curve, recall_curve, pr_thresholds = precision_recall_curve(y_true, y_prob)\n",
    "    pr_auc = auc(recall_curve, precision_curve)\n",
    "    plt.plot(recall_curve, precision_curve, label=f'PR curve (AUC = {pr_auc:.2f})')\n",
    "    plt.xlabel('Recall')\n",
    "    plt.ylabel('Precision')\n",
    "    plt.title(f'Precision-Recall Curve ')\n",
    "    plt.legend(loc=\"lower left\")\n",
    "    plt.show()    "
   ]
  },
  {
   "cell_type": "code",
   "execution_count": 15,
   "metadata": {},
   "outputs": [],
   "source": [
    "# モデルと構造を保存\n",
    "torch.save(model.state_dict(), '../../saved_model/DNN_6.pth')\n",
    "\n"
   ]
  }
 ],
 "metadata": {
  "kernelspec": {
   "display_name": "torch",
   "language": "python",
   "name": "python3"
  },
  "language_info": {
   "codemirror_mode": {
    "name": "ipython",
    "version": 3
   },
   "file_extension": ".py",
   "mimetype": "text/x-python",
   "name": "python",
   "nbconvert_exporter": "python",
   "pygments_lexer": "ipython3",
   "version": "3.12.7"
  }
 },
 "nbformat": 4,
 "nbformat_minor": 2
}
