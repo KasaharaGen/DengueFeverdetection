{
 "cells": [
  {
   "cell_type": "code",
   "execution_count": 1,
   "metadata": {},
   "outputs": [],
   "source": [
    "import numpy as np\n",
    "import pandas as pd\n",
    "import matplotlib.pyplot as plt\n",
    "import seaborn as sns\n",
    "\n",
    "import torch\n",
    "import torch.nn as nn\n",
    "import torch.optim as optim\n",
    "\n",
    "import optuna\n",
    "\n",
    "from sklearn.model_selection import train_test_split\n",
    "from sklearn.metrics import confusion_matrix,accuracy_score, precision_score, recall_score, f1_score, confusion_matrix, roc_curve, auc,matthews_corrcoef, precision_recall_curve,roc_auc_score\n",
    "\n"
   ]
  },
  {
   "cell_type": "markdown",
   "metadata": {},
   "source": [
    "データ読み取り"
   ]
  },
  {
   "cell_type": "code",
   "execution_count": 2,
   "metadata": {},
   "outputs": [],
   "source": [
    "df=pd.read_csv('../../data/learning_data.csv',index_col=0)\n",
    "\n",
    "X=df.drop(columns='dengue',axis=1).values\n",
    "y=df['dengue'].values\n",
    "\n",
    "X_train, X_test, y_train, y_test = train_test_split(X, y, test_size=0.2,random_state=42)\n",
    "X_train, X_val, y_train, y_val = train_test_split(X_train, y_train, test_size=0.1,random_state=42)\n",
    "\n",
    "#torchテンソルに変換\n",
    "X_train_tensor = torch.tensor(X_train, dtype=torch.float32)\n",
    "y_train_tensor = torch.tensor(y_train, dtype=torch.float32)\n",
    "X_test_tensor = torch.tensor(X_test, dtype=torch.float32)\n",
    "y_test_tensor = torch.tensor(y_test, dtype=torch.float32)\n",
    "X_val_tensor = torch.tensor(X_val, dtype=torch.float32)\n",
    "y_val_tensor = torch.tensor(y_val, dtype=torch.float32)\n"
   ]
  },
  {
   "cell_type": "code",
   "execution_count": 3,
   "metadata": {},
   "outputs": [],
   "source": [
    "class FTTransformer_2(nn.Module):\n",
    "    def __init__(self, input_dim, num_heads, num_layers, d_model, dropout):\n",
    "        super(FTTransformer_2, self).__init__()\n",
    "        self.input_dim = input_dim\n",
    "\n",
    "        # 入力を特徴トークンとして埋め込む\n",
    "        self.embedding = nn.Linear(input_dim, d_model)\n",
    "        \n",
    "        # Transformerエンコーダ層\n",
    "        self.transformer = nn.TransformerEncoder(\n",
    "            nn.TransformerEncoderLayer(d_model=d_model, nhead=num_heads, dropout=dropout),\n",
    "            num_layers=num_layers\n",
    "        )\n",
    "        \n",
    "        # 出力層\n",
    "        self.fc = nn.Linear(d_model, 1)\n",
    "        \n",
    "    def forward(self, x):\n",
    "        # 入力を埋め込み\n",
    "        # [batch_size, input_dim] -> [batch_size, seq_len=1, d_model]\n",
    "        x = self.embedding(x).unsqueeze(1)\n",
    "        \n",
    "        # 次元を変更 [batch_size, seq_len, d_model] -> [seq_len, batch_size, d_model]\n",
    "        x = x.permute(1, 0, 2)\n",
    "        \n",
    "        # Transformerエンコーダに通す\n",
    "        x = self.transformer(x)\n",
    "        \n",
    "        # 最後のトークンを取得して分類\n",
    "        # [seq_len, batch_size, d_model] -> [batch_size, d_model]\n",
    "        x = x.mean(dim=0)  # 平均を取る\n",
    "        x = self.fc(x)  # 出力層\n",
    "        return torch.sigmoid(x)\n"
   ]
  },
  {
   "cell_type": "markdown",
   "metadata": {},
   "source": [
    "学習データセットの作成"
   ]
  },
  {
   "cell_type": "code",
   "execution_count": 4,
   "metadata": {},
   "outputs": [],
   "source": [
    "train_dataset = torch.utils.data.TensorDataset(X_train_tensor, y_train_tensor)\n",
    "train_loader = torch.utils.data.DataLoader(dataset=train_dataset, batch_size=32, shuffle=True)\n",
    "\n",
    "val_dataset = torch.utils.data.TensorDataset(X_val_tensor, y_val_tensor)\n",
    "val_loader = torch.utils.data.DataLoader(dataset=val_dataset, batch_size=32, shuffle=False)"
   ]
  },
  {
   "cell_type": "markdown",
   "metadata": {},
   "source": [
    "Optunaの設定"
   ]
  },
  {
   "cell_type": "code",
   "execution_count": null,
   "metadata": {},
   "outputs": [],
   "source": [
    "import optuna\n",
    "\n",
    "# 目的関数の定義\n",
    "def objective(trial):\n",
    "    # ハイパーパラメータのサンプリング\n",
    "    num_heads = trial.suggest_categorical('num_heads', [2, 4, 8])\n",
    "    num_layers = trial.suggest_int('num_layers', 1, 5)\n",
    "    d_model = trial.suggest_categorical('d_model', [32, 64, 128])\n",
    "    dropout = trial.suggest_float('dropout', 0.1, 0.5,step=0.05)\n",
    "    learning_rate = trial.suggest_loguniform('learning_rate', 1e-5, 1e-1)\n",
    "    weight_decay=trial.suggest_loguniform('weight_decay', 1e-5, 1e-1)\n",
    "\n",
    "    model = FTTransformer_2(input_dim=X_train.shape[1], \n",
    "                           num_heads=num_heads, \n",
    "                           num_layers=num_layers, \n",
    "                           d_model=d_model, \n",
    "                           dropout=dropout)\n",
    "    model = model.to(device)\n",
    "\n",
    "    criterion = nn.BCELoss()\n",
    "    optimizer = torch.optim.Adam(model.parameters(), lr=learning_rate,weight_decay=weight_decay)\n",
    "    \n",
    "    num_epochs=100\n",
    "    model.train()\n",
    "    for epoch in range(num_epochs):\n",
    "        for X_batch, y_batch in train_loader:\n",
    "            X_batch, y_batch = X_batch.to(device), y_batch.to(device)\n",
    "            optimizer.zero_grad()\n",
    "            outputs = model(X_batch).squeeze()\n",
    "            loss = criterion(outputs,y_batch )\n",
    "            loss.backward()\n",
    "            optimizer.step()\n",
    "    \n",
    "    model.eval()\n",
    "    val_true, val_pred, val_prob = [], [], []\n",
    "    with torch.no_grad():\n",
    "        for X_val, y_val in val_loader:\n",
    "            X_val, y_val = X_val.to(device), y_val.to(device)\n",
    "            val_outputs = model(X_val).squeeze()\n",
    "            predictions = (val_outputs >= 0.5).float()\n",
    "            val_true.extend(y_val.cpu().numpy())\n",
    "            val_pred.extend(predictions.cpu().numpy())\n",
    "            val_prob.extend(val_outputs.cpu().numpy())\n",
    "\n",
    "\n",
    "    accuracy = accuracy_score(val_true, val_pred)\n",
    "    precision = precision_score(val_true, val_pred)\n",
    "    recall = recall_score(val_true, val_pred)\n",
    "    f1 = f1_score(val_true, val_pred)\n",
    "    mcc = matthews_corrcoef(val_true, val_pred)\n",
    "    specificity = recall_score(val_true, val_pred, pos_label=0)\n",
    "\n",
    "    # ログ\n",
    "    print(f'Accuracy: {accuracy * 100:.2f}%')\n",
    "    print(f'Precision: {precision:.4f}')\n",
    "    print(f'Recall: {recall:.4f}')\n",
    "    print(f'F1 Score: {f1:.4f}')\n",
    "    print(f'Matthews Correlation Coefficient: {mcc:.4f}')\n",
    "    print(f'Specificity: {specificity:.4f}')\n",
    "    \n",
    "    return precision"
   ]
  },
  {
   "cell_type": "code",
   "execution_count": 6,
   "metadata": {},
   "outputs": [
    {
     "name": "stdout",
     "output_type": "stream",
     "text": [
      "使用可能なGPUの数: 2\n",
      "GPU 0: NVIDIA GeForce GTX 1080 Ti\n",
      "  メモリ使用状況: 0.00 MB / 11169.31 MB\n",
      "  CUDA対応バージョン: 6.1\n",
      "GPU 1: NVIDIA GeForce GTX 1080 Ti\n",
      "  メモリ使用状況: 0.00 MB / 11172.19 MB\n",
      "  CUDA対応バージョン: 6.1\n"
     ]
    }
   ],
   "source": [
    "# 使用可能なGPUの数を取得\n",
    "num_gpus = torch.cuda.device_count()\n",
    "\n",
    "if num_gpus == 0:\n",
    "    print(\"使用可能なGPUはありません。\")\n",
    "else:\n",
    "    print(f\"使用可能なGPUの数: {num_gpus}\")\n",
    "    for i in range(num_gpus):\n",
    "        print(f\"GPU {i}: {torch.cuda.get_device_name(i)}\")\n",
    "        print(f\"  メモリ使用状況: {torch.cuda.memory_allocated(i) / 1024**2:.2f} MB / {torch.cuda.get_device_properties(i).total_memory / 1024**2:.2f} MB\")\n",
    "        print(f\"  CUDA対応バージョン: {torch.cuda.get_device_properties(i).major}.{torch.cuda.get_device_properties(i).minor}\")\n"
   ]
  },
  {
   "cell_type": "code",
   "execution_count": 7,
   "metadata": {},
   "outputs": [
    {
     "name": "stderr",
     "output_type": "stream",
     "text": [
      "[I 2024-11-28 19:03:04,066] A new study created in memory with name: no-name-64941b54-9b7b-42b9-9ceb-5e926ababa87\n",
      "/tmp/ipykernel_187418/1883078025.py:10: FutureWarning: suggest_loguniform has been deprecated in v3.0.0. This feature will be removed in v6.0.0. See https://github.com/optuna/optuna/releases/tag/v3.0.0. Use suggest_float(..., log=True) instead.\n",
      "  learning_rate = trial.suggest_loguniform('learning_rate', 1e-5, 1e-1)\n",
      "/tmp/ipykernel_187418/1883078025.py:11: FutureWarning: suggest_loguniform has been deprecated in v3.0.0. This feature will be removed in v6.0.0. See https://github.com/optuna/optuna/releases/tag/v3.0.0. Use suggest_float(..., log=True) instead.\n",
      "  weight_decay=trial.suggest_loguniform('weight_decay', 1e-5, 1e-1)\n",
      "/home/gonken/anaconda3/envs/torch/lib/python3.12/site-packages/torch/nn/modules/transformer.py:379: UserWarning: enable_nested_tensor is True, but self.use_nested_tensor is False because encoder_layer.self_attn.batch_first was not True(use batch_first for better inference performance)\n",
      "  warnings.warn(\n",
      "/home/gonken/anaconda3/envs/torch/lib/python3.12/site-packages/sklearn/metrics/_classification.py:1531: UndefinedMetricWarning: Precision is ill-defined and being set to 0.0 due to no predicted samples. Use `zero_division` parameter to control this behavior.\n",
      "  _warn_prf(average, modifier, f\"{metric.capitalize()} is\", len(result))\n",
      "[I 2024-11-28 19:05:57,606] Trial 0 finished with value: 0.0 and parameters: {'num_heads': 8, 'num_layers': 5, 'd_model': 128, 'dropout': 0.30000000000000004, 'learning_rate': 0.04130716254218368, 'weight_decay': 0.0007127342123859047}. Best is trial 0 with value: 0.0.\n",
      "/tmp/ipykernel_187418/1883078025.py:10: FutureWarning: suggest_loguniform has been deprecated in v3.0.0. This feature will be removed in v6.0.0. See https://github.com/optuna/optuna/releases/tag/v3.0.0. Use suggest_float(..., log=True) instead.\n",
      "  learning_rate = trial.suggest_loguniform('learning_rate', 1e-5, 1e-1)\n",
      "/tmp/ipykernel_187418/1883078025.py:11: FutureWarning: suggest_loguniform has been deprecated in v3.0.0. This feature will be removed in v6.0.0. See https://github.com/optuna/optuna/releases/tag/v3.0.0. Use suggest_float(..., log=True) instead.\n",
      "  weight_decay=trial.suggest_loguniform('weight_decay', 1e-5, 1e-1)\n",
      "/home/gonken/anaconda3/envs/torch/lib/python3.12/site-packages/torch/nn/modules/transformer.py:379: UserWarning: enable_nested_tensor is True, but self.use_nested_tensor is False because encoder_layer.self_attn.batch_first was not True(use batch_first for better inference performance)\n",
      "  warnings.warn(\n"
     ]
    },
    {
     "name": "stdout",
     "output_type": "stream",
     "text": [
      "Accuracy: 64.10%\n",
      "Precision: 0.0000\n",
      "Recall: 0.0000\n",
      "F1 Score: 0.0000\n",
      "Matthews Correlation Coefficient: 0.0000\n",
      "Specificity: 1.0000\n"
     ]
    },
    {
     "name": "stderr",
     "output_type": "stream",
     "text": [
      "/home/gonken/anaconda3/envs/torch/lib/python3.12/site-packages/sklearn/metrics/_classification.py:1531: UndefinedMetricWarning: Precision is ill-defined and being set to 0.0 due to no predicted samples. Use `zero_division` parameter to control this behavior.\n",
      "  _warn_prf(average, modifier, f\"{metric.capitalize()} is\", len(result))\n",
      "[I 2024-11-28 19:07:56,772] Trial 1 finished with value: 0.0 and parameters: {'num_heads': 2, 'num_layers': 3, 'd_model': 128, 'dropout': 0.4, 'learning_rate': 0.0010031949336101376, 'weight_decay': 5.773354730508334e-05}. Best is trial 0 with value: 0.0.\n",
      "/tmp/ipykernel_187418/1883078025.py:10: FutureWarning: suggest_loguniform has been deprecated in v3.0.0. This feature will be removed in v6.0.0. See https://github.com/optuna/optuna/releases/tag/v3.0.0. Use suggest_float(..., log=True) instead.\n",
      "  learning_rate = trial.suggest_loguniform('learning_rate', 1e-5, 1e-1)\n",
      "/tmp/ipykernel_187418/1883078025.py:11: FutureWarning: suggest_loguniform has been deprecated in v3.0.0. This feature will be removed in v6.0.0. See https://github.com/optuna/optuna/releases/tag/v3.0.0. Use suggest_float(..., log=True) instead.\n",
      "  weight_decay=trial.suggest_loguniform('weight_decay', 1e-5, 1e-1)\n",
      "/home/gonken/anaconda3/envs/torch/lib/python3.12/site-packages/torch/nn/modules/transformer.py:379: UserWarning: enable_nested_tensor is True, but self.use_nested_tensor is False because encoder_layer.self_attn.batch_first was not True(use batch_first for better inference performance)\n",
      "  warnings.warn(\n"
     ]
    },
    {
     "name": "stdout",
     "output_type": "stream",
     "text": [
      "Accuracy: 64.10%\n",
      "Precision: 0.0000\n",
      "Recall: 0.0000\n",
      "F1 Score: 0.0000\n",
      "Matthews Correlation Coefficient: 0.0000\n",
      "Specificity: 1.0000\n"
     ]
    },
    {
     "name": "stderr",
     "output_type": "stream",
     "text": [
      "/home/gonken/anaconda3/envs/torch/lib/python3.12/site-packages/sklearn/metrics/_classification.py:1531: UndefinedMetricWarning: Precision is ill-defined and being set to 0.0 due to no predicted samples. Use `zero_division` parameter to control this behavior.\n",
      "  _warn_prf(average, modifier, f\"{metric.capitalize()} is\", len(result))\n",
      "[I 2024-11-28 19:09:50,022] Trial 2 finished with value: 0.0 and parameters: {'num_heads': 2, 'num_layers': 3, 'd_model': 64, 'dropout': 0.5, 'learning_rate': 0.05361141020808341, 'weight_decay': 0.09776633962502969}. Best is trial 0 with value: 0.0.\n",
      "/tmp/ipykernel_187418/1883078025.py:10: FutureWarning: suggest_loguniform has been deprecated in v3.0.0. This feature will be removed in v6.0.0. See https://github.com/optuna/optuna/releases/tag/v3.0.0. Use suggest_float(..., log=True) instead.\n",
      "  learning_rate = trial.suggest_loguniform('learning_rate', 1e-5, 1e-1)\n",
      "/tmp/ipykernel_187418/1883078025.py:11: FutureWarning: suggest_loguniform has been deprecated in v3.0.0. This feature will be removed in v6.0.0. See https://github.com/optuna/optuna/releases/tag/v3.0.0. Use suggest_float(..., log=True) instead.\n",
      "  weight_decay=trial.suggest_loguniform('weight_decay', 1e-5, 1e-1)\n",
      "/home/gonken/anaconda3/envs/torch/lib/python3.12/site-packages/torch/nn/modules/transformer.py:379: UserWarning: enable_nested_tensor is True, but self.use_nested_tensor is False because encoder_layer.self_attn.batch_first was not True(use batch_first for better inference performance)\n",
      "  warnings.warn(\n"
     ]
    },
    {
     "name": "stdout",
     "output_type": "stream",
     "text": [
      "Accuracy: 64.10%\n",
      "Precision: 0.0000\n",
      "Recall: 0.0000\n",
      "F1 Score: 0.0000\n",
      "Matthews Correlation Coefficient: 0.0000\n",
      "Specificity: 1.0000\n"
     ]
    },
    {
     "name": "stderr",
     "output_type": "stream",
     "text": [
      "[I 2024-11-28 19:10:46,753] Trial 3 finished with value: 0.6278481012658228 and parameters: {'num_heads': 8, 'num_layers': 1, 'd_model': 64, 'dropout': 0.4, 'learning_rate': 0.004816304195252757, 'weight_decay': 4.3414897626633526e-05}. Best is trial 3 with value: 0.6278481012658228.\n"
     ]
    },
    {
     "name": "stdout",
     "output_type": "stream",
     "text": [
      "Accuracy: 58.12%\n",
      "Precision: 0.4610\n",
      "Recall: 0.9841\n",
      "F1 Score: 0.6278\n",
      "Matthews Correlation Coefficient: 0.3851\n",
      "Specificity: 0.3556\n"
     ]
    },
    {
     "name": "stderr",
     "output_type": "stream",
     "text": [
      "/tmp/ipykernel_187418/1883078025.py:10: FutureWarning: suggest_loguniform has been deprecated in v3.0.0. This feature will be removed in v6.0.0. See https://github.com/optuna/optuna/releases/tag/v3.0.0. Use suggest_float(..., log=True) instead.\n",
      "  learning_rate = trial.suggest_loguniform('learning_rate', 1e-5, 1e-1)\n",
      "/tmp/ipykernel_187418/1883078025.py:11: FutureWarning: suggest_loguniform has been deprecated in v3.0.0. This feature will be removed in v6.0.0. See https://github.com/optuna/optuna/releases/tag/v3.0.0. Use suggest_float(..., log=True) instead.\n",
      "  weight_decay=trial.suggest_loguniform('weight_decay', 1e-5, 1e-1)\n",
      "/home/gonken/anaconda3/envs/torch/lib/python3.12/site-packages/torch/nn/modules/transformer.py:379: UserWarning: enable_nested_tensor is True, but self.use_nested_tensor is False because encoder_layer.self_attn.batch_first was not True(use batch_first for better inference performance)\n",
      "  warnings.warn(\n",
      "[I 2024-11-28 19:11:43,048] Trial 4 finished with value: 0.5478547854785478 and parameters: {'num_heads': 8, 'num_layers': 1, 'd_model': 128, 'dropout': 0.35, 'learning_rate': 0.0004110211530811081, 'weight_decay': 0.0029039741600829635}. Best is trial 3 with value: 0.6278481012658228.\n"
     ]
    },
    {
     "name": "stdout",
     "output_type": "stream",
     "text": [
      "Accuracy: 60.97%\n",
      "Precision: 0.4689\n",
      "Recall: 0.6587\n",
      "F1 Score: 0.5479\n",
      "Matthews Correlation Coefficient: 0.2312\n",
      "Specificity: 0.5822\n"
     ]
    },
    {
     "name": "stderr",
     "output_type": "stream",
     "text": [
      "/tmp/ipykernel_187418/1883078025.py:10: FutureWarning: suggest_loguniform has been deprecated in v3.0.0. This feature will be removed in v6.0.0. See https://github.com/optuna/optuna/releases/tag/v3.0.0. Use suggest_float(..., log=True) instead.\n",
      "  learning_rate = trial.suggest_loguniform('learning_rate', 1e-5, 1e-1)\n",
      "/tmp/ipykernel_187418/1883078025.py:11: FutureWarning: suggest_loguniform has been deprecated in v3.0.0. This feature will be removed in v6.0.0. See https://github.com/optuna/optuna/releases/tag/v3.0.0. Use suggest_float(..., log=True) instead.\n",
      "  weight_decay=trial.suggest_loguniform('weight_decay', 1e-5, 1e-1)\n",
      "/home/gonken/anaconda3/envs/torch/lib/python3.12/site-packages/torch/nn/modules/transformer.py:379: UserWarning: enable_nested_tensor is True, but self.use_nested_tensor is False because encoder_layer.self_attn.batch_first was not True(use batch_first for better inference performance)\n",
      "  warnings.warn(\n",
      "[I 2024-11-28 19:12:39,756] Trial 5 finished with value: 0.47692307692307695 and parameters: {'num_heads': 8, 'num_layers': 1, 'd_model': 32, 'dropout': 0.1, 'learning_rate': 3.449089493253189e-05, 'weight_decay': 0.013228162092447293}. Best is trial 3 with value: 0.6278481012658228.\n"
     ]
    },
    {
     "name": "stdout",
     "output_type": "stream",
     "text": [
      "Accuracy: 61.25%\n",
      "Precision: 0.4627\n",
      "Recall: 0.4921\n",
      "F1 Score: 0.4769\n",
      "Matthews Correlation Coefficient: 0.1699\n",
      "Specificity: 0.6800\n"
     ]
    },
    {
     "name": "stderr",
     "output_type": "stream",
     "text": [
      "/tmp/ipykernel_187418/1883078025.py:10: FutureWarning: suggest_loguniform has been deprecated in v3.0.0. This feature will be removed in v6.0.0. See https://github.com/optuna/optuna/releases/tag/v3.0.0. Use suggest_float(..., log=True) instead.\n",
      "  learning_rate = trial.suggest_loguniform('learning_rate', 1e-5, 1e-1)\n",
      "/tmp/ipykernel_187418/1883078025.py:11: FutureWarning: suggest_loguniform has been deprecated in v3.0.0. This feature will be removed in v6.0.0. See https://github.com/optuna/optuna/releases/tag/v3.0.0. Use suggest_float(..., log=True) instead.\n",
      "  weight_decay=trial.suggest_loguniform('weight_decay', 1e-5, 1e-1)\n",
      "/home/gonken/anaconda3/envs/torch/lib/python3.12/site-packages/torch/nn/modules/transformer.py:379: UserWarning: enable_nested_tensor is True, but self.use_nested_tensor is False because encoder_layer.self_attn.batch_first was not True(use batch_first for better inference performance)\n",
      "  warnings.warn(\n",
      "[I 2024-11-28 19:13:37,924] Trial 6 finished with value: 0.628140703517588 and parameters: {'num_heads': 2, 'num_layers': 1, 'd_model': 32, 'dropout': 0.5, 'learning_rate': 0.0039832275358968995, 'weight_decay': 0.00010807087626462352}. Best is trial 6 with value: 0.628140703517588.\n"
     ]
    },
    {
     "name": "stdout",
     "output_type": "stream",
     "text": [
      "Accuracy: 57.83%\n",
      "Precision: 0.4596\n",
      "Recall: 0.9921\n",
      "F1 Score: 0.6281\n",
      "Matthews Correlation Coefficient: 0.3891\n",
      "Specificity: 0.3467\n"
     ]
    },
    {
     "name": "stderr",
     "output_type": "stream",
     "text": [
      "/tmp/ipykernel_187418/1883078025.py:10: FutureWarning: suggest_loguniform has been deprecated in v3.0.0. This feature will be removed in v6.0.0. See https://github.com/optuna/optuna/releases/tag/v3.0.0. Use suggest_float(..., log=True) instead.\n",
      "  learning_rate = trial.suggest_loguniform('learning_rate', 1e-5, 1e-1)\n",
      "/tmp/ipykernel_187418/1883078025.py:11: FutureWarning: suggest_loguniform has been deprecated in v3.0.0. This feature will be removed in v6.0.0. See https://github.com/optuna/optuna/releases/tag/v3.0.0. Use suggest_float(..., log=True) instead.\n",
      "  weight_decay=trial.suggest_loguniform('weight_decay', 1e-5, 1e-1)\n",
      "/home/gonken/anaconda3/envs/torch/lib/python3.12/site-packages/torch/nn/modules/transformer.py:379: UserWarning: enable_nested_tensor is True, but self.use_nested_tensor is False because encoder_layer.self_attn.batch_first was not True(use batch_first for better inference performance)\n",
      "  warnings.warn(\n",
      "/home/gonken/anaconda3/envs/torch/lib/python3.12/site-packages/sklearn/metrics/_classification.py:1531: UndefinedMetricWarning: Precision is ill-defined and being set to 0.0 due to no predicted samples. Use `zero_division` parameter to control this behavior.\n",
      "  _warn_prf(average, modifier, f\"{metric.capitalize()} is\", len(result))\n",
      "[I 2024-11-28 19:16:01,966] Trial 7 finished with value: 0.0 and parameters: {'num_heads': 8, 'num_layers': 4, 'd_model': 32, 'dropout': 0.4, 'learning_rate': 0.0683663142409972, 'weight_decay': 4.8635386027933195e-05}. Best is trial 6 with value: 0.628140703517588.\n",
      "/tmp/ipykernel_187418/1883078025.py:10: FutureWarning: suggest_loguniform has been deprecated in v3.0.0. This feature will be removed in v6.0.0. See https://github.com/optuna/optuna/releases/tag/v3.0.0. Use suggest_float(..., log=True) instead.\n",
      "  learning_rate = trial.suggest_loguniform('learning_rate', 1e-5, 1e-1)\n",
      "/tmp/ipykernel_187418/1883078025.py:11: FutureWarning: suggest_loguniform has been deprecated in v3.0.0. This feature will be removed in v6.0.0. See https://github.com/optuna/optuna/releases/tag/v3.0.0. Use suggest_float(..., log=True) instead.\n",
      "  weight_decay=trial.suggest_loguniform('weight_decay', 1e-5, 1e-1)\n",
      "/home/gonken/anaconda3/envs/torch/lib/python3.12/site-packages/torch/nn/modules/transformer.py:379: UserWarning: enable_nested_tensor is True, but self.use_nested_tensor is False because encoder_layer.self_attn.batch_first was not True(use batch_first for better inference performance)\n",
      "  warnings.warn(\n"
     ]
    },
    {
     "name": "stdout",
     "output_type": "stream",
     "text": [
      "Accuracy: 64.10%\n",
      "Precision: 0.0000\n",
      "Recall: 0.0000\n",
      "F1 Score: 0.0000\n",
      "Matthews Correlation Coefficient: 0.0000\n",
      "Specificity: 1.0000\n"
     ]
    },
    {
     "name": "stderr",
     "output_type": "stream",
     "text": [
      "[I 2024-11-28 19:17:59,669] Trial 8 finished with value: 0.453781512605042 and parameters: {'num_heads': 2, 'num_layers': 3, 'd_model': 128, 'dropout': 0.1, 'learning_rate': 0.00014939526519459163, 'weight_decay': 0.00021410297954499222}. Best is trial 6 with value: 0.628140703517588.\n"
     ]
    },
    {
     "name": "stdout",
     "output_type": "stream",
     "text": [
      "Accuracy: 62.96%\n",
      "Precision: 0.4821\n",
      "Recall: 0.4286\n",
      "F1 Score: 0.4538\n",
      "Matthews Correlation Coefficient: 0.1758\n",
      "Specificity: 0.7422\n"
     ]
    },
    {
     "name": "stderr",
     "output_type": "stream",
     "text": [
      "/tmp/ipykernel_187418/1883078025.py:10: FutureWarning: suggest_loguniform has been deprecated in v3.0.0. This feature will be removed in v6.0.0. See https://github.com/optuna/optuna/releases/tag/v3.0.0. Use suggest_float(..., log=True) instead.\n",
      "  learning_rate = trial.suggest_loguniform('learning_rate', 1e-5, 1e-1)\n",
      "/tmp/ipykernel_187418/1883078025.py:11: FutureWarning: suggest_loguniform has been deprecated in v3.0.0. This feature will be removed in v6.0.0. See https://github.com/optuna/optuna/releases/tag/v3.0.0. Use suggest_float(..., log=True) instead.\n",
      "  weight_decay=trial.suggest_loguniform('weight_decay', 1e-5, 1e-1)\n",
      "/home/gonken/anaconda3/envs/torch/lib/python3.12/site-packages/torch/nn/modules/transformer.py:379: UserWarning: enable_nested_tensor is True, but self.use_nested_tensor is False because encoder_layer.self_attn.batch_first was not True(use batch_first for better inference performance)\n",
      "  warnings.warn(\n",
      "[I 2024-11-28 19:20:45,472] Trial 9 finished with value: 0.6197916666666666 and parameters: {'num_heads': 4, 'num_layers': 5, 'd_model': 32, 'dropout': 0.5, 'learning_rate': 1.072980184733796e-05, 'weight_decay': 1.996149119461529e-05}. Best is trial 6 with value: 0.628140703517588.\n"
     ]
    },
    {
     "name": "stdout",
     "output_type": "stream",
     "text": [
      "Accuracy: 58.40%\n",
      "Precision: 0.4612\n",
      "Recall: 0.9444\n",
      "F1 Score: 0.6198\n",
      "Matthews Correlation Coefficient: 0.3551\n",
      "Specificity: 0.3822\n"
     ]
    },
    {
     "name": "stderr",
     "output_type": "stream",
     "text": [
      "/tmp/ipykernel_187418/1883078025.py:10: FutureWarning: suggest_loguniform has been deprecated in v3.0.0. This feature will be removed in v6.0.0. See https://github.com/optuna/optuna/releases/tag/v3.0.0. Use suggest_float(..., log=True) instead.\n",
      "  learning_rate = trial.suggest_loguniform('learning_rate', 1e-5, 1e-1)\n",
      "/tmp/ipykernel_187418/1883078025.py:11: FutureWarning: suggest_loguniform has been deprecated in v3.0.0. This feature will be removed in v6.0.0. See https://github.com/optuna/optuna/releases/tag/v3.0.0. Use suggest_float(..., log=True) instead.\n",
      "  weight_decay=trial.suggest_loguniform('weight_decay', 1e-5, 1e-1)\n",
      "/home/gonken/anaconda3/envs/torch/lib/python3.12/site-packages/torch/nn/modules/transformer.py:379: UserWarning: enable_nested_tensor is True, but self.use_nested_tensor is False because encoder_layer.self_attn.batch_first was not True(use batch_first for better inference performance)\n",
      "  warnings.warn(\n",
      "/home/gonken/anaconda3/envs/torch/lib/python3.12/site-packages/sklearn/metrics/_classification.py:1531: UndefinedMetricWarning: Precision is ill-defined and being set to 0.0 due to no predicted samples. Use `zero_division` parameter to control this behavior.\n",
      "  _warn_prf(average, modifier, f\"{metric.capitalize()} is\", len(result))\n",
      "[I 2024-11-28 19:22:15,019] Trial 10 finished with value: 0.0 and parameters: {'num_heads': 4, 'num_layers': 2, 'd_model': 32, 'dropout': 0.25, 'learning_rate': 0.005907274252610786, 'weight_decay': 0.0006205290644633227}. Best is trial 6 with value: 0.628140703517588.\n",
      "/tmp/ipykernel_187418/1883078025.py:10: FutureWarning: suggest_loguniform has been deprecated in v3.0.0. This feature will be removed in v6.0.0. See https://github.com/optuna/optuna/releases/tag/v3.0.0. Use suggest_float(..., log=True) instead.\n",
      "  learning_rate = trial.suggest_loguniform('learning_rate', 1e-5, 1e-1)\n",
      "/tmp/ipykernel_187418/1883078025.py:11: FutureWarning: suggest_loguniform has been deprecated in v3.0.0. This feature will be removed in v6.0.0. See https://github.com/optuna/optuna/releases/tag/v3.0.0. Use suggest_float(..., log=True) instead.\n",
      "  weight_decay=trial.suggest_loguniform('weight_decay', 1e-5, 1e-1)\n",
      "/home/gonken/anaconda3/envs/torch/lib/python3.12/site-packages/torch/nn/modules/transformer.py:379: UserWarning: enable_nested_tensor is True, but self.use_nested_tensor is False because encoder_layer.self_attn.batch_first was not True(use batch_first for better inference performance)\n",
      "  warnings.warn(\n"
     ]
    },
    {
     "name": "stdout",
     "output_type": "stream",
     "text": [
      "Accuracy: 64.10%\n",
      "Precision: 0.0000\n",
      "Recall: 0.0000\n",
      "F1 Score: 0.0000\n",
      "Matthews Correlation Coefficient: 0.0000\n",
      "Specificity: 1.0000\n"
     ]
    },
    {
     "name": "stderr",
     "output_type": "stream",
     "text": [
      "[I 2024-11-28 19:23:13,529] Trial 11 finished with value: 0.6190476190476191 and parameters: {'num_heads': 2, 'num_layers': 1, 'd_model': 64, 'dropout': 0.45000000000000007, 'learning_rate': 0.004156890865446536, 'weight_decay': 1.1889569065900263e-05}. Best is trial 6 with value: 0.628140703517588.\n"
     ]
    },
    {
     "name": "stdout",
     "output_type": "stream",
     "text": [
      "Accuracy: 58.97%\n",
      "Precision: 0.4643\n",
      "Recall: 0.9286\n",
      "F1 Score: 0.6190\n",
      "Matthews Correlation Coefficient: 0.3503\n",
      "Specificity: 0.4000\n"
     ]
    },
    {
     "name": "stderr",
     "output_type": "stream",
     "text": [
      "/tmp/ipykernel_187418/1883078025.py:10: FutureWarning: suggest_loguniform has been deprecated in v3.0.0. This feature will be removed in v6.0.0. See https://github.com/optuna/optuna/releases/tag/v3.0.0. Use suggest_float(..., log=True) instead.\n",
      "  learning_rate = trial.suggest_loguniform('learning_rate', 1e-5, 1e-1)\n",
      "/tmp/ipykernel_187418/1883078025.py:11: FutureWarning: suggest_loguniform has been deprecated in v3.0.0. This feature will be removed in v6.0.0. See https://github.com/optuna/optuna/releases/tag/v3.0.0. Use suggest_float(..., log=True) instead.\n",
      "  weight_decay=trial.suggest_loguniform('weight_decay', 1e-5, 1e-1)\n",
      "/home/gonken/anaconda3/envs/torch/lib/python3.12/site-packages/torch/nn/modules/transformer.py:379: UserWarning: enable_nested_tensor is True, but self.use_nested_tensor is False because encoder_layer.self_attn.batch_first was not True(use batch_first for better inference performance)\n",
      "  warnings.warn(\n",
      "[I 2024-11-28 19:24:42,033] Trial 12 finished with value: 0.6068601583113457 and parameters: {'num_heads': 8, 'num_layers': 2, 'd_model': 64, 'dropout': 0.45000000000000007, 'learning_rate': 0.004941439233951341, 'weight_decay': 0.00014839593836032746}. Best is trial 6 with value: 0.628140703517588.\n"
     ]
    },
    {
     "name": "stdout",
     "output_type": "stream",
     "text": [
      "Accuracy: 57.55%\n",
      "Precision: 0.4545\n",
      "Recall: 0.9127\n",
      "F1 Score: 0.6069\n",
      "Matthews Correlation Coefficient: 0.3201\n",
      "Specificity: 0.3867\n"
     ]
    },
    {
     "name": "stderr",
     "output_type": "stream",
     "text": [
      "/tmp/ipykernel_187418/1883078025.py:10: FutureWarning: suggest_loguniform has been deprecated in v3.0.0. This feature will be removed in v6.0.0. See https://github.com/optuna/optuna/releases/tag/v3.0.0. Use suggest_float(..., log=True) instead.\n",
      "  learning_rate = trial.suggest_loguniform('learning_rate', 1e-5, 1e-1)\n",
      "/tmp/ipykernel_187418/1883078025.py:11: FutureWarning: suggest_loguniform has been deprecated in v3.0.0. This feature will be removed in v6.0.0. See https://github.com/optuna/optuna/releases/tag/v3.0.0. Use suggest_float(..., log=True) instead.\n",
      "  weight_decay=trial.suggest_loguniform('weight_decay', 1e-5, 1e-1)\n",
      "/home/gonken/anaconda3/envs/torch/lib/python3.12/site-packages/torch/nn/modules/transformer.py:379: UserWarning: enable_nested_tensor is True, but self.use_nested_tensor is False because encoder_layer.self_attn.batch_first was not True(use batch_first for better inference performance)\n",
      "  warnings.warn(\n",
      "/home/gonken/anaconda3/envs/torch/lib/python3.12/site-packages/sklearn/metrics/_classification.py:1531: UndefinedMetricWarning: Precision is ill-defined and being set to 0.0 due to no predicted samples. Use `zero_division` parameter to control this behavior.\n",
      "  _warn_prf(average, modifier, f\"{metric.capitalize()} is\", len(result))\n",
      "[I 2024-11-28 19:26:10,275] Trial 13 finished with value: 0.0 and parameters: {'num_heads': 2, 'num_layers': 2, 'd_model': 64, 'dropout': 0.25, 'learning_rate': 0.013797406947435215, 'weight_decay': 0.00011113310997808155}. Best is trial 6 with value: 0.628140703517588.\n",
      "/tmp/ipykernel_187418/1883078025.py:10: FutureWarning: suggest_loguniform has been deprecated in v3.0.0. This feature will be removed in v6.0.0. See https://github.com/optuna/optuna/releases/tag/v3.0.0. Use suggest_float(..., log=True) instead.\n",
      "  learning_rate = trial.suggest_loguniform('learning_rate', 1e-5, 1e-1)\n",
      "/tmp/ipykernel_187418/1883078025.py:11: FutureWarning: suggest_loguniform has been deprecated in v3.0.0. This feature will be removed in v6.0.0. See https://github.com/optuna/optuna/releases/tag/v3.0.0. Use suggest_float(..., log=True) instead.\n",
      "  weight_decay=trial.suggest_loguniform('weight_decay', 1e-5, 1e-1)\n",
      "/home/gonken/anaconda3/envs/torch/lib/python3.12/site-packages/torch/nn/modules/transformer.py:379: UserWarning: enable_nested_tensor is True, but self.use_nested_tensor is False because encoder_layer.self_attn.batch_first was not True(use batch_first for better inference performance)\n",
      "  warnings.warn(\n"
     ]
    },
    {
     "name": "stdout",
     "output_type": "stream",
     "text": [
      "Accuracy: 64.10%\n",
      "Precision: 0.0000\n",
      "Recall: 0.0000\n",
      "F1 Score: 0.0000\n",
      "Matthews Correlation Coefficient: 0.0000\n",
      "Specificity: 1.0000\n"
     ]
    },
    {
     "name": "stderr",
     "output_type": "stream",
     "text": [
      "[I 2024-11-28 19:27:08,995] Trial 14 finished with value: 0.41379310344827586 and parameters: {'num_heads': 4, 'num_layers': 1, 'd_model': 32, 'dropout': 0.4, 'learning_rate': 0.0013623631013850485, 'weight_decay': 0.003771775120462435}. Best is trial 6 with value: 0.628140703517588.\n"
     ]
    },
    {
     "name": "stdout",
     "output_type": "stream",
     "text": [
      "Accuracy: 61.25%\n",
      "Precision: 0.4528\n",
      "Recall: 0.3810\n",
      "F1 Score: 0.4138\n",
      "Matthews Correlation Coefficient: 0.1287\n",
      "Specificity: 0.7422\n"
     ]
    },
    {
     "name": "stderr",
     "output_type": "stream",
     "text": [
      "/tmp/ipykernel_187418/1883078025.py:10: FutureWarning: suggest_loguniform has been deprecated in v3.0.0. This feature will be removed in v6.0.0. See https://github.com/optuna/optuna/releases/tag/v3.0.0. Use suggest_float(..., log=True) instead.\n",
      "  learning_rate = trial.suggest_loguniform('learning_rate', 1e-5, 1e-1)\n",
      "/tmp/ipykernel_187418/1883078025.py:11: FutureWarning: suggest_loguniform has been deprecated in v3.0.0. This feature will be removed in v6.0.0. See https://github.com/optuna/optuna/releases/tag/v3.0.0. Use suggest_float(..., log=True) instead.\n",
      "  weight_decay=trial.suggest_loguniform('weight_decay', 1e-5, 1e-1)\n",
      "/home/gonken/anaconda3/envs/torch/lib/python3.12/site-packages/torch/nn/modules/transformer.py:379: UserWarning: enable_nested_tensor is True, but self.use_nested_tensor is False because encoder_layer.self_attn.batch_first was not True(use batch_first for better inference performance)\n",
      "  warnings.warn(\n",
      "/home/gonken/anaconda3/envs/torch/lib/python3.12/site-packages/sklearn/metrics/_classification.py:1531: UndefinedMetricWarning: Precision is ill-defined and being set to 0.0 due to no predicted samples. Use `zero_division` parameter to control this behavior.\n",
      "  _warn_prf(average, modifier, f\"{metric.capitalize()} is\", len(result))\n",
      "[I 2024-11-28 19:28:38,436] Trial 15 finished with value: 0.0 and parameters: {'num_heads': 8, 'num_layers': 2, 'd_model': 64, 'dropout': 0.5, 'learning_rate': 0.011977229322136537, 'weight_decay': 3.869806068255288e-05}. Best is trial 6 with value: 0.628140703517588.\n",
      "/tmp/ipykernel_187418/1883078025.py:10: FutureWarning: suggest_loguniform has been deprecated in v3.0.0. This feature will be removed in v6.0.0. See https://github.com/optuna/optuna/releases/tag/v3.0.0. Use suggest_float(..., log=True) instead.\n",
      "  learning_rate = trial.suggest_loguniform('learning_rate', 1e-5, 1e-1)\n",
      "/tmp/ipykernel_187418/1883078025.py:11: FutureWarning: suggest_loguniform has been deprecated in v3.0.0. This feature will be removed in v6.0.0. See https://github.com/optuna/optuna/releases/tag/v3.0.0. Use suggest_float(..., log=True) instead.\n",
      "  weight_decay=trial.suggest_loguniform('weight_decay', 1e-5, 1e-1)\n",
      "/home/gonken/anaconda3/envs/torch/lib/python3.12/site-packages/torch/nn/modules/transformer.py:379: UserWarning: enable_nested_tensor is True, but self.use_nested_tensor is False because encoder_layer.self_attn.batch_first was not True(use batch_first for better inference performance)\n",
      "  warnings.warn(\n"
     ]
    },
    {
     "name": "stdout",
     "output_type": "stream",
     "text": [
      "Accuracy: 64.10%\n",
      "Precision: 0.0000\n",
      "Recall: 0.0000\n",
      "F1 Score: 0.0000\n",
      "Matthews Correlation Coefficient: 0.0000\n",
      "Specificity: 1.0000\n"
     ]
    },
    {
     "name": "stderr",
     "output_type": "stream",
     "text": [
      "[I 2024-11-28 19:29:35,270] Trial 16 finished with value: 0.3904761904761905 and parameters: {'num_heads': 2, 'num_layers': 1, 'd_model': 32, 'dropout': 0.35, 'learning_rate': 0.0002715999397947536, 'weight_decay': 0.00025095282406005693}. Best is trial 6 with value: 0.628140703517588.\n"
     ]
    },
    {
     "name": "stdout",
     "output_type": "stream",
     "text": [
      "Accuracy: 63.53%\n",
      "Precision: 0.4881\n",
      "Recall: 0.3254\n",
      "F1 Score: 0.3905\n",
      "Matthews Correlation Coefficient: 0.1510\n",
      "Specificity: 0.8089\n"
     ]
    },
    {
     "name": "stderr",
     "output_type": "stream",
     "text": [
      "/tmp/ipykernel_187418/1883078025.py:10: FutureWarning: suggest_loguniform has been deprecated in v3.0.0. This feature will be removed in v6.0.0. See https://github.com/optuna/optuna/releases/tag/v3.0.0. Use suggest_float(..., log=True) instead.\n",
      "  learning_rate = trial.suggest_loguniform('learning_rate', 1e-5, 1e-1)\n",
      "/tmp/ipykernel_187418/1883078025.py:11: FutureWarning: suggest_loguniform has been deprecated in v3.0.0. This feature will be removed in v6.0.0. See https://github.com/optuna/optuna/releases/tag/v3.0.0. Use suggest_float(..., log=True) instead.\n",
      "  weight_decay=trial.suggest_loguniform('weight_decay', 1e-5, 1e-1)\n",
      "/home/gonken/anaconda3/envs/torch/lib/python3.12/site-packages/torch/nn/modules/transformer.py:379: UserWarning: enable_nested_tensor is True, but self.use_nested_tensor is False because encoder_layer.self_attn.batch_first was not True(use batch_first for better inference performance)\n",
      "  warnings.warn(\n",
      "/home/gonken/anaconda3/envs/torch/lib/python3.12/site-packages/sklearn/metrics/_classification.py:1531: UndefinedMetricWarning: Precision is ill-defined and being set to 0.0 due to no predicted samples. Use `zero_division` parameter to control this behavior.\n",
      "  _warn_prf(average, modifier, f\"{metric.capitalize()} is\", len(result))\n",
      "[I 2024-11-28 19:31:55,124] Trial 17 finished with value: 0.0 and parameters: {'num_heads': 2, 'num_layers': 4, 'd_model': 64, 'dropout': 0.45000000000000007, 'learning_rate': 0.0018890721425460163, 'weight_decay': 1.0427271025555316e-05}. Best is trial 6 with value: 0.628140703517588.\n",
      "/tmp/ipykernel_187418/1883078025.py:10: FutureWarning: suggest_loguniform has been deprecated in v3.0.0. This feature will be removed in v6.0.0. See https://github.com/optuna/optuna/releases/tag/v3.0.0. Use suggest_float(..., log=True) instead.\n",
      "  learning_rate = trial.suggest_loguniform('learning_rate', 1e-5, 1e-1)\n",
      "/tmp/ipykernel_187418/1883078025.py:11: FutureWarning: suggest_loguniform has been deprecated in v3.0.0. This feature will be removed in v6.0.0. See https://github.com/optuna/optuna/releases/tag/v3.0.0. Use suggest_float(..., log=True) instead.\n",
      "  weight_decay=trial.suggest_loguniform('weight_decay', 1e-5, 1e-1)\n",
      "/home/gonken/anaconda3/envs/torch/lib/python3.12/site-packages/torch/nn/modules/transformer.py:379: UserWarning: enable_nested_tensor is True, but self.use_nested_tensor is False because encoder_layer.self_attn.batch_first was not True(use batch_first for better inference performance)\n",
      "  warnings.warn(\n"
     ]
    },
    {
     "name": "stdout",
     "output_type": "stream",
     "text": [
      "Accuracy: 64.10%\n",
      "Precision: 0.0000\n",
      "Recall: 0.0000\n",
      "F1 Score: 0.0000\n",
      "Matthews Correlation Coefficient: 0.0000\n",
      "Specificity: 1.0000\n"
     ]
    },
    {
     "name": "stderr",
     "output_type": "stream",
     "text": [
      "/home/gonken/anaconda3/envs/torch/lib/python3.12/site-packages/sklearn/metrics/_classification.py:1531: UndefinedMetricWarning: Precision is ill-defined and being set to 0.0 due to no predicted samples. Use `zero_division` parameter to control this behavior.\n",
      "  _warn_prf(average, modifier, f\"{metric.capitalize()} is\", len(result))\n",
      "[I 2024-11-28 19:33:24,892] Trial 18 finished with value: 0.0 and parameters: {'num_heads': 8, 'num_layers': 2, 'd_model': 64, 'dropout': 0.2, 'learning_rate': 0.023394299043935158, 'weight_decay': 0.0018134924816365474}. Best is trial 6 with value: 0.628140703517588.\n",
      "/tmp/ipykernel_187418/1883078025.py:10: FutureWarning: suggest_loguniform has been deprecated in v3.0.0. This feature will be removed in v6.0.0. See https://github.com/optuna/optuna/releases/tag/v3.0.0. Use suggest_float(..., log=True) instead.\n",
      "  learning_rate = trial.suggest_loguniform('learning_rate', 1e-5, 1e-1)\n",
      "/tmp/ipykernel_187418/1883078025.py:11: FutureWarning: suggest_loguniform has been deprecated in v3.0.0. This feature will be removed in v6.0.0. See https://github.com/optuna/optuna/releases/tag/v3.0.0. Use suggest_float(..., log=True) instead.\n",
      "  weight_decay=trial.suggest_loguniform('weight_decay', 1e-5, 1e-1)\n",
      "/home/gonken/anaconda3/envs/torch/lib/python3.12/site-packages/torch/nn/modules/transformer.py:379: UserWarning: enable_nested_tensor is True, but self.use_nested_tensor is False because encoder_layer.self_attn.batch_first was not True(use batch_first for better inference performance)\n",
      "  warnings.warn(\n"
     ]
    },
    {
     "name": "stdout",
     "output_type": "stream",
     "text": [
      "Accuracy: 64.10%\n",
      "Precision: 0.0000\n",
      "Recall: 0.0000\n",
      "F1 Score: 0.0000\n",
      "Matthews Correlation Coefficient: 0.0000\n",
      "Specificity: 1.0000\n"
     ]
    },
    {
     "name": "stderr",
     "output_type": "stream",
     "text": [
      "[I 2024-11-28 19:34:22,102] Trial 19 finished with value: 0.6246719160104987 and parameters: {'num_heads': 4, 'num_layers': 1, 'd_model': 32, 'dropout': 0.35, 'learning_rate': 0.0030837600183322477, 'weight_decay': 0.00045996302569490055}. Best is trial 6 with value: 0.628140703517588.\n"
     ]
    },
    {
     "name": "stdout",
     "output_type": "stream",
     "text": [
      "Accuracy: 59.26%\n",
      "Precision: 0.4667\n",
      "Recall: 0.9444\n",
      "F1 Score: 0.6247\n",
      "Matthews Correlation Coefficient: 0.3659\n",
      "Specificity: 0.3956\n"
     ]
    },
    {
     "name": "stderr",
     "output_type": "stream",
     "text": [
      "/tmp/ipykernel_187418/1883078025.py:10: FutureWarning: suggest_loguniform has been deprecated in v3.0.0. This feature will be removed in v6.0.0. See https://github.com/optuna/optuna/releases/tag/v3.0.0. Use suggest_float(..., log=True) instead.\n",
      "  learning_rate = trial.suggest_loguniform('learning_rate', 1e-5, 1e-1)\n",
      "/tmp/ipykernel_187418/1883078025.py:11: FutureWarning: suggest_loguniform has been deprecated in v3.0.0. This feature will be removed in v6.0.0. See https://github.com/optuna/optuna/releases/tag/v3.0.0. Use suggest_float(..., log=True) instead.\n",
      "  weight_decay=trial.suggest_loguniform('weight_decay', 1e-5, 1e-1)\n",
      "/home/gonken/anaconda3/envs/torch/lib/python3.12/site-packages/torch/nn/modules/transformer.py:379: UserWarning: enable_nested_tensor is True, but self.use_nested_tensor is False because encoder_layer.self_attn.batch_first was not True(use batch_first for better inference performance)\n",
      "  warnings.warn(\n",
      "/home/gonken/anaconda3/envs/torch/lib/python3.12/site-packages/sklearn/metrics/_classification.py:1531: UndefinedMetricWarning: Precision is ill-defined and being set to 0.0 due to no predicted samples. Use `zero_division` parameter to control this behavior.\n",
      "  _warn_prf(average, modifier, f\"{metric.capitalize()} is\", len(result))\n",
      "[I 2024-11-28 19:36:42,205] Trial 20 finished with value: 0.0 and parameters: {'num_heads': 8, 'num_layers': 4, 'd_model': 64, 'dropout': 0.45000000000000007, 'learning_rate': 0.00043817713167832654, 'weight_decay': 7.793686850182938e-05}. Best is trial 6 with value: 0.628140703517588.\n",
      "/tmp/ipykernel_187418/1883078025.py:10: FutureWarning: suggest_loguniform has been deprecated in v3.0.0. This feature will be removed in v6.0.0. See https://github.com/optuna/optuna/releases/tag/v3.0.0. Use suggest_float(..., log=True) instead.\n",
      "  learning_rate = trial.suggest_loguniform('learning_rate', 1e-5, 1e-1)\n",
      "/tmp/ipykernel_187418/1883078025.py:11: FutureWarning: suggest_loguniform has been deprecated in v3.0.0. This feature will be removed in v6.0.0. See https://github.com/optuna/optuna/releases/tag/v3.0.0. Use suggest_float(..., log=True) instead.\n",
      "  weight_decay=trial.suggest_loguniform('weight_decay', 1e-5, 1e-1)\n",
      "/home/gonken/anaconda3/envs/torch/lib/python3.12/site-packages/torch/nn/modules/transformer.py:379: UserWarning: enable_nested_tensor is True, but self.use_nested_tensor is False because encoder_layer.self_attn.batch_first was not True(use batch_first for better inference performance)\n",
      "  warnings.warn(\n"
     ]
    },
    {
     "name": "stdout",
     "output_type": "stream",
     "text": [
      "Accuracy: 64.10%\n",
      "Precision: 0.0000\n",
      "Recall: 0.0000\n",
      "F1 Score: 0.0000\n",
      "Matthews Correlation Coefficient: 0.0000\n",
      "Specificity: 1.0000\n"
     ]
    },
    {
     "name": "stderr",
     "output_type": "stream",
     "text": [
      "[I 2024-11-28 19:37:40,625] Trial 21 finished with value: 0.4435146443514644 and parameters: {'num_heads': 4, 'num_layers': 1, 'd_model': 32, 'dropout': 0.35, 'learning_rate': 0.002545293891575249, 'weight_decay': 0.0004231226923502512}. Best is trial 6 with value: 0.628140703517588.\n"
     ]
    },
    {
     "name": "stdout",
     "output_type": "stream",
     "text": [
      "Accuracy: 62.11%\n",
      "Precision: 0.4690\n",
      "Recall: 0.4206\n",
      "F1 Score: 0.4435\n",
      "Matthews Correlation Coefficient: 0.1581\n",
      "Specificity: 0.7333\n"
     ]
    },
    {
     "name": "stderr",
     "output_type": "stream",
     "text": [
      "/tmp/ipykernel_187418/1883078025.py:10: FutureWarning: suggest_loguniform has been deprecated in v3.0.0. This feature will be removed in v6.0.0. See https://github.com/optuna/optuna/releases/tag/v3.0.0. Use suggest_float(..., log=True) instead.\n",
      "  learning_rate = trial.suggest_loguniform('learning_rate', 1e-5, 1e-1)\n",
      "/tmp/ipykernel_187418/1883078025.py:11: FutureWarning: suggest_loguniform has been deprecated in v3.0.0. This feature will be removed in v6.0.0. See https://github.com/optuna/optuna/releases/tag/v3.0.0. Use suggest_float(..., log=True) instead.\n",
      "  weight_decay=trial.suggest_loguniform('weight_decay', 1e-5, 1e-1)\n",
      "/home/gonken/anaconda3/envs/torch/lib/python3.12/site-packages/torch/nn/modules/transformer.py:379: UserWarning: enable_nested_tensor is True, but self.use_nested_tensor is False because encoder_layer.self_attn.batch_first was not True(use batch_first for better inference performance)\n",
      "  warnings.warn(\n",
      "[I 2024-11-28 19:38:39,048] Trial 22 finished with value: 0.6227848101265823 and parameters: {'num_heads': 4, 'num_layers': 1, 'd_model': 32, 'dropout': 0.30000000000000004, 'learning_rate': 0.014857902587233105, 'weight_decay': 2.4897291550846947e-05}. Best is trial 6 with value: 0.628140703517588.\n"
     ]
    },
    {
     "name": "stdout",
     "output_type": "stream",
     "text": [
      "Accuracy: 57.55%\n",
      "Precision: 0.4572\n",
      "Recall: 0.9762\n",
      "F1 Score: 0.6228\n",
      "Matthews Correlation Coefficient: 0.3711\n",
      "Specificity: 0.3511\n"
     ]
    },
    {
     "name": "stderr",
     "output_type": "stream",
     "text": [
      "/tmp/ipykernel_187418/1883078025.py:10: FutureWarning: suggest_loguniform has been deprecated in v3.0.0. This feature will be removed in v6.0.0. See https://github.com/optuna/optuna/releases/tag/v3.0.0. Use suggest_float(..., log=True) instead.\n",
      "  learning_rate = trial.suggest_loguniform('learning_rate', 1e-5, 1e-1)\n",
      "/tmp/ipykernel_187418/1883078025.py:11: FutureWarning: suggest_loguniform has been deprecated in v3.0.0. This feature will be removed in v6.0.0. See https://github.com/optuna/optuna/releases/tag/v3.0.0. Use suggest_float(..., log=True) instead.\n",
      "  weight_decay=trial.suggest_loguniform('weight_decay', 1e-5, 1e-1)\n",
      "/home/gonken/anaconda3/envs/torch/lib/python3.12/site-packages/torch/nn/modules/transformer.py:379: UserWarning: enable_nested_tensor is True, but self.use_nested_tensor is False because encoder_layer.self_attn.batch_first was not True(use batch_first for better inference performance)\n",
      "  warnings.warn(\n",
      "[I 2024-11-28 19:40:08,205] Trial 23 finished with value: 0.6004842615012107 and parameters: {'num_heads': 4, 'num_layers': 2, 'd_model': 32, 'dropout': 0.4, 'learning_rate': 0.005608365403774141, 'weight_decay': 0.00022471381848498544}. Best is trial 6 with value: 0.628140703517588.\n"
     ]
    },
    {
     "name": "stdout",
     "output_type": "stream",
     "text": [
      "Accuracy: 52.99%\n",
      "Precision: 0.4321\n",
      "Recall: 0.9841\n",
      "F1 Score: 0.6005\n",
      "Matthews Correlation Coefficient: 0.3226\n",
      "Specificity: 0.2756\n"
     ]
    },
    {
     "name": "stderr",
     "output_type": "stream",
     "text": [
      "/tmp/ipykernel_187418/1883078025.py:10: FutureWarning: suggest_loguniform has been deprecated in v3.0.0. This feature will be removed in v6.0.0. See https://github.com/optuna/optuna/releases/tag/v3.0.0. Use suggest_float(..., log=True) instead.\n",
      "  learning_rate = trial.suggest_loguniform('learning_rate', 1e-5, 1e-1)\n",
      "/tmp/ipykernel_187418/1883078025.py:11: FutureWarning: suggest_loguniform has been deprecated in v3.0.0. This feature will be removed in v6.0.0. See https://github.com/optuna/optuna/releases/tag/v3.0.0. Use suggest_float(..., log=True) instead.\n",
      "  weight_decay=trial.suggest_loguniform('weight_decay', 1e-5, 1e-1)\n",
      "/home/gonken/anaconda3/envs/torch/lib/python3.12/site-packages/torch/nn/modules/transformer.py:379: UserWarning: enable_nested_tensor is True, but self.use_nested_tensor is False because encoder_layer.self_attn.batch_first was not True(use batch_first for better inference performance)\n",
      "  warnings.warn(\n",
      "[I 2024-11-28 19:41:05,522] Trial 24 finished with value: 0.5823529411764706 and parameters: {'num_heads': 4, 'num_layers': 1, 'd_model': 32, 'dropout': 0.35, 'learning_rate': 0.0025445731709258963, 'weight_decay': 0.00873166157663541}. Best is trial 6 with value: 0.628140703517588.\n"
     ]
    },
    {
     "name": "stdout",
     "output_type": "stream",
     "text": [
      "Accuracy: 59.54%\n",
      "Precision: 0.4626\n",
      "Recall: 0.7857\n",
      "F1 Score: 0.5824\n",
      "Matthews Correlation Coefficient: 0.2700\n",
      "Specificity: 0.4889\n"
     ]
    },
    {
     "name": "stderr",
     "output_type": "stream",
     "text": [
      "/tmp/ipykernel_187418/1883078025.py:10: FutureWarning: suggest_loguniform has been deprecated in v3.0.0. This feature will be removed in v6.0.0. See https://github.com/optuna/optuna/releases/tag/v3.0.0. Use suggest_float(..., log=True) instead.\n",
      "  learning_rate = trial.suggest_loguniform('learning_rate', 1e-5, 1e-1)\n",
      "/tmp/ipykernel_187418/1883078025.py:11: FutureWarning: suggest_loguniform has been deprecated in v3.0.0. This feature will be removed in v6.0.0. See https://github.com/optuna/optuna/releases/tag/v3.0.0. Use suggest_float(..., log=True) instead.\n",
      "  weight_decay=trial.suggest_loguniform('weight_decay', 1e-5, 1e-1)\n",
      "/home/gonken/anaconda3/envs/torch/lib/python3.12/site-packages/torch/nn/modules/transformer.py:379: UserWarning: enable_nested_tensor is True, but self.use_nested_tensor is False because encoder_layer.self_attn.batch_first was not True(use batch_first for better inference performance)\n",
      "  warnings.warn(\n",
      "[I 2024-11-28 19:42:34,274] Trial 25 finished with value: 0.41975308641975306 and parameters: {'num_heads': 4, 'num_layers': 2, 'd_model': 32, 'dropout': 0.25, 'learning_rate': 0.0006510423605360587, 'weight_decay': 0.0014351535404039343}. Best is trial 6 with value: 0.628140703517588.\n"
     ]
    },
    {
     "name": "stdout",
     "output_type": "stream",
     "text": [
      "Accuracy: 59.83%\n",
      "Precision: 0.4359\n",
      "Recall: 0.4048\n",
      "F1 Score: 0.4198\n",
      "Matthews Correlation Coefficient: 0.1134\n",
      "Specificity: 0.7067\n"
     ]
    },
    {
     "name": "stderr",
     "output_type": "stream",
     "text": [
      "/tmp/ipykernel_187418/1883078025.py:10: FutureWarning: suggest_loguniform has been deprecated in v3.0.0. This feature will be removed in v6.0.0. See https://github.com/optuna/optuna/releases/tag/v3.0.0. Use suggest_float(..., log=True) instead.\n",
      "  learning_rate = trial.suggest_loguniform('learning_rate', 1e-5, 1e-1)\n",
      "/tmp/ipykernel_187418/1883078025.py:11: FutureWarning: suggest_loguniform has been deprecated in v3.0.0. This feature will be removed in v6.0.0. See https://github.com/optuna/optuna/releases/tag/v3.0.0. Use suggest_float(..., log=True) instead.\n",
      "  weight_decay=trial.suggest_loguniform('weight_decay', 1e-5, 1e-1)\n",
      "/home/gonken/anaconda3/envs/torch/lib/python3.12/site-packages/torch/nn/modules/transformer.py:379: UserWarning: enable_nested_tensor is True, but self.use_nested_tensor is False because encoder_layer.self_attn.batch_first was not True(use batch_first for better inference performance)\n",
      "  warnings.warn(\n",
      "[I 2024-11-28 19:43:31,599] Trial 26 finished with value: 0.6137566137566137 and parameters: {'num_heads': 2, 'num_layers': 1, 'd_model': 32, 'dropout': 0.5, 'learning_rate': 0.009444587071766276, 'weight_decay': 8.842357005603267e-05}. Best is trial 6 with value: 0.628140703517588.\n"
     ]
    },
    {
     "name": "stdout",
     "output_type": "stream",
     "text": [
      "Accuracy: 58.40%\n",
      "Precision: 0.4603\n",
      "Recall: 0.9206\n",
      "F1 Score: 0.6138\n",
      "Matthews Correlation Coefficient: 0.3371\n",
      "Specificity: 0.3956\n"
     ]
    },
    {
     "name": "stderr",
     "output_type": "stream",
     "text": [
      "/tmp/ipykernel_187418/1883078025.py:10: FutureWarning: suggest_loguniform has been deprecated in v3.0.0. This feature will be removed in v6.0.0. See https://github.com/optuna/optuna/releases/tag/v3.0.0. Use suggest_float(..., log=True) instead.\n",
      "  learning_rate = trial.suggest_loguniform('learning_rate', 1e-5, 1e-1)\n",
      "/tmp/ipykernel_187418/1883078025.py:11: FutureWarning: suggest_loguniform has been deprecated in v3.0.0. This feature will be removed in v6.0.0. See https://github.com/optuna/optuna/releases/tag/v3.0.0. Use suggest_float(..., log=True) instead.\n",
      "  weight_decay=trial.suggest_loguniform('weight_decay', 1e-5, 1e-1)\n",
      "/home/gonken/anaconda3/envs/torch/lib/python3.12/site-packages/torch/nn/modules/transformer.py:379: UserWarning: enable_nested_tensor is True, but self.use_nested_tensor is False because encoder_layer.self_attn.batch_first was not True(use batch_first for better inference performance)\n",
      "  warnings.warn(\n",
      "[I 2024-11-28 19:45:00,526] Trial 27 finished with value: 0.5249169435215947 and parameters: {'num_heads': 4, 'num_layers': 2, 'd_model': 32, 'dropout': 0.45000000000000007, 'learning_rate': 0.00014402222675008222, 'weight_decay': 0.00037500340556072926}. Best is trial 6 with value: 0.628140703517588.\n"
     ]
    },
    {
     "name": "stdout",
     "output_type": "stream",
     "text": [
      "Accuracy: 59.26%\n",
      "Precision: 0.4514\n",
      "Recall: 0.6270\n",
      "F1 Score: 0.5249\n",
      "Matthews Correlation Coefficient: 0.1922\n",
      "Specificity: 0.5733\n"
     ]
    },
    {
     "name": "stderr",
     "output_type": "stream",
     "text": [
      "/tmp/ipykernel_187418/1883078025.py:10: FutureWarning: suggest_loguniform has been deprecated in v3.0.0. This feature will be removed in v6.0.0. See https://github.com/optuna/optuna/releases/tag/v3.0.0. Use suggest_float(..., log=True) instead.\n",
      "  learning_rate = trial.suggest_loguniform('learning_rate', 1e-5, 1e-1)\n",
      "/tmp/ipykernel_187418/1883078025.py:11: FutureWarning: suggest_loguniform has been deprecated in v3.0.0. This feature will be removed in v6.0.0. See https://github.com/optuna/optuna/releases/tag/v3.0.0. Use suggest_float(..., log=True) instead.\n",
      "  weight_decay=trial.suggest_loguniform('weight_decay', 1e-5, 1e-1)\n",
      "/home/gonken/anaconda3/envs/torch/lib/python3.12/site-packages/torch/nn/modules/transformer.py:379: UserWarning: enable_nested_tensor is True, but self.use_nested_tensor is False because encoder_layer.self_attn.batch_first was not True(use batch_first for better inference performance)\n",
      "  warnings.warn(\n",
      "/home/gonken/anaconda3/envs/torch/lib/python3.12/site-packages/sklearn/metrics/_classification.py:1531: UndefinedMetricWarning: Precision is ill-defined and being set to 0.0 due to no predicted samples. Use `zero_division` parameter to control this behavior.\n",
      "  _warn_prf(average, modifier, f\"{metric.capitalize()} is\", len(result))\n",
      "[I 2024-11-28 19:45:57,181] Trial 28 finished with value: 0.0 and parameters: {'num_heads': 8, 'num_layers': 1, 'd_model': 128, 'dropout': 0.2, 'learning_rate': 0.029399399736534836, 'weight_decay': 3.532526889750611e-05}. Best is trial 6 with value: 0.628140703517588.\n",
      "/tmp/ipykernel_187418/1883078025.py:10: FutureWarning: suggest_loguniform has been deprecated in v3.0.0. This feature will be removed in v6.0.0. See https://github.com/optuna/optuna/releases/tag/v3.0.0. Use suggest_float(..., log=True) instead.\n",
      "  learning_rate = trial.suggest_loguniform('learning_rate', 1e-5, 1e-1)\n",
      "/tmp/ipykernel_187418/1883078025.py:11: FutureWarning: suggest_loguniform has been deprecated in v3.0.0. This feature will be removed in v6.0.0. See https://github.com/optuna/optuna/releases/tag/v3.0.0. Use suggest_float(..., log=True) instead.\n",
      "  weight_decay=trial.suggest_loguniform('weight_decay', 1e-5, 1e-1)\n",
      "/home/gonken/anaconda3/envs/torch/lib/python3.12/site-packages/torch/nn/modules/transformer.py:379: UserWarning: enable_nested_tensor is True, but self.use_nested_tensor is False because encoder_layer.self_attn.batch_first was not True(use batch_first for better inference performance)\n",
      "  warnings.warn(\n"
     ]
    },
    {
     "name": "stdout",
     "output_type": "stream",
     "text": [
      "Accuracy: 64.10%\n",
      "Precision: 0.0000\n",
      "Recall: 0.0000\n",
      "F1 Score: 0.0000\n",
      "Matthews Correlation Coefficient: 0.0000\n",
      "Specificity: 1.0000\n"
     ]
    },
    {
     "name": "stderr",
     "output_type": "stream",
     "text": [
      "[I 2024-11-28 19:48:43,326] Trial 29 finished with value: 0.6182795698924731 and parameters: {'num_heads': 2, 'num_layers': 5, 'd_model': 64, 'dropout': 0.30000000000000004, 'learning_rate': 0.0008778490598292403, 'weight_decay': 0.00079664374408435}. Best is trial 6 with value: 0.628140703517588.\n"
     ]
    },
    {
     "name": "stdout",
     "output_type": "stream",
     "text": [
      "Accuracy: 59.54%\n",
      "Precision: 0.4675\n",
      "Recall: 0.9127\n",
      "F1 Score: 0.6183\n",
      "Matthews Correlation Coefficient: 0.3462\n",
      "Specificity: 0.4178\n"
     ]
    },
    {
     "name": "stderr",
     "output_type": "stream",
     "text": [
      "/tmp/ipykernel_187418/1883078025.py:10: FutureWarning: suggest_loguniform has been deprecated in v3.0.0. This feature will be removed in v6.0.0. See https://github.com/optuna/optuna/releases/tag/v3.0.0. Use suggest_float(..., log=True) instead.\n",
      "  learning_rate = trial.suggest_loguniform('learning_rate', 1e-5, 1e-1)\n",
      "/tmp/ipykernel_187418/1883078025.py:11: FutureWarning: suggest_loguniform has been deprecated in v3.0.0. This feature will be removed in v6.0.0. See https://github.com/optuna/optuna/releases/tag/v3.0.0. Use suggest_float(..., log=True) instead.\n",
      "  weight_decay=trial.suggest_loguniform('weight_decay', 1e-5, 1e-1)\n",
      "/home/gonken/anaconda3/envs/torch/lib/python3.12/site-packages/torch/nn/modules/transformer.py:379: UserWarning: enable_nested_tensor is True, but self.use_nested_tensor is False because encoder_layer.self_attn.batch_first was not True(use batch_first for better inference performance)\n",
      "  warnings.warn(\n",
      "[I 2024-11-28 19:49:40,543] Trial 30 finished with value: 0.5283018867924528 and parameters: {'num_heads': 8, 'num_layers': 1, 'd_model': 128, 'dropout': 0.4, 'learning_rate': 0.09457712737296231, 'weight_decay': 0.0001381496767773221}. Best is trial 6 with value: 0.628140703517588.\n"
     ]
    },
    {
     "name": "stdout",
     "output_type": "stream",
     "text": [
      "Accuracy: 35.90%\n",
      "Precision: 0.3590\n",
      "Recall: 1.0000\n",
      "F1 Score: 0.5283\n",
      "Matthews Correlation Coefficient: 0.0000\n",
      "Specificity: 0.0000\n"
     ]
    },
    {
     "name": "stderr",
     "output_type": "stream",
     "text": [
      "/tmp/ipykernel_187418/1883078025.py:10: FutureWarning: suggest_loguniform has been deprecated in v3.0.0. This feature will be removed in v6.0.0. See https://github.com/optuna/optuna/releases/tag/v3.0.0. Use suggest_float(..., log=True) instead.\n",
      "  learning_rate = trial.suggest_loguniform('learning_rate', 1e-5, 1e-1)\n",
      "/tmp/ipykernel_187418/1883078025.py:11: FutureWarning: suggest_loguniform has been deprecated in v3.0.0. This feature will be removed in v6.0.0. See https://github.com/optuna/optuna/releases/tag/v3.0.0. Use suggest_float(..., log=True) instead.\n",
      "  weight_decay=trial.suggest_loguniform('weight_decay', 1e-5, 1e-1)\n",
      "/home/gonken/anaconda3/envs/torch/lib/python3.12/site-packages/torch/nn/modules/transformer.py:379: UserWarning: enable_nested_tensor is True, but self.use_nested_tensor is False because encoder_layer.self_attn.batch_first was not True(use batch_first for better inference performance)\n",
      "  warnings.warn(\n",
      "[I 2024-11-28 19:50:39,801] Trial 31 finished with value: 0.6169154228855721 and parameters: {'num_heads': 4, 'num_layers': 1, 'd_model': 32, 'dropout': 0.30000000000000004, 'learning_rate': 0.02307629453292468, 'weight_decay': 2.043027180122272e-05}. Best is trial 6 with value: 0.628140703517588.\n"
     ]
    },
    {
     "name": "stdout",
     "output_type": "stream",
     "text": [
      "Accuracy: 56.13%\n",
      "Precision: 0.4493\n",
      "Recall: 0.9841\n",
      "F1 Score: 0.6169\n",
      "Matthews Correlation Coefficient: 0.3611\n",
      "Specificity: 0.3244\n"
     ]
    },
    {
     "name": "stderr",
     "output_type": "stream",
     "text": [
      "/tmp/ipykernel_187418/1883078025.py:10: FutureWarning: suggest_loguniform has been deprecated in v3.0.0. This feature will be removed in v6.0.0. See https://github.com/optuna/optuna/releases/tag/v3.0.0. Use suggest_float(..., log=True) instead.\n",
      "  learning_rate = trial.suggest_loguniform('learning_rate', 1e-5, 1e-1)\n",
      "/tmp/ipykernel_187418/1883078025.py:11: FutureWarning: suggest_loguniform has been deprecated in v3.0.0. This feature will be removed in v6.0.0. See https://github.com/optuna/optuna/releases/tag/v3.0.0. Use suggest_float(..., log=True) instead.\n",
      "  weight_decay=trial.suggest_loguniform('weight_decay', 1e-5, 1e-1)\n",
      "/home/gonken/anaconda3/envs/torch/lib/python3.12/site-packages/torch/nn/modules/transformer.py:379: UserWarning: enable_nested_tensor is True, but self.use_nested_tensor is False because encoder_layer.self_attn.batch_first was not True(use batch_first for better inference performance)\n",
      "  warnings.warn(\n",
      "[I 2024-11-28 19:51:37,334] Trial 32 finished with value: 0.6184538653366584 and parameters: {'num_heads': 4, 'num_layers': 1, 'd_model': 32, 'dropout': 0.35, 'learning_rate': 0.012202894126010567, 'weight_decay': 2.9328392960834738e-05}. Best is trial 6 with value: 0.628140703517588.\n"
     ]
    },
    {
     "name": "stdout",
     "output_type": "stream",
     "text": [
      "Accuracy: 56.41%\n",
      "Precision: 0.4509\n",
      "Recall: 0.9841\n",
      "F1 Score: 0.6185\n",
      "Matthews Correlation Coefficient: 0.3646\n",
      "Specificity: 0.3289\n"
     ]
    },
    {
     "name": "stderr",
     "output_type": "stream",
     "text": [
      "/tmp/ipykernel_187418/1883078025.py:10: FutureWarning: suggest_loguniform has been deprecated in v3.0.0. This feature will be removed in v6.0.0. See https://github.com/optuna/optuna/releases/tag/v3.0.0. Use suggest_float(..., log=True) instead.\n",
      "  learning_rate = trial.suggest_loguniform('learning_rate', 1e-5, 1e-1)\n",
      "/tmp/ipykernel_187418/1883078025.py:11: FutureWarning: suggest_loguniform has been deprecated in v3.0.0. This feature will be removed in v6.0.0. See https://github.com/optuna/optuna/releases/tag/v3.0.0. Use suggest_float(..., log=True) instead.\n",
      "  weight_decay=trial.suggest_loguniform('weight_decay', 1e-5, 1e-1)\n",
      "/home/gonken/anaconda3/envs/torch/lib/python3.12/site-packages/torch/nn/modules/transformer.py:379: UserWarning: enable_nested_tensor is True, but self.use_nested_tensor is False because encoder_layer.self_attn.batch_first was not True(use batch_first for better inference performance)\n",
      "  warnings.warn(\n",
      "/home/gonken/anaconda3/envs/torch/lib/python3.12/site-packages/sklearn/metrics/_classification.py:1531: UndefinedMetricWarning: Precision is ill-defined and being set to 0.0 due to no predicted samples. Use `zero_division` parameter to control this behavior.\n",
      "  _warn_prf(average, modifier, f\"{metric.capitalize()} is\", len(result))\n",
      "[I 2024-11-28 19:53:05,550] Trial 33 finished with value: 0.0 and parameters: {'num_heads': 4, 'num_layers': 2, 'd_model': 32, 'dropout': 0.30000000000000004, 'learning_rate': 0.0028122383612334823, 'weight_decay': 1.7188052787223715e-05}. Best is trial 6 with value: 0.628140703517588.\n",
      "/tmp/ipykernel_187418/1883078025.py:10: FutureWarning: suggest_loguniform has been deprecated in v3.0.0. This feature will be removed in v6.0.0. See https://github.com/optuna/optuna/releases/tag/v3.0.0. Use suggest_float(..., log=True) instead.\n",
      "  learning_rate = trial.suggest_loguniform('learning_rate', 1e-5, 1e-1)\n",
      "/tmp/ipykernel_187418/1883078025.py:11: FutureWarning: suggest_loguniform has been deprecated in v3.0.0. This feature will be removed in v6.0.0. See https://github.com/optuna/optuna/releases/tag/v3.0.0. Use suggest_float(..., log=True) instead.\n",
      "  weight_decay=trial.suggest_loguniform('weight_decay', 1e-5, 1e-1)\n",
      "/home/gonken/anaconda3/envs/torch/lib/python3.12/site-packages/torch/nn/modules/transformer.py:379: UserWarning: enable_nested_tensor is True, but self.use_nested_tensor is False because encoder_layer.self_attn.batch_first was not True(use batch_first for better inference performance)\n",
      "  warnings.warn(\n"
     ]
    },
    {
     "name": "stdout",
     "output_type": "stream",
     "text": [
      "Accuracy: 64.10%\n",
      "Precision: 0.0000\n",
      "Recall: 0.0000\n",
      "F1 Score: 0.0000\n",
      "Matthews Correlation Coefficient: 0.0000\n",
      "Specificity: 1.0000\n"
     ]
    },
    {
     "name": "stderr",
     "output_type": "stream",
     "text": [
      "[I 2024-11-28 19:54:03,330] Trial 34 finished with value: 0.6218905472636815 and parameters: {'num_heads': 4, 'num_layers': 1, 'd_model': 32, 'dropout': 0.2, 'learning_rate': 0.008075591924620675, 'weight_decay': 6.136067893057416e-05}. Best is trial 6 with value: 0.628140703517588.\n"
     ]
    },
    {
     "name": "stdout",
     "output_type": "stream",
     "text": [
      "Accuracy: 56.70%\n",
      "Precision: 0.4529\n",
      "Recall: 0.9921\n",
      "F1 Score: 0.6219\n",
      "Matthews Correlation Coefficient: 0.3756\n",
      "Specificity: 0.3289\n"
     ]
    },
    {
     "name": "stderr",
     "output_type": "stream",
     "text": [
      "/tmp/ipykernel_187418/1883078025.py:10: FutureWarning: suggest_loguniform has been deprecated in v3.0.0. This feature will be removed in v6.0.0. See https://github.com/optuna/optuna/releases/tag/v3.0.0. Use suggest_float(..., log=True) instead.\n",
      "  learning_rate = trial.suggest_loguniform('learning_rate', 1e-5, 1e-1)\n",
      "/tmp/ipykernel_187418/1883078025.py:11: FutureWarning: suggest_loguniform has been deprecated in v3.0.0. This feature will be removed in v6.0.0. See https://github.com/optuna/optuna/releases/tag/v3.0.0. Use suggest_float(..., log=True) instead.\n",
      "  weight_decay=trial.suggest_loguniform('weight_decay', 1e-5, 1e-1)\n",
      "/home/gonken/anaconda3/envs/torch/lib/python3.12/site-packages/torch/nn/modules/transformer.py:379: UserWarning: enable_nested_tensor is True, but self.use_nested_tensor is False because encoder_layer.self_attn.batch_first was not True(use batch_first for better inference performance)\n",
      "  warnings.warn(\n",
      "[I 2024-11-28 19:55:59,231] Trial 35 finished with value: 0.4961832061068702 and parameters: {'num_heads': 2, 'num_layers': 3, 'd_model': 128, 'dropout': 0.35, 'learning_rate': 0.0012588772167202507, 'weight_decay': 6.200585780906536e-05}. Best is trial 6 with value: 0.628140703517588.\n"
     ]
    },
    {
     "name": "stdout",
     "output_type": "stream",
     "text": [
      "Accuracy: 62.39%\n",
      "Precision: 0.4779\n",
      "Recall: 0.5159\n",
      "F1 Score: 0.4962\n",
      "Matthews Correlation Coefficient: 0.1972\n",
      "Specificity: 0.6844\n"
     ]
    },
    {
     "name": "stderr",
     "output_type": "stream",
     "text": [
      "/tmp/ipykernel_187418/1883078025.py:10: FutureWarning: suggest_loguniform has been deprecated in v3.0.0. This feature will be removed in v6.0.0. See https://github.com/optuna/optuna/releases/tag/v3.0.0. Use suggest_float(..., log=True) instead.\n",
      "  learning_rate = trial.suggest_loguniform('learning_rate', 1e-5, 1e-1)\n",
      "/tmp/ipykernel_187418/1883078025.py:11: FutureWarning: suggest_loguniform has been deprecated in v3.0.0. This feature will be removed in v6.0.0. See https://github.com/optuna/optuna/releases/tag/v3.0.0. Use suggest_float(..., log=True) instead.\n",
      "  weight_decay=trial.suggest_loguniform('weight_decay', 1e-5, 1e-1)\n",
      "/home/gonken/anaconda3/envs/torch/lib/python3.12/site-packages/torch/nn/modules/transformer.py:379: UserWarning: enable_nested_tensor is True, but self.use_nested_tensor is False because encoder_layer.self_attn.batch_first was not True(use batch_first for better inference performance)\n",
      "  warnings.warn(\n",
      "[I 2024-11-28 19:56:55,594] Trial 36 finished with value: 0.4268774703557312 and parameters: {'num_heads': 4, 'num_layers': 1, 'd_model': 32, 'dropout': 0.30000000000000004, 'learning_rate': 0.0036913278063394383, 'weight_decay': 0.00047989805350106456}. Best is trial 6 with value: 0.628140703517588.\n"
     ]
    },
    {
     "name": "stdout",
     "output_type": "stream",
     "text": [
      "Accuracy: 58.69%\n",
      "Precision: 0.4252\n",
      "Recall: 0.4286\n",
      "F1 Score: 0.4269\n",
      "Matthews Correlation Coefficient: 0.1039\n",
      "Specificity: 0.6756\n"
     ]
    },
    {
     "name": "stderr",
     "output_type": "stream",
     "text": [
      "/tmp/ipykernel_187418/1883078025.py:10: FutureWarning: suggest_loguniform has been deprecated in v3.0.0. This feature will be removed in v6.0.0. See https://github.com/optuna/optuna/releases/tag/v3.0.0. Use suggest_float(..., log=True) instead.\n",
      "  learning_rate = trial.suggest_loguniform('learning_rate', 1e-5, 1e-1)\n",
      "/tmp/ipykernel_187418/1883078025.py:11: FutureWarning: suggest_loguniform has been deprecated in v3.0.0. This feature will be removed in v6.0.0. See https://github.com/optuna/optuna/releases/tag/v3.0.0. Use suggest_float(..., log=True) instead.\n",
      "  weight_decay=trial.suggest_loguniform('weight_decay', 1e-5, 1e-1)\n",
      "/home/gonken/anaconda3/envs/torch/lib/python3.12/site-packages/torch/nn/modules/transformer.py:379: UserWarning: enable_nested_tensor is True, but self.use_nested_tensor is False because encoder_layer.self_attn.batch_first was not True(use batch_first for better inference performance)\n",
      "  warnings.warn(\n",
      "/home/gonken/anaconda3/envs/torch/lib/python3.12/site-packages/sklearn/metrics/_classification.py:1531: UndefinedMetricWarning: Precision is ill-defined and being set to 0.0 due to no predicted samples. Use `zero_division` parameter to control this behavior.\n",
      "  _warn_prf(average, modifier, f\"{metric.capitalize()} is\", len(result))\n",
      "[I 2024-11-28 19:58:49,816] Trial 37 finished with value: 0.0 and parameters: {'num_heads': 8, 'num_layers': 3, 'd_model': 32, 'dropout': 0.4, 'learning_rate': 0.039118744818179334, 'weight_decay': 2.6530346194787052e-05}. Best is trial 6 with value: 0.628140703517588.\n",
      "/tmp/ipykernel_187418/1883078025.py:10: FutureWarning: suggest_loguniform has been deprecated in v3.0.0. This feature will be removed in v6.0.0. See https://github.com/optuna/optuna/releases/tag/v3.0.0. Use suggest_float(..., log=True) instead.\n",
      "  learning_rate = trial.suggest_loguniform('learning_rate', 1e-5, 1e-1)\n",
      "/tmp/ipykernel_187418/1883078025.py:11: FutureWarning: suggest_loguniform has been deprecated in v3.0.0. This feature will be removed in v6.0.0. See https://github.com/optuna/optuna/releases/tag/v3.0.0. Use suggest_float(..., log=True) instead.\n",
      "  weight_decay=trial.suggest_loguniform('weight_decay', 1e-5, 1e-1)\n",
      "/home/gonken/anaconda3/envs/torch/lib/python3.12/site-packages/torch/nn/modules/transformer.py:379: UserWarning: enable_nested_tensor is True, but self.use_nested_tensor is False because encoder_layer.self_attn.batch_first was not True(use batch_first for better inference performance)\n",
      "  warnings.warn(\n"
     ]
    },
    {
     "name": "stdout",
     "output_type": "stream",
     "text": [
      "Accuracy: 64.10%\n",
      "Precision: 0.0000\n",
      "Recall: 0.0000\n",
      "F1 Score: 0.0000\n",
      "Matthews Correlation Coefficient: 0.0000\n",
      "Specificity: 1.0000\n"
     ]
    },
    {
     "name": "stderr",
     "output_type": "stream",
     "text": [
      "/home/gonken/anaconda3/envs/torch/lib/python3.12/site-packages/sklearn/metrics/_classification.py:1531: UndefinedMetricWarning: Precision is ill-defined and being set to 0.0 due to no predicted samples. Use `zero_division` parameter to control this behavior.\n",
      "  _warn_prf(average, modifier, f\"{metric.capitalize()} is\", len(result))\n",
      "[I 2024-11-28 19:59:48,318] Trial 38 finished with value: 0.0 and parameters: {'num_heads': 2, 'num_layers': 1, 'd_model': 64, 'dropout': 0.25, 'learning_rate': 0.015485294184719512, 'weight_decay': 0.02112268170441046}. Best is trial 6 with value: 0.628140703517588.\n",
      "/tmp/ipykernel_187418/1883078025.py:10: FutureWarning: suggest_loguniform has been deprecated in v3.0.0. This feature will be removed in v6.0.0. See https://github.com/optuna/optuna/releases/tag/v3.0.0. Use suggest_float(..., log=True) instead.\n",
      "  learning_rate = trial.suggest_loguniform('learning_rate', 1e-5, 1e-1)\n",
      "/tmp/ipykernel_187418/1883078025.py:11: FutureWarning: suggest_loguniform has been deprecated in v3.0.0. This feature will be removed in v6.0.0. See https://github.com/optuna/optuna/releases/tag/v3.0.0. Use suggest_float(..., log=True) instead.\n",
      "  weight_decay=trial.suggest_loguniform('weight_decay', 1e-5, 1e-1)\n",
      "/home/gonken/anaconda3/envs/torch/lib/python3.12/site-packages/torch/nn/modules/transformer.py:379: UserWarning: enable_nested_tensor is True, but self.use_nested_tensor is False because encoder_layer.self_attn.batch_first was not True(use batch_first for better inference performance)\n",
      "  warnings.warn(\n"
     ]
    },
    {
     "name": "stdout",
     "output_type": "stream",
     "text": [
      "Accuracy: 64.10%\n",
      "Precision: 0.0000\n",
      "Recall: 0.0000\n",
      "F1 Score: 0.0000\n",
      "Matthews Correlation Coefficient: 0.0000\n",
      "Specificity: 1.0000\n"
     ]
    },
    {
     "name": "stderr",
     "output_type": "stream",
     "text": [
      "[I 2024-11-28 20:01:16,955] Trial 39 finished with value: 0.573134328358209 and parameters: {'num_heads': 8, 'num_layers': 2, 'd_model': 128, 'dropout': 0.15000000000000002, 'learning_rate': 0.0017138954063418482, 'weight_decay': 0.00016185149300338437}. Best is trial 6 with value: 0.628140703517588.\n"
     ]
    },
    {
     "name": "stdout",
     "output_type": "stream",
     "text": [
      "Accuracy: 59.26%\n",
      "Precision: 0.4593\n",
      "Recall: 0.7619\n",
      "F1 Score: 0.5731\n",
      "Matthews Correlation Coefficient: 0.2538\n",
      "Specificity: 0.4978\n"
     ]
    },
    {
     "name": "stderr",
     "output_type": "stream",
     "text": [
      "/tmp/ipykernel_187418/1883078025.py:10: FutureWarning: suggest_loguniform has been deprecated in v3.0.0. This feature will be removed in v6.0.0. See https://github.com/optuna/optuna/releases/tag/v3.0.0. Use suggest_float(..., log=True) instead.\n",
      "  learning_rate = trial.suggest_loguniform('learning_rate', 1e-5, 1e-1)\n",
      "/tmp/ipykernel_187418/1883078025.py:11: FutureWarning: suggest_loguniform has been deprecated in v3.0.0. This feature will be removed in v6.0.0. See https://github.com/optuna/optuna/releases/tag/v3.0.0. Use suggest_float(..., log=True) instead.\n",
      "  weight_decay=trial.suggest_loguniform('weight_decay', 1e-5, 1e-1)\n",
      "/home/gonken/anaconda3/envs/torch/lib/python3.12/site-packages/torch/nn/modules/transformer.py:379: UserWarning: enable_nested_tensor is True, but self.use_nested_tensor is False because encoder_layer.self_attn.batch_first was not True(use batch_first for better inference performance)\n",
      "  warnings.warn(\n",
      "[I 2024-11-28 20:02:14,583] Trial 40 finished with value: 0.6212121212121212 and parameters: {'num_heads': 4, 'num_layers': 1, 'd_model': 32, 'dropout': 0.5, 'learning_rate': 0.007009397322133744, 'weight_decay': 0.0003045608640744634}. Best is trial 6 with value: 0.628140703517588.\n"
     ]
    },
    {
     "name": "stdout",
     "output_type": "stream",
     "text": [
      "Accuracy: 57.26%\n",
      "Precision: 0.4556\n",
      "Recall: 0.9762\n",
      "F1 Score: 0.6212\n",
      "Matthews Correlation Coefficient: 0.3676\n",
      "Specificity: 0.3467\n"
     ]
    },
    {
     "name": "stderr",
     "output_type": "stream",
     "text": [
      "/tmp/ipykernel_187418/1883078025.py:10: FutureWarning: suggest_loguniform has been deprecated in v3.0.0. This feature will be removed in v6.0.0. See https://github.com/optuna/optuna/releases/tag/v3.0.0. Use suggest_float(..., log=True) instead.\n",
      "  learning_rate = trial.suggest_loguniform('learning_rate', 1e-5, 1e-1)\n",
      "/tmp/ipykernel_187418/1883078025.py:11: FutureWarning: suggest_loguniform has been deprecated in v3.0.0. This feature will be removed in v6.0.0. See https://github.com/optuna/optuna/releases/tag/v3.0.0. Use suggest_float(..., log=True) instead.\n",
      "  weight_decay=trial.suggest_loguniform('weight_decay', 1e-5, 1e-1)\n",
      "/home/gonken/anaconda3/envs/torch/lib/python3.12/site-packages/torch/nn/modules/transformer.py:379: UserWarning: enable_nested_tensor is True, but self.use_nested_tensor is False because encoder_layer.self_attn.batch_first was not True(use batch_first for better inference performance)\n",
      "  warnings.warn(\n",
      "[I 2024-11-28 20:03:11,284] Trial 41 finished with value: 0.6278481012658228 and parameters: {'num_heads': 4, 'num_layers': 1, 'd_model': 32, 'dropout': 0.2, 'learning_rate': 0.008550966792701748, 'weight_decay': 4.111530358930848e-05}. Best is trial 6 with value: 0.628140703517588.\n"
     ]
    },
    {
     "name": "stdout",
     "output_type": "stream",
     "text": [
      "Accuracy: 58.12%\n",
      "Precision: 0.4610\n",
      "Recall: 0.9841\n",
      "F1 Score: 0.6278\n",
      "Matthews Correlation Coefficient: 0.3851\n",
      "Specificity: 0.3556\n"
     ]
    },
    {
     "name": "stderr",
     "output_type": "stream",
     "text": [
      "/tmp/ipykernel_187418/1883078025.py:10: FutureWarning: suggest_loguniform has been deprecated in v3.0.0. This feature will be removed in v6.0.0. See https://github.com/optuna/optuna/releases/tag/v3.0.0. Use suggest_float(..., log=True) instead.\n",
      "  learning_rate = trial.suggest_loguniform('learning_rate', 1e-5, 1e-1)\n",
      "/tmp/ipykernel_187418/1883078025.py:11: FutureWarning: suggest_loguniform has been deprecated in v3.0.0. This feature will be removed in v6.0.0. See https://github.com/optuna/optuna/releases/tag/v3.0.0. Use suggest_float(..., log=True) instead.\n",
      "  weight_decay=trial.suggest_loguniform('weight_decay', 1e-5, 1e-1)\n",
      "/home/gonken/anaconda3/envs/torch/lib/python3.12/site-packages/torch/nn/modules/transformer.py:379: UserWarning: enable_nested_tensor is True, but self.use_nested_tensor is False because encoder_layer.self_attn.batch_first was not True(use batch_first for better inference performance)\n",
      "  warnings.warn(\n",
      "/home/gonken/anaconda3/envs/torch/lib/python3.12/site-packages/sklearn/metrics/_classification.py:1531: UndefinedMetricWarning: Precision is ill-defined and being set to 0.0 due to no predicted samples. Use `zero_division` parameter to control this behavior.\n",
      "  _warn_prf(average, modifier, f\"{metric.capitalize()} is\", len(result))\n",
      "[I 2024-11-28 20:04:09,370] Trial 42 finished with value: 0.0 and parameters: {'num_heads': 4, 'num_layers': 1, 'd_model': 32, 'dropout': 0.15000000000000002, 'learning_rate': 0.003955935317805869, 'weight_decay': 4.713324079745476e-05}. Best is trial 6 with value: 0.628140703517588.\n",
      "/tmp/ipykernel_187418/1883078025.py:10: FutureWarning: suggest_loguniform has been deprecated in v3.0.0. This feature will be removed in v6.0.0. See https://github.com/optuna/optuna/releases/tag/v3.0.0. Use suggest_float(..., log=True) instead.\n",
      "  learning_rate = trial.suggest_loguniform('learning_rate', 1e-5, 1e-1)\n",
      "/tmp/ipykernel_187418/1883078025.py:11: FutureWarning: suggest_loguniform has been deprecated in v3.0.0. This feature will be removed in v6.0.0. See https://github.com/optuna/optuna/releases/tag/v3.0.0. Use suggest_float(..., log=True) instead.\n",
      "  weight_decay=trial.suggest_loguniform('weight_decay', 1e-5, 1e-1)\n",
      "/home/gonken/anaconda3/envs/torch/lib/python3.12/site-packages/torch/nn/modules/transformer.py:379: UserWarning: enable_nested_tensor is True, but self.use_nested_tensor is False because encoder_layer.self_attn.batch_first was not True(use batch_first for better inference performance)\n",
      "  warnings.warn(\n"
     ]
    },
    {
     "name": "stdout",
     "output_type": "stream",
     "text": [
      "Accuracy: 64.10%\n",
      "Precision: 0.0000\n",
      "Recall: 0.0000\n",
      "F1 Score: 0.0000\n",
      "Matthews Correlation Coefficient: 0.0000\n",
      "Specificity: 1.0000\n"
     ]
    },
    {
     "name": "stderr",
     "output_type": "stream",
     "text": [
      "/home/gonken/anaconda3/envs/torch/lib/python3.12/site-packages/sklearn/metrics/_classification.py:1531: UndefinedMetricWarning: Precision is ill-defined and being set to 0.0 due to no predicted samples. Use `zero_division` parameter to control this behavior.\n",
      "  _warn_prf(average, modifier, f\"{metric.capitalize()} is\", len(result))\n",
      "[I 2024-11-28 20:05:06,181] Trial 43 finished with value: 0.0 and parameters: {'num_heads': 4, 'num_layers': 1, 'd_model': 32, 'dropout': 0.25, 'learning_rate': 0.016905920968894615, 'weight_decay': 1.4623916706629475e-05}. Best is trial 6 with value: 0.628140703517588.\n",
      "/tmp/ipykernel_187418/1883078025.py:10: FutureWarning: suggest_loguniform has been deprecated in v3.0.0. This feature will be removed in v6.0.0. See https://github.com/optuna/optuna/releases/tag/v3.0.0. Use suggest_float(..., log=True) instead.\n",
      "  learning_rate = trial.suggest_loguniform('learning_rate', 1e-5, 1e-1)\n",
      "/tmp/ipykernel_187418/1883078025.py:11: FutureWarning: suggest_loguniform has been deprecated in v3.0.0. This feature will be removed in v6.0.0. See https://github.com/optuna/optuna/releases/tag/v3.0.0. Use suggest_float(..., log=True) instead.\n",
      "  weight_decay=trial.suggest_loguniform('weight_decay', 1e-5, 1e-1)\n",
      "/home/gonken/anaconda3/envs/torch/lib/python3.12/site-packages/torch/nn/modules/transformer.py:379: UserWarning: enable_nested_tensor is True, but self.use_nested_tensor is False because encoder_layer.self_attn.batch_first was not True(use batch_first for better inference performance)\n",
      "  warnings.warn(\n"
     ]
    },
    {
     "name": "stdout",
     "output_type": "stream",
     "text": [
      "Accuracy: 64.10%\n",
      "Precision: 0.0000\n",
      "Recall: 0.0000\n",
      "F1 Score: 0.0000\n",
      "Matthews Correlation Coefficient: 0.0000\n",
      "Specificity: 1.0000\n"
     ]
    },
    {
     "name": "stderr",
     "output_type": "stream",
     "text": [
      "[I 2024-11-28 20:06:03,343] Trial 44 finished with value: 0.629156010230179 and parameters: {'num_heads': 4, 'num_layers': 1, 'd_model': 32, 'dropout': 0.35, 'learning_rate': 0.006627644566678396, 'weight_decay': 9.131017287747577e-05}. Best is trial 44 with value: 0.629156010230179.\n"
     ]
    },
    {
     "name": "stdout",
     "output_type": "stream",
     "text": [
      "Accuracy: 58.69%\n",
      "Precision: 0.4642\n",
      "Recall: 0.9762\n",
      "F1 Score: 0.6292\n",
      "Matthews Correlation Coefficient: 0.3849\n",
      "Specificity: 0.3689\n"
     ]
    },
    {
     "name": "stderr",
     "output_type": "stream",
     "text": [
      "/tmp/ipykernel_187418/1883078025.py:10: FutureWarning: suggest_loguniform has been deprecated in v3.0.0. This feature will be removed in v6.0.0. See https://github.com/optuna/optuna/releases/tag/v3.0.0. Use suggest_float(..., log=True) instead.\n",
      "  learning_rate = trial.suggest_loguniform('learning_rate', 1e-5, 1e-1)\n",
      "/tmp/ipykernel_187418/1883078025.py:11: FutureWarning: suggest_loguniform has been deprecated in v3.0.0. This feature will be removed in v6.0.0. See https://github.com/optuna/optuna/releases/tag/v3.0.0. Use suggest_float(..., log=True) instead.\n",
      "  weight_decay=trial.suggest_loguniform('weight_decay', 1e-5, 1e-1)\n",
      "/home/gonken/anaconda3/envs/torch/lib/python3.12/site-packages/torch/nn/modules/transformer.py:379: UserWarning: enable_nested_tensor is True, but self.use_nested_tensor is False because encoder_layer.self_attn.batch_first was not True(use batch_first for better inference performance)\n",
      "  warnings.warn(\n",
      "[I 2024-11-28 20:07:32,175] Trial 45 finished with value: 0.5287356321839081 and parameters: {'num_heads': 4, 'num_layers': 2, 'd_model': 32, 'dropout': 0.35, 'learning_rate': 0.007995776089726516, 'weight_decay': 0.000106636169519703}. Best is trial 44 with value: 0.629156010230179.\n"
     ]
    },
    {
     "name": "stdout",
     "output_type": "stream",
     "text": [
      "Accuracy: 64.96%\n",
      "Precision: 0.5111\n",
      "Recall: 0.5476\n",
      "F1 Score: 0.5287\n",
      "Matthews Correlation Coefficient: 0.2507\n",
      "Specificity: 0.7067\n"
     ]
    },
    {
     "name": "stderr",
     "output_type": "stream",
     "text": [
      "/tmp/ipykernel_187418/1883078025.py:10: FutureWarning: suggest_loguniform has been deprecated in v3.0.0. This feature will be removed in v6.0.0. See https://github.com/optuna/optuna/releases/tag/v3.0.0. Use suggest_float(..., log=True) instead.\n",
      "  learning_rate = trial.suggest_loguniform('learning_rate', 1e-5, 1e-1)\n",
      "/tmp/ipykernel_187418/1883078025.py:11: FutureWarning: suggest_loguniform has been deprecated in v3.0.0. This feature will be removed in v6.0.0. See https://github.com/optuna/optuna/releases/tag/v3.0.0. Use suggest_float(..., log=True) instead.\n",
      "  weight_decay=trial.suggest_loguniform('weight_decay', 1e-5, 1e-1)\n",
      "/home/gonken/anaconda3/envs/torch/lib/python3.12/site-packages/torch/nn/modules/transformer.py:379: UserWarning: enable_nested_tensor is True, but self.use_nested_tensor is False because encoder_layer.self_attn.batch_first was not True(use batch_first for better inference performance)\n",
      "  warnings.warn(\n",
      "[I 2024-11-28 20:08:29,086] Trial 46 finished with value: 0.6259541984732825 and parameters: {'num_heads': 2, 'num_layers': 1, 'd_model': 64, 'dropout': 0.4, 'learning_rate': 0.004922806467734059, 'weight_decay': 0.00017651170217949732}. Best is trial 44 with value: 0.629156010230179.\n"
     ]
    },
    {
     "name": "stdout",
     "output_type": "stream",
     "text": [
      "Accuracy: 58.12%\n",
      "Precision: 0.4607\n",
      "Recall: 0.9762\n",
      "F1 Score: 0.6260\n",
      "Matthews Correlation Coefficient: 0.3780\n",
      "Specificity: 0.3600\n"
     ]
    },
    {
     "name": "stderr",
     "output_type": "stream",
     "text": [
      "/tmp/ipykernel_187418/1883078025.py:10: FutureWarning: suggest_loguniform has been deprecated in v3.0.0. This feature will be removed in v6.0.0. See https://github.com/optuna/optuna/releases/tag/v3.0.0. Use suggest_float(..., log=True) instead.\n",
      "  learning_rate = trial.suggest_loguniform('learning_rate', 1e-5, 1e-1)\n",
      "/tmp/ipykernel_187418/1883078025.py:11: FutureWarning: suggest_loguniform has been deprecated in v3.0.0. This feature will be removed in v6.0.0. See https://github.com/optuna/optuna/releases/tag/v3.0.0. Use suggest_float(..., log=True) instead.\n",
      "  weight_decay=trial.suggest_loguniform('weight_decay', 1e-5, 1e-1)\n",
      "/home/gonken/anaconda3/envs/torch/lib/python3.12/site-packages/torch/nn/modules/transformer.py:379: UserWarning: enable_nested_tensor is True, but self.use_nested_tensor is False because encoder_layer.self_attn.batch_first was not True(use batch_first for better inference performance)\n",
      "  warnings.warn(\n",
      "/home/gonken/anaconda3/envs/torch/lib/python3.12/site-packages/sklearn/metrics/_classification.py:1531: UndefinedMetricWarning: Precision is ill-defined and being set to 0.0 due to no predicted samples. Use `zero_division` parameter to control this behavior.\n",
      "  _warn_prf(average, modifier, f\"{metric.capitalize()} is\", len(result))\n",
      "[I 2024-11-28 20:09:26,087] Trial 47 finished with value: 0.0 and parameters: {'num_heads': 2, 'num_layers': 1, 'd_model': 64, 'dropout': 0.45000000000000007, 'learning_rate': 0.05289865445369528, 'weight_decay': 0.00018703734791638996}. Best is trial 44 with value: 0.629156010230179.\n",
      "/tmp/ipykernel_187418/1883078025.py:10: FutureWarning: suggest_loguniform has been deprecated in v3.0.0. This feature will be removed in v6.0.0. See https://github.com/optuna/optuna/releases/tag/v3.0.0. Use suggest_float(..., log=True) instead.\n",
      "  learning_rate = trial.suggest_loguniform('learning_rate', 1e-5, 1e-1)\n",
      "/tmp/ipykernel_187418/1883078025.py:11: FutureWarning: suggest_loguniform has been deprecated in v3.0.0. This feature will be removed in v6.0.0. See https://github.com/optuna/optuna/releases/tag/v3.0.0. Use suggest_float(..., log=True) instead.\n",
      "  weight_decay=trial.suggest_loguniform('weight_decay', 1e-5, 1e-1)\n",
      "/home/gonken/anaconda3/envs/torch/lib/python3.12/site-packages/torch/nn/modules/transformer.py:379: UserWarning: enable_nested_tensor is True, but self.use_nested_tensor is False because encoder_layer.self_attn.batch_first was not True(use batch_first for better inference performance)\n",
      "  warnings.warn(\n"
     ]
    },
    {
     "name": "stdout",
     "output_type": "stream",
     "text": [
      "Accuracy: 64.10%\n",
      "Precision: 0.0000\n",
      "Recall: 0.0000\n",
      "F1 Score: 0.0000\n",
      "Matthews Correlation Coefficient: 0.0000\n",
      "Specificity: 1.0000\n"
     ]
    },
    {
     "name": "stderr",
     "output_type": "stream",
     "text": [
      "/home/gonken/anaconda3/envs/torch/lib/python3.12/site-packages/sklearn/metrics/_classification.py:1531: UndefinedMetricWarning: Precision is ill-defined and being set to 0.0 due to no predicted samples. Use `zero_division` parameter to control this behavior.\n",
      "  _warn_prf(average, modifier, f\"{metric.capitalize()} is\", len(result))\n",
      "[I 2024-11-28 20:11:21,293] Trial 48 finished with value: 0.0 and parameters: {'num_heads': 2, 'num_layers': 3, 'd_model': 64, 'dropout': 0.4, 'learning_rate': 0.004863697187720049, 'weight_decay': 0.07340489235873472}. Best is trial 44 with value: 0.629156010230179.\n",
      "/tmp/ipykernel_187418/1883078025.py:10: FutureWarning: suggest_loguniform has been deprecated in v3.0.0. This feature will be removed in v6.0.0. See https://github.com/optuna/optuna/releases/tag/v3.0.0. Use suggest_float(..., log=True) instead.\n",
      "  learning_rate = trial.suggest_loguniform('learning_rate', 1e-5, 1e-1)\n",
      "/tmp/ipykernel_187418/1883078025.py:11: FutureWarning: suggest_loguniform has been deprecated in v3.0.0. This feature will be removed in v6.0.0. See https://github.com/optuna/optuna/releases/tag/v3.0.0. Use suggest_float(..., log=True) instead.\n",
      "  weight_decay=trial.suggest_loguniform('weight_decay', 1e-5, 1e-1)\n",
      "/home/gonken/anaconda3/envs/torch/lib/python3.12/site-packages/torch/nn/modules/transformer.py:379: UserWarning: enable_nested_tensor is True, but self.use_nested_tensor is False because encoder_layer.self_attn.batch_first was not True(use batch_first for better inference performance)\n",
      "  warnings.warn(\n"
     ]
    },
    {
     "name": "stdout",
     "output_type": "stream",
     "text": [
      "Accuracy: 64.10%\n",
      "Precision: 0.0000\n",
      "Recall: 0.0000\n",
      "F1 Score: 0.0000\n",
      "Matthews Correlation Coefficient: 0.0000\n",
      "Specificity: 1.0000\n"
     ]
    },
    {
     "name": "stderr",
     "output_type": "stream",
     "text": [
      "[I 2024-11-28 20:12:50,203] Trial 49 finished with value: 0.4864864864864865 and parameters: {'num_heads': 2, 'num_layers': 2, 'd_model': 64, 'dropout': 0.45000000000000007, 'learning_rate': 2.4102494563828798e-05, 'weight_decay': 7.774532225127663e-05}. Best is trial 44 with value: 0.629156010230179.\n"
     ]
    },
    {
     "name": "stdout",
     "output_type": "stream",
     "text": [
      "Accuracy: 62.11%\n",
      "Precision: 0.4737\n",
      "Recall: 0.5000\n",
      "F1 Score: 0.4865\n",
      "Matthews Correlation Coefficient: 0.1868\n",
      "Specificity: 0.6889\n"
     ]
    },
    {
     "name": "stderr",
     "output_type": "stream",
     "text": [
      "/tmp/ipykernel_187418/1883078025.py:10: FutureWarning: suggest_loguniform has been deprecated in v3.0.0. This feature will be removed in v6.0.0. See https://github.com/optuna/optuna/releases/tag/v3.0.0. Use suggest_float(..., log=True) instead.\n",
      "  learning_rate = trial.suggest_loguniform('learning_rate', 1e-5, 1e-1)\n",
      "/tmp/ipykernel_187418/1883078025.py:11: FutureWarning: suggest_loguniform has been deprecated in v3.0.0. This feature will be removed in v6.0.0. See https://github.com/optuna/optuna/releases/tag/v3.0.0. Use suggest_float(..., log=True) instead.\n",
      "  weight_decay=trial.suggest_loguniform('weight_decay', 1e-5, 1e-1)\n",
      "/home/gonken/anaconda3/envs/torch/lib/python3.12/site-packages/torch/nn/modules/transformer.py:379: UserWarning: enable_nested_tensor is True, but self.use_nested_tensor is False because encoder_layer.self_attn.batch_first was not True(use batch_first for better inference performance)\n",
      "  warnings.warn(\n",
      "[I 2024-11-28 20:13:47,106] Trial 50 finished with value: 0.6256410256410256 and parameters: {'num_heads': 2, 'num_layers': 1, 'd_model': 64, 'dropout': 0.4, 'learning_rate': 0.0018891289694590154, 'weight_decay': 4.4009251190982556e-05}. Best is trial 44 with value: 0.629156010230179.\n"
     ]
    },
    {
     "name": "stdout",
     "output_type": "stream",
     "text": [
      "Accuracy: 58.40%\n",
      "Precision: 0.4621\n",
      "Recall: 0.9683\n",
      "F1 Score: 0.6256\n",
      "Matthews Correlation Coefficient: 0.3746\n",
      "Specificity: 0.3689\n"
     ]
    },
    {
     "name": "stderr",
     "output_type": "stream",
     "text": [
      "/tmp/ipykernel_187418/1883078025.py:10: FutureWarning: suggest_loguniform has been deprecated in v3.0.0. This feature will be removed in v6.0.0. See https://github.com/optuna/optuna/releases/tag/v3.0.0. Use suggest_float(..., log=True) instead.\n",
      "  learning_rate = trial.suggest_loguniform('learning_rate', 1e-5, 1e-1)\n",
      "/tmp/ipykernel_187418/1883078025.py:11: FutureWarning: suggest_loguniform has been deprecated in v3.0.0. This feature will be removed in v6.0.0. See https://github.com/optuna/optuna/releases/tag/v3.0.0. Use suggest_float(..., log=True) instead.\n",
      "  weight_decay=trial.suggest_loguniform('weight_decay', 1e-5, 1e-1)\n",
      "/home/gonken/anaconda3/envs/torch/lib/python3.12/site-packages/torch/nn/modules/transformer.py:379: UserWarning: enable_nested_tensor is True, but self.use_nested_tensor is False because encoder_layer.self_attn.batch_first was not True(use batch_first for better inference performance)\n",
      "  warnings.warn(\n",
      "[I 2024-11-28 20:14:44,581] Trial 51 finished with value: 0.6278481012658228 and parameters: {'num_heads': 2, 'num_layers': 1, 'd_model': 64, 'dropout': 0.4, 'learning_rate': 0.0020960473699680863, 'weight_decay': 4.4281647115412266e-05}. Best is trial 44 with value: 0.629156010230179.\n"
     ]
    },
    {
     "name": "stdout",
     "output_type": "stream",
     "text": [
      "Accuracy: 58.12%\n",
      "Precision: 0.4610\n",
      "Recall: 0.9841\n",
      "F1 Score: 0.6278\n",
      "Matthews Correlation Coefficient: 0.3851\n",
      "Specificity: 0.3556\n"
     ]
    },
    {
     "name": "stderr",
     "output_type": "stream",
     "text": [
      "/tmp/ipykernel_187418/1883078025.py:10: FutureWarning: suggest_loguniform has been deprecated in v3.0.0. This feature will be removed in v6.0.0. See https://github.com/optuna/optuna/releases/tag/v3.0.0. Use suggest_float(..., log=True) instead.\n",
      "  learning_rate = trial.suggest_loguniform('learning_rate', 1e-5, 1e-1)\n",
      "/tmp/ipykernel_187418/1883078025.py:11: FutureWarning: suggest_loguniform has been deprecated in v3.0.0. This feature will be removed in v6.0.0. See https://github.com/optuna/optuna/releases/tag/v3.0.0. Use suggest_float(..., log=True) instead.\n",
      "  weight_decay=trial.suggest_loguniform('weight_decay', 1e-5, 1e-1)\n",
      "/home/gonken/anaconda3/envs/torch/lib/python3.12/site-packages/torch/nn/modules/transformer.py:379: UserWarning: enable_nested_tensor is True, but self.use_nested_tensor is False because encoder_layer.self_attn.batch_first was not True(use batch_first for better inference performance)\n",
      "  warnings.warn(\n",
      "[I 2024-11-28 20:15:43,094] Trial 52 finished with value: 0.37320574162679426 and parameters: {'num_heads': 2, 'num_layers': 1, 'd_model': 64, 'dropout': 0.4, 'learning_rate': 0.0009499671663674118, 'weight_decay': 0.0001144569762982596}. Best is trial 44 with value: 0.629156010230179.\n"
     ]
    },
    {
     "name": "stdout",
     "output_type": "stream",
     "text": [
      "Accuracy: 62.68%\n",
      "Precision: 0.4699\n",
      "Recall: 0.3095\n",
      "F1 Score: 0.3732\n",
      "Matthews Correlation Coefficient: 0.1287\n",
      "Specificity: 0.8044\n"
     ]
    },
    {
     "name": "stderr",
     "output_type": "stream",
     "text": [
      "/tmp/ipykernel_187418/1883078025.py:10: FutureWarning: suggest_loguniform has been deprecated in v3.0.0. This feature will be removed in v6.0.0. See https://github.com/optuna/optuna/releases/tag/v3.0.0. Use suggest_float(..., log=True) instead.\n",
      "  learning_rate = trial.suggest_loguniform('learning_rate', 1e-5, 1e-1)\n",
      "/tmp/ipykernel_187418/1883078025.py:11: FutureWarning: suggest_loguniform has been deprecated in v3.0.0. This feature will be removed in v6.0.0. See https://github.com/optuna/optuna/releases/tag/v3.0.0. Use suggest_float(..., log=True) instead.\n",
      "  weight_decay=trial.suggest_loguniform('weight_decay', 1e-5, 1e-1)\n",
      "/home/gonken/anaconda3/envs/torch/lib/python3.12/site-packages/torch/nn/modules/transformer.py:379: UserWarning: enable_nested_tensor is True, but self.use_nested_tensor is False because encoder_layer.self_attn.batch_first was not True(use batch_first for better inference performance)\n",
      "  warnings.warn(\n",
      "[I 2024-11-28 20:16:40,161] Trial 53 finished with value: 0.6212121212121212 and parameters: {'num_heads': 2, 'num_layers': 1, 'd_model': 64, 'dropout': 0.5, 'learning_rate': 0.005492502706868457, 'weight_decay': 5.453475845248369e-05}. Best is trial 44 with value: 0.629156010230179.\n"
     ]
    },
    {
     "name": "stdout",
     "output_type": "stream",
     "text": [
      "Accuracy: 57.26%\n",
      "Precision: 0.4556\n",
      "Recall: 0.9762\n",
      "F1 Score: 0.6212\n",
      "Matthews Correlation Coefficient: 0.3676\n",
      "Specificity: 0.3467\n"
     ]
    },
    {
     "name": "stderr",
     "output_type": "stream",
     "text": [
      "/tmp/ipykernel_187418/1883078025.py:10: FutureWarning: suggest_loguniform has been deprecated in v3.0.0. This feature will be removed in v6.0.0. See https://github.com/optuna/optuna/releases/tag/v3.0.0. Use suggest_float(..., log=True) instead.\n",
      "  learning_rate = trial.suggest_loguniform('learning_rate', 1e-5, 1e-1)\n",
      "/tmp/ipykernel_187418/1883078025.py:11: FutureWarning: suggest_loguniform has been deprecated in v3.0.0. This feature will be removed in v6.0.0. See https://github.com/optuna/optuna/releases/tag/v3.0.0. Use suggest_float(..., log=True) instead.\n",
      "  weight_decay=trial.suggest_loguniform('weight_decay', 1e-5, 1e-1)\n",
      "/home/gonken/anaconda3/envs/torch/lib/python3.12/site-packages/torch/nn/modules/transformer.py:379: UserWarning: enable_nested_tensor is True, but self.use_nested_tensor is False because encoder_layer.self_attn.batch_first was not True(use batch_first for better inference performance)\n",
      "  warnings.warn(\n",
      "[I 2024-11-28 20:17:37,375] Trial 54 finished with value: 0.6278481012658228 and parameters: {'num_heads': 2, 'num_layers': 1, 'd_model': 64, 'dropout': 0.45000000000000007, 'learning_rate': 0.002387540415817755, 'weight_decay': 3.250618661866258e-05}. Best is trial 44 with value: 0.629156010230179.\n"
     ]
    },
    {
     "name": "stdout",
     "output_type": "stream",
     "text": [
      "Accuracy: 58.12%\n",
      "Precision: 0.4610\n",
      "Recall: 0.9841\n",
      "F1 Score: 0.6278\n",
      "Matthews Correlation Coefficient: 0.3851\n",
      "Specificity: 0.3556\n"
     ]
    },
    {
     "name": "stderr",
     "output_type": "stream",
     "text": [
      "/tmp/ipykernel_187418/1883078025.py:10: FutureWarning: suggest_loguniform has been deprecated in v3.0.0. This feature will be removed in v6.0.0. See https://github.com/optuna/optuna/releases/tag/v3.0.0. Use suggest_float(..., log=True) instead.\n",
      "  learning_rate = trial.suggest_loguniform('learning_rate', 1e-5, 1e-1)\n",
      "/tmp/ipykernel_187418/1883078025.py:11: FutureWarning: suggest_loguniform has been deprecated in v3.0.0. This feature will be removed in v6.0.0. See https://github.com/optuna/optuna/releases/tag/v3.0.0. Use suggest_float(..., log=True) instead.\n",
      "  weight_decay=trial.suggest_loguniform('weight_decay', 1e-5, 1e-1)\n",
      "/home/gonken/anaconda3/envs/torch/lib/python3.12/site-packages/torch/nn/modules/transformer.py:379: UserWarning: enable_nested_tensor is True, but self.use_nested_tensor is False because encoder_layer.self_attn.batch_first was not True(use batch_first for better inference performance)\n",
      "  warnings.warn(\n",
      "[I 2024-11-28 20:18:35,060] Trial 55 finished with value: 0.6194225721784777 and parameters: {'num_heads': 2, 'num_layers': 1, 'd_model': 64, 'dropout': 0.45000000000000007, 'learning_rate': 0.002050408144806324, 'weight_decay': 1.0504249268016565e-05}. Best is trial 44 with value: 0.629156010230179.\n"
     ]
    },
    {
     "name": "stdout",
     "output_type": "stream",
     "text": [
      "Accuracy: 58.69%\n",
      "Precision: 0.4627\n",
      "Recall: 0.9365\n",
      "F1 Score: 0.6194\n",
      "Matthews Correlation Coefficient: 0.3526\n",
      "Specificity: 0.3911\n"
     ]
    },
    {
     "name": "stderr",
     "output_type": "stream",
     "text": [
      "/tmp/ipykernel_187418/1883078025.py:10: FutureWarning: suggest_loguniform has been deprecated in v3.0.0. This feature will be removed in v6.0.0. See https://github.com/optuna/optuna/releases/tag/v3.0.0. Use suggest_float(..., log=True) instead.\n",
      "  learning_rate = trial.suggest_loguniform('learning_rate', 1e-5, 1e-1)\n",
      "/tmp/ipykernel_187418/1883078025.py:11: FutureWarning: suggest_loguniform has been deprecated in v3.0.0. This feature will be removed in v6.0.0. See https://github.com/optuna/optuna/releases/tag/v3.0.0. Use suggest_float(..., log=True) instead.\n",
      "  weight_decay=trial.suggest_loguniform('weight_decay', 1e-5, 1e-1)\n",
      "/home/gonken/anaconda3/envs/torch/lib/python3.12/site-packages/torch/nn/modules/transformer.py:379: UserWarning: enable_nested_tensor is True, but self.use_nested_tensor is False because encoder_layer.self_attn.batch_first was not True(use batch_first for better inference performance)\n",
      "  warnings.warn(\n",
      "[I 2024-11-28 20:20:03,168] Trial 56 finished with value: 0.6296296296296297 and parameters: {'num_heads': 8, 'num_layers': 2, 'd_model': 64, 'dropout': 0.5, 'learning_rate': 0.0005030376171517505, 'weight_decay': 3.874607516412006e-05}. Best is trial 56 with value: 0.6296296296296297.\n"
     ]
    },
    {
     "name": "stdout",
     "output_type": "stream",
     "text": [
      "Accuracy: 60.11%\n",
      "Precision: 0.4722\n",
      "Recall: 0.9444\n",
      "F1 Score: 0.6296\n",
      "Matthews Correlation Coefficient: 0.3767\n",
      "Specificity: 0.4089\n"
     ]
    },
    {
     "name": "stderr",
     "output_type": "stream",
     "text": [
      "/tmp/ipykernel_187418/1883078025.py:10: FutureWarning: suggest_loguniform has been deprecated in v3.0.0. This feature will be removed in v6.0.0. See https://github.com/optuna/optuna/releases/tag/v3.0.0. Use suggest_float(..., log=True) instead.\n",
      "  learning_rate = trial.suggest_loguniform('learning_rate', 1e-5, 1e-1)\n",
      "/tmp/ipykernel_187418/1883078025.py:11: FutureWarning: suggest_loguniform has been deprecated in v3.0.0. This feature will be removed in v6.0.0. See https://github.com/optuna/optuna/releases/tag/v3.0.0. Use suggest_float(..., log=True) instead.\n",
      "  weight_decay=trial.suggest_loguniform('weight_decay', 1e-5, 1e-1)\n",
      "/home/gonken/anaconda3/envs/torch/lib/python3.12/site-packages/torch/nn/modules/transformer.py:379: UserWarning: enable_nested_tensor is True, but self.use_nested_tensor is False because encoder_layer.self_attn.batch_first was not True(use batch_first for better inference performance)\n",
      "  warnings.warn(\n",
      "[I 2024-11-28 20:21:31,583] Trial 57 finished with value: 0.26229508196721313 and parameters: {'num_heads': 8, 'num_layers': 2, 'd_model': 64, 'dropout': 0.5, 'learning_rate': 0.00020253642535306225, 'weight_decay': 2.2328762997016564e-05}. Best is trial 56 with value: 0.6296296296296297.\n"
     ]
    },
    {
     "name": "stdout",
     "output_type": "stream",
     "text": [
      "Accuracy: 61.54%\n",
      "Precision: 0.4211\n",
      "Recall: 0.1905\n",
      "F1 Score: 0.2623\n",
      "Matthews Correlation Coefficient: 0.0570\n",
      "Specificity: 0.8533\n"
     ]
    },
    {
     "name": "stderr",
     "output_type": "stream",
     "text": [
      "/tmp/ipykernel_187418/1883078025.py:10: FutureWarning: suggest_loguniform has been deprecated in v3.0.0. This feature will be removed in v6.0.0. See https://github.com/optuna/optuna/releases/tag/v3.0.0. Use suggest_float(..., log=True) instead.\n",
      "  learning_rate = trial.suggest_loguniform('learning_rate', 1e-5, 1e-1)\n",
      "/tmp/ipykernel_187418/1883078025.py:11: FutureWarning: suggest_loguniform has been deprecated in v3.0.0. This feature will be removed in v6.0.0. See https://github.com/optuna/optuna/releases/tag/v3.0.0. Use suggest_float(..., log=True) instead.\n",
      "  weight_decay=trial.suggest_loguniform('weight_decay', 1e-5, 1e-1)\n",
      "/home/gonken/anaconda3/envs/torch/lib/python3.12/site-packages/torch/nn/modules/transformer.py:379: UserWarning: enable_nested_tensor is True, but self.use_nested_tensor is False because encoder_layer.self_attn.batch_first was not True(use batch_first for better inference performance)\n",
      "  warnings.warn(\n",
      "[I 2024-11-28 20:23:01,901] Trial 58 finished with value: 0.5813953488372093 and parameters: {'num_heads': 8, 'num_layers': 2, 'd_model': 64, 'dropout': 0.5, 'learning_rate': 0.0005456554084102742, 'weight_decay': 1.4797717595174252e-05}. Best is trial 56 with value: 0.6296296296296297.\n"
     ]
    },
    {
     "name": "stdout",
     "output_type": "stream",
     "text": [
      "Accuracy: 58.97%\n",
      "Precision: 0.4587\n",
      "Recall: 0.7937\n",
      "F1 Score: 0.5814\n",
      "Matthews Correlation Coefficient: 0.2662\n",
      "Specificity: 0.4756\n"
     ]
    },
    {
     "name": "stderr",
     "output_type": "stream",
     "text": [
      "/tmp/ipykernel_187418/1883078025.py:10: FutureWarning: suggest_loguniform has been deprecated in v3.0.0. This feature will be removed in v6.0.0. See https://github.com/optuna/optuna/releases/tag/v3.0.0. Use suggest_float(..., log=True) instead.\n",
      "  learning_rate = trial.suggest_loguniform('learning_rate', 1e-5, 1e-1)\n",
      "/tmp/ipykernel_187418/1883078025.py:11: FutureWarning: suggest_loguniform has been deprecated in v3.0.0. This feature will be removed in v6.0.0. See https://github.com/optuna/optuna/releases/tag/v3.0.0. Use suggest_float(..., log=True) instead.\n",
      "  weight_decay=trial.suggest_loguniform('weight_decay', 1e-5, 1e-1)\n",
      "/home/gonken/anaconda3/envs/torch/lib/python3.12/site-packages/torch/nn/modules/transformer.py:379: UserWarning: enable_nested_tensor is True, but self.use_nested_tensor is False because encoder_layer.self_attn.batch_first was not True(use batch_first for better inference performance)\n",
      "  warnings.warn(\n",
      "[I 2024-11-28 20:24:40,088] Trial 59 finished with value: 0.37383177570093457 and parameters: {'num_heads': 8, 'num_layers': 2, 'd_model': 64, 'dropout': 0.5, 'learning_rate': 0.00012188688763609214, 'weight_decay': 8.008775324544194e-05}. Best is trial 56 with value: 0.6296296296296297.\n"
     ]
    },
    {
     "name": "stdout",
     "output_type": "stream",
     "text": [
      "Accuracy: 61.82%\n",
      "Precision: 0.4545\n",
      "Recall: 0.3175\n",
      "F1 Score: 0.3738\n",
      "Matthews Correlation Coefficient: 0.1152\n",
      "Specificity: 0.7867\n"
     ]
    },
    {
     "name": "stderr",
     "output_type": "stream",
     "text": [
      "/tmp/ipykernel_187418/1883078025.py:10: FutureWarning: suggest_loguniform has been deprecated in v3.0.0. This feature will be removed in v6.0.0. See https://github.com/optuna/optuna/releases/tag/v3.0.0. Use suggest_float(..., log=True) instead.\n",
      "  learning_rate = trial.suggest_loguniform('learning_rate', 1e-5, 1e-1)\n",
      "/tmp/ipykernel_187418/1883078025.py:11: FutureWarning: suggest_loguniform has been deprecated in v3.0.0. This feature will be removed in v6.0.0. See https://github.com/optuna/optuna/releases/tag/v3.0.0. Use suggest_float(..., log=True) instead.\n",
      "  weight_decay=trial.suggest_loguniform('weight_decay', 1e-5, 1e-1)\n",
      "/home/gonken/anaconda3/envs/torch/lib/python3.12/site-packages/torch/nn/modules/transformer.py:379: UserWarning: enable_nested_tensor is True, but self.use_nested_tensor is False because encoder_layer.self_attn.batch_first was not True(use batch_first for better inference performance)\n",
      "  warnings.warn(\n",
      "[I 2024-11-28 20:26:33,148] Trial 60 finished with value: 0.5983379501385041 and parameters: {'num_heads': 8, 'num_layers': 2, 'd_model': 128, 'dropout': 0.1, 'learning_rate': 0.0007556673313358297, 'weight_decay': 3.812584061036375e-05}. Best is trial 56 with value: 0.6296296296296297.\n"
     ]
    },
    {
     "name": "stdout",
     "output_type": "stream",
     "text": [
      "Accuracy: 58.69%\n",
      "Precision: 0.4596\n",
      "Recall: 0.8571\n",
      "F1 Score: 0.5983\n",
      "Matthews Correlation Coefficient: 0.2985\n",
      "Specificity: 0.4356\n"
     ]
    },
    {
     "name": "stderr",
     "output_type": "stream",
     "text": [
      "/tmp/ipykernel_187418/1883078025.py:10: FutureWarning: suggest_loguniform has been deprecated in v3.0.0. This feature will be removed in v6.0.0. See https://github.com/optuna/optuna/releases/tag/v3.0.0. Use suggest_float(..., log=True) instead.\n",
      "  learning_rate = trial.suggest_loguniform('learning_rate', 1e-5, 1e-1)\n",
      "/tmp/ipykernel_187418/1883078025.py:11: FutureWarning: suggest_loguniform has been deprecated in v3.0.0. This feature will be removed in v6.0.0. See https://github.com/optuna/optuna/releases/tag/v3.0.0. Use suggest_float(..., log=True) instead.\n",
      "  weight_decay=trial.suggest_loguniform('weight_decay', 1e-5, 1e-1)\n",
      "/home/gonken/anaconda3/envs/torch/lib/python3.12/site-packages/torch/nn/modules/transformer.py:379: UserWarning: enable_nested_tensor is True, but self.use_nested_tensor is False because encoder_layer.self_attn.batch_first was not True(use batch_first for better inference performance)\n",
      "  warnings.warn(\n",
      "[I 2024-11-28 20:27:53,829] Trial 61 finished with value: 0.6206896551724138 and parameters: {'num_heads': 8, 'num_layers': 1, 'd_model': 64, 'dropout': 0.45000000000000007, 'learning_rate': 0.0012192605131725752, 'weight_decay': 3.066567441998423e-05}. Best is trial 56 with value: 0.6296296296296297.\n"
     ]
    },
    {
     "name": "stdout",
     "output_type": "stream",
     "text": [
      "Accuracy: 62.39%\n",
      "Precision: 0.4865\n",
      "Recall: 0.8571\n",
      "F1 Score: 0.6207\n",
      "Matthews Correlation Coefficient: 0.3487\n",
      "Specificity: 0.4933\n"
     ]
    },
    {
     "name": "stderr",
     "output_type": "stream",
     "text": [
      "/tmp/ipykernel_187418/1883078025.py:10: FutureWarning: suggest_loguniform has been deprecated in v3.0.0. This feature will be removed in v6.0.0. See https://github.com/optuna/optuna/releases/tag/v3.0.0. Use suggest_float(..., log=True) instead.\n",
      "  learning_rate = trial.suggest_loguniform('learning_rate', 1e-5, 1e-1)\n",
      "/tmp/ipykernel_187418/1883078025.py:11: FutureWarning: suggest_loguniform has been deprecated in v3.0.0. This feature will be removed in v6.0.0. See https://github.com/optuna/optuna/releases/tag/v3.0.0. Use suggest_float(..., log=True) instead.\n",
      "  weight_decay=trial.suggest_loguniform('weight_decay', 1e-5, 1e-1)\n",
      "/home/gonken/anaconda3/envs/torch/lib/python3.12/site-packages/torch/nn/modules/transformer.py:379: UserWarning: enable_nested_tensor is True, but self.use_nested_tensor is False because encoder_layer.self_attn.batch_first was not True(use batch_first for better inference performance)\n",
      "  warnings.warn(\n",
      "/home/gonken/anaconda3/envs/torch/lib/python3.12/site-packages/sklearn/metrics/_classification.py:1531: UndefinedMetricWarning: Precision is ill-defined and being set to 0.0 due to no predicted samples. Use `zero_division` parameter to control this behavior.\n",
      "  _warn_prf(average, modifier, f\"{metric.capitalize()} is\", len(result))\n",
      "[I 2024-11-28 20:31:02,851] Trial 62 finished with value: 0.0 and parameters: {'num_heads': 2, 'num_layers': 4, 'd_model': 64, 'dropout': 0.45000000000000007, 'learning_rate': 0.0032871394869461302, 'weight_decay': 5.9559139513829495e-05}. Best is trial 56 with value: 0.6296296296296297.\n",
      "/tmp/ipykernel_187418/1883078025.py:10: FutureWarning: suggest_loguniform has been deprecated in v3.0.0. This feature will be removed in v6.0.0. See https://github.com/optuna/optuna/releases/tag/v3.0.0. Use suggest_float(..., log=True) instead.\n",
      "  learning_rate = trial.suggest_loguniform('learning_rate', 1e-5, 1e-1)\n",
      "/tmp/ipykernel_187418/1883078025.py:11: FutureWarning: suggest_loguniform has been deprecated in v3.0.0. This feature will be removed in v6.0.0. See https://github.com/optuna/optuna/releases/tag/v3.0.0. Use suggest_float(..., log=True) instead.\n",
      "  weight_decay=trial.suggest_loguniform('weight_decay', 1e-5, 1e-1)\n",
      "/home/gonken/anaconda3/envs/torch/lib/python3.12/site-packages/torch/nn/modules/transformer.py:379: UserWarning: enable_nested_tensor is True, but self.use_nested_tensor is False because encoder_layer.self_attn.batch_first was not True(use batch_first for better inference performance)\n",
      "  warnings.warn(\n"
     ]
    },
    {
     "name": "stdout",
     "output_type": "stream",
     "text": [
      "Accuracy: 64.10%\n",
      "Precision: 0.0000\n",
      "Recall: 0.0000\n",
      "F1 Score: 0.0000\n",
      "Matthews Correlation Coefficient: 0.0000\n",
      "Specificity: 1.0000\n"
     ]
    },
    {
     "name": "stderr",
     "output_type": "stream",
     "text": [
      "[I 2024-11-28 20:32:22,088] Trial 63 finished with value: 0.6176470588235294 and parameters: {'num_heads': 2, 'num_layers': 1, 'd_model': 64, 'dropout': 0.45000000000000007, 'learning_rate': 0.010530276266062106, 'weight_decay': 3.9329020003757035e-05}. Best is trial 56 with value: 0.6296296296296297.\n"
     ]
    },
    {
     "name": "stdout",
     "output_type": "stream",
     "text": [
      "Accuracy: 55.56%\n",
      "Precision: 0.4468\n",
      "Recall: 1.0000\n",
      "F1 Score: 0.6176\n",
      "Matthews Correlation Coefficient: 0.3702\n",
      "Specificity: 0.3067\n"
     ]
    },
    {
     "name": "stderr",
     "output_type": "stream",
     "text": [
      "/tmp/ipykernel_187418/1883078025.py:10: FutureWarning: suggest_loguniform has been deprecated in v3.0.0. This feature will be removed in v6.0.0. See https://github.com/optuna/optuna/releases/tag/v3.0.0. Use suggest_float(..., log=True) instead.\n",
      "  learning_rate = trial.suggest_loguniform('learning_rate', 1e-5, 1e-1)\n",
      "/tmp/ipykernel_187418/1883078025.py:11: FutureWarning: suggest_loguniform has been deprecated in v3.0.0. This feature will be removed in v6.0.0. See https://github.com/optuna/optuna/releases/tag/v3.0.0. Use suggest_float(..., log=True) instead.\n",
      "  weight_decay=trial.suggest_loguniform('weight_decay', 1e-5, 1e-1)\n",
      "/home/gonken/anaconda3/envs/torch/lib/python3.12/site-packages/torch/nn/modules/transformer.py:379: UserWarning: enable_nested_tensor is True, but self.use_nested_tensor is False because encoder_layer.self_attn.batch_first was not True(use batch_first for better inference performance)\n",
      "  warnings.warn(\n",
      "[I 2024-11-28 20:33:41,599] Trial 64 finished with value: 0.46774193548387094 and parameters: {'num_heads': 8, 'num_layers': 1, 'd_model': 64, 'dropout': 0.4, 'learning_rate': 0.00026992472777866237, 'weight_decay': 0.0001001491725944152}. Best is trial 56 with value: 0.6296296296296297.\n"
     ]
    },
    {
     "name": "stdout",
     "output_type": "stream",
     "text": [
      "Accuracy: 62.39%\n",
      "Precision: 0.4754\n",
      "Recall: 0.4603\n",
      "F1 Score: 0.4677\n",
      "Matthews Correlation Coefficient: 0.1772\n",
      "Specificity: 0.7156\n"
     ]
    },
    {
     "name": "stderr",
     "output_type": "stream",
     "text": [
      "/tmp/ipykernel_187418/1883078025.py:10: FutureWarning: suggest_loguniform has been deprecated in v3.0.0. This feature will be removed in v6.0.0. See https://github.com/optuna/optuna/releases/tag/v3.0.0. Use suggest_float(..., log=True) instead.\n",
      "  learning_rate = trial.suggest_loguniform('learning_rate', 1e-5, 1e-1)\n",
      "/tmp/ipykernel_187418/1883078025.py:11: FutureWarning: suggest_loguniform has been deprecated in v3.0.0. This feature will be removed in v6.0.0. See https://github.com/optuna/optuna/releases/tag/v3.0.0. Use suggest_float(..., log=True) instead.\n",
      "  weight_decay=trial.suggest_loguniform('weight_decay', 1e-5, 1e-1)\n",
      "/home/gonken/anaconda3/envs/torch/lib/python3.12/site-packages/torch/nn/modules/transformer.py:379: UserWarning: enable_nested_tensor is True, but self.use_nested_tensor is False because encoder_layer.self_attn.batch_first was not True(use batch_first for better inference performance)\n",
      "  warnings.warn(\n",
      "[I 2024-11-28 20:35:01,570] Trial 65 finished with value: 0.6217616580310881 and parameters: {'num_heads': 2, 'num_layers': 1, 'd_model': 64, 'dropout': 0.5, 'learning_rate': 0.001416006923875345, 'weight_decay': 1.99726713739938e-05}. Best is trial 56 with value: 0.6296296296296297.\n"
     ]
    },
    {
     "name": "stdout",
     "output_type": "stream",
     "text": [
      "Accuracy: 58.40%\n",
      "Precision: 0.4615\n",
      "Recall: 0.9524\n",
      "F1 Score: 0.6218\n",
      "Matthews Correlation Coefficient: 0.3614\n",
      "Specificity: 0.3778\n"
     ]
    },
    {
     "name": "stderr",
     "output_type": "stream",
     "text": [
      "/tmp/ipykernel_187418/1883078025.py:10: FutureWarning: suggest_loguniform has been deprecated in v3.0.0. This feature will be removed in v6.0.0. See https://github.com/optuna/optuna/releases/tag/v3.0.0. Use suggest_float(..., log=True) instead.\n",
      "  learning_rate = trial.suggest_loguniform('learning_rate', 1e-5, 1e-1)\n",
      "/tmp/ipykernel_187418/1883078025.py:11: FutureWarning: suggest_loguniform has been deprecated in v3.0.0. This feature will be removed in v6.0.0. See https://github.com/optuna/optuna/releases/tag/v3.0.0. Use suggest_float(..., log=True) instead.\n",
      "  weight_decay=trial.suggest_loguniform('weight_decay', 1e-5, 1e-1)\n",
      "/home/gonken/anaconda3/envs/torch/lib/python3.12/site-packages/torch/nn/modules/transformer.py:379: UserWarning: enable_nested_tensor is True, but self.use_nested_tensor is False because encoder_layer.self_attn.batch_first was not True(use batch_first for better inference performance)\n",
      "  warnings.warn(\n",
      "/home/gonken/anaconda3/envs/torch/lib/python3.12/site-packages/sklearn/metrics/_classification.py:1531: UndefinedMetricWarning: Precision is ill-defined and being set to 0.0 due to no predicted samples. Use `zero_division` parameter to control this behavior.\n",
      "  _warn_prf(average, modifier, f\"{metric.capitalize()} is\", len(result))\n",
      "[I 2024-11-28 20:36:18,800] Trial 66 finished with value: 0.0 and parameters: {'num_heads': 8, 'num_layers': 1, 'd_model': 32, 'dropout': 0.15000000000000002, 'learning_rate': 0.006559421416325905, 'weight_decay': 2.911685726011695e-05}. Best is trial 56 with value: 0.6296296296296297.\n",
      "/tmp/ipykernel_187418/1883078025.py:10: FutureWarning: suggest_loguniform has been deprecated in v3.0.0. This feature will be removed in v6.0.0. See https://github.com/optuna/optuna/releases/tag/v3.0.0. Use suggest_float(..., log=True) instead.\n",
      "  learning_rate = trial.suggest_loguniform('learning_rate', 1e-5, 1e-1)\n",
      "/tmp/ipykernel_187418/1883078025.py:11: FutureWarning: suggest_loguniform has been deprecated in v3.0.0. This feature will be removed in v6.0.0. See https://github.com/optuna/optuna/releases/tag/v3.0.0. Use suggest_float(..., log=True) instead.\n",
      "  weight_decay=trial.suggest_loguniform('weight_decay', 1e-5, 1e-1)\n",
      "/home/gonken/anaconda3/envs/torch/lib/python3.12/site-packages/torch/nn/modules/transformer.py:379: UserWarning: enable_nested_tensor is True, but self.use_nested_tensor is False because encoder_layer.self_attn.batch_first was not True(use batch_first for better inference performance)\n",
      "  warnings.warn(\n"
     ]
    },
    {
     "name": "stdout",
     "output_type": "stream",
     "text": [
      "Accuracy: 64.10%\n",
      "Precision: 0.0000\n",
      "Recall: 0.0000\n",
      "F1 Score: 0.0000\n",
      "Matthews Correlation Coefficient: 0.0000\n",
      "Specificity: 1.0000\n"
     ]
    },
    {
     "name": "stderr",
     "output_type": "stream",
     "text": [
      "[I 2024-11-28 20:37:34,874] Trial 67 finished with value: 0.6118251928020566 and parameters: {'num_heads': 2, 'num_layers': 1, 'd_model': 64, 'dropout': 0.35, 'learning_rate': 0.0024317096507926778, 'weight_decay': 7.046654805734114e-05}. Best is trial 56 with value: 0.6296296296296297.\n"
     ]
    },
    {
     "name": "stdout",
     "output_type": "stream",
     "text": [
      "Accuracy: 56.98%\n",
      "Precision: 0.4525\n",
      "Recall: 0.9444\n",
      "F1 Score: 0.6118\n",
      "Matthews Correlation Coefficient: 0.3369\n",
      "Specificity: 0.3600\n"
     ]
    },
    {
     "name": "stderr",
     "output_type": "stream",
     "text": [
      "/tmp/ipykernel_187418/1883078025.py:10: FutureWarning: suggest_loguniform has been deprecated in v3.0.0. This feature will be removed in v6.0.0. See https://github.com/optuna/optuna/releases/tag/v3.0.0. Use suggest_float(..., log=True) instead.\n",
      "  learning_rate = trial.suggest_loguniform('learning_rate', 1e-5, 1e-1)\n",
      "/tmp/ipykernel_187418/1883078025.py:11: FutureWarning: suggest_loguniform has been deprecated in v3.0.0. This feature will be removed in v6.0.0. See https://github.com/optuna/optuna/releases/tag/v3.0.0. Use suggest_float(..., log=True) instead.\n",
      "  weight_decay=trial.suggest_loguniform('weight_decay', 1e-5, 1e-1)\n",
      "/home/gonken/anaconda3/envs/torch/lib/python3.12/site-packages/torch/nn/modules/transformer.py:379: UserWarning: enable_nested_tensor is True, but self.use_nested_tensor is False because encoder_layer.self_attn.batch_first was not True(use batch_first for better inference performance)\n",
      "  warnings.warn(\n",
      "[I 2024-11-28 20:38:51,775] Trial 68 finished with value: 0.5569620253164557 and parameters: {'num_heads': 8, 'num_layers': 1, 'd_model': 32, 'dropout': 0.45000000000000007, 'learning_rate': 0.0004380230031520289, 'weight_decay': 1.3434288868192101e-05}. Best is trial 56 with value: 0.6296296296296297.\n"
     ]
    },
    {
     "name": "stdout",
     "output_type": "stream",
     "text": [
      "Accuracy: 60.11%\n",
      "Precision: 0.4632\n",
      "Recall: 0.6984\n",
      "F1 Score: 0.5570\n",
      "Matthews Correlation Coefficient: 0.2359\n",
      "Specificity: 0.5467\n"
     ]
    },
    {
     "name": "stderr",
     "output_type": "stream",
     "text": [
      "/tmp/ipykernel_187418/1883078025.py:10: FutureWarning: suggest_loguniform has been deprecated in v3.0.0. This feature will be removed in v6.0.0. See https://github.com/optuna/optuna/releases/tag/v3.0.0. Use suggest_float(..., log=True) instead.\n",
      "  learning_rate = trial.suggest_loguniform('learning_rate', 1e-5, 1e-1)\n",
      "/tmp/ipykernel_187418/1883078025.py:11: FutureWarning: suggest_loguniform has been deprecated in v3.0.0. This feature will be removed in v6.0.0. See https://github.com/optuna/optuna/releases/tag/v3.0.0. Use suggest_float(..., log=True) instead.\n",
      "  weight_decay=trial.suggest_loguniform('weight_decay', 1e-5, 1e-1)\n",
      "/home/gonken/anaconda3/envs/torch/lib/python3.12/site-packages/torch/nn/modules/transformer.py:379: UserWarning: enable_nested_tensor is True, but self.use_nested_tensor is False because encoder_layer.self_attn.batch_first was not True(use batch_first for better inference performance)\n",
      "  warnings.warn(\n",
      "[I 2024-11-28 20:40:54,912] Trial 69 finished with value: 0.44166666666666665 and parameters: {'num_heads': 2, 'num_layers': 2, 'd_model': 64, 'dropout': 0.5, 'learning_rate': 9.30066416568955e-05, 'weight_decay': 0.0001288986865281535}. Best is trial 56 with value: 0.6296296296296297.\n"
     ]
    },
    {
     "name": "stdout",
     "output_type": "stream",
     "text": [
      "Accuracy: 61.82%\n",
      "Precision: 0.4649\n",
      "Recall: 0.4206\n",
      "F1 Score: 0.4417\n",
      "Matthews Correlation Coefficient: 0.1532\n",
      "Specificity: 0.7289\n"
     ]
    },
    {
     "name": "stderr",
     "output_type": "stream",
     "text": [
      "/tmp/ipykernel_187418/1883078025.py:10: FutureWarning: suggest_loguniform has been deprecated in v3.0.0. This feature will be removed in v6.0.0. See https://github.com/optuna/optuna/releases/tag/v3.0.0. Use suggest_float(..., log=True) instead.\n",
      "  learning_rate = trial.suggest_loguniform('learning_rate', 1e-5, 1e-1)\n",
      "/tmp/ipykernel_187418/1883078025.py:11: FutureWarning: suggest_loguniform has been deprecated in v3.0.0. This feature will be removed in v6.0.0. See https://github.com/optuna/optuna/releases/tag/v3.0.0. Use suggest_float(..., log=True) instead.\n",
      "  weight_decay=trial.suggest_loguniform('weight_decay', 1e-5, 1e-1)\n",
      "/home/gonken/anaconda3/envs/torch/lib/python3.12/site-packages/torch/nn/modules/transformer.py:379: UserWarning: enable_nested_tensor is True, but self.use_nested_tensor is False because encoder_layer.self_attn.batch_first was not True(use batch_first for better inference performance)\n",
      "  warnings.warn(\n",
      "[I 2024-11-28 20:42:13,055] Trial 70 finished with value: 0.6237113402061856 and parameters: {'num_heads': 4, 'num_layers': 1, 'd_model': 32, 'dropout': 0.4, 'learning_rate': 0.01996453812824194, 'weight_decay': 0.00025745655051392046}. Best is trial 56 with value: 0.6296296296296297.\n"
     ]
    },
    {
     "name": "stdout",
     "output_type": "stream",
     "text": [
      "Accuracy: 58.40%\n",
      "Precision: 0.4618\n",
      "Recall: 0.9603\n",
      "F1 Score: 0.6237\n",
      "Matthews Correlation Coefficient: 0.3679\n",
      "Specificity: 0.3733\n"
     ]
    },
    {
     "name": "stderr",
     "output_type": "stream",
     "text": [
      "/tmp/ipykernel_187418/1883078025.py:10: FutureWarning: suggest_loguniform has been deprecated in v3.0.0. This feature will be removed in v6.0.0. See https://github.com/optuna/optuna/releases/tag/v3.0.0. Use suggest_float(..., log=True) instead.\n",
      "  learning_rate = trial.suggest_loguniform('learning_rate', 1e-5, 1e-1)\n",
      "/tmp/ipykernel_187418/1883078025.py:11: FutureWarning: suggest_loguniform has been deprecated in v3.0.0. This feature will be removed in v6.0.0. See https://github.com/optuna/optuna/releases/tag/v3.0.0. Use suggest_float(..., log=True) instead.\n",
      "  weight_decay=trial.suggest_loguniform('weight_decay', 1e-5, 1e-1)\n",
      "/home/gonken/anaconda3/envs/torch/lib/python3.12/site-packages/torch/nn/modules/transformer.py:379: UserWarning: enable_nested_tensor is True, but self.use_nested_tensor is False because encoder_layer.self_attn.batch_first was not True(use batch_first for better inference performance)\n",
      "  warnings.warn(\n",
      "[I 2024-11-28 20:43:31,710] Trial 71 finished with value: 0.6196473551637279 and parameters: {'num_heads': 2, 'num_layers': 1, 'd_model': 64, 'dropout': 0.4, 'learning_rate': 0.004795449776820886, 'weight_decay': 5.013816234710866e-05}. Best is trial 56 with value: 0.6296296296296297.\n"
     ]
    },
    {
     "name": "stdout",
     "output_type": "stream",
     "text": [
      "Accuracy: 56.98%\n",
      "Precision: 0.4539\n",
      "Recall: 0.9762\n",
      "F1 Score: 0.6196\n",
      "Matthews Correlation Coefficient: 0.3641\n",
      "Specificity: 0.3422\n"
     ]
    },
    {
     "name": "stderr",
     "output_type": "stream",
     "text": [
      "/tmp/ipykernel_187418/1883078025.py:10: FutureWarning: suggest_loguniform has been deprecated in v3.0.0. This feature will be removed in v6.0.0. See https://github.com/optuna/optuna/releases/tag/v3.0.0. Use suggest_float(..., log=True) instead.\n",
      "  learning_rate = trial.suggest_loguniform('learning_rate', 1e-5, 1e-1)\n",
      "/tmp/ipykernel_187418/1883078025.py:11: FutureWarning: suggest_loguniform has been deprecated in v3.0.0. This feature will be removed in v6.0.0. See https://github.com/optuna/optuna/releases/tag/v3.0.0. Use suggest_float(..., log=True) instead.\n",
      "  weight_decay=trial.suggest_loguniform('weight_decay', 1e-5, 1e-1)\n",
      "/home/gonken/anaconda3/envs/torch/lib/python3.12/site-packages/torch/nn/modules/transformer.py:379: UserWarning: enable_nested_tensor is True, but self.use_nested_tensor is False because encoder_layer.self_attn.batch_first was not True(use batch_first for better inference performance)\n",
      "  warnings.warn(\n",
      "[I 2024-11-28 20:44:51,067] Trial 72 finished with value: 0.6278481012658228 and parameters: {'num_heads': 2, 'num_layers': 1, 'd_model': 64, 'dropout': 0.35, 'learning_rate': 0.0034715980842480003, 'weight_decay': 8.610290745083036e-05}. Best is trial 56 with value: 0.6296296296296297.\n"
     ]
    },
    {
     "name": "stdout",
     "output_type": "stream",
     "text": [
      "Accuracy: 58.12%\n",
      "Precision: 0.4610\n",
      "Recall: 0.9841\n",
      "F1 Score: 0.6278\n",
      "Matthews Correlation Coefficient: 0.3851\n",
      "Specificity: 0.3556\n"
     ]
    },
    {
     "name": "stderr",
     "output_type": "stream",
     "text": [
      "/tmp/ipykernel_187418/1883078025.py:10: FutureWarning: suggest_loguniform has been deprecated in v3.0.0. This feature will be removed in v6.0.0. See https://github.com/optuna/optuna/releases/tag/v3.0.0. Use suggest_float(..., log=True) instead.\n",
      "  learning_rate = trial.suggest_loguniform('learning_rate', 1e-5, 1e-1)\n",
      "/tmp/ipykernel_187418/1883078025.py:11: FutureWarning: suggest_loguniform has been deprecated in v3.0.0. This feature will be removed in v6.0.0. See https://github.com/optuna/optuna/releases/tag/v3.0.0. Use suggest_float(..., log=True) instead.\n",
      "  weight_decay=trial.suggest_loguniform('weight_decay', 1e-5, 1e-1)\n",
      "/home/gonken/anaconda3/envs/torch/lib/python3.12/site-packages/torch/nn/modules/transformer.py:379: UserWarning: enable_nested_tensor is True, but self.use_nested_tensor is False because encoder_layer.self_attn.batch_first was not True(use batch_first for better inference performance)\n",
      "  warnings.warn(\n",
      "[I 2024-11-28 20:46:08,643] Trial 73 finished with value: 0.6275510204081632 and parameters: {'num_heads': 2, 'num_layers': 1, 'd_model': 64, 'dropout': 0.35, 'learning_rate': 0.0032431834955609176, 'weight_decay': 9.736868160207378e-05}. Best is trial 56 with value: 0.6296296296296297.\n"
     ]
    },
    {
     "name": "stdout",
     "output_type": "stream",
     "text": [
      "Accuracy: 58.40%\n",
      "Precision: 0.4624\n",
      "Recall: 0.9762\n",
      "F1 Score: 0.6276\n",
      "Matthews Correlation Coefficient: 0.3814\n",
      "Specificity: 0.3644\n"
     ]
    },
    {
     "name": "stderr",
     "output_type": "stream",
     "text": [
      "/tmp/ipykernel_187418/1883078025.py:10: FutureWarning: suggest_loguniform has been deprecated in v3.0.0. This feature will be removed in v6.0.0. See https://github.com/optuna/optuna/releases/tag/v3.0.0. Use suggest_float(..., log=True) instead.\n",
      "  learning_rate = trial.suggest_loguniform('learning_rate', 1e-5, 1e-1)\n",
      "/tmp/ipykernel_187418/1883078025.py:11: FutureWarning: suggest_loguniform has been deprecated in v3.0.0. This feature will be removed in v6.0.0. See https://github.com/optuna/optuna/releases/tag/v3.0.0. Use suggest_float(..., log=True) instead.\n",
      "  weight_decay=trial.suggest_loguniform('weight_decay', 1e-5, 1e-1)\n",
      "/home/gonken/anaconda3/envs/torch/lib/python3.12/site-packages/torch/nn/modules/transformer.py:379: UserWarning: enable_nested_tensor is True, but self.use_nested_tensor is False because encoder_layer.self_attn.batch_first was not True(use batch_first for better inference performance)\n",
      "  warnings.warn(\n",
      "[I 2024-11-28 20:47:24,789] Trial 74 finished with value: 0.6121372031662269 and parameters: {'num_heads': 2, 'num_layers': 1, 'd_model': 64, 'dropout': 0.35, 'learning_rate': 0.010277495809317075, 'weight_decay': 3.4643677296307736e-05}. Best is trial 56 with value: 0.6296296296296297.\n"
     ]
    },
    {
     "name": "stdout",
     "output_type": "stream",
     "text": [
      "Accuracy: 58.12%\n",
      "Precision: 0.4585\n",
      "Recall: 0.9206\n",
      "F1 Score: 0.6121\n",
      "Matthews Correlation Coefficient: 0.3334\n",
      "Specificity: 0.3911\n"
     ]
    },
    {
     "name": "stderr",
     "output_type": "stream",
     "text": [
      "/tmp/ipykernel_187418/1883078025.py:10: FutureWarning: suggest_loguniform has been deprecated in v3.0.0. This feature will be removed in v6.0.0. See https://github.com/optuna/optuna/releases/tag/v3.0.0. Use suggest_float(..., log=True) instead.\n",
      "  learning_rate = trial.suggest_loguniform('learning_rate', 1e-5, 1e-1)\n",
      "/tmp/ipykernel_187418/1883078025.py:11: FutureWarning: suggest_loguniform has been deprecated in v3.0.0. This feature will be removed in v6.0.0. See https://github.com/optuna/optuna/releases/tag/v3.0.0. Use suggest_float(..., log=True) instead.\n",
      "  weight_decay=trial.suggest_loguniform('weight_decay', 1e-5, 1e-1)\n",
      "/home/gonken/anaconda3/envs/torch/lib/python3.12/site-packages/torch/nn/modules/transformer.py:379: UserWarning: enable_nested_tensor is True, but self.use_nested_tensor is False because encoder_layer.self_attn.batch_first was not True(use batch_first for better inference performance)\n",
      "  warnings.warn(\n",
      "[I 2024-11-28 20:48:44,822] Trial 75 finished with value: 0.6356589147286822 and parameters: {'num_heads': 2, 'num_layers': 1, 'd_model': 64, 'dropout': 0.45000000000000007, 'learning_rate': 0.0014702539606953286, 'weight_decay': 2.5598781679197222e-05}. Best is trial 75 with value: 0.6356589147286822.\n"
     ]
    },
    {
     "name": "stdout",
     "output_type": "stream",
     "text": [
      "Accuracy: 59.83%\n",
      "Precision: 0.4713\n",
      "Recall: 0.9762\n",
      "F1 Score: 0.6357\n",
      "Matthews Correlation Coefficient: 0.3986\n",
      "Specificity: 0.3867\n"
     ]
    },
    {
     "name": "stderr",
     "output_type": "stream",
     "text": [
      "/tmp/ipykernel_187418/1883078025.py:10: FutureWarning: suggest_loguniform has been deprecated in v3.0.0. This feature will be removed in v6.0.0. See https://github.com/optuna/optuna/releases/tag/v3.0.0. Use suggest_float(..., log=True) instead.\n",
      "  learning_rate = trial.suggest_loguniform('learning_rate', 1e-5, 1e-1)\n",
      "/tmp/ipykernel_187418/1883078025.py:11: FutureWarning: suggest_loguniform has been deprecated in v3.0.0. This feature will be removed in v6.0.0. See https://github.com/optuna/optuna/releases/tag/v3.0.0. Use suggest_float(..., log=True) instead.\n",
      "  weight_decay=trial.suggest_loguniform('weight_decay', 1e-5, 1e-1)\n",
      "/home/gonken/anaconda3/envs/torch/lib/python3.12/site-packages/torch/nn/modules/transformer.py:379: UserWarning: enable_nested_tensor is True, but self.use_nested_tensor is False because encoder_layer.self_attn.batch_first was not True(use batch_first for better inference performance)\n",
      "  warnings.warn(\n",
      "[I 2024-11-28 20:50:04,550] Trial 76 finished with value: 0.622107969151671 and parameters: {'num_heads': 4, 'num_layers': 1, 'd_model': 128, 'dropout': 0.45000000000000007, 'learning_rate': 0.0015505470659055113, 'weight_decay': 1.7055113629779558e-05}. Best is trial 75 with value: 0.6356589147286822.\n"
     ]
    },
    {
     "name": "stdout",
     "output_type": "stream",
     "text": [
      "Accuracy: 58.12%\n",
      "Precision: 0.4601\n",
      "Recall: 0.9603\n",
      "F1 Score: 0.6221\n",
      "Matthews Correlation Coefficient: 0.3644\n",
      "Specificity: 0.3689\n"
     ]
    },
    {
     "name": "stderr",
     "output_type": "stream",
     "text": [
      "/tmp/ipykernel_187418/1883078025.py:10: FutureWarning: suggest_loguniform has been deprecated in v3.0.0. This feature will be removed in v6.0.0. See https://github.com/optuna/optuna/releases/tag/v3.0.0. Use suggest_float(..., log=True) instead.\n",
      "  learning_rate = trial.suggest_loguniform('learning_rate', 1e-5, 1e-1)\n",
      "/tmp/ipykernel_187418/1883078025.py:11: FutureWarning: suggest_loguniform has been deprecated in v3.0.0. This feature will be removed in v6.0.0. See https://github.com/optuna/optuna/releases/tag/v3.0.0. Use suggest_float(..., log=True) instead.\n",
      "  weight_decay=trial.suggest_loguniform('weight_decay', 1e-5, 1e-1)\n",
      "/home/gonken/anaconda3/envs/torch/lib/python3.12/site-packages/torch/nn/modules/transformer.py:379: UserWarning: enable_nested_tensor is True, but self.use_nested_tensor is False because encoder_layer.self_attn.batch_first was not True(use batch_first for better inference performance)\n",
      "  warnings.warn(\n",
      "[I 2024-11-28 20:51:22,689] Trial 77 finished with value: 0.5852272727272727 and parameters: {'num_heads': 8, 'num_layers': 1, 'd_model': 32, 'dropout': 0.45000000000000007, 'learning_rate': 0.0024332759527276684, 'weight_decay': 2.614456749304089e-05}. Best is trial 75 with value: 0.6356589147286822.\n"
     ]
    },
    {
     "name": "stdout",
     "output_type": "stream",
     "text": [
      "Accuracy: 58.40%\n",
      "Precision: 0.4558\n",
      "Recall: 0.8175\n",
      "F1 Score: 0.5852\n",
      "Matthews Correlation Coefficient: 0.2713\n",
      "Specificity: 0.4533\n"
     ]
    },
    {
     "name": "stderr",
     "output_type": "stream",
     "text": [
      "/tmp/ipykernel_187418/1883078025.py:10: FutureWarning: suggest_loguniform has been deprecated in v3.0.0. This feature will be removed in v6.0.0. See https://github.com/optuna/optuna/releases/tag/v3.0.0. Use suggest_float(..., log=True) instead.\n",
      "  learning_rate = trial.suggest_loguniform('learning_rate', 1e-5, 1e-1)\n",
      "/tmp/ipykernel_187418/1883078025.py:11: FutureWarning: suggest_loguniform has been deprecated in v3.0.0. This feature will be removed in v6.0.0. See https://github.com/optuna/optuna/releases/tag/v3.0.0. Use suggest_float(..., log=True) instead.\n",
      "  weight_decay=trial.suggest_loguniform('weight_decay', 1e-5, 1e-1)\n",
      "/home/gonken/anaconda3/envs/torch/lib/python3.12/site-packages/torch/nn/modules/transformer.py:379: UserWarning: enable_nested_tensor is True, but self.use_nested_tensor is False because encoder_layer.self_attn.batch_first was not True(use batch_first for better inference performance)\n",
      "  warnings.warn(\n",
      "[I 2024-11-28 20:53:24,125] Trial 78 finished with value: 0.6297229219143576 and parameters: {'num_heads': 2, 'num_layers': 2, 'd_model': 32, 'dropout': 0.5, 'learning_rate': 0.0011531495812853402, 'weight_decay': 4.482441222634364e-05}. Best is trial 75 with value: 0.6356589147286822.\n"
     ]
    },
    {
     "name": "stdout",
     "output_type": "stream",
     "text": [
      "Accuracy: 58.12%\n",
      "Precision: 0.4613\n",
      "Recall: 0.9921\n",
      "F1 Score: 0.6297\n",
      "Matthews Correlation Coefficient: 0.3924\n",
      "Specificity: 0.3511\n"
     ]
    },
    {
     "name": "stderr",
     "output_type": "stream",
     "text": [
      "/tmp/ipykernel_187418/1883078025.py:10: FutureWarning: suggest_loguniform has been deprecated in v3.0.0. This feature will be removed in v6.0.0. See https://github.com/optuna/optuna/releases/tag/v3.0.0. Use suggest_float(..., log=True) instead.\n",
      "  learning_rate = trial.suggest_loguniform('learning_rate', 1e-5, 1e-1)\n",
      "/tmp/ipykernel_187418/1883078025.py:11: FutureWarning: suggest_loguniform has been deprecated in v3.0.0. This feature will be removed in v6.0.0. See https://github.com/optuna/optuna/releases/tag/v3.0.0. Use suggest_float(..., log=True) instead.\n",
      "  weight_decay=trial.suggest_loguniform('weight_decay', 1e-5, 1e-1)\n",
      "/home/gonken/anaconda3/envs/torch/lib/python3.12/site-packages/torch/nn/modules/transformer.py:379: UserWarning: enable_nested_tensor is True, but self.use_nested_tensor is False because encoder_layer.self_attn.batch_first was not True(use batch_first for better inference performance)\n",
      "  warnings.warn(\n",
      "[I 2024-11-28 20:56:02,035] Trial 79 finished with value: 0.36036036036036034 and parameters: {'num_heads': 4, 'num_layers': 3, 'd_model': 32, 'dropout': 0.5, 'learning_rate': 0.0006051282305102056, 'weight_decay': 0.003916912160992642}. Best is trial 75 with value: 0.6356589147286822.\n"
     ]
    },
    {
     "name": "stdout",
     "output_type": "stream",
     "text": [
      "Accuracy: 59.54%\n",
      "Precision: 0.4167\n",
      "Recall: 0.3175\n",
      "F1 Score: 0.3604\n",
      "Matthews Correlation Coefficient: 0.0738\n",
      "Specificity: 0.7511\n"
     ]
    },
    {
     "name": "stderr",
     "output_type": "stream",
     "text": [
      "/tmp/ipykernel_187418/1883078025.py:10: FutureWarning: suggest_loguniform has been deprecated in v3.0.0. This feature will be removed in v6.0.0. See https://github.com/optuna/optuna/releases/tag/v3.0.0. Use suggest_float(..., log=True) instead.\n",
      "  learning_rate = trial.suggest_loguniform('learning_rate', 1e-5, 1e-1)\n",
      "/tmp/ipykernel_187418/1883078025.py:11: FutureWarning: suggest_loguniform has been deprecated in v3.0.0. This feature will be removed in v6.0.0. See https://github.com/optuna/optuna/releases/tag/v3.0.0. Use suggest_float(..., log=True) instead.\n",
      "  weight_decay=trial.suggest_loguniform('weight_decay', 1e-5, 1e-1)\n",
      "/home/gonken/anaconda3/envs/torch/lib/python3.12/site-packages/torch/nn/modules/transformer.py:379: UserWarning: enable_nested_tensor is True, but self.use_nested_tensor is False because encoder_layer.self_attn.batch_first was not True(use batch_first for better inference performance)\n",
      "  warnings.warn(\n",
      "/home/gonken/anaconda3/envs/torch/lib/python3.12/site-packages/sklearn/metrics/_classification.py:1531: UndefinedMetricWarning: Precision is ill-defined and being set to 0.0 due to no predicted samples. Use `zero_division` parameter to control this behavior.\n",
      "  _warn_prf(average, modifier, f\"{metric.capitalize()} is\", len(result))\n",
      "[I 2024-11-28 20:59:22,772] Trial 80 finished with value: 0.0 and parameters: {'num_heads': 2, 'num_layers': 4, 'd_model': 32, 'dropout': 0.5, 'learning_rate': 0.0011567845396519897, 'weight_decay': 4.5773718319608646e-05}. Best is trial 75 with value: 0.6356589147286822.\n",
      "/tmp/ipykernel_187418/1883078025.py:10: FutureWarning: suggest_loguniform has been deprecated in v3.0.0. This feature will be removed in v6.0.0. See https://github.com/optuna/optuna/releases/tag/v3.0.0. Use suggest_float(..., log=True) instead.\n",
      "  learning_rate = trial.suggest_loguniform('learning_rate', 1e-5, 1e-1)\n",
      "/tmp/ipykernel_187418/1883078025.py:11: FutureWarning: suggest_loguniform has been deprecated in v3.0.0. This feature will be removed in v6.0.0. See https://github.com/optuna/optuna/releases/tag/v3.0.0. Use suggest_float(..., log=True) instead.\n",
      "  weight_decay=trial.suggest_loguniform('weight_decay', 1e-5, 1e-1)\n",
      "/home/gonken/anaconda3/envs/torch/lib/python3.12/site-packages/torch/nn/modules/transformer.py:379: UserWarning: enable_nested_tensor is True, but self.use_nested_tensor is False because encoder_layer.self_attn.batch_first was not True(use batch_first for better inference performance)\n",
      "  warnings.warn(\n"
     ]
    },
    {
     "name": "stdout",
     "output_type": "stream",
     "text": [
      "Accuracy: 64.10%\n",
      "Precision: 0.0000\n",
      "Recall: 0.0000\n",
      "F1 Score: 0.0000\n",
      "Matthews Correlation Coefficient: 0.0000\n",
      "Specificity: 1.0000\n"
     ]
    },
    {
     "name": "stderr",
     "output_type": "stream",
     "text": [
      "[I 2024-11-28 21:00:40,833] Trial 81 finished with value: 0.43824701195219123 and parameters: {'num_heads': 2, 'num_layers': 1, 'd_model': 32, 'dropout': 0.5, 'learning_rate': 0.000933735131869402, 'weight_decay': 2.3371727294657933e-05}. Best is trial 75 with value: 0.6356589147286822.\n"
     ]
    },
    {
     "name": "stdout",
     "output_type": "stream",
     "text": [
      "Accuracy: 59.83%\n",
      "Precision: 0.4400\n",
      "Recall: 0.4365\n",
      "F1 Score: 0.4382\n",
      "Matthews Correlation Coefficient: 0.1256\n",
      "Specificity: 0.6889\n"
     ]
    },
    {
     "name": "stderr",
     "output_type": "stream",
     "text": [
      "/tmp/ipykernel_187418/1883078025.py:10: FutureWarning: suggest_loguniform has been deprecated in v3.0.0. This feature will be removed in v6.0.0. See https://github.com/optuna/optuna/releases/tag/v3.0.0. Use suggest_float(..., log=True) instead.\n",
      "  learning_rate = trial.suggest_loguniform('learning_rate', 1e-5, 1e-1)\n",
      "/tmp/ipykernel_187418/1883078025.py:11: FutureWarning: suggest_loguniform has been deprecated in v3.0.0. This feature will be removed in v6.0.0. See https://github.com/optuna/optuna/releases/tag/v3.0.0. Use suggest_float(..., log=True) instead.\n",
      "  weight_decay=trial.suggest_loguniform('weight_decay', 1e-5, 1e-1)\n",
      "/home/gonken/anaconda3/envs/torch/lib/python3.12/site-packages/torch/nn/modules/transformer.py:379: UserWarning: enable_nested_tensor is True, but self.use_nested_tensor is False because encoder_layer.self_attn.batch_first was not True(use batch_first for better inference performance)\n",
      "  warnings.warn(\n",
      "[I 2024-11-28 21:02:44,154] Trial 82 finished with value: 0.4722222222222222 and parameters: {'num_heads': 2, 'num_layers': 2, 'd_model': 32, 'dropout': 0.45000000000000007, 'learning_rate': 0.00033187962122862956, 'weight_decay': 6.270242645448915e-05}. Best is trial 75 with value: 0.6356589147286822.\n"
     ]
    },
    {
     "name": "stdout",
     "output_type": "stream",
     "text": [
      "Accuracy: 56.70%\n",
      "Precision: 0.4198\n",
      "Recall: 0.5397\n",
      "F1 Score: 0.4722\n",
      "Matthews Correlation Coefficient: 0.1173\n",
      "Specificity: 0.5822\n"
     ]
    },
    {
     "name": "stderr",
     "output_type": "stream",
     "text": [
      "/tmp/ipykernel_187418/1883078025.py:10: FutureWarning: suggest_loguniform has been deprecated in v3.0.0. This feature will be removed in v6.0.0. See https://github.com/optuna/optuna/releases/tag/v3.0.0. Use suggest_float(..., log=True) instead.\n",
      "  learning_rate = trial.suggest_loguniform('learning_rate', 1e-5, 1e-1)\n",
      "/tmp/ipykernel_187418/1883078025.py:11: FutureWarning: suggest_loguniform has been deprecated in v3.0.0. This feature will be removed in v6.0.0. See https://github.com/optuna/optuna/releases/tag/v3.0.0. Use suggest_float(..., log=True) instead.\n",
      "  weight_decay=trial.suggest_loguniform('weight_decay', 1e-5, 1e-1)\n",
      "/home/gonken/anaconda3/envs/torch/lib/python3.12/site-packages/torch/nn/modules/transformer.py:379: UserWarning: enable_nested_tensor is True, but self.use_nested_tensor is False because encoder_layer.self_attn.batch_first was not True(use batch_first for better inference performance)\n",
      "  warnings.warn(\n",
      "[I 2024-11-28 21:05:24,483] Trial 83 finished with value: 0.6199460916442049 and parameters: {'num_heads': 2, 'num_layers': 3, 'd_model': 32, 'dropout': 0.5, 'learning_rate': 0.0024078462420676827, 'weight_decay': 3.487016086606648e-05}. Best is trial 75 with value: 0.6356589147286822.\n"
     ]
    },
    {
     "name": "stdout",
     "output_type": "stream",
     "text": [
      "Accuracy: 59.83%\n",
      "Precision: 0.4694\n",
      "Recall: 0.9127\n",
      "F1 Score: 0.6199\n",
      "Matthews Correlation Coefficient: 0.3499\n",
      "Specificity: 0.4222\n"
     ]
    },
    {
     "name": "stderr",
     "output_type": "stream",
     "text": [
      "/tmp/ipykernel_187418/1883078025.py:10: FutureWarning: suggest_loguniform has been deprecated in v3.0.0. This feature will be removed in v6.0.0. See https://github.com/optuna/optuna/releases/tag/v3.0.0. Use suggest_float(..., log=True) instead.\n",
      "  learning_rate = trial.suggest_loguniform('learning_rate', 1e-5, 1e-1)\n",
      "/tmp/ipykernel_187418/1883078025.py:11: FutureWarning: suggest_loguniform has been deprecated in v3.0.0. This feature will be removed in v6.0.0. See https://github.com/optuna/optuna/releases/tag/v3.0.0. Use suggest_float(..., log=True) instead.\n",
      "  weight_decay=trial.suggest_loguniform('weight_decay', 1e-5, 1e-1)\n",
      "/home/gonken/anaconda3/envs/torch/lib/python3.12/site-packages/torch/nn/modules/transformer.py:379: UserWarning: enable_nested_tensor is True, but self.use_nested_tensor is False because encoder_layer.self_attn.batch_first was not True(use batch_first for better inference performance)\n",
      "  warnings.warn(\n",
      "[I 2024-11-28 21:06:43,773] Trial 84 finished with value: 0.6351706036745407 and parameters: {'num_heads': 2, 'num_layers': 1, 'd_model': 64, 'dropout': 0.45000000000000007, 'learning_rate': 0.0017873144821786032, 'weight_decay': 4.956936719330338e-05}. Best is trial 75 with value: 0.6356589147286822.\n"
     ]
    },
    {
     "name": "stdout",
     "output_type": "stream",
     "text": [
      "Accuracy: 60.40%\n",
      "Precision: 0.4745\n",
      "Recall: 0.9603\n",
      "F1 Score: 0.6352\n",
      "Matthews Correlation Coefficient: 0.3925\n",
      "Specificity: 0.4044\n"
     ]
    },
    {
     "name": "stderr",
     "output_type": "stream",
     "text": [
      "/tmp/ipykernel_187418/1883078025.py:10: FutureWarning: suggest_loguniform has been deprecated in v3.0.0. This feature will be removed in v6.0.0. See https://github.com/optuna/optuna/releases/tag/v3.0.0. Use suggest_float(..., log=True) instead.\n",
      "  learning_rate = trial.suggest_loguniform('learning_rate', 1e-5, 1e-1)\n",
      "/tmp/ipykernel_187418/1883078025.py:11: FutureWarning: suggest_loguniform has been deprecated in v3.0.0. This feature will be removed in v6.0.0. See https://github.com/optuna/optuna/releases/tag/v3.0.0. Use suggest_float(..., log=True) instead.\n",
      "  weight_decay=trial.suggest_loguniform('weight_decay', 1e-5, 1e-1)\n",
      "/home/gonken/anaconda3/envs/torch/lib/python3.12/site-packages/torch/nn/modules/transformer.py:379: UserWarning: enable_nested_tensor is True, but self.use_nested_tensor is False because encoder_layer.self_attn.batch_first was not True(use batch_first for better inference performance)\n",
      "  warnings.warn(\n",
      "[I 2024-11-28 21:08:02,535] Trial 85 finished with value: 0.6246851385390428 and parameters: {'num_heads': 2, 'num_layers': 1, 'd_model': 32, 'dropout': 0.5, 'learning_rate': 0.008089608160358473, 'weight_decay': 4.3690287618983206e-05}. Best is trial 75 with value: 0.6356589147286822.\n"
     ]
    },
    {
     "name": "stdout",
     "output_type": "stream",
     "text": [
      "Accuracy: 57.55%\n",
      "Precision: 0.4576\n",
      "Recall: 0.9841\n",
      "F1 Score: 0.6247\n",
      "Matthews Correlation Coefficient: 0.3783\n",
      "Specificity: 0.3467\n"
     ]
    },
    {
     "name": "stderr",
     "output_type": "stream",
     "text": [
      "/tmp/ipykernel_187418/1883078025.py:10: FutureWarning: suggest_loguniform has been deprecated in v3.0.0. This feature will be removed in v6.0.0. See https://github.com/optuna/optuna/releases/tag/v3.0.0. Use suggest_float(..., log=True) instead.\n",
      "  learning_rate = trial.suggest_loguniform('learning_rate', 1e-5, 1e-1)\n",
      "/tmp/ipykernel_187418/1883078025.py:11: FutureWarning: suggest_loguniform has been deprecated in v3.0.0. This feature will be removed in v6.0.0. See https://github.com/optuna/optuna/releases/tag/v3.0.0. Use suggest_float(..., log=True) instead.\n",
      "  weight_decay=trial.suggest_loguniform('weight_decay', 1e-5, 1e-1)\n",
      "/home/gonken/anaconda3/envs/torch/lib/python3.12/site-packages/torch/nn/modules/transformer.py:379: UserWarning: enable_nested_tensor is True, but self.use_nested_tensor is False because encoder_layer.self_attn.batch_first was not True(use batch_first for better inference performance)\n",
      "  warnings.warn(\n",
      "[I 2024-11-28 21:10:03,557] Trial 86 finished with value: 0.6091954022988506 and parameters: {'num_heads': 4, 'num_layers': 2, 'd_model': 64, 'dropout': 0.4, 'learning_rate': 0.0007646981020929467, 'weight_decay': 1.7978674384655727e-05}. Best is trial 75 with value: 0.6356589147286822.\n"
     ]
    },
    {
     "name": "stdout",
     "output_type": "stream",
     "text": [
      "Accuracy: 61.25%\n",
      "Precision: 0.4775\n",
      "Recall: 0.8413\n",
      "F1 Score: 0.6092\n",
      "Matthews Correlation Coefficient: 0.3241\n",
      "Specificity: 0.4844\n"
     ]
    },
    {
     "name": "stderr",
     "output_type": "stream",
     "text": [
      "/tmp/ipykernel_187418/1883078025.py:10: FutureWarning: suggest_loguniform has been deprecated in v3.0.0. This feature will be removed in v6.0.0. See https://github.com/optuna/optuna/releases/tag/v3.0.0. Use suggest_float(..., log=True) instead.\n",
      "  learning_rate = trial.suggest_loguniform('learning_rate', 1e-5, 1e-1)\n",
      "/tmp/ipykernel_187418/1883078025.py:11: FutureWarning: suggest_loguniform has been deprecated in v3.0.0. This feature will be removed in v6.0.0. See https://github.com/optuna/optuna/releases/tag/v3.0.0. Use suggest_float(..., log=True) instead.\n",
      "  weight_decay=trial.suggest_loguniform('weight_decay', 1e-5, 1e-1)\n",
      "/home/gonken/anaconda3/envs/torch/lib/python3.12/site-packages/torch/nn/modules/transformer.py:379: UserWarning: enable_nested_tensor is True, but self.use_nested_tensor is False because encoder_layer.self_attn.batch_first was not True(use batch_first for better inference performance)\n",
      "  warnings.warn(\n",
      "[I 2024-11-28 21:11:20,979] Trial 87 finished with value: 0.6297229219143576 and parameters: {'num_heads': 8, 'num_layers': 1, 'd_model': 32, 'dropout': 0.45000000000000007, 'learning_rate': 0.004156819430258819, 'weight_decay': 0.00013382170698325062}. Best is trial 75 with value: 0.6356589147286822.\n"
     ]
    },
    {
     "name": "stdout",
     "output_type": "stream",
     "text": [
      "Accuracy: 58.12%\n",
      "Precision: 0.4613\n",
      "Recall: 0.9921\n",
      "F1 Score: 0.6297\n",
      "Matthews Correlation Coefficient: 0.3924\n",
      "Specificity: 0.3511\n"
     ]
    },
    {
     "name": "stderr",
     "output_type": "stream",
     "text": [
      "/tmp/ipykernel_187418/1883078025.py:10: FutureWarning: suggest_loguniform has been deprecated in v3.0.0. This feature will be removed in v6.0.0. See https://github.com/optuna/optuna/releases/tag/v3.0.0. Use suggest_float(..., log=True) instead.\n",
      "  learning_rate = trial.suggest_loguniform('learning_rate', 1e-5, 1e-1)\n",
      "/tmp/ipykernel_187418/1883078025.py:11: FutureWarning: suggest_loguniform has been deprecated in v3.0.0. This feature will be removed in v6.0.0. See https://github.com/optuna/optuna/releases/tag/v3.0.0. Use suggest_float(..., log=True) instead.\n",
      "  weight_decay=trial.suggest_loguniform('weight_decay', 1e-5, 1e-1)\n",
      "/home/gonken/anaconda3/envs/torch/lib/python3.12/site-packages/torch/nn/modules/transformer.py:379: UserWarning: enable_nested_tensor is True, but self.use_nested_tensor is False because encoder_layer.self_attn.batch_first was not True(use batch_first for better inference performance)\n",
      "  warnings.warn(\n",
      "/home/gonken/anaconda3/envs/torch/lib/python3.12/site-packages/sklearn/metrics/_classification.py:1531: UndefinedMetricWarning: Precision is ill-defined and being set to 0.0 due to no predicted samples. Use `zero_division` parameter to control this behavior.\n",
      "  _warn_prf(average, modifier, f\"{metric.capitalize()} is\", len(result))\n",
      "[I 2024-11-28 21:13:21,830] Trial 88 finished with value: 0.0 and parameters: {'num_heads': 8, 'num_layers': 2, 'd_model': 32, 'dropout': 0.45000000000000007, 'learning_rate': 0.004022392015901234, 'weight_decay': 0.00015871632272269296}. Best is trial 75 with value: 0.6356589147286822.\n",
      "/tmp/ipykernel_187418/1883078025.py:10: FutureWarning: suggest_loguniform has been deprecated in v3.0.0. This feature will be removed in v6.0.0. See https://github.com/optuna/optuna/releases/tag/v3.0.0. Use suggest_float(..., log=True) instead.\n",
      "  learning_rate = trial.suggest_loguniform('learning_rate', 1e-5, 1e-1)\n",
      "/tmp/ipykernel_187418/1883078025.py:11: FutureWarning: suggest_loguniform has been deprecated in v3.0.0. This feature will be removed in v6.0.0. See https://github.com/optuna/optuna/releases/tag/v3.0.0. Use suggest_float(..., log=True) instead.\n",
      "  weight_decay=trial.suggest_loguniform('weight_decay', 1e-5, 1e-1)\n",
      "/home/gonken/anaconda3/envs/torch/lib/python3.12/site-packages/torch/nn/modules/transformer.py:379: UserWarning: enable_nested_tensor is True, but self.use_nested_tensor is False because encoder_layer.self_attn.batch_first was not True(use batch_first for better inference performance)\n",
      "  warnings.warn(\n"
     ]
    },
    {
     "name": "stdout",
     "output_type": "stream",
     "text": [
      "Accuracy: 64.10%\n",
      "Precision: 0.0000\n",
      "Recall: 0.0000\n",
      "F1 Score: 0.0000\n",
      "Matthews Correlation Coefficient: 0.0000\n",
      "Specificity: 1.0000\n"
     ]
    },
    {
     "name": "stderr",
     "output_type": "stream",
     "text": [
      "/home/gonken/anaconda3/envs/torch/lib/python3.12/site-packages/sklearn/metrics/_classification.py:1531: UndefinedMetricWarning: Precision is ill-defined and being set to 0.0 due to no predicted samples. Use `zero_division` parameter to control this behavior.\n",
      "  _warn_prf(average, modifier, f\"{metric.capitalize()} is\", len(result))\n",
      "[I 2024-11-28 21:17:11,608] Trial 89 finished with value: 0.0 and parameters: {'num_heads': 8, 'num_layers': 5, 'd_model': 32, 'dropout': 0.5, 'learning_rate': 0.006350705520736405, 'weight_decay': 6.793330138568708e-05}. Best is trial 75 with value: 0.6356589147286822.\n",
      "/tmp/ipykernel_187418/1883078025.py:10: FutureWarning: suggest_loguniform has been deprecated in v3.0.0. This feature will be removed in v6.0.0. See https://github.com/optuna/optuna/releases/tag/v3.0.0. Use suggest_float(..., log=True) instead.\n",
      "  learning_rate = trial.suggest_loguniform('learning_rate', 1e-5, 1e-1)\n",
      "/tmp/ipykernel_187418/1883078025.py:11: FutureWarning: suggest_loguniform has been deprecated in v3.0.0. This feature will be removed in v6.0.0. See https://github.com/optuna/optuna/releases/tag/v3.0.0. Use suggest_float(..., log=True) instead.\n",
      "  weight_decay=trial.suggest_loguniform('weight_decay', 1e-5, 1e-1)\n",
      "/home/gonken/anaconda3/envs/torch/lib/python3.12/site-packages/torch/nn/modules/transformer.py:379: UserWarning: enable_nested_tensor is True, but self.use_nested_tensor is False because encoder_layer.self_attn.batch_first was not True(use batch_first for better inference performance)\n",
      "  warnings.warn(\n"
     ]
    },
    {
     "name": "stdout",
     "output_type": "stream",
     "text": [
      "Accuracy: 64.10%\n",
      "Precision: 0.0000\n",
      "Recall: 0.0000\n",
      "F1 Score: 0.0000\n",
      "Matthews Correlation Coefficient: 0.0000\n",
      "Specificity: 1.0000\n"
     ]
    },
    {
     "name": "stderr",
     "output_type": "stream",
     "text": [
      "[I 2024-11-28 21:18:31,232] Trial 90 finished with value: 0.6166219839142091 and parameters: {'num_heads': 8, 'num_layers': 1, 'd_model': 32, 'dropout': 0.45000000000000007, 'learning_rate': 0.0014535616454911314, 'weight_decay': 0.00012596582163123412}. Best is trial 75 with value: 0.6356589147286822.\n"
     ]
    },
    {
     "name": "stdout",
     "output_type": "stream",
     "text": [
      "Accuracy: 59.26%\n",
      "Precision: 0.4656\n",
      "Recall: 0.9127\n",
      "F1 Score: 0.6166\n",
      "Matthews Correlation Coefficient: 0.3425\n",
      "Specificity: 0.4133\n"
     ]
    },
    {
     "name": "stderr",
     "output_type": "stream",
     "text": [
      "/tmp/ipykernel_187418/1883078025.py:10: FutureWarning: suggest_loguniform has been deprecated in v3.0.0. This feature will be removed in v6.0.0. See https://github.com/optuna/optuna/releases/tag/v3.0.0. Use suggest_float(..., log=True) instead.\n",
      "  learning_rate = trial.suggest_loguniform('learning_rate', 1e-5, 1e-1)\n",
      "/tmp/ipykernel_187418/1883078025.py:11: FutureWarning: suggest_loguniform has been deprecated in v3.0.0. This feature will be removed in v6.0.0. See https://github.com/optuna/optuna/releases/tag/v3.0.0. Use suggest_float(..., log=True) instead.\n",
      "  weight_decay=trial.suggest_loguniform('weight_decay', 1e-5, 1e-1)\n",
      "/home/gonken/anaconda3/envs/torch/lib/python3.12/site-packages/torch/nn/modules/transformer.py:379: UserWarning: enable_nested_tensor is True, but self.use_nested_tensor is False because encoder_layer.self_attn.batch_first was not True(use batch_first for better inference performance)\n",
      "  warnings.warn(\n",
      "[I 2024-11-28 21:19:46,702] Trial 91 finished with value: 0.6302083333333334 and parameters: {'num_heads': 8, 'num_layers': 1, 'd_model': 32, 'dropout': 0.4, 'learning_rate': 0.0016929239105793956, 'weight_decay': 5.148852124726218e-05}. Best is trial 75 with value: 0.6356589147286822.\n"
     ]
    },
    {
     "name": "stdout",
     "output_type": "stream",
     "text": [
      "Accuracy: 59.54%\n",
      "Precision: 0.4690\n",
      "Recall: 0.9603\n",
      "F1 Score: 0.6302\n",
      "Matthews Correlation Coefficient: 0.3820\n",
      "Specificity: 0.3911\n"
     ]
    },
    {
     "name": "stderr",
     "output_type": "stream",
     "text": [
      "/tmp/ipykernel_187418/1883078025.py:10: FutureWarning: suggest_loguniform has been deprecated in v3.0.0. This feature will be removed in v6.0.0. See https://github.com/optuna/optuna/releases/tag/v3.0.0. Use suggest_float(..., log=True) instead.\n",
      "  learning_rate = trial.suggest_loguniform('learning_rate', 1e-5, 1e-1)\n",
      "/tmp/ipykernel_187418/1883078025.py:11: FutureWarning: suggest_loguniform has been deprecated in v3.0.0. This feature will be removed in v6.0.0. See https://github.com/optuna/optuna/releases/tag/v3.0.0. Use suggest_float(..., log=True) instead.\n",
      "  weight_decay=trial.suggest_loguniform('weight_decay', 1e-5, 1e-1)\n",
      "/home/gonken/anaconda3/envs/torch/lib/python3.12/site-packages/torch/nn/modules/transformer.py:379: UserWarning: enable_nested_tensor is True, but self.use_nested_tensor is False because encoder_layer.self_attn.batch_first was not True(use batch_first for better inference performance)\n",
      "  warnings.warn(\n",
      "[I 2024-11-28 21:21:05,350] Trial 92 finished with value: 0.5359477124183006 and parameters: {'num_heads': 8, 'num_layers': 1, 'd_model': 32, 'dropout': 0.45000000000000007, 'learning_rate': 0.0010901102023323358, 'weight_decay': 5.644722548599255e-05}. Best is trial 75 with value: 0.6356589147286822.\n"
     ]
    },
    {
     "name": "stdout",
     "output_type": "stream",
     "text": [
      "Accuracy: 59.54%\n",
      "Precision: 0.4556\n",
      "Recall: 0.6508\n",
      "F1 Score: 0.5359\n",
      "Matthews Correlation Coefficient: 0.2066\n",
      "Specificity: 0.5644\n"
     ]
    },
    {
     "name": "stderr",
     "output_type": "stream",
     "text": [
      "/tmp/ipykernel_187418/1883078025.py:10: FutureWarning: suggest_loguniform has been deprecated in v3.0.0. This feature will be removed in v6.0.0. See https://github.com/optuna/optuna/releases/tag/v3.0.0. Use suggest_float(..., log=True) instead.\n",
      "  learning_rate = trial.suggest_loguniform('learning_rate', 1e-5, 1e-1)\n",
      "/tmp/ipykernel_187418/1883078025.py:11: FutureWarning: suggest_loguniform has been deprecated in v3.0.0. This feature will be removed in v6.0.0. See https://github.com/optuna/optuna/releases/tag/v3.0.0. Use suggest_float(..., log=True) instead.\n",
      "  weight_decay=trial.suggest_loguniform('weight_decay', 1e-5, 1e-1)\n",
      "/home/gonken/anaconda3/envs/torch/lib/python3.12/site-packages/torch/nn/modules/transformer.py:379: UserWarning: enable_nested_tensor is True, but self.use_nested_tensor is False because encoder_layer.self_attn.batch_first was not True(use batch_first for better inference performance)\n",
      "  warnings.warn(\n",
      "[I 2024-11-28 21:22:24,521] Trial 93 finished with value: 0.6263157894736842 and parameters: {'num_heads': 8, 'num_layers': 1, 'd_model': 32, 'dropout': 0.5, 'learning_rate': 0.0018320545282470178, 'weight_decay': 7.661879349065634e-05}. Best is trial 75 with value: 0.6356589147286822.\n"
     ]
    },
    {
     "name": "stdout",
     "output_type": "stream",
     "text": [
      "Accuracy: 59.54%\n",
      "Precision: 0.4685\n",
      "Recall: 0.9444\n",
      "F1 Score: 0.6263\n",
      "Matthews Correlation Coefficient: 0.3695\n",
      "Specificity: 0.4000\n"
     ]
    },
    {
     "name": "stderr",
     "output_type": "stream",
     "text": [
      "/tmp/ipykernel_187418/1883078025.py:10: FutureWarning: suggest_loguniform has been deprecated in v3.0.0. This feature will be removed in v6.0.0. See https://github.com/optuna/optuna/releases/tag/v3.0.0. Use suggest_float(..., log=True) instead.\n",
      "  learning_rate = trial.suggest_loguniform('learning_rate', 1e-5, 1e-1)\n",
      "/tmp/ipykernel_187418/1883078025.py:11: FutureWarning: suggest_loguniform has been deprecated in v3.0.0. This feature will be removed in v6.0.0. See https://github.com/optuna/optuna/releases/tag/v3.0.0. Use suggest_float(..., log=True) instead.\n",
      "  weight_decay=trial.suggest_loguniform('weight_decay', 1e-5, 1e-1)\n",
      "/home/gonken/anaconda3/envs/torch/lib/python3.12/site-packages/torch/nn/modules/transformer.py:379: UserWarning: enable_nested_tensor is True, but self.use_nested_tensor is False because encoder_layer.self_attn.batch_first was not True(use batch_first for better inference performance)\n",
      "  warnings.warn(\n",
      "[I 2024-11-28 21:23:41,184] Trial 94 finished with value: 0.5885714285714285 and parameters: {'num_heads': 8, 'num_layers': 1, 'd_model': 32, 'dropout': 0.2, 'learning_rate': 0.004392925427136614, 'weight_decay': 0.00065461044937772}. Best is trial 75 with value: 0.6356589147286822.\n"
     ]
    },
    {
     "name": "stdout",
     "output_type": "stream",
     "text": [
      "Accuracy: 58.97%\n",
      "Precision: 0.4598\n",
      "Recall: 0.8175\n",
      "F1 Score: 0.5886\n",
      "Matthews Correlation Coefficient: 0.2792\n",
      "Specificity: 0.4622\n"
     ]
    },
    {
     "name": "stderr",
     "output_type": "stream",
     "text": [
      "/tmp/ipykernel_187418/1883078025.py:10: FutureWarning: suggest_loguniform has been deprecated in v3.0.0. This feature will be removed in v6.0.0. See https://github.com/optuna/optuna/releases/tag/v3.0.0. Use suggest_float(..., log=True) instead.\n",
      "  learning_rate = trial.suggest_loguniform('learning_rate', 1e-5, 1e-1)\n",
      "/tmp/ipykernel_187418/1883078025.py:11: FutureWarning: suggest_loguniform has been deprecated in v3.0.0. This feature will be removed in v6.0.0. See https://github.com/optuna/optuna/releases/tag/v3.0.0. Use suggest_float(..., log=True) instead.\n",
      "  weight_decay=trial.suggest_loguniform('weight_decay', 1e-5, 1e-1)\n",
      "/home/gonken/anaconda3/envs/torch/lib/python3.12/site-packages/torch/nn/modules/transformer.py:379: UserWarning: enable_nested_tensor is True, but self.use_nested_tensor is False because encoder_layer.self_attn.batch_first was not True(use batch_first for better inference performance)\n",
      "  warnings.warn(\n",
      "[I 2024-11-28 21:24:58,636] Trial 95 finished with value: 0.5298507462686567 and parameters: {'num_heads': 8, 'num_layers': 1, 'd_model': 32, 'dropout': 0.4, 'learning_rate': 0.0007623183077597203, 'weight_decay': 0.00020563431913118145}. Best is trial 75 with value: 0.6356589147286822.\n"
     ]
    },
    {
     "name": "stdout",
     "output_type": "stream",
     "text": [
      "Accuracy: 64.10%\n",
      "Precision: 0.5000\n",
      "Recall: 0.5635\n",
      "F1 Score: 0.5299\n",
      "Matthews Correlation Coefficient: 0.2423\n",
      "Specificity: 0.6844\n"
     ]
    },
    {
     "name": "stderr",
     "output_type": "stream",
     "text": [
      "/tmp/ipykernel_187418/1883078025.py:10: FutureWarning: suggest_loguniform has been deprecated in v3.0.0. This feature will be removed in v6.0.0. See https://github.com/optuna/optuna/releases/tag/v3.0.0. Use suggest_float(..., log=True) instead.\n",
      "  learning_rate = trial.suggest_loguniform('learning_rate', 1e-5, 1e-1)\n",
      "/tmp/ipykernel_187418/1883078025.py:11: FutureWarning: suggest_loguniform has been deprecated in v3.0.0. This feature will be removed in v6.0.0. See https://github.com/optuna/optuna/releases/tag/v3.0.0. Use suggest_float(..., log=True) instead.\n",
      "  weight_decay=trial.suggest_loguniform('weight_decay', 1e-5, 1e-1)\n",
      "/home/gonken/anaconda3/envs/torch/lib/python3.12/site-packages/torch/nn/modules/transformer.py:379: UserWarning: enable_nested_tensor is True, but self.use_nested_tensor is False because encoder_layer.self_attn.batch_first was not True(use batch_first for better inference performance)\n",
      "  warnings.warn(\n",
      "[I 2024-11-28 21:26:18,801] Trial 96 finished with value: 0.6243654822335025 and parameters: {'num_heads': 8, 'num_layers': 1, 'd_model': 32, 'dropout': 0.45000000000000007, 'learning_rate': 0.0031139949359034426, 'weight_decay': 5.3769410186555674e-05}. Best is trial 75 with value: 0.6356589147286822.\n"
     ]
    },
    {
     "name": "stdout",
     "output_type": "stream",
     "text": [
      "Accuracy: 57.83%\n",
      "Precision: 0.4590\n",
      "Recall: 0.9762\n",
      "F1 Score: 0.6244\n",
      "Matthews Correlation Coefficient: 0.3745\n",
      "Specificity: 0.3556\n"
     ]
    },
    {
     "name": "stderr",
     "output_type": "stream",
     "text": [
      "/tmp/ipykernel_187418/1883078025.py:10: FutureWarning: suggest_loguniform has been deprecated in v3.0.0. This feature will be removed in v6.0.0. See https://github.com/optuna/optuna/releases/tag/v3.0.0. Use suggest_float(..., log=True) instead.\n",
      "  learning_rate = trial.suggest_loguniform('learning_rate', 1e-5, 1e-1)\n",
      "/tmp/ipykernel_187418/1883078025.py:11: FutureWarning: suggest_loguniform has been deprecated in v3.0.0. This feature will be removed in v6.0.0. See https://github.com/optuna/optuna/releases/tag/v3.0.0. Use suggest_float(..., log=True) instead.\n",
      "  weight_decay=trial.suggest_loguniform('weight_decay', 1e-5, 1e-1)\n",
      "/home/gonken/anaconda3/envs/torch/lib/python3.12/site-packages/torch/nn/modules/transformer.py:379: UserWarning: enable_nested_tensor is True, but self.use_nested_tensor is False because encoder_layer.self_attn.batch_first was not True(use batch_first for better inference performance)\n",
      "  warnings.warn(\n",
      "[I 2024-11-28 21:27:37,583] Trial 97 finished with value: 0.6294416243654822 and parameters: {'num_heads': 8, 'num_layers': 1, 'd_model': 128, 'dropout': 0.5, 'learning_rate': 0.0056578278906909965, 'weight_decay': 2.5223549464288615e-05}. Best is trial 75 with value: 0.6356589147286822.\n"
     ]
    },
    {
     "name": "stdout",
     "output_type": "stream",
     "text": [
      "Accuracy: 58.40%\n",
      "Precision: 0.4627\n",
      "Recall: 0.9841\n",
      "F1 Score: 0.6294\n",
      "Matthews Correlation Coefficient: 0.3885\n",
      "Specificity: 0.3600\n"
     ]
    },
    {
     "name": "stderr",
     "output_type": "stream",
     "text": [
      "/tmp/ipykernel_187418/1883078025.py:10: FutureWarning: suggest_loguniform has been deprecated in v3.0.0. This feature will be removed in v6.0.0. See https://github.com/optuna/optuna/releases/tag/v3.0.0. Use suggest_float(..., log=True) instead.\n",
      "  learning_rate = trial.suggest_loguniform('learning_rate', 1e-5, 1e-1)\n",
      "/tmp/ipykernel_187418/1883078025.py:11: FutureWarning: suggest_loguniform has been deprecated in v3.0.0. This feature will be removed in v6.0.0. See https://github.com/optuna/optuna/releases/tag/v3.0.0. Use suggest_float(..., log=True) instead.\n",
      "  weight_decay=trial.suggest_loguniform('weight_decay', 1e-5, 1e-1)\n",
      "/home/gonken/anaconda3/envs/torch/lib/python3.12/site-packages/torch/nn/modules/transformer.py:379: UserWarning: enable_nested_tensor is True, but self.use_nested_tensor is False because encoder_layer.self_attn.batch_first was not True(use batch_first for better inference performance)\n",
      "  warnings.warn(\n",
      "[I 2024-11-28 21:28:53,325] Trial 98 finished with value: 0.6172839506172839 and parameters: {'num_heads': 8, 'num_layers': 1, 'd_model': 128, 'dropout': 0.5, 'learning_rate': 0.005322294177366523, 'weight_decay': 2.438892945925506e-05}. Best is trial 75 with value: 0.6356589147286822.\n"
     ]
    },
    {
     "name": "stdout",
     "output_type": "stream",
     "text": [
      "Accuracy: 55.84%\n",
      "Precision: 0.4480\n",
      "Recall: 0.9921\n",
      "F1 Score: 0.6173\n",
      "Matthews Correlation Coefficient: 0.3654\n",
      "Specificity: 0.3156\n"
     ]
    },
    {
     "name": "stderr",
     "output_type": "stream",
     "text": [
      "/tmp/ipykernel_187418/1883078025.py:10: FutureWarning: suggest_loguniform has been deprecated in v3.0.0. This feature will be removed in v6.0.0. See https://github.com/optuna/optuna/releases/tag/v3.0.0. Use suggest_float(..., log=True) instead.\n",
      "  learning_rate = trial.suggest_loguniform('learning_rate', 1e-5, 1e-1)\n",
      "/tmp/ipykernel_187418/1883078025.py:11: FutureWarning: suggest_loguniform has been deprecated in v3.0.0. This feature will be removed in v6.0.0. See https://github.com/optuna/optuna/releases/tag/v3.0.0. Use suggest_float(..., log=True) instead.\n",
      "  weight_decay=trial.suggest_loguniform('weight_decay', 1e-5, 1e-1)\n",
      "/home/gonken/anaconda3/envs/torch/lib/python3.12/site-packages/torch/nn/modules/transformer.py:379: UserWarning: enable_nested_tensor is True, but self.use_nested_tensor is False because encoder_layer.self_attn.batch_first was not True(use batch_first for better inference performance)\n",
      "  warnings.warn(\n",
      "[I 2024-11-28 21:31:33,448] Trial 99 finished with value: 0.6288659793814433 and parameters: {'num_heads': 8, 'num_layers': 3, 'd_model': 128, 'dropout': 0.5, 'learning_rate': 0.0016145529806777972, 'weight_decay': 0.0009650304724146465}. Best is trial 75 with value: 0.6356589147286822.\n"
     ]
    },
    {
     "name": "stdout",
     "output_type": "stream",
     "text": [
      "Accuracy: 58.97%\n",
      "Precision: 0.4656\n",
      "Recall: 0.9683\n",
      "F1 Score: 0.6289\n",
      "Matthews Correlation Coefficient: 0.3815\n",
      "Specificity: 0.3778\n",
      "Best Parameters:  {'num_heads': 2, 'num_layers': 1, 'd_model': 64, 'dropout': 0.45000000000000007, 'learning_rate': 0.0014702539606953286, 'weight_decay': 2.5598781679197222e-05}\n",
      "Best Validation F1:  0.6356589147286822\n"
     ]
    }
   ],
   "source": [
    "device = torch.device(\"cuda\" if torch.cuda.is_available() else \"cpu\")\n",
    "\n",
    "study = optuna.create_study(direction=\"maximize\")  \n",
    "study.optimize(objective, n_trials=100)\n",
    "\n",
    "\n",
    "print(\"Best Parameters: \", study.best_params)\n",
    "print(\"Best Validation F1: \", study.best_value)\n"
   ]
  },
  {
   "cell_type": "code",
   "execution_count": 9,
   "metadata": {},
   "outputs": [
    {
     "name": "stderr",
     "output_type": "stream",
     "text": [
      "/home/gonken/anaconda3/envs/torch/lib/python3.12/site-packages/torch/nn/modules/transformer.py:379: UserWarning: enable_nested_tensor is True, but self.use_nested_tensor is False because encoder_layer.self_attn.batch_first was not True(use batch_first for better inference performance)\n",
      "  warnings.warn(\n"
     ]
    },
    {
     "name": "stdout",
     "output_type": "stream",
     "text": [
      "Epoch [1/100], Loss: 0.6065\n",
      "Epoch [1/100], Train Loss: 0.6065, Val Loss: 0.5908\n",
      "Epoch [2/100], Loss: 0.5803\n",
      "Epoch [2/100], Train Loss: 0.5803, Val Loss: 0.5522\n",
      "Epoch [3/100], Loss: 0.5734\n",
      "Epoch [3/100], Train Loss: 0.5734, Val Loss: 0.5615\n",
      "Epoch [4/100], Loss: 0.5672\n",
      "Epoch [4/100], Train Loss: 0.5672, Val Loss: 0.5676\n",
      "Epoch [5/100], Loss: 0.5676\n",
      "Epoch [5/100], Train Loss: 0.5676, Val Loss: 0.5537\n",
      "Epoch [6/100], Loss: 0.5673\n",
      "Epoch [6/100], Train Loss: 0.5673, Val Loss: 0.5588\n",
      "Epoch [7/100], Loss: 0.5615\n",
      "Epoch [7/100], Train Loss: 0.5615, Val Loss: 0.5479\n",
      "Epoch [8/100], Loss: 0.5623\n",
      "Epoch [8/100], Train Loss: 0.5623, Val Loss: 0.5506\n",
      "Epoch [9/100], Loss: 0.5663\n",
      "Epoch [9/100], Train Loss: 0.5663, Val Loss: 0.5603\n",
      "Epoch [10/100], Loss: 0.5638\n",
      "Epoch [10/100], Train Loss: 0.5638, Val Loss: 0.5549\n",
      "Epoch [11/100], Loss: 0.5571\n",
      "Epoch [11/100], Train Loss: 0.5571, Val Loss: 0.5574\n",
      "Epoch [12/100], Loss: 0.5638\n",
      "Epoch [12/100], Train Loss: 0.5638, Val Loss: 0.5469\n",
      "Epoch [13/100], Loss: 0.5589\n",
      "Epoch [13/100], Train Loss: 0.5589, Val Loss: 0.5434\n",
      "Epoch [14/100], Loss: 0.5561\n",
      "Epoch [14/100], Train Loss: 0.5561, Val Loss: 0.5631\n",
      "Epoch [15/100], Loss: 0.5571\n",
      "Epoch [15/100], Train Loss: 0.5571, Val Loss: 0.5484\n",
      "Epoch [16/100], Loss: 0.5592\n",
      "Epoch [16/100], Train Loss: 0.5592, Val Loss: 0.5628\n",
      "Epoch [17/100], Loss: 0.5605\n",
      "Epoch [17/100], Train Loss: 0.5605, Val Loss: 0.5558\n",
      "Epoch [18/100], Loss: 0.5572\n",
      "Epoch [18/100], Train Loss: 0.5572, Val Loss: 0.5649\n",
      "Epoch [19/100], Loss: 0.5587\n",
      "Epoch [19/100], Train Loss: 0.5587, Val Loss: 0.5657\n",
      "Epoch [20/100], Loss: 0.5564\n",
      "Epoch [20/100], Train Loss: 0.5564, Val Loss: 0.5597\n",
      "Epoch [21/100], Loss: 0.5570\n",
      "Epoch [21/100], Train Loss: 0.5570, Val Loss: 0.5558\n",
      "Epoch [22/100], Loss: 0.5627\n",
      "Epoch [22/100], Train Loss: 0.5627, Val Loss: 0.5462\n",
      "Epoch [23/100], Loss: 0.5578\n",
      "Epoch [23/100], Train Loss: 0.5578, Val Loss: 0.5422\n",
      "Epoch [24/100], Loss: 0.5544\n",
      "Epoch [24/100], Train Loss: 0.5544, Val Loss: 0.5569\n",
      "Epoch [25/100], Loss: 0.5564\n",
      "Epoch [25/100], Train Loss: 0.5564, Val Loss: 0.5678\n",
      "Epoch [26/100], Loss: 0.5572\n",
      "Epoch [26/100], Train Loss: 0.5572, Val Loss: 0.5466\n",
      "Epoch [27/100], Loss: 0.5532\n",
      "Epoch [27/100], Train Loss: 0.5532, Val Loss: 0.5704\n",
      "Epoch [28/100], Loss: 0.5568\n",
      "Epoch [28/100], Train Loss: 0.5568, Val Loss: 0.5553\n",
      "Epoch [29/100], Loss: 0.5564\n",
      "Epoch [29/100], Train Loss: 0.5564, Val Loss: 0.5491\n",
      "Epoch [30/100], Loss: 0.5556\n",
      "Epoch [30/100], Train Loss: 0.5556, Val Loss: 0.5538\n",
      "Epoch [31/100], Loss: 0.5531\n",
      "Epoch [31/100], Train Loss: 0.5531, Val Loss: 0.5614\n",
      "Epoch [32/100], Loss: 0.5548\n",
      "Epoch [32/100], Train Loss: 0.5548, Val Loss: 0.5649\n",
      "Epoch [33/100], Loss: 0.5563\n",
      "Epoch [33/100], Train Loss: 0.5563, Val Loss: 0.5899\n",
      "Epoch [34/100], Loss: 0.5563\n",
      "Epoch [34/100], Train Loss: 0.5563, Val Loss: 0.5557\n",
      "Epoch [35/100], Loss: 0.5517\n",
      "Epoch [35/100], Train Loss: 0.5517, Val Loss: 0.5568\n",
      "Epoch [36/100], Loss: 0.5534\n",
      "Epoch [36/100], Train Loss: 0.5534, Val Loss: 0.5527\n",
      "Epoch [37/100], Loss: 0.5572\n",
      "Epoch [37/100], Train Loss: 0.5572, Val Loss: 0.5649\n",
      "Epoch [38/100], Loss: 0.5526\n",
      "Epoch [38/100], Train Loss: 0.5526, Val Loss: 0.5652\n",
      "Epoch [39/100], Loss: 0.5524\n",
      "Epoch [39/100], Train Loss: 0.5524, Val Loss: 0.5665\n",
      "Epoch [40/100], Loss: 0.5565\n",
      "Epoch [40/100], Train Loss: 0.5565, Val Loss: 0.5590\n",
      "Epoch [41/100], Loss: 0.5532\n",
      "Epoch [41/100], Train Loss: 0.5532, Val Loss: 0.5567\n",
      "Epoch [42/100], Loss: 0.5521\n",
      "Epoch [42/100], Train Loss: 0.5521, Val Loss: 0.5573\n",
      "Epoch [43/100], Loss: 0.5594\n",
      "Epoch [43/100], Train Loss: 0.5594, Val Loss: 0.5576\n",
      "Epoch [44/100], Loss: 0.5528\n",
      "Epoch [44/100], Train Loss: 0.5528, Val Loss: 0.5608\n",
      "Epoch [45/100], Loss: 0.5569\n",
      "Epoch [45/100], Train Loss: 0.5569, Val Loss: 0.5578\n",
      "Epoch [46/100], Loss: 0.5514\n",
      "Epoch [46/100], Train Loss: 0.5514, Val Loss: 0.5591\n",
      "Epoch [47/100], Loss: 0.5524\n",
      "Epoch [47/100], Train Loss: 0.5524, Val Loss: 0.5563\n",
      "Epoch [48/100], Loss: 0.5550\n",
      "Epoch [48/100], Train Loss: 0.5550, Val Loss: 0.5600\n",
      "Epoch [49/100], Loss: 0.5529\n",
      "Epoch [49/100], Train Loss: 0.5529, Val Loss: 0.5791\n",
      "Epoch [50/100], Loss: 0.5512\n",
      "Epoch [50/100], Train Loss: 0.5512, Val Loss: 0.5624\n",
      "Epoch [51/100], Loss: 0.5543\n",
      "Epoch [51/100], Train Loss: 0.5543, Val Loss: 0.5622\n",
      "Epoch [52/100], Loss: 0.5513\n",
      "Epoch [52/100], Train Loss: 0.5513, Val Loss: 0.5584\n",
      "Epoch [53/100], Loss: 0.5527\n",
      "Epoch [53/100], Train Loss: 0.5527, Val Loss: 0.5893\n",
      "Epoch [54/100], Loss: 0.5535\n",
      "Epoch [54/100], Train Loss: 0.5535, Val Loss: 0.5577\n",
      "Epoch [55/100], Loss: 0.5504\n",
      "Epoch [55/100], Train Loss: 0.5504, Val Loss: 0.5481\n",
      "Epoch [56/100], Loss: 0.5529\n",
      "Epoch [56/100], Train Loss: 0.5529, Val Loss: 0.5608\n",
      "Epoch [57/100], Loss: 0.5569\n",
      "Epoch [57/100], Train Loss: 0.5569, Val Loss: 0.5661\n",
      "Epoch [58/100], Loss: 0.5535\n",
      "Epoch [58/100], Train Loss: 0.5535, Val Loss: 0.5742\n",
      "Epoch [59/100], Loss: 0.5542\n",
      "Epoch [59/100], Train Loss: 0.5542, Val Loss: 0.5564\n",
      "Epoch [60/100], Loss: 0.5528\n",
      "Epoch [60/100], Train Loss: 0.5528, Val Loss: 0.5658\n",
      "Epoch [61/100], Loss: 0.5539\n",
      "Epoch [61/100], Train Loss: 0.5539, Val Loss: 0.5583\n",
      "Epoch [62/100], Loss: 0.5484\n",
      "Epoch [62/100], Train Loss: 0.5484, Val Loss: 0.5601\n",
      "Epoch [63/100], Loss: 0.5548\n",
      "Epoch [63/100], Train Loss: 0.5548, Val Loss: 0.5700\n",
      "Epoch [64/100], Loss: 0.5530\n",
      "Epoch [64/100], Train Loss: 0.5530, Val Loss: 0.5536\n",
      "Epoch [65/100], Loss: 0.5555\n",
      "Epoch [65/100], Train Loss: 0.5555, Val Loss: 0.5614\n",
      "Epoch [66/100], Loss: 0.5521\n",
      "Epoch [66/100], Train Loss: 0.5521, Val Loss: 0.5587\n",
      "Epoch [67/100], Loss: 0.5522\n",
      "Epoch [67/100], Train Loss: 0.5522, Val Loss: 0.5589\n",
      "Epoch [68/100], Loss: 0.5519\n",
      "Epoch [68/100], Train Loss: 0.5519, Val Loss: 0.5646\n",
      "Epoch [69/100], Loss: 0.5511\n",
      "Epoch [69/100], Train Loss: 0.5511, Val Loss: 0.5733\n",
      "Epoch [70/100], Loss: 0.5540\n",
      "Epoch [70/100], Train Loss: 0.5540, Val Loss: 0.5552\n",
      "Epoch [71/100], Loss: 0.5524\n",
      "Epoch [71/100], Train Loss: 0.5524, Val Loss: 0.5650\n",
      "Epoch [72/100], Loss: 0.5524\n",
      "Epoch [72/100], Train Loss: 0.5524, Val Loss: 0.5616\n",
      "Epoch [73/100], Loss: 0.5501\n",
      "Epoch [73/100], Train Loss: 0.5501, Val Loss: 0.5543\n",
      "Epoch [74/100], Loss: 0.5519\n",
      "Epoch [74/100], Train Loss: 0.5519, Val Loss: 0.5670\n",
      "Epoch [75/100], Loss: 0.5521\n",
      "Epoch [75/100], Train Loss: 0.5521, Val Loss: 0.5703\n",
      "Epoch [76/100], Loss: 0.5496\n",
      "Epoch [76/100], Train Loss: 0.5496, Val Loss: 0.5824\n",
      "Epoch [77/100], Loss: 0.5528\n",
      "Epoch [77/100], Train Loss: 0.5528, Val Loss: 0.5564\n",
      "Epoch [78/100], Loss: 0.5509\n",
      "Epoch [78/100], Train Loss: 0.5509, Val Loss: 0.5748\n",
      "Epoch [79/100], Loss: 0.5494\n",
      "Epoch [79/100], Train Loss: 0.5494, Val Loss: 0.5544\n",
      "Epoch [80/100], Loss: 0.5493\n",
      "Epoch [80/100], Train Loss: 0.5493, Val Loss: 0.5659\n",
      "Epoch [81/100], Loss: 0.5509\n",
      "Epoch [81/100], Train Loss: 0.5509, Val Loss: 0.5426\n",
      "Epoch [82/100], Loss: 0.5487\n",
      "Epoch [82/100], Train Loss: 0.5487, Val Loss: 0.5561\n",
      "Epoch [83/100], Loss: 0.5522\n",
      "Epoch [83/100], Train Loss: 0.5522, Val Loss: 0.5794\n",
      "Epoch [84/100], Loss: 0.5501\n",
      "Epoch [84/100], Train Loss: 0.5501, Val Loss: 0.5739\n",
      "Epoch [85/100], Loss: 0.5496\n",
      "Epoch [85/100], Train Loss: 0.5496, Val Loss: 0.5620\n",
      "Epoch [86/100], Loss: 0.5513\n",
      "Epoch [86/100], Train Loss: 0.5513, Val Loss: 0.5681\n",
      "Epoch [87/100], Loss: 0.5508\n",
      "Epoch [87/100], Train Loss: 0.5508, Val Loss: 0.5753\n",
      "Epoch [88/100], Loss: 0.5522\n",
      "Epoch [88/100], Train Loss: 0.5522, Val Loss: 0.5605\n",
      "Epoch [89/100], Loss: 0.5515\n",
      "Epoch [89/100], Train Loss: 0.5515, Val Loss: 0.5603\n",
      "Epoch [90/100], Loss: 0.5488\n",
      "Epoch [90/100], Train Loss: 0.5488, Val Loss: 0.5619\n",
      "Epoch [91/100], Loss: 0.5537\n",
      "Epoch [91/100], Train Loss: 0.5537, Val Loss: 0.5503\n",
      "Epoch [92/100], Loss: 0.5504\n",
      "Epoch [92/100], Train Loss: 0.5504, Val Loss: 0.5781\n",
      "Epoch [93/100], Loss: 0.5496\n",
      "Epoch [93/100], Train Loss: 0.5496, Val Loss: 0.6113\n",
      "Epoch [94/100], Loss: 0.5548\n",
      "Epoch [94/100], Train Loss: 0.5548, Val Loss: 0.5670\n",
      "Epoch [95/100], Loss: 0.5489\n",
      "Epoch [95/100], Train Loss: 0.5489, Val Loss: 0.5701\n",
      "Epoch [96/100], Loss: 0.5458\n",
      "Epoch [96/100], Train Loss: 0.5458, Val Loss: 0.5687\n",
      "Epoch [97/100], Loss: 0.5493\n",
      "Epoch [97/100], Train Loss: 0.5493, Val Loss: 0.5648\n",
      "Epoch [98/100], Loss: 0.5490\n",
      "Epoch [98/100], Train Loss: 0.5490, Val Loss: 0.5663\n",
      "Epoch [99/100], Loss: 0.5522\n",
      "Epoch [99/100], Train Loss: 0.5522, Val Loss: 0.5596\n",
      "Epoch [100/100], Loss: 0.5517\n",
      "Epoch [100/100], Train Loss: 0.5517, Val Loss: 0.5747\n"
     ]
    },
    {
     "data": {
      "image/png": "[encoded data removed]",
      "text/plain": [
       "<Figure size 1000x600 with 1 Axes>"
      ]
     },
     "metadata": {},
     "output_type": "display_data"
    }
   ],
   "source": [
    "best_params=study.best_params\n",
    "model = FTTransformer_2(input_dim=X_train_tensor.shape[1],\n",
    "                      num_heads=best_params[\"num_heads\"],\n",
    "                      num_layers=best_params[\"num_layers\"],\n",
    "                      d_model=best_params[\"d_model\"],\n",
    "                      dropout=best_params[\"dropout\"]).to(device)\n",
    "# 最適化と訓練を実行\n",
    "optimizer = optim.Adam(model.parameters(), lr=best_params[\"learning_rate\"],weight_decay=best_params[\"weight_decay\"])\n",
    "criterion = nn.BCELoss()\n",
    "\n",
    "num_epochs=100\n",
    "train_losses = []\n",
    "val_losses = []\n",
    "\n",
    "model.train()\n",
    "for epoch in range(num_epochs):\n",
    "    epoch_train_loss = 0\n",
    "    epoch_val_loss = 0\n",
    "\n",
    "    for X_batch, y_batch in train_loader:\n",
    "        X_batch, y_batch = X_batch.to(device), y_batch.to(device)\n",
    "        optimizer.zero_grad()\n",
    "        outputs = model(X_batch).squeeze()\n",
    "        loss = criterion(outputs, y_batch)\n",
    "        loss.backward()\n",
    "        optimizer.step()\n",
    "        epoch_train_loss += loss.item()\n",
    "    avg_train_loss = epoch_train_loss / len(train_loader)\n",
    "    train_losses.append(avg_train_loss)\n",
    "    print(f'Epoch [{epoch+1}/{num_epochs}], Loss: {avg_train_loss:.4f}')\n",
    "\n",
    "    if val_loader is not None:\n",
    "        model.eval()  \n",
    "        with torch.no_grad():\n",
    "            for X_val, y_val in val_loader:\n",
    "                X_val, y_val = X_val.to(device), y_val.to(device)\n",
    "                val_outputs = model(X_val).squeeze()\n",
    "                val_loss = criterion(val_outputs, y_val)\n",
    "                epoch_val_loss += val_loss.item()\n",
    "\n",
    "        avg_val_loss = epoch_val_loss / len(val_loader)\n",
    "        val_losses.append(avg_val_loss)\n",
    "        model.train()  \n",
    "\n",
    "    if val_loader is not None:\n",
    "        print(f\"Epoch [{epoch+1}/{num_epochs}], Train Loss: {avg_train_loss:.4f}, Val Loss: {avg_val_loss:.4f}\")\n",
    "    else:\n",
    "        print(f\"Epoch [{epoch+1}/{num_epochs}], Train Loss: {avg_train_loss:.4f}\")\n",
    "\n",
    "plt.figure(figsize=(10, 6))\n",
    "plt.plot(range(1, num_epochs + 1), train_losses, label='Train Loss')\n",
    "if val_losses:\n",
    "    plt.plot(range(1, num_epochs + 1), val_losses, label='Validation Loss')\n",
    "plt.xlabel('Epoch')\n",
    "plt.ylabel('Loss')\n",
    "plt.title('Learning Curve for DNN1')\n",
    "plt.legend()\n",
    "plt.grid()\n",
    "plt.show()"
   ]
  },
  {
   "cell_type": "code",
   "execution_count": 10,
   "metadata": {},
   "outputs": [
    {
     "name": "stdout",
     "output_type": "stream",
     "text": [
      "Accuracy: 58.66%\n",
      "Precision: 0.4822\n",
      "Recall: 0.9587\n",
      "F1 Score: 0.6417\n",
      "Matthews Correlation Coefficient: 0.3588\n",
      "Specificity: 0.3525\n"
     ]
    },
    {
     "data": {
      "image/png": "[encoded data removed]",
      "text/plain": [
       "<Figure size 640x480 with 1 Axes>"
      ]
     },
     "metadata": {},
     "output_type": "display_data"
    },
    {
     "data": {
      "image/png": "[encoded data removed]",
      "text/plain": [
       "<Figure size 640x480 with 1 Axes>"
      ]
     },
     "metadata": {},
     "output_type": "display_data"
    },
    {
     "data": {
      "image/png": "[encoded data removed]",
      "text/plain": [
       "<Figure size 640x480 with 1 Axes>"
      ]
     },
     "metadata": {},
     "output_type": "display_data"
    }
   ],
   "source": [
    "model.eval()\n",
    "with torch.no_grad():\n",
    "    X_test_tensor = X_test_tensor.to(device)\n",
    "    y_test_tensor = y_test_tensor.to(device)\n",
    "\n",
    "    # 予測と確率\n",
    "    test_outputs = model(X_test_tensor).squeeze()\n",
    "    predictions = (test_outputs >= 0.5).float()\n",
    "    y_true = y_test_tensor.cpu().numpy()\n",
    "    y_pred = predictions.cpu().numpy()\n",
    "    y_prob = test_outputs.cpu().numpy()\n",
    "\n",
    "# 評価指標\n",
    "    accuracy = accuracy_score(y_true, y_pred)\n",
    "    precision = precision_score(y_true, y_pred)\n",
    "    recall = recall_score(y_true, y_pred)\n",
    "    f1 = f1_score(y_true, y_pred)\n",
    "    mcc = matthews_corrcoef(y_true, y_pred)\n",
    "    specificity = recall_score(y_true, y_pred, pos_label=0)  \n",
    "    print(f'Accuracy: {accuracy * 100:.2f}%')\n",
    "    print(f'Precision: {precision:.4f}')\n",
    "    print(f'Recall: {recall:.4f}')\n",
    "    print(f'F1 Score: {f1:.4f}')\n",
    "    print(f'Matthews Correlation Coefficient: {mcc:.4f}')\n",
    "    print(f'Specificity: {specificity:.4f}')\n",
    "\n",
    "    # 混同行列（割合表示）\n",
    "    cm = confusion_matrix(y_true, y_pred, normalize='true')\n",
    "    sns.heatmap(cm, annot=True, fmt=\".2%\", cmap=\"Blues\", cbar=False)\n",
    "    plt.xlabel(\"Predicted\")\n",
    "    plt.ylabel(\"Actual\")\n",
    "    plt.title(f\"Confusion Matrix (Normalized)\")\n",
    "    plt.show()\n",
    "\n",
    "    # ROC曲線とAUC\n",
    "    fpr, tpr, thresholds = roc_curve(y_true, y_prob)\n",
    "    roc_auc = auc(fpr, tpr)\n",
    "    plt.plot(fpr, tpr, label=f'ROC curve (AUC = {roc_auc:.2f})')\n",
    "    plt.plot([0, 1], [0, 1], 'k--') \n",
    "    plt.xlabel('False Positive Rate')\n",
    "    plt.ylabel('True Positive Rate')\n",
    "    plt.title(f'ROC Curve - Model ')\n",
    "    plt.legend(loc=\"lower right\")\n",
    "    plt.show()\n",
    "\n",
    "    # Precision-Recall曲線\n",
    "    precision_curve, recall_curve, pr_thresholds = precision_recall_curve(y_true, y_prob)\n",
    "    pr_auc = auc(recall_curve, precision_curve)\n",
    "    plt.plot(recall_curve, precision_curve, label=f'PR curve (AUC = {pr_auc:.2f})')\n",
    "    plt.xlabel('Recall')\n",
    "    plt.ylabel('Precision')\n",
    "    plt.title(f'Precision-Recall Curve ')\n",
    "    plt.legend(loc=\"lower left\")\n",
    "    plt.show()    "
   ]
  },
  {
   "cell_type": "code",
   "execution_count": 11,
   "metadata": {},
   "outputs": [],
   "source": [
    "# モデルと構造を保存\n",
    "torch.save(model, '../../saved_model/FT_transformer_2.pth')\n"
   ]
  },
  {
   "cell_type": "code",
   "execution_count": null,
   "metadata": {},
   "outputs": [],
   "source": []
  }
 ],
 "metadata": {
  "kernelspec": {
   "display_name": "torch",
   "language": "python",
   "name": "python3"
  },
  "language_info": {
   "codemirror_mode": {
    "name": "ipython",
    "version": 3
   },
   "file_extension": ".py",
   "mimetype": "text/x-python",
   "name": "python",
   "nbconvert_exporter": "python",
   "pygments_lexer": "ipython3",
   "version": "3.12.7"
  }
 },
 "nbformat": 4,
 "nbformat_minor": 2
}
