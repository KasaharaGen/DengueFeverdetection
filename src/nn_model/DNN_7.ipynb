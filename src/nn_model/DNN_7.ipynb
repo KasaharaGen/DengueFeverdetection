{
 "cells": [
  {
   "cell_type": "code",
   "execution_count": 7,
   "metadata": {},
   "outputs": [],
   "source": [
    "import numpy as np\n",
    "import pandas as pd\n",
    "import matplotlib.pyplot as plt\n",
    "import seaborn as sns\n",
    "\n",
    "import torch\n",
    "import torch.nn as nn\n",
    "import torch.optim as optim\n",
    "\n",
    "import optuna\n",
    "\n",
    "from sklearn.model_selection import train_test_split\n",
    "from sklearn.metrics import confusion_matrix,accuracy_score, precision_score, recall_score, f1_score, confusion_matrix, roc_curve, auc,matthews_corrcoef, precision_recall_curve,roc_auc_score\n",
    "\n"
   ]
  },
  {
   "cell_type": "markdown",
   "metadata": {},
   "source": [
    "データ読み取り"
   ]
  },
  {
   "cell_type": "code",
   "execution_count": 8,
   "metadata": {},
   "outputs": [],
   "source": [
    "df=pd.read_csv('../../data/learning_data.csv',index_col=0)\n",
    "\n",
    "X=df.drop(columns='dengue',axis=1).values\n",
    "y=df['dengue'].values\n",
    "\n",
    "X_train, X_test, y_train, y_test = train_test_split(X, y, test_size=0.2,random_state=42)\n",
    "X_train, X_val, y_train, y_val = train_test_split(X_train, y_train, test_size=0.1,random_state=42)\n",
    "\n",
    "#torchテンソルに変換\n",
    "X_train_tensor = torch.tensor(X_train, dtype=torch.float32)\n",
    "y_train_tensor = torch.tensor(y_train, dtype=torch.float32)\n",
    "X_test_tensor = torch.tensor(X_test, dtype=torch.float32)\n",
    "y_test_tensor = torch.tensor(y_test, dtype=torch.float32)\n",
    "X_val_tensor = torch.tensor(X_val, dtype=torch.float32)\n",
    "y_val_tensor = torch.tensor(y_val, dtype=torch.float32)\n"
   ]
  },
  {
   "cell_type": "code",
   "execution_count": 9,
   "metadata": {},
   "outputs": [],
   "source": [
    "class DNN_7(nn.Module):\n",
    "    def __init__(self, input_dim,dropout1,dropout2):\n",
    "        super(DNN_7, self).__init__()\n",
    "        self.layer1 = nn.Linear(input_dim,64)\n",
    "        self.layer2 = nn.Linear(64,32)\n",
    "        self.layer3 = nn.Linear(32, 16)\n",
    "        self.layer4 = nn.Linear(16, 8)\n",
    "        self.output_layer = nn.Linear(8, 1)\n",
    "\n",
    "        self.dropout1 = nn.Dropout(dropout1)\n",
    "        self.dropout2 = nn.Dropout(dropout2)        \n",
    "        \n",
    "    def forward(self, x):\n",
    "        x = torch.relu(self.layer1(x))\n",
    "        \n",
    "        x = torch.relu(self.layer2(x))\n",
    "        x = self.dropout1(x)\n",
    "\n",
    "        x = torch.relu(self.layer3(x))\n",
    "        x = self.dropout2(x)\n",
    "\n",
    "        x = torch.relu(self.layer4(x))\n",
    "    \n",
    "\n",
    "        x = torch.sigmoid(self.output_layer(x)) \n",
    "        return x\n",
    "    "
   ]
  },
  {
   "cell_type": "markdown",
   "metadata": {},
   "source": [
    "学習データセットの作成"
   ]
  },
  {
   "cell_type": "code",
   "execution_count": 10,
   "metadata": {},
   "outputs": [],
   "source": [
    "train_dataset = torch.utils.data.TensorDataset(X_train_tensor, y_train_tensor)\n",
    "train_loader = torch.utils.data.DataLoader(dataset=train_dataset, batch_size=4, shuffle=True)\n",
    "\n",
    "val_dataset = torch.utils.data.TensorDataset(X_val_tensor, y_val_tensor)\n",
    "val_loader = torch.utils.data.DataLoader(dataset=val_dataset, batch_size=4, shuffle=False)"
   ]
  },
  {
   "cell_type": "markdown",
   "metadata": {},
   "source": [
    "Optunaの設定"
   ]
  },
  {
   "cell_type": "code",
   "execution_count": 11,
   "metadata": {},
   "outputs": [],
   "source": [
    "def objective(trial):\n",
    "    # ハイパーパラメータのサンプリング\n",
    "    dropout1 = trial.suggest_float(\"dropout1\", 0, 0.5, step=0.05)\n",
    "    dropout2 = trial.suggest_float(\"dropout2\", 0, 0.5, step=0.05)\n",
    "    learning_rate = trial.suggest_loguniform(\"learning_rate\", 1e-5, 1e-2)  \n",
    "    weight_decay = trial.suggest_loguniform(\"weight_decay\", 1e-5, 1e-2)   \n",
    "\n",
    "    # モデル定義\n",
    "    model = DNN_7(\n",
    "        input_dim=X_train_tensor.shape[1],\n",
    "        dropout1=dropout1,\n",
    "        dropout2=dropout2,\n",
    "    ).to(device)\n",
    "\n",
    "    criterion = nn.BCELoss()\n",
    "    optimizer = torch.optim.Adam(model.parameters(), lr=learning_rate, weight_decay=weight_decay)\n",
    "\n",
    "    # Early Stoppingの設定\n",
    "    patience = 10\n",
    "    best_val_loss = float('inf')\n",
    "    patience_counter = 0\n",
    "\n",
    "    # 訓練ループ\n",
    "    num_epochs = 100\n",
    "    for epoch in range(num_epochs):\n",
    "        model.train()\n",
    "        for X_batch, y_batch in train_loader:\n",
    "            X_batch, y_batch = X_batch.to(device), y_batch.to(device)\n",
    "            optimizer.zero_grad()\n",
    "            outputs = model(X_batch).squeeze()\n",
    "            loss = criterion(outputs, y_batch.squeeze())\n",
    "            loss.backward()\n",
    "            optimizer.step()\n",
    "\n",
    "        # バリデーション評価\n",
    "        model.eval()\n",
    "        val_loss = 0\n",
    "        val_true, val_pred = [], []\n",
    "        with torch.no_grad():\n",
    "            for X_val, y_val in val_loader:\n",
    "                X_val, y_val = X_val.to(device), y_val.to(device)\n",
    "                val_outputs = model(X_val).squeeze()\n",
    "                val_loss += criterion(val_outputs, y_val.squeeze()).item()\n",
    "                predictions = (val_outputs >0.49).float()\n",
    "                val_true.extend(y_val.cpu().numpy())\n",
    "                val_pred.extend(predictions.cpu().numpy())\n",
    "\n",
    "        val_loss /= len(val_loader)\n",
    "\n",
    "        # Early Stopping判定\n",
    "        if val_loss < best_val_loss:\n",
    "            best_val_loss = val_loss\n",
    "            patience_counter = 0\n",
    "        else:\n",
    "            patience_counter += 1\n",
    "\n",
    "        if patience_counter >= patience:\n",
    "            print(f\"Early stopping at epoch {epoch}\")\n",
    "            break\n",
    "\n",
    "        # Optunaへのログ\n",
    "        trial.report(val_loss, epoch)\n",
    "        if trial.should_prune():\n",
    "            raise optuna.exceptions.TrialPruned()\n",
    "\n",
    "    # 最終的な評価指標を計算\n",
    "    mcc = matthews_corrcoef(val_true, val_pred)\n",
    "    print(f\"Final MCC: {mcc:.4f}\")\n",
    "\n",
    "    return mcc  # mccを返す\n"
   ]
  },
  {
   "cell_type": "code",
   "execution_count": 12,
   "metadata": {},
   "outputs": [
    {
     "name": "stderr",
     "output_type": "stream",
     "text": [
      "[I 2024-12-04 16:10:44,018] A new study created in memory with name: no-name-54aba706-d805-4c0d-8b79-23a61c177d3a\n",
      "/tmp/ipykernel_282327/3737011491.py:5: FutureWarning: suggest_loguniform has been deprecated in v3.0.0. This feature will be removed in v6.0.0. See https://github.com/optuna/optuna/releases/tag/v3.0.0. Use suggest_float(..., log=True) instead.\n",
      "  learning_rate = trial.suggest_loguniform(\"learning_rate\", 1e-5, 1e-2)\n",
      "/tmp/ipykernel_282327/3737011491.py:6: FutureWarning: suggest_loguniform has been deprecated in v3.0.0. This feature will be removed in v6.0.0. See https://github.com/optuna/optuna/releases/tag/v3.0.0. Use suggest_float(..., log=True) instead.\n",
      "  weight_decay = trial.suggest_loguniform(\"weight_decay\", 1e-5, 1e-2)\n",
      "[I 2024-12-04 16:12:27,100] Trial 0 finished with value: 0.3578259477273763 and parameters: {'dropout1': 0.4, 'dropout2': 0.2, 'learning_rate': 0.0020550008508311924, 'weight_decay': 0.0005321056947270113}. Best is trial 0 with value: 0.3578259477273763.\n"
     ]
    },
    {
     "name": "stdout",
     "output_type": "stream",
     "text": [
      "Early stopping at epoch 35\n",
      "Final MCC: 0.3578\n"
     ]
    },
    {
     "name": "stderr",
     "output_type": "stream",
     "text": [
      "/tmp/ipykernel_282327/3737011491.py:5: FutureWarning: suggest_loguniform has been deprecated in v3.0.0. This feature will be removed in v6.0.0. See https://github.com/optuna/optuna/releases/tag/v3.0.0. Use suggest_float(..., log=True) instead.\n",
      "  learning_rate = trial.suggest_loguniform(\"learning_rate\", 1e-5, 1e-2)\n",
      "/tmp/ipykernel_282327/3737011491.py:6: FutureWarning: suggest_loguniform has been deprecated in v3.0.0. This feature will be removed in v6.0.0. See https://github.com/optuna/optuna/releases/tag/v3.0.0. Use suggest_float(..., log=True) instead.\n",
      "  weight_decay = trial.suggest_loguniform(\"weight_decay\", 1e-5, 1e-2)\n",
      "[I 2024-12-04 16:13:15,272] Trial 1 finished with value: 0.34659191007765316 and parameters: {'dropout1': 0.4, 'dropout2': 0.35000000000000003, 'learning_rate': 0.006926274593431494, 'weight_decay': 4.964310241196521e-05}. Best is trial 0 with value: 0.3578259477273763.\n"
     ]
    },
    {
     "name": "stdout",
     "output_type": "stream",
     "text": [
      "Early stopping at epoch 16\n",
      "Final MCC: 0.3466\n"
     ]
    },
    {
     "name": "stderr",
     "output_type": "stream",
     "text": [
      "/tmp/ipykernel_282327/3737011491.py:5: FutureWarning: suggest_loguniform has been deprecated in v3.0.0. This feature will be removed in v6.0.0. See https://github.com/optuna/optuna/releases/tag/v3.0.0. Use suggest_float(..., log=True) instead.\n",
      "  learning_rate = trial.suggest_loguniform(\"learning_rate\", 1e-5, 1e-2)\n",
      "/tmp/ipykernel_282327/3737011491.py:6: FutureWarning: suggest_loguniform has been deprecated in v3.0.0. This feature will be removed in v6.0.0. See https://github.com/optuna/optuna/releases/tag/v3.0.0. Use suggest_float(..., log=True) instead.\n",
      "  weight_decay = trial.suggest_loguniform(\"weight_decay\", 1e-5, 1e-2)\n",
      "[I 2024-12-04 16:14:09,699] Trial 2 finished with value: 0.2538060476894739 and parameters: {'dropout1': 0.45, 'dropout2': 0.1, 'learning_rate': 0.0006479362113289573, 'weight_decay': 6.254823448407347e-05}. Best is trial 0 with value: 0.3578259477273763.\n"
     ]
    },
    {
     "name": "stdout",
     "output_type": "stream",
     "text": [
      "Early stopping at epoch 18\n",
      "Final MCC: 0.2538\n"
     ]
    },
    {
     "name": "stderr",
     "output_type": "stream",
     "text": [
      "/tmp/ipykernel_282327/3737011491.py:5: FutureWarning: suggest_loguniform has been deprecated in v3.0.0. This feature will be removed in v6.0.0. See https://github.com/optuna/optuna/releases/tag/v3.0.0. Use suggest_float(..., log=True) instead.\n",
      "  learning_rate = trial.suggest_loguniform(\"learning_rate\", 1e-5, 1e-2)\n",
      "/tmp/ipykernel_282327/3737011491.py:6: FutureWarning: suggest_loguniform has been deprecated in v3.0.0. This feature will be removed in v6.0.0. See https://github.com/optuna/optuna/releases/tag/v3.0.0. Use suggest_float(..., log=True) instead.\n",
      "  weight_decay = trial.suggest_loguniform(\"weight_decay\", 1e-5, 1e-2)\n",
      "[I 2024-12-04 16:18:22,884] Trial 3 finished with value: 0.25377466080695305 and parameters: {'dropout1': 0.45, 'dropout2': 0.15000000000000002, 'learning_rate': 4.4905927697967624e-05, 'weight_decay': 0.00010082623046206191}. Best is trial 0 with value: 0.3578259477273763.\n"
     ]
    },
    {
     "name": "stdout",
     "output_type": "stream",
     "text": [
      "Early stopping at epoch 86\n",
      "Final MCC: 0.2538\n"
     ]
    },
    {
     "name": "stderr",
     "output_type": "stream",
     "text": [
      "/tmp/ipykernel_282327/3737011491.py:5: FutureWarning: suggest_loguniform has been deprecated in v3.0.0. This feature will be removed in v6.0.0. See https://github.com/optuna/optuna/releases/tag/v3.0.0. Use suggest_float(..., log=True) instead.\n",
      "  learning_rate = trial.suggest_loguniform(\"learning_rate\", 1e-5, 1e-2)\n",
      "/tmp/ipykernel_282327/3737011491.py:6: FutureWarning: suggest_loguniform has been deprecated in v3.0.0. This feature will be removed in v6.0.0. See https://github.com/optuna/optuna/releases/tag/v3.0.0. Use suggest_float(..., log=True) instead.\n",
      "  weight_decay = trial.suggest_loguniform(\"weight_decay\", 1e-5, 1e-2)\n",
      "[I 2024-12-04 16:19:29,326] Trial 4 finished with value: 0.32011378178572664 and parameters: {'dropout1': 0.35000000000000003, 'dropout2': 0.1, 'learning_rate': 0.0005409079430629312, 'weight_decay': 0.0011345267346542314}. Best is trial 0 with value: 0.3578259477273763.\n"
     ]
    },
    {
     "name": "stdout",
     "output_type": "stream",
     "text": [
      "Early stopping at epoch 19\n",
      "Final MCC: 0.3201\n"
     ]
    },
    {
     "name": "stderr",
     "output_type": "stream",
     "text": [
      "/tmp/ipykernel_282327/3737011491.py:5: FutureWarning: suggest_loguniform has been deprecated in v3.0.0. This feature will be removed in v6.0.0. See https://github.com/optuna/optuna/releases/tag/v3.0.0. Use suggest_float(..., log=True) instead.\n",
      "  learning_rate = trial.suggest_loguniform(\"learning_rate\", 1e-5, 1e-2)\n",
      "/tmp/ipykernel_282327/3737011491.py:6: FutureWarning: suggest_loguniform has been deprecated in v3.0.0. This feature will be removed in v6.0.0. See https://github.com/optuna/optuna/releases/tag/v3.0.0. Use suggest_float(..., log=True) instead.\n",
      "  weight_decay = trial.suggest_loguniform(\"weight_decay\", 1e-5, 1e-2)\n",
      "[I 2024-12-04 16:19:32,659] Trial 5 pruned. \n",
      "[I 2024-12-04 16:25:07,216] Trial 6 finished with value: 0.25409593699294786 and parameters: {'dropout1': 0.2, 'dropout2': 0.1, 'learning_rate': 1.1542276801748539e-05, 'weight_decay': 0.00019974285987042292}. Best is trial 0 with value: 0.3578259477273763.\n"
     ]
    },
    {
     "name": "stdout",
     "output_type": "stream",
     "text": [
      "Final MCC: 0.2541\n"
     ]
    },
    {
     "name": "stderr",
     "output_type": "stream",
     "text": [
      "/tmp/ipykernel_282327/3737011491.py:5: FutureWarning: suggest_loguniform has been deprecated in v3.0.0. This feature will be removed in v6.0.0. See https://github.com/optuna/optuna/releases/tag/v3.0.0. Use suggest_float(..., log=True) instead.\n",
      "  learning_rate = trial.suggest_loguniform(\"learning_rate\", 1e-5, 1e-2)\n",
      "/tmp/ipykernel_282327/3737011491.py:6: FutureWarning: suggest_loguniform has been deprecated in v3.0.0. This feature will be removed in v6.0.0. See https://github.com/optuna/optuna/releases/tag/v3.0.0. Use suggest_float(..., log=True) instead.\n",
      "  weight_decay = trial.suggest_loguniform(\"weight_decay\", 1e-5, 1e-2)\n",
      "[I 2024-12-04 16:25:10,599] Trial 7 pruned. \n",
      "[I 2024-12-04 16:30:36,776] Trial 8 finished with value: 0.3182192318053801 and parameters: {'dropout1': 0.5, 'dropout2': 0.1, 'learning_rate': 2.987669898092136e-05, 'weight_decay': 8.065390441124713e-05}. Best is trial 0 with value: 0.3578259477273763.\n"
     ]
    },
    {
     "name": "stdout",
     "output_type": "stream",
     "text": [
      "Early stopping at epoch 94\n",
      "Final MCC: 0.3182\n"
     ]
    },
    {
     "name": "stderr",
     "output_type": "stream",
     "text": [
      "/tmp/ipykernel_282327/3737011491.py:5: FutureWarning: suggest_loguniform has been deprecated in v3.0.0. This feature will be removed in v6.0.0. See https://github.com/optuna/optuna/releases/tag/v3.0.0. Use suggest_float(..., log=True) instead.\n",
      "  learning_rate = trial.suggest_loguniform(\"learning_rate\", 1e-5, 1e-2)\n",
      "/tmp/ipykernel_282327/3737011491.py:6: FutureWarning: suggest_loguniform has been deprecated in v3.0.0. This feature will be removed in v6.0.0. See https://github.com/optuna/optuna/releases/tag/v3.0.0. Use suggest_float(..., log=True) instead.\n",
      "  weight_decay = trial.suggest_loguniform(\"weight_decay\", 1e-5, 1e-2)\n",
      "[I 2024-12-04 16:36:29,772] Trial 9 finished with value: 0.2782065177585772 and parameters: {'dropout1': 0.05, 'dropout2': 0.1, 'learning_rate': 1.5986225252076417e-05, 'weight_decay': 1.8399437014376893e-05}. Best is trial 0 with value: 0.3578259477273763.\n"
     ]
    },
    {
     "name": "stdout",
     "output_type": "stream",
     "text": [
      "Final MCC: 0.2782\n"
     ]
    },
    {
     "name": "stderr",
     "output_type": "stream",
     "text": [
      "/tmp/ipykernel_282327/3737011491.py:5: FutureWarning: suggest_loguniform has been deprecated in v3.0.0. This feature will be removed in v6.0.0. See https://github.com/optuna/optuna/releases/tag/v3.0.0. Use suggest_float(..., log=True) instead.\n",
      "  learning_rate = trial.suggest_loguniform(\"learning_rate\", 1e-5, 1e-2)\n",
      "/tmp/ipykernel_282327/3737011491.py:6: FutureWarning: suggest_loguniform has been deprecated in v3.0.0. This feature will be removed in v6.0.0. See https://github.com/optuna/optuna/releases/tag/v3.0.0. Use suggest_float(..., log=True) instead.\n",
      "  weight_decay = trial.suggest_loguniform(\"weight_decay\", 1e-5, 1e-2)\n",
      "[I 2024-12-04 16:38:52,252] Trial 10 finished with value: 0.29072133077420836 and parameters: {'dropout1': 0.15000000000000002, 'dropout2': 0.5, 'learning_rate': 0.00013172375833968102, 'weight_decay': 0.00833999805277351}. Best is trial 0 with value: 0.3578259477273763.\n"
     ]
    },
    {
     "name": "stdout",
     "output_type": "stream",
     "text": [
      "Early stopping at epoch 37\n",
      "Final MCC: 0.2907\n"
     ]
    },
    {
     "name": "stderr",
     "output_type": "stream",
     "text": [
      "/tmp/ipykernel_282327/3737011491.py:5: FutureWarning: suggest_loguniform has been deprecated in v3.0.0. This feature will be removed in v6.0.0. See https://github.com/optuna/optuna/releases/tag/v3.0.0. Use suggest_float(..., log=True) instead.\n",
      "  learning_rate = trial.suggest_loguniform(\"learning_rate\", 1e-5, 1e-2)\n",
      "/tmp/ipykernel_282327/3737011491.py:6: FutureWarning: suggest_loguniform has been deprecated in v3.0.0. This feature will be removed in v6.0.0. See https://github.com/optuna/optuna/releases/tag/v3.0.0. Use suggest_float(..., log=True) instead.\n",
      "  weight_decay = trial.suggest_loguniform(\"weight_decay\", 1e-5, 1e-2)\n",
      "[I 2024-12-04 16:38:55,894] Trial 11 pruned. \n",
      "[I 2024-12-04 16:38:59,508] Trial 12 pruned. \n",
      "[I 2024-12-04 16:39:03,184] Trial 13 pruned. \n",
      "[I 2024-12-04 16:39:06,790] Trial 14 pruned. \n",
      "[I 2024-12-04 16:39:10,389] Trial 15 pruned. \n",
      "[I 2024-12-04 16:39:13,977] Trial 16 pruned. \n",
      "[I 2024-12-04 16:39:17,610] Trial 17 pruned. \n",
      "[I 2024-12-04 16:39:21,220] Trial 18 pruned. \n",
      "[I 2024-12-04 16:39:24,828] Trial 19 pruned. \n",
      "[I 2024-12-04 16:39:28,431] Trial 20 pruned. \n",
      "[I 2024-12-04 16:39:32,043] Trial 21 pruned. \n",
      "[I 2024-12-04 16:39:35,661] Trial 22 pruned. \n",
      "[I 2024-12-04 16:39:39,248] Trial 23 pruned. \n",
      "[I 2024-12-04 16:39:42,861] Trial 24 pruned. \n",
      "[I 2024-12-04 16:39:46,497] Trial 25 pruned. \n",
      "[I 2024-12-04 16:39:50,133] Trial 26 pruned. \n",
      "[I 2024-12-04 16:43:36,435] Trial 27 finished with value: 0.26521925128957025 and parameters: {'dropout1': 0.45, 'dropout2': 0.35000000000000003, 'learning_rate': 9.063053246832877e-05, 'weight_decay': 0.0007052978056198217}. Best is trial 0 with value: 0.3578259477273763.\n"
     ]
    },
    {
     "name": "stdout",
     "output_type": "stream",
     "text": [
      "Early stopping at epoch 61\n",
      "Final MCC: 0.2652\n"
     ]
    },
    {
     "name": "stderr",
     "output_type": "stream",
     "text": [
      "/tmp/ipykernel_282327/3737011491.py:5: FutureWarning: suggest_loguniform has been deprecated in v3.0.0. This feature will be removed in v6.0.0. See https://github.com/optuna/optuna/releases/tag/v3.0.0. Use suggest_float(..., log=True) instead.\n",
      "  learning_rate = trial.suggest_loguniform(\"learning_rate\", 1e-5, 1e-2)\n",
      "/tmp/ipykernel_282327/3737011491.py:6: FutureWarning: suggest_loguniform has been deprecated in v3.0.0. This feature will be removed in v6.0.0. See https://github.com/optuna/optuna/releases/tag/v3.0.0. Use suggest_float(..., log=True) instead.\n",
      "  weight_decay = trial.suggest_loguniform(\"weight_decay\", 1e-5, 1e-2)\n",
      "[I 2024-12-04 16:43:40,045] Trial 28 pruned. \n",
      "[I 2024-12-04 16:43:43,633] Trial 29 pruned. \n",
      "[I 2024-12-04 16:43:47,310] Trial 30 pruned. \n",
      "[I 2024-12-04 16:49:51,593] Trial 31 finished with value: 0.23954028579243247 and parameters: {'dropout1': 0.5, 'dropout2': 0.05, 'learning_rate': 3.428435295626676e-05, 'weight_decay': 8.296902387431447e-05}. Best is trial 0 with value: 0.3578259477273763.\n"
     ]
    },
    {
     "name": "stdout",
     "output_type": "stream",
     "text": [
      "Final MCC: 0.2395\n"
     ]
    },
    {
     "name": "stderr",
     "output_type": "stream",
     "text": [
      "/tmp/ipykernel_282327/3737011491.py:5: FutureWarning: suggest_loguniform has been deprecated in v3.0.0. This feature will be removed in v6.0.0. See https://github.com/optuna/optuna/releases/tag/v3.0.0. Use suggest_float(..., log=True) instead.\n",
      "  learning_rate = trial.suggest_loguniform(\"learning_rate\", 1e-5, 1e-2)\n",
      "/tmp/ipykernel_282327/3737011491.py:6: FutureWarning: suggest_loguniform has been deprecated in v3.0.0. This feature will be removed in v6.0.0. See https://github.com/optuna/optuna/releases/tag/v3.0.0. Use suggest_float(..., log=True) instead.\n",
      "  weight_decay = trial.suggest_loguniform(\"weight_decay\", 1e-5, 1e-2)\n",
      "[I 2024-12-04 16:56:05,790] Trial 32 finished with value: 0.2981438437278138 and parameters: {'dropout1': 0.45, 'dropout2': 0.15000000000000002, 'learning_rate': 2.687473726189432e-05, 'weight_decay': 5.0992194686649766e-05}. Best is trial 0 with value: 0.3578259477273763.\n"
     ]
    },
    {
     "name": "stdout",
     "output_type": "stream",
     "text": [
      "Final MCC: 0.2981\n"
     ]
    },
    {
     "name": "stderr",
     "output_type": "stream",
     "text": [
      "/tmp/ipykernel_282327/3737011491.py:5: FutureWarning: suggest_loguniform has been deprecated in v3.0.0. This feature will be removed in v6.0.0. See https://github.com/optuna/optuna/releases/tag/v3.0.0. Use suggest_float(..., log=True) instead.\n",
      "  learning_rate = trial.suggest_loguniform(\"learning_rate\", 1e-5, 1e-2)\n",
      "/tmp/ipykernel_282327/3737011491.py:6: FutureWarning: suggest_loguniform has been deprecated in v3.0.0. This feature will be removed in v6.0.0. See https://github.com/optuna/optuna/releases/tag/v3.0.0. Use suggest_float(..., log=True) instead.\n",
      "  weight_decay = trial.suggest_loguniform(\"weight_decay\", 1e-5, 1e-2)\n",
      "[I 2024-12-04 17:00:58,780] Trial 33 finished with value: 0.17899336472094654 and parameters: {'dropout1': 0.45, 'dropout2': 0.1, 'learning_rate': 6.130805704794013e-05, 'weight_decay': 7.250248191130495e-05}. Best is trial 0 with value: 0.3578259477273763.\n"
     ]
    },
    {
     "name": "stdout",
     "output_type": "stream",
     "text": [
      "Early stopping at epoch 78\n",
      "Final MCC: 0.1790\n"
     ]
    },
    {
     "name": "stderr",
     "output_type": "stream",
     "text": [
      "/tmp/ipykernel_282327/3737011491.py:5: FutureWarning: suggest_loguniform has been deprecated in v3.0.0. This feature will be removed in v6.0.0. See https://github.com/optuna/optuna/releases/tag/v3.0.0. Use suggest_float(..., log=True) instead.\n",
      "  learning_rate = trial.suggest_loguniform(\"learning_rate\", 1e-5, 1e-2)\n",
      "/tmp/ipykernel_282327/3737011491.py:6: FutureWarning: suggest_loguniform has been deprecated in v3.0.0. This feature will be removed in v6.0.0. See https://github.com/optuna/optuna/releases/tag/v3.0.0. Use suggest_float(..., log=True) instead.\n",
      "  weight_decay = trial.suggest_loguniform(\"weight_decay\", 1e-5, 1e-2)\n",
      "[I 2024-12-04 17:01:02,560] Trial 34 pruned. \n",
      "[I 2024-12-04 17:01:06,269] Trial 35 pruned. \n",
      "[I 2024-12-04 17:01:10,125] Trial 36 pruned. \n",
      "[I 2024-12-04 17:07:30,204] Trial 37 finished with value: 0.30510025713264244 and parameters: {'dropout1': 0.30000000000000004, 'dropout2': 0.1, 'learning_rate': 2.1327478791242687e-05, 'weight_decay': 0.0005472527137040169}. Best is trial 0 with value: 0.3578259477273763.\n"
     ]
    },
    {
     "name": "stdout",
     "output_type": "stream",
     "text": [
      "Final MCC: 0.3051\n"
     ]
    },
    {
     "name": "stderr",
     "output_type": "stream",
     "text": [
      "/tmp/ipykernel_282327/3737011491.py:5: FutureWarning: suggest_loguniform has been deprecated in v3.0.0. This feature will be removed in v6.0.0. See https://github.com/optuna/optuna/releases/tag/v3.0.0. Use suggest_float(..., log=True) instead.\n",
      "  learning_rate = trial.suggest_loguniform(\"learning_rate\", 1e-5, 1e-2)\n",
      "/tmp/ipykernel_282327/3737011491.py:6: FutureWarning: suggest_loguniform has been deprecated in v3.0.0. This feature will be removed in v6.0.0. See https://github.com/optuna/optuna/releases/tag/v3.0.0. Use suggest_float(..., log=True) instead.\n",
      "  weight_decay = trial.suggest_loguniform(\"weight_decay\", 1e-5, 1e-2)\n",
      "[I 2024-12-04 17:10:30,579] Trial 38 finished with value: 0.3353661536031184 and parameters: {'dropout1': 0.4, 'dropout2': 0.1, 'learning_rate': 6.378676265185324e-05, 'weight_decay': 0.00019506125301508174}. Best is trial 0 with value: 0.3578259477273763.\n"
     ]
    },
    {
     "name": "stdout",
     "output_type": "stream",
     "text": [
      "Early stopping at epoch 50\n",
      "Final MCC: 0.3354\n"
     ]
    },
    {
     "name": "stderr",
     "output_type": "stream",
     "text": [
      "/tmp/ipykernel_282327/3737011491.py:5: FutureWarning: suggest_loguniform has been deprecated in v3.0.0. This feature will be removed in v6.0.0. See https://github.com/optuna/optuna/releases/tag/v3.0.0. Use suggest_float(..., log=True) instead.\n",
      "  learning_rate = trial.suggest_loguniform(\"learning_rate\", 1e-5, 1e-2)\n",
      "/tmp/ipykernel_282327/3737011491.py:6: FutureWarning: suggest_loguniform has been deprecated in v3.0.0. This feature will be removed in v6.0.0. See https://github.com/optuna/optuna/releases/tag/v3.0.0. Use suggest_float(..., log=True) instead.\n",
      "  weight_decay = trial.suggest_loguniform(\"weight_decay\", 1e-5, 1e-2)\n",
      "[I 2024-12-04 17:14:25,798] Trial 39 finished with value: 0.23089894527429258 and parameters: {'dropout1': 0.30000000000000004, 'dropout2': 0.30000000000000004, 'learning_rate': 8.025639468460553e-05, 'weight_decay': 0.0011765562207378109}. Best is trial 0 with value: 0.3578259477273763.\n"
     ]
    },
    {
     "name": "stdout",
     "output_type": "stream",
     "text": [
      "Early stopping at epoch 68\n",
      "Final MCC: 0.2309\n"
     ]
    },
    {
     "name": "stderr",
     "output_type": "stream",
     "text": [
      "/tmp/ipykernel_282327/3737011491.py:5: FutureWarning: suggest_loguniform has been deprecated in v3.0.0. This feature will be removed in v6.0.0. See https://github.com/optuna/optuna/releases/tag/v3.0.0. Use suggest_float(..., log=True) instead.\n",
      "  learning_rate = trial.suggest_loguniform(\"learning_rate\", 1e-5, 1e-2)\n",
      "/tmp/ipykernel_282327/3737011491.py:6: FutureWarning: suggest_loguniform has been deprecated in v3.0.0. This feature will be removed in v6.0.0. See https://github.com/optuna/optuna/releases/tag/v3.0.0. Use suggest_float(..., log=True) instead.\n",
      "  weight_decay = trial.suggest_loguniform(\"weight_decay\", 1e-5, 1e-2)\n",
      "[I 2024-12-04 17:14:28,888] Trial 40 pruned. \n",
      "[I 2024-12-04 17:19:35,802] Trial 41 finished with value: 0.31649513887630376 and parameters: {'dropout1': 0.4, 'dropout2': 0.1, 'learning_rate': 1.6934500856214495e-05, 'weight_decay': 0.00016055858593663243}. Best is trial 0 with value: 0.3578259477273763.\n"
     ]
    },
    {
     "name": "stdout",
     "output_type": "stream",
     "text": [
      "Final MCC: 0.3165\n"
     ]
    },
    {
     "name": "stderr",
     "output_type": "stream",
     "text": [
      "/tmp/ipykernel_282327/3737011491.py:5: FutureWarning: suggest_loguniform has been deprecated in v3.0.0. This feature will be removed in v6.0.0. See https://github.com/optuna/optuna/releases/tag/v3.0.0. Use suggest_float(..., log=True) instead.\n",
      "  learning_rate = trial.suggest_loguniform(\"learning_rate\", 1e-5, 1e-2)\n",
      "/tmp/ipykernel_282327/3737011491.py:6: FutureWarning: suggest_loguniform has been deprecated in v3.0.0. This feature will be removed in v6.0.0. See https://github.com/optuna/optuna/releases/tag/v3.0.0. Use suggest_float(..., log=True) instead.\n",
      "  weight_decay = trial.suggest_loguniform(\"weight_decay\", 1e-5, 1e-2)\n",
      "[I 2024-12-04 17:19:38,916] Trial 42 pruned. \n",
      "[I 2024-12-04 17:19:42,014] Trial 43 pruned. \n",
      "[I 2024-12-04 17:19:45,137] Trial 44 pruned. \n",
      "[I 2024-12-04 17:19:48,230] Trial 45 pruned. \n",
      "[I 2024-12-04 17:24:02,930] Trial 46 finished with value: 0.2549354195293067 and parameters: {'dropout1': 0.35000000000000003, 'dropout2': 0.0, 'learning_rate': 3.979444158647681e-05, 'weight_decay': 5.8794934892420755e-05}. Best is trial 0 with value: 0.3578259477273763.\n"
     ]
    },
    {
     "name": "stdout",
     "output_type": "stream",
     "text": [
      "Early stopping at epoch 83\n",
      "Final MCC: 0.2549\n"
     ]
    },
    {
     "name": "stderr",
     "output_type": "stream",
     "text": [
      "/tmp/ipykernel_282327/3737011491.py:5: FutureWarning: suggest_loguniform has been deprecated in v3.0.0. This feature will be removed in v6.0.0. See https://github.com/optuna/optuna/releases/tag/v3.0.0. Use suggest_float(..., log=True) instead.\n",
      "  learning_rate = trial.suggest_loguniform(\"learning_rate\", 1e-5, 1e-2)\n",
      "/tmp/ipykernel_282327/3737011491.py:6: FutureWarning: suggest_loguniform has been deprecated in v3.0.0. This feature will be removed in v6.0.0. See https://github.com/optuna/optuna/releases/tag/v3.0.0. Use suggest_float(..., log=True) instead.\n",
      "  weight_decay = trial.suggest_loguniform(\"weight_decay\", 1e-5, 1e-2)\n",
      "[I 2024-12-04 17:24:06,016] Trial 47 pruned. \n",
      "[I 2024-12-04 17:24:09,152] Trial 48 pruned. \n",
      "[I 2024-12-04 17:29:19,262] Trial 49 finished with value: 0.3092393810869658 and parameters: {'dropout1': 0.45, 'dropout2': 0.25, 'learning_rate': 1.3813069911213832e-05, 'weight_decay': 9.915754350044254e-05}. Best is trial 0 with value: 0.3578259477273763.\n"
     ]
    },
    {
     "name": "stdout",
     "output_type": "stream",
     "text": [
      "Final MCC: 0.3092\n"
     ]
    },
    {
     "name": "stderr",
     "output_type": "stream",
     "text": [
      "/tmp/ipykernel_282327/3737011491.py:5: FutureWarning: suggest_loguniform has been deprecated in v3.0.0. This feature will be removed in v6.0.0. See https://github.com/optuna/optuna/releases/tag/v3.0.0. Use suggest_float(..., log=True) instead.\n",
      "  learning_rate = trial.suggest_loguniform(\"learning_rate\", 1e-5, 1e-2)\n",
      "/tmp/ipykernel_282327/3737011491.py:6: FutureWarning: suggest_loguniform has been deprecated in v3.0.0. This feature will be removed in v6.0.0. See https://github.com/optuna/optuna/releases/tag/v3.0.0. Use suggest_float(..., log=True) instead.\n",
      "  weight_decay = trial.suggest_loguniform(\"weight_decay\", 1e-5, 1e-2)\n",
      "[I 2024-12-04 17:29:22,421] Trial 50 pruned. \n",
      "[I 2024-12-04 17:29:25,609] Trial 51 pruned. \n",
      "[I 2024-12-04 17:34:30,328] Trial 52 finished with value: 0.31840318331677775 and parameters: {'dropout1': 0.35000000000000003, 'dropout2': 0.15000000000000002, 'learning_rate': 1.9470869060748402e-05, 'weight_decay': 0.00017462435372868386}. Best is trial 0 with value: 0.3578259477273763.\n"
     ]
    },
    {
     "name": "stdout",
     "output_type": "stream",
     "text": [
      "Final MCC: 0.3184\n"
     ]
    },
    {
     "name": "stderr",
     "output_type": "stream",
     "text": [
      "/tmp/ipykernel_282327/3737011491.py:5: FutureWarning: suggest_loguniform has been deprecated in v3.0.0. This feature will be removed in v6.0.0. See https://github.com/optuna/optuna/releases/tag/v3.0.0. Use suggest_float(..., log=True) instead.\n",
      "  learning_rate = trial.suggest_loguniform(\"learning_rate\", 1e-5, 1e-2)\n",
      "/tmp/ipykernel_282327/3737011491.py:6: FutureWarning: suggest_loguniform has been deprecated in v3.0.0. This feature will be removed in v6.0.0. See https://github.com/optuna/optuna/releases/tag/v3.0.0. Use suggest_float(..., log=True) instead.\n",
      "  weight_decay = trial.suggest_loguniform(\"weight_decay\", 1e-5, 1e-2)\n",
      "[I 2024-12-04 17:34:33,245] Trial 53 pruned. \n",
      "[I 2024-12-04 17:34:36,135] Trial 54 pruned. \n",
      "[I 2024-12-04 17:34:39,022] Trial 55 pruned. \n",
      "[I 2024-12-04 17:34:41,939] Trial 56 pruned. \n",
      "[I 2024-12-04 17:34:44,852] Trial 57 pruned. \n",
      "[I 2024-12-04 17:34:47,788] Trial 58 pruned. \n",
      "[I 2024-12-04 17:34:50,723] Trial 59 pruned. \n",
      "[I 2024-12-04 17:34:53,637] Trial 60 pruned. \n",
      "[I 2024-12-04 17:34:56,509] Trial 61 pruned. \n",
      "[I 2024-12-04 17:34:59,381] Trial 62 pruned. \n",
      "[I 2024-12-04 17:35:02,279] Trial 63 pruned. \n",
      "[I 2024-12-04 17:35:05,195] Trial 64 pruned. \n",
      "[I 2024-12-04 17:35:08,064] Trial 65 pruned. \n",
      "[I 2024-12-04 17:35:10,967] Trial 66 pruned. \n",
      "[I 2024-12-04 17:35:13,853] Trial 67 pruned. \n",
      "[I 2024-12-04 17:35:16,709] Trial 68 pruned. \n",
      "[I 2024-12-04 17:35:19,611] Trial 69 pruned. \n",
      "[I 2024-12-04 17:35:22,509] Trial 70 pruned. \n",
      "[I 2024-12-04 17:40:03,702] Trial 71 finished with value: 0.30625525065982906 and parameters: {'dropout1': 0.45, 'dropout2': 0.25, 'learning_rate': 1.5132754598203867e-05, 'weight_decay': 0.00012557659800320982}. Best is trial 0 with value: 0.3578259477273763.\n"
     ]
    },
    {
     "name": "stdout",
     "output_type": "stream",
     "text": [
      "Final MCC: 0.3063\n"
     ]
    },
    {
     "name": "stderr",
     "output_type": "stream",
     "text": [
      "/tmp/ipykernel_282327/3737011491.py:5: FutureWarning: suggest_loguniform has been deprecated in v3.0.0. This feature will be removed in v6.0.0. See https://github.com/optuna/optuna/releases/tag/v3.0.0. Use suggest_float(..., log=True) instead.\n",
      "  learning_rate = trial.suggest_loguniform(\"learning_rate\", 1e-5, 1e-2)\n",
      "/tmp/ipykernel_282327/3737011491.py:6: FutureWarning: suggest_loguniform has been deprecated in v3.0.0. This feature will be removed in v6.0.0. See https://github.com/optuna/optuna/releases/tag/v3.0.0. Use suggest_float(..., log=True) instead.\n",
      "  weight_decay = trial.suggest_loguniform(\"weight_decay\", 1e-5, 1e-2)\n",
      "[I 2024-12-04 17:40:06,622] Trial 72 pruned. \n",
      "[I 2024-12-04 17:40:09,424] Trial 73 pruned. \n",
      "[I 2024-12-04 17:40:12,134] Trial 74 pruned. \n",
      "[I 2024-12-04 17:40:15,061] Trial 75 pruned. \n",
      "[I 2024-12-04 17:44:54,415] Trial 76 finished with value: 0.21983424604872254 and parameters: {'dropout1': 0.35000000000000003, 'dropout2': 0.4, 'learning_rate': 2.3122641839066877e-05, 'weight_decay': 6.434510757764632e-05}. Best is trial 0 with value: 0.3578259477273763.\n"
     ]
    },
    {
     "name": "stdout",
     "output_type": "stream",
     "text": [
      "Final MCC: 0.2198\n"
     ]
    },
    {
     "name": "stderr",
     "output_type": "stream",
     "text": [
      "/tmp/ipykernel_282327/3737011491.py:5: FutureWarning: suggest_loguniform has been deprecated in v3.0.0. This feature will be removed in v6.0.0. See https://github.com/optuna/optuna/releases/tag/v3.0.0. Use suggest_float(..., log=True) instead.\n",
      "  learning_rate = trial.suggest_loguniform(\"learning_rate\", 1e-5, 1e-2)\n",
      "/tmp/ipykernel_282327/3737011491.py:6: FutureWarning: suggest_loguniform has been deprecated in v3.0.0. This feature will be removed in v6.0.0. See https://github.com/optuna/optuna/releases/tag/v3.0.0. Use suggest_float(..., log=True) instead.\n",
      "  weight_decay = trial.suggest_loguniform(\"weight_decay\", 1e-5, 1e-2)\n",
      "[I 2024-12-04 17:44:57,241] Trial 77 pruned. \n",
      "[I 2024-12-04 17:45:00,003] Trial 78 pruned. \n",
      "[I 2024-12-04 17:48:05,539] Trial 79 finished with value: 0.23177068722875452 and parameters: {'dropout1': 0.45, 'dropout2': 0.2, 'learning_rate': 7.891480484174507e-05, 'weight_decay': 0.00011463118008921805}. Best is trial 0 with value: 0.3578259477273763.\n"
     ]
    },
    {
     "name": "stdout",
     "output_type": "stream",
     "text": [
      "Early stopping at epoch 66\n",
      "Final MCC: 0.2318\n"
     ]
    },
    {
     "name": "stderr",
     "output_type": "stream",
     "text": [
      "/tmp/ipykernel_282327/3737011491.py:5: FutureWarning: suggest_loguniform has been deprecated in v3.0.0. This feature will be removed in v6.0.0. See https://github.com/optuna/optuna/releases/tag/v3.0.0. Use suggest_float(..., log=True) instead.\n",
      "  learning_rate = trial.suggest_loguniform(\"learning_rate\", 1e-5, 1e-2)\n",
      "/tmp/ipykernel_282327/3737011491.py:6: FutureWarning: suggest_loguniform has been deprecated in v3.0.0. This feature will be removed in v6.0.0. See https://github.com/optuna/optuna/releases/tag/v3.0.0. Use suggest_float(..., log=True) instead.\n",
      "  weight_decay = trial.suggest_loguniform(\"weight_decay\", 1e-5, 1e-2)\n",
      "[I 2024-12-04 17:48:08,383] Trial 80 pruned. \n",
      "[I 2024-12-04 17:48:11,199] Trial 81 pruned. \n",
      "[I 2024-12-04 17:48:14,013] Trial 82 pruned. \n",
      "[I 2024-12-04 17:52:51,146] Trial 83 finished with value: 0.31158585956265517 and parameters: {'dropout1': 0.4, 'dropout2': 0.35000000000000003, 'learning_rate': 2.2092870514810357e-05, 'weight_decay': 0.00019631598830036802}. Best is trial 0 with value: 0.3578259477273763.\n"
     ]
    },
    {
     "name": "stdout",
     "output_type": "stream",
     "text": [
      "Final MCC: 0.3116\n"
     ]
    },
    {
     "name": "stderr",
     "output_type": "stream",
     "text": [
      "/tmp/ipykernel_282327/3737011491.py:5: FutureWarning: suggest_loguniform has been deprecated in v3.0.0. This feature will be removed in v6.0.0. See https://github.com/optuna/optuna/releases/tag/v3.0.0. Use suggest_float(..., log=True) instead.\n",
      "  learning_rate = trial.suggest_loguniform(\"learning_rate\", 1e-5, 1e-2)\n",
      "/tmp/ipykernel_282327/3737011491.py:6: FutureWarning: suggest_loguniform has been deprecated in v3.0.0. This feature will be removed in v6.0.0. See https://github.com/optuna/optuna/releases/tag/v3.0.0. Use suggest_float(..., log=True) instead.\n",
      "  weight_decay = trial.suggest_loguniform(\"weight_decay\", 1e-5, 1e-2)\n",
      "[I 2024-12-04 17:52:53,975] Trial 84 pruned. \n",
      "[I 2024-12-04 17:57:37,031] Trial 85 finished with value: 0.26754531837092377 and parameters: {'dropout1': 0.4, 'dropout2': 0.35000000000000003, 'learning_rate': 4.187033716752879e-05, 'weight_decay': 0.00019493548792847259}. Best is trial 0 with value: 0.3578259477273763.\n"
     ]
    },
    {
     "name": "stdout",
     "output_type": "stream",
     "text": [
      "Final MCC: 0.2675\n"
     ]
    },
    {
     "name": "stderr",
     "output_type": "stream",
     "text": [
      "/tmp/ipykernel_282327/3737011491.py:5: FutureWarning: suggest_loguniform has been deprecated in v3.0.0. This feature will be removed in v6.0.0. See https://github.com/optuna/optuna/releases/tag/v3.0.0. Use suggest_float(..., log=True) instead.\n",
      "  learning_rate = trial.suggest_loguniform(\"learning_rate\", 1e-5, 1e-2)\n",
      "/tmp/ipykernel_282327/3737011491.py:6: FutureWarning: suggest_loguniform has been deprecated in v3.0.0. This feature will be removed in v6.0.0. See https://github.com/optuna/optuna/releases/tag/v3.0.0. Use suggest_float(..., log=True) instead.\n",
      "  weight_decay = trial.suggest_loguniform(\"weight_decay\", 1e-5, 1e-2)\n",
      "[I 2024-12-04 18:00:56,648] Trial 86 finished with value: 0.23904572186687875 and parameters: {'dropout1': 0.35000000000000003, 'dropout2': 0.35000000000000003, 'learning_rate': 4.9746078097081923e-05, 'weight_decay': 0.0003201633204481409}. Best is trial 0 with value: 0.3578259477273763.\n"
     ]
    },
    {
     "name": "stdout",
     "output_type": "stream",
     "text": [
      "Early stopping at epoch 71\n",
      "Final MCC: 0.2390\n"
     ]
    },
    {
     "name": "stderr",
     "output_type": "stream",
     "text": [
      "/tmp/ipykernel_282327/3737011491.py:5: FutureWarning: suggest_loguniform has been deprecated in v3.0.0. This feature will be removed in v6.0.0. See https://github.com/optuna/optuna/releases/tag/v3.0.0. Use suggest_float(..., log=True) instead.\n",
      "  learning_rate = trial.suggest_loguniform(\"learning_rate\", 1e-5, 1e-2)\n",
      "/tmp/ipykernel_282327/3737011491.py:6: FutureWarning: suggest_loguniform has been deprecated in v3.0.0. This feature will be removed in v6.0.0. See https://github.com/optuna/optuna/releases/tag/v3.0.0. Use suggest_float(..., log=True) instead.\n",
      "  weight_decay = trial.suggest_loguniform(\"weight_decay\", 1e-5, 1e-2)\n",
      "[I 2024-12-04 18:00:59,483] Trial 87 pruned. \n",
      "[I 2024-12-04 18:05:50,853] Trial 88 finished with value: 0.3058656435219968 and parameters: {'dropout1': 0.4, 'dropout2': 0.4, 'learning_rate': 2.0249649929531074e-05, 'weight_decay': 0.0001509860704857123}. Best is trial 0 with value: 0.3578259477273763.\n"
     ]
    },
    {
     "name": "stdout",
     "output_type": "stream",
     "text": [
      "Final MCC: 0.3059\n"
     ]
    },
    {
     "name": "stderr",
     "output_type": "stream",
     "text": [
      "/tmp/ipykernel_282327/3737011491.py:5: FutureWarning: suggest_loguniform has been deprecated in v3.0.0. This feature will be removed in v6.0.0. See https://github.com/optuna/optuna/releases/tag/v3.0.0. Use suggest_float(..., log=True) instead.\n",
      "  learning_rate = trial.suggest_loguniform(\"learning_rate\", 1e-5, 1e-2)\n",
      "/tmp/ipykernel_282327/3737011491.py:6: FutureWarning: suggest_loguniform has been deprecated in v3.0.0. This feature will be removed in v6.0.0. See https://github.com/optuna/optuna/releases/tag/v3.0.0. Use suggest_float(..., log=True) instead.\n",
      "  weight_decay = trial.suggest_loguniform(\"weight_decay\", 1e-5, 1e-2)\n",
      "[I 2024-12-04 18:05:53,498] Trial 89 pruned. \n",
      "[I 2024-12-04 18:05:55,357] Trial 90 pruned. \n",
      "[I 2024-12-04 18:10:41,673] Trial 91 finished with value: 0.34485383454517726 and parameters: {'dropout1': 0.45, 'dropout2': 0.30000000000000004, 'learning_rate': 1.7251719398486167e-05, 'weight_decay': 0.0001253774560434713}. Best is trial 0 with value: 0.3578259477273763.\n"
     ]
    },
    {
     "name": "stdout",
     "output_type": "stream",
     "text": [
      "Final MCC: 0.3449\n"
     ]
    },
    {
     "name": "stderr",
     "output_type": "stream",
     "text": [
      "/tmp/ipykernel_282327/3737011491.py:5: FutureWarning: suggest_loguniform has been deprecated in v3.0.0. This feature will be removed in v6.0.0. See https://github.com/optuna/optuna/releases/tag/v3.0.0. Use suggest_float(..., log=True) instead.\n",
      "  learning_rate = trial.suggest_loguniform(\"learning_rate\", 1e-5, 1e-2)\n",
      "/tmp/ipykernel_282327/3737011491.py:6: FutureWarning: suggest_loguniform has been deprecated in v3.0.0. This feature will be removed in v6.0.0. See https://github.com/optuna/optuna/releases/tag/v3.0.0. Use suggest_float(..., log=True) instead.\n",
      "  weight_decay = trial.suggest_loguniform(\"weight_decay\", 1e-5, 1e-2)\n",
      "[I 2024-12-04 18:10:44,752] Trial 92 pruned. \n",
      "[I 2024-12-04 18:15:37,588] Trial 93 finished with value: 0.3062127263296445 and parameters: {'dropout1': 0.5, 'dropout2': 0.35000000000000003, 'learning_rate': 1.1820972341657357e-05, 'weight_decay': 0.0001745229773998455}. Best is trial 0 with value: 0.3578259477273763.\n"
     ]
    },
    {
     "name": "stdout",
     "output_type": "stream",
     "text": [
      "Final MCC: 0.3062\n"
     ]
    },
    {
     "name": "stderr",
     "output_type": "stream",
     "text": [
      "/tmp/ipykernel_282327/3737011491.py:5: FutureWarning: suggest_loguniform has been deprecated in v3.0.0. This feature will be removed in v6.0.0. See https://github.com/optuna/optuna/releases/tag/v3.0.0. Use suggest_float(..., log=True) instead.\n",
      "  learning_rate = trial.suggest_loguniform(\"learning_rate\", 1e-5, 1e-2)\n",
      "/tmp/ipykernel_282327/3737011491.py:6: FutureWarning: suggest_loguniform has been deprecated in v3.0.0. This feature will be removed in v6.0.0. See https://github.com/optuna/optuna/releases/tag/v3.0.0. Use suggest_float(..., log=True) instead.\n",
      "  weight_decay = trial.suggest_loguniform(\"weight_decay\", 1e-5, 1e-2)\n",
      "[I 2024-12-04 18:15:40,879] Trial 94 pruned. \n",
      "[I 2024-12-04 18:15:43,775] Trial 95 pruned. \n",
      "[I 2024-12-04 18:20:36,974] Trial 96 finished with value: 0.34284131510443555 and parameters: {'dropout1': 0.4, 'dropout2': 0.45, 'learning_rate': 2.118715434199362e-05, 'weight_decay': 7.510947694229144e-05}. Best is trial 0 with value: 0.3578259477273763.\n"
     ]
    },
    {
     "name": "stdout",
     "output_type": "stream",
     "text": [
      "Final MCC: 0.3428\n"
     ]
    },
    {
     "name": "stderr",
     "output_type": "stream",
     "text": [
      "/tmp/ipykernel_282327/3737011491.py:5: FutureWarning: suggest_loguniform has been deprecated in v3.0.0. This feature will be removed in v6.0.0. See https://github.com/optuna/optuna/releases/tag/v3.0.0. Use suggest_float(..., log=True) instead.\n",
      "  learning_rate = trial.suggest_loguniform(\"learning_rate\", 1e-5, 1e-2)\n",
      "/tmp/ipykernel_282327/3737011491.py:6: FutureWarning: suggest_loguniform has been deprecated in v3.0.0. This feature will be removed in v6.0.0. See https://github.com/optuna/optuna/releases/tag/v3.0.0. Use suggest_float(..., log=True) instead.\n",
      "  weight_decay = trial.suggest_loguniform(\"weight_decay\", 1e-5, 1e-2)\n",
      "[I 2024-12-04 18:25:45,785] Trial 97 finished with value: 0.2981438437278138 and parameters: {'dropout1': 0.35000000000000003, 'dropout2': 0.5, 'learning_rate': 2.452371439153919e-05, 'weight_decay': 2.361345108853112e-05}. Best is trial 0 with value: 0.3578259477273763.\n"
     ]
    },
    {
     "name": "stdout",
     "output_type": "stream",
     "text": [
      "Final MCC: 0.2981\n"
     ]
    },
    {
     "name": "stderr",
     "output_type": "stream",
     "text": [
      "/tmp/ipykernel_282327/3737011491.py:5: FutureWarning: suggest_loguniform has been deprecated in v3.0.0. This feature will be removed in v6.0.0. See https://github.com/optuna/optuna/releases/tag/v3.0.0. Use suggest_float(..., log=True) instead.\n",
      "  learning_rate = trial.suggest_loguniform(\"learning_rate\", 1e-5, 1e-2)\n",
      "/tmp/ipykernel_282327/3737011491.py:6: FutureWarning: suggest_loguniform has been deprecated in v3.0.0. This feature will be removed in v6.0.0. See https://github.com/optuna/optuna/releases/tag/v3.0.0. Use suggest_float(..., log=True) instead.\n",
      "  weight_decay = trial.suggest_loguniform(\"weight_decay\", 1e-5, 1e-2)\n",
      "[I 2024-12-04 18:25:49,078] Trial 98 pruned. \n",
      "[I 2024-12-04 18:31:01,038] Trial 99 finished with value: 0.37873679309192876 and parameters: {'dropout1': 0.4, 'dropout2': 0.1, 'learning_rate': 2.1465550250108514e-05, 'weight_decay': 0.0009541071232561668}. Best is trial 99 with value: 0.37873679309192876.\n"
     ]
    },
    {
     "name": "stdout",
     "output_type": "stream",
     "text": [
      "Final MCC: 0.3787\n",
      "Best Parameters:  {'dropout1': 0.4, 'dropout2': 0.1, 'learning_rate': 2.1465550250108514e-05, 'weight_decay': 0.0009541071232561668}\n",
      "Best Validation F1:  0.37873679309192876\n"
     ]
    }
   ],
   "source": [
    "device_id = 0  # 使用するGPUのID（0または1）\n",
    "torch.cuda.set_device(device_id)\n",
    "device = torch.device(f\"cuda:{device_id}\" if torch.cuda.is_available() else \"cpu\")\n",
    "\n",
    "# Optunaの設定\n",
    "study = optuna.create_study(direction=\"maximize\")  \n",
    "study.optimize(objective, n_trials=100)\n",
    "\n",
    "# 結果表示\n",
    "print(\"Best Parameters: \", study.best_params)\n",
    "print(\"Best Validation F1: \", study.best_value)"
   ]
  },
  {
   "cell_type": "code",
   "execution_count": 13,
   "metadata": {},
   "outputs": [
    {
     "name": "stdout",
     "output_type": "stream",
     "text": [
      "Epoch [1/100], Loss: 0.6977\n",
      "Epoch [1/100], Train Loss: 0.6977, Val Loss: 0.6961\n",
      "Epoch [2/100], Loss: 0.6931\n",
      "Epoch [2/100], Train Loss: 0.6931, Val Loss: 0.6904\n",
      "Epoch [3/100], Loss: 0.6868\n",
      "Epoch [3/100], Train Loss: 0.6868, Val Loss: 0.6814\n",
      "Epoch [4/100], Loss: 0.6760\n",
      "Epoch [4/100], Train Loss: 0.6760, Val Loss: 0.6649\n",
      "Epoch [5/100], Loss: 0.6614\n",
      "Epoch [5/100], Train Loss: 0.6614, Val Loss: 0.6463\n",
      "Epoch [6/100], Loss: 0.6430\n",
      "Epoch [6/100], Train Loss: 0.6430, Val Loss: 0.6267\n",
      "Epoch [7/100], Loss: 0.6267\n",
      "Epoch [7/100], Train Loss: 0.6267, Val Loss: 0.6105\n",
      "Epoch [8/100], Loss: 0.6165\n",
      "Epoch [8/100], Train Loss: 0.6165, Val Loss: 0.6017\n",
      "Epoch [9/100], Loss: 0.6106\n",
      "Epoch [9/100], Train Loss: 0.6106, Val Loss: 0.5962\n",
      "Epoch [10/100], Loss: 0.6068\n",
      "Epoch [10/100], Train Loss: 0.6068, Val Loss: 0.5924\n",
      "Epoch [11/100], Loss: 0.6004\n",
      "Epoch [11/100], Train Loss: 0.6004, Val Loss: 0.5893\n",
      "Epoch [12/100], Loss: 0.5994\n",
      "Epoch [12/100], Train Loss: 0.5994, Val Loss: 0.5875\n",
      "Epoch [13/100], Loss: 0.5975\n",
      "Epoch [13/100], Train Loss: 0.5975, Val Loss: 0.5859\n",
      "Epoch [14/100], Loss: 0.5937\n",
      "Epoch [14/100], Train Loss: 0.5937, Val Loss: 0.5845\n",
      "Epoch [15/100], Loss: 0.5915\n",
      "Epoch [15/100], Train Loss: 0.5915, Val Loss: 0.5834\n",
      "Epoch [16/100], Loss: 0.5896\n",
      "Epoch [16/100], Train Loss: 0.5896, Val Loss: 0.5826\n",
      "Epoch [17/100], Loss: 0.5863\n",
      "Epoch [17/100], Train Loss: 0.5863, Val Loss: 0.5818\n",
      "Epoch [18/100], Loss: 0.5858\n",
      "Epoch [18/100], Train Loss: 0.5858, Val Loss: 0.5812\n",
      "Epoch [19/100], Loss: 0.5852\n",
      "Epoch [19/100], Train Loss: 0.5852, Val Loss: 0.5807\n",
      "Epoch [20/100], Loss: 0.5845\n",
      "Epoch [20/100], Train Loss: 0.5845, Val Loss: 0.5802\n",
      "Epoch [21/100], Loss: 0.5840\n",
      "Epoch [21/100], Train Loss: 0.5840, Val Loss: 0.5800\n",
      "Epoch [22/100], Loss: 0.5798\n",
      "Epoch [22/100], Train Loss: 0.5798, Val Loss: 0.5796\n",
      "Epoch [23/100], Loss: 0.5808\n",
      "Epoch [23/100], Train Loss: 0.5808, Val Loss: 0.5792\n",
      "Epoch [24/100], Loss: 0.5801\n",
      "Epoch [24/100], Train Loss: 0.5801, Val Loss: 0.5789\n",
      "Epoch [25/100], Loss: 0.5800\n",
      "Epoch [25/100], Train Loss: 0.5800, Val Loss: 0.5785\n",
      "Epoch [26/100], Loss: 0.5778\n",
      "Epoch [26/100], Train Loss: 0.5778, Val Loss: 0.5783\n",
      "Epoch [27/100], Loss: 0.5766\n",
      "Epoch [27/100], Train Loss: 0.5766, Val Loss: 0.5780\n",
      "Epoch [28/100], Loss: 0.5764\n",
      "Epoch [28/100], Train Loss: 0.5764, Val Loss: 0.5777\n",
      "Epoch [29/100], Loss: 0.5752\n",
      "Epoch [29/100], Train Loss: 0.5752, Val Loss: 0.5775\n",
      "Epoch [30/100], Loss: 0.5732\n",
      "Epoch [30/100], Train Loss: 0.5732, Val Loss: 0.5774\n",
      "Epoch [31/100], Loss: 0.5770\n",
      "Epoch [31/100], Train Loss: 0.5770, Val Loss: 0.5771\n",
      "Epoch [32/100], Loss: 0.5755\n",
      "Epoch [32/100], Train Loss: 0.5755, Val Loss: 0.5770\n",
      "Epoch [33/100], Loss: 0.5725\n",
      "Epoch [33/100], Train Loss: 0.5725, Val Loss: 0.5768\n",
      "Epoch [34/100], Loss: 0.5728\n",
      "Epoch [34/100], Train Loss: 0.5728, Val Loss: 0.5767\n",
      "Epoch [35/100], Loss: 0.5727\n",
      "Epoch [35/100], Train Loss: 0.5727, Val Loss: 0.5765\n",
      "Epoch [36/100], Loss: 0.5708\n",
      "Epoch [36/100], Train Loss: 0.5708, Val Loss: 0.5764\n",
      "Epoch [37/100], Loss: 0.5694\n",
      "Epoch [37/100], Train Loss: 0.5694, Val Loss: 0.5763\n",
      "Epoch [38/100], Loss: 0.5720\n",
      "Epoch [38/100], Train Loss: 0.5720, Val Loss: 0.5759\n",
      "Epoch [39/100], Loss: 0.5713\n",
      "Epoch [39/100], Train Loss: 0.5713, Val Loss: 0.5758\n",
      "Epoch [40/100], Loss: 0.5685\n",
      "Epoch [40/100], Train Loss: 0.5685, Val Loss: 0.5757\n",
      "Epoch [41/100], Loss: 0.5699\n",
      "Epoch [41/100], Train Loss: 0.5699, Val Loss: 0.5755\n",
      "Epoch [42/100], Loss: 0.5664\n",
      "Epoch [42/100], Train Loss: 0.5664, Val Loss: 0.5754\n",
      "Epoch [43/100], Loss: 0.5675\n",
      "Epoch [43/100], Train Loss: 0.5675, Val Loss: 0.5753\n",
      "Epoch [44/100], Loss: 0.5682\n",
      "Epoch [44/100], Train Loss: 0.5682, Val Loss: 0.5750\n",
      "Epoch [45/100], Loss: 0.5675\n",
      "Epoch [45/100], Train Loss: 0.5675, Val Loss: 0.5749\n",
      "Epoch [46/100], Loss: 0.5688\n",
      "Epoch [46/100], Train Loss: 0.5688, Val Loss: 0.5744\n",
      "Epoch [47/100], Loss: 0.5693\n",
      "Epoch [47/100], Train Loss: 0.5693, Val Loss: 0.5741\n",
      "Epoch [48/100], Loss: 0.5683\n",
      "Epoch [48/100], Train Loss: 0.5683, Val Loss: 0.5739\n",
      "Epoch [49/100], Loss: 0.5667\n",
      "Epoch [49/100], Train Loss: 0.5667, Val Loss: 0.5738\n",
      "Epoch [50/100], Loss: 0.5666\n",
      "Epoch [50/100], Train Loss: 0.5666, Val Loss: 0.5734\n",
      "Epoch [51/100], Loss: 0.5643\n",
      "Epoch [51/100], Train Loss: 0.5643, Val Loss: 0.5733\n",
      "Epoch [52/100], Loss: 0.5665\n",
      "Epoch [52/100], Train Loss: 0.5665, Val Loss: 0.5728\n",
      "Epoch [53/100], Loss: 0.5669\n",
      "Epoch [53/100], Train Loss: 0.5669, Val Loss: 0.5724\n",
      "Epoch [54/100], Loss: 0.5661\n",
      "Epoch [54/100], Train Loss: 0.5661, Val Loss: 0.5721\n",
      "Epoch [55/100], Loss: 0.5656\n",
      "Epoch [55/100], Train Loss: 0.5656, Val Loss: 0.5718\n",
      "Epoch [56/100], Loss: 0.5660\n",
      "Epoch [56/100], Train Loss: 0.5660, Val Loss: 0.5715\n",
      "Epoch [57/100], Loss: 0.5658\n",
      "Epoch [57/100], Train Loss: 0.5658, Val Loss: 0.5715\n",
      "Epoch [58/100], Loss: 0.5646\n",
      "Epoch [58/100], Train Loss: 0.5646, Val Loss: 0.5715\n",
      "Epoch [59/100], Loss: 0.5667\n",
      "Epoch [59/100], Train Loss: 0.5667, Val Loss: 0.5708\n",
      "Epoch [60/100], Loss: 0.5641\n",
      "Epoch [60/100], Train Loss: 0.5641, Val Loss: 0.5706\n",
      "Epoch [61/100], Loss: 0.5633\n",
      "Epoch [61/100], Train Loss: 0.5633, Val Loss: 0.5705\n",
      "Epoch [62/100], Loss: 0.5664\n",
      "Epoch [62/100], Train Loss: 0.5664, Val Loss: 0.5698\n",
      "Epoch [63/100], Loss: 0.5598\n",
      "Epoch [63/100], Train Loss: 0.5598, Val Loss: 0.5701\n",
      "Epoch [64/100], Loss: 0.5634\n",
      "Epoch [64/100], Train Loss: 0.5634, Val Loss: 0.5698\n",
      "Epoch [65/100], Loss: 0.5637\n",
      "Epoch [65/100], Train Loss: 0.5637, Val Loss: 0.5694\n",
      "Epoch [66/100], Loss: 0.5640\n",
      "Epoch [66/100], Train Loss: 0.5640, Val Loss: 0.5693\n",
      "Epoch [67/100], Loss: 0.5629\n",
      "Epoch [67/100], Train Loss: 0.5629, Val Loss: 0.5689\n",
      "Epoch [68/100], Loss: 0.5628\n",
      "Epoch [68/100], Train Loss: 0.5628, Val Loss: 0.5688\n",
      "Epoch [69/100], Loss: 0.5621\n",
      "Epoch [69/100], Train Loss: 0.5621, Val Loss: 0.5687\n",
      "Epoch [70/100], Loss: 0.5609\n",
      "Epoch [70/100], Train Loss: 0.5609, Val Loss: 0.5687\n",
      "Epoch [71/100], Loss: 0.5627\n",
      "Epoch [71/100], Train Loss: 0.5627, Val Loss: 0.5684\n",
      "Epoch [72/100], Loss: 0.5614\n",
      "Epoch [72/100], Train Loss: 0.5614, Val Loss: 0.5682\n",
      "Epoch [73/100], Loss: 0.5622\n",
      "Epoch [73/100], Train Loss: 0.5622, Val Loss: 0.5681\n",
      "Epoch [74/100], Loss: 0.5615\n",
      "Epoch [74/100], Train Loss: 0.5615, Val Loss: 0.5679\n",
      "Epoch [75/100], Loss: 0.5598\n",
      "Epoch [75/100], Train Loss: 0.5598, Val Loss: 0.5681\n",
      "Epoch [76/100], Loss: 0.5621\n",
      "Epoch [76/100], Train Loss: 0.5621, Val Loss: 0.5679\n",
      "Epoch [77/100], Loss: 0.5577\n",
      "Epoch [77/100], Train Loss: 0.5577, Val Loss: 0.5680\n",
      "Epoch [78/100], Loss: 0.5600\n",
      "Epoch [78/100], Train Loss: 0.5600, Val Loss: 0.5681\n",
      "Epoch [79/100], Loss: 0.5636\n",
      "Epoch [79/100], Train Loss: 0.5636, Val Loss: 0.5677\n",
      "Epoch [80/100], Loss: 0.5603\n",
      "Epoch [80/100], Train Loss: 0.5603, Val Loss: 0.5677\n",
      "Epoch [81/100], Loss: 0.5591\n",
      "Epoch [81/100], Train Loss: 0.5591, Val Loss: 0.5679\n",
      "Epoch [82/100], Loss: 0.5593\n",
      "Epoch [82/100], Train Loss: 0.5593, Val Loss: 0.5678\n",
      "Epoch [83/100], Loss: 0.5611\n",
      "Epoch [83/100], Train Loss: 0.5611, Val Loss: 0.5675\n",
      "Epoch [84/100], Loss: 0.5598\n",
      "Epoch [84/100], Train Loss: 0.5598, Val Loss: 0.5675\n",
      "Epoch [85/100], Loss: 0.5629\n",
      "Epoch [85/100], Train Loss: 0.5629, Val Loss: 0.5672\n",
      "Epoch [86/100], Loss: 0.5609\n",
      "Epoch [86/100], Train Loss: 0.5609, Val Loss: 0.5674\n",
      "Epoch [87/100], Loss: 0.5595\n",
      "Epoch [87/100], Train Loss: 0.5595, Val Loss: 0.5670\n",
      "Epoch [88/100], Loss: 0.5598\n",
      "Epoch [88/100], Train Loss: 0.5598, Val Loss: 0.5670\n",
      "Epoch [89/100], Loss: 0.5598\n",
      "Epoch [89/100], Train Loss: 0.5598, Val Loss: 0.5667\n",
      "Epoch [90/100], Loss: 0.5607\n",
      "Epoch [90/100], Train Loss: 0.5607, Val Loss: 0.5667\n",
      "Epoch [91/100], Loss: 0.5588\n",
      "Epoch [91/100], Train Loss: 0.5588, Val Loss: 0.5668\n",
      "Epoch [92/100], Loss: 0.5611\n",
      "Epoch [92/100], Train Loss: 0.5611, Val Loss: 0.5663\n",
      "Epoch [93/100], Loss: 0.5587\n",
      "Epoch [93/100], Train Loss: 0.5587, Val Loss: 0.5667\n",
      "Epoch [94/100], Loss: 0.5599\n",
      "Epoch [94/100], Train Loss: 0.5599, Val Loss: 0.5665\n",
      "Epoch [95/100], Loss: 0.5599\n",
      "Epoch [95/100], Train Loss: 0.5599, Val Loss: 0.5661\n",
      "Epoch [96/100], Loss: 0.5571\n",
      "Epoch [96/100], Train Loss: 0.5571, Val Loss: 0.5663\n",
      "Epoch [97/100], Loss: 0.5587\n",
      "Epoch [97/100], Train Loss: 0.5587, Val Loss: 0.5661\n",
      "Epoch [98/100], Loss: 0.5603\n",
      "Epoch [98/100], Train Loss: 0.5603, Val Loss: 0.5665\n",
      "Epoch [99/100], Loss: 0.5599\n",
      "Epoch [99/100], Train Loss: 0.5599, Val Loss: 0.5665\n",
      "Epoch [100/100], Loss: 0.5593\n",
      "Epoch [100/100], Train Loss: 0.5593, Val Loss: 0.5663\n"
     ]
    },
    {
     "data": {
      "image/png": "[encoded data removed]",
      "text/plain": [
       "<Figure size 1000x600 with 1 Axes>"
      ]
     },
     "metadata": {},
     "output_type": "display_data"
    }
   ],
   "source": [
    "best_params=study.best_params\n",
    "model = DNN_7(input_dim=X_train_tensor.shape[1],\n",
    "              dropout1=best_params[\"dropout1\"],\n",
    "              dropout2=best_params[\"dropout2\"],\n",
    "              ).to(device)\n",
    "# 最適化と訓練を実行\n",
    "optimizer = optim.Adam(model.parameters(), lr=best_params[\"learning_rate\"],weight_decay=best_params[\"weight_decay\"])\n",
    "criterion = nn.BCELoss()\n",
    "\n",
    "num_epochs=100\n",
    "train_losses = []\n",
    "val_losses = []\n",
    "\n",
    "model.train()\n",
    "for epoch in range(num_epochs):\n",
    "    epoch_train_loss = 0\n",
    "    epoch_val_loss = 0\n",
    "\n",
    "    for X_batch, y_batch in train_loader:\n",
    "        X_batch, y_batch = X_batch.to(device), y_batch.to(device)\n",
    "        optimizer.zero_grad()\n",
    "        outputs = model(X_batch).squeeze()\n",
    "        loss = criterion(outputs, y_batch.squeeze())\n",
    "        loss.backward()\n",
    "        optimizer.step()\n",
    "        epoch_train_loss += loss.item()\n",
    "    avg_train_loss = epoch_train_loss / len(train_loader)\n",
    "    train_losses.append(avg_train_loss)\n",
    "    print(f'Epoch [{epoch+1}/{num_epochs}], Loss: {avg_train_loss:.4f}')\n",
    "\n",
    "    if val_loader is not None:\n",
    "        model.eval()  \n",
    "        with torch.no_grad():\n",
    "            for X_val, y_val in val_loader:\n",
    "                X_val, y_val = X_val.to(device), y_val.to(device)\n",
    "                val_outputs = model(X_val).squeeze()\n",
    "                val_loss = criterion(val_outputs, y_val.squeeze())\n",
    "                epoch_val_loss += val_loss.item()\n",
    "\n",
    "        avg_val_loss = epoch_val_loss / len(val_loader)\n",
    "        val_losses.append(avg_val_loss)\n",
    "        model.train()  \n",
    "\n",
    "    if val_loader is not None:\n",
    "        print(f\"Epoch [{epoch+1}/{num_epochs}], Train Loss: {avg_train_loss:.4f}, Val Loss: {avg_val_loss:.4f}\")\n",
    "    else:\n",
    "        print(f\"Epoch [{epoch+1}/{num_epochs}], Train Loss: {avg_train_loss:.4f}\")\n",
    "\n",
    "plt.figure(figsize=(10, 6))\n",
    "plt.plot(range(1, num_epochs + 1), train_losses, label='Train Loss')\n",
    "if val_losses:\n",
    "    plt.plot(range(1, num_epochs + 1), val_losses, label='Validation Loss')\n",
    "plt.xlabel('Epoch')\n",
    "plt.ylabel('Loss')\n",
    "plt.title('Learning Curve for DNN3')\n",
    "plt.legend()\n",
    "plt.grid()\n",
    "plt.show()"
   ]
  },
  {
   "cell_type": "code",
   "execution_count": 14,
   "metadata": {},
   "outputs": [
    {
     "name": "stdout",
     "output_type": "stream",
     "text": [
      "Accuracy: 58.66%\n",
      "Precision: 0.4811\n",
      "Recall: 0.8997\n",
      "F1 Score: 0.6269\n",
      "Matthews Correlation Coefficient: 0.3144\n",
      "Specificity: 0.3896\n"
     ]
    },
    {
     "data": {
      "image/png": "[encoded data removed]",
      "text/plain": [
       "<Figure size 640x480 with 1 Axes>"
      ]
     },
     "metadata": {},
     "output_type": "display_data"
    },
    {
     "data": {
      "image/png": "[encoded data removed]",
      "text/plain": [
       "<Figure size 640x480 with 1 Axes>"
      ]
     },
     "metadata": {},
     "output_type": "display_data"
    },
    {
     "data": {
      "image/png": "[encoded data removed]",
      "text/plain": [
       "<Figure size 640x480 with 1 Axes>"
      ]
     },
     "metadata": {},
     "output_type": "display_data"
    }
   ],
   "source": [
    "model.eval()\n",
    "with torch.no_grad():\n",
    "    X_test_tensor = X_test_tensor.to(device)\n",
    "    y_test_tensor = y_test_tensor.to(device)\n",
    "\n",
    "    # 予測と確率\n",
    "    test_outputs = model(X_test_tensor).squeeze()\n",
    "    predictions = (test_outputs >0.49).float()\n",
    "    y_true = y_test_tensor.cpu().numpy()\n",
    "    y_pred = predictions.cpu().numpy()\n",
    "    y_prob = test_outputs.cpu().numpy()\n",
    "\n",
    "# 評価指標\n",
    "    accuracy = accuracy_score(y_true, y_pred)\n",
    "    precision = precision_score(y_true, y_pred)\n",
    "    recall = recall_score(y_true, y_pred)\n",
    "    f1 = f1_score(y_true, y_pred)\n",
    "    mcc = matthews_corrcoef(y_true, y_pred)\n",
    "    specificity = recall_score(y_true, y_pred, pos_label=0)  \n",
    "    print(f'Accuracy: {accuracy * 100:.2f}%')\n",
    "    print(f'Precision: {precision:.4f}')\n",
    "    print(f'Recall: {recall:.4f}')\n",
    "    print(f'F1 Score: {f1:.4f}')\n",
    "    print(f'Matthews Correlation Coefficient: {mcc:.4f}')\n",
    "    print(f'Specificity: {specificity:.4f}')\n",
    "\n",
    "    # 混同行列（割合表示）\n",
    "    cm = confusion_matrix(y_true, y_pred, normalize='true')\n",
    "    sns.heatmap(cm, annot=True, fmt=\".2%\", cmap=\"Blues\", cbar=False)\n",
    "    plt.xlabel(\"Predicted\")\n",
    "    plt.ylabel(\"Actual\")\n",
    "    plt.title(f\"Confusion Matrix (Normalized)\")\n",
    "    plt.show()\n",
    "\n",
    "    # ROC曲線とAUC\n",
    "    fpr, tpr, thresholds = roc_curve(y_true, y_prob)\n",
    "    roc_auc = auc(fpr, tpr)\n",
    "    plt.plot(fpr, tpr, label=f'ROC curve (AUC = {roc_auc:.2f})')\n",
    "    plt.plot([0, 1], [0, 1], 'k--') \n",
    "    plt.xlabel('False Positive Rate')\n",
    "    plt.ylabel('True Positive Rate')\n",
    "    plt.title(f'ROC Curve - Model ')\n",
    "    plt.legend(loc=\"lower right\")\n",
    "    plt.show()\n",
    "\n",
    "    # Precision-Recall曲線\n",
    "    precision_curve, recall_curve, pr_thresholds = precision_recall_curve(y_true, y_prob)\n",
    "    pr_auc = auc(recall_curve, precision_curve)\n",
    "    plt.plot(recall_curve, precision_curve, label=f'PR curve (AUC = {pr_auc:.2f})')\n",
    "    plt.xlabel('Recall')\n",
    "    plt.ylabel('Precision')\n",
    "    plt.title(f'Precision-Recall Curve ')\n",
    "    plt.legend(loc=\"lower left\")\n",
    "    plt.show()    "
   ]
  },
  {
   "cell_type": "code",
   "execution_count": 15,
   "metadata": {},
   "outputs": [],
   "source": [
    "# モデルと構造を保存\n",
    "torch.save(model.state_dict(), '../../saved_model/DNN_7.pth')\n",
    "\n"
   ]
  }
 ],
 "metadata": {
  "kernelspec": {
   "display_name": "torch",
   "language": "python",
   "name": "python3"
  },
  "language_info": {
   "codemirror_mode": {
    "name": "ipython",
    "version": 3
   },
   "file_extension": ".py",
   "mimetype": "text/x-python",
   "name": "python",
   "nbconvert_exporter": "python",
   "pygments_lexer": "ipython3",
   "version": "3.12.7"
  }
 },
 "nbformat": 4,
 "nbformat_minor": 2
}
