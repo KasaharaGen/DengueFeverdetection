{
 "cells": [
  {
   "cell_type": "code",
   "execution_count": 13,
   "metadata": {},
   "outputs": [],
   "source": [
    "import numpy as np\n",
    "import pandas as pd\n",
    "import matplotlib.pyplot as plt\n",
    "import seaborn as sns\n",
    "\n",
    "import torch\n",
    "import torch.nn as nn\n",
    "import torch.optim as optim\n",
    "\n",
    "import optuna\n",
    "\n",
    "from sklearn.model_selection import train_test_split\n",
    "from sklearn.metrics import confusion_matrix,accuracy_score, precision_score, recall_score, f1_score, confusion_matrix, roc_curve, auc,matthews_corrcoef, precision_recall_curve,roc_auc_score\n",
    "\n"
   ]
  },
  {
   "cell_type": "markdown",
   "metadata": {},
   "source": [
    "データ読み取り"
   ]
  },
  {
   "cell_type": "code",
   "execution_count": 14,
   "metadata": {},
   "outputs": [],
   "source": [
    "df=pd.read_csv('../../data/learning_data.csv',index_col=0)\n",
    "\n",
    "X=df.drop(columns='dengue',axis=1).values\n",
    "y=df['dengue'].values\n",
    "\n",
    "X_train, X_test, y_train, y_test = train_test_split(X, y, test_size=0.2,random_state=42)\n",
    "X_train, X_val, y_train, y_val = train_test_split(X_train, y_train, test_size=0.1,random_state=42)\n",
    "\n",
    "#torchテンソルに変換\n",
    "X_train_tensor = torch.tensor(X_train, dtype=torch.float32)\n",
    "y_train_tensor = torch.tensor(y_train, dtype=torch.float32)\n",
    "X_test_tensor = torch.tensor(X_test, dtype=torch.float32)\n",
    "y_test_tensor = torch.tensor(y_test, dtype=torch.float32)\n",
    "X_val_tensor = torch.tensor(X_val, dtype=torch.float32)\n",
    "y_val_tensor = torch.tensor(y_val, dtype=torch.float32)\n"
   ]
  },
  {
   "cell_type": "code",
   "execution_count": 15,
   "metadata": {},
   "outputs": [],
   "source": [
    "class DNN_12(nn.Module):\n",
    "    def __init__(self, input_dim,dropout1,dropout2):\n",
    "        super(DNN_12, self).__init__()\n",
    "        self.layer1 = nn.Linear(input_dim,64)\n",
    "        self.layer2 = nn.Linear(64,32)\n",
    "        self.layer3 = nn.Linear(32, 16)\n",
    "        self.layer4 = nn.Linear(16, 8)\n",
    "        self.output_layer = nn.Linear(8, 1)\n",
    "\n",
    "        self.dropout1 = nn.Dropout(dropout1)\n",
    "        self.dropout2 = nn.Dropout(dropout2)\n",
    "        \n",
    "        \n",
    "    def forward(self, x):\n",
    "        x = torch.relu(self.layer1(x))\n",
    "    \n",
    "        \n",
    "        x = torch.relu(self.layer2(x))\n",
    "        x = self.dropout1(x)\n",
    "\n",
    "        x = torch.relu(self.layer3(x))\n",
    "        \n",
    "\n",
    "        x = torch.relu(self.layer4(x))\n",
    "        x = self.dropout2(x)\n",
    "\n",
    "        x = torch.sigmoid(self.output_layer(x)) \n",
    "        return x\n",
    "    "
   ]
  },
  {
   "cell_type": "markdown",
   "metadata": {},
   "source": [
    "学習データセットの作成"
   ]
  },
  {
   "cell_type": "code",
   "execution_count": 16,
   "metadata": {},
   "outputs": [],
   "source": [
    "train_dataset = torch.utils.data.TensorDataset(X_train_tensor, y_train_tensor)\n",
    "train_loader = torch.utils.data.DataLoader(dataset=train_dataset, batch_size=4, shuffle=True)\n",
    "\n",
    "val_dataset = torch.utils.data.TensorDataset(X_val_tensor, y_val_tensor)\n",
    "val_loader = torch.utils.data.DataLoader(dataset=val_dataset, batch_size=4, shuffle=False)"
   ]
  },
  {
   "cell_type": "markdown",
   "metadata": {},
   "source": [
    "Optunaの設定"
   ]
  },
  {
   "cell_type": "code",
   "execution_count": 17,
   "metadata": {},
   "outputs": [],
   "source": [
    "def objective(trial):\n",
    "    dropout1 = trial.suggest_float(\"dropout1\", 0, 0.5, step=0.05)\n",
    "    dropout2 = trial.suggest_float(\"dropout2\", 0, 0.5, step=0.05)\n",
    "    learning_rate = trial.suggest_loguniform(\"learning_rate\", 1e-4, 1e-2)  # 範囲を調整\n",
    "    weight_decay = trial.suggest_loguniform(\"weight_decay\", 1e-5, 1e-2)   # 範囲を調整\n",
    "\n",
    "    # モデル定義\n",
    "    model = DNN_12(\n",
    "        input_dim=X_train_tensor.shape[1],\n",
    "        dropout1=dropout1,\n",
    "        dropout2=dropout2\n",
    "    ).to(device)\n",
    "\n",
    "    criterion = nn.BCELoss()\n",
    "    optimizer = torch.optim.Adam(model.parameters(), lr=learning_rate, weight_decay=weight_decay)\n",
    "\n",
    "    # Early Stoppingの設定\n",
    "    patience = 10\n",
    "    best_val_loss = float('inf')\n",
    "    patience_counter = 0\n",
    "\n",
    "    # 訓練ループ\n",
    "    num_epochs = 100\n",
    "    for epoch in range(num_epochs):\n",
    "        model.train()\n",
    "        for X_batch, y_batch in train_loader:\n",
    "            X_batch, y_batch = X_batch.to(device), y_batch.to(device)\n",
    "            optimizer.zero_grad()\n",
    "            outputs = model(X_batch).squeeze()\n",
    "            loss = criterion(outputs, y_batch.squeeze())\n",
    "            loss.backward()\n",
    "            optimizer.step()\n",
    "\n",
    "        # バリデーション評価\n",
    "        model.eval()\n",
    "        val_loss = 0\n",
    "        val_true, val_pred = [], []\n",
    "        with torch.no_grad():\n",
    "            for X_val, y_val in val_loader:\n",
    "                X_val, y_val = X_val.to(device), y_val.to(device)\n",
    "                val_outputs = model(X_val).squeeze()\n",
    "                val_loss += criterion(val_outputs, y_val.squeeze()).item()\n",
    "                predictions = (val_outputs >0.49).float()\n",
    "                val_true.extend(y_val.cpu().numpy())\n",
    "                val_pred.extend(predictions.cpu().numpy())\n",
    "\n",
    "        val_loss /= len(val_loader)\n",
    "\n",
    "        # Early Stoppingの判定\n",
    "        if val_loss < best_val_loss:\n",
    "            best_val_loss = val_loss\n",
    "            patience_counter = 0\n",
    "        else:\n",
    "            patience_counter += 1\n",
    "\n",
    "        if patience_counter >= patience:\n",
    "            print(f\"Early stopping at epoch {epoch}\")\n",
    "            break\n",
    "\n",
    "        # Optunaへのログ\n",
    "        trial.report(val_loss, epoch)\n",
    "        if trial.should_prune():\n",
    "            raise optuna.exceptions.TrialPruned()\n",
    "\n",
    "    # 評価指標の計算\n",
    "    mcc = matthews_corrcoef(val_true, val_pred)\n",
    "    print(f\"Final MCC: {mcc:.4f}\")\n",
    "\n",
    "    return mcc  # mccを返す\n"
   ]
  },
  {
   "cell_type": "code",
   "execution_count": 18,
   "metadata": {},
   "outputs": [
    {
     "name": "stderr",
     "output_type": "stream",
     "text": [
      "[I 2024-12-04 16:17:11,487] A new study created in memory with name: no-name-42aceec1-6277-4f84-93e7-f8b13d943534\n",
      "/tmp/ipykernel_282960/730803207.py:4: FutureWarning: suggest_loguniform has been deprecated in v3.0.0. This feature will be removed in v6.0.0. See https://github.com/optuna/optuna/releases/tag/v3.0.0. Use suggest_float(..., log=True) instead.\n",
      "  learning_rate = trial.suggest_loguniform(\"learning_rate\", 1e-4, 1e-2)  # 範囲を調整\n",
      "/tmp/ipykernel_282960/730803207.py:5: FutureWarning: suggest_loguniform has been deprecated in v3.0.0. This feature will be removed in v6.0.0. See https://github.com/optuna/optuna/releases/tag/v3.0.0. Use suggest_float(..., log=True) instead.\n",
      "  weight_decay = trial.suggest_loguniform(\"weight_decay\", 1e-5, 1e-2)   # 範囲を調整\n",
      "[I 2024-12-04 16:17:51,552] Trial 0 finished with value: 0.23524581800529842 and parameters: {'dropout1': 0.35000000000000003, 'dropout2': 0.1, 'learning_rate': 0.0017772270148801786, 'weight_decay': 6.715699614123207e-05}. Best is trial 0 with value: 0.23524581800529842.\n"
     ]
    },
    {
     "name": "stdout",
     "output_type": "stream",
     "text": [
      "Early stopping at epoch 12\n",
      "Final MCC: 0.2352\n"
     ]
    },
    {
     "name": "stderr",
     "output_type": "stream",
     "text": [
      "/tmp/ipykernel_282960/730803207.py:4: FutureWarning: suggest_loguniform has been deprecated in v3.0.0. This feature will be removed in v6.0.0. See https://github.com/optuna/optuna/releases/tag/v3.0.0. Use suggest_float(..., log=True) instead.\n",
      "  learning_rate = trial.suggest_loguniform(\"learning_rate\", 1e-4, 1e-2)  # 範囲を調整\n",
      "/tmp/ipykernel_282960/730803207.py:5: FutureWarning: suggest_loguniform has been deprecated in v3.0.0. This feature will be removed in v6.0.0. See https://github.com/optuna/optuna/releases/tag/v3.0.0. Use suggest_float(..., log=True) instead.\n",
      "  weight_decay = trial.suggest_loguniform(\"weight_decay\", 1e-5, 1e-2)   # 範囲を調整\n",
      "[I 2024-12-04 16:18:41,531] Trial 1 finished with value: 0.0 and parameters: {'dropout1': 0.05, 'dropout2': 0.4, 'learning_rate': 0.007411562596050715, 'weight_decay': 0.004102866106875619}. Best is trial 0 with value: 0.23524581800529842.\n"
     ]
    },
    {
     "name": "stdout",
     "output_type": "stream",
     "text": [
      "Early stopping at epoch 14\n",
      "Final MCC: 0.0000\n"
     ]
    },
    {
     "name": "stderr",
     "output_type": "stream",
     "text": [
      "/tmp/ipykernel_282960/730803207.py:4: FutureWarning: suggest_loguniform has been deprecated in v3.0.0. This feature will be removed in v6.0.0. See https://github.com/optuna/optuna/releases/tag/v3.0.0. Use suggest_float(..., log=True) instead.\n",
      "  learning_rate = trial.suggest_loguniform(\"learning_rate\", 1e-4, 1e-2)  # 範囲を調整\n",
      "/tmp/ipykernel_282960/730803207.py:5: FutureWarning: suggest_loguniform has been deprecated in v3.0.0. This feature will be removed in v6.0.0. See https://github.com/optuna/optuna/releases/tag/v3.0.0. Use suggest_float(..., log=True) instead.\n",
      "  weight_decay = trial.suggest_loguniform(\"weight_decay\", 1e-5, 1e-2)   # 範囲を調整\n",
      "[I 2024-12-04 16:19:38,364] Trial 2 finished with value: 0.3444571811508554 and parameters: {'dropout1': 0.1, 'dropout2': 0.2, 'learning_rate': 0.0027570403433554783, 'weight_decay': 2.9040923429646158e-05}. Best is trial 2 with value: 0.3444571811508554.\n"
     ]
    },
    {
     "name": "stdout",
     "output_type": "stream",
     "text": [
      "Early stopping at epoch 16\n",
      "Final MCC: 0.3445\n"
     ]
    },
    {
     "name": "stderr",
     "output_type": "stream",
     "text": [
      "/tmp/ipykernel_282960/730803207.py:4: FutureWarning: suggest_loguniform has been deprecated in v3.0.0. This feature will be removed in v6.0.0. See https://github.com/optuna/optuna/releases/tag/v3.0.0. Use suggest_float(..., log=True) instead.\n",
      "  learning_rate = trial.suggest_loguniform(\"learning_rate\", 1e-4, 1e-2)  # 範囲を調整\n",
      "/tmp/ipykernel_282960/730803207.py:5: FutureWarning: suggest_loguniform has been deprecated in v3.0.0. This feature will be removed in v6.0.0. See https://github.com/optuna/optuna/releases/tag/v3.0.0. Use suggest_float(..., log=True) instead.\n",
      "  weight_decay = trial.suggest_loguniform(\"weight_decay\", 1e-5, 1e-2)   # 範囲を調整\n",
      "[I 2024-12-04 16:20:22,036] Trial 3 finished with value: 0.3281671969310326 and parameters: {'dropout1': 0.4, 'dropout2': 0.15000000000000002, 'learning_rate': 0.002552726715615874, 'weight_decay': 0.00019122633296030512}. Best is trial 2 with value: 0.3444571811508554.\n"
     ]
    },
    {
     "name": "stdout",
     "output_type": "stream",
     "text": [
      "Early stopping at epoch 12\n",
      "Final MCC: 0.3282\n"
     ]
    },
    {
     "name": "stderr",
     "output_type": "stream",
     "text": [
      "/tmp/ipykernel_282960/730803207.py:4: FutureWarning: suggest_loguniform has been deprecated in v3.0.0. This feature will be removed in v6.0.0. See https://github.com/optuna/optuna/releases/tag/v3.0.0. Use suggest_float(..., log=True) instead.\n",
      "  learning_rate = trial.suggest_loguniform(\"learning_rate\", 1e-4, 1e-2)  # 範囲を調整\n",
      "/tmp/ipykernel_282960/730803207.py:5: FutureWarning: suggest_loguniform has been deprecated in v3.0.0. This feature will be removed in v6.0.0. See https://github.com/optuna/optuna/releases/tag/v3.0.0. Use suggest_float(..., log=True) instead.\n",
      "  weight_decay = trial.suggest_loguniform(\"weight_decay\", 1e-5, 1e-2)   # 範囲を調整\n",
      "[I 2024-12-04 16:22:10,207] Trial 4 finished with value: 0.30848104683740524 and parameters: {'dropout1': 0.4, 'dropout2': 0.15000000000000002, 'learning_rate': 0.00019227390071489936, 'weight_decay': 0.00016329681302709793}. Best is trial 2 with value: 0.3444571811508554.\n"
     ]
    },
    {
     "name": "stdout",
     "output_type": "stream",
     "text": [
      "Early stopping at epoch 31\n",
      "Final MCC: 0.3085\n"
     ]
    },
    {
     "name": "stderr",
     "output_type": "stream",
     "text": [
      "/tmp/ipykernel_282960/730803207.py:4: FutureWarning: suggest_loguniform has been deprecated in v3.0.0. This feature will be removed in v6.0.0. See https://github.com/optuna/optuna/releases/tag/v3.0.0. Use suggest_float(..., log=True) instead.\n",
      "  learning_rate = trial.suggest_loguniform(\"learning_rate\", 1e-4, 1e-2)  # 範囲を調整\n",
      "/tmp/ipykernel_282960/730803207.py:5: FutureWarning: suggest_loguniform has been deprecated in v3.0.0. This feature will be removed in v6.0.0. See https://github.com/optuna/optuna/releases/tag/v3.0.0. Use suggest_float(..., log=True) instead.\n",
      "  weight_decay = trial.suggest_loguniform(\"weight_decay\", 1e-5, 1e-2)   # 範囲を調整\n",
      "[I 2024-12-04 16:23:43,624] Trial 5 finished with value: 0.37847948497224676 and parameters: {'dropout1': 0.2, 'dropout2': 0.25, 'learning_rate': 0.00026531981979558686, 'weight_decay': 0.00044058555855240676}. Best is trial 5 with value: 0.37847948497224676.\n"
     ]
    },
    {
     "name": "stdout",
     "output_type": "stream",
     "text": [
      "Early stopping at epoch 27\n",
      "Final MCC: 0.3785\n"
     ]
    },
    {
     "name": "stderr",
     "output_type": "stream",
     "text": [
      "/tmp/ipykernel_282960/730803207.py:4: FutureWarning: suggest_loguniform has been deprecated in v3.0.0. This feature will be removed in v6.0.0. See https://github.com/optuna/optuna/releases/tag/v3.0.0. Use suggest_float(..., log=True) instead.\n",
      "  learning_rate = trial.suggest_loguniform(\"learning_rate\", 1e-4, 1e-2)  # 範囲を調整\n",
      "/tmp/ipykernel_282960/730803207.py:5: FutureWarning: suggest_loguniform has been deprecated in v3.0.0. This feature will be removed in v6.0.0. See https://github.com/optuna/optuna/releases/tag/v3.0.0. Use suggest_float(..., log=True) instead.\n",
      "  weight_decay = trial.suggest_loguniform(\"weight_decay\", 1e-5, 1e-2)   # 範囲を調整\n",
      "[I 2024-12-04 16:24:41,070] Trial 6 finished with value: 0.0 and parameters: {'dropout1': 0.05, 'dropout2': 0.05, 'learning_rate': 0.0032849317072902425, 'weight_decay': 0.00936035870647688}. Best is trial 5 with value: 0.37847948497224676.\n"
     ]
    },
    {
     "name": "stdout",
     "output_type": "stream",
     "text": [
      "Early stopping at epoch 16\n",
      "Final MCC: 0.0000\n"
     ]
    },
    {
     "name": "stderr",
     "output_type": "stream",
     "text": [
      "/tmp/ipykernel_282960/730803207.py:4: FutureWarning: suggest_loguniform has been deprecated in v3.0.0. This feature will be removed in v6.0.0. See https://github.com/optuna/optuna/releases/tag/v3.0.0. Use suggest_float(..., log=True) instead.\n",
      "  learning_rate = trial.suggest_loguniform(\"learning_rate\", 1e-4, 1e-2)  # 範囲を調整\n",
      "/tmp/ipykernel_282960/730803207.py:5: FutureWarning: suggest_loguniform has been deprecated in v3.0.0. This feature will be removed in v6.0.0. See https://github.com/optuna/optuna/releases/tag/v3.0.0. Use suggest_float(..., log=True) instead.\n",
      "  weight_decay = trial.suggest_loguniform(\"weight_decay\", 1e-5, 1e-2)   # 範囲を調整\n",
      "[I 2024-12-04 16:24:44,398] Trial 7 pruned. \n",
      "[I 2024-12-04 16:26:17,774] Trial 8 finished with value: 0.0 and parameters: {'dropout1': 0.45, 'dropout2': 0.45, 'learning_rate': 0.0006674959358811906, 'weight_decay': 0.006245249957530613}. Best is trial 5 with value: 0.37847948497224676.\n"
     ]
    },
    {
     "name": "stdout",
     "output_type": "stream",
     "text": [
      "Early stopping at epoch 26\n",
      "Final MCC: 0.0000\n"
     ]
    },
    {
     "name": "stderr",
     "output_type": "stream",
     "text": [
      "/tmp/ipykernel_282960/730803207.py:4: FutureWarning: suggest_loguniform has been deprecated in v3.0.0. This feature will be removed in v6.0.0. See https://github.com/optuna/optuna/releases/tag/v3.0.0. Use suggest_float(..., log=True) instead.\n",
      "  learning_rate = trial.suggest_loguniform(\"learning_rate\", 1e-4, 1e-2)  # 範囲を調整\n",
      "/tmp/ipykernel_282960/730803207.py:5: FutureWarning: suggest_loguniform has been deprecated in v3.0.0. This feature will be removed in v6.0.0. See https://github.com/optuna/optuna/releases/tag/v3.0.0. Use suggest_float(..., log=True) instead.\n",
      "  weight_decay = trial.suggest_loguniform(\"weight_decay\", 1e-5, 1e-2)   # 範囲を調整\n",
      "[I 2024-12-04 16:26:21,190] Trial 9 pruned. \n",
      "[I 2024-12-04 16:28:32,680] Trial 10 finished with value: 0.33706018014315553 and parameters: {'dropout1': 0.2, 'dropout2': 0.30000000000000004, 'learning_rate': 0.00011661585336846837, 'weight_decay': 0.0010516634735335086}. Best is trial 5 with value: 0.37847948497224676.\n"
     ]
    },
    {
     "name": "stdout",
     "output_type": "stream",
     "text": [
      "Early stopping at epoch 38\n",
      "Final MCC: 0.3371\n"
     ]
    },
    {
     "name": "stderr",
     "output_type": "stream",
     "text": [
      "/tmp/ipykernel_282960/730803207.py:4: FutureWarning: suggest_loguniform has been deprecated in v3.0.0. This feature will be removed in v6.0.0. See https://github.com/optuna/optuna/releases/tag/v3.0.0. Use suggest_float(..., log=True) instead.\n",
      "  learning_rate = trial.suggest_loguniform(\"learning_rate\", 1e-4, 1e-2)  # 範囲を調整\n",
      "/tmp/ipykernel_282960/730803207.py:5: FutureWarning: suggest_loguniform has been deprecated in v3.0.0. This feature will be removed in v6.0.0. See https://github.com/optuna/optuna/releases/tag/v3.0.0. Use suggest_float(..., log=True) instead.\n",
      "  weight_decay = trial.suggest_loguniform(\"weight_decay\", 1e-5, 1e-2)   # 範囲を調整\n",
      "[I 2024-12-04 16:28:36,103] Trial 11 pruned. \n",
      "[I 2024-12-04 16:28:39,507] Trial 12 pruned. \n",
      "[I 2024-12-04 16:28:42,936] Trial 13 pruned. \n",
      "[I 2024-12-04 16:28:46,287] Trial 14 pruned. \n",
      "[I 2024-12-04 16:30:21,869] Trial 15 finished with value: 0.0 and parameters: {'dropout1': 0.1, 'dropout2': 0.5, 'learning_rate': 0.00043029442997106045, 'weight_decay': 0.0005674713490078455}. Best is trial 5 with value: 0.37847948497224676.\n"
     ]
    },
    {
     "name": "stdout",
     "output_type": "stream",
     "text": [
      "Early stopping at epoch 26\n",
      "Final MCC: 0.0000\n"
     ]
    },
    {
     "name": "stderr",
     "output_type": "stream",
     "text": [
      "/tmp/ipykernel_282960/730803207.py:4: FutureWarning: suggest_loguniform has been deprecated in v3.0.0. This feature will be removed in v6.0.0. See https://github.com/optuna/optuna/releases/tag/v3.0.0. Use suggest_float(..., log=True) instead.\n",
      "  learning_rate = trial.suggest_loguniform(\"learning_rate\", 1e-4, 1e-2)  # 範囲を調整\n",
      "/tmp/ipykernel_282960/730803207.py:5: FutureWarning: suggest_loguniform has been deprecated in v3.0.0. This feature will be removed in v6.0.0. See https://github.com/optuna/optuna/releases/tag/v3.0.0. Use suggest_float(..., log=True) instead.\n",
      "  weight_decay = trial.suggest_loguniform(\"weight_decay\", 1e-5, 1e-2)   # 範囲を調整\n",
      "[I 2024-12-04 16:30:25,354] Trial 16 pruned. \n",
      "[I 2024-12-04 16:32:36,765] Trial 17 finished with value: 0.1888533159001184 and parameters: {'dropout1': 0.15000000000000002, 'dropout2': 0.2, 'learning_rate': 0.00010443210725583333, 'weight_decay': 0.00036032918690575904}. Best is trial 5 with value: 0.37847948497224676.\n"
     ]
    },
    {
     "name": "stdout",
     "output_type": "stream",
     "text": [
      "Early stopping at epoch 37\n",
      "Final MCC: 0.1889\n"
     ]
    },
    {
     "name": "stderr",
     "output_type": "stream",
     "text": [
      "/tmp/ipykernel_282960/730803207.py:4: FutureWarning: suggest_loguniform has been deprecated in v3.0.0. This feature will be removed in v6.0.0. See https://github.com/optuna/optuna/releases/tag/v3.0.0. Use suggest_float(..., log=True) instead.\n",
      "  learning_rate = trial.suggest_loguniform(\"learning_rate\", 1e-4, 1e-2)  # 範囲を調整\n",
      "/tmp/ipykernel_282960/730803207.py:5: FutureWarning: suggest_loguniform has been deprecated in v3.0.0. This feature will be removed in v6.0.0. See https://github.com/optuna/optuna/releases/tag/v3.0.0. Use suggest_float(..., log=True) instead.\n",
      "  weight_decay = trial.suggest_loguniform(\"weight_decay\", 1e-5, 1e-2)   # 範囲を調整\n",
      "[I 2024-12-04 16:32:40,294] Trial 18 pruned. \n",
      "[I 2024-12-04 16:32:43,802] Trial 19 pruned. \n",
      "[I 2024-12-04 16:32:47,341] Trial 20 pruned. \n",
      "[I 2024-12-04 16:32:50,843] Trial 21 pruned. \n",
      "[I 2024-12-04 16:32:54,377] Trial 22 pruned. \n",
      "[I 2024-12-04 16:32:57,877] Trial 23 pruned. \n",
      "[I 2024-12-04 16:33:01,377] Trial 24 pruned. \n",
      "[I 2024-12-04 16:33:04,981] Trial 25 pruned. \n",
      "[I 2024-12-04 16:35:43,737] Trial 26 finished with value: 0.3333528459316899 and parameters: {'dropout1': 0.15000000000000002, 'dropout2': 0.4, 'learning_rate': 0.0007006930688662408, 'weight_decay': 0.000834774127904706}. Best is trial 5 with value: 0.37847948497224676.\n"
     ]
    },
    {
     "name": "stdout",
     "output_type": "stream",
     "text": [
      "Early stopping at epoch 44\n",
      "Final MCC: 0.3334\n"
     ]
    },
    {
     "name": "stderr",
     "output_type": "stream",
     "text": [
      "/tmp/ipykernel_282960/730803207.py:4: FutureWarning: suggest_loguniform has been deprecated in v3.0.0. This feature will be removed in v6.0.0. See https://github.com/optuna/optuna/releases/tag/v3.0.0. Use suggest_float(..., log=True) instead.\n",
      "  learning_rate = trial.suggest_loguniform(\"learning_rate\", 1e-4, 1e-2)  # 範囲を調整\n",
      "/tmp/ipykernel_282960/730803207.py:5: FutureWarning: suggest_loguniform has been deprecated in v3.0.0. This feature will be removed in v6.0.0. See https://github.com/optuna/optuna/releases/tag/v3.0.0. Use suggest_float(..., log=True) instead.\n",
      "  weight_decay = trial.suggest_loguniform(\"weight_decay\", 1e-5, 1e-2)   # 範囲を調整\n",
      "[I 2024-12-04 16:35:47,235] Trial 27 pruned. \n",
      "[I 2024-12-04 16:35:50,764] Trial 28 pruned. \n",
      "[I 2024-12-04 16:35:54,286] Trial 29 pruned. \n",
      "[I 2024-12-04 16:35:57,744] Trial 30 pruned. \n",
      "[I 2024-12-04 16:36:01,235] Trial 31 pruned. \n",
      "[I 2024-12-04 16:36:04,687] Trial 32 pruned. \n",
      "[I 2024-12-04 16:36:08,541] Trial 33 pruned. \n",
      "[I 2024-12-04 16:36:12,380] Trial 34 pruned. \n",
      "[I 2024-12-04 16:36:16,212] Trial 35 pruned. \n",
      "[I 2024-12-04 16:36:20,054] Trial 36 pruned. \n",
      "[I 2024-12-04 16:36:23,878] Trial 37 pruned. \n",
      "[I 2024-12-04 16:36:27,810] Trial 38 pruned. \n",
      "[I 2024-12-04 16:36:31,585] Trial 39 pruned. \n",
      "[I 2024-12-04 16:36:35,405] Trial 40 pruned. \n",
      "[I 2024-12-04 16:36:39,228] Trial 41 pruned. \n",
      "[I 2024-12-04 16:36:43,030] Trial 42 pruned. \n",
      "[I 2024-12-04 16:36:46,891] Trial 43 pruned. \n",
      "[I 2024-12-04 16:36:50,738] Trial 44 pruned. \n",
      "[I 2024-12-04 16:36:54,577] Trial 45 pruned. \n",
      "[I 2024-12-04 16:36:58,406] Trial 46 pruned. \n",
      "[I 2024-12-04 16:37:02,257] Trial 47 pruned. \n",
      "[I 2024-12-04 16:37:06,084] Trial 48 pruned. \n",
      "[I 2024-12-04 16:38:06,711] Trial 49 finished with value: 0.0 and parameters: {'dropout1': 0.2, 'dropout2': 0.05, 'learning_rate': 0.0011695284827101604, 'weight_decay': 0.009591858522158693}. Best is trial 5 with value: 0.37847948497224676.\n"
     ]
    },
    {
     "name": "stdout",
     "output_type": "stream",
     "text": [
      "Early stopping at epoch 15\n",
      "Final MCC: 0.0000\n"
     ]
    },
    {
     "name": "stderr",
     "output_type": "stream",
     "text": [
      "/tmp/ipykernel_282960/730803207.py:4: FutureWarning: suggest_loguniform has been deprecated in v3.0.0. This feature will be removed in v6.0.0. See https://github.com/optuna/optuna/releases/tag/v3.0.0. Use suggest_float(..., log=True) instead.\n",
      "  learning_rate = trial.suggest_loguniform(\"learning_rate\", 1e-4, 1e-2)  # 範囲を調整\n",
      "/tmp/ipykernel_282960/730803207.py:5: FutureWarning: suggest_loguniform has been deprecated in v3.0.0. This feature will be removed in v6.0.0. See https://github.com/optuna/optuna/releases/tag/v3.0.0. Use suggest_float(..., log=True) instead.\n",
      "  weight_decay = trial.suggest_loguniform(\"weight_decay\", 1e-5, 1e-2)   # 範囲を調整\n",
      "[I 2024-12-04 16:38:10,520] Trial 50 pruned. \n",
      "[I 2024-12-04 16:38:14,388] Trial 51 pruned. \n",
      "[I 2024-12-04 16:38:18,117] Trial 52 pruned. \n",
      "[I 2024-12-04 16:41:28,702] Trial 53 finished with value: 0.2023346717054655 and parameters: {'dropout1': 0.45, 'dropout2': 0.15000000000000002, 'learning_rate': 0.00012175428205790454, 'weight_decay': 0.0002514481627062436}. Best is trial 5 with value: 0.37847948497224676.\n"
     ]
    },
    {
     "name": "stdout",
     "output_type": "stream",
     "text": [
      "Early stopping at epoch 51\n",
      "Final MCC: 0.2023\n"
     ]
    },
    {
     "name": "stderr",
     "output_type": "stream",
     "text": [
      "/tmp/ipykernel_282960/730803207.py:4: FutureWarning: suggest_loguniform has been deprecated in v3.0.0. This feature will be removed in v6.0.0. See https://github.com/optuna/optuna/releases/tag/v3.0.0. Use suggest_float(..., log=True) instead.\n",
      "  learning_rate = trial.suggest_loguniform(\"learning_rate\", 1e-4, 1e-2)  # 範囲を調整\n",
      "/tmp/ipykernel_282960/730803207.py:5: FutureWarning: suggest_loguniform has been deprecated in v3.0.0. This feature will be removed in v6.0.0. See https://github.com/optuna/optuna/releases/tag/v3.0.0. Use suggest_float(..., log=True) instead.\n",
      "  weight_decay = trial.suggest_loguniform(\"weight_decay\", 1e-5, 1e-2)   # 範囲を調整\n",
      "[I 2024-12-04 16:41:32,422] Trial 54 pruned. \n",
      "[I 2024-12-04 16:41:36,114] Trial 55 pruned. \n",
      "[I 2024-12-04 16:41:39,757] Trial 56 pruned. \n",
      "[I 2024-12-04 16:41:43,387] Trial 57 pruned. \n",
      "[I 2024-12-04 16:41:47,095] Trial 58 pruned. \n",
      "[I 2024-12-04 16:41:50,728] Trial 59 pruned. \n",
      "[I 2024-12-04 16:41:54,375] Trial 60 pruned. \n",
      "[I 2024-12-04 16:41:58,071] Trial 61 pruned. \n",
      "[I 2024-12-04 16:42:01,784] Trial 62 pruned. \n",
      "[I 2024-12-04 16:42:05,512] Trial 63 pruned. \n",
      "[I 2024-12-04 16:42:09,250] Trial 64 pruned. \n",
      "[I 2024-12-04 16:42:12,848] Trial 65 pruned. \n",
      "[I 2024-12-04 16:42:16,549] Trial 66 pruned. \n",
      "[I 2024-12-04 16:42:20,216] Trial 67 pruned. \n",
      "[I 2024-12-04 16:42:23,923] Trial 68 pruned. \n",
      "[I 2024-12-04 16:42:27,574] Trial 69 pruned. \n",
      "[I 2024-12-04 16:42:31,188] Trial 70 pruned. \n",
      "[I 2024-12-04 16:45:51,414] Trial 71 finished with value: 0.2213324252132109 and parameters: {'dropout1': 0.45, 'dropout2': 0.15000000000000002, 'learning_rate': 0.0001198714790747834, 'weight_decay': 0.00026296308753540347}. Best is trial 5 with value: 0.37847948497224676.\n"
     ]
    },
    {
     "name": "stdout",
     "output_type": "stream",
     "text": [
      "Early stopping at epoch 54\n",
      "Final MCC: 0.2213\n"
     ]
    },
    {
     "name": "stderr",
     "output_type": "stream",
     "text": [
      "/tmp/ipykernel_282960/730803207.py:4: FutureWarning: suggest_loguniform has been deprecated in v3.0.0. This feature will be removed in v6.0.0. See https://github.com/optuna/optuna/releases/tag/v3.0.0. Use suggest_float(..., log=True) instead.\n",
      "  learning_rate = trial.suggest_loguniform(\"learning_rate\", 1e-4, 1e-2)  # 範囲を調整\n",
      "/tmp/ipykernel_282960/730803207.py:5: FutureWarning: suggest_loguniform has been deprecated in v3.0.0. This feature will be removed in v6.0.0. See https://github.com/optuna/optuna/releases/tag/v3.0.0. Use suggest_float(..., log=True) instead.\n",
      "  weight_decay = trial.suggest_loguniform(\"weight_decay\", 1e-5, 1e-2)   # 範囲を調整\n",
      "[I 2024-12-04 16:45:55,029] Trial 72 pruned. \n",
      "[I 2024-12-04 16:45:58,759] Trial 73 pruned. \n",
      "[I 2024-12-04 16:46:02,416] Trial 74 pruned. \n",
      "[I 2024-12-04 16:49:40,680] Trial 75 finished with value: 0.23033156878497435 and parameters: {'dropout1': 0.4, 'dropout2': 0.15000000000000002, 'learning_rate': 0.0001022336316162198, 'weight_decay': 0.00035669499244482447}. Best is trial 5 with value: 0.37847948497224676.\n"
     ]
    },
    {
     "name": "stdout",
     "output_type": "stream",
     "text": [
      "Early stopping at epoch 59\n",
      "Final MCC: 0.2303\n"
     ]
    },
    {
     "name": "stderr",
     "output_type": "stream",
     "text": [
      "/tmp/ipykernel_282960/730803207.py:4: FutureWarning: suggest_loguniform has been deprecated in v3.0.0. This feature will be removed in v6.0.0. See https://github.com/optuna/optuna/releases/tag/v3.0.0. Use suggest_float(..., log=True) instead.\n",
      "  learning_rate = trial.suggest_loguniform(\"learning_rate\", 1e-4, 1e-2)  # 範囲を調整\n",
      "/tmp/ipykernel_282960/730803207.py:5: FutureWarning: suggest_loguniform has been deprecated in v3.0.0. This feature will be removed in v6.0.0. See https://github.com/optuna/optuna/releases/tag/v3.0.0. Use suggest_float(..., log=True) instead.\n",
      "  weight_decay = trial.suggest_loguniform(\"weight_decay\", 1e-5, 1e-2)   # 範囲を調整\n",
      "[I 2024-12-04 16:49:44,492] Trial 76 pruned. \n",
      "[I 2024-12-04 16:49:48,233] Trial 77 pruned. \n",
      "[I 2024-12-04 16:49:51,988] Trial 78 pruned. \n",
      "[I 2024-12-04 16:49:55,708] Trial 79 pruned. \n",
      "[I 2024-12-04 16:49:59,619] Trial 80 pruned. \n",
      "[I 2024-12-04 16:50:03,466] Trial 81 pruned. \n",
      "[I 2024-12-04 16:53:21,699] Trial 82 finished with value: 0.27020709741314897 and parameters: {'dropout1': 0.4, 'dropout2': 0.15000000000000002, 'learning_rate': 0.00013368777457904198, 'weight_decay': 0.00022905948716559589}. Best is trial 5 with value: 0.37847948497224676.\n"
     ]
    },
    {
     "name": "stdout",
     "output_type": "stream",
     "text": [
      "Early stopping at epoch 52\n",
      "Final MCC: 0.2702\n"
     ]
    },
    {
     "name": "stderr",
     "output_type": "stream",
     "text": [
      "/tmp/ipykernel_282960/730803207.py:4: FutureWarning: suggest_loguniform has been deprecated in v3.0.0. This feature will be removed in v6.0.0. See https://github.com/optuna/optuna/releases/tag/v3.0.0. Use suggest_float(..., log=True) instead.\n",
      "  learning_rate = trial.suggest_loguniform(\"learning_rate\", 1e-4, 1e-2)  # 範囲を調整\n",
      "/tmp/ipykernel_282960/730803207.py:5: FutureWarning: suggest_loguniform has been deprecated in v3.0.0. This feature will be removed in v6.0.0. See https://github.com/optuna/optuna/releases/tag/v3.0.0. Use suggest_float(..., log=True) instead.\n",
      "  weight_decay = trial.suggest_loguniform(\"weight_decay\", 1e-5, 1e-2)   # 範囲を調整\n",
      "[I 2024-12-04 16:53:25,532] Trial 83 pruned. \n",
      "[I 2024-12-04 16:56:20,818] Trial 84 finished with value: 0.19313656219880884 and parameters: {'dropout1': 0.4, 'dropout2': 0.15000000000000002, 'learning_rate': 0.0001690232867699862, 'weight_decay': 0.00011477962637605291}. Best is trial 5 with value: 0.37847948497224676.\n"
     ]
    },
    {
     "name": "stdout",
     "output_type": "stream",
     "text": [
      "Early stopping at epoch 46\n",
      "Final MCC: 0.1931\n"
     ]
    },
    {
     "name": "stderr",
     "output_type": "stream",
     "text": [
      "/tmp/ipykernel_282960/730803207.py:4: FutureWarning: suggest_loguniform has been deprecated in v3.0.0. This feature will be removed in v6.0.0. See https://github.com/optuna/optuna/releases/tag/v3.0.0. Use suggest_float(..., log=True) instead.\n",
      "  learning_rate = trial.suggest_loguniform(\"learning_rate\", 1e-4, 1e-2)  # 範囲を調整\n",
      "/tmp/ipykernel_282960/730803207.py:5: FutureWarning: suggest_loguniform has been deprecated in v3.0.0. This feature will be removed in v6.0.0. See https://github.com/optuna/optuna/releases/tag/v3.0.0. Use suggest_float(..., log=True) instead.\n",
      "  weight_decay = trial.suggest_loguniform(\"weight_decay\", 1e-5, 1e-2)   # 範囲を調整\n",
      "[I 2024-12-04 16:56:24,621] Trial 85 pruned. \n",
      "[I 2024-12-04 16:56:28,493] Trial 86 pruned. \n",
      "[I 2024-12-04 16:56:32,209] Trial 87 pruned. \n",
      "[I 2024-12-04 16:56:35,931] Trial 88 pruned. \n",
      "[I 2024-12-04 16:56:39,608] Trial 89 pruned. \n",
      "[I 2024-12-04 16:56:43,390] Trial 90 pruned. \n",
      "[I 2024-12-04 17:01:04,186] Trial 91 finished with value: 0.3502583197270743 and parameters: {'dropout1': 0.45, 'dropout2': 0.15000000000000002, 'learning_rate': 0.00010995184840491797, 'weight_decay': 0.00028461516960922103}. Best is trial 5 with value: 0.37847948497224676.\n"
     ]
    },
    {
     "name": "stdout",
     "output_type": "stream",
     "text": [
      "Early stopping at epoch 69\n",
      "Final MCC: 0.3503\n"
     ]
    },
    {
     "name": "stderr",
     "output_type": "stream",
     "text": [
      "/tmp/ipykernel_282960/730803207.py:4: FutureWarning: suggest_loguniform has been deprecated in v3.0.0. This feature will be removed in v6.0.0. See https://github.com/optuna/optuna/releases/tag/v3.0.0. Use suggest_float(..., log=True) instead.\n",
      "  learning_rate = trial.suggest_loguniform(\"learning_rate\", 1e-4, 1e-2)  # 範囲を調整\n",
      "/tmp/ipykernel_282960/730803207.py:5: FutureWarning: suggest_loguniform has been deprecated in v3.0.0. This feature will be removed in v6.0.0. See https://github.com/optuna/optuna/releases/tag/v3.0.0. Use suggest_float(..., log=True) instead.\n",
      "  weight_decay = trial.suggest_loguniform(\"weight_decay\", 1e-5, 1e-2)   # 範囲を調整\n",
      "[I 2024-12-04 17:04:02,384] Trial 92 finished with value: 0.3144452433120083 and parameters: {'dropout1': 0.5, 'dropout2': 0.1, 'learning_rate': 0.00010431640495670744, 'weight_decay': 0.00044765810507864747}. Best is trial 5 with value: 0.37847948497224676.\n"
     ]
    },
    {
     "name": "stdout",
     "output_type": "stream",
     "text": [
      "Early stopping at epoch 46\n",
      "Final MCC: 0.3144\n"
     ]
    },
    {
     "name": "stderr",
     "output_type": "stream",
     "text": [
      "/tmp/ipykernel_282960/730803207.py:4: FutureWarning: suggest_loguniform has been deprecated in v3.0.0. This feature will be removed in v6.0.0. See https://github.com/optuna/optuna/releases/tag/v3.0.0. Use suggest_float(..., log=True) instead.\n",
      "  learning_rate = trial.suggest_loguniform(\"learning_rate\", 1e-4, 1e-2)  # 範囲を調整\n",
      "/tmp/ipykernel_282960/730803207.py:5: FutureWarning: suggest_loguniform has been deprecated in v3.0.0. This feature will be removed in v6.0.0. See https://github.com/optuna/optuna/releases/tag/v3.0.0. Use suggest_float(..., log=True) instead.\n",
      "  weight_decay = trial.suggest_loguniform(\"weight_decay\", 1e-5, 1e-2)   # 範囲を調整\n",
      "[I 2024-12-04 17:04:06,193] Trial 93 pruned. \n",
      "[I 2024-12-04 17:04:10,021] Trial 94 pruned. \n",
      "[I 2024-12-04 17:04:13,850] Trial 95 pruned. \n",
      "[I 2024-12-04 17:04:17,672] Trial 96 pruned. \n",
      "[I 2024-12-04 17:07:50,388] Trial 97 finished with value: 0.23899499366190557 and parameters: {'dropout1': 0.45, 'dropout2': 0.1, 'learning_rate': 0.0001885251784591131, 'weight_decay': 0.0012756603379034685}. Best is trial 5 with value: 0.37847948497224676.\n"
     ]
    },
    {
     "name": "stdout",
     "output_type": "stream",
     "text": [
      "Early stopping at epoch 55\n",
      "Final MCC: 0.2390\n"
     ]
    },
    {
     "name": "stderr",
     "output_type": "stream",
     "text": [
      "/tmp/ipykernel_282960/730803207.py:4: FutureWarning: suggest_loguniform has been deprecated in v3.0.0. This feature will be removed in v6.0.0. See https://github.com/optuna/optuna/releases/tag/v3.0.0. Use suggest_float(..., log=True) instead.\n",
      "  learning_rate = trial.suggest_loguniform(\"learning_rate\", 1e-4, 1e-2)  # 範囲を調整\n",
      "/tmp/ipykernel_282960/730803207.py:5: FutureWarning: suggest_loguniform has been deprecated in v3.0.0. This feature will be removed in v6.0.0. See https://github.com/optuna/optuna/releases/tag/v3.0.0. Use suggest_float(..., log=True) instead.\n",
      "  weight_decay = trial.suggest_loguniform(\"weight_decay\", 1e-5, 1e-2)   # 範囲を調整\n",
      "[I 2024-12-04 17:07:54,203] Trial 98 pruned. \n",
      "[I 2024-12-04 17:07:58,025] Trial 99 pruned. \n"
     ]
    },
    {
     "name": "stdout",
     "output_type": "stream",
     "text": [
      "Best Parameters:  {'dropout1': 0.2, 'dropout2': 0.25, 'learning_rate': 0.00026531981979558686, 'weight_decay': 0.00044058555855240676}\n",
      "Best Validation F1:  0.37847948497224676\n"
     ]
    }
   ],
   "source": [
    "device_id = 0  # 使用するGPUのID（0または1）\n",
    "torch.cuda.set_device(device_id)\n",
    "device = torch.device(f\"cuda:{device_id}\" if torch.cuda.is_available() else \"cpu\")\n",
    "\n",
    "# Optunaの設定\n",
    "study = optuna.create_study(direction=\"maximize\")  \n",
    "study.optimize(objective, n_trials=100)\n",
    "\n",
    "# 結果表示\n",
    "print(\"Best Parameters: \", study.best_params)\n",
    "print(\"Best Validation F1: \", study.best_value)"
   ]
  },
  {
   "cell_type": "code",
   "execution_count": 19,
   "metadata": {},
   "outputs": [
    {
     "name": "stdout",
     "output_type": "stream",
     "text": [
      "Epoch [1/100], Loss: 0.6406\n",
      "Epoch [1/100], Train Loss: 0.6406, Val Loss: 0.5882\n",
      "Epoch [2/100], Loss: 0.5828\n",
      "Epoch [2/100], Train Loss: 0.5828, Val Loss: 0.5807\n",
      "Epoch [3/100], Loss: 0.5747\n",
      "Epoch [3/100], Train Loss: 0.5747, Val Loss: 0.5772\n",
      "Epoch [4/100], Loss: 0.5709\n",
      "Epoch [4/100], Train Loss: 0.5709, Val Loss: 0.5716\n",
      "Epoch [5/100], Loss: 0.5698\n",
      "Epoch [5/100], Train Loss: 0.5698, Val Loss: 0.5726\n",
      "Epoch [6/100], Loss: 0.5635\n",
      "Epoch [6/100], Train Loss: 0.5635, Val Loss: 0.5731\n",
      "Epoch [7/100], Loss: 0.5650\n",
      "Epoch [7/100], Train Loss: 0.5650, Val Loss: 0.5640\n",
      "Epoch [8/100], Loss: 0.5661\n",
      "Epoch [8/100], Train Loss: 0.5661, Val Loss: 0.5680\n",
      "Epoch [9/100], Loss: 0.5630\n",
      "Epoch [9/100], Train Loss: 0.5630, Val Loss: 0.5657\n",
      "Epoch [10/100], Loss: 0.5609\n",
      "Epoch [10/100], Train Loss: 0.5609, Val Loss: 0.5616\n",
      "Epoch [11/100], Loss: 0.5590\n",
      "Epoch [11/100], Train Loss: 0.5590, Val Loss: 0.5643\n",
      "Epoch [12/100], Loss: 0.5579\n",
      "Epoch [12/100], Train Loss: 0.5579, Val Loss: 0.5651\n",
      "Epoch [13/100], Loss: 0.5580\n",
      "Epoch [13/100], Train Loss: 0.5580, Val Loss: 0.5603\n",
      "Epoch [14/100], Loss: 0.5573\n",
      "Epoch [14/100], Train Loss: 0.5573, Val Loss: 0.5649\n",
      "Epoch [15/100], Loss: 0.5604\n",
      "Epoch [15/100], Train Loss: 0.5604, Val Loss: 0.5598\n",
      "Epoch [16/100], Loss: 0.5547\n",
      "Epoch [16/100], Train Loss: 0.5547, Val Loss: 0.5637\n",
      "Epoch [17/100], Loss: 0.5596\n",
      "Epoch [17/100], Train Loss: 0.5596, Val Loss: 0.5564\n",
      "Epoch [18/100], Loss: 0.5578\n",
      "Epoch [18/100], Train Loss: 0.5578, Val Loss: 0.5628\n",
      "Epoch [19/100], Loss: 0.5575\n",
      "Epoch [19/100], Train Loss: 0.5575, Val Loss: 0.5593\n",
      "Epoch [20/100], Loss: 0.5538\n",
      "Epoch [20/100], Train Loss: 0.5538, Val Loss: 0.5604\n",
      "Epoch [21/100], Loss: 0.5568\n",
      "Epoch [21/100], Train Loss: 0.5568, Val Loss: 0.5563\n",
      "Epoch [22/100], Loss: 0.5540\n",
      "Epoch [22/100], Train Loss: 0.5540, Val Loss: 0.5581\n",
      "Epoch [23/100], Loss: 0.5555\n",
      "Epoch [23/100], Train Loss: 0.5555, Val Loss: 0.5588\n",
      "Epoch [24/100], Loss: 0.5562\n",
      "Epoch [24/100], Train Loss: 0.5562, Val Loss: 0.5647\n",
      "Epoch [25/100], Loss: 0.5515\n",
      "Epoch [25/100], Train Loss: 0.5515, Val Loss: 0.5652\n",
      "Epoch [26/100], Loss: 0.5500\n",
      "Epoch [26/100], Train Loss: 0.5500, Val Loss: 0.5641\n",
      "Epoch [27/100], Loss: 0.5542\n",
      "Epoch [27/100], Train Loss: 0.5542, Val Loss: 0.5618\n",
      "Epoch [28/100], Loss: 0.5531\n",
      "Epoch [28/100], Train Loss: 0.5531, Val Loss: 0.5617\n",
      "Epoch [29/100], Loss: 0.5534\n",
      "Epoch [29/100], Train Loss: 0.5534, Val Loss: 0.5619\n",
      "Epoch [30/100], Loss: 0.5526\n",
      "Epoch [30/100], Train Loss: 0.5526, Val Loss: 0.5627\n",
      "Epoch [31/100], Loss: 0.5470\n",
      "Epoch [31/100], Train Loss: 0.5470, Val Loss: 0.5632\n",
      "Epoch [32/100], Loss: 0.5514\n",
      "Epoch [32/100], Train Loss: 0.5514, Val Loss: 0.5625\n",
      "Epoch [33/100], Loss: 0.5504\n",
      "Epoch [33/100], Train Loss: 0.5504, Val Loss: 0.5600\n",
      "Epoch [34/100], Loss: 0.5469\n",
      "Epoch [34/100], Train Loss: 0.5469, Val Loss: 0.5566\n",
      "Epoch [35/100], Loss: 0.5479\n",
      "Epoch [35/100], Train Loss: 0.5479, Val Loss: 0.5629\n",
      "Epoch [36/100], Loss: 0.5461\n",
      "Epoch [36/100], Train Loss: 0.5461, Val Loss: 0.5652\n",
      "Epoch [37/100], Loss: 0.5447\n",
      "Epoch [37/100], Train Loss: 0.5447, Val Loss: 0.5565\n",
      "Epoch [38/100], Loss: 0.5469\n",
      "Epoch [38/100], Train Loss: 0.5469, Val Loss: 0.5577\n",
      "Epoch [39/100], Loss: 0.5439\n",
      "Epoch [39/100], Train Loss: 0.5439, Val Loss: 0.5619\n",
      "Epoch [40/100], Loss: 0.5428\n",
      "Epoch [40/100], Train Loss: 0.5428, Val Loss: 0.5591\n",
      "Epoch [41/100], Loss: 0.5406\n",
      "Epoch [41/100], Train Loss: 0.5406, Val Loss: 0.5634\n",
      "Epoch [42/100], Loss: 0.5395\n",
      "Epoch [42/100], Train Loss: 0.5395, Val Loss: 0.5748\n",
      "Epoch [43/100], Loss: 0.5419\n",
      "Epoch [43/100], Train Loss: 0.5419, Val Loss: 0.5739\n",
      "Epoch [44/100], Loss: 0.5426\n",
      "Epoch [44/100], Train Loss: 0.5426, Val Loss: 0.5656\n",
      "Epoch [45/100], Loss: 0.5351\n",
      "Epoch [45/100], Train Loss: 0.5351, Val Loss: 0.5642\n",
      "Epoch [46/100], Loss: 0.5369\n",
      "Epoch [46/100], Train Loss: 0.5369, Val Loss: 0.5646\n",
      "Epoch [47/100], Loss: 0.5346\n",
      "Epoch [47/100], Train Loss: 0.5346, Val Loss: 0.5608\n",
      "Epoch [48/100], Loss: 0.5333\n",
      "Epoch [48/100], Train Loss: 0.5333, Val Loss: 0.5758\n",
      "Epoch [49/100], Loss: 0.5328\n",
      "Epoch [49/100], Train Loss: 0.5328, Val Loss: 0.5644\n",
      "Epoch [50/100], Loss: 0.5268\n",
      "Epoch [50/100], Train Loss: 0.5268, Val Loss: 0.5726\n",
      "Epoch [51/100], Loss: 0.5303\n",
      "Epoch [51/100], Train Loss: 0.5303, Val Loss: 0.5675\n",
      "Epoch [52/100], Loss: 0.5301\n",
      "Epoch [52/100], Train Loss: 0.5301, Val Loss: 0.5667\n",
      "Epoch [53/100], Loss: 0.5299\n",
      "Epoch [53/100], Train Loss: 0.5299, Val Loss: 0.5760\n",
      "Epoch [54/100], Loss: 0.5272\n",
      "Epoch [54/100], Train Loss: 0.5272, Val Loss: 0.5724\n",
      "Epoch [55/100], Loss: 0.5286\n",
      "Epoch [55/100], Train Loss: 0.5286, Val Loss: 0.5702\n",
      "Epoch [56/100], Loss: 0.5223\n",
      "Epoch [56/100], Train Loss: 0.5223, Val Loss: 0.5783\n",
      "Epoch [57/100], Loss: 0.5242\n",
      "Epoch [57/100], Train Loss: 0.5242, Val Loss: 0.5753\n",
      "Epoch [58/100], Loss: 0.5218\n",
      "Epoch [58/100], Train Loss: 0.5218, Val Loss: 0.5843\n",
      "Epoch [59/100], Loss: 0.5213\n",
      "Epoch [59/100], Train Loss: 0.5213, Val Loss: 0.5761\n",
      "Epoch [60/100], Loss: 0.5160\n",
      "Epoch [60/100], Train Loss: 0.5160, Val Loss: 0.5779\n",
      "Epoch [61/100], Loss: 0.5190\n",
      "Epoch [61/100], Train Loss: 0.5190, Val Loss: 0.5836\n",
      "Epoch [62/100], Loss: 0.5207\n",
      "Epoch [62/100], Train Loss: 0.5207, Val Loss: 0.5823\n",
      "Epoch [63/100], Loss: 0.5107\n",
      "Epoch [63/100], Train Loss: 0.5107, Val Loss: 0.5835\n",
      "Epoch [64/100], Loss: 0.5117\n",
      "Epoch [64/100], Train Loss: 0.5117, Val Loss: 0.5972\n",
      "Epoch [65/100], Loss: 0.5126\n",
      "Epoch [65/100], Train Loss: 0.5126, Val Loss: 0.5794\n",
      "Epoch [66/100], Loss: 0.5100\n",
      "Epoch [66/100], Train Loss: 0.5100, Val Loss: 0.5821\n",
      "Epoch [67/100], Loss: 0.5073\n",
      "Epoch [67/100], Train Loss: 0.5073, Val Loss: 0.5884\n",
      "Epoch [68/100], Loss: 0.5082\n",
      "Epoch [68/100], Train Loss: 0.5082, Val Loss: 0.5924\n",
      "Epoch [69/100], Loss: 0.5030\n",
      "Epoch [69/100], Train Loss: 0.5030, Val Loss: 0.5983\n",
      "Epoch [70/100], Loss: 0.5019\n",
      "Epoch [70/100], Train Loss: 0.5019, Val Loss: 0.5961\n",
      "Epoch [71/100], Loss: 0.5039\n",
      "Epoch [71/100], Train Loss: 0.5039, Val Loss: 0.6012\n",
      "Epoch [72/100], Loss: 0.4984\n",
      "Epoch [72/100], Train Loss: 0.4984, Val Loss: 0.5903\n",
      "Epoch [73/100], Loss: 0.5021\n",
      "Epoch [73/100], Train Loss: 0.5021, Val Loss: 0.6030\n",
      "Epoch [74/100], Loss: 0.5007\n",
      "Epoch [74/100], Train Loss: 0.5007, Val Loss: 0.5994\n",
      "Epoch [75/100], Loss: 0.4921\n",
      "Epoch [75/100], Train Loss: 0.4921, Val Loss: 0.6091\n",
      "Epoch [76/100], Loss: 0.4893\n",
      "Epoch [76/100], Train Loss: 0.4893, Val Loss: 0.6059\n",
      "Epoch [77/100], Loss: 0.4923\n",
      "Epoch [77/100], Train Loss: 0.4923, Val Loss: 0.6123\n",
      "Epoch [78/100], Loss: 0.4914\n",
      "Epoch [78/100], Train Loss: 0.4914, Val Loss: 0.6075\n",
      "Epoch [79/100], Loss: 0.4867\n",
      "Epoch [79/100], Train Loss: 0.4867, Val Loss: 0.6121\n",
      "Epoch [80/100], Loss: 0.4875\n",
      "Epoch [80/100], Train Loss: 0.4875, Val Loss: 0.6148\n",
      "Epoch [81/100], Loss: 0.4855\n",
      "Epoch [81/100], Train Loss: 0.4855, Val Loss: 0.6019\n",
      "Epoch [82/100], Loss: 0.4877\n",
      "Epoch [82/100], Train Loss: 0.4877, Val Loss: 0.6254\n",
      "Epoch [83/100], Loss: 0.4803\n",
      "Epoch [83/100], Train Loss: 0.4803, Val Loss: 0.6198\n",
      "Epoch [84/100], Loss: 0.4799\n",
      "Epoch [84/100], Train Loss: 0.4799, Val Loss: 0.6252\n",
      "Epoch [85/100], Loss: 0.4788\n",
      "Epoch [85/100], Train Loss: 0.4788, Val Loss: 0.6225\n",
      "Epoch [86/100], Loss: 0.4807\n",
      "Epoch [86/100], Train Loss: 0.4807, Val Loss: 0.6110\n",
      "Epoch [87/100], Loss: 0.4724\n",
      "Epoch [87/100], Train Loss: 0.4724, Val Loss: 0.6305\n",
      "Epoch [88/100], Loss: 0.4735\n",
      "Epoch [88/100], Train Loss: 0.4735, Val Loss: 0.6363\n",
      "Epoch [89/100], Loss: 0.4727\n",
      "Epoch [89/100], Train Loss: 0.4727, Val Loss: 0.6314\n",
      "Epoch [90/100], Loss: 0.4716\n",
      "Epoch [90/100], Train Loss: 0.4716, Val Loss: 0.6544\n",
      "Epoch [91/100], Loss: 0.4710\n",
      "Epoch [91/100], Train Loss: 0.4710, Val Loss: 0.6335\n",
      "Epoch [92/100], Loss: 0.4627\n",
      "Epoch [92/100], Train Loss: 0.4627, Val Loss: 0.6489\n",
      "Epoch [93/100], Loss: 0.4674\n",
      "Epoch [93/100], Train Loss: 0.4674, Val Loss: 0.6284\n",
      "Epoch [94/100], Loss: 0.4682\n",
      "Epoch [94/100], Train Loss: 0.4682, Val Loss: 0.6329\n",
      "Epoch [95/100], Loss: 0.4583\n",
      "Epoch [95/100], Train Loss: 0.4583, Val Loss: 0.6532\n",
      "Epoch [96/100], Loss: 0.4593\n",
      "Epoch [96/100], Train Loss: 0.4593, Val Loss: 0.6482\n",
      "Epoch [97/100], Loss: 0.4538\n",
      "Epoch [97/100], Train Loss: 0.4538, Val Loss: 0.6371\n",
      "Epoch [98/100], Loss: 0.4604\n",
      "Epoch [98/100], Train Loss: 0.4604, Val Loss: 0.6711\n",
      "Epoch [99/100], Loss: 0.4568\n",
      "Epoch [99/100], Train Loss: 0.4568, Val Loss: 0.6693\n",
      "Epoch [100/100], Loss: 0.4460\n",
      "Epoch [100/100], Train Loss: 0.4460, Val Loss: 0.6629\n"
     ]
    },
    {
     "data": {
      "image/png": "[encoded data removed]",
      "text/plain": [
       "<Figure size 1000x600 with 1 Axes>"
      ]
     },
     "metadata": {},
     "output_type": "display_data"
    }
   ],
   "source": [
    "best_params=study.best_params\n",
    "model = DNN_12(input_dim=X_train_tensor.shape[1],\n",
    "              dropout1=best_params[\"dropout1\"],\n",
    "              dropout2=best_params[\"dropout2\"],).to(device)\n",
    "# 最適化と訓練を実行\n",
    "optimizer = optim.Adam(model.parameters(), lr=best_params[\"learning_rate\"],weight_decay=best_params[\"weight_decay\"])\n",
    "criterion = nn.BCELoss()\n",
    "\n",
    "num_epochs=100\n",
    "train_losses = []\n",
    "val_losses = []\n",
    "\n",
    "model.train()\n",
    "for epoch in range(num_epochs):\n",
    "    epoch_train_loss = 0\n",
    "    epoch_val_loss = 0\n",
    "\n",
    "    for X_batch, y_batch in train_loader:\n",
    "        X_batch, y_batch = X_batch.to(device), y_batch.to(device)\n",
    "        optimizer.zero_grad()\n",
    "        outputs = model(X_batch).squeeze()\n",
    "        loss = criterion(outputs, y_batch.squeeze())\n",
    "        loss.backward()\n",
    "        optimizer.step()\n",
    "        epoch_train_loss += loss.item()\n",
    "    avg_train_loss = epoch_train_loss / len(train_loader)\n",
    "    train_losses.append(avg_train_loss)\n",
    "    print(f'Epoch [{epoch+1}/{num_epochs}], Loss: {avg_train_loss:.4f}')\n",
    "\n",
    "    if val_loader is not None:\n",
    "        model.eval()  \n",
    "        with torch.no_grad():\n",
    "            for X_val, y_val in val_loader:\n",
    "                X_val, y_val = X_val.to(device), y_val.to(device)\n",
    "                val_outputs = model(X_val).squeeze()\n",
    "                val_loss = criterion(val_outputs, y_val.squeeze())\n",
    "                epoch_val_loss += val_loss.item()\n",
    "\n",
    "        avg_val_loss = epoch_val_loss / len(val_loader)\n",
    "        val_losses.append(avg_val_loss)\n",
    "        model.train()  \n",
    "\n",
    "    if val_loader is not None:\n",
    "        print(f\"Epoch [{epoch+1}/{num_epochs}], Train Loss: {avg_train_loss:.4f}, Val Loss: {avg_val_loss:.4f}\")\n",
    "    else:\n",
    "        print(f\"Epoch [{epoch+1}/{num_epochs}], Train Loss: {avg_train_loss:.4f}\")\n",
    "\n",
    "plt.figure(figsize=(10, 6))\n",
    "plt.plot(range(1, num_epochs + 1), train_losses, label='Train Loss')\n",
    "if val_losses:\n",
    "    plt.plot(range(1, num_epochs + 1), val_losses, label='Validation Loss')\n",
    "plt.xlabel('Epoch')\n",
    "plt.ylabel('Loss')\n",
    "plt.title('Learning Curve for DNN1')\n",
    "plt.legend()\n",
    "plt.grid()\n",
    "plt.show()"
   ]
  },
  {
   "cell_type": "code",
   "execution_count": 20,
   "metadata": {},
   "outputs": [
    {
     "name": "stdout",
     "output_type": "stream",
     "text": [
      "Accuracy: 59.79%\n",
      "Precision: 0.4767\n",
      "Recall: 0.4218\n",
      "F1 Score: 0.4476\n",
      "Matthews Correlation Coefficient: 0.1340\n",
      "Specificity: 0.7087\n"
     ]
    },
    {
     "data": {
      "image/png": "[encoded data removed]",
      "text/plain": [
       "<Figure size 640x480 with 1 Axes>"
      ]
     },
     "metadata": {},
     "output_type": "display_data"
    },
    {
     "data": {
      "image/png": "[encoded data removed]",
      "text/plain": [
       "<Figure size 640x480 with 1 Axes>"
      ]
     },
     "metadata": {},
     "output_type": "display_data"
    },
    {
     "data": {
      "image/png": "[encoded data removed]",
      "text/plain": [
       "<Figure size 640x480 with 1 Axes>"
      ]
     },
     "metadata": {},
     "output_type": "display_data"
    }
   ],
   "source": [
    "model.eval()\n",
    "with torch.no_grad():\n",
    "    X_test_tensor = X_test_tensor.to(device)\n",
    "    y_test_tensor = y_test_tensor.to(device)\n",
    "\n",
    "    # 予測と確率\n",
    "    test_outputs = model(X_test_tensor).squeeze()\n",
    "    predictions = (test_outputs >0.49).float()\n",
    "    y_true = y_test_tensor.cpu().numpy()\n",
    "    y_pred = predictions.cpu().numpy()\n",
    "    y_prob = test_outputs.cpu().numpy()\n",
    "\n",
    "# 評価指標\n",
    "    accuracy = accuracy_score(y_true, y_pred)\n",
    "    precision = precision_score(y_true, y_pred)\n",
    "    recall = recall_score(y_true, y_pred)\n",
    "    f1 = f1_score(y_true, y_pred)\n",
    "    mcc = matthews_corrcoef(y_true, y_pred)\n",
    "    specificity = recall_score(y_true, y_pred, pos_label=0)  \n",
    "    print(f'Accuracy: {accuracy * 100:.2f}%')\n",
    "    print(f'Precision: {precision:.4f}')\n",
    "    print(f'Recall: {recall:.4f}')\n",
    "    print(f'F1 Score: {f1:.4f}')\n",
    "    print(f'Matthews Correlation Coefficient: {mcc:.4f}')\n",
    "    print(f'Specificity: {specificity:.4f}')\n",
    "\n",
    "    # 混同行列（割合表示）\n",
    "    cm = confusion_matrix(y_true, y_pred, normalize='true')\n",
    "    sns.heatmap(cm, annot=True, fmt=\".2%\", cmap=\"Blues\", cbar=False)\n",
    "    plt.xlabel(\"Predicted\")\n",
    "    plt.ylabel(\"Actual\")\n",
    "    plt.title(f\"Confusion Matrix (Normalized)\")\n",
    "    plt.show()\n",
    "\n",
    "    # ROC曲線とAUC\n",
    "    fpr, tpr, thresholds = roc_curve(y_true, y_prob)\n",
    "    roc_auc = auc(fpr, tpr)\n",
    "    plt.plot(fpr, tpr, label=f'ROC curve (AUC = {roc_auc:.2f})')\n",
    "    plt.plot([0, 1], [0, 1], 'k--') \n",
    "    plt.xlabel('False Positive Rate')\n",
    "    plt.ylabel('True Positive Rate')\n",
    "    plt.title(f'ROC Curve - Model ')\n",
    "    plt.legend(loc=\"lower right\")\n",
    "    plt.show()\n",
    "\n",
    "    # Precision-Recall曲線\n",
    "    precision_curve, recall_curve, pr_thresholds = precision_recall_curve(y_true, y_prob)\n",
    "    pr_auc = auc(recall_curve, precision_curve)\n",
    "    plt.plot(recall_curve, precision_curve, label=f'PR curve (AUC = {pr_auc:.2f})')\n",
    "    plt.xlabel('Recall')\n",
    "    plt.ylabel('Precision')\n",
    "    plt.title(f'Precision-Recall Curve ')\n",
    "    plt.legend(loc=\"lower left\")\n",
    "    plt.show()    "
   ]
  },
  {
   "cell_type": "code",
   "execution_count": 21,
   "metadata": {},
   "outputs": [],
   "source": [
    "# モデルと構造を保存\n",
    "torch.save(model.state_dict(), '../../saved_model/DNN_12.pth')\n",
    "\n"
   ]
  }
 ],
 "metadata": {
  "kernelspec": {
   "display_name": "torch",
   "language": "python",
   "name": "python3"
  },
  "language_info": {
   "codemirror_mode": {
    "name": "ipython",
    "version": 3
   },
   "file_extension": ".py",
   "mimetype": "text/x-python",
   "name": "python",
   "nbconvert_exporter": "python",
   "pygments_lexer": "ipython3",
   "version": "3.12.7"
  }
 },
 "nbformat": 4,
 "nbformat_minor": 2
}
