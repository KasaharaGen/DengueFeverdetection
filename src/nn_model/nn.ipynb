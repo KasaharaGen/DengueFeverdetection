{
 "cells": [
  {
   "cell_type": "code",
   "id": "initial_id",
   "metadata": {
    "collapsed": true,
    "ExecuteTime": {
     "end_time": "2024-10-17T08:07:30.032798Z",
     "start_time": "2024-10-17T08:07:30.028514Z"
    }
   },
   "source": [
    "import torch\n",
    "import torch.nn as nn\n",
    "import torch.optim as optim\n",
    "import pandas as pd\n",
    "from sklearn.model_selection import train_test_split\n"
   ],
   "outputs": [],
   "execution_count": 4
  },
  {
   "metadata": {
    "ExecuteTime": {
     "end_time": "2024-10-17T08:07:30.908788Z",
     "start_time": "2024-10-17T08:07:30.892739Z"
    }
   },
   "cell_type": "code",
   "source": [
    "# データの読み込み\n",
    "data = pd.read_csv('../../data/preprocessed_data.csv')\n",
    "\n",
    "# 特徴量とターゲット変数の分割\n",
    "X = data.drop('dengue', axis=1)  \n",
    "y = data['dengue']"
   ],
   "id": "ff22be936da9b0d7",
   "outputs": [],
   "execution_count": 5
  },
  {
   "metadata": {
    "ExecuteTime": {
     "end_time": "2024-10-17T08:07:32.119365Z",
     "start_time": "2024-10-17T08:07:32.094093Z"
    }
   },
   "cell_type": "code",
   "source": [
    "# データをテンソルに変換\n",
    "X_train, X_test, y_train, y_test = train_test_split(X, y, test_size=0.2, random_state=42)\n",
    "X_train = torch.tensor(X_train, dtype=torch.float32)\n",
    "X_test = torch.tensor(X_test, dtype=torch.float32)\n",
    "y_train = torch.tensor(y_train, dtype=torch.float32).view(-1, 1)\n",
    "y_test = torch.tensor(y_test, dtype=torch.float32).view(-1, 1)\n"
   ],
   "id": "9b32bbbf00274f4c",
   "outputs": [
    {
     "ename": "ValueError",
     "evalue": "could not determine the shape of object type 'DataFrame'",
     "output_type": "error",
     "traceback": [
      "\u001B[0;31m---------------------------------------------------------------------------\u001B[0m",
      "\u001B[0;31mValueError\u001B[0m                                Traceback (most recent call last)",
      "Cell \u001B[0;32mIn[6], line 3\u001B[0m\n\u001B[1;32m      1\u001B[0m \u001B[38;5;66;03m# データをテンソルに変換\u001B[39;00m\n\u001B[1;32m      2\u001B[0m X_train, X_test, y_train, y_test \u001B[38;5;241m=\u001B[39m train_test_split(X, y, test_size\u001B[38;5;241m=\u001B[39m\u001B[38;5;241m0.2\u001B[39m, random_state\u001B[38;5;241m=\u001B[39m\u001B[38;5;241m42\u001B[39m)\n\u001B[0;32m----> 3\u001B[0m X_train \u001B[38;5;241m=\u001B[39m torch\u001B[38;5;241m.\u001B[39mtensor(X_train, dtype\u001B[38;5;241m=\u001B[39mtorch\u001B[38;5;241m.\u001B[39mfloat32)\n\u001B[1;32m      4\u001B[0m X_test \u001B[38;5;241m=\u001B[39m torch\u001B[38;5;241m.\u001B[39mtensor(X_test, dtype\u001B[38;5;241m=\u001B[39mtorch\u001B[38;5;241m.\u001B[39mfloat32)\n\u001B[1;32m      5\u001B[0m y_train \u001B[38;5;241m=\u001B[39m torch\u001B[38;5;241m.\u001B[39mtensor(y_train, dtype\u001B[38;5;241m=\u001B[39mtorch\u001B[38;5;241m.\u001B[39mfloat32)\u001B[38;5;241m.\u001B[39mview(\u001B[38;5;241m-\u001B[39m\u001B[38;5;241m1\u001B[39m, \u001B[38;5;241m1\u001B[39m)\n",
      "\u001B[0;31mValueError\u001B[0m: could not determine the shape of object type 'DataFrame'"
     ]
    }
   ],
   "execution_count": 6
  },
  {
   "metadata": {},
   "cell_type": "code",
   "outputs": [],
   "execution_count": null,
   "source": [
    "# ニューラルネットワークの定義\n",
    "class BinaryClassificationNN(nn.Module):\n",
    "    def __init__(self, input_size):\n",
    "        super(BinaryClassificationNN, self).__init__()\n",
    "        self.fc1 = nn.Linear(input_size, 16)  # 1つ目の全結合層\n",
    "        self.fc2 = nn.Linear(16, 8)          # 2つ目の全結合層\n",
    "        self.fc3 = nn.Linear(8, 1)           # 出力層（1つのニューロン）\n",
    "        \n",
    "    def forward(self, x):\n",
    "        x = torch.relu(self.fc1(x))          # 1つ目の層でReLU活性化関数\n",
    "        x = torch.relu(self.fc2(x))          # 2つ目の層でReLU活性化関数\n",
    "        x = torch.sigmoid(self.fc3(x))       # 最後の層でシグモイド関数\n",
    "        return x\n"
   ],
   "id": "c5388a07a2c78506"
  },
  {
   "metadata": {},
   "cell_type": "code",
   "outputs": [],
   "execution_count": null,
   "source": [
    "# モデルの初期化\n",
    "input_size = X_train.shape[1]  # 特徴量の数\n",
    "model = BinaryClassificationNN(input_size)\n",
    "\n",
    "# 損失関数と最適化手法の設定\n",
    "criterion = nn.BCELoss()  # バイナリクロスエントロピー損失関数\n",
    "optimizer = optim.Adam(model.parameters(), lr=0.001)\n"
   ],
   "id": "47f5180a2c8b5c61"
  },
  {
   "metadata": {},
   "cell_type": "code",
   "outputs": [],
   "execution_count": null,
   "source": [
    "# トレーニング\n",
    "num_epochs = 100\n",
    "for epoch in range(num_epochs):\n",
    "    model.train()  # 訓練モード\n",
    "    optimizer.zero_grad()  # 勾配の初期化\n",
    "    outputs = model(X_train)  # 順伝播\n",
    "    loss = criterion(outputs, y_train)  # 損失計算\n",
    "    loss.backward()  # 逆伝播\n",
    "    optimizer.step()  # パラメータの更新\n",
    "    \n",
    "    if (epoch+1) % 10 == 0:\n",
    "        print(f'Epoch [{epoch+1}/{num_epochs}], Loss: {loss.item():.4f}')\n"
   ],
   "id": "51c3f6a17268bbc4"
  },
  {
   "metadata": {},
   "cell_type": "code",
   "outputs": [],
   "execution_count": null,
   "source": [
    "# テストデータでの評価\n",
    "model.eval()  # 評価モード\n",
    "with torch.no_grad():\n",
    "    predictions = model(X_test)\n",
    "    predictions = predictions.round()  # 出力を0または1に丸める\n",
    "    accuracy = (predictions == y_test).float().mean()\n",
    "    print(f'Accuracy: {accuracy:.4f}')\n"
   ],
   "id": "cbc7c4b7be72d31f"
  }
 ],
 "metadata": {
  "kernelspec": {
   "display_name": "Python 3",
   "language": "python",
   "name": "python3"
  },
  "language_info": {
   "codemirror_mode": {
    "name": "ipython",
    "version": 2
   },
   "file_extension": ".py",
   "mimetype": "text/x-python",
   "name": "python",
   "nbconvert_exporter": "python",
   "pygments_lexer": "ipython2",
   "version": "2.7.6"
  }
 },
 "nbformat": 4,
 "nbformat_minor": 5
}
