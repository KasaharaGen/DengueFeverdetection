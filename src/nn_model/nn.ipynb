{
 "cells": [
  {
   "cell_type": "code",
   "id": "initial_id",
   "metadata": {
    "collapsed": true,
    "ExecuteTime": {
     "end_time": "2024-10-21T08:50:47.207096Z",
     "start_time": "2024-10-21T08:50:47.202117Z"
    }
   },
   "source": [
    "import torch\n",
    "import torch.nn as nn\n",
    "import torch.optim as optim\n",
    "from torch.utils.data import DataLoader, TensorDataset\n",
    "import pandas as pd\n",
    "from sklearn.model_selection import train_test_split\n",
    "\n",
    "from ray import tune\n",
    "from ray.tune.schedulers import ASHAScheduler\n",
    "from ray.tune import CLIReporter\n"
   ],
   "outputs": [],
   "execution_count": 9
  },
  {
   "metadata": {
    "ExecuteTime": {
     "end_time": "2024-10-21T08:50:01.632946Z",
     "start_time": "2024-10-21T08:50:01.625757Z"
    }
   },
   "cell_type": "code",
   "source": [
    "def get_datas(csv_path):\n",
    "    data = pd.read_csv(csv_path)\n",
    "    \n",
    "    # 特徴量とターゲット変数の分割,DFのvalueのみ抽出\n",
    "    X = data.drop('dengue', axis=1).values  \n",
    "    y = data['dengue'].values\n",
    "    \n",
    "    X_train, X_test, y_train, y_test = train_test_split(X, y, test_size=0.3, random_state=42)\n",
    "    \n",
    "    #numpy配列をtensolに変換\n",
    "    X_train_tensor = torch.tensor(X_train, dtype=torch.float32)\n",
    "    y_train_tensor = torch.tensor(y_train, dtype=torch.float32).unsqueeze(1)\n",
    "    X_test_tensor = torch.tensor(X_test, dtype=torch.float32)\n",
    "    y_test_tensor = torch.tensor(y_test, dtype=torch.float32).unsqueeze(1)\n",
    "    \n",
    "    #TensorDatasetの作成\n",
    "    train_dataset = TensorDataset(X_train_tensor, y_train_tensor)\n",
    "    train_loader = DataLoader(train_dataset, batch_size=8, shuffle=True)\n",
    "    \n",
    "    return train_dataset,train_loader,X_test_tensor,y_test_tensor\n",
    "    "
   ],
   "id": "ff22be936da9b0d7",
   "outputs": [],
   "execution_count": 4
  },
  {
   "metadata": {
    "ExecuteTime": {
     "end_time": "2024-10-21T08:50:02.804661Z",
     "start_time": "2024-10-21T08:50:02.798469Z"
    }
   },
   "cell_type": "code",
   "source": [
    "class ClassificationNN(nn.Module):\n",
    "    def __init__(self, input_size):\n",
    "        super(ClassificationNN, self).__init__()\n",
    "        self.fc1 = nn.Linear(input_size,64)  \n",
    "        self.fc2 = nn.Linear(64, 32)\n",
    "        self.fc3 = nn.Linear(32, 1)           \n",
    "        \n",
    "    def forward(self, x):\n",
    "        x = torch.relu(self.fc1(x))         \n",
    "        x = torch.relu(self.fc2(x))\n",
    "        x = torch.sigmoid(self.fc3(x))      \n",
    "        return x\n"
   ],
   "id": "c5388a07a2c78506",
   "outputs": [],
   "execution_count": 5
  },
  {
   "metadata": {
    "ExecuteTime": {
     "end_time": "2024-10-21T08:50:03.645111Z",
     "start_time": "2024-10-21T08:50:03.639230Z"
    }
   },
   "cell_type": "code",
   "source": [
    "def train_classification_nn(config, train_loader, input_size):\n",
    "    model = ClassificationNN(input_size)\n",
    "    criterion = nn.BCELoss()  # バイナリクロスエントロピー\n",
    "    optimizer = optim.Adam(model.parameters(), lr=config[\"lr\"])\n",
    "\n",
    "    for epoch in range(config[\"epochs\"]):\n",
    "        model.train()\n",
    "        running_loss = 0.0\n",
    "        for X_batch, y_bach in train_loader:\n",
    "            optimizer.zero_grad()\n",
    "            outputs = model(X_batch)\n",
    "            loss = criterion(outputs, y_bach.unsqueeze(1).float())\n",
    "            loss.backward()\n",
    "            optimizer.step()\n",
    "            running_loss += loss.item()\n",
    "        tune.report(loss=running_loss / len(train_loader))\n",
    "    \n",
    "    return model"
   ],
   "id": "a4628378dfda5182",
   "outputs": [],
   "execution_count": 6
  },
  {
   "metadata": {
    "ExecuteTime": {
     "end_time": "2024-10-21T08:50:04.390398Z",
     "start_time": "2024-10-21T08:50:04.384252Z"
    }
   },
   "cell_type": "code",
   "source": [
    "def tune_nn(input_size,train_loader):\n",
    "    train_loader=train_loader\n",
    "    \n",
    "    config = {\"lr\": tune.loguniform(1e-4, 1e-1),\"epochs\": tune.choice([10, 20, 30])}\n",
    "\n",
    "    scheduler = ASHAScheduler(metric=\"loss\",\n",
    "                              mode=\"min\",max_t=30,\n",
    "                              grace_period=1,\n",
    "                              reduction_factor=2)\n",
    "\n",
    "    reporter = CLIReporter(metric_columns=[\"loss\", \"training_iteration\"])\n",
    "    \n",
    "    result = tune.run(tune.with_parameters(train_classification_nn, data_loader=train_loader, input_size=input_size),\n",
    "                      resources_per_trial={\"cpu\": 1, \"gpu\": 0},\n",
    "                      config=config,\n",
    "                      num_samples=10,\n",
    "                      scheduler=scheduler,\n",
    "                      progress_reporter=reporter)\n",
    "\n",
    "    best_trial = result.get_best_trial(\"loss\", \"min\", \"last\")\n",
    "    print(\"Best trial config: {}\".format(best_trial.config))\n",
    "    print(\"Best trial final loss: {}\".format(best_trial.last_result[\"loss\"]))\n",
    "    \n",
    "    return best_trial.config"
   ],
   "id": "6fe4783506fa0472",
   "outputs": [],
   "execution_count": 7
  },
  {
   "metadata": {
    "ExecuteTime": {
     "end_time": "2024-10-21T08:50:05.393990Z",
     "start_time": "2024-10-21T08:50:05.389105Z"
    }
   },
   "cell_type": "code",
   "source": [
    "# テストデータでの評価\n",
    "def test_classification_nn(X_test_tensor,y_test_tensor,model):\n",
    "    model.eval()  # 評価モード\n",
    "    with torch.no_grad():\n",
    "        predictions = model(X_test_tensor)\n",
    "        predictions = predictions.round()  # 出力を0または1に丸める\n",
    "        accuracy = (predictions == y_test_tensor).float().mean()\n",
    "        print(f'Accuracy: {accuracy:.4f}')\n",
    "        \n",
    "    return"
   ],
   "id": "cbc7c4b7be72d31f",
   "outputs": [],
   "execution_count": 8
  }
 ],
 "metadata": {
  "kernelspec": {
   "display_name": "Python 3",
   "language": "python",
   "name": "python3"
  },
  "language_info": {
   "codemirror_mode": {
    "name": "ipython",
    "version": 2
   },
   "file_extension": ".py",
   "mimetype": "text/x-python",
   "name": "python",
   "nbconvert_exporter": "python",
   "pygments_lexer": "ipython2",
   "version": "2.7.6"
  }
 },
 "nbformat": 4,
 "nbformat_minor": 5
}
