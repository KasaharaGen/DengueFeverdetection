{
 "cells": [
  {
   "cell_type": "code",
   "execution_count": 7,
   "metadata": {},
   "outputs": [],
   "source": [
    "import numpy as np\n",
    "import pandas as pd\n",
    "import matplotlib.pyplot as plt\n",
    "import seaborn as sns\n",
    "\n",
    "import torch\n",
    "import torch.nn as nn\n",
    "import torch.optim as optim\n",
    "\n",
    "import optuna\n",
    "\n",
    "from sklearn.model_selection import train_test_split\n",
    "from sklearn.metrics import confusion_matrix,accuracy_score, precision_score, recall_score, f1_score, confusion_matrix, roc_curve, auc,matthews_corrcoef, precision_recall_curve,roc_auc_score\n",
    "\n"
   ]
  },
  {
   "cell_type": "markdown",
   "metadata": {},
   "source": [
    "データ読み取り"
   ]
  },
  {
   "cell_type": "code",
   "execution_count": 8,
   "metadata": {},
   "outputs": [],
   "source": [
    "df=pd.read_csv('../../data/learning_data.csv',index_col=0)\n",
    "\n",
    "X=df.drop(columns='dengue',axis=1).values\n",
    "y=df['dengue'].values\n",
    "\n",
    "X_train, X_test, y_train, y_test = train_test_split(X, y, test_size=0.2,random_state=42)\n",
    "X_train, X_val, y_train, y_val = train_test_split(X_train, y_train, test_size=0.1,random_state=42)\n",
    "\n",
    "#torchテンソルに変換\n",
    "X_train_tensor = torch.tensor(X_train, dtype=torch.float32)\n",
    "y_train_tensor = torch.tensor(y_train, dtype=torch.float32)\n",
    "X_test_tensor = torch.tensor(X_test, dtype=torch.float32)\n",
    "y_test_tensor = torch.tensor(y_test, dtype=torch.float32)\n",
    "X_val_tensor = torch.tensor(X_val, dtype=torch.float32)\n",
    "y_val_tensor = torch.tensor(y_val, dtype=torch.float32)\n"
   ]
  },
  {
   "cell_type": "code",
   "execution_count": 9,
   "metadata": {},
   "outputs": [],
   "source": [
    "class DNN_11(nn.Module):\n",
    "    def __init__(self, input_dim,dropout1,dropout2):\n",
    "        super(DNN_11, self).__init__()\n",
    "        self.layer1 = nn.Linear(input_dim,64)\n",
    "        self.layer2 = nn.Linear(64,32)\n",
    "        self.layer3 = nn.Linear(32, 16)\n",
    "        self.layer4 = nn.Linear(16, 8)\n",
    "        self.output_layer = nn.Linear(8, 1)\n",
    "\n",
    "        self.dropout1 = nn.Dropout(dropout1)\n",
    "        self.dropout2 = nn.Dropout(dropout2)\n",
    "        \n",
    "    def forward(self, x):\n",
    "        x = torch.relu(self.layer1(x))\n",
    "        x = self.dropout1(x)\n",
    "        \n",
    "        x = torch.relu(self.layer2(x))\n",
    "    \n",
    "\n",
    "        x = torch.relu(self.layer3(x))\n",
    "        x = self.dropout2(x)\n",
    "\n",
    "        x = torch.relu(self.layer4(x))\n",
    "        \n",
    "        x = torch.sigmoid(self.output_layer(x)) \n",
    "        return x\n",
    "    "
   ]
  },
  {
   "cell_type": "markdown",
   "metadata": {},
   "source": [
    "学習データセットの作成"
   ]
  },
  {
   "cell_type": "code",
   "execution_count": 10,
   "metadata": {},
   "outputs": [],
   "source": [
    "train_dataset = torch.utils.data.TensorDataset(X_train_tensor, y_train_tensor)\n",
    "train_loader = torch.utils.data.DataLoader(dataset=train_dataset, batch_size=4, shuffle=True)\n",
    "\n",
    "val_dataset = torch.utils.data.TensorDataset(X_val_tensor, y_val_tensor)\n",
    "val_loader = torch.utils.data.DataLoader(dataset=val_dataset, batch_size=4, shuffle=False)"
   ]
  },
  {
   "cell_type": "markdown",
   "metadata": {},
   "source": [
    "Optunaの設定"
   ]
  },
  {
   "cell_type": "code",
   "execution_count": 11,
   "metadata": {},
   "outputs": [],
   "source": [
    "def objective(trial):\n",
    "    dropout1 = trial.suggest_float(\"dropout1\", 0, 0.5, step=0.05)\n",
    "    dropout2 = trial.suggest_float(\"dropout2\", 0, 0.5, step=0.05)\n",
    "    learning_rate = trial.suggest_loguniform(\"learning_rate\", 1e-4, 1e-2)  # 範囲を調整\n",
    "    weight_decay = trial.suggest_loguniform(\"weight_decay\", 1e-5, 1e-2)   # 範囲を調整\n",
    "\n",
    "    # モデル定義\n",
    "    model = DNN_11(\n",
    "        input_dim=X_train_tensor.shape[1],\n",
    "        dropout1=dropout1,\n",
    "        dropout2=dropout2\n",
    "    ).to(device)\n",
    "\n",
    "    criterion = nn.BCELoss()\n",
    "    optimizer = torch.optim.Adam(model.parameters(), lr=learning_rate, weight_decay=weight_decay)\n",
    "\n",
    "    # Early Stoppingの設定\n",
    "    patience = 10\n",
    "    best_val_loss = float('inf')\n",
    "    patience_counter = 0\n",
    "\n",
    "    # 訓練ループ\n",
    "    num_epochs = 100\n",
    "    for epoch in range(num_epochs):\n",
    "        model.train()\n",
    "        for X_batch, y_batch in train_loader:\n",
    "            X_batch, y_batch = X_batch.to(device), y_batch.to(device)\n",
    "            optimizer.zero_grad()\n",
    "            outputs = model(X_batch).squeeze()\n",
    "            loss = criterion(outputs, y_batch.squeeze())\n",
    "            loss.backward()\n",
    "            optimizer.step()\n",
    "\n",
    "        # バリデーション評価\n",
    "        model.eval()\n",
    "        val_loss = 0\n",
    "        val_true, val_pred = [], []\n",
    "        with torch.no_grad():\n",
    "            for X_val, y_val in val_loader:\n",
    "                X_val, y_val = X_val.to(device), y_val.to(device)\n",
    "                val_outputs = model(X_val).squeeze()\n",
    "                val_loss += criterion(val_outputs, y_val.squeeze()).item()\n",
    "                predictions = (val_outputs >0.49).float()\n",
    "                val_true.extend(y_val.cpu().numpy())\n",
    "                val_pred.extend(predictions.cpu().numpy())\n",
    "\n",
    "        val_loss /= len(val_loader)\n",
    "\n",
    "        # Early Stoppingの判定\n",
    "        if val_loss < best_val_loss:\n",
    "            best_val_loss = val_loss\n",
    "            patience_counter = 0\n",
    "        else:\n",
    "            patience_counter += 1\n",
    "\n",
    "        if patience_counter >= patience:\n",
    "            print(f\"Early stopping at epoch {epoch}\")\n",
    "            break\n",
    "\n",
    "        # Optunaへのログ\n",
    "        trial.report(val_loss, epoch)\n",
    "        if trial.should_prune():\n",
    "            raise optuna.exceptions.TrialPruned()\n",
    "\n",
    "    # 評価指標の計算\n",
    "    mcc = matthews_corrcoef(val_true, val_pred)\n",
    "    print(f\"Final MCC: {mcc:.4f}\")\n",
    "\n",
    "    return mcc  # mccを返す\n"
   ]
  },
  {
   "cell_type": "code",
   "execution_count": 12,
   "metadata": {},
   "outputs": [
    {
     "name": "stderr",
     "output_type": "stream",
     "text": [
      "[I 2024-12-04 16:16:41,844] A new study created in memory with name: no-name-0350f33a-020b-4b31-96ec-4b5f73f3bc4f\n",
      "/tmp/ipykernel_282819/3985275715.py:4: FutureWarning: suggest_loguniform has been deprecated in v3.0.0. This feature will be removed in v6.0.0. See https://github.com/optuna/optuna/releases/tag/v3.0.0. Use suggest_float(..., log=True) instead.\n",
      "  learning_rate = trial.suggest_loguniform(\"learning_rate\", 1e-4, 1e-2)  # 範囲を調整\n",
      "/tmp/ipykernel_282819/3985275715.py:5: FutureWarning: suggest_loguniform has been deprecated in v3.0.0. This feature will be removed in v6.0.0. See https://github.com/optuna/optuna/releases/tag/v3.0.0. Use suggest_float(..., log=True) instead.\n",
      "  weight_decay = trial.suggest_loguniform(\"weight_decay\", 1e-5, 1e-2)   # 範囲を調整\n",
      "[I 2024-12-04 16:18:22,810] Trial 0 finished with value: 0.2836753544113046 and parameters: {'dropout1': 0.45, 'dropout2': 0.45, 'learning_rate': 0.0005197351839045986, 'weight_decay': 6.370401689405554e-05}. Best is trial 0 with value: 0.2836753544113046.\n"
     ]
    },
    {
     "name": "stdout",
     "output_type": "stream",
     "text": [
      "Early stopping at epoch 32\n",
      "Final MCC: 0.2837\n"
     ]
    },
    {
     "name": "stderr",
     "output_type": "stream",
     "text": [
      "/tmp/ipykernel_282819/3985275715.py:4: FutureWarning: suggest_loguniform has been deprecated in v3.0.0. This feature will be removed in v6.0.0. See https://github.com/optuna/optuna/releases/tag/v3.0.0. Use suggest_float(..., log=True) instead.\n",
      "  learning_rate = trial.suggest_loguniform(\"learning_rate\", 1e-4, 1e-2)  # 範囲を調整\n",
      "/tmp/ipykernel_282819/3985275715.py:5: FutureWarning: suggest_loguniform has been deprecated in v3.0.0. This feature will be removed in v6.0.0. See https://github.com/optuna/optuna/releases/tag/v3.0.0. Use suggest_float(..., log=True) instead.\n",
      "  weight_decay = trial.suggest_loguniform(\"weight_decay\", 1e-5, 1e-2)   # 範囲を調整\n",
      "[I 2024-12-04 16:20:16,484] Trial 1 finished with value: 0.16972115902951374 and parameters: {'dropout1': 0.25, 'dropout2': 0.30000000000000004, 'learning_rate': 0.00020676254728346232, 'weight_decay': 4.1600000655020575e-05}. Best is trial 0 with value: 0.2836753544113046.\n"
     ]
    },
    {
     "name": "stdout",
     "output_type": "stream",
     "text": [
      "Early stopping at epoch 33\n",
      "Final MCC: 0.1697\n"
     ]
    },
    {
     "name": "stderr",
     "output_type": "stream",
     "text": [
      "/tmp/ipykernel_282819/3985275715.py:4: FutureWarning: suggest_loguniform has been deprecated in v3.0.0. This feature will be removed in v6.0.0. See https://github.com/optuna/optuna/releases/tag/v3.0.0. Use suggest_float(..., log=True) instead.\n",
      "  learning_rate = trial.suggest_loguniform(\"learning_rate\", 1e-4, 1e-2)  # 範囲を調整\n",
      "/tmp/ipykernel_282819/3985275715.py:5: FutureWarning: suggest_loguniform has been deprecated in v3.0.0. This feature will be removed in v6.0.0. See https://github.com/optuna/optuna/releases/tag/v3.0.0. Use suggest_float(..., log=True) instead.\n",
      "  weight_decay = trial.suggest_loguniform(\"weight_decay\", 1e-5, 1e-2)   # 範囲を調整\n",
      "[I 2024-12-04 16:21:28,010] Trial 2 finished with value: 0.0 and parameters: {'dropout1': 0.05, 'dropout2': 0.4, 'learning_rate': 0.007640352399436785, 'weight_decay': 2.9399341530123685e-05}. Best is trial 0 with value: 0.2836753544113046.\n"
     ]
    },
    {
     "name": "stdout",
     "output_type": "stream",
     "text": [
      "Early stopping at epoch 20\n",
      "Final MCC: 0.0000\n"
     ]
    },
    {
     "name": "stderr",
     "output_type": "stream",
     "text": [
      "/tmp/ipykernel_282819/3985275715.py:4: FutureWarning: suggest_loguniform has been deprecated in v3.0.0. This feature will be removed in v6.0.0. See https://github.com/optuna/optuna/releases/tag/v3.0.0. Use suggest_float(..., log=True) instead.\n",
      "  learning_rate = trial.suggest_loguniform(\"learning_rate\", 1e-4, 1e-2)  # 範囲を調整\n",
      "/tmp/ipykernel_282819/3985275715.py:5: FutureWarning: suggest_loguniform has been deprecated in v3.0.0. This feature will be removed in v6.0.0. See https://github.com/optuna/optuna/releases/tag/v3.0.0. Use suggest_float(..., log=True) instead.\n",
      "  weight_decay = trial.suggest_loguniform(\"weight_decay\", 1e-5, 1e-2)   # 範囲を調整\n",
      "[I 2024-12-04 16:24:46,011] Trial 3 finished with value: 0.2509980079602227 and parameters: {'dropout1': 0.5, 'dropout2': 0.05, 'learning_rate': 0.00010738655753356603, 'weight_decay': 5.334453393059997e-05}. Best is trial 0 with value: 0.2836753544113046.\n"
     ]
    },
    {
     "name": "stdout",
     "output_type": "stream",
     "text": [
      "Early stopping at epoch 58\n",
      "Final MCC: 0.2510\n"
     ]
    },
    {
     "name": "stderr",
     "output_type": "stream",
     "text": [
      "/tmp/ipykernel_282819/3985275715.py:4: FutureWarning: suggest_loguniform has been deprecated in v3.0.0. This feature will be removed in v6.0.0. See https://github.com/optuna/optuna/releases/tag/v3.0.0. Use suggest_float(..., log=True) instead.\n",
      "  learning_rate = trial.suggest_loguniform(\"learning_rate\", 1e-4, 1e-2)  # 範囲を調整\n",
      "/tmp/ipykernel_282819/3985275715.py:5: FutureWarning: suggest_loguniform has been deprecated in v3.0.0. This feature will be removed in v6.0.0. See https://github.com/optuna/optuna/releases/tag/v3.0.0. Use suggest_float(..., log=True) instead.\n",
      "  weight_decay = trial.suggest_loguniform(\"weight_decay\", 1e-5, 1e-2)   # 範囲を調整\n",
      "[I 2024-12-04 16:26:39,082] Trial 4 finished with value: 0.20406354279751285 and parameters: {'dropout1': 0.15000000000000002, 'dropout2': 0.1, 'learning_rate': 0.0001956896993488602, 'weight_decay': 1.2510335051134339e-05}. Best is trial 0 with value: 0.2836753544113046.\n"
     ]
    },
    {
     "name": "stdout",
     "output_type": "stream",
     "text": [
      "Early stopping at epoch 32\n",
      "Final MCC: 0.2041\n"
     ]
    },
    {
     "name": "stderr",
     "output_type": "stream",
     "text": [
      "/tmp/ipykernel_282819/3985275715.py:4: FutureWarning: suggest_loguniform has been deprecated in v3.0.0. This feature will be removed in v6.0.0. See https://github.com/optuna/optuna/releases/tag/v3.0.0. Use suggest_float(..., log=True) instead.\n",
      "  learning_rate = trial.suggest_loguniform(\"learning_rate\", 1e-4, 1e-2)  # 範囲を調整\n",
      "/tmp/ipykernel_282819/3985275715.py:5: FutureWarning: suggest_loguniform has been deprecated in v3.0.0. This feature will be removed in v6.0.0. See https://github.com/optuna/optuna/releases/tag/v3.0.0. Use suggest_float(..., log=True) instead.\n",
      "  weight_decay = trial.suggest_loguniform(\"weight_decay\", 1e-5, 1e-2)   # 範囲を調整\n",
      "[I 2024-12-04 16:26:42,402] Trial 5 pruned. \n",
      "[I 2024-12-04 16:26:45,734] Trial 6 pruned. \n",
      "[I 2024-12-04 16:28:27,163] Trial 7 finished with value: 0.29423919957760236 and parameters: {'dropout1': 0.35000000000000003, 'dropout2': 0.25, 'learning_rate': 0.00030505229147318683, 'weight_decay': 7.97971038070116e-05}. Best is trial 7 with value: 0.29423919957760236.\n"
     ]
    },
    {
     "name": "stdout",
     "output_type": "stream",
     "text": [
      "Early stopping at epoch 29\n",
      "Final MCC: 0.2942\n"
     ]
    },
    {
     "name": "stderr",
     "output_type": "stream",
     "text": [
      "/tmp/ipykernel_282819/3985275715.py:4: FutureWarning: suggest_loguniform has been deprecated in v3.0.0. This feature will be removed in v6.0.0. See https://github.com/optuna/optuna/releases/tag/v3.0.0. Use suggest_float(..., log=True) instead.\n",
      "  learning_rate = trial.suggest_loguniform(\"learning_rate\", 1e-4, 1e-2)  # 範囲を調整\n",
      "/tmp/ipykernel_282819/3985275715.py:5: FutureWarning: suggest_loguniform has been deprecated in v3.0.0. This feature will be removed in v6.0.0. See https://github.com/optuna/optuna/releases/tag/v3.0.0. Use suggest_float(..., log=True) instead.\n",
      "  weight_decay = trial.suggest_loguniform(\"weight_decay\", 1e-5, 1e-2)   # 範囲を調整\n",
      "[I 2024-12-04 16:28:30,577] Trial 8 pruned. \n",
      "[I 2024-12-04 16:30:40,667] Trial 9 finished with value: 0.2269285812025616 and parameters: {'dropout1': 0.30000000000000004, 'dropout2': 0.4, 'learning_rate': 0.00014254226269769487, 'weight_decay': 3.004088160791244e-05}. Best is trial 7 with value: 0.29423919957760236.\n"
     ]
    },
    {
     "name": "stdout",
     "output_type": "stream",
     "text": [
      "Early stopping at epoch 36\n",
      "Final MCC: 0.2269\n"
     ]
    },
    {
     "name": "stderr",
     "output_type": "stream",
     "text": [
      "/tmp/ipykernel_282819/3985275715.py:4: FutureWarning: suggest_loguniform has been deprecated in v3.0.0. This feature will be removed in v6.0.0. See https://github.com/optuna/optuna/releases/tag/v3.0.0. Use suggest_float(..., log=True) instead.\n",
      "  learning_rate = trial.suggest_loguniform(\"learning_rate\", 1e-4, 1e-2)  # 範囲を調整\n",
      "/tmp/ipykernel_282819/3985275715.py:5: FutureWarning: suggest_loguniform has been deprecated in v3.0.0. This feature will be removed in v6.0.0. See https://github.com/optuna/optuna/releases/tag/v3.0.0. Use suggest_float(..., log=True) instead.\n",
      "  weight_decay = trial.suggest_loguniform(\"weight_decay\", 1e-5, 1e-2)   # 範囲を調整\n",
      "[I 2024-12-04 16:30:43,991] Trial 10 pruned. \n",
      "[I 2024-12-04 16:30:47,275] Trial 11 pruned. \n",
      "[I 2024-12-04 16:30:50,561] Trial 12 pruned. \n",
      "[I 2024-12-04 16:30:53,792] Trial 13 pruned. \n",
      "[I 2024-12-04 16:30:57,367] Trial 14 pruned. \n",
      "[I 2024-12-04 16:31:00,932] Trial 15 pruned. \n",
      "[I 2024-12-04 16:31:04,448] Trial 16 pruned. \n",
      "[I 2024-12-04 16:31:07,997] Trial 17 pruned. \n",
      "[I 2024-12-04 16:31:11,472] Trial 18 pruned. \n",
      "[I 2024-12-04 16:31:14,932] Trial 19 pruned. \n",
      "[I 2024-12-04 16:31:18,341] Trial 20 pruned. \n",
      "[I 2024-12-04 16:37:08,883] Trial 21 finished with value: 0.19088761429254134 and parameters: {'dropout1': 0.5, 'dropout2': 0.05, 'learning_rate': 0.0001288911499137545, 'weight_decay': 4.644188299005275e-05}. Best is trial 7 with value: 0.29423919957760236.\n"
     ]
    },
    {
     "name": "stdout",
     "output_type": "stream",
     "text": [
      "Early stopping at epoch 97\n",
      "Final MCC: 0.1909\n"
     ]
    },
    {
     "name": "stderr",
     "output_type": "stream",
     "text": [
      "/tmp/ipykernel_282819/3985275715.py:4: FutureWarning: suggest_loguniform has been deprecated in v3.0.0. This feature will be removed in v6.0.0. See https://github.com/optuna/optuna/releases/tag/v3.0.0. Use suggest_float(..., log=True) instead.\n",
      "  learning_rate = trial.suggest_loguniform(\"learning_rate\", 1e-4, 1e-2)  # 範囲を調整\n",
      "/tmp/ipykernel_282819/3985275715.py:5: FutureWarning: suggest_loguniform has been deprecated in v3.0.0. This feature will be removed in v6.0.0. See https://github.com/optuna/optuna/releases/tag/v3.0.0. Use suggest_float(..., log=True) instead.\n",
      "  weight_decay = trial.suggest_loguniform(\"weight_decay\", 1e-5, 1e-2)   # 範囲を調整\n",
      "[I 2024-12-04 16:40:56,119] Trial 22 finished with value: 0.32011378178572664 and parameters: {'dropout1': 0.5, 'dropout2': 0.0, 'learning_rate': 0.0001005942050644682, 'weight_decay': 2.1395042645226615e-05}. Best is trial 22 with value: 0.32011378178572664.\n"
     ]
    },
    {
     "name": "stdout",
     "output_type": "stream",
     "text": [
      "Early stopping at epoch 61\n",
      "Final MCC: 0.3201\n"
     ]
    },
    {
     "name": "stderr",
     "output_type": "stream",
     "text": [
      "/tmp/ipykernel_282819/3985275715.py:4: FutureWarning: suggest_loguniform has been deprecated in v3.0.0. This feature will be removed in v6.0.0. See https://github.com/optuna/optuna/releases/tag/v3.0.0. Use suggest_float(..., log=True) instead.\n",
      "  learning_rate = trial.suggest_loguniform(\"learning_rate\", 1e-4, 1e-2)  # 範囲を調整\n",
      "/tmp/ipykernel_282819/3985275715.py:5: FutureWarning: suggest_loguniform has been deprecated in v3.0.0. This feature will be removed in v6.0.0. See https://github.com/optuna/optuna/releases/tag/v3.0.0. Use suggest_float(..., log=True) instead.\n",
      "  weight_decay = trial.suggest_loguniform(\"weight_decay\", 1e-5, 1e-2)   # 範囲を調整\n",
      "[I 2024-12-04 16:40:59,822] Trial 23 pruned. \n",
      "[I 2024-12-04 16:41:03,536] Trial 24 pruned. \n",
      "[I 2024-12-04 16:41:07,243] Trial 25 pruned. \n",
      "[I 2024-12-04 16:41:10,877] Trial 26 pruned. \n",
      "[I 2024-12-04 16:41:14,506] Trial 27 pruned. \n",
      "[I 2024-12-04 16:43:51,351] Trial 28 finished with value: 0.2931986751476211 and parameters: {'dropout1': 0.30000000000000004, 'dropout2': 0.15000000000000002, 'learning_rate': 0.00010129168881439311, 'weight_decay': 3.4802442836074955e-05}. Best is trial 22 with value: 0.32011378178572664.\n"
     ]
    },
    {
     "name": "stdout",
     "output_type": "stream",
     "text": [
      "Early stopping at epoch 42\n",
      "Final MCC: 0.2932\n"
     ]
    },
    {
     "name": "stderr",
     "output_type": "stream",
     "text": [
      "/tmp/ipykernel_282819/3985275715.py:4: FutureWarning: suggest_loguniform has been deprecated in v3.0.0. This feature will be removed in v6.0.0. See https://github.com/optuna/optuna/releases/tag/v3.0.0. Use suggest_float(..., log=True) instead.\n",
      "  learning_rate = trial.suggest_loguniform(\"learning_rate\", 1e-4, 1e-2)  # 範囲を調整\n",
      "/tmp/ipykernel_282819/3985275715.py:5: FutureWarning: suggest_loguniform has been deprecated in v3.0.0. This feature will be removed in v6.0.0. See https://github.com/optuna/optuna/releases/tag/v3.0.0. Use suggest_float(..., log=True) instead.\n",
      "  weight_decay = trial.suggest_loguniform(\"weight_decay\", 1e-5, 1e-2)   # 範囲を調整\n",
      "[I 2024-12-04 16:48:13,365] Trial 29 finished with value: 0.20008756547232942 and parameters: {'dropout1': 0.25, 'dropout2': 0.1, 'learning_rate': 0.00010111989555254775, 'weight_decay': 3.528611639658363e-05}. Best is trial 22 with value: 0.32011378178572664.\n"
     ]
    },
    {
     "name": "stdout",
     "output_type": "stream",
     "text": [
      "Early stopping at epoch 71\n",
      "Final MCC: 0.2001\n"
     ]
    },
    {
     "name": "stderr",
     "output_type": "stream",
     "text": [
      "/tmp/ipykernel_282819/3985275715.py:4: FutureWarning: suggest_loguniform has been deprecated in v3.0.0. This feature will be removed in v6.0.0. See https://github.com/optuna/optuna/releases/tag/v3.0.0. Use suggest_float(..., log=True) instead.\n",
      "  learning_rate = trial.suggest_loguniform(\"learning_rate\", 1e-4, 1e-2)  # 範囲を調整\n",
      "/tmp/ipykernel_282819/3985275715.py:5: FutureWarning: suggest_loguniform has been deprecated in v3.0.0. This feature will be removed in v6.0.0. See https://github.com/optuna/optuna/releases/tag/v3.0.0. Use suggest_float(..., log=True) instead.\n",
      "  weight_decay = trial.suggest_loguniform(\"weight_decay\", 1e-5, 1e-2)   # 範囲を調整\n",
      "[I 2024-12-04 16:48:16,990] Trial 30 pruned. \n",
      "[I 2024-12-04 16:48:20,587] Trial 31 pruned. \n",
      "[I 2024-12-04 16:48:24,162] Trial 32 pruned. \n",
      "[I 2024-12-04 16:53:51,554] Trial 33 finished with value: 0.22245099695814544 and parameters: {'dropout1': 0.45, 'dropout2': 0.30000000000000004, 'learning_rate': 0.00011071422622615461, 'weight_decay': 3.7516431199105486e-05}. Best is trial 22 with value: 0.32011378178572664.\n"
     ]
    },
    {
     "name": "stdout",
     "output_type": "stream",
     "text": [
      "Early stopping at epoch 87\n",
      "Final MCC: 0.2225\n"
     ]
    },
    {
     "name": "stderr",
     "output_type": "stream",
     "text": [
      "/tmp/ipykernel_282819/3985275715.py:4: FutureWarning: suggest_loguniform has been deprecated in v3.0.0. This feature will be removed in v6.0.0. See https://github.com/optuna/optuna/releases/tag/v3.0.0. Use suggest_float(..., log=True) instead.\n",
      "  learning_rate = trial.suggest_loguniform(\"learning_rate\", 1e-4, 1e-2)  # 範囲を調整\n",
      "/tmp/ipykernel_282819/3985275715.py:5: FutureWarning: suggest_loguniform has been deprecated in v3.0.0. This feature will be removed in v6.0.0. See https://github.com/optuna/optuna/releases/tag/v3.0.0. Use suggest_float(..., log=True) instead.\n",
      "  weight_decay = trial.suggest_loguniform(\"weight_decay\", 1e-5, 1e-2)   # 範囲を調整\n",
      "[I 2024-12-04 16:53:55,386] Trial 34 pruned. \n",
      "[I 2024-12-04 16:53:59,278] Trial 35 pruned. \n",
      "[I 2024-12-04 16:54:03,142] Trial 36 pruned. \n",
      "[I 2024-12-04 16:56:46,729] Trial 37 finished with value: 0.3353661536031184 and parameters: {'dropout1': 0.5, 'dropout2': 0.1, 'learning_rate': 0.0001275979205551097, 'weight_decay': 0.00022304552639324245}. Best is trial 37 with value: 0.3353661536031184.\n"
     ]
    },
    {
     "name": "stdout",
     "output_type": "stream",
     "text": [
      "Early stopping at epoch 43\n",
      "Final MCC: 0.3354\n"
     ]
    },
    {
     "name": "stderr",
     "output_type": "stream",
     "text": [
      "/tmp/ipykernel_282819/3985275715.py:4: FutureWarning: suggest_loguniform has been deprecated in v3.0.0. This feature will be removed in v6.0.0. See https://github.com/optuna/optuna/releases/tag/v3.0.0. Use suggest_float(..., log=True) instead.\n",
      "  learning_rate = trial.suggest_loguniform(\"learning_rate\", 1e-4, 1e-2)  # 範囲を調整\n",
      "/tmp/ipykernel_282819/3985275715.py:5: FutureWarning: suggest_loguniform has been deprecated in v3.0.0. This feature will be removed in v6.0.0. See https://github.com/optuna/optuna/releases/tag/v3.0.0. Use suggest_float(..., log=True) instead.\n",
      "  weight_decay = trial.suggest_loguniform(\"weight_decay\", 1e-5, 1e-2)   # 範囲を調整\n",
      "[I 2024-12-04 16:59:46,274] Trial 38 finished with value: 0.27046567320214226 and parameters: {'dropout1': 0.5, 'dropout2': 0.1, 'learning_rate': 0.00011736199221267189, 'weight_decay': 0.000244142802275088}. Best is trial 37 with value: 0.3353661536031184.\n"
     ]
    },
    {
     "name": "stdout",
     "output_type": "stream",
     "text": [
      "Early stopping at epoch 47\n",
      "Final MCC: 0.2705\n"
     ]
    },
    {
     "name": "stderr",
     "output_type": "stream",
     "text": [
      "/tmp/ipykernel_282819/3985275715.py:4: FutureWarning: suggest_loguniform has been deprecated in v3.0.0. This feature will be removed in v6.0.0. See https://github.com/optuna/optuna/releases/tag/v3.0.0. Use suggest_float(..., log=True) instead.\n",
      "  learning_rate = trial.suggest_loguniform(\"learning_rate\", 1e-4, 1e-2)  # 範囲を調整\n",
      "/tmp/ipykernel_282819/3985275715.py:5: FutureWarning: suggest_loguniform has been deprecated in v3.0.0. This feature will be removed in v6.0.0. See https://github.com/optuna/optuna/releases/tag/v3.0.0. Use suggest_float(..., log=True) instead.\n",
      "  weight_decay = trial.suggest_loguniform(\"weight_decay\", 1e-5, 1e-2)   # 範囲を調整\n",
      "[I 2024-12-04 16:59:49,997] Trial 39 pruned. \n",
      "[I 2024-12-04 16:59:53,672] Trial 40 pruned. \n",
      "[I 2024-12-04 16:59:57,310] Trial 41 pruned. \n",
      "[I 2024-12-04 17:00:00,956] Trial 42 pruned. \n",
      "[I 2024-12-04 17:00:04,671] Trial 43 pruned. \n",
      "[I 2024-12-04 17:00:08,505] Trial 44 pruned. \n",
      "[I 2024-12-04 17:00:12,267] Trial 45 pruned. \n",
      "[I 2024-12-04 17:00:16,030] Trial 46 pruned. \n",
      "[I 2024-12-04 17:00:19,728] Trial 47 pruned. \n",
      "[I 2024-12-04 17:00:23,472] Trial 48 pruned. \n",
      "[I 2024-12-04 17:00:27,181] Trial 49 pruned. \n",
      "[I 2024-12-04 17:00:30,856] Trial 50 pruned. \n",
      "[I 2024-12-04 17:00:34,704] Trial 51 pruned. \n",
      "[I 2024-12-04 17:03:39,749] Trial 52 finished with value: 0.31873377739185427 and parameters: {'dropout1': 0.5, 'dropout2': 0.1, 'learning_rate': 0.00012642063463643048, 'weight_decay': 0.00041552948060734476}. Best is trial 37 with value: 0.3353661536031184.\n"
     ]
    },
    {
     "name": "stdout",
     "output_type": "stream",
     "text": [
      "Early stopping at epoch 48\n",
      "Final MCC: 0.3187\n"
     ]
    },
    {
     "name": "stderr",
     "output_type": "stream",
     "text": [
      "/tmp/ipykernel_282819/3985275715.py:4: FutureWarning: suggest_loguniform has been deprecated in v3.0.0. This feature will be removed in v6.0.0. See https://github.com/optuna/optuna/releases/tag/v3.0.0. Use suggest_float(..., log=True) instead.\n",
      "  learning_rate = trial.suggest_loguniform(\"learning_rate\", 1e-4, 1e-2)  # 範囲を調整\n",
      "/tmp/ipykernel_282819/3985275715.py:5: FutureWarning: suggest_loguniform has been deprecated in v3.0.0. This feature will be removed in v6.0.0. See https://github.com/optuna/optuna/releases/tag/v3.0.0. Use suggest_float(..., log=True) instead.\n",
      "  weight_decay = trial.suggest_loguniform(\"weight_decay\", 1e-5, 1e-2)   # 範囲を調整\n",
      "[I 2024-12-04 17:07:46,990] Trial 53 finished with value: 0.24984639863794986 and parameters: {'dropout1': 0.45, 'dropout2': 0.15000000000000002, 'learning_rate': 0.00013280192880712728, 'weight_decay': 0.0004743354985614693}. Best is trial 37 with value: 0.3353661536031184.\n"
     ]
    },
    {
     "name": "stdout",
     "output_type": "stream",
     "text": [
      "Early stopping at epoch 64\n",
      "Final MCC: 0.2498\n"
     ]
    },
    {
     "name": "stderr",
     "output_type": "stream",
     "text": [
      "/tmp/ipykernel_282819/3985275715.py:4: FutureWarning: suggest_loguniform has been deprecated in v3.0.0. This feature will be removed in v6.0.0. See https://github.com/optuna/optuna/releases/tag/v3.0.0. Use suggest_float(..., log=True) instead.\n",
      "  learning_rate = trial.suggest_loguniform(\"learning_rate\", 1e-4, 1e-2)  # 範囲を調整\n",
      "/tmp/ipykernel_282819/3985275715.py:5: FutureWarning: suggest_loguniform has been deprecated in v3.0.0. This feature will be removed in v6.0.0. See https://github.com/optuna/optuna/releases/tag/v3.0.0. Use suggest_float(..., log=True) instead.\n",
      "  weight_decay = trial.suggest_loguniform(\"weight_decay\", 1e-5, 1e-2)   # 範囲を調整\n",
      "[I 2024-12-04 17:07:50,804] Trial 54 pruned. \n",
      "[I 2024-12-04 17:07:54,649] Trial 55 pruned. \n",
      "[I 2024-12-04 17:11:09,622] Trial 56 finished with value: 0.26442040376745435 and parameters: {'dropout1': 0.5, 'dropout2': 0.35000000000000003, 'learning_rate': 0.00012684567418183535, 'weight_decay': 0.0012800413794786952}. Best is trial 37 with value: 0.3353661536031184.\n"
     ]
    },
    {
     "name": "stdout",
     "output_type": "stream",
     "text": [
      "Early stopping at epoch 55\n",
      "Final MCC: 0.2644\n"
     ]
    },
    {
     "name": "stderr",
     "output_type": "stream",
     "text": [
      "/tmp/ipykernel_282819/3985275715.py:4: FutureWarning: suggest_loguniform has been deprecated in v3.0.0. This feature will be removed in v6.0.0. See https://github.com/optuna/optuna/releases/tag/v3.0.0. Use suggest_float(..., log=True) instead.\n",
      "  learning_rate = trial.suggest_loguniform(\"learning_rate\", 1e-4, 1e-2)  # 範囲を調整\n",
      "/tmp/ipykernel_282819/3985275715.py:5: FutureWarning: suggest_loguniform has been deprecated in v3.0.0. This feature will be removed in v6.0.0. See https://github.com/optuna/optuna/releases/tag/v3.0.0. Use suggest_float(..., log=True) instead.\n",
      "  weight_decay = trial.suggest_loguniform(\"weight_decay\", 1e-5, 1e-2)   # 範囲を調整\n",
      "[I 2024-12-04 17:11:13,059] Trial 57 pruned. \n",
      "[I 2024-12-04 17:11:16,427] Trial 58 pruned. \n",
      "[I 2024-12-04 17:11:19,832] Trial 59 pruned. \n",
      "[I 2024-12-04 17:11:23,261] Trial 60 pruned. \n",
      "[I 2024-12-04 17:14:28,845] Trial 61 finished with value: 0.2491270510681658 and parameters: {'dropout1': 0.5, 'dropout2': 0.1, 'learning_rate': 0.00011705716816055344, 'weight_decay': 0.0002974576244445532}. Best is trial 37 with value: 0.3353661536031184.\n"
     ]
    },
    {
     "name": "stdout",
     "output_type": "stream",
     "text": [
      "Early stopping at epoch 53\n",
      "Final MCC: 0.2491\n"
     ]
    },
    {
     "name": "stderr",
     "output_type": "stream",
     "text": [
      "/tmp/ipykernel_282819/3985275715.py:4: FutureWarning: suggest_loguniform has been deprecated in v3.0.0. This feature will be removed in v6.0.0. See https://github.com/optuna/optuna/releases/tag/v3.0.0. Use suggest_float(..., log=True) instead.\n",
      "  learning_rate = trial.suggest_loguniform(\"learning_rate\", 1e-4, 1e-2)  # 範囲を調整\n",
      "/tmp/ipykernel_282819/3985275715.py:5: FutureWarning: suggest_loguniform has been deprecated in v3.0.0. This feature will be removed in v6.0.0. See https://github.com/optuna/optuna/releases/tag/v3.0.0. Use suggest_float(..., log=True) instead.\n",
      "  weight_decay = trial.suggest_loguniform(\"weight_decay\", 1e-5, 1e-2)   # 範囲を調整\n",
      "[I 2024-12-04 17:14:31,993] Trial 62 pruned. \n",
      "[I 2024-12-04 17:16:59,827] Trial 63 finished with value: 0.3182192318053801 and parameters: {'dropout1': 0.5, 'dropout2': 0.5, 'learning_rate': 0.00012648308539607144, 'weight_decay': 0.00020274981158354842}. Best is trial 37 with value: 0.3353661536031184.\n"
     ]
    },
    {
     "name": "stdout",
     "output_type": "stream",
     "text": [
      "Early stopping at epoch 47\n",
      "Final MCC: 0.3182\n"
     ]
    },
    {
     "name": "stderr",
     "output_type": "stream",
     "text": [
      "/tmp/ipykernel_282819/3985275715.py:4: FutureWarning: suggest_loguniform has been deprecated in v3.0.0. This feature will be removed in v6.0.0. See https://github.com/optuna/optuna/releases/tag/v3.0.0. Use suggest_float(..., log=True) instead.\n",
      "  learning_rate = trial.suggest_loguniform(\"learning_rate\", 1e-4, 1e-2)  # 範囲を調整\n",
      "/tmp/ipykernel_282819/3985275715.py:5: FutureWarning: suggest_loguniform has been deprecated in v3.0.0. This feature will be removed in v6.0.0. See https://github.com/optuna/optuna/releases/tag/v3.0.0. Use suggest_float(..., log=True) instead.\n",
      "  weight_decay = trial.suggest_loguniform(\"weight_decay\", 1e-5, 1e-2)   # 範囲を調整\n",
      "[I 2024-12-04 17:17:02,933] Trial 64 pruned. \n",
      "[I 2024-12-04 17:21:13,343] Trial 65 finished with value: 0.23845453358054547 and parameters: {'dropout1': 0.5, 'dropout2': 0.5, 'learning_rate': 0.00012126941960010696, 'weight_decay': 0.0003906895038721879}. Best is trial 37 with value: 0.3353661536031184.\n"
     ]
    },
    {
     "name": "stdout",
     "output_type": "stream",
     "text": [
      "Early stopping at epoch 80\n",
      "Final MCC: 0.2385\n"
     ]
    },
    {
     "name": "stderr",
     "output_type": "stream",
     "text": [
      "/tmp/ipykernel_282819/3985275715.py:4: FutureWarning: suggest_loguniform has been deprecated in v3.0.0. This feature will be removed in v6.0.0. See https://github.com/optuna/optuna/releases/tag/v3.0.0. Use suggest_float(..., log=True) instead.\n",
      "  learning_rate = trial.suggest_loguniform(\"learning_rate\", 1e-4, 1e-2)  # 範囲を調整\n",
      "/tmp/ipykernel_282819/3985275715.py:5: FutureWarning: suggest_loguniform has been deprecated in v3.0.0. This feature will be removed in v6.0.0. See https://github.com/optuna/optuna/releases/tag/v3.0.0. Use suggest_float(..., log=True) instead.\n",
      "  weight_decay = trial.suggest_loguniform(\"weight_decay\", 1e-5, 1e-2)   # 範囲を調整\n",
      "[I 2024-12-04 17:21:16,491] Trial 66 pruned. \n",
      "[I 2024-12-04 17:21:19,597] Trial 67 pruned. \n",
      "[I 2024-12-04 17:21:22,718] Trial 68 pruned. \n",
      "[I 2024-12-04 17:21:25,833] Trial 69 pruned. \n",
      "[I 2024-12-04 17:21:28,918] Trial 70 pruned. \n",
      "[I 2024-12-04 17:21:32,052] Trial 71 pruned. \n",
      "[I 2024-12-04 17:24:16,090] Trial 72 finished with value: 0.2551292709740335 and parameters: {'dropout1': 0.5, 'dropout2': 0.05, 'learning_rate': 0.00013791291972525423, 'weight_decay': 0.00012289088495949396}. Best is trial 37 with value: 0.3353661536031184.\n"
     ]
    },
    {
     "name": "stdout",
     "output_type": "stream",
     "text": [
      "Early stopping at epoch 52\n",
      "Final MCC: 0.2551\n"
     ]
    },
    {
     "name": "stderr",
     "output_type": "stream",
     "text": [
      "/tmp/ipykernel_282819/3985275715.py:4: FutureWarning: suggest_loguniform has been deprecated in v3.0.0. This feature will be removed in v6.0.0. See https://github.com/optuna/optuna/releases/tag/v3.0.0. Use suggest_float(..., log=True) instead.\n",
      "  learning_rate = trial.suggest_loguniform(\"learning_rate\", 1e-4, 1e-2)  # 範囲を調整\n",
      "/tmp/ipykernel_282819/3985275715.py:5: FutureWarning: suggest_loguniform has been deprecated in v3.0.0. This feature will be removed in v6.0.0. See https://github.com/optuna/optuna/releases/tag/v3.0.0. Use suggest_float(..., log=True) instead.\n",
      "  weight_decay = trial.suggest_loguniform(\"weight_decay\", 1e-5, 1e-2)   # 範囲を調整\n",
      "[I 2024-12-04 17:26:07,119] Trial 73 finished with value: 0.20015740459784206 and parameters: {'dropout1': 0.05, 'dropout2': 0.15000000000000002, 'learning_rate': 0.00010897570948049016, 'weight_decay': 0.00019768961050708035}. Best is trial 37 with value: 0.3353661536031184.\n"
     ]
    },
    {
     "name": "stdout",
     "output_type": "stream",
     "text": [
      "Early stopping at epoch 35\n",
      "Final MCC: 0.2002\n"
     ]
    },
    {
     "name": "stderr",
     "output_type": "stream",
     "text": [
      "/tmp/ipykernel_282819/3985275715.py:4: FutureWarning: suggest_loguniform has been deprecated in v3.0.0. This feature will be removed in v6.0.0. See https://github.com/optuna/optuna/releases/tag/v3.0.0. Use suggest_float(..., log=True) instead.\n",
      "  learning_rate = trial.suggest_loguniform(\"learning_rate\", 1e-4, 1e-2)  # 範囲を調整\n",
      "/tmp/ipykernel_282819/3985275715.py:5: FutureWarning: suggest_loguniform has been deprecated in v3.0.0. This feature will be removed in v6.0.0. See https://github.com/optuna/optuna/releases/tag/v3.0.0. Use suggest_float(..., log=True) instead.\n",
      "  weight_decay = trial.suggest_loguniform(\"weight_decay\", 1e-5, 1e-2)   # 範囲を調整\n",
      "[I 2024-12-04 17:26:10,254] Trial 74 pruned. \n",
      "[I 2024-12-04 17:26:13,426] Trial 75 pruned. \n",
      "[I 2024-12-04 17:27:37,522] Trial 76 finished with value: 0.3238620405592368 and parameters: {'dropout1': 0.5, 'dropout2': 0.5, 'learning_rate': 0.0001887002855799787, 'weight_decay': 8.341256615179761e-05}. Best is trial 37 with value: 0.3353661536031184.\n"
     ]
    },
    {
     "name": "stdout",
     "output_type": "stream",
     "text": [
      "Early stopping at epoch 26\n",
      "Final MCC: 0.3239\n"
     ]
    },
    {
     "name": "stderr",
     "output_type": "stream",
     "text": [
      "/tmp/ipykernel_282819/3985275715.py:4: FutureWarning: suggest_loguniform has been deprecated in v3.0.0. This feature will be removed in v6.0.0. See https://github.com/optuna/optuna/releases/tag/v3.0.0. Use suggest_float(..., log=True) instead.\n",
      "  learning_rate = trial.suggest_loguniform(\"learning_rate\", 1e-4, 1e-2)  # 範囲を調整\n",
      "/tmp/ipykernel_282819/3985275715.py:5: FutureWarning: suggest_loguniform has been deprecated in v3.0.0. This feature will be removed in v6.0.0. See https://github.com/optuna/optuna/releases/tag/v3.0.0. Use suggest_float(..., log=True) instead.\n",
      "  weight_decay = trial.suggest_loguniform(\"weight_decay\", 1e-5, 1e-2)   # 範囲を調整\n",
      "[I 2024-12-04 17:27:40,701] Trial 77 pruned. \n",
      "[I 2024-12-04 17:27:43,874] Trial 78 pruned. \n",
      "[I 2024-12-04 17:27:47,083] Trial 79 pruned. \n",
      "[I 2024-12-04 17:27:50,275] Trial 80 pruned. \n",
      "[I 2024-12-04 17:30:00,045] Trial 81 finished with value: 0.1061707603520985 and parameters: {'dropout1': 0.5, 'dropout2': 0.5, 'learning_rate': 0.0001020426231179225, 'weight_decay': 0.00026794784034118167}. Best is trial 37 with value: 0.3353661536031184.\n"
     ]
    },
    {
     "name": "stdout",
     "output_type": "stream",
     "text": [
      "Early stopping at epoch 40\n",
      "Final MCC: 0.1062\n"
     ]
    },
    {
     "name": "stderr",
     "output_type": "stream",
     "text": [
      "/tmp/ipykernel_282819/3985275715.py:4: FutureWarning: suggest_loguniform has been deprecated in v3.0.0. This feature will be removed in v6.0.0. See https://github.com/optuna/optuna/releases/tag/v3.0.0. Use suggest_float(..., log=True) instead.\n",
      "  learning_rate = trial.suggest_loguniform(\"learning_rate\", 1e-4, 1e-2)  # 範囲を調整\n",
      "/tmp/ipykernel_282819/3985275715.py:5: FutureWarning: suggest_loguniform has been deprecated in v3.0.0. This feature will be removed in v6.0.0. See https://github.com/optuna/optuna/releases/tag/v3.0.0. Use suggest_float(..., log=True) instead.\n",
      "  weight_decay = trial.suggest_loguniform(\"weight_decay\", 1e-5, 1e-2)   # 範囲を調整\n",
      "[I 2024-12-04 17:30:03,238] Trial 82 pruned. \n",
      "[I 2024-12-04 17:30:06,427] Trial 83 pruned. \n",
      "[I 2024-12-04 17:30:09,605] Trial 84 pruned. \n",
      "[I 2024-12-04 17:35:12,890] Trial 85 finished with value: 0.19538712238500955 and parameters: {'dropout1': 0.5, 'dropout2': 0.1, 'learning_rate': 0.00010005872349359527, 'weight_decay': 0.005196721370609321}. Best is trial 37 with value: 0.3353661536031184.\n"
     ]
    },
    {
     "name": "stdout",
     "output_type": "stream",
     "text": [
      "Final MCC: 0.1954\n"
     ]
    },
    {
     "name": "stderr",
     "output_type": "stream",
     "text": [
      "/tmp/ipykernel_282819/3985275715.py:4: FutureWarning: suggest_loguniform has been deprecated in v3.0.0. This feature will be removed in v6.0.0. See https://github.com/optuna/optuna/releases/tag/v3.0.0. Use suggest_float(..., log=True) instead.\n",
      "  learning_rate = trial.suggest_loguniform(\"learning_rate\", 1e-4, 1e-2)  # 範囲を調整\n",
      "/tmp/ipykernel_282819/3985275715.py:5: FutureWarning: suggest_loguniform has been deprecated in v3.0.0. This feature will be removed in v6.0.0. See https://github.com/optuna/optuna/releases/tag/v3.0.0. Use suggest_float(..., log=True) instead.\n",
      "  weight_decay = trial.suggest_loguniform(\"weight_decay\", 1e-5, 1e-2)   # 範囲を調整\n",
      "[I 2024-12-04 17:35:15,824] Trial 86 pruned. \n",
      "[I 2024-12-04 17:35:18,793] Trial 87 pruned. \n",
      "[I 2024-12-04 17:35:21,694] Trial 88 pruned. \n",
      "[I 2024-12-04 17:35:24,615] Trial 89 pruned. \n",
      "[I 2024-12-04 17:37:53,879] Trial 90 finished with value: 0.3156692237509533 and parameters: {'dropout1': 0.5, 'dropout2': 0.5, 'learning_rate': 0.0001630879399140022, 'weight_decay': 0.00031825339303089814}. Best is trial 37 with value: 0.3353661536031184.\n"
     ]
    },
    {
     "name": "stdout",
     "output_type": "stream",
     "text": [
      "Early stopping at epoch 52\n",
      "Final MCC: 0.3157\n"
     ]
    },
    {
     "name": "stderr",
     "output_type": "stream",
     "text": [
      "/tmp/ipykernel_282819/3985275715.py:4: FutureWarning: suggest_loguniform has been deprecated in v3.0.0. This feature will be removed in v6.0.0. See https://github.com/optuna/optuna/releases/tag/v3.0.0. Use suggest_float(..., log=True) instead.\n",
      "  learning_rate = trial.suggest_loguniform(\"learning_rate\", 1e-4, 1e-2)  # 範囲を調整\n",
      "/tmp/ipykernel_282819/3985275715.py:5: FutureWarning: suggest_loguniform has been deprecated in v3.0.0. This feature will be removed in v6.0.0. See https://github.com/optuna/optuna/releases/tag/v3.0.0. Use suggest_float(..., log=True) instead.\n",
      "  weight_decay = trial.suggest_loguniform(\"weight_decay\", 1e-5, 1e-2)   # 範囲を調整\n",
      "[I 2024-12-04 17:39:33,647] Trial 91 finished with value: 0.30128712690732123 and parameters: {'dropout1': 0.5, 'dropout2': 0.5, 'learning_rate': 0.0001406870570275937, 'weight_decay': 0.00033937910527191435}. Best is trial 37 with value: 0.3353661536031184.\n"
     ]
    },
    {
     "name": "stdout",
     "output_type": "stream",
     "text": [
      "Early stopping at epoch 34\n",
      "Final MCC: 0.3013\n"
     ]
    },
    {
     "name": "stderr",
     "output_type": "stream",
     "text": [
      "/tmp/ipykernel_282819/3985275715.py:4: FutureWarning: suggest_loguniform has been deprecated in v3.0.0. This feature will be removed in v6.0.0. See https://github.com/optuna/optuna/releases/tag/v3.0.0. Use suggest_float(..., log=True) instead.\n",
      "  learning_rate = trial.suggest_loguniform(\"learning_rate\", 1e-4, 1e-2)  # 範囲を調整\n",
      "/tmp/ipykernel_282819/3985275715.py:5: FutureWarning: suggest_loguniform has been deprecated in v3.0.0. This feature will be removed in v6.0.0. See https://github.com/optuna/optuna/releases/tag/v3.0.0. Use suggest_float(..., log=True) instead.\n",
      "  weight_decay = trial.suggest_loguniform(\"weight_decay\", 1e-5, 1e-2)   # 範囲を調整\n",
      "[I 2024-12-04 17:39:36,566] Trial 92 pruned. \n",
      "[I 2024-12-04 17:39:39,477] Trial 93 pruned. \n",
      "[I 2024-12-04 17:39:42,260] Trial 94 pruned. \n",
      "[I 2024-12-04 17:42:17,971] Trial 95 finished with value: 0.3058656435219968 and parameters: {'dropout1': 0.45, 'dropout2': 0.45, 'learning_rate': 0.00015865182219129584, 'weight_decay': 0.0008945580166608263}. Best is trial 37 with value: 0.3353661536031184.\n"
     ]
    },
    {
     "name": "stdout",
     "output_type": "stream",
     "text": [
      "Early stopping at epoch 53\n",
      "Final MCC: 0.3059\n"
     ]
    },
    {
     "name": "stderr",
     "output_type": "stream",
     "text": [
      "/tmp/ipykernel_282819/3985275715.py:4: FutureWarning: suggest_loguniform has been deprecated in v3.0.0. This feature will be removed in v6.0.0. See https://github.com/optuna/optuna/releases/tag/v3.0.0. Use suggest_float(..., log=True) instead.\n",
      "  learning_rate = trial.suggest_loguniform(\"learning_rate\", 1e-4, 1e-2)  # 範囲を調整\n",
      "/tmp/ipykernel_282819/3985275715.py:5: FutureWarning: suggest_loguniform has been deprecated in v3.0.0. This feature will be removed in v6.0.0. See https://github.com/optuna/optuna/releases/tag/v3.0.0. Use suggest_float(..., log=True) instead.\n",
      "  weight_decay = trial.suggest_loguniform(\"weight_decay\", 1e-5, 1e-2)   # 範囲を調整\n",
      "[I 2024-12-04 17:42:20,942] Trial 96 pruned. \n",
      "[I 2024-12-04 17:44:28,626] Trial 97 finished with value: 0.3089056477310863 and parameters: {'dropout1': 0.5, 'dropout2': 0.5, 'learning_rate': 0.00013099931025142825, 'weight_decay': 0.0005366950222405844}. Best is trial 37 with value: 0.3353661536031184.\n"
     ]
    },
    {
     "name": "stdout",
     "output_type": "stream",
     "text": [
      "Early stopping at epoch 44\n",
      "Final MCC: 0.3089\n"
     ]
    },
    {
     "name": "stderr",
     "output_type": "stream",
     "text": [
      "/tmp/ipykernel_282819/3985275715.py:4: FutureWarning: suggest_loguniform has been deprecated in v3.0.0. This feature will be removed in v6.0.0. See https://github.com/optuna/optuna/releases/tag/v3.0.0. Use suggest_float(..., log=True) instead.\n",
      "  learning_rate = trial.suggest_loguniform(\"learning_rate\", 1e-4, 1e-2)  # 範囲を調整\n",
      "/tmp/ipykernel_282819/3985275715.py:5: FutureWarning: suggest_loguniform has been deprecated in v3.0.0. This feature will be removed in v6.0.0. See https://github.com/optuna/optuna/releases/tag/v3.0.0. Use suggest_float(..., log=True) instead.\n",
      "  weight_decay = trial.suggest_loguniform(\"weight_decay\", 1e-5, 1e-2)   # 範囲を調整\n",
      "[I 2024-12-04 17:46:59,301] Trial 98 finished with value: 0.32574704291377815 and parameters: {'dropout1': 0.5, 'dropout2': 0.5, 'learning_rate': 0.00015338764733883648, 'weight_decay': 0.0008056850581709616}. Best is trial 37 with value: 0.3353661536031184.\n"
     ]
    },
    {
     "name": "stdout",
     "output_type": "stream",
     "text": [
      "Early stopping at epoch 53\n",
      "Final MCC: 0.3257\n"
     ]
    },
    {
     "name": "stderr",
     "output_type": "stream",
     "text": [
      "/tmp/ipykernel_282819/3985275715.py:4: FutureWarning: suggest_loguniform has been deprecated in v3.0.0. This feature will be removed in v6.0.0. See https://github.com/optuna/optuna/releases/tag/v3.0.0. Use suggest_float(..., log=True) instead.\n",
      "  learning_rate = trial.suggest_loguniform(\"learning_rate\", 1e-4, 1e-2)  # 範囲を調整\n",
      "/tmp/ipykernel_282819/3985275715.py:5: FutureWarning: suggest_loguniform has been deprecated in v3.0.0. This feature will be removed in v6.0.0. See https://github.com/optuna/optuna/releases/tag/v3.0.0. Use suggest_float(..., log=True) instead.\n",
      "  weight_decay = trial.suggest_loguniform(\"weight_decay\", 1e-5, 1e-2)   # 範囲を調整\n",
      "[I 2024-12-04 17:47:02,178] Trial 99 pruned. \n"
     ]
    },
    {
     "name": "stdout",
     "output_type": "stream",
     "text": [
      "Best Parameters:  {'dropout1': 0.5, 'dropout2': 0.1, 'learning_rate': 0.0001275979205551097, 'weight_decay': 0.00022304552639324245}\n",
      "Best Validation F1:  0.3353661536031184\n"
     ]
    }
   ],
   "source": [
    "device_id = 0  # 使用するGPUのID（0または1）\n",
    "torch.cuda.set_device(device_id)\n",
    "device = torch.device(f\"cuda:{device_id}\" if torch.cuda.is_available() else \"cpu\")\n",
    "\n",
    "# Optunaの設定\n",
    "study = optuna.create_study(direction=\"maximize\")  \n",
    "study.optimize(objective, n_trials=100)\n",
    "\n",
    "# 結果表示\n",
    "print(\"Best Parameters: \", study.best_params)\n",
    "print(\"Best Validation F1: \", study.best_value)"
   ]
  },
  {
   "cell_type": "code",
   "execution_count": 13,
   "metadata": {},
   "outputs": [
    {
     "name": "stdout",
     "output_type": "stream",
     "text": [
      "Epoch [1/100], Loss: 0.6697\n",
      "Epoch [1/100], Train Loss: 0.6697, Val Loss: 0.6405\n",
      "Epoch [2/100], Loss: 0.6202\n",
      "Epoch [2/100], Train Loss: 0.6202, Val Loss: 0.5851\n",
      "Epoch [3/100], Loss: 0.5885\n",
      "Epoch [3/100], Train Loss: 0.5885, Val Loss: 0.5799\n",
      "Epoch [4/100], Loss: 0.5846\n",
      "Epoch [4/100], Train Loss: 0.5846, Val Loss: 0.5798\n",
      "Epoch [5/100], Loss: 0.5788\n",
      "Epoch [5/100], Train Loss: 0.5788, Val Loss: 0.5785\n",
      "Epoch [6/100], Loss: 0.5769\n",
      "Epoch [6/100], Train Loss: 0.5769, Val Loss: 0.5767\n",
      "Epoch [7/100], Loss: 0.5739\n",
      "Epoch [7/100], Train Loss: 0.5739, Val Loss: 0.5756\n",
      "Epoch [8/100], Loss: 0.5713\n",
      "Epoch [8/100], Train Loss: 0.5713, Val Loss: 0.5738\n",
      "Epoch [9/100], Loss: 0.5680\n",
      "Epoch [9/100], Train Loss: 0.5680, Val Loss: 0.5721\n",
      "Epoch [10/100], Loss: 0.5696\n",
      "Epoch [10/100], Train Loss: 0.5696, Val Loss: 0.5707\n",
      "Epoch [11/100], Loss: 0.5696\n",
      "Epoch [11/100], Train Loss: 0.5696, Val Loss: 0.5691\n",
      "Epoch [12/100], Loss: 0.5679\n",
      "Epoch [12/100], Train Loss: 0.5679, Val Loss: 0.5687\n",
      "Epoch [13/100], Loss: 0.5634\n",
      "Epoch [13/100], Train Loss: 0.5634, Val Loss: 0.5674\n",
      "Epoch [14/100], Loss: 0.5650\n",
      "Epoch [14/100], Train Loss: 0.5650, Val Loss: 0.5666\n",
      "Epoch [15/100], Loss: 0.5644\n",
      "Epoch [15/100], Train Loss: 0.5644, Val Loss: 0.5657\n",
      "Epoch [16/100], Loss: 0.5654\n",
      "Epoch [16/100], Train Loss: 0.5654, Val Loss: 0.5647\n",
      "Epoch [17/100], Loss: 0.5630\n",
      "Epoch [17/100], Train Loss: 0.5630, Val Loss: 0.5646\n",
      "Epoch [18/100], Loss: 0.5604\n",
      "Epoch [18/100], Train Loss: 0.5604, Val Loss: 0.5653\n",
      "Epoch [19/100], Loss: 0.5574\n",
      "Epoch [19/100], Train Loss: 0.5574, Val Loss: 0.5653\n",
      "Epoch [20/100], Loss: 0.5630\n",
      "Epoch [20/100], Train Loss: 0.5630, Val Loss: 0.5641\n",
      "Epoch [21/100], Loss: 0.5582\n",
      "Epoch [21/100], Train Loss: 0.5582, Val Loss: 0.5635\n",
      "Epoch [22/100], Loss: 0.5603\n",
      "Epoch [22/100], Train Loss: 0.5603, Val Loss: 0.5635\n",
      "Epoch [23/100], Loss: 0.5630\n",
      "Epoch [23/100], Train Loss: 0.5630, Val Loss: 0.5632\n",
      "Epoch [24/100], Loss: 0.5612\n",
      "Epoch [24/100], Train Loss: 0.5612, Val Loss: 0.5638\n",
      "Epoch [25/100], Loss: 0.5583\n",
      "Epoch [25/100], Train Loss: 0.5583, Val Loss: 0.5634\n",
      "Epoch [26/100], Loss: 0.5570\n",
      "Epoch [26/100], Train Loss: 0.5570, Val Loss: 0.5630\n",
      "Epoch [27/100], Loss: 0.5602\n",
      "Epoch [27/100], Train Loss: 0.5602, Val Loss: 0.5630\n",
      "Epoch [28/100], Loss: 0.5600\n",
      "Epoch [28/100], Train Loss: 0.5600, Val Loss: 0.5622\n",
      "Epoch [29/100], Loss: 0.5577\n",
      "Epoch [29/100], Train Loss: 0.5577, Val Loss: 0.5625\n",
      "Epoch [30/100], Loss: 0.5573\n",
      "Epoch [30/100], Train Loss: 0.5573, Val Loss: 0.5640\n",
      "Epoch [31/100], Loss: 0.5575\n",
      "Epoch [31/100], Train Loss: 0.5575, Val Loss: 0.5619\n",
      "Epoch [32/100], Loss: 0.5563\n",
      "Epoch [32/100], Train Loss: 0.5563, Val Loss: 0.5617\n",
      "Epoch [33/100], Loss: 0.5542\n",
      "Epoch [33/100], Train Loss: 0.5542, Val Loss: 0.5614\n",
      "Epoch [34/100], Loss: 0.5525\n",
      "Epoch [34/100], Train Loss: 0.5525, Val Loss: 0.5614\n",
      "Epoch [35/100], Loss: 0.5560\n",
      "Epoch [35/100], Train Loss: 0.5560, Val Loss: 0.5615\n",
      "Epoch [36/100], Loss: 0.5572\n",
      "Epoch [36/100], Train Loss: 0.5572, Val Loss: 0.5631\n",
      "Epoch [37/100], Loss: 0.5559\n",
      "Epoch [37/100], Train Loss: 0.5559, Val Loss: 0.5615\n",
      "Epoch [38/100], Loss: 0.5558\n",
      "Epoch [38/100], Train Loss: 0.5558, Val Loss: 0.5621\n",
      "Epoch [39/100], Loss: 0.5558\n",
      "Epoch [39/100], Train Loss: 0.5558, Val Loss: 0.5600\n",
      "Epoch [40/100], Loss: 0.5542\n",
      "Epoch [40/100], Train Loss: 0.5542, Val Loss: 0.5611\n",
      "Epoch [41/100], Loss: 0.5558\n",
      "Epoch [41/100], Train Loss: 0.5558, Val Loss: 0.5595\n",
      "Epoch [42/100], Loss: 0.5567\n",
      "Epoch [42/100], Train Loss: 0.5567, Val Loss: 0.5612\n",
      "Epoch [43/100], Loss: 0.5582\n",
      "Epoch [43/100], Train Loss: 0.5582, Val Loss: 0.5590\n",
      "Epoch [44/100], Loss: 0.5564\n",
      "Epoch [44/100], Train Loss: 0.5564, Val Loss: 0.5590\n",
      "Epoch [45/100], Loss: 0.5543\n",
      "Epoch [45/100], Train Loss: 0.5543, Val Loss: 0.5596\n",
      "Epoch [46/100], Loss: 0.5570\n",
      "Epoch [46/100], Train Loss: 0.5570, Val Loss: 0.5625\n",
      "Epoch [47/100], Loss: 0.5564\n",
      "Epoch [47/100], Train Loss: 0.5564, Val Loss: 0.5596\n",
      "Epoch [48/100], Loss: 0.5545\n",
      "Epoch [48/100], Train Loss: 0.5545, Val Loss: 0.5611\n",
      "Epoch [49/100], Loss: 0.5526\n",
      "Epoch [49/100], Train Loss: 0.5526, Val Loss: 0.5601\n",
      "Epoch [50/100], Loss: 0.5556\n",
      "Epoch [50/100], Train Loss: 0.5556, Val Loss: 0.5611\n",
      "Epoch [51/100], Loss: 0.5531\n",
      "Epoch [51/100], Train Loss: 0.5531, Val Loss: 0.5594\n",
      "Epoch [52/100], Loss: 0.5540\n",
      "Epoch [52/100], Train Loss: 0.5540, Val Loss: 0.5626\n",
      "Epoch [53/100], Loss: 0.5532\n",
      "Epoch [53/100], Train Loss: 0.5532, Val Loss: 0.5604\n",
      "Epoch [54/100], Loss: 0.5528\n",
      "Epoch [54/100], Train Loss: 0.5528, Val Loss: 0.5607\n",
      "Epoch [55/100], Loss: 0.5536\n",
      "Epoch [55/100], Train Loss: 0.5536, Val Loss: 0.5582\n",
      "Epoch [56/100], Loss: 0.5548\n",
      "Epoch [56/100], Train Loss: 0.5548, Val Loss: 0.5595\n",
      "Epoch [57/100], Loss: 0.5542\n",
      "Epoch [57/100], Train Loss: 0.5542, Val Loss: 0.5610\n",
      "Epoch [58/100], Loss: 0.5515\n",
      "Epoch [58/100], Train Loss: 0.5515, Val Loss: 0.5610\n",
      "Epoch [59/100], Loss: 0.5524\n",
      "Epoch [59/100], Train Loss: 0.5524, Val Loss: 0.5614\n",
      "Epoch [60/100], Loss: 0.5521\n",
      "Epoch [60/100], Train Loss: 0.5521, Val Loss: 0.5628\n",
      "Epoch [61/100], Loss: 0.5523\n",
      "Epoch [61/100], Train Loss: 0.5523, Val Loss: 0.5622\n",
      "Epoch [62/100], Loss: 0.5518\n",
      "Epoch [62/100], Train Loss: 0.5518, Val Loss: 0.5624\n",
      "Epoch [63/100], Loss: 0.5521\n",
      "Epoch [63/100], Train Loss: 0.5521, Val Loss: 0.5632\n",
      "Epoch [64/100], Loss: 0.5503\n",
      "Epoch [64/100], Train Loss: 0.5503, Val Loss: 0.5601\n",
      "Epoch [65/100], Loss: 0.5513\n",
      "Epoch [65/100], Train Loss: 0.5513, Val Loss: 0.5611\n",
      "Epoch [66/100], Loss: 0.5504\n",
      "Epoch [66/100], Train Loss: 0.5504, Val Loss: 0.5595\n",
      "Epoch [67/100], Loss: 0.5510\n",
      "Epoch [67/100], Train Loss: 0.5510, Val Loss: 0.5603\n",
      "Epoch [68/100], Loss: 0.5501\n",
      "Epoch [68/100], Train Loss: 0.5501, Val Loss: 0.5634\n",
      "Epoch [69/100], Loss: 0.5515\n",
      "Epoch [69/100], Train Loss: 0.5515, Val Loss: 0.5617\n",
      "Epoch [70/100], Loss: 0.5517\n",
      "Epoch [70/100], Train Loss: 0.5517, Val Loss: 0.5615\n",
      "Epoch [71/100], Loss: 0.5482\n",
      "Epoch [71/100], Train Loss: 0.5482, Val Loss: 0.5623\n",
      "Epoch [72/100], Loss: 0.5503\n",
      "Epoch [72/100], Train Loss: 0.5503, Val Loss: 0.5615\n",
      "Epoch [73/100], Loss: 0.5503\n",
      "Epoch [73/100], Train Loss: 0.5503, Val Loss: 0.5605\n",
      "Epoch [74/100], Loss: 0.5510\n",
      "Epoch [74/100], Train Loss: 0.5510, Val Loss: 0.5604\n",
      "Epoch [75/100], Loss: 0.5518\n",
      "Epoch [75/100], Train Loss: 0.5518, Val Loss: 0.5608\n",
      "Epoch [76/100], Loss: 0.5488\n",
      "Epoch [76/100], Train Loss: 0.5488, Val Loss: 0.5613\n",
      "Epoch [77/100], Loss: 0.5507\n",
      "Epoch [77/100], Train Loss: 0.5507, Val Loss: 0.5606\n",
      "Epoch [78/100], Loss: 0.5498\n",
      "Epoch [78/100], Train Loss: 0.5498, Val Loss: 0.5620\n",
      "Epoch [79/100], Loss: 0.5485\n",
      "Epoch [79/100], Train Loss: 0.5485, Val Loss: 0.5618\n",
      "Epoch [80/100], Loss: 0.5507\n",
      "Epoch [80/100], Train Loss: 0.5507, Val Loss: 0.5618\n",
      "Epoch [81/100], Loss: 0.5525\n",
      "Epoch [81/100], Train Loss: 0.5525, Val Loss: 0.5613\n",
      "Epoch [82/100], Loss: 0.5483\n",
      "Epoch [82/100], Train Loss: 0.5483, Val Loss: 0.5625\n",
      "Epoch [83/100], Loss: 0.5488\n",
      "Epoch [83/100], Train Loss: 0.5488, Val Loss: 0.5627\n",
      "Epoch [84/100], Loss: 0.5523\n",
      "Epoch [84/100], Train Loss: 0.5523, Val Loss: 0.5607\n",
      "Epoch [85/100], Loss: 0.5465\n",
      "Epoch [85/100], Train Loss: 0.5465, Val Loss: 0.5626\n",
      "Epoch [86/100], Loss: 0.5467\n",
      "Epoch [86/100], Train Loss: 0.5467, Val Loss: 0.5631\n",
      "Epoch [87/100], Loss: 0.5471\n",
      "Epoch [87/100], Train Loss: 0.5471, Val Loss: 0.5618\n",
      "Epoch [88/100], Loss: 0.5456\n",
      "Epoch [88/100], Train Loss: 0.5456, Val Loss: 0.5633\n",
      "Epoch [89/100], Loss: 0.5467\n",
      "Epoch [89/100], Train Loss: 0.5467, Val Loss: 0.5640\n",
      "Epoch [90/100], Loss: 0.5452\n",
      "Epoch [90/100], Train Loss: 0.5452, Val Loss: 0.5653\n",
      "Epoch [91/100], Loss: 0.5481\n",
      "Epoch [91/100], Train Loss: 0.5481, Val Loss: 0.5647\n",
      "Epoch [92/100], Loss: 0.5472\n",
      "Epoch [92/100], Train Loss: 0.5472, Val Loss: 0.5662\n",
      "Epoch [93/100], Loss: 0.5447\n",
      "Epoch [93/100], Train Loss: 0.5447, Val Loss: 0.5643\n",
      "Epoch [94/100], Loss: 0.5490\n",
      "Epoch [94/100], Train Loss: 0.5490, Val Loss: 0.5643\n",
      "Epoch [95/100], Loss: 0.5433\n",
      "Epoch [95/100], Train Loss: 0.5433, Val Loss: 0.5643\n",
      "Epoch [96/100], Loss: 0.5448\n",
      "Epoch [96/100], Train Loss: 0.5448, Val Loss: 0.5646\n",
      "Epoch [97/100], Loss: 0.5450\n",
      "Epoch [97/100], Train Loss: 0.5450, Val Loss: 0.5663\n",
      "Epoch [98/100], Loss: 0.5410\n",
      "Epoch [98/100], Train Loss: 0.5410, Val Loss: 0.5667\n",
      "Epoch [99/100], Loss: 0.5472\n",
      "Epoch [99/100], Train Loss: 0.5472, Val Loss: 0.5647\n",
      "Epoch [100/100], Loss: 0.5458\n",
      "Epoch [100/100], Train Loss: 0.5458, Val Loss: 0.5670\n"
     ]
    },
    {
     "data": {
      "image/png": "[encoded data removed]",
      "text/plain": [
       "<Figure size 1000x600 with 1 Axes>"
      ]
     },
     "metadata": {},
     "output_type": "display_data"
    }
   ],
   "source": [
    "best_params=study.best_params\n",
    "model = DNN_11(input_dim=X_train_tensor.shape[1],\n",
    "              dropout1=best_params[\"dropout1\"],\n",
    "              dropout2=best_params[\"dropout2\"],).to(device)\n",
    "# 最適化と訓練を実行\n",
    "optimizer = optim.Adam(model.parameters(), lr=best_params[\"learning_rate\"],weight_decay=best_params[\"weight_decay\"])\n",
    "criterion = nn.BCELoss()\n",
    "\n",
    "num_epochs=100\n",
    "train_losses = []\n",
    "val_losses = []\n",
    "\n",
    "model.train()\n",
    "for epoch in range(num_epochs):\n",
    "    epoch_train_loss = 0\n",
    "    epoch_val_loss = 0\n",
    "\n",
    "    for X_batch, y_batch in train_loader:\n",
    "        X_batch, y_batch = X_batch.to(device), y_batch.to(device)\n",
    "        optimizer.zero_grad()\n",
    "        outputs = model(X_batch).squeeze()\n",
    "        loss = criterion(outputs, y_batch.squeeze())\n",
    "        loss.backward()\n",
    "        optimizer.step()\n",
    "        epoch_train_loss += loss.item()\n",
    "    avg_train_loss = epoch_train_loss / len(train_loader)\n",
    "    train_losses.append(avg_train_loss)\n",
    "    print(f'Epoch [{epoch+1}/{num_epochs}], Loss: {avg_train_loss:.4f}')\n",
    "\n",
    "    if val_loader is not None:\n",
    "        model.eval()  \n",
    "        with torch.no_grad():\n",
    "            for X_val, y_val in val_loader:\n",
    "                X_val, y_val = X_val.to(device), y_val.to(device)\n",
    "                val_outputs = model(X_val).squeeze()\n",
    "                val_loss = criterion(val_outputs, y_val.squeeze())\n",
    "                epoch_val_loss += val_loss.item()\n",
    "\n",
    "        avg_val_loss = epoch_val_loss / len(val_loader)\n",
    "        val_losses.append(avg_val_loss)\n",
    "        model.train()  \n",
    "\n",
    "    if val_loader is not None:\n",
    "        print(f\"Epoch [{epoch+1}/{num_epochs}], Train Loss: {avg_train_loss:.4f}, Val Loss: {avg_val_loss:.4f}\")\n",
    "    else:\n",
    "        print(f\"Epoch [{epoch+1}/{num_epochs}], Train Loss: {avg_train_loss:.4f}\")\n",
    "\n",
    "plt.figure(figsize=(10, 6))\n",
    "plt.plot(range(1, num_epochs + 1), train_losses, label='Train Loss')\n",
    "if val_losses:\n",
    "    plt.plot(range(1, num_epochs + 1), val_losses, label='Validation Loss')\n",
    "plt.xlabel('Epoch')\n",
    "plt.ylabel('Loss')\n",
    "plt.title('Learning Curve for DNN1')\n",
    "plt.legend()\n",
    "plt.grid()\n",
    "plt.show()"
   ]
  },
  {
   "cell_type": "code",
   "execution_count": 14,
   "metadata": {},
   "outputs": [
    {
     "name": "stdout",
     "output_type": "stream",
     "text": [
      "Accuracy: 58.20%\n",
      "Precision: 0.4720\n",
      "Recall: 0.6962\n",
      "F1 Score: 0.5626\n",
      "Matthews Correlation Coefficient: 0.2029\n",
      "Specificity: 0.5102\n"
     ]
    },
    {
     "data": {
      "image/png": "[encoded data removed]",
      "text/plain": [
       "<Figure size 640x480 with 1 Axes>"
      ]
     },
     "metadata": {},
     "output_type": "display_data"
    },
    {
     "data": {
      "image/png": "[encoded data removed]",
      "text/plain": [
       "<Figure size 640x480 with 1 Axes>"
      ]
     },
     "metadata": {},
     "output_type": "display_data"
    },
    {
     "data": {
      "image/png": "[encoded data removed]",
      "text/plain": [
       "<Figure size 640x480 with 1 Axes>"
      ]
     },
     "metadata": {},
     "output_type": "display_data"
    }
   ],
   "source": [
    "model.eval()\n",
    "with torch.no_grad():\n",
    "    X_test_tensor = X_test_tensor.to(device)\n",
    "    y_test_tensor = y_test_tensor.to(device)\n",
    "\n",
    "    # 予測と確率\n",
    "    test_outputs = model(X_test_tensor).squeeze()\n",
    "    predictions = (test_outputs >0.49).float()\n",
    "    y_true = y_test_tensor.cpu().numpy()\n",
    "    y_pred = predictions.cpu().numpy()\n",
    "    y_prob = test_outputs.cpu().numpy()\n",
    "\n",
    "# 評価指標\n",
    "    accuracy = accuracy_score(y_true, y_pred)\n",
    "    precision = precision_score(y_true, y_pred)\n",
    "    recall = recall_score(y_true, y_pred)\n",
    "    f1 = f1_score(y_true, y_pred)\n",
    "    mcc = matthews_corrcoef(y_true, y_pred)\n",
    "    specificity = recall_score(y_true, y_pred, pos_label=0)  \n",
    "    print(f'Accuracy: {accuracy * 100:.2f}%')\n",
    "    print(f'Precision: {precision:.4f}')\n",
    "    print(f'Recall: {recall:.4f}')\n",
    "    print(f'F1 Score: {f1:.4f}')\n",
    "    print(f'Matthews Correlation Coefficient: {mcc:.4f}')\n",
    "    print(f'Specificity: {specificity:.4f}')\n",
    "\n",
    "    # 混同行列（割合表示）\n",
    "    cm = confusion_matrix(y_true, y_pred, normalize='true')\n",
    "    sns.heatmap(cm, annot=True, fmt=\".2%\", cmap=\"Blues\", cbar=False)\n",
    "    plt.xlabel(\"Predicted\")\n",
    "    plt.ylabel(\"Actual\")\n",
    "    plt.title(f\"Confusion Matrix (Normalized)\")\n",
    "    plt.show()\n",
    "\n",
    "    # ROC曲線とAUC\n",
    "    fpr, tpr, thresholds = roc_curve(y_true, y_prob)\n",
    "    roc_auc = auc(fpr, tpr)\n",
    "    plt.plot(fpr, tpr, label=f'ROC curve (AUC = {roc_auc:.2f})')\n",
    "    plt.plot([0, 1], [0, 1], 'k--') \n",
    "    plt.xlabel('False Positive Rate')\n",
    "    plt.ylabel('True Positive Rate')\n",
    "    plt.title(f'ROC Curve - Model ')\n",
    "    plt.legend(loc=\"lower right\")\n",
    "    plt.show()\n",
    "\n",
    "    # Precision-Recall曲線\n",
    "    precision_curve, recall_curve, pr_thresholds = precision_recall_curve(y_true, y_prob)\n",
    "    pr_auc = auc(recall_curve, precision_curve)\n",
    "    plt.plot(recall_curve, precision_curve, label=f'PR curve (AUC = {pr_auc:.2f})')\n",
    "    plt.xlabel('Recall')\n",
    "    plt.ylabel('Precision')\n",
    "    plt.title(f'Precision-Recall Curve ')\n",
    "    plt.legend(loc=\"lower left\")\n",
    "    plt.show()    "
   ]
  },
  {
   "cell_type": "code",
   "execution_count": 15,
   "metadata": {},
   "outputs": [],
   "source": [
    "# モデルと構造を保存\n",
    "torch.save(model.state_dict(), '../../saved_model/DNN_11.pth')\n",
    "\n"
   ]
  }
 ],
 "metadata": {
  "kernelspec": {
   "display_name": "torch",
   "language": "python",
   "name": "python3"
  },
  "language_info": {
   "codemirror_mode": {
    "name": "ipython",
    "version": 3
   },
   "file_extension": ".py",
   "mimetype": "text/x-python",
   "name": "python",
   "nbconvert_exporter": "python",
   "pygments_lexer": "ipython3",
   "version": "3.12.7"
  }
 },
 "nbformat": 4,
 "nbformat_minor": 2
}
