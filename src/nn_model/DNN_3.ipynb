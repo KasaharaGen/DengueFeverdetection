{
 "cells": [
  {
   "cell_type": "code",
   "execution_count": 35,
   "metadata": {},
   "outputs": [],
   "source": [
    "import numpy as np\n",
    "import pandas as pd\n",
    "import matplotlib.pyplot as plt\n",
    "import seaborn as sns\n",
    "\n",
    "import torch\n",
    "import torch.nn as nn\n",
    "import torch.optim as optim\n",
    "\n",
    "import optuna\n",
    "\n",
    "from sklearn.model_selection import train_test_split\n",
    "from sklearn.metrics import confusion_matrix,accuracy_score, precision_score, recall_score, f1_score, confusion_matrix, roc_curve, auc,matthews_corrcoef, precision_recall_curve,roc_auc_score\n",
    "\n"
   ]
  },
  {
   "cell_type": "markdown",
   "metadata": {},
   "source": [
    "データ読み取り"
   ]
  },
  {
   "cell_type": "code",
   "execution_count": 36,
   "metadata": {},
   "outputs": [],
   "source": [
    "df=pd.read_csv('../../data/learning_data.csv',index_col=0)\n",
    "\n",
    "X=df.drop(columns='dengue',axis=1).values\n",
    "y=df['dengue'].values\n",
    "\n",
    "X_train, X_test, y_train, y_test = train_test_split(X, y, test_size=0.2,random_state=42)\n",
    "X_train, X_val, y_train, y_val = train_test_split(X_train, y_train, test_size=0.1,random_state=42)\n",
    "\n",
    "#torchテンソルに変換\n",
    "X_train_tensor = torch.tensor(X_train, dtype=torch.float32)\n",
    "y_train_tensor = torch.tensor(y_train, dtype=torch.float32)\n",
    "X_test_tensor = torch.tensor(X_test, dtype=torch.float32)\n",
    "y_test_tensor = torch.tensor(y_test, dtype=torch.float32)\n",
    "X_val_tensor = torch.tensor(X_val, dtype=torch.float32)\n",
    "y_val_tensor = torch.tensor(y_val, dtype=torch.float32)\n"
   ]
  },
  {
   "cell_type": "code",
   "execution_count": 37,
   "metadata": {},
   "outputs": [],
   "source": [
    "class DNN_3(nn.Module):\n",
    "    def __init__(self, input_dim,dropout1,dropout2):\n",
    "        super(DNN_3, self).__init__()\n",
    "        self.layer1 = nn.Linear(input_dim,64)\n",
    "        self.layer2 = nn.Linear(64,32)\n",
    "        self.layer3 = nn.Linear(32, 16)\n",
    "        self.layer4 = nn.Linear(16, 8)\n",
    "        self.output_layer = nn.Linear(8, 1)\n",
    "\n",
    "        self.dropout1 = nn.Dropout(dropout1)\n",
    "        self.dropout2 = nn.Dropout(dropout2)        \n",
    "        \n",
    "    def forward(self, x):\n",
    "        x = torch.relu(self.layer1(x))\n",
    "        \n",
    "        x = torch.relu(self.layer2(x))\n",
    "        x = self.dropout1(x)\n",
    "\n",
    "        x = torch.relu(self.layer3(x))\n",
    "        x = self.dropout2(x)\n",
    "\n",
    "        x = torch.relu(self.layer4(x))\n",
    "    \n",
    "\n",
    "        x = torch.sigmoid(self.output_layer(x)) \n",
    "        return x\n",
    "    "
   ]
  },
  {
   "cell_type": "markdown",
   "metadata": {},
   "source": [
    "学習データセットの作成"
   ]
  },
  {
   "cell_type": "code",
   "execution_count": 38,
   "metadata": {},
   "outputs": [],
   "source": [
    "train_dataset = torch.utils.data.TensorDataset(X_train_tensor, y_train_tensor)\n",
    "train_loader = torch.utils.data.DataLoader(dataset=train_dataset, batch_size=4, shuffle=True)\n",
    "\n",
    "val_dataset = torch.utils.data.TensorDataset(X_val_tensor, y_val_tensor)\n",
    "val_loader = torch.utils.data.DataLoader(dataset=val_dataset, batch_size=4, shuffle=False)"
   ]
  },
  {
   "cell_type": "markdown",
   "metadata": {},
   "source": [
    "Optunaの設定"
   ]
  },
  {
   "cell_type": "code",
   "execution_count": 39,
   "metadata": {},
   "outputs": [],
   "source": [
    "def objective(trial):\n",
    "    # ハイパーパラメータのサンプリング\n",
    "    dropout1 = trial.suggest_float(\"dropout1\", 0, 0.5, step=0.05)\n",
    "    dropout2 = trial.suggest_float(\"dropout2\", 0, 0.5, step=0.05)\n",
    "    learning_rate = trial.suggest_loguniform(\"learning_rate\", 1e-5, 1e-2)  \n",
    "    weight_decay = trial.suggest_loguniform(\"weight_decay\", 1e-5, 1e-2)   \n",
    "\n",
    "    # モデル定義\n",
    "    model = DNN_3(\n",
    "        input_dim=X_train_tensor.shape[1],\n",
    "        dropout1=dropout1,\n",
    "        dropout2=dropout2,\n",
    "    ).to(device)\n",
    "\n",
    "    criterion = nn.BCELoss()\n",
    "    optimizer = torch.optim.Adam(model.parameters(), lr=learning_rate, weight_decay=weight_decay)\n",
    "\n",
    "    # Early Stoppingの設定\n",
    "    patience = 10\n",
    "    best_val_loss = float('inf')\n",
    "    patience_counter = 0\n",
    "\n",
    "    # 訓練ループ\n",
    "    num_epochs = 100\n",
    "    for epoch in range(num_epochs):\n",
    "        model.train()\n",
    "        for X_batch, y_batch in train_loader:\n",
    "            X_batch, y_batch = X_batch.to(device), y_batch.to(device)\n",
    "            optimizer.zero_grad()\n",
    "            outputs = model(X_batch).squeeze()\n",
    "            loss = criterion(outputs, y_batch.squeeze())\n",
    "            loss.backward()\n",
    "            optimizer.step()\n",
    "\n",
    "        # バリデーション評価\n",
    "        model.eval()\n",
    "        val_loss = 0\n",
    "        val_true, val_pred = [], []\n",
    "        with torch.no_grad():\n",
    "            for X_val, y_val in val_loader:\n",
    "                X_val, y_val = X_val.to(device), y_val.to(device)\n",
    "                val_outputs = model(X_val).squeeze()\n",
    "                val_loss += criterion(val_outputs, y_val.squeeze()).item()\n",
    "                predictions = (val_outputs >0.49).float()\n",
    "                val_true.extend(y_val.cpu().numpy())\n",
    "                val_pred.extend(predictions.cpu().numpy())\n",
    "\n",
    "        val_loss /= len(val_loader)\n",
    "\n",
    "        # Early Stopping判定\n",
    "        if val_loss < best_val_loss:\n",
    "            best_val_loss = val_loss\n",
    "            patience_counter = 0\n",
    "        else:\n",
    "            patience_counter += 1\n",
    "\n",
    "        if patience_counter >= patience:\n",
    "            print(f\"Early stopping at epoch {epoch}\")\n",
    "            break\n",
    "\n",
    "        # Optunaへのログ\n",
    "        trial.report(val_loss, epoch)\n",
    "        if trial.should_prune():\n",
    "            raise optuna.exceptions.TrialPruned()\n",
    "\n",
    "    # 最終的な評価指標を計算\n",
    "    mcc = matthews_corrcoef(val_true, val_pred)\n",
    "    print(f\"Final MCC: {mcc:.4f}\")\n",
    "\n",
    "    return mcc  # mccを返す\n"
   ]
  },
  {
   "cell_type": "code",
   "execution_count": 40,
   "metadata": {},
   "outputs": [
    {
     "name": "stderr",
     "output_type": "stream",
     "text": [
      "[I 2024-12-04 16:04:11,965] A new study created in memory with name: no-name-2635b803-31ac-4213-92a5-9231ca32dbae\n",
      "/tmp/ipykernel_184762/1986748386.py:5: FutureWarning: suggest_loguniform has been deprecated in v3.0.0. This feature will be removed in v6.0.0. See https://github.com/optuna/optuna/releases/tag/v3.0.0. Use suggest_float(..., log=True) instead.\n",
      "  learning_rate = trial.suggest_loguniform(\"learning_rate\", 1e-5, 1e-2)\n",
      "/tmp/ipykernel_184762/1986748386.py:6: FutureWarning: suggest_loguniform has been deprecated in v3.0.0. This feature will be removed in v6.0.0. See https://github.com/optuna/optuna/releases/tag/v3.0.0. Use suggest_float(..., log=True) instead.\n",
      "  weight_decay = trial.suggest_loguniform(\"weight_decay\", 1e-5, 1e-2)\n",
      "[I 2024-12-04 16:05:26,186] Trial 0 finished with value: 0.3182192318053801 and parameters: {'dropout1': 0.45, 'dropout2': 0.15000000000000002, 'learning_rate': 0.00033457854047588, 'weight_decay': 0.00023129692062114315}. Best is trial 0 with value: 0.3182192318053801.\n"
     ]
    },
    {
     "name": "stdout",
     "output_type": "stream",
     "text": [
      "Early stopping at epoch 23\n",
      "Final MCC: 0.3182\n"
     ]
    },
    {
     "name": "stderr",
     "output_type": "stream",
     "text": [
      "/tmp/ipykernel_184762/1986748386.py:5: FutureWarning: suggest_loguniform has been deprecated in v3.0.0. This feature will be removed in v6.0.0. See https://github.com/optuna/optuna/releases/tag/v3.0.0. Use suggest_float(..., log=True) instead.\n",
      "  learning_rate = trial.suggest_loguniform(\"learning_rate\", 1e-5, 1e-2)\n",
      "/tmp/ipykernel_184762/1986748386.py:6: FutureWarning: suggest_loguniform has been deprecated in v3.0.0. This feature will be removed in v6.0.0. See https://github.com/optuna/optuna/releases/tag/v3.0.0. Use suggest_float(..., log=True) instead.\n",
      "  weight_decay = trial.suggest_loguniform(\"weight_decay\", 1e-5, 1e-2)\n",
      "[I 2024-12-04 16:10:18,944] Trial 1 finished with value: 0.2060315014550851 and parameters: {'dropout1': 0.15000000000000002, 'dropout2': 0.30000000000000004, 'learning_rate': 2.191212495387219e-05, 'weight_decay': 0.0012962883608636081}. Best is trial 0 with value: 0.3182192318053801.\n"
     ]
    },
    {
     "name": "stdout",
     "output_type": "stream",
     "text": [
      "Final MCC: 0.2060\n"
     ]
    },
    {
     "name": "stderr",
     "output_type": "stream",
     "text": [
      "/tmp/ipykernel_184762/1986748386.py:5: FutureWarning: suggest_loguniform has been deprecated in v3.0.0. This feature will be removed in v6.0.0. See https://github.com/optuna/optuna/releases/tag/v3.0.0. Use suggest_float(..., log=True) instead.\n",
      "  learning_rate = trial.suggest_loguniform(\"learning_rate\", 1e-5, 1e-2)\n",
      "/tmp/ipykernel_184762/1986748386.py:6: FutureWarning: suggest_loguniform has been deprecated in v3.0.0. This feature will be removed in v6.0.0. See https://github.com/optuna/optuna/releases/tag/v3.0.0. Use suggest_float(..., log=True) instead.\n",
      "  weight_decay = trial.suggest_loguniform(\"weight_decay\", 1e-5, 1e-2)\n",
      "[I 2024-12-04 16:12:13,473] Trial 2 finished with value: 0.0 and parameters: {'dropout1': 0.2, 'dropout2': 0.05, 'learning_rate': 0.00018076366025473645, 'weight_decay': 0.008455287462488078}. Best is trial 0 with value: 0.3182192318053801.\n"
     ]
    },
    {
     "name": "stdout",
     "output_type": "stream",
     "text": [
      "Early stopping at epoch 38\n",
      "Final MCC: 0.0000\n"
     ]
    },
    {
     "name": "stderr",
     "output_type": "stream",
     "text": [
      "/tmp/ipykernel_184762/1986748386.py:5: FutureWarning: suggest_loguniform has been deprecated in v3.0.0. This feature will be removed in v6.0.0. See https://github.com/optuna/optuna/releases/tag/v3.0.0. Use suggest_float(..., log=True) instead.\n",
      "  learning_rate = trial.suggest_loguniform(\"learning_rate\", 1e-5, 1e-2)\n",
      "/tmp/ipykernel_184762/1986748386.py:6: FutureWarning: suggest_loguniform has been deprecated in v3.0.0. This feature will be removed in v6.0.0. See https://github.com/optuna/optuna/releases/tag/v3.0.0. Use suggest_float(..., log=True) instead.\n",
      "  weight_decay = trial.suggest_loguniform(\"weight_decay\", 1e-5, 1e-2)\n",
      "[I 2024-12-04 16:12:57,920] Trial 3 finished with value: 0.3225307463503984 and parameters: {'dropout1': 0.1, 'dropout2': 0.45, 'learning_rate': 0.0021747627634251883, 'weight_decay': 1.485648965485615e-05}. Best is trial 3 with value: 0.3225307463503984.\n"
     ]
    },
    {
     "name": "stdout",
     "output_type": "stream",
     "text": [
      "Early stopping at epoch 14\n",
      "Final MCC: 0.3225\n"
     ]
    },
    {
     "name": "stderr",
     "output_type": "stream",
     "text": [
      "/tmp/ipykernel_184762/1986748386.py:5: FutureWarning: suggest_loguniform has been deprecated in v3.0.0. This feature will be removed in v6.0.0. See https://github.com/optuna/optuna/releases/tag/v3.0.0. Use suggest_float(..., log=True) instead.\n",
      "  learning_rate = trial.suggest_loguniform(\"learning_rate\", 1e-5, 1e-2)\n",
      "/tmp/ipykernel_184762/1986748386.py:6: FutureWarning: suggest_loguniform has been deprecated in v3.0.0. This feature will be removed in v6.0.0. See https://github.com/optuna/optuna/releases/tag/v3.0.0. Use suggest_float(..., log=True) instead.\n",
      "  weight_decay = trial.suggest_loguniform(\"weight_decay\", 1e-5, 1e-2)\n",
      "[I 2024-12-04 16:15:04,263] Trial 4 finished with value: 0.2946096069503197 and parameters: {'dropout1': 0.2, 'dropout2': 0.05, 'learning_rate': 0.00022837554491179717, 'weight_decay': 0.0038625580952999306}. Best is trial 3 with value: 0.3225307463503984.\n"
     ]
    },
    {
     "name": "stdout",
     "output_type": "stream",
     "text": [
      "Early stopping at epoch 42\n",
      "Final MCC: 0.2946\n"
     ]
    },
    {
     "name": "stderr",
     "output_type": "stream",
     "text": [
      "/tmp/ipykernel_184762/1986748386.py:5: FutureWarning: suggest_loguniform has been deprecated in v3.0.0. This feature will be removed in v6.0.0. See https://github.com/optuna/optuna/releases/tag/v3.0.0. Use suggest_float(..., log=True) instead.\n",
      "  learning_rate = trial.suggest_loguniform(\"learning_rate\", 1e-5, 1e-2)\n",
      "/tmp/ipykernel_184762/1986748386.py:6: FutureWarning: suggest_loguniform has been deprecated in v3.0.0. This feature will be removed in v6.0.0. See https://github.com/optuna/optuna/releases/tag/v3.0.0. Use suggest_float(..., log=True) instead.\n",
      "  weight_decay = trial.suggest_loguniform(\"weight_decay\", 1e-5, 1e-2)\n",
      "[I 2024-12-04 16:15:07,201] Trial 5 pruned. \n",
      "[I 2024-12-04 16:16:37,118] Trial 6 finished with value: 0.29953928510069794 and parameters: {'dropout1': 0.35000000000000003, 'dropout2': 0.4, 'learning_rate': 0.00014109844212016801, 'weight_decay': 0.0061355540645161325}. Best is trial 3 with value: 0.3225307463503984.\n"
     ]
    },
    {
     "name": "stdout",
     "output_type": "stream",
     "text": [
      "Early stopping at epoch 30\n",
      "Final MCC: 0.2995\n"
     ]
    },
    {
     "name": "stderr",
     "output_type": "stream",
     "text": [
      "/tmp/ipykernel_184762/1986748386.py:5: FutureWarning: suggest_loguniform has been deprecated in v3.0.0. This feature will be removed in v6.0.0. See https://github.com/optuna/optuna/releases/tag/v3.0.0. Use suggest_float(..., log=True) instead.\n",
      "  learning_rate = trial.suggest_loguniform(\"learning_rate\", 1e-5, 1e-2)\n",
      "/tmp/ipykernel_184762/1986748386.py:6: FutureWarning: suggest_loguniform has been deprecated in v3.0.0. This feature will be removed in v6.0.0. See https://github.com/optuna/optuna/releases/tag/v3.0.0. Use suggest_float(..., log=True) instead.\n",
      "  weight_decay = trial.suggest_loguniform(\"weight_decay\", 1e-5, 1e-2)\n",
      "[I 2024-12-04 16:16:39,981] Trial 7 pruned. \n",
      "[I 2024-12-04 16:16:43,036] Trial 8 pruned. \n",
      "[I 2024-12-04 16:16:46,129] Trial 9 pruned. \n",
      "[I 2024-12-04 16:16:49,039] Trial 10 pruned. \n",
      "[I 2024-12-04 16:16:52,066] Trial 11 pruned. \n",
      "[I 2024-12-04 16:20:13,242] Trial 12 finished with value: 0.32011378178572664 and parameters: {'dropout1': 0.4, 'dropout2': 0.2, 'learning_rate': 4.629945662156884e-05, 'weight_decay': 1.5174232336765162e-05}. Best is trial 3 with value: 0.3225307463503984.\n"
     ]
    },
    {
     "name": "stdout",
     "output_type": "stream",
     "text": [
      "Early stopping at epoch 61\n",
      "Final MCC: 0.3201\n"
     ]
    },
    {
     "name": "stderr",
     "output_type": "stream",
     "text": [
      "/tmp/ipykernel_184762/1986748386.py:5: FutureWarning: suggest_loguniform has been deprecated in v3.0.0. This feature will be removed in v6.0.0. See https://github.com/optuna/optuna/releases/tag/v3.0.0. Use suggest_float(..., log=True) instead.\n",
      "  learning_rate = trial.suggest_loguniform(\"learning_rate\", 1e-5, 1e-2)\n",
      "/tmp/ipykernel_184762/1986748386.py:6: FutureWarning: suggest_loguniform has been deprecated in v3.0.0. This feature will be removed in v6.0.0. See https://github.com/optuna/optuna/releases/tag/v3.0.0. Use suggest_float(..., log=True) instead.\n",
      "  weight_decay = trial.suggest_loguniform(\"weight_decay\", 1e-5, 1e-2)\n",
      "[I 2024-12-04 16:25:55,299] Trial 13 finished with value: 0.29179414386485275 and parameters: {'dropout1': 0.4, 'dropout2': 0.2, 'learning_rate': 1.9111255608993644e-05, 'weight_decay': 1.0209233624993283e-05}. Best is trial 3 with value: 0.3225307463503984.\n"
     ]
    },
    {
     "name": "stdout",
     "output_type": "stream",
     "text": [
      "Final MCC: 0.2918\n"
     ]
    },
    {
     "name": "stderr",
     "output_type": "stream",
     "text": [
      "/tmp/ipykernel_184762/1986748386.py:5: FutureWarning: suggest_loguniform has been deprecated in v3.0.0. This feature will be removed in v6.0.0. See https://github.com/optuna/optuna/releases/tag/v3.0.0. Use suggest_float(..., log=True) instead.\n",
      "  learning_rate = trial.suggest_loguniform(\"learning_rate\", 1e-5, 1e-2)\n",
      "/tmp/ipykernel_184762/1986748386.py:6: FutureWarning: suggest_loguniform has been deprecated in v3.0.0. This feature will be removed in v6.0.0. See https://github.com/optuna/optuna/releases/tag/v3.0.0. Use suggest_float(..., log=True) instead.\n",
      "  weight_decay = trial.suggest_loguniform(\"weight_decay\", 1e-5, 1e-2)\n",
      "[I 2024-12-04 16:25:58,992] Trial 14 pruned. \n",
      "[I 2024-12-04 16:26:02,497] Trial 15 pruned. \n",
      "[I 2024-12-04 16:26:05,915] Trial 16 pruned. \n",
      "[I 2024-12-04 16:31:51,284] Trial 17 finished with value: 0.29072133077420836 and parameters: {'dropout1': 0.25, 'dropout2': 0.15000000000000002, 'learning_rate': 1.1295703795083482e-05, 'weight_decay': 6.71819778635499e-05}. Best is trial 3 with value: 0.3225307463503984.\n"
     ]
    },
    {
     "name": "stdout",
     "output_type": "stream",
     "text": [
      "Final MCC: 0.2907\n"
     ]
    },
    {
     "name": "stderr",
     "output_type": "stream",
     "text": [
      "/tmp/ipykernel_184762/1986748386.py:5: FutureWarning: suggest_loguniform has been deprecated in v3.0.0. This feature will be removed in v6.0.0. See https://github.com/optuna/optuna/releases/tag/v3.0.0. Use suggest_float(..., log=True) instead.\n",
      "  learning_rate = trial.suggest_loguniform(\"learning_rate\", 1e-5, 1e-2)\n",
      "/tmp/ipykernel_184762/1986748386.py:6: FutureWarning: suggest_loguniform has been deprecated in v3.0.0. This feature will be removed in v6.0.0. See https://github.com/optuna/optuna/releases/tag/v3.0.0. Use suggest_float(..., log=True) instead.\n",
      "  weight_decay = trial.suggest_loguniform(\"weight_decay\", 1e-5, 1e-2)\n",
      "[I 2024-12-04 16:35:11,508] Trial 18 finished with value: 0.2794701954183135 and parameters: {'dropout1': 0.4, 'dropout2': 0.25, 'learning_rate': 6.564720642103882e-05, 'weight_decay': 2.722060522870199e-05}. Best is trial 3 with value: 0.3225307463503984.\n"
     ]
    },
    {
     "name": "stdout",
     "output_type": "stream",
     "text": [
      "Early stopping at epoch 55\n",
      "Final MCC: 0.2795\n"
     ]
    },
    {
     "name": "stderr",
     "output_type": "stream",
     "text": [
      "/tmp/ipykernel_184762/1986748386.py:5: FutureWarning: suggest_loguniform has been deprecated in v3.0.0. This feature will be removed in v6.0.0. See https://github.com/optuna/optuna/releases/tag/v3.0.0. Use suggest_float(..., log=True) instead.\n",
      "  learning_rate = trial.suggest_loguniform(\"learning_rate\", 1e-5, 1e-2)\n",
      "/tmp/ipykernel_184762/1986748386.py:6: FutureWarning: suggest_loguniform has been deprecated in v3.0.0. This feature will be removed in v6.0.0. See https://github.com/optuna/optuna/releases/tag/v3.0.0. Use suggest_float(..., log=True) instead.\n",
      "  weight_decay = trial.suggest_loguniform(\"weight_decay\", 1e-5, 1e-2)\n",
      "[I 2024-12-04 16:35:15,187] Trial 19 pruned. \n",
      "[I 2024-12-04 16:35:18,736] Trial 20 pruned. \n",
      "[I 2024-12-04 16:35:22,339] Trial 21 pruned. \n",
      "[I 2024-12-04 16:41:06,923] Trial 22 finished with value: 0.2533301124386585 and parameters: {'dropout1': 0.4, 'dropout2': 0.15000000000000002, 'learning_rate': 4.001983908488305e-05, 'weight_decay': 2.37066322431618e-05}. Best is trial 3 with value: 0.3225307463503984.\n"
     ]
    },
    {
     "name": "stdout",
     "output_type": "stream",
     "text": [
      "Early stopping at epoch 92\n",
      "Final MCC: 0.2533\n"
     ]
    },
    {
     "name": "stderr",
     "output_type": "stream",
     "text": [
      "/tmp/ipykernel_184762/1986748386.py:5: FutureWarning: suggest_loguniform has been deprecated in v3.0.0. This feature will be removed in v6.0.0. See https://github.com/optuna/optuna/releases/tag/v3.0.0. Use suggest_float(..., log=True) instead.\n",
      "  learning_rate = trial.suggest_loguniform(\"learning_rate\", 1e-5, 1e-2)\n",
      "/tmp/ipykernel_184762/1986748386.py:6: FutureWarning: suggest_loguniform has been deprecated in v3.0.0. This feature will be removed in v6.0.0. See https://github.com/optuna/optuna/releases/tag/v3.0.0. Use suggest_float(..., log=True) instead.\n",
      "  weight_decay = trial.suggest_loguniform(\"weight_decay\", 1e-5, 1e-2)\n",
      "[I 2024-12-04 16:41:10,590] Trial 23 pruned. \n",
      "[I 2024-12-04 16:45:17,290] Trial 24 finished with value: 0.26188819293175597 and parameters: {'dropout1': 0.45, 'dropout2': 0.1, 'learning_rate': 0.00011261444629921727, 'weight_decay': 0.00024745528884426605}. Best is trial 3 with value: 0.3225307463503984.\n"
     ]
    },
    {
     "name": "stdout",
     "output_type": "stream",
     "text": [
      "Early stopping at epoch 66\n",
      "Final MCC: 0.2619\n"
     ]
    },
    {
     "name": "stderr",
     "output_type": "stream",
     "text": [
      "/tmp/ipykernel_184762/1986748386.py:5: FutureWarning: suggest_loguniform has been deprecated in v3.0.0. This feature will be removed in v6.0.0. See https://github.com/optuna/optuna/releases/tag/v3.0.0. Use suggest_float(..., log=True) instead.\n",
      "  learning_rate = trial.suggest_loguniform(\"learning_rate\", 1e-5, 1e-2)\n",
      "/tmp/ipykernel_184762/1986748386.py:6: FutureWarning: suggest_loguniform has been deprecated in v3.0.0. This feature will be removed in v6.0.0. See https://github.com/optuna/optuna/releases/tag/v3.0.0. Use suggest_float(..., log=True) instead.\n",
      "  weight_decay = trial.suggest_loguniform(\"weight_decay\", 1e-5, 1e-2)\n",
      "[I 2024-12-04 16:45:21,009] Trial 25 pruned. \n",
      "[I 2024-12-04 16:45:24,652] Trial 26 pruned. \n",
      "[I 2024-12-04 16:45:28,356] Trial 27 pruned. \n",
      "[I 2024-12-04 16:45:32,047] Trial 28 pruned. \n",
      "[I 2024-12-04 16:51:39,709] Trial 29 finished with value: 0.25584916655270923 and parameters: {'dropout1': 0.2, 'dropout2': 0.30000000000000004, 'learning_rate': 3.332768571437782e-05, 'weight_decay': 0.003650991292660567}. Best is trial 3 with value: 0.3225307463503984.\n"
     ]
    },
    {
     "name": "stdout",
     "output_type": "stream",
     "text": [
      "Final MCC: 0.2558\n"
     ]
    },
    {
     "name": "stderr",
     "output_type": "stream",
     "text": [
      "/tmp/ipykernel_184762/1986748386.py:5: FutureWarning: suggest_loguniform has been deprecated in v3.0.0. This feature will be removed in v6.0.0. See https://github.com/optuna/optuna/releases/tag/v3.0.0. Use suggest_float(..., log=True) instead.\n",
      "  learning_rate = trial.suggest_loguniform(\"learning_rate\", 1e-5, 1e-2)\n",
      "/tmp/ipykernel_184762/1986748386.py:6: FutureWarning: suggest_loguniform has been deprecated in v3.0.0. This feature will be removed in v6.0.0. See https://github.com/optuna/optuna/releases/tag/v3.0.0. Use suggest_float(..., log=True) instead.\n",
      "  weight_decay = trial.suggest_loguniform(\"weight_decay\", 1e-5, 1e-2)\n",
      "[I 2024-12-04 16:57:56,884] Trial 30 finished with value: 0.3007160357898652 and parameters: {'dropout1': 0.1, 'dropout2': 0.45, 'learning_rate': 1.8480150510007705e-05, 'weight_decay': 0.0012639641743883978}. Best is trial 3 with value: 0.3225307463503984.\n"
     ]
    },
    {
     "name": "stdout",
     "output_type": "stream",
     "text": [
      "Final MCC: 0.3007\n"
     ]
    },
    {
     "name": "stderr",
     "output_type": "stream",
     "text": [
      "/tmp/ipykernel_184762/1986748386.py:5: FutureWarning: suggest_loguniform has been deprecated in v3.0.0. This feature will be removed in v6.0.0. See https://github.com/optuna/optuna/releases/tag/v3.0.0. Use suggest_float(..., log=True) instead.\n",
      "  learning_rate = trial.suggest_loguniform(\"learning_rate\", 1e-5, 1e-2)\n",
      "/tmp/ipykernel_184762/1986748386.py:6: FutureWarning: suggest_loguniform has been deprecated in v3.0.0. This feature will be removed in v6.0.0. See https://github.com/optuna/optuna/releases/tag/v3.0.0. Use suggest_float(..., log=True) instead.\n",
      "  weight_decay = trial.suggest_loguniform(\"weight_decay\", 1e-5, 1e-2)\n",
      "[I 2024-12-04 17:04:13,767] Trial 31 finished with value: 0.27577807836267526 and parameters: {'dropout1': 0.1, 'dropout2': 0.45, 'learning_rate': 2.1205170194525317e-05, 'weight_decay': 0.001471957013555045}. Best is trial 3 with value: 0.3225307463503984.\n"
     ]
    },
    {
     "name": "stdout",
     "output_type": "stream",
     "text": [
      "Final MCC: 0.2758\n"
     ]
    },
    {
     "name": "stderr",
     "output_type": "stream",
     "text": [
      "/tmp/ipykernel_184762/1986748386.py:5: FutureWarning: suggest_loguniform has been deprecated in v3.0.0. This feature will be removed in v6.0.0. See https://github.com/optuna/optuna/releases/tag/v3.0.0. Use suggest_float(..., log=True) instead.\n",
      "  learning_rate = trial.suggest_loguniform(\"learning_rate\", 1e-5, 1e-2)\n",
      "/tmp/ipykernel_184762/1986748386.py:6: FutureWarning: suggest_loguniform has been deprecated in v3.0.0. This feature will be removed in v6.0.0. See https://github.com/optuna/optuna/releases/tag/v3.0.0. Use suggest_float(..., log=True) instead.\n",
      "  weight_decay = trial.suggest_loguniform(\"weight_decay\", 1e-5, 1e-2)\n",
      "[I 2024-12-04 17:10:23,818] Trial 32 finished with value: 0.2950773086964557 and parameters: {'dropout1': 0.15000000000000002, 'dropout2': 0.45, 'learning_rate': 1.5315910537073086e-05, 'weight_decay': 0.0009830473159720822}. Best is trial 3 with value: 0.3225307463503984.\n"
     ]
    },
    {
     "name": "stdout",
     "output_type": "stream",
     "text": [
      "Final MCC: 0.2951\n"
     ]
    },
    {
     "name": "stderr",
     "output_type": "stream",
     "text": [
      "/tmp/ipykernel_184762/1986748386.py:5: FutureWarning: suggest_loguniform has been deprecated in v3.0.0. This feature will be removed in v6.0.0. See https://github.com/optuna/optuna/releases/tag/v3.0.0. Use suggest_float(..., log=True) instead.\n",
      "  learning_rate = trial.suggest_loguniform(\"learning_rate\", 1e-5, 1e-2)\n",
      "/tmp/ipykernel_184762/1986748386.py:6: FutureWarning: suggest_loguniform has been deprecated in v3.0.0. This feature will be removed in v6.0.0. See https://github.com/optuna/optuna/releases/tag/v3.0.0. Use suggest_float(..., log=True) instead.\n",
      "  weight_decay = trial.suggest_loguniform(\"weight_decay\", 1e-5, 1e-2)\n",
      "[I 2024-12-04 17:14:39,172] Trial 33 finished with value: 0.2625670295256485 and parameters: {'dropout1': 0.1, 'dropout2': 0.4, 'learning_rate': 3.5019289971376674e-05, 'weight_decay': 0.0025559226375860855}. Best is trial 3 with value: 0.3225307463503984.\n"
     ]
    },
    {
     "name": "stdout",
     "output_type": "stream",
     "text": [
      "Early stopping at epoch 73\n",
      "Final MCC: 0.2626\n"
     ]
    },
    {
     "name": "stderr",
     "output_type": "stream",
     "text": [
      "/tmp/ipykernel_184762/1986748386.py:5: FutureWarning: suggest_loguniform has been deprecated in v3.0.0. This feature will be removed in v6.0.0. See https://github.com/optuna/optuna/releases/tag/v3.0.0. Use suggest_float(..., log=True) instead.\n",
      "  learning_rate = trial.suggest_loguniform(\"learning_rate\", 1e-5, 1e-2)\n",
      "/tmp/ipykernel_184762/1986748386.py:6: FutureWarning: suggest_loguniform has been deprecated in v3.0.0. This feature will be removed in v6.0.0. See https://github.com/optuna/optuna/releases/tag/v3.0.0. Use suggest_float(..., log=True) instead.\n",
      "  weight_decay = trial.suggest_loguniform(\"weight_decay\", 1e-5, 1e-2)\n",
      "[I 2024-12-04 17:17:59,592] Trial 34 finished with value: 0.2700374834546613 and parameters: {'dropout1': 0.05, 'dropout2': 0.35000000000000003, 'learning_rate': 1.1977842019567504e-05, 'weight_decay': 0.0006049462465347267}. Best is trial 3 with value: 0.3225307463503984.\n"
     ]
    },
    {
     "name": "stdout",
     "output_type": "stream",
     "text": [
      "Early stopping at epoch 63\n",
      "Final MCC: 0.2700\n"
     ]
    },
    {
     "name": "stderr",
     "output_type": "stream",
     "text": [
      "/tmp/ipykernel_184762/1986748386.py:5: FutureWarning: suggest_loguniform has been deprecated in v3.0.0. This feature will be removed in v6.0.0. See https://github.com/optuna/optuna/releases/tag/v3.0.0. Use suggest_float(..., log=True) instead.\n",
      "  learning_rate = trial.suggest_loguniform(\"learning_rate\", 1e-5, 1e-2)\n",
      "/tmp/ipykernel_184762/1986748386.py:6: FutureWarning: suggest_loguniform has been deprecated in v3.0.0. This feature will be removed in v6.0.0. See https://github.com/optuna/optuna/releases/tag/v3.0.0. Use suggest_float(..., log=True) instead.\n",
      "  weight_decay = trial.suggest_loguniform(\"weight_decay\", 1e-5, 1e-2)\n",
      "[I 2024-12-04 17:18:02,742] Trial 35 pruned. \n",
      "[I 2024-12-04 17:18:05,891] Trial 36 pruned. \n",
      "[I 2024-12-04 17:18:09,052] Trial 37 pruned. \n",
      "[I 2024-12-04 17:18:12,254] Trial 38 pruned. \n",
      "[I 2024-12-04 17:18:15,373] Trial 39 pruned. \n",
      "[I 2024-12-04 17:18:18,510] Trial 40 pruned. \n",
      "[I 2024-12-04 17:18:21,646] Trial 41 pruned. \n",
      "[I 2024-12-04 17:22:51,410] Trial 42 finished with value: 0.29953928510069794 and parameters: {'dropout1': 0.4, 'dropout2': 0.5, 'learning_rate': 5.655132577136583e-05, 'weight_decay': 0.0054152047423389575}. Best is trial 3 with value: 0.3225307463503984.\n"
     ]
    },
    {
     "name": "stdout",
     "output_type": "stream",
     "text": [
      "Early stopping at epoch 85\n",
      "Final MCC: 0.2995\n"
     ]
    },
    {
     "name": "stderr",
     "output_type": "stream",
     "text": [
      "/tmp/ipykernel_184762/1986748386.py:5: FutureWarning: suggest_loguniform has been deprecated in v3.0.0. This feature will be removed in v6.0.0. See https://github.com/optuna/optuna/releases/tag/v3.0.0. Use suggest_float(..., log=True) instead.\n",
      "  learning_rate = trial.suggest_loguniform(\"learning_rate\", 1e-5, 1e-2)\n",
      "/tmp/ipykernel_184762/1986748386.py:6: FutureWarning: suggest_loguniform has been deprecated in v3.0.0. This feature will be removed in v6.0.0. See https://github.com/optuna/optuna/releases/tag/v3.0.0. Use suggest_float(..., log=True) instead.\n",
      "  weight_decay = trial.suggest_loguniform(\"weight_decay\", 1e-5, 1e-2)\n",
      "[I 2024-12-04 17:22:54,530] Trial 43 pruned. \n",
      "[I 2024-12-04 17:28:07,952] Trial 44 finished with value: 0.21844938468098757 and parameters: {'dropout1': 0.35000000000000003, 'dropout2': 0.4, 'learning_rate': 7.355952931411499e-05, 'weight_decay': 0.006084297419367744}. Best is trial 3 with value: 0.3225307463503984.\n"
     ]
    },
    {
     "name": "stdout",
     "output_type": "stream",
     "text": [
      "Final MCC: 0.2184\n"
     ]
    },
    {
     "name": "stderr",
     "output_type": "stream",
     "text": [
      "/tmp/ipykernel_184762/1986748386.py:5: FutureWarning: suggest_loguniform has been deprecated in v3.0.0. This feature will be removed in v6.0.0. See https://github.com/optuna/optuna/releases/tag/v3.0.0. Use suggest_float(..., log=True) instead.\n",
      "  learning_rate = trial.suggest_loguniform(\"learning_rate\", 1e-5, 1e-2)\n",
      "/tmp/ipykernel_184762/1986748386.py:6: FutureWarning: suggest_loguniform has been deprecated in v3.0.0. This feature will be removed in v6.0.0. See https://github.com/optuna/optuna/releases/tag/v3.0.0. Use suggest_float(..., log=True) instead.\n",
      "  weight_decay = trial.suggest_loguniform(\"weight_decay\", 1e-5, 1e-2)\n",
      "[I 2024-12-04 17:28:11,201] Trial 45 pruned. \n",
      "[I 2024-12-04 17:28:14,408] Trial 46 pruned. \n",
      "[I 2024-12-04 17:33:29,723] Trial 47 finished with value: 0.2794701954183135 and parameters: {'dropout1': 0.4, 'dropout2': 0.35000000000000003, 'learning_rate': 1.6786327108465712e-05, 'weight_decay': 1.0081143056111484e-05}. Best is trial 3 with value: 0.3225307463503984.\n"
     ]
    },
    {
     "name": "stdout",
     "output_type": "stream",
     "text": [
      "Final MCC: 0.2795\n"
     ]
    },
    {
     "name": "stderr",
     "output_type": "stream",
     "text": [
      "/tmp/ipykernel_184762/1986748386.py:5: FutureWarning: suggest_loguniform has been deprecated in v3.0.0. This feature will be removed in v6.0.0. See https://github.com/optuna/optuna/releases/tag/v3.0.0. Use suggest_float(..., log=True) instead.\n",
      "  learning_rate = trial.suggest_loguniform(\"learning_rate\", 1e-5, 1e-2)\n",
      "/tmp/ipykernel_184762/1986748386.py:6: FutureWarning: suggest_loguniform has been deprecated in v3.0.0. This feature will be removed in v6.0.0. See https://github.com/optuna/optuna/releases/tag/v3.0.0. Use suggest_float(..., log=True) instead.\n",
      "  weight_decay = trial.suggest_loguniform(\"weight_decay\", 1e-5, 1e-2)\n",
      "[I 2024-12-04 17:33:32,708] Trial 48 pruned. \n",
      "[I 2024-12-04 17:33:35,664] Trial 49 pruned. \n",
      "[I 2024-12-04 17:33:38,641] Trial 50 pruned. \n",
      "[I 2024-12-04 17:33:41,637] Trial 51 pruned. \n",
      "[I 2024-12-04 17:33:44,598] Trial 52 pruned. \n",
      "[I 2024-12-04 17:33:47,561] Trial 53 pruned. \n",
      "[I 2024-12-04 17:33:50,546] Trial 54 pruned. \n",
      "[I 2024-12-04 17:33:53,540] Trial 55 pruned. \n",
      "[I 2024-12-04 17:38:43,486] Trial 56 finished with value: 0.2829478078490887 and parameters: {'dropout1': 0.35000000000000003, 'dropout2': 0.2, 'learning_rate': 2.641729444960551e-05, 'weight_decay': 0.002051911495570076}. Best is trial 3 with value: 0.3225307463503984.\n"
     ]
    },
    {
     "name": "stdout",
     "output_type": "stream",
     "text": [
      "Final MCC: 0.2829\n"
     ]
    },
    {
     "name": "stderr",
     "output_type": "stream",
     "text": [
      "/tmp/ipykernel_184762/1986748386.py:5: FutureWarning: suggest_loguniform has been deprecated in v3.0.0. This feature will be removed in v6.0.0. See https://github.com/optuna/optuna/releases/tag/v3.0.0. Use suggest_float(..., log=True) instead.\n",
      "  learning_rate = trial.suggest_loguniform(\"learning_rate\", 1e-5, 1e-2)\n",
      "/tmp/ipykernel_184762/1986748386.py:6: FutureWarning: suggest_loguniform has been deprecated in v3.0.0. This feature will be removed in v6.0.0. See https://github.com/optuna/optuna/releases/tag/v3.0.0. Use suggest_float(..., log=True) instead.\n",
      "  weight_decay = trial.suggest_loguniform(\"weight_decay\", 1e-5, 1e-2)\n",
      "[I 2024-12-04 17:38:46,410] Trial 57 pruned. \n",
      "[I 2024-12-04 17:38:49,376] Trial 58 pruned. \n",
      "[I 2024-12-04 17:38:52,363] Trial 59 pruned. \n",
      "[I 2024-12-04 17:38:55,278] Trial 60 pruned. \n",
      "[I 2024-12-04 17:43:47,417] Trial 61 finished with value: 0.3414512274193722 and parameters: {'dropout1': 0.15000000000000002, 'dropout2': 0.45, 'learning_rate': 1.6494515741839035e-05, 'weight_decay': 0.0011345078775624638}. Best is trial 61 with value: 0.3414512274193722.\n"
     ]
    },
    {
     "name": "stdout",
     "output_type": "stream",
     "text": [
      "Final MCC: 0.3415\n"
     ]
    },
    {
     "name": "stderr",
     "output_type": "stream",
     "text": [
      "/tmp/ipykernel_184762/1986748386.py:5: FutureWarning: suggest_loguniform has been deprecated in v3.0.0. This feature will be removed in v6.0.0. See https://github.com/optuna/optuna/releases/tag/v3.0.0. Use suggest_float(..., log=True) instead.\n",
      "  learning_rate = trial.suggest_loguniform(\"learning_rate\", 1e-5, 1e-2)\n",
      "/tmp/ipykernel_184762/1986748386.py:6: FutureWarning: suggest_loguniform has been deprecated in v3.0.0. This feature will be removed in v6.0.0. See https://github.com/optuna/optuna/releases/tag/v3.0.0. Use suggest_float(..., log=True) instead.\n",
      "  weight_decay = trial.suggest_loguniform(\"weight_decay\", 1e-5, 1e-2)\n",
      "[I 2024-12-04 17:48:32,731] Trial 62 finished with value: 0.30841110709753766 and parameters: {'dropout1': 0.1, 'dropout2': 0.45, 'learning_rate': 1.5146112990600238e-05, 'weight_decay': 0.00032129026126845745}. Best is trial 61 with value: 0.3414512274193722.\n"
     ]
    },
    {
     "name": "stdout",
     "output_type": "stream",
     "text": [
      "Final MCC: 0.3084\n"
     ]
    },
    {
     "name": "stderr",
     "output_type": "stream",
     "text": [
      "/tmp/ipykernel_184762/1986748386.py:5: FutureWarning: suggest_loguniform has been deprecated in v3.0.0. This feature will be removed in v6.0.0. See https://github.com/optuna/optuna/releases/tag/v3.0.0. Use suggest_float(..., log=True) instead.\n",
      "  learning_rate = trial.suggest_loguniform(\"learning_rate\", 1e-5, 1e-2)\n",
      "/tmp/ipykernel_184762/1986748386.py:6: FutureWarning: suggest_loguniform has been deprecated in v3.0.0. This feature will be removed in v6.0.0. See https://github.com/optuna/optuna/releases/tag/v3.0.0. Use suggest_float(..., log=True) instead.\n",
      "  weight_decay = trial.suggest_loguniform(\"weight_decay\", 1e-5, 1e-2)\n",
      "[I 2024-12-04 17:48:35,606] Trial 63 pruned. \n",
      "[I 2024-12-04 17:48:38,452] Trial 64 pruned. \n",
      "[I 2024-12-04 17:53:24,382] Trial 65 finished with value: 0.3039196044750189 and parameters: {'dropout1': 0.05, 'dropout2': 0.15000000000000002, 'learning_rate': 1.291450711196442e-05, 'weight_decay': 0.00021649926022041085}. Best is trial 61 with value: 0.3414512274193722.\n"
     ]
    },
    {
     "name": "stdout",
     "output_type": "stream",
     "text": [
      "Final MCC: 0.3039\n"
     ]
    },
    {
     "name": "stderr",
     "output_type": "stream",
     "text": [
      "/tmp/ipykernel_184762/1986748386.py:5: FutureWarning: suggest_loguniform has been deprecated in v3.0.0. This feature will be removed in v6.0.0. See https://github.com/optuna/optuna/releases/tag/v3.0.0. Use suggest_float(..., log=True) instead.\n",
      "  learning_rate = trial.suggest_loguniform(\"learning_rate\", 1e-5, 1e-2)\n",
      "/tmp/ipykernel_184762/1986748386.py:6: FutureWarning: suggest_loguniform has been deprecated in v3.0.0. This feature will be removed in v6.0.0. See https://github.com/optuna/optuna/releases/tag/v3.0.0. Use suggest_float(..., log=True) instead.\n",
      "  weight_decay = trial.suggest_loguniform(\"weight_decay\", 1e-5, 1e-2)\n",
      "[I 2024-12-04 17:53:27,333] Trial 66 pruned. \n",
      "[I 2024-12-04 17:53:30,293] Trial 67 pruned. \n",
      "[I 2024-12-04 17:58:18,632] Trial 68 finished with value: 0.29818767909364446 and parameters: {'dropout1': 0.05, 'dropout2': 0.2, 'learning_rate': 1.817359351871009e-05, 'weight_decay': 0.0003699042992643097}. Best is trial 61 with value: 0.3414512274193722.\n"
     ]
    },
    {
     "name": "stdout",
     "output_type": "stream",
     "text": [
      "Final MCC: 0.2982\n"
     ]
    },
    {
     "name": "stderr",
     "output_type": "stream",
     "text": [
      "/tmp/ipykernel_184762/1986748386.py:5: FutureWarning: suggest_loguniform has been deprecated in v3.0.0. This feature will be removed in v6.0.0. See https://github.com/optuna/optuna/releases/tag/v3.0.0. Use suggest_float(..., log=True) instead.\n",
      "  learning_rate = trial.suggest_loguniform(\"learning_rate\", 1e-5, 1e-2)\n",
      "/tmp/ipykernel_184762/1986748386.py:6: FutureWarning: suggest_loguniform has been deprecated in v3.0.0. This feature will be removed in v6.0.0. See https://github.com/optuna/optuna/releases/tag/v3.0.0. Use suggest_float(..., log=True) instead.\n",
      "  weight_decay = trial.suggest_loguniform(\"weight_decay\", 1e-5, 1e-2)\n",
      "[I 2024-12-04 17:58:21,625] Trial 69 pruned. \n",
      "[I 2024-12-04 17:58:24,664] Trial 70 pruned. \n",
      "[I 2024-12-04 18:03:15,770] Trial 71 finished with value: 0.3096953390976785 and parameters: {'dropout1': 0.15000000000000002, 'dropout2': 0.15000000000000002, 'learning_rate': 2.0484292570916115e-05, 'weight_decay': 0.0005892352845956612}. Best is trial 61 with value: 0.3414512274193722.\n"
     ]
    },
    {
     "name": "stdout",
     "output_type": "stream",
     "text": [
      "Final MCC: 0.3097\n"
     ]
    },
    {
     "name": "stderr",
     "output_type": "stream",
     "text": [
      "/tmp/ipykernel_184762/1986748386.py:5: FutureWarning: suggest_loguniform has been deprecated in v3.0.0. This feature will be removed in v6.0.0. See https://github.com/optuna/optuna/releases/tag/v3.0.0. Use suggest_float(..., log=True) instead.\n",
      "  learning_rate = trial.suggest_loguniform(\"learning_rate\", 1e-5, 1e-2)\n",
      "/tmp/ipykernel_184762/1986748386.py:6: FutureWarning: suggest_loguniform has been deprecated in v3.0.0. This feature will be removed in v6.0.0. See https://github.com/optuna/optuna/releases/tag/v3.0.0. Use suggest_float(..., log=True) instead.\n",
      "  weight_decay = trial.suggest_loguniform(\"weight_decay\", 1e-5, 1e-2)\n",
      "[I 2024-12-04 18:08:11,654] Trial 72 finished with value: 0.26658610062051746 and parameters: {'dropout1': 0.15000000000000002, 'dropout2': 0.15000000000000002, 'learning_rate': 2.2338548419111788e-05, 'weight_decay': 0.0007821312100368639}. Best is trial 61 with value: 0.3414512274193722.\n"
     ]
    },
    {
     "name": "stdout",
     "output_type": "stream",
     "text": [
      "Final MCC: 0.2666\n"
     ]
    },
    {
     "name": "stderr",
     "output_type": "stream",
     "text": [
      "/tmp/ipykernel_184762/1986748386.py:5: FutureWarning: suggest_loguniform has been deprecated in v3.0.0. This feature will be removed in v6.0.0. See https://github.com/optuna/optuna/releases/tag/v3.0.0. Use suggest_float(..., log=True) instead.\n",
      "  learning_rate = trial.suggest_loguniform(\"learning_rate\", 1e-5, 1e-2)\n",
      "/tmp/ipykernel_184762/1986748386.py:6: FutureWarning: suggest_loguniform has been deprecated in v3.0.0. This feature will be removed in v6.0.0. See https://github.com/optuna/optuna/releases/tag/v3.0.0. Use suggest_float(..., log=True) instead.\n",
      "  weight_decay = trial.suggest_loguniform(\"weight_decay\", 1e-5, 1e-2)\n",
      "[I 2024-12-04 18:08:13,575] Trial 73 pruned. \n",
      "[I 2024-12-04 18:08:16,717] Trial 74 pruned. \n",
      "[I 2024-12-04 18:13:10,838] Trial 75 finished with value: 0.2813122423713662 and parameters: {'dropout1': 0.15000000000000002, 'dropout2': 0.1, 'learning_rate': 2.4243229396831556e-05, 'weight_decay': 0.0009576455098955212}. Best is trial 61 with value: 0.3414512274193722.\n"
     ]
    },
    {
     "name": "stdout",
     "output_type": "stream",
     "text": [
      "Final MCC: 0.2813\n"
     ]
    },
    {
     "name": "stderr",
     "output_type": "stream",
     "text": [
      "/tmp/ipykernel_184762/1986748386.py:5: FutureWarning: suggest_loguniform has been deprecated in v3.0.0. This feature will be removed in v6.0.0. See https://github.com/optuna/optuna/releases/tag/v3.0.0. Use suggest_float(..., log=True) instead.\n",
      "  learning_rate = trial.suggest_loguniform(\"learning_rate\", 1e-5, 1e-2)\n",
      "/tmp/ipykernel_184762/1986748386.py:6: FutureWarning: suggest_loguniform has been deprecated in v3.0.0. This feature will be removed in v6.0.0. See https://github.com/optuna/optuna/releases/tag/v3.0.0. Use suggest_float(..., log=True) instead.\n",
      "  weight_decay = trial.suggest_loguniform(\"weight_decay\", 1e-5, 1e-2)\n",
      "[I 2024-12-04 18:13:13,752] Trial 76 pruned. \n",
      "[I 2024-12-04 18:13:17,289] Trial 77 pruned. \n",
      "[I 2024-12-04 18:18:14,212] Trial 78 finished with value: 0.26601544563207774 and parameters: {'dropout1': 0.0, 'dropout2': 0.05, 'learning_rate': 1.2366653253821848e-05, 'weight_decay': 0.0002172786283488735}. Best is trial 61 with value: 0.3414512274193722.\n"
     ]
    },
    {
     "name": "stdout",
     "output_type": "stream",
     "text": [
      "Final MCC: 0.2660\n"
     ]
    },
    {
     "name": "stderr",
     "output_type": "stream",
     "text": [
      "/tmp/ipykernel_184762/1986748386.py:5: FutureWarning: suggest_loguniform has been deprecated in v3.0.0. This feature will be removed in v6.0.0. See https://github.com/optuna/optuna/releases/tag/v3.0.0. Use suggest_float(..., log=True) instead.\n",
      "  learning_rate = trial.suggest_loguniform(\"learning_rate\", 1e-5, 1e-2)\n",
      "/tmp/ipykernel_184762/1986748386.py:6: FutureWarning: suggest_loguniform has been deprecated in v3.0.0. This feature will be removed in v6.0.0. See https://github.com/optuna/optuna/releases/tag/v3.0.0. Use suggest_float(..., log=True) instead.\n",
      "  weight_decay = trial.suggest_loguniform(\"weight_decay\", 1e-5, 1e-2)\n",
      "[I 2024-12-04 18:18:17,102] Trial 79 pruned. \n",
      "[I 2024-12-04 18:23:28,264] Trial 80 finished with value: 0.25977369097462455 and parameters: {'dropout1': 0.2, 'dropout2': 0.2, 'learning_rate': 2.8556287479910414e-05, 'weight_decay': 0.0015028098148901728}. Best is trial 61 with value: 0.3414512274193722.\n"
     ]
    },
    {
     "name": "stdout",
     "output_type": "stream",
     "text": [
      "Final MCC: 0.2598\n"
     ]
    },
    {
     "name": "stderr",
     "output_type": "stream",
     "text": [
      "/tmp/ipykernel_184762/1986748386.py:5: FutureWarning: suggest_loguniform has been deprecated in v3.0.0. This feature will be removed in v6.0.0. See https://github.com/optuna/optuna/releases/tag/v3.0.0. Use suggest_float(..., log=True) instead.\n",
      "  learning_rate = trial.suggest_loguniform(\"learning_rate\", 1e-5, 1e-2)\n",
      "/tmp/ipykernel_184762/1986748386.py:6: FutureWarning: suggest_loguniform has been deprecated in v3.0.0. This feature will be removed in v6.0.0. See https://github.com/optuna/optuna/releases/tag/v3.0.0. Use suggest_float(..., log=True) instead.\n",
      "  weight_decay = trial.suggest_loguniform(\"weight_decay\", 1e-5, 1e-2)\n",
      "[I 2024-12-04 18:23:29,961] Trial 81 pruned. \n",
      "[I 2024-12-04 18:23:33,514] Trial 82 pruned. \n",
      "[I 2024-12-04 18:23:36,827] Trial 83 pruned. \n",
      "[I 2024-12-04 18:23:40,377] Trial 84 pruned. \n",
      "[I 2024-12-04 18:23:43,455] Trial 85 pruned. \n",
      "[I 2024-12-04 18:29:04,965] Trial 86 finished with value: 0.24835225865141045 and parameters: {'dropout1': 0.1, 'dropout2': 0.15000000000000002, 'learning_rate': 3.658311368056448e-05, 'weight_decay': 0.0004094097014012991}. Best is trial 61 with value: 0.3414512274193722.\n"
     ]
    },
    {
     "name": "stdout",
     "output_type": "stream",
     "text": [
      "Early stopping at epoch 99\n",
      "Final MCC: 0.2484\n"
     ]
    },
    {
     "name": "stderr",
     "output_type": "stream",
     "text": [
      "/tmp/ipykernel_184762/1986748386.py:5: FutureWarning: suggest_loguniform has been deprecated in v3.0.0. This feature will be removed in v6.0.0. See https://github.com/optuna/optuna/releases/tag/v3.0.0. Use suggest_float(..., log=True) instead.\n",
      "  learning_rate = trial.suggest_loguniform(\"learning_rate\", 1e-5, 1e-2)\n",
      "/tmp/ipykernel_184762/1986748386.py:6: FutureWarning: suggest_loguniform has been deprecated in v3.0.0. This feature will be removed in v6.0.0. See https://github.com/optuna/optuna/releases/tag/v3.0.0. Use suggest_float(..., log=True) instead.\n",
      "  weight_decay = trial.suggest_loguniform(\"weight_decay\", 1e-5, 1e-2)\n",
      "[I 2024-12-04 18:34:28,067] Trial 87 finished with value: 0.287116742918157 and parameters: {'dropout1': 0.15000000000000002, 'dropout2': 0.1, 'learning_rate': 1.1398313742753443e-05, 'weight_decay': 0.00016766298619391124}. Best is trial 61 with value: 0.3414512274193722.\n"
     ]
    },
    {
     "name": "stdout",
     "output_type": "stream",
     "text": [
      "Final MCC: 0.2871\n"
     ]
    },
    {
     "name": "stderr",
     "output_type": "stream",
     "text": [
      "/tmp/ipykernel_184762/1986748386.py:5: FutureWarning: suggest_loguniform has been deprecated in v3.0.0. This feature will be removed in v6.0.0. See https://github.com/optuna/optuna/releases/tag/v3.0.0. Use suggest_float(..., log=True) instead.\n",
      "  learning_rate = trial.suggest_loguniform(\"learning_rate\", 1e-5, 1e-2)\n",
      "/tmp/ipykernel_184762/1986748386.py:6: FutureWarning: suggest_loguniform has been deprecated in v3.0.0. This feature will be removed in v6.0.0. See https://github.com/optuna/optuna/releases/tag/v3.0.0. Use suggest_float(..., log=True) instead.\n",
      "  weight_decay = trial.suggest_loguniform(\"weight_decay\", 1e-5, 1e-2)\n",
      "[I 2024-12-04 18:34:31,311] Trial 88 pruned. \n",
      "[I 2024-12-04 18:34:34,462] Trial 89 pruned. \n",
      "[I 2024-12-04 18:34:37,843] Trial 90 pruned. \n",
      "[I 2024-12-04 18:34:40,480] Trial 91 pruned. \n",
      "[I 2024-12-04 18:34:43,759] Trial 92 pruned. \n",
      "[I 2024-12-04 18:36:56,213] Trial 93 finished with value: 0.2836753544113046 and parameters: {'dropout1': 0.4, 'dropout2': 0.5, 'learning_rate': 9.020154463318875e-05, 'weight_decay': 0.00995534123113776}. Best is trial 61 with value: 0.3414512274193722.\n"
     ]
    },
    {
     "name": "stdout",
     "output_type": "stream",
     "text": [
      "Early stopping at epoch 41\n",
      "Final MCC: 0.2837\n"
     ]
    },
    {
     "name": "stderr",
     "output_type": "stream",
     "text": [
      "/tmp/ipykernel_184762/1986748386.py:5: FutureWarning: suggest_loguniform has been deprecated in v3.0.0. This feature will be removed in v6.0.0. See https://github.com/optuna/optuna/releases/tag/v3.0.0. Use suggest_float(..., log=True) instead.\n",
      "  learning_rate = trial.suggest_loguniform(\"learning_rate\", 1e-5, 1e-2)\n",
      "/tmp/ipykernel_184762/1986748386.py:6: FutureWarning: suggest_loguniform has been deprecated in v3.0.0. This feature will be removed in v6.0.0. See https://github.com/optuna/optuna/releases/tag/v3.0.0. Use suggest_float(..., log=True) instead.\n",
      "  weight_decay = trial.suggest_loguniform(\"weight_decay\", 1e-5, 1e-2)\n",
      "[I 2024-12-04 18:42:16,820] Trial 94 finished with value: 0.29880715233359845 and parameters: {'dropout1': 0.4, 'dropout2': 0.4, 'learning_rate': 1.8414510605970567e-05, 'weight_decay': 0.0018117298662580323}. Best is trial 61 with value: 0.3414512274193722.\n"
     ]
    },
    {
     "name": "stdout",
     "output_type": "stream",
     "text": [
      "Final MCC: 0.2988\n"
     ]
    },
    {
     "name": "stderr",
     "output_type": "stream",
     "text": [
      "/tmp/ipykernel_184762/1986748386.py:5: FutureWarning: suggest_loguniform has been deprecated in v3.0.0. This feature will be removed in v6.0.0. See https://github.com/optuna/optuna/releases/tag/v3.0.0. Use suggest_float(..., log=True) instead.\n",
      "  learning_rate = trial.suggest_loguniform(\"learning_rate\", 1e-5, 1e-2)\n",
      "/tmp/ipykernel_184762/1986748386.py:6: FutureWarning: suggest_loguniform has been deprecated in v3.0.0. This feature will be removed in v6.0.0. See https://github.com/optuna/optuna/releases/tag/v3.0.0. Use suggest_float(..., log=True) instead.\n",
      "  weight_decay = trial.suggest_loguniform(\"weight_decay\", 1e-5, 1e-2)\n",
      "[I 2024-12-04 18:42:19,481] Trial 95 pruned. \n",
      "[I 2024-12-04 18:42:21,744] Trial 96 pruned. \n",
      "[I 2024-12-04 18:42:24,516] Trial 97 pruned. \n",
      "[I 2024-12-04 18:42:27,659] Trial 98 pruned. \n",
      "[I 2024-12-04 18:42:30,611] Trial 99 pruned. \n"
     ]
    },
    {
     "name": "stdout",
     "output_type": "stream",
     "text": [
      "Best Parameters:  {'dropout1': 0.15000000000000002, 'dropout2': 0.45, 'learning_rate': 1.6494515741839035e-05, 'weight_decay': 0.0011345078775624638}\n",
      "Best Validation F1:  0.3414512274193722\n"
     ]
    }
   ],
   "source": [
    "device_id = 0  # 使用するGPUのID（0または1）\n",
    "torch.cuda.set_device(device_id)\n",
    "device = torch.device(f\"cuda:{device_id}\" if torch.cuda.is_available() else \"cpu\")\n",
    "\n",
    "# Optunaの設定\n",
    "study = optuna.create_study(direction=\"maximize\")  \n",
    "study.optimize(objective, n_trials=100)\n",
    "\n",
    "# 結果表示\n",
    "print(\"Best Parameters: \", study.best_params)\n",
    "print(\"Best Validation F1: \", study.best_value)"
   ]
  },
  {
   "cell_type": "code",
   "execution_count": 41,
   "metadata": {},
   "outputs": [
    {
     "name": "stdout",
     "output_type": "stream",
     "text": [
      "Epoch [1/100], Loss: 0.6967\n",
      "Epoch [1/100], Train Loss: 0.6967, Val Loss: 0.6941\n",
      "Epoch [2/100], Loss: 0.6910\n",
      "Epoch [2/100], Train Loss: 0.6910, Val Loss: 0.6874\n",
      "Epoch [3/100], Loss: 0.6867\n",
      "Epoch [3/100], Train Loss: 0.6867, Val Loss: 0.6808\n",
      "Epoch [4/100], Loss: 0.6808\n",
      "Epoch [4/100], Train Loss: 0.6808, Val Loss: 0.6738\n",
      "Epoch [5/100], Loss: 0.6749\n",
      "Epoch [5/100], Train Loss: 0.6749, Val Loss: 0.6662\n",
      "Epoch [6/100], Loss: 0.6682\n",
      "Epoch [6/100], Train Loss: 0.6682, Val Loss: 0.6578\n",
      "Epoch [7/100], Loss: 0.6624\n",
      "Epoch [7/100], Train Loss: 0.6624, Val Loss: 0.6493\n",
      "Epoch [8/100], Loss: 0.6541\n",
      "Epoch [8/100], Train Loss: 0.6541, Val Loss: 0.6402\n",
      "Epoch [9/100], Loss: 0.6476\n",
      "Epoch [9/100], Train Loss: 0.6476, Val Loss: 0.6316\n",
      "Epoch [10/100], Loss: 0.6396\n",
      "Epoch [10/100], Train Loss: 0.6396, Val Loss: 0.6235\n",
      "Epoch [11/100], Loss: 0.6344\n",
      "Epoch [11/100], Train Loss: 0.6344, Val Loss: 0.6166\n",
      "Epoch [12/100], Loss: 0.6320\n",
      "Epoch [12/100], Train Loss: 0.6320, Val Loss: 0.6112\n",
      "Epoch [13/100], Loss: 0.6226\n",
      "Epoch [13/100], Train Loss: 0.6226, Val Loss: 0.6058\n",
      "Epoch [14/100], Loss: 0.6205\n",
      "Epoch [14/100], Train Loss: 0.6205, Val Loss: 0.6015\n",
      "Epoch [15/100], Loss: 0.6152\n",
      "Epoch [15/100], Train Loss: 0.6152, Val Loss: 0.5976\n",
      "Epoch [16/100], Loss: 0.6106\n",
      "Epoch [16/100], Train Loss: 0.6106, Val Loss: 0.5945\n",
      "Epoch [17/100], Loss: 0.6076\n",
      "Epoch [17/100], Train Loss: 0.6076, Val Loss: 0.5916\n",
      "Epoch [18/100], Loss: 0.6062\n",
      "Epoch [18/100], Train Loss: 0.6062, Val Loss: 0.5895\n",
      "Epoch [19/100], Loss: 0.6070\n",
      "Epoch [19/100], Train Loss: 0.6070, Val Loss: 0.5880\n",
      "Epoch [20/100], Loss: 0.6038\n",
      "Epoch [20/100], Train Loss: 0.6038, Val Loss: 0.5866\n",
      "Epoch [21/100], Loss: 0.6009\n",
      "Epoch [21/100], Train Loss: 0.6009, Val Loss: 0.5851\n",
      "Epoch [22/100], Loss: 0.6031\n",
      "Epoch [22/100], Train Loss: 0.6031, Val Loss: 0.5844\n",
      "Epoch [23/100], Loss: 0.5987\n",
      "Epoch [23/100], Train Loss: 0.5987, Val Loss: 0.5835\n",
      "Epoch [24/100], Loss: 0.5939\n",
      "Epoch [24/100], Train Loss: 0.5939, Val Loss: 0.5827\n",
      "Epoch [25/100], Loss: 0.5926\n",
      "Epoch [25/100], Train Loss: 0.5926, Val Loss: 0.5817\n",
      "Epoch [26/100], Loss: 0.5886\n",
      "Epoch [26/100], Train Loss: 0.5886, Val Loss: 0.5810\n",
      "Epoch [27/100], Loss: 0.5932\n",
      "Epoch [27/100], Train Loss: 0.5932, Val Loss: 0.5807\n",
      "Epoch [28/100], Loss: 0.5911\n",
      "Epoch [28/100], Train Loss: 0.5911, Val Loss: 0.5801\n",
      "Epoch [29/100], Loss: 0.5867\n",
      "Epoch [29/100], Train Loss: 0.5867, Val Loss: 0.5798\n",
      "Epoch [30/100], Loss: 0.5887\n",
      "Epoch [30/100], Train Loss: 0.5887, Val Loss: 0.5795\n",
      "Epoch [31/100], Loss: 0.5874\n",
      "Epoch [31/100], Train Loss: 0.5874, Val Loss: 0.5792\n",
      "Epoch [32/100], Loss: 0.5882\n",
      "Epoch [32/100], Train Loss: 0.5882, Val Loss: 0.5792\n",
      "Epoch [33/100], Loss: 0.5866\n",
      "Epoch [33/100], Train Loss: 0.5866, Val Loss: 0.5789\n",
      "Epoch [34/100], Loss: 0.5846\n",
      "Epoch [34/100], Train Loss: 0.5846, Val Loss: 0.5788\n",
      "Epoch [35/100], Loss: 0.5818\n",
      "Epoch [35/100], Train Loss: 0.5818, Val Loss: 0.5787\n",
      "Epoch [36/100], Loss: 0.5843\n",
      "Epoch [36/100], Train Loss: 0.5843, Val Loss: 0.5785\n",
      "Epoch [37/100], Loss: 0.5828\n",
      "Epoch [37/100], Train Loss: 0.5828, Val Loss: 0.5784\n",
      "Epoch [38/100], Loss: 0.5824\n",
      "Epoch [38/100], Train Loss: 0.5824, Val Loss: 0.5783\n",
      "Epoch [39/100], Loss: 0.5817\n",
      "Epoch [39/100], Train Loss: 0.5817, Val Loss: 0.5781\n",
      "Epoch [40/100], Loss: 0.5783\n",
      "Epoch [40/100], Train Loss: 0.5783, Val Loss: 0.5780\n",
      "Epoch [41/100], Loss: 0.5784\n",
      "Epoch [41/100], Train Loss: 0.5784, Val Loss: 0.5781\n",
      "Epoch [42/100], Loss: 0.5818\n",
      "Epoch [42/100], Train Loss: 0.5818, Val Loss: 0.5779\n",
      "Epoch [43/100], Loss: 0.5814\n",
      "Epoch [43/100], Train Loss: 0.5814, Val Loss: 0.5777\n",
      "Epoch [44/100], Loss: 0.5798\n",
      "Epoch [44/100], Train Loss: 0.5798, Val Loss: 0.5776\n",
      "Epoch [45/100], Loss: 0.5775\n",
      "Epoch [45/100], Train Loss: 0.5775, Val Loss: 0.5774\n",
      "Epoch [46/100], Loss: 0.5788\n",
      "Epoch [46/100], Train Loss: 0.5788, Val Loss: 0.5773\n",
      "Epoch [47/100], Loss: 0.5762\n",
      "Epoch [47/100], Train Loss: 0.5762, Val Loss: 0.5771\n",
      "Epoch [48/100], Loss: 0.5767\n",
      "Epoch [48/100], Train Loss: 0.5767, Val Loss: 0.5770\n",
      "Epoch [49/100], Loss: 0.5752\n",
      "Epoch [49/100], Train Loss: 0.5752, Val Loss: 0.5769\n",
      "Epoch [50/100], Loss: 0.5731\n",
      "Epoch [50/100], Train Loss: 0.5731, Val Loss: 0.5769\n",
      "Epoch [51/100], Loss: 0.5757\n",
      "Epoch [51/100], Train Loss: 0.5757, Val Loss: 0.5768\n",
      "Epoch [52/100], Loss: 0.5750\n",
      "Epoch [52/100], Train Loss: 0.5750, Val Loss: 0.5766\n",
      "Epoch [53/100], Loss: 0.5736\n",
      "Epoch [53/100], Train Loss: 0.5736, Val Loss: 0.5765\n",
      "Epoch [54/100], Loss: 0.5733\n",
      "Epoch [54/100], Train Loss: 0.5733, Val Loss: 0.5764\n",
      "Epoch [55/100], Loss: 0.5721\n",
      "Epoch [55/100], Train Loss: 0.5721, Val Loss: 0.5761\n",
      "Epoch [56/100], Loss: 0.5719\n",
      "Epoch [56/100], Train Loss: 0.5719, Val Loss: 0.5760\n",
      "Epoch [57/100], Loss: 0.5727\n",
      "Epoch [57/100], Train Loss: 0.5727, Val Loss: 0.5759\n",
      "Epoch [58/100], Loss: 0.5740\n",
      "Epoch [58/100], Train Loss: 0.5740, Val Loss: 0.5757\n",
      "Epoch [59/100], Loss: 0.5727\n",
      "Epoch [59/100], Train Loss: 0.5727, Val Loss: 0.5756\n",
      "Epoch [60/100], Loss: 0.5753\n",
      "Epoch [60/100], Train Loss: 0.5753, Val Loss: 0.5754\n",
      "Epoch [61/100], Loss: 0.5713\n",
      "Epoch [61/100], Train Loss: 0.5713, Val Loss: 0.5753\n",
      "Epoch [62/100], Loss: 0.5733\n",
      "Epoch [62/100], Train Loss: 0.5733, Val Loss: 0.5750\n",
      "Epoch [63/100], Loss: 0.5748\n",
      "Epoch [63/100], Train Loss: 0.5748, Val Loss: 0.5749\n",
      "Epoch [64/100], Loss: 0.5732\n",
      "Epoch [64/100], Train Loss: 0.5732, Val Loss: 0.5748\n",
      "Epoch [65/100], Loss: 0.5734\n",
      "Epoch [65/100], Train Loss: 0.5734, Val Loss: 0.5746\n",
      "Epoch [66/100], Loss: 0.5696\n",
      "Epoch [66/100], Train Loss: 0.5696, Val Loss: 0.5746\n",
      "Epoch [67/100], Loss: 0.5713\n",
      "Epoch [67/100], Train Loss: 0.5713, Val Loss: 0.5744\n",
      "Epoch [68/100], Loss: 0.5694\n",
      "Epoch [68/100], Train Loss: 0.5694, Val Loss: 0.5743\n",
      "Epoch [69/100], Loss: 0.5717\n",
      "Epoch [69/100], Train Loss: 0.5717, Val Loss: 0.5742\n",
      "Epoch [70/100], Loss: 0.5720\n",
      "Epoch [70/100], Train Loss: 0.5720, Val Loss: 0.5740\n",
      "Epoch [71/100], Loss: 0.5729\n",
      "Epoch [71/100], Train Loss: 0.5729, Val Loss: 0.5738\n",
      "Epoch [72/100], Loss: 0.5673\n",
      "Epoch [72/100], Train Loss: 0.5673, Val Loss: 0.5738\n",
      "Epoch [73/100], Loss: 0.5694\n",
      "Epoch [73/100], Train Loss: 0.5694, Val Loss: 0.5736\n",
      "Epoch [74/100], Loss: 0.5693\n",
      "Epoch [74/100], Train Loss: 0.5693, Val Loss: 0.5734\n",
      "Epoch [75/100], Loss: 0.5685\n",
      "Epoch [75/100], Train Loss: 0.5685, Val Loss: 0.5733\n",
      "Epoch [76/100], Loss: 0.5668\n",
      "Epoch [76/100], Train Loss: 0.5668, Val Loss: 0.5731\n",
      "Epoch [77/100], Loss: 0.5702\n",
      "Epoch [77/100], Train Loss: 0.5702, Val Loss: 0.5729\n",
      "Epoch [78/100], Loss: 0.5697\n",
      "Epoch [78/100], Train Loss: 0.5697, Val Loss: 0.5727\n",
      "Epoch [79/100], Loss: 0.5668\n",
      "Epoch [79/100], Train Loss: 0.5668, Val Loss: 0.5725\n",
      "Epoch [80/100], Loss: 0.5650\n",
      "Epoch [80/100], Train Loss: 0.5650, Val Loss: 0.5724\n",
      "Epoch [81/100], Loss: 0.5656\n",
      "Epoch [81/100], Train Loss: 0.5656, Val Loss: 0.5725\n",
      "Epoch [82/100], Loss: 0.5716\n",
      "Epoch [82/100], Train Loss: 0.5716, Val Loss: 0.5722\n",
      "Epoch [83/100], Loss: 0.5676\n",
      "Epoch [83/100], Train Loss: 0.5676, Val Loss: 0.5720\n",
      "Epoch [84/100], Loss: 0.5653\n",
      "Epoch [84/100], Train Loss: 0.5653, Val Loss: 0.5719\n",
      "Epoch [85/100], Loss: 0.5682\n",
      "Epoch [85/100], Train Loss: 0.5682, Val Loss: 0.5716\n",
      "Epoch [86/100], Loss: 0.5684\n",
      "Epoch [86/100], Train Loss: 0.5684, Val Loss: 0.5716\n",
      "Epoch [87/100], Loss: 0.5669\n",
      "Epoch [87/100], Train Loss: 0.5669, Val Loss: 0.5714\n",
      "Epoch [88/100], Loss: 0.5668\n",
      "Epoch [88/100], Train Loss: 0.5668, Val Loss: 0.5714\n",
      "Epoch [89/100], Loss: 0.5662\n",
      "Epoch [89/100], Train Loss: 0.5662, Val Loss: 0.5711\n",
      "Epoch [90/100], Loss: 0.5679\n",
      "Epoch [90/100], Train Loss: 0.5679, Val Loss: 0.5708\n",
      "Epoch [91/100], Loss: 0.5634\n",
      "Epoch [91/100], Train Loss: 0.5634, Val Loss: 0.5710\n",
      "Epoch [92/100], Loss: 0.5656\n",
      "Epoch [92/100], Train Loss: 0.5656, Val Loss: 0.5708\n",
      "Epoch [93/100], Loss: 0.5643\n",
      "Epoch [93/100], Train Loss: 0.5643, Val Loss: 0.5707\n",
      "Epoch [94/100], Loss: 0.5664\n",
      "Epoch [94/100], Train Loss: 0.5664, Val Loss: 0.5706\n",
      "Epoch [95/100], Loss: 0.5640\n",
      "Epoch [95/100], Train Loss: 0.5640, Val Loss: 0.5703\n",
      "Epoch [96/100], Loss: 0.5646\n",
      "Epoch [96/100], Train Loss: 0.5646, Val Loss: 0.5701\n",
      "Epoch [97/100], Loss: 0.5665\n",
      "Epoch [97/100], Train Loss: 0.5665, Val Loss: 0.5699\n",
      "Epoch [98/100], Loss: 0.5665\n",
      "Epoch [98/100], Train Loss: 0.5665, Val Loss: 0.5698\n",
      "Epoch [99/100], Loss: 0.5635\n",
      "Epoch [99/100], Train Loss: 0.5635, Val Loss: 0.5699\n",
      "Epoch [100/100], Loss: 0.5647\n",
      "Epoch [100/100], Train Loss: 0.5647, Val Loss: 0.5697\n"
     ]
    },
    {
     "data": {
      "image/png": "[encoded data removed]",
      "text/plain": [
       "<Figure size 1000x600 with 1 Axes>"
      ]
     },
     "metadata": {},
     "output_type": "display_data"
    }
   ],
   "source": [
    "best_params=study.best_params\n",
    "model = DNN_3(input_dim=X_train_tensor.shape[1],\n",
    "              dropout1=best_params[\"dropout1\"],\n",
    "              dropout2=best_params[\"dropout2\"],\n",
    "              ).to(device)\n",
    "# 最適化と訓練を実行\n",
    "optimizer = optim.Adam(model.parameters(), lr=best_params[\"learning_rate\"],weight_decay=best_params[\"weight_decay\"])\n",
    "criterion = nn.BCELoss()\n",
    "\n",
    "num_epochs=100\n",
    "train_losses = []\n",
    "val_losses = []\n",
    "\n",
    "model.train()\n",
    "for epoch in range(num_epochs):\n",
    "    epoch_train_loss = 0\n",
    "    epoch_val_loss = 0\n",
    "\n",
    "    for X_batch, y_batch in train_loader:\n",
    "        X_batch, y_batch = X_batch.to(device), y_batch.to(device)\n",
    "        optimizer.zero_grad()\n",
    "        outputs = model(X_batch).squeeze()\n",
    "        loss = criterion(outputs, y_batch.squeeze())\n",
    "        loss.backward()\n",
    "        optimizer.step()\n",
    "        epoch_train_loss += loss.item()\n",
    "    avg_train_loss = epoch_train_loss / len(train_loader)\n",
    "    train_losses.append(avg_train_loss)\n",
    "    print(f'Epoch [{epoch+1}/{num_epochs}], Loss: {avg_train_loss:.4f}')\n",
    "\n",
    "    if val_loader is not None:\n",
    "        model.eval()  \n",
    "        with torch.no_grad():\n",
    "            for X_val, y_val in val_loader:\n",
    "                X_val, y_val = X_val.to(device), y_val.to(device)\n",
    "                val_outputs = model(X_val).squeeze()\n",
    "                val_loss = criterion(val_outputs, y_val.squeeze())\n",
    "                epoch_val_loss += val_loss.item()\n",
    "\n",
    "        avg_val_loss = epoch_val_loss / len(val_loader)\n",
    "        val_losses.append(avg_val_loss)\n",
    "        model.train()  \n",
    "\n",
    "    if val_loader is not None:\n",
    "        print(f\"Epoch [{epoch+1}/{num_epochs}], Train Loss: {avg_train_loss:.4f}, Val Loss: {avg_val_loss:.4f}\")\n",
    "    else:\n",
    "        print(f\"Epoch [{epoch+1}/{num_epochs}], Train Loss: {avg_train_loss:.4f}\")\n",
    "\n",
    "plt.figure(figsize=(10, 6))\n",
    "plt.plot(range(1, num_epochs + 1), train_losses, label='Train Loss')\n",
    "if val_losses:\n",
    "    plt.plot(range(1, num_epochs + 1), val_losses, label='Validation Loss')\n",
    "plt.xlabel('Epoch')\n",
    "plt.ylabel('Loss')\n",
    "plt.title('Learning Curve for DNN3')\n",
    "plt.legend()\n",
    "plt.grid()\n",
    "plt.show()"
   ]
  },
  {
   "cell_type": "code",
   "execution_count": 42,
   "metadata": {},
   "outputs": [
    {
     "name": "stdout",
     "output_type": "stream",
     "text": [
      "Accuracy: 58.43%\n",
      "Precision: 0.4791\n",
      "Recall: 0.8791\n",
      "F1 Score: 0.6202\n",
      "Matthews Correlation Coefficient: 0.2977\n",
      "Specificity: 0.3989\n"
     ]
    },
    {
     "data": {
      "image/png": "[encoded data removed]",
      "text/plain": [
       "<Figure size 640x480 with 1 Axes>"
      ]
     },
     "metadata": {},
     "output_type": "display_data"
    },
    {
     "data": {
      "image/png": "[encoded data removed]",
      "text/plain": [
       "<Figure size 640x480 with 1 Axes>"
      ]
     },
     "metadata": {},
     "output_type": "display_data"
    },
    {
     "data": {
      "image/png": "[encoded data removed]",
      "text/plain": [
       "<Figure size 640x480 with 1 Axes>"
      ]
     },
     "metadata": {},
     "output_type": "display_data"
    }
   ],
   "source": [
    "model.eval()\n",
    "with torch.no_grad():\n",
    "    X_test_tensor = X_test_tensor.to(device)\n",
    "    y_test_tensor = y_test_tensor.to(device)\n",
    "\n",
    "    # 予測と確率\n",
    "    test_outputs = model(X_test_tensor).squeeze()\n",
    "    predictions = (test_outputs >0.49).float()\n",
    "    y_true = y_test_tensor.cpu().numpy()\n",
    "    y_pred = predictions.cpu().numpy()\n",
    "    y_prob = test_outputs.cpu().numpy()\n",
    "\n",
    "# 評価指標\n",
    "    accuracy = accuracy_score(y_true, y_pred)\n",
    "    precision = precision_score(y_true, y_pred)\n",
    "    recall = recall_score(y_true, y_pred)\n",
    "    f1 = f1_score(y_true, y_pred)\n",
    "    mcc = matthews_corrcoef(y_true, y_pred)\n",
    "    specificity = recall_score(y_true, y_pred, pos_label=0)  \n",
    "    print(f'Accuracy: {accuracy * 100:.2f}%')\n",
    "    print(f'Precision: {precision:.4f}')\n",
    "    print(f'Recall: {recall:.4f}')\n",
    "    print(f'F1 Score: {f1:.4f}')\n",
    "    print(f'Matthews Correlation Coefficient: {mcc:.4f}')\n",
    "    print(f'Specificity: {specificity:.4f}')\n",
    "\n",
    "    # 混同行列（割合表示）\n",
    "    cm = confusion_matrix(y_true, y_pred, normalize='true')\n",
    "    sns.heatmap(cm, annot=True, fmt=\".2%\", cmap=\"Blues\", cbar=False)\n",
    "    plt.xlabel(\"Predicted\")\n",
    "    plt.ylabel(\"Actual\")\n",
    "    plt.title(f\"Confusion Matrix (Normalized)\")\n",
    "    plt.show()\n",
    "\n",
    "    # ROC曲線とAUC\n",
    "    fpr, tpr, thresholds = roc_curve(y_true, y_prob)\n",
    "    roc_auc = auc(fpr, tpr)\n",
    "    plt.plot(fpr, tpr, label=f'ROC curve (AUC = {roc_auc:.2f})')\n",
    "    plt.plot([0, 1], [0, 1], 'k--') \n",
    "    plt.xlabel('False Positive Rate')\n",
    "    plt.ylabel('True Positive Rate')\n",
    "    plt.title(f'ROC Curve - Model ')\n",
    "    plt.legend(loc=\"lower right\")\n",
    "    plt.show()\n",
    "\n",
    "    # Precision-Recall曲線\n",
    "    precision_curve, recall_curve, pr_thresholds = precision_recall_curve(y_true, y_prob)\n",
    "    pr_auc = auc(recall_curve, precision_curve)\n",
    "    plt.plot(recall_curve, precision_curve, label=f'PR curve (AUC = {pr_auc:.2f})')\n",
    "    plt.xlabel('Recall')\n",
    "    plt.ylabel('Precision')\n",
    "    plt.title(f'Precision-Recall Curve ')\n",
    "    plt.legend(loc=\"lower left\")\n",
    "    plt.show()    "
   ]
  },
  {
   "cell_type": "code",
   "execution_count": 43,
   "metadata": {},
   "outputs": [],
   "source": [
    "# モデルと構造を保存\n",
    "torch.save(model.state_dict(), '../../saved_model/DNN_3.pth')\n",
    "\n"
   ]
  }
 ],
 "metadata": {
  "kernelspec": {
   "display_name": "torch",
   "language": "python",
   "name": "python3"
  },
  "language_info": {
   "codemirror_mode": {
    "name": "ipython",
    "version": 3
   },
   "file_extension": ".py",
   "mimetype": "text/x-python",
   "name": "python",
   "nbconvert_exporter": "python",
   "pygments_lexer": "ipython3",
   "version": "3.12.7"
  }
 },
 "nbformat": 4,
 "nbformat_minor": 2
}
