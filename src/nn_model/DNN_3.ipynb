{
 "cells": [
  {
   "cell_type": "code",
   "execution_count": 19,
   "metadata": {},
   "outputs": [],
   "source": [
    "import numpy as np\n",
    "import pandas as pd\n",
    "import matplotlib.pyplot as plt\n",
    "import seaborn as sns\n",
    "\n",
    "import torch\n",
    "import torch.nn as nn\n",
    "import torch.optim as optim\n",
    "\n",
    "import optuna\n",
    "\n",
    "from sklearn.model_selection import train_test_split\n",
    "from sklearn.metrics import confusion_matrix,accuracy_score, precision_score, recall_score, f1_score, confusion_matrix, roc_curve, auc,matthews_corrcoef, precision_recall_curve,roc_auc_score\n",
    "\n"
   ]
  },
  {
   "cell_type": "markdown",
   "metadata": {},
   "source": [
    "データ読み取り"
   ]
  },
  {
   "cell_type": "code",
   "execution_count": 20,
   "metadata": {},
   "outputs": [],
   "source": [
    "df=pd.read_csv('../../data/learning_data.csv',index_col=0)\n",
    "\n",
    "X=df.drop(columns='dengue',axis=1).values\n",
    "y=df['dengue'].values\n",
    "\n",
    "X_train, X_test, y_train, y_test = train_test_split(X, y, test_size=0.2,random_state=42)\n",
    "X_train, X_val, y_train, y_val = train_test_split(X_train, y_train, test_size=0.1,random_state=42)\n",
    "\n",
    "#torchテンソルに変換\n",
    "X_train_tensor = torch.tensor(X_train, dtype=torch.float32)\n",
    "y_train_tensor = torch.tensor(y_train, dtype=torch.float32)\n",
    "X_test_tensor = torch.tensor(X_test, dtype=torch.float32)\n",
    "y_test_tensor = torch.tensor(y_test, dtype=torch.float32)\n",
    "X_val_tensor = torch.tensor(X_val, dtype=torch.float32)\n",
    "y_val_tensor = torch.tensor(y_val, dtype=torch.float32)\n"
   ]
  },
  {
   "cell_type": "code",
   "execution_count": 21,
   "metadata": {},
   "outputs": [],
   "source": [
    "class DNN_3(nn.Module):\n",
    "    def __init__(self, input_dim,hidden_units1,hidden_units2,hidden_units3,hidden_units4,dropout1,dropout2,dropout3,dropout4):\n",
    "        super(DNN_3, self).__init__()\n",
    "        self.layer1 = nn.Linear(input_dim,hidden_units1)\n",
    "        self.layer2 = nn.Linear(hidden_units1,hidden_units2)\n",
    "        self.layer3 = nn.Linear(hidden_units2, hidden_units3)\n",
    "        self.layer4 = nn.Linear(hidden_units3, hidden_units4)\n",
    "        self.output_layer = nn.Linear(hidden_units4, 1)\n",
    "\n",
    "        self.dropout1 = nn.Dropout(dropout1)\n",
    "        self.dropout2 = nn.Dropout(dropout2)\n",
    "        self.dropout3 = nn.Dropout(dropout3)\n",
    "        self.dropout4 = nn.Dropout(dropout4)\n",
    "\n",
    "\n",
    "        self.bn1 = nn.BatchNorm1d(hidden_units1)\n",
    "        self.bn2 = nn.BatchNorm1d(hidden_units2)\n",
    "        self.bn3 = nn.BatchNorm1d(hidden_units3)\n",
    "        self.bn4 = nn.BatchNorm1d(hidden_units4)\n",
    "\n",
    "        \n",
    "        \n",
    "    def forward(self, x):\n",
    "        x = torch.relu(self.bn1(self.layer1(x)))\n",
    "        x = self.dropout1(x)\n",
    "        \n",
    "        x = torch.relu(self.bn2(self.layer2(x)))\n",
    "        x = self.dropout2(x)\n",
    "\n",
    "        x = torch.relu(self.bn3(self.layer3(x)))\n",
    "        x = self.dropout3(x)\n",
    "\n",
    "        x = torch.relu(self.bn4(self.layer4(x)))\n",
    "        x = self.dropout4(x)\n",
    "\n",
    "        x = torch.sigmoid(self.output_layer(x)) \n",
    "        return x\n",
    "    "
   ]
  },
  {
   "cell_type": "markdown",
   "metadata": {},
   "source": [
    "学習データセットの作成"
   ]
  },
  {
   "cell_type": "code",
   "execution_count": 22,
   "metadata": {},
   "outputs": [],
   "source": [
    "train_dataset = torch.utils.data.TensorDataset(X_train_tensor, y_train_tensor)\n",
    "train_loader = torch.utils.data.DataLoader(dataset=train_dataset, batch_size=32, shuffle=True)\n",
    "\n",
    "val_dataset = torch.utils.data.TensorDataset(X_val_tensor, y_val_tensor)\n",
    "val_loader = torch.utils.data.DataLoader(dataset=val_dataset, batch_size=32, shuffle=False)"
   ]
  },
  {
   "cell_type": "markdown",
   "metadata": {},
   "source": [
    "Optunaの設定"
   ]
  },
  {
   "cell_type": "code",
   "execution_count": 23,
   "metadata": {},
   "outputs": [],
   "source": [
    "def objective(trial):\n",
    "    # ハイパーパラメータのサンプリング\n",
    "    hidden_units1 = trial.suggest_int(\"hidden_units1\", 216, 512, step=2)\n",
    "    hidden_units2 = trial.suggest_int(\"hidden_units2\", 128, 216, step=2)\n",
    "    hidden_units3 = trial.suggest_int(\"hidden_units3\", 64, 128, step=2)\n",
    "    hidden_units4 = trial.suggest_int(\"hidden_units4\", 4, 64, step=2)\n",
    "    dropout1 = trial.suggest_float(\"dropout1\", 0, 0.5, step=0.05)\n",
    "    dropout2 = trial.suggest_float(\"dropout2\", 0, 0.5, step=0.05)\n",
    "    dropout3 = trial.suggest_float(\"dropout3\", 0, 0.5, step=0.05)\n",
    "    dropout4 = trial.suggest_float(\"dropout4\", 0, 0.5, step=0.05)\n",
    "    learning_rate = trial.suggest_loguniform(\"learning_rate\", 1e-5, 1e-2)  \n",
    "    weight_decay = trial.suggest_loguniform(\"weight_decay\", 1e-5, 1e-2)   \n",
    "\n",
    "    # モデル定義\n",
    "    model = DNN_3(\n",
    "        input_dim=X_train_tensor.shape[1],\n",
    "        hidden_units1=hidden_units1,\n",
    "        hidden_units2=hidden_units2,\n",
    "        hidden_units3=hidden_units3,\n",
    "        hidden_units4=hidden_units4,\n",
    "        dropout1=dropout1,\n",
    "        dropout2=dropout2,\n",
    "        dropout3=dropout3,\n",
    "        dropout4=dropout4\n",
    "    ).to(device)\n",
    "\n",
    "    criterion = nn.BCELoss()\n",
    "    optimizer = torch.optim.Adam(model.parameters(), lr=learning_rate, weight_decay=weight_decay)\n",
    "\n",
    "    # Early Stoppingの設定\n",
    "    patience = 10\n",
    "    best_val_loss = float('inf')\n",
    "    patience_counter = 0\n",
    "\n",
    "    # 訓練ループ\n",
    "    num_epochs = 100\n",
    "    for epoch in range(num_epochs):\n",
    "        model.train()\n",
    "        for X_batch, y_batch in train_loader:\n",
    "            X_batch, y_batch = X_batch.to(device), y_batch.to(device)\n",
    "            optimizer.zero_grad()\n",
    "            outputs = model(X_batch).squeeze()\n",
    "            loss = criterion(outputs, y_batch)\n",
    "            loss.backward()\n",
    "            optimizer.step()\n",
    "\n",
    "        # バリデーション評価\n",
    "        model.eval()\n",
    "        val_loss = 0\n",
    "        val_true, val_pred = [], []\n",
    "        with torch.no_grad():\n",
    "            for X_val, y_val in val_loader:\n",
    "                X_val, y_val = X_val.to(device), y_val.to(device)\n",
    "                val_outputs = model(X_val).squeeze()\n",
    "                val_loss += criterion(val_outputs, y_val).item()\n",
    "                predictions = (val_outputs >= 0.5).float()\n",
    "                val_true.extend(y_val.cpu().numpy())\n",
    "                val_pred.extend(predictions.cpu().numpy())\n",
    "\n",
    "        val_loss /= len(val_loader)\n",
    "\n",
    "        # Early Stopping判定\n",
    "        if val_loss < best_val_loss:\n",
    "            best_val_loss = val_loss\n",
    "            patience_counter = 0\n",
    "        else:\n",
    "            patience_counter += 1\n",
    "\n",
    "        if patience_counter >= patience:\n",
    "            print(f\"Early stopping at epoch {epoch}\")\n",
    "            break\n",
    "\n",
    "        # Optunaへのログ\n",
    "        trial.report(val_loss, epoch)\n",
    "        if trial.should_prune():\n",
    "            raise optuna.exceptions.TrialPruned()\n",
    "\n",
    "    # 最終的な評価指標を計算\n",
    "    mcc = matthews_corrcoef(val_true, val_pred)\n",
    "    print(f\"Final MCC: {mcc:.4f}\")\n",
    "\n",
    "    return mcc  # mccを返す\n"
   ]
  },
  {
   "cell_type": "code",
   "execution_count": 24,
   "metadata": {},
   "outputs": [
    {
     "name": "stderr",
     "output_type": "stream",
     "text": [
      "[I 2024-11-29 18:13:11,539] A new study created in memory with name: no-name-f8404fea-73b5-49c7-ab98-2ea5cd349012\n",
      "/tmp/ipykernel_184762/2256069125.py:11: FutureWarning: suggest_loguniform has been deprecated in v3.0.0. This feature will be removed in v6.0.0. See https://github.com/optuna/optuna/releases/tag/v3.0.0. Use suggest_float(..., log=True) instead.\n",
      "  learning_rate = trial.suggest_loguniform(\"learning_rate\", 1e-5, 1e-2)\n",
      "/tmp/ipykernel_184762/2256069125.py:12: FutureWarning: suggest_loguniform has been deprecated in v3.0.0. This feature will be removed in v6.0.0. See https://github.com/optuna/optuna/releases/tag/v3.0.0. Use suggest_float(..., log=True) instead.\n",
      "  weight_decay = trial.suggest_loguniform(\"weight_decay\", 1e-5, 1e-2)\n",
      "[I 2024-11-29 18:13:23,383] Trial 0 finished with value: 0.13858697343671664 and parameters: {'hidden_units1': 358, 'hidden_units2': 180, 'hidden_units3': 106, 'hidden_units4': 32, 'dropout1': 0.35000000000000003, 'dropout2': 0.2, 'dropout3': 0.35000000000000003, 'dropout4': 0.0, 'learning_rate': 0.00045732757677698576, 'weight_decay': 0.00032327803984284525}. Best is trial 0 with value: 0.13858697343671664.\n"
     ]
    },
    {
     "name": "stdout",
     "output_type": "stream",
     "text": [
      "Early stopping at epoch 23\n",
      "Final MCC: 0.1386\n"
     ]
    },
    {
     "name": "stderr",
     "output_type": "stream",
     "text": [
      "/tmp/ipykernel_184762/2256069125.py:11: FutureWarning: suggest_loguniform has been deprecated in v3.0.0. This feature will be removed in v6.0.0. See https://github.com/optuna/optuna/releases/tag/v3.0.0. Use suggest_float(..., log=True) instead.\n",
      "  learning_rate = trial.suggest_loguniform(\"learning_rate\", 1e-5, 1e-2)\n",
      "/tmp/ipykernel_184762/2256069125.py:12: FutureWarning: suggest_loguniform has been deprecated in v3.0.0. This feature will be removed in v6.0.0. See https://github.com/optuna/optuna/releases/tag/v3.0.0. Use suggest_float(..., log=True) instead.\n",
      "  weight_decay = trial.suggest_loguniform(\"weight_decay\", 1e-5, 1e-2)\n",
      "[I 2024-11-29 18:14:10,602] Trial 1 finished with value: 0.24349642846316208 and parameters: {'hidden_units1': 512, 'hidden_units2': 190, 'hidden_units3': 128, 'hidden_units4': 26, 'dropout1': 0.4, 'dropout2': 0.05, 'dropout3': 0.0, 'dropout4': 0.5, 'learning_rate': 2.0706871635500777e-05, 'weight_decay': 0.0018077606667463205}. Best is trial 1 with value: 0.24349642846316208.\n"
     ]
    },
    {
     "name": "stdout",
     "output_type": "stream",
     "text": [
      "Final MCC: 0.2435\n"
     ]
    },
    {
     "name": "stderr",
     "output_type": "stream",
     "text": [
      "/tmp/ipykernel_184762/2256069125.py:11: FutureWarning: suggest_loguniform has been deprecated in v3.0.0. This feature will be removed in v6.0.0. See https://github.com/optuna/optuna/releases/tag/v3.0.0. Use suggest_float(..., log=True) instead.\n",
      "  learning_rate = trial.suggest_loguniform(\"learning_rate\", 1e-5, 1e-2)\n",
      "/tmp/ipykernel_184762/2256069125.py:12: FutureWarning: suggest_loguniform has been deprecated in v3.0.0. This feature will be removed in v6.0.0. See https://github.com/optuna/optuna/releases/tag/v3.0.0. Use suggest_float(..., log=True) instead.\n",
      "  weight_decay = trial.suggest_loguniform(\"weight_decay\", 1e-5, 1e-2)\n",
      "[I 2024-11-29 18:14:18,975] Trial 2 finished with value: 0.13293071444735113 and parameters: {'hidden_units1': 338, 'hidden_units2': 194, 'hidden_units3': 120, 'hidden_units4': 34, 'dropout1': 0.5, 'dropout2': 0.05, 'dropout3': 0.05, 'dropout4': 0.25, 'learning_rate': 0.0003950262807226454, 'weight_decay': 0.005018757134315726}. Best is trial 1 with value: 0.24349642846316208.\n"
     ]
    },
    {
     "name": "stdout",
     "output_type": "stream",
     "text": [
      "Early stopping at epoch 16\n",
      "Final MCC: 0.1329\n"
     ]
    },
    {
     "name": "stderr",
     "output_type": "stream",
     "text": [
      "/tmp/ipykernel_184762/2256069125.py:11: FutureWarning: suggest_loguniform has been deprecated in v3.0.0. This feature will be removed in v6.0.0. See https://github.com/optuna/optuna/releases/tag/v3.0.0. Use suggest_float(..., log=True) instead.\n",
      "  learning_rate = trial.suggest_loguniform(\"learning_rate\", 1e-5, 1e-2)\n",
      "/tmp/ipykernel_184762/2256069125.py:12: FutureWarning: suggest_loguniform has been deprecated in v3.0.0. This feature will be removed in v6.0.0. See https://github.com/optuna/optuna/releases/tag/v3.0.0. Use suggest_float(..., log=True) instead.\n",
      "  weight_decay = trial.suggest_loguniform(\"weight_decay\", 1e-5, 1e-2)\n",
      "[I 2024-11-29 18:14:59,863] Trial 3 finished with value: 0.23018478852669574 and parameters: {'hidden_units1': 470, 'hidden_units2': 180, 'hidden_units3': 86, 'hidden_units4': 30, 'dropout1': 0.1, 'dropout2': 0.15000000000000002, 'dropout3': 0.1, 'dropout4': 0.45, 'learning_rate': 1.8934322164999886e-05, 'weight_decay': 5.8508219906621046e-05}. Best is trial 1 with value: 0.24349642846316208.\n"
     ]
    },
    {
     "name": "stdout",
     "output_type": "stream",
     "text": [
      "Early stopping at epoch 81\n",
      "Final MCC: 0.2302\n"
     ]
    },
    {
     "name": "stderr",
     "output_type": "stream",
     "text": [
      "/tmp/ipykernel_184762/2256069125.py:11: FutureWarning: suggest_loguniform has been deprecated in v3.0.0. This feature will be removed in v6.0.0. See https://github.com/optuna/optuna/releases/tag/v3.0.0. Use suggest_float(..., log=True) instead.\n",
      "  learning_rate = trial.suggest_loguniform(\"learning_rate\", 1e-5, 1e-2)\n",
      "/tmp/ipykernel_184762/2256069125.py:12: FutureWarning: suggest_loguniform has been deprecated in v3.0.0. This feature will be removed in v6.0.0. See https://github.com/optuna/optuna/releases/tag/v3.0.0. Use suggest_float(..., log=True) instead.\n",
      "  weight_decay = trial.suggest_loguniform(\"weight_decay\", 1e-5, 1e-2)\n",
      "[I 2024-11-29 18:15:06,357] Trial 4 finished with value: 0.12900094070966361 and parameters: {'hidden_units1': 472, 'hidden_units2': 132, 'hidden_units3': 90, 'hidden_units4': 62, 'dropout1': 0.0, 'dropout2': 0.35000000000000003, 'dropout3': 0.45, 'dropout4': 0.1, 'learning_rate': 0.0022648806940500157, 'weight_decay': 2.1777700543146233e-05}. Best is trial 1 with value: 0.24349642846316208.\n"
     ]
    },
    {
     "name": "stdout",
     "output_type": "stream",
     "text": [
      "Early stopping at epoch 12\n",
      "Final MCC: 0.1290\n"
     ]
    },
    {
     "name": "stderr",
     "output_type": "stream",
     "text": [
      "/tmp/ipykernel_184762/2256069125.py:11: FutureWarning: suggest_loguniform has been deprecated in v3.0.0. This feature will be removed in v6.0.0. See https://github.com/optuna/optuna/releases/tag/v3.0.0. Use suggest_float(..., log=True) instead.\n",
      "  learning_rate = trial.suggest_loguniform(\"learning_rate\", 1e-5, 1e-2)\n",
      "/tmp/ipykernel_184762/2256069125.py:12: FutureWarning: suggest_loguniform has been deprecated in v3.0.0. This feature will be removed in v6.0.0. See https://github.com/optuna/optuna/releases/tag/v3.0.0. Use suggest_float(..., log=True) instead.\n",
      "  weight_decay = trial.suggest_loguniform(\"weight_decay\", 1e-5, 1e-2)\n",
      "[I 2024-11-29 18:15:06,843] Trial 5 pruned. \n",
      "[I 2024-11-29 18:15:13,118] Trial 6 pruned. \n",
      "[I 2024-11-29 18:15:13,608] Trial 7 pruned. \n",
      "[I 2024-11-29 18:15:43,882] Trial 8 finished with value: 0.04065785563073631 and parameters: {'hidden_units1': 290, 'hidden_units2': 134, 'hidden_units3': 84, 'hidden_units4': 6, 'dropout1': 0.0, 'dropout2': 0.5, 'dropout3': 0.25, 'dropout4': 0.0, 'learning_rate': 1.706469948666977e-05, 'weight_decay': 0.003483758902616681}. Best is trial 1 with value: 0.24349642846316208.\n"
     ]
    },
    {
     "name": "stdout",
     "output_type": "stream",
     "text": [
      "Early stopping at epoch 65\n",
      "Final MCC: 0.0407\n"
     ]
    },
    {
     "name": "stderr",
     "output_type": "stream",
     "text": [
      "/tmp/ipykernel_184762/2256069125.py:11: FutureWarning: suggest_loguniform has been deprecated in v3.0.0. This feature will be removed in v6.0.0. See https://github.com/optuna/optuna/releases/tag/v3.0.0. Use suggest_float(..., log=True) instead.\n",
      "  learning_rate = trial.suggest_loguniform(\"learning_rate\", 1e-5, 1e-2)\n",
      "/tmp/ipykernel_184762/2256069125.py:12: FutureWarning: suggest_loguniform has been deprecated in v3.0.0. This feature will be removed in v6.0.0. See https://github.com/optuna/optuna/releases/tag/v3.0.0. Use suggest_float(..., log=True) instead.\n",
      "  weight_decay = trial.suggest_loguniform(\"weight_decay\", 1e-5, 1e-2)\n",
      "[I 2024-11-29 18:16:07,875] Trial 9 finished with value: 0.17142035303058445 and parameters: {'hidden_units1': 490, 'hidden_units2': 156, 'hidden_units3': 64, 'hidden_units4': 18, 'dropout1': 0.0, 'dropout2': 0.05, 'dropout3': 0.5, 'dropout4': 0.15000000000000002, 'learning_rate': 3.116314276527179e-05, 'weight_decay': 9.09032508297063e-05}. Best is trial 1 with value: 0.24349642846316208.\n"
     ]
    },
    {
     "name": "stdout",
     "output_type": "stream",
     "text": [
      "Early stopping at epoch 50\n",
      "Final MCC: 0.1714\n"
     ]
    },
    {
     "name": "stderr",
     "output_type": "stream",
     "text": [
      "/tmp/ipykernel_184762/2256069125.py:11: FutureWarning: suggest_loguniform has been deprecated in v3.0.0. This feature will be removed in v6.0.0. See https://github.com/optuna/optuna/releases/tag/v3.0.0. Use suggest_float(..., log=True) instead.\n",
      "  learning_rate = trial.suggest_loguniform(\"learning_rate\", 1e-5, 1e-2)\n",
      "/tmp/ipykernel_184762/2256069125.py:12: FutureWarning: suggest_loguniform has been deprecated in v3.0.0. This feature will be removed in v6.0.0. See https://github.com/optuna/optuna/releases/tag/v3.0.0. Use suggest_float(..., log=True) instead.\n",
      "  weight_decay = trial.suggest_loguniform(\"weight_decay\", 1e-5, 1e-2)\n",
      "[I 2024-11-29 18:16:22,875] Trial 10 finished with value: 0.17432882157978116 and parameters: {'hidden_units1': 416, 'hidden_units2': 212, 'hidden_units3': 110, 'hidden_units4': 48, 'dropout1': 0.35000000000000003, 'dropout2': 0.0, 'dropout3': 0.0, 'dropout4': 0.5, 'learning_rate': 6.43080176839468e-05, 'weight_decay': 0.0012152072715955727}. Best is trial 1 with value: 0.24349642846316208.\n"
     ]
    },
    {
     "name": "stdout",
     "output_type": "stream",
     "text": [
      "Early stopping at epoch 32\n",
      "Final MCC: 0.1743\n"
     ]
    },
    {
     "name": "stderr",
     "output_type": "stream",
     "text": [
      "/tmp/ipykernel_184762/2256069125.py:11: FutureWarning: suggest_loguniform has been deprecated in v3.0.0. This feature will be removed in v6.0.0. See https://github.com/optuna/optuna/releases/tag/v3.0.0. Use suggest_float(..., log=True) instead.\n",
      "  learning_rate = trial.suggest_loguniform(\"learning_rate\", 1e-5, 1e-2)\n",
      "/tmp/ipykernel_184762/2256069125.py:12: FutureWarning: suggest_loguniform has been deprecated in v3.0.0. This feature will be removed in v6.0.0. See https://github.com/optuna/optuna/releases/tag/v3.0.0. Use suggest_float(..., log=True) instead.\n",
      "  weight_decay = trial.suggest_loguniform(\"weight_decay\", 1e-5, 1e-2)\n",
      "[I 2024-11-29 18:16:47,907] Trial 11 finished with value: 0.2244755939415051 and parameters: {'hidden_units1': 508, 'hidden_units2': 202, 'hidden_units3': 76, 'hidden_units4': 22, 'dropout1': 0.2, 'dropout2': 0.1, 'dropout3': 0.15000000000000002, 'dropout4': 0.5, 'learning_rate': 7.75069355736213e-05, 'weight_decay': 1.717912618811086e-05}. Best is trial 1 with value: 0.24349642846316208.\n"
     ]
    },
    {
     "name": "stdout",
     "output_type": "stream",
     "text": [
      "Early stopping at epoch 52\n",
      "Final MCC: 0.2245\n"
     ]
    },
    {
     "name": "stderr",
     "output_type": "stream",
     "text": [
      "/tmp/ipykernel_184762/2256069125.py:11: FutureWarning: suggest_loguniform has been deprecated in v3.0.0. This feature will be removed in v6.0.0. See https://github.com/optuna/optuna/releases/tag/v3.0.0. Use suggest_float(..., log=True) instead.\n",
      "  learning_rate = trial.suggest_loguniform(\"learning_rate\", 1e-5, 1e-2)\n",
      "/tmp/ipykernel_184762/2256069125.py:12: FutureWarning: suggest_loguniform has been deprecated in v3.0.0. This feature will be removed in v6.0.0. See https://github.com/optuna/optuna/releases/tag/v3.0.0. Use suggest_float(..., log=True) instead.\n",
      "  weight_decay = trial.suggest_loguniform(\"weight_decay\", 1e-5, 1e-2)\n",
      "[I 2024-11-29 18:17:29,848] Trial 12 finished with value: 0.31873377739185427 and parameters: {'hidden_units1': 420, 'hidden_units2': 190, 'hidden_units3': 78, 'hidden_units4': 44, 'dropout1': 0.35000000000000003, 'dropout2': 0.30000000000000004, 'dropout3': 0.1, 'dropout4': 0.4, 'learning_rate': 1.0106621852338477e-05, 'weight_decay': 0.0010431117396393526}. Best is trial 12 with value: 0.31873377739185427.\n"
     ]
    },
    {
     "name": "stdout",
     "output_type": "stream",
     "text": [
      "Early stopping at epoch 88\n",
      "Final MCC: 0.3187\n"
     ]
    },
    {
     "name": "stderr",
     "output_type": "stream",
     "text": [
      "/tmp/ipykernel_184762/2256069125.py:11: FutureWarning: suggest_loguniform has been deprecated in v3.0.0. This feature will be removed in v6.0.0. See https://github.com/optuna/optuna/releases/tag/v3.0.0. Use suggest_float(..., log=True) instead.\n",
      "  learning_rate = trial.suggest_loguniform(\"learning_rate\", 1e-5, 1e-2)\n",
      "/tmp/ipykernel_184762/2256069125.py:12: FutureWarning: suggest_loguniform has been deprecated in v3.0.0. This feature will be removed in v6.0.0. See https://github.com/optuna/optuna/releases/tag/v3.0.0. Use suggest_float(..., log=True) instead.\n",
      "  weight_decay = trial.suggest_loguniform(\"weight_decay\", 1e-5, 1e-2)\n",
      "[I 2024-11-29 18:17:30,404] Trial 13 pruned. \n",
      "[I 2024-11-29 18:18:17,746] Trial 14 finished with value: 0.27189813344859487 and parameters: {'hidden_units1': 430, 'hidden_units2': 192, 'hidden_units3': 128, 'hidden_units4': 46, 'dropout1': 0.4, 'dropout2': 0.30000000000000004, 'dropout3': 0.15000000000000002, 'dropout4': 0.35000000000000003, 'learning_rate': 1.1643404727265789e-05, 'weight_decay': 0.009350079424902877}. Best is trial 12 with value: 0.31873377739185427.\n"
     ]
    },
    {
     "name": "stdout",
     "output_type": "stream",
     "text": [
      "Final MCC: 0.2719\n"
     ]
    },
    {
     "name": "stderr",
     "output_type": "stream",
     "text": [
      "/tmp/ipykernel_184762/2256069125.py:11: FutureWarning: suggest_loguniform has been deprecated in v3.0.0. This feature will be removed in v6.0.0. See https://github.com/optuna/optuna/releases/tag/v3.0.0. Use suggest_float(..., log=True) instead.\n",
      "  learning_rate = trial.suggest_loguniform(\"learning_rate\", 1e-5, 1e-2)\n",
      "/tmp/ipykernel_184762/2256069125.py:12: FutureWarning: suggest_loguniform has been deprecated in v3.0.0. This feature will be removed in v6.0.0. See https://github.com/optuna/optuna/releases/tag/v3.0.0. Use suggest_float(..., log=True) instead.\n",
      "  weight_decay = trial.suggest_loguniform(\"weight_decay\", 1e-5, 1e-2)\n",
      "[I 2024-11-29 18:18:18,299] Trial 15 pruned. \n",
      "[I 2024-11-29 18:19:05,263] Trial 16 finished with value: 0.3156692237509533 and parameters: {'hidden_units1': 376, 'hidden_units2': 168, 'hidden_units3': 80, 'hidden_units4': 44, 'dropout1': 0.45, 'dropout2': 0.30000000000000004, 'dropout3': 0.35000000000000003, 'dropout4': 0.35000000000000003, 'learning_rate': 1.0019060628102082e-05, 'weight_decay': 0.0007386246391200263}. Best is trial 12 with value: 0.31873377739185427.\n"
     ]
    },
    {
     "name": "stdout",
     "output_type": "stream",
     "text": [
      "Final MCC: 0.3157\n"
     ]
    },
    {
     "name": "stderr",
     "output_type": "stream",
     "text": [
      "/tmp/ipykernel_184762/2256069125.py:11: FutureWarning: suggest_loguniform has been deprecated in v3.0.0. This feature will be removed in v6.0.0. See https://github.com/optuna/optuna/releases/tag/v3.0.0. Use suggest_float(..., log=True) instead.\n",
      "  learning_rate = trial.suggest_loguniform(\"learning_rate\", 1e-5, 1e-2)\n",
      "/tmp/ipykernel_184762/2256069125.py:12: FutureWarning: suggest_loguniform has been deprecated in v3.0.0. This feature will be removed in v6.0.0. See https://github.com/optuna/optuna/releases/tag/v3.0.0. Use suggest_float(..., log=True) instead.\n",
      "  weight_decay = trial.suggest_loguniform(\"weight_decay\", 1e-5, 1e-2)\n",
      "[I 2024-11-29 18:19:53,334] Trial 17 finished with value: 0.3593773493721308 and parameters: {'hidden_units1': 316, 'hidden_units2': 168, 'hidden_units3': 78, 'hidden_units4': 56, 'dropout1': 0.5, 'dropout2': 0.5, 'dropout3': 0.4, 'dropout4': 0.4, 'learning_rate': 5.064362642272924e-05, 'weight_decay': 0.0006910524407890147}. Best is trial 17 with value: 0.3593773493721308.\n"
     ]
    },
    {
     "name": "stdout",
     "output_type": "stream",
     "text": [
      "Final MCC: 0.3594\n"
     ]
    },
    {
     "name": "stderr",
     "output_type": "stream",
     "text": [
      "/tmp/ipykernel_184762/2256069125.py:11: FutureWarning: suggest_loguniform has been deprecated in v3.0.0. This feature will be removed in v6.0.0. See https://github.com/optuna/optuna/releases/tag/v3.0.0. Use suggest_float(..., log=True) instead.\n",
      "  learning_rate = trial.suggest_loguniform(\"learning_rate\", 1e-5, 1e-2)\n",
      "/tmp/ipykernel_184762/2256069125.py:12: FutureWarning: suggest_loguniform has been deprecated in v3.0.0. This feature will be removed in v6.0.0. See https://github.com/optuna/optuna/releases/tag/v3.0.0. Use suggest_float(..., log=True) instead.\n",
      "  weight_decay = trial.suggest_loguniform(\"weight_decay\", 1e-5, 1e-2)\n",
      "[I 2024-11-29 18:20:30,676] Trial 18 finished with value: 0.34185499394129104 and parameters: {'hidden_units1': 316, 'hidden_units2': 168, 'hidden_units3': 72, 'hidden_units4': 56, 'dropout1': 0.2, 'dropout2': 0.5, 'dropout3': 0.35000000000000003, 'dropout4': 0.4, 'learning_rate': 3.837083638621527e-05, 'weight_decay': 0.00024560534996468893}. Best is trial 17 with value: 0.3593773493721308.\n"
     ]
    },
    {
     "name": "stdout",
     "output_type": "stream",
     "text": [
      "Early stopping at epoch 78\n",
      "Final MCC: 0.3419\n"
     ]
    },
    {
     "name": "stderr",
     "output_type": "stream",
     "text": [
      "/tmp/ipykernel_184762/2256069125.py:11: FutureWarning: suggest_loguniform has been deprecated in v3.0.0. This feature will be removed in v6.0.0. See https://github.com/optuna/optuna/releases/tag/v3.0.0. Use suggest_float(..., log=True) instead.\n",
      "  learning_rate = trial.suggest_loguniform(\"learning_rate\", 1e-5, 1e-2)\n",
      "/tmp/ipykernel_184762/2256069125.py:12: FutureWarning: suggest_loguniform has been deprecated in v3.0.0. This feature will be removed in v6.0.0. See https://github.com/optuna/optuna/releases/tag/v3.0.0. Use suggest_float(..., log=True) instead.\n",
      "  weight_decay = trial.suggest_loguniform(\"weight_decay\", 1e-5, 1e-2)\n",
      "[I 2024-11-29 18:20:31,246] Trial 19 pruned. \n",
      "[I 2024-11-29 18:21:19,991] Trial 20 finished with value: 0.16683392460785923 and parameters: {'hidden_units1': 290, 'hidden_units2': 166, 'hidden_units3': 64, 'hidden_units4': 56, 'dropout1': 0.25, 'dropout2': 0.45, 'dropout3': 0.30000000000000004, 'dropout4': 0.4, 'learning_rate': 4.6683182564145916e-05, 'weight_decay': 0.0005014445633767117}. Best is trial 17 with value: 0.3593773493721308.\n"
     ]
    },
    {
     "name": "stdout",
     "output_type": "stream",
     "text": [
      "Final MCC: 0.1668\n"
     ]
    },
    {
     "name": "stderr",
     "output_type": "stream",
     "text": [
      "/tmp/ipykernel_184762/2256069125.py:11: FutureWarning: suggest_loguniform has been deprecated in v3.0.0. This feature will be removed in v6.0.0. See https://github.com/optuna/optuna/releases/tag/v3.0.0. Use suggest_float(..., log=True) instead.\n",
      "  learning_rate = trial.suggest_loguniform(\"learning_rate\", 1e-5, 1e-2)\n",
      "/tmp/ipykernel_184762/2256069125.py:12: FutureWarning: suggest_loguniform has been deprecated in v3.0.0. This feature will be removed in v6.0.0. See https://github.com/optuna/optuna/releases/tag/v3.0.0. Use suggest_float(..., log=True) instead.\n",
      "  weight_decay = trial.suggest_loguniform(\"weight_decay\", 1e-5, 1e-2)\n",
      "[I 2024-11-29 18:21:20,513] Trial 21 pruned. \n",
      "[I 2024-11-29 18:21:21,056] Trial 22 pruned. \n",
      "[I 2024-11-29 18:22:08,348] Trial 23 finished with value: 0.16104562553860188 and parameters: {'hidden_units1': 262, 'hidden_units2': 184, 'hidden_units3': 96, 'hidden_units4': 58, 'dropout1': 0.45, 'dropout2': 0.5, 'dropout3': 0.5, 'dropout4': 0.4, 'learning_rate': 3.297092478972442e-05, 'weight_decay': 0.00013507409410057594}. Best is trial 17 with value: 0.3593773493721308.\n"
     ]
    },
    {
     "name": "stdout",
     "output_type": "stream",
     "text": [
      "Final MCC: 0.1610\n"
     ]
    },
    {
     "name": "stderr",
     "output_type": "stream",
     "text": [
      "/tmp/ipykernel_184762/2256069125.py:11: FutureWarning: suggest_loguniform has been deprecated in v3.0.0. This feature will be removed in v6.0.0. See https://github.com/optuna/optuna/releases/tag/v3.0.0. Use suggest_float(..., log=True) instead.\n",
      "  learning_rate = trial.suggest_loguniform(\"learning_rate\", 1e-5, 1e-2)\n",
      "/tmp/ipykernel_184762/2256069125.py:12: FutureWarning: suggest_loguniform has been deprecated in v3.0.0. This feature will be removed in v6.0.0. See https://github.com/optuna/optuna/releases/tag/v3.0.0. Use suggest_float(..., log=True) instead.\n",
      "  weight_decay = trial.suggest_loguniform(\"weight_decay\", 1e-5, 1e-2)\n",
      "[I 2024-11-29 18:22:08,903] Trial 24 pruned. \n",
      "[I 2024-11-29 18:22:50,602] Trial 25 finished with value: 0.3598309742236164 and parameters: {'hidden_units1': 356, 'hidden_units2': 144, 'hidden_units3': 94, 'hidden_units4': 38, 'dropout1': 0.15000000000000002, 'dropout2': 0.35000000000000003, 'dropout3': 0.45, 'dropout4': 0.45, 'learning_rate': 2.182393111024351e-05, 'weight_decay': 0.0005222988763649783}. Best is trial 25 with value: 0.3598309742236164.\n"
     ]
    },
    {
     "name": "stdout",
     "output_type": "stream",
     "text": [
      "Early stopping at epoch 86\n",
      "Final MCC: 0.3598\n"
     ]
    },
    {
     "name": "stderr",
     "output_type": "stream",
     "text": [
      "/tmp/ipykernel_184762/2256069125.py:11: FutureWarning: suggest_loguniform has been deprecated in v3.0.0. This feature will be removed in v6.0.0. See https://github.com/optuna/optuna/releases/tag/v3.0.0. Use suggest_float(..., log=True) instead.\n",
      "  learning_rate = trial.suggest_loguniform(\"learning_rate\", 1e-5, 1e-2)\n",
      "/tmp/ipykernel_184762/2256069125.py:12: FutureWarning: suggest_loguniform has been deprecated in v3.0.0. This feature will be removed in v6.0.0. See https://github.com/optuna/optuna/releases/tag/v3.0.0. Use suggest_float(..., log=True) instead.\n",
      "  weight_decay = trial.suggest_loguniform(\"weight_decay\", 1e-5, 1e-2)\n",
      "[I 2024-11-29 18:22:51,121] Trial 26 pruned. \n",
      "[I 2024-11-29 18:23:20,860] Trial 27 finished with value: 0.37020631287128414 and parameters: {'hidden_units1': 260, 'hidden_units2': 146, 'hidden_units3': 88, 'hidden_units4': 52, 'dropout1': 0.15000000000000002, 'dropout2': 0.45, 'dropout3': 0.45, 'dropout4': 0.30000000000000004, 'learning_rate': 2.5428500815980566e-05, 'weight_decay': 0.00024518942377157977}. Best is trial 27 with value: 0.37020631287128414.\n"
     ]
    },
    {
     "name": "stdout",
     "output_type": "stream",
     "text": [
      "Early stopping at epoch 62\n",
      "Final MCC: 0.3702\n"
     ]
    },
    {
     "name": "stderr",
     "output_type": "stream",
     "text": [
      "/tmp/ipykernel_184762/2256069125.py:11: FutureWarning: suggest_loguniform has been deprecated in v3.0.0. This feature will be removed in v6.0.0. See https://github.com/optuna/optuna/releases/tag/v3.0.0. Use suggest_float(..., log=True) instead.\n",
      "  learning_rate = trial.suggest_loguniform(\"learning_rate\", 1e-5, 1e-2)\n",
      "/tmp/ipykernel_184762/2256069125.py:12: FutureWarning: suggest_loguniform has been deprecated in v3.0.0. This feature will be removed in v6.0.0. See https://github.com/optuna/optuna/releases/tag/v3.0.0. Use suggest_float(..., log=True) instead.\n",
      "  weight_decay = trial.suggest_loguniform(\"weight_decay\", 1e-5, 1e-2)\n",
      "[I 2024-11-29 18:23:54,595] Trial 28 finished with value: 0.2740472876035875 and parameters: {'hidden_units1': 264, 'hidden_units2': 146, 'hidden_units3': 90, 'hidden_units4': 52, 'dropout1': 0.05, 'dropout2': 0.35000000000000003, 'dropout3': 0.45, 'dropout4': 0.25, 'learning_rate': 1.7603660283931186e-05, 'weight_decay': 0.000104799132461864}. Best is trial 27 with value: 0.37020631287128414.\n"
     ]
    },
    {
     "name": "stdout",
     "output_type": "stream",
     "text": [
      "Early stopping at epoch 71\n",
      "Final MCC: 0.2740\n"
     ]
    },
    {
     "name": "stderr",
     "output_type": "stream",
     "text": [
      "/tmp/ipykernel_184762/2256069125.py:11: FutureWarning: suggest_loguniform has been deprecated in v3.0.0. This feature will be removed in v6.0.0. See https://github.com/optuna/optuna/releases/tag/v3.0.0. Use suggest_float(..., log=True) instead.\n",
      "  learning_rate = trial.suggest_loguniform(\"learning_rate\", 1e-5, 1e-2)\n",
      "/tmp/ipykernel_184762/2256069125.py:12: FutureWarning: suggest_loguniform has been deprecated in v3.0.0. This feature will be removed in v6.0.0. See https://github.com/optuna/optuna/releases/tag/v3.0.0. Use suggest_float(..., log=True) instead.\n",
      "  weight_decay = trial.suggest_loguniform(\"weight_decay\", 1e-5, 1e-2)\n",
      "[I 2024-11-29 18:23:55,139] Trial 29 pruned. \n",
      "[I 2024-11-29 18:23:55,703] Trial 30 pruned. \n",
      "[I 2024-11-29 18:23:56,232] Trial 31 pruned. \n",
      "[I 2024-11-29 18:24:32,279] Trial 32 finished with value: 0.34814773327347187 and parameters: {'hidden_units1': 356, 'hidden_units2': 150, 'hidden_units3': 88, 'hidden_units4': 58, 'dropout1': 0.2, 'dropout2': 0.4, 'dropout3': 0.45, 'dropout4': 0.4, 'learning_rate': 2.4022081545460673e-05, 'weight_decay': 0.0002923045614006685}. Best is trial 27 with value: 0.37020631287128414.\n"
     ]
    },
    {
     "name": "stdout",
     "output_type": "stream",
     "text": [
      "Early stopping at epoch 72\n",
      "Final MCC: 0.3481\n"
     ]
    },
    {
     "name": "stderr",
     "output_type": "stream",
     "text": [
      "/tmp/ipykernel_184762/2256069125.py:11: FutureWarning: suggest_loguniform has been deprecated in v3.0.0. This feature will be removed in v6.0.0. See https://github.com/optuna/optuna/releases/tag/v3.0.0. Use suggest_float(..., log=True) instead.\n",
      "  learning_rate = trial.suggest_loguniform(\"learning_rate\", 1e-5, 1e-2)\n",
      "/tmp/ipykernel_184762/2256069125.py:12: FutureWarning: suggest_loguniform has been deprecated in v3.0.0. This feature will be removed in v6.0.0. See https://github.com/optuna/optuna/releases/tag/v3.0.0. Use suggest_float(..., log=True) instead.\n",
      "  weight_decay = trial.suggest_loguniform(\"weight_decay\", 1e-5, 1e-2)\n",
      "[I 2024-11-29 18:24:32,881] Trial 33 pruned. \n",
      "[I 2024-11-29 18:25:06,654] Trial 34 finished with value: 0.27490258014691055 and parameters: {'hidden_units1': 388, 'hidden_units2': 138, 'hidden_units3': 86, 'hidden_units4': 52, 'dropout1': 0.05, 'dropout2': 0.45, 'dropout3': 0.5, 'dropout4': 0.45, 'learning_rate': 9.9215833838228e-05, 'weight_decay': 0.001507745267727607}. Best is trial 27 with value: 0.37020631287128414.\n"
     ]
    },
    {
     "name": "stdout",
     "output_type": "stream",
     "text": [
      "Early stopping at epoch 71\n",
      "Final MCC: 0.2749\n"
     ]
    },
    {
     "name": "stderr",
     "output_type": "stream",
     "text": [
      "/tmp/ipykernel_184762/2256069125.py:11: FutureWarning: suggest_loguniform has been deprecated in v3.0.0. This feature will be removed in v6.0.0. See https://github.com/optuna/optuna/releases/tag/v3.0.0. Use suggest_float(..., log=True) instead.\n",
      "  learning_rate = trial.suggest_loguniform(\"learning_rate\", 1e-5, 1e-2)\n",
      "/tmp/ipykernel_184762/2256069125.py:12: FutureWarning: suggest_loguniform has been deprecated in v3.0.0. This feature will be removed in v6.0.0. See https://github.com/optuna/optuna/releases/tag/v3.0.0. Use suggest_float(..., log=True) instead.\n",
      "  weight_decay = trial.suggest_loguniform(\"weight_decay\", 1e-5, 1e-2)\n",
      "[I 2024-11-29 18:25:54,790] Trial 35 finished with value: 0.3173384123513382 and parameters: {'hidden_units1': 342, 'hidden_units2': 160, 'hidden_units3': 94, 'hidden_units4': 32, 'dropout1': 0.25, 'dropout2': 0.35000000000000003, 'dropout3': 0.45, 'dropout4': 0.30000000000000004, 'learning_rate': 2.152994790001245e-05, 'weight_decay': 1.0428584002294302e-05}. Best is trial 27 with value: 0.37020631287128414.\n"
     ]
    },
    {
     "name": "stdout",
     "output_type": "stream",
     "text": [
      "Final MCC: 0.3173\n"
     ]
    },
    {
     "name": "stderr",
     "output_type": "stream",
     "text": [
      "/tmp/ipykernel_184762/2256069125.py:11: FutureWarning: suggest_loguniform has been deprecated in v3.0.0. This feature will be removed in v6.0.0. See https://github.com/optuna/optuna/releases/tag/v3.0.0. Use suggest_float(..., log=True) instead.\n",
      "  learning_rate = trial.suggest_loguniform(\"learning_rate\", 1e-5, 1e-2)\n",
      "/tmp/ipykernel_184762/2256069125.py:12: FutureWarning: suggest_loguniform has been deprecated in v3.0.0. This feature will be removed in v6.0.0. See https://github.com/optuna/optuna/releases/tag/v3.0.0. Use suggest_float(..., log=True) instead.\n",
      "  weight_decay = trial.suggest_loguniform(\"weight_decay\", 1e-5, 1e-2)\n",
      "[I 2024-11-29 18:26:31,053] Trial 36 finished with value: 0.3225307463503984 and parameters: {'hidden_units1': 368, 'hidden_units2': 148, 'hidden_units3': 100, 'hidden_units4': 62, 'dropout1': 0.05, 'dropout2': 0.4, 'dropout3': 0.4, 'dropout4': 0.35000000000000003, 'learning_rate': 1.5195641388970248e-05, 'weight_decay': 0.0001835523231782021}. Best is trial 27 with value: 0.37020631287128414.\n"
     ]
    },
    {
     "name": "stdout",
     "output_type": "stream",
     "text": [
      "Early stopping at epoch 78\n",
      "Final MCC: 0.3225\n"
     ]
    },
    {
     "name": "stderr",
     "output_type": "stream",
     "text": [
      "/tmp/ipykernel_184762/2256069125.py:11: FutureWarning: suggest_loguniform has been deprecated in v3.0.0. This feature will be removed in v6.0.0. See https://github.com/optuna/optuna/releases/tag/v3.0.0. Use suggest_float(..., log=True) instead.\n",
      "  learning_rate = trial.suggest_loguniform(\"learning_rate\", 1e-5, 1e-2)\n",
      "/tmp/ipykernel_184762/2256069125.py:12: FutureWarning: suggest_loguniform has been deprecated in v3.0.0. This feature will be removed in v6.0.0. See https://github.com/optuna/optuna/releases/tag/v3.0.0. Use suggest_float(..., log=True) instead.\n",
      "  weight_decay = trial.suggest_loguniform(\"weight_decay\", 1e-5, 1e-2)\n",
      "[I 2024-11-29 18:27:17,579] Trial 37 finished with value: 0.31700439792319157 and parameters: {'hidden_units1': 278, 'hidden_units2': 136, 'hidden_units3': 86, 'hidden_units4': 40, 'dropout1': 0.1, 'dropout2': 0.25, 'dropout3': 0.30000000000000004, 'dropout4': 0.5, 'learning_rate': 2.3791721231864104e-05, 'weight_decay': 0.0007515688427125125}. Best is trial 27 with value: 0.37020631287128414.\n"
     ]
    },
    {
     "name": "stdout",
     "output_type": "stream",
     "text": [
      "Early stopping at epoch 99\n",
      "Final MCC: 0.3170\n"
     ]
    },
    {
     "name": "stderr",
     "output_type": "stream",
     "text": [
      "/tmp/ipykernel_184762/2256069125.py:11: FutureWarning: suggest_loguniform has been deprecated in v3.0.0. This feature will be removed in v6.0.0. See https://github.com/optuna/optuna/releases/tag/v3.0.0. Use suggest_float(..., log=True) instead.\n",
      "  learning_rate = trial.suggest_loguniform(\"learning_rate\", 1e-5, 1e-2)\n",
      "/tmp/ipykernel_184762/2256069125.py:12: FutureWarning: suggest_loguniform has been deprecated in v3.0.0. This feature will be removed in v6.0.0. See https://github.com/optuna/optuna/releases/tag/v3.0.0. Use suggest_float(..., log=True) instead.\n",
      "  weight_decay = trial.suggest_loguniform(\"weight_decay\", 1e-5, 1e-2)\n",
      "[I 2024-11-29 18:27:52,728] Trial 38 finished with value: 0.11996731359698218 and parameters: {'hidden_units1': 334, 'hidden_units2': 128, 'hidden_units3': 82, 'hidden_units4': 26, 'dropout1': 0.25, 'dropout2': 0.35000000000000003, 'dropout3': 0.35000000000000003, 'dropout4': 0.4, 'learning_rate': 5.283350225887581e-05, 'weight_decay': 6.689332006130878e-05}. Best is trial 27 with value: 0.37020631287128414.\n"
     ]
    },
    {
     "name": "stdout",
     "output_type": "stream",
     "text": [
      "Early stopping at epoch 75\n",
      "Final MCC: 0.1200\n"
     ]
    },
    {
     "name": "stderr",
     "output_type": "stream",
     "text": [
      "/tmp/ipykernel_184762/2256069125.py:11: FutureWarning: suggest_loguniform has been deprecated in v3.0.0. This feature will be removed in v6.0.0. See https://github.com/optuna/optuna/releases/tag/v3.0.0. Use suggest_float(..., log=True) instead.\n",
      "  learning_rate = trial.suggest_loguniform(\"learning_rate\", 1e-5, 1e-2)\n",
      "/tmp/ipykernel_184762/2256069125.py:12: FutureWarning: suggest_loguniform has been deprecated in v3.0.0. This feature will be removed in v6.0.0. See https://github.com/optuna/optuna/releases/tag/v3.0.0. Use suggest_float(..., log=True) instead.\n",
      "  weight_decay = trial.suggest_loguniform(\"weight_decay\", 1e-5, 1e-2)\n",
      "[I 2024-11-29 18:27:53,291] Trial 39 pruned. \n",
      "[I 2024-11-29 18:28:43,149] Trial 40 finished with value: 0.2901083796939586 and parameters: {'hidden_units1': 244, 'hidden_units2': 174, 'hidden_units3': 106, 'hidden_units4': 60, 'dropout1': 0.2, 'dropout2': 0.45, 'dropout3': 0.5, 'dropout4': 0.45, 'learning_rate': 1.539150679830104e-05, 'weight_decay': 0.00012772675672226259}. Best is trial 27 with value: 0.37020631287128414.\n"
     ]
    },
    {
     "name": "stdout",
     "output_type": "stream",
     "text": [
      "Final MCC: 0.2901\n"
     ]
    },
    {
     "name": "stderr",
     "output_type": "stream",
     "text": [
      "/tmp/ipykernel_184762/2256069125.py:11: FutureWarning: suggest_loguniform has been deprecated in v3.0.0. This feature will be removed in v6.0.0. See https://github.com/optuna/optuna/releases/tag/v3.0.0. Use suggest_float(..., log=True) instead.\n",
      "  learning_rate = trial.suggest_loguniform(\"learning_rate\", 1e-5, 1e-2)\n",
      "/tmp/ipykernel_184762/2256069125.py:12: FutureWarning: suggest_loguniform has been deprecated in v3.0.0. This feature will be removed in v6.0.0. See https://github.com/optuna/optuna/releases/tag/v3.0.0. Use suggest_float(..., log=True) instead.\n",
      "  weight_decay = trial.suggest_loguniform(\"weight_decay\", 1e-5, 1e-2)\n",
      "[I 2024-11-29 18:29:12,488] Trial 41 finished with value: 0.34659191007765316 and parameters: {'hidden_units1': 316, 'hidden_units2': 156, 'hidden_units3': 74, 'hidden_units4': 56, 'dropout1': 0.2, 'dropout2': 0.5, 'dropout3': 0.4, 'dropout4': 0.4, 'learning_rate': 4.18722415280646e-05, 'weight_decay': 0.00026112203523772986}. Best is trial 27 with value: 0.37020631287128414.\n"
     ]
    },
    {
     "name": "stdout",
     "output_type": "stream",
     "text": [
      "Early stopping at epoch 62\n",
      "Final MCC: 0.3466\n"
     ]
    },
    {
     "name": "stderr",
     "output_type": "stream",
     "text": [
      "/tmp/ipykernel_184762/2256069125.py:11: FutureWarning: suggest_loguniform has been deprecated in v3.0.0. This feature will be removed in v6.0.0. See https://github.com/optuna/optuna/releases/tag/v3.0.0. Use suggest_float(..., log=True) instead.\n",
      "  learning_rate = trial.suggest_loguniform(\"learning_rate\", 1e-5, 1e-2)\n",
      "/tmp/ipykernel_184762/2256069125.py:12: FutureWarning: suggest_loguniform has been deprecated in v3.0.0. This feature will be removed in v6.0.0. See https://github.com/optuna/optuna/releases/tag/v3.0.0. Use suggest_float(..., log=True) instead.\n",
      "  weight_decay = trial.suggest_loguniform(\"weight_decay\", 1e-5, 1e-2)\n",
      "[I 2024-11-29 18:29:13,034] Trial 42 pruned. \n",
      "[I 2024-11-29 18:29:13,461] Trial 43 pruned. \n",
      "[I 2024-11-29 18:29:13,972] Trial 44 pruned. \n",
      "[I 2024-11-29 18:29:14,533] Trial 45 pruned. \n",
      "[I 2024-11-29 18:29:56,443] Trial 46 finished with value: 0.3429199272623737 and parameters: {'hidden_units1': 322, 'hidden_units2': 152, 'hidden_units3': 78, 'hidden_units4': 20, 'dropout1': 0.5, 'dropout2': 0.45, 'dropout3': 0.5, 'dropout4': 0.2, 'learning_rate': 2.7651087308654464e-05, 'weight_decay': 8.510772132728945e-05}. Best is trial 27 with value: 0.37020631287128414.\n"
     ]
    },
    {
     "name": "stdout",
     "output_type": "stream",
     "text": [
      "Early stopping at epoch 92\n",
      "Final MCC: 0.3429\n"
     ]
    },
    {
     "name": "stderr",
     "output_type": "stream",
     "text": [
      "/tmp/ipykernel_184762/2256069125.py:11: FutureWarning: suggest_loguniform has been deprecated in v3.0.0. This feature will be removed in v6.0.0. See https://github.com/optuna/optuna/releases/tag/v3.0.0. Use suggest_float(..., log=True) instead.\n",
      "  learning_rate = trial.suggest_loguniform(\"learning_rate\", 1e-5, 1e-2)\n",
      "/tmp/ipykernel_184762/2256069125.py:12: FutureWarning: suggest_loguniform has been deprecated in v3.0.0. This feature will be removed in v6.0.0. See https://github.com/optuna/optuna/releases/tag/v3.0.0. Use suggest_float(..., log=True) instead.\n",
      "  weight_decay = trial.suggest_loguniform(\"weight_decay\", 1e-5, 1e-2)\n",
      "[I 2024-11-29 18:29:57,009] Trial 47 pruned. \n",
      "[I 2024-11-29 18:29:57,612] Trial 48 pruned. \n",
      "[I 2024-11-29 18:29:58,155] Trial 49 pruned. \n",
      "[I 2024-11-29 18:29:58,816] Trial 50 pruned. \n",
      "[I 2024-11-29 18:30:46,204] Trial 51 finished with value: 0.3350670380926767 and parameters: {'hidden_units1': 326, 'hidden_units2': 152, 'hidden_units3': 78, 'hidden_units4': 10, 'dropout1': 0.5, 'dropout2': 0.45, 'dropout3': 0.5, 'dropout4': 0.2, 'learning_rate': 2.7386616534877684e-05, 'weight_decay': 7.489978101036176e-05}. Best is trial 27 with value: 0.37020631287128414.\n"
     ]
    },
    {
     "name": "stdout",
     "output_type": "stream",
     "text": [
      "Final MCC: 0.3351\n"
     ]
    },
    {
     "name": "stderr",
     "output_type": "stream",
     "text": [
      "/tmp/ipykernel_184762/2256069125.py:11: FutureWarning: suggest_loguniform has been deprecated in v3.0.0. This feature will be removed in v6.0.0. See https://github.com/optuna/optuna/releases/tag/v3.0.0. Use suggest_float(..., log=True) instead.\n",
      "  learning_rate = trial.suggest_loguniform(\"learning_rate\", 1e-5, 1e-2)\n",
      "/tmp/ipykernel_184762/2256069125.py:12: FutureWarning: suggest_loguniform has been deprecated in v3.0.0. This feature will be removed in v6.0.0. See https://github.com/optuna/optuna/releases/tag/v3.0.0. Use suggest_float(..., log=True) instead.\n",
      "  weight_decay = trial.suggest_loguniform(\"weight_decay\", 1e-5, 1e-2)\n",
      "[I 2024-11-29 18:30:46,755] Trial 52 pruned. \n",
      "[I 2024-11-29 18:30:47,207] Trial 53 pruned. \n",
      "[I 2024-11-29 18:30:47,705] Trial 54 pruned. \n",
      "[I 2024-11-29 18:30:48,277] Trial 55 pruned. \n",
      "[I 2024-11-29 18:30:48,869] Trial 56 pruned. \n",
      "[I 2024-11-29 18:31:37,333] Trial 57 finished with value: 0.19392271369917016 and parameters: {'hidden_units1': 326, 'hidden_units2': 146, 'hidden_units3': 78, 'hidden_units4': 28, 'dropout1': 0.45, 'dropout2': 0.5, 'dropout3': 0.35000000000000003, 'dropout4': 0.15000000000000002, 'learning_rate': 1.1281502639233887e-05, 'weight_decay': 0.0005487952645487018}. Best is trial 27 with value: 0.37020631287128414.\n"
     ]
    },
    {
     "name": "stdout",
     "output_type": "stream",
     "text": [
      "Final MCC: 0.1939\n"
     ]
    },
    {
     "name": "stderr",
     "output_type": "stream",
     "text": [
      "/tmp/ipykernel_184762/2256069125.py:11: FutureWarning: suggest_loguniform has been deprecated in v3.0.0. This feature will be removed in v6.0.0. See https://github.com/optuna/optuna/releases/tag/v3.0.0. Use suggest_float(..., log=True) instead.\n",
      "  learning_rate = trial.suggest_loguniform(\"learning_rate\", 1e-5, 1e-2)\n",
      "/tmp/ipykernel_184762/2256069125.py:12: FutureWarning: suggest_loguniform has been deprecated in v3.0.0. This feature will be removed in v6.0.0. See https://github.com/optuna/optuna/releases/tag/v3.0.0. Use suggest_float(..., log=True) instead.\n",
      "  weight_decay = trial.suggest_loguniform(\"weight_decay\", 1e-5, 1e-2)\n",
      "[I 2024-11-29 18:32:06,731] Trial 58 finished with value: 0.33139055647643245 and parameters: {'hidden_units1': 288, 'hidden_units2': 164, 'hidden_units3': 72, 'hidden_units4': 20, 'dropout1': 0.2, 'dropout2': 0.30000000000000004, 'dropout3': 0.30000000000000004, 'dropout4': 0.35000000000000003, 'learning_rate': 1.9755538082184603e-05, 'weight_decay': 0.00020594230945249626}. Best is trial 27 with value: 0.37020631287128414.\n"
     ]
    },
    {
     "name": "stdout",
     "output_type": "stream",
     "text": [
      "Early stopping at epoch 64\n",
      "Final MCC: 0.3314\n"
     ]
    },
    {
     "name": "stderr",
     "output_type": "stream",
     "text": [
      "/tmp/ipykernel_184762/2256069125.py:11: FutureWarning: suggest_loguniform has been deprecated in v3.0.0. This feature will be removed in v6.0.0. See https://github.com/optuna/optuna/releases/tag/v3.0.0. Use suggest_float(..., log=True) instead.\n",
      "  learning_rate = trial.suggest_loguniform(\"learning_rate\", 1e-5, 1e-2)\n",
      "/tmp/ipykernel_184762/2256069125.py:12: FutureWarning: suggest_loguniform has been deprecated in v3.0.0. This feature will be removed in v6.0.0. See https://github.com/optuna/optuna/releases/tag/v3.0.0. Use suggest_float(..., log=True) instead.\n",
      "  weight_decay = trial.suggest_loguniform(\"weight_decay\", 1e-5, 1e-2)\n",
      "[I 2024-11-29 18:32:07,232] Trial 59 pruned. \n",
      "[I 2024-11-29 18:32:07,757] Trial 60 pruned. \n",
      "[I 2024-11-29 18:32:40,623] Trial 61 finished with value: 0.31423986908578294 and parameters: {'hidden_units1': 320, 'hidden_units2': 174, 'hidden_units3': 70, 'hidden_units4': 54, 'dropout1': 0.2, 'dropout2': 0.5, 'dropout3': 0.35000000000000003, 'dropout4': 0.4, 'learning_rate': 4.612084662602825e-05, 'weight_decay': 0.0002577402655062075}. Best is trial 27 with value: 0.37020631287128414.\n"
     ]
    },
    {
     "name": "stdout",
     "output_type": "stream",
     "text": [
      "Final MCC: 0.3142\n"
     ]
    },
    {
     "name": "stderr",
     "output_type": "stream",
     "text": [
      "/tmp/ipykernel_184762/2256069125.py:11: FutureWarning: suggest_loguniform has been deprecated in v3.0.0. This feature will be removed in v6.0.0. See https://github.com/optuna/optuna/releases/tag/v3.0.0. Use suggest_float(..., log=True) instead.\n",
      "  learning_rate = trial.suggest_loguniform(\"learning_rate\", 1e-5, 1e-2)\n",
      "/tmp/ipykernel_184762/2256069125.py:12: FutureWarning: suggest_loguniform has been deprecated in v3.0.0. This feature will be removed in v6.0.0. See https://github.com/optuna/optuna/releases/tag/v3.0.0. Use suggest_float(..., log=True) instead.\n",
      "  weight_decay = trial.suggest_loguniform(\"weight_decay\", 1e-5, 1e-2)\n",
      "[I 2024-11-29 18:33:02,176] Trial 62 finished with value: 0.375659820518351 and parameters: {'hidden_units1': 350, 'hidden_units2': 170, 'hidden_units3': 74, 'hidden_units4': 56, 'dropout1': 0.2, 'dropout2': 0.5, 'dropout3': 0.4, 'dropout4': 0.4, 'learning_rate': 3.727153088108693e-05, 'weight_decay': 0.00015951226209012684}. Best is trial 62 with value: 0.375659820518351.\n"
     ]
    },
    {
     "name": "stdout",
     "output_type": "stream",
     "text": [
      "Early stopping at epoch 61\n",
      "Final MCC: 0.3757\n"
     ]
    },
    {
     "name": "stderr",
     "output_type": "stream",
     "text": [
      "/tmp/ipykernel_184762/2256069125.py:11: FutureWarning: suggest_loguniform has been deprecated in v3.0.0. This feature will be removed in v6.0.0. See https://github.com/optuna/optuna/releases/tag/v3.0.0. Use suggest_float(..., log=True) instead.\n",
      "  learning_rate = trial.suggest_loguniform(\"learning_rate\", 1e-5, 1e-2)\n",
      "/tmp/ipykernel_184762/2256069125.py:12: FutureWarning: suggest_loguniform has been deprecated in v3.0.0. This feature will be removed in v6.0.0. See https://github.com/optuna/optuna/releases/tag/v3.0.0. Use suggest_float(..., log=True) instead.\n",
      "  weight_decay = trial.suggest_loguniform(\"weight_decay\", 1e-5, 1e-2)\n",
      "[I 2024-11-29 18:33:02,598] Trial 63 pruned. \n",
      "[I 2024-11-29 18:33:03,168] Trial 64 pruned. \n",
      "[I 2024-11-29 18:33:03,553] Trial 65 pruned. \n",
      "[I 2024-11-29 18:33:31,239] Trial 66 finished with value: 0.32476190476190475 and parameters: {'hidden_units1': 334, 'hidden_units2': 158, 'hidden_units3': 94, 'hidden_units4': 58, 'dropout1': 0.15000000000000002, 'dropout2': 0.5, 'dropout3': 0.5, 'dropout4': 0.25, 'learning_rate': 1.7509318565189484e-05, 'weight_decay': 0.00021255783057783187}. Best is trial 62 with value: 0.375659820518351.\n"
     ]
    },
    {
     "name": "stdout",
     "output_type": "stream",
     "text": [
      "Early stopping at epoch 90\n",
      "Final MCC: 0.3248\n"
     ]
    },
    {
     "name": "stderr",
     "output_type": "stream",
     "text": [
      "/tmp/ipykernel_184762/2256069125.py:11: FutureWarning: suggest_loguniform has been deprecated in v3.0.0. This feature will be removed in v6.0.0. See https://github.com/optuna/optuna/releases/tag/v3.0.0. Use suggest_float(..., log=True) instead.\n",
      "  learning_rate = trial.suggest_loguniform(\"learning_rate\", 1e-5, 1e-2)\n",
      "/tmp/ipykernel_184762/2256069125.py:12: FutureWarning: suggest_loguniform has been deprecated in v3.0.0. This feature will be removed in v6.0.0. See https://github.com/optuna/optuna/releases/tag/v3.0.0. Use suggest_float(..., log=True) instead.\n",
      "  weight_decay = trial.suggest_loguniform(\"weight_decay\", 1e-5, 1e-2)\n",
      "[I 2024-11-29 18:34:01,154] Trial 67 finished with value: 0.36122842845426706 and parameters: {'hidden_units1': 298, 'hidden_units2': 152, 'hidden_units3': 76, 'hidden_units4': 46, 'dropout1': 0.2, 'dropout2': 0.4, 'dropout3': 0.4, 'dropout4': 0.45, 'learning_rate': 4.0390987618499546e-05, 'weight_decay': 0.0003755094293875973}. Best is trial 62 with value: 0.375659820518351.\n"
     ]
    },
    {
     "name": "stdout",
     "output_type": "stream",
     "text": [
      "Early stopping at epoch 58\n",
      "Final MCC: 0.3612\n"
     ]
    },
    {
     "name": "stderr",
     "output_type": "stream",
     "text": [
      "/tmp/ipykernel_184762/2256069125.py:11: FutureWarning: suggest_loguniform has been deprecated in v3.0.0. This feature will be removed in v6.0.0. See https://github.com/optuna/optuna/releases/tag/v3.0.0. Use suggest_float(..., log=True) instead.\n",
      "  learning_rate = trial.suggest_loguniform(\"learning_rate\", 1e-5, 1e-2)\n",
      "/tmp/ipykernel_184762/2256069125.py:12: FutureWarning: suggest_loguniform has been deprecated in v3.0.0. This feature will be removed in v6.0.0. See https://github.com/optuna/optuna/releases/tag/v3.0.0. Use suggest_float(..., log=True) instead.\n",
      "  weight_decay = trial.suggest_loguniform(\"weight_decay\", 1e-5, 1e-2)\n",
      "[I 2024-11-29 18:34:01,548] Trial 68 pruned. \n",
      "[I 2024-11-29 18:34:02,202] Trial 69 pruned. \n",
      "[I 2024-11-29 18:34:02,867] Trial 70 pruned. \n",
      "[I 2024-11-29 18:34:28,791] Trial 71 finished with value: 0.24565294404260146 and parameters: {'hidden_units1': 272, 'hidden_units2': 152, 'hidden_units3': 78, 'hidden_units4': 52, 'dropout1': 0.15000000000000002, 'dropout2': 0.45, 'dropout3': 0.4, 'dropout4': 0.4, 'learning_rate': 2.08663970828611e-05, 'weight_decay': 0.00046784917919812915}. Best is trial 62 with value: 0.375659820518351.\n"
     ]
    },
    {
     "name": "stdout",
     "output_type": "stream",
     "text": [
      "Early stopping at epoch 60\n",
      "Final MCC: 0.2457\n"
     ]
    },
    {
     "name": "stderr",
     "output_type": "stream",
     "text": [
      "/tmp/ipykernel_184762/2256069125.py:11: FutureWarning: suggest_loguniform has been deprecated in v3.0.0. This feature will be removed in v6.0.0. See https://github.com/optuna/optuna/releases/tag/v3.0.0. Use suggest_float(..., log=True) instead.\n",
      "  learning_rate = trial.suggest_loguniform(\"learning_rate\", 1e-5, 1e-2)\n",
      "/tmp/ipykernel_184762/2256069125.py:12: FutureWarning: suggest_loguniform has been deprecated in v3.0.0. This feature will be removed in v6.0.0. See https://github.com/optuna/optuna/releases/tag/v3.0.0. Use suggest_float(..., log=True) instead.\n",
      "  weight_decay = trial.suggest_loguniform(\"weight_decay\", 1e-5, 1e-2)\n",
      "[I 2024-11-29 18:34:29,465] Trial 72 pruned. \n",
      "[I 2024-11-29 18:34:30,126] Trial 73 pruned. \n",
      "[I 2024-11-29 18:34:30,818] Trial 74 pruned. \n",
      "[I 2024-11-29 18:34:31,506] Trial 75 pruned. \n",
      "[I 2024-11-29 18:34:32,117] Trial 76 pruned. \n",
      "[I 2024-11-29 18:34:32,784] Trial 77 pruned. \n",
      "[I 2024-11-29 18:34:33,459] Trial 78 pruned. \n",
      "[I 2024-11-29 18:34:34,142] Trial 79 pruned. \n",
      "[I 2024-11-29 18:34:34,535] Trial 80 pruned. \n",
      "[I 2024-11-29 18:34:35,119] Trial 81 pruned. \n",
      "[I 2024-11-29 18:34:35,810] Trial 82 pruned. \n",
      "[I 2024-11-29 18:35:29,203] Trial 83 finished with value: 0.31873377739185427 and parameters: {'hidden_units1': 476, 'hidden_units2': 164, 'hidden_units3': 68, 'hidden_units4': 58, 'dropout1': 0.25, 'dropout2': 0.5, 'dropout3': 0.4, 'dropout4': 0.4, 'learning_rate': 2.1605073058069035e-05, 'weight_decay': 0.0001479289928137859}. Best is trial 62 with value: 0.375659820518351.\n"
     ]
    },
    {
     "name": "stdout",
     "output_type": "stream",
     "text": [
      "Final MCC: 0.3187\n"
     ]
    },
    {
     "name": "stderr",
     "output_type": "stream",
     "text": [
      "/tmp/ipykernel_184762/2256069125.py:11: FutureWarning: suggest_loguniform has been deprecated in v3.0.0. This feature will be removed in v6.0.0. See https://github.com/optuna/optuna/releases/tag/v3.0.0. Use suggest_float(..., log=True) instead.\n",
      "  learning_rate = trial.suggest_loguniform(\"learning_rate\", 1e-5, 1e-2)\n",
      "/tmp/ipykernel_184762/2256069125.py:12: FutureWarning: suggest_loguniform has been deprecated in v3.0.0. This feature will be removed in v6.0.0. See https://github.com/optuna/optuna/releases/tag/v3.0.0. Use suggest_float(..., log=True) instead.\n",
      "  weight_decay = trial.suggest_loguniform(\"weight_decay\", 1e-5, 1e-2)\n",
      "[I 2024-11-29 18:35:29,650] Trial 84 pruned. \n",
      "[I 2024-11-29 18:36:14,846] Trial 85 finished with value: 0.26156697873886303 and parameters: {'hidden_units1': 302, 'hidden_units2': 160, 'hidden_units3': 78, 'hidden_units4': 62, 'dropout1': 0.1, 'dropout2': 0.35000000000000003, 'dropout3': 0.30000000000000004, 'dropout4': 0.4, 'learning_rate': 2.8112962729744975e-05, 'weight_decay': 0.000510226200936942}. Best is trial 62 with value: 0.375659820518351.\n"
     ]
    },
    {
     "name": "stdout",
     "output_type": "stream",
     "text": [
      "Early stopping at epoch 86\n",
      "Final MCC: 0.2616\n"
     ]
    },
    {
     "name": "stderr",
     "output_type": "stream",
     "text": [
      "/tmp/ipykernel_184762/2256069125.py:11: FutureWarning: suggest_loguniform has been deprecated in v3.0.0. This feature will be removed in v6.0.0. See https://github.com/optuna/optuna/releases/tag/v3.0.0. Use suggest_float(..., log=True) instead.\n",
      "  learning_rate = trial.suggest_loguniform(\"learning_rate\", 1e-5, 1e-2)\n",
      "/tmp/ipykernel_184762/2256069125.py:12: FutureWarning: suggest_loguniform has been deprecated in v3.0.0. This feature will be removed in v6.0.0. See https://github.com/optuna/optuna/releases/tag/v3.0.0. Use suggest_float(..., log=True) instead.\n",
      "  weight_decay = trial.suggest_loguniform(\"weight_decay\", 1e-5, 1e-2)\n",
      "[I 2024-11-29 18:36:15,538] Trial 86 pruned. \n",
      "[I 2024-11-29 18:36:16,125] Trial 87 pruned. \n",
      "[I 2024-11-29 18:36:16,511] Trial 88 pruned. \n",
      "[I 2024-11-29 18:36:16,899] Trial 89 pruned. \n",
      "[I 2024-11-29 18:36:43,194] Trial 90 finished with value: 0.2168978427216907 and parameters: {'hidden_units1': 232, 'hidden_units2': 148, 'hidden_units3': 64, 'hidden_units4': 54, 'dropout1': 0.5, 'dropout2': 0.4, 'dropout3': 0.5, 'dropout4': 0.2, 'learning_rate': 3.32700751978894e-05, 'weight_decay': 0.0007813151100580049}. Best is trial 62 with value: 0.375659820518351.\n"
     ]
    },
    {
     "name": "stdout",
     "output_type": "stream",
     "text": [
      "Early stopping at epoch 83\n",
      "Final MCC: 0.2169\n"
     ]
    },
    {
     "name": "stderr",
     "output_type": "stream",
     "text": [
      "/tmp/ipykernel_184762/2256069125.py:11: FutureWarning: suggest_loguniform has been deprecated in v3.0.0. This feature will be removed in v6.0.0. See https://github.com/optuna/optuna/releases/tag/v3.0.0. Use suggest_float(..., log=True) instead.\n",
      "  learning_rate = trial.suggest_loguniform(\"learning_rate\", 1e-5, 1e-2)\n",
      "/tmp/ipykernel_184762/2256069125.py:12: FutureWarning: suggest_loguniform has been deprecated in v3.0.0. This feature will be removed in v6.0.0. See https://github.com/optuna/optuna/releases/tag/v3.0.0. Use suggest_float(..., log=True) instead.\n",
      "  weight_decay = trial.suggest_loguniform(\"weight_decay\", 1e-5, 1e-2)\n",
      "[I 2024-11-29 18:37:30,320] Trial 91 finished with value: 0.34659191007765316 and parameters: {'hidden_units1': 270, 'hidden_units2': 150, 'hidden_units3': 78, 'hidden_units4': 12, 'dropout1': 0.5, 'dropout2': 0.45, 'dropout3': 0.5, 'dropout4': 0.2, 'learning_rate': 2.6751521968883834e-05, 'weight_decay': 2.7612923215669338e-05}. Best is trial 62 with value: 0.375659820518351.\n"
     ]
    },
    {
     "name": "stdout",
     "output_type": "stream",
     "text": [
      "Final MCC: 0.3466\n"
     ]
    },
    {
     "name": "stderr",
     "output_type": "stream",
     "text": [
      "/tmp/ipykernel_184762/2256069125.py:11: FutureWarning: suggest_loguniform has been deprecated in v3.0.0. This feature will be removed in v6.0.0. See https://github.com/optuna/optuna/releases/tag/v3.0.0. Use suggest_float(..., log=True) instead.\n",
      "  learning_rate = trial.suggest_loguniform(\"learning_rate\", 1e-5, 1e-2)\n",
      "/tmp/ipykernel_184762/2256069125.py:12: FutureWarning: suggest_loguniform has been deprecated in v3.0.0. This feature will be removed in v6.0.0. See https://github.com/optuna/optuna/releases/tag/v3.0.0. Use suggest_float(..., log=True) instead.\n",
      "  weight_decay = trial.suggest_loguniform(\"weight_decay\", 1e-5, 1e-2)\n",
      "[I 2024-11-29 18:37:31,013] Trial 92 pruned. \n",
      "[I 2024-11-29 18:38:16,851] Trial 93 finished with value: 0.23449964176708632 and parameters: {'hidden_units1': 266, 'hidden_units2': 140, 'hidden_units3': 78, 'hidden_units4': 16, 'dropout1': 0.45, 'dropout2': 0.25, 'dropout3': 0.45, 'dropout4': 0.2, 'learning_rate': 1.777834646576693e-05, 'weight_decay': 3.5348366014094603e-05}. Best is trial 62 with value: 0.375659820518351.\n"
     ]
    },
    {
     "name": "stdout",
     "output_type": "stream",
     "text": [
      "Final MCC: 0.2345\n"
     ]
    },
    {
     "name": "stderr",
     "output_type": "stream",
     "text": [
      "/tmp/ipykernel_184762/2256069125.py:11: FutureWarning: suggest_loguniform has been deprecated in v3.0.0. This feature will be removed in v6.0.0. See https://github.com/optuna/optuna/releases/tag/v3.0.0. Use suggest_float(..., log=True) instead.\n",
      "  learning_rate = trial.suggest_loguniform(\"learning_rate\", 1e-5, 1e-2)\n",
      "/tmp/ipykernel_184762/2256069125.py:12: FutureWarning: suggest_loguniform has been deprecated in v3.0.0. This feature will be removed in v6.0.0. See https://github.com/optuna/optuna/releases/tag/v3.0.0. Use suggest_float(..., log=True) instead.\n",
      "  weight_decay = trial.suggest_loguniform(\"weight_decay\", 1e-5, 1e-2)\n",
      "[I 2024-11-29 18:39:01,271] Trial 94 finished with value: 0.32632285979817255 and parameters: {'hidden_units1': 254, 'hidden_units2': 154, 'hidden_units3': 74, 'hidden_units4': 14, 'dropout1': 0.45, 'dropout2': 0.5, 'dropout3': 0.5, 'dropout4': 0.2, 'learning_rate': 4.4518022638176594e-05, 'weight_decay': 2.2926327698264402e-05}. Best is trial 62 with value: 0.375659820518351.\n"
     ]
    },
    {
     "name": "stdout",
     "output_type": "stream",
     "text": [
      "Final MCC: 0.3263\n"
     ]
    },
    {
     "name": "stderr",
     "output_type": "stream",
     "text": [
      "/tmp/ipykernel_184762/2256069125.py:11: FutureWarning: suggest_loguniform has been deprecated in v3.0.0. This feature will be removed in v6.0.0. See https://github.com/optuna/optuna/releases/tag/v3.0.0. Use suggest_float(..., log=True) instead.\n",
      "  learning_rate = trial.suggest_loguniform(\"learning_rate\", 1e-5, 1e-2)\n",
      "/tmp/ipykernel_184762/2256069125.py:12: FutureWarning: suggest_loguniform has been deprecated in v3.0.0. This feature will be removed in v6.0.0. See https://github.com/optuna/optuna/releases/tag/v3.0.0. Use suggest_float(..., log=True) instead.\n",
      "  weight_decay = trial.suggest_loguniform(\"weight_decay\", 1e-5, 1e-2)\n",
      "[I 2024-11-29 18:39:45,836] Trial 95 finished with value: 0.0988095238095238 and parameters: {'hidden_units1': 314, 'hidden_units2': 144, 'hidden_units3': 82, 'hidden_units4': 8, 'dropout1': 0.5, 'dropout2': 0.45, 'dropout3': 0.45, 'dropout4': 0.1, 'learning_rate': 2.2820685520628485e-05, 'weight_decay': 1.6979732252936117e-05}. Best is trial 62 with value: 0.375659820518351.\n"
     ]
    },
    {
     "name": "stdout",
     "output_type": "stream",
     "text": [
      "Early stopping at epoch 91\n",
      "Final MCC: 0.0988\n"
     ]
    },
    {
     "name": "stderr",
     "output_type": "stream",
     "text": [
      "/tmp/ipykernel_184762/2256069125.py:11: FutureWarning: suggest_loguniform has been deprecated in v3.0.0. This feature will be removed in v6.0.0. See https://github.com/optuna/optuna/releases/tag/v3.0.0. Use suggest_float(..., log=True) instead.\n",
      "  learning_rate = trial.suggest_loguniform(\"learning_rate\", 1e-5, 1e-2)\n",
      "/tmp/ipykernel_184762/2256069125.py:12: FutureWarning: suggest_loguniform has been deprecated in v3.0.0. This feature will be removed in v6.0.0. See https://github.com/optuna/optuna/releases/tag/v3.0.0. Use suggest_float(..., log=True) instead.\n",
      "  weight_decay = trial.suggest_loguniform(\"weight_decay\", 1e-5, 1e-2)\n",
      "[I 2024-11-29 18:39:46,208] Trial 96 pruned. \n",
      "[I 2024-11-29 18:39:46,884] Trial 97 pruned. \n",
      "[I 2024-11-29 18:40:19,154] Trial 98 finished with value: 0.3622923634013659 and parameters: {'hidden_units1': 304, 'hidden_units2': 152, 'hidden_units3': 88, 'hidden_units4': 48, 'dropout1': 0.15000000000000002, 'dropout2': 0.4, 'dropout3': 0.5, 'dropout4': 0.4, 'learning_rate': 1.962555220764181e-05, 'weight_decay': 4.244067417056429e-05}. Best is trial 62 with value: 0.375659820518351.\n"
     ]
    },
    {
     "name": "stdout",
     "output_type": "stream",
     "text": [
      "Early stopping at epoch 93\n",
      "Final MCC: 0.3623\n"
     ]
    },
    {
     "name": "stderr",
     "output_type": "stream",
     "text": [
      "/tmp/ipykernel_184762/2256069125.py:11: FutureWarning: suggest_loguniform has been deprecated in v3.0.0. This feature will be removed in v6.0.0. See https://github.com/optuna/optuna/releases/tag/v3.0.0. Use suggest_float(..., log=True) instead.\n",
      "  learning_rate = trial.suggest_loguniform(\"learning_rate\", 1e-5, 1e-2)\n",
      "/tmp/ipykernel_184762/2256069125.py:12: FutureWarning: suggest_loguniform has been deprecated in v3.0.0. This feature will be removed in v6.0.0. See https://github.com/optuna/optuna/releases/tag/v3.0.0. Use suggest_float(..., log=True) instead.\n",
      "  weight_decay = trial.suggest_loguniform(\"weight_decay\", 1e-5, 1e-2)\n",
      "[I 2024-11-29 18:40:19,546] Trial 99 pruned. \n"
     ]
    },
    {
     "name": "stdout",
     "output_type": "stream",
     "text": [
      "Best Parameters:  {'hidden_units1': 350, 'hidden_units2': 170, 'hidden_units3': 74, 'hidden_units4': 56, 'dropout1': 0.2, 'dropout2': 0.5, 'dropout3': 0.4, 'dropout4': 0.4, 'learning_rate': 3.727153088108693e-05, 'weight_decay': 0.00015951226209012684}\n",
      "Best Validation F1:  0.375659820518351\n"
     ]
    }
   ],
   "source": [
    "device_id = 0  # 使用するGPUのID（0または1）\n",
    "torch.cuda.set_device(device_id)\n",
    "device = torch.device(f\"cuda:{device_id}\" if torch.cuda.is_available() else \"cpu\")\n",
    "\n",
    "# Optunaの設定\n",
    "study = optuna.create_study(direction=\"maximize\")  \n",
    "study.optimize(objective, n_trials=100)\n",
    "\n",
    "# 結果表示\n",
    "print(\"Best Parameters: \", study.best_params)\n",
    "print(\"Best Validation F1: \", study.best_value)"
   ]
  },
  {
   "cell_type": "code",
   "execution_count": 25,
   "metadata": {},
   "outputs": [
    {
     "name": "stdout",
     "output_type": "stream",
     "text": [
      "Epoch [1/100], Loss: 0.7100\n",
      "Epoch [1/100], Train Loss: 0.7100, Val Loss: 0.6722\n",
      "Epoch [2/100], Loss: 0.6973\n",
      "Epoch [2/100], Train Loss: 0.6973, Val Loss: 0.6627\n",
      "Epoch [3/100], Loss: 0.6872\n",
      "Epoch [3/100], Train Loss: 0.6872, Val Loss: 0.6507\n",
      "Epoch [4/100], Loss: 0.6760\n",
      "Epoch [4/100], Train Loss: 0.6760, Val Loss: 0.6449\n",
      "Epoch [5/100], Loss: 0.6638\n",
      "Epoch [5/100], Train Loss: 0.6638, Val Loss: 0.6353\n",
      "Epoch [6/100], Loss: 0.6537\n",
      "Epoch [6/100], Train Loss: 0.6537, Val Loss: 0.6253\n",
      "Epoch [7/100], Loss: 0.6529\n",
      "Epoch [7/100], Train Loss: 0.6529, Val Loss: 0.6168\n",
      "Epoch [8/100], Loss: 0.6354\n",
      "Epoch [8/100], Train Loss: 0.6354, Val Loss: 0.6104\n",
      "Epoch [9/100], Loss: 0.6340\n",
      "Epoch [9/100], Train Loss: 0.6340, Val Loss: 0.6087\n",
      "Epoch [10/100], Loss: 0.6314\n",
      "Epoch [10/100], Train Loss: 0.6314, Val Loss: 0.6011\n",
      "Epoch [11/100], Loss: 0.6191\n",
      "Epoch [11/100], Train Loss: 0.6191, Val Loss: 0.5988\n",
      "Epoch [12/100], Loss: 0.6212\n",
      "Epoch [12/100], Train Loss: 0.6212, Val Loss: 0.5956\n",
      "Epoch [13/100], Loss: 0.6252\n",
      "Epoch [13/100], Train Loss: 0.6252, Val Loss: 0.5905\n",
      "Epoch [14/100], Loss: 0.6159\n",
      "Epoch [14/100], Train Loss: 0.6159, Val Loss: 0.5947\n",
      "Epoch [15/100], Loss: 0.6101\n",
      "Epoch [15/100], Train Loss: 0.6101, Val Loss: 0.5898\n",
      "Epoch [16/100], Loss: 0.6114\n",
      "Epoch [16/100], Train Loss: 0.6114, Val Loss: 0.5857\n",
      "Epoch [17/100], Loss: 0.6120\n",
      "Epoch [17/100], Train Loss: 0.6120, Val Loss: 0.5837\n",
      "Epoch [18/100], Loss: 0.6042\n",
      "Epoch [18/100], Train Loss: 0.6042, Val Loss: 0.5852\n",
      "Epoch [19/100], Loss: 0.5996\n",
      "Epoch [19/100], Train Loss: 0.5996, Val Loss: 0.5833\n",
      "Epoch [20/100], Loss: 0.5968\n",
      "Epoch [20/100], Train Loss: 0.5968, Val Loss: 0.5779\n",
      "Epoch [21/100], Loss: 0.6012\n",
      "Epoch [21/100], Train Loss: 0.6012, Val Loss: 0.5753\n",
      "Epoch [22/100], Loss: 0.5954\n",
      "Epoch [22/100], Train Loss: 0.5954, Val Loss: 0.5768\n",
      "Epoch [23/100], Loss: 0.5944\n",
      "Epoch [23/100], Train Loss: 0.5944, Val Loss: 0.5783\n",
      "Epoch [24/100], Loss: 0.6024\n",
      "Epoch [24/100], Train Loss: 0.6024, Val Loss: 0.5762\n",
      "Epoch [25/100], Loss: 0.5911\n",
      "Epoch [25/100], Train Loss: 0.5911, Val Loss: 0.5728\n",
      "Epoch [26/100], Loss: 0.5848\n",
      "Epoch [26/100], Train Loss: 0.5848, Val Loss: 0.5755\n",
      "Epoch [27/100], Loss: 0.5917\n",
      "Epoch [27/100], Train Loss: 0.5917, Val Loss: 0.5741\n",
      "Epoch [28/100], Loss: 0.5889\n",
      "Epoch [28/100], Train Loss: 0.5889, Val Loss: 0.5704\n",
      "Epoch [29/100], Loss: 0.5798\n",
      "Epoch [29/100], Train Loss: 0.5798, Val Loss: 0.5731\n",
      "Epoch [30/100], Loss: 0.5846\n",
      "Epoch [30/100], Train Loss: 0.5846, Val Loss: 0.5710\n",
      "Epoch [31/100], Loss: 0.5857\n",
      "Epoch [31/100], Train Loss: 0.5857, Val Loss: 0.5704\n",
      "Epoch [32/100], Loss: 0.5873\n",
      "Epoch [32/100], Train Loss: 0.5873, Val Loss: 0.5691\n",
      "Epoch [33/100], Loss: 0.5825\n",
      "Epoch [33/100], Train Loss: 0.5825, Val Loss: 0.5701\n",
      "Epoch [34/100], Loss: 0.5827\n",
      "Epoch [34/100], Train Loss: 0.5827, Val Loss: 0.5679\n",
      "Epoch [35/100], Loss: 0.5788\n",
      "Epoch [35/100], Train Loss: 0.5788, Val Loss: 0.5684\n",
      "Epoch [36/100], Loss: 0.5729\n",
      "Epoch [36/100], Train Loss: 0.5729, Val Loss: 0.5649\n",
      "Epoch [37/100], Loss: 0.5832\n",
      "Epoch [37/100], Train Loss: 0.5832, Val Loss: 0.5688\n",
      "Epoch [38/100], Loss: 0.5874\n",
      "Epoch [38/100], Train Loss: 0.5874, Val Loss: 0.5664\n",
      "Epoch [39/100], Loss: 0.5723\n",
      "Epoch [39/100], Train Loss: 0.5723, Val Loss: 0.5675\n",
      "Epoch [40/100], Loss: 0.5857\n",
      "Epoch [40/100], Train Loss: 0.5857, Val Loss: 0.5660\n",
      "Epoch [41/100], Loss: 0.5735\n",
      "Epoch [41/100], Train Loss: 0.5735, Val Loss: 0.5667\n",
      "Epoch [42/100], Loss: 0.5787\n",
      "Epoch [42/100], Train Loss: 0.5787, Val Loss: 0.5648\n",
      "Epoch [43/100], Loss: 0.5780\n",
      "Epoch [43/100], Train Loss: 0.5780, Val Loss: 0.5673\n",
      "Epoch [44/100], Loss: 0.5721\n",
      "Epoch [44/100], Train Loss: 0.5721, Val Loss: 0.5660\n",
      "Epoch [45/100], Loss: 0.5781\n",
      "Epoch [45/100], Train Loss: 0.5781, Val Loss: 0.5663\n",
      "Epoch [46/100], Loss: 0.5709\n",
      "Epoch [46/100], Train Loss: 0.5709, Val Loss: 0.5663\n",
      "Epoch [47/100], Loss: 0.5741\n",
      "Epoch [47/100], Train Loss: 0.5741, Val Loss: 0.5654\n",
      "Epoch [48/100], Loss: 0.5785\n",
      "Epoch [48/100], Train Loss: 0.5785, Val Loss: 0.5637\n",
      "Epoch [49/100], Loss: 0.5797\n",
      "Epoch [49/100], Train Loss: 0.5797, Val Loss: 0.5629\n",
      "Epoch [50/100], Loss: 0.5719\n",
      "Epoch [50/100], Train Loss: 0.5719, Val Loss: 0.5610\n",
      "Epoch [51/100], Loss: 0.5691\n",
      "Epoch [51/100], Train Loss: 0.5691, Val Loss: 0.5614\n",
      "Epoch [52/100], Loss: 0.5744\n",
      "Epoch [52/100], Train Loss: 0.5744, Val Loss: 0.5648\n",
      "Epoch [53/100], Loss: 0.5760\n",
      "Epoch [53/100], Train Loss: 0.5760, Val Loss: 0.5627\n",
      "Epoch [54/100], Loss: 0.5738\n",
      "Epoch [54/100], Train Loss: 0.5738, Val Loss: 0.5601\n",
      "Epoch [55/100], Loss: 0.5765\n",
      "Epoch [55/100], Train Loss: 0.5765, Val Loss: 0.5615\n",
      "Epoch [56/100], Loss: 0.5742\n",
      "Epoch [56/100], Train Loss: 0.5742, Val Loss: 0.5597\n",
      "Epoch [57/100], Loss: 0.5735\n",
      "Epoch [57/100], Train Loss: 0.5735, Val Loss: 0.5607\n",
      "Epoch [58/100], Loss: 0.5718\n",
      "Epoch [58/100], Train Loss: 0.5718, Val Loss: 0.5609\n",
      "Epoch [59/100], Loss: 0.5730\n",
      "Epoch [59/100], Train Loss: 0.5730, Val Loss: 0.5608\n",
      "Epoch [60/100], Loss: 0.5697\n",
      "Epoch [60/100], Train Loss: 0.5697, Val Loss: 0.5633\n",
      "Epoch [61/100], Loss: 0.5684\n",
      "Epoch [61/100], Train Loss: 0.5684, Val Loss: 0.5607\n",
      "Epoch [62/100], Loss: 0.5681\n",
      "Epoch [62/100], Train Loss: 0.5681, Val Loss: 0.5611\n",
      "Epoch [63/100], Loss: 0.5642\n",
      "Epoch [63/100], Train Loss: 0.5642, Val Loss: 0.5600\n",
      "Epoch [64/100], Loss: 0.5659\n",
      "Epoch [64/100], Train Loss: 0.5659, Val Loss: 0.5678\n",
      "Epoch [65/100], Loss: 0.5740\n",
      "Epoch [65/100], Train Loss: 0.5740, Val Loss: 0.5590\n",
      "Epoch [66/100], Loss: 0.5741\n",
      "Epoch [66/100], Train Loss: 0.5741, Val Loss: 0.5596\n",
      "Epoch [67/100], Loss: 0.5716\n",
      "Epoch [67/100], Train Loss: 0.5716, Val Loss: 0.5578\n",
      "Epoch [68/100], Loss: 0.5727\n",
      "Epoch [68/100], Train Loss: 0.5727, Val Loss: 0.5589\n",
      "Epoch [69/100], Loss: 0.5667\n",
      "Epoch [69/100], Train Loss: 0.5667, Val Loss: 0.5586\n",
      "Epoch [70/100], Loss: 0.5733\n",
      "Epoch [70/100], Train Loss: 0.5733, Val Loss: 0.5584\n",
      "Epoch [71/100], Loss: 0.5715\n",
      "Epoch [71/100], Train Loss: 0.5715, Val Loss: 0.5602\n",
      "Epoch [72/100], Loss: 0.5662\n",
      "Epoch [72/100], Train Loss: 0.5662, Val Loss: 0.5589\n",
      "Epoch [73/100], Loss: 0.5719\n",
      "Epoch [73/100], Train Loss: 0.5719, Val Loss: 0.5589\n",
      "Epoch [74/100], Loss: 0.5645\n",
      "Epoch [74/100], Train Loss: 0.5645, Val Loss: 0.5570\n",
      "Epoch [75/100], Loss: 0.5639\n",
      "Epoch [75/100], Train Loss: 0.5639, Val Loss: 0.5608\n",
      "Epoch [76/100], Loss: 0.5667\n",
      "Epoch [76/100], Train Loss: 0.5667, Val Loss: 0.5606\n",
      "Epoch [77/100], Loss: 0.5634\n",
      "Epoch [77/100], Train Loss: 0.5634, Val Loss: 0.5592\n",
      "Epoch [78/100], Loss: 0.5665\n",
      "Epoch [78/100], Train Loss: 0.5665, Val Loss: 0.5586\n",
      "Epoch [79/100], Loss: 0.5568\n",
      "Epoch [79/100], Train Loss: 0.5568, Val Loss: 0.5576\n",
      "Epoch [80/100], Loss: 0.5686\n",
      "Epoch [80/100], Train Loss: 0.5686, Val Loss: 0.5567\n",
      "Epoch [81/100], Loss: 0.5641\n",
      "Epoch [81/100], Train Loss: 0.5641, Val Loss: 0.5575\n",
      "Epoch [82/100], Loss: 0.5562\n",
      "Epoch [82/100], Train Loss: 0.5562, Val Loss: 0.5587\n",
      "Epoch [83/100], Loss: 0.5662\n",
      "Epoch [83/100], Train Loss: 0.5662, Val Loss: 0.5561\n",
      "Epoch [84/100], Loss: 0.5640\n",
      "Epoch [84/100], Train Loss: 0.5640, Val Loss: 0.5598\n",
      "Epoch [85/100], Loss: 0.5644\n",
      "Epoch [85/100], Train Loss: 0.5644, Val Loss: 0.5557\n",
      "Epoch [86/100], Loss: 0.5643\n",
      "Epoch [86/100], Train Loss: 0.5643, Val Loss: 0.5565\n",
      "Epoch [87/100], Loss: 0.5628\n",
      "Epoch [87/100], Train Loss: 0.5628, Val Loss: 0.5570\n",
      "Epoch [88/100], Loss: 0.5618\n",
      "Epoch [88/100], Train Loss: 0.5618, Val Loss: 0.5582\n",
      "Epoch [89/100], Loss: 0.5682\n",
      "Epoch [89/100], Train Loss: 0.5682, Val Loss: 0.5559\n",
      "Epoch [90/100], Loss: 0.5691\n",
      "Epoch [90/100], Train Loss: 0.5691, Val Loss: 0.5578\n",
      "Epoch [91/100], Loss: 0.5591\n",
      "Epoch [91/100], Train Loss: 0.5591, Val Loss: 0.5565\n",
      "Epoch [92/100], Loss: 0.5586\n",
      "Epoch [92/100], Train Loss: 0.5586, Val Loss: 0.5582\n",
      "Epoch [93/100], Loss: 0.5615\n",
      "Epoch [93/100], Train Loss: 0.5615, Val Loss: 0.5567\n",
      "Epoch [94/100], Loss: 0.5607\n",
      "Epoch [94/100], Train Loss: 0.5607, Val Loss: 0.5559\n",
      "Epoch [95/100], Loss: 0.5630\n",
      "Epoch [95/100], Train Loss: 0.5630, Val Loss: 0.5566\n",
      "Epoch [96/100], Loss: 0.5569\n",
      "Epoch [96/100], Train Loss: 0.5569, Val Loss: 0.5565\n",
      "Epoch [97/100], Loss: 0.5638\n",
      "Epoch [97/100], Train Loss: 0.5638, Val Loss: 0.5563\n",
      "Epoch [98/100], Loss: 0.5567\n",
      "Epoch [98/100], Train Loss: 0.5567, Val Loss: 0.5563\n",
      "Epoch [99/100], Loss: 0.5621\n",
      "Epoch [99/100], Train Loss: 0.5621, Val Loss: 0.5571\n",
      "Epoch [100/100], Loss: 0.5577\n",
      "Epoch [100/100], Train Loss: 0.5577, Val Loss: 0.5560\n"
     ]
    },
    {
     "data": {
      "image/png": "[encoded data removed]",
      "text/plain": [
       "<Figure size 1000x600 with 1 Axes>"
      ]
     },
     "metadata": {},
     "output_type": "display_data"
    }
   ],
   "source": [
    "best_params=study.best_params\n",
    "model = DNN_3(input_dim=X_train_tensor.shape[1],\n",
    "              hidden_units1=best_params[\"hidden_units1\"],\n",
    "              hidden_units2=best_params[\"hidden_units2\"],\n",
    "              hidden_units3=best_params[\"hidden_units3\"],\n",
    "              hidden_units4=best_params[\"hidden_units4\"],\n",
    "              dropout1=best_params[\"dropout1\"],\n",
    "              dropout2=best_params[\"dropout2\"],\n",
    "              dropout3=best_params[\"dropout3\"],\n",
    "              dropout4=best_params[\"dropout4\"]).to(device)\n",
    "# 最適化と訓練を実行\n",
    "optimizer = optim.Adam(model.parameters(), lr=best_params[\"learning_rate\"],weight_decay=best_params[\"weight_decay\"])\n",
    "criterion = nn.BCELoss()\n",
    "\n",
    "num_epochs=100\n",
    "train_losses = []\n",
    "val_losses = []\n",
    "\n",
    "model.train()\n",
    "for epoch in range(num_epochs):\n",
    "    epoch_train_loss = 0\n",
    "    epoch_val_loss = 0\n",
    "\n",
    "    for X_batch, y_batch in train_loader:\n",
    "        X_batch, y_batch = X_batch.to(device), y_batch.to(device)\n",
    "        optimizer.zero_grad()\n",
    "        outputs = model(X_batch).squeeze()\n",
    "        loss = criterion(outputs, y_batch)\n",
    "        loss.backward()\n",
    "        optimizer.step()\n",
    "        epoch_train_loss += loss.item()\n",
    "    avg_train_loss = epoch_train_loss / len(train_loader)\n",
    "    train_losses.append(avg_train_loss)\n",
    "    print(f'Epoch [{epoch+1}/{num_epochs}], Loss: {avg_train_loss:.4f}')\n",
    "\n",
    "    if val_loader is not None:\n",
    "        model.eval()  \n",
    "        with torch.no_grad():\n",
    "            for X_val, y_val in val_loader:\n",
    "                X_val, y_val = X_val.to(device), y_val.to(device)\n",
    "                val_outputs = model(X_val).squeeze()\n",
    "                val_loss = criterion(val_outputs, y_val)\n",
    "                epoch_val_loss += val_loss.item()\n",
    "\n",
    "        avg_val_loss = epoch_val_loss / len(val_loader)\n",
    "        val_losses.append(avg_val_loss)\n",
    "        model.train()  \n",
    "\n",
    "    if val_loader is not None:\n",
    "        print(f\"Epoch [{epoch+1}/{num_epochs}], Train Loss: {avg_train_loss:.4f}, Val Loss: {avg_val_loss:.4f}\")\n",
    "    else:\n",
    "        print(f\"Epoch [{epoch+1}/{num_epochs}], Train Loss: {avg_train_loss:.4f}\")\n",
    "\n",
    "plt.figure(figsize=(10, 6))\n",
    "plt.plot(range(1, num_epochs + 1), train_losses, label='Train Loss')\n",
    "if val_losses:\n",
    "    plt.plot(range(1, num_epochs + 1), val_losses, label='Validation Loss')\n",
    "plt.xlabel('Epoch')\n",
    "plt.ylabel('Loss')\n",
    "plt.title('Learning Curve for DNN1')\n",
    "plt.legend()\n",
    "plt.grid()\n",
    "plt.show()"
   ]
  },
  {
   "cell_type": "code",
   "execution_count": 26,
   "metadata": {},
   "outputs": [
    {
     "name": "stdout",
     "output_type": "stream",
     "text": [
      "Accuracy: 58.88%\n",
      "Precision: 0.4809\n",
      "Recall: 0.8171\n",
      "F1 Score: 0.6055\n",
      "Matthews Correlation Coefficient: 0.2689\n",
      "Specificity: 0.4453\n"
     ]
    },
    {
     "data": {
      "image/png": "[encoded data removed]",
      "text/plain": [
       "<Figure size 640x480 with 1 Axes>"
      ]
     },
     "metadata": {},
     "output_type": "display_data"
    },
    {
     "data": {
      "image/png": "[encoded data removed]",
      "text/plain": [
       "<Figure size 640x480 with 1 Axes>"
      ]
     },
     "metadata": {},
     "output_type": "display_data"
    },
    {
     "data": {
      "image/png": "[encoded data removed]",
      "text/plain": [
       "<Figure size 640x480 with 1 Axes>"
      ]
     },
     "metadata": {},
     "output_type": "display_data"
    }
   ],
   "source": [
    "model.eval()\n",
    "with torch.no_grad():\n",
    "    X_test_tensor = X_test_tensor.to(device)\n",
    "    y_test_tensor = y_test_tensor.to(device)\n",
    "\n",
    "    # 予測と確率\n",
    "    test_outputs = model(X_test_tensor).squeeze()\n",
    "    predictions = (test_outputs >= 0.5).float()\n",
    "    y_true = y_test_tensor.cpu().numpy()\n",
    "    y_pred = predictions.cpu().numpy()\n",
    "    y_prob = test_outputs.cpu().numpy()\n",
    "\n",
    "# 評価指標\n",
    "    accuracy = accuracy_score(y_true, y_pred)\n",
    "    precision = precision_score(y_true, y_pred)\n",
    "    recall = recall_score(y_true, y_pred)\n",
    "    f1 = f1_score(y_true, y_pred)\n",
    "    mcc = matthews_corrcoef(y_true, y_pred)\n",
    "    specificity = recall_score(y_true, y_pred, pos_label=0)  \n",
    "    print(f'Accuracy: {accuracy * 100:.2f}%')\n",
    "    print(f'Precision: {precision:.4f}')\n",
    "    print(f'Recall: {recall:.4f}')\n",
    "    print(f'F1 Score: {f1:.4f}')\n",
    "    print(f'Matthews Correlation Coefficient: {mcc:.4f}')\n",
    "    print(f'Specificity: {specificity:.4f}')\n",
    "\n",
    "    # 混同行列（割合表示）\n",
    "    cm = confusion_matrix(y_true, y_pred, normalize='true')\n",
    "    sns.heatmap(cm, annot=True, fmt=\".2%\", cmap=\"Blues\", cbar=False)\n",
    "    plt.xlabel(\"Predicted\")\n",
    "    plt.ylabel(\"Actual\")\n",
    "    plt.title(f\"Confusion Matrix (Normalized)\")\n",
    "    plt.show()\n",
    "\n",
    "    # ROC曲線とAUC\n",
    "    fpr, tpr, thresholds = roc_curve(y_true, y_prob)\n",
    "    roc_auc = auc(fpr, tpr)\n",
    "    plt.plot(fpr, tpr, label=f'ROC curve (AUC = {roc_auc:.2f})')\n",
    "    plt.plot([0, 1], [0, 1], 'k--') \n",
    "    plt.xlabel('False Positive Rate')\n",
    "    plt.ylabel('True Positive Rate')\n",
    "    plt.title(f'ROC Curve - Model ')\n",
    "    plt.legend(loc=\"lower right\")\n",
    "    plt.show()\n",
    "\n",
    "    # Precision-Recall曲線\n",
    "    precision_curve, recall_curve, pr_thresholds = precision_recall_curve(y_true, y_prob)\n",
    "    pr_auc = auc(recall_curve, precision_curve)\n",
    "    plt.plot(recall_curve, precision_curve, label=f'PR curve (AUC = {pr_auc:.2f})')\n",
    "    plt.xlabel('Recall')\n",
    "    plt.ylabel('Precision')\n",
    "    plt.title(f'Precision-Recall Curve ')\n",
    "    plt.legend(loc=\"lower left\")\n",
    "    plt.show()    "
   ]
  },
  {
   "cell_type": "code",
   "execution_count": 27,
   "metadata": {},
   "outputs": [],
   "source": [
    "# モデルと構造を保存\n",
    "torch.save(model, '../../saved_model/DNN_3.pth')\n"
   ]
  }
 ],
 "metadata": {
  "kernelspec": {
   "display_name": "torch",
   "language": "python",
   "name": "python3"
  },
  "language_info": {
   "codemirror_mode": {
    "name": "ipython",
    "version": 3
   },
   "file_extension": ".py",
   "mimetype": "text/x-python",
   "name": "python",
   "nbconvert_exporter": "python",
   "pygments_lexer": "ipython3",
   "version": "3.12.7"
  }
 },
 "nbformat": 4,
 "nbformat_minor": 2
}
