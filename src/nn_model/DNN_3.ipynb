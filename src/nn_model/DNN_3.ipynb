{
 "cells": [
  {
   "cell_type": "code",
   "execution_count": 1,
   "metadata": {},
   "outputs": [],
   "source": [
    "import numpy as np\n",
    "import pandas as pd\n",
    "import matplotlib.pyplot as plt\n",
    "import seaborn as sns\n",
    "\n",
    "import torch\n",
    "import torch.nn as nn\n",
    "import torch.optim as optim\n",
    "\n",
    "import optuna\n",
    "\n",
    "from sklearn.model_selection import train_test_split\n",
    "from sklearn.metrics import confusion_matrix,accuracy_score, precision_score, recall_score, f1_score, confusion_matrix, roc_curve, auc,matthews_corrcoef, precision_recall_curve,roc_auc_score\n",
    "\n"
   ]
  },
  {
   "cell_type": "markdown",
   "metadata": {},
   "source": [
    "データ読み取り"
   ]
  },
  {
   "cell_type": "code",
   "execution_count": 2,
   "metadata": {},
   "outputs": [],
   "source": [
    "df=pd.read_csv('../../data/learning_data.csv',index_col=0)\n",
    "\n",
    "X=df.drop(columns='dengue',axis=1).values\n",
    "y=df['dengue'].values\n",
    "\n",
    "X_train, X_test, y_train, y_test = train_test_split(X, y, test_size=0.2,random_state=42)\n",
    "X_train, X_val, y_train, y_val = train_test_split(X_train, y_train, test_size=0.1,random_state=42)\n",
    "\n",
    "#torchテンソルに変換\n",
    "X_train_tensor = torch.tensor(X_train, dtype=torch.float32)\n",
    "y_train_tensor = torch.tensor(y_train, dtype=torch.float32)\n",
    "X_test_tensor = torch.tensor(X_test, dtype=torch.float32)\n",
    "y_test_tensor = torch.tensor(y_test, dtype=torch.float32)\n",
    "X_val_tensor = torch.tensor(X_val, dtype=torch.float32)\n",
    "y_val_tensor = torch.tensor(y_val, dtype=torch.float32)\n"
   ]
  },
  {
   "cell_type": "code",
   "execution_count": 3,
   "metadata": {},
   "outputs": [],
   "source": [
    "class DNN_3(nn.Module):\n",
    "    def __init__(self, input_dim,hidden_units1,hidden_units2,hidden_units3,hidden_units4,dropout1,dropout2,dropout3,dropout4):\n",
    "        super(DNN_3, self).__init__()\n",
    "        self.layer1 = nn.Linear(input_dim,hidden_units1)\n",
    "        self.layer2 = nn.Linear(hidden_units1,hidden_units2)\n",
    "        self.layer3 = nn.Linear(hidden_units2, hidden_units3)\n",
    "        self.layer4 = nn.Linear(hidden_units3, hidden_units4)\n",
    "        self.output_layer = nn.Linear(hidden_units4, 1)\n",
    "\n",
    "        self.dropout1 = nn.Dropout(dropout1)\n",
    "        self.dropout2 = nn.Dropout(dropout2)\n",
    "        self.dropout3 = nn.Dropout(dropout3)\n",
    "        self.dropout4 = nn.Dropout(dropout4)\n",
    "\n",
    "\n",
    "        self.bn1 = nn.BatchNorm1d(hidden_units1)\n",
    "        self.bn2 = nn.BatchNorm1d(hidden_units2)\n",
    "        self.bn3 = nn.BatchNorm1d(hidden_units3)\n",
    "        self.bn4 = nn.BatchNorm1d(hidden_units4)\n",
    "\n",
    "        \n",
    "        \n",
    "    def forward(self, x):\n",
    "        x = torch.relu(self.bn1(self.layer1(x)))\n",
    "        x = self.dropout1(x)\n",
    "        \n",
    "        x = torch.relu(self.bn2(self.layer2(x)))\n",
    "        x = self.dropout2(x)\n",
    "\n",
    "        x = torch.relu(self.bn3(self.layer3(x)))\n",
    "        x = self.dropout3(x)\n",
    "\n",
    "        x = torch.relu(self.bn4(self.layer4(x)))\n",
    "        x = self.dropout4(x)\n",
    "\n",
    "        x = torch.sigmoid(self.output_layer(x)) \n",
    "        return x\n",
    "    "
   ]
  },
  {
   "cell_type": "markdown",
   "metadata": {},
   "source": [
    "学習データセットの作成"
   ]
  },
  {
   "cell_type": "code",
   "execution_count": 4,
   "metadata": {},
   "outputs": [],
   "source": [
    "train_dataset = torch.utils.data.TensorDataset(X_train_tensor, y_train_tensor)\n",
    "train_loader = torch.utils.data.DataLoader(dataset=train_dataset, batch_size=32, shuffle=True)\n",
    "\n",
    "val_dataset = torch.utils.data.TensorDataset(X_val_tensor, y_val_tensor)\n",
    "val_loader = torch.utils.data.DataLoader(dataset=val_dataset, batch_size=32, shuffle=False)"
   ]
  },
  {
   "cell_type": "markdown",
   "metadata": {},
   "source": [
    "Optunaの設定"
   ]
  },
  {
   "cell_type": "code",
   "execution_count": null,
   "metadata": {},
   "outputs": [],
   "source": [
    "def objective(trial):\n",
    "    hidden_units1 = trial.suggest_int(\"hidden_units1\", 216, 512, step=2)\n",
    "    hidden_units2 = trial.suggest_int(\"hidden_units2\", 128, 216, step=2)\n",
    "    hidden_units3 = trial.suggest_int(\"hidden_units3\", 64, 128, step=2)\n",
    "    hidden_units4 = trial.suggest_int(\"hidden_units4\", 4, 64, step=2)\n",
    "    dropout1 = trial.suggest_float(\"dropout1\", 0.1, 0.5, step=0.05)\n",
    "    dropout2 = trial.suggest_float(\"dropout2\", 0.1, 0.5, step=0.05)\n",
    "    dropout3 = trial.suggest_float(\"dropout3\", 0.1, 0.5, step=0.05)\n",
    "    dropout4 = trial.suggest_float(\"dropout4\", 0.1, 0.5, step=0.05)\n",
    "    learning_rate = trial.suggest_loguniform(\"learning_rate\", 1e-5, 1e-1)\n",
    "    weight_decay=trial.suggest_loguniform(\"weight_decay\",1e-5,1)\n",
    "    \n",
    "\n",
    "    model = DNN_3(input_dim=X_train_tensor.shape[1], hidden_units1=hidden_units1,hidden_units2=hidden_units2,hidden_units3=hidden_units3,hidden_units4=hidden_units4, dropout1=dropout1,dropout2=dropout2,dropout3=dropout3,dropout4=dropout4).to(device)\n",
    "\n",
    "    criterion = nn.BCELoss()\n",
    "    optimizer = torch.optim.Adam(model.parameters(),lr=learning_rate,weight_decay=weight_decay)\n",
    "\n",
    "    num_epochs = 100\n",
    "    for epoch in range(num_epochs):\n",
    "        model.train()\n",
    "        for X_batch, y_batch in train_loader:\n",
    "            X_batch, y_batch = X_batch.to(device), y_batch.to(device)\n",
    "            optimizer.zero_grad()\n",
    "            outputs = model(X_batch).squeeze()\n",
    "            loss = criterion(outputs, y_batch)\n",
    "            loss.backward()\n",
    "            optimizer.step()\n",
    "\n",
    "    \n",
    "    model.eval()\n",
    "    val_true, val_pred, val_prob = [], [], []\n",
    "    with torch.no_grad():\n",
    "        for X_val, y_val in val_loader:\n",
    "            X_val, y_val = X_val.to(device), y_val.to(device)\n",
    "            val_outputs = model(X_val).squeeze()\n",
    "            predictions = (val_outputs >= 0.5).float()\n",
    "            val_true.extend(y_val.cpu().numpy())\n",
    "            val_pred.extend(predictions.cpu().numpy())\n",
    "            val_prob.extend(val_outputs.cpu().numpy())\n",
    "\n",
    "\n",
    "    accuracy = accuracy_score(val_true, val_pred)\n",
    "    precision = precision_score(val_true, val_pred)\n",
    "    recall = recall_score(val_true, val_pred)\n",
    "    f1 = f1_score(val_true, val_pred)\n",
    "    mcc = matthews_corrcoef(val_true, val_pred)\n",
    "    specificity = recall_score(val_true, val_pred, pos_label=0)\n",
    "\n",
    "    # ログ\n",
    "    print(f'Accuracy: {accuracy * 100:.2f}%')\n",
    "    print(f'Precision: {precision:.4f}')\n",
    "    print(f'Recall: {recall:.4f}')\n",
    "    print(f'F1 Score: {f1:.4f}')\n",
    "    print(f'Matthews Correlation Coefficient: {mcc:.4f}')\n",
    "    print(f'Specificity: {specificity:.4f}')\n",
    "\n",
    "    return precision\n"
   ]
  },
  {
   "cell_type": "code",
   "execution_count": 6,
   "metadata": {},
   "outputs": [
    {
     "name": "stdout",
     "output_type": "stream",
     "text": [
      "使用可能なGPUの数: 2\n",
      "GPU 0: NVIDIA GeForce GTX 1080 Ti\n",
      "  メモリ使用状況: 0.00 MB / 11169.31 MB\n",
      "  CUDA対応バージョン: 6.1\n",
      "GPU 1: NVIDIA GeForce GTX 1080 Ti\n",
      "  メモリ使用状況: 0.00 MB / 11172.19 MB\n",
      "  CUDA対応バージョン: 6.1\n"
     ]
    }
   ],
   "source": [
    "# 使用可能なGPUの数を取得\n",
    "num_gpus = torch.cuda.device_count()\n",
    "\n",
    "if num_gpus == 0:\n",
    "    print(\"使用可能なGPUはありません。\")\n",
    "else:\n",
    "    print(f\"使用可能なGPUの数: {num_gpus}\")\n",
    "    for i in range(num_gpus):\n",
    "        print(f\"GPU {i}: {torch.cuda.get_device_name(i)}\")\n",
    "        print(f\"  メモリ使用状況: {torch.cuda.memory_allocated(i) / 1024**2:.2f} MB / {torch.cuda.get_device_properties(i).total_memory / 1024**2:.2f} MB\")\n",
    "        print(f\"  CUDA対応バージョン: {torch.cuda.get_device_properties(i).major}.{torch.cuda.get_device_properties(i).minor}\")\n"
   ]
  },
  {
   "cell_type": "code",
   "execution_count": 7,
   "metadata": {},
   "outputs": [
    {
     "name": "stderr",
     "output_type": "stream",
     "text": [
      "[I 2024-11-28 19:02:57,196] A new study created in memory with name: no-name-d0fde70b-3b5c-4817-bf51-e265d215a5e0\n",
      "/tmp/ipykernel_184762/2455988453.py:10: FutureWarning: suggest_loguniform has been deprecated in v3.0.0. This feature will be removed in v6.0.0. See https://github.com/optuna/optuna/releases/tag/v3.0.0. Use suggest_float(..., log=True) instead.\n",
      "  learning_rate = trial.suggest_loguniform(\"learning_rate\", 1e-5, 1e-1)\n",
      "/tmp/ipykernel_184762/2455988453.py:11: FutureWarning: suggest_loguniform has been deprecated in v3.0.0. This feature will be removed in v6.0.0. See https://github.com/optuna/optuna/releases/tag/v3.0.0. Use suggest_float(..., log=True) instead.\n",
      "  weight_decay=trial.suggest_loguniform(\"weight_decay\",1e-5,1)\n",
      "[I 2024-11-28 19:03:46,285] Trial 0 finished with value: 0.6272493573264781 and parameters: {'hidden_units1': 264, 'hidden_units2': 184, 'hidden_units3': 100, 'hidden_units4': 54, 'dropout1': 0.25, 'dropout2': 0.2, 'dropout3': 0.35, 'dropout4': 0.30000000000000004, 'learning_rate': 0.02267852261636663, 'weight_decay': 2.3505263170047338e-05}. Best is trial 0 with value: 0.6272493573264781.\n"
     ]
    },
    {
     "name": "stdout",
     "output_type": "stream",
     "text": [
      "Accuracy: 58.69%\n",
      "Precision: 0.4639\n",
      "Recall: 0.9683\n",
      "F1 Score: 0.6272\n",
      "Matthews Correlation Coefficient: 0.3781\n",
      "Specificity: 0.3733\n"
     ]
    },
    {
     "name": "stderr",
     "output_type": "stream",
     "text": [
      "/tmp/ipykernel_184762/2455988453.py:10: FutureWarning: suggest_loguniform has been deprecated in v3.0.0. This feature will be removed in v6.0.0. See https://github.com/optuna/optuna/releases/tag/v3.0.0. Use suggest_float(..., log=True) instead.\n",
      "  learning_rate = trial.suggest_loguniform(\"learning_rate\", 1e-5, 1e-1)\n",
      "/tmp/ipykernel_184762/2455988453.py:11: FutureWarning: suggest_loguniform has been deprecated in v3.0.0. This feature will be removed in v6.0.0. See https://github.com/optuna/optuna/releases/tag/v3.0.0. Use suggest_float(..., log=True) instead.\n",
      "  weight_decay=trial.suggest_loguniform(\"weight_decay\",1e-5,1)\n",
      "/home/gonken/anaconda3/envs/torch/lib/python3.12/site-packages/sklearn/metrics/_classification.py:1531: UndefinedMetricWarning: Precision is ill-defined and being set to 0.0 due to no predicted samples. Use `zero_division` parameter to control this behavior.\n",
      "  _warn_prf(average, modifier, f\"{metric.capitalize()} is\", len(result))\n",
      "[I 2024-11-28 19:04:37,995] Trial 1 finished with value: 0.0 and parameters: {'hidden_units1': 246, 'hidden_units2': 180, 'hidden_units3': 80, 'hidden_units4': 26, 'dropout1': 0.30000000000000004, 'dropout2': 0.45000000000000007, 'dropout3': 0.45000000000000007, 'dropout4': 0.35, 'learning_rate': 0.027178700358850182, 'weight_decay': 0.0009319754946144096}. Best is trial 0 with value: 0.6272493573264781.\n",
      "/tmp/ipykernel_184762/2455988453.py:10: FutureWarning: suggest_loguniform has been deprecated in v3.0.0. This feature will be removed in v6.0.0. See https://github.com/optuna/optuna/releases/tag/v3.0.0. Use suggest_float(..., log=True) instead.\n",
      "  learning_rate = trial.suggest_loguniform(\"learning_rate\", 1e-5, 1e-1)\n",
      "/tmp/ipykernel_184762/2455988453.py:11: FutureWarning: suggest_loguniform has been deprecated in v3.0.0. This feature will be removed in v6.0.0. See https://github.com/optuna/optuna/releases/tag/v3.0.0. Use suggest_float(..., log=True) instead.\n",
      "  weight_decay=trial.suggest_loguniform(\"weight_decay\",1e-5,1)\n"
     ]
    },
    {
     "name": "stdout",
     "output_type": "stream",
     "text": [
      "Accuracy: 64.10%\n",
      "Precision: 0.0000\n",
      "Recall: 0.0000\n",
      "F1 Score: 0.0000\n",
      "Matthews Correlation Coefficient: 0.0000\n",
      "Specificity: 1.0000\n"
     ]
    },
    {
     "name": "stderr",
     "output_type": "stream",
     "text": [
      "/home/gonken/anaconda3/envs/torch/lib/python3.12/site-packages/sklearn/metrics/_classification.py:1531: UndefinedMetricWarning: Precision is ill-defined and being set to 0.0 due to no predicted samples. Use `zero_division` parameter to control this behavior.\n",
      "  _warn_prf(average, modifier, f\"{metric.capitalize()} is\", len(result))\n",
      "[I 2024-11-28 19:05:28,684] Trial 2 finished with value: 0.0 and parameters: {'hidden_units1': 298, 'hidden_units2': 202, 'hidden_units3': 124, 'hidden_units4': 18, 'dropout1': 0.2, 'dropout2': 0.15000000000000002, 'dropout3': 0.35, 'dropout4': 0.30000000000000004, 'learning_rate': 0.06150645341743425, 'weight_decay': 0.0008758034913765403}. Best is trial 0 with value: 0.6272493573264781.\n",
      "/tmp/ipykernel_184762/2455988453.py:10: FutureWarning: suggest_loguniform has been deprecated in v3.0.0. This feature will be removed in v6.0.0. See https://github.com/optuna/optuna/releases/tag/v3.0.0. Use suggest_float(..., log=True) instead.\n",
      "  learning_rate = trial.suggest_loguniform(\"learning_rate\", 1e-5, 1e-1)\n",
      "/tmp/ipykernel_184762/2455988453.py:11: FutureWarning: suggest_loguniform has been deprecated in v3.0.0. This feature will be removed in v6.0.0. See https://github.com/optuna/optuna/releases/tag/v3.0.0. Use suggest_float(..., log=True) instead.\n",
      "  weight_decay=trial.suggest_loguniform(\"weight_decay\",1e-5,1)\n"
     ]
    },
    {
     "name": "stdout",
     "output_type": "stream",
     "text": [
      "Accuracy: 64.10%\n",
      "Precision: 0.0000\n",
      "Recall: 0.0000\n",
      "F1 Score: 0.0000\n",
      "Matthews Correlation Coefficient: 0.0000\n",
      "Specificity: 1.0000\n"
     ]
    },
    {
     "name": "stderr",
     "output_type": "stream",
     "text": [
      "/home/gonken/anaconda3/envs/torch/lib/python3.12/site-packages/sklearn/metrics/_classification.py:1531: UndefinedMetricWarning: Precision is ill-defined and being set to 0.0 due to no predicted samples. Use `zero_division` parameter to control this behavior.\n",
      "  _warn_prf(average, modifier, f\"{metric.capitalize()} is\", len(result))\n",
      "[I 2024-11-28 19:06:18,081] Trial 3 finished with value: 0.0 and parameters: {'hidden_units1': 272, 'hidden_units2': 206, 'hidden_units3': 78, 'hidden_units4': 18, 'dropout1': 0.4, 'dropout2': 0.45000000000000007, 'dropout3': 0.2, 'dropout4': 0.5, 'learning_rate': 0.0012059292254152905, 'weight_decay': 0.07013802813201345}. Best is trial 0 with value: 0.6272493573264781.\n",
      "/tmp/ipykernel_184762/2455988453.py:10: FutureWarning: suggest_loguniform has been deprecated in v3.0.0. This feature will be removed in v6.0.0. See https://github.com/optuna/optuna/releases/tag/v3.0.0. Use suggest_float(..., log=True) instead.\n",
      "  learning_rate = trial.suggest_loguniform(\"learning_rate\", 1e-5, 1e-1)\n",
      "/tmp/ipykernel_184762/2455988453.py:11: FutureWarning: suggest_loguniform has been deprecated in v3.0.0. This feature will be removed in v6.0.0. See https://github.com/optuna/optuna/releases/tag/v3.0.0. Use suggest_float(..., log=True) instead.\n",
      "  weight_decay=trial.suggest_loguniform(\"weight_decay\",1e-5,1)\n"
     ]
    },
    {
     "name": "stdout",
     "output_type": "stream",
     "text": [
      "Accuracy: 64.10%\n",
      "Precision: 0.0000\n",
      "Recall: 0.0000\n",
      "F1 Score: 0.0000\n",
      "Matthews Correlation Coefficient: 0.0000\n",
      "Specificity: 1.0000\n"
     ]
    },
    {
     "name": "stderr",
     "output_type": "stream",
     "text": [
      "[I 2024-11-28 19:07:06,072] Trial 4 finished with value: 0.33 and parameters: {'hidden_units1': 312, 'hidden_units2': 182, 'hidden_units3': 114, 'hidden_units4': 12, 'dropout1': 0.1, 'dropout2': 0.30000000000000004, 'dropout3': 0.15000000000000002, 'dropout4': 0.2, 'learning_rate': 3.807819918619593e-05, 'weight_decay': 0.6017439156273342}. Best is trial 0 with value: 0.6272493573264781.\n"
     ]
    },
    {
     "name": "stdout",
     "output_type": "stream",
     "text": [
      "Accuracy: 61.82%\n",
      "Precision: 0.4459\n",
      "Recall: 0.2619\n",
      "F1 Score: 0.3300\n",
      "Matthews Correlation Coefficient: 0.0937\n",
      "Specificity: 0.8178\n"
     ]
    },
    {
     "name": "stderr",
     "output_type": "stream",
     "text": [
      "/tmp/ipykernel_184762/2455988453.py:10: FutureWarning: suggest_loguniform has been deprecated in v3.0.0. This feature will be removed in v6.0.0. See https://github.com/optuna/optuna/releases/tag/v3.0.0. Use suggest_float(..., log=True) instead.\n",
      "  learning_rate = trial.suggest_loguniform(\"learning_rate\", 1e-5, 1e-1)\n",
      "/tmp/ipykernel_184762/2455988453.py:11: FutureWarning: suggest_loguniform has been deprecated in v3.0.0. This feature will be removed in v6.0.0. See https://github.com/optuna/optuna/releases/tag/v3.0.0. Use suggest_float(..., log=True) instead.\n",
      "  weight_decay=trial.suggest_loguniform(\"weight_decay\",1e-5,1)\n",
      "[I 2024-11-28 19:07:55,589] Trial 5 finished with value: 0.4583333333333333 and parameters: {'hidden_units1': 394, 'hidden_units2': 148, 'hidden_units3': 112, 'hidden_units4': 34, 'dropout1': 0.25, 'dropout2': 0.2, 'dropout3': 0.25, 'dropout4': 0.2, 'learning_rate': 5.3349035835576314e-05, 'weight_decay': 1.576838659168425e-05}. Best is trial 0 with value: 0.6272493573264781.\n"
     ]
    },
    {
     "name": "stdout",
     "output_type": "stream",
     "text": [
      "Accuracy: 62.96%\n",
      "Precision: 0.4825\n",
      "Recall: 0.4365\n",
      "F1 Score: 0.4583\n",
      "Matthews Correlation Coefficient: 0.1785\n",
      "Specificity: 0.7378\n"
     ]
    },
    {
     "name": "stderr",
     "output_type": "stream",
     "text": [
      "/tmp/ipykernel_184762/2455988453.py:10: FutureWarning: suggest_loguniform has been deprecated in v3.0.0. This feature will be removed in v6.0.0. See https://github.com/optuna/optuna/releases/tag/v3.0.0. Use suggest_float(..., log=True) instead.\n",
      "  learning_rate = trial.suggest_loguniform(\"learning_rate\", 1e-5, 1e-1)\n",
      "/tmp/ipykernel_184762/2455988453.py:11: FutureWarning: suggest_loguniform has been deprecated in v3.0.0. This feature will be removed in v6.0.0. See https://github.com/optuna/optuna/releases/tag/v3.0.0. Use suggest_float(..., log=True) instead.\n",
      "  weight_decay=trial.suggest_loguniform(\"weight_decay\",1e-5,1)\n",
      "[I 2024-11-28 19:08:45,139] Trial 6 finished with value: 0.4715447154471545 and parameters: {'hidden_units1': 414, 'hidden_units2': 206, 'hidden_units3': 108, 'hidden_units4': 62, 'dropout1': 0.2, 'dropout2': 0.5, 'dropout3': 0.1, 'dropout4': 0.2, 'learning_rate': 0.0007466956414086399, 'weight_decay': 1.217587349044973e-05}. Best is trial 0 with value: 0.6272493573264781.\n"
     ]
    },
    {
     "name": "stdout",
     "output_type": "stream",
     "text": [
      "Accuracy: 62.96%\n",
      "Precision: 0.4833\n",
      "Recall: 0.4603\n",
      "F1 Score: 0.4715\n",
      "Matthews Correlation Coefficient: 0.1868\n",
      "Specificity: 0.7244\n"
     ]
    },
    {
     "name": "stderr",
     "output_type": "stream",
     "text": [
      "/tmp/ipykernel_184762/2455988453.py:10: FutureWarning: suggest_loguniform has been deprecated in v3.0.0. This feature will be removed in v6.0.0. See https://github.com/optuna/optuna/releases/tag/v3.0.0. Use suggest_float(..., log=True) instead.\n",
      "  learning_rate = trial.suggest_loguniform(\"learning_rate\", 1e-5, 1e-1)\n",
      "/tmp/ipykernel_184762/2455988453.py:11: FutureWarning: suggest_loguniform has been deprecated in v3.0.0. This feature will be removed in v6.0.0. See https://github.com/optuna/optuna/releases/tag/v3.0.0. Use suggest_float(..., log=True) instead.\n",
      "  weight_decay=trial.suggest_loguniform(\"weight_decay\",1e-5,1)\n",
      "[I 2024-11-28 19:09:34,642] Trial 7 finished with value: 0.4036697247706422 and parameters: {'hidden_units1': 382, 'hidden_units2': 210, 'hidden_units3': 106, 'hidden_units4': 48, 'dropout1': 0.25, 'dropout2': 0.15000000000000002, 'dropout3': 0.2, 'dropout4': 0.35, 'learning_rate': 0.002574504302659838, 'weight_decay': 0.0006940436754381807}. Best is trial 0 with value: 0.6272493573264781.\n"
     ]
    },
    {
     "name": "stdout",
     "output_type": "stream",
     "text": [
      "Accuracy: 62.96%\n",
      "Precision: 0.4783\n",
      "Recall: 0.3492\n",
      "F1 Score: 0.4037\n",
      "Matthews Correlation Coefficient: 0.1482\n",
      "Specificity: 0.7867\n"
     ]
    },
    {
     "name": "stderr",
     "output_type": "stream",
     "text": [
      "/tmp/ipykernel_184762/2455988453.py:10: FutureWarning: suggest_loguniform has been deprecated in v3.0.0. This feature will be removed in v6.0.0. See https://github.com/optuna/optuna/releases/tag/v3.0.0. Use suggest_float(..., log=True) instead.\n",
      "  learning_rate = trial.suggest_loguniform(\"learning_rate\", 1e-5, 1e-1)\n",
      "/tmp/ipykernel_184762/2455988453.py:11: FutureWarning: suggest_loguniform has been deprecated in v3.0.0. This feature will be removed in v6.0.0. See https://github.com/optuna/optuna/releases/tag/v3.0.0. Use suggest_float(..., log=True) instead.\n",
      "  weight_decay=trial.suggest_loguniform(\"weight_decay\",1e-5,1)\n",
      "/home/gonken/anaconda3/envs/torch/lib/python3.12/site-packages/sklearn/metrics/_classification.py:1531: UndefinedMetricWarning: Precision is ill-defined and being set to 0.0 due to no predicted samples. Use `zero_division` parameter to control this behavior.\n",
      "  _warn_prf(average, modifier, f\"{metric.capitalize()} is\", len(result))\n",
      "[I 2024-11-28 19:10:23,711] Trial 8 finished with value: 0.0 and parameters: {'hidden_units1': 460, 'hidden_units2': 184, 'hidden_units3': 104, 'hidden_units4': 48, 'dropout1': 0.15000000000000002, 'dropout2': 0.2, 'dropout3': 0.5, 'dropout4': 0.30000000000000004, 'learning_rate': 0.0038781475499683597, 'weight_decay': 0.06638410019458814}. Best is trial 0 with value: 0.6272493573264781.\n",
      "/tmp/ipykernel_184762/2455988453.py:10: FutureWarning: suggest_loguniform has been deprecated in v3.0.0. This feature will be removed in v6.0.0. See https://github.com/optuna/optuna/releases/tag/v3.0.0. Use suggest_float(..., log=True) instead.\n",
      "  learning_rate = trial.suggest_loguniform(\"learning_rate\", 1e-5, 1e-1)\n",
      "/tmp/ipykernel_184762/2455988453.py:11: FutureWarning: suggest_loguniform has been deprecated in v3.0.0. This feature will be removed in v6.0.0. See https://github.com/optuna/optuna/releases/tag/v3.0.0. Use suggest_float(..., log=True) instead.\n",
      "  weight_decay=trial.suggest_loguniform(\"weight_decay\",1e-5,1)\n"
     ]
    },
    {
     "name": "stdout",
     "output_type": "stream",
     "text": [
      "Accuracy: 64.10%\n",
      "Precision: 0.0000\n",
      "Recall: 0.0000\n",
      "F1 Score: 0.0000\n",
      "Matthews Correlation Coefficient: 0.0000\n",
      "Specificity: 1.0000\n"
     ]
    },
    {
     "name": "stderr",
     "output_type": "stream",
     "text": [
      "[I 2024-11-28 19:11:11,937] Trial 9 finished with value: 0.45849802371541504 and parameters: {'hidden_units1': 244, 'hidden_units2': 182, 'hidden_units3': 96, 'hidden_units4': 40, 'dropout1': 0.15000000000000002, 'dropout2': 0.35, 'dropout3': 0.2, 'dropout4': 0.2, 'learning_rate': 9.690178210348643e-05, 'weight_decay': 0.008469418234655354}. Best is trial 0 with value: 0.6272493573264781.\n"
     ]
    },
    {
     "name": "stdout",
     "output_type": "stream",
     "text": [
      "Accuracy: 60.97%\n",
      "Precision: 0.4567\n",
      "Recall: 0.4603\n",
      "F1 Score: 0.4585\n",
      "Matthews Correlation Coefficient: 0.1534\n",
      "Specificity: 0.6933\n"
     ]
    },
    {
     "name": "stderr",
     "output_type": "stream",
     "text": [
      "/tmp/ipykernel_184762/2455988453.py:10: FutureWarning: suggest_loguniform has been deprecated in v3.0.0. This feature will be removed in v6.0.0. See https://github.com/optuna/optuna/releases/tag/v3.0.0. Use suggest_float(..., log=True) instead.\n",
      "  learning_rate = trial.suggest_loguniform(\"learning_rate\", 1e-5, 1e-1)\n",
      "/tmp/ipykernel_184762/2455988453.py:11: FutureWarning: suggest_loguniform has been deprecated in v3.0.0. This feature will be removed in v6.0.0. See https://github.com/optuna/optuna/releases/tag/v3.0.0. Use suggest_float(..., log=True) instead.\n",
      "  weight_decay=trial.suggest_loguniform(\"weight_decay\",1e-5,1)\n",
      "[I 2024-11-28 19:12:01,453] Trial 10 finished with value: 0.6299212598425197 and parameters: {'hidden_units1': 334, 'hidden_units2': 154, 'hidden_units3': 66, 'hidden_units4': 64, 'dropout1': 0.5, 'dropout2': 0.1, 'dropout3': 0.35, 'dropout4': 0.1, 'learning_rate': 0.013552770766139234, 'weight_decay': 0.00012571210312617607}. Best is trial 10 with value: 0.6299212598425197.\n"
     ]
    },
    {
     "name": "stdout",
     "output_type": "stream",
     "text": [
      "Accuracy: 59.83%\n",
      "Precision: 0.4706\n",
      "Recall: 0.9524\n",
      "F1 Score: 0.6299\n",
      "Matthews Correlation Coefficient: 0.3792\n",
      "Specificity: 0.4000\n"
     ]
    },
    {
     "name": "stderr",
     "output_type": "stream",
     "text": [
      "/tmp/ipykernel_184762/2455988453.py:10: FutureWarning: suggest_loguniform has been deprecated in v3.0.0. This feature will be removed in v6.0.0. See https://github.com/optuna/optuna/releases/tag/v3.0.0. Use suggest_float(..., log=True) instead.\n",
      "  learning_rate = trial.suggest_loguniform(\"learning_rate\", 1e-5, 1e-1)\n",
      "/tmp/ipykernel_184762/2455988453.py:11: FutureWarning: suggest_loguniform has been deprecated in v3.0.0. This feature will be removed in v6.0.0. See https://github.com/optuna/optuna/releases/tag/v3.0.0. Use suggest_float(..., log=True) instead.\n",
      "  weight_decay=trial.suggest_loguniform(\"weight_decay\",1e-5,1)\n",
      "/home/gonken/anaconda3/envs/torch/lib/python3.12/site-packages/sklearn/metrics/_classification.py:1531: UndefinedMetricWarning: Precision is ill-defined and being set to 0.0 due to no predicted samples. Use `zero_division` parameter to control this behavior.\n",
      "  _warn_prf(average, modifier, f\"{metric.capitalize()} is\", len(result))\n",
      "[I 2024-11-28 19:12:51,984] Trial 11 finished with value: 0.0 and parameters: {'hidden_units1': 326, 'hidden_units2': 154, 'hidden_units3': 66, 'hidden_units4': 64, 'dropout1': 0.5, 'dropout2': 0.1, 'dropout3': 0.35, 'dropout4': 0.1, 'learning_rate': 0.014040753645682719, 'weight_decay': 7.040743231313225e-05}. Best is trial 10 with value: 0.6299212598425197.\n",
      "/tmp/ipykernel_184762/2455988453.py:10: FutureWarning: suggest_loguniform has been deprecated in v3.0.0. This feature will be removed in v6.0.0. See https://github.com/optuna/optuna/releases/tag/v3.0.0. Use suggest_float(..., log=True) instead.\n",
      "  learning_rate = trial.suggest_loguniform(\"learning_rate\", 1e-5, 1e-1)\n",
      "/tmp/ipykernel_184762/2455988453.py:11: FutureWarning: suggest_loguniform has been deprecated in v3.0.0. This feature will be removed in v6.0.0. See https://github.com/optuna/optuna/releases/tag/v3.0.0. Use suggest_float(..., log=True) instead.\n",
      "  weight_decay=trial.suggest_loguniform(\"weight_decay\",1e-5,1)\n"
     ]
    },
    {
     "name": "stdout",
     "output_type": "stream",
     "text": [
      "Accuracy: 64.10%\n",
      "Precision: 0.0000\n",
      "Recall: 0.0000\n",
      "F1 Score: 0.0000\n",
      "Matthews Correlation Coefficient: 0.0000\n",
      "Specificity: 1.0000\n"
     ]
    },
    {
     "name": "stderr",
     "output_type": "stream",
     "text": [
      "/home/gonken/anaconda3/envs/torch/lib/python3.12/site-packages/sklearn/metrics/_classification.py:1531: UndefinedMetricWarning: Precision is ill-defined and being set to 0.0 due to no predicted samples. Use `zero_division` parameter to control this behavior.\n",
      "  _warn_prf(average, modifier, f\"{metric.capitalize()} is\", len(result))\n",
      "[I 2024-11-28 19:13:40,584] Trial 12 finished with value: 0.0 and parameters: {'hidden_units1': 336, 'hidden_units2': 128, 'hidden_units3': 90, 'hidden_units4': 54, 'dropout1': 0.4, 'dropout2': 0.1, 'dropout3': 0.35, 'dropout4': 0.45000000000000007, 'learning_rate': 0.012325182192074586, 'weight_decay': 8.957639465484755e-05}. Best is trial 10 with value: 0.6299212598425197.\n",
      "/tmp/ipykernel_184762/2455988453.py:10: FutureWarning: suggest_loguniform has been deprecated in v3.0.0. This feature will be removed in v6.0.0. See https://github.com/optuna/optuna/releases/tag/v3.0.0. Use suggest_float(..., log=True) instead.\n",
      "  learning_rate = trial.suggest_loguniform(\"learning_rate\", 1e-5, 1e-1)\n",
      "/tmp/ipykernel_184762/2455988453.py:11: FutureWarning: suggest_loguniform has been deprecated in v3.0.0. This feature will be removed in v6.0.0. See https://github.com/optuna/optuna/releases/tag/v3.0.0. Use suggest_float(..., log=True) instead.\n",
      "  weight_decay=trial.suggest_loguniform(\"weight_decay\",1e-5,1)\n"
     ]
    },
    {
     "name": "stdout",
     "output_type": "stream",
     "text": [
      "Accuracy: 64.10%\n",
      "Precision: 0.0000\n",
      "Recall: 0.0000\n",
      "F1 Score: 0.0000\n",
      "Matthews Correlation Coefficient: 0.0000\n",
      "Specificity: 1.0000\n"
     ]
    },
    {
     "name": "stderr",
     "output_type": "stream",
     "text": [
      "/home/gonken/anaconda3/envs/torch/lib/python3.12/site-packages/sklearn/metrics/_classification.py:1531: UndefinedMetricWarning: Precision is ill-defined and being set to 0.0 due to no predicted samples. Use `zero_division` parameter to control this behavior.\n",
      "  _warn_prf(average, modifier, f\"{metric.capitalize()} is\", len(result))\n",
      "[I 2024-11-28 19:14:30,774] Trial 13 finished with value: 0.0 and parameters: {'hidden_units1': 222, 'hidden_units2': 160, 'hidden_units3': 68, 'hidden_units4': 56, 'dropout1': 0.5, 'dropout2': 0.25, 'dropout3': 0.4, 'dropout4': 0.1, 'learning_rate': 0.05877513290910097, 'weight_decay': 8.849567687965176e-05}. Best is trial 10 with value: 0.6299212598425197.\n",
      "/tmp/ipykernel_184762/2455988453.py:10: FutureWarning: suggest_loguniform has been deprecated in v3.0.0. This feature will be removed in v6.0.0. See https://github.com/optuna/optuna/releases/tag/v3.0.0. Use suggest_float(..., log=True) instead.\n",
      "  learning_rate = trial.suggest_loguniform(\"learning_rate\", 1e-5, 1e-1)\n",
      "/tmp/ipykernel_184762/2455988453.py:11: FutureWarning: suggest_loguniform has been deprecated in v3.0.0. This feature will be removed in v6.0.0. See https://github.com/optuna/optuna/releases/tag/v3.0.0. Use suggest_float(..., log=True) instead.\n",
      "  weight_decay=trial.suggest_loguniform(\"weight_decay\",1e-5,1)\n"
     ]
    },
    {
     "name": "stdout",
     "output_type": "stream",
     "text": [
      "Accuracy: 64.10%\n",
      "Precision: 0.0000\n",
      "Recall: 0.0000\n",
      "F1 Score: 0.0000\n",
      "Matthews Correlation Coefficient: 0.0000\n",
      "Specificity: 1.0000\n"
     ]
    },
    {
     "name": "stderr",
     "output_type": "stream",
     "text": [
      "[I 2024-11-28 19:15:20,681] Trial 14 finished with value: 0.5270758122743683 and parameters: {'hidden_units1': 504, 'hidden_units2': 166, 'hidden_units3': 86, 'hidden_units4': 46, 'dropout1': 0.35, 'dropout2': 0.25, 'dropout3': 0.30000000000000004, 'dropout4': 0.4, 'learning_rate': 0.0003041519648918666, 'weight_decay': 0.00021390330942555033}. Best is trial 10 with value: 0.6299212598425197.\n"
     ]
    },
    {
     "name": "stdout",
     "output_type": "stream",
     "text": [
      "Accuracy: 62.68%\n",
      "Precision: 0.4834\n",
      "Recall: 0.5794\n",
      "F1 Score: 0.5271\n",
      "Matthews Correlation Coefficient: 0.2255\n",
      "Specificity: 0.6533\n"
     ]
    },
    {
     "name": "stderr",
     "output_type": "stream",
     "text": [
      "/tmp/ipykernel_184762/2455988453.py:10: FutureWarning: suggest_loguniform has been deprecated in v3.0.0. This feature will be removed in v6.0.0. See https://github.com/optuna/optuna/releases/tag/v3.0.0. Use suggest_float(..., log=True) instead.\n",
      "  learning_rate = trial.suggest_loguniform(\"learning_rate\", 1e-5, 1e-1)\n",
      "/tmp/ipykernel_184762/2455988453.py:11: FutureWarning: suggest_loguniform has been deprecated in v3.0.0. This feature will be removed in v6.0.0. See https://github.com/optuna/optuna/releases/tag/v3.0.0. Use suggest_float(..., log=True) instead.\n",
      "  weight_decay=trial.suggest_loguniform(\"weight_decay\",1e-5,1)\n",
      "/home/gonken/anaconda3/envs/torch/lib/python3.12/site-packages/sklearn/metrics/_classification.py:1531: UndefinedMetricWarning: Precision is ill-defined and being set to 0.0 due to no predicted samples. Use `zero_division` parameter to control this behavior.\n",
      "  _warn_prf(average, modifier, f\"{metric.capitalize()} is\", len(result))\n",
      "[I 2024-11-28 19:16:11,069] Trial 15 finished with value: 0.0 and parameters: {'hidden_units1': 350, 'hidden_units2': 138, 'hidden_units3': 98, 'hidden_units4': 58, 'dropout1': 0.4, 'dropout2': 0.1, 'dropout3': 0.45000000000000007, 'dropout4': 0.25, 'learning_rate': 0.0063362970406366905, 'weight_decay': 0.005943509806189213}. Best is trial 10 with value: 0.6299212598425197.\n",
      "/tmp/ipykernel_184762/2455988453.py:10: FutureWarning: suggest_loguniform has been deprecated in v3.0.0. This feature will be removed in v6.0.0. See https://github.com/optuna/optuna/releases/tag/v3.0.0. Use suggest_float(..., log=True) instead.\n",
      "  learning_rate = trial.suggest_loguniform(\"learning_rate\", 1e-5, 1e-1)\n",
      "/tmp/ipykernel_184762/2455988453.py:11: FutureWarning: suggest_loguniform has been deprecated in v3.0.0. This feature will be removed in v6.0.0. See https://github.com/optuna/optuna/releases/tag/v3.0.0. Use suggest_float(..., log=True) instead.\n",
      "  weight_decay=trial.suggest_loguniform(\"weight_decay\",1e-5,1)\n"
     ]
    },
    {
     "name": "stdout",
     "output_type": "stream",
     "text": [
      "Accuracy: 64.10%\n",
      "Precision: 0.0000\n",
      "Recall: 0.0000\n",
      "F1 Score: 0.0000\n",
      "Matthews Correlation Coefficient: 0.0000\n",
      "Specificity: 1.0000\n"
     ]
    },
    {
     "name": "stderr",
     "output_type": "stream",
     "text": [
      "/home/gonken/anaconda3/envs/torch/lib/python3.12/site-packages/sklearn/metrics/_classification.py:1531: UndefinedMetricWarning: Precision is ill-defined and being set to 0.0 due to no predicted samples. Use `zero_division` parameter to control this behavior.\n",
      "  _warn_prf(average, modifier, f\"{metric.capitalize()} is\", len(result))\n",
      "[I 2024-11-28 19:17:02,048] Trial 16 finished with value: 0.0 and parameters: {'hidden_units1': 290, 'hidden_units2': 192, 'hidden_units3': 124, 'hidden_units4': 36, 'dropout1': 0.45000000000000007, 'dropout2': 0.2, 'dropout3': 0.4, 'dropout4': 0.15000000000000002, 'learning_rate': 0.08488403224334101, 'weight_decay': 2.4387378442223287e-05}. Best is trial 10 with value: 0.6299212598425197.\n",
      "/tmp/ipykernel_184762/2455988453.py:10: FutureWarning: suggest_loguniform has been deprecated in v3.0.0. This feature will be removed in v6.0.0. See https://github.com/optuna/optuna/releases/tag/v3.0.0. Use suggest_float(..., log=True) instead.\n",
      "  learning_rate = trial.suggest_loguniform(\"learning_rate\", 1e-5, 1e-1)\n",
      "/tmp/ipykernel_184762/2455988453.py:11: FutureWarning: suggest_loguniform has been deprecated in v3.0.0. This feature will be removed in v6.0.0. See https://github.com/optuna/optuna/releases/tag/v3.0.0. Use suggest_float(..., log=True) instead.\n",
      "  weight_decay=trial.suggest_loguniform(\"weight_decay\",1e-5,1)\n"
     ]
    },
    {
     "name": "stdout",
     "output_type": "stream",
     "text": [
      "Accuracy: 64.10%\n",
      "Precision: 0.0000\n",
      "Recall: 0.0000\n",
      "F1 Score: 0.0000\n",
      "Matthews Correlation Coefficient: 0.0000\n",
      "Specificity: 1.0000\n"
     ]
    },
    {
     "name": "stderr",
     "output_type": "stream",
     "text": [
      "/home/gonken/anaconda3/envs/torch/lib/python3.12/site-packages/sklearn/metrics/_classification.py:1531: UndefinedMetricWarning: Precision is ill-defined and being set to 0.0 due to no predicted samples. Use `zero_division` parameter to control this behavior.\n",
      "  _warn_prf(average, modifier, f\"{metric.capitalize()} is\", len(result))\n",
      "[I 2024-11-28 19:17:50,284] Trial 17 finished with value: 0.0 and parameters: {'hidden_units1': 266, 'hidden_units2': 170, 'hidden_units3': 76, 'hidden_units4': 64, 'dropout1': 0.30000000000000004, 'dropout2': 0.35, 'dropout3': 0.30000000000000004, 'dropout4': 0.35, 'learning_rate': 0.0238204751943751, 'weight_decay': 0.0002812911676737305}. Best is trial 10 with value: 0.6299212598425197.\n",
      "/tmp/ipykernel_184762/2455988453.py:10: FutureWarning: suggest_loguniform has been deprecated in v3.0.0. This feature will be removed in v6.0.0. See https://github.com/optuna/optuna/releases/tag/v3.0.0. Use suggest_float(..., log=True) instead.\n",
      "  learning_rate = trial.suggest_loguniform(\"learning_rate\", 1e-5, 1e-1)\n",
      "/tmp/ipykernel_184762/2455988453.py:11: FutureWarning: suggest_loguniform has been deprecated in v3.0.0. This feature will be removed in v6.0.0. See https://github.com/optuna/optuna/releases/tag/v3.0.0. Use suggest_float(..., log=True) instead.\n",
      "  weight_decay=trial.suggest_loguniform(\"weight_decay\",1e-5,1)\n"
     ]
    },
    {
     "name": "stdout",
     "output_type": "stream",
     "text": [
      "Accuracy: 64.10%\n",
      "Precision: 0.0000\n",
      "Recall: 0.0000\n",
      "F1 Score: 0.0000\n",
      "Matthews Correlation Coefficient: 0.0000\n",
      "Specificity: 1.0000\n"
     ]
    },
    {
     "name": "stderr",
     "output_type": "stream",
     "text": [
      "[I 2024-11-28 19:18:39,022] Trial 18 finished with value: 0.44155844155844154 and parameters: {'hidden_units1': 438, 'hidden_units2': 142, 'hidden_units3': 90, 'hidden_units4': 52, 'dropout1': 0.35, 'dropout2': 0.15000000000000002, 'dropout3': 0.25, 'dropout4': 0.25, 'learning_rate': 0.007361197351801007, 'weight_decay': 5.673698443207388e-05}. Best is trial 10 with value: 0.6299212598425197.\n"
     ]
    },
    {
     "name": "stdout",
     "output_type": "stream",
     "text": [
      "Accuracy: 63.25%\n",
      "Precision: 0.4857\n",
      "Recall: 0.4048\n",
      "F1 Score: 0.4416\n",
      "Matthews Correlation Coefficient: 0.1726\n",
      "Specificity: 0.7600\n"
     ]
    },
    {
     "name": "stderr",
     "output_type": "stream",
     "text": [
      "/tmp/ipykernel_184762/2455988453.py:10: FutureWarning: suggest_loguniform has been deprecated in v3.0.0. This feature will be removed in v6.0.0. See https://github.com/optuna/optuna/releases/tag/v3.0.0. Use suggest_float(..., log=True) instead.\n",
      "  learning_rate = trial.suggest_loguniform(\"learning_rate\", 1e-5, 1e-1)\n",
      "/tmp/ipykernel_184762/2455988453.py:11: FutureWarning: suggest_loguniform has been deprecated in v3.0.0. This feature will be removed in v6.0.0. See https://github.com/optuna/optuna/releases/tag/v3.0.0. Use suggest_float(..., log=True) instead.\n",
      "  weight_decay=trial.suggest_loguniform(\"weight_decay\",1e-5,1)\n",
      "[I 2024-11-28 19:19:29,857] Trial 19 finished with value: 0.40336134453781514 and parameters: {'hidden_units1': 366, 'hidden_units2': 194, 'hidden_units3': 98, 'hidden_units4': 42, 'dropout1': 0.25, 'dropout2': 0.25, 'dropout3': 0.4, 'dropout4': 0.4, 'learning_rate': 0.001700569529412944, 'weight_decay': 0.00033864061976442513}. Best is trial 10 with value: 0.6299212598425197.\n"
     ]
    },
    {
     "name": "stdout",
     "output_type": "stream",
     "text": [
      "Accuracy: 59.54%\n",
      "Precision: 0.4286\n",
      "Recall: 0.3810\n",
      "F1 Score: 0.4034\n",
      "Matthews Correlation Coefficient: 0.0993\n",
      "Specificity: 0.7156\n"
     ]
    },
    {
     "name": "stderr",
     "output_type": "stream",
     "text": [
      "/tmp/ipykernel_184762/2455988453.py:10: FutureWarning: suggest_loguniform has been deprecated in v3.0.0. This feature will be removed in v6.0.0. See https://github.com/optuna/optuna/releases/tag/v3.0.0. Use suggest_float(..., log=True) instead.\n",
      "  learning_rate = trial.suggest_loguniform(\"learning_rate\", 1e-5, 1e-1)\n",
      "/tmp/ipykernel_184762/2455988453.py:11: FutureWarning: suggest_loguniform has been deprecated in v3.0.0. This feature will be removed in v6.0.0. See https://github.com/optuna/optuna/releases/tag/v3.0.0. Use suggest_float(..., log=True) instead.\n",
      "  weight_decay=trial.suggest_loguniform(\"weight_decay\",1e-5,1)\n",
      "[I 2024-11-28 19:20:19,136] Trial 20 finished with value: 0.4214876033057851 and parameters: {'hidden_units1': 226, 'hidden_units2': 160, 'hidden_units3': 72, 'hidden_units4': 6, 'dropout1': 0.45000000000000007, 'dropout2': 0.15000000000000002, 'dropout3': 0.45000000000000007, 'dropout4': 0.15000000000000002, 'learning_rate': 0.0003705966393821107, 'weight_decay': 0.0028785145410946517}. Best is trial 10 with value: 0.6299212598425197.\n"
     ]
    },
    {
     "name": "stdout",
     "output_type": "stream",
     "text": [
      "Accuracy: 60.11%\n",
      "Precision: 0.4397\n",
      "Recall: 0.4048\n",
      "F1 Score: 0.4215\n",
      "Matthews Correlation Coefficient: 0.1182\n",
      "Specificity: 0.7111\n"
     ]
    },
    {
     "name": "stderr",
     "output_type": "stream",
     "text": [
      "/tmp/ipykernel_184762/2455988453.py:10: FutureWarning: suggest_loguniform has been deprecated in v3.0.0. This feature will be removed in v6.0.0. See https://github.com/optuna/optuna/releases/tag/v3.0.0. Use suggest_float(..., log=True) instead.\n",
      "  learning_rate = trial.suggest_loguniform(\"learning_rate\", 1e-5, 1e-1)\n",
      "/tmp/ipykernel_184762/2455988453.py:11: FutureWarning: suggest_loguniform has been deprecated in v3.0.0. This feature will be removed in v6.0.0. See https://github.com/optuna/optuna/releases/tag/v3.0.0. Use suggest_float(..., log=True) instead.\n",
      "  weight_decay=trial.suggest_loguniform(\"weight_decay\",1e-5,1)\n",
      "[I 2024-11-28 19:21:08,325] Trial 21 finished with value: 0.46616541353383456 and parameters: {'hidden_units1': 506, 'hidden_units2': 168, 'hidden_units3': 84, 'hidden_units4': 46, 'dropout1': 0.35, 'dropout2': 0.25, 'dropout3': 0.30000000000000004, 'dropout4': 0.4, 'learning_rate': 0.00013245436688684583, 'weight_decay': 0.00020740371055322966}. Best is trial 10 with value: 0.6299212598425197.\n"
     ]
    },
    {
     "name": "stdout",
     "output_type": "stream",
     "text": [
      "Accuracy: 59.54%\n",
      "Precision: 0.4429\n",
      "Recall: 0.4921\n",
      "F1 Score: 0.4662\n",
      "Matthews Correlation Coefficient: 0.1424\n",
      "Specificity: 0.6533\n"
     ]
    },
    {
     "name": "stderr",
     "output_type": "stream",
     "text": [
      "/tmp/ipykernel_184762/2455988453.py:10: FutureWarning: suggest_loguniform has been deprecated in v3.0.0. This feature will be removed in v6.0.0. See https://github.com/optuna/optuna/releases/tag/v3.0.0. Use suggest_float(..., log=True) instead.\n",
      "  learning_rate = trial.suggest_loguniform(\"learning_rate\", 1e-5, 1e-1)\n",
      "/tmp/ipykernel_184762/2455988453.py:11: FutureWarning: suggest_loguniform has been deprecated in v3.0.0. This feature will be removed in v6.0.0. See https://github.com/optuna/optuna/releases/tag/v3.0.0. Use suggest_float(..., log=True) instead.\n",
      "  weight_decay=trial.suggest_loguniform(\"weight_decay\",1e-5,1)\n",
      "[I 2024-11-28 19:21:58,275] Trial 22 finished with value: 0.6103542234332425 and parameters: {'hidden_units1': 468, 'hidden_units2': 164, 'hidden_units3': 86, 'hidden_units4': 58, 'dropout1': 0.35, 'dropout2': 0.30000000000000004, 'dropout3': 0.30000000000000004, 'dropout4': 0.5, 'learning_rate': 1.0498063748716831e-05, 'weight_decay': 3.1007301338689986e-05}. Best is trial 10 with value: 0.6299212598425197.\n"
     ]
    },
    {
     "name": "stdout",
     "output_type": "stream",
     "text": [
      "Accuracy: 59.26%\n",
      "Precision: 0.4647\n",
      "Recall: 0.8889\n",
      "F1 Score: 0.6104\n",
      "Matthews Correlation Coefficient: 0.3263\n",
      "Specificity: 0.4267\n"
     ]
    },
    {
     "name": "stderr",
     "output_type": "stream",
     "text": [
      "/tmp/ipykernel_184762/2455988453.py:10: FutureWarning: suggest_loguniform has been deprecated in v3.0.0. This feature will be removed in v6.0.0. See https://github.com/optuna/optuna/releases/tag/v3.0.0. Use suggest_float(..., log=True) instead.\n",
      "  learning_rate = trial.suggest_loguniform(\"learning_rate\", 1e-5, 1e-1)\n",
      "/tmp/ipykernel_184762/2455988453.py:11: FutureWarning: suggest_loguniform has been deprecated in v3.0.0. This feature will be removed in v6.0.0. See https://github.com/optuna/optuna/releases/tag/v3.0.0. Use suggest_float(..., log=True) instead.\n",
      "  weight_decay=trial.suggest_loguniform(\"weight_decay\",1e-5,1)\n",
      "/home/gonken/anaconda3/envs/torch/lib/python3.12/site-packages/sklearn/metrics/_classification.py:1531: UndefinedMetricWarning: Precision is ill-defined and being set to 0.0 due to no predicted samples. Use `zero_division` parameter to control this behavior.\n",
      "  _warn_prf(average, modifier, f\"{metric.capitalize()} is\", len(result))\n",
      "[I 2024-11-28 19:22:47,569] Trial 23 finished with value: 0.0 and parameters: {'hidden_units1': 456, 'hidden_units2': 174, 'hidden_units3': 72, 'hidden_units4': 58, 'dropout1': 0.45000000000000007, 'dropout2': 0.35, 'dropout3': 0.25, 'dropout4': 0.5, 'learning_rate': 0.03358438788908938, 'weight_decay': 3.489311687123385e-05}. Best is trial 10 with value: 0.6299212598425197.\n",
      "/tmp/ipykernel_184762/2455988453.py:10: FutureWarning: suggest_loguniform has been deprecated in v3.0.0. This feature will be removed in v6.0.0. See https://github.com/optuna/optuna/releases/tag/v3.0.0. Use suggest_float(..., log=True) instead.\n",
      "  learning_rate = trial.suggest_loguniform(\"learning_rate\", 1e-5, 1e-1)\n",
      "/tmp/ipykernel_184762/2455988453.py:11: FutureWarning: suggest_loguniform has been deprecated in v3.0.0. This feature will be removed in v6.0.0. See https://github.com/optuna/optuna/releases/tag/v3.0.0. Use suggest_float(..., log=True) instead.\n",
      "  weight_decay=trial.suggest_loguniform(\"weight_decay\",1e-5,1)\n"
     ]
    },
    {
     "name": "stdout",
     "output_type": "stream",
     "text": [
      "Accuracy: 64.10%\n",
      "Precision: 0.0000\n",
      "Recall: 0.0000\n",
      "F1 Score: 0.0000\n",
      "Matthews Correlation Coefficient: 0.0000\n",
      "Specificity: 1.0000\n"
     ]
    },
    {
     "name": "stderr",
     "output_type": "stream",
     "text": [
      "[I 2024-11-28 19:23:36,289] Trial 24 finished with value: 0.5163398692810458 and parameters: {'hidden_units1': 420, 'hidden_units2': 150, 'hidden_units3': 64, 'hidden_units4': 60, 'dropout1': 0.30000000000000004, 'dropout2': 0.30000000000000004, 'dropout3': 0.35, 'dropout4': 0.45000000000000007, 'learning_rate': 1.843047834197959e-05, 'weight_decay': 1.2531603015689327e-05}. Best is trial 10 with value: 0.6299212598425197.\n"
     ]
    },
    {
     "name": "stdout",
     "output_type": "stream",
     "text": [
      "Accuracy: 57.83%\n",
      "Precision: 0.4389\n",
      "Recall: 0.6270\n",
      "F1 Score: 0.5163\n",
      "Matthews Correlation Coefficient: 0.1709\n",
      "Specificity: 0.5511\n"
     ]
    },
    {
     "name": "stderr",
     "output_type": "stream",
     "text": [
      "/tmp/ipykernel_184762/2455988453.py:10: FutureWarning: suggest_loguniform has been deprecated in v3.0.0. This feature will be removed in v6.0.0. See https://github.com/optuna/optuna/releases/tag/v3.0.0. Use suggest_float(..., log=True) instead.\n",
      "  learning_rate = trial.suggest_loguniform(\"learning_rate\", 1e-5, 1e-1)\n",
      "/tmp/ipykernel_184762/2455988453.py:11: FutureWarning: suggest_loguniform has been deprecated in v3.0.0. This feature will be removed in v6.0.0. See https://github.com/optuna/optuna/releases/tag/v3.0.0. Use suggest_float(..., log=True) instead.\n",
      "  weight_decay=trial.suggest_loguniform(\"weight_decay\",1e-5,1)\n",
      "[I 2024-11-28 19:24:24,903] Trial 25 finished with value: 0.5902578796561605 and parameters: {'hidden_units1': 486, 'hidden_units2': 160, 'hidden_units3': 94, 'hidden_units4': 52, 'dropout1': 0.2, 'dropout2': 0.4, 'dropout3': 0.35, 'dropout4': 0.25, 'learning_rate': 1.2457856699138663e-05, 'weight_decay': 4.0941079093078556e-05}. Best is trial 10 with value: 0.6299212598425197.\n"
     ]
    },
    {
     "name": "stdout",
     "output_type": "stream",
     "text": [
      "Accuracy: 59.26%\n",
      "Precision: 0.4619\n",
      "Recall: 0.8175\n",
      "F1 Score: 0.5903\n",
      "Matthews Correlation Coefficient: 0.2832\n",
      "Specificity: 0.4667\n"
     ]
    },
    {
     "name": "stderr",
     "output_type": "stream",
     "text": [
      "/tmp/ipykernel_184762/2455988453.py:10: FutureWarning: suggest_loguniform has been deprecated in v3.0.0. This feature will be removed in v6.0.0. See https://github.com/optuna/optuna/releases/tag/v3.0.0. Use suggest_float(..., log=True) instead.\n",
      "  learning_rate = trial.suggest_loguniform(\"learning_rate\", 1e-5, 1e-1)\n",
      "/tmp/ipykernel_184762/2455988453.py:11: FutureWarning: suggest_loguniform has been deprecated in v3.0.0. This feature will be removed in v6.0.0. See https://github.com/optuna/optuna/releases/tag/v3.0.0. Use suggest_float(..., log=True) instead.\n",
      "  weight_decay=trial.suggest_loguniform(\"weight_decay\",1e-5,1)\n",
      "[I 2024-11-28 19:25:15,372] Trial 26 finished with value: 0.4596774193548387 and parameters: {'hidden_units1': 350, 'hidden_units2': 190, 'hidden_units3': 82, 'hidden_units4': 26, 'dropout1': 0.5, 'dropout2': 0.2, 'dropout3': 0.30000000000000004, 'dropout4': 0.45000000000000007, 'learning_rate': 0.0006180666379113857, 'weight_decay': 1.0099323201168119e-05}. Best is trial 10 with value: 0.6299212598425197.\n"
     ]
    },
    {
     "name": "stdout",
     "output_type": "stream",
     "text": [
      "Accuracy: 61.82%\n",
      "Precision: 0.4672\n",
      "Recall: 0.4524\n",
      "F1 Score: 0.4597\n",
      "Matthews Correlation Coefficient: 0.1647\n",
      "Specificity: 0.7111\n"
     ]
    },
    {
     "name": "stderr",
     "output_type": "stream",
     "text": [
      "/tmp/ipykernel_184762/2455988453.py:10: FutureWarning: suggest_loguniform has been deprecated in v3.0.0. This feature will be removed in v6.0.0. See https://github.com/optuna/optuna/releases/tag/v3.0.0. Use suggest_float(..., log=True) instead.\n",
      "  learning_rate = trial.suggest_loguniform(\"learning_rate\", 1e-5, 1e-1)\n",
      "/tmp/ipykernel_184762/2455988453.py:11: FutureWarning: suggest_loguniform has been deprecated in v3.0.0. This feature will be removed in v6.0.0. See https://github.com/optuna/optuna/releases/tag/v3.0.0. Use suggest_float(..., log=True) instead.\n",
      "  weight_decay=trial.suggest_loguniform(\"weight_decay\",1e-5,1)\n",
      "[I 2024-11-28 19:26:06,112] Trial 27 finished with value: 0.4666666666666667 and parameters: {'hidden_units1': 282, 'hidden_units2': 176, 'hidden_units3': 102, 'hidden_units4': 52, 'dropout1': 0.35, 'dropout2': 0.30000000000000004, 'dropout3': 0.4, 'dropout4': 0.15000000000000002, 'learning_rate': 0.005524595080134448, 'weight_decay': 0.00010837403004706484}. Best is trial 10 with value: 0.6299212598425197.\n"
     ]
    },
    {
     "name": "stdout",
     "output_type": "stream",
     "text": [
      "Accuracy: 63.53%\n",
      "Precision: 0.4912\n",
      "Recall: 0.4444\n",
      "F1 Score: 0.4667\n",
      "Matthews Correlation Coefficient: 0.1912\n",
      "Specificity: 0.7422\n"
     ]
    },
    {
     "name": "stderr",
     "output_type": "stream",
     "text": [
      "/tmp/ipykernel_184762/2455988453.py:10: FutureWarning: suggest_loguniform has been deprecated in v3.0.0. This feature will be removed in v6.0.0. See https://github.com/optuna/optuna/releases/tag/v3.0.0. Use suggest_float(..., log=True) instead.\n",
      "  learning_rate = trial.suggest_loguniform(\"learning_rate\", 1e-5, 1e-1)\n",
      "/tmp/ipykernel_184762/2455988453.py:11: FutureWarning: suggest_loguniform has been deprecated in v3.0.0. This feature will be removed in v6.0.0. See https://github.com/optuna/optuna/releases/tag/v3.0.0. Use suggest_float(..., log=True) instead.\n",
      "  weight_decay=trial.suggest_loguniform(\"weight_decay\",1e-5,1)\n",
      "/home/gonken/anaconda3/envs/torch/lib/python3.12/site-packages/sklearn/metrics/_classification.py:1531: UndefinedMetricWarning: Precision is ill-defined and being set to 0.0 due to no predicted samples. Use `zero_division` parameter to control this behavior.\n",
      "  _warn_prf(average, modifier, f\"{metric.capitalize()} is\", len(result))\n",
      "[I 2024-11-28 19:26:55,766] Trial 28 finished with value: 0.0 and parameters: {'hidden_units1': 320, 'hidden_units2': 132, 'hidden_units3': 90, 'hidden_units4': 60, 'dropout1': 0.25, 'dropout2': 0.1, 'dropout3': 0.25, 'dropout4': 0.30000000000000004, 'learning_rate': 0.01264312748671946, 'weight_decay': 0.0023396068953458293}. Best is trial 10 with value: 0.6299212598425197.\n",
      "/tmp/ipykernel_184762/2455988453.py:10: FutureWarning: suggest_loguniform has been deprecated in v3.0.0. This feature will be removed in v6.0.0. See https://github.com/optuna/optuna/releases/tag/v3.0.0. Use suggest_float(..., log=True) instead.\n",
      "  learning_rate = trial.suggest_loguniform(\"learning_rate\", 1e-5, 1e-1)\n",
      "/tmp/ipykernel_184762/2455988453.py:11: FutureWarning: suggest_loguniform has been deprecated in v3.0.0. This feature will be removed in v6.0.0. See https://github.com/optuna/optuna/releases/tag/v3.0.0. Use suggest_float(..., log=True) instead.\n",
      "  weight_decay=trial.suggest_loguniform(\"weight_decay\",1e-5,1)\n"
     ]
    },
    {
     "name": "stdout",
     "output_type": "stream",
     "text": [
      "Accuracy: 64.10%\n",
      "Precision: 0.0000\n",
      "Recall: 0.0000\n",
      "F1 Score: 0.0000\n",
      "Matthews Correlation Coefficient: 0.0000\n",
      "Specificity: 1.0000\n"
     ]
    },
    {
     "name": "stderr",
     "output_type": "stream",
     "text": [
      "/home/gonken/anaconda3/envs/torch/lib/python3.12/site-packages/sklearn/metrics/_classification.py:1531: UndefinedMetricWarning: Precision is ill-defined and being set to 0.0 due to no predicted samples. Use `zero_division` parameter to control this behavior.\n",
      "  _warn_prf(average, modifier, f\"{metric.capitalize()} is\", len(result))\n",
      "[I 2024-11-28 19:27:45,728] Trial 29 finished with value: 0.0 and parameters: {'hidden_units1': 260, 'hidden_units2': 142, 'hidden_units3': 72, 'hidden_units4': 28, 'dropout1': 0.4, 'dropout2': 0.15000000000000002, 'dropout3': 0.5, 'dropout4': 0.5, 'learning_rate': 0.022065547198090608, 'weight_decay': 2.9606969348849172e-05}. Best is trial 10 with value: 0.6299212598425197.\n",
      "/tmp/ipykernel_184762/2455988453.py:10: FutureWarning: suggest_loguniform has been deprecated in v3.0.0. This feature will be removed in v6.0.0. See https://github.com/optuna/optuna/releases/tag/v3.0.0. Use suggest_float(..., log=True) instead.\n",
      "  learning_rate = trial.suggest_loguniform(\"learning_rate\", 1e-5, 1e-1)\n",
      "/tmp/ipykernel_184762/2455988453.py:11: FutureWarning: suggest_loguniform has been deprecated in v3.0.0. This feature will be removed in v6.0.0. See https://github.com/optuna/optuna/releases/tag/v3.0.0. Use suggest_float(..., log=True) instead.\n",
      "  weight_decay=trial.suggest_loguniform(\"weight_decay\",1e-5,1)\n"
     ]
    },
    {
     "name": "stdout",
     "output_type": "stream",
     "text": [
      "Accuracy: 64.10%\n",
      "Precision: 0.0000\n",
      "Recall: 0.0000\n",
      "F1 Score: 0.0000\n",
      "Matthews Correlation Coefficient: 0.0000\n",
      "Specificity: 1.0000\n"
     ]
    },
    {
     "name": "stderr",
     "output_type": "stream",
     "text": [
      "/home/gonken/anaconda3/envs/torch/lib/python3.12/site-packages/sklearn/metrics/_classification.py:1531: UndefinedMetricWarning: Precision is ill-defined and being set to 0.0 due to no predicted samples. Use `zero_division` parameter to control this behavior.\n",
      "  _warn_prf(average, modifier, f\"{metric.capitalize()} is\", len(result))\n",
      "[I 2024-11-28 19:28:37,220] Trial 30 finished with value: 0.0 and parameters: {'hidden_units1': 392, 'hidden_units2': 216, 'hidden_units3': 114, 'hidden_units4': 40, 'dropout1': 0.30000000000000004, 'dropout2': 0.4, 'dropout3': 0.4, 'dropout4': 0.35, 'learning_rate': 0.04162206568640903, 'weight_decay': 0.0004733395203236194}. Best is trial 10 with value: 0.6299212598425197.\n",
      "/tmp/ipykernel_184762/2455988453.py:10: FutureWarning: suggest_loguniform has been deprecated in v3.0.0. This feature will be removed in v6.0.0. See https://github.com/optuna/optuna/releases/tag/v3.0.0. Use suggest_float(..., log=True) instead.\n",
      "  learning_rate = trial.suggest_loguniform(\"learning_rate\", 1e-5, 1e-1)\n",
      "/tmp/ipykernel_184762/2455988453.py:11: FutureWarning: suggest_loguniform has been deprecated in v3.0.0. This feature will be removed in v6.0.0. See https://github.com/optuna/optuna/releases/tag/v3.0.0. Use suggest_float(..., log=True) instead.\n",
      "  weight_decay=trial.suggest_loguniform(\"weight_decay\",1e-5,1)\n"
     ]
    },
    {
     "name": "stdout",
     "output_type": "stream",
     "text": [
      "Accuracy: 64.10%\n",
      "Precision: 0.0000\n",
      "Recall: 0.0000\n",
      "F1 Score: 0.0000\n",
      "Matthews Correlation Coefficient: 0.0000\n",
      "Specificity: 1.0000\n"
     ]
    },
    {
     "name": "stderr",
     "output_type": "stream",
     "text": [
      "[I 2024-11-28 19:29:26,098] Trial 31 finished with value: 0.625 and parameters: {'hidden_units1': 476, 'hidden_units2': 160, 'hidden_units3': 92, 'hidden_units4': 54, 'dropout1': 0.2, 'dropout2': 0.4, 'dropout3': 0.35, 'dropout4': 0.25, 'learning_rate': 1.0396515834062885e-05, 'weight_decay': 3.790591649578736e-05}. Best is trial 10 with value: 0.6299212598425197.\n"
     ]
    },
    {
     "name": "stdout",
     "output_type": "stream",
     "text": [
      "Accuracy: 58.97%\n",
      "Precision: 0.4651\n",
      "Recall: 0.9524\n",
      "F1 Score: 0.6250\n",
      "Matthews Correlation Coefficient: 0.3685\n",
      "Specificity: 0.3867\n"
     ]
    },
    {
     "name": "stderr",
     "output_type": "stream",
     "text": [
      "/tmp/ipykernel_184762/2455988453.py:10: FutureWarning: suggest_loguniform has been deprecated in v3.0.0. This feature will be removed in v6.0.0. See https://github.com/optuna/optuna/releases/tag/v3.0.0. Use suggest_float(..., log=True) instead.\n",
      "  learning_rate = trial.suggest_loguniform(\"learning_rate\", 1e-5, 1e-1)\n",
      "/tmp/ipykernel_184762/2455988453.py:11: FutureWarning: suggest_loguniform has been deprecated in v3.0.0. This feature will be removed in v6.0.0. See https://github.com/optuna/optuna/releases/tag/v3.0.0. Use suggest_float(..., log=True) instead.\n",
      "  weight_decay=trial.suggest_loguniform(\"weight_decay\",1e-5,1)\n",
      "[I 2024-11-28 19:30:15,381] Trial 32 finished with value: 0.6153846153846154 and parameters: {'hidden_units1': 480, 'hidden_units2': 154, 'hidden_units3': 88, 'hidden_units4': 56, 'dropout1': 0.15000000000000002, 'dropout2': 0.4, 'dropout3': 0.35, 'dropout4': 0.1, 'learning_rate': 2.1760452667944993e-05, 'weight_decay': 0.00014075357241693826}. Best is trial 10 with value: 0.6299212598425197.\n"
     ]
    },
    {
     "name": "stdout",
     "output_type": "stream",
     "text": [
      "Accuracy: 62.96%\n",
      "Precision: 0.4906\n",
      "Recall: 0.8254\n",
      "F1 Score: 0.6154\n",
      "Matthews Correlation Coefficient: 0.3388\n",
      "Specificity: 0.5200\n"
     ]
    },
    {
     "name": "stderr",
     "output_type": "stream",
     "text": [
      "/tmp/ipykernel_184762/2455988453.py:10: FutureWarning: suggest_loguniform has been deprecated in v3.0.0. This feature will be removed in v6.0.0. See https://github.com/optuna/optuna/releases/tag/v3.0.0. Use suggest_float(..., log=True) instead.\n",
      "  learning_rate = trial.suggest_loguniform(\"learning_rate\", 1e-5, 1e-1)\n",
      "/tmp/ipykernel_184762/2455988453.py:11: FutureWarning: suggest_loguniform has been deprecated in v3.0.0. This feature will be removed in v6.0.0. See https://github.com/optuna/optuna/releases/tag/v3.0.0. Use suggest_float(..., log=True) instead.\n",
      "  weight_decay=trial.suggest_loguniform(\"weight_decay\",1e-5,1)\n",
      "[I 2024-11-28 19:31:05,583] Trial 33 finished with value: 0.5562913907284768 and parameters: {'hidden_units1': 482, 'hidden_units2': 154, 'hidden_units3': 100, 'hidden_units4': 64, 'dropout1': 0.15000000000000002, 'dropout2': 0.45000000000000007, 'dropout3': 0.35, 'dropout4': 0.1, 'learning_rate': 2.9853463517973397e-05, 'weight_decay': 0.0013962430827099807}. Best is trial 10 with value: 0.6299212598425197.\n"
     ]
    },
    {
     "name": "stdout",
     "output_type": "stream",
     "text": [
      "Accuracy: 61.82%\n",
      "Precision: 0.4773\n",
      "Recall: 0.6667\n",
      "F1 Score: 0.5563\n",
      "Matthews Correlation Coefficient: 0.2473\n",
      "Specificity: 0.5911\n"
     ]
    },
    {
     "name": "stderr",
     "output_type": "stream",
     "text": [
      "/tmp/ipykernel_184762/2455988453.py:10: FutureWarning: suggest_loguniform has been deprecated in v3.0.0. This feature will be removed in v6.0.0. See https://github.com/optuna/optuna/releases/tag/v3.0.0. Use suggest_float(..., log=True) instead.\n",
      "  learning_rate = trial.suggest_loguniform(\"learning_rate\", 1e-5, 1e-1)\n",
      "/tmp/ipykernel_184762/2455988453.py:11: FutureWarning: suggest_loguniform has been deprecated in v3.0.0. This feature will be removed in v6.0.0. See https://github.com/optuna/optuna/releases/tag/v3.0.0. Use suggest_float(..., log=True) instead.\n",
      "  weight_decay=trial.suggest_loguniform(\"weight_decay\",1e-5,1)\n",
      "[I 2024-11-28 19:31:53,846] Trial 34 finished with value: 0.5800604229607251 and parameters: {'hidden_units1': 304, 'hidden_units2': 154, 'hidden_units3': 78, 'hidden_units4': 54, 'dropout1': 0.1, 'dropout2': 0.4, 'dropout3': 0.35, 'dropout4': 0.15000000000000002, 'learning_rate': 2.181679782003949e-05, 'weight_decay': 0.0001819663736927437}. Best is trial 10 with value: 0.6299212598425197.\n"
     ]
    },
    {
     "name": "stdout",
     "output_type": "stream",
     "text": [
      "Accuracy: 60.40%\n",
      "Precision: 0.4683\n",
      "Recall: 0.7619\n",
      "F1 Score: 0.5801\n",
      "Matthews Correlation Coefficient: 0.2700\n",
      "Specificity: 0.5156\n"
     ]
    },
    {
     "name": "stderr",
     "output_type": "stream",
     "text": [
      "/tmp/ipykernel_184762/2455988453.py:10: FutureWarning: suggest_loguniform has been deprecated in v3.0.0. This feature will be removed in v6.0.0. See https://github.com/optuna/optuna/releases/tag/v3.0.0. Use suggest_float(..., log=True) instead.\n",
      "  learning_rate = trial.suggest_loguniform(\"learning_rate\", 1e-5, 1e-1)\n",
      "/tmp/ipykernel_184762/2455988453.py:11: FutureWarning: suggest_loguniform has been deprecated in v3.0.0. This feature will be removed in v6.0.0. See https://github.com/optuna/optuna/releases/tag/v3.0.0. Use suggest_float(..., log=True) instead.\n",
      "  weight_decay=trial.suggest_loguniform(\"weight_decay\",1e-5,1)\n",
      "[I 2024-11-28 19:32:44,698] Trial 35 finished with value: 0.4566929133858268 and parameters: {'hidden_units1': 436, 'hidden_units2': 146, 'hidden_units3': 120, 'hidden_units4': 50, 'dropout1': 0.2, 'dropout2': 0.5, 'dropout3': 0.45000000000000007, 'dropout4': 0.1, 'learning_rate': 0.0001863667791722956, 'weight_decay': 0.00012355861496883837}. Best is trial 10 with value: 0.6299212598425197.\n"
     ]
    },
    {
     "name": "stdout",
     "output_type": "stream",
     "text": [
      "Accuracy: 60.68%\n",
      "Precision: 0.4531\n",
      "Recall: 0.4603\n",
      "F1 Score: 0.4567\n",
      "Matthews Correlation Coefficient: 0.1487\n",
      "Specificity: 0.6889\n"
     ]
    },
    {
     "name": "stderr",
     "output_type": "stream",
     "text": [
      "/tmp/ipykernel_184762/2455988453.py:10: FutureWarning: suggest_loguniform has been deprecated in v3.0.0. This feature will be removed in v6.0.0. See https://github.com/optuna/optuna/releases/tag/v3.0.0. Use suggest_float(..., log=True) instead.\n",
      "  learning_rate = trial.suggest_loguniform(\"learning_rate\", 1e-5, 1e-1)\n",
      "/tmp/ipykernel_184762/2455988453.py:11: FutureWarning: suggest_loguniform has been deprecated in v3.0.0. This feature will be removed in v6.0.0. See https://github.com/optuna/optuna/releases/tag/v3.0.0. Use suggest_float(..., log=True) instead.\n",
      "  weight_decay=trial.suggest_loguniform(\"weight_decay\",1e-5,1)\n",
      "[I 2024-11-28 19:33:34,709] Trial 36 finished with value: 0.5255972696245734 and parameters: {'hidden_units1': 412, 'hidden_units2': 178, 'hidden_units3': 94, 'hidden_units4': 42, 'dropout1': 0.15000000000000002, 'dropout2': 0.4, 'dropout3': 0.4, 'dropout4': 0.25, 'learning_rate': 6.368076578809849e-05, 'weight_decay': 0.0011067247230685323}. Best is trial 10 with value: 0.6299212598425197.\n"
     ]
    },
    {
     "name": "stdout",
     "output_type": "stream",
     "text": [
      "Accuracy: 60.40%\n",
      "Precision: 0.4611\n",
      "Recall: 0.6111\n",
      "F1 Score: 0.5256\n",
      "Matthews Correlation Coefficient: 0.2028\n",
      "Specificity: 0.6000\n"
     ]
    },
    {
     "name": "stderr",
     "output_type": "stream",
     "text": [
      "/tmp/ipykernel_184762/2455988453.py:10: FutureWarning: suggest_loguniform has been deprecated in v3.0.0. This feature will be removed in v6.0.0. See https://github.com/optuna/optuna/releases/tag/v3.0.0. Use suggest_float(..., log=True) instead.\n",
      "  learning_rate = trial.suggest_loguniform(\"learning_rate\", 1e-5, 1e-1)\n",
      "/tmp/ipykernel_184762/2455988453.py:11: FutureWarning: suggest_loguniform has been deprecated in v3.0.0. This feature will be removed in v6.0.0. See https://github.com/optuna/optuna/releases/tag/v3.0.0. Use suggest_float(..., log=True) instead.\n",
      "  weight_decay=trial.suggest_loguniform(\"weight_decay\",1e-5,1)\n",
      "[I 2024-11-28 19:34:23,851] Trial 37 finished with value: 0.5610561056105611 and parameters: {'hidden_units1': 486, 'hidden_units2': 186, 'hidden_units3': 110, 'hidden_units4': 56, 'dropout1': 0.2, 'dropout2': 0.45000000000000007, 'dropout3': 0.35, 'dropout4': 0.30000000000000004, 'learning_rate': 5.4155115307328585e-05, 'weight_decay': 2.116596887344097e-05}. Best is trial 10 with value: 0.6299212598425197.\n"
     ]
    },
    {
     "name": "stdout",
     "output_type": "stream",
     "text": [
      "Accuracy: 62.11%\n",
      "Precision: 0.4802\n",
      "Recall: 0.6746\n",
      "F1 Score: 0.5611\n",
      "Matthews Correlation Coefficient: 0.2549\n",
      "Specificity: 0.5911\n"
     ]
    },
    {
     "name": "stderr",
     "output_type": "stream",
     "text": [
      "/tmp/ipykernel_184762/2455988453.py:10: FutureWarning: suggest_loguniform has been deprecated in v3.0.0. This feature will be removed in v6.0.0. See https://github.com/optuna/optuna/releases/tag/v3.0.0. Use suggest_float(..., log=True) instead.\n",
      "  learning_rate = trial.suggest_loguniform(\"learning_rate\", 1e-5, 1e-1)\n",
      "/tmp/ipykernel_184762/2455988453.py:11: FutureWarning: suggest_loguniform has been deprecated in v3.0.0. This feature will be removed in v6.0.0. See https://github.com/optuna/optuna/releases/tag/v3.0.0. Use suggest_float(..., log=True) instead.\n",
      "  weight_decay=trial.suggest_loguniform(\"weight_decay\",1e-5,1)\n",
      "/home/gonken/anaconda3/envs/torch/lib/python3.12/site-packages/sklearn/metrics/_classification.py:1531: UndefinedMetricWarning: Precision is ill-defined and being set to 0.0 due to no predicted samples. Use `zero_division` parameter to control this behavior.\n",
      "  _warn_prf(average, modifier, f\"{metric.capitalize()} is\", len(result))\n",
      "[I 2024-11-28 19:35:14,342] Trial 38 finished with value: 0.0 and parameters: {'hidden_units1': 368, 'hidden_units2': 196, 'hidden_units3': 118, 'hidden_units4': 30, 'dropout1': 0.1, 'dropout2': 0.35, 'dropout3': 0.25, 'dropout4': 0.2, 'learning_rate': 0.0016871703147374227, 'weight_decay': 0.02844254189361576}. Best is trial 10 with value: 0.6299212598425197.\n",
      "/tmp/ipykernel_184762/2455988453.py:10: FutureWarning: suggest_loguniform has been deprecated in v3.0.0. This feature will be removed in v6.0.0. See https://github.com/optuna/optuna/releases/tag/v3.0.0. Use suggest_float(..., log=True) instead.\n",
      "  learning_rate = trial.suggest_loguniform(\"learning_rate\", 1e-5, 1e-1)\n",
      "/tmp/ipykernel_184762/2455988453.py:11: FutureWarning: suggest_loguniform has been deprecated in v3.0.0. This feature will be removed in v6.0.0. See https://github.com/optuna/optuna/releases/tag/v3.0.0. Use suggest_float(..., log=True) instead.\n",
      "  weight_decay=trial.suggest_loguniform(\"weight_decay\",1e-5,1)\n"
     ]
    },
    {
     "name": "stdout",
     "output_type": "stream",
     "text": [
      "Accuracy: 64.10%\n",
      "Precision: 0.0000\n",
      "Recall: 0.0000\n",
      "F1 Score: 0.0000\n",
      "Matthews Correlation Coefficient: 0.0000\n",
      "Specificity: 1.0000\n"
     ]
    },
    {
     "name": "stderr",
     "output_type": "stream",
     "text": [
      "[I 2024-11-28 19:36:03,896] Trial 39 finished with value: 0.6162162162162163 and parameters: {'hidden_units1': 440, 'hidden_units2': 172, 'hidden_units3': 92, 'hidden_units4': 62, 'dropout1': 0.25, 'dropout2': 0.5, 'dropout3': 0.30000000000000004, 'dropout4': 0.2, 'learning_rate': 0.0031312253850487707, 'weight_decay': 0.0007169401489050629}. Best is trial 10 with value: 0.6299212598425197.\n"
     ]
    },
    {
     "name": "stdout",
     "output_type": "stream",
     "text": [
      "Accuracy: 59.54%\n",
      "Precision: 0.4672\n",
      "Recall: 0.9048\n",
      "F1 Score: 0.6162\n",
      "Matthews Correlation Coefficient: 0.3407\n",
      "Specificity: 0.4222\n"
     ]
    },
    {
     "name": "stderr",
     "output_type": "stream",
     "text": [
      "/tmp/ipykernel_184762/2455988453.py:10: FutureWarning: suggest_loguniform has been deprecated in v3.0.0. This feature will be removed in v6.0.0. See https://github.com/optuna/optuna/releases/tag/v3.0.0. Use suggest_float(..., log=True) instead.\n",
      "  learning_rate = trial.suggest_loguniform(\"learning_rate\", 1e-5, 1e-1)\n",
      "/tmp/ipykernel_184762/2455988453.py:11: FutureWarning: suggest_loguniform has been deprecated in v3.0.0. This feature will be removed in v6.0.0. See https://github.com/optuna/optuna/releases/tag/v3.0.0. Use suggest_float(..., log=True) instead.\n",
      "  weight_decay=trial.suggest_loguniform(\"weight_decay\",1e-5,1)\n",
      "[I 2024-11-28 19:36:53,077] Trial 40 finished with value: 0.6133333333333333 and parameters: {'hidden_units1': 244, 'hidden_units2': 172, 'hidden_units3': 108, 'hidden_units4': 60, 'dropout1': 0.25, 'dropout2': 0.5, 'dropout3': 0.15000000000000002, 'dropout4': 0.2, 'learning_rate': 0.003391920292218058, 'weight_decay': 0.0006714665908069827}. Best is trial 10 with value: 0.6299212598425197.\n"
     ]
    },
    {
     "name": "stdout",
     "output_type": "stream",
     "text": [
      "Accuracy: 58.69%\n",
      "Precision: 0.4618\n",
      "Recall: 0.9127\n",
      "F1 Score: 0.6133\n",
      "Matthews Correlation Coefficient: 0.3351\n",
      "Specificity: 0.4044\n"
     ]
    },
    {
     "name": "stderr",
     "output_type": "stream",
     "text": [
      "/tmp/ipykernel_184762/2455988453.py:10: FutureWarning: suggest_loguniform has been deprecated in v3.0.0. This feature will be removed in v6.0.0. See https://github.com/optuna/optuna/releases/tag/v3.0.0. Use suggest_float(..., log=True) instead.\n",
      "  learning_rate = trial.suggest_loguniform(\"learning_rate\", 1e-5, 1e-1)\n",
      "/tmp/ipykernel_184762/2455988453.py:11: FutureWarning: suggest_loguniform has been deprecated in v3.0.0. This feature will be removed in v6.0.0. See https://github.com/optuna/optuna/releases/tag/v3.0.0. Use suggest_float(..., log=True) instead.\n",
      "  weight_decay=trial.suggest_loguniform(\"weight_decay\",1e-5,1)\n",
      "[I 2024-11-28 19:37:42,070] Trial 41 finished with value: 0.5510835913312694 and parameters: {'hidden_units1': 442, 'hidden_units2': 162, 'hidden_units3': 92, 'hidden_units4': 62, 'dropout1': 0.2, 'dropout2': 0.45000000000000007, 'dropout3': 0.30000000000000004, 'dropout4': 0.15000000000000002, 'learning_rate': 0.009856638404346108, 'weight_decay': 5.9137091250535854e-05}. Best is trial 10 with value: 0.6299212598425197.\n"
     ]
    },
    {
     "name": "stdout",
     "output_type": "stream",
     "text": [
      "Accuracy: 58.69%\n",
      "Precision: 0.4518\n",
      "Recall: 0.7063\n",
      "F1 Score: 0.5511\n",
      "Matthews Correlation Coefficient: 0.2188\n",
      "Specificity: 0.5200\n"
     ]
    },
    {
     "name": "stderr",
     "output_type": "stream",
     "text": [
      "/tmp/ipykernel_184762/2455988453.py:10: FutureWarning: suggest_loguniform has been deprecated in v3.0.0. This feature will be removed in v6.0.0. See https://github.com/optuna/optuna/releases/tag/v3.0.0. Use suggest_float(..., log=True) instead.\n",
      "  learning_rate = trial.suggest_loguniform(\"learning_rate\", 1e-5, 1e-1)\n",
      "/tmp/ipykernel_184762/2455988453.py:11: FutureWarning: suggest_loguniform has been deprecated in v3.0.0. This feature will be removed in v6.0.0. See https://github.com/optuna/optuna/releases/tag/v3.0.0. Use suggest_float(..., log=True) instead.\n",
      "  weight_decay=trial.suggest_loguniform(\"weight_decay\",1e-5,1)\n",
      "[I 2024-11-28 19:38:31,857] Trial 42 finished with value: 0.29441624365482233 and parameters: {'hidden_units1': 470, 'hidden_units2': 156, 'hidden_units3': 102, 'hidden_units4': 18, 'dropout1': 0.25, 'dropout2': 0.5, 'dropout3': 0.35, 'dropout4': 0.25, 'learning_rate': 0.002578588284141062, 'weight_decay': 0.00037159691815676364}. Best is trial 10 with value: 0.6299212598425197.\n"
     ]
    },
    {
     "name": "stdout",
     "output_type": "stream",
     "text": [
      "Accuracy: 60.40%\n",
      "Precision: 0.4085\n",
      "Recall: 0.2302\n",
      "F1 Score: 0.2944\n",
      "Matthews Correlation Coefficient: 0.0519\n",
      "Specificity: 0.8133\n"
     ]
    },
    {
     "name": "stderr",
     "output_type": "stream",
     "text": [
      "/tmp/ipykernel_184762/2455988453.py:10: FutureWarning: suggest_loguniform has been deprecated in v3.0.0. This feature will be removed in v6.0.0. See https://github.com/optuna/optuna/releases/tag/v3.0.0. Use suggest_float(..., log=True) instead.\n",
      "  learning_rate = trial.suggest_loguniform(\"learning_rate\", 1e-5, 1e-1)\n",
      "/tmp/ipykernel_184762/2455988453.py:11: FutureWarning: suggest_loguniform has been deprecated in v3.0.0. This feature will be removed in v6.0.0. See https://github.com/optuna/optuna/releases/tag/v3.0.0. Use suggest_float(..., log=True) instead.\n",
      "  weight_decay=trial.suggest_loguniform(\"weight_decay\",1e-5,1)\n",
      "[I 2024-11-28 19:39:21,646] Trial 43 finished with value: 0.6203208556149733 and parameters: {'hidden_units1': 496, 'hidden_units2': 150, 'hidden_units3': 128, 'hidden_units4': 56, 'dropout1': 0.25, 'dropout2': 0.45000000000000007, 'dropout3': 0.35, 'dropout4': 0.1, 'learning_rate': 0.018354924089159022, 'weight_decay': 0.0001418971610408734}. Best is trial 10 with value: 0.6299212598425197.\n"
     ]
    },
    {
     "name": "stdout",
     "output_type": "stream",
     "text": [
      "Accuracy: 59.54%\n",
      "Precision: 0.4677\n",
      "Recall: 0.9206\n",
      "F1 Score: 0.6203\n",
      "Matthews Correlation Coefficient: 0.3518\n",
      "Specificity: 0.4133\n"
     ]
    },
    {
     "name": "stderr",
     "output_type": "stream",
     "text": [
      "/tmp/ipykernel_184762/2455988453.py:10: FutureWarning: suggest_loguniform has been deprecated in v3.0.0. This feature will be removed in v6.0.0. See https://github.com/optuna/optuna/releases/tag/v3.0.0. Use suggest_float(..., log=True) instead.\n",
      "  learning_rate = trial.suggest_loguniform(\"learning_rate\", 1e-5, 1e-1)\n",
      "/tmp/ipykernel_184762/2455988453.py:11: FutureWarning: suggest_loguniform has been deprecated in v3.0.0. This feature will be removed in v6.0.0. See https://github.com/optuna/optuna/releases/tag/v3.0.0. Use suggest_float(..., log=True) instead.\n",
      "  weight_decay=trial.suggest_loguniform(\"weight_decay\",1e-5,1)\n",
      "[I 2024-11-28 19:40:11,709] Trial 44 finished with value: 0.6243386243386243 and parameters: {'hidden_units1': 448, 'hidden_units2': 148, 'hidden_units3': 120, 'hidden_units4': 48, 'dropout1': 0.25, 'dropout2': 0.45000000000000007, 'dropout3': 0.30000000000000004, 'dropout4': 0.30000000000000004, 'learning_rate': 0.019777862015897492, 'weight_decay': 5.888594825749863e-05}. Best is trial 10 with value: 0.6299212598425197.\n"
     ]
    },
    {
     "name": "stdout",
     "output_type": "stream",
     "text": [
      "Accuracy: 59.54%\n",
      "Precision: 0.4683\n",
      "Recall: 0.9365\n",
      "F1 Score: 0.6243\n",
      "Matthews Correlation Coefficient: 0.3635\n",
      "Specificity: 0.4044\n"
     ]
    },
    {
     "name": "stderr",
     "output_type": "stream",
     "text": [
      "/tmp/ipykernel_184762/2455988453.py:10: FutureWarning: suggest_loguniform has been deprecated in v3.0.0. This feature will be removed in v6.0.0. See https://github.com/optuna/optuna/releases/tag/v3.0.0. Use suggest_float(..., log=True) instead.\n",
      "  learning_rate = trial.suggest_loguniform(\"learning_rate\", 1e-5, 1e-1)\n",
      "/tmp/ipykernel_184762/2455988453.py:11: FutureWarning: suggest_loguniform has been deprecated in v3.0.0. This feature will be removed in v6.0.0. See https://github.com/optuna/optuna/releases/tag/v3.0.0. Use suggest_float(..., log=True) instead.\n",
      "  weight_decay=trial.suggest_loguniform(\"weight_decay\",1e-5,1)\n",
      "[I 2024-11-28 19:41:01,931] Trial 45 finished with value: 0.6293333333333333 and parameters: {'hidden_units1': 498, 'hidden_units2': 148, 'hidden_units3': 128, 'hidden_units4': 48, 'dropout1': 0.30000000000000004, 'dropout2': 0.45000000000000007, 'dropout3': 0.4, 'dropout4': 0.30000000000000004, 'learning_rate': 0.020468663361144696, 'weight_decay': 1.7648830709392592e-05}. Best is trial 10 with value: 0.6299212598425197.\n"
     ]
    },
    {
     "name": "stdout",
     "output_type": "stream",
     "text": [
      "Accuracy: 60.40%\n",
      "Precision: 0.4739\n",
      "Recall: 0.9365\n",
      "F1 Score: 0.6293\n",
      "Matthews Correlation Coefficient: 0.3743\n",
      "Specificity: 0.4178\n"
     ]
    },
    {
     "name": "stderr",
     "output_type": "stream",
     "text": [
      "/tmp/ipykernel_184762/2455988453.py:10: FutureWarning: suggest_loguniform has been deprecated in v3.0.0. This feature will be removed in v6.0.0. See https://github.com/optuna/optuna/releases/tag/v3.0.0. Use suggest_float(..., log=True) instead.\n",
      "  learning_rate = trial.suggest_loguniform(\"learning_rate\", 1e-5, 1e-1)\n",
      "/tmp/ipykernel_184762/2455988453.py:11: FutureWarning: suggest_loguniform has been deprecated in v3.0.0. This feature will be removed in v6.0.0. See https://github.com/optuna/optuna/releases/tag/v3.0.0. Use suggest_float(..., log=True) instead.\n",
      "  weight_decay=trial.suggest_loguniform(\"weight_decay\",1e-5,1)\n",
      "/home/gonken/anaconda3/envs/torch/lib/python3.12/site-packages/sklearn/metrics/_classification.py:1531: UndefinedMetricWarning: Precision is ill-defined and being set to 0.0 due to no predicted samples. Use `zero_division` parameter to control this behavior.\n",
      "  _warn_prf(average, modifier, f\"{metric.capitalize()} is\", len(result))\n",
      "[I 2024-11-28 19:41:51,395] Trial 46 finished with value: 0.0 and parameters: {'hidden_units1': 512, 'hidden_units2': 134, 'hidden_units3': 128, 'hidden_units4': 36, 'dropout1': 0.30000000000000004, 'dropout2': 0.4, 'dropout3': 0.4, 'dropout4': 0.35, 'learning_rate': 0.09827020850421928, 'weight_decay': 1.7832898108182185e-05}. Best is trial 10 with value: 0.6299212598425197.\n",
      "/tmp/ipykernel_184762/2455988453.py:10: FutureWarning: suggest_loguniform has been deprecated in v3.0.0. This feature will be removed in v6.0.0. See https://github.com/optuna/optuna/releases/tag/v3.0.0. Use suggest_float(..., log=True) instead.\n",
      "  learning_rate = trial.suggest_loguniform(\"learning_rate\", 1e-5, 1e-1)\n",
      "/tmp/ipykernel_184762/2455988453.py:11: FutureWarning: suggest_loguniform has been deprecated in v3.0.0. This feature will be removed in v6.0.0. See https://github.com/optuna/optuna/releases/tag/v3.0.0. Use suggest_float(..., log=True) instead.\n",
      "  weight_decay=trial.suggest_loguniform(\"weight_decay\",1e-5,1)\n"
     ]
    },
    {
     "name": "stdout",
     "output_type": "stream",
     "text": [
      "Accuracy: 64.10%\n",
      "Precision: 0.0000\n",
      "Recall: 0.0000\n",
      "F1 Score: 0.0000\n",
      "Matthews Correlation Coefficient: 0.0000\n",
      "Specificity: 1.0000\n"
     ]
    },
    {
     "name": "stderr",
     "output_type": "stream",
     "text": [
      "/home/gonken/anaconda3/envs/torch/lib/python3.12/site-packages/sklearn/metrics/_classification.py:1531: UndefinedMetricWarning: Precision is ill-defined and being set to 0.0 due to no predicted samples. Use `zero_division` parameter to control this behavior.\n",
      "  _warn_prf(average, modifier, f\"{metric.capitalize()} is\", len(result))\n",
      "[I 2024-11-28 19:42:42,298] Trial 47 finished with value: 0.0 and parameters: {'hidden_units1': 460, 'hidden_units2': 144, 'hidden_units3': 120, 'hidden_units4': 46, 'dropout1': 0.2, 'dropout2': 0.45000000000000007, 'dropout3': 0.45000000000000007, 'dropout4': 0.30000000000000004, 'learning_rate': 0.05999558432575482, 'weight_decay': 0.8503685062606584}. Best is trial 10 with value: 0.6299212598425197.\n",
      "/tmp/ipykernel_184762/2455988453.py:10: FutureWarning: suggest_loguniform has been deprecated in v3.0.0. This feature will be removed in v6.0.0. See https://github.com/optuna/optuna/releases/tag/v3.0.0. Use suggest_float(..., log=True) instead.\n",
      "  learning_rate = trial.suggest_loguniform(\"learning_rate\", 1e-5, 1e-1)\n",
      "/tmp/ipykernel_184762/2455988453.py:11: FutureWarning: suggest_loguniform has been deprecated in v3.0.0. This feature will be removed in v6.0.0. See https://github.com/optuna/optuna/releases/tag/v3.0.0. Use suggest_float(..., log=True) instead.\n",
      "  weight_decay=trial.suggest_loguniform(\"weight_decay\",1e-5,1)\n"
     ]
    },
    {
     "name": "stdout",
     "output_type": "stream",
     "text": [
      "Accuracy: 64.10%\n",
      "Precision: 0.0000\n",
      "Recall: 0.0000\n",
      "F1 Score: 0.0000\n",
      "Matthews Correlation Coefficient: 0.0000\n",
      "Specificity: 1.0000\n"
     ]
    },
    {
     "name": "stderr",
     "output_type": "stream",
     "text": [
      "[I 2024-11-28 19:43:32,192] Trial 48 finished with value: 0.6321243523316062 and parameters: {'hidden_units1': 424, 'hidden_units2': 148, 'hidden_units3': 124, 'hidden_units4': 48, 'dropout1': 0.30000000000000004, 'dropout2': 0.2, 'dropout3': 0.4, 'dropout4': 0.35, 'learning_rate': 0.045530895800593524, 'weight_decay': 4.528583514257128e-05}. Best is trial 48 with value: 0.6321243523316062.\n"
     ]
    },
    {
     "name": "stdout",
     "output_type": "stream",
     "text": [
      "Accuracy: 59.54%\n",
      "Precision: 0.4692\n",
      "Recall: 0.9683\n",
      "F1 Score: 0.6321\n",
      "Matthews Correlation Coefficient: 0.3885\n",
      "Specificity: 0.3867\n"
     ]
    },
    {
     "name": "stderr",
     "output_type": "stream",
     "text": [
      "/tmp/ipykernel_184762/2455988453.py:10: FutureWarning: suggest_loguniform has been deprecated in v3.0.0. This feature will be removed in v6.0.0. See https://github.com/optuna/optuna/releases/tag/v3.0.0. Use suggest_float(..., log=True) instead.\n",
      "  learning_rate = trial.suggest_loguniform(\"learning_rate\", 1e-5, 1e-1)\n",
      "/tmp/ipykernel_184762/2455988453.py:11: FutureWarning: suggest_loguniform has been deprecated in v3.0.0. This feature will be removed in v6.0.0. See https://github.com/optuna/optuna/releases/tag/v3.0.0. Use suggest_float(..., log=True) instead.\n",
      "  weight_decay=trial.suggest_loguniform(\"weight_decay\",1e-5,1)\n",
      "[I 2024-11-28 19:44:22,198] Trial 49 finished with value: 0.6272493573264781 and parameters: {'hidden_units1': 404, 'hidden_units2': 140, 'hidden_units3': 124, 'hidden_units4': 50, 'dropout1': 0.30000000000000004, 'dropout2': 0.2, 'dropout3': 0.5, 'dropout4': 0.35, 'learning_rate': 0.04356149822823558, 'weight_decay': 1.7367396783698012e-05}. Best is trial 48 with value: 0.6321243523316062.\n"
     ]
    },
    {
     "name": "stdout",
     "output_type": "stream",
     "text": [
      "Accuracy: 58.69%\n",
      "Precision: 0.4639\n",
      "Recall: 0.9683\n",
      "F1 Score: 0.6272\n",
      "Matthews Correlation Coefficient: 0.3781\n",
      "Specificity: 0.3733\n"
     ]
    },
    {
     "name": "stderr",
     "output_type": "stream",
     "text": [
      "/tmp/ipykernel_184762/2455988453.py:10: FutureWarning: suggest_loguniform has been deprecated in v3.0.0. This feature will be removed in v6.0.0. See https://github.com/optuna/optuna/releases/tag/v3.0.0. Use suggest_float(..., log=True) instead.\n",
      "  learning_rate = trial.suggest_loguniform(\"learning_rate\", 1e-5, 1e-1)\n",
      "/tmp/ipykernel_184762/2455988453.py:11: FutureWarning: suggest_loguniform has been deprecated in v3.0.0. This feature will be removed in v6.0.0. See https://github.com/optuna/optuna/releases/tag/v3.0.0. Use suggest_float(..., log=True) instead.\n",
      "  weight_decay=trial.suggest_loguniform(\"weight_decay\",1e-5,1)\n",
      "[I 2024-11-28 19:45:12,404] Trial 50 finished with value: 0.6066838046272494 and parameters: {'hidden_units1': 380, 'hidden_units2': 138, 'hidden_units3': 126, 'hidden_units4': 50, 'dropout1': 0.30000000000000004, 'dropout2': 0.2, 'dropout3': 0.5, 'dropout4': 0.35, 'learning_rate': 0.040581211594179975, 'weight_decay': 1.6490414592644053e-05}. Best is trial 48 with value: 0.6321243523316062.\n"
     ]
    },
    {
     "name": "stdout",
     "output_type": "stream",
     "text": [
      "Accuracy: 56.41%\n",
      "Precision: 0.4487\n",
      "Recall: 0.9365\n",
      "F1 Score: 0.6067\n",
      "Matthews Correlation Coefficient: 0.3232\n",
      "Specificity: 0.3556\n"
     ]
    },
    {
     "name": "stderr",
     "output_type": "stream",
     "text": [
      "/tmp/ipykernel_184762/2455988453.py:10: FutureWarning: suggest_loguniform has been deprecated in v3.0.0. This feature will be removed in v6.0.0. See https://github.com/optuna/optuna/releases/tag/v3.0.0. Use suggest_float(..., log=True) instead.\n",
      "  learning_rate = trial.suggest_loguniform(\"learning_rate\", 1e-5, 1e-1)\n",
      "/tmp/ipykernel_184762/2455988453.py:11: FutureWarning: suggest_loguniform has been deprecated in v3.0.0. This feature will be removed in v6.0.0. See https://github.com/optuna/optuna/releases/tag/v3.0.0. Use suggest_float(..., log=True) instead.\n",
      "  weight_decay=trial.suggest_loguniform(\"weight_decay\",1e-5,1)\n",
      "/home/gonken/anaconda3/envs/torch/lib/python3.12/site-packages/sklearn/metrics/_classification.py:1531: UndefinedMetricWarning: Precision is ill-defined and being set to 0.0 due to no predicted samples. Use `zero_division` parameter to control this behavior.\n",
      "  _warn_prf(average, modifier, f\"{metric.capitalize()} is\", len(result))\n",
      "[I 2024-11-28 19:46:02,881] Trial 51 finished with value: 0.0 and parameters: {'hidden_units1': 408, 'hidden_units2': 138, 'hidden_units3': 124, 'hidden_units4': 42, 'dropout1': 0.30000000000000004, 'dropout2': 0.2, 'dropout3': 0.45000000000000007, 'dropout4': 0.35, 'learning_rate': 0.036145063113265485, 'weight_decay': 4.0184287772128914e-05}. Best is trial 48 with value: 0.6321243523316062.\n",
      "/tmp/ipykernel_184762/2455988453.py:10: FutureWarning: suggest_loguniform has been deprecated in v3.0.0. This feature will be removed in v6.0.0. See https://github.com/optuna/optuna/releases/tag/v3.0.0. Use suggest_float(..., log=True) instead.\n",
      "  learning_rate = trial.suggest_loguniform(\"learning_rate\", 1e-5, 1e-1)\n",
      "/tmp/ipykernel_184762/2455988453.py:11: FutureWarning: suggest_loguniform has been deprecated in v3.0.0. This feature will be removed in v6.0.0. See https://github.com/optuna/optuna/releases/tag/v3.0.0. Use suggest_float(..., log=True) instead.\n",
      "  weight_decay=trial.suggest_loguniform(\"weight_decay\",1e-5,1)\n"
     ]
    },
    {
     "name": "stdout",
     "output_type": "stream",
     "text": [
      "Accuracy: 64.10%\n",
      "Precision: 0.0000\n",
      "Recall: 0.0000\n",
      "F1 Score: 0.0000\n",
      "Matthews Correlation Coefficient: 0.0000\n",
      "Specificity: 1.0000\n"
     ]
    },
    {
     "name": "stderr",
     "output_type": "stream",
     "text": [
      "/home/gonken/anaconda3/envs/torch/lib/python3.12/site-packages/sklearn/metrics/_classification.py:1531: UndefinedMetricWarning: Precision is ill-defined and being set to 0.0 due to no predicted samples. Use `zero_division` parameter to control this behavior.\n",
      "  _warn_prf(average, modifier, f\"{metric.capitalize()} is\", len(result))\n",
      "[I 2024-11-28 19:46:53,615] Trial 52 finished with value: 0.0 and parameters: {'hidden_units1': 426, 'hidden_units2': 158, 'hidden_units3': 114, 'hidden_units4': 44, 'dropout1': 0.35, 'dropout2': 0.15000000000000002, 'dropout3': 0.5, 'dropout4': 0.4, 'learning_rate': 0.06983723892033028, 'weight_decay': 2.1305062719408043e-05}. Best is trial 48 with value: 0.6321243523316062.\n",
      "/tmp/ipykernel_184762/2455988453.py:10: FutureWarning: suggest_loguniform has been deprecated in v3.0.0. This feature will be removed in v6.0.0. See https://github.com/optuna/optuna/releases/tag/v3.0.0. Use suggest_float(..., log=True) instead.\n",
      "  learning_rate = trial.suggest_loguniform(\"learning_rate\", 1e-5, 1e-1)\n",
      "/tmp/ipykernel_184762/2455988453.py:11: FutureWarning: suggest_loguniform has been deprecated in v3.0.0. This feature will be removed in v6.0.0. See https://github.com/optuna/optuna/releases/tag/v3.0.0. Use suggest_float(..., log=True) instead.\n",
      "  weight_decay=trial.suggest_loguniform(\"weight_decay\",1e-5,1)\n"
     ]
    },
    {
     "name": "stdout",
     "output_type": "stream",
     "text": [
      "Accuracy: 64.10%\n",
      "Precision: 0.0000\n",
      "Recall: 0.0000\n",
      "F1 Score: 0.0000\n",
      "Matthews Correlation Coefficient: 0.0000\n",
      "Specificity: 1.0000\n"
     ]
    },
    {
     "name": "stderr",
     "output_type": "stream",
     "text": [
      "[I 2024-11-28 19:47:43,788] Trial 53 finished with value: 0.5037593984962406 and parameters: {'hidden_units1': 338, 'hidden_units2': 150, 'hidden_units3': 116, 'hidden_units4': 50, 'dropout1': 0.4, 'dropout2': 0.25, 'dropout3': 0.4, 'dropout4': 0.30000000000000004, 'learning_rate': 0.009131277966229567, 'weight_decay': 1.1392115210732126e-05}. Best is trial 48 with value: 0.6321243523316062.\n"
     ]
    },
    {
     "name": "stdout",
     "output_type": "stream",
     "text": [
      "Accuracy: 62.39%\n",
      "Precision: 0.4786\n",
      "Recall: 0.5317\n",
      "F1 Score: 0.5038\n",
      "Matthews Correlation Coefficient: 0.2031\n",
      "Specificity: 0.6756\n"
     ]
    },
    {
     "name": "stderr",
     "output_type": "stream",
     "text": [
      "/tmp/ipykernel_184762/2455988453.py:10: FutureWarning: suggest_loguniform has been deprecated in v3.0.0. This feature will be removed in v6.0.0. See https://github.com/optuna/optuna/releases/tag/v3.0.0. Use suggest_float(..., log=True) instead.\n",
      "  learning_rate = trial.suggest_loguniform(\"learning_rate\", 1e-5, 1e-1)\n",
      "/tmp/ipykernel_184762/2455988453.py:11: FutureWarning: suggest_loguniform has been deprecated in v3.0.0. This feature will be removed in v6.0.0. See https://github.com/optuna/optuna/releases/tag/v3.0.0. Use suggest_float(..., log=True) instead.\n",
      "  weight_decay=trial.suggest_loguniform(\"weight_decay\",1e-5,1)\n",
      "[I 2024-11-28 19:48:32,260] Trial 54 finished with value: 0.6278481012658228 and parameters: {'hidden_units1': 400, 'hidden_units2': 134, 'hidden_units3': 122, 'hidden_units4': 54, 'dropout1': 0.30000000000000004, 'dropout2': 0.2, 'dropout3': 0.4, 'dropout4': 0.35, 'learning_rate': 0.02842635497245203, 'weight_decay': 8.276470066958506e-05}. Best is trial 48 with value: 0.6321243523316062.\n"
     ]
    },
    {
     "name": "stdout",
     "output_type": "stream",
     "text": [
      "Accuracy: 58.12%\n",
      "Precision: 0.4610\n",
      "Recall: 0.9841\n",
      "F1 Score: 0.6278\n",
      "Matthews Correlation Coefficient: 0.3851\n",
      "Specificity: 0.3556\n"
     ]
    },
    {
     "name": "stderr",
     "output_type": "stream",
     "text": [
      "/tmp/ipykernel_184762/2455988453.py:10: FutureWarning: suggest_loguniform has been deprecated in v3.0.0. This feature will be removed in v6.0.0. See https://github.com/optuna/optuna/releases/tag/v3.0.0. Use suggest_float(..., log=True) instead.\n",
      "  learning_rate = trial.suggest_loguniform(\"learning_rate\", 1e-5, 1e-1)\n",
      "/tmp/ipykernel_184762/2455988453.py:11: FutureWarning: suggest_loguniform has been deprecated in v3.0.0. This feature will be removed in v6.0.0. See https://github.com/optuna/optuna/releases/tag/v3.0.0. Use suggest_float(..., log=True) instead.\n",
      "  weight_decay=trial.suggest_loguniform(\"weight_decay\",1e-5,1)\n",
      "/home/gonken/anaconda3/envs/torch/lib/python3.12/site-packages/sklearn/metrics/_classification.py:1531: UndefinedMetricWarning: Precision is ill-defined and being set to 0.0 due to no predicted samples. Use `zero_division` parameter to control this behavior.\n",
      "  _warn_prf(average, modifier, f\"{metric.capitalize()} is\", len(result))\n",
      "[I 2024-11-28 19:49:22,091] Trial 55 finished with value: 0.0 and parameters: {'hidden_units1': 398, 'hidden_units2': 128, 'hidden_units3': 124, 'hidden_units4': 48, 'dropout1': 0.30000000000000004, 'dropout2': 0.2, 'dropout3': 0.4, 'dropout4': 0.35, 'learning_rate': 0.049360962894920056, 'weight_decay': 5.121182478859992e-05}. Best is trial 48 with value: 0.6321243523316062.\n",
      "/tmp/ipykernel_184762/2455988453.py:10: FutureWarning: suggest_loguniform has been deprecated in v3.0.0. This feature will be removed in v6.0.0. See https://github.com/optuna/optuna/releases/tag/v3.0.0. Use suggest_float(..., log=True) instead.\n",
      "  learning_rate = trial.suggest_loguniform(\"learning_rate\", 1e-5, 1e-1)\n",
      "/tmp/ipykernel_184762/2455988453.py:11: FutureWarning: suggest_loguniform has been deprecated in v3.0.0. This feature will be removed in v6.0.0. See https://github.com/optuna/optuna/releases/tag/v3.0.0. Use suggest_float(..., log=True) instead.\n",
      "  weight_decay=trial.suggest_loguniform(\"weight_decay\",1e-5,1)\n"
     ]
    },
    {
     "name": "stdout",
     "output_type": "stream",
     "text": [
      "Accuracy: 64.10%\n",
      "Precision: 0.0000\n",
      "Recall: 0.0000\n",
      "F1 Score: 0.0000\n",
      "Matthews Correlation Coefficient: 0.0000\n",
      "Specificity: 1.0000\n"
     ]
    },
    {
     "name": "stderr",
     "output_type": "stream",
     "text": [
      "/home/gonken/anaconda3/envs/torch/lib/python3.12/site-packages/sklearn/metrics/_classification.py:1531: UndefinedMetricWarning: Precision is ill-defined and being set to 0.0 due to no predicted samples. Use `zero_division` parameter to control this behavior.\n",
      "  _warn_prf(average, modifier, f\"{metric.capitalize()} is\", len(result))\n",
      "[I 2024-11-28 19:50:11,729] Trial 56 finished with value: 0.0 and parameters: {'hidden_units1': 388, 'hidden_units2': 134, 'hidden_units3': 122, 'hidden_units4': 38, 'dropout1': 0.35, 'dropout2': 0.25, 'dropout3': 0.45000000000000007, 'dropout4': 0.4, 'learning_rate': 0.029160182969253923, 'weight_decay': 0.18453323851798292}. Best is trial 48 with value: 0.6321243523316062.\n",
      "/tmp/ipykernel_184762/2455988453.py:10: FutureWarning: suggest_loguniform has been deprecated in v3.0.0. This feature will be removed in v6.0.0. See https://github.com/optuna/optuna/releases/tag/v3.0.0. Use suggest_float(..., log=True) instead.\n",
      "  learning_rate = trial.suggest_loguniform(\"learning_rate\", 1e-5, 1e-1)\n",
      "/tmp/ipykernel_184762/2455988453.py:11: FutureWarning: suggest_loguniform has been deprecated in v3.0.0. This feature will be removed in v6.0.0. See https://github.com/optuna/optuna/releases/tag/v3.0.0. Use suggest_float(..., log=True) instead.\n",
      "  weight_decay=trial.suggest_loguniform(\"weight_decay\",1e-5,1)\n"
     ]
    },
    {
     "name": "stdout",
     "output_type": "stream",
     "text": [
      "Accuracy: 64.10%\n",
      "Precision: 0.0000\n",
      "Recall: 0.0000\n",
      "F1 Score: 0.0000\n",
      "Matthews Correlation Coefficient: 0.0000\n",
      "Specificity: 1.0000\n"
     ]
    },
    {
     "name": "stderr",
     "output_type": "stream",
     "text": [
      "[I 2024-11-28 19:51:00,750] Trial 57 finished with value: 0.40358744394618834 and parameters: {'hidden_units1': 354, 'hidden_units2': 140, 'hidden_units3': 126, 'hidden_units4': 44, 'dropout1': 0.30000000000000004, 'dropout2': 0.15000000000000002, 'dropout3': 0.4, 'dropout4': 0.35, 'learning_rate': 0.005178288596937963, 'weight_decay': 8.275532689826146e-05}. Best is trial 48 with value: 0.6321243523316062.\n"
     ]
    },
    {
     "name": "stdout",
     "output_type": "stream",
     "text": [
      "Accuracy: 62.11%\n",
      "Precision: 0.4639\n",
      "Recall: 0.3571\n",
      "F1 Score: 0.4036\n",
      "Matthews Correlation Coefficient: 0.1352\n",
      "Specificity: 0.7689\n"
     ]
    },
    {
     "name": "stderr",
     "output_type": "stream",
     "text": [
      "/tmp/ipykernel_184762/2455988453.py:10: FutureWarning: suggest_loguniform has been deprecated in v3.0.0. This feature will be removed in v6.0.0. See https://github.com/optuna/optuna/releases/tag/v3.0.0. Use suggest_float(..., log=True) instead.\n",
      "  learning_rate = trial.suggest_loguniform(\"learning_rate\", 1e-5, 1e-1)\n",
      "/tmp/ipykernel_184762/2455988453.py:11: FutureWarning: suggest_loguniform has been deprecated in v3.0.0. This feature will be removed in v6.0.0. See https://github.com/optuna/optuna/releases/tag/v3.0.0. Use suggest_float(..., log=True) instead.\n",
      "  weight_decay=trial.suggest_loguniform(\"weight_decay\",1e-5,1)\n",
      "/home/gonken/anaconda3/envs/torch/lib/python3.12/site-packages/sklearn/metrics/_classification.py:1531: UndefinedMetricWarning: Precision is ill-defined and being set to 0.0 due to no predicted samples. Use `zero_division` parameter to control this behavior.\n",
      "  _warn_prf(average, modifier, f\"{metric.capitalize()} is\", len(result))\n",
      "[I 2024-11-28 19:51:50,595] Trial 58 finished with value: 0.0 and parameters: {'hidden_units1': 378, 'hidden_units2': 132, 'hidden_units3': 118, 'hidden_units4': 54, 'dropout1': 0.35, 'dropout2': 0.1, 'dropout3': 0.5, 'dropout4': 0.4, 'learning_rate': 0.01629867129182244, 'weight_decay': 2.5840575242325328e-05}. Best is trial 48 with value: 0.6321243523316062.\n",
      "/tmp/ipykernel_184762/2455988453.py:10: FutureWarning: suggest_loguniform has been deprecated in v3.0.0. This feature will be removed in v6.0.0. See https://github.com/optuna/optuna/releases/tag/v3.0.0. Use suggest_float(..., log=True) instead.\n",
      "  learning_rate = trial.suggest_loguniform(\"learning_rate\", 1e-5, 1e-1)\n",
      "/tmp/ipykernel_184762/2455988453.py:11: FutureWarning: suggest_loguniform has been deprecated in v3.0.0. This feature will be removed in v6.0.0. See https://github.com/optuna/optuna/releases/tag/v3.0.0. Use suggest_float(..., log=True) instead.\n",
      "  weight_decay=trial.suggest_loguniform(\"weight_decay\",1e-5,1)\n"
     ]
    },
    {
     "name": "stdout",
     "output_type": "stream",
     "text": [
      "Accuracy: 64.10%\n",
      "Precision: 0.0000\n",
      "Recall: 0.0000\n",
      "F1 Score: 0.0000\n",
      "Matthews Correlation Coefficient: 0.0000\n",
      "Specificity: 1.0000\n"
     ]
    },
    {
     "name": "stderr",
     "output_type": "stream",
     "text": [
      "/home/gonken/anaconda3/envs/torch/lib/python3.12/site-packages/sklearn/metrics/_classification.py:1531: UndefinedMetricWarning: Precision is ill-defined and being set to 0.0 due to no predicted samples. Use `zero_division` parameter to control this behavior.\n",
      "  _warn_prf(average, modifier, f\"{metric.capitalize()} is\", len(result))\n",
      "[I 2024-11-28 19:52:40,252] Trial 59 finished with value: 0.0 and parameters: {'hidden_units1': 402, 'hidden_units2': 146, 'hidden_units3': 112, 'hidden_units4': 52, 'dropout1': 0.45000000000000007, 'dropout2': 0.2, 'dropout3': 0.45000000000000007, 'dropout4': 0.35, 'learning_rate': 0.026530113509338732, 'weight_decay': 1.4876959086797536e-05}. Best is trial 48 with value: 0.6321243523316062.\n",
      "/tmp/ipykernel_184762/2455988453.py:10: FutureWarning: suggest_loguniform has been deprecated in v3.0.0. This feature will be removed in v6.0.0. See https://github.com/optuna/optuna/releases/tag/v3.0.0. Use suggest_float(..., log=True) instead.\n",
      "  learning_rate = trial.suggest_loguniform(\"learning_rate\", 1e-5, 1e-1)\n",
      "/tmp/ipykernel_184762/2455988453.py:11: FutureWarning: suggest_loguniform has been deprecated in v3.0.0. This feature will be removed in v6.0.0. See https://github.com/optuna/optuna/releases/tag/v3.0.0. Use suggest_float(..., log=True) instead.\n",
      "  weight_decay=trial.suggest_loguniform(\"weight_decay\",1e-5,1)\n"
     ]
    },
    {
     "name": "stdout",
     "output_type": "stream",
     "text": [
      "Accuracy: 64.10%\n",
      "Precision: 0.0000\n",
      "Recall: 0.0000\n",
      "F1 Score: 0.0000\n",
      "Matthews Correlation Coefficient: 0.0000\n",
      "Specificity: 1.0000\n"
     ]
    },
    {
     "name": "stderr",
     "output_type": "stream",
     "text": [
      "[I 2024-11-28 19:53:30,472] Trial 60 finished with value: 0.6231155778894473 and parameters: {'hidden_units1': 426, 'hidden_units2': 202, 'hidden_units3': 122, 'hidden_units4': 46, 'dropout1': 0.30000000000000004, 'dropout2': 0.15000000000000002, 'dropout3': 0.45000000000000007, 'dropout4': 0.30000000000000004, 'learning_rate': 0.0736828298627684, 'weight_decay': 9.166403519195835e-05}. Best is trial 48 with value: 0.6321243523316062.\n"
     ]
    },
    {
     "name": "stdout",
     "output_type": "stream",
     "text": [
      "Accuracy: 57.26%\n",
      "Precision: 0.4559\n",
      "Recall: 0.9841\n",
      "F1 Score: 0.6231\n",
      "Matthews Correlation Coefficient: 0.3749\n",
      "Specificity: 0.3422\n"
     ]
    },
    {
     "name": "stderr",
     "output_type": "stream",
     "text": [
      "/tmp/ipykernel_184762/2455988453.py:10: FutureWarning: suggest_loguniform has been deprecated in v3.0.0. This feature will be removed in v6.0.0. See https://github.com/optuna/optuna/releases/tag/v3.0.0. Use suggest_float(..., log=True) instead.\n",
      "  learning_rate = trial.suggest_loguniform(\"learning_rate\", 1e-5, 1e-1)\n",
      "/tmp/ipykernel_184762/2455988453.py:11: FutureWarning: suggest_loguniform has been deprecated in v3.0.0. This feature will be removed in v6.0.0. See https://github.com/optuna/optuna/releases/tag/v3.0.0. Use suggest_float(..., log=True) instead.\n",
      "  weight_decay=trial.suggest_loguniform(\"weight_decay\",1e-5,1)\n",
      "[I 2024-11-28 19:54:20,416] Trial 61 finished with value: 0.6166219839142091 and parameters: {'hidden_units1': 494, 'hidden_units2': 166, 'hidden_units3': 128, 'hidden_units4': 54, 'dropout1': 0.25, 'dropout2': 0.25, 'dropout3': 0.35, 'dropout4': 0.25, 'learning_rate': 0.012276738577969293, 'weight_decay': 4.741573694969271e-05}. Best is trial 48 with value: 0.6321243523316062.\n"
     ]
    },
    {
     "name": "stdout",
     "output_type": "stream",
     "text": [
      "Accuracy: 59.26%\n",
      "Precision: 0.4656\n",
      "Recall: 0.9127\n",
      "F1 Score: 0.6166\n",
      "Matthews Correlation Coefficient: 0.3425\n",
      "Specificity: 0.4133\n"
     ]
    },
    {
     "name": "stderr",
     "output_type": "stream",
     "text": [
      "/tmp/ipykernel_184762/2455988453.py:10: FutureWarning: suggest_loguniform has been deprecated in v3.0.0. This feature will be removed in v6.0.0. See https://github.com/optuna/optuna/releases/tag/v3.0.0. Use suggest_float(..., log=True) instead.\n",
      "  learning_rate = trial.suggest_loguniform(\"learning_rate\", 1e-5, 1e-1)\n",
      "/tmp/ipykernel_184762/2455988453.py:11: FutureWarning: suggest_loguniform has been deprecated in v3.0.0. This feature will be removed in v6.0.0. See https://github.com/optuna/optuna/releases/tag/v3.0.0. Use suggest_float(..., log=True) instead.\n",
      "  weight_decay=trial.suggest_loguniform(\"weight_decay\",1e-5,1)\n",
      "/home/gonken/anaconda3/envs/torch/lib/python3.12/site-packages/sklearn/metrics/_classification.py:1531: UndefinedMetricWarning: Precision is ill-defined and being set to 0.0 due to no predicted samples. Use `zero_division` parameter to control this behavior.\n",
      "  _warn_prf(average, modifier, f\"{metric.capitalize()} is\", len(result))\n",
      "[I 2024-11-28 19:55:10,346] Trial 62 finished with value: 0.0 and parameters: {'hidden_units1': 470, 'hidden_units2': 142, 'hidden_units3': 124, 'hidden_units4': 58, 'dropout1': 0.25, 'dropout2': 0.15000000000000002, 'dropout3': 0.4, 'dropout4': 0.30000000000000004, 'learning_rate': 0.04657183311445982, 'weight_decay': 3.306342062309934e-05}. Best is trial 48 with value: 0.6321243523316062.\n",
      "/tmp/ipykernel_184762/2455988453.py:10: FutureWarning: suggest_loguniform has been deprecated in v3.0.0. This feature will be removed in v6.0.0. See https://github.com/optuna/optuna/releases/tag/v3.0.0. Use suggest_float(..., log=True) instead.\n",
      "  learning_rate = trial.suggest_loguniform(\"learning_rate\", 1e-5, 1e-1)\n",
      "/tmp/ipykernel_184762/2455988453.py:11: FutureWarning: suggest_loguniform has been deprecated in v3.0.0. This feature will be removed in v6.0.0. See https://github.com/optuna/optuna/releases/tag/v3.0.0. Use suggest_float(..., log=True) instead.\n",
      "  weight_decay=trial.suggest_loguniform(\"weight_decay\",1e-5,1)\n"
     ]
    },
    {
     "name": "stdout",
     "output_type": "stream",
     "text": [
      "Accuracy: 64.10%\n",
      "Precision: 0.0000\n",
      "Recall: 0.0000\n",
      "F1 Score: 0.0000\n",
      "Matthews Correlation Coefficient: 0.0000\n",
      "Specificity: 1.0000\n"
     ]
    },
    {
     "name": "stderr",
     "output_type": "stream",
     "text": [
      "/home/gonken/anaconda3/envs/torch/lib/python3.12/site-packages/sklearn/metrics/_classification.py:1531: UndefinedMetricWarning: Precision is ill-defined and being set to 0.0 due to no predicted samples. Use `zero_division` parameter to control this behavior.\n",
      "  _warn_prf(average, modifier, f\"{metric.capitalize()} is\", len(result))\n",
      "[I 2024-11-28 19:56:00,716] Trial 63 finished with value: 0.0 and parameters: {'hidden_units1': 372, 'hidden_units2': 136, 'hidden_units3': 106, 'hidden_units4': 50, 'dropout1': 0.2, 'dropout2': 0.2, 'dropout3': 0.4, 'dropout4': 0.35, 'learning_rate': 0.02940365115523104, 'weight_decay': 1.0028566414113904e-05}. Best is trial 48 with value: 0.6321243523316062.\n",
      "/tmp/ipykernel_184762/2455988453.py:10: FutureWarning: suggest_loguniform has been deprecated in v3.0.0. This feature will be removed in v6.0.0. See https://github.com/optuna/optuna/releases/tag/v3.0.0. Use suggest_float(..., log=True) instead.\n",
      "  learning_rate = trial.suggest_loguniform(\"learning_rate\", 1e-5, 1e-1)\n",
      "/tmp/ipykernel_184762/2455988453.py:11: FutureWarning: suggest_loguniform has been deprecated in v3.0.0. This feature will be removed in v6.0.0. See https://github.com/optuna/optuna/releases/tag/v3.0.0. Use suggest_float(..., log=True) instead.\n",
      "  weight_decay=trial.suggest_loguniform(\"weight_decay\",1e-5,1)\n"
     ]
    },
    {
     "name": "stdout",
     "output_type": "stream",
     "text": [
      "Accuracy: 64.10%\n",
      "Precision: 0.0000\n",
      "Recall: 0.0000\n",
      "F1 Score: 0.0000\n",
      "Matthews Correlation Coefficient: 0.0000\n",
      "Specificity: 1.0000\n"
     ]
    },
    {
     "name": "stderr",
     "output_type": "stream",
     "text": [
      "[I 2024-11-28 19:56:50,984] Trial 64 finished with value: 0.5959885386819485 and parameters: {'hidden_units1': 338, 'hidden_units2': 152, 'hidden_units3': 76, 'hidden_units4': 48, 'dropout1': 0.35, 'dropout2': 0.30000000000000004, 'dropout3': 0.35, 'dropout4': 0.25, 'learning_rate': 0.008082549120722454, 'weight_decay': 7.000110980905444e-05}. Best is trial 48 with value: 0.6321243523316062.\n"
     ]
    },
    {
     "name": "stdout",
     "output_type": "stream",
     "text": [
      "Accuracy: 59.83%\n",
      "Precision: 0.4664\n",
      "Recall: 0.8254\n",
      "F1 Score: 0.5960\n",
      "Matthews Correlation Coefficient: 0.2955\n",
      "Specificity: 0.4711\n"
     ]
    },
    {
     "name": "stderr",
     "output_type": "stream",
     "text": [
      "/tmp/ipykernel_184762/2455988453.py:10: FutureWarning: suggest_loguniform has been deprecated in v3.0.0. This feature will be removed in v6.0.0. See https://github.com/optuna/optuna/releases/tag/v3.0.0. Use suggest_float(..., log=True) instead.\n",
      "  learning_rate = trial.suggest_loguniform(\"learning_rate\", 1e-5, 1e-1)\n",
      "/tmp/ipykernel_184762/2455988453.py:11: FutureWarning: suggest_loguniform has been deprecated in v3.0.0. This feature will be removed in v6.0.0. See https://github.com/optuna/optuna/releases/tag/v3.0.0. Use suggest_float(..., log=True) instead.\n",
      "  weight_decay=trial.suggest_loguniform(\"weight_decay\",1e-5,1)\n",
      "/home/gonken/anaconda3/envs/torch/lib/python3.12/site-packages/sklearn/metrics/_classification.py:1531: UndefinedMetricWarning: Precision is ill-defined and being set to 0.0 due to no predicted samples. Use `zero_division` parameter to control this behavior.\n",
      "  _warn_prf(average, modifier, f\"{metric.capitalize()} is\", len(result))\n",
      "[I 2024-11-28 19:57:39,793] Trial 65 finished with value: 0.0 and parameters: {'hidden_units1': 280, 'hidden_units2': 146, 'hidden_units3': 68, 'hidden_units4': 60, 'dropout1': 0.5, 'dropout2': 0.1, 'dropout3': 0.4, 'dropout4': 0.45000000000000007, 'learning_rate': 0.0144540817413307, 'weight_decay': 0.00845599696376674}. Best is trial 48 with value: 0.6321243523316062.\n",
      "/tmp/ipykernel_184762/2455988453.py:10: FutureWarning: suggest_loguniform has been deprecated in v3.0.0. This feature will be removed in v6.0.0. See https://github.com/optuna/optuna/releases/tag/v3.0.0. Use suggest_float(..., log=True) instead.\n",
      "  learning_rate = trial.suggest_loguniform(\"learning_rate\", 1e-5, 1e-1)\n",
      "/tmp/ipykernel_184762/2455988453.py:11: FutureWarning: suggest_loguniform has been deprecated in v3.0.0. This feature will be removed in v6.0.0. See https://github.com/optuna/optuna/releases/tag/v3.0.0. Use suggest_float(..., log=True) instead.\n",
      "  weight_decay=trial.suggest_loguniform(\"weight_decay\",1e-5,1)\n"
     ]
    },
    {
     "name": "stdout",
     "output_type": "stream",
     "text": [
      "Accuracy: 64.10%\n",
      "Precision: 0.0000\n",
      "Recall: 0.0000\n",
      "F1 Score: 0.0000\n",
      "Matthews Correlation Coefficient: 0.0000\n",
      "Specificity: 1.0000\n"
     ]
    },
    {
     "name": "stderr",
     "output_type": "stream",
     "text": [
      "[I 2024-11-28 19:58:29,334] Trial 66 finished with value: 0.6021505376344086 and parameters: {'hidden_units1': 422, 'hidden_units2': 128, 'hidden_units3': 126, 'hidden_units4': 56, 'dropout1': 0.30000000000000004, 'dropout2': 0.2, 'dropout3': 0.1, 'dropout4': 0.30000000000000004, 'learning_rate': 0.05698260494131865, 'weight_decay': 0.00024755804583163064}. Best is trial 48 with value: 0.6321243523316062.\n"
     ]
    },
    {
     "name": "stdout",
     "output_type": "stream",
     "text": [
      "Accuracy: 57.83%\n",
      "Precision: 0.4553\n",
      "Recall: 0.8889\n",
      "F1 Score: 0.6022\n",
      "Matthews Correlation Coefficient: 0.3073\n",
      "Specificity: 0.4044\n"
     ]
    },
    {
     "name": "stderr",
     "output_type": "stream",
     "text": [
      "/tmp/ipykernel_184762/2455988453.py:10: FutureWarning: suggest_loguniform has been deprecated in v3.0.0. This feature will be removed in v6.0.0. See https://github.com/optuna/optuna/releases/tag/v3.0.0. Use suggest_float(..., log=True) instead.\n",
      "  learning_rate = trial.suggest_loguniform(\"learning_rate\", 1e-5, 1e-1)\n",
      "/tmp/ipykernel_184762/2455988453.py:11: FutureWarning: suggest_loguniform has been deprecated in v3.0.0. This feature will be removed in v6.0.0. See https://github.com/optuna/optuna/releases/tag/v3.0.0. Use suggest_float(..., log=True) instead.\n",
      "  weight_decay=trial.suggest_loguniform(\"weight_decay\",1e-5,1)\n",
      "/home/gonken/anaconda3/envs/torch/lib/python3.12/site-packages/sklearn/metrics/_classification.py:1531: UndefinedMetricWarning: Precision is ill-defined and being set to 0.0 due to no predicted samples. Use `zero_division` parameter to control this behavior.\n",
      "  _warn_prf(average, modifier, f\"{metric.capitalize()} is\", len(result))\n",
      "[I 2024-11-28 19:59:17,088] Trial 67 finished with value: 0.0 and parameters: {'hidden_units1': 254, 'hidden_units2': 142, 'hidden_units3': 116, 'hidden_units4': 52, 'dropout1': 0.25, 'dropout2': 0.25, 'dropout3': 0.35, 'dropout4': 0.4, 'learning_rate': 0.023467732348812304, 'weight_decay': 2.3222302657691954e-05}. Best is trial 48 with value: 0.6321243523316062.\n",
      "/tmp/ipykernel_184762/2455988453.py:10: FutureWarning: suggest_loguniform has been deprecated in v3.0.0. This feature will be removed in v6.0.0. See https://github.com/optuna/optuna/releases/tag/v3.0.0. Use suggest_float(..., log=True) instead.\n",
      "  learning_rate = trial.suggest_loguniform(\"learning_rate\", 1e-5, 1e-1)\n",
      "/tmp/ipykernel_184762/2455988453.py:11: FutureWarning: suggest_loguniform has been deprecated in v3.0.0. This feature will be removed in v6.0.0. See https://github.com/optuna/optuna/releases/tag/v3.0.0. Use suggest_float(..., log=True) instead.\n",
      "  weight_decay=trial.suggest_loguniform(\"weight_decay\",1e-5,1)\n"
     ]
    },
    {
     "name": "stdout",
     "output_type": "stream",
     "text": [
      "Accuracy: 64.10%\n",
      "Precision: 0.0000\n",
      "Recall: 0.0000\n",
      "F1 Score: 0.0000\n",
      "Matthews Correlation Coefficient: 0.0000\n",
      "Specificity: 1.0000\n"
     ]
    },
    {
     "name": "stderr",
     "output_type": "stream",
     "text": [
      "[I 2024-11-28 20:00:05,723] Trial 68 finished with value: 0.4866920152091255 and parameters: {'hidden_units1': 360, 'hidden_units2': 180, 'hidden_units3': 122, 'hidden_units4': 44, 'dropout1': 0.15000000000000002, 'dropout2': 0.25, 'dropout3': 0.35, 'dropout4': 0.35, 'learning_rate': 0.0008937008337920959, 'weight_decay': 3.728011254699651e-05}. Best is trial 48 with value: 0.6321243523316062.\n"
     ]
    },
    {
     "name": "stdout",
     "output_type": "stream",
     "text": [
      "Accuracy: 61.54%\n",
      "Precision: 0.4672\n",
      "Recall: 0.5079\n",
      "F1 Score: 0.4867\n",
      "Matthews Correlation Coefficient: 0.1804\n",
      "Specificity: 0.6756\n"
     ]
    },
    {
     "name": "stderr",
     "output_type": "stream",
     "text": [
      "/tmp/ipykernel_184762/2455988453.py:10: FutureWarning: suggest_loguniform has been deprecated in v3.0.0. This feature will be removed in v6.0.0. See https://github.com/optuna/optuna/releases/tag/v3.0.0. Use suggest_float(..., log=True) instead.\n",
      "  learning_rate = trial.suggest_loguniform(\"learning_rate\", 1e-5, 1e-1)\n",
      "/tmp/ipykernel_184762/2455988453.py:11: FutureWarning: suggest_loguniform has been deprecated in v3.0.0. This feature will be removed in v6.0.0. See https://github.com/optuna/optuna/releases/tag/v3.0.0. Use suggest_float(..., log=True) instead.\n",
      "  weight_decay=trial.suggest_loguniform(\"weight_decay\",1e-5,1)\n",
      "[I 2024-11-28 20:00:56,167] Trial 69 finished with value: 0.3835616438356164 and parameters: {'hidden_units1': 304, 'hidden_units2': 186, 'hidden_units3': 80, 'hidden_units4': 62, 'dropout1': 0.4, 'dropout2': 0.35, 'dropout3': 0.4, 'dropout4': 0.30000000000000004, 'learning_rate': 0.004769984937698368, 'weight_decay': 1.4358272934094327e-05}. Best is trial 48 with value: 0.6321243523316062.\n"
     ]
    },
    {
     "name": "stdout",
     "output_type": "stream",
     "text": [
      "Accuracy: 61.54%\n",
      "Precision: 0.4516\n",
      "Recall: 0.3333\n",
      "F1 Score: 0.3836\n",
      "Matthews Correlation Coefficient: 0.1159\n",
      "Specificity: 0.7733\n"
     ]
    },
    {
     "name": "stderr",
     "output_type": "stream",
     "text": [
      "/tmp/ipykernel_184762/2455988453.py:10: FutureWarning: suggest_loguniform has been deprecated in v3.0.0. This feature will be removed in v6.0.0. See https://github.com/optuna/optuna/releases/tag/v3.0.0. Use suggest_float(..., log=True) instead.\n",
      "  learning_rate = trial.suggest_loguniform(\"learning_rate\", 1e-5, 1e-1)\n",
      "/tmp/ipykernel_184762/2455988453.py:11: FutureWarning: suggest_loguniform has been deprecated in v3.0.0. This feature will be removed in v6.0.0. See https://github.com/optuna/optuna/releases/tag/v3.0.0. Use suggest_float(..., log=True) instead.\n",
      "  weight_decay=trial.suggest_loguniform(\"weight_decay\",1e-5,1)\n",
      "/home/gonken/anaconda3/envs/torch/lib/python3.12/site-packages/sklearn/metrics/_classification.py:1531: UndefinedMetricWarning: Precision is ill-defined and being set to 0.0 due to no predicted samples. Use `zero_division` parameter to control this behavior.\n",
      "  _warn_prf(average, modifier, f\"{metric.capitalize()} is\", len(result))\n",
      "[I 2024-11-28 20:01:46,171] Trial 70 finished with value: 0.0 and parameters: {'hidden_units1': 456, 'hidden_units2': 158, 'hidden_units3': 64, 'hidden_units4': 54, 'dropout1': 0.30000000000000004, 'dropout2': 0.15000000000000002, 'dropout3': 0.30000000000000004, 'dropout4': 0.4, 'learning_rate': 0.09674397643281105, 'weight_decay': 0.00016373020882727202}. Best is trial 48 with value: 0.6321243523316062.\n",
      "/tmp/ipykernel_184762/2455988453.py:10: FutureWarning: suggest_loguniform has been deprecated in v3.0.0. This feature will be removed in v6.0.0. See https://github.com/optuna/optuna/releases/tag/v3.0.0. Use suggest_float(..., log=True) instead.\n",
      "  learning_rate = trial.suggest_loguniform(\"learning_rate\", 1e-5, 1e-1)\n",
      "/tmp/ipykernel_184762/2455988453.py:11: FutureWarning: suggest_loguniform has been deprecated in v3.0.0. This feature will be removed in v6.0.0. See https://github.com/optuna/optuna/releases/tag/v3.0.0. Use suggest_float(..., log=True) instead.\n",
      "  weight_decay=trial.suggest_loguniform(\"weight_decay\",1e-5,1)\n"
     ]
    },
    {
     "name": "stdout",
     "output_type": "stream",
     "text": [
      "Accuracy: 64.10%\n",
      "Precision: 0.0000\n",
      "Recall: 0.0000\n",
      "F1 Score: 0.0000\n",
      "Matthews Correlation Coefficient: 0.0000\n",
      "Specificity: 1.0000\n"
     ]
    },
    {
     "name": "stderr",
     "output_type": "stream",
     "text": [
      "[I 2024-11-28 20:02:34,007] Trial 71 finished with value: 0.629156010230179 and parameters: {'hidden_units1': 442, 'hidden_units2': 148, 'hidden_units3': 120, 'hidden_units4': 48, 'dropout1': 0.25, 'dropout2': 0.45000000000000007, 'dropout3': 0.25, 'dropout4': 0.30000000000000004, 'learning_rate': 0.020816074352734824, 'weight_decay': 6.60127258950859e-05}. Best is trial 48 with value: 0.6321243523316062.\n"
     ]
    },
    {
     "name": "stdout",
     "output_type": "stream",
     "text": [
      "Accuracy: 58.69%\n",
      "Precision: 0.4642\n",
      "Recall: 0.9762\n",
      "F1 Score: 0.6292\n",
      "Matthews Correlation Coefficient: 0.3849\n",
      "Specificity: 0.3689\n"
     ]
    },
    {
     "name": "stderr",
     "output_type": "stream",
     "text": [
      "/tmp/ipykernel_184762/2455988453.py:10: FutureWarning: suggest_loguniform has been deprecated in v3.0.0. This feature will be removed in v6.0.0. See https://github.com/optuna/optuna/releases/tag/v3.0.0. Use suggest_float(..., log=True) instead.\n",
      "  learning_rate = trial.suggest_loguniform(\"learning_rate\", 1e-5, 1e-1)\n",
      "/tmp/ipykernel_184762/2455988453.py:11: FutureWarning: suggest_loguniform has been deprecated in v3.0.0. This feature will be removed in v6.0.0. See https://github.com/optuna/optuna/releases/tag/v3.0.0. Use suggest_float(..., log=True) instead.\n",
      "  weight_decay=trial.suggest_loguniform(\"weight_decay\",1e-5,1)\n",
      "/home/gonken/anaconda3/envs/torch/lib/python3.12/site-packages/sklearn/metrics/_classification.py:1531: UndefinedMetricWarning: Precision is ill-defined and being set to 0.0 due to no predicted samples. Use `zero_division` parameter to control this behavior.\n",
      "  _warn_prf(average, modifier, f\"{metric.capitalize()} is\", len(result))\n",
      "[I 2024-11-28 20:03:22,975] Trial 72 finished with value: 0.0 and parameters: {'hidden_units1': 432, 'hidden_units2': 144, 'hidden_units3': 126, 'hidden_units4': 20, 'dropout1': 0.25, 'dropout2': 0.2, 'dropout3': 0.25, 'dropout4': 0.25, 'learning_rate': 0.03500458697940857, 'weight_decay': 8.920942109614849e-05}. Best is trial 48 with value: 0.6321243523316062.\n",
      "/tmp/ipykernel_184762/2455988453.py:10: FutureWarning: suggest_loguniform has been deprecated in v3.0.0. This feature will be removed in v6.0.0. See https://github.com/optuna/optuna/releases/tag/v3.0.0. Use suggest_float(..., log=True) instead.\n",
      "  learning_rate = trial.suggest_loguniform(\"learning_rate\", 1e-5, 1e-1)\n",
      "/tmp/ipykernel_184762/2455988453.py:11: FutureWarning: suggest_loguniform has been deprecated in v3.0.0. This feature will be removed in v6.0.0. See https://github.com/optuna/optuna/releases/tag/v3.0.0. Use suggest_float(..., log=True) instead.\n",
      "  weight_decay=trial.suggest_loguniform(\"weight_decay\",1e-5,1)\n"
     ]
    },
    {
     "name": "stdout",
     "output_type": "stream",
     "text": [
      "Accuracy: 64.10%\n",
      "Precision: 0.0000\n",
      "Recall: 0.0000\n",
      "F1 Score: 0.0000\n",
      "Matthews Correlation Coefficient: 0.0000\n",
      "Specificity: 1.0000\n"
     ]
    },
    {
     "name": "stderr",
     "output_type": "stream",
     "text": [
      "[I 2024-11-28 20:04:12,094] Trial 73 finished with value: 0.47547169811320755 and parameters: {'hidden_units1': 216, 'hidden_units2': 152, 'hidden_units3': 118, 'hidden_units4': 48, 'dropout1': 0.25, 'dropout2': 0.1, 'dropout3': 0.15000000000000002, 'dropout4': 0.35, 'learning_rate': 0.010365778148419323, 'weight_decay': 2.898875031128632e-05}. Best is trial 48 with value: 0.6321243523316062.\n"
     ]
    },
    {
     "name": "stdout",
     "output_type": "stream",
     "text": [
      "Accuracy: 60.40%\n",
      "Precision: 0.4532\n",
      "Recall: 0.5000\n",
      "F1 Score: 0.4755\n",
      "Matthews Correlation Coefficient: 0.1591\n",
      "Specificity: 0.6622\n"
     ]
    },
    {
     "name": "stderr",
     "output_type": "stream",
     "text": [
      "/tmp/ipykernel_184762/2455988453.py:10: FutureWarning: suggest_loguniform has been deprecated in v3.0.0. This feature will be removed in v6.0.0. See https://github.com/optuna/optuna/releases/tag/v3.0.0. Use suggest_float(..., log=True) instead.\n",
      "  learning_rate = trial.suggest_loguniform(\"learning_rate\", 1e-5, 1e-1)\n",
      "/tmp/ipykernel_184762/2455988453.py:11: FutureWarning: suggest_loguniform has been deprecated in v3.0.0. This feature will be removed in v6.0.0. See https://github.com/optuna/optuna/releases/tag/v3.0.0. Use suggest_float(..., log=True) instead.\n",
      "  weight_decay=trial.suggest_loguniform(\"weight_decay\",1e-5,1)\n",
      "/home/gonken/anaconda3/envs/torch/lib/python3.12/site-packages/sklearn/metrics/_classification.py:1531: UndefinedMetricWarning: Precision is ill-defined and being set to 0.0 due to no predicted samples. Use `zero_division` parameter to control this behavior.\n",
      "  _warn_prf(average, modifier, f\"{metric.capitalize()} is\", len(result))\n",
      "[I 2024-11-28 20:05:02,480] Trial 74 finished with value: 0.0 and parameters: {'hidden_units1': 234, 'hidden_units2': 148, 'hidden_units3': 122, 'hidden_units4': 40, 'dropout1': 0.2, 'dropout2': 0.35, 'dropout3': 0.2, 'dropout4': 0.30000000000000004, 'learning_rate': 0.01788054767036304, 'weight_decay': 4.707348297746023e-05}. Best is trial 48 with value: 0.6321243523316062.\n",
      "/tmp/ipykernel_184762/2455988453.py:10: FutureWarning: suggest_loguniform has been deprecated in v3.0.0. This feature will be removed in v6.0.0. See https://github.com/optuna/optuna/releases/tag/v3.0.0. Use suggest_float(..., log=True) instead.\n",
      "  learning_rate = trial.suggest_loguniform(\"learning_rate\", 1e-5, 1e-1)\n",
      "/tmp/ipykernel_184762/2455988453.py:11: FutureWarning: suggest_loguniform has been deprecated in v3.0.0. This feature will be removed in v6.0.0. See https://github.com/optuna/optuna/releases/tag/v3.0.0. Use suggest_float(..., log=True) instead.\n",
      "  weight_decay=trial.suggest_loguniform(\"weight_decay\",1e-5,1)\n"
     ]
    },
    {
     "name": "stdout",
     "output_type": "stream",
     "text": [
      "Accuracy: 64.10%\n",
      "Precision: 0.0000\n",
      "Recall: 0.0000\n",
      "F1 Score: 0.0000\n",
      "Matthews Correlation Coefficient: 0.0000\n",
      "Specificity: 1.0000\n"
     ]
    },
    {
     "name": "stderr",
     "output_type": "stream",
     "text": [
      "[I 2024-11-28 20:05:53,164] Trial 75 finished with value: 0.6141304347826086 and parameters: {'hidden_units1': 450, 'hidden_units2': 162, 'hidden_units3': 98, 'hidden_units4': 52, 'dropout1': 0.30000000000000004, 'dropout2': 0.4, 'dropout3': 0.2, 'dropout4': 0.25, 'learning_rate': 0.024623806518765747, 'weight_decay': 0.00011862184462222934}. Best is trial 48 with value: 0.6321243523316062.\n"
     ]
    },
    {
     "name": "stdout",
     "output_type": "stream",
     "text": [
      "Accuracy: 59.54%\n",
      "Precision: 0.4669\n",
      "Recall: 0.8968\n",
      "F1 Score: 0.6141\n",
      "Matthews Correlation Coefficient: 0.3354\n",
      "Specificity: 0.4267\n"
     ]
    },
    {
     "name": "stderr",
     "output_type": "stream",
     "text": [
      "/tmp/ipykernel_184762/2455988453.py:10: FutureWarning: suggest_loguniform has been deprecated in v3.0.0. This feature will be removed in v6.0.0. See https://github.com/optuna/optuna/releases/tag/v3.0.0. Use suggest_float(..., log=True) instead.\n",
      "  learning_rate = trial.suggest_loguniform(\"learning_rate\", 1e-5, 1e-1)\n",
      "/tmp/ipykernel_184762/2455988453.py:11: FutureWarning: suggest_loguniform has been deprecated in v3.0.0. This feature will be removed in v6.0.0. See https://github.com/optuna/optuna/releases/tag/v3.0.0. Use suggest_float(..., log=True) instead.\n",
      "  weight_decay=trial.suggest_loguniform(\"weight_decay\",1e-5,1)\n",
      "[I 2024-11-28 20:06:41,623] Trial 76 finished with value: 0.4790874524714829 and parameters: {'hidden_units1': 476, 'hidden_units2': 156, 'hidden_units3': 110, 'hidden_units4': 50, 'dropout1': 0.2, 'dropout2': 0.2, 'dropout3': 0.25, 'dropout4': 0.35, 'learning_rate': 0.00040511857476988717, 'weight_decay': 1.8795355474819365e-05}. Best is trial 48 with value: 0.6321243523316062.\n"
     ]
    },
    {
     "name": "stdout",
     "output_type": "stream",
     "text": [
      "Accuracy: 60.97%\n",
      "Precision: 0.4599\n",
      "Recall: 0.5000\n",
      "F1 Score: 0.4791\n",
      "Matthews Correlation Coefficient: 0.1683\n",
      "Specificity: 0.6711\n"
     ]
    },
    {
     "name": "stderr",
     "output_type": "stream",
     "text": [
      "/tmp/ipykernel_184762/2455988453.py:10: FutureWarning: suggest_loguniform has been deprecated in v3.0.0. This feature will be removed in v6.0.0. See https://github.com/optuna/optuna/releases/tag/v3.0.0. Use suggest_float(..., log=True) instead.\n",
      "  learning_rate = trial.suggest_loguniform(\"learning_rate\", 1e-5, 1e-1)\n",
      "/tmp/ipykernel_184762/2455988453.py:11: FutureWarning: suggest_loguniform has been deprecated in v3.0.0. This feature will be removed in v6.0.0. See https://github.com/optuna/optuna/releases/tag/v3.0.0. Use suggest_float(..., log=True) instead.\n",
      "  weight_decay=trial.suggest_loguniform(\"weight_decay\",1e-5,1)\n",
      "/home/gonken/anaconda3/envs/torch/lib/python3.12/site-packages/sklearn/metrics/_classification.py:1531: UndefinedMetricWarning: Precision is ill-defined and being set to 0.0 due to no predicted samples. Use `zero_division` parameter to control this behavior.\n",
      "  _warn_prf(average, modifier, f\"{metric.capitalize()} is\", len(result))\n",
      "[I 2024-11-28 20:07:33,198] Trial 77 finished with value: 0.0 and parameters: {'hidden_units1': 414, 'hidden_units2': 132, 'hidden_units3': 116, 'hidden_units4': 4, 'dropout1': 0.45000000000000007, 'dropout2': 0.5, 'dropout3': 0.30000000000000004, 'dropout4': 0.30000000000000004, 'learning_rate': 0.0500302767075534, 'weight_decay': 6.893757102058778e-05}. Best is trial 48 with value: 0.6321243523316062.\n",
      "/tmp/ipykernel_184762/2455988453.py:10: FutureWarning: suggest_loguniform has been deprecated in v3.0.0. This feature will be removed in v6.0.0. See https://github.com/optuna/optuna/releases/tag/v3.0.0. Use suggest_float(..., log=True) instead.\n",
      "  learning_rate = trial.suggest_loguniform(\"learning_rate\", 1e-5, 1e-1)\n",
      "/tmp/ipykernel_184762/2455988453.py:11: FutureWarning: suggest_loguniform has been deprecated in v3.0.0. This feature will be removed in v6.0.0. See https://github.com/optuna/optuna/releases/tag/v3.0.0. Use suggest_float(..., log=True) instead.\n",
      "  weight_decay=trial.suggest_loguniform(\"weight_decay\",1e-5,1)\n"
     ]
    },
    {
     "name": "stdout",
     "output_type": "stream",
     "text": [
      "Accuracy: 64.10%\n",
      "Precision: 0.0000\n",
      "Recall: 0.0000\n",
      "F1 Score: 0.0000\n",
      "Matthews Correlation Coefficient: 0.0000\n",
      "Specificity: 1.0000\n"
     ]
    },
    {
     "name": "stderr",
     "output_type": "stream",
     "text": [
      "/home/gonken/anaconda3/envs/torch/lib/python3.12/site-packages/sklearn/metrics/_classification.py:1531: UndefinedMetricWarning: Precision is ill-defined and being set to 0.0 due to no predicted samples. Use `zero_division` parameter to control this behavior.\n",
      "  _warn_prf(average, modifier, f\"{metric.capitalize()} is\", len(result))\n",
      "[I 2024-11-28 20:08:23,394] Trial 78 finished with value: 0.0 and parameters: {'hidden_units1': 496, 'hidden_units2': 150, 'hidden_units3': 74, 'hidden_units4': 64, 'dropout1': 0.35, 'dropout2': 0.45000000000000007, 'dropout3': 0.35, 'dropout4': 0.30000000000000004, 'learning_rate': 0.011494856717686925, 'weight_decay': 2.9069813030422906e-05}. Best is trial 48 with value: 0.6321243523316062.\n",
      "/tmp/ipykernel_184762/2455988453.py:10: FutureWarning: suggest_loguniform has been deprecated in v3.0.0. This feature will be removed in v6.0.0. See https://github.com/optuna/optuna/releases/tag/v3.0.0. Use suggest_float(..., log=True) instead.\n",
      "  learning_rate = trial.suggest_loguniform(\"learning_rate\", 1e-5, 1e-1)\n",
      "/tmp/ipykernel_184762/2455988453.py:11: FutureWarning: suggest_loguniform has been deprecated in v3.0.0. This feature will be removed in v6.0.0. See https://github.com/optuna/optuna/releases/tag/v3.0.0. Use suggest_float(..., log=True) instead.\n",
      "  weight_decay=trial.suggest_loguniform(\"weight_decay\",1e-5,1)\n"
     ]
    },
    {
     "name": "stdout",
     "output_type": "stream",
     "text": [
      "Accuracy: 64.10%\n",
      "Precision: 0.0000\n",
      "Recall: 0.0000\n",
      "F1 Score: 0.0000\n",
      "Matthews Correlation Coefficient: 0.0000\n",
      "Specificity: 1.0000\n"
     ]
    },
    {
     "name": "stderr",
     "output_type": "stream",
     "text": [
      "/home/gonken/anaconda3/envs/torch/lib/python3.12/site-packages/sklearn/metrics/_classification.py:1531: UndefinedMetricWarning: Precision is ill-defined and being set to 0.0 due to no predicted samples. Use `zero_division` parameter to control this behavior.\n",
      "  _warn_prf(average, modifier, f\"{metric.capitalize()} is\", len(result))\n",
      "[I 2024-11-28 20:09:13,067] Trial 79 finished with value: 0.0 and parameters: {'hidden_units1': 406, 'hidden_units2': 140, 'hidden_units3': 86, 'hidden_units4': 46, 'dropout1': 0.25, 'dropout2': 0.15000000000000002, 'dropout3': 0.35, 'dropout4': 0.35, 'learning_rate': 0.015679708589589194, 'weight_decay': 0.027473934666100888}. Best is trial 48 with value: 0.6321243523316062.\n",
      "/tmp/ipykernel_184762/2455988453.py:10: FutureWarning: suggest_loguniform has been deprecated in v3.0.0. This feature will be removed in v6.0.0. See https://github.com/optuna/optuna/releases/tag/v3.0.0. Use suggest_float(..., log=True) instead.\n",
      "  learning_rate = trial.suggest_loguniform(\"learning_rate\", 1e-5, 1e-1)\n",
      "/tmp/ipykernel_184762/2455988453.py:11: FutureWarning: suggest_loguniform has been deprecated in v3.0.0. This feature will be removed in v6.0.0. See https://github.com/optuna/optuna/releases/tag/v3.0.0. Use suggest_float(..., log=True) instead.\n",
      "  weight_decay=trial.suggest_loguniform(\"weight_decay\",1e-5,1)\n"
     ]
    },
    {
     "name": "stdout",
     "output_type": "stream",
     "text": [
      "Accuracy: 64.10%\n",
      "Precision: 0.0000\n",
      "Recall: 0.0000\n",
      "F1 Score: 0.0000\n",
      "Matthews Correlation Coefficient: 0.0000\n",
      "Specificity: 1.0000\n"
     ]
    },
    {
     "name": "stderr",
     "output_type": "stream",
     "text": [
      "[I 2024-11-28 20:10:03,055] Trial 80 finished with value: 0.41509433962264153 and parameters: {'hidden_units1': 390, 'hidden_units2': 144, 'hidden_units3': 120, 'hidden_units4': 56, 'dropout1': 0.30000000000000004, 'dropout2': 0.45000000000000007, 'dropout3': 0.30000000000000004, 'dropout4': 0.30000000000000004, 'learning_rate': 0.007020924845977044, 'weight_decay': 3.915348728897401e-05}. Best is trial 48 with value: 0.6321243523316062.\n"
     ]
    },
    {
     "name": "stdout",
     "output_type": "stream",
     "text": [
      "Accuracy: 64.67%\n",
      "Precision: 0.5116\n",
      "Recall: 0.3492\n",
      "F1 Score: 0.4151\n",
      "Matthews Correlation Coefficient: 0.1813\n",
      "Specificity: 0.8133\n"
     ]
    },
    {
     "name": "stderr",
     "output_type": "stream",
     "text": [
      "/tmp/ipykernel_184762/2455988453.py:10: FutureWarning: suggest_loguniform has been deprecated in v3.0.0. This feature will be removed in v6.0.0. See https://github.com/optuna/optuna/releases/tag/v3.0.0. Use suggest_float(..., log=True) instead.\n",
      "  learning_rate = trial.suggest_loguniform(\"learning_rate\", 1e-5, 1e-1)\n",
      "/tmp/ipykernel_184762/2455988453.py:11: FutureWarning: suggest_loguniform has been deprecated in v3.0.0. This feature will be removed in v6.0.0. See https://github.com/optuna/optuna/releases/tag/v3.0.0. Use suggest_float(..., log=True) instead.\n",
      "  weight_decay=trial.suggest_loguniform(\"weight_decay\",1e-5,1)\n",
      "/home/gonken/anaconda3/envs/torch/lib/python3.12/site-packages/sklearn/metrics/_classification.py:1531: UndefinedMetricWarning: Precision is ill-defined and being set to 0.0 due to no predicted samples. Use `zero_division` parameter to control this behavior.\n",
      "  _warn_prf(average, modifier, f\"{metric.capitalize()} is\", len(result))\n",
      "[I 2024-11-28 20:10:51,755] Trial 81 finished with value: 0.0 and parameters: {'hidden_units1': 452, 'hidden_units2': 148, 'hidden_units3': 120, 'hidden_units4': 48, 'dropout1': 0.25, 'dropout2': 0.45000000000000007, 'dropout3': 0.30000000000000004, 'dropout4': 0.30000000000000004, 'learning_rate': 0.022405485666192528, 'weight_decay': 5.80274233296646e-05}. Best is trial 48 with value: 0.6321243523316062.\n",
      "/tmp/ipykernel_184762/2455988453.py:10: FutureWarning: suggest_loguniform has been deprecated in v3.0.0. This feature will be removed in v6.0.0. See https://github.com/optuna/optuna/releases/tag/v3.0.0. Use suggest_float(..., log=True) instead.\n",
      "  learning_rate = trial.suggest_loguniform(\"learning_rate\", 1e-5, 1e-1)\n",
      "/tmp/ipykernel_184762/2455988453.py:11: FutureWarning: suggest_loguniform has been deprecated in v3.0.0. This feature will be removed in v6.0.0. See https://github.com/optuna/optuna/releases/tag/v3.0.0. Use suggest_float(..., log=True) instead.\n",
      "  weight_decay=trial.suggest_loguniform(\"weight_decay\",1e-5,1)\n"
     ]
    },
    {
     "name": "stdout",
     "output_type": "stream",
     "text": [
      "Accuracy: 64.10%\n",
      "Precision: 0.0000\n",
      "Recall: 0.0000\n",
      "F1 Score: 0.0000\n",
      "Matthews Correlation Coefficient: 0.0000\n",
      "Specificity: 1.0000\n"
     ]
    },
    {
     "name": "stderr",
     "output_type": "stream",
     "text": [
      "/home/gonken/anaconda3/envs/torch/lib/python3.12/site-packages/sklearn/metrics/_classification.py:1531: UndefinedMetricWarning: Precision is ill-defined and being set to 0.0 due to no predicted samples. Use `zero_division` parameter to control this behavior.\n",
      "  _warn_prf(average, modifier, f\"{metric.capitalize()} is\", len(result))\n",
      "[I 2024-11-28 20:11:41,896] Trial 82 finished with value: 0.0 and parameters: {'hidden_units1': 444, 'hidden_units2': 152, 'hidden_units3': 128, 'hidden_units4': 44, 'dropout1': 0.30000000000000004, 'dropout2': 0.45000000000000007, 'dropout3': 0.25, 'dropout4': 0.25, 'learning_rate': 0.0322545906297185, 'weight_decay': 0.00010859923410044715}. Best is trial 48 with value: 0.6321243523316062.\n",
      "/tmp/ipykernel_184762/2455988453.py:10: FutureWarning: suggest_loguniform has been deprecated in v3.0.0. This feature will be removed in v6.0.0. See https://github.com/optuna/optuna/releases/tag/v3.0.0. Use suggest_float(..., log=True) instead.\n",
      "  learning_rate = trial.suggest_loguniform(\"learning_rate\", 1e-5, 1e-1)\n",
      "/tmp/ipykernel_184762/2455988453.py:11: FutureWarning: suggest_loguniform has been deprecated in v3.0.0. This feature will be removed in v6.0.0. See https://github.com/optuna/optuna/releases/tag/v3.0.0. Use suggest_float(..., log=True) instead.\n",
      "  weight_decay=trial.suggest_loguniform(\"weight_decay\",1e-5,1)\n"
     ]
    },
    {
     "name": "stdout",
     "output_type": "stream",
     "text": [
      "Accuracy: 64.10%\n",
      "Precision: 0.0000\n",
      "Recall: 0.0000\n",
      "F1 Score: 0.0000\n",
      "Matthews Correlation Coefficient: 0.0000\n",
      "Specificity: 1.0000\n"
     ]
    },
    {
     "name": "stderr",
     "output_type": "stream",
     "text": [
      "[I 2024-11-28 20:12:31,636] Trial 83 finished with value: 0.6005665722379604 and parameters: {'hidden_units1': 432, 'hidden_units2': 148, 'hidden_units3': 124, 'hidden_units4': 58, 'dropout1': 0.25, 'dropout2': 0.4, 'dropout3': 0.30000000000000004, 'dropout4': 0.35, 'learning_rate': 0.017248267420335802, 'weight_decay': 6.617986677334734e-05}. Best is trial 48 with value: 0.6321243523316062.\n"
     ]
    },
    {
     "name": "stdout",
     "output_type": "stream",
     "text": [
      "Accuracy: 59.83%\n",
      "Precision: 0.4670\n",
      "Recall: 0.8413\n",
      "F1 Score: 0.6006\n",
      "Matthews Correlation Coefficient: 0.3046\n",
      "Specificity: 0.4622\n"
     ]
    },
    {
     "name": "stderr",
     "output_type": "stream",
     "text": [
      "/tmp/ipykernel_184762/2455988453.py:10: FutureWarning: suggest_loguniform has been deprecated in v3.0.0. This feature will be removed in v6.0.0. See https://github.com/optuna/optuna/releases/tag/v3.0.0. Use suggest_float(..., log=True) instead.\n",
      "  learning_rate = trial.suggest_loguniform(\"learning_rate\", 1e-5, 1e-1)\n",
      "/tmp/ipykernel_184762/2455988453.py:11: FutureWarning: suggest_loguniform has been deprecated in v3.0.0. This feature will be removed in v6.0.0. See https://github.com/optuna/optuna/releases/tag/v3.0.0. Use suggest_float(..., log=True) instead.\n",
      "  weight_decay=trial.suggest_loguniform(\"weight_decay\",1e-5,1)\n",
      "/home/gonken/anaconda3/envs/torch/lib/python3.12/site-packages/sklearn/metrics/_classification.py:1531: UndefinedMetricWarning: Precision is ill-defined and being set to 0.0 due to no predicted samples. Use `zero_division` parameter to control this behavior.\n",
      "  _warn_prf(average, modifier, f\"{metric.capitalize()} is\", len(result))\n",
      "[I 2024-11-28 20:13:21,453] Trial 84 finished with value: 0.0 and parameters: {'hidden_units1': 462, 'hidden_units2': 156, 'hidden_units3': 118, 'hidden_units4': 32, 'dropout1': 0.2, 'dropout2': 0.5, 'dropout3': 0.35, 'dropout4': 0.30000000000000004, 'learning_rate': 0.020898146102827593, 'weight_decay': 2.064811430548546e-05}. Best is trial 48 with value: 0.6321243523316062.\n",
      "/tmp/ipykernel_184762/2455988453.py:10: FutureWarning: suggest_loguniform has been deprecated in v3.0.0. This feature will be removed in v6.0.0. See https://github.com/optuna/optuna/releases/tag/v3.0.0. Use suggest_float(..., log=True) instead.\n",
      "  learning_rate = trial.suggest_loguniform(\"learning_rate\", 1e-5, 1e-1)\n",
      "/tmp/ipykernel_184762/2455988453.py:11: FutureWarning: suggest_loguniform has been deprecated in v3.0.0. This feature will be removed in v6.0.0. See https://github.com/optuna/optuna/releases/tag/v3.0.0. Use suggest_float(..., log=True) instead.\n",
      "  weight_decay=trial.suggest_loguniform(\"weight_decay\",1e-5,1)\n"
     ]
    },
    {
     "name": "stdout",
     "output_type": "stream",
     "text": [
      "Accuracy: 64.10%\n",
      "Precision: 0.0000\n",
      "Recall: 0.0000\n",
      "F1 Score: 0.0000\n",
      "Matthews Correlation Coefficient: 0.0000\n",
      "Specificity: 1.0000\n"
     ]
    },
    {
     "name": "stderr",
     "output_type": "stream",
     "text": [
      "/home/gonken/anaconda3/envs/torch/lib/python3.12/site-packages/sklearn/metrics/_classification.py:1531: UndefinedMetricWarning: Precision is ill-defined and being set to 0.0 due to no predicted samples. Use `zero_division` parameter to control this behavior.\n",
      "  _warn_prf(average, modifier, f\"{metric.capitalize()} is\", len(result))\n",
      "[I 2024-11-28 20:14:11,987] Trial 85 finished with value: 0.0 and parameters: {'hidden_units1': 448, 'hidden_units2': 140, 'hidden_units3': 114, 'hidden_units4': 54, 'dropout1': 0.15000000000000002, 'dropout2': 0.45000000000000007, 'dropout3': 0.4, 'dropout4': 0.15000000000000002, 'learning_rate': 0.04085514954685755, 'weight_decay': 0.00019145495779790227}. Best is trial 48 with value: 0.6321243523316062.\n",
      "/tmp/ipykernel_184762/2455988453.py:10: FutureWarning: suggest_loguniform has been deprecated in v3.0.0. This feature will be removed in v6.0.0. See https://github.com/optuna/optuna/releases/tag/v3.0.0. Use suggest_float(..., log=True) instead.\n",
      "  learning_rate = trial.suggest_loguniform(\"learning_rate\", 1e-5, 1e-1)\n",
      "/tmp/ipykernel_184762/2455988453.py:11: FutureWarning: suggest_loguniform has been deprecated in v3.0.0. This feature will be removed in v6.0.0. See https://github.com/optuna/optuna/releases/tag/v3.0.0. Use suggest_float(..., log=True) instead.\n",
      "  weight_decay=trial.suggest_loguniform(\"weight_decay\",1e-5,1)\n"
     ]
    },
    {
     "name": "stdout",
     "output_type": "stream",
     "text": [
      "Accuracy: 64.10%\n",
      "Precision: 0.0000\n",
      "Recall: 0.0000\n",
      "F1 Score: 0.0000\n",
      "Matthews Correlation Coefficient: 0.0000\n",
      "Specificity: 1.0000\n"
     ]
    },
    {
     "name": "stderr",
     "output_type": "stream",
     "text": [
      "[I 2024-11-28 20:15:01,744] Trial 86 finished with value: 0.6240409207161125 and parameters: {'hidden_units1': 420, 'hidden_units2': 136, 'hidden_units3': 126, 'hidden_units4': 50, 'dropout1': 0.25, 'dropout2': 0.25, 'dropout3': 0.25, 'dropout4': 0.2, 'learning_rate': 0.07264894555818216, 'weight_decay': 1.606269242482627e-05}. Best is trial 48 with value: 0.6321243523316062.\n"
     ]
    },
    {
     "name": "stdout",
     "output_type": "stream",
     "text": [
      "Accuracy: 58.12%\n",
      "Precision: 0.4604\n",
      "Recall: 0.9683\n",
      "F1 Score: 0.6240\n",
      "Matthews Correlation Coefficient: 0.3711\n",
      "Specificity: 0.3644\n"
     ]
    },
    {
     "name": "stderr",
     "output_type": "stream",
     "text": [
      "/tmp/ipykernel_184762/2455988453.py:10: FutureWarning: suggest_loguniform has been deprecated in v3.0.0. This feature will be removed in v6.0.0. See https://github.com/optuna/optuna/releases/tag/v3.0.0. Use suggest_float(..., log=True) instead.\n",
      "  learning_rate = trial.suggest_loguniform(\"learning_rate\", 1e-5, 1e-1)\n",
      "/tmp/ipykernel_184762/2455988453.py:11: FutureWarning: suggest_loguniform has been deprecated in v3.0.0. This feature will be removed in v6.0.0. See https://github.com/optuna/optuna/releases/tag/v3.0.0. Use suggest_float(..., log=True) instead.\n",
      "  weight_decay=trial.suggest_loguniform(\"weight_decay\",1e-5,1)\n",
      "[I 2024-11-28 20:15:49,696] Trial 87 finished with value: 0.39461883408071746 and parameters: {'hidden_units1': 504, 'hidden_units2': 146, 'hidden_units3': 104, 'hidden_units4': 46, 'dropout1': 0.30000000000000004, 'dropout2': 0.4, 'dropout3': 0.4, 'dropout4': 0.35, 'learning_rate': 0.0001773621809305544, 'weight_decay': 0.00034950548890744405}. Best is trial 48 with value: 0.6321243523316062.\n"
     ]
    },
    {
     "name": "stdout",
     "output_type": "stream",
     "text": [
      "Accuracy: 61.54%\n",
      "Precision: 0.4536\n",
      "Recall: 0.3492\n",
      "F1 Score: 0.3946\n",
      "Matthews Correlation Coefficient: 0.1219\n",
      "Specificity: 0.7644\n"
     ]
    },
    {
     "name": "stderr",
     "output_type": "stream",
     "text": [
      "/tmp/ipykernel_184762/2455988453.py:10: FutureWarning: suggest_loguniform has been deprecated in v3.0.0. This feature will be removed in v6.0.0. See https://github.com/optuna/optuna/releases/tag/v3.0.0. Use suggest_float(..., log=True) instead.\n",
      "  learning_rate = trial.suggest_loguniform(\"learning_rate\", 1e-5, 1e-1)\n",
      "/tmp/ipykernel_184762/2455988453.py:11: FutureWarning: suggest_loguniform has been deprecated in v3.0.0. This feature will be removed in v6.0.0. See https://github.com/optuna/optuna/releases/tag/v3.0.0. Use suggest_float(..., log=True) instead.\n",
      "  weight_decay=trial.suggest_loguniform(\"weight_decay\",1e-5,1)\n",
      "/home/gonken/anaconda3/envs/torch/lib/python3.12/site-packages/sklearn/metrics/_classification.py:1531: UndefinedMetricWarning: Precision is ill-defined and being set to 0.0 due to no predicted samples. Use `zero_division` parameter to control this behavior.\n",
      "  _warn_prf(average, modifier, f\"{metric.capitalize()} is\", len(result))\n",
      "[I 2024-11-28 20:16:39,369] Trial 88 finished with value: 0.0 and parameters: {'hidden_units1': 466, 'hidden_units2': 158, 'hidden_units3': 120, 'hidden_units4': 58, 'dropout1': 0.35, 'dropout2': 0.30000000000000004, 'dropout3': 0.5, 'dropout4': 0.25, 'learning_rate': 0.027602774028819162, 'weight_decay': 4.3974242954528955e-05}. Best is trial 48 with value: 0.6321243523316062.\n",
      "/tmp/ipykernel_184762/2455988453.py:10: FutureWarning: suggest_loguniform has been deprecated in v3.0.0. This feature will be removed in v6.0.0. See https://github.com/optuna/optuna/releases/tag/v3.0.0. Use suggest_float(..., log=True) instead.\n",
      "  learning_rate = trial.suggest_loguniform(\"learning_rate\", 1e-5, 1e-1)\n",
      "/tmp/ipykernel_184762/2455988453.py:11: FutureWarning: suggest_loguniform has been deprecated in v3.0.0. This feature will be removed in v6.0.0. See https://github.com/optuna/optuna/releases/tag/v3.0.0. Use suggest_float(..., log=True) instead.\n",
      "  weight_decay=trial.suggest_loguniform(\"weight_decay\",1e-5,1)\n"
     ]
    },
    {
     "name": "stdout",
     "output_type": "stream",
     "text": [
      "Accuracy: 64.10%\n",
      "Precision: 0.0000\n",
      "Recall: 0.0000\n",
      "F1 Score: 0.0000\n",
      "Matthews Correlation Coefficient: 0.0000\n",
      "Specificity: 1.0000\n"
     ]
    },
    {
     "name": "stderr",
     "output_type": "stream",
     "text": [
      "[I 2024-11-28 20:17:28,735] Trial 89 finished with value: 0.6296296296296297 and parameters: {'hidden_units1': 474, 'hidden_units2': 168, 'hidden_units3': 122, 'hidden_units4': 42, 'dropout1': 0.2, 'dropout2': 0.45000000000000007, 'dropout3': 0.45000000000000007, 'dropout4': 0.30000000000000004, 'learning_rate': 0.013303858505854041, 'weight_decay': 2.6519910537491835e-05}. Best is trial 48 with value: 0.6321243523316062.\n"
     ]
    },
    {
     "name": "stdout",
     "output_type": "stream",
     "text": [
      "Accuracy: 60.11%\n",
      "Precision: 0.4722\n",
      "Recall: 0.9444\n",
      "F1 Score: 0.6296\n",
      "Matthews Correlation Coefficient: 0.3767\n",
      "Specificity: 0.4089\n"
     ]
    },
    {
     "name": "stderr",
     "output_type": "stream",
     "text": [
      "/tmp/ipykernel_184762/2455988453.py:10: FutureWarning: suggest_loguniform has been deprecated in v3.0.0. This feature will be removed in v6.0.0. See https://github.com/optuna/optuna/releases/tag/v3.0.0. Use suggest_float(..., log=True) instead.\n",
      "  learning_rate = trial.suggest_loguniform(\"learning_rate\", 1e-5, 1e-1)\n",
      "/tmp/ipykernel_184762/2455988453.py:11: FutureWarning: suggest_loguniform has been deprecated in v3.0.0. This feature will be removed in v6.0.0. See https://github.com/optuna/optuna/releases/tag/v3.0.0. Use suggest_float(..., log=True) instead.\n",
      "  weight_decay=trial.suggest_loguniform(\"weight_decay\",1e-5,1)\n",
      "[I 2024-11-28 20:18:18,529] Trial 90 finished with value: 0.5203252032520326 and parameters: {'hidden_units1': 494, 'hidden_units2': 168, 'hidden_units3': 122, 'hidden_units4': 40, 'dropout1': 0.2, 'dropout2': 0.2, 'dropout3': 0.45000000000000007, 'dropout4': 0.35, 'learning_rate': 0.0013362753846660337, 'weight_decay': 2.4500155552622838e-05}. Best is trial 48 with value: 0.6321243523316062.\n"
     ]
    },
    {
     "name": "stdout",
     "output_type": "stream",
     "text": [
      "Accuracy: 66.38%\n",
      "Precision: 0.5333\n",
      "Recall: 0.5079\n",
      "F1 Score: 0.5203\n",
      "Matthews Correlation Coefficient: 0.2620\n",
      "Specificity: 0.7511\n"
     ]
    },
    {
     "name": "stderr",
     "output_type": "stream",
     "text": [
      "/tmp/ipykernel_184762/2455988453.py:10: FutureWarning: suggest_loguniform has been deprecated in v3.0.0. This feature will be removed in v6.0.0. See https://github.com/optuna/optuna/releases/tag/v3.0.0. Use suggest_float(..., log=True) instead.\n",
      "  learning_rate = trial.suggest_loguniform(\"learning_rate\", 1e-5, 1e-1)\n",
      "/tmp/ipykernel_184762/2455988453.py:11: FutureWarning: suggest_loguniform has been deprecated in v3.0.0. This feature will be removed in v6.0.0. See https://github.com/optuna/optuna/releases/tag/v3.0.0. Use suggest_float(..., log=True) instead.\n",
      "  weight_decay=trial.suggest_loguniform(\"weight_decay\",1e-5,1)\n",
      "/home/gonken/anaconda3/envs/torch/lib/python3.12/site-packages/sklearn/metrics/_classification.py:1531: UndefinedMetricWarning: Precision is ill-defined and being set to 0.0 due to no predicted samples. Use `zero_division` parameter to control this behavior.\n",
      "  _warn_prf(average, modifier, f\"{metric.capitalize()} is\", len(result))\n",
      "[I 2024-11-28 20:19:08,792] Trial 91 finished with value: 0.0 and parameters: {'hidden_units1': 486, 'hidden_units2': 164, 'hidden_units3': 124, 'hidden_units4': 42, 'dropout1': 0.2, 'dropout2': 0.45000000000000007, 'dropout3': 0.5, 'dropout4': 0.30000000000000004, 'learning_rate': 0.01984355176798553, 'weight_decay': 3.614901917240477e-05}. Best is trial 48 with value: 0.6321243523316062.\n",
      "/tmp/ipykernel_184762/2455988453.py:10: FutureWarning: suggest_loguniform has been deprecated in v3.0.0. This feature will be removed in v6.0.0. See https://github.com/optuna/optuna/releases/tag/v3.0.0. Use suggest_float(..., log=True) instead.\n",
      "  learning_rate = trial.suggest_loguniform(\"learning_rate\", 1e-5, 1e-1)\n",
      "/tmp/ipykernel_184762/2455988453.py:11: FutureWarning: suggest_loguniform has been deprecated in v3.0.0. This feature will be removed in v6.0.0. See https://github.com/optuna/optuna/releases/tag/v3.0.0. Use suggest_float(..., log=True) instead.\n",
      "  weight_decay=trial.suggest_loguniform(\"weight_decay\",1e-5,1)\n"
     ]
    },
    {
     "name": "stdout",
     "output_type": "stream",
     "text": [
      "Accuracy: 64.10%\n",
      "Precision: 0.0000\n",
      "Recall: 0.0000\n",
      "F1 Score: 0.0000\n",
      "Matthews Correlation Coefficient: 0.0000\n",
      "Specificity: 1.0000\n"
     ]
    },
    {
     "name": "stderr",
     "output_type": "stream",
     "text": [
      "[I 2024-11-28 20:19:59,121] Trial 92 finished with value: 0.6166219839142091 and parameters: {'hidden_units1': 476, 'hidden_units2': 160, 'hidden_units3': 128, 'hidden_units4': 52, 'dropout1': 0.15000000000000002, 'dropout2': 0.5, 'dropout3': 0.45000000000000007, 'dropout4': 0.30000000000000004, 'learning_rate': 0.013629090338561294, 'weight_decay': 1.3709157912069973e-05}. Best is trial 48 with value: 0.6321243523316062.\n"
     ]
    },
    {
     "name": "stdout",
     "output_type": "stream",
     "text": [
      "Accuracy: 59.26%\n",
      "Precision: 0.4656\n",
      "Recall: 0.9127\n",
      "F1 Score: 0.6166\n",
      "Matthews Correlation Coefficient: 0.3425\n",
      "Specificity: 0.4133\n"
     ]
    },
    {
     "name": "stderr",
     "output_type": "stream",
     "text": [
      "/tmp/ipykernel_184762/2455988453.py:10: FutureWarning: suggest_loguniform has been deprecated in v3.0.0. This feature will be removed in v6.0.0. See https://github.com/optuna/optuna/releases/tag/v3.0.0. Use suggest_float(..., log=True) instead.\n",
      "  learning_rate = trial.suggest_loguniform(\"learning_rate\", 1e-5, 1e-1)\n",
      "/tmp/ipykernel_184762/2455988453.py:11: FutureWarning: suggest_loguniform has been deprecated in v3.0.0. This feature will be removed in v6.0.0. See https://github.com/optuna/optuna/releases/tag/v3.0.0. Use suggest_float(..., log=True) instead.\n",
      "  weight_decay=trial.suggest_loguniform(\"weight_decay\",1e-5,1)\n",
      "[I 2024-11-28 20:20:46,185] Trial 93 finished with value: 0.6145251396648045 and parameters: {'hidden_units1': 396, 'hidden_units2': 174, 'hidden_units3': 82, 'hidden_units4': 48, 'dropout1': 0.2, 'dropout2': 0.45000000000000007, 'dropout3': 0.4, 'dropout4': 0.30000000000000004, 'learning_rate': 0.008490761854034749, 'weight_decay': 5.659554781320287e-05}. Best is trial 48 with value: 0.6321243523316062.\n"
     ]
    },
    {
     "name": "stdout",
     "output_type": "stream",
     "text": [
      "Accuracy: 60.68%\n",
      "Precision: 0.4741\n",
      "Recall: 0.8730\n",
      "F1 Score: 0.6145\n",
      "Matthews Correlation Coefficient: 0.3352\n",
      "Specificity: 0.4578\n"
     ]
    },
    {
     "name": "stderr",
     "output_type": "stream",
     "text": [
      "/tmp/ipykernel_184762/2455988453.py:10: FutureWarning: suggest_loguniform has been deprecated in v3.0.0. This feature will be removed in v6.0.0. See https://github.com/optuna/optuna/releases/tag/v3.0.0. Use suggest_float(..., log=True) instead.\n",
      "  learning_rate = trial.suggest_loguniform(\"learning_rate\", 1e-5, 1e-1)\n",
      "/tmp/ipykernel_184762/2455988453.py:11: FutureWarning: suggest_loguniform has been deprecated in v3.0.0. This feature will be removed in v6.0.0. See https://github.com/optuna/optuna/releases/tag/v3.0.0. Use suggest_float(..., log=True) instead.\n",
      "  weight_decay=trial.suggest_loguniform(\"weight_decay\",1e-5,1)\n",
      "[I 2024-11-28 20:21:35,082] Trial 94 finished with value: 0.6086956521739131 and parameters: {'hidden_units1': 414, 'hidden_units2': 198, 'hidden_units3': 96, 'hidden_units4': 38, 'dropout1': 0.25, 'dropout2': 0.45000000000000007, 'dropout3': 0.45000000000000007, 'dropout4': 0.25, 'learning_rate': 0.006310055471592407, 'weight_decay': 8.649489547093846e-05}. Best is trial 48 with value: 0.6321243523316062.\n"
     ]
    },
    {
     "name": "stdout",
     "output_type": "stream",
     "text": [
      "Accuracy: 58.97%\n",
      "Precision: 0.4628\n",
      "Recall: 0.8889\n",
      "F1 Score: 0.6087\n",
      "Matthews Correlation Coefficient: 0.3225\n",
      "Specificity: 0.4222\n"
     ]
    },
    {
     "name": "stderr",
     "output_type": "stream",
     "text": [
      "/tmp/ipykernel_184762/2455988453.py:10: FutureWarning: suggest_loguniform has been deprecated in v3.0.0. This feature will be removed in v6.0.0. See https://github.com/optuna/optuna/releases/tag/v3.0.0. Use suggest_float(..., log=True) instead.\n",
      "  learning_rate = trial.suggest_loguniform(\"learning_rate\", 1e-5, 1e-1)\n",
      "/tmp/ipykernel_184762/2455988453.py:11: FutureWarning: suggest_loguniform has been deprecated in v3.0.0. This feature will be removed in v6.0.0. See https://github.com/optuna/optuna/releases/tag/v3.0.0. Use suggest_float(..., log=True) instead.\n",
      "  weight_decay=trial.suggest_loguniform(\"weight_decay\",1e-5,1)\n",
      "/home/gonken/anaconda3/envs/torch/lib/python3.12/site-packages/sklearn/metrics/_classification.py:1531: UndefinedMetricWarning: Precision is ill-defined and being set to 0.0 due to no predicted samples. Use `zero_division` parameter to control this behavior.\n",
      "  _warn_prf(average, modifier, f\"{metric.capitalize()} is\", len(result))\n",
      "[I 2024-11-28 20:22:24,373] Trial 95 finished with value: 0.0 and parameters: {'hidden_units1': 326, 'hidden_units2': 170, 'hidden_units3': 112, 'hidden_units4': 48, 'dropout1': 0.30000000000000004, 'dropout2': 0.4, 'dropout3': 0.45000000000000007, 'dropout4': 0.35, 'learning_rate': 0.03963471106587543, 'weight_decay': 2.5472900954167326e-05}. Best is trial 48 with value: 0.6321243523316062.\n",
      "/tmp/ipykernel_184762/2455988453.py:10: FutureWarning: suggest_loguniform has been deprecated in v3.0.0. This feature will be removed in v6.0.0. See https://github.com/optuna/optuna/releases/tag/v3.0.0. Use suggest_float(..., log=True) instead.\n",
      "  learning_rate = trial.suggest_loguniform(\"learning_rate\", 1e-5, 1e-1)\n",
      "/tmp/ipykernel_184762/2455988453.py:11: FutureWarning: suggest_loguniform has been deprecated in v3.0.0. This feature will be removed in v6.0.0. See https://github.com/optuna/optuna/releases/tag/v3.0.0. Use suggest_float(..., log=True) instead.\n",
      "  weight_decay=trial.suggest_loguniform(\"weight_decay\",1e-5,1)\n"
     ]
    },
    {
     "name": "stdout",
     "output_type": "stream",
     "text": [
      "Accuracy: 64.10%\n",
      "Precision: 0.0000\n",
      "Recall: 0.0000\n",
      "F1 Score: 0.0000\n",
      "Matthews Correlation Coefficient: 0.0000\n",
      "Specificity: 1.0000\n"
     ]
    },
    {
     "name": "stderr",
     "output_type": "stream",
     "text": [
      "/home/gonken/anaconda3/envs/torch/lib/python3.12/site-packages/sklearn/metrics/_classification.py:1531: UndefinedMetricWarning: Precision is ill-defined and being set to 0.0 due to no predicted samples. Use `zero_division` parameter to control this behavior.\n",
      "  _warn_prf(average, modifier, f\"{metric.capitalize()} is\", len(result))\n",
      "[I 2024-11-28 20:23:13,474] Trial 96 finished with value: 0.0 and parameters: {'hidden_units1': 440, 'hidden_units2': 152, 'hidden_units3': 122, 'hidden_units4': 50, 'dropout1': 0.1, 'dropout2': 0.45000000000000007, 'dropout3': 0.35, 'dropout4': 0.30000000000000004, 'learning_rate': 0.05546132201804654, 'weight_decay': 1.8168454955819504e-05}. Best is trial 48 with value: 0.6321243523316062.\n",
      "/tmp/ipykernel_184762/2455988453.py:10: FutureWarning: suggest_loguniform has been deprecated in v3.0.0. This feature will be removed in v6.0.0. See https://github.com/optuna/optuna/releases/tag/v3.0.0. Use suggest_float(..., log=True) instead.\n",
      "  learning_rate = trial.suggest_loguniform(\"learning_rate\", 1e-5, 1e-1)\n",
      "/tmp/ipykernel_184762/2455988453.py:11: FutureWarning: suggest_loguniform has been deprecated in v3.0.0. This feature will be removed in v6.0.0. See https://github.com/optuna/optuna/releases/tag/v3.0.0. Use suggest_float(..., log=True) instead.\n",
      "  weight_decay=trial.suggest_loguniform(\"weight_decay\",1e-5,1)\n"
     ]
    },
    {
     "name": "stdout",
     "output_type": "stream",
     "text": [
      "Accuracy: 64.10%\n",
      "Precision: 0.0000\n",
      "Recall: 0.0000\n",
      "F1 Score: 0.0000\n",
      "Matthews Correlation Coefficient: 0.0000\n",
      "Specificity: 1.0000\n"
     ]
    },
    {
     "name": "stderr",
     "output_type": "stream",
     "text": [
      "[I 2024-11-28 20:24:04,557] Trial 97 finished with value: 0.5833333333333334 and parameters: {'hidden_units1': 460, 'hidden_units2': 154, 'hidden_units3': 126, 'hidden_units4': 44, 'dropout1': 0.25, 'dropout2': 0.5, 'dropout3': 0.4, 'dropout4': 0.4, 'learning_rate': 8.511838648666688e-05, 'weight_decay': 1.2681457735314007e-05}. Best is trial 48 with value: 0.6321243523316062.\n"
     ]
    },
    {
     "name": "stdout",
     "output_type": "stream",
     "text": [
      "Accuracy: 62.96%\n",
      "Precision: 0.4892\n",
      "Recall: 0.7222\n",
      "F1 Score: 0.5833\n",
      "Matthews Correlation Coefficient: 0.2883\n",
      "Specificity: 0.5778\n"
     ]
    },
    {
     "name": "stderr",
     "output_type": "stream",
     "text": [
      "/tmp/ipykernel_184762/2455988453.py:10: FutureWarning: suggest_loguniform has been deprecated in v3.0.0. This feature will be removed in v6.0.0. See https://github.com/optuna/optuna/releases/tag/v3.0.0. Use suggest_float(..., log=True) instead.\n",
      "  learning_rate = trial.suggest_loguniform(\"learning_rate\", 1e-5, 1e-1)\n",
      "/tmp/ipykernel_184762/2455988453.py:11: FutureWarning: suggest_loguniform has been deprecated in v3.0.0. This feature will be removed in v6.0.0. See https://github.com/optuna/optuna/releases/tag/v3.0.0. Use suggest_float(..., log=True) instead.\n",
      "  weight_decay=trial.suggest_loguniform(\"weight_decay\",1e-5,1)\n",
      "[I 2024-11-28 20:24:53,989] Trial 98 finished with value: 0.6246851385390428 and parameters: {'hidden_units1': 434, 'hidden_units2': 164, 'hidden_units3': 68, 'hidden_units4': 46, 'dropout1': 0.25, 'dropout2': 0.2, 'dropout3': 0.5, 'dropout4': 0.30000000000000004, 'learning_rate': 0.03251949428534619, 'weight_decay': 3.2642846980959445e-05}. Best is trial 48 with value: 0.6321243523316062.\n"
     ]
    },
    {
     "name": "stdout",
     "output_type": "stream",
     "text": [
      "Accuracy: 57.55%\n",
      "Precision: 0.4576\n",
      "Recall: 0.9841\n",
      "F1 Score: 0.6247\n",
      "Matthews Correlation Coefficient: 0.3783\n",
      "Specificity: 0.3467\n"
     ]
    },
    {
     "name": "stderr",
     "output_type": "stream",
     "text": [
      "/tmp/ipykernel_184762/2455988453.py:10: FutureWarning: suggest_loguniform has been deprecated in v3.0.0. This feature will be removed in v6.0.0. See https://github.com/optuna/optuna/releases/tag/v3.0.0. Use suggest_float(..., log=True) instead.\n",
      "  learning_rate = trial.suggest_loguniform(\"learning_rate\", 1e-5, 1e-1)\n",
      "/tmp/ipykernel_184762/2455988453.py:11: FutureWarning: suggest_loguniform has been deprecated in v3.0.0. This feature will be removed in v6.0.0. See https://github.com/optuna/optuna/releases/tag/v3.0.0. Use suggest_float(..., log=True) instead.\n",
      "  weight_decay=trial.suggest_loguniform(\"weight_decay\",1e-5,1)\n",
      "[I 2024-11-28 20:25:43,252] Trial 99 finished with value: 0.6278481012658228 and parameters: {'hidden_units1': 432, 'hidden_units2': 164, 'hidden_units3': 70, 'hidden_units4': 52, 'dropout1': 0.15000000000000002, 'dropout2': 0.2, 'dropout3': 0.5, 'dropout4': 0.35, 'learning_rate': 0.032035148396063945, 'weight_decay': 2.9891482070921768e-05}. Best is trial 48 with value: 0.6321243523316062.\n"
     ]
    },
    {
     "name": "stdout",
     "output_type": "stream",
     "text": [
      "Accuracy: 58.12%\n",
      "Precision: 0.4610\n",
      "Recall: 0.9841\n",
      "F1 Score: 0.6278\n",
      "Matthews Correlation Coefficient: 0.3851\n",
      "Specificity: 0.3556\n",
      "Best Parameters:  {'hidden_units1': 424, 'hidden_units2': 148, 'hidden_units3': 124, 'hidden_units4': 48, 'dropout1': 0.30000000000000004, 'dropout2': 0.2, 'dropout3': 0.4, 'dropout4': 0.35, 'learning_rate': 0.045530895800593524, 'weight_decay': 4.528583514257128e-05}\n",
      "Best Validation F1:  0.6321243523316062\n"
     ]
    }
   ],
   "source": [
    "device = torch.device(\"cuda\" if torch.cuda.is_available() else \"cpu\")\n",
    "\n",
    "study = optuna.create_study(direction=\"maximize\")  \n",
    "study.optimize(objective, n_trials=100)\n",
    "\n",
    "\n",
    "print(\"Best Parameters: \", study.best_params)\n",
    "print(\"Best Validation F1: \", study.best_value)\n"
   ]
  },
  {
   "cell_type": "code",
   "execution_count": 9,
   "metadata": {},
   "outputs": [
    {
     "name": "stdout",
     "output_type": "stream",
     "text": [
      "Epoch [1/100], Loss: 0.6012\n",
      "Epoch [1/100], Train Loss: 0.6012, Val Loss: 0.5730\n",
      "Epoch [2/100], Loss: 0.5743\n",
      "Epoch [2/100], Train Loss: 0.5743, Val Loss: 0.5585\n",
      "Epoch [3/100], Loss: 0.5780\n",
      "Epoch [3/100], Train Loss: 0.5780, Val Loss: 0.5824\n",
      "Epoch [4/100], Loss: 0.5893\n",
      "Epoch [4/100], Train Loss: 0.5893, Val Loss: 0.5557\n",
      "Epoch [5/100], Loss: 0.5804\n",
      "Epoch [5/100], Train Loss: 0.5804, Val Loss: 0.5634\n",
      "Epoch [6/100], Loss: 0.5767\n",
      "Epoch [6/100], Train Loss: 0.5767, Val Loss: 0.5565\n",
      "Epoch [7/100], Loss: 0.5915\n",
      "Epoch [7/100], Train Loss: 0.5915, Val Loss: 0.5858\n",
      "Epoch [8/100], Loss: 0.5853\n",
      "Epoch [8/100], Train Loss: 0.5853, Val Loss: 0.5552\n",
      "Epoch [9/100], Loss: 0.5862\n",
      "Epoch [9/100], Train Loss: 0.5862, Val Loss: 0.5522\n",
      "Epoch [10/100], Loss: 0.5836\n",
      "Epoch [10/100], Train Loss: 0.5836, Val Loss: 0.5616\n",
      "Epoch [11/100], Loss: 0.5846\n",
      "Epoch [11/100], Train Loss: 0.5846, Val Loss: 0.5549\n",
      "Epoch [12/100], Loss: 0.5956\n",
      "Epoch [12/100], Train Loss: 0.5956, Val Loss: 0.5776\n",
      "Epoch [13/100], Loss: 0.5786\n",
      "Epoch [13/100], Train Loss: 0.5786, Val Loss: 0.5581\n",
      "Epoch [14/100], Loss: 0.5844\n",
      "Epoch [14/100], Train Loss: 0.5844, Val Loss: 0.5483\n",
      "Epoch [15/100], Loss: 0.5850\n",
      "Epoch [15/100], Train Loss: 0.5850, Val Loss: 0.5501\n",
      "Epoch [16/100], Loss: 0.5840\n",
      "Epoch [16/100], Train Loss: 0.5840, Val Loss: 0.5584\n",
      "Epoch [17/100], Loss: 0.5838\n",
      "Epoch [17/100], Train Loss: 0.5838, Val Loss: 0.5567\n",
      "Epoch [18/100], Loss: 0.5862\n",
      "Epoch [18/100], Train Loss: 0.5862, Val Loss: 0.5522\n",
      "Epoch [19/100], Loss: 0.5849\n",
      "Epoch [19/100], Train Loss: 0.5849, Val Loss: 0.5665\n",
      "Epoch [20/100], Loss: 0.5834\n",
      "Epoch [20/100], Train Loss: 0.5834, Val Loss: 0.5508\n",
      "Epoch [21/100], Loss: 0.5930\n",
      "Epoch [21/100], Train Loss: 0.5930, Val Loss: 0.5577\n",
      "Epoch [22/100], Loss: 0.5897\n",
      "Epoch [22/100], Train Loss: 0.5897, Val Loss: 0.5525\n",
      "Epoch [23/100], Loss: 0.5892\n",
      "Epoch [23/100], Train Loss: 0.5892, Val Loss: 0.5567\n",
      "Epoch [24/100], Loss: 0.5764\n",
      "Epoch [24/100], Train Loss: 0.5764, Val Loss: 0.5533\n",
      "Epoch [25/100], Loss: 0.5930\n",
      "Epoch [25/100], Train Loss: 0.5930, Val Loss: 0.5577\n",
      "Epoch [26/100], Loss: 0.5823\n",
      "Epoch [26/100], Train Loss: 0.5823, Val Loss: 0.5582\n",
      "Epoch [27/100], Loss: 0.5806\n",
      "Epoch [27/100], Train Loss: 0.5806, Val Loss: 0.5513\n",
      "Epoch [28/100], Loss: 0.5858\n",
      "Epoch [28/100], Train Loss: 0.5858, Val Loss: 0.5628\n",
      "Epoch [29/100], Loss: 0.5891\n",
      "Epoch [29/100], Train Loss: 0.5891, Val Loss: 0.5494\n",
      "Epoch [30/100], Loss: 0.5761\n",
      "Epoch [30/100], Train Loss: 0.5761, Val Loss: 0.5524\n",
      "Epoch [31/100], Loss: 0.5767\n",
      "Epoch [31/100], Train Loss: 0.5767, Val Loss: 0.5563\n",
      "Epoch [32/100], Loss: 0.5909\n",
      "Epoch [32/100], Train Loss: 0.5909, Val Loss: 0.5455\n",
      "Epoch [33/100], Loss: 0.5845\n",
      "Epoch [33/100], Train Loss: 0.5845, Val Loss: 0.5582\n",
      "Epoch [34/100], Loss: 0.5817\n",
      "Epoch [34/100], Train Loss: 0.5817, Val Loss: 0.5499\n",
      "Epoch [35/100], Loss: 0.5866\n",
      "Epoch [35/100], Train Loss: 0.5866, Val Loss: 0.5495\n",
      "Epoch [36/100], Loss: 0.5835\n",
      "Epoch [36/100], Train Loss: 0.5835, Val Loss: 0.5513\n",
      "Epoch [37/100], Loss: 0.5823\n",
      "Epoch [37/100], Train Loss: 0.5823, Val Loss: 0.5602\n",
      "Epoch [38/100], Loss: 0.5865\n",
      "Epoch [38/100], Train Loss: 0.5865, Val Loss: 0.5781\n",
      "Epoch [39/100], Loss: 0.5833\n",
      "Epoch [39/100], Train Loss: 0.5833, Val Loss: 0.5574\n",
      "Epoch [40/100], Loss: 0.5853\n",
      "Epoch [40/100], Train Loss: 0.5853, Val Loss: 0.5545\n",
      "Epoch [41/100], Loss: 0.5768\n",
      "Epoch [41/100], Train Loss: 0.5768, Val Loss: 0.5532\n",
      "Epoch [42/100], Loss: 0.5800\n",
      "Epoch [42/100], Train Loss: 0.5800, Val Loss: 0.5541\n",
      "Epoch [43/100], Loss: 0.5848\n",
      "Epoch [43/100], Train Loss: 0.5848, Val Loss: 0.5584\n",
      "Epoch [44/100], Loss: 0.5749\n",
      "Epoch [44/100], Train Loss: 0.5749, Val Loss: 0.5532\n",
      "Epoch [45/100], Loss: 0.5830\n",
      "Epoch [45/100], Train Loss: 0.5830, Val Loss: 0.5494\n",
      "Epoch [46/100], Loss: 0.5851\n",
      "Epoch [46/100], Train Loss: 0.5851, Val Loss: 0.5484\n",
      "Epoch [47/100], Loss: 0.5813\n",
      "Epoch [47/100], Train Loss: 0.5813, Val Loss: 0.5502\n",
      "Epoch [48/100], Loss: 0.5810\n",
      "Epoch [48/100], Train Loss: 0.5810, Val Loss: 0.5621\n",
      "Epoch [49/100], Loss: 0.5819\n",
      "Epoch [49/100], Train Loss: 0.5819, Val Loss: 0.5563\n",
      "Epoch [50/100], Loss: 0.5800\n",
      "Epoch [50/100], Train Loss: 0.5800, Val Loss: 0.5594\n",
      "Epoch [51/100], Loss: 0.5786\n",
      "Epoch [51/100], Train Loss: 0.5786, Val Loss: 0.5506\n",
      "Epoch [52/100], Loss: 0.5816\n",
      "Epoch [52/100], Train Loss: 0.5816, Val Loss: 0.5504\n",
      "Epoch [53/100], Loss: 0.5872\n",
      "Epoch [53/100], Train Loss: 0.5872, Val Loss: 0.5606\n",
      "Epoch [54/100], Loss: 0.5865\n",
      "Epoch [54/100], Train Loss: 0.5865, Val Loss: 0.5527\n",
      "Epoch [55/100], Loss: 0.5836\n",
      "Epoch [55/100], Train Loss: 0.5836, Val Loss: 0.5518\n",
      "Epoch [56/100], Loss: 0.5906\n",
      "Epoch [56/100], Train Loss: 0.5906, Val Loss: 0.5627\n",
      "Epoch [57/100], Loss: 0.5891\n",
      "Epoch [57/100], Train Loss: 0.5891, Val Loss: 0.5612\n",
      "Epoch [58/100], Loss: 0.5801\n",
      "Epoch [58/100], Train Loss: 0.5801, Val Loss: 0.5553\n",
      "Epoch [59/100], Loss: 0.5899\n",
      "Epoch [59/100], Train Loss: 0.5899, Val Loss: 0.5520\n",
      "Epoch [60/100], Loss: 0.5938\n",
      "Epoch [60/100], Train Loss: 0.5938, Val Loss: 0.5546\n",
      "Epoch [61/100], Loss: 0.5855\n",
      "Epoch [61/100], Train Loss: 0.5855, Val Loss: 0.5509\n",
      "Epoch [62/100], Loss: 0.5839\n",
      "Epoch [62/100], Train Loss: 0.5839, Val Loss: 0.5677\n",
      "Epoch [63/100], Loss: 0.5852\n",
      "Epoch [63/100], Train Loss: 0.5852, Val Loss: 0.5609\n",
      "Epoch [64/100], Loss: 0.5822\n",
      "Epoch [64/100], Train Loss: 0.5822, Val Loss: 0.5587\n",
      "Epoch [65/100], Loss: 0.5905\n",
      "Epoch [65/100], Train Loss: 0.5905, Val Loss: 0.5466\n",
      "Epoch [66/100], Loss: 0.5810\n",
      "Epoch [66/100], Train Loss: 0.5810, Val Loss: 0.5505\n",
      "Epoch [67/100], Loss: 0.5919\n",
      "Epoch [67/100], Train Loss: 0.5919, Val Loss: 0.5615\n",
      "Epoch [68/100], Loss: 0.5769\n",
      "Epoch [68/100], Train Loss: 0.5769, Val Loss: 0.5511\n",
      "Epoch [69/100], Loss: 0.5863\n",
      "Epoch [69/100], Train Loss: 0.5863, Val Loss: 0.5477\n",
      "Epoch [70/100], Loss: 0.5836\n",
      "Epoch [70/100], Train Loss: 0.5836, Val Loss: 0.5739\n",
      "Epoch [71/100], Loss: 0.5801\n",
      "Epoch [71/100], Train Loss: 0.5801, Val Loss: 0.5593\n",
      "Epoch [72/100], Loss: 0.5876\n",
      "Epoch [72/100], Train Loss: 0.5876, Val Loss: 0.5515\n",
      "Epoch [73/100], Loss: 0.5844\n",
      "Epoch [73/100], Train Loss: 0.5844, Val Loss: 0.5569\n",
      "Epoch [74/100], Loss: 0.5855\n",
      "Epoch [74/100], Train Loss: 0.5855, Val Loss: 0.5799\n",
      "Epoch [75/100], Loss: 0.5986\n",
      "Epoch [75/100], Train Loss: 0.5986, Val Loss: 0.5508\n",
      "Epoch [76/100], Loss: 0.5917\n",
      "Epoch [76/100], Train Loss: 0.5917, Val Loss: 0.5653\n",
      "Epoch [77/100], Loss: 0.5857\n",
      "Epoch [77/100], Train Loss: 0.5857, Val Loss: 0.5587\n",
      "Epoch [78/100], Loss: 0.5902\n",
      "Epoch [78/100], Train Loss: 0.5902, Val Loss: 0.5737\n",
      "Epoch [79/100], Loss: 0.5880\n",
      "Epoch [79/100], Train Loss: 0.5880, Val Loss: 0.5540\n",
      "Epoch [80/100], Loss: 0.5860\n",
      "Epoch [80/100], Train Loss: 0.5860, Val Loss: 0.5554\n",
      "Epoch [81/100], Loss: 0.5812\n",
      "Epoch [81/100], Train Loss: 0.5812, Val Loss: 0.5473\n",
      "Epoch [82/100], Loss: 0.5788\n",
      "Epoch [82/100], Train Loss: 0.5788, Val Loss: 0.5605\n",
      "Epoch [83/100], Loss: 0.5850\n",
      "Epoch [83/100], Train Loss: 0.5850, Val Loss: 0.5549\n",
      "Epoch [84/100], Loss: 0.5901\n",
      "Epoch [84/100], Train Loss: 0.5901, Val Loss: 0.5576\n",
      "Epoch [85/100], Loss: 0.5889\n",
      "Epoch [85/100], Train Loss: 0.5889, Val Loss: 0.5523\n",
      "Epoch [86/100], Loss: 0.5812\n",
      "Epoch [86/100], Train Loss: 0.5812, Val Loss: 0.5478\n",
      "Epoch [87/100], Loss: 0.5867\n",
      "Epoch [87/100], Train Loss: 0.5867, Val Loss: 0.5505\n",
      "Epoch [88/100], Loss: 0.5928\n",
      "Epoch [88/100], Train Loss: 0.5928, Val Loss: 0.5564\n",
      "Epoch [89/100], Loss: 0.5752\n",
      "Epoch [89/100], Train Loss: 0.5752, Val Loss: 0.5608\n",
      "Epoch [90/100], Loss: 0.5843\n",
      "Epoch [90/100], Train Loss: 0.5843, Val Loss: 0.5566\n",
      "Epoch [91/100], Loss: 0.5827\n",
      "Epoch [91/100], Train Loss: 0.5827, Val Loss: 0.5657\n",
      "Epoch [92/100], Loss: 0.5823\n",
      "Epoch [92/100], Train Loss: 0.5823, Val Loss: 0.5603\n",
      "Epoch [93/100], Loss: 0.5851\n",
      "Epoch [93/100], Train Loss: 0.5851, Val Loss: 0.5498\n",
      "Epoch [94/100], Loss: 0.5858\n",
      "Epoch [94/100], Train Loss: 0.5858, Val Loss: 0.5681\n",
      "Epoch [95/100], Loss: 0.5807\n",
      "Epoch [95/100], Train Loss: 0.5807, Val Loss: 0.5463\n",
      "Epoch [96/100], Loss: 0.5830\n",
      "Epoch [96/100], Train Loss: 0.5830, Val Loss: 0.5458\n",
      "Epoch [97/100], Loss: 0.5803\n",
      "Epoch [97/100], Train Loss: 0.5803, Val Loss: 0.5469\n",
      "Epoch [98/100], Loss: 0.5928\n",
      "Epoch [98/100], Train Loss: 0.5928, Val Loss: 0.5623\n",
      "Epoch [99/100], Loss: 0.5912\n",
      "Epoch [99/100], Train Loss: 0.5912, Val Loss: 0.5570\n",
      "Epoch [100/100], Loss: 0.5909\n",
      "Epoch [100/100], Train Loss: 0.5909, Val Loss: 0.5551\n"
     ]
    },
    {
     "data": {
      "image/png": "[encoded data removed]",
      "text/plain": [
       "<Figure size 1000x600 with 1 Axes>"
      ]
     },
     "metadata": {},
     "output_type": "display_data"
    }
   ],
   "source": [
    "best_params=study.best_params\n",
    "model = DNN_3(input_dim=X_train_tensor.shape[1],\n",
    "              hidden_units1=best_params[\"hidden_units1\"],\n",
    "              hidden_units2=best_params[\"hidden_units2\"],\n",
    "              hidden_units3=best_params[\"hidden_units3\"],\n",
    "              hidden_units4=best_params[\"hidden_units4\"],\n",
    "              dropout1=best_params[\"dropout1\"],\n",
    "              dropout2=best_params[\"dropout2\"],\n",
    "              dropout3=best_params[\"dropout3\"],\n",
    "              dropout4=best_params[\"dropout4\"]).to(device)\n",
    "# 最適化と訓練を実行\n",
    "optimizer = optim.Adam(model.parameters(), lr=best_params[\"learning_rate\"],weight_decay=best_params[\"weight_decay\"])\n",
    "criterion = nn.BCELoss()\n",
    "\n",
    "num_epochs=100\n",
    "train_losses = []\n",
    "val_losses = []\n",
    "\n",
    "model.train()\n",
    "for epoch in range(num_epochs):\n",
    "    epoch_train_loss = 0\n",
    "    epoch_val_loss = 0\n",
    "\n",
    "    for X_batch, y_batch in train_loader:\n",
    "        X_batch, y_batch = X_batch.to(device), y_batch.to(device)\n",
    "        optimizer.zero_grad()\n",
    "        outputs = model(X_batch).squeeze()\n",
    "        loss = criterion(outputs, y_batch)\n",
    "        loss.backward()\n",
    "        optimizer.step()\n",
    "        epoch_train_loss += loss.item()\n",
    "    avg_train_loss = epoch_train_loss / len(train_loader)\n",
    "    train_losses.append(avg_train_loss)\n",
    "    print(f'Epoch [{epoch+1}/{num_epochs}], Loss: {avg_train_loss:.4f}')\n",
    "\n",
    "    if val_loader is not None:\n",
    "        model.eval()  \n",
    "        with torch.no_grad():\n",
    "            for X_val, y_val in val_loader:\n",
    "                X_val, y_val = X_val.to(device), y_val.to(device)\n",
    "                val_outputs = model(X_val).squeeze()\n",
    "                val_loss = criterion(val_outputs, y_val)\n",
    "                epoch_val_loss += val_loss.item()\n",
    "\n",
    "        avg_val_loss = epoch_val_loss / len(val_loader)\n",
    "        val_losses.append(avg_val_loss)\n",
    "        model.train()  \n",
    "\n",
    "    if val_loader is not None:\n",
    "        print(f\"Epoch [{epoch+1}/{num_epochs}], Train Loss: {avg_train_loss:.4f}, Val Loss: {avg_val_loss:.4f}\")\n",
    "    else:\n",
    "        print(f\"Epoch [{epoch+1}/{num_epochs}], Train Loss: {avg_train_loss:.4f}\")\n",
    "\n",
    "plt.figure(figsize=(10, 6))\n",
    "plt.plot(range(1, num_epochs + 1), train_losses, label='Train Loss')\n",
    "if val_losses:\n",
    "    plt.plot(range(1, num_epochs + 1), val_losses, label='Validation Loss')\n",
    "plt.xlabel('Epoch')\n",
    "plt.ylabel('Loss')\n",
    "plt.title('Learning Curve for DNN1')\n",
    "plt.legend()\n",
    "plt.grid()\n",
    "plt.show()"
   ]
  },
  {
   "cell_type": "code",
   "execution_count": 10,
   "metadata": {},
   "outputs": [
    {
     "name": "stdout",
     "output_type": "stream",
     "text": [
      "Accuracy: 61.39%\n",
      "Precision: 0.0000\n",
      "Recall: 0.0000\n",
      "F1 Score: 0.0000\n",
      "Matthews Correlation Coefficient: 0.0000\n",
      "Specificity: 1.0000\n"
     ]
    },
    {
     "name": "stderr",
     "output_type": "stream",
     "text": [
      "/home/gonken/anaconda3/envs/torch/lib/python3.12/site-packages/sklearn/metrics/_classification.py:1531: UndefinedMetricWarning: Precision is ill-defined and being set to 0.0 due to no predicted samples. Use `zero_division` parameter to control this behavior.\n",
      "  _warn_prf(average, modifier, f\"{metric.capitalize()} is\", len(result))\n"
     ]
    },
    {
     "data": {
      "image/png": "[encoded data removed]",
      "text/plain": [
       "<Figure size 640x480 with 1 Axes>"
      ]
     },
     "metadata": {},
     "output_type": "display_data"
    },
    {
     "data": {
      "image/png": "[encoded data removed]",
      "text/plain": [
       "<Figure size 640x480 with 1 Axes>"
      ]
     },
     "metadata": {},
     "output_type": "display_data"
    },
    {
     "data": {
      "image/png": "[encoded data removed]",
      "text/plain": [
       "<Figure size 640x480 with 1 Axes>"
      ]
     },
     "metadata": {},
     "output_type": "display_data"
    }
   ],
   "source": [
    "model.eval()\n",
    "with torch.no_grad():\n",
    "    X_test_tensor = X_test_tensor.to(device)\n",
    "    y_test_tensor = y_test_tensor.to(device)\n",
    "\n",
    "    # 予測と確率\n",
    "    test_outputs = model(X_test_tensor).squeeze()\n",
    "    predictions = (test_outputs >= 0.5).float()\n",
    "    y_true = y_test_tensor.cpu().numpy()\n",
    "    y_pred = predictions.cpu().numpy()\n",
    "    y_prob = test_outputs.cpu().numpy()\n",
    "\n",
    "# 評価指標\n",
    "    accuracy = accuracy_score(y_true, y_pred)\n",
    "    precision = precision_score(y_true, y_pred)\n",
    "    recall = recall_score(y_true, y_pred)\n",
    "    f1 = f1_score(y_true, y_pred)\n",
    "    mcc = matthews_corrcoef(y_true, y_pred)\n",
    "    specificity = recall_score(y_true, y_pred, pos_label=0)  \n",
    "    print(f'Accuracy: {accuracy * 100:.2f}%')\n",
    "    print(f'Precision: {precision:.4f}')\n",
    "    print(f'Recall: {recall:.4f}')\n",
    "    print(f'F1 Score: {f1:.4f}')\n",
    "    print(f'Matthews Correlation Coefficient: {mcc:.4f}')\n",
    "    print(f'Specificity: {specificity:.4f}')\n",
    "\n",
    "    # 混同行列（割合表示）\n",
    "    cm = confusion_matrix(y_true, y_pred, normalize='true')\n",
    "    sns.heatmap(cm, annot=True, fmt=\".2%\", cmap=\"Blues\", cbar=False)\n",
    "    plt.xlabel(\"Predicted\")\n",
    "    plt.ylabel(\"Actual\")\n",
    "    plt.title(f\"Confusion Matrix (Normalized)\")\n",
    "    plt.show()\n",
    "\n",
    "    # ROC曲線とAUC\n",
    "    fpr, tpr, thresholds = roc_curve(y_true, y_prob)\n",
    "    roc_auc = auc(fpr, tpr)\n",
    "    plt.plot(fpr, tpr, label=f'ROC curve (AUC = {roc_auc:.2f})')\n",
    "    plt.plot([0, 1], [0, 1], 'k--') \n",
    "    plt.xlabel('False Positive Rate')\n",
    "    plt.ylabel('True Positive Rate')\n",
    "    plt.title(f'ROC Curve - Model ')\n",
    "    plt.legend(loc=\"lower right\")\n",
    "    plt.show()\n",
    "\n",
    "    # Precision-Recall曲線\n",
    "    precision_curve, recall_curve, pr_thresholds = precision_recall_curve(y_true, y_prob)\n",
    "    pr_auc = auc(recall_curve, precision_curve)\n",
    "    plt.plot(recall_curve, precision_curve, label=f'PR curve (AUC = {pr_auc:.2f})')\n",
    "    plt.xlabel('Recall')\n",
    "    plt.ylabel('Precision')\n",
    "    plt.title(f'Precision-Recall Curve ')\n",
    "    plt.legend(loc=\"lower left\")\n",
    "    plt.show()    "
   ]
  },
  {
   "cell_type": "code",
   "execution_count": 11,
   "metadata": {},
   "outputs": [],
   "source": [
    "# モデルと構造を保存\n",
    "torch.save(model, '../../saved_model/DNN_3.pth')\n"
   ]
  }
 ],
 "metadata": {
  "kernelspec": {
   "display_name": "torch",
   "language": "python",
   "name": "python3"
  },
  "language_info": {
   "codemirror_mode": {
    "name": "ipython",
    "version": 3
   },
   "file_extension": ".py",
   "mimetype": "text/x-python",
   "name": "python",
   "nbconvert_exporter": "python",
   "pygments_lexer": "ipython3",
   "version": "3.12.7"
  }
 },
 "nbformat": 4,
 "nbformat_minor": 2
}
