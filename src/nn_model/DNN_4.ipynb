{
 "cells": [
  {
   "cell_type": "code",
   "execution_count": 1,
   "metadata": {},
   "outputs": [],
   "source": [
    "import numpy as np\n",
    "import pandas as pd\n",
    "import matplotlib.pyplot as plt\n",
    "import seaborn as sns\n",
    "\n",
    "import torch\n",
    "import torch.nn as nn\n",
    "import torch.optim as optim\n",
    "\n",
    "import optuna\n",
    "\n",
    "from sklearn.model_selection import train_test_split\n",
    "from sklearn.metrics import confusion_matrix,accuracy_score, precision_score, recall_score, f1_score, confusion_matrix, roc_curve, auc,matthews_corrcoef, precision_recall_curve,roc_auc_score\n",
    "\n"
   ]
  },
  {
   "cell_type": "markdown",
   "metadata": {},
   "source": [
    "データ読み取り"
   ]
  },
  {
   "cell_type": "code",
   "execution_count": 2,
   "metadata": {},
   "outputs": [],
   "source": [
    "df=pd.read_csv('../../data/learning_data.csv',index_col=0)\n",
    "\n",
    "X=df.drop(columns='dengue',axis=1).values\n",
    "y=df['dengue'].values\n",
    "\n",
    "X_train, X_test, y_train, y_test = train_test_split(X, y, test_size=0.2,random_state=42)\n",
    "X_train, X_val, y_train, y_val = train_test_split(X_train, y_train, test_size=0.1,random_state=42)\n",
    "\n",
    "#torchテンソルに変換\n",
    "X_train_tensor = torch.tensor(X_train, dtype=torch.float32)\n",
    "y_train_tensor = torch.tensor(y_train, dtype=torch.float32)\n",
    "X_test_tensor = torch.tensor(X_test, dtype=torch.float32)\n",
    "y_test_tensor = torch.tensor(y_test, dtype=torch.float32)\n",
    "X_val_tensor = torch.tensor(X_val, dtype=torch.float32)\n",
    "y_val_tensor = torch.tensor(y_val, dtype=torch.float32)\n"
   ]
  },
  {
   "cell_type": "code",
   "execution_count": 3,
   "metadata": {},
   "outputs": [],
   "source": [
    "class DNN_4(nn.Module):\n",
    "    def __init__(self, input_dim,hidden_units1,hidden_units2,hidden_units3,hidden_units4,dropout1,dropout2,dropout3,dropout4):\n",
    "        super(DNN_4, self).__init__()\n",
    "        self.layer1 = nn.Linear(input_dim,hidden_units1)\n",
    "        self.layer2 = nn.Linear(hidden_units1,hidden_units2)\n",
    "        self.layer3 = nn.Linear(hidden_units2, hidden_units3)\n",
    "        self.layer4 = nn.Linear(hidden_units3, hidden_units4)\n",
    "        self.output_layer = nn.Linear(hidden_units4, 1)\n",
    "\n",
    "        self.dropout1 = nn.Dropout(dropout1)\n",
    "        self.dropout2 = nn.Dropout(dropout2)\n",
    "        self.dropout3 = nn.Dropout(dropout3)\n",
    "        self.dropout4 = nn.Dropout(dropout4)\n",
    "\n",
    "\n",
    "        self.bn1 = nn.BatchNorm1d(hidden_units1)\n",
    "        self.bn2 = nn.BatchNorm1d(hidden_units2)\n",
    "        self.bn3 = nn.BatchNorm1d(hidden_units3)\n",
    "        self.bn4 = nn.BatchNorm1d(hidden_units4)\n",
    "\n",
    "        \n",
    "        \n",
    "    def forward(self, x):\n",
    "        x = torch.relu(self.bn1(self.layer1(x)))\n",
    "        x = self.dropout1(x)\n",
    "        \n",
    "        x = torch.relu(self.bn2(self.layer2(x)))\n",
    "        x = self.dropout2(x)\n",
    "\n",
    "        x = torch.relu(self.bn3(self.layer3(x)))\n",
    "        x = self.dropout3(x)\n",
    "\n",
    "        x = torch.relu(self.bn4(self.layer4(x)))\n",
    "        x = self.dropout4(x)\n",
    "\n",
    "        x = torch.sigmoid(self.output_layer(x)) \n",
    "        return x\n",
    "    "
   ]
  },
  {
   "cell_type": "markdown",
   "metadata": {},
   "source": [
    "学習データセットの作成"
   ]
  },
  {
   "cell_type": "code",
   "execution_count": 4,
   "metadata": {},
   "outputs": [],
   "source": [
    "train_dataset = torch.utils.data.TensorDataset(X_train_tensor, y_train_tensor)\n",
    "train_loader = torch.utils.data.DataLoader(dataset=train_dataset, batch_size=32, shuffle=True)\n",
    "\n",
    "val_dataset = torch.utils.data.TensorDataset(X_val_tensor, y_val_tensor)\n",
    "val_loader = torch.utils.data.DataLoader(dataset=val_dataset, batch_size=32, shuffle=False)"
   ]
  },
  {
   "cell_type": "markdown",
   "metadata": {},
   "source": [
    "Optunaの設定"
   ]
  },
  {
   "cell_type": "code",
   "execution_count": null,
   "metadata": {},
   "outputs": [],
   "source": [
    "def objective(trial):\n",
    "    hidden_units1 = trial.suggest_int(\"hidden_units1\", 216, 512, step=2)\n",
    "    hidden_units2 = trial.suggest_int(\"hidden_units2\", 128, 216, step=2)\n",
    "    hidden_units3 = trial.suggest_int(\"hidden_units3\", 64, 128, step=2)\n",
    "    hidden_units4 = trial.suggest_int(\"hidden_units4\", 4, 64, step=2)\n",
    "    dropout1 = trial.suggest_float(\"dropout1\", 0.1, 0.5, step=0.05)\n",
    "    dropout2 = trial.suggest_float(\"dropout2\", 0.1, 0.5, step=0.05)\n",
    "    dropout3 = trial.suggest_float(\"dropout3\", 0.1, 0.5, step=0.05)\n",
    "    dropout4 = trial.suggest_float(\"dropout4\", 0.1, 0.5, step=0.05)\n",
    "    learning_rate = trial.suggest_loguniform(\"learning_rate\", 1e-5, 1e-1)\n",
    "    weight_decay=trial.suggest_loguniform(\"weight_decay\",1e-5,1)\n",
    "    \n",
    "\n",
    "    model = DNN_4(input_dim=X_train_tensor.shape[1], hidden_units1=hidden_units1,hidden_units2=hidden_units2,hidden_units3=hidden_units3,hidden_units4=hidden_units4, dropout1=dropout1,dropout2=dropout2,dropout3=dropout3,dropout4=dropout4).to(device)\n",
    "\n",
    "    criterion = nn.BCELoss()\n",
    "    optimizer = torch.optim.Adagrad(model.parameters(),lr=learning_rate,weight_decay=weight_decay)\n",
    "\n",
    "    num_epochs = 100\n",
    "    for epoch in range(num_epochs):\n",
    "        model.train()\n",
    "        for X_batch, y_batch in train_loader:\n",
    "            X_batch, y_batch = X_batch.to(device), y_batch.to(device)\n",
    "            optimizer.zero_grad()\n",
    "            outputs = model(X_batch).squeeze()\n",
    "            loss = criterion(outputs, y_batch)\n",
    "            loss.backward()\n",
    "            optimizer.step()\n",
    "\n",
    "    \n",
    "    model.eval()\n",
    "    val_true, val_pred, val_prob = [], [], []\n",
    "    with torch.no_grad():\n",
    "        for X_val, y_val in val_loader:\n",
    "            X_val, y_val = X_val.to(device), y_val.to(device)\n",
    "            val_outputs = model(X_val).squeeze()\n",
    "            predictions = (val_outputs >= 0.5).float()\n",
    "            val_true.extend(y_val.cpu().numpy())\n",
    "            val_pred.extend(predictions.cpu().numpy())\n",
    "            val_prob.extend(val_outputs.cpu().numpy())\n",
    "\n",
    "\n",
    "    accuracy = accuracy_score(val_true, val_pred)\n",
    "    precision = precision_score(val_true, val_pred)\n",
    "    recall = recall_score(val_true, val_pred)\n",
    "    f1 = f1_score(val_true, val_pred)\n",
    "    mcc = matthews_corrcoef(val_true, val_pred)\n",
    "    specificity = recall_score(val_true, val_pred, pos_label=0)\n",
    "\n",
    "    # ログ\n",
    "    print(f'Accuracy: {accuracy * 100:.2f}%')\n",
    "    print(f'Precision: {precision:.4f}')\n",
    "    print(f'Recall: {recall:.4f}')\n",
    "    print(f'F1 Score: {f1:.4f}')\n",
    "    print(f'Matthews Correlation Coefficient: {mcc:.4f}')\n",
    "    print(f'Specificity: {specificity:.4f}')\n",
    "\n",
    "    return precision\n"
   ]
  },
  {
   "cell_type": "code",
   "execution_count": 6,
   "metadata": {},
   "outputs": [
    {
     "name": "stdout",
     "output_type": "stream",
     "text": [
      "使用可能なGPUの数: 2\n",
      "GPU 0: NVIDIA GeForce GTX 1080 Ti\n",
      "  メモリ使用状況: 0.00 MB / 11169.31 MB\n",
      "  CUDA対応バージョン: 6.1\n",
      "GPU 1: NVIDIA GeForce GTX 1080 Ti\n",
      "  メモリ使用状況: 0.00 MB / 11172.19 MB\n",
      "  CUDA対応バージョン: 6.1\n"
     ]
    }
   ],
   "source": [
    "# 使用可能なGPUの数を取得\n",
    "num_gpus = torch.cuda.device_count()\n",
    "\n",
    "if num_gpus == 0:\n",
    "    print(\"使用可能なGPUはありません。\")\n",
    "else:\n",
    "    print(f\"使用可能なGPUの数: {num_gpus}\")\n",
    "    for i in range(num_gpus):\n",
    "        print(f\"GPU {i}: {torch.cuda.get_device_name(i)}\")\n",
    "        print(f\"  メモリ使用状況: {torch.cuda.memory_allocated(i) / 1024**2:.2f} MB / {torch.cuda.get_device_properties(i).total_memory / 1024**2:.2f} MB\")\n",
    "        print(f\"  CUDA対応バージョン: {torch.cuda.get_device_properties(i).major}.{torch.cuda.get_device_properties(i).minor}\")\n"
   ]
  },
  {
   "cell_type": "code",
   "execution_count": 7,
   "metadata": {},
   "outputs": [
    {
     "name": "stderr",
     "output_type": "stream",
     "text": [
      "[I 2024-11-28 19:02:49,119] A new study created in memory with name: no-name-90947ed1-bf29-4446-88d7-f8bf973a4b08\n",
      "/tmp/ipykernel_186283/1222447431.py:10: FutureWarning: suggest_loguniform has been deprecated in v3.0.0. This feature will be removed in v6.0.0. See https://github.com/optuna/optuna/releases/tag/v3.0.0. Use suggest_float(..., log=True) instead.\n",
      "  learning_rate = trial.suggest_loguniform(\"learning_rate\", 1e-5, 1e-1)\n",
      "/tmp/ipykernel_186283/1222447431.py:11: FutureWarning: suggest_loguniform has been deprecated in v3.0.0. This feature will be removed in v6.0.0. See https://github.com/optuna/optuna/releases/tag/v3.0.0. Use suggest_float(..., log=True) instead.\n",
      "  weight_decay=trial.suggest_loguniform(\"weight_decay\",1e-5,1)\n",
      "/home/gonken/anaconda3/envs/torch/lib/python3.12/site-packages/sklearn/metrics/_classification.py:1531: UndefinedMetricWarning: Precision is ill-defined and being set to 0.0 due to no predicted samples. Use `zero_division` parameter to control this behavior.\n",
      "  _warn_prf(average, modifier, f\"{metric.capitalize()} is\", len(result))\n",
      "[I 2024-11-28 19:03:41,429] Trial 0 finished with value: 0.0 and parameters: {'hidden_units1': 338, 'hidden_units2': 204, 'hidden_units3': 124, 'hidden_units4': 10, 'dropout1': 0.25, 'dropout2': 0.1, 'dropout3': 0.1, 'dropout4': 0.2, 'learning_rate': 0.024155726993625903, 'weight_decay': 0.08836468285456162}. Best is trial 0 with value: 0.0.\n",
      "/tmp/ipykernel_186283/1222447431.py:10: FutureWarning: suggest_loguniform has been deprecated in v3.0.0. This feature will be removed in v6.0.0. See https://github.com/optuna/optuna/releases/tag/v3.0.0. Use suggest_float(..., log=True) instead.\n",
      "  learning_rate = trial.suggest_loguniform(\"learning_rate\", 1e-5, 1e-1)\n",
      "/tmp/ipykernel_186283/1222447431.py:11: FutureWarning: suggest_loguniform has been deprecated in v3.0.0. This feature will be removed in v6.0.0. See https://github.com/optuna/optuna/releases/tag/v3.0.0. Use suggest_float(..., log=True) instead.\n",
      "  weight_decay=trial.suggest_loguniform(\"weight_decay\",1e-5,1)\n"
     ]
    },
    {
     "name": "stdout",
     "output_type": "stream",
     "text": [
      "Accuracy: 64.10%\n",
      "Precision: 0.0000\n",
      "Recall: 0.0000\n",
      "F1 Score: 0.0000\n",
      "Matthews Correlation Coefficient: 0.0000\n",
      "Specificity: 1.0000\n"
     ]
    },
    {
     "name": "stderr",
     "output_type": "stream",
     "text": [
      "[I 2024-11-28 19:04:31,230] Trial 1 finished with value: 0.5328467153284672 and parameters: {'hidden_units1': 406, 'hidden_units2': 182, 'hidden_units3': 114, 'hidden_units4': 64, 'dropout1': 0.15000000000000002, 'dropout2': 0.25, 'dropout3': 0.1, 'dropout4': 0.1, 'learning_rate': 0.003694910109088444, 'weight_decay': 1.0220170812197191e-05}. Best is trial 1 with value: 0.5328467153284672.\n"
     ]
    },
    {
     "name": "stdout",
     "output_type": "stream",
     "text": [
      "Accuracy: 63.53%\n",
      "Precision: 0.4932\n",
      "Recall: 0.5794\n",
      "F1 Score: 0.5328\n",
      "Matthews Correlation Coefficient: 0.2390\n",
      "Specificity: 0.6667\n"
     ]
    },
    {
     "name": "stderr",
     "output_type": "stream",
     "text": [
      "/tmp/ipykernel_186283/1222447431.py:10: FutureWarning: suggest_loguniform has been deprecated in v3.0.0. This feature will be removed in v6.0.0. See https://github.com/optuna/optuna/releases/tag/v3.0.0. Use suggest_float(..., log=True) instead.\n",
      "  learning_rate = trial.suggest_loguniform(\"learning_rate\", 1e-5, 1e-1)\n",
      "/tmp/ipykernel_186283/1222447431.py:11: FutureWarning: suggest_loguniform has been deprecated in v3.0.0. This feature will be removed in v6.0.0. See https://github.com/optuna/optuna/releases/tag/v3.0.0. Use suggest_float(..., log=True) instead.\n",
      "  weight_decay=trial.suggest_loguniform(\"weight_decay\",1e-5,1)\n",
      "/home/gonken/anaconda3/envs/torch/lib/python3.12/site-packages/sklearn/metrics/_classification.py:1531: UndefinedMetricWarning: Precision is ill-defined and being set to 0.0 due to no predicted samples. Use `zero_division` parameter to control this behavior.\n",
      "  _warn_prf(average, modifier, f\"{metric.capitalize()} is\", len(result))\n",
      "[I 2024-11-28 19:05:21,518] Trial 2 finished with value: 0.0 and parameters: {'hidden_units1': 254, 'hidden_units2': 142, 'hidden_units3': 76, 'hidden_units4': 44, 'dropout1': 0.2, 'dropout2': 0.5, 'dropout3': 0.5, 'dropout4': 0.15000000000000002, 'learning_rate': 0.02397517978127921, 'weight_decay': 0.514083173916293}. Best is trial 1 with value: 0.5328467153284672.\n",
      "/tmp/ipykernel_186283/1222447431.py:10: FutureWarning: suggest_loguniform has been deprecated in v3.0.0. This feature will be removed in v6.0.0. See https://github.com/optuna/optuna/releases/tag/v3.0.0. Use suggest_float(..., log=True) instead.\n",
      "  learning_rate = trial.suggest_loguniform(\"learning_rate\", 1e-5, 1e-1)\n",
      "/tmp/ipykernel_186283/1222447431.py:11: FutureWarning: suggest_loguniform has been deprecated in v3.0.0. This feature will be removed in v6.0.0. See https://github.com/optuna/optuna/releases/tag/v3.0.0. Use suggest_float(..., log=True) instead.\n",
      "  weight_decay=trial.suggest_loguniform(\"weight_decay\",1e-5,1)\n"
     ]
    },
    {
     "name": "stdout",
     "output_type": "stream",
     "text": [
      "Accuracy: 64.10%\n",
      "Precision: 0.0000\n",
      "Recall: 0.0000\n",
      "F1 Score: 0.0000\n",
      "Matthews Correlation Coefficient: 0.0000\n",
      "Specificity: 1.0000\n"
     ]
    },
    {
     "name": "stderr",
     "output_type": "stream",
     "text": [
      "[I 2024-11-28 19:06:11,433] Trial 3 finished with value: 0.3671497584541063 and parameters: {'hidden_units1': 468, 'hidden_units2': 186, 'hidden_units3': 68, 'hidden_units4': 4, 'dropout1': 0.1, 'dropout2': 0.1, 'dropout3': 0.4, 'dropout4': 0.30000000000000004, 'learning_rate': 0.0010159147253489627, 'weight_decay': 0.000834866478362976}. Best is trial 1 with value: 0.5328467153284672.\n"
     ]
    },
    {
     "name": "stdout",
     "output_type": "stream",
     "text": [
      "Accuracy: 62.68%\n",
      "Precision: 0.4691\n",
      "Recall: 0.3016\n",
      "F1 Score: 0.3671\n",
      "Matthews Correlation Coefficient: 0.1258\n",
      "Specificity: 0.8089\n"
     ]
    },
    {
     "name": "stderr",
     "output_type": "stream",
     "text": [
      "/tmp/ipykernel_186283/1222447431.py:10: FutureWarning: suggest_loguniform has been deprecated in v3.0.0. This feature will be removed in v6.0.0. See https://github.com/optuna/optuna/releases/tag/v3.0.0. Use suggest_float(..., log=True) instead.\n",
      "  learning_rate = trial.suggest_loguniform(\"learning_rate\", 1e-5, 1e-1)\n",
      "/tmp/ipykernel_186283/1222447431.py:11: FutureWarning: suggest_loguniform has been deprecated in v3.0.0. This feature will be removed in v6.0.0. See https://github.com/optuna/optuna/releases/tag/v3.0.0. Use suggest_float(..., log=True) instead.\n",
      "  weight_decay=trial.suggest_loguniform(\"weight_decay\",1e-5,1)\n",
      "[I 2024-11-28 19:07:00,523] Trial 4 finished with value: 0.5578635014836796 and parameters: {'hidden_units1': 460, 'hidden_units2': 148, 'hidden_units3': 66, 'hidden_units4': 62, 'dropout1': 0.25, 'dropout2': 0.15000000000000002, 'dropout3': 0.4, 'dropout4': 0.15000000000000002, 'learning_rate': 1.4531395871559963e-05, 'weight_decay': 2.9646745416057107e-05}. Best is trial 4 with value: 0.5578635014836796.\n"
     ]
    },
    {
     "name": "stdout",
     "output_type": "stream",
     "text": [
      "Accuracy: 57.55%\n",
      "Precision: 0.4455\n",
      "Recall: 0.7460\n",
      "F1 Score: 0.5579\n",
      "Matthews Correlation Coefficient: 0.2214\n",
      "Specificity: 0.4800\n"
     ]
    },
    {
     "name": "stderr",
     "output_type": "stream",
     "text": [
      "/tmp/ipykernel_186283/1222447431.py:10: FutureWarning: suggest_loguniform has been deprecated in v3.0.0. This feature will be removed in v6.0.0. See https://github.com/optuna/optuna/releases/tag/v3.0.0. Use suggest_float(..., log=True) instead.\n",
      "  learning_rate = trial.suggest_loguniform(\"learning_rate\", 1e-5, 1e-1)\n",
      "/tmp/ipykernel_186283/1222447431.py:11: FutureWarning: suggest_loguniform has been deprecated in v3.0.0. This feature will be removed in v6.0.0. See https://github.com/optuna/optuna/releases/tag/v3.0.0. Use suggest_float(..., log=True) instead.\n",
      "  weight_decay=trial.suggest_loguniform(\"weight_decay\",1e-5,1)\n",
      "[I 2024-11-28 19:07:49,690] Trial 5 finished with value: 0.35406698564593303 and parameters: {'hidden_units1': 438, 'hidden_units2': 140, 'hidden_units3': 118, 'hidden_units4': 4, 'dropout1': 0.35, 'dropout2': 0.35, 'dropout3': 0.1, 'dropout4': 0.1, 'learning_rate': 0.003584573558379515, 'weight_decay': 0.027879394469454546}. Best is trial 4 with value: 0.5578635014836796.\n"
     ]
    },
    {
     "name": "stdout",
     "output_type": "stream",
     "text": [
      "Accuracy: 61.54%\n",
      "Precision: 0.4458\n",
      "Recall: 0.2937\n",
      "F1 Score: 0.3541\n",
      "Matthews Correlation Coefficient: 0.1007\n",
      "Specificity: 0.7956\n"
     ]
    },
    {
     "name": "stderr",
     "output_type": "stream",
     "text": [
      "/tmp/ipykernel_186283/1222447431.py:10: FutureWarning: suggest_loguniform has been deprecated in v3.0.0. This feature will be removed in v6.0.0. See https://github.com/optuna/optuna/releases/tag/v3.0.0. Use suggest_float(..., log=True) instead.\n",
      "  learning_rate = trial.suggest_loguniform(\"learning_rate\", 1e-5, 1e-1)\n",
      "/tmp/ipykernel_186283/1222447431.py:11: FutureWarning: suggest_loguniform has been deprecated in v3.0.0. This feature will be removed in v6.0.0. See https://github.com/optuna/optuna/releases/tag/v3.0.0. Use suggest_float(..., log=True) instead.\n",
      "  weight_decay=trial.suggest_loguniform(\"weight_decay\",1e-5,1)\n",
      "[I 2024-11-28 19:08:39,400] Trial 6 finished with value: 0.39316239316239315 and parameters: {'hidden_units1': 324, 'hidden_units2': 200, 'hidden_units3': 72, 'hidden_units4': 6, 'dropout1': 0.1, 'dropout2': 0.5, 'dropout3': 0.5, 'dropout4': 0.15000000000000002, 'learning_rate': 0.023657714707463747, 'weight_decay': 1.3243546577398252e-05}. Best is trial 4 with value: 0.5578635014836796.\n"
     ]
    },
    {
     "name": "stdout",
     "output_type": "stream",
     "text": [
      "Accuracy: 59.54%\n",
      "Precision: 0.4259\n",
      "Recall: 0.3651\n",
      "F1 Score: 0.3932\n",
      "Matthews Correlation Coefficient: 0.0930\n",
      "Specificity: 0.7244\n"
     ]
    },
    {
     "name": "stderr",
     "output_type": "stream",
     "text": [
      "/tmp/ipykernel_186283/1222447431.py:10: FutureWarning: suggest_loguniform has been deprecated in v3.0.0. This feature will be removed in v6.0.0. See https://github.com/optuna/optuna/releases/tag/v3.0.0. Use suggest_float(..., log=True) instead.\n",
      "  learning_rate = trial.suggest_loguniform(\"learning_rate\", 1e-5, 1e-1)\n",
      "/tmp/ipykernel_186283/1222447431.py:11: FutureWarning: suggest_loguniform has been deprecated in v3.0.0. This feature will be removed in v6.0.0. See https://github.com/optuna/optuna/releases/tag/v3.0.0. Use suggest_float(..., log=True) instead.\n",
      "  weight_decay=trial.suggest_loguniform(\"weight_decay\",1e-5,1)\n",
      "[I 2024-11-28 19:09:28,027] Trial 7 finished with value: 0.4050632911392405 and parameters: {'hidden_units1': 348, 'hidden_units2': 180, 'hidden_units3': 78, 'hidden_units4': 44, 'dropout1': 0.35, 'dropout2': 0.5, 'dropout3': 0.1, 'dropout4': 0.2, 'learning_rate': 0.07067412444770986, 'weight_decay': 3.0576778269147716e-05}. Best is trial 4 with value: 0.5578635014836796.\n"
     ]
    },
    {
     "name": "stdout",
     "output_type": "stream",
     "text": [
      "Accuracy: 59.83%\n",
      "Precision: 0.4324\n",
      "Recall: 0.3810\n",
      "F1 Score: 0.4051\n",
      "Matthews Correlation Coefficient: 0.1041\n",
      "Specificity: 0.7200\n"
     ]
    },
    {
     "name": "stderr",
     "output_type": "stream",
     "text": [
      "/tmp/ipykernel_186283/1222447431.py:10: FutureWarning: suggest_loguniform has been deprecated in v3.0.0. This feature will be removed in v6.0.0. See https://github.com/optuna/optuna/releases/tag/v3.0.0. Use suggest_float(..., log=True) instead.\n",
      "  learning_rate = trial.suggest_loguniform(\"learning_rate\", 1e-5, 1e-1)\n",
      "/tmp/ipykernel_186283/1222447431.py:11: FutureWarning: suggest_loguniform has been deprecated in v3.0.0. This feature will be removed in v6.0.0. See https://github.com/optuna/optuna/releases/tag/v3.0.0. Use suggest_float(..., log=True) instead.\n",
      "  weight_decay=trial.suggest_loguniform(\"weight_decay\",1e-5,1)\n",
      "/home/gonken/anaconda3/envs/torch/lib/python3.12/site-packages/sklearn/metrics/_classification.py:1531: UndefinedMetricWarning: Precision is ill-defined and being set to 0.0 due to no predicted samples. Use `zero_division` parameter to control this behavior.\n",
      "  _warn_prf(average, modifier, f\"{metric.capitalize()} is\", len(result))\n",
      "[I 2024-11-28 19:10:17,195] Trial 8 finished with value: 0.0 and parameters: {'hidden_units1': 372, 'hidden_units2': 132, 'hidden_units3': 102, 'hidden_units4': 64, 'dropout1': 0.5, 'dropout2': 0.4, 'dropout3': 0.4, 'dropout4': 0.15000000000000002, 'learning_rate': 0.09412484152530602, 'weight_decay': 0.0023575767951306186}. Best is trial 4 with value: 0.5578635014836796.\n",
      "/tmp/ipykernel_186283/1222447431.py:10: FutureWarning: suggest_loguniform has been deprecated in v3.0.0. This feature will be removed in v6.0.0. See https://github.com/optuna/optuna/releases/tag/v3.0.0. Use suggest_float(..., log=True) instead.\n",
      "  learning_rate = trial.suggest_loguniform(\"learning_rate\", 1e-5, 1e-1)\n",
      "/tmp/ipykernel_186283/1222447431.py:11: FutureWarning: suggest_loguniform has been deprecated in v3.0.0. This feature will be removed in v6.0.0. See https://github.com/optuna/optuna/releases/tag/v3.0.0. Use suggest_float(..., log=True) instead.\n",
      "  weight_decay=trial.suggest_loguniform(\"weight_decay\",1e-5,1)\n"
     ]
    },
    {
     "name": "stdout",
     "output_type": "stream",
     "text": [
      "Accuracy: 64.10%\n",
      "Precision: 0.0000\n",
      "Recall: 0.0000\n",
      "F1 Score: 0.0000\n",
      "Matthews Correlation Coefficient: 0.0000\n",
      "Specificity: 1.0000\n"
     ]
    },
    {
     "name": "stderr",
     "output_type": "stream",
     "text": [
      "[I 2024-11-28 19:11:05,696] Trial 9 finished with value: 0.43478260869565216 and parameters: {'hidden_units1': 306, 'hidden_units2': 140, 'hidden_units3': 90, 'hidden_units4': 28, 'dropout1': 0.45000000000000007, 'dropout2': 0.45000000000000007, 'dropout3': 0.35, 'dropout4': 0.35, 'learning_rate': 0.06931945156255238, 'weight_decay': 5.1127749278503446e-05}. Best is trial 4 with value: 0.5578635014836796.\n"
     ]
    },
    {
     "name": "stdout",
     "output_type": "stream",
     "text": [
      "Accuracy: 62.96%\n",
      "Precision: 0.4808\n",
      "Recall: 0.3968\n",
      "F1 Score: 0.4348\n",
      "Matthews Correlation Coefficient: 0.1648\n",
      "Specificity: 0.7600\n"
     ]
    },
    {
     "name": "stderr",
     "output_type": "stream",
     "text": [
      "/tmp/ipykernel_186283/1222447431.py:10: FutureWarning: suggest_loguniform has been deprecated in v3.0.0. This feature will be removed in v6.0.0. See https://github.com/optuna/optuna/releases/tag/v3.0.0. Use suggest_float(..., log=True) instead.\n",
      "  learning_rate = trial.suggest_loguniform(\"learning_rate\", 1e-5, 1e-1)\n",
      "/tmp/ipykernel_186283/1222447431.py:11: FutureWarning: suggest_loguniform has been deprecated in v3.0.0. This feature will be removed in v6.0.0. See https://github.com/optuna/optuna/releases/tag/v3.0.0. Use suggest_float(..., log=True) instead.\n",
      "  weight_decay=trial.suggest_loguniform(\"weight_decay\",1e-5,1)\n",
      "[I 2024-11-28 19:11:55,029] Trial 10 finished with value: 0.3448275862068966 and parameters: {'hidden_units1': 508, 'hidden_units2': 162, 'hidden_units3': 92, 'hidden_units4': 50, 'dropout1': 0.30000000000000004, 'dropout2': 0.2, 'dropout3': 0.25, 'dropout4': 0.5, 'learning_rate': 1.035460335137642e-05, 'weight_decay': 0.0003444008998524861}. Best is trial 4 with value: 0.5578635014836796.\n"
     ]
    },
    {
     "name": "stdout",
     "output_type": "stream",
     "text": [
      "Accuracy: 67.52%\n",
      "Precision: 0.6250\n",
      "Recall: 0.2381\n",
      "F1 Score: 0.3448\n",
      "Matthews Correlation Coefficient: 0.2207\n",
      "Specificity: 0.9200\n"
     ]
    },
    {
     "name": "stderr",
     "output_type": "stream",
     "text": [
      "/tmp/ipykernel_186283/1222447431.py:10: FutureWarning: suggest_loguniform has been deprecated in v3.0.0. This feature will be removed in v6.0.0. See https://github.com/optuna/optuna/releases/tag/v3.0.0. Use suggest_float(..., log=True) instead.\n",
      "  learning_rate = trial.suggest_loguniform(\"learning_rate\", 1e-5, 1e-1)\n",
      "/tmp/ipykernel_186283/1222447431.py:11: FutureWarning: suggest_loguniform has been deprecated in v3.0.0. This feature will be removed in v6.0.0. See https://github.com/optuna/optuna/releases/tag/v3.0.0. Use suggest_float(..., log=True) instead.\n",
      "  weight_decay=trial.suggest_loguniform(\"weight_decay\",1e-5,1)\n",
      "[I 2024-11-28 19:12:45,961] Trial 11 finished with value: 0.48028673835125446 and parameters: {'hidden_units1': 404, 'hidden_units2': 166, 'hidden_units3': 112, 'hidden_units4': 64, 'dropout1': 0.2, 'dropout2': 0.25, 'dropout3': 0.25, 'dropout4': 0.1, 'learning_rate': 2.2920994250448133e-05, 'weight_decay': 0.00016448710593063026}. Best is trial 4 with value: 0.5578635014836796.\n"
     ]
    },
    {
     "name": "stdout",
     "output_type": "stream",
     "text": [
      "Accuracy: 58.69%\n",
      "Precision: 0.4379\n",
      "Recall: 0.5317\n",
      "F1 Score: 0.4803\n",
      "Matthews Correlation Coefficient: 0.1446\n",
      "Specificity: 0.6178\n"
     ]
    },
    {
     "name": "stderr",
     "output_type": "stream",
     "text": [
      "/tmp/ipykernel_186283/1222447431.py:10: FutureWarning: suggest_loguniform has been deprecated in v3.0.0. This feature will be removed in v6.0.0. See https://github.com/optuna/optuna/releases/tag/v3.0.0. Use suggest_float(..., log=True) instead.\n",
      "  learning_rate = trial.suggest_loguniform(\"learning_rate\", 1e-5, 1e-1)\n",
      "/tmp/ipykernel_186283/1222447431.py:11: FutureWarning: suggest_loguniform has been deprecated in v3.0.0. This feature will be removed in v6.0.0. See https://github.com/optuna/optuna/releases/tag/v3.0.0. Use suggest_float(..., log=True) instead.\n",
      "  weight_decay=trial.suggest_loguniform(\"weight_decay\",1e-5,1)\n",
      "[I 2024-11-28 19:13:36,079] Trial 12 finished with value: 0.6091644204851752 and parameters: {'hidden_units1': 426, 'hidden_units2': 158, 'hidden_units3': 106, 'hidden_units4': 54, 'dropout1': 0.15000000000000002, 'dropout2': 0.2, 'dropout3': 0.2, 'dropout4': 0.25, 'learning_rate': 0.00015351054811403274, 'weight_decay': 1.2027169916911559e-05}. Best is trial 12 with value: 0.6091644204851752.\n"
     ]
    },
    {
     "name": "stdout",
     "output_type": "stream",
     "text": [
      "Accuracy: 58.69%\n",
      "Precision: 0.4612\n",
      "Recall: 0.8968\n",
      "F1 Score: 0.6092\n",
      "Matthews Correlation Coefficient: 0.3241\n",
      "Specificity: 0.4133\n"
     ]
    },
    {
     "name": "stderr",
     "output_type": "stream",
     "text": [
      "/tmp/ipykernel_186283/1222447431.py:10: FutureWarning: suggest_loguniform has been deprecated in v3.0.0. This feature will be removed in v6.0.0. See https://github.com/optuna/optuna/releases/tag/v3.0.0. Use suggest_float(..., log=True) instead.\n",
      "  learning_rate = trial.suggest_loguniform(\"learning_rate\", 1e-5, 1e-1)\n",
      "/tmp/ipykernel_186283/1222447431.py:11: FutureWarning: suggest_loguniform has been deprecated in v3.0.0. This feature will be removed in v6.0.0. See https://github.com/optuna/optuna/releases/tag/v3.0.0. Use suggest_float(..., log=True) instead.\n",
      "  weight_decay=trial.suggest_loguniform(\"weight_decay\",1e-5,1)\n",
      "[I 2024-11-28 19:14:25,532] Trial 13 finished with value: 0.555205047318612 and parameters: {'hidden_units1': 480, 'hidden_units2': 160, 'hidden_units3': 102, 'hidden_units4': 54, 'dropout1': 0.25, 'dropout2': 0.15000000000000002, 'dropout3': 0.2, 'dropout4': 0.25, 'learning_rate': 8.500764998498477e-05, 'weight_decay': 0.00010497488348984609}. Best is trial 12 with value: 0.6091644204851752.\n"
     ]
    },
    {
     "name": "stdout",
     "output_type": "stream",
     "text": [
      "Accuracy: 59.83%\n",
      "Precision: 0.4607\n",
      "Recall: 0.6984\n",
      "F1 Score: 0.5552\n",
      "Matthews Correlation Coefficient: 0.2318\n",
      "Specificity: 0.5422\n"
     ]
    },
    {
     "name": "stderr",
     "output_type": "stream",
     "text": [
      "/tmp/ipykernel_186283/1222447431.py:10: FutureWarning: suggest_loguniform has been deprecated in v3.0.0. This feature will be removed in v6.0.0. See https://github.com/optuna/optuna/releases/tag/v3.0.0. Use suggest_float(..., log=True) instead.\n",
      "  learning_rate = trial.suggest_loguniform(\"learning_rate\", 1e-5, 1e-1)\n",
      "/tmp/ipykernel_186283/1222447431.py:11: FutureWarning: suggest_loguniform has been deprecated in v3.0.0. This feature will be removed in v6.0.0. See https://github.com/optuna/optuna/releases/tag/v3.0.0. Use suggest_float(..., log=True) instead.\n",
      "  weight_decay=trial.suggest_loguniform(\"weight_decay\",1e-5,1)\n",
      "[I 2024-11-28 19:15:14,915] Trial 14 finished with value: 0.5764705882352941 and parameters: {'hidden_units1': 438, 'hidden_units2': 152, 'hidden_units3': 86, 'hidden_units4': 30, 'dropout1': 0.2, 'dropout2': 0.2, 'dropout3': 0.2, 'dropout4': 0.35, 'learning_rate': 0.00011574362593684696, 'weight_decay': 0.008901013870268296}. Best is trial 12 with value: 0.6091644204851752.\n"
     ]
    },
    {
     "name": "stdout",
     "output_type": "stream",
     "text": [
      "Accuracy: 58.97%\n",
      "Precision: 0.4579\n",
      "Recall: 0.7778\n",
      "F1 Score: 0.5765\n",
      "Matthews Correlation Coefficient: 0.2579\n",
      "Specificity: 0.4844\n"
     ]
    },
    {
     "name": "stderr",
     "output_type": "stream",
     "text": [
      "/tmp/ipykernel_186283/1222447431.py:10: FutureWarning: suggest_loguniform has been deprecated in v3.0.0. This feature will be removed in v6.0.0. See https://github.com/optuna/optuna/releases/tag/v3.0.0. Use suggest_float(..., log=True) instead.\n",
      "  learning_rate = trial.suggest_loguniform(\"learning_rate\", 1e-5, 1e-1)\n",
      "/tmp/ipykernel_186283/1222447431.py:11: FutureWarning: suggest_loguniform has been deprecated in v3.0.0. This feature will be removed in v6.0.0. See https://github.com/optuna/optuna/releases/tag/v3.0.0. Use suggest_float(..., log=True) instead.\n",
      "  weight_decay=trial.suggest_loguniform(\"weight_decay\",1e-5,1)\n",
      "[I 2024-11-28 19:16:04,576] Trial 15 finished with value: 0.5615141955835962 and parameters: {'hidden_units1': 410, 'hidden_units2': 150, 'hidden_units3': 86, 'hidden_units4': 28, 'dropout1': 0.15000000000000002, 'dropout2': 0.30000000000000004, 'dropout3': 0.25, 'dropout4': 0.45000000000000007, 'learning_rate': 0.00014119671499385994, 'weight_decay': 0.011492821701153115}. Best is trial 12 with value: 0.6091644204851752.\n"
     ]
    },
    {
     "name": "stdout",
     "output_type": "stream",
     "text": [
      "Accuracy: 60.40%\n",
      "Precision: 0.4660\n",
      "Recall: 0.7063\n",
      "F1 Score: 0.5615\n",
      "Matthews Correlation Coefficient: 0.2437\n",
      "Specificity: 0.5467\n"
     ]
    },
    {
     "name": "stderr",
     "output_type": "stream",
     "text": [
      "/tmp/ipykernel_186283/1222447431.py:10: FutureWarning: suggest_loguniform has been deprecated in v3.0.0. This feature will be removed in v6.0.0. See https://github.com/optuna/optuna/releases/tag/v3.0.0. Use suggest_float(..., log=True) instead.\n",
      "  learning_rate = trial.suggest_loguniform(\"learning_rate\", 1e-5, 1e-1)\n",
      "/tmp/ipykernel_186283/1222447431.py:11: FutureWarning: suggest_loguniform has been deprecated in v3.0.0. This feature will be removed in v6.0.0. See https://github.com/optuna/optuna/releases/tag/v3.0.0. Use suggest_float(..., log=True) instead.\n",
      "  weight_decay=trial.suggest_loguniform(\"weight_decay\",1e-5,1)\n",
      "[I 2024-11-28 19:16:55,241] Trial 16 finished with value: 0.5 and parameters: {'hidden_units1': 428, 'hidden_units2': 128, 'hidden_units3': 104, 'hidden_units4': 18, 'dropout1': 0.15000000000000002, 'dropout2': 0.25, 'dropout3': 0.2, 'dropout4': 0.35, 'learning_rate': 0.00016909633784575062, 'weight_decay': 0.005385592842492293}. Best is trial 12 with value: 0.6091644204851752.\n"
     ]
    },
    {
     "name": "stdout",
     "output_type": "stream",
     "text": [
      "Accuracy: 60.68%\n",
      "Precision: 0.4600\n",
      "Recall: 0.5476\n",
      "F1 Score: 0.5000\n",
      "Matthews Correlation Coefficient: 0.1819\n",
      "Specificity: 0.6400\n"
     ]
    },
    {
     "name": "stderr",
     "output_type": "stream",
     "text": [
      "/tmp/ipykernel_186283/1222447431.py:10: FutureWarning: suggest_loguniform has been deprecated in v3.0.0. This feature will be removed in v6.0.0. See https://github.com/optuna/optuna/releases/tag/v3.0.0. Use suggest_float(..., log=True) instead.\n",
      "  learning_rate = trial.suggest_loguniform(\"learning_rate\", 1e-5, 1e-1)\n",
      "/tmp/ipykernel_186283/1222447431.py:11: FutureWarning: suggest_loguniform has been deprecated in v3.0.0. This feature will be removed in v6.0.0. See https://github.com/optuna/optuna/releases/tag/v3.0.0. Use suggest_float(..., log=True) instead.\n",
      "  weight_decay=trial.suggest_loguniform(\"weight_decay\",1e-5,1)\n",
      "[I 2024-11-28 19:17:44,662] Trial 17 finished with value: 0.5174825174825175 and parameters: {'hidden_units1': 378, 'hidden_units2': 154, 'hidden_units3': 84, 'hidden_units4': 36, 'dropout1': 0.2, 'dropout2': 0.2, 'dropout3': 0.2, 'dropout4': 0.4, 'learning_rate': 0.00044035755514081304, 'weight_decay': 0.07538475602653687}. Best is trial 12 with value: 0.6091644204851752.\n"
     ]
    },
    {
     "name": "stdout",
     "output_type": "stream",
     "text": [
      "Accuracy: 60.68%\n",
      "Precision: 0.4625\n",
      "Recall: 0.5873\n",
      "F1 Score: 0.5175\n",
      "Matthews Correlation Coefficient: 0.1975\n",
      "Specificity: 0.6178\n"
     ]
    },
    {
     "name": "stderr",
     "output_type": "stream",
     "text": [
      "/tmp/ipykernel_186283/1222447431.py:10: FutureWarning: suggest_loguniform has been deprecated in v3.0.0. This feature will be removed in v6.0.0. See https://github.com/optuna/optuna/releases/tag/v3.0.0. Use suggest_float(..., log=True) instead.\n",
      "  learning_rate = trial.suggest_loguniform(\"learning_rate\", 1e-5, 1e-1)\n",
      "/tmp/ipykernel_186283/1222447431.py:11: FutureWarning: suggest_loguniform has been deprecated in v3.0.0. This feature will be removed in v6.0.0. See https://github.com/optuna/optuna/releases/tag/v3.0.0. Use suggest_float(..., log=True) instead.\n",
      "  weight_decay=trial.suggest_loguniform(\"weight_decay\",1e-5,1)\n",
      "[I 2024-11-28 19:18:33,815] Trial 18 finished with value: 0.35121951219512193 and parameters: {'hidden_units1': 506, 'hidden_units2': 172, 'hidden_units3': 96, 'hidden_units4': 34, 'dropout1': 0.35, 'dropout2': 0.30000000000000004, 'dropout3': 0.15000000000000002, 'dropout4': 0.30000000000000004, 'learning_rate': 6.553189846379648e-05, 'weight_decay': 0.001287475325944897}. Best is trial 12 with value: 0.6091644204851752.\n"
     ]
    },
    {
     "name": "stdout",
     "output_type": "stream",
     "text": [
      "Accuracy: 62.11%\n",
      "Precision: 0.4557\n",
      "Recall: 0.2857\n",
      "F1 Score: 0.3512\n",
      "Matthews Correlation Coefficient: 0.1087\n",
      "Specificity: 0.8089\n"
     ]
    },
    {
     "name": "stderr",
     "output_type": "stream",
     "text": [
      "/tmp/ipykernel_186283/1222447431.py:10: FutureWarning: suggest_loguniform has been deprecated in v3.0.0. This feature will be removed in v6.0.0. See https://github.com/optuna/optuna/releases/tag/v3.0.0. Use suggest_float(..., log=True) instead.\n",
      "  learning_rate = trial.suggest_loguniform(\"learning_rate\", 1e-5, 1e-1)\n",
      "/tmp/ipykernel_186283/1222447431.py:11: FutureWarning: suggest_loguniform has been deprecated in v3.0.0. This feature will be removed in v6.0.0. See https://github.com/optuna/optuna/releases/tag/v3.0.0. Use suggest_float(..., log=True) instead.\n",
      "  weight_decay=trial.suggest_loguniform(\"weight_decay\",1e-5,1)\n",
      "[I 2024-11-28 19:19:24,311] Trial 19 finished with value: 0.41025641025641024 and parameters: {'hidden_units1': 274, 'hidden_units2': 216, 'hidden_units3': 106, 'hidden_units4': 18, 'dropout1': 0.1, 'dropout2': 0.2, 'dropout3': 0.30000000000000004, 'dropout4': 0.25, 'learning_rate': 0.0005071621156542933, 'weight_decay': 0.7775636840201404}. Best is trial 12 with value: 0.6091644204851752.\n"
     ]
    },
    {
     "name": "stdout",
     "output_type": "stream",
     "text": [
      "Accuracy: 60.68%\n",
      "Precision: 0.4444\n",
      "Recall: 0.3810\n",
      "F1 Score: 0.4103\n",
      "Matthews Correlation Coefficient: 0.1188\n",
      "Specificity: 0.7333\n"
     ]
    },
    {
     "name": "stderr",
     "output_type": "stream",
     "text": [
      "/tmp/ipykernel_186283/1222447431.py:10: FutureWarning: suggest_loguniform has been deprecated in v3.0.0. This feature will be removed in v6.0.0. See https://github.com/optuna/optuna/releases/tag/v3.0.0. Use suggest_float(..., log=True) instead.\n",
      "  learning_rate = trial.suggest_loguniform(\"learning_rate\", 1e-5, 1e-1)\n",
      "/tmp/ipykernel_186283/1222447431.py:11: FutureWarning: suggest_loguniform has been deprecated in v3.0.0. This feature will be removed in v6.0.0. See https://github.com/optuna/optuna/releases/tag/v3.0.0. Use suggest_float(..., log=True) instead.\n",
      "  weight_decay=trial.suggest_loguniform(\"weight_decay\",1e-5,1)\n",
      "[I 2024-11-28 19:20:12,760] Trial 20 finished with value: 0.48484848484848486 and parameters: {'hidden_units1': 444, 'hidden_units2': 172, 'hidden_units3': 80, 'hidden_units4': 40, 'dropout1': 0.30000000000000004, 'dropout2': 0.15000000000000002, 'dropout3': 0.15000000000000002, 'dropout4': 0.4, 'learning_rate': 3.706128678394087e-05, 'weight_decay': 0.009215931773298339}. Best is trial 12 with value: 0.6091644204851752.\n"
     ]
    },
    {
     "name": "stdout",
     "output_type": "stream",
     "text": [
      "Accuracy: 61.25%\n",
      "Precision: 0.4638\n",
      "Recall: 0.5079\n",
      "F1 Score: 0.4848\n",
      "Matthews Correlation Coefficient: 0.1758\n",
      "Specificity: 0.6711\n"
     ]
    },
    {
     "name": "stderr",
     "output_type": "stream",
     "text": [
      "/tmp/ipykernel_186283/1222447431.py:10: FutureWarning: suggest_loguniform has been deprecated in v3.0.0. This feature will be removed in v6.0.0. See https://github.com/optuna/optuna/releases/tag/v3.0.0. Use suggest_float(..., log=True) instead.\n",
      "  learning_rate = trial.suggest_loguniform(\"learning_rate\", 1e-5, 1e-1)\n",
      "/tmp/ipykernel_186283/1222447431.py:11: FutureWarning: suggest_loguniform has been deprecated in v3.0.0. This feature will be removed in v6.0.0. See https://github.com/optuna/optuna/releases/tag/v3.0.0. Use suggest_float(..., log=True) instead.\n",
      "  weight_decay=trial.suggest_loguniform(\"weight_decay\",1e-5,1)\n",
      "[I 2024-11-28 19:21:02,009] Trial 21 finished with value: 0.5263157894736842 and parameters: {'hidden_units1': 404, 'hidden_units2': 156, 'hidden_units3': 86, 'hidden_units4': 22, 'dropout1': 0.15000000000000002, 'dropout2': 0.30000000000000004, 'dropout3': 0.25, 'dropout4': 0.5, 'learning_rate': 0.000226123765719914, 'weight_decay': 0.013559452891946116}. Best is trial 12 with value: 0.6091644204851752.\n"
     ]
    },
    {
     "name": "stdout",
     "output_type": "stream",
     "text": [
      "Accuracy: 58.97%\n",
      "Precision: 0.4494\n",
      "Recall: 0.6349\n",
      "F1 Score: 0.5263\n",
      "Matthews Correlation Coefficient: 0.1913\n",
      "Specificity: 0.5644\n"
     ]
    },
    {
     "name": "stderr",
     "output_type": "stream",
     "text": [
      "/tmp/ipykernel_186283/1222447431.py:10: FutureWarning: suggest_loguniform has been deprecated in v3.0.0. This feature will be removed in v6.0.0. See https://github.com/optuna/optuna/releases/tag/v3.0.0. Use suggest_float(..., log=True) instead.\n",
      "  learning_rate = trial.suggest_loguniform(\"learning_rate\", 1e-5, 1e-1)\n",
      "/tmp/ipykernel_186283/1222447431.py:11: FutureWarning: suggest_loguniform has been deprecated in v3.0.0. This feature will be removed in v6.0.0. See https://github.com/optuna/optuna/releases/tag/v3.0.0. Use suggest_float(..., log=True) instead.\n",
      "  weight_decay=trial.suggest_loguniform(\"weight_decay\",1e-5,1)\n",
      "[I 2024-11-28 19:21:51,115] Trial 22 finished with value: 0.6153846153846154 and parameters: {'hidden_units1': 422, 'hidden_units2': 148, 'hidden_units3': 94, 'hidden_units4': 28, 'dropout1': 0.15000000000000002, 'dropout2': 0.35, 'dropout3': 0.30000000000000004, 'dropout4': 0.45000000000000007, 'learning_rate': 0.00011282123853468027, 'weight_decay': 0.09406960819048896}. Best is trial 22 with value: 0.6153846153846154.\n"
     ]
    },
    {
     "name": "stdout",
     "output_type": "stream",
     "text": [
      "Accuracy: 58.69%\n",
      "Precision: 0.4622\n",
      "Recall: 0.9206\n",
      "F1 Score: 0.6154\n",
      "Matthews Correlation Coefficient: 0.3408\n",
      "Specificity: 0.4000\n"
     ]
    },
    {
     "name": "stderr",
     "output_type": "stream",
     "text": [
      "/tmp/ipykernel_186283/1222447431.py:10: FutureWarning: suggest_loguniform has been deprecated in v3.0.0. This feature will be removed in v6.0.0. See https://github.com/optuna/optuna/releases/tag/v3.0.0. Use suggest_float(..., log=True) instead.\n",
      "  learning_rate = trial.suggest_loguniform(\"learning_rate\", 1e-5, 1e-1)\n",
      "/tmp/ipykernel_186283/1222447431.py:11: FutureWarning: suggest_loguniform has been deprecated in v3.0.0. This feature will be removed in v6.0.0. See https://github.com/optuna/optuna/releases/tag/v3.0.0. Use suggest_float(..., log=True) instead.\n",
      "  weight_decay=trial.suggest_loguniform(\"weight_decay\",1e-5,1)\n",
      "[I 2024-11-28 19:22:40,301] Trial 23 finished with value: 0.4019607843137255 and parameters: {'hidden_units1': 378, 'hidden_units2': 144, 'hidden_units3': 96, 'hidden_units4': 28, 'dropout1': 0.2, 'dropout2': 0.35, 'dropout3': 0.30000000000000004, 'dropout4': 0.4, 'learning_rate': 0.0012955522817190313, 'weight_decay': 0.1812714792137616}. Best is trial 22 with value: 0.6153846153846154.\n"
     ]
    },
    {
     "name": "stdout",
     "output_type": "stream",
     "text": [
      "Accuracy: 65.24%\n",
      "Precision: 0.5256\n",
      "Recall: 0.3254\n",
      "F1 Score: 0.4020\n",
      "Matthews Correlation Coefficient: 0.1857\n",
      "Specificity: 0.8356\n"
     ]
    },
    {
     "name": "stderr",
     "output_type": "stream",
     "text": [
      "/tmp/ipykernel_186283/1222447431.py:10: FutureWarning: suggest_loguniform has been deprecated in v3.0.0. This feature will be removed in v6.0.0. See https://github.com/optuna/optuna/releases/tag/v3.0.0. Use suggest_float(..., log=True) instead.\n",
      "  learning_rate = trial.suggest_loguniform(\"learning_rate\", 1e-5, 1e-1)\n",
      "/tmp/ipykernel_186283/1222447431.py:11: FutureWarning: suggest_loguniform has been deprecated in v3.0.0. This feature will be removed in v6.0.0. See https://github.com/optuna/optuna/releases/tag/v3.0.0. Use suggest_float(..., log=True) instead.\n",
      "  weight_decay=trial.suggest_loguniform(\"weight_decay\",1e-5,1)\n",
      "[I 2024-11-28 19:23:30,010] Trial 24 finished with value: 0.3926940639269406 and parameters: {'hidden_units1': 480, 'hidden_units2': 136, 'hidden_units3': 96, 'hidden_units4': 34, 'dropout1': 0.15000000000000002, 'dropout2': 0.35, 'dropout3': 0.35, 'dropout4': 0.45000000000000007, 'learning_rate': 4.27014319758605e-05, 'weight_decay': 0.032108557172666516}. Best is trial 22 with value: 0.6153846153846154.\n"
     ]
    },
    {
     "name": "stdout",
     "output_type": "stream",
     "text": [
      "Accuracy: 62.11%\n",
      "Precision: 0.4624\n",
      "Recall: 0.3413\n",
      "F1 Score: 0.3927\n",
      "Matthews Correlation Coefficient: 0.1294\n",
      "Specificity: 0.7778\n"
     ]
    },
    {
     "name": "stderr",
     "output_type": "stream",
     "text": [
      "/tmp/ipykernel_186283/1222447431.py:10: FutureWarning: suggest_loguniform has been deprecated in v3.0.0. This feature will be removed in v6.0.0. See https://github.com/optuna/optuna/releases/tag/v3.0.0. Use suggest_float(..., log=True) instead.\n",
      "  learning_rate = trial.suggest_loguniform(\"learning_rate\", 1e-5, 1e-1)\n",
      "/tmp/ipykernel_186283/1222447431.py:11: FutureWarning: suggest_loguniform has been deprecated in v3.0.0. This feature will be removed in v6.0.0. See https://github.com/optuna/optuna/releases/tag/v3.0.0. Use suggest_float(..., log=True) instead.\n",
      "  weight_decay=trial.suggest_loguniform(\"weight_decay\",1e-5,1)\n",
      "[I 2024-11-28 19:24:18,893] Trial 25 finished with value: 0.5292096219931272 and parameters: {'hidden_units1': 430, 'hidden_units2': 150, 'hidden_units3': 108, 'hidden_units4': 54, 'dropout1': 0.1, 'dropout2': 0.4, 'dropout3': 0.15000000000000002, 'dropout4': 0.35, 'learning_rate': 0.0003613111543962244, 'weight_decay': 0.25377809150742486}. Best is trial 22 with value: 0.6153846153846154.\n"
     ]
    },
    {
     "name": "stdout",
     "output_type": "stream",
     "text": [
      "Accuracy: 60.97%\n",
      "Precision: 0.4667\n",
      "Recall: 0.6111\n",
      "F1 Score: 0.5292\n",
      "Matthews Correlation Coefficient: 0.2114\n",
      "Specificity: 0.6089\n"
     ]
    },
    {
     "name": "stderr",
     "output_type": "stream",
     "text": [
      "/tmp/ipykernel_186283/1222447431.py:10: FutureWarning: suggest_loguniform has been deprecated in v3.0.0. This feature will be removed in v6.0.0. See https://github.com/optuna/optuna/releases/tag/v3.0.0. Use suggest_float(..., log=True) instead.\n",
      "  learning_rate = trial.suggest_loguniform(\"learning_rate\", 1e-5, 1e-1)\n",
      "/tmp/ipykernel_186283/1222447431.py:11: FutureWarning: suggest_loguniform has been deprecated in v3.0.0. This feature will be removed in v6.0.0. See https://github.com/optuna/optuna/releases/tag/v3.0.0. Use suggest_float(..., log=True) instead.\n",
      "  weight_decay=trial.suggest_loguniform(\"weight_decay\",1e-5,1)\n",
      "[I 2024-11-28 19:25:07,526] Trial 26 finished with value: 0.5722222222222222 and parameters: {'hidden_units1': 452, 'hidden_units2': 168, 'hidden_units3': 90, 'hidden_units4': 22, 'dropout1': 0.2, 'dropout2': 0.25, 'dropout3': 0.35, 'dropout4': 0.25, 'learning_rate': 9.82995800355806e-05, 'weight_decay': 0.03985319772816218}. Best is trial 22 with value: 0.6153846153846154.\n"
     ]
    },
    {
     "name": "stdout",
     "output_type": "stream",
     "text": [
      "Accuracy: 56.13%\n",
      "Precision: 0.4402\n",
      "Recall: 0.8175\n",
      "F1 Score: 0.5722\n",
      "Matthews Correlation Coefficient: 0.2394\n",
      "Specificity: 0.4178\n"
     ]
    },
    {
     "name": "stderr",
     "output_type": "stream",
     "text": [
      "/tmp/ipykernel_186283/1222447431.py:10: FutureWarning: suggest_loguniform has been deprecated in v3.0.0. This feature will be removed in v6.0.0. See https://github.com/optuna/optuna/releases/tag/v3.0.0. Use suggest_float(..., log=True) instead.\n",
      "  learning_rate = trial.suggest_loguniform(\"learning_rate\", 1e-5, 1e-1)\n",
      "/tmp/ipykernel_186283/1222447431.py:11: FutureWarning: suggest_loguniform has been deprecated in v3.0.0. This feature will be removed in v6.0.0. See https://github.com/optuna/optuna/releases/tag/v3.0.0. Use suggest_float(..., log=True) instead.\n",
      "  weight_decay=trial.suggest_loguniform(\"weight_decay\",1e-5,1)\n",
      "[I 2024-11-28 19:25:57,061] Trial 27 finished with value: 0.5193798449612403 and parameters: {'hidden_units1': 390, 'hidden_units2': 158, 'hidden_units3': 98, 'hidden_units4': 40, 'dropout1': 0.25, 'dropout2': 0.2, 'dropout3': 0.2, 'dropout4': 0.45000000000000007, 'learning_rate': 0.0025454695020546373, 'weight_decay': 0.0030256370896358845}. Best is trial 22 with value: 0.6153846153846154.\n"
     ]
    },
    {
     "name": "stdout",
     "output_type": "stream",
     "text": [
      "Accuracy: 64.67%\n",
      "Precision: 0.5076\n",
      "Recall: 0.5317\n",
      "F1 Score: 0.5194\n",
      "Matthews Correlation Coefficient: 0.2405\n",
      "Specificity: 0.7111\n"
     ]
    },
    {
     "name": "stderr",
     "output_type": "stream",
     "text": [
      "/tmp/ipykernel_186283/1222447431.py:10: FutureWarning: suggest_loguniform has been deprecated in v3.0.0. This feature will be removed in v6.0.0. See https://github.com/optuna/optuna/releases/tag/v3.0.0. Use suggest_float(..., log=True) instead.\n",
      "  learning_rate = trial.suggest_loguniform(\"learning_rate\", 1e-5, 1e-1)\n",
      "/tmp/ipykernel_186283/1222447431.py:11: FutureWarning: suggest_loguniform has been deprecated in v3.0.0. This feature will be removed in v6.0.0. See https://github.com/optuna/optuna/releases/tag/v3.0.0. Use suggest_float(..., log=True) instead.\n",
      "  weight_decay=trial.suggest_loguniform(\"weight_decay\",1e-5,1)\n",
      "[I 2024-11-28 19:26:46,489] Trial 28 finished with value: 0.5919540229885057 and parameters: {'hidden_units1': 428, 'hidden_units2': 150, 'hidden_units3': 122, 'hidden_units4': 24, 'dropout1': 0.15000000000000002, 'dropout2': 0.4, 'dropout3': 0.30000000000000004, 'dropout4': 0.30000000000000004, 'learning_rate': 0.00022394234372605029, 'weight_decay': 0.0004208140425153573}. Best is trial 22 with value: 0.6153846153846154.\n"
     ]
    },
    {
     "name": "stdout",
     "output_type": "stream",
     "text": [
      "Accuracy: 59.54%\n",
      "Precision: 0.4640\n",
      "Recall: 0.8175\n",
      "F1 Score: 0.5920\n",
      "Matthews Correlation Coefficient: 0.2871\n",
      "Specificity: 0.4711\n"
     ]
    },
    {
     "name": "stderr",
     "output_type": "stream",
     "text": [
      "/tmp/ipykernel_186283/1222447431.py:10: FutureWarning: suggest_loguniform has been deprecated in v3.0.0. This feature will be removed in v6.0.0. See https://github.com/optuna/optuna/releases/tag/v3.0.0. Use suggest_float(..., log=True) instead.\n",
      "  learning_rate = trial.suggest_loguniform(\"learning_rate\", 1e-5, 1e-1)\n",
      "/tmp/ipykernel_186283/1222447431.py:11: FutureWarning: suggest_loguniform has been deprecated in v3.0.0. This feature will be removed in v6.0.0. See https://github.com/optuna/optuna/releases/tag/v3.0.0. Use suggest_float(..., log=True) instead.\n",
      "  weight_decay=trial.suggest_loguniform(\"weight_decay\",1e-5,1)\n",
      "[I 2024-11-28 19:27:34,387] Trial 29 finished with value: 0.581039755351682 and parameters: {'hidden_units1': 218, 'hidden_units2': 134, 'hidden_units3': 128, 'hidden_units4': 14, 'dropout1': 0.1, 'dropout2': 0.4, 'dropout3': 0.30000000000000004, 'dropout4': 0.2, 'learning_rate': 0.00027070634634015497, 'weight_decay': 0.00028039498606119634}. Best is trial 22 with value: 0.6153846153846154.\n"
     ]
    },
    {
     "name": "stdout",
     "output_type": "stream",
     "text": [
      "Accuracy: 60.97%\n",
      "Precision: 0.4726\n",
      "Recall: 0.7540\n",
      "F1 Score: 0.5810\n",
      "Matthews Correlation Coefficient: 0.2743\n",
      "Specificity: 0.5289\n"
     ]
    },
    {
     "name": "stderr",
     "output_type": "stream",
     "text": [
      "/tmp/ipykernel_186283/1222447431.py:10: FutureWarning: suggest_loguniform has been deprecated in v3.0.0. This feature will be removed in v6.0.0. See https://github.com/optuna/optuna/releases/tag/v3.0.0. Use suggest_float(..., log=True) instead.\n",
      "  learning_rate = trial.suggest_loguniform(\"learning_rate\", 1e-5, 1e-1)\n",
      "/tmp/ipykernel_186283/1222447431.py:11: FutureWarning: suggest_loguniform has been deprecated in v3.0.0. This feature will be removed in v6.0.0. See https://github.com/optuna/optuna/releases/tag/v3.0.0. Use suggest_float(..., log=True) instead.\n",
      "  weight_decay=trial.suggest_loguniform(\"weight_decay\",1e-5,1)\n",
      "[I 2024-11-28 19:28:24,864] Trial 30 finished with value: 0.47808764940239046 and parameters: {'hidden_units1': 346, 'hidden_units2': 192, 'hidden_units3': 120, 'hidden_units4': 22, 'dropout1': 0.25, 'dropout2': 0.45000000000000007, 'dropout3': 0.45000000000000007, 'dropout4': 0.25, 'learning_rate': 0.0006307060307020636, 'weight_decay': 0.0005625240507045185}. Best is trial 22 with value: 0.6153846153846154.\n"
     ]
    },
    {
     "name": "stdout",
     "output_type": "stream",
     "text": [
      "Accuracy: 62.68%\n",
      "Precision: 0.4800\n",
      "Recall: 0.4762\n",
      "F1 Score: 0.4781\n",
      "Matthews Correlation Coefficient: 0.1876\n",
      "Specificity: 0.7111\n"
     ]
    },
    {
     "name": "stderr",
     "output_type": "stream",
     "text": [
      "/tmp/ipykernel_186283/1222447431.py:10: FutureWarning: suggest_loguniform has been deprecated in v3.0.0. This feature will be removed in v6.0.0. See https://github.com/optuna/optuna/releases/tag/v3.0.0. Use suggest_float(..., log=True) instead.\n",
      "  learning_rate = trial.suggest_loguniform(\"learning_rate\", 1e-5, 1e-1)\n",
      "/tmp/ipykernel_186283/1222447431.py:11: FutureWarning: suggest_loguniform has been deprecated in v3.0.0. This feature will be removed in v6.0.0. See https://github.com/optuna/optuna/releases/tag/v3.0.0. Use suggest_float(..., log=True) instead.\n",
      "  weight_decay=trial.suggest_loguniform(\"weight_decay\",1e-5,1)\n",
      "[I 2024-11-28 19:29:14,041] Trial 31 finished with value: 0.463519313304721 and parameters: {'hidden_units1': 304, 'hidden_units2': 134, 'hidden_units3': 128, 'hidden_units4': 14, 'dropout1': 0.1, 'dropout2': 0.4, 'dropout3': 0.30000000000000004, 'dropout4': 0.2, 'learning_rate': 0.0002501341660003035, 'weight_decay': 0.0001766252660010648}. Best is trial 22 with value: 0.6153846153846154.\n"
     ]
    },
    {
     "name": "stdout",
     "output_type": "stream",
     "text": [
      "Accuracy: 64.39%\n",
      "Precision: 0.5047\n",
      "Recall: 0.4286\n",
      "F1 Score: 0.4635\n",
      "Matthews Correlation Coefficient: 0.2011\n",
      "Specificity: 0.7644\n"
     ]
    },
    {
     "name": "stderr",
     "output_type": "stream",
     "text": [
      "/tmp/ipykernel_186283/1222447431.py:10: FutureWarning: suggest_loguniform has been deprecated in v3.0.0. This feature will be removed in v6.0.0. See https://github.com/optuna/optuna/releases/tag/v3.0.0. Use suggest_float(..., log=True) instead.\n",
      "  learning_rate = trial.suggest_loguniform(\"learning_rate\", 1e-5, 1e-1)\n",
      "/tmp/ipykernel_186283/1222447431.py:11: FutureWarning: suggest_loguniform has been deprecated in v3.0.0. This feature will be removed in v6.0.0. See https://github.com/optuna/optuna/releases/tag/v3.0.0. Use suggest_float(..., log=True) instead.\n",
      "  weight_decay=trial.suggest_loguniform(\"weight_decay\",1e-5,1)\n",
      "[I 2024-11-28 19:30:04,775] Trial 32 finished with value: 0.46774193548387094 and parameters: {'hidden_units1': 226, 'hidden_units2': 146, 'hidden_units3': 128, 'hidden_units4': 10, 'dropout1': 0.15000000000000002, 'dropout2': 0.45000000000000007, 'dropout3': 0.35, 'dropout4': 0.2, 'learning_rate': 4.78967007315224e-05, 'weight_decay': 0.00031893126416497836}. Best is trial 22 with value: 0.6153846153846154.\n"
     ]
    },
    {
     "name": "stdout",
     "output_type": "stream",
     "text": [
      "Accuracy: 62.39%\n",
      "Precision: 0.4754\n",
      "Recall: 0.4603\n",
      "F1 Score: 0.4677\n",
      "Matthews Correlation Coefficient: 0.1772\n",
      "Specificity: 0.7156\n"
     ]
    },
    {
     "name": "stderr",
     "output_type": "stream",
     "text": [
      "/tmp/ipykernel_186283/1222447431.py:10: FutureWarning: suggest_loguniform has been deprecated in v3.0.0. This feature will be removed in v6.0.0. See https://github.com/optuna/optuna/releases/tag/v3.0.0. Use suggest_float(..., log=True) instead.\n",
      "  learning_rate = trial.suggest_loguniform(\"learning_rate\", 1e-5, 1e-1)\n",
      "/tmp/ipykernel_186283/1222447431.py:11: FutureWarning: suggest_loguniform has been deprecated in v3.0.0. This feature will be removed in v6.0.0. See https://github.com/optuna/optuna/releases/tag/v3.0.0. Use suggest_float(..., log=True) instead.\n",
      "  weight_decay=trial.suggest_loguniform(\"weight_decay\",1e-5,1)\n",
      "[I 2024-11-28 19:30:54,827] Trial 33 finished with value: 0.39819004524886875 and parameters: {'hidden_units1': 358, 'hidden_units2': 138, 'hidden_units3': 122, 'hidden_units4': 12, 'dropout1': 0.1, 'dropout2': 0.35, 'dropout3': 0.30000000000000004, 'dropout4': 0.30000000000000004, 'learning_rate': 0.0008391364750308196, 'weight_decay': 7.758772264834202e-05}. Best is trial 22 with value: 0.6153846153846154.\n"
     ]
    },
    {
     "name": "stdout",
     "output_type": "stream",
     "text": [
      "Accuracy: 62.11%\n",
      "Precision: 0.4632\n",
      "Recall: 0.3492\n",
      "F1 Score: 0.3982\n",
      "Matthews Correlation Coefficient: 0.1323\n",
      "Specificity: 0.7733\n"
     ]
    },
    {
     "name": "stderr",
     "output_type": "stream",
     "text": [
      "/tmp/ipykernel_186283/1222447431.py:10: FutureWarning: suggest_loguniform has been deprecated in v3.0.0. This feature will be removed in v6.0.0. See https://github.com/optuna/optuna/releases/tag/v3.0.0. Use suggest_float(..., log=True) instead.\n",
      "  learning_rate = trial.suggest_loguniform(\"learning_rate\", 1e-5, 1e-1)\n",
      "/tmp/ipykernel_186283/1222447431.py:11: FutureWarning: suggest_loguniform has been deprecated in v3.0.0. This feature will be removed in v6.0.0. See https://github.com/optuna/optuna/releases/tag/v3.0.0. Use suggest_float(..., log=True) instead.\n",
      "  weight_decay=trial.suggest_loguniform(\"weight_decay\",1e-5,1)\n",
      "[I 2024-11-28 19:31:41,919] Trial 34 finished with value: 0.5492957746478874 and parameters: {'hidden_units1': 416, 'hidden_units2': 144, 'hidden_units3': 114, 'hidden_units4': 16, 'dropout1': 0.15000000000000002, 'dropout2': 0.4, 'dropout3': 0.25, 'dropout4': 0.25, 'learning_rate': 0.0018826878608287298, 'weight_decay': 0.00143590292612071}. Best is trial 22 with value: 0.6153846153846154.\n"
     ]
    },
    {
     "name": "stdout",
     "output_type": "stream",
     "text": [
      "Accuracy: 63.53%\n",
      "Precision: 0.4937\n",
      "Recall: 0.6190\n",
      "F1 Score: 0.5493\n",
      "Matthews Correlation Coefficient: 0.2541\n",
      "Specificity: 0.6444\n"
     ]
    },
    {
     "name": "stderr",
     "output_type": "stream",
     "text": [
      "/tmp/ipykernel_186283/1222447431.py:10: FutureWarning: suggest_loguniform has been deprecated in v3.0.0. This feature will be removed in v6.0.0. See https://github.com/optuna/optuna/releases/tag/v3.0.0. Use suggest_float(..., log=True) instead.\n",
      "  learning_rate = trial.suggest_loguniform(\"learning_rate\", 1e-5, 1e-1)\n",
      "/tmp/ipykernel_186283/1222447431.py:11: FutureWarning: suggest_loguniform has been deprecated in v3.0.0. This feature will be removed in v6.0.0. See https://github.com/optuna/optuna/releases/tag/v3.0.0. Use suggest_float(..., log=True) instead.\n",
      "  weight_decay=trial.suggest_loguniform(\"weight_decay\",1e-5,1)\n",
      "[I 2024-11-28 19:32:29,780] Trial 35 finished with value: 0.5808383233532934 and parameters: {'hidden_units1': 236, 'hidden_units2': 164, 'hidden_units3': 124, 'hidden_units4': 24, 'dropout1': 0.1, 'dropout2': 0.35, 'dropout3': 0.35, 'dropout4': 0.2, 'learning_rate': 0.0002729751397662659, 'weight_decay': 1.1828581550819644e-05}. Best is trial 22 with value: 0.6153846153846154.\n"
     ]
    },
    {
     "name": "stdout",
     "output_type": "stream",
     "text": [
      "Accuracy: 60.11%\n",
      "Precision: 0.4663\n",
      "Recall: 0.7698\n",
      "F1 Score: 0.5808\n",
      "Matthews Correlation Coefficient: 0.2700\n",
      "Specificity: 0.5067\n"
     ]
    },
    {
     "name": "stderr",
     "output_type": "stream",
     "text": [
      "/tmp/ipykernel_186283/1222447431.py:10: FutureWarning: suggest_loguniform has been deprecated in v3.0.0. This feature will be removed in v6.0.0. See https://github.com/optuna/optuna/releases/tag/v3.0.0. Use suggest_float(..., log=True) instead.\n",
      "  learning_rate = trial.suggest_loguniform(\"learning_rate\", 1e-5, 1e-1)\n",
      "/tmp/ipykernel_186283/1222447431.py:11: FutureWarning: suggest_loguniform has been deprecated in v3.0.0. This feature will be removed in v6.0.0. See https://github.com/optuna/optuna/releases/tag/v3.0.0. Use suggest_float(..., log=True) instead.\n",
      "  weight_decay=trial.suggest_loguniform(\"weight_decay\",1e-5,1)\n",
      "[I 2024-11-28 19:33:20,553] Trial 36 finished with value: 0.47619047619047616 and parameters: {'hidden_units1': 274, 'hidden_units2': 130, 'hidden_units3': 116, 'hidden_units4': 58, 'dropout1': 0.15000000000000002, 'dropout2': 0.45000000000000007, 'dropout3': 0.30000000000000004, 'dropout4': 0.30000000000000004, 'learning_rate': 0.010169554221448262, 'weight_decay': 0.0005835182876681967}. Best is trial 22 with value: 0.6153846153846154.\n"
     ]
    },
    {
     "name": "stdout",
     "output_type": "stream",
     "text": [
      "Accuracy: 62.39%\n",
      "Precision: 0.4762\n",
      "Recall: 0.4762\n",
      "F1 Score: 0.4762\n",
      "Matthews Correlation Coefficient: 0.1829\n",
      "Specificity: 0.7067\n"
     ]
    },
    {
     "name": "stderr",
     "output_type": "stream",
     "text": [
      "/tmp/ipykernel_186283/1222447431.py:10: FutureWarning: suggest_loguniform has been deprecated in v3.0.0. This feature will be removed in v6.0.0. See https://github.com/optuna/optuna/releases/tag/v3.0.0. Use suggest_float(..., log=True) instead.\n",
      "  learning_rate = trial.suggest_loguniform(\"learning_rate\", 1e-5, 1e-1)\n",
      "/tmp/ipykernel_186283/1222447431.py:11: FutureWarning: suggest_loguniform has been deprecated in v3.0.0. This feature will be removed in v6.0.0. See https://github.com/optuna/optuna/releases/tag/v3.0.0. Use suggest_float(..., log=True) instead.\n",
      "  weight_decay=trial.suggest_loguniform(\"weight_decay\",1e-5,1)\n",
      "[I 2024-11-28 19:34:09,393] Trial 37 finished with value: 0.13513513513513514 and parameters: {'hidden_units1': 470, 'hidden_units2': 156, 'hidden_units3': 110, 'hidden_units4': 8, 'dropout1': 0.4, 'dropout2': 0.1, 'dropout3': 0.45000000000000007, 'dropout4': 0.15000000000000002, 'learning_rate': 2.097025490851013e-05, 'weight_decay': 2.0277292144962667e-05}. Best is trial 22 with value: 0.6153846153846154.\n"
     ]
    },
    {
     "name": "stdout",
     "output_type": "stream",
     "text": [
      "Accuracy: 63.53%\n",
      "Precision: 0.4545\n",
      "Recall: 0.0794\n",
      "F1 Score: 0.1351\n",
      "Matthews Correlation Coefficient: 0.0515\n",
      "Specificity: 0.9467\n"
     ]
    },
    {
     "name": "stderr",
     "output_type": "stream",
     "text": [
      "/tmp/ipykernel_186283/1222447431.py:10: FutureWarning: suggest_loguniform has been deprecated in v3.0.0. This feature will be removed in v6.0.0. See https://github.com/optuna/optuna/releases/tag/v3.0.0. Use suggest_float(..., log=True) instead.\n",
      "  learning_rate = trial.suggest_loguniform(\"learning_rate\", 1e-5, 1e-1)\n",
      "/tmp/ipykernel_186283/1222447431.py:11: FutureWarning: suggest_loguniform has been deprecated in v3.0.0. This feature will be removed in v6.0.0. See https://github.com/optuna/optuna/releases/tag/v3.0.0. Use suggest_float(..., log=True) instead.\n",
      "  weight_decay=trial.suggest_loguniform(\"weight_decay\",1e-5,1)\n",
      "[I 2024-11-28 19:34:59,000] Trial 38 finished with value: 0.5590062111801242 and parameters: {'hidden_units1': 390, 'hidden_units2': 146, 'hidden_units3': 118, 'hidden_units4': 32, 'dropout1': 0.2, 'dropout2': 0.4, 'dropout3': 0.4, 'dropout4': 0.25, 'learning_rate': 0.0001727308453896753, 'weight_decay': 4.361813947881441e-05}. Best is trial 22 with value: 0.6153846153846154.\n"
     ]
    },
    {
     "name": "stdout",
     "output_type": "stream",
     "text": [
      "Accuracy: 59.54%\n",
      "Precision: 0.4592\n",
      "Recall: 0.7143\n",
      "F1 Score: 0.5590\n",
      "Matthews Correlation Coefficient: 0.2349\n",
      "Specificity: 0.5289\n"
     ]
    },
    {
     "name": "stderr",
     "output_type": "stream",
     "text": [
      "/tmp/ipykernel_186283/1222447431.py:10: FutureWarning: suggest_loguniform has been deprecated in v3.0.0. This feature will be removed in v6.0.0. See https://github.com/optuna/optuna/releases/tag/v3.0.0. Use suggest_float(..., log=True) instead.\n",
      "  learning_rate = trial.suggest_loguniform(\"learning_rate\", 1e-5, 1e-1)\n",
      "/tmp/ipykernel_186283/1222447431.py:11: FutureWarning: suggest_loguniform has been deprecated in v3.0.0. This feature will be removed in v6.0.0. See https://github.com/optuna/optuna/releases/tag/v3.0.0. Use suggest_float(..., log=True) instead.\n",
      "  weight_decay=trial.suggest_loguniform(\"weight_decay\",1e-5,1)\n",
      "[I 2024-11-28 19:35:46,640] Trial 39 finished with value: 0.48201438848920863 and parameters: {'hidden_units1': 332, 'hidden_units2': 174, 'hidden_units3': 126, 'hidden_units4': 24, 'dropout1': 0.1, 'dropout2': 0.35, 'dropout3': 0.25, 'dropout4': 0.1, 'learning_rate': 6.189848024251256e-05, 'weight_decay': 0.00019129325081199147}. Best is trial 22 with value: 0.6153846153846154.\n"
     ]
    },
    {
     "name": "stdout",
     "output_type": "stream",
     "text": [
      "Accuracy: 58.97%\n",
      "Precision: 0.4408\n",
      "Recall: 0.5317\n",
      "F1 Score: 0.4820\n",
      "Matthews Correlation Coefficient: 0.1491\n",
      "Specificity: 0.6222\n"
     ]
    },
    {
     "name": "stderr",
     "output_type": "stream",
     "text": [
      "/tmp/ipykernel_186283/1222447431.py:10: FutureWarning: suggest_loguniform has been deprecated in v3.0.0. This feature will be removed in v6.0.0. See https://github.com/optuna/optuna/releases/tag/v3.0.0. Use suggest_float(..., log=True) instead.\n",
      "  learning_rate = trial.suggest_loguniform(\"learning_rate\", 1e-5, 1e-1)\n",
      "/tmp/ipykernel_186283/1222447431.py:11: FutureWarning: suggest_loguniform has been deprecated in v3.0.0. This feature will be removed in v6.0.0. See https://github.com/optuna/optuna/releases/tag/v3.0.0. Use suggest_float(..., log=True) instead.\n",
      "  weight_decay=trial.suggest_loguniform(\"weight_decay\",1e-5,1)\n",
      "[I 2024-11-28 19:36:35,740] Trial 40 finished with value: 0.625 and parameters: {'hidden_units1': 420, 'hidden_units2': 140, 'hidden_units3': 122, 'hidden_units4': 44, 'dropout1': 0.15000000000000002, 'dropout2': 0.45000000000000007, 'dropout3': 0.30000000000000004, 'dropout4': 0.15000000000000002, 'learning_rate': 0.0007256221498572036, 'weight_decay': 0.0010102207962183923}. Best is trial 40 with value: 0.625.\n"
     ]
    },
    {
     "name": "stdout",
     "output_type": "stream",
     "text": [
      "Accuracy: 60.68%\n",
      "Precision: 0.4752\n",
      "Recall: 0.9127\n",
      "F1 Score: 0.6250\n",
      "Matthews Correlation Coefficient: 0.3610\n",
      "Specificity: 0.4356\n"
     ]
    },
    {
     "name": "stderr",
     "output_type": "stream",
     "text": [
      "/tmp/ipykernel_186283/1222447431.py:10: FutureWarning: suggest_loguniform has been deprecated in v3.0.0. This feature will be removed in v6.0.0. See https://github.com/optuna/optuna/releases/tag/v3.0.0. Use suggest_float(..., log=True) instead.\n",
      "  learning_rate = trial.suggest_loguniform(\"learning_rate\", 1e-5, 1e-1)\n",
      "/tmp/ipykernel_186283/1222447431.py:11: FutureWarning: suggest_loguniform has been deprecated in v3.0.0. This feature will be removed in v6.0.0. See https://github.com/optuna/optuna/releases/tag/v3.0.0. Use suggest_float(..., log=True) instead.\n",
      "  weight_decay=trial.suggest_loguniform(\"weight_decay\",1e-5,1)\n",
      "[I 2024-11-28 19:37:24,914] Trial 41 finished with value: 0.6218487394957983 and parameters: {'hidden_units1': 456, 'hidden_units2': 142, 'hidden_units3': 122, 'hidden_units4': 48, 'dropout1': 0.15000000000000002, 'dropout2': 0.45000000000000007, 'dropout3': 0.30000000000000004, 'dropout4': 0.2, 'learning_rate': 0.0008216031099125006, 'weight_decay': 0.0015611423171579951}. Best is trial 40 with value: 0.625.\n"
     ]
    },
    {
     "name": "stdout",
     "output_type": "stream",
     "text": [
      "Accuracy: 61.54%\n",
      "Precision: 0.4805\n",
      "Recall: 0.8810\n",
      "F1 Score: 0.6218\n",
      "Matthews Correlation Coefficient: 0.3515\n",
      "Specificity: 0.4667\n"
     ]
    },
    {
     "name": "stderr",
     "output_type": "stream",
     "text": [
      "/tmp/ipykernel_186283/1222447431.py:10: FutureWarning: suggest_loguniform has been deprecated in v3.0.0. This feature will be removed in v6.0.0. See https://github.com/optuna/optuna/releases/tag/v3.0.0. Use suggest_float(..., log=True) instead.\n",
      "  learning_rate = trial.suggest_loguniform(\"learning_rate\", 1e-5, 1e-1)\n",
      "/tmp/ipykernel_186283/1222447431.py:11: FutureWarning: suggest_loguniform has been deprecated in v3.0.0. This feature will be removed in v6.0.0. See https://github.com/optuna/optuna/releases/tag/v3.0.0. Use suggest_float(..., log=True) instead.\n",
      "  weight_decay=trial.suggest_loguniform(\"weight_decay\",1e-5,1)\n",
      "[I 2024-11-28 19:38:13,635] Trial 42 finished with value: 0.5705128205128205 and parameters: {'hidden_units1': 420, 'hidden_units2': 140, 'hidden_units3': 122, 'hidden_units4': 48, 'dropout1': 0.15000000000000002, 'dropout2': 0.5, 'dropout3': 0.35, 'dropout4': 0.15000000000000002, 'learning_rate': 0.0014539640865634707, 'weight_decay': 0.0012119601753557197}. Best is trial 40 with value: 0.625.\n"
     ]
    },
    {
     "name": "stdout",
     "output_type": "stream",
     "text": [
      "Accuracy: 61.82%\n",
      "Precision: 0.4785\n",
      "Recall: 0.7063\n",
      "F1 Score: 0.5705\n",
      "Matthews Correlation Coefficient: 0.2645\n",
      "Specificity: 0.5689\n"
     ]
    },
    {
     "name": "stderr",
     "output_type": "stream",
     "text": [
      "/tmp/ipykernel_186283/1222447431.py:10: FutureWarning: suggest_loguniform has been deprecated in v3.0.0. This feature will be removed in v6.0.0. See https://github.com/optuna/optuna/releases/tag/v3.0.0. Use suggest_float(..., log=True) instead.\n",
      "  learning_rate = trial.suggest_loguniform(\"learning_rate\", 1e-5, 1e-1)\n",
      "/tmp/ipykernel_186283/1222447431.py:11: FutureWarning: suggest_loguniform has been deprecated in v3.0.0. This feature will be removed in v6.0.0. See https://github.com/optuna/optuna/releases/tag/v3.0.0. Use suggest_float(..., log=True) instead.\n",
      "  weight_decay=trial.suggest_loguniform(\"weight_decay\",1e-5,1)\n",
      "[I 2024-11-28 19:39:01,823] Trial 43 finished with value: 0.6115702479338843 and parameters: {'hidden_units1': 456, 'hidden_units2': 150, 'hidden_units3': 114, 'hidden_units4': 46, 'dropout1': 0.2, 'dropout2': 0.45000000000000007, 'dropout3': 0.30000000000000004, 'dropout4': 0.15000000000000002, 'learning_rate': 0.0008474578236035528, 'weight_decay': 0.004844457223908641}. Best is trial 40 with value: 0.625.\n"
     ]
    },
    {
     "name": "stdout",
     "output_type": "stream",
     "text": [
      "Accuracy: 59.83%\n",
      "Precision: 0.4684\n",
      "Recall: 0.8810\n",
      "F1 Score: 0.6116\n",
      "Matthews Correlation Coefficient: 0.3288\n",
      "Specificity: 0.4400\n"
     ]
    },
    {
     "name": "stderr",
     "output_type": "stream",
     "text": [
      "/tmp/ipykernel_186283/1222447431.py:10: FutureWarning: suggest_loguniform has been deprecated in v3.0.0. This feature will be removed in v6.0.0. See https://github.com/optuna/optuna/releases/tag/v3.0.0. Use suggest_float(..., log=True) instead.\n",
      "  learning_rate = trial.suggest_loguniform(\"learning_rate\", 1e-5, 1e-1)\n",
      "/tmp/ipykernel_186283/1222447431.py:11: FutureWarning: suggest_loguniform has been deprecated in v3.0.0. This feature will be removed in v6.0.0. See https://github.com/optuna/optuna/releases/tag/v3.0.0. Use suggest_float(..., log=True) instead.\n",
      "  weight_decay=trial.suggest_loguniform(\"weight_decay\",1e-5,1)\n",
      "[I 2024-11-28 19:39:51,625] Trial 44 finished with value: 0.47368421052631576 and parameters: {'hidden_units1': 464, 'hidden_units2': 142, 'hidden_units3': 116, 'hidden_units4': 46, 'dropout1': 0.2, 'dropout2': 0.45000000000000007, 'dropout3': 0.25, 'dropout4': 0.15000000000000002, 'learning_rate': 0.005649402452090979, 'weight_decay': 0.004593868201508023}. Best is trial 40 with value: 0.625.\n"
     ]
    },
    {
     "name": "stdout",
     "output_type": "stream",
     "text": [
      "Accuracy: 60.11%\n",
      "Precision: 0.4500\n",
      "Recall: 0.5000\n",
      "F1 Score: 0.4737\n",
      "Matthews Correlation Coefficient: 0.1546\n",
      "Specificity: 0.6578\n"
     ]
    },
    {
     "name": "stderr",
     "output_type": "stream",
     "text": [
      "/tmp/ipykernel_186283/1222447431.py:10: FutureWarning: suggest_loguniform has been deprecated in v3.0.0. This feature will be removed in v6.0.0. See https://github.com/optuna/optuna/releases/tag/v3.0.0. Use suggest_float(..., log=True) instead.\n",
      "  learning_rate = trial.suggest_loguniform(\"learning_rate\", 1e-5, 1e-1)\n",
      "/tmp/ipykernel_186283/1222447431.py:11: FutureWarning: suggest_loguniform has been deprecated in v3.0.0. This feature will be removed in v6.0.0. See https://github.com/optuna/optuna/releases/tag/v3.0.0. Use suggest_float(..., log=True) instead.\n",
      "  weight_decay=trial.suggest_loguniform(\"weight_decay\",1e-5,1)\n",
      "[I 2024-11-28 19:40:40,701] Trial 45 finished with value: 0.46956521739130436 and parameters: {'hidden_units1': 494, 'hidden_units2': 154, 'hidden_units3': 112, 'hidden_units4': 52, 'dropout1': 0.25, 'dropout2': 0.5, 'dropout3': 0.35, 'dropout4': 0.1, 'learning_rate': 0.0008214572093760762, 'weight_decay': 0.07581063024032382}. Best is trial 40 with value: 0.625.\n"
     ]
    },
    {
     "name": "stdout",
     "output_type": "stream",
     "text": [
      "Accuracy: 65.24%\n",
      "Precision: 0.5192\n",
      "Recall: 0.4286\n",
      "F1 Score: 0.4696\n",
      "Matthews Correlation Coefficient: 0.2168\n",
      "Specificity: 0.7778\n"
     ]
    },
    {
     "name": "stderr",
     "output_type": "stream",
     "text": [
      "/tmp/ipykernel_186283/1222447431.py:10: FutureWarning: suggest_loguniform has been deprecated in v3.0.0. This feature will be removed in v6.0.0. See https://github.com/optuna/optuna/releases/tag/v3.0.0. Use suggest_float(..., log=True) instead.\n",
      "  learning_rate = trial.suggest_loguniform(\"learning_rate\", 1e-5, 1e-1)\n",
      "/tmp/ipykernel_186283/1222447431.py:11: FutureWarning: suggest_loguniform has been deprecated in v3.0.0. This feature will be removed in v6.0.0. See https://github.com/optuna/optuna/releases/tag/v3.0.0. Use suggest_float(..., log=True) instead.\n",
      "  weight_decay=trial.suggest_loguniform(\"weight_decay\",1e-5,1)\n",
      "[I 2024-11-28 19:41:29,658] Trial 46 finished with value: 0.20606060606060606 and parameters: {'hidden_units1': 452, 'hidden_units2': 160, 'hidden_units3': 100, 'hidden_units4': 42, 'dropout1': 0.25, 'dropout2': 0.45000000000000007, 'dropout3': 0.25, 'dropout4': 0.2, 'learning_rate': 0.004610233877184253, 'weight_decay': 0.23112801361752527}. Best is trial 40 with value: 0.625.\n"
     ]
    },
    {
     "name": "stdout",
     "output_type": "stream",
     "text": [
      "Accuracy: 62.68%\n",
      "Precision: 0.4359\n",
      "Recall: 0.1349\n",
      "F1 Score: 0.2061\n",
      "Matthews Correlation Coefficient: 0.0567\n",
      "Specificity: 0.9022\n"
     ]
    },
    {
     "name": "stderr",
     "output_type": "stream",
     "text": [
      "/tmp/ipykernel_186283/1222447431.py:10: FutureWarning: suggest_loguniform has been deprecated in v3.0.0. This feature will be removed in v6.0.0. See https://github.com/optuna/optuna/releases/tag/v3.0.0. Use suggest_float(..., log=True) instead.\n",
      "  learning_rate = trial.suggest_loguniform(\"learning_rate\", 1e-5, 1e-1)\n",
      "/tmp/ipykernel_186283/1222447431.py:11: FutureWarning: suggest_loguniform has been deprecated in v3.0.0. This feature will be removed in v6.0.0. See https://github.com/optuna/optuna/releases/tag/v3.0.0. Use suggest_float(..., log=True) instead.\n",
      "  weight_decay=trial.suggest_loguniform(\"weight_decay\",1e-5,1)\n",
      "[I 2024-11-28 19:42:18,981] Trial 47 finished with value: 0.49193548387096775 and parameters: {'hidden_units1': 494, 'hidden_units2': 148, 'hidden_units3': 108, 'hidden_units4': 58, 'dropout1': 0.2, 'dropout2': 0.5, 'dropout3': 0.4, 'dropout4': 0.15000000000000002, 'learning_rate': 0.007838907208128567, 'weight_decay': 0.01784533439639849}. Best is trial 40 with value: 0.625.\n"
     ]
    },
    {
     "name": "stdout",
     "output_type": "stream",
     "text": [
      "Accuracy: 64.10%\n",
      "Precision: 0.5000\n",
      "Recall: 0.4841\n",
      "F1 Score: 0.4919\n",
      "Matthews Correlation Coefficient: 0.2146\n",
      "Specificity: 0.7289\n"
     ]
    },
    {
     "name": "stderr",
     "output_type": "stream",
     "text": [
      "/tmp/ipykernel_186283/1222447431.py:10: FutureWarning: suggest_loguniform has been deprecated in v3.0.0. This feature will be removed in v6.0.0. See https://github.com/optuna/optuna/releases/tag/v3.0.0. Use suggest_float(..., log=True) instead.\n",
      "  learning_rate = trial.suggest_loguniform(\"learning_rate\", 1e-5, 1e-1)\n",
      "/tmp/ipykernel_186283/1222447431.py:11: FutureWarning: suggest_loguniform has been deprecated in v3.0.0. This feature will be removed in v6.0.0. See https://github.com/optuna/optuna/releases/tag/v3.0.0. Use suggest_float(..., log=True) instead.\n",
      "  weight_decay=trial.suggest_loguniform(\"weight_decay\",1e-5,1)\n",
      "[I 2024-11-28 19:43:08,127] Trial 48 finished with value: 0.5296167247386759 and parameters: {'hidden_units1': 396, 'hidden_units2': 178, 'hidden_units3': 114, 'hidden_units4': 48, 'dropout1': 0.15000000000000002, 'dropout2': 0.45000000000000007, 'dropout3': 0.30000000000000004, 'dropout4': 0.1, 'learning_rate': 0.0030747719941483453, 'weight_decay': 0.0022856615606816713}. Best is trial 40 with value: 0.625.\n"
     ]
    },
    {
     "name": "stdout",
     "output_type": "stream",
     "text": [
      "Accuracy: 61.54%\n",
      "Precision: 0.4720\n",
      "Recall: 0.6032\n",
      "F1 Score: 0.5296\n",
      "Matthews Correlation Coefficient: 0.2170\n",
      "Specificity: 0.6222\n"
     ]
    },
    {
     "name": "stderr",
     "output_type": "stream",
     "text": [
      "/tmp/ipykernel_186283/1222447431.py:10: FutureWarning: suggest_loguniform has been deprecated in v3.0.0. This feature will be removed in v6.0.0. See https://github.com/optuna/optuna/releases/tag/v3.0.0. Use suggest_float(..., log=True) instead.\n",
      "  learning_rate = trial.suggest_loguniform(\"learning_rate\", 1e-5, 1e-1)\n",
      "/tmp/ipykernel_186283/1222447431.py:11: FutureWarning: suggest_loguniform has been deprecated in v3.0.0. This feature will be removed in v6.0.0. See https://github.com/optuna/optuna/releases/tag/v3.0.0. Use suggest_float(..., log=True) instead.\n",
      "  weight_decay=trial.suggest_loguniform(\"weight_decay\",1e-5,1)\n",
      "[I 2024-11-28 19:43:56,647] Trial 49 finished with value: 0.5351170568561873 and parameters: {'hidden_units1': 448, 'hidden_units2': 138, 'hidden_units3': 118, 'hidden_units4': 58, 'dropout1': 0.15000000000000002, 'dropout2': 0.5, 'dropout3': 0.1, 'dropout4': 0.15000000000000002, 'learning_rate': 0.0018763411430318358, 'weight_decay': 0.0057307527314613095}. Best is trial 40 with value: 0.625.\n"
     ]
    },
    {
     "name": "stdout",
     "output_type": "stream",
     "text": [
      "Accuracy: 60.40%\n",
      "Precision: 0.4624\n",
      "Recall: 0.6349\n",
      "F1 Score: 0.5351\n",
      "Matthews Correlation Coefficient: 0.2126\n",
      "Specificity: 0.5867\n"
     ]
    },
    {
     "name": "stderr",
     "output_type": "stream",
     "text": [
      "/tmp/ipykernel_186283/1222447431.py:10: FutureWarning: suggest_loguniform has been deprecated in v3.0.0. This feature will be removed in v6.0.0. See https://github.com/optuna/optuna/releases/tag/v3.0.0. Use suggest_float(..., log=True) instead.\n",
      "  learning_rate = trial.suggest_loguniform(\"learning_rate\", 1e-5, 1e-1)\n",
      "/tmp/ipykernel_186283/1222447431.py:11: FutureWarning: suggest_loguniform has been deprecated in v3.0.0. This feature will be removed in v6.0.0. See https://github.com/optuna/optuna/releases/tag/v3.0.0. Use suggest_float(..., log=True) instead.\n",
      "  weight_decay=trial.suggest_loguniform(\"weight_decay\",1e-5,1)\n",
      "[I 2024-11-28 19:44:45,745] Trial 50 finished with value: 0.6157894736842106 and parameters: {'hidden_units1': 478, 'hidden_units2': 128, 'hidden_units3': 64, 'hidden_units4': 38, 'dropout1': 0.5, 'dropout2': 0.45000000000000007, 'dropout3': 0.4, 'dropout4': 0.2, 'learning_rate': 0.0005457545574765751, 'weight_decay': 0.39387551517752234}. Best is trial 40 with value: 0.625.\n"
     ]
    },
    {
     "name": "stdout",
     "output_type": "stream",
     "text": [
      "Accuracy: 58.40%\n",
      "Precision: 0.4606\n",
      "Recall: 0.9286\n",
      "F1 Score: 0.6158\n",
      "Matthews Correlation Coefficient: 0.3429\n",
      "Specificity: 0.3911\n"
     ]
    },
    {
     "name": "stderr",
     "output_type": "stream",
     "text": [
      "/tmp/ipykernel_186283/1222447431.py:10: FutureWarning: suggest_loguniform has been deprecated in v3.0.0. This feature will be removed in v6.0.0. See https://github.com/optuna/optuna/releases/tag/v3.0.0. Use suggest_float(..., log=True) instead.\n",
      "  learning_rate = trial.suggest_loguniform(\"learning_rate\", 1e-5, 1e-1)\n",
      "/tmp/ipykernel_186283/1222447431.py:11: FutureWarning: suggest_loguniform has been deprecated in v3.0.0. This feature will be removed in v6.0.0. See https://github.com/optuna/optuna/releases/tag/v3.0.0. Use suggest_float(..., log=True) instead.\n",
      "  weight_decay=trial.suggest_loguniform(\"weight_decay\",1e-5,1)\n",
      "[I 2024-11-28 19:45:36,083] Trial 51 finished with value: 0.4406779661016949 and parameters: {'hidden_units1': 474, 'hidden_units2': 128, 'hidden_units3': 70, 'hidden_units4': 38, 'dropout1': 0.45000000000000007, 'dropout2': 0.45000000000000007, 'dropout3': 0.45000000000000007, 'dropout4': 0.2, 'learning_rate': 0.0006281308615316914, 'weight_decay': 0.4216443153254138}. Best is trial 40 with value: 0.625.\n"
     ]
    },
    {
     "name": "stdout",
     "output_type": "stream",
     "text": [
      "Accuracy: 62.39%\n",
      "Precision: 0.4727\n",
      "Recall: 0.4127\n",
      "F1 Score: 0.4407\n",
      "Matthews Correlation Coefficient: 0.1602\n",
      "Specificity: 0.7422\n"
     ]
    },
    {
     "name": "stderr",
     "output_type": "stream",
     "text": [
      "/tmp/ipykernel_186283/1222447431.py:10: FutureWarning: suggest_loguniform has been deprecated in v3.0.0. This feature will be removed in v6.0.0. See https://github.com/optuna/optuna/releases/tag/v3.0.0. Use suggest_float(..., log=True) instead.\n",
      "  learning_rate = trial.suggest_loguniform(\"learning_rate\", 1e-5, 1e-1)\n",
      "/tmp/ipykernel_186283/1222447431.py:11: FutureWarning: suggest_loguniform has been deprecated in v3.0.0. This feature will be removed in v6.0.0. See https://github.com/optuna/optuna/releases/tag/v3.0.0. Use suggest_float(..., log=True) instead.\n",
      "  weight_decay=trial.suggest_loguniform(\"weight_decay\",1e-5,1)\n",
      "[I 2024-11-28 19:46:26,459] Trial 52 finished with value: 0.5 and parameters: {'hidden_units1': 460, 'hidden_units2': 134, 'hidden_units3': 64, 'hidden_units4': 44, 'dropout1': 0.5, 'dropout2': 0.5, 'dropout3': 0.4, 'dropout4': 0.15000000000000002, 'learning_rate': 0.0004125018900763435, 'weight_decay': 0.13555503912239858}. Best is trial 40 with value: 0.625.\n"
     ]
    },
    {
     "name": "stdout",
     "output_type": "stream",
     "text": [
      "Accuracy: 59.54%\n",
      "Precision: 0.4494\n",
      "Recall: 0.5635\n",
      "F1 Score: 0.5000\n",
      "Matthews Correlation Coefficient: 0.1705\n",
      "Specificity: 0.6133\n"
     ]
    },
    {
     "name": "stderr",
     "output_type": "stream",
     "text": [
      "/tmp/ipykernel_186283/1222447431.py:10: FutureWarning: suggest_loguniform has been deprecated in v3.0.0. This feature will be removed in v6.0.0. See https://github.com/optuna/optuna/releases/tag/v3.0.0. Use suggest_float(..., log=True) instead.\n",
      "  learning_rate = trial.suggest_loguniform(\"learning_rate\", 1e-5, 1e-1)\n",
      "/tmp/ipykernel_186283/1222447431.py:11: FutureWarning: suggest_loguniform has been deprecated in v3.0.0. This feature will be removed in v6.0.0. See https://github.com/optuna/optuna/releases/tag/v3.0.0. Use suggest_float(..., log=True) instead.\n",
      "  weight_decay=trial.suggest_loguniform(\"weight_decay\",1e-5,1)\n",
      "[I 2024-11-28 19:47:15,952] Trial 53 finished with value: 0.4166666666666667 and parameters: {'hidden_units1': 436, 'hidden_units2': 142, 'hidden_units3': 80, 'hidden_units4': 50, 'dropout1': 0.4, 'dropout2': 0.45000000000000007, 'dropout3': 0.2, 'dropout4': 0.2, 'learning_rate': 0.0010970772501881082, 'weight_decay': 0.5926743822070959}. Best is trial 40 with value: 0.625.\n"
     ]
    },
    {
     "name": "stdout",
     "output_type": "stream",
     "text": [
      "Accuracy: 64.10%\n",
      "Precision: 0.5000\n",
      "Recall: 0.3571\n",
      "F1 Score: 0.4167\n",
      "Matthews Correlation Coefficient: 0.1726\n",
      "Specificity: 0.8000\n"
     ]
    },
    {
     "name": "stderr",
     "output_type": "stream",
     "text": [
      "/tmp/ipykernel_186283/1222447431.py:10: FutureWarning: suggest_loguniform has been deprecated in v3.0.0. This feature will be removed in v6.0.0. See https://github.com/optuna/optuna/releases/tag/v3.0.0. Use suggest_float(..., log=True) instead.\n",
      "  learning_rate = trial.suggest_loguniform(\"learning_rate\", 1e-5, 1e-1)\n",
      "/tmp/ipykernel_186283/1222447431.py:11: FutureWarning: suggest_loguniform has been deprecated in v3.0.0. This feature will be removed in v6.0.0. See https://github.com/optuna/optuna/releases/tag/v3.0.0. Use suggest_float(..., log=True) instead.\n",
      "  weight_decay=trial.suggest_loguniform(\"weight_decay\",1e-5,1)\n",
      "[I 2024-11-28 19:48:03,799] Trial 54 finished with value: 0.6091644204851752 and parameters: {'hidden_units1': 492, 'hidden_units2': 152, 'hidden_units3': 72, 'hidden_units4': 44, 'dropout1': 0.2, 'dropout2': 0.4, 'dropout3': 0.35, 'dropout4': 0.2, 'learning_rate': 0.00012293202250904993, 'weight_decay': 0.35716787410897405}. Best is trial 40 with value: 0.625.\n"
     ]
    },
    {
     "name": "stdout",
     "output_type": "stream",
     "text": [
      "Accuracy: 58.69%\n",
      "Precision: 0.4612\n",
      "Recall: 0.8968\n",
      "F1 Score: 0.6092\n",
      "Matthews Correlation Coefficient: 0.3241\n",
      "Specificity: 0.4133\n"
     ]
    },
    {
     "name": "stderr",
     "output_type": "stream",
     "text": [
      "/tmp/ipykernel_186283/1222447431.py:10: FutureWarning: suggest_loguniform has been deprecated in v3.0.0. This feature will be removed in v6.0.0. See https://github.com/optuna/optuna/releases/tag/v3.0.0. Use suggest_float(..., log=True) instead.\n",
      "  learning_rate = trial.suggest_loguniform(\"learning_rate\", 1e-5, 1e-1)\n",
      "/tmp/ipykernel_186283/1222447431.py:11: FutureWarning: suggest_loguniform has been deprecated in v3.0.0. This feature will be removed in v6.0.0. See https://github.com/optuna/optuna/releases/tag/v3.0.0. Use suggest_float(..., log=True) instead.\n",
      "  weight_decay=trial.suggest_loguniform(\"weight_decay\",1e-5,1)\n",
      "[I 2024-11-28 19:48:53,553] Trial 55 finished with value: 0.5919540229885057 and parameters: {'hidden_units1': 484, 'hidden_units2': 132, 'hidden_units3': 104, 'hidden_units4': 38, 'dropout1': 0.35, 'dropout2': 0.30000000000000004, 'dropout3': 0.30000000000000004, 'dropout4': 0.15000000000000002, 'learning_rate': 0.0006295452814225512, 'weight_decay': 0.000954506632135161}. Best is trial 40 with value: 0.625.\n"
     ]
    },
    {
     "name": "stdout",
     "output_type": "stream",
     "text": [
      "Accuracy: 59.54%\n",
      "Precision: 0.4640\n",
      "Recall: 0.8175\n",
      "F1 Score: 0.5920\n",
      "Matthews Correlation Coefficient: 0.2871\n",
      "Specificity: 0.4711\n"
     ]
    },
    {
     "name": "stderr",
     "output_type": "stream",
     "text": [
      "/tmp/ipykernel_186283/1222447431.py:10: FutureWarning: suggest_loguniform has been deprecated in v3.0.0. This feature will be removed in v6.0.0. See https://github.com/optuna/optuna/releases/tag/v3.0.0. Use suggest_float(..., log=True) instead.\n",
      "  learning_rate = trial.suggest_loguniform(\"learning_rate\", 1e-5, 1e-1)\n",
      "/tmp/ipykernel_186283/1222447431.py:11: FutureWarning: suggest_loguniform has been deprecated in v3.0.0. This feature will be removed in v6.0.0. See https://github.com/optuna/optuna/releases/tag/v3.0.0. Use suggest_float(..., log=True) instead.\n",
      "  weight_decay=trial.suggest_loguniform(\"weight_decay\",1e-5,1)\n",
      "[I 2024-11-28 19:49:42,971] Trial 56 finished with value: 0.5625 and parameters: {'hidden_units1': 420, 'hidden_units2': 140, 'hidden_units3': 110, 'hidden_units4': 54, 'dropout1': 0.45000000000000007, 'dropout2': 0.5, 'dropout3': 0.5, 'dropout4': 0.25, 'learning_rate': 0.0003756599660136297, 'weight_decay': 0.10236525675194298}. Best is trial 40 with value: 0.625.\n"
     ]
    },
    {
     "name": "stdout",
     "output_type": "stream",
     "text": [
      "Accuracy: 60.11%\n",
      "Precision: 0.4639\n",
      "Recall: 0.7143\n",
      "F1 Score: 0.5625\n",
      "Matthews Correlation Coefficient: 0.2432\n",
      "Specificity: 0.5378\n"
     ]
    },
    {
     "name": "stderr",
     "output_type": "stream",
     "text": [
      "/tmp/ipykernel_186283/1222447431.py:10: FutureWarning: suggest_loguniform has been deprecated in v3.0.0. This feature will be removed in v6.0.0. See https://github.com/optuna/optuna/releases/tag/v3.0.0. Use suggest_float(..., log=True) instead.\n",
      "  learning_rate = trial.suggest_loguniform(\"learning_rate\", 1e-5, 1e-1)\n",
      "/tmp/ipykernel_186283/1222447431.py:11: FutureWarning: suggest_loguniform has been deprecated in v3.0.0. This feature will be removed in v6.0.0. See https://github.com/optuna/optuna/releases/tag/v3.0.0. Use suggest_float(..., log=True) instead.\n",
      "  weight_decay=trial.suggest_loguniform(\"weight_decay\",1e-5,1)\n",
      "[I 2024-11-28 19:50:32,129] Trial 57 finished with value: 0.5247148288973384 and parameters: {'hidden_units1': 458, 'hidden_units2': 146, 'hidden_units3': 124, 'hidden_units4': 46, 'dropout1': 0.5, 'dropout2': 0.15000000000000002, 'dropout3': 0.15000000000000002, 'dropout4': 0.2, 'learning_rate': 0.0009755912306647305, 'weight_decay': 0.021800822134829822}. Best is trial 40 with value: 0.625.\n"
     ]
    },
    {
     "name": "stdout",
     "output_type": "stream",
     "text": [
      "Accuracy: 64.39%\n",
      "Precision: 0.5036\n",
      "Recall: 0.5476\n",
      "F1 Score: 0.5247\n",
      "Matthews Correlation Coefficient: 0.2413\n",
      "Specificity: 0.6978\n"
     ]
    },
    {
     "name": "stderr",
     "output_type": "stream",
     "text": [
      "/tmp/ipykernel_186283/1222447431.py:10: FutureWarning: suggest_loguniform has been deprecated in v3.0.0. This feature will be removed in v6.0.0. See https://github.com/optuna/optuna/releases/tag/v3.0.0. Use suggest_float(..., log=True) instead.\n",
      "  learning_rate = trial.suggest_loguniform(\"learning_rate\", 1e-5, 1e-1)\n",
      "/tmp/ipykernel_186283/1222447431.py:11: FutureWarning: suggest_loguniform has been deprecated in v3.0.0. This feature will be removed in v6.0.0. See https://github.com/optuna/optuna/releases/tag/v3.0.0. Use suggest_float(..., log=True) instead.\n",
      "  weight_decay=trial.suggest_loguniform(\"weight_decay\",1e-5,1)\n",
      "[I 2024-11-28 19:51:21,110] Trial 58 finished with value: 0.30851063829787234 and parameters: {'hidden_units1': 440, 'hidden_units2': 136, 'hidden_units3': 74, 'hidden_units4': 42, 'dropout1': 0.30000000000000004, 'dropout2': 0.25, 'dropout3': 0.25, 'dropout4': 0.25, 'learning_rate': 0.0017395476323891592, 'weight_decay': 0.8036932168812536}. Best is trial 40 with value: 0.625.\n"
     ]
    },
    {
     "name": "stdout",
     "output_type": "stream",
     "text": [
      "Accuracy: 62.96%\n",
      "Precision: 0.4677\n",
      "Recall: 0.2302\n",
      "F1 Score: 0.3085\n",
      "Matthews Correlation Coefficient: 0.1050\n",
      "Specificity: 0.8533\n"
     ]
    },
    {
     "name": "stderr",
     "output_type": "stream",
     "text": [
      "/tmp/ipykernel_186283/1222447431.py:10: FutureWarning: suggest_loguniform has been deprecated in v3.0.0. This feature will be removed in v6.0.0. See https://github.com/optuna/optuna/releases/tag/v3.0.0. Use suggest_float(..., log=True) instead.\n",
      "  learning_rate = trial.suggest_loguniform(\"learning_rate\", 1e-5, 1e-1)\n",
      "/tmp/ipykernel_186283/1222447431.py:11: FutureWarning: suggest_loguniform has been deprecated in v3.0.0. This feature will be removed in v6.0.0. See https://github.com/optuna/optuna/releases/tag/v3.0.0. Use suggest_float(..., log=True) instead.\n",
      "  weight_decay=trial.suggest_loguniform(\"weight_decay\",1e-5,1)\n",
      "[I 2024-11-28 19:52:10,900] Trial 59 finished with value: 0.3364485981308411 and parameters: {'hidden_units1': 506, 'hidden_units2': 130, 'hidden_units3': 92, 'hidden_units4': 36, 'dropout1': 0.4, 'dropout2': 0.4, 'dropout3': 0.4, 'dropout4': 0.1, 'learning_rate': 0.00017910885143167962, 'weight_decay': 0.06035437594223065}. Best is trial 40 with value: 0.625.\n"
     ]
    },
    {
     "name": "stdout",
     "output_type": "stream",
     "text": [
      "Accuracy: 59.54%\n",
      "Precision: 0.4091\n",
      "Recall: 0.2857\n",
      "F1 Score: 0.3364\n",
      "Matthews Correlation Coefficient: 0.0604\n",
      "Specificity: 0.7689\n"
     ]
    },
    {
     "name": "stderr",
     "output_type": "stream",
     "text": [
      "/tmp/ipykernel_186283/1222447431.py:10: FutureWarning: suggest_loguniform has been deprecated in v3.0.0. This feature will be removed in v6.0.0. See https://github.com/optuna/optuna/releases/tag/v3.0.0. Use suggest_float(..., log=True) instead.\n",
      "  learning_rate = trial.suggest_loguniform(\"learning_rate\", 1e-5, 1e-1)\n",
      "/tmp/ipykernel_186283/1222447431.py:11: FutureWarning: suggest_loguniform has been deprecated in v3.0.0. This feature will be removed in v6.0.0. See https://github.com/optuna/optuna/releases/tag/v3.0.0. Use suggest_float(..., log=True) instead.\n",
      "  weight_decay=trial.suggest_loguniform(\"weight_decay\",1e-5,1)\n",
      "[I 2024-11-28 19:52:58,688] Trial 60 finished with value: 0.33653846153846156 and parameters: {'hidden_units1': 406, 'hidden_units2': 186, 'hidden_units3': 106, 'hidden_units4': 50, 'dropout1': 0.15000000000000002, 'dropout2': 0.45000000000000007, 'dropout3': 0.2, 'dropout4': 0.15000000000000002, 'learning_rate': 7.711871190301056e-05, 'weight_decay': 0.001958427287222605}. Best is trial 40 with value: 0.625.\n"
     ]
    },
    {
     "name": "stdout",
     "output_type": "stream",
     "text": [
      "Accuracy: 60.68%\n",
      "Precision: 0.4268\n",
      "Recall: 0.2778\n",
      "F1 Score: 0.3365\n",
      "Matthews Correlation Coefficient: 0.0781\n",
      "Specificity: 0.7911\n"
     ]
    },
    {
     "name": "stderr",
     "output_type": "stream",
     "text": [
      "/tmp/ipykernel_186283/1222447431.py:10: FutureWarning: suggest_loguniform has been deprecated in v3.0.0. This feature will be removed in v6.0.0. See https://github.com/optuna/optuna/releases/tag/v3.0.0. Use suggest_float(..., log=True) instead.\n",
      "  learning_rate = trial.suggest_loguniform(\"learning_rate\", 1e-5, 1e-1)\n",
      "/tmp/ipykernel_186283/1222447431.py:11: FutureWarning: suggest_loguniform has been deprecated in v3.0.0. This feature will be removed in v6.0.0. See https://github.com/optuna/optuna/releases/tag/v3.0.0. Use suggest_float(..., log=True) instead.\n",
      "  weight_decay=trial.suggest_loguniform(\"weight_decay\",1e-5,1)\n",
      "[I 2024-11-28 19:53:49,051] Trial 61 finished with value: 0.5034013605442177 and parameters: {'hidden_units1': 490, 'hidden_units2': 152, 'hidden_units3': 68, 'hidden_units4': 44, 'dropout1': 0.2, 'dropout2': 0.4, 'dropout3': 0.35, 'dropout4': 0.2, 'learning_rate': 0.00011172639220003899, 'weight_decay': 0.39760017614720944}. Best is trial 40 with value: 0.625.\n"
     ]
    },
    {
     "name": "stdout",
     "output_type": "stream",
     "text": [
      "Accuracy: 58.40%\n",
      "Precision: 0.4405\n",
      "Recall: 0.5873\n",
      "F1 Score: 0.5034\n",
      "Matthews Correlation Coefficient: 0.1628\n",
      "Specificity: 0.5822\n"
     ]
    },
    {
     "name": "stderr",
     "output_type": "stream",
     "text": [
      "/tmp/ipykernel_186283/1222447431.py:10: FutureWarning: suggest_loguniform has been deprecated in v3.0.0. This feature will be removed in v6.0.0. See https://github.com/optuna/optuna/releases/tag/v3.0.0. Use suggest_float(..., log=True) instead.\n",
      "  learning_rate = trial.suggest_loguniform(\"learning_rate\", 1e-5, 1e-1)\n",
      "/tmp/ipykernel_186283/1222447431.py:11: FutureWarning: suggest_loguniform has been deprecated in v3.0.0. This feature will be removed in v6.0.0. See https://github.com/optuna/optuna/releases/tag/v3.0.0. Use suggest_float(..., log=True) instead.\n",
      "  weight_decay=trial.suggest_loguniform(\"weight_decay\",1e-5,1)\n",
      "[I 2024-11-28 19:54:38,731] Trial 62 finished with value: 0.5988372093023255 and parameters: {'hidden_units1': 466, 'hidden_units2': 152, 'hidden_units3': 64, 'hidden_units4': 46, 'dropout1': 0.2, 'dropout2': 0.35, 'dropout3': 0.35, 'dropout4': 0.2, 'learning_rate': 0.00014409592924146216, 'weight_decay': 0.26321273046472604}. Best is trial 40 with value: 0.625.\n"
     ]
    },
    {
     "name": "stdout",
     "output_type": "stream",
     "text": [
      "Accuracy: 60.68%\n",
      "Precision: 0.4725\n",
      "Recall: 0.8175\n",
      "F1 Score: 0.5988\n",
      "Matthews Correlation Coefficient: 0.3029\n",
      "Specificity: 0.4889\n"
     ]
    },
    {
     "name": "stderr",
     "output_type": "stream",
     "text": [
      "/tmp/ipykernel_186283/1222447431.py:10: FutureWarning: suggest_loguniform has been deprecated in v3.0.0. This feature will be removed in v6.0.0. See https://github.com/optuna/optuna/releases/tag/v3.0.0. Use suggest_float(..., log=True) instead.\n",
      "  learning_rate = trial.suggest_loguniform(\"learning_rate\", 1e-5, 1e-1)\n",
      "/tmp/ipykernel_186283/1222447431.py:11: FutureWarning: suggest_loguniform has been deprecated in v3.0.0. This feature will be removed in v6.0.0. See https://github.com/optuna/optuna/releases/tag/v3.0.0. Use suggest_float(..., log=True) instead.\n",
      "  weight_decay=trial.suggest_loguniform(\"weight_decay\",1e-5,1)\n",
      "[I 2024-11-28 19:55:27,613] Trial 63 finished with value: 0.5741324921135647 and parameters: {'hidden_units1': 502, 'hidden_units2': 168, 'hidden_units3': 70, 'hidden_units4': 42, 'dropout1': 0.2, 'dropout2': 0.4, 'dropout3': 0.30000000000000004, 'dropout4': 0.2, 'learning_rate': 0.0004939446265705546, 'weight_decay': 0.04754779749005179}. Best is trial 40 with value: 0.625.\n"
     ]
    },
    {
     "name": "stdout",
     "output_type": "stream",
     "text": [
      "Accuracy: 61.54%\n",
      "Precision: 0.4764\n",
      "Recall: 0.7222\n",
      "F1 Score: 0.5741\n",
      "Matthews Correlation Coefficient: 0.2675\n",
      "Specificity: 0.5556\n"
     ]
    },
    {
     "name": "stderr",
     "output_type": "stream",
     "text": [
      "/tmp/ipykernel_186283/1222447431.py:10: FutureWarning: suggest_loguniform has been deprecated in v3.0.0. This feature will be removed in v6.0.0. See https://github.com/optuna/optuna/releases/tag/v3.0.0. Use suggest_float(..., log=True) instead.\n",
      "  learning_rate = trial.suggest_loguniform(\"learning_rate\", 1e-5, 1e-1)\n",
      "/tmp/ipykernel_186283/1222447431.py:11: FutureWarning: suggest_loguniform has been deprecated in v3.0.0. This feature will be removed in v6.0.0. See https://github.com/optuna/optuna/releases/tag/v3.0.0. Use suggest_float(..., log=True) instead.\n",
      "  weight_decay=trial.suggest_loguniform(\"weight_decay\",1e-5,1)\n",
      "[I 2024-11-28 19:56:16,777] Trial 64 finished with value: 0.48333333333333334 and parameters: {'hidden_units1': 476, 'hidden_units2': 160, 'hidden_units3': 76, 'hidden_units4': 56, 'dropout1': 0.15000000000000002, 'dropout2': 0.1, 'dropout3': 0.35, 'dropout4': 0.5, 'learning_rate': 3.170643490699471e-05, 'weight_decay': 0.14494706687981873}. Best is trial 40 with value: 0.625.\n"
     ]
    },
    {
     "name": "stdout",
     "output_type": "stream",
     "text": [
      "Accuracy: 64.67%\n",
      "Precision: 0.5088\n",
      "Recall: 0.4603\n",
      "F1 Score: 0.4833\n",
      "Matthews Correlation Coefficient: 0.2166\n",
      "Specificity: 0.7511\n"
     ]
    },
    {
     "name": "stderr",
     "output_type": "stream",
     "text": [
      "/tmp/ipykernel_186283/1222447431.py:10: FutureWarning: suggest_loguniform has been deprecated in v3.0.0. This feature will be removed in v6.0.0. See https://github.com/optuna/optuna/releases/tag/v3.0.0. Use suggest_float(..., log=True) instead.\n",
      "  learning_rate = trial.suggest_loguniform(\"learning_rate\", 1e-5, 1e-1)\n",
      "/tmp/ipykernel_186283/1222447431.py:11: FutureWarning: suggest_loguniform has been deprecated in v3.0.0. This feature will be removed in v6.0.0. See https://github.com/optuna/optuna/releases/tag/v3.0.0. Use suggest_float(..., log=True) instead.\n",
      "  weight_decay=trial.suggest_loguniform(\"weight_decay\",1e-5,1)\n",
      "[I 2024-11-28 19:57:05,751] Trial 65 finished with value: 0.5965909090909091 and parameters: {'hidden_units1': 512, 'hidden_units2': 156, 'hidden_units3': 66, 'hidden_units4': 30, 'dropout1': 0.25, 'dropout2': 0.45000000000000007, 'dropout3': 0.4, 'dropout4': 0.25, 'learning_rate': 0.0002937647289811706, 'weight_decay': 0.3678049725699216}. Best is trial 40 with value: 0.625.\n"
     ]
    },
    {
     "name": "stdout",
     "output_type": "stream",
     "text": [
      "Accuracy: 59.54%\n",
      "Precision: 0.4646\n",
      "Recall: 0.8333\n",
      "F1 Score: 0.5966\n",
      "Matthews Correlation Coefficient: 0.2961\n",
      "Specificity: 0.4622\n"
     ]
    },
    {
     "name": "stderr",
     "output_type": "stream",
     "text": [
      "/tmp/ipykernel_186283/1222447431.py:10: FutureWarning: suggest_loguniform has been deprecated in v3.0.0. This feature will be removed in v6.0.0. See https://github.com/optuna/optuna/releases/tag/v3.0.0. Use suggest_float(..., log=True) instead.\n",
      "  learning_rate = trial.suggest_loguniform(\"learning_rate\", 1e-5, 1e-1)\n",
      "/tmp/ipykernel_186283/1222447431.py:11: FutureWarning: suggest_loguniform has been deprecated in v3.0.0. This feature will be removed in v6.0.0. See https://github.com/optuna/optuna/releases/tag/v3.0.0. Use suggest_float(..., log=True) instead.\n",
      "  weight_decay=trial.suggest_loguniform(\"weight_decay\",1e-5,1)\n",
      "[I 2024-11-28 19:57:55,445] Trial 66 finished with value: 0.5868263473053892 and parameters: {'hidden_units1': 430, 'hidden_units2': 148, 'hidden_units3': 74, 'hidden_units4': 48, 'dropout1': 0.2, 'dropout2': 0.4, 'dropout3': 0.30000000000000004, 'dropout4': 0.15000000000000002, 'learning_rate': 0.00012609704325737138, 'weight_decay': 0.0036128488251957933}. Best is trial 40 with value: 0.625.\n"
     ]
    },
    {
     "name": "stdout",
     "output_type": "stream",
     "text": [
      "Accuracy: 60.68%\n",
      "Precision: 0.4712\n",
      "Recall: 0.7778\n",
      "F1 Score: 0.5868\n",
      "Matthews Correlation Coefficient: 0.2820\n",
      "Specificity: 0.5111\n"
     ]
    },
    {
     "name": "stderr",
     "output_type": "stream",
     "text": [
      "/tmp/ipykernel_186283/1222447431.py:10: FutureWarning: suggest_loguniform has been deprecated in v3.0.0. This feature will be removed in v6.0.0. See https://github.com/optuna/optuna/releases/tag/v3.0.0. Use suggest_float(..., log=True) instead.\n",
      "  learning_rate = trial.suggest_loguniform(\"learning_rate\", 1e-5, 1e-1)\n",
      "/tmp/ipykernel_186283/1222447431.py:11: FutureWarning: suggest_loguniform has been deprecated in v3.0.0. This feature will be removed in v6.0.0. See https://github.com/optuna/optuna/releases/tag/v3.0.0. Use suggest_float(..., log=True) instead.\n",
      "  weight_decay=trial.suggest_loguniform(\"weight_decay\",1e-5,1)\n",
      "[I 2024-11-28 19:58:45,081] Trial 67 finished with value: 0.5333333333333333 and parameters: {'hidden_units1': 454, 'hidden_units2': 144, 'hidden_units3': 120, 'hidden_units4': 62, 'dropout1': 0.15000000000000002, 'dropout2': 0.45000000000000007, 'dropout3': 0.35, 'dropout4': 0.2, 'learning_rate': 0.0007269649036189928, 'weight_decay': 0.6073685306519743}. Best is trial 40 with value: 0.625.\n"
     ]
    },
    {
     "name": "stdout",
     "output_type": "stream",
     "text": [
      "Accuracy: 60.11%\n",
      "Precision: 0.4598\n",
      "Recall: 0.6349\n",
      "F1 Score: 0.5333\n",
      "Matthews Correlation Coefficient: 0.2083\n",
      "Specificity: 0.5822\n"
     ]
    },
    {
     "name": "stderr",
     "output_type": "stream",
     "text": [
      "/tmp/ipykernel_186283/1222447431.py:10: FutureWarning: suggest_loguniform has been deprecated in v3.0.0. This feature will be removed in v6.0.0. See https://github.com/optuna/optuna/releases/tag/v3.0.0. Use suggest_float(..., log=True) instead.\n",
      "  learning_rate = trial.suggest_loguniform(\"learning_rate\", 1e-5, 1e-1)\n",
      "/tmp/ipykernel_186283/1222447431.py:11: FutureWarning: suggest_loguniform has been deprecated in v3.0.0. This feature will be removed in v6.0.0. See https://github.com/optuna/optuna/releases/tag/v3.0.0. Use suggest_float(..., log=True) instead.\n",
      "  weight_decay=trial.suggest_loguniform(\"weight_decay\",1e-5,1)\n",
      "[I 2024-11-28 19:59:34,477] Trial 68 finished with value: 0.31088082901554404 and parameters: {'hidden_units1': 446, 'hidden_units2': 214, 'hidden_units3': 120, 'hidden_units4': 40, 'dropout1': 0.1, 'dropout2': 0.4, 'dropout3': 0.30000000000000004, 'dropout4': 0.25, 'learning_rate': 5.732005204467464e-05, 'weight_decay': 0.9356598411826827}. Best is trial 40 with value: 0.625.\n"
     ]
    },
    {
     "name": "stdout",
     "output_type": "stream",
     "text": [
      "Accuracy: 62.11%\n",
      "Precision: 0.4478\n",
      "Recall: 0.2381\n",
      "F1 Score: 0.3109\n",
      "Matthews Correlation Coefficient: 0.0899\n",
      "Specificity: 0.8356\n"
     ]
    },
    {
     "name": "stderr",
     "output_type": "stream",
     "text": [
      "/tmp/ipykernel_186283/1222447431.py:10: FutureWarning: suggest_loguniform has been deprecated in v3.0.0. This feature will be removed in v6.0.0. See https://github.com/optuna/optuna/releases/tag/v3.0.0. Use suggest_float(..., log=True) instead.\n",
      "  learning_rate = trial.suggest_loguniform(\"learning_rate\", 1e-5, 1e-1)\n",
      "/tmp/ipykernel_186283/1222447431.py:11: FutureWarning: suggest_loguniform has been deprecated in v3.0.0. This feature will be removed in v6.0.0. See https://github.com/optuna/optuna/releases/tag/v3.0.0. Use suggest_float(..., log=True) instead.\n",
      "  weight_decay=trial.suggest_loguniform(\"weight_decay\",1e-5,1)\n",
      "[I 2024-11-28 20:00:24,788] Trial 69 finished with value: 0.5958702064896755 and parameters: {'hidden_units1': 488, 'hidden_units2': 164, 'hidden_units3': 90, 'hidden_units4': 52, 'dropout1': 0.15000000000000002, 'dropout2': 0.35, 'dropout3': 0.35, 'dropout4': 0.45000000000000007, 'learning_rate': 8.188886283328991e-05, 'weight_decay': 9.324621916462397e-05}. Best is trial 40 with value: 0.625.\n"
     ]
    },
    {
     "name": "stdout",
     "output_type": "stream",
     "text": [
      "Accuracy: 60.97%\n",
      "Precision: 0.4742\n",
      "Recall: 0.8016\n",
      "F1 Score: 0.5959\n",
      "Matthews Correlation Coefficient: 0.2984\n",
      "Specificity: 0.5022\n"
     ]
    },
    {
     "name": "stderr",
     "output_type": "stream",
     "text": [
      "/tmp/ipykernel_186283/1222447431.py:10: FutureWarning: suggest_loguniform has been deprecated in v3.0.0. This feature will be removed in v6.0.0. See https://github.com/optuna/optuna/releases/tag/v3.0.0. Use suggest_float(..., log=True) instead.\n",
      "  learning_rate = trial.suggest_loguniform(\"learning_rate\", 1e-5, 1e-1)\n",
      "/tmp/ipykernel_186283/1222447431.py:11: FutureWarning: suggest_loguniform has been deprecated in v3.0.0. This feature will be removed in v6.0.0. See https://github.com/optuna/optuna/releases/tag/v3.0.0. Use suggest_float(..., log=True) instead.\n",
      "  weight_decay=trial.suggest_loguniform(\"weight_decay\",1e-5,1)\n",
      "[I 2024-11-28 20:01:14,723] Trial 70 finished with value: 0.41201716738197425 and parameters: {'hidden_units1': 414, 'hidden_units2': 150, 'hidden_units3': 80, 'hidden_units4': 38, 'dropout1': 0.25, 'dropout2': 0.45000000000000007, 'dropout3': 0.30000000000000004, 'dropout4': 0.35, 'learning_rate': 0.0001924393796693429, 'weight_decay': 0.007394699949930711}. Best is trial 40 with value: 0.625.\n"
     ]
    },
    {
     "name": "stdout",
     "output_type": "stream",
     "text": [
      "Accuracy: 60.97%\n",
      "Precision: 0.4486\n",
      "Recall: 0.3810\n",
      "F1 Score: 0.4120\n",
      "Matthews Correlation Coefficient: 0.1237\n",
      "Specificity: 0.7378\n"
     ]
    },
    {
     "name": "stderr",
     "output_type": "stream",
     "text": [
      "/tmp/ipykernel_186283/1222447431.py:10: FutureWarning: suggest_loguniform has been deprecated in v3.0.0. This feature will be removed in v6.0.0. See https://github.com/optuna/optuna/releases/tag/v3.0.0. Use suggest_float(..., log=True) instead.\n",
      "  learning_rate = trial.suggest_loguniform(\"learning_rate\", 1e-5, 1e-1)\n",
      "/tmp/ipykernel_186283/1222447431.py:11: FutureWarning: suggest_loguniform has been deprecated in v3.0.0. This feature will be removed in v6.0.0. See https://github.com/optuna/optuna/releases/tag/v3.0.0. Use suggest_float(..., log=True) instead.\n",
      "  weight_decay=trial.suggest_loguniform(\"weight_decay\",1e-5,1)\n",
      "[I 2024-11-28 20:02:05,427] Trial 71 finished with value: 0.6219839142091153 and parameters: {'hidden_units1': 468, 'hidden_units2': 152, 'hidden_units3': 64, 'hidden_units4': 46, 'dropout1': 0.2, 'dropout2': 0.35, 'dropout3': 0.35, 'dropout4': 0.2, 'learning_rate': 0.0003288011690827683, 'weight_decay': 0.14415829313520023}. Best is trial 40 with value: 0.625.\n"
     ]
    },
    {
     "name": "stdout",
     "output_type": "stream",
     "text": [
      "Accuracy: 59.83%\n",
      "Precision: 0.4696\n",
      "Recall: 0.9206\n",
      "F1 Score: 0.6220\n",
      "Matthews Correlation Coefficient: 0.3555\n",
      "Specificity: 0.4178\n"
     ]
    },
    {
     "name": "stderr",
     "output_type": "stream",
     "text": [
      "/tmp/ipykernel_186283/1222447431.py:10: FutureWarning: suggest_loguniform has been deprecated in v3.0.0. This feature will be removed in v6.0.0. See https://github.com/optuna/optuna/releases/tag/v3.0.0. Use suggest_float(..., log=True) instead.\n",
      "  learning_rate = trial.suggest_loguniform(\"learning_rate\", 1e-5, 1e-1)\n",
      "/tmp/ipykernel_186283/1222447431.py:11: FutureWarning: suggest_loguniform has been deprecated in v3.0.0. This feature will be removed in v6.0.0. See https://github.com/optuna/optuna/releases/tag/v3.0.0. Use suggest_float(..., log=True) instead.\n",
      "  weight_decay=trial.suggest_loguniform(\"weight_decay\",1e-5,1)\n",
      "[I 2024-11-28 20:02:54,511] Trial 72 finished with value: 0.5895316804407713 and parameters: {'hidden_units1': 470, 'hidden_units2': 154, 'hidden_units3': 66, 'hidden_units4': 46, 'dropout1': 0.2, 'dropout2': 0.35, 'dropout3': 0.4, 'dropout4': 0.2, 'learning_rate': 0.00031231466957016516, 'weight_decay': 0.10395000597919472}. Best is trial 40 with value: 0.625.\n"
     ]
    },
    {
     "name": "stdout",
     "output_type": "stream",
     "text": [
      "Accuracy: 57.55%\n",
      "Precision: 0.4515\n",
      "Recall: 0.8492\n",
      "F1 Score: 0.5895\n",
      "Matthews Correlation Coefficient: 0.2780\n",
      "Specificity: 0.4222\n"
     ]
    },
    {
     "name": "stderr",
     "output_type": "stream",
     "text": [
      "/tmp/ipykernel_186283/1222447431.py:10: FutureWarning: suggest_loguniform has been deprecated in v3.0.0. This feature will be removed in v6.0.0. See https://github.com/optuna/optuna/releases/tag/v3.0.0. Use suggest_float(..., log=True) instead.\n",
      "  learning_rate = trial.suggest_loguniform(\"learning_rate\", 1e-5, 1e-1)\n",
      "/tmp/ipykernel_186283/1222447431.py:11: FutureWarning: suggest_loguniform has been deprecated in v3.0.0. This feature will be removed in v6.0.0. See https://github.com/optuna/optuna/releases/tag/v3.0.0. Use suggest_float(..., log=True) instead.\n",
      "  weight_decay=trial.suggest_loguniform(\"weight_decay\",1e-5,1)\n",
      "[I 2024-11-28 20:03:43,711] Trial 73 finished with value: 0.49624060150375937 and parameters: {'hidden_units1': 436, 'hidden_units2': 142, 'hidden_units3': 68, 'hidden_units4': 52, 'dropout1': 0.2, 'dropout2': 0.30000000000000004, 'dropout3': 0.25, 'dropout4': 0.15000000000000002, 'learning_rate': 0.0005154481280222224, 'weight_decay': 0.2940808799108576}. Best is trial 40 with value: 0.625.\n"
     ]
    },
    {
     "name": "stdout",
     "output_type": "stream",
     "text": [
      "Accuracy: 61.82%\n",
      "Precision: 0.4714\n",
      "Recall: 0.5238\n",
      "F1 Score: 0.4962\n",
      "Matthews Correlation Coefficient: 0.1910\n",
      "Specificity: 0.6711\n"
     ]
    },
    {
     "name": "stderr",
     "output_type": "stream",
     "text": [
      "/tmp/ipykernel_186283/1222447431.py:10: FutureWarning: suggest_loguniform has been deprecated in v3.0.0. This feature will be removed in v6.0.0. See https://github.com/optuna/optuna/releases/tag/v3.0.0. Use suggest_float(..., log=True) instead.\n",
      "  learning_rate = trial.suggest_loguniform(\"learning_rate\", 1e-5, 1e-1)\n",
      "/tmp/ipykernel_186283/1222447431.py:11: FutureWarning: suggest_loguniform has been deprecated in v3.0.0. This feature will be removed in v6.0.0. See https://github.com/optuna/optuna/releases/tag/v3.0.0. Use suggest_float(..., log=True) instead.\n",
      "  weight_decay=trial.suggest_loguniform(\"weight_decay\",1e-5,1)\n",
      "[I 2024-11-28 20:04:32,922] Trial 74 finished with value: 0.45081967213114754 and parameters: {'hidden_units1': 480, 'hidden_units2': 148, 'hidden_units3': 72, 'hidden_units4': 42, 'dropout1': 0.15000000000000002, 'dropout2': 0.30000000000000004, 'dropout3': 0.30000000000000004, 'dropout4': 0.25, 'learning_rate': 0.0011668643069739524, 'weight_decay': 0.17870128921262549}. Best is trial 40 with value: 0.625.\n"
     ]
    },
    {
     "name": "stdout",
     "output_type": "stream",
     "text": [
      "Accuracy: 61.82%\n",
      "Precision: 0.4661\n",
      "Recall: 0.4365\n",
      "F1 Score: 0.4508\n",
      "Matthews Correlation Coefficient: 0.1589\n",
      "Specificity: 0.7200\n"
     ]
    },
    {
     "name": "stderr",
     "output_type": "stream",
     "text": [
      "/tmp/ipykernel_186283/1222447431.py:10: FutureWarning: suggest_loguniform has been deprecated in v3.0.0. This feature will be removed in v6.0.0. See https://github.com/optuna/optuna/releases/tag/v3.0.0. Use suggest_float(..., log=True) instead.\n",
      "  learning_rate = trial.suggest_loguniform(\"learning_rate\", 1e-5, 1e-1)\n",
      "/tmp/ipykernel_186283/1222447431.py:11: FutureWarning: suggest_loguniform has been deprecated in v3.0.0. This feature will be removed in v6.0.0. See https://github.com/optuna/optuna/releases/tag/v3.0.0. Use suggest_float(..., log=True) instead.\n",
      "  weight_decay=trial.suggest_loguniform(\"weight_decay\",1e-5,1)\n",
      "[I 2024-11-28 20:05:24,255] Trial 75 finished with value: 0.6149732620320856 and parameters: {'hidden_units1': 498, 'hidden_units2': 158, 'hidden_units3': 116, 'hidden_units4': 32, 'dropout1': 0.30000000000000004, 'dropout2': 0.35, 'dropout3': 0.35, 'dropout4': 0.2, 'learning_rate': 0.0003593124008455065, 'weight_decay': 0.0006582588797564137}. Best is trial 40 with value: 0.625.\n"
     ]
    },
    {
     "name": "stdout",
     "output_type": "stream",
     "text": [
      "Accuracy: 58.97%\n",
      "Precision: 0.4637\n",
      "Recall: 0.9127\n",
      "F1 Score: 0.6150\n",
      "Matthews Correlation Coefficient: 0.3388\n",
      "Specificity: 0.4089\n"
     ]
    },
    {
     "name": "stderr",
     "output_type": "stream",
     "text": [
      "/tmp/ipykernel_186283/1222447431.py:10: FutureWarning: suggest_loguniform has been deprecated in v3.0.0. This feature will be removed in v6.0.0. See https://github.com/optuna/optuna/releases/tag/v3.0.0. Use suggest_float(..., log=True) instead.\n",
      "  learning_rate = trial.suggest_loguniform(\"learning_rate\", 1e-5, 1e-1)\n",
      "/tmp/ipykernel_186283/1222447431.py:11: FutureWarning: suggest_loguniform has been deprecated in v3.0.0. This feature will be removed in v6.0.0. See https://github.com/optuna/optuna/releases/tag/v3.0.0. Use suggest_float(..., log=True) instead.\n",
      "  weight_decay=trial.suggest_loguniform(\"weight_decay\",1e-5,1)\n",
      "[I 2024-11-28 20:06:14,265] Trial 76 finished with value: 0.6157894736842106 and parameters: {'hidden_units1': 428, 'hidden_units2': 158, 'hidden_units3': 116, 'hidden_units4': 30, 'dropout1': 0.30000000000000004, 'dropout2': 0.25, 'dropout3': 0.45000000000000007, 'dropout4': 0.4, 'learning_rate': 0.0005092666532345676, 'weight_decay': 0.0015413217974596912}. Best is trial 40 with value: 0.625.\n"
     ]
    },
    {
     "name": "stdout",
     "output_type": "stream",
     "text": [
      "Accuracy: 58.40%\n",
      "Precision: 0.4606\n",
      "Recall: 0.9286\n",
      "F1 Score: 0.6158\n",
      "Matthews Correlation Coefficient: 0.3429\n",
      "Specificity: 0.3911\n"
     ]
    },
    {
     "name": "stderr",
     "output_type": "stream",
     "text": [
      "/tmp/ipykernel_186283/1222447431.py:10: FutureWarning: suggest_loguniform has been deprecated in v3.0.0. This feature will be removed in v6.0.0. See https://github.com/optuna/optuna/releases/tag/v3.0.0. Use suggest_float(..., log=True) instead.\n",
      "  learning_rate = trial.suggest_loguniform(\"learning_rate\", 1e-5, 1e-1)\n",
      "/tmp/ipykernel_186283/1222447431.py:11: FutureWarning: suggest_loguniform has been deprecated in v3.0.0. This feature will be removed in v6.0.0. See https://github.com/optuna/optuna/releases/tag/v3.0.0. Use suggest_float(..., log=True) instead.\n",
      "  weight_decay=trial.suggest_loguniform(\"weight_decay\",1e-5,1)\n",
      "[I 2024-11-28 20:07:03,625] Trial 77 finished with value: 0.6028985507246377 and parameters: {'hidden_units1': 398, 'hidden_units2': 158, 'hidden_units3': 116, 'hidden_units4': 32, 'dropout1': 0.30000000000000004, 'dropout2': 0.25, 'dropout3': 0.45000000000000007, 'dropout4': 0.4, 'learning_rate': 0.0008765379642897982, 'weight_decay': 0.0006761992016846671}. Best is trial 40 with value: 0.625.\n"
     ]
    },
    {
     "name": "stdout",
     "output_type": "stream",
     "text": [
      "Accuracy: 60.97%\n",
      "Precision: 0.4749\n",
      "Recall: 0.8254\n",
      "F1 Score: 0.6029\n",
      "Matthews Correlation Coefficient: 0.3112\n",
      "Specificity: 0.4889\n"
     ]
    },
    {
     "name": "stderr",
     "output_type": "stream",
     "text": [
      "/tmp/ipykernel_186283/1222447431.py:10: FutureWarning: suggest_loguniform has been deprecated in v3.0.0. This feature will be removed in v6.0.0. See https://github.com/optuna/optuna/releases/tag/v3.0.0. Use suggest_float(..., log=True) instead.\n",
      "  learning_rate = trial.suggest_loguniform(\"learning_rate\", 1e-5, 1e-1)\n",
      "/tmp/ipykernel_186283/1222447431.py:11: FutureWarning: suggest_loguniform has been deprecated in v3.0.0. This feature will be removed in v6.0.0. See https://github.com/optuna/optuna/releases/tag/v3.0.0. Use suggest_float(..., log=True) instead.\n",
      "  weight_decay=trial.suggest_loguniform(\"weight_decay\",1e-5,1)\n",
      "[I 2024-11-28 20:07:55,058] Trial 78 finished with value: 0.56 and parameters: {'hidden_units1': 500, 'hidden_units2': 162, 'hidden_units3': 126, 'hidden_units4': 26, 'dropout1': 0.35, 'dropout2': 0.25, 'dropout3': 0.45000000000000007, 'dropout4': 0.5, 'learning_rate': 0.0013912541606682033, 'weight_decay': 0.0016120786648331784}. Best is trial 40 with value: 0.625.\n"
     ]
    },
    {
     "name": "stdout",
     "output_type": "stream",
     "text": [
      "Accuracy: 59.26%\n",
      "Precision: 0.4573\n",
      "Recall: 0.7222\n",
      "F1 Score: 0.5600\n",
      "Matthews Correlation Coefficient: 0.2345\n",
      "Specificity: 0.5200\n"
     ]
    },
    {
     "name": "stderr",
     "output_type": "stream",
     "text": [
      "/tmp/ipykernel_186283/1222447431.py:10: FutureWarning: suggest_loguniform has been deprecated in v3.0.0. This feature will be removed in v6.0.0. See https://github.com/optuna/optuna/releases/tag/v3.0.0. Use suggest_float(..., log=True) instead.\n",
      "  learning_rate = trial.suggest_loguniform(\"learning_rate\", 1e-5, 1e-1)\n",
      "/tmp/ipykernel_186283/1222447431.py:11: FutureWarning: suggest_loguniform has been deprecated in v3.0.0. This feature will be removed in v6.0.0. See https://github.com/optuna/optuna/releases/tag/v3.0.0. Use suggest_float(..., log=True) instead.\n",
      "  weight_decay=trial.suggest_loguniform(\"weight_decay\",1e-5,1)\n",
      "[I 2024-11-28 20:08:44,611] Trial 79 finished with value: 0.5488958990536278 and parameters: {'hidden_units1': 460, 'hidden_units2': 144, 'hidden_units3': 114, 'hidden_units4': 32, 'dropout1': 0.30000000000000004, 'dropout2': 0.35, 'dropout3': 0.5, 'dropout4': 0.45000000000000007, 'learning_rate': 0.0004950068116525678, 'weight_decay': 0.0004426200415476001}. Best is trial 40 with value: 0.625.\n"
     ]
    },
    {
     "name": "stdout",
     "output_type": "stream",
     "text": [
      "Accuracy: 59.26%\n",
      "Precision: 0.4555\n",
      "Recall: 0.6905\n",
      "F1 Score: 0.5489\n",
      "Matthews Correlation Coefficient: 0.2198\n",
      "Specificity: 0.5378\n"
     ]
    },
    {
     "name": "stderr",
     "output_type": "stream",
     "text": [
      "/tmp/ipykernel_186283/1222447431.py:10: FutureWarning: suggest_loguniform has been deprecated in v3.0.0. This feature will be removed in v6.0.0. See https://github.com/optuna/optuna/releases/tag/v3.0.0. Use suggest_float(..., log=True) instead.\n",
      "  learning_rate = trial.suggest_loguniform(\"learning_rate\", 1e-5, 1e-1)\n",
      "/tmp/ipykernel_186283/1222447431.py:11: FutureWarning: suggest_loguniform has been deprecated in v3.0.0. This feature will be removed in v6.0.0. See https://github.com/optuna/optuna/releases/tag/v3.0.0. Use suggest_float(..., log=True) instead.\n",
      "  weight_decay=trial.suggest_loguniform(\"weight_decay\",1e-5,1)\n",
      "[I 2024-11-28 20:09:33,324] Trial 80 finished with value: 0.47058823529411764 and parameters: {'hidden_units1': 442, 'hidden_units2': 168, 'hidden_units3': 112, 'hidden_units4': 36, 'dropout1': 0.30000000000000004, 'dropout2': 0.30000000000000004, 'dropout3': 0.4, 'dropout4': 0.4, 'learning_rate': 0.002174064133551923, 'weight_decay': 0.0007655078843560591}. Best is trial 40 with value: 0.625.\n"
     ]
    },
    {
     "name": "stdout",
     "output_type": "stream",
     "text": [
      "Accuracy: 61.54%\n",
      "Precision: 0.4651\n",
      "Recall: 0.4762\n",
      "F1 Score: 0.4706\n",
      "Matthews Correlation Coefficient: 0.1687\n",
      "Specificity: 0.6933\n"
     ]
    },
    {
     "name": "stderr",
     "output_type": "stream",
     "text": [
      "/tmp/ipykernel_186283/1222447431.py:10: FutureWarning: suggest_loguniform has been deprecated in v3.0.0. This feature will be removed in v6.0.0. See https://github.com/optuna/optuna/releases/tag/v3.0.0. Use suggest_float(..., log=True) instead.\n",
      "  learning_rate = trial.suggest_loguniform(\"learning_rate\", 1e-5, 1e-1)\n",
      "/tmp/ipykernel_186283/1222447431.py:11: FutureWarning: suggest_loguniform has been deprecated in v3.0.0. This feature will be removed in v6.0.0. See https://github.com/optuna/optuna/releases/tag/v3.0.0. Use suggest_float(..., log=True) instead.\n",
      "  weight_decay=trial.suggest_loguniform(\"weight_decay\",1e-5,1)\n",
      "[I 2024-11-28 20:10:22,875] Trial 81 finished with value: 0.584070796460177 and parameters: {'hidden_units1': 430, 'hidden_units2': 158, 'hidden_units3': 116, 'hidden_units4': 30, 'dropout1': 0.35, 'dropout2': 0.2, 'dropout3': 0.45000000000000007, 'dropout4': 0.30000000000000004, 'learning_rate': 0.000390092867158232, 'weight_decay': 0.0032013971800120885}. Best is trial 40 with value: 0.625.\n"
     ]
    },
    {
     "name": "stdout",
     "output_type": "stream",
     "text": [
      "Accuracy: 59.83%\n",
      "Precision: 0.4648\n",
      "Recall: 0.7857\n",
      "F1 Score: 0.5841\n",
      "Matthews Correlation Coefficient: 0.2740\n",
      "Specificity: 0.4933\n"
     ]
    },
    {
     "name": "stderr",
     "output_type": "stream",
     "text": [
      "/tmp/ipykernel_186283/1222447431.py:10: FutureWarning: suggest_loguniform has been deprecated in v3.0.0. This feature will be removed in v6.0.0. See https://github.com/optuna/optuna/releases/tag/v3.0.0. Use suggest_float(..., log=True) instead.\n",
      "  learning_rate = trial.suggest_loguniform(\"learning_rate\", 1e-5, 1e-1)\n",
      "/tmp/ipykernel_186283/1222447431.py:11: FutureWarning: suggest_loguniform has been deprecated in v3.0.0. This feature will be removed in v6.0.0. See https://github.com/optuna/optuna/releases/tag/v3.0.0. Use suggest_float(..., log=True) instead.\n",
      "  weight_decay=trial.suggest_loguniform(\"weight_decay\",1e-5,1)\n",
      "[I 2024-11-28 20:11:12,910] Trial 82 finished with value: 0.5885714285714285 and parameters: {'hidden_units1': 420, 'hidden_units2': 138, 'hidden_units3': 122, 'hidden_units4': 26, 'dropout1': 0.1, 'dropout2': 0.2, 'dropout3': 0.30000000000000004, 'dropout4': 0.45000000000000007, 'learning_rate': 0.0006819983012486316, 'weight_decay': 0.0009701862644954678}. Best is trial 40 with value: 0.625.\n"
     ]
    },
    {
     "name": "stdout",
     "output_type": "stream",
     "text": [
      "Accuracy: 58.97%\n",
      "Precision: 0.4598\n",
      "Recall: 0.8175\n",
      "F1 Score: 0.5886\n",
      "Matthews Correlation Coefficient: 0.2792\n",
      "Specificity: 0.4622\n"
     ]
    },
    {
     "name": "stderr",
     "output_type": "stream",
     "text": [
      "/tmp/ipykernel_186283/1222447431.py:10: FutureWarning: suggest_loguniform has been deprecated in v3.0.0. This feature will be removed in v6.0.0. See https://github.com/optuna/optuna/releases/tag/v3.0.0. Use suggest_float(..., log=True) instead.\n",
      "  learning_rate = trial.suggest_loguniform(\"learning_rate\", 1e-5, 1e-1)\n",
      "/tmp/ipykernel_186283/1222447431.py:11: FutureWarning: suggest_loguniform has been deprecated in v3.0.0. This feature will be removed in v6.0.0. See https://github.com/optuna/optuna/releases/tag/v3.0.0. Use suggest_float(..., log=True) instead.\n",
      "  weight_decay=trial.suggest_loguniform(\"weight_decay\",1e-5,1)\n",
      "[I 2024-11-28 20:12:01,990] Trial 83 finished with value: 0.584070796460177 and parameters: {'hidden_units1': 380, 'hidden_units2': 156, 'hidden_units3': 118, 'hidden_units4': 28, 'dropout1': 0.25, 'dropout2': 0.25, 'dropout3': 0.35, 'dropout4': 0.25, 'learning_rate': 0.00021787863305257536, 'weight_decay': 2.255642867920429e-05}. Best is trial 40 with value: 0.625.\n"
     ]
    },
    {
     "name": "stdout",
     "output_type": "stream",
     "text": [
      "Accuracy: 59.83%\n",
      "Precision: 0.4648\n",
      "Recall: 0.7857\n",
      "F1 Score: 0.5841\n",
      "Matthews Correlation Coefficient: 0.2740\n",
      "Specificity: 0.4933\n"
     ]
    },
    {
     "name": "stderr",
     "output_type": "stream",
     "text": [
      "/tmp/ipykernel_186283/1222447431.py:10: FutureWarning: suggest_loguniform has been deprecated in v3.0.0. This feature will be removed in v6.0.0. See https://github.com/optuna/optuna/releases/tag/v3.0.0. Use suggest_float(..., log=True) instead.\n",
      "  learning_rate = trial.suggest_loguniform(\"learning_rate\", 1e-5, 1e-1)\n",
      "/tmp/ipykernel_186283/1222447431.py:11: FutureWarning: suggest_loguniform has been deprecated in v3.0.0. This feature will be removed in v6.0.0. See https://github.com/optuna/optuna/releases/tag/v3.0.0. Use suggest_float(..., log=True) instead.\n",
      "  weight_decay=trial.suggest_loguniform(\"weight_decay\",1e-5,1)\n",
      "[I 2024-11-28 20:12:52,329] Trial 84 finished with value: 0.6017191977077364 and parameters: {'hidden_units1': 476, 'hidden_units2': 164, 'hidden_units3': 112, 'hidden_units4': 34, 'dropout1': 0.1, 'dropout2': 0.2, 'dropout3': 0.25, 'dropout4': 0.1, 'learning_rate': 0.00031300449682157187, 'weight_decay': 0.0002585574104960555}. Best is trial 40 with value: 0.625.\n"
     ]
    },
    {
     "name": "stdout",
     "output_type": "stream",
     "text": [
      "Accuracy: 60.40%\n",
      "Precision: 0.4709\n",
      "Recall: 0.8333\n",
      "F1 Score: 0.6017\n",
      "Matthews Correlation Coefficient: 0.3078\n",
      "Specificity: 0.4756\n"
     ]
    },
    {
     "name": "stderr",
     "output_type": "stream",
     "text": [
      "/tmp/ipykernel_186283/1222447431.py:10: FutureWarning: suggest_loguniform has been deprecated in v3.0.0. This feature will be removed in v6.0.0. See https://github.com/optuna/optuna/releases/tag/v3.0.0. Use suggest_float(..., log=True) instead.\n",
      "  learning_rate = trial.suggest_loguniform(\"learning_rate\", 1e-5, 1e-1)\n",
      "/tmp/ipykernel_186283/1222447431.py:11: FutureWarning: suggest_loguniform has been deprecated in v3.0.0. This feature will be removed in v6.0.0. See https://github.com/optuna/optuna/releases/tag/v3.0.0. Use suggest_float(..., log=True) instead.\n",
      "  weight_decay=trial.suggest_loguniform(\"weight_decay\",1e-5,1)\n",
      "[I 2024-11-28 20:13:41,475] Trial 85 finished with value: 0.6073619631901841 and parameters: {'hidden_units1': 446, 'hidden_units2': 154, 'hidden_units3': 126, 'hidden_units4': 30, 'dropout1': 0.15000000000000002, 'dropout2': 0.15000000000000002, 'dropout3': 0.4, 'dropout4': 0.15000000000000002, 'learning_rate': 0.0005788028687016745, 'weight_decay': 0.0012626142802261413}. Best is trial 40 with value: 0.625.\n"
     ]
    },
    {
     "name": "stdout",
     "output_type": "stream",
     "text": [
      "Accuracy: 63.53%\n",
      "Precision: 0.4950\n",
      "Recall: 0.7857\n",
      "F1 Score: 0.6074\n",
      "Matthews Correlation Coefficient: 0.3263\n",
      "Specificity: 0.5511\n"
     ]
    },
    {
     "name": "stderr",
     "output_type": "stream",
     "text": [
      "/tmp/ipykernel_186283/1222447431.py:10: FutureWarning: suggest_loguniform has been deprecated in v3.0.0. This feature will be removed in v6.0.0. See https://github.com/optuna/optuna/releases/tag/v3.0.0. Use suggest_float(..., log=True) instead.\n",
      "  learning_rate = trial.suggest_loguniform(\"learning_rate\", 1e-5, 1e-1)\n",
      "/tmp/ipykernel_186283/1222447431.py:11: FutureWarning: suggest_loguniform has been deprecated in v3.0.0. This feature will be removed in v6.0.0. See https://github.com/optuna/optuna/releases/tag/v3.0.0. Use suggest_float(..., log=True) instead.\n",
      "  weight_decay=trial.suggest_loguniform(\"weight_decay\",1e-5,1)\n",
      "[I 2024-11-28 20:14:31,784] Trial 86 finished with value: 0.603448275862069 and parameters: {'hidden_units1': 454, 'hidden_units2': 150, 'hidden_units3': 100, 'hidden_units4': 50, 'dropout1': 0.15000000000000002, 'dropout2': 0.35, 'dropout3': 0.30000000000000004, 'dropout4': 0.2, 'learning_rate': 0.000364978353488294, 'weight_decay': 0.0019574644268991006}. Best is trial 40 with value: 0.625.\n"
     ]
    },
    {
     "name": "stdout",
     "output_type": "stream",
     "text": [
      "Accuracy: 60.68%\n",
      "Precision: 0.4730\n",
      "Recall: 0.8333\n",
      "F1 Score: 0.6034\n",
      "Matthews Correlation Coefficient: 0.3118\n",
      "Specificity: 0.4800\n"
     ]
    },
    {
     "name": "stderr",
     "output_type": "stream",
     "text": [
      "/tmp/ipykernel_186283/1222447431.py:10: FutureWarning: suggest_loguniform has been deprecated in v3.0.0. This feature will be removed in v6.0.0. See https://github.com/optuna/optuna/releases/tag/v3.0.0. Use suggest_float(..., log=True) instead.\n",
      "  learning_rate = trial.suggest_loguniform(\"learning_rate\", 1e-5, 1e-1)\n",
      "/tmp/ipykernel_186283/1222447431.py:11: FutureWarning: suggest_loguniform has been deprecated in v3.0.0. This feature will be removed in v6.0.0. See https://github.com/optuna/optuna/releases/tag/v3.0.0. Use suggest_float(..., log=True) instead.\n",
      "  weight_decay=trial.suggest_loguniform(\"weight_decay\",1e-5,1)\n",
      "[I 2024-11-28 20:15:19,853] Trial 87 finished with value: 0.5964912280701754 and parameters: {'hidden_units1': 468, 'hidden_units2': 146, 'hidden_units3': 118, 'hidden_units4': 34, 'dropout1': 0.35, 'dropout2': 0.5, 'dropout3': 0.35, 'dropout4': 0.45000000000000007, 'learning_rate': 0.00015127760676086235, 'weight_decay': 0.014401575594392688}. Best is trial 40 with value: 0.625.\n"
     ]
    },
    {
     "name": "stdout",
     "output_type": "stream",
     "text": [
      "Accuracy: 60.68%\n",
      "Precision: 0.4722\n",
      "Recall: 0.8095\n",
      "F1 Score: 0.5965\n",
      "Matthews Correlation Coefficient: 0.2986\n",
      "Specificity: 0.4933\n"
     ]
    },
    {
     "name": "stderr",
     "output_type": "stream",
     "text": [
      "/tmp/ipykernel_186283/1222447431.py:10: FutureWarning: suggest_loguniform has been deprecated in v3.0.0. This feature will be removed in v6.0.0. See https://github.com/optuna/optuna/releases/tag/v3.0.0. Use suggest_float(..., log=True) instead.\n",
      "  learning_rate = trial.suggest_loguniform(\"learning_rate\", 1e-5, 1e-1)\n",
      "/tmp/ipykernel_186283/1222447431.py:11: FutureWarning: suggest_loguniform has been deprecated in v3.0.0. This feature will be removed in v6.0.0. See https://github.com/optuna/optuna/releases/tag/v3.0.0. Use suggest_float(..., log=True) instead.\n",
      "  weight_decay=trial.suggest_loguniform(\"weight_decay\",1e-5,1)\n",
      "[I 2024-11-28 20:16:08,605] Trial 88 finished with value: 0.5460750853242321 and parameters: {'hidden_units1': 424, 'hidden_units2': 162, 'hidden_units3': 110, 'hidden_units4': 40, 'dropout1': 0.25, 'dropout2': 0.30000000000000004, 'dropout3': 0.25, 'dropout4': 0.15000000000000002, 'learning_rate': 0.0010220748921306007, 'weight_decay': 6.578569809900674e-05}. Best is trial 40 with value: 0.625.\n"
     ]
    },
    {
     "name": "stdout",
     "output_type": "stream",
     "text": [
      "Accuracy: 62.11%\n",
      "Precision: 0.4790\n",
      "Recall: 0.6349\n",
      "F1 Score: 0.5461\n",
      "Matthews Correlation Coefficient: 0.2385\n",
      "Specificity: 0.6133\n"
     ]
    },
    {
     "name": "stderr",
     "output_type": "stream",
     "text": [
      "/tmp/ipykernel_186283/1222447431.py:10: FutureWarning: suggest_loguniform has been deprecated in v3.0.0. This feature will be removed in v6.0.0. See https://github.com/optuna/optuna/releases/tag/v3.0.0. Use suggest_float(..., log=True) instead.\n",
      "  learning_rate = trial.suggest_loguniform(\"learning_rate\", 1e-5, 1e-1)\n",
      "/tmp/ipykernel_186283/1222447431.py:11: FutureWarning: suggest_loguniform has been deprecated in v3.0.0. This feature will be removed in v6.0.0. See https://github.com/optuna/optuna/releases/tag/v3.0.0. Use suggest_float(..., log=True) instead.\n",
      "  weight_decay=trial.suggest_loguniform(\"weight_decay\",1e-5,1)\n",
      "[I 2024-11-28 20:16:58,068] Trial 89 finished with value: 0.6010928961748634 and parameters: {'hidden_units1': 412, 'hidden_units2': 136, 'hidden_units3': 120, 'hidden_units4': 48, 'dropout1': 0.45000000000000007, 'dropout2': 0.45000000000000007, 'dropout3': 0.30000000000000004, 'dropout4': 0.2, 'learning_rate': 0.03681133236722313, 'weight_decay': 0.00277031815454065}. Best is trial 40 with value: 0.625.\n"
     ]
    },
    {
     "name": "stdout",
     "output_type": "stream",
     "text": [
      "Accuracy: 58.40%\n",
      "Precision: 0.4583\n",
      "Recall: 0.8730\n",
      "F1 Score: 0.6011\n",
      "Matthews Correlation Coefficient: 0.3046\n",
      "Specificity: 0.4222\n"
     ]
    },
    {
     "name": "stderr",
     "output_type": "stream",
     "text": [
      "/tmp/ipykernel_186283/1222447431.py:10: FutureWarning: suggest_loguniform has been deprecated in v3.0.0. This feature will be removed in v6.0.0. See https://github.com/optuna/optuna/releases/tag/v3.0.0. Use suggest_float(..., log=True) instead.\n",
      "  learning_rate = trial.suggest_loguniform(\"learning_rate\", 1e-5, 1e-1)\n",
      "/tmp/ipykernel_186283/1222447431.py:11: FutureWarning: suggest_loguniform has been deprecated in v3.0.0. This feature will be removed in v6.0.0. See https://github.com/optuna/optuna/releases/tag/v3.0.0. Use suggest_float(..., log=True) instead.\n",
      "  weight_decay=trial.suggest_loguniform(\"weight_decay\",1e-5,1)\n",
      "[I 2024-11-28 20:17:46,788] Trial 90 finished with value: 0.591304347826087 and parameters: {'hidden_units1': 360, 'hidden_units2': 140, 'hidden_units3': 124, 'hidden_units4': 26, 'dropout1': 0.30000000000000004, 'dropout2': 0.35, 'dropout3': 0.35, 'dropout4': 0.30000000000000004, 'learning_rate': 0.00023800478436800067, 'weight_decay': 0.004131827393258228}. Best is trial 40 with value: 0.625.\n"
     ]
    },
    {
     "name": "stdout",
     "output_type": "stream",
     "text": [
      "Accuracy: 59.83%\n",
      "Precision: 0.4658\n",
      "Recall: 0.8095\n",
      "F1 Score: 0.5913\n",
      "Matthews Correlation Coefficient: 0.2867\n",
      "Specificity: 0.4800\n"
     ]
    },
    {
     "name": "stderr",
     "output_type": "stream",
     "text": [
      "/tmp/ipykernel_186283/1222447431.py:10: FutureWarning: suggest_loguniform has been deprecated in v3.0.0. This feature will be removed in v6.0.0. See https://github.com/optuna/optuna/releases/tag/v3.0.0. Use suggest_float(..., log=True) instead.\n",
      "  learning_rate = trial.suggest_loguniform(\"learning_rate\", 1e-5, 1e-1)\n",
      "/tmp/ipykernel_186283/1222447431.py:11: FutureWarning: suggest_loguniform has been deprecated in v3.0.0. This feature will be removed in v6.0.0. See https://github.com/optuna/optuna/releases/tag/v3.0.0. Use suggest_float(..., log=True) instead.\n",
      "  weight_decay=trial.suggest_loguniform(\"weight_decay\",1e-5,1)\n",
      "[I 2024-11-28 20:18:37,147] Trial 91 finished with value: 0.6186666666666667 and parameters: {'hidden_units1': 484, 'hidden_units2': 152, 'hidden_units3': 66, 'hidden_units4': 46, 'dropout1': 0.2, 'dropout2': 0.4, 'dropout3': 0.35, 'dropout4': 0.2, 'learning_rate': 0.00045735945356966296, 'weight_decay': 0.19655409394868492}. Best is trial 40 with value: 0.625.\n"
     ]
    },
    {
     "name": "stdout",
     "output_type": "stream",
     "text": [
      "Accuracy: 59.26%\n",
      "Precision: 0.4659\n",
      "Recall: 0.9206\n",
      "F1 Score: 0.6187\n",
      "Matthews Correlation Coefficient: 0.3481\n",
      "Specificity: 0.4089\n"
     ]
    },
    {
     "name": "stderr",
     "output_type": "stream",
     "text": [
      "/tmp/ipykernel_186283/1222447431.py:10: FutureWarning: suggest_loguniform has been deprecated in v3.0.0. This feature will be removed in v6.0.0. See https://github.com/optuna/optuna/releases/tag/v3.0.0. Use suggest_float(..., log=True) instead.\n",
      "  learning_rate = trial.suggest_loguniform(\"learning_rate\", 1e-5, 1e-1)\n",
      "/tmp/ipykernel_186283/1222447431.py:11: FutureWarning: suggest_loguniform has been deprecated in v3.0.0. This feature will be removed in v6.0.0. See https://github.com/optuna/optuna/releases/tag/v3.0.0. Use suggest_float(..., log=True) instead.\n",
      "  weight_decay=trial.suggest_loguniform(\"weight_decay\",1e-5,1)\n",
      "[I 2024-11-28 20:19:25,871] Trial 92 finished with value: 0.5454545454545454 and parameters: {'hidden_units1': 484, 'hidden_units2': 148, 'hidden_units3': 66, 'hidden_units4': 44, 'dropout1': 0.15000000000000002, 'dropout2': 0.45000000000000007, 'dropout3': 0.35, 'dropout4': 0.2, 'learning_rate': 0.0007589678657235193, 'weight_decay': 0.030845352212233702}. Best is trial 40 with value: 0.625.\n"
     ]
    },
    {
     "name": "stdout",
     "output_type": "stream",
     "text": [
      "Accuracy: 57.26%\n",
      "Precision: 0.4412\n",
      "Recall: 0.7143\n",
      "F1 Score: 0.5455\n",
      "Matthews Correlation Coefficient: 0.2019\n",
      "Specificity: 0.4933\n"
     ]
    },
    {
     "name": "stderr",
     "output_type": "stream",
     "text": [
      "/tmp/ipykernel_186283/1222447431.py:10: FutureWarning: suggest_loguniform has been deprecated in v3.0.0. This feature will be removed in v6.0.0. See https://github.com/optuna/optuna/releases/tag/v3.0.0. Use suggest_float(..., log=True) instead.\n",
      "  learning_rate = trial.suggest_loguniform(\"learning_rate\", 1e-5, 1e-1)\n",
      "/tmp/ipykernel_186283/1222447431.py:11: FutureWarning: suggest_loguniform has been deprecated in v3.0.0. This feature will be removed in v6.0.0. See https://github.com/optuna/optuna/releases/tag/v3.0.0. Use suggest_float(..., log=True) instead.\n",
      "  weight_decay=trial.suggest_loguniform(\"weight_decay\",1e-5,1)\n",
      "[I 2024-11-28 20:20:15,247] Trial 93 finished with value: 0.5454545454545454 and parameters: {'hidden_units1': 498, 'hidden_units2': 158, 'hidden_units3': 64, 'hidden_units4': 56, 'dropout1': 0.2, 'dropout2': 0.4, 'dropout3': 0.30000000000000004, 'dropout4': 0.2, 'learning_rate': 0.00043008370373539016, 'weight_decay': 0.20936058325639378}. Best is trial 40 with value: 0.625.\n"
     ]
    },
    {
     "name": "stdout",
     "output_type": "stream",
     "text": [
      "Accuracy: 58.69%\n",
      "Precision: 0.4508\n",
      "Recall: 0.6905\n",
      "F1 Score: 0.5455\n",
      "Matthews Correlation Coefficient: 0.2115\n",
      "Specificity: 0.5289\n"
     ]
    },
    {
     "name": "stderr",
     "output_type": "stream",
     "text": [
      "/tmp/ipykernel_186283/1222447431.py:10: FutureWarning: suggest_loguniform has been deprecated in v3.0.0. This feature will be removed in v6.0.0. See https://github.com/optuna/optuna/releases/tag/v3.0.0. Use suggest_float(..., log=True) instead.\n",
      "  learning_rate = trial.suggest_loguniform(\"learning_rate\", 1e-5, 1e-1)\n",
      "/tmp/ipykernel_186283/1222447431.py:11: FutureWarning: suggest_loguniform has been deprecated in v3.0.0. This feature will be removed in v6.0.0. See https://github.com/optuna/optuna/releases/tag/v3.0.0. Use suggest_float(..., log=True) instead.\n",
      "  weight_decay=trial.suggest_loguniform(\"weight_decay\",1e-5,1)\n",
      "[I 2024-11-28 20:21:03,932] Trial 94 finished with value: 0.6170798898071626 and parameters: {'hidden_units1': 464, 'hidden_units2': 152, 'hidden_units3': 122, 'hidden_units4': 48, 'dropout1': 0.15000000000000002, 'dropout2': 0.45000000000000007, 'dropout3': 0.45000000000000007, 'dropout4': 0.35, 'learning_rate': 0.0014455943515239787, 'weight_decay': 0.000516535428939524}. Best is trial 40 with value: 0.625.\n"
     ]
    },
    {
     "name": "stdout",
     "output_type": "stream",
     "text": [
      "Accuracy: 60.40%\n",
      "Precision: 0.4726\n",
      "Recall: 0.8889\n",
      "F1 Score: 0.6171\n",
      "Matthews Correlation Coefficient: 0.3415\n",
      "Specificity: 0.4444\n"
     ]
    },
    {
     "name": "stderr",
     "output_type": "stream",
     "text": [
      "/tmp/ipykernel_186283/1222447431.py:10: FutureWarning: suggest_loguniform has been deprecated in v3.0.0. This feature will be removed in v6.0.0. See https://github.com/optuna/optuna/releases/tag/v3.0.0. Use suggest_float(..., log=True) instead.\n",
      "  learning_rate = trial.suggest_loguniform(\"learning_rate\", 1e-5, 1e-1)\n",
      "/tmp/ipykernel_186283/1222447431.py:11: FutureWarning: suggest_loguniform has been deprecated in v3.0.0. This feature will be removed in v6.0.0. See https://github.com/optuna/optuna/releases/tag/v3.0.0. Use suggest_float(..., log=True) instead.\n",
      "  weight_decay=trial.suggest_loguniform(\"weight_decay\",1e-5,1)\n",
      "[I 2024-11-28 20:21:51,996] Trial 95 finished with value: 0.6253369272237197 and parameters: {'hidden_units1': 462, 'hidden_units2': 152, 'hidden_units3': 122, 'hidden_units4': 46, 'dropout1': 0.4, 'dropout2': 0.45000000000000007, 'dropout3': 0.5, 'dropout4': 0.35, 'learning_rate': 0.0015643715914965776, 'weight_decay': 0.0009972378480755403}. Best is trial 95 with value: 0.6253369272237197.\n"
     ]
    },
    {
     "name": "stdout",
     "output_type": "stream",
     "text": [
      "Accuracy: 60.40%\n",
      "Precision: 0.4735\n",
      "Recall: 0.9206\n",
      "F1 Score: 0.6253\n",
      "Matthews Correlation Coefficient: 0.3629\n",
      "Specificity: 0.4267\n"
     ]
    },
    {
     "name": "stderr",
     "output_type": "stream",
     "text": [
      "/tmp/ipykernel_186283/1222447431.py:10: FutureWarning: suggest_loguniform has been deprecated in v3.0.0. This feature will be removed in v6.0.0. See https://github.com/optuna/optuna/releases/tag/v3.0.0. Use suggest_float(..., log=True) instead.\n",
      "  learning_rate = trial.suggest_loguniform(\"learning_rate\", 1e-5, 1e-1)\n",
      "/tmp/ipykernel_186283/1222447431.py:11: FutureWarning: suggest_loguniform has been deprecated in v3.0.0. This feature will be removed in v6.0.0. See https://github.com/optuna/optuna/releases/tag/v3.0.0. Use suggest_float(..., log=True) instead.\n",
      "  weight_decay=trial.suggest_loguniform(\"weight_decay\",1e-5,1)\n",
      "[I 2024-11-28 20:22:41,008] Trial 96 finished with value: 0.6230366492146597 and parameters: {'hidden_units1': 462, 'hidden_units2': 152, 'hidden_units3': 84, 'hidden_units4': 48, 'dropout1': 0.4, 'dropout2': 0.4, 'dropout3': 0.5, 'dropout4': 0.35, 'learning_rate': 0.0015874111361091714, 'weight_decay': 0.0004246887302390213}. Best is trial 95 with value: 0.6253369272237197.\n"
     ]
    },
    {
     "name": "stdout",
     "output_type": "stream",
     "text": [
      "Accuracy: 58.97%\n",
      "Precision: 0.4648\n",
      "Recall: 0.9444\n",
      "F1 Score: 0.6230\n",
      "Matthews Correlation Coefficient: 0.3623\n",
      "Specificity: 0.3911\n"
     ]
    },
    {
     "name": "stderr",
     "output_type": "stream",
     "text": [
      "/tmp/ipykernel_186283/1222447431.py:10: FutureWarning: suggest_loguniform has been deprecated in v3.0.0. This feature will be removed in v6.0.0. See https://github.com/optuna/optuna/releases/tag/v3.0.0. Use suggest_float(..., log=True) instead.\n",
      "  learning_rate = trial.suggest_loguniform(\"learning_rate\", 1e-5, 1e-1)\n",
      "/tmp/ipykernel_186283/1222447431.py:11: FutureWarning: suggest_loguniform has been deprecated in v3.0.0. This feature will be removed in v6.0.0. See https://github.com/optuna/optuna/releases/tag/v3.0.0. Use suggest_float(..., log=True) instead.\n",
      "  weight_decay=trial.suggest_loguniform(\"weight_decay\",1e-5,1)\n",
      "[I 2024-11-28 20:23:30,172] Trial 97 finished with value: 0.6005830903790087 and parameters: {'hidden_units1': 464, 'hidden_units2': 152, 'hidden_units3': 84, 'hidden_units4': 48, 'dropout1': 0.4, 'dropout2': 0.45000000000000007, 'dropout3': 0.5, 'dropout4': 0.35, 'learning_rate': 0.0027561590687417464, 'weight_decay': 0.0009509174008438258}. Best is trial 95 with value: 0.6253369272237197.\n"
     ]
    },
    {
     "name": "stdout",
     "output_type": "stream",
     "text": [
      "Accuracy: 60.97%\n",
      "Precision: 0.4747\n",
      "Recall: 0.8175\n",
      "F1 Score: 0.6006\n",
      "Matthews Correlation Coefficient: 0.3069\n",
      "Specificity: 0.4933\n"
     ]
    },
    {
     "name": "stderr",
     "output_type": "stream",
     "text": [
      "/tmp/ipykernel_186283/1222447431.py:10: FutureWarning: suggest_loguniform has been deprecated in v3.0.0. This feature will be removed in v6.0.0. See https://github.com/optuna/optuna/releases/tag/v3.0.0. Use suggest_float(..., log=True) instead.\n",
      "  learning_rate = trial.suggest_loguniform(\"learning_rate\", 1e-5, 1e-1)\n",
      "/tmp/ipykernel_186283/1222447431.py:11: FutureWarning: suggest_loguniform has been deprecated in v3.0.0. This feature will be removed in v6.0.0. See https://github.com/optuna/optuna/releases/tag/v3.0.0. Use suggest_float(..., log=True) instead.\n",
      "  weight_decay=trial.suggest_loguniform(\"weight_decay\",1e-5,1)\n",
      "[I 2024-11-28 20:24:15,828] Trial 98 finished with value: 0.6226912928759895 and parameters: {'hidden_units1': 474, 'hidden_units2': 154, 'hidden_units3': 92, 'hidden_units4': 46, 'dropout1': 0.45000000000000007, 'dropout2': 0.4, 'dropout3': 0.5, 'dropout4': 0.35, 'learning_rate': 0.0014544510625935404, 'weight_decay': 0.0004235322011772825}. Best is trial 95 with value: 0.6253369272237197.\n"
     ]
    },
    {
     "name": "stdout",
     "output_type": "stream",
     "text": [
      "Accuracy: 59.26%\n",
      "Precision: 0.4664\n",
      "Recall: 0.9365\n",
      "F1 Score: 0.6227\n",
      "Matthews Correlation Coefficient: 0.3598\n",
      "Specificity: 0.4000\n"
     ]
    },
    {
     "name": "stderr",
     "output_type": "stream",
     "text": [
      "/tmp/ipykernel_186283/1222447431.py:10: FutureWarning: suggest_loguniform has been deprecated in v3.0.0. This feature will be removed in v6.0.0. See https://github.com/optuna/optuna/releases/tag/v3.0.0. Use suggest_float(..., log=True) instead.\n",
      "  learning_rate = trial.suggest_loguniform(\"learning_rate\", 1e-5, 1e-1)\n",
      "/tmp/ipykernel_186283/1222447431.py:11: FutureWarning: suggest_loguniform has been deprecated in v3.0.0. This feature will be removed in v6.0.0. See https://github.com/optuna/optuna/releases/tag/v3.0.0. Use suggest_float(..., log=True) instead.\n",
      "  weight_decay=trial.suggest_loguniform(\"weight_decay\",1e-5,1)\n",
      "[I 2024-11-28 20:25:04,056] Trial 99 finished with value: 0.6074498567335244 and parameters: {'hidden_units1': 474, 'hidden_units2': 154, 'hidden_units3': 88, 'hidden_units4': 50, 'dropout1': 0.5, 'dropout2': 0.4, 'dropout3': 0.5, 'dropout4': 0.35, 'learning_rate': 0.001318745464649486, 'weight_decay': 0.00046361107294533115}. Best is trial 95 with value: 0.6253369272237197.\n"
     ]
    },
    {
     "name": "stdout",
     "output_type": "stream",
     "text": [
      "Accuracy: 60.97%\n",
      "Precision: 0.4753\n",
      "Recall: 0.8413\n",
      "F1 Score: 0.6074\n",
      "Matthews Correlation Coefficient: 0.3202\n",
      "Specificity: 0.4800\n",
      "Best Parameters:  {'hidden_units1': 462, 'hidden_units2': 152, 'hidden_units3': 122, 'hidden_units4': 46, 'dropout1': 0.4, 'dropout2': 0.45000000000000007, 'dropout3': 0.5, 'dropout4': 0.35, 'learning_rate': 0.0015643715914965776, 'weight_decay': 0.0009972378480755403}\n",
      "Best Validation F1:  0.6253369272237197\n"
     ]
    }
   ],
   "source": [
    "device = torch.device(\"cuda\" if torch.cuda.is_available() else \"cpu\")\n",
    "\n",
    "study = optuna.create_study(direction=\"maximize\")  \n",
    "study.optimize(objective, n_trials=100)\n",
    "\n",
    "\n",
    "print(\"Best Parameters: \", study.best_params)\n",
    "print(\"Best Validation F1: \", study.best_value)\n"
   ]
  },
  {
   "cell_type": "code",
   "execution_count": 10,
   "metadata": {},
   "outputs": [
    {
     "name": "stdout",
     "output_type": "stream",
     "text": [
      "Epoch [1/100], Loss: 0.6208\n",
      "Epoch [1/100], Train Loss: 0.6208, Val Loss: 0.5689\n",
      "Epoch [2/100], Loss: 0.5847\n",
      "Epoch [2/100], Train Loss: 0.5847, Val Loss: 0.5656\n",
      "Epoch [3/100], Loss: 0.5775\n",
      "Epoch [3/100], Train Loss: 0.5775, Val Loss: 0.5664\n",
      "Epoch [4/100], Loss: 0.5736\n",
      "Epoch [4/100], Train Loss: 0.5736, Val Loss: 0.5580\n",
      "Epoch [5/100], Loss: 0.5725\n",
      "Epoch [5/100], Train Loss: 0.5725, Val Loss: 0.5551\n",
      "Epoch [6/100], Loss: 0.5672\n",
      "Epoch [6/100], Train Loss: 0.5672, Val Loss: 0.5510\n",
      "Epoch [7/100], Loss: 0.5643\n",
      "Epoch [7/100], Train Loss: 0.5643, Val Loss: 0.5523\n",
      "Epoch [8/100], Loss: 0.5612\n",
      "Epoch [8/100], Train Loss: 0.5612, Val Loss: 0.5533\n",
      "Epoch [9/100], Loss: 0.5609\n",
      "Epoch [9/100], Train Loss: 0.5609, Val Loss: 0.5531\n",
      "Epoch [10/100], Loss: 0.5642\n",
      "Epoch [10/100], Train Loss: 0.5642, Val Loss: 0.5491\n",
      "Epoch [11/100], Loss: 0.5562\n",
      "Epoch [11/100], Train Loss: 0.5562, Val Loss: 0.5507\n",
      "Epoch [12/100], Loss: 0.5636\n",
      "Epoch [12/100], Train Loss: 0.5636, Val Loss: 0.5503\n",
      "Epoch [13/100], Loss: 0.5575\n",
      "Epoch [13/100], Train Loss: 0.5575, Val Loss: 0.5505\n",
      "Epoch [14/100], Loss: 0.5637\n",
      "Epoch [14/100], Train Loss: 0.5637, Val Loss: 0.5531\n",
      "Epoch [15/100], Loss: 0.5661\n",
      "Epoch [15/100], Train Loss: 0.5661, Val Loss: 0.5527\n",
      "Epoch [16/100], Loss: 0.5564\n",
      "Epoch [16/100], Train Loss: 0.5564, Val Loss: 0.5492\n",
      "Epoch [17/100], Loss: 0.5613\n",
      "Epoch [17/100], Train Loss: 0.5613, Val Loss: 0.5485\n",
      "Epoch [18/100], Loss: 0.5630\n",
      "Epoch [18/100], Train Loss: 0.5630, Val Loss: 0.5507\n",
      "Epoch [19/100], Loss: 0.5650\n",
      "Epoch [19/100], Train Loss: 0.5650, Val Loss: 0.5501\n",
      "Epoch [20/100], Loss: 0.5627\n",
      "Epoch [20/100], Train Loss: 0.5627, Val Loss: 0.5539\n",
      "Epoch [21/100], Loss: 0.5623\n",
      "Epoch [21/100], Train Loss: 0.5623, Val Loss: 0.5517\n",
      "Epoch [22/100], Loss: 0.5589\n",
      "Epoch [22/100], Train Loss: 0.5589, Val Loss: 0.5520\n",
      "Epoch [23/100], Loss: 0.5581\n",
      "Epoch [23/100], Train Loss: 0.5581, Val Loss: 0.5524\n",
      "Epoch [24/100], Loss: 0.5589\n",
      "Epoch [24/100], Train Loss: 0.5589, Val Loss: 0.5542\n",
      "Epoch [25/100], Loss: 0.5598\n",
      "Epoch [25/100], Train Loss: 0.5598, Val Loss: 0.5521\n",
      "Epoch [26/100], Loss: 0.5647\n",
      "Epoch [26/100], Train Loss: 0.5647, Val Loss: 0.5486\n",
      "Epoch [27/100], Loss: 0.5643\n",
      "Epoch [27/100], Train Loss: 0.5643, Val Loss: 0.5510\n",
      "Epoch [28/100], Loss: 0.5587\n",
      "Epoch [28/100], Train Loss: 0.5587, Val Loss: 0.5514\n",
      "Epoch [29/100], Loss: 0.5569\n",
      "Epoch [29/100], Train Loss: 0.5569, Val Loss: 0.5532\n",
      "Epoch [30/100], Loss: 0.5611\n",
      "Epoch [30/100], Train Loss: 0.5611, Val Loss: 0.5512\n",
      "Epoch [31/100], Loss: 0.5597\n",
      "Epoch [31/100], Train Loss: 0.5597, Val Loss: 0.5494\n",
      "Epoch [32/100], Loss: 0.5646\n",
      "Epoch [32/100], Train Loss: 0.5646, Val Loss: 0.5516\n",
      "Epoch [33/100], Loss: 0.5602\n",
      "Epoch [33/100], Train Loss: 0.5602, Val Loss: 0.5550\n",
      "Epoch [34/100], Loss: 0.5620\n",
      "Epoch [34/100], Train Loss: 0.5620, Val Loss: 0.5545\n",
      "Epoch [35/100], Loss: 0.5652\n",
      "Epoch [35/100], Train Loss: 0.5652, Val Loss: 0.5489\n",
      "Epoch [36/100], Loss: 0.5582\n",
      "Epoch [36/100], Train Loss: 0.5582, Val Loss: 0.5480\n",
      "Epoch [37/100], Loss: 0.5612\n",
      "Epoch [37/100], Train Loss: 0.5612, Val Loss: 0.5488\n",
      "Epoch [38/100], Loss: 0.5551\n",
      "Epoch [38/100], Train Loss: 0.5551, Val Loss: 0.5461\n",
      "Epoch [39/100], Loss: 0.5609\n",
      "Epoch [39/100], Train Loss: 0.5609, Val Loss: 0.5502\n",
      "Epoch [40/100], Loss: 0.5639\n",
      "Epoch [40/100], Train Loss: 0.5639, Val Loss: 0.5504\n",
      "Epoch [41/100], Loss: 0.5535\n",
      "Epoch [41/100], Train Loss: 0.5535, Val Loss: 0.5478\n",
      "Epoch [42/100], Loss: 0.5559\n",
      "Epoch [42/100], Train Loss: 0.5559, Val Loss: 0.5505\n",
      "Epoch [43/100], Loss: 0.5530\n",
      "Epoch [43/100], Train Loss: 0.5530, Val Loss: 0.5465\n",
      "Epoch [44/100], Loss: 0.5584\n",
      "Epoch [44/100], Train Loss: 0.5584, Val Loss: 0.5479\n",
      "Epoch [45/100], Loss: 0.5588\n",
      "Epoch [45/100], Train Loss: 0.5588, Val Loss: 0.5491\n",
      "Epoch [46/100], Loss: 0.5628\n",
      "Epoch [46/100], Train Loss: 0.5628, Val Loss: 0.5501\n",
      "Epoch [47/100], Loss: 0.5587\n",
      "Epoch [47/100], Train Loss: 0.5587, Val Loss: 0.5481\n",
      "Epoch [48/100], Loss: 0.5553\n",
      "Epoch [48/100], Train Loss: 0.5553, Val Loss: 0.5526\n",
      "Epoch [49/100], Loss: 0.5571\n",
      "Epoch [49/100], Train Loss: 0.5571, Val Loss: 0.5515\n",
      "Epoch [50/100], Loss: 0.5563\n",
      "Epoch [50/100], Train Loss: 0.5563, Val Loss: 0.5487\n",
      "Epoch [51/100], Loss: 0.5608\n",
      "Epoch [51/100], Train Loss: 0.5608, Val Loss: 0.5485\n",
      "Epoch [52/100], Loss: 0.5565\n",
      "Epoch [52/100], Train Loss: 0.5565, Val Loss: 0.5524\n",
      "Epoch [53/100], Loss: 0.5534\n",
      "Epoch [53/100], Train Loss: 0.5534, Val Loss: 0.5485\n",
      "Epoch [54/100], Loss: 0.5516\n",
      "Epoch [54/100], Train Loss: 0.5516, Val Loss: 0.5510\n",
      "Epoch [55/100], Loss: 0.5586\n",
      "Epoch [55/100], Train Loss: 0.5586, Val Loss: 0.5514\n",
      "Epoch [56/100], Loss: 0.5616\n",
      "Epoch [56/100], Train Loss: 0.5616, Val Loss: 0.5471\n",
      "Epoch [57/100], Loss: 0.5541\n",
      "Epoch [57/100], Train Loss: 0.5541, Val Loss: 0.5517\n",
      "Epoch [58/100], Loss: 0.5630\n",
      "Epoch [58/100], Train Loss: 0.5630, Val Loss: 0.5512\n",
      "Epoch [59/100], Loss: 0.5637\n",
      "Epoch [59/100], Train Loss: 0.5637, Val Loss: 0.5537\n",
      "Epoch [60/100], Loss: 0.5555\n",
      "Epoch [60/100], Train Loss: 0.5555, Val Loss: 0.5543\n",
      "Epoch [61/100], Loss: 0.5580\n",
      "Epoch [61/100], Train Loss: 0.5580, Val Loss: 0.5524\n",
      "Epoch [62/100], Loss: 0.5601\n",
      "Epoch [62/100], Train Loss: 0.5601, Val Loss: 0.5532\n",
      "Epoch [63/100], Loss: 0.5521\n",
      "Epoch [63/100], Train Loss: 0.5521, Val Loss: 0.5490\n",
      "Epoch [64/100], Loss: 0.5554\n",
      "Epoch [64/100], Train Loss: 0.5554, Val Loss: 0.5402\n",
      "Epoch [65/100], Loss: 0.5515\n",
      "Epoch [65/100], Train Loss: 0.5515, Val Loss: 0.5494\n",
      "Epoch [66/100], Loss: 0.5588\n",
      "Epoch [66/100], Train Loss: 0.5588, Val Loss: 0.5455\n",
      "Epoch [67/100], Loss: 0.5538\n",
      "Epoch [67/100], Train Loss: 0.5538, Val Loss: 0.5455\n",
      "Epoch [68/100], Loss: 0.5578\n",
      "Epoch [68/100], Train Loss: 0.5578, Val Loss: 0.5522\n",
      "Epoch [69/100], Loss: 0.5561\n",
      "Epoch [69/100], Train Loss: 0.5561, Val Loss: 0.5509\n",
      "Epoch [70/100], Loss: 0.5520\n",
      "Epoch [70/100], Train Loss: 0.5520, Val Loss: 0.5527\n",
      "Epoch [71/100], Loss: 0.5505\n",
      "Epoch [71/100], Train Loss: 0.5505, Val Loss: 0.5461\n",
      "Epoch [72/100], Loss: 0.5549\n",
      "Epoch [72/100], Train Loss: 0.5549, Val Loss: 0.5512\n",
      "Epoch [73/100], Loss: 0.5508\n",
      "Epoch [73/100], Train Loss: 0.5508, Val Loss: 0.5525\n",
      "Epoch [74/100], Loss: 0.5511\n",
      "Epoch [74/100], Train Loss: 0.5511, Val Loss: 0.5528\n",
      "Epoch [75/100], Loss: 0.5555\n",
      "Epoch [75/100], Train Loss: 0.5555, Val Loss: 0.5532\n",
      "Epoch [76/100], Loss: 0.5500\n",
      "Epoch [76/100], Train Loss: 0.5500, Val Loss: 0.5521\n",
      "Epoch [77/100], Loss: 0.5497\n",
      "Epoch [77/100], Train Loss: 0.5497, Val Loss: 0.5473\n",
      "Epoch [78/100], Loss: 0.5505\n",
      "Epoch [78/100], Train Loss: 0.5505, Val Loss: 0.5513\n",
      "Epoch [79/100], Loss: 0.5537\n",
      "Epoch [79/100], Train Loss: 0.5537, Val Loss: 0.5504\n",
      "Epoch [80/100], Loss: 0.5547\n",
      "Epoch [80/100], Train Loss: 0.5547, Val Loss: 0.5500\n",
      "Epoch [81/100], Loss: 0.5526\n",
      "Epoch [81/100], Train Loss: 0.5526, Val Loss: 0.5504\n",
      "Epoch [82/100], Loss: 0.5529\n",
      "Epoch [82/100], Train Loss: 0.5529, Val Loss: 0.5538\n",
      "Epoch [83/100], Loss: 0.5607\n",
      "Epoch [83/100], Train Loss: 0.5607, Val Loss: 0.5522\n",
      "Epoch [84/100], Loss: 0.5557\n",
      "Epoch [84/100], Train Loss: 0.5557, Val Loss: 0.5483\n",
      "Epoch [85/100], Loss: 0.5527\n",
      "Epoch [85/100], Train Loss: 0.5527, Val Loss: 0.5504\n",
      "Epoch [86/100], Loss: 0.5497\n",
      "Epoch [86/100], Train Loss: 0.5497, Val Loss: 0.5545\n",
      "Epoch [87/100], Loss: 0.5538\n",
      "Epoch [87/100], Train Loss: 0.5538, Val Loss: 0.5478\n",
      "Epoch [88/100], Loss: 0.5472\n",
      "Epoch [88/100], Train Loss: 0.5472, Val Loss: 0.5488\n",
      "Epoch [89/100], Loss: 0.5524\n",
      "Epoch [89/100], Train Loss: 0.5524, Val Loss: 0.5499\n",
      "Epoch [90/100], Loss: 0.5522\n",
      "Epoch [90/100], Train Loss: 0.5522, Val Loss: 0.5523\n",
      "Epoch [91/100], Loss: 0.5523\n",
      "Epoch [91/100], Train Loss: 0.5523, Val Loss: 0.5538\n",
      "Epoch [92/100], Loss: 0.5524\n",
      "Epoch [92/100], Train Loss: 0.5524, Val Loss: 0.5504\n",
      "Epoch [93/100], Loss: 0.5509\n",
      "Epoch [93/100], Train Loss: 0.5509, Val Loss: 0.5499\n",
      "Epoch [94/100], Loss: 0.5561\n",
      "Epoch [94/100], Train Loss: 0.5561, Val Loss: 0.5561\n",
      "Epoch [95/100], Loss: 0.5536\n",
      "Epoch [95/100], Train Loss: 0.5536, Val Loss: 0.5517\n",
      "Epoch [96/100], Loss: 0.5567\n",
      "Epoch [96/100], Train Loss: 0.5567, Val Loss: 0.5562\n",
      "Epoch [97/100], Loss: 0.5538\n",
      "Epoch [97/100], Train Loss: 0.5538, Val Loss: 0.5581\n",
      "Epoch [98/100], Loss: 0.5532\n",
      "Epoch [98/100], Train Loss: 0.5532, Val Loss: 0.5546\n",
      "Epoch [99/100], Loss: 0.5541\n",
      "Epoch [99/100], Train Loss: 0.5541, Val Loss: 0.5522\n",
      "Epoch [100/100], Loss: 0.5518\n",
      "Epoch [100/100], Train Loss: 0.5518, Val Loss: 0.5483\n"
     ]
    },
    {
     "data": {
      "image/png": "[encoded data removed]",
      "text/plain": [
       "<Figure size 1000x600 with 1 Axes>"
      ]
     },
     "metadata": {},
     "output_type": "display_data"
    }
   ],
   "source": [
    "best_params=study.best_params\n",
    "model = DNN_4(input_dim=X_train_tensor.shape[1],\n",
    "              hidden_units1=best_params[\"hidden_units1\"],\n",
    "              hidden_units2=best_params[\"hidden_units2\"],\n",
    "              hidden_units3=best_params[\"hidden_units3\"],\n",
    "              hidden_units4=best_params[\"hidden_units4\"],\n",
    "              dropout1=best_params[\"dropout1\"],\n",
    "              dropout2=best_params[\"dropout2\"],\n",
    "              dropout3=best_params[\"dropout3\"],\n",
    "              dropout4=best_params[\"dropout4\"]).to(device)\n",
    "# 最適化と訓練を実行\n",
    "optimizer = optim.Adam(model.parameters(), lr=best_params[\"learning_rate\"],weight_decay=best_params[\"weight_decay\"])\n",
    "criterion = nn.BCELoss()\n",
    "\n",
    "num_epochs=100\n",
    "train_losses = []\n",
    "val_losses = []\n",
    "\n",
    "model.train()\n",
    "for epoch in range(num_epochs):\n",
    "    epoch_train_loss = 0\n",
    "    epoch_val_loss = 0\n",
    "\n",
    "    for X_batch, y_batch in train_loader:\n",
    "        X_batch, y_batch = X_batch.to(device), y_batch.to(device)\n",
    "        optimizer.zero_grad()\n",
    "        outputs = model(X_batch).squeeze()\n",
    "        loss = criterion(outputs, y_batch)\n",
    "        loss.backward()\n",
    "        optimizer.step()\n",
    "        epoch_train_loss += loss.item()\n",
    "    avg_train_loss = epoch_train_loss / len(train_loader)\n",
    "    train_losses.append(avg_train_loss)\n",
    "    print(f'Epoch [{epoch+1}/{num_epochs}], Loss: {avg_train_loss:.4f}')\n",
    "\n",
    "    if val_loader is not None:\n",
    "        model.eval()  \n",
    "        with torch.no_grad():\n",
    "            for X_val, y_val in val_loader:\n",
    "                X_val, y_val = X_val.to(device), y_val.to(device)\n",
    "                val_outputs = model(X_val).squeeze()\n",
    "                val_loss = criterion(val_outputs, y_val)\n",
    "                epoch_val_loss += val_loss.item()\n",
    "\n",
    "        avg_val_loss = epoch_val_loss / len(val_loader)\n",
    "        val_losses.append(avg_val_loss)\n",
    "        model.train()  \n",
    "\n",
    "    if val_loader is not None:\n",
    "        print(f\"Epoch [{epoch+1}/{num_epochs}], Train Loss: {avg_train_loss:.4f}, Val Loss: {avg_val_loss:.4f}\")\n",
    "    else:\n",
    "        print(f\"Epoch [{epoch+1}/{num_epochs}], Train Loss: {avg_train_loss:.4f}\")\n",
    "\n",
    "plt.figure(figsize=(10, 6))\n",
    "plt.plot(range(1, num_epochs + 1), train_losses, label='Train Loss')\n",
    "if val_losses:\n",
    "    plt.plot(range(1, num_epochs + 1), val_losses, label='Validation Loss')\n",
    "plt.xlabel('Epoch')\n",
    "plt.ylabel('Loss')\n",
    "plt.title('Learning Curve for DNN1')\n",
    "plt.legend()\n",
    "plt.grid()\n",
    "plt.show()"
   ]
  },
  {
   "cell_type": "code",
   "execution_count": 15,
   "metadata": {},
   "outputs": [
    {
     "name": "stdout",
     "output_type": "stream",
     "text": [
      "Accuracy: 59.00%\n",
      "Precision: 0.4591\n",
      "Recall: 0.3481\n",
      "F1 Score: 0.3960\n",
      "Matthews Correlation Coefficient: 0.0965\n",
      "Specificity: 0.7421\n"
     ]
    },
    {
     "data": {
      "image/png": "[encoded data removed]",
      "text/plain": [
       "<Figure size 640x480 with 1 Axes>"
      ]
     },
     "metadata": {},
     "output_type": "display_data"
    },
    {
     "data": {
      "image/png": "[encoded data removed]",
      "text/plain": [
       "<Figure size 640x480 with 1 Axes>"
      ]
     },
     "metadata": {},
     "output_type": "display_data"
    },
    {
     "data": {
      "image/png": "[encoded data removed]",
      "text/plain": [
       "<Figure size 640x480 with 1 Axes>"
      ]
     },
     "metadata": {},
     "output_type": "display_data"
    }
   ],
   "source": [
    "model.eval()\n",
    "with torch.no_grad():\n",
    "    X_test_tensor = X_test_tensor.to(device)\n",
    "    y_test_tensor = y_test_tensor.to(device)\n",
    "\n",
    "    # 予測と確率\n",
    "    test_outputs = model(X_test_tensor).squeeze()\n",
    "    predictions = (test_outputs >= 0.5).float()\n",
    "    y_true = y_test_tensor.cpu().numpy()\n",
    "    y_pred = predictions.cpu().numpy()\n",
    "    y_prob = test_outputs.cpu().numpy()\n",
    "\n",
    "# 評価指標\n",
    "    accuracy = accuracy_score(y_true, y_pred)\n",
    "    precision = precision_score(y_true, y_pred)\n",
    "    recall = recall_score(y_true, y_pred)\n",
    "    f1 = f1_score(y_true, y_pred)\n",
    "    mcc = matthews_corrcoef(y_true, y_pred)\n",
    "    specificity = recall_score(y_true, y_pred, pos_label=0)  \n",
    "    print(f'Accuracy: {accuracy * 100:.2f}%')\n",
    "    print(f'Precision: {precision:.4f}')\n",
    "    print(f'Recall: {recall:.4f}')\n",
    "    print(f'F1 Score: {f1:.4f}')\n",
    "    print(f'Matthews Correlation Coefficient: {mcc:.4f}')\n",
    "    print(f'Specificity: {specificity:.4f}')\n",
    "\n",
    "    # 混同行列（割合表示）\n",
    "    cm = confusion_matrix(y_true, y_pred, normalize='true')\n",
    "    sns.heatmap(cm, annot=True, fmt=\".2%\", cmap=\"Blues\", cbar=False)\n",
    "    plt.xlabel(\"Predicted\")\n",
    "    plt.ylabel(\"Actual\")\n",
    "    plt.title(f\"Confusion Matrix (Normalized)\")\n",
    "    plt.show()\n",
    "\n",
    "    # ROC曲線とAUC\n",
    "    fpr, tpr, thresholds = roc_curve(y_true, y_prob)\n",
    "    roc_auc = auc(fpr, tpr)\n",
    "    plt.plot(fpr, tpr, label=f'ROC curve (AUC = {roc_auc:.2f})')\n",
    "    plt.plot([0, 1], [0, 1], 'k--') \n",
    "    plt.xlabel('False Positive Rate')\n",
    "    plt.ylabel('True Positive Rate')\n",
    "    plt.title(f'ROC Curve - Model ')\n",
    "    plt.legend(loc=\"lower right\")\n",
    "    plt.show()\n",
    "\n",
    "    # Precision-Recall曲線\n",
    "    precision_curve, recall_curve, pr_thresholds = precision_recall_curve(y_true, y_prob)\n",
    "    pr_auc = auc(recall_curve, precision_curve)\n",
    "    plt.plot(recall_curve, precision_curve, label=f'PR curve (AUC = {pr_auc:.2f})')\n",
    "    plt.xlabel('Recall')\n",
    "    plt.ylabel('Precision')\n",
    "    plt.title(f'Precision-Recall Curve ')\n",
    "    plt.legend(loc=\"lower left\")\n",
    "    plt.show()    "
   ]
  },
  {
   "cell_type": "code",
   "execution_count": 16,
   "metadata": {},
   "outputs": [],
   "source": [
    "# モデルと構造を保存\n",
    "torch.save(model, '../../saved_model/DNN_4.pth')\n"
   ]
  },
  {
   "cell_type": "code",
   "execution_count": null,
   "metadata": {},
   "outputs": [],
   "source": []
  }
 ],
 "metadata": {
  "kernelspec": {
   "display_name": "torch",
   "language": "python",
   "name": "python3"
  },
  "language_info": {
   "codemirror_mode": {
    "name": "ipython",
    "version": 3
   },
   "file_extension": ".py",
   "mimetype": "text/x-python",
   "name": "python",
   "nbconvert_exporter": "python",
   "pygments_lexer": "ipython3",
   "version": "3.12.7"
  }
 },
 "nbformat": 4,
 "nbformat_minor": 2
}
