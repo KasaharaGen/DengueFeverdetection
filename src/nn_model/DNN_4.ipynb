{
 "cells": [
  {
   "cell_type": "code",
   "execution_count": 24,
   "metadata": {},
   "outputs": [],
   "source": [
    "import numpy as np\n",
    "import pandas as pd\n",
    "import matplotlib.pyplot as plt\n",
    "import seaborn as sns\n",
    "\n",
    "import torch\n",
    "import torch.nn as nn\n",
    "import torch.optim as optim\n",
    "\n",
    "import optuna\n",
    "\n",
    "from sklearn.model_selection import train_test_split\n",
    "from sklearn.metrics import confusion_matrix,accuracy_score, precision_score, recall_score, f1_score, confusion_matrix, roc_curve, auc,matthews_corrcoef, precision_recall_curve,roc_auc_score\n",
    "\n"
   ]
  },
  {
   "cell_type": "markdown",
   "metadata": {},
   "source": [
    "データ読み取り"
   ]
  },
  {
   "cell_type": "code",
   "execution_count": 25,
   "metadata": {},
   "outputs": [],
   "source": [
    "df=pd.read_csv('../../data/learning_data.csv',index_col=0)\n",
    "\n",
    "X=df.drop(columns='dengue',axis=1).values\n",
    "y=df['dengue'].values\n",
    "\n",
    "X_train, X_test, y_train, y_test = train_test_split(X, y, test_size=0.2,random_state=42)\n",
    "X_train, X_val, y_train, y_val = train_test_split(X_train, y_train, test_size=0.1,random_state=42)\n",
    "\n",
    "#torchテンソルに変換\n",
    "X_train_tensor = torch.tensor(X_train, dtype=torch.float32)\n",
    "y_train_tensor = torch.tensor(y_train, dtype=torch.float32)\n",
    "X_test_tensor = torch.tensor(X_test, dtype=torch.float32)\n",
    "y_test_tensor = torch.tensor(y_test, dtype=torch.float32)\n",
    "X_val_tensor = torch.tensor(X_val, dtype=torch.float32)\n",
    "y_val_tensor = torch.tensor(y_val, dtype=torch.float32)\n"
   ]
  },
  {
   "cell_type": "code",
   "execution_count": 26,
   "metadata": {},
   "outputs": [],
   "source": [
    "class DNN_4(nn.Module):\n",
    "    def __init__(self, input_dim,hidden_units1,hidden_units2,hidden_units3,hidden_units4,dropout1,dropout2,dropout3,dropout4):\n",
    "        super(DNN_4, self).__init__()\n",
    "        self.layer1 = nn.Linear(input_dim,hidden_units1)\n",
    "        self.layer2 = nn.Linear(hidden_units1,hidden_units2)\n",
    "        self.layer3 = nn.Linear(hidden_units2, hidden_units3)\n",
    "        self.layer4 = nn.Linear(hidden_units3, hidden_units4)\n",
    "        self.output_layer = nn.Linear(hidden_units4, 1)\n",
    "\n",
    "        self.dropout1 = nn.Dropout(dropout1)\n",
    "        self.dropout2 = nn.Dropout(dropout2)\n",
    "        self.dropout3 = nn.Dropout(dropout3)\n",
    "        self.dropout4 = nn.Dropout(dropout4)\n",
    "\n",
    "\n",
    "        self.bn1 = nn.BatchNorm1d(hidden_units1)\n",
    "        self.bn2 = nn.BatchNorm1d(hidden_units2)\n",
    "        self.bn3 = nn.BatchNorm1d(hidden_units3)\n",
    "        self.bn4 = nn.BatchNorm1d(hidden_units4)\n",
    "\n",
    "        \n",
    "        \n",
    "    def forward(self, x):\n",
    "        x = torch.relu(self.bn1(self.layer1(x)))\n",
    "        x = self.dropout1(x)\n",
    "        \n",
    "        x = torch.relu(self.bn2(self.layer2(x)))\n",
    "        x = self.dropout2(x)\n",
    "\n",
    "        x = torch.relu(self.bn3(self.layer3(x)))\n",
    "        x = self.dropout3(x)\n",
    "\n",
    "        x = torch.relu(self.bn4(self.layer4(x)))\n",
    "        x = self.dropout4(x)\n",
    "\n",
    "        x = torch.sigmoid(self.output_layer(x)) \n",
    "        return x\n",
    "    "
   ]
  },
  {
   "cell_type": "markdown",
   "metadata": {},
   "source": [
    "学習データセットの作成"
   ]
  },
  {
   "cell_type": "code",
   "execution_count": 27,
   "metadata": {},
   "outputs": [],
   "source": [
    "train_dataset = torch.utils.data.TensorDataset(X_train_tensor, y_train_tensor)\n",
    "train_loader = torch.utils.data.DataLoader(dataset=train_dataset, batch_size=32, shuffle=True)\n",
    "\n",
    "val_dataset = torch.utils.data.TensorDataset(X_val_tensor, y_val_tensor)\n",
    "val_loader = torch.utils.data.DataLoader(dataset=val_dataset, batch_size=32, shuffle=False)"
   ]
  },
  {
   "cell_type": "markdown",
   "metadata": {},
   "source": [
    "Optunaの設定"
   ]
  },
  {
   "cell_type": "code",
   "execution_count": 28,
   "metadata": {},
   "outputs": [],
   "source": [
    "def objective(trial):\n",
    "    # ハイパーパラメータのサンプリング\n",
    "    hidden_units1 = trial.suggest_int(\"hidden_units1\", 216, 512, step=2)\n",
    "    hidden_units2 = trial.suggest_int(\"hidden_units2\", 128, 216, step=2)\n",
    "    hidden_units3 = trial.suggest_int(\"hidden_units3\", 64, 128, step=2)\n",
    "    hidden_units4 = trial.suggest_int(\"hidden_units4\", 4, 64, step=2)\n",
    "    dropout1 = trial.suggest_float(\"dropout1\", 0, 0.5, step=0.05)\n",
    "    dropout2 = trial.suggest_float(\"dropout2\", 0, 0.5, step=0.05)\n",
    "    dropout3 = trial.suggest_float(\"dropout3\", 0, 0.5, step=0.05)\n",
    "    dropout4 = trial.suggest_float(\"dropout4\", 0, 0.5, step=0.05)\n",
    "    learning_rate = trial.suggest_loguniform(\"learning_rate\", 1e-4, 1e-2)  # 範囲を調整\n",
    "    weight_decay = trial.suggest_loguniform(\"weight_decay\", 1e-5, 1e-2)   # 範囲を調整\n",
    "\n",
    "    # モデル定義\n",
    "    model = DNN_4(\n",
    "        input_dim=X_train_tensor.shape[1],\n",
    "        hidden_units1=hidden_units1,\n",
    "        hidden_units2=hidden_units2,\n",
    "        hidden_units3=hidden_units3,\n",
    "        hidden_units4=hidden_units4,\n",
    "        dropout1=dropout1,\n",
    "        dropout2=dropout2,\n",
    "        dropout3=dropout3,\n",
    "        dropout4=dropout4\n",
    "    ).to(device)\n",
    "\n",
    "    criterion = nn.BCELoss()\n",
    "    optimizer = torch.optim.Adam(model.parameters(), lr=learning_rate, weight_decay=weight_decay)\n",
    "\n",
    "    # Early Stoppingの設定\n",
    "    patience = 10\n",
    "    best_val_loss = float('inf')\n",
    "    patience_counter = 0\n",
    "\n",
    "    # 訓練ループ\n",
    "    num_epochs = 100\n",
    "    for epoch in range(num_epochs):\n",
    "        model.train()\n",
    "        for X_batch, y_batch in train_loader:\n",
    "            X_batch, y_batch = X_batch.to(device), y_batch.to(device)\n",
    "            optimizer.zero_grad()\n",
    "            outputs = model(X_batch).squeeze()\n",
    "            loss = criterion(outputs, y_batch)\n",
    "            loss.backward()\n",
    "            optimizer.step()\n",
    "\n",
    "        # バリデーション評価\n",
    "        model.eval()\n",
    "        val_loss = 0\n",
    "        val_true, val_pred = [], []\n",
    "        with torch.no_grad():\n",
    "            for X_val, y_val in val_loader:\n",
    "                X_val, y_val = X_val.to(device), y_val.to(device)\n",
    "                val_outputs = model(X_val).squeeze()\n",
    "                val_loss += criterion(val_outputs, y_val).item()\n",
    "                predictions = (val_outputs >= 0.5).float()\n",
    "                val_true.extend(y_val.cpu().numpy())\n",
    "                val_pred.extend(predictions.cpu().numpy())\n",
    "\n",
    "        val_loss /= len(val_loader)\n",
    "\n",
    "        # Early Stoppingの判定\n",
    "        if val_loss < best_val_loss:\n",
    "            best_val_loss = val_loss\n",
    "            patience_counter = 0\n",
    "        else:\n",
    "            patience_counter += 1\n",
    "\n",
    "        if patience_counter >= patience:\n",
    "            print(f\"Early stopping at epoch {epoch}\")\n",
    "            break\n",
    "\n",
    "        # Optunaへのログ\n",
    "        trial.report(val_loss, epoch)\n",
    "        if trial.should_prune():\n",
    "            raise optuna.exceptions.TrialPruned()\n",
    "\n",
    "    # 評価指標の計算\n",
    "    mcc = matthews_corrcoef(val_true, val_pred)\n",
    "    print(f\"Final MCC: {mcc:.4f}\")\n",
    "\n",
    "    return mcc  # mccを返す\n"
   ]
  },
  {
   "cell_type": "code",
   "execution_count": 29,
   "metadata": {},
   "outputs": [
    {
     "name": "stderr",
     "output_type": "stream",
     "text": [
      "[I 2024-11-29 18:13:13,345] A new study created in memory with name: no-name-267bc70e-86b2-41bb-a61a-907c7adbb067\n",
      "/tmp/ipykernel_186283/1392438731.py:11: FutureWarning: suggest_loguniform has been deprecated in v3.0.0. This feature will be removed in v6.0.0. See https://github.com/optuna/optuna/releases/tag/v3.0.0. Use suggest_float(..., log=True) instead.\n",
      "  learning_rate = trial.suggest_loguniform(\"learning_rate\", 1e-4, 1e-2)  # 範囲を調整\n",
      "/tmp/ipykernel_186283/1392438731.py:12: FutureWarning: suggest_loguniform has been deprecated in v3.0.0. This feature will be removed in v6.0.0. See https://github.com/optuna/optuna/releases/tag/v3.0.0. Use suggest_float(..., log=True) instead.\n",
      "  weight_decay = trial.suggest_loguniform(\"weight_decay\", 1e-5, 1e-2)   # 範囲を調整\n",
      "[I 2024-11-29 18:13:28,580] Trial 0 finished with value: 0.363456459310993 and parameters: {'hidden_units1': 242, 'hidden_units2': 190, 'hidden_units3': 110, 'hidden_units4': 62, 'dropout1': 0.2, 'dropout2': 0.5, 'dropout3': 0.4, 'dropout4': 0.15000000000000002, 'learning_rate': 0.00010845352027893017, 'weight_decay': 0.0008545981014555544}. Best is trial 0 with value: 0.363456459310993.\n"
     ]
    },
    {
     "name": "stdout",
     "output_type": "stream",
     "text": [
      "Early stopping at epoch 30\n",
      "Final MCC: 0.3635\n"
     ]
    },
    {
     "name": "stderr",
     "output_type": "stream",
     "text": [
      "/tmp/ipykernel_186283/1392438731.py:11: FutureWarning: suggest_loguniform has been deprecated in v3.0.0. This feature will be removed in v6.0.0. See https://github.com/optuna/optuna/releases/tag/v3.0.0. Use suggest_float(..., log=True) instead.\n",
      "  learning_rate = trial.suggest_loguniform(\"learning_rate\", 1e-4, 1e-2)  # 範囲を調整\n",
      "/tmp/ipykernel_186283/1392438731.py:12: FutureWarning: suggest_loguniform has been deprecated in v3.0.0. This feature will be removed in v6.0.0. See https://github.com/optuna/optuna/releases/tag/v3.0.0. Use suggest_float(..., log=True) instead.\n",
      "  weight_decay = trial.suggest_loguniform(\"weight_decay\", 1e-5, 1e-2)   # 範囲を調整\n",
      "[I 2024-11-29 18:13:41,855] Trial 1 finished with value: 0.0 and parameters: {'hidden_units1': 430, 'hidden_units2': 216, 'hidden_units3': 116, 'hidden_units4': 4, 'dropout1': 0.2, 'dropout2': 0.2, 'dropout3': 0.25, 'dropout4': 0.30000000000000004, 'learning_rate': 0.0020878048803826617, 'weight_decay': 0.009939302589013248}. Best is trial 0 with value: 0.363456459310993.\n"
     ]
    },
    {
     "name": "stdout",
     "output_type": "stream",
     "text": [
      "Early stopping at epoch 27\n",
      "Final MCC: 0.0000\n"
     ]
    },
    {
     "name": "stderr",
     "output_type": "stream",
     "text": [
      "/tmp/ipykernel_186283/1392438731.py:11: FutureWarning: suggest_loguniform has been deprecated in v3.0.0. This feature will be removed in v6.0.0. See https://github.com/optuna/optuna/releases/tag/v3.0.0. Use suggest_float(..., log=True) instead.\n",
      "  learning_rate = trial.suggest_loguniform(\"learning_rate\", 1e-4, 1e-2)  # 範囲を調整\n",
      "/tmp/ipykernel_186283/1392438731.py:12: FutureWarning: suggest_loguniform has been deprecated in v3.0.0. This feature will be removed in v6.0.0. See https://github.com/optuna/optuna/releases/tag/v3.0.0. Use suggest_float(..., log=True) instead.\n",
      "  weight_decay = trial.suggest_loguniform(\"weight_decay\", 1e-5, 1e-2)   # 範囲を調整\n",
      "[I 2024-11-29 18:13:58,601] Trial 2 finished with value: 0.13562424637140266 and parameters: {'hidden_units1': 414, 'hidden_units2': 128, 'hidden_units3': 84, 'hidden_units4': 62, 'dropout1': 0.35000000000000003, 'dropout2': 0.5, 'dropout3': 0.45, 'dropout4': 0.05, 'learning_rate': 0.00044219707028402623, 'weight_decay': 0.004818837977617114}. Best is trial 0 with value: 0.363456459310993.\n"
     ]
    },
    {
     "name": "stdout",
     "output_type": "stream",
     "text": [
      "Early stopping at epoch 33\n",
      "Final MCC: 0.1356\n"
     ]
    },
    {
     "name": "stderr",
     "output_type": "stream",
     "text": [
      "/tmp/ipykernel_186283/1392438731.py:11: FutureWarning: suggest_loguniform has been deprecated in v3.0.0. This feature will be removed in v6.0.0. See https://github.com/optuna/optuna/releases/tag/v3.0.0. Use suggest_float(..., log=True) instead.\n",
      "  learning_rate = trial.suggest_loguniform(\"learning_rate\", 1e-4, 1e-2)  # 範囲を調整\n",
      "/tmp/ipykernel_186283/1392438731.py:12: FutureWarning: suggest_loguniform has been deprecated in v3.0.0. This feature will be removed in v6.0.0. See https://github.com/optuna/optuna/releases/tag/v3.0.0. Use suggest_float(..., log=True) instead.\n",
      "  weight_decay = trial.suggest_loguniform(\"weight_decay\", 1e-5, 1e-2)   # 範囲を調整\n",
      "[I 2024-11-29 18:14:13,719] Trial 3 finished with value: 0.09051256444028409 and parameters: {'hidden_units1': 354, 'hidden_units2': 202, 'hidden_units3': 120, 'hidden_units4': 8, 'dropout1': 0.1, 'dropout2': 0.45, 'dropout3': 0.25, 'dropout4': 0.35000000000000003, 'learning_rate': 0.00029923374388035156, 'weight_decay': 2.2623035549130652e-05}. Best is trial 0 with value: 0.363456459310993.\n"
     ]
    },
    {
     "name": "stdout",
     "output_type": "stream",
     "text": [
      "Early stopping at epoch 30\n",
      "Final MCC: 0.0905\n"
     ]
    },
    {
     "name": "stderr",
     "output_type": "stream",
     "text": [
      "/tmp/ipykernel_186283/1392438731.py:11: FutureWarning: suggest_loguniform has been deprecated in v3.0.0. This feature will be removed in v6.0.0. See https://github.com/optuna/optuna/releases/tag/v3.0.0. Use suggest_float(..., log=True) instead.\n",
      "  learning_rate = trial.suggest_loguniform(\"learning_rate\", 1e-4, 1e-2)  # 範囲を調整\n",
      "/tmp/ipykernel_186283/1392438731.py:12: FutureWarning: suggest_loguniform has been deprecated in v3.0.0. This feature will be removed in v6.0.0. See https://github.com/optuna/optuna/releases/tag/v3.0.0. Use suggest_float(..., log=True) instead.\n",
      "  weight_decay = trial.suggest_loguniform(\"weight_decay\", 1e-5, 1e-2)   # 範囲を調整\n",
      "[I 2024-11-29 18:14:24,544] Trial 4 finished with value: 0.1438102961529 and parameters: {'hidden_units1': 226, 'hidden_units2': 206, 'hidden_units3': 96, 'hidden_units4': 46, 'dropout1': 0.05, 'dropout2': 0.5, 'dropout3': 0.25, 'dropout4': 0.5, 'learning_rate': 0.0016005227166539136, 'weight_decay': 0.0001379715227584699}. Best is trial 0 with value: 0.363456459310993.\n"
     ]
    },
    {
     "name": "stdout",
     "output_type": "stream",
     "text": [
      "Early stopping at epoch 21\n",
      "Final MCC: 0.1438\n"
     ]
    },
    {
     "name": "stderr",
     "output_type": "stream",
     "text": [
      "/tmp/ipykernel_186283/1392438731.py:11: FutureWarning: suggest_loguniform has been deprecated in v3.0.0. This feature will be removed in v6.0.0. See https://github.com/optuna/optuna/releases/tag/v3.0.0. Use suggest_float(..., log=True) instead.\n",
      "  learning_rate = trial.suggest_loguniform(\"learning_rate\", 1e-4, 1e-2)  # 範囲を調整\n",
      "/tmp/ipykernel_186283/1392438731.py:12: FutureWarning: suggest_loguniform has been deprecated in v3.0.0. This feature will be removed in v6.0.0. See https://github.com/optuna/optuna/releases/tag/v3.0.0. Use suggest_float(..., log=True) instead.\n",
      "  weight_decay = trial.suggest_loguniform(\"weight_decay\", 1e-5, 1e-2)   # 範囲を調整\n",
      "[I 2024-11-29 18:14:25,063] Trial 5 pruned. \n",
      "[I 2024-11-29 18:14:25,671] Trial 6 pruned. \n",
      "[I 2024-11-29 18:14:26,186] Trial 7 pruned. \n",
      "[I 2024-11-29 18:14:35,975] Trial 8 finished with value: 0.09529760045804525 and parameters: {'hidden_units1': 216, 'hidden_units2': 166, 'hidden_units3': 88, 'hidden_units4': 4, 'dropout1': 0.05, 'dropout2': 0.05, 'dropout3': 0.2, 'dropout4': 0.1, 'learning_rate': 0.0003137854980706468, 'weight_decay': 0.003502100696323835}. Best is trial 0 with value: 0.363456459310993.\n"
     ]
    },
    {
     "name": "stdout",
     "output_type": "stream",
     "text": [
      "Early stopping at epoch 18\n",
      "Final MCC: 0.0953\n"
     ]
    },
    {
     "name": "stderr",
     "output_type": "stream",
     "text": [
      "/tmp/ipykernel_186283/1392438731.py:11: FutureWarning: suggest_loguniform has been deprecated in v3.0.0. This feature will be removed in v6.0.0. See https://github.com/optuna/optuna/releases/tag/v3.0.0. Use suggest_float(..., log=True) instead.\n",
      "  learning_rate = trial.suggest_loguniform(\"learning_rate\", 1e-4, 1e-2)  # 範囲を調整\n",
      "/tmp/ipykernel_186283/1392438731.py:12: FutureWarning: suggest_loguniform has been deprecated in v3.0.0. This feature will be removed in v6.0.0. See https://github.com/optuna/optuna/releases/tag/v3.0.0. Use suggest_float(..., log=True) instead.\n",
      "  weight_decay = trial.suggest_loguniform(\"weight_decay\", 1e-5, 1e-2)   # 範囲を調整\n",
      "[I 2024-11-29 18:14:36,545] Trial 9 pruned. \n",
      "[I 2024-11-29 18:14:58,874] Trial 10 finished with value: 0.20308316053730185 and parameters: {'hidden_units1': 510, 'hidden_units2': 186, 'hidden_units3': 128, 'hidden_units4': 26, 'dropout1': 0.4, 'dropout2': 0.35000000000000003, 'dropout3': 0.4, 'dropout4': 0.0, 'learning_rate': 0.00011619574404411298, 'weight_decay': 0.0010064924035966699}. Best is trial 0 with value: 0.363456459310993.\n"
     ]
    },
    {
     "name": "stdout",
     "output_type": "stream",
     "text": [
      "Early stopping at epoch 43\n",
      "Final MCC: 0.2031\n"
     ]
    },
    {
     "name": "stderr",
     "output_type": "stream",
     "text": [
      "/tmp/ipykernel_186283/1392438731.py:11: FutureWarning: suggest_loguniform has been deprecated in v3.0.0. This feature will be removed in v6.0.0. See https://github.com/optuna/optuna/releases/tag/v3.0.0. Use suggest_float(..., log=True) instead.\n",
      "  learning_rate = trial.suggest_loguniform(\"learning_rate\", 1e-4, 1e-2)  # 範囲を調整\n",
      "/tmp/ipykernel_186283/1392438731.py:12: FutureWarning: suggest_loguniform has been deprecated in v3.0.0. This feature will be removed in v6.0.0. See https://github.com/optuna/optuna/releases/tag/v3.0.0. Use suggest_float(..., log=True) instead.\n",
      "  weight_decay = trial.suggest_loguniform(\"weight_decay\", 1e-5, 1e-2)   # 範囲を調整\n",
      "[I 2024-11-29 18:15:22,831] Trial 11 finished with value: 0.22913681256205473 and parameters: {'hidden_units1': 512, 'hidden_units2': 186, 'hidden_units3': 128, 'hidden_units4': 24, 'dropout1': 0.4, 'dropout2': 0.35000000000000003, 'dropout3': 0.4, 'dropout4': 0.0, 'learning_rate': 0.00010893792652008008, 'weight_decay': 0.0012558068310823053}. Best is trial 0 with value: 0.363456459310993.\n"
     ]
    },
    {
     "name": "stdout",
     "output_type": "stream",
     "text": [
      "Early stopping at epoch 47\n",
      "Final MCC: 0.2291\n"
     ]
    },
    {
     "name": "stderr",
     "output_type": "stream",
     "text": [
      "/tmp/ipykernel_186283/1392438731.py:11: FutureWarning: suggest_loguniform has been deprecated in v3.0.0. This feature will be removed in v6.0.0. See https://github.com/optuna/optuna/releases/tag/v3.0.0. Use suggest_float(..., log=True) instead.\n",
      "  learning_rate = trial.suggest_loguniform(\"learning_rate\", 1e-4, 1e-2)  # 範囲を調整\n",
      "/tmp/ipykernel_186283/1392438731.py:12: FutureWarning: suggest_loguniform has been deprecated in v3.0.0. This feature will be removed in v6.0.0. See https://github.com/optuna/optuna/releases/tag/v3.0.0. Use suggest_float(..., log=True) instead.\n",
      "  weight_decay = trial.suggest_loguniform(\"weight_decay\", 1e-5, 1e-2)   # 範囲を調整\n",
      "[I 2024-11-29 18:15:39,550] Trial 12 finished with value: 0.13756104954577136 and parameters: {'hidden_units1': 512, 'hidden_units2': 186, 'hidden_units3': 104, 'hidden_units4': 20, 'dropout1': 0.35000000000000003, 'dropout2': 0.35000000000000003, 'dropout3': 0.35000000000000003, 'dropout4': 0.2, 'learning_rate': 0.00010601285247812774, 'weight_decay': 0.001081406317271298}. Best is trial 0 with value: 0.363456459310993.\n"
     ]
    },
    {
     "name": "stdout",
     "output_type": "stream",
     "text": [
      "Early stopping at epoch 33\n",
      "Final MCC: 0.1376\n"
     ]
    },
    {
     "name": "stderr",
     "output_type": "stream",
     "text": [
      "/tmp/ipykernel_186283/1392438731.py:11: FutureWarning: suggest_loguniform has been deprecated in v3.0.0. This feature will be removed in v6.0.0. See https://github.com/optuna/optuna/releases/tag/v3.0.0. Use suggest_float(..., log=True) instead.\n",
      "  learning_rate = trial.suggest_loguniform(\"learning_rate\", 1e-4, 1e-2)  # 範囲を調整\n",
      "/tmp/ipykernel_186283/1392438731.py:12: FutureWarning: suggest_loguniform has been deprecated in v3.0.0. This feature will be removed in v6.0.0. See https://github.com/optuna/optuna/releases/tag/v3.0.0. Use suggest_float(..., log=True) instead.\n",
      "  weight_decay = trial.suggest_loguniform(\"weight_decay\", 1e-5, 1e-2)   # 範囲を調整\n",
      "[I 2024-11-29 18:16:04,639] Trial 13 finished with value: 0.15991298293946796 and parameters: {'hidden_units1': 322, 'hidden_units2': 188, 'hidden_units3': 126, 'hidden_units4': 40, 'dropout1': 0.5, 'dropout2': 0.35000000000000003, 'dropout3': 0.0, 'dropout4': 0.0, 'learning_rate': 0.00015581626499282881, 'weight_decay': 0.0009087965334196711}. Best is trial 0 with value: 0.363456459310993.\n"
     ]
    },
    {
     "name": "stdout",
     "output_type": "stream",
     "text": [
      "Early stopping at epoch 53\n",
      "Final MCC: 0.1599\n"
     ]
    },
    {
     "name": "stderr",
     "output_type": "stream",
     "text": [
      "/tmp/ipykernel_186283/1392438731.py:11: FutureWarning: suggest_loguniform has been deprecated in v3.0.0. This feature will be removed in v6.0.0. See https://github.com/optuna/optuna/releases/tag/v3.0.0. Use suggest_float(..., log=True) instead.\n",
      "  learning_rate = trial.suggest_loguniform(\"learning_rate\", 1e-4, 1e-2)  # 範囲を調整\n",
      "/tmp/ipykernel_186283/1392438731.py:12: FutureWarning: suggest_loguniform has been deprecated in v3.0.0. This feature will be removed in v6.0.0. See https://github.com/optuna/optuna/releases/tag/v3.0.0. Use suggest_float(..., log=True) instead.\n",
      "  weight_decay = trial.suggest_loguniform(\"weight_decay\", 1e-5, 1e-2)   # 範囲を調整\n",
      "[I 2024-11-29 18:16:17,077] Trial 14 finished with value: 0.17728105208558367 and parameters: {'hidden_units1': 478, 'hidden_units2': 154, 'hidden_units3': 112, 'hidden_units4': 64, 'dropout1': 0.30000000000000004, 'dropout2': 0.4, 'dropout3': 0.35000000000000003, 'dropout4': 0.1, 'learning_rate': 0.00018797454816690362, 'weight_decay': 0.0005269586774408891}. Best is trial 0 with value: 0.363456459310993.\n"
     ]
    },
    {
     "name": "stdout",
     "output_type": "stream",
     "text": [
      "Early stopping at epoch 24\n",
      "Final MCC: 0.1773\n"
     ]
    },
    {
     "name": "stderr",
     "output_type": "stream",
     "text": [
      "/tmp/ipykernel_186283/1392438731.py:11: FutureWarning: suggest_loguniform has been deprecated in v3.0.0. This feature will be removed in v6.0.0. See https://github.com/optuna/optuna/releases/tag/v3.0.0. Use suggest_float(..., log=True) instead.\n",
      "  learning_rate = trial.suggest_loguniform(\"learning_rate\", 1e-4, 1e-2)  # 範囲を調整\n",
      "/tmp/ipykernel_186283/1392438731.py:12: FutureWarning: suggest_loguniform has been deprecated in v3.0.0. This feature will be removed in v6.0.0. See https://github.com/optuna/optuna/releases/tag/v3.0.0. Use suggest_float(..., log=True) instead.\n",
      "  weight_decay = trial.suggest_loguniform(\"weight_decay\", 1e-5, 1e-2)   # 範囲を調整\n",
      "[I 2024-11-29 18:16:17,674] Trial 15 pruned. \n",
      "[I 2024-11-29 18:16:18,159] Trial 16 pruned. \n",
      "[I 2024-11-29 18:16:18,761] Trial 17 pruned. \n",
      "[I 2024-11-29 18:16:19,293] Trial 18 pruned. \n",
      "[I 2024-11-29 18:16:43,294] Trial 19 finished with value: 0.22855609375122193 and parameters: {'hidden_units1': 260, 'hidden_units2': 156, 'hidden_units3': 98, 'hidden_units4': 38, 'dropout1': 0.25, 'dropout2': 0.45, 'dropout3': 0.30000000000000004, 'dropout4': 0.25, 'learning_rate': 0.00011332716251115053, 'weight_decay': 0.00679945495296253}. Best is trial 0 with value: 0.363456459310993.\n"
     ]
    },
    {
     "name": "stdout",
     "output_type": "stream",
     "text": [
      "Early stopping at epoch 49\n",
      "Final MCC: 0.2286\n"
     ]
    },
    {
     "name": "stderr",
     "output_type": "stream",
     "text": [
      "/tmp/ipykernel_186283/1392438731.py:11: FutureWarning: suggest_loguniform has been deprecated in v3.0.0. This feature will be removed in v6.0.0. See https://github.com/optuna/optuna/releases/tag/v3.0.0. Use suggest_float(..., log=True) instead.\n",
      "  learning_rate = trial.suggest_loguniform(\"learning_rate\", 1e-4, 1e-2)  # 範囲を調整\n",
      "/tmp/ipykernel_186283/1392438731.py:12: FutureWarning: suggest_loguniform has been deprecated in v3.0.0. This feature will be removed in v6.0.0. See https://github.com/optuna/optuna/releases/tag/v3.0.0. Use suggest_float(..., log=True) instead.\n",
      "  weight_decay = trial.suggest_loguniform(\"weight_decay\", 1e-5, 1e-2)   # 範囲を調整\n",
      "[I 2024-11-29 18:16:58,046] Trial 20 finished with value: 0.15456669461361328 and parameters: {'hidden_units1': 468, 'hidden_units2': 178, 'hidden_units3': 110, 'hidden_units4': 26, 'dropout1': 0.2, 'dropout2': 0.4, 'dropout3': 0.4, 'dropout4': 0.45, 'learning_rate': 0.00018094781406556711, 'weight_decay': 0.0016761738538791473}. Best is trial 0 with value: 0.363456459310993.\n"
     ]
    },
    {
     "name": "stdout",
     "output_type": "stream",
     "text": [
      "Early stopping at epoch 31\n",
      "Final MCC: 0.1546\n"
     ]
    },
    {
     "name": "stderr",
     "output_type": "stream",
     "text": [
      "/tmp/ipykernel_186283/1392438731.py:11: FutureWarning: suggest_loguniform has been deprecated in v3.0.0. This feature will be removed in v6.0.0. See https://github.com/optuna/optuna/releases/tag/v3.0.0. Use suggest_float(..., log=True) instead.\n",
      "  learning_rate = trial.suggest_loguniform(\"learning_rate\", 1e-4, 1e-2)  # 範囲を調整\n",
      "/tmp/ipykernel_186283/1392438731.py:12: FutureWarning: suggest_loguniform has been deprecated in v3.0.0. This feature will be removed in v6.0.0. See https://github.com/optuna/optuna/releases/tag/v3.0.0. Use suggest_float(..., log=True) instead.\n",
      "  weight_decay = trial.suggest_loguniform(\"weight_decay\", 1e-5, 1e-2)   # 範囲を調整\n",
      "[I 2024-11-29 18:17:26,113] Trial 21 finished with value: 0.16989681498993767 and parameters: {'hidden_units1': 258, 'hidden_units2': 154, 'hidden_units3': 96, 'hidden_units4': 36, 'dropout1': 0.25, 'dropout2': 0.45, 'dropout3': 0.30000000000000004, 'dropout4': 0.30000000000000004, 'learning_rate': 0.00010604949325367609, 'weight_decay': 0.008933697964659166}. Best is trial 0 with value: 0.363456459310993.\n"
     ]
    },
    {
     "name": "stdout",
     "output_type": "stream",
     "text": [
      "Early stopping at epoch 55\n",
      "Final MCC: 0.1699\n"
     ]
    },
    {
     "name": "stderr",
     "output_type": "stream",
     "text": [
      "/tmp/ipykernel_186283/1392438731.py:11: FutureWarning: suggest_loguniform has been deprecated in v3.0.0. This feature will be removed in v6.0.0. See https://github.com/optuna/optuna/releases/tag/v3.0.0. Use suggest_float(..., log=True) instead.\n",
      "  learning_rate = trial.suggest_loguniform(\"learning_rate\", 1e-4, 1e-2)  # 範囲を調整\n",
      "/tmp/ipykernel_186283/1392438731.py:12: FutureWarning: suggest_loguniform has been deprecated in v3.0.0. This feature will be removed in v6.0.0. See https://github.com/optuna/optuna/releases/tag/v3.0.0. Use suggest_float(..., log=True) instead.\n",
      "  weight_decay = trial.suggest_loguniform(\"weight_decay\", 1e-5, 1e-2)   # 範囲を調整\n",
      "[I 2024-11-29 18:17:42,598] Trial 22 finished with value: 0.07809849151323855 and parameters: {'hidden_units1': 262, 'hidden_units2': 154, 'hidden_units3': 88, 'hidden_units4': 12, 'dropout1': 0.15000000000000002, 'dropout2': 0.45, 'dropout3': 0.30000000000000004, 'dropout4': 0.25, 'learning_rate': 0.00015660247342243417, 'weight_decay': 0.0049876843215401895}. Best is trial 0 with value: 0.363456459310993.\n"
     ]
    },
    {
     "name": "stdout",
     "output_type": "stream",
     "text": [
      "Early stopping at epoch 35\n",
      "Final MCC: 0.0781\n"
     ]
    },
    {
     "name": "stderr",
     "output_type": "stream",
     "text": [
      "/tmp/ipykernel_186283/1392438731.py:11: FutureWarning: suggest_loguniform has been deprecated in v3.0.0. This feature will be removed in v6.0.0. See https://github.com/optuna/optuna/releases/tag/v3.0.0. Use suggest_float(..., log=True) instead.\n",
      "  learning_rate = trial.suggest_loguniform(\"learning_rate\", 1e-4, 1e-2)  # 範囲を調整\n",
      "/tmp/ipykernel_186283/1392438731.py:12: FutureWarning: suggest_loguniform has been deprecated in v3.0.0. This feature will be removed in v6.0.0. See https://github.com/optuna/optuna/releases/tag/v3.0.0. Use suggest_float(..., log=True) instead.\n",
      "  weight_decay = trial.suggest_loguniform(\"weight_decay\", 1e-5, 1e-2)   # 範囲を調整\n",
      "[I 2024-11-29 18:17:43,112] Trial 23 pruned. \n",
      "[I 2024-11-29 18:17:43,659] Trial 24 pruned. \n",
      "[I 2024-11-29 18:18:04,057] Trial 25 finished with value: 0.23412458044872408 and parameters: {'hidden_units1': 288, 'hidden_units2': 192, 'hidden_units3': 120, 'hidden_units4': 36, 'dropout1': 0.15000000000000002, 'dropout2': 0.4, 'dropout3': 0.35000000000000003, 'dropout4': 0.15000000000000002, 'learning_rate': 0.00010001434793996739, 'weight_decay': 0.0014084902756072075}. Best is trial 0 with value: 0.363456459310993.\n"
     ]
    },
    {
     "name": "stdout",
     "output_type": "stream",
     "text": [
      "Early stopping at epoch 40\n",
      "Final MCC: 0.2341\n"
     ]
    },
    {
     "name": "stderr",
     "output_type": "stream",
     "text": [
      "/tmp/ipykernel_186283/1392438731.py:11: FutureWarning: suggest_loguniform has been deprecated in v3.0.0. This feature will be removed in v6.0.0. See https://github.com/optuna/optuna/releases/tag/v3.0.0. Use suggest_float(..., log=True) instead.\n",
      "  learning_rate = trial.suggest_loguniform(\"learning_rate\", 1e-4, 1e-2)  # 範囲を調整\n",
      "/tmp/ipykernel_186283/1392438731.py:12: FutureWarning: suggest_loguniform has been deprecated in v3.0.0. This feature will be removed in v6.0.0. See https://github.com/optuna/optuna/releases/tag/v3.0.0. Use suggest_float(..., log=True) instead.\n",
      "  weight_decay = trial.suggest_loguniform(\"weight_decay\", 1e-5, 1e-2)   # 範囲を調整\n",
      "[I 2024-11-29 18:18:19,202] Trial 26 finished with value: 0.1800840553936537 and parameters: {'hidden_units1': 286, 'hidden_units2': 192, 'hidden_units3': 120, 'hidden_units4': 18, 'dropout1': 0.15000000000000002, 'dropout2': 0.30000000000000004, 'dropout3': 0.4, 'dropout4': 0.15000000000000002, 'learning_rate': 0.0001484146551211982, 'weight_decay': 0.0014278795683855708}. Best is trial 0 with value: 0.363456459310993.\n"
     ]
    },
    {
     "name": "stdout",
     "output_type": "stream",
     "text": [
      "Early stopping at epoch 30\n",
      "Final MCC: 0.1801\n"
     ]
    },
    {
     "name": "stderr",
     "output_type": "stream",
     "text": [
      "/tmp/ipykernel_186283/1392438731.py:11: FutureWarning: suggest_loguniform has been deprecated in v3.0.0. This feature will be removed in v6.0.0. See https://github.com/optuna/optuna/releases/tag/v3.0.0. Use suggest_float(..., log=True) instead.\n",
      "  learning_rate = trial.suggest_loguniform(\"learning_rate\", 1e-4, 1e-2)  # 範囲を調整\n",
      "/tmp/ipykernel_186283/1392438731.py:12: FutureWarning: suggest_loguniform has been deprecated in v3.0.0. This feature will be removed in v6.0.0. See https://github.com/optuna/optuna/releases/tag/v3.0.0. Use suggest_float(..., log=True) instead.\n",
      "  weight_decay = trial.suggest_loguniform(\"weight_decay\", 1e-5, 1e-2)   # 範囲を調整\n",
      "[I 2024-11-29 18:18:31,210] Trial 27 finished with value: 0.1438102961529 and parameters: {'hidden_units1': 334, 'hidden_units2': 182, 'hidden_units3': 122, 'hidden_units4': 28, 'dropout1': 0.1, 'dropout2': 0.4, 'dropout3': 0.35000000000000003, 'dropout4': 0.05, 'learning_rate': 0.0004065390222674427, 'weight_decay': 0.0005981117963201918}. Best is trial 0 with value: 0.363456459310993.\n"
     ]
    },
    {
     "name": "stdout",
     "output_type": "stream",
     "text": [
      "Early stopping at epoch 24\n",
      "Final MCC: 0.1438\n"
     ]
    },
    {
     "name": "stderr",
     "output_type": "stream",
     "text": [
      "/tmp/ipykernel_186283/1392438731.py:11: FutureWarning: suggest_loguniform has been deprecated in v3.0.0. This feature will be removed in v6.0.0. See https://github.com/optuna/optuna/releases/tag/v3.0.0. Use suggest_float(..., log=True) instead.\n",
      "  learning_rate = trial.suggest_loguniform(\"learning_rate\", 1e-4, 1e-2)  # 範囲を調整\n",
      "/tmp/ipykernel_186283/1392438731.py:12: FutureWarning: suggest_loguniform has been deprecated in v3.0.0. This feature will be removed in v6.0.0. See https://github.com/optuna/optuna/releases/tag/v3.0.0. Use suggest_float(..., log=True) instead.\n",
      "  weight_decay = trial.suggest_loguniform(\"weight_decay\", 1e-5, 1e-2)   # 範囲を調整\n",
      "[I 2024-11-29 18:18:31,791] Trial 28 pruned. \n",
      "[I 2024-11-29 18:18:32,250] Trial 29 pruned. \n",
      "[I 2024-11-29 18:18:32,688] Trial 30 pruned. \n",
      "[I 2024-11-29 18:18:50,901] Trial 31 finished with value: 0.15635070158909536 and parameters: {'hidden_units1': 276, 'hidden_units2': 172, 'hidden_units3': 120, 'hidden_units4': 38, 'dropout1': 0.2, 'dropout2': 0.45, 'dropout3': 0.30000000000000004, 'dropout4': 0.25, 'learning_rate': 0.00010800838228719505, 'weight_decay': 0.009953111215857907}. Best is trial 0 with value: 0.363456459310993.\n"
     ]
    },
    {
     "name": "stdout",
     "output_type": "stream",
     "text": [
      "Early stopping at epoch 39\n",
      "Final MCC: 0.1564\n"
     ]
    },
    {
     "name": "stderr",
     "output_type": "stream",
     "text": [
      "/tmp/ipykernel_186283/1392438731.py:11: FutureWarning: suggest_loguniform has been deprecated in v3.0.0. This feature will be removed in v6.0.0. See https://github.com/optuna/optuna/releases/tag/v3.0.0. Use suggest_float(..., log=True) instead.\n",
      "  learning_rate = trial.suggest_loguniform(\"learning_rate\", 1e-4, 1e-2)  # 範囲を調整\n",
      "/tmp/ipykernel_186283/1392438731.py:12: FutureWarning: suggest_loguniform has been deprecated in v3.0.0. This feature will be removed in v6.0.0. See https://github.com/optuna/optuna/releases/tag/v3.0.0. Use suggest_float(..., log=True) instead.\n",
      "  weight_decay = trial.suggest_loguniform(\"weight_decay\", 1e-5, 1e-2)   # 範囲を調整\n",
      "[I 2024-11-29 18:19:07,526] Trial 32 finished with value: 0.09213462593266854 and parameters: {'hidden_units1': 308, 'hidden_units2': 192, 'hidden_units3': 106, 'hidden_units4': 34, 'dropout1': 0.25, 'dropout2': 0.5, 'dropout3': 0.35000000000000003, 'dropout4': 0.35000000000000003, 'learning_rate': 0.00013892626473754164, 'weight_decay': 0.006454312933099463}. Best is trial 0 with value: 0.363456459310993.\n"
     ]
    },
    {
     "name": "stdout",
     "output_type": "stream",
     "text": [
      "Early stopping at epoch 33\n",
      "Final MCC: 0.0921\n"
     ]
    },
    {
     "name": "stderr",
     "output_type": "stream",
     "text": [
      "/tmp/ipykernel_186283/1392438731.py:11: FutureWarning: suggest_loguniform has been deprecated in v3.0.0. This feature will be removed in v6.0.0. See https://github.com/optuna/optuna/releases/tag/v3.0.0. Use suggest_float(..., log=True) instead.\n",
      "  learning_rate = trial.suggest_loguniform(\"learning_rate\", 1e-4, 1e-2)  # 範囲を調整\n",
      "/tmp/ipykernel_186283/1392438731.py:12: FutureWarning: suggest_loguniform has been deprecated in v3.0.0. This feature will be removed in v6.0.0. See https://github.com/optuna/optuna/releases/tag/v3.0.0. Use suggest_float(..., log=True) instead.\n",
      "  weight_decay = trial.suggest_loguniform(\"weight_decay\", 1e-5, 1e-2)   # 範囲を調整\n",
      "[I 2024-11-29 18:19:37,884] Trial 33 finished with value: 0.33428792028904475 and parameters: {'hidden_units1': 268, 'hidden_units2': 128, 'hidden_units3': 128, 'hidden_units4': 60, 'dropout1': 0.35000000000000003, 'dropout2': 0.4, 'dropout3': 0.4, 'dropout4': 0.2, 'learning_rate': 0.00013119184657981876, 'weight_decay': 0.0007773085136006188}. Best is trial 0 with value: 0.363456459310993.\n"
     ]
    },
    {
     "name": "stdout",
     "output_type": "stream",
     "text": [
      "Early stopping at epoch 62\n",
      "Final MCC: 0.3343\n"
     ]
    },
    {
     "name": "stderr",
     "output_type": "stream",
     "text": [
      "/tmp/ipykernel_186283/1392438731.py:11: FutureWarning: suggest_loguniform has been deprecated in v3.0.0. This feature will be removed in v6.0.0. See https://github.com/optuna/optuna/releases/tag/v3.0.0. Use suggest_float(..., log=True) instead.\n",
      "  learning_rate = trial.suggest_loguniform(\"learning_rate\", 1e-4, 1e-2)  # 範囲を調整\n",
      "/tmp/ipykernel_186283/1392438731.py:12: FutureWarning: suggest_loguniform has been deprecated in v3.0.0. This feature will be removed in v6.0.0. See https://github.com/optuna/optuna/releases/tag/v3.0.0. Use suggest_float(..., log=True) instead.\n",
      "  weight_decay = trial.suggest_loguniform(\"weight_decay\", 1e-5, 1e-2)   # 範囲を調整\n",
      "[I 2024-11-29 18:20:03,569] Trial 34 finished with value: 0.1537350115670227 and parameters: {'hidden_units1': 334, 'hidden_units2': 132, 'hidden_units3': 128, 'hidden_units4': 60, 'dropout1': 0.35000000000000003, 'dropout2': 0.4, 'dropout3': 0.45, 'dropout4': 0.2, 'learning_rate': 0.00014033850932850537, 'weight_decay': 0.0008184935393254179}. Best is trial 0 with value: 0.363456459310993.\n"
     ]
    },
    {
     "name": "stdout",
     "output_type": "stream",
     "text": [
      "Early stopping at epoch 53\n",
      "Final MCC: 0.1537\n"
     ]
    },
    {
     "name": "stderr",
     "output_type": "stream",
     "text": [
      "/tmp/ipykernel_186283/1392438731.py:11: FutureWarning: suggest_loguniform has been deprecated in v3.0.0. This feature will be removed in v6.0.0. See https://github.com/optuna/optuna/releases/tag/v3.0.0. Use suggest_float(..., log=True) instead.\n",
      "  learning_rate = trial.suggest_loguniform(\"learning_rate\", 1e-4, 1e-2)  # 範囲を調整\n",
      "/tmp/ipykernel_186283/1392438731.py:12: FutureWarning: suggest_loguniform has been deprecated in v3.0.0. This feature will be removed in v6.0.0. See https://github.com/optuna/optuna/releases/tag/v3.0.0. Use suggest_float(..., log=True) instead.\n",
      "  weight_decay = trial.suggest_loguniform(\"weight_decay\", 1e-5, 1e-2)   # 範囲を調整\n",
      "[I 2024-11-29 18:20:04,126] Trial 35 pruned. \n",
      "[I 2024-11-29 18:20:04,697] Trial 36 pruned. \n",
      "[I 2024-11-29 18:20:05,259] Trial 37 pruned. \n",
      "[I 2024-11-29 18:20:23,564] Trial 38 finished with value: 0.26613248971641873 and parameters: {'hidden_units1': 272, 'hidden_units2': 172, 'hidden_units3': 122, 'hidden_units4': 44, 'dropout1': 0.30000000000000004, 'dropout2': 0.5, 'dropout3': 0.5, 'dropout4': 0.1, 'learning_rate': 0.00013422772387160028, 'weight_decay': 0.0006917332202872131}. Best is trial 0 with value: 0.363456459310993.\n"
     ]
    },
    {
     "name": "stdout",
     "output_type": "stream",
     "text": [
      "Early stopping at epoch 36\n",
      "Final MCC: 0.2661\n"
     ]
    },
    {
     "name": "stderr",
     "output_type": "stream",
     "text": [
      "/tmp/ipykernel_186283/1392438731.py:11: FutureWarning: suggest_loguniform has been deprecated in v3.0.0. This feature will be removed in v6.0.0. See https://github.com/optuna/optuna/releases/tag/v3.0.0. Use suggest_float(..., log=True) instead.\n",
      "  learning_rate = trial.suggest_loguniform(\"learning_rate\", 1e-4, 1e-2)  # 範囲を調整\n",
      "/tmp/ipykernel_186283/1392438731.py:12: FutureWarning: suggest_loguniform has been deprecated in v3.0.0. This feature will be removed in v6.0.0. See https://github.com/optuna/optuna/releases/tag/v3.0.0. Use suggest_float(..., log=True) instead.\n",
      "  weight_decay = trial.suggest_loguniform(\"weight_decay\", 1e-5, 1e-2)   # 範囲を調整\n",
      "[I 2024-11-29 18:20:24,094] Trial 39 pruned. \n",
      "[I 2024-11-29 18:20:24,632] Trial 40 pruned. \n",
      "[I 2024-11-29 18:20:25,179] Trial 41 pruned. \n",
      "[I 2024-11-29 18:20:25,780] Trial 42 pruned. \n",
      "[I 2024-11-29 18:20:46,495] Trial 43 finished with value: 0.1721463019918058 and parameters: {'hidden_units1': 306, 'hidden_units2': 170, 'hidden_units3': 126, 'hidden_units4': 60, 'dropout1': 0.35000000000000003, 'dropout2': 0.35000000000000003, 'dropout3': 0.4, 'dropout4': 0.0, 'learning_rate': 0.00010192377247595792, 'weight_decay': 0.00044630670151528726}. Best is trial 0 with value: 0.363456459310993.\n"
     ]
    },
    {
     "name": "stdout",
     "output_type": "stream",
     "text": [
      "Early stopping at epoch 40\n",
      "Final MCC: 0.1721\n"
     ]
    },
    {
     "name": "stderr",
     "output_type": "stream",
     "text": [
      "/tmp/ipykernel_186283/1392438731.py:11: FutureWarning: suggest_loguniform has been deprecated in v3.0.0. This feature will be removed in v6.0.0. See https://github.com/optuna/optuna/releases/tag/v3.0.0. Use suggest_float(..., log=True) instead.\n",
      "  learning_rate = trial.suggest_loguniform(\"learning_rate\", 1e-4, 1e-2)  # 範囲を調整\n",
      "/tmp/ipykernel_186283/1392438731.py:12: FutureWarning: suggest_loguniform has been deprecated in v3.0.0. This feature will be removed in v6.0.0. See https://github.com/optuna/optuna/releases/tag/v3.0.0. Use suggest_float(..., log=True) instead.\n",
      "  weight_decay = trial.suggest_loguniform(\"weight_decay\", 1e-5, 1e-2)   # 範囲を調整\n",
      "[I 2024-11-29 18:21:08,988] Trial 44 finished with value: 0.08571428571428572 and parameters: {'hidden_units1': 246, 'hidden_units2': 188, 'hidden_units3': 122, 'hidden_units4': 16, 'dropout1': 0.30000000000000004, 'dropout2': 0.5, 'dropout3': 0.25, 'dropout4': 0.2, 'learning_rate': 0.00013103885861646733, 'weight_decay': 0.000736751963561903}. Best is trial 0 with value: 0.363456459310993.\n"
     ]
    },
    {
     "name": "stdout",
     "output_type": "stream",
     "text": [
      "Early stopping at epoch 44\n",
      "Final MCC: 0.0857\n"
     ]
    },
    {
     "name": "stderr",
     "output_type": "stream",
     "text": [
      "/tmp/ipykernel_186283/1392438731.py:11: FutureWarning: suggest_loguniform has been deprecated in v3.0.0. This feature will be removed in v6.0.0. See https://github.com/optuna/optuna/releases/tag/v3.0.0. Use suggest_float(..., log=True) instead.\n",
      "  learning_rate = trial.suggest_loguniform(\"learning_rate\", 1e-4, 1e-2)  # 範囲を調整\n",
      "/tmp/ipykernel_186283/1392438731.py:12: FutureWarning: suggest_loguniform has been deprecated in v3.0.0. This feature will be removed in v6.0.0. See https://github.com/optuna/optuna/releases/tag/v3.0.0. Use suggest_float(..., log=True) instead.\n",
      "  weight_decay = trial.suggest_loguniform(\"weight_decay\", 1e-5, 1e-2)   # 範囲を調整\n",
      "[I 2024-11-29 18:21:09,589] Trial 45 pruned. \n",
      "[I 2024-11-29 18:21:10,155] Trial 46 pruned. \n",
      "[I 2024-11-29 18:21:10,715] Trial 47 pruned. \n",
      "[I 2024-11-29 18:21:11,300] Trial 48 pruned. \n",
      "[I 2024-11-29 18:21:11,843] Trial 49 pruned. \n",
      "[I 2024-11-29 18:21:12,388] Trial 50 pruned. \n",
      "[I 2024-11-29 18:21:34,968] Trial 51 finished with value: 0.21698743599056877 and parameters: {'hidden_units1': 256, 'hidden_units2': 160, 'hidden_units3': 100, 'hidden_units4': 38, 'dropout1': 0.15000000000000002, 'dropout2': 0.45, 'dropout3': 0.35000000000000003, 'dropout4': 0.25, 'learning_rate': 0.00012311716779640135, 'weight_decay': 0.00034637375889243937}. Best is trial 0 with value: 0.363456459310993.\n"
     ]
    },
    {
     "name": "stdout",
     "output_type": "stream",
     "text": [
      "Early stopping at epoch 46\n",
      "Final MCC: 0.2170\n"
     ]
    },
    {
     "name": "stderr",
     "output_type": "stream",
     "text": [
      "/tmp/ipykernel_186283/1392438731.py:11: FutureWarning: suggest_loguniform has been deprecated in v3.0.0. This feature will be removed in v6.0.0. See https://github.com/optuna/optuna/releases/tag/v3.0.0. Use suggest_float(..., log=True) instead.\n",
      "  learning_rate = trial.suggest_loguniform(\"learning_rate\", 1e-4, 1e-2)  # 範囲を調整\n",
      "/tmp/ipykernel_186283/1392438731.py:12: FutureWarning: suggest_loguniform has been deprecated in v3.0.0. This feature will be removed in v6.0.0. See https://github.com/optuna/optuna/releases/tag/v3.0.0. Use suggest_float(..., log=True) instead.\n",
      "  weight_decay = trial.suggest_loguniform(\"weight_decay\", 1e-5, 1e-2)   # 範囲を調整\n",
      "[I 2024-11-29 18:21:59,107] Trial 52 finished with value: 0.20191135200894691 and parameters: {'hidden_units1': 250, 'hidden_units2': 174, 'hidden_units3': 98, 'hidden_units4': 42, 'dropout1': 0.25, 'dropout2': 0.4, 'dropout3': 0.30000000000000004, 'dropout4': 0.30000000000000004, 'learning_rate': 0.00012088727382362368, 'weight_decay': 0.004669692343956391}. Best is trial 0 with value: 0.363456459310993.\n"
     ]
    },
    {
     "name": "stdout",
     "output_type": "stream",
     "text": [
      "Early stopping at epoch 48\n",
      "Final MCC: 0.2019\n"
     ]
    },
    {
     "name": "stderr",
     "output_type": "stream",
     "text": [
      "/tmp/ipykernel_186283/1392438731.py:11: FutureWarning: suggest_loguniform has been deprecated in v3.0.0. This feature will be removed in v6.0.0. See https://github.com/optuna/optuna/releases/tag/v3.0.0. Use suggest_float(..., log=True) instead.\n",
      "  learning_rate = trial.suggest_loguniform(\"learning_rate\", 1e-4, 1e-2)  # 範囲を調整\n",
      "/tmp/ipykernel_186283/1392438731.py:12: FutureWarning: suggest_loguniform has been deprecated in v3.0.0. This feature will be removed in v6.0.0. See https://github.com/optuna/optuna/releases/tag/v3.0.0. Use suggest_float(..., log=True) instead.\n",
      "  weight_decay = trial.suggest_loguniform(\"weight_decay\", 1e-5, 1e-2)   # 範囲を調整\n",
      "[I 2024-11-29 18:21:59,611] Trial 53 pruned. \n",
      "[I 2024-11-29 18:22:28,452] Trial 54 finished with value: 0.21900322682555096 and parameters: {'hidden_units1': 224, 'hidden_units2': 136, 'hidden_units3': 84, 'hidden_units4': 46, 'dropout1': 0.25, 'dropout2': 0.5, 'dropout3': 0.25, 'dropout4': 0.25, 'learning_rate': 0.00012148876316585342, 'weight_decay': 1.173114360260212e-05}. Best is trial 0 with value: 0.363456459310993.\n"
     ]
    },
    {
     "name": "stdout",
     "output_type": "stream",
     "text": [
      "Early stopping at epoch 58\n",
      "Final MCC: 0.2190\n"
     ]
    },
    {
     "name": "stderr",
     "output_type": "stream",
     "text": [
      "/tmp/ipykernel_186283/1392438731.py:11: FutureWarning: suggest_loguniform has been deprecated in v3.0.0. This feature will be removed in v6.0.0. See https://github.com/optuna/optuna/releases/tag/v3.0.0. Use suggest_float(..., log=True) instead.\n",
      "  learning_rate = trial.suggest_loguniform(\"learning_rate\", 1e-4, 1e-2)  # 範囲を調整\n",
      "/tmp/ipykernel_186283/1392438731.py:12: FutureWarning: suggest_loguniform has been deprecated in v3.0.0. This feature will be removed in v6.0.0. See https://github.com/optuna/optuna/releases/tag/v3.0.0. Use suggest_float(..., log=True) instead.\n",
      "  weight_decay = trial.suggest_loguniform(\"weight_decay\", 1e-5, 1e-2)   # 範囲を調整\n",
      "[I 2024-11-29 18:22:29,033] Trial 55 pruned. \n",
      "[I 2024-11-29 18:22:29,639] Trial 56 pruned. \n",
      "[I 2024-11-29 18:22:57,268] Trial 57 finished with value: 0.2037191993564762 and parameters: {'hidden_units1': 452, 'hidden_units2': 170, 'hidden_units3': 114, 'hidden_units4': 24, 'dropout1': 0.35000000000000003, 'dropout2': 0.5, 'dropout3': 0.30000000000000004, 'dropout4': 0.15000000000000002, 'learning_rate': 0.00010383877698203461, 'weight_decay': 0.006829323224733552}. Best is trial 0 with value: 0.363456459310993.\n"
     ]
    },
    {
     "name": "stdout",
     "output_type": "stream",
     "text": [
      "Early stopping at epoch 57\n",
      "Final MCC: 0.2037\n"
     ]
    },
    {
     "name": "stderr",
     "output_type": "stream",
     "text": [
      "/tmp/ipykernel_186283/1392438731.py:11: FutureWarning: suggest_loguniform has been deprecated in v3.0.0. This feature will be removed in v6.0.0. See https://github.com/optuna/optuna/releases/tag/v3.0.0. Use suggest_float(..., log=True) instead.\n",
      "  learning_rate = trial.suggest_loguniform(\"learning_rate\", 1e-4, 1e-2)  # 範囲を調整\n",
      "/tmp/ipykernel_186283/1392438731.py:12: FutureWarning: suggest_loguniform has been deprecated in v3.0.0. This feature will be removed in v6.0.0. See https://github.com/optuna/optuna/releases/tag/v3.0.0. Use suggest_float(..., log=True) instead.\n",
      "  weight_decay = trial.suggest_loguniform(\"weight_decay\", 1e-5, 1e-2)   # 範囲を調整\n",
      "[I 2024-11-29 18:22:57,752] Trial 58 pruned. \n",
      "[I 2024-11-29 18:22:58,260] Trial 59 pruned. \n",
      "[I 2024-11-29 18:22:58,800] Trial 60 pruned. \n",
      "[I 2024-11-29 18:22:59,292] Trial 61 pruned. \n",
      "[I 2024-11-29 18:23:29,024] Trial 62 finished with value: 0.3811990835675518 and parameters: {'hidden_units1': 216, 'hidden_units2': 138, 'hidden_units3': 80, 'hidden_units4': 40, 'dropout1': 0.25, 'dropout2': 0.5, 'dropout3': 0.25, 'dropout4': 0.30000000000000004, 'learning_rate': 0.00012093315885040423, 'weight_decay': 6.767122950949325e-05}. Best is trial 62 with value: 0.3811990835675518.\n"
     ]
    },
    {
     "name": "stdout",
     "output_type": "stream",
     "text": [
      "Early stopping at epoch 59\n",
      "Final MCC: 0.3812\n"
     ]
    },
    {
     "name": "stderr",
     "output_type": "stream",
     "text": [
      "/tmp/ipykernel_186283/1392438731.py:11: FutureWarning: suggest_loguniform has been deprecated in v3.0.0. This feature will be removed in v6.0.0. See https://github.com/optuna/optuna/releases/tag/v3.0.0. Use suggest_float(..., log=True) instead.\n",
      "  learning_rate = trial.suggest_loguniform(\"learning_rate\", 1e-4, 1e-2)  # 範囲を調整\n",
      "/tmp/ipykernel_186283/1392438731.py:12: FutureWarning: suggest_loguniform has been deprecated in v3.0.0. This feature will be removed in v6.0.0. See https://github.com/optuna/optuna/releases/tag/v3.0.0. Use suggest_float(..., log=True) instead.\n",
      "  weight_decay = trial.suggest_loguniform(\"weight_decay\", 1e-5, 1e-2)   # 範囲を調整\n",
      "[I 2024-11-29 18:23:29,551] Trial 63 pruned. \n",
      "[I 2024-11-29 18:24:07,453] Trial 64 finished with value: 0.2287784829831316 and parameters: {'hidden_units1': 216, 'hidden_units2': 138, 'hidden_units3': 80, 'hidden_units4': 42, 'dropout1': 0.30000000000000004, 'dropout2': 0.5, 'dropout3': 0.30000000000000004, 'dropout4': 0.35000000000000003, 'learning_rate': 0.00011642221701594904, 'weight_decay': 6.094141891230959e-05}. Best is trial 62 with value: 0.3811990835675518.\n"
     ]
    },
    {
     "name": "stdout",
     "output_type": "stream",
     "text": [
      "Early stopping at epoch 77\n",
      "Final MCC: 0.2288\n"
     ]
    },
    {
     "name": "stderr",
     "output_type": "stream",
     "text": [
      "/tmp/ipykernel_186283/1392438731.py:11: FutureWarning: suggest_loguniform has been deprecated in v3.0.0. This feature will be removed in v6.0.0. See https://github.com/optuna/optuna/releases/tag/v3.0.0. Use suggest_float(..., log=True) instead.\n",
      "  learning_rate = trial.suggest_loguniform(\"learning_rate\", 1e-4, 1e-2)  # 範囲を調整\n",
      "/tmp/ipykernel_186283/1392438731.py:12: FutureWarning: suggest_loguniform has been deprecated in v3.0.0. This feature will be removed in v6.0.0. See https://github.com/optuna/optuna/releases/tag/v3.0.0. Use suggest_float(..., log=True) instead.\n",
      "  weight_decay = trial.suggest_loguniform(\"weight_decay\", 1e-5, 1e-2)   # 範囲を調整\n",
      "[I 2024-11-29 18:24:08,059] Trial 65 pruned. \n",
      "[I 2024-11-29 18:24:08,660] Trial 66 pruned. \n",
      "[I 2024-11-29 18:24:42,635] Trial 67 finished with value: 0.24617499524869557 and parameters: {'hidden_units1': 216, 'hidden_units2': 196, 'hidden_units3': 86, 'hidden_units4': 44, 'dropout1': 0.35000000000000003, 'dropout2': 0.5, 'dropout3': 0.45, 'dropout4': 0.35000000000000003, 'learning_rate': 0.0001401189882604602, 'weight_decay': 4.440727764243967e-05}. Best is trial 62 with value: 0.3811990835675518.\n"
     ]
    },
    {
     "name": "stdout",
     "output_type": "stream",
     "text": [
      "Early stopping at epoch 68\n",
      "Final MCC: 0.2462\n"
     ]
    },
    {
     "name": "stderr",
     "output_type": "stream",
     "text": [
      "/tmp/ipykernel_186283/1392438731.py:11: FutureWarning: suggest_loguniform has been deprecated in v3.0.0. This feature will be removed in v6.0.0. See https://github.com/optuna/optuna/releases/tag/v3.0.0. Use suggest_float(..., log=True) instead.\n",
      "  learning_rate = trial.suggest_loguniform(\"learning_rate\", 1e-4, 1e-2)  # 範囲を調整\n",
      "/tmp/ipykernel_186283/1392438731.py:12: FutureWarning: suggest_loguniform has been deprecated in v3.0.0. This feature will be removed in v6.0.0. See https://github.com/optuna/optuna/releases/tag/v3.0.0. Use suggest_float(..., log=True) instead.\n",
      "  weight_decay = trial.suggest_loguniform(\"weight_decay\", 1e-5, 1e-2)   # 範囲を調整\n",
      "[I 2024-11-29 18:24:43,233] Trial 68 pruned. \n",
      "[I 2024-11-29 18:24:43,797] Trial 69 pruned. \n",
      "[I 2024-11-29 18:24:44,379] Trial 70 pruned. \n",
      "[I 2024-11-29 18:25:20,545] Trial 71 finished with value: 0.2244755939415051 and parameters: {'hidden_units1': 218, 'hidden_units2': 146, 'hidden_units3': 78, 'hidden_units4': 40, 'dropout1': 0.30000000000000004, 'dropout2': 0.5, 'dropout3': 0.4, 'dropout4': 0.35000000000000003, 'learning_rate': 0.00011731579240273831, 'weight_decay': 4.856694666036436e-05}. Best is trial 62 with value: 0.3811990835675518.\n"
     ]
    },
    {
     "name": "stdout",
     "output_type": "stream",
     "text": [
      "Early stopping at epoch 74\n",
      "Final MCC: 0.2245\n"
     ]
    },
    {
     "name": "stderr",
     "output_type": "stream",
     "text": [
      "/tmp/ipykernel_186283/1392438731.py:11: FutureWarning: suggest_loguniform has been deprecated in v3.0.0. This feature will be removed in v6.0.0. See https://github.com/optuna/optuna/releases/tag/v3.0.0. Use suggest_float(..., log=True) instead.\n",
      "  learning_rate = trial.suggest_loguniform(\"learning_rate\", 1e-4, 1e-2)  # 範囲を調整\n",
      "/tmp/ipykernel_186283/1392438731.py:12: FutureWarning: suggest_loguniform has been deprecated in v3.0.0. This feature will be removed in v6.0.0. See https://github.com/optuna/optuna/releases/tag/v3.0.0. Use suggest_float(..., log=True) instead.\n",
      "  weight_decay = trial.suggest_loguniform(\"weight_decay\", 1e-5, 1e-2)   # 範囲を調整\n",
      "[I 2024-11-29 18:25:53,903] Trial 72 finished with value: 0.12480195223650359 and parameters: {'hidden_units1': 232, 'hidden_units2': 186, 'hidden_units3': 82, 'hidden_units4': 44, 'dropout1': 0.30000000000000004, 'dropout2': 0.5, 'dropout3': 0.45, 'dropout4': 0.4, 'learning_rate': 0.0001377631442459053, 'weight_decay': 9.048875762237855e-05}. Best is trial 62 with value: 0.3811990835675518.\n"
     ]
    },
    {
     "name": "stdout",
     "output_type": "stream",
     "text": [
      "Early stopping at epoch 68\n",
      "Final MCC: 0.1248\n"
     ]
    },
    {
     "name": "stderr",
     "output_type": "stream",
     "text": [
      "/tmp/ipykernel_186283/1392438731.py:11: FutureWarning: suggest_loguniform has been deprecated in v3.0.0. This feature will be removed in v6.0.0. See https://github.com/optuna/optuna/releases/tag/v3.0.0. Use suggest_float(..., log=True) instead.\n",
      "  learning_rate = trial.suggest_loguniform(\"learning_rate\", 1e-4, 1e-2)  # 範囲を調整\n",
      "/tmp/ipykernel_186283/1392438731.py:12: FutureWarning: suggest_loguniform has been deprecated in v3.0.0. This feature will be removed in v6.0.0. See https://github.com/optuna/optuna/releases/tag/v3.0.0. Use suggest_float(..., log=True) instead.\n",
      "  weight_decay = trial.suggest_loguniform(\"weight_decay\", 1e-5, 1e-2)   # 範囲を調整\n",
      "[I 2024-11-29 18:26:21,801] Trial 73 finished with value: 0.14004372495031395 and parameters: {'hidden_units1': 216, 'hidden_units2': 212, 'hidden_units3': 126, 'hidden_units4': 38, 'dropout1': 0.35000000000000003, 'dropout2': 0.5, 'dropout3': 0.4, 'dropout4': 0.30000000000000004, 'learning_rate': 0.00011710979718075142, 'weight_decay': 7.682450719655047e-05}. Best is trial 62 with value: 0.3811990835675518.\n"
     ]
    },
    {
     "name": "stdout",
     "output_type": "stream",
     "text": [
      "Early stopping at epoch 59\n",
      "Final MCC: 0.1400\n"
     ]
    },
    {
     "name": "stderr",
     "output_type": "stream",
     "text": [
      "/tmp/ipykernel_186283/1392438731.py:11: FutureWarning: suggest_loguniform has been deprecated in v3.0.0. This feature will be removed in v6.0.0. See https://github.com/optuna/optuna/releases/tag/v3.0.0. Use suggest_float(..., log=True) instead.\n",
      "  learning_rate = trial.suggest_loguniform(\"learning_rate\", 1e-4, 1e-2)  # 範囲を調整\n",
      "/tmp/ipykernel_186283/1392438731.py:12: FutureWarning: suggest_loguniform has been deprecated in v3.0.0. This feature will be removed in v6.0.0. See https://github.com/optuna/optuna/releases/tag/v3.0.0. Use suggest_float(..., log=True) instead.\n",
      "  weight_decay = trial.suggest_loguniform(\"weight_decay\", 1e-5, 1e-2)   # 範囲を調整\n",
      "[I 2024-11-29 18:26:22,486] Trial 74 pruned. \n",
      "[I 2024-11-29 18:26:23,152] Trial 75 pruned. \n",
      "[I 2024-11-29 18:27:00,024] Trial 76 finished with value: 0.16750253386239206 and parameters: {'hidden_units1': 242, 'hidden_units2': 178, 'hidden_units3': 128, 'hidden_units4': 32, 'dropout1': 0.30000000000000004, 'dropout2': 0.5, 'dropout3': 0.45, 'dropout4': 0.4, 'learning_rate': 0.0001111600895544236, 'weight_decay': 4.954021123050017e-05}. Best is trial 62 with value: 0.3811990835675518.\n"
     ]
    },
    {
     "name": "stdout",
     "output_type": "stream",
     "text": [
      "Early stopping at epoch 71\n",
      "Final MCC: 0.1675\n"
     ]
    },
    {
     "name": "stderr",
     "output_type": "stream",
     "text": [
      "/tmp/ipykernel_186283/1392438731.py:11: FutureWarning: suggest_loguniform has been deprecated in v3.0.0. This feature will be removed in v6.0.0. See https://github.com/optuna/optuna/releases/tag/v3.0.0. Use suggest_float(..., log=True) instead.\n",
      "  learning_rate = trial.suggest_loguniform(\"learning_rate\", 1e-4, 1e-2)  # 範囲を調整\n",
      "/tmp/ipykernel_186283/1392438731.py:12: FutureWarning: suggest_loguniform has been deprecated in v3.0.0. This feature will be removed in v6.0.0. See https://github.com/optuna/optuna/releases/tag/v3.0.0. Use suggest_float(..., log=True) instead.\n",
      "  weight_decay = trial.suggest_loguniform(\"weight_decay\", 1e-5, 1e-2)   # 範囲を調整\n",
      "[I 2024-11-29 18:27:00,686] Trial 77 pruned. \n",
      "[I 2024-11-29 18:27:01,174] Trial 78 pruned. \n",
      "[I 2024-11-29 18:27:01,584] Trial 79 pruned. \n",
      "[I 2024-11-29 18:27:40,652] Trial 80 finished with value: 0.12649110640673517 and parameters: {'hidden_units1': 256, 'hidden_units2': 190, 'hidden_units3': 86, 'hidden_units4': 12, 'dropout1': 0.45, 'dropout2': 0.45, 'dropout3': 0.30000000000000004, 'dropout4': 0.45, 'learning_rate': 0.0001121163645965891, 'weight_decay': 4.0505041717209344e-05}. Best is trial 62 with value: 0.3811990835675518.\n"
     ]
    },
    {
     "name": "stdout",
     "output_type": "stream",
     "text": [
      "Early stopping at epoch 79\n",
      "Final MCC: 0.1265\n"
     ]
    },
    {
     "name": "stderr",
     "output_type": "stream",
     "text": [
      "/tmp/ipykernel_186283/1392438731.py:11: FutureWarning: suggest_loguniform has been deprecated in v3.0.0. This feature will be removed in v6.0.0. See https://github.com/optuna/optuna/releases/tag/v3.0.0. Use suggest_float(..., log=True) instead.\n",
      "  learning_rate = trial.suggest_loguniform(\"learning_rate\", 1e-4, 1e-2)  # 範囲を調整\n",
      "/tmp/ipykernel_186283/1392438731.py:12: FutureWarning: suggest_loguniform has been deprecated in v3.0.0. This feature will be removed in v6.0.0. See https://github.com/optuna/optuna/releases/tag/v3.0.0. Use suggest_float(..., log=True) instead.\n",
      "  weight_decay = trial.suggest_loguniform(\"weight_decay\", 1e-5, 1e-2)   # 範囲を調整\n",
      "[I 2024-11-29 18:27:41,269] Trial 81 pruned. \n",
      "[I 2024-11-29 18:27:41,899] Trial 82 pruned. \n",
      "[I 2024-11-29 18:27:42,521] Trial 83 pruned. \n",
      "[I 2024-11-29 18:28:15,908] Trial 84 finished with value: 0.24082549233882844 and parameters: {'hidden_units1': 252, 'hidden_units2': 146, 'hidden_units3': 104, 'hidden_units4': 48, 'dropout1': 0.30000000000000004, 'dropout2': 0.45, 'dropout3': 0.35000000000000003, 'dropout4': 0.0, 'learning_rate': 0.00011771613855295346, 'weight_decay': 0.0010112727885566517}. Best is trial 62 with value: 0.3811990835675518.\n"
     ]
    },
    {
     "name": "stdout",
     "output_type": "stream",
     "text": [
      "Early stopping at epoch 70\n",
      "Final MCC: 0.2408\n"
     ]
    },
    {
     "name": "stderr",
     "output_type": "stream",
     "text": [
      "/tmp/ipykernel_186283/1392438731.py:11: FutureWarning: suggest_loguniform has been deprecated in v3.0.0. This feature will be removed in v6.0.0. See https://github.com/optuna/optuna/releases/tag/v3.0.0. Use suggest_float(..., log=True) instead.\n",
      "  learning_rate = trial.suggest_loguniform(\"learning_rate\", 1e-4, 1e-2)  # 範囲を調整\n",
      "/tmp/ipykernel_186283/1392438731.py:12: FutureWarning: suggest_loguniform has been deprecated in v3.0.0. This feature will be removed in v6.0.0. See https://github.com/optuna/optuna/releases/tag/v3.0.0. Use suggest_float(..., log=True) instead.\n",
      "  weight_decay = trial.suggest_loguniform(\"weight_decay\", 1e-5, 1e-2)   # 範囲を調整\n",
      "[I 2024-11-29 18:28:39,582] Trial 85 finished with value: 0.2076159723797994 and parameters: {'hidden_units1': 364, 'hidden_units2': 144, 'hidden_units3': 106, 'hidden_units4': 44, 'dropout1': 0.30000000000000004, 'dropout2': 0.5, 'dropout3': 0.35000000000000003, 'dropout4': 0.0, 'learning_rate': 0.00012730514605623717, 'weight_decay': 0.0012920377997608075}. Best is trial 62 with value: 0.3811990835675518.\n"
     ]
    },
    {
     "name": "stdout",
     "output_type": "stream",
     "text": [
      "Early stopping at epoch 48\n",
      "Final MCC: 0.2076\n"
     ]
    },
    {
     "name": "stderr",
     "output_type": "stream",
     "text": [
      "/tmp/ipykernel_186283/1392438731.py:11: FutureWarning: suggest_loguniform has been deprecated in v3.0.0. This feature will be removed in v6.0.0. See https://github.com/optuna/optuna/releases/tag/v3.0.0. Use suggest_float(..., log=True) instead.\n",
      "  learning_rate = trial.suggest_loguniform(\"learning_rate\", 1e-4, 1e-2)  # 範囲を調整\n",
      "/tmp/ipykernel_186283/1392438731.py:12: FutureWarning: suggest_loguniform has been deprecated in v3.0.0. This feature will be removed in v6.0.0. See https://github.com/optuna/optuna/releases/tag/v3.0.0. Use suggest_float(..., log=True) instead.\n",
      "  weight_decay = trial.suggest_loguniform(\"weight_decay\", 1e-5, 1e-2)   # 範囲を調整\n",
      "[I 2024-11-29 18:28:40,047] Trial 86 pruned. \n",
      "[I 2024-11-29 18:28:40,720] Trial 87 pruned. \n",
      "[I 2024-11-29 18:29:11,986] Trial 88 finished with value: 0.17805013650567914 and parameters: {'hidden_units1': 274, 'hidden_units2': 194, 'hidden_units3': 114, 'hidden_units4': 56, 'dropout1': 0.4, 'dropout2': 0.5, 'dropout3': 0.45, 'dropout4': 0.0, 'learning_rate': 0.00016830498500429848, 'weight_decay': 0.0005012445966795144}. Best is trial 62 with value: 0.3811990835675518.\n"
     ]
    },
    {
     "name": "stdout",
     "output_type": "stream",
     "text": [
      "Early stopping at epoch 64\n",
      "Final MCC: 0.1781\n"
     ]
    },
    {
     "name": "stderr",
     "output_type": "stream",
     "text": [
      "/tmp/ipykernel_186283/1392438731.py:11: FutureWarning: suggest_loguniform has been deprecated in v3.0.0. This feature will be removed in v6.0.0. See https://github.com/optuna/optuna/releases/tag/v3.0.0. Use suggest_float(..., log=True) instead.\n",
      "  learning_rate = trial.suggest_loguniform(\"learning_rate\", 1e-4, 1e-2)  # 範囲を調整\n",
      "/tmp/ipykernel_186283/1392438731.py:12: FutureWarning: suggest_loguniform has been deprecated in v3.0.0. This feature will be removed in v6.0.0. See https://github.com/optuna/optuna/releases/tag/v3.0.0. Use suggest_float(..., log=True) instead.\n",
      "  weight_decay = trial.suggest_loguniform(\"weight_decay\", 1e-5, 1e-2)   # 範囲を調整\n",
      "[I 2024-11-29 18:29:43,325] Trial 89 finished with value: 0.21043494587591877 and parameters: {'hidden_units1': 230, 'hidden_units2': 202, 'hidden_units3': 124, 'hidden_units4': 62, 'dropout1': 0.35000000000000003, 'dropout2': 0.45, 'dropout3': 0.35000000000000003, 'dropout4': 0.05, 'learning_rate': 0.00014221818530081554, 'weight_decay': 0.00036796454877840534}. Best is trial 62 with value: 0.3811990835675518.\n"
     ]
    },
    {
     "name": "stdout",
     "output_type": "stream",
     "text": [
      "Early stopping at epoch 60\n",
      "Final MCC: 0.2104\n"
     ]
    },
    {
     "name": "stderr",
     "output_type": "stream",
     "text": [
      "/tmp/ipykernel_186283/1392438731.py:11: FutureWarning: suggest_loguniform has been deprecated in v3.0.0. This feature will be removed in v6.0.0. See https://github.com/optuna/optuna/releases/tag/v3.0.0. Use suggest_float(..., log=True) instead.\n",
      "  learning_rate = trial.suggest_loguniform(\"learning_rate\", 1e-4, 1e-2)  # 範囲を調整\n",
      "/tmp/ipykernel_186283/1392438731.py:12: FutureWarning: suggest_loguniform has been deprecated in v3.0.0. This feature will be removed in v6.0.0. See https://github.com/optuna/optuna/releases/tag/v3.0.0. Use suggest_float(..., log=True) instead.\n",
      "  weight_decay = trial.suggest_loguniform(\"weight_decay\", 1e-5, 1e-2)   # 範囲を調整\n",
      "[I 2024-11-29 18:29:43,898] Trial 90 pruned. \n",
      "[I 2024-11-29 18:29:44,487] Trial 91 pruned. \n",
      "[I 2024-11-29 18:29:45,150] Trial 92 pruned. \n",
      "[I 2024-11-29 18:30:20,222] Trial 93 finished with value: 0.1270876095620721 and parameters: {'hidden_units1': 222, 'hidden_units2': 140, 'hidden_units3': 104, 'hidden_units4': 36, 'dropout1': 0.25, 'dropout2': 0.45, 'dropout3': 0.25, 'dropout4': 0.25, 'learning_rate': 0.00010099465286898185, 'weight_decay': 0.00029049563930430377}. Best is trial 62 with value: 0.3811990835675518.\n"
     ]
    },
    {
     "name": "stdout",
     "output_type": "stream",
     "text": [
      "Early stopping at epoch 70\n",
      "Final MCC: 0.1271\n"
     ]
    },
    {
     "name": "stderr",
     "output_type": "stream",
     "text": [
      "/tmp/ipykernel_186283/1392438731.py:11: FutureWarning: suggest_loguniform has been deprecated in v3.0.0. This feature will be removed in v6.0.0. See https://github.com/optuna/optuna/releases/tag/v3.0.0. Use suggest_float(..., log=True) instead.\n",
      "  learning_rate = trial.suggest_loguniform(\"learning_rate\", 1e-4, 1e-2)  # 範囲を調整\n",
      "/tmp/ipykernel_186283/1392438731.py:12: FutureWarning: suggest_loguniform has been deprecated in v3.0.0. This feature will be removed in v6.0.0. See https://github.com/optuna/optuna/releases/tag/v3.0.0. Use suggest_float(..., log=True) instead.\n",
      "  weight_decay = trial.suggest_loguniform(\"weight_decay\", 1e-5, 1e-2)   # 範囲を調整\n",
      "[I 2024-11-29 18:30:20,808] Trial 94 pruned. \n",
      "[I 2024-11-29 18:30:21,299] Trial 95 pruned. \n",
      "[I 2024-11-29 18:30:21,749] Trial 96 pruned. \n",
      "[I 2024-11-29 18:30:46,699] Trial 97 finished with value: 0.2106087778715399 and parameters: {'hidden_units1': 344, 'hidden_units2': 176, 'hidden_units3': 98, 'hidden_units4': 42, 'dropout1': 0.25, 'dropout2': 0.4, 'dropout3': 0.0, 'dropout4': 0.2, 'learning_rate': 0.00011282600657567636, 'weight_decay': 6.446276681050579e-05}. Best is trial 62 with value: 0.3811990835675518.\n"
     ]
    },
    {
     "name": "stdout",
     "output_type": "stream",
     "text": [
      "Early stopping at epoch 51\n",
      "Final MCC: 0.2106\n"
     ]
    },
    {
     "name": "stderr",
     "output_type": "stream",
     "text": [
      "/tmp/ipykernel_186283/1392438731.py:11: FutureWarning: suggest_loguniform has been deprecated in v3.0.0. This feature will be removed in v6.0.0. See https://github.com/optuna/optuna/releases/tag/v3.0.0. Use suggest_float(..., log=True) instead.\n",
      "  learning_rate = trial.suggest_loguniform(\"learning_rate\", 1e-4, 1e-2)  # 範囲を調整\n",
      "/tmp/ipykernel_186283/1392438731.py:12: FutureWarning: suggest_loguniform has been deprecated in v3.0.0. This feature will be removed in v6.0.0. See https://github.com/optuna/optuna/releases/tag/v3.0.0. Use suggest_float(..., log=True) instead.\n",
      "  weight_decay = trial.suggest_loguniform(\"weight_decay\", 1e-5, 1e-2)   # 範囲を調整\n",
      "[I 2024-11-29 18:30:47,208] Trial 98 pruned. \n",
      "[I 2024-11-29 18:31:06,711] Trial 99 finished with value: 0.31958400267773507 and parameters: {'hidden_units1': 262, 'hidden_units2': 130, 'hidden_units3': 118, 'hidden_units4': 30, 'dropout1': 0.35000000000000003, 'dropout2': 0.45, 'dropout3': 0.35000000000000003, 'dropout4': 0.25, 'learning_rate': 0.000149572640384109, 'weight_decay': 0.002027149595228283}. Best is trial 62 with value: 0.3811990835675518.\n"
     ]
    },
    {
     "name": "stdout",
     "output_type": "stream",
     "text": [
      "Early stopping at epoch 46\n",
      "Final MCC: 0.3196\n",
      "Best Parameters:  {'hidden_units1': 216, 'hidden_units2': 138, 'hidden_units3': 80, 'hidden_units4': 40, 'dropout1': 0.25, 'dropout2': 0.5, 'dropout3': 0.25, 'dropout4': 0.30000000000000004, 'learning_rate': 0.00012093315885040423, 'weight_decay': 6.767122950949325e-05}\n",
      "Best Validation F1:  0.3811990835675518\n"
     ]
    }
   ],
   "source": [
    "device_id = 0  # 使用するGPUのID（0または1）\n",
    "torch.cuda.set_device(device_id)\n",
    "device = torch.device(f\"cuda:{device_id}\" if torch.cuda.is_available() else \"cpu\")\n",
    "\n",
    "# Optunaの設定\n",
    "study = optuna.create_study(direction=\"maximize\")  \n",
    "study.optimize(objective, n_trials=100)\n",
    "\n",
    "# 結果表示\n",
    "print(\"Best Parameters: \", study.best_params)\n",
    "print(\"Best Validation F1: \", study.best_value)"
   ]
  },
  {
   "cell_type": "code",
   "execution_count": 30,
   "metadata": {},
   "outputs": [
    {
     "name": "stdout",
     "output_type": "stream",
     "text": [
      "Epoch [1/100], Loss: 0.6697\n",
      "Epoch [1/100], Train Loss: 0.6697, Val Loss: 0.6303\n",
      "Epoch [2/100], Loss: 0.6489\n",
      "Epoch [2/100], Train Loss: 0.6489, Val Loss: 0.6162\n",
      "Epoch [3/100], Loss: 0.6306\n",
      "Epoch [3/100], Train Loss: 0.6306, Val Loss: 0.6033\n",
      "Epoch [4/100], Loss: 0.6218\n",
      "Epoch [4/100], Train Loss: 0.6218, Val Loss: 0.5939\n",
      "Epoch [5/100], Loss: 0.6077\n",
      "Epoch [5/100], Train Loss: 0.6077, Val Loss: 0.5886\n",
      "Epoch [6/100], Loss: 0.6040\n",
      "Epoch [6/100], Train Loss: 0.6040, Val Loss: 0.5783\n",
      "Epoch [7/100], Loss: 0.6008\n",
      "Epoch [7/100], Train Loss: 0.6008, Val Loss: 0.5726\n",
      "Epoch [8/100], Loss: 0.5925\n",
      "Epoch [8/100], Train Loss: 0.5925, Val Loss: 0.5715\n",
      "Epoch [9/100], Loss: 0.5915\n",
      "Epoch [9/100], Train Loss: 0.5915, Val Loss: 0.5671\n",
      "Epoch [10/100], Loss: 0.5891\n",
      "Epoch [10/100], Train Loss: 0.5891, Val Loss: 0.5669\n",
      "Epoch [11/100], Loss: 0.5866\n",
      "Epoch [11/100], Train Loss: 0.5866, Val Loss: 0.5650\n",
      "Epoch [12/100], Loss: 0.5812\n",
      "Epoch [12/100], Train Loss: 0.5812, Val Loss: 0.5632\n",
      "Epoch [13/100], Loss: 0.5833\n",
      "Epoch [13/100], Train Loss: 0.5833, Val Loss: 0.5618\n",
      "Epoch [14/100], Loss: 0.5764\n",
      "Epoch [14/100], Train Loss: 0.5764, Val Loss: 0.5625\n",
      "Epoch [15/100], Loss: 0.5812\n",
      "Epoch [15/100], Train Loss: 0.5812, Val Loss: 0.5598\n",
      "Epoch [16/100], Loss: 0.5737\n",
      "Epoch [16/100], Train Loss: 0.5737, Val Loss: 0.5594\n",
      "Epoch [17/100], Loss: 0.5804\n",
      "Epoch [17/100], Train Loss: 0.5804, Val Loss: 0.5587\n",
      "Epoch [18/100], Loss: 0.5744\n",
      "Epoch [18/100], Train Loss: 0.5744, Val Loss: 0.5585\n",
      "Epoch [19/100], Loss: 0.5773\n",
      "Epoch [19/100], Train Loss: 0.5773, Val Loss: 0.5611\n",
      "Epoch [20/100], Loss: 0.5762\n",
      "Epoch [20/100], Train Loss: 0.5762, Val Loss: 0.5561\n",
      "Epoch [21/100], Loss: 0.5647\n",
      "Epoch [21/100], Train Loss: 0.5647, Val Loss: 0.5579\n",
      "Epoch [22/100], Loss: 0.5706\n",
      "Epoch [22/100], Train Loss: 0.5706, Val Loss: 0.5590\n",
      "Epoch [23/100], Loss: 0.5663\n",
      "Epoch [23/100], Train Loss: 0.5663, Val Loss: 0.5573\n",
      "Epoch [24/100], Loss: 0.5684\n",
      "Epoch [24/100], Train Loss: 0.5684, Val Loss: 0.5563\n",
      "Epoch [25/100], Loss: 0.5684\n",
      "Epoch [25/100], Train Loss: 0.5684, Val Loss: 0.5538\n",
      "Epoch [26/100], Loss: 0.5620\n",
      "Epoch [26/100], Train Loss: 0.5620, Val Loss: 0.5549\n",
      "Epoch [27/100], Loss: 0.5639\n",
      "Epoch [27/100], Train Loss: 0.5639, Val Loss: 0.5537\n",
      "Epoch [28/100], Loss: 0.5693\n",
      "Epoch [28/100], Train Loss: 0.5693, Val Loss: 0.5541\n",
      "Epoch [29/100], Loss: 0.5639\n",
      "Epoch [29/100], Train Loss: 0.5639, Val Loss: 0.5537\n",
      "Epoch [30/100], Loss: 0.5634\n",
      "Epoch [30/100], Train Loss: 0.5634, Val Loss: 0.5541\n",
      "Epoch [31/100], Loss: 0.5643\n",
      "Epoch [31/100], Train Loss: 0.5643, Val Loss: 0.5550\n",
      "Epoch [32/100], Loss: 0.5622\n",
      "Epoch [32/100], Train Loss: 0.5622, Val Loss: 0.5527\n",
      "Epoch [33/100], Loss: 0.5671\n",
      "Epoch [33/100], Train Loss: 0.5671, Val Loss: 0.5549\n",
      "Epoch [34/100], Loss: 0.5648\n",
      "Epoch [34/100], Train Loss: 0.5648, Val Loss: 0.5531\n",
      "Epoch [35/100], Loss: 0.5665\n",
      "Epoch [35/100], Train Loss: 0.5665, Val Loss: 0.5530\n",
      "Epoch [36/100], Loss: 0.5671\n",
      "Epoch [36/100], Train Loss: 0.5671, Val Loss: 0.5548\n",
      "Epoch [37/100], Loss: 0.5624\n",
      "Epoch [37/100], Train Loss: 0.5624, Val Loss: 0.5524\n",
      "Epoch [38/100], Loss: 0.5625\n",
      "Epoch [38/100], Train Loss: 0.5625, Val Loss: 0.5542\n",
      "Epoch [39/100], Loss: 0.5624\n",
      "Epoch [39/100], Train Loss: 0.5624, Val Loss: 0.5518\n",
      "Epoch [40/100], Loss: 0.5617\n",
      "Epoch [40/100], Train Loss: 0.5617, Val Loss: 0.5539\n",
      "Epoch [41/100], Loss: 0.5566\n",
      "Epoch [41/100], Train Loss: 0.5566, Val Loss: 0.5524\n",
      "Epoch [42/100], Loss: 0.5636\n",
      "Epoch [42/100], Train Loss: 0.5636, Val Loss: 0.5523\n",
      "Epoch [43/100], Loss: 0.5577\n",
      "Epoch [43/100], Train Loss: 0.5577, Val Loss: 0.5512\n",
      "Epoch [44/100], Loss: 0.5591\n",
      "Epoch [44/100], Train Loss: 0.5591, Val Loss: 0.5511\n",
      "Epoch [45/100], Loss: 0.5601\n",
      "Epoch [45/100], Train Loss: 0.5601, Val Loss: 0.5520\n",
      "Epoch [46/100], Loss: 0.5594\n",
      "Epoch [46/100], Train Loss: 0.5594, Val Loss: 0.5516\n",
      "Epoch [47/100], Loss: 0.5576\n",
      "Epoch [47/100], Train Loss: 0.5576, Val Loss: 0.5531\n",
      "Epoch [48/100], Loss: 0.5552\n",
      "Epoch [48/100], Train Loss: 0.5552, Val Loss: 0.5531\n",
      "Epoch [49/100], Loss: 0.5564\n",
      "Epoch [49/100], Train Loss: 0.5564, Val Loss: 0.5513\n",
      "Epoch [50/100], Loss: 0.5560\n",
      "Epoch [50/100], Train Loss: 0.5560, Val Loss: 0.5518\n",
      "Epoch [51/100], Loss: 0.5564\n",
      "Epoch [51/100], Train Loss: 0.5564, Val Loss: 0.5507\n",
      "Epoch [52/100], Loss: 0.5576\n",
      "Epoch [52/100], Train Loss: 0.5576, Val Loss: 0.5513\n",
      "Epoch [53/100], Loss: 0.5588\n",
      "Epoch [53/100], Train Loss: 0.5588, Val Loss: 0.5531\n",
      "Epoch [54/100], Loss: 0.5543\n",
      "Epoch [54/100], Train Loss: 0.5543, Val Loss: 0.5511\n",
      "Epoch [55/100], Loss: 0.5545\n",
      "Epoch [55/100], Train Loss: 0.5545, Val Loss: 0.5513\n",
      "Epoch [56/100], Loss: 0.5604\n",
      "Epoch [56/100], Train Loss: 0.5604, Val Loss: 0.5519\n",
      "Epoch [57/100], Loss: 0.5559\n",
      "Epoch [57/100], Train Loss: 0.5559, Val Loss: 0.5514\n",
      "Epoch [58/100], Loss: 0.5487\n",
      "Epoch [58/100], Train Loss: 0.5487, Val Loss: 0.5509\n",
      "Epoch [59/100], Loss: 0.5507\n",
      "Epoch [59/100], Train Loss: 0.5507, Val Loss: 0.5515\n",
      "Epoch [60/100], Loss: 0.5524\n",
      "Epoch [60/100], Train Loss: 0.5524, Val Loss: 0.5511\n",
      "Epoch [61/100], Loss: 0.5565\n",
      "Epoch [61/100], Train Loss: 0.5565, Val Loss: 0.5533\n",
      "Epoch [62/100], Loss: 0.5563\n",
      "Epoch [62/100], Train Loss: 0.5563, Val Loss: 0.5518\n",
      "Epoch [63/100], Loss: 0.5555\n",
      "Epoch [63/100], Train Loss: 0.5555, Val Loss: 0.5537\n",
      "Epoch [64/100], Loss: 0.5499\n",
      "Epoch [64/100], Train Loss: 0.5499, Val Loss: 0.5530\n",
      "Epoch [65/100], Loss: 0.5511\n",
      "Epoch [65/100], Train Loss: 0.5511, Val Loss: 0.5528\n",
      "Epoch [66/100], Loss: 0.5526\n",
      "Epoch [66/100], Train Loss: 0.5526, Val Loss: 0.5520\n",
      "Epoch [67/100], Loss: 0.5532\n",
      "Epoch [67/100], Train Loss: 0.5532, Val Loss: 0.5520\n",
      "Epoch [68/100], Loss: 0.5516\n",
      "Epoch [68/100], Train Loss: 0.5516, Val Loss: 0.5522\n",
      "Epoch [69/100], Loss: 0.5565\n",
      "Epoch [69/100], Train Loss: 0.5565, Val Loss: 0.5520\n",
      "Epoch [70/100], Loss: 0.5469\n",
      "Epoch [70/100], Train Loss: 0.5469, Val Loss: 0.5528\n",
      "Epoch [71/100], Loss: 0.5497\n",
      "Epoch [71/100], Train Loss: 0.5497, Val Loss: 0.5528\n",
      "Epoch [72/100], Loss: 0.5512\n",
      "Epoch [72/100], Train Loss: 0.5512, Val Loss: 0.5523\n",
      "Epoch [73/100], Loss: 0.5504\n",
      "Epoch [73/100], Train Loss: 0.5504, Val Loss: 0.5525\n",
      "Epoch [74/100], Loss: 0.5521\n",
      "Epoch [74/100], Train Loss: 0.5521, Val Loss: 0.5520\n",
      "Epoch [75/100], Loss: 0.5505\n",
      "Epoch [75/100], Train Loss: 0.5505, Val Loss: 0.5509\n",
      "Epoch [76/100], Loss: 0.5436\n",
      "Epoch [76/100], Train Loss: 0.5436, Val Loss: 0.5506\n",
      "Epoch [77/100], Loss: 0.5549\n",
      "Epoch [77/100], Train Loss: 0.5549, Val Loss: 0.5507\n",
      "Epoch [78/100], Loss: 0.5458\n",
      "Epoch [78/100], Train Loss: 0.5458, Val Loss: 0.5508\n",
      "Epoch [79/100], Loss: 0.5484\n",
      "Epoch [79/100], Train Loss: 0.5484, Val Loss: 0.5522\n",
      "Epoch [80/100], Loss: 0.5458\n",
      "Epoch [80/100], Train Loss: 0.5458, Val Loss: 0.5510\n",
      "Epoch [81/100], Loss: 0.5463\n",
      "Epoch [81/100], Train Loss: 0.5463, Val Loss: 0.5499\n",
      "Epoch [82/100], Loss: 0.5476\n",
      "Epoch [82/100], Train Loss: 0.5476, Val Loss: 0.5518\n",
      "Epoch [83/100], Loss: 0.5466\n",
      "Epoch [83/100], Train Loss: 0.5466, Val Loss: 0.5536\n",
      "Epoch [84/100], Loss: 0.5457\n",
      "Epoch [84/100], Train Loss: 0.5457, Val Loss: 0.5534\n",
      "Epoch [85/100], Loss: 0.5483\n",
      "Epoch [85/100], Train Loss: 0.5483, Val Loss: 0.5534\n",
      "Epoch [86/100], Loss: 0.5424\n",
      "Epoch [86/100], Train Loss: 0.5424, Val Loss: 0.5535\n",
      "Epoch [87/100], Loss: 0.5430\n",
      "Epoch [87/100], Train Loss: 0.5430, Val Loss: 0.5533\n",
      "Epoch [88/100], Loss: 0.5405\n",
      "Epoch [88/100], Train Loss: 0.5405, Val Loss: 0.5524\n",
      "Epoch [89/100], Loss: 0.5428\n",
      "Epoch [89/100], Train Loss: 0.5428, Val Loss: 0.5526\n",
      "Epoch [90/100], Loss: 0.5399\n",
      "Epoch [90/100], Train Loss: 0.5399, Val Loss: 0.5517\n",
      "Epoch [91/100], Loss: 0.5477\n",
      "Epoch [91/100], Train Loss: 0.5477, Val Loss: 0.5514\n",
      "Epoch [92/100], Loss: 0.5407\n",
      "Epoch [92/100], Train Loss: 0.5407, Val Loss: 0.5529\n",
      "Epoch [93/100], Loss: 0.5385\n",
      "Epoch [93/100], Train Loss: 0.5385, Val Loss: 0.5533\n",
      "Epoch [94/100], Loss: 0.5429\n",
      "Epoch [94/100], Train Loss: 0.5429, Val Loss: 0.5543\n",
      "Epoch [95/100], Loss: 0.5435\n",
      "Epoch [95/100], Train Loss: 0.5435, Val Loss: 0.5562\n",
      "Epoch [96/100], Loss: 0.5295\n",
      "Epoch [96/100], Train Loss: 0.5295, Val Loss: 0.5566\n",
      "Epoch [97/100], Loss: 0.5447\n",
      "Epoch [97/100], Train Loss: 0.5447, Val Loss: 0.5542\n",
      "Epoch [98/100], Loss: 0.5407\n",
      "Epoch [98/100], Train Loss: 0.5407, Val Loss: 0.5541\n",
      "Epoch [99/100], Loss: 0.5405\n",
      "Epoch [99/100], Train Loss: 0.5405, Val Loss: 0.5545\n",
      "Epoch [100/100], Loss: 0.5374\n",
      "Epoch [100/100], Train Loss: 0.5374, Val Loss: 0.5534\n"
     ]
    },
    {
     "data": {
      "image/png": "[encoded data removed]",
      "text/plain": [
       "<Figure size 1000x600 with 1 Axes>"
      ]
     },
     "metadata": {},
     "output_type": "display_data"
    }
   ],
   "source": [
    "best_params=study.best_params\n",
    "model = DNN_4(input_dim=X_train_tensor.shape[1],\n",
    "              hidden_units1=best_params[\"hidden_units1\"],\n",
    "              hidden_units2=best_params[\"hidden_units2\"],\n",
    "              hidden_units3=best_params[\"hidden_units3\"],\n",
    "              hidden_units4=best_params[\"hidden_units4\"],\n",
    "              dropout1=best_params[\"dropout1\"],\n",
    "              dropout2=best_params[\"dropout2\"],\n",
    "              dropout3=best_params[\"dropout3\"],\n",
    "              dropout4=best_params[\"dropout4\"]).to(device)\n",
    "# 最適化と訓練を実行\n",
    "optimizer = optim.Adam(model.parameters(), lr=best_params[\"learning_rate\"],weight_decay=best_params[\"weight_decay\"])\n",
    "criterion = nn.BCELoss()\n",
    "\n",
    "num_epochs=100\n",
    "train_losses = []\n",
    "val_losses = []\n",
    "\n",
    "model.train()\n",
    "for epoch in range(num_epochs):\n",
    "    epoch_train_loss = 0\n",
    "    epoch_val_loss = 0\n",
    "\n",
    "    for X_batch, y_batch in train_loader:\n",
    "        X_batch, y_batch = X_batch.to(device), y_batch.to(device)\n",
    "        optimizer.zero_grad()\n",
    "        outputs = model(X_batch).squeeze()\n",
    "        loss = criterion(outputs, y_batch)\n",
    "        loss.backward()\n",
    "        optimizer.step()\n",
    "        epoch_train_loss += loss.item()\n",
    "    avg_train_loss = epoch_train_loss / len(train_loader)\n",
    "    train_losses.append(avg_train_loss)\n",
    "    print(f'Epoch [{epoch+1}/{num_epochs}], Loss: {avg_train_loss:.4f}')\n",
    "\n",
    "    if val_loader is not None:\n",
    "        model.eval()  \n",
    "        with torch.no_grad():\n",
    "            for X_val, y_val in val_loader:\n",
    "                X_val, y_val = X_val.to(device), y_val.to(device)\n",
    "                val_outputs = model(X_val).squeeze()\n",
    "                val_loss = criterion(val_outputs, y_val)\n",
    "                epoch_val_loss += val_loss.item()\n",
    "\n",
    "        avg_val_loss = epoch_val_loss / len(val_loader)\n",
    "        val_losses.append(avg_val_loss)\n",
    "        model.train()  \n",
    "\n",
    "    if val_loader is not None:\n",
    "        print(f\"Epoch [{epoch+1}/{num_epochs}], Train Loss: {avg_train_loss:.4f}, Val Loss: {avg_val_loss:.4f}\")\n",
    "    else:\n",
    "        print(f\"Epoch [{epoch+1}/{num_epochs}], Train Loss: {avg_train_loss:.4f}\")\n",
    "\n",
    "plt.figure(figsize=(10, 6))\n",
    "plt.plot(range(1, num_epochs + 1), train_losses, label='Train Loss')\n",
    "if val_losses:\n",
    "    plt.plot(range(1, num_epochs + 1), val_losses, label='Validation Loss')\n",
    "plt.xlabel('Epoch')\n",
    "plt.ylabel('Loss')\n",
    "plt.title('Learning Curve for DNN1')\n",
    "plt.legend()\n",
    "plt.grid()\n",
    "plt.show()"
   ]
  },
  {
   "cell_type": "code",
   "execution_count": 31,
   "metadata": {},
   "outputs": [
    {
     "name": "stdout",
     "output_type": "stream",
     "text": [
      "Accuracy: 61.28%\n",
      "Precision: 0.4980\n",
      "Recall: 0.3658\n",
      "F1 Score: 0.4218\n",
      "Matthews Correlation Coefficient: 0.1446\n",
      "Specificity: 0.7681\n"
     ]
    },
    {
     "data": {
      "image/png": "[encoded data removed]",
      "text/plain": [
       "<Figure size 640x480 with 1 Axes>"
      ]
     },
     "metadata": {},
     "output_type": "display_data"
    },
    {
     "data": {
      "image/png": "[encoded data removed]",
      "text/plain": [
       "<Figure size 640x480 with 1 Axes>"
      ]
     },
     "metadata": {},
     "output_type": "display_data"
    },
    {
     "data": {
      "image/png": "[encoded data removed]",
      "text/plain": [
       "<Figure size 640x480 with 1 Axes>"
      ]
     },
     "metadata": {},
     "output_type": "display_data"
    }
   ],
   "source": [
    "model.eval()\n",
    "with torch.no_grad():\n",
    "    X_test_tensor = X_test_tensor.to(device)\n",
    "    y_test_tensor = y_test_tensor.to(device)\n",
    "\n",
    "    # 予測と確率\n",
    "    test_outputs = model(X_test_tensor).squeeze()\n",
    "    predictions = (test_outputs >= 0.5).float()\n",
    "    y_true = y_test_tensor.cpu().numpy()\n",
    "    y_pred = predictions.cpu().numpy()\n",
    "    y_prob = test_outputs.cpu().numpy()\n",
    "\n",
    "# 評価指標\n",
    "    accuracy = accuracy_score(y_true, y_pred)\n",
    "    precision = precision_score(y_true, y_pred)\n",
    "    recall = recall_score(y_true, y_pred)\n",
    "    f1 = f1_score(y_true, y_pred)\n",
    "    mcc = matthews_corrcoef(y_true, y_pred)\n",
    "    specificity = recall_score(y_true, y_pred, pos_label=0)  \n",
    "    print(f'Accuracy: {accuracy * 100:.2f}%')\n",
    "    print(f'Precision: {precision:.4f}')\n",
    "    print(f'Recall: {recall:.4f}')\n",
    "    print(f'F1 Score: {f1:.4f}')\n",
    "    print(f'Matthews Correlation Coefficient: {mcc:.4f}')\n",
    "    print(f'Specificity: {specificity:.4f}')\n",
    "\n",
    "    # 混同行列（割合表示）\n",
    "    cm = confusion_matrix(y_true, y_pred, normalize='true')\n",
    "    sns.heatmap(cm, annot=True, fmt=\".2%\", cmap=\"Blues\", cbar=False)\n",
    "    plt.xlabel(\"Predicted\")\n",
    "    plt.ylabel(\"Actual\")\n",
    "    plt.title(f\"Confusion Matrix (Normalized)\")\n",
    "    plt.show()\n",
    "\n",
    "    # ROC曲線とAUC\n",
    "    fpr, tpr, thresholds = roc_curve(y_true, y_prob)\n",
    "    roc_auc = auc(fpr, tpr)\n",
    "    plt.plot(fpr, tpr, label=f'ROC curve (AUC = {roc_auc:.2f})')\n",
    "    plt.plot([0, 1], [0, 1], 'k--') \n",
    "    plt.xlabel('False Positive Rate')\n",
    "    plt.ylabel('True Positive Rate')\n",
    "    plt.title(f'ROC Curve - Model ')\n",
    "    plt.legend(loc=\"lower right\")\n",
    "    plt.show()\n",
    "\n",
    "    # Precision-Recall曲線\n",
    "    precision_curve, recall_curve, pr_thresholds = precision_recall_curve(y_true, y_prob)\n",
    "    pr_auc = auc(recall_curve, precision_curve)\n",
    "    plt.plot(recall_curve, precision_curve, label=f'PR curve (AUC = {pr_auc:.2f})')\n",
    "    plt.xlabel('Recall')\n",
    "    plt.ylabel('Precision')\n",
    "    plt.title(f'Precision-Recall Curve ')\n",
    "    plt.legend(loc=\"lower left\")\n",
    "    plt.show()    "
   ]
  },
  {
   "cell_type": "code",
   "execution_count": 32,
   "metadata": {},
   "outputs": [],
   "source": [
    "# モデルと構造を保存\n",
    "torch.save(model, '../../saved_model/DNN_4.pth')\n"
   ]
  },
  {
   "cell_type": "code",
   "execution_count": null,
   "metadata": {},
   "outputs": [],
   "source": []
  }
 ],
 "metadata": {
  "kernelspec": {
   "display_name": "torch",
   "language": "python",
   "name": "python3"
  },
  "language_info": {
   "codemirror_mode": {
    "name": "ipython",
    "version": 3
   },
   "file_extension": ".py",
   "mimetype": "text/x-python",
   "name": "python",
   "nbconvert_exporter": "python",
   "pygments_lexer": "ipython3",
   "version": "3.12.7"
  }
 },
 "nbformat": 4,
 "nbformat_minor": 2
}
