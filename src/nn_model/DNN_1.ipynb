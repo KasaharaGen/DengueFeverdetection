{
 "cells": [
  {
   "cell_type": "code",
   "execution_count": 22,
   "metadata": {},
   "outputs": [],
   "source": [
    "import numpy as np\n",
    "import pandas as pd\n",
    "import matplotlib.pyplot as plt\n",
    "import seaborn as sns\n",
    "\n",
    "import torch\n",
    "import torch.nn as nn\n",
    "import torch.optim as optim\n",
    "\n",
    "import optuna\n",
    "\n",
    "from sklearn.model_selection import train_test_split\n",
    "from sklearn.metrics import confusion_matrix,accuracy_score, precision_score, recall_score, f1_score, confusion_matrix, roc_curve, auc,matthews_corrcoef, precision_recall_curve,roc_auc_score\n",
    "\n"
   ]
  },
  {
   "cell_type": "markdown",
   "metadata": {},
   "source": [
    "データ読み取り"
   ]
  },
  {
   "cell_type": "code",
   "execution_count": 23,
   "metadata": {},
   "outputs": [],
   "source": [
    "df=pd.read_csv('../../data/learning_data.csv',index_col=0)\n",
    "\n",
    "X=df.drop(columns='dengue',axis=1).values\n",
    "y=df['dengue'].values\n",
    "\n",
    "X_train, X_test, y_train, y_test = train_test_split(X, y, test_size=0.2,random_state=42)\n",
    "X_train, X_val, y_train, y_val = train_test_split(X_train, y_train, test_size=0.1,random_state=42)\n",
    "\n",
    "#torchテンソルに変換\n",
    "X_train_tensor = torch.tensor(X_train, dtype=torch.float32)\n",
    "y_train_tensor = torch.tensor(y_train, dtype=torch.float32)\n",
    "X_test_tensor = torch.tensor(X_test, dtype=torch.float32)\n",
    "y_test_tensor = torch.tensor(y_test, dtype=torch.float32)\n",
    "X_val_tensor = torch.tensor(X_val, dtype=torch.float32)\n",
    "y_val_tensor = torch.tensor(y_val, dtype=torch.float32)\n"
   ]
  },
  {
   "cell_type": "code",
   "execution_count": 24,
   "metadata": {},
   "outputs": [],
   "source": [
    "class DNN(nn.Module):\n",
    "    def __init__(self, input_dim,hidden_units,dropout_rate):\n",
    "        super(DNN, self).__init__()\n",
    "        self.layer1 = nn.Linear(input_dim,hidden_units)\n",
    "        self.layer2 = nn.Linear(hidden_units,hidden_units)\n",
    "        self.layer3 = nn.Linear(hidden_units, hidden_units)\n",
    "        self.layer4 = nn.Linear(hidden_units, hidden_units)\n",
    "        self.output_layer = nn.Linear(hidden_units, 1)\n",
    "\n",
    "        self.dropout = nn.Dropout(dropout_rate)\n",
    "\n",
    "        self.bn1 = nn.BatchNorm1d(hidden_units)\n",
    "        self.bn2 = nn.BatchNorm1d(hidden_units)\n",
    "        self.bn3 = nn.BatchNorm1d(hidden_units)\n",
    "        self.bn4 = nn.BatchNorm1d(hidden_units)\n",
    "\n",
    "        \n",
    "        \n",
    "    def forward(self, x):\n",
    "        x = torch.relu(self.bn1(self.layer1(x)))\n",
    "        x = self.dropout(x)\n",
    "        \n",
    "        x = torch.relu(self.bn2(self.layer2(x)))\n",
    "        x = self.dropout(x)\n",
    "\n",
    "        x = torch.relu(self.bn3(self.layer3(x)))\n",
    "        x = self.dropout(x)\n",
    "\n",
    "        x = torch.relu(self.bn4(self.layer4(x)))\n",
    "        x = self.dropout(x)\n",
    "\n",
    "        x = torch.sigmoid(self.output_layer(x)) \n",
    "        return x\n",
    "    "
   ]
  },
  {
   "cell_type": "markdown",
   "metadata": {},
   "source": [
    "学習データセットの作成"
   ]
  },
  {
   "cell_type": "code",
   "execution_count": 25,
   "metadata": {},
   "outputs": [],
   "source": [
    "train_dataset = torch.utils.data.TensorDataset(X_train_tensor, y_train_tensor)\n",
    "train_loader = torch.utils.data.DataLoader(dataset=train_dataset, batch_size=32, shuffle=True)\n",
    "\n",
    "val_dataset = torch.utils.data.TensorDataset(X_val_tensor, y_val_tensor)\n",
    "val_loader = torch.utils.data.DataLoader(dataset=val_dataset, batch_size=32, shuffle=False)"
   ]
  },
  {
   "cell_type": "markdown",
   "metadata": {},
   "source": [
    "Optunaの設定"
   ]
  },
  {
   "cell_type": "code",
   "execution_count": 26,
   "metadata": {},
   "outputs": [],
   "source": [
    "def objective(trial):\n",
    "    hidden_units = trial.suggest_int(\"hidden_units\", 4, 512, step=4)\n",
    "    dropout_rate = trial.suggest_float(\"dropout_rate\", 0.1, 0.5, step=0.05)\n",
    "    learning_rate = trial.suggest_loguniform(\"learning_rate\", 1e-5, 1e-1)\n",
    "\n",
    "    model = DNN(input_dim=X_train_tensor.shape[1], hidden_units=hidden_units, dropout_rate=dropout_rate).to(device)\n",
    "\n",
    "    criterion = nn.BCELoss()\n",
    "    optimizer = torch.optim.Adam(model.parameters(), lr=learning_rate)\n",
    "\n",
    "    num_epochs = 100\n",
    "    for epoch in range(num_epochs):\n",
    "        model.train()\n",
    "        for X_batch, y_batch in train_loader:\n",
    "            X_batch, y_batch = X_batch.to(device), y_batch.to(device)\n",
    "            optimizer.zero_grad()\n",
    "            outputs = model(X_batch).squeeze()\n",
    "            loss = criterion(outputs, y_batch)\n",
    "            loss.backward()\n",
    "            optimizer.step()\n",
    "\n",
    "    \n",
    "    model.eval()\n",
    "    val_true, val_pred, val_prob = [], [], []\n",
    "    with torch.no_grad():\n",
    "        for X_val, y_val in val_loader:\n",
    "            X_val, y_val = X_val.to(device), y_val.to(device)\n",
    "            val_outputs = model(X_val).squeeze()\n",
    "            predictions = (val_outputs >= 0.5).float()\n",
    "            val_true.extend(y_val.cpu().numpy())\n",
    "            val_pred.extend(predictions.cpu().numpy())\n",
    "            val_prob.extend(val_outputs.cpu().numpy())\n",
    "\n",
    "\n",
    "    accuracy = accuracy_score(val_true, val_pred)\n",
    "    precision = precision_score(val_true, val_pred)\n",
    "    recall = recall_score(val_true, val_pred)\n",
    "    f1 = f1_score(val_true, val_pred)\n",
    "    mcc = matthews_corrcoef(val_true, val_pred)\n",
    "    specificity = recall_score(val_true, val_pred, pos_label=0)\n",
    "\n",
    "    # ログ\n",
    "    print(f'Accuracy: {accuracy * 100:.2f}%')\n",
    "    print(f'Precision: {precision:.4f}')\n",
    "    print(f'Recall: {recall:.4f}')\n",
    "    print(f'F1 Score: {f1:.4f}')\n",
    "    print(f'Matthews Correlation Coefficient: {mcc:.4f}')\n",
    "    print(f'Specificity: {specificity:.4f}')\n",
    "\n",
    "    return f1\n"
   ]
  },
  {
   "cell_type": "code",
   "execution_count": null,
   "metadata": {},
   "outputs": [],
   "source": [
    "# 使用可能なGPUの数を取得\n",
    "num_gpus = torch.cuda.device_count()\n",
    "\n",
    "if num_gpus == 0:\n",
    "    print(\"使用可能なGPUはありません。\")\n",
    "else:\n",
    "    print(f\"使用可能なGPUの数: {num_gpus}\")\n",
    "    for i in range(num_gpus):\n",
    "        print(f\"GPU {i}: {torch.cuda.get_device_name(i)}\")\n",
    "        print(f\"  メモリ使用状況: {torch.cuda.memory_allocated(i) / 1024**2:.2f} MB / {torch.cuda.get_device_properties(i).total_memory / 1024**2:.2f} MB\")\n",
    "        print(f\"  CUDA対応バージョン: {torch.cuda.get_device_properties(i).major}.{torch.cuda.get_device_properties(i).minor}\")\n"
   ]
  },
  {
   "cell_type": "markdown",
   "metadata": {},
   "source": [
    "最適化"
   ]
  },
  {
   "cell_type": "code",
   "execution_count": 27,
   "metadata": {},
   "outputs": [
    {
     "name": "stderr",
     "output_type": "stream",
     "text": [
      "[I 2024-11-28 14:34:05,622] A new study created in memory with name: no-name-94acb166-b411-46c1-a71e-5b4db34779e1\n",
      "/tmp/ipykernel_51826/1452124320.py:4: FutureWarning: suggest_loguniform has been deprecated in v3.0.0. This feature will be removed in v6.0.0. See https://github.com/optuna/optuna/releases/tag/v3.0.0. Use suggest_float(..., log=True) instead.\n",
      "  learning_rate = trial.suggest_loguniform(\"learning_rate\", 1e-5, 1e-1)\n",
      "[I 2024-11-28 14:35:04,001] Trial 0 finished with value: 0.45901639344262296 and parameters: {'hidden_units': 392, 'dropout_rate': 0.25, 'learning_rate': 0.00455345913278926}. Best is trial 0 with value: 0.45901639344262296.\n"
     ]
    },
    {
     "name": "stdout",
     "output_type": "stream",
     "text": [
      "Accuracy: 62.39%\n",
      "Precision: 0.4746\n",
      "Recall: 0.4444\n",
      "F1 Score: 0.4590\n",
      "Matthews Correlation Coefficient: 0.1715\n",
      "Specificity: 0.7244\n"
     ]
    },
    {
     "name": "stderr",
     "output_type": "stream",
     "text": [
      "/tmp/ipykernel_51826/1452124320.py:4: FutureWarning: suggest_loguniform has been deprecated in v3.0.0. This feature will be removed in v6.0.0. See https://github.com/optuna/optuna/releases/tag/v3.0.0. Use suggest_float(..., log=True) instead.\n",
      "  learning_rate = trial.suggest_loguniform(\"learning_rate\", 1e-5, 1e-1)\n",
      "[I 2024-11-28 14:35:59,346] Trial 1 finished with value: 0.46774193548387094 and parameters: {'hidden_units': 448, 'dropout_rate': 0.30000000000000004, 'learning_rate': 0.0024446970901326817}. Best is trial 1 with value: 0.46774193548387094.\n"
     ]
    },
    {
     "name": "stdout",
     "output_type": "stream",
     "text": [
      "Accuracy: 62.39%\n",
      "Precision: 0.4754\n",
      "Recall: 0.4603\n",
      "F1 Score: 0.4677\n",
      "Matthews Correlation Coefficient: 0.1772\n",
      "Specificity: 0.7156\n"
     ]
    },
    {
     "name": "stderr",
     "output_type": "stream",
     "text": [
      "/tmp/ipykernel_51826/1452124320.py:4: FutureWarning: suggest_loguniform has been deprecated in v3.0.0. This feature will be removed in v6.0.0. See https://github.com/optuna/optuna/releases/tag/v3.0.0. Use suggest_float(..., log=True) instead.\n",
      "  learning_rate = trial.suggest_loguniform(\"learning_rate\", 1e-5, 1e-1)\n",
      "[I 2024-11-28 14:36:49,681] Trial 2 finished with value: 0.5130111524163569 and parameters: {'hidden_units': 360, 'dropout_rate': 0.15000000000000002, 'learning_rate': 5.964965377177962e-05}. Best is trial 2 with value: 0.5130111524163569.\n"
     ]
    },
    {
     "name": "stdout",
     "output_type": "stream",
     "text": [
      "Accuracy: 62.68%\n",
      "Precision: 0.4825\n",
      "Recall: 0.5476\n",
      "F1 Score: 0.5130\n",
      "Matthews Correlation Coefficient: 0.2135\n",
      "Specificity: 0.6711\n"
     ]
    },
    {
     "name": "stderr",
     "output_type": "stream",
     "text": [
      "/tmp/ipykernel_51826/1452124320.py:4: FutureWarning: suggest_loguniform has been deprecated in v3.0.0. This feature will be removed in v6.0.0. See https://github.com/optuna/optuna/releases/tag/v3.0.0. Use suggest_float(..., log=True) instead.\n",
      "  learning_rate = trial.suggest_loguniform(\"learning_rate\", 1e-5, 1e-1)\n",
      "[I 2024-11-28 14:37:34,316] Trial 3 finished with value: 0.4424778761061947 and parameters: {'hidden_units': 176, 'dropout_rate': 0.35, 'learning_rate': 0.0005370665438447742}. Best is trial 2 with value: 0.5130111524163569.\n"
     ]
    },
    {
     "name": "stdout",
     "output_type": "stream",
     "text": [
      "Accuracy: 64.10%\n",
      "Precision: 0.5000\n",
      "Recall: 0.3968\n",
      "F1 Score: 0.4425\n",
      "Matthews Correlation Coefficient: 0.1856\n",
      "Specificity: 0.7778\n"
     ]
    },
    {
     "name": "stderr",
     "output_type": "stream",
     "text": [
      "/tmp/ipykernel_51826/1452124320.py:4: FutureWarning: suggest_loguniform has been deprecated in v3.0.0. This feature will be removed in v6.0.0. See https://github.com/optuna/optuna/releases/tag/v3.0.0. Use suggest_float(..., log=True) instead.\n",
      "  learning_rate = trial.suggest_loguniform(\"learning_rate\", 1e-5, 1e-1)\n",
      "[I 2024-11-28 14:38:24,156] Trial 4 finished with value: 0.4946236559139785 and parameters: {'hidden_units': 136, 'dropout_rate': 0.45000000000000007, 'learning_rate': 0.0005078847098430226}. Best is trial 2 with value: 0.5130111524163569.\n"
     ]
    },
    {
     "name": "stdout",
     "output_type": "stream",
     "text": [
      "Accuracy: 59.83%\n",
      "Precision: 0.4510\n",
      "Recall: 0.5476\n",
      "F1 Score: 0.4946\n",
      "Matthews Correlation Coefficient: 0.1686\n",
      "Specificity: 0.6267\n"
     ]
    },
    {
     "name": "stderr",
     "output_type": "stream",
     "text": [
      "/tmp/ipykernel_51826/1452124320.py:4: FutureWarning: suggest_loguniform has been deprecated in v3.0.0. This feature will be removed in v6.0.0. See https://github.com/optuna/optuna/releases/tag/v3.0.0. Use suggest_float(..., log=True) instead.\n",
      "  learning_rate = trial.suggest_loguniform(\"learning_rate\", 1e-5, 1e-1)\n",
      "[I 2024-11-28 14:39:20,308] Trial 5 finished with value: 0.45977011494252873 and parameters: {'hidden_units': 236, 'dropout_rate': 0.25, 'learning_rate': 0.018333788418612974}. Best is trial 2 with value: 0.5130111524163569.\n"
     ]
    },
    {
     "name": "stdout",
     "output_type": "stream",
     "text": [
      "Accuracy: 59.83%\n",
      "Precision: 0.4444\n",
      "Recall: 0.4762\n",
      "F1 Score: 0.4598\n",
      "Matthews Correlation Coefficient: 0.1409\n",
      "Specificity: 0.6667\n"
     ]
    },
    {
     "name": "stderr",
     "output_type": "stream",
     "text": [
      "/tmp/ipykernel_51826/1452124320.py:4: FutureWarning: suggest_loguniform has been deprecated in v3.0.0. This feature will be removed in v6.0.0. See https://github.com/optuna/optuna/releases/tag/v3.0.0. Use suggest_float(..., log=True) instead.\n",
      "  learning_rate = trial.suggest_loguniform(\"learning_rate\", 1e-5, 1e-1)\n",
      "[I 2024-11-28 14:40:11,581] Trial 6 finished with value: 0.44621513944223107 and parameters: {'hidden_units': 248, 'dropout_rate': 0.35, 'learning_rate': 0.0022493696167696703}. Best is trial 2 with value: 0.5130111524163569.\n"
     ]
    },
    {
     "name": "stdout",
     "output_type": "stream",
     "text": [
      "Accuracy: 60.40%\n",
      "Precision: 0.4480\n",
      "Recall: 0.4444\n",
      "F1 Score: 0.4462\n",
      "Matthews Correlation Coefficient: 0.1380\n",
      "Specificity: 0.6933\n"
     ]
    },
    {
     "name": "stderr",
     "output_type": "stream",
     "text": [
      "/tmp/ipykernel_51826/1452124320.py:4: FutureWarning: suggest_loguniform has been deprecated in v3.0.0. This feature will be removed in v6.0.0. See https://github.com/optuna/optuna/releases/tag/v3.0.0. Use suggest_float(..., log=True) instead.\n",
      "  learning_rate = trial.suggest_loguniform(\"learning_rate\", 1e-5, 1e-1)\n",
      "/home/gonken/anaconda3/envs/torch/lib/python3.12/site-packages/sklearn/metrics/_classification.py:1531: UndefinedMetricWarning: Precision is ill-defined and being set to 0.0 due to no predicted samples. Use `zero_division` parameter to control this behavior.\n",
      "  _warn_prf(average, modifier, f\"{metric.capitalize()} is\", len(result))\n",
      "[I 2024-11-28 14:41:00,429] Trial 7 finished with value: 0.0 and parameters: {'hidden_units': 8, 'dropout_rate': 0.30000000000000004, 'learning_rate': 0.013107657382078076}. Best is trial 2 with value: 0.5130111524163569.\n",
      "/tmp/ipykernel_51826/1452124320.py:4: FutureWarning: suggest_loguniform has been deprecated in v3.0.0. This feature will be removed in v6.0.0. See https://github.com/optuna/optuna/releases/tag/v3.0.0. Use suggest_float(..., log=True) instead.\n",
      "  learning_rate = trial.suggest_loguniform(\"learning_rate\", 1e-5, 1e-1)\n"
     ]
    },
    {
     "name": "stdout",
     "output_type": "stream",
     "text": [
      "Accuracy: 64.10%\n",
      "Precision: 0.0000\n",
      "Recall: 0.0000\n",
      "F1 Score: 0.0000\n",
      "Matthews Correlation Coefficient: 0.0000\n",
      "Specificity: 1.0000\n"
     ]
    },
    {
     "name": "stderr",
     "output_type": "stream",
     "text": [
      "[I 2024-11-28 14:41:48,440] Trial 8 finished with value: 0.5415162454873647 and parameters: {'hidden_units': 28, 'dropout_rate': 0.25, 'learning_rate': 0.0025221721477473426}. Best is trial 8 with value: 0.5415162454873647.\n"
     ]
    },
    {
     "name": "stdout",
     "output_type": "stream",
     "text": [
      "Accuracy: 63.82%\n",
      "Precision: 0.4967\n",
      "Recall: 0.5952\n",
      "F1 Score: 0.5415\n",
      "Matthews Correlation Coefficient: 0.2494\n",
      "Specificity: 0.6622\n"
     ]
    },
    {
     "name": "stderr",
     "output_type": "stream",
     "text": [
      "/tmp/ipykernel_51826/1452124320.py:4: FutureWarning: suggest_loguniform has been deprecated in v3.0.0. This feature will be removed in v6.0.0. See https://github.com/optuna/optuna/releases/tag/v3.0.0. Use suggest_float(..., log=True) instead.\n",
      "  learning_rate = trial.suggest_loguniform(\"learning_rate\", 1e-5, 1e-1)\n",
      "[I 2024-11-28 14:42:42,537] Trial 9 finished with value: 0.5130111524163569 and parameters: {'hidden_units': 360, 'dropout_rate': 0.1, 'learning_rate': 1.1630970959476067e-05}. Best is trial 8 with value: 0.5415162454873647.\n"
     ]
    },
    {
     "name": "stdout",
     "output_type": "stream",
     "text": [
      "Accuracy: 62.68%\n",
      "Precision: 0.4825\n",
      "Recall: 0.5476\n",
      "F1 Score: 0.5130\n",
      "Matthews Correlation Coefficient: 0.2135\n",
      "Specificity: 0.6711\n"
     ]
    },
    {
     "name": "stderr",
     "output_type": "stream",
     "text": [
      "/tmp/ipykernel_51826/1452124320.py:4: FutureWarning: suggest_loguniform has been deprecated in v3.0.0. This feature will be removed in v6.0.0. See https://github.com/optuna/optuna/releases/tag/v3.0.0. Use suggest_float(..., log=True) instead.\n",
      "  learning_rate = trial.suggest_loguniform(\"learning_rate\", 1e-5, 1e-1)\n",
      "[I 2024-11-28 14:43:36,032] Trial 10 finished with value: 0.6217616580310881 and parameters: {'hidden_units': 64, 'dropout_rate': 0.5, 'learning_rate': 0.06061628011534399}. Best is trial 10 with value: 0.6217616580310881.\n"
     ]
    },
    {
     "name": "stdout",
     "output_type": "stream",
     "text": [
      "Accuracy: 58.40%\n",
      "Precision: 0.4615\n",
      "Recall: 0.9524\n",
      "F1 Score: 0.6218\n",
      "Matthews Correlation Coefficient: 0.3614\n",
      "Specificity: 0.3778\n"
     ]
    },
    {
     "name": "stderr",
     "output_type": "stream",
     "text": [
      "/tmp/ipykernel_51826/1452124320.py:4: FutureWarning: suggest_loguniform has been deprecated in v3.0.0. This feature will be removed in v6.0.0. See https://github.com/optuna/optuna/releases/tag/v3.0.0. Use suggest_float(..., log=True) instead.\n",
      "  learning_rate = trial.suggest_loguniform(\"learning_rate\", 1e-5, 1e-1)\n",
      "/home/gonken/anaconda3/envs/torch/lib/python3.12/site-packages/sklearn/metrics/_classification.py:1531: UndefinedMetricWarning: Precision is ill-defined and being set to 0.0 due to no predicted samples. Use `zero_division` parameter to control this behavior.\n",
      "  _warn_prf(average, modifier, f\"{metric.capitalize()} is\", len(result))\n",
      "[I 2024-11-28 14:44:26,573] Trial 11 finished with value: 0.0 and parameters: {'hidden_units': 20, 'dropout_rate': 0.5, 'learning_rate': 0.0574505844603973}. Best is trial 10 with value: 0.6217616580310881.\n",
      "/tmp/ipykernel_51826/1452124320.py:4: FutureWarning: suggest_loguniform has been deprecated in v3.0.0. This feature will be removed in v6.0.0. See https://github.com/optuna/optuna/releases/tag/v3.0.0. Use suggest_float(..., log=True) instead.\n",
      "  learning_rate = trial.suggest_loguniform(\"learning_rate\", 1e-5, 1e-1)\n"
     ]
    },
    {
     "name": "stdout",
     "output_type": "stream",
     "text": [
      "Accuracy: 64.10%\n",
      "Precision: 0.0000\n",
      "Recall: 0.0000\n",
      "F1 Score: 0.0000\n",
      "Matthews Correlation Coefficient: 0.0000\n",
      "Specificity: 1.0000\n"
     ]
    },
    {
     "name": "stderr",
     "output_type": "stream",
     "text": [
      "[I 2024-11-28 14:45:13,434] Trial 12 finished with value: 0.6297229219143576 and parameters: {'hidden_units': 96, 'dropout_rate': 0.45000000000000007, 'learning_rate': 0.08042899832693882}. Best is trial 12 with value: 0.6297229219143576.\n"
     ]
    },
    {
     "name": "stdout",
     "output_type": "stream",
     "text": [
      "Accuracy: 58.12%\n",
      "Precision: 0.4613\n",
      "Recall: 0.9921\n",
      "F1 Score: 0.6297\n",
      "Matthews Correlation Coefficient: 0.3924\n",
      "Specificity: 0.3511\n"
     ]
    },
    {
     "name": "stderr",
     "output_type": "stream",
     "text": [
      "/tmp/ipykernel_51826/1452124320.py:4: FutureWarning: suggest_loguniform has been deprecated in v3.0.0. This feature will be removed in v6.0.0. See https://github.com/optuna/optuna/releases/tag/v3.0.0. Use suggest_float(..., log=True) instead.\n",
      "  learning_rate = trial.suggest_loguniform(\"learning_rate\", 1e-5, 1e-1)\n",
      "[I 2024-11-28 14:46:00,385] Trial 13 finished with value: 0.6313131313131313 and parameters: {'hidden_units': 116, 'dropout_rate': 0.45000000000000007, 'learning_rate': 0.079098397867244}. Best is trial 13 with value: 0.6313131313131313.\n"
     ]
    },
    {
     "name": "stdout",
     "output_type": "stream",
     "text": [
      "Accuracy: 58.40%\n",
      "Precision: 0.4630\n",
      "Recall: 0.9921\n",
      "F1 Score: 0.6313\n",
      "Matthews Correlation Coefficient: 0.3958\n",
      "Specificity: 0.3556\n"
     ]
    },
    {
     "name": "stderr",
     "output_type": "stream",
     "text": [
      "/tmp/ipykernel_51826/1452124320.py:4: FutureWarning: suggest_loguniform has been deprecated in v3.0.0. This feature will be removed in v6.0.0. See https://github.com/optuna/optuna/releases/tag/v3.0.0. Use suggest_float(..., log=True) instead.\n",
      "  learning_rate = trial.suggest_loguniform(\"learning_rate\", 1e-5, 1e-1)\n",
      "/home/gonken/anaconda3/envs/torch/lib/python3.12/site-packages/sklearn/metrics/_classification.py:1531: UndefinedMetricWarning: Precision is ill-defined and being set to 0.0 due to no predicted samples. Use `zero_division` parameter to control this behavior.\n",
      "  _warn_prf(average, modifier, f\"{metric.capitalize()} is\", len(result))\n",
      "[I 2024-11-28 14:46:54,292] Trial 14 finished with value: 0.0 and parameters: {'hidden_units': 132, 'dropout_rate': 0.4, 'learning_rate': 0.07114246056369661}. Best is trial 13 with value: 0.6313131313131313.\n",
      "/tmp/ipykernel_51826/1452124320.py:4: FutureWarning: suggest_loguniform has been deprecated in v3.0.0. This feature will be removed in v6.0.0. See https://github.com/optuna/optuna/releases/tag/v3.0.0. Use suggest_float(..., log=True) instead.\n",
      "  learning_rate = trial.suggest_loguniform(\"learning_rate\", 1e-5, 1e-1)\n"
     ]
    },
    {
     "name": "stdout",
     "output_type": "stream",
     "text": [
      "Accuracy: 64.10%\n",
      "Precision: 0.0000\n",
      "Recall: 0.0000\n",
      "F1 Score: 0.0000\n",
      "Matthews Correlation Coefficient: 0.0000\n",
      "Specificity: 1.0000\n"
     ]
    },
    {
     "name": "stderr",
     "output_type": "stream",
     "text": [
      "[I 2024-11-28 14:47:39,630] Trial 15 finished with value: 0.6153846153846154 and parameters: {'hidden_units': 104, 'dropout_rate': 0.45000000000000007, 'learning_rate': 0.014990928265668429}. Best is trial 13 with value: 0.6313131313131313.\n"
     ]
    },
    {
     "name": "stdout",
     "output_type": "stream",
     "text": [
      "Accuracy: 58.69%\n",
      "Precision: 0.4622\n",
      "Recall: 0.9206\n",
      "F1 Score: 0.6154\n",
      "Matthews Correlation Coefficient: 0.3408\n",
      "Specificity: 0.4000\n"
     ]
    },
    {
     "name": "stderr",
     "output_type": "stream",
     "text": [
      "/tmp/ipykernel_51826/1452124320.py:4: FutureWarning: suggest_loguniform has been deprecated in v3.0.0. This feature will be removed in v6.0.0. See https://github.com/optuna/optuna/releases/tag/v3.0.0. Use suggest_float(..., log=True) instead.\n",
      "  learning_rate = trial.suggest_loguniform(\"learning_rate\", 1e-5, 1e-1)\n",
      "[I 2024-11-28 14:48:33,059] Trial 16 finished with value: 0.6313131313131313 and parameters: {'hidden_units': 204, 'dropout_rate': 0.4, 'learning_rate': 0.09243853684083232}. Best is trial 13 with value: 0.6313131313131313.\n"
     ]
    },
    {
     "name": "stdout",
     "output_type": "stream",
     "text": [
      "Accuracy: 58.40%\n",
      "Precision: 0.4630\n",
      "Recall: 0.9921\n",
      "F1 Score: 0.6313\n",
      "Matthews Correlation Coefficient: 0.3958\n",
      "Specificity: 0.3556\n"
     ]
    },
    {
     "name": "stderr",
     "output_type": "stream",
     "text": [
      "/tmp/ipykernel_51826/1452124320.py:4: FutureWarning: suggest_loguniform has been deprecated in v3.0.0. This feature will be removed in v6.0.0. See https://github.com/optuna/optuna/releases/tag/v3.0.0. Use suggest_float(..., log=True) instead.\n",
      "  learning_rate = trial.suggest_loguniform(\"learning_rate\", 1e-5, 1e-1)\n",
      "[I 2024-11-28 14:49:30,913] Trial 17 finished with value: 0.45136186770428016 and parameters: {'hidden_units': 192, 'dropout_rate': 0.4, 'learning_rate': 0.00011740507792855675}. Best is trial 13 with value: 0.6313131313131313.\n"
     ]
    },
    {
     "name": "stdout",
     "output_type": "stream",
     "text": [
      "Accuracy: 59.83%\n",
      "Precision: 0.4427\n",
      "Recall: 0.4603\n",
      "F1 Score: 0.4514\n",
      "Matthews Correlation Coefficient: 0.1348\n",
      "Specificity: 0.6756\n"
     ]
    },
    {
     "name": "stderr",
     "output_type": "stream",
     "text": [
      "/tmp/ipykernel_51826/1452124320.py:4: FutureWarning: suggest_loguniform has been deprecated in v3.0.0. This feature will be removed in v6.0.0. See https://github.com/optuna/optuna/releases/tag/v3.0.0. Use suggest_float(..., log=True) instead.\n",
      "  learning_rate = trial.suggest_loguniform(\"learning_rate\", 1e-5, 1e-1)\n",
      "[I 2024-11-28 14:50:30,400] Trial 18 finished with value: 0.5669781931464174 and parameters: {'hidden_units': 296, 'dropout_rate': 0.4, 'learning_rate': 0.025731282573515882}. Best is trial 13 with value: 0.6313131313131313.\n"
     ]
    },
    {
     "name": "stdout",
     "output_type": "stream",
     "text": [
      "Accuracy: 60.40%\n",
      "Precision: 0.4667\n",
      "Recall: 0.7222\n",
      "F1 Score: 0.5670\n",
      "Matthews Correlation Coefficient: 0.2510\n",
      "Specificity: 0.5378\n"
     ]
    },
    {
     "name": "stderr",
     "output_type": "stream",
     "text": [
      "/tmp/ipykernel_51826/1452124320.py:4: FutureWarning: suggest_loguniform has been deprecated in v3.0.0. This feature will be removed in v6.0.0. See https://github.com/optuna/optuna/releases/tag/v3.0.0. Use suggest_float(..., log=True) instead.\n",
      "  learning_rate = trial.suggest_loguniform(\"learning_rate\", 1e-5, 1e-1)\n",
      "[I 2024-11-28 14:51:21,293] Trial 19 finished with value: 0.44081632653061226 and parameters: {'hidden_units': 308, 'dropout_rate': 0.35, 'learning_rate': 0.006809920703067092}. Best is trial 13 with value: 0.6313131313131313.\n"
     ]
    },
    {
     "name": "stdout",
     "output_type": "stream",
     "text": [
      "Accuracy: 60.97%\n",
      "Precision: 0.4538\n",
      "Recall: 0.4286\n",
      "F1 Score: 0.4408\n",
      "Matthews Correlation Coefficient: 0.1415\n",
      "Specificity: 0.7111\n"
     ]
    },
    {
     "name": "stderr",
     "output_type": "stream",
     "text": [
      "/tmp/ipykernel_51826/1452124320.py:4: FutureWarning: suggest_loguniform has been deprecated in v3.0.0. This feature will be removed in v6.0.0. See https://github.com/optuna/optuna/releases/tag/v3.0.0. Use suggest_float(..., log=True) instead.\n",
      "  learning_rate = trial.suggest_loguniform(\"learning_rate\", 1e-5, 1e-1)\n",
      "/home/gonken/anaconda3/envs/torch/lib/python3.12/site-packages/sklearn/metrics/_classification.py:1531: UndefinedMetricWarning: Precision is ill-defined and being set to 0.0 due to no predicted samples. Use `zero_division` parameter to control this behavior.\n",
      "  _warn_prf(average, modifier, f\"{metric.capitalize()} is\", len(result))\n",
      "[I 2024-11-28 14:52:11,759] Trial 20 finished with value: 0.0 and parameters: {'hidden_units': 196, 'dropout_rate': 0.5, 'learning_rate': 0.03472350164813138}. Best is trial 13 with value: 0.6313131313131313.\n",
      "/tmp/ipykernel_51826/1452124320.py:4: FutureWarning: suggest_loguniform has been deprecated in v3.0.0. This feature will be removed in v6.0.0. See https://github.com/optuna/optuna/releases/tag/v3.0.0. Use suggest_float(..., log=True) instead.\n",
      "  learning_rate = trial.suggest_loguniform(\"learning_rate\", 1e-5, 1e-1)\n"
     ]
    },
    {
     "name": "stdout",
     "output_type": "stream",
     "text": [
      "Accuracy: 64.10%\n",
      "Precision: 0.0000\n",
      "Recall: 0.0000\n",
      "F1 Score: 0.0000\n",
      "Matthews Correlation Coefficient: 0.0000\n",
      "Specificity: 1.0000\n"
     ]
    },
    {
     "name": "stderr",
     "output_type": "stream",
     "text": [
      "/home/gonken/anaconda3/envs/torch/lib/python3.12/site-packages/sklearn/metrics/_classification.py:1531: UndefinedMetricWarning: Precision is ill-defined and being set to 0.0 due to no predicted samples. Use `zero_division` parameter to control this behavior.\n",
      "  _warn_prf(average, modifier, f\"{metric.capitalize()} is\", len(result))\n",
      "[I 2024-11-28 14:53:01,477] Trial 21 finished with value: 0.0 and parameters: {'hidden_units': 88, 'dropout_rate': 0.45000000000000007, 'learning_rate': 0.0950714845926813}. Best is trial 13 with value: 0.6313131313131313.\n",
      "/tmp/ipykernel_51826/1452124320.py:4: FutureWarning: suggest_loguniform has been deprecated in v3.0.0. This feature will be removed in v6.0.0. See https://github.com/optuna/optuna/releases/tag/v3.0.0. Use suggest_float(..., log=True) instead.\n",
      "  learning_rate = trial.suggest_loguniform(\"learning_rate\", 1e-5, 1e-1)\n"
     ]
    },
    {
     "name": "stdout",
     "output_type": "stream",
     "text": [
      "Accuracy: 64.10%\n",
      "Precision: 0.0000\n",
      "Recall: 0.0000\n",
      "F1 Score: 0.0000\n",
      "Matthews Correlation Coefficient: 0.0000\n",
      "Specificity: 1.0000\n"
     ]
    },
    {
     "name": "stderr",
     "output_type": "stream",
     "text": [
      "[I 2024-11-28 14:53:45,652] Trial 22 finished with value: 0.6240409207161125 and parameters: {'hidden_units': 152, 'dropout_rate': 0.45000000000000007, 'learning_rate': 0.02885447450774649}. Best is trial 13 with value: 0.6313131313131313.\n"
     ]
    },
    {
     "name": "stdout",
     "output_type": "stream",
     "text": [
      "Accuracy: 58.12%\n",
      "Precision: 0.4604\n",
      "Recall: 0.9683\n",
      "F1 Score: 0.6240\n",
      "Matthews Correlation Coefficient: 0.3711\n",
      "Specificity: 0.3644\n"
     ]
    },
    {
     "name": "stderr",
     "output_type": "stream",
     "text": [
      "/tmp/ipykernel_51826/1452124320.py:4: FutureWarning: suggest_loguniform has been deprecated in v3.0.0. This feature will be removed in v6.0.0. See https://github.com/optuna/optuna/releases/tag/v3.0.0. Use suggest_float(..., log=True) instead.\n",
      "  learning_rate = trial.suggest_loguniform(\"learning_rate\", 1e-5, 1e-1)\n",
      "[I 2024-11-28 14:54:36,513] Trial 23 finished with value: 0.5623003194888179 and parameters: {'hidden_units': 72, 'dropout_rate': 0.4, 'learning_rate': 0.008823546880082567}. Best is trial 13 with value: 0.6313131313131313.\n"
     ]
    },
    {
     "name": "stdout",
     "output_type": "stream",
     "text": [
      "Accuracy: 60.97%\n",
      "Precision: 0.4706\n",
      "Recall: 0.6984\n",
      "F1 Score: 0.5623\n",
      "Matthews Correlation Coefficient: 0.2485\n",
      "Specificity: 0.5600\n"
     ]
    },
    {
     "name": "stderr",
     "output_type": "stream",
     "text": [
      "/tmp/ipykernel_51826/1452124320.py:4: FutureWarning: suggest_loguniform has been deprecated in v3.0.0. This feature will be removed in v6.0.0. See https://github.com/optuna/optuna/releases/tag/v3.0.0. Use suggest_float(..., log=True) instead.\n",
      "  learning_rate = trial.suggest_loguniform(\"learning_rate\", 1e-5, 1e-1)\n",
      "/home/gonken/anaconda3/envs/torch/lib/python3.12/site-packages/sklearn/metrics/_classification.py:1531: UndefinedMetricWarning: Precision is ill-defined and being set to 0.0 due to no predicted samples. Use `zero_division` parameter to control this behavior.\n",
      "  _warn_prf(average, modifier, f\"{metric.capitalize()} is\", len(result))\n",
      "[I 2024-11-28 14:55:25,725] Trial 24 finished with value: 0.0 and parameters: {'hidden_units': 240, 'dropout_rate': 0.45000000000000007, 'learning_rate': 0.09927710030136998}. Best is trial 13 with value: 0.6313131313131313.\n",
      "/tmp/ipykernel_51826/1452124320.py:4: FutureWarning: suggest_loguniform has been deprecated in v3.0.0. This feature will be removed in v6.0.0. See https://github.com/optuna/optuna/releases/tag/v3.0.0. Use suggest_float(..., log=True) instead.\n",
      "  learning_rate = trial.suggest_loguniform(\"learning_rate\", 1e-5, 1e-1)\n"
     ]
    },
    {
     "name": "stdout",
     "output_type": "stream",
     "text": [
      "Accuracy: 64.10%\n",
      "Precision: 0.0000\n",
      "Recall: 0.0000\n",
      "F1 Score: 0.0000\n",
      "Matthews Correlation Coefficient: 0.0000\n",
      "Specificity: 1.0000\n"
     ]
    },
    {
     "name": "stderr",
     "output_type": "stream",
     "text": [
      "[I 2024-11-28 14:56:16,793] Trial 25 finished with value: 0.6259541984732825 and parameters: {'hidden_units': 104, 'dropout_rate': 0.5, 'learning_rate': 0.04604986699895319}. Best is trial 13 with value: 0.6313131313131313.\n"
     ]
    },
    {
     "name": "stdout",
     "output_type": "stream",
     "text": [
      "Accuracy: 58.12%\n",
      "Precision: 0.4607\n",
      "Recall: 0.9762\n",
      "F1 Score: 0.6260\n",
      "Matthews Correlation Coefficient: 0.3780\n",
      "Specificity: 0.3600\n"
     ]
    },
    {
     "name": "stderr",
     "output_type": "stream",
     "text": [
      "/tmp/ipykernel_51826/1452124320.py:4: FutureWarning: suggest_loguniform has been deprecated in v3.0.0. This feature will be removed in v6.0.0. See https://github.com/optuna/optuna/releases/tag/v3.0.0. Use suggest_float(..., log=True) instead.\n",
      "  learning_rate = trial.suggest_loguniform(\"learning_rate\", 1e-5, 1e-1)\n",
      "[I 2024-11-28 14:57:11,395] Trial 26 finished with value: 0.6137566137566137 and parameters: {'hidden_units': 204, 'dropout_rate': 0.35, 'learning_rate': 0.02765020081332885}. Best is trial 13 with value: 0.6313131313131313.\n"
     ]
    },
    {
     "name": "stdout",
     "output_type": "stream",
     "text": [
      "Accuracy: 58.40%\n",
      "Precision: 0.4603\n",
      "Recall: 0.9206\n",
      "F1 Score: 0.6138\n",
      "Matthews Correlation Coefficient: 0.3371\n",
      "Specificity: 0.3956\n"
     ]
    },
    {
     "name": "stderr",
     "output_type": "stream",
     "text": [
      "/tmp/ipykernel_51826/1452124320.py:4: FutureWarning: suggest_loguniform has been deprecated in v3.0.0. This feature will be removed in v6.0.0. See https://github.com/optuna/optuna/releases/tag/v3.0.0. Use suggest_float(..., log=True) instead.\n",
      "  learning_rate = trial.suggest_loguniform(\"learning_rate\", 1e-5, 1e-1)\n",
      "[I 2024-11-28 14:58:02,057] Trial 27 finished with value: 0.5 and parameters: {'hidden_units': 500, 'dropout_rate': 0.4, 'learning_rate': 0.005667380812305884}. Best is trial 13 with value: 0.6313131313131313.\n"
     ]
    },
    {
     "name": "stdout",
     "output_type": "stream",
     "text": [
      "Accuracy: 63.53%\n",
      "Precision: 0.4923\n",
      "Recall: 0.5079\n",
      "F1 Score: 0.5000\n",
      "Matthews Correlation Coefficient: 0.2132\n",
      "Specificity: 0.7067\n"
     ]
    },
    {
     "name": "stderr",
     "output_type": "stream",
     "text": [
      "/tmp/ipykernel_51826/1452124320.py:4: FutureWarning: suggest_loguniform has been deprecated in v3.0.0. This feature will be removed in v6.0.0. See https://github.com/optuna/optuna/releases/tag/v3.0.0. Use suggest_float(..., log=True) instead.\n",
      "  learning_rate = trial.suggest_loguniform(\"learning_rate\", 1e-5, 1e-1)\n",
      "[I 2024-11-28 14:58:55,443] Trial 28 finished with value: 0.4852941176470588 and parameters: {'hidden_units': 52, 'dropout_rate': 0.45000000000000007, 'learning_rate': 0.010899222111245442}. Best is trial 13 with value: 0.6313131313131313.\n"
     ]
    },
    {
     "name": "stdout",
     "output_type": "stream",
     "text": [
      "Accuracy: 60.11%\n",
      "Precision: 0.4521\n",
      "Recall: 0.5238\n",
      "F1 Score: 0.4853\n",
      "Matthews Correlation Coefficient: 0.1638\n",
      "Specificity: 0.6444\n"
     ]
    },
    {
     "name": "stderr",
     "output_type": "stream",
     "text": [
      "/tmp/ipykernel_51826/1452124320.py:4: FutureWarning: suggest_loguniform has been deprecated in v3.0.0. This feature will be removed in v6.0.0. See https://github.com/optuna/optuna/releases/tag/v3.0.0. Use suggest_float(..., log=True) instead.\n",
      "  learning_rate = trial.suggest_loguniform(\"learning_rate\", 1e-5, 1e-1)\n",
      "/home/gonken/anaconda3/envs/torch/lib/python3.12/site-packages/sklearn/metrics/_classification.py:1531: UndefinedMetricWarning: Precision is ill-defined and being set to 0.0 due to no predicted samples. Use `zero_division` parameter to control this behavior.\n",
      "  _warn_prf(average, modifier, f\"{metric.capitalize()} is\", len(result))\n",
      "[I 2024-11-28 14:59:47,332] Trial 29 finished with value: 0.0 and parameters: {'hidden_units': 160, 'dropout_rate': 0.2, 'learning_rate': 0.043661554352565905}. Best is trial 13 with value: 0.6313131313131313.\n",
      "/tmp/ipykernel_51826/1452124320.py:4: FutureWarning: suggest_loguniform has been deprecated in v3.0.0. This feature will be removed in v6.0.0. See https://github.com/optuna/optuna/releases/tag/v3.0.0. Use suggest_float(..., log=True) instead.\n",
      "  learning_rate = trial.suggest_loguniform(\"learning_rate\", 1e-5, 1e-1)\n"
     ]
    },
    {
     "name": "stdout",
     "output_type": "stream",
     "text": [
      "Accuracy: 64.10%\n",
      "Precision: 0.0000\n",
      "Recall: 0.0000\n",
      "F1 Score: 0.0000\n",
      "Matthews Correlation Coefficient: 0.0000\n",
      "Specificity: 1.0000\n"
     ]
    },
    {
     "name": "stderr",
     "output_type": "stream",
     "text": [
      "[I 2024-11-28 15:00:37,732] Trial 30 finished with value: 0.4860557768924303 and parameters: {'hidden_units': 280, 'dropout_rate': 0.5, 'learning_rate': 0.0011204686450142036}. Best is trial 13 with value: 0.6313131313131313.\n"
     ]
    },
    {
     "name": "stdout",
     "output_type": "stream",
     "text": [
      "Accuracy: 63.25%\n",
      "Precision: 0.4880\n",
      "Recall: 0.4841\n",
      "F1 Score: 0.4861\n",
      "Matthews Correlation Coefficient: 0.2000\n",
      "Specificity: 0.7156\n"
     ]
    },
    {
     "name": "stderr",
     "output_type": "stream",
     "text": [
      "/tmp/ipykernel_51826/1452124320.py:4: FutureWarning: suggest_loguniform has been deprecated in v3.0.0. This feature will be removed in v6.0.0. See https://github.com/optuna/optuna/releases/tag/v3.0.0. Use suggest_float(..., log=True) instead.\n",
      "  learning_rate = trial.suggest_loguniform(\"learning_rate\", 1e-5, 1e-1)\n",
      "[I 2024-11-28 15:01:29,564] Trial 31 finished with value: 0.6201550387596899 and parameters: {'hidden_units': 108, 'dropout_rate': 0.5, 'learning_rate': 0.045897572642544036}. Best is trial 13 with value: 0.6313131313131313.\n"
     ]
    },
    {
     "name": "stdout",
     "output_type": "stream",
     "text": [
      "Accuracy: 58.12%\n",
      "Precision: 0.4598\n",
      "Recall: 0.9524\n",
      "F1 Score: 0.6202\n",
      "Matthews Correlation Coefficient: 0.3578\n",
      "Specificity: 0.3733\n"
     ]
    },
    {
     "name": "stderr",
     "output_type": "stream",
     "text": [
      "/tmp/ipykernel_51826/1452124320.py:4: FutureWarning: suggest_loguniform has been deprecated in v3.0.0. This feature will be removed in v6.0.0. See https://github.com/optuna/optuna/releases/tag/v3.0.0. Use suggest_float(..., log=True) instead.\n",
      "  learning_rate = trial.suggest_loguniform(\"learning_rate\", 1e-5, 1e-1)\n",
      "/home/gonken/anaconda3/envs/torch/lib/python3.12/site-packages/sklearn/metrics/_classification.py:1531: UndefinedMetricWarning: Precision is ill-defined and being set to 0.0 due to no predicted samples. Use `zero_division` parameter to control this behavior.\n",
      "  _warn_prf(average, modifier, f\"{metric.capitalize()} is\", len(result))\n",
      "[I 2024-11-28 15:02:14,577] Trial 32 finished with value: 0.0 and parameters: {'hidden_units': 120, 'dropout_rate': 0.5, 'learning_rate': 0.07566001890236289}. Best is trial 13 with value: 0.6313131313131313.\n",
      "/tmp/ipykernel_51826/1452124320.py:4: FutureWarning: suggest_loguniform has been deprecated in v3.0.0. This feature will be removed in v6.0.0. See https://github.com/optuna/optuna/releases/tag/v3.0.0. Use suggest_float(..., log=True) instead.\n",
      "  learning_rate = trial.suggest_loguniform(\"learning_rate\", 1e-5, 1e-1)\n"
     ]
    },
    {
     "name": "stdout",
     "output_type": "stream",
     "text": [
      "Accuracy: 64.10%\n",
      "Precision: 0.0000\n",
      "Recall: 0.0000\n",
      "F1 Score: 0.0000\n",
      "Matthews Correlation Coefficient: 0.0000\n",
      "Specificity: 1.0000\n"
     ]
    },
    {
     "name": "stderr",
     "output_type": "stream",
     "text": [
      "/home/gonken/anaconda3/envs/torch/lib/python3.12/site-packages/sklearn/metrics/_classification.py:1531: UndefinedMetricWarning: Precision is ill-defined and being set to 0.0 due to no predicted samples. Use `zero_division` parameter to control this behavior.\n",
      "  _warn_prf(average, modifier, f\"{metric.capitalize()} is\", len(result))\n",
      "[I 2024-11-28 15:02:58,085] Trial 33 finished with value: 0.0 and parameters: {'hidden_units': 216, 'dropout_rate': 0.45000000000000007, 'learning_rate': 0.018638748604629947}. Best is trial 13 with value: 0.6313131313131313.\n",
      "/tmp/ipykernel_51826/1452124320.py:4: FutureWarning: suggest_loguniform has been deprecated in v3.0.0. This feature will be removed in v6.0.0. See https://github.com/optuna/optuna/releases/tag/v3.0.0. Use suggest_float(..., log=True) instead.\n",
      "  learning_rate = trial.suggest_loguniform(\"learning_rate\", 1e-5, 1e-1)\n"
     ]
    },
    {
     "name": "stdout",
     "output_type": "stream",
     "text": [
      "Accuracy: 64.10%\n",
      "Precision: 0.0000\n",
      "Recall: 0.0000\n",
      "F1 Score: 0.0000\n",
      "Matthews Correlation Coefficient: 0.0000\n",
      "Specificity: 1.0000\n"
     ]
    },
    {
     "name": "stderr",
     "output_type": "stream",
     "text": [
      "/home/gonken/anaconda3/envs/torch/lib/python3.12/site-packages/sklearn/metrics/_classification.py:1531: UndefinedMetricWarning: Precision is ill-defined and being set to 0.0 due to no predicted samples. Use `zero_division` parameter to control this behavior.\n",
      "  _warn_prf(average, modifier, f\"{metric.capitalize()} is\", len(result))\n",
      "[I 2024-11-28 15:03:48,562] Trial 34 finished with value: 0.0 and parameters: {'hidden_units': 56, 'dropout_rate': 0.4, 'learning_rate': 0.03678190271700277}. Best is trial 13 with value: 0.6313131313131313.\n",
      "/tmp/ipykernel_51826/1452124320.py:4: FutureWarning: suggest_loguniform has been deprecated in v3.0.0. This feature will be removed in v6.0.0. See https://github.com/optuna/optuna/releases/tag/v3.0.0. Use suggest_float(..., log=True) instead.\n",
      "  learning_rate = trial.suggest_loguniform(\"learning_rate\", 1e-5, 1e-1)\n"
     ]
    },
    {
     "name": "stdout",
     "output_type": "stream",
     "text": [
      "Accuracy: 64.10%\n",
      "Precision: 0.0000\n",
      "Recall: 0.0000\n",
      "F1 Score: 0.0000\n",
      "Matthews Correlation Coefficient: 0.0000\n",
      "Specificity: 1.0000\n"
     ]
    },
    {
     "name": "stderr",
     "output_type": "stream",
     "text": [
      "[I 2024-11-28 15:04:31,590] Trial 35 finished with value: 0.39473684210526316 and parameters: {'hidden_units': 172, 'dropout_rate': 0.45000000000000007, 'learning_rate': 0.0036566450933684536}. Best is trial 13 with value: 0.6313131313131313.\n"
     ]
    },
    {
     "name": "stdout",
     "output_type": "stream",
     "text": [
      "Accuracy: 60.68%\n",
      "Precision: 0.4412\n",
      "Recall: 0.3571\n",
      "F1 Score: 0.3947\n",
      "Matthews Correlation Coefficient: 0.1097\n",
      "Specificity: 0.7467\n"
     ]
    },
    {
     "name": "stderr",
     "output_type": "stream",
     "text": [
      "/tmp/ipykernel_51826/1452124320.py:4: FutureWarning: suggest_loguniform has been deprecated in v3.0.0. This feature will be removed in v6.0.0. See https://github.com/optuna/optuna/releases/tag/v3.0.0. Use suggest_float(..., log=True) instead.\n",
      "  learning_rate = trial.suggest_loguniform(\"learning_rate\", 1e-5, 1e-1)\n",
      "[I 2024-11-28 15:05:22,704] Trial 36 finished with value: 0.46153846153846156 and parameters: {'hidden_units': 96, 'dropout_rate': 0.35, 'learning_rate': 0.00031685114268807294}. Best is trial 13 with value: 0.6313131313131313.\n"
     ]
    },
    {
     "name": "stdout",
     "output_type": "stream",
     "text": [
      "Accuracy: 60.11%\n",
      "Precision: 0.4478\n",
      "Recall: 0.4762\n",
      "F1 Score: 0.4615\n",
      "Matthews Correlation Coefficient: 0.1454\n",
      "Specificity: 0.6711\n"
     ]
    },
    {
     "name": "stderr",
     "output_type": "stream",
     "text": [
      "/tmp/ipykernel_51826/1452124320.py:4: FutureWarning: suggest_loguniform has been deprecated in v3.0.0. This feature will be removed in v6.0.0. See https://github.com/optuna/optuna/releases/tag/v3.0.0. Use suggest_float(..., log=True) instead.\n",
      "  learning_rate = trial.suggest_loguniform(\"learning_rate\", 1e-5, 1e-1)\n",
      "[I 2024-11-28 15:05:59,053] Trial 37 finished with value: 0.6230366492146597 and parameters: {'hidden_units': 152, 'dropout_rate': 0.5, 'learning_rate': 0.019486146831952104}. Best is trial 13 with value: 0.6313131313131313.\n"
     ]
    },
    {
     "name": "stdout",
     "output_type": "stream",
     "text": [
      "Accuracy: 58.97%\n",
      "Precision: 0.4648\n",
      "Recall: 0.9444\n",
      "F1 Score: 0.6230\n",
      "Matthews Correlation Coefficient: 0.3623\n",
      "Specificity: 0.3911\n"
     ]
    },
    {
     "name": "stderr",
     "output_type": "stream",
     "text": [
      "/tmp/ipykernel_51826/1452124320.py:4: FutureWarning: suggest_loguniform has been deprecated in v3.0.0. This feature will be removed in v6.0.0. See https://github.com/optuna/optuna/releases/tag/v3.0.0. Use suggest_float(..., log=True) instead.\n",
      "  learning_rate = trial.suggest_loguniform(\"learning_rate\", 1e-5, 1e-1)\n",
      "[I 2024-11-28 15:06:45,424] Trial 38 finished with value: 0.6262626262626263 and parameters: {'hidden_units': 132, 'dropout_rate': 0.30000000000000004, 'learning_rate': 0.09791582110935998}. Best is trial 13 with value: 0.6313131313131313.\n"
     ]
    },
    {
     "name": "stdout",
     "output_type": "stream",
     "text": [
      "Accuracy: 57.83%\n",
      "Precision: 0.4593\n",
      "Recall: 0.9841\n",
      "F1 Score: 0.6263\n",
      "Matthews Correlation Coefficient: 0.3817\n",
      "Specificity: 0.3511\n"
     ]
    },
    {
     "name": "stderr",
     "output_type": "stream",
     "text": [
      "/tmp/ipykernel_51826/1452124320.py:4: FutureWarning: suggest_loguniform has been deprecated in v3.0.0. This feature will be removed in v6.0.0. See https://github.com/optuna/optuna/releases/tag/v3.0.0. Use suggest_float(..., log=True) instead.\n",
      "  learning_rate = trial.suggest_loguniform(\"learning_rate\", 1e-5, 1e-1)\n",
      "/home/gonken/anaconda3/envs/torch/lib/python3.12/site-packages/sklearn/metrics/_classification.py:1531: UndefinedMetricWarning: Precision is ill-defined and being set to 0.0 due to no predicted samples. Use `zero_division` parameter to control this behavior.\n",
      "  _warn_prf(average, modifier, f\"{metric.capitalize()} is\", len(result))\n",
      "[I 2024-11-28 15:07:20,081] Trial 39 finished with value: 0.0 and parameters: {'hidden_units': 136, 'dropout_rate': 0.2, 'learning_rate': 0.09620588500038878}. Best is trial 13 with value: 0.6313131313131313.\n",
      "/tmp/ipykernel_51826/1452124320.py:4: FutureWarning: suggest_loguniform has been deprecated in v3.0.0. This feature will be removed in v6.0.0. See https://github.com/optuna/optuna/releases/tag/v3.0.0. Use suggest_float(..., log=True) instead.\n",
      "  learning_rate = trial.suggest_loguniform(\"learning_rate\", 1e-5, 1e-1)\n"
     ]
    },
    {
     "name": "stdout",
     "output_type": "stream",
     "text": [
      "Accuracy: 64.10%\n",
      "Precision: 0.0000\n",
      "Recall: 0.0000\n",
      "F1 Score: 0.0000\n",
      "Matthews Correlation Coefficient: 0.0000\n",
      "Specificity: 1.0000\n"
     ]
    },
    {
     "name": "stderr",
     "output_type": "stream",
     "text": [
      "[I 2024-11-28 15:08:06,907] Trial 40 finished with value: 0.5838509316770186 and parameters: {'hidden_units': 224, 'dropout_rate': 0.30000000000000004, 'learning_rate': 2.6815610666439873e-05}. Best is trial 13 with value: 0.6313131313131313.\n"
     ]
    },
    {
     "name": "stdout",
     "output_type": "stream",
     "text": [
      "Accuracy: 61.82%\n",
      "Precision: 0.4796\n",
      "Recall: 0.7460\n",
      "F1 Score: 0.5839\n",
      "Matthews Correlation Coefficient: 0.2828\n",
      "Specificity: 0.5467\n"
     ]
    },
    {
     "name": "stderr",
     "output_type": "stream",
     "text": [
      "/tmp/ipykernel_51826/1452124320.py:4: FutureWarning: suggest_loguniform has been deprecated in v3.0.0. This feature will be removed in v6.0.0. See https://github.com/optuna/optuna/releases/tag/v3.0.0. Use suggest_float(..., log=True) instead.\n",
      "  learning_rate = trial.suggest_loguniform(\"learning_rate\", 1e-5, 1e-1)\n",
      "[I 2024-11-28 15:09:00,682] Trial 41 finished with value: 0.6278481012658228 and parameters: {'hidden_units': 36, 'dropout_rate': 0.30000000000000004, 'learning_rate': 0.05184374246371204}. Best is trial 13 with value: 0.6313131313131313.\n"
     ]
    },
    {
     "name": "stdout",
     "output_type": "stream",
     "text": [
      "Accuracy: 58.12%\n",
      "Precision: 0.4610\n",
      "Recall: 0.9841\n",
      "F1 Score: 0.6278\n",
      "Matthews Correlation Coefficient: 0.3851\n",
      "Specificity: 0.3556\n"
     ]
    },
    {
     "name": "stderr",
     "output_type": "stream",
     "text": [
      "/tmp/ipykernel_51826/1452124320.py:4: FutureWarning: suggest_loguniform has been deprecated in v3.0.0. This feature will be removed in v6.0.0. See https://github.com/optuna/optuna/releases/tag/v3.0.0. Use suggest_float(..., log=True) instead.\n",
      "  learning_rate = trial.suggest_loguniform(\"learning_rate\", 1e-5, 1e-1)\n",
      "[I 2024-11-28 15:09:48,966] Trial 42 finished with value: 0.6224489795918368 and parameters: {'hidden_units': 44, 'dropout_rate': 0.30000000000000004, 'learning_rate': 0.0613201867507849}. Best is trial 13 with value: 0.6313131313131313.\n"
     ]
    },
    {
     "name": "stdout",
     "output_type": "stream",
     "text": [
      "Accuracy: 57.83%\n",
      "Precision: 0.4586\n",
      "Recall: 0.9683\n",
      "F1 Score: 0.6224\n",
      "Matthews Correlation Coefficient: 0.3676\n",
      "Specificity: 0.3600\n"
     ]
    },
    {
     "name": "stderr",
     "output_type": "stream",
     "text": [
      "/tmp/ipykernel_51826/1452124320.py:4: FutureWarning: suggest_loguniform has been deprecated in v3.0.0. This feature will be removed in v6.0.0. See https://github.com/optuna/optuna/releases/tag/v3.0.0. Use suggest_float(..., log=True) instead.\n",
      "  learning_rate = trial.suggest_loguniform(\"learning_rate\", 1e-5, 1e-1)\n",
      "/home/gonken/anaconda3/envs/torch/lib/python3.12/site-packages/sklearn/metrics/_classification.py:1531: UndefinedMetricWarning: Precision is ill-defined and being set to 0.0 due to no predicted samples. Use `zero_division` parameter to control this behavior.\n",
      "  _warn_prf(average, modifier, f\"{metric.capitalize()} is\", len(result))\n",
      "[I 2024-11-28 15:10:37,378] Trial 43 finished with value: 0.0 and parameters: {'hidden_units': 4, 'dropout_rate': 0.25, 'learning_rate': 0.060402571473832024}. Best is trial 13 with value: 0.6313131313131313.\n",
      "/tmp/ipykernel_51826/1452124320.py:4: FutureWarning: suggest_loguniform has been deprecated in v3.0.0. This feature will be removed in v6.0.0. See https://github.com/optuna/optuna/releases/tag/v3.0.0. Use suggest_float(..., log=True) instead.\n",
      "  learning_rate = trial.suggest_loguniform(\"learning_rate\", 1e-5, 1e-1)\n"
     ]
    },
    {
     "name": "stdout",
     "output_type": "stream",
     "text": [
      "Accuracy: 64.10%\n",
      "Precision: 0.0000\n",
      "Recall: 0.0000\n",
      "F1 Score: 0.0000\n",
      "Matthews Correlation Coefficient: 0.0000\n",
      "Specificity: 1.0000\n"
     ]
    },
    {
     "name": "stderr",
     "output_type": "stream",
     "text": [
      "[I 2024-11-28 15:11:17,191] Trial 44 finished with value: 0.6070460704607046 and parameters: {'hidden_units': 76, 'dropout_rate': 0.30000000000000004, 'learning_rate': 0.022152577779253956}. Best is trial 13 with value: 0.6313131313131313.\n"
     ]
    },
    {
     "name": "stdout",
     "output_type": "stream",
     "text": [
      "Accuracy: 58.69%\n",
      "Precision: 0.4609\n",
      "Recall: 0.8889\n",
      "F1 Score: 0.6070\n",
      "Matthews Correlation Coefficient: 0.3187\n",
      "Specificity: 0.4178\n"
     ]
    },
    {
     "name": "stderr",
     "output_type": "stream",
     "text": [
      "/tmp/ipykernel_51826/1452124320.py:4: FutureWarning: suggest_loguniform has been deprecated in v3.0.0. This feature will be removed in v6.0.0. See https://github.com/optuna/optuna/releases/tag/v3.0.0. Use suggest_float(..., log=True) instead.\n",
      "  learning_rate = trial.suggest_loguniform(\"learning_rate\", 1e-5, 1e-1)\n",
      "[I 2024-11-28 15:12:03,920] Trial 45 finished with value: 0.6117021276595744 and parameters: {'hidden_units': 184, 'dropout_rate': 0.2, 'learning_rate': 0.039061916349661024}. Best is trial 13 with value: 0.6313131313131313.\n"
     ]
    },
    {
     "name": "stdout",
     "output_type": "stream",
     "text": [
      "Accuracy: 58.40%\n",
      "Precision: 0.4600\n",
      "Recall: 0.9127\n",
      "F1 Score: 0.6117\n",
      "Matthews Correlation Coefficient: 0.3313\n",
      "Specificity: 0.4000\n"
     ]
    },
    {
     "name": "stderr",
     "output_type": "stream",
     "text": [
      "/tmp/ipykernel_51826/1452124320.py:4: FutureWarning: suggest_loguniform has been deprecated in v3.0.0. This feature will be removed in v6.0.0. See https://github.com/optuna/optuna/releases/tag/v3.0.0. Use suggest_float(..., log=True) instead.\n",
      "  learning_rate = trial.suggest_loguniform(\"learning_rate\", 1e-5, 1e-1)\n",
      "[I 2024-11-28 15:12:54,916] Trial 46 finished with value: 0.6233766233766234 and parameters: {'hidden_units': 36, 'dropout_rate': 0.35, 'learning_rate': 0.012507007023364856}. Best is trial 13 with value: 0.6313131313131313.\n"
     ]
    },
    {
     "name": "stdout",
     "output_type": "stream",
     "text": [
      "Accuracy: 58.69%\n",
      "Precision: 0.4633\n",
      "Recall: 0.9524\n",
      "F1 Score: 0.6234\n",
      "Matthews Correlation Coefficient: 0.3650\n",
      "Specificity: 0.3822\n"
     ]
    },
    {
     "name": "stderr",
     "output_type": "stream",
     "text": [
      "/tmp/ipykernel_51826/1452124320.py:4: FutureWarning: suggest_loguniform has been deprecated in v3.0.0. This feature will be removed in v6.0.0. See https://github.com/optuna/optuna/releases/tag/v3.0.0. Use suggest_float(..., log=True) instead.\n",
      "  learning_rate = trial.suggest_loguniform(\"learning_rate\", 1e-5, 1e-1)\n",
      "/home/gonken/anaconda3/envs/torch/lib/python3.12/site-packages/sklearn/metrics/_classification.py:1531: UndefinedMetricWarning: Precision is ill-defined and being set to 0.0 due to no predicted samples. Use `zero_division` parameter to control this behavior.\n",
      "  _warn_prf(average, modifier, f\"{metric.capitalize()} is\", len(result))\n",
      "[I 2024-11-28 15:13:44,913] Trial 47 finished with value: 0.0 and parameters: {'hidden_units': 136, 'dropout_rate': 0.1, 'learning_rate': 0.09827628432966375}. Best is trial 13 with value: 0.6313131313131313.\n",
      "/tmp/ipykernel_51826/1452124320.py:4: FutureWarning: suggest_loguniform has been deprecated in v3.0.0. This feature will be removed in v6.0.0. See https://github.com/optuna/optuna/releases/tag/v3.0.0. Use suggest_float(..., log=True) instead.\n",
      "  learning_rate = trial.suggest_loguniform(\"learning_rate\", 1e-5, 1e-1)\n"
     ]
    },
    {
     "name": "stdout",
     "output_type": "stream",
     "text": [
      "Accuracy: 64.10%\n",
      "Precision: 0.0000\n",
      "Recall: 0.0000\n",
      "F1 Score: 0.0000\n",
      "Matthews Correlation Coefficient: 0.0000\n",
      "Specificity: 1.0000\n"
     ]
    },
    {
     "name": "stderr",
     "output_type": "stream",
     "text": [
      "/home/gonken/anaconda3/envs/torch/lib/python3.12/site-packages/sklearn/metrics/_classification.py:1531: UndefinedMetricWarning: Precision is ill-defined and being set to 0.0 due to no predicted samples. Use `zero_division` parameter to control this behavior.\n",
      "  _warn_prf(average, modifier, f\"{metric.capitalize()} is\", len(result))\n",
      "[I 2024-11-28 15:14:32,175] Trial 48 finished with value: 0.0 and parameters: {'hidden_units': 264, 'dropout_rate': 0.25, 'learning_rate': 0.05778084221040494}. Best is trial 13 with value: 0.6313131313131313.\n",
      "/tmp/ipykernel_51826/1452124320.py:4: FutureWarning: suggest_loguniform has been deprecated in v3.0.0. This feature will be removed in v6.0.0. See https://github.com/optuna/optuna/releases/tag/v3.0.0. Use suggest_float(..., log=True) instead.\n",
      "  learning_rate = trial.suggest_loguniform(\"learning_rate\", 1e-5, 1e-1)\n"
     ]
    },
    {
     "name": "stdout",
     "output_type": "stream",
     "text": [
      "Accuracy: 64.10%\n",
      "Precision: 0.0000\n",
      "Recall: 0.0000\n",
      "F1 Score: 0.0000\n",
      "Matthews Correlation Coefficient: 0.0000\n",
      "Specificity: 1.0000\n"
     ]
    },
    {
     "name": "stderr",
     "output_type": "stream",
     "text": [
      "[I 2024-11-28 15:15:17,341] Trial 49 finished with value: 0.44537815126050423 and parameters: {'hidden_units': 84, 'dropout_rate': 0.35, 'learning_rate': 0.0011360243201133159}. Best is trial 13 with value: 0.6313131313131313.\n"
     ]
    },
    {
     "name": "stdout",
     "output_type": "stream",
     "text": [
      "Accuracy: 62.39%\n",
      "Precision: 0.4732\n",
      "Recall: 0.4206\n",
      "F1 Score: 0.4454\n",
      "Matthews Correlation Coefficient: 0.1630\n",
      "Specificity: 0.7378\n"
     ]
    },
    {
     "name": "stderr",
     "output_type": "stream",
     "text": [
      "/tmp/ipykernel_51826/1452124320.py:4: FutureWarning: suggest_loguniform has been deprecated in v3.0.0. This feature will be removed in v6.0.0. See https://github.com/optuna/optuna/releases/tag/v3.0.0. Use suggest_float(..., log=True) instead.\n",
      "  learning_rate = trial.suggest_loguniform(\"learning_rate\", 1e-5, 1e-1)\n",
      "/home/gonken/anaconda3/envs/torch/lib/python3.12/site-packages/sklearn/metrics/_classification.py:1531: UndefinedMetricWarning: Precision is ill-defined and being set to 0.0 due to no predicted samples. Use `zero_division` parameter to control this behavior.\n",
      "  _warn_prf(average, modifier, f\"{metric.capitalize()} is\", len(result))\n",
      "[I 2024-11-28 15:16:08,666] Trial 50 finished with value: 0.0 and parameters: {'hidden_units': 24, 'dropout_rate': 0.30000000000000004, 'learning_rate': 0.029267782437239508}. Best is trial 13 with value: 0.6313131313131313.\n",
      "/tmp/ipykernel_51826/1452124320.py:4: FutureWarning: suggest_loguniform has been deprecated in v3.0.0. This feature will be removed in v6.0.0. See https://github.com/optuna/optuna/releases/tag/v3.0.0. Use suggest_float(..., log=True) instead.\n",
      "  learning_rate = trial.suggest_loguniform(\"learning_rate\", 1e-5, 1e-1)\n"
     ]
    },
    {
     "name": "stdout",
     "output_type": "stream",
     "text": [
      "Accuracy: 64.10%\n",
      "Precision: 0.0000\n",
      "Recall: 0.0000\n",
      "F1 Score: 0.0000\n",
      "Matthews Correlation Coefficient: 0.0000\n",
      "Specificity: 1.0000\n"
     ]
    },
    {
     "name": "stderr",
     "output_type": "stream",
     "text": [
      "/home/gonken/anaconda3/envs/torch/lib/python3.12/site-packages/sklearn/metrics/_classification.py:1531: UndefinedMetricWarning: Precision is ill-defined and being set to 0.0 due to no predicted samples. Use `zero_division` parameter to control this behavior.\n",
      "  _warn_prf(average, modifier, f\"{metric.capitalize()} is\", len(result))\n",
      "[I 2024-11-28 15:16:48,545] Trial 51 finished with value: 0.0 and parameters: {'hidden_units': 116, 'dropout_rate': 0.4, 'learning_rate': 0.04840354134270784}. Best is trial 13 with value: 0.6313131313131313.\n",
      "/tmp/ipykernel_51826/1452124320.py:4: FutureWarning: suggest_loguniform has been deprecated in v3.0.0. This feature will be removed in v6.0.0. See https://github.com/optuna/optuna/releases/tag/v3.0.0. Use suggest_float(..., log=True) instead.\n",
      "  learning_rate = trial.suggest_loguniform(\"learning_rate\", 1e-5, 1e-1)\n"
     ]
    },
    {
     "name": "stdout",
     "output_type": "stream",
     "text": [
      "Accuracy: 64.10%\n",
      "Precision: 0.0000\n",
      "Recall: 0.0000\n",
      "F1 Score: 0.0000\n",
      "Matthews Correlation Coefficient: 0.0000\n",
      "Specificity: 1.0000\n"
     ]
    },
    {
     "name": "stderr",
     "output_type": "stream",
     "text": [
      "[I 2024-11-28 15:17:30,664] Trial 52 finished with value: 0.6275510204081632 and parameters: {'hidden_units': 96, 'dropout_rate': 0.15000000000000002, 'learning_rate': 0.06909010103858274}. Best is trial 13 with value: 0.6313131313131313.\n"
     ]
    },
    {
     "name": "stdout",
     "output_type": "stream",
     "text": [
      "Accuracy: 58.40%\n",
      "Precision: 0.4624\n",
      "Recall: 0.9762\n",
      "F1 Score: 0.6276\n",
      "Matthews Correlation Coefficient: 0.3814\n",
      "Specificity: 0.3644\n"
     ]
    },
    {
     "name": "stderr",
     "output_type": "stream",
     "text": [
      "/tmp/ipykernel_51826/1452124320.py:4: FutureWarning: suggest_loguniform has been deprecated in v3.0.0. This feature will be removed in v6.0.0. See https://github.com/optuna/optuna/releases/tag/v3.0.0. Use suggest_float(..., log=True) instead.\n",
      "  learning_rate = trial.suggest_loguniform(\"learning_rate\", 1e-5, 1e-1)\n",
      "/home/gonken/anaconda3/envs/torch/lib/python3.12/site-packages/sklearn/metrics/_classification.py:1531: UndefinedMetricWarning: Precision is ill-defined and being set to 0.0 due to no predicted samples. Use `zero_division` parameter to control this behavior.\n",
      "  _warn_prf(average, modifier, f\"{metric.capitalize()} is\", len(result))\n",
      "[I 2024-11-28 15:18:18,643] Trial 53 finished with value: 0.0 and parameters: {'hidden_units': 340, 'dropout_rate': 0.15000000000000002, 'learning_rate': 0.07287420974218677}. Best is trial 13 with value: 0.6313131313131313.\n",
      "/tmp/ipykernel_51826/1452124320.py:4: FutureWarning: suggest_loguniform has been deprecated in v3.0.0. This feature will be removed in v6.0.0. See https://github.com/optuna/optuna/releases/tag/v3.0.0. Use suggest_float(..., log=True) instead.\n",
      "  learning_rate = trial.suggest_loguniform(\"learning_rate\", 1e-5, 1e-1)\n"
     ]
    },
    {
     "name": "stdout",
     "output_type": "stream",
     "text": [
      "Accuracy: 64.10%\n",
      "Precision: 0.0000\n",
      "Recall: 0.0000\n",
      "F1 Score: 0.0000\n",
      "Matthews Correlation Coefficient: 0.0000\n",
      "Specificity: 1.0000\n"
     ]
    },
    {
     "name": "stderr",
     "output_type": "stream",
     "text": [
      "/home/gonken/anaconda3/envs/torch/lib/python3.12/site-packages/sklearn/metrics/_classification.py:1531: UndefinedMetricWarning: Precision is ill-defined and being set to 0.0 due to no predicted samples. Use `zero_division` parameter to control this behavior.\n",
      "  _warn_prf(average, modifier, f\"{metric.capitalize()} is\", len(result))\n",
      "[I 2024-11-28 15:19:08,379] Trial 54 finished with value: 0.0 and parameters: {'hidden_units': 420, 'dropout_rate': 0.15000000000000002, 'learning_rate': 0.07382189341213682}. Best is trial 13 with value: 0.6313131313131313.\n",
      "/tmp/ipykernel_51826/1452124320.py:4: FutureWarning: suggest_loguniform has been deprecated in v3.0.0. This feature will be removed in v6.0.0. See https://github.com/optuna/optuna/releases/tag/v3.0.0. Use suggest_float(..., log=True) instead.\n",
      "  learning_rate = trial.suggest_loguniform(\"learning_rate\", 1e-5, 1e-1)\n"
     ]
    },
    {
     "name": "stdout",
     "output_type": "stream",
     "text": [
      "Accuracy: 64.10%\n",
      "Precision: 0.0000\n",
      "Recall: 0.0000\n",
      "F1 Score: 0.0000\n",
      "Matthews Correlation Coefficient: 0.0000\n",
      "Specificity: 1.0000\n"
     ]
    },
    {
     "name": "stderr",
     "output_type": "stream",
     "text": [
      "[I 2024-11-28 15:20:02,049] Trial 55 finished with value: 0.49795918367346936 and parameters: {'hidden_units': 72, 'dropout_rate': 0.15000000000000002, 'learning_rate': 0.00012438620146135984}. Best is trial 13 with value: 0.6313131313131313.\n"
     ]
    },
    {
     "name": "stdout",
     "output_type": "stream",
     "text": [
      "Accuracy: 64.96%\n",
      "Precision: 0.5126\n",
      "Recall: 0.4841\n",
      "F1 Score: 0.4980\n",
      "Matthews Correlation Coefficient: 0.2294\n",
      "Specificity: 0.7422\n"
     ]
    },
    {
     "name": "stderr",
     "output_type": "stream",
     "text": [
      "/tmp/ipykernel_51826/1452124320.py:4: FutureWarning: suggest_loguniform has been deprecated in v3.0.0. This feature will be removed in v6.0.0. See https://github.com/optuna/optuna/releases/tag/v3.0.0. Use suggest_float(..., log=True) instead.\n",
      "  learning_rate = trial.suggest_loguniform(\"learning_rate\", 1e-5, 1e-1)\n",
      "[I 2024-11-28 15:20:53,127] Trial 56 finished with value: 0.6065573770491803 and parameters: {'hidden_units': 168, 'dropout_rate': 0.25, 'learning_rate': 0.03298553863202632}. Best is trial 13 with value: 0.6313131313131313.\n"
     ]
    },
    {
     "name": "stdout",
     "output_type": "stream",
     "text": [
      "Accuracy: 58.97%\n",
      "Precision: 0.4625\n",
      "Recall: 0.8810\n",
      "F1 Score: 0.6066\n",
      "Matthews Correlation Coefficient: 0.3173\n",
      "Specificity: 0.4267\n"
     ]
    },
    {
     "name": "stderr",
     "output_type": "stream",
     "text": [
      "/tmp/ipykernel_51826/1452124320.py:4: FutureWarning: suggest_loguniform has been deprecated in v3.0.0. This feature will be removed in v6.0.0. See https://github.com/optuna/optuna/releases/tag/v3.0.0. Use suggest_float(..., log=True) instead.\n",
      "  learning_rate = trial.suggest_loguniform(\"learning_rate\", 1e-5, 1e-1)\n",
      "[I 2024-11-28 15:21:41,596] Trial 57 finished with value: 0.5337837837837838 and parameters: {'hidden_units': 124, 'dropout_rate': 0.30000000000000004, 'learning_rate': 0.016883984981287393}. Best is trial 13 with value: 0.6313131313131313.\n"
     ]
    },
    {
     "name": "stdout",
     "output_type": "stream",
     "text": [
      "Accuracy: 60.68%\n",
      "Precision: 0.4647\n",
      "Recall: 0.6270\n",
      "F1 Score: 0.5338\n",
      "Matthews Correlation Coefficient: 0.2136\n",
      "Specificity: 0.5956\n"
     ]
    },
    {
     "name": "stderr",
     "output_type": "stream",
     "text": [
      "/tmp/ipykernel_51826/1452124320.py:4: FutureWarning: suggest_loguniform has been deprecated in v3.0.0. This feature will be removed in v6.0.0. See https://github.com/optuna/optuna/releases/tag/v3.0.0. Use suggest_float(..., log=True) instead.\n",
      "  learning_rate = trial.suggest_loguniform(\"learning_rate\", 1e-5, 1e-1)\n",
      "/home/gonken/anaconda3/envs/torch/lib/python3.12/site-packages/sklearn/metrics/_classification.py:1531: UndefinedMetricWarning: Precision is ill-defined and being set to 0.0 due to no predicted samples. Use `zero_division` parameter to control this behavior.\n",
      "  _warn_prf(average, modifier, f\"{metric.capitalize()} is\", len(result))\n",
      "[I 2024-11-28 15:22:35,938] Trial 58 finished with value: 0.0 and parameters: {'hidden_units': 144, 'dropout_rate': 0.4, 'learning_rate': 0.09856319009892715}. Best is trial 13 with value: 0.6313131313131313.\n",
      "/tmp/ipykernel_51826/1452124320.py:4: FutureWarning: suggest_loguniform has been deprecated in v3.0.0. This feature will be removed in v6.0.0. See https://github.com/optuna/optuna/releases/tag/v3.0.0. Use suggest_float(..., log=True) instead.\n",
      "  learning_rate = trial.suggest_loguniform(\"learning_rate\", 1e-5, 1e-1)\n"
     ]
    },
    {
     "name": "stdout",
     "output_type": "stream",
     "text": [
      "Accuracy: 64.10%\n",
      "Precision: 0.0000\n",
      "Recall: 0.0000\n",
      "F1 Score: 0.0000\n",
      "Matthews Correlation Coefficient: 0.0000\n",
      "Specificity: 1.0000\n"
     ]
    },
    {
     "name": "stderr",
     "output_type": "stream",
     "text": [
      "/home/gonken/anaconda3/envs/torch/lib/python3.12/site-packages/sklearn/metrics/_classification.py:1531: UndefinedMetricWarning: Precision is ill-defined and being set to 0.0 due to no predicted samples. Use `zero_division` parameter to control this behavior.\n",
      "  _warn_prf(average, modifier, f\"{metric.capitalize()} is\", len(result))\n",
      "[I 2024-11-28 15:23:31,735] Trial 59 finished with value: 0.0 and parameters: {'hidden_units': 88, 'dropout_rate': 0.25, 'learning_rate': 0.02461321066766518}. Best is trial 13 with value: 0.6313131313131313.\n",
      "/tmp/ipykernel_51826/1452124320.py:4: FutureWarning: suggest_loguniform has been deprecated in v3.0.0. This feature will be removed in v6.0.0. See https://github.com/optuna/optuna/releases/tag/v3.0.0. Use suggest_float(..., log=True) instead.\n",
      "  learning_rate = trial.suggest_loguniform(\"learning_rate\", 1e-5, 1e-1)\n"
     ]
    },
    {
     "name": "stdout",
     "output_type": "stream",
     "text": [
      "Accuracy: 64.10%\n",
      "Precision: 0.0000\n",
      "Recall: 0.0000\n",
      "F1 Score: 0.0000\n",
      "Matthews Correlation Coefficient: 0.0000\n",
      "Specificity: 1.0000\n"
     ]
    },
    {
     "name": "stderr",
     "output_type": "stream",
     "text": [
      "[I 2024-11-28 15:24:25,331] Trial 60 finished with value: 0.6326530612244898 and parameters: {'hidden_units': 60, 'dropout_rate': 0.35, 'learning_rate': 0.05077725171449241}. Best is trial 60 with value: 0.6326530612244898.\n"
     ]
    },
    {
     "name": "stdout",
     "output_type": "stream",
     "text": [
      "Accuracy: 58.97%\n",
      "Precision: 0.4662\n",
      "Recall: 0.9841\n",
      "F1 Score: 0.6327\n",
      "Matthews Correlation Coefficient: 0.3953\n",
      "Specificity: 0.3689\n"
     ]
    },
    {
     "name": "stderr",
     "output_type": "stream",
     "text": [
      "/tmp/ipykernel_51826/1452124320.py:4: FutureWarning: suggest_loguniform has been deprecated in v3.0.0. This feature will be removed in v6.0.0. See https://github.com/optuna/optuna/releases/tag/v3.0.0. Use suggest_float(..., log=True) instead.\n",
      "  learning_rate = trial.suggest_loguniform(\"learning_rate\", 1e-5, 1e-1)\n",
      "[I 2024-11-28 15:25:20,599] Trial 61 finished with value: 0.629156010230179 and parameters: {'hidden_units': 56, 'dropout_rate': 0.35, 'learning_rate': 0.05305822159134164}. Best is trial 60 with value: 0.6326530612244898.\n"
     ]
    },
    {
     "name": "stdout",
     "output_type": "stream",
     "text": [
      "Accuracy: 58.69%\n",
      "Precision: 0.4642\n",
      "Recall: 0.9762\n",
      "F1 Score: 0.6292\n",
      "Matthews Correlation Coefficient: 0.3849\n",
      "Specificity: 0.3689\n"
     ]
    },
    {
     "name": "stderr",
     "output_type": "stream",
     "text": [
      "/tmp/ipykernel_51826/1452124320.py:4: FutureWarning: suggest_loguniform has been deprecated in v3.0.0. This feature will be removed in v6.0.0. See https://github.com/optuna/optuna/releases/tag/v3.0.0. Use suggest_float(..., log=True) instead.\n",
      "  learning_rate = trial.suggest_loguniform(\"learning_rate\", 1e-5, 1e-1)\n",
      "/home/gonken/anaconda3/envs/torch/lib/python3.12/site-packages/sklearn/metrics/_classification.py:1531: UndefinedMetricWarning: Precision is ill-defined and being set to 0.0 due to no predicted samples. Use `zero_division` parameter to control this behavior.\n",
      "  _warn_prf(average, modifier, f\"{metric.capitalize()} is\", len(result))\n",
      "[I 2024-11-28 15:26:17,646] Trial 62 finished with value: 0.0 and parameters: {'hidden_units': 52, 'dropout_rate': 0.35, 'learning_rate': 0.05027136706152794}. Best is trial 60 with value: 0.6326530612244898.\n",
      "/tmp/ipykernel_51826/1452124320.py:4: FutureWarning: suggest_loguniform has been deprecated in v3.0.0. This feature will be removed in v6.0.0. See https://github.com/optuna/optuna/releases/tag/v3.0.0. Use suggest_float(..., log=True) instead.\n",
      "  learning_rate = trial.suggest_loguniform(\"learning_rate\", 1e-5, 1e-1)\n"
     ]
    },
    {
     "name": "stdout",
     "output_type": "stream",
     "text": [
      "Accuracy: 64.10%\n",
      "Precision: 0.0000\n",
      "Recall: 0.0000\n",
      "F1 Score: 0.0000\n",
      "Matthews Correlation Coefficient: 0.0000\n",
      "Specificity: 1.0000\n"
     ]
    },
    {
     "name": "stderr",
     "output_type": "stream",
     "text": [
      "[I 2024-11-28 15:27:09,136] Trial 63 finished with value: 0.5201465201465202 and parameters: {'hidden_units': 20, 'dropout_rate': 0.35, 'learning_rate': 0.008745265451568236}. Best is trial 60 with value: 0.6326530612244898.\n"
     ]
    },
    {
     "name": "stdout",
     "output_type": "stream",
     "text": [
      "Accuracy: 62.68%\n",
      "Precision: 0.4830\n",
      "Recall: 0.5635\n",
      "F1 Score: 0.5201\n",
      "Matthews Correlation Coefficient: 0.2195\n",
      "Specificity: 0.6622\n"
     ]
    },
    {
     "name": "stderr",
     "output_type": "stream",
     "text": [
      "/tmp/ipykernel_51826/1452124320.py:4: FutureWarning: suggest_loguniform has been deprecated in v3.0.0. This feature will be removed in v6.0.0. See https://github.com/optuna/optuna/releases/tag/v3.0.0. Use suggest_float(..., log=True) instead.\n",
      "  learning_rate = trial.suggest_loguniform(\"learning_rate\", 1e-5, 1e-1)\n",
      "/home/gonken/anaconda3/envs/torch/lib/python3.12/site-packages/sklearn/metrics/_classification.py:1531: UndefinedMetricWarning: Precision is ill-defined and being set to 0.0 due to no predicted samples. Use `zero_division` parameter to control this behavior.\n",
      "  _warn_prf(average, modifier, f\"{metric.capitalize()} is\", len(result))\n",
      "[I 2024-11-28 15:28:05,111] Trial 64 finished with value: 0.0 and parameters: {'hidden_units': 36, 'dropout_rate': 0.4, 'learning_rate': 0.06813307960710176}. Best is trial 60 with value: 0.6326530612244898.\n",
      "/tmp/ipykernel_51826/1452124320.py:4: FutureWarning: suggest_loguniform has been deprecated in v3.0.0. This feature will be removed in v6.0.0. See https://github.com/optuna/optuna/releases/tag/v3.0.0. Use suggest_float(..., log=True) instead.\n",
      "  learning_rate = trial.suggest_loguniform(\"learning_rate\", 1e-5, 1e-1)\n"
     ]
    },
    {
     "name": "stdout",
     "output_type": "stream",
     "text": [
      "Accuracy: 64.10%\n",
      "Precision: 0.0000\n",
      "Recall: 0.0000\n",
      "F1 Score: 0.0000\n",
      "Matthews Correlation Coefficient: 0.0000\n",
      "Specificity: 1.0000\n"
     ]
    },
    {
     "name": "stderr",
     "output_type": "stream",
     "text": [
      "[I 2024-11-28 15:28:59,622] Trial 65 finished with value: 0.629156010230179 and parameters: {'hidden_units': 60, 'dropout_rate': 0.4, 'learning_rate': 0.041119382597497346}. Best is trial 60 with value: 0.6326530612244898.\n"
     ]
    },
    {
     "name": "stdout",
     "output_type": "stream",
     "text": [
      "Accuracy: 58.69%\n",
      "Precision: 0.4642\n",
      "Recall: 0.9762\n",
      "F1 Score: 0.6292\n",
      "Matthews Correlation Coefficient: 0.3849\n",
      "Specificity: 0.3689\n"
     ]
    },
    {
     "name": "stderr",
     "output_type": "stream",
     "text": [
      "/tmp/ipykernel_51826/1452124320.py:4: FutureWarning: suggest_loguniform has been deprecated in v3.0.0. This feature will be removed in v6.0.0. See https://github.com/optuna/optuna/releases/tag/v3.0.0. Use suggest_float(..., log=True) instead.\n",
      "  learning_rate = trial.suggest_loguniform(\"learning_rate\", 1e-5, 1e-1)\n",
      "/home/gonken/anaconda3/envs/torch/lib/python3.12/site-packages/sklearn/metrics/_classification.py:1531: UndefinedMetricWarning: Precision is ill-defined and being set to 0.0 due to no predicted samples. Use `zero_division` parameter to control this behavior.\n",
      "  _warn_prf(average, modifier, f\"{metric.capitalize()} is\", len(result))\n",
      "[I 2024-11-28 15:29:50,913] Trial 66 finished with value: 0.0 and parameters: {'hidden_units': 60, 'dropout_rate': 0.4, 'learning_rate': 0.03470049078286556}. Best is trial 60 with value: 0.6326530612244898.\n",
      "/tmp/ipykernel_51826/1452124320.py:4: FutureWarning: suggest_loguniform has been deprecated in v3.0.0. This feature will be removed in v6.0.0. See https://github.com/optuna/optuna/releases/tag/v3.0.0. Use suggest_float(..., log=True) instead.\n",
      "  learning_rate = trial.suggest_loguniform(\"learning_rate\", 1e-5, 1e-1)\n"
     ]
    },
    {
     "name": "stdout",
     "output_type": "stream",
     "text": [
      "Accuracy: 64.10%\n",
      "Precision: 0.0000\n",
      "Recall: 0.0000\n",
      "F1 Score: 0.0000\n",
      "Matthews Correlation Coefficient: 0.0000\n",
      "Specificity: 1.0000\n"
     ]
    },
    {
     "name": "stderr",
     "output_type": "stream",
     "text": [
      "/home/gonken/anaconda3/envs/torch/lib/python3.12/site-packages/sklearn/metrics/_classification.py:1531: UndefinedMetricWarning: Precision is ill-defined and being set to 0.0 due to no predicted samples. Use `zero_division` parameter to control this behavior.\n",
      "  _warn_prf(average, modifier, f\"{metric.capitalize()} is\", len(result))\n",
      "[I 2024-11-28 15:30:45,967] Trial 67 finished with value: 0.0 and parameters: {'hidden_units': 24, 'dropout_rate': 0.45000000000000007, 'learning_rate': 0.015298538869663054}. Best is trial 60 with value: 0.6326530612244898.\n",
      "/tmp/ipykernel_51826/1452124320.py:4: FutureWarning: suggest_loguniform has been deprecated in v3.0.0. This feature will be removed in v6.0.0. See https://github.com/optuna/optuna/releases/tag/v3.0.0. Use suggest_float(..., log=True) instead.\n",
      "  learning_rate = trial.suggest_loguniform(\"learning_rate\", 1e-5, 1e-1)\n"
     ]
    },
    {
     "name": "stdout",
     "output_type": "stream",
     "text": [
      "Accuracy: 64.10%\n",
      "Precision: 0.0000\n",
      "Recall: 0.0000\n",
      "F1 Score: 0.0000\n",
      "Matthews Correlation Coefficient: 0.0000\n",
      "Specificity: 1.0000\n"
     ]
    },
    {
     "name": "stderr",
     "output_type": "stream",
     "text": [
      "[I 2024-11-28 15:31:39,734] Trial 68 finished with value: 0.6358974358974359 and parameters: {'hidden_units': 68, 'dropout_rate': 0.35, 'learning_rate': 0.03937441804931655}. Best is trial 68 with value: 0.6358974358974359.\n"
     ]
    },
    {
     "name": "stdout",
     "output_type": "stream",
     "text": [
      "Accuracy: 59.54%\n",
      "Precision: 0.4697\n",
      "Recall: 0.9841\n",
      "F1 Score: 0.6359\n",
      "Matthews Correlation Coefficient: 0.4021\n",
      "Specificity: 0.3778\n"
     ]
    },
    {
     "name": "stderr",
     "output_type": "stream",
     "text": [
      "/tmp/ipykernel_51826/1452124320.py:4: FutureWarning: suggest_loguniform has been deprecated in v3.0.0. This feature will be removed in v6.0.0. See https://github.com/optuna/optuna/releases/tag/v3.0.0. Use suggest_float(..., log=True) instead.\n",
      "  learning_rate = trial.suggest_loguniform(\"learning_rate\", 1e-5, 1e-1)\n",
      "[I 2024-11-28 15:32:32,002] Trial 69 finished with value: 0.596100278551532 and parameters: {'hidden_units': 76, 'dropout_rate': 0.35, 'learning_rate': 0.024679159317251245}. Best is trial 68 with value: 0.6358974358974359.\n"
     ]
    },
    {
     "name": "stdout",
     "output_type": "stream",
     "text": [
      "Accuracy: 58.69%\n",
      "Precision: 0.4592\n",
      "Recall: 0.8492\n",
      "F1 Score: 0.5961\n",
      "Matthews Correlation Coefficient: 0.2937\n",
      "Specificity: 0.4400\n"
     ]
    },
    {
     "name": "stderr",
     "output_type": "stream",
     "text": [
      "/tmp/ipykernel_51826/1452124320.py:4: FutureWarning: suggest_loguniform has been deprecated in v3.0.0. This feature will be removed in v6.0.0. See https://github.com/optuna/optuna/releases/tag/v3.0.0. Use suggest_float(..., log=True) instead.\n",
      "  learning_rate = trial.suggest_loguniform(\"learning_rate\", 1e-5, 1e-1)\n",
      "[I 2024-11-28 15:33:26,943] Trial 70 finished with value: 0.6224489795918368 and parameters: {'hidden_units': 68, 'dropout_rate': 0.4, 'learning_rate': 0.03948626365119221}. Best is trial 68 with value: 0.6358974358974359.\n"
     ]
    },
    {
     "name": "stdout",
     "output_type": "stream",
     "text": [
      "Accuracy: 57.83%\n",
      "Precision: 0.4586\n",
      "Recall: 0.9683\n",
      "F1 Score: 0.6224\n",
      "Matthews Correlation Coefficient: 0.3676\n",
      "Specificity: 0.3600\n"
     ]
    },
    {
     "name": "stderr",
     "output_type": "stream",
     "text": [
      "/tmp/ipykernel_51826/1452124320.py:4: FutureWarning: suggest_loguniform has been deprecated in v3.0.0. This feature will be removed in v6.0.0. See https://github.com/optuna/optuna/releases/tag/v3.0.0. Use suggest_float(..., log=True) instead.\n",
      "  learning_rate = trial.suggest_loguniform(\"learning_rate\", 1e-5, 1e-1)\n",
      "/home/gonken/anaconda3/envs/torch/lib/python3.12/site-packages/sklearn/metrics/_classification.py:1531: UndefinedMetricWarning: Precision is ill-defined and being set to 0.0 due to no predicted samples. Use `zero_division` parameter to control this behavior.\n",
      "  _warn_prf(average, modifier, f\"{metric.capitalize()} is\", len(result))\n",
      "[I 2024-11-28 15:34:21,231] Trial 71 finished with value: 0.0 and parameters: {'hidden_units': 12, 'dropout_rate': 0.35, 'learning_rate': 0.05246787064128719}. Best is trial 68 with value: 0.6358974358974359.\n",
      "/tmp/ipykernel_51826/1452124320.py:4: FutureWarning: suggest_loguniform has been deprecated in v3.0.0. This feature will be removed in v6.0.0. See https://github.com/optuna/optuna/releases/tag/v3.0.0. Use suggest_float(..., log=True) instead.\n",
      "  learning_rate = trial.suggest_loguniform(\"learning_rate\", 1e-5, 1e-1)\n"
     ]
    },
    {
     "name": "stdout",
     "output_type": "stream",
     "text": [
      "Accuracy: 64.10%\n",
      "Precision: 0.0000\n",
      "Recall: 0.0000\n",
      "F1 Score: 0.0000\n",
      "Matthews Correlation Coefficient: 0.0000\n",
      "Specificity: 1.0000\n"
     ]
    },
    {
     "name": "stderr",
     "output_type": "stream",
     "text": [
      "[I 2024-11-28 15:35:12,866] Trial 72 finished with value: 0.6253229974160207 and parameters: {'hidden_units': 40, 'dropout_rate': 0.45000000000000007, 'learning_rate': 0.04184847405491007}. Best is trial 68 with value: 0.6358974358974359.\n"
     ]
    },
    {
     "name": "stdout",
     "output_type": "stream",
     "text": [
      "Accuracy: 58.69%\n",
      "Precision: 0.4636\n",
      "Recall: 0.9603\n",
      "F1 Score: 0.6253\n",
      "Matthews Correlation Coefficient: 0.3714\n",
      "Specificity: 0.3778\n"
     ]
    },
    {
     "name": "stderr",
     "output_type": "stream",
     "text": [
      "/tmp/ipykernel_51826/1452124320.py:4: FutureWarning: suggest_loguniform has been deprecated in v3.0.0. This feature will be removed in v6.0.0. See https://github.com/optuna/optuna/releases/tag/v3.0.0. Use suggest_float(..., log=True) instead.\n",
      "  learning_rate = trial.suggest_loguniform(\"learning_rate\", 1e-5, 1e-1)\n",
      "/home/gonken/anaconda3/envs/torch/lib/python3.12/site-packages/sklearn/metrics/_classification.py:1531: UndefinedMetricWarning: Precision is ill-defined and being set to 0.0 due to no predicted samples. Use `zero_division` parameter to control this behavior.\n",
      "  _warn_prf(average, modifier, f\"{metric.capitalize()} is\", len(result))\n",
      "[I 2024-11-28 15:36:06,334] Trial 73 finished with value: 0.0 and parameters: {'hidden_units': 56, 'dropout_rate': 0.45000000000000007, 'learning_rate': 0.07674644415315202}. Best is trial 68 with value: 0.6358974358974359.\n",
      "/tmp/ipykernel_51826/1452124320.py:4: FutureWarning: suggest_loguniform has been deprecated in v3.0.0. This feature will be removed in v6.0.0. See https://github.com/optuna/optuna/releases/tag/v3.0.0. Use suggest_float(..., log=True) instead.\n",
      "  learning_rate = trial.suggest_loguniform(\"learning_rate\", 1e-5, 1e-1)\n"
     ]
    },
    {
     "name": "stdout",
     "output_type": "stream",
     "text": [
      "Accuracy: 64.10%\n",
      "Precision: 0.0000\n",
      "Recall: 0.0000\n",
      "F1 Score: 0.0000\n",
      "Matthews Correlation Coefficient: 0.0000\n",
      "Specificity: 1.0000\n"
     ]
    },
    {
     "name": "stderr",
     "output_type": "stream",
     "text": [
      "[I 2024-11-28 15:36:55,345] Trial 74 finished with value: 0.6266318537859008 and parameters: {'hidden_units': 108, 'dropout_rate': 0.4, 'learning_rate': 0.021815893151472004}. Best is trial 68 with value: 0.6358974358974359.\n"
     ]
    },
    {
     "name": "stdout",
     "output_type": "stream",
     "text": [
      "Accuracy: 59.26%\n",
      "Precision: 0.4669\n",
      "Recall: 0.9524\n",
      "F1 Score: 0.6266\n",
      "Matthews Correlation Coefficient: 0.3721\n",
      "Specificity: 0.3911\n"
     ]
    },
    {
     "name": "stderr",
     "output_type": "stream",
     "text": [
      "/tmp/ipykernel_51826/1452124320.py:4: FutureWarning: suggest_loguniform has been deprecated in v3.0.0. This feature will be removed in v6.0.0. See https://github.com/optuna/optuna/releases/tag/v3.0.0. Use suggest_float(..., log=True) instead.\n",
      "  learning_rate = trial.suggest_loguniform(\"learning_rate\", 1e-5, 1e-1)\n",
      "/home/gonken/anaconda3/envs/torch/lib/python3.12/site-packages/sklearn/metrics/_classification.py:1531: UndefinedMetricWarning: Precision is ill-defined and being set to 0.0 due to no predicted samples. Use `zero_division` parameter to control this behavior.\n",
      "  _warn_prf(average, modifier, f\"{metric.capitalize()} is\", len(result))\n",
      "[I 2024-11-28 15:37:49,826] Trial 75 finished with value: 0.0 and parameters: {'hidden_units': 96, 'dropout_rate': 0.35, 'learning_rate': 0.03114603367156299}. Best is trial 68 with value: 0.6358974358974359.\n",
      "/tmp/ipykernel_51826/1452124320.py:4: FutureWarning: suggest_loguniform has been deprecated in v3.0.0. This feature will be removed in v6.0.0. See https://github.com/optuna/optuna/releases/tag/v3.0.0. Use suggest_float(..., log=True) instead.\n",
      "  learning_rate = trial.suggest_loguniform(\"learning_rate\", 1e-5, 1e-1)\n"
     ]
    },
    {
     "name": "stdout",
     "output_type": "stream",
     "text": [
      "Accuracy: 64.10%\n",
      "Precision: 0.0000\n",
      "Recall: 0.0000\n",
      "F1 Score: 0.0000\n",
      "Matthews Correlation Coefficient: 0.0000\n",
      "Specificity: 1.0000\n"
     ]
    },
    {
     "name": "stderr",
     "output_type": "stream",
     "text": [
      "/home/gonken/anaconda3/envs/torch/lib/python3.12/site-packages/sklearn/metrics/_classification.py:1531: UndefinedMetricWarning: Precision is ill-defined and being set to 0.0 due to no predicted samples. Use `zero_division` parameter to control this behavior.\n",
      "  _warn_prf(average, modifier, f\"{metric.capitalize()} is\", len(result))\n",
      "[I 2024-11-28 15:38:42,164] Trial 76 finished with value: 0.0 and parameters: {'hidden_units': 40, 'dropout_rate': 0.4, 'learning_rate': 0.052693038621852734}. Best is trial 68 with value: 0.6358974358974359.\n",
      "/tmp/ipykernel_51826/1452124320.py:4: FutureWarning: suggest_loguniform has been deprecated in v3.0.0. This feature will be removed in v6.0.0. See https://github.com/optuna/optuna/releases/tag/v3.0.0. Use suggest_float(..., log=True) instead.\n",
      "  learning_rate = trial.suggest_loguniform(\"learning_rate\", 1e-5, 1e-1)\n"
     ]
    },
    {
     "name": "stdout",
     "output_type": "stream",
     "text": [
      "Accuracy: 64.10%\n",
      "Precision: 0.0000\n",
      "Recall: 0.0000\n",
      "F1 Score: 0.0000\n",
      "Matthews Correlation Coefficient: 0.0000\n",
      "Specificity: 1.0000\n"
     ]
    },
    {
     "name": "stderr",
     "output_type": "stream",
     "text": [
      "[I 2024-11-28 15:39:37,280] Trial 77 finished with value: 0.5442622950819672 and parameters: {'hidden_units': 60, 'dropout_rate': 0.35, 'learning_rate': 0.009404634551004588}. Best is trial 68 with value: 0.6358974358974359.\n"
     ]
    },
    {
     "name": "stdout",
     "output_type": "stream",
     "text": [
      "Accuracy: 60.40%\n",
      "Precision: 0.4637\n",
      "Recall: 0.6587\n",
      "F1 Score: 0.5443\n",
      "Matthews Correlation Coefficient: 0.2227\n",
      "Specificity: 0.5733\n"
     ]
    },
    {
     "name": "stderr",
     "output_type": "stream",
     "text": [
      "/tmp/ipykernel_51826/1452124320.py:4: FutureWarning: suggest_loguniform has been deprecated in v3.0.0. This feature will be removed in v6.0.0. See https://github.com/optuna/optuna/releases/tag/v3.0.0. Use suggest_float(..., log=True) instead.\n",
      "  learning_rate = trial.suggest_loguniform(\"learning_rate\", 1e-5, 1e-1)\n",
      "/home/gonken/anaconda3/envs/torch/lib/python3.12/site-packages/sklearn/metrics/_classification.py:1531: UndefinedMetricWarning: Precision is ill-defined and being set to 0.0 due to no predicted samples. Use `zero_division` parameter to control this behavior.\n",
      "  _warn_prf(average, modifier, f\"{metric.capitalize()} is\", len(result))\n",
      "[I 2024-11-28 15:40:23,483] Trial 78 finished with value: 0.0 and parameters: {'hidden_units': 12, 'dropout_rate': 0.45000000000000007, 'learning_rate': 0.07899829240377253}. Best is trial 68 with value: 0.6358974358974359.\n",
      "/tmp/ipykernel_51826/1452124320.py:4: FutureWarning: suggest_loguniform has been deprecated in v3.0.0. This feature will be removed in v6.0.0. See https://github.com/optuna/optuna/releases/tag/v3.0.0. Use suggest_float(..., log=True) instead.\n",
      "  learning_rate = trial.suggest_loguniform(\"learning_rate\", 1e-5, 1e-1)\n"
     ]
    },
    {
     "name": "stdout",
     "output_type": "stream",
     "text": [
      "Accuracy: 64.10%\n",
      "Precision: 0.0000\n",
      "Recall: 0.0000\n",
      "F1 Score: 0.0000\n",
      "Matthews Correlation Coefficient: 0.0000\n",
      "Specificity: 1.0000\n"
     ]
    },
    {
     "name": "stderr",
     "output_type": "stream",
     "text": [
      "[I 2024-11-28 15:41:18,782] Trial 79 finished with value: 0.46963562753036436 and parameters: {'hidden_units': 84, 'dropout_rate': 0.4, 'learning_rate': 0.0020428344894929886}. Best is trial 68 with value: 0.6358974358974359.\n"
     ]
    },
    {
     "name": "stdout",
     "output_type": "stream",
     "text": [
      "Accuracy: 62.68%\n",
      "Precision: 0.4793\n",
      "Recall: 0.4603\n",
      "F1 Score: 0.4696\n",
      "Matthews Correlation Coefficient: 0.1820\n",
      "Specificity: 0.7200\n"
     ]
    },
    {
     "name": "stderr",
     "output_type": "stream",
     "text": [
      "/tmp/ipykernel_51826/1452124320.py:4: FutureWarning: suggest_loguniform has been deprecated in v3.0.0. This feature will be removed in v6.0.0. See https://github.com/optuna/optuna/releases/tag/v3.0.0. Use suggest_float(..., log=True) instead.\n",
      "  learning_rate = trial.suggest_loguniform(\"learning_rate\", 1e-5, 1e-1)\n",
      "/home/gonken/anaconda3/envs/torch/lib/python3.12/site-packages/sklearn/metrics/_classification.py:1531: UndefinedMetricWarning: Precision is ill-defined and being set to 0.0 due to no predicted samples. Use `zero_division` parameter to control this behavior.\n",
      "  _warn_prf(average, modifier, f\"{metric.capitalize()} is\", len(result))\n",
      "[I 2024-11-28 15:42:13,735] Trial 80 finished with value: 0.0 and parameters: {'hidden_units': 116, 'dropout_rate': 0.35, 'learning_rate': 0.039892384870535695}. Best is trial 68 with value: 0.6358974358974359.\n",
      "/tmp/ipykernel_51826/1452124320.py:4: FutureWarning: suggest_loguniform has been deprecated in v3.0.0. This feature will be removed in v6.0.0. See https://github.com/optuna/optuna/releases/tag/v3.0.0. Use suggest_float(..., log=True) instead.\n",
      "  learning_rate = trial.suggest_loguniform(\"learning_rate\", 1e-5, 1e-1)\n"
     ]
    },
    {
     "name": "stdout",
     "output_type": "stream",
     "text": [
      "Accuracy: 64.10%\n",
      "Precision: 0.0000\n",
      "Recall: 0.0000\n",
      "F1 Score: 0.0000\n",
      "Matthews Correlation Coefficient: 0.0000\n",
      "Specificity: 1.0000\n"
     ]
    },
    {
     "name": "stderr",
     "output_type": "stream",
     "text": [
      "/home/gonken/anaconda3/envs/torch/lib/python3.12/site-packages/sklearn/metrics/_classification.py:1531: UndefinedMetricWarning: Precision is ill-defined and being set to 0.0 due to no predicted samples. Use `zero_division` parameter to control this behavior.\n",
      "  _warn_prf(average, modifier, f\"{metric.capitalize()} is\", len(result))\n",
      "[I 2024-11-28 15:43:07,767] Trial 81 finished with value: 0.0 and parameters: {'hidden_units': 100, 'dropout_rate': 0.30000000000000004, 'learning_rate': 0.06452254313621113}. Best is trial 68 with value: 0.6358974358974359.\n",
      "/tmp/ipykernel_51826/1452124320.py:4: FutureWarning: suggest_loguniform has been deprecated in v3.0.0. This feature will be removed in v6.0.0. See https://github.com/optuna/optuna/releases/tag/v3.0.0. Use suggest_float(..., log=True) instead.\n",
      "  learning_rate = trial.suggest_loguniform(\"learning_rate\", 1e-5, 1e-1)\n"
     ]
    },
    {
     "name": "stdout",
     "output_type": "stream",
     "text": [
      "Accuracy: 64.10%\n",
      "Precision: 0.0000\n",
      "Recall: 0.0000\n",
      "F1 Score: 0.0000\n",
      "Matthews Correlation Coefficient: 0.0000\n",
      "Specificity: 1.0000\n"
     ]
    },
    {
     "name": "stderr",
     "output_type": "stream",
     "text": [
      "/home/gonken/anaconda3/envs/torch/lib/python3.12/site-packages/sklearn/metrics/_classification.py:1531: UndefinedMetricWarning: Precision is ill-defined and being set to 0.0 due to no predicted samples. Use `zero_division` parameter to control this behavior.\n",
      "  _warn_prf(average, modifier, f\"{metric.capitalize()} is\", len(result))\n",
      "[I 2024-11-28 15:44:01,751] Trial 82 finished with value: 0.0 and parameters: {'hidden_units': 92, 'dropout_rate': 0.4, 'learning_rate': 0.08335184655444855}. Best is trial 68 with value: 0.6358974358974359.\n",
      "/tmp/ipykernel_51826/1452124320.py:4: FutureWarning: suggest_loguniform has been deprecated in v3.0.0. This feature will be removed in v6.0.0. See https://github.com/optuna/optuna/releases/tag/v3.0.0. Use suggest_float(..., log=True) instead.\n",
      "  learning_rate = trial.suggest_loguniform(\"learning_rate\", 1e-5, 1e-1)\n"
     ]
    },
    {
     "name": "stdout",
     "output_type": "stream",
     "text": [
      "Accuracy: 64.10%\n",
      "Precision: 0.0000\n",
      "Recall: 0.0000\n",
      "F1 Score: 0.0000\n",
      "Matthews Correlation Coefficient: 0.0000\n",
      "Specificity: 1.0000\n"
     ]
    },
    {
     "name": "stderr",
     "output_type": "stream",
     "text": [
      "[I 2024-11-28 15:44:54,756] Trial 83 finished with value: 0.596100278551532 and parameters: {'hidden_units': 68, 'dropout_rate': 0.1, 'learning_rate': 0.05775520022830352}. Best is trial 68 with value: 0.6358974358974359.\n"
     ]
    },
    {
     "name": "stdout",
     "output_type": "stream",
     "text": [
      "Accuracy: 58.69%\n",
      "Precision: 0.4592\n",
      "Recall: 0.8492\n",
      "F1 Score: 0.5961\n",
      "Matthews Correlation Coefficient: 0.2937\n",
      "Specificity: 0.4400\n"
     ]
    },
    {
     "name": "stderr",
     "output_type": "stream",
     "text": [
      "/tmp/ipykernel_51826/1452124320.py:4: FutureWarning: suggest_loguniform has been deprecated in v3.0.0. This feature will be removed in v6.0.0. See https://github.com/optuna/optuna/releases/tag/v3.0.0. Use suggest_float(..., log=True) instead.\n",
      "  learning_rate = trial.suggest_loguniform(\"learning_rate\", 1e-5, 1e-1)\n",
      "[I 2024-11-28 15:45:43,539] Trial 84 finished with value: 0.6186666666666667 and parameters: {'hidden_units': 44, 'dropout_rate': 0.45000000000000007, 'learning_rate': 0.029535322888271473}. Best is trial 68 with value: 0.6358974358974359.\n"
     ]
    },
    {
     "name": "stdout",
     "output_type": "stream",
     "text": [
      "Accuracy: 59.26%\n",
      "Precision: 0.4659\n",
      "Recall: 0.9206\n",
      "F1 Score: 0.6187\n",
      "Matthews Correlation Coefficient: 0.3481\n",
      "Specificity: 0.4089\n"
     ]
    },
    {
     "name": "stderr",
     "output_type": "stream",
     "text": [
      "/tmp/ipykernel_51826/1452124320.py:4: FutureWarning: suggest_loguniform has been deprecated in v3.0.0. This feature will be removed in v6.0.0. See https://github.com/optuna/optuna/releases/tag/v3.0.0. Use suggest_float(..., log=True) instead.\n",
      "  learning_rate = trial.suggest_loguniform(\"learning_rate\", 1e-5, 1e-1)\n",
      "[I 2024-11-28 15:46:32,797] Trial 85 finished with value: 0.6121372031662269 and parameters: {'hidden_units': 512, 'dropout_rate': 0.30000000000000004, 'learning_rate': 0.04511599991057819}. Best is trial 68 with value: 0.6358974358974359.\n"
     ]
    },
    {
     "name": "stdout",
     "output_type": "stream",
     "text": [
      "Accuracy: 58.12%\n",
      "Precision: 0.4585\n",
      "Recall: 0.9206\n",
      "F1 Score: 0.6121\n",
      "Matthews Correlation Coefficient: 0.3334\n",
      "Specificity: 0.3911\n"
     ]
    },
    {
     "name": "stderr",
     "output_type": "stream",
     "text": [
      "/tmp/ipykernel_51826/1452124320.py:4: FutureWarning: suggest_loguniform has been deprecated in v3.0.0. This feature will be removed in v6.0.0. See https://github.com/optuna/optuna/releases/tag/v3.0.0. Use suggest_float(..., log=True) instead.\n",
      "  learning_rate = trial.suggest_loguniform(\"learning_rate\", 1e-5, 1e-1)\n",
      "/home/gonken/anaconda3/envs/torch/lib/python3.12/site-packages/sklearn/metrics/_classification.py:1531: UndefinedMetricWarning: Precision is ill-defined and being set to 0.0 due to no predicted samples. Use `zero_division` parameter to control this behavior.\n",
      "  _warn_prf(average, modifier, f\"{metric.capitalize()} is\", len(result))\n",
      "[I 2024-11-28 15:47:23,327] Trial 86 finished with value: 0.0 and parameters: {'hidden_units': 312, 'dropout_rate': 0.35, 'learning_rate': 0.06778283189901022}. Best is trial 68 with value: 0.6358974358974359.\n",
      "/tmp/ipykernel_51826/1452124320.py:4: FutureWarning: suggest_loguniform has been deprecated in v3.0.0. This feature will be removed in v6.0.0. See https://github.com/optuna/optuna/releases/tag/v3.0.0. Use suggest_float(..., log=True) instead.\n",
      "  learning_rate = trial.suggest_loguniform(\"learning_rate\", 1e-5, 1e-1)\n"
     ]
    },
    {
     "name": "stdout",
     "output_type": "stream",
     "text": [
      "Accuracy: 64.10%\n",
      "Precision: 0.0000\n",
      "Recall: 0.0000\n",
      "F1 Score: 0.0000\n",
      "Matthews Correlation Coefficient: 0.0000\n",
      "Specificity: 1.0000\n"
     ]
    },
    {
     "name": "stderr",
     "output_type": "stream",
     "text": [
      "[I 2024-11-28 15:48:11,157] Trial 87 finished with value: 0.49814126394052044 and parameters: {'hidden_units': 80, 'dropout_rate': 0.5, 'learning_rate': 0.00028397163111997523}. Best is trial 68 with value: 0.6358974358974359.\n"
     ]
    },
    {
     "name": "stdout",
     "output_type": "stream",
     "text": [
      "Accuracy: 61.54%\n",
      "Precision: 0.4685\n",
      "Recall: 0.5317\n",
      "F1 Score: 0.4981\n",
      "Matthews Correlation Coefficient: 0.1894\n",
      "Specificity: 0.6622\n"
     ]
    },
    {
     "name": "stderr",
     "output_type": "stream",
     "text": [
      "/tmp/ipykernel_51826/1452124320.py:4: FutureWarning: suggest_loguniform has been deprecated in v3.0.0. This feature will be removed in v6.0.0. See https://github.com/optuna/optuna/releases/tag/v3.0.0. Use suggest_float(..., log=True) instead.\n",
      "  learning_rate = trial.suggest_loguniform(\"learning_rate\", 1e-5, 1e-1)\n",
      "[I 2024-11-28 15:48:59,141] Trial 88 finished with value: 0.6072423398328691 and parameters: {'hidden_units': 48, 'dropout_rate': 0.2, 'learning_rate': 0.01964219845977369}. Best is trial 68 with value: 0.6358974358974359.\n"
     ]
    },
    {
     "name": "stdout",
     "output_type": "stream",
     "text": [
      "Accuracy: 59.83%\n",
      "Precision: 0.4678\n",
      "Recall: 0.8651\n",
      "F1 Score: 0.6072\n",
      "Matthews Correlation Coefficient: 0.3188\n",
      "Specificity: 0.4489\n"
     ]
    },
    {
     "name": "stderr",
     "output_type": "stream",
     "text": [
      "/tmp/ipykernel_51826/1452124320.py:4: FutureWarning: suggest_loguniform has been deprecated in v3.0.0. This feature will be removed in v6.0.0. See https://github.com/optuna/optuna/releases/tag/v3.0.0. Use suggest_float(..., log=True) instead.\n",
      "  learning_rate = trial.suggest_loguniform(\"learning_rate\", 1e-5, 1e-1)\n",
      "[I 2024-11-28 15:49:47,484] Trial 89 finished with value: 0.4632352941176471 and parameters: {'hidden_units': 152, 'dropout_rate': 0.45000000000000007, 'learning_rate': 0.012683426234250604}. Best is trial 68 with value: 0.6358974358974359.\n"
     ]
    },
    {
     "name": "stdout",
     "output_type": "stream",
     "text": [
      "Accuracy: 58.40%\n",
      "Precision: 0.4315\n",
      "Recall: 0.5000\n",
      "F1 Score: 0.4632\n",
      "Matthews Correlation Coefficient: 0.1276\n",
      "Specificity: 0.6311\n"
     ]
    },
    {
     "name": "stderr",
     "output_type": "stream",
     "text": [
      "/tmp/ipykernel_51826/1452124320.py:4: FutureWarning: suggest_loguniform has been deprecated in v3.0.0. This feature will be removed in v6.0.0. See https://github.com/optuna/optuna/releases/tag/v3.0.0. Use suggest_float(..., log=True) instead.\n",
      "  learning_rate = trial.suggest_loguniform(\"learning_rate\", 1e-5, 1e-1)\n",
      "[I 2024-11-28 15:50:35,192] Trial 90 finished with value: 0.21052631578947367 and parameters: {'hidden_units': 28, 'dropout_rate': 0.35, 'learning_rate': 1.0236799876414225e-05}. Best is trial 68 with value: 0.6358974358974359.\n"
     ]
    },
    {
     "name": "stdout",
     "output_type": "stream",
     "text": [
      "Accuracy: 65.81%\n",
      "Precision: 0.6154\n",
      "Recall: 0.1270\n",
      "F1 Score: 0.2105\n",
      "Matthews Correlation Coefficient: 0.1512\n",
      "Specificity: 0.9556\n"
     ]
    },
    {
     "name": "stderr",
     "output_type": "stream",
     "text": [
      "/tmp/ipykernel_51826/1452124320.py:4: FutureWarning: suggest_loguniform has been deprecated in v3.0.0. This feature will be removed in v6.0.0. See https://github.com/optuna/optuna/releases/tag/v3.0.0. Use suggest_float(..., log=True) instead.\n",
      "  learning_rate = trial.suggest_loguniform(\"learning_rate\", 1e-5, 1e-1)\n",
      "[I 2024-11-28 15:51:25,653] Trial 91 finished with value: 0.5896656534954408 and parameters: {'hidden_units': 112, 'dropout_rate': 0.4, 'learning_rate': 0.022555265506920674}. Best is trial 68 with value: 0.6358974358974359.\n"
     ]
    },
    {
     "name": "stdout",
     "output_type": "stream",
     "text": [
      "Accuracy: 61.54%\n",
      "Precision: 0.4778\n",
      "Recall: 0.7698\n",
      "F1 Score: 0.5897\n",
      "Matthews Correlation Coefficient: 0.2902\n",
      "Specificity: 0.5289\n"
     ]
    },
    {
     "name": "stderr",
     "output_type": "stream",
     "text": [
      "/tmp/ipykernel_51826/1452124320.py:4: FutureWarning: suggest_loguniform has been deprecated in v3.0.0. This feature will be removed in v6.0.0. See https://github.com/optuna/optuna/releases/tag/v3.0.0. Use suggest_float(..., log=True) instead.\n",
      "  learning_rate = trial.suggest_loguniform(\"learning_rate\", 1e-5, 1e-1)\n",
      "/home/gonken/anaconda3/envs/torch/lib/python3.12/site-packages/sklearn/metrics/_classification.py:1531: UndefinedMetricWarning: Precision is ill-defined and being set to 0.0 due to no predicted samples. Use `zero_division` parameter to control this behavior.\n",
      "  _warn_prf(average, modifier, f\"{metric.capitalize()} is\", len(result))\n",
      "[I 2024-11-28 15:52:11,985] Trial 92 finished with value: 0.0 and parameters: {'hidden_units': 124, 'dropout_rate': 0.4, 'learning_rate': 0.08408612246709782}. Best is trial 68 with value: 0.6358974358974359.\n",
      "/tmp/ipykernel_51826/1452124320.py:4: FutureWarning: suggest_loguniform has been deprecated in v3.0.0. This feature will be removed in v6.0.0. See https://github.com/optuna/optuna/releases/tag/v3.0.0. Use suggest_float(..., log=True) instead.\n",
      "  learning_rate = trial.suggest_loguniform(\"learning_rate\", 1e-5, 1e-1)\n"
     ]
    },
    {
     "name": "stdout",
     "output_type": "stream",
     "text": [
      "Accuracy: 64.10%\n",
      "Precision: 0.0000\n",
      "Recall: 0.0000\n",
      "F1 Score: 0.0000\n",
      "Matthews Correlation Coefficient: 0.0000\n",
      "Specificity: 1.0000\n"
     ]
    },
    {
     "name": "stderr",
     "output_type": "stream",
     "text": [
      "[I 2024-11-28 15:53:01,696] Trial 93 finished with value: 0.6275510204081632 and parameters: {'hidden_units': 104, 'dropout_rate': 0.4, 'learning_rate': 0.05423112432909842}. Best is trial 68 with value: 0.6358974358974359.\n"
     ]
    },
    {
     "name": "stdout",
     "output_type": "stream",
     "text": [
      "Accuracy: 58.40%\n",
      "Precision: 0.4624\n",
      "Recall: 0.9762\n",
      "F1 Score: 0.6276\n",
      "Matthews Correlation Coefficient: 0.3814\n",
      "Specificity: 0.3644\n"
     ]
    },
    {
     "name": "stderr",
     "output_type": "stream",
     "text": [
      "/tmp/ipykernel_51826/1452124320.py:4: FutureWarning: suggest_loguniform has been deprecated in v3.0.0. This feature will be removed in v6.0.0. See https://github.com/optuna/optuna/releases/tag/v3.0.0. Use suggest_float(..., log=True) instead.\n",
      "  learning_rate = trial.suggest_loguniform(\"learning_rate\", 1e-5, 1e-1)\n",
      "/home/gonken/anaconda3/envs/torch/lib/python3.12/site-packages/sklearn/metrics/_classification.py:1531: UndefinedMetricWarning: Precision is ill-defined and being set to 0.0 due to no predicted samples. Use `zero_division` parameter to control this behavior.\n",
      "  _warn_prf(average, modifier, f\"{metric.capitalize()} is\", len(result))\n",
      "[I 2024-11-28 15:53:51,346] Trial 94 finished with value: 0.0 and parameters: {'hidden_units': 96, 'dropout_rate': 0.4, 'learning_rate': 0.054061278029394214}. Best is trial 68 with value: 0.6358974358974359.\n",
      "/tmp/ipykernel_51826/1452124320.py:4: FutureWarning: suggest_loguniform has been deprecated in v3.0.0. This feature will be removed in v6.0.0. See https://github.com/optuna/optuna/releases/tag/v3.0.0. Use suggest_float(..., log=True) instead.\n",
      "  learning_rate = trial.suggest_loguniform(\"learning_rate\", 1e-5, 1e-1)\n"
     ]
    },
    {
     "name": "stdout",
     "output_type": "stream",
     "text": [
      "Accuracy: 64.10%\n",
      "Precision: 0.0000\n",
      "Recall: 0.0000\n",
      "F1 Score: 0.0000\n",
      "Matthews Correlation Coefficient: 0.0000\n",
      "Specificity: 1.0000\n"
     ]
    },
    {
     "name": "stderr",
     "output_type": "stream",
     "text": [
      "[I 2024-11-28 15:54:41,880] Trial 95 finished with value: 0.6210526315789474 and parameters: {'hidden_units': 68, 'dropout_rate': 0.30000000000000004, 'learning_rate': 0.034912311257001526}. Best is trial 68 with value: 0.6358974358974359.\n"
     ]
    },
    {
     "name": "stdout",
     "output_type": "stream",
     "text": [
      "Accuracy: 58.97%\n",
      "Precision: 0.4646\n",
      "Recall: 0.9365\n",
      "F1 Score: 0.6211\n",
      "Matthews Correlation Coefficient: 0.3562\n",
      "Specificity: 0.3956\n"
     ]
    },
    {
     "name": "stderr",
     "output_type": "stream",
     "text": [
      "/tmp/ipykernel_51826/1452124320.py:4: FutureWarning: suggest_loguniform has been deprecated in v3.0.0. This feature will be removed in v6.0.0. See https://github.com/optuna/optuna/releases/tag/v3.0.0. Use suggest_float(..., log=True) instead.\n",
      "  learning_rate = trial.suggest_loguniform(\"learning_rate\", 1e-5, 1e-1)\n",
      "[I 2024-11-28 15:55:28,406] Trial 96 finished with value: 0.6321243523316062 and parameters: {'hidden_units': 204, 'dropout_rate': 0.45000000000000007, 'learning_rate': 0.04608236656421168}. Best is trial 68 with value: 0.6358974358974359.\n"
     ]
    },
    {
     "name": "stdout",
     "output_type": "stream",
     "text": [
      "Accuracy: 59.54%\n",
      "Precision: 0.4692\n",
      "Recall: 0.9683\n",
      "F1 Score: 0.6321\n",
      "Matthews Correlation Coefficient: 0.3885\n",
      "Specificity: 0.3867\n"
     ]
    },
    {
     "name": "stderr",
     "output_type": "stream",
     "text": [
      "/tmp/ipykernel_51826/1452124320.py:4: FutureWarning: suggest_loguniform has been deprecated in v3.0.0. This feature will be removed in v6.0.0. See https://github.com/optuna/optuna/releases/tag/v3.0.0. Use suggest_float(..., log=True) instead.\n",
      "  learning_rate = trial.suggest_loguniform(\"learning_rate\", 1e-5, 1e-1)\n",
      "/home/gonken/anaconda3/envs/torch/lib/python3.12/site-packages/sklearn/metrics/_classification.py:1531: UndefinedMetricWarning: Precision is ill-defined and being set to 0.0 due to no predicted samples. Use `zero_division` parameter to control this behavior.\n",
      "  _warn_prf(average, modifier, f\"{metric.capitalize()} is\", len(result))\n",
      "[I 2024-11-28 15:56:16,331] Trial 97 finished with value: 0.0 and parameters: {'hidden_units': 236, 'dropout_rate': 0.45000000000000007, 'learning_rate': 0.08431462912418536}. Best is trial 68 with value: 0.6358974358974359.\n",
      "/tmp/ipykernel_51826/1452124320.py:4: FutureWarning: suggest_loguniform has been deprecated in v3.0.0. This feature will be removed in v6.0.0. See https://github.com/optuna/optuna/releases/tag/v3.0.0. Use suggest_float(..., log=True) instead.\n",
      "  learning_rate = trial.suggest_loguniform(\"learning_rate\", 1e-5, 1e-1)\n"
     ]
    },
    {
     "name": "stdout",
     "output_type": "stream",
     "text": [
      "Accuracy: 64.10%\n",
      "Precision: 0.0000\n",
      "Recall: 0.0000\n",
      "F1 Score: 0.0000\n",
      "Matthews Correlation Coefficient: 0.0000\n",
      "Specificity: 1.0000\n"
     ]
    },
    {
     "name": "stderr",
     "output_type": "stream",
     "text": [
      "[I 2024-11-28 15:57:04,864] Trial 98 finished with value: 0.6272493573264781 and parameters: {'hidden_units': 212, 'dropout_rate': 0.45000000000000007, 'learning_rate': 0.042129843839063694}. Best is trial 68 with value: 0.6358974358974359.\n"
     ]
    },
    {
     "name": "stdout",
     "output_type": "stream",
     "text": [
      "Accuracy: 58.69%\n",
      "Precision: 0.4639\n",
      "Recall: 0.9683\n",
      "F1 Score: 0.6272\n",
      "Matthews Correlation Coefficient: 0.3781\n",
      "Specificity: 0.3733\n"
     ]
    },
    {
     "name": "stderr",
     "output_type": "stream",
     "text": [
      "/tmp/ipykernel_51826/1452124320.py:4: FutureWarning: suggest_loguniform has been deprecated in v3.0.0. This feature will be removed in v6.0.0. See https://github.com/optuna/optuna/releases/tag/v3.0.0. Use suggest_float(..., log=True) instead.\n",
      "  learning_rate = trial.suggest_loguniform(\"learning_rate\", 1e-5, 1e-1)\n",
      "[I 2024-11-28 15:57:51,243] Trial 99 finished with value: 0.6246719160104987 and parameters: {'hidden_units': 248, 'dropout_rate': 0.5, 'learning_rate': 0.028662606079359238}. Best is trial 68 with value: 0.6358974358974359.\n"
     ]
    },
    {
     "name": "stdout",
     "output_type": "stream",
     "text": [
      "Accuracy: 59.26%\n",
      "Precision: 0.4667\n",
      "Recall: 0.9444\n",
      "F1 Score: 0.6247\n",
      "Matthews Correlation Coefficient: 0.3659\n",
      "Specificity: 0.3956\n",
      "Best Parameters:  {'hidden_units': 68, 'dropout_rate': 0.35, 'learning_rate': 0.03937441804931655}\n",
      "Best Validation F1:  0.6358974358974359\n"
     ]
    }
   ],
   "source": [
    "device = torch.device(\"cuda\" if torch.cuda.is_available() else \"cpu\")\n",
    "\n",
    "study = optuna.create_study(direction=\"maximize\")  \n",
    "study.optimize(objective, n_trials=100)\n",
    "\n",
    "\n",
    "print(\"Best Parameters: \", study.best_params)\n",
    "print(\"Best Validation F1: \", study.best_value)\n"
   ]
  },
  {
   "cell_type": "markdown",
   "metadata": {},
   "source": [
    "最適化パラメーターで再学習"
   ]
  },
  {
   "cell_type": "code",
   "execution_count": 31,
   "metadata": {},
   "outputs": [
    {
     "name": "stdout",
     "output_type": "stream",
     "text": [
      "Epoch [1/100], Loss: 0.6169\n",
      "Epoch [1/100], Train Loss: 0.6169, Val Loss: 0.5766\n",
      "Epoch [2/100], Loss: 0.5809\n",
      "Epoch [2/100], Train Loss: 0.5809, Val Loss: 0.5527\n",
      "Epoch [3/100], Loss: 0.5798\n",
      "Epoch [3/100], Train Loss: 0.5798, Val Loss: 0.5648\n",
      "Epoch [4/100], Loss: 0.5754\n",
      "Epoch [4/100], Train Loss: 0.5754, Val Loss: 0.5538\n",
      "Epoch [5/100], Loss: 0.5728\n",
      "Epoch [5/100], Train Loss: 0.5728, Val Loss: 0.5520\n",
      "Epoch [6/100], Loss: 0.5762\n",
      "Epoch [6/100], Train Loss: 0.5762, Val Loss: 0.5582\n",
      "Epoch [7/100], Loss: 0.5748\n",
      "Epoch [7/100], Train Loss: 0.5748, Val Loss: 0.5486\n",
      "Epoch [8/100], Loss: 0.5778\n",
      "Epoch [8/100], Train Loss: 0.5778, Val Loss: 0.5576\n",
      "Epoch [9/100], Loss: 0.5803\n",
      "Epoch [9/100], Train Loss: 0.5803, Val Loss: 0.5577\n",
      "Epoch [10/100], Loss: 0.5706\n",
      "Epoch [10/100], Train Loss: 0.5706, Val Loss: 0.5471\n",
      "Epoch [11/100], Loss: 0.5697\n",
      "Epoch [11/100], Train Loss: 0.5697, Val Loss: 0.5492\n",
      "Epoch [12/100], Loss: 0.5685\n",
      "Epoch [12/100], Train Loss: 0.5685, Val Loss: 0.5532\n",
      "Epoch [13/100], Loss: 0.5752\n",
      "Epoch [13/100], Train Loss: 0.5752, Val Loss: 0.5531\n",
      "Epoch [14/100], Loss: 0.5734\n",
      "Epoch [14/100], Train Loss: 0.5734, Val Loss: 0.5527\n",
      "Epoch [15/100], Loss: 0.5640\n",
      "Epoch [15/100], Train Loss: 0.5640, Val Loss: 0.5509\n",
      "Epoch [16/100], Loss: 0.5726\n",
      "Epoch [16/100], Train Loss: 0.5726, Val Loss: 0.5508\n",
      "Epoch [17/100], Loss: 0.5679\n",
      "Epoch [17/100], Train Loss: 0.5679, Val Loss: 0.5552\n",
      "Epoch [18/100], Loss: 0.5641\n",
      "Epoch [18/100], Train Loss: 0.5641, Val Loss: 0.5476\n",
      "Epoch [19/100], Loss: 0.5660\n",
      "Epoch [19/100], Train Loss: 0.5660, Val Loss: 0.5508\n",
      "Epoch [20/100], Loss: 0.5648\n",
      "Epoch [20/100], Train Loss: 0.5648, Val Loss: 0.5480\n",
      "Epoch [21/100], Loss: 0.5731\n",
      "Epoch [21/100], Train Loss: 0.5731, Val Loss: 0.5509\n",
      "Epoch [22/100], Loss: 0.5710\n",
      "Epoch [22/100], Train Loss: 0.5710, Val Loss: 0.5537\n",
      "Epoch [23/100], Loss: 0.5611\n",
      "Epoch [23/100], Train Loss: 0.5611, Val Loss: 0.5510\n",
      "Epoch [24/100], Loss: 0.5597\n",
      "Epoch [24/100], Train Loss: 0.5597, Val Loss: 0.5568\n",
      "Epoch [25/100], Loss: 0.5677\n",
      "Epoch [25/100], Train Loss: 0.5677, Val Loss: 0.5489\n",
      "Epoch [26/100], Loss: 0.5615\n",
      "Epoch [26/100], Train Loss: 0.5615, Val Loss: 0.5489\n",
      "Epoch [27/100], Loss: 0.5692\n",
      "Epoch [27/100], Train Loss: 0.5692, Val Loss: 0.5489\n",
      "Epoch [28/100], Loss: 0.5671\n",
      "Epoch [28/100], Train Loss: 0.5671, Val Loss: 0.5447\n",
      "Epoch [29/100], Loss: 0.5710\n",
      "Epoch [29/100], Train Loss: 0.5710, Val Loss: 0.5473\n",
      "Epoch [30/100], Loss: 0.5678\n",
      "Epoch [30/100], Train Loss: 0.5678, Val Loss: 0.5529\n",
      "Epoch [31/100], Loss: 0.5810\n",
      "Epoch [31/100], Train Loss: 0.5810, Val Loss: 0.5614\n",
      "Epoch [32/100], Loss: 0.5626\n",
      "Epoch [32/100], Train Loss: 0.5626, Val Loss: 0.5493\n",
      "Epoch [33/100], Loss: 0.5728\n",
      "Epoch [33/100], Train Loss: 0.5728, Val Loss: 0.5528\n",
      "Epoch [34/100], Loss: 0.5635\n",
      "Epoch [34/100], Train Loss: 0.5635, Val Loss: 0.5543\n",
      "Epoch [35/100], Loss: 0.5584\n",
      "Epoch [35/100], Train Loss: 0.5584, Val Loss: 0.5444\n",
      "Epoch [36/100], Loss: 0.5584\n",
      "Epoch [36/100], Train Loss: 0.5584, Val Loss: 0.5480\n",
      "Epoch [37/100], Loss: 0.5719\n",
      "Epoch [37/100], Train Loss: 0.5719, Val Loss: 0.5461\n",
      "Epoch [38/100], Loss: 0.5652\n",
      "Epoch [38/100], Train Loss: 0.5652, Val Loss: 0.5486\n",
      "Epoch [39/100], Loss: 0.5680\n",
      "Epoch [39/100], Train Loss: 0.5680, Val Loss: 0.5496\n",
      "Epoch [40/100], Loss: 0.5632\n",
      "Epoch [40/100], Train Loss: 0.5632, Val Loss: 0.5459\n",
      "Epoch [41/100], Loss: 0.5632\n",
      "Epoch [41/100], Train Loss: 0.5632, Val Loss: 0.5554\n",
      "Epoch [42/100], Loss: 0.5558\n",
      "Epoch [42/100], Train Loss: 0.5558, Val Loss: 0.5515\n",
      "Epoch [43/100], Loss: 0.5734\n",
      "Epoch [43/100], Train Loss: 0.5734, Val Loss: 0.5496\n",
      "Epoch [44/100], Loss: 0.5669\n",
      "Epoch [44/100], Train Loss: 0.5669, Val Loss: 0.5491\n",
      "Epoch [45/100], Loss: 0.5651\n",
      "Epoch [45/100], Train Loss: 0.5651, Val Loss: 0.5477\n",
      "Epoch [46/100], Loss: 0.5623\n",
      "Epoch [46/100], Train Loss: 0.5623, Val Loss: 0.5461\n",
      "Epoch [47/100], Loss: 0.5677\n",
      "Epoch [47/100], Train Loss: 0.5677, Val Loss: 0.5458\n",
      "Epoch [48/100], Loss: 0.5613\n",
      "Epoch [48/100], Train Loss: 0.5613, Val Loss: 0.5465\n",
      "Epoch [49/100], Loss: 0.5626\n",
      "Epoch [49/100], Train Loss: 0.5626, Val Loss: 0.5513\n",
      "Epoch [50/100], Loss: 0.5611\n",
      "Epoch [50/100], Train Loss: 0.5611, Val Loss: 0.5449\n",
      "Epoch [51/100], Loss: 0.5580\n",
      "Epoch [51/100], Train Loss: 0.5580, Val Loss: 0.5507\n",
      "Epoch [52/100], Loss: 0.5704\n",
      "Epoch [52/100], Train Loss: 0.5704, Val Loss: 0.5443\n",
      "Epoch [53/100], Loss: 0.5662\n",
      "Epoch [53/100], Train Loss: 0.5662, Val Loss: 0.5536\n",
      "Epoch [54/100], Loss: 0.5596\n",
      "Epoch [54/100], Train Loss: 0.5596, Val Loss: 0.5513\n",
      "Epoch [55/100], Loss: 0.5591\n",
      "Epoch [55/100], Train Loss: 0.5591, Val Loss: 0.5534\n",
      "Epoch [56/100], Loss: 0.5612\n",
      "Epoch [56/100], Train Loss: 0.5612, Val Loss: 0.5497\n",
      "Epoch [57/100], Loss: 0.5623\n",
      "Epoch [57/100], Train Loss: 0.5623, Val Loss: 0.5432\n",
      "Epoch [58/100], Loss: 0.5571\n",
      "Epoch [58/100], Train Loss: 0.5571, Val Loss: 0.5556\n",
      "Epoch [59/100], Loss: 0.5646\n",
      "Epoch [59/100], Train Loss: 0.5646, Val Loss: 0.5520\n",
      "Epoch [60/100], Loss: 0.5672\n",
      "Epoch [60/100], Train Loss: 0.5672, Val Loss: 0.5558\n",
      "Epoch [61/100], Loss: 0.5603\n",
      "Epoch [61/100], Train Loss: 0.5603, Val Loss: 0.5485\n",
      "Epoch [62/100], Loss: 0.5568\n",
      "Epoch [62/100], Train Loss: 0.5568, Val Loss: 0.5456\n",
      "Epoch [63/100], Loss: 0.5577\n",
      "Epoch [63/100], Train Loss: 0.5577, Val Loss: 0.5482\n",
      "Epoch [64/100], Loss: 0.5645\n",
      "Epoch [64/100], Train Loss: 0.5645, Val Loss: 0.5455\n",
      "Epoch [65/100], Loss: 0.5514\n",
      "Epoch [65/100], Train Loss: 0.5514, Val Loss: 0.5409\n",
      "Epoch [66/100], Loss: 0.5559\n",
      "Epoch [66/100], Train Loss: 0.5559, Val Loss: 0.5450\n",
      "Epoch [67/100], Loss: 0.5626\n",
      "Epoch [67/100], Train Loss: 0.5626, Val Loss: 0.5469\n",
      "Epoch [68/100], Loss: 0.5602\n",
      "Epoch [68/100], Train Loss: 0.5602, Val Loss: 0.5450\n",
      "Epoch [69/100], Loss: 0.5614\n",
      "Epoch [69/100], Train Loss: 0.5614, Val Loss: 0.5479\n",
      "Epoch [70/100], Loss: 0.5603\n",
      "Epoch [70/100], Train Loss: 0.5603, Val Loss: 0.5487\n",
      "Epoch [71/100], Loss: 0.5606\n",
      "Epoch [71/100], Train Loss: 0.5606, Val Loss: 0.5479\n",
      "Epoch [72/100], Loss: 0.5659\n",
      "Epoch [72/100], Train Loss: 0.5659, Val Loss: 0.5559\n",
      "Epoch [73/100], Loss: 0.5557\n",
      "Epoch [73/100], Train Loss: 0.5557, Val Loss: 0.5462\n",
      "Epoch [74/100], Loss: 0.5573\n",
      "Epoch [74/100], Train Loss: 0.5573, Val Loss: 0.5504\n",
      "Epoch [75/100], Loss: 0.5565\n",
      "Epoch [75/100], Train Loss: 0.5565, Val Loss: 0.5542\n",
      "Epoch [76/100], Loss: 0.5620\n",
      "Epoch [76/100], Train Loss: 0.5620, Val Loss: 0.5486\n",
      "Epoch [77/100], Loss: 0.5566\n",
      "Epoch [77/100], Train Loss: 0.5566, Val Loss: 0.5438\n",
      "Epoch [78/100], Loss: 0.5591\n",
      "Epoch [78/100], Train Loss: 0.5591, Val Loss: 0.5470\n",
      "Epoch [79/100], Loss: 0.5542\n",
      "Epoch [79/100], Train Loss: 0.5542, Val Loss: 0.5503\n",
      "Epoch [80/100], Loss: 0.5562\n",
      "Epoch [80/100], Train Loss: 0.5562, Val Loss: 0.5483\n",
      "Epoch [81/100], Loss: 0.5574\n",
      "Epoch [81/100], Train Loss: 0.5574, Val Loss: 0.5523\n",
      "Epoch [82/100], Loss: 0.5659\n",
      "Epoch [82/100], Train Loss: 0.5659, Val Loss: 0.5483\n",
      "Epoch [83/100], Loss: 0.5555\n",
      "Epoch [83/100], Train Loss: 0.5555, Val Loss: 0.5431\n",
      "Epoch [84/100], Loss: 0.5737\n",
      "Epoch [84/100], Train Loss: 0.5737, Val Loss: 0.5445\n",
      "Epoch [85/100], Loss: 0.5661\n",
      "Epoch [85/100], Train Loss: 0.5661, Val Loss: 0.5421\n",
      "Epoch [86/100], Loss: 0.5617\n",
      "Epoch [86/100], Train Loss: 0.5617, Val Loss: 0.5453\n",
      "Epoch [87/100], Loss: 0.5569\n",
      "Epoch [87/100], Train Loss: 0.5569, Val Loss: 0.5437\n",
      "Epoch [88/100], Loss: 0.5521\n",
      "Epoch [88/100], Train Loss: 0.5521, Val Loss: 0.5456\n",
      "Epoch [89/100], Loss: 0.5610\n",
      "Epoch [89/100], Train Loss: 0.5610, Val Loss: 0.5526\n",
      "Epoch [90/100], Loss: 0.5544\n",
      "Epoch [90/100], Train Loss: 0.5544, Val Loss: 0.5556\n",
      "Epoch [91/100], Loss: 0.5529\n",
      "Epoch [91/100], Train Loss: 0.5529, Val Loss: 0.5513\n",
      "Epoch [92/100], Loss: 0.5640\n",
      "Epoch [92/100], Train Loss: 0.5640, Val Loss: 0.5472\n",
      "Epoch [93/100], Loss: 0.5534\n",
      "Epoch [93/100], Train Loss: 0.5534, Val Loss: 0.5454\n",
      "Epoch [94/100], Loss: 0.5560\n",
      "Epoch [94/100], Train Loss: 0.5560, Val Loss: 0.5505\n",
      "Epoch [95/100], Loss: 0.5566\n",
      "Epoch [95/100], Train Loss: 0.5566, Val Loss: 0.5478\n",
      "Epoch [96/100], Loss: 0.5545\n",
      "Epoch [96/100], Train Loss: 0.5545, Val Loss: 0.5464\n",
      "Epoch [97/100], Loss: 0.5547\n",
      "Epoch [97/100], Train Loss: 0.5547, Val Loss: 0.5487\n",
      "Epoch [98/100], Loss: 0.5553\n",
      "Epoch [98/100], Train Loss: 0.5553, Val Loss: 0.5451\n",
      "Epoch [99/100], Loss: 0.5568\n",
      "Epoch [99/100], Train Loss: 0.5568, Val Loss: 0.5476\n",
      "Epoch [100/100], Loss: 0.5534\n",
      "Epoch [100/100], Train Loss: 0.5534, Val Loss: 0.5487\n"
     ]
    },
    {
     "data": {
      "image/png": "[encoded data removed]",
      "text/plain": [
       "<Figure size 1000x600 with 1 Axes>"
      ]
     },
     "metadata": {},
     "output_type": "display_data"
    }
   ],
   "source": [
    "best_params=study.best_params\n",
    "model = DNN(input_dim=X_train_tensor.shape[1],\n",
    "            hidden_units=best_params[\"hidden_units\"],\n",
    "            dropout_rate=best_params[\"dropout_rate\"]\n",
    "            ).to(device)\n",
    "\n",
    "# 最適化と訓練を実行\n",
    "optimizer = optim.Adam(model.parameters(), lr=best_params[\"learning_rate\"])\n",
    "criterion = nn.BCELoss()\n",
    "\n",
    "num_epochs=100\n",
    "train_losses = []\n",
    "val_losses = []\n",
    "\n",
    "model.train()\n",
    "for epoch in range(num_epochs):\n",
    "    epoch_train_loss = 0\n",
    "    epoch_val_loss = 0\n",
    "\n",
    "    for X_batch, y_batch in train_loader:\n",
    "        X_batch, y_batch = X_batch.to(device), y_batch.to(device)\n",
    "        optimizer.zero_grad()\n",
    "        outputs = model(X_batch).squeeze()\n",
    "        loss = criterion(outputs, y_batch)\n",
    "        loss.backward()\n",
    "        optimizer.step()\n",
    "        epoch_train_loss += loss.item()\n",
    "    avg_train_loss = epoch_train_loss / len(train_loader)\n",
    "    train_losses.append(avg_train_loss)\n",
    "    print(f'Epoch [{epoch+1}/{num_epochs}], Loss: {avg_train_loss:.4f}')\n",
    "\n",
    "    if val_loader is not None:\n",
    "        model.eval()  \n",
    "        with torch.no_grad():\n",
    "            for X_val, y_val in val_loader:\n",
    "                X_val, y_val = X_val.to(device), y_val.to(device)\n",
    "                val_outputs = model(X_val).squeeze()\n",
    "                val_loss = criterion(val_outputs, y_val)\n",
    "                epoch_val_loss += val_loss.item()\n",
    "\n",
    "        avg_val_loss = epoch_val_loss / len(val_loader)\n",
    "        val_losses.append(avg_val_loss)\n",
    "        model.train()  \n",
    "\n",
    "    if val_loader is not None:\n",
    "        print(f\"Epoch [{epoch+1}/{num_epochs}], Train Loss: {avg_train_loss:.4f}, Val Loss: {avg_val_loss:.4f}\")\n",
    "    else:\n",
    "        print(f\"Epoch [{epoch+1}/{num_epochs}], Train Loss: {avg_train_loss:.4f}\")\n",
    "\n",
    "plt.figure(figsize=(10, 6))\n",
    "plt.plot(range(1, num_epochs + 1), train_losses, label='Train Loss')\n",
    "if val_losses:\n",
    "    plt.plot(range(1, num_epochs + 1), val_losses, label='Validation Loss')\n",
    "plt.xlabel('Epoch')\n",
    "plt.ylabel('Loss')\n",
    "plt.title('Learning Curve for DNN1')\n",
    "plt.legend()\n",
    "plt.grid()\n",
    "plt.show()"
   ]
  },
  {
   "cell_type": "code",
   "execution_count": 32,
   "metadata": {},
   "outputs": [
    {
     "name": "stdout",
     "output_type": "stream",
     "text": [
      "Accuracy: 57.74%\n",
      "Precision: 0.4766\n",
      "Recall: 0.9617\n",
      "F1 Score: 0.6373\n",
      "Matthews Correlation Coefficient: 0.3491\n",
      "Specificity: 0.3358\n"
     ]
    },
    {
     "data": {
      "image/png": "[encoded data removed]",
      "text/plain": [
       "<Figure size 640x480 with 1 Axes>"
      ]
     },
     "metadata": {},
     "output_type": "display_data"
    },
    {
     "data": {
      "image/png": "[encoded data removed]",
      "text/plain": [
       "<Figure size 640x480 with 1 Axes>"
      ]
     },
     "metadata": {},
     "output_type": "display_data"
    },
    {
     "data": {
      "image/png": "[encoded data removed]",
      "text/plain": [
       "<Figure size 640x480 with 1 Axes>"
      ]
     },
     "metadata": {},
     "output_type": "display_data"
    }
   ],
   "source": [
    "model.eval()\n",
    "with torch.no_grad():\n",
    "    X_test_tensor = X_test_tensor.to(device)\n",
    "    y_test_tensor = y_test_tensor.to(device)\n",
    "\n",
    "    # 予測と確率\n",
    "    test_outputs = model(X_test_tensor).squeeze()\n",
    "    predictions = (test_outputs >= 0.5).float()\n",
    "    y_true = y_test_tensor.cpu().numpy()\n",
    "    y_pred = predictions.cpu().numpy()\n",
    "    y_prob = test_outputs.cpu().numpy()\n",
    "\n",
    "# 評価指標\n",
    "    accuracy = accuracy_score(y_true, y_pred)\n",
    "    precision = precision_score(y_true, y_pred)\n",
    "    recall = recall_score(y_true, y_pred)\n",
    "    f1 = f1_score(y_true, y_pred)\n",
    "    mcc = matthews_corrcoef(y_true, y_pred)\n",
    "    specificity = recall_score(y_true, y_pred, pos_label=0)  \n",
    "    print(f'Accuracy: {accuracy * 100:.2f}%')\n",
    "    print(f'Precision: {precision:.4f}')\n",
    "    print(f'Recall: {recall:.4f}')\n",
    "    print(f'F1 Score: {f1:.4f}')\n",
    "    print(f'Matthews Correlation Coefficient: {mcc:.4f}')\n",
    "    print(f'Specificity: {specificity:.4f}')\n",
    "\n",
    "    # 混同行列（割合表示）\n",
    "    cm = confusion_matrix(y_true, y_pred, normalize='true')\n",
    "    sns.heatmap(cm, annot=True, fmt=\".2%\", cmap=\"Blues\", cbar=False)\n",
    "    plt.xlabel(\"Predicted\")\n",
    "    plt.ylabel(\"Actual\")\n",
    "    plt.title(f\"Confusion Matrix (Normalized)\")\n",
    "    plt.show()\n",
    "\n",
    "    # ROC曲線とAUC\n",
    "    fpr, tpr, thresholds = roc_curve(y_true, y_prob)\n",
    "    roc_auc = auc(fpr, tpr)\n",
    "    plt.plot(fpr, tpr, label=f'ROC curve (AUC = {roc_auc:.2f})')\n",
    "    plt.plot([0, 1], [0, 1], 'k--') \n",
    "    plt.xlabel('False Positive Rate')\n",
    "    plt.ylabel('True Positive Rate')\n",
    "    plt.title(f'ROC Curve - Model ')\n",
    "    plt.legend(loc=\"lower right\")\n",
    "    plt.show()\n",
    "\n",
    "    # Precision-Recall曲線\n",
    "    precision_curve, recall_curve, pr_thresholds = precision_recall_curve(y_true, y_prob)\n",
    "    pr_auc = auc(recall_curve, precision_curve)\n",
    "    plt.plot(recall_curve, precision_curve, label=f'PR curve (AUC = {pr_auc:.2f})')\n",
    "    plt.xlabel('Recall')\n",
    "    plt.ylabel('Precision')\n",
    "    plt.title(f'Precision-Recall Curve ')\n",
    "    plt.legend(loc=\"lower left\")\n",
    "    plt.show()    "
   ]
  },
  {
   "cell_type": "code",
   "execution_count": 33,
   "metadata": {},
   "outputs": [],
   "source": [
    "# モデルと構造を保存\n",
    "torch.save(model, '../../saved_model/DNN_1.pth')\n"
   ]
  },
  {
   "cell_type": "code",
   "execution_count": null,
   "metadata": {},
   "outputs": [],
   "source": []
  }
 ],
 "metadata": {
  "kernelspec": {
   "display_name": "torch",
   "language": "python",
   "name": "python3"
  },
  "language_info": {
   "codemirror_mode": {
    "name": "ipython",
    "version": 3
   },
   "file_extension": ".py",
   "mimetype": "text/x-python",
   "name": "python",
   "nbconvert_exporter": "python",
   "pygments_lexer": "ipython3",
   "version": "3.12.7"
  }
 },
 "nbformat": 4,
 "nbformat_minor": 2
}
