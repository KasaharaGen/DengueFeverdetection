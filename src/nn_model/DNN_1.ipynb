{
 "cells": [
  {
   "cell_type": "code",
   "execution_count": 26,
   "metadata": {},
   "outputs": [],
   "source": [
    "import numpy as np\n",
    "import pandas as pd\n",
    "import matplotlib.pyplot as plt\n",
    "import seaborn as sns\n",
    "\n",
    "import torch\n",
    "import torch.nn as nn\n",
    "import torch.optim as optim\n",
    "\n",
    "import optuna\n",
    "\n",
    "from sklearn.model_selection import train_test_split\n",
    "from sklearn.metrics import confusion_matrix,accuracy_score, precision_score, recall_score, f1_score, confusion_matrix, roc_curve, auc,matthews_corrcoef, precision_recall_curve,roc_auc_score\n",
    "\n"
   ]
  },
  {
   "cell_type": "markdown",
   "metadata": {},
   "source": [
    "データ読み取り"
   ]
  },
  {
   "cell_type": "code",
   "execution_count": 27,
   "metadata": {},
   "outputs": [],
   "source": [
    "df=pd.read_csv('../../data/learning_data.csv',index_col=0)\n",
    "\n",
    "X=df.drop(columns='dengue',axis=1).values\n",
    "y=df['dengue'].values\n",
    "\n",
    "X_train, X_test, y_train, y_test = train_test_split(X, y, test_size=0.2,random_state=42)\n",
    "X_train, X_val, y_train, y_val = train_test_split(X_train, y_train, test_size=0.1,random_state=42)\n",
    "\n",
    "#torchテンソルに変換\n",
    "X_train_tensor = torch.tensor(X_train, dtype=torch.float32)\n",
    "y_train_tensor = torch.tensor(y_train, dtype=torch.float32)\n",
    "X_test_tensor = torch.tensor(X_test, dtype=torch.float32)\n",
    "y_test_tensor = torch.tensor(y_test, dtype=torch.float32)\n",
    "X_val_tensor = torch.tensor(X_val, dtype=torch.float32)\n",
    "y_val_tensor = torch.tensor(y_val, dtype=torch.float32)\n"
   ]
  },
  {
   "cell_type": "code",
   "execution_count": 28,
   "metadata": {},
   "outputs": [],
   "source": [
    "class DNN(nn.Module):\n",
    "    def __init__(self, input_dim,hidden_units1,hidden_units2,hidden_units3,hidden_units4,dropout_rate):\n",
    "        super(DNN, self).__init__()\n",
    "        self.layer1 = nn.Linear(input_dim,hidden_units1)\n",
    "        self.layer2 = nn.Linear(hidden_units1,hidden_units2)\n",
    "        self.layer3 = nn.Linear(hidden_units2, hidden_units3)\n",
    "        self.layer4 = nn.Linear(hidden_units3, hidden_units4)\n",
    "        self.output_layer = nn.Linear(hidden_units4, 1)\n",
    "\n",
    "        self.dropout = nn.Dropout(dropout_rate)\n",
    "\n",
    "        self.bn1 = nn.BatchNorm1d(hidden_units1)\n",
    "        self.bn2 = nn.BatchNorm1d(hidden_units2)\n",
    "        self.bn3 = nn.BatchNorm1d(hidden_units3)\n",
    "        self.bn4 = nn.BatchNorm1d(hidden_units4)\n",
    "\n",
    "        \n",
    "        \n",
    "    def forward(self, x):\n",
    "        x = torch.relu(self.bn1(self.layer1(x)))\n",
    "        x = self.dropout(x)\n",
    "        \n",
    "        x = torch.relu(self.bn2(self.layer2(x)))\n",
    "        x = self.dropout(x)\n",
    "\n",
    "        x = torch.relu(self.bn3(self.layer3(x)))\n",
    "        x = self.dropout(x)\n",
    "\n",
    "        x = torch.relu(self.bn4(self.layer4(x)))\n",
    "        x = self.dropout(x)\n",
    "\n",
    "        x = torch.sigmoid(self.output_layer(x)) \n",
    "        return x\n",
    "    "
   ]
  },
  {
   "cell_type": "markdown",
   "metadata": {},
   "source": [
    "学習データセットの作成"
   ]
  },
  {
   "cell_type": "code",
   "execution_count": 29,
   "metadata": {},
   "outputs": [],
   "source": [
    "train_dataset = torch.utils.data.TensorDataset(X_train_tensor, y_train_tensor)\n",
    "train_loader = torch.utils.data.DataLoader(dataset=train_dataset, batch_size=32, shuffle=True)\n",
    "\n",
    "val_dataset = torch.utils.data.TensorDataset(X_val_tensor, y_val_tensor)\n",
    "val_loader = torch.utils.data.DataLoader(dataset=val_dataset, batch_size=32, shuffle=False)"
   ]
  },
  {
   "cell_type": "markdown",
   "metadata": {},
   "source": [
    "Optunaの設定"
   ]
  },
  {
   "cell_type": "code",
   "execution_count": 30,
   "metadata": {},
   "outputs": [],
   "source": [
    "def objective(trial):\n",
    "    # ハイパーパラメータのサンプリング\n",
    "    hidden_units1 = trial.suggest_int(\"hidden_units1\", 216, 512, step=2)\n",
    "    hidden_units2 = trial.suggest_int(\"hidden_units2\", 128, 216, step=2)\n",
    "    hidden_units3 = trial.suggest_int(\"hidden_units3\", 64, 128, step=2)\n",
    "    hidden_units4 = trial.suggest_int(\"hidden_units4\", 4, 64, step=2)\n",
    "    dropout_rate = trial.suggest_float(\"dropout_rate\", 0, 0.5, step=0.05)\n",
    "    learning_rate = trial.suggest_loguniform(\"learning_rate\", 1e-4, 1e-2)  # 範囲を調整\n",
    "    weight_decay = trial.suggest_loguniform(\"weight_decay\", 1e-5, 1e-2)   # 範囲を調整\n",
    "\n",
    "    # モデルの定義\n",
    "    model = DNN(\n",
    "        input_dim=X_train_tensor.shape[1],\n",
    "        hidden_units1=hidden_units1,\n",
    "        hidden_units2=hidden_units2,\n",
    "        hidden_units3=hidden_units3,\n",
    "        hidden_units4=hidden_units4,\n",
    "        dropout_rate=dropout_rate\n",
    "    ).to(device)\n",
    "\n",
    "    criterion = nn.BCELoss()\n",
    "    optimizer = torch.optim.Adam(model.parameters(), lr=learning_rate, weight_decay=weight_decay)\n",
    "\n",
    "    # Early Stoppingの設定\n",
    "    patience = 10\n",
    "    best_val_loss = float('inf')\n",
    "    patience_counter = 0\n",
    "\n",
    "    # 訓練ループ\n",
    "    num_epochs = 100\n",
    "    for epoch in range(num_epochs):\n",
    "        model.train()\n",
    "        for X_batch, y_batch in train_loader:\n",
    "            X_batch, y_batch = X_batch.to(device), y_batch.to(device)\n",
    "            optimizer.zero_grad()\n",
    "            outputs = model(X_batch).squeeze()\n",
    "            loss = criterion(outputs, y_batch)\n",
    "            loss.backward()\n",
    "            optimizer.step()\n",
    "\n",
    "        # バリデーション評価\n",
    "        model.eval()\n",
    "        val_loss = 0\n",
    "        val_true, val_pred = [], []\n",
    "        with torch.no_grad():\n",
    "            for X_val, y_val in val_loader:\n",
    "                X_val, y_val = X_val.to(device), y_val.to(device)\n",
    "                val_outputs = model(X_val).squeeze()\n",
    "                val_loss += criterion(val_outputs, y_val).item()\n",
    "                predictions = (val_outputs >= 0.5).float()  # 閾値を標準の0.5に設定\n",
    "                val_true.extend(y_val.cpu().numpy())\n",
    "                val_pred.extend(predictions.cpu().numpy())\n",
    "\n",
    "        val_loss /= len(val_loader)\n",
    "\n",
    "        # Early Stoppingの判定\n",
    "        if val_loss < best_val_loss:\n",
    "            best_val_loss = val_loss\n",
    "            patience_counter = 0\n",
    "        else:\n",
    "            patience_counter += 1\n",
    "\n",
    "        if patience_counter >= patience:\n",
    "            print(f\"Early stopping at epoch {epoch}\")\n",
    "            break\n",
    "\n",
    "        # Optunaのプルーニング機能\n",
    "        trial.report(val_loss, epoch)\n",
    "        if trial.should_prune():\n",
    "            raise optuna.exceptions.TrialPruned()\n",
    "\n",
    "    mcc = matthews_corrcoef(val_true, val_pred)\n",
    "    print(f\"Final MCC: {mcc:.4f}\")\n",
    "\n",
    "    return mcc  \n"
   ]
  },
  {
   "cell_type": "markdown",
   "metadata": {},
   "source": [
    "最適化"
   ]
  },
  {
   "cell_type": "code",
   "execution_count": 31,
   "metadata": {},
   "outputs": [
    {
     "name": "stderr",
     "output_type": "stream",
     "text": [
      "[I 2024-11-29 18:13:08,217] A new study created in memory with name: no-name-d40be612-70b5-446d-af33-b75489d7e48b\n",
      "/tmp/ipykernel_181066/892729681.py:8: FutureWarning: suggest_loguniform has been deprecated in v3.0.0. This feature will be removed in v6.0.0. See https://github.com/optuna/optuna/releases/tag/v3.0.0. Use suggest_float(..., log=True) instead.\n",
      "  learning_rate = trial.suggest_loguniform(\"learning_rate\", 1e-4, 1e-2)  # 範囲を調整\n",
      "/tmp/ipykernel_181066/892729681.py:9: FutureWarning: suggest_loguniform has been deprecated in v3.0.0. This feature will be removed in v6.0.0. See https://github.com/optuna/optuna/releases/tag/v3.0.0. Use suggest_float(..., log=True) instead.\n",
      "  weight_decay = trial.suggest_loguniform(\"weight_decay\", 1e-5, 1e-2)   # 範囲を調整\n",
      "[I 2024-11-29 18:13:16,397] Trial 0 finished with value: 0.0 and parameters: {'hidden_units1': 308, 'hidden_units2': 140, 'hidden_units3': 128, 'hidden_units4': 6, 'dropout_rate': 0.4, 'learning_rate': 0.004926340154805087, 'weight_decay': 0.006884085294402422}. Best is trial 0 with value: 0.0.\n"
     ]
    },
    {
     "name": "stdout",
     "output_type": "stream",
     "text": [
      "Early stopping at epoch 15\n",
      "Final MCC: 0.0000\n"
     ]
    },
    {
     "name": "stderr",
     "output_type": "stream",
     "text": [
      "/tmp/ipykernel_181066/892729681.py:8: FutureWarning: suggest_loguniform has been deprecated in v3.0.0. This feature will be removed in v6.0.0. See https://github.com/optuna/optuna/releases/tag/v3.0.0. Use suggest_float(..., log=True) instead.\n",
      "  learning_rate = trial.suggest_loguniform(\"learning_rate\", 1e-4, 1e-2)  # 範囲を調整\n",
      "/tmp/ipykernel_181066/892729681.py:9: FutureWarning: suggest_loguniform has been deprecated in v3.0.0. This feature will be removed in v6.0.0. See https://github.com/optuna/optuna/releases/tag/v3.0.0. Use suggest_float(..., log=True) instead.\n",
      "  weight_decay = trial.suggest_loguniform(\"weight_decay\", 1e-5, 1e-2)   # 範囲を調整\n",
      "[I 2024-11-29 18:13:27,705] Trial 1 finished with value: 0.0 and parameters: {'hidden_units1': 318, 'hidden_units2': 194, 'hidden_units3': 96, 'hidden_units4': 40, 'dropout_rate': 0.45, 'learning_rate': 0.008851692399792303, 'weight_decay': 5.57955443184951e-05}. Best is trial 0 with value: 0.0.\n"
     ]
    },
    {
     "name": "stdout",
     "output_type": "stream",
     "text": [
      "Early stopping at epoch 23\n",
      "Final MCC: 0.0000\n"
     ]
    },
    {
     "name": "stderr",
     "output_type": "stream",
     "text": [
      "/tmp/ipykernel_181066/892729681.py:8: FutureWarning: suggest_loguniform has been deprecated in v3.0.0. This feature will be removed in v6.0.0. See https://github.com/optuna/optuna/releases/tag/v3.0.0. Use suggest_float(..., log=True) instead.\n",
      "  learning_rate = trial.suggest_loguniform(\"learning_rate\", 1e-4, 1e-2)  # 範囲を調整\n",
      "/tmp/ipykernel_181066/892729681.py:9: FutureWarning: suggest_loguniform has been deprecated in v3.0.0. This feature will be removed in v6.0.0. See https://github.com/optuna/optuna/releases/tag/v3.0.0. Use suggest_float(..., log=True) instead.\n",
      "  weight_decay = trial.suggest_loguniform(\"weight_decay\", 1e-5, 1e-2)   # 範囲を調整\n",
      "[I 2024-11-29 18:13:46,566] Trial 2 finished with value: 0.10192943828752511 and parameters: {'hidden_units1': 368, 'hidden_units2': 184, 'hidden_units3': 74, 'hidden_units4': 4, 'dropout_rate': 0.2, 'learning_rate': 0.00013850636399932915, 'weight_decay': 0.00020273284025342284}. Best is trial 2 with value: 0.10192943828752511.\n"
     ]
    },
    {
     "name": "stdout",
     "output_type": "stream",
     "text": [
      "Early stopping at epoch 39\n",
      "Final MCC: 0.1019\n"
     ]
    },
    {
     "name": "stderr",
     "output_type": "stream",
     "text": [
      "/tmp/ipykernel_181066/892729681.py:8: FutureWarning: suggest_loguniform has been deprecated in v3.0.0. This feature will be removed in v6.0.0. See https://github.com/optuna/optuna/releases/tag/v3.0.0. Use suggest_float(..., log=True) instead.\n",
      "  learning_rate = trial.suggest_loguniform(\"learning_rate\", 1e-4, 1e-2)  # 範囲を調整\n",
      "/tmp/ipykernel_181066/892729681.py:9: FutureWarning: suggest_loguniform has been deprecated in v3.0.0. This feature will be removed in v6.0.0. See https://github.com/optuna/optuna/releases/tag/v3.0.0. Use suggest_float(..., log=True) instead.\n",
      "  weight_decay = trial.suggest_loguniform(\"weight_decay\", 1e-5, 1e-2)   # 範囲を調整\n",
      "[I 2024-11-29 18:13:57,091] Trial 3 finished with value: 0.14341902915111934 and parameters: {'hidden_units1': 460, 'hidden_units2': 204, 'hidden_units3': 110, 'hidden_units4': 52, 'dropout_rate': 0.15000000000000002, 'learning_rate': 0.00016387364512510073, 'weight_decay': 1.4460398869349947e-05}. Best is trial 3 with value: 0.14341902915111934.\n"
     ]
    },
    {
     "name": "stdout",
     "output_type": "stream",
     "text": [
      "Early stopping at epoch 21\n",
      "Final MCC: 0.1434\n"
     ]
    },
    {
     "name": "stderr",
     "output_type": "stream",
     "text": [
      "/tmp/ipykernel_181066/892729681.py:8: FutureWarning: suggest_loguniform has been deprecated in v3.0.0. This feature will be removed in v6.0.0. See https://github.com/optuna/optuna/releases/tag/v3.0.0. Use suggest_float(..., log=True) instead.\n",
      "  learning_rate = trial.suggest_loguniform(\"learning_rate\", 1e-4, 1e-2)  # 範囲を調整\n",
      "/tmp/ipykernel_181066/892729681.py:9: FutureWarning: suggest_loguniform has been deprecated in v3.0.0. This feature will be removed in v6.0.0. See https://github.com/optuna/optuna/releases/tag/v3.0.0. Use suggest_float(..., log=True) instead.\n",
      "  weight_decay = trial.suggest_loguniform(\"weight_decay\", 1e-5, 1e-2)   # 範囲を調整\n",
      "[I 2024-11-29 18:14:05,676] Trial 4 finished with value: 0.20282434500939742 and parameters: {'hidden_units1': 348, 'hidden_units2': 146, 'hidden_units3': 94, 'hidden_units4': 40, 'dropout_rate': 0.15000000000000002, 'learning_rate': 0.00042941364659334377, 'weight_decay': 0.00030708868423261725}. Best is trial 4 with value: 0.20282434500939742.\n"
     ]
    },
    {
     "name": "stdout",
     "output_type": "stream",
     "text": [
      "Early stopping at epoch 16\n",
      "Final MCC: 0.2028\n"
     ]
    },
    {
     "name": "stderr",
     "output_type": "stream",
     "text": [
      "/tmp/ipykernel_181066/892729681.py:8: FutureWarning: suggest_loguniform has been deprecated in v3.0.0. This feature will be removed in v6.0.0. See https://github.com/optuna/optuna/releases/tag/v3.0.0. Use suggest_float(..., log=True) instead.\n",
      "  learning_rate = trial.suggest_loguniform(\"learning_rate\", 1e-4, 1e-2)  # 範囲を調整\n",
      "/tmp/ipykernel_181066/892729681.py:9: FutureWarning: suggest_loguniform has been deprecated in v3.0.0. This feature will be removed in v6.0.0. See https://github.com/optuna/optuna/releases/tag/v3.0.0. Use suggest_float(..., log=True) instead.\n",
      "  weight_decay = trial.suggest_loguniform(\"weight_decay\", 1e-5, 1e-2)   # 範囲を調整\n",
      "[I 2024-11-29 18:14:54,123] Trial 5 finished with value: 0.13015393292219313 and parameters: {'hidden_units1': 258, 'hidden_units2': 162, 'hidden_units3': 96, 'hidden_units4': 62, 'dropout_rate': 0.5, 'learning_rate': 0.00012744885564765665, 'weight_decay': 0.00012482448624337838}. Best is trial 4 with value: 0.20282434500939742.\n"
     ]
    },
    {
     "name": "stdout",
     "output_type": "stream",
     "text": [
      "Final MCC: 0.1302\n"
     ]
    },
    {
     "name": "stderr",
     "output_type": "stream",
     "text": [
      "/tmp/ipykernel_181066/892729681.py:8: FutureWarning: suggest_loguniform has been deprecated in v3.0.0. This feature will be removed in v6.0.0. See https://github.com/optuna/optuna/releases/tag/v3.0.0. Use suggest_float(..., log=True) instead.\n",
      "  learning_rate = trial.suggest_loguniform(\"learning_rate\", 1e-4, 1e-2)  # 範囲を調整\n",
      "/tmp/ipykernel_181066/892729681.py:9: FutureWarning: suggest_loguniform has been deprecated in v3.0.0. This feature will be removed in v6.0.0. See https://github.com/optuna/optuna/releases/tag/v3.0.0. Use suggest_float(..., log=True) instead.\n",
      "  weight_decay = trial.suggest_loguniform(\"weight_decay\", 1e-5, 1e-2)   # 範囲を調整\n",
      "[I 2024-11-29 18:15:22,027] Trial 6 finished with value: 0.19237062288668477 and parameters: {'hidden_units1': 500, 'hidden_units2': 164, 'hidden_units3': 114, 'hidden_units4': 64, 'dropout_rate': 0.4, 'learning_rate': 0.00010238737118485333, 'weight_decay': 3.5678824300547964e-05}. Best is trial 4 with value: 0.20282434500939742.\n"
     ]
    },
    {
     "name": "stdout",
     "output_type": "stream",
     "text": [
      "Early stopping at epoch 56\n",
      "Final MCC: 0.1924\n"
     ]
    },
    {
     "name": "stderr",
     "output_type": "stream",
     "text": [
      "/tmp/ipykernel_181066/892729681.py:8: FutureWarning: suggest_loguniform has been deprecated in v3.0.0. This feature will be removed in v6.0.0. See https://github.com/optuna/optuna/releases/tag/v3.0.0. Use suggest_float(..., log=True) instead.\n",
      "  learning_rate = trial.suggest_loguniform(\"learning_rate\", 1e-4, 1e-2)  # 範囲を調整\n",
      "/tmp/ipykernel_181066/892729681.py:9: FutureWarning: suggest_loguniform has been deprecated in v3.0.0. This feature will be removed in v6.0.0. See https://github.com/optuna/optuna/releases/tag/v3.0.0. Use suggest_float(..., log=True) instead.\n",
      "  weight_decay = trial.suggest_loguniform(\"weight_decay\", 1e-5, 1e-2)   # 範囲を調整\n",
      "[I 2024-11-29 18:15:22,543] Trial 7 pruned. \n",
      "[I 2024-11-29 18:16:03,572] Trial 8 finished with value: 0.09243468979503967 and parameters: {'hidden_units1': 454, 'hidden_units2': 216, 'hidden_units3': 74, 'hidden_units4': 4, 'dropout_rate': 0.4, 'learning_rate': 0.00011742958095593759, 'weight_decay': 6.1002167223337814e-05}. Best is trial 4 with value: 0.20282434500939742.\n"
     ]
    },
    {
     "name": "stdout",
     "output_type": "stream",
     "text": [
      "Early stopping at epoch 84\n",
      "Final MCC: 0.0924\n"
     ]
    },
    {
     "name": "stderr",
     "output_type": "stream",
     "text": [
      "/tmp/ipykernel_181066/892729681.py:8: FutureWarning: suggest_loguniform has been deprecated in v3.0.0. This feature will be removed in v6.0.0. See https://github.com/optuna/optuna/releases/tag/v3.0.0. Use suggest_float(..., log=True) instead.\n",
      "  learning_rate = trial.suggest_loguniform(\"learning_rate\", 1e-4, 1e-2)  # 範囲を調整\n",
      "/tmp/ipykernel_181066/892729681.py:9: FutureWarning: suggest_loguniform has been deprecated in v3.0.0. This feature will be removed in v6.0.0. See https://github.com/optuna/optuna/releases/tag/v3.0.0. Use suggest_float(..., log=True) instead.\n",
      "  weight_decay = trial.suggest_loguniform(\"weight_decay\", 1e-5, 1e-2)   # 範囲を調整\n",
      "[I 2024-11-29 18:16:04,054] Trial 9 pruned. \n",
      "[I 2024-11-29 18:16:04,547] Trial 10 pruned. \n",
      "[I 2024-11-29 18:16:05,039] Trial 11 pruned. \n",
      "[I 2024-11-29 18:16:05,589] Trial 12 pruned. \n",
      "[I 2024-11-29 18:16:06,089] Trial 13 pruned. \n",
      "[I 2024-11-29 18:16:06,508] Trial 14 pruned. \n",
      "[I 2024-11-29 18:16:06,987] Trial 15 pruned. \n",
      "[I 2024-11-29 18:16:07,518] Trial 16 pruned. \n",
      "[I 2024-11-29 18:16:15,387] Trial 17 finished with value: 0.1707928023860345 and parameters: {'hidden_units1': 274, 'hidden_units2': 140, 'hidden_units3': 106, 'hidden_units4': 18, 'dropout_rate': 0.1, 'learning_rate': 0.0005789969842498144, 'weight_decay': 1.1231361764408743e-05}. Best is trial 4 with value: 0.20282434500939742.\n"
     ]
    },
    {
     "name": "stdout",
     "output_type": "stream",
     "text": [
      "Early stopping at epoch 15\n",
      "Final MCC: 0.1708\n"
     ]
    },
    {
     "name": "stderr",
     "output_type": "stream",
     "text": [
      "/tmp/ipykernel_181066/892729681.py:8: FutureWarning: suggest_loguniform has been deprecated in v3.0.0. This feature will be removed in v6.0.0. See https://github.com/optuna/optuna/releases/tag/v3.0.0. Use suggest_float(..., log=True) instead.\n",
      "  learning_rate = trial.suggest_loguniform(\"learning_rate\", 1e-4, 1e-2)  # 範囲を調整\n",
      "/tmp/ipykernel_181066/892729681.py:9: FutureWarning: suggest_loguniform has been deprecated in v3.0.0. This feature will be removed in v6.0.0. See https://github.com/optuna/optuna/releases/tag/v3.0.0. Use suggest_float(..., log=True) instead.\n",
      "  weight_decay = trial.suggest_loguniform(\"weight_decay\", 1e-5, 1e-2)   # 範囲を調整\n",
      "[I 2024-11-29 18:16:15,877] Trial 18 pruned. \n",
      "[I 2024-11-29 18:16:16,410] Trial 19 pruned. \n",
      "[I 2024-11-29 18:16:16,972] Trial 20 pruned. \n",
      "[I 2024-11-29 18:16:17,533] Trial 21 pruned. \n",
      "[I 2024-11-29 18:16:24,275] Trial 22 finished with value: 0.14403216146389392 and parameters: {'hidden_units1': 286, 'hidden_units2': 136, 'hidden_units3': 122, 'hidden_units4': 18, 'dropout_rate': 0.0, 'learning_rate': 0.00021629051396548262, 'weight_decay': 1.0151076678393027e-05}. Best is trial 4 with value: 0.20282434500939742.\n"
     ]
    },
    {
     "name": "stdout",
     "output_type": "stream",
     "text": [
      "Early stopping at epoch 14\n",
      "Final MCC: 0.1440\n"
     ]
    },
    {
     "name": "stderr",
     "output_type": "stream",
     "text": [
      "/tmp/ipykernel_181066/892729681.py:8: FutureWarning: suggest_loguniform has been deprecated in v3.0.0. This feature will be removed in v6.0.0. See https://github.com/optuna/optuna/releases/tag/v3.0.0. Use suggest_float(..., log=True) instead.\n",
      "  learning_rate = trial.suggest_loguniform(\"learning_rate\", 1e-4, 1e-2)  # 範囲を調整\n",
      "/tmp/ipykernel_181066/892729681.py:9: FutureWarning: suggest_loguniform has been deprecated in v3.0.0. This feature will be removed in v6.0.0. See https://github.com/optuna/optuna/releases/tag/v3.0.0. Use suggest_float(..., log=True) instead.\n",
      "  weight_decay = trial.suggest_loguniform(\"weight_decay\", 1e-5, 1e-2)   # 範囲を調整\n",
      "[I 2024-11-29 18:16:24,824] Trial 23 pruned. \n",
      "[I 2024-11-29 18:16:25,397] Trial 24 pruned. \n",
      "[I 2024-11-29 18:16:25,919] Trial 25 pruned. \n",
      "[I 2024-11-29 18:16:26,464] Trial 26 pruned. \n",
      "[I 2024-11-29 18:16:27,029] Trial 27 pruned. \n",
      "[I 2024-11-29 18:16:27,551] Trial 28 pruned. \n",
      "[I 2024-11-29 18:16:48,252] Trial 29 finished with value: 0.3182192318053801 and parameters: {'hidden_units1': 298, 'hidden_units2': 144, 'hidden_units3': 108, 'hidden_units4': 56, 'dropout_rate': 0.5, 'learning_rate': 0.00017977406503024207, 'weight_decay': 0.0009628269683986329}. Best is trial 29 with value: 0.3182192318053801.\n"
     ]
    },
    {
     "name": "stdout",
     "output_type": "stream",
     "text": [
      "Early stopping at epoch 41\n",
      "Final MCC: 0.3182\n"
     ]
    },
    {
     "name": "stderr",
     "output_type": "stream",
     "text": [
      "/tmp/ipykernel_181066/892729681.py:8: FutureWarning: suggest_loguniform has been deprecated in v3.0.0. This feature will be removed in v6.0.0. See https://github.com/optuna/optuna/releases/tag/v3.0.0. Use suggest_float(..., log=True) instead.\n",
      "  learning_rate = trial.suggest_loguniform(\"learning_rate\", 1e-4, 1e-2)  # 範囲を調整\n",
      "/tmp/ipykernel_181066/892729681.py:9: FutureWarning: suggest_loguniform has been deprecated in v3.0.0. This feature will be removed in v6.0.0. See https://github.com/optuna/optuna/releases/tag/v3.0.0. Use suggest_float(..., log=True) instead.\n",
      "  weight_decay = trial.suggest_loguniform(\"weight_decay\", 1e-5, 1e-2)   # 範囲を調整\n",
      "[I 2024-11-29 18:17:10,241] Trial 30 finished with value: 0.26521925128957025 and parameters: {'hidden_units1': 332, 'hidden_units2': 144, 'hidden_units3': 128, 'hidden_units4': 58, 'dropout_rate': 0.5, 'learning_rate': 0.0001927644332330867, 'weight_decay': 0.003515563819949543}. Best is trial 29 with value: 0.3182192318053801.\n"
     ]
    },
    {
     "name": "stdout",
     "output_type": "stream",
     "text": [
      "Early stopping at epoch 46\n",
      "Final MCC: 0.2652\n"
     ]
    },
    {
     "name": "stderr",
     "output_type": "stream",
     "text": [
      "/tmp/ipykernel_181066/892729681.py:8: FutureWarning: suggest_loguniform has been deprecated in v3.0.0. This feature will be removed in v6.0.0. See https://github.com/optuna/optuna/releases/tag/v3.0.0. Use suggest_float(..., log=True) instead.\n",
      "  learning_rate = trial.suggest_loguniform(\"learning_rate\", 1e-4, 1e-2)  # 範囲を調整\n",
      "/tmp/ipykernel_181066/892729681.py:9: FutureWarning: suggest_loguniform has been deprecated in v3.0.0. This feature will be removed in v6.0.0. See https://github.com/optuna/optuna/releases/tag/v3.0.0. Use suggest_float(..., log=True) instead.\n",
      "  weight_decay = trial.suggest_loguniform(\"weight_decay\", 1e-5, 1e-2)   # 範囲を調整\n",
      "[I 2024-11-29 18:17:45,629] Trial 31 finished with value: 0.1387375951238592 and parameters: {'hidden_units1': 334, 'hidden_units2': 148, 'hidden_units3': 126, 'hidden_units4': 58, 'dropout_rate': 0.5, 'learning_rate': 0.00010356090894174411, 'weight_decay': 0.003818955536352953}. Best is trial 29 with value: 0.3182192318053801.\n"
     ]
    },
    {
     "name": "stdout",
     "output_type": "stream",
     "text": [
      "Early stopping at epoch 74\n",
      "Final MCC: 0.1387\n"
     ]
    },
    {
     "name": "stderr",
     "output_type": "stream",
     "text": [
      "/tmp/ipykernel_181066/892729681.py:8: FutureWarning: suggest_loguniform has been deprecated in v3.0.0. This feature will be removed in v6.0.0. See https://github.com/optuna/optuna/releases/tag/v3.0.0. Use suggest_float(..., log=True) instead.\n",
      "  learning_rate = trial.suggest_loguniform(\"learning_rate\", 1e-4, 1e-2)  # 範囲を調整\n",
      "/tmp/ipykernel_181066/892729681.py:9: FutureWarning: suggest_loguniform has been deprecated in v3.0.0. This feature will be removed in v6.0.0. See https://github.com/optuna/optuna/releases/tag/v3.0.0. Use suggest_float(..., log=True) instead.\n",
      "  weight_decay = trial.suggest_loguniform(\"weight_decay\", 1e-5, 1e-2)   # 範囲を調整\n",
      "[I 2024-11-29 18:18:10,192] Trial 32 finished with value: 0.14934573132646875 and parameters: {'hidden_units1': 308, 'hidden_units2': 134, 'hidden_units3': 114, 'hidden_units4': 58, 'dropout_rate': 0.45, 'learning_rate': 0.00018706686018427225, 'weight_decay': 0.004695821967852315}. Best is trial 29 with value: 0.3182192318053801.\n"
     ]
    },
    {
     "name": "stdout",
     "output_type": "stream",
     "text": [
      "Early stopping at epoch 50\n",
      "Final MCC: 0.1493\n"
     ]
    },
    {
     "name": "stderr",
     "output_type": "stream",
     "text": [
      "/tmp/ipykernel_181066/892729681.py:8: FutureWarning: suggest_loguniform has been deprecated in v3.0.0. This feature will be removed in v6.0.0. See https://github.com/optuna/optuna/releases/tag/v3.0.0. Use suggest_float(..., log=True) instead.\n",
      "  learning_rate = trial.suggest_loguniform(\"learning_rate\", 1e-4, 1e-2)  # 範囲を調整\n",
      "/tmp/ipykernel_181066/892729681.py:9: FutureWarning: suggest_loguniform has been deprecated in v3.0.0. This feature will be removed in v6.0.0. See https://github.com/optuna/optuna/releases/tag/v3.0.0. Use suggest_float(..., log=True) instead.\n",
      "  weight_decay = trial.suggest_loguniform(\"weight_decay\", 1e-5, 1e-2)   # 範囲を調整\n",
      "[I 2024-11-29 18:18:39,830] Trial 33 finished with value: 0.12894747184908975 and parameters: {'hidden_units1': 372, 'hidden_units2': 144, 'hidden_units3': 122, 'hidden_units4': 62, 'dropout_rate': 0.5, 'learning_rate': 0.00015022282786101435, 'weight_decay': 0.000919890687759764}. Best is trial 29 with value: 0.3182192318053801.\n"
     ]
    },
    {
     "name": "stdout",
     "output_type": "stream",
     "text": [
      "Early stopping at epoch 62\n",
      "Final MCC: 0.1289\n"
     ]
    },
    {
     "name": "stderr",
     "output_type": "stream",
     "text": [
      "/tmp/ipykernel_181066/892729681.py:8: FutureWarning: suggest_loguniform has been deprecated in v3.0.0. This feature will be removed in v6.0.0. See https://github.com/optuna/optuna/releases/tag/v3.0.0. Use suggest_float(..., log=True) instead.\n",
      "  learning_rate = trial.suggest_loguniform(\"learning_rate\", 1e-4, 1e-2)  # 範囲を調整\n",
      "/tmp/ipykernel_181066/892729681.py:9: FutureWarning: suggest_loguniform has been deprecated in v3.0.0. This feature will be removed in v6.0.0. See https://github.com/optuna/optuna/releases/tag/v3.0.0. Use suggest_float(..., log=True) instead.\n",
      "  weight_decay = trial.suggest_loguniform(\"weight_decay\", 1e-5, 1e-2)   # 範囲を調整\n",
      "[I 2024-11-29 18:18:40,367] Trial 34 pruned. \n",
      "[I 2024-11-29 18:18:40,883] Trial 35 pruned. \n",
      "[I 2024-11-29 18:18:41,313] Trial 36 pruned. \n",
      "[I 2024-11-29 18:19:09,304] Trial 37 finished with value: 0.2820872109772377 and parameters: {'hidden_units1': 294, 'hidden_units2': 132, 'hidden_units3': 78, 'hidden_units4': 60, 'dropout_rate': 0.5, 'learning_rate': 0.00012973503776830743, 'weight_decay': 0.0010942456882505665}. Best is trial 29 with value: 0.3182192318053801.\n"
     ]
    },
    {
     "name": "stdout",
     "output_type": "stream",
     "text": [
      "Early stopping at epoch 58\n",
      "Final MCC: 0.2821\n"
     ]
    },
    {
     "name": "stderr",
     "output_type": "stream",
     "text": [
      "/tmp/ipykernel_181066/892729681.py:8: FutureWarning: suggest_loguniform has been deprecated in v3.0.0. This feature will be removed in v6.0.0. See https://github.com/optuna/optuna/releases/tag/v3.0.0. Use suggest_float(..., log=True) instead.\n",
      "  learning_rate = trial.suggest_loguniform(\"learning_rate\", 1e-4, 1e-2)  # 範囲を調整\n",
      "/tmp/ipykernel_181066/892729681.py:9: FutureWarning: suggest_loguniform has been deprecated in v3.0.0. This feature will be removed in v6.0.0. See https://github.com/optuna/optuna/releases/tag/v3.0.0. Use suggest_float(..., log=True) instead.\n",
      "  weight_decay = trial.suggest_loguniform(\"weight_decay\", 1e-5, 1e-2)   # 範囲を調整\n",
      "[I 2024-11-29 18:19:30,709] Trial 38 finished with value: 0.23460866934707042 and parameters: {'hidden_units1': 304, 'hidden_units2': 130, 'hidden_units3': 72, 'hidden_units4': 56, 'dropout_rate': 0.5, 'learning_rate': 0.00012953076748534458, 'weight_decay': 0.0010481642030568206}. Best is trial 29 with value: 0.3182192318053801.\n"
     ]
    },
    {
     "name": "stdout",
     "output_type": "stream",
     "text": [
      "Early stopping at epoch 43\n",
      "Final MCC: 0.2346\n"
     ]
    },
    {
     "name": "stderr",
     "output_type": "stream",
     "text": [
      "/tmp/ipykernel_181066/892729681.py:8: FutureWarning: suggest_loguniform has been deprecated in v3.0.0. This feature will be removed in v6.0.0. See https://github.com/optuna/optuna/releases/tag/v3.0.0. Use suggest_float(..., log=True) instead.\n",
      "  learning_rate = trial.suggest_loguniform(\"learning_rate\", 1e-4, 1e-2)  # 範囲を調整\n",
      "/tmp/ipykernel_181066/892729681.py:9: FutureWarning: suggest_loguniform has been deprecated in v3.0.0. This feature will be removed in v6.0.0. See https://github.com/optuna/optuna/releases/tag/v3.0.0. Use suggest_float(..., log=True) instead.\n",
      "  weight_decay = trial.suggest_loguniform(\"weight_decay\", 1e-5, 1e-2)   # 範囲を調整\n",
      "[I 2024-11-29 18:20:03,171] Trial 39 finished with value: 0.059674683911495795 and parameters: {'hidden_units1': 302, 'hidden_units2': 130, 'hidden_units3': 64, 'hidden_units4': 56, 'dropout_rate': 0.5, 'learning_rate': 0.00013812023291733094, 'weight_decay': 0.0009791622099070182}. Best is trial 29 with value: 0.3182192318053801.\n"
     ]
    },
    {
     "name": "stdout",
     "output_type": "stream",
     "text": [
      "Early stopping at epoch 66\n",
      "Final MCC: 0.0597\n"
     ]
    },
    {
     "name": "stderr",
     "output_type": "stream",
     "text": [
      "/tmp/ipykernel_181066/892729681.py:8: FutureWarning: suggest_loguniform has been deprecated in v3.0.0. This feature will be removed in v6.0.0. See https://github.com/optuna/optuna/releases/tag/v3.0.0. Use suggest_float(..., log=True) instead.\n",
      "  learning_rate = trial.suggest_loguniform(\"learning_rate\", 1e-4, 1e-2)  # 範囲を調整\n",
      "/tmp/ipykernel_181066/892729681.py:9: FutureWarning: suggest_loguniform has been deprecated in v3.0.0. This feature will be removed in v6.0.0. See https://github.com/optuna/optuna/releases/tag/v3.0.0. Use suggest_float(..., log=True) instead.\n",
      "  weight_decay = trial.suggest_loguniform(\"weight_decay\", 1e-5, 1e-2)   # 範囲を調整\n",
      "[I 2024-11-29 18:20:26,697] Trial 40 finished with value: 0.10921747468225411 and parameters: {'hidden_units1': 262, 'hidden_units2': 132, 'hidden_units3': 74, 'hidden_units4': 60, 'dropout_rate': 0.5, 'learning_rate': 0.0001960110250967063, 'weight_decay': 0.002279179297394279}. Best is trial 29 with value: 0.3182192318053801.\n"
     ]
    },
    {
     "name": "stdout",
     "output_type": "stream",
     "text": [
      "Early stopping at epoch 48\n",
      "Final MCC: 0.1092\n"
     ]
    },
    {
     "name": "stderr",
     "output_type": "stream",
     "text": [
      "/tmp/ipykernel_181066/892729681.py:8: FutureWarning: suggest_loguniform has been deprecated in v3.0.0. This feature will be removed in v6.0.0. See https://github.com/optuna/optuna/releases/tag/v3.0.0. Use suggest_float(..., log=True) instead.\n",
      "  learning_rate = trial.suggest_loguniform(\"learning_rate\", 1e-4, 1e-2)  # 範囲を調整\n",
      "/tmp/ipykernel_181066/892729681.py:9: FutureWarning: suggest_loguniform has been deprecated in v3.0.0. This feature will be removed in v6.0.0. See https://github.com/optuna/optuna/releases/tag/v3.0.0. Use suggest_float(..., log=True) instead.\n",
      "  weight_decay = trial.suggest_loguniform(\"weight_decay\", 1e-5, 1e-2)   # 範囲を調整\n",
      "[I 2024-11-29 18:21:05,767] Trial 41 finished with value: 0.1460888308520382 and parameters: {'hidden_units1': 316, 'hidden_units2': 144, 'hidden_units3': 70, 'hidden_units4': 52, 'dropout_rate': 0.45, 'learning_rate': 0.00012910007532052534, 'weight_decay': 0.0015353694561590916}. Best is trial 29 with value: 0.3182192318053801.\n"
     ]
    },
    {
     "name": "stdout",
     "output_type": "stream",
     "text": [
      "Early stopping at epoch 80\n",
      "Final MCC: 0.1461\n"
     ]
    },
    {
     "name": "stderr",
     "output_type": "stream",
     "text": [
      "/tmp/ipykernel_181066/892729681.py:8: FutureWarning: suggest_loguniform has been deprecated in v3.0.0. This feature will be removed in v6.0.0. See https://github.com/optuna/optuna/releases/tag/v3.0.0. Use suggest_float(..., log=True) instead.\n",
      "  learning_rate = trial.suggest_loguniform(\"learning_rate\", 1e-4, 1e-2)  # 範囲を調整\n",
      "/tmp/ipykernel_181066/892729681.py:9: FutureWarning: suggest_loguniform has been deprecated in v3.0.0. This feature will be removed in v6.0.0. See https://github.com/optuna/optuna/releases/tag/v3.0.0. Use suggest_float(..., log=True) instead.\n",
      "  weight_decay = trial.suggest_loguniform(\"weight_decay\", 1e-5, 1e-2)   # 範囲を調整\n",
      "[I 2024-11-29 18:21:50,625] Trial 42 finished with value: 0.3255713425114916 and parameters: {'hidden_units1': 290, 'hidden_units2': 136, 'hidden_units3': 80, 'hidden_units4': 46, 'dropout_rate': 0.5, 'learning_rate': 0.00010137624965811265, 'weight_decay': 0.0004622653802629724}. Best is trial 42 with value: 0.3255713425114916.\n"
     ]
    },
    {
     "name": "stdout",
     "output_type": "stream",
     "text": [
      "Early stopping at epoch 92\n",
      "Final MCC: 0.3256\n"
     ]
    },
    {
     "name": "stderr",
     "output_type": "stream",
     "text": [
      "/tmp/ipykernel_181066/892729681.py:8: FutureWarning: suggest_loguniform has been deprecated in v3.0.0. This feature will be removed in v6.0.0. See https://github.com/optuna/optuna/releases/tag/v3.0.0. Use suggest_float(..., log=True) instead.\n",
      "  learning_rate = trial.suggest_loguniform(\"learning_rate\", 1e-4, 1e-2)  # 範囲を調整\n",
      "/tmp/ipykernel_181066/892729681.py:9: FutureWarning: suggest_loguniform has been deprecated in v3.0.0. This feature will be removed in v6.0.0. See https://github.com/optuna/optuna/releases/tag/v3.0.0. Use suggest_float(..., log=True) instead.\n",
      "  weight_decay = trial.suggest_loguniform(\"weight_decay\", 1e-5, 1e-2)   # 範囲を調整\n",
      "[I 2024-11-29 18:22:22,807] Trial 43 finished with value: 0.21261152770157649 and parameters: {'hidden_units1': 300, 'hidden_units2': 138, 'hidden_units3': 78, 'hidden_units4': 46, 'dropout_rate': 0.5, 'learning_rate': 0.00010469990334121129, 'weight_decay': 0.00044709086527900766}. Best is trial 42 with value: 0.3255713425114916.\n"
     ]
    },
    {
     "name": "stdout",
     "output_type": "stream",
     "text": [
      "Early stopping at epoch 65\n",
      "Final MCC: 0.2126\n"
     ]
    },
    {
     "name": "stderr",
     "output_type": "stream",
     "text": [
      "/tmp/ipykernel_181066/892729681.py:8: FutureWarning: suggest_loguniform has been deprecated in v3.0.0. This feature will be removed in v6.0.0. See https://github.com/optuna/optuna/releases/tag/v3.0.0. Use suggest_float(..., log=True) instead.\n",
      "  learning_rate = trial.suggest_loguniform(\"learning_rate\", 1e-4, 1e-2)  # 範囲を調整\n",
      "/tmp/ipykernel_181066/892729681.py:9: FutureWarning: suggest_loguniform has been deprecated in v3.0.0. This feature will be removed in v6.0.0. See https://github.com/optuna/optuna/releases/tag/v3.0.0. Use suggest_float(..., log=True) instead.\n",
      "  weight_decay = trial.suggest_loguniform(\"weight_decay\", 1e-5, 1e-2)   # 範囲を調整\n",
      "[I 2024-11-29 18:22:23,314] Trial 44 pruned. \n",
      "[I 2024-11-29 18:22:23,802] Trial 45 pruned. \n",
      "[I 2024-11-29 18:22:24,349] Trial 46 pruned. \n",
      "[I 2024-11-29 18:22:24,879] Trial 47 pruned. \n",
      "[I 2024-11-29 18:22:51,926] Trial 48 finished with value: 0.12976190476190477 and parameters: {'hidden_units1': 318, 'hidden_units2': 152, 'hidden_units3': 68, 'hidden_units4': 50, 'dropout_rate': 0.5, 'learning_rate': 0.00012349045868069106, 'weight_decay': 0.0007444910557751873}. Best is trial 42 with value: 0.3255713425114916.\n"
     ]
    },
    {
     "name": "stdout",
     "output_type": "stream",
     "text": [
      "Early stopping at epoch 56\n",
      "Final MCC: 0.1298\n"
     ]
    },
    {
     "name": "stderr",
     "output_type": "stream",
     "text": [
      "/tmp/ipykernel_181066/892729681.py:8: FutureWarning: suggest_loguniform has been deprecated in v3.0.0. This feature will be removed in v6.0.0. See https://github.com/optuna/optuna/releases/tag/v3.0.0. Use suggest_float(..., log=True) instead.\n",
      "  learning_rate = trial.suggest_loguniform(\"learning_rate\", 1e-4, 1e-2)  # 範囲を調整\n",
      "/tmp/ipykernel_181066/892729681.py:9: FutureWarning: suggest_loguniform has been deprecated in v3.0.0. This feature will be removed in v6.0.0. See https://github.com/optuna/optuna/releases/tag/v3.0.0. Use suggest_float(..., log=True) instead.\n",
      "  weight_decay = trial.suggest_loguniform(\"weight_decay\", 1e-5, 1e-2)   # 範囲を調整\n",
      "[I 2024-11-29 18:22:52,435] Trial 49 pruned. \n",
      "[I 2024-11-29 18:22:52,980] Trial 50 pruned. \n",
      "[I 2024-11-29 18:23:39,482] Trial 51 finished with value: 0.34288268083782364 and parameters: {'hidden_units1': 296, 'hidden_units2': 138, 'hidden_units3': 78, 'hidden_units4': 44, 'dropout_rate': 0.5, 'learning_rate': 0.00010073112489286558, 'weight_decay': 0.00047144072058257484}. Best is trial 51 with value: 0.34288268083782364.\n"
     ]
    },
    {
     "name": "stdout",
     "output_type": "stream",
     "text": [
      "Final MCC: 0.3429\n"
     ]
    },
    {
     "name": "stderr",
     "output_type": "stream",
     "text": [
      "/tmp/ipykernel_181066/892729681.py:8: FutureWarning: suggest_loguniform has been deprecated in v3.0.0. This feature will be removed in v6.0.0. See https://github.com/optuna/optuna/releases/tag/v3.0.0. Use suggest_float(..., log=True) instead.\n",
      "  learning_rate = trial.suggest_loguniform(\"learning_rate\", 1e-4, 1e-2)  # 範囲を調整\n",
      "/tmp/ipykernel_181066/892729681.py:9: FutureWarning: suggest_loguniform has been deprecated in v3.0.0. This feature will be removed in v6.0.0. See https://github.com/optuna/optuna/releases/tag/v3.0.0. Use suggest_float(..., log=True) instead.\n",
      "  weight_decay = trial.suggest_loguniform(\"weight_decay\", 1e-5, 1e-2)   # 範囲を調整\n",
      "[I 2024-11-29 18:24:23,771] Trial 52 finished with value: 0.2076159723797994 and parameters: {'hidden_units1': 268, 'hidden_units2': 200, 'hidden_units3': 74, 'hidden_units4': 46, 'dropout_rate': 0.5, 'learning_rate': 0.00014600501186337196, 'weight_decay': 0.0005398184992967472}. Best is trial 51 with value: 0.34288268083782364.\n"
     ]
    },
    {
     "name": "stdout",
     "output_type": "stream",
     "text": [
      "Early stopping at epoch 92\n",
      "Final MCC: 0.2076\n"
     ]
    },
    {
     "name": "stderr",
     "output_type": "stream",
     "text": [
      "/tmp/ipykernel_181066/892729681.py:8: FutureWarning: suggest_loguniform has been deprecated in v3.0.0. This feature will be removed in v6.0.0. See https://github.com/optuna/optuna/releases/tag/v3.0.0. Use suggest_float(..., log=True) instead.\n",
      "  learning_rate = trial.suggest_loguniform(\"learning_rate\", 1e-4, 1e-2)  # 範囲を調整\n",
      "/tmp/ipykernel_181066/892729681.py:9: FutureWarning: suggest_loguniform has been deprecated in v3.0.0. This feature will be removed in v6.0.0. See https://github.com/optuna/optuna/releases/tag/v3.0.0. Use suggest_float(..., log=True) instead.\n",
      "  weight_decay = trial.suggest_loguniform(\"weight_decay\", 1e-5, 1e-2)   # 範囲を調整\n",
      "[I 2024-11-29 18:24:24,330] Trial 53 pruned. \n",
      "[I 2024-11-29 18:24:52,315] Trial 54 finished with value: 0.27630104402889527 and parameters: {'hidden_units1': 310, 'hidden_units2': 132, 'hidden_units3': 84, 'hidden_units4': 56, 'dropout_rate': 0.5, 'learning_rate': 0.00011585902064167591, 'weight_decay': 0.0028505308492928123}. Best is trial 51 with value: 0.34288268083782364.\n"
     ]
    },
    {
     "name": "stdout",
     "output_type": "stream",
     "text": [
      "Early stopping at epoch 57\n",
      "Final MCC: 0.2763\n"
     ]
    },
    {
     "name": "stderr",
     "output_type": "stream",
     "text": [
      "/tmp/ipykernel_181066/892729681.py:8: FutureWarning: suggest_loguniform has been deprecated in v3.0.0. This feature will be removed in v6.0.0. See https://github.com/optuna/optuna/releases/tag/v3.0.0. Use suggest_float(..., log=True) instead.\n",
      "  learning_rate = trial.suggest_loguniform(\"learning_rate\", 1e-4, 1e-2)  # 範囲を調整\n",
      "/tmp/ipykernel_181066/892729681.py:9: FutureWarning: suggest_loguniform has been deprecated in v3.0.0. This feature will be removed in v6.0.0. See https://github.com/optuna/optuna/releases/tag/v3.0.0. Use suggest_float(..., log=True) instead.\n",
      "  weight_decay = trial.suggest_loguniform(\"weight_decay\", 1e-5, 1e-2)   # 範囲を調整\n",
      "[I 2024-11-29 18:24:52,812] Trial 55 pruned. \n",
      "[I 2024-11-29 18:25:38,839] Trial 56 finished with value: 0.23329951761944553 and parameters: {'hidden_units1': 280, 'hidden_units2': 148, 'hidden_units3': 86, 'hidden_units4': 60, 'dropout_rate': 0.5, 'learning_rate': 0.00011466698354225449, 'weight_decay': 0.0014959924036064382}. Best is trial 51 with value: 0.34288268083782364.\n"
     ]
    },
    {
     "name": "stdout",
     "output_type": "stream",
     "text": [
      "Early stopping at epoch 94\n",
      "Final MCC: 0.2333\n"
     ]
    },
    {
     "name": "stderr",
     "output_type": "stream",
     "text": [
      "/tmp/ipykernel_181066/892729681.py:8: FutureWarning: suggest_loguniform has been deprecated in v3.0.0. This feature will be removed in v6.0.0. See https://github.com/optuna/optuna/releases/tag/v3.0.0. Use suggest_float(..., log=True) instead.\n",
      "  learning_rate = trial.suggest_loguniform(\"learning_rate\", 1e-4, 1e-2)  # 範囲を調整\n",
      "/tmp/ipykernel_181066/892729681.py:9: FutureWarning: suggest_loguniform has been deprecated in v3.0.0. This feature will be removed in v6.0.0. See https://github.com/optuna/optuna/releases/tag/v3.0.0. Use suggest_float(..., log=True) instead.\n",
      "  weight_decay = trial.suggest_loguniform(\"weight_decay\", 1e-5, 1e-2)   # 範囲を調整\n",
      "[I 2024-11-29 18:25:39,369] Trial 57 pruned. \n",
      "[I 2024-11-29 18:25:39,912] Trial 58 pruned. \n",
      "[I 2024-11-29 18:25:40,442] Trial 59 pruned. \n",
      "[I 2024-11-29 18:26:27,394] Trial 60 finished with value: 0.11470693239496259 and parameters: {'hidden_units1': 254, 'hidden_units2': 138, 'hidden_units3': 80, 'hidden_units4': 48, 'dropout_rate': 0.45, 'learning_rate': 0.00010102508359866429, 'weight_decay': 0.0018220907911400705}. Best is trial 51 with value: 0.34288268083782364.\n"
     ]
    },
    {
     "name": "stdout",
     "output_type": "stream",
     "text": [
      "Final MCC: 0.1147\n"
     ]
    },
    {
     "name": "stderr",
     "output_type": "stream",
     "text": [
      "/tmp/ipykernel_181066/892729681.py:8: FutureWarning: suggest_loguniform has been deprecated in v3.0.0. This feature will be removed in v6.0.0. See https://github.com/optuna/optuna/releases/tag/v3.0.0. Use suggest_float(..., log=True) instead.\n",
      "  learning_rate = trial.suggest_loguniform(\"learning_rate\", 1e-4, 1e-2)  # 範囲を調整\n",
      "/tmp/ipykernel_181066/892729681.py:9: FutureWarning: suggest_loguniform has been deprecated in v3.0.0. This feature will be removed in v6.0.0. See https://github.com/optuna/optuna/releases/tag/v3.0.0. Use suggest_float(..., log=True) instead.\n",
      "  weight_decay = trial.suggest_loguniform(\"weight_decay\", 1e-5, 1e-2)   # 範囲を調整\n",
      "[I 2024-11-29 18:27:14,431] Trial 61 finished with value: 0.09910049688283866 and parameters: {'hidden_units1': 308, 'hidden_units2': 134, 'hidden_units3': 82, 'hidden_units4': 56, 'dropout_rate': 0.5, 'learning_rate': 0.00012124608247841463, 'weight_decay': 0.0012018944317148525}. Best is trial 51 with value: 0.34288268083782364.\n"
     ]
    },
    {
     "name": "stdout",
     "output_type": "stream",
     "text": [
      "Final MCC: 0.0991\n"
     ]
    },
    {
     "name": "stderr",
     "output_type": "stream",
     "text": [
      "/tmp/ipykernel_181066/892729681.py:8: FutureWarning: suggest_loguniform has been deprecated in v3.0.0. This feature will be removed in v6.0.0. See https://github.com/optuna/optuna/releases/tag/v3.0.0. Use suggest_float(..., log=True) instead.\n",
      "  learning_rate = trial.suggest_loguniform(\"learning_rate\", 1e-4, 1e-2)  # 範囲を調整\n",
      "/tmp/ipykernel_181066/892729681.py:9: FutureWarning: suggest_loguniform has been deprecated in v3.0.0. This feature will be removed in v6.0.0. See https://github.com/optuna/optuna/releases/tag/v3.0.0. Use suggest_float(..., log=True) instead.\n",
      "  weight_decay = trial.suggest_loguniform(\"weight_decay\", 1e-5, 1e-2)   # 範囲を調整\n",
      "[I 2024-11-29 18:27:14,839] Trial 62 pruned. \n",
      "[I 2024-11-29 18:27:15,237] Trial 63 pruned. \n",
      "[I 2024-11-29 18:27:15,745] Trial 64 pruned. \n",
      "[I 2024-11-29 18:27:16,350] Trial 65 pruned. \n",
      "[I 2024-11-29 18:28:02,567] Trial 66 finished with value: 0.29549860684880325 and parameters: {'hidden_units1': 336, 'hidden_units2': 150, 'hidden_units3': 88, 'hidden_units4': 62, 'dropout_rate': 0.5, 'learning_rate': 0.00011247393755582103, 'weight_decay': 0.0006235496633361003}. Best is trial 51 with value: 0.34288268083782364.\n"
     ]
    },
    {
     "name": "stdout",
     "output_type": "stream",
     "text": [
      "Final MCC: 0.2955\n"
     ]
    },
    {
     "name": "stderr",
     "output_type": "stream",
     "text": [
      "/tmp/ipykernel_181066/892729681.py:8: FutureWarning: suggest_loguniform has been deprecated in v3.0.0. This feature will be removed in v6.0.0. See https://github.com/optuna/optuna/releases/tag/v3.0.0. Use suggest_float(..., log=True) instead.\n",
      "  learning_rate = trial.suggest_loguniform(\"learning_rate\", 1e-4, 1e-2)  # 範囲を調整\n",
      "/tmp/ipykernel_181066/892729681.py:9: FutureWarning: suggest_loguniform has been deprecated in v3.0.0. This feature will be removed in v6.0.0. See https://github.com/optuna/optuna/releases/tag/v3.0.0. Use suggest_float(..., log=True) instead.\n",
      "  weight_decay = trial.suggest_loguniform(\"weight_decay\", 1e-5, 1e-2)   # 範囲を調整\n",
      "[I 2024-11-29 18:28:03,172] Trial 67 pruned. \n",
      "[I 2024-11-29 18:28:03,801] Trial 68 pruned. \n",
      "[I 2024-11-29 18:28:04,431] Trial 69 pruned. \n",
      "[I 2024-11-29 18:28:05,040] Trial 70 pruned. \n",
      "[I 2024-11-29 18:28:05,639] Trial 71 pruned. \n",
      "[I 2024-11-29 18:28:06,247] Trial 72 pruned. \n",
      "[I 2024-11-29 18:28:06,815] Trial 73 pruned. \n",
      "[I 2024-11-29 18:28:07,208] Trial 74 pruned. \n",
      "[I 2024-11-29 18:28:07,689] Trial 75 pruned. \n",
      "[I 2024-11-29 18:28:23,995] Trial 76 finished with value: 0.24185502748776122 and parameters: {'hidden_units1': 340, 'hidden_units2': 148, 'hidden_units3': 84, 'hidden_units4': 54, 'dropout_rate': 0.5, 'learning_rate': 0.00012445543227856775, 'weight_decay': 0.002550580765303259}. Best is trial 51 with value: 0.34288268083782364.\n"
     ]
    },
    {
     "name": "stdout",
     "output_type": "stream",
     "text": [
      "Early stopping at epoch 33\n",
      "Final MCC: 0.2419\n"
     ]
    },
    {
     "name": "stderr",
     "output_type": "stream",
     "text": [
      "/tmp/ipykernel_181066/892729681.py:8: FutureWarning: suggest_loguniform has been deprecated in v3.0.0. This feature will be removed in v6.0.0. See https://github.com/optuna/optuna/releases/tag/v3.0.0. Use suggest_float(..., log=True) instead.\n",
      "  learning_rate = trial.suggest_loguniform(\"learning_rate\", 1e-4, 1e-2)  # 範囲を調整\n",
      "/tmp/ipykernel_181066/892729681.py:9: FutureWarning: suggest_loguniform has been deprecated in v3.0.0. This feature will be removed in v6.0.0. See https://github.com/optuna/optuna/releases/tag/v3.0.0. Use suggest_float(..., log=True) instead.\n",
      "  weight_decay = trial.suggest_loguniform(\"weight_decay\", 1e-5, 1e-2)   # 範囲を調整\n",
      "[I 2024-11-29 18:28:52,363] Trial 77 finished with value: 0.3117538231685599 and parameters: {'hidden_units1': 344, 'hidden_units2': 150, 'hidden_units3': 84, 'hidden_units4': 52, 'dropout_rate': 0.45, 'learning_rate': 0.00010161075535340397, 'weight_decay': 0.00484226390959947}. Best is trial 51 with value: 0.34288268083782364.\n"
     ]
    },
    {
     "name": "stdout",
     "output_type": "stream",
     "text": [
      "Early stopping at epoch 55\n",
      "Final MCC: 0.3118\n"
     ]
    },
    {
     "name": "stderr",
     "output_type": "stream",
     "text": [
      "/tmp/ipykernel_181066/892729681.py:8: FutureWarning: suggest_loguniform has been deprecated in v3.0.0. This feature will be removed in v6.0.0. See https://github.com/optuna/optuna/releases/tag/v3.0.0. Use suggest_float(..., log=True) instead.\n",
      "  learning_rate = trial.suggest_loguniform(\"learning_rate\", 1e-4, 1e-2)  # 範囲を調整\n",
      "/tmp/ipykernel_181066/892729681.py:9: FutureWarning: suggest_loguniform has been deprecated in v3.0.0. This feature will be removed in v6.0.0. See https://github.com/optuna/optuna/releases/tag/v3.0.0. Use suggest_float(..., log=True) instead.\n",
      "  weight_decay = trial.suggest_loguniform(\"weight_decay\", 1e-5, 1e-2)   # 範囲を調整\n",
      "[I 2024-11-29 18:28:52,916] Trial 78 pruned. \n",
      "[I 2024-11-29 18:28:53,452] Trial 79 pruned. \n",
      "[I 2024-11-29 18:28:54,008] Trial 80 pruned. \n",
      "[I 2024-11-29 18:28:54,575] Trial 81 pruned. \n",
      "[I 2024-11-29 18:28:55,098] Trial 82 pruned. \n",
      "[I 2024-11-29 18:28:55,707] Trial 83 pruned. \n",
      "[I 2024-11-29 18:28:56,202] Trial 84 pruned. \n",
      "[I 2024-11-29 18:28:56,760] Trial 85 pruned. \n",
      "[I 2024-11-29 18:28:57,378] Trial 86 pruned. \n",
      "[I 2024-11-29 18:29:35,182] Trial 87 finished with value: 0.1456710070440686 and parameters: {'hidden_units1': 314, 'hidden_units2': 142, 'hidden_units3': 82, 'hidden_units4': 44, 'dropout_rate': 0.5, 'learning_rate': 0.00017512042654985494, 'weight_decay': 0.0026231217545678483}. Best is trial 51 with value: 0.34288268083782364.\n"
     ]
    },
    {
     "name": "stdout",
     "output_type": "stream",
     "text": [
      "Early stopping at epoch 74\n",
      "Final MCC: 0.1457\n"
     ]
    },
    {
     "name": "stderr",
     "output_type": "stream",
     "text": [
      "/tmp/ipykernel_181066/892729681.py:8: FutureWarning: suggest_loguniform has been deprecated in v3.0.0. This feature will be removed in v6.0.0. See https://github.com/optuna/optuna/releases/tag/v3.0.0. Use suggest_float(..., log=True) instead.\n",
      "  learning_rate = trial.suggest_loguniform(\"learning_rate\", 1e-4, 1e-2)  # 範囲を調整\n",
      "/tmp/ipykernel_181066/892729681.py:9: FutureWarning: suggest_loguniform has been deprecated in v3.0.0. This feature will be removed in v6.0.0. See https://github.com/optuna/optuna/releases/tag/v3.0.0. Use suggest_float(..., log=True) instead.\n",
      "  weight_decay = trial.suggest_loguniform(\"weight_decay\", 1e-5, 1e-2)   # 範囲を調整\n",
      "[I 2024-11-29 18:29:35,775] Trial 88 pruned. \n",
      "[I 2024-11-29 18:29:36,376] Trial 89 pruned. \n",
      "[I 2024-11-29 18:29:37,006] Trial 90 pruned. \n",
      "[I 2024-11-29 18:29:37,408] Trial 91 pruned. \n",
      "[I 2024-11-29 18:29:37,799] Trial 92 pruned. \n",
      "[I 2024-11-29 18:29:38,163] Trial 93 pruned. \n",
      "[I 2024-11-29 18:30:18,611] Trial 94 finished with value: 0.22245099695814544 and parameters: {'hidden_units1': 340, 'hidden_units2': 144, 'hidden_units3': 80, 'hidden_units4': 60, 'dropout_rate': 0.45, 'learning_rate': 0.00012814770745326774, 'weight_decay': 0.003640668673454433}. Best is trial 51 with value: 0.34288268083782364.\n"
     ]
    },
    {
     "name": "stdout",
     "output_type": "stream",
     "text": [
      "Early stopping at epoch 90\n",
      "Final MCC: 0.2225\n"
     ]
    },
    {
     "name": "stderr",
     "output_type": "stream",
     "text": [
      "/tmp/ipykernel_181066/892729681.py:8: FutureWarning: suggest_loguniform has been deprecated in v3.0.0. This feature will be removed in v6.0.0. See https://github.com/optuna/optuna/releases/tag/v3.0.0. Use suggest_float(..., log=True) instead.\n",
      "  learning_rate = trial.suggest_loguniform(\"learning_rate\", 1e-4, 1e-2)  # 範囲を調整\n",
      "/tmp/ipykernel_181066/892729681.py:9: FutureWarning: suggest_loguniform has been deprecated in v3.0.0. This feature will be removed in v6.0.0. See https://github.com/optuna/optuna/releases/tag/v3.0.0. Use suggest_float(..., log=True) instead.\n",
      "  weight_decay = trial.suggest_loguniform(\"weight_decay\", 1e-5, 1e-2)   # 範囲を調整\n",
      "[I 2024-11-29 18:30:19,164] Trial 95 pruned. \n",
      "[I 2024-11-29 18:30:19,702] Trial 96 pruned. \n",
      "[I 2024-11-29 18:30:54,547] Trial 97 finished with value: 0.18785216240324265 and parameters: {'hidden_units1': 284, 'hidden_units2': 134, 'hidden_units3': 118, 'hidden_units4': 58, 'dropout_rate': 0.45, 'learning_rate': 0.00019681531181822958, 'weight_decay': 0.002334097672745176}. Best is trial 51 with value: 0.34288268083782364.\n"
     ]
    },
    {
     "name": "stdout",
     "output_type": "stream",
     "text": [
      "Early stopping at epoch 71\n",
      "Final MCC: 0.1879\n"
     ]
    },
    {
     "name": "stderr",
     "output_type": "stream",
     "text": [
      "/tmp/ipykernel_181066/892729681.py:8: FutureWarning: suggest_loguniform has been deprecated in v3.0.0. This feature will be removed in v6.0.0. See https://github.com/optuna/optuna/releases/tag/v3.0.0. Use suggest_float(..., log=True) instead.\n",
      "  learning_rate = trial.suggest_loguniform(\"learning_rate\", 1e-4, 1e-2)  # 範囲を調整\n",
      "/tmp/ipykernel_181066/892729681.py:9: FutureWarning: suggest_loguniform has been deprecated in v3.0.0. This feature will be removed in v6.0.0. See https://github.com/optuna/optuna/releases/tag/v3.0.0. Use suggest_float(..., log=True) instead.\n",
      "  weight_decay = trial.suggest_loguniform(\"weight_decay\", 1e-5, 1e-2)   # 範囲を調整\n",
      "[I 2024-11-29 18:30:54,971] Trial 98 pruned. \n",
      "[I 2024-11-29 18:30:55,515] Trial 99 pruned. \n"
     ]
    },
    {
     "name": "stdout",
     "output_type": "stream",
     "text": [
      "Best Parameters:  {'hidden_units1': 296, 'hidden_units2': 138, 'hidden_units3': 78, 'hidden_units4': 44, 'dropout_rate': 0.5, 'learning_rate': 0.00010073112489286558, 'weight_decay': 0.00047144072058257484}\n",
      "Best Validation F1:  0.34288268083782364\n"
     ]
    }
   ],
   "source": [
    "device_id = 0  \n",
    "torch.cuda.set_device(device_id)\n",
    "device = torch.device(f\"cuda:{device_id}\" if torch.cuda.is_available() else \"cpu\")\n",
    "\n",
    "# Optunaの設定\n",
    "study = optuna.create_study(direction=\"maximize\")  \n",
    "study.optimize(objective, n_trials=100)\n",
    "\n",
    "# 結果表示\n",
    "print(\"Best Parameters: \", study.best_params)\n",
    "print(\"Best Validation F1: \", study.best_value)"
   ]
  },
  {
   "cell_type": "markdown",
   "metadata": {},
   "source": [
    "最適化パラメーターで再学習"
   ]
  },
  {
   "cell_type": "code",
   "execution_count": 32,
   "metadata": {},
   "outputs": [
    {
     "name": "stdout",
     "output_type": "stream",
     "text": [
      "Epoch [1/100], Loss: 0.7444\n",
      "Epoch [1/100], Train Loss: 0.7444, Val Loss: 0.7074\n",
      "Epoch [2/100], Loss: 0.6997\n",
      "Epoch [2/100], Train Loss: 0.6997, Val Loss: 0.6765\n",
      "Epoch [3/100], Loss: 0.6837\n",
      "Epoch [3/100], Train Loss: 0.6837, Val Loss: 0.6568\n",
      "Epoch [4/100], Loss: 0.6723\n",
      "Epoch [4/100], Train Loss: 0.6723, Val Loss: 0.6425\n",
      "Epoch [5/100], Loss: 0.6564\n",
      "Epoch [5/100], Train Loss: 0.6564, Val Loss: 0.6224\n",
      "Epoch [6/100], Loss: 0.6505\n",
      "Epoch [6/100], Train Loss: 0.6505, Val Loss: 0.6124\n",
      "Epoch [7/100], Loss: 0.6321\n",
      "Epoch [7/100], Train Loss: 0.6321, Val Loss: 0.6068\n",
      "Epoch [8/100], Loss: 0.6224\n",
      "Epoch [8/100], Train Loss: 0.6224, Val Loss: 0.5996\n",
      "Epoch [9/100], Loss: 0.6225\n",
      "Epoch [9/100], Train Loss: 0.6225, Val Loss: 0.5933\n",
      "Epoch [10/100], Loss: 0.6153\n",
      "Epoch [10/100], Train Loss: 0.6153, Val Loss: 0.5899\n",
      "Epoch [11/100], Loss: 0.6201\n",
      "Epoch [11/100], Train Loss: 0.6201, Val Loss: 0.5879\n",
      "Epoch [12/100], Loss: 0.6145\n",
      "Epoch [12/100], Train Loss: 0.6145, Val Loss: 0.5849\n",
      "Epoch [13/100], Loss: 0.6040\n",
      "Epoch [13/100], Train Loss: 0.6040, Val Loss: 0.5820\n",
      "Epoch [14/100], Loss: 0.6084\n",
      "Epoch [14/100], Train Loss: 0.6084, Val Loss: 0.5768\n",
      "Epoch [15/100], Loss: 0.6073\n",
      "Epoch [15/100], Train Loss: 0.6073, Val Loss: 0.5761\n",
      "Epoch [16/100], Loss: 0.6014\n",
      "Epoch [16/100], Train Loss: 0.6014, Val Loss: 0.5748\n",
      "Epoch [17/100], Loss: 0.6019\n",
      "Epoch [17/100], Train Loss: 0.6019, Val Loss: 0.5747\n",
      "Epoch [18/100], Loss: 0.5974\n",
      "Epoch [18/100], Train Loss: 0.5974, Val Loss: 0.5691\n",
      "Epoch [19/100], Loss: 0.5892\n",
      "Epoch [19/100], Train Loss: 0.5892, Val Loss: 0.5669\n",
      "Epoch [20/100], Loss: 0.5859\n",
      "Epoch [20/100], Train Loss: 0.5859, Val Loss: 0.5666\n",
      "Epoch [21/100], Loss: 0.5932\n",
      "Epoch [21/100], Train Loss: 0.5932, Val Loss: 0.5690\n",
      "Epoch [22/100], Loss: 0.5843\n",
      "Epoch [22/100], Train Loss: 0.5843, Val Loss: 0.5667\n",
      "Epoch [23/100], Loss: 0.5901\n",
      "Epoch [23/100], Train Loss: 0.5901, Val Loss: 0.5687\n",
      "Epoch [24/100], Loss: 0.5849\n",
      "Epoch [24/100], Train Loss: 0.5849, Val Loss: 0.5657\n",
      "Epoch [25/100], Loss: 0.5862\n",
      "Epoch [25/100], Train Loss: 0.5862, Val Loss: 0.5643\n",
      "Epoch [26/100], Loss: 0.5854\n",
      "Epoch [26/100], Train Loss: 0.5854, Val Loss: 0.5636\n",
      "Epoch [27/100], Loss: 0.5818\n",
      "Epoch [27/100], Train Loss: 0.5818, Val Loss: 0.5641\n",
      "Epoch [28/100], Loss: 0.5881\n",
      "Epoch [28/100], Train Loss: 0.5881, Val Loss: 0.5614\n",
      "Epoch [29/100], Loss: 0.5796\n",
      "Epoch [29/100], Train Loss: 0.5796, Val Loss: 0.5623\n",
      "Epoch [30/100], Loss: 0.5840\n",
      "Epoch [30/100], Train Loss: 0.5840, Val Loss: 0.5623\n",
      "Epoch [31/100], Loss: 0.5758\n",
      "Epoch [31/100], Train Loss: 0.5758, Val Loss: 0.5615\n",
      "Epoch [32/100], Loss: 0.5794\n",
      "Epoch [32/100], Train Loss: 0.5794, Val Loss: 0.5613\n",
      "Epoch [33/100], Loss: 0.5814\n",
      "Epoch [33/100], Train Loss: 0.5814, Val Loss: 0.5603\n",
      "Epoch [34/100], Loss: 0.5848\n",
      "Epoch [34/100], Train Loss: 0.5848, Val Loss: 0.5611\n",
      "Epoch [35/100], Loss: 0.5820\n",
      "Epoch [35/100], Train Loss: 0.5820, Val Loss: 0.5586\n",
      "Epoch [36/100], Loss: 0.5770\n",
      "Epoch [36/100], Train Loss: 0.5770, Val Loss: 0.5589\n",
      "Epoch [37/100], Loss: 0.5789\n",
      "Epoch [37/100], Train Loss: 0.5789, Val Loss: 0.5585\n",
      "Epoch [38/100], Loss: 0.5777\n",
      "Epoch [38/100], Train Loss: 0.5777, Val Loss: 0.5576\n",
      "Epoch [39/100], Loss: 0.5799\n",
      "Epoch [39/100], Train Loss: 0.5799, Val Loss: 0.5589\n",
      "Epoch [40/100], Loss: 0.5797\n",
      "Epoch [40/100], Train Loss: 0.5797, Val Loss: 0.5596\n",
      "Epoch [41/100], Loss: 0.5792\n",
      "Epoch [41/100], Train Loss: 0.5792, Val Loss: 0.5576\n",
      "Epoch [42/100], Loss: 0.5768\n",
      "Epoch [42/100], Train Loss: 0.5768, Val Loss: 0.5569\n",
      "Epoch [43/100], Loss: 0.5729\n",
      "Epoch [43/100], Train Loss: 0.5729, Val Loss: 0.5576\n",
      "Epoch [44/100], Loss: 0.5695\n",
      "Epoch [44/100], Train Loss: 0.5695, Val Loss: 0.5569\n",
      "Epoch [45/100], Loss: 0.5742\n",
      "Epoch [45/100], Train Loss: 0.5742, Val Loss: 0.5568\n",
      "Epoch [46/100], Loss: 0.5747\n",
      "Epoch [46/100], Train Loss: 0.5747, Val Loss: 0.5566\n",
      "Epoch [47/100], Loss: 0.5782\n",
      "Epoch [47/100], Train Loss: 0.5782, Val Loss: 0.5556\n",
      "Epoch [48/100], Loss: 0.5714\n",
      "Epoch [48/100], Train Loss: 0.5714, Val Loss: 0.5562\n",
      "Epoch [49/100], Loss: 0.5723\n",
      "Epoch [49/100], Train Loss: 0.5723, Val Loss: 0.5563\n",
      "Epoch [50/100], Loss: 0.5782\n",
      "Epoch [50/100], Train Loss: 0.5782, Val Loss: 0.5552\n",
      "Epoch [51/100], Loss: 0.5656\n",
      "Epoch [51/100], Train Loss: 0.5656, Val Loss: 0.5565\n",
      "Epoch [52/100], Loss: 0.5766\n",
      "Epoch [52/100], Train Loss: 0.5766, Val Loss: 0.5548\n",
      "Epoch [53/100], Loss: 0.5670\n",
      "Epoch [53/100], Train Loss: 0.5670, Val Loss: 0.5542\n",
      "Epoch [54/100], Loss: 0.5717\n",
      "Epoch [54/100], Train Loss: 0.5717, Val Loss: 0.5554\n",
      "Epoch [55/100], Loss: 0.5696\n",
      "Epoch [55/100], Train Loss: 0.5696, Val Loss: 0.5546\n",
      "Epoch [56/100], Loss: 0.5733\n",
      "Epoch [56/100], Train Loss: 0.5733, Val Loss: 0.5543\n",
      "Epoch [57/100], Loss: 0.5703\n",
      "Epoch [57/100], Train Loss: 0.5703, Val Loss: 0.5545\n",
      "Epoch [58/100], Loss: 0.5744\n",
      "Epoch [58/100], Train Loss: 0.5744, Val Loss: 0.5539\n",
      "Epoch [59/100], Loss: 0.5725\n",
      "Epoch [59/100], Train Loss: 0.5725, Val Loss: 0.5541\n",
      "Epoch [60/100], Loss: 0.5713\n",
      "Epoch [60/100], Train Loss: 0.5713, Val Loss: 0.5542\n",
      "Epoch [61/100], Loss: 0.5667\n",
      "Epoch [61/100], Train Loss: 0.5667, Val Loss: 0.5573\n",
      "Epoch [62/100], Loss: 0.5703\n",
      "Epoch [62/100], Train Loss: 0.5703, Val Loss: 0.5545\n",
      "Epoch [63/100], Loss: 0.5736\n",
      "Epoch [63/100], Train Loss: 0.5736, Val Loss: 0.5534\n",
      "Epoch [64/100], Loss: 0.5738\n",
      "Epoch [64/100], Train Loss: 0.5738, Val Loss: 0.5527\n",
      "Epoch [65/100], Loss: 0.5727\n",
      "Epoch [65/100], Train Loss: 0.5727, Val Loss: 0.5537\n",
      "Epoch [66/100], Loss: 0.5709\n",
      "Epoch [66/100], Train Loss: 0.5709, Val Loss: 0.5538\n",
      "Epoch [67/100], Loss: 0.5659\n",
      "Epoch [67/100], Train Loss: 0.5659, Val Loss: 0.5532\n",
      "Epoch [68/100], Loss: 0.5695\n",
      "Epoch [68/100], Train Loss: 0.5695, Val Loss: 0.5539\n",
      "Epoch [69/100], Loss: 0.5625\n",
      "Epoch [69/100], Train Loss: 0.5625, Val Loss: 0.5532\n",
      "Epoch [70/100], Loss: 0.5726\n",
      "Epoch [70/100], Train Loss: 0.5726, Val Loss: 0.5532\n",
      "Epoch [71/100], Loss: 0.5731\n",
      "Epoch [71/100], Train Loss: 0.5731, Val Loss: 0.5534\n",
      "Epoch [72/100], Loss: 0.5667\n",
      "Epoch [72/100], Train Loss: 0.5667, Val Loss: 0.5532\n",
      "Epoch [73/100], Loss: 0.5705\n",
      "Epoch [73/100], Train Loss: 0.5705, Val Loss: 0.5527\n",
      "Epoch [74/100], Loss: 0.5803\n",
      "Epoch [74/100], Train Loss: 0.5803, Val Loss: 0.5518\n",
      "Epoch [75/100], Loss: 0.5644\n",
      "Epoch [75/100], Train Loss: 0.5644, Val Loss: 0.5531\n",
      "Epoch [76/100], Loss: 0.5651\n",
      "Epoch [76/100], Train Loss: 0.5651, Val Loss: 0.5520\n",
      "Epoch [77/100], Loss: 0.5672\n",
      "Epoch [77/100], Train Loss: 0.5672, Val Loss: 0.5514\n",
      "Epoch [78/100], Loss: 0.5658\n",
      "Epoch [78/100], Train Loss: 0.5658, Val Loss: 0.5534\n",
      "Epoch [79/100], Loss: 0.5742\n",
      "Epoch [79/100], Train Loss: 0.5742, Val Loss: 0.5518\n",
      "Epoch [80/100], Loss: 0.5627\n",
      "Epoch [80/100], Train Loss: 0.5627, Val Loss: 0.5525\n",
      "Epoch [81/100], Loss: 0.5643\n",
      "Epoch [81/100], Train Loss: 0.5643, Val Loss: 0.5519\n",
      "Epoch [82/100], Loss: 0.5681\n",
      "Epoch [82/100], Train Loss: 0.5681, Val Loss: 0.5518\n",
      "Epoch [83/100], Loss: 0.5647\n",
      "Epoch [83/100], Train Loss: 0.5647, Val Loss: 0.5528\n",
      "Epoch [84/100], Loss: 0.5663\n",
      "Epoch [84/100], Train Loss: 0.5663, Val Loss: 0.5526\n",
      "Epoch [85/100], Loss: 0.5679\n",
      "Epoch [85/100], Train Loss: 0.5679, Val Loss: 0.5524\n",
      "Epoch [86/100], Loss: 0.5707\n",
      "Epoch [86/100], Train Loss: 0.5707, Val Loss: 0.5527\n",
      "Epoch [87/100], Loss: 0.5675\n",
      "Epoch [87/100], Train Loss: 0.5675, Val Loss: 0.5524\n",
      "Epoch [88/100], Loss: 0.5731\n",
      "Epoch [88/100], Train Loss: 0.5731, Val Loss: 0.5534\n",
      "Epoch [89/100], Loss: 0.5628\n",
      "Epoch [89/100], Train Loss: 0.5628, Val Loss: 0.5525\n",
      "Epoch [90/100], Loss: 0.5686\n",
      "Epoch [90/100], Train Loss: 0.5686, Val Loss: 0.5529\n",
      "Epoch [91/100], Loss: 0.5672\n",
      "Epoch [91/100], Train Loss: 0.5672, Val Loss: 0.5529\n",
      "Epoch [92/100], Loss: 0.5645\n",
      "Epoch [92/100], Train Loss: 0.5645, Val Loss: 0.5535\n",
      "Epoch [93/100], Loss: 0.5632\n",
      "Epoch [93/100], Train Loss: 0.5632, Val Loss: 0.5524\n",
      "Epoch [94/100], Loss: 0.5604\n",
      "Epoch [94/100], Train Loss: 0.5604, Val Loss: 0.5533\n",
      "Epoch [95/100], Loss: 0.5677\n",
      "Epoch [95/100], Train Loss: 0.5677, Val Loss: 0.5528\n",
      "Epoch [96/100], Loss: 0.5628\n",
      "Epoch [96/100], Train Loss: 0.5628, Val Loss: 0.5519\n",
      "Epoch [97/100], Loss: 0.5618\n",
      "Epoch [97/100], Train Loss: 0.5618, Val Loss: 0.5518\n",
      "Epoch [98/100], Loss: 0.5598\n",
      "Epoch [98/100], Train Loss: 0.5598, Val Loss: 0.5519\n",
      "Epoch [99/100], Loss: 0.5696\n",
      "Epoch [99/100], Train Loss: 0.5696, Val Loss: 0.5514\n",
      "Epoch [100/100], Loss: 0.5660\n",
      "Epoch [100/100], Train Loss: 0.5660, Val Loss: 0.5516\n"
     ]
    },
    {
     "data": {
      "image/png": "[encoded data removed]",
      "text/plain": [
       "<Figure size 1000x600 with 1 Axes>"
      ]
     },
     "metadata": {},
     "output_type": "display_data"
    }
   ],
   "source": [
    "best_params=study.best_params\n",
    "model = DNN(input_dim=X_train_tensor.shape[1],\n",
    "            hidden_units1=best_params[\"hidden_units1\"],\n",
    "            hidden_units2=best_params[\"hidden_units2\"],\n",
    "            hidden_units3=best_params[\"hidden_units3\"],\n",
    "            hidden_units4=best_params[\"hidden_units4\"],\n",
    "            dropout_rate=best_params[\"dropout_rate\"]\n",
    "            ).to(device)\n",
    "\n",
    "# 最適化と訓練を実行\n",
    "optimizer = optim.Adam(model.parameters(), lr=best_params[\"learning_rate\"],weight_decay=best_params[\"weight_decay\"])\n",
    "criterion = nn.BCELoss()\n",
    "\n",
    "num_epochs=100\n",
    "train_losses = []\n",
    "val_losses = []\n",
    "\n",
    "model.train()\n",
    "for epoch in range(num_epochs):\n",
    "    epoch_train_loss = 0\n",
    "    epoch_val_loss = 0\n",
    "\n",
    "    for X_batch, y_batch in train_loader:\n",
    "        X_batch, y_batch = X_batch.to(device), y_batch.to(device)\n",
    "        optimizer.zero_grad()\n",
    "        outputs = model(X_batch).squeeze()\n",
    "        loss = criterion(outputs, y_batch)\n",
    "        loss.backward()\n",
    "        optimizer.step()\n",
    "        epoch_train_loss += loss.item()\n",
    "    avg_train_loss = epoch_train_loss / len(train_loader)\n",
    "    train_losses.append(avg_train_loss)\n",
    "    print(f'Epoch [{epoch+1}/{num_epochs}], Loss: {avg_train_loss:.4f}')\n",
    "\n",
    "    if val_loader is not None:\n",
    "        model.eval()  \n",
    "        with torch.no_grad():\n",
    "            for X_val, y_val in val_loader:\n",
    "                X_val, y_val = X_val.to(device), y_val.to(device)\n",
    "                val_outputs = model(X_val).squeeze()\n",
    "                val_loss = criterion(val_outputs, y_val)\n",
    "                epoch_val_loss += val_loss.item()\n",
    "\n",
    "        avg_val_loss = epoch_val_loss / len(val_loader)\n",
    "        val_losses.append(avg_val_loss)\n",
    "        model.train()  \n",
    "\n",
    "    if val_loader is not None:\n",
    "        print(f\"Epoch [{epoch+1}/{num_epochs}], Train Loss: {avg_train_loss:.4f}, Val Loss: {avg_val_loss:.4f}\")\n",
    "    else:\n",
    "        print(f\"Epoch [{epoch+1}/{num_epochs}], Train Loss: {avg_train_loss:.4f}\")\n",
    "\n",
    "plt.figure(figsize=(10, 6))\n",
    "plt.plot(range(1, num_epochs + 1), train_losses, label='Train Loss')\n",
    "if val_losses:\n",
    "    plt.plot(range(1, num_epochs + 1), val_losses, label='Validation Loss')\n",
    "plt.xlabel('Epoch')\n",
    "plt.ylabel('Loss')\n",
    "plt.title('Learning Curve for DNN1')\n",
    "plt.legend()\n",
    "plt.grid()\n",
    "plt.show()"
   ]
  },
  {
   "cell_type": "code",
   "execution_count": 33,
   "metadata": {},
   "outputs": [
    {
     "name": "stdout",
     "output_type": "stream",
     "text": [
      "Accuracy: 60.59%\n",
      "Precision: 0.4821\n",
      "Recall: 0.2773\n",
      "F1 Score: 0.3521\n",
      "Matthews Correlation Coefficient: 0.1053\n",
      "Specificity: 0.8126\n"
     ]
    },
    {
     "data": {
      "image/png": "[encoded data removed]",
      "text/plain": [
       "<Figure size 640x480 with 1 Axes>"
      ]
     },
     "metadata": {},
     "output_type": "display_data"
    },
    {
     "data": {
      "image/png": "[encoded data removed]",
      "text/plain": [
       "<Figure size 640x480 with 1 Axes>"
      ]
     },
     "metadata": {},
     "output_type": "display_data"
    },
    {
     "data": {
      "image/png": "[encoded data removed]",
      "text/plain": [
       "<Figure size 640x480 with 1 Axes>"
      ]
     },
     "metadata": {},
     "output_type": "display_data"
    }
   ],
   "source": [
    "model.eval()\n",
    "with torch.no_grad():\n",
    "    X_test_tensor = X_test_tensor.to(device)\n",
    "    y_test_tensor = y_test_tensor.to(device)\n",
    "\n",
    "    # 予測と確率\n",
    "    test_outputs = model(X_test_tensor).squeeze()\n",
    "    predictions = (test_outputs >= 0.5).float()\n",
    "    y_true = y_test_tensor.cpu().numpy()\n",
    "    y_pred = predictions.cpu().numpy()\n",
    "    y_prob = test_outputs.cpu().numpy()\n",
    "\n",
    "# 評価指標\n",
    "    accuracy = accuracy_score(y_true, y_pred)\n",
    "    precision = precision_score(y_true, y_pred)\n",
    "    recall = recall_score(y_true, y_pred)\n",
    "    f1 = f1_score(y_true, y_pred)\n",
    "    mcc = matthews_corrcoef(y_true, y_pred)\n",
    "    specificity = recall_score(y_true, y_pred, pos_label=0)  \n",
    "    print(f'Accuracy: {accuracy * 100:.2f}%')\n",
    "    print(f'Precision: {precision:.4f}')\n",
    "    print(f'Recall: {recall:.4f}')\n",
    "    print(f'F1 Score: {f1:.4f}')\n",
    "    print(f'Matthews Correlation Coefficient: {mcc:.4f}')\n",
    "    print(f'Specificity: {specificity:.4f}')\n",
    "\n",
    "    # 混同行列（割合表示）\n",
    "    cm = confusion_matrix(y_true, y_pred, normalize='true')\n",
    "    sns.heatmap(cm, annot=True, fmt=\".2%\", cmap=\"Blues\", cbar=False)\n",
    "    plt.xlabel(\"Predicted\")\n",
    "    plt.ylabel(\"Actual\")\n",
    "    plt.title(f\"Confusion Matrix (Normalized)\")\n",
    "    plt.show()\n",
    "\n",
    "    # ROC曲線とAUC\n",
    "    fpr, tpr, thresholds = roc_curve(y_true, y_prob)\n",
    "    roc_auc = auc(fpr, tpr)\n",
    "    plt.plot(fpr, tpr, label=f'ROC curve (AUC = {roc_auc:.2f})')\n",
    "    plt.plot([0, 1], [0, 1], 'k--') \n",
    "    plt.xlabel('False Positive Rate')\n",
    "    plt.ylabel('True Positive Rate')\n",
    "    plt.title(f'ROC Curve - Model ')\n",
    "    plt.legend(loc=\"lower right\")\n",
    "    plt.show()\n",
    "\n",
    "    # Precision-Recall曲線\n",
    "    precision_curve, recall_curve, pr_thresholds = precision_recall_curve(y_true, y_prob)\n",
    "    pr_auc = auc(recall_curve, precision_curve)\n",
    "    plt.plot(recall_curve, precision_curve, label=f'PR curve (AUC = {pr_auc:.2f})')\n",
    "    plt.xlabel('Recall')\n",
    "    plt.ylabel('Precision')\n",
    "    plt.title(f'Precision-Recall Curve ')\n",
    "    plt.legend(loc=\"lower left\")\n",
    "    plt.show()    "
   ]
  },
  {
   "cell_type": "code",
   "execution_count": 34,
   "metadata": {},
   "outputs": [],
   "source": [
    "# モデルと構造を保存\n",
    "torch.save(model, '../../saved_model/DNN_1.pth')\n"
   ]
  },
  {
   "cell_type": "code",
   "execution_count": null,
   "metadata": {},
   "outputs": [],
   "source": []
  }
 ],
 "metadata": {
  "kernelspec": {
   "display_name": "torch",
   "language": "python",
   "name": "python3"
  },
  "language_info": {
   "codemirror_mode": {
    "name": "ipython",
    "version": 3
   },
   "file_extension": ".py",
   "mimetype": "text/x-python",
   "name": "python",
   "nbconvert_exporter": "python",
   "pygments_lexer": "ipython3",
   "version": "3.12.7"
  }
 },
 "nbformat": 4,
 "nbformat_minor": 2
}
