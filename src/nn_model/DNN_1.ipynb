{
 "cells": [
  {
   "cell_type": "code",
   "execution_count": 1,
   "metadata": {},
   "outputs": [],
   "source": [
    "import numpy as np\n",
    "import pandas as pd\n",
    "import matplotlib.pyplot as plt\n",
    "import seaborn as sns\n",
    "import json\n",
    "\n",
    "import torch\n",
    "import torch.nn as nn\n",
    "import torch.optim as optim\n",
    "\n",
    "import optuna\n",
    "\n",
    "from sklearn.model_selection import train_test_split\n",
    "from sklearn.metrics import confusion_matrix,accuracy_score, precision_score, recall_score, f1_score, confusion_matrix, roc_curve, auc,matthews_corrcoef, precision_recall_curve,roc_auc_score\n",
    "\n"
   ]
  },
  {
   "cell_type": "markdown",
   "metadata": {},
   "source": [
    "データ読み取り"
   ]
  },
  {
   "cell_type": "code",
   "execution_count": 49,
   "metadata": {},
   "outputs": [],
   "source": [
    "df=pd.read_csv('../../data/learning_data.csv',index_col=0)\n",
    "\n",
    "X=df.drop(columns='dengue',axis=1).values\n",
    "y=df['dengue'].values\n",
    "\n",
    "X_train, X_test, y_train, y_test = train_test_split(X, y, test_size=0.2,random_state=42)\n",
    "X_train, X_val, y_train, y_val = train_test_split(X_train, y_train, test_size=0.1,random_state=42)\n",
    "\n",
    "#torchテンソルに変換\n",
    "X_train_tensor = torch.tensor(X_train, dtype=torch.float32)\n",
    "y_train_tensor = torch.tensor(y_train, dtype=torch.float32)\n",
    "X_test_tensor = torch.tensor(X_test, dtype=torch.float32)\n",
    "y_test_tensor = torch.tensor(y_test, dtype=torch.float32)\n",
    "X_val_tensor = torch.tensor(X_val, dtype=torch.float32)\n",
    "y_val_tensor = torch.tensor(y_val, dtype=torch.float32)\n"
   ]
  },
  {
   "cell_type": "code",
   "execution_count": 50,
   "metadata": {},
   "outputs": [],
   "source": [
    "class DNN_1(nn.Module):\n",
    "    def __init__(self, input_dim,dropout_rate):\n",
    "        super(DNN_1, self).__init__()\n",
    "        self.layer1 = nn.Linear(input_dim,64)\n",
    "        self.layer2 = nn.Linear(64,32)\n",
    "        self.layer3 = nn.Linear(32, 16)\n",
    "        self.layer4 = nn.Linear(16, 8)\n",
    "        self.output_layer = nn.Linear(8, 1)\n",
    "\n",
    "        self.dropout = nn.Dropout(dropout_rate)\n",
    "        \n",
    "        \n",
    "    def forward(self, x):\n",
    "        x = torch.relu(self.layer1(x))\n",
    "        x = self.dropout(x)\n",
    "        \n",
    "        x = torch.relu(self.layer2(x))\n",
    "        x = self.dropout(x)\n",
    "\n",
    "        x = torch.relu(self.layer3(x))\n",
    "        x = self.dropout(x)\n",
    "\n",
    "        x = torch.relu(self.layer4(x))\n",
    "        x = self.dropout(x)\n",
    "\n",
    "        x = torch.sigmoid(self.output_layer(x)) \n",
    "        return x\n",
    "    "
   ]
  },
  {
   "cell_type": "markdown",
   "metadata": {},
   "source": [
    "学習データセットの作成"
   ]
  },
  {
   "cell_type": "code",
   "execution_count": 51,
   "metadata": {},
   "outputs": [],
   "source": [
    "train_dataset = torch.utils.data.TensorDataset(X_train_tensor, y_train_tensor)\n",
    "train_loader = torch.utils.data.DataLoader(dataset=train_dataset, batch_size=4, shuffle=True)\n",
    "\n",
    "val_dataset = torch.utils.data.TensorDataset(X_val_tensor, y_val_tensor)\n",
    "val_loader = torch.utils.data.DataLoader(dataset=val_dataset, batch_size=4, shuffle=False)"
   ]
  },
  {
   "cell_type": "markdown",
   "metadata": {},
   "source": [
    "Optunaの設定"
   ]
  },
  {
   "cell_type": "code",
   "execution_count": 52,
   "metadata": {},
   "outputs": [],
   "source": [
    "def objective(trial):\n",
    "    # ハイパーパラメータのサンプリング\n",
    "    dropout_rate = trial.suggest_float(\"dropout_rate\", 0, 0.5, step=0.05)\n",
    "    learning_rate = trial.suggest_loguniform(\"learning_rate\", 1e-4, 1e-1)  \n",
    "    weight_decay = trial.suggest_loguniform(\"weight_decay\", 1e-5, 1e-1)   \n",
    "\n",
    "    # モデルの定義\n",
    "    model = DNN_1(\n",
    "        input_dim=X_train_tensor.shape[1],\n",
    "        dropout_rate=dropout_rate\n",
    "    ).to(device)\n",
    "\n",
    "    criterion = nn.BCELoss()\n",
    "    optimizer = torch.optim.Adam(model.parameters(), lr=learning_rate, weight_decay=weight_decay)\n",
    "\n",
    "    # Early Stoppingの設定\n",
    "    patience = 10\n",
    "    best_val_loss = float('inf')\n",
    "    patience_counter = 0\n",
    "\n",
    "    # 訓練ループ\n",
    "    num_epochs = 100\n",
    "    for epoch in range(num_epochs):\n",
    "        model.train()\n",
    "        for X_batch, y_batch in train_loader:\n",
    "            X_batch, y_batch = X_batch.to(device), y_batch.to(device)\n",
    "            optimizer.zero_grad()\n",
    "            outputs = model(X_batch).squeeze()\n",
    "            loss = criterion(outputs, y_batch.squeeze())\n",
    "            loss.backward()\n",
    "            optimizer.step()\n",
    "\n",
    "        # バリデーション評価\n",
    "        model.eval()\n",
    "        val_loss = 0\n",
    "        val_true, val_pred = [], []\n",
    "        with torch.no_grad():\n",
    "            for X_val, y_val in val_loader:\n",
    "                X_val, y_val = X_val.to(device), y_val.to(device)\n",
    "                val_outputs = model(X_val).squeeze()\n",
    "                val_loss += criterion(val_outputs, y_val.squeeze()).item()\n",
    "                predictions = (val_outputs >0.49).float()\n",
    "                val_true.extend(y_val.cpu().numpy())\n",
    "                val_pred.extend(predictions.cpu().numpy())\n",
    "\n",
    "        val_loss /= len(val_loader)\n",
    "\n",
    "        # Early Stoppingの判定\n",
    "        if val_loss < best_val_loss:\n",
    "            best_val_loss = val_loss\n",
    "            patience_counter = 0\n",
    "        else:\n",
    "            patience_counter += 1\n",
    "\n",
    "        if patience_counter >= patience:\n",
    "            print(f\"Early stopping at epoch {epoch}\")\n",
    "            break\n",
    "\n",
    "        # Optunaのプルーニング機能\n",
    "        trial.report(val_loss, epoch)\n",
    "        if trial.should_prune():\n",
    "            raise optuna.exceptions.TrialPruned()\n",
    "\n",
    "    mcc = matthews_corrcoef(val_true, val_pred)\n",
    "    print(f\"Final MCC: {mcc:.4f}\")\n",
    "\n",
    "    return mcc  \n"
   ]
  },
  {
   "cell_type": "markdown",
   "metadata": {},
   "source": [
    "最適化"
   ]
  },
  {
   "cell_type": "code",
   "execution_count": 53,
   "metadata": {},
   "outputs": [
    {
     "name": "stderr",
     "output_type": "stream",
     "text": [
      "[I 2024-12-04 16:03:11,754] A new study created in memory with name: no-name-5b10d9ad-22dc-484f-8b4c-8ef16e1058fd\n",
      "/tmp/ipykernel_181066/812690434.py:4: FutureWarning: suggest_loguniform has been deprecated in v3.0.0. This feature will be removed in v6.0.0. See https://github.com/optuna/optuna/releases/tag/v3.0.0. Use suggest_float(..., log=True) instead.\n",
      "  learning_rate = trial.suggest_loguniform(\"learning_rate\", 1e-4, 1e-1)\n",
      "/tmp/ipykernel_181066/812690434.py:5: FutureWarning: suggest_loguniform has been deprecated in v3.0.0. This feature will be removed in v6.0.0. See https://github.com/optuna/optuna/releases/tag/v3.0.0. Use suggest_float(..., log=True) instead.\n",
      "  weight_decay = trial.suggest_loguniform(\"weight_decay\", 1e-5, 1e-1)\n",
      "[I 2024-12-04 16:05:44,706] Trial 0 finished with value: 0.0 and parameters: {'dropout_rate': 0.30000000000000004, 'learning_rate': 0.00032120320541404634, 'weight_decay': 0.040581928751169755}. Best is trial 0 with value: 0.0.\n"
     ]
    },
    {
     "name": "stdout",
     "output_type": "stream",
     "text": [
      "Early stopping at epoch 46\n",
      "Final MCC: 0.0000\n"
     ]
    },
    {
     "name": "stderr",
     "output_type": "stream",
     "text": [
      "/tmp/ipykernel_181066/812690434.py:4: FutureWarning: suggest_loguniform has been deprecated in v3.0.0. This feature will be removed in v6.0.0. See https://github.com/optuna/optuna/releases/tag/v3.0.0. Use suggest_float(..., log=True) instead.\n",
      "  learning_rate = trial.suggest_loguniform(\"learning_rate\", 1e-4, 1e-1)\n",
      "/tmp/ipykernel_181066/812690434.py:5: FutureWarning: suggest_loguniform has been deprecated in v3.0.0. This feature will be removed in v6.0.0. See https://github.com/optuna/optuna/releases/tag/v3.0.0. Use suggest_float(..., log=True) instead.\n",
      "  weight_decay = trial.suggest_loguniform(\"weight_decay\", 1e-5, 1e-1)\n",
      "[I 2024-12-04 16:06:40,352] Trial 1 finished with value: 0.0 and parameters: {'dropout_rate': 0.4, 'learning_rate': 0.01065448907548243, 'weight_decay': 3.539803209845973e-05}. Best is trial 0 with value: 0.0.\n"
     ]
    },
    {
     "name": "stdout",
     "output_type": "stream",
     "text": [
      "Early stopping at epoch 16\n",
      "Final MCC: 0.0000\n"
     ]
    },
    {
     "name": "stderr",
     "output_type": "stream",
     "text": [
      "/tmp/ipykernel_181066/812690434.py:4: FutureWarning: suggest_loguniform has been deprecated in v3.0.0. This feature will be removed in v6.0.0. See https://github.com/optuna/optuna/releases/tag/v3.0.0. Use suggest_float(..., log=True) instead.\n",
      "  learning_rate = trial.suggest_loguniform(\"learning_rate\", 1e-4, 1e-1)\n",
      "/tmp/ipykernel_181066/812690434.py:5: FutureWarning: suggest_loguniform has been deprecated in v3.0.0. This feature will be removed in v6.0.0. See https://github.com/optuna/optuna/releases/tag/v3.0.0. Use suggest_float(..., log=True) instead.\n",
      "  weight_decay = trial.suggest_loguniform(\"weight_decay\", 1e-5, 1e-1)\n",
      "[I 2024-12-04 16:07:15,682] Trial 2 finished with value: 0.0 and parameters: {'dropout_rate': 0.1, 'learning_rate': 0.013628823798296177, 'weight_decay': 5.500913475344659e-05}. Best is trial 0 with value: 0.0.\n"
     ]
    },
    {
     "name": "stdout",
     "output_type": "stream",
     "text": [
      "Early stopping at epoch 10\n",
      "Final MCC: 0.0000\n"
     ]
    },
    {
     "name": "stderr",
     "output_type": "stream",
     "text": [
      "/tmp/ipykernel_181066/812690434.py:4: FutureWarning: suggest_loguniform has been deprecated in v3.0.0. This feature will be removed in v6.0.0. See https://github.com/optuna/optuna/releases/tag/v3.0.0. Use suggest_float(..., log=True) instead.\n",
      "  learning_rate = trial.suggest_loguniform(\"learning_rate\", 1e-4, 1e-1)\n",
      "/tmp/ipykernel_181066/812690434.py:5: FutureWarning: suggest_loguniform has been deprecated in v3.0.0. This feature will be removed in v6.0.0. See https://github.com/optuna/optuna/releases/tag/v3.0.0. Use suggest_float(..., log=True) instead.\n",
      "  weight_decay = trial.suggest_loguniform(\"weight_decay\", 1e-5, 1e-1)\n",
      "[I 2024-12-04 16:07:48,435] Trial 3 finished with value: 0.0 and parameters: {'dropout_rate': 0.1, 'learning_rate': 0.0281431485798467, 'weight_decay': 0.0031393123422925606}. Best is trial 0 with value: 0.0.\n"
     ]
    },
    {
     "name": "stdout",
     "output_type": "stream",
     "text": [
      "Early stopping at epoch 10\n",
      "Final MCC: 0.0000\n"
     ]
    },
    {
     "name": "stderr",
     "output_type": "stream",
     "text": [
      "/tmp/ipykernel_181066/812690434.py:4: FutureWarning: suggest_loguniform has been deprecated in v3.0.0. This feature will be removed in v6.0.0. See https://github.com/optuna/optuna/releases/tag/v3.0.0. Use suggest_float(..., log=True) instead.\n",
      "  learning_rate = trial.suggest_loguniform(\"learning_rate\", 1e-4, 1e-1)\n",
      "/tmp/ipykernel_181066/812690434.py:5: FutureWarning: suggest_loguniform has been deprecated in v3.0.0. This feature will be removed in v6.0.0. See https://github.com/optuna/optuna/releases/tag/v3.0.0. Use suggest_float(..., log=True) instead.\n",
      "  weight_decay = trial.suggest_loguniform(\"weight_decay\", 1e-5, 1e-1)\n",
      "[I 2024-12-04 16:08:23,078] Trial 4 finished with value: 0.0 and parameters: {'dropout_rate': 0.05, 'learning_rate': 0.022022677128034743, 'weight_decay': 0.08516688913232084}. Best is trial 0 with value: 0.0.\n"
     ]
    },
    {
     "name": "stdout",
     "output_type": "stream",
     "text": [
      "Early stopping at epoch 12\n",
      "Final MCC: 0.0000\n"
     ]
    },
    {
     "name": "stderr",
     "output_type": "stream",
     "text": [
      "/tmp/ipykernel_181066/812690434.py:4: FutureWarning: suggest_loguniform has been deprecated in v3.0.0. This feature will be removed in v6.0.0. See https://github.com/optuna/optuna/releases/tag/v3.0.0. Use suggest_float(..., log=True) instead.\n",
      "  learning_rate = trial.suggest_loguniform(\"learning_rate\", 1e-4, 1e-1)\n",
      "/tmp/ipykernel_181066/812690434.py:5: FutureWarning: suggest_loguniform has been deprecated in v3.0.0. This feature will be removed in v6.0.0. See https://github.com/optuna/optuna/releases/tag/v3.0.0. Use suggest_float(..., log=True) instead.\n",
      "  weight_decay = trial.suggest_loguniform(\"weight_decay\", 1e-5, 1e-1)\n",
      "[I 2024-12-04 16:08:26,218] Trial 5 pruned. \n",
      "[I 2024-12-04 16:08:29,132] Trial 6 pruned. \n",
      "[I 2024-12-04 16:08:32,206] Trial 7 pruned. \n",
      "[I 2024-12-04 16:08:35,672] Trial 8 pruned. \n",
      "[I 2024-12-04 16:09:24,873] Trial 9 finished with value: 0.0 and parameters: {'dropout_rate': 0.0, 'learning_rate': 0.013935295943983485, 'weight_decay': 0.040382443534843986}. Best is trial 0 with value: 0.0.\n"
     ]
    },
    {
     "name": "stdout",
     "output_type": "stream",
     "text": [
      "Early stopping at epoch 16\n",
      "Final MCC: 0.0000\n"
     ]
    },
    {
     "name": "stderr",
     "output_type": "stream",
     "text": [
      "/tmp/ipykernel_181066/812690434.py:4: FutureWarning: suggest_loguniform has been deprecated in v3.0.0. This feature will be removed in v6.0.0. See https://github.com/optuna/optuna/releases/tag/v3.0.0. Use suggest_float(..., log=True) instead.\n",
      "  learning_rate = trial.suggest_loguniform(\"learning_rate\", 1e-4, 1e-1)\n",
      "/tmp/ipykernel_181066/812690434.py:5: FutureWarning: suggest_loguniform has been deprecated in v3.0.0. This feature will be removed in v6.0.0. See https://github.com/optuna/optuna/releases/tag/v3.0.0. Use suggest_float(..., log=True) instead.\n",
      "  weight_decay = trial.suggest_loguniform(\"weight_decay\", 1e-5, 1e-1)\n",
      "[I 2024-12-04 16:09:31,248] Trial 10 pruned. \n",
      "[I 2024-12-04 16:09:34,153] Trial 11 pruned. \n",
      "[I 2024-12-04 16:09:37,268] Trial 12 pruned. \n",
      "[I 2024-12-04 16:10:19,930] Trial 13 finished with value: -0.07142857142857142 and parameters: {'dropout_rate': 0.45, 'learning_rate': 0.09743975129780719, 'weight_decay': 0.00023424092372742125}. Best is trial 0 with value: 0.0.\n"
     ]
    },
    {
     "name": "stdout",
     "output_type": "stream",
     "text": [
      "Early stopping at epoch 13\n",
      "Final MCC: -0.0714\n"
     ]
    },
    {
     "name": "stderr",
     "output_type": "stream",
     "text": [
      "/tmp/ipykernel_181066/812690434.py:4: FutureWarning: suggest_loguniform has been deprecated in v3.0.0. This feature will be removed in v6.0.0. See https://github.com/optuna/optuna/releases/tag/v3.0.0. Use suggest_float(..., log=True) instead.\n",
      "  learning_rate = trial.suggest_loguniform(\"learning_rate\", 1e-4, 1e-1)\n",
      "/tmp/ipykernel_181066/812690434.py:5: FutureWarning: suggest_loguniform has been deprecated in v3.0.0. This feature will be removed in v6.0.0. See https://github.com/optuna/optuna/releases/tag/v3.0.0. Use suggest_float(..., log=True) instead.\n",
      "  weight_decay = trial.suggest_loguniform(\"weight_decay\", 1e-5, 1e-1)\n",
      "[I 2024-12-04 16:10:23,020] Trial 14 pruned. \n",
      "[I 2024-12-04 16:10:26,301] Trial 15 pruned. \n",
      "[I 2024-12-04 16:10:32,262] Trial 16 pruned. \n",
      "[I 2024-12-04 16:10:38,135] Trial 17 pruned. \n",
      "[I 2024-12-04 16:10:40,539] Trial 18 pruned. \n",
      "[I 2024-12-04 16:10:43,585] Trial 19 pruned. \n",
      "[I 2024-12-04 16:10:46,708] Trial 20 pruned. \n",
      "[I 2024-12-04 16:10:49,740] Trial 21 pruned. \n",
      "[I 2024-12-04 16:10:55,934] Trial 22 pruned. \n",
      "[I 2024-12-04 16:10:59,167] Trial 23 pruned. \n",
      "[I 2024-12-04 16:11:02,346] Trial 24 pruned. \n",
      "[I 2024-12-04 16:11:05,500] Trial 25 pruned. \n",
      "[I 2024-12-04 16:11:11,600] Trial 26 pruned. \n",
      "[I 2024-12-04 16:11:14,712] Trial 27 pruned. \n",
      "[I 2024-12-04 16:12:07,500] Trial 28 finished with value: 0.0 and parameters: {'dropout_rate': 0.25, 'learning_rate': 0.01018177272828935, 'weight_decay': 0.0005649041941959949}. Best is trial 0 with value: 0.0.\n"
     ]
    },
    {
     "name": "stdout",
     "output_type": "stream",
     "text": [
      "Early stopping at epoch 16\n",
      "Final MCC: 0.0000\n"
     ]
    },
    {
     "name": "stderr",
     "output_type": "stream",
     "text": [
      "/tmp/ipykernel_181066/812690434.py:4: FutureWarning: suggest_loguniform has been deprecated in v3.0.0. This feature will be removed in v6.0.0. See https://github.com/optuna/optuna/releases/tag/v3.0.0. Use suggest_float(..., log=True) instead.\n",
      "  learning_rate = trial.suggest_loguniform(\"learning_rate\", 1e-4, 1e-1)\n",
      "/tmp/ipykernel_181066/812690434.py:5: FutureWarning: suggest_loguniform has been deprecated in v3.0.0. This feature will be removed in v6.0.0. See https://github.com/optuna/optuna/releases/tag/v3.0.0. Use suggest_float(..., log=True) instead.\n",
      "  weight_decay = trial.suggest_loguniform(\"weight_decay\", 1e-5, 1e-1)\n",
      "[I 2024-12-04 16:12:10,616] Trial 29 pruned. \n",
      "[I 2024-12-04 16:12:13,677] Trial 30 pruned. \n",
      "[I 2024-12-04 16:12:54,303] Trial 31 finished with value: 0.0 and parameters: {'dropout_rate': 0.05, 'learning_rate': 0.02747417033094975, 'weight_decay': 0.036925276110843744}. Best is trial 0 with value: 0.0.\n"
     ]
    },
    {
     "name": "stdout",
     "output_type": "stream",
     "text": [
      "Early stopping at epoch 12\n",
      "Final MCC: 0.0000\n"
     ]
    },
    {
     "name": "stderr",
     "output_type": "stream",
     "text": [
      "/tmp/ipykernel_181066/812690434.py:4: FutureWarning: suggest_loguniform has been deprecated in v3.0.0. This feature will be removed in v6.0.0. See https://github.com/optuna/optuna/releases/tag/v3.0.0. Use suggest_float(..., log=True) instead.\n",
      "  learning_rate = trial.suggest_loguniform(\"learning_rate\", 1e-4, 1e-1)\n",
      "/tmp/ipykernel_181066/812690434.py:5: FutureWarning: suggest_loguniform has been deprecated in v3.0.0. This feature will be removed in v6.0.0. See https://github.com/optuna/optuna/releases/tag/v3.0.0. Use suggest_float(..., log=True) instead.\n",
      "  weight_decay = trial.suggest_loguniform(\"weight_decay\", 1e-5, 1e-1)\n",
      "[I 2024-12-04 16:12:57,499] Trial 32 pruned. \n",
      "[I 2024-12-04 16:13:40,391] Trial 33 finished with value: 0.0 and parameters: {'dropout_rate': 0.15000000000000002, 'learning_rate': 0.07097956241828236, 'weight_decay': 0.002076487434659302}. Best is trial 0 with value: 0.0.\n"
     ]
    },
    {
     "name": "stdout",
     "output_type": "stream",
     "text": [
      "Early stopping at epoch 13\n",
      "Final MCC: 0.0000\n"
     ]
    },
    {
     "name": "stderr",
     "output_type": "stream",
     "text": [
      "/tmp/ipykernel_181066/812690434.py:4: FutureWarning: suggest_loguniform has been deprecated in v3.0.0. This feature will be removed in v6.0.0. See https://github.com/optuna/optuna/releases/tag/v3.0.0. Use suggest_float(..., log=True) instead.\n",
      "  learning_rate = trial.suggest_loguniform(\"learning_rate\", 1e-4, 1e-1)\n",
      "/tmp/ipykernel_181066/812690434.py:5: FutureWarning: suggest_loguniform has been deprecated in v3.0.0. This feature will be removed in v6.0.0. See https://github.com/optuna/optuna/releases/tag/v3.0.0. Use suggest_float(..., log=True) instead.\n",
      "  weight_decay = trial.suggest_loguniform(\"weight_decay\", 1e-5, 1e-1)\n",
      "[I 2024-12-04 16:13:43,176] Trial 34 pruned. \n",
      "[I 2024-12-04 16:15:25,002] Trial 35 finished with value: 0.0 and parameters: {'dropout_rate': 0.1, 'learning_rate': 0.0012126547682390738, 'weight_decay': 0.057811431291089004}. Best is trial 0 with value: 0.0.\n"
     ]
    },
    {
     "name": "stdout",
     "output_type": "stream",
     "text": [
      "Early stopping at epoch 32\n",
      "Final MCC: 0.0000\n"
     ]
    },
    {
     "name": "stderr",
     "output_type": "stream",
     "text": [
      "/tmp/ipykernel_181066/812690434.py:4: FutureWarning: suggest_loguniform has been deprecated in v3.0.0. This feature will be removed in v6.0.0. See https://github.com/optuna/optuna/releases/tag/v3.0.0. Use suggest_float(..., log=True) instead.\n",
      "  learning_rate = trial.suggest_loguniform(\"learning_rate\", 1e-4, 1e-1)\n",
      "/tmp/ipykernel_181066/812690434.py:5: FutureWarning: suggest_loguniform has been deprecated in v3.0.0. This feature will be removed in v6.0.0. See https://github.com/optuna/optuna/releases/tag/v3.0.0. Use suggest_float(..., log=True) instead.\n",
      "  weight_decay = trial.suggest_loguniform(\"weight_decay\", 1e-5, 1e-1)\n",
      "[I 2024-12-04 16:15:28,037] Trial 36 pruned. \n",
      "[I 2024-12-04 16:15:30,788] Trial 37 pruned. \n",
      "[I 2024-12-04 16:15:33,972] Trial 38 pruned. \n",
      "[I 2024-12-04 16:15:36,899] Trial 39 pruned. \n",
      "[I 2024-12-04 16:15:39,884] Trial 40 pruned. \n",
      "[I 2024-12-04 16:15:42,980] Trial 41 pruned. \n",
      "[I 2024-12-04 16:15:45,990] Trial 42 pruned. \n",
      "[I 2024-12-04 16:15:48,816] Trial 43 pruned. \n",
      "[I 2024-12-04 16:15:51,956] Trial 44 pruned. \n",
      "[I 2024-12-04 16:15:55,101] Trial 45 pruned. \n",
      "[I 2024-12-04 16:15:58,028] Trial 46 pruned. \n",
      "[I 2024-12-04 16:18:03,027] Trial 47 finished with value: 0.0 and parameters: {'dropout_rate': 0.35000000000000003, 'learning_rate': 0.0006128853258612079, 'weight_decay': 0.05882230070429497}. Best is trial 0 with value: 0.0.\n"
     ]
    },
    {
     "name": "stdout",
     "output_type": "stream",
     "text": [
      "Early stopping at epoch 39\n",
      "Final MCC: 0.0000\n"
     ]
    },
    {
     "name": "stderr",
     "output_type": "stream",
     "text": [
      "/tmp/ipykernel_181066/812690434.py:4: FutureWarning: suggest_loguniform has been deprecated in v3.0.0. This feature will be removed in v6.0.0. See https://github.com/optuna/optuna/releases/tag/v3.0.0. Use suggest_float(..., log=True) instead.\n",
      "  learning_rate = trial.suggest_loguniform(\"learning_rate\", 1e-4, 1e-1)\n",
      "/tmp/ipykernel_181066/812690434.py:5: FutureWarning: suggest_loguniform has been deprecated in v3.0.0. This feature will be removed in v6.0.0. See https://github.com/optuna/optuna/releases/tag/v3.0.0. Use suggest_float(..., log=True) instead.\n",
      "  weight_decay = trial.suggest_loguniform(\"weight_decay\", 1e-5, 1e-1)\n",
      "[I 2024-12-04 16:18:06,622] Trial 48 pruned. \n",
      "[I 2024-12-04 16:21:34,658] Trial 49 finished with value: 0.23960336183731895 and parameters: {'dropout_rate': 0.1, 'learning_rate': 0.00010807010455172024, 'weight_decay': 0.001365000713070354}. Best is trial 49 with value: 0.23960336183731895.\n"
     ]
    },
    {
     "name": "stdout",
     "output_type": "stream",
     "text": [
      "Early stopping at epoch 58\n",
      "Final MCC: 0.2396\n"
     ]
    },
    {
     "name": "stderr",
     "output_type": "stream",
     "text": [
      "/tmp/ipykernel_181066/812690434.py:4: FutureWarning: suggest_loguniform has been deprecated in v3.0.0. This feature will be removed in v6.0.0. See https://github.com/optuna/optuna/releases/tag/v3.0.0. Use suggest_float(..., log=True) instead.\n",
      "  learning_rate = trial.suggest_loguniform(\"learning_rate\", 1e-4, 1e-1)\n",
      "/tmp/ipykernel_181066/812690434.py:5: FutureWarning: suggest_loguniform has been deprecated in v3.0.0. This feature will be removed in v6.0.0. See https://github.com/optuna/optuna/releases/tag/v3.0.0. Use suggest_float(..., log=True) instead.\n",
      "  weight_decay = trial.suggest_loguniform(\"weight_decay\", 1e-5, 1e-1)\n",
      "[I 2024-12-04 16:21:38,124] Trial 50 pruned. \n",
      "[I 2024-12-04 16:21:41,596] Trial 51 pruned. \n",
      "[I 2024-12-04 16:21:45,040] Trial 52 pruned. \n",
      "[I 2024-12-04 16:21:48,495] Trial 53 pruned. \n",
      "[I 2024-12-04 16:21:52,000] Trial 54 pruned. \n",
      "[I 2024-12-04 16:21:55,478] Trial 55 pruned. \n",
      "[I 2024-12-04 16:21:58,780] Trial 56 pruned. \n",
      "[I 2024-12-04 16:25:13,107] Trial 57 finished with value: 0.2904818397905802 and parameters: {'dropout_rate': 0.35000000000000003, 'learning_rate': 0.00010857496111793689, 'weight_decay': 3.494348433313182e-05}. Best is trial 57 with value: 0.2904818397905802.\n"
     ]
    },
    {
     "name": "stdout",
     "output_type": "stream",
     "text": [
      "Early stopping at epoch 54\n",
      "Final MCC: 0.2905\n"
     ]
    },
    {
     "name": "stderr",
     "output_type": "stream",
     "text": [
      "/tmp/ipykernel_181066/812690434.py:4: FutureWarning: suggest_loguniform has been deprecated in v3.0.0. This feature will be removed in v6.0.0. See https://github.com/optuna/optuna/releases/tag/v3.0.0. Use suggest_float(..., log=True) instead.\n",
      "  learning_rate = trial.suggest_loguniform(\"learning_rate\", 1e-4, 1e-1)\n",
      "/tmp/ipykernel_181066/812690434.py:5: FutureWarning: suggest_loguniform has been deprecated in v3.0.0. This feature will be removed in v6.0.0. See https://github.com/optuna/optuna/releases/tag/v3.0.0. Use suggest_float(..., log=True) instead.\n",
      "  weight_decay = trial.suggest_loguniform(\"weight_decay\", 1e-5, 1e-1)\n",
      "[I 2024-12-04 16:25:16,834] Trial 58 pruned. \n",
      "[I 2024-12-04 16:25:20,877] Trial 59 pruned. \n",
      "[I 2024-12-04 16:25:24,721] Trial 60 pruned. \n",
      "[I 2024-12-04 16:28:51,537] Trial 61 finished with value: 0.28822639439987935 and parameters: {'dropout_rate': 0.35000000000000003, 'learning_rate': 0.00010130953272835106, 'weight_decay': 6.121577021058211e-05}. Best is trial 57 with value: 0.2904818397905802.\n"
     ]
    },
    {
     "name": "stdout",
     "output_type": "stream",
     "text": [
      "Early stopping at epoch 57\n",
      "Final MCC: 0.2882\n"
     ]
    },
    {
     "name": "stderr",
     "output_type": "stream",
     "text": [
      "/tmp/ipykernel_181066/812690434.py:4: FutureWarning: suggest_loguniform has been deprecated in v3.0.0. This feature will be removed in v6.0.0. See https://github.com/optuna/optuna/releases/tag/v3.0.0. Use suggest_float(..., log=True) instead.\n",
      "  learning_rate = trial.suggest_loguniform(\"learning_rate\", 1e-4, 1e-1)\n",
      "/tmp/ipykernel_181066/812690434.py:5: FutureWarning: suggest_loguniform has been deprecated in v3.0.0. This feature will be removed in v6.0.0. See https://github.com/optuna/optuna/releases/tag/v3.0.0. Use suggest_float(..., log=True) instead.\n",
      "  weight_decay = trial.suggest_loguniform(\"weight_decay\", 1e-5, 1e-1)\n",
      "[I 2024-12-04 16:28:55,352] Trial 62 pruned. \n",
      "[I 2024-12-04 16:31:35,307] Trial 63 finished with value: 0.3238620405592368 and parameters: {'dropout_rate': 0.4, 'learning_rate': 0.00010336013884046553, 'weight_decay': 1.541972005167913e-05}. Best is trial 63 with value: 0.3238620405592368.\n"
     ]
    },
    {
     "name": "stdout",
     "output_type": "stream",
     "text": [
      "Early stopping at epoch 43\n",
      "Final MCC: 0.3239\n"
     ]
    },
    {
     "name": "stderr",
     "output_type": "stream",
     "text": [
      "/tmp/ipykernel_181066/812690434.py:4: FutureWarning: suggest_loguniform has been deprecated in v3.0.0. This feature will be removed in v6.0.0. See https://github.com/optuna/optuna/releases/tag/v3.0.0. Use suggest_float(..., log=True) instead.\n",
      "  learning_rate = trial.suggest_loguniform(\"learning_rate\", 1e-4, 1e-1)\n",
      "/tmp/ipykernel_181066/812690434.py:5: FutureWarning: suggest_loguniform has been deprecated in v3.0.0. This feature will be removed in v6.0.0. See https://github.com/optuna/optuna/releases/tag/v3.0.0. Use suggest_float(..., log=True) instead.\n",
      "  weight_decay = trial.suggest_loguniform(\"weight_decay\", 1e-5, 1e-1)\n",
      "[I 2024-12-04 16:31:38,971] Trial 64 pruned. \n",
      "[I 2024-12-04 16:31:42,673] Trial 65 pruned. \n",
      "[I 2024-12-04 16:31:46,437] Trial 66 pruned. \n",
      "[I 2024-12-04 16:33:29,826] Trial 67 finished with value: 0.33186358504663327 and parameters: {'dropout_rate': 0.35000000000000003, 'learning_rate': 0.0002177616093605527, 'weight_decay': 0.0001647271314588826}. Best is trial 67 with value: 0.33186358504663327.\n"
     ]
    },
    {
     "name": "stdout",
     "output_type": "stream",
     "text": [
      "Early stopping at epoch 27\n",
      "Final MCC: 0.3319\n"
     ]
    },
    {
     "name": "stderr",
     "output_type": "stream",
     "text": [
      "/tmp/ipykernel_181066/812690434.py:4: FutureWarning: suggest_loguniform has been deprecated in v3.0.0. This feature will be removed in v6.0.0. See https://github.com/optuna/optuna/releases/tag/v3.0.0. Use suggest_float(..., log=True) instead.\n",
      "  learning_rate = trial.suggest_loguniform(\"learning_rate\", 1e-4, 1e-1)\n",
      "/tmp/ipykernel_181066/812690434.py:5: FutureWarning: suggest_loguniform has been deprecated in v3.0.0. This feature will be removed in v6.0.0. See https://github.com/optuna/optuna/releases/tag/v3.0.0. Use suggest_float(..., log=True) instead.\n",
      "  weight_decay = trial.suggest_loguniform(\"weight_decay\", 1e-5, 1e-1)\n",
      "[I 2024-12-04 16:33:33,601] Trial 68 pruned. \n",
      "[I 2024-12-04 16:33:37,278] Trial 69 pruned. \n",
      "[I 2024-12-04 16:33:41,050] Trial 70 pruned. \n",
      "[I 2024-12-04 16:33:44,901] Trial 71 pruned. \n",
      "[I 2024-12-04 16:38:06,275] Trial 72 finished with value: 0.3238620405592368 and parameters: {'dropout_rate': 0.35000000000000003, 'learning_rate': 0.00010106004460718199, 'weight_decay': 4.413710886836053e-05}. Best is trial 67 with value: 0.33186358504663327.\n"
     ]
    },
    {
     "name": "stdout",
     "output_type": "stream",
     "text": [
      "Early stopping at epoch 67\n",
      "Final MCC: 0.3239\n"
     ]
    },
    {
     "name": "stderr",
     "output_type": "stream",
     "text": [
      "/tmp/ipykernel_181066/812690434.py:4: FutureWarning: suggest_loguniform has been deprecated in v3.0.0. This feature will be removed in v6.0.0. See https://github.com/optuna/optuna/releases/tag/v3.0.0. Use suggest_float(..., log=True) instead.\n",
      "  learning_rate = trial.suggest_loguniform(\"learning_rate\", 1e-4, 1e-1)\n",
      "/tmp/ipykernel_181066/812690434.py:5: FutureWarning: suggest_loguniform has been deprecated in v3.0.0. This feature will be removed in v6.0.0. See https://github.com/optuna/optuna/releases/tag/v3.0.0. Use suggest_float(..., log=True) instead.\n",
      "  weight_decay = trial.suggest_loguniform(\"weight_decay\", 1e-5, 1e-1)\n",
      "[I 2024-12-04 16:38:10,201] Trial 73 pruned. \n",
      "[I 2024-12-04 16:38:14,336] Trial 74 pruned. \n",
      "[I 2024-12-04 16:42:27,190] Trial 75 finished with value: 0.3295017884191656 and parameters: {'dropout_rate': 0.45, 'learning_rate': 0.00013678173737581822, 'weight_decay': 0.0001410316372163552}. Best is trial 67 with value: 0.33186358504663327.\n"
     ]
    },
    {
     "name": "stdout",
     "output_type": "stream",
     "text": [
      "Early stopping at epoch 65\n",
      "Final MCC: 0.3295\n"
     ]
    },
    {
     "name": "stderr",
     "output_type": "stream",
     "text": [
      "/tmp/ipykernel_181066/812690434.py:4: FutureWarning: suggest_loguniform has been deprecated in v3.0.0. This feature will be removed in v6.0.0. See https://github.com/optuna/optuna/releases/tag/v3.0.0. Use suggest_float(..., log=True) instead.\n",
      "  learning_rate = trial.suggest_loguniform(\"learning_rate\", 1e-4, 1e-1)\n",
      "/tmp/ipykernel_181066/812690434.py:5: FutureWarning: suggest_loguniform has been deprecated in v3.0.0. This feature will be removed in v6.0.0. See https://github.com/optuna/optuna/releases/tag/v3.0.0. Use suggest_float(..., log=True) instead.\n",
      "  weight_decay = trial.suggest_loguniform(\"weight_decay\", 1e-5, 1e-1)\n",
      "[I 2024-12-04 16:45:46,257] Trial 76 finished with value: 0.0 and parameters: {'dropout_rate': 0.45, 'learning_rate': 0.00013725076519172512, 'weight_decay': 0.00012531582112467469}. Best is trial 67 with value: 0.33186358504663327.\n"
     ]
    },
    {
     "name": "stdout",
     "output_type": "stream",
     "text": [
      "Early stopping at epoch 51\n",
      "Final MCC: 0.0000\n"
     ]
    },
    {
     "name": "stderr",
     "output_type": "stream",
     "text": [
      "/tmp/ipykernel_181066/812690434.py:4: FutureWarning: suggest_loguniform has been deprecated in v3.0.0. This feature will be removed in v6.0.0. See https://github.com/optuna/optuna/releases/tag/v3.0.0. Use suggest_float(..., log=True) instead.\n",
      "  learning_rate = trial.suggest_loguniform(\"learning_rate\", 1e-4, 1e-1)\n",
      "/tmp/ipykernel_181066/812690434.py:5: FutureWarning: suggest_loguniform has been deprecated in v3.0.0. This feature will be removed in v6.0.0. See https://github.com/optuna/optuna/releases/tag/v3.0.0. Use suggest_float(..., log=True) instead.\n",
      "  weight_decay = trial.suggest_loguniform(\"weight_decay\", 1e-5, 1e-1)\n",
      "[I 2024-12-04 16:45:50,118] Trial 77 pruned. \n",
      "[I 2024-12-04 16:50:13,129] Trial 78 finished with value: 0.2533301124386585 and parameters: {'dropout_rate': 0.25, 'learning_rate': 0.00012991528481279057, 'weight_decay': 3.0731919348304456e-05}. Best is trial 67 with value: 0.33186358504663327.\n"
     ]
    },
    {
     "name": "stdout",
     "output_type": "stream",
     "text": [
      "Early stopping at epoch 68\n",
      "Final MCC: 0.2533\n"
     ]
    },
    {
     "name": "stderr",
     "output_type": "stream",
     "text": [
      "/tmp/ipykernel_181066/812690434.py:4: FutureWarning: suggest_loguniform has been deprecated in v3.0.0. This feature will be removed in v6.0.0. See https://github.com/optuna/optuna/releases/tag/v3.0.0. Use suggest_float(..., log=True) instead.\n",
      "  learning_rate = trial.suggest_loguniform(\"learning_rate\", 1e-4, 1e-1)\n",
      "/tmp/ipykernel_181066/812690434.py:5: FutureWarning: suggest_loguniform has been deprecated in v3.0.0. This feature will be removed in v6.0.0. See https://github.com/optuna/optuna/releases/tag/v3.0.0. Use suggest_float(..., log=True) instead.\n",
      "  weight_decay = trial.suggest_loguniform(\"weight_decay\", 1e-5, 1e-1)\n",
      "[I 2024-12-04 16:50:16,986] Trial 79 pruned. \n",
      "[I 2024-12-04 16:53:28,685] Trial 80 finished with value: 0.29817371283399563 and parameters: {'dropout_rate': 0.45, 'learning_rate': 0.00015926115031850434, 'weight_decay': 6.5763654287087e-05}. Best is trial 67 with value: 0.33186358504663327.\n"
     ]
    },
    {
     "name": "stdout",
     "output_type": "stream",
     "text": [
      "Early stopping at epoch 48\n",
      "Final MCC: 0.2982\n"
     ]
    },
    {
     "name": "stderr",
     "output_type": "stream",
     "text": [
      "/tmp/ipykernel_181066/812690434.py:4: FutureWarning: suggest_loguniform has been deprecated in v3.0.0. This feature will be removed in v6.0.0. See https://github.com/optuna/optuna/releases/tag/v3.0.0. Use suggest_float(..., log=True) instead.\n",
      "  learning_rate = trial.suggest_loguniform(\"learning_rate\", 1e-4, 1e-1)\n",
      "/tmp/ipykernel_181066/812690434.py:5: FutureWarning: suggest_loguniform has been deprecated in v3.0.0. This feature will be removed in v6.0.0. See https://github.com/optuna/optuna/releases/tag/v3.0.0. Use suggest_float(..., log=True) instead.\n",
      "  weight_decay = trial.suggest_loguniform(\"weight_decay\", 1e-5, 1e-1)\n",
      "[I 2024-12-04 16:53:32,600] Trial 81 pruned. \n",
      "[I 2024-12-04 16:57:32,850] Trial 82 finished with value: 0.29068518436261376 and parameters: {'dropout_rate': 0.45, 'learning_rate': 0.0001485924577067095, 'weight_decay': 9.890274620074636e-05}. Best is trial 67 with value: 0.33186358504663327.\n"
     ]
    },
    {
     "name": "stdout",
     "output_type": "stream",
     "text": [
      "Early stopping at epoch 61\n",
      "Final MCC: 0.2907\n"
     ]
    },
    {
     "name": "stderr",
     "output_type": "stream",
     "text": [
      "/tmp/ipykernel_181066/812690434.py:4: FutureWarning: suggest_loguniform has been deprecated in v3.0.0. This feature will be removed in v6.0.0. See https://github.com/optuna/optuna/releases/tag/v3.0.0. Use suggest_float(..., log=True) instead.\n",
      "  learning_rate = trial.suggest_loguniform(\"learning_rate\", 1e-4, 1e-1)\n",
      "/tmp/ipykernel_181066/812690434.py:5: FutureWarning: suggest_loguniform has been deprecated in v3.0.0. This feature will be removed in v6.0.0. See https://github.com/optuna/optuna/releases/tag/v3.0.0. Use suggest_float(..., log=True) instead.\n",
      "  weight_decay = trial.suggest_loguniform(\"weight_decay\", 1e-5, 1e-1)\n",
      "[I 2024-12-04 16:57:36,762] Trial 83 pruned. \n",
      "[I 2024-12-04 16:57:40,609] Trial 84 pruned. \n",
      "[I 2024-12-04 16:57:44,464] Trial 85 pruned. \n",
      "[I 2024-12-04 16:57:48,363] Trial 86 pruned. \n",
      "[I 2024-12-04 16:57:52,341] Trial 87 pruned. \n",
      "[I 2024-12-04 16:57:56,370] Trial 88 pruned. \n",
      "[I 2024-12-04 16:58:00,541] Trial 89 pruned. \n",
      "[I 2024-12-04 16:58:04,687] Trial 90 pruned. \n",
      "[I 2024-12-04 16:58:08,533] Trial 91 pruned. \n",
      "[I 2024-12-04 17:00:58,199] Trial 92 finished with value: 0.32963901647465516 and parameters: {'dropout_rate': 0.5, 'learning_rate': 0.0001618467045824722, 'weight_decay': 1.7081203944640433e-05}. Best is trial 67 with value: 0.33186358504663327.\n"
     ]
    },
    {
     "name": "stdout",
     "output_type": "stream",
     "text": [
      "Early stopping at epoch 43\n",
      "Final MCC: 0.3296\n"
     ]
    },
    {
     "name": "stderr",
     "output_type": "stream",
     "text": [
      "/tmp/ipykernel_181066/812690434.py:4: FutureWarning: suggest_loguniform has been deprecated in v3.0.0. This feature will be removed in v6.0.0. See https://github.com/optuna/optuna/releases/tag/v3.0.0. Use suggest_float(..., log=True) instead.\n",
      "  learning_rate = trial.suggest_loguniform(\"learning_rate\", 1e-4, 1e-1)\n",
      "/tmp/ipykernel_181066/812690434.py:5: FutureWarning: suggest_loguniform has been deprecated in v3.0.0. This feature will be removed in v6.0.0. See https://github.com/optuna/optuna/releases/tag/v3.0.0. Use suggest_float(..., log=True) instead.\n",
      "  weight_decay = trial.suggest_loguniform(\"weight_decay\", 1e-5, 1e-1)\n",
      "[I 2024-12-04 17:01:02,153] Trial 93 pruned. \n",
      "[I 2024-12-04 17:01:06,228] Trial 94 pruned. \n",
      "[I 2024-12-04 17:01:10,258] Trial 95 pruned. \n",
      "[I 2024-12-04 17:06:20,413] Trial 96 finished with value: 0.14450601225429946 and parameters: {'dropout_rate': 0.4, 'learning_rate': 0.00011946147243436633, 'weight_decay': 3.127320812055098e-05}. Best is trial 67 with value: 0.33186358504663327.\n"
     ]
    },
    {
     "name": "stdout",
     "output_type": "stream",
     "text": [
      "Early stopping at epoch 78\n",
      "Final MCC: 0.1445\n"
     ]
    },
    {
     "name": "stderr",
     "output_type": "stream",
     "text": [
      "/tmp/ipykernel_181066/812690434.py:4: FutureWarning: suggest_loguniform has been deprecated in v3.0.0. This feature will be removed in v6.0.0. See https://github.com/optuna/optuna/releases/tag/v3.0.0. Use suggest_float(..., log=True) instead.\n",
      "  learning_rate = trial.suggest_loguniform(\"learning_rate\", 1e-4, 1e-1)\n",
      "/tmp/ipykernel_181066/812690434.py:5: FutureWarning: suggest_loguniform has been deprecated in v3.0.0. This feature will be removed in v6.0.0. See https://github.com/optuna/optuna/releases/tag/v3.0.0. Use suggest_float(..., log=True) instead.\n",
      "  weight_decay = trial.suggest_loguniform(\"weight_decay\", 1e-5, 1e-1)\n",
      "[I 2024-12-04 17:06:24,375] Trial 97 pruned. \n",
      "[I 2024-12-04 17:06:28,486] Trial 98 pruned. \n",
      "[I 2024-12-04 17:06:32,468] Trial 99 pruned. \n"
     ]
    },
    {
     "name": "stdout",
     "output_type": "stream",
     "text": [
      "Best Parameters:  {'dropout_rate': 0.35000000000000003, 'learning_rate': 0.0002177616093605527, 'weight_decay': 0.0001647271314588826}\n",
      "Best Validation F1:  0.33186358504663327\n"
     ]
    }
   ],
   "source": [
    "device_id = 0  \n",
    "torch.cuda.set_device(device_id)\n",
    "device = torch.device(f\"cuda:{device_id}\" if torch.cuda.is_available() else \"cpu\")\n",
    "\n",
    "# Optunaの設定\n",
    "study = optuna.create_study(direction=\"maximize\")  \n",
    "study.optimize(objective, n_trials=100)\n",
    "\n",
    "# 結果表示\n",
    "print(\"Best Parameters: \", study.best_params)\n",
    "print(\"Best Validation F1: \", study.best_value)"
   ]
  },
  {
   "cell_type": "code",
   "execution_count": 2,
   "metadata": {},
   "outputs": [
    {
     "ename": "NameError",
     "evalue": "name 'study' is not defined",
     "output_type": "error",
     "traceback": [
      "\u001b[0;31m---------------------------------------------------------------------------\u001b[0m",
      "\u001b[0;31mNameError\u001b[0m                                 Traceback (most recent call last)",
      "Cell \u001b[0;32mIn[2], line 1\u001b[0m\n\u001b[0;32m----> 1\u001b[0m best_params \u001b[38;5;241m=\u001b[39m study\u001b[38;5;241m.\u001b[39mbest_params\n\u001b[1;32m      3\u001b[0m \u001b[38;5;66;03m# JSON形式で保存\u001b[39;00m\n\u001b[1;32m      4\u001b[0m \u001b[38;5;28;01mwith\u001b[39;00m \u001b[38;5;28mopen\u001b[39m(\u001b[38;5;124m\"\u001b[39m\u001b[38;5;124m../../optim_param/optim_DNN_1_params.json\u001b[39m\u001b[38;5;124m\"\u001b[39m, \u001b[38;5;124m\"\u001b[39m\u001b[38;5;124mw\u001b[39m\u001b[38;5;124m\"\u001b[39m) \u001b[38;5;28;01mas\u001b[39;00m f:\n",
      "\u001b[0;31mNameError\u001b[0m: name 'study' is not defined"
     ]
    }
   ],
   "source": [
    "best_params = study.best_params\n",
    "\n",
    "# JSON形式で保存\n",
    "with open(\"../../optim_param/optim_DNN_1_params.json\", \"w\") as f:\n",
    "    json.dump(best_params, f)\n",
    "\n",
    "print(\"Best parameters saved to 'best_params.json'\")"
   ]
  },
  {
   "cell_type": "markdown",
   "metadata": {},
   "source": []
  },
  {
   "cell_type": "markdown",
   "metadata": {},
   "source": [
    "最適化パラメーターで再学習"
   ]
  },
  {
   "cell_type": "code",
   "execution_count": 54,
   "metadata": {},
   "outputs": [
    {
     "name": "stdout",
     "output_type": "stream",
     "text": [
      "Epoch [1/100], Loss: 0.7125\n",
      "Epoch [1/100], Train Loss: 0.7125, Val Loss: 0.6920\n",
      "Epoch [2/100], Loss: 0.6556\n",
      "Epoch [2/100], Train Loss: 0.6556, Val Loss: 0.6027\n",
      "Epoch [3/100], Loss: 0.6157\n",
      "Epoch [3/100], Train Loss: 0.6157, Val Loss: 0.5841\n",
      "Epoch [4/100], Loss: 0.6064\n",
      "Epoch [4/100], Train Loss: 0.6064, Val Loss: 0.5816\n",
      "Epoch [5/100], Loss: 0.5975\n",
      "Epoch [5/100], Train Loss: 0.5975, Val Loss: 0.5764\n",
      "Epoch [6/100], Loss: 0.5929\n",
      "Epoch [6/100], Train Loss: 0.5929, Val Loss: 0.5758\n",
      "Epoch [7/100], Loss: 0.5868\n",
      "Epoch [7/100], Train Loss: 0.5868, Val Loss: 0.5734\n",
      "Epoch [8/100], Loss: 0.5868\n",
      "Epoch [8/100], Train Loss: 0.5868, Val Loss: 0.5725\n",
      "Epoch [9/100], Loss: 0.5779\n",
      "Epoch [9/100], Train Loss: 0.5779, Val Loss: 0.5730\n",
      "Epoch [10/100], Loss: 0.5784\n",
      "Epoch [10/100], Train Loss: 0.5784, Val Loss: 0.5702\n",
      "Epoch [11/100], Loss: 0.5778\n",
      "Epoch [11/100], Train Loss: 0.5778, Val Loss: 0.5697\n",
      "Epoch [12/100], Loss: 0.5719\n",
      "Epoch [12/100], Train Loss: 0.5719, Val Loss: 0.5682\n",
      "Epoch [13/100], Loss: 0.5715\n",
      "Epoch [13/100], Train Loss: 0.5715, Val Loss: 0.5690\n",
      "Epoch [14/100], Loss: 0.5666\n",
      "Epoch [14/100], Train Loss: 0.5666, Val Loss: 0.5705\n",
      "Epoch [15/100], Loss: 0.5693\n",
      "Epoch [15/100], Train Loss: 0.5693, Val Loss: 0.5678\n",
      "Epoch [16/100], Loss: 0.5666\n",
      "Epoch [16/100], Train Loss: 0.5666, Val Loss: 0.5689\n",
      "Epoch [17/100], Loss: 0.5744\n",
      "Epoch [17/100], Train Loss: 0.5744, Val Loss: 0.5666\n",
      "Epoch [18/100], Loss: 0.5669\n",
      "Epoch [18/100], Train Loss: 0.5669, Val Loss: 0.5654\n",
      "Epoch [19/100], Loss: 0.5642\n",
      "Epoch [19/100], Train Loss: 0.5642, Val Loss: 0.5630\n",
      "Epoch [20/100], Loss: 0.5672\n",
      "Epoch [20/100], Train Loss: 0.5672, Val Loss: 0.5633\n",
      "Epoch [21/100], Loss: 0.5640\n",
      "Epoch [21/100], Train Loss: 0.5640, Val Loss: 0.5649\n",
      "Epoch [22/100], Loss: 0.5636\n",
      "Epoch [22/100], Train Loss: 0.5636, Val Loss: 0.5660\n",
      "Epoch [23/100], Loss: 0.5632\n",
      "Epoch [23/100], Train Loss: 0.5632, Val Loss: 0.5644\n",
      "Epoch [24/100], Loss: 0.5672\n",
      "Epoch [24/100], Train Loss: 0.5672, Val Loss: 0.5616\n",
      "Epoch [25/100], Loss: 0.5619\n",
      "Epoch [25/100], Train Loss: 0.5619, Val Loss: 0.5633\n",
      "Epoch [26/100], Loss: 0.5577\n",
      "Epoch [26/100], Train Loss: 0.5577, Val Loss: 0.5638\n",
      "Epoch [27/100], Loss: 0.5682\n",
      "Epoch [27/100], Train Loss: 0.5682, Val Loss: 0.5618\n",
      "Epoch [28/100], Loss: 0.5609\n",
      "Epoch [28/100], Train Loss: 0.5609, Val Loss: 0.5627\n",
      "Epoch [29/100], Loss: 0.5644\n",
      "Epoch [29/100], Train Loss: 0.5644, Val Loss: 0.5634\n",
      "Epoch [30/100], Loss: 0.5651\n",
      "Epoch [30/100], Train Loss: 0.5651, Val Loss: 0.5630\n",
      "Epoch [31/100], Loss: 0.5629\n",
      "Epoch [31/100], Train Loss: 0.5629, Val Loss: 0.5631\n",
      "Epoch [32/100], Loss: 0.5612\n",
      "Epoch [32/100], Train Loss: 0.5612, Val Loss: 0.5647\n",
      "Epoch [33/100], Loss: 0.5669\n",
      "Epoch [33/100], Train Loss: 0.5669, Val Loss: 0.5633\n",
      "Epoch [34/100], Loss: 0.5601\n",
      "Epoch [34/100], Train Loss: 0.5601, Val Loss: 0.5658\n",
      "Epoch [35/100], Loss: 0.5629\n",
      "Epoch [35/100], Train Loss: 0.5629, Val Loss: 0.5646\n",
      "Epoch [36/100], Loss: 0.5602\n",
      "Epoch [36/100], Train Loss: 0.5602, Val Loss: 0.5645\n",
      "Epoch [37/100], Loss: 0.5620\n",
      "Epoch [37/100], Train Loss: 0.5620, Val Loss: 0.5640\n",
      "Epoch [38/100], Loss: 0.5612\n",
      "Epoch [38/100], Train Loss: 0.5612, Val Loss: 0.5629\n",
      "Epoch [39/100], Loss: 0.5619\n",
      "Epoch [39/100], Train Loss: 0.5619, Val Loss: 0.5610\n",
      "Epoch [40/100], Loss: 0.5606\n",
      "Epoch [40/100], Train Loss: 0.5606, Val Loss: 0.5637\n",
      "Epoch [41/100], Loss: 0.5552\n",
      "Epoch [41/100], Train Loss: 0.5552, Val Loss: 0.5609\n",
      "Epoch [42/100], Loss: 0.5612\n",
      "Epoch [42/100], Train Loss: 0.5612, Val Loss: 0.5587\n",
      "Epoch [43/100], Loss: 0.5571\n",
      "Epoch [43/100], Train Loss: 0.5571, Val Loss: 0.5618\n",
      "Epoch [44/100], Loss: 0.5562\n",
      "Epoch [44/100], Train Loss: 0.5562, Val Loss: 0.5610\n",
      "Epoch [45/100], Loss: 0.5554\n",
      "Epoch [45/100], Train Loss: 0.5554, Val Loss: 0.5610\n",
      "Epoch [46/100], Loss: 0.5522\n",
      "Epoch [46/100], Train Loss: 0.5522, Val Loss: 0.5648\n",
      "Epoch [47/100], Loss: 0.5630\n",
      "Epoch [47/100], Train Loss: 0.5630, Val Loss: 0.5608\n",
      "Epoch [48/100], Loss: 0.5524\n",
      "Epoch [48/100], Train Loss: 0.5524, Val Loss: 0.5618\n",
      "Epoch [49/100], Loss: 0.5595\n",
      "Epoch [49/100], Train Loss: 0.5595, Val Loss: 0.5628\n",
      "Epoch [50/100], Loss: 0.5553\n",
      "Epoch [50/100], Train Loss: 0.5553, Val Loss: 0.5615\n",
      "Epoch [51/100], Loss: 0.5528\n",
      "Epoch [51/100], Train Loss: 0.5528, Val Loss: 0.5654\n",
      "Epoch [52/100], Loss: 0.5552\n",
      "Epoch [52/100], Train Loss: 0.5552, Val Loss: 0.5613\n",
      "Epoch [53/100], Loss: 0.5577\n",
      "Epoch [53/100], Train Loss: 0.5577, Val Loss: 0.5621\n",
      "Epoch [54/100], Loss: 0.5547\n",
      "Epoch [54/100], Train Loss: 0.5547, Val Loss: 0.5651\n",
      "Epoch [55/100], Loss: 0.5552\n",
      "Epoch [55/100], Train Loss: 0.5552, Val Loss: 0.5659\n",
      "Epoch [56/100], Loss: 0.5624\n",
      "Epoch [56/100], Train Loss: 0.5624, Val Loss: 0.5637\n",
      "Epoch [57/100], Loss: 0.5564\n",
      "Epoch [57/100], Train Loss: 0.5564, Val Loss: 0.5610\n",
      "Epoch [58/100], Loss: 0.5576\n",
      "Epoch [58/100], Train Loss: 0.5576, Val Loss: 0.5632\n",
      "Epoch [59/100], Loss: 0.5531\n",
      "Epoch [59/100], Train Loss: 0.5531, Val Loss: 0.5642\n",
      "Epoch [60/100], Loss: 0.5543\n",
      "Epoch [60/100], Train Loss: 0.5543, Val Loss: 0.5676\n",
      "Epoch [61/100], Loss: 0.5552\n",
      "Epoch [61/100], Train Loss: 0.5552, Val Loss: 0.5631\n",
      "Epoch [62/100], Loss: 0.5544\n",
      "Epoch [62/100], Train Loss: 0.5544, Val Loss: 0.5624\n",
      "Epoch [63/100], Loss: 0.5543\n",
      "Epoch [63/100], Train Loss: 0.5543, Val Loss: 0.5650\n",
      "Epoch [64/100], Loss: 0.5608\n",
      "Epoch [64/100], Train Loss: 0.5608, Val Loss: 0.5636\n",
      "Epoch [65/100], Loss: 0.5523\n",
      "Epoch [65/100], Train Loss: 0.5523, Val Loss: 0.5614\n",
      "Epoch [66/100], Loss: 0.5535\n",
      "Epoch [66/100], Train Loss: 0.5535, Val Loss: 0.5627\n",
      "Epoch [67/100], Loss: 0.5546\n",
      "Epoch [67/100], Train Loss: 0.5546, Val Loss: 0.5629\n",
      "Epoch [68/100], Loss: 0.5522\n",
      "Epoch [68/100], Train Loss: 0.5522, Val Loss: 0.5607\n",
      "Epoch [69/100], Loss: 0.5524\n",
      "Epoch [69/100], Train Loss: 0.5524, Val Loss: 0.5594\n",
      "Epoch [70/100], Loss: 0.5508\n",
      "Epoch [70/100], Train Loss: 0.5508, Val Loss: 0.5649\n",
      "Epoch [71/100], Loss: 0.5561\n",
      "Epoch [71/100], Train Loss: 0.5561, Val Loss: 0.5669\n",
      "Epoch [72/100], Loss: 0.5530\n",
      "Epoch [72/100], Train Loss: 0.5530, Val Loss: 0.5667\n",
      "Epoch [73/100], Loss: 0.5522\n",
      "Epoch [73/100], Train Loss: 0.5522, Val Loss: 0.5676\n",
      "Epoch [74/100], Loss: 0.5545\n",
      "Epoch [74/100], Train Loss: 0.5545, Val Loss: 0.5647\n",
      "Epoch [75/100], Loss: 0.5542\n",
      "Epoch [75/100], Train Loss: 0.5542, Val Loss: 0.5665\n",
      "Epoch [76/100], Loss: 0.5534\n",
      "Epoch [76/100], Train Loss: 0.5534, Val Loss: 0.5615\n",
      "Epoch [77/100], Loss: 0.5470\n",
      "Epoch [77/100], Train Loss: 0.5470, Val Loss: 0.5650\n",
      "Epoch [78/100], Loss: 0.5512\n",
      "Epoch [78/100], Train Loss: 0.5512, Val Loss: 0.5633\n",
      "Epoch [79/100], Loss: 0.5532\n",
      "Epoch [79/100], Train Loss: 0.5532, Val Loss: 0.5643\n",
      "Epoch [80/100], Loss: 0.5502\n",
      "Epoch [80/100], Train Loss: 0.5502, Val Loss: 0.5651\n",
      "Epoch [81/100], Loss: 0.5465\n",
      "Epoch [81/100], Train Loss: 0.5465, Val Loss: 0.5635\n",
      "Epoch [82/100], Loss: 0.5506\n",
      "Epoch [82/100], Train Loss: 0.5506, Val Loss: 0.5636\n",
      "Epoch [83/100], Loss: 0.5474\n",
      "Epoch [83/100], Train Loss: 0.5474, Val Loss: 0.5657\n",
      "Epoch [84/100], Loss: 0.5483\n",
      "Epoch [84/100], Train Loss: 0.5483, Val Loss: 0.5617\n",
      "Epoch [85/100], Loss: 0.5505\n",
      "Epoch [85/100], Train Loss: 0.5505, Val Loss: 0.5712\n",
      "Epoch [86/100], Loss: 0.5478\n",
      "Epoch [86/100], Train Loss: 0.5478, Val Loss: 0.5671\n",
      "Epoch [87/100], Loss: 0.5531\n",
      "Epoch [87/100], Train Loss: 0.5531, Val Loss: 0.5647\n",
      "Epoch [88/100], Loss: 0.5498\n",
      "Epoch [88/100], Train Loss: 0.5498, Val Loss: 0.5609\n",
      "Epoch [89/100], Loss: 0.5487\n",
      "Epoch [89/100], Train Loss: 0.5487, Val Loss: 0.5645\n",
      "Epoch [90/100], Loss: 0.5390\n",
      "Epoch [90/100], Train Loss: 0.5390, Val Loss: 0.5639\n",
      "Epoch [91/100], Loss: 0.5461\n",
      "Epoch [91/100], Train Loss: 0.5461, Val Loss: 0.5666\n",
      "Epoch [92/100], Loss: 0.5494\n",
      "Epoch [92/100], Train Loss: 0.5494, Val Loss: 0.5662\n",
      "Epoch [93/100], Loss: 0.5469\n",
      "Epoch [93/100], Train Loss: 0.5469, Val Loss: 0.5672\n",
      "Epoch [94/100], Loss: 0.5501\n",
      "Epoch [94/100], Train Loss: 0.5501, Val Loss: 0.5633\n",
      "Epoch [95/100], Loss: 0.5494\n",
      "Epoch [95/100], Train Loss: 0.5494, Val Loss: 0.5627\n",
      "Epoch [96/100], Loss: 0.5527\n",
      "Epoch [96/100], Train Loss: 0.5527, Val Loss: 0.5650\n",
      "Epoch [97/100], Loss: 0.5491\n",
      "Epoch [97/100], Train Loss: 0.5491, Val Loss: 0.5666\n",
      "Epoch [98/100], Loss: 0.5450\n",
      "Epoch [98/100], Train Loss: 0.5450, Val Loss: 0.5704\n",
      "Epoch [99/100], Loss: 0.5499\n",
      "Epoch [99/100], Train Loss: 0.5499, Val Loss: 0.5682\n",
      "Epoch [100/100], Loss: 0.5465\n",
      "Epoch [100/100], Train Loss: 0.5465, Val Loss: 0.5646\n"
     ]
    },
    {
     "data": {
      "image/png": "[encoded data removed]",
      "text/plain": [
       "<Figure size 1000x600 with 1 Axes>"
      ]
     },
     "metadata": {},
     "output_type": "display_data"
    }
   ],
   "source": [
    "best_params=study.best_params\n",
    "model = DNN_1(input_dim=X_train_tensor.shape[1],dropout_rate=best_params[\"dropout_rate\"]).to(device)\n",
    "\n",
    "# 最適化と訓練を実行\n",
    "optimizer = optim.Adam(model.parameters(), lr=best_params[\"learning_rate\"],weight_decay=best_params[\"weight_decay\"])\n",
    "criterion = nn.BCELoss()\n",
    "\n",
    "num_epochs=100\n",
    "train_losses = []\n",
    "val_losses = []\n",
    "\n",
    "model.train()\n",
    "for epoch in range(num_epochs):\n",
    "    epoch_train_loss = 0\n",
    "    epoch_val_loss = 0\n",
    "\n",
    "    for X_batch, y_batch in train_loader:\n",
    "        X_batch, y_batch = X_batch.to(device), y_batch.to(device)\n",
    "        optimizer.zero_grad()\n",
    "        outputs = model(X_batch).squeeze()\n",
    "        loss = criterion(outputs, y_batch.squeeze())\n",
    "        loss.backward()\n",
    "        optimizer.step()\n",
    "        epoch_train_loss += loss.item()\n",
    "    avg_train_loss = epoch_train_loss / len(train_loader)\n",
    "    train_losses.append(avg_train_loss)\n",
    "    print(f'Epoch [{epoch+1}/{num_epochs}], Loss: {avg_train_loss:.4f}')\n",
    "\n",
    "    if val_loader is not None:\n",
    "        model.eval()  \n",
    "        with torch.no_grad():\n",
    "            for X_val, y_val in val_loader:\n",
    "                X_val, y_val = X_val.to(device), y_val.to(device)\n",
    "                val_outputs = model(X_val).squeeze()\n",
    "                val_loss = criterion(val_outputs, y_val.squeeze())\n",
    "                epoch_val_loss += val_loss.item()\n",
    "\n",
    "        avg_val_loss = epoch_val_loss / len(val_loader)\n",
    "        val_losses.append(avg_val_loss)\n",
    "        model.train()  \n",
    "\n",
    "    if val_loader is not None:\n",
    "        print(f\"Epoch [{epoch+1}/{num_epochs}], Train Loss: {avg_train_loss:.4f}, Val Loss: {avg_val_loss:.4f}\")\n",
    "    else:\n",
    "        print(f\"Epoch [{epoch+1}/{num_epochs}], Train Loss: {avg_train_loss:.4f}\")\n",
    "\n",
    "plt.figure(figsize=(10, 6))\n",
    "plt.plot(range(1, num_epochs + 1), train_losses, label='Train Loss')\n",
    "if val_losses:\n",
    "    plt.plot(range(1, num_epochs + 1), val_losses, label='Validation Loss')\n",
    "plt.xlabel('Epoch')\n",
    "plt.ylabel('Loss')\n",
    "plt.title('Learning Curve for DNN1')\n",
    "plt.legend()\n",
    "plt.grid()\n",
    "plt.show()"
   ]
  },
  {
   "cell_type": "code",
   "execution_count": 55,
   "metadata": {},
   "outputs": [
    {
     "name": "stdout",
     "output_type": "stream",
     "text": [
      "Accuracy: 57.74%\n",
      "Precision: 0.4624\n",
      "Recall: 0.5811\n",
      "F1 Score: 0.5150\n",
      "Matthews Correlation Coefficient: 0.1522\n",
      "Specificity: 0.5751\n"
     ]
    },
    {
     "data": {
      "image/png": "[encoded data removed]",
      "text/plain": [
       "<Figure size 640x480 with 1 Axes>"
      ]
     },
     "metadata": {},
     "output_type": "display_data"
    },
    {
     "data": {
      "image/png": "[encoded data removed]",
      "text/plain": [
       "<Figure size 640x480 with 1 Axes>"
      ]
     },
     "metadata": {},
     "output_type": "display_data"
    },
    {
     "data": {
      "image/png": "[encoded data removed]",
      "text/plain": [
       "<Figure size 640x480 with 1 Axes>"
      ]
     },
     "metadata": {},
     "output_type": "display_data"
    }
   ],
   "source": [
    "model.eval()\n",
    "with torch.no_grad():\n",
    "    X_test_tensor = X_test_tensor.to(device)\n",
    "    y_test_tensor = y_test_tensor.to(device)\n",
    "\n",
    "    # 予測と確率\n",
    "    test_outputs = model(X_test_tensor).squeeze()\n",
    "    predictions = (test_outputs >0.49).float()\n",
    "    y_true = y_test_tensor.cpu().numpy()\n",
    "    y_pred = predictions.cpu().numpy()\n",
    "    y_prob = test_outputs.cpu().numpy()\n",
    "\n",
    "# 評価指標\n",
    "    accuracy = accuracy_score(y_true, y_pred)\n",
    "    precision = precision_score(y_true, y_pred)\n",
    "    recall = recall_score(y_true, y_pred)\n",
    "    f1 = f1_score(y_true, y_pred)\n",
    "    mcc = matthews_corrcoef(y_true, y_pred)\n",
    "    specificity = recall_score(y_true, y_pred, pos_label=0)  \n",
    "    print(f'Accuracy: {accuracy * 100:.2f}%')\n",
    "    print(f'Precision: {precision:.4f}')\n",
    "    print(f'Recall: {recall:.4f}')\n",
    "    print(f'F1 Score: {f1:.4f}')\n",
    "    print(f'Matthews Correlation Coefficient: {mcc:.4f}')\n",
    "    print(f'Specificity: {specificity:.4f}')\n",
    "\n",
    "    # 混同行列（割合表示）\n",
    "    cm = confusion_matrix(y_true, y_pred, normalize='true')\n",
    "    sns.heatmap(cm, annot=True, fmt=\".2%\", cmap=\"Blues\", cbar=False)\n",
    "    plt.xlabel(\"Predicted\")\n",
    "    plt.ylabel(\"Actual\")\n",
    "    plt.title(f\"Confusion Matrix (Normalized)\")\n",
    "    plt.show()\n",
    "\n",
    "    # ROC曲線とAUC\n",
    "    fpr, tpr, thresholds = roc_curve(y_true, y_prob)\n",
    "    roc_auc = auc(fpr, tpr)\n",
    "    plt.plot(fpr, tpr, label=f'ROC curve (AUC = {roc_auc:.2f})')\n",
    "    plt.plot([0, 1], [0, 1], 'k--') \n",
    "    plt.xlabel('False Positive Rate')\n",
    "    plt.ylabel('True Positive Rate')\n",
    "    plt.title(f'ROC Curve - Model ')\n",
    "    plt.legend(loc=\"lower right\")\n",
    "    plt.show()\n",
    "\n",
    "    # Precision-Recall曲線\n",
    "    precision_curve, recall_curve, pr_thresholds = precision_recall_curve(y_true, y_prob)\n",
    "    pr_auc = auc(recall_curve, precision_curve)\n",
    "    plt.plot(recall_curve, precision_curve, label=f'PR curve (AUC = {pr_auc:.2f})')\n",
    "    plt.xlabel('Recall')\n",
    "    plt.ylabel('Precision')\n",
    "    plt.title(f'Precision-Recall Curve ')\n",
    "    plt.legend(loc=\"lower left\")\n",
    "    plt.show()    "
   ]
  },
  {
   "cell_type": "code",
   "execution_count": 56,
   "metadata": {},
   "outputs": [],
   "source": [
    "# モデルと構造を保存\n",
    "torch.save(model.state_dict(), '../../saved_model/DNN_1.pth')\n"
   ]
  }
 ],
 "metadata": {
  "kernelspec": {
   "display_name": "torch",
   "language": "python",
   "name": "python3"
  },
  "language_info": {
   "codemirror_mode": {
    "name": "ipython",
    "version": 3
   },
   "file_extension": ".py",
   "mimetype": "text/x-python",
   "name": "python",
   "nbconvert_exporter": "python",
   "pygments_lexer": "ipython3",
   "version": "3.12.7"
  }
 },
 "nbformat": 4,
 "nbformat_minor": 2
}
