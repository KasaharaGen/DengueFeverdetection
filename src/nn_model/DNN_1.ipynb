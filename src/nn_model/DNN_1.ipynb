{
 "cells": [
  {
   "cell_type": "code",
   "execution_count": 8,
   "metadata": {},
   "outputs": [],
   "source": [
    "import numpy as np\n",
    "import pandas as pd\n",
    "import matplotlib.pyplot as plt\n",
    "import seaborn as sns\n",
    "\n",
    "import torch\n",
    "import torch.nn as nn\n",
    "import torch.optim as optim\n",
    "\n",
    "import optuna\n",
    "\n",
    "from sklearn.model_selection import train_test_split\n",
    "from sklearn.metrics import confusion_matrix,accuracy_score, precision_score, recall_score, f1_score, confusion_matrix, roc_curve, auc,matthews_corrcoef, precision_recall_curve,roc_auc_score\n",
    "\n"
   ]
  },
  {
   "cell_type": "markdown",
   "metadata": {},
   "source": [
    "データ読み取り"
   ]
  },
  {
   "cell_type": "code",
   "execution_count": 9,
   "metadata": {},
   "outputs": [],
   "source": [
    "df=pd.read_csv('../../data/learning_data.csv',index_col=0)\n",
    "\n",
    "X=df.drop(columns='dengue',axis=1).values\n",
    "y=df['dengue'].values\n",
    "\n",
    "X_train, X_test, y_train, y_test = train_test_split(X, y, test_size=0.2,random_state=42)\n",
    "X_train, X_val, y_train, y_val = train_test_split(X_train, y_train, test_size=0.1,random_state=42)\n",
    "\n",
    "#torchテンソルに変換\n",
    "X_train_tensor = torch.tensor(X_train, dtype=torch.float32)\n",
    "y_train_tensor = torch.tensor(y_train, dtype=torch.float32)\n",
    "X_test_tensor = torch.tensor(X_test, dtype=torch.float32)\n",
    "y_test_tensor = torch.tensor(y_test, dtype=torch.float32)\n",
    "X_val_tensor = torch.tensor(X_val, dtype=torch.float32)\n",
    "y_val_tensor = torch.tensor(y_val, dtype=torch.float32)\n"
   ]
  },
  {
   "cell_type": "code",
   "execution_count": 10,
   "metadata": {},
   "outputs": [],
   "source": [
    "class DNN(nn.Module):\n",
    "    def __init__(self, input_dim,hidden_units1,hidden_units2,hidden_units3,hidden_units4,dropout_rate):\n",
    "        super(DNN, self).__init__()\n",
    "        self.layer1 = nn.Linear(input_dim,hidden_units1)\n",
    "        self.layer2 = nn.Linear(hidden_units1,hidden_units2)\n",
    "        self.layer3 = nn.Linear(hidden_units2, hidden_units3)\n",
    "        self.layer4 = nn.Linear(hidden_units3, hidden_units4)\n",
    "        self.output_layer = nn.Linear(hidden_units4, 1)\n",
    "\n",
    "        self.dropout = nn.Dropout(dropout_rate)\n",
    "\n",
    "        self.bn1 = nn.BatchNorm1d(hidden_units1)\n",
    "        self.bn2 = nn.BatchNorm1d(hidden_units2)\n",
    "        self.bn3 = nn.BatchNorm1d(hidden_units3)\n",
    "        self.bn4 = nn.BatchNorm1d(hidden_units4)\n",
    "\n",
    "        \n",
    "        \n",
    "    def forward(self, x):\n",
    "        x = torch.relu(self.bn1(self.layer1(x)))\n",
    "        x = self.dropout(x)\n",
    "        \n",
    "        x = torch.relu(self.bn2(self.layer2(x)))\n",
    "        x = self.dropout(x)\n",
    "\n",
    "        x = torch.relu(self.bn3(self.layer3(x)))\n",
    "        x = self.dropout(x)\n",
    "\n",
    "        x = torch.relu(self.bn4(self.layer4(x)))\n",
    "        x = self.dropout(x)\n",
    "\n",
    "        x = torch.sigmoid(self.output_layer(x)) \n",
    "        return x\n",
    "    "
   ]
  },
  {
   "cell_type": "markdown",
   "metadata": {},
   "source": [
    "学習データセットの作成"
   ]
  },
  {
   "cell_type": "code",
   "execution_count": 11,
   "metadata": {},
   "outputs": [],
   "source": [
    "train_dataset = torch.utils.data.TensorDataset(X_train_tensor, y_train_tensor)\n",
    "train_loader = torch.utils.data.DataLoader(dataset=train_dataset, batch_size=32, shuffle=True)\n",
    "\n",
    "val_dataset = torch.utils.data.TensorDataset(X_val_tensor, y_val_tensor)\n",
    "val_loader = torch.utils.data.DataLoader(dataset=val_dataset, batch_size=32, shuffle=False)"
   ]
  },
  {
   "cell_type": "markdown",
   "metadata": {},
   "source": [
    "Optunaの設定"
   ]
  },
  {
   "cell_type": "code",
   "execution_count": null,
   "metadata": {},
   "outputs": [],
   "source": [
    "def objective(trial):\n",
    "    hidden_units1 = trial.suggest_int(\"hidden_units1\", 216, 512, step=2)\n",
    "    hidden_units2 = trial.suggest_int(\"hidden_units2\", 128, 216, step=2)\n",
    "    hidden_units3 = trial.suggest_int(\"hidden_units3\", 64, 128, step=2)\n",
    "    hidden_units4 = trial.suggest_int(\"hidden_units4\", 4, 64, step=2)\n",
    "    dropout_rate = trial.suggest_float(\"dropout_rate\", 0.1, 0.5, step=0.05)\n",
    "    learning_rate = trial.suggest_loguniform(\"learning_rate\", 1e-5, 1e-1)\n",
    "    weight_decay=trial.suggest_loguniform(\"weight_decay\",1e-5,1)\n",
    "\n",
    "    model = DNN(input_dim=X_train_tensor.shape[1], hidden_units1=hidden_units1,hidden_units2=hidden_units2,hidden_units3=hidden_units3,hidden_units4=hidden_units4, dropout_rate=dropout_rate).to(device)\n",
    "\n",
    "    criterion = nn.BCELoss()\n",
    "    optimizer = torch.optim.Adam(model.parameters(), lr=learning_rate,weight_decay=weight_decay)\n",
    "\n",
    "    num_epochs = 100\n",
    "    for epoch in range(num_epochs):\n",
    "        model.train()\n",
    "        for X_batch, y_batch in train_loader:\n",
    "            X_batch, y_batch = X_batch.to(device), y_batch.to(device)\n",
    "            optimizer.zero_grad()\n",
    "            outputs = model(X_batch).squeeze()\n",
    "            loss = criterion(outputs, y_batch)\n",
    "            loss.backward()\n",
    "            optimizer.step()\n",
    "\n",
    "    \n",
    "    model.eval()\n",
    "    val_true, val_pred, val_prob = [], [], []\n",
    "    with torch.no_grad():\n",
    "        for X_val, y_val in val_loader:\n",
    "            X_val, y_val = X_val.to(device), y_val.to(device)\n",
    "            val_outputs = model(X_val).squeeze()\n",
    "            predictions = (val_outputs >= 0.5).float()\n",
    "            val_true.extend(y_val.cpu().numpy())\n",
    "            val_pred.extend(predictions.cpu().numpy())\n",
    "            val_prob.extend(val_outputs.cpu().numpy())\n",
    "\n",
    "\n",
    "    accuracy = accuracy_score(val_true, val_pred)\n",
    "    precision = precision_score(val_true, val_pred)\n",
    "    recall = recall_score(val_true, val_pred)\n",
    "    f1 = f1_score(val_true, val_pred)\n",
    "    mcc = matthews_corrcoef(val_true, val_pred)\n",
    "    specificity = recall_score(val_true, val_pred, pos_label=0)\n",
    "\n",
    "    # ログ\n",
    "    print(f'Accuracy: {accuracy * 100:.2f}%')\n",
    "    print(f'Precision: {precision:.4f}')\n",
    "    print(f'Recall: {recall:.4f}')\n",
    "    print(f'F1 Score: {f1:.4f}')\n",
    "    print(f'Matthews Correlation Coefficient: {mcc:.4f}')\n",
    "    print(f'Specificity: {specificity:.4f}')\n",
    "\n",
    "    return precision\n"
   ]
  },
  {
   "cell_type": "code",
   "execution_count": 13,
   "metadata": {},
   "outputs": [
    {
     "name": "stdout",
     "output_type": "stream",
     "text": [
      "使用可能なGPUの数: 2\n",
      "GPU 0: NVIDIA GeForce GTX 1080 Ti\n",
      "  メモリ使用状況: 8.65 MB / 11169.31 MB\n",
      "  CUDA対応バージョン: 6.1\n",
      "GPU 1: NVIDIA GeForce GTX 1080 Ti\n",
      "  メモリ使用状況: 0.00 MB / 11172.19 MB\n",
      "  CUDA対応バージョン: 6.1\n"
     ]
    }
   ],
   "source": [
    "# 使用可能なGPUの数を取得\n",
    "num_gpus = torch.cuda.device_count()\n",
    "\n",
    "if num_gpus == 0:\n",
    "    print(\"使用可能なGPUはありません。\")\n",
    "else:\n",
    "    print(f\"使用可能なGPUの数: {num_gpus}\")\n",
    "    for i in range(num_gpus):\n",
    "        print(f\"GPU {i}: {torch.cuda.get_device_name(i)}\")\n",
    "        print(f\"  メモリ使用状況: {torch.cuda.memory_allocated(i) / 1024**2:.2f} MB / {torch.cuda.get_device_properties(i).total_memory / 1024**2:.2f} MB\")\n",
    "        print(f\"  CUDA対応バージョン: {torch.cuda.get_device_properties(i).major}.{torch.cuda.get_device_properties(i).minor}\")\n"
   ]
  },
  {
   "cell_type": "markdown",
   "metadata": {},
   "source": [
    "最適化"
   ]
  },
  {
   "cell_type": "code",
   "execution_count": 14,
   "metadata": {},
   "outputs": [
    {
     "name": "stderr",
     "output_type": "stream",
     "text": [
      "[I 2024-11-28 19:04:05,137] A new study created in memory with name: no-name-ecf6330c-45bb-43ba-bae8-28d28cc2e1fa\n",
      "/tmp/ipykernel_181066/360301711.py:7: FutureWarning: suggest_loguniform has been deprecated in v3.0.0. This feature will be removed in v6.0.0. See https://github.com/optuna/optuna/releases/tag/v3.0.0. Use suggest_float(..., log=True) instead.\n",
      "  learning_rate = trial.suggest_loguniform(\"learning_rate\", 1e-5, 1e-1)\n",
      "/home/gonken/anaconda3/envs/torch/lib/python3.12/site-packages/sklearn/metrics/_classification.py:1531: UndefinedMetricWarning: Precision is ill-defined and being set to 0.0 due to no predicted samples. Use `zero_division` parameter to control this behavior.\n",
      "  _warn_prf(average, modifier, f\"{metric.capitalize()} is\", len(result))\n",
      "[I 2024-11-28 19:04:53,878] Trial 0 finished with value: 0.0 and parameters: {'hidden_units1': 440, 'hidden_units2': 134, 'hidden_units3': 110, 'hidden_units4': 50, 'dropout_rate': 0.35, 'learning_rate': 0.039218879581727054}. Best is trial 0 with value: 0.0.\n",
      "/tmp/ipykernel_181066/360301711.py:7: FutureWarning: suggest_loguniform has been deprecated in v3.0.0. This feature will be removed in v6.0.0. See https://github.com/optuna/optuna/releases/tag/v3.0.0. Use suggest_float(..., log=True) instead.\n",
      "  learning_rate = trial.suggest_loguniform(\"learning_rate\", 1e-5, 1e-1)\n"
     ]
    },
    {
     "name": "stdout",
     "output_type": "stream",
     "text": [
      "Accuracy: 64.10%\n",
      "Precision: 0.0000\n",
      "Recall: 0.0000\n",
      "F1 Score: 0.0000\n",
      "Matthews Correlation Coefficient: 0.0000\n",
      "Specificity: 1.0000\n"
     ]
    },
    {
     "name": "stderr",
     "output_type": "stream",
     "text": [
      "[I 2024-11-28 19:05:44,283] Trial 1 finished with value: 0.5696594427244582 and parameters: {'hidden_units1': 376, 'hidden_units2': 192, 'hidden_units3': 106, 'hidden_units4': 40, 'dropout_rate': 0.30000000000000004, 'learning_rate': 0.028694027652947384}. Best is trial 1 with value: 0.5696594427244582.\n"
     ]
    },
    {
     "name": "stdout",
     "output_type": "stream",
     "text": [
      "Accuracy: 60.40%\n",
      "Precision: 0.4670\n",
      "Recall: 0.7302\n",
      "F1 Score: 0.5697\n",
      "Matthews Correlation Coefficient: 0.2547\n",
      "Specificity: 0.5333\n"
     ]
    },
    {
     "name": "stderr",
     "output_type": "stream",
     "text": [
      "/tmp/ipykernel_181066/360301711.py:7: FutureWarning: suggest_loguniform has been deprecated in v3.0.0. This feature will be removed in v6.0.0. See https://github.com/optuna/optuna/releases/tag/v3.0.0. Use suggest_float(..., log=True) instead.\n",
      "  learning_rate = trial.suggest_loguniform(\"learning_rate\", 1e-5, 1e-1)\n",
      "[I 2024-11-28 19:06:32,921] Trial 2 finished with value: 0.4351464435146444 and parameters: {'hidden_units1': 344, 'hidden_units2': 190, 'hidden_units3': 80, 'hidden_units4': 38, 'dropout_rate': 0.30000000000000004, 'learning_rate': 0.00035150533991268584}. Best is trial 1 with value: 0.5696594427244582.\n"
     ]
    },
    {
     "name": "stdout",
     "output_type": "stream",
     "text": [
      "Accuracy: 61.54%\n",
      "Precision: 0.4602\n",
      "Recall: 0.4127\n",
      "F1 Score: 0.4351\n",
      "Matthews Correlation Coefficient: 0.1454\n",
      "Specificity: 0.7289\n"
     ]
    },
    {
     "name": "stderr",
     "output_type": "stream",
     "text": [
      "/tmp/ipykernel_181066/360301711.py:7: FutureWarning: suggest_loguniform has been deprecated in v3.0.0. This feature will be removed in v6.0.0. See https://github.com/optuna/optuna/releases/tag/v3.0.0. Use suggest_float(..., log=True) instead.\n",
      "  learning_rate = trial.suggest_loguniform(\"learning_rate\", 1e-5, 1e-1)\n",
      "[I 2024-11-28 19:07:22,969] Trial 3 finished with value: 0.4765957446808511 and parameters: {'hidden_units1': 438, 'hidden_units2': 188, 'hidden_units3': 78, 'hidden_units4': 8, 'dropout_rate': 0.2, 'learning_rate': 0.010040441568639426}. Best is trial 1 with value: 0.5696594427244582.\n"
     ]
    },
    {
     "name": "stdout",
     "output_type": "stream",
     "text": [
      "Accuracy: 64.96%\n",
      "Precision: 0.5138\n",
      "Recall: 0.4444\n",
      "F1 Score: 0.4766\n",
      "Matthews Correlation Coefficient: 0.2166\n",
      "Specificity: 0.7644\n"
     ]
    },
    {
     "name": "stderr",
     "output_type": "stream",
     "text": [
      "/tmp/ipykernel_181066/360301711.py:7: FutureWarning: suggest_loguniform has been deprecated in v3.0.0. This feature will be removed in v6.0.0. See https://github.com/optuna/optuna/releases/tag/v3.0.0. Use suggest_float(..., log=True) instead.\n",
      "  learning_rate = trial.suggest_loguniform(\"learning_rate\", 1e-5, 1e-1)\n",
      "[I 2024-11-28 19:08:12,717] Trial 4 finished with value: 0.37073170731707317 and parameters: {'hidden_units1': 332, 'hidden_units2': 184, 'hidden_units3': 128, 'hidden_units4': 6, 'dropout_rate': 0.4, 'learning_rate': 0.0003905722406213182}. Best is trial 1 with value: 0.5696594427244582.\n"
     ]
    },
    {
     "name": "stdout",
     "output_type": "stream",
     "text": [
      "Accuracy: 63.25%\n",
      "Precision: 0.4810\n",
      "Recall: 0.3016\n",
      "F1 Score: 0.3707\n",
      "Matthews Correlation Coefficient: 0.1371\n",
      "Specificity: 0.8178\n"
     ]
    },
    {
     "name": "stderr",
     "output_type": "stream",
     "text": [
      "/tmp/ipykernel_181066/360301711.py:7: FutureWarning: suggest_loguniform has been deprecated in v3.0.0. This feature will be removed in v6.0.0. See https://github.com/optuna/optuna/releases/tag/v3.0.0. Use suggest_float(..., log=True) instead.\n",
      "  learning_rate = trial.suggest_loguniform(\"learning_rate\", 1e-5, 1e-1)\n",
      "[I 2024-11-28 19:09:01,386] Trial 5 finished with value: 0.37272727272727274 and parameters: {'hidden_units1': 462, 'hidden_units2': 206, 'hidden_units3': 68, 'hidden_units4': 32, 'dropout_rate': 0.4, 'learning_rate': 0.00011457797637875474}. Best is trial 1 with value: 0.5696594427244582.\n"
     ]
    },
    {
     "name": "stdout",
     "output_type": "stream",
     "text": [
      "Accuracy: 60.68%\n",
      "Precision: 0.4362\n",
      "Recall: 0.3254\n",
      "F1 Score: 0.3727\n",
      "Matthews Correlation Coefficient: 0.0973\n",
      "Specificity: 0.7644\n"
     ]
    },
    {
     "name": "stderr",
     "output_type": "stream",
     "text": [
      "/tmp/ipykernel_181066/360301711.py:7: FutureWarning: suggest_loguniform has been deprecated in v3.0.0. This feature will be removed in v6.0.0. See https://github.com/optuna/optuna/releases/tag/v3.0.0. Use suggest_float(..., log=True) instead.\n",
      "  learning_rate = trial.suggest_loguniform(\"learning_rate\", 1e-5, 1e-1)\n",
      "[I 2024-11-28 19:09:49,970] Trial 6 finished with value: 0.48854961832061067 and parameters: {'hidden_units1': 398, 'hidden_units2': 210, 'hidden_units3': 94, 'hidden_units4': 20, 'dropout_rate': 0.1, 'learning_rate': 0.02244550435208195}. Best is trial 1 with value: 0.5696594427244582.\n"
     ]
    },
    {
     "name": "stdout",
     "output_type": "stream",
     "text": [
      "Accuracy: 61.82%\n",
      "Precision: 0.4706\n",
      "Recall: 0.5079\n",
      "F1 Score: 0.4885\n",
      "Matthews Correlation Coefficient: 0.1851\n",
      "Specificity: 0.6800\n"
     ]
    },
    {
     "name": "stderr",
     "output_type": "stream",
     "text": [
      "/tmp/ipykernel_181066/360301711.py:7: FutureWarning: suggest_loguniform has been deprecated in v3.0.0. This feature will be removed in v6.0.0. See https://github.com/optuna/optuna/releases/tag/v3.0.0. Use suggest_float(..., log=True) instead.\n",
      "  learning_rate = trial.suggest_loguniform(\"learning_rate\", 1e-5, 1e-1)\n",
      "[I 2024-11-28 19:10:40,074] Trial 7 finished with value: 0.484375 and parameters: {'hidden_units1': 506, 'hidden_units2': 208, 'hidden_units3': 102, 'hidden_units4': 48, 'dropout_rate': 0.45000000000000007, 'learning_rate': 0.0002648870221120815}. Best is trial 1 with value: 0.5696594427244582.\n"
     ]
    },
    {
     "name": "stdout",
     "output_type": "stream",
     "text": [
      "Accuracy: 62.39%\n",
      "Precision: 0.4769\n",
      "Recall: 0.4921\n",
      "F1 Score: 0.4844\n",
      "Matthews Correlation Coefficient: 0.1886\n",
      "Specificity: 0.6978\n"
     ]
    },
    {
     "name": "stderr",
     "output_type": "stream",
     "text": [
      "/tmp/ipykernel_181066/360301711.py:7: FutureWarning: suggest_loguniform has been deprecated in v3.0.0. This feature will be removed in v6.0.0. See https://github.com/optuna/optuna/releases/tag/v3.0.0. Use suggest_float(..., log=True) instead.\n",
      "  learning_rate = trial.suggest_loguniform(\"learning_rate\", 1e-5, 1e-1)\n",
      "[I 2024-11-28 19:11:28,497] Trial 8 finished with value: 0.6120218579234973 and parameters: {'hidden_units1': 340, 'hidden_units2': 216, 'hidden_units3': 108, 'hidden_units4': 32, 'dropout_rate': 0.35, 'learning_rate': 1.0885153403779476e-05}. Best is trial 8 with value: 0.6120218579234973.\n"
     ]
    },
    {
     "name": "stdout",
     "output_type": "stream",
     "text": [
      "Accuracy: 59.54%\n",
      "Precision: 0.4667\n",
      "Recall: 0.8889\n",
      "F1 Score: 0.6120\n",
      "Matthews Correlation Coefficient: 0.3301\n",
      "Specificity: 0.4311\n"
     ]
    },
    {
     "name": "stderr",
     "output_type": "stream",
     "text": [
      "/tmp/ipykernel_181066/360301711.py:7: FutureWarning: suggest_loguniform has been deprecated in v3.0.0. This feature will be removed in v6.0.0. See https://github.com/optuna/optuna/releases/tag/v3.0.0. Use suggest_float(..., log=True) instead.\n",
      "  learning_rate = trial.suggest_loguniform(\"learning_rate\", 1e-5, 1e-1)\n",
      "[I 2024-11-28 19:12:17,113] Trial 9 finished with value: 0.49814126394052044 and parameters: {'hidden_units1': 460, 'hidden_units2': 180, 'hidden_units3': 122, 'hidden_units4': 50, 'dropout_rate': 0.4, 'learning_rate': 0.016855796887157295}. Best is trial 8 with value: 0.6120218579234973.\n"
     ]
    },
    {
     "name": "stdout",
     "output_type": "stream",
     "text": [
      "Accuracy: 61.54%\n",
      "Precision: 0.4685\n",
      "Recall: 0.5317\n",
      "F1 Score: 0.4981\n",
      "Matthews Correlation Coefficient: 0.1894\n",
      "Specificity: 0.6622\n"
     ]
    },
    {
     "name": "stderr",
     "output_type": "stream",
     "text": [
      "/tmp/ipykernel_181066/360301711.py:7: FutureWarning: suggest_loguniform has been deprecated in v3.0.0. This feature will be removed in v6.0.0. See https://github.com/optuna/optuna/releases/tag/v3.0.0. Use suggest_float(..., log=True) instead.\n",
      "  learning_rate = trial.suggest_loguniform(\"learning_rate\", 1e-5, 1e-1)\n",
      "[I 2024-11-28 19:13:04,157] Trial 10 finished with value: 0.5882352941176471 and parameters: {'hidden_units1': 232, 'hidden_units2': 158, 'hidden_units3': 92, 'hidden_units4': 24, 'dropout_rate': 0.5, 'learning_rate': 1.1130488251464775e-05}. Best is trial 8 with value: 0.6120218579234973.\n"
     ]
    },
    {
     "name": "stdout",
     "output_type": "stream",
     "text": [
      "Accuracy: 60.11%\n",
      "Precision: 0.4673\n",
      "Recall: 0.7937\n",
      "F1 Score: 0.5882\n",
      "Matthews Correlation Coefficient: 0.2822\n",
      "Specificity: 0.4933\n"
     ]
    },
    {
     "name": "stderr",
     "output_type": "stream",
     "text": [
      "/tmp/ipykernel_181066/360301711.py:7: FutureWarning: suggest_loguniform has been deprecated in v3.0.0. This feature will be removed in v6.0.0. See https://github.com/optuna/optuna/releases/tag/v3.0.0. Use suggest_float(..., log=True) instead.\n",
      "  learning_rate = trial.suggest_loguniform(\"learning_rate\", 1e-5, 1e-1)\n",
      "[I 2024-11-28 19:13:52,771] Trial 11 finished with value: 0.0 and parameters: {'hidden_units1': 234, 'hidden_units2': 154, 'hidden_units3': 90, 'hidden_units4': 22, 'dropout_rate': 0.5, 'learning_rate': 1.0095690900278788e-05}. Best is trial 8 with value: 0.6120218579234973.\n"
     ]
    },
    {
     "name": "stdout",
     "output_type": "stream",
     "text": [
      "Accuracy: 63.82%\n",
      "Precision: 0.0000\n",
      "Recall: 0.0000\n",
      "F1 Score: 0.0000\n",
      "Matthews Correlation Coefficient: -0.0400\n",
      "Specificity: 0.9956\n"
     ]
    },
    {
     "name": "stderr",
     "output_type": "stream",
     "text": [
      "/tmp/ipykernel_181066/360301711.py:7: FutureWarning: suggest_loguniform has been deprecated in v3.0.0. This feature will be removed in v6.0.0. See https://github.com/optuna/optuna/releases/tag/v3.0.0. Use suggest_float(..., log=True) instead.\n",
      "  learning_rate = trial.suggest_loguniform(\"learning_rate\", 1e-5, 1e-1)\n",
      "[I 2024-11-28 19:14:41,597] Trial 12 finished with value: 0.5369127516778524 and parameters: {'hidden_units1': 226, 'hidden_units2': 162, 'hidden_units3': 116, 'hidden_units4': 26, 'dropout_rate': 0.5, 'learning_rate': 1.0310094047574425e-05}. Best is trial 8 with value: 0.6120218579234973.\n"
     ]
    },
    {
     "name": "stdout",
     "output_type": "stream",
     "text": [
      "Accuracy: 60.68%\n",
      "Precision: 0.4651\n",
      "Recall: 0.6349\n",
      "F1 Score: 0.5369\n",
      "Matthews Correlation Coefficient: 0.2169\n",
      "Specificity: 0.5911\n"
     ]
    },
    {
     "name": "stderr",
     "output_type": "stream",
     "text": [
      "/tmp/ipykernel_181066/360301711.py:7: FutureWarning: suggest_loguniform has been deprecated in v3.0.0. This feature will be removed in v6.0.0. See https://github.com/optuna/optuna/releases/tag/v3.0.0. Use suggest_float(..., log=True) instead.\n",
      "  learning_rate = trial.suggest_loguniform(\"learning_rate\", 1e-5, 1e-1)\n",
      "[I 2024-11-28 19:15:29,984] Trial 13 finished with value: 0.5 and parameters: {'hidden_units1': 288, 'hidden_units2': 144, 'hidden_units3': 84, 'hidden_units4': 60, 'dropout_rate': 0.2, 'learning_rate': 3.7997705347343164e-05}. Best is trial 8 with value: 0.6120218579234973.\n"
     ]
    },
    {
     "name": "stdout",
     "output_type": "stream",
     "text": [
      "Accuracy: 60.68%\n",
      "Precision: 0.4600\n",
      "Recall: 0.5476\n",
      "F1 Score: 0.5000\n",
      "Matthews Correlation Coefficient: 0.1819\n",
      "Specificity: 0.6400\n"
     ]
    },
    {
     "name": "stderr",
     "output_type": "stream",
     "text": [
      "/tmp/ipykernel_181066/360301711.py:7: FutureWarning: suggest_loguniform has been deprecated in v3.0.0. This feature will be removed in v6.0.0. See https://github.com/optuna/optuna/releases/tag/v3.0.0. Use suggest_float(..., log=True) instead.\n",
      "  learning_rate = trial.suggest_loguniform(\"learning_rate\", 1e-5, 1e-1)\n",
      "[I 2024-11-28 19:16:20,225] Trial 14 finished with value: 0.46875 and parameters: {'hidden_units1': 278, 'hidden_units2': 168, 'hidden_units3': 100, 'hidden_units4': 14, 'dropout_rate': 0.2, 'learning_rate': 0.0040091100621782085}. Best is trial 8 with value: 0.6120218579234973.\n"
     ]
    },
    {
     "name": "stdout",
     "output_type": "stream",
     "text": [
      "Accuracy: 61.25%\n",
      "Precision: 0.4615\n",
      "Recall: 0.4762\n",
      "F1 Score: 0.4688\n",
      "Matthews Correlation Coefficient: 0.1640\n",
      "Specificity: 0.6889\n"
     ]
    },
    {
     "name": "stderr",
     "output_type": "stream",
     "text": [
      "/tmp/ipykernel_181066/360301711.py:7: FutureWarning: suggest_loguniform has been deprecated in v3.0.0. This feature will be removed in v6.0.0. See https://github.com/optuna/optuna/releases/tag/v3.0.0. Use suggest_float(..., log=True) instead.\n",
      "  learning_rate = trial.suggest_loguniform(\"learning_rate\", 1e-5, 1e-1)\n",
      "[I 2024-11-28 19:17:10,813] Trial 15 finished with value: 0.415929203539823 and parameters: {'hidden_units1': 294, 'hidden_units2': 152, 'hidden_units3': 112, 'hidden_units4': 30, 'dropout_rate': 0.45000000000000007, 'learning_rate': 3.551834679186566e-05}. Best is trial 8 with value: 0.6120218579234973.\n"
     ]
    },
    {
     "name": "stdout",
     "output_type": "stream",
     "text": [
      "Accuracy: 62.39%\n",
      "Precision: 0.4700\n",
      "Recall: 0.3730\n",
      "F1 Score: 0.4159\n",
      "Matthews Correlation Coefficient: 0.1461\n",
      "Specificity: 0.7644\n"
     ]
    },
    {
     "name": "stderr",
     "output_type": "stream",
     "text": [
      "/tmp/ipykernel_181066/360301711.py:7: FutureWarning: suggest_loguniform has been deprecated in v3.0.0. This feature will be removed in v6.0.0. See https://github.com/optuna/optuna/releases/tag/v3.0.0. Use suggest_float(..., log=True) instead.\n",
      "  learning_rate = trial.suggest_loguniform(\"learning_rate\", 1e-5, 1e-1)\n",
      "[I 2024-11-28 19:17:59,542] Trial 16 finished with value: 0.4388185654008439 and parameters: {'hidden_units1': 248, 'hidden_units2': 128, 'hidden_units3': 90, 'hidden_units4': 18, 'dropout_rate': 0.25, 'learning_rate': 0.001821624147939065}. Best is trial 8 with value: 0.6120218579234973.\n"
     ]
    },
    {
     "name": "stdout",
     "output_type": "stream",
     "text": [
      "Accuracy: 62.11%\n",
      "Precision: 0.4685\n",
      "Recall: 0.4127\n",
      "F1 Score: 0.4388\n",
      "Matthews Correlation Coefficient: 0.1552\n",
      "Specificity: 0.7378\n"
     ]
    },
    {
     "name": "stderr",
     "output_type": "stream",
     "text": [
      "/tmp/ipykernel_181066/360301711.py:7: FutureWarning: suggest_loguniform has been deprecated in v3.0.0. This feature will be removed in v6.0.0. See https://github.com/optuna/optuna/releases/tag/v3.0.0. Use suggest_float(..., log=True) instead.\n",
      "  learning_rate = trial.suggest_loguniform(\"learning_rate\", 1e-5, 1e-1)\n",
      "[I 2024-11-28 19:18:48,603] Trial 17 finished with value: 0.39826839826839827 and parameters: {'hidden_units1': 314, 'hidden_units2': 216, 'hidden_units3': 64, 'hidden_units4': 40, 'dropout_rate': 0.35, 'learning_rate': 4.351066185573741e-05}. Best is trial 8 with value: 0.6120218579234973.\n"
     ]
    },
    {
     "name": "stdout",
     "output_type": "stream",
     "text": [
      "Accuracy: 60.40%\n",
      "Precision: 0.4381\n",
      "Recall: 0.3651\n",
      "F1 Score: 0.3983\n",
      "Matthews Correlation Coefficient: 0.1078\n",
      "Specificity: 0.7378\n"
     ]
    },
    {
     "name": "stderr",
     "output_type": "stream",
     "text": [
      "/tmp/ipykernel_181066/360301711.py:7: FutureWarning: suggest_loguniform has been deprecated in v3.0.0. This feature will be removed in v6.0.0. See https://github.com/optuna/optuna/releases/tag/v3.0.0. Use suggest_float(..., log=True) instead.\n",
      "  learning_rate = trial.suggest_loguniform(\"learning_rate\", 1e-5, 1e-1)\n",
      "[I 2024-11-28 19:19:37,765] Trial 18 finished with value: 0.5054151624548736 and parameters: {'hidden_units1': 260, 'hidden_units2': 174, 'hidden_units3': 98, 'hidden_units4': 14, 'dropout_rate': 0.1, 'learning_rate': 7.422455270805352e-05}. Best is trial 8 with value: 0.6120218579234973.\n"
     ]
    },
    {
     "name": "stdout",
     "output_type": "stream",
     "text": [
      "Accuracy: 60.97%\n",
      "Precision: 0.4636\n",
      "Recall: 0.5556\n",
      "F1 Score: 0.5054\n",
      "Matthews Correlation Coefficient: 0.1895\n",
      "Specificity: 0.6400\n"
     ]
    },
    {
     "name": "stderr",
     "output_type": "stream",
     "text": [
      "/tmp/ipykernel_181066/360301711.py:7: FutureWarning: suggest_loguniform has been deprecated in v3.0.0. This feature will be removed in v6.0.0. See https://github.com/optuna/optuna/releases/tag/v3.0.0. Use suggest_float(..., log=True) instead.\n",
      "  learning_rate = trial.suggest_loguniform(\"learning_rate\", 1e-5, 1e-1)\n",
      "[I 2024-11-28 19:20:26,544] Trial 19 finished with value: 0.5850746268656717 and parameters: {'hidden_units1': 392, 'hidden_units2': 196, 'hidden_units3': 120, 'hidden_units4': 26, 'dropout_rate': 0.45000000000000007, 'learning_rate': 1.8648930728942516e-05}. Best is trial 8 with value: 0.6120218579234973.\n"
     ]
    },
    {
     "name": "stdout",
     "output_type": "stream",
     "text": [
      "Accuracy: 60.40%\n",
      "Precision: 0.4689\n",
      "Recall: 0.7778\n",
      "F1 Score: 0.5851\n",
      "Matthews Correlation Coefficient: 0.2780\n",
      "Specificity: 0.5067\n"
     ]
    },
    {
     "name": "stderr",
     "output_type": "stream",
     "text": [
      "/tmp/ipykernel_181066/360301711.py:7: FutureWarning: suggest_loguniform has been deprecated in v3.0.0. This feature will be removed in v6.0.0. See https://github.com/optuna/optuna/releases/tag/v3.0.0. Use suggest_float(..., log=True) instead.\n",
      "  learning_rate = trial.suggest_loguniform(\"learning_rate\", 1e-5, 1e-1)\n",
      "[I 2024-11-28 19:21:15,026] Trial 20 finished with value: 0.4691358024691358 and parameters: {'hidden_units1': 340, 'hidden_units2': 160, 'hidden_units3': 74, 'hidden_units4': 64, 'dropout_rate': 0.35, 'learning_rate': 0.00016025342600970078}. Best is trial 8 with value: 0.6120218579234973.\n"
     ]
    },
    {
     "name": "stdout",
     "output_type": "stream",
     "text": [
      "Accuracy: 63.25%\n",
      "Precision: 0.4872\n",
      "Recall: 0.4524\n",
      "F1 Score: 0.4691\n",
      "Matthews Correlation Coefficient: 0.1890\n",
      "Specificity: 0.7333\n"
     ]
    },
    {
     "name": "stderr",
     "output_type": "stream",
     "text": [
      "/tmp/ipykernel_181066/360301711.py:7: FutureWarning: suggest_loguniform has been deprecated in v3.0.0. This feature will be removed in v6.0.0. See https://github.com/optuna/optuna/releases/tag/v3.0.0. Use suggest_float(..., log=True) instead.\n",
      "  learning_rate = trial.suggest_loguniform(\"learning_rate\", 1e-5, 1e-1)\n",
      "[I 2024-11-28 19:22:04,061] Trial 21 finished with value: 0.5988023952095808 and parameters: {'hidden_units1': 392, 'hidden_units2': 202, 'hidden_units3': 118, 'hidden_units4': 26, 'dropout_rate': 0.45000000000000007, 'learning_rate': 1.7647836989834258e-05}. Best is trial 8 with value: 0.6120218579234973.\n"
     ]
    },
    {
     "name": "stdout",
     "output_type": "stream",
     "text": [
      "Accuracy: 61.82%\n",
      "Precision: 0.4808\n",
      "Recall: 0.7937\n",
      "F1 Score: 0.5988\n",
      "Matthews Correlation Coefficient: 0.3062\n",
      "Specificity: 0.5200\n"
     ]
    },
    {
     "name": "stderr",
     "output_type": "stream",
     "text": [
      "/tmp/ipykernel_181066/360301711.py:7: FutureWarning: suggest_loguniform has been deprecated in v3.0.0. This feature will be removed in v6.0.0. See https://github.com/optuna/optuna/releases/tag/v3.0.0. Use suggest_float(..., log=True) instead.\n",
      "  learning_rate = trial.suggest_loguniform(\"learning_rate\", 1e-5, 1e-1)\n",
      "[I 2024-11-28 19:22:51,907] Trial 22 finished with value: 0.6133333333333333 and parameters: {'hidden_units1': 414, 'hidden_units2': 200, 'hidden_units3': 108, 'hidden_units4': 34, 'dropout_rate': 0.5, 'learning_rate': 2.1442977375325725e-05}. Best is trial 22 with value: 0.6133333333333333.\n"
     ]
    },
    {
     "name": "stdout",
     "output_type": "stream",
     "text": [
      "Accuracy: 58.69%\n",
      "Precision: 0.4618\n",
      "Recall: 0.9127\n",
      "F1 Score: 0.6133\n",
      "Matthews Correlation Coefficient: 0.3351\n",
      "Specificity: 0.4044\n"
     ]
    },
    {
     "name": "stderr",
     "output_type": "stream",
     "text": [
      "/tmp/ipykernel_181066/360301711.py:7: FutureWarning: suggest_loguniform has been deprecated in v3.0.0. This feature will be removed in v6.0.0. See https://github.com/optuna/optuna/releases/tag/v3.0.0. Use suggest_float(..., log=True) instead.\n",
      "  learning_rate = trial.suggest_loguniform(\"learning_rate\", 1e-5, 1e-1)\n",
      "[I 2024-11-28 19:23:40,380] Trial 23 finished with value: 0.6136986301369863 and parameters: {'hidden_units1': 408, 'hidden_units2': 198, 'hidden_units3': 106, 'hidden_units4': 36, 'dropout_rate': 0.45000000000000007, 'learning_rate': 2.4962533274852878e-05}. Best is trial 23 with value: 0.6136986301369863.\n"
     ]
    },
    {
     "name": "stdout",
     "output_type": "stream",
     "text": [
      "Accuracy: 59.83%\n",
      "Precision: 0.4686\n",
      "Recall: 0.8889\n",
      "F1 Score: 0.6137\n",
      "Matthews Correlation Coefficient: 0.3339\n",
      "Specificity: 0.4356\n"
     ]
    },
    {
     "name": "stderr",
     "output_type": "stream",
     "text": [
      "/tmp/ipykernel_181066/360301711.py:7: FutureWarning: suggest_loguniform has been deprecated in v3.0.0. This feature will be removed in v6.0.0. See https://github.com/optuna/optuna/releases/tag/v3.0.0. Use suggest_float(..., log=True) instead.\n",
      "  learning_rate = trial.suggest_loguniform(\"learning_rate\", 1e-5, 1e-1)\n",
      "/home/gonken/anaconda3/envs/torch/lib/python3.12/site-packages/sklearn/metrics/_classification.py:1531: UndefinedMetricWarning: Precision is ill-defined and being set to 0.0 due to no predicted samples. Use `zero_division` parameter to control this behavior.\n",
      "  _warn_prf(average, modifier, f\"{metric.capitalize()} is\", len(result))\n",
      "[I 2024-11-28 19:24:28,967] Trial 24 finished with value: 0.0 and parameters: {'hidden_units1': 418, 'hidden_units2': 216, 'hidden_units3': 106, 'hidden_units4': 36, 'dropout_rate': 0.5, 'learning_rate': 0.09103040300255533}. Best is trial 23 with value: 0.6136986301369863.\n",
      "/tmp/ipykernel_181066/360301711.py:7: FutureWarning: suggest_loguniform has been deprecated in v3.0.0. This feature will be removed in v6.0.0. See https://github.com/optuna/optuna/releases/tag/v3.0.0. Use suggest_float(..., log=True) instead.\n",
      "  learning_rate = trial.suggest_loguniform(\"learning_rate\", 1e-5, 1e-1)\n"
     ]
    },
    {
     "name": "stdout",
     "output_type": "stream",
     "text": [
      "Accuracy: 64.10%\n",
      "Precision: 0.0000\n",
      "Recall: 0.0000\n",
      "F1 Score: 0.0000\n",
      "Matthews Correlation Coefficient: 0.0000\n",
      "Specificity: 1.0000\n"
     ]
    },
    {
     "name": "stderr",
     "output_type": "stream",
     "text": [
      "[I 2024-11-28 19:25:17,749] Trial 25 finished with value: 0.41284403669724773 and parameters: {'hidden_units1': 362, 'hidden_units2': 200, 'hidden_units3': 110, 'hidden_units4': 44, 'dropout_rate': 0.4, 'learning_rate': 6.97018391068961e-05}. Best is trial 23 with value: 0.6136986301369863.\n"
     ]
    },
    {
     "name": "stdout",
     "output_type": "stream",
     "text": [
      "Accuracy: 63.53%\n",
      "Precision: 0.4891\n",
      "Recall: 0.3571\n",
      "F1 Score: 0.4128\n",
      "Matthews Correlation Coefficient: 0.1617\n",
      "Specificity: 0.7911\n"
     ]
    },
    {
     "name": "stderr",
     "output_type": "stream",
     "text": [
      "/tmp/ipykernel_181066/360301711.py:7: FutureWarning: suggest_loguniform has been deprecated in v3.0.0. This feature will be removed in v6.0.0. See https://github.com/optuna/optuna/releases/tag/v3.0.0. Use suggest_float(..., log=True) instead.\n",
      "  learning_rate = trial.suggest_loguniform(\"learning_rate\", 1e-5, 1e-1)\n",
      "[I 2024-11-28 19:26:06,966] Trial 26 finished with value: 0.4262295081967213 and parameters: {'hidden_units1': 488, 'hidden_units2': 196, 'hidden_units3': 104, 'hidden_units4': 30, 'dropout_rate': 0.45000000000000007, 'learning_rate': 0.0010802813732470437}. Best is trial 23 with value: 0.6136986301369863.\n"
     ]
    },
    {
     "name": "stdout",
     "output_type": "stream",
     "text": [
      "Accuracy: 60.11%\n",
      "Precision: 0.4407\n",
      "Recall: 0.4127\n",
      "F1 Score: 0.4262\n",
      "Matthews Correlation Coefficient: 0.1212\n",
      "Specificity: 0.7067\n"
     ]
    },
    {
     "name": "stderr",
     "output_type": "stream",
     "text": [
      "/tmp/ipykernel_181066/360301711.py:7: FutureWarning: suggest_loguniform has been deprecated in v3.0.0. This feature will be removed in v6.0.0. See https://github.com/optuna/optuna/releases/tag/v3.0.0. Use suggest_float(..., log=True) instead.\n",
      "  learning_rate = trial.suggest_loguniform(\"learning_rate\", 1e-5, 1e-1)\n",
      "[I 2024-11-28 19:26:55,979] Trial 27 finished with value: 0.43902439024390244 and parameters: {'hidden_units1': 420, 'hidden_units2': 212, 'hidden_units3': 126, 'hidden_units4': 44, 'dropout_rate': 0.35, 'learning_rate': 2.0327435403518873e-05}. Best is trial 23 with value: 0.6136986301369863.\n"
     ]
    },
    {
     "name": "stdout",
     "output_type": "stream",
     "text": [
      "Accuracy: 60.68%\n",
      "Precision: 0.4500\n",
      "Recall: 0.4286\n",
      "F1 Score: 0.4390\n",
      "Matthews Correlation Coefficient: 0.1368\n",
      "Specificity: 0.7067\n"
     ]
    },
    {
     "name": "stderr",
     "output_type": "stream",
     "text": [
      "/tmp/ipykernel_181066/360301711.py:7: FutureWarning: suggest_loguniform has been deprecated in v3.0.0. This feature will be removed in v6.0.0. See https://github.com/optuna/optuna/releases/tag/v3.0.0. Use suggest_float(..., log=True) instead.\n",
      "  learning_rate = trial.suggest_loguniform(\"learning_rate\", 1e-5, 1e-1)\n",
      "[I 2024-11-28 19:27:44,521] Trial 28 finished with value: 0.5754385964912281 and parameters: {'hidden_units1': 366, 'hidden_units2': 204, 'hidden_units3': 114, 'hidden_units4': 56, 'dropout_rate': 0.25, 'learning_rate': 3.063880846258753e-05}. Best is trial 23 with value: 0.6136986301369863.\n"
     ]
    },
    {
     "name": "stdout",
     "output_type": "stream",
     "text": [
      "Accuracy: 65.53%\n",
      "Precision: 0.5157\n",
      "Recall: 0.6508\n",
      "F1 Score: 0.5754\n",
      "Matthews Correlation Coefficient: 0.2974\n",
      "Specificity: 0.6578\n"
     ]
    },
    {
     "name": "stderr",
     "output_type": "stream",
     "text": [
      "/tmp/ipykernel_181066/360301711.py:7: FutureWarning: suggest_loguniform has been deprecated in v3.0.0. This feature will be removed in v6.0.0. See https://github.com/optuna/optuna/releases/tag/v3.0.0. Use suggest_float(..., log=True) instead.\n",
      "  learning_rate = trial.suggest_loguniform(\"learning_rate\", 1e-5, 1e-1)\n",
      "[I 2024-11-28 19:28:33,593] Trial 29 finished with value: 0.509090909090909 and parameters: {'hidden_units1': 416, 'hidden_units2': 174, 'hidden_units3': 110, 'hidden_units4': 32, 'dropout_rate': 0.4, 'learning_rate': 8.265834086549987e-05}. Best is trial 23 with value: 0.6136986301369863.\n"
     ]
    },
    {
     "name": "stdout",
     "output_type": "stream",
     "text": [
      "Accuracy: 61.54%\n",
      "Precision: 0.4698\n",
      "Recall: 0.5556\n",
      "F1 Score: 0.5091\n",
      "Matthews Correlation Coefficient: 0.1984\n",
      "Specificity: 0.6489\n"
     ]
    },
    {
     "name": "stderr",
     "output_type": "stream",
     "text": [
      "/tmp/ipykernel_181066/360301711.py:7: FutureWarning: suggest_loguniform has been deprecated in v3.0.0. This feature will be removed in v6.0.0. See https://github.com/optuna/optuna/releases/tag/v3.0.0. Use suggest_float(..., log=True) instead.\n",
      "  learning_rate = trial.suggest_loguniform(\"learning_rate\", 1e-5, 1e-1)\n",
      "[I 2024-11-28 19:29:21,752] Trial 30 finished with value: 0.488 and parameters: {'hidden_units1': 442, 'hidden_units2': 196, 'hidden_units3': 98, 'hidden_units4': 46, 'dropout_rate': 0.5, 'learning_rate': 0.0001924684154370105}. Best is trial 23 with value: 0.6136986301369863.\n"
     ]
    },
    {
     "name": "stdout",
     "output_type": "stream",
     "text": [
      "Accuracy: 63.53%\n",
      "Precision: 0.4919\n",
      "Recall: 0.4841\n",
      "F1 Score: 0.4880\n",
      "Matthews Correlation Coefficient: 0.2049\n",
      "Specificity: 0.7200\n"
     ]
    },
    {
     "name": "stderr",
     "output_type": "stream",
     "text": [
      "/tmp/ipykernel_181066/360301711.py:7: FutureWarning: suggest_loguniform has been deprecated in v3.0.0. This feature will be removed in v6.0.0. See https://github.com/optuna/optuna/releases/tag/v3.0.0. Use suggest_float(..., log=True) instead.\n",
      "  learning_rate = trial.suggest_loguniform(\"learning_rate\", 1e-5, 1e-1)\n",
      "[I 2024-11-28 19:30:10,523] Trial 31 finished with value: 0.5441176470588235 and parameters: {'hidden_units1': 390, 'hidden_units2': 202, 'hidden_units3': 118, 'hidden_units4': 36, 'dropout_rate': 0.45000000000000007, 'learning_rate': 1.9288284370818813e-05}. Best is trial 23 with value: 0.6136986301369863.\n"
     ]
    },
    {
     "name": "stdout",
     "output_type": "stream",
     "text": [
      "Accuracy: 64.67%\n",
      "Precision: 0.5068\n",
      "Recall: 0.5873\n",
      "F1 Score: 0.5441\n",
      "Matthews Correlation Coefficient: 0.2602\n",
      "Specificity: 0.6800\n"
     ]
    },
    {
     "name": "stderr",
     "output_type": "stream",
     "text": [
      "/tmp/ipykernel_181066/360301711.py:7: FutureWarning: suggest_loguniform has been deprecated in v3.0.0. This feature will be removed in v6.0.0. See https://github.com/optuna/optuna/releases/tag/v3.0.0. Use suggest_float(..., log=True) instead.\n",
      "  learning_rate = trial.suggest_loguniform(\"learning_rate\", 1e-5, 1e-1)\n",
      "[I 2024-11-28 19:30:58,965] Trial 32 finished with value: 0.5988700564971752 and parameters: {'hidden_units1': 376, 'hidden_units2': 182, 'hidden_units3': 110, 'hidden_units4': 28, 'dropout_rate': 0.45000000000000007, 'learning_rate': 1.9882020489313842e-05}. Best is trial 23 with value: 0.6136986301369863.\n"
     ]
    },
    {
     "name": "stdout",
     "output_type": "stream",
     "text": [
      "Accuracy: 59.54%\n",
      "Precision: 0.4649\n",
      "Recall: 0.8413\n",
      "F1 Score: 0.5989\n",
      "Matthews Correlation Coefficient: 0.3007\n",
      "Specificity: 0.4578\n"
     ]
    },
    {
     "name": "stderr",
     "output_type": "stream",
     "text": [
      "/tmp/ipykernel_181066/360301711.py:7: FutureWarning: suggest_loguniform has been deprecated in v3.0.0. This feature will be removed in v6.0.0. See https://github.com/optuna/optuna/releases/tag/v3.0.0. Use suggest_float(..., log=True) instead.\n",
      "  learning_rate = trial.suggest_loguniform(\"learning_rate\", 1e-5, 1e-1)\n",
      "[I 2024-11-28 19:31:47,583] Trial 33 finished with value: 0.5460992907801419 and parameters: {'hidden_units1': 354, 'hidden_units2': 184, 'hidden_units3': 108, 'hidden_units4': 40, 'dropout_rate': 0.30000000000000004, 'learning_rate': 5.526493821480091e-05}. Best is trial 23 with value: 0.6136986301369863.\n"
     ]
    },
    {
     "name": "stdout",
     "output_type": "stream",
     "text": [
      "Accuracy: 63.53%\n",
      "Precision: 0.4936\n",
      "Recall: 0.6111\n",
      "F1 Score: 0.5461\n",
      "Matthews Correlation Coefficient: 0.2510\n",
      "Specificity: 0.6489\n"
     ]
    },
    {
     "name": "stderr",
     "output_type": "stream",
     "text": [
      "/tmp/ipykernel_181066/360301711.py:7: FutureWarning: suggest_loguniform has been deprecated in v3.0.0. This feature will be removed in v6.0.0. See https://github.com/optuna/optuna/releases/tag/v3.0.0. Use suggest_float(..., log=True) instead.\n",
      "  learning_rate = trial.suggest_loguniform(\"learning_rate\", 1e-5, 1e-1)\n",
      "[I 2024-11-28 19:32:36,940] Trial 34 finished with value: 0.6129032258064516 and parameters: {'hidden_units1': 376, 'hidden_units2': 190, 'hidden_units3': 106, 'hidden_units4': 36, 'dropout_rate': 0.5, 'learning_rate': 2.7103665053167682e-05}. Best is trial 23 with value: 0.6136986301369863.\n"
     ]
    },
    {
     "name": "stdout",
     "output_type": "stream",
     "text": [
      "Accuracy: 58.97%\n",
      "Precision: 0.4634\n",
      "Recall: 0.9048\n",
      "F1 Score: 0.6129\n",
      "Matthews Correlation Coefficient: 0.3333\n",
      "Specificity: 0.4133\n"
     ]
    },
    {
     "name": "stderr",
     "output_type": "stream",
     "text": [
      "/tmp/ipykernel_181066/360301711.py:7: FutureWarning: suggest_loguniform has been deprecated in v3.0.0. This feature will be removed in v6.0.0. See https://github.com/optuna/optuna/releases/tag/v3.0.0. Use suggest_float(..., log=True) instead.\n",
      "  learning_rate = trial.suggest_loguniform(\"learning_rate\", 1e-5, 1e-1)\n",
      "[I 2024-11-28 19:33:27,362] Trial 35 finished with value: 0.43478260869565216 and parameters: {'hidden_units1': 318, 'hidden_units2': 190, 'hidden_units3': 106, 'hidden_units4': 34, 'dropout_rate': 0.5, 'learning_rate': 0.0004283194654026467}. Best is trial 23 with value: 0.6136986301369863.\n"
     ]
    },
    {
     "name": "stdout",
     "output_type": "stream",
     "text": [
      "Accuracy: 62.96%\n",
      "Precision: 0.4808\n",
      "Recall: 0.3968\n",
      "F1 Score: 0.4348\n",
      "Matthews Correlation Coefficient: 0.1648\n",
      "Specificity: 0.7600\n"
     ]
    },
    {
     "name": "stderr",
     "output_type": "stream",
     "text": [
      "/tmp/ipykernel_181066/360301711.py:7: FutureWarning: suggest_loguniform has been deprecated in v3.0.0. This feature will be removed in v6.0.0. See https://github.com/optuna/optuna/releases/tag/v3.0.0. Use suggest_float(..., log=True) instead.\n",
      "  learning_rate = trial.suggest_loguniform(\"learning_rate\", 1e-5, 1e-1)\n",
      "[I 2024-11-28 19:34:15,522] Trial 36 finished with value: 0.5945945945945946 and parameters: {'hidden_units1': 438, 'hidden_units2': 192, 'hidden_units3': 102, 'hidden_units4': 42, 'dropout_rate': 0.35, 'learning_rate': 2.9554146989004805e-05}. Best is trial 23 with value: 0.6136986301369863.\n"
     ]
    },
    {
     "name": "stdout",
     "output_type": "stream",
     "text": [
      "Accuracy: 61.54%\n",
      "Precision: 0.4783\n",
      "Recall: 0.7857\n",
      "F1 Score: 0.5946\n",
      "Matthews Correlation Coefficient: 0.2981\n",
      "Specificity: 0.5200\n"
     ]
    },
    {
     "name": "stderr",
     "output_type": "stream",
     "text": [
      "/tmp/ipykernel_181066/360301711.py:7: FutureWarning: suggest_loguniform has been deprecated in v3.0.0. This feature will be removed in v6.0.0. See https://github.com/optuna/optuna/releases/tag/v3.0.0. Use suggest_float(..., log=True) instead.\n",
      "  learning_rate = trial.suggest_loguniform(\"learning_rate\", 1e-5, 1e-1)\n",
      "[I 2024-11-28 19:35:04,676] Trial 37 finished with value: 0.49242424242424243 and parameters: {'hidden_units1': 318, 'hidden_units2': 212, 'hidden_units3': 96, 'hidden_units4': 54, 'dropout_rate': 0.5, 'learning_rate': 0.00011441477397586893}. Best is trial 23 with value: 0.6136986301369863.\n"
     ]
    },
    {
     "name": "stdout",
     "output_type": "stream",
     "text": [
      "Accuracy: 61.82%\n",
      "Precision: 0.4710\n",
      "Recall: 0.5159\n",
      "F1 Score: 0.4924\n",
      "Matthews Correlation Coefficient: 0.1880\n",
      "Specificity: 0.6756\n"
     ]
    },
    {
     "name": "stderr",
     "output_type": "stream",
     "text": [
      "/tmp/ipykernel_181066/360301711.py:7: FutureWarning: suggest_loguniform has been deprecated in v3.0.0. This feature will be removed in v6.0.0. See https://github.com/optuna/optuna/releases/tag/v3.0.0. Use suggest_float(..., log=True) instead.\n",
      "  learning_rate = trial.suggest_loguniform(\"learning_rate\", 1e-5, 1e-1)\n",
      "[I 2024-11-28 19:35:53,717] Trial 38 finished with value: 0.48031496062992124 and parameters: {'hidden_units1': 378, 'hidden_units2': 198, 'hidden_units3': 114, 'hidden_units4': 38, 'dropout_rate': 0.4, 'learning_rate': 0.000518220830284348}. Best is trial 23 with value: 0.6136986301369863.\n"
     ]
    },
    {
     "name": "stdout",
     "output_type": "stream",
     "text": [
      "Accuracy: 62.39%\n",
      "Precision: 0.4766\n",
      "Recall: 0.4841\n",
      "F1 Score: 0.4803\n",
      "Matthews Correlation Coefficient: 0.1857\n",
      "Specificity: 0.7022\n"
     ]
    },
    {
     "name": "stderr",
     "output_type": "stream",
     "text": [
      "/tmp/ipykernel_181066/360301711.py:7: FutureWarning: suggest_loguniform has been deprecated in v3.0.0. This feature will be removed in v6.0.0. See https://github.com/optuna/optuna/releases/tag/v3.0.0. Use suggest_float(..., log=True) instead.\n",
      "  learning_rate = trial.suggest_loguniform(\"learning_rate\", 1e-5, 1e-1)\n",
      "[I 2024-11-28 19:36:42,671] Trial 39 finished with value: 0.5156794425087108 and parameters: {'hidden_units1': 410, 'hidden_units2': 186, 'hidden_units3': 86, 'hidden_units4': 34, 'dropout_rate': 0.25, 'learning_rate': 0.00011820631447473334}. Best is trial 23 with value: 0.6136986301369863.\n"
     ]
    },
    {
     "name": "stdout",
     "output_type": "stream",
     "text": [
      "Accuracy: 60.40%\n",
      "Precision: 0.4596\n",
      "Recall: 0.5873\n",
      "F1 Score: 0.5157\n",
      "Matthews Correlation Coefficient: 0.1931\n",
      "Specificity: 0.6133\n"
     ]
    },
    {
     "name": "stderr",
     "output_type": "stream",
     "text": [
      "/tmp/ipykernel_181066/360301711.py:7: FutureWarning: suggest_loguniform has been deprecated in v3.0.0. This feature will be removed in v6.0.0. See https://github.com/optuna/optuna/releases/tag/v3.0.0. Use suggest_float(..., log=True) instead.\n",
      "  learning_rate = trial.suggest_loguniform(\"learning_rate\", 1e-5, 1e-1)\n",
      "[I 2024-11-28 19:37:32,794] Trial 40 finished with value: 0.5196850393700787 and parameters: {'hidden_units1': 458, 'hidden_units2': 206, 'hidden_units3': 124, 'hidden_units4': 38, 'dropout_rate': 0.30000000000000004, 'learning_rate': 0.004589244508420564}. Best is trial 23 with value: 0.6136986301369863.\n"
     ]
    },
    {
     "name": "stdout",
     "output_type": "stream",
     "text": [
      "Accuracy: 65.24%\n",
      "Precision: 0.5156\n",
      "Recall: 0.5238\n",
      "F1 Score: 0.5197\n",
      "Matthews Correlation Coefficient: 0.2474\n",
      "Specificity: 0.7244\n"
     ]
    },
    {
     "name": "stderr",
     "output_type": "stream",
     "text": [
      "/tmp/ipykernel_181066/360301711.py:7: FutureWarning: suggest_loguniform has been deprecated in v3.0.0. This feature will be removed in v6.0.0. See https://github.com/optuna/optuna/releases/tag/v3.0.0. Use suggest_float(..., log=True) instead.\n",
      "  learning_rate = trial.suggest_loguniform(\"learning_rate\", 1e-5, 1e-1)\n",
      "[I 2024-11-28 19:38:21,505] Trial 41 finished with value: 0.6128133704735376 and parameters: {'hidden_units1': 374, 'hidden_units2': 178, 'hidden_units3': 108, 'hidden_units4': 30, 'dropout_rate': 0.45000000000000007, 'learning_rate': 1.6187586515033107e-05}. Best is trial 23 with value: 0.6136986301369863.\n"
     ]
    },
    {
     "name": "stdout",
     "output_type": "stream",
     "text": [
      "Accuracy: 60.40%\n",
      "Precision: 0.4721\n",
      "Recall: 0.8730\n",
      "F1 Score: 0.6128\n",
      "Matthews Correlation Coefficient: 0.3314\n",
      "Specificity: 0.4533\n"
     ]
    },
    {
     "name": "stderr",
     "output_type": "stream",
     "text": [
      "/tmp/ipykernel_181066/360301711.py:7: FutureWarning: suggest_loguniform has been deprecated in v3.0.0. This feature will be removed in v6.0.0. See https://github.com/optuna/optuna/releases/tag/v3.0.0. Use suggest_float(..., log=True) instead.\n",
      "  learning_rate = trial.suggest_loguniform(\"learning_rate\", 1e-5, 1e-1)\n",
      "[I 2024-11-28 19:39:10,700] Trial 42 finished with value: 0.6 and parameters: {'hidden_units1': 350, 'hidden_units2': 178, 'hidden_units3': 102, 'hidden_units4': 30, 'dropout_rate': 0.45000000000000007, 'learning_rate': 1.5125330126626373e-05}. Best is trial 23 with value: 0.6136986301369863.\n"
     ]
    },
    {
     "name": "stdout",
     "output_type": "stream",
     "text": [
      "Accuracy: 61.25%\n",
      "Precision: 0.4766\n",
      "Recall: 0.8095\n",
      "F1 Score: 0.6000\n",
      "Matthews Correlation Coefficient: 0.3066\n",
      "Specificity: 0.5022\n"
     ]
    },
    {
     "name": "stderr",
     "output_type": "stream",
     "text": [
      "/tmp/ipykernel_181066/360301711.py:7: FutureWarning: suggest_loguniform has been deprecated in v3.0.0. This feature will be removed in v6.0.0. See https://github.com/optuna/optuna/releases/tag/v3.0.0. Use suggest_float(..., log=True) instead.\n",
      "  learning_rate = trial.suggest_loguniform(\"learning_rate\", 1e-5, 1e-1)\n",
      "[I 2024-11-28 19:39:59,690] Trial 43 finished with value: 0.44609665427509293 and parameters: {'hidden_units1': 404, 'hidden_units2': 192, 'hidden_units3': 106, 'hidden_units4': 32, 'dropout_rate': 0.5, 'learning_rate': 2.9312030022576117e-05}. Best is trial 23 with value: 0.6136986301369863.\n"
     ]
    },
    {
     "name": "stdout",
     "output_type": "stream",
     "text": [
      "Accuracy: 57.55%\n",
      "Precision: 0.4196\n",
      "Recall: 0.4762\n",
      "F1 Score: 0.4461\n",
      "Matthews Correlation Coefficient: 0.1048\n",
      "Specificity: 0.6311\n"
     ]
    },
    {
     "name": "stderr",
     "output_type": "stream",
     "text": [
      "/tmp/ipykernel_181066/360301711.py:7: FutureWarning: suggest_loguniform has been deprecated in v3.0.0. This feature will be removed in v6.0.0. See https://github.com/optuna/optuna/releases/tag/v3.0.0. Use suggest_float(..., log=True) instead.\n",
      "  learning_rate = trial.suggest_loguniform(\"learning_rate\", 1e-5, 1e-1)\n",
      "[I 2024-11-28 19:40:48,335] Trial 44 finished with value: 0.5379310344827586 and parameters: {'hidden_units1': 330, 'hidden_units2': 168, 'hidden_units3': 114, 'hidden_units4': 20, 'dropout_rate': 0.4, 'learning_rate': 4.6342035919407684e-05}. Best is trial 23 with value: 0.6136986301369863.\n"
     ]
    },
    {
     "name": "stdout",
     "output_type": "stream",
     "text": [
      "Accuracy: 61.82%\n",
      "Precision: 0.4756\n",
      "Recall: 0.6190\n",
      "F1 Score: 0.5379\n",
      "Matthews Correlation Coefficient: 0.2277\n",
      "Specificity: 0.6178\n"
     ]
    },
    {
     "name": "stderr",
     "output_type": "stream",
     "text": [
      "/tmp/ipykernel_181066/360301711.py:7: FutureWarning: suggest_loguniform has been deprecated in v3.0.0. This feature will be removed in v6.0.0. See https://github.com/optuna/optuna/releases/tag/v3.0.0. Use suggest_float(..., log=True) instead.\n",
      "  learning_rate = trial.suggest_loguniform(\"learning_rate\", 1e-5, 1e-1)\n",
      "[I 2024-11-28 19:41:37,027] Trial 45 finished with value: 0.5819397993311036 and parameters: {'hidden_units1': 432, 'hidden_units2': 188, 'hidden_units3': 104, 'hidden_units4': 36, 'dropout_rate': 0.45000000000000007, 'learning_rate': 1.1822808763573946e-05}. Best is trial 23 with value: 0.6136986301369863.\n"
     ]
    },
    {
     "name": "stdout",
     "output_type": "stream",
     "text": [
      "Accuracy: 64.39%\n",
      "Precision: 0.5029\n",
      "Recall: 0.6905\n",
      "F1 Score: 0.5819\n",
      "Matthews Correlation Coefficient: 0.2958\n",
      "Specificity: 0.6178\n"
     ]
    },
    {
     "name": "stderr",
     "output_type": "stream",
     "text": [
      "/tmp/ipykernel_181066/360301711.py:7: FutureWarning: suggest_loguniform has been deprecated in v3.0.0. This feature will be removed in v6.0.0. See https://github.com/optuna/optuna/releases/tag/v3.0.0. Use suggest_float(..., log=True) instead.\n",
      "  learning_rate = trial.suggest_loguniform(\"learning_rate\", 1e-5, 1e-1)\n",
      "[I 2024-11-28 19:42:26,442] Trial 46 finished with value: 0.6157894736842106 and parameters: {'hidden_units1': 380, 'hidden_units2': 178, 'hidden_units3': 108, 'hidden_units4': 48, 'dropout_rate': 0.5, 'learning_rate': 2.50776950804859e-05}. Best is trial 46 with value: 0.6157894736842106.\n"
     ]
    },
    {
     "name": "stdout",
     "output_type": "stream",
     "text": [
      "Accuracy: 58.40%\n",
      "Precision: 0.4606\n",
      "Recall: 0.9286\n",
      "F1 Score: 0.6158\n",
      "Matthews Correlation Coefficient: 0.3429\n",
      "Specificity: 0.3911\n"
     ]
    },
    {
     "name": "stderr",
     "output_type": "stream",
     "text": [
      "/tmp/ipykernel_181066/360301711.py:7: FutureWarning: suggest_loguniform has been deprecated in v3.0.0. This feature will be removed in v6.0.0. See https://github.com/optuna/optuna/releases/tag/v3.0.0. Use suggest_float(..., log=True) instead.\n",
      "  learning_rate = trial.suggest_loguniform(\"learning_rate\", 1e-5, 1e-1)\n",
      "[I 2024-11-28 19:43:16,770] Trial 47 finished with value: 0.5977653631284916 and parameters: {'hidden_units1': 372, 'hidden_units2': 178, 'hidden_units3': 94, 'hidden_units4': 48, 'dropout_rate': 0.5, 'learning_rate': 2.3906982507870842e-05}. Best is trial 46 with value: 0.6157894736842106.\n"
     ]
    },
    {
     "name": "stdout",
     "output_type": "stream",
     "text": [
      "Accuracy: 58.97%\n",
      "Precision: 0.4612\n",
      "Recall: 0.8492\n",
      "F1 Score: 0.5978\n",
      "Matthews Correlation Coefficient: 0.2976\n",
      "Specificity: 0.4444\n"
     ]
    },
    {
     "name": "stderr",
     "output_type": "stream",
     "text": [
      "/tmp/ipykernel_181066/360301711.py:7: FutureWarning: suggest_loguniform has been deprecated in v3.0.0. This feature will be removed in v6.0.0. See https://github.com/optuna/optuna/releases/tag/v3.0.0. Use suggest_float(..., log=True) instead.\n",
      "  learning_rate = trial.suggest_loguniform(\"learning_rate\", 1e-5, 1e-1)\n",
      "[I 2024-11-28 19:44:05,955] Trial 48 finished with value: 0.6153846153846154 and parameters: {'hidden_units1': 384, 'hidden_units2': 170, 'hidden_units3': 112, 'hidden_units4': 52, 'dropout_rate': 0.5, 'learning_rate': 5.68045025979691e-05}. Best is trial 46 with value: 0.6157894736842106.\n"
     ]
    },
    {
     "name": "stdout",
     "output_type": "stream",
     "text": [
      "Accuracy: 60.11%\n",
      "Precision: 0.4706\n",
      "Recall: 0.8889\n",
      "F1 Score: 0.6154\n",
      "Matthews Correlation Coefficient: 0.3377\n",
      "Specificity: 0.4400\n"
     ]
    },
    {
     "name": "stderr",
     "output_type": "stream",
     "text": [
      "/tmp/ipykernel_181066/360301711.py:7: FutureWarning: suggest_loguniform has been deprecated in v3.0.0. This feature will be removed in v6.0.0. See https://github.com/optuna/optuna/releases/tag/v3.0.0. Use suggest_float(..., log=True) instead.\n",
      "  learning_rate = trial.suggest_loguniform(\"learning_rate\", 1e-5, 1e-1)\n",
      "[I 2024-11-28 19:44:55,423] Trial 49 finished with value: 0.48120300751879697 and parameters: {'hidden_units1': 386, 'hidden_units2': 166, 'hidden_units3': 112, 'hidden_units4': 56, 'dropout_rate': 0.5, 'learning_rate': 0.00024369204922680888}. Best is trial 46 with value: 0.6157894736842106.\n"
     ]
    },
    {
     "name": "stdout",
     "output_type": "stream",
     "text": [
      "Accuracy: 60.68%\n",
      "Precision: 0.4571\n",
      "Recall: 0.5079\n",
      "F1 Score: 0.4812\n",
      "Matthews Correlation Coefficient: 0.1667\n",
      "Specificity: 0.6622\n"
     ]
    },
    {
     "name": "stderr",
     "output_type": "stream",
     "text": [
      "/tmp/ipykernel_181066/360301711.py:7: FutureWarning: suggest_loguniform has been deprecated in v3.0.0. This feature will be removed in v6.0.0. See https://github.com/optuna/optuna/releases/tag/v3.0.0. Use suggest_float(..., log=True) instead.\n",
      "  learning_rate = trial.suggest_loguniform(\"learning_rate\", 1e-5, 1e-1)\n",
      "[I 2024-11-28 19:45:44,639] Trial 50 finished with value: 0.6038781163434903 and parameters: {'hidden_units1': 426, 'hidden_units2': 172, 'hidden_units3': 100, 'hidden_units4': 46, 'dropout_rate': 0.5, 'learning_rate': 5.531902143867887e-05}. Best is trial 46 with value: 0.6157894736842106.\n"
     ]
    },
    {
     "name": "stdout",
     "output_type": "stream",
     "text": [
      "Accuracy: 59.26%\n",
      "Precision: 0.4638\n",
      "Recall: 0.8651\n",
      "F1 Score: 0.6039\n",
      "Matthews Correlation Coefficient: 0.3111\n",
      "Specificity: 0.4400\n"
     ]
    },
    {
     "name": "stderr",
     "output_type": "stream",
     "text": [
      "/tmp/ipykernel_181066/360301711.py:7: FutureWarning: suggest_loguniform has been deprecated in v3.0.0. This feature will be removed in v6.0.0. See https://github.com/optuna/optuna/releases/tag/v3.0.0. Use suggest_float(..., log=True) instead.\n",
      "  learning_rate = trial.suggest_loguniform(\"learning_rate\", 1e-5, 1e-1)\n",
      "[I 2024-11-28 19:46:33,687] Trial 51 finished with value: 0.6070460704607046 and parameters: {'hidden_units1': 404, 'hidden_units2': 178, 'hidden_units3': 116, 'hidden_units4': 50, 'dropout_rate': 0.45000000000000007, 'learning_rate': 1.4237121433352127e-05}. Best is trial 46 with value: 0.6157894736842106.\n"
     ]
    },
    {
     "name": "stdout",
     "output_type": "stream",
     "text": [
      "Accuracy: 58.69%\n",
      "Precision: 0.4609\n",
      "Recall: 0.8889\n",
      "F1 Score: 0.6070\n",
      "Matthews Correlation Coefficient: 0.3187\n",
      "Specificity: 0.4178\n"
     ]
    },
    {
     "name": "stderr",
     "output_type": "stream",
     "text": [
      "/tmp/ipykernel_181066/360301711.py:7: FutureWarning: suggest_loguniform has been deprecated in v3.0.0. This feature will be removed in v6.0.0. See https://github.com/optuna/optuna/releases/tag/v3.0.0. Use suggest_float(..., log=True) instead.\n",
      "  learning_rate = trial.suggest_loguniform(\"learning_rate\", 1e-5, 1e-1)\n",
      "[I 2024-11-28 19:47:22,961] Trial 52 finished with value: 0.6081871345029239 and parameters: {'hidden_units1': 362, 'hidden_units2': 172, 'hidden_units3': 108, 'hidden_units4': 52, 'dropout_rate': 0.5, 'learning_rate': 2.7703677054902837e-05}. Best is trial 46 with value: 0.6157894736842106.\n"
     ]
    },
    {
     "name": "stdout",
     "output_type": "stream",
     "text": [
      "Accuracy: 61.82%\n",
      "Precision: 0.4815\n",
      "Recall: 0.8254\n",
      "F1 Score: 0.6082\n",
      "Matthews Correlation Coefficient: 0.3230\n",
      "Specificity: 0.5022\n"
     ]
    },
    {
     "name": "stderr",
     "output_type": "stream",
     "text": [
      "/tmp/ipykernel_181066/360301711.py:7: FutureWarning: suggest_loguniform has been deprecated in v3.0.0. This feature will be removed in v6.0.0. See https://github.com/optuna/optuna/releases/tag/v3.0.0. Use suggest_float(..., log=True) instead.\n",
      "  learning_rate = trial.suggest_loguniform(\"learning_rate\", 1e-5, 1e-1)\n",
      "[I 2024-11-28 19:48:11,513] Trial 53 finished with value: 0.6256410256410256 and parameters: {'hidden_units1': 452, 'hidden_units2': 164, 'hidden_units3': 112, 'hidden_units4': 58, 'dropout_rate': 0.5, 'learning_rate': 4.2763059550763196e-05}. Best is trial 53 with value: 0.6256410256410256.\n"
     ]
    },
    {
     "name": "stdout",
     "output_type": "stream",
     "text": [
      "Accuracy: 58.40%\n",
      "Precision: 0.4621\n",
      "Recall: 0.9683\n",
      "F1 Score: 0.6256\n",
      "Matthews Correlation Coefficient: 0.3746\n",
      "Specificity: 0.3689\n"
     ]
    },
    {
     "name": "stderr",
     "output_type": "stream",
     "text": [
      "/tmp/ipykernel_181066/360301711.py:7: FutureWarning: suggest_loguniform has been deprecated in v3.0.0. This feature will be removed in v6.0.0. See https://github.com/optuna/optuna/releases/tag/v3.0.0. Use suggest_float(..., log=True) instead.\n",
      "  learning_rate = trial.suggest_loguniform(\"learning_rate\", 1e-5, 1e-1)\n",
      "[I 2024-11-28 19:48:59,129] Trial 54 finished with value: 0.6266318537859008 and parameters: {'hidden_units1': 448, 'hidden_units2': 148, 'hidden_units3': 112, 'hidden_units4': 64, 'dropout_rate': 0.5, 'learning_rate': 9.347756116243938e-05}. Best is trial 54 with value: 0.6266318537859008.\n"
     ]
    },
    {
     "name": "stdout",
     "output_type": "stream",
     "text": [
      "Accuracy: 59.26%\n",
      "Precision: 0.4669\n",
      "Recall: 0.9524\n",
      "F1 Score: 0.6266\n",
      "Matthews Correlation Coefficient: 0.3721\n",
      "Specificity: 0.3911\n"
     ]
    },
    {
     "name": "stderr",
     "output_type": "stream",
     "text": [
      "/tmp/ipykernel_181066/360301711.py:7: FutureWarning: suggest_loguniform has been deprecated in v3.0.0. This feature will be removed in v6.0.0. See https://github.com/optuna/optuna/releases/tag/v3.0.0. Use suggest_float(..., log=True) instead.\n",
      "  learning_rate = trial.suggest_loguniform(\"learning_rate\", 1e-5, 1e-1)\n",
      "[I 2024-11-28 19:49:48,406] Trial 55 finished with value: 0.5309090909090909 and parameters: {'hidden_units1': 476, 'hidden_units2': 144, 'hidden_units3': 122, 'hidden_units4': 64, 'dropout_rate': 0.15000000000000002, 'learning_rate': 0.0001131538563009756}. Best is trial 54 with value: 0.6266318537859008.\n"
     ]
    },
    {
     "name": "stdout",
     "output_type": "stream",
     "text": [
      "Accuracy: 63.25%\n",
      "Precision: 0.4899\n",
      "Recall: 0.5794\n",
      "F1 Score: 0.5309\n",
      "Matthews Correlation Coefficient: 0.2345\n",
      "Specificity: 0.6622\n"
     ]
    },
    {
     "name": "stderr",
     "output_type": "stream",
     "text": [
      "/tmp/ipykernel_181066/360301711.py:7: FutureWarning: suggest_loguniform has been deprecated in v3.0.0. This feature will be removed in v6.0.0. See https://github.com/optuna/optuna/releases/tag/v3.0.0. Use suggest_float(..., log=True) instead.\n",
      "  learning_rate = trial.suggest_loguniform(\"learning_rate\", 1e-5, 1e-1)\n",
      "[I 2024-11-28 19:50:36,544] Trial 56 finished with value: 0.3813953488372093 and parameters: {'hidden_units1': 458, 'hidden_units2': 148, 'hidden_units3': 118, 'hidden_units4': 60, 'dropout_rate': 0.5, 'learning_rate': 8.092190565374643e-05}. Best is trial 54 with value: 0.6266318537859008.\n"
     ]
    },
    {
     "name": "stdout",
     "output_type": "stream",
     "text": [
      "Accuracy: 62.11%\n",
      "Precision: 0.4607\n",
      "Recall: 0.3254\n",
      "F1 Score: 0.3814\n",
      "Matthews Correlation Coefficient: 0.1236\n",
      "Specificity: 0.7867\n"
     ]
    },
    {
     "name": "stderr",
     "output_type": "stream",
     "text": [
      "/tmp/ipykernel_181066/360301711.py:7: FutureWarning: suggest_loguniform has been deprecated in v3.0.0. This feature will be removed in v6.0.0. See https://github.com/optuna/optuna/releases/tag/v3.0.0. Use suggest_float(..., log=True) instead.\n",
      "  learning_rate = trial.suggest_loguniform(\"learning_rate\", 1e-5, 1e-1)\n",
      "[I 2024-11-28 19:51:25,850] Trial 57 finished with value: 0.4017857142857143 and parameters: {'hidden_units1': 446, 'hidden_units2': 156, 'hidden_units3': 112, 'hidden_units4': 60, 'dropout_rate': 0.5, 'learning_rate': 4.2494637665804034e-05}. Best is trial 54 with value: 0.6266318537859008.\n"
     ]
    },
    {
     "name": "stdout",
     "output_type": "stream",
     "text": [
      "Accuracy: 61.82%\n",
      "Precision: 0.4592\n",
      "Recall: 0.3571\n",
      "F1 Score: 0.4018\n",
      "Matthews Correlation Coefficient: 0.1300\n",
      "Specificity: 0.7644\n"
     ]
    },
    {
     "name": "stderr",
     "output_type": "stream",
     "text": [
      "/tmp/ipykernel_181066/360301711.py:7: FutureWarning: suggest_loguniform has been deprecated in v3.0.0. This feature will be removed in v6.0.0. See https://github.com/optuna/optuna/releases/tag/v3.0.0. Use suggest_float(..., log=True) instead.\n",
      "  learning_rate = trial.suggest_loguniform(\"learning_rate\", 1e-5, 1e-1)\n",
      "[I 2024-11-28 19:52:14,662] Trial 58 finished with value: 0.5756676557863502 and parameters: {'hidden_units1': 480, 'hidden_units2': 134, 'hidden_units3': 116, 'hidden_units4': 58, 'dropout_rate': 0.45000000000000007, 'learning_rate': 5.8913252462588836e-05}. Best is trial 54 with value: 0.6266318537859008.\n"
     ]
    },
    {
     "name": "stdout",
     "output_type": "stream",
     "text": [
      "Accuracy: 59.26%\n",
      "Precision: 0.4597\n",
      "Recall: 0.7698\n",
      "F1 Score: 0.5757\n",
      "Matthews Correlation Coefficient: 0.2578\n",
      "Specificity: 0.4933\n"
     ]
    },
    {
     "name": "stderr",
     "output_type": "stream",
     "text": [
      "/tmp/ipykernel_181066/360301711.py:7: FutureWarning: suggest_loguniform has been deprecated in v3.0.0. This feature will be removed in v6.0.0. See https://github.com/optuna/optuna/releases/tag/v3.0.0. Use suggest_float(..., log=True) instead.\n",
      "  learning_rate = trial.suggest_loguniform(\"learning_rate\", 1e-5, 1e-1)\n",
      "[I 2024-11-28 19:53:04,406] Trial 59 finished with value: 0.4444444444444444 and parameters: {'hidden_units1': 450, 'hidden_units2': 164, 'hidden_units3': 122, 'hidden_units4': 62, 'dropout_rate': 0.5, 'learning_rate': 0.0006643067368592084}. Best is trial 54 with value: 0.6266318537859008.\n"
     ]
    },
    {
     "name": "stdout",
     "output_type": "stream",
     "text": [
      "Accuracy: 61.54%\n",
      "Precision: 0.4615\n",
      "Recall: 0.4286\n",
      "F1 Score: 0.4444\n",
      "Matthews Correlation Coefficient: 0.1512\n",
      "Specificity: 0.7200\n"
     ]
    },
    {
     "name": "stderr",
     "output_type": "stream",
     "text": [
      "/tmp/ipykernel_181066/360301711.py:7: FutureWarning: suggest_loguniform has been deprecated in v3.0.0. This feature will be removed in v6.0.0. See https://github.com/optuna/optuna/releases/tag/v3.0.0. Use suggest_float(..., log=True) instead.\n",
      "  learning_rate = trial.suggest_loguniform(\"learning_rate\", 1e-5, 1e-1)\n",
      "[I 2024-11-28 19:53:54,159] Trial 60 finished with value: 0.3755868544600939 and parameters: {'hidden_units1': 472, 'hidden_units2': 138, 'hidden_units3': 128, 'hidden_units4': 52, 'dropout_rate': 0.45000000000000007, 'learning_rate': 4.034542578241125e-05}. Best is trial 54 with value: 0.6266318537859008.\n"
     ]
    },
    {
     "name": "stdout",
     "output_type": "stream",
     "text": [
      "Accuracy: 62.11%\n",
      "Precision: 0.4598\n",
      "Recall: 0.3175\n",
      "F1 Score: 0.3756\n",
      "Matthews Correlation Coefficient: 0.1206\n",
      "Specificity: 0.7911\n"
     ]
    },
    {
     "name": "stderr",
     "output_type": "stream",
     "text": [
      "/tmp/ipykernel_181066/360301711.py:7: FutureWarning: suggest_loguniform has been deprecated in v3.0.0. This feature will be removed in v6.0.0. See https://github.com/optuna/optuna/releases/tag/v3.0.0. Use suggest_float(..., log=True) instead.\n",
      "  learning_rate = trial.suggest_loguniform(\"learning_rate\", 1e-5, 1e-1)\n",
      "[I 2024-11-28 19:54:42,245] Trial 61 finished with value: 0.6153846153846154 and parameters: {'hidden_units1': 400, 'hidden_units2': 160, 'hidden_units3': 104, 'hidden_units4': 56, 'dropout_rate': 0.5, 'learning_rate': 2.4910523165014477e-05}. Best is trial 54 with value: 0.6266318537859008.\n"
     ]
    },
    {
     "name": "stdout",
     "output_type": "stream",
     "text": [
      "Accuracy: 58.69%\n",
      "Precision: 0.4622\n",
      "Recall: 0.9206\n",
      "F1 Score: 0.6154\n",
      "Matthews Correlation Coefficient: 0.3408\n",
      "Specificity: 0.4000\n"
     ]
    },
    {
     "name": "stderr",
     "output_type": "stream",
     "text": [
      "/tmp/ipykernel_181066/360301711.py:7: FutureWarning: suggest_loguniform has been deprecated in v3.0.0. This feature will be removed in v6.0.0. See https://github.com/optuna/optuna/releases/tag/v3.0.0. Use suggest_float(..., log=True) instead.\n",
      "  learning_rate = trial.suggest_loguniform(\"learning_rate\", 1e-5, 1e-1)\n",
      "[I 2024-11-28 19:55:28,800] Trial 62 finished with value: 0.39090909090909093 and parameters: {'hidden_units1': 430, 'hidden_units2': 152, 'hidden_units3': 104, 'hidden_units4': 56, 'dropout_rate': 0.5, 'learning_rate': 0.0001647595756108738}. Best is trial 54 with value: 0.6266318537859008.\n"
     ]
    },
    {
     "name": "stdout",
     "output_type": "stream",
     "text": [
      "Accuracy: 61.82%\n",
      "Precision: 0.4574\n",
      "Recall: 0.3413\n",
      "F1 Score: 0.3909\n",
      "Matthews Correlation Coefficient: 0.1241\n",
      "Specificity: 0.7733\n"
     ]
    },
    {
     "name": "stderr",
     "output_type": "stream",
     "text": [
      "/tmp/ipykernel_181066/360301711.py:7: FutureWarning: suggest_loguniform has been deprecated in v3.0.0. This feature will be removed in v6.0.0. See https://github.com/optuna/optuna/releases/tag/v3.0.0. Use suggest_float(..., log=True) instead.\n",
      "  learning_rate = trial.suggest_loguniform(\"learning_rate\", 1e-5, 1e-1)\n",
      "[I 2024-11-28 19:56:16,797] Trial 63 finished with value: 0.6197916666666666 and parameters: {'hidden_units1': 410, 'hidden_units2': 160, 'hidden_units3': 112, 'hidden_units4': 62, 'dropout_rate': 0.5, 'learning_rate': 8.28657610773303e-05}. Best is trial 54 with value: 0.6266318537859008.\n"
     ]
    },
    {
     "name": "stdout",
     "output_type": "stream",
     "text": [
      "Accuracy: 58.40%\n",
      "Precision: 0.4612\n",
      "Recall: 0.9444\n",
      "F1 Score: 0.6198\n",
      "Matthews Correlation Coefficient: 0.3551\n",
      "Specificity: 0.3822\n"
     ]
    },
    {
     "name": "stderr",
     "output_type": "stream",
     "text": [
      "/tmp/ipykernel_181066/360301711.py:7: FutureWarning: suggest_loguniform has been deprecated in v3.0.0. This feature will be removed in v6.0.0. See https://github.com/optuna/optuna/releases/tag/v3.0.0. Use suggest_float(..., log=True) instead.\n",
      "  learning_rate = trial.suggest_loguniform(\"learning_rate\", 1e-5, 1e-1)\n",
      "[I 2024-11-28 19:57:03,638] Trial 64 finished with value: 0.5786163522012578 and parameters: {'hidden_units1': 508, 'hidden_units2': 160, 'hidden_units3': 112, 'hidden_units4': 62, 'dropout_rate': 0.5, 'learning_rate': 0.00010434164308116615}. Best is trial 54 with value: 0.6266318537859008.\n"
     ]
    },
    {
     "name": "stdout",
     "output_type": "stream",
     "text": [
      "Accuracy: 61.82%\n",
      "Precision: 0.4792\n",
      "Recall: 0.7302\n",
      "F1 Score: 0.5786\n",
      "Matthews Correlation Coefficient: 0.2753\n",
      "Specificity: 0.5556\n"
     ]
    },
    {
     "name": "stderr",
     "output_type": "stream",
     "text": [
      "/tmp/ipykernel_181066/360301711.py:7: FutureWarning: suggest_loguniform has been deprecated in v3.0.0. This feature will be removed in v6.0.0. See https://github.com/optuna/optuna/releases/tag/v3.0.0. Use suggest_float(..., log=True) instead.\n",
      "  learning_rate = trial.suggest_loguniform(\"learning_rate\", 1e-5, 1e-1)\n",
      "[I 2024-11-28 19:57:53,104] Trial 65 finished with value: 0.5134099616858238 and parameters: {'hidden_units1': 398, 'hidden_units2': 168, 'hidden_units3': 114, 'hidden_units4': 58, 'dropout_rate': 0.45000000000000007, 'learning_rate': 0.00023432165906237367}. Best is trial 54 with value: 0.6266318537859008.\n"
     ]
    },
    {
     "name": "stdout",
     "output_type": "stream",
     "text": [
      "Accuracy: 63.82%\n",
      "Precision: 0.4963\n",
      "Recall: 0.5317\n",
      "F1 Score: 0.5134\n",
      "Matthews Correlation Coefficient: 0.2263\n",
      "Specificity: 0.6978\n"
     ]
    },
    {
     "name": "stderr",
     "output_type": "stream",
     "text": [
      "/tmp/ipykernel_181066/360301711.py:7: FutureWarning: suggest_loguniform has been deprecated in v3.0.0. This feature will be removed in v6.0.0. See https://github.com/optuna/optuna/releases/tag/v3.0.0. Use suggest_float(..., log=True) instead.\n",
      "  learning_rate = trial.suggest_loguniform(\"learning_rate\", 1e-5, 1e-1)\n",
      "[I 2024-11-28 19:58:43,414] Trial 66 finished with value: 0.3027027027027027 and parameters: {'hidden_units1': 494, 'hidden_units2': 150, 'hidden_units3': 110, 'hidden_units4': 54, 'dropout_rate': 0.5, 'learning_rate': 7.468860634945811e-05}. Best is trial 54 with value: 0.6266318537859008.\n"
     ]
    },
    {
     "name": "stdout",
     "output_type": "stream",
     "text": [
      "Accuracy: 63.25%\n",
      "Precision: 0.4746\n",
      "Recall: 0.2222\n",
      "F1 Score: 0.3027\n",
      "Matthews Correlation Coefficient: 0.1083\n",
      "Specificity: 0.8622\n"
     ]
    },
    {
     "name": "stderr",
     "output_type": "stream",
     "text": [
      "/tmp/ipykernel_181066/360301711.py:7: FutureWarning: suggest_loguniform has been deprecated in v3.0.0. This feature will be removed in v6.0.0. See https://github.com/optuna/optuna/releases/tag/v3.0.0. Use suggest_float(..., log=True) instead.\n",
      "  learning_rate = trial.suggest_loguniform(\"learning_rate\", 1e-5, 1e-1)\n",
      "[I 2024-11-28 19:59:32,861] Trial 67 finished with value: 0.6183844011142061 and parameters: {'hidden_units1': 404, 'hidden_units2': 156, 'hidden_units3': 100, 'hidden_units4': 64, 'dropout_rate': 0.45000000000000007, 'learning_rate': 4.007980424458777e-05}. Best is trial 54 with value: 0.6266318537859008.\n"
     ]
    },
    {
     "name": "stdout",
     "output_type": "stream",
     "text": [
      "Accuracy: 60.97%\n",
      "Precision: 0.4764\n",
      "Recall: 0.8810\n",
      "F1 Score: 0.6184\n",
      "Matthews Correlation Coefficient: 0.3440\n",
      "Specificity: 0.4578\n"
     ]
    },
    {
     "name": "stderr",
     "output_type": "stream",
     "text": [
      "/tmp/ipykernel_181066/360301711.py:7: FutureWarning: suggest_loguniform has been deprecated in v3.0.0. This feature will be removed in v6.0.0. See https://github.com/optuna/optuna/releases/tag/v3.0.0. Use suggest_float(..., log=True) instead.\n",
      "  learning_rate = trial.suggest_loguniform(\"learning_rate\", 1e-5, 1e-1)\n",
      "[I 2024-11-28 20:00:22,257] Trial 68 finished with value: 0.5374149659863946 and parameters: {'hidden_units1': 396, 'hidden_units2': 156, 'hidden_units3': 100, 'hidden_units4': 62, 'dropout_rate': 0.5, 'learning_rate': 0.0003261803453249483}. Best is trial 54 with value: 0.6266318537859008.\n"
     ]
    },
    {
     "name": "stdout",
     "output_type": "stream",
     "text": [
      "Accuracy: 61.25%\n",
      "Precision: 0.4702\n",
      "Recall: 0.6270\n",
      "F1 Score: 0.5374\n",
      "Matthews Correlation Coefficient: 0.2222\n",
      "Specificity: 0.6044\n"
     ]
    },
    {
     "name": "stderr",
     "output_type": "stream",
     "text": [
      "/tmp/ipykernel_181066/360301711.py:7: FutureWarning: suggest_loguniform has been deprecated in v3.0.0. This feature will be removed in v6.0.0. See https://github.com/optuna/optuna/releases/tag/v3.0.0. Use suggest_float(..., log=True) instead.\n",
      "  learning_rate = trial.suggest_loguniform(\"learning_rate\", 1e-5, 1e-1)\n",
      "[I 2024-11-28 20:01:09,380] Trial 69 finished with value: 0.35467980295566504 and parameters: {'hidden_units1': 426, 'hidden_units2': 162, 'hidden_units3': 120, 'hidden_units4': 64, 'dropout_rate': 0.4, 'learning_rate': 4.854211887029666e-05}. Best is trial 54 with value: 0.6266318537859008.\n"
     ]
    },
    {
     "name": "stdout",
     "output_type": "stream",
     "text": [
      "Accuracy: 62.68%\n",
      "Precision: 0.4675\n",
      "Recall: 0.2857\n",
      "F1 Score: 0.3547\n",
      "Matthews Correlation Coefficient: 0.1200\n",
      "Specificity: 0.8178\n"
     ]
    },
    {
     "name": "stderr",
     "output_type": "stream",
     "text": [
      "/tmp/ipykernel_181066/360301711.py:7: FutureWarning: suggest_loguniform has been deprecated in v3.0.0. This feature will be removed in v6.0.0. See https://github.com/optuna/optuna/releases/tag/v3.0.0. Use suggest_float(..., log=True) instead.\n",
      "  learning_rate = trial.suggest_loguniform(\"learning_rate\", 1e-5, 1e-1)\n",
      "[I 2024-11-28 20:01:59,122] Trial 70 finished with value: 0.6206896551724138 and parameters: {'hidden_units1': 384, 'hidden_units2': 146, 'hidden_units3': 98, 'hidden_units4': 58, 'dropout_rate': 0.45000000000000007, 'learning_rate': 3.302469343964605e-05}. Best is trial 54 with value: 0.6266318537859008.\n"
     ]
    },
    {
     "name": "stdout",
     "output_type": "stream",
     "text": [
      "Accuracy: 59.26%\n",
      "Precision: 0.4661\n",
      "Recall: 0.9286\n",
      "F1 Score: 0.6207\n",
      "Matthews Correlation Coefficient: 0.3539\n",
      "Specificity: 0.4044\n"
     ]
    },
    {
     "name": "stderr",
     "output_type": "stream",
     "text": [
      "/tmp/ipykernel_181066/360301711.py:7: FutureWarning: suggest_loguniform has been deprecated in v3.0.0. This feature will be removed in v6.0.0. See https://github.com/optuna/optuna/releases/tag/v3.0.0. Use suggest_float(..., log=True) instead.\n",
      "  learning_rate = trial.suggest_loguniform(\"learning_rate\", 1e-5, 1e-1)\n",
      "[I 2024-11-28 20:02:47,780] Trial 71 finished with value: 0.6035502958579881 and parameters: {'hidden_units1': 386, 'hidden_units2': 144, 'hidden_units3': 98, 'hidden_units4': 58, 'dropout_rate': 0.45000000000000007, 'learning_rate': 6.723089087362898e-05}. Best is trial 54 with value: 0.6266318537859008.\n"
     ]
    },
    {
     "name": "stdout",
     "output_type": "stream",
     "text": [
      "Accuracy: 61.82%\n",
      "Precision: 0.4811\n",
      "Recall: 0.8095\n",
      "F1 Score: 0.6036\n",
      "Matthews Correlation Coefficient: 0.3145\n",
      "Specificity: 0.5111\n"
     ]
    },
    {
     "name": "stderr",
     "output_type": "stream",
     "text": [
      "/tmp/ipykernel_181066/360301711.py:7: FutureWarning: suggest_loguniform has been deprecated in v3.0.0. This feature will be removed in v6.0.0. See https://github.com/optuna/optuna/releases/tag/v3.0.0. Use suggest_float(..., log=True) instead.\n",
      "  learning_rate = trial.suggest_loguniform(\"learning_rate\", 1e-5, 1e-1)\n",
      "[I 2024-11-28 20:03:37,753] Trial 72 finished with value: 0.5138888888888888 and parameters: {'hidden_units1': 382, 'hidden_units2': 156, 'hidden_units3': 92, 'hidden_units4': 60, 'dropout_rate': 0.5, 'learning_rate': 9.350683871809519e-05}. Best is trial 54 with value: 0.6266318537859008.\n"
     ]
    },
    {
     "name": "stdout",
     "output_type": "stream",
     "text": [
      "Accuracy: 60.11%\n",
      "Precision: 0.4568\n",
      "Recall: 0.5873\n",
      "F1 Score: 0.5139\n",
      "Matthews Correlation Coefficient: 0.1888\n",
      "Specificity: 0.6089\n"
     ]
    },
    {
     "name": "stderr",
     "output_type": "stream",
     "text": [
      "/tmp/ipykernel_181066/360301711.py:7: FutureWarning: suggest_loguniform has been deprecated in v3.0.0. This feature will be removed in v6.0.0. See https://github.com/optuna/optuna/releases/tag/v3.0.0. Use suggest_float(..., log=True) instead.\n",
      "  learning_rate = trial.suggest_loguniform(\"learning_rate\", 1e-5, 1e-1)\n",
      "[I 2024-11-28 20:04:27,119] Trial 73 finished with value: 0.5872093023255814 and parameters: {'hidden_units1': 400, 'hidden_units2': 148, 'hidden_units3': 102, 'hidden_units4': 54, 'dropout_rate': 0.45000000000000007, 'learning_rate': 3.400483088103274e-05}. Best is trial 54 with value: 0.6266318537859008.\n"
     ]
    },
    {
     "name": "stdout",
     "output_type": "stream",
     "text": [
      "Accuracy: 59.54%\n",
      "Precision: 0.4633\n",
      "Recall: 0.8016\n",
      "F1 Score: 0.5872\n",
      "Matthews Correlation Coefficient: 0.2784\n",
      "Specificity: 0.4800\n"
     ]
    },
    {
     "name": "stderr",
     "output_type": "stream",
     "text": [
      "/tmp/ipykernel_181066/360301711.py:7: FutureWarning: suggest_loguniform has been deprecated in v3.0.0. This feature will be removed in v6.0.0. See https://github.com/optuna/optuna/releases/tag/v3.0.0. Use suggest_float(..., log=True) instead.\n",
      "  learning_rate = trial.suggest_loguniform(\"learning_rate\", 1e-5, 1e-1)\n",
      "[I 2024-11-28 20:05:17,524] Trial 74 finished with value: 0.6223404255319149 and parameters: {'hidden_units1': 420, 'hidden_units2': 160, 'hidden_units3': 96, 'hidden_units4': 64, 'dropout_rate': 0.5, 'learning_rate': 3.8055337416283614e-05}. Best is trial 54 with value: 0.6266318537859008.\n"
     ]
    },
    {
     "name": "stdout",
     "output_type": "stream",
     "text": [
      "Accuracy: 59.54%\n",
      "Precision: 0.4680\n",
      "Recall: 0.9286\n",
      "F1 Score: 0.6223\n",
      "Matthews Correlation Coefficient: 0.3576\n",
      "Specificity: 0.4089\n"
     ]
    },
    {
     "name": "stderr",
     "output_type": "stream",
     "text": [
      "/tmp/ipykernel_181066/360301711.py:7: FutureWarning: suggest_loguniform has been deprecated in v3.0.0. This feature will be removed in v6.0.0. See https://github.com/optuna/optuna/releases/tag/v3.0.0. Use suggest_float(..., log=True) instead.\n",
      "  learning_rate = trial.suggest_loguniform(\"learning_rate\", 1e-5, 1e-1)\n",
      "[I 2024-11-28 20:06:06,185] Trial 75 finished with value: 0.48484848484848486 and parameters: {'hidden_units1': 420, 'hidden_units2': 164, 'hidden_units3': 90, 'hidden_units4': 62, 'dropout_rate': 0.45000000000000007, 'learning_rate': 0.00015073271682886728}. Best is trial 54 with value: 0.6266318537859008.\n"
     ]
    },
    {
     "name": "stdout",
     "output_type": "stream",
     "text": [
      "Accuracy: 61.25%\n",
      "Precision: 0.4638\n",
      "Recall: 0.5079\n",
      "F1 Score: 0.4848\n",
      "Matthews Correlation Coefficient: 0.1758\n",
      "Specificity: 0.6711\n"
     ]
    },
    {
     "name": "stderr",
     "output_type": "stream",
     "text": [
      "/tmp/ipykernel_181066/360301711.py:7: FutureWarning: suggest_loguniform has been deprecated in v3.0.0. This feature will be removed in v6.0.0. See https://github.com/optuna/optuna/releases/tag/v3.0.0. Use suggest_float(..., log=True) instead.\n",
      "  learning_rate = trial.suggest_loguniform(\"learning_rate\", 1e-5, 1e-1)\n",
      "[I 2024-11-28 20:06:54,815] Trial 76 finished with value: 0.6106442577030813 and parameters: {'hidden_units1': 452, 'hidden_units2': 140, 'hidden_units3': 96, 'hidden_units4': 64, 'dropout_rate': 0.5, 'learning_rate': 3.566313558962446e-05}. Best is trial 54 with value: 0.6266318537859008.\n"
     ]
    },
    {
     "name": "stdout",
     "output_type": "stream",
     "text": [
      "Accuracy: 60.40%\n",
      "Precision: 0.4719\n",
      "Recall: 0.8651\n",
      "F1 Score: 0.6106\n",
      "Matthews Correlation Coefficient: 0.3265\n",
      "Specificity: 0.4578\n"
     ]
    },
    {
     "name": "stderr",
     "output_type": "stream",
     "text": [
      "/tmp/ipykernel_181066/360301711.py:7: FutureWarning: suggest_loguniform has been deprecated in v3.0.0. This feature will be removed in v6.0.0. See https://github.com/optuna/optuna/releases/tag/v3.0.0. Use suggest_float(..., log=True) instead.\n",
      "  learning_rate = trial.suggest_loguniform(\"learning_rate\", 1e-5, 1e-1)\n",
      "[I 2024-11-28 20:07:43,895] Trial 77 finished with value: 0.5618729096989966 and parameters: {'hidden_units1': 436, 'hidden_units2': 154, 'hidden_units3': 86, 'hidden_units4': 64, 'dropout_rate': 0.5, 'learning_rate': 5.219872361040717e-05}. Best is trial 54 with value: 0.6266318537859008.\n"
     ]
    },
    {
     "name": "stdout",
     "output_type": "stream",
     "text": [
      "Accuracy: 62.68%\n",
      "Precision: 0.4855\n",
      "Recall: 0.6667\n",
      "F1 Score: 0.5619\n",
      "Matthews Correlation Coefficient: 0.2601\n",
      "Specificity: 0.6044\n"
     ]
    },
    {
     "name": "stderr",
     "output_type": "stream",
     "text": [
      "/tmp/ipykernel_181066/360301711.py:7: FutureWarning: suggest_loguniform has been deprecated in v3.0.0. This feature will be removed in v6.0.0. See https://github.com/optuna/optuna/releases/tag/v3.0.0. Use suggest_float(..., log=True) instead.\n",
      "  learning_rate = trial.suggest_loguniform(\"learning_rate\", 1e-5, 1e-1)\n",
      "[I 2024-11-28 20:08:32,712] Trial 78 finished with value: 0.5391849529780565 and parameters: {'hidden_units1': 468, 'hidden_units2': 170, 'hidden_units3': 94, 'hidden_units4': 60, 'dropout_rate': 0.45000000000000007, 'learning_rate': 1.257331062786303e-05}. Best is trial 54 with value: 0.6266318537859008.\n"
     ]
    },
    {
     "name": "stdout",
     "output_type": "stream",
     "text": [
      "Accuracy: 58.12%\n",
      "Precision: 0.4456\n",
      "Recall: 0.6825\n",
      "F1 Score: 0.5392\n",
      "Matthews Correlation Coefficient: 0.1996\n",
      "Specificity: 0.5244\n"
     ]
    },
    {
     "name": "stderr",
     "output_type": "stream",
     "text": [
      "/tmp/ipykernel_181066/360301711.py:7: FutureWarning: suggest_loguniform has been deprecated in v3.0.0. This feature will be removed in v6.0.0. See https://github.com/optuna/optuna/releases/tag/v3.0.0. Use suggest_float(..., log=True) instead.\n",
      "  learning_rate = trial.suggest_loguniform(\"learning_rate\", 1e-5, 1e-1)\n",
      "[I 2024-11-28 20:09:20,353] Trial 79 finished with value: 0.46473029045643155 and parameters: {'hidden_units1': 412, 'hidden_units2': 158, 'hidden_units3': 98, 'hidden_units4': 58, 'dropout_rate': 0.4, 'learning_rate': 0.00014055928556085776}. Best is trial 54 with value: 0.6266318537859008.\n"
     ]
    },
    {
     "name": "stdout",
     "output_type": "stream",
     "text": [
      "Accuracy: 63.25%\n",
      "Precision: 0.4870\n",
      "Recall: 0.4444\n",
      "F1 Score: 0.4647\n",
      "Matthews Correlation Coefficient: 0.1862\n",
      "Specificity: 0.7378\n"
     ]
    },
    {
     "name": "stderr",
     "output_type": "stream",
     "text": [
      "/tmp/ipykernel_181066/360301711.py:7: FutureWarning: suggest_loguniform has been deprecated in v3.0.0. This feature will be removed in v6.0.0. See https://github.com/optuna/optuna/releases/tag/v3.0.0. Use suggest_float(..., log=True) instead.\n",
      "  learning_rate = trial.suggest_loguniform(\"learning_rate\", 1e-5, 1e-1)\n",
      "[I 2024-11-28 20:10:08,884] Trial 80 finished with value: 0.37 and parameters: {'hidden_units1': 356, 'hidden_units2': 146, 'hidden_units3': 116, 'hidden_units4': 52, 'dropout_rate': 0.45000000000000007, 'learning_rate': 6.138607927916294e-05}. Best is trial 54 with value: 0.6266318537859008.\n"
     ]
    },
    {
     "name": "stdout",
     "output_type": "stream",
     "text": [
      "Accuracy: 64.10%\n",
      "Precision: 0.5000\n",
      "Recall: 0.2937\n",
      "F1 Score: 0.3700\n",
      "Matthews Correlation Coefficient: 0.1520\n",
      "Specificity: 0.8356\n"
     ]
    },
    {
     "name": "stderr",
     "output_type": "stream",
     "text": [
      "/tmp/ipykernel_181066/360301711.py:7: FutureWarning: suggest_loguniform has been deprecated in v3.0.0. This feature will be removed in v6.0.0. See https://github.com/optuna/optuna/releases/tag/v3.0.0. Use suggest_float(..., log=True) instead.\n",
      "  learning_rate = trial.suggest_loguniform(\"learning_rate\", 1e-5, 1e-1)\n",
      "[I 2024-11-28 20:10:57,762] Trial 81 finished with value: 0.6037735849056604 and parameters: {'hidden_units1': 390, 'hidden_units2': 160, 'hidden_units3': 104, 'hidden_units4': 62, 'dropout_rate': 0.5, 'learning_rate': 2.196267753413444e-05}. Best is trial 54 with value: 0.6266318537859008.\n"
     ]
    },
    {
     "name": "stdout",
     "output_type": "stream",
     "text": [
      "Accuracy: 58.12%\n",
      "Precision: 0.4571\n",
      "Recall: 0.8889\n",
      "F1 Score: 0.6038\n",
      "Matthews Correlation Coefficient: 0.3111\n",
      "Specificity: 0.4089\n"
     ]
    },
    {
     "name": "stderr",
     "output_type": "stream",
     "text": [
      "/tmp/ipykernel_181066/360301711.py:7: FutureWarning: suggest_loguniform has been deprecated in v3.0.0. This feature will be removed in v6.0.0. See https://github.com/optuna/optuna/releases/tag/v3.0.0. Use suggest_float(..., log=True) instead.\n",
      "  learning_rate = trial.suggest_loguniform(\"learning_rate\", 1e-5, 1e-1)\n",
      "[I 2024-11-28 20:11:46,718] Trial 82 finished with value: 0.612987012987013 and parameters: {'hidden_units1': 408, 'hidden_units2': 152, 'hidden_units3': 110, 'hidden_units4': 56, 'dropout_rate': 0.5, 'learning_rate': 3.791288336278152e-05}. Best is trial 54 with value: 0.6266318537859008.\n"
     ]
    },
    {
     "name": "stdout",
     "output_type": "stream",
     "text": [
      "Accuracy: 57.55%\n",
      "Precision: 0.4556\n",
      "Recall: 0.9365\n",
      "F1 Score: 0.6130\n",
      "Matthews Correlation Coefficient: 0.3380\n",
      "Specificity: 0.3733\n"
     ]
    },
    {
     "name": "stderr",
     "output_type": "stream",
     "text": [
      "/tmp/ipykernel_181066/360301711.py:7: FutureWarning: suggest_loguniform has been deprecated in v3.0.0. This feature will be removed in v6.0.0. See https://github.com/optuna/optuna/releases/tag/v3.0.0. Use suggest_float(..., log=True) instead.\n",
      "  learning_rate = trial.suggest_loguniform(\"learning_rate\", 1e-5, 1e-1)\n",
      "[I 2024-11-28 20:12:37,390] Trial 83 finished with value: 0.24561403508771928 and parameters: {'hidden_units1': 424, 'hidden_units2': 162, 'hidden_units3': 102, 'hidden_units4': 4, 'dropout_rate': 0.5, 'learning_rate': 2.466772104516077e-05}. Best is trial 54 with value: 0.6266318537859008.\n"
     ]
    },
    {
     "name": "stdout",
     "output_type": "stream",
     "text": [
      "Accuracy: 63.25%\n",
      "Precision: 0.4667\n",
      "Recall: 0.1667\n",
      "F1 Score: 0.2456\n",
      "Matthews Correlation Coefficient: 0.0861\n",
      "Specificity: 0.8933\n"
     ]
    },
    {
     "name": "stderr",
     "output_type": "stream",
     "text": [
      "/tmp/ipykernel_181066/360301711.py:7: FutureWarning: suggest_loguniform has been deprecated in v3.0.0. This feature will be removed in v6.0.0. See https://github.com/optuna/optuna/releases/tag/v3.0.0. Use suggest_float(..., log=True) instead.\n",
      "  learning_rate = trial.suggest_loguniform(\"learning_rate\", 1e-5, 1e-1)\n",
      "[I 2024-11-28 20:13:25,306] Trial 84 finished with value: 0.5830903790087464 and parameters: {'hidden_units1': 396, 'hidden_units2': 164, 'hidden_units3': 100, 'hidden_units4': 58, 'dropout_rate': 0.5, 'learning_rate': 1.0005935218743866e-05}. Best is trial 54 with value: 0.6266318537859008.\n"
     ]
    },
    {
     "name": "stdout",
     "output_type": "stream",
     "text": [
      "Accuracy: 59.26%\n",
      "Precision: 0.4608\n",
      "Recall: 0.7937\n",
      "F1 Score: 0.5831\n",
      "Matthews Correlation Coefficient: 0.2702\n",
      "Specificity: 0.4800\n"
     ]
    },
    {
     "name": "stderr",
     "output_type": "stream",
     "text": [
      "/tmp/ipykernel_181066/360301711.py:7: FutureWarning: suggest_loguniform has been deprecated in v3.0.0. This feature will be removed in v6.0.0. See https://github.com/optuna/optuna/releases/tag/v3.0.0. Use suggest_float(..., log=True) instead.\n",
      "  learning_rate = trial.suggest_loguniform(\"learning_rate\", 1e-5, 1e-1)\n",
      "[I 2024-11-28 20:14:14,736] Trial 85 finished with value: 0.5375 and parameters: {'hidden_units1': 370, 'hidden_units2': 158, 'hidden_units3': 112, 'hidden_units4': 60, 'dropout_rate': 0.5, 'learning_rate': 1.815387373803431e-05}. Best is trial 54 with value: 0.6266318537859008.\n"
     ]
    },
    {
     "name": "stdout",
     "output_type": "stream",
     "text": [
      "Accuracy: 57.83%\n",
      "Precision: 0.4433\n",
      "Recall: 0.6825\n",
      "F1 Score: 0.5375\n",
      "Matthews Correlation Coefficient: 0.1954\n",
      "Specificity: 0.5200\n"
     ]
    },
    {
     "name": "stderr",
     "output_type": "stream",
     "text": [
      "/tmp/ipykernel_181066/360301711.py:7: FutureWarning: suggest_loguniform has been deprecated in v3.0.0. This feature will be removed in v6.0.0. See https://github.com/optuna/optuna/releases/tag/v3.0.0. Use suggest_float(..., log=True) instead.\n",
      "  learning_rate = trial.suggest_loguniform(\"learning_rate\", 1e-5, 1e-1)\n",
      "[I 2024-11-28 20:15:03,735] Trial 86 finished with value: 0.3592233009708738 and parameters: {'hidden_units1': 442, 'hidden_units2': 174, 'hidden_units3': 108, 'hidden_units4': 50, 'dropout_rate': 0.45000000000000007, 'learning_rate': 8.31959065731034e-05}. Best is trial 54 with value: 0.6266318537859008.\n"
     ]
    },
    {
     "name": "stdout",
     "output_type": "stream",
     "text": [
      "Accuracy: 62.39%\n",
      "Precision: 0.4625\n",
      "Recall: 0.2937\n",
      "F1 Score: 0.3592\n",
      "Matthews Correlation Coefficient: 0.1173\n",
      "Specificity: 0.8089\n"
     ]
    },
    {
     "name": "stderr",
     "output_type": "stream",
     "text": [
      "/tmp/ipykernel_181066/360301711.py:7: FutureWarning: suggest_loguniform has been deprecated in v3.0.0. This feature will be removed in v6.0.0. See https://github.com/optuna/optuna/releases/tag/v3.0.0. Use suggest_float(..., log=True) instead.\n",
      "  learning_rate = trial.suggest_loguniform(\"learning_rate\", 1e-5, 1e-1)\n",
      "[I 2024-11-28 20:15:51,804] Trial 87 finished with value: 0.48031496062992124 and parameters: {'hidden_units1': 416, 'hidden_units2': 166, 'hidden_units3': 96, 'hidden_units4': 56, 'dropout_rate': 0.5, 'learning_rate': 0.0017506205613722207}. Best is trial 54 with value: 0.6266318537859008.\n"
     ]
    },
    {
     "name": "stdout",
     "output_type": "stream",
     "text": [
      "Accuracy: 62.39%\n",
      "Precision: 0.4766\n",
      "Recall: 0.4841\n",
      "F1 Score: 0.4803\n",
      "Matthews Correlation Coefficient: 0.1857\n",
      "Specificity: 0.7022\n"
     ]
    },
    {
     "name": "stderr",
     "output_type": "stream",
     "text": [
      "/tmp/ipykernel_181066/360301711.py:7: FutureWarning: suggest_loguniform has been deprecated in v3.0.0. This feature will be removed in v6.0.0. See https://github.com/optuna/optuna/releases/tag/v3.0.0. Use suggest_float(..., log=True) instead.\n",
      "  learning_rate = trial.suggest_loguniform(\"learning_rate\", 1e-5, 1e-1)\n",
      "/home/gonken/anaconda3/envs/torch/lib/python3.12/site-packages/sklearn/metrics/_classification.py:1531: UndefinedMetricWarning: Precision is ill-defined and being set to 0.0 due to no predicted samples. Use `zero_division` parameter to control this behavior.\n",
      "  _warn_prf(average, modifier, f\"{metric.capitalize()} is\", len(result))\n",
      "[I 2024-11-28 20:16:41,019] Trial 88 finished with value: 0.0 and parameters: {'hidden_units1': 380, 'hidden_units2': 142, 'hidden_units3': 72, 'hidden_units4': 54, 'dropout_rate': 0.5, 'learning_rate': 0.042614644546880624}. Best is trial 54 with value: 0.6266318537859008.\n",
      "/tmp/ipykernel_181066/360301711.py:7: FutureWarning: suggest_loguniform has been deprecated in v3.0.0. This feature will be removed in v6.0.0. See https://github.com/optuna/optuna/releases/tag/v3.0.0. Use suggest_float(..., log=True) instead.\n",
      "  learning_rate = trial.suggest_loguniform(\"learning_rate\", 1e-5, 1e-1)\n"
     ]
    },
    {
     "name": "stdout",
     "output_type": "stream",
     "text": [
      "Accuracy: 64.10%\n",
      "Precision: 0.0000\n",
      "Recall: 0.0000\n",
      "F1 Score: 0.0000\n",
      "Matthews Correlation Coefficient: 0.0000\n",
      "Specificity: 1.0000\n"
     ]
    },
    {
     "name": "stderr",
     "output_type": "stream",
     "text": [
      "[I 2024-11-28 20:17:29,595] Trial 89 finished with value: 0.6144927536231884 and parameters: {'hidden_units1': 404, 'hidden_units2': 170, 'hidden_units3': 104, 'hidden_units4': 64, 'dropout_rate': 0.45000000000000007, 'learning_rate': 3.226670677266074e-05}. Best is trial 54 with value: 0.6266318537859008.\n"
     ]
    },
    {
     "name": "stdout",
     "output_type": "stream",
     "text": [
      "Accuracy: 62.11%\n",
      "Precision: 0.4840\n",
      "Recall: 0.8413\n",
      "F1 Score: 0.6145\n",
      "Matthews Correlation Coefficient: 0.3358\n",
      "Specificity: 0.4978\n"
     ]
    },
    {
     "name": "stderr",
     "output_type": "stream",
     "text": [
      "/tmp/ipykernel_181066/360301711.py:7: FutureWarning: suggest_loguniform has been deprecated in v3.0.0. This feature will be removed in v6.0.0. See https://github.com/optuna/optuna/releases/tag/v3.0.0. Use suggest_float(..., log=True) instead.\n",
      "  learning_rate = trial.suggest_loguniform(\"learning_rate\", 1e-5, 1e-1)\n",
      "[I 2024-11-28 20:18:18,933] Trial 90 finished with value: 0.34285714285714286 and parameters: {'hidden_units1': 366, 'hidden_units2': 154, 'hidden_units3': 92, 'hidden_units4': 62, 'dropout_rate': 0.5, 'learning_rate': 4.7742540288474995e-05}. Best is trial 54 with value: 0.6266318537859008.\n"
     ]
    },
    {
     "name": "stdout",
     "output_type": "stream",
     "text": [
      "Accuracy: 60.68%\n",
      "Precision: 0.4286\n",
      "Recall: 0.2857\n",
      "F1 Score: 0.3429\n",
      "Matthews Correlation Coefficient: 0.0814\n",
      "Specificity: 0.7867\n"
     ]
    },
    {
     "name": "stderr",
     "output_type": "stream",
     "text": [
      "/tmp/ipykernel_181066/360301711.py:7: FutureWarning: suggest_loguniform has been deprecated in v3.0.0. This feature will be removed in v6.0.0. See https://github.com/optuna/optuna/releases/tag/v3.0.0. Use suggest_float(..., log=True) instead.\n",
      "  learning_rate = trial.suggest_loguniform(\"learning_rate\", 1e-5, 1e-1)\n",
      "[I 2024-11-28 20:19:08,859] Trial 91 finished with value: 0.6109510086455331 and parameters: {'hidden_units1': 404, 'hidden_units2': 170, 'hidden_units3': 106, 'hidden_units4': 64, 'dropout_rate': 0.45000000000000007, 'learning_rate': 3.3293719959062075e-05}. Best is trial 54 with value: 0.6266318537859008.\n"
     ]
    },
    {
     "name": "stdout",
     "output_type": "stream",
     "text": [
      "Accuracy: 61.54%\n",
      "Precision: 0.4796\n",
      "Recall: 0.8413\n",
      "F1 Score: 0.6110\n",
      "Matthews Correlation Coefficient: 0.3280\n",
      "Specificity: 0.4889\n"
     ]
    },
    {
     "name": "stderr",
     "output_type": "stream",
     "text": [
      "/tmp/ipykernel_181066/360301711.py:7: FutureWarning: suggest_loguniform has been deprecated in v3.0.0. This feature will be removed in v6.0.0. See https://github.com/optuna/optuna/releases/tag/v3.0.0. Use suggest_float(..., log=True) instead.\n",
      "  learning_rate = trial.suggest_loguniform(\"learning_rate\", 1e-5, 1e-1)\n",
      "[I 2024-11-28 20:19:57,386] Trial 92 finished with value: 0.6162464985994398 and parameters: {'hidden_units1': 386, 'hidden_units2': 176, 'hidden_units3': 104, 'hidden_units4': 60, 'dropout_rate': 0.45000000000000007, 'learning_rate': 1.4411268350752084e-05}. Best is trial 54 with value: 0.6266318537859008.\n"
     ]
    },
    {
     "name": "stdout",
     "output_type": "stream",
     "text": [
      "Accuracy: 60.97%\n",
      "Precision: 0.4762\n",
      "Recall: 0.8730\n",
      "F1 Score: 0.6162\n",
      "Matthews Correlation Coefficient: 0.3390\n",
      "Specificity: 0.4622\n"
     ]
    },
    {
     "name": "stderr",
     "output_type": "stream",
     "text": [
      "/tmp/ipykernel_181066/360301711.py:7: FutureWarning: suggest_loguniform has been deprecated in v3.0.0. This feature will be removed in v6.0.0. See https://github.com/optuna/optuna/releases/tag/v3.0.0. Use suggest_float(..., log=True) instead.\n",
      "  learning_rate = trial.suggest_loguniform(\"learning_rate\", 1e-5, 1e-1)\n",
      "[I 2024-11-28 20:20:45,658] Trial 93 finished with value: 0.6162790697674418 and parameters: {'hidden_units1': 386, 'hidden_units2': 176, 'hidden_units3': 108, 'hidden_units4': 60, 'dropout_rate': 0.4, 'learning_rate': 1.5323640040437644e-05}. Best is trial 54 with value: 0.6266318537859008.\n"
     ]
    },
    {
     "name": "stdout",
     "output_type": "stream",
     "text": [
      "Accuracy: 62.39%\n",
      "Precision: 0.4862\n",
      "Recall: 0.8413\n",
      "F1 Score: 0.6163\n",
      "Matthews Correlation Coefficient: 0.3397\n",
      "Specificity: 0.5022\n"
     ]
    },
    {
     "name": "stderr",
     "output_type": "stream",
     "text": [
      "/tmp/ipykernel_181066/360301711.py:7: FutureWarning: suggest_loguniform has been deprecated in v3.0.0. This feature will be removed in v6.0.0. See https://github.com/optuna/optuna/releases/tag/v3.0.0. Use suggest_float(..., log=True) instead.\n",
      "  learning_rate = trial.suggest_loguniform(\"learning_rate\", 1e-5, 1e-1)\n",
      "[I 2024-11-28 20:21:33,157] Trial 94 finished with value: 0.6133333333333333 and parameters: {'hidden_units1': 386, 'hidden_units2': 174, 'hidden_units3': 110, 'hidden_units4': 60, 'dropout_rate': 0.4, 'learning_rate': 1.4001871899356688e-05}. Best is trial 54 with value: 0.6266318537859008.\n"
     ]
    },
    {
     "name": "stdout",
     "output_type": "stream",
     "text": [
      "Accuracy: 58.69%\n",
      "Precision: 0.4618\n",
      "Recall: 0.9127\n",
      "F1 Score: 0.6133\n",
      "Matthews Correlation Coefficient: 0.3351\n",
      "Specificity: 0.4044\n"
     ]
    },
    {
     "name": "stderr",
     "output_type": "stream",
     "text": [
      "/tmp/ipykernel_181066/360301711.py:7: FutureWarning: suggest_loguniform has been deprecated in v3.0.0. This feature will be removed in v6.0.0. See https://github.com/optuna/optuna/releases/tag/v3.0.0. Use suggest_float(..., log=True) instead.\n",
      "  learning_rate = trial.suggest_loguniform(\"learning_rate\", 1e-5, 1e-1)\n",
      "[I 2024-11-28 20:22:21,900] Trial 95 finished with value: 0.6149253731343284 and parameters: {'hidden_units1': 360, 'hidden_units2': 180, 'hidden_units3': 108, 'hidden_units4': 62, 'dropout_rate': 0.35, 'learning_rate': 1.7931671976333073e-05}. Best is trial 54 with value: 0.6266318537859008.\n"
     ]
    },
    {
     "name": "stdout",
     "output_type": "stream",
     "text": [
      "Accuracy: 63.25%\n",
      "Precision: 0.4928\n",
      "Recall: 0.8175\n",
      "F1 Score: 0.6149\n",
      "Matthews Correlation Coefficient: 0.3385\n",
      "Specificity: 0.5289\n"
     ]
    },
    {
     "name": "stderr",
     "output_type": "stream",
     "text": [
      "/tmp/ipykernel_181066/360301711.py:7: FutureWarning: suggest_loguniform has been deprecated in v3.0.0. This feature will be removed in v6.0.0. See https://github.com/optuna/optuna/releases/tag/v3.0.0. Use suggest_float(..., log=True) instead.\n",
      "  learning_rate = trial.suggest_loguniform(\"learning_rate\", 1e-5, 1e-1)\n",
      "[I 2024-11-28 20:23:09,471] Trial 96 finished with value: 0.5966850828729282 and parameters: {'hidden_units1': 350, 'hidden_units2': 176, 'hidden_units3': 114, 'hidden_units4': 58, 'dropout_rate': 0.4, 'learning_rate': 1.2598181999662164e-05}. Best is trial 54 with value: 0.6266318537859008.\n"
     ]
    },
    {
     "name": "stdout",
     "output_type": "stream",
     "text": [
      "Accuracy: 58.40%\n",
      "Precision: 0.4576\n",
      "Recall: 0.8571\n",
      "F1 Score: 0.5967\n",
      "Matthews Correlation Coefficient: 0.2946\n",
      "Specificity: 0.4311\n"
     ]
    },
    {
     "name": "stderr",
     "output_type": "stream",
     "text": [
      "/tmp/ipykernel_181066/360301711.py:7: FutureWarning: suggest_loguniform has been deprecated in v3.0.0. This feature will be removed in v6.0.0. See https://github.com/optuna/optuna/releases/tag/v3.0.0. Use suggest_float(..., log=True) instead.\n",
      "  learning_rate = trial.suggest_loguniform(\"learning_rate\", 1e-5, 1e-1)\n",
      "[I 2024-11-28 20:23:57,108] Trial 97 finished with value: 0.6187845303867403 and parameters: {'hidden_units1': 370, 'hidden_units2': 182, 'hidden_units3': 112, 'hidden_units4': 60, 'dropout_rate': 0.45000000000000007, 'learning_rate': 2.1260635950419526e-05}. Best is trial 54 with value: 0.6266318537859008.\n"
     ]
    },
    {
     "name": "stdout",
     "output_type": "stream",
     "text": [
      "Accuracy: 60.68%\n",
      "Precision: 0.4746\n",
      "Recall: 0.8889\n",
      "F1 Score: 0.6188\n",
      "Matthews Correlation Coefficient: 0.3452\n",
      "Specificity: 0.4489\n"
     ]
    },
    {
     "name": "stderr",
     "output_type": "stream",
     "text": [
      "/tmp/ipykernel_181066/360301711.py:7: FutureWarning: suggest_loguniform has been deprecated in v3.0.0. This feature will be removed in v6.0.0. See https://github.com/optuna/optuna/releases/tag/v3.0.0. Use suggest_float(..., log=True) instead.\n",
      "  learning_rate = trial.suggest_loguniform(\"learning_rate\", 1e-5, 1e-1)\n",
      "[I 2024-11-28 20:24:44,011] Trial 98 finished with value: 0.5885714285714285 and parameters: {'hidden_units1': 336, 'hidden_units2': 182, 'hidden_units3': 106, 'hidden_units4': 62, 'dropout_rate': 0.4, 'learning_rate': 1.6728819524818382e-05}. Best is trial 54 with value: 0.6266318537859008.\n"
     ]
    },
    {
     "name": "stdout",
     "output_type": "stream",
     "text": [
      "Accuracy: 58.97%\n",
      "Precision: 0.4598\n",
      "Recall: 0.8175\n",
      "F1 Score: 0.5886\n",
      "Matthews Correlation Coefficient: 0.2792\n",
      "Specificity: 0.4622\n"
     ]
    },
    {
     "name": "stderr",
     "output_type": "stream",
     "text": [
      "/tmp/ipykernel_181066/360301711.py:7: FutureWarning: suggest_loguniform has been deprecated in v3.0.0. This feature will be removed in v6.0.0. See https://github.com/optuna/optuna/releases/tag/v3.0.0. Use suggest_float(..., log=True) instead.\n",
      "  learning_rate = trial.suggest_loguniform(\"learning_rate\", 1e-5, 1e-1)\n",
      "[I 2024-11-28 20:25:29,456] Trial 99 finished with value: 0.6195652173913043 and parameters: {'hidden_units1': 392, 'hidden_units2': 184, 'hidden_units3': 100, 'hidden_units4': 60, 'dropout_rate': 0.45000000000000007, 'learning_rate': 2.262823577595539e-05}. Best is trial 54 with value: 0.6266318537859008.\n"
     ]
    },
    {
     "name": "stdout",
     "output_type": "stream",
     "text": [
      "Accuracy: 60.11%\n",
      "Precision: 0.4711\n",
      "Recall: 0.9048\n",
      "F1 Score: 0.6196\n",
      "Matthews Correlation Coefficient: 0.3482\n",
      "Specificity: 0.4311\n",
      "Best Parameters:  {'hidden_units1': 448, 'hidden_units2': 148, 'hidden_units3': 112, 'hidden_units4': 64, 'dropout_rate': 0.5, 'learning_rate': 9.347756116243938e-05}\n",
      "Best Validation F1:  0.6266318537859008\n"
     ]
    }
   ],
   "source": [
    "device = torch.device(\"cuda\" if torch.cuda.is_available() else \"cpu\")\n",
    "\n",
    "study = optuna.create_study(direction=\"maximize\")  \n",
    "study.optimize(objective, n_trials=100)\n",
    "\n",
    "\n",
    "print(\"Best Parameters: \", study.best_params)\n",
    "print(\"Best Validation F1: \", study.best_value)\n"
   ]
  },
  {
   "cell_type": "markdown",
   "metadata": {},
   "source": [
    "最適化パラメーターで再学習"
   ]
  },
  {
   "cell_type": "code",
   "execution_count": null,
   "metadata": {},
   "outputs": [
    {
     "name": "stdout",
     "output_type": "stream",
     "text": [
      "Epoch [1/100], Loss: 0.7177\n",
      "Epoch [1/100], Train Loss: 0.7177, Val Loss: 0.6810\n",
      "Epoch [2/100], Loss: 0.6905\n",
      "Epoch [2/100], Train Loss: 0.6905, Val Loss: 0.6525\n",
      "Epoch [3/100], Loss: 0.6740\n",
      "Epoch [3/100], Train Loss: 0.6740, Val Loss: 0.6315\n",
      "Epoch [4/100], Loss: 0.6540\n",
      "Epoch [4/100], Train Loss: 0.6540, Val Loss: 0.6137\n",
      "Epoch [5/100], Loss: 0.6492\n",
      "Epoch [5/100], Train Loss: 0.6492, Val Loss: 0.6005\n",
      "Epoch [6/100], Loss: 0.6336\n",
      "Epoch [6/100], Train Loss: 0.6336, Val Loss: 0.5942\n",
      "Epoch [7/100], Loss: 0.6212\n",
      "Epoch [7/100], Train Loss: 0.6212, Val Loss: 0.5880\n",
      "Epoch [8/100], Loss: 0.6115\n",
      "Epoch [8/100], Train Loss: 0.6115, Val Loss: 0.5857\n",
      "Epoch [9/100], Loss: 0.6084\n",
      "Epoch [9/100], Train Loss: 0.6084, Val Loss: 0.5816\n",
      "Epoch [10/100], Loss: 0.5951\n",
      "Epoch [10/100], Train Loss: 0.5951, Val Loss: 0.5789\n",
      "Epoch [11/100], Loss: 0.5988\n",
      "Epoch [11/100], Train Loss: 0.5988, Val Loss: 0.5728\n",
      "Epoch [12/100], Loss: 0.6014\n",
      "Epoch [12/100], Train Loss: 0.6014, Val Loss: 0.5728\n",
      "Epoch [13/100], Loss: 0.5943\n",
      "Epoch [13/100], Train Loss: 0.5943, Val Loss: 0.5696\n",
      "Epoch [14/100], Loss: 0.5847\n",
      "Epoch [14/100], Train Loss: 0.5847, Val Loss: 0.5691\n",
      "Epoch [15/100], Loss: 0.5929\n",
      "Epoch [15/100], Train Loss: 0.5929, Val Loss: 0.5666\n",
      "Epoch [16/100], Loss: 0.5882\n",
      "Epoch [16/100], Train Loss: 0.5882, Val Loss: 0.5718\n",
      "Epoch [17/100], Loss: 0.5940\n",
      "Epoch [17/100], Train Loss: 0.5940, Val Loss: 0.5648\n",
      "Epoch [18/100], Loss: 0.5879\n",
      "Epoch [18/100], Train Loss: 0.5879, Val Loss: 0.5650\n",
      "Epoch [19/100], Loss: 0.5819\n",
      "Epoch [19/100], Train Loss: 0.5819, Val Loss: 0.5650\n",
      "Epoch [20/100], Loss: 0.5843\n",
      "Epoch [20/100], Train Loss: 0.5843, Val Loss: 0.5649\n",
      "Epoch [21/100], Loss: 0.5828\n",
      "Epoch [21/100], Train Loss: 0.5828, Val Loss: 0.5629\n",
      "Epoch [22/100], Loss: 0.5842\n",
      "Epoch [22/100], Train Loss: 0.5842, Val Loss: 0.5617\n",
      "Epoch [23/100], Loss: 0.5780\n",
      "Epoch [23/100], Train Loss: 0.5780, Val Loss: 0.5603\n",
      "Epoch [24/100], Loss: 0.5756\n",
      "Epoch [24/100], Train Loss: 0.5756, Val Loss: 0.5601\n",
      "Epoch [25/100], Loss: 0.5781\n",
      "Epoch [25/100], Train Loss: 0.5781, Val Loss: 0.5608\n",
      "Epoch [26/100], Loss: 0.5831\n",
      "Epoch [26/100], Train Loss: 0.5831, Val Loss: 0.5605\n",
      "Epoch [27/100], Loss: 0.5752\n",
      "Epoch [27/100], Train Loss: 0.5752, Val Loss: 0.5606\n",
      "Epoch [28/100], Loss: 0.5731\n",
      "Epoch [28/100], Train Loss: 0.5731, Val Loss: 0.5593\n",
      "Epoch [29/100], Loss: 0.5836\n",
      "Epoch [29/100], Train Loss: 0.5836, Val Loss: 0.5580\n",
      "Epoch [30/100], Loss: 0.5750\n",
      "Epoch [30/100], Train Loss: 0.5750, Val Loss: 0.5584\n",
      "Epoch [31/100], Loss: 0.5668\n",
      "Epoch [31/100], Train Loss: 0.5668, Val Loss: 0.5591\n",
      "Epoch [32/100], Loss: 0.5785\n",
      "Epoch [32/100], Train Loss: 0.5785, Val Loss: 0.5601\n",
      "Epoch [33/100], Loss: 0.5752\n",
      "Epoch [33/100], Train Loss: 0.5752, Val Loss: 0.5592\n",
      "Epoch [34/100], Loss: 0.5739\n",
      "Epoch [34/100], Train Loss: 0.5739, Val Loss: 0.5563\n",
      "Epoch [35/100], Loss: 0.5773\n",
      "Epoch [35/100], Train Loss: 0.5773, Val Loss: 0.5571\n",
      "Epoch [36/100], Loss: 0.5744\n",
      "Epoch [36/100], Train Loss: 0.5744, Val Loss: 0.5555\n",
      "Epoch [37/100], Loss: 0.5703\n",
      "Epoch [37/100], Train Loss: 0.5703, Val Loss: 0.5557\n",
      "Epoch [38/100], Loss: 0.5690\n",
      "Epoch [38/100], Train Loss: 0.5690, Val Loss: 0.5544\n",
      "Epoch [39/100], Loss: 0.5726\n",
      "Epoch [39/100], Train Loss: 0.5726, Val Loss: 0.5562\n",
      "Epoch [40/100], Loss: 0.5750\n",
      "Epoch [40/100], Train Loss: 0.5750, Val Loss: 0.5554\n",
      "Epoch [41/100], Loss: 0.5714\n",
      "Epoch [41/100], Train Loss: 0.5714, Val Loss: 0.5546\n",
      "Epoch [42/100], Loss: 0.5734\n",
      "Epoch [42/100], Train Loss: 0.5734, Val Loss: 0.5548\n",
      "Epoch [43/100], Loss: 0.5624\n",
      "Epoch [43/100], Train Loss: 0.5624, Val Loss: 0.5572\n",
      "Epoch [44/100], Loss: 0.5701\n",
      "Epoch [44/100], Train Loss: 0.5701, Val Loss: 0.5544\n",
      "Epoch [45/100], Loss: 0.5651\n",
      "Epoch [45/100], Train Loss: 0.5651, Val Loss: 0.5557\n",
      "Epoch [46/100], Loss: 0.5690\n",
      "Epoch [46/100], Train Loss: 0.5690, Val Loss: 0.5542\n",
      "Epoch [47/100], Loss: 0.5714\n",
      "Epoch [47/100], Train Loss: 0.5714, Val Loss: 0.5539\n",
      "Epoch [48/100], Loss: 0.5735\n",
      "Epoch [48/100], Train Loss: 0.5735, Val Loss: 0.5528\n",
      "Epoch [49/100], Loss: 0.5703\n",
      "Epoch [49/100], Train Loss: 0.5703, Val Loss: 0.5536\n",
      "Epoch [50/100], Loss: 0.5648\n",
      "Epoch [50/100], Train Loss: 0.5648, Val Loss: 0.5558\n",
      "Epoch [51/100], Loss: 0.5710\n",
      "Epoch [51/100], Train Loss: 0.5710, Val Loss: 0.5543\n",
      "Epoch [52/100], Loss: 0.5758\n",
      "Epoch [52/100], Train Loss: 0.5758, Val Loss: 0.5524\n",
      "Epoch [53/100], Loss: 0.5701\n",
      "Epoch [53/100], Train Loss: 0.5701, Val Loss: 0.5544\n",
      "Epoch [54/100], Loss: 0.5679\n",
      "Epoch [54/100], Train Loss: 0.5679, Val Loss: 0.5520\n",
      "Epoch [55/100], Loss: 0.5683\n",
      "Epoch [55/100], Train Loss: 0.5683, Val Loss: 0.5529\n",
      "Epoch [56/100], Loss: 0.5734\n",
      "Epoch [56/100], Train Loss: 0.5734, Val Loss: 0.5523\n",
      "Epoch [57/100], Loss: 0.5672\n",
      "Epoch [57/100], Train Loss: 0.5672, Val Loss: 0.5529\n",
      "Epoch [58/100], Loss: 0.5687\n",
      "Epoch [58/100], Train Loss: 0.5687, Val Loss: 0.5519\n",
      "Epoch [59/100], Loss: 0.5621\n",
      "Epoch [59/100], Train Loss: 0.5621, Val Loss: 0.5520\n",
      "Epoch [60/100], Loss: 0.5624\n",
      "Epoch [60/100], Train Loss: 0.5624, Val Loss: 0.5517\n",
      "Epoch [61/100], Loss: 0.5652\n",
      "Epoch [61/100], Train Loss: 0.5652, Val Loss: 0.5519\n",
      "Epoch [62/100], Loss: 0.5692\n",
      "Epoch [62/100], Train Loss: 0.5692, Val Loss: 0.5517\n",
      "Epoch [63/100], Loss: 0.5630\n",
      "Epoch [63/100], Train Loss: 0.5630, Val Loss: 0.5517\n",
      "Epoch [64/100], Loss: 0.5623\n",
      "Epoch [64/100], Train Loss: 0.5623, Val Loss: 0.5515\n",
      "Epoch [65/100], Loss: 0.5628\n",
      "Epoch [65/100], Train Loss: 0.5628, Val Loss: 0.5540\n",
      "Epoch [66/100], Loss: 0.5676\n",
      "Epoch [66/100], Train Loss: 0.5676, Val Loss: 0.5518\n",
      "Epoch [67/100], Loss: 0.5662\n",
      "Epoch [67/100], Train Loss: 0.5662, Val Loss: 0.5526\n",
      "Epoch [68/100], Loss: 0.5612\n",
      "Epoch [68/100], Train Loss: 0.5612, Val Loss: 0.5529\n",
      "Epoch [69/100], Loss: 0.5628\n",
      "Epoch [69/100], Train Loss: 0.5628, Val Loss: 0.5517\n",
      "Epoch [70/100], Loss: 0.5622\n",
      "Epoch [70/100], Train Loss: 0.5622, Val Loss: 0.5519\n",
      "Epoch [71/100], Loss: 0.5682\n",
      "Epoch [71/100], Train Loss: 0.5682, Val Loss: 0.5527\n",
      "Epoch [72/100], Loss: 0.5613\n",
      "Epoch [72/100], Train Loss: 0.5613, Val Loss: 0.5514\n",
      "Epoch [73/100], Loss: 0.5638\n",
      "Epoch [73/100], Train Loss: 0.5638, Val Loss: 0.5504\n",
      "Epoch [74/100], Loss: 0.5666\n",
      "Epoch [74/100], Train Loss: 0.5666, Val Loss: 0.5504\n",
      "Epoch [75/100], Loss: 0.5596\n",
      "Epoch [75/100], Train Loss: 0.5596, Val Loss: 0.5505\n",
      "Epoch [76/100], Loss: 0.5591\n",
      "Epoch [76/100], Train Loss: 0.5591, Val Loss: 0.5510\n",
      "Epoch [77/100], Loss: 0.5621\n",
      "Epoch [77/100], Train Loss: 0.5621, Val Loss: 0.5504\n",
      "Epoch [78/100], Loss: 0.5612\n",
      "Epoch [78/100], Train Loss: 0.5612, Val Loss: 0.5507\n",
      "Epoch [79/100], Loss: 0.5621\n",
      "Epoch [79/100], Train Loss: 0.5621, Val Loss: 0.5507\n",
      "Epoch [80/100], Loss: 0.5600\n",
      "Epoch [80/100], Train Loss: 0.5600, Val Loss: 0.5514\n",
      "Epoch [81/100], Loss: 0.5603\n",
      "Epoch [81/100], Train Loss: 0.5603, Val Loss: 0.5505\n",
      "Epoch [82/100], Loss: 0.5630\n",
      "Epoch [82/100], Train Loss: 0.5630, Val Loss: 0.5514\n",
      "Epoch [83/100], Loss: 0.5622\n",
      "Epoch [83/100], Train Loss: 0.5622, Val Loss: 0.5501\n",
      "Epoch [84/100], Loss: 0.5663\n",
      "Epoch [84/100], Train Loss: 0.5663, Val Loss: 0.5512\n",
      "Epoch [85/100], Loss: 0.5675\n",
      "Epoch [85/100], Train Loss: 0.5675, Val Loss: 0.5501\n",
      "Epoch [86/100], Loss: 0.5596\n",
      "Epoch [86/100], Train Loss: 0.5596, Val Loss: 0.5530\n",
      "Epoch [87/100], Loss: 0.5568\n",
      "Epoch [87/100], Train Loss: 0.5568, Val Loss: 0.5504\n",
      "Epoch [88/100], Loss: 0.5629\n",
      "Epoch [88/100], Train Loss: 0.5629, Val Loss: 0.5502\n",
      "Epoch [89/100], Loss: 0.5704\n",
      "Epoch [89/100], Train Loss: 0.5704, Val Loss: 0.5503\n",
      "Epoch [90/100], Loss: 0.5618\n",
      "Epoch [90/100], Train Loss: 0.5618, Val Loss: 0.5514\n",
      "Epoch [91/100], Loss: 0.5588\n",
      "Epoch [91/100], Train Loss: 0.5588, Val Loss: 0.5504\n",
      "Epoch [92/100], Loss: 0.5595\n",
      "Epoch [92/100], Train Loss: 0.5595, Val Loss: 0.5516\n",
      "Epoch [93/100], Loss: 0.5597\n",
      "Epoch [93/100], Train Loss: 0.5597, Val Loss: 0.5491\n",
      "Epoch [94/100], Loss: 0.5602\n",
      "Epoch [94/100], Train Loss: 0.5602, Val Loss: 0.5504\n",
      "Epoch [95/100], Loss: 0.5581\n",
      "Epoch [95/100], Train Loss: 0.5581, Val Loss: 0.5495\n",
      "Epoch [96/100], Loss: 0.5557\n",
      "Epoch [96/100], Train Loss: 0.5557, Val Loss: 0.5508\n",
      "Epoch [97/100], Loss: 0.5582\n",
      "Epoch [97/100], Train Loss: 0.5582, Val Loss: 0.5501\n",
      "Epoch [98/100], Loss: 0.5694\n",
      "Epoch [98/100], Train Loss: 0.5694, Val Loss: 0.5497\n",
      "Epoch [99/100], Loss: 0.5626\n",
      "Epoch [99/100], Train Loss: 0.5626, Val Loss: 0.5495\n",
      "Epoch [100/100], Loss: 0.5612\n",
      "Epoch [100/100], Train Loss: 0.5612, Val Loss: 0.5501\n"
     ]
    },
    {
     "data": {
      "image/png": "[encoded data removed]",
      "text/plain": [
       "<Figure size 1000x600 with 1 Axes>"
      ]
     },
     "metadata": {},
     "output_type": "display_data"
    }
   ],
   "source": [
    "best_params=study.best_params\n",
    "model = DNN(input_dim=X_train_tensor.shape[1],\n",
    "            hidden_units1=best_params[\"hidden_units1\"],\n",
    "            hidden_units2=best_params[\"hidden_units2\"],\n",
    "            hidden_units3=best_params[\"hidden_units3\"],\n",
    "            hidden_units4=best_params[\"hidden_units4\"],\n",
    "            dropout_rate=best_params[\"dropout_rate\"]\n",
    "            ).to(device)\n",
    "\n",
    "# 最適化と訓練を実行\n",
    "optimizer = optim.Adam(model.parameters(), lr=best_params[\"learning_rate\"],weight_decay=best_params[\"weight_decay\"])\n",
    "criterion = nn.BCELoss()\n",
    "\n",
    "num_epochs=100\n",
    "train_losses = []\n",
    "val_losses = []\n",
    "\n",
    "model.train()\n",
    "for epoch in range(num_epochs):\n",
    "    epoch_train_loss = 0\n",
    "    epoch_val_loss = 0\n",
    "\n",
    "    for X_batch, y_batch in train_loader:\n",
    "        X_batch, y_batch = X_batch.to(device), y_batch.to(device)\n",
    "        optimizer.zero_grad()\n",
    "        outputs = model(X_batch).squeeze()\n",
    "        loss = criterion(outputs, y_batch)\n",
    "        loss.backward()\n",
    "        optimizer.step()\n",
    "        epoch_train_loss += loss.item()\n",
    "    avg_train_loss = epoch_train_loss / len(train_loader)\n",
    "    train_losses.append(avg_train_loss)\n",
    "    print(f'Epoch [{epoch+1}/{num_epochs}], Loss: {avg_train_loss:.4f}')\n",
    "\n",
    "    if val_loader is not None:\n",
    "        model.eval()  \n",
    "        with torch.no_grad():\n",
    "            for X_val, y_val in val_loader:\n",
    "                X_val, y_val = X_val.to(device), y_val.to(device)\n",
    "                val_outputs = model(X_val).squeeze()\n",
    "                val_loss = criterion(val_outputs, y_val)\n",
    "                epoch_val_loss += val_loss.item()\n",
    "\n",
    "        avg_val_loss = epoch_val_loss / len(val_loader)\n",
    "        val_losses.append(avg_val_loss)\n",
    "        model.train()  \n",
    "\n",
    "    if val_loader is not None:\n",
    "        print(f\"Epoch [{epoch+1}/{num_epochs}], Train Loss: {avg_train_loss:.4f}, Val Loss: {avg_val_loss:.4f}\")\n",
    "    else:\n",
    "        print(f\"Epoch [{epoch+1}/{num_epochs}], Train Loss: {avg_train_loss:.4f}\")\n",
    "\n",
    "plt.figure(figsize=(10, 6))\n",
    "plt.plot(range(1, num_epochs + 1), train_losses, label='Train Loss')\n",
    "if val_losses:\n",
    "    plt.plot(range(1, num_epochs + 1), val_losses, label='Validation Loss')\n",
    "plt.xlabel('Epoch')\n",
    "plt.ylabel('Loss')\n",
    "plt.title('Learning Curve for DNN1')\n",
    "plt.legend()\n",
    "plt.grid()\n",
    "plt.show()"
   ]
  },
  {
   "cell_type": "code",
   "execution_count": 17,
   "metadata": {},
   "outputs": [
    {
     "name": "stdout",
     "output_type": "stream",
     "text": [
      "Accuracy: 60.25%\n",
      "Precision: 0.4878\n",
      "Recall: 0.5900\n",
      "F1 Score: 0.5340\n",
      "Matthews Correlation Coefficient: 0.1955\n",
      "Specificity: 0.6104\n"
     ]
    },
    {
     "data": {
      "image/png": "[encoded data removed]",
      "text/plain": [
       "<Figure size 640x480 with 1 Axes>"
      ]
     },
     "metadata": {},
     "output_type": "display_data"
    },
    {
     "data": {
      "image/png": "[encoded data removed]",
      "text/plain": [
       "<Figure size 640x480 with 1 Axes>"
      ]
     },
     "metadata": {},
     "output_type": "display_data"
    },
    {
     "data": {
      "image/png": "[encoded data removed]",
      "text/plain": [
       "<Figure size 640x480 with 1 Axes>"
      ]
     },
     "metadata": {},
     "output_type": "display_data"
    }
   ],
   "source": [
    "model.eval()\n",
    "with torch.no_grad():\n",
    "    X_test_tensor = X_test_tensor.to(device)\n",
    "    y_test_tensor = y_test_tensor.to(device)\n",
    "\n",
    "    # 予測と確率\n",
    "    test_outputs = model(X_test_tensor).squeeze()\n",
    "    predictions = (test_outputs >= 0.5).float()\n",
    "    y_true = y_test_tensor.cpu().numpy()\n",
    "    y_pred = predictions.cpu().numpy()\n",
    "    y_prob = test_outputs.cpu().numpy()\n",
    "\n",
    "# 評価指標\n",
    "    accuracy = accuracy_score(y_true, y_pred)\n",
    "    precision = precision_score(y_true, y_pred)\n",
    "    recall = recall_score(y_true, y_pred)\n",
    "    f1 = f1_score(y_true, y_pred)\n",
    "    mcc = matthews_corrcoef(y_true, y_pred)\n",
    "    specificity = recall_score(y_true, y_pred, pos_label=0)  \n",
    "    print(f'Accuracy: {accuracy * 100:.2f}%')\n",
    "    print(f'Precision: {precision:.4f}')\n",
    "    print(f'Recall: {recall:.4f}')\n",
    "    print(f'F1 Score: {f1:.4f}')\n",
    "    print(f'Matthews Correlation Coefficient: {mcc:.4f}')\n",
    "    print(f'Specificity: {specificity:.4f}')\n",
    "\n",
    "    # 混同行列（割合表示）\n",
    "    cm = confusion_matrix(y_true, y_pred, normalize='true')\n",
    "    sns.heatmap(cm, annot=True, fmt=\".2%\", cmap=\"Blues\", cbar=False)\n",
    "    plt.xlabel(\"Predicted\")\n",
    "    plt.ylabel(\"Actual\")\n",
    "    plt.title(f\"Confusion Matrix (Normalized)\")\n",
    "    plt.show()\n",
    "\n",
    "    # ROC曲線とAUC\n",
    "    fpr, tpr, thresholds = roc_curve(y_true, y_prob)\n",
    "    roc_auc = auc(fpr, tpr)\n",
    "    plt.plot(fpr, tpr, label=f'ROC curve (AUC = {roc_auc:.2f})')\n",
    "    plt.plot([0, 1], [0, 1], 'k--') \n",
    "    plt.xlabel('False Positive Rate')\n",
    "    plt.ylabel('True Positive Rate')\n",
    "    plt.title(f'ROC Curve - Model ')\n",
    "    plt.legend(loc=\"lower right\")\n",
    "    plt.show()\n",
    "\n",
    "    # Precision-Recall曲線\n",
    "    precision_curve, recall_curve, pr_thresholds = precision_recall_curve(y_true, y_prob)\n",
    "    pr_auc = auc(recall_curve, precision_curve)\n",
    "    plt.plot(recall_curve, precision_curve, label=f'PR curve (AUC = {pr_auc:.2f})')\n",
    "    plt.xlabel('Recall')\n",
    "    plt.ylabel('Precision')\n",
    "    plt.title(f'Precision-Recall Curve ')\n",
    "    plt.legend(loc=\"lower left\")\n",
    "    plt.show()    "
   ]
  },
  {
   "cell_type": "code",
   "execution_count": 18,
   "metadata": {},
   "outputs": [],
   "source": [
    "# モデルと構造を保存\n",
    "torch.save(model, '../../saved_model/DNN_1.pth')\n"
   ]
  },
  {
   "cell_type": "code",
   "execution_count": null,
   "metadata": {},
   "outputs": [],
   "source": []
  }
 ],
 "metadata": {
  "kernelspec": {
   "display_name": "torch",
   "language": "python",
   "name": "python3"
  },
  "language_info": {
   "codemirror_mode": {
    "name": "ipython",
    "version": 3
   },
   "file_extension": ".py",
   "mimetype": "text/x-python",
   "name": "python",
   "nbconvert_exporter": "python",
   "pygments_lexer": "ipython3",
   "version": "3.12.7"
  }
 },
 "nbformat": 4,
 "nbformat_minor": 2
}
