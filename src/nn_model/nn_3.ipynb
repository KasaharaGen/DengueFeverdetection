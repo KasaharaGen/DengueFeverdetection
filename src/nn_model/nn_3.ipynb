{
 "cells": [
  {
   "cell_type": "code",
   "execution_count": 71,
   "id": "b325a6ea",
   "metadata": {},
   "outputs": [],
   "source": [
    "import pandas as pd\n",
    "import optuna\n",
    "from pytorch_tabnet.tab_model import TabNetClassifier\n",
    "import torch\n",
    "from sklearn.metrics import accuracy_score\n",
    "from sklearn.model_selection import train_test_split\n",
    "from sklearn.preprocessing import StandardScaler"
   ]
  },
  {
   "cell_type": "code",
   "execution_count": 72,
   "id": "a96e0112",
   "metadata": {},
   "outputs": [
    {
     "name": "stdout",
     "output_type": "stream",
     "text": [
      "Using device: cuda\n"
     ]
    }
   ],
   "source": [
    "device = torch.device(\"cuda\" if torch.cuda.is_available() else \"cpu\")\n",
    "print(f\"Using device: {device}\")"
   ]
  },
  {
   "cell_type": "code",
   "execution_count": null,
   "id": "90ad05e6",
   "metadata": {},
   "outputs": [
    {
     "data": {
      "text/plain": [
       "'X_train_tensor = torch.tensor(X_train, dtype=torch.float32)\\ny_train_tensor = torch.tensor(y_train, dtype=torch.float32)\\nX_test_tensor = torch.tensor(X_test, dtype=torch.float32)\\ny_test_tensor = torch.tensor(y_test, dtype=torch.float32)'"
      ]
     },
     "execution_count": 73,
     "metadata": {},
     "output_type": "execute_result"
    }
   ],
   "source": [
    "data = pd.read_csv('../../data/learning_data.csv',index_col=None)\n",
    "\n",
    "test_ratio = 0.2\n",
    "    \n",
    "X = data.drop('dengue', axis=1).values  \n",
    "y = data['dengue'].values\n",
    "\n",
    "# 分割インデックスの計算\n",
    "split_index = int(len(data) * test_ratio)\n",
    "\n",
    "# 前半20%をテストデータとして分割\n",
    "X_test = X[:split_index]\n",
    "X_train = X[split_index:]\n",
    "\n",
    "y_test = y[:split_index]\n",
    "y_train = y[split_index:]\n",
    "    \n",
    "#numpy配列をtensolに変換\n",
    "\"\"\"X_train_tensor = torch.tensor(X_train, dtype=torch.float32)\n",
    "y_train_tensor = torch.tensor(y_train, dtype=torch.float32)\n",
    "X_test_tensor = torch.tensor(X_test, dtype=torch.float32)\n",
    "y_test_tensor = torch.tensor(y_test, dtype=torch.float32)\"\"\""
   ]
  },
  {
   "cell_type": "code",
   "execution_count": 74,
   "id": "5ad095e0",
   "metadata": {},
   "outputs": [],
   "source": [
    "def objective(trial):\n",
    "    # ハイパーパラメータの選択\n",
    "    n_d = trial.suggest_int(\"n_d\", 8, 64)\n",
    "    n_a = trial.suggest_int(\"n_a\", 8, 64)\n",
    "    n_steps = trial.suggest_int(\"n_steps\", 3, 10)\n",
    "    gamma = trial.suggest_float(\"gamma\", 1.0, 2.0)\n",
    "    lambda_sparse = trial.suggest_float(\"lambda_sparse\", 1e-6, 1e-1)\n",
    "    learning_rate = trial.suggest_float(\"learning_rate\", 1e-7, 1e-1, log=True)\n",
    "    \n",
    "    # TabNetのモデルを作成\n",
    "    model = TabNetClassifier(\n",
    "        device_name=device,\n",
    "        n_d=n_d,\n",
    "        n_a=n_a,\n",
    "        n_steps=n_steps,\n",
    "        gamma=gamma,\n",
    "        lambda_sparse=lambda_sparse,\n",
    "        optimizer_fn=torch.optim.Adam,\n",
    "        optimizer_params=dict(lr=learning_rate),\n",
    "        mask_type=\"sparsemax\"\n",
    "    )\n",
    "\n",
    "    # モデルの訓練\n",
    "    model.fit(\n",
    "        X_train, y_train,\n",
    "        eval_set=[(X_test, y_test)],\n",
    "        eval_name=['test'],\n",
    "        eval_metric=['accuracy'],\n",
    "        max_epochs=1000,\n",
    "        patience=10,\n",
    "        batch_size=128,\n",
    "        virtual_batch_size=128\n",
    "    )\n",
    "\n",
    "    # テストデータでの予測と評価\n",
    "    y_pred = model.predict(X_test)\n",
    "    accuracy = accuracy_score(y_test, y_pred)\n",
    "\n",
    "    return accuracy"
   ]
  },
  {
   "cell_type": "code",
   "execution_count": 75,
   "id": "1c229835",
   "metadata": {},
   "outputs": [
    {
     "name": "stderr",
     "output_type": "stream",
     "text": [
      "[I 2024-10-30 17:31:33,925] A new study created in memory with name: no-name-75804397-b43c-42da-837d-5f683f14a2e0\n",
      "/home/gonken/anaconda3/envs/torch/lib/python3.12/site-packages/pytorch_tabnet/abstract_model.py:82: UserWarning: Device used : cuda\n",
      "  warnings.warn(f\"Device used : {self.device}\")\n"
     ]
    },
    {
     "name": "stdout",
     "output_type": "stream",
     "text": [
      "epoch 0  | loss: 1.81835 | test_accuracy: 0.48375 |  0:00:02s\n",
      "epoch 1  | loss: 1.37225 | test_accuracy: 0.49227 |  0:00:04s\n",
      "epoch 2  | loss: 1.12138 | test_accuracy: 0.4976  |  0:00:07s\n",
      "epoch 3  | loss: 1.00193 | test_accuracy: 0.52158 |  0:00:09s\n",
      "epoch 4  | loss: 0.92755 | test_accuracy: 0.5024  |  0:00:12s\n",
      "epoch 5  | loss: 0.8622  | test_accuracy: 0.51731 |  0:00:14s\n",
      "epoch 6  | loss: 0.84469 | test_accuracy: 0.50133 |  0:00:16s\n",
      "epoch 7  | loss: 0.81245 | test_accuracy: 0.51199 |  0:00:18s\n",
      "epoch 8  | loss: 0.78144 | test_accuracy: 0.51199 |  0:00:21s\n",
      "epoch 9  | loss: 0.77822 | test_accuracy: 0.5008  |  0:00:23s\n",
      "epoch 10 | loss: 0.76507 | test_accuracy: 0.50666 |  0:00:25s\n",
      "epoch 11 | loss: 0.75912 | test_accuracy: 0.50932 |  0:00:28s\n",
      "epoch 12 | loss: 0.75505 | test_accuracy: 0.504   |  0:00:30s\n",
      "epoch 13 | loss: 0.74467 | test_accuracy: 0.50719 |  0:00:33s\n",
      "\n",
      "Early stopping occurred at epoch 13 with best_epoch = 3 and best_test_accuracy = 0.52158\n"
     ]
    },
    {
     "name": "stderr",
     "output_type": "stream",
     "text": [
      "/home/gonken/anaconda3/envs/torch/lib/python3.12/site-packages/pytorch_tabnet/callbacks.py:172: UserWarning: Best weights from best epoch are automatically used!\n",
      "  warnings.warn(wrn_msg)\n",
      "[I 2024-10-30 17:32:07,911] Trial 0 finished with value: 0.5215769845498135 and parameters: {'n_d': 55, 'n_a': 23, 'n_steps': 5, 'gamma': 1.7112373553285747, 'lambda_sparse': 0.006231908646358611, 'learning_rate': 0.00011435500910348215}. Best is trial 0 with value: 0.5215769845498135.\n",
      "/home/gonken/anaconda3/envs/torch/lib/python3.12/site-packages/pytorch_tabnet/abstract_model.py:82: UserWarning: Device used : cuda\n",
      "  warnings.warn(f\"Device used : {self.device}\")\n"
     ]
    },
    {
     "name": "stdout",
     "output_type": "stream",
     "text": [
      "epoch 0  | loss: 1.41352 | test_accuracy: 0.51678 |  0:00:02s\n",
      "epoch 1  | loss: 1.44026 | test_accuracy: 0.52531 |  0:00:05s\n",
      "epoch 2  | loss: 1.44685 | test_accuracy: 0.51252 |  0:00:08s\n",
      "epoch 3  | loss: 1.44102 | test_accuracy: 0.50826 |  0:00:10s\n",
      "epoch 4  | loss: 1.40332 | test_accuracy: 0.51572 |  0:00:13s\n",
      "epoch 5  | loss: 1.42359 | test_accuracy: 0.51518 |  0:00:16s\n",
      "epoch 6  | loss: 1.41253 | test_accuracy: 0.51518 |  0:00:18s\n",
      "epoch 7  | loss: 1.40276 | test_accuracy: 0.51785 |  0:00:21s\n",
      "epoch 8  | loss: 1.37674 | test_accuracy: 0.50932 |  0:00:24s\n",
      "epoch 9  | loss: 1.39066 | test_accuracy: 0.51945 |  0:00:26s\n",
      "epoch 10 | loss: 1.35181 | test_accuracy: 0.51518 |  0:00:28s\n",
      "epoch 11 | loss: 1.37466 | test_accuracy: 0.52051 |  0:00:31s\n",
      "\n",
      "Early stopping occurred at epoch 11 with best_epoch = 1 and best_test_accuracy = 0.52531\n"
     ]
    },
    {
     "name": "stderr",
     "output_type": "stream",
     "text": [
      "/home/gonken/anaconda3/envs/torch/lib/python3.12/site-packages/pytorch_tabnet/callbacks.py:172: UserWarning: Best weights from best epoch are automatically used!\n",
      "  warnings.warn(wrn_msg)\n",
      "[I 2024-10-30 17:32:40,788] Trial 1 finished with value: 0.5253063399041022 and parameters: {'n_d': 34, 'n_a': 20, 'n_steps': 7, 'gamma': 1.2036859755176745, 'lambda_sparse': 0.06923049262115193, 'learning_rate': 6.150986899828385e-06}. Best is trial 1 with value: 0.5253063399041022.\n",
      "/home/gonken/anaconda3/envs/torch/lib/python3.12/site-packages/pytorch_tabnet/abstract_model.py:82: UserWarning: Device used : cuda\n",
      "  warnings.warn(f\"Device used : {self.device}\")\n"
     ]
    },
    {
     "name": "stdout",
     "output_type": "stream",
     "text": [
      "epoch 0  | loss: 3.06964 | test_accuracy: 0.49707 |  0:00:03s\n",
      "epoch 1  | loss: 2.21899 | test_accuracy: 0.49547 |  0:00:06s\n",
      "epoch 2  | loss: 1.62843 | test_accuracy: 0.49973 |  0:00:09s\n",
      "epoch 3  | loss: 1.28949 | test_accuracy: 0.51625 |  0:00:12s\n",
      "epoch 4  | loss: 1.13308 | test_accuracy: 0.50879 |  0:00:15s\n",
      "epoch 5  | loss: 1.02577 | test_accuracy: 0.48908 |  0:00:19s\n",
      "epoch 6  | loss: 0.97674 | test_accuracy: 0.50826 |  0:00:22s\n",
      "epoch 7  | loss: 0.933   | test_accuracy: 0.50506 |  0:00:25s\n",
      "epoch 8  | loss: 0.90986 | test_accuracy: 0.50613 |  0:00:28s\n",
      "epoch 9  | loss: 0.85954 | test_accuracy: 0.49494 |  0:00:31s\n",
      "epoch 10 | loss: 0.83396 | test_accuracy: 0.50986 |  0:00:35s\n",
      "epoch 11 | loss: 0.81028 | test_accuracy: 0.50559 |  0:00:38s\n",
      "epoch 12 | loss: 0.77747 | test_accuracy: 0.504   |  0:00:41s\n",
      "epoch 13 | loss: 0.76618 | test_accuracy: 0.49068 |  0:00:44s\n",
      "\n",
      "Early stopping occurred at epoch 13 with best_epoch = 3 and best_test_accuracy = 0.51625\n"
     ]
    },
    {
     "name": "stderr",
     "output_type": "stream",
     "text": [
      "/home/gonken/anaconda3/envs/torch/lib/python3.12/site-packages/pytorch_tabnet/callbacks.py:172: UserWarning: Best weights from best epoch are automatically used!\n",
      "  warnings.warn(wrn_msg)\n",
      "[I 2024-10-30 17:33:27,186] Trial 2 finished with value: 0.5162493340436868 and parameters: {'n_d': 12, 'n_a': 11, 'n_steps': 9, 'gamma': 1.8772149224365884, 'lambda_sparse': 0.027881746618024502, 'learning_rate': 0.00042843993790324186}. Best is trial 1 with value: 0.5253063399041022.\n",
      "/home/gonken/anaconda3/envs/torch/lib/python3.12/site-packages/pytorch_tabnet/abstract_model.py:82: UserWarning: Device used : cuda\n",
      "  warnings.warn(f\"Device used : {self.device}\")\n"
     ]
    },
    {
     "name": "stdout",
     "output_type": "stream",
     "text": [
      "epoch 0  | loss: 1.00722 | test_accuracy: 0.4976  |  0:00:02s\n",
      "epoch 1  | loss: 0.68376 | test_accuracy: 0.50293 |  0:00:05s\n",
      "epoch 2  | loss: 0.6625  | test_accuracy: 0.49334 |  0:00:07s\n",
      "epoch 3  | loss: 0.66813 | test_accuracy: 0.50773 |  0:00:10s\n",
      "epoch 4  | loss: 0.66701 | test_accuracy: 0.47789 |  0:00:12s\n",
      "epoch 5  | loss: 0.67287 | test_accuracy: 0.51838 |  0:00:15s\n",
      "epoch 6  | loss: 0.66598 | test_accuracy: 0.49867 |  0:00:17s\n",
      "epoch 7  | loss: 0.65739 | test_accuracy: 0.50559 |  0:00:20s\n",
      "epoch 8  | loss: 0.66475 | test_accuracy: 0.4992  |  0:00:22s\n",
      "epoch 9  | loss: 0.65196 | test_accuracy: 0.50027 |  0:00:25s\n",
      "epoch 10 | loss: 0.65689 | test_accuracy: 0.50719 |  0:00:27s\n",
      "epoch 11 | loss: 0.66112 | test_accuracy: 0.50986 |  0:00:30s\n",
      "epoch 12 | loss: 0.65804 | test_accuracy: 0.50826 |  0:00:32s\n",
      "epoch 13 | loss: 0.65982 | test_accuracy: 0.5024  |  0:00:35s\n",
      "epoch 14 | loss: 0.65571 | test_accuracy: 0.5008  |  0:00:37s\n",
      "epoch 15 | loss: 0.6484  | test_accuracy: 0.5008  |  0:00:40s\n",
      "\n",
      "Early stopping occurred at epoch 15 with best_epoch = 5 and best_test_accuracy = 0.51838\n"
     ]
    },
    {
     "name": "stderr",
     "output_type": "stream",
     "text": [
      "/home/gonken/anaconda3/envs/torch/lib/python3.12/site-packages/pytorch_tabnet/callbacks.py:172: UserWarning: Best weights from best epoch are automatically used!\n",
      "  warnings.warn(wrn_msg)\n",
      "[I 2024-10-30 17:34:08,545] Trial 3 finished with value: 0.5183803942461375 and parameters: {'n_d': 59, 'n_a': 10, 'n_steps': 6, 'gamma': 1.1113148478207802, 'lambda_sparse': 0.04623298839839967, 'learning_rate': 0.05313085961383109}. Best is trial 1 with value: 0.5253063399041022.\n",
      "/home/gonken/anaconda3/envs/torch/lib/python3.12/site-packages/pytorch_tabnet/abstract_model.py:82: UserWarning: Device used : cuda\n",
      "  warnings.warn(f\"Device used : {self.device}\")\n"
     ]
    },
    {
     "name": "stdout",
     "output_type": "stream",
     "text": [
      "epoch 0  | loss: 1.0551  | test_accuracy: 0.53596 |  0:00:02s\n",
      "epoch 1  | loss: 0.73288 | test_accuracy: 0.50346 |  0:00:04s\n",
      "epoch 2  | loss: 0.69623 | test_accuracy: 0.50613 |  0:00:06s\n",
      "epoch 3  | loss: 0.67921 | test_accuracy: 0.50506 |  0:00:08s\n",
      "epoch 4  | loss: 0.66709 | test_accuracy: 0.50613 |  0:00:11s\n",
      "epoch 5  | loss: 0.67717 | test_accuracy: 0.49334 |  0:00:13s\n",
      "epoch 6  | loss: 0.66338 | test_accuracy: 0.50293 |  0:00:15s\n",
      "epoch 7  | loss: 0.66058 | test_accuracy: 0.50133 |  0:00:17s\n",
      "epoch 8  | loss: 0.65812 | test_accuracy: 0.50506 |  0:00:19s\n",
      "epoch 9  | loss: 0.65881 | test_accuracy: 0.49227 |  0:00:22s\n",
      "epoch 10 | loss: 0.66145 | test_accuracy: 0.52477 |  0:00:23s\n",
      "\n",
      "Early stopping occurred at epoch 10 with best_epoch = 0 and best_test_accuracy = 0.53596\n"
     ]
    },
    {
     "name": "stderr",
     "output_type": "stream",
     "text": [
      "/home/gonken/anaconda3/envs/torch/lib/python3.12/site-packages/pytorch_tabnet/callbacks.py:172: UserWarning: Best weights from best epoch are automatically used!\n",
      "  warnings.warn(wrn_msg)\n",
      "[I 2024-10-30 17:34:33,352] Trial 4 finished with value: 0.5359616409163559 and parameters: {'n_d': 49, 'n_a': 17, 'n_steps': 5, 'gamma': 1.5791038792939252, 'lambda_sparse': 0.08222258804070917, 'learning_rate': 0.011539105483496466}. Best is trial 4 with value: 0.5359616409163559.\n",
      "/home/gonken/anaconda3/envs/torch/lib/python3.12/site-packages/pytorch_tabnet/abstract_model.py:82: UserWarning: Device used : cuda\n",
      "  warnings.warn(f\"Device used : {self.device}\")\n"
     ]
    },
    {
     "name": "stdout",
     "output_type": "stream",
     "text": [
      "epoch 0  | loss: 1.62063 | test_accuracy: 0.50293 |  0:00:02s\n",
      "epoch 1  | loss: 1.19102 | test_accuracy: 0.49867 |  0:00:05s\n",
      "epoch 2  | loss: 1.0185  | test_accuracy: 0.48961 |  0:00:07s\n",
      "epoch 3  | loss: 0.9281  | test_accuracy: 0.496   |  0:00:10s\n",
      "epoch 4  | loss: 0.87553 | test_accuracy: 0.49174 |  0:00:12s\n",
      "epoch 5  | loss: 0.85336 | test_accuracy: 0.496   |  0:00:15s\n",
      "epoch 6  | loss: 0.83403 | test_accuracy: 0.48215 |  0:00:18s\n",
      "epoch 7  | loss: 0.82631 | test_accuracy: 0.48855 |  0:00:20s\n",
      "epoch 8  | loss: 0.80075 | test_accuracy: 0.49494 |  0:00:23s\n",
      "epoch 9  | loss: 0.80337 | test_accuracy: 0.48961 |  0:00:26s\n",
      "epoch 10 | loss: 0.79289 | test_accuracy: 0.50559 |  0:00:28s\n",
      "epoch 11 | loss: 0.78789 | test_accuracy: 0.50932 |  0:00:31s\n",
      "epoch 12 | loss: 0.77486 | test_accuracy: 0.50613 |  0:00:33s\n",
      "epoch 13 | loss: 0.77739 | test_accuracy: 0.49814 |  0:00:36s\n",
      "epoch 14 | loss: 0.77781 | test_accuracy: 0.50133 |  0:00:38s\n",
      "epoch 15 | loss: 0.76849 | test_accuracy: 0.49227 |  0:00:41s\n",
      "epoch 16 | loss: 0.76632 | test_accuracy: 0.49174 |  0:00:43s\n",
      "epoch 17 | loss: 0.75638 | test_accuracy: 0.48908 |  0:00:45s\n",
      "epoch 18 | loss: 0.75326 | test_accuracy: 0.49227 |  0:00:47s\n",
      "epoch 19 | loss: 0.75271 | test_accuracy: 0.5008  |  0:00:49s\n",
      "epoch 20 | loss: 0.74398 | test_accuracy: 0.5008  |  0:00:51s\n",
      "epoch 21 | loss: 0.74216 | test_accuracy: 0.49068 |  0:00:54s\n",
      "\n",
      "Early stopping occurred at epoch 21 with best_epoch = 11 and best_test_accuracy = 0.50932\n"
     ]
    },
    {
     "name": "stderr",
     "output_type": "stream",
     "text": [
      "/home/gonken/anaconda3/envs/torch/lib/python3.12/site-packages/pytorch_tabnet/callbacks.py:172: UserWarning: Best weights from best epoch are automatically used!\n",
      "  warnings.warn(wrn_msg)\n",
      "[I 2024-10-30 17:35:28,985] Trial 5 finished with value: 0.5093233883857219 and parameters: {'n_d': 54, 'n_a': 25, 'n_steps': 6, 'gamma': 1.1576687960647383, 'lambda_sparse': 0.09681210696296044, 'learning_rate': 0.00011918951166694057}. Best is trial 4 with value: 0.5359616409163559.\n",
      "/home/gonken/anaconda3/envs/torch/lib/python3.12/site-packages/pytorch_tabnet/abstract_model.py:82: UserWarning: Device used : cuda\n",
      "  warnings.warn(f\"Device used : {self.device}\")\n"
     ]
    },
    {
     "name": "stdout",
     "output_type": "stream",
     "text": [
      "epoch 0  | loss: 1.53013 | test_accuracy: 0.49494 |  0:00:02s\n",
      "epoch 1  | loss: 0.94835 | test_accuracy: 0.49654 |  0:00:04s\n",
      "epoch 2  | loss: 0.85358 | test_accuracy: 0.51359 |  0:00:06s\n",
      "epoch 3  | loss: 0.80079 | test_accuracy: 0.51199 |  0:00:08s\n",
      "epoch 4  | loss: 0.77489 | test_accuracy: 0.48215 |  0:00:10s\n",
      "epoch 5  | loss: 0.7637  | test_accuracy: 0.49547 |  0:00:13s\n",
      "epoch 6  | loss: 0.7423  | test_accuracy: 0.49654 |  0:00:15s\n",
      "epoch 7  | loss: 0.73168 | test_accuracy: 0.48695 |  0:00:17s\n",
      "epoch 8  | loss: 0.72993 | test_accuracy: 0.50293 |  0:00:19s\n",
      "epoch 9  | loss: 0.73358 | test_accuracy: 0.49707 |  0:00:21s\n",
      "epoch 10 | loss: 0.72362 | test_accuracy: 0.51945 |  0:00:23s\n",
      "epoch 11 | loss: 0.71244 | test_accuracy: 0.50932 |  0:00:25s\n",
      "epoch 12 | loss: 0.70553 | test_accuracy: 0.51305 |  0:00:28s\n",
      "epoch 13 | loss: 0.71558 | test_accuracy: 0.51359 |  0:00:30s\n",
      "epoch 14 | loss: 0.70582 | test_accuracy: 0.49814 |  0:00:32s\n",
      "epoch 15 | loss: 0.70121 | test_accuracy: 0.51572 |  0:00:34s\n",
      "epoch 16 | loss: 0.70542 | test_accuracy: 0.51518 |  0:00:36s\n",
      "epoch 17 | loss: 0.6969  | test_accuracy: 0.50932 |  0:00:38s\n",
      "epoch 18 | loss: 0.69739 | test_accuracy: 0.50879 |  0:00:40s\n",
      "epoch 19 | loss: 0.696   | test_accuracy: 0.51359 |  0:00:42s\n",
      "epoch 20 | loss: 0.69765 | test_accuracy: 0.50986 |  0:00:44s\n",
      "\n",
      "Early stopping occurred at epoch 20 with best_epoch = 10 and best_test_accuracy = 0.51945\n"
     ]
    },
    {
     "name": "stderr",
     "output_type": "stream",
     "text": [
      "/home/gonken/anaconda3/envs/torch/lib/python3.12/site-packages/pytorch_tabnet/callbacks.py:172: UserWarning: Best weights from best epoch are automatically used!\n",
      "  warnings.warn(wrn_msg)\n",
      "[I 2024-10-30 17:36:14,582] Trial 6 finished with value: 0.5194459243473628 and parameters: {'n_d': 31, 'n_a': 22, 'n_steps': 5, 'gamma': 1.2997540326034165, 'lambda_sparse': 0.07322742425600795, 'learning_rate': 0.0003837144048733221}. Best is trial 4 with value: 0.5359616409163559.\n",
      "/home/gonken/anaconda3/envs/torch/lib/python3.12/site-packages/pytorch_tabnet/abstract_model.py:82: UserWarning: Device used : cuda\n",
      "  warnings.warn(f\"Device used : {self.device}\")\n"
     ]
    },
    {
     "name": "stdout",
     "output_type": "stream",
     "text": [
      "epoch 0  | loss: 1.07994 | test_accuracy: 0.51998 |  0:00:01s\n",
      "epoch 1  | loss: 1.06977 | test_accuracy: 0.51625 |  0:00:03s\n",
      "epoch 2  | loss: 1.07217 | test_accuracy: 0.51465 |  0:00:05s\n",
      "epoch 3  | loss: 1.08229 | test_accuracy: 0.50027 |  0:00:07s\n",
      "epoch 4  | loss: 1.07211 | test_accuracy: 0.50559 |  0:00:09s\n",
      "epoch 5  | loss: 1.07448 | test_accuracy: 0.50506 |  0:00:11s\n",
      "epoch 6  | loss: 1.06117 | test_accuracy: 0.50506 |  0:00:13s\n",
      "epoch 7  | loss: 1.0353  | test_accuracy: 0.51092 |  0:00:15s\n",
      "epoch 8  | loss: 1.04721 | test_accuracy: 0.50293 |  0:00:16s\n",
      "epoch 9  | loss: 1.06048 | test_accuracy: 0.504   |  0:00:18s\n",
      "epoch 10 | loss: 1.05684 | test_accuracy: 0.50293 |  0:00:21s\n",
      "\n",
      "Early stopping occurred at epoch 10 with best_epoch = 0 and best_test_accuracy = 0.51998\n"
     ]
    },
    {
     "name": "stderr",
     "output_type": "stream",
     "text": [
      "/home/gonken/anaconda3/envs/torch/lib/python3.12/site-packages/pytorch_tabnet/callbacks.py:172: UserWarning: Best weights from best epoch are automatically used!\n",
      "  warnings.warn(wrn_msg)\n",
      "[I 2024-10-30 17:36:36,426] Trial 7 finished with value: 0.5199786893979755 and parameters: {'n_d': 21, 'n_a': 31, 'n_steps': 4, 'gamma': 1.916663961277235, 'lambda_sparse': 0.025614322000609775, 'learning_rate': 3.5600851470611312e-06}. Best is trial 4 with value: 0.5359616409163559.\n",
      "/home/gonken/anaconda3/envs/torch/lib/python3.12/site-packages/pytorch_tabnet/abstract_model.py:82: UserWarning: Device used : cuda\n",
      "  warnings.warn(f\"Device used : {self.device}\")\n"
     ]
    },
    {
     "name": "stdout",
     "output_type": "stream",
     "text": [
      "epoch 0  | loss: 1.29135 | test_accuracy: 0.49547 |  0:00:02s\n",
      "epoch 1  | loss: 1.03881 | test_accuracy: 0.48801 |  0:00:05s\n",
      "epoch 2  | loss: 0.94018 | test_accuracy: 0.51572 |  0:00:07s\n",
      "epoch 3  | loss: 0.86479 | test_accuracy: 0.51252 |  0:00:09s\n",
      "epoch 4  | loss: 0.81514 | test_accuracy: 0.50613 |  0:00:12s\n",
      "epoch 5  | loss: 0.7947  | test_accuracy: 0.50773 |  0:00:15s\n",
      "epoch 6  | loss: 0.76953 | test_accuracy: 0.50719 |  0:00:17s\n",
      "epoch 7  | loss: 0.76199 | test_accuracy: 0.49814 |  0:00:20s\n",
      "epoch 8  | loss: 0.74978 | test_accuracy: 0.50133 |  0:00:22s\n",
      "epoch 9  | loss: 0.74629 | test_accuracy: 0.49654 |  0:00:25s\n",
      "epoch 10 | loss: 0.72936 | test_accuracy: 0.49494 |  0:00:27s\n",
      "epoch 11 | loss: 0.73313 | test_accuracy: 0.50293 |  0:00:30s\n",
      "epoch 12 | loss: 0.73121 | test_accuracy: 0.49867 |  0:00:33s\n",
      "\n",
      "Early stopping occurred at epoch 12 with best_epoch = 2 and best_test_accuracy = 0.51572\n"
     ]
    },
    {
     "name": "stderr",
     "output_type": "stream",
     "text": [
      "/home/gonken/anaconda3/envs/torch/lib/python3.12/site-packages/pytorch_tabnet/callbacks.py:172: UserWarning: Best weights from best epoch are automatically used!\n",
      "  warnings.warn(wrn_msg)\n",
      "[I 2024-10-30 17:37:10,737] Trial 8 finished with value: 0.515716568993074 and parameters: {'n_d': 60, 'n_a': 26, 'n_steps': 6, 'gamma': 1.7733963978519296, 'lambda_sparse': 0.04829998583289424, 'learning_rate': 0.00024772296184312785}. Best is trial 4 with value: 0.5359616409163559.\n",
      "/home/gonken/anaconda3/envs/torch/lib/python3.12/site-packages/pytorch_tabnet/abstract_model.py:82: UserWarning: Device used : cuda\n",
      "  warnings.warn(f\"Device used : {self.device}\")\n"
     ]
    },
    {
     "name": "stdout",
     "output_type": "stream",
     "text": [
      "epoch 0  | loss: 1.29356 | test_accuracy: 0.51199 |  0:00:02s\n",
      "epoch 1  | loss: 0.77979 | test_accuracy: 0.50986 |  0:00:05s\n",
      "epoch 2  | loss: 0.71299 | test_accuracy: 0.51785 |  0:00:07s\n",
      "epoch 3  | loss: 0.70454 | test_accuracy: 0.50506 |  0:00:10s\n",
      "epoch 4  | loss: 0.68344 | test_accuracy: 0.51465 |  0:00:13s\n",
      "epoch 5  | loss: 0.67741 | test_accuracy: 0.51678 |  0:00:16s\n",
      "epoch 6  | loss: 0.67158 | test_accuracy: 0.50773 |  0:00:18s\n",
      "epoch 7  | loss: 0.66576 | test_accuracy: 0.4976  |  0:00:21s\n",
      "epoch 8  | loss: 0.66895 | test_accuracy: 0.49707 |  0:00:24s\n",
      "epoch 9  | loss: 0.67109 | test_accuracy: 0.49281 |  0:00:26s\n",
      "epoch 10 | loss: 0.65529 | test_accuracy: 0.49068 |  0:00:29s\n",
      "epoch 11 | loss: 0.6556  | test_accuracy: 0.50986 |  0:00:32s\n",
      "epoch 12 | loss: 0.65368 | test_accuracy: 0.51731 |  0:00:34s\n",
      "\n",
      "Early stopping occurred at epoch 12 with best_epoch = 2 and best_test_accuracy = 0.51785\n"
     ]
    },
    {
     "name": "stderr",
     "output_type": "stream",
     "text": [
      "/home/gonken/anaconda3/envs/torch/lib/python3.12/site-packages/pytorch_tabnet/callbacks.py:172: UserWarning: Best weights from best epoch are automatically used!\n",
      "  warnings.warn(wrn_msg)\n",
      "[I 2024-10-30 17:37:46,662] Trial 9 finished with value: 0.5178476291955247 and parameters: {'n_d': 24, 'n_a': 27, 'n_steps': 7, 'gamma': 1.0056650426397484, 'lambda_sparse': 0.0019537634409067454, 'learning_rate': 0.0013751727898358784}. Best is trial 4 with value: 0.5359616409163559.\n",
      "/home/gonken/anaconda3/envs/torch/lib/python3.12/site-packages/pytorch_tabnet/abstract_model.py:82: UserWarning: Device used : cuda\n",
      "  warnings.warn(f\"Device used : {self.device}\")\n"
     ]
    },
    {
     "name": "stdout",
     "output_type": "stream",
     "text": [
      "epoch 0  | loss: 0.79135 | test_accuracy: 0.51199 |  0:00:01s\n",
      "epoch 1  | loss: 0.67456 | test_accuracy: 0.504   |  0:00:03s\n",
      "epoch 2  | loss: 0.6699  | test_accuracy: 0.49814 |  0:00:04s\n",
      "epoch 3  | loss: 0.66306 | test_accuracy: 0.5024  |  0:00:06s\n",
      "epoch 4  | loss: 0.66953 | test_accuracy: 0.504   |  0:00:08s\n",
      "epoch 5  | loss: 0.67152 | test_accuracy: 0.49973 |  0:00:09s\n",
      "epoch 6  | loss: 0.67504 | test_accuracy: 0.50133 |  0:00:11s\n",
      "epoch 7  | loss: 0.67271 | test_accuracy: 0.50293 |  0:00:12s\n",
      "epoch 8  | loss: 0.66972 | test_accuracy: 0.50666 |  0:00:13s\n",
      "epoch 9  | loss: 0.67023 | test_accuracy: 0.50773 |  0:00:14s\n",
      "epoch 10 | loss: 0.66772 | test_accuracy: 0.50506 |  0:00:16s\n",
      "\n",
      "Early stopping occurred at epoch 10 with best_epoch = 0 and best_test_accuracy = 0.51199\n"
     ]
    },
    {
     "name": "stderr",
     "output_type": "stream",
     "text": [
      "/home/gonken/anaconda3/envs/torch/lib/python3.12/site-packages/pytorch_tabnet/callbacks.py:172: UserWarning: Best weights from best epoch are automatically used!\n",
      "  warnings.warn(wrn_msg)\n",
      "[I 2024-10-30 17:38:03,490] Trial 10 finished with value: 0.5119872136387853 and parameters: {'n_d': 45, 'n_a': 50, 'n_steps': 3, 'gamma': 1.479039994093685, 'lambda_sparse': 0.08493343275984414, 'learning_rate': 0.0664289169446478}. Best is trial 4 with value: 0.5359616409163559.\n",
      "/home/gonken/anaconda3/envs/torch/lib/python3.12/site-packages/pytorch_tabnet/abstract_model.py:82: UserWarning: Device used : cuda\n",
      "  warnings.warn(f\"Device used : {self.device}\")\n"
     ]
    },
    {
     "name": "stdout",
     "output_type": "stream",
     "text": [
      "epoch 0  | loss: 2.11709 | test_accuracy: 0.50506 |  0:00:03s\n",
      "epoch 1  | loss: 2.12124 | test_accuracy: 0.50879 |  0:00:05s\n",
      "epoch 2  | loss: 2.09761 | test_accuracy: 0.50613 |  0:00:08s\n",
      "epoch 3  | loss: 2.08339 | test_accuracy: 0.51945 |  0:00:11s\n",
      "epoch 4  | loss: 2.06772 | test_accuracy: 0.50559 |  0:00:14s\n",
      "epoch 5  | loss: 2.09167 | test_accuracy: 0.51092 |  0:00:16s\n",
      "epoch 6  | loss: 2.06618 | test_accuracy: 0.49334 |  0:00:19s\n",
      "epoch 7  | loss: 2.05439 | test_accuracy: 0.49973 |  0:00:22s\n",
      "epoch 8  | loss: 2.03438 | test_accuracy: 0.49707 |  0:00:26s\n",
      "epoch 9  | loss: 2.00689 | test_accuracy: 0.50826 |  0:00:29s\n",
      "epoch 10 | loss: 1.9954  | test_accuracy: 0.50559 |  0:00:32s\n",
      "epoch 11 | loss: 2.0024  | test_accuracy: 0.50773 |  0:00:35s\n",
      "epoch 12 | loss: 2.03673 | test_accuracy: 0.50506 |  0:00:38s\n",
      "epoch 13 | loss: 1.99    | test_accuracy: 0.504   |  0:00:41s\n",
      "\n",
      "Early stopping occurred at epoch 13 with best_epoch = 3 and best_test_accuracy = 0.51945\n"
     ]
    },
    {
     "name": "stderr",
     "output_type": "stream",
     "text": [
      "/home/gonken/anaconda3/envs/torch/lib/python3.12/site-packages/pytorch_tabnet/callbacks.py:172: UserWarning: Best weights from best epoch are automatically used!\n",
      "  warnings.warn(wrn_msg)\n",
      "[I 2024-10-30 17:38:45,977] Trial 11 finished with value: 0.5194459243473628 and parameters: {'n_d': 41, 'n_a': 43, 'n_steps': 8, 'gamma': 1.4897100174901223, 'lambda_sparse': 0.06751040606726862, 'learning_rate': 1.2968754450460246e-06}. Best is trial 4 with value: 0.5359616409163559.\n",
      "/home/gonken/anaconda3/envs/torch/lib/python3.12/site-packages/pytorch_tabnet/abstract_model.py:82: UserWarning: Device used : cuda\n",
      "  warnings.warn(f\"Device used : {self.device}\")\n"
     ]
    },
    {
     "name": "stdout",
     "output_type": "stream",
     "text": [
      "epoch 0  | loss: 2.21789 | test_accuracy: 0.48322 |  0:00:03s\n",
      "epoch 1  | loss: 2.15554 | test_accuracy: 0.48162 |  0:00:06s\n",
      "epoch 2  | loss: 2.18619 | test_accuracy: 0.48801 |  0:00:10s\n",
      "epoch 3  | loss: 2.22488 | test_accuracy: 0.50346 |  0:00:13s\n",
      "epoch 4  | loss: 2.20755 | test_accuracy: 0.49867 |  0:00:17s\n",
      "epoch 5  | loss: 2.2262  | test_accuracy: 0.49227 |  0:00:20s\n",
      "epoch 6  | loss: 2.19437 | test_accuracy: 0.49281 |  0:00:24s\n",
      "epoch 7  | loss: 2.23936 | test_accuracy: 0.49174 |  0:00:27s\n",
      "epoch 8  | loss: 2.16385 | test_accuracy: 0.48961 |  0:00:31s\n",
      "epoch 9  | loss: 2.20644 | test_accuracy: 0.49121 |  0:00:34s\n",
      "epoch 10 | loss: 2.22083 | test_accuracy: 0.49494 |  0:00:38s\n",
      "epoch 11 | loss: 2.21542 | test_accuracy: 0.49867 |  0:00:41s\n",
      "epoch 12 | loss: 2.17983 | test_accuracy: 0.49334 |  0:00:45s\n",
      "epoch 13 | loss: 2.18877 | test_accuracy: 0.49014 |  0:00:48s\n",
      "\n",
      "Early stopping occurred at epoch 13 with best_epoch = 3 and best_test_accuracy = 0.50346\n"
     ]
    },
    {
     "name": "stderr",
     "output_type": "stream",
     "text": [
      "/home/gonken/anaconda3/envs/torch/lib/python3.12/site-packages/pytorch_tabnet/callbacks.py:172: UserWarning: Best weights from best epoch are automatically used!\n",
      "  warnings.warn(wrn_msg)\n",
      "[I 2024-10-30 17:39:36,670] Trial 12 finished with value: 0.5034629728289824 and parameters: {'n_d': 46, 'n_a': 15, 'n_steps': 10, 'gamma': 1.32242446182316, 'lambda_sparse': 0.06550735072244755, 'learning_rate': 1.1892942449495997e-07}. Best is trial 4 with value: 0.5359616409163559.\n",
      "/home/gonken/anaconda3/envs/torch/lib/python3.12/site-packages/pytorch_tabnet/abstract_model.py:82: UserWarning: Device used : cuda\n",
      "  warnings.warn(f\"Device used : {self.device}\")\n"
     ]
    },
    {
     "name": "stdout",
     "output_type": "stream",
     "text": [
      "epoch 0  | loss: 6.85966 | test_accuracy: 0.4992  |  0:00:02s\n",
      "epoch 1  | loss: 6.80653 | test_accuracy: 0.5008  |  0:00:05s\n",
      "epoch 2  | loss: 6.75097 | test_accuracy: 0.50027 |  0:00:09s\n",
      "epoch 3  | loss: 6.67846 | test_accuracy: 0.50027 |  0:00:12s\n",
      "epoch 4  | loss: 6.58434 | test_accuracy: 0.50027 |  0:00:14s\n",
      "epoch 5  | loss: 6.52736 | test_accuracy: 0.50027 |  0:00:17s\n",
      "epoch 6  | loss: 6.48811 | test_accuracy: 0.50027 |  0:00:20s\n",
      "epoch 7  | loss: 6.39655 | test_accuracy: 0.50027 |  0:00:23s\n",
      "epoch 8  | loss: 6.35864 | test_accuracy: 0.50027 |  0:00:26s\n",
      "epoch 9  | loss: 6.30702 | test_accuracy: 0.50027 |  0:00:29s\n",
      "epoch 10 | loss: 6.25147 | test_accuracy: 0.50027 |  0:00:32s\n",
      "epoch 11 | loss: 6.15098 | test_accuracy: 0.50027 |  0:00:35s\n",
      "\n",
      "Early stopping occurred at epoch 11 with best_epoch = 1 and best_test_accuracy = 0.5008\n"
     ]
    },
    {
     "name": "stderr",
     "output_type": "stream",
     "text": [
      "/home/gonken/anaconda3/envs/torch/lib/python3.12/site-packages/pytorch_tabnet/callbacks.py:172: UserWarning: Best weights from best epoch are automatically used!\n",
      "  warnings.warn(wrn_msg)\n",
      "[I 2024-10-30 17:40:13,972] Trial 13 finished with value: 0.500799147575919 and parameters: {'n_d': 33, 'n_a': 64, 'n_steps': 8, 'gamma': 1.6211953330486424, 'lambda_sparse': 0.09859045232343873, 'learning_rate': 7.989234269940594e-06}. Best is trial 4 with value: 0.5359616409163559.\n",
      "/home/gonken/anaconda3/envs/torch/lib/python3.12/site-packages/pytorch_tabnet/abstract_model.py:82: UserWarning: Device used : cuda\n",
      "  warnings.warn(f\"Device used : {self.device}\")\n"
     ]
    },
    {
     "name": "stdout",
     "output_type": "stream",
     "text": [
      "epoch 0  | loss: 0.858   | test_accuracy: 0.51092 |  0:00:01s\n",
      "epoch 1  | loss: 0.73039 | test_accuracy: 0.50773 |  0:00:03s\n",
      "epoch 2  | loss: 0.69872 | test_accuracy: 0.504   |  0:00:04s\n",
      "epoch 3  | loss: 0.68183 | test_accuracy: 0.504   |  0:00:06s\n",
      "epoch 4  | loss: 0.67836 | test_accuracy: 0.49494 |  0:00:08s\n",
      "epoch 5  | loss: 0.66932 | test_accuracy: 0.504   |  0:00:10s\n",
      "epoch 6  | loss: 0.66462 | test_accuracy: 0.50826 |  0:00:12s\n",
      "epoch 7  | loss: 0.66091 | test_accuracy: 0.49814 |  0:00:14s\n",
      "epoch 8  | loss: 0.65268 | test_accuracy: 0.50613 |  0:00:16s\n",
      "epoch 9  | loss: 0.65164 | test_accuracy: 0.49227 |  0:00:18s\n",
      "epoch 10 | loss: 0.64988 | test_accuracy: 0.50027 |  0:00:20s\n",
      "\n",
      "Early stopping occurred at epoch 10 with best_epoch = 0 and best_test_accuracy = 0.51092\n"
     ]
    },
    {
     "name": "stderr",
     "output_type": "stream",
     "text": [
      "/home/gonken/anaconda3/envs/torch/lib/python3.12/site-packages/pytorch_tabnet/callbacks.py:172: UserWarning: Best weights from best epoch are automatically used!\n",
      "  warnings.warn(wrn_msg)\n",
      "[I 2024-10-30 17:40:35,562] Trial 14 finished with value: 0.51092168353756 and parameters: {'n_d': 38, 'n_a': 38, 'n_steps': 4, 'gamma': 1.2683645503135752, 'lambda_sparse': 0.08378826733962758, 'learning_rate': 0.005432789223985802}. Best is trial 4 with value: 0.5359616409163559.\n",
      "/home/gonken/anaconda3/envs/torch/lib/python3.12/site-packages/pytorch_tabnet/abstract_model.py:82: UserWarning: Device used : cuda\n",
      "  warnings.warn(f\"Device used : {self.device}\")\n"
     ]
    },
    {
     "name": "stdout",
     "output_type": "stream",
     "text": [
      "epoch 0  | loss: 2.07398 | test_accuracy: 0.49867 |  0:00:02s\n",
      "epoch 1  | loss: 1.95651 | test_accuracy: 0.50826 |  0:00:05s\n",
      "epoch 2  | loss: 1.93588 | test_accuracy: 0.49547 |  0:00:07s\n",
      "epoch 3  | loss: 1.8186  | test_accuracy: 0.50932 |  0:00:10s\n",
      "epoch 4  | loss: 1.7557  | test_accuracy: 0.49494 |  0:00:13s\n",
      "epoch 5  | loss: 1.68555 | test_accuracy: 0.5024  |  0:00:15s\n",
      "epoch 6  | loss: 1.61869 | test_accuracy: 0.50293 |  0:00:18s\n",
      "epoch 7  | loss: 1.60143 | test_accuracy: 0.50559 |  0:00:20s\n",
      "epoch 8  | loss: 1.54747 | test_accuracy: 0.5024  |  0:00:23s\n",
      "epoch 9  | loss: 1.47815 | test_accuracy: 0.49814 |  0:00:26s\n",
      "epoch 10 | loss: 1.47531 | test_accuracy: 0.5024  |  0:00:29s\n",
      "epoch 11 | loss: 1.41331 | test_accuracy: 0.49867 |  0:00:32s\n",
      "epoch 12 | loss: 1.39976 | test_accuracy: 0.50613 |  0:00:35s\n",
      "epoch 13 | loss: 1.39113 | test_accuracy: 0.50719 |  0:00:37s\n",
      "\n",
      "Early stopping occurred at epoch 13 with best_epoch = 3 and best_test_accuracy = 0.50932\n"
     ]
    },
    {
     "name": "stderr",
     "output_type": "stream",
     "text": [
      "/home/gonken/anaconda3/envs/torch/lib/python3.12/site-packages/pytorch_tabnet/callbacks.py:172: UserWarning: Best weights from best epoch are automatically used!\n",
      "  warnings.warn(wrn_msg)\n",
      "[I 2024-10-30 17:41:14,393] Trial 15 finished with value: 0.5093233883857219 and parameters: {'n_d': 48, 'n_a': 16, 'n_steps': 7, 'gamma': 1.5962476880999865, 'lambda_sparse': 0.05553352068599836, 'learning_rate': 1.724447954919534e-05}. Best is trial 4 with value: 0.5359616409163559.\n",
      "/home/gonken/anaconda3/envs/torch/lib/python3.12/site-packages/pytorch_tabnet/abstract_model.py:82: UserWarning: Device used : cuda\n",
      "  warnings.warn(f\"Device used : {self.device}\")\n"
     ]
    },
    {
     "name": "stdout",
     "output_type": "stream",
     "text": [
      "epoch 0  | loss: 0.88619 | test_accuracy: 0.51945 |  0:00:01s\n",
      "epoch 1  | loss: 0.73658 | test_accuracy: 0.50293 |  0:00:04s\n",
      "epoch 2  | loss: 0.71391 | test_accuracy: 0.49654 |  0:00:06s\n",
      "epoch 3  | loss: 0.6943  | test_accuracy: 0.48322 |  0:00:08s\n",
      "epoch 4  | loss: 0.68406 | test_accuracy: 0.48535 |  0:00:10s\n",
      "epoch 5  | loss: 0.67428 | test_accuracy: 0.50293 |  0:00:13s\n",
      "epoch 6  | loss: 0.67309 | test_accuracy: 0.51092 |  0:00:15s\n",
      "epoch 7  | loss: 0.66796 | test_accuracy: 0.50932 |  0:00:17s\n",
      "epoch 8  | loss: 0.66207 | test_accuracy: 0.50133 |  0:00:19s\n",
      "epoch 9  | loss: 0.66489 | test_accuracy: 0.50133 |  0:00:22s\n",
      "epoch 10 | loss: 0.66112 | test_accuracy: 0.49814 |  0:00:24s\n",
      "\n",
      "Early stopping occurred at epoch 10 with best_epoch = 0 and best_test_accuracy = 0.51945\n"
     ]
    },
    {
     "name": "stderr",
     "output_type": "stream",
     "text": [
      "/home/gonken/anaconda3/envs/torch/lib/python3.12/site-packages/pytorch_tabnet/callbacks.py:172: UserWarning: Best weights from best epoch are automatically used!\n",
      "  warnings.warn(wrn_msg)\n",
      "[I 2024-10-30 17:41:39,604] Trial 16 finished with value: 0.5194459243473628 and parameters: {'n_d': 25, 'n_a': 19, 'n_steps': 5, 'gamma': 1.3894209660255636, 'lambda_sparse': 0.08210478768445086, 'learning_rate': 0.006757563021622507}. Best is trial 4 with value: 0.5359616409163559.\n",
      "/home/gonken/anaconda3/envs/torch/lib/python3.12/site-packages/pytorch_tabnet/abstract_model.py:82: UserWarning: Device used : cuda\n",
      "  warnings.warn(f\"Device used : {self.device}\")\n"
     ]
    },
    {
     "name": "stdout",
     "output_type": "stream",
     "text": [
      "epoch 0  | loss: 1.37785 | test_accuracy: 0.50133 |  0:00:02s\n",
      "epoch 1  | loss: 1.40329 | test_accuracy: 0.49654 |  0:00:05s\n",
      "epoch 2  | loss: 1.37516 | test_accuracy: 0.49494 |  0:00:07s\n",
      "epoch 3  | loss: 1.38665 | test_accuracy: 0.50506 |  0:00:11s\n",
      "epoch 4  | loss: 1.39775 | test_accuracy: 0.49441 |  0:00:14s\n",
      "epoch 5  | loss: 1.3752  | test_accuracy: 0.5024  |  0:00:17s\n",
      "epoch 6  | loss: 1.3817  | test_accuracy: 0.5024  |  0:00:20s\n",
      "epoch 7  | loss: 1.39636 | test_accuracy: 0.4992  |  0:00:23s\n",
      "epoch 8  | loss: 1.38091 | test_accuracy: 0.504   |  0:00:26s\n",
      "epoch 9  | loss: 1.37992 | test_accuracy: 0.50133 |  0:00:29s\n",
      "epoch 10 | loss: 1.37972 | test_accuracy: 0.504   |  0:00:32s\n",
      "epoch 11 | loss: 1.38097 | test_accuracy: 0.49387 |  0:00:34s\n",
      "epoch 12 | loss: 1.37304 | test_accuracy: 0.49707 |  0:00:37s\n",
      "epoch 13 | loss: 1.37807 | test_accuracy: 0.50186 |  0:00:40s\n",
      "\n",
      "Early stopping occurred at epoch 13 with best_epoch = 3 and best_test_accuracy = 0.50506\n"
     ]
    },
    {
     "name": "stderr",
     "output_type": "stream",
     "text": [
      "/home/gonken/anaconda3/envs/torch/lib/python3.12/site-packages/pytorch_tabnet/callbacks.py:172: UserWarning: Best weights from best epoch are automatically used!\n",
      "  warnings.warn(wrn_msg)\n",
      "[I 2024-10-30 17:42:21,706] Trial 17 finished with value: 0.5050612679808204 and parameters: {'n_d': 12, 'n_a': 34, 'n_steps': 8, 'gamma': 1.1910426649587318, 'lambda_sparse': 0.05780573644691392, 'learning_rate': 3.6250122600558017e-07}. Best is trial 4 with value: 0.5359616409163559.\n",
      "/home/gonken/anaconda3/envs/torch/lib/python3.12/site-packages/pytorch_tabnet/abstract_model.py:82: UserWarning: Device used : cuda\n",
      "  warnings.warn(f\"Device used : {self.device}\")\n"
     ]
    },
    {
     "name": "stdout",
     "output_type": "stream",
     "text": [
      "epoch 0  | loss: 1.52337 | test_accuracy: 0.50027 |  0:00:01s\n",
      "epoch 1  | loss: 1.42677 | test_accuracy: 0.49814 |  0:00:02s\n",
      "epoch 2  | loss: 1.32307 | test_accuracy: 0.496   |  0:00:04s\n",
      "epoch 3  | loss: 1.23185 | test_accuracy: 0.49014 |  0:00:06s\n",
      "epoch 4  | loss: 1.16317 | test_accuracy: 0.48908 |  0:00:08s\n",
      "epoch 5  | loss: 1.1072  | test_accuracy: 0.48908 |  0:00:09s\n",
      "epoch 6  | loss: 1.04037 | test_accuracy: 0.49387 |  0:00:11s\n",
      "epoch 7  | loss: 0.99258 | test_accuracy: 0.49227 |  0:00:13s\n",
      "epoch 8  | loss: 0.94102 | test_accuracy: 0.49281 |  0:00:15s\n",
      "epoch 9  | loss: 0.91255 | test_accuracy: 0.49387 |  0:00:16s\n",
      "epoch 10 | loss: 0.88152 | test_accuracy: 0.48482 |  0:00:18s\n",
      "\n",
      "Early stopping occurred at epoch 10 with best_epoch = 0 and best_test_accuracy = 0.50027\n"
     ]
    },
    {
     "name": "stderr",
     "output_type": "stream",
     "text": [
      "/home/gonken/anaconda3/envs/torch/lib/python3.12/site-packages/pytorch_tabnet/callbacks.py:172: UserWarning: Best weights from best epoch are automatically used!\n",
      "  warnings.warn(wrn_msg)\n",
      "[I 2024-10-30 17:42:40,780] Trial 18 finished with value: 0.5002663825253063 and parameters: {'n_d': 52, 'n_a': 49, 'n_steps': 3, 'gamma': 1.4004081477211565, 'lambda_sparse': 0.07403287010681729, 'learning_rate': 1.958651650776569e-05}. Best is trial 4 with value: 0.5359616409163559.\n",
      "/home/gonken/anaconda3/envs/torch/lib/python3.12/site-packages/pytorch_tabnet/abstract_model.py:82: UserWarning: Device used : cuda\n",
      "  warnings.warn(f\"Device used : {self.device}\")\n"
     ]
    },
    {
     "name": "stdout",
     "output_type": "stream",
     "text": [
      "epoch 0  | loss: 1.06965 | test_accuracy: 0.49387 |  0:00:02s\n",
      "epoch 1  | loss: 0.92762 | test_accuracy: 0.47842 |  0:00:05s\n",
      "epoch 2  | loss: 0.79303 | test_accuracy: 0.49973 |  0:00:08s\n",
      "epoch 3  | loss: 0.77653 | test_accuracy: 0.49867 |  0:00:11s\n",
      "epoch 4  | loss: 0.72948 | test_accuracy: 0.49654 |  0:00:14s\n",
      "epoch 5  | loss: 0.71797 | test_accuracy: 0.50666 |  0:00:16s\n",
      "epoch 6  | loss: 0.70862 | test_accuracy: 0.5008  |  0:00:19s\n",
      "epoch 7  | loss: 0.68809 | test_accuracy: 0.49387 |  0:00:22s\n",
      "epoch 8  | loss: 0.67465 | test_accuracy: 0.50559 |  0:00:25s\n",
      "epoch 9  | loss: 0.67006 | test_accuracy: 0.51678 |  0:00:28s\n",
      "epoch 10 | loss: 0.6756  | test_accuracy: 0.50346 |  0:00:30s\n",
      "epoch 11 | loss: 0.68114 | test_accuracy: 0.51731 |  0:00:33s\n",
      "epoch 12 | loss: 0.6679  | test_accuracy: 0.49387 |  0:00:36s\n",
      "epoch 13 | loss: 0.66727 | test_accuracy: 0.50986 |  0:00:38s\n",
      "epoch 14 | loss: 0.66949 | test_accuracy: 0.5008  |  0:00:41s\n",
      "epoch 15 | loss: 0.67378 | test_accuracy: 0.51359 |  0:00:44s\n",
      "epoch 16 | loss: 0.67287 | test_accuracy: 0.51252 |  0:00:47s\n",
      "epoch 17 | loss: 0.66487 | test_accuracy: 0.49334 |  0:00:49s\n",
      "epoch 18 | loss: 0.6593  | test_accuracy: 0.4976  |  0:00:52s\n",
      "epoch 19 | loss: 0.6549  | test_accuracy: 0.47789 |  0:00:55s\n",
      "epoch 20 | loss: 0.65504 | test_accuracy: 0.50186 |  0:00:57s\n",
      "epoch 21 | loss: 0.65836 | test_accuracy: 0.47682 |  0:01:00s\n",
      "\n",
      "Early stopping occurred at epoch 21 with best_epoch = 11 and best_test_accuracy = 0.51731\n"
     ]
    },
    {
     "name": "stderr",
     "output_type": "stream",
     "text": [
      "/home/gonken/anaconda3/envs/torch/lib/python3.12/site-packages/pytorch_tabnet/callbacks.py:172: UserWarning: Best weights from best epoch are automatically used!\n",
      "  warnings.warn(wrn_msg)\n",
      "[I 2024-10-30 17:43:42,225] Trial 19 finished with value: 0.5173148641449121 and parameters: {'n_d': 64, 'n_a': 8, 'n_steps': 7, 'gamma': 1.6027718681131748, 'lambda_sparse': 0.033309455381887745, 'learning_rate': 0.005199983445254986}. Best is trial 4 with value: 0.5359616409163559.\n",
      "/home/gonken/anaconda3/envs/torch/lib/python3.12/site-packages/pytorch_tabnet/abstract_model.py:82: UserWarning: Device used : cuda\n",
      "  warnings.warn(f\"Device used : {self.device}\")\n"
     ]
    },
    {
     "name": "stdout",
     "output_type": "stream",
     "text": [
      "epoch 0  | loss: 1.73757 | test_accuracy: 0.4976  |  0:00:01s\n",
      "epoch 1  | loss: 1.64166 | test_accuracy: 0.50027 |  0:00:03s\n",
      "epoch 2  | loss: 1.54011 | test_accuracy: 0.49281 |  0:00:05s\n",
      "epoch 3  | loss: 1.46234 | test_accuracy: 0.49174 |  0:00:07s\n",
      "epoch 4  | loss: 1.37907 | test_accuracy: 0.48801 |  0:00:09s\n",
      "epoch 5  | loss: 1.32028 | test_accuracy: 0.49547 |  0:00:10s\n",
      "epoch 6  | loss: 1.25987 | test_accuracy: 0.48961 |  0:00:12s\n",
      "epoch 7  | loss: 1.1952  | test_accuracy: 0.48908 |  0:00:14s\n",
      "epoch 8  | loss: 1.13642 | test_accuracy: 0.49014 |  0:00:16s\n",
      "epoch 9  | loss: 1.09771 | test_accuracy: 0.48695 |  0:00:18s\n",
      "epoch 10 | loss: 1.04444 | test_accuracy: 0.48535 |  0:00:19s\n",
      "epoch 11 | loss: 1.0143  | test_accuracy: 0.48855 |  0:00:21s\n",
      "\n",
      "Early stopping occurred at epoch 11 with best_epoch = 1 and best_test_accuracy = 0.50027\n"
     ]
    },
    {
     "name": "stderr",
     "output_type": "stream",
     "text": [
      "/home/gonken/anaconda3/envs/torch/lib/python3.12/site-packages/pytorch_tabnet/callbacks.py:172: UserWarning: Best weights from best epoch are automatically used!\n",
      "  warnings.warn(wrn_msg)\n",
      "[I 2024-10-30 17:44:04,784] Trial 20 finished with value: 0.5002663825253063 and parameters: {'n_d': 29, 'n_a': 16, 'n_steps': 4, 'gamma': 1.0580633959430004, 'lambda_sparse': 0.0907072513161676, 'learning_rate': 2.82039484198959e-05}. Best is trial 4 with value: 0.5359616409163559.\n",
      "/home/gonken/anaconda3/envs/torch/lib/python3.12/site-packages/pytorch_tabnet/abstract_model.py:82: UserWarning: Device used : cuda\n",
      "  warnings.warn(f\"Device used : {self.device}\")\n"
     ]
    },
    {
     "name": "stdout",
     "output_type": "stream",
     "text": [
      "epoch 0  | loss: 1.32271 | test_accuracy: 0.50293 |  0:00:02s\n",
      "epoch 1  | loss: 1.35128 | test_accuracy: 0.49867 |  0:00:03s\n",
      "epoch 2  | loss: 1.34344 | test_accuracy: 0.49707 |  0:00:06s\n",
      "epoch 3  | loss: 1.32117 | test_accuracy: 0.50559 |  0:00:08s\n",
      "epoch 4  | loss: 1.34188 | test_accuracy: 0.49654 |  0:00:10s\n",
      "epoch 5  | loss: 1.33629 | test_accuracy: 0.49654 |  0:00:12s\n",
      "epoch 6  | loss: 1.34882 | test_accuracy: 0.48961 |  0:00:14s\n",
      "epoch 7  | loss: 1.3399  | test_accuracy: 0.4976  |  0:00:16s\n",
      "epoch 8  | loss: 1.34665 | test_accuracy: 0.49014 |  0:00:18s\n",
      "epoch 9  | loss: 1.30845 | test_accuracy: 0.48748 |  0:00:21s\n",
      "epoch 10 | loss: 1.30972 | test_accuracy: 0.48535 |  0:00:22s\n",
      "epoch 11 | loss: 1.33631 | test_accuracy: 0.49014 |  0:00:24s\n",
      "epoch 12 | loss: 1.30906 | test_accuracy: 0.49068 |  0:00:26s\n",
      "epoch 13 | loss: 1.31937 | test_accuracy: 0.49334 |  0:00:29s\n",
      "\n",
      "Early stopping occurred at epoch 13 with best_epoch = 3 and best_test_accuracy = 0.50559\n"
     ]
    },
    {
     "name": "stderr",
     "output_type": "stream",
     "text": [
      "/home/gonken/anaconda3/envs/torch/lib/python3.12/site-packages/pytorch_tabnet/callbacks.py:172: UserWarning: Best weights from best epoch are automatically used!\n",
      "  warnings.warn(wrn_msg)\n",
      "[I 2024-10-30 17:44:34,802] Trial 21 finished with value: 0.5055940330314331 and parameters: {'n_d': 53, 'n_a': 22, 'n_steps': 5, 'gamma': 1.749677313574935, 'lambda_sparse': 0.006812519753134991, 'learning_rate': 1.0393436453981643e-06}. Best is trial 4 with value: 0.5359616409163559.\n",
      "/home/gonken/anaconda3/envs/torch/lib/python3.12/site-packages/pytorch_tabnet/abstract_model.py:82: UserWarning: Device used : cuda\n",
      "  warnings.warn(f\"Device used : {self.device}\")\n"
     ]
    },
    {
     "name": "stdout",
     "output_type": "stream",
     "text": [
      "epoch 0  | loss: 1.12046 | test_accuracy: 0.49707 |  0:00:02s\n",
      "epoch 1  | loss: 1.06778 | test_accuracy: 0.50027 |  0:00:04s\n",
      "epoch 2  | loss: 1.00772 | test_accuracy: 0.49867 |  0:00:06s\n",
      "epoch 3  | loss: 0.96153 | test_accuracy: 0.48801 |  0:00:08s\n",
      "epoch 4  | loss: 0.96037 | test_accuracy: 0.48961 |  0:00:10s\n",
      "epoch 5  | loss: 0.92112 | test_accuracy: 0.50186 |  0:00:12s\n",
      "epoch 6  | loss: 0.90003 | test_accuracy: 0.49973 |  0:00:15s\n",
      "epoch 7  | loss: 0.88841 | test_accuracy: 0.49814 |  0:00:17s\n",
      "epoch 8  | loss: 0.86183 | test_accuracy: 0.50613 |  0:00:19s\n",
      "epoch 9  | loss: 0.85832 | test_accuracy: 0.4992  |  0:00:22s\n",
      "epoch 10 | loss: 0.8343  | test_accuracy: 0.50613 |  0:00:24s\n",
      "epoch 11 | loss: 0.81809 | test_accuracy: 0.50506 |  0:00:26s\n",
      "epoch 12 | loss: 0.81181 | test_accuracy: 0.5024  |  0:00:28s\n",
      "epoch 13 | loss: 0.79615 | test_accuracy: 0.49387 |  0:00:31s\n",
      "epoch 14 | loss: 0.79363 | test_accuracy: 0.50027 |  0:00:33s\n",
      "epoch 15 | loss: 0.78379 | test_accuracy: 0.49973 |  0:00:35s\n",
      "epoch 16 | loss: 0.76872 | test_accuracy: 0.50186 |  0:00:37s\n",
      "epoch 17 | loss: 0.76106 | test_accuracy: 0.4992  |  0:00:39s\n",
      "epoch 18 | loss: 0.76136 | test_accuracy: 0.50133 |  0:00:41s\n",
      "\n",
      "Early stopping occurred at epoch 18 with best_epoch = 8 and best_test_accuracy = 0.50613\n"
     ]
    },
    {
     "name": "stderr",
     "output_type": "stream",
     "text": [
      "/home/gonken/anaconda3/envs/torch/lib/python3.12/site-packages/pytorch_tabnet/callbacks.py:172: UserWarning: Best weights from best epoch are automatically used!\n",
      "  warnings.warn(wrn_msg)\n",
      "[I 2024-10-30 17:45:17,712] Trial 22 finished with value: 0.5061267980820459 and parameters: {'n_d': 40, 'n_a': 31, 'n_steps': 5, 'gamma': 1.716927201830904, 'lambda_sparse': 0.014029922074292121, 'learning_rate': 5.153013618833888e-05}. Best is trial 4 with value: 0.5359616409163559.\n",
      "/home/gonken/anaconda3/envs/torch/lib/python3.12/site-packages/pytorch_tabnet/abstract_model.py:82: UserWarning: Device used : cuda\n",
      "  warnings.warn(f\"Device used : {self.device}\")\n"
     ]
    },
    {
     "name": "stdout",
     "output_type": "stream",
     "text": [
      "epoch 0  | loss: 1.71581 | test_accuracy: 0.49707 |  0:00:02s\n",
      "epoch 1  | loss: 0.8038  | test_accuracy: 0.49867 |  0:00:05s\n",
      "epoch 2  | loss: 0.7702  | test_accuracy: 0.51092 |  0:00:07s\n",
      "epoch 3  | loss: 0.76065 | test_accuracy: 0.49387 |  0:00:10s\n",
      "epoch 4  | loss: 0.75376 | test_accuracy: 0.4992  |  0:00:12s\n",
      "epoch 5  | loss: 0.7276  | test_accuracy: 0.51945 |  0:00:15s\n",
      "epoch 6  | loss: 0.71798 | test_accuracy: 0.496   |  0:00:17s\n",
      "epoch 7  | loss: 0.70222 | test_accuracy: 0.49867 |  0:00:20s\n",
      "epoch 8  | loss: 0.70091 | test_accuracy: 0.48748 |  0:00:22s\n",
      "epoch 9  | loss: 0.70708 | test_accuracy: 0.51572 |  0:00:24s\n",
      "epoch 10 | loss: 0.69688 | test_accuracy: 0.49121 |  0:00:27s\n",
      "epoch 11 | loss: 0.68925 | test_accuracy: 0.48855 |  0:00:29s\n",
      "epoch 12 | loss: 0.68915 | test_accuracy: 0.5024  |  0:00:32s\n",
      "epoch 13 | loss: 0.68492 | test_accuracy: 0.51092 |  0:00:34s\n",
      "epoch 14 | loss: 0.68456 | test_accuracy: 0.5008  |  0:00:37s\n",
      "epoch 15 | loss: 0.67984 | test_accuracy: 0.49387 |  0:00:39s\n",
      "\n",
      "Early stopping occurred at epoch 15 with best_epoch = 5 and best_test_accuracy = 0.51945\n"
     ]
    },
    {
     "name": "stderr",
     "output_type": "stream",
     "text": [
      "/home/gonken/anaconda3/envs/torch/lib/python3.12/site-packages/pytorch_tabnet/callbacks.py:172: UserWarning: Best weights from best epoch are automatically used!\n",
      "  warnings.warn(wrn_msg)\n",
      "[I 2024-10-30 17:45:58,571] Trial 23 finished with value: 0.5194459243473628 and parameters: {'n_d': 49, 'n_a': 20, 'n_steps': 6, 'gamma': 1.661206162026398, 'lambda_sparse': 0.037564272104145854, 'learning_rate': 0.0014113974400733556}. Best is trial 4 with value: 0.5359616409163559.\n",
      "/home/gonken/anaconda3/envs/torch/lib/python3.12/site-packages/pytorch_tabnet/abstract_model.py:82: UserWarning: Device used : cuda\n",
      "  warnings.warn(f\"Device used : {self.device}\")\n"
     ]
    },
    {
     "name": "stdout",
     "output_type": "stream",
     "text": [
      "epoch 0  | loss: 1.69021 | test_accuracy: 0.50559 |  0:00:02s\n",
      "epoch 1  | loss: 1.67728 | test_accuracy: 0.504   |  0:00:04s\n",
      "epoch 2  | loss: 1.66426 | test_accuracy: 0.49654 |  0:00:06s\n",
      "epoch 3  | loss: 1.65479 | test_accuracy: 0.49281 |  0:00:08s\n",
      "epoch 4  | loss: 1.62871 | test_accuracy: 0.48748 |  0:00:10s\n",
      "epoch 5  | loss: 1.62254 | test_accuracy: 0.48801 |  0:00:12s\n",
      "epoch 6  | loss: 1.61728 | test_accuracy: 0.49441 |  0:00:14s\n",
      "epoch 7  | loss: 1.59221 | test_accuracy: 0.48588 |  0:00:16s\n",
      "epoch 8  | loss: 1.58749 | test_accuracy: 0.48641 |  0:00:18s\n",
      "epoch 9  | loss: 1.5633  | test_accuracy: 0.48855 |  0:00:21s\n",
      "epoch 10 | loss: 1.54649 | test_accuracy: 0.48641 |  0:00:23s\n",
      "\n",
      "Early stopping occurred at epoch 10 with best_epoch = 0 and best_test_accuracy = 0.50559\n"
     ]
    },
    {
     "name": "stderr",
     "output_type": "stream",
     "text": [
      "/home/gonken/anaconda3/envs/torch/lib/python3.12/site-packages/pytorch_tabnet/callbacks.py:172: UserWarning: Best weights from best epoch are automatically used!\n",
      "  warnings.warn(wrn_msg)\n",
      "[I 2024-10-30 17:46:22,780] Trial 24 finished with value: 0.5055940330314331 and parameters: {'n_d': 43, 'n_a': 13, 'n_steps': 4, 'gamma': 1.9990497978052921, 'lambda_sparse': 0.016553350124155857, 'learning_rate': 3.7725875520155687e-06}. Best is trial 4 with value: 0.5359616409163559.\n",
      "/home/gonken/anaconda3/envs/torch/lib/python3.12/site-packages/pytorch_tabnet/abstract_model.py:82: UserWarning: Device used : cuda\n",
      "  warnings.warn(f\"Device used : {self.device}\")\n"
     ]
    },
    {
     "name": "stdout",
     "output_type": "stream",
     "text": [
      "epoch 0  | loss: 0.87705 | test_accuracy: 0.51039 |  0:00:02s\n",
      "epoch 1  | loss: 0.6993  | test_accuracy: 0.51945 |  0:00:04s\n",
      "epoch 2  | loss: 0.68107 | test_accuracy: 0.48641 |  0:00:06s\n",
      "epoch 3  | loss: 0.67726 | test_accuracy: 0.49334 |  0:00:08s\n",
      "epoch 4  | loss: 0.67414 | test_accuracy: 0.4976  |  0:00:11s\n",
      "epoch 5  | loss: 0.67192 | test_accuracy: 0.49494 |  0:00:13s\n",
      "epoch 6  | loss: 0.65883 | test_accuracy: 0.50293 |  0:00:15s\n",
      "epoch 7  | loss: 0.65696 | test_accuracy: 0.50186 |  0:00:17s\n",
      "epoch 8  | loss: 0.65218 | test_accuracy: 0.50826 |  0:00:20s\n",
      "epoch 9  | loss: 0.64476 | test_accuracy: 0.49441 |  0:00:22s\n",
      "epoch 10 | loss: 0.64171 | test_accuracy: 0.49707 |  0:00:24s\n",
      "epoch 11 | loss: 0.64936 | test_accuracy: 0.51678 |  0:00:27s\n",
      "\n",
      "Early stopping occurred at epoch 11 with best_epoch = 1 and best_test_accuracy = 0.51945\n"
     ]
    },
    {
     "name": "stderr",
     "output_type": "stream",
     "text": [
      "/home/gonken/anaconda3/envs/torch/lib/python3.12/site-packages/pytorch_tabnet/callbacks.py:172: UserWarning: Best weights from best epoch are automatically used!\n",
      "  warnings.warn(wrn_msg)\n",
      "[I 2024-10-30 17:46:50,829] Trial 25 finished with value: 0.5194459243473628 and parameters: {'n_d': 57, 'n_a': 28, 'n_steps': 5, 'gamma': 1.5375132063608252, 'lambda_sparse': 0.06226028369191422, 'learning_rate': 0.021393738705862534}. Best is trial 4 with value: 0.5359616409163559.\n",
      "/home/gonken/anaconda3/envs/torch/lib/python3.12/site-packages/pytorch_tabnet/abstract_model.py:82: UserWarning: Device used : cuda\n",
      "  warnings.warn(f\"Device used : {self.device}\")\n"
     ]
    },
    {
     "name": "stdout",
     "output_type": "stream",
     "text": [
      "epoch 0  | loss: 0.93105 | test_accuracy: 0.49014 |  0:00:02s\n",
      "epoch 1  | loss: 0.76548 | test_accuracy: 0.49973 |  0:00:05s\n",
      "epoch 2  | loss: 0.74752 | test_accuracy: 0.49654 |  0:00:08s\n",
      "epoch 3  | loss: 0.72996 | test_accuracy: 0.50613 |  0:00:11s\n",
      "epoch 4  | loss: 0.72781 | test_accuracy: 0.48588 |  0:00:14s\n",
      "epoch 5  | loss: 0.72417 | test_accuracy: 0.49121 |  0:00:17s\n",
      "epoch 6  | loss: 0.70427 | test_accuracy: 0.5008  |  0:00:19s\n",
      "epoch 7  | loss: 0.70379 | test_accuracy: 0.50559 |  0:00:22s\n",
      "epoch 8  | loss: 0.69761 | test_accuracy: 0.4976  |  0:00:25s\n",
      "epoch 9  | loss: 0.69049 | test_accuracy: 0.49281 |  0:00:28s\n",
      "epoch 10 | loss: 0.68861 | test_accuracy: 0.49387 |  0:00:30s\n",
      "epoch 11 | loss: 0.68945 | test_accuracy: 0.48482 |  0:00:33s\n",
      "epoch 12 | loss: 0.69265 | test_accuracy: 0.48588 |  0:00:36s\n",
      "epoch 13 | loss: 0.68981 | test_accuracy: 0.5024  |  0:00:38s\n",
      "\n",
      "Early stopping occurred at epoch 13 with best_epoch = 3 and best_test_accuracy = 0.50613\n"
     ]
    },
    {
     "name": "stderr",
     "output_type": "stream",
     "text": [
      "/home/gonken/anaconda3/envs/torch/lib/python3.12/site-packages/pytorch_tabnet/callbacks.py:172: UserWarning: Best weights from best epoch are automatically used!\n",
      "  warnings.warn(wrn_msg)\n",
      "[I 2024-10-30 17:47:30,828] Trial 26 finished with value: 0.5061267980820459 and parameters: {'n_d': 36, 'n_a': 39, 'n_steps': 7, 'gamma': 1.8141629126643841, 'lambda_sparse': 0.07542706922875059, 'learning_rate': 0.0012062879790700812}. Best is trial 4 with value: 0.5359616409163559.\n",
      "/home/gonken/anaconda3/envs/torch/lib/python3.12/site-packages/pytorch_tabnet/abstract_model.py:82: UserWarning: Device used : cuda\n",
      "  warnings.warn(f\"Device used : {self.device}\")\n"
     ]
    },
    {
     "name": "stdout",
     "output_type": "stream",
     "text": [
      "epoch 0  | loss: 1.45865 | test_accuracy: 0.50506 |  0:00:03s\n",
      "epoch 1  | loss: 1.31122 | test_accuracy: 0.49441 |  0:00:06s\n",
      "epoch 2  | loss: 1.22503 | test_accuracy: 0.50613 |  0:00:09s\n",
      "epoch 3  | loss: 1.1603  | test_accuracy: 0.51199 |  0:00:13s\n",
      "epoch 4  | loss: 1.0651  | test_accuracy: 0.50133 |  0:00:16s\n",
      "epoch 5  | loss: 1.03359 | test_accuracy: 0.50666 |  0:00:19s\n",
      "epoch 6  | loss: 0.98136 | test_accuracy: 0.50027 |  0:00:22s\n",
      "epoch 7  | loss: 0.92858 | test_accuracy: 0.50666 |  0:00:25s\n",
      "epoch 8  | loss: 0.9012  | test_accuracy: 0.50453 |  0:00:29s\n",
      "epoch 9  | loss: 0.88324 | test_accuracy: 0.50826 |  0:00:32s\n",
      "epoch 10 | loss: 0.86862 | test_accuracy: 0.49547 |  0:00:35s\n",
      "epoch 11 | loss: 0.85092 | test_accuracy: 0.51785 |  0:00:39s\n",
      "epoch 12 | loss: 0.84266 | test_accuracy: 0.51518 |  0:00:42s\n",
      "epoch 13 | loss: 0.8503  | test_accuracy: 0.50506 |  0:00:45s\n",
      "epoch 14 | loss: 0.84075 | test_accuracy: 0.50453 |  0:00:48s\n",
      "epoch 15 | loss: 0.81837 | test_accuracy: 0.51092 |  0:00:51s\n",
      "epoch 16 | loss: 0.81491 | test_accuracy: 0.51039 |  0:00:55s\n",
      "epoch 17 | loss: 0.80228 | test_accuracy: 0.50559 |  0:00:58s\n",
      "epoch 18 | loss: 0.79849 | test_accuracy: 0.51412 |  0:01:01s\n",
      "epoch 19 | loss: 0.80737 | test_accuracy: 0.49174 |  0:01:04s\n",
      "epoch 20 | loss: 0.80367 | test_accuracy: 0.48748 |  0:01:07s\n",
      "epoch 21 | loss: 0.79226 | test_accuracy: 0.49973 |  0:01:10s\n",
      "\n",
      "Early stopping occurred at epoch 21 with best_epoch = 11 and best_test_accuracy = 0.51785\n"
     ]
    },
    {
     "name": "stderr",
     "output_type": "stream",
     "text": [
      "/home/gonken/anaconda3/envs/torch/lib/python3.12/site-packages/pytorch_tabnet/callbacks.py:172: UserWarning: Best weights from best epoch are automatically used!\n",
      "  warnings.warn(wrn_msg)\n",
      "[I 2024-10-30 17:48:43,098] Trial 27 finished with value: 0.5178476291955247 and parameters: {'n_d': 63, 'n_a': 20, 'n_steps': 9, 'gamma': 1.4155650527632733, 'lambda_sparse': 0.04485724575122801, 'learning_rate': 0.00010226736921241761}. Best is trial 4 with value: 0.5359616409163559.\n",
      "/home/gonken/anaconda3/envs/torch/lib/python3.12/site-packages/pytorch_tabnet/abstract_model.py:82: UserWarning: Device used : cuda\n",
      "  warnings.warn(f\"Device used : {self.device}\")\n"
     ]
    },
    {
     "name": "stdout",
     "output_type": "stream",
     "text": [
      "epoch 0  | loss: 4.90183 | test_accuracy: 0.49973 |  0:00:02s\n",
      "epoch 1  | loss: 4.9342  | test_accuracy: 0.49973 |  0:00:04s\n",
      "epoch 2  | loss: 4.8756  | test_accuracy: 0.49973 |  0:00:07s\n",
      "epoch 3  | loss: 4.84233 | test_accuracy: 0.49973 |  0:00:09s\n",
      "epoch 4  | loss: 4.78977 | test_accuracy: 0.49973 |  0:00:11s\n",
      "epoch 5  | loss: 4.79207 | test_accuracy: 0.49973 |  0:00:14s\n",
      "epoch 6  | loss: 4.74989 | test_accuracy: 0.49973 |  0:00:16s\n",
      "epoch 7  | loss: 4.71119 | test_accuracy: 0.49973 |  0:00:19s\n",
      "epoch 8  | loss: 4.67568 | test_accuracy: 0.49973 |  0:00:21s\n",
      "epoch 9  | loss: 4.68373 | test_accuracy: 0.49973 |  0:00:24s\n",
      "epoch 10 | loss: 4.63887 | test_accuracy: 0.49973 |  0:00:26s\n",
      "\n",
      "Early stopping occurred at epoch 10 with best_epoch = 0 and best_test_accuracy = 0.49973\n"
     ]
    },
    {
     "name": "stderr",
     "output_type": "stream",
     "text": [
      "/home/gonken/anaconda3/envs/torch/lib/python3.12/site-packages/pytorch_tabnet/callbacks.py:172: UserWarning: Best weights from best epoch are automatically used!\n",
      "  warnings.warn(wrn_msg)\n",
      "[I 2024-10-30 17:49:11,209] Trial 28 finished with value: 0.49973361747469364 and parameters: {'n_d': 50, 'n_a': 24, 'n_steps': 6, 'gamma': 1.7058736260720457, 'lambda_sparse': 0.09010417603626768, 'learning_rate': 4.847079746471959e-06}. Best is trial 4 with value: 0.5359616409163559.\n",
      "/home/gonken/anaconda3/envs/torch/lib/python3.12/site-packages/pytorch_tabnet/abstract_model.py:82: UserWarning: Device used : cuda\n",
      "  warnings.warn(f\"Device used : {self.device}\")\n"
     ]
    },
    {
     "name": "stdout",
     "output_type": "stream",
     "text": [
      "epoch 0  | loss: 1.94701 | test_accuracy: 0.51359 |  0:00:03s\n",
      "epoch 1  | loss: 1.90446 | test_accuracy: 0.50879 |  0:00:06s\n",
      "epoch 2  | loss: 1.91979 | test_accuracy: 0.49867 |  0:00:09s\n",
      "epoch 3  | loss: 1.91252 | test_accuracy: 0.49441 |  0:00:13s\n",
      "epoch 4  | loss: 1.91824 | test_accuracy: 0.496   |  0:00:16s\n",
      "epoch 5  | loss: 1.97248 | test_accuracy: 0.50027 |  0:00:19s\n",
      "epoch 6  | loss: 1.94456 | test_accuracy: 0.49174 |  0:00:23s\n",
      "epoch 7  | loss: 1.91316 | test_accuracy: 0.48482 |  0:00:26s\n",
      "epoch 8  | loss: 1.93055 | test_accuracy: 0.49654 |  0:00:29s\n",
      "epoch 9  | loss: 1.89641 | test_accuracy: 0.48588 |  0:00:32s\n",
      "epoch 10 | loss: 1.91913 | test_accuracy: 0.49014 |  0:00:35s\n",
      "\n",
      "Early stopping occurred at epoch 10 with best_epoch = 0 and best_test_accuracy = 0.51359\n"
     ]
    },
    {
     "name": "stderr",
     "output_type": "stream",
     "text": [
      "/home/gonken/anaconda3/envs/torch/lib/python3.12/site-packages/pytorch_tabnet/callbacks.py:172: UserWarning: Best weights from best epoch are automatically used!\n",
      "  warnings.warn(wrn_msg)\n",
      "[I 2024-10-30 17:49:48,724] Trial 29 finished with value: 0.5135855087906234 and parameters: {'n_d': 56, 'n_a': 12, 'n_steps': 9, 'gamma': 1.888694728815807, 'lambda_sparse': 0.022700315663756535, 'learning_rate': 9.119879688639834e-07}. Best is trial 4 with value: 0.5359616409163559.\n",
      "/home/gonken/anaconda3/envs/torch/lib/python3.12/site-packages/pytorch_tabnet/abstract_model.py:82: UserWarning: Device used : cuda\n",
      "  warnings.warn(f\"Device used : {self.device}\")\n"
     ]
    },
    {
     "name": "stdout",
     "output_type": "stream",
     "text": [
      "epoch 0  | loss: 0.73062 | test_accuracy: 0.50293 |  0:00:01s\n",
      "epoch 1  | loss: 0.68002 | test_accuracy: 0.49068 |  0:00:03s\n",
      "epoch 2  | loss: 0.66648 | test_accuracy: 0.49387 |  0:00:04s\n",
      "epoch 3  | loss: 0.66204 | test_accuracy: 0.4992  |  0:00:06s\n",
      "epoch 4  | loss: 0.65803 | test_accuracy: 0.49973 |  0:00:08s\n",
      "epoch 5  | loss: 0.65618 | test_accuracy: 0.49547 |  0:00:10s\n",
      "epoch 6  | loss: 0.65279 | test_accuracy: 0.51412 |  0:00:11s\n",
      "epoch 7  | loss: 0.646   | test_accuracy: 0.51625 |  0:00:13s\n",
      "epoch 8  | loss: 0.64128 | test_accuracy: 0.50826 |  0:00:15s\n",
      "epoch 9  | loss: 0.64154 | test_accuracy: 0.50293 |  0:00:17s\n",
      "epoch 10 | loss: 0.63961 | test_accuracy: 0.50506 |  0:00:19s\n",
      "epoch 11 | loss: 0.6375  | test_accuracy: 0.49334 |  0:00:21s\n",
      "epoch 12 | loss: 0.63665 | test_accuracy: 0.50346 |  0:00:22s\n",
      "epoch 13 | loss: 0.6359  | test_accuracy: 0.49707 |  0:00:24s\n",
      "epoch 14 | loss: 0.63177 | test_accuracy: 0.50186 |  0:00:26s\n",
      "epoch 15 | loss: 0.62884 | test_accuracy: 0.49814 |  0:00:27s\n",
      "epoch 16 | loss: 0.63006 | test_accuracy: 0.49387 |  0:00:29s\n",
      "epoch 17 | loss: 0.62901 | test_accuracy: 0.49281 |  0:00:31s\n",
      "\n",
      "Early stopping occurred at epoch 17 with best_epoch = 7 and best_test_accuracy = 0.51625\n"
     ]
    },
    {
     "name": "stderr",
     "output_type": "stream",
     "text": [
      "/home/gonken/anaconda3/envs/torch/lib/python3.12/site-packages/pytorch_tabnet/callbacks.py:172: UserWarning: Best weights from best epoch are automatically used!\n",
      "  warnings.warn(wrn_msg)\n",
      "[I 2024-10-30 17:50:20,741] Trial 30 finished with value: 0.5162493340436868 and parameters: {'n_d': 14, 'n_a': 17, 'n_steps': 3, 'gamma': 1.5424339490924548, 'lambda_sparse': 0.05336155691955777, 'learning_rate': 0.01581133997182787}. Best is trial 4 with value: 0.5359616409163559.\n",
      "/home/gonken/anaconda3/envs/torch/lib/python3.12/site-packages/pytorch_tabnet/abstract_model.py:82: UserWarning: Device used : cuda\n",
      "  warnings.warn(f\"Device used : {self.device}\")\n"
     ]
    },
    {
     "name": "stdout",
     "output_type": "stream",
     "text": [
      "epoch 0  | loss: 0.90637 | test_accuracy: 0.50453 |  0:00:01s\n",
      "epoch 1  | loss: 0.90393 | test_accuracy: 0.50932 |  0:00:03s\n",
      "epoch 2  | loss: 0.89977 | test_accuracy: 0.49068 |  0:00:06s\n",
      "epoch 3  | loss: 0.90506 | test_accuracy: 0.51092 |  0:00:08s\n",
      "epoch 4  | loss: 0.9095  | test_accuracy: 0.50346 |  0:00:10s\n",
      "epoch 5  | loss: 0.90145 | test_accuracy: 0.50506 |  0:00:12s\n",
      "epoch 6  | loss: 0.91171 | test_accuracy: 0.504   |  0:00:14s\n",
      "epoch 7  | loss: 0.91069 | test_accuracy: 0.49867 |  0:00:16s\n",
      "epoch 8  | loss: 0.89102 | test_accuracy: 0.49494 |  0:00:18s\n",
      "epoch 9  | loss: 0.88604 | test_accuracy: 0.49334 |  0:00:20s\n",
      "epoch 10 | loss: 0.88541 | test_accuracy: 0.50186 |  0:00:22s\n",
      "epoch 11 | loss: 0.90233 | test_accuracy: 0.4976  |  0:00:24s\n",
      "epoch 12 | loss: 0.88279 | test_accuracy: 0.49973 |  0:00:26s\n",
      "epoch 13 | loss: 0.893   | test_accuracy: 0.504   |  0:00:28s\n",
      "\n",
      "Early stopping occurred at epoch 13 with best_epoch = 3 and best_test_accuracy = 0.51092\n"
     ]
    },
    {
     "name": "stderr",
     "output_type": "stream",
     "text": [
      "/home/gonken/anaconda3/envs/torch/lib/python3.12/site-packages/pytorch_tabnet/callbacks.py:172: UserWarning: Best weights from best epoch are automatically used!\n",
      "  warnings.warn(wrn_msg)\n",
      "[I 2024-10-30 17:50:50,386] Trial 31 finished with value: 0.51092168353756 and parameters: {'n_d': 20, 'n_a': 33, 'n_steps': 4, 'gamma': 1.9027188019222439, 'lambda_sparse': 0.025336617316241237, 'learning_rate': 3.5828437707838045e-06}. Best is trial 4 with value: 0.5359616409163559.\n",
      "/home/gonken/anaconda3/envs/torch/lib/python3.12/site-packages/pytorch_tabnet/abstract_model.py:82: UserWarning: Device used : cuda\n",
      "  warnings.warn(f\"Device used : {self.device}\")\n"
     ]
    },
    {
     "name": "stdout",
     "output_type": "stream",
     "text": [
      "epoch 0  | loss: 1.07593 | test_accuracy: 0.50719 |  0:00:01s\n",
      "epoch 1  | loss: 1.06495 | test_accuracy: 0.49867 |  0:00:03s\n",
      "epoch 2  | loss: 1.067   | test_accuracy: 0.49867 |  0:00:06s\n",
      "epoch 3  | loss: 1.07892 | test_accuracy: 0.49387 |  0:00:08s\n",
      "epoch 4  | loss: 1.04447 | test_accuracy: 0.49973 |  0:00:10s\n",
      "epoch 5  | loss: 1.05059 | test_accuracy: 0.49494 |  0:00:12s\n",
      "epoch 6  | loss: 1.05393 | test_accuracy: 0.48641 |  0:00:14s\n",
      "epoch 7  | loss: 1.02043 | test_accuracy: 0.49174 |  0:00:16s\n",
      "epoch 8  | loss: 1.04056 | test_accuracy: 0.48695 |  0:00:18s\n",
      "epoch 9  | loss: 1.03641 | test_accuracy: 0.48588 |  0:00:20s\n",
      "epoch 10 | loss: 1.00579 | test_accuracy: 0.49068 |  0:00:22s\n",
      "\n",
      "Early stopping occurred at epoch 10 with best_epoch = 0 and best_test_accuracy = 0.50719\n"
     ]
    },
    {
     "name": "stderr",
     "output_type": "stream",
     "text": [
      "/home/gonken/anaconda3/envs/torch/lib/python3.12/site-packages/pytorch_tabnet/callbacks.py:172: UserWarning: Best weights from best epoch are automatically used!\n",
      "  warnings.warn(wrn_msg)\n",
      "[I 2024-10-30 17:51:13,682] Trial 32 finished with value: 0.5071923281832712 and parameters: {'n_d': 18, 'n_a': 30, 'n_steps': 4, 'gamma': 1.9852350003521213, 'lambda_sparse': 0.011258801122981488, 'learning_rate': 9.90208782075863e-06}. Best is trial 4 with value: 0.5359616409163559.\n",
      "/home/gonken/anaconda3/envs/torch/lib/python3.12/site-packages/pytorch_tabnet/abstract_model.py:82: UserWarning: Device used : cuda\n",
      "  warnings.warn(f\"Device used : {self.device}\")\n"
     ]
    },
    {
     "name": "stdout",
     "output_type": "stream",
     "text": [
      "epoch 0  | loss: 1.16792 | test_accuracy: 0.504   |  0:00:01s\n",
      "epoch 1  | loss: 1.12703 | test_accuracy: 0.50453 |  0:00:04s\n",
      "epoch 2  | loss: 1.09762 | test_accuracy: 0.50613 |  0:00:05s\n",
      "epoch 3  | loss: 1.06168 | test_accuracy: 0.51039 |  0:00:08s\n",
      "epoch 4  | loss: 1.01936 | test_accuracy: 0.50613 |  0:00:10s\n",
      "epoch 5  | loss: 1.00689 | test_accuracy: 0.49654 |  0:00:12s\n",
      "epoch 6  | loss: 0.98107 | test_accuracy: 0.49547 |  0:00:14s\n",
      "epoch 7  | loss: 0.96287 | test_accuracy: 0.49867 |  0:00:16s\n",
      "epoch 8  | loss: 0.92849 | test_accuracy: 0.49814 |  0:00:18s\n",
      "epoch 9  | loss: 0.91367 | test_accuracy: 0.49494 |  0:00:20s\n",
      "epoch 10 | loss: 0.90262 | test_accuracy: 0.5024  |  0:00:23s\n",
      "epoch 11 | loss: 0.88148 | test_accuracy: 0.49867 |  0:00:25s\n",
      "epoch 12 | loss: 0.86101 | test_accuracy: 0.49441 |  0:00:27s\n",
      "epoch 13 | loss: 0.85417 | test_accuracy: 0.49441 |  0:00:29s\n",
      "\n",
      "Early stopping occurred at epoch 13 with best_epoch = 3 and best_test_accuracy = 0.51039\n"
     ]
    },
    {
     "name": "stderr",
     "output_type": "stream",
     "text": [
      "/home/gonken/anaconda3/envs/torch/lib/python3.12/site-packages/pytorch_tabnet/callbacks.py:172: UserWarning: Best weights from best epoch are automatically used!\n",
      "  warnings.warn(wrn_msg)\n",
      "[I 2024-10-30 17:51:43,958] Trial 33 finished with value: 0.5103889184869472 and parameters: {'n_d': 25, 'n_a': 24, 'n_steps': 5, 'gamma': 1.815231983707001, 'lambda_sparse': 0.04081446670501747, 'learning_rate': 5.290860405145134e-05}. Best is trial 4 with value: 0.5359616409163559.\n",
      "/home/gonken/anaconda3/envs/torch/lib/python3.12/site-packages/pytorch_tabnet/abstract_model.py:82: UserWarning: Device used : cuda\n",
      "  warnings.warn(f\"Device used : {self.device}\")\n"
     ]
    },
    {
     "name": "stdout",
     "output_type": "stream",
     "text": [
      "epoch 0  | loss: 1.34481 | test_accuracy: 0.48855 |  0:00:02s\n",
      "epoch 1  | loss: 1.38643 | test_accuracy: 0.496   |  0:00:04s\n",
      "epoch 2  | loss: 1.3736  | test_accuracy: 0.49387 |  0:00:06s\n",
      "epoch 3  | loss: 1.37024 | test_accuracy: 0.50186 |  0:00:09s\n",
      "epoch 4  | loss: 1.35082 | test_accuracy: 0.49814 |  0:00:11s\n",
      "epoch 5  | loss: 1.38677 | test_accuracy: 0.50293 |  0:00:14s\n",
      "epoch 6  | loss: 1.40271 | test_accuracy: 0.50133 |  0:00:16s\n",
      "epoch 7  | loss: 1.39709 | test_accuracy: 0.50293 |  0:00:19s\n",
      "epoch 8  | loss: 1.36625 | test_accuracy: 0.49494 |  0:00:21s\n",
      "epoch 9  | loss: 1.36911 | test_accuracy: 0.49867 |  0:00:24s\n",
      "epoch 10 | loss: 1.37884 | test_accuracy: 0.49707 |  0:00:26s\n",
      "epoch 11 | loss: 1.37041 | test_accuracy: 0.50133 |  0:00:29s\n",
      "epoch 12 | loss: 1.3919  | test_accuracy: 0.49707 |  0:00:31s\n",
      "epoch 13 | loss: 1.37563 | test_accuracy: 0.49387 |  0:00:33s\n",
      "epoch 14 | loss: 1.38627 | test_accuracy: 0.50027 |  0:00:36s\n",
      "epoch 15 | loss: 1.3914  | test_accuracy: 0.50133 |  0:00:38s\n",
      "\n",
      "Early stopping occurred at epoch 15 with best_epoch = 5 and best_test_accuracy = 0.50293\n"
     ]
    },
    {
     "name": "stderr",
     "output_type": "stream",
     "text": [
      "/home/gonken/anaconda3/envs/torch/lib/python3.12/site-packages/pytorch_tabnet/callbacks.py:172: UserWarning: Best weights from best epoch are automatically used!\n",
      "  warnings.warn(wrn_msg)\n",
      "[I 2024-10-30 17:52:23,880] Trial 34 finished with value: 0.5029302077783697 and parameters: {'n_d': 34, 'n_a': 10, 'n_steps': 6, 'gamma': 1.9325557528118014, 'lambda_sparse': 4.651910769637446e-05, 'learning_rate': 3.4036944736642976e-07}. Best is trial 4 with value: 0.5359616409163559.\n",
      "/home/gonken/anaconda3/envs/torch/lib/python3.12/site-packages/pytorch_tabnet/abstract_model.py:82: UserWarning: Device used : cuda\n",
      "  warnings.warn(f\"Device used : {self.device}\")\n"
     ]
    },
    {
     "name": "stdout",
     "output_type": "stream",
     "text": [
      "epoch 0  | loss: 1.17548 | test_accuracy: 0.49014 |  0:00:01s\n",
      "epoch 1  | loss: 1.17338 | test_accuracy: 0.48428 |  0:00:03s\n",
      "epoch 2  | loss: 1.16531 | test_accuracy: 0.47736 |  0:00:05s\n",
      "epoch 3  | loss: 1.16092 | test_accuracy: 0.47469 |  0:00:07s\n",
      "epoch 4  | loss: 1.14388 | test_accuracy: 0.47469 |  0:00:09s\n",
      "epoch 5  | loss: 1.14799 | test_accuracy: 0.48002 |  0:00:11s\n",
      "epoch 6  | loss: 1.15199 | test_accuracy: 0.48908 |  0:00:13s\n",
      "epoch 7  | loss: 1.13839 | test_accuracy: 0.48801 |  0:00:14s\n",
      "epoch 8  | loss: 1.12147 | test_accuracy: 0.49068 |  0:00:16s\n",
      "epoch 9  | loss: 1.12429 | test_accuracy: 0.49068 |  0:00:18s\n",
      "epoch 10 | loss: 1.13717 | test_accuracy: 0.48961 |  0:00:20s\n",
      "epoch 11 | loss: 1.12843 | test_accuracy: 0.48961 |  0:00:22s\n",
      "epoch 12 | loss: 1.12439 | test_accuracy: 0.48535 |  0:00:24s\n",
      "epoch 13 | loss: 1.12079 | test_accuracy: 0.49174 |  0:00:26s\n",
      "epoch 14 | loss: 1.11593 | test_accuracy: 0.49014 |  0:00:28s\n",
      "epoch 15 | loss: 1.11634 | test_accuracy: 0.48855 |  0:00:30s\n",
      "epoch 16 | loss: 1.11133 | test_accuracy: 0.49707 |  0:00:32s\n",
      "epoch 17 | loss: 1.10363 | test_accuracy: 0.49068 |  0:00:34s\n",
      "epoch 18 | loss: 1.09613 | test_accuracy: 0.49121 |  0:00:36s\n",
      "epoch 19 | loss: 1.09449 | test_accuracy: 0.49387 |  0:00:38s\n",
      "epoch 20 | loss: 1.0935  | test_accuracy: 0.49227 |  0:00:40s\n",
      "epoch 21 | loss: 1.09223 | test_accuracy: 0.49441 |  0:00:42s\n",
      "epoch 22 | loss: 1.0919  | test_accuracy: 0.49654 |  0:00:44s\n",
      "epoch 23 | loss: 1.08859 | test_accuracy: 0.49121 |  0:00:46s\n",
      "epoch 24 | loss: 1.0821  | test_accuracy: 0.49068 |  0:00:48s\n",
      "epoch 25 | loss: 1.08193 | test_accuracy: 0.49814 |  0:00:50s\n",
      "epoch 26 | loss: 1.08286 | test_accuracy: 0.49281 |  0:00:52s\n",
      "epoch 27 | loss: 1.07337 | test_accuracy: 0.49121 |  0:00:54s\n",
      "epoch 28 | loss: 1.06445 | test_accuracy: 0.49334 |  0:00:56s\n",
      "epoch 29 | loss: 1.06343 | test_accuracy: 0.49654 |  0:00:58s\n",
      "epoch 30 | loss: 1.06688 | test_accuracy: 0.49334 |  0:01:00s\n",
      "epoch 31 | loss: 1.05684 | test_accuracy: 0.48908 |  0:01:02s\n",
      "epoch 32 | loss: 1.04576 | test_accuracy: 0.49441 |  0:01:04s\n",
      "epoch 33 | loss: 1.05996 | test_accuracy: 0.49441 |  0:01:06s\n",
      "epoch 34 | loss: 1.04604 | test_accuracy: 0.49281 |  0:01:08s\n",
      "epoch 35 | loss: 1.04934 | test_accuracy: 0.49494 |  0:01:10s\n",
      "\n",
      "Early stopping occurred at epoch 35 with best_epoch = 25 and best_test_accuracy = 0.49814\n"
     ]
    },
    {
     "name": "stderr",
     "output_type": "stream",
     "text": [
      "/home/gonken/anaconda3/envs/torch/lib/python3.12/site-packages/pytorch_tabnet/callbacks.py:172: UserWarning: Best weights from best epoch are automatically used!\n",
      "  warnings.warn(wrn_msg)\n",
      "[I 2024-10-30 17:53:35,250] Trial 35 finished with value: 0.4981353223228556 and parameters: {'n_d': 28, 'n_a': 28, 'n_steps': 4, 'gamma': 1.8328823435025519, 'lambda_sparse': 0.02123327117816232, 'learning_rate': 2.044138487389396e-06}. Best is trial 4 with value: 0.5359616409163559.\n",
      "/home/gonken/anaconda3/envs/torch/lib/python3.12/site-packages/pytorch_tabnet/abstract_model.py:82: UserWarning: Device used : cuda\n",
      "  warnings.warn(f\"Device used : {self.device}\")\n"
     ]
    },
    {
     "name": "stdout",
     "output_type": "stream",
     "text": [
      "epoch 0  | loss: 1.30104 | test_accuracy: 0.50879 |  0:00:02s\n",
      "epoch 1  | loss: 1.00276 | test_accuracy: 0.50879 |  0:00:05s\n",
      "epoch 2  | loss: 0.91906 | test_accuracy: 0.49707 |  0:00:08s\n",
      "epoch 3  | loss: 0.85282 | test_accuracy: 0.49973 |  0:00:10s\n",
      "epoch 4  | loss: 0.83809 | test_accuracy: 0.504   |  0:00:13s\n",
      "epoch 5  | loss: 0.80129 | test_accuracy: 0.48002 |  0:00:16s\n",
      "epoch 6  | loss: 0.7867  | test_accuracy: 0.496   |  0:00:18s\n",
      "epoch 7  | loss: 0.77366 | test_accuracy: 0.50719 |  0:00:21s\n",
      "epoch 8  | loss: 0.76788 | test_accuracy: 0.51252 |  0:00:24s\n",
      "epoch 9  | loss: 0.75907 | test_accuracy: 0.49547 |  0:00:26s\n",
      "epoch 10 | loss: 0.75511 | test_accuracy: 0.47629 |  0:00:29s\n",
      "epoch 11 | loss: 0.74844 | test_accuracy: 0.4992  |  0:00:31s\n",
      "epoch 12 | loss: 0.75638 | test_accuracy: 0.48162 |  0:00:34s\n",
      "epoch 13 | loss: 0.74467 | test_accuracy: 0.49068 |  0:00:36s\n",
      "epoch 14 | loss: 0.74085 | test_accuracy: 0.4667  |  0:00:39s\n",
      "epoch 15 | loss: 0.72703 | test_accuracy: 0.46244 |  0:00:41s\n",
      "epoch 16 | loss: 0.7325  | test_accuracy: 0.49654 |  0:00:43s\n",
      "epoch 17 | loss: 0.72903 | test_accuracy: 0.49814 |  0:00:46s\n",
      "epoch 18 | loss: 0.7268  | test_accuracy: 0.5024  |  0:00:49s\n",
      "\n",
      "Early stopping occurred at epoch 18 with best_epoch = 8 and best_test_accuracy = 0.51252\n"
     ]
    },
    {
     "name": "stderr",
     "output_type": "stream",
     "text": [
      "/home/gonken/anaconda3/envs/torch/lib/python3.12/site-packages/pytorch_tabnet/callbacks.py:172: UserWarning: Best weights from best epoch are automatically used!\n",
      "  warnings.warn(wrn_msg)\n",
      "[I 2024-10-30 17:54:25,853] Trial 36 finished with value: 0.512519978689398 and parameters: {'n_d': 59, 'n_a': 22, 'n_steps': 6, 'gamma': 1.6739861043235837, 'lambda_sparse': 0.07811290504416755, 'learning_rate': 0.0002237967102654609}. Best is trial 4 with value: 0.5359616409163559.\n",
      "/home/gonken/anaconda3/envs/torch/lib/python3.12/site-packages/pytorch_tabnet/abstract_model.py:82: UserWarning: Device used : cuda\n",
      "  warnings.warn(f\"Device used : {self.device}\")\n"
     ]
    },
    {
     "name": "stdout",
     "output_type": "stream",
     "text": [
      "epoch 0  | loss: 1.00066 | test_accuracy: 0.49334 |  0:00:01s\n",
      "epoch 1  | loss: 1.00993 | test_accuracy: 0.48855 |  0:00:03s\n",
      "epoch 2  | loss: 1.0089  | test_accuracy: 0.49494 |  0:00:05s\n",
      "epoch 3  | loss: 1.00893 | test_accuracy: 0.49387 |  0:00:07s\n",
      "epoch 4  | loss: 1.00992 | test_accuracy: 0.49814 |  0:00:09s\n",
      "epoch 5  | loss: 0.99442 | test_accuracy: 0.496   |  0:00:11s\n",
      "epoch 6  | loss: 1.01015 | test_accuracy: 0.48535 |  0:00:13s\n",
      "epoch 7  | loss: 1.01075 | test_accuracy: 0.49174 |  0:00:15s\n",
      "epoch 8  | loss: 1.0002  | test_accuracy: 0.49068 |  0:00:17s\n",
      "epoch 9  | loss: 0.99053 | test_accuracy: 0.48855 |  0:00:20s\n",
      "epoch 10 | loss: 1.01171 | test_accuracy: 0.48641 |  0:00:22s\n",
      "epoch 11 | loss: 0.9951  | test_accuracy: 0.48855 |  0:00:24s\n",
      "epoch 12 | loss: 1.00185 | test_accuracy: 0.48855 |  0:00:26s\n",
      "epoch 13 | loss: 1.01031 | test_accuracy: 0.49121 |  0:00:29s\n",
      "epoch 14 | loss: 1.0157  | test_accuracy: 0.49334 |  0:00:31s\n",
      "\n",
      "Early stopping occurred at epoch 14 with best_epoch = 4 and best_test_accuracy = 0.49814\n"
     ]
    },
    {
     "name": "stderr",
     "output_type": "stream",
     "text": [
      "/home/gonken/anaconda3/envs/torch/lib/python3.12/site-packages/pytorch_tabnet/callbacks.py:172: UserWarning: Best weights from best epoch are automatically used!\n",
      "  warnings.warn(wrn_msg)\n",
      "[I 2024-10-30 17:54:58,004] Trial 37 finished with value: 0.4981353223228556 and parameters: {'n_d': 18, 'n_a': 31, 'n_steps': 5, 'gamma': 1.1778251176391208, 'lambda_sparse': 0.007413930263087111, 'learning_rate': 4.0528282885499974e-07}. Best is trial 4 with value: 0.5359616409163559.\n",
      "/home/gonken/anaconda3/envs/torch/lib/python3.12/site-packages/pytorch_tabnet/abstract_model.py:82: UserWarning: Device used : cuda\n",
      "  warnings.warn(f\"Device used : {self.device}\")\n"
     ]
    },
    {
     "name": "stdout",
     "output_type": "stream",
     "text": [
      "epoch 0  | loss: 0.90792 | test_accuracy: 0.48855 |  0:00:01s\n",
      "epoch 1  | loss: 0.73754 | test_accuracy: 0.49121 |  0:00:03s\n",
      "epoch 2  | loss: 0.71968 | test_accuracy: 0.50453 |  0:00:05s\n",
      "epoch 3  | loss: 0.70673 | test_accuracy: 0.50932 |  0:00:06s\n",
      "epoch 4  | loss: 0.69262 | test_accuracy: 0.50559 |  0:00:08s\n",
      "epoch 5  | loss: 0.68898 | test_accuracy: 0.49281 |  0:00:10s\n",
      "epoch 6  | loss: 0.68736 | test_accuracy: 0.4992  |  0:00:12s\n",
      "epoch 7  | loss: 0.68364 | test_accuracy: 0.51572 |  0:00:13s\n",
      "epoch 8  | loss: 0.67661 | test_accuracy: 0.51518 |  0:00:15s\n",
      "epoch 9  | loss: 0.67783 | test_accuracy: 0.5008  |  0:00:17s\n",
      "epoch 10 | loss: 0.6773  | test_accuracy: 0.52424 |  0:00:18s\n",
      "epoch 11 | loss: 0.67068 | test_accuracy: 0.51998 |  0:00:20s\n",
      "epoch 12 | loss: 0.66634 | test_accuracy: 0.51518 |  0:00:22s\n",
      "epoch 13 | loss: 0.66587 | test_accuracy: 0.51465 |  0:00:24s\n",
      "epoch 14 | loss: 0.66698 | test_accuracy: 0.50932 |  0:00:26s\n",
      "epoch 15 | loss: 0.66324 | test_accuracy: 0.51199 |  0:00:28s\n",
      "epoch 16 | loss: 0.66541 | test_accuracy: 0.50986 |  0:00:29s\n",
      "epoch 17 | loss: 0.65941 | test_accuracy: 0.51092 |  0:00:31s\n",
      "epoch 18 | loss: 0.66362 | test_accuracy: 0.51572 |  0:00:33s\n",
      "epoch 19 | loss: 0.65445 | test_accuracy: 0.50986 |  0:00:35s\n",
      "epoch 20 | loss: 0.65773 | test_accuracy: 0.51359 |  0:00:37s\n",
      "\n",
      "Early stopping occurred at epoch 20 with best_epoch = 10 and best_test_accuracy = 0.52424\n"
     ]
    },
    {
     "name": "stderr",
     "output_type": "stream",
     "text": [
      "/home/gonken/anaconda3/envs/torch/lib/python3.12/site-packages/pytorch_tabnet/callbacks.py:172: UserWarning: Best weights from best epoch are automatically used!\n",
      "  warnings.warn(wrn_msg)\n",
      "[I 2024-10-30 17:55:35,827] Trial 38 finished with value: 0.5242408098028769 and parameters: {'n_d': 56, 'n_a': 25, 'n_steps': 3, 'gamma': 1.554711172918169, 'lambda_sparse': 0.030819571967153788, 'learning_rate': 0.0005106600689652134}. Best is trial 4 with value: 0.5359616409163559.\n",
      "/home/gonken/anaconda3/envs/torch/lib/python3.12/site-packages/pytorch_tabnet/abstract_model.py:82: UserWarning: Device used : cuda\n",
      "  warnings.warn(f\"Device used : {self.device}\")\n"
     ]
    },
    {
     "name": "stdout",
     "output_type": "stream",
     "text": [
      "epoch 0  | loss: 1.02078 | test_accuracy: 0.49547 |  0:00:01s\n",
      "epoch 1  | loss: 0.76816 | test_accuracy: 0.47896 |  0:00:02s\n",
      "epoch 2  | loss: 0.73223 | test_accuracy: 0.47576 |  0:00:04s\n",
      "epoch 3  | loss: 0.72171 | test_accuracy: 0.49014 |  0:00:06s\n",
      "epoch 4  | loss: 0.7088  | test_accuracy: 0.48695 |  0:00:08s\n",
      "epoch 5  | loss: 0.70381 | test_accuracy: 0.49441 |  0:00:10s\n",
      "epoch 6  | loss: 0.68999 | test_accuracy: 0.49441 |  0:00:11s\n",
      "epoch 7  | loss: 0.69289 | test_accuracy: 0.49547 |  0:00:13s\n",
      "epoch 8  | loss: 0.68116 | test_accuracy: 0.48748 |  0:00:14s\n",
      "epoch 9  | loss: 0.67876 | test_accuracy: 0.49973 |  0:00:16s\n",
      "epoch 10 | loss: 0.67601 | test_accuracy: 0.48482 |  0:00:18s\n",
      "epoch 11 | loss: 0.67325 | test_accuracy: 0.5024  |  0:00:20s\n",
      "epoch 12 | loss: 0.67096 | test_accuracy: 0.48961 |  0:00:22s\n",
      "epoch 13 | loss: 0.6708  | test_accuracy: 0.50133 |  0:00:23s\n",
      "epoch 14 | loss: 0.66877 | test_accuracy: 0.50293 |  0:00:25s\n",
      "epoch 15 | loss: 0.65946 | test_accuracy: 0.51412 |  0:00:27s\n",
      "epoch 16 | loss: 0.66077 | test_accuracy: 0.49973 |  0:00:28s\n",
      "epoch 17 | loss: 0.65899 | test_accuracy: 0.50986 |  0:00:30s\n",
      "epoch 18 | loss: 0.65892 | test_accuracy: 0.51945 |  0:00:32s\n",
      "epoch 19 | loss: 0.65763 | test_accuracy: 0.51092 |  0:00:34s\n",
      "epoch 20 | loss: 0.65931 | test_accuracy: 0.51039 |  0:00:35s\n",
      "epoch 21 | loss: 0.65404 | test_accuracy: 0.49494 |  0:00:37s\n",
      "epoch 22 | loss: 0.65055 | test_accuracy: 0.51199 |  0:00:39s\n",
      "epoch 23 | loss: 0.64544 | test_accuracy: 0.50666 |  0:00:40s\n",
      "epoch 24 | loss: 0.64834 | test_accuracy: 0.504   |  0:00:42s\n",
      "epoch 25 | loss: 0.64562 | test_accuracy: 0.50826 |  0:00:43s\n",
      "epoch 26 | loss: 0.64752 | test_accuracy: 0.50879 |  0:00:45s\n",
      "epoch 27 | loss: 0.64461 | test_accuracy: 0.49387 |  0:00:46s\n",
      "epoch 28 | loss: 0.64267 | test_accuracy: 0.51731 |  0:00:48s\n",
      "\n",
      "Early stopping occurred at epoch 28 with best_epoch = 18 and best_test_accuracy = 0.51945\n"
     ]
    },
    {
     "name": "stderr",
     "output_type": "stream",
     "text": [
      "/home/gonken/anaconda3/envs/torch/lib/python3.12/site-packages/pytorch_tabnet/callbacks.py:172: UserWarning: Best weights from best epoch are automatically used!\n",
      "  warnings.warn(wrn_msg)\n",
      "[I 2024-10-30 17:56:24,598] Trial 39 finished with value: 0.5194459243473628 and parameters: {'n_d': 57, 'n_a': 19, 'n_steps': 3, 'gamma': 1.5615582610607546, 'lambda_sparse': 0.06818483219959144, 'learning_rate': 0.0009669302593186459}. Best is trial 4 with value: 0.5359616409163559.\n",
      "/home/gonken/anaconda3/envs/torch/lib/python3.12/site-packages/pytorch_tabnet/abstract_model.py:82: UserWarning: Device used : cuda\n",
      "  warnings.warn(f\"Device used : {self.device}\")\n"
     ]
    },
    {
     "name": "stdout",
     "output_type": "stream",
     "text": [
      "epoch 0  | loss: 1.10109 | test_accuracy: 0.49654 |  0:00:03s\n",
      "epoch 1  | loss: 0.86278 | test_accuracy: 0.49068 |  0:00:05s\n",
      "epoch 2  | loss: 0.80233 | test_accuracy: 0.504   |  0:00:09s\n",
      "epoch 3  | loss: 0.77865 | test_accuracy: 0.49973 |  0:00:11s\n",
      "epoch 4  | loss: 0.77259 | test_accuracy: 0.5008  |  0:00:14s\n",
      "epoch 5  | loss: 0.74725 | test_accuracy: 0.50293 |  0:00:17s\n",
      "epoch 6  | loss: 0.74445 | test_accuracy: 0.50293 |  0:00:20s\n",
      "epoch 7  | loss: 0.75495 | test_accuracy: 0.50773 |  0:00:23s\n",
      "epoch 8  | loss: 0.72411 | test_accuracy: 0.49281 |  0:00:26s\n",
      "epoch 9  | loss: 0.73206 | test_accuracy: 0.51518 |  0:00:29s\n",
      "epoch 10 | loss: 0.71683 | test_accuracy: 0.51465 |  0:00:32s\n",
      "epoch 11 | loss: 0.72047 | test_accuracy: 0.50613 |  0:00:35s\n",
      "epoch 12 | loss: 0.71535 | test_accuracy: 0.52051 |  0:00:38s\n",
      "epoch 13 | loss: 0.72189 | test_accuracy: 0.4992  |  0:00:40s\n",
      "epoch 14 | loss: 0.71631 | test_accuracy: 0.504   |  0:00:43s\n",
      "epoch 15 | loss: 0.70547 | test_accuracy: 0.48695 |  0:00:46s\n",
      "epoch 16 | loss: 0.714   | test_accuracy: 0.47949 |  0:00:49s\n",
      "epoch 17 | loss: 0.71276 | test_accuracy: 0.50826 |  0:00:52s\n",
      "epoch 18 | loss: 0.70565 | test_accuracy: 0.50613 |  0:00:55s\n",
      "epoch 19 | loss: 0.69474 | test_accuracy: 0.51998 |  0:00:58s\n",
      "epoch 20 | loss: 0.70038 | test_accuracy: 0.51678 |  0:01:01s\n",
      "epoch 21 | loss: 0.69022 | test_accuracy: 0.50613 |  0:01:04s\n",
      "epoch 22 | loss: 0.68934 | test_accuracy: 0.49494 |  0:01:07s\n",
      "\n",
      "Early stopping occurred at epoch 22 with best_epoch = 12 and best_test_accuracy = 0.52051\n"
     ]
    },
    {
     "name": "stderr",
     "output_type": "stream",
     "text": [
      "/home/gonken/anaconda3/envs/torch/lib/python3.12/site-packages/pytorch_tabnet/callbacks.py:172: UserWarning: Best weights from best epoch are automatically used!\n",
      "  warnings.warn(wrn_msg)\n",
      "[I 2024-10-30 17:57:33,200] Trial 40 finished with value: 0.5205114544485882 and parameters: {'n_d': 61, 'n_a': 13, 'n_steps': 8, 'gamma': 1.4765085419443174, 'lambda_sparse': 0.03005078710693012, 'learning_rate': 0.000640954173215538}. Best is trial 4 with value: 0.5359616409163559.\n",
      "/home/gonken/anaconda3/envs/torch/lib/python3.12/site-packages/pytorch_tabnet/abstract_model.py:82: UserWarning: Device used : cuda\n",
      "  warnings.warn(f\"Device used : {self.device}\")\n"
     ]
    },
    {
     "name": "stdout",
     "output_type": "stream",
     "text": [
      "epoch 0  | loss: 1.32258 | test_accuracy: 0.49121 |  0:00:03s\n",
      "epoch 1  | loss: 1.00391 | test_accuracy: 0.47576 |  0:00:06s\n",
      "epoch 2  | loss: 0.90417 | test_accuracy: 0.47896 |  0:00:09s\n",
      "epoch 3  | loss: 0.85294 | test_accuracy: 0.51039 |  0:00:12s\n",
      "epoch 4  | loss: 0.81133 | test_accuracy: 0.50826 |  0:00:15s\n",
      "epoch 5  | loss: 0.78823 | test_accuracy: 0.50666 |  0:00:18s\n",
      "epoch 6  | loss: 0.7705  | test_accuracy: 0.50346 |  0:00:21s\n",
      "epoch 7  | loss: 0.75299 | test_accuracy: 0.50613 |  0:00:24s\n",
      "epoch 8  | loss: 0.7443  | test_accuracy: 0.504   |  0:00:27s\n",
      "epoch 9  | loss: 0.74683 | test_accuracy: 0.50453 |  0:00:30s\n",
      "epoch 10 | loss: 0.76224 | test_accuracy: 0.50666 |  0:00:33s\n",
      "epoch 11 | loss: 0.73398 | test_accuracy: 0.50879 |  0:00:36s\n",
      "epoch 12 | loss: 0.73456 | test_accuracy: 0.49654 |  0:00:39s\n",
      "epoch 13 | loss: 0.73393 | test_accuracy: 0.496   |  0:00:42s\n",
      "\n",
      "Early stopping occurred at epoch 13 with best_epoch = 3 and best_test_accuracy = 0.51039\n"
     ]
    },
    {
     "name": "stderr",
     "output_type": "stream",
     "text": [
      "/home/gonken/anaconda3/envs/torch/lib/python3.12/site-packages/pytorch_tabnet/callbacks.py:172: UserWarning: Best weights from best epoch are automatically used!\n",
      "  warnings.warn(wrn_msg)\n",
      "[I 2024-10-30 17:58:17,494] Trial 41 finished with value: 0.5103889184869472 and parameters: {'n_d': 62, 'n_a': 13, 'n_steps': 8, 'gamma': 1.440496129848194, 'lambda_sparse': 0.029954453264010493, 'learning_rate': 0.0004503699483958623}. Best is trial 4 with value: 0.5359616409163559.\n",
      "/home/gonken/anaconda3/envs/torch/lib/python3.12/site-packages/pytorch_tabnet/abstract_model.py:82: UserWarning: Device used : cuda\n",
      "  warnings.warn(f\"Device used : {self.device}\")\n"
     ]
    },
    {
     "name": "stdout",
     "output_type": "stream",
     "text": [
      "epoch 0  | loss: 2.55515 | test_accuracy: 0.5008  |  0:00:02s\n",
      "epoch 1  | loss: 0.99399 | test_accuracy: 0.53277 |  0:00:05s\n",
      "epoch 2  | loss: 0.83266 | test_accuracy: 0.50879 |  0:00:07s\n",
      "epoch 3  | loss: 0.78336 | test_accuracy: 0.50613 |  0:00:10s\n",
      "epoch 4  | loss: 0.75885 | test_accuracy: 0.51891 |  0:00:13s\n",
      "epoch 5  | loss: 0.74406 | test_accuracy: 0.49494 |  0:00:16s\n",
      "epoch 6  | loss: 0.74039 | test_accuracy: 0.50932 |  0:00:18s\n",
      "epoch 7  | loss: 0.73093 | test_accuracy: 0.49814 |  0:00:21s\n",
      "epoch 8  | loss: 0.72839 | test_accuracy: 0.51199 |  0:00:24s\n",
      "epoch 9  | loss: 0.72678 | test_accuracy: 0.50613 |  0:00:27s\n",
      "epoch 10 | loss: 0.70282 | test_accuracy: 0.50932 |  0:00:30s\n",
      "epoch 11 | loss: 0.71426 | test_accuracy: 0.50186 |  0:00:32s\n",
      "\n",
      "Early stopping occurred at epoch 11 with best_epoch = 1 and best_test_accuracy = 0.53277\n"
     ]
    },
    {
     "name": "stderr",
     "output_type": "stream",
     "text": [
      "/home/gonken/anaconda3/envs/torch/lib/python3.12/site-packages/pytorch_tabnet/callbacks.py:172: UserWarning: Best weights from best epoch are automatically used!\n",
      "  warnings.warn(wrn_msg)\n",
      "[I 2024-10-30 17:58:51,747] Trial 42 finished with value: 0.5327650506126798 and parameters: {'n_d': 54, 'n_a': 25, 'n_steps': 7, 'gamma': 1.3392225685093, 'lambda_sparse': 0.03558161087524639, 'learning_rate': 0.0005390101940090673}. Best is trial 4 with value: 0.5359616409163559.\n",
      "/home/gonken/anaconda3/envs/torch/lib/python3.12/site-packages/pytorch_tabnet/abstract_model.py:82: UserWarning: Device used : cuda\n",
      "  warnings.warn(f\"Device used : {self.device}\")\n"
     ]
    },
    {
     "name": "stdout",
     "output_type": "stream",
     "text": [
      "epoch 0  | loss: 1.28897 | test_accuracy: 0.49494 |  0:00:02s\n",
      "epoch 1  | loss: 0.79415 | test_accuracy: 0.50559 |  0:00:05s\n",
      "epoch 2  | loss: 0.77476 | test_accuracy: 0.50346 |  0:00:07s\n",
      "epoch 3  | loss: 0.74917 | test_accuracy: 0.51678 |  0:00:10s\n",
      "epoch 4  | loss: 0.72754 | test_accuracy: 0.50559 |  0:00:13s\n",
      "epoch 5  | loss: 0.71952 | test_accuracy: 0.49068 |  0:00:15s\n",
      "epoch 6  | loss: 0.71494 | test_accuracy: 0.51359 |  0:00:18s\n",
      "epoch 7  | loss: 0.70826 | test_accuracy: 0.51678 |  0:00:21s\n",
      "epoch 8  | loss: 0.69684 | test_accuracy: 0.49068 |  0:00:24s\n",
      "epoch 9  | loss: 0.68781 | test_accuracy: 0.50719 |  0:00:27s\n",
      "epoch 10 | loss: 0.6761  | test_accuracy: 0.48535 |  0:00:29s\n",
      "epoch 11 | loss: 0.66729 | test_accuracy: 0.48588 |  0:00:32s\n",
      "epoch 12 | loss: 0.66411 | test_accuracy: 0.49547 |  0:00:35s\n",
      "epoch 13 | loss: 0.66179 | test_accuracy: 0.50559 |  0:00:37s\n",
      "\n",
      "Early stopping occurred at epoch 13 with best_epoch = 3 and best_test_accuracy = 0.51678\n"
     ]
    },
    {
     "name": "stderr",
     "output_type": "stream",
     "text": [
      "/home/gonken/anaconda3/envs/torch/lib/python3.12/site-packages/pytorch_tabnet/callbacks.py:172: UserWarning: Best weights from best epoch are automatically used!\n",
      "  warnings.warn(wrn_msg)\n",
      "[I 2024-10-30 17:59:31,009] Trial 43 finished with value: 0.5167820990942994 and parameters: {'n_d': 54, 'n_a': 25, 'n_steps': 7, 'gamma': 1.2737725986924073, 'lambda_sparse': 0.04396613273126469, 'learning_rate': 0.0026036766215559487}. Best is trial 4 with value: 0.5359616409163559.\n",
      "/home/gonken/anaconda3/envs/torch/lib/python3.12/site-packages/pytorch_tabnet/abstract_model.py:82: UserWarning: Device used : cuda\n",
      "  warnings.warn(f\"Device used : {self.device}\")\n"
     ]
    },
    {
     "name": "stdout",
     "output_type": "stream",
     "text": [
      "epoch 0  | loss: 1.78488 | test_accuracy: 0.49973 |  0:00:02s\n",
      "epoch 1  | loss: 1.26693 | test_accuracy: 0.50453 |  0:00:04s\n",
      "epoch 2  | loss: 1.08897 | test_accuracy: 0.496   |  0:00:07s\n",
      "epoch 3  | loss: 0.96368 | test_accuracy: 0.49068 |  0:00:09s\n",
      "epoch 4  | loss: 0.90974 | test_accuracy: 0.50293 |  0:00:12s\n",
      "epoch 5  | loss: 0.86939 | test_accuracy: 0.51945 |  0:00:14s\n",
      "epoch 6  | loss: 0.82208 | test_accuracy: 0.51199 |  0:00:17s\n",
      "epoch 7  | loss: 0.81747 | test_accuracy: 0.51945 |  0:00:20s\n",
      "epoch 8  | loss: 0.7937  | test_accuracy: 0.50666 |  0:00:22s\n",
      "epoch 9  | loss: 0.77643 | test_accuracy: 0.50613 |  0:00:25s\n",
      "epoch 10 | loss: 0.77506 | test_accuracy: 0.50559 |  0:00:28s\n",
      "epoch 11 | loss: 0.75733 | test_accuracy: 0.49707 |  0:00:30s\n",
      "epoch 12 | loss: 0.7481  | test_accuracy: 0.50719 |  0:00:33s\n",
      "epoch 13 | loss: 0.74852 | test_accuracy: 0.49654 |  0:00:35s\n",
      "epoch 14 | loss: 0.75366 | test_accuracy: 0.49387 |  0:00:38s\n",
      "epoch 15 | loss: 0.73999 | test_accuracy: 0.49227 |  0:00:40s\n",
      "\n",
      "Early stopping occurred at epoch 15 with best_epoch = 5 and best_test_accuracy = 0.51945\n"
     ]
    },
    {
     "name": "stderr",
     "output_type": "stream",
     "text": [
      "/home/gonken/anaconda3/envs/torch/lib/python3.12/site-packages/pytorch_tabnet/callbacks.py:172: UserWarning: Best weights from best epoch are automatically used!\n",
      "  warnings.warn(wrn_msg)\n",
      "[I 2024-10-30 18:00:12,784] Trial 44 finished with value: 0.5194459243473628 and parameters: {'n_d': 45, 'n_a': 22, 'n_steps': 6, 'gamma': 1.1194721367403906, 'lambda_sparse': 0.03574438555678783, 'learning_rate': 0.00023982101467973354}. Best is trial 4 with value: 0.5359616409163559.\n",
      "/home/gonken/anaconda3/envs/torch/lib/python3.12/site-packages/pytorch_tabnet/abstract_model.py:82: UserWarning: Device used : cuda\n",
      "  warnings.warn(f\"Device used : {self.device}\")\n"
     ]
    },
    {
     "name": "stdout",
     "output_type": "stream",
     "text": [
      "epoch 0  | loss: 1.19023 | test_accuracy: 0.49973 |  0:00:02s\n",
      "epoch 1  | loss: 0.67469 | test_accuracy: 0.52424 |  0:00:05s\n",
      "epoch 2  | loss: 0.65733 | test_accuracy: 0.49494 |  0:00:08s\n",
      "epoch 3  | loss: 0.65439 | test_accuracy: 0.49441 |  0:00:11s\n",
      "epoch 4  | loss: 0.66021 | test_accuracy: 0.4976  |  0:00:14s\n",
      "epoch 5  | loss: 0.65529 | test_accuracy: 0.49867 |  0:00:16s\n",
      "epoch 6  | loss: 0.65643 | test_accuracy: 0.51305 |  0:00:19s\n",
      "epoch 7  | loss: 0.65412 | test_accuracy: 0.51945 |  0:00:21s\n",
      "epoch 8  | loss: 0.65438 | test_accuracy: 0.4992  |  0:00:24s\n",
      "epoch 9  | loss: 0.65328 | test_accuracy: 0.49707 |  0:00:26s\n",
      "epoch 10 | loss: 0.6533  | test_accuracy: 0.49441 |  0:00:29s\n",
      "epoch 11 | loss: 0.65194 | test_accuracy: 0.49494 |  0:00:32s\n",
      "\n",
      "Early stopping occurred at epoch 11 with best_epoch = 1 and best_test_accuracy = 0.52424\n"
     ]
    },
    {
     "name": "stderr",
     "output_type": "stream",
     "text": [
      "/home/gonken/anaconda3/envs/torch/lib/python3.12/site-packages/pytorch_tabnet/callbacks.py:172: UserWarning: Best weights from best epoch are automatically used!\n",
      "  warnings.warn(wrn_msg)\n",
      "[I 2024-10-30 18:00:46,497] Trial 45 finished with value: 0.5242408098028769 and parameters: {'n_d': 51, 'n_a': 26, 'n_steps': 7, 'gamma': 1.3519363875506711, 'lambda_sparse': 0.01958918206859075, 'learning_rate': 0.08792757122837615}. Best is trial 4 with value: 0.5359616409163559.\n",
      "/home/gonken/anaconda3/envs/torch/lib/python3.12/site-packages/pytorch_tabnet/abstract_model.py:82: UserWarning: Device used : cuda\n",
      "  warnings.warn(f\"Device used : {self.device}\")\n"
     ]
    },
    {
     "name": "stdout",
     "output_type": "stream",
     "text": [
      "epoch 0  | loss: 1.35414 | test_accuracy: 0.50506 |  0:00:02s\n",
      "epoch 1  | loss: 0.6842  | test_accuracy: 0.48908 |  0:00:05s\n",
      "epoch 2  | loss: 0.67481 | test_accuracy: 0.504   |  0:00:07s\n",
      "epoch 3  | loss: 0.67222 | test_accuracy: 0.51572 |  0:00:10s\n",
      "epoch 4  | loss: 0.66433 | test_accuracy: 0.49068 |  0:00:13s\n",
      "epoch 5  | loss: 0.66286 | test_accuracy: 0.49973 |  0:00:15s\n",
      "epoch 6  | loss: 0.65889 | test_accuracy: 0.49973 |  0:00:18s\n",
      "epoch 7  | loss: 0.65914 | test_accuracy: 0.50346 |  0:00:20s\n",
      "epoch 8  | loss: 0.65779 | test_accuracy: 0.50027 |  0:00:23s\n",
      "epoch 9  | loss: 0.6553  | test_accuracy: 0.49973 |  0:00:26s\n",
      "epoch 10 | loss: 0.65647 | test_accuracy: 0.49973 |  0:00:29s\n",
      "epoch 11 | loss: 0.65572 | test_accuracy: 0.49973 |  0:00:32s\n",
      "epoch 12 | loss: 0.65591 | test_accuracy: 0.49973 |  0:00:34s\n",
      "epoch 13 | loss: 0.65474 | test_accuracy: 0.49973 |  0:00:37s\n",
      "\n",
      "Early stopping occurred at epoch 13 with best_epoch = 3 and best_test_accuracy = 0.51572\n"
     ]
    },
    {
     "name": "stderr",
     "output_type": "stream",
     "text": [
      "/home/gonken/anaconda3/envs/torch/lib/python3.12/site-packages/pytorch_tabnet/callbacks.py:172: UserWarning: Best weights from best epoch are automatically used!\n",
      "  warnings.warn(wrn_msg)\n",
      "[I 2024-10-30 18:01:25,626] Trial 46 finished with value: 0.515716568993074 and parameters: {'n_d': 51, 'n_a': 27, 'n_steps': 7, 'gamma': 1.3412692146016092, 'lambda_sparse': 0.02061474322572695, 'learning_rate': 0.07330088291842074}. Best is trial 4 with value: 0.5359616409163559.\n",
      "/home/gonken/anaconda3/envs/torch/lib/python3.12/site-packages/pytorch_tabnet/abstract_model.py:82: UserWarning: Device used : cuda\n",
      "  warnings.warn(f\"Device used : {self.device}\")\n"
     ]
    },
    {
     "name": "stdout",
     "output_type": "stream",
     "text": [
      "epoch 0  | loss: 0.97377 | test_accuracy: 0.49334 |  0:00:02s\n",
      "epoch 1  | loss: 0.68877 | test_accuracy: 0.51305 |  0:00:05s\n",
      "epoch 2  | loss: 0.67051 | test_accuracy: 0.49814 |  0:00:08s\n",
      "epoch 3  | loss: 0.65746 | test_accuracy: 0.51092 |  0:00:11s\n",
      "epoch 4  | loss: 0.66184 | test_accuracy: 0.49014 |  0:00:13s\n",
      "epoch 5  | loss: 0.66603 | test_accuracy: 0.51039 |  0:00:16s\n",
      "epoch 6  | loss: 0.66414 | test_accuracy: 0.50986 |  0:00:19s\n",
      "epoch 7  | loss: 0.66134 | test_accuracy: 0.50346 |  0:00:22s\n",
      "epoch 8  | loss: 0.65305 | test_accuracy: 0.49494 |  0:00:25s\n",
      "epoch 9  | loss: 0.65434 | test_accuracy: 0.52104 |  0:00:28s\n",
      "epoch 10 | loss: 0.64462 | test_accuracy: 0.49547 |  0:00:30s\n",
      "epoch 11 | loss: 0.65144 | test_accuracy: 0.49867 |  0:00:32s\n",
      "epoch 12 | loss: 0.65211 | test_accuracy: 0.50986 |  0:00:35s\n",
      "epoch 13 | loss: 0.64717 | test_accuracy: 0.50826 |  0:00:37s\n",
      "epoch 14 | loss: 0.63823 | test_accuracy: 0.52051 |  0:00:40s\n",
      "epoch 15 | loss: 0.63427 | test_accuracy: 0.50559 |  0:00:43s\n",
      "epoch 16 | loss: 0.63219 | test_accuracy: 0.49973 |  0:00:45s\n",
      "epoch 17 | loss: 0.62914 | test_accuracy: 0.50186 |  0:00:48s\n",
      "epoch 18 | loss: 0.63107 | test_accuracy: 0.49814 |  0:00:51s\n",
      "epoch 19 | loss: 0.62746 | test_accuracy: 0.49387 |  0:00:54s\n",
      "\n",
      "Early stopping occurred at epoch 19 with best_epoch = 9 and best_test_accuracy = 0.52104\n"
     ]
    },
    {
     "name": "stderr",
     "output_type": "stream",
     "text": [
      "/home/gonken/anaconda3/envs/torch/lib/python3.12/site-packages/pytorch_tabnet/callbacks.py:172: UserWarning: Best weights from best epoch are automatically used!\n",
      "  warnings.warn(wrn_msg)\n",
      "[I 2024-10-30 18:02:21,378] Trial 47 finished with value: 0.5210442194992009 and parameters: {'n_d': 47, 'n_a': 37, 'n_steps': 7, 'gamma': 1.222892406470462, 'lambda_sparse': 0.0488353477500564, 'learning_rate': 0.025481598378338056}. Best is trial 4 with value: 0.5359616409163559.\n",
      "/home/gonken/anaconda3/envs/torch/lib/python3.12/site-packages/pytorch_tabnet/abstract_model.py:82: UserWarning: Device used : cuda\n",
      "  warnings.warn(f\"Device used : {self.device}\")\n"
     ]
    },
    {
     "name": "stdout",
     "output_type": "stream",
     "text": [
      "epoch 0  | loss: 1.26117 | test_accuracy: 0.49654 |  0:00:03s\n",
      "epoch 1  | loss: 0.70218 | test_accuracy: 0.49387 |  0:00:06s\n",
      "epoch 2  | loss: 0.67579 | test_accuracy: 0.5024  |  0:00:09s\n",
      "epoch 3  | loss: 0.67458 | test_accuracy: 0.49867 |  0:00:13s\n",
      "epoch 4  | loss: 0.66623 | test_accuracy: 0.51145 |  0:00:16s\n",
      "epoch 5  | loss: 0.67151 | test_accuracy: 0.4992  |  0:00:19s\n",
      "epoch 6  | loss: 0.66735 | test_accuracy: 0.50133 |  0:00:22s\n",
      "epoch 7  | loss: 0.66666 | test_accuracy: 0.51145 |  0:00:25s\n",
      "epoch 8  | loss: 0.66458 | test_accuracy: 0.50133 |  0:00:29s\n",
      "epoch 9  | loss: 0.66023 | test_accuracy: 0.50346 |  0:00:32s\n",
      "epoch 10 | loss: 0.65715 | test_accuracy: 0.51252 |  0:00:35s\n",
      "epoch 11 | loss: 0.65392 | test_accuracy: 0.52637 |  0:00:38s\n",
      "epoch 12 | loss: 0.66506 | test_accuracy: 0.49387 |  0:00:41s\n",
      "epoch 13 | loss: 0.66194 | test_accuracy: 0.50453 |  0:00:45s\n",
      "epoch 14 | loss: 0.65633 | test_accuracy: 0.49973 |  0:00:48s\n",
      "epoch 15 | loss: 0.65477 | test_accuracy: 0.49387 |  0:00:51s\n",
      "epoch 16 | loss: 0.65273 | test_accuracy: 0.49867 |  0:00:54s\n",
      "epoch 17 | loss: 0.65099 | test_accuracy: 0.50133 |  0:00:58s\n",
      "epoch 18 | loss: 0.65201 | test_accuracy: 0.49814 |  0:01:01s\n",
      "epoch 19 | loss: 0.6477  | test_accuracy: 0.4992  |  0:01:04s\n",
      "epoch 20 | loss: 0.64583 | test_accuracy: 0.49707 |  0:01:08s\n",
      "epoch 21 | loss: 0.64605 | test_accuracy: 0.4992  |  0:01:11s\n",
      "\n",
      "Early stopping occurred at epoch 21 with best_epoch = 11 and best_test_accuracy = 0.52637\n"
     ]
    },
    {
     "name": "stderr",
     "output_type": "stream",
     "text": [
      "/home/gonken/anaconda3/envs/torch/lib/python3.12/site-packages/pytorch_tabnet/callbacks.py:172: UserWarning: Best weights from best epoch are automatically used!\n",
      "  warnings.warn(wrn_msg)\n",
      "[I 2024-10-30 18:03:34,528] Trial 48 finished with value: 0.5263718700053277 and parameters: {'n_d': 42, 'n_a': 59, 'n_steps': 9, 'gamma': 1.347808121547169, 'lambda_sparse': 0.08870715208970718, 'learning_rate': 0.0432813088037251}. Best is trial 4 with value: 0.5359616409163559.\n",
      "/home/gonken/anaconda3/envs/torch/lib/python3.12/site-packages/pytorch_tabnet/abstract_model.py:82: UserWarning: Device used : cuda\n",
      "  warnings.warn(f\"Device used : {self.device}\")\n"
     ]
    },
    {
     "name": "stdout",
     "output_type": "stream",
     "text": [
      "epoch 0  | loss: 1.20555 | test_accuracy: 0.50666 |  0:00:03s\n",
      "epoch 1  | loss: 0.84891 | test_accuracy: 0.50932 |  0:00:07s\n",
      "epoch 2  | loss: 0.73887 | test_accuracy: 0.49814 |  0:00:10s\n",
      "epoch 3  | loss: 0.71072 | test_accuracy: 0.50666 |  0:00:14s\n",
      "epoch 4  | loss: 0.68693 | test_accuracy: 0.49867 |  0:00:17s\n",
      "epoch 5  | loss: 0.67344 | test_accuracy: 0.51039 |  0:00:21s\n",
      "epoch 6  | loss: 0.67745 | test_accuracy: 0.50346 |  0:00:25s\n",
      "epoch 7  | loss: 0.67858 | test_accuracy: 0.50613 |  0:00:28s\n",
      "epoch 8  | loss: 0.66935 | test_accuracy: 0.49973 |  0:00:32s\n",
      "epoch 9  | loss: 0.66994 | test_accuracy: 0.51891 |  0:00:35s\n",
      "epoch 10 | loss: 0.67005 | test_accuracy: 0.51678 |  0:00:39s\n",
      "epoch 11 | loss: 0.67654 | test_accuracy: 0.52158 |  0:00:42s\n",
      "epoch 12 | loss: 0.66678 | test_accuracy: 0.51039 |  0:00:46s\n",
      "epoch 13 | loss: 0.66596 | test_accuracy: 0.49867 |  0:00:50s\n",
      "epoch 14 | loss: 0.66723 | test_accuracy: 0.49973 |  0:00:53s\n",
      "epoch 15 | loss: 0.67417 | test_accuracy: 0.4976  |  0:00:56s\n",
      "epoch 16 | loss: 0.6654  | test_accuracy: 0.49973 |  0:01:00s\n",
      "epoch 17 | loss: 0.66983 | test_accuracy: 0.47682 |  0:01:03s\n",
      "epoch 18 | loss: 0.66706 | test_accuracy: 0.48162 |  0:01:07s\n",
      "epoch 19 | loss: 0.66891 | test_accuracy: 0.49121 |  0:01:10s\n",
      "epoch 20 | loss: 0.66706 | test_accuracy: 0.50666 |  0:01:14s\n",
      "epoch 21 | loss: 0.66187 | test_accuracy: 0.49441 |  0:01:17s\n",
      "\n",
      "Early stopping occurred at epoch 21 with best_epoch = 11 and best_test_accuracy = 0.52158\n"
     ]
    },
    {
     "name": "stderr",
     "output_type": "stream",
     "text": [
      "/home/gonken/anaconda3/envs/torch/lib/python3.12/site-packages/pytorch_tabnet/callbacks.py:172: UserWarning: Best weights from best epoch are automatically used!\n",
      "  warnings.warn(wrn_msg)\n",
      "[I 2024-10-30 18:04:54,157] Trial 49 finished with value: 0.5215769845498135 and parameters: {'n_d': 42, 'n_a': 55, 'n_steps': 10, 'gamma': 1.2321267554250115, 'lambda_sparse': 0.09184403392866843, 'learning_rate': 0.009243456182329116}. Best is trial 4 with value: 0.5359616409163559.\n",
      "/home/gonken/anaconda3/envs/torch/lib/python3.12/site-packages/pytorch_tabnet/abstract_model.py:82: UserWarning: Device used : cuda\n",
      "  warnings.warn(f\"Device used : {self.device}\")\n"
     ]
    },
    {
     "name": "stdout",
     "output_type": "stream",
     "text": [
      "epoch 0  | loss: 1.1289  | test_accuracy: 0.49441 |  0:00:03s\n",
      "epoch 1  | loss: 0.68768 | test_accuracy: 0.51199 |  0:00:06s\n",
      "epoch 2  | loss: 0.68409 | test_accuracy: 0.51199 |  0:00:10s\n",
      "epoch 3  | loss: 0.68477 | test_accuracy: 0.50773 |  0:00:14s\n",
      "epoch 4  | loss: 0.67742 | test_accuracy: 0.50506 |  0:00:17s\n",
      "epoch 5  | loss: 0.67646 | test_accuracy: 0.50666 |  0:00:21s\n",
      "epoch 6  | loss: 0.67605 | test_accuracy: 0.5024  |  0:00:24s\n",
      "epoch 7  | loss: 0.6748  | test_accuracy: 0.48428 |  0:00:28s\n",
      "epoch 8  | loss: 0.67148 | test_accuracy: 0.4992  |  0:00:31s\n",
      "epoch 9  | loss: 0.67347 | test_accuracy: 0.51145 |  0:00:35s\n",
      "epoch 10 | loss: 0.67017 | test_accuracy: 0.50879 |  0:00:38s\n",
      "epoch 11 | loss: 0.67132 | test_accuracy: 0.49547 |  0:00:42s\n",
      "\n",
      "Early stopping occurred at epoch 11 with best_epoch = 1 and best_test_accuracy = 0.51199\n"
     ]
    },
    {
     "name": "stderr",
     "output_type": "stream",
     "text": [
      "/home/gonken/anaconda3/envs/torch/lib/python3.12/site-packages/pytorch_tabnet/callbacks.py:172: UserWarning: Best weights from best epoch are automatically used!\n",
      "  warnings.warn(wrn_msg)\n",
      "[I 2024-10-30 18:05:38,453] Trial 50 finished with value: 0.5119872136387853 and parameters: {'n_d': 37, 'n_a': 64, 'n_steps': 10, 'gamma': 1.2923830493605826, 'lambda_sparse': 0.08151800330386258, 'learning_rate': 0.037027090177825475}. Best is trial 4 with value: 0.5359616409163559.\n",
      "/home/gonken/anaconda3/envs/torch/lib/python3.12/site-packages/pytorch_tabnet/abstract_model.py:82: UserWarning: Device used : cuda\n",
      "  warnings.warn(f\"Device used : {self.device}\")\n"
     ]
    },
    {
     "name": "stdout",
     "output_type": "stream",
     "text": [
      "epoch 0  | loss: 1.33451 | test_accuracy: 0.51412 |  0:00:02s\n",
      "epoch 1  | loss: 0.69826 | test_accuracy: 0.50293 |  0:00:05s\n",
      "epoch 2  | loss: 0.6811  | test_accuracy: 0.49707 |  0:00:08s\n",
      "epoch 3  | loss: 0.67578 | test_accuracy: 0.49334 |  0:00:12s\n",
      "epoch 4  | loss: 0.67486 | test_accuracy: 0.49227 |  0:00:15s\n",
      "epoch 5  | loss: 0.66578 | test_accuracy: 0.49441 |  0:00:18s\n",
      "epoch 6  | loss: 0.67021 | test_accuracy: 0.50293 |  0:00:21s\n",
      "epoch 7  | loss: 0.67101 | test_accuracy: 0.50186 |  0:00:24s\n",
      "epoch 8  | loss: 0.66585 | test_accuracy: 0.49494 |  0:00:27s\n",
      "epoch 9  | loss: 0.66552 | test_accuracy: 0.49494 |  0:00:30s\n",
      "epoch 10 | loss: 0.66471 | test_accuracy: 0.49494 |  0:00:33s\n",
      "\n",
      "Early stopping occurred at epoch 10 with best_epoch = 0 and best_test_accuracy = 0.51412\n"
     ]
    },
    {
     "name": "stderr",
     "output_type": "stream",
     "text": [
      "/home/gonken/anaconda3/envs/torch/lib/python3.12/site-packages/pytorch_tabnet/callbacks.py:172: UserWarning: Best weights from best epoch are automatically used!\n",
      "  warnings.warn(wrn_msg)\n",
      "[I 2024-10-30 18:06:13,527] Trial 51 finished with value: 0.514118273841236 and parameters: {'n_d': 54, 'n_a': 41, 'n_steps': 8, 'gamma': 1.3389358630866306, 'lambda_sparse': 0.08715312680889274, 'learning_rate': 0.03743755911411658}. Best is trial 4 with value: 0.5359616409163559.\n",
      "/home/gonken/anaconda3/envs/torch/lib/python3.12/site-packages/pytorch_tabnet/abstract_model.py:82: UserWarning: Device used : cuda\n",
      "  warnings.warn(f\"Device used : {self.device}\")\n"
     ]
    },
    {
     "name": "stdout",
     "output_type": "stream",
     "text": [
      "epoch 0  | loss: 1.33685 | test_accuracy: 0.50186 |  0:00:02s\n",
      "epoch 1  | loss: 0.91164 | test_accuracy: 0.49707 |  0:00:05s\n",
      "epoch 2  | loss: 0.81658 | test_accuracy: 0.51731 |  0:00:08s\n",
      "epoch 3  | loss: 0.82008 | test_accuracy: 0.51039 |  0:00:11s\n",
      "epoch 4  | loss: 0.76619 | test_accuracy: 0.49441 |  0:00:14s\n",
      "epoch 5  | loss: 0.74648 | test_accuracy: 0.5024  |  0:00:17s\n",
      "epoch 6  | loss: 0.72429 | test_accuracy: 0.50027 |  0:00:20s\n",
      "epoch 7  | loss: 0.70834 | test_accuracy: 0.50293 |  0:00:23s\n",
      "epoch 8  | loss: 0.70502 | test_accuracy: 0.49814 |  0:00:26s\n",
      "epoch 9  | loss: 0.69436 | test_accuracy: 0.51785 |  0:00:29s\n",
      "epoch 10 | loss: 0.67912 | test_accuracy: 0.50932 |  0:00:32s\n",
      "epoch 11 | loss: 0.6737  | test_accuracy: 0.50346 |  0:00:35s\n",
      "epoch 12 | loss: 0.67272 | test_accuracy: 0.49654 |  0:00:38s\n",
      "epoch 13 | loss: 0.66522 | test_accuracy: 0.49387 |  0:00:41s\n",
      "epoch 14 | loss: 0.66183 | test_accuracy: 0.50559 |  0:00:44s\n",
      "epoch 15 | loss: 0.65399 | test_accuracy: 0.51039 |  0:00:47s\n",
      "epoch 16 | loss: 0.65709 | test_accuracy: 0.51039 |  0:00:50s\n",
      "epoch 17 | loss: 0.65333 | test_accuracy: 0.49281 |  0:00:53s\n",
      "epoch 18 | loss: 0.65533 | test_accuracy: 0.50559 |  0:00:56s\n",
      "epoch 19 | loss: 0.65757 | test_accuracy: 0.49814 |  0:00:59s\n",
      "\n",
      "Early stopping occurred at epoch 19 with best_epoch = 9 and best_test_accuracy = 0.51785\n"
     ]
    },
    {
     "name": "stderr",
     "output_type": "stream",
     "text": [
      "/home/gonken/anaconda3/envs/torch/lib/python3.12/site-packages/pytorch_tabnet/callbacks.py:172: UserWarning: Best weights from best epoch are automatically used!\n",
      "  warnings.warn(wrn_msg)\n",
      "[I 2024-10-30 18:07:14,220] Trial 52 finished with value: 0.5178476291955247 and parameters: {'n_d': 44, 'n_a': 61, 'n_steps': 8, 'gamma': 1.3772071212883656, 'lambda_sparse': 0.09819086325106177, 'learning_rate': 0.003036674144318004}. Best is trial 4 with value: 0.5359616409163559.\n",
      "/home/gonken/anaconda3/envs/torch/lib/python3.12/site-packages/pytorch_tabnet/abstract_model.py:82: UserWarning: Device used : cuda\n",
      "  warnings.warn(f\"Device used : {self.device}\")\n"
     ]
    },
    {
     "name": "stdout",
     "output_type": "stream",
     "text": [
      "epoch 0  | loss: 1.32323 | test_accuracy: 0.49014 |  0:00:03s\n",
      "epoch 1  | loss: 0.68896 | test_accuracy: 0.50293 |  0:00:06s\n",
      "epoch 2  | loss: 0.67313 | test_accuracy: 0.51412 |  0:00:09s\n",
      "epoch 3  | loss: 0.67402 | test_accuracy: 0.49867 |  0:00:12s\n",
      "epoch 4  | loss: 0.67559 | test_accuracy: 0.50453 |  0:00:15s\n",
      "epoch 5  | loss: 0.67174 | test_accuracy: 0.50666 |  0:00:19s\n",
      "epoch 6  | loss: 0.66981 | test_accuracy: 0.4992  |  0:00:22s\n",
      "epoch 7  | loss: 0.67007 | test_accuracy: 0.50133 |  0:00:25s\n",
      "epoch 8  | loss: 0.66845 | test_accuracy: 0.50773 |  0:00:28s\n",
      "epoch 9  | loss: 0.67025 | test_accuracy: 0.49867 |  0:00:31s\n",
      "epoch 10 | loss: 0.67094 | test_accuracy: 0.50559 |  0:00:35s\n",
      "epoch 11 | loss: 0.67214 | test_accuracy: 0.49281 |  0:00:38s\n",
      "epoch 12 | loss: 0.67263 | test_accuracy: 0.49494 |  0:00:41s\n",
      "\n",
      "Early stopping occurred at epoch 12 with best_epoch = 2 and best_test_accuracy = 0.51412\n"
     ]
    },
    {
     "name": "stderr",
     "output_type": "stream",
     "text": [
      "/home/gonken/anaconda3/envs/torch/lib/python3.12/site-packages/pytorch_tabnet/callbacks.py:172: UserWarning: Best weights from best epoch are automatically used!\n",
      "  warnings.warn(wrn_msg)\n",
      "[I 2024-10-30 18:07:57,454] Trial 53 finished with value: 0.514118273841236 and parameters: {'n_d': 40, 'n_a': 47, 'n_steps': 9, 'gamma': 1.4663141755173084, 'lambda_sparse': 0.07231670195089396, 'learning_rate': 0.08212769163984798}. Best is trial 4 with value: 0.5359616409163559.\n",
      "/home/gonken/anaconda3/envs/torch/lib/python3.12/site-packages/pytorch_tabnet/abstract_model.py:82: UserWarning: Device used : cuda\n",
      "  warnings.warn(f\"Device used : {self.device}\")\n"
     ]
    },
    {
     "name": "stdout",
     "output_type": "stream",
     "text": [
      "epoch 0  | loss: 1.14174 | test_accuracy: 0.49334 |  0:00:03s\n",
      "epoch 1  | loss: 0.70718 | test_accuracy: 0.48641 |  0:00:06s\n",
      "epoch 2  | loss: 0.68884 | test_accuracy: 0.50293 |  0:00:09s\n",
      "epoch 3  | loss: 0.68342 | test_accuracy: 0.50773 |  0:00:13s\n",
      "epoch 4  | loss: 0.67905 | test_accuracy: 0.48695 |  0:00:16s\n",
      "epoch 5  | loss: 0.6752  | test_accuracy: 0.50773 |  0:00:19s\n",
      "epoch 6  | loss: 0.68165 | test_accuracy: 0.50293 |  0:00:22s\n",
      "epoch 7  | loss: 0.67425 | test_accuracy: 0.49387 |  0:00:25s\n",
      "epoch 8  | loss: 0.67128 | test_accuracy: 0.50027 |  0:00:28s\n",
      "epoch 9  | loss: 0.67259 | test_accuracy: 0.49707 |  0:00:32s\n",
      "epoch 10 | loss: 0.6766  | test_accuracy: 0.49121 |  0:00:35s\n",
      "epoch 11 | loss: 0.67109 | test_accuracy: 0.504   |  0:00:38s\n",
      "epoch 12 | loss: 0.67269 | test_accuracy: 0.49174 |  0:00:42s\n",
      "epoch 13 | loss: 0.67116 | test_accuracy: 0.5024  |  0:00:45s\n",
      "\n",
      "Early stopping occurred at epoch 13 with best_epoch = 3 and best_test_accuracy = 0.50773\n"
     ]
    },
    {
     "name": "stderr",
     "output_type": "stream",
     "text": [
      "/home/gonken/anaconda3/envs/torch/lib/python3.12/site-packages/pytorch_tabnet/callbacks.py:172: UserWarning: Best weights from best epoch are automatically used!\n",
      "  warnings.warn(wrn_msg)\n",
      "[I 2024-10-30 18:08:44,485] Trial 54 finished with value: 0.5077250932338838 and parameters: {'n_d': 47, 'n_a': 34, 'n_steps': 9, 'gamma': 1.1386105772291575, 'lambda_sparse': 0.09472733690962014, 'learning_rate': 0.042572609490690624}. Best is trial 4 with value: 0.5359616409163559.\n",
      "/home/gonken/anaconda3/envs/torch/lib/python3.12/site-packages/pytorch_tabnet/abstract_model.py:82: UserWarning: Device used : cuda\n",
      "  warnings.warn(f\"Device used : {self.device}\")\n"
     ]
    },
    {
     "name": "stdout",
     "output_type": "stream",
     "text": [
      "epoch 0  | loss: 1.19536 | test_accuracy: 0.48961 |  0:00:02s\n",
      "epoch 1  | loss: 0.81174 | test_accuracy: 0.4976  |  0:00:05s\n",
      "epoch 2  | loss: 0.70183 | test_accuracy: 0.50453 |  0:00:08s\n",
      "epoch 3  | loss: 0.67836 | test_accuracy: 0.50346 |  0:00:11s\n",
      "epoch 4  | loss: 0.67285 | test_accuracy: 0.50133 |  0:00:13s\n",
      "epoch 5  | loss: 0.66252 | test_accuracy: 0.49973 |  0:00:16s\n",
      "epoch 6  | loss: 0.66254 | test_accuracy: 0.51305 |  0:00:19s\n",
      "epoch 7  | loss: 0.66137 | test_accuracy: 0.52264 |  0:00:22s\n",
      "epoch 8  | loss: 0.66187 | test_accuracy: 0.51891 |  0:00:25s\n",
      "epoch 9  | loss: 0.66212 | test_accuracy: 0.50719 |  0:00:27s\n",
      "epoch 10 | loss: 0.66108 | test_accuracy: 0.50826 |  0:00:30s\n",
      "epoch 11 | loss: 0.66156 | test_accuracy: 0.504   |  0:00:33s\n",
      "epoch 12 | loss: 0.65174 | test_accuracy: 0.50773 |  0:00:35s\n",
      "epoch 13 | loss: 0.64687 | test_accuracy: 0.50506 |  0:00:38s\n",
      "epoch 14 | loss: 0.64161 | test_accuracy: 0.47629 |  0:00:41s\n",
      "epoch 15 | loss: 0.63964 | test_accuracy: 0.47576 |  0:00:44s\n",
      "epoch 16 | loss: 0.634   | test_accuracy: 0.49814 |  0:00:46s\n",
      "epoch 17 | loss: 0.63301 | test_accuracy: 0.49547 |  0:00:49s\n",
      "\n",
      "Early stopping occurred at epoch 17 with best_epoch = 7 and best_test_accuracy = 0.52264\n"
     ]
    },
    {
     "name": "stderr",
     "output_type": "stream",
     "text": [
      "/home/gonken/anaconda3/envs/torch/lib/python3.12/site-packages/pytorch_tabnet/callbacks.py:172: UserWarning: Best weights from best epoch are automatically used!\n",
      "  warnings.warn(wrn_msg)\n",
      "[I 2024-10-30 18:09:35,399] Trial 55 finished with value: 0.5226425146510388 and parameters: {'n_d': 51, 'n_a': 18, 'n_steps': 7, 'gamma': 1.371747830952585, 'lambda_sparse': 0.06019517313236153, 'learning_rate': 0.012973503324123042}. Best is trial 4 with value: 0.5359616409163559.\n",
      "/home/gonken/anaconda3/envs/torch/lib/python3.12/site-packages/pytorch_tabnet/abstract_model.py:82: UserWarning: Device used : cuda\n",
      "  warnings.warn(f\"Device used : {self.device}\")\n"
     ]
    },
    {
     "name": "stdout",
     "output_type": "stream",
     "text": [
      "epoch 0  | loss: 0.90274 | test_accuracy: 0.49121 |  0:00:02s\n",
      "epoch 1  | loss: 0.80855 | test_accuracy: 0.50559 |  0:00:05s\n",
      "epoch 2  | loss: 0.76691 | test_accuracy: 0.4992  |  0:00:07s\n",
      "epoch 3  | loss: 0.73557 | test_accuracy: 0.49174 |  0:00:10s\n",
      "epoch 4  | loss: 0.71693 | test_accuracy: 0.51572 |  0:00:12s\n",
      "epoch 5  | loss: 0.70632 | test_accuracy: 0.50346 |  0:00:15s\n",
      "epoch 6  | loss: 0.69903 | test_accuracy: 0.50559 |  0:00:18s\n",
      "epoch 7  | loss: 0.69052 | test_accuracy: 0.49867 |  0:00:20s\n",
      "epoch 8  | loss: 0.6883  | test_accuracy: 0.49814 |  0:00:23s\n",
      "epoch 9  | loss: 0.68475 | test_accuracy: 0.50027 |  0:00:25s\n",
      "epoch 10 | loss: 0.67035 | test_accuracy: 0.48055 |  0:00:28s\n",
      "epoch 11 | loss: 0.66803 | test_accuracy: 0.50719 |  0:00:30s\n",
      "epoch 12 | loss: 0.66702 | test_accuracy: 0.49867 |  0:00:33s\n",
      "epoch 13 | loss: 0.65998 | test_accuracy: 0.50879 |  0:00:36s\n",
      "epoch 14 | loss: 0.66345 | test_accuracy: 0.50613 |  0:00:38s\n",
      "\n",
      "Early stopping occurred at epoch 14 with best_epoch = 4 and best_test_accuracy = 0.51572\n"
     ]
    },
    {
     "name": "stderr",
     "output_type": "stream",
     "text": [
      "/home/gonken/anaconda3/envs/torch/lib/python3.12/site-packages/pytorch_tabnet/callbacks.py:172: UserWarning: Best weights from best epoch are automatically used!\n",
      "  warnings.warn(wrn_msg)\n",
      "[I 2024-10-30 18:10:15,456] Trial 56 finished with value: 0.515716568993074 and parameters: {'n_d': 49, 'n_a': 54, 'n_steps': 6, 'gamma': 1.5088017859440812, 'lambda_sparse': 0.07985975209822782, 'learning_rate': 0.0024844039942757416}. Best is trial 4 with value: 0.5359616409163559.\n",
      "/home/gonken/anaconda3/envs/torch/lib/python3.12/site-packages/pytorch_tabnet/abstract_model.py:82: UserWarning: Device used : cuda\n",
      "  warnings.warn(f\"Device used : {self.device}\")\n"
     ]
    },
    {
     "name": "stdout",
     "output_type": "stream",
     "text": [
      "epoch 0  | loss: 4.95506 | test_accuracy: 0.50027 |  0:00:03s\n",
      "epoch 1  | loss: 2.92354 | test_accuracy: 0.48269 |  0:00:06s\n",
      "epoch 2  | loss: 1.74853 | test_accuracy: 0.50133 |  0:00:09s\n",
      "epoch 3  | loss: 1.38575 | test_accuracy: 0.49068 |  0:00:12s\n",
      "epoch 4  | loss: 1.28912 | test_accuracy: 0.48482 |  0:00:15s\n",
      "epoch 5  | loss: 1.16392 | test_accuracy: 0.49227 |  0:00:18s\n",
      "epoch 6  | loss: 1.10018 | test_accuracy: 0.48055 |  0:00:21s\n",
      "epoch 7  | loss: 1.04784 | test_accuracy: 0.47629 |  0:00:24s\n",
      "epoch 8  | loss: 0.98981 | test_accuracy: 0.48908 |  0:00:27s\n",
      "epoch 9  | loss: 0.96952 | test_accuracy: 0.48322 |  0:00:30s\n",
      "epoch 10 | loss: 0.93542 | test_accuracy: 0.47842 |  0:00:32s\n",
      "epoch 11 | loss: 0.908   | test_accuracy: 0.47896 |  0:00:35s\n",
      "epoch 12 | loss: 0.88613 | test_accuracy: 0.4715  |  0:00:39s\n",
      "\n",
      "Early stopping occurred at epoch 12 with best_epoch = 2 and best_test_accuracy = 0.50133\n"
     ]
    },
    {
     "name": "stderr",
     "output_type": "stream",
     "text": [
      "/home/gonken/anaconda3/envs/torch/lib/python3.12/site-packages/pytorch_tabnet/callbacks.py:172: UserWarning: Best weights from best epoch are automatically used!\n",
      "  warnings.warn(wrn_msg)\n",
      "[I 2024-10-30 18:10:55,962] Trial 57 finished with value: 0.5013319126265317 and parameters: {'n_d': 59, 'n_a': 15, 'n_steps': 8, 'gamma': 1.2387789411661225, 'lambda_sparse': 0.08548952887938814, 'learning_rate': 0.00016897848166276628}. Best is trial 4 with value: 0.5359616409163559.\n",
      "/home/gonken/anaconda3/envs/torch/lib/python3.12/site-packages/pytorch_tabnet/abstract_model.py:82: UserWarning: Device used : cuda\n",
      "  warnings.warn(f\"Device used : {self.device}\")\n"
     ]
    },
    {
     "name": "stdout",
     "output_type": "stream",
     "text": [
      "epoch 0  | loss: 1.13521 | test_accuracy: 0.48908 |  0:00:02s\n",
      "epoch 1  | loss: 0.67959 | test_accuracy: 0.49494 |  0:00:05s\n",
      "epoch 2  | loss: 0.67146 | test_accuracy: 0.51039 |  0:00:08s\n",
      "epoch 3  | loss: 0.66409 | test_accuracy: 0.49707 |  0:00:11s\n",
      "epoch 4  | loss: 0.66533 | test_accuracy: 0.48215 |  0:00:13s\n",
      "epoch 5  | loss: 0.6639  | test_accuracy: 0.48855 |  0:00:16s\n",
      "epoch 6  | loss: 0.65891 | test_accuracy: 0.48961 |  0:00:19s\n",
      "epoch 7  | loss: 0.65666 | test_accuracy: 0.48641 |  0:00:22s\n",
      "epoch 8  | loss: 0.65573 | test_accuracy: 0.48801 |  0:00:24s\n",
      "epoch 9  | loss: 0.65962 | test_accuracy: 0.4992  |  0:00:27s\n",
      "epoch 10 | loss: 0.65734 | test_accuracy: 0.49654 |  0:00:30s\n",
      "epoch 11 | loss: 0.65171 | test_accuracy: 0.49973 |  0:00:32s\n",
      "epoch 12 | loss: 0.65557 | test_accuracy: 0.49867 |  0:00:35s\n",
      "\n",
      "Early stopping occurred at epoch 12 with best_epoch = 2 and best_test_accuracy = 0.51039\n"
     ]
    },
    {
     "name": "stderr",
     "output_type": "stream",
     "text": [
      "/home/gonken/anaconda3/envs/torch/lib/python3.12/site-packages/pytorch_tabnet/callbacks.py:172: UserWarning: Best weights from best epoch are automatically used!\n",
      "  warnings.warn(wrn_msg)\n",
      "[I 2024-10-30 18:11:33,063] Trial 58 finished with value: 0.5103889184869472 and parameters: {'n_d': 39, 'n_a': 29, 'n_steps': 7, 'gamma': 1.3176701486582383, 'lambda_sparse': 0.016861866621585536, 'learning_rate': 0.09655953095442432}. Best is trial 4 with value: 0.5359616409163559.\n",
      "/home/gonken/anaconda3/envs/torch/lib/python3.12/site-packages/pytorch_tabnet/abstract_model.py:82: UserWarning: Device used : cuda\n",
      "  warnings.warn(f\"Device used : {self.device}\")\n"
     ]
    },
    {
     "name": "stdout",
     "output_type": "stream",
     "text": [
      "epoch 0  | loss: 0.85871 | test_accuracy: 0.50453 |  0:00:02s\n",
      "epoch 1  | loss: 0.71406 | test_accuracy: 0.48588 |  0:00:05s\n",
      "epoch 2  | loss: 0.68812 | test_accuracy: 0.51305 |  0:00:08s\n",
      "epoch 3  | loss: 0.66967 | test_accuracy: 0.49707 |  0:00:11s\n",
      "epoch 4  | loss: 0.66365 | test_accuracy: 0.47896 |  0:00:13s\n",
      "epoch 5  | loss: 0.66672 | test_accuracy: 0.49281 |  0:00:16s\n",
      "epoch 6  | loss: 0.65949 | test_accuracy: 0.49973 |  0:00:19s\n",
      "epoch 7  | loss: 0.65858 | test_accuracy: 0.50986 |  0:00:22s\n",
      "epoch 8  | loss: 0.65353 | test_accuracy: 0.50613 |  0:00:25s\n",
      "epoch 9  | loss: 0.64986 | test_accuracy: 0.49547 |  0:00:27s\n",
      "epoch 10 | loss: 0.65015 | test_accuracy: 0.49441 |  0:00:30s\n",
      "epoch 11 | loss: 0.65173 | test_accuracy: 0.49387 |  0:00:33s\n",
      "epoch 12 | loss: 0.64897 | test_accuracy: 0.49814 |  0:00:35s\n",
      "\n",
      "Early stopping occurred at epoch 12 with best_epoch = 2 and best_test_accuracy = 0.51305\n"
     ]
    },
    {
     "name": "stderr",
     "output_type": "stream",
     "text": [
      "/home/gonken/anaconda3/envs/torch/lib/python3.12/site-packages/pytorch_tabnet/callbacks.py:172: UserWarning: Best weights from best epoch are automatically used!\n",
      "  warnings.warn(wrn_msg)\n",
      "[I 2024-10-30 18:12:09,768] Trial 59 finished with value: 0.5130527437400106 and parameters: {'n_d': 35, 'n_a': 26, 'n_steps': 7, 'gamma': 1.0614154287207156, 'lambda_sparse': 0.03270719533924536, 'learning_rate': 0.007331976071298068}. Best is trial 4 with value: 0.5359616409163559.\n",
      "/home/gonken/anaconda3/envs/torch/lib/python3.12/site-packages/pytorch_tabnet/abstract_model.py:82: UserWarning: Device used : cuda\n",
      "  warnings.warn(f\"Device used : {self.device}\")\n"
     ]
    },
    {
     "name": "stdout",
     "output_type": "stream",
     "text": [
      "epoch 0  | loss: 1.04331 | test_accuracy: 0.48908 |  0:00:02s\n",
      "epoch 1  | loss: 0.99946 | test_accuracy: 0.48695 |  0:00:04s\n",
      "epoch 2  | loss: 0.95921 | test_accuracy: 0.49227 |  0:00:07s\n",
      "epoch 3  | loss: 0.92799 | test_accuracy: 0.50133 |  0:00:09s\n",
      "epoch 4  | loss: 0.92249 | test_accuracy: 0.49707 |  0:00:11s\n",
      "epoch 5  | loss: 0.91223 | test_accuracy: 0.50133 |  0:00:14s\n",
      "epoch 6  | loss: 0.89839 | test_accuracy: 0.5024  |  0:00:16s\n",
      "epoch 7  | loss: 0.88259 | test_accuracy: 0.49121 |  0:00:19s\n",
      "epoch 8  | loss: 0.87794 | test_accuracy: 0.49547 |  0:00:21s\n",
      "epoch 9  | loss: 0.85284 | test_accuracy: 0.49973 |  0:00:24s\n",
      "epoch 10 | loss: 0.84851 | test_accuracy: 0.50027 |  0:00:27s\n",
      "epoch 11 | loss: 0.83658 | test_accuracy: 0.49441 |  0:00:29s\n",
      "epoch 12 | loss: 0.82103 | test_accuracy: 0.49068 |  0:00:31s\n",
      "epoch 13 | loss: 0.81083 | test_accuracy: 0.49334 |  0:00:34s\n",
      "epoch 14 | loss: 0.81875 | test_accuracy: 0.4976  |  0:00:36s\n",
      "epoch 15 | loss: 0.80346 | test_accuracy: 0.50186 |  0:00:38s\n",
      "epoch 16 | loss: 0.79721 | test_accuracy: 0.49814 |  0:00:41s\n",
      "\n",
      "Early stopping occurred at epoch 16 with best_epoch = 6 and best_test_accuracy = 0.5024\n"
     ]
    },
    {
     "name": "stderr",
     "output_type": "stream",
     "text": [
      "/home/gonken/anaconda3/envs/torch/lib/python3.12/site-packages/pytorch_tabnet/callbacks.py:172: UserWarning: Best weights from best epoch are automatically used!\n",
      "  warnings.warn(wrn_msg)\n",
      "[I 2024-10-30 18:12:52,185] Trial 60 finished with value: 0.5023974427277571 and parameters: {'n_d': 31, 'n_a': 21, 'n_steps': 6, 'gamma': 1.4309607723186464, 'lambda_sparse': 0.04008251843543367, 'learning_rate': 5.3966485065668734e-05}. Best is trial 4 with value: 0.5359616409163559.\n",
      "/home/gonken/anaconda3/envs/torch/lib/python3.12/site-packages/pytorch_tabnet/abstract_model.py:82: UserWarning: Device used : cuda\n",
      "  warnings.warn(f\"Device used : {self.device}\")\n"
     ]
    },
    {
     "name": "stdout",
     "output_type": "stream",
     "text": [
      "epoch 0  | loss: 1.09699 | test_accuracy: 0.50186 |  0:00:02s\n",
      "epoch 1  | loss: 0.69179 | test_accuracy: 0.50826 |  0:00:05s\n",
      "epoch 2  | loss: 0.66961 | test_accuracy: 0.49174 |  0:00:08s\n",
      "epoch 3  | loss: 0.67057 | test_accuracy: 0.50506 |  0:00:10s\n",
      "epoch 4  | loss: 0.66549 | test_accuracy: 0.49387 |  0:00:13s\n",
      "epoch 5  | loss: 0.66469 | test_accuracy: 0.48855 |  0:00:16s\n",
      "epoch 6  | loss: 0.66621 | test_accuracy: 0.49387 |  0:00:18s\n",
      "epoch 7  | loss: 0.66595 | test_accuracy: 0.49654 |  0:00:21s\n",
      "epoch 8  | loss: 0.66497 | test_accuracy: 0.49387 |  0:00:23s\n",
      "epoch 9  | loss: 0.66107 | test_accuracy: 0.48748 |  0:00:26s\n",
      "epoch 10 | loss: 0.65782 | test_accuracy: 0.48588 |  0:00:29s\n",
      "epoch 11 | loss: 0.65383 | test_accuracy: 0.48641 |  0:00:32s\n",
      "\n",
      "Early stopping occurred at epoch 11 with best_epoch = 1 and best_test_accuracy = 0.50826\n"
     ]
    },
    {
     "name": "stderr",
     "output_type": "stream",
     "text": [
      "/home/gonken/anaconda3/envs/torch/lib/python3.12/site-packages/pytorch_tabnet/callbacks.py:172: UserWarning: Best weights from best epoch are automatically used!\n",
      "  warnings.warn(wrn_msg)\n",
      "[I 2024-10-30 18:13:25,538] Trial 61 finished with value: 0.5082578582844965 and parameters: {'n_d': 52, 'n_a': 17, 'n_steps': 7, 'gamma': 1.3572832142953142, 'lambda_sparse': 0.06150751847014108, 'learning_rate': 0.041863628371554426}. Best is trial 4 with value: 0.5359616409163559.\n",
      "/home/gonken/anaconda3/envs/torch/lib/python3.12/site-packages/pytorch_tabnet/abstract_model.py:82: UserWarning: Device used : cuda\n",
      "  warnings.warn(f\"Device used : {self.device}\")\n"
     ]
    },
    {
     "name": "stdout",
     "output_type": "stream",
     "text": [
      "epoch 0  | loss: 1.18655 | test_accuracy: 0.51678 |  0:00:02s\n",
      "epoch 1  | loss: 0.79957 | test_accuracy: 0.50453 |  0:00:05s\n",
      "epoch 2  | loss: 0.7079  | test_accuracy: 0.47949 |  0:00:08s\n",
      "epoch 3  | loss: 0.68005 | test_accuracy: 0.49441 |  0:00:10s\n",
      "epoch 4  | loss: 0.6695  | test_accuracy: 0.50133 |  0:00:13s\n",
      "epoch 5  | loss: 0.67082 | test_accuracy: 0.51039 |  0:00:16s\n",
      "epoch 6  | loss: 0.6642  | test_accuracy: 0.51145 |  0:00:19s\n",
      "epoch 7  | loss: 0.66214 | test_accuracy: 0.51412 |  0:00:22s\n",
      "epoch 8  | loss: 0.65937 | test_accuracy: 0.50027 |  0:00:24s\n",
      "epoch 9  | loss: 0.65071 | test_accuracy: 0.50613 |  0:00:26s\n",
      "epoch 10 | loss: 0.6438  | test_accuracy: 0.49814 |  0:00:29s\n",
      "\n",
      "Early stopping occurred at epoch 10 with best_epoch = 0 and best_test_accuracy = 0.51678\n"
     ]
    },
    {
     "name": "stderr",
     "output_type": "stream",
     "text": [
      "/home/gonken/anaconda3/envs/torch/lib/python3.12/site-packages/pytorch_tabnet/callbacks.py:172: UserWarning: Best weights from best epoch are automatically used!\n",
      "  warnings.warn(wrn_msg)\n",
      "[I 2024-10-30 18:13:56,385] Trial 62 finished with value: 0.5167820990942994 and parameters: {'n_d': 55, 'n_a': 19, 'n_steps': 7, 'gamma': 1.3749782599009437, 'lambda_sparse': 0.07003707223943408, 'learning_rate': 0.012261657326532673}. Best is trial 4 with value: 0.5359616409163559.\n",
      "/home/gonken/anaconda3/envs/torch/lib/python3.12/site-packages/pytorch_tabnet/abstract_model.py:82: UserWarning: Device used : cuda\n",
      "  warnings.warn(f\"Device used : {self.device}\")\n"
     ]
    },
    {
     "name": "stdout",
     "output_type": "stream",
     "text": [
      "epoch 0  | loss: 1.0423  | test_accuracy: 0.50346 |  0:00:03s\n",
      "epoch 1  | loss: 0.91278 | test_accuracy: 0.50506 |  0:00:06s\n",
      "epoch 2  | loss: 0.81463 | test_accuracy: 0.48641 |  0:00:09s\n",
      "epoch 3  | loss: 0.78624 | test_accuracy: 0.49867 |  0:00:12s\n",
      "epoch 4  | loss: 0.75948 | test_accuracy: 0.48855 |  0:00:16s\n",
      "epoch 5  | loss: 0.75666 | test_accuracy: 0.50986 |  0:00:19s\n",
      "epoch 6  | loss: 0.72756 | test_accuracy: 0.52531 |  0:00:22s\n",
      "epoch 7  | loss: 0.69928 | test_accuracy: 0.48855 |  0:00:25s\n",
      "epoch 8  | loss: 0.67896 | test_accuracy: 0.49121 |  0:00:28s\n",
      "epoch 9  | loss: 0.67103 | test_accuracy: 0.48215 |  0:00:30s\n",
      "epoch 10 | loss: 0.67095 | test_accuracy: 0.49867 |  0:00:33s\n",
      "epoch 11 | loss: 0.66953 | test_accuracy: 0.50986 |  0:00:36s\n",
      "epoch 12 | loss: 0.66122 | test_accuracy: 0.49707 |  0:00:39s\n",
      "epoch 13 | loss: 0.65462 | test_accuracy: 0.48908 |  0:00:42s\n",
      "epoch 14 | loss: 0.65567 | test_accuracy: 0.49654 |  0:00:45s\n",
      "epoch 15 | loss: 0.65307 | test_accuracy: 0.49441 |  0:00:48s\n",
      "epoch 16 | loss: 0.65492 | test_accuracy: 0.52211 |  0:00:51s\n",
      "\n",
      "Early stopping occurred at epoch 16 with best_epoch = 6 and best_test_accuracy = 0.52531\n"
     ]
    },
    {
     "name": "stderr",
     "output_type": "stream",
     "text": [
      "/home/gonken/anaconda3/envs/torch/lib/python3.12/site-packages/pytorch_tabnet/callbacks.py:172: UserWarning: Best weights from best epoch are automatically used!\n",
      "  warnings.warn(wrn_msg)\n",
      "[I 2024-10-30 18:14:49,116] Trial 63 finished with value: 0.5253063399041022 and parameters: {'n_d': 51, 'n_a': 18, 'n_steps': 8, 'gamma': 1.5812359158877005, 'lambda_sparse': 0.05282341179560592, 'learning_rate': 0.004105922482282596}. Best is trial 4 with value: 0.5359616409163559.\n",
      "/home/gonken/anaconda3/envs/torch/lib/python3.12/site-packages/pytorch_tabnet/abstract_model.py:82: UserWarning: Device used : cuda\n",
      "  warnings.warn(f\"Device used : {self.device}\")\n"
     ]
    },
    {
     "name": "stdout",
     "output_type": "stream",
     "text": [
      "epoch 0  | loss: 1.83225 | test_accuracy: 0.49387 |  0:00:03s\n",
      "epoch 1  | loss: 0.88446 | test_accuracy: 0.51359 |  0:00:06s\n",
      "epoch 2  | loss: 0.83835 | test_accuracy: 0.504   |  0:00:10s\n",
      "epoch 3  | loss: 0.8767  | test_accuracy: 0.4992  |  0:00:13s\n",
      "epoch 4  | loss: 0.77675 | test_accuracy: 0.51252 |  0:00:16s\n",
      "epoch 5  | loss: 0.75838 | test_accuracy: 0.50293 |  0:00:19s\n",
      "epoch 6  | loss: 0.71755 | test_accuracy: 0.51625 |  0:00:23s\n",
      "epoch 7  | loss: 0.73163 | test_accuracy: 0.5269  |  0:00:26s\n",
      "epoch 8  | loss: 0.70431 | test_accuracy: 0.50559 |  0:00:29s\n",
      "epoch 9  | loss: 0.69581 | test_accuracy: 0.48641 |  0:00:32s\n",
      "epoch 10 | loss: 0.68525 | test_accuracy: 0.49867 |  0:00:36s\n",
      "epoch 11 | loss: 0.68171 | test_accuracy: 0.5024  |  0:00:39s\n",
      "epoch 12 | loss: 0.68021 | test_accuracy: 0.496   |  0:00:42s\n",
      "epoch 13 | loss: 0.66732 | test_accuracy: 0.49174 |  0:00:45s\n",
      "epoch 14 | loss: 0.66441 | test_accuracy: 0.49494 |  0:00:49s\n",
      "epoch 15 | loss: 0.66677 | test_accuracy: 0.50293 |  0:00:52s\n",
      "epoch 16 | loss: 0.66781 | test_accuracy: 0.50506 |  0:00:55s\n",
      "epoch 17 | loss: 0.66319 | test_accuracy: 0.49068 |  0:00:59s\n",
      "\n",
      "Early stopping occurred at epoch 17 with best_epoch = 7 and best_test_accuracy = 0.5269\n"
     ]
    },
    {
     "name": "stderr",
     "output_type": "stream",
     "text": [
      "/home/gonken/anaconda3/envs/torch/lib/python3.12/site-packages/pytorch_tabnet/callbacks.py:172: UserWarning: Best weights from best epoch are automatically used!\n",
      "  warnings.warn(wrn_msg)\n",
      "[I 2024-10-30 18:15:49,811] Trial 64 finished with value: 0.5269046350559403 and parameters: {'n_d': 48, 'n_a': 15, 'n_steps': 9, 'gamma': 1.5750375138520962, 'lambda_sparse': 0.05186775230117499, 'learning_rate': 0.004147608721923569}. Best is trial 4 with value: 0.5359616409163559.\n",
      "/home/gonken/anaconda3/envs/torch/lib/python3.12/site-packages/pytorch_tabnet/abstract_model.py:82: UserWarning: Device used : cuda\n",
      "  warnings.warn(f\"Device used : {self.device}\")\n"
     ]
    },
    {
     "name": "stdout",
     "output_type": "stream",
     "text": [
      "epoch 0  | loss: 0.99586 | test_accuracy: 0.48588 |  0:00:03s\n",
      "epoch 1  | loss: 0.88572 | test_accuracy: 0.48855 |  0:00:06s\n",
      "epoch 2  | loss: 0.80878 | test_accuracy: 0.49814 |  0:00:10s\n",
      "epoch 3  | loss: 0.77636 | test_accuracy: 0.50186 |  0:00:13s\n",
      "epoch 4  | loss: 0.73673 | test_accuracy: 0.49281 |  0:00:16s\n",
      "epoch 5  | loss: 0.73864 | test_accuracy: 0.50453 |  0:00:20s\n",
      "epoch 6  | loss: 0.7248  | test_accuracy: 0.50506 |  0:00:23s\n",
      "epoch 7  | loss: 0.72314 | test_accuracy: 0.49867 |  0:00:26s\n",
      "epoch 8  | loss: 0.7043  | test_accuracy: 0.5024  |  0:00:29s\n",
      "epoch 9  | loss: 0.68929 | test_accuracy: 0.51305 |  0:00:33s\n",
      "epoch 10 | loss: 0.68411 | test_accuracy: 0.51039 |  0:00:36s\n",
      "epoch 11 | loss: 0.67293 | test_accuracy: 0.49867 |  0:00:39s\n",
      "epoch 12 | loss: 0.67735 | test_accuracy: 0.50506 |  0:00:42s\n",
      "epoch 13 | loss: 0.6849  | test_accuracy: 0.496   |  0:00:46s\n",
      "epoch 14 | loss: 0.66407 | test_accuracy: 0.50293 |  0:00:49s\n",
      "epoch 15 | loss: 0.66397 | test_accuracy: 0.50346 |  0:00:52s\n",
      "epoch 16 | loss: 0.65644 | test_accuracy: 0.50986 |  0:00:55s\n",
      "epoch 17 | loss: 0.66078 | test_accuracy: 0.49174 |  0:00:58s\n",
      "epoch 18 | loss: 0.65081 | test_accuracy: 0.50986 |  0:01:01s\n",
      "epoch 19 | loss: 0.64453 | test_accuracy: 0.49867 |  0:01:04s\n",
      "\n",
      "Early stopping occurred at epoch 19 with best_epoch = 9 and best_test_accuracy = 0.51305\n"
     ]
    },
    {
     "name": "stderr",
     "output_type": "stream",
     "text": [
      "/home/gonken/anaconda3/envs/torch/lib/python3.12/site-packages/pytorch_tabnet/callbacks.py:172: UserWarning: Best weights from best epoch are automatically used!\n",
      "  warnings.warn(wrn_msg)\n",
      "[I 2024-10-30 18:16:56,189] Trial 65 finished with value: 0.5130527437400106 and parameters: {'n_d': 46, 'n_a': 8, 'n_steps': 9, 'gamma': 1.6155514879703008, 'lambda_sparse': 0.052075160705118535, 'learning_rate': 0.0038003903554148944}. Best is trial 4 with value: 0.5359616409163559.\n",
      "/home/gonken/anaconda3/envs/torch/lib/python3.12/site-packages/pytorch_tabnet/abstract_model.py:82: UserWarning: Device used : cuda\n",
      "  warnings.warn(f\"Device used : {self.device}\")\n"
     ]
    },
    {
     "name": "stdout",
     "output_type": "stream",
     "text": [
      "epoch 0  | loss: 1.26766 | test_accuracy: 0.50133 |  0:00:03s\n",
      "epoch 1  | loss: 0.91856 | test_accuracy: 0.50932 |  0:00:06s\n",
      "epoch 2  | loss: 0.85509 | test_accuracy: 0.48855 |  0:00:09s\n",
      "epoch 3  | loss: 0.80477 | test_accuracy: 0.50826 |  0:00:12s\n",
      "epoch 4  | loss: 0.79124 | test_accuracy: 0.48482 |  0:00:15s\n",
      "epoch 5  | loss: 0.78646 | test_accuracy: 0.49547 |  0:00:19s\n",
      "epoch 6  | loss: 0.76863 | test_accuracy: 0.51305 |  0:00:22s\n",
      "epoch 7  | loss: 0.73304 | test_accuracy: 0.49387 |  0:00:25s\n",
      "epoch 8  | loss: 0.77966 | test_accuracy: 0.50666 |  0:00:28s\n",
      "epoch 9  | loss: 0.73638 | test_accuracy: 0.49174 |  0:00:32s\n",
      "epoch 10 | loss: 0.74173 | test_accuracy: 0.504   |  0:00:34s\n",
      "epoch 11 | loss: 0.72263 | test_accuracy: 0.50559 |  0:00:38s\n",
      "epoch 12 | loss: 0.72689 | test_accuracy: 0.52104 |  0:00:41s\n",
      "epoch 13 | loss: 0.73152 | test_accuracy: 0.52158 |  0:00:44s\n",
      "epoch 14 | loss: 0.71908 | test_accuracy: 0.50506 |  0:00:48s\n",
      "epoch 15 | loss: 0.72225 | test_accuracy: 0.52318 |  0:00:51s\n",
      "epoch 16 | loss: 0.71636 | test_accuracy: 0.50133 |  0:00:54s\n",
      "epoch 17 | loss: 0.7037  | test_accuracy: 0.51039 |  0:00:58s\n",
      "epoch 18 | loss: 0.71111 | test_accuracy: 0.5008  |  0:01:01s\n",
      "epoch 19 | loss: 0.71733 | test_accuracy: 0.51252 |  0:01:04s\n",
      "epoch 20 | loss: 0.70559 | test_accuracy: 0.49227 |  0:01:08s\n",
      "epoch 21 | loss: 0.69912 | test_accuracy: 0.49814 |  0:01:11s\n",
      "epoch 22 | loss: 0.6976  | test_accuracy: 0.49654 |  0:01:14s\n",
      "epoch 23 | loss: 0.69719 | test_accuracy: 0.49814 |  0:01:18s\n",
      "epoch 24 | loss: 0.69774 | test_accuracy: 0.52477 |  0:01:21s\n",
      "epoch 25 | loss: 0.69082 | test_accuracy: 0.5024  |  0:01:24s\n",
      "epoch 26 | loss: 0.6945  | test_accuracy: 0.50186 |  0:01:27s\n",
      "epoch 27 | loss: 0.68379 | test_accuracy: 0.49867 |  0:01:30s\n",
      "epoch 28 | loss: 0.69135 | test_accuracy: 0.49494 |  0:01:34s\n",
      "epoch 29 | loss: 0.68501 | test_accuracy: 0.49973 |  0:01:37s\n",
      "epoch 30 | loss: 0.67952 | test_accuracy: 0.50186 |  0:01:40s\n",
      "epoch 31 | loss: 0.68414 | test_accuracy: 0.52318 |  0:01:44s\n",
      "epoch 32 | loss: 0.68312 | test_accuracy: 0.49654 |  0:01:47s\n",
      "epoch 33 | loss: 0.6787  | test_accuracy: 0.49973 |  0:01:50s\n",
      "epoch 34 | loss: 0.67692 | test_accuracy: 0.50613 |  0:01:54s\n",
      "\n",
      "Early stopping occurred at epoch 34 with best_epoch = 24 and best_test_accuracy = 0.52477\n"
     ]
    },
    {
     "name": "stderr",
     "output_type": "stream",
     "text": [
      "/home/gonken/anaconda3/envs/torch/lib/python3.12/site-packages/pytorch_tabnet/callbacks.py:172: UserWarning: Best weights from best epoch are automatically used!\n",
      "  warnings.warn(wrn_msg)\n",
      "[I 2024-10-30 18:18:52,129] Trial 66 finished with value: 0.5247735748534896 and parameters: {'n_d': 42, 'n_a': 15, 'n_steps': 9, 'gamma': 1.5947966360961718, 'lambda_sparse': 0.06418730093013285, 'learning_rate': 0.0014774229504046902}. Best is trial 4 with value: 0.5359616409163559.\n",
      "/home/gonken/anaconda3/envs/torch/lib/python3.12/site-packages/pytorch_tabnet/abstract_model.py:82: UserWarning: Device used : cuda\n",
      "  warnings.warn(f\"Device used : {self.device}\")\n"
     ]
    },
    {
     "name": "stdout",
     "output_type": "stream",
     "text": [
      "epoch 0  | loss: 1.23223 | test_accuracy: 0.504   |  0:00:03s\n",
      "epoch 1  | loss: 0.88116 | test_accuracy: 0.50986 |  0:00:06s\n",
      "epoch 2  | loss: 0.82347 | test_accuracy: 0.52318 |  0:00:09s\n",
      "epoch 3  | loss: 0.83834 | test_accuracy: 0.49014 |  0:00:13s\n",
      "epoch 4  | loss: 0.7627  | test_accuracy: 0.51625 |  0:00:16s\n",
      "epoch 5  | loss: 0.77296 | test_accuracy: 0.48428 |  0:00:19s\n",
      "epoch 6  | loss: 0.76273 | test_accuracy: 0.49973 |  0:00:22s\n",
      "epoch 7  | loss: 0.74357 | test_accuracy: 0.49654 |  0:00:25s\n",
      "epoch 8  | loss: 0.72403 | test_accuracy: 0.51252 |  0:00:28s\n",
      "epoch 9  | loss: 0.72343 | test_accuracy: 0.496   |  0:00:32s\n",
      "epoch 10 | loss: 0.73029 | test_accuracy: 0.50133 |  0:00:35s\n",
      "epoch 11 | loss: 0.71329 | test_accuracy: 0.5008  |  0:00:38s\n",
      "epoch 12 | loss: 0.70296 | test_accuracy: 0.49121 |  0:00:41s\n",
      "\n",
      "Early stopping occurred at epoch 12 with best_epoch = 2 and best_test_accuracy = 0.52318\n"
     ]
    },
    {
     "name": "stderr",
     "output_type": "stream",
     "text": [
      "/home/gonken/anaconda3/envs/torch/lib/python3.12/site-packages/pytorch_tabnet/callbacks.py:172: UserWarning: Best weights from best epoch are automatically used!\n",
      "  warnings.warn(wrn_msg)\n",
      "[I 2024-10-30 18:19:35,486] Trial 67 finished with value: 0.5231752797016516 and parameters: {'n_d': 42, 'n_a': 15, 'n_steps': 9, 'gamma': 1.6469203997321107, 'lambda_sparse': 0.058539297778864935, 'learning_rate': 0.001654471078299675}. Best is trial 4 with value: 0.5359616409163559.\n",
      "/home/gonken/anaconda3/envs/torch/lib/python3.12/site-packages/pytorch_tabnet/abstract_model.py:82: UserWarning: Device used : cuda\n",
      "  warnings.warn(f\"Device used : {self.device}\")\n"
     ]
    },
    {
     "name": "stdout",
     "output_type": "stream",
     "text": [
      "epoch 0  | loss: 1.16015 | test_accuracy: 0.50506 |  0:00:03s\n",
      "epoch 1  | loss: 0.98182 | test_accuracy: 0.49334 |  0:00:07s\n",
      "epoch 2  | loss: 1.01279 | test_accuracy: 0.51039 |  0:00:10s\n",
      "epoch 3  | loss: 0.85944 | test_accuracy: 0.50826 |  0:00:14s\n",
      "epoch 4  | loss: 0.84561 | test_accuracy: 0.5024  |  0:00:17s\n",
      "epoch 5  | loss: 0.81395 | test_accuracy: 0.47256 |  0:00:20s\n",
      "epoch 6  | loss: 0.76621 | test_accuracy: 0.51998 |  0:00:24s\n",
      "epoch 7  | loss: 0.76818 | test_accuracy: 0.48748 |  0:00:27s\n",
      "epoch 8  | loss: 0.73717 | test_accuracy: 0.496   |  0:00:31s\n",
      "epoch 9  | loss: 0.72121 | test_accuracy: 0.50773 |  0:00:35s\n",
      "epoch 10 | loss: 0.70122 | test_accuracy: 0.504   |  0:00:38s\n",
      "epoch 11 | loss: 0.69078 | test_accuracy: 0.50613 |  0:00:42s\n",
      "epoch 12 | loss: 0.68778 | test_accuracy: 0.49334 |  0:00:45s\n",
      "epoch 13 | loss: 0.68327 | test_accuracy: 0.50186 |  0:00:49s\n",
      "epoch 14 | loss: 0.66742 | test_accuracy: 0.50559 |  0:00:52s\n",
      "epoch 15 | loss: 0.66953 | test_accuracy: 0.50666 |  0:00:56s\n",
      "epoch 16 | loss: 0.65658 | test_accuracy: 0.5024  |  0:01:00s\n",
      "\n",
      "Early stopping occurred at epoch 16 with best_epoch = 6 and best_test_accuracy = 0.51998\n"
     ]
    },
    {
     "name": "stderr",
     "output_type": "stream",
     "text": [
      "/home/gonken/anaconda3/envs/torch/lib/python3.12/site-packages/pytorch_tabnet/callbacks.py:172: UserWarning: Best weights from best epoch are automatically used!\n",
      "  warnings.warn(wrn_msg)\n",
      "[I 2024-10-30 18:20:37,296] Trial 68 finished with value: 0.5199786893979755 and parameters: {'n_d': 44, 'n_a': 11, 'n_steps': 10, 'gamma': 1.5718849214837398, 'lambda_sparse': 0.06673901206488878, 'learning_rate': 0.004113455500249547}. Best is trial 4 with value: 0.5359616409163559.\n",
      "/home/gonken/anaconda3/envs/torch/lib/python3.12/site-packages/pytorch_tabnet/abstract_model.py:82: UserWarning: Device used : cuda\n",
      "  warnings.warn(f\"Device used : {self.device}\")\n"
     ]
    },
    {
     "name": "stdout",
     "output_type": "stream",
     "text": [
      "epoch 0  | loss: 2.51396 | test_accuracy: 0.49654 |  0:00:03s\n",
      "epoch 1  | loss: 1.14185 | test_accuracy: 0.47523 |  0:00:06s\n",
      "epoch 2  | loss: 0.88689 | test_accuracy: 0.49494 |  0:00:09s\n",
      "epoch 3  | loss: 0.80444 | test_accuracy: 0.4992  |  0:00:12s\n",
      "epoch 4  | loss: 0.77057 | test_accuracy: 0.50027 |  0:00:16s\n",
      "epoch 5  | loss: 0.75372 | test_accuracy: 0.49227 |  0:00:19s\n",
      "epoch 6  | loss: 0.73404 | test_accuracy: 0.50293 |  0:00:22s\n",
      "epoch 7  | loss: 0.7212  | test_accuracy: 0.504   |  0:00:26s\n",
      "epoch 8  | loss: 0.72651 | test_accuracy: 0.50773 |  0:00:29s\n",
      "epoch 9  | loss: 0.72661 | test_accuracy: 0.48961 |  0:00:33s\n",
      "epoch 10 | loss: 0.72132 | test_accuracy: 0.49014 |  0:00:36s\n",
      "epoch 11 | loss: 0.71093 | test_accuracy: 0.49334 |  0:00:38s\n",
      "epoch 12 | loss: 0.69776 | test_accuracy: 0.49334 |  0:00:42s\n",
      "epoch 13 | loss: 0.6967  | test_accuracy: 0.49547 |  0:00:44s\n",
      "epoch 14 | loss: 0.69873 | test_accuracy: 0.48375 |  0:00:48s\n",
      "epoch 15 | loss: 0.68879 | test_accuracy: 0.48695 |  0:00:51s\n",
      "epoch 16 | loss: 0.69849 | test_accuracy: 0.49654 |  0:00:54s\n",
      "epoch 17 | loss: 0.69384 | test_accuracy: 0.51252 |  0:00:57s\n",
      "epoch 18 | loss: 0.69536 | test_accuracy: 0.51412 |  0:01:00s\n",
      "epoch 19 | loss: 0.68932 | test_accuracy: 0.49281 |  0:01:03s\n",
      "epoch 20 | loss: 0.68805 | test_accuracy: 0.49387 |  0:01:07s\n",
      "epoch 21 | loss: 0.68721 | test_accuracy: 0.50613 |  0:01:10s\n",
      "epoch 22 | loss: 0.69545 | test_accuracy: 0.49441 |  0:01:13s\n",
      "epoch 23 | loss: 0.68552 | test_accuracy: 0.50186 |  0:01:17s\n",
      "epoch 24 | loss: 0.68387 | test_accuracy: 0.50986 |  0:01:20s\n",
      "epoch 25 | loss: 0.67473 | test_accuracy: 0.48162 |  0:01:23s\n",
      "epoch 26 | loss: 0.67523 | test_accuracy: 0.5008  |  0:01:27s\n",
      "epoch 27 | loss: 0.67118 | test_accuracy: 0.50613 |  0:01:30s\n",
      "epoch 28 | loss: 0.67897 | test_accuracy: 0.49121 |  0:01:33s\n",
      "\n",
      "Early stopping occurred at epoch 28 with best_epoch = 18 and best_test_accuracy = 0.51412\n"
     ]
    },
    {
     "name": "stderr",
     "output_type": "stream",
     "text": [
      "/home/gonken/anaconda3/envs/torch/lib/python3.12/site-packages/pytorch_tabnet/callbacks.py:172: UserWarning: Best weights from best epoch are automatically used!\n",
      "  warnings.warn(wrn_msg)\n",
      "[I 2024-10-30 18:22:12,403] Trial 69 finished with value: 0.514118273841236 and parameters: {'n_d': 38, 'n_a': 14, 'n_steps': 9, 'gamma': 1.5103357758270586, 'lambda_sparse': 0.05589249215365956, 'learning_rate': 0.0009243268841022225}. Best is trial 4 with value: 0.5359616409163559.\n",
      "/home/gonken/anaconda3/envs/torch/lib/python3.12/site-packages/pytorch_tabnet/abstract_model.py:82: UserWarning: Device used : cuda\n",
      "  warnings.warn(f\"Device used : {self.device}\")\n"
     ]
    },
    {
     "name": "stdout",
     "output_type": "stream",
     "text": [
      "epoch 0  | loss: 2.48973 | test_accuracy: 0.48055 |  0:00:03s\n",
      "epoch 1  | loss: 0.89047 | test_accuracy: 0.49814 |  0:00:05s\n",
      "epoch 2  | loss: 0.78455 | test_accuracy: 0.5008  |  0:00:08s\n",
      "epoch 3  | loss: 0.74758 | test_accuracy: 0.48375 |  0:00:11s\n",
      "epoch 4  | loss: 0.74531 | test_accuracy: 0.50346 |  0:00:14s\n",
      "epoch 5  | loss: 0.74919 | test_accuracy: 0.51252 |  0:00:16s\n",
      "epoch 6  | loss: 0.73696 | test_accuracy: 0.50826 |  0:00:20s\n",
      "epoch 7  | loss: 0.71755 | test_accuracy: 0.50293 |  0:00:23s\n",
      "epoch 8  | loss: 0.72071 | test_accuracy: 0.51518 |  0:00:25s\n",
      "epoch 9  | loss: 0.72071 | test_accuracy: 0.49494 |  0:00:28s\n",
      "epoch 10 | loss: 0.69951 | test_accuracy: 0.51572 |  0:00:31s\n",
      "epoch 11 | loss: 0.7013  | test_accuracy: 0.50826 |  0:00:34s\n",
      "epoch 12 | loss: 0.6935  | test_accuracy: 0.51891 |  0:00:37s\n",
      "epoch 13 | loss: 0.69566 | test_accuracy: 0.49814 |  0:00:40s\n",
      "epoch 14 | loss: 0.68348 | test_accuracy: 0.48482 |  0:00:43s\n",
      "epoch 15 | loss: 0.67878 | test_accuracy: 0.50506 |  0:00:47s\n",
      "epoch 16 | loss: 0.67749 | test_accuracy: 0.49973 |  0:00:50s\n",
      "epoch 17 | loss: 0.67662 | test_accuracy: 0.50453 |  0:00:52s\n",
      "epoch 18 | loss: 0.67457 | test_accuracy: 0.50506 |  0:00:56s\n",
      "epoch 19 | loss: 0.67159 | test_accuracy: 0.5269  |  0:00:59s\n",
      "epoch 20 | loss: 0.67158 | test_accuracy: 0.5008  |  0:01:02s\n",
      "epoch 21 | loss: 0.66878 | test_accuracy: 0.50186 |  0:01:05s\n",
      "epoch 22 | loss: 0.66182 | test_accuracy: 0.50506 |  0:01:08s\n",
      "epoch 23 | loss: 0.66675 | test_accuracy: 0.50293 |  0:01:11s\n",
      "epoch 24 | loss: 0.66111 | test_accuracy: 0.50932 |  0:01:14s\n",
      "epoch 25 | loss: 0.65747 | test_accuracy: 0.49121 |  0:01:17s\n",
      "epoch 26 | loss: 0.65662 | test_accuracy: 0.496   |  0:01:20s\n",
      "epoch 27 | loss: 0.65661 | test_accuracy: 0.48109 |  0:01:23s\n",
      "epoch 28 | loss: 0.65192 | test_accuracy: 0.49973 |  0:01:26s\n",
      "epoch 29 | loss: 0.65492 | test_accuracy: 0.49547 |  0:01:29s\n",
      "\n",
      "Early stopping occurred at epoch 29 with best_epoch = 19 and best_test_accuracy = 0.5269\n"
     ]
    },
    {
     "name": "stderr",
     "output_type": "stream",
     "text": [
      "/home/gonken/anaconda3/envs/torch/lib/python3.12/site-packages/pytorch_tabnet/callbacks.py:172: UserWarning: Best weights from best epoch are automatically used!\n",
      "  warnings.warn(wrn_msg)\n",
      "[I 2024-10-30 18:23:42,912] Trial 70 finished with value: 0.5269046350559403 and parameters: {'n_d': 49, 'n_a': 17, 'n_steps': 8, 'gamma': 1.6409890949864983, 'lambda_sparse': 0.05131858450551153, 'learning_rate': 0.001883552642072308}. Best is trial 4 with value: 0.5359616409163559.\n",
      "/home/gonken/anaconda3/envs/torch/lib/python3.12/site-packages/pytorch_tabnet/abstract_model.py:82: UserWarning: Device used : cuda\n",
      "  warnings.warn(f\"Device used : {self.device}\")\n"
     ]
    },
    {
     "name": "stdout",
     "output_type": "stream",
     "text": [
      "epoch 0  | loss: 1.54672 | test_accuracy: 0.50719 |  0:00:02s\n",
      "epoch 1  | loss: 0.8817  | test_accuracy: 0.50932 |  0:00:05s\n",
      "epoch 2  | loss: 0.77021 | test_accuracy: 0.4976  |  0:00:08s\n",
      "epoch 3  | loss: 0.73365 | test_accuracy: 0.49867 |  0:00:11s\n",
      "epoch 4  | loss: 0.70015 | test_accuracy: 0.50613 |  0:00:14s\n",
      "epoch 5  | loss: 0.67936 | test_accuracy: 0.51252 |  0:00:17s\n",
      "epoch 6  | loss: 0.68429 | test_accuracy: 0.51092 |  0:00:20s\n",
      "epoch 7  | loss: 0.67482 | test_accuracy: 0.50826 |  0:00:23s\n",
      "epoch 8  | loss: 0.65694 | test_accuracy: 0.50346 |  0:00:26s\n",
      "epoch 9  | loss: 0.65838 | test_accuracy: 0.49867 |  0:00:29s\n",
      "epoch 10 | loss: 0.65599 | test_accuracy: 0.50453 |  0:00:32s\n",
      "epoch 11 | loss: 0.65328 | test_accuracy: 0.48695 |  0:00:35s\n",
      "epoch 12 | loss: 0.64977 | test_accuracy: 0.51359 |  0:00:37s\n",
      "epoch 13 | loss: 0.64858 | test_accuracy: 0.51199 |  0:00:40s\n",
      "epoch 14 | loss: 0.64408 | test_accuracy: 0.50826 |  0:00:43s\n",
      "epoch 15 | loss: 0.6443  | test_accuracy: 0.50133 |  0:00:46s\n",
      "epoch 16 | loss: 0.64133 | test_accuracy: 0.50346 |  0:00:49s\n",
      "epoch 17 | loss: 0.63884 | test_accuracy: 0.49547 |  0:00:52s\n",
      "epoch 18 | loss: 0.63522 | test_accuracy: 0.50293 |  0:00:55s\n",
      "epoch 19 | loss: 0.63682 | test_accuracy: 0.50293 |  0:00:58s\n",
      "epoch 20 | loss: 0.63554 | test_accuracy: 0.50453 |  0:01:01s\n",
      "epoch 21 | loss: 0.63875 | test_accuracy: 0.5008  |  0:01:04s\n",
      "epoch 22 | loss: 0.63457 | test_accuracy: 0.51625 |  0:01:07s\n",
      "epoch 23 | loss: 0.63765 | test_accuracy: 0.50932 |  0:01:10s\n",
      "epoch 24 | loss: 0.63564 | test_accuracy: 0.49441 |  0:01:13s\n",
      "epoch 25 | loss: 0.6376  | test_accuracy: 0.51145 |  0:01:16s\n",
      "epoch 26 | loss: 0.63258 | test_accuracy: 0.51465 |  0:01:19s\n",
      "epoch 27 | loss: 0.63254 | test_accuracy: 0.5024  |  0:01:22s\n",
      "epoch 28 | loss: 0.6296  | test_accuracy: 0.50773 |  0:01:26s\n",
      "epoch 29 | loss: 0.62957 | test_accuracy: 0.50186 |  0:01:29s\n",
      "epoch 30 | loss: 0.63044 | test_accuracy: 0.49387 |  0:01:31s\n",
      "epoch 31 | loss: 0.63047 | test_accuracy: 0.50506 |  0:01:35s\n",
      "epoch 32 | loss: 0.62981 | test_accuracy: 0.50293 |  0:01:37s\n",
      "\n",
      "Early stopping occurred at epoch 32 with best_epoch = 22 and best_test_accuracy = 0.51625\n"
     ]
    },
    {
     "name": "stderr",
     "output_type": "stream",
     "text": [
      "/home/gonken/anaconda3/envs/torch/lib/python3.12/site-packages/pytorch_tabnet/callbacks.py:172: UserWarning: Best weights from best epoch are automatically used!\n",
      "  warnings.warn(wrn_msg)\n",
      "[I 2024-10-30 18:25:22,329] Trial 71 finished with value: 0.5162493340436868 and parameters: {'n_d': 49, 'n_a': 17, 'n_steps': 8, 'gamma': 1.6348707575571206, 'lambda_sparse': 0.06397971216552673, 'learning_rate': 0.005740400193142467}. Best is trial 4 with value: 0.5359616409163559.\n",
      "/home/gonken/anaconda3/envs/torch/lib/python3.12/site-packages/pytorch_tabnet/abstract_model.py:82: UserWarning: Device used : cuda\n",
      "  warnings.warn(f\"Device used : {self.device}\")\n"
     ]
    },
    {
     "name": "stdout",
     "output_type": "stream",
     "text": [
      "epoch 0  | loss: 1.16919 | test_accuracy: 0.49547 |  0:00:03s\n",
      "epoch 1  | loss: 0.84932 | test_accuracy: 0.504   |  0:00:06s\n",
      "epoch 2  | loss: 0.80961 | test_accuracy: 0.51731 |  0:00:09s\n",
      "epoch 3  | loss: 0.83718 | test_accuracy: 0.49654 |  0:00:13s\n",
      "epoch 4  | loss: 0.79696 | test_accuracy: 0.504   |  0:00:16s\n",
      "epoch 5  | loss: 0.74727 | test_accuracy: 0.50559 |  0:00:19s\n",
      "epoch 6  | loss: 0.73657 | test_accuracy: 0.50133 |  0:00:22s\n",
      "epoch 7  | loss: 0.78359 | test_accuracy: 0.5024  |  0:00:26s\n",
      "epoch 8  | loss: 0.78977 | test_accuracy: 0.496   |  0:00:29s\n",
      "epoch 9  | loss: 0.71972 | test_accuracy: 0.50186 |  0:00:32s\n",
      "epoch 10 | loss: 0.72808 | test_accuracy: 0.50613 |  0:00:35s\n",
      "epoch 11 | loss: 0.72121 | test_accuracy: 0.50719 |  0:00:38s\n",
      "epoch 12 | loss: 0.71346 | test_accuracy: 0.496   |  0:00:42s\n",
      "\n",
      "Early stopping occurred at epoch 12 with best_epoch = 2 and best_test_accuracy = 0.51731\n"
     ]
    },
    {
     "name": "stderr",
     "output_type": "stream",
     "text": [
      "/home/gonken/anaconda3/envs/torch/lib/python3.12/site-packages/pytorch_tabnet/callbacks.py:172: UserWarning: Best weights from best epoch are automatically used!\n",
      "  warnings.warn(wrn_msg)\n",
      "[I 2024-10-30 18:26:06,414] Trial 72 finished with value: 0.5173148641449121 and parameters: {'n_d': 48, 'n_a': 11, 'n_steps': 9, 'gamma': 1.5901812408156826, 'lambda_sparse': 0.052734857402913546, 'learning_rate': 0.0022562994140400672}. Best is trial 4 with value: 0.5359616409163559.\n",
      "/home/gonken/anaconda3/envs/torch/lib/python3.12/site-packages/pytorch_tabnet/abstract_model.py:82: UserWarning: Device used : cuda\n",
      "  warnings.warn(f\"Device used : {self.device}\")\n"
     ]
    },
    {
     "name": "stdout",
     "output_type": "stream",
     "text": [
      "epoch 0  | loss: 1.12235 | test_accuracy: 0.49387 |  0:00:02s\n",
      "epoch 1  | loss: 0.70644 | test_accuracy: 0.50559 |  0:00:05s\n",
      "epoch 2  | loss: 0.67846 | test_accuracy: 0.48375 |  0:00:08s\n",
      "epoch 3  | loss: 0.67564 | test_accuracy: 0.49387 |  0:00:11s\n",
      "epoch 4  | loss: 0.67229 | test_accuracy: 0.50133 |  0:00:14s\n",
      "epoch 5  | loss: 0.66458 | test_accuracy: 0.50719 |  0:00:17s\n",
      "epoch 6  | loss: 0.66625 | test_accuracy: 0.49547 |  0:00:20s\n",
      "epoch 7  | loss: 0.66592 | test_accuracy: 0.48961 |  0:00:23s\n",
      "epoch 8  | loss: 0.66648 | test_accuracy: 0.49174 |  0:00:26s\n",
      "epoch 9  | loss: 0.66702 | test_accuracy: 0.49334 |  0:00:29s\n",
      "epoch 10 | loss: 0.66902 | test_accuracy: 0.48588 |  0:00:32s\n",
      "epoch 11 | loss: 0.6678  | test_accuracy: 0.49494 |  0:00:35s\n",
      "epoch 12 | loss: 0.67122 | test_accuracy: 0.49387 |  0:00:38s\n",
      "epoch 13 | loss: 0.66367 | test_accuracy: 0.48801 |  0:00:41s\n",
      "epoch 14 | loss: 0.66337 | test_accuracy: 0.49547 |  0:00:44s\n",
      "epoch 15 | loss: 0.6575  | test_accuracy: 0.49547 |  0:00:47s\n",
      "\n",
      "Early stopping occurred at epoch 15 with best_epoch = 5 and best_test_accuracy = 0.50719\n"
     ]
    },
    {
     "name": "stderr",
     "output_type": "stream",
     "text": [
      "/home/gonken/anaconda3/envs/torch/lib/python3.12/site-packages/pytorch_tabnet/callbacks.py:172: UserWarning: Best weights from best epoch are automatically used!\n",
      "  warnings.warn(wrn_msg)\n",
      "[I 2024-10-30 18:26:55,394] Trial 73 finished with value: 0.5071923281832712 and parameters: {'n_d': 32, 'n_a': 9, 'n_steps': 8, 'gamma': 1.7301903611827931, 'lambda_sparse': 0.050493420217747664, 'learning_rate': 0.022954876871780175}. Best is trial 4 with value: 0.5359616409163559.\n",
      "/home/gonken/anaconda3/envs/torch/lib/python3.12/site-packages/pytorch_tabnet/abstract_model.py:82: UserWarning: Device used : cuda\n",
      "  warnings.warn(f\"Device used : {self.device}\")\n"
     ]
    },
    {
     "name": "stdout",
     "output_type": "stream",
     "text": [
      "epoch 0  | loss: 1.27767 | test_accuracy: 0.49334 |  0:00:02s\n",
      "epoch 1  | loss: 0.86121 | test_accuracy: 0.49014 |  0:00:06s\n",
      "epoch 2  | loss: 0.7967  | test_accuracy: 0.496   |  0:00:09s\n",
      "epoch 3  | loss: 0.7918  | test_accuracy: 0.48428 |  0:00:12s\n",
      "epoch 4  | loss: 0.75402 | test_accuracy: 0.49973 |  0:00:15s\n",
      "epoch 5  | loss: 0.75226 | test_accuracy: 0.49334 |  0:00:17s\n",
      "epoch 6  | loss: 0.75962 | test_accuracy: 0.49068 |  0:00:20s\n",
      "epoch 7  | loss: 0.72844 | test_accuracy: 0.49334 |  0:00:23s\n",
      "epoch 8  | loss: 0.73478 | test_accuracy: 0.50133 |  0:00:26s\n",
      "epoch 9  | loss: 0.71653 | test_accuracy: 0.50186 |  0:00:29s\n",
      "epoch 10 | loss: 0.71316 | test_accuracy: 0.52051 |  0:00:32s\n",
      "epoch 11 | loss: 0.7086  | test_accuracy: 0.50027 |  0:00:35s\n",
      "epoch 12 | loss: 0.71004 | test_accuracy: 0.5008  |  0:00:38s\n",
      "epoch 13 | loss: 0.70491 | test_accuracy: 0.50346 |  0:00:41s\n",
      "epoch 14 | loss: 0.70438 | test_accuracy: 0.51465 |  0:00:44s\n",
      "epoch 15 | loss: 0.68781 | test_accuracy: 0.47523 |  0:00:47s\n",
      "epoch 16 | loss: 0.69831 | test_accuracy: 0.50879 |  0:00:50s\n",
      "epoch 17 | loss: 0.6913  | test_accuracy: 0.51891 |  0:00:53s\n",
      "epoch 18 | loss: 0.69246 | test_accuracy: 0.50346 |  0:00:56s\n",
      "epoch 19 | loss: 0.67725 | test_accuracy: 0.50559 |  0:00:59s\n",
      "epoch 20 | loss: 0.67374 | test_accuracy: 0.52637 |  0:01:01s\n",
      "epoch 21 | loss: 0.67806 | test_accuracy: 0.50719 |  0:01:04s\n",
      "epoch 22 | loss: 0.69169 | test_accuracy: 0.50666 |  0:01:07s\n",
      "epoch 23 | loss: 0.67276 | test_accuracy: 0.4976  |  0:01:10s\n",
      "epoch 24 | loss: 0.67598 | test_accuracy: 0.50826 |  0:01:14s\n",
      "epoch 25 | loss: 0.67656 | test_accuracy: 0.50293 |  0:01:16s\n",
      "epoch 26 | loss: 0.67624 | test_accuracy: 0.49121 |  0:01:20s\n",
      "epoch 27 | loss: 0.66324 | test_accuracy: 0.52158 |  0:01:22s\n",
      "epoch 28 | loss: 0.66393 | test_accuracy: 0.50133 |  0:01:26s\n",
      "epoch 29 | loss: 0.65682 | test_accuracy: 0.50613 |  0:01:28s\n",
      "epoch 30 | loss: 0.6558  | test_accuracy: 0.48535 |  0:01:31s\n",
      "\n",
      "Early stopping occurred at epoch 30 with best_epoch = 20 and best_test_accuracy = 0.52637\n"
     ]
    },
    {
     "name": "stderr",
     "output_type": "stream",
     "text": [
      "/home/gonken/anaconda3/envs/torch/lib/python3.12/site-packages/pytorch_tabnet/callbacks.py:172: UserWarning: Best weights from best epoch are automatically used!\n",
      "  warnings.warn(wrn_msg)\n",
      "[I 2024-10-30 18:28:28,619] Trial 74 finished with value: 0.5263718700053277 and parameters: {'n_d': 46, 'n_a': 21, 'n_steps': 8, 'gamma': 1.5321370238992815, 'lambda_sparse': 0.045682116657188285, 'learning_rate': 0.0015302191468232493}. Best is trial 4 with value: 0.5359616409163559.\n",
      "/home/gonken/anaconda3/envs/torch/lib/python3.12/site-packages/pytorch_tabnet/abstract_model.py:82: UserWarning: Device used : cuda\n",
      "  warnings.warn(f\"Device used : {self.device}\")\n"
     ]
    },
    {
     "name": "stdout",
     "output_type": "stream",
     "text": [
      "epoch 0  | loss: 1.20328 | test_accuracy: 0.50293 |  0:00:02s\n",
      "epoch 1  | loss: 0.87627 | test_accuracy: 0.49441 |  0:00:05s\n",
      "epoch 2  | loss: 0.81714 | test_accuracy: 0.50346 |  0:00:08s\n",
      "epoch 3  | loss: 0.79344 | test_accuracy: 0.50773 |  0:00:11s\n",
      "epoch 4  | loss: 0.77345 | test_accuracy: 0.49973 |  0:00:15s\n",
      "epoch 5  | loss: 0.78848 | test_accuracy: 0.48748 |  0:00:18s\n",
      "epoch 6  | loss: 0.76054 | test_accuracy: 0.50186 |  0:00:21s\n",
      "epoch 7  | loss: 0.74017 | test_accuracy: 0.49174 |  0:00:24s\n",
      "epoch 8  | loss: 0.73174 | test_accuracy: 0.50932 |  0:00:27s\n",
      "epoch 9  | loss: 0.73371 | test_accuracy: 0.49494 |  0:00:30s\n",
      "epoch 10 | loss: 0.74951 | test_accuracy: 0.50719 |  0:00:33s\n",
      "epoch 11 | loss: 0.73213 | test_accuracy: 0.50932 |  0:00:36s\n",
      "epoch 12 | loss: 0.70841 | test_accuracy: 0.48748 |  0:00:39s\n",
      "epoch 13 | loss: 0.71031 | test_accuracy: 0.50932 |  0:00:42s\n",
      "epoch 14 | loss: 0.70555 | test_accuracy: 0.51305 |  0:00:45s\n",
      "epoch 15 | loss: 0.70034 | test_accuracy: 0.49387 |  0:00:48s\n",
      "epoch 16 | loss: 0.69939 | test_accuracy: 0.49281 |  0:00:51s\n",
      "epoch 17 | loss: 0.70948 | test_accuracy: 0.50506 |  0:00:54s\n",
      "epoch 18 | loss: 0.71764 | test_accuracy: 0.48588 |  0:00:57s\n",
      "epoch 19 | loss: 0.69795 | test_accuracy: 0.50879 |  0:01:00s\n",
      "epoch 20 | loss: 0.70729 | test_accuracy: 0.49227 |  0:01:03s\n",
      "epoch 21 | loss: 0.69482 | test_accuracy: 0.49441 |  0:01:06s\n",
      "epoch 22 | loss: 0.68742 | test_accuracy: 0.49707 |  0:01:09s\n",
      "epoch 23 | loss: 0.68779 | test_accuracy: 0.48588 |  0:01:12s\n",
      "epoch 24 | loss: 0.694   | test_accuracy: 0.49707 |  0:01:15s\n",
      "\n",
      "Early stopping occurred at epoch 24 with best_epoch = 14 and best_test_accuracy = 0.51305\n"
     ]
    },
    {
     "name": "stderr",
     "output_type": "stream",
     "text": [
      "/home/gonken/anaconda3/envs/torch/lib/python3.12/site-packages/pytorch_tabnet/callbacks.py:172: UserWarning: Best weights from best epoch are automatically used!\n",
      "  warnings.warn(wrn_msg)\n",
      "[I 2024-10-30 18:29:45,489] Trial 75 finished with value: 0.5130527437400106 and parameters: {'n_d': 53, 'n_a': 23, 'n_steps': 8, 'gamma': 1.6685931382269872, 'lambda_sparse': 0.046389137946415644, 'learning_rate': 0.0008130146963345223}. Best is trial 4 with value: 0.5359616409163559.\n",
      "/home/gonken/anaconda3/envs/torch/lib/python3.12/site-packages/pytorch_tabnet/abstract_model.py:82: UserWarning: Device used : cuda\n",
      "  warnings.warn(f\"Device used : {self.device}\")\n"
     ]
    },
    {
     "name": "stdout",
     "output_type": "stream",
     "text": [
      "epoch 0  | loss: 3.09097 | test_accuracy: 0.49814 |  0:00:02s\n",
      "epoch 1  | loss: 1.70797 | test_accuracy: 0.496   |  0:00:06s\n",
      "epoch 2  | loss: 1.07036 | test_accuracy: 0.48908 |  0:00:08s\n",
      "epoch 3  | loss: 0.94934 | test_accuracy: 0.49334 |  0:00:12s\n",
      "epoch 4  | loss: 0.88012 | test_accuracy: 0.50346 |  0:00:15s\n",
      "epoch 5  | loss: 0.82712 | test_accuracy: 0.50613 |  0:00:18s\n",
      "epoch 6  | loss: 0.80257 | test_accuracy: 0.50186 |  0:00:21s\n",
      "epoch 7  | loss: 0.78275 | test_accuracy: 0.49281 |  0:00:24s\n",
      "epoch 8  | loss: 0.76869 | test_accuracy: 0.48961 |  0:00:27s\n",
      "epoch 9  | loss: 0.76356 | test_accuracy: 0.49281 |  0:00:30s\n",
      "epoch 10 | loss: 0.75464 | test_accuracy: 0.50559 |  0:00:33s\n",
      "epoch 11 | loss: 0.74717 | test_accuracy: 0.504   |  0:00:36s\n",
      "epoch 12 | loss: 0.73226 | test_accuracy: 0.49121 |  0:00:39s\n",
      "epoch 13 | loss: 0.73193 | test_accuracy: 0.47789 |  0:00:42s\n",
      "epoch 14 | loss: 0.73111 | test_accuracy: 0.4731  |  0:00:45s\n",
      "epoch 15 | loss: 0.72654 | test_accuracy: 0.49973 |  0:00:48s\n",
      "\n",
      "Early stopping occurred at epoch 15 with best_epoch = 5 and best_test_accuracy = 0.50613\n"
     ]
    },
    {
     "name": "stderr",
     "output_type": "stream",
     "text": [
      "/home/gonken/anaconda3/envs/torch/lib/python3.12/site-packages/pytorch_tabnet/callbacks.py:172: UserWarning: Best weights from best epoch are automatically used!\n",
      "  warnings.warn(wrn_msg)\n",
      "[I 2024-10-30 18:30:35,476] Trial 76 finished with value: 0.5061267980820459 and parameters: {'n_d': 46, 'n_a': 20, 'n_steps': 8, 'gamma': 1.5239092454364254, 'lambda_sparse': 0.043288613895530265, 'learning_rate': 0.00030524311760487405}. Best is trial 4 with value: 0.5359616409163559.\n",
      "/home/gonken/anaconda3/envs/torch/lib/python3.12/site-packages/pytorch_tabnet/abstract_model.py:82: UserWarning: Device used : cuda\n",
      "  warnings.warn(f\"Device used : {self.device}\")\n"
     ]
    },
    {
     "name": "stdout",
     "output_type": "stream",
     "text": [
      "epoch 0  | loss: 1.23744 | test_accuracy: 0.48961 |  0:00:02s\n",
      "epoch 1  | loss: 0.84617 | test_accuracy: 0.51145 |  0:00:06s\n",
      "epoch 2  | loss: 0.74432 | test_accuracy: 0.50559 |  0:00:09s\n",
      "epoch 3  | loss: 0.69008 | test_accuracy: 0.504   |  0:00:12s\n",
      "epoch 4  | loss: 0.67683 | test_accuracy: 0.49654 |  0:00:15s\n",
      "epoch 5  | loss: 0.66888 | test_accuracy: 0.50719 |  0:00:18s\n",
      "epoch 6  | loss: 0.65834 | test_accuracy: 0.504   |  0:00:21s\n",
      "epoch 7  | loss: 0.6623  | test_accuracy: 0.49387 |  0:00:24s\n",
      "epoch 8  | loss: 0.6613  | test_accuracy: 0.51145 |  0:00:27s\n",
      "epoch 9  | loss: 0.65589 | test_accuracy: 0.48961 |  0:00:30s\n",
      "epoch 10 | loss: 0.65745 | test_accuracy: 0.50293 |  0:00:33s\n",
      "epoch 11 | loss: 0.65318 | test_accuracy: 0.49867 |  0:00:36s\n",
      "\n",
      "Early stopping occurred at epoch 11 with best_epoch = 1 and best_test_accuracy = 0.51145\n"
     ]
    },
    {
     "name": "stderr",
     "output_type": "stream",
     "text": [
      "/home/gonken/anaconda3/envs/torch/lib/python3.12/site-packages/pytorch_tabnet/callbacks.py:172: UserWarning: Best weights from best epoch are automatically used!\n",
      "  warnings.warn(wrn_msg)\n",
      "[I 2024-10-30 18:31:12,940] Trial 77 finished with value: 0.5114544485881726 and parameters: {'n_d': 44, 'n_a': 18, 'n_steps': 8, 'gamma': 1.684508896838771, 'lambda_sparse': 0.04042376400207519, 'learning_rate': 0.007969695323247464}. Best is trial 4 with value: 0.5359616409163559.\n",
      "/home/gonken/anaconda3/envs/torch/lib/python3.12/site-packages/pytorch_tabnet/abstract_model.py:82: UserWarning: Device used : cuda\n",
      "  warnings.warn(f\"Device used : {self.device}\")\n"
     ]
    },
    {
     "name": "stdout",
     "output_type": "stream",
     "text": [
      "epoch 0  | loss: 1.60615 | test_accuracy: 0.4976  |  0:00:03s\n",
      "epoch 1  | loss: 1.08076 | test_accuracy: 0.5024  |  0:00:06s\n",
      "epoch 2  | loss: 0.75604 | test_accuracy: 0.50453 |  0:00:10s\n",
      "epoch 3  | loss: 0.72658 | test_accuracy: 0.49707 |  0:00:13s\n",
      "epoch 4  | loss: 0.69642 | test_accuracy: 0.49707 |  0:00:17s\n",
      "epoch 5  | loss: 0.68954 | test_accuracy: 0.496   |  0:00:21s\n",
      "epoch 6  | loss: 0.68079 | test_accuracy: 0.52318 |  0:00:24s\n",
      "epoch 7  | loss: 0.67194 | test_accuracy: 0.51359 |  0:00:28s\n",
      "epoch 8  | loss: 0.66742 | test_accuracy: 0.50879 |  0:00:31s\n",
      "epoch 9  | loss: 0.6746  | test_accuracy: 0.49387 |  0:00:35s\n",
      "epoch 10 | loss: 0.67487 | test_accuracy: 0.50559 |  0:00:38s\n",
      "epoch 11 | loss: 0.66354 | test_accuracy: 0.50027 |  0:00:42s\n",
      "epoch 12 | loss: 0.66008 | test_accuracy: 0.49814 |  0:00:45s\n",
      "epoch 13 | loss: 0.66015 | test_accuracy: 0.50666 |  0:00:49s\n",
      "epoch 14 | loss: 0.6547  | test_accuracy: 0.50773 |  0:00:52s\n",
      "epoch 15 | loss: 0.65533 | test_accuracy: 0.50293 |  0:00:56s\n",
      "epoch 16 | loss: 0.65343 | test_accuracy: 0.50186 |  0:00:59s\n",
      "\n",
      "Early stopping occurred at epoch 16 with best_epoch = 6 and best_test_accuracy = 0.52318\n"
     ]
    },
    {
     "name": "stderr",
     "output_type": "stream",
     "text": [
      "/home/gonken/anaconda3/envs/torch/lib/python3.12/site-packages/pytorch_tabnet/callbacks.py:172: UserWarning: Best weights from best epoch are automatically used!\n",
      "  warnings.warn(wrn_msg)\n",
      "[I 2024-10-30 18:32:14,449] Trial 78 finished with value: 0.5231752797016516 and parameters: {'n_d': 48, 'n_a': 21, 'n_steps': 10, 'gamma': 1.4557938754848039, 'lambda_sparse': 0.055787756224008805, 'learning_rate': 0.0111338776628142}. Best is trial 4 with value: 0.5359616409163559.\n",
      "/home/gonken/anaconda3/envs/torch/lib/python3.12/site-packages/pytorch_tabnet/abstract_model.py:82: UserWarning: Device used : cuda\n",
      "  warnings.warn(f\"Device used : {self.device}\")\n"
     ]
    },
    {
     "name": "stdout",
     "output_type": "stream",
     "text": [
      "epoch 0  | loss: 0.98488 | test_accuracy: 0.48695 |  0:00:02s\n",
      "epoch 1  | loss: 0.79215 | test_accuracy: 0.49174 |  0:00:05s\n",
      "epoch 2  | loss: 0.78876 | test_accuracy: 0.47682 |  0:00:08s\n",
      "epoch 3  | loss: 0.76709 | test_accuracy: 0.48162 |  0:00:11s\n",
      "epoch 4  | loss: 0.74875 | test_accuracy: 0.50932 |  0:00:14s\n",
      "epoch 5  | loss: 0.73059 | test_accuracy: 0.496   |  0:00:17s\n",
      "epoch 6  | loss: 0.73739 | test_accuracy: 0.48322 |  0:00:19s\n",
      "epoch 7  | loss: 0.73234 | test_accuracy: 0.51305 |  0:00:22s\n",
      "epoch 8  | loss: 0.71784 | test_accuracy: 0.51039 |  0:00:25s\n",
      "epoch 9  | loss: 0.71491 | test_accuracy: 0.49814 |  0:00:28s\n",
      "epoch 10 | loss: 0.70965 | test_accuracy: 0.49654 |  0:00:32s\n",
      "epoch 11 | loss: 0.69683 | test_accuracy: 0.49547 |  0:00:35s\n",
      "epoch 12 | loss: 0.69317 | test_accuracy: 0.50027 |  0:00:38s\n",
      "epoch 13 | loss: 0.69345 | test_accuracy: 0.50773 |  0:00:41s\n",
      "epoch 14 | loss: 0.68465 | test_accuracy: 0.50186 |  0:00:44s\n",
      "epoch 15 | loss: 0.68823 | test_accuracy: 0.50719 |  0:00:47s\n",
      "epoch 16 | loss: 0.69139 | test_accuracy: 0.49121 |  0:00:50s\n",
      "epoch 17 | loss: 0.68834 | test_accuracy: 0.49174 |  0:00:53s\n",
      "\n",
      "Early stopping occurred at epoch 17 with best_epoch = 7 and best_test_accuracy = 0.51305\n"
     ]
    },
    {
     "name": "stderr",
     "output_type": "stream",
     "text": [
      "/home/gonken/anaconda3/envs/torch/lib/python3.12/site-packages/pytorch_tabnet/callbacks.py:172: UserWarning: Best weights from best epoch are automatically used!\n",
      "  warnings.warn(wrn_msg)\n",
      "[I 2024-10-30 18:33:09,035] Trial 79 finished with value: 0.5130527437400106 and parameters: {'n_d': 50, 'n_a': 24, 'n_steps': 8, 'gamma': 1.4923145252626342, 'lambda_sparse': 0.07550399392120605, 'learning_rate': 0.001703532064477294}. Best is trial 4 with value: 0.5359616409163559.\n",
      "/home/gonken/anaconda3/envs/torch/lib/python3.12/site-packages/pytorch_tabnet/abstract_model.py:82: UserWarning: Device used : cuda\n",
      "  warnings.warn(f\"Device used : {self.device}\")\n"
     ]
    },
    {
     "name": "stdout",
     "output_type": "stream",
     "text": [
      "epoch 0  | loss: 1.41423 | test_accuracy: 0.496   |  0:00:03s\n",
      "epoch 1  | loss: 1.08944 | test_accuracy: 0.50453 |  0:00:06s\n",
      "epoch 2  | loss: 0.69332 | test_accuracy: 0.50666 |  0:00:09s\n",
      "epoch 3  | loss: 0.69223 | test_accuracy: 0.504   |  0:00:12s\n",
      "epoch 4  | loss: 0.6698  | test_accuracy: 0.50186 |  0:00:16s\n",
      "epoch 5  | loss: 0.66574 | test_accuracy: 0.50986 |  0:00:19s\n",
      "epoch 6  | loss: 0.66117 | test_accuracy: 0.50613 |  0:00:22s\n",
      "epoch 7  | loss: 0.65534 | test_accuracy: 0.50293 |  0:00:25s\n",
      "epoch 8  | loss: 0.64994 | test_accuracy: 0.50613 |  0:00:28s\n",
      "epoch 9  | loss: 0.6579  | test_accuracy: 0.49387 |  0:00:31s\n",
      "epoch 10 | loss: 0.65349 | test_accuracy: 0.51199 |  0:00:34s\n",
      "epoch 11 | loss: 0.64538 | test_accuracy: 0.49334 |  0:00:38s\n",
      "epoch 12 | loss: 0.64543 | test_accuracy: 0.50293 |  0:00:41s\n",
      "epoch 13 | loss: 0.6554  | test_accuracy: 0.50986 |  0:00:44s\n",
      "epoch 14 | loss: 0.65007 | test_accuracy: 0.504   |  0:00:47s\n",
      "epoch 15 | loss: 0.65456 | test_accuracy: 0.49387 |  0:00:50s\n",
      "epoch 16 | loss: 0.65242 | test_accuracy: 0.50826 |  0:00:54s\n",
      "epoch 17 | loss: 0.64486 | test_accuracy: 0.50453 |  0:00:57s\n",
      "epoch 18 | loss: 0.64362 | test_accuracy: 0.49707 |  0:01:00s\n",
      "epoch 19 | loss: 0.64029 | test_accuracy: 0.49334 |  0:01:04s\n",
      "epoch 20 | loss: 0.64187 | test_accuracy: 0.51039 |  0:01:07s\n",
      "\n",
      "Early stopping occurred at epoch 20 with best_epoch = 10 and best_test_accuracy = 0.51199\n"
     ]
    },
    {
     "name": "stderr",
     "output_type": "stream",
     "text": [
      "/home/gonken/anaconda3/envs/torch/lib/python3.12/site-packages/pytorch_tabnet/callbacks.py:172: UserWarning: Best weights from best epoch are automatically used!\n",
      "  warnings.warn(wrn_msg)\n",
      "[I 2024-10-30 18:34:17,837] Trial 80 finished with value: 0.5119872136387853 and parameters: {'n_d': 53, 'n_a': 16, 'n_steps': 9, 'gamma': 1.4100831190307168, 'lambda_sparse': 0.04692286161981176, 'learning_rate': 0.018019174697246093}. Best is trial 4 with value: 0.5359616409163559.\n",
      "/home/gonken/anaconda3/envs/torch/lib/python3.12/site-packages/pytorch_tabnet/abstract_model.py:82: UserWarning: Device used : cuda\n",
      "  warnings.warn(f\"Device used : {self.device}\")\n"
     ]
    },
    {
     "name": "stdout",
     "output_type": "stream",
     "text": [
      "epoch 0  | loss: 1.03775 | test_accuracy: 0.50879 |  0:00:03s\n",
      "epoch 1  | loss: 0.87915 | test_accuracy: 0.49654 |  0:00:06s\n",
      "epoch 2  | loss: 0.85103 | test_accuracy: 0.48908 |  0:00:09s\n",
      "epoch 3  | loss: 0.77405 | test_accuracy: 0.496   |  0:00:12s\n",
      "epoch 4  | loss: 0.76356 | test_accuracy: 0.49227 |  0:00:15s\n",
      "epoch 5  | loss: 0.74652 | test_accuracy: 0.49654 |  0:00:18s\n",
      "epoch 6  | loss: 0.72988 | test_accuracy: 0.49387 |  0:00:21s\n",
      "epoch 7  | loss: 0.7008  | test_accuracy: 0.5008  |  0:00:24s\n",
      "epoch 8  | loss: 0.69346 | test_accuracy: 0.51731 |  0:00:28s\n",
      "epoch 9  | loss: 0.67463 | test_accuracy: 0.50453 |  0:00:31s\n",
      "epoch 10 | loss: 0.687   | test_accuracy: 0.50506 |  0:00:34s\n",
      "epoch 11 | loss: 0.66478 | test_accuracy: 0.51891 |  0:00:37s\n",
      "epoch 12 | loss: 0.67135 | test_accuracy: 0.4992  |  0:00:40s\n",
      "epoch 13 | loss: 0.66502 | test_accuracy: 0.51465 |  0:00:43s\n",
      "epoch 14 | loss: 0.66132 | test_accuracy: 0.50613 |  0:00:46s\n",
      "epoch 15 | loss: 0.66262 | test_accuracy: 0.50346 |  0:00:50s\n",
      "epoch 16 | loss: 0.66422 | test_accuracy: 0.51039 |  0:00:53s\n",
      "epoch 17 | loss: 0.65912 | test_accuracy: 0.49814 |  0:00:56s\n",
      "epoch 18 | loss: 0.66431 | test_accuracy: 0.51785 |  0:00:59s\n",
      "epoch 19 | loss: 0.66461 | test_accuracy: 0.50453 |  0:01:03s\n",
      "epoch 20 | loss: 0.66081 | test_accuracy: 0.50719 |  0:01:06s\n",
      "epoch 21 | loss: 0.65937 | test_accuracy: 0.4976  |  0:01:09s\n",
      "\n",
      "Early stopping occurred at epoch 21 with best_epoch = 11 and best_test_accuracy = 0.51891\n"
     ]
    },
    {
     "name": "stderr",
     "output_type": "stream",
     "text": [
      "/home/gonken/anaconda3/envs/torch/lib/python3.12/site-packages/pytorch_tabnet/callbacks.py:172: UserWarning: Best weights from best epoch are automatically used!\n",
      "  warnings.warn(wrn_msg)\n",
      "[I 2024-10-30 18:35:28,872] Trial 81 finished with value: 0.5189131592967501 and parameters: {'n_d': 41, 'n_a': 14, 'n_steps': 9, 'gamma': 1.5979271885004127, 'lambda_sparse': 0.03684562234738706, 'learning_rate': 0.00391381537194252}. Best is trial 4 with value: 0.5359616409163559.\n",
      "/home/gonken/anaconda3/envs/torch/lib/python3.12/site-packages/pytorch_tabnet/abstract_model.py:82: UserWarning: Device used : cuda\n",
      "  warnings.warn(f\"Device used : {self.device}\")\n"
     ]
    },
    {
     "name": "stdout",
     "output_type": "stream",
     "text": [
      "epoch 0  | loss: 1.43436 | test_accuracy: 0.49707 |  0:00:03s\n",
      "epoch 1  | loss: 0.85145 | test_accuracy: 0.49068 |  0:00:06s\n",
      "epoch 2  | loss: 0.80631 | test_accuracy: 0.4976  |  0:00:09s\n",
      "epoch 3  | loss: 0.76408 | test_accuracy: 0.49227 |  0:00:12s\n",
      "epoch 4  | loss: 0.75191 | test_accuracy: 0.49494 |  0:00:16s\n",
      "epoch 5  | loss: 0.73581 | test_accuracy: 0.51465 |  0:00:19s\n",
      "epoch 6  | loss: 0.73573 | test_accuracy: 0.51145 |  0:00:22s\n",
      "epoch 7  | loss: 0.7383  | test_accuracy: 0.50453 |  0:00:25s\n",
      "epoch 8  | loss: 0.72378 | test_accuracy: 0.48695 |  0:00:28s\n",
      "epoch 9  | loss: 0.71649 | test_accuracy: 0.50027 |  0:00:32s\n",
      "epoch 10 | loss: 0.70931 | test_accuracy: 0.48748 |  0:00:35s\n",
      "epoch 11 | loss: 0.7205  | test_accuracy: 0.50346 |  0:00:38s\n",
      "epoch 12 | loss: 0.70209 | test_accuracy: 0.49814 |  0:00:42s\n",
      "epoch 13 | loss: 0.70592 | test_accuracy: 0.4976  |  0:00:45s\n",
      "epoch 14 | loss: 0.69599 | test_accuracy: 0.50133 |  0:00:48s\n",
      "epoch 15 | loss: 0.68936 | test_accuracy: 0.50027 |  0:00:52s\n",
      "\n",
      "Early stopping occurred at epoch 15 with best_epoch = 5 and best_test_accuracy = 0.51465\n"
     ]
    },
    {
     "name": "stderr",
     "output_type": "stream",
     "text": [
      "/home/gonken/anaconda3/envs/torch/lib/python3.12/site-packages/pytorch_tabnet/callbacks.py:172: UserWarning: Best weights from best epoch are automatically used!\n",
      "  warnings.warn(wrn_msg)\n",
      "[I 2024-10-30 18:36:22,565] Trial 82 finished with value: 0.5146510388918487 and parameters: {'n_d': 43, 'n_a': 18, 'n_steps': 9, 'gamma': 1.581713683895375, 'lambda_sparse': 0.06344152969747775, 'learning_rate': 0.0014990679075257848}. Best is trial 4 with value: 0.5359616409163559.\n",
      "/home/gonken/anaconda3/envs/torch/lib/python3.12/site-packages/pytorch_tabnet/abstract_model.py:82: UserWarning: Device used : cuda\n",
      "  warnings.warn(f\"Device used : {self.device}\")\n"
     ]
    },
    {
     "name": "stdout",
     "output_type": "stream",
     "text": [
      "epoch 0  | loss: 1.47036 | test_accuracy: 0.50027 |  0:00:03s\n",
      "epoch 1  | loss: 1.1951  | test_accuracy: 0.50559 |  0:00:07s\n",
      "epoch 2  | loss: 1.0249  | test_accuracy: 0.48908 |  0:00:10s\n",
      "epoch 3  | loss: 0.91506 | test_accuracy: 0.504   |  0:00:13s\n",
      "epoch 4  | loss: 0.84569 | test_accuracy: 0.50027 |  0:00:16s\n",
      "epoch 5  | loss: 0.8101  | test_accuracy: 0.49707 |  0:00:19s\n",
      "epoch 6  | loss: 0.78223 | test_accuracy: 0.50826 |  0:00:23s\n",
      "epoch 7  | loss: 0.77627 | test_accuracy: 0.49707 |  0:00:26s\n",
      "epoch 8  | loss: 0.75654 | test_accuracy: 0.48961 |  0:00:30s\n",
      "epoch 9  | loss: 0.77921 | test_accuracy: 0.50346 |  0:00:33s\n",
      "epoch 10 | loss: 0.74965 | test_accuracy: 0.50453 |  0:00:36s\n",
      "epoch 11 | loss: 0.75554 | test_accuracy: 0.50186 |  0:00:39s\n",
      "epoch 12 | loss: 0.75256 | test_accuracy: 0.49174 |  0:00:42s\n",
      "epoch 13 | loss: 0.74276 | test_accuracy: 0.49707 |  0:00:46s\n",
      "epoch 14 | loss: 0.72341 | test_accuracy: 0.50666 |  0:00:49s\n",
      "epoch 15 | loss: 0.73774 | test_accuracy: 0.504   |  0:00:52s\n",
      "epoch 16 | loss: 0.73058 | test_accuracy: 0.51359 |  0:00:55s\n",
      "epoch 17 | loss: 0.72455 | test_accuracy: 0.49707 |  0:00:59s\n",
      "epoch 18 | loss: 0.72963 | test_accuracy: 0.4992  |  0:01:02s\n",
      "epoch 19 | loss: 0.71881 | test_accuracy: 0.49174 |  0:01:05s\n",
      "epoch 20 | loss: 0.71209 | test_accuracy: 0.48482 |  0:01:08s\n",
      "epoch 21 | loss: 0.71216 | test_accuracy: 0.48269 |  0:01:12s\n",
      "epoch 22 | loss: 0.70661 | test_accuracy: 0.49441 |  0:01:15s\n",
      "epoch 23 | loss: 0.70451 | test_accuracy: 0.504   |  0:01:18s\n",
      "epoch 24 | loss: 0.7056  | test_accuracy: 0.51465 |  0:01:21s\n",
      "epoch 25 | loss: 0.71259 | test_accuracy: 0.504   |  0:01:25s\n",
      "epoch 26 | loss: 0.70247 | test_accuracy: 0.52104 |  0:01:28s\n",
      "epoch 27 | loss: 0.70415 | test_accuracy: 0.48748 |  0:01:31s\n",
      "epoch 28 | loss: 0.69456 | test_accuracy: 0.52797 |  0:01:34s\n",
      "epoch 29 | loss: 0.70334 | test_accuracy: 0.51039 |  0:01:37s\n",
      "epoch 30 | loss: 0.70316 | test_accuracy: 0.51518 |  0:01:40s\n",
      "epoch 31 | loss: 0.70796 | test_accuracy: 0.5024  |  0:01:43s\n",
      "epoch 32 | loss: 0.70647 | test_accuracy: 0.50879 |  0:01:47s\n",
      "epoch 33 | loss: 0.69858 | test_accuracy: 0.50773 |  0:01:50s\n",
      "epoch 34 | loss: 0.70052 | test_accuracy: 0.50133 |  0:01:53s\n",
      "epoch 35 | loss: 0.69687 | test_accuracy: 0.50666 |  0:01:56s\n",
      "epoch 36 | loss: 0.69347 | test_accuracy: 0.48641 |  0:02:00s\n",
      "epoch 37 | loss: 0.69866 | test_accuracy: 0.49121 |  0:02:03s\n",
      "epoch 38 | loss: 0.70231 | test_accuracy: 0.50559 |  0:02:06s\n",
      "\n",
      "Early stopping occurred at epoch 38 with best_epoch = 28 and best_test_accuracy = 0.52797\n"
     ]
    },
    {
     "name": "stderr",
     "output_type": "stream",
     "text": [
      "/home/gonken/anaconda3/envs/torch/lib/python3.12/site-packages/pytorch_tabnet/callbacks.py:172: UserWarning: Best weights from best epoch are automatically used!\n",
      "  warnings.warn(wrn_msg)\n",
      "[I 2024-10-30 18:38:30,932] Trial 83 finished with value: 0.5279701651571657 and parameters: {'n_d': 28, 'n_a': 16, 'n_steps': 9, 'gamma': 1.5527004147746286, 'lambda_sparse': 0.049585286363739746, 'learning_rate': 0.0006917123123492212}. Best is trial 4 with value: 0.5359616409163559.\n",
      "/home/gonken/anaconda3/envs/torch/lib/python3.12/site-packages/pytorch_tabnet/abstract_model.py:82: UserWarning: Device used : cuda\n",
      "  warnings.warn(f\"Device used : {self.device}\")\n"
     ]
    },
    {
     "name": "stdout",
     "output_type": "stream",
     "text": [
      "epoch 0  | loss: 1.99518 | test_accuracy: 0.50773 |  0:00:03s\n",
      "epoch 1  | loss: 1.42942 | test_accuracy: 0.51039 |  0:00:06s\n",
      "epoch 2  | loss: 1.22898 | test_accuracy: 0.51412 |  0:00:10s\n",
      "epoch 3  | loss: 1.07443 | test_accuracy: 0.49387 |  0:00:13s\n",
      "epoch 4  | loss: 0.95206 | test_accuracy: 0.48961 |  0:00:17s\n",
      "epoch 5  | loss: 0.90106 | test_accuracy: 0.48641 |  0:00:20s\n",
      "epoch 6  | loss: 0.84762 | test_accuracy: 0.49227 |  0:00:24s\n",
      "epoch 7  | loss: 0.8164  | test_accuracy: 0.50027 |  0:00:27s\n",
      "epoch 8  | loss: 0.7842  | test_accuracy: 0.51199 |  0:00:31s\n",
      "epoch 9  | loss: 0.77846 | test_accuracy: 0.49014 |  0:00:34s\n",
      "epoch 10 | loss: 0.76855 | test_accuracy: 0.50613 |  0:00:38s\n",
      "epoch 11 | loss: 0.74923 | test_accuracy: 0.48801 |  0:00:42s\n",
      "epoch 12 | loss: 0.74232 | test_accuracy: 0.50932 |  0:00:45s\n",
      "\n",
      "Early stopping occurred at epoch 12 with best_epoch = 2 and best_test_accuracy = 0.51412\n"
     ]
    },
    {
     "name": "stderr",
     "output_type": "stream",
     "text": [
      "/home/gonken/anaconda3/envs/torch/lib/python3.12/site-packages/pytorch_tabnet/callbacks.py:172: UserWarning: Best weights from best epoch are automatically used!\n",
      "  warnings.warn(wrn_msg)\n",
      "[I 2024-10-30 18:39:18,279] Trial 84 finished with value: 0.514118273841236 and parameters: {'n_d': 27, 'n_a': 21, 'n_steps': 10, 'gamma': 1.6280129830716144, 'lambda_sparse': 0.049521491384448245, 'learning_rate': 0.0005089319504878801}. Best is trial 4 with value: 0.5359616409163559.\n",
      "/home/gonken/anaconda3/envs/torch/lib/python3.12/site-packages/pytorch_tabnet/abstract_model.py:82: UserWarning: Device used : cuda\n",
      "  warnings.warn(f\"Device used : {self.device}\")\n"
     ]
    },
    {
     "name": "stdout",
     "output_type": "stream",
     "text": [
      "epoch 0  | loss: 1.00732 | test_accuracy: 0.51998 |  0:00:02s\n",
      "epoch 1  | loss: 0.8641  | test_accuracy: 0.50346 |  0:00:05s\n",
      "epoch 2  | loss: 0.80899 | test_accuracy: 0.51731 |  0:00:08s\n",
      "epoch 3  | loss: 0.76628 | test_accuracy: 0.49494 |  0:00:11s\n",
      "epoch 4  | loss: 0.75853 | test_accuracy: 0.49494 |  0:00:14s\n",
      "epoch 5  | loss: 0.72662 | test_accuracy: 0.4976  |  0:00:17s\n",
      "epoch 6  | loss: 0.72445 | test_accuracy: 0.48961 |  0:00:20s\n",
      "epoch 7  | loss: 0.71568 | test_accuracy: 0.49387 |  0:00:23s\n",
      "epoch 8  | loss: 0.70826 | test_accuracy: 0.50186 |  0:00:26s\n",
      "epoch 9  | loss: 0.70785 | test_accuracy: 0.51252 |  0:00:29s\n",
      "epoch 10 | loss: 0.70243 | test_accuracy: 0.49441 |  0:00:32s\n",
      "\n",
      "Early stopping occurred at epoch 10 with best_epoch = 0 and best_test_accuracy = 0.51998\n"
     ]
    },
    {
     "name": "stderr",
     "output_type": "stream",
     "text": [
      "/home/gonken/anaconda3/envs/torch/lib/python3.12/site-packages/pytorch_tabnet/callbacks.py:172: UserWarning: Best weights from best epoch are automatically used!\n",
      "  warnings.warn(wrn_msg)\n",
      "[I 2024-10-30 18:39:52,071] Trial 85 finished with value: 0.5199786893979755 and parameters: {'n_d': 22, 'n_a': 19, 'n_steps': 8, 'gamma': 1.5238707953937451, 'lambda_sparse': 0.04261346892353694, 'learning_rate': 0.0006519747751167919}. Best is trial 4 with value: 0.5359616409163559.\n",
      "/home/gonken/anaconda3/envs/torch/lib/python3.12/site-packages/pytorch_tabnet/abstract_model.py:82: UserWarning: Device used : cuda\n",
      "  warnings.warn(f\"Device used : {self.device}\")\n"
     ]
    },
    {
     "name": "stdout",
     "output_type": "stream",
     "text": [
      "epoch 0  | loss: 1.20513 | test_accuracy: 0.50027 |  0:00:02s\n",
      "epoch 1  | loss: 1.15852 | test_accuracy: 0.51145 |  0:00:05s\n",
      "epoch 2  | loss: 1.13775 | test_accuracy: 0.51145 |  0:00:08s\n",
      "epoch 3  | loss: 1.11827 | test_accuracy: 0.48961 |  0:00:11s\n",
      "epoch 4  | loss: 1.06066 | test_accuracy: 0.49174 |  0:00:14s\n",
      "epoch 5  | loss: 1.06074 | test_accuracy: 0.46883 |  0:00:17s\n",
      "epoch 6  | loss: 1.02909 | test_accuracy: 0.48375 |  0:00:20s\n",
      "epoch 7  | loss: 1.00961 | test_accuracy: 0.48215 |  0:00:23s\n",
      "epoch 8  | loss: 0.99397 | test_accuracy: 0.49174 |  0:00:26s\n",
      "epoch 9  | loss: 0.97363 | test_accuracy: 0.48855 |  0:00:29s\n",
      "epoch 10 | loss: 0.96436 | test_accuracy: 0.496   |  0:00:32s\n",
      "epoch 11 | loss: 0.9319  | test_accuracy: 0.49227 |  0:00:35s\n",
      "\n",
      "Early stopping occurred at epoch 11 with best_epoch = 1 and best_test_accuracy = 0.51145\n"
     ]
    },
    {
     "name": "stderr",
     "output_type": "stream",
     "text": [
      "/home/gonken/anaconda3/envs/torch/lib/python3.12/site-packages/pytorch_tabnet/callbacks.py:172: UserWarning: Best weights from best epoch are automatically used!\n",
      "  warnings.warn(wrn_msg)\n",
      "[I 2024-10-30 18:40:29,145] Trial 86 finished with value: 0.5114544485881726 and parameters: {'n_d': 8, 'n_a': 12, 'n_steps': 8, 'gamma': 1.5473686360882524, 'lambda_sparse': 0.05408715125642898, 'learning_rate': 0.00015136260976170033}. Best is trial 4 with value: 0.5359616409163559.\n",
      "/home/gonken/anaconda3/envs/torch/lib/python3.12/site-packages/pytorch_tabnet/abstract_model.py:82: UserWarning: Device used : cuda\n",
      "  warnings.warn(f\"Device used : {self.device}\")\n"
     ]
    },
    {
     "name": "stdout",
     "output_type": "stream",
     "text": [
      "epoch 0  | loss: 2.46586 | test_accuracy: 0.49654 |  0:00:03s\n",
      "epoch 1  | loss: 2.19136 | test_accuracy: 0.49174 |  0:00:06s\n",
      "epoch 2  | loss: 1.97622 | test_accuracy: 0.5024  |  0:00:09s\n",
      "epoch 3  | loss: 1.79482 | test_accuracy: 0.49281 |  0:00:12s\n",
      "epoch 4  | loss: 1.67544 | test_accuracy: 0.49121 |  0:00:15s\n",
      "epoch 5  | loss: 1.54105 | test_accuracy: 0.49174 |  0:00:19s\n",
      "epoch 6  | loss: 1.44726 | test_accuracy: 0.49814 |  0:00:22s\n",
      "epoch 7  | loss: 1.40117 | test_accuracy: 0.48535 |  0:00:25s\n",
      "epoch 8  | loss: 1.3395  | test_accuracy: 0.48695 |  0:00:28s\n",
      "epoch 9  | loss: 1.30983 | test_accuracy: 0.47842 |  0:00:32s\n",
      "epoch 10 | loss: 1.24844 | test_accuracy: 0.49707 |  0:00:35s\n",
      "epoch 11 | loss: 1.24016 | test_accuracy: 0.48961 |  0:00:38s\n",
      "epoch 12 | loss: 1.1882  | test_accuracy: 0.49547 |  0:00:41s\n",
      "\n",
      "Early stopping occurred at epoch 12 with best_epoch = 2 and best_test_accuracy = 0.5024\n"
     ]
    },
    {
     "name": "stderr",
     "output_type": "stream",
     "text": [
      "/home/gonken/anaconda3/envs/torch/lib/python3.12/site-packages/pytorch_tabnet/callbacks.py:172: UserWarning: Best weights from best epoch are automatically used!\n",
      "  warnings.warn(wrn_msg)\n",
      "[I 2024-10-30 18:41:12,713] Trial 87 finished with value: 0.5023974427277571 and parameters: {'n_d': 33, 'n_a': 17, 'n_steps': 9, 'gamma': 1.7768358018939523, 'lambda_sparse': 0.09260897875136244, 'learning_rate': 8.426004107251942e-05}. Best is trial 4 with value: 0.5359616409163559.\n",
      "/home/gonken/anaconda3/envs/torch/lib/python3.12/site-packages/pytorch_tabnet/abstract_model.py:82: UserWarning: Device used : cuda\n",
      "  warnings.warn(f\"Device used : {self.device}\")\n"
     ]
    },
    {
     "name": "stdout",
     "output_type": "stream",
     "text": [
      "epoch 0  | loss: 2.50543 | test_accuracy: 0.49441 |  0:00:03s\n",
      "epoch 1  | loss: 1.29342 | test_accuracy: 0.50186 |  0:00:06s\n",
      "epoch 2  | loss: 1.11102 | test_accuracy: 0.5008  |  0:00:09s\n",
      "epoch 3  | loss: 1.0218  | test_accuracy: 0.48801 |  0:00:13s\n",
      "epoch 4  | loss: 0.95387 | test_accuracy: 0.48375 |  0:00:16s\n",
      "epoch 5  | loss: 0.90886 | test_accuracy: 0.50453 |  0:00:19s\n",
      "epoch 6  | loss: 0.87251 | test_accuracy: 0.48855 |  0:00:22s\n",
      "epoch 7  | loss: 0.85164 | test_accuracy: 0.49867 |  0:00:26s\n",
      "epoch 8  | loss: 0.84015 | test_accuracy: 0.47842 |  0:00:29s\n",
      "epoch 9  | loss: 0.82645 | test_accuracy: 0.48641 |  0:00:32s\n",
      "epoch 10 | loss: 0.81636 | test_accuracy: 0.49814 |  0:00:36s\n",
      "epoch 11 | loss: 0.805   | test_accuracy: 0.49014 |  0:00:39s\n",
      "epoch 12 | loss: 0.79705 | test_accuracy: 0.49174 |  0:00:42s\n",
      "epoch 13 | loss: 0.79687 | test_accuracy: 0.50613 |  0:00:45s\n",
      "epoch 14 | loss: 0.78298 | test_accuracy: 0.50559 |  0:00:49s\n",
      "epoch 15 | loss: 0.7827  | test_accuracy: 0.48908 |  0:00:52s\n",
      "epoch 16 | loss: 0.78466 | test_accuracy: 0.51785 |  0:00:55s\n",
      "epoch 17 | loss: 0.77562 | test_accuracy: 0.48588 |  0:00:59s\n",
      "epoch 18 | loss: 0.77194 | test_accuracy: 0.5024  |  0:01:02s\n",
      "epoch 19 | loss: 0.76926 | test_accuracy: 0.5024  |  0:01:05s\n",
      "epoch 20 | loss: 0.76073 | test_accuracy: 0.49068 |  0:01:08s\n",
      "epoch 21 | loss: 0.75391 | test_accuracy: 0.50932 |  0:01:11s\n",
      "epoch 22 | loss: 0.76288 | test_accuracy: 0.5024  |  0:01:14s\n",
      "epoch 23 | loss: 0.75804 | test_accuracy: 0.496   |  0:01:18s\n",
      "epoch 24 | loss: 0.75172 | test_accuracy: 0.50986 |  0:01:21s\n",
      "epoch 25 | loss: 0.74067 | test_accuracy: 0.4992  |  0:01:24s\n",
      "epoch 26 | loss: 0.74607 | test_accuracy: 0.49814 |  0:01:27s\n",
      "\n",
      "Early stopping occurred at epoch 26 with best_epoch = 16 and best_test_accuracy = 0.51785\n"
     ]
    },
    {
     "name": "stderr",
     "output_type": "stream",
     "text": [
      "/home/gonken/anaconda3/envs/torch/lib/python3.12/site-packages/pytorch_tabnet/callbacks.py:172: UserWarning: Best weights from best epoch are automatically used!\n",
      "  warnings.warn(wrn_msg)\n",
      "[I 2024-10-30 18:42:42,313] Trial 88 finished with value: 0.5178476291955247 and parameters: {'n_d': 47, 'n_a': 23, 'n_steps': 9, 'gamma': 1.2051759061880023, 'lambda_sparse': 0.08876912904371034, 'learning_rate': 0.0003328415750258416}. Best is trial 4 with value: 0.5359616409163559.\n",
      "/home/gonken/anaconda3/envs/torch/lib/python3.12/site-packages/pytorch_tabnet/abstract_model.py:82: UserWarning: Device used : cuda\n",
      "  warnings.warn(f\"Device used : {self.device}\")\n"
     ]
    },
    {
     "name": "stdout",
     "output_type": "stream",
     "text": [
      "epoch 0  | loss: 1.15774 | test_accuracy: 0.48109 |  0:00:03s\n",
      "epoch 1  | loss: 0.93523 | test_accuracy: 0.51092 |  0:00:05s\n",
      "epoch 2  | loss: 0.79411 | test_accuracy: 0.49973 |  0:00:08s\n",
      "epoch 3  | loss: 0.74081 | test_accuracy: 0.50613 |  0:00:11s\n",
      "epoch 4  | loss: 0.7152  | test_accuracy: 0.51625 |  0:00:14s\n",
      "epoch 5  | loss: 0.69627 | test_accuracy: 0.52477 |  0:00:18s\n",
      "epoch 6  | loss: 0.67659 | test_accuracy: 0.49814 |  0:00:21s\n",
      "epoch 7  | loss: 0.67258 | test_accuracy: 0.49068 |  0:00:23s\n",
      "epoch 8  | loss: 0.66539 | test_accuracy: 0.50506 |  0:00:26s\n",
      "epoch 9  | loss: 0.67179 | test_accuracy: 0.51305 |  0:00:29s\n",
      "epoch 10 | loss: 0.66102 | test_accuracy: 0.48695 |  0:00:32s\n",
      "epoch 11 | loss: 0.6598  | test_accuracy: 0.50719 |  0:00:35s\n",
      "epoch 12 | loss: 0.65556 | test_accuracy: 0.49814 |  0:00:38s\n",
      "epoch 13 | loss: 0.65517 | test_accuracy: 0.51359 |  0:00:41s\n",
      "epoch 14 | loss: 0.65166 | test_accuracy: 0.49227 |  0:00:44s\n",
      "epoch 15 | loss: 0.65021 | test_accuracy: 0.47576 |  0:00:47s\n",
      "\n",
      "Early stopping occurred at epoch 15 with best_epoch = 5 and best_test_accuracy = 0.52477\n"
     ]
    },
    {
     "name": "stderr",
     "output_type": "stream",
     "text": [
      "/home/gonken/anaconda3/envs/torch/lib/python3.12/site-packages/pytorch_tabnet/callbacks.py:172: UserWarning: Best weights from best epoch are automatically used!\n",
      "  warnings.warn(wrn_msg)\n",
      "[I 2024-10-30 18:43:31,455] Trial 89 finished with value: 0.5247735748534896 and parameters: {'n_d': 50, 'n_a': 46, 'n_steps': 8, 'gamma': 1.5635593474676261, 'lambda_sparse': 0.057784544922078275, 'learning_rate': 0.004562368245332045}. Best is trial 4 with value: 0.5359616409163559.\n",
      "/home/gonken/anaconda3/envs/torch/lib/python3.12/site-packages/pytorch_tabnet/abstract_model.py:82: UserWarning: Device used : cuda\n",
      "  warnings.warn(f\"Device used : {self.device}\")\n"
     ]
    },
    {
     "name": "stdout",
     "output_type": "stream",
     "text": [
      "epoch 0  | loss: 0.82535 | test_accuracy: 0.48215 |  0:00:02s\n",
      "epoch 1  | loss: 0.73098 | test_accuracy: 0.51891 |  0:00:05s\n",
      "epoch 2  | loss: 0.71746 | test_accuracy: 0.50666 |  0:00:07s\n",
      "epoch 3  | loss: 0.71579 | test_accuracy: 0.50293 |  0:00:10s\n",
      "epoch 4  | loss: 0.70648 | test_accuracy: 0.51465 |  0:00:13s\n",
      "epoch 5  | loss: 0.69357 | test_accuracy: 0.50506 |  0:00:16s\n",
      "epoch 6  | loss: 0.68745 | test_accuracy: 0.50613 |  0:00:18s\n",
      "epoch 7  | loss: 0.69143 | test_accuracy: 0.52957 |  0:00:21s\n",
      "epoch 8  | loss: 0.68481 | test_accuracy: 0.50293 |  0:00:24s\n",
      "epoch 9  | loss: 0.67608 | test_accuracy: 0.51891 |  0:00:27s\n",
      "epoch 10 | loss: 0.66879 | test_accuracy: 0.53063 |  0:00:29s\n",
      "epoch 11 | loss: 0.67984 | test_accuracy: 0.52477 |  0:00:32s\n",
      "epoch 12 | loss: 0.67483 | test_accuracy: 0.50133 |  0:00:35s\n",
      "epoch 13 | loss: 0.67205 | test_accuracy: 0.50133 |  0:00:38s\n",
      "epoch 14 | loss: 0.666   | test_accuracy: 0.51039 |  0:00:41s\n",
      "epoch 15 | loss: 0.66812 | test_accuracy: 0.51465 |  0:00:43s\n",
      "epoch 16 | loss: 0.66861 | test_accuracy: 0.50879 |  0:00:46s\n",
      "epoch 17 | loss: 0.66472 | test_accuracy: 0.50826 |  0:00:49s\n",
      "epoch 18 | loss: 0.66133 | test_accuracy: 0.49174 |  0:00:51s\n",
      "epoch 19 | loss: 0.65771 | test_accuracy: 0.50133 |  0:00:54s\n",
      "epoch 20 | loss: 0.65458 | test_accuracy: 0.49387 |  0:00:57s\n",
      "\n",
      "Early stopping occurred at epoch 20 with best_epoch = 10 and best_test_accuracy = 0.53063\n"
     ]
    },
    {
     "name": "stderr",
     "output_type": "stream",
     "text": [
      "/home/gonken/anaconda3/envs/torch/lib/python3.12/site-packages/pytorch_tabnet/callbacks.py:172: UserWarning: Best weights from best epoch are automatically used!\n",
      "  warnings.warn(wrn_msg)\n",
      "[I 2024-10-30 18:44:30,047] Trial 90 finished with value: 0.5306339904102291 and parameters: {'n_d': 27, 'n_a': 16, 'n_steps': 7, 'gamma': 1.6516680884696409, 'lambda_sparse': 0.05114444585569354, 'learning_rate': 0.002138479070078367}. Best is trial 4 with value: 0.5359616409163559.\n",
      "/home/gonken/anaconda3/envs/torch/lib/python3.12/site-packages/pytorch_tabnet/abstract_model.py:82: UserWarning: Device used : cuda\n",
      "  warnings.warn(f\"Device used : {self.device}\")\n"
     ]
    },
    {
     "name": "stdout",
     "output_type": "stream",
     "text": [
      "epoch 0  | loss: 1.27937 | test_accuracy: 0.49814 |  0:00:02s\n",
      "epoch 1  | loss: 0.82859 | test_accuracy: 0.49174 |  0:00:06s\n",
      "epoch 2  | loss: 0.76672 | test_accuracy: 0.52637 |  0:00:09s\n",
      "epoch 3  | loss: 0.7236  | test_accuracy: 0.49334 |  0:00:12s\n",
      "epoch 4  | loss: 0.71512 | test_accuracy: 0.49281 |  0:00:15s\n",
      "epoch 5  | loss: 0.71723 | test_accuracy: 0.51092 |  0:00:18s\n",
      "epoch 6  | loss: 0.7107  | test_accuracy: 0.50613 |  0:00:21s\n",
      "epoch 7  | loss: 0.70151 | test_accuracy: 0.49494 |  0:00:23s\n",
      "epoch 8  | loss: 0.70408 | test_accuracy: 0.51891 |  0:00:26s\n",
      "epoch 9  | loss: 0.68979 | test_accuracy: 0.49547 |  0:00:28s\n",
      "epoch 10 | loss: 0.70179 | test_accuracy: 0.50719 |  0:00:31s\n",
      "epoch 11 | loss: 0.68326 | test_accuracy: 0.52424 |  0:00:34s\n",
      "epoch 12 | loss: 0.67971 | test_accuracy: 0.51572 |  0:00:37s\n",
      "\n",
      "Early stopping occurred at epoch 12 with best_epoch = 2 and best_test_accuracy = 0.52637\n"
     ]
    },
    {
     "name": "stderr",
     "output_type": "stream",
     "text": [
      "/home/gonken/anaconda3/envs/torch/lib/python3.12/site-packages/pytorch_tabnet/callbacks.py:172: UserWarning: Best weights from best epoch are automatically used!\n",
      "  warnings.warn(wrn_msg)\n",
      "[I 2024-10-30 18:45:08,659] Trial 91 finished with value: 0.5263718700053277 and parameters: {'n_d': 30, 'n_a': 16, 'n_steps': 7, 'gamma': 1.6586358367593268, 'lambda_sparse': 0.051295632268064814, 'learning_rate': 0.0021284956877023085}. Best is trial 4 with value: 0.5359616409163559.\n",
      "/home/gonken/anaconda3/envs/torch/lib/python3.12/site-packages/pytorch_tabnet/abstract_model.py:82: UserWarning: Device used : cuda\n",
      "  warnings.warn(f\"Device used : {self.device}\")\n"
     ]
    },
    {
     "name": "stdout",
     "output_type": "stream",
     "text": [
      "epoch 0  | loss: 1.26465 | test_accuracy: 0.49441 |  0:00:02s\n",
      "epoch 1  | loss: 0.79836 | test_accuracy: 0.51092 |  0:00:05s\n",
      "epoch 2  | loss: 0.73459 | test_accuracy: 0.50986 |  0:00:08s\n",
      "epoch 3  | loss: 0.74415 | test_accuracy: 0.52424 |  0:00:11s\n",
      "epoch 4  | loss: 0.72334 | test_accuracy: 0.51305 |  0:00:13s\n",
      "epoch 5  | loss: 0.70389 | test_accuracy: 0.48908 |  0:00:16s\n",
      "epoch 6  | loss: 0.70721 | test_accuracy: 0.51039 |  0:00:18s\n",
      "epoch 7  | loss: 0.69858 | test_accuracy: 0.50133 |  0:00:21s\n",
      "epoch 8  | loss: 0.69236 | test_accuracy: 0.51092 |  0:00:23s\n",
      "epoch 9  | loss: 0.69535 | test_accuracy: 0.50879 |  0:00:26s\n",
      "epoch 10 | loss: 0.69651 | test_accuracy: 0.4992  |  0:00:29s\n",
      "epoch 11 | loss: 0.6914  | test_accuracy: 0.49174 |  0:00:31s\n",
      "epoch 12 | loss: 0.68657 | test_accuracy: 0.49441 |  0:00:34s\n",
      "epoch 13 | loss: 0.67979 | test_accuracy: 0.48961 |  0:00:37s\n",
      "\n",
      "Early stopping occurred at epoch 13 with best_epoch = 3 and best_test_accuracy = 0.52424\n"
     ]
    },
    {
     "name": "stderr",
     "output_type": "stream",
     "text": [
      "/home/gonken/anaconda3/envs/torch/lib/python3.12/site-packages/pytorch_tabnet/callbacks.py:172: UserWarning: Best weights from best epoch are automatically used!\n",
      "  warnings.warn(wrn_msg)\n",
      "[I 2024-10-30 18:45:47,462] Trial 92 finished with value: 0.5242408098028769 and parameters: {'n_d': 30, 'n_a': 16, 'n_steps': 7, 'gamma': 1.6543358141851783, 'lambda_sparse': 0.04731480806292942, 'learning_rate': 0.002032934237311351}. Best is trial 4 with value: 0.5359616409163559.\n",
      "/home/gonken/anaconda3/envs/torch/lib/python3.12/site-packages/pytorch_tabnet/abstract_model.py:82: UserWarning: Device used : cuda\n",
      "  warnings.warn(f\"Device used : {self.device}\")\n"
     ]
    },
    {
     "name": "stdout",
     "output_type": "stream",
     "text": [
      "epoch 0  | loss: 1.02151 | test_accuracy: 0.5008  |  0:00:03s\n",
      "epoch 1  | loss: 0.80915 | test_accuracy: 0.51039 |  0:00:05s\n",
      "epoch 2  | loss: 0.76485 | test_accuracy: 0.5008  |  0:00:08s\n",
      "epoch 3  | loss: 0.7494  | test_accuracy: 0.50773 |  0:00:11s\n",
      "epoch 4  | loss: 0.72361 | test_accuracy: 0.504   |  0:00:14s\n",
      "epoch 5  | loss: 0.72154 | test_accuracy: 0.4976  |  0:00:16s\n",
      "epoch 6  | loss: 0.71809 | test_accuracy: 0.49387 |  0:00:19s\n",
      "epoch 7  | loss: 0.70816 | test_accuracy: 0.50986 |  0:00:22s\n",
      "epoch 8  | loss: 0.71712 | test_accuracy: 0.51465 |  0:00:25s\n",
      "epoch 9  | loss: 0.71235 | test_accuracy: 0.49494 |  0:00:27s\n",
      "epoch 10 | loss: 0.70898 | test_accuracy: 0.5024  |  0:00:30s\n",
      "epoch 11 | loss: 0.70565 | test_accuracy: 0.51572 |  0:00:33s\n",
      "epoch 12 | loss: 0.70071 | test_accuracy: 0.49441 |  0:00:36s\n",
      "epoch 13 | loss: 0.69646 | test_accuracy: 0.52318 |  0:00:39s\n",
      "epoch 14 | loss: 0.69434 | test_accuracy: 0.52371 |  0:00:42s\n",
      "epoch 15 | loss: 0.69442 | test_accuracy: 0.51518 |  0:00:44s\n",
      "epoch 16 | loss: 0.68993 | test_accuracy: 0.50453 |  0:00:47s\n",
      "epoch 17 | loss: 0.68992 | test_accuracy: 0.48961 |  0:00:50s\n",
      "epoch 18 | loss: 0.68439 | test_accuracy: 0.48269 |  0:00:52s\n",
      "epoch 19 | loss: 0.68596 | test_accuracy: 0.49121 |  0:00:55s\n",
      "epoch 20 | loss: 0.6821  | test_accuracy: 0.51199 |  0:00:58s\n",
      "epoch 21 | loss: 0.68517 | test_accuracy: 0.48535 |  0:01:01s\n",
      "epoch 22 | loss: 0.68382 | test_accuracy: 0.48855 |  0:01:04s\n",
      "epoch 23 | loss: 0.68436 | test_accuracy: 0.49867 |  0:01:07s\n",
      "epoch 24 | loss: 0.683   | test_accuracy: 0.49494 |  0:01:09s\n",
      "\n",
      "Early stopping occurred at epoch 24 with best_epoch = 14 and best_test_accuracy = 0.52371\n"
     ]
    },
    {
     "name": "stderr",
     "output_type": "stream",
     "text": [
      "/home/gonken/anaconda3/envs/torch/lib/python3.12/site-packages/pytorch_tabnet/callbacks.py:172: UserWarning: Best weights from best epoch are automatically used!\n",
      "  warnings.warn(wrn_msg)\n",
      "[I 2024-10-30 18:46:58,647] Trial 93 finished with value: 0.5237080447522643 and parameters: {'n_d': 27, 'n_a': 13, 'n_steps': 7, 'gamma': 1.6926724802775597, 'lambda_sparse': 0.050572358423420116, 'learning_rate': 0.001137414920119706}. Best is trial 4 with value: 0.5359616409163559.\n",
      "/home/gonken/anaconda3/envs/torch/lib/python3.12/site-packages/pytorch_tabnet/abstract_model.py:82: UserWarning: Device used : cuda\n",
      "  warnings.warn(f\"Device used : {self.device}\")\n"
     ]
    },
    {
     "name": "stdout",
     "output_type": "stream",
     "text": [
      "epoch 0  | loss: 2.51559 | test_accuracy: 0.5008  |  0:00:02s\n",
      "epoch 1  | loss: 1.04939 | test_accuracy: 0.504   |  0:00:05s\n",
      "epoch 2  | loss: 0.82322 | test_accuracy: 0.49814 |  0:00:07s\n",
      "epoch 3  | loss: 0.77426 | test_accuracy: 0.51039 |  0:00:09s\n",
      "epoch 4  | loss: 0.73738 | test_accuracy: 0.51199 |  0:00:12s\n",
      "epoch 5  | loss: 0.7292  | test_accuracy: 0.49387 |  0:00:14s\n",
      "epoch 6  | loss: 0.72443 | test_accuracy: 0.51465 |  0:00:16s\n",
      "epoch 7  | loss: 0.72727 | test_accuracy: 0.48961 |  0:00:19s\n",
      "epoch 8  | loss: 0.71726 | test_accuracy: 0.49174 |  0:00:21s\n",
      "epoch 9  | loss: 0.70984 | test_accuracy: 0.49973 |  0:00:23s\n",
      "epoch 10 | loss: 0.70585 | test_accuracy: 0.50186 |  0:00:26s\n",
      "epoch 11 | loss: 0.70532 | test_accuracy: 0.50613 |  0:00:28s\n",
      "epoch 12 | loss: 0.70583 | test_accuracy: 0.48428 |  0:00:31s\n",
      "epoch 13 | loss: 0.69942 | test_accuracy: 0.48908 |  0:00:34s\n",
      "epoch 14 | loss: 0.70416 | test_accuracy: 0.48855 |  0:00:37s\n",
      "epoch 15 | loss: 0.69489 | test_accuracy: 0.4976  |  0:00:39s\n",
      "epoch 16 | loss: 0.69205 | test_accuracy: 0.48269 |  0:00:42s\n",
      "\n",
      "Early stopping occurred at epoch 16 with best_epoch = 6 and best_test_accuracy = 0.51465\n"
     ]
    },
    {
     "name": "stderr",
     "output_type": "stream",
     "text": [
      "/home/gonken/anaconda3/envs/torch/lib/python3.12/site-packages/pytorch_tabnet/callbacks.py:172: UserWarning: Best weights from best epoch are automatically used!\n",
      "  warnings.warn(wrn_msg)\n",
      "[I 2024-10-30 18:47:41,921] Trial 94 finished with value: 0.5146510388918487 and parameters: {'n_d': 24, 'n_a': 20, 'n_steps': 6, 'gamma': 1.7290892921395415, 'lambda_sparse': 0.04483070939155358, 'learning_rate': 0.0007003645478100268}. Best is trial 4 with value: 0.5359616409163559.\n",
      "/home/gonken/anaconda3/envs/torch/lib/python3.12/site-packages/pytorch_tabnet/abstract_model.py:82: UserWarning: Device used : cuda\n",
      "  warnings.warn(f\"Device used : {self.device}\")\n"
     ]
    },
    {
     "name": "stdout",
     "output_type": "stream",
     "text": [
      "epoch 0  | loss: 0.96229 | test_accuracy: 0.50027 |  0:00:02s\n",
      "epoch 1  | loss: 0.79511 | test_accuracy: 0.5024  |  0:00:05s\n",
      "epoch 2  | loss: 0.76603 | test_accuracy: 0.4992  |  0:00:08s\n",
      "epoch 3  | loss: 0.73691 | test_accuracy: 0.50826 |  0:00:11s\n",
      "epoch 4  | loss: 0.731   | test_accuracy: 0.49547 |  0:00:13s\n",
      "epoch 5  | loss: 0.71788 | test_accuracy: 0.52477 |  0:00:16s\n",
      "epoch 6  | loss: 0.70943 | test_accuracy: 0.49387 |  0:00:19s\n",
      "epoch 7  | loss: 0.69919 | test_accuracy: 0.49334 |  0:00:22s\n",
      "epoch 8  | loss: 0.69349 | test_accuracy: 0.49707 |  0:00:25s\n",
      "epoch 9  | loss: 0.70194 | test_accuracy: 0.48748 |  0:00:27s\n",
      "epoch 10 | loss: 0.70131 | test_accuracy: 0.49281 |  0:00:30s\n",
      "epoch 11 | loss: 0.68985 | test_accuracy: 0.4976  |  0:00:33s\n",
      "epoch 12 | loss: 0.68566 | test_accuracy: 0.49174 |  0:00:35s\n",
      "epoch 13 | loss: 0.68185 | test_accuracy: 0.49494 |  0:00:38s\n",
      "epoch 14 | loss: 0.67593 | test_accuracy: 0.50293 |  0:00:41s\n",
      "epoch 15 | loss: 0.66985 | test_accuracy: 0.50506 |  0:00:44s\n",
      "\n",
      "Early stopping occurred at epoch 15 with best_epoch = 5 and best_test_accuracy = 0.52477\n"
     ]
    },
    {
     "name": "stderr",
     "output_type": "stream",
     "text": [
      "/home/gonken/anaconda3/envs/torch/lib/python3.12/site-packages/pytorch_tabnet/callbacks.py:172: UserWarning: Best weights from best epoch are automatically used!\n",
      "  warnings.warn(wrn_msg)\n",
      "[I 2024-10-30 18:48:27,316] Trial 95 finished with value: 0.5247735748534896 and parameters: {'n_d': 29, 'n_a': 14, 'n_steps': 7, 'gamma': 1.6200518186815251, 'lambda_sparse': 0.0393322042805895, 'learning_rate': 0.0029252818247905445}. Best is trial 4 with value: 0.5359616409163559.\n",
      "/home/gonken/anaconda3/envs/torch/lib/python3.12/site-packages/pytorch_tabnet/abstract_model.py:82: UserWarning: Device used : cuda\n",
      "  warnings.warn(f\"Device used : {self.device}\")\n"
     ]
    },
    {
     "name": "stdout",
     "output_type": "stream",
     "text": [
      "epoch 0  | loss: 1.94843 | test_accuracy: 0.49867 |  0:00:02s\n",
      "epoch 1  | loss: 0.90306 | test_accuracy: 0.50506 |  0:00:04s\n",
      "epoch 2  | loss: 0.79286 | test_accuracy: 0.50346 |  0:00:07s\n",
      "epoch 3  | loss: 0.75404 | test_accuracy: 0.49174 |  0:00:10s\n",
      "epoch 4  | loss: 0.73948 | test_accuracy: 0.49387 |  0:00:12s\n",
      "epoch 5  | loss: 0.73625 | test_accuracy: 0.48055 |  0:00:15s\n",
      "epoch 6  | loss: 0.71947 | test_accuracy: 0.51039 |  0:00:17s\n",
      "epoch 7  | loss: 0.71427 | test_accuracy: 0.49014 |  0:00:19s\n",
      "epoch 8  | loss: 0.71631 | test_accuracy: 0.48908 |  0:00:22s\n",
      "epoch 9  | loss: 0.7091  | test_accuracy: 0.49174 |  0:00:24s\n",
      "epoch 10 | loss: 0.69848 | test_accuracy: 0.48215 |  0:00:27s\n",
      "epoch 11 | loss: 0.69659 | test_accuracy: 0.48908 |  0:00:29s\n",
      "epoch 12 | loss: 0.69987 | test_accuracy: 0.49867 |  0:00:32s\n",
      "epoch 13 | loss: 0.69042 | test_accuracy: 0.50559 |  0:00:35s\n",
      "epoch 14 | loss: 0.69447 | test_accuracy: 0.49494 |  0:00:38s\n",
      "epoch 15 | loss: 0.69035 | test_accuracy: 0.51359 |  0:00:40s\n",
      "epoch 16 | loss: 0.68885 | test_accuracy: 0.50773 |  0:00:43s\n",
      "epoch 17 | loss: 0.6844  | test_accuracy: 0.49334 |  0:00:45s\n",
      "epoch 18 | loss: 0.6827  | test_accuracy: 0.49281 |  0:00:48s\n",
      "epoch 19 | loss: 0.68188 | test_accuracy: 0.48855 |  0:00:51s\n",
      "epoch 20 | loss: 0.68582 | test_accuracy: 0.49441 |  0:00:53s\n",
      "epoch 21 | loss: 0.68067 | test_accuracy: 0.48695 |  0:00:56s\n",
      "epoch 22 | loss: 0.68789 | test_accuracy: 0.50559 |  0:00:59s\n",
      "epoch 23 | loss: 0.68034 | test_accuracy: 0.504   |  0:01:01s\n",
      "epoch 24 | loss: 0.6715  | test_accuracy: 0.51412 |  0:01:04s\n",
      "epoch 25 | loss: 0.68369 | test_accuracy: 0.504   |  0:01:06s\n",
      "epoch 26 | loss: 0.67641 | test_accuracy: 0.50027 |  0:01:09s\n",
      "epoch 27 | loss: 0.6725  | test_accuracy: 0.51359 |  0:01:12s\n",
      "epoch 28 | loss: 0.6755  | test_accuracy: 0.4992  |  0:01:14s\n",
      "epoch 29 | loss: 0.6663  | test_accuracy: 0.51785 |  0:01:17s\n",
      "epoch 30 | loss: 0.66609 | test_accuracy: 0.49334 |  0:01:19s\n",
      "epoch 31 | loss: 0.66814 | test_accuracy: 0.51145 |  0:01:22s\n",
      "epoch 32 | loss: 0.66632 | test_accuracy: 0.50133 |  0:01:24s\n",
      "epoch 33 | loss: 0.66198 | test_accuracy: 0.50293 |  0:01:27s\n",
      "epoch 34 | loss: 0.6627  | test_accuracy: 0.51199 |  0:01:29s\n",
      "epoch 35 | loss: 0.66209 | test_accuracy: 0.49867 |  0:01:32s\n",
      "epoch 36 | loss: 0.65645 | test_accuracy: 0.50027 |  0:01:34s\n",
      "epoch 37 | loss: 0.65902 | test_accuracy: 0.49547 |  0:01:37s\n",
      "epoch 38 | loss: 0.65164 | test_accuracy: 0.5008  |  0:01:40s\n",
      "epoch 39 | loss: 0.65176 | test_accuracy: 0.50027 |  0:01:42s\n",
      "\n",
      "Early stopping occurred at epoch 39 with best_epoch = 29 and best_test_accuracy = 0.51785\n"
     ]
    },
    {
     "name": "stderr",
     "output_type": "stream",
     "text": [
      "/home/gonken/anaconda3/envs/torch/lib/python3.12/site-packages/pytorch_tabnet/callbacks.py:172: UserWarning: Best weights from best epoch are automatically used!\n",
      "  warnings.warn(wrn_msg)\n",
      "[I 2024-10-30 18:50:11,038] Trial 96 finished with value: 0.5178476291955247 and parameters: {'n_d': 35, 'n_a': 10, 'n_steps': 6, 'gamma': 1.7111998842431932, 'lambda_sparse': 0.03489787344351557, 'learning_rate': 0.0011014094555813654}. Best is trial 4 with value: 0.5359616409163559.\n",
      "/home/gonken/anaconda3/envs/torch/lib/python3.12/site-packages/pytorch_tabnet/abstract_model.py:82: UserWarning: Device used : cuda\n",
      "  warnings.warn(f\"Device used : {self.device}\")\n"
     ]
    },
    {
     "name": "stdout",
     "output_type": "stream",
     "text": [
      "epoch 0  | loss: 1.04677 | test_accuracy: 0.50719 |  0:00:02s\n",
      "epoch 1  | loss: 0.77817 | test_accuracy: 0.48695 |  0:00:05s\n",
      "epoch 2  | loss: 0.71547 | test_accuracy: 0.49867 |  0:00:07s\n",
      "epoch 3  | loss: 0.68959 | test_accuracy: 0.50506 |  0:00:10s\n",
      "epoch 4  | loss: 0.6665  | test_accuracy: 0.504   |  0:00:13s\n",
      "epoch 5  | loss: 0.66316 | test_accuracy: 0.49334 |  0:00:15s\n",
      "epoch 6  | loss: 0.65201 | test_accuracy: 0.50293 |  0:00:18s\n",
      "epoch 7  | loss: 0.64704 | test_accuracy: 0.51465 |  0:00:21s\n",
      "epoch 8  | loss: 0.65017 | test_accuracy: 0.49707 |  0:00:24s\n",
      "epoch 9  | loss: 0.64452 | test_accuracy: 0.48908 |  0:00:26s\n",
      "epoch 10 | loss: 0.64065 | test_accuracy: 0.5024  |  0:00:29s\n",
      "epoch 11 | loss: 0.64014 | test_accuracy: 0.49494 |  0:00:32s\n",
      "epoch 12 | loss: 0.63621 | test_accuracy: 0.49121 |  0:00:35s\n",
      "epoch 13 | loss: 0.63975 | test_accuracy: 0.49867 |  0:00:37s\n",
      "epoch 14 | loss: 0.63438 | test_accuracy: 0.51518 |  0:00:40s\n",
      "epoch 15 | loss: 0.63868 | test_accuracy: 0.48109 |  0:00:43s\n",
      "epoch 16 | loss: 0.63355 | test_accuracy: 0.51092 |  0:00:45s\n",
      "epoch 17 | loss: 0.63488 | test_accuracy: 0.52744 |  0:00:48s\n",
      "epoch 18 | loss: 0.63667 | test_accuracy: 0.51625 |  0:00:51s\n",
      "epoch 19 | loss: 0.63296 | test_accuracy: 0.51305 |  0:00:53s\n",
      "epoch 20 | loss: 0.63327 | test_accuracy: 0.50986 |  0:00:56s\n",
      "epoch 21 | loss: 0.63446 | test_accuracy: 0.50559 |  0:00:59s\n",
      "epoch 22 | loss: 0.63264 | test_accuracy: 0.51678 |  0:01:02s\n",
      "epoch 23 | loss: 0.62698 | test_accuracy: 0.50773 |  0:01:04s\n",
      "epoch 24 | loss: 0.62484 | test_accuracy: 0.50986 |  0:01:07s\n",
      "epoch 25 | loss: 0.62631 | test_accuracy: 0.51412 |  0:01:10s\n",
      "epoch 26 | loss: 0.62745 | test_accuracy: 0.50293 |  0:01:12s\n",
      "epoch 27 | loss: 0.62838 | test_accuracy: 0.50506 |  0:01:15s\n",
      "\n",
      "Early stopping occurred at epoch 27 with best_epoch = 17 and best_test_accuracy = 0.52744\n"
     ]
    },
    {
     "name": "stderr",
     "output_type": "stream",
     "text": [
      "/home/gonken/anaconda3/envs/torch/lib/python3.12/site-packages/pytorch_tabnet/callbacks.py:172: UserWarning: Best weights from best epoch are automatically used!\n",
      "  warnings.warn(wrn_msg)\n",
      "[I 2024-10-30 18:51:27,915] Trial 97 finished with value: 0.527437400106553 and parameters: {'n_d': 27, 'n_a': 56, 'n_steps': 7, 'gamma': 1.7658042002403, 'lambda_sparse': 0.025935098495993365, 'learning_rate': 0.006207980499577543}. Best is trial 4 with value: 0.5359616409163559.\n",
      "/home/gonken/anaconda3/envs/torch/lib/python3.12/site-packages/pytorch_tabnet/abstract_model.py:82: UserWarning: Device used : cuda\n",
      "  warnings.warn(f\"Device used : {self.device}\")\n"
     ]
    },
    {
     "name": "stdout",
     "output_type": "stream",
     "text": [
      "epoch 0  | loss: 0.91618 | test_accuracy: 0.49547 |  0:00:02s\n",
      "epoch 1  | loss: 0.7677  | test_accuracy: 0.49068 |  0:00:05s\n",
      "epoch 2  | loss: 0.70322 | test_accuracy: 0.47896 |  0:00:08s\n",
      "epoch 3  | loss: 0.67806 | test_accuracy: 0.49014 |  0:00:11s\n",
      "epoch 4  | loss: 0.6705  | test_accuracy: 0.50346 |  0:00:13s\n",
      "epoch 5  | loss: 0.66103 | test_accuracy: 0.50719 |  0:00:16s\n",
      "epoch 6  | loss: 0.66007 | test_accuracy: 0.504   |  0:00:19s\n",
      "epoch 7  | loss: 0.65663 | test_accuracy: 0.49494 |  0:00:22s\n",
      "epoch 8  | loss: 0.65049 | test_accuracy: 0.50506 |  0:00:24s\n",
      "epoch 9  | loss: 0.64807 | test_accuracy: 0.49227 |  0:00:27s\n",
      "epoch 10 | loss: 0.6481  | test_accuracy: 0.504   |  0:00:30s\n",
      "epoch 11 | loss: 0.6458  | test_accuracy: 0.50773 |  0:00:33s\n",
      "epoch 12 | loss: 0.64431 | test_accuracy: 0.49494 |  0:00:35s\n",
      "epoch 13 | loss: 0.64584 | test_accuracy: 0.50613 |  0:00:38s\n",
      "epoch 14 | loss: 0.65006 | test_accuracy: 0.50186 |  0:00:41s\n",
      "epoch 15 | loss: 0.64671 | test_accuracy: 0.50719 |  0:00:44s\n",
      "epoch 16 | loss: 0.64733 | test_accuracy: 0.5024  |  0:00:47s\n",
      "epoch 17 | loss: 0.64404 | test_accuracy: 0.52424 |  0:00:49s\n",
      "epoch 18 | loss: 0.64522 | test_accuracy: 0.4976  |  0:00:52s\n",
      "epoch 19 | loss: 0.64154 | test_accuracy: 0.50826 |  0:00:55s\n",
      "epoch 20 | loss: 0.64182 | test_accuracy: 0.50613 |  0:00:58s\n",
      "epoch 21 | loss: 0.64501 | test_accuracy: 0.51518 |  0:01:01s\n",
      "epoch 22 | loss: 0.63699 | test_accuracy: 0.52051 |  0:01:04s\n",
      "epoch 23 | loss: 0.64039 | test_accuracy: 0.5008  |  0:01:06s\n",
      "epoch 24 | loss: 0.63831 | test_accuracy: 0.48801 |  0:01:09s\n",
      "epoch 25 | loss: 0.63708 | test_accuracy: 0.51785 |  0:01:12s\n",
      "epoch 26 | loss: 0.63508 | test_accuracy: 0.50613 |  0:01:15s\n",
      "epoch 27 | loss: 0.64009 | test_accuracy: 0.50666 |  0:01:18s\n",
      "\n",
      "Early stopping occurred at epoch 27 with best_epoch = 17 and best_test_accuracy = 0.52424\n"
     ]
    },
    {
     "name": "stderr",
     "output_type": "stream",
     "text": [
      "/home/gonken/anaconda3/envs/torch/lib/python3.12/site-packages/pytorch_tabnet/callbacks.py:172: UserWarning: Best weights from best epoch are automatically used!\n",
      "  warnings.warn(wrn_msg)\n",
      "[I 2024-10-30 18:52:47,567] Trial 98 finished with value: 0.5242408098028769 and parameters: {'n_d': 26, 'n_a': 57, 'n_steps': 7, 'gamma': 1.784039591186162, 'lambda_sparse': 0.02334473044383916, 'learning_rate': 0.005565528268338914}. Best is trial 4 with value: 0.5359616409163559.\n",
      "/home/gonken/anaconda3/envs/torch/lib/python3.12/site-packages/pytorch_tabnet/abstract_model.py:82: UserWarning: Device used : cuda\n",
      "  warnings.warn(f\"Device used : {self.device}\")\n"
     ]
    },
    {
     "name": "stdout",
     "output_type": "stream",
     "text": [
      "epoch 0  | loss: 0.90005 | test_accuracy: 0.51145 |  0:00:02s\n",
      "epoch 1  | loss: 0.74008 | test_accuracy: 0.49707 |  0:00:05s\n",
      "epoch 2  | loss: 0.67684 | test_accuracy: 0.50986 |  0:00:08s\n",
      "epoch 3  | loss: 0.66436 | test_accuracy: 0.48428 |  0:00:10s\n",
      "epoch 4  | loss: 0.66281 | test_accuracy: 0.51572 |  0:00:12s\n",
      "epoch 5  | loss: 0.66397 | test_accuracy: 0.50932 |  0:00:15s\n",
      "epoch 6  | loss: 0.65852 | test_accuracy: 0.51412 |  0:00:17s\n",
      "epoch 7  | loss: 0.65835 | test_accuracy: 0.50613 |  0:00:20s\n",
      "epoch 8  | loss: 0.65375 | test_accuracy: 0.51252 |  0:00:23s\n",
      "epoch 9  | loss: 0.64264 | test_accuracy: 0.49973 |  0:00:25s\n",
      "epoch 10 | loss: 0.64466 | test_accuracy: 0.504   |  0:00:28s\n",
      "epoch 11 | loss: 0.64387 | test_accuracy: 0.49494 |  0:00:31s\n",
      "epoch 12 | loss: 0.64133 | test_accuracy: 0.50027 |  0:00:33s\n",
      "epoch 13 | loss: 0.63654 | test_accuracy: 0.48588 |  0:00:36s\n",
      "epoch 14 | loss: 0.63535 | test_accuracy: 0.48641 |  0:00:38s\n",
      "\n",
      "Early stopping occurred at epoch 14 with best_epoch = 4 and best_test_accuracy = 0.51572\n"
     ]
    },
    {
     "name": "stderr",
     "output_type": "stream",
     "text": [
      "/home/gonken/anaconda3/envs/torch/lib/python3.12/site-packages/pytorch_tabnet/callbacks.py:172: UserWarning: Best weights from best epoch are automatically used!\n",
      "  warnings.warn(wrn_msg)\n",
      "[I 2024-10-30 18:53:27,879] Trial 99 finished with value: 0.515716568993074 and parameters: {'n_d': 23, 'n_a': 62, 'n_steps': 7, 'gamma': 1.7529985723255714, 'lambda_sparse': 0.03867559078849576, 'learning_rate': 0.009044930342106131}. Best is trial 4 with value: 0.5359616409163559.\n",
      "/home/gonken/anaconda3/envs/torch/lib/python3.12/site-packages/pytorch_tabnet/abstract_model.py:82: UserWarning: Device used : cuda\n",
      "  warnings.warn(f\"Device used : {self.device}\")\n"
     ]
    },
    {
     "name": "stdout",
     "output_type": "stream",
     "text": [
      "epoch 0  | loss: 1.10098 | test_accuracy: 0.48588 |  0:00:02s\n",
      "epoch 1  | loss: 0.69215 | test_accuracy: 0.50133 |  0:00:05s\n",
      "epoch 2  | loss: 0.68342 | test_accuracy: 0.5024  |  0:00:08s\n",
      "epoch 3  | loss: 0.67562 | test_accuracy: 0.49068 |  0:00:11s\n",
      "epoch 4  | loss: 0.67571 | test_accuracy: 0.50666 |  0:00:14s\n",
      "epoch 5  | loss: 0.68085 | test_accuracy: 0.49387 |  0:00:16s\n",
      "epoch 6  | loss: 0.6755  | test_accuracy: 0.5024  |  0:00:19s\n",
      "epoch 7  | loss: 0.67178 | test_accuracy: 0.48055 |  0:00:22s\n",
      "epoch 8  | loss: 0.67078 | test_accuracy: 0.50559 |  0:00:25s\n",
      "epoch 9  | loss: 0.66896 | test_accuracy: 0.48855 |  0:00:28s\n",
      "epoch 10 | loss: 0.66521 | test_accuracy: 0.49014 |  0:00:30s\n",
      "epoch 11 | loss: 0.67136 | test_accuracy: 0.496   |  0:00:33s\n",
      "epoch 12 | loss: 0.67019 | test_accuracy: 0.49334 |  0:00:35s\n",
      "epoch 13 | loss: 0.66755 | test_accuracy: 0.49494 |  0:00:38s\n",
      "epoch 14 | loss: 0.66948 | test_accuracy: 0.5024  |  0:00:41s\n",
      "\n",
      "Early stopping occurred at epoch 14 with best_epoch = 4 and best_test_accuracy = 0.50666\n"
     ]
    },
    {
     "name": "stderr",
     "output_type": "stream",
     "text": [
      "/home/gonken/anaconda3/envs/torch/lib/python3.12/site-packages/pytorch_tabnet/callbacks.py:172: UserWarning: Best weights from best epoch are automatically used!\n",
      "  warnings.warn(wrn_msg)\n",
      "[I 2024-10-30 18:54:10,387] Trial 100 finished with value: 0.5066595631326585 and parameters: {'n_d': 28, 'n_a': 50, 'n_steps': 7, 'gamma': 1.6412158829552423, 'lambda_sparse': 0.025939287561615648, 'learning_rate': 0.02840548428296588}. Best is trial 4 with value: 0.5359616409163559.\n",
      "/home/gonken/anaconda3/envs/torch/lib/python3.12/site-packages/pytorch_tabnet/abstract_model.py:82: UserWarning: Device used : cuda\n",
      "  warnings.warn(f\"Device used : {self.device}\")\n"
     ]
    },
    {
     "name": "stdout",
     "output_type": "stream",
     "text": [
      "epoch 0  | loss: 0.9051  | test_accuracy: 0.48961 |  0:00:02s\n",
      "epoch 1  | loss: 0.77683 | test_accuracy: 0.50773 |  0:00:05s\n",
      "epoch 2  | loss: 0.75598 | test_accuracy: 0.51359 |  0:00:08s\n",
      "epoch 3  | loss: 0.7107  | test_accuracy: 0.50879 |  0:00:11s\n",
      "epoch 4  | loss: 0.69581 | test_accuracy: 0.50186 |  0:00:14s\n",
      "epoch 5  | loss: 0.67503 | test_accuracy: 0.51945 |  0:00:17s\n",
      "epoch 6  | loss: 0.67235 | test_accuracy: 0.50932 |  0:00:20s\n",
      "epoch 7  | loss: 0.6597  | test_accuracy: 0.50879 |  0:00:22s\n",
      "epoch 8  | loss: 0.65405 | test_accuracy: 0.50719 |  0:00:25s\n",
      "epoch 9  | loss: 0.65404 | test_accuracy: 0.496   |  0:00:27s\n",
      "epoch 10 | loss: 0.65278 | test_accuracy: 0.49227 |  0:00:30s\n",
      "epoch 11 | loss: 0.64787 | test_accuracy: 0.5024  |  0:00:33s\n",
      "epoch 12 | loss: 0.65    | test_accuracy: 0.51625 |  0:00:35s\n",
      "epoch 13 | loss: 0.64582 | test_accuracy: 0.50986 |  0:00:38s\n",
      "epoch 14 | loss: 0.64193 | test_accuracy: 0.50932 |  0:00:41s\n",
      "epoch 15 | loss: 0.64234 | test_accuracy: 0.50133 |  0:00:44s\n",
      "\n",
      "Early stopping occurred at epoch 15 with best_epoch = 5 and best_test_accuracy = 0.51945\n"
     ]
    },
    {
     "name": "stderr",
     "output_type": "stream",
     "text": [
      "/home/gonken/anaconda3/envs/torch/lib/python3.12/site-packages/pytorch_tabnet/callbacks.py:172: UserWarning: Best weights from best epoch are automatically used!\n",
      "  warnings.warn(wrn_msg)\n",
      "[I 2024-10-30 18:54:56,075] Trial 101 finished with value: 0.5194459243473628 and parameters: {'n_d': 30, 'n_a': 61, 'n_steps': 7, 'gamma': 1.8590051575166433, 'lambda_sparse': 0.08283167596425474, 'learning_rate': 0.003135074365963743}. Best is trial 4 with value: 0.5359616409163559.\n",
      "/home/gonken/anaconda3/envs/torch/lib/python3.12/site-packages/pytorch_tabnet/abstract_model.py:82: UserWarning: Device used : cuda\n",
      "  warnings.warn(f\"Device used : {self.device}\")\n"
     ]
    },
    {
     "name": "stdout",
     "output_type": "stream",
     "text": [
      "epoch 0  | loss: 0.85064 | test_accuracy: 0.48109 |  0:00:02s\n",
      "epoch 1  | loss: 0.6834  | test_accuracy: 0.5008  |  0:00:05s\n",
      "epoch 2  | loss: 0.67923 | test_accuracy: 0.50186 |  0:00:07s\n",
      "epoch 3  | loss: 0.67579 | test_accuracy: 0.49494 |  0:00:10s\n",
      "epoch 4  | loss: 0.67405 | test_accuracy: 0.5024  |  0:00:12s\n",
      "epoch 5  | loss: 0.67393 | test_accuracy: 0.5008  |  0:00:15s\n",
      "epoch 6  | loss: 0.67833 | test_accuracy: 0.48855 |  0:00:18s\n",
      "epoch 7  | loss: 0.68292 | test_accuracy: 0.48695 |  0:00:20s\n",
      "epoch 8  | loss: 0.68023 | test_accuracy: 0.50826 |  0:00:23s\n",
      "epoch 9  | loss: 0.67788 | test_accuracy: 0.49281 |  0:00:26s\n",
      "epoch 10 | loss: 0.67807 | test_accuracy: 0.48482 |  0:00:28s\n",
      "epoch 11 | loss: 0.67724 | test_accuracy: 0.49281 |  0:00:31s\n",
      "epoch 12 | loss: 0.67693 | test_accuracy: 0.4976  |  0:00:33s\n",
      "epoch 13 | loss: 0.67466 | test_accuracy: 0.48535 |  0:00:36s\n",
      "epoch 14 | loss: 0.67744 | test_accuracy: 0.48908 |  0:00:38s\n",
      "epoch 15 | loss: 0.67434 | test_accuracy: 0.48215 |  0:00:41s\n",
      "epoch 16 | loss: 0.67536 | test_accuracy: 0.47682 |  0:00:44s\n",
      "epoch 17 | loss: 0.67432 | test_accuracy: 0.4992  |  0:00:47s\n",
      "epoch 18 | loss: 0.6721  | test_accuracy: 0.47096 |  0:00:49s\n",
      "\n",
      "Early stopping occurred at epoch 18 with best_epoch = 8 and best_test_accuracy = 0.50826\n"
     ]
    },
    {
     "name": "stderr",
     "output_type": "stream",
     "text": [
      "/home/gonken/anaconda3/envs/torch/lib/python3.12/site-packages/pytorch_tabnet/callbacks.py:172: UserWarning: Best weights from best epoch are automatically used!\n",
      "  warnings.warn(wrn_msg)\n",
      "[I 2024-10-30 18:55:46,894] Trial 102 finished with value: 0.5082578582844965 and parameters: {'n_d': 31, 'n_a': 58, 'n_steps': 6, 'gamma': 1.5321182950755277, 'lambda_sparse': 0.05890570366646047, 'learning_rate': 0.053088305073398664}. Best is trial 4 with value: 0.5359616409163559.\n",
      "/home/gonken/anaconda3/envs/torch/lib/python3.12/site-packages/pytorch_tabnet/abstract_model.py:82: UserWarning: Device used : cuda\n",
      "  warnings.warn(f\"Device used : {self.device}\")\n"
     ]
    },
    {
     "name": "stdout",
     "output_type": "stream",
     "text": [
      "epoch 0  | loss: 1.0718  | test_accuracy: 0.50986 |  0:00:02s\n",
      "epoch 1  | loss: 0.82344 | test_accuracy: 0.49014 |  0:00:05s\n",
      "epoch 2  | loss: 0.78103 | test_accuracy: 0.48428 |  0:00:08s\n",
      "epoch 3  | loss: 0.75361 | test_accuracy: 0.4976  |  0:00:11s\n",
      "epoch 4  | loss: 0.76417 | test_accuracy: 0.50186 |  0:00:14s\n",
      "epoch 5  | loss: 0.72554 | test_accuracy: 0.504   |  0:00:17s\n",
      "epoch 6  | loss: 0.72361 | test_accuracy: 0.49387 |  0:00:19s\n",
      "epoch 7  | loss: 0.72977 | test_accuracy: 0.48855 |  0:00:22s\n",
      "epoch 8  | loss: 0.71193 | test_accuracy: 0.5269  |  0:00:25s\n",
      "epoch 9  | loss: 0.69924 | test_accuracy: 0.51252 |  0:00:28s\n",
      "epoch 10 | loss: 0.69689 | test_accuracy: 0.5024  |  0:00:30s\n",
      "epoch 11 | loss: 0.6952  | test_accuracy: 0.50932 |  0:00:33s\n",
      "epoch 12 | loss: 0.69158 | test_accuracy: 0.50453 |  0:00:36s\n",
      "epoch 13 | loss: 0.68443 | test_accuracy: 0.5008  |  0:00:39s\n",
      "epoch 14 | loss: 0.68438 | test_accuracy: 0.49973 |  0:00:41s\n",
      "epoch 15 | loss: 0.67554 | test_accuracy: 0.51145 |  0:00:44s\n",
      "epoch 16 | loss: 0.66493 | test_accuracy: 0.51199 |  0:00:47s\n",
      "epoch 17 | loss: 0.66271 | test_accuracy: 0.50666 |  0:00:50s\n",
      "epoch 18 | loss: 0.66401 | test_accuracy: 0.52477 |  0:00:53s\n",
      "\n",
      "Early stopping occurred at epoch 18 with best_epoch = 8 and best_test_accuracy = 0.5269\n"
     ]
    },
    {
     "name": "stderr",
     "output_type": "stream",
     "text": [
      "/home/gonken/anaconda3/envs/torch/lib/python3.12/site-packages/pytorch_tabnet/callbacks.py:172: UserWarning: Best weights from best epoch are automatically used!\n",
      "  warnings.warn(wrn_msg)\n",
      "[I 2024-10-30 18:56:41,325] Trial 103 finished with value: 0.5269046350559403 and parameters: {'n_d': 33, 'n_a': 58, 'n_steps': 7, 'gamma': 1.0546547550677845, 'lambda_sparse': 0.04851184883465876, 'learning_rate': 0.0019111371658225259}. Best is trial 4 with value: 0.5359616409163559.\n",
      "/home/gonken/anaconda3/envs/torch/lib/python3.12/site-packages/pytorch_tabnet/abstract_model.py:82: UserWarning: Device used : cuda\n",
      "  warnings.warn(f\"Device used : {self.device}\")\n"
     ]
    },
    {
     "name": "stdout",
     "output_type": "stream",
     "text": [
      "epoch 0  | loss: 0.85374 | test_accuracy: 0.50719 |  0:00:02s\n",
      "epoch 1  | loss: 0.75511 | test_accuracy: 0.49494 |  0:00:05s\n",
      "epoch 2  | loss: 0.72281 | test_accuracy: 0.50027 |  0:00:08s\n",
      "epoch 3  | loss: 0.71429 | test_accuracy: 0.50293 |  0:00:10s\n",
      "epoch 4  | loss: 0.69677 | test_accuracy: 0.50773 |  0:00:13s\n",
      "epoch 5  | loss: 0.69097 | test_accuracy: 0.5269  |  0:00:16s\n",
      "epoch 6  | loss: 0.67863 | test_accuracy: 0.4992  |  0:00:19s\n",
      "epoch 7  | loss: 0.66916 | test_accuracy: 0.52957 |  0:00:22s\n",
      "epoch 8  | loss: 0.66644 | test_accuracy: 0.504   |  0:00:25s\n",
      "epoch 9  | loss: 0.65711 | test_accuracy: 0.49121 |  0:00:28s\n",
      "epoch 10 | loss: 0.65393 | test_accuracy: 0.48961 |  0:00:31s\n",
      "epoch 11 | loss: 0.65547 | test_accuracy: 0.48961 |  0:00:33s\n",
      "epoch 12 | loss: 0.65438 | test_accuracy: 0.49014 |  0:00:36s\n",
      "epoch 13 | loss: 0.65227 | test_accuracy: 0.5024  |  0:00:39s\n",
      "epoch 14 | loss: 0.65261 | test_accuracy: 0.49281 |  0:00:41s\n",
      "epoch 15 | loss: 0.65269 | test_accuracy: 0.49867 |  0:00:44s\n",
      "epoch 16 | loss: 0.64979 | test_accuracy: 0.49814 |  0:00:47s\n",
      "epoch 17 | loss: 0.64676 | test_accuracy: 0.49654 |  0:00:49s\n",
      "\n",
      "Early stopping occurred at epoch 17 with best_epoch = 7 and best_test_accuracy = 0.52957\n"
     ]
    },
    {
     "name": "stderr",
     "output_type": "stream",
     "text": [
      "/home/gonken/anaconda3/envs/torch/lib/python3.12/site-packages/pytorch_tabnet/callbacks.py:172: UserWarning: Best weights from best epoch are automatically used!\n",
      "  warnings.warn(wrn_msg)\n",
      "[I 2024-10-30 18:57:32,622] Trial 104 finished with value: 0.5295684603090037 and parameters: {'n_d': 26, 'n_a': 59, 'n_steps': 7, 'gamma': 1.0030619752974108, 'lambda_sparse': 0.04809412811328997, 'learning_rate': 0.002072593331777745}. Best is trial 4 with value: 0.5359616409163559.\n",
      "/home/gonken/anaconda3/envs/torch/lib/python3.12/site-packages/pytorch_tabnet/abstract_model.py:82: UserWarning: Device used : cuda\n",
      "  warnings.warn(f\"Device used : {self.device}\")\n"
     ]
    },
    {
     "name": "stdout",
     "output_type": "stream",
     "text": [
      "epoch 0  | loss: 0.90455 | test_accuracy: 0.48908 |  0:00:02s\n",
      "epoch 1  | loss: 0.76642 | test_accuracy: 0.52371 |  0:00:05s\n",
      "epoch 2  | loss: 0.70569 | test_accuracy: 0.50826 |  0:00:08s\n",
      "epoch 3  | loss: 0.67966 | test_accuracy: 0.5024  |  0:00:11s\n",
      "epoch 4  | loss: 0.66614 | test_accuracy: 0.5008  |  0:00:14s\n",
      "epoch 5  | loss: 0.66858 | test_accuracy: 0.50453 |  0:00:17s\n",
      "epoch 6  | loss: 0.65915 | test_accuracy: 0.50133 |  0:00:19s\n",
      "epoch 7  | loss: 0.65857 | test_accuracy: 0.50133 |  0:00:22s\n",
      "epoch 8  | loss: 0.64785 | test_accuracy: 0.4976  |  0:00:25s\n",
      "epoch 9  | loss: 0.64646 | test_accuracy: 0.50559 |  0:00:28s\n",
      "epoch 10 | loss: 0.64102 | test_accuracy: 0.49867 |  0:00:31s\n",
      "epoch 11 | loss: 0.6395  | test_accuracy: 0.49227 |  0:00:33s\n",
      "\n",
      "Early stopping occurred at epoch 11 with best_epoch = 1 and best_test_accuracy = 0.52371\n"
     ]
    },
    {
     "name": "stderr",
     "output_type": "stream",
     "text": [
      "/home/gonken/anaconda3/envs/torch/lib/python3.12/site-packages/pytorch_tabnet/callbacks.py:172: UserWarning: Best weights from best epoch are automatically used!\n",
      "  warnings.warn(wrn_msg)\n",
      "[I 2024-10-30 18:58:07,867] Trial 105 finished with value: 0.5237080447522643 and parameters: {'n_d': 25, 'n_a': 59, 'n_steps': 7, 'gamma': 1.01914229321579, 'lambda_sparse': 0.04846079592852452, 'learning_rate': 0.006816746477445709}. Best is trial 4 with value: 0.5359616409163559.\n",
      "/home/gonken/anaconda3/envs/torch/lib/python3.12/site-packages/pytorch_tabnet/abstract_model.py:82: UserWarning: Device used : cuda\n",
      "  warnings.warn(f\"Device used : {self.device}\")\n"
     ]
    },
    {
     "name": "stdout",
     "output_type": "stream",
     "text": [
      "epoch 0  | loss: 0.9647  | test_accuracy: 0.48482 |  0:00:02s\n",
      "epoch 1  | loss: 0.75723 | test_accuracy: 0.49814 |  0:00:04s\n",
      "epoch 2  | loss: 0.72132 | test_accuracy: 0.48801 |  0:00:07s\n",
      "epoch 3  | loss: 0.70009 | test_accuracy: 0.49068 |  0:00:09s\n",
      "epoch 4  | loss: 0.70031 | test_accuracy: 0.49707 |  0:00:12s\n",
      "epoch 5  | loss: 0.69389 | test_accuracy: 0.50186 |  0:00:14s\n",
      "epoch 6  | loss: 0.68439 | test_accuracy: 0.49494 |  0:00:17s\n",
      "epoch 7  | loss: 0.67972 | test_accuracy: 0.4992  |  0:00:20s\n",
      "epoch 8  | loss: 0.67863 | test_accuracy: 0.504   |  0:00:22s\n",
      "epoch 9  | loss: 0.67679 | test_accuracy: 0.49547 |  0:00:25s\n",
      "epoch 10 | loss: 0.67374 | test_accuracy: 0.50986 |  0:00:28s\n",
      "epoch 11 | loss: 0.66608 | test_accuracy: 0.496   |  0:00:30s\n",
      "epoch 12 | loss: 0.66485 | test_accuracy: 0.5008  |  0:00:32s\n",
      "epoch 13 | loss: 0.66732 | test_accuracy: 0.50719 |  0:00:34s\n",
      "epoch 14 | loss: 0.66461 | test_accuracy: 0.51465 |  0:00:37s\n",
      "epoch 15 | loss: 0.6598  | test_accuracy: 0.49068 |  0:00:40s\n",
      "epoch 16 | loss: 0.65542 | test_accuracy: 0.51465 |  0:00:42s\n",
      "epoch 17 | loss: 0.6576  | test_accuracy: 0.4992  |  0:00:45s\n",
      "epoch 18 | loss: 0.65129 | test_accuracy: 0.50027 |  0:00:48s\n",
      "epoch 19 | loss: 0.65619 | test_accuracy: 0.49441 |  0:00:51s\n",
      "epoch 20 | loss: 0.65376 | test_accuracy: 0.50932 |  0:00:53s\n",
      "epoch 21 | loss: 0.6487  | test_accuracy: 0.50986 |  0:00:56s\n",
      "epoch 22 | loss: 0.64549 | test_accuracy: 0.50293 |  0:00:59s\n",
      "epoch 23 | loss: 0.6408  | test_accuracy: 0.4976  |  0:01:01s\n",
      "epoch 24 | loss: 0.64245 | test_accuracy: 0.49973 |  0:01:04s\n",
      "\n",
      "Early stopping occurred at epoch 24 with best_epoch = 14 and best_test_accuracy = 0.51465\n"
     ]
    },
    {
     "name": "stderr",
     "output_type": "stream",
     "text": [
      "/home/gonken/anaconda3/envs/torch/lib/python3.12/site-packages/pytorch_tabnet/callbacks.py:172: UserWarning: Best weights from best epoch are automatically used!\n",
      "  warnings.warn(wrn_msg)\n",
      "[I 2024-10-30 18:59:13,257] Trial 106 finished with value: 0.5146510388918487 and parameters: {'n_d': 20, 'n_a': 57, 'n_steps': 6, 'gamma': 1.0526112547026703, 'lambda_sparse': 0.03328221531095637, 'learning_rate': 0.0012546191296437352}. Best is trial 4 with value: 0.5359616409163559.\n",
      "/home/gonken/anaconda3/envs/torch/lib/python3.12/site-packages/pytorch_tabnet/abstract_model.py:82: UserWarning: Device used : cuda\n",
      "  warnings.warn(f\"Device used : {self.device}\")\n"
     ]
    },
    {
     "name": "stdout",
     "output_type": "stream",
     "text": [
      "epoch 0  | loss: 1.03312 | test_accuracy: 0.49654 |  0:00:02s\n",
      "epoch 1  | loss: 0.77678 | test_accuracy: 0.51305 |  0:00:04s\n",
      "epoch 2  | loss: 0.74949 | test_accuracy: 0.50986 |  0:00:07s\n",
      "epoch 3  | loss: 0.72568 | test_accuracy: 0.51891 |  0:00:10s\n",
      "epoch 4  | loss: 0.71409 | test_accuracy: 0.48322 |  0:00:13s\n",
      "epoch 5  | loss: 0.70585 | test_accuracy: 0.48535 |  0:00:16s\n",
      "epoch 6  | loss: 0.71381 | test_accuracy: 0.50506 |  0:00:19s\n",
      "epoch 7  | loss: 0.69955 | test_accuracy: 0.49227 |  0:00:21s\n",
      "epoch 8  | loss: 0.681   | test_accuracy: 0.50453 |  0:00:25s\n",
      "epoch 9  | loss: 0.67944 | test_accuracy: 0.49814 |  0:00:28s\n",
      "epoch 10 | loss: 0.67279 | test_accuracy: 0.50773 |  0:00:31s\n",
      "epoch 11 | loss: 0.67659 | test_accuracy: 0.496   |  0:00:34s\n",
      "epoch 12 | loss: 0.67295 | test_accuracy: 0.49867 |  0:00:37s\n",
      "epoch 13 | loss: 0.66995 | test_accuracy: 0.48961 |  0:00:40s\n",
      "\n",
      "Early stopping occurred at epoch 13 with best_epoch = 3 and best_test_accuracy = 0.51891\n"
     ]
    },
    {
     "name": "stderr",
     "output_type": "stream",
     "text": [
      "/home/gonken/anaconda3/envs/torch/lib/python3.12/site-packages/pytorch_tabnet/callbacks.py:172: UserWarning: Best weights from best epoch are automatically used!\n",
      "  warnings.warn(wrn_msg)\n",
      "[I 2024-10-30 18:59:54,696] Trial 107 finished with value: 0.5189131592967501 and parameters: {'n_d': 45, 'n_a': 55, 'n_steps': 7, 'gamma': 1.0875907838253809, 'lambda_sparse': 0.04161759195621428, 'learning_rate': 0.0018244323969396875}. Best is trial 4 with value: 0.5359616409163559.\n",
      "/home/gonken/anaconda3/envs/torch/lib/python3.12/site-packages/pytorch_tabnet/abstract_model.py:82: UserWarning: Device used : cuda\n",
      "  warnings.warn(f\"Device used : {self.device}\")\n"
     ]
    },
    {
     "name": "stdout",
     "output_type": "stream",
     "text": [
      "epoch 0  | loss: 1.10862 | test_accuracy: 0.51252 |  0:00:03s\n",
      "epoch 1  | loss: 0.70795 | test_accuracy: 0.51092 |  0:00:06s\n",
      "epoch 2  | loss: 0.68529 | test_accuracy: 0.49387 |  0:00:09s\n",
      "epoch 3  | loss: 0.67531 | test_accuracy: 0.49441 |  0:00:12s\n",
      "epoch 4  | loss: 0.67543 | test_accuracy: 0.49014 |  0:00:15s\n",
      "epoch 5  | loss: 0.66611 | test_accuracy: 0.50293 |  0:00:18s\n",
      "epoch 6  | loss: 0.67249 | test_accuracy: 0.50506 |  0:00:21s\n",
      "epoch 7  | loss: 0.66983 | test_accuracy: 0.50932 |  0:00:24s\n",
      "epoch 8  | loss: 0.65938 | test_accuracy: 0.49014 |  0:00:27s\n",
      "epoch 9  | loss: 0.66346 | test_accuracy: 0.50879 |  0:00:30s\n",
      "epoch 10 | loss: 0.65698 | test_accuracy: 0.49068 |  0:00:33s\n",
      "\n",
      "Early stopping occurred at epoch 10 with best_epoch = 0 and best_test_accuracy = 0.51252\n"
     ]
    },
    {
     "name": "stderr",
     "output_type": "stream",
     "text": [
      "/home/gonken/anaconda3/envs/torch/lib/python3.12/site-packages/pytorch_tabnet/callbacks.py:172: UserWarning: Best weights from best epoch are automatically used!\n",
      "  warnings.warn(wrn_msg)\n",
      "[I 2024-10-30 19:00:30,057] Trial 108 finished with value: 0.512519978689398 and parameters: {'n_d': 27, 'n_a': 60, 'n_steps': 8, 'gamma': 1.0007238366615787, 'lambda_sparse': 0.045692998985139836, 'learning_rate': 0.01482046526220186}. Best is trial 4 with value: 0.5359616409163559.\n",
      "/home/gonken/anaconda3/envs/torch/lib/python3.12/site-packages/pytorch_tabnet/abstract_model.py:82: UserWarning: Device used : cuda\n",
      "  warnings.warn(f\"Device used : {self.device}\")\n"
     ]
    },
    {
     "name": "stdout",
     "output_type": "stream",
     "text": [
      "epoch 0  | loss: 1.06285 | test_accuracy: 0.49281 |  0:00:02s\n",
      "epoch 1  | loss: 0.90703 | test_accuracy: 0.47576 |  0:00:05s\n",
      "epoch 2  | loss: 0.83343 | test_accuracy: 0.49174 |  0:00:08s\n",
      "epoch 3  | loss: 0.79469 | test_accuracy: 0.48055 |  0:00:11s\n",
      "epoch 4  | loss: 0.77536 | test_accuracy: 0.51572 |  0:00:14s\n",
      "epoch 5  | loss: 0.75547 | test_accuracy: 0.51678 |  0:00:17s\n",
      "epoch 6  | loss: 0.7509  | test_accuracy: 0.49973 |  0:00:20s\n",
      "epoch 7  | loss: 0.72893 | test_accuracy: 0.51572 |  0:00:23s\n",
      "epoch 8  | loss: 0.72732 | test_accuracy: 0.49973 |  0:00:25s\n",
      "epoch 9  | loss: 0.72131 | test_accuracy: 0.50559 |  0:00:28s\n",
      "epoch 10 | loss: 0.71507 | test_accuracy: 0.504   |  0:00:31s\n",
      "epoch 11 | loss: 0.70962 | test_accuracy: 0.51145 |  0:00:34s\n",
      "epoch 12 | loss: 0.70159 | test_accuracy: 0.50932 |  0:00:37s\n",
      "epoch 13 | loss: 0.70256 | test_accuracy: 0.51252 |  0:00:39s\n",
      "epoch 14 | loss: 0.7065  | test_accuracy: 0.49654 |  0:00:42s\n",
      "epoch 15 | loss: 0.70066 | test_accuracy: 0.5024  |  0:00:44s\n",
      "\n",
      "Early stopping occurred at epoch 15 with best_epoch = 5 and best_test_accuracy = 0.51678\n"
     ]
    },
    {
     "name": "stderr",
     "output_type": "stream",
     "text": [
      "/home/gonken/anaconda3/envs/torch/lib/python3.12/site-packages/pytorch_tabnet/callbacks.py:172: UserWarning: Best weights from best epoch are automatically used!\n",
      "  warnings.warn(wrn_msg)\n",
      "[I 2024-10-30 19:01:16,225] Trial 109 finished with value: 0.5167820990942994 and parameters: {'n_d': 24, 'n_a': 52, 'n_steps': 7, 'gamma': 1.0302906798998257, 'lambda_sparse': 0.05496977756644458, 'learning_rate': 0.0004158814084410992}. Best is trial 4 with value: 0.5359616409163559.\n",
      "/home/gonken/anaconda3/envs/torch/lib/python3.12/site-packages/pytorch_tabnet/abstract_model.py:82: UserWarning: Device used : cuda\n",
      "  warnings.warn(f\"Device used : {self.device}\")\n"
     ]
    },
    {
     "name": "stdout",
     "output_type": "stream",
     "text": [
      "epoch 0  | loss: 1.52786 | test_accuracy: 0.50506 |  0:00:03s\n",
      "epoch 1  | loss: 0.91656 | test_accuracy: 0.48961 |  0:00:06s\n",
      "epoch 2  | loss: 0.86966 | test_accuracy: 0.49867 |  0:00:09s\n",
      "epoch 3  | loss: 0.8279  | test_accuracy: 0.49441 |  0:00:13s\n",
      "epoch 4  | loss: 0.7951  | test_accuracy: 0.51625 |  0:00:16s\n",
      "epoch 5  | loss: 0.75623 | test_accuracy: 0.50932 |  0:00:20s\n",
      "epoch 6  | loss: 0.75202 | test_accuracy: 0.49973 |  0:00:23s\n",
      "epoch 7  | loss: 0.74024 | test_accuracy: 0.50986 |  0:00:27s\n",
      "epoch 8  | loss: 0.72139 | test_accuracy: 0.4976  |  0:00:30s\n",
      "epoch 9  | loss: 0.70735 | test_accuracy: 0.50719 |  0:00:34s\n",
      "epoch 10 | loss: 0.72115 | test_accuracy: 0.49334 |  0:00:37s\n",
      "epoch 11 | loss: 0.68884 | test_accuracy: 0.50293 |  0:00:41s\n",
      "epoch 12 | loss: 0.68573 | test_accuracy: 0.50133 |  0:00:44s\n",
      "epoch 13 | loss: 0.67924 | test_accuracy: 0.49654 |  0:00:48s\n",
      "epoch 14 | loss: 0.67554 | test_accuracy: 0.4992  |  0:00:51s\n",
      "\n",
      "Early stopping occurred at epoch 14 with best_epoch = 4 and best_test_accuracy = 0.51625\n"
     ]
    },
    {
     "name": "stderr",
     "output_type": "stream",
     "text": [
      "/home/gonken/anaconda3/envs/torch/lib/python3.12/site-packages/pytorch_tabnet/callbacks.py:172: UserWarning: Best weights from best epoch are automatically used!\n",
      "  warnings.warn(wrn_msg)\n",
      "[I 2024-10-30 19:02:09,344] Trial 110 finished with value: 0.5162493340436868 and parameters: {'n_d': 32, 'n_a': 57, 'n_steps': 10, 'gamma': 1.079314444309242, 'lambda_sparse': 0.028748781358236632, 'learning_rate': 0.00303289726648278}. Best is trial 4 with value: 0.5359616409163559.\n",
      "/home/gonken/anaconda3/envs/torch/lib/python3.12/site-packages/pytorch_tabnet/abstract_model.py:82: UserWarning: Device used : cuda\n",
      "  warnings.warn(f\"Device used : {self.device}\")\n"
     ]
    },
    {
     "name": "stdout",
     "output_type": "stream",
     "text": [
      "epoch 0  | loss: 0.8344  | test_accuracy: 0.47789 |  0:00:02s\n",
      "epoch 1  | loss: 0.753   | test_accuracy: 0.49814 |  0:00:05s\n",
      "epoch 2  | loss: 0.7337  | test_accuracy: 0.50773 |  0:00:08s\n",
      "epoch 3  | loss: 0.71807 | test_accuracy: 0.48855 |  0:00:10s\n",
      "epoch 4  | loss: 0.69668 | test_accuracy: 0.51838 |  0:00:13s\n",
      "epoch 5  | loss: 0.68902 | test_accuracy: 0.50826 |  0:00:16s\n",
      "epoch 6  | loss: 0.6864  | test_accuracy: 0.50719 |  0:00:19s\n",
      "epoch 7  | loss: 0.67619 | test_accuracy: 0.50719 |  0:00:21s\n",
      "epoch 8  | loss: 0.67134 | test_accuracy: 0.48588 |  0:00:24s\n",
      "epoch 9  | loss: 0.66657 | test_accuracy: 0.49441 |  0:00:27s\n",
      "epoch 10 | loss: 0.66481 | test_accuracy: 0.50186 |  0:00:30s\n",
      "epoch 11 | loss: 0.66298 | test_accuracy: 0.50506 |  0:00:33s\n",
      "epoch 12 | loss: 0.65659 | test_accuracy: 0.4976  |  0:00:36s\n",
      "epoch 13 | loss: 0.6556  | test_accuracy: 0.49867 |  0:00:39s\n",
      "epoch 14 | loss: 0.65274 | test_accuracy: 0.48961 |  0:00:42s\n",
      "\n",
      "Early stopping occurred at epoch 14 with best_epoch = 4 and best_test_accuracy = 0.51838\n"
     ]
    },
    {
     "name": "stderr",
     "output_type": "stream",
     "text": [
      "/home/gonken/anaconda3/envs/torch/lib/python3.12/site-packages/pytorch_tabnet/callbacks.py:172: UserWarning: Best weights from best epoch are automatically used!\n",
      "  warnings.warn(wrn_msg)\n",
      "[I 2024-10-30 19:02:52,872] Trial 111 finished with value: 0.5183803942461375 and parameters: {'n_d': 26, 'n_a': 59, 'n_steps': 7, 'gamma': 1.1512687641829897, 'lambda_sparse': 0.051970358604816, 'learning_rate': 0.0022012870053760097}. Best is trial 4 with value: 0.5359616409163559.\n",
      "/home/gonken/anaconda3/envs/torch/lib/python3.12/site-packages/pytorch_tabnet/abstract_model.py:82: UserWarning: Device used : cuda\n",
      "  warnings.warn(f\"Device used : {self.device}\")\n"
     ]
    },
    {
     "name": "stdout",
     "output_type": "stream",
     "text": [
      "epoch 0  | loss: 1.71842 | test_accuracy: 0.49814 |  0:00:02s\n",
      "epoch 1  | loss: 0.94517 | test_accuracy: 0.47576 |  0:00:05s\n",
      "epoch 2  | loss: 0.85602 | test_accuracy: 0.50773 |  0:00:08s\n",
      "epoch 3  | loss: 0.77558 | test_accuracy: 0.49814 |  0:00:11s\n",
      "epoch 4  | loss: 0.74689 | test_accuracy: 0.49707 |  0:00:14s\n",
      "epoch 5  | loss: 0.73741 | test_accuracy: 0.5024  |  0:00:17s\n",
      "epoch 6  | loss: 0.73847 | test_accuracy: 0.51625 |  0:00:20s\n",
      "epoch 7  | loss: 0.7291  | test_accuracy: 0.50613 |  0:00:22s\n",
      "epoch 8  | loss: 0.70916 | test_accuracy: 0.5024  |  0:00:25s\n",
      "epoch 9  | loss: 0.69575 | test_accuracy: 0.51838 |  0:00:28s\n",
      "epoch 10 | loss: 0.69126 | test_accuracy: 0.50133 |  0:00:30s\n",
      "epoch 11 | loss: 0.69623 | test_accuracy: 0.50506 |  0:00:33s\n",
      "epoch 12 | loss: 0.69512 | test_accuracy: 0.51518 |  0:00:36s\n",
      "epoch 13 | loss: 0.69361 | test_accuracy: 0.50879 |  0:00:39s\n",
      "epoch 14 | loss: 0.68847 | test_accuracy: 0.50986 |  0:00:41s\n",
      "epoch 15 | loss: 0.67967 | test_accuracy: 0.52104 |  0:00:44s\n",
      "epoch 16 | loss: 0.68373 | test_accuracy: 0.51945 |  0:00:47s\n",
      "epoch 17 | loss: 0.67279 | test_accuracy: 0.52424 |  0:00:50s\n",
      "epoch 18 | loss: 0.68195 | test_accuracy: 0.49973 |  0:00:52s\n",
      "epoch 19 | loss: 0.67178 | test_accuracy: 0.51891 |  0:00:55s\n",
      "epoch 20 | loss: 0.67675 | test_accuracy: 0.51572 |  0:00:58s\n",
      "epoch 21 | loss: 0.67749 | test_accuracy: 0.51145 |  0:01:01s\n",
      "epoch 22 | loss: 0.66994 | test_accuracy: 0.50186 |  0:01:03s\n",
      "epoch 23 | loss: 0.66571 | test_accuracy: 0.48482 |  0:01:06s\n",
      "epoch 24 | loss: 0.66576 | test_accuracy: 0.50932 |  0:01:08s\n",
      "epoch 25 | loss: 0.66668 | test_accuracy: 0.50773 |  0:01:11s\n",
      "epoch 26 | loss: 0.666   | test_accuracy: 0.50719 |  0:01:14s\n",
      "epoch 27 | loss: 0.66688 | test_accuracy: 0.51465 |  0:01:17s\n",
      "\n",
      "Early stopping occurred at epoch 27 with best_epoch = 17 and best_test_accuracy = 0.52424\n"
     ]
    },
    {
     "name": "stderr",
     "output_type": "stream",
     "text": [
      "/home/gonken/anaconda3/envs/torch/lib/python3.12/site-packages/pytorch_tabnet/callbacks.py:172: UserWarning: Best weights from best epoch are automatically used!\n",
      "  warnings.warn(wrn_msg)\n",
      "[I 2024-10-30 19:04:11,575] Trial 112 finished with value: 0.5242408098028769 and parameters: {'n_d': 29, 'n_a': 63, 'n_steps': 7, 'gamma': 1.6154478906119039, 'lambda_sparse': 0.04893352104615504, 'learning_rate': 0.0008651478203074813}. Best is trial 4 with value: 0.5359616409163559.\n",
      "/home/gonken/anaconda3/envs/torch/lib/python3.12/site-packages/pytorch_tabnet/abstract_model.py:82: UserWarning: Device used : cuda\n",
      "  warnings.warn(f\"Device used : {self.device}\")\n"
     ]
    },
    {
     "name": "stdout",
     "output_type": "stream",
     "text": [
      "epoch 0  | loss: 0.85354 | test_accuracy: 0.504   |  0:00:02s\n",
      "epoch 1  | loss: 0.75037 | test_accuracy: 0.49867 |  0:00:05s\n",
      "epoch 2  | loss: 0.69067 | test_accuracy: 0.51039 |  0:00:08s\n",
      "epoch 3  | loss: 0.6777  | test_accuracy: 0.49654 |  0:00:11s\n",
      "epoch 4  | loss: 0.67142 | test_accuracy: 0.4976  |  0:00:14s\n",
      "epoch 5  | loss: 0.66609 | test_accuracy: 0.50666 |  0:00:17s\n",
      "epoch 6  | loss: 0.66318 | test_accuracy: 0.50932 |  0:00:20s\n",
      "epoch 7  | loss: 0.66108 | test_accuracy: 0.50879 |  0:00:23s\n",
      "epoch 8  | loss: 0.65189 | test_accuracy: 0.50027 |  0:00:25s\n",
      "epoch 9  | loss: 0.65015 | test_accuracy: 0.51199 |  0:00:28s\n",
      "epoch 10 | loss: 0.64899 | test_accuracy: 0.48908 |  0:00:31s\n",
      "epoch 11 | loss: 0.65185 | test_accuracy: 0.49068 |  0:00:34s\n",
      "epoch 12 | loss: 0.64776 | test_accuracy: 0.50133 |  0:00:37s\n",
      "epoch 13 | loss: 0.64386 | test_accuracy: 0.51572 |  0:00:39s\n",
      "epoch 14 | loss: 0.64358 | test_accuracy: 0.49441 |  0:00:42s\n",
      "epoch 15 | loss: 0.64009 | test_accuracy: 0.51572 |  0:00:45s\n",
      "epoch 16 | loss: 0.64176 | test_accuracy: 0.51039 |  0:00:48s\n",
      "epoch 17 | loss: 0.63662 | test_accuracy: 0.50932 |  0:00:50s\n",
      "epoch 18 | loss: 0.63368 | test_accuracy: 0.4992  |  0:00:53s\n",
      "epoch 19 | loss: 0.63571 | test_accuracy: 0.51625 |  0:00:56s\n",
      "epoch 20 | loss: 0.63826 | test_accuracy: 0.50133 |  0:00:59s\n",
      "epoch 21 | loss: 0.63391 | test_accuracy: 0.50986 |  0:01:02s\n",
      "epoch 22 | loss: 0.63348 | test_accuracy: 0.50559 |  0:01:05s\n",
      "epoch 23 | loss: 0.63262 | test_accuracy: 0.50613 |  0:01:07s\n",
      "epoch 24 | loss: 0.63343 | test_accuracy: 0.49494 |  0:01:10s\n",
      "epoch 25 | loss: 0.62891 | test_accuracy: 0.49547 |  0:01:13s\n",
      "epoch 26 | loss: 0.63596 | test_accuracy: 0.48428 |  0:01:16s\n",
      "epoch 27 | loss: 0.62859 | test_accuracy: 0.48961 |  0:01:18s\n",
      "epoch 28 | loss: 0.63042 | test_accuracy: 0.496   |  0:01:21s\n",
      "epoch 29 | loss: 0.63439 | test_accuracy: 0.504   |  0:01:23s\n",
      "\n",
      "Early stopping occurred at epoch 29 with best_epoch = 19 and best_test_accuracy = 0.51625\n"
     ]
    },
    {
     "name": "stderr",
     "output_type": "stream",
     "text": [
      "/home/gonken/anaconda3/envs/torch/lib/python3.12/site-packages/pytorch_tabnet/callbacks.py:172: UserWarning: Best weights from best epoch are automatically used!\n",
      "  warnings.warn(wrn_msg)\n",
      "[I 2024-10-30 19:05:36,741] Trial 113 finished with value: 0.5162493340436868 and parameters: {'n_d': 33, 'n_a': 56, 'n_steps': 7, 'gamma': 1.5579572533822224, 'lambda_sparse': 0.05700517705211756, 'learning_rate': 0.0057152613995265205}. Best is trial 4 with value: 0.5359616409163559.\n",
      "/home/gonken/anaconda3/envs/torch/lib/python3.12/site-packages/pytorch_tabnet/abstract_model.py:82: UserWarning: Device used : cuda\n",
      "  warnings.warn(f\"Device used : {self.device}\")\n"
     ]
    },
    {
     "name": "stdout",
     "output_type": "stream",
     "text": [
      "epoch 0  | loss: 0.91703 | test_accuracy: 0.51465 |  0:00:02s\n",
      "epoch 1  | loss: 0.76407 | test_accuracy: 0.51998 |  0:00:05s\n",
      "epoch 2  | loss: 0.75208 | test_accuracy: 0.504   |  0:00:08s\n",
      "epoch 3  | loss: 0.73812 | test_accuracy: 0.51625 |  0:00:11s\n",
      "epoch 4  | loss: 0.71507 | test_accuracy: 0.50719 |  0:00:14s\n",
      "epoch 5  | loss: 0.69585 | test_accuracy: 0.49547 |  0:00:17s\n",
      "epoch 6  | loss: 0.70002 | test_accuracy: 0.50027 |  0:00:20s\n",
      "epoch 7  | loss: 0.68924 | test_accuracy: 0.50719 |  0:00:23s\n",
      "epoch 8  | loss: 0.68155 | test_accuracy: 0.49387 |  0:00:25s\n",
      "epoch 9  | loss: 0.68365 | test_accuracy: 0.48002 |  0:00:28s\n",
      "epoch 10 | loss: 0.67398 | test_accuracy: 0.50453 |  0:00:31s\n",
      "epoch 11 | loss: 0.67337 | test_accuracy: 0.48375 |  0:00:34s\n",
      "\n",
      "Early stopping occurred at epoch 11 with best_epoch = 1 and best_test_accuracy = 0.51998\n"
     ]
    },
    {
     "name": "stderr",
     "output_type": "stream",
     "text": [
      "/home/gonken/anaconda3/envs/torch/lib/python3.12/site-packages/pytorch_tabnet/callbacks.py:172: UserWarning: Best weights from best epoch are automatically used!\n",
      "  warnings.warn(wrn_msg)\n",
      "[I 2024-10-30 19:06:13,033] Trial 114 finished with value: 0.5199786893979755 and parameters: {'n_d': 28, 'n_a': 53, 'n_steps': 7, 'gamma': 1.4966782466086046, 'lambda_sparse': 0.0444825990354121, 'learning_rate': 0.00233127703167985}. Best is trial 4 with value: 0.5359616409163559.\n",
      "/home/gonken/anaconda3/envs/torch/lib/python3.12/site-packages/pytorch_tabnet/abstract_model.py:82: UserWarning: Device used : cuda\n",
      "  warnings.warn(f\"Device used : {self.device}\")\n"
     ]
    },
    {
     "name": "stdout",
     "output_type": "stream",
     "text": [
      "epoch 0  | loss: 0.91609 | test_accuracy: 0.50293 |  0:00:02s\n",
      "epoch 1  | loss: 0.75938 | test_accuracy: 0.51625 |  0:00:04s\n",
      "epoch 2  | loss: 0.74443 | test_accuracy: 0.50666 |  0:00:07s\n",
      "epoch 3  | loss: 0.72076 | test_accuracy: 0.5008  |  0:00:09s\n",
      "epoch 4  | loss: 0.70468 | test_accuracy: 0.51838 |  0:00:12s\n",
      "epoch 5  | loss: 0.70174 | test_accuracy: 0.48002 |  0:00:14s\n",
      "epoch 6  | loss: 0.69373 | test_accuracy: 0.5024  |  0:00:17s\n",
      "epoch 7  | loss: 0.68291 | test_accuracy: 0.50453 |  0:00:19s\n",
      "epoch 8  | loss: 0.67327 | test_accuracy: 0.48482 |  0:00:22s\n",
      "epoch 9  | loss: 0.67028 | test_accuracy: 0.49494 |  0:00:24s\n",
      "epoch 10 | loss: 0.66145 | test_accuracy: 0.49174 |  0:00:27s\n",
      "epoch 11 | loss: 0.6633  | test_accuracy: 0.48801 |  0:00:29s\n",
      "epoch 12 | loss: 0.65977 | test_accuracy: 0.51891 |  0:00:32s\n",
      "epoch 13 | loss: 0.65342 | test_accuracy: 0.49867 |  0:00:34s\n",
      "epoch 14 | loss: 0.64778 | test_accuracy: 0.49654 |  0:00:37s\n",
      "epoch 15 | loss: 0.65039 | test_accuracy: 0.49334 |  0:00:40s\n",
      "epoch 16 | loss: 0.64992 | test_accuracy: 0.50133 |  0:00:42s\n",
      "epoch 17 | loss: 0.64758 | test_accuracy: 0.49227 |  0:00:45s\n",
      "epoch 18 | loss: 0.64488 | test_accuracy: 0.49973 |  0:00:47s\n",
      "epoch 19 | loss: 0.64418 | test_accuracy: 0.50186 |  0:00:50s\n",
      "epoch 20 | loss: 0.64399 | test_accuracy: 0.50133 |  0:00:52s\n",
      "epoch 21 | loss: 0.64174 | test_accuracy: 0.51199 |  0:00:55s\n",
      "epoch 22 | loss: 0.64291 | test_accuracy: 0.50879 |  0:00:57s\n",
      "\n",
      "Early stopping occurred at epoch 22 with best_epoch = 12 and best_test_accuracy = 0.51891\n"
     ]
    },
    {
     "name": "stderr",
     "output_type": "stream",
     "text": [
      "/home/gonken/anaconda3/envs/torch/lib/python3.12/site-packages/pytorch_tabnet/callbacks.py:172: UserWarning: Best weights from best epoch are automatically used!\n",
      "  warnings.warn(wrn_msg)\n",
      "[I 2024-10-30 19:07:12,136] Trial 115 finished with value: 0.5189131592967501 and parameters: {'n_d': 36, 'n_a': 16, 'n_steps': 6, 'gamma': 1.6673311377771984, 'lambda_sparse': 0.051787931198528744, 'learning_rate': 0.0035319468515789382}. Best is trial 4 with value: 0.5359616409163559.\n",
      "/home/gonken/anaconda3/envs/torch/lib/python3.12/site-packages/pytorch_tabnet/abstract_model.py:82: UserWarning: Device used : cuda\n",
      "  warnings.warn(f\"Device used : {self.device}\")\n"
     ]
    },
    {
     "name": "stdout",
     "output_type": "stream",
     "text": [
      "epoch 0  | loss: 1.11834 | test_accuracy: 0.4992  |  0:00:03s\n",
      "epoch 1  | loss: 0.83905 | test_accuracy: 0.50826 |  0:00:06s\n",
      "epoch 2  | loss: 0.80489 | test_accuracy: 0.50453 |  0:00:09s\n",
      "epoch 3  | loss: 0.76734 | test_accuracy: 0.5008  |  0:00:13s\n",
      "epoch 4  | loss: 0.75853 | test_accuracy: 0.49441 |  0:00:16s\n",
      "epoch 5  | loss: 0.74649 | test_accuracy: 0.52904 |  0:00:19s\n",
      "epoch 6  | loss: 0.73937 | test_accuracy: 0.50506 |  0:00:22s\n",
      "epoch 7  | loss: 0.7208  | test_accuracy: 0.50293 |  0:00:25s\n",
      "epoch 8  | loss: 0.72138 | test_accuracy: 0.50879 |  0:00:28s\n",
      "epoch 9  | loss: 0.72394 | test_accuracy: 0.49174 |  0:00:32s\n",
      "epoch 10 | loss: 0.70599 | test_accuracy: 0.5301  |  0:00:35s\n",
      "epoch 11 | loss: 0.70519 | test_accuracy: 0.52211 |  0:00:38s\n",
      "epoch 12 | loss: 0.70694 | test_accuracy: 0.51838 |  0:00:41s\n",
      "epoch 13 | loss: 0.70838 | test_accuracy: 0.51359 |  0:00:45s\n",
      "epoch 14 | loss: 0.70623 | test_accuracy: 0.52104 |  0:00:48s\n",
      "epoch 15 | loss: 0.70282 | test_accuracy: 0.5008  |  0:00:51s\n",
      "epoch 16 | loss: 0.68953 | test_accuracy: 0.50027 |  0:00:55s\n",
      "epoch 17 | loss: 0.68998 | test_accuracy: 0.49494 |  0:00:58s\n",
      "epoch 18 | loss: 0.68916 | test_accuracy: 0.49441 |  0:01:01s\n",
      "epoch 19 | loss: 0.68385 | test_accuracy: 0.47363 |  0:01:04s\n",
      "epoch 20 | loss: 0.68087 | test_accuracy: 0.49547 |  0:01:07s\n",
      "\n",
      "Early stopping occurred at epoch 20 with best_epoch = 10 and best_test_accuracy = 0.5301\n"
     ]
    },
    {
     "name": "stderr",
     "output_type": "stream",
     "text": [
      "/home/gonken/anaconda3/envs/torch/lib/python3.12/site-packages/pytorch_tabnet/callbacks.py:172: UserWarning: Best weights from best epoch are automatically used!\n",
      "  warnings.warn(wrn_msg)\n",
      "[I 2024-10-30 19:08:21,765] Trial 116 finished with value: 0.5301012253596165 and parameters: {'n_d': 31, 'n_a': 40, 'n_steps': 9, 'gamma': 1.6903746328147708, 'lambda_sparse': 0.09541600974492762, 'learning_rate': 0.001164517906660141}. Best is trial 4 with value: 0.5359616409163559.\n",
      "/home/gonken/anaconda3/envs/torch/lib/python3.12/site-packages/pytorch_tabnet/abstract_model.py:82: UserWarning: Device used : cuda\n",
      "  warnings.warn(f\"Device used : {self.device}\")\n"
     ]
    },
    {
     "name": "stdout",
     "output_type": "stream",
     "text": [
      "epoch 0  | loss: 2.06576 | test_accuracy: 0.50879 |  0:00:03s\n",
      "epoch 1  | loss: 0.89748 | test_accuracy: 0.496   |  0:00:06s\n",
      "epoch 2  | loss: 0.82297 | test_accuracy: 0.504   |  0:00:09s\n",
      "epoch 3  | loss: 0.80661 | test_accuracy: 0.48801 |  0:00:12s\n",
      "epoch 4  | loss: 0.77055 | test_accuracy: 0.52264 |  0:00:16s\n",
      "epoch 5  | loss: 0.74897 | test_accuracy: 0.49494 |  0:00:19s\n",
      "epoch 6  | loss: 0.75918 | test_accuracy: 0.51145 |  0:00:22s\n",
      "epoch 7  | loss: 0.74313 | test_accuracy: 0.51305 |  0:00:25s\n",
      "epoch 8  | loss: 0.74077 | test_accuracy: 0.49334 |  0:00:29s\n",
      "epoch 9  | loss: 0.71601 | test_accuracy: 0.49334 |  0:00:32s\n",
      "epoch 10 | loss: 0.724   | test_accuracy: 0.50133 |  0:00:35s\n",
      "epoch 11 | loss: 0.70974 | test_accuracy: 0.5008  |  0:00:38s\n",
      "epoch 12 | loss: 0.70832 | test_accuracy: 0.50986 |  0:00:42s\n",
      "epoch 13 | loss: 0.70512 | test_accuracy: 0.50879 |  0:00:45s\n",
      "epoch 14 | loss: 0.68621 | test_accuracy: 0.5008  |  0:00:48s\n",
      "\n",
      "Early stopping occurred at epoch 14 with best_epoch = 4 and best_test_accuracy = 0.52264\n"
     ]
    },
    {
     "name": "stderr",
     "output_type": "stream",
     "text": [
      "/home/gonken/anaconda3/envs/torch/lib/python3.12/site-packages/pytorch_tabnet/callbacks.py:172: UserWarning: Best weights from best epoch are automatically used!\n",
      "  warnings.warn(wrn_msg)\n",
      "[I 2024-10-30 19:09:11,831] Trial 117 finished with value: 0.5226425146510388 and parameters: {'n_d': 57, 'n_a': 36, 'n_steps': 9, 'gamma': 1.8066843185482255, 'lambda_sparse': 0.08431479141499823, 'learning_rate': 0.0014589099778401702}. Best is trial 4 with value: 0.5359616409163559.\n",
      "/home/gonken/anaconda3/envs/torch/lib/python3.12/site-packages/pytorch_tabnet/abstract_model.py:82: UserWarning: Device used : cuda\n",
      "  warnings.warn(f\"Device used : {self.device}\")\n"
     ]
    },
    {
     "name": "stdout",
     "output_type": "stream",
     "text": [
      "epoch 0  | loss: 1.23071 | test_accuracy: 0.50293 |  0:00:03s\n",
      "epoch 1  | loss: 1.03418 | test_accuracy: 0.51252 |  0:00:06s\n",
      "epoch 2  | loss: 0.88391 | test_accuracy: 0.49547 |  0:00:10s\n",
      "epoch 3  | loss: 0.80557 | test_accuracy: 0.49973 |  0:00:13s\n",
      "epoch 4  | loss: 0.77013 | test_accuracy: 0.50826 |  0:00:16s\n",
      "epoch 5  | loss: 0.75563 | test_accuracy: 0.51998 |  0:00:19s\n",
      "epoch 6  | loss: 0.72699 | test_accuracy: 0.51252 |  0:00:22s\n",
      "epoch 7  | loss: 0.72785 | test_accuracy: 0.50773 |  0:00:26s\n",
      "epoch 8  | loss: 0.7244  | test_accuracy: 0.49014 |  0:00:29s\n",
      "epoch 9  | loss: 0.71996 | test_accuracy: 0.48801 |  0:00:32s\n",
      "epoch 10 | loss: 0.72731 | test_accuracy: 0.49973 |  0:00:35s\n",
      "epoch 11 | loss: 0.70817 | test_accuracy: 0.49334 |  0:00:39s\n",
      "epoch 12 | loss: 0.70974 | test_accuracy: 0.49867 |  0:00:42s\n",
      "epoch 13 | loss: 0.69763 | test_accuracy: 0.50027 |  0:00:45s\n",
      "epoch 14 | loss: 0.70623 | test_accuracy: 0.48322 |  0:00:49s\n",
      "epoch 15 | loss: 0.70217 | test_accuracy: 0.48748 |  0:00:51s\n",
      "\n",
      "Early stopping occurred at epoch 15 with best_epoch = 5 and best_test_accuracy = 0.51998\n"
     ]
    },
    {
     "name": "stderr",
     "output_type": "stream",
     "text": [
      "/home/gonken/anaconda3/envs/torch/lib/python3.12/site-packages/pytorch_tabnet/callbacks.py:172: UserWarning: Best weights from best epoch are automatically used!\n",
      "  warnings.warn(wrn_msg)\n",
      "[I 2024-10-30 19:10:05,466] Trial 118 finished with value: 0.5199786893979755 and parameters: {'n_d': 26, 'n_a': 43, 'n_steps': 9, 'gamma': 1.7498849844683249, 'lambda_sparse': 0.09604176629759612, 'learning_rate': 0.0006210849554068008}. Best is trial 4 with value: 0.5359616409163559.\n",
      "/home/gonken/anaconda3/envs/torch/lib/python3.12/site-packages/pytorch_tabnet/abstract_model.py:82: UserWarning: Device used : cuda\n",
      "  warnings.warn(f\"Device used : {self.device}\")\n"
     ]
    },
    {
     "name": "stdout",
     "output_type": "stream",
     "text": [
      "epoch 0  | loss: 0.91743 | test_accuracy: 0.51891 |  0:00:01s\n",
      "epoch 1  | loss: 0.77567 | test_accuracy: 0.51039 |  0:00:04s\n",
      "epoch 2  | loss: 0.74979 | test_accuracy: 0.49334 |  0:00:06s\n",
      "epoch 3  | loss: 0.74149 | test_accuracy: 0.49441 |  0:00:09s\n",
      "epoch 4  | loss: 0.72585 | test_accuracy: 0.48482 |  0:00:11s\n",
      "epoch 5  | loss: 0.7316  | test_accuracy: 0.50027 |  0:00:13s\n",
      "epoch 6  | loss: 0.71416 | test_accuracy: 0.49547 |  0:00:15s\n",
      "epoch 7  | loss: 0.71127 | test_accuracy: 0.50453 |  0:00:18s\n",
      "epoch 8  | loss: 0.7054  | test_accuracy: 0.4992  |  0:00:20s\n",
      "epoch 9  | loss: 0.70648 | test_accuracy: 0.47949 |  0:00:22s\n",
      "epoch 10 | loss: 0.69623 | test_accuracy: 0.504   |  0:00:24s\n",
      "\n",
      "Early stopping occurred at epoch 10 with best_epoch = 0 and best_test_accuracy = 0.51891\n"
     ]
    },
    {
     "name": "stderr",
     "output_type": "stream",
     "text": [
      "/home/gonken/anaconda3/envs/torch/lib/python3.12/site-packages/pytorch_tabnet/callbacks.py:172: UserWarning: Best weights from best epoch are automatically used!\n",
      "  warnings.warn(wrn_msg)\n",
      "[I 2024-10-30 19:10:31,018] Trial 119 finished with value: 0.5189131592967501 and parameters: {'n_d': 34, 'n_a': 62, 'n_steps': 5, 'gamma': 1.4518170630326834, 'lambda_sparse': 0.09883476507957056, 'learning_rate': 0.0010364307724820027}. Best is trial 4 with value: 0.5359616409163559.\n",
      "/home/gonken/anaconda3/envs/torch/lib/python3.12/site-packages/pytorch_tabnet/abstract_model.py:82: UserWarning: Device used : cuda\n",
      "  warnings.warn(f\"Device used : {self.device}\")\n"
     ]
    },
    {
     "name": "stdout",
     "output_type": "stream",
     "text": [
      "epoch 0  | loss: 2.45996 | test_accuracy: 0.51252 |  0:00:03s\n",
      "epoch 1  | loss: 1.29523 | test_accuracy: 0.49281 |  0:00:06s\n",
      "epoch 2  | loss: 1.13356 | test_accuracy: 0.504   |  0:00:10s\n",
      "epoch 3  | loss: 0.98615 | test_accuracy: 0.49121 |  0:00:13s\n",
      "epoch 4  | loss: 0.90548 | test_accuracy: 0.49867 |  0:00:16s\n",
      "epoch 5  | loss: 0.84824 | test_accuracy: 0.51572 |  0:00:19s\n",
      "epoch 6  | loss: 0.82318 | test_accuracy: 0.504   |  0:00:22s\n",
      "epoch 7  | loss: 0.78961 | test_accuracy: 0.50453 |  0:00:25s\n",
      "epoch 8  | loss: 0.769   | test_accuracy: 0.49973 |  0:00:28s\n",
      "epoch 9  | loss: 0.76586 | test_accuracy: 0.49227 |  0:00:31s\n",
      "epoch 10 | loss: 0.74396 | test_accuracy: 0.51039 |  0:00:34s\n",
      "epoch 11 | loss: 0.74959 | test_accuracy: 0.49814 |  0:00:37s\n",
      "epoch 12 | loss: 0.73359 | test_accuracy: 0.50826 |  0:00:40s\n",
      "epoch 13 | loss: 0.74499 | test_accuracy: 0.50666 |  0:00:44s\n",
      "epoch 14 | loss: 0.73581 | test_accuracy: 0.52264 |  0:00:47s\n",
      "epoch 15 | loss: 0.72614 | test_accuracy: 0.49707 |  0:00:50s\n",
      "epoch 16 | loss: 0.71541 | test_accuracy: 0.50027 |  0:00:53s\n",
      "epoch 17 | loss: 0.71328 | test_accuracy: 0.49334 |  0:00:56s\n",
      "epoch 18 | loss: 0.70932 | test_accuracy: 0.48375 |  0:00:59s\n",
      "epoch 19 | loss: 0.71775 | test_accuracy: 0.51412 |  0:01:02s\n",
      "epoch 20 | loss: 0.70938 | test_accuracy: 0.49867 |  0:01:05s\n",
      "epoch 21 | loss: 0.70557 | test_accuracy: 0.50133 |  0:01:09s\n",
      "epoch 22 | loss: 0.7013  | test_accuracy: 0.48961 |  0:01:12s\n",
      "epoch 23 | loss: 0.70341 | test_accuracy: 0.49281 |  0:01:15s\n",
      "epoch 24 | loss: 0.70193 | test_accuracy: 0.48855 |  0:01:19s\n",
      "\n",
      "Early stopping occurred at epoch 24 with best_epoch = 14 and best_test_accuracy = 0.52264\n"
     ]
    },
    {
     "name": "stderr",
     "output_type": "stream",
     "text": [
      "/home/gonken/anaconda3/envs/torch/lib/python3.12/site-packages/pytorch_tabnet/callbacks.py:172: UserWarning: Best weights from best epoch are automatically used!\n",
      "  warnings.warn(wrn_msg)\n",
      "[I 2024-10-30 19:11:51,770] Trial 120 finished with value: 0.5226425146510388 and parameters: {'n_d': 22, 'n_a': 40, 'n_steps': 9, 'gamma': 1.479445709744025, 'lambda_sparse': 0.09592510765313347, 'learning_rate': 0.0005343901953802006}. Best is trial 4 with value: 0.5359616409163559.\n",
      "/home/gonken/anaconda3/envs/torch/lib/python3.12/site-packages/pytorch_tabnet/abstract_model.py:82: UserWarning: Device used : cuda\n",
      "  warnings.warn(f\"Device used : {self.device}\")\n"
     ]
    },
    {
     "name": "stdout",
     "output_type": "stream",
     "text": [
      "epoch 0  | loss: 1.33817 | test_accuracy: 0.48908 |  0:00:03s\n",
      "epoch 1  | loss: 0.86247 | test_accuracy: 0.51518 |  0:00:06s\n",
      "epoch 2  | loss: 0.78251 | test_accuracy: 0.48695 |  0:00:10s\n",
      "epoch 3  | loss: 0.76645 | test_accuracy: 0.496   |  0:00:13s\n",
      "epoch 4  | loss: 0.76462 | test_accuracy: 0.49707 |  0:00:16s\n",
      "epoch 5  | loss: 0.74171 | test_accuracy: 0.50453 |  0:00:19s\n",
      "epoch 6  | loss: 0.72759 | test_accuracy: 0.4976  |  0:00:22s\n",
      "epoch 7  | loss: 0.71808 | test_accuracy: 0.50613 |  0:00:25s\n",
      "epoch 8  | loss: 0.7257  | test_accuracy: 0.47469 |  0:00:29s\n",
      "epoch 9  | loss: 0.70566 | test_accuracy: 0.50346 |  0:00:32s\n",
      "epoch 10 | loss: 0.70984 | test_accuracy: 0.49547 |  0:00:35s\n",
      "epoch 11 | loss: 0.70564 | test_accuracy: 0.49973 |  0:00:38s\n",
      "\n",
      "Early stopping occurred at epoch 11 with best_epoch = 1 and best_test_accuracy = 0.51518\n"
     ]
    },
    {
     "name": "stderr",
     "output_type": "stream",
     "text": [
      "/home/gonken/anaconda3/envs/torch/lib/python3.12/site-packages/pytorch_tabnet/callbacks.py:172: UserWarning: Best weights from best epoch are automatically used!\n",
      "  warnings.warn(wrn_msg)\n",
      "[I 2024-10-30 19:12:32,028] Trial 121 finished with value: 0.5151838039424613 and parameters: {'n_d': 30, 'n_a': 15, 'n_steps': 9, 'gamma': 1.6964423694444222, 'lambda_sparse': 0.08661980974206049, 'learning_rate': 0.0018456666400093395}. Best is trial 4 with value: 0.5359616409163559.\n",
      "/home/gonken/anaconda3/envs/torch/lib/python3.12/site-packages/pytorch_tabnet/abstract_model.py:82: UserWarning: Device used : cuda\n",
      "  warnings.warn(f\"Device used : {self.device}\")\n"
     ]
    },
    {
     "name": "stdout",
     "output_type": "stream",
     "text": [
      "epoch 0  | loss: 1.01617 | test_accuracy: 0.4992  |  0:00:02s\n",
      "epoch 1  | loss: 0.80013 | test_accuracy: 0.51092 |  0:00:05s\n",
      "epoch 2  | loss: 0.76252 | test_accuracy: 0.49547 |  0:00:07s\n",
      "epoch 3  | loss: 0.74056 | test_accuracy: 0.5008  |  0:00:10s\n",
      "epoch 4  | loss: 0.72848 | test_accuracy: 0.50719 |  0:00:13s\n",
      "epoch 5  | loss: 0.73735 | test_accuracy: 0.50666 |  0:00:16s\n",
      "epoch 6  | loss: 0.72172 | test_accuracy: 0.50826 |  0:00:18s\n",
      "epoch 7  | loss: 0.71683 | test_accuracy: 0.51145 |  0:00:21s\n",
      "epoch 8  | loss: 0.70664 | test_accuracy: 0.49707 |  0:00:24s\n",
      "epoch 9  | loss: 0.71322 | test_accuracy: 0.50027 |  0:00:27s\n",
      "epoch 10 | loss: 0.69346 | test_accuracy: 0.4992  |  0:00:29s\n",
      "epoch 11 | loss: 0.72908 | test_accuracy: 0.50719 |  0:00:32s\n",
      "epoch 12 | loss: 0.70196 | test_accuracy: 0.48908 |  0:00:34s\n",
      "epoch 13 | loss: 0.68602 | test_accuracy: 0.4976  |  0:00:37s\n",
      "epoch 14 | loss: 0.68885 | test_accuracy: 0.50666 |  0:00:40s\n",
      "epoch 15 | loss: 0.68338 | test_accuracy: 0.49387 |  0:00:43s\n",
      "epoch 16 | loss: 0.68882 | test_accuracy: 0.50666 |  0:00:46s\n",
      "epoch 17 | loss: 0.67996 | test_accuracy: 0.49547 |  0:00:48s\n",
      "\n",
      "Early stopping occurred at epoch 17 with best_epoch = 7 and best_test_accuracy = 0.51145\n"
     ]
    },
    {
     "name": "stderr",
     "output_type": "stream",
     "text": [
      "/home/gonken/anaconda3/envs/torch/lib/python3.12/site-packages/pytorch_tabnet/callbacks.py:172: UserWarning: Best weights from best epoch are automatically used!\n",
      "  warnings.warn(wrn_msg)\n",
      "[I 2024-10-30 19:13:21,982] Trial 122 finished with value: 0.5114544485881726 and parameters: {'n_d': 31, 'n_a': 12, 'n_steps': 7, 'gamma': 1.6106198525351787, 'lambda_sparse': 0.09221764721186265, 'learning_rate': 0.002657954931931772}. Best is trial 4 with value: 0.5359616409163559.\n",
      "/home/gonken/anaconda3/envs/torch/lib/python3.12/site-packages/pytorch_tabnet/abstract_model.py:82: UserWarning: Device used : cuda\n",
      "  warnings.warn(f\"Device used : {self.device}\")\n"
     ]
    },
    {
     "name": "stdout",
     "output_type": "stream",
     "text": [
      "epoch 0  | loss: 0.97755 | test_accuracy: 0.47523 |  0:00:03s\n",
      "epoch 1  | loss: 0.8176  | test_accuracy: 0.51359 |  0:00:06s\n",
      "epoch 2  | loss: 0.73425 | test_accuracy: 0.50293 |  0:00:09s\n",
      "epoch 3  | loss: 0.70862 | test_accuracy: 0.50506 |  0:00:12s\n",
      "epoch 4  | loss: 0.68933 | test_accuracy: 0.49547 |  0:00:15s\n",
      "epoch 5  | loss: 0.6761  | test_accuracy: 0.4992  |  0:00:18s\n",
      "epoch 6  | loss: 0.66903 | test_accuracy: 0.50506 |  0:00:21s\n",
      "epoch 7  | loss: 0.66518 | test_accuracy: 0.48801 |  0:00:24s\n",
      "epoch 8  | loss: 0.6598  | test_accuracy: 0.50986 |  0:00:27s\n",
      "epoch 9  | loss: 0.65452 | test_accuracy: 0.50453 |  0:00:29s\n",
      "epoch 10 | loss: 0.6529  | test_accuracy: 0.49547 |  0:00:32s\n",
      "epoch 11 | loss: 0.65326 | test_accuracy: 0.50559 |  0:00:35s\n",
      "\n",
      "Early stopping occurred at epoch 11 with best_epoch = 1 and best_test_accuracy = 0.51359\n"
     ]
    },
    {
     "name": "stderr",
     "output_type": "stream",
     "text": [
      "/home/gonken/anaconda3/envs/torch/lib/python3.12/site-packages/pytorch_tabnet/callbacks.py:172: UserWarning: Best weights from best epoch are automatically used!\n",
      "  warnings.warn(wrn_msg)\n",
      "[I 2024-10-30 19:13:59,101] Trial 123 finished with value: 0.5135855087906234 and parameters: {'n_d': 28, 'n_a': 59, 'n_steps': 8, 'gamma': 1.6542815125220094, 'lambda_sparse': 0.09415712983740122, 'learning_rate': 0.004668574048931728}. Best is trial 4 with value: 0.5359616409163559.\n",
      "/home/gonken/anaconda3/envs/torch/lib/python3.12/site-packages/pytorch_tabnet/abstract_model.py:82: UserWarning: Device used : cuda\n",
      "  warnings.warn(f\"Device used : {self.device}\")\n"
     ]
    },
    {
     "name": "stdout",
     "output_type": "stream",
     "text": [
      "epoch 0  | loss: 4.44649 | test_accuracy: 0.49121 |  0:00:03s\n",
      "epoch 1  | loss: 1.35477 | test_accuracy: 0.50719 |  0:00:06s\n",
      "epoch 2  | loss: 0.99294 | test_accuracy: 0.4976  |  0:00:09s\n",
      "epoch 3  | loss: 0.87689 | test_accuracy: 0.504   |  0:00:13s\n",
      "epoch 4  | loss: 0.83875 | test_accuracy: 0.50719 |  0:00:16s\n",
      "epoch 5  | loss: 0.7959  | test_accuracy: 0.5024  |  0:00:19s\n",
      "epoch 6  | loss: 0.77745 | test_accuracy: 0.51465 |  0:00:22s\n",
      "epoch 7  | loss: 0.77469 | test_accuracy: 0.48641 |  0:00:25s\n",
      "epoch 8  | loss: 0.77616 | test_accuracy: 0.52371 |  0:00:28s\n",
      "epoch 9  | loss: 0.74614 | test_accuracy: 0.49068 |  0:00:31s\n",
      "epoch 10 | loss: 0.75016 | test_accuracy: 0.49547 |  0:00:34s\n",
      "epoch 11 | loss: 0.73669 | test_accuracy: 0.48482 |  0:00:37s\n",
      "epoch 12 | loss: 0.76134 | test_accuracy: 0.50879 |  0:00:41s\n",
      "epoch 13 | loss: 0.74857 | test_accuracy: 0.50773 |  0:00:44s\n",
      "epoch 14 | loss: 0.73573 | test_accuracy: 0.4976  |  0:00:47s\n",
      "epoch 15 | loss: 0.72151 | test_accuracy: 0.49387 |  0:00:50s\n",
      "epoch 16 | loss: 0.72925 | test_accuracy: 0.50293 |  0:00:53s\n",
      "epoch 17 | loss: 0.71945 | test_accuracy: 0.51305 |  0:00:57s\n",
      "epoch 18 | loss: 0.7237  | test_accuracy: 0.49494 |  0:01:00s\n",
      "\n",
      "Early stopping occurred at epoch 18 with best_epoch = 8 and best_test_accuracy = 0.52371\n"
     ]
    },
    {
     "name": "stderr",
     "output_type": "stream",
     "text": [
      "/home/gonken/anaconda3/envs/torch/lib/python3.12/site-packages/pytorch_tabnet/callbacks.py:172: UserWarning: Best weights from best epoch are automatically used!\n",
      "  warnings.warn(wrn_msg)\n",
      "[I 2024-10-30 19:15:00,800] Trial 124 finished with value: 0.5237080447522643 and parameters: {'n_d': 48, 'n_a': 18, 'n_steps': 9, 'gamma': 1.5792998530428484, 'lambda_sparse': 0.04749860740889541, 'learning_rate': 0.0008070063012466347}. Best is trial 4 with value: 0.5359616409163559.\n",
      "/home/gonken/anaconda3/envs/torch/lib/python3.12/site-packages/pytorch_tabnet/abstract_model.py:82: UserWarning: Device used : cuda\n",
      "  warnings.warn(f\"Device used : {self.device}\")\n"
     ]
    },
    {
     "name": "stdout",
     "output_type": "stream",
     "text": [
      "epoch 0  | loss: 1.04511 | test_accuracy: 0.52424 |  0:00:03s\n",
      "epoch 1  | loss: 0.84241 | test_accuracy: 0.50613 |  0:00:06s\n",
      "epoch 2  | loss: 0.79006 | test_accuracy: 0.51412 |  0:00:08s\n",
      "epoch 3  | loss: 0.76372 | test_accuracy: 0.496   |  0:00:11s\n",
      "epoch 4  | loss: 0.74539 | test_accuracy: 0.504   |  0:00:14s\n",
      "epoch 5  | loss: 0.73249 | test_accuracy: 0.51465 |  0:00:17s\n",
      "epoch 6  | loss: 0.72026 | test_accuracy: 0.48855 |  0:00:20s\n",
      "epoch 7  | loss: 0.71199 | test_accuracy: 0.48482 |  0:00:23s\n",
      "epoch 8  | loss: 0.73066 | test_accuracy: 0.4992  |  0:00:26s\n",
      "epoch 9  | loss: 0.71249 | test_accuracy: 0.49867 |  0:00:29s\n",
      "epoch 10 | loss: 0.70452 | test_accuracy: 0.48535 |  0:00:32s\n",
      "\n",
      "Early stopping occurred at epoch 10 with best_epoch = 0 and best_test_accuracy = 0.52424\n"
     ]
    },
    {
     "name": "stderr",
     "output_type": "stream",
     "text": [
      "/home/gonken/anaconda3/envs/torch/lib/python3.12/site-packages/pytorch_tabnet/callbacks.py:172: UserWarning: Best weights from best epoch are automatically used!\n",
      "  warnings.warn(wrn_msg)\n",
      "[I 2024-10-30 19:15:34,616] Trial 125 finished with value: 0.5242408098028769 and parameters: {'n_d': 32, 'n_a': 14, 'n_steps': 8, 'gamma': 1.2679403639293862, 'lambda_sparse': 0.05038304562316282, 'learning_rate': 0.0014185263881222527}. Best is trial 4 with value: 0.5359616409163559.\n",
      "/home/gonken/anaconda3/envs/torch/lib/python3.12/site-packages/pytorch_tabnet/abstract_model.py:82: UserWarning: Device used : cuda\n",
      "  warnings.warn(f\"Device used : {self.device}\")\n"
     ]
    },
    {
     "name": "stdout",
     "output_type": "stream",
     "text": [
      "epoch 0  | loss: 1.10982 | test_accuracy: 0.48269 |  0:00:03s\n",
      "epoch 1  | loss: 0.84583 | test_accuracy: 0.50879 |  0:00:06s\n",
      "epoch 2  | loss: 0.74301 | test_accuracy: 0.50506 |  0:00:09s\n",
      "epoch 3  | loss: 0.68496 | test_accuracy: 0.51518 |  0:00:13s\n",
      "epoch 4  | loss: 0.67082 | test_accuracy: 0.49814 |  0:00:16s\n",
      "epoch 5  | loss: 0.66382 | test_accuracy: 0.51465 |  0:00:19s\n",
      "epoch 6  | loss: 0.66558 | test_accuracy: 0.4976  |  0:00:22s\n",
      "epoch 7  | loss: 0.67024 | test_accuracy: 0.496   |  0:00:25s\n",
      "epoch 8  | loss: 0.67253 | test_accuracy: 0.51412 |  0:00:29s\n",
      "epoch 9  | loss: 0.6581  | test_accuracy: 0.51998 |  0:00:32s\n",
      "epoch 10 | loss: 0.65572 | test_accuracy: 0.52158 |  0:00:35s\n",
      "epoch 11 | loss: 0.66013 | test_accuracy: 0.51305 |  0:00:38s\n",
      "epoch 12 | loss: 0.66627 | test_accuracy: 0.50559 |  0:00:41s\n",
      "epoch 13 | loss: 0.6587  | test_accuracy: 0.504   |  0:00:45s\n",
      "epoch 14 | loss: 0.65786 | test_accuracy: 0.49227 |  0:00:48s\n",
      "epoch 15 | loss: 0.65805 | test_accuracy: 0.50506 |  0:00:51s\n",
      "epoch 16 | loss: 0.65402 | test_accuracy: 0.52584 |  0:00:54s\n",
      "epoch 17 | loss: 0.64657 | test_accuracy: 0.50879 |  0:00:57s\n",
      "epoch 18 | loss: 0.64619 | test_accuracy: 0.5024  |  0:01:01s\n",
      "epoch 19 | loss: 0.65056 | test_accuracy: 0.51092 |  0:01:04s\n",
      "epoch 20 | loss: 0.64146 | test_accuracy: 0.504   |  0:01:07s\n",
      "epoch 21 | loss: 0.64502 | test_accuracy: 0.51838 |  0:01:10s\n",
      "epoch 22 | loss: 0.64213 | test_accuracy: 0.50666 |  0:01:13s\n",
      "epoch 23 | loss: 0.63962 | test_accuracy: 0.49227 |  0:01:17s\n",
      "epoch 24 | loss: 0.63939 | test_accuracy: 0.50613 |  0:01:20s\n",
      "epoch 25 | loss: 0.64022 | test_accuracy: 0.50613 |  0:01:23s\n",
      "epoch 26 | loss: 0.63618 | test_accuracy: 0.49814 |  0:01:26s\n",
      "\n",
      "Early stopping occurred at epoch 26 with best_epoch = 16 and best_test_accuracy = 0.52584\n"
     ]
    },
    {
     "name": "stderr",
     "output_type": "stream",
     "text": [
      "/home/gonken/anaconda3/envs/torch/lib/python3.12/site-packages/pytorch_tabnet/callbacks.py:172: UserWarning: Best weights from best epoch are automatically used!\n",
      "  warnings.warn(wrn_msg)\n",
      "[I 2024-10-30 19:17:02,804] Trial 126 finished with value: 0.525839104954715 and parameters: {'n_d': 46, 'n_a': 32, 'n_steps': 9, 'gamma': 1.683380152506814, 'lambda_sparse': 0.04381845142548397, 'learning_rate': 0.009460854868105014}. Best is trial 4 with value: 0.5359616409163559.\n",
      "/home/gonken/anaconda3/envs/torch/lib/python3.12/site-packages/pytorch_tabnet/abstract_model.py:82: UserWarning: Device used : cuda\n",
      "  warnings.warn(f\"Device used : {self.device}\")\n"
     ]
    },
    {
     "name": "stdout",
     "output_type": "stream",
     "text": [
      "epoch 0  | loss: 1.17906 | test_accuracy: 0.50027 |  0:00:02s\n",
      "epoch 1  | loss: 0.77834 | test_accuracy: 0.50826 |  0:00:05s\n",
      "epoch 2  | loss: 0.75724 | test_accuracy: 0.50773 |  0:00:08s\n",
      "epoch 3  | loss: 0.75728 | test_accuracy: 0.49441 |  0:00:11s\n",
      "epoch 4  | loss: 0.78318 | test_accuracy: 0.48109 |  0:00:14s\n",
      "epoch 5  | loss: 0.73419 | test_accuracy: 0.48375 |  0:00:17s\n",
      "epoch 6  | loss: 0.71503 | test_accuracy: 0.48961 |  0:00:19s\n",
      "epoch 7  | loss: 0.70511 | test_accuracy: 0.50773 |  0:00:22s\n",
      "epoch 8  | loss: 0.69477 | test_accuracy: 0.49068 |  0:00:24s\n",
      "epoch 9  | loss: 0.68679 | test_accuracy: 0.50613 |  0:00:27s\n",
      "epoch 10 | loss: 0.68654 | test_accuracy: 0.48588 |  0:00:30s\n",
      "epoch 11 | loss: 0.68287 | test_accuracy: 0.49814 |  0:00:33s\n",
      "\n",
      "Early stopping occurred at epoch 11 with best_epoch = 1 and best_test_accuracy = 0.50826\n"
     ]
    },
    {
     "name": "stderr",
     "output_type": "stream",
     "text": [
      "/home/gonken/anaconda3/envs/torch/lib/python3.12/site-packages/pytorch_tabnet/callbacks.py:172: UserWarning: Best weights from best epoch are automatically used!\n",
      "  warnings.warn(wrn_msg)\n",
      "[I 2024-10-30 19:17:37,569] Trial 127 finished with value: 0.5082578582844965 and parameters: {'n_d': 55, 'n_a': 17, 'n_steps': 7, 'gamma': 1.6395978550275325, 'lambda_sparse': 0.00969915019085902, 'learning_rate': 0.00204298035200028}. Best is trial 4 with value: 0.5359616409163559.\n",
      "/home/gonken/anaconda3/envs/torch/lib/python3.12/site-packages/pytorch_tabnet/abstract_model.py:82: UserWarning: Device used : cuda\n",
      "  warnings.warn(f\"Device used : {self.device}\")\n"
     ]
    },
    {
     "name": "stdout",
     "output_type": "stream",
     "text": [
      "epoch 0  | loss: 1.21957 | test_accuracy: 0.48695 |  0:00:03s\n",
      "epoch 1  | loss: 0.84892 | test_accuracy: 0.51945 |  0:00:06s\n",
      "epoch 2  | loss: 0.70805 | test_accuracy: 0.50719 |  0:00:10s\n",
      "epoch 3  | loss: 0.67449 | test_accuracy: 0.51625 |  0:00:13s\n",
      "epoch 4  | loss: 0.6795  | test_accuracy: 0.50133 |  0:00:17s\n",
      "epoch 5  | loss: 0.67988 | test_accuracy: 0.50453 |  0:00:20s\n",
      "epoch 6  | loss: 0.677   | test_accuracy: 0.49867 |  0:00:24s\n",
      "epoch 7  | loss: 0.67539 | test_accuracy: 0.49707 |  0:00:28s\n",
      "epoch 8  | loss: 0.67375 | test_accuracy: 0.49707 |  0:00:31s\n",
      "epoch 9  | loss: 0.67279 | test_accuracy: 0.49973 |  0:00:35s\n",
      "epoch 10 | loss: 0.67313 | test_accuracy: 0.4992  |  0:00:38s\n",
      "epoch 11 | loss: 0.66733 | test_accuracy: 0.49654 |  0:00:42s\n",
      "\n",
      "Early stopping occurred at epoch 11 with best_epoch = 1 and best_test_accuracy = 0.51945\n"
     ]
    },
    {
     "name": "stderr",
     "output_type": "stream",
     "text": [
      "/home/gonken/anaconda3/envs/torch/lib/python3.12/site-packages/pytorch_tabnet/callbacks.py:172: UserWarning: Best weights from best epoch are automatically used!\n",
      "  warnings.warn(wrn_msg)\n",
      "[I 2024-10-30 19:18:21,940] Trial 128 finished with value: 0.5194459243473628 and parameters: {'n_d': 30, 'n_a': 20, 'n_steps': 10, 'gamma': 1.5447230722609708, 'lambda_sparse': 0.05394637748458601, 'learning_rate': 0.018386573524850472}. Best is trial 4 with value: 0.5359616409163559.\n",
      "/home/gonken/anaconda3/envs/torch/lib/python3.12/site-packages/pytorch_tabnet/abstract_model.py:82: UserWarning: Device used : cuda\n",
      "  warnings.warn(f\"Device used : {self.device}\")\n"
     ]
    },
    {
     "name": "stdout",
     "output_type": "stream",
     "text": [
      "epoch 0  | loss: 1.65338 | test_accuracy: 0.50613 |  0:00:03s\n",
      "epoch 1  | loss: 1.30582 | test_accuracy: 0.48641 |  0:00:06s\n",
      "epoch 2  | loss: 1.076   | test_accuracy: 0.49654 |  0:00:09s\n",
      "epoch 3  | loss: 0.97736 | test_accuracy: 0.48162 |  0:00:12s\n",
      "epoch 4  | loss: 0.88344 | test_accuracy: 0.48215 |  0:00:16s\n",
      "epoch 5  | loss: 0.86312 | test_accuracy: 0.4683  |  0:00:19s\n",
      "epoch 6  | loss: 0.81894 | test_accuracy: 0.49441 |  0:00:22s\n",
      "epoch 7  | loss: 0.79594 | test_accuracy: 0.50773 |  0:00:25s\n",
      "epoch 8  | loss: 0.79679 | test_accuracy: 0.49494 |  0:00:28s\n",
      "epoch 9  | loss: 0.78903 | test_accuracy: 0.48908 |  0:00:32s\n",
      "epoch 10 | loss: 0.77911 | test_accuracy: 0.48109 |  0:00:35s\n",
      "epoch 11 | loss: 0.77364 | test_accuracy: 0.5008  |  0:00:38s\n",
      "epoch 12 | loss: 0.76063 | test_accuracy: 0.48641 |  0:00:41s\n",
      "epoch 13 | loss: 0.75512 | test_accuracy: 0.50613 |  0:00:44s\n",
      "epoch 14 | loss: 0.75794 | test_accuracy: 0.49281 |  0:00:47s\n",
      "epoch 15 | loss: 0.74734 | test_accuracy: 0.48215 |  0:00:50s\n",
      "epoch 16 | loss: 0.7372  | test_accuracy: 0.50453 |  0:00:53s\n",
      "epoch 17 | loss: 0.74018 | test_accuracy: 0.48961 |  0:00:56s\n",
      "\n",
      "Early stopping occurred at epoch 17 with best_epoch = 7 and best_test_accuracy = 0.50773\n"
     ]
    },
    {
     "name": "stderr",
     "output_type": "stream",
     "text": [
      "/home/gonken/anaconda3/envs/torch/lib/python3.12/site-packages/pytorch_tabnet/callbacks.py:172: UserWarning: Best weights from best epoch are automatically used!\n",
      "  warnings.warn(wrn_msg)\n",
      "[I 2024-10-30 19:19:20,598] Trial 129 finished with value: 0.5077250932338838 and parameters: {'n_d': 49, 'n_a': 60, 'n_steps': 9, 'gamma': 1.6014449624684033, 'lambda_sparse': 0.09024294043290207, 'learning_rate': 0.0002986039589891986}. Best is trial 4 with value: 0.5359616409163559.\n",
      "/home/gonken/anaconda3/envs/torch/lib/python3.12/site-packages/pytorch_tabnet/abstract_model.py:82: UserWarning: Device used : cuda\n",
      "  warnings.warn(f\"Device used : {self.device}\")\n"
     ]
    },
    {
     "name": "stdout",
     "output_type": "stream",
     "text": [
      "epoch 0  | loss: 0.97078 | test_accuracy: 0.51305 |  0:00:02s\n",
      "epoch 1  | loss: 0.81638 | test_accuracy: 0.49441 |  0:00:05s\n",
      "epoch 2  | loss: 0.76581 | test_accuracy: 0.50559 |  0:00:08s\n",
      "epoch 3  | loss: 0.73971 | test_accuracy: 0.49814 |  0:00:11s\n",
      "epoch 4  | loss: 0.74114 | test_accuracy: 0.49387 |  0:00:13s\n",
      "epoch 5  | loss: 0.72864 | test_accuracy: 0.51465 |  0:00:16s\n",
      "epoch 6  | loss: 0.72544 | test_accuracy: 0.49441 |  0:00:19s\n",
      "epoch 7  | loss: 0.72021 | test_accuracy: 0.48908 |  0:00:22s\n",
      "epoch 8  | loss: 0.71954 | test_accuracy: 0.4992  |  0:00:24s\n",
      "epoch 9  | loss: 0.71183 | test_accuracy: 0.49227 |  0:00:27s\n",
      "epoch 10 | loss: 0.70963 | test_accuracy: 0.49973 |  0:00:30s\n",
      "epoch 11 | loss: 0.70754 | test_accuracy: 0.48055 |  0:00:33s\n",
      "epoch 12 | loss: 0.7041  | test_accuracy: 0.49547 |  0:00:35s\n",
      "epoch 13 | loss: 0.70036 | test_accuracy: 0.49814 |  0:00:38s\n",
      "epoch 14 | loss: 0.6912  | test_accuracy: 0.50186 |  0:00:41s\n",
      "epoch 15 | loss: 0.68915 | test_accuracy: 0.49707 |  0:00:44s\n",
      "\n",
      "Early stopping occurred at epoch 15 with best_epoch = 5 and best_test_accuracy = 0.51465\n"
     ]
    },
    {
     "name": "stderr",
     "output_type": "stream",
     "text": [
      "/home/gonken/anaconda3/envs/torch/lib/python3.12/site-packages/pytorch_tabnet/callbacks.py:172: UserWarning: Best weights from best epoch are automatically used!\n",
      "  warnings.warn(wrn_msg)\n",
      "[I 2024-10-30 19:20:06,287] Trial 130 finished with value: 0.5146510388918487 and parameters: {'n_d': 29, 'n_a': 19, 'n_steps': 7, 'gamma': 1.0382431554551388, 'lambda_sparse': 0.061052724178203656, 'learning_rate': 0.0011772080656782034}. Best is trial 4 with value: 0.5359616409163559.\n",
      "/home/gonken/anaconda3/envs/torch/lib/python3.12/site-packages/pytorch_tabnet/abstract_model.py:82: UserWarning: Device used : cuda\n",
      "  warnings.warn(f\"Device used : {self.device}\")\n"
     ]
    },
    {
     "name": "stdout",
     "output_type": "stream",
     "text": [
      "epoch 0  | loss: 1.52486 | test_accuracy: 0.50773 |  0:00:03s\n",
      "epoch 1  | loss: 1.0023  | test_accuracy: 0.51785 |  0:00:06s\n",
      "epoch 2  | loss: 0.7787  | test_accuracy: 0.49973 |  0:00:09s\n",
      "epoch 3  | loss: 0.70942 | test_accuracy: 0.49867 |  0:00:12s\n",
      "epoch 4  | loss: 0.68221 | test_accuracy: 0.49654 |  0:00:15s\n",
      "epoch 5  | loss: 0.67329 | test_accuracy: 0.51252 |  0:00:19s\n",
      "epoch 6  | loss: 0.66616 | test_accuracy: 0.496   |  0:00:22s\n",
      "epoch 7  | loss: 0.66528 | test_accuracy: 0.49654 |  0:00:25s\n",
      "epoch 8  | loss: 0.6635  | test_accuracy: 0.50986 |  0:00:28s\n",
      "epoch 9  | loss: 0.66684 | test_accuracy: 0.50932 |  0:00:31s\n",
      "epoch 10 | loss: 0.66324 | test_accuracy: 0.51625 |  0:00:34s\n",
      "epoch 11 | loss: 0.65924 | test_accuracy: 0.49707 |  0:00:37s\n",
      "\n",
      "Early stopping occurred at epoch 11 with best_epoch = 1 and best_test_accuracy = 0.51785\n"
     ]
    },
    {
     "name": "stderr",
     "output_type": "stream",
     "text": [
      "/home/gonken/anaconda3/envs/torch/lib/python3.12/site-packages/pytorch_tabnet/callbacks.py:172: UserWarning: Best weights from best epoch are automatically used!\n",
      "  warnings.warn(wrn_msg)\n",
      "[I 2024-10-30 19:20:45,682] Trial 131 finished with value: 0.5178476291955247 and parameters: {'n_d': 52, 'n_a': 34, 'n_steps': 9, 'gamma': 1.6826664680698005, 'lambda_sparse': 0.04253196635666423, 'learning_rate': 0.008587109739009025}. Best is trial 4 with value: 0.5359616409163559.\n",
      "/home/gonken/anaconda3/envs/torch/lib/python3.12/site-packages/pytorch_tabnet/abstract_model.py:82: UserWarning: Device used : cuda\n",
      "  warnings.warn(f\"Device used : {self.device}\")\n"
     ]
    },
    {
     "name": "stdout",
     "output_type": "stream",
     "text": [
      "epoch 0  | loss: 1.0231  | test_accuracy: 0.4992  |  0:00:03s\n",
      "epoch 1  | loss: 0.75032 | test_accuracy: 0.4715  |  0:00:06s\n",
      "epoch 2  | loss: 0.703   | test_accuracy: 0.49707 |  0:00:09s\n",
      "epoch 3  | loss: 0.68307 | test_accuracy: 0.51252 |  0:00:12s\n",
      "epoch 4  | loss: 0.66932 | test_accuracy: 0.49867 |  0:00:15s\n",
      "epoch 5  | loss: 0.66723 | test_accuracy: 0.50346 |  0:00:18s\n",
      "epoch 6  | loss: 0.66436 | test_accuracy: 0.49973 |  0:00:21s\n",
      "epoch 7  | loss: 0.66144 | test_accuracy: 0.49814 |  0:00:25s\n",
      "epoch 8  | loss: 0.66781 | test_accuracy: 0.504   |  0:00:28s\n",
      "epoch 9  | loss: 0.673   | test_accuracy: 0.49174 |  0:00:31s\n",
      "epoch 10 | loss: 0.67037 | test_accuracy: 0.50453 |  0:00:34s\n",
      "epoch 11 | loss: 0.66858 | test_accuracy: 0.50826 |  0:00:37s\n",
      "epoch 12 | loss: 0.6687  | test_accuracy: 0.50346 |  0:00:40s\n",
      "epoch 13 | loss: 0.66678 | test_accuracy: 0.49494 |  0:00:44s\n",
      "\n",
      "Early stopping occurred at epoch 13 with best_epoch = 3 and best_test_accuracy = 0.51252\n"
     ]
    },
    {
     "name": "stderr",
     "output_type": "stream",
     "text": [
      "/home/gonken/anaconda3/envs/torch/lib/python3.12/site-packages/pytorch_tabnet/callbacks.py:172: UserWarning: Best weights from best epoch are automatically used!\n",
      "  warnings.warn(wrn_msg)\n",
      "[I 2024-10-30 19:21:31,370] Trial 132 finished with value: 0.512519978689398 and parameters: {'n_d': 38, 'n_a': 32, 'n_steps': 9, 'gamma': 1.7301024975387773, 'lambda_sparse': 0.047801698575613685, 'learning_rate': 0.011030397298115316}. Best is trial 4 with value: 0.5359616409163559.\n",
      "/home/gonken/anaconda3/envs/torch/lib/python3.12/site-packages/pytorch_tabnet/abstract_model.py:82: UserWarning: Device used : cuda\n",
      "  warnings.warn(f\"Device used : {self.device}\")\n"
     ]
    },
    {
     "name": "stdout",
     "output_type": "stream",
     "text": [
      "epoch 0  | loss: 1.03047 | test_accuracy: 0.48855 |  0:00:03s\n",
      "epoch 1  | loss: 0.86938 | test_accuracy: 0.51092 |  0:00:06s\n",
      "epoch 2  | loss: 0.86928 | test_accuracy: 0.48162 |  0:00:09s\n",
      "epoch 3  | loss: 0.7303  | test_accuracy: 0.49707 |  0:00:12s\n",
      "epoch 4  | loss: 0.7002  | test_accuracy: 0.5008  |  0:00:16s\n",
      "epoch 5  | loss: 0.69244 | test_accuracy: 0.48908 |  0:00:19s\n",
      "epoch 6  | loss: 0.67479 | test_accuracy: 0.51039 |  0:00:22s\n",
      "epoch 7  | loss: 0.67339 | test_accuracy: 0.49707 |  0:00:26s\n",
      "epoch 8  | loss: 0.67327 | test_accuracy: 0.50506 |  0:00:29s\n",
      "epoch 9  | loss: 0.66207 | test_accuracy: 0.49014 |  0:00:32s\n",
      "epoch 10 | loss: 0.66291 | test_accuracy: 0.49707 |  0:00:35s\n",
      "epoch 11 | loss: 0.65958 | test_accuracy: 0.49707 |  0:00:39s\n",
      "\n",
      "Early stopping occurred at epoch 11 with best_epoch = 1 and best_test_accuracy = 0.51092\n"
     ]
    },
    {
     "name": "stderr",
     "output_type": "stream",
     "text": [
      "/home/gonken/anaconda3/envs/torch/lib/python3.12/site-packages/pytorch_tabnet/callbacks.py:172: UserWarning: Best weights from best epoch are automatically used!\n",
      "  warnings.warn(wrn_msg)\n",
      "[I 2024-10-30 19:22:12,117] Trial 133 finished with value: 0.51092168353756 and parameters: {'n_d': 45, 'n_a': 22, 'n_steps': 9, 'gamma': 1.7059093969202102, 'lambda_sparse': 0.04498174397227872, 'learning_rate': 0.006653502584642067}. Best is trial 4 with value: 0.5359616409163559.\n",
      "/home/gonken/anaconda3/envs/torch/lib/python3.12/site-packages/pytorch_tabnet/abstract_model.py:82: UserWarning: Device used : cuda\n",
      "  warnings.warn(f\"Device used : {self.device}\")\n"
     ]
    },
    {
     "name": "stdout",
     "output_type": "stream",
     "text": [
      "epoch 0  | loss: 1.39905 | test_accuracy: 0.50613 |  0:00:03s\n",
      "epoch 1  | loss: 0.90152 | test_accuracy: 0.49867 |  0:00:06s\n",
      "epoch 2  | loss: 0.80594 | test_accuracy: 0.496   |  0:00:10s\n",
      "epoch 3  | loss: 0.79254 | test_accuracy: 0.50506 |  0:00:13s\n",
      "epoch 4  | loss: 0.75667 | test_accuracy: 0.49814 |  0:00:16s\n",
      "epoch 5  | loss: 0.68732 | test_accuracy: 0.48748 |  0:00:20s\n",
      "epoch 6  | loss: 0.6752  | test_accuracy: 0.49334 |  0:00:23s\n",
      "epoch 7  | loss: 0.67027 | test_accuracy: 0.49387 |  0:00:26s\n",
      "epoch 8  | loss: 0.67067 | test_accuracy: 0.5008  |  0:00:30s\n",
      "epoch 9  | loss: 0.6664  | test_accuracy: 0.50027 |  0:00:33s\n",
      "epoch 10 | loss: 0.65845 | test_accuracy: 0.5024  |  0:00:36s\n",
      "\n",
      "Early stopping occurred at epoch 10 with best_epoch = 0 and best_test_accuracy = 0.50613\n"
     ]
    },
    {
     "name": "stderr",
     "output_type": "stream",
     "text": [
      "/home/gonken/anaconda3/envs/torch/lib/python3.12/site-packages/pytorch_tabnet/callbacks.py:172: UserWarning: Best weights from best epoch are automatically used!\n",
      "  warnings.warn(wrn_msg)\n",
      "[I 2024-10-30 19:22:49,933] Trial 134 finished with value: 0.5061267980820459 and parameters: {'n_d': 46, 'n_a': 30, 'n_steps': 9, 'gamma': 1.5190495363864238, 'lambda_sparse': 0.03598367594202214, 'learning_rate': 0.003985963713793089}. Best is trial 4 with value: 0.5359616409163559.\n",
      "/home/gonken/anaconda3/envs/torch/lib/python3.12/site-packages/pytorch_tabnet/abstract_model.py:82: UserWarning: Device used : cuda\n",
      "  warnings.warn(f\"Device used : {self.device}\")\n"
     ]
    },
    {
     "name": "stdout",
     "output_type": "stream",
     "text": [
      "epoch 0  | loss: 0.96554 | test_accuracy: 0.49654 |  0:00:02s\n",
      "epoch 1  | loss: 0.68574 | test_accuracy: 0.496   |  0:00:05s\n",
      "epoch 2  | loss: 0.68672 | test_accuracy: 0.496   |  0:00:08s\n",
      "epoch 3  | loss: 0.67504 | test_accuracy: 0.50986 |  0:00:11s\n",
      "epoch 4  | loss: 0.6737  | test_accuracy: 0.50453 |  0:00:14s\n",
      "epoch 5  | loss: 0.67566 | test_accuracy: 0.50186 |  0:00:16s\n",
      "epoch 6  | loss: 0.67    | test_accuracy: 0.50559 |  0:00:19s\n",
      "epoch 7  | loss: 0.66804 | test_accuracy: 0.51359 |  0:00:22s\n",
      "epoch 8  | loss: 0.66592 | test_accuracy: 0.50773 |  0:00:25s\n",
      "epoch 9  | loss: 0.66938 | test_accuracy: 0.50613 |  0:00:28s\n",
      "epoch 10 | loss: 0.66847 | test_accuracy: 0.504   |  0:00:31s\n",
      "epoch 11 | loss: 0.66801 | test_accuracy: 0.51572 |  0:00:34s\n",
      "epoch 12 | loss: 0.66913 | test_accuracy: 0.50666 |  0:00:37s\n",
      "epoch 13 | loss: 0.66841 | test_accuracy: 0.49707 |  0:00:40s\n",
      "epoch 14 | loss: 0.68059 | test_accuracy: 0.50613 |  0:00:43s\n",
      "epoch 15 | loss: 0.67431 | test_accuracy: 0.51145 |  0:00:45s\n",
      "epoch 16 | loss: 0.67076 | test_accuracy: 0.51518 |  0:00:48s\n",
      "epoch 17 | loss: 0.67086 | test_accuracy: 0.51305 |  0:00:51s\n",
      "epoch 18 | loss: 0.66428 | test_accuracy: 0.51145 |  0:00:53s\n",
      "epoch 19 | loss: 0.66683 | test_accuracy: 0.51412 |  0:00:56s\n",
      "epoch 20 | loss: 0.6634  | test_accuracy: 0.51412 |  0:00:59s\n",
      "epoch 21 | loss: 0.66232 | test_accuracy: 0.5024  |  0:01:01s\n",
      "\n",
      "Early stopping occurred at epoch 21 with best_epoch = 11 and best_test_accuracy = 0.51572\n"
     ]
    },
    {
     "name": "stderr",
     "output_type": "stream",
     "text": [
      "/home/gonken/anaconda3/envs/torch/lib/python3.12/site-packages/pytorch_tabnet/callbacks.py:172: UserWarning: Best weights from best epoch are automatically used!\n",
      "  warnings.warn(wrn_msg)\n",
      "[I 2024-10-30 19:23:52,865] Trial 135 finished with value: 0.515716568993074 and parameters: {'n_d': 47, 'n_a': 28, 'n_steps': 7, 'gamma': 1.6719733846507865, 'lambda_sparse': 0.05068515062298357, 'learning_rate': 0.029500704394666052}. Best is trial 4 with value: 0.5359616409163559.\n",
      "/home/gonken/anaconda3/envs/torch/lib/python3.12/site-packages/pytorch_tabnet/abstract_model.py:82: UserWarning: Device used : cuda\n",
      "  warnings.warn(f\"Device used : {self.device}\")\n"
     ]
    },
    {
     "name": "stdout",
     "output_type": "stream",
     "text": [
      "epoch 0  | loss: 1.10243 | test_accuracy: 0.49014 |  0:00:02s\n",
      "epoch 1  | loss: 0.78121 | test_accuracy: 0.50986 |  0:00:05s\n",
      "epoch 2  | loss: 0.72859 | test_accuracy: 0.51731 |  0:00:08s\n",
      "epoch 3  | loss: 0.71517 | test_accuracy: 0.50666 |  0:00:11s\n",
      "epoch 4  | loss: 0.70612 | test_accuracy: 0.50773 |  0:00:14s\n",
      "epoch 5  | loss: 0.69142 | test_accuracy: 0.50506 |  0:00:17s\n",
      "epoch 6  | loss: 0.69389 | test_accuracy: 0.52637 |  0:00:20s\n",
      "epoch 7  | loss: 0.68358 | test_accuracy: 0.496   |  0:00:22s\n",
      "epoch 8  | loss: 0.67581 | test_accuracy: 0.51518 |  0:00:25s\n",
      "epoch 9  | loss: 0.66949 | test_accuracy: 0.49547 |  0:00:29s\n",
      "epoch 10 | loss: 0.66879 | test_accuracy: 0.49494 |  0:00:31s\n",
      "epoch 11 | loss: 0.66712 | test_accuracy: 0.50027 |  0:00:34s\n",
      "epoch 12 | loss: 0.66763 | test_accuracy: 0.50346 |  0:00:37s\n",
      "epoch 13 | loss: 0.66818 | test_accuracy: 0.47789 |  0:00:41s\n",
      "epoch 14 | loss: 0.66498 | test_accuracy: 0.51092 |  0:00:44s\n",
      "epoch 15 | loss: 0.66164 | test_accuracy: 0.49174 |  0:00:46s\n",
      "epoch 16 | loss: 0.66073 | test_accuracy: 0.50932 |  0:00:49s\n",
      "\n",
      "Early stopping occurred at epoch 16 with best_epoch = 6 and best_test_accuracy = 0.52637\n"
     ]
    },
    {
     "name": "stderr",
     "output_type": "stream",
     "text": [
      "/home/gonken/anaconda3/envs/torch/lib/python3.12/site-packages/pytorch_tabnet/callbacks.py:172: UserWarning: Best weights from best epoch are automatically used!\n",
      "  warnings.warn(wrn_msg)\n",
      "[I 2024-10-30 19:24:44,213] Trial 136 finished with value: 0.5263718700053277 and parameters: {'n_d': 35, 'n_a': 16, 'n_steps': 8, 'gamma': 1.1184430925518138, 'lambda_sparse': 0.041406037692281336, 'learning_rate': 0.0048065112852937}. Best is trial 4 with value: 0.5359616409163559.\n",
      "/home/gonken/anaconda3/envs/torch/lib/python3.12/site-packages/pytorch_tabnet/abstract_model.py:82: UserWarning: Device used : cuda\n",
      "  warnings.warn(f\"Device used : {self.device}\")\n"
     ]
    },
    {
     "name": "stdout",
     "output_type": "stream",
     "text": [
      "epoch 0  | loss: 1.26089 | test_accuracy: 0.49973 |  0:00:03s\n",
      "epoch 1  | loss: 0.76324 | test_accuracy: 0.50773 |  0:00:06s\n",
      "epoch 2  | loss: 0.73484 | test_accuracy: 0.504   |  0:00:09s\n",
      "epoch 3  | loss: 0.73692 | test_accuracy: 0.50027 |  0:00:12s\n",
      "epoch 4  | loss: 0.7173  | test_accuracy: 0.50027 |  0:00:15s\n",
      "epoch 5  | loss: 0.70088 | test_accuracy: 0.48748 |  0:00:18s\n",
      "epoch 6  | loss: 0.70186 | test_accuracy: 0.50719 |  0:00:21s\n",
      "epoch 7  | loss: 0.69677 | test_accuracy: 0.50666 |  0:00:24s\n",
      "epoch 8  | loss: 0.69392 | test_accuracy: 0.48908 |  0:00:27s\n",
      "epoch 9  | loss: 0.68897 | test_accuracy: 0.51572 |  0:00:30s\n",
      "epoch 10 | loss: 0.68392 | test_accuracy: 0.51199 |  0:00:33s\n",
      "epoch 11 | loss: 0.67773 | test_accuracy: 0.50879 |  0:00:36s\n",
      "epoch 12 | loss: 0.6778  | test_accuracy: 0.49973 |  0:00:39s\n",
      "epoch 13 | loss: 0.67814 | test_accuracy: 0.51359 |  0:00:42s\n",
      "epoch 14 | loss: 0.67084 | test_accuracy: 0.49441 |  0:00:45s\n",
      "epoch 15 | loss: 0.67371 | test_accuracy: 0.50027 |  0:00:48s\n",
      "epoch 16 | loss: 0.67429 | test_accuracy: 0.51625 |  0:00:51s\n",
      "epoch 17 | loss: 0.67465 | test_accuracy: 0.50666 |  0:00:54s\n",
      "epoch 18 | loss: 0.67651 | test_accuracy: 0.51305 |  0:00:57s\n",
      "epoch 19 | loss: 0.66464 | test_accuracy: 0.50506 |  0:01:00s\n",
      "epoch 20 | loss: 0.67085 | test_accuracy: 0.51945 |  0:01:02s\n",
      "epoch 21 | loss: 0.66101 | test_accuracy: 0.50879 |  0:01:06s\n",
      "epoch 22 | loss: 0.66246 | test_accuracy: 0.50559 |  0:01:09s\n",
      "epoch 23 | loss: 0.6671  | test_accuracy: 0.50773 |  0:01:11s\n",
      "epoch 24 | loss: 0.66506 | test_accuracy: 0.50773 |  0:01:14s\n",
      "epoch 25 | loss: 0.66907 | test_accuracy: 0.51465 |  0:01:17s\n",
      "epoch 26 | loss: 0.66773 | test_accuracy: 0.50027 |  0:01:20s\n",
      "epoch 27 | loss: 0.6652  | test_accuracy: 0.51252 |  0:01:23s\n",
      "epoch 28 | loss: 0.6595  | test_accuracy: 0.49867 |  0:01:26s\n",
      "epoch 29 | loss: 0.66213 | test_accuracy: 0.51625 |  0:01:29s\n",
      "epoch 30 | loss: 0.65391 | test_accuracy: 0.51625 |  0:01:32s\n",
      "\n",
      "Early stopping occurred at epoch 30 with best_epoch = 20 and best_test_accuracy = 0.51945\n"
     ]
    },
    {
     "name": "stderr",
     "output_type": "stream",
     "text": [
      "/home/gonken/anaconda3/envs/torch/lib/python3.12/site-packages/pytorch_tabnet/callbacks.py:172: UserWarning: Best weights from best epoch are automatically used!\n",
      "  warnings.warn(wrn_msg)\n",
      "[I 2024-10-30 19:26:18,598] Trial 137 finished with value: 0.5194459243473628 and parameters: {'n_d': 35, 'n_a': 16, 'n_steps': 8, 'gamma': 1.1183989469323437, 'lambda_sparse': 0.040497471295375786, 'learning_rate': 0.0029226167223824675}. Best is trial 4 with value: 0.5359616409163559.\n",
      "/home/gonken/anaconda3/envs/torch/lib/python3.12/site-packages/pytorch_tabnet/abstract_model.py:82: UserWarning: Device used : cuda\n",
      "  warnings.warn(f\"Device used : {self.device}\")\n"
     ]
    },
    {
     "name": "stdout",
     "output_type": "stream",
     "text": [
      "epoch 0  | loss: 1.09936 | test_accuracy: 0.51998 |  0:00:03s\n",
      "epoch 1  | loss: 0.81472 | test_accuracy: 0.51092 |  0:00:06s\n",
      "epoch 2  | loss: 0.78758 | test_accuracy: 0.50559 |  0:00:09s\n",
      "epoch 3  | loss: 0.75899 | test_accuracy: 0.5349  |  0:00:12s\n",
      "epoch 4  | loss: 0.75299 | test_accuracy: 0.49387 |  0:00:15s\n",
      "epoch 5  | loss: 0.72197 | test_accuracy: 0.49814 |  0:00:18s\n",
      "epoch 6  | loss: 0.71209 | test_accuracy: 0.49867 |  0:00:21s\n",
      "epoch 7  | loss: 0.71996 | test_accuracy: 0.49281 |  0:00:24s\n",
      "epoch 8  | loss: 0.70425 | test_accuracy: 0.51252 |  0:00:27s\n",
      "epoch 9  | loss: 0.70047 | test_accuracy: 0.50613 |  0:00:30s\n",
      "epoch 10 | loss: 0.69829 | test_accuracy: 0.50186 |  0:00:33s\n",
      "epoch 11 | loss: 0.69848 | test_accuracy: 0.51199 |  0:00:36s\n",
      "epoch 12 | loss: 0.70325 | test_accuracy: 0.51039 |  0:00:39s\n",
      "epoch 13 | loss: 0.68873 | test_accuracy: 0.50986 |  0:00:42s\n",
      "\n",
      "Early stopping occurred at epoch 13 with best_epoch = 3 and best_test_accuracy = 0.5349\n"
     ]
    },
    {
     "name": "stderr",
     "output_type": "stream",
     "text": [
      "/home/gonken/anaconda3/envs/torch/lib/python3.12/site-packages/pytorch_tabnet/callbacks.py:172: UserWarning: Best weights from best epoch are automatically used!\n",
      "  warnings.warn(wrn_msg)\n",
      "[I 2024-10-30 19:27:02,488] Trial 138 finished with value: 0.5348961108151306 and parameters: {'n_d': 40, 'n_a': 14, 'n_steps': 8, 'gamma': 1.1040268232823638, 'lambda_sparse': 0.03165644896362918, 'learning_rate': 0.0017676400462978766}. Best is trial 4 with value: 0.5359616409163559.\n",
      "/home/gonken/anaconda3/envs/torch/lib/python3.12/site-packages/pytorch_tabnet/abstract_model.py:82: UserWarning: Device used : cuda\n",
      "  warnings.warn(f\"Device used : {self.device}\")\n"
     ]
    },
    {
     "name": "stdout",
     "output_type": "stream",
     "text": [
      "epoch 0  | loss: 1.84216 | test_accuracy: 0.4992  |  0:00:03s\n",
      "epoch 1  | loss: 1.14508 | test_accuracy: 0.50133 |  0:00:06s\n",
      "epoch 2  | loss: 0.96261 | test_accuracy: 0.50346 |  0:00:09s\n",
      "epoch 3  | loss: 0.90478 | test_accuracy: 0.504   |  0:00:12s\n",
      "epoch 4  | loss: 0.84174 | test_accuracy: 0.49654 |  0:00:15s\n",
      "epoch 5  | loss: 0.80084 | test_accuracy: 0.49441 |  0:00:18s\n",
      "epoch 6  | loss: 0.78941 | test_accuracy: 0.50346 |  0:00:21s\n",
      "epoch 7  | loss: 0.77504 | test_accuracy: 0.49973 |  0:00:24s\n",
      "epoch 8  | loss: 0.75361 | test_accuracy: 0.5008  |  0:00:27s\n",
      "epoch 9  | loss: 0.75306 | test_accuracy: 0.5008  |  0:00:29s\n",
      "epoch 10 | loss: 0.73937 | test_accuracy: 0.48588 |  0:00:33s\n",
      "epoch 11 | loss: 0.72647 | test_accuracy: 0.496   |  0:00:35s\n",
      "epoch 12 | loss: 0.72618 | test_accuracy: 0.50027 |  0:00:38s\n",
      "epoch 13 | loss: 0.72776 | test_accuracy: 0.51039 |  0:00:42s\n",
      "epoch 14 | loss: 0.7184  | test_accuracy: 0.49334 |  0:00:45s\n",
      "epoch 15 | loss: 0.71317 | test_accuracy: 0.5024  |  0:00:48s\n",
      "epoch 16 | loss: 0.70129 | test_accuracy: 0.48641 |  0:00:51s\n",
      "epoch 17 | loss: 0.70817 | test_accuracy: 0.49227 |  0:00:54s\n",
      "epoch 18 | loss: 0.69837 | test_accuracy: 0.51518 |  0:00:56s\n",
      "epoch 19 | loss: 0.70338 | test_accuracy: 0.49441 |  0:00:59s\n",
      "epoch 20 | loss: 0.70564 | test_accuracy: 0.496   |  0:01:02s\n",
      "epoch 21 | loss: 0.70568 | test_accuracy: 0.50027 |  0:01:05s\n",
      "epoch 22 | loss: 0.69861 | test_accuracy: 0.48588 |  0:01:08s\n",
      "epoch 23 | loss: 0.6979  | test_accuracy: 0.504   |  0:01:11s\n",
      "epoch 24 | loss: 0.69646 | test_accuracy: 0.50719 |  0:01:14s\n",
      "epoch 25 | loss: 0.69246 | test_accuracy: 0.48748 |  0:01:17s\n",
      "epoch 26 | loss: 0.68947 | test_accuracy: 0.49494 |  0:01:20s\n",
      "epoch 27 | loss: 0.6908  | test_accuracy: 0.48588 |  0:01:23s\n",
      "epoch 28 | loss: 0.68887 | test_accuracy: 0.46457 |  0:01:26s\n",
      "\n",
      "Early stopping occurred at epoch 28 with best_epoch = 18 and best_test_accuracy = 0.51518\n"
     ]
    },
    {
     "name": "stderr",
     "output_type": "stream",
     "text": [
      "/home/gonken/anaconda3/envs/torch/lib/python3.12/site-packages/pytorch_tabnet/callbacks.py:172: UserWarning: Best weights from best epoch are automatically used!\n",
      "  warnings.warn(wrn_msg)\n",
      "[I 2024-10-30 19:28:30,139] Trial 139 finished with value: 0.5151838039424613 and parameters: {'n_d': 40, 'n_a': 12, 'n_steps': 8, 'gamma': 1.0472487256391638, 'lambda_sparse': 0.03148529287384504, 'learning_rate': 0.0009183309940423927}. Best is trial 4 with value: 0.5359616409163559.\n",
      "/home/gonken/anaconda3/envs/torch/lib/python3.12/site-packages/pytorch_tabnet/abstract_model.py:82: UserWarning: Device used : cuda\n",
      "  warnings.warn(f\"Device used : {self.device}\")\n"
     ]
    },
    {
     "name": "stdout",
     "output_type": "stream",
     "text": [
      "epoch 0  | loss: 1.30014 | test_accuracy: 0.49068 |  0:00:03s\n",
      "epoch 1  | loss: 0.8922  | test_accuracy: 0.48695 |  0:00:05s\n",
      "epoch 2  | loss: 0.8122  | test_accuracy: 0.49814 |  0:00:09s\n",
      "epoch 3  | loss: 0.77683 | test_accuracy: 0.5008  |  0:00:12s\n",
      "epoch 4  | loss: 0.7668  | test_accuracy: 0.49121 |  0:00:15s\n",
      "epoch 5  | loss: 0.75802 | test_accuracy: 0.496   |  0:00:17s\n",
      "epoch 6  | loss: 0.74784 | test_accuracy: 0.48535 |  0:00:20s\n",
      "epoch 7  | loss: 0.73236 | test_accuracy: 0.496   |  0:00:23s\n",
      "epoch 8  | loss: 0.72248 | test_accuracy: 0.50346 |  0:00:26s\n",
      "epoch 9  | loss: 0.71227 | test_accuracy: 0.48641 |  0:00:29s\n",
      "epoch 10 | loss: 0.71364 | test_accuracy: 0.51039 |  0:00:32s\n",
      "epoch 11 | loss: 0.69928 | test_accuracy: 0.51359 |  0:00:35s\n",
      "epoch 12 | loss: 0.695   | test_accuracy: 0.50506 |  0:00:38s\n",
      "epoch 13 | loss: 0.70302 | test_accuracy: 0.50719 |  0:00:41s\n",
      "epoch 14 | loss: 0.69791 | test_accuracy: 0.51145 |  0:00:44s\n",
      "epoch 15 | loss: 0.69581 | test_accuracy: 0.50559 |  0:00:47s\n",
      "epoch 16 | loss: 0.69136 | test_accuracy: 0.50559 |  0:00:49s\n",
      "epoch 17 | loss: 0.6873  | test_accuracy: 0.48908 |  0:00:53s\n",
      "epoch 18 | loss: 0.68777 | test_accuracy: 0.49281 |  0:00:56s\n",
      "epoch 19 | loss: 0.6812  | test_accuracy: 0.49387 |  0:00:58s\n",
      "epoch 20 | loss: 0.6788  | test_accuracy: 0.48961 |  0:01:01s\n",
      "epoch 21 | loss: 0.67851 | test_accuracy: 0.51518 |  0:01:04s\n",
      "epoch 22 | loss: 0.6785  | test_accuracy: 0.51518 |  0:01:07s\n",
      "epoch 23 | loss: 0.67817 | test_accuracy: 0.51412 |  0:01:10s\n",
      "epoch 24 | loss: 0.66874 | test_accuracy: 0.51199 |  0:01:13s\n",
      "epoch 25 | loss: 0.66432 | test_accuracy: 0.51199 |  0:01:16s\n",
      "epoch 26 | loss: 0.67311 | test_accuracy: 0.49973 |  0:01:19s\n",
      "epoch 27 | loss: 0.67095 | test_accuracy: 0.51838 |  0:01:22s\n",
      "epoch 28 | loss: 0.65934 | test_accuracy: 0.49814 |  0:01:25s\n",
      "epoch 29 | loss: 0.66816 | test_accuracy: 0.50613 |  0:01:28s\n",
      "epoch 30 | loss: 0.66342 | test_accuracy: 0.51572 |  0:01:32s\n",
      "epoch 31 | loss: 0.66501 | test_accuracy: 0.51465 |  0:01:35s\n",
      "epoch 32 | loss: 0.66137 | test_accuracy: 0.50932 |  0:01:38s\n",
      "epoch 33 | loss: 0.65884 | test_accuracy: 0.52531 |  0:01:41s\n",
      "epoch 34 | loss: 0.66132 | test_accuracy: 0.52424 |  0:01:44s\n",
      "epoch 35 | loss: 0.66013 | test_accuracy: 0.51465 |  0:01:47s\n",
      "epoch 36 | loss: 0.6587  | test_accuracy: 0.51092 |  0:01:50s\n",
      "epoch 37 | loss: 0.6582  | test_accuracy: 0.50027 |  0:01:53s\n",
      "epoch 38 | loss: 0.65716 | test_accuracy: 0.50186 |  0:01:57s\n",
      "epoch 39 | loss: 0.65189 | test_accuracy: 0.49707 |  0:02:00s\n",
      "epoch 40 | loss: 0.65329 | test_accuracy: 0.4992  |  0:02:03s\n",
      "epoch 41 | loss: 0.65067 | test_accuracy: 0.50293 |  0:02:06s\n",
      "epoch 42 | loss: 0.6538  | test_accuracy: 0.50826 |  0:02:09s\n",
      "epoch 43 | loss: 0.64935 | test_accuracy: 0.50719 |  0:02:12s\n",
      "\n",
      "Early stopping occurred at epoch 43 with best_epoch = 33 and best_test_accuracy = 0.52531\n"
     ]
    },
    {
     "name": "stderr",
     "output_type": "stream",
     "text": [
      "/home/gonken/anaconda3/envs/torch/lib/python3.12/site-packages/pytorch_tabnet/callbacks.py:172: UserWarning: Best weights from best epoch are automatically used!\n",
      "  warnings.warn(wrn_msg)\n",
      "[I 2024-10-30 19:30:44,060] Trial 140 finished with value: 0.5253063399041022 and parameters: {'n_d': 43, 'n_a': 14, 'n_steps': 8, 'gamma': 1.007958346191166, 'lambda_sparse': 0.025628979982336004, 'learning_rate': 0.0016480094163458677}. Best is trial 4 with value: 0.5359616409163559.\n",
      "/home/gonken/anaconda3/envs/torch/lib/python3.12/site-packages/pytorch_tabnet/abstract_model.py:82: UserWarning: Device used : cuda\n",
      "  warnings.warn(f\"Device used : {self.device}\")\n"
     ]
    },
    {
     "name": "stdout",
     "output_type": "stream",
     "text": [
      "epoch 0  | loss: 0.89904 | test_accuracy: 0.51145 |  0:00:03s\n",
      "epoch 1  | loss: 0.75574 | test_accuracy: 0.49547 |  0:00:05s\n",
      "epoch 2  | loss: 0.73084 | test_accuracy: 0.49334 |  0:00:08s\n",
      "epoch 3  | loss: 0.70724 | test_accuracy: 0.50986 |  0:00:11s\n",
      "epoch 4  | loss: 0.706   | test_accuracy: 0.48641 |  0:00:14s\n",
      "epoch 5  | loss: 0.69828 | test_accuracy: 0.52424 |  0:00:18s\n",
      "epoch 6  | loss: 0.68531 | test_accuracy: 0.50506 |  0:00:21s\n",
      "epoch 7  | loss: 0.68769 | test_accuracy: 0.51145 |  0:00:23s\n",
      "epoch 8  | loss: 0.68666 | test_accuracy: 0.49707 |  0:00:27s\n",
      "epoch 9  | loss: 0.68012 | test_accuracy: 0.51039 |  0:00:30s\n",
      "epoch 10 | loss: 0.67364 | test_accuracy: 0.50133 |  0:00:33s\n",
      "epoch 11 | loss: 0.67016 | test_accuracy: 0.51199 |  0:00:36s\n",
      "epoch 12 | loss: 0.67546 | test_accuracy: 0.50666 |  0:00:38s\n",
      "epoch 13 | loss: 0.6679  | test_accuracy: 0.51412 |  0:00:42s\n",
      "epoch 14 | loss: 0.6682  | test_accuracy: 0.49814 |  0:00:45s\n",
      "epoch 15 | loss: 0.66291 | test_accuracy: 0.51145 |  0:00:48s\n",
      "\n",
      "Early stopping occurred at epoch 15 with best_epoch = 5 and best_test_accuracy = 0.52424\n"
     ]
    },
    {
     "name": "stderr",
     "output_type": "stream",
     "text": [
      "/home/gonken/anaconda3/envs/torch/lib/python3.12/site-packages/pytorch_tabnet/callbacks.py:172: UserWarning: Best weights from best epoch are automatically used!\n",
      "  warnings.warn(wrn_msg)\n",
      "[I 2024-10-30 19:31:33,666] Trial 141 finished with value: 0.5242408098028769 and parameters: {'n_d': 37, 'n_a': 15, 'n_steps': 8, 'gamma': 1.0809504544803137, 'lambda_sparse': 0.02764366509593123, 'learning_rate': 0.0024157700573961753}. Best is trial 4 with value: 0.5359616409163559.\n",
      "/home/gonken/anaconda3/envs/torch/lib/python3.12/site-packages/pytorch_tabnet/abstract_model.py:82: UserWarning: Device used : cuda\n",
      "  warnings.warn(f\"Device used : {self.device}\")\n"
     ]
    },
    {
     "name": "stdout",
     "output_type": "stream",
     "text": [
      "epoch 0  | loss: 0.95356 | test_accuracy: 0.48482 |  0:00:02s\n",
      "epoch 1  | loss: 0.78959 | test_accuracy: 0.48961 |  0:00:06s\n",
      "epoch 2  | loss: 0.7452  | test_accuracy: 0.50932 |  0:00:09s\n",
      "epoch 3  | loss: 0.73408 | test_accuracy: 0.51412 |  0:00:12s\n",
      "epoch 4  | loss: 0.72115 | test_accuracy: 0.49227 |  0:00:14s\n",
      "epoch 5  | loss: 0.71811 | test_accuracy: 0.48269 |  0:00:17s\n",
      "epoch 6  | loss: 0.69361 | test_accuracy: 0.496   |  0:00:20s\n",
      "epoch 7  | loss: 0.68473 | test_accuracy: 0.48322 |  0:00:23s\n",
      "epoch 8  | loss: 0.69265 | test_accuracy: 0.50559 |  0:00:26s\n",
      "epoch 9  | loss: 0.68809 | test_accuracy: 0.49227 |  0:00:30s\n",
      "epoch 10 | loss: 0.68023 | test_accuracy: 0.49654 |  0:00:33s\n",
      "epoch 11 | loss: 0.67413 | test_accuracy: 0.50666 |  0:00:36s\n",
      "epoch 12 | loss: 0.67078 | test_accuracy: 0.51891 |  0:00:39s\n",
      "epoch 13 | loss: 0.66794 | test_accuracy: 0.50773 |  0:00:42s\n",
      "epoch 14 | loss: 0.66539 | test_accuracy: 0.50719 |  0:00:45s\n",
      "epoch 15 | loss: 0.65726 | test_accuracy: 0.5008  |  0:00:48s\n",
      "epoch 16 | loss: 0.66269 | test_accuracy: 0.50773 |  0:00:51s\n",
      "epoch 17 | loss: 0.65826 | test_accuracy: 0.48588 |  0:00:54s\n",
      "epoch 18 | loss: 0.65481 | test_accuracy: 0.49281 |  0:00:57s\n",
      "epoch 19 | loss: 0.65419 | test_accuracy: 0.49707 |  0:01:00s\n",
      "epoch 20 | loss: 0.65938 | test_accuracy: 0.49654 |  0:01:03s\n",
      "epoch 21 | loss: 0.65143 | test_accuracy: 0.49121 |  0:01:06s\n",
      "epoch 22 | loss: 0.65184 | test_accuracy: 0.49014 |  0:01:09s\n",
      "\n",
      "Early stopping occurred at epoch 22 with best_epoch = 12 and best_test_accuracy = 0.51891\n"
     ]
    },
    {
     "name": "stderr",
     "output_type": "stream",
     "text": [
      "/home/gonken/anaconda3/envs/torch/lib/python3.12/site-packages/pytorch_tabnet/callbacks.py:172: UserWarning: Best weights from best epoch are automatically used!\n",
      "  warnings.warn(wrn_msg)\n",
      "[I 2024-10-30 19:32:44,449] Trial 142 finished with value: 0.5189131592967501 and parameters: {'n_d': 39, 'n_a': 16, 'n_steps': 8, 'gamma': 1.0957814510439983, 'lambda_sparse': 0.03759719067862425, 'learning_rate': 0.00340634517221282}. Best is trial 4 with value: 0.5359616409163559.\n",
      "/home/gonken/anaconda3/envs/torch/lib/python3.12/site-packages/pytorch_tabnet/abstract_model.py:82: UserWarning: Device used : cuda\n",
      "  warnings.warn(f\"Device used : {self.device}\")\n"
     ]
    },
    {
     "name": "stdout",
     "output_type": "stream",
     "text": [
      "epoch 0  | loss: 1.17619 | test_accuracy: 0.50506 |  0:00:02s\n",
      "epoch 1  | loss: 0.79428 | test_accuracy: 0.50186 |  0:00:05s\n",
      "epoch 2  | loss: 0.76259 | test_accuracy: 0.5024  |  0:00:08s\n",
      "epoch 3  | loss: 0.74374 | test_accuracy: 0.5008  |  0:00:12s\n",
      "epoch 4  | loss: 0.71299 | test_accuracy: 0.53117 |  0:00:14s\n",
      "epoch 5  | loss: 0.6971  | test_accuracy: 0.5008  |  0:00:17s\n",
      "epoch 6  | loss: 0.67708 | test_accuracy: 0.52211 |  0:00:20s\n",
      "epoch 7  | loss: 0.67631 | test_accuracy: 0.50613 |  0:00:23s\n",
      "epoch 8  | loss: 0.67925 | test_accuracy: 0.50773 |  0:00:27s\n",
      "epoch 9  | loss: 0.67572 | test_accuracy: 0.50932 |  0:00:29s\n",
      "epoch 10 | loss: 0.66862 | test_accuracy: 0.50666 |  0:00:32s\n",
      "epoch 11 | loss: 0.66116 | test_accuracy: 0.5024  |  0:00:35s\n",
      "epoch 12 | loss: 0.6599  | test_accuracy: 0.50613 |  0:00:38s\n",
      "epoch 13 | loss: 0.66005 | test_accuracy: 0.49121 |  0:00:41s\n",
      "epoch 14 | loss: 0.65273 | test_accuracy: 0.50453 |  0:00:44s\n",
      "\n",
      "Early stopping occurred at epoch 14 with best_epoch = 4 and best_test_accuracy = 0.53117\n"
     ]
    },
    {
     "name": "stderr",
     "output_type": "stream",
     "text": [
      "/home/gonken/anaconda3/envs/torch/lib/python3.12/site-packages/pytorch_tabnet/callbacks.py:172: UserWarning: Best weights from best epoch are automatically used!\n",
      "  warnings.warn(wrn_msg)\n",
      "[I 2024-10-30 19:33:30,397] Trial 143 finished with value: 0.5311667554608418 and parameters: {'n_d': 34, 'n_a': 11, 'n_steps': 8, 'gamma': 1.5666225108835192, 'lambda_sparse': 0.03501597839800876, 'learning_rate': 0.005138209200366039}. Best is trial 4 with value: 0.5359616409163559.\n",
      "/home/gonken/anaconda3/envs/torch/lib/python3.12/site-packages/pytorch_tabnet/abstract_model.py:82: UserWarning: Device used : cuda\n",
      "  warnings.warn(f\"Device used : {self.device}\")\n"
     ]
    },
    {
     "name": "stdout",
     "output_type": "stream",
     "text": [
      "epoch 0  | loss: 1.03147 | test_accuracy: 0.48748 |  0:00:02s\n",
      "epoch 1  | loss: 0.80576 | test_accuracy: 0.49014 |  0:00:05s\n",
      "epoch 2  | loss: 0.75838 | test_accuracy: 0.48162 |  0:00:08s\n",
      "epoch 3  | loss: 0.72822 | test_accuracy: 0.45392 |  0:00:11s\n",
      "epoch 4  | loss: 0.73579 | test_accuracy: 0.48908 |  0:00:14s\n",
      "epoch 5  | loss: 0.71511 | test_accuracy: 0.46883 |  0:00:17s\n",
      "epoch 6  | loss: 0.71161 | test_accuracy: 0.48588 |  0:00:19s\n",
      "epoch 7  | loss: 0.71159 | test_accuracy: 0.48588 |  0:00:22s\n",
      "epoch 8  | loss: 0.70641 | test_accuracy: 0.47949 |  0:00:25s\n",
      "epoch 9  | loss: 0.69586 | test_accuracy: 0.51518 |  0:00:27s\n",
      "epoch 10 | loss: 0.69973 | test_accuracy: 0.51039 |  0:00:30s\n",
      "epoch 11 | loss: 0.69815 | test_accuracy: 0.49227 |  0:00:33s\n",
      "epoch 12 | loss: 0.6875  | test_accuracy: 0.49494 |  0:00:35s\n",
      "epoch 13 | loss: 0.68557 | test_accuracy: 0.50346 |  0:00:38s\n",
      "epoch 14 | loss: 0.69281 | test_accuracy: 0.48428 |  0:00:41s\n",
      "epoch 15 | loss: 0.68886 | test_accuracy: 0.48588 |  0:00:43s\n",
      "epoch 16 | loss: 0.68077 | test_accuracy: 0.49494 |  0:00:46s\n",
      "epoch 17 | loss: 0.68013 | test_accuracy: 0.49494 |  0:00:49s\n",
      "epoch 18 | loss: 0.67905 | test_accuracy: 0.51945 |  0:00:52s\n",
      "epoch 19 | loss: 0.67616 | test_accuracy: 0.49174 |  0:00:55s\n",
      "epoch 20 | loss: 0.67482 | test_accuracy: 0.50133 |  0:00:57s\n",
      "epoch 21 | loss: 0.67616 | test_accuracy: 0.49494 |  0:01:00s\n",
      "epoch 22 | loss: 0.66901 | test_accuracy: 0.49494 |  0:01:03s\n",
      "epoch 23 | loss: 0.67439 | test_accuracy: 0.50773 |  0:01:06s\n",
      "epoch 24 | loss: 0.667   | test_accuracy: 0.50719 |  0:01:09s\n",
      "epoch 25 | loss: 0.66784 | test_accuracy: 0.5024  |  0:01:12s\n",
      "epoch 26 | loss: 0.67695 | test_accuracy: 0.4992  |  0:01:14s\n",
      "epoch 27 | loss: 0.6677  | test_accuracy: 0.50506 |  0:01:17s\n",
      "epoch 28 | loss: 0.66044 | test_accuracy: 0.51838 |  0:01:20s\n",
      "\n",
      "Early stopping occurred at epoch 28 with best_epoch = 18 and best_test_accuracy = 0.51945\n"
     ]
    },
    {
     "name": "stderr",
     "output_type": "stream",
     "text": [
      "/home/gonken/anaconda3/envs/torch/lib/python3.12/site-packages/pytorch_tabnet/callbacks.py:172: UserWarning: Best weights from best epoch are automatically used!\n",
      "  warnings.warn(wrn_msg)\n",
      "[I 2024-10-30 19:34:52,244] Trial 144 finished with value: 0.5194459243473628 and parameters: {'n_d': 34, 'n_a': 10, 'n_steps': 7, 'gamma': 1.5768622782406165, 'lambda_sparse': 0.03462657530246102, 'learning_rate': 0.0012399076297363227}. Best is trial 4 with value: 0.5359616409163559.\n",
      "/home/gonken/anaconda3/envs/torch/lib/python3.12/site-packages/pytorch_tabnet/abstract_model.py:82: UserWarning: Device used : cuda\n",
      "  warnings.warn(f\"Device used : {self.device}\")\n"
     ]
    },
    {
     "name": "stdout",
     "output_type": "stream",
     "text": [
      "epoch 0  | loss: 1.23867 | test_accuracy: 0.48695 |  0:00:03s\n",
      "epoch 1  | loss: 0.87371 | test_accuracy: 0.50453 |  0:00:05s\n",
      "epoch 2  | loss: 0.80231 | test_accuracy: 0.51092 |  0:00:08s\n",
      "epoch 3  | loss: 0.76097 | test_accuracy: 0.50186 |  0:00:11s\n",
      "epoch 4  | loss: 0.7475  | test_accuracy: 0.50346 |  0:00:14s\n",
      "epoch 5  | loss: 0.72514 | test_accuracy: 0.50346 |  0:00:17s\n",
      "epoch 6  | loss: 0.71759 | test_accuracy: 0.50186 |  0:00:20s\n",
      "epoch 7  | loss: 0.72505 | test_accuracy: 0.48855 |  0:00:22s\n",
      "epoch 8  | loss: 0.70351 | test_accuracy: 0.49014 |  0:00:25s\n",
      "epoch 9  | loss: 0.70271 | test_accuracy: 0.5024  |  0:00:28s\n",
      "epoch 10 | loss: 0.68752 | test_accuracy: 0.50773 |  0:00:31s\n",
      "epoch 11 | loss: 0.69257 | test_accuracy: 0.4992  |  0:00:33s\n",
      "epoch 12 | loss: 0.69418 | test_accuracy: 0.50133 |  0:00:36s\n",
      "\n",
      "Early stopping occurred at epoch 12 with best_epoch = 2 and best_test_accuracy = 0.51092\n"
     ]
    },
    {
     "name": "stderr",
     "output_type": "stream",
     "text": [
      "/home/gonken/anaconda3/envs/torch/lib/python3.12/site-packages/pytorch_tabnet/callbacks.py:172: UserWarning: Best weights from best epoch are automatically used!\n",
      "  warnings.warn(wrn_msg)\n",
      "[I 2024-10-30 19:35:29,779] Trial 145 finished with value: 0.51092168353756 and parameters: {'n_d': 32, 'n_a': 13, 'n_steps': 7, 'gamma': 1.1695134176987307, 'lambda_sparse': 0.022057933153043684, 'learning_rate': 0.001845692210463973}. Best is trial 4 with value: 0.5359616409163559.\n",
      "/home/gonken/anaconda3/envs/torch/lib/python3.12/site-packages/pytorch_tabnet/abstract_model.py:82: UserWarning: Device used : cuda\n",
      "  warnings.warn(f\"Device used : {self.device}\")\n"
     ]
    },
    {
     "name": "stdout",
     "output_type": "stream",
     "text": [
      "epoch 0  | loss: 0.91676 | test_accuracy: 0.4992  |  0:00:03s\n",
      "epoch 1  | loss: 0.76379 | test_accuracy: 0.48482 |  0:00:06s\n",
      "epoch 2  | loss: 0.71751 | test_accuracy: 0.49654 |  0:00:09s\n",
      "epoch 3  | loss: 0.7273  | test_accuracy: 0.50506 |  0:00:12s\n",
      "epoch 4  | loss: 0.70826 | test_accuracy: 0.49494 |  0:00:15s\n",
      "epoch 5  | loss: 0.691   | test_accuracy: 0.49707 |  0:00:17s\n",
      "epoch 6  | loss: 0.69877 | test_accuracy: 0.48801 |  0:00:20s\n",
      "epoch 7  | loss: 0.69851 | test_accuracy: 0.4976  |  0:00:23s\n",
      "epoch 8  | loss: 0.6817  | test_accuracy: 0.48535 |  0:00:26s\n",
      "epoch 9  | loss: 0.68073 | test_accuracy: 0.47896 |  0:00:29s\n",
      "epoch 10 | loss: 0.71498 | test_accuracy: 0.48375 |  0:00:32s\n",
      "epoch 11 | loss: 0.67785 | test_accuracy: 0.48588 |  0:00:35s\n",
      "epoch 12 | loss: 0.67384 | test_accuracy: 0.48269 |  0:00:38s\n",
      "epoch 13 | loss: 0.66699 | test_accuracy: 0.48961 |  0:00:41s\n",
      "\n",
      "Early stopping occurred at epoch 13 with best_epoch = 3 and best_test_accuracy = 0.50506\n"
     ]
    },
    {
     "name": "stderr",
     "output_type": "stream",
     "text": [
      "/home/gonken/anaconda3/envs/torch/lib/python3.12/site-packages/pytorch_tabnet/callbacks.py:172: UserWarning: Best weights from best epoch are automatically used!\n",
      "  warnings.warn(wrn_msg)\n",
      "[I 2024-10-30 19:36:13,185] Trial 146 finished with value: 0.5050612679808204 and parameters: {'n_d': 24, 'n_a': 9, 'n_steps': 8, 'gamma': 1.558440643752289, 'lambda_sparse': 0.03230290455155944, 'learning_rate': 0.0024003294322559195}. Best is trial 4 with value: 0.5359616409163559.\n",
      "/home/gonken/anaconda3/envs/torch/lib/python3.12/site-packages/pytorch_tabnet/abstract_model.py:82: UserWarning: Device used : cuda\n",
      "  warnings.warn(f\"Device used : {self.device}\")\n"
     ]
    },
    {
     "name": "stdout",
     "output_type": "stream",
     "text": [
      "epoch 0  | loss: 1.01931 | test_accuracy: 0.50559 |  0:00:02s\n",
      "epoch 1  | loss: 0.84844 | test_accuracy: 0.48695 |  0:00:05s\n",
      "epoch 2  | loss: 0.76511 | test_accuracy: 0.48055 |  0:00:07s\n",
      "epoch 3  | loss: 0.70272 | test_accuracy: 0.48482 |  0:00:10s\n",
      "epoch 4  | loss: 0.68488 | test_accuracy: 0.49281 |  0:00:13s\n",
      "epoch 5  | loss: 0.67692 | test_accuracy: 0.50133 |  0:00:16s\n",
      "epoch 6  | loss: 0.66791 | test_accuracy: 0.51838 |  0:00:19s\n",
      "epoch 7  | loss: 0.65783 | test_accuracy: 0.50719 |  0:00:22s\n",
      "epoch 8  | loss: 0.66232 | test_accuracy: 0.49281 |  0:00:25s\n",
      "epoch 9  | loss: 0.65586 | test_accuracy: 0.49387 |  0:00:27s\n",
      "epoch 10 | loss: 0.65406 | test_accuracy: 0.50346 |  0:00:30s\n",
      "epoch 11 | loss: 0.65019 | test_accuracy: 0.49654 |  0:00:33s\n",
      "epoch 12 | loss: 0.65504 | test_accuracy: 0.51412 |  0:00:36s\n",
      "epoch 13 | loss: 0.65201 | test_accuracy: 0.49547 |  0:00:38s\n",
      "epoch 14 | loss: 0.65432 | test_accuracy: 0.49281 |  0:00:41s\n",
      "epoch 15 | loss: 0.64909 | test_accuracy: 0.48961 |  0:00:44s\n",
      "epoch 16 | loss: 0.6523  | test_accuracy: 0.50346 |  0:00:47s\n",
      "\n",
      "Early stopping occurred at epoch 16 with best_epoch = 6 and best_test_accuracy = 0.51838\n"
     ]
    },
    {
     "name": "stderr",
     "output_type": "stream",
     "text": [
      "/home/gonken/anaconda3/envs/torch/lib/python3.12/site-packages/pytorch_tabnet/callbacks.py:172: UserWarning: Best weights from best epoch are automatically used!\n",
      "  warnings.warn(wrn_msg)\n",
      "[I 2024-10-30 19:37:01,838] Trial 147 finished with value: 0.5183803942461375 and parameters: {'n_d': 41, 'n_a': 17, 'n_steps': 7, 'gamma': 1.6274051013404423, 'lambda_sparse': 0.05397726464751245, 'learning_rate': 0.006043987244063726}. Best is trial 4 with value: 0.5359616409163559.\n",
      "/home/gonken/anaconda3/envs/torch/lib/python3.12/site-packages/pytorch_tabnet/abstract_model.py:82: UserWarning: Device used : cuda\n",
      "  warnings.warn(f\"Device used : {self.device}\")\n"
     ]
    },
    {
     "name": "stdout",
     "output_type": "stream",
     "text": [
      "epoch 0  | loss: 0.83018 | test_accuracy: 0.504   |  0:00:01s\n",
      "epoch 1  | loss: 0.70064 | test_accuracy: 0.504   |  0:00:04s\n",
      "epoch 2  | loss: 0.68645 | test_accuracy: 0.49814 |  0:00:06s\n",
      "epoch 3  | loss: 0.67795 | test_accuracy: 0.49547 |  0:00:08s\n",
      "epoch 4  | loss: 0.66924 | test_accuracy: 0.49387 |  0:00:10s\n",
      "epoch 5  | loss: 0.66427 | test_accuracy: 0.5008  |  0:00:12s\n",
      "epoch 6  | loss: 0.65565 | test_accuracy: 0.51092 |  0:00:14s\n",
      "epoch 7  | loss: 0.65139 | test_accuracy: 0.49227 |  0:00:16s\n",
      "epoch 8  | loss: 0.64963 | test_accuracy: 0.51305 |  0:00:18s\n",
      "epoch 9  | loss: 0.64718 | test_accuracy: 0.50559 |  0:00:21s\n",
      "epoch 10 | loss: 0.64077 | test_accuracy: 0.50293 |  0:00:23s\n",
      "epoch 11 | loss: 0.63746 | test_accuracy: 0.51305 |  0:00:25s\n",
      "epoch 12 | loss: 0.63904 | test_accuracy: 0.51731 |  0:00:27s\n",
      "epoch 13 | loss: 0.64074 | test_accuracy: 0.51199 |  0:00:29s\n",
      "epoch 14 | loss: 0.6395  | test_accuracy: 0.50986 |  0:00:31s\n",
      "epoch 15 | loss: 0.63886 | test_accuracy: 0.49707 |  0:00:33s\n",
      "epoch 16 | loss: 0.6355  | test_accuracy: 0.48801 |  0:00:35s\n",
      "epoch 17 | loss: 0.63527 | test_accuracy: 0.50986 |  0:00:37s\n",
      "epoch 18 | loss: 0.63456 | test_accuracy: 0.49227 |  0:00:39s\n",
      "epoch 19 | loss: 0.62989 | test_accuracy: 0.50666 |  0:00:41s\n",
      "epoch 20 | loss: 0.63281 | test_accuracy: 0.51785 |  0:00:43s\n",
      "epoch 21 | loss: 0.63344 | test_accuracy: 0.50826 |  0:00:46s\n",
      "epoch 22 | loss: 0.63198 | test_accuracy: 0.50613 |  0:00:48s\n",
      "epoch 23 | loss: 0.62946 | test_accuracy: 0.50293 |  0:00:50s\n",
      "epoch 24 | loss: 0.62884 | test_accuracy: 0.49814 |  0:00:52s\n",
      "epoch 25 | loss: 0.62579 | test_accuracy: 0.48801 |  0:00:54s\n",
      "epoch 26 | loss: 0.62502 | test_accuracy: 0.49814 |  0:00:56s\n",
      "epoch 27 | loss: 0.62814 | test_accuracy: 0.49547 |  0:00:58s\n",
      "epoch 28 | loss: 0.62635 | test_accuracy: 0.49494 |  0:01:00s\n",
      "epoch 29 | loss: 0.62695 | test_accuracy: 0.4992  |  0:01:02s\n",
      "epoch 30 | loss: 0.62706 | test_accuracy: 0.49973 |  0:01:04s\n",
      "\n",
      "Early stopping occurred at epoch 30 with best_epoch = 20 and best_test_accuracy = 0.51785\n"
     ]
    },
    {
     "name": "stderr",
     "output_type": "stream",
     "text": [
      "/home/gonken/anaconda3/envs/torch/lib/python3.12/site-packages/pytorch_tabnet/callbacks.py:172: UserWarning: Best weights from best epoch are automatically used!\n",
      "  warnings.warn(wrn_msg)\n",
      "[I 2024-10-30 19:38:07,696] Trial 148 finished with value: 0.5178476291955247 and parameters: {'n_d': 27, 'n_a': 11, 'n_steps': 4, 'gamma': 1.534509379093921, 'lambda_sparse': 0.028788759909147088, 'learning_rate': 0.0044765504137662965}. Best is trial 4 with value: 0.5359616409163559.\n",
      "/home/gonken/anaconda3/envs/torch/lib/python3.12/site-packages/pytorch_tabnet/abstract_model.py:82: UserWarning: Device used : cuda\n",
      "  warnings.warn(f\"Device used : {self.device}\")\n"
     ]
    },
    {
     "name": "stdout",
     "output_type": "stream",
     "text": [
      "epoch 0  | loss: 2.11374 | test_accuracy: 0.50133 |  0:00:03s\n",
      "epoch 1  | loss: 1.11646 | test_accuracy: 0.496   |  0:00:06s\n",
      "epoch 2  | loss: 0.90576 | test_accuracy: 0.51039 |  0:00:08s\n",
      "epoch 3  | loss: 0.81858 | test_accuracy: 0.50559 |  0:00:11s\n",
      "epoch 4  | loss: 0.78752 | test_accuracy: 0.50346 |  0:00:14s\n",
      "epoch 5  | loss: 0.75882 | test_accuracy: 0.50133 |  0:00:17s\n",
      "epoch 6  | loss: 0.72855 | test_accuracy: 0.50932 |  0:00:20s\n",
      "epoch 7  | loss: 0.71719 | test_accuracy: 0.48908 |  0:00:24s\n",
      "epoch 8  | loss: 0.71724 | test_accuracy: 0.48908 |  0:00:26s\n",
      "epoch 9  | loss: 0.70873 | test_accuracy: 0.48961 |  0:00:30s\n",
      "epoch 10 | loss: 0.70685 | test_accuracy: 0.50506 |  0:00:33s\n",
      "epoch 11 | loss: 0.70984 | test_accuracy: 0.50879 |  0:00:35s\n",
      "epoch 12 | loss: 0.7011  | test_accuracy: 0.50613 |  0:00:39s\n",
      "\n",
      "Early stopping occurred at epoch 12 with best_epoch = 2 and best_test_accuracy = 0.51039\n"
     ]
    },
    {
     "name": "stderr",
     "output_type": "stream",
     "text": [
      "/home/gonken/anaconda3/envs/torch/lib/python3.12/site-packages/pytorch_tabnet/callbacks.py:172: UserWarning: Best weights from best epoch are automatically used!\n",
      "  warnings.warn(wrn_msg)\n",
      "[I 2024-10-30 19:38:48,233] Trial 149 finished with value: 0.5103889184869472 and parameters: {'n_d': 25, 'n_a': 44, 'n_steps': 8, 'gamma': 1.6075439816333588, 'lambda_sparse': 0.056047600673571354, 'learning_rate': 0.0006738910473430029}. Best is trial 4 with value: 0.5359616409163559.\n",
      "/home/gonken/anaconda3/envs/torch/lib/python3.12/site-packages/pytorch_tabnet/abstract_model.py:82: UserWarning: Device used : cuda\n",
      "  warnings.warn(f\"Device used : {self.device}\")\n"
     ]
    },
    {
     "name": "stdout",
     "output_type": "stream",
     "text": [
      "epoch 0  | loss: 0.87429 | test_accuracy: 0.49068 |  0:00:02s\n",
      "epoch 1  | loss: 0.75466 | test_accuracy: 0.49547 |  0:00:05s\n",
      "epoch 2  | loss: 0.72509 | test_accuracy: 0.51092 |  0:00:08s\n",
      "epoch 3  | loss: 0.70195 | test_accuracy: 0.50453 |  0:00:10s\n",
      "epoch 4  | loss: 0.70508 | test_accuracy: 0.48961 |  0:00:13s\n",
      "epoch 5  | loss: 0.68673 | test_accuracy: 0.50186 |  0:00:16s\n",
      "epoch 6  | loss: 0.69343 | test_accuracy: 0.49814 |  0:00:18s\n",
      "epoch 7  | loss: 0.6778  | test_accuracy: 0.50986 |  0:00:21s\n",
      "epoch 8  | loss: 0.67108 | test_accuracy: 0.49494 |  0:00:24s\n",
      "epoch 9  | loss: 0.66858 | test_accuracy: 0.50027 |  0:00:26s\n",
      "epoch 10 | loss: 0.65307 | test_accuracy: 0.51518 |  0:00:29s\n",
      "epoch 11 | loss: 0.6577  | test_accuracy: 0.49334 |  0:00:31s\n",
      "epoch 12 | loss: 0.65772 | test_accuracy: 0.49867 |  0:00:34s\n",
      "epoch 13 | loss: 0.65277 | test_accuracy: 0.49814 |  0:00:36s\n",
      "epoch 14 | loss: 0.65129 | test_accuracy: 0.51518 |  0:00:39s\n",
      "epoch 15 | loss: 0.65532 | test_accuracy: 0.49494 |  0:00:42s\n",
      "epoch 16 | loss: 0.65249 | test_accuracy: 0.504   |  0:00:44s\n",
      "epoch 17 | loss: 0.65023 | test_accuracy: 0.49014 |  0:00:47s\n",
      "epoch 18 | loss: 0.6494  | test_accuracy: 0.49387 |  0:00:50s\n",
      "epoch 19 | loss: 0.6533  | test_accuracy: 0.49814 |  0:00:52s\n",
      "epoch 20 | loss: 0.64582 | test_accuracy: 0.496   |  0:00:55s\n",
      "\n",
      "Early stopping occurred at epoch 20 with best_epoch = 10 and best_test_accuracy = 0.51518\n"
     ]
    },
    {
     "name": "stderr",
     "output_type": "stream",
     "text": [
      "/home/gonken/anaconda3/envs/torch/lib/python3.12/site-packages/pytorch_tabnet/callbacks.py:172: UserWarning: Best weights from best epoch are automatically used!\n",
      "  warnings.warn(wrn_msg)\n",
      "[I 2024-10-30 19:39:44,570] Trial 150 finished with value: 0.5151838039424613 and parameters: {'n_d': 33, 'n_a': 13, 'n_steps': 7, 'gamma': 1.5044082427050756, 'lambda_sparse': 0.018080675447849495, 'learning_rate': 0.0032357297158375114}. Best is trial 4 with value: 0.5359616409163559.\n",
      "/home/gonken/anaconda3/envs/torch/lib/python3.12/site-packages/pytorch_tabnet/abstract_model.py:82: UserWarning: Device used : cuda\n",
      "  warnings.warn(f\"Device used : {self.device}\")\n"
     ]
    },
    {
     "name": "stdout",
     "output_type": "stream",
     "text": [
      "epoch 0  | loss: 0.96417 | test_accuracy: 0.50719 |  0:00:02s\n",
      "epoch 1  | loss: 0.79032 | test_accuracy: 0.50826 |  0:00:05s\n",
      "epoch 2  | loss: 0.74157 | test_accuracy: 0.49281 |  0:00:09s\n",
      "epoch 3  | loss: 0.71459 | test_accuracy: 0.50932 |  0:00:12s\n",
      "epoch 4  | loss: 0.69087 | test_accuracy: 0.51039 |  0:00:15s\n",
      "epoch 5  | loss: 0.6794  | test_accuracy: 0.5024  |  0:00:17s\n",
      "epoch 6  | loss: 0.67585 | test_accuracy: 0.50133 |  0:00:20s\n",
      "epoch 7  | loss: 0.67424 | test_accuracy: 0.48908 |  0:00:23s\n",
      "epoch 8  | loss: 0.67665 | test_accuracy: 0.49441 |  0:00:26s\n",
      "epoch 9  | loss: 0.66386 | test_accuracy: 0.49494 |  0:00:29s\n",
      "epoch 10 | loss: 0.65898 | test_accuracy: 0.51305 |  0:00:32s\n",
      "epoch 11 | loss: 0.65911 | test_accuracy: 0.51252 |  0:00:35s\n",
      "epoch 12 | loss: 0.66342 | test_accuracy: 0.52158 |  0:00:38s\n",
      "epoch 13 | loss: 0.65365 | test_accuracy: 0.50453 |  0:00:41s\n",
      "epoch 14 | loss: 0.66025 | test_accuracy: 0.49387 |  0:00:44s\n",
      "epoch 15 | loss: 0.65394 | test_accuracy: 0.49387 |  0:00:47s\n",
      "epoch 16 | loss: 0.65096 | test_accuracy: 0.51731 |  0:00:50s\n",
      "epoch 17 | loss: 0.654   | test_accuracy: 0.48961 |  0:00:53s\n",
      "epoch 18 | loss: 0.65631 | test_accuracy: 0.50453 |  0:00:56s\n",
      "epoch 19 | loss: 0.65459 | test_accuracy: 0.50186 |  0:00:59s\n",
      "epoch 20 | loss: 0.65725 | test_accuracy: 0.50879 |  0:01:02s\n",
      "epoch 21 | loss: 0.65116 | test_accuracy: 0.50133 |  0:01:05s\n",
      "epoch 22 | loss: 0.65494 | test_accuracy: 0.51572 |  0:01:09s\n",
      "\n",
      "Early stopping occurred at epoch 22 with best_epoch = 12 and best_test_accuracy = 0.52158\n"
     ]
    },
    {
     "name": "stderr",
     "output_type": "stream",
     "text": [
      "/home/gonken/anaconda3/envs/torch/lib/python3.12/site-packages/pytorch_tabnet/callbacks.py:172: UserWarning: Best weights from best epoch are automatically used!\n",
      "  warnings.warn(wrn_msg)\n",
      "[I 2024-10-30 19:40:55,102] Trial 151 finished with value: 0.5215769845498135 and parameters: {'n_d': 35, 'n_a': 58, 'n_steps': 8, 'gamma': 1.070698353305652, 'lambda_sparse': 0.04673880900154807, 'learning_rate': 0.004264876614186489}. Best is trial 4 with value: 0.5359616409163559.\n",
      "/home/gonken/anaconda3/envs/torch/lib/python3.12/site-packages/pytorch_tabnet/abstract_model.py:82: UserWarning: Device used : cuda\n",
      "  warnings.warn(f\"Device used : {self.device}\")\n"
     ]
    },
    {
     "name": "stdout",
     "output_type": "stream",
     "text": [
      "epoch 0  | loss: 2.09677 | test_accuracy: 0.49227 |  0:00:02s\n",
      "epoch 1  | loss: 0.9275  | test_accuracy: 0.50773 |  0:00:06s\n",
      "epoch 2  | loss: 0.83279 | test_accuracy: 0.50932 |  0:00:09s\n",
      "epoch 3  | loss: 0.78864 | test_accuracy: 0.48961 |  0:00:12s\n",
      "epoch 4  | loss: 0.77759 | test_accuracy: 0.48855 |  0:00:15s\n",
      "epoch 5  | loss: 0.76718 | test_accuracy: 0.48641 |  0:00:18s\n",
      "epoch 6  | loss: 0.7449  | test_accuracy: 0.49441 |  0:00:21s\n",
      "epoch 7  | loss: 0.73667 | test_accuracy: 0.5008  |  0:00:23s\n",
      "epoch 8  | loss: 0.73332 | test_accuracy: 0.51039 |  0:00:26s\n",
      "epoch 9  | loss: 0.71907 | test_accuracy: 0.48908 |  0:00:30s\n",
      "epoch 10 | loss: 0.72366 | test_accuracy: 0.52211 |  0:00:33s\n",
      "epoch 11 | loss: 0.72231 | test_accuracy: 0.49334 |  0:00:36s\n",
      "epoch 12 | loss: 0.71121 | test_accuracy: 0.49547 |  0:00:39s\n",
      "epoch 13 | loss: 0.71677 | test_accuracy: 0.49814 |  0:00:41s\n",
      "epoch 14 | loss: 0.70897 | test_accuracy: 0.48269 |  0:00:44s\n",
      "epoch 15 | loss: 0.71072 | test_accuracy: 0.49441 |  0:00:47s\n",
      "epoch 16 | loss: 0.70832 | test_accuracy: 0.51518 |  0:00:51s\n",
      "epoch 17 | loss: 0.69604 | test_accuracy: 0.50346 |  0:00:54s\n",
      "epoch 18 | loss: 0.70477 | test_accuracy: 0.51678 |  0:00:57s\n",
      "epoch 19 | loss: 0.70669 | test_accuracy: 0.51891 |  0:01:00s\n",
      "epoch 20 | loss: 0.70246 | test_accuracy: 0.50613 |  0:01:03s\n",
      "\n",
      "Early stopping occurred at epoch 20 with best_epoch = 10 and best_test_accuracy = 0.52211\n"
     ]
    },
    {
     "name": "stderr",
     "output_type": "stream",
     "text": [
      "/home/gonken/anaconda3/envs/torch/lib/python3.12/site-packages/pytorch_tabnet/callbacks.py:172: UserWarning: Best weights from best epoch are automatically used!\n",
      "  warnings.warn(wrn_msg)\n",
      "[I 2024-10-30 19:41:59,772] Trial 152 finished with value: 0.5221097496004262 and parameters: {'n_d': 36, 'n_a': 15, 'n_steps': 8, 'gamma': 1.1282244416265745, 'lambda_sparse': 0.08833006698300083, 'learning_rate': 0.001470081104385513}. Best is trial 4 with value: 0.5359616409163559.\n",
      "/home/gonken/anaconda3/envs/torch/lib/python3.12/site-packages/pytorch_tabnet/abstract_model.py:82: UserWarning: Device used : cuda\n",
      "  warnings.warn(f\"Device used : {self.device}\")\n"
     ]
    },
    {
     "name": "stdout",
     "output_type": "stream",
     "text": [
      "epoch 0  | loss: 1.02267 | test_accuracy: 0.50506 |  0:00:03s\n",
      "epoch 1  | loss: 0.79973 | test_accuracy: 0.47949 |  0:00:06s\n",
      "epoch 2  | loss: 0.74487 | test_accuracy: 0.49867 |  0:00:09s\n",
      "epoch 3  | loss: 0.72089 | test_accuracy: 0.49014 |  0:00:12s\n",
      "epoch 4  | loss: 0.68728 | test_accuracy: 0.50186 |  0:00:14s\n",
      "epoch 5  | loss: 0.67729 | test_accuracy: 0.50932 |  0:00:17s\n",
      "epoch 6  | loss: 0.6776  | test_accuracy: 0.49334 |  0:00:21s\n",
      "epoch 7  | loss: 0.6671  | test_accuracy: 0.50186 |  0:00:24s\n",
      "epoch 8  | loss: 0.66758 | test_accuracy: 0.50293 |  0:00:27s\n",
      "epoch 9  | loss: 0.66393 | test_accuracy: 0.48695 |  0:00:29s\n",
      "epoch 10 | loss: 0.66011 | test_accuracy: 0.50506 |  0:00:33s\n",
      "epoch 11 | loss: 0.65639 | test_accuracy: 0.50613 |  0:00:35s\n",
      "epoch 12 | loss: 0.65953 | test_accuracy: 0.5008  |  0:00:38s\n",
      "epoch 13 | loss: 0.65942 | test_accuracy: 0.5008  |  0:00:41s\n",
      "epoch 14 | loss: 0.65525 | test_accuracy: 0.50453 |  0:00:44s\n",
      "epoch 15 | loss: 0.65481 | test_accuracy: 0.50826 |  0:00:47s\n",
      "\n",
      "Early stopping occurred at epoch 15 with best_epoch = 5 and best_test_accuracy = 0.50932\n"
     ]
    },
    {
     "name": "stderr",
     "output_type": "stream",
     "text": [
      "/home/gonken/anaconda3/envs/torch/lib/python3.12/site-packages/pytorch_tabnet/callbacks.py:172: UserWarning: Best weights from best epoch are automatically used!\n",
      "  warnings.warn(wrn_msg)\n",
      "[I 2024-10-30 19:42:48,849] Trial 153 finished with value: 0.5093233883857219 and parameters: {'n_d': 37, 'n_a': 18, 'n_steps': 8, 'gamma': 1.3085930669582513, 'lambda_sparse': 0.034496803876459745, 'learning_rate': 0.006946867846241735}. Best is trial 4 with value: 0.5359616409163559.\n",
      "/home/gonken/anaconda3/envs/torch/lib/python3.12/site-packages/pytorch_tabnet/abstract_model.py:82: UserWarning: Device used : cuda\n",
      "  warnings.warn(f\"Device used : {self.device}\")\n"
     ]
    },
    {
     "name": "stdout",
     "output_type": "stream",
     "text": [
      "epoch 0  | loss: 1.51301 | test_accuracy: 0.50027 |  0:00:03s\n",
      "epoch 1  | loss: 0.89968 | test_accuracy: 0.49174 |  0:00:06s\n",
      "epoch 2  | loss: 0.80314 | test_accuracy: 0.49707 |  0:00:09s\n",
      "epoch 3  | loss: 0.76771 | test_accuracy: 0.50879 |  0:00:12s\n",
      "epoch 4  | loss: 0.74368 | test_accuracy: 0.49973 |  0:00:15s\n",
      "epoch 5  | loss: 0.71423 | test_accuracy: 0.50773 |  0:00:18s\n",
      "epoch 6  | loss: 0.70117 | test_accuracy: 0.50719 |  0:00:21s\n",
      "epoch 7  | loss: 0.69252 | test_accuracy: 0.49867 |  0:00:24s\n",
      "epoch 8  | loss: 0.68319 | test_accuracy: 0.49121 |  0:00:27s\n",
      "epoch 9  | loss: 0.67711 | test_accuracy: 0.49814 |  0:00:30s\n",
      "epoch 10 | loss: 0.67479 | test_accuracy: 0.50186 |  0:00:33s\n",
      "epoch 11 | loss: 0.67073 | test_accuracy: 0.5024  |  0:00:36s\n",
      "epoch 12 | loss: 0.66596 | test_accuracy: 0.51412 |  0:00:39s\n",
      "epoch 13 | loss: 0.66786 | test_accuracy: 0.50027 |  0:00:42s\n",
      "epoch 14 | loss: 0.66603 | test_accuracy: 0.504   |  0:00:45s\n",
      "epoch 15 | loss: 0.65917 | test_accuracy: 0.50613 |  0:00:48s\n",
      "epoch 16 | loss: 0.66369 | test_accuracy: 0.50719 |  0:00:50s\n",
      "epoch 17 | loss: 0.66477 | test_accuracy: 0.51785 |  0:00:54s\n",
      "epoch 18 | loss: 0.65832 | test_accuracy: 0.50293 |  0:00:57s\n",
      "epoch 19 | loss: 0.66443 | test_accuracy: 0.49654 |  0:00:59s\n",
      "epoch 20 | loss: 0.66201 | test_accuracy: 0.48695 |  0:01:02s\n",
      "epoch 21 | loss: 0.66142 | test_accuracy: 0.49494 |  0:01:05s\n",
      "epoch 22 | loss: 0.65988 | test_accuracy: 0.50027 |  0:01:08s\n",
      "epoch 23 | loss: 0.65635 | test_accuracy: 0.5024  |  0:01:11s\n",
      "epoch 24 | loss: 0.65415 | test_accuracy: 0.50027 |  0:01:15s\n",
      "epoch 25 | loss: 0.64949 | test_accuracy: 0.50986 |  0:01:18s\n",
      "epoch 26 | loss: 0.64786 | test_accuracy: 0.48855 |  0:01:20s\n",
      "epoch 27 | loss: 0.64618 | test_accuracy: 0.49334 |  0:01:24s\n",
      "\n",
      "Early stopping occurred at epoch 27 with best_epoch = 17 and best_test_accuracy = 0.51785\n"
     ]
    },
    {
     "name": "stderr",
     "output_type": "stream",
     "text": [
      "/home/gonken/anaconda3/envs/torch/lib/python3.12/site-packages/pytorch_tabnet/callbacks.py:172: UserWarning: Best weights from best epoch are automatically used!\n",
      "  warnings.warn(wrn_msg)\n",
      "[I 2024-10-30 19:44:14,400] Trial 154 finished with value: 0.5178476291955247 and parameters: {'n_d': 50, 'n_a': 19, 'n_steps': 8, 'gamma': 1.1104836854004614, 'lambda_sparse': 0.038354174939369906, 'learning_rate': 0.005539748200688629}. Best is trial 4 with value: 0.5359616409163559.\n",
      "/home/gonken/anaconda3/envs/torch/lib/python3.12/site-packages/pytorch_tabnet/abstract_model.py:82: UserWarning: Device used : cuda\n",
      "  warnings.warn(f\"Device used : {self.device}\")\n"
     ]
    },
    {
     "name": "stdout",
     "output_type": "stream",
     "text": [
      "epoch 0  | loss: 0.95966 | test_accuracy: 0.504   |  0:00:02s\n",
      "epoch 1  | loss: 0.67786 | test_accuracy: 0.4992  |  0:00:05s\n",
      "epoch 2  | loss: 0.6735  | test_accuracy: 0.49174 |  0:00:08s\n",
      "epoch 3  | loss: 0.66652 | test_accuracy: 0.49814 |  0:00:11s\n",
      "epoch 4  | loss: 0.65982 | test_accuracy: 0.51252 |  0:00:14s\n",
      "epoch 5  | loss: 0.66178 | test_accuracy: 0.50186 |  0:00:17s\n",
      "epoch 6  | loss: 0.66031 | test_accuracy: 0.50027 |  0:00:20s\n",
      "epoch 7  | loss: 0.66214 | test_accuracy: 0.50027 |  0:00:23s\n",
      "epoch 8  | loss: 0.65919 | test_accuracy: 0.49973 |  0:00:25s\n",
      "epoch 9  | loss: 0.65874 | test_accuracy: 0.50133 |  0:00:28s\n",
      "epoch 10 | loss: 0.65742 | test_accuracy: 0.50133 |  0:00:31s\n",
      "epoch 11 | loss: 0.65866 | test_accuracy: 0.50613 |  0:00:34s\n",
      "epoch 12 | loss: 0.66391 | test_accuracy: 0.49973 |  0:00:36s\n",
      "epoch 13 | loss: 0.66265 | test_accuracy: 0.49973 |  0:00:39s\n",
      "epoch 14 | loss: 0.66051 | test_accuracy: 0.50932 |  0:00:42s\n",
      "\n",
      "Early stopping occurred at epoch 14 with best_epoch = 4 and best_test_accuracy = 0.51252\n"
     ]
    },
    {
     "name": "stderr",
     "output_type": "stream",
     "text": [
      "/home/gonken/anaconda3/envs/torch/lib/python3.12/site-packages/pytorch_tabnet/callbacks.py:172: UserWarning: Best weights from best epoch are automatically used!\n",
      "  warnings.warn(wrn_msg)\n",
      "[I 2024-10-30 19:44:57,874] Trial 155 finished with value: 0.512519978689398 and parameters: {'n_d': 31, 'n_a': 17, 'n_steps': 7, 'gamma': 1.0241862784597415, 'lambda_sparse': 0.04139866031643828, 'learning_rate': 0.05854148599186515}. Best is trial 4 with value: 0.5359616409163559.\n",
      "/home/gonken/anaconda3/envs/torch/lib/python3.12/site-packages/pytorch_tabnet/abstract_model.py:82: UserWarning: Device used : cuda\n",
      "  warnings.warn(f\"Device used : {self.device}\")\n"
     ]
    },
    {
     "name": "stdout",
     "output_type": "stream",
     "text": [
      "epoch 0  | loss: 1.10837 | test_accuracy: 0.4992  |  0:00:02s\n",
      "epoch 1  | loss: 0.82554 | test_accuracy: 0.50506 |  0:00:06s\n",
      "epoch 2  | loss: 0.77439 | test_accuracy: 0.49494 |  0:00:08s\n",
      "epoch 3  | loss: 0.77201 | test_accuracy: 0.49814 |  0:00:11s\n",
      "epoch 4  | loss: 0.74546 | test_accuracy: 0.49334 |  0:00:14s\n",
      "epoch 5  | loss: 0.74557 | test_accuracy: 0.496   |  0:00:17s\n",
      "epoch 6  | loss: 0.73605 | test_accuracy: 0.49121 |  0:00:20s\n",
      "epoch 7  | loss: 0.72595 | test_accuracy: 0.49281 |  0:00:23s\n",
      "epoch 8  | loss: 0.71954 | test_accuracy: 0.48322 |  0:00:26s\n",
      "epoch 9  | loss: 0.71608 | test_accuracy: 0.504   |  0:00:29s\n",
      "epoch 10 | loss: 0.7093  | test_accuracy: 0.51039 |  0:00:32s\n",
      "epoch 11 | loss: 0.71058 | test_accuracy: 0.49814 |  0:00:35s\n",
      "epoch 12 | loss: 0.70425 | test_accuracy: 0.49973 |  0:00:38s\n",
      "epoch 13 | loss: 0.70106 | test_accuracy: 0.46777 |  0:00:41s\n",
      "epoch 14 | loss: 0.69304 | test_accuracy: 0.49227 |  0:00:44s\n",
      "epoch 15 | loss: 0.69158 | test_accuracy: 0.47949 |  0:00:47s\n",
      "epoch 16 | loss: 0.68923 | test_accuracy: 0.49121 |  0:00:50s\n",
      "epoch 17 | loss: 0.68055 | test_accuracy: 0.496   |  0:00:53s\n",
      "epoch 18 | loss: 0.6908  | test_accuracy: 0.48588 |  0:00:56s\n",
      "epoch 19 | loss: 0.69272 | test_accuracy: 0.50559 |  0:00:59s\n",
      "epoch 20 | loss: 0.69123 | test_accuracy: 0.49547 |  0:01:02s\n",
      "\n",
      "Early stopping occurred at epoch 20 with best_epoch = 10 and best_test_accuracy = 0.51039\n"
     ]
    },
    {
     "name": "stderr",
     "output_type": "stream",
     "text": [
      "/home/gonken/anaconda3/envs/torch/lib/python3.12/site-packages/pytorch_tabnet/callbacks.py:172: UserWarning: Best weights from best epoch are automatically used!\n",
      "  warnings.warn(wrn_msg)\n",
      "[I 2024-10-30 19:46:01,821] Trial 156 finished with value: 0.5103889184869472 and parameters: {'n_d': 34, 'n_a': 12, 'n_steps': 8, 'gamma': 1.5655055331579433, 'lambda_sparse': 0.051886591646294056, 'learning_rate': 0.0019160672139526605}. Best is trial 4 with value: 0.5359616409163559.\n",
      "/home/gonken/anaconda3/envs/torch/lib/python3.12/site-packages/pytorch_tabnet/abstract_model.py:82: UserWarning: Device used : cuda\n",
      "  warnings.warn(f\"Device used : {self.device}\")\n"
     ]
    },
    {
     "name": "stdout",
     "output_type": "stream",
     "text": [
      "epoch 0  | loss: 0.93183 | test_accuracy: 0.50506 |  0:00:02s\n",
      "epoch 1  | loss: 0.78001 | test_accuracy: 0.51572 |  0:00:04s\n",
      "epoch 2  | loss: 0.75356 | test_accuracy: 0.52051 |  0:00:07s\n",
      "epoch 3  | loss: 0.73607 | test_accuracy: 0.50453 |  0:00:10s\n",
      "epoch 4  | loss: 0.72275 | test_accuracy: 0.51199 |  0:00:12s\n",
      "epoch 5  | loss: 0.71924 | test_accuracy: 0.49707 |  0:00:15s\n",
      "epoch 6  | loss: 0.70827 | test_accuracy: 0.50506 |  0:00:18s\n",
      "epoch 7  | loss: 0.70675 | test_accuracy: 0.50986 |  0:00:20s\n",
      "epoch 8  | loss: 0.70165 | test_accuracy: 0.49014 |  0:00:22s\n",
      "epoch 9  | loss: 0.69603 | test_accuracy: 0.48695 |  0:00:25s\n",
      "epoch 10 | loss: 0.69934 | test_accuracy: 0.4976  |  0:00:27s\n",
      "epoch 11 | loss: 0.69506 | test_accuracy: 0.50346 |  0:00:30s\n",
      "epoch 12 | loss: 0.68642 | test_accuracy: 0.50453 |  0:00:32s\n",
      "\n",
      "Early stopping occurred at epoch 12 with best_epoch = 2 and best_test_accuracy = 0.52051\n"
     ]
    },
    {
     "name": "stderr",
     "output_type": "stream",
     "text": [
      "/home/gonken/anaconda3/envs/torch/lib/python3.12/site-packages/pytorch_tabnet/callbacks.py:172: UserWarning: Best weights from best epoch are automatically used!\n",
      "  warnings.warn(wrn_msg)\n",
      "[I 2024-10-30 19:46:35,427] Trial 157 finished with value: 0.5205114544485882 and parameters: {'n_d': 29, 'n_a': 14, 'n_steps': 6, 'gamma': 1.2009678559691945, 'lambda_sparse': 0.04969109157967272, 'learning_rate': 0.0010056742753472101}. Best is trial 4 with value: 0.5359616409163559.\n",
      "/home/gonken/anaconda3/envs/torch/lib/python3.12/site-packages/pytorch_tabnet/abstract_model.py:82: UserWarning: Device used : cuda\n",
      "  warnings.warn(f\"Device used : {self.device}\")\n"
     ]
    },
    {
     "name": "stdout",
     "output_type": "stream",
     "text": [
      "epoch 0  | loss: 0.93484 | test_accuracy: 0.47842 |  0:00:02s\n",
      "epoch 1  | loss: 0.77042 | test_accuracy: 0.52637 |  0:00:05s\n",
      "epoch 2  | loss: 0.73534 | test_accuracy: 0.47949 |  0:00:08s\n",
      "epoch 3  | loss: 0.71682 | test_accuracy: 0.49227 |  0:00:11s\n",
      "epoch 4  | loss: 0.69627 | test_accuracy: 0.47789 |  0:00:14s\n",
      "epoch 5  | loss: 0.68198 | test_accuracy: 0.48855 |  0:00:17s\n",
      "epoch 6  | loss: 0.67663 | test_accuracy: 0.49281 |  0:00:20s\n",
      "epoch 7  | loss: 0.66709 | test_accuracy: 0.49973 |  0:00:22s\n",
      "epoch 8  | loss: 0.66534 | test_accuracy: 0.50613 |  0:00:25s\n",
      "epoch 9  | loss: 0.6601  | test_accuracy: 0.4976  |  0:00:27s\n",
      "epoch 10 | loss: 0.66133 | test_accuracy: 0.49867 |  0:00:30s\n",
      "epoch 11 | loss: 0.65963 | test_accuracy: 0.49281 |  0:00:33s\n",
      "\n",
      "Early stopping occurred at epoch 11 with best_epoch = 1 and best_test_accuracy = 0.52637\n"
     ]
    },
    {
     "name": "stderr",
     "output_type": "stream",
     "text": [
      "/home/gonken/anaconda3/envs/torch/lib/python3.12/site-packages/pytorch_tabnet/callbacks.py:172: UserWarning: Best weights from best epoch are automatically used!\n",
      "  warnings.warn(wrn_msg)\n",
      "[I 2024-10-30 19:47:10,190] Trial 158 finished with value: 0.5263718700053277 and parameters: {'n_d': 28, 'n_a': 54, 'n_steps': 7, 'gamma': 1.6380650955169356, 'lambda_sparse': 0.045781153612305704, 'learning_rate': 0.0031945316375353834}. Best is trial 4 with value: 0.5359616409163559.\n",
      "/home/gonken/anaconda3/envs/torch/lib/python3.12/site-packages/pytorch_tabnet/abstract_model.py:82: UserWarning: Device used : cuda\n",
      "  warnings.warn(f\"Device used : {self.device}\")\n"
     ]
    },
    {
     "name": "stdout",
     "output_type": "stream",
     "text": [
      "epoch 0  | loss: 0.79529 | test_accuracy: 0.50986 |  0:00:02s\n",
      "epoch 1  | loss: 0.71307 | test_accuracy: 0.49867 |  0:00:04s\n",
      "epoch 2  | loss: 0.69622 | test_accuracy: 0.49281 |  0:00:06s\n",
      "epoch 3  | loss: 0.68238 | test_accuracy: 0.4976  |  0:00:09s\n",
      "epoch 4  | loss: 0.68701 | test_accuracy: 0.49867 |  0:00:11s\n",
      "epoch 5  | loss: 0.67897 | test_accuracy: 0.49441 |  0:00:13s\n",
      "epoch 6  | loss: 0.67008 | test_accuracy: 0.50773 |  0:00:15s\n",
      "epoch 7  | loss: 0.67024 | test_accuracy: 0.49494 |  0:00:17s\n",
      "epoch 8  | loss: 0.66669 | test_accuracy: 0.49867 |  0:00:20s\n",
      "epoch 9  | loss: 0.66549 | test_accuracy: 0.49441 |  0:00:22s\n",
      "epoch 10 | loss: 0.66148 | test_accuracy: 0.50932 |  0:00:24s\n",
      "\n",
      "Early stopping occurred at epoch 10 with best_epoch = 0 and best_test_accuracy = 0.50986\n"
     ]
    },
    {
     "name": "stderr",
     "output_type": "stream",
     "text": [
      "/home/gonken/anaconda3/envs/torch/lib/python3.12/site-packages/pytorch_tabnet/callbacks.py:172: UserWarning: Best weights from best epoch are automatically used!\n",
      "  warnings.warn(wrn_msg)\n",
      "[I 2024-10-30 19:47:35,693] Trial 159 finished with value: 0.5098561534363346 and parameters: {'n_d': 26, 'n_a': 16, 'n_steps': 5, 'gamma': 1.5946612464892416, 'lambda_sparse': 0.030973933827881012, 'learning_rate': 0.0024520387382741633}. Best is trial 4 with value: 0.5359616409163559.\n",
      "/home/gonken/anaconda3/envs/torch/lib/python3.12/site-packages/pytorch_tabnet/abstract_model.py:82: UserWarning: Device used : cuda\n",
      "  warnings.warn(f\"Device used : {self.device}\")\n"
     ]
    },
    {
     "name": "stdout",
     "output_type": "stream",
     "text": [
      "epoch 0  | loss: 1.12435 | test_accuracy: 0.50506 |  0:00:03s\n",
      "epoch 1  | loss: 0.77461 | test_accuracy: 0.51625 |  0:00:06s\n",
      "epoch 2  | loss: 0.70825 | test_accuracy: 0.49814 |  0:00:09s\n",
      "epoch 3  | loss: 0.69795 | test_accuracy: 0.48375 |  0:00:12s\n",
      "epoch 4  | loss: 0.68981 | test_accuracy: 0.51039 |  0:00:16s\n",
      "epoch 5  | loss: 0.6747  | test_accuracy: 0.50506 |  0:00:20s\n",
      "epoch 6  | loss: 0.67163 | test_accuracy: 0.49014 |  0:00:23s\n",
      "epoch 7  | loss: 0.67231 | test_accuracy: 0.49334 |  0:00:26s\n",
      "epoch 8  | loss: 0.67277 | test_accuracy: 0.49654 |  0:00:29s\n",
      "epoch 9  | loss: 0.67232 | test_accuracy: 0.5024  |  0:00:32s\n",
      "epoch 10 | loss: 0.67018 | test_accuracy: 0.51305 |  0:00:35s\n",
      "epoch 11 | loss: 0.66679 | test_accuracy: 0.504   |  0:00:38s\n",
      "\n",
      "Early stopping occurred at epoch 11 with best_epoch = 1 and best_test_accuracy = 0.51625\n"
     ]
    },
    {
     "name": "stderr",
     "output_type": "stream",
     "text": [
      "/home/gonken/anaconda3/envs/torch/lib/python3.12/site-packages/pytorch_tabnet/callbacks.py:172: UserWarning: Best weights from best epoch are automatically used!\n",
      "  warnings.warn(wrn_msg)\n",
      "[I 2024-10-30 19:48:16,009] Trial 160 finished with value: 0.5162493340436868 and parameters: {'n_d': 44, 'n_a': 56, 'n_steps': 9, 'gamma': 1.146324900903007, 'lambda_sparse': 0.08068338326455392, 'learning_rate': 0.013745015930464064}. Best is trial 4 with value: 0.5359616409163559.\n",
      "/home/gonken/anaconda3/envs/torch/lib/python3.12/site-packages/pytorch_tabnet/abstract_model.py:82: UserWarning: Device used : cuda\n",
      "  warnings.warn(f\"Device used : {self.device}\")\n"
     ]
    },
    {
     "name": "stdout",
     "output_type": "stream",
     "text": [
      "epoch 0  | loss: 1.00771 | test_accuracy: 0.49334 |  0:00:02s\n",
      "epoch 1  | loss: 0.81113 | test_accuracy: 0.51412 |  0:00:05s\n",
      "epoch 2  | loss: 0.75999 | test_accuracy: 0.49441 |  0:00:07s\n",
      "epoch 3  | loss: 0.74384 | test_accuracy: 0.48695 |  0:00:10s\n",
      "epoch 4  | loss: 0.71026 | test_accuracy: 0.48535 |  0:00:13s\n",
      "epoch 5  | loss: 0.70446 | test_accuracy: 0.49707 |  0:00:16s\n",
      "epoch 6  | loss: 0.68749 | test_accuracy: 0.50453 |  0:00:19s\n",
      "epoch 7  | loss: 0.68114 | test_accuracy: 0.49494 |  0:00:22s\n",
      "epoch 8  | loss: 0.6757  | test_accuracy: 0.4731  |  0:00:25s\n",
      "epoch 9  | loss: 0.66638 | test_accuracy: 0.51359 |  0:00:28s\n",
      "epoch 10 | loss: 0.66148 | test_accuracy: 0.49227 |  0:00:30s\n",
      "epoch 11 | loss: 0.66076 | test_accuracy: 0.51305 |  0:00:33s\n",
      "\n",
      "Early stopping occurred at epoch 11 with best_epoch = 1 and best_test_accuracy = 0.51412\n"
     ]
    },
    {
     "name": "stderr",
     "output_type": "stream",
     "text": [
      "/home/gonken/anaconda3/envs/torch/lib/python3.12/site-packages/pytorch_tabnet/callbacks.py:172: UserWarning: Best weights from best epoch are automatically used!\n",
      "  warnings.warn(wrn_msg)\n",
      "[I 2024-10-30 19:48:51,062] Trial 161 finished with value: 0.514118273841236 and parameters: {'n_d': 28, 'n_a': 51, 'n_steps': 7, 'gamma': 1.653401035566111, 'lambda_sparse': 0.045695591247453454, 'learning_rate': 0.0029705990391000674}. Best is trial 4 with value: 0.5359616409163559.\n",
      "/home/gonken/anaconda3/envs/torch/lib/python3.12/site-packages/pytorch_tabnet/abstract_model.py:82: UserWarning: Device used : cuda\n",
      "  warnings.warn(f\"Device used : {self.device}\")\n"
     ]
    },
    {
     "name": "stdout",
     "output_type": "stream",
     "text": [
      "epoch 0  | loss: 1.23973 | test_accuracy: 0.49281 |  0:00:02s\n",
      "epoch 1  | loss: 0.82015 | test_accuracy: 0.50293 |  0:00:05s\n",
      "epoch 2  | loss: 0.75457 | test_accuracy: 0.50506 |  0:00:07s\n",
      "epoch 3  | loss: 0.71855 | test_accuracy: 0.51518 |  0:00:10s\n",
      "epoch 4  | loss: 0.69451 | test_accuracy: 0.50826 |  0:00:13s\n",
      "epoch 5  | loss: 0.67617 | test_accuracy: 0.4976  |  0:00:16s\n",
      "epoch 6  | loss: 0.66579 | test_accuracy: 0.48641 |  0:00:19s\n",
      "epoch 7  | loss: 0.66571 | test_accuracy: 0.4699  |  0:00:22s\n",
      "epoch 8  | loss: 0.66068 | test_accuracy: 0.50346 |  0:00:25s\n",
      "epoch 9  | loss: 0.65847 | test_accuracy: 0.48269 |  0:00:27s\n",
      "epoch 10 | loss: 0.65311 | test_accuracy: 0.49707 |  0:00:30s\n",
      "epoch 11 | loss: 0.64928 | test_accuracy: 0.51092 |  0:00:33s\n",
      "epoch 12 | loss: 0.64928 | test_accuracy: 0.50453 |  0:00:36s\n",
      "epoch 13 | loss: 0.64785 | test_accuracy: 0.50506 |  0:00:39s\n",
      "\n",
      "Early stopping occurred at epoch 13 with best_epoch = 3 and best_test_accuracy = 0.51518\n"
     ]
    },
    {
     "name": "stderr",
     "output_type": "stream",
     "text": [
      "/home/gonken/anaconda3/envs/torch/lib/python3.12/site-packages/pytorch_tabnet/callbacks.py:172: UserWarning: Best weights from best epoch are automatically used!\n",
      "  warnings.warn(wrn_msg)\n",
      "[I 2024-10-30 19:49:31,448] Trial 162 finished with value: 0.5151838039424613 and parameters: {'n_d': 30, 'n_a': 55, 'n_steps': 7, 'gamma': 1.6281063998798666, 'lambda_sparse': 0.048471644624287526, 'learning_rate': 0.003754417343365245}. Best is trial 4 with value: 0.5359616409163559.\n",
      "/home/gonken/anaconda3/envs/torch/lib/python3.12/site-packages/pytorch_tabnet/abstract_model.py:82: UserWarning: Device used : cuda\n",
      "  warnings.warn(f\"Device used : {self.device}\")\n"
     ]
    },
    {
     "name": "stdout",
     "output_type": "stream",
     "text": [
      "epoch 0  | loss: 0.91429 | test_accuracy: 0.49547 |  0:00:02s\n",
      "epoch 1  | loss: 0.78405 | test_accuracy: 0.52104 |  0:00:05s\n",
      "epoch 2  | loss: 0.74638 | test_accuracy: 0.51359 |  0:00:08s\n",
      "epoch 3  | loss: 0.71212 | test_accuracy: 0.49174 |  0:00:11s\n",
      "epoch 4  | loss: 0.68964 | test_accuracy: 0.49547 |  0:00:13s\n",
      "epoch 5  | loss: 0.67835 | test_accuracy: 0.5008  |  0:00:16s\n",
      "epoch 6  | loss: 0.67132 | test_accuracy: 0.49068 |  0:00:19s\n",
      "epoch 7  | loss: 0.66643 | test_accuracy: 0.50027 |  0:00:22s\n",
      "epoch 8  | loss: 0.66142 | test_accuracy: 0.50346 |  0:00:25s\n",
      "epoch 9  | loss: 0.65857 | test_accuracy: 0.50346 |  0:00:28s\n",
      "epoch 10 | loss: 0.65672 | test_accuracy: 0.49654 |  0:00:30s\n",
      "epoch 11 | loss: 0.65374 | test_accuracy: 0.50027 |  0:00:33s\n",
      "\n",
      "Early stopping occurred at epoch 11 with best_epoch = 1 and best_test_accuracy = 0.52104\n"
     ]
    },
    {
     "name": "stderr",
     "output_type": "stream",
     "text": [
      "/home/gonken/anaconda3/envs/torch/lib/python3.12/site-packages/pytorch_tabnet/callbacks.py:172: UserWarning: Best weights from best epoch are automatically used!\n",
      "  warnings.warn(wrn_msg)\n",
      "[I 2024-10-30 19:50:06,502] Trial 163 finished with value: 0.5210442194992009 and parameters: {'n_d': 27, 'n_a': 54, 'n_steps': 7, 'gamma': 1.0979028643571476, 'lambda_sparse': 0.042462708362484135, 'learning_rate': 0.004829069128470822}. Best is trial 4 with value: 0.5359616409163559.\n",
      "/home/gonken/anaconda3/envs/torch/lib/python3.12/site-packages/pytorch_tabnet/abstract_model.py:82: UserWarning: Device used : cuda\n",
      "  warnings.warn(f\"Device used : {self.device}\")\n"
     ]
    },
    {
     "name": "stdout",
     "output_type": "stream",
     "text": [
      "epoch 0  | loss: 1.03006 | test_accuracy: 0.51145 |  0:00:02s\n",
      "epoch 1  | loss: 0.76601 | test_accuracy: 0.496   |  0:00:05s\n",
      "epoch 2  | loss: 0.74667 | test_accuracy: 0.52531 |  0:00:08s\n",
      "epoch 3  | loss: 0.74101 | test_accuracy: 0.5024  |  0:00:11s\n",
      "epoch 4  | loss: 0.72064 | test_accuracy: 0.50506 |  0:00:14s\n",
      "epoch 5  | loss: 0.71133 | test_accuracy: 0.49973 |  0:00:16s\n",
      "epoch 6  | loss: 0.70357 | test_accuracy: 0.49121 |  0:00:19s\n",
      "epoch 7  | loss: 0.70521 | test_accuracy: 0.50879 |  0:00:22s\n",
      "epoch 8  | loss: 0.69508 | test_accuracy: 0.51731 |  0:00:24s\n",
      "epoch 9  | loss: 0.69104 | test_accuracy: 0.49068 |  0:00:27s\n",
      "epoch 10 | loss: 0.68394 | test_accuracy: 0.52051 |  0:00:30s\n",
      "epoch 11 | loss: 0.67259 | test_accuracy: 0.48322 |  0:00:32s\n",
      "epoch 12 | loss: 0.6712  | test_accuracy: 0.50826 |  0:00:35s\n",
      "\n",
      "Early stopping occurred at epoch 12 with best_epoch = 2 and best_test_accuracy = 0.52531\n"
     ]
    },
    {
     "name": "stderr",
     "output_type": "stream",
     "text": [
      "/home/gonken/anaconda3/envs/torch/lib/python3.12/site-packages/pytorch_tabnet/callbacks.py:172: UserWarning: Best weights from best epoch are automatically used!\n",
      "  warnings.warn(wrn_msg)\n",
      "[I 2024-10-30 19:50:43,518] Trial 164 finished with value: 0.5253063399041022 and parameters: {'n_d': 32, 'n_a': 60, 'n_steps': 7, 'gamma': 1.584775200086939, 'lambda_sparse': 0.09986954552824491, 'learning_rate': 0.0013511245596669278}. Best is trial 4 with value: 0.5359616409163559.\n",
      "/home/gonken/anaconda3/envs/torch/lib/python3.12/site-packages/pytorch_tabnet/abstract_model.py:82: UserWarning: Device used : cuda\n",
      "  warnings.warn(f\"Device used : {self.device}\")\n"
     ]
    },
    {
     "name": "stdout",
     "output_type": "stream",
     "text": [
      "epoch 0  | loss: 0.96446 | test_accuracy: 0.50346 |  0:00:02s\n",
      "epoch 1  | loss: 0.76016 | test_accuracy: 0.51145 |  0:00:05s\n",
      "epoch 2  | loss: 0.72614 | test_accuracy: 0.48748 |  0:00:08s\n",
      "epoch 3  | loss: 0.72126 | test_accuracy: 0.49814 |  0:00:11s\n",
      "epoch 4  | loss: 0.71196 | test_accuracy: 0.47682 |  0:00:14s\n",
      "epoch 5  | loss: 0.70028 | test_accuracy: 0.49814 |  0:00:16s\n",
      "epoch 6  | loss: 0.69091 | test_accuracy: 0.4976  |  0:00:19s\n",
      "epoch 7  | loss: 0.68529 | test_accuracy: 0.49441 |  0:00:22s\n",
      "epoch 8  | loss: 0.69023 | test_accuracy: 0.50027 |  0:00:24s\n",
      "epoch 9  | loss: 0.68317 | test_accuracy: 0.49654 |  0:00:27s\n",
      "epoch 10 | loss: 0.6829  | test_accuracy: 0.51359 |  0:00:30s\n",
      "epoch 11 | loss: 0.67247 | test_accuracy: 0.4992  |  0:00:33s\n",
      "epoch 12 | loss: 0.66905 | test_accuracy: 0.48535 |  0:00:36s\n",
      "epoch 13 | loss: 0.66393 | test_accuracy: 0.51252 |  0:00:38s\n",
      "epoch 14 | loss: 0.65911 | test_accuracy: 0.51039 |  0:00:41s\n",
      "epoch 15 | loss: 0.66184 | test_accuracy: 0.50719 |  0:00:44s\n",
      "epoch 16 | loss: 0.65443 | test_accuracy: 0.496   |  0:00:47s\n",
      "epoch 17 | loss: 0.65082 | test_accuracy: 0.48801 |  0:00:50s\n",
      "epoch 18 | loss: 0.64883 | test_accuracy: 0.50027 |  0:00:53s\n",
      "epoch 19 | loss: 0.64446 | test_accuracy: 0.51092 |  0:00:56s\n",
      "epoch 20 | loss: 0.6477  | test_accuracy: 0.48961 |  0:00:59s\n",
      "\n",
      "Early stopping occurred at epoch 20 with best_epoch = 10 and best_test_accuracy = 0.51359\n"
     ]
    },
    {
     "name": "stderr",
     "output_type": "stream",
     "text": [
      "/home/gonken/anaconda3/envs/torch/lib/python3.12/site-packages/pytorch_tabnet/callbacks.py:172: UserWarning: Best weights from best epoch are automatically used!\n",
      "  warnings.warn(wrn_msg)\n",
      "[I 2024-10-30 19:51:44,386] Trial 165 finished with value: 0.5135855087906234 and parameters: {'n_d': 29, 'n_a': 57, 'n_steps': 7, 'gamma': 1.0551855157714551, 'lambda_sparse': 0.036921158770774655, 'learning_rate': 0.001981794151357573}. Best is trial 4 with value: 0.5359616409163559.\n",
      "/home/gonken/anaconda3/envs/torch/lib/python3.12/site-packages/pytorch_tabnet/abstract_model.py:82: UserWarning: Device used : cuda\n",
      "  warnings.warn(f\"Device used : {self.device}\")\n"
     ]
    },
    {
     "name": "stdout",
     "output_type": "stream",
     "text": [
      "epoch 0  | loss: 2.78437 | test_accuracy: 0.50666 |  0:00:03s\n",
      "epoch 1  | loss: 1.31217 | test_accuracy: 0.49227 |  0:00:06s\n",
      "epoch 2  | loss: 0.98805 | test_accuracy: 0.51625 |  0:00:09s\n",
      "epoch 3  | loss: 0.89866 | test_accuracy: 0.50027 |  0:00:12s\n",
      "epoch 4  | loss: 0.82988 | test_accuracy: 0.50719 |  0:00:15s\n",
      "epoch 5  | loss: 0.77788 | test_accuracy: 0.51305 |  0:00:18s\n",
      "epoch 6  | loss: 0.76683 | test_accuracy: 0.50826 |  0:00:21s\n",
      "epoch 7  | loss: 0.77196 | test_accuracy: 0.50826 |  0:00:24s\n",
      "epoch 8  | loss: 0.74975 | test_accuracy: 0.49281 |  0:00:27s\n",
      "epoch 9  | loss: 0.74427 | test_accuracy: 0.51518 |  0:00:31s\n",
      "epoch 10 | loss: 0.73885 | test_accuracy: 0.49973 |  0:00:34s\n",
      "epoch 11 | loss: 0.72188 | test_accuracy: 0.49387 |  0:00:37s\n",
      "epoch 12 | loss: 0.72707 | test_accuracy: 0.50346 |  0:00:40s\n",
      "\n",
      "Early stopping occurred at epoch 12 with best_epoch = 2 and best_test_accuracy = 0.51625\n"
     ]
    },
    {
     "name": "stderr",
     "output_type": "stream",
     "text": [
      "/home/gonken/anaconda3/envs/torch/lib/python3.12/site-packages/pytorch_tabnet/callbacks.py:172: UserWarning: Best weights from best epoch are automatically used!\n",
      "  warnings.warn(wrn_msg)\n",
      "[I 2024-10-30 19:52:25,889] Trial 166 finished with value: 0.5162493340436868 and parameters: {'n_d': 25, 'n_a': 58, 'n_steps': 8, 'gamma': 1.5450155344447558, 'lambda_sparse': 0.04479686784206142, 'learning_rate': 0.0004356984818080795}. Best is trial 4 with value: 0.5359616409163559.\n",
      "/home/gonken/anaconda3/envs/torch/lib/python3.12/site-packages/pytorch_tabnet/abstract_model.py:82: UserWarning: Device used : cuda\n",
      "  warnings.warn(f\"Device used : {self.device}\")\n"
     ]
    },
    {
     "name": "stdout",
     "output_type": "stream",
     "text": [
      "epoch 0  | loss: 1.00282 | test_accuracy: 0.49068 |  0:00:02s\n",
      "epoch 1  | loss: 0.7666  | test_accuracy: 0.48322 |  0:00:05s\n",
      "epoch 2  | loss: 0.70614 | test_accuracy: 0.49334 |  0:00:07s\n",
      "epoch 3  | loss: 0.68237 | test_accuracy: 0.504   |  0:00:10s\n",
      "epoch 4  | loss: 0.67158 | test_accuracy: 0.47736 |  0:00:13s\n",
      "epoch 5  | loss: 0.66966 | test_accuracy: 0.48162 |  0:00:16s\n",
      "epoch 6  | loss: 0.66021 | test_accuracy: 0.49973 |  0:00:19s\n",
      "epoch 7  | loss: 0.66182 | test_accuracy: 0.49973 |  0:00:22s\n",
      "epoch 8  | loss: 0.66611 | test_accuracy: 0.4976  |  0:00:24s\n",
      "epoch 9  | loss: 0.65672 | test_accuracy: 0.50293 |  0:00:27s\n",
      "epoch 10 | loss: 0.65261 | test_accuracy: 0.52051 |  0:00:30s\n",
      "epoch 11 | loss: 0.65147 | test_accuracy: 0.50506 |  0:00:32s\n",
      "epoch 12 | loss: 0.64785 | test_accuracy: 0.50666 |  0:00:35s\n",
      "epoch 13 | loss: 0.64798 | test_accuracy: 0.49654 |  0:00:38s\n",
      "epoch 14 | loss: 0.64331 | test_accuracy: 0.49068 |  0:00:41s\n",
      "epoch 15 | loss: 0.64661 | test_accuracy: 0.49227 |  0:00:44s\n",
      "epoch 16 | loss: 0.64375 | test_accuracy: 0.49387 |  0:00:47s\n",
      "epoch 17 | loss: 0.6464  | test_accuracy: 0.49707 |  0:00:49s\n",
      "epoch 18 | loss: 0.64569 | test_accuracy: 0.50346 |  0:00:52s\n",
      "epoch 19 | loss: 0.64712 | test_accuracy: 0.50453 |  0:00:55s\n",
      "epoch 20 | loss: 0.64086 | test_accuracy: 0.51945 |  0:00:57s\n",
      "\n",
      "Early stopping occurred at epoch 20 with best_epoch = 10 and best_test_accuracy = 0.52051\n"
     ]
    },
    {
     "name": "stderr",
     "output_type": "stream",
     "text": [
      "/home/gonken/anaconda3/envs/torch/lib/python3.12/site-packages/pytorch_tabnet/callbacks.py:172: UserWarning: Best weights from best epoch are automatically used!\n",
      "  warnings.warn(wrn_msg)\n",
      "[I 2024-10-30 19:53:25,142] Trial 167 finished with value: 0.5205114544485882 and parameters: {'n_d': 28, 'n_a': 61, 'n_steps': 7, 'gamma': 1.6562596736983741, 'lambda_sparse': 0.04972107718360106, 'learning_rate': 0.007562942920438804}. Best is trial 4 with value: 0.5359616409163559.\n",
      "/home/gonken/anaconda3/envs/torch/lib/python3.12/site-packages/pytorch_tabnet/abstract_model.py:82: UserWarning: Device used : cuda\n",
      "  warnings.warn(f\"Device used : {self.device}\")\n"
     ]
    },
    {
     "name": "stdout",
     "output_type": "stream",
     "text": [
      "epoch 0  | loss: 1.13195 | test_accuracy: 0.50133 |  0:00:02s\n",
      "epoch 1  | loss: 0.847   | test_accuracy: 0.51572 |  0:00:05s\n",
      "epoch 2  | loss: 0.7786  | test_accuracy: 0.50932 |  0:00:07s\n",
      "epoch 3  | loss: 0.75745 | test_accuracy: 0.52051 |  0:00:10s\n",
      "epoch 4  | loss: 0.73614 | test_accuracy: 0.52637 |  0:00:13s\n",
      "epoch 5  | loss: 0.73286 | test_accuracy: 0.51092 |  0:00:15s\n",
      "epoch 6  | loss: 0.73944 | test_accuracy: 0.50186 |  0:00:17s\n",
      "epoch 7  | loss: 0.72954 | test_accuracy: 0.50559 |  0:00:20s\n",
      "epoch 8  | loss: 0.71412 | test_accuracy: 0.49494 |  0:00:23s\n",
      "epoch 9  | loss: 0.73104 | test_accuracy: 0.50613 |  0:00:25s\n",
      "epoch 10 | loss: 0.71986 | test_accuracy: 0.48641 |  0:00:28s\n",
      "epoch 11 | loss: 0.72362 | test_accuracy: 0.48855 |  0:00:30s\n",
      "epoch 12 | loss: 0.71513 | test_accuracy: 0.48588 |  0:00:33s\n",
      "epoch 13 | loss: 0.71249 | test_accuracy: 0.50559 |  0:00:35s\n",
      "epoch 14 | loss: 0.70996 | test_accuracy: 0.49281 |  0:00:38s\n",
      "\n",
      "Early stopping occurred at epoch 14 with best_epoch = 4 and best_test_accuracy = 0.52637\n"
     ]
    },
    {
     "name": "stderr",
     "output_type": "stream",
     "text": [
      "/home/gonken/anaconda3/envs/torch/lib/python3.12/site-packages/pytorch_tabnet/callbacks.py:172: UserWarning: Best weights from best epoch are automatically used!\n",
      "  warnings.warn(wrn_msg)\n",
      "[I 2024-10-30 19:54:04,907] Trial 168 finished with value: 0.5263718700053277 and parameters: {'n_d': 49, 'n_a': 48, 'n_steps': 6, 'gamma': 1.6349794810583202, 'lambda_sparse': 0.024105517662007584, 'learning_rate': 0.0008432542509143184}. Best is trial 4 with value: 0.5359616409163559.\n",
      "/home/gonken/anaconda3/envs/torch/lib/python3.12/site-packages/pytorch_tabnet/abstract_model.py:82: UserWarning: Device used : cuda\n",
      "  warnings.warn(f\"Device used : {self.device}\")\n"
     ]
    },
    {
     "name": "stdout",
     "output_type": "stream",
     "text": [
      "epoch 0  | loss: 1.55862 | test_accuracy: 0.49973 |  0:00:03s\n",
      "epoch 1  | loss: 0.85249 | test_accuracy: 0.48588 |  0:00:06s\n",
      "epoch 2  | loss: 0.84713 | test_accuracy: 0.504   |  0:00:09s\n",
      "epoch 3  | loss: 0.77992 | test_accuracy: 0.50346 |  0:00:13s\n",
      "epoch 4  | loss: 0.76379 | test_accuracy: 0.50453 |  0:00:16s\n",
      "epoch 5  | loss: 0.7351  | test_accuracy: 0.51199 |  0:00:19s\n",
      "epoch 6  | loss: 0.74439 | test_accuracy: 0.50879 |  0:00:22s\n",
      "epoch 7  | loss: 0.70882 | test_accuracy: 0.51359 |  0:00:25s\n",
      "epoch 8  | loss: 0.71011 | test_accuracy: 0.51465 |  0:00:29s\n",
      "epoch 9  | loss: 0.71423 | test_accuracy: 0.4976  |  0:00:32s\n",
      "epoch 10 | loss: 0.71053 | test_accuracy: 0.49814 |  0:00:35s\n",
      "epoch 11 | loss: 0.69535 | test_accuracy: 0.49121 |  0:00:38s\n",
      "epoch 12 | loss: 0.69019 | test_accuracy: 0.51305 |  0:00:41s\n",
      "epoch 13 | loss: 0.68243 | test_accuracy: 0.50613 |  0:00:44s\n",
      "epoch 14 | loss: 0.67847 | test_accuracy: 0.48269 |  0:00:47s\n",
      "epoch 15 | loss: 0.68101 | test_accuracy: 0.5024  |  0:00:51s\n",
      "epoch 16 | loss: 0.67578 | test_accuracy: 0.49174 |  0:00:54s\n",
      "epoch 17 | loss: 0.67127 | test_accuracy: 0.49121 |  0:00:57s\n",
      "epoch 18 | loss: 0.69515 | test_accuracy: 0.50773 |  0:01:00s\n",
      "\n",
      "Early stopping occurred at epoch 18 with best_epoch = 8 and best_test_accuracy = 0.51465\n"
     ]
    },
    {
     "name": "stderr",
     "output_type": "stream",
     "text": [
      "/home/gonken/anaconda3/envs/torch/lib/python3.12/site-packages/pytorch_tabnet/callbacks.py:172: UserWarning: Best weights from best epoch are automatically used!\n",
      "  warnings.warn(wrn_msg)\n",
      "[I 2024-10-30 19:55:07,144] Trial 169 finished with value: 0.5146510388918487 and parameters: {'n_d': 39, 'n_a': 21, 'n_steps': 9, 'gamma': 1.2479216831944155, 'lambda_sparse': 0.03987990671036913, 'learning_rate': 0.002607313894309213}. Best is trial 4 with value: 0.5359616409163559.\n",
      "/home/gonken/anaconda3/envs/torch/lib/python3.12/site-packages/pytorch_tabnet/abstract_model.py:82: UserWarning: Device used : cuda\n",
      "  warnings.warn(f\"Device used : {self.device}\")\n"
     ]
    },
    {
     "name": "stdout",
     "output_type": "stream",
     "text": [
      "epoch 0  | loss: 1.14228 | test_accuracy: 0.51092 |  0:00:02s\n",
      "epoch 1  | loss: 0.77958 | test_accuracy: 0.48002 |  0:00:05s\n",
      "epoch 2  | loss: 0.72929 | test_accuracy: 0.51518 |  0:00:07s\n",
      "epoch 3  | loss: 0.70944 | test_accuracy: 0.48695 |  0:00:10s\n",
      "epoch 4  | loss: 0.70241 | test_accuracy: 0.49494 |  0:00:13s\n",
      "epoch 5  | loss: 0.70149 | test_accuracy: 0.504   |  0:00:15s\n",
      "epoch 6  | loss: 0.69637 | test_accuracy: 0.49174 |  0:00:18s\n",
      "epoch 7  | loss: 0.6955  | test_accuracy: 0.50613 |  0:00:21s\n",
      "epoch 8  | loss: 0.69061 | test_accuracy: 0.51625 |  0:00:23s\n",
      "epoch 9  | loss: 0.68874 | test_accuracy: 0.49814 |  0:00:26s\n",
      "epoch 10 | loss: 0.68579 | test_accuracy: 0.50027 |  0:00:29s\n",
      "epoch 11 | loss: 0.68764 | test_accuracy: 0.496   |  0:00:31s\n",
      "epoch 12 | loss: 0.67885 | test_accuracy: 0.51572 |  0:00:34s\n",
      "epoch 13 | loss: 0.67919 | test_accuracy: 0.50027 |  0:00:37s\n",
      "epoch 14 | loss: 0.67815 | test_accuracy: 0.51465 |  0:00:40s\n",
      "epoch 15 | loss: 0.67534 | test_accuracy: 0.50293 |  0:00:42s\n",
      "epoch 16 | loss: 0.67542 | test_accuracy: 0.496   |  0:00:45s\n",
      "epoch 17 | loss: 0.67544 | test_accuracy: 0.49387 |  0:00:48s\n",
      "epoch 18 | loss: 0.66781 | test_accuracy: 0.50293 |  0:00:51s\n",
      "\n",
      "Early stopping occurred at epoch 18 with best_epoch = 8 and best_test_accuracy = 0.51625\n"
     ]
    },
    {
     "name": "stderr",
     "output_type": "stream",
     "text": [
      "/home/gonken/anaconda3/envs/torch/lib/python3.12/site-packages/pytorch_tabnet/callbacks.py:172: UserWarning: Best weights from best epoch are automatically used!\n",
      "  warnings.warn(wrn_msg)\n",
      "[I 2024-10-30 19:55:59,474] Trial 170 finished with value: 0.5162493340436868 and parameters: {'n_d': 31, 'n_a': 13, 'n_steps': 7, 'gamma': 1.7190625153582817, 'lambda_sparse': 0.0468035917798031, 'learning_rate': 0.001608856667137564}. Best is trial 4 with value: 0.5359616409163559.\n",
      "/home/gonken/anaconda3/envs/torch/lib/python3.12/site-packages/pytorch_tabnet/abstract_model.py:82: UserWarning: Device used : cuda\n",
      "  warnings.warn(f\"Device used : {self.device}\")\n"
     ]
    },
    {
     "name": "stdout",
     "output_type": "stream",
     "text": [
      "epoch 0  | loss: 2.50125 | test_accuracy: 0.496   |  0:00:02s\n",
      "epoch 1  | loss: 0.9106  | test_accuracy: 0.50186 |  0:00:05s\n",
      "epoch 2  | loss: 0.78417 | test_accuracy: 0.49441 |  0:00:07s\n",
      "epoch 3  | loss: 0.76707 | test_accuracy: 0.47949 |  0:00:09s\n",
      "epoch 4  | loss: 0.75485 | test_accuracy: 0.496   |  0:00:12s\n",
      "epoch 5  | loss: 0.74643 | test_accuracy: 0.51252 |  0:00:14s\n",
      "epoch 6  | loss: 0.72425 | test_accuracy: 0.48162 |  0:00:16s\n",
      "epoch 7  | loss: 0.71885 | test_accuracy: 0.48748 |  0:00:18s\n",
      "epoch 8  | loss: 0.71634 | test_accuracy: 0.50773 |  0:00:21s\n",
      "epoch 9  | loss: 0.71273 | test_accuracy: 0.50186 |  0:00:23s\n",
      "epoch 10 | loss: 0.72176 | test_accuracy: 0.50346 |  0:00:26s\n",
      "epoch 11 | loss: 0.70498 | test_accuracy: 0.48588 |  0:00:28s\n",
      "epoch 12 | loss: 0.69918 | test_accuracy: 0.49387 |  0:00:30s\n",
      "epoch 13 | loss: 0.69671 | test_accuracy: 0.48961 |  0:00:33s\n",
      "epoch 14 | loss: 0.69294 | test_accuracy: 0.49547 |  0:00:36s\n",
      "epoch 15 | loss: 0.68794 | test_accuracy: 0.49227 |  0:00:38s\n",
      "\n",
      "Early stopping occurred at epoch 15 with best_epoch = 5 and best_test_accuracy = 0.51252\n"
     ]
    },
    {
     "name": "stderr",
     "output_type": "stream",
     "text": [
      "/home/gonken/anaconda3/envs/torch/lib/python3.12/site-packages/pytorch_tabnet/callbacks.py:172: UserWarning: Best weights from best epoch are automatically used!\n",
      "  warnings.warn(wrn_msg)\n",
      "[I 2024-10-30 19:56:39,336] Trial 171 finished with value: 0.512519978689398 and parameters: {'n_d': 49, 'n_a': 47, 'n_steps': 6, 'gamma': 1.6346833659314035, 'lambda_sparse': 0.023361961536387532, 'learning_rate': 0.00073049441882111}. Best is trial 4 with value: 0.5359616409163559.\n",
      "/home/gonken/anaconda3/envs/torch/lib/python3.12/site-packages/pytorch_tabnet/abstract_model.py:82: UserWarning: Device used : cuda\n",
      "  warnings.warn(f\"Device used : {self.device}\")\n"
     ]
    },
    {
     "name": "stdout",
     "output_type": "stream",
     "text": [
      "epoch 0  | loss: 0.97056 | test_accuracy: 0.49121 |  0:00:02s\n",
      "epoch 1  | loss: 0.788   | test_accuracy: 0.48482 |  0:00:05s\n",
      "epoch 2  | loss: 0.7663  | test_accuracy: 0.50559 |  0:00:08s\n",
      "epoch 3  | loss: 0.76153 | test_accuracy: 0.50666 |  0:00:10s\n",
      "epoch 4  | loss: 0.74491 | test_accuracy: 0.50133 |  0:00:13s\n",
      "epoch 5  | loss: 0.72982 | test_accuracy: 0.4992  |  0:00:16s\n",
      "epoch 6  | loss: 0.73721 | test_accuracy: 0.50986 |  0:00:18s\n",
      "epoch 7  | loss: 0.71437 | test_accuracy: 0.51945 |  0:00:21s\n",
      "epoch 8  | loss: 0.71902 | test_accuracy: 0.4976  |  0:00:23s\n",
      "epoch 9  | loss: 0.70475 | test_accuracy: 0.49707 |  0:00:26s\n",
      "epoch 10 | loss: 0.69602 | test_accuracy: 0.48961 |  0:00:29s\n",
      "epoch 11 | loss: 0.69448 | test_accuracy: 0.504   |  0:00:31s\n",
      "epoch 12 | loss: 0.6937  | test_accuracy: 0.50027 |  0:00:34s\n",
      "epoch 13 | loss: 0.68878 | test_accuracy: 0.48269 |  0:00:36s\n",
      "epoch 14 | loss: 0.68021 | test_accuracy: 0.4976  |  0:00:39s\n",
      "epoch 15 | loss: 0.68597 | test_accuracy: 0.50293 |  0:00:42s\n",
      "epoch 16 | loss: 0.67809 | test_accuracy: 0.51252 |  0:00:45s\n",
      "epoch 17 | loss: 0.67429 | test_accuracy: 0.50186 |  0:00:47s\n",
      "\n",
      "Early stopping occurred at epoch 17 with best_epoch = 7 and best_test_accuracy = 0.51945\n"
     ]
    },
    {
     "name": "stderr",
     "output_type": "stream",
     "text": [
      "/home/gonken/anaconda3/envs/torch/lib/python3.12/site-packages/pytorch_tabnet/callbacks.py:172: UserWarning: Best weights from best epoch are automatically used!\n",
      "  warnings.warn(wrn_msg)\n",
      "[I 2024-10-30 19:57:28,371] Trial 172 finished with value: 0.5194459243473628 and parameters: {'n_d': 48, 'n_a': 54, 'n_steps': 6, 'gamma': 1.6118105195730006, 'lambda_sparse': 0.0249864107740643, 'learning_rate': 0.001153468290795133}. Best is trial 4 with value: 0.5359616409163559.\n",
      "/home/gonken/anaconda3/envs/torch/lib/python3.12/site-packages/pytorch_tabnet/abstract_model.py:82: UserWarning: Device used : cuda\n",
      "  warnings.warn(f\"Device used : {self.device}\")\n"
     ]
    },
    {
     "name": "stdout",
     "output_type": "stream",
     "text": [
      "epoch 0  | loss: 1.16016 | test_accuracy: 0.49654 |  0:00:02s\n",
      "epoch 1  | loss: 0.77172 | test_accuracy: 0.496   |  0:00:04s\n",
      "epoch 2  | loss: 0.76164 | test_accuracy: 0.50133 |  0:00:06s\n",
      "epoch 3  | loss: 0.73535 | test_accuracy: 0.49334 |  0:00:09s\n",
      "epoch 4  | loss: 0.71669 | test_accuracy: 0.50986 |  0:00:11s\n",
      "epoch 5  | loss: 0.72873 | test_accuracy: 0.50826 |  0:00:13s\n",
      "epoch 6  | loss: 0.71393 | test_accuracy: 0.48215 |  0:00:16s\n",
      "epoch 7  | loss: 0.70608 | test_accuracy: 0.48215 |  0:00:18s\n",
      "epoch 8  | loss: 0.70256 | test_accuracy: 0.49387 |  0:00:21s\n",
      "epoch 9  | loss: 0.69265 | test_accuracy: 0.50293 |  0:00:23s\n",
      "epoch 10 | loss: 0.69292 | test_accuracy: 0.50027 |  0:00:26s\n",
      "epoch 11 | loss: 0.6855  | test_accuracy: 0.50773 |  0:00:28s\n",
      "epoch 12 | loss: 0.67887 | test_accuracy: 0.4976  |  0:00:31s\n",
      "epoch 13 | loss: 0.67965 | test_accuracy: 0.51199 |  0:00:33s\n",
      "epoch 14 | loss: 0.66614 | test_accuracy: 0.50773 |  0:00:36s\n",
      "epoch 15 | loss: 0.66556 | test_accuracy: 0.50133 |  0:00:38s\n",
      "epoch 16 | loss: 0.67211 | test_accuracy: 0.52371 |  0:00:40s\n",
      "epoch 17 | loss: 0.66837 | test_accuracy: 0.50613 |  0:00:42s\n",
      "epoch 18 | loss: 0.66408 | test_accuracy: 0.48855 |  0:00:44s\n",
      "epoch 19 | loss: 0.66566 | test_accuracy: 0.48641 |  0:00:46s\n",
      "epoch 20 | loss: 0.67159 | test_accuracy: 0.50559 |  0:00:48s\n",
      "epoch 21 | loss: 0.67223 | test_accuracy: 0.49494 |  0:00:50s\n",
      "epoch 22 | loss: 0.66392 | test_accuracy: 0.50027 |  0:00:52s\n",
      "epoch 23 | loss: 0.65618 | test_accuracy: 0.496   |  0:00:54s\n",
      "epoch 24 | loss: 0.66209 | test_accuracy: 0.48269 |  0:00:57s\n",
      "epoch 25 | loss: 0.65934 | test_accuracy: 0.47896 |  0:00:59s\n",
      "epoch 26 | loss: 0.65275 | test_accuracy: 0.49973 |  0:01:02s\n",
      "\n",
      "Early stopping occurred at epoch 26 with best_epoch = 16 and best_test_accuracy = 0.52371\n"
     ]
    },
    {
     "name": "stderr",
     "output_type": "stream",
     "text": [
      "/home/gonken/anaconda3/envs/torch/lib/python3.12/site-packages/pytorch_tabnet/callbacks.py:172: UserWarning: Best weights from best epoch are automatically used!\n",
      "  warnings.warn(wrn_msg)\n",
      "[I 2024-10-30 19:58:31,453] Trial 173 finished with value: 0.5237080447522643 and parameters: {'n_d': 51, 'n_a': 39, 'n_steps': 5, 'gamma': 1.6433913063990728, 'lambda_sparse': 0.027696165199097202, 'learning_rate': 0.0008667158611944194}. Best is trial 4 with value: 0.5359616409163559.\n",
      "/home/gonken/anaconda3/envs/torch/lib/python3.12/site-packages/pytorch_tabnet/abstract_model.py:82: UserWarning: Device used : cuda\n",
      "  warnings.warn(f\"Device used : {self.device}\")\n"
     ]
    },
    {
     "name": "stdout",
     "output_type": "stream",
     "text": [
      "epoch 0  | loss: 1.46294 | test_accuracy: 0.46937 |  0:00:02s\n",
      "epoch 1  | loss: 0.93822 | test_accuracy: 0.49547 |  0:00:05s\n",
      "epoch 2  | loss: 0.83785 | test_accuracy: 0.50453 |  0:00:08s\n",
      "epoch 3  | loss: 0.80568 | test_accuracy: 0.50773 |  0:00:11s\n",
      "epoch 4  | loss: 0.78193 | test_accuracy: 0.49654 |  0:00:15s\n",
      "epoch 5  | loss: 0.77972 | test_accuracy: 0.48428 |  0:00:18s\n",
      "epoch 6  | loss: 0.75986 | test_accuracy: 0.49814 |  0:00:21s\n",
      "epoch 7  | loss: 0.75751 | test_accuracy: 0.49547 |  0:00:24s\n",
      "epoch 8  | loss: 0.76342 | test_accuracy: 0.49547 |  0:00:26s\n",
      "epoch 9  | loss: 0.75184 | test_accuracy: 0.50613 |  0:00:29s\n",
      "epoch 10 | loss: 0.7333  | test_accuracy: 0.50133 |  0:00:32s\n",
      "epoch 11 | loss: 0.72843 | test_accuracy: 0.49334 |  0:00:36s\n",
      "epoch 12 | loss: 0.73584 | test_accuracy: 0.49707 |  0:00:38s\n",
      "epoch 13 | loss: 0.71802 | test_accuracy: 0.51145 |  0:00:41s\n",
      "epoch 14 | loss: 0.71668 | test_accuracy: 0.48322 |  0:00:44s\n",
      "epoch 15 | loss: 0.71508 | test_accuracy: 0.50186 |  0:00:47s\n",
      "epoch 16 | loss: 0.71343 | test_accuracy: 0.50346 |  0:00:51s\n",
      "epoch 17 | loss: 0.71659 | test_accuracy: 0.48908 |  0:00:54s\n",
      "epoch 18 | loss: 0.71635 | test_accuracy: 0.49494 |  0:00:56s\n",
      "epoch 19 | loss: 0.71231 | test_accuracy: 0.51891 |  0:00:59s\n",
      "epoch 20 | loss: 0.70394 | test_accuracy: 0.48482 |  0:01:03s\n",
      "epoch 21 | loss: 0.70611 | test_accuracy: 0.50027 |  0:01:06s\n",
      "epoch 22 | loss: 0.69928 | test_accuracy: 0.49014 |  0:01:09s\n",
      "epoch 23 | loss: 0.69938 | test_accuracy: 0.50186 |  0:01:12s\n",
      "epoch 24 | loss: 0.70005 | test_accuracy: 0.50453 |  0:01:15s\n",
      "epoch 25 | loss: 0.71121 | test_accuracy: 0.49867 |  0:01:18s\n",
      "epoch 26 | loss: 0.69756 | test_accuracy: 0.48109 |  0:01:21s\n",
      "epoch 27 | loss: 0.69193 | test_accuracy: 0.48375 |  0:01:24s\n",
      "epoch 28 | loss: 0.69751 | test_accuracy: 0.51518 |  0:01:27s\n",
      "epoch 29 | loss: 0.69388 | test_accuracy: 0.4976  |  0:01:30s\n",
      "\n",
      "Early stopping occurred at epoch 29 with best_epoch = 19 and best_test_accuracy = 0.51891\n"
     ]
    },
    {
     "name": "stderr",
     "output_type": "stream",
     "text": [
      "/home/gonken/anaconda3/envs/torch/lib/python3.12/site-packages/pytorch_tabnet/callbacks.py:172: UserWarning: Best weights from best epoch are automatically used!\n",
      "  warnings.warn(wrn_msg)\n",
      "[I 2024-10-30 20:00:03,097] Trial 174 finished with value: 0.5189131592967501 and parameters: {'n_d': 47, 'n_a': 48, 'n_steps': 8, 'gamma': 1.6734225487666352, 'lambda_sparse': 0.05269324530336662, 'learning_rate': 0.0005168384396826926}. Best is trial 4 with value: 0.5359616409163559.\n",
      "/home/gonken/anaconda3/envs/torch/lib/python3.12/site-packages/pytorch_tabnet/abstract_model.py:82: UserWarning: Device used : cuda\n",
      "  warnings.warn(f\"Device used : {self.device}\")\n"
     ]
    },
    {
     "name": "stdout",
     "output_type": "stream",
     "text": [
      "epoch 0  | loss: 0.86745 | test_accuracy: 0.5317  |  0:00:02s\n",
      "epoch 1  | loss: 0.80369 | test_accuracy: 0.51838 |  0:00:05s\n",
      "epoch 2  | loss: 0.74627 | test_accuracy: 0.49227 |  0:00:08s\n",
      "epoch 3  | loss: 0.71049 | test_accuracy: 0.48908 |  0:00:10s\n",
      "epoch 4  | loss: 0.70007 | test_accuracy: 0.53383 |  0:00:13s\n",
      "epoch 5  | loss: 0.67452 | test_accuracy: 0.50133 |  0:00:16s\n",
      "epoch 6  | loss: 0.67851 | test_accuracy: 0.5024  |  0:00:19s\n",
      "epoch 7  | loss: 0.66915 | test_accuracy: 0.51465 |  0:00:22s\n",
      "epoch 8  | loss: 0.6612  | test_accuracy: 0.51359 |  0:00:25s\n",
      "epoch 9  | loss: 0.65763 | test_accuracy: 0.50186 |  0:00:27s\n",
      "epoch 10 | loss: 0.65269 | test_accuracy: 0.49174 |  0:00:30s\n",
      "epoch 11 | loss: 0.64553 | test_accuracy: 0.51465 |  0:00:33s\n",
      "epoch 12 | loss: 0.6466  | test_accuracy: 0.49494 |  0:00:36s\n",
      "epoch 13 | loss: 0.64321 | test_accuracy: 0.50027 |  0:00:38s\n",
      "epoch 14 | loss: 0.64238 | test_accuracy: 0.5008  |  0:00:41s\n",
      "\n",
      "Early stopping occurred at epoch 14 with best_epoch = 4 and best_test_accuracy = 0.53383\n"
     ]
    },
    {
     "name": "stderr",
     "output_type": "stream",
     "text": [
      "/home/gonken/anaconda3/envs/torch/lib/python3.12/site-packages/pytorch_tabnet/callbacks.py:172: UserWarning: Best weights from best epoch are automatically used!\n",
      "  warnings.warn(wrn_msg)\n",
      "[I 2024-10-30 20:00:45,946] Trial 175 finished with value: 0.5338305807139052 and parameters: {'n_d': 50, 'n_a': 56, 'n_steps': 7, 'gamma': 1.573571132246953, 'lambda_sparse': 0.018850210660265133, 'learning_rate': 0.003166438792400061}. Best is trial 4 with value: 0.5359616409163559.\n",
      "/home/gonken/anaconda3/envs/torch/lib/python3.12/site-packages/pytorch_tabnet/abstract_model.py:82: UserWarning: Device used : cuda\n",
      "  warnings.warn(f\"Device used : {self.device}\")\n"
     ]
    },
    {
     "name": "stdout",
     "output_type": "stream",
     "text": [
      "epoch 0  | loss: 0.92661 | test_accuracy: 0.50133 |  0:00:02s\n",
      "epoch 1  | loss: 0.79572 | test_accuracy: 0.51092 |  0:00:05s\n",
      "epoch 2  | loss: 0.75211 | test_accuracy: 0.496   |  0:00:07s\n",
      "epoch 3  | loss: 0.72384 | test_accuracy: 0.5008  |  0:00:10s\n",
      "epoch 4  | loss: 0.68927 | test_accuracy: 0.49654 |  0:00:14s\n",
      "epoch 5  | loss: 0.68224 | test_accuracy: 0.50133 |  0:00:16s\n",
      "epoch 6  | loss: 0.66945 | test_accuracy: 0.51518 |  0:00:19s\n",
      "epoch 7  | loss: 0.66981 | test_accuracy: 0.50613 |  0:00:22s\n",
      "epoch 8  | loss: 0.6632  | test_accuracy: 0.5008  |  0:00:25s\n",
      "epoch 9  | loss: 0.66172 | test_accuracy: 0.50986 |  0:00:28s\n",
      "epoch 10 | loss: 0.65641 | test_accuracy: 0.49227 |  0:00:30s\n",
      "epoch 11 | loss: 0.66106 | test_accuracy: 0.50027 |  0:00:33s\n",
      "epoch 12 | loss: 0.6611  | test_accuracy: 0.50346 |  0:00:36s\n",
      "epoch 13 | loss: 0.65161 | test_accuracy: 0.4976  |  0:00:38s\n",
      "epoch 14 | loss: 0.64742 | test_accuracy: 0.51092 |  0:00:41s\n",
      "epoch 15 | loss: 0.64596 | test_accuracy: 0.5269  |  0:00:44s\n",
      "epoch 16 | loss: 0.64207 | test_accuracy: 0.49973 |  0:00:46s\n",
      "epoch 17 | loss: 0.63954 | test_accuracy: 0.52211 |  0:00:49s\n",
      "epoch 18 | loss: 0.63628 | test_accuracy: 0.50932 |  0:00:52s\n",
      "epoch 19 | loss: 0.63709 | test_accuracy: 0.504   |  0:00:55s\n",
      "epoch 20 | loss: 0.6354  | test_accuracy: 0.50027 |  0:00:58s\n",
      "epoch 21 | loss: 0.63524 | test_accuracy: 0.51838 |  0:01:00s\n",
      "epoch 22 | loss: 0.63143 | test_accuracy: 0.50879 |  0:01:03s\n",
      "epoch 23 | loss: 0.62849 | test_accuracy: 0.50879 |  0:01:06s\n",
      "epoch 24 | loss: 0.63408 | test_accuracy: 0.50773 |  0:01:09s\n",
      "epoch 25 | loss: 0.63011 | test_accuracy: 0.50666 |  0:01:12s\n",
      "\n",
      "Early stopping occurred at epoch 25 with best_epoch = 15 and best_test_accuracy = 0.5269\n"
     ]
    },
    {
     "name": "stderr",
     "output_type": "stream",
     "text": [
      "/home/gonken/anaconda3/envs/torch/lib/python3.12/site-packages/pytorch_tabnet/callbacks.py:172: UserWarning: Best weights from best epoch are automatically used!\n",
      "  warnings.warn(wrn_msg)\n",
      "[I 2024-10-30 20:01:59,323] Trial 176 finished with value: 0.5269046350559403 and parameters: {'n_d': 50, 'n_a': 56, 'n_steps': 7, 'gamma': 1.5696464130327688, 'lambda_sparse': 0.051147566156592626, 'learning_rate': 0.0036541222503500993}. Best is trial 4 with value: 0.5359616409163559.\n",
      "/home/gonken/anaconda3/envs/torch/lib/python3.12/site-packages/pytorch_tabnet/abstract_model.py:82: UserWarning: Device used : cuda\n",
      "  warnings.warn(f\"Device used : {self.device}\")\n"
     ]
    },
    {
     "name": "stdout",
     "output_type": "stream",
     "text": [
      "epoch 0  | loss: 1.0305  | test_accuracy: 0.49334 |  0:00:02s\n",
      "epoch 1  | loss: 0.76451 | test_accuracy: 0.51465 |  0:00:05s\n",
      "epoch 2  | loss: 0.71064 | test_accuracy: 0.51572 |  0:00:08s\n",
      "epoch 3  | loss: 0.68638 | test_accuracy: 0.47789 |  0:00:10s\n",
      "epoch 4  | loss: 0.67881 | test_accuracy: 0.50506 |  0:00:13s\n",
      "epoch 5  | loss: 0.66823 | test_accuracy: 0.48322 |  0:00:16s\n",
      "epoch 6  | loss: 0.66415 | test_accuracy: 0.51145 |  0:00:18s\n",
      "epoch 7  | loss: 0.66081 | test_accuracy: 0.52797 |  0:00:21s\n",
      "epoch 8  | loss: 0.65355 | test_accuracy: 0.50453 |  0:00:24s\n",
      "epoch 9  | loss: 0.65396 | test_accuracy: 0.51572 |  0:00:27s\n",
      "epoch 10 | loss: 0.65092 | test_accuracy: 0.504   |  0:00:30s\n",
      "epoch 11 | loss: 0.65013 | test_accuracy: 0.5008  |  0:00:33s\n",
      "epoch 12 | loss: 0.64921 | test_accuracy: 0.51039 |  0:00:36s\n",
      "epoch 13 | loss: 0.64389 | test_accuracy: 0.50879 |  0:00:39s\n",
      "epoch 14 | loss: 0.64506 | test_accuracy: 0.49334 |  0:00:42s\n",
      "epoch 15 | loss: 0.64416 | test_accuracy: 0.50133 |  0:00:45s\n",
      "epoch 16 | loss: 0.63542 | test_accuracy: 0.49547 |  0:00:47s\n",
      "epoch 17 | loss: 0.63751 | test_accuracy: 0.4992  |  0:00:50s\n",
      "\n",
      "Early stopping occurred at epoch 17 with best_epoch = 7 and best_test_accuracy = 0.52797\n"
     ]
    },
    {
     "name": "stderr",
     "output_type": "stream",
     "text": [
      "/home/gonken/anaconda3/envs/torch/lib/python3.12/site-packages/pytorch_tabnet/callbacks.py:172: UserWarning: Best weights from best epoch are automatically used!\n",
      "  warnings.warn(wrn_msg)\n",
      "[I 2024-10-30 20:02:51,238] Trial 177 finished with value: 0.5279701651571657 and parameters: {'n_d': 52, 'n_a': 56, 'n_steps': 7, 'gamma': 1.517904223255065, 'lambda_sparse': 0.019506521526984885, 'learning_rate': 0.005298492190954903}. Best is trial 4 with value: 0.5359616409163559.\n",
      "/home/gonken/anaconda3/envs/torch/lib/python3.12/site-packages/pytorch_tabnet/abstract_model.py:82: UserWarning: Device used : cuda\n",
      "  warnings.warn(f\"Device used : {self.device}\")\n"
     ]
    },
    {
     "name": "stdout",
     "output_type": "stream",
     "text": [
      "epoch 0  | loss: 0.98038 | test_accuracy: 0.50133 |  0:00:03s\n",
      "epoch 1  | loss: 0.74047 | test_accuracy: 0.49334 |  0:00:06s\n",
      "epoch 2  | loss: 0.68701 | test_accuracy: 0.5008  |  0:00:08s\n",
      "epoch 3  | loss: 0.67242 | test_accuracy: 0.50346 |  0:00:11s\n",
      "epoch 4  | loss: 0.668   | test_accuracy: 0.48961 |  0:00:14s\n",
      "epoch 5  | loss: 0.66292 | test_accuracy: 0.49441 |  0:00:17s\n",
      "epoch 6  | loss: 0.65829 | test_accuracy: 0.49227 |  0:00:19s\n",
      "epoch 7  | loss: 0.66078 | test_accuracy: 0.49867 |  0:00:22s\n",
      "epoch 8  | loss: 0.65123 | test_accuracy: 0.496   |  0:00:25s\n",
      "epoch 9  | loss: 0.65236 | test_accuracy: 0.48908 |  0:00:27s\n",
      "epoch 10 | loss: 0.64846 | test_accuracy: 0.50613 |  0:00:30s\n",
      "epoch 11 | loss: 0.64652 | test_accuracy: 0.51252 |  0:00:33s\n",
      "epoch 12 | loss: 0.64805 | test_accuracy: 0.51518 |  0:00:36s\n",
      "epoch 13 | loss: 0.64614 | test_accuracy: 0.51092 |  0:00:38s\n",
      "epoch 14 | loss: 0.64684 | test_accuracy: 0.49867 |  0:00:41s\n",
      "epoch 15 | loss: 0.64337 | test_accuracy: 0.52104 |  0:00:44s\n",
      "epoch 16 | loss: 0.63961 | test_accuracy: 0.49654 |  0:00:47s\n",
      "epoch 17 | loss: 0.64018 | test_accuracy: 0.5269  |  0:00:49s\n",
      "epoch 18 | loss: 0.64323 | test_accuracy: 0.50613 |  0:00:52s\n",
      "epoch 19 | loss: 0.64171 | test_accuracy: 0.52158 |  0:00:55s\n",
      "epoch 20 | loss: 0.64025 | test_accuracy: 0.50559 |  0:00:58s\n",
      "epoch 21 | loss: 0.63599 | test_accuracy: 0.50293 |  0:01:01s\n",
      "epoch 22 | loss: 0.6347  | test_accuracy: 0.504   |  0:01:04s\n",
      "epoch 23 | loss: 0.63312 | test_accuracy: 0.51731 |  0:01:07s\n",
      "epoch 24 | loss: 0.63252 | test_accuracy: 0.51785 |  0:01:09s\n",
      "epoch 25 | loss: 0.63548 | test_accuracy: 0.51412 |  0:01:12s\n",
      "epoch 26 | loss: 0.63709 | test_accuracy: 0.51945 |  0:01:15s\n",
      "epoch 27 | loss: 0.63491 | test_accuracy: 0.50453 |  0:01:18s\n",
      "\n",
      "Early stopping occurred at epoch 27 with best_epoch = 17 and best_test_accuracy = 0.5269\n"
     ]
    },
    {
     "name": "stderr",
     "output_type": "stream",
     "text": [
      "/home/gonken/anaconda3/envs/torch/lib/python3.12/site-packages/pytorch_tabnet/callbacks.py:172: UserWarning: Best weights from best epoch are automatically used!\n",
      "  warnings.warn(wrn_msg)\n",
      "[I 2024-10-30 20:04:11,350] Trial 178 finished with value: 0.5269046350559403 and parameters: {'n_d': 53, 'n_a': 58, 'n_steps': 7, 'gamma': 1.4932609839178506, 'lambda_sparse': 0.01966175840738446, 'learning_rate': 0.009830975532379138}. Best is trial 4 with value: 0.5359616409163559.\n",
      "/home/gonken/anaconda3/envs/torch/lib/python3.12/site-packages/pytorch_tabnet/abstract_model.py:82: UserWarning: Device used : cuda\n",
      "  warnings.warn(f\"Device used : {self.device}\")\n"
     ]
    },
    {
     "name": "stdout",
     "output_type": "stream",
     "text": [
      "epoch 0  | loss: 1.03626 | test_accuracy: 0.49227 |  0:00:02s\n",
      "epoch 1  | loss: 0.7548  | test_accuracy: 0.49387 |  0:00:05s\n",
      "epoch 2  | loss: 0.7035  | test_accuracy: 0.50879 |  0:00:08s\n",
      "epoch 3  | loss: 0.67918 | test_accuracy: 0.5008  |  0:00:11s\n",
      "epoch 4  | loss: 0.67274 | test_accuracy: 0.51465 |  0:00:14s\n",
      "epoch 5  | loss: 0.67239 | test_accuracy: 0.50719 |  0:00:17s\n",
      "epoch 6  | loss: 0.6705  | test_accuracy: 0.49334 |  0:00:20s\n",
      "epoch 7  | loss: 0.66455 | test_accuracy: 0.49227 |  0:00:23s\n",
      "epoch 8  | loss: 0.6653  | test_accuracy: 0.48588 |  0:00:25s\n",
      "epoch 9  | loss: 0.66127 | test_accuracy: 0.49973 |  0:00:28s\n",
      "epoch 10 | loss: 0.66273 | test_accuracy: 0.51145 |  0:00:31s\n",
      "epoch 11 | loss: 0.6665  | test_accuracy: 0.49973 |  0:00:34s\n",
      "epoch 12 | loss: 0.66592 | test_accuracy: 0.51199 |  0:00:37s\n",
      "epoch 13 | loss: 0.66933 | test_accuracy: 0.504   |  0:00:39s\n",
      "epoch 14 | loss: 0.67114 | test_accuracy: 0.49334 |  0:00:42s\n",
      "\n",
      "Early stopping occurred at epoch 14 with best_epoch = 4 and best_test_accuracy = 0.51465\n"
     ]
    },
    {
     "name": "stderr",
     "output_type": "stream",
     "text": [
      "/home/gonken/anaconda3/envs/torch/lib/python3.12/site-packages/pytorch_tabnet/callbacks.py:172: UserWarning: Best weights from best epoch are automatically used!\n",
      "  warnings.warn(wrn_msg)\n",
      "[I 2024-10-30 20:04:55,395] Trial 179 finished with value: 0.5146510388918487 and parameters: {'n_d': 53, 'n_a': 56, 'n_steps': 7, 'gamma': 1.4334531198743616, 'lambda_sparse': 0.013285374097526828, 'learning_rate': 0.008398639744457231}. Best is trial 4 with value: 0.5359616409163559.\n",
      "/home/gonken/anaconda3/envs/torch/lib/python3.12/site-packages/pytorch_tabnet/abstract_model.py:82: UserWarning: Device used : cuda\n",
      "  warnings.warn(f\"Device used : {self.device}\")\n"
     ]
    },
    {
     "name": "stdout",
     "output_type": "stream",
     "text": [
      "epoch 0  | loss: 1.18973 | test_accuracy: 0.50133 |  0:00:02s\n",
      "epoch 1  | loss: 0.68969 | test_accuracy: 0.50773 |  0:00:05s\n",
      "epoch 2  | loss: 0.68269 | test_accuracy: 0.48855 |  0:00:08s\n",
      "epoch 3  | loss: 0.67684 | test_accuracy: 0.4976  |  0:00:11s\n",
      "epoch 4  | loss: 0.66689 | test_accuracy: 0.50986 |  0:00:13s\n",
      "epoch 5  | loss: 0.66199 | test_accuracy: 0.49281 |  0:00:16s\n",
      "epoch 6  | loss: 0.65378 | test_accuracy: 0.49441 |  0:00:19s\n",
      "epoch 7  | loss: 0.65004 | test_accuracy: 0.50879 |  0:00:21s\n",
      "epoch 8  | loss: 0.64904 | test_accuracy: 0.48482 |  0:00:24s\n",
      "epoch 9  | loss: 0.64664 | test_accuracy: 0.49174 |  0:00:27s\n",
      "epoch 10 | loss: 0.64779 | test_accuracy: 0.49281 |  0:00:29s\n",
      "epoch 11 | loss: 0.64305 | test_accuracy: 0.5024  |  0:00:32s\n",
      "epoch 12 | loss: 0.64093 | test_accuracy: 0.50027 |  0:00:35s\n",
      "epoch 13 | loss: 0.6398  | test_accuracy: 0.50559 |  0:00:38s\n",
      "epoch 14 | loss: 0.64288 | test_accuracy: 0.50559 |  0:00:41s\n",
      "\n",
      "Early stopping occurred at epoch 14 with best_epoch = 4 and best_test_accuracy = 0.50986\n"
     ]
    },
    {
     "name": "stderr",
     "output_type": "stream",
     "text": [
      "/home/gonken/anaconda3/envs/torch/lib/python3.12/site-packages/pytorch_tabnet/callbacks.py:172: UserWarning: Best weights from best epoch are automatically used!\n",
      "  warnings.warn(wrn_msg)\n",
      "[I 2024-10-30 20:05:37,788] Trial 180 finished with value: 0.5098561534363346 and parameters: {'n_d': 55, 'n_a': 58, 'n_steps': 7, 'gamma': 1.5227614430831176, 'lambda_sparse': 0.014896763482140776, 'learning_rate': 0.019837594569330437}. Best is trial 4 with value: 0.5359616409163559.\n",
      "/home/gonken/anaconda3/envs/torch/lib/python3.12/site-packages/pytorch_tabnet/abstract_model.py:82: UserWarning: Device used : cuda\n",
      "  warnings.warn(f\"Device used : {self.device}\")\n"
     ]
    },
    {
     "name": "stdout",
     "output_type": "stream",
     "text": [
      "epoch 0  | loss: 1.06896 | test_accuracy: 0.49227 |  0:00:02s\n",
      "epoch 1  | loss: 0.73192 | test_accuracy: 0.50613 |  0:00:05s\n",
      "epoch 2  | loss: 0.68565 | test_accuracy: 0.48908 |  0:00:08s\n",
      "epoch 3  | loss: 0.67309 | test_accuracy: 0.49441 |  0:00:11s\n",
      "epoch 4  | loss: 0.66609 | test_accuracy: 0.49654 |  0:00:13s\n",
      "epoch 5  | loss: 0.65383 | test_accuracy: 0.49441 |  0:00:16s\n",
      "epoch 6  | loss: 0.65286 | test_accuracy: 0.50133 |  0:00:19s\n",
      "epoch 7  | loss: 0.65122 | test_accuracy: 0.50133 |  0:00:22s\n",
      "epoch 8  | loss: 0.64544 | test_accuracy: 0.49174 |  0:00:25s\n",
      "epoch 9  | loss: 0.64176 | test_accuracy: 0.49867 |  0:00:28s\n",
      "epoch 10 | loss: 0.64372 | test_accuracy: 0.51199 |  0:00:31s\n",
      "epoch 11 | loss: 0.64406 | test_accuracy: 0.5008  |  0:00:33s\n",
      "epoch 12 | loss: 0.6412  | test_accuracy: 0.49654 |  0:00:36s\n",
      "epoch 13 | loss: 0.64448 | test_accuracy: 0.49014 |  0:00:39s\n",
      "epoch 14 | loss: 0.64195 | test_accuracy: 0.47949 |  0:00:42s\n",
      "epoch 15 | loss: 0.64245 | test_accuracy: 0.49654 |  0:00:45s\n",
      "epoch 16 | loss: 0.64072 | test_accuracy: 0.5024  |  0:00:48s\n",
      "epoch 17 | loss: 0.64426 | test_accuracy: 0.49281 |  0:00:50s\n",
      "epoch 18 | loss: 0.63868 | test_accuracy: 0.50773 |  0:00:53s\n",
      "epoch 19 | loss: 0.63699 | test_accuracy: 0.49867 |  0:00:56s\n",
      "epoch 20 | loss: 0.63389 | test_accuracy: 0.49547 |  0:00:59s\n",
      "\n",
      "Early stopping occurred at epoch 20 with best_epoch = 10 and best_test_accuracy = 0.51199\n"
     ]
    },
    {
     "name": "stderr",
     "output_type": "stream",
     "text": [
      "/home/gonken/anaconda3/envs/torch/lib/python3.12/site-packages/pytorch_tabnet/callbacks.py:172: UserWarning: Best weights from best epoch are automatically used!\n",
      "  warnings.warn(wrn_msg)\n",
      "[I 2024-10-30 20:06:38,219] Trial 181 finished with value: 0.5119872136387853 and parameters: {'n_d': 52, 'n_a': 56, 'n_steps': 7, 'gamma': 1.4791662300510093, 'lambda_sparse': 0.019953965856009708, 'learning_rate': 0.011026241010784673}. Best is trial 4 with value: 0.5359616409163559.\n",
      "/home/gonken/anaconda3/envs/torch/lib/python3.12/site-packages/pytorch_tabnet/abstract_model.py:82: UserWarning: Device used : cuda\n",
      "  warnings.warn(f\"Device used : {self.device}\")\n"
     ]
    },
    {
     "name": "stdout",
     "output_type": "stream",
     "text": [
      "epoch 0  | loss: 1.24141 | test_accuracy: 0.504   |  0:00:02s\n",
      "epoch 1  | loss: 0.91256 | test_accuracy: 0.51838 |  0:00:05s\n",
      "epoch 2  | loss: 0.77772 | test_accuracy: 0.51518 |  0:00:07s\n",
      "epoch 3  | loss: 0.71281 | test_accuracy: 0.49814 |  0:00:10s\n",
      "epoch 4  | loss: 0.68334 | test_accuracy: 0.49654 |  0:00:13s\n",
      "epoch 5  | loss: 0.67354 | test_accuracy: 0.48961 |  0:00:16s\n",
      "epoch 6  | loss: 0.67246 | test_accuracy: 0.50133 |  0:00:19s\n",
      "epoch 7  | loss: 0.66162 | test_accuracy: 0.49227 |  0:00:22s\n",
      "epoch 8  | loss: 0.66308 | test_accuracy: 0.50559 |  0:00:24s\n",
      "epoch 9  | loss: 0.65911 | test_accuracy: 0.50932 |  0:00:27s\n",
      "epoch 10 | loss: 0.65397 | test_accuracy: 0.49654 |  0:00:30s\n",
      "epoch 11 | loss: 0.65549 | test_accuracy: 0.50506 |  0:00:33s\n",
      "\n",
      "Early stopping occurred at epoch 11 with best_epoch = 1 and best_test_accuracy = 0.51838\n"
     ]
    },
    {
     "name": "stderr",
     "output_type": "stream",
     "text": [
      "/home/gonken/anaconda3/envs/torch/lib/python3.12/site-packages/pytorch_tabnet/callbacks.py:172: UserWarning: Best weights from best epoch are automatically used!\n",
      "  warnings.warn(wrn_msg)\n",
      "[I 2024-10-30 20:07:12,759] Trial 182 finished with value: 0.5183803942461375 and parameters: {'n_d': 54, 'n_a': 59, 'n_steps': 7, 'gamma': 1.564615596450095, 'lambda_sparse': 0.018219184990371003, 'learning_rate': 0.005979187520841855}. Best is trial 4 with value: 0.5359616409163559.\n",
      "/home/gonken/anaconda3/envs/torch/lib/python3.12/site-packages/pytorch_tabnet/abstract_model.py:82: UserWarning: Device used : cuda\n",
      "  warnings.warn(f\"Device used : {self.device}\")\n"
     ]
    },
    {
     "name": "stdout",
     "output_type": "stream",
     "text": [
      "epoch 0  | loss: 1.04514 | test_accuracy: 0.49867 |  0:00:02s\n",
      "epoch 1  | loss: 0.83563 | test_accuracy: 0.50932 |  0:00:05s\n",
      "epoch 2  | loss: 0.81999 | test_accuracy: 0.49227 |  0:00:08s\n",
      "epoch 3  | loss: 0.81065 | test_accuracy: 0.50346 |  0:00:11s\n",
      "epoch 4  | loss: 0.76341 | test_accuracy: 0.51678 |  0:00:14s\n",
      "epoch 5  | loss: 0.7395  | test_accuracy: 0.504   |  0:00:17s\n",
      "epoch 6  | loss: 0.71961 | test_accuracy: 0.5024  |  0:00:20s\n",
      "epoch 7  | loss: 0.72049 | test_accuracy: 0.50186 |  0:00:22s\n",
      "epoch 8  | loss: 0.6971  | test_accuracy: 0.49227 |  0:00:25s\n",
      "epoch 9  | loss: 0.68651 | test_accuracy: 0.49281 |  0:00:28s\n",
      "epoch 10 | loss: 0.68283 | test_accuracy: 0.51625 |  0:00:30s\n",
      "epoch 11 | loss: 0.67791 | test_accuracy: 0.50932 |  0:00:33s\n",
      "epoch 12 | loss: 0.66869 | test_accuracy: 0.48641 |  0:00:36s\n",
      "epoch 13 | loss: 0.6686  | test_accuracy: 0.51145 |  0:00:39s\n",
      "epoch 14 | loss: 0.6675  | test_accuracy: 0.49867 |  0:00:41s\n",
      "\n",
      "Early stopping occurred at epoch 14 with best_epoch = 4 and best_test_accuracy = 0.51678\n"
     ]
    },
    {
     "name": "stderr",
     "output_type": "stream",
     "text": [
      "/home/gonken/anaconda3/envs/torch/lib/python3.12/site-packages/pytorch_tabnet/callbacks.py:172: UserWarning: Best weights from best epoch are automatically used!\n",
      "  warnings.warn(wrn_msg)\n",
      "[I 2024-10-30 20:07:55,954] Trial 183 finished with value: 0.5167820990942994 and parameters: {'n_d': 51, 'n_a': 57, 'n_steps': 7, 'gamma': 1.396418780781648, 'lambda_sparse': 0.01916299529772897, 'learning_rate': 0.002202722842606433}. Best is trial 4 with value: 0.5359616409163559.\n",
      "/home/gonken/anaconda3/envs/torch/lib/python3.12/site-packages/pytorch_tabnet/abstract_model.py:82: UserWarning: Device used : cuda\n",
      "  warnings.warn(f\"Device used : {self.device}\")\n"
     ]
    },
    {
     "name": "stdout",
     "output_type": "stream",
     "text": [
      "epoch 0  | loss: 1.53641 | test_accuracy: 0.50346 |  0:00:02s\n",
      "epoch 1  | loss: 0.80594 | test_accuracy: 0.50719 |  0:00:05s\n",
      "epoch 2  | loss: 0.76126 | test_accuracy: 0.51039 |  0:00:08s\n",
      "epoch 3  | loss: 0.72851 | test_accuracy: 0.504   |  0:00:11s\n",
      "epoch 4  | loss: 0.70875 | test_accuracy: 0.49014 |  0:00:14s\n",
      "epoch 5  | loss: 0.69002 | test_accuracy: 0.50453 |  0:00:17s\n",
      "epoch 6  | loss: 0.68502 | test_accuracy: 0.51412 |  0:00:20s\n",
      "epoch 7  | loss: 0.66333 | test_accuracy: 0.5024  |  0:00:22s\n",
      "epoch 8  | loss: 0.66617 | test_accuracy: 0.49654 |  0:00:25s\n",
      "epoch 9  | loss: 0.65943 | test_accuracy: 0.49121 |  0:00:27s\n",
      "epoch 10 | loss: 0.65405 | test_accuracy: 0.49867 |  0:00:30s\n",
      "epoch 11 | loss: 0.65358 | test_accuracy: 0.50719 |  0:00:33s\n",
      "epoch 12 | loss: 0.65206 | test_accuracy: 0.48482 |  0:00:35s\n",
      "epoch 13 | loss: 0.6464  | test_accuracy: 0.49973 |  0:00:38s\n",
      "epoch 14 | loss: 0.6483  | test_accuracy: 0.50666 |  0:00:40s\n",
      "epoch 15 | loss: 0.64941 | test_accuracy: 0.504   |  0:00:43s\n",
      "epoch 16 | loss: 0.64653 | test_accuracy: 0.50186 |  0:00:46s\n",
      "\n",
      "Early stopping occurred at epoch 16 with best_epoch = 6 and best_test_accuracy = 0.51412\n"
     ]
    },
    {
     "name": "stderr",
     "output_type": "stream",
     "text": [
      "/home/gonken/anaconda3/envs/torch/lib/python3.12/site-packages/pytorch_tabnet/callbacks.py:172: UserWarning: Best weights from best epoch are automatically used!\n",
      "  warnings.warn(wrn_msg)\n",
      "[I 2024-10-30 20:08:43,990] Trial 184 finished with value: 0.514118273841236 and parameters: {'n_d': 52, 'n_a': 52, 'n_steps': 7, 'gamma': 1.5145660386135222, 'lambda_sparse': 0.015533653133834677, 'learning_rate': 0.0036969145391263047}. Best is trial 4 with value: 0.5359616409163559.\n",
      "/home/gonken/anaconda3/envs/torch/lib/python3.12/site-packages/pytorch_tabnet/abstract_model.py:82: UserWarning: Device used : cuda\n",
      "  warnings.warn(f\"Device used : {self.device}\")\n"
     ]
    },
    {
     "name": "stdout",
     "output_type": "stream",
     "text": [
      "epoch 0  | loss: 1.40458 | test_accuracy: 0.4992  |  0:00:02s\n",
      "epoch 1  | loss: 0.81754 | test_accuracy: 0.49227 |  0:00:05s\n",
      "epoch 2  | loss: 0.81045 | test_accuracy: 0.50293 |  0:00:07s\n",
      "epoch 3  | loss: 0.7776  | test_accuracy: 0.51785 |  0:00:10s\n",
      "epoch 4  | loss: 0.74936 | test_accuracy: 0.51252 |  0:00:13s\n",
      "epoch 5  | loss: 0.73077 | test_accuracy: 0.49174 |  0:00:16s\n",
      "epoch 6  | loss: 0.72676 | test_accuracy: 0.504   |  0:00:19s\n",
      "epoch 7  | loss: 0.71404 | test_accuracy: 0.49387 |  0:00:22s\n",
      "epoch 8  | loss: 0.70805 | test_accuracy: 0.50932 |  0:00:25s\n",
      "epoch 9  | loss: 0.69774 | test_accuracy: 0.49121 |  0:00:27s\n",
      "epoch 10 | loss: 0.70129 | test_accuracy: 0.49281 |  0:00:30s\n",
      "epoch 11 | loss: 0.68212 | test_accuracy: 0.51039 |  0:00:33s\n",
      "epoch 12 | loss: 0.67381 | test_accuracy: 0.50932 |  0:00:36s\n",
      "epoch 13 | loss: 0.67598 | test_accuracy: 0.48695 |  0:00:39s\n",
      "\n",
      "Early stopping occurred at epoch 13 with best_epoch = 3 and best_test_accuracy = 0.51785\n"
     ]
    },
    {
     "name": "stderr",
     "output_type": "stream",
     "text": [
      "/home/gonken/anaconda3/envs/torch/lib/python3.12/site-packages/pytorch_tabnet/callbacks.py:172: UserWarning: Best weights from best epoch are automatically used!\n",
      "  warnings.warn(wrn_msg)\n",
      "[I 2024-10-30 20:09:24,402] Trial 185 finished with value: 0.5178476291955247 and parameters: {'n_d': 50, 'n_a': 59, 'n_steps': 7, 'gamma': 1.4940031661295363, 'lambda_sparse': 0.013306323322031853, 'learning_rate': 0.001757908233565816}. Best is trial 4 with value: 0.5359616409163559.\n",
      "/home/gonken/anaconda3/envs/torch/lib/python3.12/site-packages/pytorch_tabnet/abstract_model.py:82: UserWarning: Device used : cuda\n",
      "  warnings.warn(f\"Device used : {self.device}\")\n"
     ]
    },
    {
     "name": "stdout",
     "output_type": "stream",
     "text": [
      "epoch 0  | loss: 1.00582 | test_accuracy: 0.52051 |  0:00:02s\n",
      "epoch 1  | loss: 0.80294 | test_accuracy: 0.48908 |  0:00:05s\n",
      "epoch 2  | loss: 0.73371 | test_accuracy: 0.49014 |  0:00:08s\n",
      "epoch 3  | loss: 0.68661 | test_accuracy: 0.50506 |  0:00:11s\n",
      "epoch 4  | loss: 0.67339 | test_accuracy: 0.49973 |  0:00:14s\n",
      "epoch 5  | loss: 0.66624 | test_accuracy: 0.48215 |  0:00:16s\n",
      "epoch 6  | loss: 0.66401 | test_accuracy: 0.49654 |  0:00:19s\n",
      "epoch 7  | loss: 0.66116 | test_accuracy: 0.49867 |  0:00:22s\n",
      "epoch 8  | loss: 0.65546 | test_accuracy: 0.51678 |  0:00:25s\n",
      "epoch 9  | loss: 0.65065 | test_accuracy: 0.51092 |  0:00:28s\n",
      "epoch 10 | loss: 0.64105 | test_accuracy: 0.51199 |  0:00:30s\n",
      "\n",
      "Early stopping occurred at epoch 10 with best_epoch = 0 and best_test_accuracy = 0.52051\n"
     ]
    },
    {
     "name": "stderr",
     "output_type": "stream",
     "text": [
      "/home/gonken/anaconda3/envs/torch/lib/python3.12/site-packages/pytorch_tabnet/callbacks.py:172: UserWarning: Best weights from best epoch are automatically used!\n",
      "  warnings.warn(wrn_msg)\n",
      "[I 2024-10-30 20:09:56,635] Trial 186 finished with value: 0.5205114544485882 and parameters: {'n_d': 54, 'n_a': 60, 'n_steps': 7, 'gamma': 1.547173277957342, 'lambda_sparse': 0.021099669705018448, 'learning_rate': 0.005044925176466862}. Best is trial 4 with value: 0.5359616409163559.\n",
      "/home/gonken/anaconda3/envs/torch/lib/python3.12/site-packages/pytorch_tabnet/abstract_model.py:82: UserWarning: Device used : cuda\n",
      "  warnings.warn(f\"Device used : {self.device}\")\n"
     ]
    },
    {
     "name": "stdout",
     "output_type": "stream",
     "text": [
      "epoch 0  | loss: 1.21373 | test_accuracy: 0.50932 |  0:00:02s\n",
      "epoch 1  | loss: 0.80133 | test_accuracy: 0.51092 |  0:00:05s\n",
      "epoch 2  | loss: 0.72544 | test_accuracy: 0.50186 |  0:00:08s\n",
      "epoch 3  | loss: 0.68809 | test_accuracy: 0.51199 |  0:00:11s\n",
      "epoch 4  | loss: 0.67874 | test_accuracy: 0.47949 |  0:00:14s\n",
      "epoch 5  | loss: 0.66886 | test_accuracy: 0.50559 |  0:00:17s\n",
      "epoch 6  | loss: 0.67237 | test_accuracy: 0.51092 |  0:00:19s\n",
      "epoch 7  | loss: 0.66847 | test_accuracy: 0.5024  |  0:00:22s\n",
      "epoch 8  | loss: 0.66701 | test_accuracy: 0.51785 |  0:00:25s\n",
      "epoch 9  | loss: 0.67019 | test_accuracy: 0.50506 |  0:00:28s\n",
      "epoch 10 | loss: 0.66642 | test_accuracy: 0.49814 |  0:00:31s\n",
      "epoch 11 | loss: 0.66389 | test_accuracy: 0.51039 |  0:00:33s\n",
      "epoch 12 | loss: 0.65862 | test_accuracy: 0.49121 |  0:00:36s\n",
      "epoch 13 | loss: 0.65715 | test_accuracy: 0.4992  |  0:00:39s\n",
      "epoch 14 | loss: 0.65722 | test_accuracy: 0.49867 |  0:00:41s\n",
      "epoch 15 | loss: 0.65882 | test_accuracy: 0.48322 |  0:00:45s\n",
      "epoch 16 | loss: 0.65882 | test_accuracy: 0.49281 |  0:00:47s\n",
      "epoch 17 | loss: 0.65786 | test_accuracy: 0.48961 |  0:00:50s\n",
      "epoch 18 | loss: 0.65684 | test_accuracy: 0.51252 |  0:00:53s\n",
      "\n",
      "Early stopping occurred at epoch 18 with best_epoch = 8 and best_test_accuracy = 0.51785\n"
     ]
    },
    {
     "name": "stderr",
     "output_type": "stream",
     "text": [
      "/home/gonken/anaconda3/envs/torch/lib/python3.12/site-packages/pytorch_tabnet/callbacks.py:172: UserWarning: Best weights from best epoch are automatically used!\n",
      "  warnings.warn(wrn_msg)\n",
      "[I 2024-10-30 20:10:51,478] Trial 187 finished with value: 0.5178476291955247 and parameters: {'n_d': 48, 'n_a': 62, 'n_steps': 7, 'gamma': 1.584255052711501, 'lambda_sparse': 0.05471857384137123, 'learning_rate': 0.009913594121468916}. Best is trial 4 with value: 0.5359616409163559.\n",
      "/home/gonken/anaconda3/envs/torch/lib/python3.12/site-packages/pytorch_tabnet/abstract_model.py:82: UserWarning: Device used : cuda\n",
      "  warnings.warn(f\"Device used : {self.device}\")\n"
     ]
    },
    {
     "name": "stdout",
     "output_type": "stream",
     "text": [
      "epoch 0  | loss: 1.32963 | test_accuracy: 0.51731 |  0:00:02s\n",
      "epoch 1  | loss: 0.87764 | test_accuracy: 0.49973 |  0:00:05s\n",
      "epoch 2  | loss: 0.83974 | test_accuracy: 0.50773 |  0:00:08s\n",
      "epoch 3  | loss: 0.76309 | test_accuracy: 0.50559 |  0:00:11s\n",
      "epoch 4  | loss: 0.74398 | test_accuracy: 0.48748 |  0:00:14s\n",
      "epoch 5  | loss: 0.70602 | test_accuracy: 0.49334 |  0:00:17s\n",
      "epoch 6  | loss: 0.68963 | test_accuracy: 0.50986 |  0:00:19s\n",
      "epoch 7  | loss: 0.68129 | test_accuracy: 0.51145 |  0:00:22s\n",
      "epoch 8  | loss: 0.67719 | test_accuracy: 0.51678 |  0:00:25s\n",
      "epoch 9  | loss: 0.67455 | test_accuracy: 0.48908 |  0:00:28s\n",
      "epoch 10 | loss: 0.66783 | test_accuracy: 0.5024  |  0:00:31s\n",
      "\n",
      "Early stopping occurred at epoch 10 with best_epoch = 0 and best_test_accuracy = 0.51731\n"
     ]
    },
    {
     "name": "stderr",
     "output_type": "stream",
     "text": [
      "/home/gonken/anaconda3/envs/torch/lib/python3.12/site-packages/pytorch_tabnet/callbacks.py:172: UserWarning: Best weights from best epoch are automatically used!\n",
      "  warnings.warn(wrn_msg)\n",
      "[I 2024-10-30 20:11:24,341] Trial 188 finished with value: 0.5173148641449121 and parameters: {'n_d': 56, 'n_a': 58, 'n_steps': 7, 'gamma': 1.5288446727449236, 'lambda_sparse': 0.09386018582131277, 'learning_rate': 0.00316885648983733}. Best is trial 4 with value: 0.5359616409163559.\n",
      "/home/gonken/anaconda3/envs/torch/lib/python3.12/site-packages/pytorch_tabnet/abstract_model.py:82: UserWarning: Device used : cuda\n",
      "  warnings.warn(f\"Device used : {self.device}\")\n"
     ]
    },
    {
     "name": "stdout",
     "output_type": "stream",
     "text": [
      "epoch 0  | loss: 1.40822 | test_accuracy: 0.51465 |  0:00:03s\n",
      "epoch 1  | loss: 0.89453 | test_accuracy: 0.50879 |  0:00:06s\n",
      "epoch 2  | loss: 0.81283 | test_accuracy: 0.4976  |  0:00:09s\n",
      "epoch 3  | loss: 0.79765 | test_accuracy: 0.49547 |  0:00:12s\n",
      "epoch 4  | loss: 0.78423 | test_accuracy: 0.48482 |  0:00:16s\n",
      "epoch 5  | loss: 0.75395 | test_accuracy: 0.49494 |  0:00:19s\n",
      "epoch 6  | loss: 0.73566 | test_accuracy: 0.50559 |  0:00:22s\n",
      "epoch 7  | loss: 0.71597 | test_accuracy: 0.50773 |  0:00:25s\n",
      "epoch 8  | loss: 0.70211 | test_accuracy: 0.52797 |  0:00:29s\n",
      "epoch 9  | loss: 0.70383 | test_accuracy: 0.50719 |  0:00:32s\n",
      "epoch 10 | loss: 0.68452 | test_accuracy: 0.51145 |  0:00:35s\n",
      "epoch 11 | loss: 0.68633 | test_accuracy: 0.50719 |  0:00:38s\n",
      "epoch 12 | loss: 0.66612 | test_accuracy: 0.49227 |  0:00:41s\n",
      "epoch 13 | loss: 0.66248 | test_accuracy: 0.48269 |  0:00:44s\n",
      "epoch 14 | loss: 0.66397 | test_accuracy: 0.48641 |  0:00:48s\n",
      "epoch 15 | loss: 0.66195 | test_accuracy: 0.50986 |  0:00:51s\n",
      "epoch 16 | loss: 0.66033 | test_accuracy: 0.49654 |  0:00:54s\n",
      "epoch 17 | loss: 0.66316 | test_accuracy: 0.49547 |  0:00:57s\n",
      "epoch 18 | loss: 0.65859 | test_accuracy: 0.50186 |  0:01:01s\n",
      "\n",
      "Early stopping occurred at epoch 18 with best_epoch = 8 and best_test_accuracy = 0.52797\n"
     ]
    },
    {
     "name": "stderr",
     "output_type": "stream",
     "text": [
      "/home/gonken/anaconda3/envs/torch/lib/python3.12/site-packages/pytorch_tabnet/callbacks.py:172: UserWarning: Best weights from best epoch are automatically used!\n",
      "  warnings.warn(wrn_msg)\n",
      "[I 2024-10-30 20:12:27,054] Trial 189 finished with value: 0.5279701651571657 and parameters: {'n_d': 50, 'n_a': 55, 'n_steps': 9, 'gamma': 1.8431499694083495, 'lambda_sparse': 0.05084185224335284, 'learning_rate': 0.0024421178475057875}. Best is trial 4 with value: 0.5359616409163559.\n",
      "/home/gonken/anaconda3/envs/torch/lib/python3.12/site-packages/pytorch_tabnet/abstract_model.py:82: UserWarning: Device used : cuda\n",
      "  warnings.warn(f\"Device used : {self.device}\")\n"
     ]
    },
    {
     "name": "stdout",
     "output_type": "stream",
     "text": [
      "epoch 0  | loss: 1.56157 | test_accuracy: 0.50719 |  0:00:03s\n",
      "epoch 1  | loss: 0.85945 | test_accuracy: 0.49707 |  0:00:06s\n",
      "epoch 2  | loss: 0.70466 | test_accuracy: 0.49973 |  0:00:09s\n",
      "epoch 3  | loss: 0.68117 | test_accuracy: 0.49867 |  0:00:12s\n",
      "epoch 4  | loss: 0.68084 | test_accuracy: 0.51572 |  0:00:16s\n",
      "epoch 5  | loss: 0.67435 | test_accuracy: 0.49973 |  0:00:19s\n",
      "epoch 6  | loss: 0.67469 | test_accuracy: 0.50027 |  0:00:22s\n",
      "epoch 7  | loss: 0.66965 | test_accuracy: 0.496   |  0:00:25s\n",
      "epoch 8  | loss: 0.65949 | test_accuracy: 0.496   |  0:00:28s\n",
      "epoch 9  | loss: 0.65304 | test_accuracy: 0.50613 |  0:00:32s\n",
      "epoch 10 | loss: 0.65039 | test_accuracy: 0.5008  |  0:00:35s\n",
      "epoch 11 | loss: 0.64508 | test_accuracy: 0.50346 |  0:00:38s\n",
      "epoch 12 | loss: 0.64215 | test_accuracy: 0.49867 |  0:00:41s\n",
      "epoch 13 | loss: 0.63892 | test_accuracy: 0.48855 |  0:00:45s\n",
      "epoch 14 | loss: 0.63829 | test_accuracy: 0.5024  |  0:00:48s\n",
      "\n",
      "Early stopping occurred at epoch 14 with best_epoch = 4 and best_test_accuracy = 0.51572\n"
     ]
    },
    {
     "name": "stderr",
     "output_type": "stream",
     "text": [
      "/home/gonken/anaconda3/envs/torch/lib/python3.12/site-packages/pytorch_tabnet/callbacks.py:172: UserWarning: Best weights from best epoch are automatically used!\n",
      "  warnings.warn(wrn_msg)\n",
      "[I 2024-10-30 20:13:17,143] Trial 190 finished with value: 0.515716568993074 and parameters: {'n_d': 51, 'n_a': 55, 'n_steps': 9, 'gamma': 1.7926712441799577, 'lambda_sparse': 0.02225473605442473, 'learning_rate': 0.014882039764518577}. Best is trial 4 with value: 0.5359616409163559.\n",
      "/home/gonken/anaconda3/envs/torch/lib/python3.12/site-packages/pytorch_tabnet/abstract_model.py:82: UserWarning: Device used : cuda\n",
      "  warnings.warn(f\"Device used : {self.device}\")\n"
     ]
    },
    {
     "name": "stdout",
     "output_type": "stream",
     "text": [
      "epoch 0  | loss: 1.18347 | test_accuracy: 0.50826 |  0:00:03s\n",
      "epoch 1  | loss: 0.86049 | test_accuracy: 0.51092 |  0:00:06s\n",
      "epoch 2  | loss: 0.82348 | test_accuracy: 0.49227 |  0:00:10s\n",
      "epoch 3  | loss: 0.75645 | test_accuracy: 0.51891 |  0:00:13s\n",
      "epoch 4  | loss: 0.74326 | test_accuracy: 0.51945 |  0:00:16s\n",
      "epoch 5  | loss: 0.71835 | test_accuracy: 0.496   |  0:00:20s\n",
      "epoch 6  | loss: 0.69032 | test_accuracy: 0.49014 |  0:00:23s\n",
      "epoch 7  | loss: 0.69662 | test_accuracy: 0.50719 |  0:00:26s\n",
      "epoch 8  | loss: 0.67773 | test_accuracy: 0.49814 |  0:00:30s\n",
      "epoch 9  | loss: 0.67005 | test_accuracy: 0.5008  |  0:00:33s\n",
      "epoch 10 | loss: 0.66649 | test_accuracy: 0.4976  |  0:00:36s\n",
      "epoch 11 | loss: 0.66471 | test_accuracy: 0.4976  |  0:00:39s\n",
      "epoch 12 | loss: 0.66491 | test_accuracy: 0.49334 |  0:00:42s\n",
      "epoch 13 | loss: 0.66056 | test_accuracy: 0.50666 |  0:00:46s\n",
      "epoch 14 | loss: 0.66021 | test_accuracy: 0.50027 |  0:00:49s\n",
      "\n",
      "Early stopping occurred at epoch 14 with best_epoch = 4 and best_test_accuracy = 0.51945\n"
     ]
    },
    {
     "name": "stderr",
     "output_type": "stream",
     "text": [
      "/home/gonken/anaconda3/envs/torch/lib/python3.12/site-packages/pytorch_tabnet/callbacks.py:172: UserWarning: Best weights from best epoch are automatically used!\n",
      "  warnings.warn(wrn_msg)\n",
      "[I 2024-10-30 20:14:08,200] Trial 191 finished with value: 0.5194459243473628 and parameters: {'n_d': 53, 'n_a': 56, 'n_steps': 9, 'gamma': 1.9184936199712466, 'lambda_sparse': 0.05121689931469784, 'learning_rate': 0.002516822161299619}. Best is trial 4 with value: 0.5359616409163559.\n",
      "/home/gonken/anaconda3/envs/torch/lib/python3.12/site-packages/pytorch_tabnet/abstract_model.py:82: UserWarning: Device used : cuda\n",
      "  warnings.warn(f\"Device used : {self.device}\")\n"
     ]
    },
    {
     "name": "stdout",
     "output_type": "stream",
     "text": [
      "epoch 0  | loss: 1.65622 | test_accuracy: 0.51465 |  0:00:03s\n",
      "epoch 1  | loss: 0.90468 | test_accuracy: 0.50666 |  0:00:06s\n",
      "epoch 2  | loss: 0.84344 | test_accuracy: 0.52211 |  0:00:10s\n",
      "epoch 3  | loss: 0.79546 | test_accuracy: 0.49494 |  0:00:13s\n",
      "epoch 4  | loss: 0.79935 | test_accuracy: 0.51305 |  0:00:16s\n",
      "epoch 5  | loss: 0.76732 | test_accuracy: 0.50506 |  0:00:19s\n",
      "epoch 6  | loss: 0.74866 | test_accuracy: 0.50346 |  0:00:22s\n",
      "epoch 7  | loss: 0.74047 | test_accuracy: 0.50506 |  0:00:26s\n",
      "epoch 8  | loss: 0.73576 | test_accuracy: 0.48002 |  0:00:29s\n",
      "epoch 9  | loss: 0.70855 | test_accuracy: 0.5008  |  0:00:32s\n",
      "epoch 10 | loss: 0.7103  | test_accuracy: 0.50346 |  0:00:36s\n",
      "epoch 11 | loss: 0.70127 | test_accuracy: 0.50453 |  0:00:39s\n",
      "epoch 12 | loss: 0.69664 | test_accuracy: 0.51252 |  0:00:42s\n",
      "\n",
      "Early stopping occurred at epoch 12 with best_epoch = 2 and best_test_accuracy = 0.52211\n"
     ]
    },
    {
     "name": "stderr",
     "output_type": "stream",
     "text": [
      "/home/gonken/anaconda3/envs/torch/lib/python3.12/site-packages/pytorch_tabnet/callbacks.py:172: UserWarning: Best weights from best epoch are automatically used!\n",
      "  warnings.warn(wrn_msg)\n",
      "[I 2024-10-30 20:14:52,537] Trial 192 finished with value: 0.5221097496004262 and parameters: {'n_d': 50, 'n_a': 55, 'n_steps': 9, 'gamma': 1.5740469788539668, 'lambda_sparse': 0.04943202224913362, 'learning_rate': 0.0015827507413165886}. Best is trial 4 with value: 0.5359616409163559.\n",
      "/home/gonken/anaconda3/envs/torch/lib/python3.12/site-packages/pytorch_tabnet/abstract_model.py:82: UserWarning: Device used : cuda\n",
      "  warnings.warn(f\"Device used : {self.device}\")\n"
     ]
    },
    {
     "name": "stdout",
     "output_type": "stream",
     "text": [
      "epoch 0  | loss: 1.12927 | test_accuracy: 0.50932 |  0:00:03s\n",
      "epoch 1  | loss: 0.86493 | test_accuracy: 0.49654 |  0:00:06s\n",
      "epoch 2  | loss: 0.77333 | test_accuracy: 0.49068 |  0:00:10s\n",
      "epoch 3  | loss: 0.72422 | test_accuracy: 0.50773 |  0:00:13s\n",
      "epoch 4  | loss: 0.70919 | test_accuracy: 0.48801 |  0:00:16s\n",
      "epoch 5  | loss: 0.68338 | test_accuracy: 0.52531 |  0:00:19s\n",
      "epoch 6  | loss: 0.68298 | test_accuracy: 0.50453 |  0:00:22s\n",
      "epoch 7  | loss: 0.67194 | test_accuracy: 0.504   |  0:00:25s\n",
      "epoch 8  | loss: 0.66795 | test_accuracy: 0.51891 |  0:00:29s\n",
      "epoch 9  | loss: 0.66409 | test_accuracy: 0.5008  |  0:00:32s\n",
      "epoch 10 | loss: 0.65597 | test_accuracy: 0.51039 |  0:00:35s\n",
      "epoch 11 | loss: 0.65562 | test_accuracy: 0.51359 |  0:00:38s\n",
      "epoch 12 | loss: 0.65201 | test_accuracy: 0.49867 |  0:00:41s\n",
      "epoch 13 | loss: 0.6485  | test_accuracy: 0.5008  |  0:00:45s\n",
      "epoch 14 | loss: 0.64321 | test_accuracy: 0.4976  |  0:00:48s\n",
      "epoch 15 | loss: 0.64329 | test_accuracy: 0.4992  |  0:00:51s\n",
      "\n",
      "Early stopping occurred at epoch 15 with best_epoch = 5 and best_test_accuracy = 0.52531\n"
     ]
    },
    {
     "name": "stderr",
     "output_type": "stream",
     "text": [
      "/home/gonken/anaconda3/envs/torch/lib/python3.12/site-packages/pytorch_tabnet/callbacks.py:172: UserWarning: Best weights from best epoch are automatically used!\n",
      "  warnings.warn(wrn_msg)\n",
      "[I 2024-10-30 20:15:45,786] Trial 193 finished with value: 0.5253063399041022 and parameters: {'n_d': 49, 'n_a': 57, 'n_steps': 9, 'gamma': 1.542204536743962, 'lambda_sparse': 0.05310078963570425, 'learning_rate': 0.00444765921390753}. Best is trial 4 with value: 0.5359616409163559.\n",
      "/home/gonken/anaconda3/envs/torch/lib/python3.12/site-packages/pytorch_tabnet/abstract_model.py:82: UserWarning: Device used : cuda\n",
      "  warnings.warn(f\"Device used : {self.device}\")\n"
     ]
    },
    {
     "name": "stdout",
     "output_type": "stream",
     "text": [
      "epoch 0  | loss: 1.19037 | test_accuracy: 0.51572 |  0:00:03s\n",
      "epoch 1  | loss: 0.83612 | test_accuracy: 0.50559 |  0:00:06s\n",
      "epoch 2  | loss: 0.81702 | test_accuracy: 0.504   |  0:00:09s\n",
      "epoch 3  | loss: 0.80851 | test_accuracy: 0.50719 |  0:00:12s\n",
      "epoch 4  | loss: 0.77013 | test_accuracy: 0.50186 |  0:00:16s\n",
      "epoch 5  | loss: 0.76379 | test_accuracy: 0.50293 |  0:00:19s\n",
      "epoch 6  | loss: 0.7313  | test_accuracy: 0.50719 |  0:00:22s\n",
      "epoch 7  | loss: 0.71527 | test_accuracy: 0.50186 |  0:00:26s\n",
      "epoch 8  | loss: 0.71106 | test_accuracy: 0.51092 |  0:00:29s\n",
      "epoch 9  | loss: 0.69728 | test_accuracy: 0.50559 |  0:00:32s\n",
      "epoch 10 | loss: 0.68716 | test_accuracy: 0.49387 |  0:00:36s\n",
      "\n",
      "Early stopping occurred at epoch 10 with best_epoch = 0 and best_test_accuracy = 0.51572\n"
     ]
    },
    {
     "name": "stderr",
     "output_type": "stream",
     "text": [
      "/home/gonken/anaconda3/envs/torch/lib/python3.12/site-packages/pytorch_tabnet/callbacks.py:172: UserWarning: Best weights from best epoch are automatically used!\n",
      "  warnings.warn(wrn_msg)\n",
      "[I 2024-10-30 20:16:23,633] Trial 194 finished with value: 0.515716568993074 and parameters: {'n_d': 50, 'n_a': 53, 'n_steps': 9, 'gamma': 1.888984767061447, 'lambda_sparse': 0.05840458609176608, 'learning_rate': 0.002141699037576375}. Best is trial 4 with value: 0.5359616409163559.\n",
      "/home/gonken/anaconda3/envs/torch/lib/python3.12/site-packages/pytorch_tabnet/abstract_model.py:82: UserWarning: Device used : cuda\n",
      "  warnings.warn(f\"Device used : {self.device}\")\n"
     ]
    },
    {
     "name": "stdout",
     "output_type": "stream",
     "text": [
      "epoch 0  | loss: 1.25527 | test_accuracy: 0.49334 |  0:00:03s\n",
      "epoch 1  | loss: 0.92917 | test_accuracy: 0.50559 |  0:00:07s\n",
      "epoch 2  | loss: 0.86821 | test_accuracy: 0.49014 |  0:00:10s\n",
      "epoch 3  | loss: 0.82726 | test_accuracy: 0.50986 |  0:00:13s\n",
      "epoch 4  | loss: 0.8056  | test_accuracy: 0.49334 |  0:00:17s\n",
      "epoch 5  | loss: 0.79401 | test_accuracy: 0.504   |  0:00:20s\n",
      "epoch 6  | loss: 0.7816  | test_accuracy: 0.496   |  0:00:24s\n",
      "epoch 7  | loss: 0.74565 | test_accuracy: 0.49973 |  0:00:27s\n",
      "epoch 8  | loss: 0.76684 | test_accuracy: 0.50773 |  0:00:31s\n",
      "epoch 9  | loss: 0.74654 | test_accuracy: 0.49334 |  0:00:34s\n",
      "epoch 10 | loss: 0.73507 | test_accuracy: 0.48801 |  0:00:38s\n",
      "epoch 11 | loss: 0.73391 | test_accuracy: 0.496   |  0:00:41s\n",
      "epoch 12 | loss: 0.7364  | test_accuracy: 0.49867 |  0:00:45s\n",
      "epoch 13 | loss: 0.72982 | test_accuracy: 0.49814 |  0:00:49s\n",
      "\n",
      "Early stopping occurred at epoch 13 with best_epoch = 3 and best_test_accuracy = 0.50986\n"
     ]
    },
    {
     "name": "stderr",
     "output_type": "stream",
     "text": [
      "/home/gonken/anaconda3/envs/torch/lib/python3.12/site-packages/pytorch_tabnet/callbacks.py:172: UserWarning: Best weights from best epoch are automatically used!\n",
      "  warnings.warn(wrn_msg)\n",
      "[I 2024-10-30 20:17:14,733] Trial 195 finished with value: 0.5098561534363346 and parameters: {'n_d': 52, 'n_a': 57, 'n_steps': 10, 'gamma': 1.8633020943658456, 'lambda_sparse': 0.07754133762099993, 'learning_rate': 0.0012267705128298848}. Best is trial 4 with value: 0.5359616409163559.\n",
      "/home/gonken/anaconda3/envs/torch/lib/python3.12/site-packages/pytorch_tabnet/abstract_model.py:82: UserWarning: Device used : cuda\n",
      "  warnings.warn(f\"Device used : {self.device}\")\n"
     ]
    },
    {
     "name": "stdout",
     "output_type": "stream",
     "text": [
      "epoch 0  | loss: 3.44055 | test_accuracy: 0.4992  |  0:00:02s\n",
      "epoch 1  | loss: 3.43119 | test_accuracy: 0.50186 |  0:00:05s\n",
      "epoch 2  | loss: 3.43728 | test_accuracy: 0.5008  |  0:00:08s\n",
      "epoch 3  | loss: 3.45359 | test_accuracy: 0.49867 |  0:00:11s\n",
      "epoch 4  | loss: 3.42488 | test_accuracy: 0.50133 |  0:00:13s\n",
      "epoch 5  | loss: 3.43621 | test_accuracy: 0.504   |  0:00:16s\n",
      "epoch 6  | loss: 3.45683 | test_accuracy: 0.50453 |  0:00:19s\n",
      "epoch 7  | loss: 3.38548 | test_accuracy: 0.50506 |  0:00:22s\n",
      "epoch 8  | loss: 3.42166 | test_accuracy: 0.504   |  0:00:25s\n",
      "epoch 9  | loss: 3.43401 | test_accuracy: 0.50506 |  0:00:27s\n",
      "epoch 10 | loss: 3.41554 | test_accuracy: 0.50506 |  0:00:30s\n",
      "epoch 11 | loss: 3.41261 | test_accuracy: 0.50453 |  0:00:33s\n",
      "epoch 12 | loss: 3.43433 | test_accuracy: 0.50346 |  0:00:35s\n",
      "epoch 13 | loss: 3.41186 | test_accuracy: 0.50453 |  0:00:38s\n",
      "epoch 14 | loss: 3.41093 | test_accuracy: 0.50613 |  0:00:41s\n",
      "epoch 15 | loss: 3.4382  | test_accuracy: 0.50453 |  0:00:44s\n",
      "epoch 16 | loss: 3.40883 | test_accuracy: 0.50613 |  0:00:46s\n",
      "epoch 17 | loss: 3.41273 | test_accuracy: 0.50346 |  0:00:49s\n",
      "epoch 18 | loss: 3.4414  | test_accuracy: 0.504   |  0:00:52s\n",
      "epoch 19 | loss: 3.40792 | test_accuracy: 0.504   |  0:00:55s\n",
      "epoch 20 | loss: 3.43078 | test_accuracy: 0.50453 |  0:00:58s\n",
      "epoch 21 | loss: 3.44446 | test_accuracy: 0.50346 |  0:01:00s\n",
      "epoch 22 | loss: 3.42139 | test_accuracy: 0.504   |  0:01:03s\n",
      "epoch 23 | loss: 3.41178 | test_accuracy: 0.50506 |  0:01:05s\n",
      "epoch 24 | loss: 3.43744 | test_accuracy: 0.504   |  0:01:08s\n",
      "\n",
      "Early stopping occurred at epoch 24 with best_epoch = 14 and best_test_accuracy = 0.50613\n"
     ]
    },
    {
     "name": "stderr",
     "output_type": "stream",
     "text": [
      "/home/gonken/anaconda3/envs/torch/lib/python3.12/site-packages/pytorch_tabnet/callbacks.py:172: UserWarning: Best weights from best epoch are automatically used!\n",
      "  warnings.warn(wrn_msg)\n",
      "[I 2024-10-30 20:18:24,745] Trial 196 finished with value: 0.5061267980820459 and parameters: {'n_d': 47, 'n_a': 64, 'n_steps': 7, 'gamma': 1.4650840764131547, 'lambda_sparse': 0.05104424425260853, 'learning_rate': 1.1067804929131988e-07}. Best is trial 4 with value: 0.5359616409163559.\n",
      "/home/gonken/anaconda3/envs/torch/lib/python3.12/site-packages/pytorch_tabnet/abstract_model.py:82: UserWarning: Device used : cuda\n",
      "  warnings.warn(f\"Device used : {self.device}\")\n"
     ]
    },
    {
     "name": "stdout",
     "output_type": "stream",
     "text": [
      "epoch 0  | loss: 1.19306 | test_accuracy: 0.51039 |  0:00:02s\n",
      "epoch 1  | loss: 0.9788  | test_accuracy: 0.50133 |  0:00:06s\n",
      "epoch 2  | loss: 0.86734 | test_accuracy: 0.49281 |  0:00:09s\n",
      "epoch 3  | loss: 0.81142 | test_accuracy: 0.47842 |  0:00:13s\n",
      "epoch 4  | loss: 0.77675 | test_accuracy: 0.51838 |  0:00:16s\n",
      "epoch 5  | loss: 0.76606 | test_accuracy: 0.48855 |  0:00:19s\n",
      "epoch 6  | loss: 0.75376 | test_accuracy: 0.49441 |  0:00:22s\n",
      "epoch 7  | loss: 0.72279 | test_accuracy: 0.48482 |  0:00:25s\n",
      "epoch 8  | loss: 0.70905 | test_accuracy: 0.50133 |  0:00:28s\n",
      "epoch 9  | loss: 0.71216 | test_accuracy: 0.49707 |  0:00:31s\n",
      "epoch 10 | loss: 0.69875 | test_accuracy: 0.49014 |  0:00:35s\n",
      "epoch 11 | loss: 0.68356 | test_accuracy: 0.51785 |  0:00:38s\n",
      "epoch 12 | loss: 0.67164 | test_accuracy: 0.48961 |  0:00:41s\n",
      "epoch 13 | loss: 0.67744 | test_accuracy: 0.5008  |  0:00:45s\n",
      "epoch 14 | loss: 0.66888 | test_accuracy: 0.51731 |  0:00:48s\n",
      "\n",
      "Early stopping occurred at epoch 14 with best_epoch = 4 and best_test_accuracy = 0.51838\n"
     ]
    },
    {
     "name": "stderr",
     "output_type": "stream",
     "text": [
      "/home/gonken/anaconda3/envs/torch/lib/python3.12/site-packages/pytorch_tabnet/callbacks.py:172: UserWarning: Best weights from best epoch are automatically used!\n",
      "  warnings.warn(wrn_msg)\n",
      "[I 2024-10-30 20:19:14,689] Trial 197 finished with value: 0.5183803942461375 and parameters: {'n_d': 53, 'n_a': 18, 'n_steps': 9, 'gamma': 1.752687913496995, 'lambda_sparse': 0.0037948700608814306, 'learning_rate': 0.003596979458762812}. Best is trial 4 with value: 0.5359616409163559.\n",
      "/home/gonken/anaconda3/envs/torch/lib/python3.12/site-packages/pytorch_tabnet/abstract_model.py:82: UserWarning: Device used : cuda\n",
      "  warnings.warn(f\"Device used : {self.device}\")\n"
     ]
    },
    {
     "name": "stdout",
     "output_type": "stream",
     "text": [
      "epoch 0  | loss: 1.08267 | test_accuracy: 0.49281 |  0:00:02s\n",
      "epoch 1  | loss: 0.8542  | test_accuracy: 0.50613 |  0:00:04s\n",
      "epoch 2  | loss: 0.76212 | test_accuracy: 0.50932 |  0:00:07s\n",
      "epoch 3  | loss: 0.7188  | test_accuracy: 0.49227 |  0:00:10s\n",
      "epoch 4  | loss: 0.68906 | test_accuracy: 0.49494 |  0:00:13s\n",
      "epoch 5  | loss: 0.6894  | test_accuracy: 0.49227 |  0:00:16s\n",
      "epoch 6  | loss: 0.67958 | test_accuracy: 0.48269 |  0:00:18s\n",
      "epoch 7  | loss: 0.67072 | test_accuracy: 0.504   |  0:00:21s\n",
      "epoch 8  | loss: 0.66337 | test_accuracy: 0.49281 |  0:00:23s\n",
      "epoch 9  | loss: 0.66777 | test_accuracy: 0.48375 |  0:00:26s\n",
      "epoch 10 | loss: 0.66381 | test_accuracy: 0.51092 |  0:00:29s\n",
      "epoch 11 | loss: 0.66324 | test_accuracy: 0.49867 |  0:00:32s\n",
      "epoch 12 | loss: 0.66601 | test_accuracy: 0.496   |  0:00:34s\n",
      "epoch 13 | loss: 0.66371 | test_accuracy: 0.504   |  0:00:37s\n",
      "epoch 14 | loss: 0.65772 | test_accuracy: 0.51039 |  0:00:40s\n",
      "epoch 15 | loss: 0.64956 | test_accuracy: 0.48961 |  0:00:43s\n",
      "epoch 16 | loss: 0.64673 | test_accuracy: 0.50666 |  0:00:46s\n",
      "epoch 17 | loss: 0.64244 | test_accuracy: 0.50346 |  0:00:49s\n",
      "epoch 18 | loss: 0.63536 | test_accuracy: 0.49654 |  0:00:52s\n",
      "epoch 19 | loss: 0.63147 | test_accuracy: 0.50346 |  0:00:55s\n",
      "epoch 20 | loss: 0.63905 | test_accuracy: 0.50186 |  0:00:57s\n",
      "\n",
      "Early stopping occurred at epoch 20 with best_epoch = 10 and best_test_accuracy = 0.51092\n"
     ]
    },
    {
     "name": "stderr",
     "output_type": "stream",
     "text": [
      "/home/gonken/anaconda3/envs/torch/lib/python3.12/site-packages/pytorch_tabnet/callbacks.py:172: UserWarning: Best weights from best epoch are automatically used!\n",
      "  warnings.warn(wrn_msg)\n",
      "[I 2024-10-30 20:20:13,983] Trial 198 finished with value: 0.51092168353756 and parameters: {'n_d': 51, 'n_a': 15, 'n_steps': 7, 'gamma': 1.6003395076333167, 'lambda_sparse': 0.04862388758614049, 'learning_rate': 0.00676151128177992}. Best is trial 4 with value: 0.5359616409163559.\n",
      "/home/gonken/anaconda3/envs/torch/lib/python3.12/site-packages/pytorch_tabnet/abstract_model.py:82: UserWarning: Device used : cuda\n",
      "  warnings.warn(f\"Device used : {self.device}\")\n"
     ]
    },
    {
     "name": "stdout",
     "output_type": "stream",
     "text": [
      "epoch 0  | loss: 1.05292 | test_accuracy: 0.48961 |  0:00:02s\n",
      "epoch 1  | loss: 0.83702 | test_accuracy: 0.51572 |  0:00:05s\n",
      "epoch 2  | loss: 0.78947 | test_accuracy: 0.4992  |  0:00:08s\n",
      "epoch 3  | loss: 0.74298 | test_accuracy: 0.5008  |  0:00:10s\n",
      "epoch 4  | loss: 0.72183 | test_accuracy: 0.50773 |  0:00:13s\n",
      "epoch 5  | loss: 0.70538 | test_accuracy: 0.50559 |  0:00:16s\n",
      "epoch 6  | loss: 0.70225 | test_accuracy: 0.51145 |  0:00:18s\n",
      "epoch 7  | loss: 0.68945 | test_accuracy: 0.48109 |  0:00:21s\n",
      "epoch 8  | loss: 0.68257 | test_accuracy: 0.50506 |  0:00:24s\n",
      "epoch 9  | loss: 0.66684 | test_accuracy: 0.48855 |  0:00:26s\n",
      "epoch 10 | loss: 0.66182 | test_accuracy: 0.47682 |  0:00:29s\n",
      "epoch 11 | loss: 0.65597 | test_accuracy: 0.49068 |  0:00:32s\n",
      "\n",
      "Early stopping occurred at epoch 11 with best_epoch = 1 and best_test_accuracy = 0.51572\n"
     ]
    },
    {
     "name": "stderr",
     "output_type": "stream",
     "text": [
      "/home/gonken/anaconda3/envs/torch/lib/python3.12/site-packages/pytorch_tabnet/callbacks.py:172: UserWarning: Best weights from best epoch are automatically used!\n",
      "  warnings.warn(wrn_msg)\n",
      "[I 2024-10-30 20:20:47,633] Trial 199 finished with value: 0.515716568993074 and parameters: {'n_d': 49, 'n_a': 58, 'n_steps': 7, 'gamma': 1.5573098017869067, 'lambda_sparse': 0.017262700188333573, 'learning_rate': 0.003028088105971474}. Best is trial 4 with value: 0.5359616409163559.\n"
     ]
    },
    {
     "name": "stdout",
     "output_type": "stream",
     "text": [
      "Best hyperparameters:  {'n_d': 49, 'n_a': 17, 'n_steps': 5, 'gamma': 1.5791038792939252, 'lambda_sparse': 0.08222258804070917, 'learning_rate': 0.011539105483496466}\n",
      "Best accuracy:  0.5359616409163559\n"
     ]
    }
   ],
   "source": [
    "study = optuna.create_study(direction=\"maximize\")\n",
    "study.optimize(objective, n_trials=200)\n",
    "\n",
    "# 最適化されたハイパーパラメータの取得\n",
    "print(\"Best hyperparameters: \", study.best_params)\n",
    "print(\"Best accuracy: \", study.best_value)"
   ]
  },
  {
   "cell_type": "code",
   "execution_count": null,
   "id": "c19c298d",
   "metadata": {},
   "outputs": [],
   "source": []
  }
 ],
 "metadata": {
  "kernelspec": {
   "display_name": "torch",
   "language": "python",
   "name": "python3"
  },
  "language_info": {
   "codemirror_mode": {
    "name": "ipython",
    "version": 3
   },
   "file_extension": ".py",
   "mimetype": "text/x-python",
   "name": "python",
   "nbconvert_exporter": "python",
   "pygments_lexer": "ipython3",
   "version": "3.12.7"
  }
 },
 "nbformat": 4,
 "nbformat_minor": 5
}
