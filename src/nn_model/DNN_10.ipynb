{
 "cells": [
  {
   "cell_type": "code",
   "execution_count": 13,
   "metadata": {},
   "outputs": [],
   "source": [
    "import numpy as np\n",
    "import pandas as pd\n",
    "import matplotlib.pyplot as plt\n",
    "import seaborn as sns\n",
    "\n",
    "import torch\n",
    "import torch.nn as nn\n",
    "import torch.optim as optim\n",
    "\n",
    "import optuna\n",
    "\n",
    "from sklearn.model_selection import train_test_split\n",
    "from sklearn.metrics import confusion_matrix,accuracy_score, precision_score, recall_score, f1_score, confusion_matrix, roc_curve, auc,matthews_corrcoef, precision_recall_curve,roc_auc_score\n",
    "\n"
   ]
  },
  {
   "cell_type": "markdown",
   "metadata": {},
   "source": [
    "データ読み取り"
   ]
  },
  {
   "cell_type": "code",
   "execution_count": 14,
   "metadata": {},
   "outputs": [],
   "source": [
    "df=pd.read_csv('../../data/learning_data.csv',index_col=0)\n",
    "\n",
    "X=df.drop(columns='dengue',axis=1).values\n",
    "y=df['dengue'].values\n",
    "\n",
    "X_train, X_test, y_train, y_test = train_test_split(X, y, test_size=0.2,random_state=42)\n",
    "X_train, X_val, y_train, y_val = train_test_split(X_train, y_train, test_size=0.1,random_state=42)\n",
    "\n",
    "#torchテンソルに変換\n",
    "X_train_tensor = torch.tensor(X_train, dtype=torch.float32)\n",
    "y_train_tensor = torch.tensor(y_train, dtype=torch.float32)\n",
    "X_test_tensor = torch.tensor(X_test, dtype=torch.float32)\n",
    "y_test_tensor = torch.tensor(y_test, dtype=torch.float32)\n",
    "X_val_tensor = torch.tensor(X_val, dtype=torch.float32)\n",
    "y_val_tensor = torch.tensor(y_val, dtype=torch.float32)\n"
   ]
  },
  {
   "cell_type": "code",
   "execution_count": 15,
   "metadata": {},
   "outputs": [],
   "source": [
    "class DNN_10(nn.Module):\n",
    "    def __init__(self, input_dim):\n",
    "        super(DNN_10, self).__init__()\n",
    "        self.layer1 = nn.Linear(input_dim,128)\n",
    "        self.layer2 = nn.Linear(128,64)\n",
    "        self.layer3 = nn.Linear(64, 32)\n",
    "        self.layer4 = nn.Linear(32, 16)\n",
    "\n",
    "        self.output_layer=nn.Linear(16,1)\n",
    "        \n",
    "        \n",
    "        \n",
    "    def forward(self, x):\n",
    "        x = torch.relu(self.layer1(x))\n",
    "        \n",
    "        x = torch.relu(self.layer2(x))\n",
    "        \n",
    "        x = torch.relu(self.layer3(x))\n",
    "        \n",
    "        x = torch.relu(self.layer4(x))\n",
    "\n",
    "        x = torch.sigmoid(self.output_layer(x)) \n",
    "        return x\n",
    "    "
   ]
  },
  {
   "cell_type": "markdown",
   "metadata": {},
   "source": [
    "学習データセットの作成"
   ]
  },
  {
   "cell_type": "code",
   "execution_count": 16,
   "metadata": {},
   "outputs": [],
   "source": [
    "train_dataset = torch.utils.data.TensorDataset(X_train_tensor, y_train_tensor)\n",
    "train_loader = torch.utils.data.DataLoader(dataset=train_dataset, batch_size=4, shuffle=True)\n",
    "\n",
    "val_dataset = torch.utils.data.TensorDataset(X_val_tensor, y_val_tensor)\n",
    "val_loader = torch.utils.data.DataLoader(dataset=val_dataset, batch_size=4, shuffle=False)"
   ]
  },
  {
   "cell_type": "markdown",
   "metadata": {},
   "source": [
    "Optunaの設定"
   ]
  },
  {
   "cell_type": "code",
   "execution_count": 17,
   "metadata": {},
   "outputs": [],
   "source": [
    "def objective(trial):\n",
    "    learning_rate = trial.suggest_loguniform(\"learning_rate\", 1e-4, 1e-2)  # 範囲を調整\n",
    "    weight_decay = trial.suggest_loguniform(\"weight_decay\", 1e-5, 1e-2)   # 範囲を調整\n",
    "\n",
    "    # モデル定義\n",
    "    model = DNN_10(\n",
    "        input_dim=X_train_tensor.shape[1]).to(device)\n",
    "\n",
    "    criterion = nn.BCELoss()\n",
    "    optimizer = torch.optim.Adam(model.parameters(), lr=learning_rate, weight_decay=weight_decay)\n",
    "\n",
    "    # Early Stoppingの設定\n",
    "    patience = 10\n",
    "    best_val_loss = float('inf')\n",
    "    patience_counter = 0\n",
    "\n",
    "    # 訓練ループ\n",
    "    num_epochs = 100\n",
    "    for epoch in range(num_epochs):\n",
    "        model.train()\n",
    "        for X_batch, y_batch in train_loader:\n",
    "            X_batch, y_batch = X_batch.to(device), y_batch.to(device)\n",
    "            optimizer.zero_grad()\n",
    "            outputs = model(X_batch).squeeze()\n",
    "            loss = criterion(outputs, y_batch.squeeze())\n",
    "            loss.backward()\n",
    "            optimizer.step()\n",
    "\n",
    "        # バリデーション評価\n",
    "        model.eval()\n",
    "        val_loss = 0\n",
    "        val_true, val_pred = [], []\n",
    "        with torch.no_grad():\n",
    "            for X_val, y_val in val_loader:\n",
    "                X_val, y_val = X_val.to(device), y_val.to(device)\n",
    "                val_outputs = model(X_val).squeeze()\n",
    "                val_loss += criterion(val_outputs, y_val.squeeze()).item()\n",
    "                predictions = (val_outputs >= 0.5).float()\n",
    "                val_true.extend(y_val.cpu().numpy())\n",
    "                val_pred.extend(predictions.cpu().numpy())\n",
    "\n",
    "        val_loss /= len(val_loader)\n",
    "\n",
    "        # Early Stoppingの判定\n",
    "        if val_loss < best_val_loss:\n",
    "            best_val_loss = val_loss\n",
    "            patience_counter = 0\n",
    "        else:\n",
    "            patience_counter += 1\n",
    "\n",
    "        if patience_counter >= patience:\n",
    "            print(f\"Early stopping at epoch {epoch}\")\n",
    "            break\n",
    "\n",
    "        # Optunaへのログ\n",
    "        trial.report(val_loss, epoch)\n",
    "        if trial.should_prune():\n",
    "            raise optuna.exceptions.TrialPruned()\n",
    "\n",
    "    # 評価指標の計算\n",
    "    mcc = matthews_corrcoef(val_true, val_pred)\n",
    "    print(f\"Final MCC: {mcc:.4f}\")\n",
    "\n",
    "    return mcc  # mccを返す\n"
   ]
  },
  {
   "cell_type": "code",
   "execution_count": 18,
   "metadata": {},
   "outputs": [
    {
     "name": "stderr",
     "output_type": "stream",
     "text": [
      "[I 2024-12-04 16:36:04,557] A new study created in memory with name: no-name-dcf2e4f4-9f40-4dc5-bd85-ca5f1a48bdec\n",
      "/tmp/ipykernel_282705/1190680174.py:2: FutureWarning: suggest_loguniform has been deprecated in v3.0.0. This feature will be removed in v6.0.0. See https://github.com/optuna/optuna/releases/tag/v3.0.0. Use suggest_float(..., log=True) instead.\n",
      "  learning_rate = trial.suggest_loguniform(\"learning_rate\", 1e-4, 1e-2)  # 範囲を調整\n",
      "/tmp/ipykernel_282705/1190680174.py:3: FutureWarning: suggest_loguniform has been deprecated in v3.0.0. This feature will be removed in v6.0.0. See https://github.com/optuna/optuna/releases/tag/v3.0.0. Use suggest_float(..., log=True) instead.\n",
      "  weight_decay = trial.suggest_loguniform(\"weight_decay\", 1e-5, 1e-2)   # 範囲を調整\n",
      "[I 2024-12-04 16:40:04,862] Trial 0 finished with value: 0.28195567008791605 and parameters: {'learning_rate': 0.00018510022181341364, 'weight_decay': 0.004333140743882166}. Best is trial 0 with value: 0.28195567008791605.\n"
     ]
    },
    {
     "name": "stdout",
     "output_type": "stream",
     "text": [
      "Early stopping at epoch 65\n",
      "Final MCC: 0.2820\n"
     ]
    },
    {
     "name": "stderr",
     "output_type": "stream",
     "text": [
      "/tmp/ipykernel_282705/1190680174.py:2: FutureWarning: suggest_loguniform has been deprecated in v3.0.0. This feature will be removed in v6.0.0. See https://github.com/optuna/optuna/releases/tag/v3.0.0. Use suggest_float(..., log=True) instead.\n",
      "  learning_rate = trial.suggest_loguniform(\"learning_rate\", 1e-4, 1e-2)  # 範囲を調整\n",
      "/tmp/ipykernel_282705/1190680174.py:3: FutureWarning: suggest_loguniform has been deprecated in v3.0.0. This feature will be removed in v6.0.0. See https://github.com/optuna/optuna/releases/tag/v3.0.0. Use suggest_float(..., log=True) instead.\n",
      "  weight_decay = trial.suggest_loguniform(\"weight_decay\", 1e-5, 1e-2)   # 範囲を調整\n",
      "[I 2024-12-04 16:42:00,248] Trial 1 finished with value: 0.25849832497249015 and parameters: {'learning_rate': 0.0005298029356470835, 'weight_decay': 0.00039263013521765114}. Best is trial 0 with value: 0.28195567008791605.\n"
     ]
    },
    {
     "name": "stdout",
     "output_type": "stream",
     "text": [
      "Early stopping at epoch 31\n",
      "Final MCC: 0.2585\n"
     ]
    },
    {
     "name": "stderr",
     "output_type": "stream",
     "text": [
      "/tmp/ipykernel_282705/1190680174.py:2: FutureWarning: suggest_loguniform has been deprecated in v3.0.0. This feature will be removed in v6.0.0. See https://github.com/optuna/optuna/releases/tag/v3.0.0. Use suggest_float(..., log=True) instead.\n",
      "  learning_rate = trial.suggest_loguniform(\"learning_rate\", 1e-4, 1e-2)  # 範囲を調整\n",
      "/tmp/ipykernel_282705/1190680174.py:3: FutureWarning: suggest_loguniform has been deprecated in v3.0.0. This feature will be removed in v6.0.0. See https://github.com/optuna/optuna/releases/tag/v3.0.0. Use suggest_float(..., log=True) instead.\n",
      "  weight_decay = trial.suggest_loguniform(\"weight_decay\", 1e-5, 1e-2)   # 範囲を調整\n",
      "[I 2024-12-04 16:43:47,312] Trial 2 finished with value: 0.29685993184495857 and parameters: {'learning_rate': 0.0003130827516245242, 'weight_decay': 0.003375535689179423}. Best is trial 2 with value: 0.29685993184495857.\n"
     ]
    },
    {
     "name": "stdout",
     "output_type": "stream",
     "text": [
      "Early stopping at epoch 29\n",
      "Final MCC: 0.2969\n"
     ]
    },
    {
     "name": "stderr",
     "output_type": "stream",
     "text": [
      "/tmp/ipykernel_282705/1190680174.py:2: FutureWarning: suggest_loguniform has been deprecated in v3.0.0. This feature will be removed in v6.0.0. See https://github.com/optuna/optuna/releases/tag/v3.0.0. Use suggest_float(..., log=True) instead.\n",
      "  learning_rate = trial.suggest_loguniform(\"learning_rate\", 1e-4, 1e-2)  # 範囲を調整\n",
      "/tmp/ipykernel_282705/1190680174.py:3: FutureWarning: suggest_loguniform has been deprecated in v3.0.0. This feature will be removed in v6.0.0. See https://github.com/optuna/optuna/releases/tag/v3.0.0. Use suggest_float(..., log=True) instead.\n",
      "  weight_decay = trial.suggest_loguniform(\"weight_decay\", 1e-5, 1e-2)   # 範囲を調整\n",
      "[I 2024-12-04 16:48:03,470] Trial 3 finished with value: 0.2645751311064591 and parameters: {'learning_rate': 0.00011297941771621844, 'weight_decay': 0.0016057773622017285}. Best is trial 2 with value: 0.29685993184495857.\n"
     ]
    },
    {
     "name": "stdout",
     "output_type": "stream",
     "text": [
      "Early stopping at epoch 71\n",
      "Final MCC: 0.2646\n"
     ]
    },
    {
     "name": "stderr",
     "output_type": "stream",
     "text": [
      "/tmp/ipykernel_282705/1190680174.py:2: FutureWarning: suggest_loguniform has been deprecated in v3.0.0. This feature will be removed in v6.0.0. See https://github.com/optuna/optuna/releases/tag/v3.0.0. Use suggest_float(..., log=True) instead.\n",
      "  learning_rate = trial.suggest_loguniform(\"learning_rate\", 1e-4, 1e-2)  # 範囲を調整\n",
      "/tmp/ipykernel_282705/1190680174.py:3: FutureWarning: suggest_loguniform has been deprecated in v3.0.0. This feature will be removed in v6.0.0. See https://github.com/optuna/optuna/releases/tag/v3.0.0. Use suggest_float(..., log=True) instead.\n",
      "  weight_decay = trial.suggest_loguniform(\"weight_decay\", 1e-5, 1e-2)   # 範囲を調整\n",
      "[I 2024-12-04 16:49:54,299] Trial 4 finished with value: 0.3045662781080955 and parameters: {'learning_rate': 0.00023246730965833666, 'weight_decay': 0.003469975155143777}. Best is trial 4 with value: 0.3045662781080955.\n"
     ]
    },
    {
     "name": "stdout",
     "output_type": "stream",
     "text": [
      "Early stopping at epoch 30\n",
      "Final MCC: 0.3046\n"
     ]
    },
    {
     "name": "stderr",
     "output_type": "stream",
     "text": [
      "/tmp/ipykernel_282705/1190680174.py:2: FutureWarning: suggest_loguniform has been deprecated in v3.0.0. This feature will be removed in v6.0.0. See https://github.com/optuna/optuna/releases/tag/v3.0.0. Use suggest_float(..., log=True) instead.\n",
      "  learning_rate = trial.suggest_loguniform(\"learning_rate\", 1e-4, 1e-2)  # 範囲を調整\n",
      "/tmp/ipykernel_282705/1190680174.py:3: FutureWarning: suggest_loguniform has been deprecated in v3.0.0. This feature will be removed in v6.0.0. See https://github.com/optuna/optuna/releases/tag/v3.0.0. Use suggest_float(..., log=True) instead.\n",
      "  weight_decay = trial.suggest_loguniform(\"weight_decay\", 1e-5, 1e-2)   # 範囲を調整\n",
      "[I 2024-12-04 16:49:57,909] Trial 5 pruned. \n",
      "[I 2024-12-04 16:50:01,601] Trial 6 pruned. \n",
      "[I 2024-12-04 16:50:05,214] Trial 7 pruned. \n",
      "[I 2024-12-04 16:50:08,824] Trial 8 pruned. \n",
      "[I 2024-12-04 16:52:50,225] Trial 9 finished with value: 0.32882073813868984 and parameters: {'learning_rate': 0.0012618353814914398, 'weight_decay': 0.0006914925225587698}. Best is trial 9 with value: 0.32882073813868984.\n"
     ]
    },
    {
     "name": "stdout",
     "output_type": "stream",
     "text": [
      "Early stopping at epoch 43\n",
      "Final MCC: 0.3288\n"
     ]
    },
    {
     "name": "stderr",
     "output_type": "stream",
     "text": [
      "/tmp/ipykernel_282705/1190680174.py:2: FutureWarning: suggest_loguniform has been deprecated in v3.0.0. This feature will be removed in v6.0.0. See https://github.com/optuna/optuna/releases/tag/v3.0.0. Use suggest_float(..., log=True) instead.\n",
      "  learning_rate = trial.suggest_loguniform(\"learning_rate\", 1e-4, 1e-2)  # 範囲を調整\n",
      "/tmp/ipykernel_282705/1190680174.py:3: FutureWarning: suggest_loguniform has been deprecated in v3.0.0. This feature will be removed in v6.0.0. See https://github.com/optuna/optuna/releases/tag/v3.0.0. Use suggest_float(..., log=True) instead.\n",
      "  weight_decay = trial.suggest_loguniform(\"weight_decay\", 1e-5, 1e-2)   # 範囲を調整\n",
      "[I 2024-12-04 16:52:54,010] Trial 10 pruned. \n",
      "[I 2024-12-04 16:54:26,459] Trial 11 finished with value: 0.0 and parameters: {'learning_rate': 0.0015098676132426004, 'weight_decay': 0.0012350093219860637}. Best is trial 9 with value: 0.32882073813868984.\n"
     ]
    },
    {
     "name": "stdout",
     "output_type": "stream",
     "text": [
      "Early stopping at epoch 24\n",
      "Final MCC: 0.0000\n"
     ]
    },
    {
     "name": "stderr",
     "output_type": "stream",
     "text": [
      "/tmp/ipykernel_282705/1190680174.py:2: FutureWarning: suggest_loguniform has been deprecated in v3.0.0. This feature will be removed in v6.0.0. See https://github.com/optuna/optuna/releases/tag/v3.0.0. Use suggest_float(..., log=True) instead.\n",
      "  learning_rate = trial.suggest_loguniform(\"learning_rate\", 1e-4, 1e-2)  # 範囲を調整\n",
      "/tmp/ipykernel_282705/1190680174.py:3: FutureWarning: suggest_loguniform has been deprecated in v3.0.0. This feature will be removed in v6.0.0. See https://github.com/optuna/optuna/releases/tag/v3.0.0. Use suggest_float(..., log=True) instead.\n",
      "  weight_decay = trial.suggest_loguniform(\"weight_decay\", 1e-5, 1e-2)   # 範囲を調整\n",
      "[I 2024-12-04 16:54:30,148] Trial 12 pruned. \n",
      "[I 2024-12-04 16:56:08,929] Trial 13 finished with value: 0.31649513887630376 and parameters: {'learning_rate': 0.0008331655036031765, 'weight_decay': 0.0008704193477292166}. Best is trial 9 with value: 0.32882073813868984.\n"
     ]
    },
    {
     "name": "stdout",
     "output_type": "stream",
     "text": [
      "Early stopping at epoch 26\n",
      "Final MCC: 0.3165\n"
     ]
    },
    {
     "name": "stderr",
     "output_type": "stream",
     "text": [
      "/tmp/ipykernel_282705/1190680174.py:2: FutureWarning: suggest_loguniform has been deprecated in v3.0.0. This feature will be removed in v6.0.0. See https://github.com/optuna/optuna/releases/tag/v3.0.0. Use suggest_float(..., log=True) instead.\n",
      "  learning_rate = trial.suggest_loguniform(\"learning_rate\", 1e-4, 1e-2)  # 範囲を調整\n",
      "/tmp/ipykernel_282705/1190680174.py:3: FutureWarning: suggest_loguniform has been deprecated in v3.0.0. This feature will be removed in v6.0.0. See https://github.com/optuna/optuna/releases/tag/v3.0.0. Use suggest_float(..., log=True) instead.\n",
      "  weight_decay = trial.suggest_loguniform(\"weight_decay\", 1e-5, 1e-2)   # 範囲を調整\n",
      "[I 2024-12-04 16:56:12,560] Trial 14 pruned. \n",
      "[I 2024-12-04 16:56:16,228] Trial 15 pruned. \n",
      "[I 2024-12-04 16:56:19,879] Trial 16 pruned. \n",
      "[I 2024-12-04 16:56:23,527] Trial 17 pruned. \n",
      "[I 2024-12-04 16:56:27,181] Trial 18 pruned. \n",
      "[I 2024-12-04 16:56:30,799] Trial 19 pruned. \n",
      "[I 2024-12-04 16:56:34,437] Trial 20 pruned. \n",
      "[I 2024-12-04 16:59:34,810] Trial 21 finished with value: 0.3007160357898652 and parameters: {'learning_rate': 0.00011610582218678404, 'weight_decay': 0.006756378287063716}. Best is trial 9 with value: 0.32882073813868984.\n"
     ]
    },
    {
     "name": "stdout",
     "output_type": "stream",
     "text": [
      "Early stopping at epoch 48\n",
      "Final MCC: 0.3007\n"
     ]
    },
    {
     "name": "stderr",
     "output_type": "stream",
     "text": [
      "/tmp/ipykernel_282705/1190680174.py:2: FutureWarning: suggest_loguniform has been deprecated in v3.0.0. This feature will be removed in v6.0.0. See https://github.com/optuna/optuna/releases/tag/v3.0.0. Use suggest_float(..., log=True) instead.\n",
      "  learning_rate = trial.suggest_loguniform(\"learning_rate\", 1e-4, 1e-2)  # 範囲を調整\n",
      "/tmp/ipykernel_282705/1190680174.py:3: FutureWarning: suggest_loguniform has been deprecated in v3.0.0. This feature will be removed in v6.0.0. See https://github.com/optuna/optuna/releases/tag/v3.0.0. Use suggest_float(..., log=True) instead.\n",
      "  weight_decay = trial.suggest_loguniform(\"weight_decay\", 1e-5, 1e-2)   # 範囲を調整\n",
      "[I 2024-12-04 16:59:38,336] Trial 22 pruned. \n",
      "[I 2024-12-04 16:59:41,838] Trial 23 pruned. \n",
      "[I 2024-12-04 16:59:45,326] Trial 24 pruned. \n",
      "[I 2024-12-04 16:59:48,904] Trial 25 pruned. \n",
      "[I 2024-12-04 16:59:52,482] Trial 26 pruned. \n",
      "[I 2024-12-04 17:01:46,178] Trial 27 finished with value: 0.15635070158909536 and parameters: {'learning_rate': 0.00019155583114990743, 'weight_decay': 0.0005903493987810644}. Best is trial 9 with value: 0.32882073813868984.\n"
     ]
    },
    {
     "name": "stdout",
     "output_type": "stream",
     "text": [
      "Early stopping at epoch 30\n",
      "Final MCC: 0.1564\n"
     ]
    },
    {
     "name": "stderr",
     "output_type": "stream",
     "text": [
      "/tmp/ipykernel_282705/1190680174.py:2: FutureWarning: suggest_loguniform has been deprecated in v3.0.0. This feature will be removed in v6.0.0. See https://github.com/optuna/optuna/releases/tag/v3.0.0. Use suggest_float(..., log=True) instead.\n",
      "  learning_rate = trial.suggest_loguniform(\"learning_rate\", 1e-4, 1e-2)  # 範囲を調整\n",
      "/tmp/ipykernel_282705/1190680174.py:3: FutureWarning: suggest_loguniform has been deprecated in v3.0.0. This feature will be removed in v6.0.0. See https://github.com/optuna/optuna/releases/tag/v3.0.0. Use suggest_float(..., log=True) instead.\n",
      "  weight_decay = trial.suggest_loguniform(\"weight_decay\", 1e-5, 1e-2)   # 範囲を調整\n",
      "[I 2024-12-04 17:01:49,920] Trial 28 pruned. \n",
      "[I 2024-12-04 17:01:53,675] Trial 29 pruned. \n",
      "[I 2024-12-04 17:01:57,429] Trial 30 pruned. \n",
      "[I 2024-12-04 17:04:34,075] Trial 31 finished with value: 0.2678648032030917 and parameters: {'learning_rate': 0.00011405012711529742, 'weight_decay': 0.009918705284724199}. Best is trial 9 with value: 0.32882073813868984.\n"
     ]
    },
    {
     "name": "stdout",
     "output_type": "stream",
     "text": [
      "Early stopping at epoch 41\n",
      "Final MCC: 0.2679\n"
     ]
    },
    {
     "name": "stderr",
     "output_type": "stream",
     "text": [
      "/tmp/ipykernel_282705/1190680174.py:2: FutureWarning: suggest_loguniform has been deprecated in v3.0.0. This feature will be removed in v6.0.0. See https://github.com/optuna/optuna/releases/tag/v3.0.0. Use suggest_float(..., log=True) instead.\n",
      "  learning_rate = trial.suggest_loguniform(\"learning_rate\", 1e-4, 1e-2)  # 範囲を調整\n",
      "/tmp/ipykernel_282705/1190680174.py:3: FutureWarning: suggest_loguniform has been deprecated in v3.0.0. This feature will be removed in v6.0.0. See https://github.com/optuna/optuna/releases/tag/v3.0.0. Use suggest_float(..., log=True) instead.\n",
      "  weight_decay = trial.suggest_loguniform(\"weight_decay\", 1e-5, 1e-2)   # 範囲を調整\n",
      "[I 2024-12-04 17:06:44,233] Trial 32 finished with value: 0.2946096069503197 and parameters: {'learning_rate': 0.0001399086720693898, 'weight_decay': 0.006314697080729412}. Best is trial 9 with value: 0.32882073813868984.\n"
     ]
    },
    {
     "name": "stdout",
     "output_type": "stream",
     "text": [
      "Early stopping at epoch 34\n",
      "Final MCC: 0.2946\n"
     ]
    },
    {
     "name": "stderr",
     "output_type": "stream",
     "text": [
      "/tmp/ipykernel_282705/1190680174.py:2: FutureWarning: suggest_loguniform has been deprecated in v3.0.0. This feature will be removed in v6.0.0. See https://github.com/optuna/optuna/releases/tag/v3.0.0. Use suggest_float(..., log=True) instead.\n",
      "  learning_rate = trial.suggest_loguniform(\"learning_rate\", 1e-4, 1e-2)  # 範囲を調整\n",
      "/tmp/ipykernel_282705/1190680174.py:3: FutureWarning: suggest_loguniform has been deprecated in v3.0.0. This feature will be removed in v6.0.0. See https://github.com/optuna/optuna/releases/tag/v3.0.0. Use suggest_float(..., log=True) instead.\n",
      "  weight_decay = trial.suggest_loguniform(\"weight_decay\", 1e-5, 1e-2)   # 範囲を調整\n",
      "[I 2024-12-04 17:06:47,979] Trial 33 pruned. \n",
      "[I 2024-12-04 17:09:52,320] Trial 34 finished with value: 0.29072133077420836 and parameters: {'learning_rate': 0.0001011855317695384, 'weight_decay': 0.0032875130243747584}. Best is trial 9 with value: 0.32882073813868984.\n"
     ]
    },
    {
     "name": "stdout",
     "output_type": "stream",
     "text": [
      "Early stopping at epoch 51\n",
      "Final MCC: 0.2907\n"
     ]
    },
    {
     "name": "stderr",
     "output_type": "stream",
     "text": [
      "/tmp/ipykernel_282705/1190680174.py:2: FutureWarning: suggest_loguniform has been deprecated in v3.0.0. This feature will be removed in v6.0.0. See https://github.com/optuna/optuna/releases/tag/v3.0.0. Use suggest_float(..., log=True) instead.\n",
      "  learning_rate = trial.suggest_loguniform(\"learning_rate\", 1e-4, 1e-2)  # 範囲を調整\n",
      "/tmp/ipykernel_282705/1190680174.py:3: FutureWarning: suggest_loguniform has been deprecated in v3.0.0. This feature will be removed in v6.0.0. See https://github.com/optuna/optuna/releases/tag/v3.0.0. Use suggest_float(..., log=True) instead.\n",
      "  weight_decay = trial.suggest_loguniform(\"weight_decay\", 1e-5, 1e-2)   # 範囲を調整\n",
      "[I 2024-12-04 17:12:37,525] Trial 35 finished with value: 0.3276033597166953 and parameters: {'learning_rate': 0.0002756039890292162, 'weight_decay': 0.0013650032309659988}. Best is trial 9 with value: 0.32882073813868984.\n"
     ]
    },
    {
     "name": "stdout",
     "output_type": "stream",
     "text": [
      "Early stopping at epoch 49\n",
      "Final MCC: 0.3276\n"
     ]
    },
    {
     "name": "stderr",
     "output_type": "stream",
     "text": [
      "/tmp/ipykernel_282705/1190680174.py:2: FutureWarning: suggest_loguniform has been deprecated in v3.0.0. This feature will be removed in v6.0.0. See https://github.com/optuna/optuna/releases/tag/v3.0.0. Use suggest_float(..., log=True) instead.\n",
      "  learning_rate = trial.suggest_loguniform(\"learning_rate\", 1e-4, 1e-2)  # 範囲を調整\n",
      "/tmp/ipykernel_282705/1190680174.py:3: FutureWarning: suggest_loguniform has been deprecated in v3.0.0. This feature will be removed in v6.0.0. See https://github.com/optuna/optuna/releases/tag/v3.0.0. Use suggest_float(..., log=True) instead.\n",
      "  weight_decay = trial.suggest_loguniform(\"weight_decay\", 1e-5, 1e-2)   # 範囲を調整\n",
      "[I 2024-12-04 17:12:40,904] Trial 36 pruned. \n",
      "[I 2024-12-04 17:12:44,351] Trial 37 pruned. \n",
      "[I 2024-12-04 17:12:47,757] Trial 38 pruned. \n",
      "[I 2024-12-04 17:12:51,239] Trial 39 pruned. \n",
      "[I 2024-12-04 17:12:54,635] Trial 40 pruned. \n",
      "[I 2024-12-04 17:14:37,438] Trial 41 finished with value: 0.2956695465288894 and parameters: {'learning_rate': 0.00013115384944812256, 'weight_decay': 0.0025709615234264698}. Best is trial 9 with value: 0.32882073813868984.\n"
     ]
    },
    {
     "name": "stdout",
     "output_type": "stream",
     "text": [
      "Early stopping at epoch 31\n",
      "Final MCC: 0.2957\n"
     ]
    },
    {
     "name": "stderr",
     "output_type": "stream",
     "text": [
      "/tmp/ipykernel_282705/1190680174.py:2: FutureWarning: suggest_loguniform has been deprecated in v3.0.0. This feature will be removed in v6.0.0. See https://github.com/optuna/optuna/releases/tag/v3.0.0. Use suggest_float(..., log=True) instead.\n",
      "  learning_rate = trial.suggest_loguniform(\"learning_rate\", 1e-4, 1e-2)  # 範囲を調整\n",
      "/tmp/ipykernel_282705/1190680174.py:3: FutureWarning: suggest_loguniform has been deprecated in v3.0.0. This feature will be removed in v6.0.0. See https://github.com/optuna/optuna/releases/tag/v3.0.0. Use suggest_float(..., log=True) instead.\n",
      "  weight_decay = trial.suggest_loguniform(\"weight_decay\", 1e-5, 1e-2)   # 範囲を調整\n",
      "[I 2024-12-04 17:14:40,413] Trial 42 pruned. \n",
      "[I 2024-12-04 17:16:56,599] Trial 43 finished with value: 0.19088761429254134 and parameters: {'learning_rate': 0.00013948636063592181, 'weight_decay': 0.0011964166243450855}. Best is trial 9 with value: 0.32882073813868984.\n"
     ]
    },
    {
     "name": "stdout",
     "output_type": "stream",
     "text": [
      "Early stopping at epoch 45\n",
      "Final MCC: 0.1909\n"
     ]
    },
    {
     "name": "stderr",
     "output_type": "stream",
     "text": [
      "/tmp/ipykernel_282705/1190680174.py:2: FutureWarning: suggest_loguniform has been deprecated in v3.0.0. This feature will be removed in v6.0.0. See https://github.com/optuna/optuna/releases/tag/v3.0.0. Use suggest_float(..., log=True) instead.\n",
      "  learning_rate = trial.suggest_loguniform(\"learning_rate\", 1e-4, 1e-2)  # 範囲を調整\n",
      "/tmp/ipykernel_282705/1190680174.py:3: FutureWarning: suggest_loguniform has been deprecated in v3.0.0. This feature will be removed in v6.0.0. See https://github.com/optuna/optuna/releases/tag/v3.0.0. Use suggest_float(..., log=True) instead.\n",
      "  weight_decay = trial.suggest_loguniform(\"weight_decay\", 1e-5, 1e-2)   # 範囲を調整\n",
      "[I 2024-12-04 17:16:59,620] Trial 44 pruned. \n",
      "[I 2024-12-04 17:17:02,587] Trial 45 pruned. \n",
      "[I 2024-12-04 17:17:05,593] Trial 46 pruned. \n",
      "[I 2024-12-04 17:18:40,684] Trial 47 finished with value: 0.0 and parameters: {'learning_rate': 0.008474122381961081, 'weight_decay': 0.000990019774678551}. Best is trial 9 with value: 0.32882073813868984.\n"
     ]
    },
    {
     "name": "stdout",
     "output_type": "stream",
     "text": [
      "Early stopping at epoch 31\n",
      "Final MCC: 0.0000\n"
     ]
    },
    {
     "name": "stderr",
     "output_type": "stream",
     "text": [
      "/tmp/ipykernel_282705/1190680174.py:2: FutureWarning: suggest_loguniform has been deprecated in v3.0.0. This feature will be removed in v6.0.0. See https://github.com/optuna/optuna/releases/tag/v3.0.0. Use suggest_float(..., log=True) instead.\n",
      "  learning_rate = trial.suggest_loguniform(\"learning_rate\", 1e-4, 1e-2)  # 範囲を調整\n",
      "/tmp/ipykernel_282705/1190680174.py:3: FutureWarning: suggest_loguniform has been deprecated in v3.0.0. This feature will be removed in v6.0.0. See https://github.com/optuna/optuna/releases/tag/v3.0.0. Use suggest_float(..., log=True) instead.\n",
      "  weight_decay = trial.suggest_loguniform(\"weight_decay\", 1e-5, 1e-2)   # 範囲を調整\n",
      "[I 2024-12-04 17:18:43,662] Trial 48 pruned. \n",
      "[I 2024-12-04 17:18:46,637] Trial 49 pruned. \n",
      "[I 2024-12-04 17:20:28,062] Trial 50 finished with value: 0.30348848933344197 and parameters: {'learning_rate': 0.0001557586919456737, 'weight_decay': 0.0015535374288027579}. Best is trial 9 with value: 0.32882073813868984.\n"
     ]
    },
    {
     "name": "stdout",
     "output_type": "stream",
     "text": [
      "Early stopping at epoch 33\n",
      "Final MCC: 0.3035\n"
     ]
    },
    {
     "name": "stderr",
     "output_type": "stream",
     "text": [
      "/tmp/ipykernel_282705/1190680174.py:2: FutureWarning: suggest_loguniform has been deprecated in v3.0.0. This feature will be removed in v6.0.0. See https://github.com/optuna/optuna/releases/tag/v3.0.0. Use suggest_float(..., log=True) instead.\n",
      "  learning_rate = trial.suggest_loguniform(\"learning_rate\", 1e-4, 1e-2)  # 範囲を調整\n",
      "/tmp/ipykernel_282705/1190680174.py:3: FutureWarning: suggest_loguniform has been deprecated in v3.0.0. This feature will be removed in v6.0.0. See https://github.com/optuna/optuna/releases/tag/v3.0.0. Use suggest_float(..., log=True) instead.\n",
      "  weight_decay = trial.suggest_loguniform(\"weight_decay\", 1e-5, 1e-2)   # 範囲を調整\n",
      "[I 2024-12-04 17:22:59,586] Trial 51 finished with value: 0.2535772325601047 and parameters: {'learning_rate': 0.00016668308242616503, 'weight_decay': 0.0016225172857749705}. Best is trial 9 with value: 0.32882073813868984.\n"
     ]
    },
    {
     "name": "stdout",
     "output_type": "stream",
     "text": [
      "Early stopping at epoch 50\n",
      "Final MCC: 0.2536\n"
     ]
    },
    {
     "name": "stderr",
     "output_type": "stream",
     "text": [
      "/tmp/ipykernel_282705/1190680174.py:2: FutureWarning: suggest_loguniform has been deprecated in v3.0.0. This feature will be removed in v6.0.0. See https://github.com/optuna/optuna/releases/tag/v3.0.0. Use suggest_float(..., log=True) instead.\n",
      "  learning_rate = trial.suggest_loguniform(\"learning_rate\", 1e-4, 1e-2)  # 範囲を調整\n",
      "/tmp/ipykernel_282705/1190680174.py:3: FutureWarning: suggest_loguniform has been deprecated in v3.0.0. This feature will be removed in v6.0.0. See https://github.com/optuna/optuna/releases/tag/v3.0.0. Use suggest_float(..., log=True) instead.\n",
      "  weight_decay = trial.suggest_loguniform(\"weight_decay\", 1e-5, 1e-2)   # 範囲を調整\n",
      "[I 2024-12-04 17:23:02,582] Trial 52 pruned. \n",
      "[I 2024-12-04 17:23:05,553] Trial 53 pruned. \n",
      "[I 2024-12-04 17:23:08,521] Trial 54 pruned. \n",
      "[I 2024-12-04 17:23:11,513] Trial 55 pruned. \n",
      "[I 2024-12-04 17:24:55,600] Trial 56 finished with value: 0.3183000707900252 and parameters: {'learning_rate': 0.00010164096930594467, 'weight_decay': 0.0021599428013083155}. Best is trial 9 with value: 0.32882073813868984.\n"
     ]
    },
    {
     "name": "stdout",
     "output_type": "stream",
     "text": [
      "Early stopping at epoch 34\n",
      "Final MCC: 0.3183\n"
     ]
    },
    {
     "name": "stderr",
     "output_type": "stream",
     "text": [
      "/tmp/ipykernel_282705/1190680174.py:2: FutureWarning: suggest_loguniform has been deprecated in v3.0.0. This feature will be removed in v6.0.0. See https://github.com/optuna/optuna/releases/tag/v3.0.0. Use suggest_float(..., log=True) instead.\n",
      "  learning_rate = trial.suggest_loguniform(\"learning_rate\", 1e-4, 1e-2)  # 範囲を調整\n",
      "/tmp/ipykernel_282705/1190680174.py:3: FutureWarning: suggest_loguniform has been deprecated in v3.0.0. This feature will be removed in v6.0.0. See https://github.com/optuna/optuna/releases/tag/v3.0.0. Use suggest_float(..., log=True) instead.\n",
      "  weight_decay = trial.suggest_loguniform(\"weight_decay\", 1e-5, 1e-2)   # 範囲を調整\n",
      "[I 2024-12-04 17:24:58,596] Trial 57 pruned. \n",
      "[I 2024-12-04 17:25:01,589] Trial 58 pruned. \n",
      "[I 2024-12-04 17:25:04,606] Trial 59 pruned. \n",
      "[I 2024-12-04 17:25:07,613] Trial 60 pruned. \n",
      "[I 2024-12-04 17:25:10,594] Trial 61 pruned. \n",
      "[I 2024-12-04 17:25:13,629] Trial 62 pruned. \n",
      "[I 2024-12-04 17:30:06,132] Trial 63 finished with value: 0.2724782962121822 and parameters: {'learning_rate': 0.00012065070160130234, 'weight_decay': 0.008226107343766146}. Best is trial 9 with value: 0.32882073813868984.\n"
     ]
    },
    {
     "name": "stdout",
     "output_type": "stream",
     "text": [
      "Early stopping at epoch 96\n",
      "Final MCC: 0.2725\n"
     ]
    },
    {
     "name": "stderr",
     "output_type": "stream",
     "text": [
      "/tmp/ipykernel_282705/1190680174.py:2: FutureWarning: suggest_loguniform has been deprecated in v3.0.0. This feature will be removed in v6.0.0. See https://github.com/optuna/optuna/releases/tag/v3.0.0. Use suggest_float(..., log=True) instead.\n",
      "  learning_rate = trial.suggest_loguniform(\"learning_rate\", 1e-4, 1e-2)  # 範囲を調整\n",
      "/tmp/ipykernel_282705/1190680174.py:3: FutureWarning: suggest_loguniform has been deprecated in v3.0.0. This feature will be removed in v6.0.0. See https://github.com/optuna/optuna/releases/tag/v3.0.0. Use suggest_float(..., log=True) instead.\n",
      "  weight_decay = trial.suggest_loguniform(\"weight_decay\", 1e-5, 1e-2)   # 範囲を調整\n",
      "[I 2024-12-04 17:30:09,183] Trial 64 pruned. \n",
      "[I 2024-12-04 17:30:12,214] Trial 65 pruned. \n",
      "[I 2024-12-04 17:30:15,290] Trial 66 pruned. \n",
      "[I 2024-12-04 17:30:18,332] Trial 67 pruned. \n",
      "[I 2024-12-04 17:32:36,999] Trial 68 finished with value: 0.3007160357898652 and parameters: {'learning_rate': 0.000122443189199431, 'weight_decay': 0.00553503711394812}. Best is trial 9 with value: 0.32882073813868984.\n"
     ]
    },
    {
     "name": "stdout",
     "output_type": "stream",
     "text": [
      "Early stopping at epoch 45\n",
      "Final MCC: 0.3007\n"
     ]
    },
    {
     "name": "stderr",
     "output_type": "stream",
     "text": [
      "/tmp/ipykernel_282705/1190680174.py:2: FutureWarning: suggest_loguniform has been deprecated in v3.0.0. This feature will be removed in v6.0.0. See https://github.com/optuna/optuna/releases/tag/v3.0.0. Use suggest_float(..., log=True) instead.\n",
      "  learning_rate = trial.suggest_loguniform(\"learning_rate\", 1e-4, 1e-2)  # 範囲を調整\n",
      "/tmp/ipykernel_282705/1190680174.py:3: FutureWarning: suggest_loguniform has been deprecated in v3.0.0. This feature will be removed in v6.0.0. See https://github.com/optuna/optuna/releases/tag/v3.0.0. Use suggest_float(..., log=True) instead.\n",
      "  weight_decay = trial.suggest_loguniform(\"weight_decay\", 1e-5, 1e-2)   # 範囲を調整\n",
      "[I 2024-12-04 17:32:39,997] Trial 69 pruned. \n",
      "[I 2024-12-04 17:33:49,990] Trial 70 finished with value: 0.2904818397905802 and parameters: {'learning_rate': 0.0022114536636227795, 'weight_decay': 0.0036731356739885365}. Best is trial 9 with value: 0.32882073813868984.\n"
     ]
    },
    {
     "name": "stdout",
     "output_type": "stream",
     "text": [
      "Early stopping at epoch 24\n",
      "Final MCC: 0.2905\n"
     ]
    },
    {
     "name": "stderr",
     "output_type": "stream",
     "text": [
      "/tmp/ipykernel_282705/1190680174.py:2: FutureWarning: suggest_loguniform has been deprecated in v3.0.0. This feature will be removed in v6.0.0. See https://github.com/optuna/optuna/releases/tag/v3.0.0. Use suggest_float(..., log=True) instead.\n",
      "  learning_rate = trial.suggest_loguniform(\"learning_rate\", 1e-4, 1e-2)  # 範囲を調整\n",
      "/tmp/ipykernel_282705/1190680174.py:3: FutureWarning: suggest_loguniform has been deprecated in v3.0.0. This feature will be removed in v6.0.0. See https://github.com/optuna/optuna/releases/tag/v3.0.0. Use suggest_float(..., log=True) instead.\n",
      "  weight_decay = trial.suggest_loguniform(\"weight_decay\", 1e-5, 1e-2)   # 範囲を調整\n",
      "[I 2024-12-04 17:36:36,184] Trial 71 finished with value: 0.29072133077420836 and parameters: {'learning_rate': 0.00011034989824216662, 'weight_decay': 0.005510718655159179}. Best is trial 9 with value: 0.32882073813868984.\n"
     ]
    },
    {
     "name": "stdout",
     "output_type": "stream",
     "text": [
      "Early stopping at epoch 60\n",
      "Final MCC: 0.2907\n"
     ]
    },
    {
     "name": "stderr",
     "output_type": "stream",
     "text": [
      "/tmp/ipykernel_282705/1190680174.py:2: FutureWarning: suggest_loguniform has been deprecated in v3.0.0. This feature will be removed in v6.0.0. See https://github.com/optuna/optuna/releases/tag/v3.0.0. Use suggest_float(..., log=True) instead.\n",
      "  learning_rate = trial.suggest_loguniform(\"learning_rate\", 1e-4, 1e-2)  # 範囲を調整\n",
      "/tmp/ipykernel_282705/1190680174.py:3: FutureWarning: suggest_loguniform has been deprecated in v3.0.0. This feature will be removed in v6.0.0. See https://github.com/optuna/optuna/releases/tag/v3.0.0. Use suggest_float(..., log=True) instead.\n",
      "  weight_decay = trial.suggest_loguniform(\"weight_decay\", 1e-5, 1e-2)   # 範囲を調整\n",
      "[I 2024-12-04 17:36:38,840] Trial 72 pruned. \n",
      "[I 2024-12-04 17:36:41,437] Trial 73 pruned. \n",
      "[I 2024-12-04 17:36:44,022] Trial 74 pruned. \n",
      "[I 2024-12-04 17:36:46,594] Trial 75 pruned. \n",
      "[I 2024-12-04 17:38:07,727] Trial 76 finished with value: 0.0 and parameters: {'learning_rate': 0.009908980816349586, 'weight_decay': 0.0015842620985827083}. Best is trial 9 with value: 0.32882073813868984.\n"
     ]
    },
    {
     "name": "stdout",
     "output_type": "stream",
     "text": [
      "Early stopping at epoch 30\n",
      "Final MCC: 0.0000\n"
     ]
    },
    {
     "name": "stderr",
     "output_type": "stream",
     "text": [
      "/tmp/ipykernel_282705/1190680174.py:2: FutureWarning: suggest_loguniform has been deprecated in v3.0.0. This feature will be removed in v6.0.0. See https://github.com/optuna/optuna/releases/tag/v3.0.0. Use suggest_float(..., log=True) instead.\n",
      "  learning_rate = trial.suggest_loguniform(\"learning_rate\", 1e-4, 1e-2)  # 範囲を調整\n",
      "/tmp/ipykernel_282705/1190680174.py:3: FutureWarning: suggest_loguniform has been deprecated in v3.0.0. This feature will be removed in v6.0.0. See https://github.com/optuna/optuna/releases/tag/v3.0.0. Use suggest_float(..., log=True) instead.\n",
      "  weight_decay = trial.suggest_loguniform(\"weight_decay\", 1e-5, 1e-2)   # 範囲を調整\n",
      "[I 2024-12-04 17:40:04,506] Trial 77 finished with value: 0.2172834164659464 and parameters: {'learning_rate': 0.00010104335961894153, 'weight_decay': 0.005773001564475738}. Best is trial 9 with value: 0.32882073813868984.\n"
     ]
    },
    {
     "name": "stdout",
     "output_type": "stream",
     "text": [
      "Early stopping at epoch 43\n",
      "Final MCC: 0.2173\n"
     ]
    },
    {
     "name": "stderr",
     "output_type": "stream",
     "text": [
      "/tmp/ipykernel_282705/1190680174.py:2: FutureWarning: suggest_loguniform has been deprecated in v3.0.0. This feature will be removed in v6.0.0. See https://github.com/optuna/optuna/releases/tag/v3.0.0. Use suggest_float(..., log=True) instead.\n",
      "  learning_rate = trial.suggest_loguniform(\"learning_rate\", 1e-4, 1e-2)  # 範囲を調整\n",
      "/tmp/ipykernel_282705/1190680174.py:3: FutureWarning: suggest_loguniform has been deprecated in v3.0.0. This feature will be removed in v6.0.0. See https://github.com/optuna/optuna/releases/tag/v3.0.0. Use suggest_float(..., log=True) instead.\n",
      "  weight_decay = trial.suggest_loguniform(\"weight_decay\", 1e-5, 1e-2)   # 範囲を調整\n",
      "[I 2024-12-04 17:40:07,330] Trial 78 pruned. \n",
      "[I 2024-12-04 17:40:10,048] Trial 79 pruned. \n",
      "[I 2024-12-04 17:40:12,720] Trial 80 pruned. \n",
      "[I 2024-12-04 17:40:15,399] Trial 81 pruned. \n",
      "[I 2024-12-04 17:40:18,139] Trial 82 pruned. \n",
      "[I 2024-12-04 17:40:20,905] Trial 83 pruned. \n",
      "[I 2024-12-04 17:40:23,643] Trial 84 pruned. \n",
      "[I 2024-12-04 17:42:17,520] Trial 85 finished with value: 0.2956695465288894 and parameters: {'learning_rate': 0.00012988638492503955, 'weight_decay': 0.003773017638321515}. Best is trial 9 with value: 0.32882073813868984.\n"
     ]
    },
    {
     "name": "stdout",
     "output_type": "stream",
     "text": [
      "Early stopping at epoch 42\n",
      "Final MCC: 0.2957\n"
     ]
    },
    {
     "name": "stderr",
     "output_type": "stream",
     "text": [
      "/tmp/ipykernel_282705/1190680174.py:2: FutureWarning: suggest_loguniform has been deprecated in v3.0.0. This feature will be removed in v6.0.0. See https://github.com/optuna/optuna/releases/tag/v3.0.0. Use suggest_float(..., log=True) instead.\n",
      "  learning_rate = trial.suggest_loguniform(\"learning_rate\", 1e-4, 1e-2)  # 範囲を調整\n",
      "/tmp/ipykernel_282705/1190680174.py:3: FutureWarning: suggest_loguniform has been deprecated in v3.0.0. This feature will be removed in v6.0.0. See https://github.com/optuna/optuna/releases/tag/v3.0.0. Use suggest_float(..., log=True) instead.\n",
      "  weight_decay = trial.suggest_loguniform(\"weight_decay\", 1e-5, 1e-2)   # 範囲を調整\n",
      "[I 2024-12-04 17:42:20,179] Trial 86 pruned. \n",
      "[I 2024-12-04 17:42:22,922] Trial 87 pruned. \n",
      "[I 2024-12-04 17:42:25,551] Trial 88 pruned. \n",
      "[I 2024-12-04 17:42:28,151] Trial 89 pruned. \n",
      "[I 2024-12-04 17:42:30,651] Trial 90 pruned. \n",
      "[I 2024-12-04 17:42:33,280] Trial 91 pruned. \n",
      "[I 2024-12-04 17:45:14,260] Trial 92 finished with value: 0.20631909162161308 and parameters: {'learning_rate': 0.0001103749738520405, 'weight_decay': 0.00412139116517769}. Best is trial 9 with value: 0.32882073813868984.\n"
     ]
    },
    {
     "name": "stdout",
     "output_type": "stream",
     "text": [
      "Early stopping at epoch 60\n",
      "Final MCC: 0.2063\n"
     ]
    },
    {
     "name": "stderr",
     "output_type": "stream",
     "text": [
      "/tmp/ipykernel_282705/1190680174.py:2: FutureWarning: suggest_loguniform has been deprecated in v3.0.0. This feature will be removed in v6.0.0. See https://github.com/optuna/optuna/releases/tag/v3.0.0. Use suggest_float(..., log=True) instead.\n",
      "  learning_rate = trial.suggest_loguniform(\"learning_rate\", 1e-4, 1e-2)  # 範囲を調整\n",
      "/tmp/ipykernel_282705/1190680174.py:3: FutureWarning: suggest_loguniform has been deprecated in v3.0.0. This feature will be removed in v6.0.0. See https://github.com/optuna/optuna/releases/tag/v3.0.0. Use suggest_float(..., log=True) instead.\n",
      "  weight_decay = trial.suggest_loguniform(\"weight_decay\", 1e-5, 1e-2)   # 範囲を調整\n",
      "[I 2024-12-04 17:45:16,825] Trial 93 pruned. \n",
      "[I 2024-12-04 17:48:17,517] Trial 94 finished with value: 0.2771739468734333 and parameters: {'learning_rate': 0.00016287489038922047, 'weight_decay': 0.0064287543324691955}. Best is trial 9 with value: 0.32882073813868984.\n"
     ]
    },
    {
     "name": "stdout",
     "output_type": "stream",
     "text": [
      "Early stopping at epoch 68\n",
      "Final MCC: 0.2772\n"
     ]
    },
    {
     "name": "stderr",
     "output_type": "stream",
     "text": [
      "/tmp/ipykernel_282705/1190680174.py:2: FutureWarning: suggest_loguniform has been deprecated in v3.0.0. This feature will be removed in v6.0.0. See https://github.com/optuna/optuna/releases/tag/v3.0.0. Use suggest_float(..., log=True) instead.\n",
      "  learning_rate = trial.suggest_loguniform(\"learning_rate\", 1e-4, 1e-2)  # 範囲を調整\n",
      "/tmp/ipykernel_282705/1190680174.py:3: FutureWarning: suggest_loguniform has been deprecated in v3.0.0. This feature will be removed in v6.0.0. See https://github.com/optuna/optuna/releases/tag/v3.0.0. Use suggest_float(..., log=True) instead.\n",
      "  weight_decay = trial.suggest_loguniform(\"weight_decay\", 1e-5, 1e-2)   # 範囲を調整\n",
      "[I 2024-12-04 17:50:44,633] Trial 95 finished with value: 0.27510921178155795 and parameters: {'learning_rate': 0.00011239543589471981, 'weight_decay': 0.002019179108108038}. Best is trial 9 with value: 0.32882073813868984.\n"
     ]
    },
    {
     "name": "stdout",
     "output_type": "stream",
     "text": [
      "Early stopping at epoch 55\n",
      "Final MCC: 0.2751\n"
     ]
    },
    {
     "name": "stderr",
     "output_type": "stream",
     "text": [
      "/tmp/ipykernel_282705/1190680174.py:2: FutureWarning: suggest_loguniform has been deprecated in v3.0.0. This feature will be removed in v6.0.0. See https://github.com/optuna/optuna/releases/tag/v3.0.0. Use suggest_float(..., log=True) instead.\n",
      "  learning_rate = trial.suggest_loguniform(\"learning_rate\", 1e-4, 1e-2)  # 範囲を調整\n",
      "/tmp/ipykernel_282705/1190680174.py:3: FutureWarning: suggest_loguniform has been deprecated in v3.0.0. This feature will be removed in v6.0.0. See https://github.com/optuna/optuna/releases/tag/v3.0.0. Use suggest_float(..., log=True) instead.\n",
      "  weight_decay = trial.suggest_loguniform(\"weight_decay\", 1e-5, 1e-2)   # 範囲を調整\n",
      "[I 2024-12-04 17:50:47,282] Trial 96 pruned. \n",
      "[I 2024-12-04 17:50:49,873] Trial 97 pruned. \n",
      "[I 2024-12-04 17:50:52,499] Trial 98 pruned. \n",
      "[I 2024-12-04 17:50:55,077] Trial 99 pruned. \n"
     ]
    },
    {
     "name": "stdout",
     "output_type": "stream",
     "text": [
      "Best Parameters:  {'learning_rate': 0.0012618353814914398, 'weight_decay': 0.0006914925225587698}\n",
      "Best Validation F1:  0.32882073813868984\n"
     ]
    }
   ],
   "source": [
    "device_id = 0  # 使用するGPUのID（0または1）\n",
    "torch.cuda.set_device(device_id)\n",
    "device = torch.device(f\"cuda:{device_id}\" if torch.cuda.is_available() else \"cpu\")\n",
    "\n",
    "# Optunaの設定\n",
    "study = optuna.create_study(direction=\"maximize\")  \n",
    "study.optimize(objective, n_trials=100)\n",
    "\n",
    "# 結果表示\n",
    "print(\"Best Parameters: \", study.best_params)\n",
    "print(\"Best Validation F1: \", study.best_value)"
   ]
  },
  {
   "cell_type": "code",
   "execution_count": 19,
   "metadata": {},
   "outputs": [
    {
     "name": "stdout",
     "output_type": "stream",
     "text": [
      "Epoch [1/100], Loss: 0.5857\n",
      "Epoch [1/100], Train Loss: 0.5857, Val Loss: 0.5698\n",
      "Epoch [2/100], Loss: 0.5665\n",
      "Epoch [2/100], Train Loss: 0.5665, Val Loss: 0.5695\n",
      "Epoch [3/100], Loss: 0.5654\n",
      "Epoch [3/100], Train Loss: 0.5654, Val Loss: 0.5640\n",
      "Epoch [4/100], Loss: 0.5643\n",
      "Epoch [4/100], Train Loss: 0.5643, Val Loss: 0.5628\n",
      "Epoch [5/100], Loss: 0.5599\n",
      "Epoch [5/100], Train Loss: 0.5599, Val Loss: 0.5789\n",
      "Epoch [6/100], Loss: 0.5599\n",
      "Epoch [6/100], Train Loss: 0.5599, Val Loss: 0.5662\n",
      "Epoch [7/100], Loss: 0.5622\n",
      "Epoch [7/100], Train Loss: 0.5622, Val Loss: 0.5680\n",
      "Epoch [8/100], Loss: 0.5607\n",
      "Epoch [8/100], Train Loss: 0.5607, Val Loss: 0.5652\n",
      "Epoch [9/100], Loss: 0.5603\n",
      "Epoch [9/100], Train Loss: 0.5603, Val Loss: 0.5624\n",
      "Epoch [10/100], Loss: 0.5611\n",
      "Epoch [10/100], Train Loss: 0.5611, Val Loss: 0.5654\n",
      "Epoch [11/100], Loss: 0.5572\n",
      "Epoch [11/100], Train Loss: 0.5572, Val Loss: 0.5650\n",
      "Epoch [12/100], Loss: 0.5584\n",
      "Epoch [12/100], Train Loss: 0.5584, Val Loss: 0.5679\n",
      "Epoch [13/100], Loss: 0.5573\n",
      "Epoch [13/100], Train Loss: 0.5573, Val Loss: 0.5649\n",
      "Epoch [14/100], Loss: 0.5572\n",
      "Epoch [14/100], Train Loss: 0.5572, Val Loss: 0.5633\n",
      "Epoch [15/100], Loss: 0.5573\n",
      "Epoch [15/100], Train Loss: 0.5573, Val Loss: 0.5675\n",
      "Epoch [16/100], Loss: 0.5572\n",
      "Epoch [16/100], Train Loss: 0.5572, Val Loss: 0.5685\n",
      "Epoch [17/100], Loss: 0.5574\n",
      "Epoch [17/100], Train Loss: 0.5574, Val Loss: 0.5647\n",
      "Epoch [18/100], Loss: 0.5545\n",
      "Epoch [18/100], Train Loss: 0.5545, Val Loss: 0.5612\n",
      "Epoch [19/100], Loss: 0.5542\n",
      "Epoch [19/100], Train Loss: 0.5542, Val Loss: 0.5628\n",
      "Epoch [20/100], Loss: 0.5550\n",
      "Epoch [20/100], Train Loss: 0.5550, Val Loss: 0.5617\n",
      "Epoch [21/100], Loss: 0.5544\n",
      "Epoch [21/100], Train Loss: 0.5544, Val Loss: 0.5674\n",
      "Epoch [22/100], Loss: 0.5536\n",
      "Epoch [22/100], Train Loss: 0.5536, Val Loss: 0.5639\n",
      "Epoch [23/100], Loss: 0.5542\n",
      "Epoch [23/100], Train Loss: 0.5542, Val Loss: 0.5630\n",
      "Epoch [24/100], Loss: 0.5536\n",
      "Epoch [24/100], Train Loss: 0.5536, Val Loss: 0.5633\n",
      "Epoch [25/100], Loss: 0.5541\n",
      "Epoch [25/100], Train Loss: 0.5541, Val Loss: 0.5646\n",
      "Epoch [26/100], Loss: 0.5513\n",
      "Epoch [26/100], Train Loss: 0.5513, Val Loss: 0.5662\n",
      "Epoch [27/100], Loss: 0.5538\n",
      "Epoch [27/100], Train Loss: 0.5538, Val Loss: 0.5706\n",
      "Epoch [28/100], Loss: 0.5536\n",
      "Epoch [28/100], Train Loss: 0.5536, Val Loss: 0.5675\n",
      "Epoch [29/100], Loss: 0.5521\n",
      "Epoch [29/100], Train Loss: 0.5521, Val Loss: 0.5610\n",
      "Epoch [30/100], Loss: 0.5534\n",
      "Epoch [30/100], Train Loss: 0.5534, Val Loss: 0.5661\n",
      "Epoch [31/100], Loss: 0.5507\n",
      "Epoch [31/100], Train Loss: 0.5507, Val Loss: 0.6020\n",
      "Epoch [32/100], Loss: 0.5508\n",
      "Epoch [32/100], Train Loss: 0.5508, Val Loss: 0.5819\n",
      "Epoch [33/100], Loss: 0.5516\n",
      "Epoch [33/100], Train Loss: 0.5516, Val Loss: 0.5827\n",
      "Epoch [34/100], Loss: 0.5505\n",
      "Epoch [34/100], Train Loss: 0.5505, Val Loss: 0.5666\n",
      "Epoch [35/100], Loss: 0.5487\n",
      "Epoch [35/100], Train Loss: 0.5487, Val Loss: 0.5884\n",
      "Epoch [36/100], Loss: 0.5505\n",
      "Epoch [36/100], Train Loss: 0.5505, Val Loss: 0.5642\n",
      "Epoch [37/100], Loss: 0.5488\n",
      "Epoch [37/100], Train Loss: 0.5488, Val Loss: 0.5721\n",
      "Epoch [38/100], Loss: 0.5528\n",
      "Epoch [38/100], Train Loss: 0.5528, Val Loss: 0.5657\n",
      "Epoch [39/100], Loss: 0.5499\n",
      "Epoch [39/100], Train Loss: 0.5499, Val Loss: 0.5696\n",
      "Epoch [40/100], Loss: 0.5509\n",
      "Epoch [40/100], Train Loss: 0.5509, Val Loss: 0.5791\n",
      "Epoch [41/100], Loss: 0.5493\n",
      "Epoch [41/100], Train Loss: 0.5493, Val Loss: 0.5736\n",
      "Epoch [42/100], Loss: 0.5504\n",
      "Epoch [42/100], Train Loss: 0.5504, Val Loss: 0.6722\n",
      "Epoch [43/100], Loss: 0.5510\n",
      "Epoch [43/100], Train Loss: 0.5510, Val Loss: 0.5672\n",
      "Epoch [44/100], Loss: 0.5472\n",
      "Epoch [44/100], Train Loss: 0.5472, Val Loss: 0.5742\n",
      "Epoch [45/100], Loss: 0.5486\n",
      "Epoch [45/100], Train Loss: 0.5486, Val Loss: 0.5708\n",
      "Epoch [46/100], Loss: 0.5499\n",
      "Epoch [46/100], Train Loss: 0.5499, Val Loss: 0.5698\n",
      "Epoch [47/100], Loss: 0.5495\n",
      "Epoch [47/100], Train Loss: 0.5495, Val Loss: 0.5842\n",
      "Epoch [48/100], Loss: 0.5481\n",
      "Epoch [48/100], Train Loss: 0.5481, Val Loss: 0.5823\n",
      "Epoch [49/100], Loss: 0.5478\n",
      "Epoch [49/100], Train Loss: 0.5478, Val Loss: 0.5834\n",
      "Epoch [50/100], Loss: 0.5465\n",
      "Epoch [50/100], Train Loss: 0.5465, Val Loss: 0.5691\n",
      "Epoch [51/100], Loss: 0.5466\n",
      "Epoch [51/100], Train Loss: 0.5466, Val Loss: 0.5729\n",
      "Epoch [52/100], Loss: 0.5470\n",
      "Epoch [52/100], Train Loss: 0.5470, Val Loss: 0.5677\n",
      "Epoch [53/100], Loss: 0.5442\n",
      "Epoch [53/100], Train Loss: 0.5442, Val Loss: 0.6605\n",
      "Epoch [54/100], Loss: 0.5466\n",
      "Epoch [54/100], Train Loss: 0.5466, Val Loss: 0.5965\n",
      "Epoch [55/100], Loss: 0.5457\n",
      "Epoch [55/100], Train Loss: 0.5457, Val Loss: 0.6125\n",
      "Epoch [56/100], Loss: 0.5450\n",
      "Epoch [56/100], Train Loss: 0.5450, Val Loss: 0.5727\n",
      "Epoch [57/100], Loss: 0.5461\n",
      "Epoch [57/100], Train Loss: 0.5461, Val Loss: 0.5936\n",
      "Epoch [58/100], Loss: 0.5446\n",
      "Epoch [58/100], Train Loss: 0.5446, Val Loss: 0.5780\n",
      "Epoch [59/100], Loss: 0.5434\n",
      "Epoch [59/100], Train Loss: 0.5434, Val Loss: 0.5907\n",
      "Epoch [60/100], Loss: 0.5430\n",
      "Epoch [60/100], Train Loss: 0.5430, Val Loss: 0.6141\n",
      "Epoch [61/100], Loss: 0.5430\n",
      "Epoch [61/100], Train Loss: 0.5430, Val Loss: 0.5741\n",
      "Epoch [62/100], Loss: 0.5469\n",
      "Epoch [62/100], Train Loss: 0.5469, Val Loss: 0.5844\n",
      "Epoch [63/100], Loss: 0.5438\n",
      "Epoch [63/100], Train Loss: 0.5438, Val Loss: 0.5798\n",
      "Epoch [64/100], Loss: 0.5458\n",
      "Epoch [64/100], Train Loss: 0.5458, Val Loss: 0.5927\n",
      "Epoch [65/100], Loss: 0.5449\n",
      "Epoch [65/100], Train Loss: 0.5449, Val Loss: 0.6046\n",
      "Epoch [66/100], Loss: 0.5450\n",
      "Epoch [66/100], Train Loss: 0.5450, Val Loss: 0.6204\n",
      "Epoch [67/100], Loss: 0.5466\n",
      "Epoch [67/100], Train Loss: 0.5466, Val Loss: 0.5772\n",
      "Epoch [68/100], Loss: 0.5435\n",
      "Epoch [68/100], Train Loss: 0.5435, Val Loss: 0.5970\n",
      "Epoch [69/100], Loss: 0.5468\n",
      "Epoch [69/100], Train Loss: 0.5468, Val Loss: 0.5814\n",
      "Epoch [70/100], Loss: 0.5428\n",
      "Epoch [70/100], Train Loss: 0.5428, Val Loss: 0.5815\n",
      "Epoch [71/100], Loss: 0.5413\n",
      "Epoch [71/100], Train Loss: 0.5413, Val Loss: 0.6071\n",
      "Epoch [72/100], Loss: 0.5422\n",
      "Epoch [72/100], Train Loss: 0.5422, Val Loss: 0.6014\n",
      "Epoch [73/100], Loss: 0.5435\n",
      "Epoch [73/100], Train Loss: 0.5435, Val Loss: 0.5973\n",
      "Epoch [74/100], Loss: 0.5431\n",
      "Epoch [74/100], Train Loss: 0.5431, Val Loss: 0.6092\n",
      "Epoch [75/100], Loss: 0.5433\n",
      "Epoch [75/100], Train Loss: 0.5433, Val Loss: 0.6017\n",
      "Epoch [76/100], Loss: 0.5402\n",
      "Epoch [76/100], Train Loss: 0.5402, Val Loss: 0.6029\n",
      "Epoch [77/100], Loss: 0.5417\n",
      "Epoch [77/100], Train Loss: 0.5417, Val Loss: 0.5897\n",
      "Epoch [78/100], Loss: 0.5417\n",
      "Epoch [78/100], Train Loss: 0.5417, Val Loss: 0.5800\n",
      "Epoch [79/100], Loss: 0.5408\n",
      "Epoch [79/100], Train Loss: 0.5408, Val Loss: 0.5865\n",
      "Epoch [80/100], Loss: 0.5424\n",
      "Epoch [80/100], Train Loss: 0.5424, Val Loss: 0.5907\n",
      "Epoch [81/100], Loss: 0.5400\n",
      "Epoch [81/100], Train Loss: 0.5400, Val Loss: 0.5874\n",
      "Epoch [82/100], Loss: 0.5414\n",
      "Epoch [82/100], Train Loss: 0.5414, Val Loss: 0.5990\n",
      "Epoch [83/100], Loss: 0.5417\n",
      "Epoch [83/100], Train Loss: 0.5417, Val Loss: 0.5977\n",
      "Epoch [84/100], Loss: 0.5417\n",
      "Epoch [84/100], Train Loss: 0.5417, Val Loss: 0.5884\n",
      "Epoch [85/100], Loss: 0.5416\n",
      "Epoch [85/100], Train Loss: 0.5416, Val Loss: 0.5925\n",
      "Epoch [86/100], Loss: 0.5441\n",
      "Epoch [86/100], Train Loss: 0.5441, Val Loss: 0.5928\n",
      "Epoch [87/100], Loss: 0.5402\n",
      "Epoch [87/100], Train Loss: 0.5402, Val Loss: 0.5884\n",
      "Epoch [88/100], Loss: 0.5407\n",
      "Epoch [88/100], Train Loss: 0.5407, Val Loss: 0.6080\n",
      "Epoch [89/100], Loss: 0.5393\n",
      "Epoch [89/100], Train Loss: 0.5393, Val Loss: 0.5992\n",
      "Epoch [90/100], Loss: 0.5416\n",
      "Epoch [90/100], Train Loss: 0.5416, Val Loss: 0.6009\n",
      "Epoch [91/100], Loss: 0.5412\n",
      "Epoch [91/100], Train Loss: 0.5412, Val Loss: 0.5952\n",
      "Epoch [92/100], Loss: 0.5409\n",
      "Epoch [92/100], Train Loss: 0.5409, Val Loss: 0.6345\n",
      "Epoch [93/100], Loss: 0.5401\n",
      "Epoch [93/100], Train Loss: 0.5401, Val Loss: 0.5911\n",
      "Epoch [94/100], Loss: 0.5398\n",
      "Epoch [94/100], Train Loss: 0.5398, Val Loss: 0.6009\n",
      "Epoch [95/100], Loss: 0.5416\n",
      "Epoch [95/100], Train Loss: 0.5416, Val Loss: 0.5937\n",
      "Epoch [96/100], Loss: 0.5414\n",
      "Epoch [96/100], Train Loss: 0.5414, Val Loss: 0.6054\n",
      "Epoch [97/100], Loss: 0.5398\n",
      "Epoch [97/100], Train Loss: 0.5398, Val Loss: 0.5925\n",
      "Epoch [98/100], Loss: 0.5415\n",
      "Epoch [98/100], Train Loss: 0.5415, Val Loss: 0.6201\n",
      "Epoch [99/100], Loss: 0.5426\n",
      "Epoch [99/100], Train Loss: 0.5426, Val Loss: 0.6059\n",
      "Epoch [100/100], Loss: 0.5381\n",
      "Epoch [100/100], Train Loss: 0.5381, Val Loss: 0.6578\n"
     ]
    },
    {
     "data": {
      "image/png": "[encoded data removed]",
      "text/plain": [
       "<Figure size 1000x600 with 1 Axes>"
      ]
     },
     "metadata": {},
     "output_type": "display_data"
    }
   ],
   "source": [
    "best_params=study.best_params\n",
    "model = DNN_10(input_dim=X_train_tensor.shape[1]).to(device)\n",
    "# 最適化と訓練を実行\n",
    "optimizer = optim.Adam(model.parameters(), lr=best_params[\"learning_rate\"],weight_decay=best_params[\"weight_decay\"])\n",
    "criterion = nn.BCELoss()\n",
    "\n",
    "num_epochs=100\n",
    "train_losses = []\n",
    "val_losses = []\n",
    "\n",
    "model.train()\n",
    "for epoch in range(num_epochs):\n",
    "    epoch_train_loss = 0\n",
    "    epoch_val_loss = 0\n",
    "\n",
    "    for X_batch, y_batch in train_loader:\n",
    "        X_batch, y_batch = X_batch.to(device), y_batch.to(device)\n",
    "        optimizer.zero_grad()\n",
    "        outputs = model(X_batch).squeeze()\n",
    "        loss = criterion(outputs, y_batch.squeeze())\n",
    "        loss.backward()\n",
    "        optimizer.step()\n",
    "        epoch_train_loss += loss.item()\n",
    "    avg_train_loss = epoch_train_loss / len(train_loader)\n",
    "    train_losses.append(avg_train_loss)\n",
    "    print(f'Epoch [{epoch+1}/{num_epochs}], Loss: {avg_train_loss:.4f}')\n",
    "\n",
    "    if val_loader is not None:\n",
    "        model.eval()  \n",
    "        with torch.no_grad():\n",
    "            for X_val, y_val in val_loader:\n",
    "                X_val, y_val = X_val.to(device), y_val.to(device)\n",
    "                val_outputs = model(X_val).squeeze()\n",
    "                val_loss = criterion(val_outputs, y_val.squeeze())\n",
    "                epoch_val_loss += val_loss.item()\n",
    "\n",
    "        avg_val_loss = epoch_val_loss / len(val_loader)\n",
    "        val_losses.append(avg_val_loss)\n",
    "        model.train()  \n",
    "\n",
    "    if val_loader is not None:\n",
    "        print(f\"Epoch [{epoch+1}/{num_epochs}], Train Loss: {avg_train_loss:.4f}, Val Loss: {avg_val_loss:.4f}\")\n",
    "    else:\n",
    "        print(f\"Epoch [{epoch+1}/{num_epochs}], Train Loss: {avg_train_loss:.4f}\")\n",
    "\n",
    "plt.figure(figsize=(10, 6))\n",
    "plt.plot(range(1, num_epochs + 1), train_losses, label='Train Loss')\n",
    "if val_losses:\n",
    "    plt.plot(range(1, num_epochs + 1), val_losses, label='Validation Loss')\n",
    "plt.xlabel('Epoch')\n",
    "plt.ylabel('Loss')\n",
    "plt.title('Learning Curve for DNN1')\n",
    "plt.legend()\n",
    "plt.grid()\n",
    "plt.show()"
   ]
  },
  {
   "cell_type": "code",
   "execution_count": 20,
   "metadata": {},
   "outputs": [
    {
     "name": "stdout",
     "output_type": "stream",
     "text": [
      "Accuracy: 56.72%\n",
      "Precision: 0.4676\n",
      "Recall: 0.8732\n",
      "F1 Score: 0.6091\n",
      "Matthews Correlation Coefficient: 0.2691\n",
      "Specificity: 0.3748\n"
     ]
    },
    {
     "data": {
      "image/png": "[encoded data removed]",
      "text/plain": [
       "<Figure size 640x480 with 1 Axes>"
      ]
     },
     "metadata": {},
     "output_type": "display_data"
    },
    {
     "data": {
      "image/png": "[encoded data removed]",
      "text/plain": [
       "<Figure size 640x480 with 1 Axes>"
      ]
     },
     "metadata": {},
     "output_type": "display_data"
    },
    {
     "data": {
      "image/png": "[encoded data removed]",
      "text/plain": [
       "<Figure size 640x480 with 1 Axes>"
      ]
     },
     "metadata": {},
     "output_type": "display_data"
    }
   ],
   "source": [
    "model.eval()\n",
    "with torch.no_grad():\n",
    "    X_test_tensor = X_test_tensor.to(device)\n",
    "    y_test_tensor = y_test_tensor.to(device)\n",
    "\n",
    "    # 予測と確率\n",
    "    test_outputs = model(X_test_tensor).squeeze()\n",
    "    predictions = (test_outputs >0.49).float()\n",
    "    y_true = y_test_tensor.cpu().numpy()\n",
    "    y_pred = predictions.cpu().numpy()\n",
    "    y_prob = test_outputs.cpu().numpy()\n",
    "\n",
    "# 評価指標\n",
    "    accuracy = accuracy_score(y_true, y_pred)\n",
    "    precision = precision_score(y_true, y_pred)\n",
    "    recall = recall_score(y_true, y_pred)\n",
    "    f1 = f1_score(y_true, y_pred)\n",
    "    mcc = matthews_corrcoef(y_true, y_pred)\n",
    "    specificity = recall_score(y_true, y_pred, pos_label=0)  \n",
    "    print(f'Accuracy: {accuracy * 100:.2f}%')\n",
    "    print(f'Precision: {precision:.4f}')\n",
    "    print(f'Recall: {recall:.4f}')\n",
    "    print(f'F1 Score: {f1:.4f}')\n",
    "    print(f'Matthews Correlation Coefficient: {mcc:.4f}')\n",
    "    print(f'Specificity: {specificity:.4f}')\n",
    "\n",
    "    # 混同行列（割合表示）\n",
    "    cm = confusion_matrix(y_true, y_pred, normalize='true')\n",
    "    sns.heatmap(cm, annot=True, fmt=\".2%\", cmap=\"Blues\", cbar=False)\n",
    "    plt.xlabel(\"Predicted\")\n",
    "    plt.ylabel(\"Actual\")\n",
    "    plt.title(f\"Confusion Matrix (Normalized)\")\n",
    "    plt.show()\n",
    "\n",
    "    # ROC曲線とAUC\n",
    "    fpr, tpr, thresholds = roc_curve(y_true, y_prob)\n",
    "    roc_auc = auc(fpr, tpr)\n",
    "    plt.plot(fpr, tpr, label=f'ROC curve (AUC = {roc_auc:.2f})')\n",
    "    plt.plot([0, 1], [0, 1], 'k--') \n",
    "    plt.xlabel('False Positive Rate')\n",
    "    plt.ylabel('True Positive Rate')\n",
    "    plt.title(f'ROC Curve - Model ')\n",
    "    plt.legend(loc=\"lower right\")\n",
    "    plt.show()\n",
    "\n",
    "    # Precision-Recall曲線\n",
    "    precision_curve, recall_curve, pr_thresholds = precision_recall_curve(y_true, y_prob)\n",
    "    pr_auc = auc(recall_curve, precision_curve)\n",
    "    plt.plot(recall_curve, precision_curve, label=f'PR curve (AUC = {pr_auc:.2f})')\n",
    "    plt.xlabel('Recall')\n",
    "    plt.ylabel('Precision')\n",
    "    plt.title(f'Precision-Recall Curve ')\n",
    "    plt.legend(loc=\"lower left\")\n",
    "    plt.show()    "
   ]
  },
  {
   "cell_type": "code",
   "execution_count": 21,
   "metadata": {},
   "outputs": [],
   "source": [
    "# モデルと構造を保存\n",
    "torch.save(model.state_dict(), '../../saved_model/DNN_10.pth')\n",
    "\n"
   ]
  }
 ],
 "metadata": {
  "kernelspec": {
   "display_name": "torch",
   "language": "python",
   "name": "python3"
  },
  "language_info": {
   "codemirror_mode": {
    "name": "ipython",
    "version": 3
   },
   "file_extension": ".py",
   "mimetype": "text/x-python",
   "name": "python",
   "nbconvert_exporter": "python",
   "pygments_lexer": "ipython3",
   "version": "3.12.7"
  }
 },
 "nbformat": 4,
 "nbformat_minor": 2
}
