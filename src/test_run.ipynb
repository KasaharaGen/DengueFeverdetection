{
 "cells": [
  {
   "cell_type": "code",
   "execution_count": 1,
   "metadata": {},
   "outputs": [
    {
     "name": "stdout",
     "output_type": "stream",
     "text": [
      "An error occurred: Unable to get page count.\n",
      "Syntax Error: Invalid page count 0\n",
      "Command Line Error: Wrong page range given: the first page (1) can not be after the last page (0).\n",
      "\n"
     ]
    },
    {
     "ename": "AttributeError",
     "evalue": "'NoneType' object has no attribute 'lower'",
     "output_type": "error",
     "traceback": [
      "\u001b[0;31m---------------------------------------------------------------------------\u001b[0m",
      "\u001b[0;31mAttributeError\u001b[0m                            Traceback (most recent call last)",
      "File \u001b[0;32m~/DengueFeverDetection/src/running_preprocess.py:17\u001b[0m\n\u001b[1;32m     14\u001b[0m pdf_path \u001b[38;5;241m=\u001b[39m os\u001b[38;5;241m.\u001b[39mpath\u001b[38;5;241m.\u001b[39mjoin(dir_path, filename)\n\u001b[1;32m     16\u001b[0m text\u001b[38;5;241m=\u001b[39mpre_text\u001b[38;5;241m.\u001b[39mOCR(pdf_path)\n\u001b[0;32m---> 17\u001b[0m one_words\u001b[38;5;241m=\u001b[39m\u001b[43mpre_text\u001b[49m\u001b[38;5;241;43m.\u001b[39;49m\u001b[43mone_words\u001b[49m\u001b[43m(\u001b[49m\u001b[43mtext\u001b[49m\u001b[43m)\u001b[49m\n\u001b[1;32m     19\u001b[0m df\u001b[38;5;241m=\u001b[39mpre_df\u001b[38;5;241m.\u001b[39madd_labels_df(pre_dengue_df,one_words)\n\u001b[1;32m     20\u001b[0m store_list\u001b[38;5;241m.\u001b[39mappend(df)\n",
      "File \u001b[0;32m~/DengueFeverDetection/src/preprocess_text.py:50\u001b[0m, in \u001b[0;36mpreprocess_text.one_words\u001b[0;34m(self, text)\u001b[0m\n\u001b[1;32m     48\u001b[0m delate_words\u001b[38;5;241m=\u001b[39m{\u001b[38;5;124m\"\u001b[39m\u001b[38;5;124m.\u001b[39m\u001b[38;5;124m\"\u001b[39m:\u001b[38;5;28;01mNone\u001b[39;00m, \u001b[38;5;124m\"\u001b[39m\u001b[38;5;124m,\u001b[39m\u001b[38;5;124m\"\u001b[39m : \u001b[38;5;28;01mNone\u001b[39;00m,\u001b[38;5;124m\"\u001b[39m\u001b[38;5;124m:\u001b[39m\u001b[38;5;124m\"\u001b[39m : \u001b[38;5;28;01mNone\u001b[39;00m,\u001b[38;5;124m\"\u001b[39m\u001b[38;5;124m;\u001b[39m\u001b[38;5;124m\"\u001b[39m : \u001b[38;5;28;01mNone\u001b[39;00m,\u001b[38;5;124m\"\u001b[39m\u001b[38;5;124m!\u001b[39m\u001b[38;5;124m\"\u001b[39m : \u001b[38;5;28;01mNone\u001b[39;00m,\u001b[38;5;124m'\u001b[39m\u001b[38;5;124m\"\u001b[39m\u001b[38;5;124m'\u001b[39m :\u001b[38;5;28;01mNone\u001b[39;00m,\u001b[38;5;124m\"\u001b[39m\u001b[38;5;124m#\u001b[39m\u001b[38;5;124m\"\u001b[39m :\u001b[38;5;28;01mNone\u001b[39;00m,\u001b[38;5;124m\"\u001b[39m\u001b[38;5;124m$\u001b[39m\u001b[38;5;124m\"\u001b[39m :\u001b[38;5;28;01mNone\u001b[39;00m,\u001b[38;5;124m\"\u001b[39m\u001b[38;5;124m%\u001b[39m\u001b[38;5;124m\"\u001b[39m :\u001b[38;5;28;01mNone\u001b[39;00m,\u001b[38;5;124m\"\u001b[39m\u001b[38;5;124m&\u001b[39m\u001b[38;5;124m\"\u001b[39m :\u001b[38;5;28;01mNone\u001b[39;00m,\u001b[38;5;124m\"\u001b[39m\u001b[38;5;124m'\u001b[39m\u001b[38;5;124m\"\u001b[39m :\u001b[38;5;28;01mNone\u001b[39;00m,\u001b[38;5;124m'\u001b[39m\u001b[38;5;124m\"\u001b[39m\u001b[38;5;124m'\u001b[39m:\u001b[38;5;28;01mNone\u001b[39;00m,\u001b[38;5;124m\"\u001b[39m\u001b[38;5;124m(\u001b[39m\u001b[38;5;124m\"\u001b[39m :\u001b[38;5;28;01mNone\u001b[39;00m,\u001b[38;5;124m\"\u001b[39m\u001b[38;5;124m)\u001b[39m\u001b[38;5;124m\"\u001b[39m :\u001b[38;5;28;01mNone\u001b[39;00m,\u001b[38;5;124m\"\u001b[39m\u001b[38;5;124m=\u001b[39m\u001b[38;5;124m\"\u001b[39m :\u001b[38;5;28;01mNone\u001b[39;00m,\u001b[38;5;124m\"\u001b[39m\u001b[38;5;124m~\u001b[39m\u001b[38;5;124m\"\u001b[39m :\u001b[38;5;28;01mNone\u001b[39;00m,\u001b[38;5;124m\"\u001b[39m\u001b[38;5;124m{\u001b[39m\u001b[38;5;124m\"\u001b[39m :\u001b[38;5;28;01mNone\u001b[39;00m,\u001b[38;5;124m\"\u001b[39m\u001b[38;5;124m}\u001b[39m\u001b[38;5;124m\"\u001b[39m :\u001b[38;5;28;01mNone\u001b[39;00m,\u001b[38;5;124m\"\u001b[39m\u001b[38;5;124m[\u001b[39m\u001b[38;5;124m\"\u001b[39m :\u001b[38;5;28;01mNone\u001b[39;00m,\u001b[38;5;124m\"\u001b[39m\u001b[38;5;124m]\u001b[39m\u001b[38;5;124m\"\u001b[39m :\u001b[38;5;28;01mNone\u001b[39;00m,\u001b[38;5;124m\"\u001b[39m\u001b[38;5;124m/\u001b[39m\u001b[38;5;124m\"\u001b[39m:\u001b[38;5;28;01mNone\u001b[39;00m,\u001b[38;5;124m\"\u001b[39m\u001b[38;5;124m-\u001b[39m\u001b[38;5;124m\"\u001b[39m:\u001b[38;5;28;01mNone\u001b[39;00m,\u001b[38;5;124m\"\u001b[39m\u001b[38;5;124m_\u001b[39m\u001b[38;5;124m\"\u001b[39m:\u001b[38;5;28;01mNone\u001b[39;00m,\u001b[38;5;124m\"\u001b[39m\u001b[38;5;124m^\u001b[39m\u001b[38;5;124m\"\u001b[39m:\u001b[38;5;28;01mNone\u001b[39;00m}\n\u001b[1;32m     49\u001b[0m table\u001b[38;5;241m=\u001b[39m\u001b[38;5;28mstr\u001b[39m\u001b[38;5;241m.\u001b[39mmaketrans(delate_words)\n\u001b[0;32m---> 50\u001b[0m text\u001b[38;5;241m=\u001b[39m\u001b[43mtext\u001b[49m\u001b[38;5;241;43m.\u001b[39;49m\u001b[43mlower\u001b[49m()\n\u001b[1;32m     51\u001b[0m text\u001b[38;5;241m=\u001b[39mtext\u001b[38;5;241m.\u001b[39mtranslate(table)\n\u001b[1;32m     52\u001b[0m one_words\u001b[38;5;241m=\u001b[39mtext\u001b[38;5;241m.\u001b[39msplit()\n",
      "\u001b[0;31mAttributeError\u001b[0m: 'NoneType' object has no attribute 'lower'"
     ]
    }
   ],
   "source": [
    "%run running_preprocess.py"
   ]
  },
  {
   "cell_type": "code",
   "execution_count": null,
   "metadata": {},
   "outputs": [],
   "source": []
  }
 ],
 "metadata": {
  "kernelspec": {
   "display_name": "dengue",
   "language": "python",
   "name": "python3"
  },
  "language_info": {
   "codemirror_mode": {
    "name": "ipython",
    "version": 3
   },
   "file_extension": ".py",
   "mimetype": "text/x-python",
   "name": "python",
   "nbconvert_exporter": "python",
   "pygments_lexer": "ipython3",
   "version": "3.11.5"
  },
  "orig_nbformat": 4
 },
 "nbformat": 4,
 "nbformat_minor": 2
}
