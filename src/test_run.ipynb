{
 "cells": [
  {
   "cell_type": "code",
   "execution_count": 1,
   "metadata": {},
   "outputs": [],
   "source": [
    "import os\n",
    "from preprocess_text import preprocess_text\n",
    "from preprocess_df import preprocess_df\n",
    "\n",
    "dir_path='../data/sample_data'\n",
    "\n",
    "pre_text=preprocess_text()\n",
    "columns=['burning micturition','cold','craniocaudal','mediolateral']  #システム上小文字で入力するのを忘れずに\n",
    "pre_df=preprocess_df(columns)\n",
    "pre_dengue_df=pre_df.make_df()\n",
    "store_list=[pre_dengue_df]\n",
    "\n",
    "for filename in os.listdir(dir_path):\n",
    "    pdf_path = os.path.join(dir_path, filename)\n",
    "\n",
    "    text=pre_text.OCR(pdf_path)\n",
    "    one_words=pre_text.one_words(text)\n",
    "\n",
    "    df=pre_df.add_labels_df(pre_dengue_df,one_words)\n",
    "    store_list.append(df)\n",
    "\n",
    "Dengue_df=pre_df.comp_df(store_list)\n",
    "pre_df.make_csv(Dengue_df,'../data/Dengue2.csv')"
   ]
  },
  {
   "cell_type": "code",
   "execution_count": null,
   "metadata": {},
   "outputs": [],
   "source": []
  }
 ],
 "metadata": {
  "kernelspec": {
   "display_name": "dengue",
   "language": "python",
   "name": "python3"
  },
  "language_info": {
   "codemirror_mode": {
    "name": "ipython",
    "version": 3
   },
   "file_extension": ".py",
   "mimetype": "text/x-python",
   "name": "python",
   "nbconvert_exporter": "python",
   "pygments_lexer": "ipython3",
   "version": "3.12.4"
  },
  "orig_nbformat": 4
 },
 "nbformat": 4,
 "nbformat_minor": 2
}
