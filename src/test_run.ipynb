{
 "cells": [
  {
   "cell_type": "code",
   "execution_count": 1,
   "metadata": {},
   "outputs": [],
   "source": [
    "from preprocess import preprocess_text"
   ]
  },
  {
   "cell_type": "code",
   "execution_count": 2,
   "metadata": {},
   "outputs": [],
   "source": [
    "preprocess_text=preprocess_text()"
   ]
  },
  {
   "cell_type": "code",
   "execution_count": 3,
   "metadata": {},
   "outputs": [],
   "source": [
    "text=preprocess_text.OCR('../data/pre_data/data15.pdf')"
   ]
  },
  {
   "cell_type": "code",
   "execution_count": 4,
   "metadata": {},
   "outputs": [
    {
     "name": "stdout",
     "output_type": "stream",
     "text": [
      "diagnosis dengue fever complaints fever x 7 days headache x 4 days iustory of presenting illness patient came with wo fever since 7 days moderate grade essociated with chills and rigorsno hyo increased sweating or rash also oo headache bifruatal throbbing type no hie cough no ilo burning micturition preseat no b’o increased frequency of micturition no ho voniitingloose stools er abdominal pain past history no similar history in the past no h’o diabetes mellitus hyperiension bronchial asthma quberculosis or epilepsy family history nothing significant personal history dietmixed sleep adequate appetite adequate bowel and bladder habitsregular no hr substunee abuse general physical examination patient is moderately built and nourished conscious and oriented to time place and person no pallor iclerus clubbing eyanosis lymphadenopathy and pedal oedema pulse88bom bp12030mm of hg rr18 breaths‘min temp996f treatment tdolo 650mg sos t atarax omg 101 ive nsdns t pan 40mg 1043\n"
     ]
    }
   ],
   "source": []
  },
  {
   "cell_type": "code",
   "execution_count": null,
   "metadata": {},
   "outputs": [],
   "source": []
  }
 ],
 "metadata": {
  "kernelspec": {
   "display_name": "dengue",
   "language": "python",
   "name": "python3"
  },
  "language_info": {
   "codemirror_mode": {
    "name": "ipython",
    "version": 3
   },
   "file_extension": ".py",
   "mimetype": "text/x-python",
   "name": "python",
   "nbconvert_exporter": "python",
   "pygments_lexer": "ipython3",
   "version": "3.11.5"
  },
  "orig_nbformat": 4
 },
 "nbformat": 4,
 "nbformat_minor": 2
}
