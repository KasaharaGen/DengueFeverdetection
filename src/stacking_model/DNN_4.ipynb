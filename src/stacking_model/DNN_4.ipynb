{
 "cells": [
  {
   "cell_type": "code",
   "execution_count": 1,
   "metadata": {},
   "outputs": [],
   "source": [
    "import numpy as np\n",
    "import pandas as pd\n",
    "import matplotlib.pyplot as plt\n",
    "import seaborn as sns\n",
    "import json\n",
    "\n",
    "import torch\n",
    "import torch.nn as nn\n",
    "import torch.optim as optim\n",
    "\n",
    "import optuna\n",
    "\n",
    "from sklearn.model_selection import train_test_split\n",
    "from sklearn.metrics import confusion_matrix,accuracy_score, precision_score, recall_score, f1_score, confusion_matrix, roc_curve, auc,matthews_corrcoef, precision_recall_curve,roc_auc_score\n",
    "\n"
   ]
  },
  {
   "cell_type": "markdown",
   "metadata": {},
   "source": [
    "データ読み取り"
   ]
  },
  {
   "cell_type": "code",
   "execution_count": 2,
   "metadata": {},
   "outputs": [],
   "source": [
    "df=pd.read_csv('learning_data.csv',index_col=0)\n",
    "\n",
    "X=df.drop(columns='dengue',axis=1).values\n",
    "y=df['dengue'].values\n",
    "\n",
    "X_train, X_test, y_train, y_test = train_test_split(X, y, test_size=0.2,random_state=0)\n",
    "X_train, X_val, y_train, y_val = train_test_split(X_train, y_train, test_size=0.1,random_state=0)\n",
    "\n",
    "#torchテンソルに変換\n",
    "X_train_tensor = torch.tensor(X_train, dtype=torch.float32)\n",
    "y_train_tensor = torch.tensor(y_train, dtype=torch.float32)\n",
    "X_test_tensor = torch.tensor(X_test, dtype=torch.float32)\n",
    "y_test_tensor = torch.tensor(y_test, dtype=torch.float32)\n",
    "X_val_tensor = torch.tensor(X_val, dtype=torch.float32)\n",
    "y_val_tensor = torch.tensor(y_val, dtype=torch.float32)\n"
   ]
  },
  {
   "cell_type": "code",
   "execution_count": 3,
   "metadata": {},
   "outputs": [],
   "source": [
    "class DNN_4(nn.Module):\n",
    "    def __init__(self, input_dim,dropout1,dropout2):\n",
    "        super(DNN_4, self).__init__()\n",
    "        self.layer1 = nn.Linear(input_dim,32)\n",
    "        self.layer2 = nn.Linear(32,16)\n",
    "        self.layer3 = nn.Linear(16, 8)\n",
    "        self.layer4 = nn.Linear(8, 4)\n",
    "        self.output_layer = nn.Linear(4, 1)\n",
    "\n",
    "        self.bn1=nn.BatchNorm1d(32)\n",
    "        self.bn2=nn.BatchNorm1d(16)\n",
    "        self.bn3=nn.BatchNorm1d(8)\n",
    "        self.bn4=nn.BatchNorm1d(4)\n",
    "\n",
    "        self.dropout1 = nn.Dropout(dropout1)\n",
    "        self.dropout2 = nn.Dropout(dropout2)\n",
    "        \n",
    "        \n",
    "    def forward(self, x):\n",
    "        x = torch.relu(self.bn1(self.layer1(x)))\n",
    "        x = self.dropout1(x)\n",
    "        \n",
    "        x = torch.relu(self.bn2(self.layer2(x)))\n",
    "    \n",
    "\n",
    "        x = torch.relu(self.bn3(self.layer3(x)))\n",
    "        \n",
    "\n",
    "        x = torch.relu(self.bn4(self.layer4(x)))\n",
    "        x = self.dropout2(x)\n",
    "\n",
    "        x = torch.sigmoid(self.output_layer(x)) \n",
    "        return x\n",
    "    "
   ]
  },
  {
   "cell_type": "markdown",
   "metadata": {},
   "source": [
    "学習データセットの作成"
   ]
  },
  {
   "cell_type": "code",
   "execution_count": 4,
   "metadata": {},
   "outputs": [],
   "source": [
    "train_dataset = torch.utils.data.TensorDataset(X_train_tensor, y_train_tensor)\n",
    "train_loader = torch.utils.data.DataLoader(dataset=train_dataset, batch_size=128, shuffle=True)\n",
    "\n",
    "val_dataset = torch.utils.data.TensorDataset(X_val_tensor, y_val_tensor)\n",
    "val_loader = torch.utils.data.DataLoader(dataset=val_dataset, batch_size=128, shuffle=False)"
   ]
  },
  {
   "cell_type": "markdown",
   "metadata": {},
   "source": [
    "Optunaの設定"
   ]
  },
  {
   "cell_type": "code",
   "execution_count": 5,
   "metadata": {},
   "outputs": [],
   "source": [
    "def objective(trial):\n",
    "    dropout1 = trial.suggest_float(\"dropout1\", 0, 0.5, step=0.05)\n",
    "    dropout2 = trial.suggest_float(\"dropout2\", 0, 0.5, step=0.05)\n",
    "    learning_rate = trial.suggest_loguniform(\"learning_rate\", 1e-4, 1e-1)  # 範囲を調整\n",
    "    weight_decay = trial.suggest_loguniform(\"weight_decay\", 1e-5, 1e-1)   # 範囲を調整\n",
    "\n",
    "    # モデル定義\n",
    "    model = DNN_4(\n",
    "        input_dim=X_train_tensor.shape[1],\n",
    "        dropout1=dropout1,\n",
    "        dropout2=dropout2\n",
    "    ).to(device)\n",
    "\n",
    "    criterion = nn.BCELoss()\n",
    "    optimizer = torch.optim.Adam(model.parameters(), lr=learning_rate, weight_decay=weight_decay)\n",
    "\n",
    "    # Early Stoppingの設定\n",
    "    patience = 10\n",
    "    best_val_loss = float('inf')\n",
    "    patience_counter = 0\n",
    "\n",
    "    # 訓練ループ\n",
    "    num_epochs = 100\n",
    "    for epoch in range(num_epochs):\n",
    "        model.train()\n",
    "        for X_batch, y_batch in train_loader:\n",
    "            X_batch, y_batch = X_batch.to(device), y_batch.to(device)\n",
    "            optimizer.zero_grad()\n",
    "            outputs = model(X_batch).squeeze()\n",
    "            loss = criterion(outputs, y_batch.squeeze())\n",
    "            loss.backward()\n",
    "            optimizer.step()\n",
    "\n",
    "        # バリデーション評価\n",
    "        model.eval()\n",
    "        val_loss = 0\n",
    "        val_true, val_pred = [], []\n",
    "        with torch.no_grad():\n",
    "            for X_val, y_val in val_loader:\n",
    "                X_val, y_val = X_val.to(device), y_val.to(device)\n",
    "                val_outputs = model(X_val).squeeze()\n",
    "                val_loss += criterion(val_outputs, y_val.squeeze()).item()\n",
    "                predictions = (val_outputs >= 0.5).float()\n",
    "                val_true.extend(y_val.cpu().numpy())\n",
    "                val_pred.extend(predictions.cpu().numpy())\n",
    "\n",
    "        val_loss /= len(val_loader)\n",
    "\n",
    "        # Early Stoppingの判定\n",
    "        if val_loss < best_val_loss:\n",
    "            best_val_loss = val_loss\n",
    "            patience_counter = 0\n",
    "        else:\n",
    "            patience_counter += 1\n",
    "\n",
    "        if patience_counter >= patience:\n",
    "            print(f\"Early stopping at epoch {epoch}\")\n",
    "            break\n",
    "\n",
    "        # Optunaへのログ\n",
    "        trial.report(val_loss, epoch)\n",
    "        if trial.should_prune():\n",
    "            raise optuna.exceptions.TrialPruned()\n",
    "\n",
    "    # 評価指標の計算\n",
    "    mcc = matthews_corrcoef(val_true, val_pred)\n",
    "    print(f\"Final MCC: {mcc:.4f}\")\n",
    "\n",
    "    return mcc  # mccを返す\n"
   ]
  },
  {
   "cell_type": "code",
   "execution_count": 6,
   "metadata": {},
   "outputs": [
    {
     "name": "stderr",
     "output_type": "stream",
     "text": [
      "[I 2024-12-18 13:39:36,943] A new study created in memory with name: no-name-7bcbe35c-46ad-4f65-9cf3-592b40defc3d\n",
      "/tmp/ipykernel_41819/2413154260.py:4: FutureWarning: suggest_loguniform has been deprecated in v3.0.0. This feature will be removed in v6.0.0. See https://github.com/optuna/optuna/releases/tag/v3.0.0. Use suggest_float(..., log=True) instead.\n",
      "  learning_rate = trial.suggest_loguniform(\"learning_rate\", 1e-4, 1e-1)  # 範囲を調整\n",
      "/tmp/ipykernel_41819/2413154260.py:5: FutureWarning: suggest_loguniform has been deprecated in v3.0.0. This feature will be removed in v6.0.0. See https://github.com/optuna/optuna/releases/tag/v3.0.0. Use suggest_float(..., log=True) instead.\n",
      "  weight_decay = trial.suggest_loguniform(\"weight_decay\", 1e-5, 1e-1)   # 範囲を調整\n",
      "[I 2024-12-18 13:39:39,983] Trial 0 finished with value: 0.0 and parameters: {'dropout1': 0.4, 'dropout2': 0.2, 'learning_rate': 0.04992251569231189, 'weight_decay': 0.004929721645595585}. Best is trial 0 with value: 0.0.\n"
     ]
    },
    {
     "name": "stdout",
     "output_type": "stream",
     "text": [
      "Early stopping at epoch 13\n",
      "Final MCC: 0.0000\n"
     ]
    },
    {
     "name": "stderr",
     "output_type": "stream",
     "text": [
      "/tmp/ipykernel_41819/2413154260.py:4: FutureWarning: suggest_loguniform has been deprecated in v3.0.0. This feature will be removed in v6.0.0. See https://github.com/optuna/optuna/releases/tag/v3.0.0. Use suggest_float(..., log=True) instead.\n",
      "  learning_rate = trial.suggest_loguniform(\"learning_rate\", 1e-4, 1e-1)  # 範囲を調整\n",
      "/tmp/ipykernel_41819/2413154260.py:5: FutureWarning: suggest_loguniform has been deprecated in v3.0.0. This feature will be removed in v6.0.0. See https://github.com/optuna/optuna/releases/tag/v3.0.0. Use suggest_float(..., log=True) instead.\n",
      "  weight_decay = trial.suggest_loguniform(\"weight_decay\", 1e-5, 1e-1)   # 範囲を調整\n",
      "[I 2024-12-18 13:39:44,295] Trial 1 finished with value: 0.0 and parameters: {'dropout1': 0.25, 'dropout2': 0.1, 'learning_rate': 0.023397132062884858, 'weight_decay': 0.0005119917425771806}. Best is trial 0 with value: 0.0.\n"
     ]
    },
    {
     "name": "stdout",
     "output_type": "stream",
     "text": [
      "Early stopping at epoch 30\n",
      "Final MCC: 0.0000\n"
     ]
    },
    {
     "name": "stderr",
     "output_type": "stream",
     "text": [
      "/tmp/ipykernel_41819/2413154260.py:4: FutureWarning: suggest_loguniform has been deprecated in v3.0.0. This feature will be removed in v6.0.0. See https://github.com/optuna/optuna/releases/tag/v3.0.0. Use suggest_float(..., log=True) instead.\n",
      "  learning_rate = trial.suggest_loguniform(\"learning_rate\", 1e-4, 1e-1)  # 範囲を調整\n",
      "/tmp/ipykernel_41819/2413154260.py:5: FutureWarning: suggest_loguniform has been deprecated in v3.0.0. This feature will be removed in v6.0.0. See https://github.com/optuna/optuna/releases/tag/v3.0.0. Use suggest_float(..., log=True) instead.\n",
      "  weight_decay = trial.suggest_loguniform(\"weight_decay\", 1e-5, 1e-1)   # 範囲を調整\n",
      "[I 2024-12-18 13:39:46,829] Trial 2 finished with value: 0.0 and parameters: {'dropout1': 0.15000000000000002, 'dropout2': 0.25, 'learning_rate': 0.03418925584842156, 'weight_decay': 0.0035870730321490595}. Best is trial 0 with value: 0.0.\n"
     ]
    },
    {
     "name": "stdout",
     "output_type": "stream",
     "text": [
      "Early stopping at epoch 17\n",
      "Final MCC: 0.0000\n"
     ]
    },
    {
     "name": "stderr",
     "output_type": "stream",
     "text": [
      "/tmp/ipykernel_41819/2413154260.py:4: FutureWarning: suggest_loguniform has been deprecated in v3.0.0. This feature will be removed in v6.0.0. See https://github.com/optuna/optuna/releases/tag/v3.0.0. Use suggest_float(..., log=True) instead.\n",
      "  learning_rate = trial.suggest_loguniform(\"learning_rate\", 1e-4, 1e-1)  # 範囲を調整\n",
      "/tmp/ipykernel_41819/2413154260.py:5: FutureWarning: suggest_loguniform has been deprecated in v3.0.0. This feature will be removed in v6.0.0. See https://github.com/optuna/optuna/releases/tag/v3.0.0. Use suggest_float(..., log=True) instead.\n",
      "  weight_decay = trial.suggest_loguniform(\"weight_decay\", 1e-5, 1e-1)   # 範囲を調整\n",
      "[I 2024-12-18 13:39:51,449] Trial 3 finished with value: 0.0063250650052013415 and parameters: {'dropout1': 0.30000000000000004, 'dropout2': 0.5, 'learning_rate': 0.0035364674321454884, 'weight_decay': 0.0027479783201590433}. Best is trial 3 with value: 0.0063250650052013415.\n"
     ]
    },
    {
     "name": "stdout",
     "output_type": "stream",
     "text": [
      "Early stopping at epoch 33\n",
      "Final MCC: 0.0063\n"
     ]
    },
    {
     "name": "stderr",
     "output_type": "stream",
     "text": [
      "/tmp/ipykernel_41819/2413154260.py:4: FutureWarning: suggest_loguniform has been deprecated in v3.0.0. This feature will be removed in v6.0.0. See https://github.com/optuna/optuna/releases/tag/v3.0.0. Use suggest_float(..., log=True) instead.\n",
      "  learning_rate = trial.suggest_loguniform(\"learning_rate\", 1e-4, 1e-1)  # 範囲を調整\n",
      "/tmp/ipykernel_41819/2413154260.py:5: FutureWarning: suggest_loguniform has been deprecated in v3.0.0. This feature will be removed in v6.0.0. See https://github.com/optuna/optuna/releases/tag/v3.0.0. Use suggest_float(..., log=True) instead.\n",
      "  weight_decay = trial.suggest_loguniform(\"weight_decay\", 1e-5, 1e-1)   # 範囲を調整\n",
      "[I 2024-12-18 13:40:04,388] Trial 4 finished with value: 0.0 and parameters: {'dropout1': 0.45, 'dropout2': 0.45, 'learning_rate': 0.00010167486143123375, 'weight_decay': 0.01314683026646166}. Best is trial 3 with value: 0.0063250650052013415.\n"
     ]
    },
    {
     "name": "stdout",
     "output_type": "stream",
     "text": [
      "Final MCC: 0.0000\n"
     ]
    },
    {
     "name": "stderr",
     "output_type": "stream",
     "text": [
      "/tmp/ipykernel_41819/2413154260.py:4: FutureWarning: suggest_loguniform has been deprecated in v3.0.0. This feature will be removed in v6.0.0. See https://github.com/optuna/optuna/releases/tag/v3.0.0. Use suggest_float(..., log=True) instead.\n",
      "  learning_rate = trial.suggest_loguniform(\"learning_rate\", 1e-4, 1e-1)  # 範囲を調整\n",
      "/tmp/ipykernel_41819/2413154260.py:5: FutureWarning: suggest_loguniform has been deprecated in v3.0.0. This feature will be removed in v6.0.0. See https://github.com/optuna/optuna/releases/tag/v3.0.0. Use suggest_float(..., log=True) instead.\n",
      "  weight_decay = trial.suggest_loguniform(\"weight_decay\", 1e-5, 1e-1)   # 範囲を調整\n",
      "[I 2024-12-18 13:40:06,670] Trial 5 finished with value: 0.0 and parameters: {'dropout1': 0.5, 'dropout2': 0.2, 'learning_rate': 0.00247948184536754, 'weight_decay': 0.09169480649024819}. Best is trial 3 with value: 0.0063250650052013415.\n",
      "/tmp/ipykernel_41819/2413154260.py:4: FutureWarning: suggest_loguniform has been deprecated in v3.0.0. This feature will be removed in v6.0.0. See https://github.com/optuna/optuna/releases/tag/v3.0.0. Use suggest_float(..., log=True) instead.\n",
      "  learning_rate = trial.suggest_loguniform(\"learning_rate\", 1e-4, 1e-1)  # 範囲を調整\n",
      "/tmp/ipykernel_41819/2413154260.py:5: FutureWarning: suggest_loguniform has been deprecated in v3.0.0. This feature will be removed in v6.0.0. See https://github.com/optuna/optuna/releases/tag/v3.0.0. Use suggest_float(..., log=True) instead.\n",
      "  weight_decay = trial.suggest_loguniform(\"weight_decay\", 1e-5, 1e-1)   # 範囲を調整\n",
      "[I 2024-12-18 13:40:06,783] Trial 6 pruned. \n"
     ]
    },
    {
     "name": "stdout",
     "output_type": "stream",
     "text": [
      "Early stopping at epoch 16\n",
      "Final MCC: 0.0000\n"
     ]
    },
    {
     "name": "stderr",
     "output_type": "stream",
     "text": [
      "[I 2024-12-18 13:40:06,915] Trial 7 pruned. \n",
      "[I 2024-12-18 13:40:10,608] Trial 8 finished with value: 0.18150533187518986 and parameters: {'dropout1': 0.0, 'dropout2': 0.25, 'learning_rate': 0.00039276213111240387, 'weight_decay': 0.0016366986252299973}. Best is trial 8 with value: 0.18150533187518986.\n",
      "/tmp/ipykernel_41819/2413154260.py:4: FutureWarning: suggest_loguniform has been deprecated in v3.0.0. This feature will be removed in v6.0.0. See https://github.com/optuna/optuna/releases/tag/v3.0.0. Use suggest_float(..., log=True) instead.\n",
      "  learning_rate = trial.suggest_loguniform(\"learning_rate\", 1e-4, 1e-1)  # 範囲を調整\n",
      "/tmp/ipykernel_41819/2413154260.py:5: FutureWarning: suggest_loguniform has been deprecated in v3.0.0. This feature will be removed in v6.0.0. See https://github.com/optuna/optuna/releases/tag/v3.0.0. Use suggest_float(..., log=True) instead.\n",
      "  weight_decay = trial.suggest_loguniform(\"weight_decay\", 1e-5, 1e-1)   # 範囲を調整\n",
      "[I 2024-12-18 13:40:10,740] Trial 9 pruned. \n"
     ]
    },
    {
     "name": "stdout",
     "output_type": "stream",
     "text": [
      "Early stopping at epoch 27\n",
      "Final MCC: 0.1815\n"
     ]
    },
    {
     "name": "stderr",
     "output_type": "stream",
     "text": [
      "[I 2024-12-18 13:40:21,262] Trial 10 finished with value: 0.2586502677259226 and parameters: {'dropout1': 0.0, 'dropout2': 0.4, 'learning_rate': 0.0001642906563735688, 'weight_decay': 0.00010595542387373175}. Best is trial 10 with value: 0.2586502677259226.\n"
     ]
    },
    {
     "name": "stdout",
     "output_type": "stream",
     "text": [
      "Early stopping at epoch 80\n",
      "Final MCC: 0.2587\n"
     ]
    },
    {
     "name": "stderr",
     "output_type": "stream",
     "text": [
      "/tmp/ipykernel_41819/2413154260.py:4: FutureWarning: suggest_loguniform has been deprecated in v3.0.0. This feature will be removed in v6.0.0. See https://github.com/optuna/optuna/releases/tag/v3.0.0. Use suggest_float(..., log=True) instead.\n",
      "  learning_rate = trial.suggest_loguniform(\"learning_rate\", 1e-4, 1e-1)  # 範囲を調整\n",
      "/tmp/ipykernel_41819/2413154260.py:5: FutureWarning: suggest_loguniform has been deprecated in v3.0.0. This feature will be removed in v6.0.0. See https://github.com/optuna/optuna/releases/tag/v3.0.0. Use suggest_float(..., log=True) instead.\n",
      "  weight_decay = trial.suggest_loguniform(\"weight_decay\", 1e-5, 1e-1)   # 範囲を調整\n",
      "[I 2024-12-18 13:40:34,222] Trial 11 finished with value: 0.0 and parameters: {'dropout1': 0.0, 'dropout2': 0.4, 'learning_rate': 0.00011420279103969042, 'weight_decay': 8.716733663556518e-05}. Best is trial 10 with value: 0.2586502677259226.\n"
     ]
    },
    {
     "name": "stdout",
     "output_type": "stream",
     "text": [
      "Final MCC: 0.0000\n"
     ]
    },
    {
     "name": "stderr",
     "output_type": "stream",
     "text": [
      "/tmp/ipykernel_41819/2413154260.py:4: FutureWarning: suggest_loguniform has been deprecated in v3.0.0. This feature will be removed in v6.0.0. See https://github.com/optuna/optuna/releases/tag/v3.0.0. Use suggest_float(..., log=True) instead.\n",
      "  learning_rate = trial.suggest_loguniform(\"learning_rate\", 1e-4, 1e-1)  # 範囲を調整\n",
      "/tmp/ipykernel_41819/2413154260.py:5: FutureWarning: suggest_loguniform has been deprecated in v3.0.0. This feature will be removed in v6.0.0. See https://github.com/optuna/optuna/releases/tag/v3.0.0. Use suggest_float(..., log=True) instead.\n",
      "  weight_decay = trial.suggest_loguniform(\"weight_decay\", 1e-5, 1e-1)   # 範囲を調整\n",
      "[I 2024-12-18 13:40:42,255] Trial 12 finished with value: 0.17091736051399203 and parameters: {'dropout1': 0.1, 'dropout2': 0.35000000000000003, 'learning_rate': 0.00043830533785453303, 'weight_decay': 8.786664928470112e-05}. Best is trial 10 with value: 0.2586502677259226.\n"
     ]
    },
    {
     "name": "stdout",
     "output_type": "stream",
     "text": [
      "Early stopping at epoch 59\n",
      "Final MCC: 0.1709\n"
     ]
    },
    {
     "name": "stderr",
     "output_type": "stream",
     "text": [
      "/tmp/ipykernel_41819/2413154260.py:4: FutureWarning: suggest_loguniform has been deprecated in v3.0.0. This feature will be removed in v6.0.0. See https://github.com/optuna/optuna/releases/tag/v3.0.0. Use suggest_float(..., log=True) instead.\n",
      "  learning_rate = trial.suggest_loguniform(\"learning_rate\", 1e-4, 1e-1)  # 範囲を調整\n",
      "/tmp/ipykernel_41819/2413154260.py:5: FutureWarning: suggest_loguniform has been deprecated in v3.0.0. This feature will be removed in v6.0.0. See https://github.com/optuna/optuna/releases/tag/v3.0.0. Use suggest_float(..., log=True) instead.\n",
      "  weight_decay = trial.suggest_loguniform(\"weight_decay\", 1e-5, 1e-1)   # 範囲を調整\n",
      "[I 2024-12-18 13:40:50,829] Trial 13 finished with value: 0.1972510904018033 and parameters: {'dropout1': 0.1, 'dropout2': 0.15000000000000002, 'learning_rate': 0.0003617684404681853, 'weight_decay': 1.0999087048845206e-05}. Best is trial 10 with value: 0.2586502677259226.\n",
      "/tmp/ipykernel_41819/2413154260.py:4: FutureWarning: suggest_loguniform has been deprecated in v3.0.0. This feature will be removed in v6.0.0. See https://github.com/optuna/optuna/releases/tag/v3.0.0. Use suggest_float(..., log=True) instead.\n",
      "  learning_rate = trial.suggest_loguniform(\"learning_rate\", 1e-4, 1e-1)  # 範囲を調整\n",
      "/tmp/ipykernel_41819/2413154260.py:5: FutureWarning: suggest_loguniform has been deprecated in v3.0.0. This feature will be removed in v6.0.0. See https://github.com/optuna/optuna/releases/tag/v3.0.0. Use suggest_float(..., log=True) instead.\n",
      "  weight_decay = trial.suggest_loguniform(\"weight_decay\", 1e-5, 1e-1)   # 範囲を調整\n",
      "[I 2024-12-18 13:40:50,991] Trial 14 pruned. \n"
     ]
    },
    {
     "name": "stdout",
     "output_type": "stream",
     "text": [
      "Early stopping at epoch 64\n",
      "Final MCC: 0.1973\n"
     ]
    },
    {
     "name": "stderr",
     "output_type": "stream",
     "text": [
      "[I 2024-12-18 13:40:53,988] Trial 15 finished with value: 0.18863031397110383 and parameters: {'dropout1': 0.1, 'dropout2': 0.0, 'learning_rate': 0.000998314008747073, 'weight_decay': 3.709714466872837e-05}. Best is trial 10 with value: 0.2586502677259226.\n",
      "/tmp/ipykernel_41819/2413154260.py:4: FutureWarning: suggest_loguniform has been deprecated in v3.0.0. This feature will be removed in v6.0.0. See https://github.com/optuna/optuna/releases/tag/v3.0.0. Use suggest_float(..., log=True) instead.\n",
      "  learning_rate = trial.suggest_loguniform(\"learning_rate\", 1e-4, 1e-1)  # 範囲を調整\n",
      "/tmp/ipykernel_41819/2413154260.py:5: FutureWarning: suggest_loguniform has been deprecated in v3.0.0. This feature will be removed in v6.0.0. See https://github.com/optuna/optuna/releases/tag/v3.0.0. Use suggest_float(..., log=True) instead.\n",
      "  weight_decay = trial.suggest_loguniform(\"weight_decay\", 1e-5, 1e-1)   # 範囲を調整\n",
      "[I 2024-12-18 13:40:54,150] Trial 16 pruned. \n"
     ]
    },
    {
     "name": "stdout",
     "output_type": "stream",
     "text": [
      "Early stopping at epoch 22\n",
      "Final MCC: 0.1886\n"
     ]
    },
    {
     "name": "stderr",
     "output_type": "stream",
     "text": [
      "[I 2024-12-18 13:41:07,195] Trial 17 finished with value: -0.04413170355901845 and parameters: {'dropout1': 0.2, 'dropout2': 0.5, 'learning_rate': 0.00022541450957793408, 'weight_decay': 0.00026218923906220587}. Best is trial 10 with value: 0.2586502677259226.\n"
     ]
    },
    {
     "name": "stdout",
     "output_type": "stream",
     "text": [
      "Final MCC: -0.0441\n"
     ]
    },
    {
     "name": "stderr",
     "output_type": "stream",
     "text": [
      "/tmp/ipykernel_41819/2413154260.py:4: FutureWarning: suggest_loguniform has been deprecated in v3.0.0. This feature will be removed in v6.0.0. See https://github.com/optuna/optuna/releases/tag/v3.0.0. Use suggest_float(..., log=True) instead.\n",
      "  learning_rate = trial.suggest_loguniform(\"learning_rate\", 1e-4, 1e-1)  # 範囲を調整\n",
      "/tmp/ipykernel_41819/2413154260.py:5: FutureWarning: suggest_loguniform has been deprecated in v3.0.0. This feature will be removed in v6.0.0. See https://github.com/optuna/optuna/releases/tag/v3.0.0. Use suggest_float(..., log=True) instead.\n",
      "  weight_decay = trial.suggest_loguniform(\"weight_decay\", 1e-5, 1e-1)   # 範囲を調整\n",
      "[I 2024-12-18 13:41:13,066] Trial 18 finished with value: 0.2186729725346097 and parameters: {'dropout1': 0.05, 'dropout2': 0.4, 'learning_rate': 0.0009386989805580026, 'weight_decay': 3.771943225933225e-05}. Best is trial 10 with value: 0.2586502677259226.\n",
      "/tmp/ipykernel_41819/2413154260.py:4: FutureWarning: suggest_loguniform has been deprecated in v3.0.0. This feature will be removed in v6.0.0. See https://github.com/optuna/optuna/releases/tag/v3.0.0. Use suggest_float(..., log=True) instead.\n",
      "  learning_rate = trial.suggest_loguniform(\"learning_rate\", 1e-4, 1e-1)  # 範囲を調整\n",
      "/tmp/ipykernel_41819/2413154260.py:5: FutureWarning: suggest_loguniform has been deprecated in v3.0.0. This feature will be removed in v6.0.0. See https://github.com/optuna/optuna/releases/tag/v3.0.0. Use suggest_float(..., log=True) instead.\n",
      "  weight_decay = trial.suggest_loguniform(\"weight_decay\", 1e-5, 1e-1)   # 範囲を調整\n",
      "[I 2024-12-18 13:41:13,213] Trial 19 pruned. \n"
     ]
    },
    {
     "name": "stdout",
     "output_type": "stream",
     "text": [
      "Early stopping at epoch 43\n",
      "Final MCC: 0.2187\n"
     ]
    },
    {
     "name": "stderr",
     "output_type": "stream",
     "text": [
      "[I 2024-12-18 13:41:17,430] Trial 20 finished with value: 0.21457661038288361 and parameters: {'dropout1': 0.2, 'dropout2': 0.4, 'learning_rate': 0.0007209094069354525, 'weight_decay': 2.571538304783355e-05}. Best is trial 10 with value: 0.2586502677259226.\n",
      "/tmp/ipykernel_41819/2413154260.py:4: FutureWarning: suggest_loguniform has been deprecated in v3.0.0. This feature will be removed in v6.0.0. See https://github.com/optuna/optuna/releases/tag/v3.0.0. Use suggest_float(..., log=True) instead.\n",
      "  learning_rate = trial.suggest_loguniform(\"learning_rate\", 1e-4, 1e-1)  # 範囲を調整\n",
      "/tmp/ipykernel_41819/2413154260.py:5: FutureWarning: suggest_loguniform has been deprecated in v3.0.0. This feature will be removed in v6.0.0. See https://github.com/optuna/optuna/releases/tag/v3.0.0. Use suggest_float(..., log=True) instead.\n",
      "  weight_decay = trial.suggest_loguniform(\"weight_decay\", 1e-5, 1e-1)   # 範囲を調整\n",
      "[I 2024-12-18 13:41:17,621] Trial 21 pruned. \n"
     ]
    },
    {
     "name": "stdout",
     "output_type": "stream",
     "text": [
      "Early stopping at epoch 31\n",
      "Final MCC: 0.2146\n"
     ]
    },
    {
     "name": "stderr",
     "output_type": "stream",
     "text": [
      "[I 2024-12-18 13:41:17,790] Trial 22 pruned. \n",
      "[I 2024-12-18 13:41:17,962] Trial 23 pruned. \n",
      "[I 2024-12-18 13:41:24,070] Trial 24 finished with value: 0.13633669229751863 and parameters: {'dropout1': 0.30000000000000004, 'dropout2': 0.30000000000000004, 'learning_rate': 0.0006589899852421262, 'weight_decay': 6.317014006818319e-05}. Best is trial 10 with value: 0.2586502677259226.\n",
      "/tmp/ipykernel_41819/2413154260.py:4: FutureWarning: suggest_loguniform has been deprecated in v3.0.0. This feature will be removed in v6.0.0. See https://github.com/optuna/optuna/releases/tag/v3.0.0. Use suggest_float(..., log=True) instead.\n",
      "  learning_rate = trial.suggest_loguniform(\"learning_rate\", 1e-4, 1e-1)  # 範囲を調整\n",
      "/tmp/ipykernel_41819/2413154260.py:5: FutureWarning: suggest_loguniform has been deprecated in v3.0.0. This feature will be removed in v6.0.0. See https://github.com/optuna/optuna/releases/tag/v3.0.0. Use suggest_float(..., log=True) instead.\n",
      "  weight_decay = trial.suggest_loguniform(\"weight_decay\", 1e-5, 1e-1)   # 範囲を調整\n",
      "[I 2024-12-18 13:41:24,225] Trial 25 pruned. \n"
     ]
    },
    {
     "name": "stdout",
     "output_type": "stream",
     "text": [
      "Early stopping at epoch 46\n",
      "Final MCC: 0.1363\n"
     ]
    },
    {
     "name": "stderr",
     "output_type": "stream",
     "text": [
      "[I 2024-12-18 13:41:27,712] Trial 26 finished with value: 0.12550723431496646 and parameters: {'dropout1': 0.05, 'dropout2': 0.30000000000000004, 'learning_rate': 0.0016888263138803215, 'weight_decay': 0.0004128270082925146}. Best is trial 10 with value: 0.2586502677259226.\n",
      "/tmp/ipykernel_41819/2413154260.py:4: FutureWarning: suggest_loguniform has been deprecated in v3.0.0. This feature will be removed in v6.0.0. See https://github.com/optuna/optuna/releases/tag/v3.0.0. Use suggest_float(..., log=True) instead.\n",
      "  learning_rate = trial.suggest_loguniform(\"learning_rate\", 1e-4, 1e-1)  # 範囲を調整\n",
      "/tmp/ipykernel_41819/2413154260.py:5: FutureWarning: suggest_loguniform has been deprecated in v3.0.0. This feature will be removed in v6.0.0. See https://github.com/optuna/optuna/releases/tag/v3.0.0. Use suggest_float(..., log=True) instead.\n",
      "  weight_decay = trial.suggest_loguniform(\"weight_decay\", 1e-5, 1e-1)   # 範囲を調整\n",
      "[I 2024-12-18 13:41:27,884] Trial 27 pruned. \n"
     ]
    },
    {
     "name": "stdout",
     "output_type": "stream",
     "text": [
      "Early stopping at epoch 26\n",
      "Final MCC: 0.1255\n"
     ]
    },
    {
     "name": "stderr",
     "output_type": "stream",
     "text": [
      "[I 2024-12-18 13:41:28,048] Trial 28 pruned. \n",
      "[I 2024-12-18 13:41:28,206] Trial 29 pruned. \n",
      "[I 2024-12-18 13:41:28,382] Trial 30 pruned. \n",
      "[I 2024-12-18 13:41:38,801] Trial 31 finished with value: 0.14376765491396307 and parameters: {'dropout1': 0.1, 'dropout2': 0.2, 'learning_rate': 0.0002673275202378924, 'weight_decay': 1.797896155648725e-05}. Best is trial 10 with value: 0.2586502677259226.\n"
     ]
    },
    {
     "name": "stdout",
     "output_type": "stream",
     "text": [
      "Early stopping at epoch 77\n",
      "Final MCC: 0.1438\n"
     ]
    },
    {
     "name": "stderr",
     "output_type": "stream",
     "text": [
      "/tmp/ipykernel_41819/2413154260.py:4: FutureWarning: suggest_loguniform has been deprecated in v3.0.0. This feature will be removed in v6.0.0. See https://github.com/optuna/optuna/releases/tag/v3.0.0. Use suggest_float(..., log=True) instead.\n",
      "  learning_rate = trial.suggest_loguniform(\"learning_rate\", 1e-4, 1e-1)  # 範囲を調整\n",
      "/tmp/ipykernel_41819/2413154260.py:5: FutureWarning: suggest_loguniform has been deprecated in v3.0.0. This feature will be removed in v6.0.0. See https://github.com/optuna/optuna/releases/tag/v3.0.0. Use suggest_float(..., log=True) instead.\n",
      "  weight_decay = trial.suggest_loguniform(\"weight_decay\", 1e-5, 1e-1)   # 範囲を調整\n",
      "[I 2024-12-18 13:41:47,003] Trial 32 finished with value: 0.13391407873274247 and parameters: {'dropout1': 0.05, 'dropout2': 0.1, 'learning_rate': 0.0003528924755034694, 'weight_decay': 1.4969317533998532e-05}. Best is trial 10 with value: 0.2586502677259226.\n"
     ]
    },
    {
     "name": "stdout",
     "output_type": "stream",
     "text": [
      "Early stopping at epoch 63\n",
      "Final MCC: 0.1339\n"
     ]
    },
    {
     "name": "stderr",
     "output_type": "stream",
     "text": [
      "/tmp/ipykernel_41819/2413154260.py:4: FutureWarning: suggest_loguniform has been deprecated in v3.0.0. This feature will be removed in v6.0.0. See https://github.com/optuna/optuna/releases/tag/v3.0.0. Use suggest_float(..., log=True) instead.\n",
      "  learning_rate = trial.suggest_loguniform(\"learning_rate\", 1e-4, 1e-1)  # 範囲を調整\n",
      "/tmp/ipykernel_41819/2413154260.py:5: FutureWarning: suggest_loguniform has been deprecated in v3.0.0. This feature will be removed in v6.0.0. See https://github.com/optuna/optuna/releases/tag/v3.0.0. Use suggest_float(..., log=True) instead.\n",
      "  weight_decay = trial.suggest_loguniform(\"weight_decay\", 1e-5, 1e-1)   # 範囲を調整\n",
      "[I 2024-12-18 13:41:58,353] Trial 33 finished with value: 0.29297095967951603 and parameters: {'dropout1': 0.15000000000000002, 'dropout2': 0.2, 'learning_rate': 0.0001503334697218968, 'weight_decay': 1.0052373261636932e-05}. Best is trial 33 with value: 0.29297095967951603.\n"
     ]
    },
    {
     "name": "stdout",
     "output_type": "stream",
     "text": [
      "Early stopping at epoch 85\n",
      "Final MCC: 0.2930\n"
     ]
    },
    {
     "name": "stderr",
     "output_type": "stream",
     "text": [
      "/tmp/ipykernel_41819/2413154260.py:4: FutureWarning: suggest_loguniform has been deprecated in v3.0.0. This feature will be removed in v6.0.0. See https://github.com/optuna/optuna/releases/tag/v3.0.0. Use suggest_float(..., log=True) instead.\n",
      "  learning_rate = trial.suggest_loguniform(\"learning_rate\", 1e-4, 1e-1)  # 範囲を調整\n",
      "/tmp/ipykernel_41819/2413154260.py:5: FutureWarning: suggest_loguniform has been deprecated in v3.0.0. This feature will be removed in v6.0.0. See https://github.com/optuna/optuna/releases/tag/v3.0.0. Use suggest_float(..., log=True) instead.\n",
      "  weight_decay = trial.suggest_loguniform(\"weight_decay\", 1e-5, 1e-1)   # 範囲を調整\n",
      "[I 2024-12-18 13:41:59,880] Trial 34 finished with value: 0.1788990364900566 and parameters: {'dropout1': 0.25, 'dropout2': 0.25, 'learning_rate': 0.00017862492365597774, 'weight_decay': 4.5376316499068125e-05}. Best is trial 33 with value: 0.29297095967951603.\n",
      "/tmp/ipykernel_41819/2413154260.py:4: FutureWarning: suggest_loguniform has been deprecated in v3.0.0. This feature will be removed in v6.0.0. See https://github.com/optuna/optuna/releases/tag/v3.0.0. Use suggest_float(..., log=True) instead.\n",
      "  learning_rate = trial.suggest_loguniform(\"learning_rate\", 1e-4, 1e-1)  # 範囲を調整\n",
      "/tmp/ipykernel_41819/2413154260.py:5: FutureWarning: suggest_loguniform has been deprecated in v3.0.0. This feature will be removed in v6.0.0. See https://github.com/optuna/optuna/releases/tag/v3.0.0. Use suggest_float(..., log=True) instead.\n",
      "  weight_decay = trial.suggest_loguniform(\"weight_decay\", 1e-5, 1e-1)   # 範囲を調整\n",
      "[I 2024-12-18 13:42:00,062] Trial 35 pruned. \n"
     ]
    },
    {
     "name": "stdout",
     "output_type": "stream",
     "text": [
      "Early stopping at epoch 10\n",
      "Final MCC: 0.1789\n"
     ]
    },
    {
     "name": "stderr",
     "output_type": "stream",
     "text": [
      "[I 2024-12-18 13:42:05,402] Trial 36 finished with value: 0.1492890425853943 and parameters: {'dropout1': 0.2, 'dropout2': 0.30000000000000004, 'learning_rate': 0.0011500413157714566, 'weight_decay': 2.4915464036466517e-05}. Best is trial 33 with value: 0.29297095967951603.\n",
      "/tmp/ipykernel_41819/2413154260.py:4: FutureWarning: suggest_loguniform has been deprecated in v3.0.0. This feature will be removed in v6.0.0. See https://github.com/optuna/optuna/releases/tag/v3.0.0. Use suggest_float(..., log=True) instead.\n",
      "  learning_rate = trial.suggest_loguniform(\"learning_rate\", 1e-4, 1e-1)  # 範囲を調整\n",
      "/tmp/ipykernel_41819/2413154260.py:5: FutureWarning: suggest_loguniform has been deprecated in v3.0.0. This feature will be removed in v6.0.0. See https://github.com/optuna/optuna/releases/tag/v3.0.0. Use suggest_float(..., log=True) instead.\n",
      "  weight_decay = trial.suggest_loguniform(\"weight_decay\", 1e-5, 1e-1)   # 範囲を調整\n",
      "[I 2024-12-18 13:42:05,552] Trial 37 pruned. \n"
     ]
    },
    {
     "name": "stdout",
     "output_type": "stream",
     "text": [
      "Early stopping at epoch 40\n",
      "Final MCC: 0.1493\n"
     ]
    },
    {
     "name": "stderr",
     "output_type": "stream",
     "text": [
      "[I 2024-12-18 13:42:11,199] Trial 38 finished with value: 0.13182987142274724 and parameters: {'dropout1': 0.0, 'dropout2': 0.25, 'learning_rate': 0.0005636333221679473, 'weight_decay': 0.03648391277500996}. Best is trial 33 with value: 0.29297095967951603.\n"
     ]
    },
    {
     "name": "stdout",
     "output_type": "stream",
     "text": [
      "Early stopping at epoch 43\n",
      "Final MCC: 0.1318\n"
     ]
    },
    {
     "name": "stderr",
     "output_type": "stream",
     "text": [
      "/tmp/ipykernel_41819/2413154260.py:4: FutureWarning: suggest_loguniform has been deprecated in v3.0.0. This feature will be removed in v6.0.0. See https://github.com/optuna/optuna/releases/tag/v3.0.0. Use suggest_float(..., log=True) instead.\n",
      "  learning_rate = trial.suggest_loguniform(\"learning_rate\", 1e-4, 1e-1)  # 範囲を調整\n",
      "/tmp/ipykernel_41819/2413154260.py:5: FutureWarning: suggest_loguniform has been deprecated in v3.0.0. This feature will be removed in v6.0.0. See https://github.com/optuna/optuna/releases/tag/v3.0.0. Use suggest_float(..., log=True) instead.\n",
      "  weight_decay = trial.suggest_loguniform(\"weight_decay\", 1e-5, 1e-1)   # 範囲を調整\n",
      "[I 2024-12-18 13:42:24,320] Trial 39 finished with value: 0.3077954447433503 and parameters: {'dropout1': 0.25, 'dropout2': 0.45, 'learning_rate': 0.00013855525296660318, 'weight_decay': 5.451148803782984e-05}. Best is trial 39 with value: 0.3077954447433503.\n"
     ]
    },
    {
     "name": "stdout",
     "output_type": "stream",
     "text": [
      "Final MCC: 0.3078\n"
     ]
    },
    {
     "name": "stderr",
     "output_type": "stream",
     "text": [
      "/tmp/ipykernel_41819/2413154260.py:4: FutureWarning: suggest_loguniform has been deprecated in v3.0.0. This feature will be removed in v6.0.0. See https://github.com/optuna/optuna/releases/tag/v3.0.0. Use suggest_float(..., log=True) instead.\n",
      "  learning_rate = trial.suggest_loguniform(\"learning_rate\", 1e-4, 1e-1)  # 範囲を調整\n",
      "/tmp/ipykernel_41819/2413154260.py:5: FutureWarning: suggest_loguniform has been deprecated in v3.0.0. This feature will be removed in v6.0.0. See https://github.com/optuna/optuna/releases/tag/v3.0.0. Use suggest_float(..., log=True) instead.\n",
      "  weight_decay = trial.suggest_loguniform(\"weight_decay\", 1e-5, 1e-1)   # 範囲を調整\n",
      "[I 2024-12-18 13:42:36,946] Trial 40 finished with value: 0.3185691354916671 and parameters: {'dropout1': 0.25, 'dropout2': 0.5, 'learning_rate': 0.00013997110554236276, 'weight_decay': 0.00032639891654024516}. Best is trial 40 with value: 0.3185691354916671.\n"
     ]
    },
    {
     "name": "stdout",
     "output_type": "stream",
     "text": [
      "Final MCC: 0.3186\n"
     ]
    },
    {
     "name": "stderr",
     "output_type": "stream",
     "text": [
      "/tmp/ipykernel_41819/2413154260.py:4: FutureWarning: suggest_loguniform has been deprecated in v3.0.0. This feature will be removed in v6.0.0. See https://github.com/optuna/optuna/releases/tag/v3.0.0. Use suggest_float(..., log=True) instead.\n",
      "  learning_rate = trial.suggest_loguniform(\"learning_rate\", 1e-4, 1e-1)  # 範囲を調整\n",
      "/tmp/ipykernel_41819/2413154260.py:5: FutureWarning: suggest_loguniform has been deprecated in v3.0.0. This feature will be removed in v6.0.0. See https://github.com/optuna/optuna/releases/tag/v3.0.0. Use suggest_float(..., log=True) instead.\n",
      "  weight_decay = trial.suggest_loguniform(\"weight_decay\", 1e-5, 1e-1)   # 範囲を調整\n",
      "[I 2024-12-18 13:42:49,817] Trial 41 finished with value: 0.10511246717285631 and parameters: {'dropout1': 0.35000000000000003, 'dropout2': 0.5, 'learning_rate': 0.0001420620585750935, 'weight_decay': 0.0003424396346580477}. Best is trial 40 with value: 0.3185691354916671.\n"
     ]
    },
    {
     "name": "stdout",
     "output_type": "stream",
     "text": [
      "Final MCC: 0.1051\n"
     ]
    },
    {
     "name": "stderr",
     "output_type": "stream",
     "text": [
      "/tmp/ipykernel_41819/2413154260.py:4: FutureWarning: suggest_loguniform has been deprecated in v3.0.0. This feature will be removed in v6.0.0. See https://github.com/optuna/optuna/releases/tag/v3.0.0. Use suggest_float(..., log=True) instead.\n",
      "  learning_rate = trial.suggest_loguniform(\"learning_rate\", 1e-4, 1e-1)  # 範囲を調整\n",
      "/tmp/ipykernel_41819/2413154260.py:5: FutureWarning: suggest_loguniform has been deprecated in v3.0.0. This feature will be removed in v6.0.0. See https://github.com/optuna/optuna/releases/tag/v3.0.0. Use suggest_float(..., log=True) instead.\n",
      "  weight_decay = trial.suggest_loguniform(\"weight_decay\", 1e-5, 1e-1)   # 範囲を調整\n",
      "[I 2024-12-18 13:43:02,374] Trial 42 finished with value: 0.1885363301716139 and parameters: {'dropout1': 0.25, 'dropout2': 0.45, 'learning_rate': 0.00010190351569351555, 'weight_decay': 0.0006530799498357971}. Best is trial 40 with value: 0.3185691354916671.\n",
      "/tmp/ipykernel_41819/2413154260.py:4: FutureWarning: suggest_loguniform has been deprecated in v3.0.0. This feature will be removed in v6.0.0. See https://github.com/optuna/optuna/releases/tag/v3.0.0. Use suggest_float(..., log=True) instead.\n",
      "  learning_rate = trial.suggest_loguniform(\"learning_rate\", 1e-4, 1e-1)  # 範囲を調整\n",
      "/tmp/ipykernel_41819/2413154260.py:5: FutureWarning: suggest_loguniform has been deprecated in v3.0.0. This feature will be removed in v6.0.0. See https://github.com/optuna/optuna/releases/tag/v3.0.0. Use suggest_float(..., log=True) instead.\n",
      "  weight_decay = trial.suggest_loguniform(\"weight_decay\", 1e-5, 1e-1)   # 範囲を調整\n",
      "[I 2024-12-18 13:43:02,518] Trial 43 pruned. \n"
     ]
    },
    {
     "name": "stdout",
     "output_type": "stream",
     "text": [
      "Final MCC: 0.1885\n"
     ]
    },
    {
     "name": "stderr",
     "output_type": "stream",
     "text": [
      "[I 2024-12-18 13:43:02,665] Trial 44 pruned. \n",
      "[I 2024-12-18 13:43:15,324] Trial 45 finished with value: 0.20486014157027838 and parameters: {'dropout1': 0.4, 'dropout2': 0.5, 'learning_rate': 0.00026078461458073875, 'weight_decay': 5.4955257211721694e-05}. Best is trial 40 with value: 0.3185691354916671.\n",
      "/tmp/ipykernel_41819/2413154260.py:4: FutureWarning: suggest_loguniform has been deprecated in v3.0.0. This feature will be removed in v6.0.0. See https://github.com/optuna/optuna/releases/tag/v3.0.0. Use suggest_float(..., log=True) instead.\n",
      "  learning_rate = trial.suggest_loguniform(\"learning_rate\", 1e-4, 1e-1)  # 範囲を調整\n",
      "/tmp/ipykernel_41819/2413154260.py:5: FutureWarning: suggest_loguniform has been deprecated in v3.0.0. This feature will be removed in v6.0.0. See https://github.com/optuna/optuna/releases/tag/v3.0.0. Use suggest_float(..., log=True) instead.\n",
      "  weight_decay = trial.suggest_loguniform(\"weight_decay\", 1e-5, 1e-1)   # 範囲を調整\n",
      "[I 2024-12-18 13:43:15,474] Trial 46 pruned. \n"
     ]
    },
    {
     "name": "stdout",
     "output_type": "stream",
     "text": [
      "Final MCC: 0.2049\n"
     ]
    },
    {
     "name": "stderr",
     "output_type": "stream",
     "text": [
      "[I 2024-12-18 13:43:15,631] Trial 47 pruned. \n",
      "[I 2024-12-18 13:43:15,782] Trial 48 pruned. \n",
      "[I 2024-12-18 13:43:28,703] Trial 49 finished with value: 0.36769590915606865 and parameters: {'dropout1': 0.1, 'dropout2': 0.5, 'learning_rate': 0.00010505076141594679, 'weight_decay': 0.00010196030804872456}. Best is trial 49 with value: 0.36769590915606865.\n"
     ]
    },
    {
     "name": "stdout",
     "output_type": "stream",
     "text": [
      "Final MCC: 0.3677\n"
     ]
    },
    {
     "name": "stderr",
     "output_type": "stream",
     "text": [
      "/tmp/ipykernel_41819/2413154260.py:4: FutureWarning: suggest_loguniform has been deprecated in v3.0.0. This feature will be removed in v6.0.0. See https://github.com/optuna/optuna/releases/tag/v3.0.0. Use suggest_float(..., log=True) instead.\n",
      "  learning_rate = trial.suggest_loguniform(\"learning_rate\", 1e-4, 1e-1)  # 範囲を調整\n",
      "/tmp/ipykernel_41819/2413154260.py:5: FutureWarning: suggest_loguniform has been deprecated in v3.0.0. This feature will be removed in v6.0.0. See https://github.com/optuna/optuna/releases/tag/v3.0.0. Use suggest_float(..., log=True) instead.\n",
      "  weight_decay = trial.suggest_loguniform(\"weight_decay\", 1e-5, 1e-1)   # 範囲を調整\n",
      "[I 2024-12-18 13:43:41,492] Trial 50 finished with value: 0.3594621940102946 and parameters: {'dropout1': 0.15000000000000002, 'dropout2': 0.5, 'learning_rate': 0.00010150019164513776, 'weight_decay': 0.0006610523132491616}. Best is trial 49 with value: 0.36769590915606865.\n"
     ]
    },
    {
     "name": "stdout",
     "output_type": "stream",
     "text": [
      "Final MCC: 0.3595\n"
     ]
    },
    {
     "name": "stderr",
     "output_type": "stream",
     "text": [
      "/tmp/ipykernel_41819/2413154260.py:4: FutureWarning: suggest_loguniform has been deprecated in v3.0.0. This feature will be removed in v6.0.0. See https://github.com/optuna/optuna/releases/tag/v3.0.0. Use suggest_float(..., log=True) instead.\n",
      "  learning_rate = trial.suggest_loguniform(\"learning_rate\", 1e-4, 1e-1)  # 範囲を調整\n",
      "/tmp/ipykernel_41819/2413154260.py:5: FutureWarning: suggest_loguniform has been deprecated in v3.0.0. This feature will be removed in v6.0.0. See https://github.com/optuna/optuna/releases/tag/v3.0.0. Use suggest_float(..., log=True) instead.\n",
      "  weight_decay = trial.suggest_loguniform(\"weight_decay\", 1e-5, 1e-1)   # 範囲を調整\n",
      "[I 2024-12-18 13:43:55,107] Trial 51 finished with value: 0.4011142142321774 and parameters: {'dropout1': 0.15000000000000002, 'dropout2': 0.5, 'learning_rate': 0.00011190563675127609, 'weight_decay': 0.0005543065395801654}. Best is trial 51 with value: 0.4011142142321774.\n",
      "/tmp/ipykernel_41819/2413154260.py:4: FutureWarning: suggest_loguniform has been deprecated in v3.0.0. This feature will be removed in v6.0.0. See https://github.com/optuna/optuna/releases/tag/v3.0.0. Use suggest_float(..., log=True) instead.\n",
      "  learning_rate = trial.suggest_loguniform(\"learning_rate\", 1e-4, 1e-1)  # 範囲を調整\n",
      "/tmp/ipykernel_41819/2413154260.py:5: FutureWarning: suggest_loguniform has been deprecated in v3.0.0. This feature will be removed in v6.0.0. See https://github.com/optuna/optuna/releases/tag/v3.0.0. Use suggest_float(..., log=True) instead.\n",
      "  weight_decay = trial.suggest_loguniform(\"weight_decay\", 1e-5, 1e-1)   # 範囲を調整\n",
      "[I 2024-12-18 13:43:55,270] Trial 52 pruned. \n"
     ]
    },
    {
     "name": "stdout",
     "output_type": "stream",
     "text": [
      "Final MCC: 0.4011\n"
     ]
    },
    {
     "name": "stderr",
     "output_type": "stream",
     "text": [
      "[I 2024-12-18 13:43:55,394] Trial 53 pruned. \n",
      "[I 2024-12-18 13:44:08,225] Trial 54 finished with value: 0.27332085931669925 and parameters: {'dropout1': 0.1, 'dropout2': 0.5, 'learning_rate': 0.00018588141064220036, 'weight_decay': 0.0004706174229222024}. Best is trial 51 with value: 0.4011142142321774.\n",
      "/tmp/ipykernel_41819/2413154260.py:4: FutureWarning: suggest_loguniform has been deprecated in v3.0.0. This feature will be removed in v6.0.0. See https://github.com/optuna/optuna/releases/tag/v3.0.0. Use suggest_float(..., log=True) instead.\n",
      "  learning_rate = trial.suggest_loguniform(\"learning_rate\", 1e-4, 1e-1)  # 範囲を調整\n",
      "/tmp/ipykernel_41819/2413154260.py:5: FutureWarning: suggest_loguniform has been deprecated in v3.0.0. This feature will be removed in v6.0.0. See https://github.com/optuna/optuna/releases/tag/v3.0.0. Use suggest_float(..., log=True) instead.\n",
      "  weight_decay = trial.suggest_loguniform(\"weight_decay\", 1e-5, 1e-1)   # 範囲を調整\n",
      "[I 2024-12-18 13:44:08,382] Trial 55 pruned. \n"
     ]
    },
    {
     "name": "stdout",
     "output_type": "stream",
     "text": [
      "Final MCC: 0.2733\n"
     ]
    },
    {
     "name": "stderr",
     "output_type": "stream",
     "text": [
      "[I 2024-12-18 13:44:08,539] Trial 56 pruned. \n",
      "[I 2024-12-18 13:44:08,687] Trial 57 pruned. \n",
      "[I 2024-12-18 13:44:08,815] Trial 58 pruned. \n",
      "[I 2024-12-18 13:44:08,931] Trial 59 pruned. \n",
      "[I 2024-12-18 13:44:09,071] Trial 60 pruned. \n",
      "[I 2024-12-18 13:44:22,118] Trial 61 finished with value: 0.3271136737080566 and parameters: {'dropout1': 0.15000000000000002, 'dropout2': 0.5, 'learning_rate': 0.0001658039588682159, 'weight_decay': 0.0004375175571955273}. Best is trial 51 with value: 0.4011142142321774.\n"
     ]
    },
    {
     "name": "stdout",
     "output_type": "stream",
     "text": [
      "Final MCC: 0.3271\n"
     ]
    },
    {
     "name": "stderr",
     "output_type": "stream",
     "text": [
      "/tmp/ipykernel_41819/2413154260.py:4: FutureWarning: suggest_loguniform has been deprecated in v3.0.0. This feature will be removed in v6.0.0. See https://github.com/optuna/optuna/releases/tag/v3.0.0. Use suggest_float(..., log=True) instead.\n",
      "  learning_rate = trial.suggest_loguniform(\"learning_rate\", 1e-4, 1e-1)  # 範囲を調整\n",
      "/tmp/ipykernel_41819/2413154260.py:5: FutureWarning: suggest_loguniform has been deprecated in v3.0.0. This feature will be removed in v6.0.0. See https://github.com/optuna/optuna/releases/tag/v3.0.0. Use suggest_float(..., log=True) instead.\n",
      "  weight_decay = trial.suggest_loguniform(\"weight_decay\", 1e-5, 1e-1)   # 範囲を調整\n",
      "[I 2024-12-18 13:44:32,932] Trial 62 finished with value: 0.24205714393292385 and parameters: {'dropout1': 0.1, 'dropout2': 0.5, 'learning_rate': 0.00012612811892620757, 'weight_decay': 0.000508050272252095}. Best is trial 51 with value: 0.4011142142321774.\n",
      "/tmp/ipykernel_41819/2413154260.py:4: FutureWarning: suggest_loguniform has been deprecated in v3.0.0. This feature will be removed in v6.0.0. See https://github.com/optuna/optuna/releases/tag/v3.0.0. Use suggest_float(..., log=True) instead.\n",
      "  learning_rate = trial.suggest_loguniform(\"learning_rate\", 1e-4, 1e-1)  # 範囲を調整\n",
      "/tmp/ipykernel_41819/2413154260.py:5: FutureWarning: suggest_loguniform has been deprecated in v3.0.0. This feature will be removed in v6.0.0. See https://github.com/optuna/optuna/releases/tag/v3.0.0. Use suggest_float(..., log=True) instead.\n",
      "  weight_decay = trial.suggest_loguniform(\"weight_decay\", 1e-5, 1e-1)   # 範囲を調整\n",
      "[I 2024-12-18 13:44:33,089] Trial 63 pruned. \n"
     ]
    },
    {
     "name": "stdout",
     "output_type": "stream",
     "text": [
      "Early stopping at epoch 88\n",
      "Final MCC: 0.2421\n"
     ]
    },
    {
     "name": "stderr",
     "output_type": "stream",
     "text": [
      "[I 2024-12-18 13:44:45,809] Trial 64 finished with value: -0.015756141340390366 and parameters: {'dropout1': 0.15000000000000002, 'dropout2': 0.45, 'learning_rate': 0.00016378603359559537, 'weight_decay': 0.0004002735999811488}. Best is trial 51 with value: 0.4011142142321774.\n"
     ]
    },
    {
     "name": "stdout",
     "output_type": "stream",
     "text": [
      "Final MCC: -0.0158\n"
     ]
    },
    {
     "name": "stderr",
     "output_type": "stream",
     "text": [
      "/tmp/ipykernel_41819/2413154260.py:4: FutureWarning: suggest_loguniform has been deprecated in v3.0.0. This feature will be removed in v6.0.0. See https://github.com/optuna/optuna/releases/tag/v3.0.0. Use suggest_float(..., log=True) instead.\n",
      "  learning_rate = trial.suggest_loguniform(\"learning_rate\", 1e-4, 1e-1)  # 範囲を調整\n",
      "/tmp/ipykernel_41819/2413154260.py:5: FutureWarning: suggest_loguniform has been deprecated in v3.0.0. This feature will be removed in v6.0.0. See https://github.com/optuna/optuna/releases/tag/v3.0.0. Use suggest_float(..., log=True) instead.\n",
      "  weight_decay = trial.suggest_loguniform(\"weight_decay\", 1e-5, 1e-1)   # 範囲を調整\n",
      "[I 2024-12-18 13:45:00,054] Trial 65 finished with value: 0.3225698161500912 and parameters: {'dropout1': 0.2, 'dropout2': 0.5, 'learning_rate': 0.00012075622098465548, 'weight_decay': 0.0009485090491031892}. Best is trial 51 with value: 0.4011142142321774.\n",
      "/tmp/ipykernel_41819/2413154260.py:4: FutureWarning: suggest_loguniform has been deprecated in v3.0.0. This feature will be removed in v6.0.0. See https://github.com/optuna/optuna/releases/tag/v3.0.0. Use suggest_float(..., log=True) instead.\n",
      "  learning_rate = trial.suggest_loguniform(\"learning_rate\", 1e-4, 1e-1)  # 範囲を調整\n",
      "/tmp/ipykernel_41819/2413154260.py:5: FutureWarning: suggest_loguniform has been deprecated in v3.0.0. This feature will be removed in v6.0.0. See https://github.com/optuna/optuna/releases/tag/v3.0.0. Use suggest_float(..., log=True) instead.\n",
      "  weight_decay = trial.suggest_loguniform(\"weight_decay\", 1e-5, 1e-1)   # 範囲を調整\n",
      "[I 2024-12-18 13:45:00,214] Trial 66 pruned. \n"
     ]
    },
    {
     "name": "stdout",
     "output_type": "stream",
     "text": [
      "Final MCC: 0.3226\n"
     ]
    },
    {
     "name": "stderr",
     "output_type": "stream",
     "text": [
      "[I 2024-12-18 13:45:14,820] Trial 67 finished with value: 0.17181727389450577 and parameters: {'dropout1': 0.30000000000000004, 'dropout2': 0.45, 'learning_rate': 0.00010261298166252465, 'weight_decay': 0.0015256393002415457}. Best is trial 51 with value: 0.4011142142321774.\n",
      "/tmp/ipykernel_41819/2413154260.py:4: FutureWarning: suggest_loguniform has been deprecated in v3.0.0. This feature will be removed in v6.0.0. See https://github.com/optuna/optuna/releases/tag/v3.0.0. Use suggest_float(..., log=True) instead.\n",
      "  learning_rate = trial.suggest_loguniform(\"learning_rate\", 1e-4, 1e-1)  # 範囲を調整\n",
      "/tmp/ipykernel_41819/2413154260.py:5: FutureWarning: suggest_loguniform has been deprecated in v3.0.0. This feature will be removed in v6.0.0. See https://github.com/optuna/optuna/releases/tag/v3.0.0. Use suggest_float(..., log=True) instead.\n",
      "  weight_decay = trial.suggest_loguniform(\"weight_decay\", 1e-5, 1e-1)   # 範囲を調整\n",
      "[I 2024-12-18 13:45:14,975] Trial 68 pruned. \n"
     ]
    },
    {
     "name": "stdout",
     "output_type": "stream",
     "text": [
      "Final MCC: 0.1718\n"
     ]
    },
    {
     "name": "stderr",
     "output_type": "stream",
     "text": [
      "[I 2024-12-18 13:45:27,431] Trial 69 finished with value: 0.10065756070235617 and parameters: {'dropout1': 0.25, 'dropout2': 0.45, 'learning_rate': 0.00023338637819967357, 'weight_decay': 7.203117139371467e-05}. Best is trial 51 with value: 0.4011142142321774.\n",
      "/tmp/ipykernel_41819/2413154260.py:4: FutureWarning: suggest_loguniform has been deprecated in v3.0.0. This feature will be removed in v6.0.0. See https://github.com/optuna/optuna/releases/tag/v3.0.0. Use suggest_float(..., log=True) instead.\n",
      "  learning_rate = trial.suggest_loguniform(\"learning_rate\", 1e-4, 1e-1)  # 範囲を調整\n",
      "/tmp/ipykernel_41819/2413154260.py:5: FutureWarning: suggest_loguniform has been deprecated in v3.0.0. This feature will be removed in v6.0.0. See https://github.com/optuna/optuna/releases/tag/v3.0.0. Use suggest_float(..., log=True) instead.\n",
      "  weight_decay = trial.suggest_loguniform(\"weight_decay\", 1e-5, 1e-1)   # 範囲を調整\n",
      "[I 2024-12-18 13:45:27,564] Trial 70 pruned. \n"
     ]
    },
    {
     "name": "stdout",
     "output_type": "stream",
     "text": [
      "Final MCC: 0.1007\n"
     ]
    },
    {
     "name": "stderr",
     "output_type": "stream",
     "text": [
      "[I 2024-12-18 13:45:27,730] Trial 71 pruned. \n",
      "[I 2024-12-18 13:45:27,892] Trial 72 pruned. \n",
      "[I 2024-12-18 13:45:29,267] Trial 73 finished with value: 0.0 and parameters: {'dropout1': 0.25, 'dropout2': 0.5, 'learning_rate': 0.00016900189554988436, 'weight_decay': 0.00010135286456877237}. Best is trial 51 with value: 0.4011142142321774.\n",
      "/tmp/ipykernel_41819/2413154260.py:4: FutureWarning: suggest_loguniform has been deprecated in v3.0.0. This feature will be removed in v6.0.0. See https://github.com/optuna/optuna/releases/tag/v3.0.0. Use suggest_float(..., log=True) instead.\n",
      "  learning_rate = trial.suggest_loguniform(\"learning_rate\", 1e-4, 1e-1)  # 範囲を調整\n",
      "/tmp/ipykernel_41819/2413154260.py:5: FutureWarning: suggest_loguniform has been deprecated in v3.0.0. This feature will be removed in v6.0.0. See https://github.com/optuna/optuna/releases/tag/v3.0.0. Use suggest_float(..., log=True) instead.\n",
      "  weight_decay = trial.suggest_loguniform(\"weight_decay\", 1e-5, 1e-1)   # 範囲を調整\n",
      "[I 2024-12-18 13:45:29,424] Trial 74 pruned. \n"
     ]
    },
    {
     "name": "stdout",
     "output_type": "stream",
     "text": [
      "Early stopping at epoch 10\n",
      "Final MCC: 0.0000\n"
     ]
    },
    {
     "name": "stderr",
     "output_type": "stream",
     "text": [
      "[I 2024-12-18 13:45:29,591] Trial 75 pruned. \n",
      "[I 2024-12-18 13:45:29,754] Trial 76 pruned. \n",
      "[I 2024-12-18 13:45:43,371] Trial 77 finished with value: 0.36550332591995643 and parameters: {'dropout1': 0.2, 'dropout2': 0.5, 'learning_rate': 0.00015812561320734822, 'weight_decay': 1.0308120202665924e-05}. Best is trial 51 with value: 0.4011142142321774.\n",
      "/tmp/ipykernel_41819/2413154260.py:4: FutureWarning: suggest_loguniform has been deprecated in v3.0.0. This feature will be removed in v6.0.0. See https://github.com/optuna/optuna/releases/tag/v3.0.0. Use suggest_float(..., log=True) instead.\n",
      "  learning_rate = trial.suggest_loguniform(\"learning_rate\", 1e-4, 1e-1)  # 範囲を調整\n",
      "/tmp/ipykernel_41819/2413154260.py:5: FutureWarning: suggest_loguniform has been deprecated in v3.0.0. This feature will be removed in v6.0.0. See https://github.com/optuna/optuna/releases/tag/v3.0.0. Use suggest_float(..., log=True) instead.\n",
      "  weight_decay = trial.suggest_loguniform(\"weight_decay\", 1e-5, 1e-1)   # 範囲を調整\n",
      "[I 2024-12-18 13:45:43,551] Trial 78 pruned. \n"
     ]
    },
    {
     "name": "stdout",
     "output_type": "stream",
     "text": [
      "Final MCC: 0.3655\n"
     ]
    },
    {
     "name": "stderr",
     "output_type": "stream",
     "text": [
      "[I 2024-12-18 13:45:43,718] Trial 79 pruned. \n",
      "[I 2024-12-18 13:45:43,892] Trial 80 pruned. \n",
      "[I 2024-12-18 13:45:44,059] Trial 81 pruned. \n",
      "[I 2024-12-18 13:45:57,894] Trial 82 finished with value: 0.3431303630013248 and parameters: {'dropout1': 0.30000000000000004, 'dropout2': 0.5, 'learning_rate': 0.00010117643800341691, 'weight_decay': 1.0077456749381147e-05}. Best is trial 51 with value: 0.4011142142321774.\n"
     ]
    },
    {
     "name": "stdout",
     "output_type": "stream",
     "text": [
      "Final MCC: 0.3431\n"
     ]
    },
    {
     "name": "stderr",
     "output_type": "stream",
     "text": [
      "/tmp/ipykernel_41819/2413154260.py:4: FutureWarning: suggest_loguniform has been deprecated in v3.0.0. This feature will be removed in v6.0.0. See https://github.com/optuna/optuna/releases/tag/v3.0.0. Use suggest_float(..., log=True) instead.\n",
      "  learning_rate = trial.suggest_loguniform(\"learning_rate\", 1e-4, 1e-1)  # 範囲を調整\n",
      "/tmp/ipykernel_41819/2413154260.py:5: FutureWarning: suggest_loguniform has been deprecated in v3.0.0. This feature will be removed in v6.0.0. See https://github.com/optuna/optuna/releases/tag/v3.0.0. Use suggest_float(..., log=True) instead.\n",
      "  weight_decay = trial.suggest_loguniform(\"weight_decay\", 1e-5, 1e-1)   # 範囲を調整\n",
      "[I 2024-12-18 13:46:11,102] Trial 83 finished with value: 0.3270901098701374 and parameters: {'dropout1': 0.30000000000000004, 'dropout2': 0.5, 'learning_rate': 0.00013323891155207326, 'weight_decay': 1.200519945232557e-05}. Best is trial 51 with value: 0.4011142142321774.\n"
     ]
    },
    {
     "name": "stdout",
     "output_type": "stream",
     "text": [
      "Final MCC: 0.3271\n"
     ]
    },
    {
     "name": "stderr",
     "output_type": "stream",
     "text": [
      "/tmp/ipykernel_41819/2413154260.py:4: FutureWarning: suggest_loguniform has been deprecated in v3.0.0. This feature will be removed in v6.0.0. See https://github.com/optuna/optuna/releases/tag/v3.0.0. Use suggest_float(..., log=True) instead.\n",
      "  learning_rate = trial.suggest_loguniform(\"learning_rate\", 1e-4, 1e-1)  # 範囲を調整\n",
      "/tmp/ipykernel_41819/2413154260.py:5: FutureWarning: suggest_loguniform has been deprecated in v3.0.0. This feature will be removed in v6.0.0. See https://github.com/optuna/optuna/releases/tag/v3.0.0. Use suggest_float(..., log=True) instead.\n",
      "  weight_decay = trial.suggest_loguniform(\"weight_decay\", 1e-5, 1e-1)   # 範囲を調整\n",
      "[I 2024-12-18 13:46:25,395] Trial 84 finished with value: 0.33275287229798706 and parameters: {'dropout1': 0.30000000000000004, 'dropout2': 0.5, 'learning_rate': 0.00010397020793868458, 'weight_decay': 1.1410367086413977e-05}. Best is trial 51 with value: 0.4011142142321774.\n",
      "/tmp/ipykernel_41819/2413154260.py:4: FutureWarning: suggest_loguniform has been deprecated in v3.0.0. This feature will be removed in v6.0.0. See https://github.com/optuna/optuna/releases/tag/v3.0.0. Use suggest_float(..., log=True) instead.\n",
      "  learning_rate = trial.suggest_loguniform(\"learning_rate\", 1e-4, 1e-1)  # 範囲を調整\n",
      "/tmp/ipykernel_41819/2413154260.py:5: FutureWarning: suggest_loguniform has been deprecated in v3.0.0. This feature will be removed in v6.0.0. See https://github.com/optuna/optuna/releases/tag/v3.0.0. Use suggest_float(..., log=True) instead.\n",
      "  weight_decay = trial.suggest_loguniform(\"weight_decay\", 1e-5, 1e-1)   # 範囲を調整\n",
      "[I 2024-12-18 13:46:25,530] Trial 85 pruned. \n"
     ]
    },
    {
     "name": "stdout",
     "output_type": "stream",
     "text": [
      "Final MCC: 0.3328\n"
     ]
    },
    {
     "name": "stderr",
     "output_type": "stream",
     "text": [
      "[I 2024-12-18 13:46:27,062] Trial 86 finished with value: 0.0 and parameters: {'dropout1': 0.30000000000000004, 'dropout2': 0.5, 'learning_rate': 0.00019521467628842042, 'weight_decay': 1.167861681033658e-05}. Best is trial 51 with value: 0.4011142142321774.\n"
     ]
    },
    {
     "name": "stdout",
     "output_type": "stream",
     "text": [
      "Early stopping at epoch 10\n",
      "Final MCC: 0.0000\n"
     ]
    },
    {
     "name": "stderr",
     "output_type": "stream",
     "text": [
      "/tmp/ipykernel_41819/2413154260.py:4: FutureWarning: suggest_loguniform has been deprecated in v3.0.0. This feature will be removed in v6.0.0. See https://github.com/optuna/optuna/releases/tag/v3.0.0. Use suggest_float(..., log=True) instead.\n",
      "  learning_rate = trial.suggest_loguniform(\"learning_rate\", 1e-4, 1e-1)  # 範囲を調整\n",
      "/tmp/ipykernel_41819/2413154260.py:5: FutureWarning: suggest_loguniform has been deprecated in v3.0.0. This feature will be removed in v6.0.0. See https://github.com/optuna/optuna/releases/tag/v3.0.0. Use suggest_float(..., log=True) instead.\n",
      "  weight_decay = trial.suggest_loguniform(\"weight_decay\", 1e-5, 1e-1)   # 範囲を調整\n",
      "[I 2024-12-18 13:46:39,605] Trial 87 finished with value: 0.2935346578833186 and parameters: {'dropout1': 0.30000000000000004, 'dropout2': 0.45, 'learning_rate': 0.00011831433983079024, 'weight_decay': 1.6548502518771666e-05}. Best is trial 51 with value: 0.4011142142321774.\n",
      "/tmp/ipykernel_41819/2413154260.py:4: FutureWarning: suggest_loguniform has been deprecated in v3.0.0. This feature will be removed in v6.0.0. See https://github.com/optuna/optuna/releases/tag/v3.0.0. Use suggest_float(..., log=True) instead.\n",
      "  learning_rate = trial.suggest_loguniform(\"learning_rate\", 1e-4, 1e-1)  # 範囲を調整\n",
      "/tmp/ipykernel_41819/2413154260.py:5: FutureWarning: suggest_loguniform has been deprecated in v3.0.0. This feature will be removed in v6.0.0. See https://github.com/optuna/optuna/releases/tag/v3.0.0. Use suggest_float(..., log=True) instead.\n",
      "  weight_decay = trial.suggest_loguniform(\"weight_decay\", 1e-5, 1e-1)   # 範囲を調整\n",
      "[I 2024-12-18 13:46:39,784] Trial 88 pruned. \n"
     ]
    },
    {
     "name": "stdout",
     "output_type": "stream",
     "text": [
      "Final MCC: 0.2935\n"
     ]
    },
    {
     "name": "stderr",
     "output_type": "stream",
     "text": [
      "[I 2024-12-18 13:46:39,952] Trial 89 pruned. \n",
      "[I 2024-12-18 13:46:40,116] Trial 90 pruned. \n",
      "[I 2024-12-18 13:46:40,279] Trial 91 pruned. \n",
      "[I 2024-12-18 13:46:40,439] Trial 92 pruned. \n",
      "[I 2024-12-18 13:46:40,596] Trial 93 pruned. \n",
      "[I 2024-12-18 13:46:51,088] Trial 94 finished with value: 0.27722486391194895 and parameters: {'dropout1': 0.25, 'dropout2': 0.45, 'learning_rate': 0.00013524870197868276, 'weight_decay': 0.00046192779782528375}. Best is trial 51 with value: 0.4011142142321774.\n"
     ]
    },
    {
     "name": "stdout",
     "output_type": "stream",
     "text": [
      "Final MCC: 0.2772\n"
     ]
    },
    {
     "name": "stderr",
     "output_type": "stream",
     "text": [
      "/tmp/ipykernel_41819/2413154260.py:4: FutureWarning: suggest_loguniform has been deprecated in v3.0.0. This feature will be removed in v6.0.0. See https://github.com/optuna/optuna/releases/tag/v3.0.0. Use suggest_float(..., log=True) instead.\n",
      "  learning_rate = trial.suggest_loguniform(\"learning_rate\", 1e-4, 1e-1)  # 範囲を調整\n",
      "/tmp/ipykernel_41819/2413154260.py:5: FutureWarning: suggest_loguniform has been deprecated in v3.0.0. This feature will be removed in v6.0.0. See https://github.com/optuna/optuna/releases/tag/v3.0.0. Use suggest_float(..., log=True) instead.\n",
      "  weight_decay = trial.suggest_loguniform(\"weight_decay\", 1e-5, 1e-1)   # 範囲を調整\n",
      "[I 2024-12-18 13:47:04,590] Trial 95 finished with value: 0.0 and parameters: {'dropout1': 0.30000000000000004, 'dropout2': 0.5, 'learning_rate': 0.00020534578502436776, 'weight_decay': 1.569365560772321e-05}. Best is trial 51 with value: 0.4011142142321774.\n",
      "/tmp/ipykernel_41819/2413154260.py:4: FutureWarning: suggest_loguniform has been deprecated in v3.0.0. This feature will be removed in v6.0.0. See https://github.com/optuna/optuna/releases/tag/v3.0.0. Use suggest_float(..., log=True) instead.\n",
      "  learning_rate = trial.suggest_loguniform(\"learning_rate\", 1e-4, 1e-1)  # 範囲を調整\n",
      "/tmp/ipykernel_41819/2413154260.py:5: FutureWarning: suggest_loguniform has been deprecated in v3.0.0. This feature will be removed in v6.0.0. See https://github.com/optuna/optuna/releases/tag/v3.0.0. Use suggest_float(..., log=True) instead.\n",
      "  weight_decay = trial.suggest_loguniform(\"weight_decay\", 1e-5, 1e-1)   # 範囲を調整\n",
      "[I 2024-12-18 13:47:04,765] Trial 96 pruned. \n"
     ]
    },
    {
     "name": "stdout",
     "output_type": "stream",
     "text": [
      "Final MCC: 0.0000\n"
     ]
    },
    {
     "name": "stderr",
     "output_type": "stream",
     "text": [
      "[I 2024-12-18 13:47:04,936] Trial 97 pruned. \n",
      "[I 2024-12-18 13:47:05,102] Trial 98 pruned. \n",
      "[I 2024-12-18 13:47:05,279] Trial 99 pruned. \n"
     ]
    },
    {
     "name": "stdout",
     "output_type": "stream",
     "text": [
      "Best Parameters:  {'dropout1': 0.15000000000000002, 'dropout2': 0.5, 'learning_rate': 0.00011190563675127609, 'weight_decay': 0.0005543065395801654}\n",
      "Best Validation F1:  0.4011142142321774\n"
     ]
    }
   ],
   "source": [
    "device_id = 0  # 使用するGPUのID（0または1）\n",
    "torch.cuda.set_device(device_id)\n",
    "device = torch.device(f\"cuda:{device_id}\" if torch.cuda.is_available() else \"cpu\")\n",
    "\n",
    "# Optunaの設定\n",
    "study = optuna.create_study(direction=\"maximize\")  \n",
    "study.optimize(objective, n_trials=100)\n",
    "\n",
    "# 結果表示\n",
    "print(\"Best Parameters: \", study.best_params)\n",
    "print(\"Best Validation F1: \", study.best_value)"
   ]
  },
  {
   "cell_type": "code",
   "execution_count": 7,
   "metadata": {},
   "outputs": [
    {
     "name": "stdout",
     "output_type": "stream",
     "text": [
      "Best parameters saved to 'best_params.json'\n"
     ]
    }
   ],
   "source": [
    "best_params = study.best_params\n",
    "\n",
    "# JSON形式で保存\n",
    "with open(\"optim_param/optim_DNN_4_params.json\", \"w\") as f:\n",
    "    json.dump(best_params, f)\n",
    "\n",
    "print(\"Best parameters saved to 'best_params.json'\")"
   ]
  },
  {
   "cell_type": "code",
   "execution_count": 8,
   "metadata": {},
   "outputs": [
    {
     "name": "stdout",
     "output_type": "stream",
     "text": [
      "Epoch [1/150], Loss: 0.8750\n",
      "Epoch [1/150], Train Loss: 0.8750, Val Loss: 0.7543\n",
      "Epoch [2/150], Loss: 0.8664\n",
      "Epoch [2/150], Train Loss: 0.8664, Val Loss: 0.7915\n",
      "Epoch [3/150], Loss: 0.8502\n",
      "Epoch [3/150], Train Loss: 0.8502, Val Loss: 0.7834\n",
      "Epoch [4/150], Loss: 0.8368\n",
      "Epoch [4/150], Train Loss: 0.8368, Val Loss: 0.7759\n",
      "Epoch [5/150], Loss: 0.8375\n",
      "Epoch [5/150], Train Loss: 0.8375, Val Loss: 0.7686\n",
      "Epoch [6/150], Loss: 0.8180\n",
      "Epoch [6/150], Train Loss: 0.8180, Val Loss: 0.7642\n",
      "Epoch [7/150], Loss: 0.8258\n",
      "Epoch [7/150], Train Loss: 0.8258, Val Loss: 0.7588\n",
      "Epoch [8/150], Loss: 0.8251\n",
      "Epoch [8/150], Train Loss: 0.8251, Val Loss: 0.7564\n",
      "Epoch [9/150], Loss: 0.8130\n",
      "Epoch [9/150], Train Loss: 0.8130, Val Loss: 0.7523\n",
      "Epoch [10/150], Loss: 0.8003\n",
      "Epoch [10/150], Train Loss: 0.8003, Val Loss: 0.7518\n",
      "Epoch [11/150], Loss: 0.8029\n",
      "Epoch [11/150], Train Loss: 0.8029, Val Loss: 0.7513\n",
      "Epoch [12/150], Loss: 0.7973\n",
      "Epoch [12/150], Train Loss: 0.7973, Val Loss: 0.7466\n",
      "Epoch [13/150], Loss: 0.7899\n",
      "Epoch [13/150], Train Loss: 0.7899, Val Loss: 0.7438\n",
      "Epoch [14/150], Loss: 0.7994\n",
      "Epoch [14/150], Train Loss: 0.7994, Val Loss: 0.7407\n",
      "Epoch [15/150], Loss: 0.8016\n",
      "Epoch [15/150], Train Loss: 0.8016, Val Loss: 0.7394\n",
      "Epoch [16/150], Loss: 0.7824\n",
      "Epoch [16/150], Train Loss: 0.7824, Val Loss: 0.7365\n",
      "Epoch [17/150], Loss: 0.7852\n",
      "Epoch [17/150], Train Loss: 0.7852, Val Loss: 0.7310\n",
      "Epoch [18/150], Loss: 0.7741\n",
      "Epoch [18/150], Train Loss: 0.7741, Val Loss: 0.7321\n",
      "Epoch [19/150], Loss: 0.7813\n",
      "Epoch [19/150], Train Loss: 0.7813, Val Loss: 0.7315\n",
      "Epoch [20/150], Loss: 0.7705\n",
      "Epoch [20/150], Train Loss: 0.7705, Val Loss: 0.7284\n",
      "Epoch [21/150], Loss: 0.7597\n",
      "Epoch [21/150], Train Loss: 0.7597, Val Loss: 0.7279\n",
      "Epoch [22/150], Loss: 0.7625\n",
      "Epoch [22/150], Train Loss: 0.7625, Val Loss: 0.7238\n",
      "Epoch [23/150], Loss: 0.7611\n",
      "Epoch [23/150], Train Loss: 0.7611, Val Loss: 0.7219\n",
      "Epoch [24/150], Loss: 0.7601\n",
      "Epoch [24/150], Train Loss: 0.7601, Val Loss: 0.7212\n",
      "Epoch [25/150], Loss: 0.7586\n",
      "Epoch [25/150], Train Loss: 0.7586, Val Loss: 0.7190\n",
      "Epoch [26/150], Loss: 0.7509\n",
      "Epoch [26/150], Train Loss: 0.7509, Val Loss: 0.7160\n",
      "Epoch [27/150], Loss: 0.7448\n",
      "Epoch [27/150], Train Loss: 0.7448, Val Loss: 0.7145\n",
      "Epoch [28/150], Loss: 0.7393\n",
      "Epoch [28/150], Train Loss: 0.7393, Val Loss: 0.7098\n",
      "Epoch [29/150], Loss: 0.7425\n",
      "Epoch [29/150], Train Loss: 0.7425, Val Loss: 0.7077\n",
      "Epoch [30/150], Loss: 0.7408\n",
      "Epoch [30/150], Train Loss: 0.7408, Val Loss: 0.7053\n",
      "Epoch [31/150], Loss: 0.7486\n",
      "Epoch [31/150], Train Loss: 0.7486, Val Loss: 0.7075\n",
      "Epoch [32/150], Loss: 0.7413\n",
      "Epoch [32/150], Train Loss: 0.7413, Val Loss: 0.7036\n",
      "Epoch [33/150], Loss: 0.7453\n",
      "Epoch [33/150], Train Loss: 0.7453, Val Loss: 0.7001\n",
      "Epoch [34/150], Loss: 0.7312\n",
      "Epoch [34/150], Train Loss: 0.7312, Val Loss: 0.6978\n",
      "Epoch [35/150], Loss: 0.7295\n",
      "Epoch [35/150], Train Loss: 0.7295, Val Loss: 0.6997\n",
      "Epoch [36/150], Loss: 0.7368\n",
      "Epoch [36/150], Train Loss: 0.7368, Val Loss: 0.6952\n",
      "Epoch [37/150], Loss: 0.7247\n",
      "Epoch [37/150], Train Loss: 0.7247, Val Loss: 0.6954\n",
      "Epoch [38/150], Loss: 0.7223\n",
      "Epoch [38/150], Train Loss: 0.7223, Val Loss: 0.6935\n",
      "Epoch [39/150], Loss: 0.7282\n",
      "Epoch [39/150], Train Loss: 0.7282, Val Loss: 0.6914\n",
      "Epoch [40/150], Loss: 0.7231\n",
      "Epoch [40/150], Train Loss: 0.7231, Val Loss: 0.6885\n",
      "Epoch [41/150], Loss: 0.7115\n",
      "Epoch [41/150], Train Loss: 0.7115, Val Loss: 0.6877\n",
      "Epoch [42/150], Loss: 0.7179\n",
      "Epoch [42/150], Train Loss: 0.7179, Val Loss: 0.6839\n",
      "Epoch [43/150], Loss: 0.7127\n",
      "Epoch [43/150], Train Loss: 0.7127, Val Loss: 0.6854\n",
      "Epoch [44/150], Loss: 0.7070\n",
      "Epoch [44/150], Train Loss: 0.7070, Val Loss: 0.6827\n",
      "Epoch [45/150], Loss: 0.7134\n",
      "Epoch [45/150], Train Loss: 0.7134, Val Loss: 0.6790\n",
      "Epoch [46/150], Loss: 0.7062\n",
      "Epoch [46/150], Train Loss: 0.7062, Val Loss: 0.6785\n",
      "Epoch [47/150], Loss: 0.7049\n",
      "Epoch [47/150], Train Loss: 0.7049, Val Loss: 0.6781\n",
      "Epoch [48/150], Loss: 0.7069\n",
      "Epoch [48/150], Train Loss: 0.7069, Val Loss: 0.6772\n",
      "Epoch [49/150], Loss: 0.6990\n",
      "Epoch [49/150], Train Loss: 0.6990, Val Loss: 0.6759\n",
      "Epoch [50/150], Loss: 0.7005\n",
      "Epoch [50/150], Train Loss: 0.7005, Val Loss: 0.6711\n",
      "Epoch [51/150], Loss: 0.6929\n",
      "Epoch [51/150], Train Loss: 0.6929, Val Loss: 0.6709\n",
      "Epoch [52/150], Loss: 0.6955\n",
      "Epoch [52/150], Train Loss: 0.6955, Val Loss: 0.6699\n",
      "Epoch [53/150], Loss: 0.6941\n",
      "Epoch [53/150], Train Loss: 0.6941, Val Loss: 0.6694\n",
      "Epoch [54/150], Loss: 0.6936\n",
      "Epoch [54/150], Train Loss: 0.6936, Val Loss: 0.6666\n",
      "Epoch [55/150], Loss: 0.6951\n",
      "Epoch [55/150], Train Loss: 0.6951, Val Loss: 0.6645\n",
      "Epoch [56/150], Loss: 0.6903\n",
      "Epoch [56/150], Train Loss: 0.6903, Val Loss: 0.6629\n",
      "Epoch [57/150], Loss: 0.6862\n",
      "Epoch [57/150], Train Loss: 0.6862, Val Loss: 0.6617\n",
      "Epoch [58/150], Loss: 0.6914\n",
      "Epoch [58/150], Train Loss: 0.6914, Val Loss: 0.6606\n",
      "Epoch [59/150], Loss: 0.6824\n",
      "Epoch [59/150], Train Loss: 0.6824, Val Loss: 0.6565\n",
      "Epoch [60/150], Loss: 0.6811\n",
      "Epoch [60/150], Train Loss: 0.6811, Val Loss: 0.6561\n",
      "Epoch [61/150], Loss: 0.6812\n",
      "Epoch [61/150], Train Loss: 0.6812, Val Loss: 0.6575\n",
      "Epoch [62/150], Loss: 0.6825\n",
      "Epoch [62/150], Train Loss: 0.6825, Val Loss: 0.6551\n",
      "Epoch [63/150], Loss: 0.6846\n",
      "Epoch [63/150], Train Loss: 0.6846, Val Loss: 0.6554\n",
      "Epoch [64/150], Loss: 0.6848\n",
      "Epoch [64/150], Train Loss: 0.6848, Val Loss: 0.6537\n",
      "Epoch [65/150], Loss: 0.6749\n",
      "Epoch [65/150], Train Loss: 0.6749, Val Loss: 0.6503\n",
      "Epoch [66/150], Loss: 0.6789\n",
      "Epoch [66/150], Train Loss: 0.6789, Val Loss: 0.6510\n",
      "Epoch [67/150], Loss: 0.6685\n",
      "Epoch [67/150], Train Loss: 0.6685, Val Loss: 0.6485\n",
      "Epoch [68/150], Loss: 0.6757\n",
      "Epoch [68/150], Train Loss: 0.6757, Val Loss: 0.6494\n",
      "Epoch [69/150], Loss: 0.6705\n",
      "Epoch [69/150], Train Loss: 0.6705, Val Loss: 0.6485\n",
      "Epoch [70/150], Loss: 0.6732\n",
      "Epoch [70/150], Train Loss: 0.6732, Val Loss: 0.6467\n",
      "Epoch [71/150], Loss: 0.6773\n",
      "Epoch [71/150], Train Loss: 0.6773, Val Loss: 0.6457\n",
      "Epoch [72/150], Loss: 0.6710\n",
      "Epoch [72/150], Train Loss: 0.6710, Val Loss: 0.6426\n",
      "Epoch [73/150], Loss: 0.6680\n",
      "Epoch [73/150], Train Loss: 0.6680, Val Loss: 0.6419\n",
      "Epoch [74/150], Loss: 0.6646\n",
      "Epoch [74/150], Train Loss: 0.6646, Val Loss: 0.6422\n",
      "Epoch [75/150], Loss: 0.6693\n",
      "Epoch [75/150], Train Loss: 0.6693, Val Loss: 0.6394\n",
      "Epoch [76/150], Loss: 0.6630\n",
      "Epoch [76/150], Train Loss: 0.6630, Val Loss: 0.6400\n",
      "Epoch [77/150], Loss: 0.6684\n",
      "Epoch [77/150], Train Loss: 0.6684, Val Loss: 0.6382\n",
      "Epoch [78/150], Loss: 0.6660\n",
      "Epoch [78/150], Train Loss: 0.6660, Val Loss: 0.6387\n",
      "Epoch [79/150], Loss: 0.6612\n",
      "Epoch [79/150], Train Loss: 0.6612, Val Loss: 0.6382\n",
      "Epoch [80/150], Loss: 0.6645\n",
      "Epoch [80/150], Train Loss: 0.6645, Val Loss: 0.6344\n",
      "Epoch [81/150], Loss: 0.6618\n",
      "Epoch [81/150], Train Loss: 0.6618, Val Loss: 0.6334\n",
      "Epoch [82/150], Loss: 0.6621\n",
      "Epoch [82/150], Train Loss: 0.6621, Val Loss: 0.6340\n",
      "Epoch [83/150], Loss: 0.6653\n",
      "Epoch [83/150], Train Loss: 0.6653, Val Loss: 0.6321\n",
      "Epoch [84/150], Loss: 0.6605\n",
      "Epoch [84/150], Train Loss: 0.6605, Val Loss: 0.6330\n",
      "Epoch [85/150], Loss: 0.6554\n",
      "Epoch [85/150], Train Loss: 0.6554, Val Loss: 0.6310\n",
      "Epoch [86/150], Loss: 0.6555\n",
      "Epoch [86/150], Train Loss: 0.6555, Val Loss: 0.6299\n",
      "Epoch [87/150], Loss: 0.6604\n",
      "Epoch [87/150], Train Loss: 0.6604, Val Loss: 0.6296\n",
      "Epoch [88/150], Loss: 0.6569\n",
      "Epoch [88/150], Train Loss: 0.6569, Val Loss: 0.6273\n",
      "Epoch [89/150], Loss: 0.6520\n",
      "Epoch [89/150], Train Loss: 0.6520, Val Loss: 0.6271\n",
      "Epoch [90/150], Loss: 0.6518\n",
      "Epoch [90/150], Train Loss: 0.6518, Val Loss: 0.6222\n",
      "Epoch [91/150], Loss: 0.6518\n",
      "Epoch [91/150], Train Loss: 0.6518, Val Loss: 0.6259\n",
      "Epoch [92/150], Loss: 0.6487\n",
      "Epoch [92/150], Train Loss: 0.6487, Val Loss: 0.6255\n",
      "Epoch [93/150], Loss: 0.6465\n",
      "Epoch [93/150], Train Loss: 0.6465, Val Loss: 0.6228\n",
      "Epoch [94/150], Loss: 0.6588\n",
      "Epoch [94/150], Train Loss: 0.6588, Val Loss: 0.6233\n",
      "Epoch [95/150], Loss: 0.6504\n",
      "Epoch [95/150], Train Loss: 0.6504, Val Loss: 0.6211\n",
      "Epoch [96/150], Loss: 0.6570\n",
      "Epoch [96/150], Train Loss: 0.6570, Val Loss: 0.6216\n",
      "Epoch [97/150], Loss: 0.6487\n",
      "Epoch [97/150], Train Loss: 0.6487, Val Loss: 0.6168\n",
      "Epoch [98/150], Loss: 0.6525\n",
      "Epoch [98/150], Train Loss: 0.6525, Val Loss: 0.6167\n",
      "Epoch [99/150], Loss: 0.6408\n",
      "Epoch [99/150], Train Loss: 0.6408, Val Loss: 0.6194\n",
      "Epoch [100/150], Loss: 0.6533\n",
      "Epoch [100/150], Train Loss: 0.6533, Val Loss: 0.6192\n",
      "Epoch [101/150], Loss: 0.6477\n",
      "Epoch [101/150], Train Loss: 0.6477, Val Loss: 0.6191\n",
      "Epoch [102/150], Loss: 0.6454\n",
      "Epoch [102/150], Train Loss: 0.6454, Val Loss: 0.6176\n",
      "Epoch [103/150], Loss: 0.6490\n",
      "Epoch [103/150], Train Loss: 0.6490, Val Loss: 0.6144\n",
      "Epoch [104/150], Loss: 0.6466\n",
      "Epoch [104/150], Train Loss: 0.6466, Val Loss: 0.6129\n",
      "Epoch [105/150], Loss: 0.6410\n",
      "Epoch [105/150], Train Loss: 0.6410, Val Loss: 0.6141\n",
      "Epoch [106/150], Loss: 0.6428\n",
      "Epoch [106/150], Train Loss: 0.6428, Val Loss: 0.6119\n",
      "Epoch [107/150], Loss: 0.6411\n",
      "Epoch [107/150], Train Loss: 0.6411, Val Loss: 0.6120\n",
      "Epoch [108/150], Loss: 0.6414\n",
      "Epoch [108/150], Train Loss: 0.6414, Val Loss: 0.6126\n",
      "Epoch [109/150], Loss: 0.6440\n",
      "Epoch [109/150], Train Loss: 0.6440, Val Loss: 0.6118\n",
      "Epoch [110/150], Loss: 0.6393\n",
      "Epoch [110/150], Train Loss: 0.6393, Val Loss: 0.6097\n",
      "Epoch [111/150], Loss: 0.6434\n",
      "Epoch [111/150], Train Loss: 0.6434, Val Loss: 0.6101\n",
      "Epoch [112/150], Loss: 0.6387\n",
      "Epoch [112/150], Train Loss: 0.6387, Val Loss: 0.6099\n",
      "Epoch [113/150], Loss: 0.6405\n",
      "Epoch [113/150], Train Loss: 0.6405, Val Loss: 0.6081\n",
      "Epoch [114/150], Loss: 0.6437\n",
      "Epoch [114/150], Train Loss: 0.6437, Val Loss: 0.6091\n",
      "Epoch [115/150], Loss: 0.6375\n",
      "Epoch [115/150], Train Loss: 0.6375, Val Loss: 0.6063\n",
      "Epoch [116/150], Loss: 0.6375\n",
      "Epoch [116/150], Train Loss: 0.6375, Val Loss: 0.6069\n",
      "Epoch [117/150], Loss: 0.6375\n",
      "Epoch [117/150], Train Loss: 0.6375, Val Loss: 0.6054\n",
      "Epoch [118/150], Loss: 0.6410\n",
      "Epoch [118/150], Train Loss: 0.6410, Val Loss: 0.6073\n",
      "Epoch [119/150], Loss: 0.6336\n",
      "Epoch [119/150], Train Loss: 0.6336, Val Loss: 0.6054\n",
      "Epoch [120/150], Loss: 0.6348\n",
      "Epoch [120/150], Train Loss: 0.6348, Val Loss: 0.6053\n",
      "Epoch [121/150], Loss: 0.6303\n",
      "Epoch [121/150], Train Loss: 0.6303, Val Loss: 0.6055\n",
      "Epoch [122/150], Loss: 0.6327\n",
      "Epoch [122/150], Train Loss: 0.6327, Val Loss: 0.6059\n",
      "Epoch [123/150], Loss: 0.6333\n",
      "Epoch [123/150], Train Loss: 0.6333, Val Loss: 0.6041\n",
      "Epoch [124/150], Loss: 0.6365\n",
      "Epoch [124/150], Train Loss: 0.6365, Val Loss: 0.6050\n",
      "Epoch [125/150], Loss: 0.6333\n",
      "Epoch [125/150], Train Loss: 0.6333, Val Loss: 0.6040\n",
      "Epoch [126/150], Loss: 0.6312\n",
      "Epoch [126/150], Train Loss: 0.6312, Val Loss: 0.6024\n",
      "Epoch [127/150], Loss: 0.6366\n",
      "Epoch [127/150], Train Loss: 0.6366, Val Loss: 0.6016\n",
      "Epoch [128/150], Loss: 0.6317\n",
      "Epoch [128/150], Train Loss: 0.6317, Val Loss: 0.6008\n",
      "Epoch [129/150], Loss: 0.6304\n",
      "Epoch [129/150], Train Loss: 0.6304, Val Loss: 0.5998\n",
      "Epoch [130/150], Loss: 0.6311\n",
      "Epoch [130/150], Train Loss: 0.6311, Val Loss: 0.6000\n",
      "Epoch [131/150], Loss: 0.6293\n",
      "Epoch [131/150], Train Loss: 0.6293, Val Loss: 0.6003\n",
      "Epoch [132/150], Loss: 0.6315\n",
      "Epoch [132/150], Train Loss: 0.6315, Val Loss: 0.5996\n",
      "Epoch [133/150], Loss: 0.6298\n",
      "Epoch [133/150], Train Loss: 0.6298, Val Loss: 0.5993\n",
      "Epoch [134/150], Loss: 0.6293\n",
      "Epoch [134/150], Train Loss: 0.6293, Val Loss: 0.5993\n",
      "Epoch [135/150], Loss: 0.6331\n",
      "Epoch [135/150], Train Loss: 0.6331, Val Loss: 0.5991\n",
      "Epoch [136/150], Loss: 0.6314\n",
      "Epoch [136/150], Train Loss: 0.6314, Val Loss: 0.5991\n",
      "Epoch [137/150], Loss: 0.6314\n",
      "Epoch [137/150], Train Loss: 0.6314, Val Loss: 0.5986\n",
      "Epoch [138/150], Loss: 0.6242\n",
      "Epoch [138/150], Train Loss: 0.6242, Val Loss: 0.5980\n",
      "Epoch [139/150], Loss: 0.6283\n",
      "Epoch [139/150], Train Loss: 0.6283, Val Loss: 0.5989\n",
      "Epoch [140/150], Loss: 0.6268\n",
      "Epoch [140/150], Train Loss: 0.6268, Val Loss: 0.5976\n",
      "Epoch [141/150], Loss: 0.6248\n",
      "Epoch [141/150], Train Loss: 0.6248, Val Loss: 0.5971\n",
      "Epoch [142/150], Loss: 0.6221\n",
      "Epoch [142/150], Train Loss: 0.6221, Val Loss: 0.5958\n",
      "Epoch [143/150], Loss: 0.6299\n",
      "Epoch [143/150], Train Loss: 0.6299, Val Loss: 0.5978\n",
      "Epoch [144/150], Loss: 0.6252\n",
      "Epoch [144/150], Train Loss: 0.6252, Val Loss: 0.5965\n",
      "Epoch [145/150], Loss: 0.6262\n",
      "Epoch [145/150], Train Loss: 0.6262, Val Loss: 0.5965\n",
      "Epoch [146/150], Loss: 0.6297\n",
      "Epoch [146/150], Train Loss: 0.6297, Val Loss: 0.5941\n",
      "Epoch [147/150], Loss: 0.6281\n",
      "Epoch [147/150], Train Loss: 0.6281, Val Loss: 0.5948\n",
      "Epoch [148/150], Loss: 0.6244\n",
      "Epoch [148/150], Train Loss: 0.6244, Val Loss: 0.5952\n",
      "Epoch [149/150], Loss: 0.6293\n",
      "Epoch [149/150], Train Loss: 0.6293, Val Loss: 0.5943\n",
      "Epoch [150/150], Loss: 0.6277\n",
      "Epoch [150/150], Train Loss: 0.6277, Val Loss: 0.5940\n"
     ]
    },
    {
     "data": {
      "image/png": "[encoded data removed]",
      "text/plain": [
       "<Figure size 1000x600 with 1 Axes>"
      ]
     },
     "metadata": {},
     "output_type": "display_data"
    }
   ],
   "source": [
    "best_params=study.best_params\n",
    "model = DNN_4(input_dim=X_train_tensor.shape[1],\n",
    "              dropout1=best_params[\"dropout1\"],\n",
    "              dropout2=best_params[\"dropout2\"]).to(device)\n",
    "\n",
    "\n",
    "# 最適化と訓練を実行\n",
    "optimizer = optim.Adam(model.parameters(), lr=best_params[\"learning_rate\"],weight_decay=best_params[\"weight_decay\"])\n",
    "criterion = nn.BCELoss()\n",
    "\n",
    "num_epochs=150\n",
    "train_losses = []\n",
    "val_losses = []\n",
    "\n",
    "model.train()\n",
    "for epoch in range(num_epochs):\n",
    "    epoch_train_loss = 0\n",
    "    epoch_val_loss = 0\n",
    "\n",
    "    for X_batch, y_batch in train_loader:\n",
    "        X_batch, y_batch = X_batch.to(device), y_batch.to(device)\n",
    "        optimizer.zero_grad()\n",
    "        outputs = model(X_batch).squeeze()\n",
    "        loss = criterion(outputs, y_batch.squeeze())\n",
    "        loss.backward()\n",
    "        optimizer.step()\n",
    "        epoch_train_loss += loss.item()\n",
    "    avg_train_loss = epoch_train_loss / len(train_loader)\n",
    "    train_losses.append(avg_train_loss)\n",
    "    print(f'Epoch [{epoch+1}/{num_epochs}], Loss: {avg_train_loss:.4f}')\n",
    "\n",
    "    if val_loader is not None:\n",
    "        model.eval()  \n",
    "        with torch.no_grad():\n",
    "            for X_val, y_val in val_loader:\n",
    "                X_val, y_val = X_val.to(device), y_val.to(device)\n",
    "                val_outputs = model(X_val).squeeze()\n",
    "                val_loss = criterion(val_outputs, y_val.squeeze())\n",
    "                epoch_val_loss += val_loss.item()\n",
    "\n",
    "        avg_val_loss = epoch_val_loss / len(val_loader)\n",
    "        val_losses.append(avg_val_loss)\n",
    "        model.train()  \n",
    "\n",
    "    if val_loader is not None:\n",
    "        print(f\"Epoch [{epoch+1}/{num_epochs}], Train Loss: {avg_train_loss:.4f}, Val Loss: {avg_val_loss:.4f}\")\n",
    "    else:\n",
    "        print(f\"Epoch [{epoch+1}/{num_epochs}], Train Loss: {avg_train_loss:.4f}\")\n",
    "\n",
    "plt.figure(figsize=(10, 6))\n",
    "plt.plot(range(1, num_epochs + 1), train_losses, label='Train Loss')\n",
    "if val_losses:\n",
    "    plt.plot(range(1, num_epochs + 1), val_losses, label='Validation Loss')\n",
    "plt.xlabel('Epoch')\n",
    "plt.ylabel('Loss')\n",
    "plt.title('Learning Curve for DNN4')\n",
    "plt.legend()\n",
    "plt.grid()\n",
    "plt.show()"
   ]
  },
  {
   "cell_type": "code",
   "execution_count": 9,
   "metadata": {},
   "outputs": [
    {
     "name": "stdout",
     "output_type": "stream",
     "text": [
      "Accuracy: 59.68%\n",
      "Precision: 0.4611\n",
      "Recall: 0.4893\n",
      "F1 Score: 0.4748\n",
      "Matthews Correlation Coefficient: 0.1482\n",
      "Specificity: 0.6606\n"
     ]
    },
    {
     "data": {
      "image/png": "[encoded data removed]",
      "text/plain": [
       "<Figure size 640x480 with 1 Axes>"
      ]
     },
     "metadata": {},
     "output_type": "display_data"
    },
    {
     "data": {
      "image/png": "[encoded data removed]",
      "text/plain": [
       "<Figure size 640x480 with 1 Axes>"
      ]
     },
     "metadata": {},
     "output_type": "display_data"
    },
    {
     "data": {
      "image/png": "[encoded data removed]",
      "text/plain": [
       "<Figure size 640x480 with 1 Axes>"
      ]
     },
     "metadata": {},
     "output_type": "display_data"
    }
   ],
   "source": [
    "model.eval()\n",
    "with torch.no_grad():\n",
    "    X_test_tensor = X_test_tensor.to(device)\n",
    "    y_test_tensor = y_test_tensor.to(device)\n",
    "\n",
    "    # 予測と確率\n",
    "    test_outputs = model(X_test_tensor).squeeze()\n",
    "    predictions = (test_outputs >=0.5).float()\n",
    "    y_true = y_test_tensor.cpu().numpy()\n",
    "    y_pred = predictions.cpu().numpy()\n",
    "    y_prob = test_outputs.cpu().numpy()\n",
    "\n",
    "# 評価指標\n",
    "    accuracy = accuracy_score(y_true, y_pred)\n",
    "    precision = precision_score(y_true, y_pred)\n",
    "    recall = recall_score(y_true, y_pred)\n",
    "    f1 = f1_score(y_true, y_pred)\n",
    "    mcc = matthews_corrcoef(y_true, y_pred)\n",
    "    specificity = recall_score(y_true, y_pred, pos_label=0)  \n",
    "    print(f'Accuracy: {accuracy * 100:.2f}%')\n",
    "    print(f'Precision: {precision:.4f}')\n",
    "    print(f'Recall: {recall:.4f}')\n",
    "    print(f'F1 Score: {f1:.4f}')\n",
    "    print(f'Matthews Correlation Coefficient: {mcc:.4f}')\n",
    "    print(f'Specificity: {specificity:.4f}')\n",
    "\n",
    "    # 混同行列（割合表示）\n",
    "    cm = confusion_matrix(y_true, y_pred, normalize='true')\n",
    "    sns.heatmap(cm, annot=True, fmt=\".2%\", cmap=\"Blues\", cbar=False)\n",
    "    plt.xlabel(\"Predicted\")\n",
    "    plt.ylabel(\"Actual\")\n",
    "    plt.title(f\"Confusion Matrix (Normalized)\")\n",
    "    plt.show()\n",
    "\n",
    "    # ROC曲線とAUC\n",
    "    fpr, tpr, thresholds = roc_curve(y_true, y_prob)\n",
    "    roc_auc = auc(fpr, tpr)\n",
    "    plt.plot(fpr, tpr, label=f'ROC curve (AUC = {roc_auc:.2f})')\n",
    "    plt.plot([0, 1], [0, 1], 'k--') \n",
    "    plt.xlabel('False Positive Rate')\n",
    "    plt.ylabel('True Positive Rate')\n",
    "    plt.title(f'ROC Curve - Model ')\n",
    "    plt.legend(loc=\"lower right\")\n",
    "    plt.show()\n",
    "\n",
    "    # Precision-Recall曲線\n",
    "    precision_curve, recall_curve, pr_thresholds = precision_recall_curve(y_true, y_prob)\n",
    "    pr_auc = auc(recall_curve, precision_curve)\n",
    "    plt.plot(recall_curve, precision_curve, label=f'PR curve (AUC = {pr_auc:.2f})')\n",
    "    plt.xlabel('Recall')\n",
    "    plt.ylabel('Precision')\n",
    "    plt.title(f'Precision-Recall Curve ')\n",
    "    plt.legend(loc=\"lower left\")\n",
    "    plt.show()    "
   ]
  },
  {
   "cell_type": "code",
   "execution_count": 10,
   "metadata": {},
   "outputs": [],
   "source": [
    "# モデルと構造を保存\n",
    "torch.save(model.state_dict(), 'model_params/DNN_4.pth')\n",
    "\n"
   ]
  },
  {
   "cell_type": "code",
   "execution_count": 11,
   "metadata": {},
   "outputs": [
    {
     "name": "stdout",
     "output_type": "stream",
     "text": [
      "----------------------------------------------------------------\n",
      "        Layer (type)               Output Shape         Param #\n",
      "================================================================\n",
      "            Linear-1                   [-1, 32]             960\n",
      "       BatchNorm1d-2                   [-1, 32]              64\n",
      "           Dropout-3                   [-1, 32]               0\n",
      "            Linear-4                   [-1, 16]             528\n",
      "       BatchNorm1d-5                   [-1, 16]              32\n",
      "            Linear-6                    [-1, 8]             136\n",
      "       BatchNorm1d-7                    [-1, 8]              16\n",
      "            Linear-8                    [-1, 4]              36\n",
      "       BatchNorm1d-9                    [-1, 4]               8\n",
      "          Dropout-10                    [-1, 4]               0\n",
      "           Linear-11                    [-1, 1]               5\n",
      "================================================================\n",
      "Total params: 1,785\n",
      "Trainable params: 1,785\n",
      "Non-trainable params: 0\n",
      "----------------------------------------------------------------\n",
      "Input size (MB): 0.00\n",
      "Forward/backward pass size (MB): 0.00\n",
      "Params size (MB): 0.01\n",
      "Estimated Total Size (MB): 0.01\n",
      "----------------------------------------------------------------\n"
     ]
    }
   ],
   "source": [
    "from torchsummary import summary\n",
    "summary(model, input_size=(X_train_tensor.shape[1],))"
   ]
  },
  {
   "cell_type": "code",
   "execution_count": null,
   "metadata": {},
   "outputs": [],
   "source": []
  }
 ],
 "metadata": {
  "kernelspec": {
   "display_name": "torch",
   "language": "python",
   "name": "python3"
  },
  "language_info": {
   "codemirror_mode": {
    "name": "ipython",
    "version": 3
   },
   "file_extension": ".py",
   "mimetype": "text/x-python",
   "name": "python",
   "nbconvert_exporter": "python",
   "pygments_lexer": "ipython3",
   "version": "3.12.7"
  }
 },
 "nbformat": 4,
 "nbformat_minor": 2
}
