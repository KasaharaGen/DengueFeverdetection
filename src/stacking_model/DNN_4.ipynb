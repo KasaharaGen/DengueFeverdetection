{
 "cells": [
  {
   "cell_type": "code",
   "execution_count": 42,
   "metadata": {},
   "outputs": [],
   "source": [
    "import numpy as np\n",
    "import pandas as pd\n",
    "import matplotlib.pyplot as plt\n",
    "import seaborn as sns\n",
    "import json\n",
    "\n",
    "import torch\n",
    "import torch.nn as nn\n",
    "import torch.optim as optim\n",
    "\n",
    "import optuna\n",
    "\n",
    "from sklearn.model_selection import train_test_split\n",
    "from sklearn.metrics import confusion_matrix,accuracy_score, precision_score, recall_score, f1_score, confusion_matrix, roc_curve, auc,matthews_corrcoef, precision_recall_curve,roc_auc_score\n",
    "\n"
   ]
  },
  {
   "cell_type": "markdown",
   "metadata": {},
   "source": [
    "データ読み取り"
   ]
  },
  {
   "cell_type": "code",
   "execution_count": 43,
   "metadata": {},
   "outputs": [],
   "source": [
    "df=pd.read_csv('learning_data.csv',index_col=0)\n",
    "\n",
    "X=df.drop(columns='dengue',axis=1).values\n",
    "y=df['dengue'].values\n",
    "\n",
    "X_train, X_test, y_train, y_test = train_test_split(X, y, test_size=0.2,random_state=42)\n",
    "X_train, X_val, y_train, y_val = train_test_split(X_train, y_train, test_size=0.1,random_state=42)\n",
    "\n",
    "#torchテンソルに変換\n",
    "X_train_tensor = torch.tensor(X_train, dtype=torch.float32)\n",
    "y_train_tensor = torch.tensor(y_train, dtype=torch.float32)\n",
    "X_test_tensor = torch.tensor(X_test, dtype=torch.float32)\n",
    "y_test_tensor = torch.tensor(y_test, dtype=torch.float32)\n",
    "X_val_tensor = torch.tensor(X_val, dtype=torch.float32)\n",
    "y_val_tensor = torch.tensor(y_val, dtype=torch.float32)\n"
   ]
  },
  {
   "cell_type": "code",
   "execution_count": 44,
   "metadata": {},
   "outputs": [],
   "source": [
    "class DNN_4(nn.Module):\n",
    "    def __init__(self, input_dim,dropout1,dropout2):\n",
    "        super(DNN_4, self).__init__()\n",
    "        self.layer1 = nn.Linear(input_dim,32)\n",
    "        self.layer2 = nn.Linear(32,16)\n",
    "        self.layer3 = nn.Linear(16, 8)\n",
    "        self.layer4 = nn.Linear(8, 4)\n",
    "        self.output_layer = nn.Linear(4, 1)\n",
    "\n",
    "        self.bn1=nn.BatchNorm1d(32)\n",
    "        self.bn2=nn.BatchNorm1d(16)\n",
    "        self.bn3=nn.BatchNorm1d(8)\n",
    "        self.bn4=nn.BatchNorm1d(4)\n",
    "\n",
    "        self.dropout1 = nn.Dropout(dropout1)\n",
    "        self.dropout2 = nn.Dropout(dropout2)\n",
    "        \n",
    "        \n",
    "    def forward(self, x):\n",
    "        x = torch.relu(self.bn1(self.layer1(x)))\n",
    "        x = self.dropout1(x)\n",
    "        \n",
    "        x = torch.relu(self.bn2(self.layer2(x)))\n",
    "    \n",
    "\n",
    "        x = torch.relu(self.bn3(self.layer3(x)))\n",
    "        \n",
    "\n",
    "        x = torch.relu(self.bn4(self.layer4(x)))\n",
    "        x = self.dropout2(x)\n",
    "\n",
    "        x = torch.sigmoid(self.output_layer(x)) \n",
    "        return x\n",
    "    "
   ]
  },
  {
   "cell_type": "markdown",
   "metadata": {},
   "source": [
    "学習データセットの作成"
   ]
  },
  {
   "cell_type": "code",
   "execution_count": 45,
   "metadata": {},
   "outputs": [],
   "source": [
    "train_dataset = torch.utils.data.TensorDataset(X_train_tensor, y_train_tensor)\n",
    "train_loader = torch.utils.data.DataLoader(dataset=train_dataset, batch_size=128, shuffle=True)\n",
    "\n",
    "val_dataset = torch.utils.data.TensorDataset(X_val_tensor, y_val_tensor)\n",
    "val_loader = torch.utils.data.DataLoader(dataset=val_dataset, batch_size=128, shuffle=False)"
   ]
  },
  {
   "cell_type": "markdown",
   "metadata": {},
   "source": [
    "Optunaの設定"
   ]
  },
  {
   "cell_type": "code",
   "execution_count": 46,
   "metadata": {},
   "outputs": [],
   "source": [
    "def objective(trial):\n",
    "    dropout1 = trial.suggest_float(\"dropout1\", 0, 0.5, step=0.05)\n",
    "    dropout2 = trial.suggest_float(\"dropout2\", 0, 0.5, step=0.05)\n",
    "    learning_rate = trial.suggest_loguniform(\"learning_rate\", 1e-4, 1e-1)  # 範囲を調整\n",
    "    weight_decay = trial.suggest_loguniform(\"weight_decay\", 1e-5, 1e-1)   # 範囲を調整\n",
    "\n",
    "    # モデル定義\n",
    "    model = DNN_4(\n",
    "        input_dim=X_train_tensor.shape[1],\n",
    "        dropout1=dropout1,\n",
    "        dropout2=dropout2\n",
    "    ).to(device)\n",
    "\n",
    "    criterion = nn.BCELoss()\n",
    "    optimizer = torch.optim.Adam(model.parameters(), lr=learning_rate, weight_decay=weight_decay)\n",
    "\n",
    "    # Early Stoppingの設定\n",
    "    patience = 10\n",
    "    best_val_loss = float('inf')\n",
    "    patience_counter = 0\n",
    "\n",
    "    # 訓練ループ\n",
    "    num_epochs = 100\n",
    "    for epoch in range(num_epochs):\n",
    "        model.train()\n",
    "        for X_batch, y_batch in train_loader:\n",
    "            X_batch, y_batch = X_batch.to(device), y_batch.to(device)\n",
    "            optimizer.zero_grad()\n",
    "            outputs = model(X_batch).squeeze()\n",
    "            loss = criterion(outputs, y_batch.squeeze())\n",
    "            loss.backward()\n",
    "            optimizer.step()\n",
    "\n",
    "        # バリデーション評価\n",
    "        model.eval()\n",
    "        val_loss = 0\n",
    "        val_true, val_pred = [], []\n",
    "        with torch.no_grad():\n",
    "            for X_val, y_val in val_loader:\n",
    "                X_val, y_val = X_val.to(device), y_val.to(device)\n",
    "                val_outputs = model(X_val).squeeze()\n",
    "                val_loss += criterion(val_outputs, y_val.squeeze()).item()\n",
    "                predictions = (val_outputs >= 0.5).float()\n",
    "                val_true.extend(y_val.cpu().numpy())\n",
    "                val_pred.extend(predictions.cpu().numpy())\n",
    "\n",
    "        val_loss /= len(val_loader)\n",
    "\n",
    "        # Early Stoppingの判定\n",
    "        if val_loss < best_val_loss:\n",
    "            best_val_loss = val_loss\n",
    "            patience_counter = 0\n",
    "        else:\n",
    "            patience_counter += 1\n",
    "\n",
    "        if patience_counter >= patience:\n",
    "            print(f\"Early stopping at epoch {epoch}\")\n",
    "            break\n",
    "\n",
    "        # Optunaへのログ\n",
    "        trial.report(val_loss, epoch)\n",
    "        if trial.should_prune():\n",
    "            raise optuna.exceptions.TrialPruned()\n",
    "\n",
    "    # 評価指標の計算\n",
    "    mcc = matthews_corrcoef(val_true, val_pred)\n",
    "    print(f\"Final MCC: {mcc:.4f}\")\n",
    "\n",
    "    return mcc  # mccを返す\n"
   ]
  },
  {
   "cell_type": "code",
   "execution_count": 47,
   "metadata": {},
   "outputs": [
    {
     "name": "stderr",
     "output_type": "stream",
     "text": [
      "[I 2024-12-12 21:01:26,262] A new study created in memory with name: no-name-5fb9ff3a-fa1e-4b31-b042-39f74b7059db\n",
      "/tmp/ipykernel_1287346/2413154260.py:4: FutureWarning: suggest_loguniform has been deprecated in v3.0.0. This feature will be removed in v6.0.0. See https://github.com/optuna/optuna/releases/tag/v3.0.0. Use suggest_float(..., log=True) instead.\n",
      "  learning_rate = trial.suggest_loguniform(\"learning_rate\", 1e-4, 1e-1)  # 範囲を調整\n",
      "/tmp/ipykernel_1287346/2413154260.py:5: FutureWarning: suggest_loguniform has been deprecated in v3.0.0. This feature will be removed in v6.0.0. See https://github.com/optuna/optuna/releases/tag/v3.0.0. Use suggest_float(..., log=True) instead.\n",
      "  weight_decay = trial.suggest_loguniform(\"weight_decay\", 1e-5, 1e-1)   # 範囲を調整\n",
      "[I 2024-12-12 21:01:30,290] Trial 0 finished with value: 0.0 and parameters: {'dropout1': 0.5, 'dropout2': 0.25, 'learning_rate': 0.06979831322766003, 'weight_decay': 0.00022030040798636248}. Best is trial 0 with value: 0.0.\n"
     ]
    },
    {
     "name": "stdout",
     "output_type": "stream",
     "text": [
      "Early stopping at epoch 28\n",
      "Final MCC: 0.0000\n"
     ]
    },
    {
     "name": "stderr",
     "output_type": "stream",
     "text": [
      "/tmp/ipykernel_1287346/2413154260.py:4: FutureWarning: suggest_loguniform has been deprecated in v3.0.0. This feature will be removed in v6.0.0. See https://github.com/optuna/optuna/releases/tag/v3.0.0. Use suggest_float(..., log=True) instead.\n",
      "  learning_rate = trial.suggest_loguniform(\"learning_rate\", 1e-4, 1e-1)  # 範囲を調整\n",
      "/tmp/ipykernel_1287346/2413154260.py:5: FutureWarning: suggest_loguniform has been deprecated in v3.0.0. This feature will be removed in v6.0.0. See https://github.com/optuna/optuna/releases/tag/v3.0.0. Use suggest_float(..., log=True) instead.\n",
      "  weight_decay = trial.suggest_loguniform(\"weight_decay\", 1e-5, 1e-1)   # 範囲を調整\n",
      "[I 2024-12-12 21:01:39,333] Trial 1 finished with value: 0.26393155162954324 and parameters: {'dropout1': 0.5, 'dropout2': 0.15000000000000002, 'learning_rate': 0.0010811894298577965, 'weight_decay': 2.2695669000408336e-05}. Best is trial 1 with value: 0.26393155162954324.\n"
     ]
    },
    {
     "name": "stdout",
     "output_type": "stream",
     "text": [
      "Early stopping at epoch 65\n",
      "Final MCC: 0.2639\n"
     ]
    },
    {
     "name": "stderr",
     "output_type": "stream",
     "text": [
      "/tmp/ipykernel_1287346/2413154260.py:4: FutureWarning: suggest_loguniform has been deprecated in v3.0.0. This feature will be removed in v6.0.0. See https://github.com/optuna/optuna/releases/tag/v3.0.0. Use suggest_float(..., log=True) instead.\n",
      "  learning_rate = trial.suggest_loguniform(\"learning_rate\", 1e-4, 1e-1)  # 範囲を調整\n",
      "/tmp/ipykernel_1287346/2413154260.py:5: FutureWarning: suggest_loguniform has been deprecated in v3.0.0. This feature will be removed in v6.0.0. See https://github.com/optuna/optuna/releases/tag/v3.0.0. Use suggest_float(..., log=True) instead.\n",
      "  weight_decay = trial.suggest_loguniform(\"weight_decay\", 1e-5, 1e-1)   # 範囲を調整\n",
      "[I 2024-12-12 21:01:43,248] Trial 2 finished with value: 0.0 and parameters: {'dropout1': 0.0, 'dropout2': 0.35000000000000003, 'learning_rate': 0.09731006603990339, 'weight_decay': 0.006907438852217143}. Best is trial 1 with value: 0.26393155162954324.\n"
     ]
    },
    {
     "name": "stdout",
     "output_type": "stream",
     "text": [
      "Early stopping at epoch 28\n",
      "Final MCC: 0.0000\n"
     ]
    },
    {
     "name": "stderr",
     "output_type": "stream",
     "text": [
      "/tmp/ipykernel_1287346/2413154260.py:4: FutureWarning: suggest_loguniform has been deprecated in v3.0.0. This feature will be removed in v6.0.0. See https://github.com/optuna/optuna/releases/tag/v3.0.0. Use suggest_float(..., log=True) instead.\n",
      "  learning_rate = trial.suggest_loguniform(\"learning_rate\", 1e-4, 1e-1)  # 範囲を調整\n",
      "/tmp/ipykernel_1287346/2413154260.py:5: FutureWarning: suggest_loguniform has been deprecated in v3.0.0. This feature will be removed in v6.0.0. See https://github.com/optuna/optuna/releases/tag/v3.0.0. Use suggest_float(..., log=True) instead.\n",
      "  weight_decay = trial.suggest_loguniform(\"weight_decay\", 1e-5, 1e-1)   # 範囲を調整\n",
      "[I 2024-12-12 21:01:46,593] Trial 3 finished with value: 0.0 and parameters: {'dropout1': 0.25, 'dropout2': 0.05, 'learning_rate': 0.028406815533974457, 'weight_decay': 1.3140161802994002e-05}. Best is trial 1 with value: 0.26393155162954324.\n"
     ]
    },
    {
     "name": "stdout",
     "output_type": "stream",
     "text": [
      "Early stopping at epoch 23\n",
      "Final MCC: 0.0000\n"
     ]
    },
    {
     "name": "stderr",
     "output_type": "stream",
     "text": [
      "/tmp/ipykernel_1287346/2413154260.py:4: FutureWarning: suggest_loguniform has been deprecated in v3.0.0. This feature will be removed in v6.0.0. See https://github.com/optuna/optuna/releases/tag/v3.0.0. Use suggest_float(..., log=True) instead.\n",
      "  learning_rate = trial.suggest_loguniform(\"learning_rate\", 1e-4, 1e-1)  # 範囲を調整\n",
      "/tmp/ipykernel_1287346/2413154260.py:5: FutureWarning: suggest_loguniform has been deprecated in v3.0.0. This feature will be removed in v6.0.0. See https://github.com/optuna/optuna/releases/tag/v3.0.0. Use suggest_float(..., log=True) instead.\n",
      "  weight_decay = trial.suggest_loguniform(\"weight_decay\", 1e-5, 1e-1)   # 範囲を調整\n",
      "[I 2024-12-12 21:01:50,147] Trial 4 finished with value: 0.1456710070440686 and parameters: {'dropout1': 0.30000000000000004, 'dropout2': 0.0, 'learning_rate': 0.0028371593927182612, 'weight_decay': 0.0004554902291477997}. Best is trial 1 with value: 0.26393155162954324.\n"
     ]
    },
    {
     "name": "stdout",
     "output_type": "stream",
     "text": [
      "Early stopping at epoch 25\n",
      "Final MCC: 0.1457\n"
     ]
    },
    {
     "name": "stderr",
     "output_type": "stream",
     "text": [
      "/tmp/ipykernel_1287346/2413154260.py:4: FutureWarning: suggest_loguniform has been deprecated in v3.0.0. This feature will be removed in v6.0.0. See https://github.com/optuna/optuna/releases/tag/v3.0.0. Use suggest_float(..., log=True) instead.\n",
      "  learning_rate = trial.suggest_loguniform(\"learning_rate\", 1e-4, 1e-1)  # 範囲を調整\n",
      "/tmp/ipykernel_1287346/2413154260.py:5: FutureWarning: suggest_loguniform has been deprecated in v3.0.0. This feature will be removed in v6.0.0. See https://github.com/optuna/optuna/releases/tag/v3.0.0. Use suggest_float(..., log=True) instead.\n",
      "  weight_decay = trial.suggest_loguniform(\"weight_decay\", 1e-5, 1e-1)   # 範囲を調整\n",
      "[I 2024-12-12 21:02:00,697] Trial 5 finished with value: 0.21039247703903016 and parameters: {'dropout1': 0.0, 'dropout2': 0.05, 'learning_rate': 0.00017926803521533898, 'weight_decay': 0.0006996950232623845}. Best is trial 1 with value: 0.26393155162954324.\n"
     ]
    },
    {
     "name": "stdout",
     "output_type": "stream",
     "text": [
      "Early stopping at epoch 78\n",
      "Final MCC: 0.2104\n"
     ]
    },
    {
     "name": "stderr",
     "output_type": "stream",
     "text": [
      "/tmp/ipykernel_1287346/2413154260.py:4: FutureWarning: suggest_loguniform has been deprecated in v3.0.0. This feature will be removed in v6.0.0. See https://github.com/optuna/optuna/releases/tag/v3.0.0. Use suggest_float(..., log=True) instead.\n",
      "  learning_rate = trial.suggest_loguniform(\"learning_rate\", 1e-4, 1e-1)  # 範囲を調整\n",
      "/tmp/ipykernel_1287346/2413154260.py:5: FutureWarning: suggest_loguniform has been deprecated in v3.0.0. This feature will be removed in v6.0.0. See https://github.com/optuna/optuna/releases/tag/v3.0.0. Use suggest_float(..., log=True) instead.\n",
      "  weight_decay = trial.suggest_loguniform(\"weight_decay\", 1e-5, 1e-1)   # 範囲を調整\n",
      "[I 2024-12-12 21:02:07,366] Trial 6 finished with value: 0.2960782006243549 and parameters: {'dropout1': 0.45, 'dropout2': 0.05, 'learning_rate': 0.0006804220122987877, 'weight_decay': 4.688645617043308e-05}. Best is trial 6 with value: 0.2960782006243549.\n",
      "/tmp/ipykernel_1287346/2413154260.py:4: FutureWarning: suggest_loguniform has been deprecated in v3.0.0. This feature will be removed in v6.0.0. See https://github.com/optuna/optuna/releases/tag/v3.0.0. Use suggest_float(..., log=True) instead.\n",
      "  learning_rate = trial.suggest_loguniform(\"learning_rate\", 1e-4, 1e-1)  # 範囲を調整\n",
      "/tmp/ipykernel_1287346/2413154260.py:5: FutureWarning: suggest_loguniform has been deprecated in v3.0.0. This feature will be removed in v6.0.0. See https://github.com/optuna/optuna/releases/tag/v3.0.0. Use suggest_float(..., log=True) instead.\n",
      "  weight_decay = trial.suggest_loguniform(\"weight_decay\", 1e-5, 1e-1)   # 範囲を調整\n",
      "[I 2024-12-12 21:02:07,511] Trial 7 pruned. \n"
     ]
    },
    {
     "name": "stdout",
     "output_type": "stream",
     "text": [
      "Early stopping at epoch 48\n",
      "Final MCC: 0.2961\n"
     ]
    },
    {
     "name": "stderr",
     "output_type": "stream",
     "text": [
      "[I 2024-12-12 21:02:07,653] Trial 8 pruned. \n",
      "[I 2024-12-12 21:02:07,802] Trial 9 pruned. \n",
      "[I 2024-12-12 21:02:07,973] Trial 10 pruned. \n",
      "[I 2024-12-12 21:02:12,640] Trial 11 finished with value: 0.2207176215537855 and parameters: {'dropout1': 0.4, 'dropout2': 0.15000000000000002, 'learning_rate': 0.0008479326723042569, 'weight_decay': 5.30084079636327e-05}. Best is trial 6 with value: 0.2960782006243549.\n",
      "/tmp/ipykernel_1287346/2413154260.py:4: FutureWarning: suggest_loguniform has been deprecated in v3.0.0. This feature will be removed in v6.0.0. See https://github.com/optuna/optuna/releases/tag/v3.0.0. Use suggest_float(..., log=True) instead.\n",
      "  learning_rate = trial.suggest_loguniform(\"learning_rate\", 1e-4, 1e-1)  # 範囲を調整\n",
      "/tmp/ipykernel_1287346/2413154260.py:5: FutureWarning: suggest_loguniform has been deprecated in v3.0.0. This feature will be removed in v6.0.0. See https://github.com/optuna/optuna/releases/tag/v3.0.0. Use suggest_float(..., log=True) instead.\n",
      "  weight_decay = trial.suggest_loguniform(\"weight_decay\", 1e-5, 1e-1)   # 範囲を調整\n",
      "[I 2024-12-12 21:02:12,815] Trial 12 pruned. \n"
     ]
    },
    {
     "name": "stdout",
     "output_type": "stream",
     "text": [
      "Early stopping at epoch 33\n",
      "Final MCC: 0.2207\n"
     ]
    },
    {
     "name": "stderr",
     "output_type": "stream",
     "text": [
      "[I 2024-12-12 21:02:12,985] Trial 13 pruned. \n",
      "[I 2024-12-12 21:02:13,160] Trial 14 pruned. \n",
      "[I 2024-12-12 21:02:13,340] Trial 15 pruned. \n",
      "[I 2024-12-12 21:02:13,517] Trial 16 pruned. \n",
      "[I 2024-12-12 21:02:13,675] Trial 17 pruned. \n",
      "[I 2024-12-12 21:02:27,461] Trial 18 finished with value: 0.30067471043708344 and parameters: {'dropout1': 0.35000000000000003, 'dropout2': 0.30000000000000004, 'learning_rate': 0.0003231468381727804, 'weight_decay': 0.0022185401764116186}. Best is trial 18 with value: 0.30067471043708344.\n",
      "/tmp/ipykernel_1287346/2413154260.py:4: FutureWarning: suggest_loguniform has been deprecated in v3.0.0. This feature will be removed in v6.0.0. See https://github.com/optuna/optuna/releases/tag/v3.0.0. Use suggest_float(..., log=True) instead.\n",
      "  learning_rate = trial.suggest_loguniform(\"learning_rate\", 1e-4, 1e-1)  # 範囲を調整\n",
      "/tmp/ipykernel_1287346/2413154260.py:5: FutureWarning: suggest_loguniform has been deprecated in v3.0.0. This feature will be removed in v6.0.0. See https://github.com/optuna/optuna/releases/tag/v3.0.0. Use suggest_float(..., log=True) instead.\n",
      "  weight_decay = trial.suggest_loguniform(\"weight_decay\", 1e-5, 1e-1)   # 範囲を調整\n",
      "[I 2024-12-12 21:02:27,638] Trial 19 pruned. \n"
     ]
    },
    {
     "name": "stdout",
     "output_type": "stream",
     "text": [
      "Final MCC: 0.3007\n"
     ]
    },
    {
     "name": "stderr",
     "output_type": "stream",
     "text": [
      "[I 2024-12-12 21:02:41,260] Trial 20 finished with value: 0.21151288413822708 and parameters: {'dropout1': 0.30000000000000004, 'dropout2': 0.30000000000000004, 'learning_rate': 0.0003218799088170816, 'weight_decay': 0.0135948784685178}. Best is trial 18 with value: 0.30067471043708344.\n"
     ]
    },
    {
     "name": "stdout",
     "output_type": "stream",
     "text": [
      "Final MCC: 0.2115\n"
     ]
    },
    {
     "name": "stderr",
     "output_type": "stream",
     "text": [
      "/tmp/ipykernel_1287346/2413154260.py:4: FutureWarning: suggest_loguniform has been deprecated in v3.0.0. This feature will be removed in v6.0.0. See https://github.com/optuna/optuna/releases/tag/v3.0.0. Use suggest_float(..., log=True) instead.\n",
      "  learning_rate = trial.suggest_loguniform(\"learning_rate\", 1e-4, 1e-1)  # 範囲を調整\n",
      "/tmp/ipykernel_1287346/2413154260.py:5: FutureWarning: suggest_loguniform has been deprecated in v3.0.0. This feature will be removed in v6.0.0. See https://github.com/optuna/optuna/releases/tag/v3.0.0. Use suggest_float(..., log=True) instead.\n",
      "  weight_decay = trial.suggest_loguniform(\"weight_decay\", 1e-5, 1e-1)   # 範囲を調整\n",
      "[I 2024-12-12 21:02:48,403] Trial 21 finished with value: 0.24785466280049473 and parameters: {'dropout1': 0.45, 'dropout2': 0.2, 'learning_rate': 0.0014516510881440391, 'weight_decay': 0.0011837323422062348}. Best is trial 18 with value: 0.30067471043708344.\n",
      "/tmp/ipykernel_1287346/2413154260.py:4: FutureWarning: suggest_loguniform has been deprecated in v3.0.0. This feature will be removed in v6.0.0. See https://github.com/optuna/optuna/releases/tag/v3.0.0. Use suggest_float(..., log=True) instead.\n",
      "  learning_rate = trial.suggest_loguniform(\"learning_rate\", 1e-4, 1e-1)  # 範囲を調整\n",
      "/tmp/ipykernel_1287346/2413154260.py:5: FutureWarning: suggest_loguniform has been deprecated in v3.0.0. This feature will be removed in v6.0.0. See https://github.com/optuna/optuna/releases/tag/v3.0.0. Use suggest_float(..., log=True) instead.\n",
      "  weight_decay = trial.suggest_loguniform(\"weight_decay\", 1e-5, 1e-1)   # 範囲を調整\n",
      "[I 2024-12-12 21:02:48,572] Trial 22 pruned. \n"
     ]
    },
    {
     "name": "stdout",
     "output_type": "stream",
     "text": [
      "Early stopping at epoch 51\n",
      "Final MCC: 0.2479\n"
     ]
    },
    {
     "name": "stderr",
     "output_type": "stream",
     "text": [
      "[I 2024-12-12 21:03:00,008] Trial 23 finished with value: 0.19805367011493666 and parameters: {'dropout1': 0.35000000000000003, 'dropout2': 0.30000000000000004, 'learning_rate': 0.000494164820436562, 'weight_decay': 3.610235253414593e-05}. Best is trial 18 with value: 0.30067471043708344.\n"
     ]
    },
    {
     "name": "stdout",
     "output_type": "stream",
     "text": [
      "Early stopping at epoch 82\n",
      "Final MCC: 0.1981\n"
     ]
    },
    {
     "name": "stderr",
     "output_type": "stream",
     "text": [
      "/tmp/ipykernel_1287346/2413154260.py:4: FutureWarning: suggest_loguniform has been deprecated in v3.0.0. This feature will be removed in v6.0.0. See https://github.com/optuna/optuna/releases/tag/v3.0.0. Use suggest_float(..., log=True) instead.\n",
      "  learning_rate = trial.suggest_loguniform(\"learning_rate\", 1e-4, 1e-1)  # 範囲を調整\n",
      "/tmp/ipykernel_1287346/2413154260.py:5: FutureWarning: suggest_loguniform has been deprecated in v3.0.0. This feature will be removed in v6.0.0. See https://github.com/optuna/optuna/releases/tag/v3.0.0. Use suggest_float(..., log=True) instead.\n",
      "  weight_decay = trial.suggest_loguniform(\"weight_decay\", 1e-5, 1e-1)   # 範囲を調整\n",
      "[I 2024-12-12 21:03:09,189] Trial 24 finished with value: 0.13015393292219313 and parameters: {'dropout1': 0.45, 'dropout2': 0.2, 'learning_rate': 0.0014547042579137984, 'weight_decay': 0.00013089042395572574}. Best is trial 18 with value: 0.30067471043708344.\n",
      "/tmp/ipykernel_1287346/2413154260.py:4: FutureWarning: suggest_loguniform has been deprecated in v3.0.0. This feature will be removed in v6.0.0. See https://github.com/optuna/optuna/releases/tag/v3.0.0. Use suggest_float(..., log=True) instead.\n",
      "  learning_rate = trial.suggest_loguniform(\"learning_rate\", 1e-4, 1e-1)  # 範囲を調整\n",
      "/tmp/ipykernel_1287346/2413154260.py:5: FutureWarning: suggest_loguniform has been deprecated in v3.0.0. This feature will be removed in v6.0.0. See https://github.com/optuna/optuna/releases/tag/v3.0.0. Use suggest_float(..., log=True) instead.\n",
      "  weight_decay = trial.suggest_loguniform(\"weight_decay\", 1e-5, 1e-1)   # 範囲を調整\n",
      "[I 2024-12-12 21:03:09,359] Trial 25 pruned. \n"
     ]
    },
    {
     "name": "stdout",
     "output_type": "stream",
     "text": [
      "Early stopping at epoch 67\n",
      "Final MCC: 0.1302\n"
     ]
    },
    {
     "name": "stderr",
     "output_type": "stream",
     "text": [
      "[I 2024-12-12 21:03:21,630] Trial 26 finished with value: 0.1248747052940004 and parameters: {'dropout1': 0.5, 'dropout2': 0.1, 'learning_rate': 0.0005599876466636624, 'weight_decay': 0.0005187069253864659}. Best is trial 18 with value: 0.30067471043708344.\n",
      "/tmp/ipykernel_1287346/2413154260.py:4: FutureWarning: suggest_loguniform has been deprecated in v3.0.0. This feature will be removed in v6.0.0. See https://github.com/optuna/optuna/releases/tag/v3.0.0. Use suggest_float(..., log=True) instead.\n",
      "  learning_rate = trial.suggest_loguniform(\"learning_rate\", 1e-4, 1e-1)  # 範囲を調整\n",
      "/tmp/ipykernel_1287346/2413154260.py:5: FutureWarning: suggest_loguniform has been deprecated in v3.0.0. This feature will be removed in v6.0.0. See https://github.com/optuna/optuna/releases/tag/v3.0.0. Use suggest_float(..., log=True) instead.\n",
      "  weight_decay = trial.suggest_loguniform(\"weight_decay\", 1e-5, 1e-1)   # 範囲を調整\n",
      "[I 2024-12-12 21:03:21,787] Trial 27 pruned. \n"
     ]
    },
    {
     "name": "stdout",
     "output_type": "stream",
     "text": [
      "Early stopping at epoch 92\n",
      "Final MCC: 0.1249\n"
     ]
    },
    {
     "name": "stderr",
     "output_type": "stream",
     "text": [
      "[I 2024-12-12 21:03:21,966] Trial 28 pruned. \n",
      "[I 2024-12-12 21:03:22,127] Trial 29 pruned. \n",
      "[I 2024-12-12 21:03:22,294] Trial 30 pruned. \n",
      "[I 2024-12-12 21:03:22,464] Trial 31 pruned. \n",
      "[I 2024-12-12 21:03:22,617] Trial 32 pruned. \n",
      "[I 2024-12-12 21:03:22,774] Trial 33 pruned. \n",
      "[I 2024-12-12 21:03:22,954] Trial 34 pruned. \n",
      "[I 2024-12-12 21:03:23,121] Trial 35 pruned. \n",
      "[I 2024-12-12 21:03:23,286] Trial 36 pruned. \n",
      "[I 2024-12-12 21:03:23,455] Trial 37 pruned. \n",
      "[I 2024-12-12 21:03:23,601] Trial 38 pruned. \n",
      "[I 2024-12-12 21:03:26,352] Trial 39 finished with value: 0.09767140275344749 and parameters: {'dropout1': 0.05, 'dropout2': 0.05, 'learning_rate': 0.003763312598274973, 'weight_decay': 0.003566871098741492}. Best is trial 18 with value: 0.30067471043708344.\n",
      "/tmp/ipykernel_1287346/2413154260.py:4: FutureWarning: suggest_loguniform has been deprecated in v3.0.0. This feature will be removed in v6.0.0. See https://github.com/optuna/optuna/releases/tag/v3.0.0. Use suggest_float(..., log=True) instead.\n",
      "  learning_rate = trial.suggest_loguniform(\"learning_rate\", 1e-4, 1e-1)  # 範囲を調整\n",
      "/tmp/ipykernel_1287346/2413154260.py:5: FutureWarning: suggest_loguniform has been deprecated in v3.0.0. This feature will be removed in v6.0.0. See https://github.com/optuna/optuna/releases/tag/v3.0.0. Use suggest_float(..., log=True) instead.\n",
      "  weight_decay = trial.suggest_loguniform(\"weight_decay\", 1e-5, 1e-1)   # 範囲を調整\n",
      "[I 2024-12-12 21:03:26,509] Trial 40 pruned. \n"
     ]
    },
    {
     "name": "stdout",
     "output_type": "stream",
     "text": [
      "Early stopping at epoch 20\n",
      "Final MCC: 0.0977\n"
     ]
    },
    {
     "name": "stderr",
     "output_type": "stream",
     "text": [
      "[I 2024-12-12 21:03:26,688] Trial 41 pruned. \n",
      "[I 2024-12-12 21:03:26,861] Trial 42 pruned. \n",
      "[I 2024-12-12 21:03:39,378] Trial 43 finished with value: 0.16469315538757745 and parameters: {'dropout1': 0.4, 'dropout2': 0.1, 'learning_rate': 0.00042436818988258307, 'weight_decay': 1.6123921196852643e-05}. Best is trial 18 with value: 0.30067471043708344.\n"
     ]
    },
    {
     "name": "stdout",
     "output_type": "stream",
     "text": [
      "Early stopping at epoch 93\n",
      "Final MCC: 0.1647\n"
     ]
    },
    {
     "name": "stderr",
     "output_type": "stream",
     "text": [
      "/tmp/ipykernel_1287346/2413154260.py:4: FutureWarning: suggest_loguniform has been deprecated in v3.0.0. This feature will be removed in v6.0.0. See https://github.com/optuna/optuna/releases/tag/v3.0.0. Use suggest_float(..., log=True) instead.\n",
      "  learning_rate = trial.suggest_loguniform(\"learning_rate\", 1e-4, 1e-1)  # 範囲を調整\n",
      "/tmp/ipykernel_1287346/2413154260.py:5: FutureWarning: suggest_loguniform has been deprecated in v3.0.0. This feature will be removed in v6.0.0. See https://github.com/optuna/optuna/releases/tag/v3.0.0. Use suggest_float(..., log=True) instead.\n",
      "  weight_decay = trial.suggest_loguniform(\"weight_decay\", 1e-5, 1e-1)   # 範囲を調整\n",
      "[I 2024-12-12 21:03:53,068] Trial 44 finished with value: 0.33498928856029825 and parameters: {'dropout1': 0.45, 'dropout2': 0.15000000000000002, 'learning_rate': 0.0001382136432164609, 'weight_decay': 4.6247960461665685e-05}. Best is trial 44 with value: 0.33498928856029825.\n",
      "/tmp/ipykernel_1287346/2413154260.py:4: FutureWarning: suggest_loguniform has been deprecated in v3.0.0. This feature will be removed in v6.0.0. See https://github.com/optuna/optuna/releases/tag/v3.0.0. Use suggest_float(..., log=True) instead.\n",
      "  learning_rate = trial.suggest_loguniform(\"learning_rate\", 1e-4, 1e-1)  # 範囲を調整\n",
      "/tmp/ipykernel_1287346/2413154260.py:5: FutureWarning: suggest_loguniform has been deprecated in v3.0.0. This feature will be removed in v6.0.0. See https://github.com/optuna/optuna/releases/tag/v3.0.0. Use suggest_float(..., log=True) instead.\n",
      "  weight_decay = trial.suggest_loguniform(\"weight_decay\", 1e-5, 1e-1)   # 範囲を調整\n",
      "[I 2024-12-12 21:03:53,232] Trial 45 pruned. \n"
     ]
    },
    {
     "name": "stdout",
     "output_type": "stream",
     "text": [
      "Final MCC: 0.3350\n"
     ]
    },
    {
     "name": "stderr",
     "output_type": "stream",
     "text": [
      "[I 2024-12-12 21:03:53,402] Trial 46 pruned. \n",
      "[I 2024-12-12 21:03:53,582] Trial 47 pruned. \n",
      "[I 2024-12-12 21:04:06,935] Trial 48 finished with value: 0.05084401709026159 and parameters: {'dropout1': 0.45, 'dropout2': 0.25, 'learning_rate': 0.0001002769466369391, 'weight_decay': 9.069786170544348e-05}. Best is trial 44 with value: 0.33498928856029825.\n",
      "/tmp/ipykernel_1287346/2413154260.py:4: FutureWarning: suggest_loguniform has been deprecated in v3.0.0. This feature will be removed in v6.0.0. See https://github.com/optuna/optuna/releases/tag/v3.0.0. Use suggest_float(..., log=True) instead.\n",
      "  learning_rate = trial.suggest_loguniform(\"learning_rate\", 1e-4, 1e-1)  # 範囲を調整\n",
      "/tmp/ipykernel_1287346/2413154260.py:5: FutureWarning: suggest_loguniform has been deprecated in v3.0.0. This feature will be removed in v6.0.0. See https://github.com/optuna/optuna/releases/tag/v3.0.0. Use suggest_float(..., log=True) instead.\n",
      "  weight_decay = trial.suggest_loguniform(\"weight_decay\", 1e-5, 1e-1)   # 範囲を調整\n",
      "[I 2024-12-12 21:04:07,107] Trial 49 pruned. \n"
     ]
    },
    {
     "name": "stdout",
     "output_type": "stream",
     "text": [
      "Final MCC: 0.0508\n"
     ]
    },
    {
     "name": "stderr",
     "output_type": "stream",
     "text": [
      "[I 2024-12-12 21:04:07,268] Trial 50 pruned. \n",
      "[I 2024-12-12 21:04:07,448] Trial 51 pruned. \n",
      "[I 2024-12-12 21:04:07,599] Trial 52 pruned. \n",
      "[I 2024-12-12 21:04:07,764] Trial 53 pruned. \n",
      "[I 2024-12-12 21:04:07,931] Trial 54 pruned. \n",
      "[I 2024-12-12 21:04:08,115] Trial 55 pruned. \n",
      "[I 2024-12-12 21:04:08,291] Trial 56 pruned. \n",
      "[I 2024-12-12 21:04:08,461] Trial 57 pruned. \n",
      "[I 2024-12-12 21:04:21,632] Trial 58 finished with value: 0.08022147833741111 and parameters: {'dropout1': 0.30000000000000004, 'dropout2': 0.15000000000000002, 'learning_rate': 0.00042628874801915463, 'weight_decay': 1.1743599688160311e-05}. Best is trial 44 with value: 0.33498928856029825.\n",
      "/tmp/ipykernel_1287346/2413154260.py:4: FutureWarning: suggest_loguniform has been deprecated in v3.0.0. This feature will be removed in v6.0.0. See https://github.com/optuna/optuna/releases/tag/v3.0.0. Use suggest_float(..., log=True) instead.\n",
      "  learning_rate = trial.suggest_loguniform(\"learning_rate\", 1e-4, 1e-1)  # 範囲を調整\n",
      "/tmp/ipykernel_1287346/2413154260.py:5: FutureWarning: suggest_loguniform has been deprecated in v3.0.0. This feature will be removed in v6.0.0. See https://github.com/optuna/optuna/releases/tag/v3.0.0. Use suggest_float(..., log=True) instead.\n",
      "  weight_decay = trial.suggest_loguniform(\"weight_decay\", 1e-5, 1e-1)   # 範囲を調整\n",
      "[I 2024-12-12 21:04:21,810] Trial 59 pruned. \n"
     ]
    },
    {
     "name": "stdout",
     "output_type": "stream",
     "text": [
      "Early stopping at epoch 95\n",
      "Final MCC: 0.0802\n"
     ]
    },
    {
     "name": "stderr",
     "output_type": "stream",
     "text": [
      "[I 2024-12-12 21:04:21,982] Trial 60 pruned. \n",
      "[I 2024-12-12 21:04:22,167] Trial 61 pruned. \n",
      "[I 2024-12-12 21:04:22,334] Trial 62 pruned. \n",
      "[I 2024-12-12 21:04:22,478] Trial 63 pruned. \n",
      "[I 2024-12-12 21:04:22,655] Trial 64 pruned. \n",
      "[I 2024-12-12 21:04:22,837] Trial 65 pruned. \n",
      "[I 2024-12-12 21:04:23,021] Trial 66 pruned. \n",
      "[I 2024-12-12 21:04:23,191] Trial 67 pruned. \n",
      "[I 2024-12-12 21:04:23,387] Trial 68 pruned. \n",
      "[I 2024-12-12 21:04:36,777] Trial 69 finished with value: 0.2065672005770008 and parameters: {'dropout1': 0.5, 'dropout2': 0.1, 'learning_rate': 0.000294347890557283, 'weight_decay': 0.0014821995667629168}. Best is trial 44 with value: 0.33498928856029825.\n",
      "/tmp/ipykernel_1287346/2413154260.py:4: FutureWarning: suggest_loguniform has been deprecated in v3.0.0. This feature will be removed in v6.0.0. See https://github.com/optuna/optuna/releases/tag/v3.0.0. Use suggest_float(..., log=True) instead.\n",
      "  learning_rate = trial.suggest_loguniform(\"learning_rate\", 1e-4, 1e-1)  # 範囲を調整\n",
      "/tmp/ipykernel_1287346/2413154260.py:5: FutureWarning: suggest_loguniform has been deprecated in v3.0.0. This feature will be removed in v6.0.0. See https://github.com/optuna/optuna/releases/tag/v3.0.0. Use suggest_float(..., log=True) instead.\n",
      "  weight_decay = trial.suggest_loguniform(\"weight_decay\", 1e-5, 1e-1)   # 範囲を調整\n",
      "[I 2024-12-12 21:04:36,945] Trial 70 pruned. \n"
     ]
    },
    {
     "name": "stdout",
     "output_type": "stream",
     "text": [
      "Final MCC: 0.2066\n"
     ]
    },
    {
     "name": "stderr",
     "output_type": "stream",
     "text": [
      "[I 2024-12-12 21:04:37,120] Trial 71 pruned. \n",
      "[I 2024-12-12 21:04:37,304] Trial 72 pruned. \n",
      "[I 2024-12-12 21:04:50,587] Trial 73 finished with value: 0.2687201635824701 and parameters: {'dropout1': 0.1, 'dropout2': 0.15000000000000002, 'learning_rate': 0.00038264364284059163, 'weight_decay': 2.9840400224346613e-05}. Best is trial 44 with value: 0.33498928856029825.\n",
      "/tmp/ipykernel_1287346/2413154260.py:4: FutureWarning: suggest_loguniform has been deprecated in v3.0.0. This feature will be removed in v6.0.0. See https://github.com/optuna/optuna/releases/tag/v3.0.0. Use suggest_float(..., log=True) instead.\n",
      "  learning_rate = trial.suggest_loguniform(\"learning_rate\", 1e-4, 1e-1)  # 範囲を調整\n",
      "/tmp/ipykernel_1287346/2413154260.py:5: FutureWarning: suggest_loguniform has been deprecated in v3.0.0. This feature will be removed in v6.0.0. See https://github.com/optuna/optuna/releases/tag/v3.0.0. Use suggest_float(..., log=True) instead.\n",
      "  weight_decay = trial.suggest_loguniform(\"weight_decay\", 1e-5, 1e-1)   # 範囲を調整\n",
      "[I 2024-12-12 21:04:50,727] Trial 74 pruned. \n"
     ]
    },
    {
     "name": "stdout",
     "output_type": "stream",
     "text": [
      "Final MCC: 0.2687\n"
     ]
    },
    {
     "name": "stderr",
     "output_type": "stream",
     "text": [
      "[I 2024-12-12 21:04:50,889] Trial 75 pruned. \n",
      "[I 2024-12-12 21:04:51,048] Trial 76 pruned. \n",
      "[I 2024-12-12 21:04:51,213] Trial 77 pruned. \n",
      "[I 2024-12-12 21:04:51,391] Trial 78 pruned. \n",
      "[I 2024-12-12 21:04:51,543] Trial 79 pruned. \n",
      "[I 2024-12-12 21:04:57,375] Trial 80 finished with value: 0.30841110709753766 and parameters: {'dropout1': 0.5, 'dropout2': 0.25, 'learning_rate': 0.0010035110465672654, 'weight_decay': 1.0349616115416644e-05}. Best is trial 44 with value: 0.33498928856029825.\n",
      "/tmp/ipykernel_1287346/2413154260.py:4: FutureWarning: suggest_loguniform has been deprecated in v3.0.0. This feature will be removed in v6.0.0. See https://github.com/optuna/optuna/releases/tag/v3.0.0. Use suggest_float(..., log=True) instead.\n",
      "  learning_rate = trial.suggest_loguniform(\"learning_rate\", 1e-4, 1e-1)  # 範囲を調整\n",
      "/tmp/ipykernel_1287346/2413154260.py:5: FutureWarning: suggest_loguniform has been deprecated in v3.0.0. This feature will be removed in v6.0.0. See https://github.com/optuna/optuna/releases/tag/v3.0.0. Use suggest_float(..., log=True) instead.\n",
      "  weight_decay = trial.suggest_loguniform(\"weight_decay\", 1e-5, 1e-1)   # 範囲を調整\n",
      "[I 2024-12-12 21:04:57,537] Trial 81 pruned. \n"
     ]
    },
    {
     "name": "stdout",
     "output_type": "stream",
     "text": [
      "Early stopping at epoch 47\n",
      "Final MCC: 0.3084\n"
     ]
    },
    {
     "name": "stderr",
     "output_type": "stream",
     "text": [
      "[I 2024-12-12 21:04:57,697] Trial 82 pruned. \n",
      "[I 2024-12-12 21:04:57,857] Trial 83 pruned. \n",
      "[I 2024-12-12 21:04:58,033] Trial 84 pruned. \n",
      "[I 2024-12-12 21:04:58,203] Trial 85 pruned. \n",
      "[I 2024-12-12 21:04:58,419] Trial 86 pruned. \n",
      "[I 2024-12-12 21:04:58,615] Trial 87 pruned. \n",
      "[I 2024-12-12 21:04:58,827] Trial 88 pruned. \n",
      "[I 2024-12-12 21:04:59,042] Trial 89 pruned. \n",
      "[I 2024-12-12 21:05:12,628] Trial 90 finished with value: 0.17049591384224672 and parameters: {'dropout1': 0.4, 'dropout2': 0.1, 'learning_rate': 0.00032530413480342277, 'weight_decay': 5.804233018144159e-05}. Best is trial 44 with value: 0.33498928856029825.\n",
      "/tmp/ipykernel_1287346/2413154260.py:4: FutureWarning: suggest_loguniform has been deprecated in v3.0.0. This feature will be removed in v6.0.0. See https://github.com/optuna/optuna/releases/tag/v3.0.0. Use suggest_float(..., log=True) instead.\n",
      "  learning_rate = trial.suggest_loguniform(\"learning_rate\", 1e-4, 1e-1)  # 範囲を調整\n",
      "/tmp/ipykernel_1287346/2413154260.py:5: FutureWarning: suggest_loguniform has been deprecated in v3.0.0. This feature will be removed in v6.0.0. See https://github.com/optuna/optuna/releases/tag/v3.0.0. Use suggest_float(..., log=True) instead.\n",
      "  weight_decay = trial.suggest_loguniform(\"weight_decay\", 1e-5, 1e-1)   # 範囲を調整\n",
      "[I 2024-12-12 21:05:12,797] Trial 91 pruned. \n"
     ]
    },
    {
     "name": "stdout",
     "output_type": "stream",
     "text": [
      "Final MCC: 0.1705\n"
     ]
    },
    {
     "name": "stderr",
     "output_type": "stream",
     "text": [
      "[I 2024-12-12 21:05:12,944] Trial 92 pruned. \n",
      "[I 2024-12-12 21:05:13,071] Trial 93 pruned. \n",
      "[I 2024-12-12 21:05:13,253] Trial 94 pruned. \n",
      "[I 2024-12-12 21:05:13,410] Trial 95 pruned. \n",
      "[I 2024-12-12 21:05:13,577] Trial 96 pruned. \n",
      "[I 2024-12-12 21:05:13,724] Trial 97 pruned. \n",
      "[I 2024-12-12 21:05:13,890] Trial 98 pruned. \n",
      "[I 2024-12-12 21:05:14,046] Trial 99 pruned. \n"
     ]
    },
    {
     "name": "stdout",
     "output_type": "stream",
     "text": [
      "Best Parameters:  {'dropout1': 0.45, 'dropout2': 0.15000000000000002, 'learning_rate': 0.0001382136432164609, 'weight_decay': 4.6247960461665685e-05}\n",
      "Best Validation F1:  0.33498928856029825\n"
     ]
    }
   ],
   "source": [
    "device_id = 0  # 使用するGPUのID（0または1）\n",
    "torch.cuda.set_device(device_id)\n",
    "device = torch.device(f\"cuda:{device_id}\" if torch.cuda.is_available() else \"cpu\")\n",
    "\n",
    "# Optunaの設定\n",
    "study = optuna.create_study(direction=\"maximize\")  \n",
    "study.optimize(objective, n_trials=100)\n",
    "\n",
    "# 結果表示\n",
    "print(\"Best Parameters: \", study.best_params)\n",
    "print(\"Best Validation F1: \", study.best_value)"
   ]
  },
  {
   "cell_type": "code",
   "execution_count": 48,
   "metadata": {},
   "outputs": [
    {
     "name": "stdout",
     "output_type": "stream",
     "text": [
      "Best parameters saved to 'best_params.json'\n"
     ]
    }
   ],
   "source": [
    "best_params = study.best_params\n",
    "\n",
    "# JSON形式で保存\n",
    "with open(\"optim_param/optim_DNN_4_params.json\", \"w\") as f:\n",
    "    json.dump(best_params, f)\n",
    "\n",
    "print(\"Best parameters saved to 'best_params.json'\")"
   ]
  },
  {
   "cell_type": "code",
   "execution_count": 55,
   "metadata": {},
   "outputs": [
    {
     "name": "stdout",
     "output_type": "stream",
     "text": [
      "Epoch [1/150], Loss: 0.6896\n",
      "Epoch [1/150], Train Loss: 0.6896, Val Loss: 0.7070\n",
      "Epoch [2/150], Loss: 0.6829\n",
      "Epoch [2/150], Train Loss: 0.6829, Val Loss: 0.6848\n",
      "Epoch [3/150], Loss: 0.6826\n",
      "Epoch [3/150], Train Loss: 0.6826, Val Loss: 0.6758\n",
      "Epoch [4/150], Loss: 0.6726\n",
      "Epoch [4/150], Train Loss: 0.6726, Val Loss: 0.6710\n",
      "Epoch [5/150], Loss: 0.6705\n",
      "Epoch [5/150], Train Loss: 0.6705, Val Loss: 0.6664\n",
      "Epoch [6/150], Loss: 0.6652\n",
      "Epoch [6/150], Train Loss: 0.6652, Val Loss: 0.6633\n",
      "Epoch [7/150], Loss: 0.6578\n",
      "Epoch [7/150], Train Loss: 0.6578, Val Loss: 0.6591\n",
      "Epoch [8/150], Loss: 0.6580\n",
      "Epoch [8/150], Train Loss: 0.6580, Val Loss: 0.6524\n",
      "Epoch [9/150], Loss: 0.6528\n",
      "Epoch [9/150], Train Loss: 0.6528, Val Loss: 0.6508\n",
      "Epoch [10/150], Loss: 0.6484\n",
      "Epoch [10/150], Train Loss: 0.6484, Val Loss: 0.6448\n",
      "Epoch [11/150], Loss: 0.6458\n",
      "Epoch [11/150], Train Loss: 0.6458, Val Loss: 0.6407\n",
      "Epoch [12/150], Loss: 0.6423\n",
      "Epoch [12/150], Train Loss: 0.6423, Val Loss: 0.6409\n",
      "Epoch [13/150], Loss: 0.6411\n",
      "Epoch [13/150], Train Loss: 0.6411, Val Loss: 0.6350\n",
      "Epoch [14/150], Loss: 0.6363\n",
      "Epoch [14/150], Train Loss: 0.6363, Val Loss: 0.6331\n",
      "Epoch [15/150], Loss: 0.6329\n",
      "Epoch [15/150], Train Loss: 0.6329, Val Loss: 0.6300\n",
      "Epoch [16/150], Loss: 0.6312\n",
      "Epoch [16/150], Train Loss: 0.6312, Val Loss: 0.6254\n",
      "Epoch [17/150], Loss: 0.6292\n",
      "Epoch [17/150], Train Loss: 0.6292, Val Loss: 0.6231\n",
      "Epoch [18/150], Loss: 0.6272\n",
      "Epoch [18/150], Train Loss: 0.6272, Val Loss: 0.6213\n",
      "Epoch [19/150], Loss: 0.6215\n",
      "Epoch [19/150], Train Loss: 0.6215, Val Loss: 0.6187\n",
      "Epoch [20/150], Loss: 0.6237\n",
      "Epoch [20/150], Train Loss: 0.6237, Val Loss: 0.6143\n",
      "Epoch [21/150], Loss: 0.6187\n",
      "Epoch [21/150], Train Loss: 0.6187, Val Loss: 0.6132\n",
      "Epoch [22/150], Loss: 0.6167\n",
      "Epoch [22/150], Train Loss: 0.6167, Val Loss: 0.6120\n",
      "Epoch [23/150], Loss: 0.6174\n",
      "Epoch [23/150], Train Loss: 0.6174, Val Loss: 0.6101\n",
      "Epoch [24/150], Loss: 0.6095\n",
      "Epoch [24/150], Train Loss: 0.6095, Val Loss: 0.6084\n",
      "Epoch [25/150], Loss: 0.6102\n",
      "Epoch [25/150], Train Loss: 0.6102, Val Loss: 0.6080\n",
      "Epoch [26/150], Loss: 0.6111\n",
      "Epoch [26/150], Train Loss: 0.6111, Val Loss: 0.6049\n",
      "Epoch [27/150], Loss: 0.6093\n",
      "Epoch [27/150], Train Loss: 0.6093, Val Loss: 0.6037\n",
      "Epoch [28/150], Loss: 0.6062\n",
      "Epoch [28/150], Train Loss: 0.6062, Val Loss: 0.6017\n",
      "Epoch [29/150], Loss: 0.6052\n",
      "Epoch [29/150], Train Loss: 0.6052, Val Loss: 0.6004\n",
      "Epoch [30/150], Loss: 0.6051\n",
      "Epoch [30/150], Train Loss: 0.6051, Val Loss: 0.5991\n",
      "Epoch [31/150], Loss: 0.6038\n",
      "Epoch [31/150], Train Loss: 0.6038, Val Loss: 0.5977\n",
      "Epoch [32/150], Loss: 0.6029\n",
      "Epoch [32/150], Train Loss: 0.6029, Val Loss: 0.5981\n",
      "Epoch [33/150], Loss: 0.6018\n",
      "Epoch [33/150], Train Loss: 0.6018, Val Loss: 0.5959\n",
      "Epoch [34/150], Loss: 0.6001\n",
      "Epoch [34/150], Train Loss: 0.6001, Val Loss: 0.5964\n",
      "Epoch [35/150], Loss: 0.5993\n",
      "Epoch [35/150], Train Loss: 0.5993, Val Loss: 0.5946\n",
      "Epoch [36/150], Loss: 0.5946\n",
      "Epoch [36/150], Train Loss: 0.5946, Val Loss: 0.5944\n",
      "Epoch [37/150], Loss: 0.5982\n",
      "Epoch [37/150], Train Loss: 0.5982, Val Loss: 0.5930\n",
      "Epoch [38/150], Loss: 0.5951\n",
      "Epoch [38/150], Train Loss: 0.5951, Val Loss: 0.5931\n",
      "Epoch [39/150], Loss: 0.5947\n",
      "Epoch [39/150], Train Loss: 0.5947, Val Loss: 0.5921\n",
      "Epoch [40/150], Loss: 0.5926\n",
      "Epoch [40/150], Train Loss: 0.5926, Val Loss: 0.5905\n",
      "Epoch [41/150], Loss: 0.5910\n",
      "Epoch [41/150], Train Loss: 0.5910, Val Loss: 0.5896\n",
      "Epoch [42/150], Loss: 0.5913\n",
      "Epoch [42/150], Train Loss: 0.5913, Val Loss: 0.5891\n",
      "Epoch [43/150], Loss: 0.5923\n",
      "Epoch [43/150], Train Loss: 0.5923, Val Loss: 0.5890\n",
      "Epoch [44/150], Loss: 0.5913\n",
      "Epoch [44/150], Train Loss: 0.5913, Val Loss: 0.5881\n",
      "Epoch [45/150], Loss: 0.5924\n",
      "Epoch [45/150], Train Loss: 0.5924, Val Loss: 0.5870\n",
      "Epoch [46/150], Loss: 0.5900\n",
      "Epoch [46/150], Train Loss: 0.5900, Val Loss: 0.5876\n",
      "Epoch [47/150], Loss: 0.5895\n",
      "Epoch [47/150], Train Loss: 0.5895, Val Loss: 0.5863\n",
      "Epoch [48/150], Loss: 0.5893\n",
      "Epoch [48/150], Train Loss: 0.5893, Val Loss: 0.5861\n",
      "Epoch [49/150], Loss: 0.5895\n",
      "Epoch [49/150], Train Loss: 0.5895, Val Loss: 0.5868\n",
      "Epoch [50/150], Loss: 0.5888\n",
      "Epoch [50/150], Train Loss: 0.5888, Val Loss: 0.5851\n",
      "Epoch [51/150], Loss: 0.5861\n",
      "Epoch [51/150], Train Loss: 0.5861, Val Loss: 0.5845\n",
      "Epoch [52/150], Loss: 0.5861\n",
      "Epoch [52/150], Train Loss: 0.5861, Val Loss: 0.5839\n",
      "Epoch [53/150], Loss: 0.5840\n",
      "Epoch [53/150], Train Loss: 0.5840, Val Loss: 0.5841\n",
      "Epoch [54/150], Loss: 0.5889\n",
      "Epoch [54/150], Train Loss: 0.5889, Val Loss: 0.5835\n",
      "Epoch [55/150], Loss: 0.5849\n",
      "Epoch [55/150], Train Loss: 0.5849, Val Loss: 0.5827\n",
      "Epoch [56/150], Loss: 0.5840\n",
      "Epoch [56/150], Train Loss: 0.5840, Val Loss: 0.5829\n",
      "Epoch [57/150], Loss: 0.5853\n",
      "Epoch [57/150], Train Loss: 0.5853, Val Loss: 0.5822\n",
      "Epoch [58/150], Loss: 0.5801\n",
      "Epoch [58/150], Train Loss: 0.5801, Val Loss: 0.5825\n",
      "Epoch [59/150], Loss: 0.5815\n",
      "Epoch [59/150], Train Loss: 0.5815, Val Loss: 0.5816\n",
      "Epoch [60/150], Loss: 0.5767\n",
      "Epoch [60/150], Train Loss: 0.5767, Val Loss: 0.5823\n",
      "Epoch [61/150], Loss: 0.5790\n",
      "Epoch [61/150], Train Loss: 0.5790, Val Loss: 0.5811\n",
      "Epoch [62/150], Loss: 0.5813\n",
      "Epoch [62/150], Train Loss: 0.5813, Val Loss: 0.5807\n",
      "Epoch [63/150], Loss: 0.5788\n",
      "Epoch [63/150], Train Loss: 0.5788, Val Loss: 0.5805\n",
      "Epoch [64/150], Loss: 0.5801\n",
      "Epoch [64/150], Train Loss: 0.5801, Val Loss: 0.5790\n",
      "Epoch [65/150], Loss: 0.5791\n",
      "Epoch [65/150], Train Loss: 0.5791, Val Loss: 0.5795\n",
      "Epoch [66/150], Loss: 0.5800\n",
      "Epoch [66/150], Train Loss: 0.5800, Val Loss: 0.5794\n",
      "Epoch [67/150], Loss: 0.5834\n",
      "Epoch [67/150], Train Loss: 0.5834, Val Loss: 0.5780\n",
      "Epoch [68/150], Loss: 0.5765\n",
      "Epoch [68/150], Train Loss: 0.5765, Val Loss: 0.5781\n",
      "Epoch [69/150], Loss: 0.5806\n",
      "Epoch [69/150], Train Loss: 0.5806, Val Loss: 0.5779\n",
      "Epoch [70/150], Loss: 0.5767\n",
      "Epoch [70/150], Train Loss: 0.5767, Val Loss: 0.5778\n",
      "Epoch [71/150], Loss: 0.5816\n",
      "Epoch [71/150], Train Loss: 0.5816, Val Loss: 0.5771\n",
      "Epoch [72/150], Loss: 0.5771\n",
      "Epoch [72/150], Train Loss: 0.5771, Val Loss: 0.5771\n",
      "Epoch [73/150], Loss: 0.5777\n",
      "Epoch [73/150], Train Loss: 0.5777, Val Loss: 0.5766\n",
      "Epoch [74/150], Loss: 0.5765\n",
      "Epoch [74/150], Train Loss: 0.5765, Val Loss: 0.5763\n",
      "Epoch [75/150], Loss: 0.5746\n",
      "Epoch [75/150], Train Loss: 0.5746, Val Loss: 0.5766\n",
      "Epoch [76/150], Loss: 0.5811\n",
      "Epoch [76/150], Train Loss: 0.5811, Val Loss: 0.5758\n",
      "Epoch [77/150], Loss: 0.5764\n",
      "Epoch [77/150], Train Loss: 0.5764, Val Loss: 0.5760\n",
      "Epoch [78/150], Loss: 0.5760\n",
      "Epoch [78/150], Train Loss: 0.5760, Val Loss: 0.5760\n",
      "Epoch [79/150], Loss: 0.5753\n",
      "Epoch [79/150], Train Loss: 0.5753, Val Loss: 0.5755\n",
      "Epoch [80/150], Loss: 0.5785\n",
      "Epoch [80/150], Train Loss: 0.5785, Val Loss: 0.5753\n",
      "Epoch [81/150], Loss: 0.5793\n",
      "Epoch [81/150], Train Loss: 0.5793, Val Loss: 0.5753\n",
      "Epoch [82/150], Loss: 0.5740\n",
      "Epoch [82/150], Train Loss: 0.5740, Val Loss: 0.5751\n",
      "Epoch [83/150], Loss: 0.5746\n",
      "Epoch [83/150], Train Loss: 0.5746, Val Loss: 0.5750\n",
      "Epoch [84/150], Loss: 0.5782\n",
      "Epoch [84/150], Train Loss: 0.5782, Val Loss: 0.5746\n",
      "Epoch [85/150], Loss: 0.5729\n",
      "Epoch [85/150], Train Loss: 0.5729, Val Loss: 0.5747\n",
      "Epoch [86/150], Loss: 0.5761\n",
      "Epoch [86/150], Train Loss: 0.5761, Val Loss: 0.5741\n",
      "Epoch [87/150], Loss: 0.5792\n",
      "Epoch [87/150], Train Loss: 0.5792, Val Loss: 0.5738\n",
      "Epoch [88/150], Loss: 0.5747\n",
      "Epoch [88/150], Train Loss: 0.5747, Val Loss: 0.5736\n",
      "Epoch [89/150], Loss: 0.5705\n",
      "Epoch [89/150], Train Loss: 0.5705, Val Loss: 0.5734\n",
      "Epoch [90/150], Loss: 0.5763\n",
      "Epoch [90/150], Train Loss: 0.5763, Val Loss: 0.5734\n",
      "Epoch [91/150], Loss: 0.5728\n",
      "Epoch [91/150], Train Loss: 0.5728, Val Loss: 0.5731\n",
      "Epoch [92/150], Loss: 0.5718\n",
      "Epoch [92/150], Train Loss: 0.5718, Val Loss: 0.5726\n",
      "Epoch [93/150], Loss: 0.5768\n",
      "Epoch [93/150], Train Loss: 0.5768, Val Loss: 0.5728\n",
      "Epoch [94/150], Loss: 0.5755\n",
      "Epoch [94/150], Train Loss: 0.5755, Val Loss: 0.5724\n",
      "Epoch [95/150], Loss: 0.5694\n",
      "Epoch [95/150], Train Loss: 0.5694, Val Loss: 0.5725\n",
      "Epoch [96/150], Loss: 0.5717\n",
      "Epoch [96/150], Train Loss: 0.5717, Val Loss: 0.5722\n",
      "Epoch [97/150], Loss: 0.5731\n",
      "Epoch [97/150], Train Loss: 0.5731, Val Loss: 0.5725\n",
      "Epoch [98/150], Loss: 0.5692\n",
      "Epoch [98/150], Train Loss: 0.5692, Val Loss: 0.5721\n",
      "Epoch [99/150], Loss: 0.5717\n",
      "Epoch [99/150], Train Loss: 0.5717, Val Loss: 0.5714\n",
      "Epoch [100/150], Loss: 0.5724\n",
      "Epoch [100/150], Train Loss: 0.5724, Val Loss: 0.5713\n",
      "Epoch [101/150], Loss: 0.5665\n",
      "Epoch [101/150], Train Loss: 0.5665, Val Loss: 0.5712\n",
      "Epoch [102/150], Loss: 0.5685\n",
      "Epoch [102/150], Train Loss: 0.5685, Val Loss: 0.5709\n",
      "Epoch [103/150], Loss: 0.5726\n",
      "Epoch [103/150], Train Loss: 0.5726, Val Loss: 0.5709\n",
      "Epoch [104/150], Loss: 0.5731\n",
      "Epoch [104/150], Train Loss: 0.5731, Val Loss: 0.5705\n",
      "Epoch [105/150], Loss: 0.5707\n",
      "Epoch [105/150], Train Loss: 0.5707, Val Loss: 0.5699\n",
      "Epoch [106/150], Loss: 0.5703\n",
      "Epoch [106/150], Train Loss: 0.5703, Val Loss: 0.5694\n",
      "Epoch [107/150], Loss: 0.5665\n",
      "Epoch [107/150], Train Loss: 0.5665, Val Loss: 0.5697\n",
      "Epoch [108/150], Loss: 0.5755\n",
      "Epoch [108/150], Train Loss: 0.5755, Val Loss: 0.5695\n",
      "Epoch [109/150], Loss: 0.5682\n",
      "Epoch [109/150], Train Loss: 0.5682, Val Loss: 0.5697\n",
      "Epoch [110/150], Loss: 0.5675\n",
      "Epoch [110/150], Train Loss: 0.5675, Val Loss: 0.5699\n",
      "Epoch [111/150], Loss: 0.5716\n",
      "Epoch [111/150], Train Loss: 0.5716, Val Loss: 0.5700\n",
      "Epoch [112/150], Loss: 0.5711\n",
      "Epoch [112/150], Train Loss: 0.5711, Val Loss: 0.5693\n",
      "Epoch [113/150], Loss: 0.5687\n",
      "Epoch [113/150], Train Loss: 0.5687, Val Loss: 0.5693\n",
      "Epoch [114/150], Loss: 0.5678\n",
      "Epoch [114/150], Train Loss: 0.5678, Val Loss: 0.5694\n",
      "Epoch [115/150], Loss: 0.5665\n",
      "Epoch [115/150], Train Loss: 0.5665, Val Loss: 0.5686\n",
      "Epoch [116/150], Loss: 0.5670\n",
      "Epoch [116/150], Train Loss: 0.5670, Val Loss: 0.5686\n",
      "Epoch [117/150], Loss: 0.5712\n",
      "Epoch [117/150], Train Loss: 0.5712, Val Loss: 0.5685\n",
      "Epoch [118/150], Loss: 0.5665\n",
      "Epoch [118/150], Train Loss: 0.5665, Val Loss: 0.5681\n",
      "Epoch [119/150], Loss: 0.5671\n",
      "Epoch [119/150], Train Loss: 0.5671, Val Loss: 0.5682\n",
      "Epoch [120/150], Loss: 0.5673\n",
      "Epoch [120/150], Train Loss: 0.5673, Val Loss: 0.5678\n",
      "Epoch [121/150], Loss: 0.5689\n",
      "Epoch [121/150], Train Loss: 0.5689, Val Loss: 0.5681\n",
      "Epoch [122/150], Loss: 0.5695\n",
      "Epoch [122/150], Train Loss: 0.5695, Val Loss: 0.5679\n",
      "Epoch [123/150], Loss: 0.5687\n",
      "Epoch [123/150], Train Loss: 0.5687, Val Loss: 0.5680\n",
      "Epoch [124/150], Loss: 0.5677\n",
      "Epoch [124/150], Train Loss: 0.5677, Val Loss: 0.5677\n",
      "Epoch [125/150], Loss: 0.5724\n",
      "Epoch [125/150], Train Loss: 0.5724, Val Loss: 0.5679\n",
      "Epoch [126/150], Loss: 0.5675\n",
      "Epoch [126/150], Train Loss: 0.5675, Val Loss: 0.5669\n",
      "Epoch [127/150], Loss: 0.5681\n",
      "Epoch [127/150], Train Loss: 0.5681, Val Loss: 0.5672\n",
      "Epoch [128/150], Loss: 0.5701\n",
      "Epoch [128/150], Train Loss: 0.5701, Val Loss: 0.5674\n",
      "Epoch [129/150], Loss: 0.5665\n",
      "Epoch [129/150], Train Loss: 0.5665, Val Loss: 0.5667\n",
      "Epoch [130/150], Loss: 0.5688\n",
      "Epoch [130/150], Train Loss: 0.5688, Val Loss: 0.5668\n",
      "Epoch [131/150], Loss: 0.5705\n",
      "Epoch [131/150], Train Loss: 0.5705, Val Loss: 0.5664\n",
      "Epoch [132/150], Loss: 0.5650\n",
      "Epoch [132/150], Train Loss: 0.5650, Val Loss: 0.5666\n",
      "Epoch [133/150], Loss: 0.5669\n",
      "Epoch [133/150], Train Loss: 0.5669, Val Loss: 0.5660\n",
      "Epoch [134/150], Loss: 0.5686\n",
      "Epoch [134/150], Train Loss: 0.5686, Val Loss: 0.5660\n",
      "Epoch [135/150], Loss: 0.5626\n",
      "Epoch [135/150], Train Loss: 0.5626, Val Loss: 0.5662\n",
      "Epoch [136/150], Loss: 0.5672\n",
      "Epoch [136/150], Train Loss: 0.5672, Val Loss: 0.5660\n",
      "Epoch [137/150], Loss: 0.5676\n",
      "Epoch [137/150], Train Loss: 0.5676, Val Loss: 0.5660\n",
      "Epoch [138/150], Loss: 0.5642\n",
      "Epoch [138/150], Train Loss: 0.5642, Val Loss: 0.5660\n",
      "Epoch [139/150], Loss: 0.5669\n",
      "Epoch [139/150], Train Loss: 0.5669, Val Loss: 0.5661\n",
      "Epoch [140/150], Loss: 0.5719\n",
      "Epoch [140/150], Train Loss: 0.5719, Val Loss: 0.5662\n",
      "Epoch [141/150], Loss: 0.5657\n",
      "Epoch [141/150], Train Loss: 0.5657, Val Loss: 0.5663\n",
      "Epoch [142/150], Loss: 0.5645\n",
      "Epoch [142/150], Train Loss: 0.5645, Val Loss: 0.5664\n",
      "Epoch [143/150], Loss: 0.5707\n",
      "Epoch [143/150], Train Loss: 0.5707, Val Loss: 0.5661\n",
      "Epoch [144/150], Loss: 0.5640\n",
      "Epoch [144/150], Train Loss: 0.5640, Val Loss: 0.5664\n",
      "Epoch [145/150], Loss: 0.5641\n",
      "Epoch [145/150], Train Loss: 0.5641, Val Loss: 0.5658\n",
      "Epoch [146/150], Loss: 0.5657\n",
      "Epoch [146/150], Train Loss: 0.5657, Val Loss: 0.5657\n",
      "Epoch [147/150], Loss: 0.5645\n",
      "Epoch [147/150], Train Loss: 0.5645, Val Loss: 0.5659\n",
      "Epoch [148/150], Loss: 0.5631\n",
      "Epoch [148/150], Train Loss: 0.5631, Val Loss: 0.5657\n",
      "Epoch [149/150], Loss: 0.5637\n",
      "Epoch [149/150], Train Loss: 0.5637, Val Loss: 0.5658\n",
      "Epoch [150/150], Loss: 0.5617\n",
      "Epoch [150/150], Train Loss: 0.5617, Val Loss: 0.5654\n"
     ]
    },
    {
     "data": {
      "image/png": "[encoded data removed]",
      "text/plain": [
       "<Figure size 1000x600 with 1 Axes>"
      ]
     },
     "metadata": {},
     "output_type": "display_data"
    }
   ],
   "source": [
    "best_params=study.best_params\n",
    "model = DNN_4(input_dim=X_train_tensor.shape[1],\n",
    "              dropout1=best_params[\"dropout1\"],\n",
    "              dropout2=best_params[\"dropout2\"]).to(device)\n",
    "\n",
    "\n",
    "# 最適化と訓練を実行\n",
    "optimizer = optim.Adam(model.parameters(), lr=best_params[\"learning_rate\"],weight_decay=best_params[\"weight_decay\"])\n",
    "criterion = nn.BCELoss()\n",
    "\n",
    "num_epochs=150\n",
    "train_losses = []\n",
    "val_losses = []\n",
    "\n",
    "model.train()\n",
    "for epoch in range(num_epochs):\n",
    "    epoch_train_loss = 0\n",
    "    epoch_val_loss = 0\n",
    "\n",
    "    for X_batch, y_batch in train_loader:\n",
    "        X_batch, y_batch = X_batch.to(device), y_batch.to(device)\n",
    "        optimizer.zero_grad()\n",
    "        outputs = model(X_batch).squeeze()\n",
    "        loss = criterion(outputs, y_batch.squeeze())\n",
    "        loss.backward()\n",
    "        optimizer.step()\n",
    "        epoch_train_loss += loss.item()\n",
    "    avg_train_loss = epoch_train_loss / len(train_loader)\n",
    "    train_losses.append(avg_train_loss)\n",
    "    print(f'Epoch [{epoch+1}/{num_epochs}], Loss: {avg_train_loss:.4f}')\n",
    "\n",
    "    if val_loader is not None:\n",
    "        model.eval()  \n",
    "        with torch.no_grad():\n",
    "            for X_val, y_val in val_loader:\n",
    "                X_val, y_val = X_val.to(device), y_val.to(device)\n",
    "                val_outputs = model(X_val).squeeze()\n",
    "                val_loss = criterion(val_outputs, y_val.squeeze())\n",
    "                epoch_val_loss += val_loss.item()\n",
    "\n",
    "        avg_val_loss = epoch_val_loss / len(val_loader)\n",
    "        val_losses.append(avg_val_loss)\n",
    "        model.train()  \n",
    "\n",
    "    if val_loader is not None:\n",
    "        print(f\"Epoch [{epoch+1}/{num_epochs}], Train Loss: {avg_train_loss:.4f}, Val Loss: {avg_val_loss:.4f}\")\n",
    "    else:\n",
    "        print(f\"Epoch [{epoch+1}/{num_epochs}], Train Loss: {avg_train_loss:.4f}\")\n",
    "\n",
    "plt.figure(figsize=(10, 6))\n",
    "plt.plot(range(1, num_epochs + 1), train_losses, label='Train Loss')\n",
    "if val_losses:\n",
    "    plt.plot(range(1, num_epochs + 1), val_losses, label='Validation Loss')\n",
    "plt.xlabel('Epoch')\n",
    "plt.ylabel('Loss')\n",
    "plt.title('Learning Curve for DNN4')\n",
    "plt.legend()\n",
    "plt.grid()\n",
    "plt.show()"
   ]
  },
  {
   "cell_type": "code",
   "execution_count": 56,
   "metadata": {},
   "outputs": [
    {
     "name": "stdout",
     "output_type": "stream",
     "text": [
      "Accuracy: 57.86%\n",
      "Precision: 0.4756\n",
      "Recall: 0.8909\n",
      "F1 Score: 0.6201\n",
      "Matthews Correlation Coefficient: 0.2971\n",
      "Specificity: 0.3822\n"
     ]
    },
    {
     "data": {
      "image/png": "[encoded data removed]",
      "text/plain": [
       "<Figure size 640x480 with 1 Axes>"
      ]
     },
     "metadata": {},
     "output_type": "display_data"
    },
    {
     "data": {
      "image/png": "[encoded data removed]",
      "text/plain": [
       "<Figure size 640x480 with 1 Axes>"
      ]
     },
     "metadata": {},
     "output_type": "display_data"
    },
    {
     "data": {
      "image/png": "[encoded data removed]",
      "text/plain": [
       "<Figure size 640x480 with 1 Axes>"
      ]
     },
     "metadata": {},
     "output_type": "display_data"
    }
   ],
   "source": [
    "model.eval()\n",
    "with torch.no_grad():\n",
    "    X_test_tensor = X_test_tensor.to(device)\n",
    "    y_test_tensor = y_test_tensor.to(device)\n",
    "\n",
    "    # 予測と確率\n",
    "    test_outputs = model(X_test_tensor).squeeze()\n",
    "    predictions = (test_outputs >=0.5).float()\n",
    "    y_true = y_test_tensor.cpu().numpy()\n",
    "    y_pred = predictions.cpu().numpy()\n",
    "    y_prob = test_outputs.cpu().numpy()\n",
    "\n",
    "# 評価指標\n",
    "    accuracy = accuracy_score(y_true, y_pred)\n",
    "    precision = precision_score(y_true, y_pred)\n",
    "    recall = recall_score(y_true, y_pred)\n",
    "    f1 = f1_score(y_true, y_pred)\n",
    "    mcc = matthews_corrcoef(y_true, y_pred)\n",
    "    specificity = recall_score(y_true, y_pred, pos_label=0)  \n",
    "    print(f'Accuracy: {accuracy * 100:.2f}%')\n",
    "    print(f'Precision: {precision:.4f}')\n",
    "    print(f'Recall: {recall:.4f}')\n",
    "    print(f'F1 Score: {f1:.4f}')\n",
    "    print(f'Matthews Correlation Coefficient: {mcc:.4f}')\n",
    "    print(f'Specificity: {specificity:.4f}')\n",
    "\n",
    "    # 混同行列（割合表示）\n",
    "    cm = confusion_matrix(y_true, y_pred, normalize='true')\n",
    "    sns.heatmap(cm, annot=True, fmt=\".2%\", cmap=\"Blues\", cbar=False)\n",
    "    plt.xlabel(\"Predicted\")\n",
    "    plt.ylabel(\"Actual\")\n",
    "    plt.title(f\"Confusion Matrix (Normalized)\")\n",
    "    plt.show()\n",
    "\n",
    "    # ROC曲線とAUC\n",
    "    fpr, tpr, thresholds = roc_curve(y_true, y_prob)\n",
    "    roc_auc = auc(fpr, tpr)\n",
    "    plt.plot(fpr, tpr, label=f'ROC curve (AUC = {roc_auc:.2f})')\n",
    "    plt.plot([0, 1], [0, 1], 'k--') \n",
    "    plt.xlabel('False Positive Rate')\n",
    "    plt.ylabel('True Positive Rate')\n",
    "    plt.title(f'ROC Curve - Model ')\n",
    "    plt.legend(loc=\"lower right\")\n",
    "    plt.show()\n",
    "\n",
    "    # Precision-Recall曲線\n",
    "    precision_curve, recall_curve, pr_thresholds = precision_recall_curve(y_true, y_prob)\n",
    "    pr_auc = auc(recall_curve, precision_curve)\n",
    "    plt.plot(recall_curve, precision_curve, label=f'PR curve (AUC = {pr_auc:.2f})')\n",
    "    plt.xlabel('Recall')\n",
    "    plt.ylabel('Precision')\n",
    "    plt.title(f'Precision-Recall Curve ')\n",
    "    plt.legend(loc=\"lower left\")\n",
    "    plt.show()    "
   ]
  },
  {
   "cell_type": "code",
   "execution_count": 51,
   "metadata": {},
   "outputs": [],
   "source": [
    "# モデルと構造を保存\n",
    "torch.save(model.state_dict(), 'model_params/DNN_4.pth')\n",
    "\n"
   ]
  },
  {
   "cell_type": "code",
   "execution_count": 52,
   "metadata": {},
   "outputs": [
    {
     "name": "stdout",
     "output_type": "stream",
     "text": [
      "----------------------------------------------------------------\n",
      "        Layer (type)               Output Shape         Param #\n",
      "================================================================\n",
      "            Linear-1                   [-1, 32]             960\n",
      "       BatchNorm1d-2                   [-1, 32]              64\n",
      "           Dropout-3                   [-1, 32]               0\n",
      "            Linear-4                   [-1, 16]             528\n",
      "       BatchNorm1d-5                   [-1, 16]              32\n",
      "            Linear-6                    [-1, 8]             136\n",
      "       BatchNorm1d-7                    [-1, 8]              16\n",
      "            Linear-8                    [-1, 4]              36\n",
      "       BatchNorm1d-9                    [-1, 4]               8\n",
      "          Dropout-10                    [-1, 4]               0\n",
      "           Linear-11                    [-1, 1]               5\n",
      "================================================================\n",
      "Total params: 1,785\n",
      "Trainable params: 1,785\n",
      "Non-trainable params: 0\n",
      "----------------------------------------------------------------\n",
      "Input size (MB): 0.00\n",
      "Forward/backward pass size (MB): 0.00\n",
      "Params size (MB): 0.01\n",
      "Estimated Total Size (MB): 0.01\n",
      "----------------------------------------------------------------\n"
     ]
    }
   ],
   "source": [
    "from torchsummary import summary\n",
    "summary(model, input_size=(X_train_tensor.shape[1],))"
   ]
  },
  {
   "cell_type": "code",
   "execution_count": null,
   "metadata": {},
   "outputs": [],
   "source": []
  }
 ],
 "metadata": {
  "kernelspec": {
   "display_name": "torch",
   "language": "python",
   "name": "python3"
  },
  "language_info": {
   "codemirror_mode": {
    "name": "ipython",
    "version": 3
   },
   "file_extension": ".py",
   "mimetype": "text/x-python",
   "name": "python",
   "nbconvert_exporter": "python",
   "pygments_lexer": "ipython3",
   "version": "3.12.7"
  }
 },
 "nbformat": 4,
 "nbformat_minor": 2
}
