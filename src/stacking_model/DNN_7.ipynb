{
 "cells": [
  {
   "cell_type": "code",
   "execution_count": 1,
   "metadata": {},
   "outputs": [],
   "source": [
    "import numpy as np\n",
    "import pandas as pd\n",
    "import matplotlib.pyplot as plt\n",
    "import seaborn as sns\n",
    "import json\n",
    "\n",
    "import torch\n",
    "import torch.nn as nn\n",
    "import torch.optim as optim\n",
    "\n",
    "import optuna\n",
    "\n",
    "from sklearn.model_selection import train_test_split\n",
    "from sklearn.metrics import confusion_matrix,accuracy_score, precision_score, recall_score, f1_score, confusion_matrix, roc_curve, auc,matthews_corrcoef, precision_recall_curve,roc_auc_score\n",
    "\n"
   ]
  },
  {
   "cell_type": "markdown",
   "metadata": {},
   "source": [
    "データ読み取り"
   ]
  },
  {
   "cell_type": "code",
   "execution_count": 2,
   "metadata": {},
   "outputs": [],
   "source": [
    "df=pd.read_csv('learning_data.csv',index_col=0)\n",
    "\n",
    "X=df.drop(columns='dengue',axis=1).values\n",
    "y=df['dengue'].values\n",
    "\n",
    "X_train, X_test, y_train, y_test = train_test_split(X, y, test_size=0.2,random_state=0)\n",
    "X_train, X_val, y_train, y_val = train_test_split(X_train, y_train, test_size=0.1,random_state=0)\n",
    "\n",
    "#torchテンソルに変換\n",
    "X_train_tensor = torch.tensor(X_train, dtype=torch.float32)\n",
    "y_train_tensor = torch.tensor(y_train, dtype=torch.float32)\n",
    "X_test_tensor = torch.tensor(X_test, dtype=torch.float32)\n",
    "y_test_tensor = torch.tensor(y_test, dtype=torch.float32)\n",
    "X_val_tensor = torch.tensor(X_val, dtype=torch.float32)\n",
    "y_val_tensor = torch.tensor(y_val, dtype=torch.float32)\n"
   ]
  },
  {
   "cell_type": "code",
   "execution_count": 3,
   "metadata": {},
   "outputs": [],
   "source": [
    "class DNN_7(nn.Module):\n",
    "    def __init__(self, input_dim,dropout1,dropout2):\n",
    "        super(DNN_7, self).__init__()\n",
    "        self.layer1 = nn.Linear(input_dim,32)\n",
    "        self.layer2 = nn.Linear(32,16)\n",
    "        self.layer3 = nn.Linear(16, 8)\n",
    "        self.layer4 = nn.Linear(8, 4)\n",
    "        self.output_layer = nn.Linear(4, 1)\n",
    "\n",
    "        self.bn1=nn.BatchNorm1d(32)\n",
    "        self.bn2=nn.BatchNorm1d(16)\n",
    "        self.bn3=nn.BatchNorm1d(8)\n",
    "        self.bn4=nn.BatchNorm1d(4)\n",
    "\n",
    "        self.dropout1 = nn.Dropout(dropout1)\n",
    "        self.dropout2 = nn.Dropout(dropout2)\n",
    "        \n",
    "    def forward(self, x):\n",
    "        x = torch.relu(self.bn1(self.layer1(x)))\n",
    "        \n",
    "        x = torch.relu(self.bn2(self.layer2(x)))\n",
    "        x = self.dropout1(x)\n",
    "\n",
    "        x = torch.relu(self.bn3(self.layer3(x)))\n",
    "\n",
    "        x = torch.relu(self.bn4(self.layer4(x)))\n",
    "        x = self.dropout2(x)\n",
    "\n",
    "        x = torch.sigmoid(self.output_layer(x)) \n",
    "        return x\n",
    "    "
   ]
  },
  {
   "cell_type": "markdown",
   "metadata": {},
   "source": [
    "学習データセットの作成"
   ]
  },
  {
   "cell_type": "code",
   "execution_count": 4,
   "metadata": {},
   "outputs": [],
   "source": [
    "train_dataset = torch.utils.data.TensorDataset(X_train_tensor, y_train_tensor)\n",
    "train_loader = torch.utils.data.DataLoader(dataset=train_dataset, batch_size=128, shuffle=True)\n",
    "\n",
    "val_dataset = torch.utils.data.TensorDataset(X_val_tensor, y_val_tensor)\n",
    "val_loader = torch.utils.data.DataLoader(dataset=val_dataset, batch_size=128, shuffle=False)"
   ]
  },
  {
   "cell_type": "code",
   "execution_count": 5,
   "metadata": {},
   "outputs": [],
   "source": [
    "def objective(trial):\n",
    "    dropout1 = trial.suggest_float(\"dropout1\", 0, 0.5, step=0.05)\n",
    "    dropout2 = trial.suggest_float(\"dropout2\", 0, 0.5, step=0.05)\n",
    "    learning_rate = trial.suggest_loguniform(\"learning_rate\", 1e-4, 1e-1)  # 範囲を調整\n",
    "    weight_decay = trial.suggest_loguniform(\"weight_decay\", 1e-5, 1e-1)   # 範囲を調整\n",
    "\n",
    "    # モデル定義\n",
    "    model = DNN_7(\n",
    "        input_dim=X_train_tensor.shape[1],\n",
    "        dropout1=dropout1,\n",
    "        dropout2=dropout2\n",
    "    ).to(device)\n",
    "\n",
    "    criterion = nn.BCELoss()\n",
    "    optimizer = torch.optim.Adam(model.parameters(), lr=learning_rate, weight_decay=weight_decay)\n",
    "\n",
    "    # Early Stoppingの設定\n",
    "    patience = 10\n",
    "    best_val_loss = float('inf')\n",
    "    patience_counter = 0\n",
    "\n",
    "    # 訓練ループ\n",
    "    num_epochs = 100\n",
    "    for epoch in range(num_epochs):\n",
    "        model.train()\n",
    "        for X_batch, y_batch in train_loader:\n",
    "            X_batch, y_batch = X_batch.to(device), y_batch.to(device)\n",
    "            optimizer.zero_grad()\n",
    "            outputs = model(X_batch).squeeze()\n",
    "            loss = criterion(outputs, y_batch.squeeze())\n",
    "            loss.backward()\n",
    "            optimizer.step()\n",
    "\n",
    "        # バリデーション評価\n",
    "        model.eval()\n",
    "        val_loss = 0\n",
    "        val_true, val_pred = [], []\n",
    "        with torch.no_grad():\n",
    "            for X_val, y_val in val_loader:\n",
    "                X_val, y_val = X_val.to(device), y_val.to(device)\n",
    "                val_outputs = model(X_val).squeeze()\n",
    "                val_loss += criterion(val_outputs, y_val.squeeze()).item()\n",
    "                predictions = (val_outputs >=0.5).float()\n",
    "                val_true.extend(y_val.cpu().numpy())\n",
    "                val_pred.extend(predictions.cpu().numpy())\n",
    "\n",
    "        val_loss /= len(val_loader)\n",
    "\n",
    "        # Early Stoppingの判定\n",
    "        if val_loss < best_val_loss:\n",
    "            best_val_loss = val_loss\n",
    "            patience_counter = 0\n",
    "        else:\n",
    "            patience_counter += 1\n",
    "\n",
    "        if patience_counter >= patience:\n",
    "            print(f\"Early stopping at epoch {epoch}\")\n",
    "            break\n",
    "\n",
    "        # Optunaへのログ\n",
    "        trial.report(val_loss, epoch)\n",
    "        if trial.should_prune():\n",
    "            raise optuna.exceptions.TrialPruned()\n",
    "\n",
    "    # 評価指標の計算\n",
    "    mcc = matthews_corrcoef(val_true, val_pred)\n",
    "    print(f\"Final MCC: {mcc:.4f}\")\n",
    "\n",
    "    return mcc  # mccを返す\n"
   ]
  },
  {
   "cell_type": "code",
   "execution_count": 6,
   "metadata": {},
   "outputs": [
    {
     "name": "stderr",
     "output_type": "stream",
     "text": [
      "[I 2024-12-18 13:40:10,313] A new study created in memory with name: no-name-de5ae753-0835-4c45-a5f2-cefaf5ce6817\n"
     ]
    },
    {
     "name": "stderr",
     "output_type": "stream",
     "text": [
      "/tmp/ipykernel_41908/2804199339.py:4: FutureWarning: suggest_loguniform has been deprecated in v3.0.0. This feature will be removed in v6.0.0. See https://github.com/optuna/optuna/releases/tag/v3.0.0. Use suggest_float(..., log=True) instead.\n",
      "  learning_rate = trial.suggest_loguniform(\"learning_rate\", 1e-4, 1e-1)  # 範囲を調整\n",
      "/tmp/ipykernel_41908/2804199339.py:5: FutureWarning: suggest_loguniform has been deprecated in v3.0.0. This feature will be removed in v6.0.0. See https://github.com/optuna/optuna/releases/tag/v3.0.0. Use suggest_float(..., log=True) instead.\n",
      "  weight_decay = trial.suggest_loguniform(\"weight_decay\", 1e-5, 1e-1)   # 範囲を調整\n",
      "[I 2024-12-18 13:40:19,227] Trial 0 finished with value: 0.17911912988040762 and parameters: {'dropout1': 0.05, 'dropout2': 0.35000000000000003, 'learning_rate': 0.0004998023072006626, 'weight_decay': 0.010977234032929816}. Best is trial 0 with value: 0.17911912988040762.\n"
     ]
    },
    {
     "name": "stdout",
     "output_type": "stream",
     "text": [
      "Early stopping at epoch 58\n",
      "Final MCC: 0.1791\n"
     ]
    },
    {
     "name": "stderr",
     "output_type": "stream",
     "text": [
      "/tmp/ipykernel_41908/2804199339.py:4: FutureWarning: suggest_loguniform has been deprecated in v3.0.0. This feature will be removed in v6.0.0. See https://github.com/optuna/optuna/releases/tag/v3.0.0. Use suggest_float(..., log=True) instead.\n",
      "  learning_rate = trial.suggest_loguniform(\"learning_rate\", 1e-4, 1e-1)  # 範囲を調整\n",
      "/tmp/ipykernel_41908/2804199339.py:5: FutureWarning: suggest_loguniform has been deprecated in v3.0.0. This feature will be removed in v6.0.0. See https://github.com/optuna/optuna/releases/tag/v3.0.0. Use suggest_float(..., log=True) instead.\n",
      "  weight_decay = trial.suggest_loguniform(\"weight_decay\", 1e-5, 1e-1)   # 範囲を調整\n",
      "[I 2024-12-18 13:40:28,337] Trial 1 finished with value: 0.08467450519895195 and parameters: {'dropout1': 0.05, 'dropout2': 0.1, 'learning_rate': 0.00012166865974856412, 'weight_decay': 3.77990541875072e-05}. Best is trial 0 with value: 0.17911912988040762.\n"
     ]
    },
    {
     "name": "stdout",
     "output_type": "stream",
     "text": [
      "Early stopping at epoch 69\n",
      "Final MCC: 0.0847\n"
     ]
    },
    {
     "name": "stderr",
     "output_type": "stream",
     "text": [
      "/tmp/ipykernel_41908/2804199339.py:4: FutureWarning: suggest_loguniform has been deprecated in v3.0.0. This feature will be removed in v6.0.0. See https://github.com/optuna/optuna/releases/tag/v3.0.0. Use suggest_float(..., log=True) instead.\n",
      "  learning_rate = trial.suggest_loguniform(\"learning_rate\", 1e-4, 1e-1)  # 範囲を調整\n",
      "/tmp/ipykernel_41908/2804199339.py:5: FutureWarning: suggest_loguniform has been deprecated in v3.0.0. This feature will be removed in v6.0.0. See https://github.com/optuna/optuna/releases/tag/v3.0.0. Use suggest_float(..., log=True) instead.\n",
      "  weight_decay = trial.suggest_loguniform(\"weight_decay\", 1e-5, 1e-1)   # 範囲を調整\n",
      "[I 2024-12-18 13:40:31,668] Trial 2 finished with value: 0.0 and parameters: {'dropout1': 0.35000000000000003, 'dropout2': 0.15000000000000002, 'learning_rate': 0.018909247161353084, 'weight_decay': 0.0017885820468518825}. Best is trial 0 with value: 0.17911912988040762.\n"
     ]
    },
    {
     "name": "stdout",
     "output_type": "stream",
     "text": [
      "Early stopping at epoch 25\n",
      "Final MCC: 0.0000\n"
     ]
    },
    {
     "name": "stderr",
     "output_type": "stream",
     "text": [
      "/tmp/ipykernel_41908/2804199339.py:4: FutureWarning: suggest_loguniform has been deprecated in v3.0.0. This feature will be removed in v6.0.0. See https://github.com/optuna/optuna/releases/tag/v3.0.0. Use suggest_float(..., log=True) instead.\n",
      "  learning_rate = trial.suggest_loguniform(\"learning_rate\", 1e-4, 1e-1)  # 範囲を調整\n",
      "/tmp/ipykernel_41908/2804199339.py:5: FutureWarning: suggest_loguniform has been deprecated in v3.0.0. This feature will be removed in v6.0.0. See https://github.com/optuna/optuna/releases/tag/v3.0.0. Use suggest_float(..., log=True) instead.\n",
      "  weight_decay = trial.suggest_loguniform(\"weight_decay\", 1e-5, 1e-1)   # 範囲を調整\n",
      "[I 2024-12-18 13:40:36,945] Trial 3 finished with value: 0.10286443488479152 and parameters: {'dropout1': 0.05, 'dropout2': 0.30000000000000004, 'learning_rate': 0.00044753166584407447, 'weight_decay': 0.0001299201687671525}. Best is trial 0 with value: 0.17911912988040762.\n"
     ]
    },
    {
     "name": "stdout",
     "output_type": "stream",
     "text": [
      "Early stopping at epoch 42\n",
      "Final MCC: 0.1029\n"
     ]
    },
    {
     "name": "stderr",
     "output_type": "stream",
     "text": [
      "/tmp/ipykernel_41908/2804199339.py:4: FutureWarning: suggest_loguniform has been deprecated in v3.0.0. This feature will be removed in v6.0.0. See https://github.com/optuna/optuna/releases/tag/v3.0.0. Use suggest_float(..., log=True) instead.\n",
      "  learning_rate = trial.suggest_loguniform(\"learning_rate\", 1e-4, 1e-1)  # 範囲を調整\n",
      "/tmp/ipykernel_41908/2804199339.py:5: FutureWarning: suggest_loguniform has been deprecated in v3.0.0. This feature will be removed in v6.0.0. See https://github.com/optuna/optuna/releases/tag/v3.0.0. Use suggest_float(..., log=True) instead.\n",
      "  weight_decay = trial.suggest_loguniform(\"weight_decay\", 1e-5, 1e-1)   # 範囲を調整\n",
      "[I 2024-12-18 13:40:41,062] Trial 4 finished with value: 0.24668886377333107 and parameters: {'dropout1': 0.15000000000000002, 'dropout2': 0.25, 'learning_rate': 0.0013407536444163368, 'weight_decay': 2.7243834790406567e-05}. Best is trial 4 with value: 0.24668886377333107.\n",
      "/tmp/ipykernel_41908/2804199339.py:4: FutureWarning: suggest_loguniform has been deprecated in v3.0.0. This feature will be removed in v6.0.0. See https://github.com/optuna/optuna/releases/tag/v3.0.0. Use suggest_float(..., log=True) instead.\n",
      "  learning_rate = trial.suggest_loguniform(\"learning_rate\", 1e-4, 1e-1)  # 範囲を調整\n",
      "/tmp/ipykernel_41908/2804199339.py:5: FutureWarning: suggest_loguniform has been deprecated in v3.0.0. This feature will be removed in v6.0.0. See https://github.com/optuna/optuna/releases/tag/v3.0.0. Use suggest_float(..., log=True) instead.\n",
      "  weight_decay = trial.suggest_loguniform(\"weight_decay\", 1e-5, 1e-1)   # 範囲を調整\n",
      "[I 2024-12-18 13:40:41,191] Trial 5 pruned. \n"
     ]
    },
    {
     "name": "stdout",
     "output_type": "stream",
     "text": [
      "Early stopping at epoch 30\n",
      "Final MCC: 0.2467\n"
     ]
    },
    {
     "name": "stderr",
     "output_type": "stream",
     "text": [
      "[I 2024-12-18 13:40:41,336] Trial 6 pruned. \n",
      "[I 2024-12-18 13:40:41,498] Trial 7 pruned. \n",
      "[I 2024-12-18 13:40:41,639] Trial 8 pruned. \n",
      "[I 2024-12-18 13:40:41,776] Trial 9 pruned. \n",
      "[I 2024-12-18 13:40:41,925] Trial 10 pruned. \n",
      "[I 2024-12-18 13:40:42,083] Trial 11 pruned. \n",
      "[I 2024-12-18 13:40:42,249] Trial 12 pruned. \n",
      "[I 2024-12-18 13:40:55,120] Trial 13 finished with value: 0.2359336615190247 and parameters: {'dropout1': 0.0, 'dropout2': 0.4, 'learning_rate': 0.00010602017578164849, 'weight_decay': 0.045169495719233704}. Best is trial 4 with value: 0.24668886377333107.\n"
     ]
    },
    {
     "name": "stdout",
     "output_type": "stream",
     "text": [
      "Final MCC: 0.2359\n"
     ]
    },
    {
     "name": "stderr",
     "output_type": "stream",
     "text": [
      "/tmp/ipykernel_41908/2804199339.py:4: FutureWarning: suggest_loguniform has been deprecated in v3.0.0. This feature will be removed in v6.0.0. See https://github.com/optuna/optuna/releases/tag/v3.0.0. Use suggest_float(..., log=True) instead.\n",
      "  learning_rate = trial.suggest_loguniform(\"learning_rate\", 1e-4, 1e-1)  # 範囲を調整\n",
      "/tmp/ipykernel_41908/2804199339.py:5: FutureWarning: suggest_loguniform has been deprecated in v3.0.0. This feature will be removed in v6.0.0. See https://github.com/optuna/optuna/releases/tag/v3.0.0. Use suggest_float(..., log=True) instead.\n",
      "  weight_decay = trial.suggest_loguniform(\"weight_decay\", 1e-5, 1e-1)   # 範囲を調整\n",
      "[I 2024-12-18 13:41:07,722] Trial 14 finished with value: 0.3143000946489379 and parameters: {'dropout1': 0.4, 'dropout2': 0.5, 'learning_rate': 0.00011129207599932848, 'weight_decay': 0.09859505764834975}. Best is trial 14 with value: 0.3143000946489379.\n",
      "/tmp/ipykernel_41908/2804199339.py:4: FutureWarning: suggest_loguniform has been deprecated in v3.0.0. This feature will be removed in v6.0.0. See https://github.com/optuna/optuna/releases/tag/v3.0.0. Use suggest_float(..., log=True) instead.\n",
      "  learning_rate = trial.suggest_loguniform(\"learning_rate\", 1e-4, 1e-1)  # 範囲を調整\n",
      "/tmp/ipykernel_41908/2804199339.py:5: FutureWarning: suggest_loguniform has been deprecated in v3.0.0. This feature will be removed in v6.0.0. See https://github.com/optuna/optuna/releases/tag/v3.0.0. Use suggest_float(..., log=True) instead.\n",
      "  weight_decay = trial.suggest_loguniform(\"weight_decay\", 1e-5, 1e-1)   # 範囲を調整\n",
      "[I 2024-12-18 13:41:07,866] Trial 15 pruned. \n"
     ]
    },
    {
     "name": "stdout",
     "output_type": "stream",
     "text": [
      "Final MCC: 0.3143\n"
     ]
    },
    {
     "name": "stderr",
     "output_type": "stream",
     "text": [
      "[I 2024-12-18 13:41:08,035] Trial 16 pruned. \n",
      "[I 2024-12-18 13:41:18,897] Trial 17 finished with value: 0.11229042229326915 and parameters: {'dropout1': 0.30000000000000004, 'dropout2': 0.45, 'learning_rate': 0.00024398971581418983, 'weight_decay': 0.0035402608044766853}. Best is trial 14 with value: 0.3143000946489379.\n",
      "/tmp/ipykernel_41908/2804199339.py:4: FutureWarning: suggest_loguniform has been deprecated in v3.0.0. This feature will be removed in v6.0.0. See https://github.com/optuna/optuna/releases/tag/v3.0.0. Use suggest_float(..., log=True) instead.\n",
      "  learning_rate = trial.suggest_loguniform(\"learning_rate\", 1e-4, 1e-1)  # 範囲を調整\n",
      "/tmp/ipykernel_41908/2804199339.py:5: FutureWarning: suggest_loguniform has been deprecated in v3.0.0. This feature will be removed in v6.0.0. See https://github.com/optuna/optuna/releases/tag/v3.0.0. Use suggest_float(..., log=True) instead.\n",
      "  weight_decay = trial.suggest_loguniform(\"weight_decay\", 1e-5, 1e-1)   # 範囲を調整\n",
      "[I 2024-12-18 13:41:19,066] Trial 18 pruned. \n"
     ]
    },
    {
     "name": "stdout",
     "output_type": "stream",
     "text": [
      "Early stopping at epoch 83\n",
      "Final MCC: 0.1123\n"
     ]
    },
    {
     "name": "stderr",
     "output_type": "stream",
     "text": [
      "[I 2024-12-18 13:41:31,396] Trial 19 finished with value: 0.23763319825314866 and parameters: {'dropout1': 0.25, 'dropout2': 0.2, 'learning_rate': 0.00020912176367090114, 'weight_decay': 4.837284295308193e-05}. Best is trial 14 with value: 0.3143000946489379.\n",
      "/tmp/ipykernel_41908/2804199339.py:4: FutureWarning: suggest_loguniform has been deprecated in v3.0.0. This feature will be removed in v6.0.0. See https://github.com/optuna/optuna/releases/tag/v3.0.0. Use suggest_float(..., log=True) instead.\n",
      "  learning_rate = trial.suggest_loguniform(\"learning_rate\", 1e-4, 1e-1)  # 範囲を調整\n",
      "/tmp/ipykernel_41908/2804199339.py:5: FutureWarning: suggest_loguniform has been deprecated in v3.0.0. This feature will be removed in v6.0.0. See https://github.com/optuna/optuna/releases/tag/v3.0.0. Use suggest_float(..., log=True) instead.\n",
      "  weight_decay = trial.suggest_loguniform(\"weight_decay\", 1e-5, 1e-1)   # 範囲を調整\n",
      "[I 2024-12-18 13:41:31,564] Trial 20 pruned. \n"
     ]
    },
    {
     "name": "stdout",
     "output_type": "stream",
     "text": [
      "Final MCC: 0.2376\n"
     ]
    },
    {
     "name": "stderr",
     "output_type": "stream",
     "text": [
      "[I 2024-12-18 13:41:44,527] Trial 21 finished with value: 0.23806625464787998 and parameters: {'dropout1': 0.2, 'dropout2': 0.15000000000000002, 'learning_rate': 0.0002127555248041934, 'weight_decay': 3.632803719463078e-05}. Best is trial 14 with value: 0.3143000946489379.\n",
      "/tmp/ipykernel_41908/2804199339.py:4: FutureWarning: suggest_loguniform has been deprecated in v3.0.0. This feature will be removed in v6.0.0. See https://github.com/optuna/optuna/releases/tag/v3.0.0. Use suggest_float(..., log=True) instead.\n",
      "  learning_rate = trial.suggest_loguniform(\"learning_rate\", 1e-4, 1e-1)  # 範囲を調整\n",
      "/tmp/ipykernel_41908/2804199339.py:5: FutureWarning: suggest_loguniform has been deprecated in v3.0.0. This feature will be removed in v6.0.0. See https://github.com/optuna/optuna/releases/tag/v3.0.0. Use suggest_float(..., log=True) instead.\n",
      "  weight_decay = trial.suggest_loguniform(\"weight_decay\", 1e-5, 1e-1)   # 範囲を調整\n",
      "[I 2024-12-18 13:41:44,670] Trial 22 pruned. \n"
     ]
    },
    {
     "name": "stdout",
     "output_type": "stream",
     "text": [
      "Final MCC: 0.2381\n"
     ]
    },
    {
     "name": "stderr",
     "output_type": "stream",
     "text": [
      "[I 2024-12-18 13:41:44,823] Trial 23 pruned. \n",
      "[I 2024-12-18 13:41:49,393] Trial 24 finished with value: 0.1271868203084939 and parameters: {'dropout1': 0.2, 'dropout2': 0.1, 'learning_rate': 0.0007928699757707681, 'weight_decay': 2.164161491387143e-05}. Best is trial 14 with value: 0.3143000946489379.\n",
      "/tmp/ipykernel_41908/2804199339.py:4: FutureWarning: suggest_loguniform has been deprecated in v3.0.0. This feature will be removed in v6.0.0. See https://github.com/optuna/optuna/releases/tag/v3.0.0. Use suggest_float(..., log=True) instead.\n",
      "  learning_rate = trial.suggest_loguniform(\"learning_rate\", 1e-4, 1e-1)  # 範囲を調整\n",
      "/tmp/ipykernel_41908/2804199339.py:5: FutureWarning: suggest_loguniform has been deprecated in v3.0.0. This feature will be removed in v6.0.0. See https://github.com/optuna/optuna/releases/tag/v3.0.0. Use suggest_float(..., log=True) instead.\n",
      "  weight_decay = trial.suggest_loguniform(\"weight_decay\", 1e-5, 1e-1)   # 範囲を調整\n",
      "[I 2024-12-18 13:41:49,565] Trial 25 pruned. \n"
     ]
    },
    {
     "name": "stdout",
     "output_type": "stream",
     "text": [
      "Early stopping at epoch 34\n",
      "Final MCC: 0.1272\n"
     ]
    },
    {
     "name": "stderr",
     "output_type": "stream",
     "text": [
      "[I 2024-12-18 13:41:49,727] Trial 26 pruned. \n",
      "[I 2024-12-18 13:41:49,866] Trial 27 pruned. \n",
      "[I 2024-12-18 13:41:49,995] Trial 28 pruned. \n",
      "[I 2024-12-18 13:41:50,156] Trial 29 pruned. \n",
      "[I 2024-12-18 13:41:50,336] Trial 30 pruned. \n",
      "[I 2024-12-18 13:42:01,142] Trial 31 finished with value: 0.27331041511137266 and parameters: {'dropout1': 0.25, 'dropout2': 0.2, 'learning_rate': 0.00015893124481708329, 'weight_decay': 4.732591416845096e-05}. Best is trial 14 with value: 0.3143000946489379.\n",
      "/tmp/ipykernel_41908/2804199339.py:4: FutureWarning: suggest_loguniform has been deprecated in v3.0.0. This feature will be removed in v6.0.0. See https://github.com/optuna/optuna/releases/tag/v3.0.0. Use suggest_float(..., log=True) instead.\n",
      "  learning_rate = trial.suggest_loguniform(\"learning_rate\", 1e-4, 1e-1)  # 範囲を調整\n",
      "/tmp/ipykernel_41908/2804199339.py:5: FutureWarning: suggest_loguniform has been deprecated in v3.0.0. This feature will be removed in v6.0.0. See https://github.com/optuna/optuna/releases/tag/v3.0.0. Use suggest_float(..., log=True) instead.\n",
      "  weight_decay = trial.suggest_loguniform(\"weight_decay\", 1e-5, 1e-1)   # 範囲を調整\n",
      "[I 2024-12-18 13:42:01,286] Trial 32 pruned. \n"
     ]
    },
    {
     "name": "stdout",
     "output_type": "stream",
     "text": [
      "Early stopping at epoch 84\n",
      "Final MCC: 0.2733\n"
     ]
    },
    {
     "name": "stderr",
     "output_type": "stream",
     "text": [
      "[I 2024-12-18 13:42:01,445] Trial 33 pruned. \n",
      "[I 2024-12-18 13:42:01,601] Trial 34 pruned. \n",
      "[I 2024-12-18 13:42:08,522] Trial 35 finished with value: 0.24420536271552234 and parameters: {'dropout1': 0.30000000000000004, 'dropout2': 0.1, 'learning_rate': 0.0005022562590569632, 'weight_decay': 5.85834094648609e-05}. Best is trial 14 with value: 0.3143000946489379.\n",
      "/tmp/ipykernel_41908/2804199339.py:4: FutureWarning: suggest_loguniform has been deprecated in v3.0.0. This feature will be removed in v6.0.0. See https://github.com/optuna/optuna/releases/tag/v3.0.0. Use suggest_float(..., log=True) instead.\n",
      "  learning_rate = trial.suggest_loguniform(\"learning_rate\", 1e-4, 1e-1)  # 範囲を調整\n",
      "/tmp/ipykernel_41908/2804199339.py:5: FutureWarning: suggest_loguniform has been deprecated in v3.0.0. This feature will be removed in v6.0.0. See https://github.com/optuna/optuna/releases/tag/v3.0.0. Use suggest_float(..., log=True) instead.\n",
      "  weight_decay = trial.suggest_loguniform(\"weight_decay\", 1e-5, 1e-1)   # 範囲を調整\n",
      "[I 2024-12-18 13:42:08,680] Trial 36 pruned. \n"
     ]
    },
    {
     "name": "stdout",
     "output_type": "stream",
     "text": [
      "Early stopping at epoch 53\n",
      "Final MCC: 0.2442\n"
     ]
    },
    {
     "name": "stderr",
     "output_type": "stream",
     "text": [
      "[I 2024-12-18 13:42:08,833] Trial 37 pruned. \n",
      "[I 2024-12-18 13:42:09,009] Trial 38 pruned. \n",
      "[I 2024-12-18 13:42:09,165] Trial 39 pruned. \n",
      "[I 2024-12-18 13:42:09,321] Trial 40 pruned. \n",
      "[I 2024-12-18 13:42:09,478] Trial 41 pruned. \n",
      "[I 2024-12-18 13:42:09,622] Trial 42 pruned. \n",
      "[I 2024-12-18 13:42:09,786] Trial 43 pruned. \n",
      "[I 2024-12-18 13:42:09,945] Trial 44 pruned. \n",
      "[I 2024-12-18 13:42:10,099] Trial 45 pruned. \n",
      "[I 2024-12-18 13:42:10,262] Trial 46 pruned. \n",
      "[I 2024-12-18 13:42:10,439] Trial 47 pruned. \n",
      "[I 2024-12-18 13:42:10,605] Trial 48 pruned. \n",
      "[I 2024-12-18 13:42:10,763] Trial 49 pruned. \n",
      "[I 2024-12-18 13:42:10,917] Trial 50 pruned. \n",
      "[I 2024-12-18 13:42:21,383] Trial 51 finished with value: 0.2317373461012312 and parameters: {'dropout1': 0.25, 'dropout2': 0.2, 'learning_rate': 0.00020340305787890548, 'weight_decay': 4.672700183619207e-05}. Best is trial 14 with value: 0.3143000946489379.\n"
     ]
    },
    {
     "name": "stdout",
     "output_type": "stream",
     "text": [
      "Early stopping at epoch 79\n",
      "Final MCC: 0.2317\n"
     ]
    },
    {
     "name": "stderr",
     "output_type": "stream",
     "text": [
      "/tmp/ipykernel_41908/2804199339.py:4: FutureWarning: suggest_loguniform has been deprecated in v3.0.0. This feature will be removed in v6.0.0. See https://github.com/optuna/optuna/releases/tag/v3.0.0. Use suggest_float(..., log=True) instead.\n",
      "  learning_rate = trial.suggest_loguniform(\"learning_rate\", 1e-4, 1e-1)  # 範囲を調整\n",
      "/tmp/ipykernel_41908/2804199339.py:5: FutureWarning: suggest_loguniform has been deprecated in v3.0.0. This feature will be removed in v6.0.0. See https://github.com/optuna/optuna/releases/tag/v3.0.0. Use suggest_float(..., log=True) instead.\n",
      "  weight_decay = trial.suggest_loguniform(\"weight_decay\", 1e-5, 1e-1)   # 範囲を調整\n",
      "[I 2024-12-18 13:42:33,554] Trial 52 finished with value: 0.19353433895739833 and parameters: {'dropout1': 0.25, 'dropout2': 0.2, 'learning_rate': 0.00020308627735978472, 'weight_decay': 4.891624459039164e-05}. Best is trial 14 with value: 0.3143000946489379.\n",
      "/tmp/ipykernel_41908/2804199339.py:4: FutureWarning: suggest_loguniform has been deprecated in v3.0.0. This feature will be removed in v6.0.0. See https://github.com/optuna/optuna/releases/tag/v3.0.0. Use suggest_float(..., log=True) instead.\n",
      "  learning_rate = trial.suggest_loguniform(\"learning_rate\", 1e-4, 1e-1)  # 範囲を調整\n",
      "/tmp/ipykernel_41908/2804199339.py:5: FutureWarning: suggest_loguniform has been deprecated in v3.0.0. This feature will be removed in v6.0.0. See https://github.com/optuna/optuna/releases/tag/v3.0.0. Use suggest_float(..., log=True) instead.\n",
      "  weight_decay = trial.suggest_loguniform(\"weight_decay\", 1e-5, 1e-1)   # 範囲を調整\n",
      "[I 2024-12-18 13:42:33,734] Trial 53 pruned. \n"
     ]
    },
    {
     "name": "stdout",
     "output_type": "stream",
     "text": [
      "Final MCC: 0.1935\n"
     ]
    },
    {
     "name": "stderr",
     "output_type": "stream",
     "text": [
      "[I 2024-12-18 13:42:33,906] Trial 54 pruned. \n",
      "[I 2024-12-18 13:42:34,064] Trial 55 pruned. \n",
      "[I 2024-12-18 13:42:34,221] Trial 56 pruned. \n",
      "[I 2024-12-18 13:42:47,081] Trial 57 finished with value: 0.29348287866923445 and parameters: {'dropout1': 0.2, 'dropout2': 0.25, 'learning_rate': 0.00018326916369832273, 'weight_decay': 0.017939032647829874}. Best is trial 14 with value: 0.3143000946489379.\n",
      "/tmp/ipykernel_41908/2804199339.py:4: FutureWarning: suggest_loguniform has been deprecated in v3.0.0. This feature will be removed in v6.0.0. See https://github.com/optuna/optuna/releases/tag/v3.0.0. Use suggest_float(..., log=True) instead.\n",
      "  learning_rate = trial.suggest_loguniform(\"learning_rate\", 1e-4, 1e-1)  # 範囲を調整\n",
      "/tmp/ipykernel_41908/2804199339.py:5: FutureWarning: suggest_loguniform has been deprecated in v3.0.0. This feature will be removed in v6.0.0. See https://github.com/optuna/optuna/releases/tag/v3.0.0. Use suggest_float(..., log=True) instead.\n",
      "  weight_decay = trial.suggest_loguniform(\"weight_decay\", 1e-5, 1e-1)   # 範囲を調整\n",
      "[I 2024-12-18 13:42:47,232] Trial 58 pruned. \n"
     ]
    },
    {
     "name": "stdout",
     "output_type": "stream",
     "text": [
      "Final MCC: 0.2935\n"
     ]
    },
    {
     "name": "stderr",
     "output_type": "stream",
     "text": [
      "[I 2024-12-18 13:42:47,370] Trial 59 pruned. \n",
      "[I 2024-12-18 13:42:47,517] Trial 60 pruned. \n",
      "[I 2024-12-18 13:42:47,687] Trial 61 pruned. \n",
      "[I 2024-12-18 13:42:47,840] Trial 62 pruned. \n",
      "[I 2024-12-18 13:42:47,972] Trial 63 pruned. \n",
      "[I 2024-12-18 13:42:48,126] Trial 64 pruned. \n",
      "[I 2024-12-18 13:42:48,295] Trial 65 pruned. \n",
      "[I 2024-12-18 13:43:01,092] Trial 66 finished with value: 0.26472922149477224 and parameters: {'dropout1': 0.2, 'dropout2': 0.1, 'learning_rate': 0.00012850226354947007, 'weight_decay': 0.022510441884434414}. Best is trial 14 with value: 0.3143000946489379.\n",
      "/tmp/ipykernel_41908/2804199339.py:4: FutureWarning: suggest_loguniform has been deprecated in v3.0.0. This feature will be removed in v6.0.0. See https://github.com/optuna/optuna/releases/tag/v3.0.0. Use suggest_float(..., log=True) instead.\n",
      "  learning_rate = trial.suggest_loguniform(\"learning_rate\", 1e-4, 1e-1)  # 範囲を調整\n",
      "/tmp/ipykernel_41908/2804199339.py:5: FutureWarning: suggest_loguniform has been deprecated in v3.0.0. This feature will be removed in v6.0.0. See https://github.com/optuna/optuna/releases/tag/v3.0.0. Use suggest_float(..., log=True) instead.\n",
      "  weight_decay = trial.suggest_loguniform(\"weight_decay\", 1e-5, 1e-1)   # 範囲を調整\n",
      "[I 2024-12-18 13:43:01,246] Trial 67 pruned. \n"
     ]
    },
    {
     "name": "stdout",
     "output_type": "stream",
     "text": [
      "Final MCC: 0.2647\n"
     ]
    },
    {
     "name": "stderr",
     "output_type": "stream",
     "text": [
      "[I 2024-12-18 13:43:01,386] Trial 68 pruned. \n",
      "[I 2024-12-18 13:43:01,543] Trial 69 pruned. \n",
      "[I 2024-12-18 13:43:01,711] Trial 70 pruned. \n",
      "[I 2024-12-18 13:43:01,862] Trial 71 pruned. \n",
      "[I 2024-12-18 13:43:02,035] Trial 72 pruned. \n",
      "[I 2024-12-18 13:43:02,189] Trial 73 pruned. \n",
      "[I 2024-12-18 13:43:02,340] Trial 74 pruned. \n",
      "[I 2024-12-18 13:43:02,507] Trial 75 pruned. \n",
      "[I 2024-12-18 13:43:02,662] Trial 76 pruned. \n",
      "[I 2024-12-18 13:43:06,242] Trial 77 finished with value: 0.0 and parameters: {'dropout1': 0.5, 'dropout2': 0.5, 'learning_rate': 0.0013001577395326074, 'weight_decay': 0.07224549714286395}. Best is trial 14 with value: 0.3143000946489379.\n",
      "/tmp/ipykernel_41908/2804199339.py:4: FutureWarning: suggest_loguniform has been deprecated in v3.0.0. This feature will be removed in v6.0.0. See https://github.com/optuna/optuna/releases/tag/v3.0.0. Use suggest_float(..., log=True) instead.\n",
      "  learning_rate = trial.suggest_loguniform(\"learning_rate\", 1e-4, 1e-1)  # 範囲を調整\n",
      "/tmp/ipykernel_41908/2804199339.py:5: FutureWarning: suggest_loguniform has been deprecated in v3.0.0. This feature will be removed in v6.0.0. See https://github.com/optuna/optuna/releases/tag/v3.0.0. Use suggest_float(..., log=True) instead.\n",
      "  weight_decay = trial.suggest_loguniform(\"weight_decay\", 1e-5, 1e-1)   # 範囲を調整\n",
      "[I 2024-12-18 13:43:06,412] Trial 78 pruned. \n"
     ]
    },
    {
     "name": "stdout",
     "output_type": "stream",
     "text": [
      "Early stopping at epoch 27\n",
      "Final MCC: 0.0000\n"
     ]
    },
    {
     "name": "stderr",
     "output_type": "stream",
     "text": [
      "[I 2024-12-18 13:43:06,560] Trial 79 pruned. \n",
      "[I 2024-12-18 13:43:06,706] Trial 80 pruned. \n",
      "[I 2024-12-18 13:43:06,853] Trial 81 pruned. \n",
      "[I 2024-12-18 13:43:07,032] Trial 82 pruned. \n",
      "[I 2024-12-18 13:43:07,175] Trial 83 pruned. \n",
      "[I 2024-12-18 13:43:08,579] Trial 84 finished with value: 0.0 and parameters: {'dropout1': 0.05, 'dropout2': 0.2, 'learning_rate': 0.00012117868531356186, 'weight_decay': 0.0464188453005842}. Best is trial 14 with value: 0.3143000946489379.\n",
      "/tmp/ipykernel_41908/2804199339.py:4: FutureWarning: suggest_loguniform has been deprecated in v3.0.0. This feature will be removed in v6.0.0. See https://github.com/optuna/optuna/releases/tag/v3.0.0. Use suggest_float(..., log=True) instead.\n",
      "  learning_rate = trial.suggest_loguniform(\"learning_rate\", 1e-4, 1e-1)  # 範囲を調整\n",
      "/tmp/ipykernel_41908/2804199339.py:5: FutureWarning: suggest_loguniform has been deprecated in v3.0.0. This feature will be removed in v6.0.0. See https://github.com/optuna/optuna/releases/tag/v3.0.0. Use suggest_float(..., log=True) instead.\n",
      "  weight_decay = trial.suggest_loguniform(\"weight_decay\", 1e-5, 1e-1)   # 範囲を調整\n",
      "[I 2024-12-18 13:43:08,722] Trial 85 pruned. \n"
     ]
    },
    {
     "name": "stdout",
     "output_type": "stream",
     "text": [
      "Early stopping at epoch 10\n",
      "Final MCC: 0.0000\n"
     ]
    },
    {
     "name": "stderr",
     "output_type": "stream",
     "text": [
      "[I 2024-12-18 13:43:08,889] Trial 86 pruned. \n",
      "[I 2024-12-18 13:43:09,053] Trial 87 pruned. \n",
      "[I 2024-12-18 13:43:09,224] Trial 88 pruned. \n",
      "[I 2024-12-18 13:43:09,398] Trial 89 pruned. \n",
      "[I 2024-12-18 13:43:09,559] Trial 90 pruned. \n",
      "[I 2024-12-18 13:43:09,714] Trial 91 pruned. \n",
      "[I 2024-12-18 13:43:09,896] Trial 92 pruned. \n",
      "[I 2024-12-18 13:43:10,057] Trial 93 pruned. \n",
      "[I 2024-12-18 13:43:10,219] Trial 94 pruned. \n",
      "[I 2024-12-18 13:43:10,375] Trial 95 pruned. \n",
      "[I 2024-12-18 13:43:10,530] Trial 96 pruned. \n",
      "[I 2024-12-18 13:43:10,683] Trial 97 pruned. \n",
      "[I 2024-12-18 13:43:23,384] Trial 98 finished with value: 0.3441936434225538 and parameters: {'dropout1': 0.30000000000000004, 'dropout2': 0.15000000000000002, 'learning_rate': 0.0001037865458581933, 'weight_decay': 0.01970501959245381}. Best is trial 98 with value: 0.3441936434225538.\n",
      "/tmp/ipykernel_41908/2804199339.py:4: FutureWarning: suggest_loguniform has been deprecated in v3.0.0. This feature will be removed in v6.0.0. See https://github.com/optuna/optuna/releases/tag/v3.0.0. Use suggest_float(..., log=True) instead.\n",
      "  learning_rate = trial.suggest_loguniform(\"learning_rate\", 1e-4, 1e-1)  # 範囲を調整\n",
      "/tmp/ipykernel_41908/2804199339.py:5: FutureWarning: suggest_loguniform has been deprecated in v3.0.0. This feature will be removed in v6.0.0. See https://github.com/optuna/optuna/releases/tag/v3.0.0. Use suggest_float(..., log=True) instead.\n",
      "  weight_decay = trial.suggest_loguniform(\"weight_decay\", 1e-5, 1e-1)   # 範囲を調整\n",
      "[I 2024-12-18 13:43:23,548] Trial 99 pruned. \n"
     ]
    },
    {
     "name": "stdout",
     "output_type": "stream",
     "text": [
      "Final MCC: 0.3442\n",
      "Best Parameters:  {'dropout1': 0.30000000000000004, 'dropout2': 0.15000000000000002, 'learning_rate': 0.0001037865458581933, 'weight_decay': 0.01970501959245381}\n",
      "Best Validation F1:  0.3441936434225538\n"
     ]
    }
   ],
   "source": [
    "device_id = 0  # 使用するGPUのID（0または1）\n",
    "torch.cuda.set_device(device_id)\n",
    "device = torch.device(f\"cuda:{device_id}\" if torch.cuda.is_available() else \"cpu\")\n",
    "\n",
    "# Optunaの設定\n",
    "study = optuna.create_study(direction=\"maximize\")  \n",
    "study.optimize(objective, n_trials=100)\n",
    "\n",
    "# 結果表示\n",
    "print(\"Best Parameters: \", study.best_params)\n",
    "print(\"Best Validation F1: \", study.best_value)"
   ]
  },
  {
   "cell_type": "code",
   "execution_count": 7,
   "metadata": {},
   "outputs": [
    {
     "name": "stdout",
     "output_type": "stream",
     "text": [
      "Best parameters saved to 'best_params.json'\n"
     ]
    }
   ],
   "source": [
    "best_params = study.best_params\n",
    "\n",
    "# JSON形式で保存\n",
    "with open(\"optim_param/optim_DNN_7_params.json\", \"w\") as f:\n",
    "    json.dump(best_params, f)\n",
    "\n",
    "print(\"Best parameters saved to 'best_params.json'\")"
   ]
  },
  {
   "cell_type": "code",
   "execution_count": 14,
   "metadata": {},
   "outputs": [
    {
     "name": "stdout",
     "output_type": "stream",
     "text": [
      "Epoch [1/200], Loss: 0.7020\n",
      "Epoch [1/200], Train Loss: 0.7020, Val Loss: 0.7113\n",
      "Epoch [2/200], Loss: 0.6994\n",
      "Epoch [2/200], Train Loss: 0.6994, Val Loss: 0.6925\n",
      "Epoch [3/200], Loss: 0.6906\n",
      "Epoch [3/200], Train Loss: 0.6906, Val Loss: 0.6882\n",
      "Epoch [4/200], Loss: 0.6862\n",
      "Epoch [4/200], Train Loss: 0.6862, Val Loss: 0.6840\n",
      "Epoch [5/200], Loss: 0.6846\n",
      "Epoch [5/200], Train Loss: 0.6846, Val Loss: 0.6764\n",
      "Epoch [6/200], Loss: 0.6798\n",
      "Epoch [6/200], Train Loss: 0.6798, Val Loss: 0.6744\n",
      "Epoch [7/200], Loss: 0.6780\n",
      "Epoch [7/200], Train Loss: 0.6780, Val Loss: 0.6682\n",
      "Epoch [8/200], Loss: 0.6675\n",
      "Epoch [8/200], Train Loss: 0.6675, Val Loss: 0.6656\n",
      "Epoch [9/200], Loss: 0.6697\n",
      "Epoch [9/200], Train Loss: 0.6697, Val Loss: 0.6608\n",
      "Epoch [10/200], Loss: 0.6684\n",
      "Epoch [10/200], Train Loss: 0.6684, Val Loss: 0.6565\n",
      "Epoch [11/200], Loss: 0.6623\n",
      "Epoch [11/200], Train Loss: 0.6623, Val Loss: 0.6518\n",
      "Epoch [12/200], Loss: 0.6587\n",
      "Epoch [12/200], Train Loss: 0.6587, Val Loss: 0.6487\n",
      "Epoch [13/200], Loss: 0.6504\n",
      "Epoch [13/200], Train Loss: 0.6504, Val Loss: 0.6464\n",
      "Epoch [14/200], Loss: 0.6493\n",
      "Epoch [14/200], Train Loss: 0.6493, Val Loss: 0.6402\n",
      "Epoch [15/200], Loss: 0.6477\n",
      "Epoch [15/200], Train Loss: 0.6477, Val Loss: 0.6379\n",
      "Epoch [16/200], Loss: 0.6481\n",
      "Epoch [16/200], Train Loss: 0.6481, Val Loss: 0.6342\n",
      "Epoch [17/200], Loss: 0.6440\n",
      "Epoch [17/200], Train Loss: 0.6440, Val Loss: 0.6327\n",
      "Epoch [18/200], Loss: 0.6421\n",
      "Epoch [18/200], Train Loss: 0.6421, Val Loss: 0.6303\n",
      "Epoch [19/200], Loss: 0.6380\n",
      "Epoch [19/200], Train Loss: 0.6380, Val Loss: 0.6251\n",
      "Epoch [20/200], Loss: 0.6352\n",
      "Epoch [20/200], Train Loss: 0.6352, Val Loss: 0.6248\n",
      "Epoch [21/200], Loss: 0.6336\n",
      "Epoch [21/200], Train Loss: 0.6336, Val Loss: 0.6225\n",
      "Epoch [22/200], Loss: 0.6295\n",
      "Epoch [22/200], Train Loss: 0.6295, Val Loss: 0.6202\n",
      "Epoch [23/200], Loss: 0.6322\n",
      "Epoch [23/200], Train Loss: 0.6322, Val Loss: 0.6196\n",
      "Epoch [24/200], Loss: 0.6307\n",
      "Epoch [24/200], Train Loss: 0.6307, Val Loss: 0.6157\n",
      "Epoch [25/200], Loss: 0.6291\n",
      "Epoch [25/200], Train Loss: 0.6291, Val Loss: 0.6149\n",
      "Epoch [26/200], Loss: 0.6254\n",
      "Epoch [26/200], Train Loss: 0.6254, Val Loss: 0.6113\n",
      "Epoch [27/200], Loss: 0.6216\n",
      "Epoch [27/200], Train Loss: 0.6216, Val Loss: 0.6088\n",
      "Epoch [28/200], Loss: 0.6218\n",
      "Epoch [28/200], Train Loss: 0.6218, Val Loss: 0.6073\n",
      "Epoch [29/200], Loss: 0.6219\n",
      "Epoch [29/200], Train Loss: 0.6219, Val Loss: 0.6073\n",
      "Epoch [30/200], Loss: 0.6181\n",
      "Epoch [30/200], Train Loss: 0.6181, Val Loss: 0.6062\n",
      "Epoch [31/200], Loss: 0.6191\n",
      "Epoch [31/200], Train Loss: 0.6191, Val Loss: 0.6024\n",
      "Epoch [32/200], Loss: 0.6213\n",
      "Epoch [32/200], Train Loss: 0.6213, Val Loss: 0.6009\n",
      "Epoch [33/200], Loss: 0.6164\n",
      "Epoch [33/200], Train Loss: 0.6164, Val Loss: 0.6020\n",
      "Epoch [34/200], Loss: 0.6185\n",
      "Epoch [34/200], Train Loss: 0.6185, Val Loss: 0.6018\n",
      "Epoch [35/200], Loss: 0.6160\n",
      "Epoch [35/200], Train Loss: 0.6160, Val Loss: 0.5987\n",
      "Epoch [36/200], Loss: 0.6129\n",
      "Epoch [36/200], Train Loss: 0.6129, Val Loss: 0.5979\n",
      "Epoch [37/200], Loss: 0.6107\n",
      "Epoch [37/200], Train Loss: 0.6107, Val Loss: 0.5979\n",
      "Epoch [38/200], Loss: 0.6122\n",
      "Epoch [38/200], Train Loss: 0.6122, Val Loss: 0.5957\n",
      "Epoch [39/200], Loss: 0.6112\n",
      "Epoch [39/200], Train Loss: 0.6112, Val Loss: 0.5967\n",
      "Epoch [40/200], Loss: 0.6105\n",
      "Epoch [40/200], Train Loss: 0.6105, Val Loss: 0.5961\n",
      "Epoch [41/200], Loss: 0.6105\n",
      "Epoch [41/200], Train Loss: 0.6105, Val Loss: 0.5937\n",
      "Epoch [42/200], Loss: 0.6078\n",
      "Epoch [42/200], Train Loss: 0.6078, Val Loss: 0.5920\n",
      "Epoch [43/200], Loss: 0.6065\n",
      "Epoch [43/200], Train Loss: 0.6065, Val Loss: 0.5927\n",
      "Epoch [44/200], Loss: 0.6038\n",
      "Epoch [44/200], Train Loss: 0.6038, Val Loss: 0.5937\n",
      "Epoch [45/200], Loss: 0.6054\n",
      "Epoch [45/200], Train Loss: 0.6054, Val Loss: 0.5906\n",
      "Epoch [46/200], Loss: 0.6036\n",
      "Epoch [46/200], Train Loss: 0.6036, Val Loss: 0.5907\n",
      "Epoch [47/200], Loss: 0.6008\n",
      "Epoch [47/200], Train Loss: 0.6008, Val Loss: 0.5878\n",
      "Epoch [48/200], Loss: 0.6059\n",
      "Epoch [48/200], Train Loss: 0.6059, Val Loss: 0.5881\n",
      "Epoch [49/200], Loss: 0.6013\n",
      "Epoch [49/200], Train Loss: 0.6013, Val Loss: 0.5879\n",
      "Epoch [50/200], Loss: 0.6024\n",
      "Epoch [50/200], Train Loss: 0.6024, Val Loss: 0.5849\n",
      "Epoch [51/200], Loss: 0.5987\n",
      "Epoch [51/200], Train Loss: 0.5987, Val Loss: 0.5824\n",
      "Epoch [52/200], Loss: 0.6008\n",
      "Epoch [52/200], Train Loss: 0.6008, Val Loss: 0.5836\n",
      "Epoch [53/200], Loss: 0.5963\n",
      "Epoch [53/200], Train Loss: 0.5963, Val Loss: 0.5851\n",
      "Epoch [54/200], Loss: 0.5986\n",
      "Epoch [54/200], Train Loss: 0.5986, Val Loss: 0.5840\n",
      "Epoch [55/200], Loss: 0.5993\n",
      "Epoch [55/200], Train Loss: 0.5993, Val Loss: 0.5855\n",
      "Epoch [56/200], Loss: 0.5968\n",
      "Epoch [56/200], Train Loss: 0.5968, Val Loss: 0.5815\n",
      "Epoch [57/200], Loss: 0.5980\n",
      "Epoch [57/200], Train Loss: 0.5980, Val Loss: 0.5825\n",
      "Epoch [58/200], Loss: 0.5961\n",
      "Epoch [58/200], Train Loss: 0.5961, Val Loss: 0.5821\n",
      "Epoch [59/200], Loss: 0.5959\n",
      "Epoch [59/200], Train Loss: 0.5959, Val Loss: 0.5818\n",
      "Epoch [60/200], Loss: 0.5961\n",
      "Epoch [60/200], Train Loss: 0.5961, Val Loss: 0.5819\n",
      "Epoch [61/200], Loss: 0.5969\n",
      "Epoch [61/200], Train Loss: 0.5969, Val Loss: 0.5810\n",
      "Epoch [62/200], Loss: 0.5931\n",
      "Epoch [62/200], Train Loss: 0.5931, Val Loss: 0.5792\n",
      "Epoch [63/200], Loss: 0.5926\n",
      "Epoch [63/200], Train Loss: 0.5926, Val Loss: 0.5793\n",
      "Epoch [64/200], Loss: 0.5942\n",
      "Epoch [64/200], Train Loss: 0.5942, Val Loss: 0.5807\n",
      "Epoch [65/200], Loss: 0.5924\n",
      "Epoch [65/200], Train Loss: 0.5924, Val Loss: 0.5797\n",
      "Epoch [66/200], Loss: 0.5922\n",
      "Epoch [66/200], Train Loss: 0.5922, Val Loss: 0.5778\n",
      "Epoch [67/200], Loss: 0.5891\n",
      "Epoch [67/200], Train Loss: 0.5891, Val Loss: 0.5785\n",
      "Epoch [68/200], Loss: 0.5877\n",
      "Epoch [68/200], Train Loss: 0.5877, Val Loss: 0.5790\n",
      "Epoch [69/200], Loss: 0.5914\n",
      "Epoch [69/200], Train Loss: 0.5914, Val Loss: 0.5782\n",
      "Epoch [70/200], Loss: 0.5885\n",
      "Epoch [70/200], Train Loss: 0.5885, Val Loss: 0.5769\n",
      "Epoch [71/200], Loss: 0.5884\n",
      "Epoch [71/200], Train Loss: 0.5884, Val Loss: 0.5752\n",
      "Epoch [72/200], Loss: 0.5886\n",
      "Epoch [72/200], Train Loss: 0.5886, Val Loss: 0.5761\n",
      "Epoch [73/200], Loss: 0.5878\n",
      "Epoch [73/200], Train Loss: 0.5878, Val Loss: 0.5769\n",
      "Epoch [74/200], Loss: 0.5894\n",
      "Epoch [74/200], Train Loss: 0.5894, Val Loss: 0.5751\n",
      "Epoch [75/200], Loss: 0.5892\n",
      "Epoch [75/200], Train Loss: 0.5892, Val Loss: 0.5763\n",
      "Epoch [76/200], Loss: 0.5903\n",
      "Epoch [76/200], Train Loss: 0.5903, Val Loss: 0.5760\n",
      "Epoch [77/200], Loss: 0.5855\n",
      "Epoch [77/200], Train Loss: 0.5855, Val Loss: 0.5745\n",
      "Epoch [78/200], Loss: 0.5846\n",
      "Epoch [78/200], Train Loss: 0.5846, Val Loss: 0.5739\n",
      "Epoch [79/200], Loss: 0.5831\n",
      "Epoch [79/200], Train Loss: 0.5831, Val Loss: 0.5741\n",
      "Epoch [80/200], Loss: 0.5867\n",
      "Epoch [80/200], Train Loss: 0.5867, Val Loss: 0.5732\n",
      "Epoch [81/200], Loss: 0.5877\n",
      "Epoch [81/200], Train Loss: 0.5877, Val Loss: 0.5717\n",
      "Epoch [82/200], Loss: 0.5862\n",
      "Epoch [82/200], Train Loss: 0.5862, Val Loss: 0.5729\n",
      "Epoch [83/200], Loss: 0.5833\n",
      "Epoch [83/200], Train Loss: 0.5833, Val Loss: 0.5753\n",
      "Epoch [84/200], Loss: 0.5820\n",
      "Epoch [84/200], Train Loss: 0.5820, Val Loss: 0.5713\n",
      "Epoch [85/200], Loss: 0.5796\n",
      "Epoch [85/200], Train Loss: 0.5796, Val Loss: 0.5688\n",
      "Epoch [86/200], Loss: 0.5824\n",
      "Epoch [86/200], Train Loss: 0.5824, Val Loss: 0.5701\n",
      "Epoch [87/200], Loss: 0.5824\n",
      "Epoch [87/200], Train Loss: 0.5824, Val Loss: 0.5711\n",
      "Epoch [88/200], Loss: 0.5816\n",
      "Epoch [88/200], Train Loss: 0.5816, Val Loss: 0.5724\n",
      "Epoch [89/200], Loss: 0.5803\n",
      "Epoch [89/200], Train Loss: 0.5803, Val Loss: 0.5704\n",
      "Epoch [90/200], Loss: 0.5805\n",
      "Epoch [90/200], Train Loss: 0.5805, Val Loss: 0.5700\n",
      "Epoch [91/200], Loss: 0.5835\n",
      "Epoch [91/200], Train Loss: 0.5835, Val Loss: 0.5708\n",
      "Epoch [92/200], Loss: 0.5808\n",
      "Epoch [92/200], Train Loss: 0.5808, Val Loss: 0.5703\n",
      "Epoch [93/200], Loss: 0.5795\n",
      "Epoch [93/200], Train Loss: 0.5795, Val Loss: 0.5709\n",
      "Epoch [94/200], Loss: 0.5782\n",
      "Epoch [94/200], Train Loss: 0.5782, Val Loss: 0.5700\n",
      "Epoch [95/200], Loss: 0.5766\n",
      "Epoch [95/200], Train Loss: 0.5766, Val Loss: 0.5710\n",
      "Epoch [96/200], Loss: 0.5815\n",
      "Epoch [96/200], Train Loss: 0.5815, Val Loss: 0.5675\n",
      "Epoch [97/200], Loss: 0.5774\n",
      "Epoch [97/200], Train Loss: 0.5774, Val Loss: 0.5697\n",
      "Epoch [98/200], Loss: 0.5801\n",
      "Epoch [98/200], Train Loss: 0.5801, Val Loss: 0.5688\n",
      "Epoch [99/200], Loss: 0.5750\n",
      "Epoch [99/200], Train Loss: 0.5750, Val Loss: 0.5713\n",
      "Epoch [100/200], Loss: 0.5758\n",
      "Epoch [100/200], Train Loss: 0.5758, Val Loss: 0.5698\n",
      "Epoch [101/200], Loss: 0.5756\n",
      "Epoch [101/200], Train Loss: 0.5756, Val Loss: 0.5705\n",
      "Epoch [102/200], Loss: 0.5795\n",
      "Epoch [102/200], Train Loss: 0.5795, Val Loss: 0.5678\n",
      "Epoch [103/200], Loss: 0.5752\n",
      "Epoch [103/200], Train Loss: 0.5752, Val Loss: 0.5686\n",
      "Epoch [104/200], Loss: 0.5740\n",
      "Epoch [104/200], Train Loss: 0.5740, Val Loss: 0.5693\n",
      "Epoch [105/200], Loss: 0.5745\n",
      "Epoch [105/200], Train Loss: 0.5745, Val Loss: 0.5690\n",
      "Epoch [106/200], Loss: 0.5747\n",
      "Epoch [106/200], Train Loss: 0.5747, Val Loss: 0.5695\n",
      "Epoch [107/200], Loss: 0.5745\n",
      "Epoch [107/200], Train Loss: 0.5745, Val Loss: 0.5700\n",
      "Epoch [108/200], Loss: 0.5730\n",
      "Epoch [108/200], Train Loss: 0.5730, Val Loss: 0.5695\n",
      "Epoch [109/200], Loss: 0.5745\n",
      "Epoch [109/200], Train Loss: 0.5745, Val Loss: 0.5681\n",
      "Epoch [110/200], Loss: 0.5756\n",
      "Epoch [110/200], Train Loss: 0.5756, Val Loss: 0.5679\n",
      "Epoch [111/200], Loss: 0.5753\n",
      "Epoch [111/200], Train Loss: 0.5753, Val Loss: 0.5681\n",
      "Epoch [112/200], Loss: 0.5737\n",
      "Epoch [112/200], Train Loss: 0.5737, Val Loss: 0.5675\n",
      "Epoch [113/200], Loss: 0.5735\n",
      "Epoch [113/200], Train Loss: 0.5735, Val Loss: 0.5668\n",
      "Epoch [114/200], Loss: 0.5720\n",
      "Epoch [114/200], Train Loss: 0.5720, Val Loss: 0.5663\n",
      "Epoch [115/200], Loss: 0.5725\n",
      "Epoch [115/200], Train Loss: 0.5725, Val Loss: 0.5665\n",
      "Epoch [116/200], Loss: 0.5728\n",
      "Epoch [116/200], Train Loss: 0.5728, Val Loss: 0.5657\n",
      "Epoch [117/200], Loss: 0.5710\n",
      "Epoch [117/200], Train Loss: 0.5710, Val Loss: 0.5671\n",
      "Epoch [118/200], Loss: 0.5751\n",
      "Epoch [118/200], Train Loss: 0.5751, Val Loss: 0.5673\n",
      "Epoch [119/200], Loss: 0.5708\n",
      "Epoch [119/200], Train Loss: 0.5708, Val Loss: 0.5678\n",
      "Epoch [120/200], Loss: 0.5690\n",
      "Epoch [120/200], Train Loss: 0.5690, Val Loss: 0.5687\n",
      "Epoch [121/200], Loss: 0.5664\n",
      "Epoch [121/200], Train Loss: 0.5664, Val Loss: 0.5685\n",
      "Epoch [122/200], Loss: 0.5697\n",
      "Epoch [122/200], Train Loss: 0.5697, Val Loss: 0.5690\n",
      "Epoch [123/200], Loss: 0.5719\n",
      "Epoch [123/200], Train Loss: 0.5719, Val Loss: 0.5688\n",
      "Epoch [124/200], Loss: 0.5693\n",
      "Epoch [124/200], Train Loss: 0.5693, Val Loss: 0.5671\n",
      "Epoch [125/200], Loss: 0.5715\n",
      "Epoch [125/200], Train Loss: 0.5715, Val Loss: 0.5660\n",
      "Epoch [126/200], Loss: 0.5690\n",
      "Epoch [126/200], Train Loss: 0.5690, Val Loss: 0.5680\n",
      "Epoch [127/200], Loss: 0.5685\n",
      "Epoch [127/200], Train Loss: 0.5685, Val Loss: 0.5676\n",
      "Epoch [128/200], Loss: 0.5680\n",
      "Epoch [128/200], Train Loss: 0.5680, Val Loss: 0.5676\n",
      "Epoch [129/200], Loss: 0.5685\n",
      "Epoch [129/200], Train Loss: 0.5685, Val Loss: 0.5679\n",
      "Epoch [130/200], Loss: 0.5697\n",
      "Epoch [130/200], Train Loss: 0.5697, Val Loss: 0.5680\n",
      "Epoch [131/200], Loss: 0.5655\n",
      "Epoch [131/200], Train Loss: 0.5655, Val Loss: 0.5692\n",
      "Epoch [132/200], Loss: 0.5679\n",
      "Epoch [132/200], Train Loss: 0.5679, Val Loss: 0.5690\n",
      "Epoch [133/200], Loss: 0.5680\n",
      "Epoch [133/200], Train Loss: 0.5680, Val Loss: 0.5690\n",
      "Epoch [134/200], Loss: 0.5671\n",
      "Epoch [134/200], Train Loss: 0.5671, Val Loss: 0.5686\n",
      "Epoch [135/200], Loss: 0.5658\n",
      "Epoch [135/200], Train Loss: 0.5658, Val Loss: 0.5691\n",
      "Epoch [136/200], Loss: 0.5678\n",
      "Epoch [136/200], Train Loss: 0.5678, Val Loss: 0.5678\n",
      "Epoch [137/200], Loss: 0.5612\n",
      "Epoch [137/200], Train Loss: 0.5612, Val Loss: 0.5686\n",
      "Epoch [138/200], Loss: 0.5676\n",
      "Epoch [138/200], Train Loss: 0.5676, Val Loss: 0.5681\n",
      "Epoch [139/200], Loss: 0.5597\n",
      "Epoch [139/200], Train Loss: 0.5597, Val Loss: 0.5685\n",
      "Epoch [140/200], Loss: 0.5639\n",
      "Epoch [140/200], Train Loss: 0.5639, Val Loss: 0.5679\n",
      "Epoch [141/200], Loss: 0.5672\n",
      "Epoch [141/200], Train Loss: 0.5672, Val Loss: 0.5681\n",
      "Epoch [142/200], Loss: 0.5629\n",
      "Epoch [142/200], Train Loss: 0.5629, Val Loss: 0.5690\n",
      "Epoch [143/200], Loss: 0.5672\n",
      "Epoch [143/200], Train Loss: 0.5672, Val Loss: 0.5697\n",
      "Epoch [144/200], Loss: 0.5638\n",
      "Epoch [144/200], Train Loss: 0.5638, Val Loss: 0.5698\n",
      "Epoch [145/200], Loss: 0.5654\n",
      "Epoch [145/200], Train Loss: 0.5654, Val Loss: 0.5693\n",
      "Epoch [146/200], Loss: 0.5666\n",
      "Epoch [146/200], Train Loss: 0.5666, Val Loss: 0.5688\n",
      "Epoch [147/200], Loss: 0.5679\n",
      "Epoch [147/200], Train Loss: 0.5679, Val Loss: 0.5701\n",
      "Epoch [148/200], Loss: 0.5640\n",
      "Epoch [148/200], Train Loss: 0.5640, Val Loss: 0.5700\n",
      "Epoch [149/200], Loss: 0.5659\n",
      "Epoch [149/200], Train Loss: 0.5659, Val Loss: 0.5705\n",
      "Epoch [150/200], Loss: 0.5663\n",
      "Epoch [150/200], Train Loss: 0.5663, Val Loss: 0.5699\n",
      "Epoch [151/200], Loss: 0.5676\n",
      "Epoch [151/200], Train Loss: 0.5676, Val Loss: 0.5700\n",
      "Epoch [152/200], Loss: 0.5622\n",
      "Epoch [152/200], Train Loss: 0.5622, Val Loss: 0.5693\n",
      "Epoch [153/200], Loss: 0.5648\n",
      "Epoch [153/200], Train Loss: 0.5648, Val Loss: 0.5679\n",
      "Epoch [154/200], Loss: 0.5635\n",
      "Epoch [154/200], Train Loss: 0.5635, Val Loss: 0.5684\n",
      "Epoch [155/200], Loss: 0.5626\n",
      "Epoch [155/200], Train Loss: 0.5626, Val Loss: 0.5705\n",
      "Epoch [156/200], Loss: 0.5600\n",
      "Epoch [156/200], Train Loss: 0.5600, Val Loss: 0.5702\n",
      "Epoch [157/200], Loss: 0.5627\n",
      "Epoch [157/200], Train Loss: 0.5627, Val Loss: 0.5703\n",
      "Epoch [158/200], Loss: 0.5616\n",
      "Epoch [158/200], Train Loss: 0.5616, Val Loss: 0.5694\n",
      "Epoch [159/200], Loss: 0.5615\n",
      "Epoch [159/200], Train Loss: 0.5615, Val Loss: 0.5708\n",
      "Epoch [160/200], Loss: 0.5607\n",
      "Epoch [160/200], Train Loss: 0.5607, Val Loss: 0.5711\n",
      "Epoch [161/200], Loss: 0.5621\n",
      "Epoch [161/200], Train Loss: 0.5621, Val Loss: 0.5704\n",
      "Epoch [162/200], Loss: 0.5613\n",
      "Epoch [162/200], Train Loss: 0.5613, Val Loss: 0.5721\n",
      "Epoch [163/200], Loss: 0.5613\n",
      "Epoch [163/200], Train Loss: 0.5613, Val Loss: 0.5699\n",
      "Epoch [164/200], Loss: 0.5633\n",
      "Epoch [164/200], Train Loss: 0.5633, Val Loss: 0.5707\n",
      "Epoch [165/200], Loss: 0.5631\n",
      "Epoch [165/200], Train Loss: 0.5631, Val Loss: 0.5705\n",
      "Epoch [166/200], Loss: 0.5609\n",
      "Epoch [166/200], Train Loss: 0.5609, Val Loss: 0.5715\n",
      "Epoch [167/200], Loss: 0.5640\n",
      "Epoch [167/200], Train Loss: 0.5640, Val Loss: 0.5710\n",
      "Epoch [168/200], Loss: 0.5620\n",
      "Epoch [168/200], Train Loss: 0.5620, Val Loss: 0.5703\n",
      "Epoch [169/200], Loss: 0.5597\n",
      "Epoch [169/200], Train Loss: 0.5597, Val Loss: 0.5715\n",
      "Epoch [170/200], Loss: 0.5586\n",
      "Epoch [170/200], Train Loss: 0.5586, Val Loss: 0.5717\n",
      "Epoch [171/200], Loss: 0.5605\n",
      "Epoch [171/200], Train Loss: 0.5605, Val Loss: 0.5728\n",
      "Epoch [172/200], Loss: 0.5604\n",
      "Epoch [172/200], Train Loss: 0.5604, Val Loss: 0.5722\n",
      "Epoch [173/200], Loss: 0.5595\n",
      "Epoch [173/200], Train Loss: 0.5595, Val Loss: 0.5722\n",
      "Epoch [174/200], Loss: 0.5589\n",
      "Epoch [174/200], Train Loss: 0.5589, Val Loss: 0.5734\n",
      "Epoch [175/200], Loss: 0.5576\n",
      "Epoch [175/200], Train Loss: 0.5576, Val Loss: 0.5738\n",
      "Epoch [176/200], Loss: 0.5599\n",
      "Epoch [176/200], Train Loss: 0.5599, Val Loss: 0.5736\n",
      "Epoch [177/200], Loss: 0.5565\n",
      "Epoch [177/200], Train Loss: 0.5565, Val Loss: 0.5734\n",
      "Epoch [178/200], Loss: 0.5572\n",
      "Epoch [178/200], Train Loss: 0.5572, Val Loss: 0.5748\n",
      "Epoch [179/200], Loss: 0.5555\n",
      "Epoch [179/200], Train Loss: 0.5555, Val Loss: 0.5748\n",
      "Epoch [180/200], Loss: 0.5591\n",
      "Epoch [180/200], Train Loss: 0.5591, Val Loss: 0.5728\n",
      "Epoch [181/200], Loss: 0.5561\n",
      "Epoch [181/200], Train Loss: 0.5561, Val Loss: 0.5724\n",
      "Epoch [182/200], Loss: 0.5546\n",
      "Epoch [182/200], Train Loss: 0.5546, Val Loss: 0.5739\n",
      "Epoch [183/200], Loss: 0.5582\n",
      "Epoch [183/200], Train Loss: 0.5582, Val Loss: 0.5736\n",
      "Epoch [184/200], Loss: 0.5579\n",
      "Epoch [184/200], Train Loss: 0.5579, Val Loss: 0.5738\n",
      "Epoch [185/200], Loss: 0.5567\n",
      "Epoch [185/200], Train Loss: 0.5567, Val Loss: 0.5753\n",
      "Epoch [186/200], Loss: 0.5524\n",
      "Epoch [186/200], Train Loss: 0.5524, Val Loss: 0.5771\n",
      "Epoch [187/200], Loss: 0.5600\n",
      "Epoch [187/200], Train Loss: 0.5600, Val Loss: 0.5760\n",
      "Epoch [188/200], Loss: 0.5594\n",
      "Epoch [188/200], Train Loss: 0.5594, Val Loss: 0.5762\n",
      "Epoch [189/200], Loss: 0.5576\n",
      "Epoch [189/200], Train Loss: 0.5576, Val Loss: 0.5741\n",
      "Epoch [190/200], Loss: 0.5556\n",
      "Epoch [190/200], Train Loss: 0.5556, Val Loss: 0.5742\n",
      "Epoch [191/200], Loss: 0.5551\n",
      "Epoch [191/200], Train Loss: 0.5551, Val Loss: 0.5755\n",
      "Epoch [192/200], Loss: 0.5546\n",
      "Epoch [192/200], Train Loss: 0.5546, Val Loss: 0.5750\n",
      "Epoch [193/200], Loss: 0.5583\n",
      "Epoch [193/200], Train Loss: 0.5583, Val Loss: 0.5749\n",
      "Epoch [194/200], Loss: 0.5539\n",
      "Epoch [194/200], Train Loss: 0.5539, Val Loss: 0.5755\n",
      "Epoch [195/200], Loss: 0.5520\n",
      "Epoch [195/200], Train Loss: 0.5520, Val Loss: 0.5771\n",
      "Epoch [196/200], Loss: 0.5576\n",
      "Epoch [196/200], Train Loss: 0.5576, Val Loss: 0.5763\n",
      "Epoch [197/200], Loss: 0.5557\n",
      "Epoch [197/200], Train Loss: 0.5557, Val Loss: 0.5754\n",
      "Epoch [198/200], Loss: 0.5533\n",
      "Epoch [198/200], Train Loss: 0.5533, Val Loss: 0.5763\n",
      "Epoch [199/200], Loss: 0.5521\n",
      "Epoch [199/200], Train Loss: 0.5521, Val Loss: 0.5780\n",
      "Epoch [200/200], Loss: 0.5525\n",
      "Epoch [200/200], Train Loss: 0.5525, Val Loss: 0.5781\n"
     ]
    },
    {
     "data": {
      "image/png": "[encoded data removed]",
      "text/plain": [
       "<Figure size 1000x600 with 1 Axes>"
      ]
     },
     "metadata": {},
     "output_type": "display_data"
    }
   ],
   "source": [
    "best_params=study.best_params\n",
    "model = DNN_7(input_dim=X_train_tensor.shape[1],\n",
    "              dropout1=best_params[\"dropout1\"],\n",
    "              dropout2=best_params[\"dropout2\"],).to(device)\n",
    "# 最適化と訓練を実行\n",
    "optimizer = optim.Adam(model.parameters(), lr=best_params[\"learning_rate\"],weight_decay=best_params[\"weight_decay\"])\n",
    "criterion = nn.BCELoss()\n",
    "\n",
    "num_epochs=200\n",
    "train_losses = []\n",
    "val_losses = []\n",
    "\n",
    "model.train()\n",
    "for epoch in range(num_epochs):\n",
    "    epoch_train_loss = 0\n",
    "    epoch_val_loss = 0\n",
    "\n",
    "    for X_batch, y_batch in train_loader:\n",
    "        X_batch, y_batch = X_batch.to(device), y_batch.to(device)\n",
    "        optimizer.zero_grad()\n",
    "        outputs = model(X_batch).squeeze()\n",
    "        loss = criterion(outputs, y_batch.squeeze())\n",
    "        loss.backward()\n",
    "        optimizer.step()\n",
    "        epoch_train_loss += loss.item()\n",
    "    avg_train_loss = epoch_train_loss / len(train_loader)\n",
    "    train_losses.append(avg_train_loss)\n",
    "    print(f'Epoch [{epoch+1}/{num_epochs}], Loss: {avg_train_loss:.4f}')\n",
    "\n",
    "    if val_loader is not None:\n",
    "        model.eval()  \n",
    "        with torch.no_grad():\n",
    "            for X_val, y_val in val_loader:\n",
    "                X_val, y_val = X_val.to(device), y_val.to(device)\n",
    "                val_outputs = model(X_val).squeeze()\n",
    "                val_loss = criterion(val_outputs, y_val.squeeze())\n",
    "                epoch_val_loss += val_loss.item()\n",
    "\n",
    "        avg_val_loss = epoch_val_loss / len(val_loader)\n",
    "        val_losses.append(avg_val_loss)\n",
    "        model.train()  \n",
    "\n",
    "    if val_loader is not None:\n",
    "        print(f\"Epoch [{epoch+1}/{num_epochs}], Train Loss: {avg_train_loss:.4f}, Val Loss: {avg_val_loss:.4f}\")\n",
    "    else:\n",
    "        print(f\"Epoch [{epoch+1}/{num_epochs}], Train Loss: {avg_train_loss:.4f}\")\n",
    "\n",
    "plt.figure(figsize=(10, 6))\n",
    "plt.plot(range(1, num_epochs + 1), train_losses, label='Train Loss')\n",
    "if val_losses:\n",
    "    plt.plot(range(1, num_epochs + 1), val_losses, label='Validation Loss')\n",
    "plt.xlabel('Epoch')\n",
    "plt.ylabel('Loss')\n",
    "plt.title('Learning Curve for DNN7')\n",
    "plt.legend()\n",
    "plt.grid()\n",
    "plt.show()"
   ]
  },
  {
   "cell_type": "code",
   "execution_count": 15,
   "metadata": {},
   "outputs": [
    {
     "name": "stdout",
     "output_type": "stream",
     "text": [
      "Accuracy: 60.36%\n",
      "Precision: 0.4772\n",
      "Recall: 0.6728\n",
      "F1 Score: 0.5584\n",
      "Matthews Correlation Coefficient: 0.2279\n",
      "Specificity: 0.5626\n"
     ]
    },
    {
     "data": {
      "image/png": "[encoded data removed]",
      "text/plain": [
       "<Figure size 640x480 with 1 Axes>"
      ]
     },
     "metadata": {},
     "output_type": "display_data"
    },
    {
     "data": {
      "image/png": "[encoded data removed]",
      "text/plain": [
       "<Figure size 640x480 with 1 Axes>"
      ]
     },
     "metadata": {},
     "output_type": "display_data"
    },
    {
     "data": {
      "image/png": "[encoded data removed]",
      "text/plain": [
       "<Figure size 640x480 with 1 Axes>"
      ]
     },
     "metadata": {},
     "output_type": "display_data"
    }
   ],
   "source": [
    "model.eval()\n",
    "with torch.no_grad():\n",
    "    X_test_tensor = X_test_tensor.to(device)\n",
    "    y_test_tensor = y_test_tensor.to(device)\n",
    "\n",
    "    # 予測と確率\n",
    "    test_outputs = model(X_test_tensor).squeeze()\n",
    "    predictions = (test_outputs >=0.5).float()\n",
    "    y_true = y_test_tensor.cpu().numpy()\n",
    "    y_pred = predictions.cpu().numpy()\n",
    "    y_prob = test_outputs.cpu().numpy()\n",
    "\n",
    "# 評価指標\n",
    "    accuracy = accuracy_score(y_true, y_pred)\n",
    "    precision = precision_score(y_true, y_pred)\n",
    "    recall = recall_score(y_true, y_pred)\n",
    "    f1 = f1_score(y_true, y_pred)\n",
    "    mcc = matthews_corrcoef(y_true, y_pred)\n",
    "    specificity = recall_score(y_true, y_pred, pos_label=0)  \n",
    "    print(f'Accuracy: {accuracy * 100:.2f}%')\n",
    "    print(f'Precision: {precision:.4f}')\n",
    "    print(f'Recall: {recall:.4f}')\n",
    "    print(f'F1 Score: {f1:.4f}')\n",
    "    print(f'Matthews Correlation Coefficient: {mcc:.4f}')\n",
    "    print(f'Specificity: {specificity:.4f}')\n",
    "\n",
    "    # 混同行列（割合表示）\n",
    "    cm = confusion_matrix(y_true, y_pred, normalize='true')\n",
    "    sns.heatmap(cm, annot=True, fmt=\".2%\", cmap=\"Blues\", cbar=False)\n",
    "    plt.xlabel(\"Predicted\")\n",
    "    plt.ylabel(\"Actual\")\n",
    "    plt.title(f\"Confusion Matrix (Normalized)\")\n",
    "    plt.show()\n",
    "\n",
    "    # ROC曲線とAUC\n",
    "    fpr, tpr, thresholds = roc_curve(y_true, y_prob)\n",
    "    roc_auc = auc(fpr, tpr)\n",
    "    plt.plot(fpr, tpr, label=f'ROC curve (AUC = {roc_auc:.2f})')\n",
    "    plt.plot([0, 1], [0, 1], 'k--') \n",
    "    plt.xlabel('False Positive Rate')\n",
    "    plt.ylabel('True Positive Rate')\n",
    "    plt.title(f'ROC Curve - Model ')\n",
    "    plt.legend(loc=\"lower right\")\n",
    "    plt.show()\n",
    "\n",
    "    # Precision-Recall曲線\n",
    "    precision_curve, recall_curve, pr_thresholds = precision_recall_curve(y_true, y_prob)\n",
    "    pr_auc = auc(recall_curve, precision_curve)\n",
    "    plt.plot(recall_curve, precision_curve, label=f'PR curve (AUC = {pr_auc:.2f})')\n",
    "    plt.xlabel('Recall')\n",
    "    plt.ylabel('Precision')\n",
    "    plt.title(f'Precision-Recall Curve ')\n",
    "    plt.legend(loc=\"lower left\")\n",
    "    plt.show()    "
   ]
  },
  {
   "cell_type": "code",
   "execution_count": 16,
   "metadata": {},
   "outputs": [],
   "source": [
    "# モデルと構造を保存\n",
    "torch.save(model.state_dict(), 'model_params/DNN_7.pth')\n",
    "\n",
    "\n"
   ]
  },
  {
   "cell_type": "code",
   "execution_count": 11,
   "metadata": {},
   "outputs": [
    {
     "name": "stdout",
     "output_type": "stream",
     "text": [
      "----------------------------------------------------------------\n",
      "        Layer (type)               Output Shape         Param #\n",
      "================================================================\n",
      "            Linear-1                   [-1, 32]             960\n",
      "       BatchNorm1d-2                   [-1, 32]              64\n",
      "            Linear-3                   [-1, 16]             528\n",
      "       BatchNorm1d-4                   [-1, 16]              32\n",
      "           Dropout-5                   [-1, 16]               0\n",
      "            Linear-6                    [-1, 8]             136\n",
      "       BatchNorm1d-7                    [-1, 8]              16\n",
      "            Linear-8                    [-1, 4]              36\n",
      "       BatchNorm1d-9                    [-1, 4]               8\n",
      "          Dropout-10                    [-1, 4]               0\n",
      "           Linear-11                    [-1, 1]               5\n",
      "================================================================\n",
      "Total params: 1,785\n",
      "Trainable params: 1,785\n",
      "Non-trainable params: 0\n",
      "----------------------------------------------------------------\n",
      "Input size (MB): 0.00\n",
      "Forward/backward pass size (MB): 0.00\n",
      "Params size (MB): 0.01\n",
      "Estimated Total Size (MB): 0.01\n",
      "----------------------------------------------------------------\n"
     ]
    }
   ],
   "source": [
    "from torchsummary import summary\n",
    "summary(model, input_size=(X_train_tensor.shape[1],))"
   ]
  },
  {
   "cell_type": "code",
   "execution_count": null,
   "metadata": {},
   "outputs": [],
   "source": []
  }
 ],
 "metadata": {
  "kernelspec": {
   "display_name": "torch",
   "language": "python",
   "name": "python3"
  },
  "language_info": {
   "codemirror_mode": {
    "name": "ipython",
    "version": 3
   },
   "file_extension": ".py",
   "mimetype": "text/x-python",
   "name": "python",
   "nbconvert_exporter": "python",
   "pygments_lexer": "ipython3",
   "version": "3.12.7"
  }
 },
 "nbformat": 4,
 "nbformat_minor": 2
}
