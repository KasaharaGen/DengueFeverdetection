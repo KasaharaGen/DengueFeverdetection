{
 "cells": [
  {
   "cell_type": "code",
   "execution_count": 12,
   "metadata": {},
   "outputs": [],
   "source": [
    "import numpy as np\n",
    "import pandas as pd\n",
    "import matplotlib.pyplot as plt\n",
    "import seaborn as sns\n",
    "import json\n",
    "\n",
    "import torch\n",
    "import torch.nn as nn\n",
    "import torch.optim as optim\n",
    "\n",
    "import optuna\n",
    "\n",
    "from sklearn.model_selection import train_test_split\n",
    "from sklearn.metrics import confusion_matrix,accuracy_score, precision_score, recall_score, f1_score, confusion_matrix, roc_curve, auc,matthews_corrcoef, precision_recall_curve,roc_auc_score\n",
    "\n"
   ]
  },
  {
   "cell_type": "markdown",
   "metadata": {},
   "source": [
    "データ読み取り"
   ]
  },
  {
   "cell_type": "code",
   "execution_count": 13,
   "metadata": {},
   "outputs": [],
   "source": [
    "df=pd.read_csv('learning_data.csv',index_col=0)\n",
    "\n",
    "X=df.drop(columns='dengue',axis=1).values\n",
    "y=df['dengue'].values\n",
    "\n",
    "X_train, X_test, y_train, y_test = train_test_split(X, y, test_size=0.2,random_state=42)\n",
    "X_train, X_val, y_train, y_val = train_test_split(X_train, y_train, test_size=0.1,random_state=42)\n",
    "\n",
    "#torchテンソルに変換\n",
    "X_train_tensor = torch.tensor(X_train, dtype=torch.float32)\n",
    "y_train_tensor = torch.tensor(y_train, dtype=torch.float32)\n",
    "X_test_tensor = torch.tensor(X_test, dtype=torch.float32)\n",
    "y_test_tensor = torch.tensor(y_test, dtype=torch.float32)\n",
    "X_val_tensor = torch.tensor(X_val, dtype=torch.float32)\n",
    "y_val_tensor = torch.tensor(y_val, dtype=torch.float32)\n"
   ]
  },
  {
   "cell_type": "code",
   "execution_count": 14,
   "metadata": {},
   "outputs": [],
   "source": [
    "class DNN_7(nn.Module):\n",
    "    def __init__(self, input_dim,dropout1,dropout2):\n",
    "        super(DNN_7, self).__init__()\n",
    "        self.layer1 = nn.Linear(input_dim,32)\n",
    "        self.layer2 = nn.Linear(32,16)\n",
    "        self.layer3 = nn.Linear(16, 8)\n",
    "        self.layer4 = nn.Linear(8, 4)\n",
    "        self.output_layer = nn.Linear(4, 1)\n",
    "\n",
    "        self.bn1=nn.BatchNorm1d(32)\n",
    "        self.bn2=nn.BatchNorm1d(16)\n",
    "        self.bn3=nn.BatchNorm1d(8)\n",
    "        self.bn4=nn.BatchNorm1d(4)\n",
    "\n",
    "        self.dropout1 = nn.Dropout(dropout1)\n",
    "        self.dropout2 = nn.Dropout(dropout2)\n",
    "        \n",
    "    def forward(self, x):\n",
    "        x = torch.relu(self.bn1(self.layer1(x)))\n",
    "        \n",
    "        x = torch.relu(self.bn2(self.layer2(x)))\n",
    "        x = self.dropout1(x)\n",
    "\n",
    "        x = torch.relu(self.bn3(self.layer3(x)))\n",
    "\n",
    "        x = torch.relu(self.bn4(self.layer4(x)))\n",
    "        x = self.dropout2(x)\n",
    "\n",
    "        x = torch.sigmoid(self.output_layer(x)) \n",
    "        return x\n",
    "    "
   ]
  },
  {
   "cell_type": "markdown",
   "metadata": {},
   "source": [
    "学習データセットの作成"
   ]
  },
  {
   "cell_type": "code",
   "execution_count": 15,
   "metadata": {},
   "outputs": [],
   "source": [
    "train_dataset = torch.utils.data.TensorDataset(X_train_tensor, y_train_tensor)\n",
    "train_loader = torch.utils.data.DataLoader(dataset=train_dataset, batch_size=128, shuffle=True)\n",
    "\n",
    "val_dataset = torch.utils.data.TensorDataset(X_val_tensor, y_val_tensor)\n",
    "val_loader = torch.utils.data.DataLoader(dataset=val_dataset, batch_size=128, shuffle=False)"
   ]
  },
  {
   "cell_type": "code",
   "execution_count": 16,
   "metadata": {},
   "outputs": [],
   "source": [
    "def objective(trial):\n",
    "    dropout1 = trial.suggest_float(\"dropout1\", 0, 0.5, step=0.05)\n",
    "    dropout2 = trial.suggest_float(\"dropout2\", 0, 0.5, step=0.05)\n",
    "    learning_rate = trial.suggest_loguniform(\"learning_rate\", 1e-4, 1e-1)  # 範囲を調整\n",
    "    weight_decay = trial.suggest_loguniform(\"weight_decay\", 1e-5, 1e-1)   # 範囲を調整\n",
    "\n",
    "    # モデル定義\n",
    "    model = DNN_7(\n",
    "        input_dim=X_train_tensor.shape[1],\n",
    "        dropout1=dropout1,\n",
    "        dropout2=dropout2\n",
    "    ).to(device)\n",
    "\n",
    "    criterion = nn.BCELoss()\n",
    "    optimizer = torch.optim.Adam(model.parameters(), lr=learning_rate, weight_decay=weight_decay)\n",
    "\n",
    "    # Early Stoppingの設定\n",
    "    patience = 10\n",
    "    best_val_loss = float('inf')\n",
    "    patience_counter = 0\n",
    "\n",
    "    # 訓練ループ\n",
    "    num_epochs = 100\n",
    "    for epoch in range(num_epochs):\n",
    "        model.train()\n",
    "        for X_batch, y_batch in train_loader:\n",
    "            X_batch, y_batch = X_batch.to(device), y_batch.to(device)\n",
    "            optimizer.zero_grad()\n",
    "            outputs = model(X_batch).squeeze()\n",
    "            loss = criterion(outputs, y_batch.squeeze())\n",
    "            loss.backward()\n",
    "            optimizer.step()\n",
    "\n",
    "        # バリデーション評価\n",
    "        model.eval()\n",
    "        val_loss = 0\n",
    "        val_true, val_pred = [], []\n",
    "        with torch.no_grad():\n",
    "            for X_val, y_val in val_loader:\n",
    "                X_val, y_val = X_val.to(device), y_val.to(device)\n",
    "                val_outputs = model(X_val).squeeze()\n",
    "                val_loss += criterion(val_outputs, y_val.squeeze()).item()\n",
    "                predictions = (val_outputs >=0.5).float()\n",
    "                val_true.extend(y_val.cpu().numpy())\n",
    "                val_pred.extend(predictions.cpu().numpy())\n",
    "\n",
    "        val_loss /= len(val_loader)\n",
    "\n",
    "        # Early Stoppingの判定\n",
    "        if val_loss < best_val_loss:\n",
    "            best_val_loss = val_loss\n",
    "            patience_counter = 0\n",
    "        else:\n",
    "            patience_counter += 1\n",
    "\n",
    "        if patience_counter >= patience:\n",
    "            print(f\"Early stopping at epoch {epoch}\")\n",
    "            break\n",
    "\n",
    "        # Optunaへのログ\n",
    "        trial.report(val_loss, epoch)\n",
    "        if trial.should_prune():\n",
    "            raise optuna.exceptions.TrialPruned()\n",
    "\n",
    "    # 評価指標の計算\n",
    "    mcc = matthews_corrcoef(val_true, val_pred)\n",
    "    print(f\"Final MCC: {mcc:.4f}\")\n",
    "\n",
    "    return mcc  # mccを返す\n"
   ]
  },
  {
   "cell_type": "code",
   "execution_count": 17,
   "metadata": {},
   "outputs": [
    {
     "name": "stderr",
     "output_type": "stream",
     "text": [
      "[I 2024-12-12 21:01:32,885] A new study created in memory with name: no-name-783c4947-4995-440d-ab68-2bc5a962687f\n"
     ]
    },
    {
     "name": "stderr",
     "output_type": "stream",
     "text": [
      "/tmp/ipykernel_1419439/2804199339.py:4: FutureWarning: suggest_loguniform has been deprecated in v3.0.0. This feature will be removed in v6.0.0. See https://github.com/optuna/optuna/releases/tag/v3.0.0. Use suggest_float(..., log=True) instead.\n",
      "  learning_rate = trial.suggest_loguniform(\"learning_rate\", 1e-4, 1e-1)  # 範囲を調整\n",
      "/tmp/ipykernel_1419439/2804199339.py:5: FutureWarning: suggest_loguniform has been deprecated in v3.0.0. This feature will be removed in v6.0.0. See https://github.com/optuna/optuna/releases/tag/v3.0.0. Use suggest_float(..., log=True) instead.\n",
      "  weight_decay = trial.suggest_loguniform(\"weight_decay\", 1e-5, 1e-1)   # 範囲を調整\n",
      "[I 2024-12-12 21:01:39,991] Trial 0 finished with value: 0.19540513191048425 and parameters: {'dropout1': 0.1, 'dropout2': 0.35000000000000003, 'learning_rate': 0.00031798345734489224, 'weight_decay': 0.08059934771408304}. Best is trial 0 with value: 0.19540513191048425.\n"
     ]
    },
    {
     "name": "stdout",
     "output_type": "stream",
     "text": [
      "Early stopping at epoch 50\n",
      "Final MCC: 0.1954\n"
     ]
    },
    {
     "name": "stderr",
     "output_type": "stream",
     "text": [
      "/tmp/ipykernel_1419439/2804199339.py:4: FutureWarning: suggest_loguniform has been deprecated in v3.0.0. This feature will be removed in v6.0.0. See https://github.com/optuna/optuna/releases/tag/v3.0.0. Use suggest_float(..., log=True) instead.\n",
      "  learning_rate = trial.suggest_loguniform(\"learning_rate\", 1e-4, 1e-1)  # 範囲を調整\n",
      "/tmp/ipykernel_1419439/2804199339.py:5: FutureWarning: suggest_loguniform has been deprecated in v3.0.0. This feature will be removed in v6.0.0. See https://github.com/optuna/optuna/releases/tag/v3.0.0. Use suggest_float(..., log=True) instead.\n",
      "  weight_decay = trial.suggest_loguniform(\"weight_decay\", 1e-5, 1e-1)   # 範囲を調整\n",
      "[I 2024-12-12 21:01:43,940] Trial 1 finished with value: 0.10866363883885687 and parameters: {'dropout1': 0.25, 'dropout2': 0.2, 'learning_rate': 0.0044767140153061345, 'weight_decay': 0.0006856235822442478}. Best is trial 0 with value: 0.19540513191048425.\n"
     ]
    },
    {
     "name": "stdout",
     "output_type": "stream",
     "text": [
      "Early stopping at epoch 28\n",
      "Final MCC: 0.1087\n"
     ]
    },
    {
     "name": "stderr",
     "output_type": "stream",
     "text": [
      "/tmp/ipykernel_1419439/2804199339.py:4: FutureWarning: suggest_loguniform has been deprecated in v3.0.0. This feature will be removed in v6.0.0. See https://github.com/optuna/optuna/releases/tag/v3.0.0. Use suggest_float(..., log=True) instead.\n",
      "  learning_rate = trial.suggest_loguniform(\"learning_rate\", 1e-4, 1e-1)  # 範囲を調整\n",
      "/tmp/ipykernel_1419439/2804199339.py:5: FutureWarning: suggest_loguniform has been deprecated in v3.0.0. This feature will be removed in v6.0.0. See https://github.com/optuna/optuna/releases/tag/v3.0.0. Use suggest_float(..., log=True) instead.\n",
      "  weight_decay = trial.suggest_loguniform(\"weight_decay\", 1e-5, 1e-1)   # 範囲を調整\n",
      "[I 2024-12-12 21:01:51,292] Trial 2 finished with value: 0.314309934363615 and parameters: {'dropout1': 0.25, 'dropout2': 0.15000000000000002, 'learning_rate': 0.00044830591612477204, 'weight_decay': 0.000965986281943581}. Best is trial 2 with value: 0.314309934363615.\n"
     ]
    },
    {
     "name": "stdout",
     "output_type": "stream",
     "text": [
      "Early stopping at epoch 52\n",
      "Final MCC: 0.3143\n"
     ]
    },
    {
     "name": "stderr",
     "output_type": "stream",
     "text": [
      "/tmp/ipykernel_1419439/2804199339.py:4: FutureWarning: suggest_loguniform has been deprecated in v3.0.0. This feature will be removed in v6.0.0. See https://github.com/optuna/optuna/releases/tag/v3.0.0. Use suggest_float(..., log=True) instead.\n",
      "  learning_rate = trial.suggest_loguniform(\"learning_rate\", 1e-4, 1e-1)  # 範囲を調整\n",
      "/tmp/ipykernel_1419439/2804199339.py:5: FutureWarning: suggest_loguniform has been deprecated in v3.0.0. This feature will be removed in v6.0.0. See https://github.com/optuna/optuna/releases/tag/v3.0.0. Use suggest_float(..., log=True) instead.\n",
      "  weight_decay = trial.suggest_loguniform(\"weight_decay\", 1e-5, 1e-1)   # 範囲を調整\n",
      "[I 2024-12-12 21:01:55,586] Trial 3 finished with value: 0.0 and parameters: {'dropout1': 0.15000000000000002, 'dropout2': 0.5, 'learning_rate': 0.0009969732321170339, 'weight_decay': 0.0003702546035625538}. Best is trial 2 with value: 0.314309934363615.\n"
     ]
    },
    {
     "name": "stdout",
     "output_type": "stream",
     "text": [
      "Early stopping at epoch 31\n",
      "Final MCC: 0.0000\n"
     ]
    },
    {
     "name": "stderr",
     "output_type": "stream",
     "text": [
      "/tmp/ipykernel_1419439/2804199339.py:4: FutureWarning: suggest_loguniform has been deprecated in v3.0.0. This feature will be removed in v6.0.0. See https://github.com/optuna/optuna/releases/tag/v3.0.0. Use suggest_float(..., log=True) instead.\n",
      "  learning_rate = trial.suggest_loguniform(\"learning_rate\", 1e-4, 1e-1)  # 範囲を調整\n",
      "/tmp/ipykernel_1419439/2804199339.py:5: FutureWarning: suggest_loguniform has been deprecated in v3.0.0. This feature will be removed in v6.0.0. See https://github.com/optuna/optuna/releases/tag/v3.0.0. Use suggest_float(..., log=True) instead.\n",
      "  weight_decay = trial.suggest_loguniform(\"weight_decay\", 1e-5, 1e-1)   # 範囲を調整\n",
      "[I 2024-12-12 21:01:58,722] Trial 4 finished with value: 0.15685355557141883 and parameters: {'dropout1': 0.4, 'dropout2': 0.1, 'learning_rate': 0.01779946657515538, 'weight_decay': 5.301233805967402e-05}. Best is trial 2 with value: 0.314309934363615.\n",
      "/tmp/ipykernel_1419439/2804199339.py:4: FutureWarning: suggest_loguniform has been deprecated in v3.0.0. This feature will be removed in v6.0.0. See https://github.com/optuna/optuna/releases/tag/v3.0.0. Use suggest_float(..., log=True) instead.\n",
      "  learning_rate = trial.suggest_loguniform(\"learning_rate\", 1e-4, 1e-1)  # 範囲を調整\n",
      "/tmp/ipykernel_1419439/2804199339.py:5: FutureWarning: suggest_loguniform has been deprecated in v3.0.0. This feature will be removed in v6.0.0. See https://github.com/optuna/optuna/releases/tag/v3.0.0. Use suggest_float(..., log=True) instead.\n",
      "  weight_decay = trial.suggest_loguniform(\"weight_decay\", 1e-5, 1e-1)   # 範囲を調整\n",
      "[I 2024-12-12 21:01:58,878] Trial 5 pruned. \n"
     ]
    },
    {
     "name": "stdout",
     "output_type": "stream",
     "text": [
      "Early stopping at epoch 22\n",
      "Final MCC: 0.1569\n"
     ]
    },
    {
     "name": "stderr",
     "output_type": "stream",
     "text": [
      "[I 2024-12-12 21:01:59,029] Trial 6 pruned. \n",
      "[I 2024-12-12 21:01:59,196] Trial 7 pruned. \n",
      "[I 2024-12-12 21:02:07,389] Trial 8 finished with value: 0.10078969375816504 and parameters: {'dropout1': 0.25, 'dropout2': 0.4, 'learning_rate': 0.0006096843287771189, 'weight_decay': 0.02584841868007996}. Best is trial 2 with value: 0.314309934363615.\n",
      "/tmp/ipykernel_1419439/2804199339.py:4: FutureWarning: suggest_loguniform has been deprecated in v3.0.0. This feature will be removed in v6.0.0. See https://github.com/optuna/optuna/releases/tag/v3.0.0. Use suggest_float(..., log=True) instead.\n",
      "  learning_rate = trial.suggest_loguniform(\"learning_rate\", 1e-4, 1e-1)  # 範囲を調整\n",
      "/tmp/ipykernel_1419439/2804199339.py:5: FutureWarning: suggest_loguniform has been deprecated in v3.0.0. This feature will be removed in v6.0.0. See https://github.com/optuna/optuna/releases/tag/v3.0.0. Use suggest_float(..., log=True) instead.\n",
      "  weight_decay = trial.suggest_loguniform(\"weight_decay\", 1e-5, 1e-1)   # 範囲を調整\n",
      "[I 2024-12-12 21:02:07,540] Trial 9 pruned. \n"
     ]
    },
    {
     "name": "stdout",
     "output_type": "stream",
     "text": [
      "Early stopping at epoch 59\n",
      "Final MCC: 0.1008\n"
     ]
    },
    {
     "name": "stderr",
     "output_type": "stream",
     "text": [
      "[I 2024-12-12 21:02:07,702] Trial 10 pruned. \n",
      "[I 2024-12-12 21:02:20,586] Trial 11 finished with value: 0.10701775630362755 and parameters: {'dropout1': 0.05, 'dropout2': 0.25, 'learning_rate': 0.00013779710953381786, 'weight_decay': 0.0976871519662701}. Best is trial 2 with value: 0.314309934363615.\n",
      "/tmp/ipykernel_1419439/2804199339.py:4: FutureWarning: suggest_loguniform has been deprecated in v3.0.0. This feature will be removed in v6.0.0. See https://github.com/optuna/optuna/releases/tag/v3.0.0. Use suggest_float(..., log=True) instead.\n",
      "  learning_rate = trial.suggest_loguniform(\"learning_rate\", 1e-4, 1e-1)  # 範囲を調整\n",
      "/tmp/ipykernel_1419439/2804199339.py:5: FutureWarning: suggest_loguniform has been deprecated in v3.0.0. This feature will be removed in v6.0.0. See https://github.com/optuna/optuna/releases/tag/v3.0.0. Use suggest_float(..., log=True) instead.\n",
      "  weight_decay = trial.suggest_loguniform(\"weight_decay\", 1e-5, 1e-1)   # 範囲を調整\n",
      "[I 2024-12-12 21:02:20,756] Trial 12 pruned. \n"
     ]
    },
    {
     "name": "stdout",
     "output_type": "stream",
     "text": [
      "Early stopping at epoch 92\n",
      "Final MCC: 0.1070\n"
     ]
    },
    {
     "name": "stderr",
     "output_type": "stream",
     "text": [
      "[I 2024-12-12 21:02:33,086] Trial 13 finished with value: 0.32230645338464786 and parameters: {'dropout1': 0.15000000000000002, 'dropout2': 0.30000000000000004, 'learning_rate': 0.00026425350140806025, 'weight_decay': 1.1164964225930149e-05}. Best is trial 13 with value: 0.32230645338464786.\n",
      "/tmp/ipykernel_1419439/2804199339.py:4: FutureWarning: suggest_loguniform has been deprecated in v3.0.0. This feature will be removed in v6.0.0. See https://github.com/optuna/optuna/releases/tag/v3.0.0. Use suggest_float(..., log=True) instead.\n",
      "  learning_rate = trial.suggest_loguniform(\"learning_rate\", 1e-4, 1e-1)  # 範囲を調整\n",
      "/tmp/ipykernel_1419439/2804199339.py:5: FutureWarning: suggest_loguniform has been deprecated in v3.0.0. This feature will be removed in v6.0.0. See https://github.com/optuna/optuna/releases/tag/v3.0.0. Use suggest_float(..., log=True) instead.\n",
      "  weight_decay = trial.suggest_loguniform(\"weight_decay\", 1e-5, 1e-1)   # 範囲を調整\n",
      "[I 2024-12-12 21:02:33,251] Trial 14 pruned. \n"
     ]
    },
    {
     "name": "stdout",
     "output_type": "stream",
     "text": [
      "Early stopping at epoch 88\n",
      "Final MCC: 0.3223\n"
     ]
    },
    {
     "name": "stderr",
     "output_type": "stream",
     "text": [
      "[I 2024-12-12 21:02:33,424] Trial 15 pruned. \n",
      "[I 2024-12-12 21:02:33,598] Trial 16 pruned. \n",
      "[I 2024-12-12 21:02:37,183] Trial 17 finished with value: 0.1654797217667127 and parameters: {'dropout1': 0.15000000000000002, 'dropout2': 0.30000000000000004, 'learning_rate': 0.0013362869940298336, 'weight_decay': 0.015767657211824073}. Best is trial 13 with value: 0.32230645338464786.\n"
     ]
    },
    {
     "name": "stdout",
     "output_type": "stream",
     "text": [
      "Early stopping at epoch 25\n",
      "Final MCC: 0.1655\n"
     ]
    },
    {
     "name": "stderr",
     "output_type": "stream",
     "text": [
      "/tmp/ipykernel_1419439/2804199339.py:4: FutureWarning: suggest_loguniform has been deprecated in v3.0.0. This feature will be removed in v6.0.0. See https://github.com/optuna/optuna/releases/tag/v3.0.0. Use suggest_float(..., log=True) instead.\n",
      "  learning_rate = trial.suggest_loguniform(\"learning_rate\", 1e-4, 1e-1)  # 範囲を調整\n",
      "/tmp/ipykernel_1419439/2804199339.py:5: FutureWarning: suggest_loguniform has been deprecated in v3.0.0. This feature will be removed in v6.0.0. See https://github.com/optuna/optuna/releases/tag/v3.0.0. Use suggest_float(..., log=True) instead.\n",
      "  weight_decay = trial.suggest_loguniform(\"weight_decay\", 1e-5, 1e-1)   # 範囲を調整\n",
      "[I 2024-12-12 21:02:50,899] Trial 18 finished with value: 0.06043314756960064 and parameters: {'dropout1': 0.30000000000000004, 'dropout2': 0.5, 'learning_rate': 0.0002282580621568178, 'weight_decay': 0.001800514470292604}. Best is trial 13 with value: 0.32230645338464786.\n",
      "/tmp/ipykernel_1419439/2804199339.py:4: FutureWarning: suggest_loguniform has been deprecated in v3.0.0. This feature will be removed in v6.0.0. See https://github.com/optuna/optuna/releases/tag/v3.0.0. Use suggest_float(..., log=True) instead.\n",
      "  learning_rate = trial.suggest_loguniform(\"learning_rate\", 1e-4, 1e-1)  # 範囲を調整\n",
      "/tmp/ipykernel_1419439/2804199339.py:5: FutureWarning: suggest_loguniform has been deprecated in v3.0.0. This feature will be removed in v6.0.0. See https://github.com/optuna/optuna/releases/tag/v3.0.0. Use suggest_float(..., log=True) instead.\n",
      "  weight_decay = trial.suggest_loguniform(\"weight_decay\", 1e-5, 1e-1)   # 範囲を調整\n",
      "[I 2024-12-12 21:02:51,060] Trial 19 pruned. \n"
     ]
    },
    {
     "name": "stdout",
     "output_type": "stream",
     "text": [
      "Final MCC: 0.0604\n"
     ]
    },
    {
     "name": "stderr",
     "output_type": "stream",
     "text": [
      "[I 2024-12-12 21:02:51,225] Trial 20 pruned. \n",
      "[I 2024-12-12 21:02:51,404] Trial 21 pruned. \n",
      "[I 2024-12-12 21:02:51,597] Trial 22 pruned. \n",
      "[I 2024-12-12 21:02:51,782] Trial 23 pruned. \n",
      "[I 2024-12-12 21:02:51,940] Trial 24 pruned. \n",
      "[I 2024-12-12 21:02:52,131] Trial 25 pruned. \n",
      "[I 2024-12-12 21:02:52,289] Trial 26 pruned. \n",
      "[I 2024-12-12 21:02:52,450] Trial 27 pruned. \n",
      "[I 2024-12-12 21:02:52,631] Trial 28 pruned. \n",
      "[I 2024-12-12 21:02:52,791] Trial 29 pruned. \n",
      "[I 2024-12-12 21:02:52,959] Trial 30 pruned. \n",
      "[I 2024-12-12 21:02:53,119] Trial 31 pruned. \n",
      "[I 2024-12-12 21:02:53,289] Trial 32 pruned. \n",
      "[I 2024-12-12 21:02:53,479] Trial 33 pruned. \n",
      "[I 2024-12-12 21:02:53,645] Trial 34 pruned. \n",
      "[I 2024-12-12 21:02:53,819] Trial 35 pruned. \n",
      "[I 2024-12-12 21:02:53,984] Trial 36 pruned. \n",
      "[I 2024-12-12 21:02:54,152] Trial 37 pruned. \n",
      "[I 2024-12-12 21:02:54,324] Trial 38 pruned. \n",
      "[I 2024-12-12 21:03:04,159] Trial 39 finished with value: 0.0 and parameters: {'dropout1': 0.35000000000000003, 'dropout2': 0.25, 'learning_rate': 0.00047531065745477855, 'weight_decay': 0.05951769116887473}. Best is trial 13 with value: 0.32230645338464786.\n"
     ]
    },
    {
     "name": "stdout",
     "output_type": "stream",
     "text": [
      "Early stopping at epoch 72\n",
      "Final MCC: 0.0000\n"
     ]
    },
    {
     "name": "stderr",
     "output_type": "stream",
     "text": [
      "/tmp/ipykernel_1419439/2804199339.py:4: FutureWarning: suggest_loguniform has been deprecated in v3.0.0. This feature will be removed in v6.0.0. See https://github.com/optuna/optuna/releases/tag/v3.0.0. Use suggest_float(..., log=True) instead.\n",
      "  learning_rate = trial.suggest_loguniform(\"learning_rate\", 1e-4, 1e-1)  # 範囲を調整\n",
      "/tmp/ipykernel_1419439/2804199339.py:5: FutureWarning: suggest_loguniform has been deprecated in v3.0.0. This feature will be removed in v6.0.0. See https://github.com/optuna/optuna/releases/tag/v3.0.0. Use suggest_float(..., log=True) instead.\n",
      "  weight_decay = trial.suggest_loguniform(\"weight_decay\", 1e-5, 1e-1)   # 範囲を調整\n",
      "[I 2024-12-12 21:03:11,515] Trial 40 finished with value: 0.18457240181234186 and parameters: {'dropout1': 0.25, 'dropout2': 0.1, 'learning_rate': 0.0006052340665846924, 'weight_decay': 0.004363460704765345}. Best is trial 13 with value: 0.32230645338464786.\n",
      "/tmp/ipykernel_1419439/2804199339.py:4: FutureWarning: suggest_loguniform has been deprecated in v3.0.0. This feature will be removed in v6.0.0. See https://github.com/optuna/optuna/releases/tag/v3.0.0. Use suggest_float(..., log=True) instead.\n",
      "  learning_rate = trial.suggest_loguniform(\"learning_rate\", 1e-4, 1e-1)  # 範囲を調整\n",
      "/tmp/ipykernel_1419439/2804199339.py:5: FutureWarning: suggest_loguniform has been deprecated in v3.0.0. This feature will be removed in v6.0.0. See https://github.com/optuna/optuna/releases/tag/v3.0.0. Use suggest_float(..., log=True) instead.\n",
      "  weight_decay = trial.suggest_loguniform(\"weight_decay\", 1e-5, 1e-1)   # 範囲を調整\n",
      "[I 2024-12-12 21:03:11,688] Trial 41 pruned. \n"
     ]
    },
    {
     "name": "stdout",
     "output_type": "stream",
     "text": [
      "Early stopping at epoch 56\n",
      "Final MCC: 0.1846\n"
     ]
    },
    {
     "name": "stderr",
     "output_type": "stream",
     "text": [
      "[I 2024-12-12 21:03:11,849] Trial 42 pruned. \n",
      "[I 2024-12-12 21:03:12,025] Trial 43 pruned. \n",
      "[I 2024-12-12 21:03:25,023] Trial 44 finished with value: 0.18773682623354143 and parameters: {'dropout1': 0.25, 'dropout2': 0.15000000000000002, 'learning_rate': 0.00038884072837178075, 'weight_decay': 0.0077749183222552065}. Best is trial 13 with value: 0.32230645338464786.\n",
      "/tmp/ipykernel_1419439/2804199339.py:4: FutureWarning: suggest_loguniform has been deprecated in v3.0.0. This feature will be removed in v6.0.0. See https://github.com/optuna/optuna/releases/tag/v3.0.0. Use suggest_float(..., log=True) instead.\n",
      "  learning_rate = trial.suggest_loguniform(\"learning_rate\", 1e-4, 1e-1)  # 範囲を調整\n",
      "/tmp/ipykernel_1419439/2804199339.py:5: FutureWarning: suggest_loguniform has been deprecated in v3.0.0. This feature will be removed in v6.0.0. See https://github.com/optuna/optuna/releases/tag/v3.0.0. Use suggest_float(..., log=True) instead.\n",
      "  weight_decay = trial.suggest_loguniform(\"weight_decay\", 1e-5, 1e-1)   # 範囲を調整\n",
      "[I 2024-12-12 21:03:25,183] Trial 45 pruned. \n"
     ]
    },
    {
     "name": "stdout",
     "output_type": "stream",
     "text": [
      "Early stopping at epoch 95\n",
      "Final MCC: 0.1877\n"
     ]
    },
    {
     "name": "stderr",
     "output_type": "stream",
     "text": [
      "[I 2024-12-12 21:03:35,699] Trial 46 finished with value: 0.2359356346263649 and parameters: {'dropout1': 0.35000000000000003, 'dropout2': 0.2, 'learning_rate': 0.00039551102186661857, 'weight_decay': 0.0005386808101082163}. Best is trial 13 with value: 0.32230645338464786.\n",
      "/tmp/ipykernel_1419439/2804199339.py:4: FutureWarning: suggest_loguniform has been deprecated in v3.0.0. This feature will be removed in v6.0.0. See https://github.com/optuna/optuna/releases/tag/v3.0.0. Use suggest_float(..., log=True) instead.\n",
      "  learning_rate = trial.suggest_loguniform(\"learning_rate\", 1e-4, 1e-1)  # 範囲を調整\n",
      "/tmp/ipykernel_1419439/2804199339.py:5: FutureWarning: suggest_loguniform has been deprecated in v3.0.0. This feature will be removed in v6.0.0. See https://github.com/optuna/optuna/releases/tag/v3.0.0. Use suggest_float(..., log=True) instead.\n",
      "  weight_decay = trial.suggest_loguniform(\"weight_decay\", 1e-5, 1e-1)   # 範囲を調整\n",
      "[I 2024-12-12 21:03:35,845] Trial 47 pruned. \n"
     ]
    },
    {
     "name": "stdout",
     "output_type": "stream",
     "text": [
      "Early stopping at epoch 78\n",
      "Final MCC: 0.2359\n"
     ]
    },
    {
     "name": "stderr",
     "output_type": "stream",
     "text": [
      "[I 2024-12-12 21:03:36,003] Trial 48 pruned. \n",
      "[I 2024-12-12 21:03:36,211] Trial 49 pruned. \n",
      "[I 2024-12-12 21:03:36,389] Trial 50 pruned. \n",
      "[I 2024-12-12 21:03:36,572] Trial 51 pruned. \n",
      "[I 2024-12-12 21:03:36,735] Trial 52 pruned. \n",
      "[I 2024-12-12 21:03:36,908] Trial 53 pruned. \n",
      "[I 2024-12-12 21:03:37,084] Trial 54 pruned. \n",
      "[I 2024-12-12 21:03:37,262] Trial 55 pruned. \n",
      "[I 2024-12-12 21:03:51,052] Trial 56 finished with value: 0.28195567008791605 and parameters: {'dropout1': 0.25, 'dropout2': 0.05, 'learning_rate': 0.00017340411273041509, 'weight_decay': 0.0001989889614854079}. Best is trial 13 with value: 0.32230645338464786.\n",
      "/tmp/ipykernel_1419439/2804199339.py:4: FutureWarning: suggest_loguniform has been deprecated in v3.0.0. This feature will be removed in v6.0.0. See https://github.com/optuna/optuna/releases/tag/v3.0.0. Use suggest_float(..., log=True) instead.\n",
      "  learning_rate = trial.suggest_loguniform(\"learning_rate\", 1e-4, 1e-1)  # 範囲を調整\n",
      "/tmp/ipykernel_1419439/2804199339.py:5: FutureWarning: suggest_loguniform has been deprecated in v3.0.0. This feature will be removed in v6.0.0. See https://github.com/optuna/optuna/releases/tag/v3.0.0. Use suggest_float(..., log=True) instead.\n",
      "  weight_decay = trial.suggest_loguniform(\"weight_decay\", 1e-5, 1e-1)   # 範囲を調整\n",
      "[I 2024-12-12 21:03:51,223] Trial 57 pruned. \n"
     ]
    },
    {
     "name": "stdout",
     "output_type": "stream",
     "text": [
      "Final MCC: 0.2820\n"
     ]
    },
    {
     "name": "stderr",
     "output_type": "stream",
     "text": [
      "[I 2024-12-12 21:03:51,401] Trial 58 pruned. \n",
      "[I 2024-12-12 21:03:51,557] Trial 59 pruned. \n",
      "[I 2024-12-12 21:03:51,733] Trial 60 pruned. \n",
      "[I 2024-12-12 21:03:51,909] Trial 61 pruned. \n",
      "[I 2024-12-12 21:04:04,082] Trial 62 finished with value: 0.2382666618144388 and parameters: {'dropout1': 0.25, 'dropout2': 0.1, 'learning_rate': 0.00022925470954995728, 'weight_decay': 0.009030674619455253}. Best is trial 13 with value: 0.32230645338464786.\n",
      "/tmp/ipykernel_1419439/2804199339.py:4: FutureWarning: suggest_loguniform has been deprecated in v3.0.0. This feature will be removed in v6.0.0. See https://github.com/optuna/optuna/releases/tag/v3.0.0. Use suggest_float(..., log=True) instead.\n",
      "  learning_rate = trial.suggest_loguniform(\"learning_rate\", 1e-4, 1e-1)  # 範囲を調整\n",
      "/tmp/ipykernel_1419439/2804199339.py:5: FutureWarning: suggest_loguniform has been deprecated in v3.0.0. This feature will be removed in v6.0.0. See https://github.com/optuna/optuna/releases/tag/v3.0.0. Use suggest_float(..., log=True) instead.\n",
      "  weight_decay = trial.suggest_loguniform(\"weight_decay\", 1e-5, 1e-1)   # 範囲を調整\n",
      "[I 2024-12-12 21:04:04,242] Trial 63 pruned. \n"
     ]
    },
    {
     "name": "stdout",
     "output_type": "stream",
     "text": [
      "Early stopping at epoch 88\n",
      "Final MCC: 0.2383\n"
     ]
    },
    {
     "name": "stderr",
     "output_type": "stream",
     "text": [
      "[I 2024-12-12 21:04:04,405] Trial 64 pruned. \n",
      "[I 2024-12-12 21:04:04,559] Trial 65 pruned. \n",
      "[I 2024-12-12 21:04:04,720] Trial 66 pruned. \n",
      "[I 2024-12-12 21:04:04,894] Trial 67 pruned. \n",
      "[I 2024-12-12 21:04:05,068] Trial 68 pruned. \n",
      "[I 2024-12-12 21:04:05,245] Trial 69 pruned. \n",
      "[I 2024-12-12 21:04:13,212] Trial 70 finished with value: 0.19313656219880884 and parameters: {'dropout1': 0.2, 'dropout2': 0.35000000000000003, 'learning_rate': 0.0004664642679458269, 'weight_decay': 1.1483134539901665e-05}. Best is trial 13 with value: 0.32230645338464786.\n",
      "/tmp/ipykernel_1419439/2804199339.py:4: FutureWarning: suggest_loguniform has been deprecated in v3.0.0. This feature will be removed in v6.0.0. See https://github.com/optuna/optuna/releases/tag/v3.0.0. Use suggest_float(..., log=True) instead.\n",
      "  learning_rate = trial.suggest_loguniform(\"learning_rate\", 1e-4, 1e-1)  # 範囲を調整\n",
      "/tmp/ipykernel_1419439/2804199339.py:5: FutureWarning: suggest_loguniform has been deprecated in v3.0.0. This feature will be removed in v6.0.0. See https://github.com/optuna/optuna/releases/tag/v3.0.0. Use suggest_float(..., log=True) instead.\n",
      "  weight_decay = trial.suggest_loguniform(\"weight_decay\", 1e-5, 1e-1)   # 範囲を調整\n",
      "[I 2024-12-12 21:04:13,386] Trial 71 pruned. \n"
     ]
    },
    {
     "name": "stdout",
     "output_type": "stream",
     "text": [
      "Early stopping at epoch 58\n",
      "Final MCC: 0.1931\n"
     ]
    },
    {
     "name": "stderr",
     "output_type": "stream",
     "text": [
      "[I 2024-12-12 21:04:13,559] Trial 72 pruned. \n",
      "[I 2024-12-12 21:04:27,427] Trial 73 finished with value: 0.1699266115265765 and parameters: {'dropout1': 0.2, 'dropout2': 0.35000000000000003, 'learning_rate': 0.0003800282112827362, 'weight_decay': 1.0046213020417556e-05}. Best is trial 13 with value: 0.32230645338464786.\n",
      "/tmp/ipykernel_1419439/2804199339.py:4: FutureWarning: suggest_loguniform has been deprecated in v3.0.0. This feature will be removed in v6.0.0. See https://github.com/optuna/optuna/releases/tag/v3.0.0. Use suggest_float(..., log=True) instead.\n",
      "  learning_rate = trial.suggest_loguniform(\"learning_rate\", 1e-4, 1e-1)  # 範囲を調整\n",
      "/tmp/ipykernel_1419439/2804199339.py:5: FutureWarning: suggest_loguniform has been deprecated in v3.0.0. This feature will be removed in v6.0.0. See https://github.com/optuna/optuna/releases/tag/v3.0.0. Use suggest_float(..., log=True) instead.\n",
      "  weight_decay = trial.suggest_loguniform(\"weight_decay\", 1e-5, 1e-1)   # 範囲を調整\n",
      "[I 2024-12-12 21:04:27,599] Trial 74 pruned. \n"
     ]
    },
    {
     "name": "stdout",
     "output_type": "stream",
     "text": [
      "Final MCC: 0.1699\n"
     ]
    },
    {
     "name": "stderr",
     "output_type": "stream",
     "text": [
      "[I 2024-12-12 21:04:27,759] Trial 75 pruned. \n",
      "[I 2024-12-12 21:04:27,931] Trial 76 pruned. \n",
      "[I 2024-12-12 21:04:28,110] Trial 77 pruned. \n",
      "[I 2024-12-12 21:04:29,629] Trial 78 finished with value: 0.0 and parameters: {'dropout1': 0.1, 'dropout2': 0.25, 'learning_rate': 0.00012312242372087295, 'weight_decay': 0.030638003842735472}. Best is trial 13 with value: 0.32230645338464786.\n",
      "/tmp/ipykernel_1419439/2804199339.py:4: FutureWarning: suggest_loguniform has been deprecated in v3.0.0. This feature will be removed in v6.0.0. See https://github.com/optuna/optuna/releases/tag/v3.0.0. Use suggest_float(..., log=True) instead.\n",
      "  learning_rate = trial.suggest_loguniform(\"learning_rate\", 1e-4, 1e-1)  # 範囲を調整\n",
      "/tmp/ipykernel_1419439/2804199339.py:5: FutureWarning: suggest_loguniform has been deprecated in v3.0.0. This feature will be removed in v6.0.0. See https://github.com/optuna/optuna/releases/tag/v3.0.0. Use suggest_float(..., log=True) instead.\n",
      "  weight_decay = trial.suggest_loguniform(\"weight_decay\", 1e-5, 1e-1)   # 範囲を調整\n",
      "[I 2024-12-12 21:04:29,800] Trial 79 pruned. \n"
     ]
    },
    {
     "name": "stdout",
     "output_type": "stream",
     "text": [
      "Early stopping at epoch 10\n",
      "Final MCC: 0.0000\n"
     ]
    },
    {
     "name": "stderr",
     "output_type": "stream",
     "text": [
      "[I 2024-12-12 21:04:29,968] Trial 80 pruned. \n",
      "[I 2024-12-12 21:04:30,134] Trial 81 pruned. \n",
      "[I 2024-12-12 21:04:30,298] Trial 82 pruned. \n",
      "[I 2024-12-12 21:04:30,467] Trial 83 pruned. \n",
      "[I 2024-12-12 21:04:30,635] Trial 84 pruned. \n",
      "[I 2024-12-12 21:04:30,797] Trial 85 pruned. \n",
      "[I 2024-12-12 21:04:30,954] Trial 86 pruned. \n",
      "[I 2024-12-12 21:04:31,118] Trial 87 pruned. \n",
      "[I 2024-12-12 21:04:31,295] Trial 88 pruned. \n",
      "[I 2024-12-12 21:04:31,468] Trial 89 pruned. \n",
      "[I 2024-12-12 21:04:31,635] Trial 90 pruned. \n",
      "[I 2024-12-12 21:04:31,815] Trial 91 pruned. \n",
      "[I 2024-12-12 21:04:32,000] Trial 92 pruned. \n",
      "[I 2024-12-12 21:04:32,178] Trial 93 pruned. \n",
      "[I 2024-12-12 21:04:32,375] Trial 94 pruned. \n",
      "[I 2024-12-12 21:04:32,551] Trial 95 pruned. \n",
      "[I 2024-12-12 21:04:32,727] Trial 96 pruned. \n",
      "[I 2024-12-12 21:04:32,889] Trial 97 pruned. \n",
      "[I 2024-12-12 21:04:33,058] Trial 98 pruned. \n",
      "[I 2024-12-12 21:04:33,239] Trial 99 pruned. \n"
     ]
    },
    {
     "name": "stdout",
     "output_type": "stream",
     "text": [
      "Best Parameters:  {'dropout1': 0.15000000000000002, 'dropout2': 0.30000000000000004, 'learning_rate': 0.00026425350140806025, 'weight_decay': 1.1164964225930149e-05}\n",
      "Best Validation F1:  0.32230645338464786\n"
     ]
    }
   ],
   "source": [
    "device_id = 0  # 使用するGPUのID（0または1）\n",
    "torch.cuda.set_device(device_id)\n",
    "device = torch.device(f\"cuda:{device_id}\" if torch.cuda.is_available() else \"cpu\")\n",
    "\n",
    "# Optunaの設定\n",
    "study = optuna.create_study(direction=\"maximize\")  \n",
    "study.optimize(objective, n_trials=100)\n",
    "\n",
    "# 結果表示\n",
    "print(\"Best Parameters: \", study.best_params)\n",
    "print(\"Best Validation F1: \", study.best_value)"
   ]
  },
  {
   "cell_type": "code",
   "execution_count": 18,
   "metadata": {},
   "outputs": [
    {
     "name": "stdout",
     "output_type": "stream",
     "text": [
      "Best parameters saved to 'best_params.json'\n"
     ]
    }
   ],
   "source": [
    "best_params = study.best_params\n",
    "\n",
    "# JSON形式で保存\n",
    "with open(\"optim_param/optim_DNN_7_params.json\", \"w\") as f:\n",
    "    json.dump(best_params, f)\n",
    "\n",
    "print(\"Best parameters saved to 'best_params.json'\")"
   ]
  },
  {
   "cell_type": "code",
   "execution_count": 45,
   "metadata": {},
   "outputs": [
    {
     "name": "stdout",
     "output_type": "stream",
     "text": [
      "Epoch [1/50], Loss: 0.6964\n",
      "Epoch [1/50], Train Loss: 0.6964, Val Loss: 0.7118\n",
      "Epoch [2/50], Loss: 0.6852\n",
      "Epoch [2/50], Train Loss: 0.6852, Val Loss: 0.6826\n",
      "Epoch [3/50], Loss: 0.6736\n",
      "Epoch [3/50], Train Loss: 0.6736, Val Loss: 0.6700\n",
      "Epoch [4/50], Loss: 0.6632\n",
      "Epoch [4/50], Train Loss: 0.6632, Val Loss: 0.6622\n",
      "Epoch [5/50], Loss: 0.6589\n",
      "Epoch [5/50], Train Loss: 0.6589, Val Loss: 0.6540\n",
      "Epoch [6/50], Loss: 0.6505\n",
      "Epoch [6/50], Train Loss: 0.6505, Val Loss: 0.6418\n",
      "Epoch [7/50], Loss: 0.6393\n",
      "Epoch [7/50], Train Loss: 0.6393, Val Loss: 0.6397\n",
      "Epoch [8/50], Loss: 0.6383\n",
      "Epoch [8/50], Train Loss: 0.6383, Val Loss: 0.6325\n",
      "Epoch [9/50], Loss: 0.6278\n",
      "Epoch [9/50], Train Loss: 0.6278, Val Loss: 0.6296\n",
      "Epoch [10/50], Loss: 0.6246\n",
      "Epoch [10/50], Train Loss: 0.6246, Val Loss: 0.6257\n",
      "Epoch [11/50], Loss: 0.6206\n",
      "Epoch [11/50], Train Loss: 0.6206, Val Loss: 0.6229\n",
      "Epoch [12/50], Loss: 0.6193\n",
      "Epoch [12/50], Train Loss: 0.6193, Val Loss: 0.6175\n",
      "Epoch [13/50], Loss: 0.6173\n",
      "Epoch [13/50], Train Loss: 0.6173, Val Loss: 0.6168\n",
      "Epoch [14/50], Loss: 0.6120\n",
      "Epoch [14/50], Train Loss: 0.6120, Val Loss: 0.6141\n",
      "Epoch [15/50], Loss: 0.6061\n",
      "Epoch [15/50], Train Loss: 0.6061, Val Loss: 0.6103\n",
      "Epoch [16/50], Loss: 0.6061\n",
      "Epoch [16/50], Train Loss: 0.6061, Val Loss: 0.6069\n",
      "Epoch [17/50], Loss: 0.6055\n",
      "Epoch [17/50], Train Loss: 0.6055, Val Loss: 0.6051\n",
      "Epoch [18/50], Loss: 0.5991\n",
      "Epoch [18/50], Train Loss: 0.5991, Val Loss: 0.6017\n",
      "Epoch [19/50], Loss: 0.6002\n",
      "Epoch [19/50], Train Loss: 0.6002, Val Loss: 0.5998\n",
      "Epoch [20/50], Loss: 0.6011\n",
      "Epoch [20/50], Train Loss: 0.6011, Val Loss: 0.6017\n",
      "Epoch [21/50], Loss: 0.5945\n",
      "Epoch [21/50], Train Loss: 0.5945, Val Loss: 0.6003\n",
      "Epoch [22/50], Loss: 0.5906\n",
      "Epoch [22/50], Train Loss: 0.5906, Val Loss: 0.5978\n",
      "Epoch [23/50], Loss: 0.5925\n",
      "Epoch [23/50], Train Loss: 0.5925, Val Loss: 0.5967\n",
      "Epoch [24/50], Loss: 0.5886\n",
      "Epoch [24/50], Train Loss: 0.5886, Val Loss: 0.5944\n",
      "Epoch [25/50], Loss: 0.5873\n",
      "Epoch [25/50], Train Loss: 0.5873, Val Loss: 0.5932\n",
      "Epoch [26/50], Loss: 0.5874\n",
      "Epoch [26/50], Train Loss: 0.5874, Val Loss: 0.5923\n",
      "Epoch [27/50], Loss: 0.5872\n",
      "Epoch [27/50], Train Loss: 0.5872, Val Loss: 0.5896\n",
      "Epoch [28/50], Loss: 0.5838\n",
      "Epoch [28/50], Train Loss: 0.5838, Val Loss: 0.5888\n",
      "Epoch [29/50], Loss: 0.5829\n",
      "Epoch [29/50], Train Loss: 0.5829, Val Loss: 0.5877\n",
      "Epoch [30/50], Loss: 0.5800\n",
      "Epoch [30/50], Train Loss: 0.5800, Val Loss: 0.5871\n",
      "Epoch [31/50], Loss: 0.5821\n",
      "Epoch [31/50], Train Loss: 0.5821, Val Loss: 0.5860\n",
      "Epoch [32/50], Loss: 0.5828\n",
      "Epoch [32/50], Train Loss: 0.5828, Val Loss: 0.5860\n",
      "Epoch [33/50], Loss: 0.5802\n",
      "Epoch [33/50], Train Loss: 0.5802, Val Loss: 0.5848\n",
      "Epoch [34/50], Loss: 0.5751\n",
      "Epoch [34/50], Train Loss: 0.5751, Val Loss: 0.5852\n",
      "Epoch [35/50], Loss: 0.5757\n",
      "Epoch [35/50], Train Loss: 0.5757, Val Loss: 0.5843\n",
      "Epoch [36/50], Loss: 0.5722\n",
      "Epoch [36/50], Train Loss: 0.5722, Val Loss: 0.5822\n",
      "Epoch [37/50], Loss: 0.5741\n",
      "Epoch [37/50], Train Loss: 0.5741, Val Loss: 0.5827\n",
      "Epoch [38/50], Loss: 0.5761\n",
      "Epoch [38/50], Train Loss: 0.5761, Val Loss: 0.5820\n",
      "Epoch [39/50], Loss: 0.5737\n",
      "Epoch [39/50], Train Loss: 0.5737, Val Loss: 0.5816\n",
      "Epoch [40/50], Loss: 0.5729\n",
      "Epoch [40/50], Train Loss: 0.5729, Val Loss: 0.5813\n",
      "Epoch [41/50], Loss: 0.5698\n",
      "Epoch [41/50], Train Loss: 0.5698, Val Loss: 0.5807\n",
      "Epoch [42/50], Loss: 0.5725\n",
      "Epoch [42/50], Train Loss: 0.5725, Val Loss: 0.5794\n",
      "Epoch [43/50], Loss: 0.5701\n",
      "Epoch [43/50], Train Loss: 0.5701, Val Loss: 0.5786\n",
      "Epoch [44/50], Loss: 0.5706\n",
      "Epoch [44/50], Train Loss: 0.5706, Val Loss: 0.5778\n",
      "Epoch [45/50], Loss: 0.5684\n",
      "Epoch [45/50], Train Loss: 0.5684, Val Loss: 0.5759\n",
      "Epoch [46/50], Loss: 0.5703\n",
      "Epoch [46/50], Train Loss: 0.5703, Val Loss: 0.5757\n",
      "Epoch [47/50], Loss: 0.5649\n",
      "Epoch [47/50], Train Loss: 0.5649, Val Loss: 0.5752\n",
      "Epoch [48/50], Loss: 0.5635\n",
      "Epoch [48/50], Train Loss: 0.5635, Val Loss: 0.5733\n",
      "Epoch [49/50], Loss: 0.5627\n",
      "Epoch [49/50], Train Loss: 0.5627, Val Loss: 0.5744\n",
      "Epoch [50/50], Loss: 0.5633\n",
      "Epoch [50/50], Train Loss: 0.5633, Val Loss: 0.5744\n"
     ]
    },
    {
     "data": {
      "image/png": "[encoded data removed]",
      "text/plain": [
       "<Figure size 1000x600 with 1 Axes>"
      ]
     },
     "metadata": {},
     "output_type": "display_data"
    }
   ],
   "source": [
    "best_params=study.best_params\n",
    "model = DNN_7(input_dim=X_train_tensor.shape[1],\n",
    "              dropout1=best_params[\"dropout1\"],\n",
    "              dropout2=best_params[\"dropout2\"],).to(device)\n",
    "# 最適化と訓練を実行\n",
    "optimizer = optim.Adam(model.parameters(), lr=best_params[\"learning_rate\"],weight_decay=best_params[\"weight_decay\"])\n",
    "criterion = nn.BCELoss()\n",
    "\n",
    "num_epochs=50\n",
    "train_losses = []\n",
    "val_losses = []\n",
    "\n",
    "model.train()\n",
    "for epoch in range(num_epochs):\n",
    "    epoch_train_loss = 0\n",
    "    epoch_val_loss = 0\n",
    "\n",
    "    for X_batch, y_batch in train_loader:\n",
    "        X_batch, y_batch = X_batch.to(device), y_batch.to(device)\n",
    "        optimizer.zero_grad()\n",
    "        outputs = model(X_batch).squeeze()\n",
    "        loss = criterion(outputs, y_batch.squeeze())\n",
    "        loss.backward()\n",
    "        optimizer.step()\n",
    "        epoch_train_loss += loss.item()\n",
    "    avg_train_loss = epoch_train_loss / len(train_loader)\n",
    "    train_losses.append(avg_train_loss)\n",
    "    print(f'Epoch [{epoch+1}/{num_epochs}], Loss: {avg_train_loss:.4f}')\n",
    "\n",
    "    if val_loader is not None:\n",
    "        model.eval()  \n",
    "        with torch.no_grad():\n",
    "            for X_val, y_val in val_loader:\n",
    "                X_val, y_val = X_val.to(device), y_val.to(device)\n",
    "                val_outputs = model(X_val).squeeze()\n",
    "                val_loss = criterion(val_outputs, y_val.squeeze())\n",
    "                epoch_val_loss += val_loss.item()\n",
    "\n",
    "        avg_val_loss = epoch_val_loss / len(val_loader)\n",
    "        val_losses.append(avg_val_loss)\n",
    "        model.train()  \n",
    "\n",
    "    if val_loader is not None:\n",
    "        print(f\"Epoch [{epoch+1}/{num_epochs}], Train Loss: {avg_train_loss:.4f}, Val Loss: {avg_val_loss:.4f}\")\n",
    "    else:\n",
    "        print(f\"Epoch [{epoch+1}/{num_epochs}], Train Loss: {avg_train_loss:.4f}\")\n",
    "\n",
    "plt.figure(figsize=(10, 6))\n",
    "plt.plot(range(1, num_epochs + 1), train_losses, label='Train Loss')\n",
    "if val_losses:\n",
    "    plt.plot(range(1, num_epochs + 1), val_losses, label='Validation Loss')\n",
    "plt.xlabel('Epoch')\n",
    "plt.ylabel('Loss')\n",
    "plt.title('Learning Curve for DNN7')\n",
    "plt.legend()\n",
    "plt.grid()\n",
    "plt.show()"
   ]
  },
  {
   "cell_type": "code",
   "execution_count": 46,
   "metadata": {},
   "outputs": [
    {
     "name": "stdout",
     "output_type": "stream",
     "text": [
      "Accuracy: 59.11%\n",
      "Precision: 0.4777\n",
      "Recall: 0.6313\n",
      "F1 Score: 0.5438\n",
      "Matthews Correlation Coefficient: 0.1920\n",
      "Specificity: 0.5659\n"
     ]
    },
    {
     "data": {
      "image/png": "[encoded data removed]",
      "text/plain": [
       "<Figure size 640x480 with 1 Axes>"
      ]
     },
     "metadata": {},
     "output_type": "display_data"
    },
    {
     "data": {
      "image/png": "[encoded data removed]",
      "text/plain": [
       "<Figure size 640x480 with 1 Axes>"
      ]
     },
     "metadata": {},
     "output_type": "display_data"
    },
    {
     "data": {
      "image/png": "[encoded data removed]",
      "text/plain": [
       "<Figure size 640x480 with 1 Axes>"
      ]
     },
     "metadata": {},
     "output_type": "display_data"
    }
   ],
   "source": [
    "model.eval()\n",
    "with torch.no_grad():\n",
    "    X_test_tensor = X_test_tensor.to(device)\n",
    "    y_test_tensor = y_test_tensor.to(device)\n",
    "\n",
    "    # 予測と確率\n",
    "    test_outputs = model(X_test_tensor).squeeze()\n",
    "    predictions = (test_outputs >=0.5).float()\n",
    "    y_true = y_test_tensor.cpu().numpy()\n",
    "    y_pred = predictions.cpu().numpy()\n",
    "    y_prob = test_outputs.cpu().numpy()\n",
    "\n",
    "# 評価指標\n",
    "    accuracy = accuracy_score(y_true, y_pred)\n",
    "    precision = precision_score(y_true, y_pred)\n",
    "    recall = recall_score(y_true, y_pred)\n",
    "    f1 = f1_score(y_true, y_pred)\n",
    "    mcc = matthews_corrcoef(y_true, y_pred)\n",
    "    specificity = recall_score(y_true, y_pred, pos_label=0)  \n",
    "    print(f'Accuracy: {accuracy * 100:.2f}%')\n",
    "    print(f'Precision: {precision:.4f}')\n",
    "    print(f'Recall: {recall:.4f}')\n",
    "    print(f'F1 Score: {f1:.4f}')\n",
    "    print(f'Matthews Correlation Coefficient: {mcc:.4f}')\n",
    "    print(f'Specificity: {specificity:.4f}')\n",
    "\n",
    "    # 混同行列（割合表示）\n",
    "    cm = confusion_matrix(y_true, y_pred, normalize='true')\n",
    "    sns.heatmap(cm, annot=True, fmt=\".2%\", cmap=\"Blues\", cbar=False)\n",
    "    plt.xlabel(\"Predicted\")\n",
    "    plt.ylabel(\"Actual\")\n",
    "    plt.title(f\"Confusion Matrix (Normalized)\")\n",
    "    plt.show()\n",
    "\n",
    "    # ROC曲線とAUC\n",
    "    fpr, tpr, thresholds = roc_curve(y_true, y_prob)\n",
    "    roc_auc = auc(fpr, tpr)\n",
    "    plt.plot(fpr, tpr, label=f'ROC curve (AUC = {roc_auc:.2f})')\n",
    "    plt.plot([0, 1], [0, 1], 'k--') \n",
    "    plt.xlabel('False Positive Rate')\n",
    "    plt.ylabel('True Positive Rate')\n",
    "    plt.title(f'ROC Curve - Model ')\n",
    "    plt.legend(loc=\"lower right\")\n",
    "    plt.show()\n",
    "\n",
    "    # Precision-Recall曲線\n",
    "    precision_curve, recall_curve, pr_thresholds = precision_recall_curve(y_true, y_prob)\n",
    "    pr_auc = auc(recall_curve, precision_curve)\n",
    "    plt.plot(recall_curve, precision_curve, label=f'PR curve (AUC = {pr_auc:.2f})')\n",
    "    plt.xlabel('Recall')\n",
    "    plt.ylabel('Precision')\n",
    "    plt.title(f'Precision-Recall Curve ')\n",
    "    plt.legend(loc=\"lower left\")\n",
    "    plt.show()    "
   ]
  },
  {
   "cell_type": "code",
   "execution_count": 21,
   "metadata": {},
   "outputs": [],
   "source": [
    "# モデルと構造を保存\n",
    "torch.save(model.state_dict(), 'model_params/DNN_7.pth')\n",
    "\n",
    "\n"
   ]
  },
  {
   "cell_type": "code",
   "execution_count": 22,
   "metadata": {},
   "outputs": [
    {
     "name": "stdout",
     "output_type": "stream",
     "text": [
      "----------------------------------------------------------------\n",
      "        Layer (type)               Output Shape         Param #\n",
      "================================================================\n",
      "            Linear-1                   [-1, 32]             960\n",
      "       BatchNorm1d-2                   [-1, 32]              64\n",
      "            Linear-3                   [-1, 16]             528\n",
      "       BatchNorm1d-4                   [-1, 16]              32\n",
      "           Dropout-5                   [-1, 16]               0\n",
      "            Linear-6                    [-1, 8]             136\n",
      "       BatchNorm1d-7                    [-1, 8]              16\n",
      "            Linear-8                    [-1, 4]              36\n",
      "       BatchNorm1d-9                    [-1, 4]               8\n",
      "          Dropout-10                    [-1, 4]               0\n",
      "           Linear-11                    [-1, 1]               5\n",
      "================================================================\n",
      "Total params: 1,785\n",
      "Trainable params: 1,785\n",
      "Non-trainable params: 0\n",
      "----------------------------------------------------------------\n",
      "Input size (MB): 0.00\n",
      "Forward/backward pass size (MB): 0.00\n",
      "Params size (MB): 0.01\n",
      "Estimated Total Size (MB): 0.01\n",
      "----------------------------------------------------------------\n"
     ]
    }
   ],
   "source": [
    "from torchsummary import summary\n",
    "summary(model, input_size=(X_train_tensor.shape[1],))"
   ]
  },
  {
   "cell_type": "code",
   "execution_count": null,
   "metadata": {},
   "outputs": [],
   "source": []
  }
 ],
 "metadata": {
  "kernelspec": {
   "display_name": "torch",
   "language": "python",
   "name": "python3"
  },
  "language_info": {
   "codemirror_mode": {
    "name": "ipython",
    "version": 3
   },
   "file_extension": ".py",
   "mimetype": "text/x-python",
   "name": "python",
   "nbconvert_exporter": "python",
   "pygments_lexer": "ipython3",
   "version": "3.12.7"
  }
 },
 "nbformat": 4,
 "nbformat_minor": 2
}
