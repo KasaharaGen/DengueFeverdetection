{
 "cells": [
  {
   "cell_type": "code",
   "execution_count": 73,
   "metadata": {},
   "outputs": [],
   "source": [
    "import numpy as np\n",
    "import pandas as pd\n",
    "import matplotlib.pyplot as plt\n",
    "import seaborn as sns\n",
    "import json\n",
    "\n",
    "import torch\n",
    "import torch.nn as nn\n",
    "import torch.optim as optim\n",
    "\n",
    "import optuna\n",
    "\n",
    "from sklearn.model_selection import train_test_split\n",
    "from sklearn.metrics import confusion_matrix,accuracy_score, precision_score, recall_score, f1_score, confusion_matrix, roc_curve, auc,matthews_corrcoef, precision_recall_curve,roc_auc_score\n",
    "\n"
   ]
  },
  {
   "cell_type": "markdown",
   "metadata": {},
   "source": [
    "データ読み取り"
   ]
  },
  {
   "cell_type": "code",
   "execution_count": 74,
   "metadata": {},
   "outputs": [],
   "source": [
    "df=pd.read_csv('learning_data.csv',index_col=0)\n",
    "\n",
    "X=df.drop(columns='dengue',axis=1).values\n",
    "y=df['dengue'].values\n",
    "\n",
    "X_train, X_test, y_train, y_test = train_test_split(X, y, test_size=0.2,random_state=42)\n",
    "X_train, X_val, y_train, y_val = train_test_split(X_train, y_train, test_size=0.1,random_state=42)\n",
    "\n",
    "#torchテンソルに変換\n",
    "X_train_tensor = torch.tensor(X_train, dtype=torch.float32)\n",
    "y_train_tensor = torch.tensor(y_train, dtype=torch.float32)\n",
    "X_test_tensor = torch.tensor(X_test, dtype=torch.float32)\n",
    "y_test_tensor = torch.tensor(y_test, dtype=torch.float32)\n",
    "X_val_tensor = torch.tensor(X_val, dtype=torch.float32)\n",
    "y_val_tensor = torch.tensor(y_val, dtype=torch.float32)\n"
   ]
  },
  {
   "cell_type": "code",
   "execution_count": 75,
   "metadata": {},
   "outputs": [],
   "source": [
    "class DNN_3(nn.Module):\n",
    "    def __init__(self, input_dim,dropout1,dropout2):\n",
    "        super(DNN_3, self).__init__()\n",
    "        self.layer1 = nn.Linear(input_dim,32)\n",
    "        self.layer2 = nn.Linear(32,16)\n",
    "        self.layer3 = nn.Linear(16, 8)\n",
    "        self.layer4 = nn.Linear(8, 4)\n",
    "        self.output_layer = nn.Linear(4, 1)\n",
    "\n",
    "        self.bn1=nn.BatchNorm1d(32)\n",
    "        self.bn2=nn.BatchNorm1d(16)\n",
    "        self.bn3=nn.BatchNorm1d(8)\n",
    "        self.bn4=nn.BatchNorm1d(4)\n",
    "\n",
    "        self.dropout1 = nn.Dropout(dropout1)\n",
    "        self.dropout2 = nn.Dropout(dropout2)        \n",
    "        \n",
    "    def forward(self, x):\n",
    "        x = torch.relu(self.bn1(self.layer1(x)))\n",
    "        \n",
    "        x = torch.relu(self.bn2(self.layer2(x)))\n",
    "        x = self.dropout1(x)\n",
    "\n",
    "        x = torch.relu(self.bn3(self.layer3(x)))\n",
    "        x = self.dropout2(x)\n",
    "\n",
    "        x = torch.relu(self.bn4(self.layer4(x)))\n",
    "    \n",
    "\n",
    "        x = torch.sigmoid(self.output_layer(x)) \n",
    "        return x\n",
    "    "
   ]
  },
  {
   "cell_type": "markdown",
   "metadata": {},
   "source": [
    "学習データセットの作成"
   ]
  },
  {
   "cell_type": "code",
   "execution_count": 76,
   "metadata": {},
   "outputs": [],
   "source": [
    "train_dataset = torch.utils.data.TensorDataset(X_train_tensor, y_train_tensor)\n",
    "train_loader = torch.utils.data.DataLoader(dataset=train_dataset, batch_size=128, shuffle=True)\n",
    "\n",
    "val_dataset = torch.utils.data.TensorDataset(X_val_tensor, y_val_tensor)\n",
    "val_loader = torch.utils.data.DataLoader(dataset=val_dataset, batch_size=128, shuffle=False)"
   ]
  },
  {
   "cell_type": "markdown",
   "metadata": {},
   "source": [
    "Optunaの設定"
   ]
  },
  {
   "cell_type": "code",
   "execution_count": 77,
   "metadata": {},
   "outputs": [],
   "source": [
    "def objective(trial):\n",
    "    # ハイパーパラメータのサンプリング\n",
    "    dropout1 = trial.suggest_float(\"dropout1\", 0, 0.5, step=0.05)\n",
    "    dropout2 = trial.suggest_float(\"dropout2\", 0, 0.5, step=0.05)\n",
    "    learning_rate = trial.suggest_loguniform(\"learning_rate\", 1e-5, 1e-2)  \n",
    "    weight_decay = trial.suggest_loguniform(\"weight_decay\", 1e-5, 1e-2)   \n",
    "\n",
    "    # モデル定義\n",
    "    model = DNN_3(\n",
    "        input_dim=X_train_tensor.shape[1],\n",
    "        dropout1=dropout1,\n",
    "        dropout2=dropout2,\n",
    "    ).to(device)\n",
    "\n",
    "    criterion = nn.BCELoss()\n",
    "    optimizer = torch.optim.Adam(model.parameters(), lr=learning_rate, weight_decay=weight_decay)\n",
    "\n",
    "    # Early Stoppingの設定\n",
    "    patience = 10\n",
    "    best_val_loss = float('inf')\n",
    "    patience_counter = 0\n",
    "\n",
    "    # 訓練ループ\n",
    "    num_epochs = 100\n",
    "    for epoch in range(num_epochs):\n",
    "        model.train()\n",
    "        for X_batch, y_batch in train_loader:\n",
    "            X_batch, y_batch = X_batch.to(device), y_batch.to(device)\n",
    "            optimizer.zero_grad()\n",
    "            outputs = model(X_batch).squeeze()\n",
    "            loss = criterion(outputs, y_batch.squeeze())\n",
    "            loss.backward()\n",
    "            optimizer.step()\n",
    "\n",
    "        # バリデーション評価\n",
    "        model.eval()\n",
    "        val_loss = 0\n",
    "        val_true, val_pred = [], []\n",
    "        with torch.no_grad():\n",
    "            for X_val, y_val in val_loader:\n",
    "                X_val, y_val = X_val.to(device), y_val.to(device)\n",
    "                val_outputs = model(X_val).squeeze()\n",
    "                val_loss += criterion(val_outputs, y_val.squeeze()).item()\n",
    "                predictions = (val_outputs >=0.5).float()\n",
    "                val_true.extend(y_val.cpu().numpy())\n",
    "                val_pred.extend(predictions.cpu().numpy())\n",
    "\n",
    "        val_loss /= len(val_loader)\n",
    "\n",
    "        # Early Stopping判定\n",
    "        if val_loss < best_val_loss:\n",
    "            best_val_loss = val_loss\n",
    "            patience_counter = 0\n",
    "        else:\n",
    "            patience_counter += 1\n",
    "\n",
    "        if patience_counter >= patience:\n",
    "            print(f\"Early stopping at epoch {epoch}\")\n",
    "            break\n",
    "\n",
    "        # Optunaへのログ\n",
    "        trial.report(val_loss, epoch)\n",
    "        if trial.should_prune():\n",
    "            raise optuna.exceptions.TrialPruned()\n",
    "\n",
    "    # 最終的な評価指標を計算\n",
    "    mcc = matthews_corrcoef(val_true, val_pred)\n",
    "    print(f\"Final MCC: {mcc:.4f}\")\n",
    "\n",
    "    return mcc  # mccを返す\n"
   ]
  },
  {
   "cell_type": "code",
   "execution_count": 78,
   "metadata": {},
   "outputs": [
    {
     "name": "stderr",
     "output_type": "stream",
     "text": [
      "[I 2024-12-12 21:01:24,352] A new study created in memory with name: no-name-0eb48224-ab6d-4e60-b992-07dc408af77a\n",
      "/tmp/ipykernel_1273305/2951396850.py:5: FutureWarning: suggest_loguniform has been deprecated in v3.0.0. This feature will be removed in v6.0.0. See https://github.com/optuna/optuna/releases/tag/v3.0.0. Use suggest_float(..., log=True) instead.\n",
      "  learning_rate = trial.suggest_loguniform(\"learning_rate\", 1e-5, 1e-2)\n",
      "/tmp/ipykernel_1273305/2951396850.py:6: FutureWarning: suggest_loguniform has been deprecated in v3.0.0. This feature will be removed in v6.0.0. See https://github.com/optuna/optuna/releases/tag/v3.0.0. Use suggest_float(..., log=True) instead.\n",
      "  weight_decay = trial.suggest_loguniform(\"weight_decay\", 1e-5, 1e-2)\n",
      "[I 2024-12-12 21:01:27,222] Trial 0 finished with value: 0.17178444039967622 and parameters: {'dropout1': 0.05, 'dropout2': 0.2, 'learning_rate': 0.001872863327797232, 'weight_decay': 5.248431490291908e-05}. Best is trial 0 with value: 0.17178444039967622.\n"
     ]
    },
    {
     "name": "stdout",
     "output_type": "stream",
     "text": [
      "Early stopping at epoch 20\n",
      "Final MCC: 0.1718\n"
     ]
    },
    {
     "name": "stderr",
     "output_type": "stream",
     "text": [
      "/tmp/ipykernel_1273305/2951396850.py:5: FutureWarning: suggest_loguniform has been deprecated in v3.0.0. This feature will be removed in v6.0.0. See https://github.com/optuna/optuna/releases/tag/v3.0.0. Use suggest_float(..., log=True) instead.\n",
      "  learning_rate = trial.suggest_loguniform(\"learning_rate\", 1e-5, 1e-2)\n",
      "/tmp/ipykernel_1273305/2951396850.py:6: FutureWarning: suggest_loguniform has been deprecated in v3.0.0. This feature will be removed in v6.0.0. See https://github.com/optuna/optuna/releases/tag/v3.0.0. Use suggest_float(..., log=True) instead.\n",
      "  weight_decay = trial.suggest_loguniform(\"weight_decay\", 1e-5, 1e-2)\n",
      "[I 2024-12-12 21:01:30,439] Trial 1 finished with value: 0.14723484577827733 and parameters: {'dropout1': 0.0, 'dropout2': 0.45, 'learning_rate': 0.001841032824197234, 'weight_decay': 0.00669309466660485}. Best is trial 0 with value: 0.17178444039967622.\n"
     ]
    },
    {
     "name": "stdout",
     "output_type": "stream",
     "text": [
      "Early stopping at epoch 23\n",
      "Final MCC: 0.1472\n"
     ]
    },
    {
     "name": "stderr",
     "output_type": "stream",
     "text": [
      "/tmp/ipykernel_1273305/2951396850.py:5: FutureWarning: suggest_loguniform has been deprecated in v3.0.0. This feature will be removed in v6.0.0. See https://github.com/optuna/optuna/releases/tag/v3.0.0. Use suggest_float(..., log=True) instead.\n",
      "  learning_rate = trial.suggest_loguniform(\"learning_rate\", 1e-5, 1e-2)\n",
      "/tmp/ipykernel_1273305/2951396850.py:6: FutureWarning: suggest_loguniform has been deprecated in v3.0.0. This feature will be removed in v6.0.0. See https://github.com/optuna/optuna/releases/tag/v3.0.0. Use suggest_float(..., log=True) instead.\n",
      "  weight_decay = trial.suggest_loguniform(\"weight_decay\", 1e-5, 1e-2)\n",
      "[I 2024-12-12 21:01:43,976] Trial 2 finished with value: 0.29862117000407584 and parameters: {'dropout1': 0.15000000000000002, 'dropout2': 0.25, 'learning_rate': 6.316933712244374e-05, 'weight_decay': 0.00010855572018482166}. Best is trial 2 with value: 0.29862117000407584.\n"
     ]
    },
    {
     "name": "stdout",
     "output_type": "stream",
     "text": [
      "Final MCC: 0.2986\n"
     ]
    },
    {
     "name": "stderr",
     "output_type": "stream",
     "text": [
      "/tmp/ipykernel_1273305/2951396850.py:5: FutureWarning: suggest_loguniform has been deprecated in v3.0.0. This feature will be removed in v6.0.0. See https://github.com/optuna/optuna/releases/tag/v3.0.0. Use suggest_float(..., log=True) instead.\n",
      "  learning_rate = trial.suggest_loguniform(\"learning_rate\", 1e-5, 1e-2)\n",
      "/tmp/ipykernel_1273305/2951396850.py:6: FutureWarning: suggest_loguniform has been deprecated in v3.0.0. This feature will be removed in v6.0.0. See https://github.com/optuna/optuna/releases/tag/v3.0.0. Use suggest_float(..., log=True) instead.\n",
      "  weight_decay = trial.suggest_loguniform(\"weight_decay\", 1e-5, 1e-2)\n",
      "[I 2024-12-12 21:01:51,211] Trial 3 finished with value: 0.19855375551163723 and parameters: {'dropout1': 0.45, 'dropout2': 0.25, 'learning_rate': 0.00079222157245916, 'weight_decay': 1.4416603630866451e-05}. Best is trial 2 with value: 0.29862117000407584.\n"
     ]
    },
    {
     "name": "stdout",
     "output_type": "stream",
     "text": [
      "Early stopping at epoch 51\n",
      "Final MCC: 0.1986\n"
     ]
    },
    {
     "name": "stderr",
     "output_type": "stream",
     "text": [
      "/tmp/ipykernel_1273305/2951396850.py:5: FutureWarning: suggest_loguniform has been deprecated in v3.0.0. This feature will be removed in v6.0.0. See https://github.com/optuna/optuna/releases/tag/v3.0.0. Use suggest_float(..., log=True) instead.\n",
      "  learning_rate = trial.suggest_loguniform(\"learning_rate\", 1e-5, 1e-2)\n",
      "/tmp/ipykernel_1273305/2951396850.py:6: FutureWarning: suggest_loguniform has been deprecated in v3.0.0. This feature will be removed in v6.0.0. See https://github.com/optuna/optuna/releases/tag/v3.0.0. Use suggest_float(..., log=True) instead.\n",
      "  weight_decay = trial.suggest_loguniform(\"weight_decay\", 1e-5, 1e-2)\n",
      "[I 2024-12-12 21:02:04,788] Trial 4 finished with value: 0.16731513750211338 and parameters: {'dropout1': 0.5, 'dropout2': 0.4, 'learning_rate': 3.3608444190617814e-05, 'weight_decay': 0.007518158196773405}. Best is trial 2 with value: 0.29862117000407584.\n",
      "/tmp/ipykernel_1273305/2951396850.py:5: FutureWarning: suggest_loguniform has been deprecated in v3.0.0. This feature will be removed in v6.0.0. See https://github.com/optuna/optuna/releases/tag/v3.0.0. Use suggest_float(..., log=True) instead.\n",
      "  learning_rate = trial.suggest_loguniform(\"learning_rate\", 1e-5, 1e-2)\n",
      "/tmp/ipykernel_1273305/2951396850.py:6: FutureWarning: suggest_loguniform has been deprecated in v3.0.0. This feature will be removed in v6.0.0. See https://github.com/optuna/optuna/releases/tag/v3.0.0. Use suggest_float(..., log=True) instead.\n",
      "  weight_decay = trial.suggest_loguniform(\"weight_decay\", 1e-5, 1e-2)\n",
      "[I 2024-12-12 21:02:04,938] Trial 5 pruned. \n"
     ]
    },
    {
     "name": "stdout",
     "output_type": "stream",
     "text": [
      "Final MCC: 0.1673\n"
     ]
    },
    {
     "name": "stderr",
     "output_type": "stream",
     "text": [
      "[I 2024-12-12 21:02:05,093] Trial 6 pruned. \n",
      "[I 2024-12-12 21:02:05,248] Trial 7 pruned. \n",
      "[I 2024-12-12 21:02:05,401] Trial 8 pruned. \n",
      "[I 2024-12-12 21:02:19,187] Trial 9 finished with value: 0.31649513887630376 and parameters: {'dropout1': 0.45, 'dropout2': 0.45, 'learning_rate': 8.264167402196808e-05, 'weight_decay': 0.007505979235537053}. Best is trial 9 with value: 0.31649513887630376.\n",
      "/tmp/ipykernel_1273305/2951396850.py:5: FutureWarning: suggest_loguniform has been deprecated in v3.0.0. This feature will be removed in v6.0.0. See https://github.com/optuna/optuna/releases/tag/v3.0.0. Use suggest_float(..., log=True) instead.\n",
      "  learning_rate = trial.suggest_loguniform(\"learning_rate\", 1e-5, 1e-2)\n",
      "/tmp/ipykernel_1273305/2951396850.py:6: FutureWarning: suggest_loguniform has been deprecated in v3.0.0. This feature will be removed in v6.0.0. See https://github.com/optuna/optuna/releases/tag/v3.0.0. Use suggest_float(..., log=True) instead.\n",
      "  weight_decay = trial.suggest_loguniform(\"weight_decay\", 1e-5, 1e-2)\n",
      "[I 2024-12-12 21:02:19,353] Trial 10 pruned. \n"
     ]
    },
    {
     "name": "stdout",
     "output_type": "stream",
     "text": [
      "Final MCC: 0.3165\n"
     ]
    },
    {
     "name": "stderr",
     "output_type": "stream",
     "text": [
      "[I 2024-12-12 21:02:19,534] Trial 11 pruned. \n",
      "[I 2024-12-12 21:02:19,730] Trial 12 pruned. \n",
      "[I 2024-12-12 21:02:26,239] Trial 13 finished with value: 0.11321572440630542 and parameters: {'dropout1': 0.2, 'dropout2': 0.15000000000000002, 'learning_rate': 0.0006061782255632384, 'weight_decay': 0.0018992319549111009}. Best is trial 9 with value: 0.31649513887630376.\n"
     ]
    },
    {
     "name": "stdout",
     "output_type": "stream",
     "text": [
      "Early stopping at epoch 46\n",
      "Final MCC: 0.1132\n"
     ]
    },
    {
     "name": "stderr",
     "output_type": "stream",
     "text": [
      "/tmp/ipykernel_1273305/2951396850.py:5: FutureWarning: suggest_loguniform has been deprecated in v3.0.0. This feature will be removed in v6.0.0. See https://github.com/optuna/optuna/releases/tag/v3.0.0. Use suggest_float(..., log=True) instead.\n",
      "  learning_rate = trial.suggest_loguniform(\"learning_rate\", 1e-5, 1e-2)\n",
      "/tmp/ipykernel_1273305/2951396850.py:6: FutureWarning: suggest_loguniform has been deprecated in v3.0.0. This feature will be removed in v6.0.0. See https://github.com/optuna/optuna/releases/tag/v3.0.0. Use suggest_float(..., log=True) instead.\n",
      "  weight_decay = trial.suggest_loguniform(\"weight_decay\", 1e-5, 1e-2)\n",
      "[I 2024-12-12 21:02:39,975] Trial 14 finished with value: 0.219148292318179 and parameters: {'dropout1': 0.4, 'dropout2': 0.35000000000000003, 'learning_rate': 1.3992852920299239e-05, 'weight_decay': 0.00014767011549402025}. Best is trial 9 with value: 0.31649513887630376.\n",
      "/tmp/ipykernel_1273305/2951396850.py:5: FutureWarning: suggest_loguniform has been deprecated in v3.0.0. This feature will be removed in v6.0.0. See https://github.com/optuna/optuna/releases/tag/v3.0.0. Use suggest_float(..., log=True) instead.\n",
      "  learning_rate = trial.suggest_loguniform(\"learning_rate\", 1e-5, 1e-2)\n",
      "/tmp/ipykernel_1273305/2951396850.py:6: FutureWarning: suggest_loguniform has been deprecated in v3.0.0. This feature will be removed in v6.0.0. See https://github.com/optuna/optuna/releases/tag/v3.0.0. Use suggest_float(..., log=True) instead.\n",
      "  weight_decay = trial.suggest_loguniform(\"weight_decay\", 1e-5, 1e-2)\n",
      "[I 2024-12-12 21:02:40,134] Trial 15 pruned. \n"
     ]
    },
    {
     "name": "stdout",
     "output_type": "stream",
     "text": [
      "Final MCC: 0.2191\n"
     ]
    },
    {
     "name": "stderr",
     "output_type": "stream",
     "text": [
      "[I 2024-12-12 21:02:40,311] Trial 16 pruned. \n",
      "[I 2024-12-12 21:02:40,490] Trial 17 pruned. \n",
      "[I 2024-12-12 21:02:54,215] Trial 18 finished with value: 0.29817371283399563 and parameters: {'dropout1': 0.4, 'dropout2': 0.35000000000000003, 'learning_rate': 0.000331270720356166, 'weight_decay': 0.00010723009310499378}. Best is trial 9 with value: 0.31649513887630376.\n",
      "/tmp/ipykernel_1273305/2951396850.py:5: FutureWarning: suggest_loguniform has been deprecated in v3.0.0. This feature will be removed in v6.0.0. See https://github.com/optuna/optuna/releases/tag/v3.0.0. Use suggest_float(..., log=True) instead.\n",
      "  learning_rate = trial.suggest_loguniform(\"learning_rate\", 1e-5, 1e-2)\n",
      "/tmp/ipykernel_1273305/2951396850.py:6: FutureWarning: suggest_loguniform has been deprecated in v3.0.0. This feature will be removed in v6.0.0. See https://github.com/optuna/optuna/releases/tag/v3.0.0. Use suggest_float(..., log=True) instead.\n",
      "  weight_decay = trial.suggest_loguniform(\"weight_decay\", 1e-5, 1e-2)\n",
      "[I 2024-12-12 21:02:54,380] Trial 19 pruned. \n"
     ]
    },
    {
     "name": "stdout",
     "output_type": "stream",
     "text": [
      "Final MCC: 0.2982\n"
     ]
    },
    {
     "name": "stderr",
     "output_type": "stream",
     "text": [
      "[I 2024-12-12 21:02:54,548] Trial 20 pruned. \n",
      "[I 2024-12-12 21:02:54,719] Trial 21 pruned. \n",
      "[I 2024-12-12 21:02:54,908] Trial 22 pruned. \n",
      "[I 2024-12-12 21:02:55,072] Trial 23 pruned. \n",
      "[I 2024-12-12 21:03:07,183] Trial 24 finished with value: 0.2994352830433584 and parameters: {'dropout1': 0.45, 'dropout2': 0.35000000000000003, 'learning_rate': 0.00034115856306847584, 'weight_decay': 0.00017044638253117526}. Best is trial 9 with value: 0.31649513887630376.\n"
     ]
    },
    {
     "name": "stdout",
     "output_type": "stream",
     "text": [
      "Early stopping at epoch 88\n",
      "Final MCC: 0.2994\n"
     ]
    },
    {
     "name": "stderr",
     "output_type": "stream",
     "text": [
      "/tmp/ipykernel_1273305/2951396850.py:5: FutureWarning: suggest_loguniform has been deprecated in v3.0.0. This feature will be removed in v6.0.0. See https://github.com/optuna/optuna/releases/tag/v3.0.0. Use suggest_float(..., log=True) instead.\n",
      "  learning_rate = trial.suggest_loguniform(\"learning_rate\", 1e-5, 1e-2)\n",
      "/tmp/ipykernel_1273305/2951396850.py:6: FutureWarning: suggest_loguniform has been deprecated in v3.0.0. This feature will be removed in v6.0.0. See https://github.com/optuna/optuna/releases/tag/v3.0.0. Use suggest_float(..., log=True) instead.\n",
      "  weight_decay = trial.suggest_loguniform(\"weight_decay\", 1e-5, 1e-2)\n",
      "[I 2024-12-12 21:03:14,217] Trial 25 finished with value: 0.2376337980408968 and parameters: {'dropout1': 0.45, 'dropout2': 0.45, 'learning_rate': 0.0008983857918556915, 'weight_decay': 0.00022528913922157417}. Best is trial 9 with value: 0.31649513887630376.\n",
      "/tmp/ipykernel_1273305/2951396850.py:5: FutureWarning: suggest_loguniform has been deprecated in v3.0.0. This feature will be removed in v6.0.0. See https://github.com/optuna/optuna/releases/tag/v3.0.0. Use suggest_float(..., log=True) instead.\n",
      "  learning_rate = trial.suggest_loguniform(\"learning_rate\", 1e-5, 1e-2)\n",
      "/tmp/ipykernel_1273305/2951396850.py:6: FutureWarning: suggest_loguniform has been deprecated in v3.0.0. This feature will be removed in v6.0.0. See https://github.com/optuna/optuna/releases/tag/v3.0.0. Use suggest_float(..., log=True) instead.\n",
      "  weight_decay = trial.suggest_loguniform(\"weight_decay\", 1e-5, 1e-2)\n",
      "[I 2024-12-12 21:03:14,412] Trial 26 pruned. \n"
     ]
    },
    {
     "name": "stdout",
     "output_type": "stream",
     "text": [
      "Early stopping at epoch 54\n",
      "Final MCC: 0.2376\n"
     ]
    },
    {
     "name": "stderr",
     "output_type": "stream",
     "text": [
      "[I 2024-12-12 21:03:14,585] Trial 27 pruned. \n",
      "[I 2024-12-12 21:03:24,101] Trial 28 finished with value: 0.3 and parameters: {'dropout1': 0.35000000000000003, 'dropout2': 0.4, 'learning_rate': 0.0004525877516414231, 'weight_decay': 0.00016075199591655576}. Best is trial 9 with value: 0.31649513887630376.\n",
      "/tmp/ipykernel_1273305/2951396850.py:5: FutureWarning: suggest_loguniform has been deprecated in v3.0.0. This feature will be removed in v6.0.0. See https://github.com/optuna/optuna/releases/tag/v3.0.0. Use suggest_float(..., log=True) instead.\n",
      "  learning_rate = trial.suggest_loguniform(\"learning_rate\", 1e-5, 1e-2)\n",
      "/tmp/ipykernel_1273305/2951396850.py:6: FutureWarning: suggest_loguniform has been deprecated in v3.0.0. This feature will be removed in v6.0.0. See https://github.com/optuna/optuna/releases/tag/v3.0.0. Use suggest_float(..., log=True) instead.\n",
      "  weight_decay = trial.suggest_loguniform(\"weight_decay\", 1e-5, 1e-2)\n",
      "[I 2024-12-12 21:03:24,269] Trial 29 pruned. \n"
     ]
    },
    {
     "name": "stdout",
     "output_type": "stream",
     "text": [
      "Early stopping at epoch 71\n",
      "Final MCC: 0.3000\n"
     ]
    },
    {
     "name": "stderr",
     "output_type": "stream",
     "text": [
      "[I 2024-12-12 21:03:24,471] Trial 30 pruned. \n",
      "[I 2024-12-12 21:03:36,679] Trial 31 finished with value: 0.19633793724223814 and parameters: {'dropout1': 0.30000000000000004, 'dropout2': 0.45, 'learning_rate': 0.00028722797594004306, 'weight_decay': 0.00016014256801044507}. Best is trial 9 with value: 0.31649513887630376.\n"
     ]
    },
    {
     "name": "stdout",
     "output_type": "stream",
     "text": [
      "Early stopping at epoch 94\n",
      "Final MCC: 0.1963\n"
     ]
    },
    {
     "name": "stderr",
     "output_type": "stream",
     "text": [
      "/tmp/ipykernel_1273305/2951396850.py:5: FutureWarning: suggest_loguniform has been deprecated in v3.0.0. This feature will be removed in v6.0.0. See https://github.com/optuna/optuna/releases/tag/v3.0.0. Use suggest_float(..., log=True) instead.\n",
      "  learning_rate = trial.suggest_loguniform(\"learning_rate\", 1e-5, 1e-2)\n",
      "/tmp/ipykernel_1273305/2951396850.py:6: FutureWarning: suggest_loguniform has been deprecated in v3.0.0. This feature will be removed in v6.0.0. See https://github.com/optuna/optuna/releases/tag/v3.0.0. Use suggest_float(..., log=True) instead.\n",
      "  weight_decay = trial.suggest_loguniform(\"weight_decay\", 1e-5, 1e-2)\n",
      "[I 2024-12-12 21:03:50,229] Trial 32 finished with value: 0.3007160357898652 and parameters: {'dropout1': 0.35000000000000003, 'dropout2': 0.2, 'learning_rate': 0.00013133994553242917, 'weight_decay': 8.101966483206038e-05}. Best is trial 9 with value: 0.31649513887630376.\n"
     ]
    },
    {
     "name": "stdout",
     "output_type": "stream",
     "text": [
      "Final MCC: 0.3007\n"
     ]
    },
    {
     "name": "stderr",
     "output_type": "stream",
     "text": [
      "/tmp/ipykernel_1273305/2951396850.py:5: FutureWarning: suggest_loguniform has been deprecated in v3.0.0. This feature will be removed in v6.0.0. See https://github.com/optuna/optuna/releases/tag/v3.0.0. Use suggest_float(..., log=True) instead.\n",
      "  learning_rate = trial.suggest_loguniform(\"learning_rate\", 1e-5, 1e-2)\n",
      "/tmp/ipykernel_1273305/2951396850.py:6: FutureWarning: suggest_loguniform has been deprecated in v3.0.0. This feature will be removed in v6.0.0. See https://github.com/optuna/optuna/releases/tag/v3.0.0. Use suggest_float(..., log=True) instead.\n",
      "  weight_decay = trial.suggest_loguniform(\"weight_decay\", 1e-5, 1e-2)\n",
      "[I 2024-12-12 21:04:03,862] Trial 33 finished with value: 0.20833432133577753 and parameters: {'dropout1': 0.35000000000000003, 'dropout2': 0.2, 'learning_rate': 0.00015610465843050056, 'weight_decay': 2.4416603847702897e-05}. Best is trial 9 with value: 0.31649513887630376.\n"
     ]
    },
    {
     "name": "stdout",
     "output_type": "stream",
     "text": [
      "Final MCC: 0.2083\n"
     ]
    },
    {
     "name": "stderr",
     "output_type": "stream",
     "text": [
      "/tmp/ipykernel_1273305/2951396850.py:5: FutureWarning: suggest_loguniform has been deprecated in v3.0.0. This feature will be removed in v6.0.0. See https://github.com/optuna/optuna/releases/tag/v3.0.0. Use suggest_float(..., log=True) instead.\n",
      "  learning_rate = trial.suggest_loguniform(\"learning_rate\", 1e-5, 1e-2)\n",
      "/tmp/ipykernel_1273305/2951396850.py:6: FutureWarning: suggest_loguniform has been deprecated in v3.0.0. This feature will be removed in v6.0.0. See https://github.com/optuna/optuna/releases/tag/v3.0.0. Use suggest_float(..., log=True) instead.\n",
      "  weight_decay = trial.suggest_loguniform(\"weight_decay\", 1e-5, 1e-2)\n",
      "[I 2024-12-12 21:04:12,023] Trial 34 finished with value: 0.23312805226068925 and parameters: {'dropout1': 0.45, 'dropout2': 0.30000000000000004, 'learning_rate': 0.0009301160081056489, 'weight_decay': 8.385814855498463e-05}. Best is trial 9 with value: 0.31649513887630376.\n",
      "/tmp/ipykernel_1273305/2951396850.py:5: FutureWarning: suggest_loguniform has been deprecated in v3.0.0. This feature will be removed in v6.0.0. See https://github.com/optuna/optuna/releases/tag/v3.0.0. Use suggest_float(..., log=True) instead.\n",
      "  learning_rate = trial.suggest_loguniform(\"learning_rate\", 1e-5, 1e-2)\n",
      "/tmp/ipykernel_1273305/2951396850.py:6: FutureWarning: suggest_loguniform has been deprecated in v3.0.0. This feature will be removed in v6.0.0. See https://github.com/optuna/optuna/releases/tag/v3.0.0. Use suggest_float(..., log=True) instead.\n",
      "  weight_decay = trial.suggest_loguniform(\"weight_decay\", 1e-5, 1e-2)\n",
      "[I 2024-12-12 21:04:12,184] Trial 35 pruned. \n"
     ]
    },
    {
     "name": "stdout",
     "output_type": "stream",
     "text": [
      "Early stopping at epoch 60\n",
      "Final MCC: 0.2331\n"
     ]
    },
    {
     "name": "stderr",
     "output_type": "stream",
     "text": [
      "[I 2024-12-12 21:04:12,376] Trial 36 pruned. \n",
      "[I 2024-12-12 21:04:12,541] Trial 37 pruned. \n",
      "[I 2024-12-12 21:04:12,719] Trial 38 pruned. \n",
      "[I 2024-12-12 21:04:12,880] Trial 39 pruned. \n",
      "[I 2024-12-12 21:04:13,042] Trial 40 pruned. \n",
      "[I 2024-12-12 21:04:13,226] Trial 41 pruned. \n",
      "[I 2024-12-12 21:04:13,397] Trial 42 pruned. \n",
      "[I 2024-12-12 21:04:13,569] Trial 43 pruned. \n",
      "[I 2024-12-12 21:04:13,750] Trial 44 pruned. \n",
      "[I 2024-12-12 21:04:13,937] Trial 45 pruned. \n",
      "[I 2024-12-12 21:04:14,143] Trial 46 pruned. \n",
      "[I 2024-12-12 21:04:14,322] Trial 47 pruned. \n",
      "[I 2024-12-12 21:04:14,508] Trial 48 pruned. \n",
      "[I 2024-12-12 21:04:14,685] Trial 49 pruned. \n",
      "[I 2024-12-12 21:04:14,863] Trial 50 pruned. \n",
      "[I 2024-12-12 21:04:15,049] Trial 51 pruned. \n",
      "[I 2024-12-12 21:04:15,225] Trial 52 pruned. \n",
      "[I 2024-12-12 21:04:15,419] Trial 53 pruned. \n",
      "[I 2024-12-12 21:04:29,040] Trial 54 finished with value: 0.25848218607652274 and parameters: {'dropout1': 0.35000000000000003, 'dropout2': 0.2, 'learning_rate': 0.0001125464943652972, 'weight_decay': 0.00010927066995680319}. Best is trial 9 with value: 0.31649513887630376.\n",
      "/tmp/ipykernel_1273305/2951396850.py:5: FutureWarning: suggest_loguniform has been deprecated in v3.0.0. This feature will be removed in v6.0.0. See https://github.com/optuna/optuna/releases/tag/v3.0.0. Use suggest_float(..., log=True) instead.\n",
      "  learning_rate = trial.suggest_loguniform(\"learning_rate\", 1e-5, 1e-2)\n",
      "/tmp/ipykernel_1273305/2951396850.py:6: FutureWarning: suggest_loguniform has been deprecated in v3.0.0. This feature will be removed in v6.0.0. See https://github.com/optuna/optuna/releases/tag/v3.0.0. Use suggest_float(..., log=True) instead.\n",
      "  weight_decay = trial.suggest_loguniform(\"weight_decay\", 1e-5, 1e-2)\n",
      "[I 2024-12-12 21:04:29,218] Trial 55 pruned. \n"
     ]
    },
    {
     "name": "stdout",
     "output_type": "stream",
     "text": [
      "Final MCC: 0.2585\n"
     ]
    },
    {
     "name": "stderr",
     "output_type": "stream",
     "text": [
      "[I 2024-12-12 21:04:29,395] Trial 56 pruned. \n",
      "[I 2024-12-12 21:04:43,028] Trial 57 finished with value: 0.3414512274193722 and parameters: {'dropout1': 0.45, 'dropout2': 0.35000000000000003, 'learning_rate': 0.00019337134823389538, 'weight_decay': 0.0002362350896918934}. Best is trial 57 with value: 0.3414512274193722.\n",
      "/tmp/ipykernel_1273305/2951396850.py:5: FutureWarning: suggest_loguniform has been deprecated in v3.0.0. This feature will be removed in v6.0.0. See https://github.com/optuna/optuna/releases/tag/v3.0.0. Use suggest_float(..., log=True) instead.\n",
      "  learning_rate = trial.suggest_loguniform(\"learning_rate\", 1e-5, 1e-2)\n",
      "/tmp/ipykernel_1273305/2951396850.py:6: FutureWarning: suggest_loguniform has been deprecated in v3.0.0. This feature will be removed in v6.0.0. See https://github.com/optuna/optuna/releases/tag/v3.0.0. Use suggest_float(..., log=True) instead.\n",
      "  weight_decay = trial.suggest_loguniform(\"weight_decay\", 1e-5, 1e-2)\n",
      "[I 2024-12-12 21:04:43,210] Trial 58 pruned. \n"
     ]
    },
    {
     "name": "stdout",
     "output_type": "stream",
     "text": [
      "Final MCC: 0.3415\n"
     ]
    },
    {
     "name": "stderr",
     "output_type": "stream",
     "text": [
      "[I 2024-12-12 21:04:43,389] Trial 59 pruned. \n",
      "[I 2024-12-12 21:04:55,454] Trial 60 finished with value: 0.3170212343900439 and parameters: {'dropout1': 0.2, 'dropout2': 0.1, 'learning_rate': 6.265322919569261e-05, 'weight_decay': 0.00020725920153490197}. Best is trial 57 with value: 0.3414512274193722.\n",
      "/tmp/ipykernel_1273305/2951396850.py:5: FutureWarning: suggest_loguniform has been deprecated in v3.0.0. This feature will be removed in v6.0.0. See https://github.com/optuna/optuna/releases/tag/v3.0.0. Use suggest_float(..., log=True) instead.\n",
      "  learning_rate = trial.suggest_loguniform(\"learning_rate\", 1e-5, 1e-2)\n",
      "/tmp/ipykernel_1273305/2951396850.py:6: FutureWarning: suggest_loguniform has been deprecated in v3.0.0. This feature will be removed in v6.0.0. See https://github.com/optuna/optuna/releases/tag/v3.0.0. Use suggest_float(..., log=True) instead.\n",
      "  weight_decay = trial.suggest_loguniform(\"weight_decay\", 1e-5, 1e-2)\n",
      "[I 2024-12-12 21:04:55,631] Trial 61 pruned. \n"
     ]
    },
    {
     "name": "stdout",
     "output_type": "stream",
     "text": [
      "Final MCC: 0.3170\n"
     ]
    },
    {
     "name": "stderr",
     "output_type": "stream",
     "text": [
      "[I 2024-12-12 21:04:55,785] Trial 62 pruned. \n",
      "[I 2024-12-12 21:04:55,971] Trial 63 pruned. \n",
      "[I 2024-12-12 21:04:56,126] Trial 64 pruned. \n",
      "[I 2024-12-12 21:04:56,317] Trial 65 pruned. \n",
      "[I 2024-12-12 21:05:09,555] Trial 66 finished with value: 0.18825952192984557 and parameters: {'dropout1': 0.45, 'dropout2': 0.35000000000000003, 'learning_rate': 0.0001607162734195895, 'weight_decay': 0.00012982799145153865}. Best is trial 57 with value: 0.3414512274193722.\n",
      "/tmp/ipykernel_1273305/2951396850.py:5: FutureWarning: suggest_loguniform has been deprecated in v3.0.0. This feature will be removed in v6.0.0. See https://github.com/optuna/optuna/releases/tag/v3.0.0. Use suggest_float(..., log=True) instead.\n",
      "  learning_rate = trial.suggest_loguniform(\"learning_rate\", 1e-5, 1e-2)\n",
      "/tmp/ipykernel_1273305/2951396850.py:6: FutureWarning: suggest_loguniform has been deprecated in v3.0.0. This feature will be removed in v6.0.0. See https://github.com/optuna/optuna/releases/tag/v3.0.0. Use suggest_float(..., log=True) instead.\n",
      "  weight_decay = trial.suggest_loguniform(\"weight_decay\", 1e-5, 1e-2)\n",
      "[I 2024-12-12 21:05:09,726] Trial 67 pruned. \n"
     ]
    },
    {
     "name": "stdout",
     "output_type": "stream",
     "text": [
      "Final MCC: 0.1883\n"
     ]
    },
    {
     "name": "stderr",
     "output_type": "stream",
     "text": [
      "[I 2024-12-12 21:05:09,913] Trial 68 pruned. \n",
      "[I 2024-12-12 21:05:10,107] Trial 69 pruned. \n",
      "[I 2024-12-12 21:05:10,297] Trial 70 pruned. \n",
      "[I 2024-12-12 21:05:10,480] Trial 71 pruned. \n",
      "[I 2024-12-12 21:05:10,685] Trial 72 pruned. \n",
      "[I 2024-12-12 21:05:10,846] Trial 73 pruned. \n",
      "[I 2024-12-12 21:05:11,045] Trial 74 pruned. \n",
      "[I 2024-12-12 21:05:19,398] Trial 75 finished with value: 0.18947120559162642 and parameters: {'dropout1': 0.35000000000000003, 'dropout2': 0.30000000000000004, 'learning_rate': 0.0007855529069774804, 'weight_decay': 8.495525451618416e-05}. Best is trial 57 with value: 0.3414512274193722.\n"
     ]
    },
    {
     "name": "stdout",
     "output_type": "stream",
     "text": [
      "Early stopping at epoch 63\n",
      "Final MCC: 0.1895\n"
     ]
    },
    {
     "name": "stderr",
     "output_type": "stream",
     "text": [
      "/tmp/ipykernel_1273305/2951396850.py:5: FutureWarning: suggest_loguniform has been deprecated in v3.0.0. This feature will be removed in v6.0.0. See https://github.com/optuna/optuna/releases/tag/v3.0.0. Use suggest_float(..., log=True) instead.\n",
      "  learning_rate = trial.suggest_loguniform(\"learning_rate\", 1e-5, 1e-2)\n",
      "/tmp/ipykernel_1273305/2951396850.py:6: FutureWarning: suggest_loguniform has been deprecated in v3.0.0. This feature will be removed in v6.0.0. See https://github.com/optuna/optuna/releases/tag/v3.0.0. Use suggest_float(..., log=True) instead.\n",
      "  weight_decay = trial.suggest_loguniform(\"weight_decay\", 1e-5, 1e-2)\n",
      "[I 2024-12-12 21:05:32,717] Trial 76 finished with value: 0.2960782006243549 and parameters: {'dropout1': 0.4, 'dropout2': 0.35000000000000003, 'learning_rate': 8.514982662888025e-05, 'weight_decay': 5.198982926837915e-05}. Best is trial 57 with value: 0.3414512274193722.\n",
      "/tmp/ipykernel_1273305/2951396850.py:5: FutureWarning: suggest_loguniform has been deprecated in v3.0.0. This feature will be removed in v6.0.0. See https://github.com/optuna/optuna/releases/tag/v3.0.0. Use suggest_float(..., log=True) instead.\n",
      "  learning_rate = trial.suggest_loguniform(\"learning_rate\", 1e-5, 1e-2)\n",
      "/tmp/ipykernel_1273305/2951396850.py:6: FutureWarning: suggest_loguniform has been deprecated in v3.0.0. This feature will be removed in v6.0.0. See https://github.com/optuna/optuna/releases/tag/v3.0.0. Use suggest_float(..., log=True) instead.\n",
      "  weight_decay = trial.suggest_loguniform(\"weight_decay\", 1e-5, 1e-2)\n",
      "[I 2024-12-12 21:05:32,881] Trial 77 pruned. \n"
     ]
    },
    {
     "name": "stdout",
     "output_type": "stream",
     "text": [
      "Final MCC: 0.2961\n"
     ]
    },
    {
     "name": "stderr",
     "output_type": "stream",
     "text": [
      "[I 2024-12-12 21:05:33,071] Trial 78 pruned. \n",
      "[I 2024-12-12 21:05:46,871] Trial 79 finished with value: 0.30854497241083023 and parameters: {'dropout1': 0.05, 'dropout2': 0.30000000000000004, 'learning_rate': 4.994830651197291e-05, 'weight_decay': 3.399548813063874e-05}. Best is trial 57 with value: 0.3414512274193722.\n",
      "/tmp/ipykernel_1273305/2951396850.py:5: FutureWarning: suggest_loguniform has been deprecated in v3.0.0. This feature will be removed in v6.0.0. See https://github.com/optuna/optuna/releases/tag/v3.0.0. Use suggest_float(..., log=True) instead.\n",
      "  learning_rate = trial.suggest_loguniform(\"learning_rate\", 1e-5, 1e-2)\n",
      "/tmp/ipykernel_1273305/2951396850.py:6: FutureWarning: suggest_loguniform has been deprecated in v3.0.0. This feature will be removed in v6.0.0. See https://github.com/optuna/optuna/releases/tag/v3.0.0. Use suggest_float(..., log=True) instead.\n",
      "  weight_decay = trial.suggest_loguniform(\"weight_decay\", 1e-5, 1e-2)\n",
      "[I 2024-12-12 21:05:47,072] Trial 80 pruned. \n"
     ]
    },
    {
     "name": "stdout",
     "output_type": "stream",
     "text": [
      "Final MCC: 0.3085\n"
     ]
    },
    {
     "name": "stderr",
     "output_type": "stream",
     "text": [
      "[I 2024-12-12 21:06:00,047] Trial 81 finished with value: 0.3367671614515858 and parameters: {'dropout1': 0.05, 'dropout2': 0.30000000000000004, 'learning_rate': 2.814819276896285e-05, 'weight_decay': 1.7673431543181007e-05}. Best is trial 57 with value: 0.3414512274193722.\n",
      "/tmp/ipykernel_1273305/2951396850.py:5: FutureWarning: suggest_loguniform has been deprecated in v3.0.0. This feature will be removed in v6.0.0. See https://github.com/optuna/optuna/releases/tag/v3.0.0. Use suggest_float(..., log=True) instead.\n",
      "  learning_rate = trial.suggest_loguniform(\"learning_rate\", 1e-5, 1e-2)\n",
      "/tmp/ipykernel_1273305/2951396850.py:6: FutureWarning: suggest_loguniform has been deprecated in v3.0.0. This feature will be removed in v6.0.0. See https://github.com/optuna/optuna/releases/tag/v3.0.0. Use suggest_float(..., log=True) instead.\n",
      "  weight_decay = trial.suggest_loguniform(\"weight_decay\", 1e-5, 1e-2)\n",
      "[I 2024-12-12 21:06:00,226] Trial 82 pruned. \n"
     ]
    },
    {
     "name": "stdout",
     "output_type": "stream",
     "text": [
      "Final MCC: 0.3368\n"
     ]
    },
    {
     "name": "stderr",
     "output_type": "stream",
     "text": [
      "[I 2024-12-12 21:06:01,626] Trial 83 finished with value: -0.08345297447772715 and parameters: {'dropout1': 0.05, 'dropout2': 0.25, 'learning_rate': 3.361229880179496e-05, 'weight_decay': 1.6976561737599942e-05}. Best is trial 57 with value: 0.3414512274193722.\n",
      "/tmp/ipykernel_1273305/2951396850.py:5: FutureWarning: suggest_loguniform has been deprecated in v3.0.0. This feature will be removed in v6.0.0. See https://github.com/optuna/optuna/releases/tag/v3.0.0. Use suggest_float(..., log=True) instead.\n",
      "  learning_rate = trial.suggest_loguniform(\"learning_rate\", 1e-5, 1e-2)\n",
      "/tmp/ipykernel_1273305/2951396850.py:6: FutureWarning: suggest_loguniform has been deprecated in v3.0.0. This feature will be removed in v6.0.0. See https://github.com/optuna/optuna/releases/tag/v3.0.0. Use suggest_float(..., log=True) instead.\n",
      "  weight_decay = trial.suggest_loguniform(\"weight_decay\", 1e-5, 1e-2)\n",
      "[I 2024-12-12 21:06:01,794] Trial 84 pruned. \n"
     ]
    },
    {
     "name": "stdout",
     "output_type": "stream",
     "text": [
      "Early stopping at epoch 10\n",
      "Final MCC: -0.0835\n"
     ]
    },
    {
     "name": "stderr",
     "output_type": "stream",
     "text": [
      "[I 2024-12-12 21:06:01,946] Trial 85 pruned. \n",
      "[I 2024-12-12 21:06:02,073] Trial 86 pruned. \n",
      "[I 2024-12-12 21:06:02,200] Trial 87 pruned. \n",
      "[I 2024-12-12 21:06:02,326] Trial 88 pruned. \n",
      "[I 2024-12-12 21:06:02,504] Trial 89 pruned. \n",
      "[I 2024-12-12 21:06:04,041] Trial 90 finished with value: 0.0 and parameters: {'dropout1': 0.1, 'dropout2': 0.35000000000000003, 'learning_rate': 2.2916594065870178e-05, 'weight_decay': 0.0005076487914193864}. Best is trial 57 with value: 0.3414512274193722.\n",
      "/tmp/ipykernel_1273305/2951396850.py:5: FutureWarning: suggest_loguniform has been deprecated in v3.0.0. This feature will be removed in v6.0.0. See https://github.com/optuna/optuna/releases/tag/v3.0.0. Use suggest_float(..., log=True) instead.\n",
      "  learning_rate = trial.suggest_loguniform(\"learning_rate\", 1e-5, 1e-2)\n",
      "/tmp/ipykernel_1273305/2951396850.py:6: FutureWarning: suggest_loguniform has been deprecated in v3.0.0. This feature will be removed in v6.0.0. See https://github.com/optuna/optuna/releases/tag/v3.0.0. Use suggest_float(..., log=True) instead.\n",
      "  weight_decay = trial.suggest_loguniform(\"weight_decay\", 1e-5, 1e-2)\n",
      "[I 2024-12-12 21:06:04,210] Trial 91 pruned. \n"
     ]
    },
    {
     "name": "stdout",
     "output_type": "stream",
     "text": [
      "Early stopping at epoch 10\n",
      "Final MCC: 0.0000\n"
     ]
    },
    {
     "name": "stderr",
     "output_type": "stream",
     "text": [
      "[I 2024-12-12 21:06:18,179] Trial 92 finished with value: 0.2780622970559621 and parameters: {'dropout1': 0.30000000000000004, 'dropout2': 0.05, 'learning_rate': 0.00018598292702869514, 'weight_decay': 3.251185609514922e-05}. Best is trial 57 with value: 0.3414512274193722.\n",
      "/tmp/ipykernel_1273305/2951396850.py:5: FutureWarning: suggest_loguniform has been deprecated in v3.0.0. This feature will be removed in v6.0.0. See https://github.com/optuna/optuna/releases/tag/v3.0.0. Use suggest_float(..., log=True) instead.\n",
      "  learning_rate = trial.suggest_loguniform(\"learning_rate\", 1e-5, 1e-2)\n",
      "/tmp/ipykernel_1273305/2951396850.py:6: FutureWarning: suggest_loguniform has been deprecated in v3.0.0. This feature will be removed in v6.0.0. See https://github.com/optuna/optuna/releases/tag/v3.0.0. Use suggest_float(..., log=True) instead.\n",
      "  weight_decay = trial.suggest_loguniform(\"weight_decay\", 1e-5, 1e-2)\n",
      "[I 2024-12-12 21:06:18,353] Trial 93 pruned. \n"
     ]
    },
    {
     "name": "stdout",
     "output_type": "stream",
     "text": [
      "Final MCC: 0.2781\n"
     ]
    },
    {
     "name": "stderr",
     "output_type": "stream",
     "text": [
      "[I 2024-12-12 21:06:18,515] Trial 94 pruned. \n",
      "[I 2024-12-12 21:06:18,686] Trial 95 pruned. \n",
      "[I 2024-12-12 21:06:18,844] Trial 96 pruned. \n",
      "[I 2024-12-12 21:06:18,990] Trial 97 pruned. \n",
      "[I 2024-12-12 21:06:19,121] Trial 98 pruned. \n",
      "[I 2024-12-12 21:06:19,247] Trial 99 pruned. \n"
     ]
    },
    {
     "name": "stdout",
     "output_type": "stream",
     "text": [
      "Best Parameters:  {'dropout1': 0.45, 'dropout2': 0.35000000000000003, 'learning_rate': 0.00019337134823389538, 'weight_decay': 0.0002362350896918934}\n",
      "Best Validation F1:  0.3414512274193722\n"
     ]
    }
   ],
   "source": [
    "device_id = 0  # 使用するGPUのID（0または1）\n",
    "torch.cuda.set_device(device_id)\n",
    "device = torch.device(f\"cuda:{device_id}\" if torch.cuda.is_available() else \"cpu\")\n",
    "\n",
    "# Optunaの設定\n",
    "study = optuna.create_study(direction=\"maximize\")  \n",
    "study.optimize(objective, n_trials=100)\n",
    "\n",
    "# 結果表示\n",
    "print(\"Best Parameters: \", study.best_params)\n",
    "print(\"Best Validation F1: \", study.best_value)"
   ]
  },
  {
   "cell_type": "code",
   "execution_count": 79,
   "metadata": {},
   "outputs": [
    {
     "name": "stdout",
     "output_type": "stream",
     "text": [
      "Best parameters saved to 'best_params.json'\n"
     ]
    }
   ],
   "source": [
    "best_params = study.best_params\n",
    "\n",
    "# JSON形式で保存\n",
    "with open(\"optim_param/optim_DNN_3_params.json\", \"w\") as f:\n",
    "    json.dump(best_params, f)\n",
    "\n",
    "print(\"Best parameters saved to 'best_params.json'\")"
   ]
  },
  {
   "cell_type": "code",
   "execution_count": 86,
   "metadata": {},
   "outputs": [
    {
     "name": "stdout",
     "output_type": "stream",
     "text": [
      "Epoch [1/100], Loss: 0.7353\n",
      "Epoch [1/100], Train Loss: 0.7353, Val Loss: 0.7433\n",
      "Epoch [2/100], Loss: 0.7158\n",
      "Epoch [2/100], Train Loss: 0.7158, Val Loss: 0.7209\n",
      "Epoch [3/100], Loss: 0.7123\n",
      "Epoch [3/100], Train Loss: 0.7123, Val Loss: 0.7129\n",
      "Epoch [4/100], Loss: 0.7029\n",
      "Epoch [4/100], Train Loss: 0.7029, Val Loss: 0.7014\n",
      "Epoch [5/100], Loss: 0.6981\n",
      "Epoch [5/100], Train Loss: 0.6981, Val Loss: 0.6963\n",
      "Epoch [6/100], Loss: 0.6800\n",
      "Epoch [6/100], Train Loss: 0.6800, Val Loss: 0.6859\n",
      "Epoch [7/100], Loss: 0.6807\n",
      "Epoch [7/100], Train Loss: 0.6807, Val Loss: 0.6847\n",
      "Epoch [8/100], Loss: 0.6798\n",
      "Epoch [8/100], Train Loss: 0.6798, Val Loss: 0.6790\n",
      "Epoch [9/100], Loss: 0.6671\n",
      "Epoch [9/100], Train Loss: 0.6671, Val Loss: 0.6752\n",
      "Epoch [10/100], Loss: 0.6617\n",
      "Epoch [10/100], Train Loss: 0.6617, Val Loss: 0.6688\n",
      "Epoch [11/100], Loss: 0.6600\n",
      "Epoch [11/100], Train Loss: 0.6600, Val Loss: 0.6656\n",
      "Epoch [12/100], Loss: 0.6622\n",
      "Epoch [12/100], Train Loss: 0.6622, Val Loss: 0.6591\n",
      "Epoch [13/100], Loss: 0.6546\n",
      "Epoch [13/100], Train Loss: 0.6546, Val Loss: 0.6555\n",
      "Epoch [14/100], Loss: 0.6569\n",
      "Epoch [14/100], Train Loss: 0.6569, Val Loss: 0.6534\n",
      "Epoch [15/100], Loss: 0.6479\n",
      "Epoch [15/100], Train Loss: 0.6479, Val Loss: 0.6497\n",
      "Epoch [16/100], Loss: 0.6498\n",
      "Epoch [16/100], Train Loss: 0.6498, Val Loss: 0.6446\n",
      "Epoch [17/100], Loss: 0.6396\n",
      "Epoch [17/100], Train Loss: 0.6396, Val Loss: 0.6471\n",
      "Epoch [18/100], Loss: 0.6411\n",
      "Epoch [18/100], Train Loss: 0.6411, Val Loss: 0.6391\n",
      "Epoch [19/100], Loss: 0.6358\n",
      "Epoch [19/100], Train Loss: 0.6358, Val Loss: 0.6394\n",
      "Epoch [20/100], Loss: 0.6334\n",
      "Epoch [20/100], Train Loss: 0.6334, Val Loss: 0.6369\n",
      "Epoch [21/100], Loss: 0.6288\n",
      "Epoch [21/100], Train Loss: 0.6288, Val Loss: 0.6348\n",
      "Epoch [22/100], Loss: 0.6307\n",
      "Epoch [22/100], Train Loss: 0.6307, Val Loss: 0.6326\n",
      "Epoch [23/100], Loss: 0.6311\n",
      "Epoch [23/100], Train Loss: 0.6311, Val Loss: 0.6295\n",
      "Epoch [24/100], Loss: 0.6226\n",
      "Epoch [24/100], Train Loss: 0.6226, Val Loss: 0.6316\n",
      "Epoch [25/100], Loss: 0.6253\n",
      "Epoch [25/100], Train Loss: 0.6253, Val Loss: 0.6241\n",
      "Epoch [26/100], Loss: 0.6273\n",
      "Epoch [26/100], Train Loss: 0.6273, Val Loss: 0.6264\n",
      "Epoch [27/100], Loss: 0.6200\n",
      "Epoch [27/100], Train Loss: 0.6200, Val Loss: 0.6204\n",
      "Epoch [28/100], Loss: 0.6240\n",
      "Epoch [28/100], Train Loss: 0.6240, Val Loss: 0.6220\n",
      "Epoch [29/100], Loss: 0.6203\n",
      "Epoch [29/100], Train Loss: 0.6203, Val Loss: 0.6173\n",
      "Epoch [30/100], Loss: 0.6184\n",
      "Epoch [30/100], Train Loss: 0.6184, Val Loss: 0.6181\n",
      "Epoch [31/100], Loss: 0.6170\n",
      "Epoch [31/100], Train Loss: 0.6170, Val Loss: 0.6156\n",
      "Epoch [32/100], Loss: 0.6124\n",
      "Epoch [32/100], Train Loss: 0.6124, Val Loss: 0.6143\n",
      "Epoch [33/100], Loss: 0.6092\n",
      "Epoch [33/100], Train Loss: 0.6092, Val Loss: 0.6120\n",
      "Epoch [34/100], Loss: 0.6076\n",
      "Epoch [34/100], Train Loss: 0.6076, Val Loss: 0.6110\n",
      "Epoch [35/100], Loss: 0.6062\n",
      "Epoch [35/100], Train Loss: 0.6062, Val Loss: 0.6103\n",
      "Epoch [36/100], Loss: 0.6103\n",
      "Epoch [36/100], Train Loss: 0.6103, Val Loss: 0.6096\n",
      "Epoch [37/100], Loss: 0.6075\n",
      "Epoch [37/100], Train Loss: 0.6075, Val Loss: 0.6066\n",
      "Epoch [38/100], Loss: 0.6090\n",
      "Epoch [38/100], Train Loss: 0.6090, Val Loss: 0.6059\n",
      "Epoch [39/100], Loss: 0.6097\n",
      "Epoch [39/100], Train Loss: 0.6097, Val Loss: 0.6051\n",
      "Epoch [40/100], Loss: 0.5997\n",
      "Epoch [40/100], Train Loss: 0.5997, Val Loss: 0.6056\n",
      "Epoch [41/100], Loss: 0.6016\n",
      "Epoch [41/100], Train Loss: 0.6016, Val Loss: 0.6020\n",
      "Epoch [42/100], Loss: 0.6067\n",
      "Epoch [42/100], Train Loss: 0.6067, Val Loss: 0.5991\n",
      "Epoch [43/100], Loss: 0.5970\n",
      "Epoch [43/100], Train Loss: 0.5970, Val Loss: 0.6001\n",
      "Epoch [44/100], Loss: 0.6012\n",
      "Epoch [44/100], Train Loss: 0.6012, Val Loss: 0.5998\n",
      "Epoch [45/100], Loss: 0.6002\n",
      "Epoch [45/100], Train Loss: 0.6002, Val Loss: 0.5974\n",
      "Epoch [46/100], Loss: 0.5991\n",
      "Epoch [46/100], Train Loss: 0.5991, Val Loss: 0.5978\n",
      "Epoch [47/100], Loss: 0.5966\n",
      "Epoch [47/100], Train Loss: 0.5966, Val Loss: 0.5975\n",
      "Epoch [48/100], Loss: 0.5955\n",
      "Epoch [48/100], Train Loss: 0.5955, Val Loss: 0.5953\n",
      "Epoch [49/100], Loss: 0.5959\n",
      "Epoch [49/100], Train Loss: 0.5959, Val Loss: 0.5936\n",
      "Epoch [50/100], Loss: 0.5977\n",
      "Epoch [50/100], Train Loss: 0.5977, Val Loss: 0.5922\n",
      "Epoch [51/100], Loss: 0.5932\n",
      "Epoch [51/100], Train Loss: 0.5932, Val Loss: 0.5940\n",
      "Epoch [52/100], Loss: 0.5911\n",
      "Epoch [52/100], Train Loss: 0.5911, Val Loss: 0.5903\n",
      "Epoch [53/100], Loss: 0.5906\n",
      "Epoch [53/100], Train Loss: 0.5906, Val Loss: 0.5923\n",
      "Epoch [54/100], Loss: 0.5918\n",
      "Epoch [54/100], Train Loss: 0.5918, Val Loss: 0.5904\n",
      "Epoch [55/100], Loss: 0.5912\n",
      "Epoch [55/100], Train Loss: 0.5912, Val Loss: 0.5896\n",
      "Epoch [56/100], Loss: 0.5945\n",
      "Epoch [56/100], Train Loss: 0.5945, Val Loss: 0.5859\n",
      "Epoch [57/100], Loss: 0.5903\n",
      "Epoch [57/100], Train Loss: 0.5903, Val Loss: 0.5877\n",
      "Epoch [58/100], Loss: 0.5893\n",
      "Epoch [58/100], Train Loss: 0.5893, Val Loss: 0.5902\n",
      "Epoch [59/100], Loss: 0.5882\n",
      "Epoch [59/100], Train Loss: 0.5882, Val Loss: 0.5867\n",
      "Epoch [60/100], Loss: 0.5878\n",
      "Epoch [60/100], Train Loss: 0.5878, Val Loss: 0.5867\n",
      "Epoch [61/100], Loss: 0.5844\n",
      "Epoch [61/100], Train Loss: 0.5844, Val Loss: 0.5885\n",
      "Epoch [62/100], Loss: 0.5841\n",
      "Epoch [62/100], Train Loss: 0.5841, Val Loss: 0.5872\n",
      "Epoch [63/100], Loss: 0.5850\n",
      "Epoch [63/100], Train Loss: 0.5850, Val Loss: 0.5858\n",
      "Epoch [64/100], Loss: 0.5870\n",
      "Epoch [64/100], Train Loss: 0.5870, Val Loss: 0.5853\n",
      "Epoch [65/100], Loss: 0.5850\n",
      "Epoch [65/100], Train Loss: 0.5850, Val Loss: 0.5866\n",
      "Epoch [66/100], Loss: 0.5878\n",
      "Epoch [66/100], Train Loss: 0.5878, Val Loss: 0.5837\n",
      "Epoch [67/100], Loss: 0.5862\n",
      "Epoch [67/100], Train Loss: 0.5862, Val Loss: 0.5821\n",
      "Epoch [68/100], Loss: 0.5817\n",
      "Epoch [68/100], Train Loss: 0.5817, Val Loss: 0.5810\n",
      "Epoch [69/100], Loss: 0.5821\n",
      "Epoch [69/100], Train Loss: 0.5821, Val Loss: 0.5817\n",
      "Epoch [70/100], Loss: 0.5817\n",
      "Epoch [70/100], Train Loss: 0.5817, Val Loss: 0.5816\n",
      "Epoch [71/100], Loss: 0.5824\n",
      "Epoch [71/100], Train Loss: 0.5824, Val Loss: 0.5814\n",
      "Epoch [72/100], Loss: 0.5831\n",
      "Epoch [72/100], Train Loss: 0.5831, Val Loss: 0.5803\n",
      "Epoch [73/100], Loss: 0.5772\n",
      "Epoch [73/100], Train Loss: 0.5772, Val Loss: 0.5799\n",
      "Epoch [74/100], Loss: 0.5808\n",
      "Epoch [74/100], Train Loss: 0.5808, Val Loss: 0.5787\n",
      "Epoch [75/100], Loss: 0.5781\n",
      "Epoch [75/100], Train Loss: 0.5781, Val Loss: 0.5775\n",
      "Epoch [76/100], Loss: 0.5825\n",
      "Epoch [76/100], Train Loss: 0.5825, Val Loss: 0.5782\n",
      "Epoch [77/100], Loss: 0.5813\n",
      "Epoch [77/100], Train Loss: 0.5813, Val Loss: 0.5778\n",
      "Epoch [78/100], Loss: 0.5796\n",
      "Epoch [78/100], Train Loss: 0.5796, Val Loss: 0.5760\n",
      "Epoch [79/100], Loss: 0.5773\n",
      "Epoch [79/100], Train Loss: 0.5773, Val Loss: 0.5778\n",
      "Epoch [80/100], Loss: 0.5752\n",
      "Epoch [80/100], Train Loss: 0.5752, Val Loss: 0.5768\n",
      "Epoch [81/100], Loss: 0.5775\n",
      "Epoch [81/100], Train Loss: 0.5775, Val Loss: 0.5765\n",
      "Epoch [82/100], Loss: 0.5758\n",
      "Epoch [82/100], Train Loss: 0.5758, Val Loss: 0.5737\n",
      "Epoch [83/100], Loss: 0.5738\n",
      "Epoch [83/100], Train Loss: 0.5738, Val Loss: 0.5752\n",
      "Epoch [84/100], Loss: 0.5746\n",
      "Epoch [84/100], Train Loss: 0.5746, Val Loss: 0.5745\n",
      "Epoch [85/100], Loss: 0.5761\n",
      "Epoch [85/100], Train Loss: 0.5761, Val Loss: 0.5747\n",
      "Epoch [86/100], Loss: 0.5778\n",
      "Epoch [86/100], Train Loss: 0.5778, Val Loss: 0.5732\n",
      "Epoch [87/100], Loss: 0.5775\n",
      "Epoch [87/100], Train Loss: 0.5775, Val Loss: 0.5718\n",
      "Epoch [88/100], Loss: 0.5740\n",
      "Epoch [88/100], Train Loss: 0.5740, Val Loss: 0.5728\n",
      "Epoch [89/100], Loss: 0.5779\n",
      "Epoch [89/100], Train Loss: 0.5779, Val Loss: 0.5730\n",
      "Epoch [90/100], Loss: 0.5751\n",
      "Epoch [90/100], Train Loss: 0.5751, Val Loss: 0.5740\n",
      "Epoch [91/100], Loss: 0.5745\n",
      "Epoch [91/100], Train Loss: 0.5745, Val Loss: 0.5721\n",
      "Epoch [92/100], Loss: 0.5702\n",
      "Epoch [92/100], Train Loss: 0.5702, Val Loss: 0.5715\n",
      "Epoch [93/100], Loss: 0.5753\n",
      "Epoch [93/100], Train Loss: 0.5753, Val Loss: 0.5723\n",
      "Epoch [94/100], Loss: 0.5732\n",
      "Epoch [94/100], Train Loss: 0.5732, Val Loss: 0.5709\n",
      "Epoch [95/100], Loss: 0.5719\n",
      "Epoch [95/100], Train Loss: 0.5719, Val Loss: 0.5710\n",
      "Epoch [96/100], Loss: 0.5730\n",
      "Epoch [96/100], Train Loss: 0.5730, Val Loss: 0.5718\n",
      "Epoch [97/100], Loss: 0.5705\n",
      "Epoch [97/100], Train Loss: 0.5705, Val Loss: 0.5700\n",
      "Epoch [98/100], Loss: 0.5710\n",
      "Epoch [98/100], Train Loss: 0.5710, Val Loss: 0.5717\n",
      "Epoch [99/100], Loss: 0.5686\n",
      "Epoch [99/100], Train Loss: 0.5686, Val Loss: 0.5717\n",
      "Epoch [100/100], Loss: 0.5718\n",
      "Epoch [100/100], Train Loss: 0.5718, Val Loss: 0.5697\n"
     ]
    },
    {
     "data": {
      "image/png": "[encoded data removed]",
      "text/plain": [
       "<Figure size 1000x600 with 1 Axes>"
      ]
     },
     "metadata": {},
     "output_type": "display_data"
    }
   ],
   "source": [
    "best_params=study.best_params\n",
    "model = DNN_3(input_dim=X_train_tensor.shape[1],\n",
    "              dropout1=best_params[\"dropout1\"],\n",
    "              dropout2=best_params[\"dropout2\"],\n",
    "              ).to(device)\n",
    "# 最適化と訓練を実行\n",
    "optimizer = optim.Adam(model.parameters(), lr=best_params[\"learning_rate\"],weight_decay=best_params[\"weight_decay\"])\n",
    "criterion = nn.BCELoss()\n",
    "\n",
    "num_epochs=100\n",
    "train_losses = []\n",
    "val_losses = []\n",
    "\n",
    "model.train()\n",
    "for epoch in range(num_epochs):\n",
    "    epoch_train_loss = 0\n",
    "    epoch_val_loss = 0\n",
    "\n",
    "    for X_batch, y_batch in train_loader:\n",
    "        X_batch, y_batch = X_batch.to(device), y_batch.to(device)\n",
    "        optimizer.zero_grad()\n",
    "        outputs = model(X_batch).squeeze()\n",
    "        loss = criterion(outputs, y_batch.squeeze())\n",
    "        loss.backward()\n",
    "        optimizer.step()\n",
    "        epoch_train_loss += loss.item()\n",
    "    avg_train_loss = epoch_train_loss / len(train_loader)\n",
    "    train_losses.append(avg_train_loss)\n",
    "    print(f'Epoch [{epoch+1}/{num_epochs}], Loss: {avg_train_loss:.4f}')\n",
    "\n",
    "    if val_loader is not None:\n",
    "        model.eval()  \n",
    "        with torch.no_grad():\n",
    "            for X_val, y_val in val_loader:\n",
    "                X_val, y_val = X_val.to(device), y_val.to(device)\n",
    "                val_outputs = model(X_val).squeeze()\n",
    "                val_loss = criterion(val_outputs, y_val.squeeze())\n",
    "                epoch_val_loss += val_loss.item()\n",
    "\n",
    "        avg_val_loss = epoch_val_loss / len(val_loader)\n",
    "        val_losses.append(avg_val_loss)\n",
    "        model.train()  \n",
    "\n",
    "    if val_loader is not None:\n",
    "        print(f\"Epoch [{epoch+1}/{num_epochs}], Train Loss: {avg_train_loss:.4f}, Val Loss: {avg_val_loss:.4f}\")\n",
    "    else:\n",
    "        print(f\"Epoch [{epoch+1}/{num_epochs}], Train Loss: {avg_train_loss:.4f}\")\n",
    "\n",
    "plt.figure(figsize=(10, 6))\n",
    "plt.plot(range(1, num_epochs + 1), train_losses, label='Train Loss')\n",
    "if val_losses:\n",
    "    plt.plot(range(1, num_epochs + 1), val_losses, label='Validation Loss')\n",
    "plt.xlabel('Epoch')\n",
    "plt.ylabel('Loss')\n",
    "plt.title('Learning Curve for DNN3')\n",
    "plt.legend()\n",
    "plt.grid()\n",
    "plt.show()"
   ]
  },
  {
   "cell_type": "code",
   "execution_count": 87,
   "metadata": {},
   "outputs": [
    {
     "name": "stdout",
     "output_type": "stream",
     "text": [
      "Accuracy: 58.77%\n",
      "Precision: 0.4809\n",
      "Recall: 0.8525\n",
      "F1 Score: 0.6149\n",
      "Matthews Correlation Coefficient: 0.2867\n",
      "Specificity: 0.4212\n"
     ]
    },
    {
     "data": {
      "image/png": "[encoded data removed]",
      "text/plain": [
       "<Figure size 640x480 with 1 Axes>"
      ]
     },
     "metadata": {},
     "output_type": "display_data"
    },
    {
     "data": {
      "image/png": "[encoded data removed]",
      "text/plain": [
       "<Figure size 640x480 with 1 Axes>"
      ]
     },
     "metadata": {},
     "output_type": "display_data"
    },
    {
     "data": {
      "image/png": "[encoded data removed]",
      "text/plain": [
       "<Figure size 640x480 with 1 Axes>"
      ]
     },
     "metadata": {},
     "output_type": "display_data"
    }
   ],
   "source": [
    "model.eval()\n",
    "with torch.no_grad():\n",
    "    X_test_tensor = X_test_tensor.to(device)\n",
    "    y_test_tensor = y_test_tensor.to(device)\n",
    "\n",
    "    # 予測と確率\n",
    "    test_outputs = model(X_test_tensor).squeeze()\n",
    "    predictions = (test_outputs >=0.5).float()\n",
    "    y_true = y_test_tensor.cpu().numpy()\n",
    "    y_pred = predictions.cpu().numpy()\n",
    "    y_prob = test_outputs.cpu().numpy()\n",
    "\n",
    "# 評価指標\n",
    "    accuracy = accuracy_score(y_true, y_pred)\n",
    "    precision = precision_score(y_true, y_pred)\n",
    "    recall = recall_score(y_true, y_pred)\n",
    "    f1 = f1_score(y_true, y_pred)\n",
    "    mcc = matthews_corrcoef(y_true, y_pred)\n",
    "    specificity = recall_score(y_true, y_pred, pos_label=0)  \n",
    "    print(f'Accuracy: {accuracy * 100:.2f}%')\n",
    "    print(f'Precision: {precision:.4f}')\n",
    "    print(f'Recall: {recall:.4f}')\n",
    "    print(f'F1 Score: {f1:.4f}')\n",
    "    print(f'Matthews Correlation Coefficient: {mcc:.4f}')\n",
    "    print(f'Specificity: {specificity:.4f}')\n",
    "\n",
    "    # 混同行列（割合表示）\n",
    "    cm = confusion_matrix(y_true, y_pred, normalize='true')\n",
    "    sns.heatmap(cm, annot=True, fmt=\".2%\", cmap=\"Blues\", cbar=False)\n",
    "    plt.xlabel(\"Predicted\")\n",
    "    plt.ylabel(\"Actual\")\n",
    "    plt.title(f\"Confusion Matrix (Normalized)\")\n",
    "    plt.show()\n",
    "\n",
    "    # ROC曲線とAUC\n",
    "    fpr, tpr, thresholds = roc_curve(y_true, y_prob)\n",
    "    roc_auc = auc(fpr, tpr)\n",
    "    plt.plot(fpr, tpr, label=f'ROC curve (AUC = {roc_auc:.2f})')\n",
    "    plt.plot([0, 1], [0, 1], 'k--') \n",
    "    plt.xlabel('False Positive Rate')\n",
    "    plt.ylabel('True Positive Rate')\n",
    "    plt.title(f'ROC Curve - Model ')\n",
    "    plt.legend(loc=\"lower right\")\n",
    "    plt.show()\n",
    "\n",
    "    # Precision-Recall曲線\n",
    "    precision_curve, recall_curve, pr_thresholds = precision_recall_curve(y_true, y_prob)\n",
    "    pr_auc = auc(recall_curve, precision_curve)\n",
    "    plt.plot(recall_curve, precision_curve, label=f'PR curve (AUC = {pr_auc:.2f})')\n",
    "    plt.xlabel('Recall')\n",
    "    plt.ylabel('Precision')\n",
    "    plt.title(f'Precision-Recall Curve ')\n",
    "    plt.legend(loc=\"lower left\")\n",
    "    plt.show()    "
   ]
  },
  {
   "cell_type": "code",
   "execution_count": 82,
   "metadata": {},
   "outputs": [],
   "source": [
    "# モデルと構造を保存\n",
    "torch.save(model.state_dict(), 'model_params/DNN_3.pth')\n",
    "\n"
   ]
  },
  {
   "cell_type": "code",
   "execution_count": 83,
   "metadata": {},
   "outputs": [
    {
     "name": "stdout",
     "output_type": "stream",
     "text": [
      "----------------------------------------------------------------\n",
      "        Layer (type)               Output Shape         Param #\n",
      "================================================================\n",
      "            Linear-1                   [-1, 32]             960\n",
      "       BatchNorm1d-2                   [-1, 32]              64\n",
      "            Linear-3                   [-1, 16]             528\n",
      "       BatchNorm1d-4                   [-1, 16]              32\n",
      "           Dropout-5                   [-1, 16]               0\n",
      "            Linear-6                    [-1, 8]             136\n",
      "       BatchNorm1d-7                    [-1, 8]              16\n",
      "           Dropout-8                    [-1, 8]               0\n",
      "            Linear-9                    [-1, 4]              36\n",
      "      BatchNorm1d-10                    [-1, 4]               8\n",
      "           Linear-11                    [-1, 1]               5\n",
      "================================================================\n",
      "Total params: 1,785\n",
      "Trainable params: 1,785\n",
      "Non-trainable params: 0\n",
      "----------------------------------------------------------------\n",
      "Input size (MB): 0.00\n",
      "Forward/backward pass size (MB): 0.00\n",
      "Params size (MB): 0.01\n",
      "Estimated Total Size (MB): 0.01\n",
      "----------------------------------------------------------------\n"
     ]
    }
   ],
   "source": [
    "from torchsummary import summary\n",
    "summary(model, input_size=(X_train_tensor.shape[1],))"
   ]
  },
  {
   "cell_type": "code",
   "execution_count": null,
   "metadata": {},
   "outputs": [],
   "source": []
  }
 ],
 "metadata": {
  "kernelspec": {
   "display_name": "torch",
   "language": "python",
   "name": "python3"
  },
  "language_info": {
   "codemirror_mode": {
    "name": "ipython",
    "version": 3
   },
   "file_extension": ".py",
   "mimetype": "text/x-python",
   "name": "python",
   "nbconvert_exporter": "python",
   "pygments_lexer": "ipython3",
   "version": "3.12.7"
  }
 },
 "nbformat": 4,
 "nbformat_minor": 2
}
