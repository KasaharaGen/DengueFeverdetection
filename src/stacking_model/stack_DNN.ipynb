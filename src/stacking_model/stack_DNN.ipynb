{
 "cells": [
  {
   "cell_type": "code",
   "execution_count": 161,
   "metadata": {},
   "outputs": [],
   "source": [
    "import torch\n",
    "import torch.nn as nn\n",
    "import torch.nn.functional as F\n",
    "import torch.optim as optim\n",
    "import numpy as np\n",
    "import json\n",
    "\n",
    "from sklearn.ensemble import RandomForestClassifier\n",
    "from sklearn.svm import SVC\n",
    "\n",
    "from sklearn.preprocessing import MinMaxScaler, StandardScaler\n",
    "from sklearn.decomposition import PCA\n",
    "from sklearn.manifold import TSNE\n",
    "from sklearn.cluster import KMeans\n",
    "from scipy.spatial.distance import cdist\n",
    "\n",
    "import optuna\n",
    "\n",
    "import pandas as pd\n",
    "import matplotlib.pyplot as plt\n",
    "import seaborn as sns\n",
    "\n",
    "from sklearn.model_selection import train_test_split\n",
    "from sklearn.metrics import confusion_matrix,accuracy_score, precision_score, recall_score, f1_score, confusion_matrix, roc_curve, auc,matthews_corrcoef, precision_recall_curve,roc_auc_score\n",
    "\n",
    "\n"
   ]
  },
  {
   "cell_type": "code",
   "execution_count": 162,
   "metadata": {},
   "outputs": [],
   "source": [
    "with open(\"optim_param/optim_DNN_1_params.json\", \"r\") as f:\n",
    "    DNN_1_params = json.load(f)\n",
    "\n",
    "with open(\"optim_param/optim_DNN_2_params.json\", \"r\") as f:\n",
    "    DNN_2_params = json.load(f)\n",
    "\n",
    "with open(\"optim_param/optim_DNN_3_params.json\", \"r\") as f:\n",
    "    DNN_3_params = json.load(f)\n",
    "\n",
    "with open(\"optim_param/optim_DNN_4_params.json\", \"r\") as f:\n",
    "    DNN_4_params = json.load(f)\n",
    "\n",
    "with open(\"optim_param/optim_DNN_5_params.json\", \"r\") as f:\n",
    "    DNN_5_params = json.load(f)\n",
    "\n",
    "with open(\"optim_param/optim_DNN_6_params.json\", \"r\") as f:\n",
    "    DNN_6_params = json.load(f)\n",
    "\n",
    "with open(\"optim_param/optim_DNN_7_params.json\", \"r\") as f:\n",
    "    DNN_7_params = json.load(f)\n",
    "\n",
    "with open(\"optim_param/optim_ResNet_params.json\", \"r\") as f:\n",
    "    ResNet_params = json.load(f)\n",
    "\n",
    "with open(\"optim_param/optim_FTTansformer_params.json\", \"r\") as f:\n",
    "    FTTransformer_params = json.load(f)"
   ]
  },
  {
   "cell_type": "code",
   "execution_count": 163,
   "metadata": {},
   "outputs": [],
   "source": [
    "class DNN_1(nn.Module):\n",
    "    def __init__(self, input_dim, dropout_rate=DNN_1_params[\"dropout\"]):\n",
    "        super(DNN_1, self).__init__()\n",
    "        self.layer1 = nn.Linear(input_dim, 32)\n",
    "        self.bn1 = nn.BatchNorm1d(32)\n",
    "        self.layer2 = nn.Linear(32, 16)\n",
    "        self.bn2 = nn.BatchNorm1d(16)\n",
    "        self.layer3 = nn.Linear(16, 8)\n",
    "        self.bn3 = nn.BatchNorm1d(8)\n",
    "        self.layer4 = nn.Linear(8, 4)\n",
    "        self.bn4 = nn.BatchNorm1d(4)\n",
    "        self.output_layer = nn.Linear(4, 1)\n",
    "\n",
    "        self.dropout = nn.Dropout(dropout_rate)\n",
    "        \n",
    "    def forward(self, x):\n",
    "        x = torch.relu(self.bn1(self.layer1(x)))  \n",
    "        x = self.dropout(x)\n",
    "        \n",
    "        x = torch.relu(self.bn2(self.layer2(x)))  \n",
    "        x = self.dropout(x)\n",
    "\n",
    "        x = torch.relu(self.bn3(self.layer3(x)))  \n",
    "        x = self.dropout(x)\n",
    "\n",
    "        x = torch.relu(self.bn4(self.layer4(x))) \n",
    "        x = self.dropout(x)\n",
    "\n",
    "        x = torch.sigmoid(self.output_layer(x)) \n",
    "        return x"
   ]
  },
  {
   "cell_type": "code",
   "execution_count": 164,
   "metadata": {},
   "outputs": [],
   "source": [
    "class DNN_2(nn.Module):\n",
    "    def __init__(self, input_dim,dropout1=DNN_2_params[\"dropout1\"],dropout2=DNN_2_params[\"dropout2\"],dropout3=DNN_2_params[\"dropout3\"],dropout4=DNN_2_params[\"dropout4\"]):\n",
    "        super(DNN_2, self).__init__()\n",
    "        self.layer1 = nn.Linear(input_dim,32)\n",
    "        self.layer2 = nn.Linear(32,16)\n",
    "        self.layer3 = nn.Linear(16,8)\n",
    "        self.layer4 = nn.Linear(8,4)\n",
    "        self.output_layer = nn.Linear(4, 1)\n",
    "\n",
    "        self.bn1=nn.BatchNorm1d(32)\n",
    "        self.bn2=nn.BatchNorm1d(16)\n",
    "        self.bn3=nn.BatchNorm1d(8)\n",
    "        self.bn4=nn.BatchNorm1d(4)\n",
    "\n",
    "\n",
    "        self.dropout1 = nn.Dropout(dropout1)\n",
    "        self.dropout2 = nn.Dropout(dropout2)\n",
    "        self.dropout3 = nn.Dropout(dropout3)\n",
    "        self.dropout4 = nn.Dropout(dropout4)\n",
    "\n",
    "        \n",
    "        \n",
    "    def forward(self, x):\n",
    "        x = torch.relu(self.bn1(self.layer1(x)))\n",
    "        x = self.dropout1(x)\n",
    "        \n",
    "        x = torch.relu(self.bn2(self.layer2(x)))\n",
    "        x = self.dropout2(x)\n",
    "\n",
    "        x = torch.relu(self.bn3(self.layer3(x)))\n",
    "        x = self.dropout3(x)\n",
    "\n",
    "        x = torch.relu(self.bn4(self.layer4(x)))\n",
    "        x = self.dropout4(x)\n",
    "\n",
    "        x = torch.sigmoid(self.output_layer(x)) \n",
    "        return x\n",
    "    "
   ]
  },
  {
   "cell_type": "code",
   "execution_count": 165,
   "metadata": {},
   "outputs": [],
   "source": [
    "class DNN_3(nn.Module):\n",
    "    def __init__(self, input_dim,dropout1=DNN_3_params[\"dropout1\"],dropout2=DNN_3_params[\"dropout2\"]):\n",
    "        super(DNN_3, self).__init__()\n",
    "        self.layer1 = nn.Linear(input_dim,32)\n",
    "        self.layer2 = nn.Linear(32,16)\n",
    "        self.layer3 = nn.Linear(16, 8)\n",
    "        self.layer4 = nn.Linear(8, 4)\n",
    "        self.output_layer = nn.Linear(4, 1)\n",
    "\n",
    "        self.bn1=nn.BatchNorm1d(32)\n",
    "        self.bn2=nn.BatchNorm1d(16)\n",
    "        self.bn3=nn.BatchNorm1d(8)\n",
    "        self.bn4=nn.BatchNorm1d(4)\n",
    "\n",
    "        self.dropout1 = nn.Dropout(dropout1)\n",
    "        self.dropout2 = nn.Dropout(dropout2)        \n",
    "        \n",
    "    def forward(self, x):\n",
    "        x = torch.relu(self.bn1(self.layer1(x)))\n",
    "        \n",
    "        x = torch.relu(self.bn2(self.layer2(x)))\n",
    "        x = self.dropout1(x)\n",
    "\n",
    "        x = torch.relu(self.bn3(self.layer3(x)))\n",
    "        x = self.dropout2(x)\n",
    "\n",
    "        x = torch.relu(self.bn4(self.layer4(x)))\n",
    "    \n",
    "\n",
    "        x = torch.sigmoid(self.output_layer(x)) \n",
    "        return x\n",
    "    "
   ]
  },
  {
   "cell_type": "code",
   "execution_count": 166,
   "metadata": {},
   "outputs": [],
   "source": [
    "class DNN_4(nn.Module):\n",
    "    def __init__(self, input_dim,dropout1=DNN_4_params[\"dropout1\"],dropout2=DNN_4_params[\"dropout2\"]):\n",
    "        super(DNN_4, self).__init__()\n",
    "        self.layer1 = nn.Linear(input_dim,32)\n",
    "        self.layer2 = nn.Linear(32,16)\n",
    "        self.layer3 = nn.Linear(16, 8)\n",
    "        self.layer4 = nn.Linear(8, 4)\n",
    "        self.output_layer = nn.Linear(4, 1)\n",
    "\n",
    "        self.bn1=nn.BatchNorm1d(32)\n",
    "        self.bn2=nn.BatchNorm1d(16)\n",
    "        self.bn3=nn.BatchNorm1d(8)\n",
    "        self.bn4=nn.BatchNorm1d(4)\n",
    "\n",
    "        self.dropout1 = nn.Dropout(dropout1)\n",
    "        self.dropout2 = nn.Dropout(dropout2)\n",
    "        \n",
    "        \n",
    "    def forward(self, x):\n",
    "        x = torch.relu(self.bn1(self.layer1(x)))\n",
    "        x = self.dropout1(x)\n",
    "        \n",
    "        x = torch.relu(self.bn2(self.layer2(x)))\n",
    "    \n",
    "\n",
    "        x = torch.relu(self.bn3(self.layer3(x)))\n",
    "        \n",
    "\n",
    "        x = torch.relu(self.bn4(self.layer4(x)))\n",
    "        x = self.dropout2(x)\n",
    "\n",
    "        x = torch.sigmoid(self.output_layer(x)) \n",
    "        return x\n",
    "    "
   ]
  },
  {
   "cell_type": "code",
   "execution_count": 167,
   "metadata": {},
   "outputs": [],
   "source": [
    "class DNN_5(nn.Module):\n",
    "    def __init__(self, input_dim,dropout1=DNN_5_params[\"dropout1\"],dropout2=DNN_5_params[\"dropout2\"]):\n",
    "        super(DNN_5, self).__init__()\n",
    "        self.layer1 = nn.Linear(input_dim,32)\n",
    "        self.layer2 = nn.Linear(32,16)\n",
    "        self.layer3 = nn.Linear(16, 8)\n",
    "        self.layer4 = nn.Linear(8, 4)\n",
    "        self.output_layer = nn.Linear(4, 1)\n",
    "\n",
    "        self.bn1=nn.BatchNorm1d(32)\n",
    "        self.bn2=nn.BatchNorm1d(16)\n",
    "        self.bn3=nn.BatchNorm1d(8)\n",
    "        self.bn4=nn.BatchNorm1d(4)\n",
    "\n",
    "        self.dropout1 = nn.Dropout(dropout1)\n",
    "        self.dropout2 = nn.Dropout(dropout2)        \n",
    "        \n",
    "    def forward(self, x):\n",
    "        x = torch.relu(self.bn1(self.layer1(x)))\n",
    "        \n",
    "        x = torch.relu(self.bn2(self.layer2(x)))\n",
    "        \n",
    "\n",
    "        x = torch.relu(self.bn3(self.layer3(x)))\n",
    "        x = self.dropout1(x)\n",
    "\n",
    "        x = torch.relu(self.bn4(self.layer4(x)))\n",
    "        x = self.dropout2(x)\n",
    "\n",
    "        x = torch.sigmoid(self.output_layer(x)) \n",
    "        return x\n",
    "    "
   ]
  },
  {
   "cell_type": "code",
   "execution_count": 168,
   "metadata": {},
   "outputs": [],
   "source": [
    "class DNN_6(nn.Module):\n",
    "    def __init__(self, input_dim,dropout1=DNN_6_params[\"dropout1\"],dropout2=DNN_6_params[\"dropout2\"]):\n",
    "        super(DNN_6, self).__init__()\n",
    "        self.layer1 = nn.Linear(input_dim,32)\n",
    "        self.layer2 = nn.Linear(32,16)\n",
    "        self.layer3 = nn.Linear(16, 8)\n",
    "        self.layer4 = nn.Linear(8, 4)\n",
    "        self.output_layer = nn.Linear(4, 1)\n",
    "\n",
    "        self.bn1=nn.BatchNorm1d(32)\n",
    "        self.bn2=nn.BatchNorm1d(16)\n",
    "        self.bn3=nn.BatchNorm1d(8)\n",
    "        self.bn4=nn.BatchNorm1d(4)\n",
    "\n",
    "        self.dropout1 = nn.Dropout(dropout1)\n",
    "        self.dropout2 = nn.Dropout(dropout2)\n",
    "        \n",
    "    def forward(self, x):\n",
    "        x = torch.relu(self.bn1(self.layer1(x)))\n",
    "        x = self.dropout1(x)\n",
    "        \n",
    "        x = torch.relu(self.bn2(self.layer2(x)))\n",
    "    \n",
    "\n",
    "        x = torch.relu(self.bn3(self.layer3(x)))\n",
    "        x = self.dropout2(x)\n",
    "\n",
    "        x = torch.relu(self.bn4(self.layer4(x)))\n",
    "        \n",
    "        x = torch.sigmoid(self.output_layer(x)) \n",
    "        return x\n",
    "    "
   ]
  },
  {
   "cell_type": "code",
   "execution_count": 169,
   "metadata": {},
   "outputs": [],
   "source": [
    "class DNN_7(nn.Module):\n",
    "    def __init__(self, input_dim,dropout1=DNN_7_params[\"dropout1\"],dropout2=DNN_7_params[\"dropout2\"]):\n",
    "        super(DNN_7, self).__init__()\n",
    "        self.layer1 = nn.Linear(input_dim,32)\n",
    "        self.layer2 = nn.Linear(32,16)\n",
    "        self.layer3 = nn.Linear(16, 8)\n",
    "        self.layer4 = nn.Linear(8, 4)\n",
    "        self.output_layer = nn.Linear(4, 1)\n",
    "\n",
    "        self.bn1=nn.BatchNorm1d(32)\n",
    "        self.bn2=nn.BatchNorm1d(16)\n",
    "        self.bn3=nn.BatchNorm1d(8)\n",
    "        self.bn4=nn.BatchNorm1d(4)\n",
    "\n",
    "        self.dropout1 = nn.Dropout(dropout1)\n",
    "        self.dropout2 = nn.Dropout(dropout2)\n",
    "        \n",
    "    def forward(self, x):\n",
    "        x = torch.relu(self.bn1(self.layer1(x)))\n",
    "        \n",
    "        x = torch.relu(self.bn2(self.layer2(x)))\n",
    "        x = self.dropout1(x)\n",
    "\n",
    "        x = torch.relu(self.bn3(self.layer3(x)))\n",
    "\n",
    "        x = torch.relu(self.bn4(self.layer4(x)))\n",
    "        x = self.dropout2(x)\n",
    "\n",
    "        x = torch.sigmoid(self.output_layer(x)) \n",
    "        return x\n",
    "    "
   ]
  },
  {
   "cell_type": "code",
   "execution_count": 170,
   "metadata": {},
   "outputs": [],
   "source": [
    "class FTTransformer(nn.Module):\n",
    "    def __init__(self, input_dim, num_classes=1, embed_dim=FTTransformer_params[\"embed_dim\"], num_heads=FTTransformer_params[\"num_heads\"], num_layers=FTTransformer_params[\"num_layers\"], dropout=FTTransformer_params[\"dropout\"]):\n",
    "        super(FTTransformer, self).__init__()\n",
    "        self.embedding = nn.Linear(input_dim, embed_dim)\n",
    "        self.embedding_dropout = nn.Dropout(dropout)  # 埋め込み層後のDropout\n",
    "        encoder_layer = nn.TransformerEncoderLayer(d_model=embed_dim, nhead=num_heads, dropout=dropout)\n",
    "        self.transformer = nn.TransformerEncoder(encoder_layer, num_layers=num_layers)\n",
    "        self.fc = nn.Linear(embed_dim, num_classes)\n",
    "        self.output_dropout = nn.Dropout(dropout)  # 出力層前のDropout\n",
    "\n",
    "    def forward(self, x):\n",
    "        x = self.embedding(x)\n",
    "        x = self.embedding_dropout(x)  # Dropoutを埋め込み層後に適用\n",
    "        x = x.unsqueeze(1)  # [batch_size, 1, embed_dim]\n",
    "        x = self.transformer(x)\n",
    "        x = x.mean(dim=1)  # 平均プーリング\n",
    "        x = self.output_dropout(x)  # Dropoutを適用\n",
    "        x = self.fc(x)\n",
    "        x = torch.sigmoid(x)  # 2値分類用のシグモイド活性化\n",
    "        return x\n"
   ]
  },
  {
   "cell_type": "code",
   "execution_count": 171,
   "metadata": {},
   "outputs": [],
   "source": [
    "class ResidualBlock(nn.Module):\n",
    "    def __init__(self, input_dim, hidden_dim,dropout1,dropout2):\n",
    "        super(ResidualBlock, self).__init__()\n",
    "        self.fc1 = nn.Linear(input_dim, hidden_dim)\n",
    "        self.bn1 = nn.BatchNorm1d(hidden_dim)\n",
    "        self.dropout1=nn.Dropout(dropout1)\n",
    "        \n",
    "        self.fc2 = nn.Linear(hidden_dim, input_dim)\n",
    "        self.bn2 = nn.BatchNorm1d(input_dim)\n",
    "        self.dropout2=nn.Dropout(dropout2)\n",
    "\n",
    "    def forward(self, x):\n",
    "        residual = x  # 入力を保存 (ショートカット)\n",
    "        out = torch.relu(self.bn1(self.fc1(x)))\n",
    "        out=self.dropout1(out)\n",
    "\n",
    "        out = self.bn2(self.fc2(out))\n",
    "        out=self.dropout2(out)\n",
    "\n",
    "        out += residual  # ショートカット接続\n",
    "        return torch.relu(out)\n"
   ]
  },
  {
   "cell_type": "code",
   "execution_count": 172,
   "metadata": {},
   "outputs": [],
   "source": [
    "class ResNetBinaryClassifier(nn.Module):\n",
    "    def __init__(self, input_dim, num_blocks=ResNet_params[\"num_blocks\"], hidden_dim=ResNet_params[\"hidden_dim\"], dropout1=ResNet_params[\"dropout1\"], dropout2=ResNet_params[\"dropout2\"]):\n",
    "        super(ResNetBinaryClassifier, self).__init__()\n",
    "        self.blocks = nn.Sequential(\n",
    "            *[ResidualBlock(input_dim, hidden_dim, dropout1, dropout2) for _ in range(num_blocks)]\n",
    "        )\n",
    "        self.output_layer = nn.Linear(input_dim, 1)  # 出力層\n",
    "\n",
    "    def forward(self, x):\n",
    "        x = self.blocks(x)\n",
    "        x = torch.sigmoid(self.output_layer(x))  # 2値分類用シグモイド\n",
    "        return x"
   ]
  },
  {
   "cell_type": "code",
   "execution_count": 173,
   "metadata": {},
   "outputs": [],
   "source": [
    "df=pd.read_csv('learning_data.csv',index_col=0)\n",
    "\n",
    "X=df.drop(columns='dengue',axis=1).values\n",
    "y=df['dengue'].values\n",
    "\n",
    "X_train, X_test, y_train, y_test = train_test_split(X, y, test_size=0.2,random_state=42)\n",
    "\n",
    "X_train_tensor=torch.tensor(X_train, dtype=torch.float32)\n",
    "y_train_tensor=torch.tensor(y_train, dtype=torch.float32)\n",
    "X_test_tensor=torch.tensor(X_test, dtype=torch.float32)\n",
    "y_test_tensor=torch.tensor(y_test, dtype=torch.float32)"
   ]
  },
  {
   "cell_type": "code",
   "execution_count": 174,
   "metadata": {},
   "outputs": [
    {
     "name": "stderr",
     "output_type": "stream",
     "text": [
      "/tmp/ipykernel_1421115/1801429464.py:33: FutureWarning: You are using `torch.load` with `weights_only=False` (the current default value), which uses the default pickle module implicitly. It is possible to construct malicious pickle data which will execute arbitrary code during unpickling (See https://github.com/pytorch/pytorch/blob/main/SECURITY.md#untrusted-models for more details). In a future release, the default value for `weights_only` will be flipped to `True`. This limits the functions that could be executed during unpickling. Arbitrary objects will no longer be allowed to be loaded via this mode unless they are explicitly allowlisted by the user via `torch.serialization.add_safe_globals`. We recommend you start setting `weights_only=True` for any use case where you don't have full control of the loaded file. Please open an issue on GitHub for any issues related to this experimental feature.\n",
      "  model.load_state_dict(torch.load(path, map_location=device))\n",
      "/home/gonken/anaconda3/envs/torch/lib/python3.12/site-packages/torch/nn/modules/transformer.py:379: UserWarning: enable_nested_tensor is True, but self.use_nested_tensor is False because encoder_layer.self_attn.batch_first was not True(use batch_first for better inference performance)\n",
      "  warnings.warn(\n"
     ]
    }
   ],
   "source": [
    "# デバイス設定\n",
    "device = torch.device(\"cuda\" if torch.cuda.is_available() else \"cpu\")\n",
    "\n",
    "\n",
    "model_paths = [\n",
    "    \"model_params/DNN_1.pth\",\n",
    "    \"model_params/DNN_2.pth\",\n",
    "    \"model_params/DNN_3.pth\",\n",
    "    \"model_params/DNN_4.pth\",\n",
    "    \"model_params/DNN_5.pth\",\n",
    "    \"model_params/DNN_6.pth\",\n",
    "    \"model_params/DNN_7.pth\",\n",
    "    \"model_params/FTTransformer.pth\",\n",
    "    \"model_params/ResNet.pth\",\n",
    "    ]\n",
    "\n",
    "model_classes = {0: DNN_1,\n",
    "                 1: DNN_2,\n",
    "                 2: DNN_3,\n",
    "                 3: DNN_4,\n",
    "                 4: DNN_5,\n",
    "                 5: DNN_6,\n",
    "                 6: DNN_7,\n",
    "                 7:FTTransformer,\n",
    "                 8:ResNetBinaryClassifier\n",
    "                 }\n",
    "\n",
    "models=[]\n",
    "\n",
    "for i, path in enumerate(model_paths):\n",
    "    if i in model_classes:\n",
    "        model = model_classes[i](input_dim=X_train.shape[1]).to(device)\n",
    "        model.load_state_dict(torch.load(path, map_location=device))\n",
    "        model.eval()\n",
    "        models.append(model)"
   ]
  },
  {
   "cell_type": "code",
   "execution_count": 175,
   "metadata": {},
   "outputs": [
    {
     "name": "stdout",
     "output_type": "stream",
     "text": [
      "Train DL Features Shape: torch.Size([3508, 9])\n",
      "Test DL Features Shape: torch.Size([878, 9])\n"
     ]
    }
   ],
   "source": [
    "train_outputs = []\n",
    "test_outputs = []\n",
    "\n",
    "with torch.no_grad():\n",
    "    for model in models:\n",
    "        model.eval()\n",
    "        \n",
    "        train_output = model(X_train_tensor.to(device))\n",
    "        train_outputs.append(train_output)\n",
    "        \n",
    "        # テストデータの出力\n",
    "        test_output = model(X_test_tensor.to(device))\n",
    "        test_outputs.append(test_output)\n",
    "\n",
    "train_DL_features = torch.cat(train_outputs, dim=1)  \n",
    "test_DL_features = torch.cat(test_outputs, dim=1) \n",
    "\n",
    "# 出力形状の確認\n",
    "print(f\"Train DL Features Shape: {train_DL_features.shape}\")\n",
    "print(f\"Test DL Features Shape: {test_DL_features.shape}\")\n"
   ]
  },
  {
   "cell_type": "code",
   "execution_count": 176,
   "metadata": {},
   "outputs": [
    {
     "name": "stdout",
     "output_type": "stream",
     "text": [
      "all_features.shape: (3508, 20)\n",
      "train_DL_features_np.shape: (3508, 9)\n",
      "train_standardized_features.shape: (3508, 20)\n"
     ]
    }
   ],
   "source": [
    "train_DL_features_np = train_DL_features.cpu().numpy()\n",
    "\n",
    "scaler = MinMaxScaler()\n",
    "normalized_features = scaler.fit_transform(train_DL_features_np.reshape(-1, train_DL_features_np.shape[-1]))\n",
    "\n",
    "# KMeans クラスタリング\n",
    "kmeans = KMeans(n_clusters=6, random_state=42)\n",
    "kmeans_labels = kmeans.fit_predict(normalized_features)\n",
    "\n",
    "# クラスタリング特徴量を修正\n",
    "cluster_features = kmeans_labels.reshape(-1, 1) \n",
    "\n",
    "# PCA（主成分分析）\n",
    "pca = PCA(n_components=6,random_state=42)\n",
    "pca_features = pca.fit_transform(normalized_features)  \n",
    "\n",
    "# t-SNE\n",
    "tsne = TSNE(n_components=3, random_state=42)\n",
    "tsne_features = tsne.fit_transform(normalized_features) \n",
    "\n",
    "# 距離から類似度を計算\n",
    "distance_matrix = cdist(normalized_features, normalized_features, metric='euclidean')\n",
    "similarity_features = 1 / (1 + distance_matrix) \n",
    "\n",
    "# 距離から類似度の平均特徴量を生成\n",
    "similarity_features_mean = similarity_features.mean(axis=1).reshape(-1, 1) \n",
    "\n",
    "all_features = np.hstack([normalized_features,cluster_features,pca_features,tsne_features,similarity_features_mean])\n",
    "\n",
    "print(f\"all_features.shape: {all_features.shape}\")\n",
    "print(f\"train_DL_features_np.shape: {train_DL_features_np.shape}\")\n",
    "\n",
    "scaler_standard = StandardScaler()\n",
    "train_standardized_features = scaler_standard.fit_transform(all_features)\n",
    "\n",
    "print(f\"train_standardized_features.shape: {train_standardized_features.shape}\")"
   ]
  },
  {
   "cell_type": "code",
   "execution_count": 177,
   "metadata": {},
   "outputs": [
    {
     "name": "stdout",
     "output_type": "stream",
     "text": [
      "all_features.shape: (878, 20)\n",
      "test_DL_features_np.shape: (3508, 9)\n",
      "test_standardized_features.shape: (878, 20)\n"
     ]
    }
   ],
   "source": [
    "test_DL_features_np = test_DL_features.cpu().numpy()\n",
    "\n",
    "scaler = MinMaxScaler()\n",
    "normalized_features = scaler.fit_transform(test_DL_features_np.reshape(-1, test_DL_features_np.shape[-1]))\n",
    "\n",
    "# KMeans クラスタリング\n",
    "kmeans = KMeans(n_clusters=6, random_state=42)\n",
    "kmeans_labels = kmeans.fit_predict(normalized_features)\n",
    "\n",
    "# クラスタリング特徴量を修正\n",
    "cluster_features = kmeans_labels.reshape(-1, 1) \n",
    "\n",
    "# PCA（主成分分析）\n",
    "pca = PCA(n_components=6,random_state=42)\n",
    "pca_features = pca.fit_transform(normalized_features)  \n",
    "\n",
    "# t-SNE\n",
    "tsne = TSNE(n_components=3, random_state=42)\n",
    "tsne_features = tsne.fit_transform(normalized_features) \n",
    "\n",
    "# 距離から類似度を計算\n",
    "distance_matrix = cdist(normalized_features, normalized_features, metric='euclidean')\n",
    "similarity_features = 1 / (1 + distance_matrix) \n",
    "\n",
    "# 距離から類似度の平均特徴量を生成\n",
    "similarity_features_mean = similarity_features.mean(axis=1).reshape(-1, 1) \n",
    "\n",
    "all_features = np.hstack([normalized_features,cluster_features,pca_features,tsne_features,similarity_features_mean])\n",
    "\n",
    "print(f\"all_features.shape: {all_features.shape}\")\n",
    "print(f\"test_DL_features_np.shape: {train_DL_features_np.shape}\")\n",
    "\n",
    "scaler_standard = StandardScaler()\n",
    "test_standardized_features = scaler_standard.fit_transform(all_features)\n",
    "\n",
    "print(f\"test_standardized_features.shape: {test_standardized_features.shape}\")"
   ]
  },
  {
   "cell_type": "code",
   "execution_count": 178,
   "metadata": {},
   "outputs": [],
   "source": [
    "X_train, X_val, y_train, y_val = train_test_split(train_standardized_features, y_train, test_size=0.1,random_state=42)"
   ]
  },
  {
   "cell_type": "code",
   "execution_count": 179,
   "metadata": {},
   "outputs": [],
   "source": [
    "X_train_tensor=torch.tensor(X_train, dtype=torch.float32)\n",
    "y_train_tensor=torch.tensor(y_train, dtype=torch.float32)\n",
    "X_val_tensor=torch.tensor(X_val, dtype=torch.float32)\n",
    "y_val_tensor=torch.tensor(y_val, dtype=torch.float32)\n",
    "X_test_tensor = torch.tensor(test_standardized_features, dtype=torch.float32)\n",
    "y_test_tensor = torch.tensor(y_test, dtype=torch.float32)\n"
   ]
  },
  {
   "cell_type": "code",
   "execution_count": 180,
   "metadata": {},
   "outputs": [],
   "source": [
    "train_dataset = torch.utils.data.TensorDataset(X_train_tensor, y_train_tensor)\n",
    "train_loader = torch.utils.data.DataLoader(dataset=train_dataset, batch_size=128, shuffle=True)\n",
    "\n",
    "val_dataset = torch.utils.data.TensorDataset(X_val_tensor, y_val_tensor)\n",
    "val_loader = torch.utils.data.DataLoader(dataset=val_dataset, batch_size=128, shuffle=False)"
   ]
  },
  {
   "cell_type": "code",
   "execution_count": 184,
   "metadata": {},
   "outputs": [],
   "source": [
    "class meta_model(nn.Module):\n",
    "    def __init__(self, input_dim,dropout1=DNN_2_params[\"dropout1\"],dropout2=DNN_2_params[\"dropout2\"]):\n",
    "        super(meta_model, self).__init__()\n",
    "        self.layer1 = nn.Linear(input_dim,16)\n",
    "        self.layer2 = nn.Linear(16,4)\n",
    "        self.output_layer = nn.Linear(4, 1)\n",
    "\n",
    "        self.bn1=nn.BatchNorm1d(16)\n",
    "        self.bn2=nn.BatchNorm1d(4)\n",
    "\n",
    "\n",
    "        self.dropout1 = nn.Dropout(dropout1)\n",
    "        self.dropout2 = nn.Dropout(dropout2)\n",
    "        \n",
    "\n",
    "        \n",
    "        \n",
    "    def forward(self, x):\n",
    "        x = torch.relu(self.bn1(self.layer1(x)))\n",
    "        x = self.dropout1(x)\n",
    "        \n",
    "        x = torch.relu(self.bn2(self.layer2(x)))\n",
    "        x = self.dropout2(x)\n",
    "\n",
    "        x = torch.sigmoid(self.output_layer(x)) \n",
    "        return x"
   ]
  },
  {
   "cell_type": "code",
   "execution_count": 185,
   "metadata": {},
   "outputs": [],
   "source": [
    "def objective(trial):\n",
    "    # ハイパーパラメータのサンプリング\n",
    "    dropout1 = trial.suggest_float(\"dropout1\", 0, 0.5, step=0.05)\n",
    "    dropout2 = trial.suggest_float(\"dropout2\", 0, 0.5, step=0.05)\n",
    "    learning_rate = trial.suggest_loguniform(\"learning_rate\", 1e-4, 1e-1)\n",
    "    weight_decay=trial.suggest_loguniform(\"weight_decay\", 1e-4, 1e-1)\n",
    "    \n",
    "\n",
    "    # モデル定義\n",
    "    model = meta_model(\n",
    "        input_dim=X_train_tensor.shape[1],\n",
    "        dropout1=dropout1,\n",
    "        dropout2=dropout2\n",
    "    ).to(device)\n",
    "\n",
    "    criterion = nn.BCELoss()\n",
    "    optimizer = torch.optim.Adam(model.parameters(), lr=learning_rate,weight_decay=weight_decay)\n",
    "\n",
    "    # Early Stoppingの設定\n",
    "    patience = 10\n",
    "    best_val_loss = float('inf')\n",
    "    patience_counter = 0\n",
    "\n",
    "    # 訓練ループ\n",
    "    num_epochs = 100\n",
    "    for epoch in range(num_epochs):\n",
    "        model.train()\n",
    "        for X_batch, y_batch in train_loader:\n",
    "            X_batch, y_batch = X_batch.to(device), y_batch.to(device)\n",
    "            optimizer.zero_grad()\n",
    "            outputs = model(X_batch).squeeze()\n",
    "            loss = criterion(outputs, y_batch.squeeze())\n",
    "            loss.backward()\n",
    "            optimizer.step()\n",
    "\n",
    "        # バリデーション評価\n",
    "        model.eval()\n",
    "        val_loss = 0\n",
    "        val_true, val_pred = [], []\n",
    "        with torch.no_grad():\n",
    "            for X_val, y_val in val_loader:\n",
    "                X_val, y_val = X_val.to(device), y_val.to(device)\n",
    "                val_outputs = model(X_val).squeeze()\n",
    "                val_loss += criterion(val_outputs, y_val.squeeze()).item()\n",
    "                predictions = (val_outputs >=0.5).float()  \n",
    "                val_true.extend(y_val.cpu().numpy())\n",
    "                val_pred.extend(predictions.cpu().numpy())\n",
    "\n",
    "        val_loss /= len(val_loader)\n",
    "\n",
    "        # Early Stopping判定\n",
    "        if val_loss < best_val_loss:\n",
    "            best_val_loss = val_loss\n",
    "            patience_counter = 0\n",
    "        else:\n",
    "            patience_counter += 1\n",
    "\n",
    "        if patience_counter >= patience:\n",
    "            print(f\"Early stopping at epoch {epoch}\")\n",
    "            break\n",
    "\n",
    "        # Optunaへのログ\n",
    "        trial.report(val_loss, epoch)\n",
    "        if trial.should_prune():\n",
    "            raise optuna.exceptions.TrialPruned()\n",
    "\n",
    "    # 評価指標の計算\n",
    "    mcc = matthews_corrcoef(val_true, val_pred)\n",
    "    print(f\"Final MCC: {mcc:.4f}\")\n",
    "\n",
    "    return mcc  # mccを返す\n"
   ]
  },
  {
   "cell_type": "code",
   "execution_count": 186,
   "metadata": {},
   "outputs": [
    {
     "name": "stderr",
     "output_type": "stream",
     "text": [
      "[I 2024-12-12 22:18:17,868] A new study created in memory with name: no-name-5cf5bd3b-d177-4168-aac7-e38232019b5c\n",
      "/tmp/ipykernel_1421115/3503316040.py:5: FutureWarning: suggest_loguniform has been deprecated in v3.0.0. This feature will be removed in v6.0.0. See https://github.com/optuna/optuna/releases/tag/v3.0.0. Use suggest_float(..., log=True) instead.\n",
      "  learning_rate = trial.suggest_loguniform(\"learning_rate\", 1e-4, 1e-1)\n",
      "/tmp/ipykernel_1421115/3503316040.py:6: FutureWarning: suggest_loguniform has been deprecated in v3.0.0. This feature will be removed in v6.0.0. See https://github.com/optuna/optuna/releases/tag/v3.0.0. Use suggest_float(..., log=True) instead.\n",
      "  weight_decay=trial.suggest_loguniform(\"weight_decay\", 1e-4, 1e-1)\n",
      "[I 2024-12-12 22:18:20,070] Trial 0 finished with value: 0.16989593905735928 and parameters: {'dropout1': 0.30000000000000004, 'dropout2': 0.25, 'learning_rate': 0.00245512281863588, 'weight_decay': 0.01020529248199102}. Best is trial 0 with value: 0.16989593905735928.\n"
     ]
    },
    {
     "name": "stdout",
     "output_type": "stream",
     "text": [
      "Early stopping at epoch 19\n",
      "Final MCC: 0.1699\n"
     ]
    },
    {
     "name": "stderr",
     "output_type": "stream",
     "text": [
      "/tmp/ipykernel_1421115/3503316040.py:5: FutureWarning: suggest_loguniform has been deprecated in v3.0.0. This feature will be removed in v6.0.0. See https://github.com/optuna/optuna/releases/tag/v3.0.0. Use suggest_float(..., log=True) instead.\n",
      "  learning_rate = trial.suggest_loguniform(\"learning_rate\", 1e-4, 1e-1)\n",
      "/tmp/ipykernel_1421115/3503316040.py:6: FutureWarning: suggest_loguniform has been deprecated in v3.0.0. This feature will be removed in v6.0.0. See https://github.com/optuna/optuna/releases/tag/v3.0.0. Use suggest_float(..., log=True) instead.\n",
      "  weight_decay=trial.suggest_loguniform(\"weight_decay\", 1e-4, 1e-1)\n",
      "[I 2024-12-12 22:18:22,857] Trial 1 finished with value: 0.19237062288668477 and parameters: {'dropout1': 0.15000000000000002, 'dropout2': 0.25, 'learning_rate': 0.00023858323157388236, 'weight_decay': 0.00010032504401583775}. Best is trial 1 with value: 0.19237062288668477.\n"
     ]
    },
    {
     "name": "stdout",
     "output_type": "stream",
     "text": [
      "Early stopping at epoch 28\n",
      "Final MCC: 0.1924\n"
     ]
    },
    {
     "name": "stderr",
     "output_type": "stream",
     "text": [
      "/tmp/ipykernel_1421115/3503316040.py:5: FutureWarning: suggest_loguniform has been deprecated in v3.0.0. This feature will be removed in v6.0.0. See https://github.com/optuna/optuna/releases/tag/v3.0.0. Use suggest_float(..., log=True) instead.\n",
      "  learning_rate = trial.suggest_loguniform(\"learning_rate\", 1e-4, 1e-1)\n",
      "/tmp/ipykernel_1421115/3503316040.py:6: FutureWarning: suggest_loguniform has been deprecated in v3.0.0. This feature will be removed in v6.0.0. See https://github.com/optuna/optuna/releases/tag/v3.0.0. Use suggest_float(..., log=True) instead.\n",
      "  weight_decay=trial.suggest_loguniform(\"weight_decay\", 1e-4, 1e-1)\n",
      "[I 2024-12-12 22:18:24,096] Trial 2 finished with value: 0.1137639085595968 and parameters: {'dropout1': 0.05, 'dropout2': 0.45, 'learning_rate': 0.08992338993624212, 'weight_decay': 0.00040830323464970467}. Best is trial 1 with value: 0.19237062288668477.\n"
     ]
    },
    {
     "name": "stdout",
     "output_type": "stream",
     "text": [
      "Early stopping at epoch 14\n",
      "Final MCC: 0.1138\n"
     ]
    },
    {
     "name": "stderr",
     "output_type": "stream",
     "text": [
      "/tmp/ipykernel_1421115/3503316040.py:5: FutureWarning: suggest_loguniform has been deprecated in v3.0.0. This feature will be removed in v6.0.0. See https://github.com/optuna/optuna/releases/tag/v3.0.0. Use suggest_float(..., log=True) instead.\n",
      "  learning_rate = trial.suggest_loguniform(\"learning_rate\", 1e-4, 1e-1)\n",
      "/tmp/ipykernel_1421115/3503316040.py:6: FutureWarning: suggest_loguniform has been deprecated in v3.0.0. This feature will be removed in v6.0.0. See https://github.com/optuna/optuna/releases/tag/v3.0.0. Use suggest_float(..., log=True) instead.\n",
      "  weight_decay=trial.suggest_loguniform(\"weight_decay\", 1e-4, 1e-1)\n",
      "[I 2024-12-12 22:18:25,006] Trial 3 finished with value: 0.17919744387838185 and parameters: {'dropout1': 0.05, 'dropout2': 0.0, 'learning_rate': 0.014677324851039225, 'weight_decay': 0.019688317163397907}. Best is trial 1 with value: 0.19237062288668477.\n"
     ]
    },
    {
     "name": "stdout",
     "output_type": "stream",
     "text": [
      "Early stopping at epoch 12\n",
      "Final MCC: 0.1792\n"
     ]
    },
    {
     "name": "stderr",
     "output_type": "stream",
     "text": [
      "/tmp/ipykernel_1421115/3503316040.py:5: FutureWarning: suggest_loguniform has been deprecated in v3.0.0. This feature will be removed in v6.0.0. See https://github.com/optuna/optuna/releases/tag/v3.0.0. Use suggest_float(..., log=True) instead.\n",
      "  learning_rate = trial.suggest_loguniform(\"learning_rate\", 1e-4, 1e-1)\n",
      "/tmp/ipykernel_1421115/3503316040.py:6: FutureWarning: suggest_loguniform has been deprecated in v3.0.0. This feature will be removed in v6.0.0. See https://github.com/optuna/optuna/releases/tag/v3.0.0. Use suggest_float(..., log=True) instead.\n",
      "  weight_decay=trial.suggest_loguniform(\"weight_decay\", 1e-4, 1e-1)\n",
      "[I 2024-12-12 22:18:26,717] Trial 4 finished with value: 0.19198791668238677 and parameters: {'dropout1': 0.4, 'dropout2': 0.1, 'learning_rate': 0.026705426617029855, 'weight_decay': 0.04434512074367581}. Best is trial 1 with value: 0.19237062288668477.\n"
     ]
    },
    {
     "name": "stdout",
     "output_type": "stream",
     "text": [
      "Early stopping at epoch 16\n",
      "Final MCC: 0.1920\n"
     ]
    },
    {
     "name": "stderr",
     "output_type": "stream",
     "text": [
      "/tmp/ipykernel_1421115/3503316040.py:5: FutureWarning: suggest_loguniform has been deprecated in v3.0.0. This feature will be removed in v6.0.0. See https://github.com/optuna/optuna/releases/tag/v3.0.0. Use suggest_float(..., log=True) instead.\n",
      "  learning_rate = trial.suggest_loguniform(\"learning_rate\", 1e-4, 1e-1)\n",
      "/tmp/ipykernel_1421115/3503316040.py:6: FutureWarning: suggest_loguniform has been deprecated in v3.0.0. This feature will be removed in v6.0.0. See https://github.com/optuna/optuna/releases/tag/v3.0.0. Use suggest_float(..., log=True) instead.\n",
      "  weight_decay=trial.suggest_loguniform(\"weight_decay\", 1e-4, 1e-1)\n",
      "[I 2024-12-12 22:18:32,497] Trial 5 finished with value: 0.17580243488066621 and parameters: {'dropout1': 0.0, 'dropout2': 0.25, 'learning_rate': 0.00026149697026435443, 'weight_decay': 0.01788921157004144}. Best is trial 1 with value: 0.19237062288668477.\n",
      "/tmp/ipykernel_1421115/3503316040.py:5: FutureWarning: suggest_loguniform has been deprecated in v3.0.0. This feature will be removed in v6.0.0. See https://github.com/optuna/optuna/releases/tag/v3.0.0. Use suggest_float(..., log=True) instead.\n",
      "  learning_rate = trial.suggest_loguniform(\"learning_rate\", 1e-4, 1e-1)\n",
      "/tmp/ipykernel_1421115/3503316040.py:6: FutureWarning: suggest_loguniform has been deprecated in v3.0.0. This feature will be removed in v6.0.0. See https://github.com/optuna/optuna/releases/tag/v3.0.0. Use suggest_float(..., log=True) instead.\n",
      "  weight_decay=trial.suggest_loguniform(\"weight_decay\", 1e-4, 1e-1)\n",
      "[I 2024-12-12 22:18:32,608] Trial 6 pruned. \n"
     ]
    },
    {
     "name": "stdout",
     "output_type": "stream",
     "text": [
      "Early stopping at epoch 54\n",
      "Final MCC: 0.1758\n"
     ]
    },
    {
     "name": "stderr",
     "output_type": "stream",
     "text": [
      "[I 2024-12-12 22:18:32,725] Trial 7 pruned. \n",
      "[I 2024-12-12 22:18:43,584] Trial 8 finished with value: 0.22021303264001046 and parameters: {'dropout1': 0.5, 'dropout2': 0.35000000000000003, 'learning_rate': 0.0001302573407050846, 'weight_decay': 0.017103213177916222}. Best is trial 8 with value: 0.22021303264001046.\n",
      "/tmp/ipykernel_1421115/3503316040.py:5: FutureWarning: suggest_loguniform has been deprecated in v3.0.0. This feature will be removed in v6.0.0. See https://github.com/optuna/optuna/releases/tag/v3.0.0. Use suggest_float(..., log=True) instead.\n",
      "  learning_rate = trial.suggest_loguniform(\"learning_rate\", 1e-4, 1e-1)\n",
      "/tmp/ipykernel_1421115/3503316040.py:6: FutureWarning: suggest_loguniform has been deprecated in v3.0.0. This feature will be removed in v6.0.0. See https://github.com/optuna/optuna/releases/tag/v3.0.0. Use suggest_float(..., log=True) instead.\n",
      "  weight_decay=trial.suggest_loguniform(\"weight_decay\", 1e-4, 1e-1)\n",
      "[I 2024-12-12 22:18:43,700] Trial 9 pruned. \n"
     ]
    },
    {
     "name": "stdout",
     "output_type": "stream",
     "text": [
      "Final MCC: 0.2202\n"
     ]
    },
    {
     "name": "stderr",
     "output_type": "stream",
     "text": [
      "[I 2024-12-12 22:18:43,832] Trial 10 pruned. \n",
      "[I 2024-12-12 22:18:52,397] Trial 11 finished with value: 0.14869844241856267 and parameters: {'dropout1': 0.15000000000000002, 'dropout2': 0.35000000000000003, 'learning_rate': 0.000497919590534935, 'weight_decay': 0.005453878481103382}. Best is trial 8 with value: 0.22021303264001046.\n"
     ]
    },
    {
     "name": "stdout",
     "output_type": "stream",
     "text": [
      "Early stopping at epoch 80\n",
      "Final MCC: 0.1487\n"
     ]
    },
    {
     "name": "stderr",
     "output_type": "stream",
     "text": [
      "/tmp/ipykernel_1421115/3503316040.py:5: FutureWarning: suggest_loguniform has been deprecated in v3.0.0. This feature will be removed in v6.0.0. See https://github.com/optuna/optuna/releases/tag/v3.0.0. Use suggest_float(..., log=True) instead.\n",
      "  learning_rate = trial.suggest_loguniform(\"learning_rate\", 1e-4, 1e-1)\n",
      "/tmp/ipykernel_1421115/3503316040.py:6: FutureWarning: suggest_loguniform has been deprecated in v3.0.0. This feature will be removed in v6.0.0. See https://github.com/optuna/optuna/releases/tag/v3.0.0. Use suggest_float(..., log=True) instead.\n",
      "  weight_decay=trial.suggest_loguniform(\"weight_decay\", 1e-4, 1e-1)\n",
      "[I 2024-12-12 22:18:55,873] Trial 12 finished with value: 0.20824645909674402 and parameters: {'dropout1': 0.2, 'dropout2': 0.35000000000000003, 'learning_rate': 0.0005597055915784842, 'weight_decay': 0.0006710207344369516}. Best is trial 8 with value: 0.22021303264001046.\n"
     ]
    },
    {
     "name": "stdout",
     "output_type": "stream",
     "text": [
      "Early stopping at epoch 36\n",
      "Final MCC: 0.2082\n"
     ]
    },
    {
     "name": "stderr",
     "output_type": "stream",
     "text": [
      "/tmp/ipykernel_1421115/3503316040.py:5: FutureWarning: suggest_loguniform has been deprecated in v3.0.0. This feature will be removed in v6.0.0. See https://github.com/optuna/optuna/releases/tag/v3.0.0. Use suggest_float(..., log=True) instead.\n",
      "  learning_rate = trial.suggest_loguniform(\"learning_rate\", 1e-4, 1e-1)\n",
      "/tmp/ipykernel_1421115/3503316040.py:6: FutureWarning: suggest_loguniform has been deprecated in v3.0.0. This feature will be removed in v6.0.0. See https://github.com/optuna/optuna/releases/tag/v3.0.0. Use suggest_float(..., log=True) instead.\n",
      "  weight_decay=trial.suggest_loguniform(\"weight_decay\", 1e-4, 1e-1)\n",
      "[I 2024-12-12 22:18:58,836] Trial 13 finished with value: 0.2060315014550851 and parameters: {'dropout1': 0.2, 'dropout2': 0.4, 'learning_rate': 0.000764334917444214, 'weight_decay': 0.0007192885889810617}. Best is trial 8 with value: 0.22021303264001046.\n",
      "/tmp/ipykernel_1421115/3503316040.py:5: FutureWarning: suggest_loguniform has been deprecated in v3.0.0. This feature will be removed in v6.0.0. See https://github.com/optuna/optuna/releases/tag/v3.0.0. Use suggest_float(..., log=True) instead.\n",
      "  learning_rate = trial.suggest_loguniform(\"learning_rate\", 1e-4, 1e-1)\n",
      "/tmp/ipykernel_1421115/3503316040.py:6: FutureWarning: suggest_loguniform has been deprecated in v3.0.0. This feature will be removed in v6.0.0. See https://github.com/optuna/optuna/releases/tag/v3.0.0. Use suggest_float(..., log=True) instead.\n",
      "  weight_decay=trial.suggest_loguniform(\"weight_decay\", 1e-4, 1e-1)\n",
      "[I 2024-12-12 22:18:58,966] Trial 14 pruned. \n"
     ]
    },
    {
     "name": "stdout",
     "output_type": "stream",
     "text": [
      "Early stopping at epoch 27\n",
      "Final MCC: 0.2060\n"
     ]
    },
    {
     "name": "stderr",
     "output_type": "stream",
     "text": [
      "[I 2024-12-12 22:19:07,054] Trial 15 finished with value: 0.2629502940535666 and parameters: {'dropout1': 0.2, 'dropout2': 0.15000000000000002, 'learning_rate': 0.00011190568251268883, 'weight_decay': 0.004483476900241638}. Best is trial 15 with value: 0.2629502940535666.\n"
     ]
    },
    {
     "name": "stdout",
     "output_type": "stream",
     "text": [
      "Early stopping at epoch 75\n",
      "Final MCC: 0.2630\n"
     ]
    },
    {
     "name": "stderr",
     "output_type": "stream",
     "text": [
      "/tmp/ipykernel_1421115/3503316040.py:5: FutureWarning: suggest_loguniform has been deprecated in v3.0.0. This feature will be removed in v6.0.0. See https://github.com/optuna/optuna/releases/tag/v3.0.0. Use suggest_float(..., log=True) instead.\n",
      "  learning_rate = trial.suggest_loguniform(\"learning_rate\", 1e-4, 1e-1)\n",
      "/tmp/ipykernel_1421115/3503316040.py:6: FutureWarning: suggest_loguniform has been deprecated in v3.0.0. This feature will be removed in v6.0.0. See https://github.com/optuna/optuna/releases/tag/v3.0.0. Use suggest_float(..., log=True) instead.\n",
      "  weight_decay=trial.suggest_loguniform(\"weight_decay\", 1e-4, 1e-1)\n",
      "[I 2024-12-12 22:19:17,891] Trial 16 finished with value: 0.0 and parameters: {'dropout1': 0.25, 'dropout2': 0.15000000000000002, 'learning_rate': 0.00010481897440890198, 'weight_decay': 0.0050944260685961045}. Best is trial 15 with value: 0.2629502940535666.\n"
     ]
    },
    {
     "name": "stdout",
     "output_type": "stream",
     "text": [
      "Final MCC: 0.0000\n"
     ]
    },
    {
     "name": "stderr",
     "output_type": "stream",
     "text": [
      "/tmp/ipykernel_1421115/3503316040.py:5: FutureWarning: suggest_loguniform has been deprecated in v3.0.0. This feature will be removed in v6.0.0. See https://github.com/optuna/optuna/releases/tag/v3.0.0. Use suggest_float(..., log=True) instead.\n",
      "  learning_rate = trial.suggest_loguniform(\"learning_rate\", 1e-4, 1e-1)\n",
      "/tmp/ipykernel_1421115/3503316040.py:6: FutureWarning: suggest_loguniform has been deprecated in v3.0.0. This feature will be removed in v6.0.0. See https://github.com/optuna/optuna/releases/tag/v3.0.0. Use suggest_float(..., log=True) instead.\n",
      "  weight_decay=trial.suggest_loguniform(\"weight_decay\", 1e-4, 1e-1)\n",
      "[I 2024-12-12 22:19:27,807] Trial 17 finished with value: 0.19633793724223814 and parameters: {'dropout1': 0.45, 'dropout2': 0.15000000000000002, 'learning_rate': 0.0002643833799538561, 'weight_decay': 0.0286849083415514}. Best is trial 15 with value: 0.2629502940535666.\n",
      "/tmp/ipykernel_1421115/3503316040.py:5: FutureWarning: suggest_loguniform has been deprecated in v3.0.0. This feature will be removed in v6.0.0. See https://github.com/optuna/optuna/releases/tag/v3.0.0. Use suggest_float(..., log=True) instead.\n",
      "  learning_rate = trial.suggest_loguniform(\"learning_rate\", 1e-4, 1e-1)\n",
      "/tmp/ipykernel_1421115/3503316040.py:6: FutureWarning: suggest_loguniform has been deprecated in v3.0.0. This feature will be removed in v6.0.0. See https://github.com/optuna/optuna/releases/tag/v3.0.0. Use suggest_float(..., log=True) instead.\n",
      "  weight_decay=trial.suggest_loguniform(\"weight_decay\", 1e-4, 1e-1)\n",
      "[I 2024-12-12 22:19:27,941] Trial 18 pruned. \n"
     ]
    },
    {
     "name": "stdout",
     "output_type": "stream",
     "text": [
      "Early stopping at epoch 93\n",
      "Final MCC: 0.1963\n"
     ]
    },
    {
     "name": "stderr",
     "output_type": "stream",
     "text": [
      "[I 2024-12-12 22:19:37,768] Trial 19 finished with value: 0.23456648721306436 and parameters: {'dropout1': 0.30000000000000004, 'dropout2': 0.30000000000000004, 'learning_rate': 0.00018240312748272962, 'weight_decay': 0.0027240598681741103}. Best is trial 15 with value: 0.2629502940535666.\n",
      "/tmp/ipykernel_1421115/3503316040.py:5: FutureWarning: suggest_loguniform has been deprecated in v3.0.0. This feature will be removed in v6.0.0. See https://github.com/optuna/optuna/releases/tag/v3.0.0. Use suggest_float(..., log=True) instead.\n",
      "  learning_rate = trial.suggest_loguniform(\"learning_rate\", 1e-4, 1e-1)\n",
      "/tmp/ipykernel_1421115/3503316040.py:6: FutureWarning: suggest_loguniform has been deprecated in v3.0.0. This feature will be removed in v6.0.0. See https://github.com/optuna/optuna/releases/tag/v3.0.0. Use suggest_float(..., log=True) instead.\n",
      "  weight_decay=trial.suggest_loguniform(\"weight_decay\", 1e-4, 1e-1)\n",
      "[I 2024-12-12 22:19:37,898] Trial 20 pruned. \n"
     ]
    },
    {
     "name": "stdout",
     "output_type": "stream",
     "text": [
      "Early stopping at epoch 90\n",
      "Final MCC: 0.2346\n"
     ]
    },
    {
     "name": "stderr",
     "output_type": "stream",
     "text": [
      "[I 2024-12-12 22:19:38,030] Trial 21 pruned. \n",
      "[I 2024-12-12 22:19:38,161] Trial 22 pruned. \n",
      "[I 2024-12-12 22:19:38,284] Trial 23 pruned. \n",
      "[I 2024-12-12 22:19:38,414] Trial 24 pruned. \n",
      "[I 2024-12-12 22:19:48,941] Trial 25 finished with value: 0.12900094070966361 and parameters: {'dropout1': 0.15000000000000002, 'dropout2': 0.30000000000000004, 'learning_rate': 0.00034686173778404155, 'weight_decay': 0.09730941676049998}. Best is trial 15 with value: 0.2629502940535666.\n",
      "/tmp/ipykernel_1421115/3503316040.py:5: FutureWarning: suggest_loguniform has been deprecated in v3.0.0. This feature will be removed in v6.0.0. See https://github.com/optuna/optuna/releases/tag/v3.0.0. Use suggest_float(..., log=True) instead.\n",
      "  learning_rate = trial.suggest_loguniform(\"learning_rate\", 1e-4, 1e-1)\n",
      "/tmp/ipykernel_1421115/3503316040.py:6: FutureWarning: suggest_loguniform has been deprecated in v3.0.0. This feature will be removed in v6.0.0. See https://github.com/optuna/optuna/releases/tag/v3.0.0. Use suggest_float(..., log=True) instead.\n",
      "  weight_decay=trial.suggest_loguniform(\"weight_decay\", 1e-4, 1e-1)\n",
      "[I 2024-12-12 22:19:49,066] Trial 26 pruned. \n"
     ]
    },
    {
     "name": "stdout",
     "output_type": "stream",
     "text": [
      "Final MCC: 0.1290\n"
     ]
    },
    {
     "name": "stderr",
     "output_type": "stream",
     "text": [
      "[I 2024-12-12 22:19:49,185] Trial 27 pruned. \n",
      "[I 2024-12-12 22:19:49,303] Trial 28 pruned. \n",
      "[I 2024-12-12 22:20:00,249] Trial 29 finished with value: 0.23456648721306436 and parameters: {'dropout1': 0.30000000000000004, 'dropout2': 0.25, 'learning_rate': 0.00015717732671742575, 'weight_decay': 0.011581970207922374}. Best is trial 15 with value: 0.2629502940535666.\n",
      "/tmp/ipykernel_1421115/3503316040.py:5: FutureWarning: suggest_loguniform has been deprecated in v3.0.0. This feature will be removed in v6.0.0. See https://github.com/optuna/optuna/releases/tag/v3.0.0. Use suggest_float(..., log=True) instead.\n",
      "  learning_rate = trial.suggest_loguniform(\"learning_rate\", 1e-4, 1e-1)\n",
      "/tmp/ipykernel_1421115/3503316040.py:6: FutureWarning: suggest_loguniform has been deprecated in v3.0.0. This feature will be removed in v6.0.0. See https://github.com/optuna/optuna/releases/tag/v3.0.0. Use suggest_float(..., log=True) instead.\n",
      "  weight_decay=trial.suggest_loguniform(\"weight_decay\", 1e-4, 1e-1)\n",
      "[I 2024-12-12 22:20:00,347] Trial 30 pruned. \n",
      "[I 2024-12-12 22:20:00,443] Trial 31 pruned. \n"
     ]
    },
    {
     "name": "stdout",
     "output_type": "stream",
     "text": [
      "Final MCC: 0.2346\n"
     ]
    },
    {
     "name": "stderr",
     "output_type": "stream",
     "text": [
      "[I 2024-12-12 22:20:00,569] Trial 32 pruned. \n",
      "[I 2024-12-12 22:20:00,694] Trial 33 pruned. \n",
      "[I 2024-12-12 22:20:09,498] Trial 34 finished with value: 0.22021303264001046 and parameters: {'dropout1': 0.30000000000000004, 'dropout2': 0.2, 'learning_rate': 0.00021333673898528006, 'weight_decay': 0.011176403569579364}. Best is trial 15 with value: 0.2629502940535666.\n",
      "/tmp/ipykernel_1421115/3503316040.py:5: FutureWarning: suggest_loguniform has been deprecated in v3.0.0. This feature will be removed in v6.0.0. See https://github.com/optuna/optuna/releases/tag/v3.0.0. Use suggest_float(..., log=True) instead.\n",
      "  learning_rate = trial.suggest_loguniform(\"learning_rate\", 1e-4, 1e-1)\n",
      "/tmp/ipykernel_1421115/3503316040.py:6: FutureWarning: suggest_loguniform has been deprecated in v3.0.0. This feature will be removed in v6.0.0. See https://github.com/optuna/optuna/releases/tag/v3.0.0. Use suggest_float(..., log=True) instead.\n",
      "  weight_decay=trial.suggest_loguniform(\"weight_decay\", 1e-4, 1e-1)\n",
      "[I 2024-12-12 22:20:09,620] Trial 35 pruned. \n"
     ]
    },
    {
     "name": "stdout",
     "output_type": "stream",
     "text": [
      "Early stopping at epoch 85\n",
      "Final MCC: 0.2202\n"
     ]
    },
    {
     "name": "stderr",
     "output_type": "stream",
     "text": [
      "[I 2024-12-12 22:20:09,748] Trial 36 pruned. \n",
      "[I 2024-12-12 22:20:09,852] Trial 37 pruned. \n",
      "[I 2024-12-12 22:20:09,968] Trial 38 pruned. \n",
      "[I 2024-12-12 22:20:10,086] Trial 39 pruned. \n",
      "[I 2024-12-12 22:20:10,188] Trial 40 pruned. \n",
      "[I 2024-12-12 22:20:10,306] Trial 41 pruned. \n",
      "[I 2024-12-12 22:20:10,422] Trial 42 pruned. \n",
      "[I 2024-12-12 22:20:16,282] Trial 43 finished with value: 0.2253425835243262 and parameters: {'dropout1': 0.25, 'dropout2': 0.15000000000000002, 'learning_rate': 0.00020093513478540982, 'weight_decay': 0.004113716326516047}. Best is trial 15 with value: 0.2629502940535666.\n"
     ]
    },
    {
     "name": "stdout",
     "output_type": "stream",
     "text": [
      "Early stopping at epoch 55\n",
      "Final MCC: 0.2253\n"
     ]
    },
    {
     "name": "stderr",
     "output_type": "stream",
     "text": [
      "/tmp/ipykernel_1421115/3503316040.py:5: FutureWarning: suggest_loguniform has been deprecated in v3.0.0. This feature will be removed in v6.0.0. See https://github.com/optuna/optuna/releases/tag/v3.0.0. Use suggest_float(..., log=True) instead.\n",
      "  learning_rate = trial.suggest_loguniform(\"learning_rate\", 1e-4, 1e-1)\n",
      "/tmp/ipykernel_1421115/3503316040.py:6: FutureWarning: suggest_loguniform has been deprecated in v3.0.0. This feature will be removed in v6.0.0. See https://github.com/optuna/optuna/releases/tag/v3.0.0. Use suggest_float(..., log=True) instead.\n",
      "  weight_decay=trial.suggest_loguniform(\"weight_decay\", 1e-4, 1e-1)\n",
      "[I 2024-12-12 22:20:22,152] Trial 44 finished with value: 0.19255518083326909 and parameters: {'dropout1': 0.25, 'dropout2': 0.15000000000000002, 'learning_rate': 0.0005385911515683612, 'weight_decay': 0.002423408665476769}. Best is trial 15 with value: 0.2629502940535666.\n",
      "/tmp/ipykernel_1421115/3503316040.py:5: FutureWarning: suggest_loguniform has been deprecated in v3.0.0. This feature will be removed in v6.0.0. See https://github.com/optuna/optuna/releases/tag/v3.0.0. Use suggest_float(..., log=True) instead.\n",
      "  learning_rate = trial.suggest_loguniform(\"learning_rate\", 1e-4, 1e-1)\n",
      "/tmp/ipykernel_1421115/3503316040.py:6: FutureWarning: suggest_loguniform has been deprecated in v3.0.0. This feature will be removed in v6.0.0. See https://github.com/optuna/optuna/releases/tag/v3.0.0. Use suggest_float(..., log=True) instead.\n",
      "  weight_decay=trial.suggest_loguniform(\"weight_decay\", 1e-4, 1e-1)\n",
      "[I 2024-12-12 22:20:22,279] Trial 45 pruned. \n"
     ]
    },
    {
     "name": "stdout",
     "output_type": "stream",
     "text": [
      "Early stopping at epoch 55\n",
      "Final MCC: 0.1926\n"
     ]
    },
    {
     "name": "stderr",
     "output_type": "stream",
     "text": [
      "[I 2024-12-12 22:20:32,669] Trial 46 finished with value: 0.2601302125462921 and parameters: {'dropout1': 0.2, 'dropout2': 0.35000000000000003, 'learning_rate': 0.0001308677173298209, 'weight_decay': 0.005833497857889777}. Best is trial 15 with value: 0.2629502940535666.\n",
      "/tmp/ipykernel_1421115/3503316040.py:5: FutureWarning: suggest_loguniform has been deprecated in v3.0.0. This feature will be removed in v6.0.0. See https://github.com/optuna/optuna/releases/tag/v3.0.0. Use suggest_float(..., log=True) instead.\n",
      "  learning_rate = trial.suggest_loguniform(\"learning_rate\", 1e-4, 1e-1)\n",
      "/tmp/ipykernel_1421115/3503316040.py:6: FutureWarning: suggest_loguniform has been deprecated in v3.0.0. This feature will be removed in v6.0.0. See https://github.com/optuna/optuna/releases/tag/v3.0.0. Use suggest_float(..., log=True) instead.\n",
      "  weight_decay=trial.suggest_loguniform(\"weight_decay\", 1e-4, 1e-1)\n",
      "[I 2024-12-12 22:20:32,788] Trial 47 pruned. \n"
     ]
    },
    {
     "name": "stdout",
     "output_type": "stream",
     "text": [
      "Final MCC: 0.2601\n"
     ]
    },
    {
     "name": "stderr",
     "output_type": "stream",
     "text": [
      "[I 2024-12-12 22:20:32,908] Trial 48 pruned. \n",
      "[I 2024-12-12 22:20:33,024] Trial 49 pruned. \n",
      "[I 2024-12-12 22:20:42,345] Trial 50 finished with value: 0.13792079258844206 and parameters: {'dropout1': 0.25, 'dropout2': 0.30000000000000004, 'learning_rate': 0.0004640566483822777, 'weight_decay': 0.005775410122286573}. Best is trial 15 with value: 0.2629502940535666.\n",
      "/tmp/ipykernel_1421115/3503316040.py:5: FutureWarning: suggest_loguniform has been deprecated in v3.0.0. This feature will be removed in v6.0.0. See https://github.com/optuna/optuna/releases/tag/v3.0.0. Use suggest_float(..., log=True) instead.\n",
      "  learning_rate = trial.suggest_loguniform(\"learning_rate\", 1e-4, 1e-1)\n",
      "/tmp/ipykernel_1421115/3503316040.py:6: FutureWarning: suggest_loguniform has been deprecated in v3.0.0. This feature will be removed in v6.0.0. See https://github.com/optuna/optuna/releases/tag/v3.0.0. Use suggest_float(..., log=True) instead.\n",
      "  weight_decay=trial.suggest_loguniform(\"weight_decay\", 1e-4, 1e-1)\n",
      "[I 2024-12-12 22:20:42,470] Trial 51 pruned. \n"
     ]
    },
    {
     "name": "stdout",
     "output_type": "stream",
     "text": [
      "Early stopping at epoch 88\n",
      "Final MCC: 0.1379\n"
     ]
    },
    {
     "name": "stderr",
     "output_type": "stream",
     "text": [
      "[I 2024-12-12 22:20:42,596] Trial 52 pruned. \n",
      "[I 2024-12-12 22:20:42,725] Trial 53 pruned. \n",
      "[I 2024-12-12 22:20:42,854] Trial 54 pruned. \n",
      "[I 2024-12-12 22:20:42,981] Trial 55 pruned. \n",
      "[I 2024-12-12 22:20:43,110] Trial 56 pruned. \n",
      "[I 2024-12-12 22:20:43,238] Trial 57 pruned. \n",
      "[I 2024-12-12 22:20:43,367] Trial 58 pruned. \n",
      "[I 2024-12-12 22:20:43,495] Trial 59 pruned. \n",
      "[I 2024-12-12 22:20:43,622] Trial 60 pruned. \n",
      "[I 2024-12-12 22:20:43,726] Trial 61 pruned. \n",
      "[I 2024-12-12 22:20:43,854] Trial 62 pruned. \n",
      "[I 2024-12-12 22:20:49,807] Trial 63 finished with value: 0.29423919957760236 and parameters: {'dropout1': 0.35000000000000003, 'dropout2': 0.2, 'learning_rate': 0.00018640742190033724, 'weight_decay': 0.015210881606490572}. Best is trial 63 with value: 0.29423919957760236.\n",
      "/tmp/ipykernel_1421115/3503316040.py:5: FutureWarning: suggest_loguniform has been deprecated in v3.0.0. This feature will be removed in v6.0.0. See https://github.com/optuna/optuna/releases/tag/v3.0.0. Use suggest_float(..., log=True) instead.\n",
      "  learning_rate = trial.suggest_loguniform(\"learning_rate\", 1e-4, 1e-1)\n",
      "/tmp/ipykernel_1421115/3503316040.py:6: FutureWarning: suggest_loguniform has been deprecated in v3.0.0. This feature will be removed in v6.0.0. See https://github.com/optuna/optuna/releases/tag/v3.0.0. Use suggest_float(..., log=True) instead.\n",
      "  weight_decay=trial.suggest_loguniform(\"weight_decay\", 1e-4, 1e-1)\n",
      "[I 2024-12-12 22:20:49,937] Trial 64 pruned. \n"
     ]
    },
    {
     "name": "stdout",
     "output_type": "stream",
     "text": [
      "Early stopping at epoch 53\n",
      "Final MCC: 0.2942\n"
     ]
    },
    {
     "name": "stderr",
     "output_type": "stream",
     "text": [
      "[I 2024-12-12 22:20:50,058] Trial 65 pruned. \n",
      "[I 2024-12-12 22:20:50,188] Trial 66 pruned. \n",
      "[I 2024-12-12 22:21:01,070] Trial 67 finished with value: 0.29817371283399563 and parameters: {'dropout1': 0.5, 'dropout2': 0.2, 'learning_rate': 0.00010142164588457326, 'weight_decay': 0.006116488052196242}. Best is trial 67 with value: 0.29817371283399563.\n",
      "/tmp/ipykernel_1421115/3503316040.py:5: FutureWarning: suggest_loguniform has been deprecated in v3.0.0. This feature will be removed in v6.0.0. See https://github.com/optuna/optuna/releases/tag/v3.0.0. Use suggest_float(..., log=True) instead.\n",
      "  learning_rate = trial.suggest_loguniform(\"learning_rate\", 1e-4, 1e-1)\n",
      "/tmp/ipykernel_1421115/3503316040.py:6: FutureWarning: suggest_loguniform has been deprecated in v3.0.0. This feature will be removed in v6.0.0. See https://github.com/optuna/optuna/releases/tag/v3.0.0. Use suggest_float(..., log=True) instead.\n",
      "  weight_decay=trial.suggest_loguniform(\"weight_decay\", 1e-4, 1e-1)\n",
      "[I 2024-12-12 22:21:01,199] Trial 68 pruned. \n"
     ]
    },
    {
     "name": "stdout",
     "output_type": "stream",
     "text": [
      "Final MCC: 0.2982\n"
     ]
    },
    {
     "name": "stderr",
     "output_type": "stream",
     "text": [
      "[I 2024-12-12 22:21:01,330] Trial 69 pruned. \n",
      "[I 2024-12-12 22:21:01,458] Trial 70 pruned. \n",
      "[I 2024-12-12 22:21:01,583] Trial 71 pruned. \n",
      "[I 2024-12-12 22:21:01,721] Trial 72 pruned. \n",
      "[I 2024-12-12 22:21:01,848] Trial 73 pruned. \n",
      "[I 2024-12-12 22:21:01,974] Trial 74 pruned. \n",
      "[I 2024-12-12 22:21:02,085] Trial 75 pruned. \n",
      "[I 2024-12-12 22:21:02,210] Trial 76 pruned. \n",
      "[I 2024-12-12 22:21:02,340] Trial 77 pruned. \n",
      "[I 2024-12-12 22:21:02,467] Trial 78 pruned. \n",
      "[I 2024-12-12 22:21:02,597] Trial 79 pruned. \n",
      "[I 2024-12-12 22:21:02,728] Trial 80 pruned. \n",
      "[I 2024-12-12 22:21:02,851] Trial 81 pruned. \n",
      "[I 2024-12-12 22:21:12,252] Trial 82 finished with value: 0.27533366183038216 and parameters: {'dropout1': 0.30000000000000004, 'dropout2': 0.2, 'learning_rate': 0.00012341952769439482, 'weight_decay': 0.031334112871788}. Best is trial 67 with value: 0.29817371283399563.\n",
      "/tmp/ipykernel_1421115/3503316040.py:5: FutureWarning: suggest_loguniform has been deprecated in v3.0.0. This feature will be removed in v6.0.0. See https://github.com/optuna/optuna/releases/tag/v3.0.0. Use suggest_float(..., log=True) instead.\n",
      "  learning_rate = trial.suggest_loguniform(\"learning_rate\", 1e-4, 1e-1)\n",
      "/tmp/ipykernel_1421115/3503316040.py:6: FutureWarning: suggest_loguniform has been deprecated in v3.0.0. This feature will be removed in v6.0.0. See https://github.com/optuna/optuna/releases/tag/v3.0.0. Use suggest_float(..., log=True) instead.\n",
      "  weight_decay=trial.suggest_loguniform(\"weight_decay\", 1e-4, 1e-1)\n",
      "[I 2024-12-12 22:21:12,369] Trial 83 pruned. \n"
     ]
    },
    {
     "name": "stdout",
     "output_type": "stream",
     "text": [
      "Early stopping at epoch 90\n",
      "Final MCC: 0.2753\n"
     ]
    },
    {
     "name": "stderr",
     "output_type": "stream",
     "text": [
      "[I 2024-12-12 22:21:12,482] Trial 84 pruned. \n",
      "[I 2024-12-12 22:21:23,251] Trial 85 finished with value: 0.2790189265994532 and parameters: {'dropout1': 0.25, 'dropout2': 0.2, 'learning_rate': 0.00011858443145057931, 'weight_decay': 0.052157199544943196}. Best is trial 67 with value: 0.29817371283399563.\n",
      "/tmp/ipykernel_1421115/3503316040.py:5: FutureWarning: suggest_loguniform has been deprecated in v3.0.0. This feature will be removed in v6.0.0. See https://github.com/optuna/optuna/releases/tag/v3.0.0. Use suggest_float(..., log=True) instead.\n",
      "  learning_rate = trial.suggest_loguniform(\"learning_rate\", 1e-4, 1e-1)\n",
      "/tmp/ipykernel_1421115/3503316040.py:6: FutureWarning: suggest_loguniform has been deprecated in v3.0.0. This feature will be removed in v6.0.0. See https://github.com/optuna/optuna/releases/tag/v3.0.0. Use suggest_float(..., log=True) instead.\n",
      "  weight_decay=trial.suggest_loguniform(\"weight_decay\", 1e-4, 1e-1)\n",
      "[I 2024-12-12 22:21:23,388] Trial 86 pruned. \n"
     ]
    },
    {
     "name": "stdout",
     "output_type": "stream",
     "text": [
      "Final MCC: 0.2790\n"
     ]
    },
    {
     "name": "stderr",
     "output_type": "stream",
     "text": [
      "[I 2024-12-12 22:21:34,067] Trial 87 finished with value: 0.24305670822507378 and parameters: {'dropout1': 0.30000000000000004, 'dropout2': 0.25, 'learning_rate': 0.00014769451766640312, 'weight_decay': 0.04241164840754059}. Best is trial 67 with value: 0.29817371283399563.\n",
      "/tmp/ipykernel_1421115/3503316040.py:5: FutureWarning: suggest_loguniform has been deprecated in v3.0.0. This feature will be removed in v6.0.0. See https://github.com/optuna/optuna/releases/tag/v3.0.0. Use suggest_float(..., log=True) instead.\n",
      "  learning_rate = trial.suggest_loguniform(\"learning_rate\", 1e-4, 1e-1)\n",
      "/tmp/ipykernel_1421115/3503316040.py:6: FutureWarning: suggest_loguniform has been deprecated in v3.0.0. This feature will be removed in v6.0.0. See https://github.com/optuna/optuna/releases/tag/v3.0.0. Use suggest_float(..., log=True) instead.\n",
      "  weight_decay=trial.suggest_loguniform(\"weight_decay\", 1e-4, 1e-1)\n",
      "[I 2024-12-12 22:21:34,199] Trial 88 pruned. \n"
     ]
    },
    {
     "name": "stdout",
     "output_type": "stream",
     "text": [
      "Final MCC: 0.2431\n"
     ]
    },
    {
     "name": "stderr",
     "output_type": "stream",
     "text": [
      "[I 2024-12-12 22:21:34,334] Trial 89 pruned. \n",
      "[I 2024-12-12 22:21:44,447] Trial 90 finished with value: 0.0 and parameters: {'dropout1': 0.35000000000000003, 'dropout2': 0.2, 'learning_rate': 0.00011155215135806786, 'weight_decay': 0.07553932954241735}. Best is trial 67 with value: 0.29817371283399563.\n",
      "/tmp/ipykernel_1421115/3503316040.py:5: FutureWarning: suggest_loguniform has been deprecated in v3.0.0. This feature will be removed in v6.0.0. See https://github.com/optuna/optuna/releases/tag/v3.0.0. Use suggest_float(..., log=True) instead.\n",
      "  learning_rate = trial.suggest_loguniform(\"learning_rate\", 1e-4, 1e-1)\n",
      "/tmp/ipykernel_1421115/3503316040.py:6: FutureWarning: suggest_loguniform has been deprecated in v3.0.0. This feature will be removed in v6.0.0. See https://github.com/optuna/optuna/releases/tag/v3.0.0. Use suggest_float(..., log=True) instead.\n",
      "  weight_decay=trial.suggest_loguniform(\"weight_decay\", 1e-4, 1e-1)\n",
      "[I 2024-12-12 22:21:44,564] Trial 91 pruned. \n"
     ]
    },
    {
     "name": "stdout",
     "output_type": "stream",
     "text": [
      "Final MCC: 0.0000\n"
     ]
    },
    {
     "name": "stderr",
     "output_type": "stream",
     "text": [
      "[I 2024-12-12 22:21:44,693] Trial 92 pruned. \n",
      "[I 2024-12-12 22:21:44,821] Trial 93 pruned. \n",
      "[I 2024-12-12 22:21:44,941] Trial 94 pruned. \n",
      "[I 2024-12-12 22:21:45,066] Trial 95 pruned. \n",
      "[I 2024-12-12 22:21:45,191] Trial 96 pruned. \n",
      "[I 2024-12-12 22:21:45,317] Trial 97 pruned. \n",
      "[I 2024-12-12 22:21:45,441] Trial 98 pruned. \n",
      "[I 2024-12-12 22:21:45,589] Trial 99 pruned. \n"
     ]
    },
    {
     "name": "stdout",
     "output_type": "stream",
     "text": [
      "Best Parameters:  {'dropout1': 0.5, 'dropout2': 0.2, 'learning_rate': 0.00010142164588457326, 'weight_decay': 0.006116488052196242}\n",
      "Best Validation F1:  0.29817371283399563\n"
     ]
    }
   ],
   "source": [
    "device_id = 1\n",
    "torch.cuda.set_device(device_id)\n",
    "device = torch.device(f\"cuda:{device_id}\" if torch.cuda.is_available() else \"cpu\")\n",
    "\n",
    "# Optunaの設定\n",
    "study = optuna.create_study(direction=\"maximize\")  \n",
    "study.optimize(objective, n_trials=100)\n",
    "\n",
    "# 結果表示\n",
    "print(\"Best Parameters: \", study.best_params)\n",
    "print(\"Best Validation F1: \", study.best_value)"
   ]
  },
  {
   "cell_type": "code",
   "execution_count": 187,
   "metadata": {},
   "outputs": [
    {
     "name": "stdout",
     "output_type": "stream",
     "text": [
      "Best parameters saved to 'best_params.json'\n"
     ]
    }
   ],
   "source": [
    "best_params = study.best_params\n",
    "\n",
    "# JSON形式で保存\n",
    "with open(\"optim_param/stack_DNN_params.json\", \"w\") as f:\n",
    "    json.dump(best_params, f)\n",
    "\n",
    "print(\"Best parameters saved to 'best_params.json'\")"
   ]
  },
  {
   "cell_type": "code",
   "execution_count": 270,
   "metadata": {},
   "outputs": [
    {
     "name": "stdout",
     "output_type": "stream",
     "text": [
      "Epoch [1/60], Loss: 0.7452\n",
      "Epoch [1/60], Train Loss: 0.7452, Val Loss: 0.7250\n",
      "Epoch [2/60], Loss: 0.7440\n",
      "Epoch [2/60], Train Loss: 0.7440, Val Loss: 0.7201\n",
      "Epoch [3/60], Loss: 0.7416\n",
      "Epoch [3/60], Train Loss: 0.7416, Val Loss: 0.7154\n",
      "Epoch [4/60], Loss: 0.7322\n",
      "Epoch [4/60], Train Loss: 0.7322, Val Loss: 0.7103\n",
      "Epoch [5/60], Loss: 0.7265\n",
      "Epoch [5/60], Train Loss: 0.7265, Val Loss: 0.7061\n",
      "Epoch [6/60], Loss: 0.7208\n",
      "Epoch [6/60], Train Loss: 0.7208, Val Loss: 0.7049\n",
      "Epoch [7/60], Loss: 0.7191\n",
      "Epoch [7/60], Train Loss: 0.7191, Val Loss: 0.6997\n",
      "Epoch [8/60], Loss: 0.7074\n",
      "Epoch [8/60], Train Loss: 0.7074, Val Loss: 0.6950\n",
      "Epoch [9/60], Loss: 0.7089\n",
      "Epoch [9/60], Train Loss: 0.7089, Val Loss: 0.6920\n",
      "Epoch [10/60], Loss: 0.6993\n",
      "Epoch [10/60], Train Loss: 0.6993, Val Loss: 0.6929\n",
      "Epoch [11/60], Loss: 0.6938\n",
      "Epoch [11/60], Train Loss: 0.6938, Val Loss: 0.6905\n",
      "Epoch [12/60], Loss: 0.6926\n",
      "Epoch [12/60], Train Loss: 0.6926, Val Loss: 0.6880\n",
      "Epoch [13/60], Loss: 0.6866\n",
      "Epoch [13/60], Train Loss: 0.6866, Val Loss: 0.6858\n",
      "Epoch [14/60], Loss: 0.6774\n",
      "Epoch [14/60], Train Loss: 0.6774, Val Loss: 0.6870\n",
      "Epoch [15/60], Loss: 0.6811\n",
      "Epoch [15/60], Train Loss: 0.6811, Val Loss: 0.6788\n",
      "Epoch [16/60], Loss: 0.6729\n",
      "Epoch [16/60], Train Loss: 0.6729, Val Loss: 0.6770\n",
      "Epoch [17/60], Loss: 0.6702\n",
      "Epoch [17/60], Train Loss: 0.6702, Val Loss: 0.6779\n",
      "Epoch [18/60], Loss: 0.6671\n",
      "Epoch [18/60], Train Loss: 0.6671, Val Loss: 0.6754\n",
      "Epoch [19/60], Loss: 0.6678\n",
      "Epoch [19/60], Train Loss: 0.6678, Val Loss: 0.6742\n",
      "Epoch [20/60], Loss: 0.6585\n",
      "Epoch [20/60], Train Loss: 0.6585, Val Loss: 0.6724\n",
      "Epoch [21/60], Loss: 0.6596\n",
      "Epoch [21/60], Train Loss: 0.6596, Val Loss: 0.6686\n",
      "Epoch [22/60], Loss: 0.6556\n",
      "Epoch [22/60], Train Loss: 0.6556, Val Loss: 0.6679\n",
      "Epoch [23/60], Loss: 0.6573\n",
      "Epoch [23/60], Train Loss: 0.6573, Val Loss: 0.6642\n",
      "Epoch [24/60], Loss: 0.6471\n",
      "Epoch [24/60], Train Loss: 0.6471, Val Loss: 0.6646\n",
      "Epoch [25/60], Loss: 0.6462\n",
      "Epoch [25/60], Train Loss: 0.6462, Val Loss: 0.6638\n",
      "Epoch [26/60], Loss: 0.6416\n",
      "Epoch [26/60], Train Loss: 0.6416, Val Loss: 0.6641\n",
      "Epoch [27/60], Loss: 0.6402\n",
      "Epoch [27/60], Train Loss: 0.6402, Val Loss: 0.6633\n",
      "Epoch [28/60], Loss: 0.6381\n",
      "Epoch [28/60], Train Loss: 0.6381, Val Loss: 0.6606\n",
      "Epoch [29/60], Loss: 0.6322\n",
      "Epoch [29/60], Train Loss: 0.6322, Val Loss: 0.6612\n",
      "Epoch [30/60], Loss: 0.6333\n",
      "Epoch [30/60], Train Loss: 0.6333, Val Loss: 0.6560\n",
      "Epoch [31/60], Loss: 0.6351\n",
      "Epoch [31/60], Train Loss: 0.6351, Val Loss: 0.6582\n",
      "Epoch [32/60], Loss: 0.6274\n",
      "Epoch [32/60], Train Loss: 0.6274, Val Loss: 0.6576\n",
      "Epoch [33/60], Loss: 0.6272\n",
      "Epoch [33/60], Train Loss: 0.6272, Val Loss: 0.6564\n",
      "Epoch [34/60], Loss: 0.6256\n",
      "Epoch [34/60], Train Loss: 0.6256, Val Loss: 0.6563\n",
      "Epoch [35/60], Loss: 0.6211\n",
      "Epoch [35/60], Train Loss: 0.6211, Val Loss: 0.6580\n",
      "Epoch [36/60], Loss: 0.6208\n",
      "Epoch [36/60], Train Loss: 0.6208, Val Loss: 0.6547\n",
      "Epoch [37/60], Loss: 0.6191\n",
      "Epoch [37/60], Train Loss: 0.6191, Val Loss: 0.6533\n",
      "Epoch [38/60], Loss: 0.6096\n",
      "Epoch [38/60], Train Loss: 0.6096, Val Loss: 0.6545\n",
      "Epoch [39/60], Loss: 0.6105\n",
      "Epoch [39/60], Train Loss: 0.6105, Val Loss: 0.6547\n",
      "Epoch [40/60], Loss: 0.6125\n",
      "Epoch [40/60], Train Loss: 0.6125, Val Loss: 0.6534\n",
      "Epoch [41/60], Loss: 0.6074\n",
      "Epoch [41/60], Train Loss: 0.6074, Val Loss: 0.6514\n",
      "Epoch [42/60], Loss: 0.6072\n",
      "Epoch [42/60], Train Loss: 0.6072, Val Loss: 0.6503\n",
      "Epoch [43/60], Loss: 0.6032\n",
      "Epoch [43/60], Train Loss: 0.6032, Val Loss: 0.6503\n",
      "Epoch [44/60], Loss: 0.6019\n",
      "Epoch [44/60], Train Loss: 0.6019, Val Loss: 0.6504\n",
      "Epoch [45/60], Loss: 0.5977\n",
      "Epoch [45/60], Train Loss: 0.5977, Val Loss: 0.6480\n",
      "Epoch [46/60], Loss: 0.6021\n",
      "Epoch [46/60], Train Loss: 0.6021, Val Loss: 0.6471\n",
      "Epoch [47/60], Loss: 0.5930\n",
      "Epoch [47/60], Train Loss: 0.5930, Val Loss: 0.6480\n",
      "Epoch [48/60], Loss: 0.5942\n",
      "Epoch [48/60], Train Loss: 0.5942, Val Loss: 0.6456\n",
      "Epoch [49/60], Loss: 0.5923\n",
      "Epoch [49/60], Train Loss: 0.5923, Val Loss: 0.6451\n",
      "Epoch [50/60], Loss: 0.5866\n",
      "Epoch [50/60], Train Loss: 0.5866, Val Loss: 0.6452\n",
      "Epoch [51/60], Loss: 0.5841\n",
      "Epoch [51/60], Train Loss: 0.5841, Val Loss: 0.6445\n",
      "Epoch [52/60], Loss: 0.5900\n",
      "Epoch [52/60], Train Loss: 0.5900, Val Loss: 0.6452\n",
      "Epoch [53/60], Loss: 0.5834\n",
      "Epoch [53/60], Train Loss: 0.5834, Val Loss: 0.6458\n",
      "Epoch [54/60], Loss: 0.5843\n",
      "Epoch [54/60], Train Loss: 0.5843, Val Loss: 0.6413\n",
      "Epoch [55/60], Loss: 0.5807\n",
      "Epoch [55/60], Train Loss: 0.5807, Val Loss: 0.6408\n",
      "Epoch [56/60], Loss: 0.5830\n",
      "Epoch [56/60], Train Loss: 0.5830, Val Loss: 0.6388\n",
      "Epoch [57/60], Loss: 0.5757\n",
      "Epoch [57/60], Train Loss: 0.5757, Val Loss: 0.6386\n",
      "Epoch [58/60], Loss: 0.5758\n",
      "Epoch [58/60], Train Loss: 0.5758, Val Loss: 0.6387\n",
      "Epoch [59/60], Loss: 0.5787\n",
      "Epoch [59/60], Train Loss: 0.5787, Val Loss: 0.6387\n",
      "Epoch [60/60], Loss: 0.5765\n",
      "Epoch [60/60], Train Loss: 0.5765, Val Loss: 0.6403\n"
     ]
    },
    {
     "data": {
      "image/png": "[encoded data removed]",
      "text/plain": [
       "<Figure size 1000x600 with 1 Axes>"
      ]
     },
     "metadata": {},
     "output_type": "display_data"
    }
   ],
   "source": [
    "best_params=study.best_params\n",
    "model = meta_model(input_dim=X_train_tensor.shape[1],\n",
    "              dropout1=best_params[\"dropout1\"],\n",
    "              dropout2=best_params[\"dropout2\"]).to(device)\n",
    "# 最適化と訓練を実行\n",
    "optimizer = optim.Adam(model.parameters(), lr=best_params[\"learning_rate\"],weight_decay=best_params[\"weight_decay\"])\n",
    "criterion = nn.BCELoss()\n",
    "\n",
    "num_epochs=60\n",
    "train_losses = []\n",
    "val_losses = []\n",
    "\n",
    "model.train()\n",
    "for epoch in range(num_epochs):\n",
    "    epoch_train_loss = 0\n",
    "    epoch_val_loss = 0\n",
    "\n",
    "    for X_batch, y_batch in train_loader:\n",
    "        X_batch, y_batch = X_batch.to(device), y_batch.to(device)\n",
    "        optimizer.zero_grad()\n",
    "        outputs = model(X_batch).squeeze()\n",
    "        loss = criterion(outputs, y_batch.squeeze())\n",
    "        loss.backward()\n",
    "        optimizer.step()\n",
    "        epoch_train_loss += loss.item()\n",
    "    avg_train_loss = epoch_train_loss / len(train_loader)\n",
    "    train_losses.append(avg_train_loss)\n",
    "    print(f'Epoch [{epoch+1}/{num_epochs}], Loss: {avg_train_loss:.4f}')\n",
    "\n",
    "    if val_loader is not None:\n",
    "        model.eval()  \n",
    "        with torch.no_grad():\n",
    "            for X_val, y_val in val_loader:\n",
    "                X_val, y_val = X_val.to(device), y_val.to(device)\n",
    "                val_outputs = model(X_val).squeeze()\n",
    "                val_loss = criterion(val_outputs, y_val.squeeze())\n",
    "                epoch_val_loss += val_loss.item()\n",
    "\n",
    "        avg_val_loss = epoch_val_loss / len(val_loader)\n",
    "        val_losses.append(avg_val_loss)\n",
    "        model.train()  \n",
    "\n",
    "    if val_loader is not None:\n",
    "        print(f\"Epoch [{epoch+1}/{num_epochs}], Train Loss: {avg_train_loss:.4f}, Val Loss: {avg_val_loss:.4f}\")\n",
    "    else:\n",
    "        print(f\"Epoch [{epoch+1}/{num_epochs}], Train Loss: {avg_train_loss:.4f}\")\n",
    "\n",
    "plt.figure(figsize=(10, 6))\n",
    "plt.plot(range(1, num_epochs + 1), train_losses, label='Train Loss')\n",
    "if val_losses:\n",
    "    plt.plot(range(1, num_epochs + 1), val_losses, label='Validation Loss')\n",
    "plt.xlabel('Epoch')\n",
    "plt.ylabel('Loss')\n",
    "plt.title('Learning Curve for stacking')\n",
    "plt.legend()\n",
    "plt.grid()\n",
    "plt.show()"
   ]
  },
  {
   "cell_type": "code",
   "execution_count": 271,
   "metadata": {},
   "outputs": [
    {
     "name": "stdout",
     "output_type": "stream",
     "text": [
      "Accuracy: 58.43%\n",
      "Precision: 0.4795\n",
      "Recall: 0.8968\n",
      "F1 Score: 0.6249\n",
      "Matthews Correlation Coefficient: 0.3092\n",
      "Specificity: 0.3878\n"
     ]
    },
    {
     "data": {
      "image/png": "[encoded data removed]",
      "text/plain": [
       "<Figure size 640x480 with 1 Axes>"
      ]
     },
     "metadata": {},
     "output_type": "display_data"
    },
    {
     "data": {
      "image/png": "[encoded data removed]",
      "text/plain": [
       "<Figure size 640x480 with 1 Axes>"
      ]
     },
     "metadata": {},
     "output_type": "display_data"
    },
    {
     "data": {
      "image/png": "[encoded data removed]",
      "text/plain": [
       "<Figure size 640x480 with 1 Axes>"
      ]
     },
     "metadata": {},
     "output_type": "display_data"
    }
   ],
   "source": [
    "model.eval()\n",
    "with torch.no_grad():\n",
    "    X_test_tensor = X_test_tensor.to(device)\n",
    "    y_test_tensor = y_test_tensor.to(device)\n",
    "\n",
    "    # 予測と確率\n",
    "    test_outputs = model(X_test_tensor).squeeze()\n",
    "    predictions = (test_outputs >=0.5).float()\n",
    "    y_true = y_test_tensor.cpu().numpy()\n",
    "    y_pred = predictions.cpu().numpy()\n",
    "    y_prob = test_outputs.cpu().numpy()\n",
    "\n",
    "# 評価指標\n",
    "    accuracy = accuracy_score(y_true, y_pred)\n",
    "    precision = precision_score(y_true, y_pred)\n",
    "    recall = recall_score(y_true, y_pred)\n",
    "    f1 = f1_score(y_true, y_pred)\n",
    "    mcc = matthews_corrcoef(y_true, y_pred)\n",
    "    specificity = recall_score(y_true, y_pred, pos_label=0)  \n",
    "    print(f'Accuracy: {accuracy * 100:.2f}%')\n",
    "    print(f'Precision: {precision:.4f}')\n",
    "    print(f'Recall: {recall:.4f}')\n",
    "    print(f'F1 Score: {f1:.4f}')\n",
    "    print(f'Matthews Correlation Coefficient: {mcc:.4f}')\n",
    "    print(f'Specificity: {specificity:.4f}')\n",
    "\n",
    "    # 混同行列（割合表示）\n",
    "    cm = confusion_matrix(y_true, y_pred, normalize='true')\n",
    "    sns.heatmap(cm, annot=True, fmt=\".2%\", cmap=\"Blues\", cbar=False)\n",
    "    plt.xlabel(\"Predicted\")\n",
    "    plt.ylabel(\"Actual\")\n",
    "    plt.title(f\"Confusion Matrix (Normalized)\")\n",
    "    plt.show()\n",
    "\n",
    "    # ROC曲線とAUC\n",
    "    fpr, tpr, thresholds = roc_curve(y_true, y_prob)\n",
    "    roc_auc = auc(fpr, tpr)\n",
    "    plt.plot(fpr, tpr, label=f'ROC curve (AUC = {roc_auc:.2f})')\n",
    "    plt.plot([0, 1], [0, 1], 'k--') \n",
    "    plt.xlabel('False Positive Rate')\n",
    "    plt.ylabel('True Positive Rate')\n",
    "    plt.title(f'ROC Curve - Model ')\n",
    "    plt.legend(loc=\"lower right\")\n",
    "    plt.show()\n",
    "\n",
    "    # Precision-Recall曲線\n",
    "    precision_curve, recall_curve, pr_thresholds = precision_recall_curve(y_true, y_prob)\n",
    "    pr_auc = auc(recall_curve, precision_curve)\n",
    "    plt.plot(recall_curve, precision_curve, label=f'PR curve (AUC = {pr_auc:.2f})')\n",
    "    plt.xlabel('Recall')\n",
    "    plt.ylabel('Precision')\n",
    "    plt.title(f'Precision-Recall Curve ')\n",
    "    plt.legend(loc=\"lower left\")\n",
    "    plt.show()    "
   ]
  },
  {
   "cell_type": "code",
   "execution_count": null,
   "metadata": {},
   "outputs": [],
   "source": [
    "torch.save(model.state_dict(), 'model_params/stack_model_DNN.pth')"
   ]
  }
 ],
 "metadata": {
  "kernelspec": {
   "display_name": "torch",
   "language": "python",
   "name": "python3"
  },
  "language_info": {
   "codemirror_mode": {
    "name": "ipython",
    "version": 3
   },
   "file_extension": ".py",
   "mimetype": "text/x-python",
   "name": "python",
   "nbconvert_exporter": "python",
   "pygments_lexer": "ipython3",
   "version": "3.12.7"
  }
 },
 "nbformat": 4,
 "nbformat_minor": 2
}
