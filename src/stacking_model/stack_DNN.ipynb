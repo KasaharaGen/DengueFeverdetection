{
 "cells": [
  {
   "cell_type": "code",
   "execution_count": 29,
   "metadata": {},
   "outputs": [],
   "source": [
    "import torch\n",
    "import torch.nn as nn\n",
    "import torch.nn.functional as F\n",
    "import torch.optim as optim\n",
    "import numpy as np\n",
    "import json\n",
    "\n",
    "from sklearn.ensemble import RandomForestClassifier\n",
    "from sklearn.svm import SVC\n",
    "\n",
    "from sklearn.preprocessing import MinMaxScaler, StandardScaler\n",
    "from sklearn.decomposition import PCA\n",
    "from sklearn.manifold import TSNE\n",
    "from sklearn.cluster import KMeans\n",
    "from scipy.spatial.distance import cdist\n",
    "\n",
    "import optuna\n",
    "\n",
    "import pandas as pd\n",
    "import matplotlib.pyplot as plt\n",
    "import seaborn as sns\n",
    "\n",
    "from sklearn.model_selection import train_test_split\n",
    "from sklearn.metrics import confusion_matrix,accuracy_score, precision_score, recall_score, f1_score, confusion_matrix, roc_curve, auc,matthews_corrcoef, precision_recall_curve,roc_auc_score\n",
    "\n",
    "\n"
   ]
  },
  {
   "cell_type": "code",
   "execution_count": 30,
   "metadata": {},
   "outputs": [],
   "source": [
    "with open(\"optim_param/optim_DNN_1_params.json\", \"r\") as f:\n",
    "    DNN_1_params = json.load(f)\n",
    "\n",
    "with open(\"optim_param/optim_DNN_2_params.json\", \"r\") as f:\n",
    "    DNN_2_params = json.load(f)\n",
    "\n",
    "with open(\"optim_param/optim_DNN_3_params.json\", \"r\") as f:\n",
    "    DNN_3_params = json.load(f)\n",
    "\n",
    "with open(\"optim_param/optim_DNN_4_params.json\", \"r\") as f:\n",
    "    DNN_4_params = json.load(f)\n",
    "\n",
    "with open(\"optim_param/optim_DNN_5_params.json\", \"r\") as f:\n",
    "    DNN_5_params = json.load(f)\n",
    "\n",
    "with open(\"optim_param/optim_DNN_6_params.json\", \"r\") as f:\n",
    "    DNN_6_params = json.load(f)\n",
    "\n",
    "with open(\"optim_param/optim_DNN_7_params.json\", \"r\") as f:\n",
    "    DNN_7_params = json.load(f)\n",
    "\n",
    "with open(\"optim_param/optim_ResNet_params.json\", \"r\") as f:\n",
    "    ResNet_params = json.load(f)\n",
    "\n",
    "with open(\"optim_param/optim_FTTansformer_params.json\", \"r\") as f:\n",
    "    FTTransformer_params = json.load(f)"
   ]
  },
  {
   "cell_type": "code",
   "execution_count": null,
   "metadata": {},
   "outputs": [],
   "source": [
    "class DNN_1(nn.Module):\n",
    "    def __init__(self, input_dim, dropout_rate=DNN_1_params[\"dropout\"]):\n",
    "        super(DNN_1, self).__init__()\n",
    "        self.layer1 = nn.Linear(input_dim, 32)\n",
    "        self.bn1 = nn.BatchNorm1d(32)\n",
    "        self.layer2 = nn.Linear(32, 16)\n",
    "        self.bn2 = nn.BatchNorm1d(16)\n",
    "        self.layer3 = nn.Linear(16, 8)\n",
    "        self.bn3 = nn.BatchNorm1d(8)\n",
    "        self.layer4 = nn.Linear(8, 4)\n",
    "        self.bn4 = nn.BatchNorm1d(4)\n",
    "        self.output_layer = nn.Linear(4, 1)\n",
    "\n",
    "        self.dropout = nn.Dropout(dropout_rate)\n",
    "        \n",
    "    def forward(self, x):\n",
    "        x = torch.relu(self.bn1(self.layer1(x)))  \n",
    "        x = self.dropout(x)\n",
    "        \n",
    "        x = torch.relu(self.bn2(self.layer2(x)))  \n",
    "        x = self.dropout(x)\n",
    "\n",
    "        x = torch.relu(self.bn3(self.layer3(x)))  \n",
    "        x = self.dropout(x)\n",
    "\n",
    "        x = torch.relu(self.bn4(self.layer4(x))) \n",
    "        x = self.dropout(x)\n",
    "\n",
    "        x = torch.sigmoid(self.output_layer(x)) \n",
    "        return x"
   ]
  },
  {
   "cell_type": "code",
   "execution_count": null,
   "metadata": {},
   "outputs": [],
   "source": [
    "class DNN_2(nn.Module):\n",
    "    def __init__(self, input_dim,dropout1=DNN_2_params[\"dropout1\"],dropout2=DNN_2_params[\"dropout2\"],dropout3=DNN_2_params[\"dropout3\"],dropout4=DNN_2_params[\"dropout4\"]):\n",
    "        super(DNN_2, self).__init__()\n",
    "        self.layer1 = nn.Linear(input_dim,32)\n",
    "        self.layer2 = nn.Linear(32,16)\n",
    "        self.layer3 = nn.Linear(16,8)\n",
    "        self.layer4 = nn.Linear(8,4)\n",
    "        self.output_layer = nn.Linear(4, 1)\n",
    "\n",
    "        self.bn1=nn.BatchNorm1d(32)\n",
    "        self.bn2=nn.BatchNorm1d(16)\n",
    "        self.bn3=nn.BatchNorm1d(8)\n",
    "        self.bn4=nn.BatchNorm1d(4)\n",
    "\n",
    "\n",
    "        self.dropout1 = nn.Dropout(dropout1)\n",
    "        self.dropout2 = nn.Dropout(dropout2)\n",
    "        self.dropout3 = nn.Dropout(dropout3)\n",
    "        self.dropout4 = nn.Dropout(dropout4)\n",
    "\n",
    "        \n",
    "        \n",
    "    def forward(self, x):\n",
    "        x = torch.relu(self.bn1(self.layer1(x)))\n",
    "        x = self.dropout1(x)\n",
    "        \n",
    "        x = torch.relu(self.bn2(self.layer2(x)))\n",
    "        x = self.dropout2(x)\n",
    "\n",
    "        x = torch.relu(self.bn3(self.layer3(x)))\n",
    "        x = self.dropout3(x)\n",
    "\n",
    "        x = torch.relu(self.bn4(self.layer4(x)))\n",
    "        x = self.dropout4(x)\n",
    "\n",
    "        x = torch.sigmoid(self.output_layer(x)) \n",
    "        return x\n",
    "    "
   ]
  },
  {
   "cell_type": "code",
   "execution_count": null,
   "metadata": {},
   "outputs": [],
   "source": [
    "class DNN_3(nn.Module):\n",
    "    def __init__(self, input_dim,dropout1=DNN_3_params[\"dropout1\"],dropout2=DNN_3_params[\"dropout2\"]):\n",
    "        super(DNN_3, self).__init__()\n",
    "        self.layer1 = nn.Linear(input_dim,32)\n",
    "        self.layer2 = nn.Linear(32,16)\n",
    "        self.layer3 = nn.Linear(16, 8)\n",
    "        self.layer4 = nn.Linear(8, 4)\n",
    "        self.output_layer = nn.Linear(4, 1)\n",
    "\n",
    "        self.bn1=nn.BatchNorm1d(32)\n",
    "        self.bn2=nn.BatchNorm1d(16)\n",
    "        self.bn3=nn.BatchNorm1d(8)\n",
    "        self.bn4=nn.BatchNorm1d(4)\n",
    "\n",
    "        self.dropout1 = nn.Dropout(dropout1)\n",
    "        self.dropout2 = nn.Dropout(dropout2)        \n",
    "        \n",
    "    def forward(self, x):\n",
    "        x = torch.relu(self.bn1(self.layer1(x)))\n",
    "        \n",
    "        x = torch.relu(self.bn2(self.layer2(x)))\n",
    "        x = self.dropout1(x)\n",
    "\n",
    "        x = torch.relu(self.bn3(self.layer3(x)))\n",
    "        x = self.dropout2(x)\n",
    "\n",
    "        x = torch.relu(self.bn4(self.layer4(x)))\n",
    "    \n",
    "\n",
    "        x = torch.sigmoid(self.output_layer(x)) \n",
    "        return x\n",
    "    "
   ]
  },
  {
   "cell_type": "code",
   "execution_count": null,
   "metadata": {},
   "outputs": [],
   "source": [
    "class DNN_4(nn.Module):\n",
    "    def __init__(self, input_dim,dropout1=DNN_4_params[\"dropout1\"],dropout2=DNN_4_params[\"dropout2\"]):\n",
    "        super(DNN_4, self).__init__()\n",
    "        self.layer1 = nn.Linear(input_dim,32)\n",
    "        self.layer2 = nn.Linear(32,16)\n",
    "        self.layer3 = nn.Linear(16, 8)\n",
    "        self.layer4 = nn.Linear(8, 4)\n",
    "        self.output_layer = nn.Linear(4, 1)\n",
    "\n",
    "        self.bn1=nn.BatchNorm1d(32)\n",
    "        self.bn2=nn.BatchNorm1d(16)\n",
    "        self.bn3=nn.BatchNorm1d(8)\n",
    "        self.bn4=nn.BatchNorm1d(4)\n",
    "\n",
    "        self.dropout1 = nn.Dropout(dropout1)\n",
    "        self.dropout2 = nn.Dropout(dropout2)\n",
    "        \n",
    "        \n",
    "    def forward(self, x):\n",
    "        x = torch.relu(self.bn1(self.layer1(x)))\n",
    "        x = self.dropout1(x)\n",
    "        \n",
    "        x = torch.relu(self.bn2(self.layer2(x)))\n",
    "    \n",
    "\n",
    "        x = torch.relu(self.bn3(self.layer3(x)))\n",
    "        \n",
    "\n",
    "        x = torch.relu(self.bn4(self.layer4(x)))\n",
    "        x = self.dropout2(x)\n",
    "\n",
    "        x = torch.sigmoid(self.output_layer(x)) \n",
    "        return x\n",
    "    "
   ]
  },
  {
   "cell_type": "code",
   "execution_count": null,
   "metadata": {},
   "outputs": [],
   "source": [
    "class DNN_5(nn.Module):\n",
    "    def __init__(self, input_dim,dropout1=DNN_5_params[\"dropout1\"],dropout2=DNN_5_params[\"dropout2\"]):\n",
    "        super(DNN_5, self).__init__()\n",
    "        self.layer1 = nn.Linear(input_dim,32)\n",
    "        self.layer2 = nn.Linear(32,16)\n",
    "        self.layer3 = nn.Linear(16, 8)\n",
    "        self.layer4 = nn.Linear(8, 4)\n",
    "        self.output_layer = nn.Linear(4, 1)\n",
    "\n",
    "        self.bn1=nn.BatchNorm1d(64)\n",
    "        self.bn2=nn.BatchNorm1d(32)\n",
    "        self.bn3=nn.BatchNorm1d(16)\n",
    "        self.bn4=nn.BatchNorm1d(8)\n",
    "\n",
    "        self.dropout1 = nn.Dropout(dropout1)\n",
    "        self.dropout2 = nn.Dropout(dropout2)        \n",
    "        \n",
    "    def forward(self, x):\n",
    "        x = torch.relu(self.bn1(self.layer1(x)))\n",
    "        \n",
    "        x = torch.relu(self.bn2(self.layer2(x)))\n",
    "        \n",
    "\n",
    "        x = torch.relu(self.bn3(self.layer3(x)))\n",
    "        x = self.dropout1(x)\n",
    "\n",
    "        x = torch.relu(self.bn4(self.layer4(x)))\n",
    "        x = self.dropout2(x)\n",
    "\n",
    "        x = torch.sigmoid(self.output_layer(x)) \n",
    "        return x\n",
    "    "
   ]
  },
  {
   "cell_type": "code",
   "execution_count": null,
   "metadata": {},
   "outputs": [],
   "source": [
    "class DNN_6(nn.Module):\n",
    "    def __init__(self, input_dim,dropout1=DNN_6_params[\"dropout1\"],dropout2=DNN_6_params[\"dropout2\"]):\n",
    "        super(DNN_6, self).__init__()\n",
    "        self.layer1 = nn.Linear(input_dim,32)\n",
    "        self.layer2 = nn.Linear(32,16)\n",
    "        self.layer3 = nn.Linear(16, 8)\n",
    "        self.layer4 = nn.Linear(8, 4)\n",
    "        self.output_layer = nn.Linear(4, 1)\n",
    "\n",
    "        self.bn1=nn.BatchNorm1d(32)\n",
    "        self.bn2=nn.BatchNorm1d(16)\n",
    "        self.bn3=nn.BatchNorm1d(8)\n",
    "        self.bn4=nn.BatchNorm1d(4)\n",
    "\n",
    "        self.dropout1 = nn.Dropout(dropout1)\n",
    "        self.dropout2 = nn.Dropout(dropout2)\n",
    "        \n",
    "    def forward(self, x):\n",
    "        x = torch.relu(self.bn1(self.layer1(x)))\n",
    "        x = self.dropout1(x)\n",
    "        \n",
    "        x = torch.relu(self.bn2(self.layer2(x)))\n",
    "    \n",
    "\n",
    "        x = torch.relu(self.bn3(self.layer3(x)))\n",
    "        x = self.dropout2(x)\n",
    "\n",
    "        x = torch.relu(self.bn4(self.layer4(x)))\n",
    "        \n",
    "        x = torch.sigmoid(self.output_layer(x)) \n",
    "        return x\n",
    "    "
   ]
  },
  {
   "cell_type": "code",
   "execution_count": null,
   "metadata": {},
   "outputs": [],
   "source": [
    "class DNN_7(nn.Module):\n",
    "    def __init__(self, input_dim,dropout1=DNN_7_params[\"dropout1\"],dropout2=DNN_7_params[\"dropout2\"]):\n",
    "        super(DNN_7, self).__init__()\n",
    "        self.layer1 = nn.Linear(input_dim,32)\n",
    "        self.layer2 = nn.Linear(32,16)\n",
    "        self.layer3 = nn.Linear(16, 8)\n",
    "        self.layer4 = nn.Linear(8, 4)\n",
    "        self.output_layer = nn.Linear(4, 1)\n",
    "\n",
    "        self.bn1=nn.BatchNorm1d(32)\n",
    "        self.bn2=nn.BatchNorm1d(16)\n",
    "        self.bn3=nn.BatchNorm1d(8)\n",
    "        self.bn4=nn.BatchNorm1d(4)\n",
    "\n",
    "        self.dropout1 = nn.Dropout(dropout1)\n",
    "        self.dropout2 = nn.Dropout(dropout2)\n",
    "        \n",
    "    def forward(self, x):\n",
    "        x = torch.relu(self.bn1(self.layer1(x)))\n",
    "        \n",
    "        x = torch.relu(self.bn2(self.layer2(x)))\n",
    "        x = self.dropout1(x)\n",
    "\n",
    "        x = torch.relu(self.bn3(self.layer3(x)))\n",
    "\n",
    "        x = torch.relu(self.bn4(self.layer4(x)))\n",
    "        x = self.dropout2(x)\n",
    "\n",
    "        x = torch.sigmoid(self.output_layer(x)) \n",
    "        return x\n",
    "    "
   ]
  },
  {
   "cell_type": "code",
   "execution_count": 38,
   "metadata": {},
   "outputs": [],
   "source": [
    "class FTTransformer(nn.Module):\n",
    "    def __init__(self, input_dim, num_classes=1, embed_dim=FTTransformer_params[\"embed_dim\"], num_heads=FTTransformer_params[\"num_heads\"], num_layers=FTTransformer_params[\"num_layers\"], dropout=FTTransformer_params[\"dropout\"]):\n",
    "        super(FTTransformer, self).__init__()\n",
    "        self.embedding = nn.Linear(input_dim, embed_dim)\n",
    "        self.embedding_dropout = nn.Dropout(dropout)  # 埋め込み層後のDropout\n",
    "        encoder_layer = nn.TransformerEncoderLayer(d_model=embed_dim, nhead=num_heads, dropout=dropout)\n",
    "        self.transformer = nn.TransformerEncoder(encoder_layer, num_layers=num_layers)\n",
    "        self.fc = nn.Linear(embed_dim, num_classes)\n",
    "        self.output_dropout = nn.Dropout(dropout)  # 出力層前のDropout\n",
    "\n",
    "    def forward(self, x):\n",
    "        x = self.embedding(x)\n",
    "        x = self.embedding_dropout(x)  # Dropoutを埋め込み層後に適用\n",
    "        x = x.unsqueeze(1)  # [batch_size, 1, embed_dim]\n",
    "        x = self.transformer(x)\n",
    "        x = x.mean(dim=1)  # 平均プーリング\n",
    "        x = self.output_dropout(x)  # Dropoutを適用\n",
    "        x = self.fc(x)\n",
    "        x = torch.sigmoid(x)  # 2値分類用のシグモイド活性化\n",
    "        return x\n"
   ]
  },
  {
   "cell_type": "code",
   "execution_count": 39,
   "metadata": {},
   "outputs": [],
   "source": [
    "class ResidualBlock(nn.Module):\n",
    "    def __init__(self, input_dim, hidden_dim,dropout1,dropout2):\n",
    "        super(ResidualBlock, self).__init__()\n",
    "        self.fc1 = nn.Linear(input_dim, hidden_dim)\n",
    "        self.bn1 = nn.BatchNorm1d(hidden_dim)\n",
    "        self.dropout1=nn.Dropout(dropout1)\n",
    "        \n",
    "        self.fc2 = nn.Linear(hidden_dim, input_dim)\n",
    "        self.bn2 = nn.BatchNorm1d(input_dim)\n",
    "        self.dropout2=nn.Dropout(dropout2)\n",
    "\n",
    "    def forward(self, x):\n",
    "        residual = x  # 入力を保存 (ショートカット)\n",
    "        out = torch.relu(self.bn1(self.fc1(x)))\n",
    "        out=self.dropout1(out)\n",
    "\n",
    "        out = self.bn2(self.fc2(out))\n",
    "        out=self.dropout2(out)\n",
    "\n",
    "        out += residual  # ショートカット接続\n",
    "        return torch.relu(out)\n"
   ]
  },
  {
   "cell_type": "code",
   "execution_count": 40,
   "metadata": {},
   "outputs": [],
   "source": [
    "class ResNetBinaryClassifier(nn.Module):\n",
    "    def __init__(self, input_dim, num_blocks=ResNet_params[\"num_blocks\"], hidden_dim=ResNet_params[\"hidden_dim\"], dropout1=ResNet_params[\"dropout1\"], dropout2=ResNet_params[\"dropout2\"]):\n",
    "        super(ResNetBinaryClassifier, self).__init__()\n",
    "        self.blocks = nn.Sequential(\n",
    "            *[ResidualBlock(input_dim, hidden_dim, dropout1, dropout2) for _ in range(num_blocks)]\n",
    "        )\n",
    "        self.output_layer = nn.Linear(input_dim, 1)  # 出力層\n",
    "\n",
    "    def forward(self, x):\n",
    "        x = self.blocks(x)\n",
    "        x = torch.sigmoid(self.output_layer(x))  # 2値分類用シグモイド\n",
    "        return x"
   ]
  },
  {
   "cell_type": "code",
   "execution_count": 41,
   "metadata": {},
   "outputs": [],
   "source": [
    "df=pd.read_csv('learning_data.csv',index_col=0)\n",
    "\n",
    "X=df.drop(columns='dengue',axis=1).values\n",
    "y=df['dengue'].values\n",
    "\n",
    "X_train, X_test, y_train, y_test = train_test_split(X, y, test_size=0.2,random_state=42)\n",
    "\n",
    "X_train_tensor=torch.tensor(X_train, dtype=torch.float32)\n",
    "y_train_tensor=torch.tensor(y_train, dtype=torch.float32)\n",
    "X_test_tensor=torch.tensor(X_test, dtype=torch.float32)\n",
    "y_test_tensor=torch.tensor(y_test, dtype=torch.float32)"
   ]
  },
  {
   "cell_type": "code",
   "execution_count": 42,
   "metadata": {},
   "outputs": [
    {
     "name": "stderr",
     "output_type": "stream",
     "text": [
      "/tmp/ipykernel_1421115/1801429464.py:33: FutureWarning: You are using `torch.load` with `weights_only=False` (the current default value), which uses the default pickle module implicitly. It is possible to construct malicious pickle data which will execute arbitrary code during unpickling (See https://github.com/pytorch/pytorch/blob/main/SECURITY.md#untrusted-models for more details). In a future release, the default value for `weights_only` will be flipped to `True`. This limits the functions that could be executed during unpickling. Arbitrary objects will no longer be allowed to be loaded via this mode unless they are explicitly allowlisted by the user via `torch.serialization.add_safe_globals`. We recommend you start setting `weights_only=True` for any use case where you don't have full control of the loaded file. Please open an issue on GitHub for any issues related to this experimental feature.\n",
      "  model.load_state_dict(torch.load(path, map_location=device))\n",
      "/home/gonken/anaconda3/envs/torch/lib/python3.12/site-packages/torch/nn/modules/transformer.py:379: UserWarning: enable_nested_tensor is True, but self.use_nested_tensor is False because encoder_layer.self_attn.batch_first was not True(use batch_first for better inference performance)\n",
      "  warnings.warn(\n"
     ]
    }
   ],
   "source": [
    "# デバイス設定\n",
    "device = torch.device(\"cuda\" if torch.cuda.is_available() else \"cpu\")\n",
    "\n",
    "\n",
    "model_paths = [\n",
    "    \"model_params/DNN_1.pth\",\n",
    "    \"model_params/DNN_2.pth\",\n",
    "    \"model_params/DNN_3.pth\",\n",
    "    \"model_params/DNN_4.pth\",\n",
    "    \"model_params/DNN_5.pth\",\n",
    "    \"model_params/DNN_6.pth\",\n",
    "    \"model_params/DNN_7.pth\",\n",
    "    \"model_params/FTTransformer.pth\",\n",
    "    \"model_params/ResNet.pth\",\n",
    "    ]\n",
    "\n",
    "model_classes = {0: DNN_1,\n",
    "                 1: DNN_2,\n",
    "                 2: DNN_3,\n",
    "                 3: DNN_4,\n",
    "                 4: DNN_5,\n",
    "                 5: DNN_6,\n",
    "                 6: DNN_7,\n",
    "                 7:FTTransformer,\n",
    "                 8:ResNetBinaryClassifier\n",
    "                 }\n",
    "\n",
    "models=[]\n",
    "\n",
    "for i, path in enumerate(model_paths):\n",
    "    if i in model_classes:\n",
    "        model = model_classes[i](input_dim=X_train.shape[1]).to(device)\n",
    "        model.load_state_dict(torch.load(path, map_location=device))\n",
    "        model.eval()\n",
    "        models.append(model)"
   ]
  },
  {
   "cell_type": "code",
   "execution_count": 43,
   "metadata": {},
   "outputs": [
    {
     "name": "stdout",
     "output_type": "stream",
     "text": [
      "Train DL Features Shape: torch.Size([3508, 9])\n",
      "Test DL Features Shape: torch.Size([878, 9])\n"
     ]
    }
   ],
   "source": [
    "train_outputs = []\n",
    "test_outputs = []\n",
    "\n",
    "with torch.no_grad():\n",
    "    for model in models:\n",
    "        model.eval()\n",
    "        \n",
    "        train_output = model(X_train_tensor.to(device))\n",
    "        train_outputs.append(train_output)\n",
    "        \n",
    "        # テストデータの出力\n",
    "        test_output = model(X_test_tensor.to(device))\n",
    "        test_outputs.append(test_output)\n",
    "\n",
    "train_DL_features = torch.cat(train_outputs, dim=1)  \n",
    "test_DL_features = torch.cat(test_outputs, dim=1) \n",
    "\n",
    "# 出力形状の確認\n",
    "print(f\"Train DL Features Shape: {train_DL_features.shape}\")\n",
    "print(f\"Test DL Features Shape: {test_DL_features.shape}\")\n"
   ]
  },
  {
   "cell_type": "code",
   "execution_count": 44,
   "metadata": {},
   "outputs": [
    {
     "name": "stdout",
     "output_type": "stream",
     "text": [
      "all_features.shape: (3508, 20)\n",
      "train_DL_features_np.shape: (3508, 9)\n",
      "train_standardized_features.shape: (3508, 20)\n"
     ]
    }
   ],
   "source": [
    "train_DL_features_np = train_DL_features.cpu().numpy()\n",
    "\n",
    "scaler = MinMaxScaler()\n",
    "normalized_features = scaler.fit_transform(train_DL_features_np.reshape(-1, train_DL_features_np.shape[-1]))\n",
    "\n",
    "# KMeans クラスタリング\n",
    "kmeans = KMeans(n_clusters=6, random_state=42)\n",
    "kmeans_labels = kmeans.fit_predict(normalized_features)\n",
    "\n",
    "# クラスタリング特徴量を修正\n",
    "cluster_features = kmeans_labels.reshape(-1, 1) \n",
    "\n",
    "# PCA（主成分分析）\n",
    "pca = PCA(n_components=6,random_state=42)\n",
    "pca_features = pca.fit_transform(normalized_features)  \n",
    "\n",
    "# t-SNE\n",
    "tsne = TSNE(n_components=3, random_state=42)\n",
    "tsne_features = tsne.fit_transform(normalized_features) \n",
    "\n",
    "# 距離から類似度を計算\n",
    "distance_matrix = cdist(normalized_features, normalized_features, metric='euclidean')\n",
    "similarity_features = 1 / (1 + distance_matrix) \n",
    "\n",
    "# 距離から類似度の平均特徴量を生成\n",
    "similarity_features_mean = similarity_features.mean(axis=1).reshape(-1, 1) \n",
    "\n",
    "all_features = np.hstack([normalized_features,cluster_features,pca_features,tsne_features,similarity_features_mean])\n",
    "\n",
    "print(f\"all_features.shape: {all_features.shape}\")\n",
    "print(f\"train_DL_features_np.shape: {train_DL_features_np.shape}\")\n",
    "\n",
    "scaler_standard = StandardScaler()\n",
    "train_standardized_features = scaler_standard.fit_transform(all_features)\n",
    "\n",
    "print(f\"train_standardized_features.shape: {train_standardized_features.shape}\")"
   ]
  },
  {
   "cell_type": "code",
   "execution_count": 45,
   "metadata": {},
   "outputs": [
    {
     "name": "stdout",
     "output_type": "stream",
     "text": [
      "all_features.shape: (878, 20)\n",
      "test_DL_features_np.shape: (3508, 9)\n",
      "test_standardized_features.shape: (878, 20)\n"
     ]
    }
   ],
   "source": [
    "test_DL_features_np = test_DL_features.cpu().numpy()\n",
    "\n",
    "scaler = MinMaxScaler()\n",
    "normalized_features = scaler.fit_transform(test_DL_features_np.reshape(-1, test_DL_features_np.shape[-1]))\n",
    "\n",
    "# KMeans クラスタリング\n",
    "kmeans = KMeans(n_clusters=6, random_state=42)\n",
    "kmeans_labels = kmeans.fit_predict(normalized_features)\n",
    "\n",
    "# クラスタリング特徴量を修正\n",
    "cluster_features = kmeans_labels.reshape(-1, 1) \n",
    "\n",
    "# PCA（主成分分析）\n",
    "pca = PCA(n_components=6,random_state=42)\n",
    "pca_features = pca.fit_transform(normalized_features)  \n",
    "\n",
    "# t-SNE\n",
    "tsne = TSNE(n_components=3, random_state=42)\n",
    "tsne_features = tsne.fit_transform(normalized_features) \n",
    "\n",
    "# 距離から類似度を計算\n",
    "distance_matrix = cdist(normalized_features, normalized_features, metric='euclidean')\n",
    "similarity_features = 1 / (1 + distance_matrix) \n",
    "\n",
    "# 距離から類似度の平均特徴量を生成\n",
    "similarity_features_mean = similarity_features.mean(axis=1).reshape(-1, 1) \n",
    "\n",
    "all_features = np.hstack([normalized_features,cluster_features,pca_features,tsne_features,similarity_features_mean])\n",
    "\n",
    "print(f\"all_features.shape: {all_features.shape}\")\n",
    "print(f\"test_DL_features_np.shape: {train_DL_features_np.shape}\")\n",
    "\n",
    "scaler_standard = StandardScaler()\n",
    "test_standardized_features = scaler_standard.fit_transform(all_features)\n",
    "\n",
    "print(f\"test_standardized_features.shape: {test_standardized_features.shape}\")"
   ]
  },
  {
   "cell_type": "code",
   "execution_count": 46,
   "metadata": {},
   "outputs": [],
   "source": [
    "X_train, X_val, y_train, y_val = train_test_split(train_standardized_features, y_train, test_size=0.1,random_state=42)"
   ]
  },
  {
   "cell_type": "code",
   "execution_count": 47,
   "metadata": {},
   "outputs": [],
   "source": [
    "X_train_tensor=torch.tensor(X_train, dtype=torch.float32)\n",
    "y_train_tensor=torch.tensor(y_train, dtype=torch.float32)\n",
    "X_val_tensor=torch.tensor(X_val, dtype=torch.float32)\n",
    "y_val_tensor=torch.tensor(y_val, dtype=torch.float32)\n",
    "X_test_tensor = torch.tensor(test_standardized_features, dtype=torch.float32)\n",
    "y_test_tensor = torch.tensor(y_test, dtype=torch.float32)\n"
   ]
  },
  {
   "cell_type": "code",
   "execution_count": 48,
   "metadata": {},
   "outputs": [],
   "source": [
    "train_dataset = torch.utils.data.TensorDataset(X_train_tensor, y_train_tensor)\n",
    "train_loader = torch.utils.data.DataLoader(dataset=train_dataset, batch_size=128, shuffle=True)\n",
    "\n",
    "val_dataset = torch.utils.data.TensorDataset(X_val_tensor, y_val_tensor)\n",
    "val_loader = torch.utils.data.DataLoader(dataset=val_dataset, batch_size=128, shuffle=False)"
   ]
  },
  {
   "cell_type": "code",
   "execution_count": 49,
   "metadata": {},
   "outputs": [],
   "source": [
    "class meta_model(nn.Module):\n",
    "    def __init__(self, input_dim,dropout1=DNN_2_params[\"dropout1\"],dropout2=DNN_2_params[\"dropout2\"],dropout3=DNN_2_params[\"dropout3\"],dropout4=DNN_2_params[\"dropout4\"]):\n",
    "        super(meta_model, self).__init__()\n",
    "        self.layer1 = nn.Linear(input_dim,32)\n",
    "        self.layer2 = nn.Linear(32,16)\n",
    "        self.layer3 = nn.Linear(16,8)\n",
    "        self.layer4 = nn.Linear(8,4)\n",
    "        self.output_layer = nn.Linear(4, 1)\n",
    "\n",
    "        self.bn1=nn.BatchNorm1d(32)\n",
    "        self.bn2=nn.BatchNorm1d(16)\n",
    "        self.bn3=nn.BatchNorm1d(8)\n",
    "        self.bn4=nn.BatchNorm1d(4)\n",
    "\n",
    "\n",
    "        self.dropout1 = nn.Dropout(dropout1)\n",
    "        self.dropout2 = nn.Dropout(dropout2)\n",
    "        self.dropout3 = nn.Dropout(dropout3)\n",
    "        self.dropout4 = nn.Dropout(dropout4)\n",
    "\n",
    "        \n",
    "        \n",
    "    def forward(self, x):\n",
    "        x = torch.relu(self.bn1(self.layer1(x)))\n",
    "        x = self.dropout1(x)\n",
    "        \n",
    "        x = torch.relu(self.bn2(self.layer2(x)))\n",
    "        x = self.dropout2(x)\n",
    "\n",
    "        x = torch.relu(self.bn3(self.layer3(x)))\n",
    "        x = self.dropout3(x)\n",
    "\n",
    "        x = torch.relu(self.bn4(self.layer4(x)))\n",
    "        x = self.dropout4(x)\n",
    "\n",
    "        x = torch.sigmoid(self.output_layer(x)) \n",
    "        return x"
   ]
  },
  {
   "cell_type": "code",
   "execution_count": 50,
   "metadata": {},
   "outputs": [],
   "source": [
    "def objective(trial):\n",
    "    # ハイパーパラメータのサンプリング\n",
    "    dropout1 = trial.suggest_float(\"dropout1\", 0, 0.5, step=0.05)\n",
    "    dropout2 = trial.suggest_float(\"dropout2\", 0, 0.5, step=0.05)\n",
    "    dropout3 = trial.suggest_float(\"dropout3\", 0, 0.5, step=0.05)\n",
    "    dropout4 = trial.suggest_float(\"dropout4\", 0, 0.5, step=0.05)\n",
    "    learning_rate = trial.suggest_loguniform(\"learning_rate\", 1e-4, 1e-1)\n",
    "    weight_decay=trial.suggest_loguniform(\"weight_decay\", 1e-4, 1e-1)\n",
    "    \n",
    "\n",
    "    # モデル定義\n",
    "    model = meta_model(\n",
    "        input_dim=X_train_tensor.shape[1],\n",
    "        dropout1=dropout1,\n",
    "        dropout2=dropout2,\n",
    "        dropout3=dropout3,\n",
    "        dropout4=dropout4\n",
    "    ).to(device)\n",
    "\n",
    "    criterion = nn.BCELoss()\n",
    "    optimizer = torch.optim.Adam(model.parameters(), lr=learning_rate,weight_decay=weight_decay)\n",
    "\n",
    "    # Early Stoppingの設定\n",
    "    patience = 10\n",
    "    best_val_loss = float('inf')\n",
    "    patience_counter = 0\n",
    "\n",
    "    # 訓練ループ\n",
    "    num_epochs = 100\n",
    "    for epoch in range(num_epochs):\n",
    "        model.train()\n",
    "        for X_batch, y_batch in train_loader:\n",
    "            X_batch, y_batch = X_batch.to(device), y_batch.to(device)\n",
    "            optimizer.zero_grad()\n",
    "            outputs = model(X_batch).squeeze()\n",
    "            loss = criterion(outputs, y_batch.squeeze())\n",
    "            loss.backward()\n",
    "            optimizer.step()\n",
    "\n",
    "        # バリデーション評価\n",
    "        model.eval()\n",
    "        val_loss = 0\n",
    "        val_true, val_pred = [], []\n",
    "        with torch.no_grad():\n",
    "            for X_val, y_val in val_loader:\n",
    "                X_val, y_val = X_val.to(device), y_val.to(device)\n",
    "                val_outputs = model(X_val).squeeze()\n",
    "                val_loss += criterion(val_outputs, y_val.squeeze()).item()\n",
    "                predictions = (val_outputs >=0.5).float()  \n",
    "                val_true.extend(y_val.cpu().numpy())\n",
    "                val_pred.extend(predictions.cpu().numpy())\n",
    "\n",
    "        val_loss /= len(val_loader)\n",
    "\n",
    "        # Early Stopping判定\n",
    "        if val_loss < best_val_loss:\n",
    "            best_val_loss = val_loss\n",
    "            patience_counter = 0\n",
    "        else:\n",
    "            patience_counter += 1\n",
    "\n",
    "        if patience_counter >= patience:\n",
    "            print(f\"Early stopping at epoch {epoch}\")\n",
    "            break\n",
    "\n",
    "        # Optunaへのログ\n",
    "        trial.report(val_loss, epoch)\n",
    "        if trial.should_prune():\n",
    "            raise optuna.exceptions.TrialPruned()\n",
    "\n",
    "    # 評価指標の計算\n",
    "    mcc = matthews_corrcoef(val_true, val_pred)\n",
    "    print(f\"Final MCC: {mcc:.4f}\")\n",
    "\n",
    "    return mcc  # mccを返す\n"
   ]
  },
  {
   "cell_type": "code",
   "execution_count": 51,
   "metadata": {},
   "outputs": [
    {
     "name": "stderr",
     "output_type": "stream",
     "text": [
      "[I 2024-12-12 20:40:33,392] A new study created in memory with name: no-name-b8307507-83e3-43c3-ad77-132256f0ad9c\n",
      "/tmp/ipykernel_1421115/355772322.py:7: FutureWarning: suggest_loguniform has been deprecated in v3.0.0. This feature will be removed in v6.0.0. See https://github.com/optuna/optuna/releases/tag/v3.0.0. Use suggest_float(..., log=True) instead.\n",
      "  learning_rate = trial.suggest_loguniform(\"learning_rate\", 1e-4, 1e-1)\n",
      "/tmp/ipykernel_1421115/355772322.py:8: FutureWarning: suggest_loguniform has been deprecated in v3.0.0. This feature will be removed in v6.0.0. See https://github.com/optuna/optuna/releases/tag/v3.0.0. Use suggest_float(..., log=True) instead.\n",
      "  weight_decay=trial.suggest_loguniform(\"weight_decay\", 1e-4, 1e-1)\n",
      "[I 2024-12-12 20:40:35,557] Trial 0 finished with value: 0.1402454254921082 and parameters: {'dropout1': 0.5, 'dropout2': 0.2, 'dropout3': 0.5, 'dropout4': 0.05, 'learning_rate': 0.025234654411047937, 'weight_decay': 0.030902199261862093}. Best is trial 0 with value: 0.1402454254921082.\n"
     ]
    },
    {
     "name": "stdout",
     "output_type": "stream",
     "text": [
      "Early stopping at epoch 20\n",
      "Final MCC: 0.1402\n"
     ]
    },
    {
     "name": "stderr",
     "output_type": "stream",
     "text": [
      "/tmp/ipykernel_1421115/355772322.py:7: FutureWarning: suggest_loguniform has been deprecated in v3.0.0. This feature will be removed in v6.0.0. See https://github.com/optuna/optuna/releases/tag/v3.0.0. Use suggest_float(..., log=True) instead.\n",
      "  learning_rate = trial.suggest_loguniform(\"learning_rate\", 1e-4, 1e-1)\n",
      "/tmp/ipykernel_1421115/355772322.py:8: FutureWarning: suggest_loguniform has been deprecated in v3.0.0. This feature will be removed in v6.0.0. See https://github.com/optuna/optuna/releases/tag/v3.0.0. Use suggest_float(..., log=True) instead.\n",
      "  weight_decay=trial.suggest_loguniform(\"weight_decay\", 1e-4, 1e-1)\n",
      "[I 2024-12-12 20:40:51,340] Trial 1 finished with value: 0.17638342073763938 and parameters: {'dropout1': 0.4, 'dropout2': 0.4, 'dropout3': 0.4, 'dropout4': 0.30000000000000004, 'learning_rate': 0.00018688750607420888, 'weight_decay': 0.0027634442813766666}. Best is trial 1 with value: 0.17638342073763938.\n"
     ]
    },
    {
     "name": "stdout",
     "output_type": "stream",
     "text": [
      "Early stopping at epoch 99\n",
      "Final MCC: 0.1764\n"
     ]
    },
    {
     "name": "stderr",
     "output_type": "stream",
     "text": [
      "/tmp/ipykernel_1421115/355772322.py:7: FutureWarning: suggest_loguniform has been deprecated in v3.0.0. This feature will be removed in v6.0.0. See https://github.com/optuna/optuna/releases/tag/v3.0.0. Use suggest_float(..., log=True) instead.\n",
      "  learning_rate = trial.suggest_loguniform(\"learning_rate\", 1e-4, 1e-1)\n",
      "/tmp/ipykernel_1421115/355772322.py:8: FutureWarning: suggest_loguniform has been deprecated in v3.0.0. This feature will be removed in v6.0.0. See https://github.com/optuna/optuna/releases/tag/v3.0.0. Use suggest_float(..., log=True) instead.\n",
      "  weight_decay=trial.suggest_loguniform(\"weight_decay\", 1e-4, 1e-1)\n",
      "[I 2024-12-12 20:40:54,913] Trial 2 finished with value: 0.33879030233229696 and parameters: {'dropout1': 0.2, 'dropout2': 0.4, 'dropout3': 0.0, 'dropout4': 0.05, 'learning_rate': 0.02743704726864976, 'weight_decay': 0.01440284902775188}. Best is trial 2 with value: 0.33879030233229696.\n"
     ]
    },
    {
     "name": "stdout",
     "output_type": "stream",
     "text": [
      "Early stopping at epoch 30\n",
      "Final MCC: 0.3388\n"
     ]
    },
    {
     "name": "stderr",
     "output_type": "stream",
     "text": [
      "/tmp/ipykernel_1421115/355772322.py:7: FutureWarning: suggest_loguniform has been deprecated in v3.0.0. This feature will be removed in v6.0.0. See https://github.com/optuna/optuna/releases/tag/v3.0.0. Use suggest_float(..., log=True) instead.\n",
      "  learning_rate = trial.suggest_loguniform(\"learning_rate\", 1e-4, 1e-1)\n",
      "/tmp/ipykernel_1421115/355772322.py:8: FutureWarning: suggest_loguniform has been deprecated in v3.0.0. This feature will be removed in v6.0.0. See https://github.com/optuna/optuna/releases/tag/v3.0.0. Use suggest_float(..., log=True) instead.\n",
      "  weight_decay=trial.suggest_loguniform(\"weight_decay\", 1e-4, 1e-1)\n",
      "[I 2024-12-12 20:40:56,698] Trial 3 finished with value: 0.14827818323380626 and parameters: {'dropout1': 0.5, 'dropout2': 0.4, 'dropout3': 0.4, 'dropout4': 0.5, 'learning_rate': 0.006797159833155123, 'weight_decay': 0.0001820448267603996}. Best is trial 2 with value: 0.33879030233229696.\n"
     ]
    },
    {
     "name": "stdout",
     "output_type": "stream",
     "text": [
      "Early stopping at epoch 12\n",
      "Final MCC: 0.1483\n"
     ]
    },
    {
     "name": "stderr",
     "output_type": "stream",
     "text": [
      "/tmp/ipykernel_1421115/355772322.py:7: FutureWarning: suggest_loguniform has been deprecated in v3.0.0. This feature will be removed in v6.0.0. See https://github.com/optuna/optuna/releases/tag/v3.0.0. Use suggest_float(..., log=True) instead.\n",
      "  learning_rate = trial.suggest_loguniform(\"learning_rate\", 1e-4, 1e-1)\n",
      "/tmp/ipykernel_1421115/355772322.py:8: FutureWarning: suggest_loguniform has been deprecated in v3.0.0. This feature will be removed in v6.0.0. See https://github.com/optuna/optuna/releases/tag/v3.0.0. Use suggest_float(..., log=True) instead.\n",
      "  weight_decay=trial.suggest_loguniform(\"weight_decay\", 1e-4, 1e-1)\n",
      "[I 2024-12-12 20:41:09,842] Trial 4 finished with value: 0.14870384982421458 and parameters: {'dropout1': 0.35000000000000003, 'dropout2': 0.15000000000000002, 'dropout3': 0.30000000000000004, 'dropout4': 0.0, 'learning_rate': 0.00021481430573560645, 'weight_decay': 0.007727301482986515}. Best is trial 2 with value: 0.33879030233229696.\n"
     ]
    },
    {
     "name": "stdout",
     "output_type": "stream",
     "text": [
      "Early stopping at epoch 88\n",
      "Final MCC: 0.1487\n"
     ]
    },
    {
     "name": "stderr",
     "output_type": "stream",
     "text": [
      "/tmp/ipykernel_1421115/355772322.py:7: FutureWarning: suggest_loguniform has been deprecated in v3.0.0. This feature will be removed in v6.0.0. See https://github.com/optuna/optuna/releases/tag/v3.0.0. Use suggest_float(..., log=True) instead.\n",
      "  learning_rate = trial.suggest_loguniform(\"learning_rate\", 1e-4, 1e-1)\n",
      "/tmp/ipykernel_1421115/355772322.py:8: FutureWarning: suggest_loguniform has been deprecated in v3.0.0. This feature will be removed in v6.0.0. See https://github.com/optuna/optuna/releases/tag/v3.0.0. Use suggest_float(..., log=True) instead.\n",
      "  weight_decay=trial.suggest_loguniform(\"weight_decay\", 1e-4, 1e-1)\n",
      "[I 2024-12-12 20:41:14,745] Trial 5 finished with value: 0.1647508942095828 and parameters: {'dropout1': 0.15000000000000002, 'dropout2': 0.45, 'dropout3': 0.05, 'dropout4': 0.30000000000000004, 'learning_rate': 0.0008689396623183869, 'weight_decay': 0.012983556676494923}. Best is trial 2 with value: 0.33879030233229696.\n",
      "/tmp/ipykernel_1421115/355772322.py:7: FutureWarning: suggest_loguniform has been deprecated in v3.0.0. This feature will be removed in v6.0.0. See https://github.com/optuna/optuna/releases/tag/v3.0.0. Use suggest_float(..., log=True) instead.\n",
      "  learning_rate = trial.suggest_loguniform(\"learning_rate\", 1e-4, 1e-1)\n",
      "/tmp/ipykernel_1421115/355772322.py:8: FutureWarning: suggest_loguniform has been deprecated in v3.0.0. This feature will be removed in v6.0.0. See https://github.com/optuna/optuna/releases/tag/v3.0.0. Use suggest_float(..., log=True) instead.\n",
      "  weight_decay=trial.suggest_loguniform(\"weight_decay\", 1e-4, 1e-1)\n",
      "[I 2024-12-12 20:41:14,908] Trial 6 pruned. \n"
     ]
    },
    {
     "name": "stdout",
     "output_type": "stream",
     "text": [
      "Early stopping at epoch 32\n",
      "Final MCC: 0.1648\n"
     ]
    },
    {
     "name": "stderr",
     "output_type": "stream",
     "text": [
      "[I 2024-12-12 20:41:17,244] Trial 7 finished with value: 0.1509006084923417 and parameters: {'dropout1': 0.5, 'dropout2': 0.30000000000000004, 'dropout3': 0.5, 'dropout4': 0.1, 'learning_rate': 0.003935271456320057, 'weight_decay': 0.0001342422727644617}. Best is trial 2 with value: 0.33879030233229696.\n"
     ]
    },
    {
     "name": "stdout",
     "output_type": "stream",
     "text": [
      "Early stopping at epoch 13\n",
      "Final MCC: 0.1509\n"
     ]
    },
    {
     "name": "stderr",
     "output_type": "stream",
     "text": [
      "/tmp/ipykernel_1421115/355772322.py:7: FutureWarning: suggest_loguniform has been deprecated in v3.0.0. This feature will be removed in v6.0.0. See https://github.com/optuna/optuna/releases/tag/v3.0.0. Use suggest_float(..., log=True) instead.\n",
      "  learning_rate = trial.suggest_loguniform(\"learning_rate\", 1e-4, 1e-1)\n",
      "/tmp/ipykernel_1421115/355772322.py:8: FutureWarning: suggest_loguniform has been deprecated in v3.0.0. This feature will be removed in v6.0.0. See https://github.com/optuna/optuna/releases/tag/v3.0.0. Use suggest_float(..., log=True) instead.\n",
      "  weight_decay=trial.suggest_loguniform(\"weight_decay\", 1e-4, 1e-1)\n",
      "[I 2024-12-12 20:41:22,518] Trial 8 finished with value: 0.1498253782877173 and parameters: {'dropout1': 0.4, 'dropout2': 0.25, 'dropout3': 0.4, 'dropout4': 0.30000000000000004, 'learning_rate': 0.0011080583414659945, 'weight_decay': 0.005754537225122675}. Best is trial 2 with value: 0.33879030233229696.\n"
     ]
    },
    {
     "name": "stdout",
     "output_type": "stream",
     "text": [
      "Early stopping at epoch 37\n",
      "Final MCC: 0.1498\n"
     ]
    },
    {
     "name": "stderr",
     "output_type": "stream",
     "text": [
      "/tmp/ipykernel_1421115/355772322.py:7: FutureWarning: suggest_loguniform has been deprecated in v3.0.0. This feature will be removed in v6.0.0. See https://github.com/optuna/optuna/releases/tag/v3.0.0. Use suggest_float(..., log=True) instead.\n",
      "  learning_rate = trial.suggest_loguniform(\"learning_rate\", 1e-4, 1e-1)\n",
      "/tmp/ipykernel_1421115/355772322.py:8: FutureWarning: suggest_loguniform has been deprecated in v3.0.0. This feature will be removed in v6.0.0. See https://github.com/optuna/optuna/releases/tag/v3.0.0. Use suggest_float(..., log=True) instead.\n",
      "  weight_decay=trial.suggest_loguniform(\"weight_decay\", 1e-4, 1e-1)\n",
      "[I 2024-12-12 20:41:26,386] Trial 9 finished with value: 0.0 and parameters: {'dropout1': 0.30000000000000004, 'dropout2': 0.30000000000000004, 'dropout3': 0.5, 'dropout4': 0.5, 'learning_rate': 0.0014265653029873267, 'weight_decay': 0.02610858770342387}. Best is trial 2 with value: 0.33879030233229696.\n"
     ]
    },
    {
     "name": "stdout",
     "output_type": "stream",
     "text": [
      "Early stopping at epoch 29\n",
      "Final MCC: 0.0000\n"
     ]
    },
    {
     "name": "stderr",
     "output_type": "stream",
     "text": [
      "/tmp/ipykernel_1421115/355772322.py:7: FutureWarning: suggest_loguniform has been deprecated in v3.0.0. This feature will be removed in v6.0.0. See https://github.com/optuna/optuna/releases/tag/v3.0.0. Use suggest_float(..., log=True) instead.\n",
      "  learning_rate = trial.suggest_loguniform(\"learning_rate\", 1e-4, 1e-1)\n",
      "/tmp/ipykernel_1421115/355772322.py:8: FutureWarning: suggest_loguniform has been deprecated in v3.0.0. This feature will be removed in v6.0.0. See https://github.com/optuna/optuna/releases/tag/v3.0.0. Use suggest_float(..., log=True) instead.\n",
      "  weight_decay=trial.suggest_loguniform(\"weight_decay\", 1e-4, 1e-1)\n",
      "[I 2024-12-12 20:41:30,448] Trial 10 finished with value: 0.0 and parameters: {'dropout1': 0.05, 'dropout2': 0.05, 'dropout3': 0.15000000000000002, 'dropout4': 0.15000000000000002, 'learning_rate': 0.016908832756029973, 'weight_decay': 0.09457273770415624}. Best is trial 2 with value: 0.33879030233229696.\n"
     ]
    },
    {
     "name": "stdout",
     "output_type": "stream",
     "text": [
      "Early stopping at epoch 28\n",
      "Final MCC: 0.0000\n"
     ]
    },
    {
     "name": "stderr",
     "output_type": "stream",
     "text": [
      "/tmp/ipykernel_1421115/355772322.py:7: FutureWarning: suggest_loguniform has been deprecated in v3.0.0. This feature will be removed in v6.0.0. See https://github.com/optuna/optuna/releases/tag/v3.0.0. Use suggest_float(..., log=True) instead.\n",
      "  learning_rate = trial.suggest_loguniform(\"learning_rate\", 1e-4, 1e-1)\n",
      "/tmp/ipykernel_1421115/355772322.py:8: FutureWarning: suggest_loguniform has been deprecated in v3.0.0. This feature will be removed in v6.0.0. See https://github.com/optuna/optuna/releases/tag/v3.0.0. Use suggest_float(..., log=True) instead.\n",
      "  weight_decay=trial.suggest_loguniform(\"weight_decay\", 1e-4, 1e-1)\n",
      "[I 2024-12-12 20:41:41,742] Trial 11 finished with value: 0.18030879926517238 and parameters: {'dropout1': 0.2, 'dropout2': 0.5, 'dropout3': 0.2, 'dropout4': 0.4, 'learning_rate': 0.00019539472881600835, 'weight_decay': 0.0010460273471720853}. Best is trial 2 with value: 0.33879030233229696.\n",
      "/tmp/ipykernel_1421115/355772322.py:7: FutureWarning: suggest_loguniform has been deprecated in v3.0.0. This feature will be removed in v6.0.0. See https://github.com/optuna/optuna/releases/tag/v3.0.0. Use suggest_float(..., log=True) instead.\n",
      "  learning_rate = trial.suggest_loguniform(\"learning_rate\", 1e-4, 1e-1)\n",
      "/tmp/ipykernel_1421115/355772322.py:8: FutureWarning: suggest_loguniform has been deprecated in v3.0.0. This feature will be removed in v6.0.0. See https://github.com/optuna/optuna/releases/tag/v3.0.0. Use suggest_float(..., log=True) instead.\n",
      "  weight_decay=trial.suggest_loguniform(\"weight_decay\", 1e-4, 1e-1)\n",
      "[I 2024-12-12 20:41:41,924] Trial 12 pruned. \n"
     ]
    },
    {
     "name": "stdout",
     "output_type": "stream",
     "text": [
      "Early stopping at epoch 81\n",
      "Final MCC: 0.1803\n"
     ]
    },
    {
     "name": "stderr",
     "output_type": "stream",
     "text": [
      "[I 2024-12-12 20:41:48,700] Trial 13 finished with value: 0.13519286109549392 and parameters: {'dropout1': 0.1, 'dropout2': 0.5, 'dropout3': 0.0, 'dropout4': 0.35000000000000003, 'learning_rate': 0.0004415222602768241, 'weight_decay': 0.0006997383400624576}. Best is trial 2 with value: 0.33879030233229696.\n",
      "/tmp/ipykernel_1421115/355772322.py:7: FutureWarning: suggest_loguniform has been deprecated in v3.0.0. This feature will be removed in v6.0.0. See https://github.com/optuna/optuna/releases/tag/v3.0.0. Use suggest_float(..., log=True) instead.\n",
      "  learning_rate = trial.suggest_loguniform(\"learning_rate\", 1e-4, 1e-1)\n",
      "/tmp/ipykernel_1421115/355772322.py:8: FutureWarning: suggest_loguniform has been deprecated in v3.0.0. This feature will be removed in v6.0.0. See https://github.com/optuna/optuna/releases/tag/v3.0.0. Use suggest_float(..., log=True) instead.\n",
      "  weight_decay=trial.suggest_loguniform(\"weight_decay\", 1e-4, 1e-1)\n",
      "[I 2024-12-12 20:41:48,888] Trial 14 pruned. \n"
     ]
    },
    {
     "name": "stdout",
     "output_type": "stream",
     "text": [
      "Early stopping at epoch 45\n",
      "Final MCC: 0.1352\n"
     ]
    },
    {
     "name": "stderr",
     "output_type": "stream",
     "text": [
      "[I 2024-12-12 20:42:02,093] Trial 15 finished with value: 0.1961584568159891 and parameters: {'dropout1': 0.2, 'dropout2': 0.35000000000000003, 'dropout3': 0.30000000000000004, 'dropout4': 0.2, 'learning_rate': 0.0001007986661378977, 'weight_decay': 0.0002995964882246424}. Best is trial 2 with value: 0.33879030233229696.\n",
      "/tmp/ipykernel_1421115/355772322.py:7: FutureWarning: suggest_loguniform has been deprecated in v3.0.0. This feature will be removed in v6.0.0. See https://github.com/optuna/optuna/releases/tag/v3.0.0. Use suggest_float(..., log=True) instead.\n",
      "  learning_rate = trial.suggest_loguniform(\"learning_rate\", 1e-4, 1e-1)\n",
      "/tmp/ipykernel_1421115/355772322.py:8: FutureWarning: suggest_loguniform has been deprecated in v3.0.0. This feature will be removed in v6.0.0. See https://github.com/optuna/optuna/releases/tag/v3.0.0. Use suggest_float(..., log=True) instead.\n",
      "  weight_decay=trial.suggest_loguniform(\"weight_decay\", 1e-4, 1e-1)\n",
      "[I 2024-12-12 20:42:02,245] Trial 16 pruned. \n"
     ]
    },
    {
     "name": "stdout",
     "output_type": "stream",
     "text": [
      "Final MCC: 0.1962\n"
     ]
    },
    {
     "name": "stderr",
     "output_type": "stream",
     "text": [
      "[I 2024-12-12 20:42:05,919] Trial 17 finished with value: 0.0 and parameters: {'dropout1': 0.15000000000000002, 'dropout2': 0.30000000000000004, 'dropout3': 0.30000000000000004, 'dropout4': 0.0, 'learning_rate': 0.0024574102452045964, 'weight_decay': 0.09783430836596976}. Best is trial 2 with value: 0.33879030233229696.\n"
     ]
    },
    {
     "name": "stdout",
     "output_type": "stream",
     "text": [
      "Early stopping at epoch 24\n",
      "Final MCC: 0.0000\n"
     ]
    },
    {
     "name": "stderr",
     "output_type": "stream",
     "text": [
      "/tmp/ipykernel_1421115/355772322.py:7: FutureWarning: suggest_loguniform has been deprecated in v3.0.0. This feature will be removed in v6.0.0. See https://github.com/optuna/optuna/releases/tag/v3.0.0. Use suggest_float(..., log=True) instead.\n",
      "  learning_rate = trial.suggest_loguniform(\"learning_rate\", 1e-4, 1e-1)\n",
      "/tmp/ipykernel_1421115/355772322.py:8: FutureWarning: suggest_loguniform has been deprecated in v3.0.0. This feature will be removed in v6.0.0. See https://github.com/optuna/optuna/releases/tag/v3.0.0. Use suggest_float(..., log=True) instead.\n",
      "  weight_decay=trial.suggest_loguniform(\"weight_decay\", 1e-4, 1e-1)\n",
      "[I 2024-12-12 20:42:08,755] Trial 18 finished with value: 0.17037220312632037 and parameters: {'dropout1': 0.25, 'dropout2': 0.35000000000000003, 'dropout3': 0.1, 'dropout4': 0.1, 'learning_rate': 0.0004998037879059709, 'weight_decay': 0.021170009750001585}. Best is trial 2 with value: 0.33879030233229696.\n",
      "/tmp/ipykernel_1421115/355772322.py:7: FutureWarning: suggest_loguniform has been deprecated in v3.0.0. This feature will be removed in v6.0.0. See https://github.com/optuna/optuna/releases/tag/v3.0.0. Use suggest_float(..., log=True) instead.\n",
      "  learning_rate = trial.suggest_loguniform(\"learning_rate\", 1e-4, 1e-1)\n",
      "/tmp/ipykernel_1421115/355772322.py:8: FutureWarning: suggest_loguniform has been deprecated in v3.0.0. This feature will be removed in v6.0.0. See https://github.com/optuna/optuna/releases/tag/v3.0.0. Use suggest_float(..., log=True) instead.\n",
      "  weight_decay=trial.suggest_loguniform(\"weight_decay\", 1e-4, 1e-1)\n",
      "[I 2024-12-12 20:42:08,859] Trial 19 pruned. \n"
     ]
    },
    {
     "name": "stdout",
     "output_type": "stream",
     "text": [
      "Early stopping at epoch 31\n",
      "Final MCC: 0.1704\n"
     ]
    },
    {
     "name": "stderr",
     "output_type": "stream",
     "text": [
      "[I 2024-12-12 20:42:08,966] Trial 20 pruned. \n",
      "[I 2024-12-12 20:42:20,914] Trial 21 finished with value: 0.18966588220856687 and parameters: {'dropout1': 0.2, 'dropout2': 0.45, 'dropout3': 0.2, 'dropout4': 0.4, 'learning_rate': 0.00013385492871005253, 'weight_decay': 0.0010523239970233382}. Best is trial 2 with value: 0.33879030233229696.\n",
      "/tmp/ipykernel_1421115/355772322.py:7: FutureWarning: suggest_loguniform has been deprecated in v3.0.0. This feature will be removed in v6.0.0. See https://github.com/optuna/optuna/releases/tag/v3.0.0. Use suggest_float(..., log=True) instead.\n",
      "  learning_rate = trial.suggest_loguniform(\"learning_rate\", 1e-4, 1e-1)\n",
      "/tmp/ipykernel_1421115/355772322.py:8: FutureWarning: suggest_loguniform has been deprecated in v3.0.0. This feature will be removed in v6.0.0. See https://github.com/optuna/optuna/releases/tag/v3.0.0. Use suggest_float(..., log=True) instead.\n",
      "  weight_decay=trial.suggest_loguniform(\"weight_decay\", 1e-4, 1e-1)\n",
      "[I 2024-12-12 20:42:21,089] Trial 22 pruned. \n"
     ]
    },
    {
     "name": "stdout",
     "output_type": "stream",
     "text": [
      "Early stopping at epoch 92\n",
      "Final MCC: 0.1897\n"
     ]
    },
    {
     "name": "stderr",
     "output_type": "stream",
     "text": [
      "[I 2024-12-12 20:42:36,163] Trial 23 finished with value: 0.11186989651424825 and parameters: {'dropout1': 0.30000000000000004, 'dropout2': 0.45, 'dropout3': 0.2, 'dropout4': 0.25, 'learning_rate': 0.00035687635556338825, 'weight_decay': 0.0021461212907446874}. Best is trial 2 with value: 0.33879030233229696.\n",
      "/tmp/ipykernel_1421115/355772322.py:7: FutureWarning: suggest_loguniform has been deprecated in v3.0.0. This feature will be removed in v6.0.0. See https://github.com/optuna/optuna/releases/tag/v3.0.0. Use suggest_float(..., log=True) instead.\n",
      "  learning_rate = trial.suggest_loguniform(\"learning_rate\", 1e-4, 1e-1)\n",
      "/tmp/ipykernel_1421115/355772322.py:8: FutureWarning: suggest_loguniform has been deprecated in v3.0.0. This feature will be removed in v6.0.0. See https://github.com/optuna/optuna/releases/tag/v3.0.0. Use suggest_float(..., log=True) instead.\n",
      "  weight_decay=trial.suggest_loguniform(\"weight_decay\", 1e-4, 1e-1)\n",
      "[I 2024-12-12 20:42:36,340] Trial 24 pruned. \n"
     ]
    },
    {
     "name": "stdout",
     "output_type": "stream",
     "text": [
      "Final MCC: 0.1119\n"
     ]
    },
    {
     "name": "stderr",
     "output_type": "stream",
     "text": [
      "[I 2024-12-12 20:42:36,515] Trial 25 pruned. \n",
      "[I 2024-12-12 20:42:49,157] Trial 26 finished with value: 0.15099487465810146 and parameters: {'dropout1': 0.30000000000000004, 'dropout2': 0.4, 'dropout3': 0.35000000000000003, 'dropout4': 0.25, 'learning_rate': 0.00030441792152465695, 'weight_decay': 0.0012293860874797254}. Best is trial 2 with value: 0.33879030233229696.\n",
      "/tmp/ipykernel_1421115/355772322.py:7: FutureWarning: suggest_loguniform has been deprecated in v3.0.0. This feature will be removed in v6.0.0. See https://github.com/optuna/optuna/releases/tag/v3.0.0. Use suggest_float(..., log=True) instead.\n",
      "  learning_rate = trial.suggest_loguniform(\"learning_rate\", 1e-4, 1e-1)\n",
      "/tmp/ipykernel_1421115/355772322.py:8: FutureWarning: suggest_loguniform has been deprecated in v3.0.0. This feature will be removed in v6.0.0. See https://github.com/optuna/optuna/releases/tag/v3.0.0. Use suggest_float(..., log=True) instead.\n",
      "  weight_decay=trial.suggest_loguniform(\"weight_decay\", 1e-4, 1e-1)\n",
      "[I 2024-12-12 20:42:49,346] Trial 27 pruned. \n"
     ]
    },
    {
     "name": "stdout",
     "output_type": "stream",
     "text": [
      "Early stopping at epoch 78\n",
      "Final MCC: 0.1510\n"
     ]
    },
    {
     "name": "stderr",
     "output_type": "stream",
     "text": [
      "[I 2024-12-12 20:43:00,279] Trial 28 finished with value: 0.19724529517490136 and parameters: {'dropout1': 0.0, 'dropout2': 0.30000000000000004, 'dropout3': 0.05, 'dropout4': 0.15000000000000002, 'learning_rate': 0.00014294388263781153, 'weight_decay': 0.00010398509771213462}. Best is trial 2 with value: 0.33879030233229696.\n",
      "/tmp/ipykernel_1421115/355772322.py:7: FutureWarning: suggest_loguniform has been deprecated in v3.0.0. This feature will be removed in v6.0.0. See https://github.com/optuna/optuna/releases/tag/v3.0.0. Use suggest_float(..., log=True) instead.\n",
      "  learning_rate = trial.suggest_loguniform(\"learning_rate\", 1e-4, 1e-1)\n",
      "/tmp/ipykernel_1421115/355772322.py:8: FutureWarning: suggest_loguniform has been deprecated in v3.0.0. This feature will be removed in v6.0.0. See https://github.com/optuna/optuna/releases/tag/v3.0.0. Use suggest_float(..., log=True) instead.\n",
      "  weight_decay=trial.suggest_loguniform(\"weight_decay\", 1e-4, 1e-1)\n",
      "[I 2024-12-12 20:43:00,466] Trial 29 pruned. \n"
     ]
    },
    {
     "name": "stdout",
     "output_type": "stream",
     "text": [
      "Early stopping at epoch 70\n",
      "Final MCC: 0.1972\n"
     ]
    },
    {
     "name": "stderr",
     "output_type": "stream",
     "text": [
      "[I 2024-12-12 20:43:00,639] Trial 30 pruned. \n",
      "[I 2024-12-12 20:43:00,813] Trial 31 pruned. \n",
      "[I 2024-12-12 20:43:05,103] Trial 32 finished with value: 0.1267085074947994 and parameters: {'dropout1': 0.15000000000000002, 'dropout2': 0.4, 'dropout3': 0.05, 'dropout4': 0.2, 'learning_rate': 0.00025744461903636764, 'weight_decay': 0.0004550195722258709}. Best is trial 2 with value: 0.33879030233229696.\n"
     ]
    },
    {
     "name": "stdout",
     "output_type": "stream",
     "text": [
      "Early stopping at epoch 32\n",
      "Final MCC: 0.1267\n"
     ]
    },
    {
     "name": "stderr",
     "output_type": "stream",
     "text": [
      "/tmp/ipykernel_1421115/355772322.py:7: FutureWarning: suggest_loguniform has been deprecated in v3.0.0. This feature will be removed in v6.0.0. See https://github.com/optuna/optuna/releases/tag/v3.0.0. Use suggest_float(..., log=True) instead.\n",
      "  learning_rate = trial.suggest_loguniform(\"learning_rate\", 1e-4, 1e-1)\n",
      "/tmp/ipykernel_1421115/355772322.py:8: FutureWarning: suggest_loguniform has been deprecated in v3.0.0. This feature will be removed in v6.0.0. See https://github.com/optuna/optuna/releases/tag/v3.0.0. Use suggest_float(..., log=True) instead.\n",
      "  weight_decay=trial.suggest_loguniform(\"weight_decay\", 1e-4, 1e-1)\n",
      "[I 2024-12-12 20:43:10,474] Trial 33 finished with value: 0.18123996873559955 and parameters: {'dropout1': 0.25, 'dropout2': 0.35000000000000003, 'dropout3': 0.0, 'dropout4': 0.1, 'learning_rate': 0.00017950967678153485, 'weight_decay': 0.0001119088895570443}. Best is trial 2 with value: 0.33879030233229696.\n",
      "/tmp/ipykernel_1421115/355772322.py:7: FutureWarning: suggest_loguniform has been deprecated in v3.0.0. This feature will be removed in v6.0.0. See https://github.com/optuna/optuna/releases/tag/v3.0.0. Use suggest_float(..., log=True) instead.\n",
      "  learning_rate = trial.suggest_loguniform(\"learning_rate\", 1e-4, 1e-1)\n",
      "/tmp/ipykernel_1421115/355772322.py:8: FutureWarning: suggest_loguniform has been deprecated in v3.0.0. This feature will be removed in v6.0.0. See https://github.com/optuna/optuna/releases/tag/v3.0.0. Use suggest_float(..., log=True) instead.\n",
      "  weight_decay=trial.suggest_loguniform(\"weight_decay\", 1e-4, 1e-1)\n",
      "[I 2024-12-12 20:43:10,604] Trial 34 pruned. \n"
     ]
    },
    {
     "name": "stdout",
     "output_type": "stream",
     "text": [
      "Early stopping at epoch 45\n",
      "Final MCC: 0.1812\n"
     ]
    },
    {
     "name": "stderr",
     "output_type": "stream",
     "text": [
      "[I 2024-12-12 20:43:10,758] Trial 35 pruned. \n",
      "[I 2024-12-12 20:43:10,911] Trial 36 pruned. \n",
      "[I 2024-12-12 20:43:11,041] Trial 37 pruned. \n",
      "[I 2024-12-12 20:43:11,173] Trial 38 pruned. \n",
      "[I 2024-12-12 20:43:11,300] Trial 39 pruned. \n",
      "[I 2024-12-12 20:43:17,576] Trial 40 finished with value: 0.16175025533510706 and parameters: {'dropout1': 0.30000000000000004, 'dropout2': 0.15000000000000002, 'dropout3': 0.4, 'dropout4': 0.25, 'learning_rate': 0.00041903841226663716, 'weight_decay': 0.0019274917887645642}. Best is trial 2 with value: 0.33879030233229696.\n"
     ]
    },
    {
     "name": "stdout",
     "output_type": "stream",
     "text": [
      "Early stopping at epoch 57\n",
      "Final MCC: 0.1618\n"
     ]
    },
    {
     "name": "stderr",
     "output_type": "stream",
     "text": [
      "/tmp/ipykernel_1421115/355772322.py:7: FutureWarning: suggest_loguniform has been deprecated in v3.0.0. This feature will be removed in v6.0.0. See https://github.com/optuna/optuna/releases/tag/v3.0.0. Use suggest_float(..., log=True) instead.\n",
      "  learning_rate = trial.suggest_loguniform(\"learning_rate\", 1e-4, 1e-1)\n",
      "/tmp/ipykernel_1421115/355772322.py:8: FutureWarning: suggest_loguniform has been deprecated in v3.0.0. This feature will be removed in v6.0.0. See https://github.com/optuna/optuna/releases/tag/v3.0.0. Use suggest_float(..., log=True) instead.\n",
      "  weight_decay=trial.suggest_loguniform(\"weight_decay\", 1e-4, 1e-1)\n",
      "[I 2024-12-12 20:43:24,439] Trial 41 finished with value: 0.16278974734325347 and parameters: {'dropout1': 0.25, 'dropout2': 0.35000000000000003, 'dropout3': 0.0, 'dropout4': 0.1, 'learning_rate': 0.0001897477699677294, 'weight_decay': 0.00010352675145326097}. Best is trial 2 with value: 0.33879030233229696.\n",
      "/tmp/ipykernel_1421115/355772322.py:7: FutureWarning: suggest_loguniform has been deprecated in v3.0.0. This feature will be removed in v6.0.0. See https://github.com/optuna/optuna/releases/tag/v3.0.0. Use suggest_float(..., log=True) instead.\n",
      "  learning_rate = trial.suggest_loguniform(\"learning_rate\", 1e-4, 1e-1)\n",
      "/tmp/ipykernel_1421115/355772322.py:8: FutureWarning: suggest_loguniform has been deprecated in v3.0.0. This feature will be removed in v6.0.0. See https://github.com/optuna/optuna/releases/tag/v3.0.0. Use suggest_float(..., log=True) instead.\n",
      "  weight_decay=trial.suggest_loguniform(\"weight_decay\", 1e-4, 1e-1)\n",
      "[I 2024-12-12 20:43:24,624] Trial 42 pruned. \n"
     ]
    },
    {
     "name": "stdout",
     "output_type": "stream",
     "text": [
      "Early stopping at epoch 67\n",
      "Final MCC: 0.1628\n"
     ]
    },
    {
     "name": "stderr",
     "output_type": "stream",
     "text": [
      "[I 2024-12-12 20:43:24,791] Trial 43 pruned. \n",
      "[I 2024-12-12 20:43:25,994] Trial 44 finished with value: 0.10249000771134847 and parameters: {'dropout1': 0.2, 'dropout2': 0.25, 'dropout3': 0.0, 'dropout4': 0.1, 'learning_rate': 0.00015810235881309854, 'weight_decay': 0.00021317391851437192}. Best is trial 2 with value: 0.33879030233229696.\n",
      "/tmp/ipykernel_1421115/355772322.py:7: FutureWarning: suggest_loguniform has been deprecated in v3.0.0. This feature will be removed in v6.0.0. See https://github.com/optuna/optuna/releases/tag/v3.0.0. Use suggest_float(..., log=True) instead.\n",
      "  learning_rate = trial.suggest_loguniform(\"learning_rate\", 1e-4, 1e-1)\n",
      "/tmp/ipykernel_1421115/355772322.py:8: FutureWarning: suggest_loguniform has been deprecated in v3.0.0. This feature will be removed in v6.0.0. See https://github.com/optuna/optuna/releases/tag/v3.0.0. Use suggest_float(..., log=True) instead.\n",
      "  weight_decay=trial.suggest_loguniform(\"weight_decay\", 1e-4, 1e-1)\n",
      "[I 2024-12-12 20:43:26,121] Trial 45 pruned. \n"
     ]
    },
    {
     "name": "stdout",
     "output_type": "stream",
     "text": [
      "Early stopping at epoch 10\n",
      "Final MCC: 0.1025\n"
     ]
    },
    {
     "name": "stderr",
     "output_type": "stream",
     "text": [
      "[I 2024-12-12 20:43:26,250] Trial 46 pruned. \n",
      "[I 2024-12-12 20:43:39,225] Trial 47 finished with value: 0.1650943503513938 and parameters: {'dropout1': 0.2, 'dropout2': 0.4, 'dropout3': 0.1, 'dropout4': 0.15000000000000002, 'learning_rate': 0.00012592030777019888, 'weight_decay': 0.0014359135873878912}. Best is trial 2 with value: 0.33879030233229696.\n",
      "/tmp/ipykernel_1421115/355772322.py:7: FutureWarning: suggest_loguniform has been deprecated in v3.0.0. This feature will be removed in v6.0.0. See https://github.com/optuna/optuna/releases/tag/v3.0.0. Use suggest_float(..., log=True) instead.\n",
      "  learning_rate = trial.suggest_loguniform(\"learning_rate\", 1e-4, 1e-1)\n",
      "/tmp/ipykernel_1421115/355772322.py:8: FutureWarning: suggest_loguniform has been deprecated in v3.0.0. This feature will be removed in v6.0.0. See https://github.com/optuna/optuna/releases/tag/v3.0.0. Use suggest_float(..., log=True) instead.\n",
      "  weight_decay=trial.suggest_loguniform(\"weight_decay\", 1e-4, 1e-1)\n",
      "[I 2024-12-12 20:43:39,418] Trial 48 pruned. \n"
     ]
    },
    {
     "name": "stdout",
     "output_type": "stream",
     "text": [
      "Final MCC: 0.1651\n"
     ]
    },
    {
     "name": "stderr",
     "output_type": "stream",
     "text": [
      "[I 2024-12-12 20:43:39,611] Trial 49 pruned. \n",
      "[I 2024-12-12 20:43:39,791] Trial 50 pruned. \n",
      "[I 2024-12-12 20:43:39,976] Trial 51 pruned. \n",
      "[I 2024-12-12 20:43:45,745] Trial 52 finished with value: 0.21052720132431735 and parameters: {'dropout1': 0.25, 'dropout2': 0.5, 'dropout3': 0.2, 'dropout4': 0.4, 'learning_rate': 0.0003592190463890789, 'weight_decay': 0.00035928095533637567}. Best is trial 2 with value: 0.33879030233229696.\n",
      "/tmp/ipykernel_1421115/355772322.py:7: FutureWarning: suggest_loguniform has been deprecated in v3.0.0. This feature will be removed in v6.0.0. See https://github.com/optuna/optuna/releases/tag/v3.0.0. Use suggest_float(..., log=True) instead.\n",
      "  learning_rate = trial.suggest_loguniform(\"learning_rate\", 1e-4, 1e-1)\n",
      "/tmp/ipykernel_1421115/355772322.py:8: FutureWarning: suggest_loguniform has been deprecated in v3.0.0. This feature will be removed in v6.0.0. See https://github.com/optuna/optuna/releases/tag/v3.0.0. Use suggest_float(..., log=True) instead.\n",
      "  weight_decay=trial.suggest_loguniform(\"weight_decay\", 1e-4, 1e-1)\n",
      "[I 2024-12-12 20:43:45,881] Trial 53 pruned. \n"
     ]
    },
    {
     "name": "stdout",
     "output_type": "stream",
     "text": [
      "Early stopping at epoch 41\n",
      "Final MCC: 0.2105\n"
     ]
    },
    {
     "name": "stderr",
     "output_type": "stream",
     "text": [
      "[I 2024-12-12 20:43:46,025] Trial 54 pruned. \n",
      "[I 2024-12-12 20:43:57,050] Trial 55 finished with value: 0.18030689154645912 and parameters: {'dropout1': 0.25, 'dropout2': 0.45, 'dropout3': 0.25, 'dropout4': 0.45, 'learning_rate': 0.00022498905902012484, 'weight_decay': 0.0005400124483064692}. Best is trial 2 with value: 0.33879030233229696.\n"
     ]
    },
    {
     "name": "stdout",
     "output_type": "stream",
     "text": [
      "Early stopping at epoch 75\n",
      "Final MCC: 0.1803\n"
     ]
    },
    {
     "name": "stderr",
     "output_type": "stream",
     "text": [
      "/tmp/ipykernel_1421115/355772322.py:7: FutureWarning: suggest_loguniform has been deprecated in v3.0.0. This feature will be removed in v6.0.0. See https://github.com/optuna/optuna/releases/tag/v3.0.0. Use suggest_float(..., log=True) instead.\n",
      "  learning_rate = trial.suggest_loguniform(\"learning_rate\", 1e-4, 1e-1)\n",
      "/tmp/ipykernel_1421115/355772322.py:8: FutureWarning: suggest_loguniform has been deprecated in v3.0.0. This feature will be removed in v6.0.0. See https://github.com/optuna/optuna/releases/tag/v3.0.0. Use suggest_float(..., log=True) instead.\n",
      "  weight_decay=trial.suggest_loguniform(\"weight_decay\", 1e-4, 1e-1)\n",
      "[I 2024-12-12 20:44:11,343] Trial 56 finished with value: 0.30848104683740524 and parameters: {'dropout1': 0.05, 'dropout2': 0.45, 'dropout3': 0.30000000000000004, 'dropout4': 0.1, 'learning_rate': 0.00011216398559098584, 'weight_decay': 0.00026448247125233996}. Best is trial 2 with value: 0.33879030233229696.\n",
      "/tmp/ipykernel_1421115/355772322.py:7: FutureWarning: suggest_loguniform has been deprecated in v3.0.0. This feature will be removed in v6.0.0. See https://github.com/optuna/optuna/releases/tag/v3.0.0. Use suggest_float(..., log=True) instead.\n",
      "  learning_rate = trial.suggest_loguniform(\"learning_rate\", 1e-4, 1e-1)\n",
      "/tmp/ipykernel_1421115/355772322.py:8: FutureWarning: suggest_loguniform has been deprecated in v3.0.0. This feature will be removed in v6.0.0. See https://github.com/optuna/optuna/releases/tag/v3.0.0. Use suggest_float(..., log=True) instead.\n",
      "  weight_decay=trial.suggest_loguniform(\"weight_decay\", 1e-4, 1e-1)\n",
      "[I 2024-12-12 20:44:11,532] Trial 57 pruned. \n"
     ]
    },
    {
     "name": "stdout",
     "output_type": "stream",
     "text": [
      "Final MCC: 0.3085\n"
     ]
    },
    {
     "name": "stderr",
     "output_type": "stream",
     "text": [
      "[I 2024-12-12 20:44:25,748] Trial 58 finished with value: 0.34993103608875964 and parameters: {'dropout1': 0.0, 'dropout2': 0.5, 'dropout3': 0.35000000000000003, 'dropout4': 0.4, 'learning_rate': 0.00010495092780898558, 'weight_decay': 0.004825413730656502}. Best is trial 58 with value: 0.34993103608875964.\n",
      "/tmp/ipykernel_1421115/355772322.py:7: FutureWarning: suggest_loguniform has been deprecated in v3.0.0. This feature will be removed in v6.0.0. See https://github.com/optuna/optuna/releases/tag/v3.0.0. Use suggest_float(..., log=True) instead.\n",
      "  learning_rate = trial.suggest_loguniform(\"learning_rate\", 1e-4, 1e-1)\n",
      "/tmp/ipykernel_1421115/355772322.py:8: FutureWarning: suggest_loguniform has been deprecated in v3.0.0. This feature will be removed in v6.0.0. See https://github.com/optuna/optuna/releases/tag/v3.0.0. Use suggest_float(..., log=True) instead.\n",
      "  weight_decay=trial.suggest_loguniform(\"weight_decay\", 1e-4, 1e-1)\n",
      "[I 2024-12-12 20:44:25,901] Trial 59 pruned. \n"
     ]
    },
    {
     "name": "stdout",
     "output_type": "stream",
     "text": [
      "Final MCC: 0.3499\n"
     ]
    },
    {
     "name": "stderr",
     "output_type": "stream",
     "text": [
      "[I 2024-12-12 20:44:26,074] Trial 60 pruned. \n",
      "[I 2024-12-12 20:44:34,660] Trial 61 finished with value: 0.19245008972987526 and parameters: {'dropout1': 0.0, 'dropout2': 0.45, 'dropout3': 0.30000000000000004, 'dropout4': 0.4, 'learning_rate': 0.0002981181605750273, 'weight_decay': 0.0017471762292134703}. Best is trial 58 with value: 0.34993103608875964.\n"
     ]
    },
    {
     "name": "stdout",
     "output_type": "stream",
     "text": [
      "Early stopping at epoch 61\n",
      "Final MCC: 0.1925\n"
     ]
    },
    {
     "name": "stderr",
     "output_type": "stream",
     "text": [
      "/tmp/ipykernel_1421115/355772322.py:7: FutureWarning: suggest_loguniform has been deprecated in v3.0.0. This feature will be removed in v6.0.0. See https://github.com/optuna/optuna/releases/tag/v3.0.0. Use suggest_float(..., log=True) instead.\n",
      "  learning_rate = trial.suggest_loguniform(\"learning_rate\", 1e-4, 1e-1)\n",
      "/tmp/ipykernel_1421115/355772322.py:8: FutureWarning: suggest_loguniform has been deprecated in v3.0.0. This feature will be removed in v6.0.0. See https://github.com/optuna/optuna/releases/tag/v3.0.0. Use suggest_float(..., log=True) instead.\n",
      "  weight_decay=trial.suggest_loguniform(\"weight_decay\", 1e-4, 1e-1)\n",
      "[I 2024-12-12 20:44:44,798] Trial 62 finished with value: 0.19261227976946563 and parameters: {'dropout1': 0.0, 'dropout2': 0.5, 'dropout3': 0.30000000000000004, 'dropout4': 0.4, 'learning_rate': 0.0003127086354927985, 'weight_decay': 0.005337821205563197}. Best is trial 58 with value: 0.34993103608875964.\n"
     ]
    },
    {
     "name": "stdout",
     "output_type": "stream",
     "text": [
      "Early stopping at epoch 73\n",
      "Final MCC: 0.1926\n"
     ]
    },
    {
     "name": "stderr",
     "output_type": "stream",
     "text": [
      "/tmp/ipykernel_1421115/355772322.py:7: FutureWarning: suggest_loguniform has been deprecated in v3.0.0. This feature will be removed in v6.0.0. See https://github.com/optuna/optuna/releases/tag/v3.0.0. Use suggest_float(..., log=True) instead.\n",
      "  learning_rate = trial.suggest_loguniform(\"learning_rate\", 1e-4, 1e-1)\n",
      "/tmp/ipykernel_1421115/355772322.py:8: FutureWarning: suggest_loguniform has been deprecated in v3.0.0. This feature will be removed in v6.0.0. See https://github.com/optuna/optuna/releases/tag/v3.0.0. Use suggest_float(..., log=True) instead.\n",
      "  weight_decay=trial.suggest_loguniform(\"weight_decay\", 1e-4, 1e-1)\n",
      "[I 2024-12-12 20:44:55,814] Trial 63 finished with value: 0.19255518083326909 and parameters: {'dropout1': 0.05, 'dropout2': 0.5, 'dropout3': 0.45, 'dropout4': 0.4, 'learning_rate': 0.00035603777517598375, 'weight_decay': 0.005545940541747928}. Best is trial 58 with value: 0.34993103608875964.\n",
      "/tmp/ipykernel_1421115/355772322.py:7: FutureWarning: suggest_loguniform has been deprecated in v3.0.0. This feature will be removed in v6.0.0. See https://github.com/optuna/optuna/releases/tag/v3.0.0. Use suggest_float(..., log=True) instead.\n",
      "  learning_rate = trial.suggest_loguniform(\"learning_rate\", 1e-4, 1e-1)\n",
      "/tmp/ipykernel_1421115/355772322.py:8: FutureWarning: suggest_loguniform has been deprecated in v3.0.0. This feature will be removed in v6.0.0. See https://github.com/optuna/optuna/releases/tag/v3.0.0. Use suggest_float(..., log=True) instead.\n",
      "  weight_decay=trial.suggest_loguniform(\"weight_decay\", 1e-4, 1e-1)\n",
      "[I 2024-12-12 20:44:55,978] Trial 64 pruned. \n"
     ]
    },
    {
     "name": "stdout",
     "output_type": "stream",
     "text": [
      "Early stopping at epoch 79\n",
      "Final MCC: 0.1926\n"
     ]
    },
    {
     "name": "stderr",
     "output_type": "stream",
     "text": [
      "[I 2024-12-12 20:44:56,179] Trial 65 pruned. \n",
      "[I 2024-12-12 20:44:56,355] Trial 66 pruned. \n",
      "[I 2024-12-12 20:44:56,535] Trial 67 pruned. \n",
      "[I 2024-12-12 20:45:12,026] Trial 68 finished with value: 0.15406385641317555 and parameters: {'dropout1': 0.05, 'dropout2': 0.5, 'dropout3': 0.25, 'dropout4': 0.1, 'learning_rate': 0.00016999157594980803, 'weight_decay': 0.021594530517526266}. Best is trial 58 with value: 0.34993103608875964.\n",
      "/tmp/ipykernel_1421115/355772322.py:7: FutureWarning: suggest_loguniform has been deprecated in v3.0.0. This feature will be removed in v6.0.0. See https://github.com/optuna/optuna/releases/tag/v3.0.0. Use suggest_float(..., log=True) instead.\n",
      "  learning_rate = trial.suggest_loguniform(\"learning_rate\", 1e-4, 1e-1)\n",
      "/tmp/ipykernel_1421115/355772322.py:8: FutureWarning: suggest_loguniform has been deprecated in v3.0.0. This feature will be removed in v6.0.0. See https://github.com/optuna/optuna/releases/tag/v3.0.0. Use suggest_float(..., log=True) instead.\n",
      "  weight_decay=trial.suggest_loguniform(\"weight_decay\", 1e-4, 1e-1)\n",
      "[I 2024-12-12 20:45:12,157] Trial 69 pruned. \n"
     ]
    },
    {
     "name": "stdout",
     "output_type": "stream",
     "text": [
      "Final MCC: 0.1541\n"
     ]
    },
    {
     "name": "stderr",
     "output_type": "stream",
     "text": [
      "[I 2024-12-12 20:45:12,288] Trial 70 pruned. \n",
      "[I 2024-12-12 20:45:12,414] Trial 71 pruned. \n",
      "[I 2024-12-12 20:45:22,613] Trial 72 finished with value: 0.169375281675927 and parameters: {'dropout1': 0.0, 'dropout2': 0.5, 'dropout3': 0.5, 'dropout4': 0.4, 'learning_rate': 0.00031497172461241704, 'weight_decay': 0.004238407964900635}. Best is trial 58 with value: 0.34993103608875964.\n",
      "/tmp/ipykernel_1421115/355772322.py:7: FutureWarning: suggest_loguniform has been deprecated in v3.0.0. This feature will be removed in v6.0.0. See https://github.com/optuna/optuna/releases/tag/v3.0.0. Use suggest_float(..., log=True) instead.\n",
      "  learning_rate = trial.suggest_loguniform(\"learning_rate\", 1e-4, 1e-1)\n",
      "/tmp/ipykernel_1421115/355772322.py:8: FutureWarning: suggest_loguniform has been deprecated in v3.0.0. This feature will be removed in v6.0.0. See https://github.com/optuna/optuna/releases/tag/v3.0.0. Use suggest_float(..., log=True) instead.\n",
      "  weight_decay=trial.suggest_loguniform(\"weight_decay\", 1e-4, 1e-1)\n",
      "[I 2024-12-12 20:45:22,723] Trial 73 pruned. \n"
     ]
    },
    {
     "name": "stdout",
     "output_type": "stream",
     "text": [
      "Early stopping at epoch 73\n",
      "Final MCC: 0.1694\n"
     ]
    },
    {
     "name": "stderr",
     "output_type": "stream",
     "text": [
      "[I 2024-12-12 20:45:22,837] Trial 74 pruned. \n",
      "[I 2024-12-12 20:45:22,947] Trial 75 pruned. \n",
      "[I 2024-12-12 20:45:23,073] Trial 76 pruned. \n",
      "[I 2024-12-12 20:45:23,233] Trial 77 pruned. \n",
      "[I 2024-12-12 20:45:23,400] Trial 78 pruned. \n",
      "[I 2024-12-12 20:45:23,570] Trial 79 pruned. \n",
      "[I 2024-12-12 20:45:23,744] Trial 80 pruned. \n",
      "[I 2024-12-12 20:45:35,019] Trial 81 finished with value: 0.18334905323332648 and parameters: {'dropout1': 0.0, 'dropout2': 0.45, 'dropout3': 0.30000000000000004, 'dropout4': 0.4, 'learning_rate': 0.0003129842844126443, 'weight_decay': 0.001478710837493729}. Best is trial 58 with value: 0.34993103608875964.\n",
      "/tmp/ipykernel_1421115/355772322.py:7: FutureWarning: suggest_loguniform has been deprecated in v3.0.0. This feature will be removed in v6.0.0. See https://github.com/optuna/optuna/releases/tag/v3.0.0. Use suggest_float(..., log=True) instead.\n",
      "  learning_rate = trial.suggest_loguniform(\"learning_rate\", 1e-4, 1e-1)\n",
      "/tmp/ipykernel_1421115/355772322.py:8: FutureWarning: suggest_loguniform has been deprecated in v3.0.0. This feature will be removed in v6.0.0. See https://github.com/optuna/optuna/releases/tag/v3.0.0. Use suggest_float(..., log=True) instead.\n",
      "  weight_decay=trial.suggest_loguniform(\"weight_decay\", 1e-4, 1e-1)\n",
      "[I 2024-12-12 20:45:35,198] Trial 82 pruned. \n"
     ]
    },
    {
     "name": "stdout",
     "output_type": "stream",
     "text": [
      "Early stopping at epoch 79\n",
      "Final MCC: 0.1833\n"
     ]
    },
    {
     "name": "stderr",
     "output_type": "stream",
     "text": [
      "[I 2024-12-12 20:45:35,334] Trial 83 pruned. \n",
      "[I 2024-12-12 20:45:43,647] Trial 84 finished with value: 0.18193229603660638 and parameters: {'dropout1': 0.05, 'dropout2': 0.45, 'dropout3': 0.30000000000000004, 'dropout4': 0.35000000000000003, 'learning_rate': 0.0003909323573381397, 'weight_decay': 0.00016613111633320473}. Best is trial 58 with value: 0.34993103608875964.\n",
      "/tmp/ipykernel_1421115/355772322.py:7: FutureWarning: suggest_loguniform has been deprecated in v3.0.0. This feature will be removed in v6.0.0. See https://github.com/optuna/optuna/releases/tag/v3.0.0. Use suggest_float(..., log=True) instead.\n",
      "  learning_rate = trial.suggest_loguniform(\"learning_rate\", 1e-4, 1e-1)\n",
      "/tmp/ipykernel_1421115/355772322.py:8: FutureWarning: suggest_loguniform has been deprecated in v3.0.0. This feature will be removed in v6.0.0. See https://github.com/optuna/optuna/releases/tag/v3.0.0. Use suggest_float(..., log=True) instead.\n",
      "  weight_decay=trial.suggest_loguniform(\"weight_decay\", 1e-4, 1e-1)\n",
      "[I 2024-12-12 20:45:43,835] Trial 85 pruned. \n"
     ]
    },
    {
     "name": "stdout",
     "output_type": "stream",
     "text": [
      "Early stopping at epoch 67\n",
      "Final MCC: 0.1819\n"
     ]
    },
    {
     "name": "stderr",
     "output_type": "stream",
     "text": [
      "[I 2024-12-12 20:45:44,020] Trial 86 pruned. \n",
      "[I 2024-12-12 20:45:44,192] Trial 87 pruned. \n",
      "[I 2024-12-12 20:45:44,368] Trial 88 pruned. \n",
      "[I 2024-12-12 20:45:44,538] Trial 89 pruned. \n",
      "[I 2024-12-12 20:45:44,732] Trial 90 pruned. \n",
      "[I 2024-12-12 20:45:44,922] Trial 91 pruned. \n",
      "[I 2024-12-12 20:45:45,106] Trial 92 pruned. \n",
      "[I 2024-12-12 20:45:45,288] Trial 93 pruned. \n",
      "[I 2024-12-12 20:45:45,466] Trial 94 pruned. \n",
      "[I 2024-12-12 20:45:45,649] Trial 95 pruned. \n",
      "[I 2024-12-12 20:45:45,823] Trial 96 pruned. \n",
      "[I 2024-12-12 20:45:46,005] Trial 97 pruned. \n",
      "[I 2024-12-12 20:45:53,587] Trial 98 finished with value: 0.18331607147932608 and parameters: {'dropout1': 0.0, 'dropout2': 0.4, 'dropout3': 0.30000000000000004, 'dropout4': 0.30000000000000004, 'learning_rate': 0.00047217704064445677, 'weight_decay': 0.001783702697383571}. Best is trial 58 with value: 0.34993103608875964.\n",
      "/tmp/ipykernel_1421115/355772322.py:7: FutureWarning: suggest_loguniform has been deprecated in v3.0.0. This feature will be removed in v6.0.0. See https://github.com/optuna/optuna/releases/tag/v3.0.0. Use suggest_float(..., log=True) instead.\n",
      "  learning_rate = trial.suggest_loguniform(\"learning_rate\", 1e-4, 1e-1)\n",
      "/tmp/ipykernel_1421115/355772322.py:8: FutureWarning: suggest_loguniform has been deprecated in v3.0.0. This feature will be removed in v6.0.0. See https://github.com/optuna/optuna/releases/tag/v3.0.0. Use suggest_float(..., log=True) instead.\n",
      "  weight_decay=trial.suggest_loguniform(\"weight_decay\", 1e-4, 1e-1)\n",
      "[I 2024-12-12 20:45:53,775] Trial 99 pruned. \n"
     ]
    },
    {
     "name": "stdout",
     "output_type": "stream",
     "text": [
      "Early stopping at epoch 52\n",
      "Final MCC: 0.1833\n",
      "Best Parameters:  {'dropout1': 0.0, 'dropout2': 0.5, 'dropout3': 0.35000000000000003, 'dropout4': 0.4, 'learning_rate': 0.00010495092780898558, 'weight_decay': 0.004825413730656502}\n",
      "Best Validation F1:  0.34993103608875964\n"
     ]
    }
   ],
   "source": [
    "device_id = 1\n",
    "torch.cuda.set_device(device_id)\n",
    "device = torch.device(f\"cuda:{device_id}\" if torch.cuda.is_available() else \"cpu\")\n",
    "\n",
    "# Optunaの設定\n",
    "study = optuna.create_study(direction=\"maximize\")  \n",
    "study.optimize(objective, n_trials=100)\n",
    "\n",
    "# 結果表示\n",
    "print(\"Best Parameters: \", study.best_params)\n",
    "print(\"Best Validation F1: \", study.best_value)"
   ]
  },
  {
   "cell_type": "code",
   "execution_count": 52,
   "metadata": {},
   "outputs": [
    {
     "name": "stdout",
     "output_type": "stream",
     "text": [
      "Best parameters saved to 'best_params.json'\n"
     ]
    }
   ],
   "source": [
    "best_params = study.best_params\n",
    "\n",
    "# JSON形式で保存\n",
    "with open(\"optim_param/stack_DNN_params.json\", \"w\") as f:\n",
    "    json.dump(best_params, f)\n",
    "\n",
    "print(\"Best parameters saved to 'best_params.json'\")"
   ]
  },
  {
   "cell_type": "code",
   "execution_count": 68,
   "metadata": {},
   "outputs": [
    {
     "name": "stdout",
     "output_type": "stream",
     "text": [
      "Epoch [1/150], Loss: 0.6675\n",
      "Epoch [1/150], Train Loss: 0.6675, Val Loss: 0.6834\n",
      "Epoch [2/150], Loss: 0.6549\n",
      "Epoch [2/150], Train Loss: 0.6549, Val Loss: 0.6557\n",
      "Epoch [3/150], Loss: 0.6495\n",
      "Epoch [3/150], Train Loss: 0.6495, Val Loss: 0.6476\n",
      "Epoch [4/150], Loss: 0.6468\n",
      "Epoch [4/150], Train Loss: 0.6468, Val Loss: 0.6440\n",
      "Epoch [5/150], Loss: 0.6395\n",
      "Epoch [5/150], Train Loss: 0.6395, Val Loss: 0.6427\n",
      "Epoch [6/150], Loss: 0.6359\n",
      "Epoch [6/150], Train Loss: 0.6359, Val Loss: 0.6388\n",
      "Epoch [7/150], Loss: 0.6347\n",
      "Epoch [7/150], Train Loss: 0.6347, Val Loss: 0.6374\n",
      "Epoch [8/150], Loss: 0.6249\n",
      "Epoch [8/150], Train Loss: 0.6249, Val Loss: 0.6332\n",
      "Epoch [9/150], Loss: 0.6278\n",
      "Epoch [9/150], Train Loss: 0.6278, Val Loss: 0.6303\n",
      "Epoch [10/150], Loss: 0.6238\n",
      "Epoch [10/150], Train Loss: 0.6238, Val Loss: 0.6288\n",
      "Epoch [11/150], Loss: 0.6226\n",
      "Epoch [11/150], Train Loss: 0.6226, Val Loss: 0.6302\n",
      "Epoch [12/150], Loss: 0.6163\n",
      "Epoch [12/150], Train Loss: 0.6163, Val Loss: 0.6268\n",
      "Epoch [13/150], Loss: 0.6165\n",
      "Epoch [13/150], Train Loss: 0.6165, Val Loss: 0.6194\n",
      "Epoch [14/150], Loss: 0.6203\n",
      "Epoch [14/150], Train Loss: 0.6203, Val Loss: 0.6210\n",
      "Epoch [15/150], Loss: 0.6140\n",
      "Epoch [15/150], Train Loss: 0.6140, Val Loss: 0.6175\n",
      "Epoch [16/150], Loss: 0.6039\n",
      "Epoch [16/150], Train Loss: 0.6039, Val Loss: 0.6193\n",
      "Epoch [17/150], Loss: 0.6079\n",
      "Epoch [17/150], Train Loss: 0.6079, Val Loss: 0.6187\n",
      "Epoch [18/150], Loss: 0.6117\n",
      "Epoch [18/150], Train Loss: 0.6117, Val Loss: 0.6131\n",
      "Epoch [19/150], Loss: 0.6041\n",
      "Epoch [19/150], Train Loss: 0.6041, Val Loss: 0.6110\n",
      "Epoch [20/150], Loss: 0.6026\n",
      "Epoch [20/150], Train Loss: 0.6026, Val Loss: 0.6146\n",
      "Epoch [21/150], Loss: 0.6050\n",
      "Epoch [21/150], Train Loss: 0.6050, Val Loss: 0.6108\n",
      "Epoch [22/150], Loss: 0.6018\n",
      "Epoch [22/150], Train Loss: 0.6018, Val Loss: 0.6101\n",
      "Epoch [23/150], Loss: 0.6045\n",
      "Epoch [23/150], Train Loss: 0.6045, Val Loss: 0.6120\n",
      "Epoch [24/150], Loss: 0.6044\n",
      "Epoch [24/150], Train Loss: 0.6044, Val Loss: 0.6042\n",
      "Epoch [25/150], Loss: 0.5995\n",
      "Epoch [25/150], Train Loss: 0.5995, Val Loss: 0.6085\n",
      "Epoch [26/150], Loss: 0.6011\n",
      "Epoch [26/150], Train Loss: 0.6011, Val Loss: 0.6025\n",
      "Epoch [27/150], Loss: 0.5965\n",
      "Epoch [27/150], Train Loss: 0.5965, Val Loss: 0.6033\n",
      "Epoch [28/150], Loss: 0.5945\n",
      "Epoch [28/150], Train Loss: 0.5945, Val Loss: 0.6010\n",
      "Epoch [29/150], Loss: 0.5980\n",
      "Epoch [29/150], Train Loss: 0.5980, Val Loss: 0.5998\n",
      "Epoch [30/150], Loss: 0.5942\n",
      "Epoch [30/150], Train Loss: 0.5942, Val Loss: 0.5959\n",
      "Epoch [31/150], Loss: 0.5913\n",
      "Epoch [31/150], Train Loss: 0.5913, Val Loss: 0.6001\n",
      "Epoch [32/150], Loss: 0.5960\n",
      "Epoch [32/150], Train Loss: 0.5960, Val Loss: 0.5988\n",
      "Epoch [33/150], Loss: 0.5907\n",
      "Epoch [33/150], Train Loss: 0.5907, Val Loss: 0.5948\n",
      "Epoch [34/150], Loss: 0.5902\n",
      "Epoch [34/150], Train Loss: 0.5902, Val Loss: 0.5945\n",
      "Epoch [35/150], Loss: 0.5930\n",
      "Epoch [35/150], Train Loss: 0.5930, Val Loss: 0.5971\n",
      "Epoch [36/150], Loss: 0.5889\n",
      "Epoch [36/150], Train Loss: 0.5889, Val Loss: 0.5939\n",
      "Epoch [37/150], Loss: 0.5879\n",
      "Epoch [37/150], Train Loss: 0.5879, Val Loss: 0.5948\n",
      "Epoch [38/150], Loss: 0.5899\n",
      "Epoch [38/150], Train Loss: 0.5899, Val Loss: 0.5896\n",
      "Epoch [39/150], Loss: 0.5862\n",
      "Epoch [39/150], Train Loss: 0.5862, Val Loss: 0.5917\n",
      "Epoch [40/150], Loss: 0.5868\n",
      "Epoch [40/150], Train Loss: 0.5868, Val Loss: 0.5949\n",
      "Epoch [41/150], Loss: 0.5812\n",
      "Epoch [41/150], Train Loss: 0.5812, Val Loss: 0.5903\n",
      "Epoch [42/150], Loss: 0.5935\n",
      "Epoch [42/150], Train Loss: 0.5935, Val Loss: 0.5927\n",
      "Epoch [43/150], Loss: 0.5815\n",
      "Epoch [43/150], Train Loss: 0.5815, Val Loss: 0.5932\n",
      "Epoch [44/150], Loss: 0.5887\n",
      "Epoch [44/150], Train Loss: 0.5887, Val Loss: 0.5914\n",
      "Epoch [45/150], Loss: 0.5830\n",
      "Epoch [45/150], Train Loss: 0.5830, Val Loss: 0.5884\n",
      "Epoch [46/150], Loss: 0.5796\n",
      "Epoch [46/150], Train Loss: 0.5796, Val Loss: 0.5882\n",
      "Epoch [47/150], Loss: 0.5806\n",
      "Epoch [47/150], Train Loss: 0.5806, Val Loss: 0.5900\n",
      "Epoch [48/150], Loss: 0.5803\n",
      "Epoch [48/150], Train Loss: 0.5803, Val Loss: 0.5882\n",
      "Epoch [49/150], Loss: 0.5797\n",
      "Epoch [49/150], Train Loss: 0.5797, Val Loss: 0.5888\n",
      "Epoch [50/150], Loss: 0.5816\n",
      "Epoch [50/150], Train Loss: 0.5816, Val Loss: 0.5859\n",
      "Epoch [51/150], Loss: 0.5794\n",
      "Epoch [51/150], Train Loss: 0.5794, Val Loss: 0.5852\n",
      "Epoch [52/150], Loss: 0.5800\n",
      "Epoch [52/150], Train Loss: 0.5800, Val Loss: 0.5868\n",
      "Epoch [53/150], Loss: 0.5816\n",
      "Epoch [53/150], Train Loss: 0.5816, Val Loss: 0.5888\n",
      "Epoch [54/150], Loss: 0.5809\n",
      "Epoch [54/150], Train Loss: 0.5809, Val Loss: 0.5855\n",
      "Epoch [55/150], Loss: 0.5775\n",
      "Epoch [55/150], Train Loss: 0.5775, Val Loss: 0.5861\n",
      "Epoch [56/150], Loss: 0.5721\n",
      "Epoch [56/150], Train Loss: 0.5721, Val Loss: 0.5862\n",
      "Epoch [57/150], Loss: 0.5763\n",
      "Epoch [57/150], Train Loss: 0.5763, Val Loss: 0.5834\n",
      "Epoch [58/150], Loss: 0.5797\n",
      "Epoch [58/150], Train Loss: 0.5797, Val Loss: 0.5832\n",
      "Epoch [59/150], Loss: 0.5771\n",
      "Epoch [59/150], Train Loss: 0.5771, Val Loss: 0.5831\n",
      "Epoch [60/150], Loss: 0.5796\n",
      "Epoch [60/150], Train Loss: 0.5796, Val Loss: 0.5833\n",
      "Epoch [61/150], Loss: 0.5737\n",
      "Epoch [61/150], Train Loss: 0.5737, Val Loss: 0.5826\n",
      "Epoch [62/150], Loss: 0.5783\n",
      "Epoch [62/150], Train Loss: 0.5783, Val Loss: 0.5822\n",
      "Epoch [63/150], Loss: 0.5734\n",
      "Epoch [63/150], Train Loss: 0.5734, Val Loss: 0.5832\n",
      "Epoch [64/150], Loss: 0.5768\n",
      "Epoch [64/150], Train Loss: 0.5768, Val Loss: 0.5819\n",
      "Epoch [65/150], Loss: 0.5722\n",
      "Epoch [65/150], Train Loss: 0.5722, Val Loss: 0.5820\n",
      "Epoch [66/150], Loss: 0.5777\n",
      "Epoch [66/150], Train Loss: 0.5777, Val Loss: 0.5817\n",
      "Epoch [67/150], Loss: 0.5703\n",
      "Epoch [67/150], Train Loss: 0.5703, Val Loss: 0.5832\n",
      "Epoch [68/150], Loss: 0.5755\n",
      "Epoch [68/150], Train Loss: 0.5755, Val Loss: 0.5789\n",
      "Epoch [69/150], Loss: 0.5704\n",
      "Epoch [69/150], Train Loss: 0.5704, Val Loss: 0.5825\n",
      "Epoch [70/150], Loss: 0.5706\n",
      "Epoch [70/150], Train Loss: 0.5706, Val Loss: 0.5820\n",
      "Epoch [71/150], Loss: 0.5731\n",
      "Epoch [71/150], Train Loss: 0.5731, Val Loss: 0.5815\n",
      "Epoch [72/150], Loss: 0.5756\n",
      "Epoch [72/150], Train Loss: 0.5756, Val Loss: 0.5820\n",
      "Epoch [73/150], Loss: 0.5693\n",
      "Epoch [73/150], Train Loss: 0.5693, Val Loss: 0.5803\n",
      "Epoch [74/150], Loss: 0.5735\n",
      "Epoch [74/150], Train Loss: 0.5735, Val Loss: 0.5798\n",
      "Epoch [75/150], Loss: 0.5630\n",
      "Epoch [75/150], Train Loss: 0.5630, Val Loss: 0.5766\n",
      "Epoch [76/150], Loss: 0.5733\n",
      "Epoch [76/150], Train Loss: 0.5733, Val Loss: 0.5794\n",
      "Epoch [77/150], Loss: 0.5674\n",
      "Epoch [77/150], Train Loss: 0.5674, Val Loss: 0.5782\n",
      "Epoch [78/150], Loss: 0.5687\n",
      "Epoch [78/150], Train Loss: 0.5687, Val Loss: 0.5784\n",
      "Epoch [79/150], Loss: 0.5656\n",
      "Epoch [79/150], Train Loss: 0.5656, Val Loss: 0.5773\n",
      "Epoch [80/150], Loss: 0.5683\n",
      "Epoch [80/150], Train Loss: 0.5683, Val Loss: 0.5776\n",
      "Epoch [81/150], Loss: 0.5690\n",
      "Epoch [81/150], Train Loss: 0.5690, Val Loss: 0.5781\n",
      "Epoch [82/150], Loss: 0.5743\n",
      "Epoch [82/150], Train Loss: 0.5743, Val Loss: 0.5796\n",
      "Epoch [83/150], Loss: 0.5694\n",
      "Epoch [83/150], Train Loss: 0.5694, Val Loss: 0.5769\n",
      "Epoch [84/150], Loss: 0.5687\n",
      "Epoch [84/150], Train Loss: 0.5687, Val Loss: 0.5772\n",
      "Epoch [85/150], Loss: 0.5697\n",
      "Epoch [85/150], Train Loss: 0.5697, Val Loss: 0.5772\n",
      "Epoch [86/150], Loss: 0.5694\n",
      "Epoch [86/150], Train Loss: 0.5694, Val Loss: 0.5767\n",
      "Epoch [87/150], Loss: 0.5650\n",
      "Epoch [87/150], Train Loss: 0.5650, Val Loss: 0.5772\n",
      "Epoch [88/150], Loss: 0.5645\n",
      "Epoch [88/150], Train Loss: 0.5645, Val Loss: 0.5771\n",
      "Epoch [89/150], Loss: 0.5660\n",
      "Epoch [89/150], Train Loss: 0.5660, Val Loss: 0.5760\n",
      "Epoch [90/150], Loss: 0.5590\n",
      "Epoch [90/150], Train Loss: 0.5590, Val Loss: 0.5776\n",
      "Epoch [91/150], Loss: 0.5672\n",
      "Epoch [91/150], Train Loss: 0.5672, Val Loss: 0.5770\n",
      "Epoch [92/150], Loss: 0.5688\n",
      "Epoch [92/150], Train Loss: 0.5688, Val Loss: 0.5772\n",
      "Epoch [93/150], Loss: 0.5601\n",
      "Epoch [93/150], Train Loss: 0.5601, Val Loss: 0.5757\n",
      "Epoch [94/150], Loss: 0.5677\n",
      "Epoch [94/150], Train Loss: 0.5677, Val Loss: 0.5752\n",
      "Epoch [95/150], Loss: 0.5618\n",
      "Epoch [95/150], Train Loss: 0.5618, Val Loss: 0.5748\n",
      "Epoch [96/150], Loss: 0.5613\n",
      "Epoch [96/150], Train Loss: 0.5613, Val Loss: 0.5751\n",
      "Epoch [97/150], Loss: 0.5621\n",
      "Epoch [97/150], Train Loss: 0.5621, Val Loss: 0.5753\n",
      "Epoch [98/150], Loss: 0.5584\n",
      "Epoch [98/150], Train Loss: 0.5584, Val Loss: 0.5760\n",
      "Epoch [99/150], Loss: 0.5641\n",
      "Epoch [99/150], Train Loss: 0.5641, Val Loss: 0.5750\n",
      "Epoch [100/150], Loss: 0.5626\n",
      "Epoch [100/150], Train Loss: 0.5626, Val Loss: 0.5758\n",
      "Epoch [101/150], Loss: 0.5637\n",
      "Epoch [101/150], Train Loss: 0.5637, Val Loss: 0.5756\n",
      "Epoch [102/150], Loss: 0.5623\n",
      "Epoch [102/150], Train Loss: 0.5623, Val Loss: 0.5761\n",
      "Epoch [103/150], Loss: 0.5631\n",
      "Epoch [103/150], Train Loss: 0.5631, Val Loss: 0.5758\n",
      "Epoch [104/150], Loss: 0.5608\n",
      "Epoch [104/150], Train Loss: 0.5608, Val Loss: 0.5766\n",
      "Epoch [105/150], Loss: 0.5572\n",
      "Epoch [105/150], Train Loss: 0.5572, Val Loss: 0.5758\n",
      "Epoch [106/150], Loss: 0.5586\n",
      "Epoch [106/150], Train Loss: 0.5586, Val Loss: 0.5764\n",
      "Epoch [107/150], Loss: 0.5619\n",
      "Epoch [107/150], Train Loss: 0.5619, Val Loss: 0.5760\n",
      "Epoch [108/150], Loss: 0.5594\n",
      "Epoch [108/150], Train Loss: 0.5594, Val Loss: 0.5764\n",
      "Epoch [109/150], Loss: 0.5648\n",
      "Epoch [109/150], Train Loss: 0.5648, Val Loss: 0.5760\n",
      "Epoch [110/150], Loss: 0.5579\n",
      "Epoch [110/150], Train Loss: 0.5579, Val Loss: 0.5763\n",
      "Epoch [111/150], Loss: 0.5580\n",
      "Epoch [111/150], Train Loss: 0.5580, Val Loss: 0.5758\n",
      "Epoch [112/150], Loss: 0.5603\n",
      "Epoch [112/150], Train Loss: 0.5603, Val Loss: 0.5757\n",
      "Epoch [113/150], Loss: 0.5596\n",
      "Epoch [113/150], Train Loss: 0.5596, Val Loss: 0.5758\n",
      "Epoch [114/150], Loss: 0.5637\n",
      "Epoch [114/150], Train Loss: 0.5637, Val Loss: 0.5756\n",
      "Epoch [115/150], Loss: 0.5573\n",
      "Epoch [115/150], Train Loss: 0.5573, Val Loss: 0.5764\n",
      "Epoch [116/150], Loss: 0.5606\n",
      "Epoch [116/150], Train Loss: 0.5606, Val Loss: 0.5759\n",
      "Epoch [117/150], Loss: 0.5588\n",
      "Epoch [117/150], Train Loss: 0.5588, Val Loss: 0.5767\n",
      "Epoch [118/150], Loss: 0.5565\n",
      "Epoch [118/150], Train Loss: 0.5565, Val Loss: 0.5758\n",
      "Epoch [119/150], Loss: 0.5614\n",
      "Epoch [119/150], Train Loss: 0.5614, Val Loss: 0.5761\n",
      "Epoch [120/150], Loss: 0.5550\n",
      "Epoch [120/150], Train Loss: 0.5550, Val Loss: 0.5765\n",
      "Epoch [121/150], Loss: 0.5578\n",
      "Epoch [121/150], Train Loss: 0.5578, Val Loss: 0.5755\n",
      "Epoch [122/150], Loss: 0.5545\n",
      "Epoch [122/150], Train Loss: 0.5545, Val Loss: 0.5751\n",
      "Epoch [123/150], Loss: 0.5554\n",
      "Epoch [123/150], Train Loss: 0.5554, Val Loss: 0.5757\n",
      "Epoch [124/150], Loss: 0.5589\n",
      "Epoch [124/150], Train Loss: 0.5589, Val Loss: 0.5751\n",
      "Epoch [125/150], Loss: 0.5517\n",
      "Epoch [125/150], Train Loss: 0.5517, Val Loss: 0.5757\n",
      "Epoch [126/150], Loss: 0.5548\n",
      "Epoch [126/150], Train Loss: 0.5548, Val Loss: 0.5753\n",
      "Epoch [127/150], Loss: 0.5580\n",
      "Epoch [127/150], Train Loss: 0.5580, Val Loss: 0.5752\n",
      "Epoch [128/150], Loss: 0.5511\n",
      "Epoch [128/150], Train Loss: 0.5511, Val Loss: 0.5751\n",
      "Epoch [129/150], Loss: 0.5519\n",
      "Epoch [129/150], Train Loss: 0.5519, Val Loss: 0.5751\n",
      "Epoch [130/150], Loss: 0.5526\n",
      "Epoch [130/150], Train Loss: 0.5526, Val Loss: 0.5743\n",
      "Epoch [131/150], Loss: 0.5531\n",
      "Epoch [131/150], Train Loss: 0.5531, Val Loss: 0.5765\n",
      "Epoch [132/150], Loss: 0.5538\n",
      "Epoch [132/150], Train Loss: 0.5538, Val Loss: 0.5768\n",
      "Epoch [133/150], Loss: 0.5522\n",
      "Epoch [133/150], Train Loss: 0.5522, Val Loss: 0.5760\n",
      "Epoch [134/150], Loss: 0.5548\n",
      "Epoch [134/150], Train Loss: 0.5548, Val Loss: 0.5760\n",
      "Epoch [135/150], Loss: 0.5506\n",
      "Epoch [135/150], Train Loss: 0.5506, Val Loss: 0.5758\n",
      "Epoch [136/150], Loss: 0.5545\n",
      "Epoch [136/150], Train Loss: 0.5545, Val Loss: 0.5777\n",
      "Epoch [137/150], Loss: 0.5518\n",
      "Epoch [137/150], Train Loss: 0.5518, Val Loss: 0.5764\n",
      "Epoch [138/150], Loss: 0.5487\n",
      "Epoch [138/150], Train Loss: 0.5487, Val Loss: 0.5765\n",
      "Epoch [139/150], Loss: 0.5535\n",
      "Epoch [139/150], Train Loss: 0.5535, Val Loss: 0.5760\n",
      "Epoch [140/150], Loss: 0.5497\n",
      "Epoch [140/150], Train Loss: 0.5497, Val Loss: 0.5751\n",
      "Epoch [141/150], Loss: 0.5529\n",
      "Epoch [141/150], Train Loss: 0.5529, Val Loss: 0.5763\n",
      "Epoch [142/150], Loss: 0.5529\n",
      "Epoch [142/150], Train Loss: 0.5529, Val Loss: 0.5749\n",
      "Epoch [143/150], Loss: 0.5549\n",
      "Epoch [143/150], Train Loss: 0.5549, Val Loss: 0.5758\n",
      "Epoch [144/150], Loss: 0.5435\n",
      "Epoch [144/150], Train Loss: 0.5435, Val Loss: 0.5754\n",
      "Epoch [145/150], Loss: 0.5520\n",
      "Epoch [145/150], Train Loss: 0.5520, Val Loss: 0.5745\n",
      "Epoch [146/150], Loss: 0.5470\n",
      "Epoch [146/150], Train Loss: 0.5470, Val Loss: 0.5756\n",
      "Epoch [147/150], Loss: 0.5557\n",
      "Epoch [147/150], Train Loss: 0.5557, Val Loss: 0.5761\n",
      "Epoch [148/150], Loss: 0.5512\n",
      "Epoch [148/150], Train Loss: 0.5512, Val Loss: 0.5751\n",
      "Epoch [149/150], Loss: 0.5489\n",
      "Epoch [149/150], Train Loss: 0.5489, Val Loss: 0.5750\n",
      "Epoch [150/150], Loss: 0.5511\n",
      "Epoch [150/150], Train Loss: 0.5511, Val Loss: 0.5755\n"
     ]
    },
    {
     "data": {
      "image/png": "[encoded data removed]",
      "text/plain": [
       "<Figure size 1000x600 with 1 Axes>"
      ]
     },
     "metadata": {},
     "output_type": "display_data"
    }
   ],
   "source": [
    "best_params=study.best_params\n",
    "model = meta_model(input_dim=X_train_tensor.shape[1],\n",
    "              dropout1=best_params[\"dropout1\"],\n",
    "              dropout2=best_params[\"dropout2\"],\n",
    "              dropout3=best_params[\"dropout3\"],\n",
    "              dropout4=best_params[\"dropout4\"]).to(device)\n",
    "# 最適化と訓練を実行\n",
    "optimizer = optim.Adam(model.parameters(), lr=best_params[\"learning_rate\"],weight_decay=best_params[\"weight_decay\"])\n",
    "criterion = nn.BCELoss()\n",
    "\n",
    "num_epochs=150\n",
    "train_losses = []\n",
    "val_losses = []\n",
    "\n",
    "model.train()\n",
    "for epoch in range(num_epochs):\n",
    "    epoch_train_loss = 0\n",
    "    epoch_val_loss = 0\n",
    "\n",
    "    for X_batch, y_batch in train_loader:\n",
    "        X_batch, y_batch = X_batch.to(device), y_batch.to(device)\n",
    "        optimizer.zero_grad()\n",
    "        outputs = model(X_batch).squeeze()\n",
    "        loss = criterion(outputs, y_batch.squeeze())\n",
    "        loss.backward()\n",
    "        optimizer.step()\n",
    "        epoch_train_loss += loss.item()\n",
    "    avg_train_loss = epoch_train_loss / len(train_loader)\n",
    "    train_losses.append(avg_train_loss)\n",
    "    print(f'Epoch [{epoch+1}/{num_epochs}], Loss: {avg_train_loss:.4f}')\n",
    "\n",
    "    if val_loader is not None:\n",
    "        model.eval()  \n",
    "        with torch.no_grad():\n",
    "            for X_val, y_val in val_loader:\n",
    "                X_val, y_val = X_val.to(device), y_val.to(device)\n",
    "                val_outputs = model(X_val).squeeze()\n",
    "                val_loss = criterion(val_outputs, y_val.squeeze())\n",
    "                epoch_val_loss += val_loss.item()\n",
    "\n",
    "        avg_val_loss = epoch_val_loss / len(val_loader)\n",
    "        val_losses.append(avg_val_loss)\n",
    "        model.train()  \n",
    "\n",
    "    if val_loader is not None:\n",
    "        print(f\"Epoch [{epoch+1}/{num_epochs}], Train Loss: {avg_train_loss:.4f}, Val Loss: {avg_val_loss:.4f}\")\n",
    "    else:\n",
    "        print(f\"Epoch [{epoch+1}/{num_epochs}], Train Loss: {avg_train_loss:.4f}\")\n",
    "\n",
    "plt.figure(figsize=(10, 6))\n",
    "plt.plot(range(1, num_epochs + 1), train_losses, label='Train Loss')\n",
    "if val_losses:\n",
    "    plt.plot(range(1, num_epochs + 1), val_losses, label='Validation Loss')\n",
    "plt.xlabel('Epoch')\n",
    "plt.ylabel('Loss')\n",
    "plt.title('Learning Curve for stacking')\n",
    "plt.legend()\n",
    "plt.grid()\n",
    "plt.show()"
   ]
  },
  {
   "cell_type": "code",
   "execution_count": 69,
   "metadata": {},
   "outputs": [
    {
     "name": "stdout",
     "output_type": "stream",
     "text": [
      "Accuracy: 58.54%\n",
      "Precision: 0.4741\n",
      "Recall: 0.6755\n",
      "F1 Score: 0.5572\n",
      "Matthews Correlation Coefficient: 0.1999\n",
      "Specificity: 0.5288\n"
     ]
    },
    {
     "data": {
      "image/png": "[encoded data removed]",
      "text/plain": [
       "<Figure size 640x480 with 1 Axes>"
      ]
     },
     "metadata": {},
     "output_type": "display_data"
    },
    {
     "data": {
      "image/png": "[encoded data removed]",
      "text/plain": [
       "<Figure size 640x480 with 1 Axes>"
      ]
     },
     "metadata": {},
     "output_type": "display_data"
    },
    {
     "data": {
      "image/png": "[encoded data removed]",
      "text/plain": [
       "<Figure size 640x480 with 1 Axes>"
      ]
     },
     "metadata": {},
     "output_type": "display_data"
    }
   ],
   "source": [
    "model.eval()\n",
    "with torch.no_grad():\n",
    "    X_test_tensor = X_test_tensor.to(device)\n",
    "    y_test_tensor = y_test_tensor.to(device)\n",
    "\n",
    "    # 予測と確率\n",
    "    test_outputs = model(X_test_tensor).squeeze()\n",
    "    predictions = (test_outputs >=0.5).float()\n",
    "    y_true = y_test_tensor.cpu().numpy()\n",
    "    y_pred = predictions.cpu().numpy()\n",
    "    y_prob = test_outputs.cpu().numpy()\n",
    "\n",
    "# 評価指標\n",
    "    accuracy = accuracy_score(y_true, y_pred)\n",
    "    precision = precision_score(y_true, y_pred)\n",
    "    recall = recall_score(y_true, y_pred)\n",
    "    f1 = f1_score(y_true, y_pred)\n",
    "    mcc = matthews_corrcoef(y_true, y_pred)\n",
    "    specificity = recall_score(y_true, y_pred, pos_label=0)  \n",
    "    print(f'Accuracy: {accuracy * 100:.2f}%')\n",
    "    print(f'Precision: {precision:.4f}')\n",
    "    print(f'Recall: {recall:.4f}')\n",
    "    print(f'F1 Score: {f1:.4f}')\n",
    "    print(f'Matthews Correlation Coefficient: {mcc:.4f}')\n",
    "    print(f'Specificity: {specificity:.4f}')\n",
    "\n",
    "    # 混同行列（割合表示）\n",
    "    cm = confusion_matrix(y_true, y_pred, normalize='true')\n",
    "    sns.heatmap(cm, annot=True, fmt=\".2%\", cmap=\"Blues\", cbar=False)\n",
    "    plt.xlabel(\"Predicted\")\n",
    "    plt.ylabel(\"Actual\")\n",
    "    plt.title(f\"Confusion Matrix (Normalized)\")\n",
    "    plt.show()\n",
    "\n",
    "    # ROC曲線とAUC\n",
    "    fpr, tpr, thresholds = roc_curve(y_true, y_prob)\n",
    "    roc_auc = auc(fpr, tpr)\n",
    "    plt.plot(fpr, tpr, label=f'ROC curve (AUC = {roc_auc:.2f})')\n",
    "    plt.plot([0, 1], [0, 1], 'k--') \n",
    "    plt.xlabel('False Positive Rate')\n",
    "    plt.ylabel('True Positive Rate')\n",
    "    plt.title(f'ROC Curve - Model ')\n",
    "    plt.legend(loc=\"lower right\")\n",
    "    plt.show()\n",
    "\n",
    "    # Precision-Recall曲線\n",
    "    precision_curve, recall_curve, pr_thresholds = precision_recall_curve(y_true, y_prob)\n",
    "    pr_auc = auc(recall_curve, precision_curve)\n",
    "    plt.plot(recall_curve, precision_curve, label=f'PR curve (AUC = {pr_auc:.2f})')\n",
    "    plt.xlabel('Recall')\n",
    "    plt.ylabel('Precision')\n",
    "    plt.title(f'Precision-Recall Curve ')\n",
    "    plt.legend(loc=\"lower left\")\n",
    "    plt.show()    "
   ]
  },
  {
   "cell_type": "code",
   "execution_count": null,
   "metadata": {},
   "outputs": [],
   "source": []
  }
 ],
 "metadata": {
  "kernelspec": {
   "display_name": "torch",
   "language": "python",
   "name": "python3"
  },
  "language_info": {
   "codemirror_mode": {
    "name": "ipython",
    "version": 3
   },
   "file_extension": ".py",
   "mimetype": "text/x-python",
   "name": "python",
   "nbconvert_exporter": "python",
   "pygments_lexer": "ipython3",
   "version": "3.12.7"
  }
 },
 "nbformat": 4,
 "nbformat_minor": 2
}
