{
 "cells": [
  {
   "cell_type": "code",
   "execution_count": 68,
   "metadata": {},
   "outputs": [],
   "source": [
    "import numpy as np\n",
    "import pandas as pd\n",
    "import matplotlib.pyplot as plt\n",
    "import seaborn as sns\n",
    "import json\n",
    "\n",
    "import torch\n",
    "import torch.nn as nn\n",
    "import torch.optim as optim\n",
    "\n",
    "import optuna\n",
    "\n",
    "from sklearn.model_selection import train_test_split\n",
    "from sklearn.metrics import confusion_matrix,accuracy_score, precision_score, recall_score, f1_score, confusion_matrix, roc_curve, auc,matthews_corrcoef, precision_recall_curve,roc_auc_score\n",
    "\n"
   ]
  },
  {
   "cell_type": "markdown",
   "metadata": {},
   "source": [
    "データ読み取り"
   ]
  },
  {
   "cell_type": "code",
   "execution_count": 69,
   "metadata": {},
   "outputs": [],
   "source": [
    "df=pd.read_csv('learning_data.csv',index_col=0)\n",
    "\n",
    "X=df.drop(columns='dengue',axis=1).values\n",
    "y=df['dengue'].values\n",
    "\n",
    "X_train, X_test, y_train, y_test = train_test_split(X, y, test_size=0.2,random_state=42)\n",
    "X_train, X_val, y_train, y_val = train_test_split(X_train, y_train, test_size=0.1,random_state=42)\n",
    "\n",
    "#torchテンソルに変換\n",
    "X_train_tensor = torch.tensor(X_train, dtype=torch.float32)\n",
    "y_train_tensor = torch.tensor(y_train, dtype=torch.float32)\n",
    "X_test_tensor = torch.tensor(X_test, dtype=torch.float32)\n",
    "y_test_tensor = torch.tensor(y_test, dtype=torch.float32)\n",
    "X_val_tensor = torch.tensor(X_val, dtype=torch.float32)\n",
    "y_val_tensor = torch.tensor(y_val, dtype=torch.float32)\n"
   ]
  },
  {
   "cell_type": "code",
   "execution_count": 70,
   "metadata": {},
   "outputs": [],
   "source": [
    "class DNN_5(nn.Module):\n",
    "    def __init__(self, input_dim,dropout1,dropout2):\n",
    "        super(DNN_5, self).__init__()\n",
    "        self.layer1 = nn.Linear(input_dim,32)\n",
    "        self.layer2 = nn.Linear(32,16)\n",
    "        self.layer3 = nn.Linear(16, 8)\n",
    "        self.layer4 = nn.Linear(8, 4)\n",
    "        self.output_layer = nn.Linear(4, 1)\n",
    "\n",
    "        self.bn1=nn.BatchNorm1d(32)\n",
    "        self.bn2=nn.BatchNorm1d(16)\n",
    "        self.bn3=nn.BatchNorm1d(8)\n",
    "        self.bn4=nn.BatchNorm1d(4)\n",
    "\n",
    "        self.dropout1 = nn.Dropout(dropout1)\n",
    "        self.dropout2 = nn.Dropout(dropout2)        \n",
    "        \n",
    "    def forward(self, x):\n",
    "        x = torch.relu(self.bn1(self.layer1(x)))\n",
    "        \n",
    "        x = torch.relu(self.bn2(self.layer2(x)))\n",
    "        \n",
    "\n",
    "        x = torch.relu(self.bn3(self.layer3(x)))\n",
    "        x = self.dropout1(x)\n",
    "\n",
    "        x = torch.relu(self.bn4(self.layer4(x)))\n",
    "        x = self.dropout2(x)\n",
    "\n",
    "        x = torch.sigmoid(self.output_layer(x)) \n",
    "        return x\n",
    "    "
   ]
  },
  {
   "cell_type": "markdown",
   "metadata": {},
   "source": [
    "学習データセットの作成"
   ]
  },
  {
   "cell_type": "code",
   "execution_count": 71,
   "metadata": {},
   "outputs": [],
   "source": [
    "train_dataset = torch.utils.data.TensorDataset(X_train_tensor, y_train_tensor)\n",
    "train_loader = torch.utils.data.DataLoader(dataset=train_dataset, batch_size=128, shuffle=True)\n",
    "\n",
    "val_dataset = torch.utils.data.TensorDataset(X_val_tensor, y_val_tensor)\n",
    "val_loader = torch.utils.data.DataLoader(dataset=val_dataset, batch_size=128, shuffle=False)"
   ]
  },
  {
   "cell_type": "code",
   "execution_count": 72,
   "metadata": {},
   "outputs": [],
   "source": [
    "def objective(trial):\n",
    "    # ハイパーパラメータのサンプリング\n",
    "    dropout1 = trial.suggest_float(\"dropout1\", 0, 0.5, step=0.05)\n",
    "    dropout2 = trial.suggest_float(\"dropout2\", 0, 0.5, step=0.05)\n",
    "    learning_rate = trial.suggest_loguniform(\"learning_rate\", 1e-5, 1e-1)  \n",
    "    weight_decay = trial.suggest_loguniform(\"weight_decay\", 1e-5, 1e-1)   \n",
    "\n",
    "    # モデル定義\n",
    "    model = DNN_5(\n",
    "        input_dim=X_train_tensor.shape[1],\n",
    "        dropout1=dropout1,\n",
    "        dropout2=dropout2,\n",
    "    ).to(device)\n",
    "\n",
    "    criterion = nn.BCELoss()\n",
    "    optimizer = torch.optim.Adam(model.parameters(), lr=learning_rate, weight_decay=weight_decay)\n",
    "\n",
    "    # Early Stoppingの設定\n",
    "    patience = 10\n",
    "    best_val_loss = float('inf')\n",
    "    patience_counter = 0\n",
    "\n",
    "    # 訓練ループ\n",
    "    num_epochs = 300\n",
    "    for epoch in range(num_epochs):\n",
    "        model.train()\n",
    "        for X_batch, y_batch in train_loader:\n",
    "            X_batch, y_batch = X_batch.to(device), y_batch.to(device)\n",
    "            optimizer.zero_grad()\n",
    "            outputs = model(X_batch).squeeze()\n",
    "            loss = criterion(outputs, y_batch.squeeze())\n",
    "            loss.backward()\n",
    "            optimizer.step()\n",
    "\n",
    "        # バリデーション評価\n",
    "        model.eval()\n",
    "        val_loss = 0\n",
    "        val_true, val_pred = [], []\n",
    "        with torch.no_grad():\n",
    "            for X_val, y_val in val_loader:\n",
    "                X_val, y_val = X_val.to(device), y_val.to(device)\n",
    "                val_outputs = model(X_val).squeeze()\n",
    "                val_loss += criterion(val_outputs, y_val.squeeze()).item()\n",
    "                predictions = (val_outputs >=0.5).float()\n",
    "                val_true.extend(y_val.cpu().numpy())\n",
    "                val_pred.extend(predictions.cpu().numpy())\n",
    "\n",
    "        val_loss /= len(val_loader)\n",
    "\n",
    "        # Early Stopping判定\n",
    "        if val_loss < best_val_loss:\n",
    "            best_val_loss = val_loss\n",
    "            patience_counter = 0\n",
    "        else:\n",
    "            patience_counter += 1\n",
    "\n",
    "        if patience_counter >= patience:\n",
    "            print(f\"Early stopping at epoch {epoch}\")\n",
    "            break\n",
    "\n",
    "        # Optunaへのログ\n",
    "        trial.report(val_loss, epoch)\n",
    "        if trial.should_prune():\n",
    "            raise optuna.exceptions.TrialPruned()\n",
    "\n",
    "    # 最終的な評価指標を計算\n",
    "    mcc = matthews_corrcoef(val_true, val_pred)\n",
    "    print(f\"Final MCC: {mcc:.4f}\")\n",
    "\n",
    "    return mcc  # mccを返す\n"
   ]
  },
  {
   "cell_type": "code",
   "execution_count": 73,
   "metadata": {},
   "outputs": [
    {
     "name": "stderr",
     "output_type": "stream",
     "text": [
      "[I 2024-12-12 21:01:28,521] A new study created in memory with name: no-name-349ffa7f-089b-400b-b743-17a2ff6fc439\n",
      "/tmp/ipykernel_1382552/2462332885.py:5: FutureWarning: suggest_loguniform has been deprecated in v3.0.0. This feature will be removed in v6.0.0. See https://github.com/optuna/optuna/releases/tag/v3.0.0. Use suggest_float(..., log=True) instead.\n",
      "  learning_rate = trial.suggest_loguniform(\"learning_rate\", 1e-5, 1e-1)\n",
      "/tmp/ipykernel_1382552/2462332885.py:6: FutureWarning: suggest_loguniform has been deprecated in v3.0.0. This feature will be removed in v6.0.0. See https://github.com/optuna/optuna/releases/tag/v3.0.0. Use suggest_float(..., log=True) instead.\n",
      "  weight_decay = trial.suggest_loguniform(\"weight_decay\", 1e-5, 1e-1)\n",
      "[I 2024-12-12 21:01:54,992] Trial 0 finished with value: 0.16188890055161048 and parameters: {'dropout1': 0.1, 'dropout2': 0.45, 'learning_rate': 4.151415610290663e-05, 'weight_decay': 2.6883577542795713e-05}. Best is trial 0 with value: 0.16188890055161048.\n"
     ]
    },
    {
     "name": "stdout",
     "output_type": "stream",
     "text": [
      "Early stopping at epoch 194\n",
      "Final MCC: 0.1619\n"
     ]
    },
    {
     "name": "stderr",
     "output_type": "stream",
     "text": [
      "/tmp/ipykernel_1382552/2462332885.py:5: FutureWarning: suggest_loguniform has been deprecated in v3.0.0. This feature will be removed in v6.0.0. See https://github.com/optuna/optuna/releases/tag/v3.0.0. Use suggest_float(..., log=True) instead.\n",
      "  learning_rate = trial.suggest_loguniform(\"learning_rate\", 1e-5, 1e-1)\n",
      "/tmp/ipykernel_1382552/2462332885.py:6: FutureWarning: suggest_loguniform has been deprecated in v3.0.0. This feature will be removed in v6.0.0. See https://github.com/optuna/optuna/releases/tag/v3.0.0. Use suggest_float(..., log=True) instead.\n",
      "  weight_decay = trial.suggest_loguniform(\"weight_decay\", 1e-5, 1e-1)\n",
      "[I 2024-12-12 21:01:58,506] Trial 1 finished with value: 0.0 and parameters: {'dropout1': 0.4, 'dropout2': 0.2, 'learning_rate': 0.09161071424473073, 'weight_decay': 0.0004288277732923043}. Best is trial 0 with value: 0.16188890055161048.\n"
     ]
    },
    {
     "name": "stdout",
     "output_type": "stream",
     "text": [
      "Early stopping at epoch 25\n",
      "Final MCC: 0.0000\n"
     ]
    },
    {
     "name": "stderr",
     "output_type": "stream",
     "text": [
      "/tmp/ipykernel_1382552/2462332885.py:5: FutureWarning: suggest_loguniform has been deprecated in v3.0.0. This feature will be removed in v6.0.0. See https://github.com/optuna/optuna/releases/tag/v3.0.0. Use suggest_float(..., log=True) instead.\n",
      "  learning_rate = trial.suggest_loguniform(\"learning_rate\", 1e-5, 1e-1)\n",
      "/tmp/ipykernel_1382552/2462332885.py:6: FutureWarning: suggest_loguniform has been deprecated in v3.0.0. This feature will be removed in v6.0.0. See https://github.com/optuna/optuna/releases/tag/v3.0.0. Use suggest_float(..., log=True) instead.\n",
      "  weight_decay = trial.suggest_loguniform(\"weight_decay\", 1e-5, 1e-1)\n",
      "[I 2024-12-12 21:02:01,323] Trial 2 finished with value: 0.0 and parameters: {'dropout1': 0.25, 'dropout2': 0.35000000000000003, 'learning_rate': 0.04202439304754557, 'weight_decay': 0.000885366183084464}. Best is trial 0 with value: 0.16188890055161048.\n"
     ]
    },
    {
     "name": "stdout",
     "output_type": "stream",
     "text": [
      "Early stopping at epoch 19\n",
      "Final MCC: 0.0000\n"
     ]
    },
    {
     "name": "stderr",
     "output_type": "stream",
     "text": [
      "/tmp/ipykernel_1382552/2462332885.py:5: FutureWarning: suggest_loguniform has been deprecated in v3.0.0. This feature will be removed in v6.0.0. See https://github.com/optuna/optuna/releases/tag/v3.0.0. Use suggest_float(..., log=True) instead.\n",
      "  learning_rate = trial.suggest_loguniform(\"learning_rate\", 1e-5, 1e-1)\n",
      "/tmp/ipykernel_1382552/2462332885.py:6: FutureWarning: suggest_loguniform has been deprecated in v3.0.0. This feature will be removed in v6.0.0. See https://github.com/optuna/optuna/releases/tag/v3.0.0. Use suggest_float(..., log=True) instead.\n",
      "  weight_decay = trial.suggest_loguniform(\"weight_decay\", 1e-5, 1e-1)\n",
      "[I 2024-12-12 21:02:42,106] Trial 3 finished with value: 0.310300768874618 and parameters: {'dropout1': 0.25, 'dropout2': 0.5, 'learning_rate': 5.1335327873592435e-05, 'weight_decay': 9.243414043418081e-05}. Best is trial 3 with value: 0.310300768874618.\n"
     ]
    },
    {
     "name": "stdout",
     "output_type": "stream",
     "text": [
      "Final MCC: 0.3103\n"
     ]
    },
    {
     "name": "stderr",
     "output_type": "stream",
     "text": [
      "/tmp/ipykernel_1382552/2462332885.py:5: FutureWarning: suggest_loguniform has been deprecated in v3.0.0. This feature will be removed in v6.0.0. See https://github.com/optuna/optuna/releases/tag/v3.0.0. Use suggest_float(..., log=True) instead.\n",
      "  learning_rate = trial.suggest_loguniform(\"learning_rate\", 1e-5, 1e-1)\n",
      "/tmp/ipykernel_1382552/2462332885.py:6: FutureWarning: suggest_loguniform has been deprecated in v3.0.0. This feature will be removed in v6.0.0. See https://github.com/optuna/optuna/releases/tag/v3.0.0. Use suggest_float(..., log=True) instead.\n",
      "  weight_decay = trial.suggest_loguniform(\"weight_decay\", 1e-5, 1e-1)\n",
      "[I 2024-12-12 21:02:46,376] Trial 4 finished with value: 0.0 and parameters: {'dropout1': 0.35000000000000003, 'dropout2': 0.25, 'learning_rate': 0.025646742280476007, 'weight_decay': 0.0006932246863822582}. Best is trial 3 with value: 0.310300768874618.\n"
     ]
    },
    {
     "name": "stdout",
     "output_type": "stream",
     "text": [
      "Early stopping at epoch 30\n",
      "Final MCC: 0.0000\n"
     ]
    },
    {
     "name": "stderr",
     "output_type": "stream",
     "text": [
      "/tmp/ipykernel_1382552/2462332885.py:5: FutureWarning: suggest_loguniform has been deprecated in v3.0.0. This feature will be removed in v6.0.0. See https://github.com/optuna/optuna/releases/tag/v3.0.0. Use suggest_float(..., log=True) instead.\n",
      "  learning_rate = trial.suggest_loguniform(\"learning_rate\", 1e-5, 1e-1)\n",
      "/tmp/ipykernel_1382552/2462332885.py:6: FutureWarning: suggest_loguniform has been deprecated in v3.0.0. This feature will be removed in v6.0.0. See https://github.com/optuna/optuna/releases/tag/v3.0.0. Use suggest_float(..., log=True) instead.\n",
      "  weight_decay = trial.suggest_loguniform(\"weight_decay\", 1e-5, 1e-1)\n",
      "[I 2024-12-12 21:02:48,897] Trial 5 finished with value: 0.082439811313417 and parameters: {'dropout1': 0.1, 'dropout2': 0.5, 'learning_rate': 0.009518628823539826, 'weight_decay': 0.0001990906749294706}. Best is trial 3 with value: 0.310300768874618.\n"
     ]
    },
    {
     "name": "stdout",
     "output_type": "stream",
     "text": [
      "Early stopping at epoch 17\n",
      "Final MCC: 0.0824\n"
     ]
    },
    {
     "name": "stderr",
     "output_type": "stream",
     "text": [
      "/tmp/ipykernel_1382552/2462332885.py:5: FutureWarning: suggest_loguniform has been deprecated in v3.0.0. This feature will be removed in v6.0.0. See https://github.com/optuna/optuna/releases/tag/v3.0.0. Use suggest_float(..., log=True) instead.\n",
      "  learning_rate = trial.suggest_loguniform(\"learning_rate\", 1e-5, 1e-1)\n",
      "/tmp/ipykernel_1382552/2462332885.py:6: FutureWarning: suggest_loguniform has been deprecated in v3.0.0. This feature will be removed in v6.0.0. See https://github.com/optuna/optuna/releases/tag/v3.0.0. Use suggest_float(..., log=True) instead.\n",
      "  weight_decay = trial.suggest_loguniform(\"weight_decay\", 1e-5, 1e-1)\n",
      "[I 2024-12-12 21:02:52,318] Trial 6 pruned. \n",
      "[I 2024-12-12 21:02:55,760] Trial 7 pruned. \n",
      "[I 2024-12-12 21:02:58,122] Trial 8 finished with value: 0.0737043474095502 and parameters: {'dropout1': 0.05, 'dropout2': 0.25, 'learning_rate': 0.003989994114850586, 'weight_decay': 0.00014617188310652465}. Best is trial 3 with value: 0.310300768874618.\n"
     ]
    },
    {
     "name": "stdout",
     "output_type": "stream",
     "text": [
      "Early stopping at epoch 17\n",
      "Final MCC: 0.0737\n"
     ]
    },
    {
     "name": "stderr",
     "output_type": "stream",
     "text": [
      "/tmp/ipykernel_1382552/2462332885.py:5: FutureWarning: suggest_loguniform has been deprecated in v3.0.0. This feature will be removed in v6.0.0. See https://github.com/optuna/optuna/releases/tag/v3.0.0. Use suggest_float(..., log=True) instead.\n",
      "  learning_rate = trial.suggest_loguniform(\"learning_rate\", 1e-5, 1e-1)\n",
      "/tmp/ipykernel_1382552/2462332885.py:6: FutureWarning: suggest_loguniform has been deprecated in v3.0.0. This feature will be removed in v6.0.0. See https://github.com/optuna/optuna/releases/tag/v3.0.0. Use suggest_float(..., log=True) instead.\n",
      "  weight_decay = trial.suggest_loguniform(\"weight_decay\", 1e-5, 1e-1)\n",
      "[I 2024-12-12 21:03:20,646] Trial 9 finished with value: 0.1989245664287416 and parameters: {'dropout1': 0.45, 'dropout2': 0.15000000000000002, 'learning_rate': 9.11144297222241e-05, 'weight_decay': 0.022395923229308567}. Best is trial 3 with value: 0.310300768874618.\n"
     ]
    },
    {
     "name": "stdout",
     "output_type": "stream",
     "text": [
      "Early stopping at epoch 169\n",
      "Final MCC: 0.1989\n"
     ]
    },
    {
     "name": "stderr",
     "output_type": "stream",
     "text": [
      "/tmp/ipykernel_1382552/2462332885.py:5: FutureWarning: suggest_loguniform has been deprecated in v3.0.0. This feature will be removed in v6.0.0. See https://github.com/optuna/optuna/releases/tag/v3.0.0. Use suggest_float(..., log=True) instead.\n",
      "  learning_rate = trial.suggest_loguniform(\"learning_rate\", 1e-5, 1e-1)\n",
      "/tmp/ipykernel_1382552/2462332885.py:6: FutureWarning: suggest_loguniform has been deprecated in v3.0.0. This feature will be removed in v6.0.0. See https://github.com/optuna/optuna/releases/tag/v3.0.0. Use suggest_float(..., log=True) instead.\n",
      "  weight_decay = trial.suggest_loguniform(\"weight_decay\", 1e-5, 1e-1)\n",
      "[I 2024-12-12 21:03:23,157] Trial 10 pruned. \n",
      "[I 2024-12-12 21:03:25,830] Trial 11 pruned. \n",
      "[I 2024-12-12 21:03:52,048] Trial 12 finished with value: 0.12992764989037156 and parameters: {'dropout1': 0.5, 'dropout2': 0.1, 'learning_rate': 8.398618463602441e-05, 'weight_decay': 0.005163181750541515}. Best is trial 3 with value: 0.310300768874618.\n"
     ]
    },
    {
     "name": "stdout",
     "output_type": "stream",
     "text": [
      "Early stopping at epoch 195\n",
      "Final MCC: 0.1299\n"
     ]
    },
    {
     "name": "stderr",
     "output_type": "stream",
     "text": [
      "/tmp/ipykernel_1382552/2462332885.py:5: FutureWarning: suggest_loguniform has been deprecated in v3.0.0. This feature will be removed in v6.0.0. See https://github.com/optuna/optuna/releases/tag/v3.0.0. Use suggest_float(..., log=True) instead.\n",
      "  learning_rate = trial.suggest_loguniform(\"learning_rate\", 1e-5, 1e-1)\n",
      "/tmp/ipykernel_1382552/2462332885.py:6: FutureWarning: suggest_loguniform has been deprecated in v3.0.0. This feature will be removed in v6.0.0. See https://github.com/optuna/optuna/releases/tag/v3.0.0. Use suggest_float(..., log=True) instead.\n",
      "  weight_decay = trial.suggest_loguniform(\"weight_decay\", 1e-5, 1e-1)\n",
      "[I 2024-12-12 21:04:10,900] Trial 13 finished with value: 0.033821702544744994 and parameters: {'dropout1': 0.2, 'dropout2': 0.1, 'learning_rate': 1.0670662119010044e-05, 'weight_decay': 0.06343428064154363}. Best is trial 3 with value: 0.310300768874618.\n",
      "/tmp/ipykernel_1382552/2462332885.py:5: FutureWarning: suggest_loguniform has been deprecated in v3.0.0. This feature will be removed in v6.0.0. See https://github.com/optuna/optuna/releases/tag/v3.0.0. Use suggest_float(..., log=True) instead.\n",
      "  learning_rate = trial.suggest_loguniform(\"learning_rate\", 1e-5, 1e-1)\n",
      "/tmp/ipykernel_1382552/2462332885.py:6: FutureWarning: suggest_loguniform has been deprecated in v3.0.0. This feature will be removed in v6.0.0. See https://github.com/optuna/optuna/releases/tag/v3.0.0. Use suggest_float(..., log=True) instead.\n",
      "  weight_decay = trial.suggest_loguniform(\"weight_decay\", 1e-5, 1e-1)\n",
      "[I 2024-12-12 21:04:11,063] Trial 14 pruned. \n"
     ]
    },
    {
     "name": "stdout",
     "output_type": "stream",
     "text": [
      "Early stopping at epoch 141\n",
      "Final MCC: 0.0338\n"
     ]
    },
    {
     "name": "stderr",
     "output_type": "stream",
     "text": [
      "[I 2024-12-12 21:04:14,480] Trial 15 pruned. \n",
      "[I 2024-12-12 21:04:32,578] Trial 16 finished with value: 0.18338951892834085 and parameters: {'dropout1': 0.5, 'dropout2': 0.15000000000000002, 'learning_rate': 0.0001661395141851536, 'weight_decay': 0.018013620692417277}. Best is trial 3 with value: 0.310300768874618.\n"
     ]
    },
    {
     "name": "stdout",
     "output_type": "stream",
     "text": [
      "Early stopping at epoch 133\n",
      "Final MCC: 0.1834\n"
     ]
    },
    {
     "name": "stderr",
     "output_type": "stream",
     "text": [
      "/tmp/ipykernel_1382552/2462332885.py:5: FutureWarning: suggest_loguniform has been deprecated in v3.0.0. This feature will be removed in v6.0.0. See https://github.com/optuna/optuna/releases/tag/v3.0.0. Use suggest_float(..., log=True) instead.\n",
      "  learning_rate = trial.suggest_loguniform(\"learning_rate\", 1e-5, 1e-1)\n",
      "/tmp/ipykernel_1382552/2462332885.py:6: FutureWarning: suggest_loguniform has been deprecated in v3.0.0. This feature will be removed in v6.0.0. See https://github.com/optuna/optuna/releases/tag/v3.0.0. Use suggest_float(..., log=True) instead.\n",
      "  weight_decay = trial.suggest_loguniform(\"weight_decay\", 1e-5, 1e-1)\n",
      "[I 2024-12-12 21:04:34,118] Trial 17 finished with value: 0.037676974181154996 and parameters: {'dropout1': 0.30000000000000004, 'dropout2': 0.0, 'learning_rate': 3.168741537847925e-05, 'weight_decay': 4.022982708517459e-05}. Best is trial 3 with value: 0.310300768874618.\n",
      "/tmp/ipykernel_1382552/2462332885.py:5: FutureWarning: suggest_loguniform has been deprecated in v3.0.0. This feature will be removed in v6.0.0. See https://github.com/optuna/optuna/releases/tag/v3.0.0. Use suggest_float(..., log=True) instead.\n",
      "  learning_rate = trial.suggest_loguniform(\"learning_rate\", 1e-5, 1e-1)\n",
      "/tmp/ipykernel_1382552/2462332885.py:6: FutureWarning: suggest_loguniform has been deprecated in v3.0.0. This feature will be removed in v6.0.0. See https://github.com/optuna/optuna/releases/tag/v3.0.0. Use suggest_float(..., log=True) instead.\n",
      "  weight_decay = trial.suggest_loguniform(\"weight_decay\", 1e-5, 1e-1)\n",
      "[I 2024-12-12 21:04:34,280] Trial 18 pruned. \n"
     ]
    },
    {
     "name": "stdout",
     "output_type": "stream",
     "text": [
      "Early stopping at epoch 10\n",
      "Final MCC: 0.0377\n"
     ]
    },
    {
     "name": "stderr",
     "output_type": "stream",
     "text": [
      "[I 2024-12-12 21:04:34,457] Trial 19 pruned. \n",
      "[I 2024-12-12 21:05:07,992] Trial 20 finished with value: 0.3089056477310863 and parameters: {'dropout1': 0.4, 'dropout2': 0.5, 'learning_rate': 2.0162904664755754e-05, 'weight_decay': 0.03138470841048863}. Best is trial 3 with value: 0.310300768874618.\n"
     ]
    },
    {
     "name": "stdout",
     "output_type": "stream",
     "text": [
      "Early stopping at epoch 262\n",
      "Final MCC: 0.3089\n"
     ]
    },
    {
     "name": "stderr",
     "output_type": "stream",
     "text": [
      "/tmp/ipykernel_1382552/2462332885.py:5: FutureWarning: suggest_loguniform has been deprecated in v3.0.0. This feature will be removed in v6.0.0. See https://github.com/optuna/optuna/releases/tag/v3.0.0. Use suggest_float(..., log=True) instead.\n",
      "  learning_rate = trial.suggest_loguniform(\"learning_rate\", 1e-5, 1e-1)\n",
      "/tmp/ipykernel_1382552/2462332885.py:6: FutureWarning: suggest_loguniform has been deprecated in v3.0.0. This feature will be removed in v6.0.0. See https://github.com/optuna/optuna/releases/tag/v3.0.0. Use suggest_float(..., log=True) instead.\n",
      "  weight_decay = trial.suggest_loguniform(\"weight_decay\", 1e-5, 1e-1)\n",
      "[I 2024-12-12 21:05:47,300] Trial 21 finished with value: 0.25664779636310886 and parameters: {'dropout1': 0.45, 'dropout2': 0.45, 'learning_rate': 2.4501016891137328e-05, 'weight_decay': 0.017465584980873056}. Best is trial 3 with value: 0.310300768874618.\n"
     ]
    },
    {
     "name": "stdout",
     "output_type": "stream",
     "text": [
      "Final MCC: 0.2566\n"
     ]
    },
    {
     "name": "stderr",
     "output_type": "stream",
     "text": [
      "/tmp/ipykernel_1382552/2462332885.py:5: FutureWarning: suggest_loguniform has been deprecated in v3.0.0. This feature will be removed in v6.0.0. See https://github.com/optuna/optuna/releases/tag/v3.0.0. Use suggest_float(..., log=True) instead.\n",
      "  learning_rate = trial.suggest_loguniform(\"learning_rate\", 1e-5, 1e-1)\n",
      "/tmp/ipykernel_1382552/2462332885.py:6: FutureWarning: suggest_loguniform has been deprecated in v3.0.0. This feature will be removed in v6.0.0. See https://github.com/optuna/optuna/releases/tag/v3.0.0. Use suggest_float(..., log=True) instead.\n",
      "  weight_decay = trial.suggest_loguniform(\"weight_decay\", 1e-5, 1e-1)\n",
      "[I 2024-12-12 21:06:25,168] Trial 22 finished with value: 0.33796521256442164 and parameters: {'dropout1': 0.4, 'dropout2': 0.5, 'learning_rate': 2.324069448291899e-05, 'weight_decay': 0.03728973969379139}. Best is trial 22 with value: 0.33796521256442164.\n"
     ]
    },
    {
     "name": "stdout",
     "output_type": "stream",
     "text": [
      "Final MCC: 0.3380\n"
     ]
    },
    {
     "name": "stderr",
     "output_type": "stream",
     "text": [
      "/tmp/ipykernel_1382552/2462332885.py:5: FutureWarning: suggest_loguniform has been deprecated in v3.0.0. This feature will be removed in v6.0.0. See https://github.com/optuna/optuna/releases/tag/v3.0.0. Use suggest_float(..., log=True) instead.\n",
      "  learning_rate = trial.suggest_loguniform(\"learning_rate\", 1e-5, 1e-1)\n",
      "/tmp/ipykernel_1382552/2462332885.py:6: FutureWarning: suggest_loguniform has been deprecated in v3.0.0. This feature will be removed in v6.0.0. See https://github.com/optuna/optuna/releases/tag/v3.0.0. Use suggest_float(..., log=True) instead.\n",
      "  weight_decay = trial.suggest_loguniform(\"weight_decay\", 1e-5, 1e-1)\n",
      "[I 2024-12-12 21:06:25,477] Trial 23 pruned. \n",
      "[I 2024-12-12 21:06:25,657] Trial 24 pruned. \n",
      "[I 2024-12-12 21:06:46,832] Trial 25 finished with value: 0.1466203639684671 and parameters: {'dropout1': 0.4, 'dropout2': 0.5, 'learning_rate': 1.242426463836261e-05, 'weight_decay': 0.006435525566815623}. Best is trial 22 with value: 0.33796521256442164.\n"
     ]
    },
    {
     "name": "stdout",
     "output_type": "stream",
     "text": [
      "Early stopping at epoch 161\n",
      "Final MCC: 0.1466\n"
     ]
    },
    {
     "name": "stderr",
     "output_type": "stream",
     "text": [
      "/tmp/ipykernel_1382552/2462332885.py:5: FutureWarning: suggest_loguniform has been deprecated in v3.0.0. This feature will be removed in v6.0.0. See https://github.com/optuna/optuna/releases/tag/v3.0.0. Use suggest_float(..., log=True) instead.\n",
      "  learning_rate = trial.suggest_loguniform(\"learning_rate\", 1e-5, 1e-1)\n",
      "/tmp/ipykernel_1382552/2462332885.py:6: FutureWarning: suggest_loguniform has been deprecated in v3.0.0. This feature will be removed in v6.0.0. See https://github.com/optuna/optuna/releases/tag/v3.0.0. Use suggest_float(..., log=True) instead.\n",
      "  weight_decay = trial.suggest_loguniform(\"weight_decay\", 1e-5, 1e-1)\n",
      "[I 2024-12-12 21:06:59,851] Trial 26 finished with value: 0.14928711240257503 and parameters: {'dropout1': 0.25, 'dropout2': 0.4, 'learning_rate': 0.00034487972224019693, 'weight_decay': 0.0019404580845477136}. Best is trial 22 with value: 0.33796521256442164.\n"
     ]
    },
    {
     "name": "stdout",
     "output_type": "stream",
     "text": [
      "Early stopping at epoch 95\n",
      "Final MCC: 0.1493\n"
     ]
    },
    {
     "name": "stderr",
     "output_type": "stream",
     "text": [
      "/tmp/ipykernel_1382552/2462332885.py:5: FutureWarning: suggest_loguniform has been deprecated in v3.0.0. This feature will be removed in v6.0.0. See https://github.com/optuna/optuna/releases/tag/v3.0.0. Use suggest_float(..., log=True) instead.\n",
      "  learning_rate = trial.suggest_loguniform(\"learning_rate\", 1e-5, 1e-1)\n",
      "/tmp/ipykernel_1382552/2462332885.py:6: FutureWarning: suggest_loguniform has been deprecated in v3.0.0. This feature will be removed in v6.0.0. See https://github.com/optuna/optuna/releases/tag/v3.0.0. Use suggest_float(..., log=True) instead.\n",
      "  weight_decay = trial.suggest_loguniform(\"weight_decay\", 1e-5, 1e-1)\n",
      "[I 2024-12-12 21:07:01,334] Trial 27 finished with value: 0.0 and parameters: {'dropout1': 0.2, 'dropout2': 0.4, 'learning_rate': 6.579103082212222e-05, 'weight_decay': 0.0003110297633129475}. Best is trial 22 with value: 0.33796521256442164.\n"
     ]
    },
    {
     "name": "stdout",
     "output_type": "stream",
     "text": [
      "Early stopping at epoch 10\n",
      "Final MCC: 0.0000\n"
     ]
    },
    {
     "name": "stderr",
     "output_type": "stream",
     "text": [
      "/tmp/ipykernel_1382552/2462332885.py:5: FutureWarning: suggest_loguniform has been deprecated in v3.0.0. This feature will be removed in v6.0.0. See https://github.com/optuna/optuna/releases/tag/v3.0.0. Use suggest_float(..., log=True) instead.\n",
      "  learning_rate = trial.suggest_loguniform(\"learning_rate\", 1e-5, 1e-1)\n",
      "/tmp/ipykernel_1382552/2462332885.py:6: FutureWarning: suggest_loguniform has been deprecated in v3.0.0. This feature will be removed in v6.0.0. See https://github.com/optuna/optuna/releases/tag/v3.0.0. Use suggest_float(..., log=True) instead.\n",
      "  weight_decay = trial.suggest_loguniform(\"weight_decay\", 1e-5, 1e-1)\n",
      "[I 2024-12-12 21:07:23,248] Trial 28 finished with value: 0.2359356346263649 and parameters: {'dropout1': 0.35000000000000003, 'dropout2': 0.5, 'learning_rate': 2.1342420092754176e-05, 'weight_decay': 0.039128855011118624}. Best is trial 22 with value: 0.33796521256442164.\n",
      "/tmp/ipykernel_1382552/2462332885.py:5: FutureWarning: suggest_loguniform has been deprecated in v3.0.0. This feature will be removed in v6.0.0. See https://github.com/optuna/optuna/releases/tag/v3.0.0. Use suggest_float(..., log=True) instead.\n",
      "  learning_rate = trial.suggest_loguniform(\"learning_rate\", 1e-5, 1e-1)\n",
      "/tmp/ipykernel_1382552/2462332885.py:6: FutureWarning: suggest_loguniform has been deprecated in v3.0.0. This feature will be removed in v6.0.0. See https://github.com/optuna/optuna/releases/tag/v3.0.0. Use suggest_float(..., log=True) instead.\n",
      "  weight_decay = trial.suggest_loguniform(\"weight_decay\", 1e-5, 1e-1)\n",
      "[I 2024-12-12 21:07:23,404] Trial 29 pruned. \n"
     ]
    },
    {
     "name": "stdout",
     "output_type": "stream",
     "text": [
      "Early stopping at epoch 173\n",
      "Final MCC: 0.2359\n"
     ]
    },
    {
     "name": "stderr",
     "output_type": "stream",
     "text": [
      "[I 2024-12-12 21:07:23,565] Trial 30 pruned. \n",
      "[I 2024-12-12 21:07:59,894] Trial 31 finished with value: 0.22594529792389728 and parameters: {'dropout1': 0.45, 'dropout2': 0.45, 'learning_rate': 2.4715460524701547e-05, 'weight_decay': 0.034930945156968374}. Best is trial 22 with value: 0.33796521256442164.\n"
     ]
    },
    {
     "name": "stdout",
     "output_type": "stream",
     "text": [
      "Early stopping at epoch 265\n",
      "Final MCC: 0.2259\n"
     ]
    },
    {
     "name": "stderr",
     "output_type": "stream",
     "text": [
      "/tmp/ipykernel_1382552/2462332885.py:5: FutureWarning: suggest_loguniform has been deprecated in v3.0.0. This feature will be removed in v6.0.0. See https://github.com/optuna/optuna/releases/tag/v3.0.0. Use suggest_float(..., log=True) instead.\n",
      "  learning_rate = trial.suggest_loguniform(\"learning_rate\", 1e-5, 1e-1)\n",
      "/tmp/ipykernel_1382552/2462332885.py:6: FutureWarning: suggest_loguniform has been deprecated in v3.0.0. This feature will be removed in v6.0.0. See https://github.com/optuna/optuna/releases/tag/v3.0.0. Use suggest_float(..., log=True) instead.\n",
      "  weight_decay = trial.suggest_loguniform(\"weight_decay\", 1e-5, 1e-1)\n",
      "[I 2024-12-12 21:08:26,901] Trial 32 finished with value: 0.16757096431073037 and parameters: {'dropout1': 0.4, 'dropout2': 0.45, 'learning_rate': 3.935914099228864e-05, 'weight_decay': 0.08885843306018558}. Best is trial 22 with value: 0.33796521256442164.\n",
      "/tmp/ipykernel_1382552/2462332885.py:5: FutureWarning: suggest_loguniform has been deprecated in v3.0.0. This feature will be removed in v6.0.0. See https://github.com/optuna/optuna/releases/tag/v3.0.0. Use suggest_float(..., log=True) instead.\n",
      "  learning_rate = trial.suggest_loguniform(\"learning_rate\", 1e-5, 1e-1)\n",
      "/tmp/ipykernel_1382552/2462332885.py:6: FutureWarning: suggest_loguniform has been deprecated in v3.0.0. This feature will be removed in v6.0.0. See https://github.com/optuna/optuna/releases/tag/v3.0.0. Use suggest_float(..., log=True) instead.\n",
      "  weight_decay = trial.suggest_loguniform(\"weight_decay\", 1e-5, 1e-1)\n",
      "[I 2024-12-12 21:08:27,016] Trial 33 pruned. \n"
     ]
    },
    {
     "name": "stdout",
     "output_type": "stream",
     "text": [
      "Early stopping at epoch 197\n",
      "Final MCC: 0.1676\n"
     ]
    },
    {
     "name": "stderr",
     "output_type": "stream",
     "text": [
      "[I 2024-12-12 21:08:28,634] Trial 34 finished with value: 0.0 and parameters: {'dropout1': 0.45, 'dropout2': 0.4, 'learning_rate': 1.0925737838573355e-05, 'weight_decay': 0.004040860975730926}. Best is trial 22 with value: 0.33796521256442164.\n",
      "/tmp/ipykernel_1382552/2462332885.py:5: FutureWarning: suggest_loguniform has been deprecated in v3.0.0. This feature will be removed in v6.0.0. See https://github.com/optuna/optuna/releases/tag/v3.0.0. Use suggest_float(..., log=True) instead.\n",
      "  learning_rate = trial.suggest_loguniform(\"learning_rate\", 1e-5, 1e-1)\n",
      "/tmp/ipykernel_1382552/2462332885.py:6: FutureWarning: suggest_loguniform has been deprecated in v3.0.0. This feature will be removed in v6.0.0. See https://github.com/optuna/optuna/releases/tag/v3.0.0. Use suggest_float(..., log=True) instead.\n",
      "  weight_decay = trial.suggest_loguniform(\"weight_decay\", 1e-5, 1e-1)\n",
      "[I 2024-12-12 21:08:28,799] Trial 35 pruned. \n"
     ]
    },
    {
     "name": "stdout",
     "output_type": "stream",
     "text": [
      "Early stopping at epoch 10\n",
      "Final MCC: 0.0000\n"
     ]
    },
    {
     "name": "stderr",
     "output_type": "stream",
     "text": [
      "[I 2024-12-12 21:08:28,961] Trial 36 pruned. \n",
      "[I 2024-12-12 21:09:10,629] Trial 37 finished with value: 0.23307361127050974 and parameters: {'dropout1': 0.35000000000000003, 'dropout2': 0.45, 'learning_rate': 4.566526181016741e-05, 'weight_decay': 0.009116631231038607}. Best is trial 22 with value: 0.33796521256442164.\n",
      "/tmp/ipykernel_1382552/2462332885.py:5: FutureWarning: suggest_loguniform has been deprecated in v3.0.0. This feature will be removed in v6.0.0. See https://github.com/optuna/optuna/releases/tag/v3.0.0. Use suggest_float(..., log=True) instead.\n",
      "  learning_rate = trial.suggest_loguniform(\"learning_rate\", 1e-5, 1e-1)\n",
      "/tmp/ipykernel_1382552/2462332885.py:6: FutureWarning: suggest_loguniform has been deprecated in v3.0.0. This feature will be removed in v6.0.0. See https://github.com/optuna/optuna/releases/tag/v3.0.0. Use suggest_float(..., log=True) instead.\n",
      "  weight_decay = trial.suggest_loguniform(\"weight_decay\", 1e-5, 1e-1)\n",
      "[I 2024-12-12 21:09:10,752] Trial 38 pruned. \n"
     ]
    },
    {
     "name": "stdout",
     "output_type": "stream",
     "text": [
      "Final MCC: 0.2331\n"
     ]
    },
    {
     "name": "stderr",
     "output_type": "stream",
     "text": [
      "[I 2024-12-12 21:09:10,878] Trial 39 pruned. \n",
      "[I 2024-12-12 21:09:11,051] Trial 40 pruned. \n",
      "[I 2024-12-12 21:09:12,670] Trial 41 finished with value: 0.0 and parameters: {'dropout1': 0.35000000000000003, 'dropout2': 0.5, 'learning_rate': 2.4776828475998926e-05, 'weight_decay': 0.03981925855632664}. Best is trial 22 with value: 0.33796521256442164.\n"
     ]
    },
    {
     "name": "stdout",
     "output_type": "stream",
     "text": [
      "Early stopping at epoch 10\n",
      "Final MCC: 0.0000\n"
     ]
    },
    {
     "name": "stderr",
     "output_type": "stream",
     "text": [
      "/tmp/ipykernel_1382552/2462332885.py:5: FutureWarning: suggest_loguniform has been deprecated in v3.0.0. This feature will be removed in v6.0.0. See https://github.com/optuna/optuna/releases/tag/v3.0.0. Use suggest_float(..., log=True) instead.\n",
      "  learning_rate = trial.suggest_loguniform(\"learning_rate\", 1e-5, 1e-1)\n",
      "/tmp/ipykernel_1382552/2462332885.py:6: FutureWarning: suggest_loguniform has been deprecated in v3.0.0. This feature will be removed in v6.0.0. See https://github.com/optuna/optuna/releases/tag/v3.0.0. Use suggest_float(..., log=True) instead.\n",
      "  weight_decay = trial.suggest_loguniform(\"weight_decay\", 1e-5, 1e-1)\n",
      "[I 2024-12-12 21:09:14,076] Trial 42 finished with value: 0.007049073768502414 and parameters: {'dropout1': 0.35000000000000003, 'dropout2': 0.5, 'learning_rate': 1.6678354854717783e-05, 'weight_decay': 0.029583579695538556}. Best is trial 22 with value: 0.33796521256442164.\n"
     ]
    },
    {
     "name": "stdout",
     "output_type": "stream",
     "text": [
      "Early stopping at epoch 10\n",
      "Final MCC: 0.0070\n"
     ]
    },
    {
     "name": "stderr",
     "output_type": "stream",
     "text": [
      "/tmp/ipykernel_1382552/2462332885.py:5: FutureWarning: suggest_loguniform has been deprecated in v3.0.0. This feature will be removed in v6.0.0. See https://github.com/optuna/optuna/releases/tag/v3.0.0. Use suggest_float(..., log=True) instead.\n",
      "  learning_rate = trial.suggest_loguniform(\"learning_rate\", 1e-5, 1e-1)\n",
      "/tmp/ipykernel_1382552/2462332885.py:6: FutureWarning: suggest_loguniform has been deprecated in v3.0.0. This feature will be removed in v6.0.0. See https://github.com/optuna/optuna/releases/tag/v3.0.0. Use suggest_float(..., log=True) instead.\n",
      "  weight_decay = trial.suggest_loguniform(\"weight_decay\", 1e-5, 1e-1)\n",
      "[I 2024-12-12 21:09:34,924] Trial 43 finished with value: 0.2374541732414539 and parameters: {'dropout1': 0.4, 'dropout2': 0.45, 'learning_rate': 6.868622122411551e-05, 'weight_decay': 0.09539421759521308}. Best is trial 22 with value: 0.33796521256442164.\n",
      "/tmp/ipykernel_1382552/2462332885.py:5: FutureWarning: suggest_loguniform has been deprecated in v3.0.0. This feature will be removed in v6.0.0. See https://github.com/optuna/optuna/releases/tag/v3.0.0. Use suggest_float(..., log=True) instead.\n",
      "  learning_rate = trial.suggest_loguniform(\"learning_rate\", 1e-5, 1e-1)\n",
      "/tmp/ipykernel_1382552/2462332885.py:6: FutureWarning: suggest_loguniform has been deprecated in v3.0.0. This feature will be removed in v6.0.0. See https://github.com/optuna/optuna/releases/tag/v3.0.0. Use suggest_float(..., log=True) instead.\n",
      "  weight_decay = trial.suggest_loguniform(\"weight_decay\", 1e-5, 1e-1)\n",
      "[I 2024-12-12 21:09:35,071] Trial 44 pruned. \n"
     ]
    },
    {
     "name": "stdout",
     "output_type": "stream",
     "text": [
      "Early stopping at epoch 154\n",
      "Final MCC: 0.2375\n"
     ]
    },
    {
     "name": "stderr",
     "output_type": "stream",
     "text": [
      "[I 2024-12-12 21:09:35,217] Trial 45 pruned. \n",
      "[I 2024-12-12 21:09:35,391] Trial 46 pruned. \n",
      "[I 2024-12-12 21:09:35,552] Trial 47 pruned. \n",
      "[I 2024-12-12 21:09:35,699] Trial 48 pruned. \n",
      "[I 2024-12-12 21:10:11,448] Trial 49 finished with value: 0.2942062325701188 and parameters: {'dropout1': 0.5, 'dropout2': 0.30000000000000004, 'learning_rate': 6.000721393665909e-05, 'weight_decay': 0.0011525530006237458}. Best is trial 22 with value: 0.33796521256442164.\n"
     ]
    },
    {
     "name": "stdout",
     "output_type": "stream",
     "text": [
      "Early stopping at epoch 270\n",
      "Final MCC: 0.2942\n"
     ]
    },
    {
     "name": "stderr",
     "output_type": "stream",
     "text": [
      "/tmp/ipykernel_1382552/2462332885.py:5: FutureWarning: suggest_loguniform has been deprecated in v3.0.0. This feature will be removed in v6.0.0. See https://github.com/optuna/optuna/releases/tag/v3.0.0. Use suggest_float(..., log=True) instead.\n",
      "  learning_rate = trial.suggest_loguniform(\"learning_rate\", 1e-5, 1e-1)\n",
      "/tmp/ipykernel_1382552/2462332885.py:6: FutureWarning: suggest_loguniform has been deprecated in v3.0.0. This feature will be removed in v6.0.0. See https://github.com/optuna/optuna/releases/tag/v3.0.0. Use suggest_float(..., log=True) instead.\n",
      "  weight_decay = trial.suggest_loguniform(\"weight_decay\", 1e-5, 1e-1)\n",
      "[I 2024-12-12 21:10:11,755] Trial 50 pruned. \n",
      "[I 2024-12-12 21:10:11,927] Trial 51 pruned. \n",
      "[I 2024-12-12 21:10:12,092] Trial 52 pruned. \n",
      "[I 2024-12-12 21:10:12,256] Trial 53 pruned. \n",
      "[I 2024-12-12 21:10:31,595] Trial 54 finished with value: 0.27357400523970277 and parameters: {'dropout1': 0.4, 'dropout2': 0.5, 'learning_rate': 3.1473080757996544e-05, 'weight_decay': 2.3553368212267825e-05}. Best is trial 22 with value: 0.33796521256442164.\n",
      "/tmp/ipykernel_1382552/2462332885.py:5: FutureWarning: suggest_loguniform has been deprecated in v3.0.0. This feature will be removed in v6.0.0. See https://github.com/optuna/optuna/releases/tag/v3.0.0. Use suggest_float(..., log=True) instead.\n",
      "  learning_rate = trial.suggest_loguniform(\"learning_rate\", 1e-5, 1e-1)\n",
      "/tmp/ipykernel_1382552/2462332885.py:6: FutureWarning: suggest_loguniform has been deprecated in v3.0.0. This feature will be removed in v6.0.0. See https://github.com/optuna/optuna/releases/tag/v3.0.0. Use suggest_float(..., log=True) instead.\n",
      "  weight_decay = trial.suggest_loguniform(\"weight_decay\", 1e-5, 1e-1)\n",
      "[I 2024-12-12 21:10:31,768] Trial 55 pruned. \n"
     ]
    },
    {
     "name": "stdout",
     "output_type": "stream",
     "text": [
      "Early stopping at epoch 150\n",
      "Final MCC: 0.2736\n"
     ]
    },
    {
     "name": "stderr",
     "output_type": "stream",
     "text": [
      "[I 2024-12-12 21:11:12,994] Trial 56 finished with value: 0.2341589441664689 and parameters: {'dropout1': 0.25, 'dropout2': 0.2, 'learning_rate': 1.3898590936006262e-05, 'weight_decay': 5.212168617880603e-05}. Best is trial 22 with value: 0.33796521256442164.\n",
      "/tmp/ipykernel_1382552/2462332885.py:5: FutureWarning: suggest_loguniform has been deprecated in v3.0.0. This feature will be removed in v6.0.0. See https://github.com/optuna/optuna/releases/tag/v3.0.0. Use suggest_float(..., log=True) instead.\n",
      "  learning_rate = trial.suggest_loguniform(\"learning_rate\", 1e-5, 1e-1)\n",
      "/tmp/ipykernel_1382552/2462332885.py:6: FutureWarning: suggest_loguniform has been deprecated in v3.0.0. This feature will be removed in v6.0.0. See https://github.com/optuna/optuna/releases/tag/v3.0.0. Use suggest_float(..., log=True) instead.\n",
      "  weight_decay = trial.suggest_loguniform(\"weight_decay\", 1e-5, 1e-1)\n",
      "[I 2024-12-12 21:11:13,144] Trial 57 pruned. \n"
     ]
    },
    {
     "name": "stdout",
     "output_type": "stream",
     "text": [
      "Final MCC: 0.2342\n"
     ]
    },
    {
     "name": "stderr",
     "output_type": "stream",
     "text": [
      "[I 2024-12-12 21:11:14,638] Trial 58 finished with value: 0.13213887210171935 and parameters: {'dropout1': 0.4, 'dropout2': 0.4, 'learning_rate': 1.4825529563900404e-05, 'weight_decay': 3.1477674380960035e-05}. Best is trial 22 with value: 0.33796521256442164.\n",
      "/tmp/ipykernel_1382552/2462332885.py:5: FutureWarning: suggest_loguniform has been deprecated in v3.0.0. This feature will be removed in v6.0.0. See https://github.com/optuna/optuna/releases/tag/v3.0.0. Use suggest_float(..., log=True) instead.\n",
      "  learning_rate = trial.suggest_loguniform(\"learning_rate\", 1e-5, 1e-1)\n",
      "/tmp/ipykernel_1382552/2462332885.py:6: FutureWarning: suggest_loguniform has been deprecated in v3.0.0. This feature will be removed in v6.0.0. See https://github.com/optuna/optuna/releases/tag/v3.0.0. Use suggest_float(..., log=True) instead.\n",
      "  weight_decay = trial.suggest_loguniform(\"weight_decay\", 1e-5, 1e-1)\n",
      "[I 2024-12-12 21:11:14,814] Trial 59 pruned. \n"
     ]
    },
    {
     "name": "stdout",
     "output_type": "stream",
     "text": [
      "Early stopping at epoch 10\n",
      "Final MCC: 0.1321\n"
     ]
    },
    {
     "name": "stderr",
     "output_type": "stream",
     "text": [
      "[I 2024-12-12 21:11:14,990] Trial 60 pruned. \n",
      "[I 2024-12-12 21:11:15,157] Trial 61 pruned. \n",
      "[I 2024-12-12 21:11:15,348] Trial 62 pruned. \n",
      "[I 2024-12-12 21:11:15,499] Trial 63 pruned. \n",
      "[I 2024-12-12 21:11:15,674] Trial 64 pruned. \n",
      "[I 2024-12-12 21:11:15,806] Trial 65 pruned. \n",
      "[I 2024-12-12 21:11:15,977] Trial 66 pruned. \n",
      "[I 2024-12-12 21:11:39,708] Trial 67 finished with value: 0.2057735570350114 and parameters: {'dropout1': 0.05, 'dropout2': 0.5, 'learning_rate': 8.297587521743262e-05, 'weight_decay': 0.0015039437212179929}. Best is trial 22 with value: 0.33796521256442164.\n",
      "/tmp/ipykernel_1382552/2462332885.py:5: FutureWarning: suggest_loguniform has been deprecated in v3.0.0. This feature will be removed in v6.0.0. See https://github.com/optuna/optuna/releases/tag/v3.0.0. Use suggest_float(..., log=True) instead.\n",
      "  learning_rate = trial.suggest_loguniform(\"learning_rate\", 1e-5, 1e-1)\n",
      "/tmp/ipykernel_1382552/2462332885.py:6: FutureWarning: suggest_loguniform has been deprecated in v3.0.0. This feature will be removed in v6.0.0. See https://github.com/optuna/optuna/releases/tag/v3.0.0. Use suggest_float(..., log=True) instead.\n",
      "  weight_decay = trial.suggest_loguniform(\"weight_decay\", 1e-5, 1e-1)\n",
      "[I 2024-12-12 21:11:39,879] Trial 68 pruned. \n"
     ]
    },
    {
     "name": "stdout",
     "output_type": "stream",
     "text": [
      "Early stopping at epoch 167\n",
      "Final MCC: 0.2058\n"
     ]
    },
    {
     "name": "stderr",
     "output_type": "stream",
     "text": [
      "[I 2024-12-12 21:11:46,851] Trial 69 finished with value: 0.12154964410333503 and parameters: {'dropout1': 0.5, 'dropout2': 0.45, 'learning_rate': 0.0005490058486277606, 'weight_decay': 0.03166261788097706}. Best is trial 22 with value: 0.33796521256442164.\n",
      "/tmp/ipykernel_1382552/2462332885.py:5: FutureWarning: suggest_loguniform has been deprecated in v3.0.0. This feature will be removed in v6.0.0. See https://github.com/optuna/optuna/releases/tag/v3.0.0. Use suggest_float(..., log=True) instead.\n",
      "  learning_rate = trial.suggest_loguniform(\"learning_rate\", 1e-5, 1e-1)\n",
      "/tmp/ipykernel_1382552/2462332885.py:6: FutureWarning: suggest_loguniform has been deprecated in v3.0.0. This feature will be removed in v6.0.0. See https://github.com/optuna/optuna/releases/tag/v3.0.0. Use suggest_float(..., log=True) instead.\n",
      "  weight_decay = trial.suggest_loguniform(\"weight_decay\", 1e-5, 1e-1)\n",
      "[I 2024-12-12 21:11:47,015] Trial 70 pruned. \n"
     ]
    },
    {
     "name": "stdout",
     "output_type": "stream",
     "text": [
      "Early stopping at epoch 54\n",
      "Final MCC: 0.1215\n"
     ]
    },
    {
     "name": "stderr",
     "output_type": "stream",
     "text": [
      "[I 2024-12-12 21:11:47,137] Trial 71 pruned. \n",
      "[I 2024-12-12 21:11:47,307] Trial 72 pruned. \n",
      "[I 2024-12-12 21:11:47,467] Trial 73 pruned. \n",
      "[I 2024-12-12 21:11:47,624] Trial 74 pruned. \n",
      "[I 2024-12-12 21:12:19,218] Trial 75 finished with value: 0.29685993184495857 and parameters: {'dropout1': 0.35000000000000003, 'dropout2': 0.45, 'learning_rate': 2.0509536984110982e-05, 'weight_decay': 0.050408332402203916}. Best is trial 22 with value: 0.33796521256442164.\n",
      "/tmp/ipykernel_1382552/2462332885.py:5: FutureWarning: suggest_loguniform has been deprecated in v3.0.0. This feature will be removed in v6.0.0. See https://github.com/optuna/optuna/releases/tag/v3.0.0. Use suggest_float(..., log=True) instead.\n",
      "  learning_rate = trial.suggest_loguniform(\"learning_rate\", 1e-5, 1e-1)\n",
      "/tmp/ipykernel_1382552/2462332885.py:6: FutureWarning: suggest_loguniform has been deprecated in v3.0.0. This feature will be removed in v6.0.0. See https://github.com/optuna/optuna/releases/tag/v3.0.0. Use suggest_float(..., log=True) instead.\n",
      "  weight_decay = trial.suggest_loguniform(\"weight_decay\", 1e-5, 1e-1)\n",
      "[I 2024-12-12 21:12:19,378] Trial 76 pruned. \n"
     ]
    },
    {
     "name": "stdout",
     "output_type": "stream",
     "text": [
      "Early stopping at epoch 243\n",
      "Final MCC: 0.2969\n"
     ]
    },
    {
     "name": "stderr",
     "output_type": "stream",
     "text": [
      "[I 2024-12-12 21:12:20,976] Trial 77 finished with value: 0.0 and parameters: {'dropout1': 0.30000000000000004, 'dropout2': 0.4, 'learning_rate': 2.7915190361377143e-05, 'weight_decay': 0.09686315389854722}. Best is trial 22 with value: 0.33796521256442164.\n",
      "/tmp/ipykernel_1382552/2462332885.py:5: FutureWarning: suggest_loguniform has been deprecated in v3.0.0. This feature will be removed in v6.0.0. See https://github.com/optuna/optuna/releases/tag/v3.0.0. Use suggest_float(..., log=True) instead.\n",
      "  learning_rate = trial.suggest_loguniform(\"learning_rate\", 1e-5, 1e-1)\n",
      "/tmp/ipykernel_1382552/2462332885.py:6: FutureWarning: suggest_loguniform has been deprecated in v3.0.0. This feature will be removed in v6.0.0. See https://github.com/optuna/optuna/releases/tag/v3.0.0. Use suggest_float(..., log=True) instead.\n",
      "  weight_decay = trial.suggest_loguniform(\"weight_decay\", 1e-5, 1e-1)\n",
      "[I 2024-12-12 21:12:21,161] Trial 78 pruned. \n"
     ]
    },
    {
     "name": "stdout",
     "output_type": "stream",
     "text": [
      "Early stopping at epoch 10\n",
      "Final MCC: 0.0000\n"
     ]
    },
    {
     "name": "stderr",
     "output_type": "stream",
     "text": [
      "[I 2024-12-12 21:12:21,320] Trial 79 pruned. \n",
      "[I 2024-12-12 21:12:23,029] Trial 80 finished with value: 0.0 and parameters: {'dropout1': 0.35000000000000003, 'dropout2': 0.15000000000000002, 'learning_rate': 5.5348006159327916e-05, 'weight_decay': 0.0528051432240667}. Best is trial 22 with value: 0.33796521256442164.\n",
      "/tmp/ipykernel_1382552/2462332885.py:5: FutureWarning: suggest_loguniform has been deprecated in v3.0.0. This feature will be removed in v6.0.0. See https://github.com/optuna/optuna/releases/tag/v3.0.0. Use suggest_float(..., log=True) instead.\n",
      "  learning_rate = trial.suggest_loguniform(\"learning_rate\", 1e-5, 1e-1)\n",
      "/tmp/ipykernel_1382552/2462332885.py:6: FutureWarning: suggest_loguniform has been deprecated in v3.0.0. This feature will be removed in v6.0.0. See https://github.com/optuna/optuna/releases/tag/v3.0.0. Use suggest_float(..., log=True) instead.\n",
      "  weight_decay = trial.suggest_loguniform(\"weight_decay\", 1e-5, 1e-1)\n",
      "[I 2024-12-12 21:12:23,164] Trial 81 pruned. \n"
     ]
    },
    {
     "name": "stdout",
     "output_type": "stream",
     "text": [
      "Early stopping at epoch 10\n",
      "Final MCC: 0.0000\n"
     ]
    },
    {
     "name": "stderr",
     "output_type": "stream",
     "text": [
      "[I 2024-12-12 21:12:47,449] Trial 82 finished with value: 0.33062280550248807 and parameters: {'dropout1': 0.35000000000000003, 'dropout2': 0.5, 'learning_rate': 4.160665638143223e-05, 'weight_decay': 0.028944082987516478}. Best is trial 22 with value: 0.33796521256442164.\n",
      "/tmp/ipykernel_1382552/2462332885.py:5: FutureWarning: suggest_loguniform has been deprecated in v3.0.0. This feature will be removed in v6.0.0. See https://github.com/optuna/optuna/releases/tag/v3.0.0. Use suggest_float(..., log=True) instead.\n",
      "  learning_rate = trial.suggest_loguniform(\"learning_rate\", 1e-5, 1e-1)\n",
      "/tmp/ipykernel_1382552/2462332885.py:6: FutureWarning: suggest_loguniform has been deprecated in v3.0.0. This feature will be removed in v6.0.0. See https://github.com/optuna/optuna/releases/tag/v3.0.0. Use suggest_float(..., log=True) instead.\n",
      "  weight_decay = trial.suggest_loguniform(\"weight_decay\", 1e-5, 1e-1)\n",
      "[I 2024-12-12 21:12:47,591] Trial 83 pruned. \n"
     ]
    },
    {
     "name": "stdout",
     "output_type": "stream",
     "text": [
      "Early stopping at epoch 179\n",
      "Final MCC: 0.3306\n"
     ]
    },
    {
     "name": "stderr",
     "output_type": "stream",
     "text": [
      "[I 2024-12-12 21:12:47,759] Trial 84 pruned. \n",
      "[I 2024-12-12 21:12:47,903] Trial 85 pruned. \n",
      "[I 2024-12-12 21:12:49,381] Trial 86 finished with value: 0.0 and parameters: {'dropout1': 0.4, 'dropout2': 0.5, 'learning_rate': 3.16143210663151e-05, 'weight_decay': 0.0061556418499412405}. Best is trial 22 with value: 0.33796521256442164.\n",
      "/tmp/ipykernel_1382552/2462332885.py:5: FutureWarning: suggest_loguniform has been deprecated in v3.0.0. This feature will be removed in v6.0.0. See https://github.com/optuna/optuna/releases/tag/v3.0.0. Use suggest_float(..., log=True) instead.\n",
      "  learning_rate = trial.suggest_loguniform(\"learning_rate\", 1e-5, 1e-1)\n",
      "/tmp/ipykernel_1382552/2462332885.py:6: FutureWarning: suggest_loguniform has been deprecated in v3.0.0. This feature will be removed in v6.0.0. See https://github.com/optuna/optuna/releases/tag/v3.0.0. Use suggest_float(..., log=True) instead.\n",
      "  weight_decay = trial.suggest_loguniform(\"weight_decay\", 1e-5, 1e-1)\n",
      "[I 2024-12-12 21:12:49,535] Trial 87 pruned. \n"
     ]
    },
    {
     "name": "stdout",
     "output_type": "stream",
     "text": [
      "Early stopping at epoch 10\n",
      "Final MCC: 0.0000\n"
     ]
    },
    {
     "name": "stderr",
     "output_type": "stream",
     "text": [
      "[I 2024-12-12 21:12:49,730] Trial 88 pruned. \n",
      "[I 2024-12-12 21:12:49,909] Trial 89 pruned. \n",
      "[I 2024-12-12 21:12:50,075] Trial 90 pruned. \n",
      "[I 2024-12-12 21:12:50,232] Trial 91 pruned. \n",
      "[I 2024-12-12 21:12:50,398] Trial 92 pruned. \n",
      "[I 2024-12-12 21:12:50,559] Trial 93 pruned. \n",
      "[I 2024-12-12 21:12:50,706] Trial 94 pruned. \n",
      "[I 2024-12-12 21:12:50,834] Trial 95 pruned. \n",
      "[I 2024-12-12 21:12:50,969] Trial 96 pruned. \n",
      "[I 2024-12-12 21:12:51,091] Trial 97 pruned. \n",
      "[I 2024-12-12 21:12:52,603] Trial 98 finished with value: 0.04 and parameters: {'dropout1': 0.35000000000000003, 'dropout2': 0.5, 'learning_rate': 1.0037086410427639e-05, 'weight_decay': 0.027345233091030218}. Best is trial 22 with value: 0.33796521256442164.\n"
     ]
    },
    {
     "name": "stdout",
     "output_type": "stream",
     "text": [
      "Early stopping at epoch 10\n",
      "Final MCC: 0.0400\n"
     ]
    },
    {
     "name": "stderr",
     "output_type": "stream",
     "text": [
      "/tmp/ipykernel_1382552/2462332885.py:5: FutureWarning: suggest_loguniform has been deprecated in v3.0.0. This feature will be removed in v6.0.0. See https://github.com/optuna/optuna/releases/tag/v3.0.0. Use suggest_float(..., log=True) instead.\n",
      "  learning_rate = trial.suggest_loguniform(\"learning_rate\", 1e-5, 1e-1)\n",
      "/tmp/ipykernel_1382552/2462332885.py:6: FutureWarning: suggest_loguniform has been deprecated in v3.0.0. This feature will be removed in v6.0.0. See https://github.com/optuna/optuna/releases/tag/v3.0.0. Use suggest_float(..., log=True) instead.\n",
      "  weight_decay = trial.suggest_loguniform(\"weight_decay\", 1e-5, 1e-1)\n",
      "[I 2024-12-12 21:13:15,165] Trial 99 finished with value: 0.3095442035396405 and parameters: {'dropout1': 0.45, 'dropout2': 0.5, 'learning_rate': 3.41206202547457e-05, 'weight_decay': 0.00012214109868813783}. Best is trial 22 with value: 0.33796521256442164.\n"
     ]
    },
    {
     "name": "stdout",
     "output_type": "stream",
     "text": [
      "Early stopping at epoch 166\n",
      "Final MCC: 0.3095\n",
      "Best Parameters:  {'dropout1': 0.4, 'dropout2': 0.5, 'learning_rate': 2.324069448291899e-05, 'weight_decay': 0.03728973969379139}\n",
      "Best Validation F1:  0.33796521256442164\n"
     ]
    }
   ],
   "source": [
    "device_id = 0  # 使用するGPUのID（0または1）\n",
    "torch.cuda.set_device(device_id)\n",
    "device = torch.device(f\"cuda:{device_id}\" if torch.cuda.is_available() else \"cpu\")\n",
    "\n",
    "# Optunaの設定\n",
    "study = optuna.create_study(direction=\"maximize\")  \n",
    "study.optimize(objective, n_trials=100)\n",
    "\n",
    "# 結果表示\n",
    "print(\"Best Parameters: \", study.best_params)\n",
    "print(\"Best Validation F1: \", study.best_value)"
   ]
  },
  {
   "cell_type": "code",
   "execution_count": 74,
   "metadata": {},
   "outputs": [
    {
     "name": "stdout",
     "output_type": "stream",
     "text": [
      "Best parameters saved to 'best_params.json'\n"
     ]
    }
   ],
   "source": [
    "best_params = study.best_params\n",
    "\n",
    "# JSON形式で保存\n",
    "with open(\"optim_param/optim_DNN_5_params.json\", \"w\") as f:\n",
    "    json.dump(best_params, f)\n",
    "\n",
    "print(\"Best parameters saved to 'best_params.json'\")"
   ]
  },
  {
   "cell_type": "code",
   "execution_count": 123,
   "metadata": {},
   "outputs": [
    {
     "name": "stdout",
     "output_type": "stream",
     "text": [
      "Epoch [1/125], Loss: 0.7209\n",
      "Epoch [1/125], Train Loss: 0.7209, Val Loss: 0.7096\n",
      "Epoch [2/125], Loss: 0.7204\n",
      "Epoch [2/125], Train Loss: 0.7204, Val Loss: 0.7051\n",
      "Epoch [3/125], Loss: 0.7145\n",
      "Epoch [3/125], Train Loss: 0.7145, Val Loss: 0.7037\n",
      "Epoch [4/125], Loss: 0.7157\n",
      "Epoch [4/125], Train Loss: 0.7157, Val Loss: 0.7027\n",
      "Epoch [5/125], Loss: 0.7206\n",
      "Epoch [5/125], Train Loss: 0.7206, Val Loss: 0.7016\n",
      "Epoch [6/125], Loss: 0.7168\n",
      "Epoch [6/125], Train Loss: 0.7168, Val Loss: 0.7026\n",
      "Epoch [7/125], Loss: 0.7077\n",
      "Epoch [7/125], Train Loss: 0.7077, Val Loss: 0.7005\n",
      "Epoch [8/125], Loss: 0.7134\n",
      "Epoch [8/125], Train Loss: 0.7134, Val Loss: 0.7012\n",
      "Epoch [9/125], Loss: 0.7164\n",
      "Epoch [9/125], Train Loss: 0.7164, Val Loss: 0.6997\n",
      "Epoch [10/125], Loss: 0.7137\n",
      "Epoch [10/125], Train Loss: 0.7137, Val Loss: 0.6996\n",
      "Epoch [11/125], Loss: 0.7074\n",
      "Epoch [11/125], Train Loss: 0.7074, Val Loss: 0.6981\n",
      "Epoch [12/125], Loss: 0.7100\n",
      "Epoch [12/125], Train Loss: 0.7100, Val Loss: 0.6968\n",
      "Epoch [13/125], Loss: 0.7130\n",
      "Epoch [13/125], Train Loss: 0.7130, Val Loss: 0.6971\n",
      "Epoch [14/125], Loss: 0.7139\n",
      "Epoch [14/125], Train Loss: 0.7139, Val Loss: 0.6981\n",
      "Epoch [15/125], Loss: 0.7139\n",
      "Epoch [15/125], Train Loss: 0.7139, Val Loss: 0.6948\n",
      "Epoch [16/125], Loss: 0.7090\n",
      "Epoch [16/125], Train Loss: 0.7090, Val Loss: 0.6931\n",
      "Epoch [17/125], Loss: 0.7068\n",
      "Epoch [17/125], Train Loss: 0.7068, Val Loss: 0.6952\n",
      "Epoch [18/125], Loss: 0.7029\n",
      "Epoch [18/125], Train Loss: 0.7029, Val Loss: 0.6941\n",
      "Epoch [19/125], Loss: 0.7042\n",
      "Epoch [19/125], Train Loss: 0.7042, Val Loss: 0.6923\n",
      "Epoch [20/125], Loss: 0.7076\n",
      "Epoch [20/125], Train Loss: 0.7076, Val Loss: 0.6922\n",
      "Epoch [21/125], Loss: 0.7053\n",
      "Epoch [21/125], Train Loss: 0.7053, Val Loss: 0.6917\n",
      "Epoch [22/125], Loss: 0.7100\n",
      "Epoch [22/125], Train Loss: 0.7100, Val Loss: 0.6921\n",
      "Epoch [23/125], Loss: 0.7002\n",
      "Epoch [23/125], Train Loss: 0.7002, Val Loss: 0.6910\n",
      "Epoch [24/125], Loss: 0.6983\n",
      "Epoch [24/125], Train Loss: 0.6983, Val Loss: 0.6903\n",
      "Epoch [25/125], Loss: 0.7018\n",
      "Epoch [25/125], Train Loss: 0.7018, Val Loss: 0.6902\n",
      "Epoch [26/125], Loss: 0.7057\n",
      "Epoch [26/125], Train Loss: 0.7057, Val Loss: 0.6890\n",
      "Epoch [27/125], Loss: 0.7026\n",
      "Epoch [27/125], Train Loss: 0.7026, Val Loss: 0.6876\n",
      "Epoch [28/125], Loss: 0.7000\n",
      "Epoch [28/125], Train Loss: 0.7000, Val Loss: 0.6876\n",
      "Epoch [29/125], Loss: 0.6992\n",
      "Epoch [29/125], Train Loss: 0.6992, Val Loss: 0.6886\n",
      "Epoch [30/125], Loss: 0.6942\n",
      "Epoch [30/125], Train Loss: 0.6942, Val Loss: 0.6872\n",
      "Epoch [31/125], Loss: 0.7006\n",
      "Epoch [31/125], Train Loss: 0.7006, Val Loss: 0.6861\n",
      "Epoch [32/125], Loss: 0.6982\n",
      "Epoch [32/125], Train Loss: 0.6982, Val Loss: 0.6844\n",
      "Epoch [33/125], Loss: 0.6985\n",
      "Epoch [33/125], Train Loss: 0.6985, Val Loss: 0.6843\n",
      "Epoch [34/125], Loss: 0.7023\n",
      "Epoch [34/125], Train Loss: 0.7023, Val Loss: 0.6853\n",
      "Epoch [35/125], Loss: 0.6958\n",
      "Epoch [35/125], Train Loss: 0.6958, Val Loss: 0.6838\n",
      "Epoch [36/125], Loss: 0.6981\n",
      "Epoch [36/125], Train Loss: 0.6981, Val Loss: 0.6837\n",
      "Epoch [37/125], Loss: 0.6914\n",
      "Epoch [37/125], Train Loss: 0.6914, Val Loss: 0.6829\n",
      "Epoch [38/125], Loss: 0.6941\n",
      "Epoch [38/125], Train Loss: 0.6941, Val Loss: 0.6826\n",
      "Epoch [39/125], Loss: 0.6933\n",
      "Epoch [39/125], Train Loss: 0.6933, Val Loss: 0.6805\n",
      "Epoch [40/125], Loss: 0.6897\n",
      "Epoch [40/125], Train Loss: 0.6897, Val Loss: 0.6824\n",
      "Epoch [41/125], Loss: 0.6978\n",
      "Epoch [41/125], Train Loss: 0.6978, Val Loss: 0.6806\n",
      "Epoch [42/125], Loss: 0.6895\n",
      "Epoch [42/125], Train Loss: 0.6895, Val Loss: 0.6799\n",
      "Epoch [43/125], Loss: 0.6899\n",
      "Epoch [43/125], Train Loss: 0.6899, Val Loss: 0.6794\n",
      "Epoch [44/125], Loss: 0.6900\n",
      "Epoch [44/125], Train Loss: 0.6900, Val Loss: 0.6779\n",
      "Epoch [45/125], Loss: 0.6908\n",
      "Epoch [45/125], Train Loss: 0.6908, Val Loss: 0.6778\n",
      "Epoch [46/125], Loss: 0.6879\n",
      "Epoch [46/125], Train Loss: 0.6879, Val Loss: 0.6779\n",
      "Epoch [47/125], Loss: 0.6907\n",
      "Epoch [47/125], Train Loss: 0.6907, Val Loss: 0.6774\n",
      "Epoch [48/125], Loss: 0.6907\n",
      "Epoch [48/125], Train Loss: 0.6907, Val Loss: 0.6772\n",
      "Epoch [49/125], Loss: 0.6897\n",
      "Epoch [49/125], Train Loss: 0.6897, Val Loss: 0.6761\n",
      "Epoch [50/125], Loss: 0.6790\n",
      "Epoch [50/125], Train Loss: 0.6790, Val Loss: 0.6751\n",
      "Epoch [51/125], Loss: 0.6825\n",
      "Epoch [51/125], Train Loss: 0.6825, Val Loss: 0.6744\n",
      "Epoch [52/125], Loss: 0.6823\n",
      "Epoch [52/125], Train Loss: 0.6823, Val Loss: 0.6754\n",
      "Epoch [53/125], Loss: 0.6876\n",
      "Epoch [53/125], Train Loss: 0.6876, Val Loss: 0.6725\n",
      "Epoch [54/125], Loss: 0.6838\n",
      "Epoch [54/125], Train Loss: 0.6838, Val Loss: 0.6719\n",
      "Epoch [55/125], Loss: 0.6852\n",
      "Epoch [55/125], Train Loss: 0.6852, Val Loss: 0.6707\n",
      "Epoch [56/125], Loss: 0.6857\n",
      "Epoch [56/125], Train Loss: 0.6857, Val Loss: 0.6728\n",
      "Epoch [57/125], Loss: 0.6851\n",
      "Epoch [57/125], Train Loss: 0.6851, Val Loss: 0.6701\n",
      "Epoch [58/125], Loss: 0.6856\n",
      "Epoch [58/125], Train Loss: 0.6856, Val Loss: 0.6715\n",
      "Epoch [59/125], Loss: 0.6883\n",
      "Epoch [59/125], Train Loss: 0.6883, Val Loss: 0.6696\n",
      "Epoch [60/125], Loss: 0.6785\n",
      "Epoch [60/125], Train Loss: 0.6785, Val Loss: 0.6696\n",
      "Epoch [61/125], Loss: 0.6779\n",
      "Epoch [61/125], Train Loss: 0.6779, Val Loss: 0.6691\n",
      "Epoch [62/125], Loss: 0.6833\n",
      "Epoch [62/125], Train Loss: 0.6833, Val Loss: 0.6691\n",
      "Epoch [63/125], Loss: 0.6744\n",
      "Epoch [63/125], Train Loss: 0.6744, Val Loss: 0.6657\n",
      "Epoch [64/125], Loss: 0.6801\n",
      "Epoch [64/125], Train Loss: 0.6801, Val Loss: 0.6678\n",
      "Epoch [65/125], Loss: 0.6774\n",
      "Epoch [65/125], Train Loss: 0.6774, Val Loss: 0.6686\n",
      "Epoch [66/125], Loss: 0.6849\n",
      "Epoch [66/125], Train Loss: 0.6849, Val Loss: 0.6670\n",
      "Epoch [67/125], Loss: 0.6803\n",
      "Epoch [67/125], Train Loss: 0.6803, Val Loss: 0.6679\n",
      "Epoch [68/125], Loss: 0.6763\n",
      "Epoch [68/125], Train Loss: 0.6763, Val Loss: 0.6662\n",
      "Epoch [69/125], Loss: 0.6786\n",
      "Epoch [69/125], Train Loss: 0.6786, Val Loss: 0.6674\n",
      "Epoch [70/125], Loss: 0.6793\n",
      "Epoch [70/125], Train Loss: 0.6793, Val Loss: 0.6661\n",
      "Epoch [71/125], Loss: 0.6776\n",
      "Epoch [71/125], Train Loss: 0.6776, Val Loss: 0.6648\n",
      "Epoch [72/125], Loss: 0.6767\n",
      "Epoch [72/125], Train Loss: 0.6767, Val Loss: 0.6655\n",
      "Epoch [73/125], Loss: 0.6760\n",
      "Epoch [73/125], Train Loss: 0.6760, Val Loss: 0.6630\n",
      "Epoch [74/125], Loss: 0.6782\n",
      "Epoch [74/125], Train Loss: 0.6782, Val Loss: 0.6638\n",
      "Epoch [75/125], Loss: 0.6786\n",
      "Epoch [75/125], Train Loss: 0.6786, Val Loss: 0.6621\n",
      "Epoch [76/125], Loss: 0.6717\n",
      "Epoch [76/125], Train Loss: 0.6717, Val Loss: 0.6618\n",
      "Epoch [77/125], Loss: 0.6751\n",
      "Epoch [77/125], Train Loss: 0.6751, Val Loss: 0.6606\n",
      "Epoch [78/125], Loss: 0.6704\n",
      "Epoch [78/125], Train Loss: 0.6704, Val Loss: 0.6610\n",
      "Epoch [79/125], Loss: 0.6713\n",
      "Epoch [79/125], Train Loss: 0.6713, Val Loss: 0.6619\n",
      "Epoch [80/125], Loss: 0.6732\n",
      "Epoch [80/125], Train Loss: 0.6732, Val Loss: 0.6622\n",
      "Epoch [81/125], Loss: 0.6709\n",
      "Epoch [81/125], Train Loss: 0.6709, Val Loss: 0.6601\n",
      "Epoch [82/125], Loss: 0.6749\n",
      "Epoch [82/125], Train Loss: 0.6749, Val Loss: 0.6604\n",
      "Epoch [83/125], Loss: 0.6729\n",
      "Epoch [83/125], Train Loss: 0.6729, Val Loss: 0.6602\n",
      "Epoch [84/125], Loss: 0.6684\n",
      "Epoch [84/125], Train Loss: 0.6684, Val Loss: 0.6596\n",
      "Epoch [85/125], Loss: 0.6684\n",
      "Epoch [85/125], Train Loss: 0.6684, Val Loss: 0.6585\n",
      "Epoch [86/125], Loss: 0.6761\n",
      "Epoch [86/125], Train Loss: 0.6761, Val Loss: 0.6583\n",
      "Epoch [87/125], Loss: 0.6616\n",
      "Epoch [87/125], Train Loss: 0.6616, Val Loss: 0.6596\n",
      "Epoch [88/125], Loss: 0.6687\n",
      "Epoch [88/125], Train Loss: 0.6687, Val Loss: 0.6587\n",
      "Epoch [89/125], Loss: 0.6677\n",
      "Epoch [89/125], Train Loss: 0.6677, Val Loss: 0.6582\n",
      "Epoch [90/125], Loss: 0.6621\n",
      "Epoch [90/125], Train Loss: 0.6621, Val Loss: 0.6573\n",
      "Epoch [91/125], Loss: 0.6675\n",
      "Epoch [91/125], Train Loss: 0.6675, Val Loss: 0.6551\n",
      "Epoch [92/125], Loss: 0.6683\n",
      "Epoch [92/125], Train Loss: 0.6683, Val Loss: 0.6578\n",
      "Epoch [93/125], Loss: 0.6693\n",
      "Epoch [93/125], Train Loss: 0.6693, Val Loss: 0.6534\n",
      "Epoch [94/125], Loss: 0.6669\n",
      "Epoch [94/125], Train Loss: 0.6669, Val Loss: 0.6554\n",
      "Epoch [95/125], Loss: 0.6682\n",
      "Epoch [95/125], Train Loss: 0.6682, Val Loss: 0.6547\n",
      "Epoch [96/125], Loss: 0.6665\n",
      "Epoch [96/125], Train Loss: 0.6665, Val Loss: 0.6546\n",
      "Epoch [97/125], Loss: 0.6646\n",
      "Epoch [97/125], Train Loss: 0.6646, Val Loss: 0.6551\n",
      "Epoch [98/125], Loss: 0.6691\n",
      "Epoch [98/125], Train Loss: 0.6691, Val Loss: 0.6550\n",
      "Epoch [99/125], Loss: 0.6677\n",
      "Epoch [99/125], Train Loss: 0.6677, Val Loss: 0.6534\n",
      "Epoch [100/125], Loss: 0.6663\n",
      "Epoch [100/125], Train Loss: 0.6663, Val Loss: 0.6539\n",
      "Epoch [101/125], Loss: 0.6571\n",
      "Epoch [101/125], Train Loss: 0.6571, Val Loss: 0.6531\n",
      "Epoch [102/125], Loss: 0.6664\n",
      "Epoch [102/125], Train Loss: 0.6664, Val Loss: 0.6515\n",
      "Epoch [103/125], Loss: 0.6610\n",
      "Epoch [103/125], Train Loss: 0.6610, Val Loss: 0.6506\n",
      "Epoch [104/125], Loss: 0.6623\n",
      "Epoch [104/125], Train Loss: 0.6623, Val Loss: 0.6508\n",
      "Epoch [105/125], Loss: 0.6608\n",
      "Epoch [105/125], Train Loss: 0.6608, Val Loss: 0.6510\n",
      "Epoch [106/125], Loss: 0.6628\n",
      "Epoch [106/125], Train Loss: 0.6628, Val Loss: 0.6503\n",
      "Epoch [107/125], Loss: 0.6639\n",
      "Epoch [107/125], Train Loss: 0.6639, Val Loss: 0.6501\n",
      "Epoch [108/125], Loss: 0.6625\n",
      "Epoch [108/125], Train Loss: 0.6625, Val Loss: 0.6507\n",
      "Epoch [109/125], Loss: 0.6605\n",
      "Epoch [109/125], Train Loss: 0.6605, Val Loss: 0.6507\n",
      "Epoch [110/125], Loss: 0.6607\n",
      "Epoch [110/125], Train Loss: 0.6607, Val Loss: 0.6501\n",
      "Epoch [111/125], Loss: 0.6635\n",
      "Epoch [111/125], Train Loss: 0.6635, Val Loss: 0.6486\n",
      "Epoch [112/125], Loss: 0.6615\n",
      "Epoch [112/125], Train Loss: 0.6615, Val Loss: 0.6489\n",
      "Epoch [113/125], Loss: 0.6548\n",
      "Epoch [113/125], Train Loss: 0.6548, Val Loss: 0.6486\n",
      "Epoch [114/125], Loss: 0.6632\n",
      "Epoch [114/125], Train Loss: 0.6632, Val Loss: 0.6496\n",
      "Epoch [115/125], Loss: 0.6628\n",
      "Epoch [115/125], Train Loss: 0.6628, Val Loss: 0.6472\n",
      "Epoch [116/125], Loss: 0.6555\n",
      "Epoch [116/125], Train Loss: 0.6555, Val Loss: 0.6472\n",
      "Epoch [117/125], Loss: 0.6588\n",
      "Epoch [117/125], Train Loss: 0.6588, Val Loss: 0.6480\n",
      "Epoch [118/125], Loss: 0.6540\n",
      "Epoch [118/125], Train Loss: 0.6540, Val Loss: 0.6481\n",
      "Epoch [119/125], Loss: 0.6542\n",
      "Epoch [119/125], Train Loss: 0.6542, Val Loss: 0.6486\n",
      "Epoch [120/125], Loss: 0.6548\n",
      "Epoch [120/125], Train Loss: 0.6548, Val Loss: 0.6487\n",
      "Epoch [121/125], Loss: 0.6547\n",
      "Epoch [121/125], Train Loss: 0.6547, Val Loss: 0.6468\n",
      "Epoch [122/125], Loss: 0.6610\n",
      "Epoch [122/125], Train Loss: 0.6610, Val Loss: 0.6459\n",
      "Epoch [123/125], Loss: 0.6563\n",
      "Epoch [123/125], Train Loss: 0.6563, Val Loss: 0.6442\n",
      "Epoch [124/125], Loss: 0.6590\n",
      "Epoch [124/125], Train Loss: 0.6590, Val Loss: 0.6463\n",
      "Epoch [125/125], Loss: 0.6555\n",
      "Epoch [125/125], Train Loss: 0.6555, Val Loss: 0.6463\n"
     ]
    },
    {
     "data": {
      "image/png": "[encoded data removed]",
      "text/plain": [
       "<Figure size 1000x600 with 1 Axes>"
      ]
     },
     "metadata": {},
     "output_type": "display_data"
    }
   ],
   "source": [
    "best_params=study.best_params\n",
    "model = DNN_5(input_dim=X_train_tensor.shape[1],\n",
    "              dropout1=best_params[\"dropout1\"],\n",
    "              dropout2=best_params[\"dropout2\"],\n",
    "              ).to(device)\n",
    "# 最適化と訓練を実行\n",
    "optimizer = optim.Adam(model.parameters(), lr=best_params[\"learning_rate\"],weight_decay=best_params[\"weight_decay\"])\n",
    "criterion = nn.BCELoss()\n",
    "\n",
    "num_epochs=125\n",
    "train_losses = []\n",
    "val_losses = []\n",
    "\n",
    "model.train()\n",
    "for epoch in range(num_epochs):\n",
    "    epoch_train_loss = 0\n",
    "    epoch_val_loss = 0\n",
    "\n",
    "    for X_batch, y_batch in train_loader:\n",
    "        X_batch, y_batch = X_batch.to(device), y_batch.to(device)\n",
    "        optimizer.zero_grad()\n",
    "        outputs = model(X_batch).squeeze()\n",
    "        loss = criterion(outputs, y_batch.squeeze())\n",
    "        loss.backward()\n",
    "        optimizer.step()\n",
    "        epoch_train_loss += loss.item()\n",
    "    avg_train_loss = epoch_train_loss / len(train_loader)\n",
    "    train_losses.append(avg_train_loss)\n",
    "    print(f'Epoch [{epoch+1}/{num_epochs}], Loss: {avg_train_loss:.4f}')\n",
    "\n",
    "    if val_loader is not None:\n",
    "        model.eval()  \n",
    "        with torch.no_grad():\n",
    "            for X_val, y_val in val_loader:\n",
    "                X_val, y_val = X_val.to(device), y_val.to(device)\n",
    "                val_outputs = model(X_val).squeeze()\n",
    "                val_loss = criterion(val_outputs, y_val.squeeze())\n",
    "                epoch_val_loss += val_loss.item()\n",
    "\n",
    "        avg_val_loss = epoch_val_loss / len(val_loader)\n",
    "        val_losses.append(avg_val_loss)\n",
    "        model.train()  \n",
    "\n",
    "    if val_loader is not None:\n",
    "        print(f\"Epoch [{epoch+1}/{num_epochs}], Train Loss: {avg_train_loss:.4f}, Val Loss: {avg_val_loss:.4f}\")\n",
    "    else:\n",
    "        print(f\"Epoch [{epoch+1}/{num_epochs}], Train Loss: {avg_train_loss:.4f}\")\n",
    "\n",
    "plt.figure(figsize=(10, 6))\n",
    "plt.plot(range(1, num_epochs + 1), train_losses, label='Train Loss')\n",
    "if val_losses:\n",
    "    plt.plot(range(1, num_epochs + 1), val_losses, label='Validation Loss')\n",
    "plt.xlabel('Epoch')\n",
    "plt.ylabel('Loss')\n",
    "plt.title('Learning Curve for DNN5')\n",
    "plt.legend()\n",
    "plt.grid()\n",
    "plt.show()"
   ]
  },
  {
   "cell_type": "code",
   "execution_count": 124,
   "metadata": {},
   "outputs": [
    {
     "name": "stdout",
     "output_type": "stream",
     "text": [
      "Accuracy: 55.92%\n",
      "Precision: 0.4639\n",
      "Recall: 0.9086\n",
      "F1 Score: 0.6142\n",
      "Matthews Correlation Coefficient: 0.2813\n",
      "Specificity: 0.3395\n"
     ]
    },
    {
     "data": {
      "image/png": "[encoded data removed]",
      "text/plain": [
       "<Figure size 640x480 with 1 Axes>"
      ]
     },
     "metadata": {},
     "output_type": "display_data"
    },
    {
     "data": {
      "image/png": "[encoded data removed]",
      "text/plain": [
       "<Figure size 640x480 with 1 Axes>"
      ]
     },
     "metadata": {},
     "output_type": "display_data"
    },
    {
     "data": {
      "image/png": "[encoded data removed]",
      "text/plain": [
       "<Figure size 640x480 with 1 Axes>"
      ]
     },
     "metadata": {},
     "output_type": "display_data"
    }
   ],
   "source": [
    "model.eval()\n",
    "with torch.no_grad():\n",
    "    X_test_tensor = X_test_tensor.to(device)\n",
    "    y_test_tensor = y_test_tensor.to(device)\n",
    "\n",
    "    # 予測と確率\n",
    "    test_outputs = model(X_test_tensor).squeeze()\n",
    "    predictions = (test_outputs >0.49).float()\n",
    "    y_true = y_test_tensor.cpu().numpy()\n",
    "    y_pred = predictions.cpu().numpy()\n",
    "    y_prob = test_outputs.cpu().numpy()\n",
    "\n",
    "# 評価指標\n",
    "    accuracy = accuracy_score(y_true, y_pred)\n",
    "    precision = precision_score(y_true, y_pred)\n",
    "    recall = recall_score(y_true, y_pred)\n",
    "    f1 = f1_score(y_true, y_pred)\n",
    "    mcc = matthews_corrcoef(y_true, y_pred)\n",
    "    specificity = recall_score(y_true, y_pred, pos_label=0)  \n",
    "    print(f'Accuracy: {accuracy * 100:.2f}%')\n",
    "    print(f'Precision: {precision:.4f}')\n",
    "    print(f'Recall: {recall:.4f}')\n",
    "    print(f'F1 Score: {f1:.4f}')\n",
    "    print(f'Matthews Correlation Coefficient: {mcc:.4f}')\n",
    "    print(f'Specificity: {specificity:.4f}')\n",
    "\n",
    "    # 混同行列（割合表示）\n",
    "    cm = confusion_matrix(y_true, y_pred, normalize='true')\n",
    "    sns.heatmap(cm, annot=True, fmt=\".2%\", cmap=\"Blues\", cbar=False)\n",
    "    plt.xlabel(\"Predicted\")\n",
    "    plt.ylabel(\"Actual\")\n",
    "    plt.title(f\"Confusion Matrix (Normalized)\")\n",
    "    plt.show()\n",
    "\n",
    "    # ROC曲線とAUC\n",
    "    fpr, tpr, thresholds = roc_curve(y_true, y_prob)\n",
    "    roc_auc = auc(fpr, tpr)\n",
    "    plt.plot(fpr, tpr, label=f'ROC curve (AUC = {roc_auc:.2f})')\n",
    "    plt.plot([0, 1], [0, 1], 'k--') \n",
    "    plt.xlabel('False Positive Rate')\n",
    "    plt.ylabel('True Positive Rate')\n",
    "    plt.title(f'ROC Curve - Model ')\n",
    "    plt.legend(loc=\"lower right\")\n",
    "    plt.show()\n",
    "\n",
    "    # Precision-Recall曲線\n",
    "    precision_curve, recall_curve, pr_thresholds = precision_recall_curve(y_true, y_prob)\n",
    "    pr_auc = auc(recall_curve, precision_curve)\n",
    "    plt.plot(recall_curve, precision_curve, label=f'PR curve (AUC = {pr_auc:.2f})')\n",
    "    plt.xlabel('Recall')\n",
    "    plt.ylabel('Precision')\n",
    "    plt.title(f'Precision-Recall Curve ')\n",
    "    plt.legend(loc=\"lower left\")\n",
    "    plt.show()    "
   ]
  },
  {
   "cell_type": "code",
   "execution_count": 77,
   "metadata": {},
   "outputs": [],
   "source": [
    "# モデルと構造を保存\n",
    "torch.save(model.state_dict(), 'model_params/DNN_5.pth')\n",
    "\n",
    "\n"
   ]
  },
  {
   "cell_type": "code",
   "execution_count": 78,
   "metadata": {},
   "outputs": [
    {
     "name": "stdout",
     "output_type": "stream",
     "text": [
      "----------------------------------------------------------------\n",
      "        Layer (type)               Output Shape         Param #\n",
      "================================================================\n",
      "            Linear-1                   [-1, 32]             960\n",
      "       BatchNorm1d-2                   [-1, 32]              64\n",
      "            Linear-3                   [-1, 16]             528\n",
      "       BatchNorm1d-4                   [-1, 16]              32\n",
      "            Linear-5                    [-1, 8]             136\n",
      "       BatchNorm1d-6                    [-1, 8]              16\n",
      "           Dropout-7                    [-1, 8]               0\n",
      "            Linear-8                    [-1, 4]              36\n",
      "       BatchNorm1d-9                    [-1, 4]               8\n",
      "          Dropout-10                    [-1, 4]               0\n",
      "           Linear-11                    [-1, 1]               5\n",
      "================================================================\n",
      "Total params: 1,785\n",
      "Trainable params: 1,785\n",
      "Non-trainable params: 0\n",
      "----------------------------------------------------------------\n",
      "Input size (MB): 0.00\n",
      "Forward/backward pass size (MB): 0.00\n",
      "Params size (MB): 0.01\n",
      "Estimated Total Size (MB): 0.01\n",
      "----------------------------------------------------------------\n"
     ]
    }
   ],
   "source": [
    "from torchsummary import summary\n",
    "summary(model, input_size=(X_train_tensor.shape[1],))"
   ]
  },
  {
   "cell_type": "code",
   "execution_count": null,
   "metadata": {},
   "outputs": [],
   "source": []
  }
 ],
 "metadata": {
  "kernelspec": {
   "display_name": "torch",
   "language": "python",
   "name": "python3"
  },
  "language_info": {
   "codemirror_mode": {
    "name": "ipython",
    "version": 3
   },
   "file_extension": ".py",
   "mimetype": "text/x-python",
   "name": "python",
   "nbconvert_exporter": "python",
   "pygments_lexer": "ipython3",
   "version": "3.12.7"
  }
 },
 "nbformat": 4,
 "nbformat_minor": 2
}
