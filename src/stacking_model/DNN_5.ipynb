{
 "cells": [
  {
   "cell_type": "code",
   "execution_count": 2,
   "metadata": {},
   "outputs": [],
   "source": [
    "import numpy as np\n",
    "import pandas as pd\n",
    "import matplotlib.pyplot as plt\n",
    "import seaborn as sns\n",
    "import json\n",
    "\n",
    "import torch\n",
    "import torch.nn as nn\n",
    "import torch.optim as optim\n",
    "\n",
    "import optuna\n",
    "\n",
    "from sklearn.model_selection import train_test_split\n",
    "from sklearn.metrics import confusion_matrix,accuracy_score, precision_score, recall_score, f1_score, confusion_matrix, roc_curve, auc,matthews_corrcoef, precision_recall_curve,roc_auc_score\n",
    "\n"
   ]
  },
  {
   "cell_type": "markdown",
   "metadata": {},
   "source": [
    "データ読み取り"
   ]
  },
  {
   "cell_type": "code",
   "execution_count": 3,
   "metadata": {},
   "outputs": [],
   "source": [
    "df=pd.read_csv('learning_data.csv',index_col=0)\n",
    "\n",
    "X=df.drop(columns='dengue',axis=1).values\n",
    "y=df['dengue'].values\n",
    "\n",
    "X_train, X_test, y_train, y_test = train_test_split(X, y, test_size=0.2,random_state=0)\n",
    "X_train, X_val, y_train, y_val = train_test_split(X_train, y_train, test_size=0.1,random_state=0)\n",
    "\n",
    "#torchテンソルに変換\n",
    "X_train_tensor = torch.tensor(X_train, dtype=torch.float32)\n",
    "y_train_tensor = torch.tensor(y_train, dtype=torch.float32)\n",
    "X_test_tensor = torch.tensor(X_test, dtype=torch.float32)\n",
    "y_test_tensor = torch.tensor(y_test, dtype=torch.float32)\n",
    "X_val_tensor = torch.tensor(X_val, dtype=torch.float32)\n",
    "y_val_tensor = torch.tensor(y_val, dtype=torch.float32)\n"
   ]
  },
  {
   "cell_type": "code",
   "execution_count": 4,
   "metadata": {},
   "outputs": [],
   "source": [
    "class DNN_5(nn.Module):\n",
    "    def __init__(self, input_dim,dropout1,dropout2):\n",
    "        super(DNN_5, self).__init__()\n",
    "        self.layer1 = nn.Linear(input_dim,32)\n",
    "        self.layer2 = nn.Linear(32,16)\n",
    "        self.layer3 = nn.Linear(16, 8)\n",
    "        self.layer4 = nn.Linear(8, 4)\n",
    "        self.output_layer = nn.Linear(4, 1)\n",
    "\n",
    "        self.bn1=nn.BatchNorm1d(32)\n",
    "        self.bn2=nn.BatchNorm1d(16)\n",
    "        self.bn3=nn.BatchNorm1d(8)\n",
    "        self.bn4=nn.BatchNorm1d(4)\n",
    "\n",
    "        self.dropout1 = nn.Dropout(dropout1)\n",
    "        self.dropout2 = nn.Dropout(dropout2)        \n",
    "        \n",
    "    def forward(self, x):\n",
    "        x = torch.relu(self.bn1(self.layer1(x)))\n",
    "        \n",
    "        x = torch.relu(self.bn2(self.layer2(x)))\n",
    "        \n",
    "\n",
    "        x = torch.relu(self.bn3(self.layer3(x)))\n",
    "        x = self.dropout1(x)\n",
    "\n",
    "        x = torch.relu(self.bn4(self.layer4(x)))\n",
    "        x = self.dropout2(x)\n",
    "\n",
    "        x = torch.sigmoid(self.output_layer(x)) \n",
    "        return x\n",
    "    "
   ]
  },
  {
   "cell_type": "markdown",
   "metadata": {},
   "source": [
    "学習データセットの作成"
   ]
  },
  {
   "cell_type": "code",
   "execution_count": 5,
   "metadata": {},
   "outputs": [],
   "source": [
    "train_dataset = torch.utils.data.TensorDataset(X_train_tensor, y_train_tensor)\n",
    "train_loader = torch.utils.data.DataLoader(dataset=train_dataset, batch_size=128, shuffle=True)\n",
    "\n",
    "val_dataset = torch.utils.data.TensorDataset(X_val_tensor, y_val_tensor)\n",
    "val_loader = torch.utils.data.DataLoader(dataset=val_dataset, batch_size=128, shuffle=False)"
   ]
  },
  {
   "cell_type": "code",
   "execution_count": 6,
   "metadata": {},
   "outputs": [],
   "source": [
    "def objective(trial):\n",
    "    # ハイパーパラメータのサンプリング\n",
    "    dropout1 = trial.suggest_float(\"dropout1\", 0, 0.5, step=0.05)\n",
    "    dropout2 = trial.suggest_float(\"dropout2\", 0, 0.5, step=0.05)\n",
    "    learning_rate = trial.suggest_loguniform(\"learning_rate\", 1e-5, 1e-1)  \n",
    "    weight_decay = trial.suggest_loguniform(\"weight_decay\", 1e-5, 1e-1)   \n",
    "\n",
    "    # モデル定義\n",
    "    model = DNN_5(\n",
    "        input_dim=X_train_tensor.shape[1],\n",
    "        dropout1=dropout1,\n",
    "        dropout2=dropout2,\n",
    "    ).to(device)\n",
    "\n",
    "    criterion = nn.BCELoss()\n",
    "    optimizer = torch.optim.Adam(model.parameters(), lr=learning_rate, weight_decay=weight_decay)\n",
    "\n",
    "    # Early Stoppingの設定\n",
    "    patience = 10\n",
    "    best_val_loss = float('inf')\n",
    "    patience_counter = 0\n",
    "\n",
    "    # 訓練ループ\n",
    "    num_epochs = 300\n",
    "    for epoch in range(num_epochs):\n",
    "        model.train()\n",
    "        for X_batch, y_batch in train_loader:\n",
    "            X_batch, y_batch = X_batch.to(device), y_batch.to(device)\n",
    "            optimizer.zero_grad()\n",
    "            outputs = model(X_batch).squeeze()\n",
    "            loss = criterion(outputs, y_batch.squeeze())\n",
    "            loss.backward()\n",
    "            optimizer.step()\n",
    "\n",
    "        # バリデーション評価\n",
    "        model.eval()\n",
    "        val_loss = 0\n",
    "        val_true, val_pred = [], []\n",
    "        with torch.no_grad():\n",
    "            for X_val, y_val in val_loader:\n",
    "                X_val, y_val = X_val.to(device), y_val.to(device)\n",
    "                val_outputs = model(X_val).squeeze()\n",
    "                val_loss += criterion(val_outputs, y_val.squeeze()).item()\n",
    "                predictions = (val_outputs >=0.5).float()\n",
    "                val_true.extend(y_val.cpu().numpy())\n",
    "                val_pred.extend(predictions.cpu().numpy())\n",
    "\n",
    "        val_loss /= len(val_loader)\n",
    "\n",
    "        # Early Stopping判定\n",
    "        if val_loss < best_val_loss:\n",
    "            best_val_loss = val_loss\n",
    "            patience_counter = 0\n",
    "        else:\n",
    "            patience_counter += 1\n",
    "\n",
    "        if patience_counter >= patience:\n",
    "            print(f\"Early stopping at epoch {epoch}\")\n",
    "            break\n",
    "\n",
    "        # Optunaへのログ\n",
    "        trial.report(val_loss, epoch)\n",
    "        if trial.should_prune():\n",
    "            raise optuna.exceptions.TrialPruned()\n",
    "\n",
    "    # 最終的な評価指標を計算\n",
    "    mcc = matthews_corrcoef(val_true, val_pred)\n",
    "    print(f\"Final MCC: {mcc:.4f}\")\n",
    "\n",
    "    return mcc  # mccを返す\n"
   ]
  },
  {
   "cell_type": "code",
   "execution_count": 7,
   "metadata": {},
   "outputs": [
    {
     "name": "stderr",
     "output_type": "stream",
     "text": [
      "[I 2024-12-18 13:57:47,966] A new study created in memory with name: no-name-62d5b1c2-7407-4657-9f17-9a46cad27b53\n"
     ]
    },
    {
     "name": "stderr",
     "output_type": "stream",
     "text": [
      "/tmp/ipykernel_41854/2462332885.py:5: FutureWarning: suggest_loguniform has been deprecated in v3.0.0. This feature will be removed in v6.0.0. See https://github.com/optuna/optuna/releases/tag/v3.0.0. Use suggest_float(..., log=True) instead.\n",
      "  learning_rate = trial.suggest_loguniform(\"learning_rate\", 1e-5, 1e-1)\n",
      "/tmp/ipykernel_41854/2462332885.py:6: FutureWarning: suggest_loguniform has been deprecated in v3.0.0. This feature will be removed in v6.0.0. See https://github.com/optuna/optuna/releases/tag/v3.0.0. Use suggest_float(..., log=True) instead.\n",
      "  weight_decay = trial.suggest_loguniform(\"weight_decay\", 1e-5, 1e-1)\n",
      "[I 2024-12-18 13:57:56,193] Trial 0 finished with value: 0.17672273767472715 and parameters: {'dropout1': 0.35000000000000003, 'dropout2': 0.05, 'learning_rate': 0.0013541526058020697, 'weight_decay': 2.583004916799215e-05}. Best is trial 0 with value: 0.17672273767472715.\n"
     ]
    },
    {
     "name": "stdout",
     "output_type": "stream",
     "text": [
      "Early stopping at epoch 48\n",
      "Final MCC: 0.1767\n"
     ]
    },
    {
     "name": "stderr",
     "output_type": "stream",
     "text": [
      "/tmp/ipykernel_41854/2462332885.py:5: FutureWarning: suggest_loguniform has been deprecated in v3.0.0. This feature will be removed in v6.0.0. See https://github.com/optuna/optuna/releases/tag/v3.0.0. Use suggest_float(..., log=True) instead.\n",
      "  learning_rate = trial.suggest_loguniform(\"learning_rate\", 1e-5, 1e-1)\n",
      "/tmp/ipykernel_41854/2462332885.py:6: FutureWarning: suggest_loguniform has been deprecated in v3.0.0. This feature will be removed in v6.0.0. See https://github.com/optuna/optuna/releases/tag/v3.0.0. Use suggest_float(..., log=True) instead.\n",
      "  weight_decay = trial.suggest_loguniform(\"weight_decay\", 1e-5, 1e-1)\n",
      "[I 2024-12-18 13:57:58,591] Trial 1 finished with value: 0.14036580262253434 and parameters: {'dropout1': 0.0, 'dropout2': 0.1, 'learning_rate': 0.0017915177874711962, 'weight_decay': 0.00012827068648428412}. Best is trial 0 with value: 0.17672273767472715.\n"
     ]
    },
    {
     "name": "stdout",
     "output_type": "stream",
     "text": [
      "Early stopping at epoch 19\n",
      "Final MCC: 0.1404\n"
     ]
    },
    {
     "name": "stderr",
     "output_type": "stream",
     "text": [
      "/tmp/ipykernel_41854/2462332885.py:5: FutureWarning: suggest_loguniform has been deprecated in v3.0.0. This feature will be removed in v6.0.0. See https://github.com/optuna/optuna/releases/tag/v3.0.0. Use suggest_float(..., log=True) instead.\n",
      "  learning_rate = trial.suggest_loguniform(\"learning_rate\", 1e-5, 1e-1)\n",
      "/tmp/ipykernel_41854/2462332885.py:6: FutureWarning: suggest_loguniform has been deprecated in v3.0.0. This feature will be removed in v6.0.0. See https://github.com/optuna/optuna/releases/tag/v3.0.0. Use suggest_float(..., log=True) instead.\n",
      "  weight_decay = trial.suggest_loguniform(\"weight_decay\", 1e-5, 1e-1)\n",
      "[I 2024-12-18 13:58:10,561] Trial 2 finished with value: 0.12646726410719678 and parameters: {'dropout1': 0.0, 'dropout2': 0.4, 'learning_rate': 0.00025379713969531065, 'weight_decay': 0.014872943822149421}. Best is trial 0 with value: 0.17672273767472715.\n"
     ]
    },
    {
     "name": "stdout",
     "output_type": "stream",
     "text": [
      "Early stopping at epoch 82\n",
      "Final MCC: 0.1265\n"
     ]
    },
    {
     "name": "stderr",
     "output_type": "stream",
     "text": [
      "/tmp/ipykernel_41854/2462332885.py:5: FutureWarning: suggest_loguniform has been deprecated in v3.0.0. This feature will be removed in v6.0.0. See https://github.com/optuna/optuna/releases/tag/v3.0.0. Use suggest_float(..., log=True) instead.\n",
      "  learning_rate = trial.suggest_loguniform(\"learning_rate\", 1e-5, 1e-1)\n",
      "/tmp/ipykernel_41854/2462332885.py:6: FutureWarning: suggest_loguniform has been deprecated in v3.0.0. This feature will be removed in v6.0.0. See https://github.com/optuna/optuna/releases/tag/v3.0.0. Use suggest_float(..., log=True) instead.\n",
      "  weight_decay = trial.suggest_loguniform(\"weight_decay\", 1e-5, 1e-1)\n",
      "[I 2024-12-18 13:58:12,019] Trial 3 finished with value: 0.0 and parameters: {'dropout1': 0.4, 'dropout2': 0.0, 'learning_rate': 2.9540105427615587e-05, 'weight_decay': 0.01827346724724896}. Best is trial 0 with value: 0.17672273767472715.\n"
     ]
    },
    {
     "name": "stdout",
     "output_type": "stream",
     "text": [
      "Early stopping at epoch 10\n",
      "Final MCC: 0.0000\n"
     ]
    },
    {
     "name": "stderr",
     "output_type": "stream",
     "text": [
      "/tmp/ipykernel_41854/2462332885.py:5: FutureWarning: suggest_loguniform has been deprecated in v3.0.0. This feature will be removed in v6.0.0. See https://github.com/optuna/optuna/releases/tag/v3.0.0. Use suggest_float(..., log=True) instead.\n",
      "  learning_rate = trial.suggest_loguniform(\"learning_rate\", 1e-5, 1e-1)\n",
      "/tmp/ipykernel_41854/2462332885.py:6: FutureWarning: suggest_loguniform has been deprecated in v3.0.0. This feature will be removed in v6.0.0. See https://github.com/optuna/optuna/releases/tag/v3.0.0. Use suggest_float(..., log=True) instead.\n",
      "  weight_decay = trial.suggest_loguniform(\"weight_decay\", 1e-5, 1e-1)\n",
      "[I 2024-12-18 13:58:15,132] Trial 4 finished with value: 0.06720719249224055 and parameters: {'dropout1': 0.1, 'dropout2': 0.4, 'learning_rate': 0.0013964086772432459, 'weight_decay': 2.9766927723441145e-05}. Best is trial 0 with value: 0.17672273767472715.\n"
     ]
    },
    {
     "name": "stdout",
     "output_type": "stream",
     "text": [
      "Early stopping at epoch 20\n",
      "Final MCC: 0.0672\n"
     ]
    },
    {
     "name": "stderr",
     "output_type": "stream",
     "text": [
      "/tmp/ipykernel_41854/2462332885.py:5: FutureWarning: suggest_loguniform has been deprecated in v3.0.0. This feature will be removed in v6.0.0. See https://github.com/optuna/optuna/releases/tag/v3.0.0. Use suggest_float(..., log=True) instead.\n",
      "  learning_rate = trial.suggest_loguniform(\"learning_rate\", 1e-5, 1e-1)\n",
      "/tmp/ipykernel_41854/2462332885.py:6: FutureWarning: suggest_loguniform has been deprecated in v3.0.0. This feature will be removed in v6.0.0. See https://github.com/optuna/optuna/releases/tag/v3.0.0. Use suggest_float(..., log=True) instead.\n",
      "  weight_decay = trial.suggest_loguniform(\"weight_decay\", 1e-5, 1e-1)\n",
      "[I 2024-12-18 13:58:25,199] Trial 5 finished with value: 0.24869900520596874 and parameters: {'dropout1': 0.25, 'dropout2': 0.45, 'learning_rate': 0.0003731896111959654, 'weight_decay': 0.000592263086743095}. Best is trial 5 with value: 0.24869900520596874.\n"
     ]
    },
    {
     "name": "stdout",
     "output_type": "stream",
     "text": [
      "Early stopping at epoch 71\n",
      "Final MCC: 0.2487\n"
     ]
    },
    {
     "name": "stderr",
     "output_type": "stream",
     "text": [
      "/tmp/ipykernel_41854/2462332885.py:5: FutureWarning: suggest_loguniform has been deprecated in v3.0.0. This feature will be removed in v6.0.0. See https://github.com/optuna/optuna/releases/tag/v3.0.0. Use suggest_float(..., log=True) instead.\n",
      "  learning_rate = trial.suggest_loguniform(\"learning_rate\", 1e-5, 1e-1)\n",
      "/tmp/ipykernel_41854/2462332885.py:6: FutureWarning: suggest_loguniform has been deprecated in v3.0.0. This feature will be removed in v6.0.0. See https://github.com/optuna/optuna/releases/tag/v3.0.0. Use suggest_float(..., log=True) instead.\n",
      "  weight_decay = trial.suggest_loguniform(\"weight_decay\", 1e-5, 1e-1)\n",
      "[I 2024-12-18 13:58:26,598] Trial 6 finished with value: 0.08890616454793629 and parameters: {'dropout1': 0.45, 'dropout2': 0.45, 'learning_rate': 4.4812080773100364e-05, 'weight_decay': 0.00041524996372161555}. Best is trial 5 with value: 0.24869900520596874.\n",
      "/tmp/ipykernel_41854/2462332885.py:5: FutureWarning: suggest_loguniform has been deprecated in v3.0.0. This feature will be removed in v6.0.0. See https://github.com/optuna/optuna/releases/tag/v3.0.0. Use suggest_float(..., log=True) instead.\n",
      "  learning_rate = trial.suggest_loguniform(\"learning_rate\", 1e-5, 1e-1)\n",
      "/tmp/ipykernel_41854/2462332885.py:6: FutureWarning: suggest_loguniform has been deprecated in v3.0.0. This feature will be removed in v6.0.0. See https://github.com/optuna/optuna/releases/tag/v3.0.0. Use suggest_float(..., log=True) instead.\n",
      "  weight_decay = trial.suggest_loguniform(\"weight_decay\", 1e-5, 1e-1)\n",
      "[I 2024-12-18 13:58:26,740] Trial 7 pruned. \n"
     ]
    },
    {
     "name": "stdout",
     "output_type": "stream",
     "text": [
      "Early stopping at epoch 10\n",
      "Final MCC: 0.0889\n"
     ]
    },
    {
     "name": "stderr",
     "output_type": "stream",
     "text": [
      "[I 2024-12-18 13:58:52,488] Trial 8 finished with value: 0.2186729725346097 and parameters: {'dropout1': 0.30000000000000004, 'dropout2': 0.35000000000000003, 'learning_rate': 8.503738616449068e-05, 'weight_decay': 0.002883356885348577}. Best is trial 5 with value: 0.24869900520596874.\n",
      "/tmp/ipykernel_41854/2462332885.py:5: FutureWarning: suggest_loguniform has been deprecated in v3.0.0. This feature will be removed in v6.0.0. See https://github.com/optuna/optuna/releases/tag/v3.0.0. Use suggest_float(..., log=True) instead.\n",
      "  learning_rate = trial.suggest_loguniform(\"learning_rate\", 1e-5, 1e-1)\n",
      "/tmp/ipykernel_41854/2462332885.py:6: FutureWarning: suggest_loguniform has been deprecated in v3.0.0. This feature will be removed in v6.0.0. See https://github.com/optuna/optuna/releases/tag/v3.0.0. Use suggest_float(..., log=True) instead.\n",
      "  weight_decay = trial.suggest_loguniform(\"weight_decay\", 1e-5, 1e-1)\n",
      "[I 2024-12-18 13:58:52,570] Trial 9 pruned. \n",
      "[I 2024-12-18 13:58:52,660] Trial 10 pruned. \n"
     ]
    },
    {
     "name": "stdout",
     "output_type": "stream",
     "text": [
      "Early stopping at epoch 212\n",
      "Final MCC: 0.2187\n"
     ]
    },
    {
     "name": "stderr",
     "output_type": "stream",
     "text": [
      "[I 2024-12-18 13:58:52,753] Trial 11 pruned. \n",
      "[I 2024-12-18 13:58:52,845] Trial 12 pruned. \n",
      "[I 2024-12-18 13:58:52,936] Trial 13 pruned. \n",
      "[I 2024-12-18 13:58:53,027] Trial 14 pruned. \n",
      "[I 2024-12-18 13:58:53,117] Trial 15 pruned. \n",
      "[I 2024-12-18 13:58:55,733] Trial 16 finished with value: 0.0 and parameters: {'dropout1': 0.5, 'dropout2': 0.4, 'learning_rate': 0.0073660496775123825, 'weight_decay': 0.0005596935414774332}. Best is trial 5 with value: 0.24869900520596874.\n",
      "/tmp/ipykernel_41854/2462332885.py:5: FutureWarning: suggest_loguniform has been deprecated in v3.0.0. This feature will be removed in v6.0.0. See https://github.com/optuna/optuna/releases/tag/v3.0.0. Use suggest_float(..., log=True) instead.\n",
      "  learning_rate = trial.suggest_loguniform(\"learning_rate\", 1e-5, 1e-1)\n",
      "/tmp/ipykernel_41854/2462332885.py:6: FutureWarning: suggest_loguniform has been deprecated in v3.0.0. This feature will be removed in v6.0.0. See https://github.com/optuna/optuna/releases/tag/v3.0.0. Use suggest_float(..., log=True) instead.\n",
      "  weight_decay = trial.suggest_loguniform(\"weight_decay\", 1e-5, 1e-1)\n",
      "[I 2024-12-18 13:58:55,824] Trial 17 pruned. \n"
     ]
    },
    {
     "name": "stdout",
     "output_type": "stream",
     "text": [
      "Early stopping at epoch 32\n",
      "Final MCC: 0.0000\n"
     ]
    },
    {
     "name": "stderr",
     "output_type": "stream",
     "text": [
      "[I 2024-12-18 13:59:13,907] Trial 18 finished with value: 0.2686920389979384 and parameters: {'dropout1': 0.25, 'dropout2': 0.45, 'learning_rate': 9.886951256624949e-05, 'weight_decay': 0.0001259392596740048}. Best is trial 18 with value: 0.2686920389979384.\n"
     ]
    },
    {
     "name": "stdout",
     "output_type": "stream",
     "text": [
      "Early stopping at epoch 237\n",
      "Final MCC: 0.2687\n"
     ]
    },
    {
     "name": "stderr",
     "output_type": "stream",
     "text": [
      "/tmp/ipykernel_41854/2462332885.py:5: FutureWarning: suggest_loguniform has been deprecated in v3.0.0. This feature will be removed in v6.0.0. See https://github.com/optuna/optuna/releases/tag/v3.0.0. Use suggest_float(..., log=True) instead.\n",
      "  learning_rate = trial.suggest_loguniform(\"learning_rate\", 1e-5, 1e-1)\n",
      "/tmp/ipykernel_41854/2462332885.py:6: FutureWarning: suggest_loguniform has been deprecated in v3.0.0. This feature will be removed in v6.0.0. See https://github.com/optuna/optuna/releases/tag/v3.0.0. Use suggest_float(..., log=True) instead.\n",
      "  weight_decay = trial.suggest_loguniform(\"weight_decay\", 1e-5, 1e-1)\n",
      "[I 2024-12-18 13:59:18,998] Trial 19 finished with value: 0.055803058295103763 and parameters: {'dropout1': 0.2, 'dropout2': 0.5, 'learning_rate': 0.0004912138363261934, 'weight_decay': 8.552287607046636e-05}. Best is trial 18 with value: 0.2686920389979384.\n",
      "/tmp/ipykernel_41854/2462332885.py:5: FutureWarning: suggest_loguniform has been deprecated in v3.0.0. This feature will be removed in v6.0.0. See https://github.com/optuna/optuna/releases/tag/v3.0.0. Use suggest_float(..., log=True) instead.\n",
      "  learning_rate = trial.suggest_loguniform(\"learning_rate\", 1e-5, 1e-1)\n",
      "/tmp/ipykernel_41854/2462332885.py:6: FutureWarning: suggest_loguniform has been deprecated in v3.0.0. This feature will be removed in v6.0.0. See https://github.com/optuna/optuna/releases/tag/v3.0.0. Use suggest_float(..., log=True) instead.\n",
      "  weight_decay = trial.suggest_loguniform(\"weight_decay\", 1e-5, 1e-1)\n",
      "[I 2024-12-18 13:59:19,089] Trial 20 pruned. \n",
      "[I 2024-12-18 13:59:19,179] Trial 21 pruned. \n"
     ]
    },
    {
     "name": "stdout",
     "output_type": "stream",
     "text": [
      "Early stopping at epoch 56\n",
      "Final MCC: 0.0558\n"
     ]
    },
    {
     "name": "stderr",
     "output_type": "stream",
     "text": [
      "[I 2024-12-18 13:59:19,274] Trial 22 pruned. \n",
      "[I 2024-12-18 13:59:19,365] Trial 23 pruned. \n",
      "[I 2024-12-18 13:59:19,455] Trial 24 pruned. \n",
      "[I 2024-12-18 13:59:19,545] Trial 25 pruned. \n",
      "[I 2024-12-18 13:59:28,788] Trial 26 finished with value: 0.3162890911135341 and parameters: {'dropout1': 0.30000000000000004, 'dropout2': 0.35000000000000003, 'learning_rate': 0.0002908057386048287, 'weight_decay': 0.0002912467600643334}. Best is trial 26 with value: 0.3162890911135341.\n",
      "/tmp/ipykernel_41854/2462332885.py:5: FutureWarning: suggest_loguniform has been deprecated in v3.0.0. This feature will be removed in v6.0.0. See https://github.com/optuna/optuna/releases/tag/v3.0.0. Use suggest_float(..., log=True) instead.\n",
      "  learning_rate = trial.suggest_loguniform(\"learning_rate\", 1e-5, 1e-1)\n",
      "/tmp/ipykernel_41854/2462332885.py:6: FutureWarning: suggest_loguniform has been deprecated in v3.0.0. This feature will be removed in v6.0.0. See https://github.com/optuna/optuna/releases/tag/v3.0.0. Use suggest_float(..., log=True) instead.\n",
      "  weight_decay = trial.suggest_loguniform(\"weight_decay\", 1e-5, 1e-1)\n",
      "[I 2024-12-18 13:59:28,970] Trial 27 pruned. \n"
     ]
    },
    {
     "name": "stdout",
     "output_type": "stream",
     "text": [
      "Early stopping at epoch 69\n",
      "Final MCC: 0.3163\n"
     ]
    },
    {
     "name": "stderr",
     "output_type": "stream",
     "text": [
      "[I 2024-12-18 13:59:38,873] Trial 28 finished with value: 0.0884472325082353 and parameters: {'dropout1': 0.25, 'dropout2': 0.5, 'learning_rate': 0.000661210083179347, 'weight_decay': 0.00023525860819912202}. Best is trial 26 with value: 0.3162890911135341.\n",
      "/tmp/ipykernel_41854/2462332885.py:5: FutureWarning: suggest_loguniform has been deprecated in v3.0.0. This feature will be removed in v6.0.0. See https://github.com/optuna/optuna/releases/tag/v3.0.0. Use suggest_float(..., log=True) instead.\n",
      "  learning_rate = trial.suggest_loguniform(\"learning_rate\", 1e-5, 1e-1)\n",
      "/tmp/ipykernel_41854/2462332885.py:6: FutureWarning: suggest_loguniform has been deprecated in v3.0.0. This feature will be removed in v6.0.0. See https://github.com/optuna/optuna/releases/tag/v3.0.0. Use suggest_float(..., log=True) instead.\n",
      "  weight_decay = trial.suggest_loguniform(\"weight_decay\", 1e-5, 1e-1)\n",
      "[I 2024-12-18 13:59:39,052] Trial 29 pruned. \n"
     ]
    },
    {
     "name": "stdout",
     "output_type": "stream",
     "text": [
      "Early stopping at epoch 58\n",
      "Final MCC: 0.0884\n"
     ]
    },
    {
     "name": "stderr",
     "output_type": "stream",
     "text": [
      "[I 2024-12-18 13:59:39,222] Trial 30 pruned. \n",
      "[I 2024-12-18 13:59:39,392] Trial 31 pruned. \n",
      "[I 2024-12-18 13:59:39,561] Trial 32 pruned. \n",
      "[I 2024-12-18 13:59:39,732] Trial 33 pruned. \n",
      "[I 2024-12-18 13:59:39,903] Trial 34 pruned. \n",
      "[I 2024-12-18 13:59:40,074] Trial 35 pruned. \n",
      "[I 2024-12-18 13:59:40,242] Trial 36 pruned. \n",
      "[I 2024-12-18 13:59:45,005] Trial 37 finished with value: 0.11664316652865164 and parameters: {'dropout1': 0.0, 'dropout2': 0.45, 'learning_rate': 0.0023064715777894548, 'weight_decay': 0.00012199837049344706}. Best is trial 26 with value: 0.3162890911135341.\n",
      "/tmp/ipykernel_41854/2462332885.py:5: FutureWarning: suggest_loguniform has been deprecated in v3.0.0. This feature will be removed in v6.0.0. See https://github.com/optuna/optuna/releases/tag/v3.0.0. Use suggest_float(..., log=True) instead.\n",
      "  learning_rate = trial.suggest_loguniform(\"learning_rate\", 1e-5, 1e-1)\n",
      "/tmp/ipykernel_41854/2462332885.py:6: FutureWarning: suggest_loguniform has been deprecated in v3.0.0. This feature will be removed in v6.0.0. See https://github.com/optuna/optuna/releases/tag/v3.0.0. Use suggest_float(..., log=True) instead.\n",
      "  weight_decay = trial.suggest_loguniform(\"weight_decay\", 1e-5, 1e-1)\n",
      "[I 2024-12-18 13:59:45,175] Trial 38 pruned. \n"
     ]
    },
    {
     "name": "stdout",
     "output_type": "stream",
     "text": [
      "Early stopping at epoch 28\n",
      "Final MCC: 0.1166\n"
     ]
    },
    {
     "name": "stderr",
     "output_type": "stream",
     "text": [
      "[I 2024-12-18 13:59:45,345] Trial 39 pruned. \n",
      "[I 2024-12-18 13:59:45,512] Trial 40 pruned. \n",
      "[I 2024-12-18 13:59:45,675] Trial 41 pruned. \n",
      "[I 2024-12-18 13:59:45,843] Trial 42 pruned. \n",
      "[I 2024-12-18 14:00:05,588] Trial 43 finished with value: 0.20460510665855866 and parameters: {'dropout1': 0.30000000000000004, 'dropout2': 0.05, 'learning_rate': 0.0002074621080196212, 'weight_decay': 0.000504103009745758}. Best is trial 26 with value: 0.3162890911135341.\n",
      "/tmp/ipykernel_41854/2462332885.py:5: FutureWarning: suggest_loguniform has been deprecated in v3.0.0. This feature will be removed in v6.0.0. See https://github.com/optuna/optuna/releases/tag/v3.0.0. Use suggest_float(..., log=True) instead.\n",
      "  learning_rate = trial.suggest_loguniform(\"learning_rate\", 1e-5, 1e-1)\n",
      "/tmp/ipykernel_41854/2462332885.py:6: FutureWarning: suggest_loguniform has been deprecated in v3.0.0. This feature will be removed in v6.0.0. See https://github.com/optuna/optuna/releases/tag/v3.0.0. Use suggest_float(..., log=True) instead.\n",
      "  weight_decay = trial.suggest_loguniform(\"weight_decay\", 1e-5, 1e-1)\n",
      "[I 2024-12-18 14:00:05,768] Trial 44 pruned. \n"
     ]
    },
    {
     "name": "stdout",
     "output_type": "stream",
     "text": [
      "Early stopping at epoch 118\n",
      "Final MCC: 0.2046\n"
     ]
    },
    {
     "name": "stderr",
     "output_type": "stream",
     "text": [
      "[I 2024-12-18 14:00:17,217] Trial 45 finished with value: 0.05843353370657177 and parameters: {'dropout1': 0.30000000000000004, 'dropout2': 0.2, 'learning_rate': 0.0003535019227598632, 'weight_decay': 0.0015276409101406606}. Best is trial 26 with value: 0.3162890911135341.\n",
      "/tmp/ipykernel_41854/2462332885.py:5: FutureWarning: suggest_loguniform has been deprecated in v3.0.0. This feature will be removed in v6.0.0. See https://github.com/optuna/optuna/releases/tag/v3.0.0. Use suggest_float(..., log=True) instead.\n",
      "  learning_rate = trial.suggest_loguniform(\"learning_rate\", 1e-5, 1e-1)\n",
      "/tmp/ipykernel_41854/2462332885.py:6: FutureWarning: suggest_loguniform has been deprecated in v3.0.0. This feature will be removed in v6.0.0. See https://github.com/optuna/optuna/releases/tag/v3.0.0. Use suggest_float(..., log=True) instead.\n",
      "  weight_decay = trial.suggest_loguniform(\"weight_decay\", 1e-5, 1e-1)\n",
      "[I 2024-12-18 14:00:17,396] Trial 46 pruned. \n"
     ]
    },
    {
     "name": "stdout",
     "output_type": "stream",
     "text": [
      "Early stopping at epoch 67\n",
      "Final MCC: 0.0584\n"
     ]
    },
    {
     "name": "stderr",
     "output_type": "stream",
     "text": [
      "[I 2024-12-18 14:01:05,903] Trial 47 finished with value: 0.24205714393292385 and parameters: {'dropout1': 0.30000000000000004, 'dropout2': 0.30000000000000004, 'learning_rate': 6.400261587301586e-05, 'weight_decay': 0.0021797297941294545}. Best is trial 26 with value: 0.3162890911135341.\n",
      "/tmp/ipykernel_41854/2462332885.py:5: FutureWarning: suggest_loguniform has been deprecated in v3.0.0. This feature will be removed in v6.0.0. See https://github.com/optuna/optuna/releases/tag/v3.0.0. Use suggest_float(..., log=True) instead.\n",
      "  learning_rate = trial.suggest_loguniform(\"learning_rate\", 1e-5, 1e-1)\n",
      "/tmp/ipykernel_41854/2462332885.py:6: FutureWarning: suggest_loguniform has been deprecated in v3.0.0. This feature will be removed in v6.0.0. See https://github.com/optuna/optuna/releases/tag/v3.0.0. Use suggest_float(..., log=True) instead.\n",
      "  weight_decay = trial.suggest_loguniform(\"weight_decay\", 1e-5, 1e-1)\n",
      "[I 2024-12-18 14:01:05,997] Trial 48 pruned. \n",
      "[I 2024-12-18 14:01:06,090] Trial 49 pruned. \n"
     ]
    },
    {
     "name": "stdout",
     "output_type": "stream",
     "text": [
      "Final MCC: 0.2421\n"
     ]
    },
    {
     "name": "stderr",
     "output_type": "stream",
     "text": [
      "[I 2024-12-18 14:01:06,184] Trial 50 pruned. \n",
      "[I 2024-12-18 14:01:06,276] Trial 51 pruned. \n",
      "[I 2024-12-18 14:01:26,440] Trial 52 finished with value: 0.2584085359532357 and parameters: {'dropout1': 0.25, 'dropout2': 0.30000000000000004, 'learning_rate': 0.00011375114546478944, 'weight_decay': 0.0003857860203190698}. Best is trial 26 with value: 0.3162890911135341.\n",
      "/tmp/ipykernel_41854/2462332885.py:5: FutureWarning: suggest_loguniform has been deprecated in v3.0.0. This feature will be removed in v6.0.0. See https://github.com/optuna/optuna/releases/tag/v3.0.0. Use suggest_float(..., log=True) instead.\n",
      "  learning_rate = trial.suggest_loguniform(\"learning_rate\", 1e-5, 1e-1)\n",
      "/tmp/ipykernel_41854/2462332885.py:6: FutureWarning: suggest_loguniform has been deprecated in v3.0.0. This feature will be removed in v6.0.0. See https://github.com/optuna/optuna/releases/tag/v3.0.0. Use suggest_float(..., log=True) instead.\n",
      "  weight_decay = trial.suggest_loguniform(\"weight_decay\", 1e-5, 1e-1)\n",
      "[I 2024-12-18 14:01:26,604] Trial 53 pruned. \n"
     ]
    },
    {
     "name": "stdout",
     "output_type": "stream",
     "text": [
      "Early stopping at epoch 181\n",
      "Final MCC: 0.2584\n"
     ]
    },
    {
     "name": "stderr",
     "output_type": "stream",
     "text": [
      "[I 2024-12-18 14:01:28,364] Trial 54 finished with value: 0.04251245664625449 and parameters: {'dropout1': 0.2, 'dropout2': 0.35000000000000003, 'learning_rate': 1.575709643563501e-05, 'weight_decay': 0.00030932243948125445}. Best is trial 26 with value: 0.3162890911135341.\n",
      "/tmp/ipykernel_41854/2462332885.py:5: FutureWarning: suggest_loguniform has been deprecated in v3.0.0. This feature will be removed in v6.0.0. See https://github.com/optuna/optuna/releases/tag/v3.0.0. Use suggest_float(..., log=True) instead.\n",
      "  learning_rate = trial.suggest_loguniform(\"learning_rate\", 1e-5, 1e-1)\n",
      "/tmp/ipykernel_41854/2462332885.py:6: FutureWarning: suggest_loguniform has been deprecated in v3.0.0. This feature will be removed in v6.0.0. See https://github.com/optuna/optuna/releases/tag/v3.0.0. Use suggest_float(..., log=True) instead.\n",
      "  weight_decay = trial.suggest_loguniform(\"weight_decay\", 1e-5, 1e-1)\n",
      "[I 2024-12-18 14:01:28,514] Trial 55 pruned. \n"
     ]
    },
    {
     "name": "stdout",
     "output_type": "stream",
     "text": [
      "Early stopping at epoch 10\n",
      "Final MCC: 0.0425\n"
     ]
    },
    {
     "name": "stderr",
     "output_type": "stream",
     "text": [
      "[I 2024-12-18 14:01:28,633] Trial 56 pruned. \n",
      "[I 2024-12-18 14:01:28,760] Trial 57 pruned. \n",
      "[I 2024-12-18 14:01:28,894] Trial 58 pruned. \n",
      "[I 2024-12-18 14:01:29,010] Trial 59 pruned. \n",
      "[I 2024-12-18 14:01:29,126] Trial 60 pruned. \n",
      "[I 2024-12-18 14:01:45,745] Trial 61 finished with value: 0.20159795593450675 and parameters: {'dropout1': 0.30000000000000004, 'dropout2': 0.15000000000000002, 'learning_rate': 0.0002289610178335596, 'weight_decay': 0.0004466645883843799}. Best is trial 26 with value: 0.3162890911135341.\n",
      "/tmp/ipykernel_41854/2462332885.py:5: FutureWarning: suggest_loguniform has been deprecated in v3.0.0. This feature will be removed in v6.0.0. See https://github.com/optuna/optuna/releases/tag/v3.0.0. Use suggest_float(..., log=True) instead.\n",
      "  learning_rate = trial.suggest_loguniform(\"learning_rate\", 1e-5, 1e-1)\n",
      "/tmp/ipykernel_41854/2462332885.py:6: FutureWarning: suggest_loguniform has been deprecated in v3.0.0. This feature will be removed in v6.0.0. See https://github.com/optuna/optuna/releases/tag/v3.0.0. Use suggest_float(..., log=True) instead.\n",
      "  weight_decay = trial.suggest_loguniform(\"weight_decay\", 1e-5, 1e-1)\n",
      "[I 2024-12-18 14:01:45,864] Trial 62 pruned. \n"
     ]
    },
    {
     "name": "stdout",
     "output_type": "stream",
     "text": [
      "Early stopping at epoch 128\n",
      "Final MCC: 0.2016\n"
     ]
    },
    {
     "name": "stderr",
     "output_type": "stream",
     "text": [
      "[I 2024-12-18 14:01:45,984] Trial 63 pruned. \n",
      "[I 2024-12-18 14:01:46,118] Trial 64 pruned. \n",
      "[I 2024-12-18 14:02:12,633] Trial 65 finished with value: 0.2547902590562217 and parameters: {'dropout1': 0.35000000000000003, 'dropout2': 0.45, 'learning_rate': 6.10525363298869e-05, 'weight_decay': 8.371422316612212e-05}. Best is trial 26 with value: 0.3162890911135341.\n",
      "/tmp/ipykernel_41854/2462332885.py:5: FutureWarning: suggest_loguniform has been deprecated in v3.0.0. This feature will be removed in v6.0.0. See https://github.com/optuna/optuna/releases/tag/v3.0.0. Use suggest_float(..., log=True) instead.\n",
      "  learning_rate = trial.suggest_loguniform(\"learning_rate\", 1e-5, 1e-1)\n",
      "/tmp/ipykernel_41854/2462332885.py:6: FutureWarning: suggest_loguniform has been deprecated in v3.0.0. This feature will be removed in v6.0.0. See https://github.com/optuna/optuna/releases/tag/v3.0.0. Use suggest_float(..., log=True) instead.\n",
      "  weight_decay = trial.suggest_loguniform(\"weight_decay\", 1e-5, 1e-1)\n",
      "[I 2024-12-18 14:02:12,799] Trial 66 pruned. \n"
     ]
    },
    {
     "name": "stdout",
     "output_type": "stream",
     "text": [
      "Early stopping at epoch 232\n",
      "Final MCC: 0.2548\n"
     ]
    },
    {
     "name": "stderr",
     "output_type": "stream",
     "text": [
      "[I 2024-12-18 14:02:12,975] Trial 67 pruned. \n",
      "[I 2024-12-18 14:02:42,886] Trial 68 finished with value: 0.36769590915606865 and parameters: {'dropout1': 0.25, 'dropout2': 0.4, 'learning_rate': 4.428255874392552e-05, 'weight_decay': 0.00021040201179133573}. Best is trial 68 with value: 0.36769590915606865.\n",
      "/tmp/ipykernel_41854/2462332885.py:5: FutureWarning: suggest_loguniform has been deprecated in v3.0.0. This feature will be removed in v6.0.0. See https://github.com/optuna/optuna/releases/tag/v3.0.0. Use suggest_float(..., log=True) instead.\n",
      "  learning_rate = trial.suggest_loguniform(\"learning_rate\", 1e-5, 1e-1)\n",
      "/tmp/ipykernel_41854/2462332885.py:6: FutureWarning: suggest_loguniform has been deprecated in v3.0.0. This feature will be removed in v6.0.0. See https://github.com/optuna/optuna/releases/tag/v3.0.0. Use suggest_float(..., log=True) instead.\n",
      "  weight_decay = trial.suggest_loguniform(\"weight_decay\", 1e-5, 1e-1)\n",
      "[I 2024-12-18 14:02:42,982] Trial 69 pruned. \n",
      "[I 2024-12-18 14:02:43,077] Trial 70 pruned. \n"
     ]
    },
    {
     "name": "stdout",
     "output_type": "stream",
     "text": [
      "Early stopping at epoch 227\n",
      "Final MCC: 0.3677\n"
     ]
    },
    {
     "name": "stderr",
     "output_type": "stream",
     "text": [
      "[I 2024-12-18 14:02:43,172] Trial 71 pruned. \n",
      "[I 2024-12-18 14:02:43,267] Trial 72 pruned. \n",
      "[I 2024-12-18 14:02:43,360] Trial 73 pruned. \n",
      "[I 2024-12-18 14:03:02,589] Trial 74 finished with value: 0.3012842499140091 and parameters: {'dropout1': 0.25, 'dropout2': 0.5, 'learning_rate': 0.00014774089332834475, 'weight_decay': 0.00020448730812936853}. Best is trial 68 with value: 0.36769590915606865.\n",
      "/tmp/ipykernel_41854/2462332885.py:5: FutureWarning: suggest_loguniform has been deprecated in v3.0.0. This feature will be removed in v6.0.0. See https://github.com/optuna/optuna/releases/tag/v3.0.0. Use suggest_float(..., log=True) instead.\n",
      "  learning_rate = trial.suggest_loguniform(\"learning_rate\", 1e-5, 1e-1)\n",
      "/tmp/ipykernel_41854/2462332885.py:6: FutureWarning: suggest_loguniform has been deprecated in v3.0.0. This feature will be removed in v6.0.0. See https://github.com/optuna/optuna/releases/tag/v3.0.0. Use suggest_float(..., log=True) instead.\n",
      "  weight_decay = trial.suggest_loguniform(\"weight_decay\", 1e-5, 1e-1)\n",
      "[I 2024-12-18 14:03:02,759] Trial 75 pruned. \n"
     ]
    },
    {
     "name": "stdout",
     "output_type": "stream",
     "text": [
      "Early stopping at epoch 146\n",
      "Final MCC: 0.3013\n"
     ]
    },
    {
     "name": "stderr",
     "output_type": "stream",
     "text": [
      "[I 2024-12-18 14:03:02,951] Trial 76 pruned. \n",
      "[I 2024-12-18 14:03:03,123] Trial 77 pruned. \n",
      "[I 2024-12-18 14:03:03,272] Trial 78 pruned. \n",
      "[I 2024-12-18 14:03:03,440] Trial 79 pruned. \n",
      "[I 2024-12-18 14:03:03,561] Trial 80 pruned. \n",
      "[I 2024-12-18 14:03:03,676] Trial 81 pruned. \n",
      "[I 2024-12-18 14:03:03,813] Trial 82 pruned. \n",
      "[I 2024-12-18 14:03:04,727] Trial 83 finished with value: 0.0 and parameters: {'dropout1': 0.35000000000000003, 'dropout2': 0.4, 'learning_rate': 6.0485537652995395e-05, 'weight_decay': 0.0009702894963020457}. Best is trial 68 with value: 0.36769590915606865.\n",
      "/tmp/ipykernel_41854/2462332885.py:5: FutureWarning: suggest_loguniform has been deprecated in v3.0.0. This feature will be removed in v6.0.0. See https://github.com/optuna/optuna/releases/tag/v3.0.0. Use suggest_float(..., log=True) instead.\n",
      "  learning_rate = trial.suggest_loguniform(\"learning_rate\", 1e-5, 1e-1)\n",
      "/tmp/ipykernel_41854/2462332885.py:6: FutureWarning: suggest_loguniform has been deprecated in v3.0.0. This feature will be removed in v6.0.0. See https://github.com/optuna/optuna/releases/tag/v3.0.0. Use suggest_float(..., log=True) instead.\n",
      "  weight_decay = trial.suggest_loguniform(\"weight_decay\", 1e-5, 1e-1)\n",
      "[I 2024-12-18 14:03:04,866] Trial 84 pruned. \n"
     ]
    },
    {
     "name": "stdout",
     "output_type": "stream",
     "text": [
      "Early stopping at epoch 10\n",
      "Final MCC: 0.0000\n"
     ]
    },
    {
     "name": "stderr",
     "output_type": "stream",
     "text": [
      "[I 2024-12-18 14:03:19,451] Trial 85 finished with value: 0.23303538627995116 and parameters: {'dropout1': 0.25, 'dropout2': 0.30000000000000004, 'learning_rate': 0.0002696798008602591, 'weight_decay': 0.002531159632250439}. Best is trial 68 with value: 0.36769590915606865.\n"
     ]
    },
    {
     "name": "stdout",
     "output_type": "stream",
     "text": [
      "Early stopping at epoch 97\n",
      "Final MCC: 0.2330\n"
     ]
    },
    {
     "name": "stderr",
     "output_type": "stream",
     "text": [
      "/tmp/ipykernel_41854/2462332885.py:5: FutureWarning: suggest_loguniform has been deprecated in v3.0.0. This feature will be removed in v6.0.0. See https://github.com/optuna/optuna/releases/tag/v3.0.0. Use suggest_float(..., log=True) instead.\n",
      "  learning_rate = trial.suggest_loguniform(\"learning_rate\", 1e-5, 1e-1)\n",
      "/tmp/ipykernel_41854/2462332885.py:6: FutureWarning: suggest_loguniform has been deprecated in v3.0.0. This feature will be removed in v6.0.0. See https://github.com/optuna/optuna/releases/tag/v3.0.0. Use suggest_float(..., log=True) instead.\n",
      "  weight_decay = trial.suggest_loguniform(\"weight_decay\", 1e-5, 1e-1)\n",
      "[I 2024-12-18 14:03:34,685] Trial 86 finished with value: 0.19079380328650247 and parameters: {'dropout1': 0.25, 'dropout2': 0.30000000000000004, 'learning_rate': 0.00019043647026594526, 'weight_decay': 0.00015526728069404229}. Best is trial 68 with value: 0.36769590915606865.\n",
      "/tmp/ipykernel_41854/2462332885.py:5: FutureWarning: suggest_loguniform has been deprecated in v3.0.0. This feature will be removed in v6.0.0. See https://github.com/optuna/optuna/releases/tag/v3.0.0. Use suggest_float(..., log=True) instead.\n",
      "  learning_rate = trial.suggest_loguniform(\"learning_rate\", 1e-5, 1e-1)\n",
      "/tmp/ipykernel_41854/2462332885.py:6: FutureWarning: suggest_loguniform has been deprecated in v3.0.0. This feature will be removed in v6.0.0. See https://github.com/optuna/optuna/releases/tag/v3.0.0. Use suggest_float(..., log=True) instead.\n",
      "  weight_decay = trial.suggest_loguniform(\"weight_decay\", 1e-5, 1e-1)\n",
      "[I 2024-12-18 14:03:34,869] Trial 87 pruned. \n"
     ]
    },
    {
     "name": "stdout",
     "output_type": "stream",
     "text": [
      "Early stopping at epoch 109\n",
      "Final MCC: 0.1908\n"
     ]
    },
    {
     "name": "stderr",
     "output_type": "stream",
     "text": [
      "[I 2024-12-18 14:03:35,049] Trial 88 pruned. \n",
      "[I 2024-12-18 14:03:35,198] Trial 89 pruned. \n",
      "[I 2024-12-18 14:03:35,345] Trial 90 pruned. \n",
      "[I 2024-12-18 14:03:35,507] Trial 91 pruned. \n",
      "[I 2024-12-18 14:03:35,667] Trial 92 pruned. \n",
      "[I 2024-12-18 14:03:35,828] Trial 93 pruned. \n",
      "[I 2024-12-18 14:03:35,994] Trial 94 pruned. \n",
      "[I 2024-12-18 14:03:36,166] Trial 95 pruned. \n",
      "[I 2024-12-18 14:03:36,332] Trial 96 pruned. \n",
      "[I 2024-12-18 14:03:36,497] Trial 97 pruned. \n",
      "[I 2024-12-18 14:03:36,658] Trial 98 pruned. \n",
      "[I 2024-12-18 14:03:36,807] Trial 99 pruned. \n"
     ]
    },
    {
     "name": "stdout",
     "output_type": "stream",
     "text": [
      "Best Parameters:  {'dropout1': 0.25, 'dropout2': 0.4, 'learning_rate': 4.428255874392552e-05, 'weight_decay': 0.00021040201179133573}\n",
      "Best Validation F1:  0.36769590915606865\n"
     ]
    }
   ],
   "source": [
    "device_id = 0  # 使用するGPUのID（0または1）\n",
    "torch.cuda.set_device(device_id)\n",
    "device = torch.device(f\"cuda:{device_id}\" if torch.cuda.is_available() else \"cpu\")\n",
    "\n",
    "# Optunaの設定\n",
    "study = optuna.create_study(direction=\"maximize\")  \n",
    "study.optimize(objective, n_trials=100)\n",
    "\n",
    "# 結果表示\n",
    "print(\"Best Parameters: \", study.best_params)\n",
    "print(\"Best Validation F1: \", study.best_value)"
   ]
  },
  {
   "cell_type": "code",
   "execution_count": 8,
   "metadata": {},
   "outputs": [
    {
     "name": "stdout",
     "output_type": "stream",
     "text": [
      "Best parameters saved to 'best_params.json'\n"
     ]
    }
   ],
   "source": [
    "best_params = study.best_params\n",
    "\n",
    "# JSON形式で保存\n",
    "with open(\"optim_param/optim_DNN_5_params.json\", \"w\") as f:\n",
    "    json.dump(best_params, f)\n",
    "\n",
    "print(\"Best parameters saved to 'best_params.json'\")"
   ]
  },
  {
   "cell_type": "code",
   "execution_count": 9,
   "metadata": {},
   "outputs": [
    {
     "name": "stdout",
     "output_type": "stream",
     "text": [
      "Epoch [1/200], Loss: 0.7275\n",
      "Epoch [1/200], Train Loss: 0.7275, Val Loss: 0.7311\n",
      "Epoch [2/200], Loss: 0.7267\n",
      "Epoch [2/200], Train Loss: 0.7267, Val Loss: 0.7150\n",
      "Epoch [3/200], Loss: 0.7164\n",
      "Epoch [3/200], Train Loss: 0.7164, Val Loss: 0.7139\n",
      "Epoch [4/200], Loss: 0.7204\n",
      "Epoch [4/200], Train Loss: 0.7204, Val Loss: 0.7068\n",
      "Epoch [5/200], Loss: 0.7257\n",
      "Epoch [5/200], Train Loss: 0.7257, Val Loss: 0.7032\n",
      "Epoch [6/200], Loss: 0.7100\n",
      "Epoch [6/200], Train Loss: 0.7100, Val Loss: 0.7030\n",
      "Epoch [7/200], Loss: 0.7137\n",
      "Epoch [7/200], Train Loss: 0.7137, Val Loss: 0.6998\n",
      "Epoch [8/200], Loss: 0.7115\n",
      "Epoch [8/200], Train Loss: 0.7115, Val Loss: 0.6957\n",
      "Epoch [9/200], Loss: 0.7044\n",
      "Epoch [9/200], Train Loss: 0.7044, Val Loss: 0.6951\n",
      "Epoch [10/200], Loss: 0.7083\n",
      "Epoch [10/200], Train Loss: 0.7083, Val Loss: 0.6918\n",
      "Epoch [11/200], Loss: 0.7074\n",
      "Epoch [11/200], Train Loss: 0.7074, Val Loss: 0.6889\n",
      "Epoch [12/200], Loss: 0.7032\n",
      "Epoch [12/200], Train Loss: 0.7032, Val Loss: 0.6889\n",
      "Epoch [13/200], Loss: 0.6937\n",
      "Epoch [13/200], Train Loss: 0.6937, Val Loss: 0.6871\n",
      "Epoch [14/200], Loss: 0.7029\n",
      "Epoch [14/200], Train Loss: 0.7029, Val Loss: 0.6826\n",
      "Epoch [15/200], Loss: 0.7006\n",
      "Epoch [15/200], Train Loss: 0.7006, Val Loss: 0.6816\n",
      "Epoch [16/200], Loss: 0.6981\n",
      "Epoch [16/200], Train Loss: 0.6981, Val Loss: 0.6832\n",
      "Epoch [17/200], Loss: 0.6978\n",
      "Epoch [17/200], Train Loss: 0.6978, Val Loss: 0.6771\n",
      "Epoch [18/200], Loss: 0.6929\n",
      "Epoch [18/200], Train Loss: 0.6929, Val Loss: 0.6787\n",
      "Epoch [19/200], Loss: 0.6952\n",
      "Epoch [19/200], Train Loss: 0.6952, Val Loss: 0.6769\n",
      "Epoch [20/200], Loss: 0.6952\n",
      "Epoch [20/200], Train Loss: 0.6952, Val Loss: 0.6734\n",
      "Epoch [21/200], Loss: 0.6924\n",
      "Epoch [21/200], Train Loss: 0.6924, Val Loss: 0.6752\n",
      "Epoch [22/200], Loss: 0.6962\n",
      "Epoch [22/200], Train Loss: 0.6962, Val Loss: 0.6707\n",
      "Epoch [23/200], Loss: 0.6858\n",
      "Epoch [23/200], Train Loss: 0.6858, Val Loss: 0.6680\n",
      "Epoch [24/200], Loss: 0.6899\n",
      "Epoch [24/200], Train Loss: 0.6899, Val Loss: 0.6716\n",
      "Epoch [25/200], Loss: 0.6830\n",
      "Epoch [25/200], Train Loss: 0.6830, Val Loss: 0.6661\n",
      "Epoch [26/200], Loss: 0.6871\n",
      "Epoch [26/200], Train Loss: 0.6871, Val Loss: 0.6657\n",
      "Epoch [27/200], Loss: 0.6860\n",
      "Epoch [27/200], Train Loss: 0.6860, Val Loss: 0.6655\n",
      "Epoch [28/200], Loss: 0.6856\n",
      "Epoch [28/200], Train Loss: 0.6856, Val Loss: 0.6644\n",
      "Epoch [29/200], Loss: 0.6788\n",
      "Epoch [29/200], Train Loss: 0.6788, Val Loss: 0.6635\n",
      "Epoch [30/200], Loss: 0.6814\n",
      "Epoch [30/200], Train Loss: 0.6814, Val Loss: 0.6630\n",
      "Epoch [31/200], Loss: 0.6820\n",
      "Epoch [31/200], Train Loss: 0.6820, Val Loss: 0.6603\n",
      "Epoch [32/200], Loss: 0.6761\n",
      "Epoch [32/200], Train Loss: 0.6761, Val Loss: 0.6585\n",
      "Epoch [33/200], Loss: 0.6771\n",
      "Epoch [33/200], Train Loss: 0.6771, Val Loss: 0.6565\n",
      "Epoch [34/200], Loss: 0.6789\n",
      "Epoch [34/200], Train Loss: 0.6789, Val Loss: 0.6578\n",
      "Epoch [35/200], Loss: 0.6752\n",
      "Epoch [35/200], Train Loss: 0.6752, Val Loss: 0.6587\n",
      "Epoch [36/200], Loss: 0.6796\n",
      "Epoch [36/200], Train Loss: 0.6796, Val Loss: 0.6548\n",
      "Epoch [37/200], Loss: 0.6770\n",
      "Epoch [37/200], Train Loss: 0.6770, Val Loss: 0.6491\n",
      "Epoch [38/200], Loss: 0.6709\n",
      "Epoch [38/200], Train Loss: 0.6709, Val Loss: 0.6533\n",
      "Epoch [39/200], Loss: 0.6736\n",
      "Epoch [39/200], Train Loss: 0.6736, Val Loss: 0.6529\n",
      "Epoch [40/200], Loss: 0.6782\n",
      "Epoch [40/200], Train Loss: 0.6782, Val Loss: 0.6524\n",
      "Epoch [41/200], Loss: 0.6722\n",
      "Epoch [41/200], Train Loss: 0.6722, Val Loss: 0.6532\n",
      "Epoch [42/200], Loss: 0.6674\n",
      "Epoch [42/200], Train Loss: 0.6674, Val Loss: 0.6527\n",
      "Epoch [43/200], Loss: 0.6698\n",
      "Epoch [43/200], Train Loss: 0.6698, Val Loss: 0.6511\n",
      "Epoch [44/200], Loss: 0.6672\n",
      "Epoch [44/200], Train Loss: 0.6672, Val Loss: 0.6467\n",
      "Epoch [45/200], Loss: 0.6728\n",
      "Epoch [45/200], Train Loss: 0.6728, Val Loss: 0.6445\n",
      "Epoch [46/200], Loss: 0.6762\n",
      "Epoch [46/200], Train Loss: 0.6762, Val Loss: 0.6463\n",
      "Epoch [47/200], Loss: 0.6689\n",
      "Epoch [47/200], Train Loss: 0.6689, Val Loss: 0.6457\n",
      "Epoch [48/200], Loss: 0.6653\n",
      "Epoch [48/200], Train Loss: 0.6653, Val Loss: 0.6425\n",
      "Epoch [49/200], Loss: 0.6675\n",
      "Epoch [49/200], Train Loss: 0.6675, Val Loss: 0.6440\n",
      "Epoch [50/200], Loss: 0.6610\n",
      "Epoch [50/200], Train Loss: 0.6610, Val Loss: 0.6417\n",
      "Epoch [51/200], Loss: 0.6631\n",
      "Epoch [51/200], Train Loss: 0.6631, Val Loss: 0.6408\n",
      "Epoch [52/200], Loss: 0.6674\n",
      "Epoch [52/200], Train Loss: 0.6674, Val Loss: 0.6423\n",
      "Epoch [53/200], Loss: 0.6594\n",
      "Epoch [53/200], Train Loss: 0.6594, Val Loss: 0.6412\n",
      "Epoch [54/200], Loss: 0.6622\n",
      "Epoch [54/200], Train Loss: 0.6622, Val Loss: 0.6373\n",
      "Epoch [55/200], Loss: 0.6586\n",
      "Epoch [55/200], Train Loss: 0.6586, Val Loss: 0.6394\n",
      "Epoch [56/200], Loss: 0.6577\n",
      "Epoch [56/200], Train Loss: 0.6577, Val Loss: 0.6409\n",
      "Epoch [57/200], Loss: 0.6530\n",
      "Epoch [57/200], Train Loss: 0.6530, Val Loss: 0.6356\n",
      "Epoch [58/200], Loss: 0.6573\n",
      "Epoch [58/200], Train Loss: 0.6573, Val Loss: 0.6364\n",
      "Epoch [59/200], Loss: 0.6580\n",
      "Epoch [59/200], Train Loss: 0.6580, Val Loss: 0.6393\n",
      "Epoch [60/200], Loss: 0.6598\n",
      "Epoch [60/200], Train Loss: 0.6598, Val Loss: 0.6361\n",
      "Epoch [61/200], Loss: 0.6575\n",
      "Epoch [61/200], Train Loss: 0.6575, Val Loss: 0.6351\n",
      "Epoch [62/200], Loss: 0.6552\n",
      "Epoch [62/200], Train Loss: 0.6552, Val Loss: 0.6347\n",
      "Epoch [63/200], Loss: 0.6517\n",
      "Epoch [63/200], Train Loss: 0.6517, Val Loss: 0.6349\n",
      "Epoch [64/200], Loss: 0.6554\n",
      "Epoch [64/200], Train Loss: 0.6554, Val Loss: 0.6345\n",
      "Epoch [65/200], Loss: 0.6525\n",
      "Epoch [65/200], Train Loss: 0.6525, Val Loss: 0.6313\n",
      "Epoch [66/200], Loss: 0.6585\n",
      "Epoch [66/200], Train Loss: 0.6585, Val Loss: 0.6312\n",
      "Epoch [67/200], Loss: 0.6498\n",
      "Epoch [67/200], Train Loss: 0.6498, Val Loss: 0.6299\n",
      "Epoch [68/200], Loss: 0.6552\n",
      "Epoch [68/200], Train Loss: 0.6552, Val Loss: 0.6299\n",
      "Epoch [69/200], Loss: 0.6497\n",
      "Epoch [69/200], Train Loss: 0.6497, Val Loss: 0.6293\n",
      "Epoch [70/200], Loss: 0.6548\n",
      "Epoch [70/200], Train Loss: 0.6548, Val Loss: 0.6289\n",
      "Epoch [71/200], Loss: 0.6509\n",
      "Epoch [71/200], Train Loss: 0.6509, Val Loss: 0.6286\n",
      "Epoch [72/200], Loss: 0.6480\n",
      "Epoch [72/200], Train Loss: 0.6480, Val Loss: 0.6265\n",
      "Epoch [73/200], Loss: 0.6529\n",
      "Epoch [73/200], Train Loss: 0.6529, Val Loss: 0.6261\n",
      "Epoch [74/200], Loss: 0.6488\n",
      "Epoch [74/200], Train Loss: 0.6488, Val Loss: 0.6270\n",
      "Epoch [75/200], Loss: 0.6452\n",
      "Epoch [75/200], Train Loss: 0.6452, Val Loss: 0.6268\n",
      "Epoch [76/200], Loss: 0.6474\n",
      "Epoch [76/200], Train Loss: 0.6474, Val Loss: 0.6263\n",
      "Epoch [77/200], Loss: 0.6461\n",
      "Epoch [77/200], Train Loss: 0.6461, Val Loss: 0.6250\n",
      "Epoch [78/200], Loss: 0.6442\n",
      "Epoch [78/200], Train Loss: 0.6442, Val Loss: 0.6236\n",
      "Epoch [79/200], Loss: 0.6436\n",
      "Epoch [79/200], Train Loss: 0.6436, Val Loss: 0.6255\n",
      "Epoch [80/200], Loss: 0.6445\n",
      "Epoch [80/200], Train Loss: 0.6445, Val Loss: 0.6236\n",
      "Epoch [81/200], Loss: 0.6433\n",
      "Epoch [81/200], Train Loss: 0.6433, Val Loss: 0.6227\n",
      "Epoch [82/200], Loss: 0.6425\n",
      "Epoch [82/200], Train Loss: 0.6425, Val Loss: 0.6213\n",
      "Epoch [83/200], Loss: 0.6447\n",
      "Epoch [83/200], Train Loss: 0.6447, Val Loss: 0.6226\n",
      "Epoch [84/200], Loss: 0.6451\n",
      "Epoch [84/200], Train Loss: 0.6451, Val Loss: 0.6198\n",
      "Epoch [85/200], Loss: 0.6376\n",
      "Epoch [85/200], Train Loss: 0.6376, Val Loss: 0.6198\n",
      "Epoch [86/200], Loss: 0.6415\n",
      "Epoch [86/200], Train Loss: 0.6415, Val Loss: 0.6189\n",
      "Epoch [87/200], Loss: 0.6433\n",
      "Epoch [87/200], Train Loss: 0.6433, Val Loss: 0.6177\n",
      "Epoch [88/200], Loss: 0.6404\n",
      "Epoch [88/200], Train Loss: 0.6404, Val Loss: 0.6163\n",
      "Epoch [89/200], Loss: 0.6395\n",
      "Epoch [89/200], Train Loss: 0.6395, Val Loss: 0.6167\n",
      "Epoch [90/200], Loss: 0.6356\n",
      "Epoch [90/200], Train Loss: 0.6356, Val Loss: 0.6208\n",
      "Epoch [91/200], Loss: 0.6398\n",
      "Epoch [91/200], Train Loss: 0.6398, Val Loss: 0.6189\n",
      "Epoch [92/200], Loss: 0.6351\n",
      "Epoch [92/200], Train Loss: 0.6351, Val Loss: 0.6173\n",
      "Epoch [93/200], Loss: 0.6397\n",
      "Epoch [93/200], Train Loss: 0.6397, Val Loss: 0.6174\n",
      "Epoch [94/200], Loss: 0.6352\n",
      "Epoch [94/200], Train Loss: 0.6352, Val Loss: 0.6185\n",
      "Epoch [95/200], Loss: 0.6392\n",
      "Epoch [95/200], Train Loss: 0.6392, Val Loss: 0.6164\n",
      "Epoch [96/200], Loss: 0.6346\n",
      "Epoch [96/200], Train Loss: 0.6346, Val Loss: 0.6126\n",
      "Epoch [97/200], Loss: 0.6362\n",
      "Epoch [97/200], Train Loss: 0.6362, Val Loss: 0.6130\n",
      "Epoch [98/200], Loss: 0.6324\n",
      "Epoch [98/200], Train Loss: 0.6324, Val Loss: 0.6116\n",
      "Epoch [99/200], Loss: 0.6291\n",
      "Epoch [99/200], Train Loss: 0.6291, Val Loss: 0.6126\n",
      "Epoch [100/200], Loss: 0.6361\n",
      "Epoch [100/200], Train Loss: 0.6361, Val Loss: 0.6148\n",
      "Epoch [101/200], Loss: 0.6363\n",
      "Epoch [101/200], Train Loss: 0.6363, Val Loss: 0.6123\n",
      "Epoch [102/200], Loss: 0.6332\n",
      "Epoch [102/200], Train Loss: 0.6332, Val Loss: 0.6122\n",
      "Epoch [103/200], Loss: 0.6325\n",
      "Epoch [103/200], Train Loss: 0.6325, Val Loss: 0.6117\n",
      "Epoch [104/200], Loss: 0.6299\n",
      "Epoch [104/200], Train Loss: 0.6299, Val Loss: 0.6119\n",
      "Epoch [105/200], Loss: 0.6316\n",
      "Epoch [105/200], Train Loss: 0.6316, Val Loss: 0.6125\n",
      "Epoch [106/200], Loss: 0.6288\n",
      "Epoch [106/200], Train Loss: 0.6288, Val Loss: 0.6114\n",
      "Epoch [107/200], Loss: 0.6302\n",
      "Epoch [107/200], Train Loss: 0.6302, Val Loss: 0.6102\n",
      "Epoch [108/200], Loss: 0.6281\n",
      "Epoch [108/200], Train Loss: 0.6281, Val Loss: 0.6101\n",
      "Epoch [109/200], Loss: 0.6307\n",
      "Epoch [109/200], Train Loss: 0.6307, Val Loss: 0.6067\n",
      "Epoch [110/200], Loss: 0.6249\n",
      "Epoch [110/200], Train Loss: 0.6249, Val Loss: 0.6096\n",
      "Epoch [111/200], Loss: 0.6292\n",
      "Epoch [111/200], Train Loss: 0.6292, Val Loss: 0.6110\n",
      "Epoch [112/200], Loss: 0.6264\n",
      "Epoch [112/200], Train Loss: 0.6264, Val Loss: 0.6090\n",
      "Epoch [113/200], Loss: 0.6272\n",
      "Epoch [113/200], Train Loss: 0.6272, Val Loss: 0.6089\n",
      "Epoch [114/200], Loss: 0.6279\n",
      "Epoch [114/200], Train Loss: 0.6279, Val Loss: 0.6079\n",
      "Epoch [115/200], Loss: 0.6198\n",
      "Epoch [115/200], Train Loss: 0.6198, Val Loss: 0.6080\n",
      "Epoch [116/200], Loss: 0.6234\n",
      "Epoch [116/200], Train Loss: 0.6234, Val Loss: 0.6072\n",
      "Epoch [117/200], Loss: 0.6265\n",
      "Epoch [117/200], Train Loss: 0.6265, Val Loss: 0.6076\n",
      "Epoch [118/200], Loss: 0.6221\n",
      "Epoch [118/200], Train Loss: 0.6221, Val Loss: 0.6076\n",
      "Epoch [119/200], Loss: 0.6271\n",
      "Epoch [119/200], Train Loss: 0.6271, Val Loss: 0.6047\n",
      "Epoch [120/200], Loss: 0.6252\n",
      "Epoch [120/200], Train Loss: 0.6252, Val Loss: 0.6059\n",
      "Epoch [121/200], Loss: 0.6230\n",
      "Epoch [121/200], Train Loss: 0.6230, Val Loss: 0.6081\n",
      "Epoch [122/200], Loss: 0.6226\n",
      "Epoch [122/200], Train Loss: 0.6226, Val Loss: 0.6039\n",
      "Epoch [123/200], Loss: 0.6237\n",
      "Epoch [123/200], Train Loss: 0.6237, Val Loss: 0.6037\n",
      "Epoch [124/200], Loss: 0.6234\n",
      "Epoch [124/200], Train Loss: 0.6234, Val Loss: 0.6055\n",
      "Epoch [125/200], Loss: 0.6159\n",
      "Epoch [125/200], Train Loss: 0.6159, Val Loss: 0.6048\n",
      "Epoch [126/200], Loss: 0.6211\n",
      "Epoch [126/200], Train Loss: 0.6211, Val Loss: 0.6033\n",
      "Epoch [127/200], Loss: 0.6207\n",
      "Epoch [127/200], Train Loss: 0.6207, Val Loss: 0.6034\n",
      "Epoch [128/200], Loss: 0.6197\n",
      "Epoch [128/200], Train Loss: 0.6197, Val Loss: 0.6051\n",
      "Epoch [129/200], Loss: 0.6205\n",
      "Epoch [129/200], Train Loss: 0.6205, Val Loss: 0.6038\n",
      "Epoch [130/200], Loss: 0.6246\n",
      "Epoch [130/200], Train Loss: 0.6246, Val Loss: 0.6016\n",
      "Epoch [131/200], Loss: 0.6195\n",
      "Epoch [131/200], Train Loss: 0.6195, Val Loss: 0.6029\n",
      "Epoch [132/200], Loss: 0.6193\n",
      "Epoch [132/200], Train Loss: 0.6193, Val Loss: 0.5989\n",
      "Epoch [133/200], Loss: 0.6197\n",
      "Epoch [133/200], Train Loss: 0.6197, Val Loss: 0.6014\n",
      "Epoch [134/200], Loss: 0.6198\n",
      "Epoch [134/200], Train Loss: 0.6198, Val Loss: 0.6003\n",
      "Epoch [135/200], Loss: 0.6226\n",
      "Epoch [135/200], Train Loss: 0.6226, Val Loss: 0.5997\n",
      "Epoch [136/200], Loss: 0.6177\n",
      "Epoch [136/200], Train Loss: 0.6177, Val Loss: 0.6003\n",
      "Epoch [137/200], Loss: 0.6168\n",
      "Epoch [137/200], Train Loss: 0.6168, Val Loss: 0.6001\n",
      "Epoch [138/200], Loss: 0.6150\n",
      "Epoch [138/200], Train Loss: 0.6150, Val Loss: 0.5975\n",
      "Epoch [139/200], Loss: 0.6242\n",
      "Epoch [139/200], Train Loss: 0.6242, Val Loss: 0.5997\n",
      "Epoch [140/200], Loss: 0.6135\n",
      "Epoch [140/200], Train Loss: 0.6135, Val Loss: 0.6008\n",
      "Epoch [141/200], Loss: 0.6162\n",
      "Epoch [141/200], Train Loss: 0.6162, Val Loss: 0.5986\n",
      "Epoch [142/200], Loss: 0.6127\n",
      "Epoch [142/200], Train Loss: 0.6127, Val Loss: 0.6001\n",
      "Epoch [143/200], Loss: 0.6187\n",
      "Epoch [143/200], Train Loss: 0.6187, Val Loss: 0.5990\n",
      "Epoch [144/200], Loss: 0.6149\n",
      "Epoch [144/200], Train Loss: 0.6149, Val Loss: 0.5981\n",
      "Epoch [145/200], Loss: 0.6144\n",
      "Epoch [145/200], Train Loss: 0.6144, Val Loss: 0.5974\n",
      "Epoch [146/200], Loss: 0.6121\n",
      "Epoch [146/200], Train Loss: 0.6121, Val Loss: 0.5976\n",
      "Epoch [147/200], Loss: 0.6125\n",
      "Epoch [147/200], Train Loss: 0.6125, Val Loss: 0.5973\n",
      "Epoch [148/200], Loss: 0.6203\n",
      "Epoch [148/200], Train Loss: 0.6203, Val Loss: 0.5970\n",
      "Epoch [149/200], Loss: 0.6094\n",
      "Epoch [149/200], Train Loss: 0.6094, Val Loss: 0.5963\n",
      "Epoch [150/200], Loss: 0.6094\n",
      "Epoch [150/200], Train Loss: 0.6094, Val Loss: 0.5949\n",
      "Epoch [151/200], Loss: 0.6101\n",
      "Epoch [151/200], Train Loss: 0.6101, Val Loss: 0.5966\n",
      "Epoch [152/200], Loss: 0.6112\n",
      "Epoch [152/200], Train Loss: 0.6112, Val Loss: 0.5934\n",
      "Epoch [153/200], Loss: 0.6042\n",
      "Epoch [153/200], Train Loss: 0.6042, Val Loss: 0.5970\n",
      "Epoch [154/200], Loss: 0.6067\n",
      "Epoch [154/200], Train Loss: 0.6067, Val Loss: 0.5950\n",
      "Epoch [155/200], Loss: 0.6109\n",
      "Epoch [155/200], Train Loss: 0.6109, Val Loss: 0.5962\n",
      "Epoch [156/200], Loss: 0.6104\n",
      "Epoch [156/200], Train Loss: 0.6104, Val Loss: 0.5939\n",
      "Epoch [157/200], Loss: 0.6121\n",
      "Epoch [157/200], Train Loss: 0.6121, Val Loss: 0.5927\n",
      "Epoch [158/200], Loss: 0.6105\n",
      "Epoch [158/200], Train Loss: 0.6105, Val Loss: 0.5971\n",
      "Epoch [159/200], Loss: 0.6088\n",
      "Epoch [159/200], Train Loss: 0.6088, Val Loss: 0.5952\n",
      "Epoch [160/200], Loss: 0.6052\n",
      "Epoch [160/200], Train Loss: 0.6052, Val Loss: 0.5931\n",
      "Epoch [161/200], Loss: 0.6062\n",
      "Epoch [161/200], Train Loss: 0.6062, Val Loss: 0.5921\n",
      "Epoch [162/200], Loss: 0.6149\n",
      "Epoch [162/200], Train Loss: 0.6149, Val Loss: 0.5949\n",
      "Epoch [163/200], Loss: 0.6109\n",
      "Epoch [163/200], Train Loss: 0.6109, Val Loss: 0.5934\n",
      "Epoch [164/200], Loss: 0.6053\n",
      "Epoch [164/200], Train Loss: 0.6053, Val Loss: 0.5936\n",
      "Epoch [165/200], Loss: 0.6110\n",
      "Epoch [165/200], Train Loss: 0.6110, Val Loss: 0.5930\n",
      "Epoch [166/200], Loss: 0.6069\n",
      "Epoch [166/200], Train Loss: 0.6069, Val Loss: 0.5945\n",
      "Epoch [167/200], Loss: 0.6055\n",
      "Epoch [167/200], Train Loss: 0.6055, Val Loss: 0.5945\n",
      "Epoch [168/200], Loss: 0.6028\n",
      "Epoch [168/200], Train Loss: 0.6028, Val Loss: 0.5945\n",
      "Epoch [169/200], Loss: 0.6031\n",
      "Epoch [169/200], Train Loss: 0.6031, Val Loss: 0.5922\n",
      "Epoch [170/200], Loss: 0.6033\n",
      "Epoch [170/200], Train Loss: 0.6033, Val Loss: 0.5937\n",
      "Epoch [171/200], Loss: 0.6052\n",
      "Epoch [171/200], Train Loss: 0.6052, Val Loss: 0.5942\n",
      "Epoch [172/200], Loss: 0.6062\n",
      "Epoch [172/200], Train Loss: 0.6062, Val Loss: 0.5908\n",
      "Epoch [173/200], Loss: 0.6115\n",
      "Epoch [173/200], Train Loss: 0.6115, Val Loss: 0.5897\n",
      "Epoch [174/200], Loss: 0.6055\n",
      "Epoch [174/200], Train Loss: 0.6055, Val Loss: 0.5913\n",
      "Epoch [175/200], Loss: 0.6059\n",
      "Epoch [175/200], Train Loss: 0.6059, Val Loss: 0.5890\n",
      "Epoch [176/200], Loss: 0.6074\n",
      "Epoch [176/200], Train Loss: 0.6074, Val Loss: 0.5908\n",
      "Epoch [177/200], Loss: 0.6023\n",
      "Epoch [177/200], Train Loss: 0.6023, Val Loss: 0.5903\n",
      "Epoch [178/200], Loss: 0.6045\n",
      "Epoch [178/200], Train Loss: 0.6045, Val Loss: 0.5923\n",
      "Epoch [179/200], Loss: 0.6004\n",
      "Epoch [179/200], Train Loss: 0.6004, Val Loss: 0.5903\n",
      "Epoch [180/200], Loss: 0.6030\n",
      "Epoch [180/200], Train Loss: 0.6030, Val Loss: 0.5894\n",
      "Epoch [181/200], Loss: 0.6042\n",
      "Epoch [181/200], Train Loss: 0.6042, Val Loss: 0.5909\n",
      "Epoch [182/200], Loss: 0.6019\n",
      "Epoch [182/200], Train Loss: 0.6019, Val Loss: 0.5898\n",
      "Epoch [183/200], Loss: 0.6043\n",
      "Epoch [183/200], Train Loss: 0.6043, Val Loss: 0.5906\n",
      "Epoch [184/200], Loss: 0.6021\n",
      "Epoch [184/200], Train Loss: 0.6021, Val Loss: 0.5891\n",
      "Epoch [185/200], Loss: 0.5993\n",
      "Epoch [185/200], Train Loss: 0.5993, Val Loss: 0.5904\n",
      "Epoch [186/200], Loss: 0.6016\n",
      "Epoch [186/200], Train Loss: 0.6016, Val Loss: 0.5891\n",
      "Epoch [187/200], Loss: 0.6006\n",
      "Epoch [187/200], Train Loss: 0.6006, Val Loss: 0.5887\n",
      "Epoch [188/200], Loss: 0.6015\n",
      "Epoch [188/200], Train Loss: 0.6015, Val Loss: 0.5893\n",
      "Epoch [189/200], Loss: 0.6049\n",
      "Epoch [189/200], Train Loss: 0.6049, Val Loss: 0.5881\n",
      "Epoch [190/200], Loss: 0.6006\n",
      "Epoch [190/200], Train Loss: 0.6006, Val Loss: 0.5875\n",
      "Epoch [191/200], Loss: 0.6024\n",
      "Epoch [191/200], Train Loss: 0.6024, Val Loss: 0.5895\n",
      "Epoch [192/200], Loss: 0.6008\n",
      "Epoch [192/200], Train Loss: 0.6008, Val Loss: 0.5901\n",
      "Epoch [193/200], Loss: 0.5970\n",
      "Epoch [193/200], Train Loss: 0.5970, Val Loss: 0.5883\n",
      "Epoch [194/200], Loss: 0.5978\n",
      "Epoch [194/200], Train Loss: 0.5978, Val Loss: 0.5887\n",
      "Epoch [195/200], Loss: 0.5937\n",
      "Epoch [195/200], Train Loss: 0.5937, Val Loss: 0.5864\n",
      "Epoch [196/200], Loss: 0.5960\n",
      "Epoch [196/200], Train Loss: 0.5960, Val Loss: 0.5860\n",
      "Epoch [197/200], Loss: 0.5946\n",
      "Epoch [197/200], Train Loss: 0.5946, Val Loss: 0.5872\n",
      "Epoch [198/200], Loss: 0.5969\n",
      "Epoch [198/200], Train Loss: 0.5969, Val Loss: 0.5867\n",
      "Epoch [199/200], Loss: 0.5948\n",
      "Epoch [199/200], Train Loss: 0.5948, Val Loss: 0.5873\n",
      "Epoch [200/200], Loss: 0.5982\n",
      "Epoch [200/200], Train Loss: 0.5982, Val Loss: 0.5862\n"
     ]
    },
    {
     "data": {
      "image/png": "[encoded data removed]",
      "text/plain": [
       "<Figure size 1000x600 with 1 Axes>"
      ]
     },
     "metadata": {},
     "output_type": "display_data"
    }
   ],
   "source": [
    "best_params=study.best_params\n",
    "model = DNN_5(input_dim=X_train_tensor.shape[1],\n",
    "              dropout1=best_params[\"dropout1\"],\n",
    "              dropout2=best_params[\"dropout2\"],\n",
    "              ).to(device)\n",
    "# 最適化と訓練を実行\n",
    "optimizer = optim.Adam(model.parameters(), lr=best_params[\"learning_rate\"],weight_decay=best_params[\"weight_decay\"])\n",
    "criterion = nn.BCELoss()\n",
    "\n",
    "num_epochs=200\n",
    "train_losses = []\n",
    "val_losses = []\n",
    "\n",
    "model.train()\n",
    "for epoch in range(num_epochs):\n",
    "    epoch_train_loss = 0\n",
    "    epoch_val_loss = 0\n",
    "\n",
    "    for X_batch, y_batch in train_loader:\n",
    "        X_batch, y_batch = X_batch.to(device), y_batch.to(device)\n",
    "        optimizer.zero_grad()\n",
    "        outputs = model(X_batch).squeeze()\n",
    "        loss = criterion(outputs, y_batch.squeeze())\n",
    "        loss.backward()\n",
    "        optimizer.step()\n",
    "        epoch_train_loss += loss.item()\n",
    "    avg_train_loss = epoch_train_loss / len(train_loader)\n",
    "    train_losses.append(avg_train_loss)\n",
    "    print(f'Epoch [{epoch+1}/{num_epochs}], Loss: {avg_train_loss:.4f}')\n",
    "\n",
    "    if val_loader is not None:\n",
    "        model.eval()  \n",
    "        with torch.no_grad():\n",
    "            for X_val, y_val in val_loader:\n",
    "                X_val, y_val = X_val.to(device), y_val.to(device)\n",
    "                val_outputs = model(X_val).squeeze()\n",
    "                val_loss = criterion(val_outputs, y_val.squeeze())\n",
    "                epoch_val_loss += val_loss.item()\n",
    "\n",
    "        avg_val_loss = epoch_val_loss / len(val_loader)\n",
    "        val_losses.append(avg_val_loss)\n",
    "        model.train()  \n",
    "\n",
    "    if val_loader is not None:\n",
    "        print(f\"Epoch [{epoch+1}/{num_epochs}], Train Loss: {avg_train_loss:.4f}, Val Loss: {avg_val_loss:.4f}\")\n",
    "    else:\n",
    "        print(f\"Epoch [{epoch+1}/{num_epochs}], Train Loss: {avg_train_loss:.4f}\")\n",
    "\n",
    "plt.figure(figsize=(10, 6))\n",
    "plt.plot(range(1, num_epochs + 1), train_losses, label='Train Loss')\n",
    "if val_losses:\n",
    "    plt.plot(range(1, num_epochs + 1), val_losses, label='Validation Loss')\n",
    "plt.xlabel('Epoch')\n",
    "plt.ylabel('Loss')\n",
    "plt.title('Learning Curve for DNN5')\n",
    "plt.legend()\n",
    "plt.grid()\n",
    "plt.show()"
   ]
  },
  {
   "cell_type": "code",
   "execution_count": 10,
   "metadata": {},
   "outputs": [
    {
     "name": "stdout",
     "output_type": "stream",
     "text": [
      "Accuracy: 60.48%\n",
      "Precision: 0.4812\n",
      "Recall: 0.7829\n",
      "F1 Score: 0.5960\n",
      "Matthews Correlation Coefficient: 0.2790\n",
      "Specificity: 0.4991\n"
     ]
    },
    {
     "data": {
      "image/png": "[encoded data removed]",
      "text/plain": [
       "<Figure size 640x480 with 1 Axes>"
      ]
     },
     "metadata": {},
     "output_type": "display_data"
    },
    {
     "data": {
      "image/png": "[encoded data removed]",
      "text/plain": [
       "<Figure size 640x480 with 1 Axes>"
      ]
     },
     "metadata": {},
     "output_type": "display_data"
    },
    {
     "data": {
      "image/png": "[encoded data removed]",
      "text/plain": [
       "<Figure size 640x480 with 1 Axes>"
      ]
     },
     "metadata": {},
     "output_type": "display_data"
    }
   ],
   "source": [
    "model.eval()\n",
    "with torch.no_grad():\n",
    "    X_test_tensor = X_test_tensor.to(device)\n",
    "    y_test_tensor = y_test_tensor.to(device)\n",
    "\n",
    "    # 予測と確率\n",
    "    test_outputs = model(X_test_tensor).squeeze()\n",
    "    predictions = (test_outputs >0.49).float()\n",
    "    y_true = y_test_tensor.cpu().numpy()\n",
    "    y_pred = predictions.cpu().numpy()\n",
    "    y_prob = test_outputs.cpu().numpy()\n",
    "\n",
    "# 評価指標\n",
    "    accuracy = accuracy_score(y_true, y_pred)\n",
    "    precision = precision_score(y_true, y_pred)\n",
    "    recall = recall_score(y_true, y_pred)\n",
    "    f1 = f1_score(y_true, y_pred)\n",
    "    mcc = matthews_corrcoef(y_true, y_pred)\n",
    "    specificity = recall_score(y_true, y_pred, pos_label=0)  \n",
    "    print(f'Accuracy: {accuracy * 100:.2f}%')\n",
    "    print(f'Precision: {precision:.4f}')\n",
    "    print(f'Recall: {recall:.4f}')\n",
    "    print(f'F1 Score: {f1:.4f}')\n",
    "    print(f'Matthews Correlation Coefficient: {mcc:.4f}')\n",
    "    print(f'Specificity: {specificity:.4f}')\n",
    "\n",
    "    # 混同行列（割合表示）\n",
    "    cm = confusion_matrix(y_true, y_pred, normalize='true')\n",
    "    sns.heatmap(cm, annot=True, fmt=\".2%\", cmap=\"Blues\", cbar=False)\n",
    "    plt.xlabel(\"Predicted\")\n",
    "    plt.ylabel(\"Actual\")\n",
    "    plt.title(f\"Confusion Matrix (Normalized)\")\n",
    "    plt.show()\n",
    "\n",
    "    # ROC曲線とAUC\n",
    "    fpr, tpr, thresholds = roc_curve(y_true, y_prob)\n",
    "    roc_auc = auc(fpr, tpr)\n",
    "    plt.plot(fpr, tpr, label=f'ROC curve (AUC = {roc_auc:.2f})')\n",
    "    plt.plot([0, 1], [0, 1], 'k--') \n",
    "    plt.xlabel('False Positive Rate')\n",
    "    plt.ylabel('True Positive Rate')\n",
    "    plt.title(f'ROC Curve - Model ')\n",
    "    plt.legend(loc=\"lower right\")\n",
    "    plt.show()\n",
    "\n",
    "    # Precision-Recall曲線\n",
    "    precision_curve, recall_curve, pr_thresholds = precision_recall_curve(y_true, y_prob)\n",
    "    pr_auc = auc(recall_curve, precision_curve)\n",
    "    plt.plot(recall_curve, precision_curve, label=f'PR curve (AUC = {pr_auc:.2f})')\n",
    "    plt.xlabel('Recall')\n",
    "    plt.ylabel('Precision')\n",
    "    plt.title(f'Precision-Recall Curve ')\n",
    "    plt.legend(loc=\"lower left\")\n",
    "    plt.show()    "
   ]
  },
  {
   "cell_type": "code",
   "execution_count": 11,
   "metadata": {},
   "outputs": [],
   "source": [
    "# モデルと構造を保存\n",
    "torch.save(model.state_dict(), 'model_params/DNN_5.pth')\n",
    "\n",
    "\n"
   ]
  },
  {
   "cell_type": "code",
   "execution_count": 12,
   "metadata": {},
   "outputs": [
    {
     "name": "stdout",
     "output_type": "stream",
     "text": [
      "----------------------------------------------------------------\n",
      "        Layer (type)               Output Shape         Param #\n",
      "================================================================\n",
      "            Linear-1                   [-1, 32]             960\n",
      "       BatchNorm1d-2                   [-1, 32]              64\n",
      "            Linear-3                   [-1, 16]             528\n",
      "       BatchNorm1d-4                   [-1, 16]              32\n",
      "            Linear-5                    [-1, 8]             136\n",
      "       BatchNorm1d-6                    [-1, 8]              16\n",
      "           Dropout-7                    [-1, 8]               0\n",
      "            Linear-8                    [-1, 4]              36\n",
      "       BatchNorm1d-9                    [-1, 4]               8\n",
      "          Dropout-10                    [-1, 4]               0\n",
      "           Linear-11                    [-1, 1]               5\n",
      "================================================================\n",
      "Total params: 1,785\n",
      "Trainable params: 1,785\n",
      "Non-trainable params: 0\n",
      "----------------------------------------------------------------\n",
      "Input size (MB): 0.00\n",
      "Forward/backward pass size (MB): 0.00\n",
      "Params size (MB): 0.01\n",
      "Estimated Total Size (MB): 0.01\n",
      "----------------------------------------------------------------\n"
     ]
    }
   ],
   "source": [
    "from torchsummary import summary\n",
    "summary(model, input_size=(X_train_tensor.shape[1],))"
   ]
  },
  {
   "cell_type": "code",
   "execution_count": null,
   "metadata": {},
   "outputs": [],
   "source": []
  }
 ],
 "metadata": {
  "kernelspec": {
   "display_name": "torch",
   "language": "python",
   "name": "python3"
  },
  "language_info": {
   "codemirror_mode": {
    "name": "ipython",
    "version": 3
   },
   "file_extension": ".py",
   "mimetype": "text/x-python",
   "name": "python",
   "nbconvert_exporter": "python",
   "pygments_lexer": "ipython3",
   "version": "3.12.7"
  }
 },
 "nbformat": 4,
 "nbformat_minor": 2
}
