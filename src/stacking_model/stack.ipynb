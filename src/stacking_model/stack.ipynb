{
 "cells": [
  {
   "cell_type": "code",
   "execution_count": 1,
   "metadata": {},
   "outputs": [],
   "source": [
    "import torch\n",
    "import torch.nn as nn\n",
    "import torch.nn.functional as F\n",
    "import torch.optim as optim\n",
    "import numpy as np\n",
    "import json\n",
    "\n",
    "from sklearn.ensemble import RandomForestClassifier\n",
    "from sklearn.svm import SVC\n",
    "\n",
    "from sklearn.preprocessing import MinMaxScaler, StandardScaler\n",
    "from sklearn.decomposition import PCA\n",
    "from sklearn.manifold import TSNE\n",
    "from sklearn.cluster import KMeans\n",
    "from scipy.spatial.distance import cdist\n",
    "\n",
    "import optuna\n",
    "\n",
    "import pandas as pd\n",
    "import matplotlib.pyplot as plt\n",
    "import seaborn as sns\n",
    "\n",
    "from sklearn.model_selection import train_test_split\n",
    "from sklearn.metrics import confusion_matrix,accuracy_score, precision_score, recall_score, f1_score, confusion_matrix, roc_curve, auc,matthews_corrcoef, precision_recall_curve,roc_auc_score\n",
    "\n",
    "\n"
   ]
  },
  {
   "cell_type": "code",
   "execution_count": 2,
   "metadata": {},
   "outputs": [],
   "source": [
    "with open(\"optim_param/optim_DNN_1_params.json\", \"r\") as f:\n",
    "    DNN_1_params = json.load(f)\n",
    "\n",
    "with open(\"optim_param/optim_DNN_2_params.json\", \"r\") as f:\n",
    "    DNN_2_params = json.load(f)\n",
    "\n",
    "with open(\"optim_param/optim_DNN_3_params.json\", \"r\") as f:\n",
    "    DNN_3_params = json.load(f)\n",
    "\n",
    "with open(\"optim_param/optim_DNN_4_params.json\", \"r\") as f:\n",
    "    DNN_4_params = json.load(f)\n",
    "\n",
    "with open(\"optim_param/optim_DNN_5_params.json\", \"r\") as f:\n",
    "    DNN_5_params = json.load(f)\n",
    "\n",
    "with open(\"optim_param/optim_DNN_6_params.json\", \"r\") as f:\n",
    "    DNN_6_params = json.load(f)\n",
    "\n",
    "with open(\"optim_param/optim_DNN_7_params.json\", \"r\") as f:\n",
    "    DNN_7_params = json.load(f)\n",
    "\n",
    "with open(\"optim_param/optim_ResNet_params.json\", \"r\") as f:\n",
    "    ResNet_params = json.load(f)\n",
    "\n",
    "with open(\"optim_param/optim_FTTansformer_params.json\", \"r\") as f:\n",
    "    FTTransformer_params = json.load(f)"
   ]
  },
  {
   "cell_type": "code",
   "execution_count": 3,
   "metadata": {},
   "outputs": [],
   "source": [
    "class DNN_1(nn.Module):\n",
    "    def __init__(self, input_dim, dropout_rate=DNN_1_params[\"dropout\"]):\n",
    "        super(DNN_1, self).__init__()\n",
    "        self.layer1 = nn.Linear(input_dim, 32)\n",
    "        self.bn1 = nn.BatchNorm1d(32)\n",
    "        self.layer2 = nn.Linear(32, 16)\n",
    "        self.bn2 = nn.BatchNorm1d(16)\n",
    "        self.layer3 = nn.Linear(16, 8)\n",
    "        self.bn3 = nn.BatchNorm1d(8)\n",
    "        self.layer4 = nn.Linear(8, 4)\n",
    "        self.bn4 = nn.BatchNorm1d(4)\n",
    "        self.output_layer = nn.Linear(4, 1)\n",
    "\n",
    "        self.dropout = nn.Dropout(dropout_rate)\n",
    "        \n",
    "    def forward(self, x):\n",
    "        x = torch.relu(self.bn1(self.layer1(x)))  \n",
    "        x = self.dropout(x)\n",
    "        \n",
    "        x = torch.relu(self.bn2(self.layer2(x)))  \n",
    "        x = self.dropout(x)\n",
    "\n",
    "        x = torch.relu(self.bn3(self.layer3(x)))  \n",
    "        x = self.dropout(x)\n",
    "\n",
    "        x = torch.relu(self.bn4(self.layer4(x))) \n",
    "        x = self.dropout(x)\n",
    "\n",
    "        x = torch.sigmoid(self.output_layer(x)) \n",
    "        return x"
   ]
  },
  {
   "cell_type": "code",
   "execution_count": 4,
   "metadata": {},
   "outputs": [],
   "source": [
    "class DNN_2(nn.Module):\n",
    "    def __init__(self, input_dim,dropout1=DNN_2_params[\"dropout1\"],dropout2=DNN_2_params[\"dropout2\"],dropout3=DNN_2_params[\"dropout3\"],dropout4=DNN_2_params[\"dropout4\"]):\n",
    "        super(DNN_2, self).__init__()\n",
    "        self.layer1 = nn.Linear(input_dim,32)\n",
    "        self.layer2 = nn.Linear(32,16)\n",
    "        self.layer3 = nn.Linear(16,8)\n",
    "        self.layer4 = nn.Linear(8,4)\n",
    "        self.output_layer = nn.Linear(4, 1)\n",
    "\n",
    "        self.bn1=nn.BatchNorm1d(32)\n",
    "        self.bn2=nn.BatchNorm1d(16)\n",
    "        self.bn3=nn.BatchNorm1d(8)\n",
    "        self.bn4=nn.BatchNorm1d(4)\n",
    "\n",
    "\n",
    "        self.dropout1 = nn.Dropout(dropout1)\n",
    "        self.dropout2 = nn.Dropout(dropout2)\n",
    "        self.dropout3 = nn.Dropout(dropout3)\n",
    "        self.dropout4 = nn.Dropout(dropout4)\n",
    "\n",
    "        \n",
    "        \n",
    "    def forward(self, x):\n",
    "        x = torch.relu(self.bn1(self.layer1(x)))\n",
    "        x = self.dropout1(x)\n",
    "        \n",
    "        x = torch.relu(self.bn2(self.layer2(x)))\n",
    "        x = self.dropout2(x)\n",
    "\n",
    "        x = torch.relu(self.bn3(self.layer3(x)))\n",
    "        x = self.dropout3(x)\n",
    "\n",
    "        x = torch.relu(self.bn4(self.layer4(x)))\n",
    "        x = self.dropout4(x)\n",
    "\n",
    "        x = torch.sigmoid(self.output_layer(x)) \n",
    "        return x\n",
    "    "
   ]
  },
  {
   "cell_type": "code",
   "execution_count": 5,
   "metadata": {},
   "outputs": [],
   "source": [
    "class DNN_3(nn.Module):\n",
    "    def __init__(self, input_dim,dropout1=DNN_3_params[\"dropout1\"],dropout2=DNN_3_params[\"dropout2\"]):\n",
    "        super(DNN_3, self).__init__()\n",
    "        self.layer1 = nn.Linear(input_dim,32)\n",
    "        self.layer2 = nn.Linear(32,16)\n",
    "        self.layer3 = nn.Linear(16, 8)\n",
    "        self.layer4 = nn.Linear(8, 4)\n",
    "        self.output_layer = nn.Linear(4, 1)\n",
    "\n",
    "        self.bn1=nn.BatchNorm1d(32)\n",
    "        self.bn2=nn.BatchNorm1d(16)\n",
    "        self.bn3=nn.BatchNorm1d(8)\n",
    "        self.bn4=nn.BatchNorm1d(4)\n",
    "\n",
    "        self.dropout1 = nn.Dropout(dropout1)\n",
    "        self.dropout2 = nn.Dropout(dropout2)        \n",
    "        \n",
    "    def forward(self, x):\n",
    "        x = torch.relu(self.bn1(self.layer1(x)))\n",
    "        \n",
    "        x = torch.relu(self.bn2(self.layer2(x)))\n",
    "        x = self.dropout1(x)\n",
    "\n",
    "        x = torch.relu(self.bn3(self.layer3(x)))\n",
    "        x = self.dropout2(x)\n",
    "\n",
    "        x = torch.relu(self.bn4(self.layer4(x)))\n",
    "    \n",
    "\n",
    "        x = torch.sigmoid(self.output_layer(x)) \n",
    "        return x\n",
    "    "
   ]
  },
  {
   "cell_type": "code",
   "execution_count": 6,
   "metadata": {},
   "outputs": [],
   "source": [
    "class DNN_4(nn.Module):\n",
    "    def __init__(self, input_dim,dropout1=DNN_4_params[\"dropout1\"],dropout2=DNN_4_params[\"dropout2\"]):\n",
    "        super(DNN_4, self).__init__()\n",
    "        self.layer1 = nn.Linear(input_dim,32)\n",
    "        self.layer2 = nn.Linear(32,16)\n",
    "        self.layer3 = nn.Linear(16, 8)\n",
    "        self.layer4 = nn.Linear(8, 4)\n",
    "        self.output_layer = nn.Linear(4, 1)\n",
    "\n",
    "        self.bn1=nn.BatchNorm1d(32)\n",
    "        self.bn2=nn.BatchNorm1d(16)\n",
    "        self.bn3=nn.BatchNorm1d(8)\n",
    "        self.bn4=nn.BatchNorm1d(4)\n",
    "\n",
    "        self.dropout1 = nn.Dropout(dropout1)\n",
    "        self.dropout2 = nn.Dropout(dropout2)\n",
    "        \n",
    "        \n",
    "    def forward(self, x):\n",
    "        x = torch.relu(self.bn1(self.layer1(x)))\n",
    "        x = self.dropout1(x)\n",
    "        \n",
    "        x = torch.relu(self.bn2(self.layer2(x)))\n",
    "    \n",
    "\n",
    "        x = torch.relu(self.bn3(self.layer3(x)))\n",
    "        \n",
    "\n",
    "        x = torch.relu(self.bn4(self.layer4(x)))\n",
    "        x = self.dropout2(x)\n",
    "\n",
    "        x = torch.sigmoid(self.output_layer(x)) \n",
    "        return x\n",
    "    "
   ]
  },
  {
   "cell_type": "code",
   "execution_count": 7,
   "metadata": {},
   "outputs": [],
   "source": [
    "class DNN_5(nn.Module):\n",
    "    def __init__(self, input_dim,dropout1=DNN_5_params[\"dropout1\"],dropout2=DNN_5_params[\"dropout2\"]):\n",
    "        super(DNN_5, self).__init__()\n",
    "        self.layer1 = nn.Linear(input_dim,32)\n",
    "        self.layer2 = nn.Linear(32,16)\n",
    "        self.layer3 = nn.Linear(16, 8)\n",
    "        self.layer4 = nn.Linear(8, 4)\n",
    "        self.output_layer = nn.Linear(4, 1)\n",
    "\n",
    "        self.bn1=nn.BatchNorm1d(32)\n",
    "        self.bn2=nn.BatchNorm1d(16)\n",
    "        self.bn3=nn.BatchNorm1d(8)\n",
    "        self.bn4=nn.BatchNorm1d(4)\n",
    "\n",
    "        self.dropout1 = nn.Dropout(dropout1)\n",
    "        self.dropout2 = nn.Dropout(dropout2)        \n",
    "        \n",
    "    def forward(self, x):\n",
    "        x = torch.relu(self.bn1(self.layer1(x)))\n",
    "        \n",
    "        x = torch.relu(self.bn2(self.layer2(x)))\n",
    "        \n",
    "\n",
    "        x = torch.relu(self.bn3(self.layer3(x)))\n",
    "        x = self.dropout1(x)\n",
    "\n",
    "        x = torch.relu(self.bn4(self.layer4(x)))\n",
    "        x = self.dropout2(x)\n",
    "\n",
    "        x = torch.sigmoid(self.output_layer(x)) \n",
    "        return x\n",
    "    "
   ]
  },
  {
   "cell_type": "code",
   "execution_count": 8,
   "metadata": {},
   "outputs": [],
   "source": [
    "class DNN_6(nn.Module):\n",
    "    def __init__(self, input_dim,dropout1=DNN_6_params[\"dropout1\"],dropout2=DNN_6_params[\"dropout2\"]):\n",
    "        super(DNN_6, self).__init__()\n",
    "        self.layer1 = nn.Linear(input_dim,32)\n",
    "        self.layer2 = nn.Linear(32,16)\n",
    "        self.layer3 = nn.Linear(16, 8)\n",
    "        self.layer4 = nn.Linear(8, 4)\n",
    "        self.output_layer = nn.Linear(4, 1)\n",
    "\n",
    "        self.bn1=nn.BatchNorm1d(32)\n",
    "        self.bn2=nn.BatchNorm1d(16)\n",
    "        self.bn3=nn.BatchNorm1d(8)\n",
    "        self.bn4=nn.BatchNorm1d(4)\n",
    "\n",
    "        self.dropout1 = nn.Dropout(dropout1)\n",
    "        self.dropout2 = nn.Dropout(dropout2)\n",
    "        \n",
    "    def forward(self, x):\n",
    "        x = torch.relu(self.bn1(self.layer1(x)))\n",
    "        x = self.dropout1(x)\n",
    "        \n",
    "        x = torch.relu(self.bn2(self.layer2(x)))\n",
    "    \n",
    "\n",
    "        x = torch.relu(self.bn3(self.layer3(x)))\n",
    "        x = self.dropout2(x)\n",
    "\n",
    "        x = torch.relu(self.bn4(self.layer4(x)))\n",
    "        \n",
    "        x = torch.sigmoid(self.output_layer(x)) \n",
    "        return x\n",
    "    "
   ]
  },
  {
   "cell_type": "code",
   "execution_count": 9,
   "metadata": {},
   "outputs": [],
   "source": [
    "class DNN_7(nn.Module):\n",
    "    def __init__(self, input_dim,dropout1=DNN_7_params[\"dropout1\"],dropout2=DNN_7_params[\"dropout2\"]):\n",
    "        super(DNN_7, self).__init__()\n",
    "        self.layer1 = nn.Linear(input_dim,32)\n",
    "        self.layer2 = nn.Linear(32,16)\n",
    "        self.layer3 = nn.Linear(16, 8)\n",
    "        self.layer4 = nn.Linear(8, 4)\n",
    "        self.output_layer = nn.Linear(4, 1)\n",
    "\n",
    "        self.bn1=nn.BatchNorm1d(32)\n",
    "        self.bn2=nn.BatchNorm1d(16)\n",
    "        self.bn3=nn.BatchNorm1d(8)\n",
    "        self.bn4=nn.BatchNorm1d(4)\n",
    "\n",
    "        self.dropout1 = nn.Dropout(dropout1)\n",
    "        self.dropout2 = nn.Dropout(dropout2)\n",
    "        \n",
    "    def forward(self, x):\n",
    "        x = torch.relu(self.bn1(self.layer1(x)))\n",
    "        \n",
    "        x = torch.relu(self.bn2(self.layer2(x)))\n",
    "        x = self.dropout1(x)\n",
    "\n",
    "        x = torch.relu(self.bn3(self.layer3(x)))\n",
    "\n",
    "        x = torch.relu(self.bn4(self.layer4(x)))\n",
    "        x = self.dropout2(x)\n",
    "\n",
    "        x = torch.sigmoid(self.output_layer(x)) \n",
    "        return x\n",
    "    "
   ]
  },
  {
   "cell_type": "code",
   "execution_count": 10,
   "metadata": {},
   "outputs": [],
   "source": [
    "class FTTransformer(nn.Module):\n",
    "    def __init__(self, input_dim, num_classes=1, embed_dim=FTTransformer_params[\"embed_dim\"], num_heads=FTTransformer_params[\"num_heads\"], num_layers=FTTransformer_params[\"num_layers\"], dropout=FTTransformer_params[\"dropout\"]):\n",
    "        super(FTTransformer, self).__init__()\n",
    "        self.embedding = nn.Linear(input_dim, embed_dim)\n",
    "        self.embedding_dropout = nn.Dropout(dropout)  # 埋め込み層後のDropout\n",
    "        encoder_layer = nn.TransformerEncoderLayer(d_model=embed_dim, nhead=num_heads, dropout=dropout)\n",
    "        self.transformer = nn.TransformerEncoder(encoder_layer, num_layers=num_layers)\n",
    "        self.fc = nn.Linear(embed_dim, num_classes)\n",
    "        self.output_dropout = nn.Dropout(dropout)  # 出力層前のDropout\n",
    "\n",
    "    def forward(self, x):\n",
    "        x = self.embedding(x)\n",
    "        x = self.embedding_dropout(x)  # Dropoutを埋め込み層後に適用\n",
    "        x = x.unsqueeze(1)  # [batch_size, 1, embed_dim]\n",
    "        x = self.transformer(x)\n",
    "        x = x.mean(dim=1)  # 平均プーリング\n",
    "        x = self.output_dropout(x)  # Dropoutを適用\n",
    "        x = self.fc(x)\n",
    "        x = torch.sigmoid(x)  # 2値分類用のシグモイド活性化\n",
    "        return x\n"
   ]
  },
  {
   "cell_type": "code",
   "execution_count": 11,
   "metadata": {},
   "outputs": [],
   "source": [
    "class ResidualBlock(nn.Module):\n",
    "    def __init__(self, input_dim, hidden_dim,dropout1,dropout2):\n",
    "        super(ResidualBlock, self).__init__()\n",
    "        self.fc1 = nn.Linear(input_dim, hidden_dim)\n",
    "        self.bn1 = nn.BatchNorm1d(hidden_dim)\n",
    "        self.dropout1=nn.Dropout(dropout1)\n",
    "        \n",
    "        self.fc2 = nn.Linear(hidden_dim, input_dim)\n",
    "        self.bn2 = nn.BatchNorm1d(input_dim)\n",
    "        self.dropout2=nn.Dropout(dropout2)\n",
    "\n",
    "    def forward(self, x):\n",
    "        residual = x  # 入力を保存 (ショートカット)\n",
    "        out = torch.relu(self.bn1(self.fc1(x)))\n",
    "        out=self.dropout1(out)\n",
    "\n",
    "        out = self.bn2(self.fc2(out))\n",
    "        out=self.dropout2(out)\n",
    "\n",
    "        out += residual  # ショートカット接続\n",
    "        return torch.relu(out)\n"
   ]
  },
  {
   "cell_type": "code",
   "execution_count": 12,
   "metadata": {},
   "outputs": [],
   "source": [
    "class ResNetBinaryClassifier(nn.Module):\n",
    "    def __init__(self, input_dim, num_blocks=ResNet_params[\"num_blocks\"], hidden_dim=ResNet_params[\"hidden_dim\"], dropout1=ResNet_params[\"dropout1\"], dropout2=ResNet_params[\"dropout2\"]):\n",
    "        super(ResNetBinaryClassifier, self).__init__()\n",
    "        self.blocks = nn.Sequential(\n",
    "            *[ResidualBlock(input_dim, hidden_dim, dropout1, dropout2) for _ in range(num_blocks)]\n",
    "        )\n",
    "        self.output_layer = nn.Linear(input_dim, 1)  # 出力層\n",
    "\n",
    "    def forward(self, x):\n",
    "        x = self.blocks(x)\n",
    "        x = torch.sigmoid(self.output_layer(x))  # 2値分類用シグモイド\n",
    "        return x"
   ]
  },
  {
   "cell_type": "code",
   "execution_count": 13,
   "metadata": {},
   "outputs": [],
   "source": [
    "df=pd.read_csv('learning_data.csv',index_col=0)\n",
    "\n",
    "X=df.drop(columns='dengue',axis=1).values\n",
    "y=df['dengue'].values\n",
    "\n",
    "X_train, X_test, y_train, y_test = train_test_split(X, y, test_size=0.2,random_state=42)\n",
    "\n",
    "X_train_tensor=torch.tensor(X_train, dtype=torch.float32)\n",
    "y_train_tensor=torch.tensor(y_train, dtype=torch.float32)\n",
    "X_test_tensor=torch.tensor(X_test, dtype=torch.float32)\n",
    "y_test_tensor=torch.tensor(y_test, dtype=torch.float32)"
   ]
  },
  {
   "cell_type": "code",
   "execution_count": 14,
   "metadata": {},
   "outputs": [
    {
     "name": "stderr",
     "output_type": "stream",
     "text": [
      "/tmp/ipykernel_1425419/1801429464.py:33: FutureWarning: You are using `torch.load` with `weights_only=False` (the current default value), which uses the default pickle module implicitly. It is possible to construct malicious pickle data which will execute arbitrary code during unpickling (See https://github.com/pytorch/pytorch/blob/main/SECURITY.md#untrusted-models for more details). In a future release, the default value for `weights_only` will be flipped to `True`. This limits the functions that could be executed during unpickling. Arbitrary objects will no longer be allowed to be loaded via this mode unless they are explicitly allowlisted by the user via `torch.serialization.add_safe_globals`. We recommend you start setting `weights_only=True` for any use case where you don't have full control of the loaded file. Please open an issue on GitHub for any issues related to this experimental feature.\n",
      "  model.load_state_dict(torch.load(path, map_location=device))\n",
      "/home/gonken/anaconda3/envs/torch/lib/python3.12/site-packages/torch/nn/modules/transformer.py:379: UserWarning: enable_nested_tensor is True, but self.use_nested_tensor is False because encoder_layer.self_attn.batch_first was not True(use batch_first for better inference performance)\n",
      "  warnings.warn(\n"
     ]
    }
   ],
   "source": [
    "# デバイス設定\n",
    "device = torch.device(\"cuda\" if torch.cuda.is_available() else \"cpu\")\n",
    "\n",
    "\n",
    "model_paths = [\n",
    "    \"model_params/DNN_1.pth\",\n",
    "    \"model_params/DNN_2.pth\",\n",
    "    \"model_params/DNN_3.pth\",\n",
    "    \"model_params/DNN_4.pth\",\n",
    "    \"model_params/DNN_5.pth\",\n",
    "    \"model_params/DNN_6.pth\",\n",
    "    \"model_params/DNN_7.pth\",\n",
    "    \"model_params/FTTransformer.pth\",\n",
    "    \"model_params/ResNet.pth\",\n",
    "    ]\n",
    "\n",
    "model_classes = {0: DNN_1,\n",
    "                 1: DNN_2,\n",
    "                 2: DNN_3,\n",
    "                 3: DNN_4,\n",
    "                 4: DNN_5,\n",
    "                 5: DNN_6,\n",
    "                 6: DNN_7,\n",
    "                 7:FTTransformer,\n",
    "                 8:ResNetBinaryClassifier\n",
    "                 }\n",
    "\n",
    "models=[]\n",
    "\n",
    "for i, path in enumerate(model_paths):\n",
    "    if i in model_classes:\n",
    "        model = model_classes[i](input_dim=X_train.shape[1]).to(device)\n",
    "        model.load_state_dict(torch.load(path, map_location=device))\n",
    "        model.eval()\n",
    "        models.append(model)"
   ]
  },
  {
   "cell_type": "code",
   "execution_count": 15,
   "metadata": {},
   "outputs": [
    {
     "name": "stdout",
     "output_type": "stream",
     "text": [
      "Train DL Features Shape: torch.Size([3508, 9])\n",
      "Test DL Features Shape: torch.Size([878, 9])\n"
     ]
    }
   ],
   "source": [
    "train_outputs = []\n",
    "test_outputs = []\n",
    "\n",
    "with torch.no_grad():\n",
    "    for model in models:\n",
    "        model.eval()\n",
    "        \n",
    "        train_output = model(X_train_tensor.to(device))\n",
    "        train_outputs.append(train_output)\n",
    "        \n",
    "        # テストデータの出力\n",
    "        test_output = model(X_test_tensor.to(device))\n",
    "        test_outputs.append(test_output)\n",
    "\n",
    "train_DL_features = torch.cat(train_outputs, dim=1)  \n",
    "test_DL_features = torch.cat(test_outputs, dim=1) \n",
    "\n",
    "# 出力形状の確認\n",
    "print(f\"Train DL Features Shape: {train_DL_features.shape}\")\n",
    "print(f\"Test DL Features Shape: {test_DL_features.shape}\")\n"
   ]
  },
  {
   "cell_type": "code",
   "execution_count": 16,
   "metadata": {},
   "outputs": [
    {
     "name": "stdout",
     "output_type": "stream",
     "text": [
      "all_features.shape: (3508, 20)\n",
      "train_DL_features_np.shape: (3508, 9)\n",
      "train_standardized_features.shape: (3508, 20)\n"
     ]
    }
   ],
   "source": [
    "train_DL_features_np = train_DL_features.cpu().numpy()\n",
    "\n",
    "scaler = MinMaxScaler()\n",
    "normalized_features = scaler.fit_transform(train_DL_features_np.reshape(-1, train_DL_features_np.shape[-1]))\n",
    "\n",
    "# KMeans クラスタリング\n",
    "kmeans = KMeans(n_clusters=6, random_state=42)\n",
    "kmeans_labels = kmeans.fit_predict(normalized_features)\n",
    "\n",
    "# クラスタリング特徴量を修正\n",
    "cluster_features = kmeans_labels.reshape(-1, 1) \n",
    "\n",
    "# PCA（主成分分析）\n",
    "pca = PCA(n_components=6,random_state=42)\n",
    "pca_features = pca.fit_transform(normalized_features)  \n",
    "\n",
    "# t-SNE\n",
    "tsne = TSNE(n_components=3, random_state=42)\n",
    "tsne_features = tsne.fit_transform(normalized_features) \n",
    "\n",
    "# 距離から類似度を計算\n",
    "distance_matrix = cdist(normalized_features, normalized_features, metric='euclidean')\n",
    "similarity_features = 1 / (1 + distance_matrix) \n",
    "\n",
    "# 距離から類似度の平均特徴量を生成\n",
    "similarity_features_mean = similarity_features.mean(axis=1).reshape(-1, 1) \n",
    "\n",
    "all_features = np.hstack([normalized_features,cluster_features,pca_features,tsne_features,similarity_features_mean])\n",
    "\n",
    "print(f\"all_features.shape: {all_features.shape}\")\n",
    "print(f\"train_DL_features_np.shape: {train_DL_features_np.shape}\")\n",
    "\n",
    "scaler_standard = StandardScaler()\n",
    "train_standardized_features = scaler_standard.fit_transform(all_features)\n",
    "\n",
    "print(f\"train_standardized_features.shape: {train_standardized_features.shape}\")"
   ]
  },
  {
   "cell_type": "code",
   "execution_count": 17,
   "metadata": {},
   "outputs": [
    {
     "name": "stdout",
     "output_type": "stream",
     "text": [
      "all_features.shape: (878, 20)\n",
      "test_DL_features_np.shape: (3508, 9)\n",
      "test_standardized_features.shape: (878, 20)\n"
     ]
    }
   ],
   "source": [
    "test_DL_features_np = test_DL_features.cpu().numpy()\n",
    "\n",
    "scaler = MinMaxScaler()\n",
    "normalized_features = scaler.fit_transform(test_DL_features_np.reshape(-1, test_DL_features_np.shape[-1]))\n",
    "\n",
    "# KMeans クラスタリング\n",
    "kmeans = KMeans(n_clusters=6, random_state=42)\n",
    "kmeans_labels = kmeans.fit_predict(normalized_features)\n",
    "\n",
    "# クラスタリング特徴量を修正\n",
    "cluster_features = kmeans_labels.reshape(-1, 1) \n",
    "\n",
    "# PCA（主成分分析）\n",
    "pca = PCA(n_components=6,random_state=42)\n",
    "pca_features = pca.fit_transform(normalized_features)  \n",
    "\n",
    "# t-SNE\n",
    "tsne = TSNE(n_components=3, random_state=42)\n",
    "tsne_features = tsne.fit_transform(normalized_features) \n",
    "\n",
    "# 距離から類似度を計算\n",
    "distance_matrix = cdist(normalized_features, normalized_features, metric='euclidean')\n",
    "similarity_features = 1 / (1 + distance_matrix) \n",
    "\n",
    "# 距離から類似度の平均特徴量を生成\n",
    "similarity_features_mean = similarity_features.mean(axis=1).reshape(-1, 1) \n",
    "\n",
    "all_features = np.hstack([normalized_features,cluster_features,pca_features,tsne_features,similarity_features_mean])\n",
    "\n",
    "print(f\"all_features.shape: {all_features.shape}\")\n",
    "print(f\"test_DL_features_np.shape: {train_DL_features_np.shape}\")\n",
    "\n",
    "scaler_standard = StandardScaler()\n",
    "test_standardized_features = scaler_standard.fit_transform(all_features)\n",
    "\n",
    "print(f\"test_standardized_features.shape: {test_standardized_features.shape}\")"
   ]
  },
  {
   "cell_type": "code",
   "execution_count": 18,
   "metadata": {},
   "outputs": [],
   "source": [
    "X_train, X_val, y_train, y_val = train_test_split(train_standardized_features, y_train, test_size=0.1,random_state=42)"
   ]
  },
  {
   "cell_type": "code",
   "execution_count": 19,
   "metadata": {},
   "outputs": [],
   "source": [
    "X_train_tensor=torch.tensor(X_train, dtype=torch.float32)\n",
    "y_train_tensor=torch.tensor(y_train, dtype=torch.float32)\n",
    "X_val_tensor=torch.tensor(X_val, dtype=torch.float32)\n",
    "y_val_tensor=torch.tensor(y_val, dtype=torch.float32)\n",
    "X_test_tensor = torch.tensor(test_standardized_features, dtype=torch.float32)\n",
    "y_test_tensor = torch.tensor(y_test, dtype=torch.float32)\n"
   ]
  },
  {
   "cell_type": "code",
   "execution_count": 20,
   "metadata": {},
   "outputs": [],
   "source": [
    "train_dataset = torch.utils.data.TensorDataset(X_train_tensor, y_train_tensor)\n",
    "train_loader = torch.utils.data.DataLoader(dataset=train_dataset, batch_size=128, shuffle=True)\n",
    "\n",
    "val_dataset = torch.utils.data.TensorDataset(X_val_tensor, y_val_tensor)\n",
    "val_loader = torch.utils.data.DataLoader(dataset=val_dataset, batch_size=128, shuffle=False)"
   ]
  },
  {
   "cell_type": "code",
   "execution_count": 21,
   "metadata": {},
   "outputs": [],
   "source": [
    "class meta_model(nn.Module):\n",
    "    def __init__(self, input_dim, num_classes, embed_dim, num_heads, num_layers, dropout):\n",
    "        super(meta_model, self).__init__()\n",
    "        self.embedding = nn.Linear(input_dim, embed_dim)\n",
    "        self.embedding_dropout = nn.Dropout(dropout)  # 埋め込み層後のDropout\n",
    "        encoder_layer = nn.TransformerEncoderLayer(d_model=embed_dim, nhead=num_heads, dropout=dropout)\n",
    "        self.transformer = nn.TransformerEncoder(encoder_layer, num_layers=num_layers)\n",
    "        self.fc = nn.Linear(embed_dim, num_classes)\n",
    "        self.output_dropout = nn.Dropout(dropout)  # 出力層前のDropout\n",
    "\n",
    "    def forward(self, x):\n",
    "        x = self.embedding(x)\n",
    "        x = self.embedding_dropout(x)  # Dropoutを埋め込み層後に適用\n",
    "        x = x.unsqueeze(1)  # [batch_size, 1, embed_dim]\n",
    "        x = self.transformer(x)\n",
    "        x = x.mean(dim=1)  # 平均プーリング\n",
    "        x = self.output_dropout(x)  # Dropoutを適用\n",
    "        x = self.fc(x)\n",
    "        x = torch.sigmoid(x)  # 2値分類用のシグモイド活性化\n",
    "        return x\n"
   ]
  },
  {
   "cell_type": "code",
   "execution_count": 22,
   "metadata": {},
   "outputs": [],
   "source": [
    "def objective(trial):\n",
    "    # ハイパーパラメータのサンプリング\n",
    "    embed_dim=trial.suggest_categorical(\"embed_dim\",[64,128,256])\n",
    "    num_heads=trial.suggest_categorical(\"num_heads\",[4,8,16])\n",
    "    num_layers=trial.suggest_categorical(\"num_layers\",[3,4,5])\n",
    "    dropout = trial.suggest_float(\"dropout\", 0, 0.5, step=0.05)\n",
    "    learning_rate = trial.suggest_loguniform(\"learning_rate\", 1e-4, 1e-1)  \n",
    "    weight_decay = trial.suggest_loguniform(\"weight_decay\", 1e-5, 1e-1)   \n",
    "\n",
    "    # モデルの定義\n",
    "    model = meta_model(\n",
    "        input_dim=X_train_tensor.shape[1],\n",
    "        num_classes=1,\n",
    "        embed_dim=embed_dim,\n",
    "        num_heads=num_heads,\n",
    "        num_layers=num_layers,\n",
    "        dropout=dropout\n",
    "    ).to(device)\n",
    "\n",
    "    criterion = nn.BCELoss()\n",
    "    optimizer = torch.optim.Adam(model.parameters(), lr=learning_rate, weight_decay=weight_decay)\n",
    "\n",
    "    # Early Stoppingの設定\n",
    "    patience = 10\n",
    "    best_val_loss = float('inf')\n",
    "    patience_counter = 0\n",
    "\n",
    "    # 訓練ループ\n",
    "    num_epochs = 100\n",
    "    for epoch in range(num_epochs):\n",
    "        model.train()\n",
    "        for X_batch, y_batch in train_loader:\n",
    "            X_batch, y_batch = X_batch.to(device), y_batch.to(device)\n",
    "            optimizer.zero_grad()\n",
    "            outputs = model(X_batch).squeeze()\n",
    "            loss = criterion(outputs, y_batch.squeeze())\n",
    "            loss.backward()\n",
    "            optimizer.step()\n",
    "\n",
    "        # バリデーション評価\n",
    "        model.eval()\n",
    "        val_loss = 0\n",
    "        val_true, val_pred = [], []\n",
    "        with torch.no_grad():\n",
    "            for X_val, y_val in val_loader:\n",
    "                X_val, y_val = X_val.to(device), y_val.to(device)\n",
    "                val_outputs = model(X_val).squeeze()\n",
    "                val_loss += criterion(val_outputs, y_val.squeeze()).item()\n",
    "                predictions = (val_outputs >=0.5).float()\n",
    "                val_true.extend(y_val.cpu().numpy())\n",
    "                val_pred.extend(predictions.cpu().numpy())\n",
    "\n",
    "        val_loss /= len(val_loader)\n",
    "\n",
    "        # Early Stoppingの判定\n",
    "        if val_loss < best_val_loss:\n",
    "            best_val_loss = val_loss\n",
    "            patience_counter = 0\n",
    "        else:\n",
    "            patience_counter += 1\n",
    "\n",
    "        if patience_counter >= patience:\n",
    "            print(f\"Early stopping at epoch {epoch}\")\n",
    "            break\n",
    "\n",
    "        # Optunaのプルーニング機能\n",
    "        trial.report(val_loss, epoch)\n",
    "        if trial.should_prune():\n",
    "            raise optuna.exceptions.TrialPruned()\n",
    "\n",
    "    mcc = matthews_corrcoef(val_true, val_pred)\n",
    "    print(f\"Final MCC: {mcc:.4f}\")\n",
    "\n",
    "    return mcc  \n"
   ]
  },
  {
   "cell_type": "code",
   "execution_count": 23,
   "metadata": {},
   "outputs": [
    {
     "name": "stderr",
     "output_type": "stream",
     "text": [
      "[I 2024-12-12 22:01:59,156] A new study created in memory with name: no-name-5b704598-6b84-487d-91f0-924b0dd0483e\n",
      "/tmp/ipykernel_1425419/2683590562.py:7: FutureWarning: suggest_loguniform has been deprecated in v3.0.0. This feature will be removed in v6.0.0. See https://github.com/optuna/optuna/releases/tag/v3.0.0. Use suggest_float(..., log=True) instead.\n",
      "  learning_rate = trial.suggest_loguniform(\"learning_rate\", 1e-4, 1e-1)\n",
      "/tmp/ipykernel_1425419/2683590562.py:8: FutureWarning: suggest_loguniform has been deprecated in v3.0.0. This feature will be removed in v6.0.0. See https://github.com/optuna/optuna/releases/tag/v3.0.0. Use suggest_float(..., log=True) instead.\n",
      "  weight_decay = trial.suggest_loguniform(\"weight_decay\", 1e-5, 1e-1)\n",
      "/home/gonken/anaconda3/envs/torch/lib/python3.12/site-packages/torch/nn/modules/transformer.py:379: UserWarning: enable_nested_tensor is True, but self.use_nested_tensor is False because encoder_layer.self_attn.batch_first was not True(use batch_first for better inference performance)\n",
      "  warnings.warn(\n",
      "[I 2024-12-12 22:02:10,947] Trial 0 finished with value: 0.0 and parameters: {'embed_dim': 128, 'num_heads': 4, 'num_layers': 4, 'dropout': 0.35000000000000003, 'learning_rate': 0.015709810821765046, 'weight_decay': 0.009983749376816509}. Best is trial 0 with value: 0.0.\n"
     ]
    },
    {
     "name": "stdout",
     "output_type": "stream",
     "text": [
      "Early stopping at epoch 24\n",
      "Final MCC: 0.0000\n"
     ]
    },
    {
     "name": "stderr",
     "output_type": "stream",
     "text": [
      "/tmp/ipykernel_1425419/2683590562.py:7: FutureWarning: suggest_loguniform has been deprecated in v3.0.0. This feature will be removed in v6.0.0. See https://github.com/optuna/optuna/releases/tag/v3.0.0. Use suggest_float(..., log=True) instead.\n",
      "  learning_rate = trial.suggest_loguniform(\"learning_rate\", 1e-4, 1e-1)\n",
      "/tmp/ipykernel_1425419/2683590562.py:8: FutureWarning: suggest_loguniform has been deprecated in v3.0.0. This feature will be removed in v6.0.0. See https://github.com/optuna/optuna/releases/tag/v3.0.0. Use suggest_float(..., log=True) instead.\n",
      "  weight_decay = trial.suggest_loguniform(\"weight_decay\", 1e-5, 1e-1)\n",
      "/home/gonken/anaconda3/envs/torch/lib/python3.12/site-packages/torch/nn/modules/transformer.py:379: UserWarning: enable_nested_tensor is True, but self.use_nested_tensor is False because encoder_layer.self_attn.batch_first was not True(use batch_first for better inference performance)\n",
      "  warnings.warn(\n",
      "[I 2024-12-12 22:02:14,882] Trial 1 finished with value: 0.22119142716652299 and parameters: {'embed_dim': 64, 'num_heads': 4, 'num_layers': 3, 'dropout': 0.05, 'learning_rate': 0.0029971541947599882, 'weight_decay': 0.06719551348703634}. Best is trial 1 with value: 0.22119142716652299.\n"
     ]
    },
    {
     "name": "stdout",
     "output_type": "stream",
     "text": [
      "Early stopping at epoch 10\n",
      "Final MCC: 0.2212\n"
     ]
    },
    {
     "name": "stderr",
     "output_type": "stream",
     "text": [
      "/tmp/ipykernel_1425419/2683590562.py:7: FutureWarning: suggest_loguniform has been deprecated in v3.0.0. This feature will be removed in v6.0.0. See https://github.com/optuna/optuna/releases/tag/v3.0.0. Use suggest_float(..., log=True) instead.\n",
      "  learning_rate = trial.suggest_loguniform(\"learning_rate\", 1e-4, 1e-1)\n",
      "/tmp/ipykernel_1425419/2683590562.py:8: FutureWarning: suggest_loguniform has been deprecated in v3.0.0. This feature will be removed in v6.0.0. See https://github.com/optuna/optuna/releases/tag/v3.0.0. Use suggest_float(..., log=True) instead.\n",
      "  weight_decay = trial.suggest_loguniform(\"weight_decay\", 1e-5, 1e-1)\n",
      "/home/gonken/anaconda3/envs/torch/lib/python3.12/site-packages/torch/nn/modules/transformer.py:379: UserWarning: enable_nested_tensor is True, but self.use_nested_tensor is False because encoder_layer.self_attn.batch_first was not True(use batch_first for better inference performance)\n",
      "  warnings.warn(\n",
      "[I 2024-12-12 22:02:25,271] Trial 2 finished with value: 0.0 and parameters: {'embed_dim': 256, 'num_heads': 4, 'num_layers': 4, 'dropout': 0.4, 'learning_rate': 0.034330112786769396, 'weight_decay': 0.0001472774364219816}. Best is trial 1 with value: 0.22119142716652299.\n"
     ]
    },
    {
     "name": "stdout",
     "output_type": "stream",
     "text": [
      "Early stopping at epoch 22\n",
      "Final MCC: 0.0000\n"
     ]
    },
    {
     "name": "stderr",
     "output_type": "stream",
     "text": [
      "/tmp/ipykernel_1425419/2683590562.py:7: FutureWarning: suggest_loguniform has been deprecated in v3.0.0. This feature will be removed in v6.0.0. See https://github.com/optuna/optuna/releases/tag/v3.0.0. Use suggest_float(..., log=True) instead.\n",
      "  learning_rate = trial.suggest_loguniform(\"learning_rate\", 1e-4, 1e-1)\n",
      "/tmp/ipykernel_1425419/2683590562.py:8: FutureWarning: suggest_loguniform has been deprecated in v3.0.0. This feature will be removed in v6.0.0. See https://github.com/optuna/optuna/releases/tag/v3.0.0. Use suggest_float(..., log=True) instead.\n",
      "  weight_decay = trial.suggest_loguniform(\"weight_decay\", 1e-5, 1e-1)\n",
      "/home/gonken/anaconda3/envs/torch/lib/python3.12/site-packages/torch/nn/modules/transformer.py:379: UserWarning: enable_nested_tensor is True, but self.use_nested_tensor is False because encoder_layer.self_attn.batch_first was not True(use batch_first for better inference performance)\n",
      "  warnings.warn(\n",
      "[I 2024-12-12 22:02:29,972] Trial 3 finished with value: 0.09606457765561953 and parameters: {'embed_dim': 128, 'num_heads': 4, 'num_layers': 3, 'dropout': 0.1, 'learning_rate': 0.00014474208811735258, 'weight_decay': 0.06912524451695783}. Best is trial 1 with value: 0.22119142716652299.\n"
     ]
    },
    {
     "name": "stdout",
     "output_type": "stream",
     "text": [
      "Early stopping at epoch 11\n",
      "Final MCC: 0.0961\n"
     ]
    },
    {
     "name": "stderr",
     "output_type": "stream",
     "text": [
      "/tmp/ipykernel_1425419/2683590562.py:7: FutureWarning: suggest_loguniform has been deprecated in v3.0.0. This feature will be removed in v6.0.0. See https://github.com/optuna/optuna/releases/tag/v3.0.0. Use suggest_float(..., log=True) instead.\n",
      "  learning_rate = trial.suggest_loguniform(\"learning_rate\", 1e-4, 1e-1)\n",
      "/tmp/ipykernel_1425419/2683590562.py:8: FutureWarning: suggest_loguniform has been deprecated in v3.0.0. This feature will be removed in v6.0.0. See https://github.com/optuna/optuna/releases/tag/v3.0.0. Use suggest_float(..., log=True) instead.\n",
      "  weight_decay = trial.suggest_loguniform(\"weight_decay\", 1e-5, 1e-1)\n",
      "/home/gonken/anaconda3/envs/torch/lib/python3.12/site-packages/torch/nn/modules/transformer.py:379: UserWarning: enable_nested_tensor is True, but self.use_nested_tensor is False because encoder_layer.self_attn.batch_first was not True(use batch_first for better inference performance)\n",
      "  warnings.warn(\n",
      "[I 2024-12-12 22:02:40,739] Trial 4 finished with value: 0.0 and parameters: {'embed_dim': 256, 'num_heads': 4, 'num_layers': 5, 'dropout': 0.45, 'learning_rate': 0.05108269118320917, 'weight_decay': 1.3376561586101348e-05}. Best is trial 1 with value: 0.22119142716652299.\n"
     ]
    },
    {
     "name": "stdout",
     "output_type": "stream",
     "text": [
      "Early stopping at epoch 20\n",
      "Final MCC: 0.0000\n"
     ]
    },
    {
     "name": "stderr",
     "output_type": "stream",
     "text": [
      "/tmp/ipykernel_1425419/2683590562.py:7: FutureWarning: suggest_loguniform has been deprecated in v3.0.0. This feature will be removed in v6.0.0. See https://github.com/optuna/optuna/releases/tag/v3.0.0. Use suggest_float(..., log=True) instead.\n",
      "  learning_rate = trial.suggest_loguniform(\"learning_rate\", 1e-4, 1e-1)\n",
      "/tmp/ipykernel_1425419/2683590562.py:8: FutureWarning: suggest_loguniform has been deprecated in v3.0.0. This feature will be removed in v6.0.0. See https://github.com/optuna/optuna/releases/tag/v3.0.0. Use suggest_float(..., log=True) instead.\n",
      "  weight_decay = trial.suggest_loguniform(\"weight_decay\", 1e-5, 1e-1)\n",
      "/home/gonken/anaconda3/envs/torch/lib/python3.12/site-packages/torch/nn/modules/transformer.py:379: UserWarning: enable_nested_tensor is True, but self.use_nested_tensor is False because encoder_layer.self_attn.batch_first was not True(use batch_first for better inference performance)\n",
      "  warnings.warn(\n",
      "[I 2024-12-12 22:02:41,203] Trial 5 pruned. \n",
      "[I 2024-12-12 22:02:41,576] Trial 6 pruned. \n",
      "[I 2024-12-12 22:02:48,780] Trial 7 finished with value: 0.17426478522999098 and parameters: {'embed_dim': 128, 'num_heads': 4, 'num_layers': 4, 'dropout': 0.4, 'learning_rate': 0.0019365201212010927, 'weight_decay': 0.000780161114782303}. Best is trial 1 with value: 0.22119142716652299.\n"
     ]
    },
    {
     "name": "stdout",
     "output_type": "stream",
     "text": [
      "Early stopping at epoch 17\n",
      "Final MCC: 0.1743\n"
     ]
    },
    {
     "name": "stderr",
     "output_type": "stream",
     "text": [
      "/tmp/ipykernel_1425419/2683590562.py:7: FutureWarning: suggest_loguniform has been deprecated in v3.0.0. This feature will be removed in v6.0.0. See https://github.com/optuna/optuna/releases/tag/v3.0.0. Use suggest_float(..., log=True) instead.\n",
      "  learning_rate = trial.suggest_loguniform(\"learning_rate\", 1e-4, 1e-1)\n",
      "/tmp/ipykernel_1425419/2683590562.py:8: FutureWarning: suggest_loguniform has been deprecated in v3.0.0. This feature will be removed in v6.0.0. See https://github.com/optuna/optuna/releases/tag/v3.0.0. Use suggest_float(..., log=True) instead.\n",
      "  weight_decay = trial.suggest_loguniform(\"weight_decay\", 1e-5, 1e-1)\n",
      "/home/gonken/anaconda3/envs/torch/lib/python3.12/site-packages/torch/nn/modules/transformer.py:379: UserWarning: enable_nested_tensor is True, but self.use_nested_tensor is False because encoder_layer.self_attn.batch_first was not True(use batch_first for better inference performance)\n",
      "  warnings.warn(\n",
      "[I 2024-12-12 22:02:58,692] Trial 8 finished with value: 0.17747546367916955 and parameters: {'embed_dim': 128, 'num_heads': 8, 'num_layers': 4, 'dropout': 0.25, 'learning_rate': 0.0009274117077858597, 'weight_decay': 0.00507451466879964}. Best is trial 1 with value: 0.22119142716652299.\n"
     ]
    },
    {
     "name": "stdout",
     "output_type": "stream",
     "text": [
      "Early stopping at epoch 22\n",
      "Final MCC: 0.1775\n"
     ]
    },
    {
     "name": "stderr",
     "output_type": "stream",
     "text": [
      "/tmp/ipykernel_1425419/2683590562.py:7: FutureWarning: suggest_loguniform has been deprecated in v3.0.0. This feature will be removed in v6.0.0. See https://github.com/optuna/optuna/releases/tag/v3.0.0. Use suggest_float(..., log=True) instead.\n",
      "  learning_rate = trial.suggest_loguniform(\"learning_rate\", 1e-4, 1e-1)\n",
      "/tmp/ipykernel_1425419/2683590562.py:8: FutureWarning: suggest_loguniform has been deprecated in v3.0.0. This feature will be removed in v6.0.0. See https://github.com/optuna/optuna/releases/tag/v3.0.0. Use suggest_float(..., log=True) instead.\n",
      "  weight_decay = trial.suggest_loguniform(\"weight_decay\", 1e-5, 1e-1)\n",
      "/home/gonken/anaconda3/envs/torch/lib/python3.12/site-packages/torch/nn/modules/transformer.py:379: UserWarning: enable_nested_tensor is True, but self.use_nested_tensor is False because encoder_layer.self_attn.batch_first was not True(use batch_first for better inference performance)\n",
      "  warnings.warn(\n",
      "[I 2024-12-12 22:03:03,477] Trial 9 finished with value: 0.18764744237776723 and parameters: {'embed_dim': 128, 'num_heads': 8, 'num_layers': 3, 'dropout': 0.30000000000000004, 'learning_rate': 0.00019392149842869068, 'weight_decay': 1.698309760781868e-05}. Best is trial 1 with value: 0.22119142716652299.\n"
     ]
    },
    {
     "name": "stdout",
     "output_type": "stream",
     "text": [
      "Early stopping at epoch 12\n",
      "Final MCC: 0.1876\n"
     ]
    },
    {
     "name": "stderr",
     "output_type": "stream",
     "text": [
      "/tmp/ipykernel_1425419/2683590562.py:7: FutureWarning: suggest_loguniform has been deprecated in v3.0.0. This feature will be removed in v6.0.0. See https://github.com/optuna/optuna/releases/tag/v3.0.0. Use suggest_float(..., log=True) instead.\n",
      "  learning_rate = trial.suggest_loguniform(\"learning_rate\", 1e-4, 1e-1)\n",
      "/tmp/ipykernel_1425419/2683590562.py:8: FutureWarning: suggest_loguniform has been deprecated in v3.0.0. This feature will be removed in v6.0.0. See https://github.com/optuna/optuna/releases/tag/v3.0.0. Use suggest_float(..., log=True) instead.\n",
      "  weight_decay = trial.suggest_loguniform(\"weight_decay\", 1e-5, 1e-1)\n",
      "/home/gonken/anaconda3/envs/torch/lib/python3.12/site-packages/torch/nn/modules/transformer.py:379: UserWarning: enable_nested_tensor is True, but self.use_nested_tensor is False because encoder_layer.self_attn.batch_first was not True(use batch_first for better inference performance)\n",
      "  warnings.warn(\n",
      "[I 2024-12-12 22:03:04,012] Trial 10 pruned. \n",
      "[I 2024-12-12 22:03:12,848] Trial 11 finished with value: 0.2027778322647861 and parameters: {'embed_dim': 64, 'num_heads': 8, 'num_layers': 3, 'dropout': 0.15000000000000002, 'learning_rate': 0.0001003984233045575, 'weight_decay': 1.547910007769706e-05}. Best is trial 1 with value: 0.22119142716652299.\n"
     ]
    },
    {
     "name": "stdout",
     "output_type": "stream",
     "text": [
      "Early stopping at epoch 25\n",
      "Final MCC: 0.2028\n"
     ]
    },
    {
     "name": "stderr",
     "output_type": "stream",
     "text": [
      "/tmp/ipykernel_1425419/2683590562.py:7: FutureWarning: suggest_loguniform has been deprecated in v3.0.0. This feature will be removed in v6.0.0. See https://github.com/optuna/optuna/releases/tag/v3.0.0. Use suggest_float(..., log=True) instead.\n",
      "  learning_rate = trial.suggest_loguniform(\"learning_rate\", 1e-4, 1e-1)\n",
      "/tmp/ipykernel_1425419/2683590562.py:8: FutureWarning: suggest_loguniform has been deprecated in v3.0.0. This feature will be removed in v6.0.0. See https://github.com/optuna/optuna/releases/tag/v3.0.0. Use suggest_float(..., log=True) instead.\n",
      "  weight_decay = trial.suggest_loguniform(\"weight_decay\", 1e-5, 1e-1)\n",
      "/home/gonken/anaconda3/envs/torch/lib/python3.12/site-packages/torch/nn/modules/transformer.py:379: UserWarning: enable_nested_tensor is True, but self.use_nested_tensor is False because encoder_layer.self_attn.batch_first was not True(use batch_first for better inference performance)\n",
      "  warnings.warn(\n",
      "[I 2024-12-12 22:03:21,360] Trial 12 finished with value: 0.1517029798355134 and parameters: {'embed_dim': 64, 'num_heads': 16, 'num_layers': 3, 'dropout': 0.15000000000000002, 'learning_rate': 0.00037461172872394394, 'weight_decay': 0.005038001082062773}. Best is trial 1 with value: 0.22119142716652299.\n"
     ]
    },
    {
     "name": "stdout",
     "output_type": "stream",
     "text": [
      "Early stopping at epoch 22\n",
      "Final MCC: 0.1517\n"
     ]
    },
    {
     "name": "stderr",
     "output_type": "stream",
     "text": [
      "/tmp/ipykernel_1425419/2683590562.py:7: FutureWarning: suggest_loguniform has been deprecated in v3.0.0. This feature will be removed in v6.0.0. See https://github.com/optuna/optuna/releases/tag/v3.0.0. Use suggest_float(..., log=True) instead.\n",
      "  learning_rate = trial.suggest_loguniform(\"learning_rate\", 1e-4, 1e-1)\n",
      "/tmp/ipykernel_1425419/2683590562.py:8: FutureWarning: suggest_loguniform has been deprecated in v3.0.0. This feature will be removed in v6.0.0. See https://github.com/optuna/optuna/releases/tag/v3.0.0. Use suggest_float(..., log=True) instead.\n",
      "  weight_decay = trial.suggest_loguniform(\"weight_decay\", 1e-5, 1e-1)\n",
      "/home/gonken/anaconda3/envs/torch/lib/python3.12/site-packages/torch/nn/modules/transformer.py:379: UserWarning: enable_nested_tensor is True, but self.use_nested_tensor is False because encoder_layer.self_attn.batch_first was not True(use batch_first for better inference performance)\n",
      "  warnings.warn(\n",
      "[I 2024-12-12 22:03:21,722] Trial 13 pruned. \n",
      "[I 2024-12-12 22:03:27,102] Trial 14 finished with value: 0.17747546367916955 and parameters: {'embed_dim': 64, 'num_heads': 8, 'num_layers': 3, 'dropout': 0.15000000000000002, 'learning_rate': 0.0001061412901068109, 'weight_decay': 0.017994468866223152}. Best is trial 1 with value: 0.22119142716652299.\n"
     ]
    },
    {
     "name": "stdout",
     "output_type": "stream",
     "text": [
      "Early stopping at epoch 13\n",
      "Final MCC: 0.1775\n"
     ]
    },
    {
     "name": "stderr",
     "output_type": "stream",
     "text": [
      "/tmp/ipykernel_1425419/2683590562.py:7: FutureWarning: suggest_loguniform has been deprecated in v3.0.0. This feature will be removed in v6.0.0. See https://github.com/optuna/optuna/releases/tag/v3.0.0. Use suggest_float(..., log=True) instead.\n",
      "  learning_rate = trial.suggest_loguniform(\"learning_rate\", 1e-4, 1e-1)\n",
      "/tmp/ipykernel_1425419/2683590562.py:8: FutureWarning: suggest_loguniform has been deprecated in v3.0.0. This feature will be removed in v6.0.0. See https://github.com/optuna/optuna/releases/tag/v3.0.0. Use suggest_float(..., log=True) instead.\n",
      "  weight_decay = trial.suggest_loguniform(\"weight_decay\", 1e-5, 1e-1)\n",
      "/home/gonken/anaconda3/envs/torch/lib/python3.12/site-packages/torch/nn/modules/transformer.py:379: UserWarning: enable_nested_tensor is True, but self.use_nested_tensor is False because encoder_layer.self_attn.batch_first was not True(use batch_first for better inference performance)\n",
      "  warnings.warn(\n",
      "[I 2024-12-12 22:03:27,429] Trial 15 pruned. \n",
      "[I 2024-12-12 22:03:27,750] Trial 16 pruned. \n",
      "[I 2024-12-12 22:03:36,044] Trial 17 finished with value: 0.2442773713744798 and parameters: {'embed_dim': 64, 'num_heads': 8, 'num_layers': 5, 'dropout': 0.2, 'learning_rate': 0.0003785099337944861, 'weight_decay': 0.0003034144790751974}. Best is trial 17 with value: 0.2442773713744798.\n"
     ]
    },
    {
     "name": "stdout",
     "output_type": "stream",
     "text": [
      "Early stopping at epoch 16\n",
      "Final MCC: 0.2443\n"
     ]
    },
    {
     "name": "stderr",
     "output_type": "stream",
     "text": [
      "/tmp/ipykernel_1425419/2683590562.py:7: FutureWarning: suggest_loguniform has been deprecated in v3.0.0. This feature will be removed in v6.0.0. See https://github.com/optuna/optuna/releases/tag/v3.0.0. Use suggest_float(..., log=True) instead.\n",
      "  learning_rate = trial.suggest_loguniform(\"learning_rate\", 1e-4, 1e-1)\n",
      "/tmp/ipykernel_1425419/2683590562.py:8: FutureWarning: suggest_loguniform has been deprecated in v3.0.0. This feature will be removed in v6.0.0. See https://github.com/optuna/optuna/releases/tag/v3.0.0. Use suggest_float(..., log=True) instead.\n",
      "  weight_decay = trial.suggest_loguniform(\"weight_decay\", 1e-5, 1e-1)\n",
      "/home/gonken/anaconda3/envs/torch/lib/python3.12/site-packages/torch/nn/modules/transformer.py:379: UserWarning: enable_nested_tensor is True, but self.use_nested_tensor is False because encoder_layer.self_attn.batch_first was not True(use batch_first for better inference performance)\n",
      "  warnings.warn(\n",
      "[I 2024-12-12 22:03:36,547] Trial 18 pruned. \n",
      "[I 2024-12-12 22:03:36,979] Trial 19 pruned. \n",
      "[I 2024-12-12 22:03:43,587] Trial 20 finished with value: 0.15035469046478528 and parameters: {'embed_dim': 64, 'num_heads': 16, 'num_layers': 5, 'dropout': 0.5, 'learning_rate': 0.000904400645504953, 'weight_decay': 0.002181062695653099}. Best is trial 17 with value: 0.2442773713744798.\n"
     ]
    },
    {
     "name": "stdout",
     "output_type": "stream",
     "text": [
      "Early stopping at epoch 16\n",
      "Final MCC: 0.1504\n"
     ]
    },
    {
     "name": "stderr",
     "output_type": "stream",
     "text": [
      "/tmp/ipykernel_1425419/2683590562.py:7: FutureWarning: suggest_loguniform has been deprecated in v3.0.0. This feature will be removed in v6.0.0. See https://github.com/optuna/optuna/releases/tag/v3.0.0. Use suggest_float(..., log=True) instead.\n",
      "  learning_rate = trial.suggest_loguniform(\"learning_rate\", 1e-4, 1e-1)\n",
      "/tmp/ipykernel_1425419/2683590562.py:8: FutureWarning: suggest_loguniform has been deprecated in v3.0.0. This feature will be removed in v6.0.0. See https://github.com/optuna/optuna/releases/tag/v3.0.0. Use suggest_float(..., log=True) instead.\n",
      "  weight_decay = trial.suggest_loguniform(\"weight_decay\", 1e-5, 1e-1)\n",
      "/home/gonken/anaconda3/envs/torch/lib/python3.12/site-packages/torch/nn/modules/transformer.py:379: UserWarning: enable_nested_tensor is True, but self.use_nested_tensor is False because encoder_layer.self_attn.batch_first was not True(use batch_first for better inference performance)\n",
      "  warnings.warn(\n",
      "[I 2024-12-12 22:03:51,135] Trial 21 finished with value: 0.13635963549446917 and parameters: {'embed_dim': 64, 'num_heads': 8, 'num_layers': 5, 'dropout': 0.1, 'learning_rate': 0.00022473746975113504, 'weight_decay': 5.526275496402398e-05}. Best is trial 17 with value: 0.2442773713744798.\n"
     ]
    },
    {
     "name": "stdout",
     "output_type": "stream",
     "text": [
      "Early stopping at epoch 15\n",
      "Final MCC: 0.1364\n"
     ]
    },
    {
     "name": "stderr",
     "output_type": "stream",
     "text": [
      "/tmp/ipykernel_1425419/2683590562.py:7: FutureWarning: suggest_loguniform has been deprecated in v3.0.0. This feature will be removed in v6.0.0. See https://github.com/optuna/optuna/releases/tag/v3.0.0. Use suggest_float(..., log=True) instead.\n",
      "  learning_rate = trial.suggest_loguniform(\"learning_rate\", 1e-4, 1e-1)\n",
      "/tmp/ipykernel_1425419/2683590562.py:8: FutureWarning: suggest_loguniform has been deprecated in v3.0.0. This feature will be removed in v6.0.0. See https://github.com/optuna/optuna/releases/tag/v3.0.0. Use suggest_float(..., log=True) instead.\n",
      "  weight_decay = trial.suggest_loguniform(\"weight_decay\", 1e-5, 1e-1)\n",
      "/home/gonken/anaconda3/envs/torch/lib/python3.12/site-packages/torch/nn/modules/transformer.py:379: UserWarning: enable_nested_tensor is True, but self.use_nested_tensor is False because encoder_layer.self_attn.batch_first was not True(use batch_first for better inference performance)\n",
      "  warnings.warn(\n",
      "[I 2024-12-12 22:03:55,525] Trial 22 finished with value: 0.19877418590894086 and parameters: {'embed_dim': 64, 'num_heads': 8, 'num_layers': 3, 'dropout': 0.2, 'learning_rate': 0.00010202989088518681, 'weight_decay': 2.095389778440462e-05}. Best is trial 17 with value: 0.2442773713744798.\n"
     ]
    },
    {
     "name": "stdout",
     "output_type": "stream",
     "text": [
      "Early stopping at epoch 11\n",
      "Final MCC: 0.1988\n"
     ]
    },
    {
     "name": "stderr",
     "output_type": "stream",
     "text": [
      "/tmp/ipykernel_1425419/2683590562.py:7: FutureWarning: suggest_loguniform has been deprecated in v3.0.0. This feature will be removed in v6.0.0. See https://github.com/optuna/optuna/releases/tag/v3.0.0. Use suggest_float(..., log=True) instead.\n",
      "  learning_rate = trial.suggest_loguniform(\"learning_rate\", 1e-4, 1e-1)\n",
      "/tmp/ipykernel_1425419/2683590562.py:8: FutureWarning: suggest_loguniform has been deprecated in v3.0.0. This feature will be removed in v6.0.0. See https://github.com/optuna/optuna/releases/tag/v3.0.0. Use suggest_float(..., log=True) instead.\n",
      "  weight_decay = trial.suggest_loguniform(\"weight_decay\", 1e-5, 1e-1)\n",
      "/home/gonken/anaconda3/envs/torch/lib/python3.12/site-packages/torch/nn/modules/transformer.py:379: UserWarning: enable_nested_tensor is True, but self.use_nested_tensor is False because encoder_layer.self_attn.batch_first was not True(use batch_first for better inference performance)\n",
      "  warnings.warn(\n",
      "[I 2024-12-12 22:03:55,879] Trial 23 pruned. \n",
      "[I 2024-12-12 22:03:56,339] Trial 24 pruned. \n",
      "[I 2024-12-12 22:04:01,024] Trial 25 finished with value: 0.2006979507182985 and parameters: {'embed_dim': 256, 'num_heads': 4, 'num_layers': 3, 'dropout': 0.05, 'learning_rate': 0.0002592751825969552, 'weight_decay': 3.1506411246900154e-05}. Best is trial 17 with value: 0.2442773713744798.\n"
     ]
    },
    {
     "name": "stdout",
     "output_type": "stream",
     "text": [
      "Early stopping at epoch 11\n",
      "Final MCC: 0.2007\n"
     ]
    },
    {
     "name": "stderr",
     "output_type": "stream",
     "text": [
      "/tmp/ipykernel_1425419/2683590562.py:7: FutureWarning: suggest_loguniform has been deprecated in v3.0.0. This feature will be removed in v6.0.0. See https://github.com/optuna/optuna/releases/tag/v3.0.0. Use suggest_float(..., log=True) instead.\n",
      "  learning_rate = trial.suggest_loguniform(\"learning_rate\", 1e-4, 1e-1)\n",
      "/tmp/ipykernel_1425419/2683590562.py:8: FutureWarning: suggest_loguniform has been deprecated in v3.0.0. This feature will be removed in v6.0.0. See https://github.com/optuna/optuna/releases/tag/v3.0.0. Use suggest_float(..., log=True) instead.\n",
      "  weight_decay = trial.suggest_loguniform(\"weight_decay\", 1e-5, 1e-1)\n",
      "/home/gonken/anaconda3/envs/torch/lib/python3.12/site-packages/torch/nn/modules/transformer.py:379: UserWarning: enable_nested_tensor is True, but self.use_nested_tensor is False because encoder_layer.self_attn.batch_first was not True(use batch_first for better inference performance)\n",
      "  warnings.warn(\n",
      "[I 2024-12-12 22:04:01,694] Trial 26 pruned. \n",
      "[I 2024-12-12 22:04:06,908] Trial 27 finished with value: 0.20833432133577753 and parameters: {'embed_dim': 64, 'num_heads': 8, 'num_layers': 3, 'dropout': 0.30000000000000004, 'learning_rate': 0.0015805718738644162, 'weight_decay': 0.000481628999039358}. Best is trial 17 with value: 0.2442773713744798.\n"
     ]
    },
    {
     "name": "stdout",
     "output_type": "stream",
     "text": [
      "Early stopping at epoch 11\n",
      "Final MCC: 0.2083\n"
     ]
    },
    {
     "name": "stderr",
     "output_type": "stream",
     "text": [
      "/tmp/ipykernel_1425419/2683590562.py:7: FutureWarning: suggest_loguniform has been deprecated in v3.0.0. This feature will be removed in v6.0.0. See https://github.com/optuna/optuna/releases/tag/v3.0.0. Use suggest_float(..., log=True) instead.\n",
      "  learning_rate = trial.suggest_loguniform(\"learning_rate\", 1e-4, 1e-1)\n",
      "/tmp/ipykernel_1425419/2683590562.py:8: FutureWarning: suggest_loguniform has been deprecated in v3.0.0. This feature will be removed in v6.0.0. See https://github.com/optuna/optuna/releases/tag/v3.0.0. Use suggest_float(..., log=True) instead.\n",
      "  weight_decay = trial.suggest_loguniform(\"weight_decay\", 1e-5, 1e-1)\n",
      "/home/gonken/anaconda3/envs/torch/lib/python3.12/site-packages/torch/nn/modules/transformer.py:379: UserWarning: enable_nested_tensor is True, but self.use_nested_tensor is False because encoder_layer.self_attn.batch_first was not True(use batch_first for better inference performance)\n",
      "  warnings.warn(\n",
      "[I 2024-12-12 22:04:07,369] Trial 28 pruned. \n",
      "[I 2024-12-12 22:04:15,662] Trial 29 finished with value: 0.17426478522999098 and parameters: {'embed_dim': 256, 'num_heads': 4, 'num_layers': 5, 'dropout': 0.30000000000000004, 'learning_rate': 0.003531187046182305, 'weight_decay': 0.034117033510120374}. Best is trial 17 with value: 0.2442773713744798.\n"
     ]
    },
    {
     "name": "stdout",
     "output_type": "stream",
     "text": [
      "Early stopping at epoch 14\n",
      "Final MCC: 0.1743\n"
     ]
    },
    {
     "name": "stderr",
     "output_type": "stream",
     "text": [
      "/tmp/ipykernel_1425419/2683590562.py:7: FutureWarning: suggest_loguniform has been deprecated in v3.0.0. This feature will be removed in v6.0.0. See https://github.com/optuna/optuna/releases/tag/v3.0.0. Use suggest_float(..., log=True) instead.\n",
      "  learning_rate = trial.suggest_loguniform(\"learning_rate\", 1e-4, 1e-1)\n",
      "/tmp/ipykernel_1425419/2683590562.py:8: FutureWarning: suggest_loguniform has been deprecated in v3.0.0. This feature will be removed in v6.0.0. See https://github.com/optuna/optuna/releases/tag/v3.0.0. Use suggest_float(..., log=True) instead.\n",
      "  weight_decay = trial.suggest_loguniform(\"weight_decay\", 1e-5, 1e-1)\n",
      "/home/gonken/anaconda3/envs/torch/lib/python3.12/site-packages/torch/nn/modules/transformer.py:379: UserWarning: enable_nested_tensor is True, but self.use_nested_tensor is False because encoder_layer.self_attn.batch_first was not True(use batch_first for better inference performance)\n",
      "  warnings.warn(\n",
      "[I 2024-12-12 22:04:16,207] Trial 30 pruned. \n",
      "[I 2024-12-12 22:04:24,585] Trial 31 finished with value: 0.18193229603660638 and parameters: {'embed_dim': 64, 'num_heads': 8, 'num_layers': 3, 'dropout': 0.25, 'learning_rate': 0.00048578416733151617, 'weight_decay': 0.00046075572578576843}. Best is trial 17 with value: 0.2442773713744798.\n"
     ]
    },
    {
     "name": "stdout",
     "output_type": "stream",
     "text": [
      "Early stopping at epoch 18\n",
      "Final MCC: 0.1819\n"
     ]
    },
    {
     "name": "stderr",
     "output_type": "stream",
     "text": [
      "/tmp/ipykernel_1425419/2683590562.py:7: FutureWarning: suggest_loguniform has been deprecated in v3.0.0. This feature will be removed in v6.0.0. See https://github.com/optuna/optuna/releases/tag/v3.0.0. Use suggest_float(..., log=True) instead.\n",
      "  learning_rate = trial.suggest_loguniform(\"learning_rate\", 1e-4, 1e-1)\n",
      "/tmp/ipykernel_1425419/2683590562.py:8: FutureWarning: suggest_loguniform has been deprecated in v3.0.0. This feature will be removed in v6.0.0. See https://github.com/optuna/optuna/releases/tag/v3.0.0. Use suggest_float(..., log=True) instead.\n",
      "  weight_decay = trial.suggest_loguniform(\"weight_decay\", 1e-5, 1e-1)\n",
      "/home/gonken/anaconda3/envs/torch/lib/python3.12/site-packages/torch/nn/modules/transformer.py:379: UserWarning: enable_nested_tensor is True, but self.use_nested_tensor is False because encoder_layer.self_attn.batch_first was not True(use batch_first for better inference performance)\n",
      "  warnings.warn(\n",
      "[I 2024-12-12 22:04:25,044] Trial 32 pruned. \n",
      "[I 2024-12-12 22:04:25,443] Trial 33 pruned. \n",
      "[I 2024-12-12 22:04:25,836] Trial 34 pruned. \n",
      "[I 2024-12-12 22:04:26,262] Trial 35 pruned. \n",
      "[I 2024-12-12 22:04:26,780] Trial 36 pruned. \n",
      "[I 2024-12-12 22:04:37,600] Trial 37 finished with value: 0.21205599346837367 and parameters: {'embed_dim': 64, 'num_heads': 8, 'num_layers': 3, 'dropout': 0.4, 'learning_rate': 0.00014771726262035215, 'weight_decay': 0.003423836332320402}. Best is trial 17 with value: 0.2442773713744798.\n"
     ]
    },
    {
     "name": "stdout",
     "output_type": "stream",
     "text": [
      "Early stopping at epoch 25\n",
      "Final MCC: 0.2121\n"
     ]
    },
    {
     "name": "stderr",
     "output_type": "stream",
     "text": [
      "/tmp/ipykernel_1425419/2683590562.py:7: FutureWarning: suggest_loguniform has been deprecated in v3.0.0. This feature will be removed in v6.0.0. See https://github.com/optuna/optuna/releases/tag/v3.0.0. Use suggest_float(..., log=True) instead.\n",
      "  learning_rate = trial.suggest_loguniform(\"learning_rate\", 1e-4, 1e-1)\n",
      "/tmp/ipykernel_1425419/2683590562.py:8: FutureWarning: suggest_loguniform has been deprecated in v3.0.0. This feature will be removed in v6.0.0. See https://github.com/optuna/optuna/releases/tag/v3.0.0. Use suggest_float(..., log=True) instead.\n",
      "  weight_decay = trial.suggest_loguniform(\"weight_decay\", 1e-5, 1e-1)\n",
      "/home/gonken/anaconda3/envs/torch/lib/python3.12/site-packages/torch/nn/modules/transformer.py:379: UserWarning: enable_nested_tensor is True, but self.use_nested_tensor is False because encoder_layer.self_attn.batch_first was not True(use batch_first for better inference performance)\n",
      "  warnings.warn(\n",
      "[I 2024-12-12 22:04:38,270] Trial 38 pruned. \n",
      "[I 2024-12-12 22:04:38,737] Trial 39 pruned. \n",
      "[I 2024-12-12 22:04:48,902] Trial 40 finished with value: 0.16237074154701198 and parameters: {'embed_dim': 64, 'num_heads': 8, 'num_layers': 3, 'dropout': 0.4, 'learning_rate': 0.0006975329238612423, 'weight_decay': 0.0030242889230691176}. Best is trial 17 with value: 0.2442773713744798.\n"
     ]
    },
    {
     "name": "stdout",
     "output_type": "stream",
     "text": [
      "Early stopping at epoch 23\n",
      "Final MCC: 0.1624\n"
     ]
    },
    {
     "name": "stderr",
     "output_type": "stream",
     "text": [
      "/tmp/ipykernel_1425419/2683590562.py:7: FutureWarning: suggest_loguniform has been deprecated in v3.0.0. This feature will be removed in v6.0.0. See https://github.com/optuna/optuna/releases/tag/v3.0.0. Use suggest_float(..., log=True) instead.\n",
      "  learning_rate = trial.suggest_loguniform(\"learning_rate\", 1e-4, 1e-1)\n",
      "/tmp/ipykernel_1425419/2683590562.py:8: FutureWarning: suggest_loguniform has been deprecated in v3.0.0. This feature will be removed in v6.0.0. See https://github.com/optuna/optuna/releases/tag/v3.0.0. Use suggest_float(..., log=True) instead.\n",
      "  weight_decay = trial.suggest_loguniform(\"weight_decay\", 1e-5, 1e-1)\n",
      "/home/gonken/anaconda3/envs/torch/lib/python3.12/site-packages/torch/nn/modules/transformer.py:379: UserWarning: enable_nested_tensor is True, but self.use_nested_tensor is False because encoder_layer.self_attn.batch_first was not True(use batch_first for better inference performance)\n",
      "  warnings.warn(\n",
      "[I 2024-12-12 22:04:54,333] Trial 41 finished with value: 0.20824645909674402 and parameters: {'embed_dim': 64, 'num_heads': 8, 'num_layers': 3, 'dropout': 0.45, 'learning_rate': 0.00014862889702045416, 'weight_decay': 9.819635009074534e-05}. Best is trial 17 with value: 0.2442773713744798.\n"
     ]
    },
    {
     "name": "stdout",
     "output_type": "stream",
     "text": [
      "Early stopping at epoch 12\n",
      "Final MCC: 0.2082\n"
     ]
    },
    {
     "name": "stderr",
     "output_type": "stream",
     "text": [
      "/tmp/ipykernel_1425419/2683590562.py:7: FutureWarning: suggest_loguniform has been deprecated in v3.0.0. This feature will be removed in v6.0.0. See https://github.com/optuna/optuna/releases/tag/v3.0.0. Use suggest_float(..., log=True) instead.\n",
      "  learning_rate = trial.suggest_loguniform(\"learning_rate\", 1e-4, 1e-1)\n",
      "/tmp/ipykernel_1425419/2683590562.py:8: FutureWarning: suggest_loguniform has been deprecated in v3.0.0. This feature will be removed in v6.0.0. See https://github.com/optuna/optuna/releases/tag/v3.0.0. Use suggest_float(..., log=True) instead.\n",
      "  weight_decay = trial.suggest_loguniform(\"weight_decay\", 1e-5, 1e-1)\n",
      "/home/gonken/anaconda3/envs/torch/lib/python3.12/site-packages/torch/nn/modules/transformer.py:379: UserWarning: enable_nested_tensor is True, but self.use_nested_tensor is False because encoder_layer.self_attn.batch_first was not True(use batch_first for better inference performance)\n",
      "  warnings.warn(\n",
      "[I 2024-12-12 22:04:59,622] Trial 42 finished with value: 0.22021303264001046 and parameters: {'embed_dim': 64, 'num_heads': 8, 'num_layers': 3, 'dropout': 0.5, 'learning_rate': 0.0002641346442169974, 'weight_decay': 0.0004893207853779042}. Best is trial 17 with value: 0.2442773713744798.\n"
     ]
    },
    {
     "name": "stdout",
     "output_type": "stream",
     "text": [
      "Early stopping at epoch 14\n",
      "Final MCC: 0.2202\n"
     ]
    },
    {
     "name": "stderr",
     "output_type": "stream",
     "text": [
      "/tmp/ipykernel_1425419/2683590562.py:7: FutureWarning: suggest_loguniform has been deprecated in v3.0.0. This feature will be removed in v6.0.0. See https://github.com/optuna/optuna/releases/tag/v3.0.0. Use suggest_float(..., log=True) instead.\n",
      "  learning_rate = trial.suggest_loguniform(\"learning_rate\", 1e-4, 1e-1)\n",
      "/tmp/ipykernel_1425419/2683590562.py:8: FutureWarning: suggest_loguniform has been deprecated in v3.0.0. This feature will be removed in v6.0.0. See https://github.com/optuna/optuna/releases/tag/v3.0.0. Use suggest_float(..., log=True) instead.\n",
      "  weight_decay = trial.suggest_loguniform(\"weight_decay\", 1e-5, 1e-1)\n",
      "/home/gonken/anaconda3/envs/torch/lib/python3.12/site-packages/torch/nn/modules/transformer.py:379: UserWarning: enable_nested_tensor is True, but self.use_nested_tensor is False because encoder_layer.self_attn.batch_first was not True(use batch_first for better inference performance)\n",
      "  warnings.warn(\n",
      "[I 2024-12-12 22:05:09,002] Trial 43 finished with value: 0.1788607694502003 and parameters: {'embed_dim': 64, 'num_heads': 8, 'num_layers': 3, 'dropout': 0.5, 'learning_rate': 0.0002521592521093538, 'weight_decay': 0.0006523564553239939}. Best is trial 17 with value: 0.2442773713744798.\n"
     ]
    },
    {
     "name": "stdout",
     "output_type": "stream",
     "text": [
      "Early stopping at epoch 22\n",
      "Final MCC: 0.1789\n"
     ]
    },
    {
     "name": "stderr",
     "output_type": "stream",
     "text": [
      "/tmp/ipykernel_1425419/2683590562.py:7: FutureWarning: suggest_loguniform has been deprecated in v3.0.0. This feature will be removed in v6.0.0. See https://github.com/optuna/optuna/releases/tag/v3.0.0. Use suggest_float(..., log=True) instead.\n",
      "  learning_rate = trial.suggest_loguniform(\"learning_rate\", 1e-4, 1e-1)\n",
      "/tmp/ipykernel_1425419/2683590562.py:8: FutureWarning: suggest_loguniform has been deprecated in v3.0.0. This feature will be removed in v6.0.0. See https://github.com/optuna/optuna/releases/tag/v3.0.0. Use suggest_float(..., log=True) instead.\n",
      "  weight_decay = trial.suggest_loguniform(\"weight_decay\", 1e-5, 1e-1)\n",
      "/home/gonken/anaconda3/envs/torch/lib/python3.12/site-packages/torch/nn/modules/transformer.py:379: UserWarning: enable_nested_tensor is True, but self.use_nested_tensor is False because encoder_layer.self_attn.batch_first was not True(use batch_first for better inference performance)\n",
      "  warnings.warn(\n",
      "[I 2024-12-12 22:05:09,393] Trial 44 pruned. \n",
      "[I 2024-12-12 22:05:09,820] Trial 45 pruned. \n",
      "[I 2024-12-12 22:05:15,221] Trial 46 finished with value: 0.24397045524847633 and parameters: {'embed_dim': 64, 'num_heads': 4, 'num_layers': 3, 'dropout': 0.5, 'learning_rate': 0.00013547305384316286, 'weight_decay': 0.0010422499575212499}. Best is trial 17 with value: 0.2442773713744798.\n"
     ]
    },
    {
     "name": "stdout",
     "output_type": "stream",
     "text": [
      "Early stopping at epoch 12\n",
      "Final MCC: 0.2440\n"
     ]
    },
    {
     "name": "stderr",
     "output_type": "stream",
     "text": [
      "/tmp/ipykernel_1425419/2683590562.py:7: FutureWarning: suggest_loguniform has been deprecated in v3.0.0. This feature will be removed in v6.0.0. See https://github.com/optuna/optuna/releases/tag/v3.0.0. Use suggest_float(..., log=True) instead.\n",
      "  learning_rate = trial.suggest_loguniform(\"learning_rate\", 1e-4, 1e-1)\n",
      "/tmp/ipykernel_1425419/2683590562.py:8: FutureWarning: suggest_loguniform has been deprecated in v3.0.0. This feature will be removed in v6.0.0. See https://github.com/optuna/optuna/releases/tag/v3.0.0. Use suggest_float(..., log=True) instead.\n",
      "  weight_decay = trial.suggest_loguniform(\"weight_decay\", 1e-5, 1e-1)\n",
      "/home/gonken/anaconda3/envs/torch/lib/python3.12/site-packages/torch/nn/modules/transformer.py:379: UserWarning: enable_nested_tensor is True, but self.use_nested_tensor is False because encoder_layer.self_attn.batch_first was not True(use batch_first for better inference performance)\n",
      "  warnings.warn(\n",
      "[I 2024-12-12 22:05:26,830] Trial 47 finished with value: 0.21900322682555096 and parameters: {'embed_dim': 64, 'num_heads': 4, 'num_layers': 4, 'dropout': 0.5, 'learning_rate': 0.00014358326128604906, 'weight_decay': 0.0011604783013649796}. Best is trial 17 with value: 0.2442773713744798.\n"
     ]
    },
    {
     "name": "stdout",
     "output_type": "stream",
     "text": [
      "Early stopping at epoch 22\n",
      "Final MCC: 0.2190\n"
     ]
    },
    {
     "name": "stderr",
     "output_type": "stream",
     "text": [
      "/tmp/ipykernel_1425419/2683590562.py:7: FutureWarning: suggest_loguniform has been deprecated in v3.0.0. This feature will be removed in v6.0.0. See https://github.com/optuna/optuna/releases/tag/v3.0.0. Use suggest_float(..., log=True) instead.\n",
      "  learning_rate = trial.suggest_loguniform(\"learning_rate\", 1e-4, 1e-1)\n",
      "/tmp/ipykernel_1425419/2683590562.py:8: FutureWarning: suggest_loguniform has been deprecated in v3.0.0. This feature will be removed in v6.0.0. See https://github.com/optuna/optuna/releases/tag/v3.0.0. Use suggest_float(..., log=True) instead.\n",
      "  weight_decay = trial.suggest_loguniform(\"weight_decay\", 1e-5, 1e-1)\n",
      "/home/gonken/anaconda3/envs/torch/lib/python3.12/site-packages/torch/nn/modules/transformer.py:379: UserWarning: enable_nested_tensor is True, but self.use_nested_tensor is False because encoder_layer.self_attn.batch_first was not True(use batch_first for better inference performance)\n",
      "  warnings.warn(\n",
      "[I 2024-12-12 22:05:37,526] Trial 48 finished with value: 0.20389177797111982 and parameters: {'embed_dim': 64, 'num_heads': 4, 'num_layers': 4, 'dropout': 0.5, 'learning_rate': 0.00021385173691001547, 'weight_decay': 0.0012604349211679895}. Best is trial 17 with value: 0.2442773713744798.\n"
     ]
    },
    {
     "name": "stdout",
     "output_type": "stream",
     "text": [
      "Early stopping at epoch 24\n",
      "Final MCC: 0.2039\n"
     ]
    },
    {
     "name": "stderr",
     "output_type": "stream",
     "text": [
      "/tmp/ipykernel_1425419/2683590562.py:7: FutureWarning: suggest_loguniform has been deprecated in v3.0.0. This feature will be removed in v6.0.0. See https://github.com/optuna/optuna/releases/tag/v3.0.0. Use suggest_float(..., log=True) instead.\n",
      "  learning_rate = trial.suggest_loguniform(\"learning_rate\", 1e-4, 1e-1)\n",
      "/tmp/ipykernel_1425419/2683590562.py:8: FutureWarning: suggest_loguniform has been deprecated in v3.0.0. This feature will be removed in v6.0.0. See https://github.com/optuna/optuna/releases/tag/v3.0.0. Use suggest_float(..., log=True) instead.\n",
      "  weight_decay = trial.suggest_loguniform(\"weight_decay\", 1e-5, 1e-1)\n",
      "/home/gonken/anaconda3/envs/torch/lib/python3.12/site-packages/torch/nn/modules/transformer.py:379: UserWarning: enable_nested_tensor is True, but self.use_nested_tensor is False because encoder_layer.self_attn.batch_first was not True(use batch_first for better inference performance)\n",
      "  warnings.warn(\n",
      "[I 2024-12-12 22:05:46,975] Trial 49 finished with value: 0.21384247735493012 and parameters: {'embed_dim': 64, 'num_heads': 4, 'num_layers': 4, 'dropout': 0.5, 'learning_rate': 0.00014551332329531028, 'weight_decay': 0.0005295307102863154}. Best is trial 17 with value: 0.2442773713744798.\n"
     ]
    },
    {
     "name": "stdout",
     "output_type": "stream",
     "text": [
      "Early stopping at epoch 20\n",
      "Final MCC: 0.2138\n"
     ]
    },
    {
     "name": "stderr",
     "output_type": "stream",
     "text": [
      "/tmp/ipykernel_1425419/2683590562.py:7: FutureWarning: suggest_loguniform has been deprecated in v3.0.0. This feature will be removed in v6.0.0. See https://github.com/optuna/optuna/releases/tag/v3.0.0. Use suggest_float(..., log=True) instead.\n",
      "  learning_rate = trial.suggest_loguniform(\"learning_rate\", 1e-4, 1e-1)\n",
      "/tmp/ipykernel_1425419/2683590562.py:8: FutureWarning: suggest_loguniform has been deprecated in v3.0.0. This feature will be removed in v6.0.0. See https://github.com/optuna/optuna/releases/tag/v3.0.0. Use suggest_float(..., log=True) instead.\n",
      "  weight_decay = trial.suggest_loguniform(\"weight_decay\", 1e-5, 1e-1)\n",
      "/home/gonken/anaconda3/envs/torch/lib/python3.12/site-packages/torch/nn/modules/transformer.py:379: UserWarning: enable_nested_tensor is True, but self.use_nested_tensor is False because encoder_layer.self_attn.batch_first was not True(use batch_first for better inference performance)\n",
      "  warnings.warn(\n",
      "[I 2024-12-12 22:05:57,627] Trial 50 finished with value: 0.1788607694502003 and parameters: {'embed_dim': 128, 'num_heads': 4, 'num_layers': 4, 'dropout': 0.45, 'learning_rate': 0.0002892067516026149, 'weight_decay': 0.0009175836057130154}. Best is trial 17 with value: 0.2442773713744798.\n"
     ]
    },
    {
     "name": "stdout",
     "output_type": "stream",
     "text": [
      "Early stopping at epoch 23\n",
      "Final MCC: 0.1789\n"
     ]
    },
    {
     "name": "stderr",
     "output_type": "stream",
     "text": [
      "/tmp/ipykernel_1425419/2683590562.py:7: FutureWarning: suggest_loguniform has been deprecated in v3.0.0. This feature will be removed in v6.0.0. See https://github.com/optuna/optuna/releases/tag/v3.0.0. Use suggest_float(..., log=True) instead.\n",
      "  learning_rate = trial.suggest_loguniform(\"learning_rate\", 1e-4, 1e-1)\n",
      "/tmp/ipykernel_1425419/2683590562.py:8: FutureWarning: suggest_loguniform has been deprecated in v3.0.0. This feature will be removed in v6.0.0. See https://github.com/optuna/optuna/releases/tag/v3.0.0. Use suggest_float(..., log=True) instead.\n",
      "  weight_decay = trial.suggest_loguniform(\"weight_decay\", 1e-5, 1e-1)\n",
      "/home/gonken/anaconda3/envs/torch/lib/python3.12/site-packages/torch/nn/modules/transformer.py:379: UserWarning: enable_nested_tensor is True, but self.use_nested_tensor is False because encoder_layer.self_attn.batch_first was not True(use batch_first for better inference performance)\n",
      "  warnings.warn(\n",
      "[I 2024-12-12 22:06:08,221] Trial 51 finished with value: 0.21144663019153281 and parameters: {'embed_dim': 64, 'num_heads': 4, 'num_layers': 4, 'dropout': 0.5, 'learning_rate': 0.000143865529825892, 'weight_decay': 0.0005434266426260578}. Best is trial 17 with value: 0.2442773713744798.\n"
     ]
    },
    {
     "name": "stdout",
     "output_type": "stream",
     "text": [
      "Early stopping at epoch 23\n",
      "Final MCC: 0.2114\n"
     ]
    },
    {
     "name": "stderr",
     "output_type": "stream",
     "text": [
      "/tmp/ipykernel_1425419/2683590562.py:7: FutureWarning: suggest_loguniform has been deprecated in v3.0.0. This feature will be removed in v6.0.0. See https://github.com/optuna/optuna/releases/tag/v3.0.0. Use suggest_float(..., log=True) instead.\n",
      "  learning_rate = trial.suggest_loguniform(\"learning_rate\", 1e-4, 1e-1)\n",
      "/tmp/ipykernel_1425419/2683590562.py:8: FutureWarning: suggest_loguniform has been deprecated in v3.0.0. This feature will be removed in v6.0.0. See https://github.com/optuna/optuna/releases/tag/v3.0.0. Use suggest_float(..., log=True) instead.\n",
      "  weight_decay = trial.suggest_loguniform(\"weight_decay\", 1e-5, 1e-1)\n",
      "/home/gonken/anaconda3/envs/torch/lib/python3.12/site-packages/torch/nn/modules/transformer.py:379: UserWarning: enable_nested_tensor is True, but self.use_nested_tensor is False because encoder_layer.self_attn.batch_first was not True(use batch_first for better inference performance)\n",
      "  warnings.warn(\n",
      "[I 2024-12-12 22:06:18,579] Trial 52 finished with value: 0.22266384153436058 and parameters: {'embed_dim': 64, 'num_heads': 4, 'num_layers': 4, 'dropout': 0.5, 'learning_rate': 0.0001233662170860296, 'weight_decay': 0.0011689898095110724}. Best is trial 17 with value: 0.2442773713744798.\n"
     ]
    },
    {
     "name": "stdout",
     "output_type": "stream",
     "text": [
      "Early stopping at epoch 23\n",
      "Final MCC: 0.2227\n"
     ]
    },
    {
     "name": "stderr",
     "output_type": "stream",
     "text": [
      "/tmp/ipykernel_1425419/2683590562.py:7: FutureWarning: suggest_loguniform has been deprecated in v3.0.0. This feature will be removed in v6.0.0. See https://github.com/optuna/optuna/releases/tag/v3.0.0. Use suggest_float(..., log=True) instead.\n",
      "  learning_rate = trial.suggest_loguniform(\"learning_rate\", 1e-4, 1e-1)\n",
      "/tmp/ipykernel_1425419/2683590562.py:8: FutureWarning: suggest_loguniform has been deprecated in v3.0.0. This feature will be removed in v6.0.0. See https://github.com/optuna/optuna/releases/tag/v3.0.0. Use suggest_float(..., log=True) instead.\n",
      "  weight_decay = trial.suggest_loguniform(\"weight_decay\", 1e-5, 1e-1)\n",
      "/home/gonken/anaconda3/envs/torch/lib/python3.12/site-packages/torch/nn/modules/transformer.py:379: UserWarning: enable_nested_tensor is True, but self.use_nested_tensor is False because encoder_layer.self_attn.batch_first was not True(use batch_first for better inference performance)\n",
      "  warnings.warn(\n",
      "[I 2024-12-12 22:06:29,957] Trial 53 finished with value: 0.21144663019153281 and parameters: {'embed_dim': 64, 'num_heads': 4, 'num_layers': 4, 'dropout': 0.5, 'learning_rate': 0.00011401506873303131, 'weight_decay': 0.0012464119919477113}. Best is trial 17 with value: 0.2442773713744798.\n"
     ]
    },
    {
     "name": "stdout",
     "output_type": "stream",
     "text": [
      "Early stopping at epoch 28\n",
      "Final MCC: 0.2114\n"
     ]
    },
    {
     "name": "stderr",
     "output_type": "stream",
     "text": [
      "/tmp/ipykernel_1425419/2683590562.py:7: FutureWarning: suggest_loguniform has been deprecated in v3.0.0. This feature will be removed in v6.0.0. See https://github.com/optuna/optuna/releases/tag/v3.0.0. Use suggest_float(..., log=True) instead.\n",
      "  learning_rate = trial.suggest_loguniform(\"learning_rate\", 1e-4, 1e-1)\n",
      "/tmp/ipykernel_1425419/2683590562.py:8: FutureWarning: suggest_loguniform has been deprecated in v3.0.0. This feature will be removed in v6.0.0. See https://github.com/optuna/optuna/releases/tag/v3.0.0. Use suggest_float(..., log=True) instead.\n",
      "  weight_decay = trial.suggest_loguniform(\"weight_decay\", 1e-5, 1e-1)\n",
      "/home/gonken/anaconda3/envs/torch/lib/python3.12/site-packages/torch/nn/modules/transformer.py:379: UserWarning: enable_nested_tensor is True, but self.use_nested_tensor is False because encoder_layer.self_attn.batch_first was not True(use batch_first for better inference performance)\n",
      "  warnings.warn(\n",
      "[I 2024-12-12 22:06:35,594] Trial 54 finished with value: 0.2029144591348824 and parameters: {'embed_dim': 64, 'num_heads': 4, 'num_layers': 4, 'dropout': 0.45, 'learning_rate': 0.00019934192865239762, 'weight_decay': 0.008700638440738097}. Best is trial 17 with value: 0.2442773713744798.\n"
     ]
    },
    {
     "name": "stdout",
     "output_type": "stream",
     "text": [
      "Early stopping at epoch 12\n",
      "Final MCC: 0.2029\n"
     ]
    },
    {
     "name": "stderr",
     "output_type": "stream",
     "text": [
      "/tmp/ipykernel_1425419/2683590562.py:7: FutureWarning: suggest_loguniform has been deprecated in v3.0.0. This feature will be removed in v6.0.0. See https://github.com/optuna/optuna/releases/tag/v3.0.0. Use suggest_float(..., log=True) instead.\n",
      "  learning_rate = trial.suggest_loguniform(\"learning_rate\", 1e-4, 1e-1)\n",
      "/tmp/ipykernel_1425419/2683590562.py:8: FutureWarning: suggest_loguniform has been deprecated in v3.0.0. This feature will be removed in v6.0.0. See https://github.com/optuna/optuna/releases/tag/v3.0.0. Use suggest_float(..., log=True) instead.\n",
      "  weight_decay = trial.suggest_loguniform(\"weight_decay\", 1e-5, 1e-1)\n",
      "/home/gonken/anaconda3/envs/torch/lib/python3.12/site-packages/torch/nn/modules/transformer.py:379: UserWarning: enable_nested_tensor is True, but self.use_nested_tensor is False because encoder_layer.self_attn.batch_first was not True(use batch_first for better inference performance)\n",
      "  warnings.warn(\n",
      "[I 2024-12-12 22:06:42,585] Trial 55 finished with value: 0.21698743599056877 and parameters: {'embed_dim': 64, 'num_heads': 4, 'num_layers': 4, 'dropout': 0.45, 'learning_rate': 0.000487561222073652, 'weight_decay': 0.0002214176479521716}. Best is trial 17 with value: 0.2442773713744798.\n"
     ]
    },
    {
     "name": "stdout",
     "output_type": "stream",
     "text": [
      "Early stopping at epoch 16\n",
      "Final MCC: 0.2170\n"
     ]
    },
    {
     "name": "stderr",
     "output_type": "stream",
     "text": [
      "/tmp/ipykernel_1425419/2683590562.py:7: FutureWarning: suggest_loguniform has been deprecated in v3.0.0. This feature will be removed in v6.0.0. See https://github.com/optuna/optuna/releases/tag/v3.0.0. Use suggest_float(..., log=True) instead.\n",
      "  learning_rate = trial.suggest_loguniform(\"learning_rate\", 1e-4, 1e-1)\n",
      "/tmp/ipykernel_1425419/2683590562.py:8: FutureWarning: suggest_loguniform has been deprecated in v3.0.0. This feature will be removed in v6.0.0. See https://github.com/optuna/optuna/releases/tag/v3.0.0. Use suggest_float(..., log=True) instead.\n",
      "  weight_decay = trial.suggest_loguniform(\"weight_decay\", 1e-5, 1e-1)\n",
      "/home/gonken/anaconda3/envs/torch/lib/python3.12/site-packages/torch/nn/modules/transformer.py:379: UserWarning: enable_nested_tensor is True, but self.use_nested_tensor is False because encoder_layer.self_attn.batch_first was not True(use batch_first for better inference performance)\n",
      "  warnings.warn(\n",
      "[I 2024-12-12 22:06:43,127] Trial 56 pruned. \n",
      "[I 2024-12-12 22:06:43,646] Trial 57 pruned. \n",
      "[I 2024-12-12 22:06:44,171] Trial 58 pruned. \n",
      "[I 2024-12-12 22:06:53,116] Trial 59 finished with value: 0.1931493796423091 and parameters: {'embed_dim': 64, 'num_heads': 4, 'num_layers': 5, 'dropout': 0.4, 'learning_rate': 0.00028025287793262464, 'weight_decay': 0.001962962049890771}. Best is trial 17 with value: 0.2442773713744798.\n"
     ]
    },
    {
     "name": "stdout",
     "output_type": "stream",
     "text": [
      "Early stopping at epoch 17\n",
      "Final MCC: 0.1931\n"
     ]
    },
    {
     "name": "stderr",
     "output_type": "stream",
     "text": [
      "/tmp/ipykernel_1425419/2683590562.py:7: FutureWarning: suggest_loguniform has been deprecated in v3.0.0. This feature will be removed in v6.0.0. See https://github.com/optuna/optuna/releases/tag/v3.0.0. Use suggest_float(..., log=True) instead.\n",
      "  learning_rate = trial.suggest_loguniform(\"learning_rate\", 1e-4, 1e-1)\n",
      "/tmp/ipykernel_1425419/2683590562.py:8: FutureWarning: suggest_loguniform has been deprecated in v3.0.0. This feature will be removed in v6.0.0. See https://github.com/optuna/optuna/releases/tag/v3.0.0. Use suggest_float(..., log=True) instead.\n",
      "  weight_decay = trial.suggest_loguniform(\"weight_decay\", 1e-5, 1e-1)\n",
      "/home/gonken/anaconda3/envs/torch/lib/python3.12/site-packages/torch/nn/modules/transformer.py:379: UserWarning: enable_nested_tensor is True, but self.use_nested_tensor is False because encoder_layer.self_attn.batch_first was not True(use batch_first for better inference performance)\n",
      "  warnings.warn(\n",
      "[I 2024-12-12 22:06:53,576] Trial 60 pruned. \n",
      "[I 2024-12-12 22:07:00,442] Trial 61 finished with value: 0.21791793423134 and parameters: {'embed_dim': 64, 'num_heads': 4, 'num_layers': 4, 'dropout': 0.45, 'learning_rate': 0.0004961070655448899, 'weight_decay': 0.00020616247844387018}. Best is trial 17 with value: 0.2442773713744798.\n"
     ]
    },
    {
     "name": "stdout",
     "output_type": "stream",
     "text": [
      "Early stopping at epoch 15\n",
      "Final MCC: 0.2179\n"
     ]
    },
    {
     "name": "stderr",
     "output_type": "stream",
     "text": [
      "/tmp/ipykernel_1425419/2683590562.py:7: FutureWarning: suggest_loguniform has been deprecated in v3.0.0. This feature will be removed in v6.0.0. See https://github.com/optuna/optuna/releases/tag/v3.0.0. Use suggest_float(..., log=True) instead.\n",
      "  learning_rate = trial.suggest_loguniform(\"learning_rate\", 1e-4, 1e-1)\n",
      "/tmp/ipykernel_1425419/2683590562.py:8: FutureWarning: suggest_loguniform has been deprecated in v3.0.0. This feature will be removed in v6.0.0. See https://github.com/optuna/optuna/releases/tag/v3.0.0. Use suggest_float(..., log=True) instead.\n",
      "  weight_decay = trial.suggest_loguniform(\"weight_decay\", 1e-5, 1e-1)\n",
      "/home/gonken/anaconda3/envs/torch/lib/python3.12/site-packages/torch/nn/modules/transformer.py:379: UserWarning: enable_nested_tensor is True, but self.use_nested_tensor is False because encoder_layer.self_attn.batch_first was not True(use batch_first for better inference performance)\n",
      "  warnings.warn(\n",
      "[I 2024-12-12 22:07:08,931] Trial 62 finished with value: 0.17252089353322636 and parameters: {'embed_dim': 64, 'num_heads': 4, 'num_layers': 4, 'dropout': 0.5, 'learning_rate': 0.00017670935466389864, 'weight_decay': 0.0001061880138034139}. Best is trial 17 with value: 0.2442773713744798.\n"
     ]
    },
    {
     "name": "stdout",
     "output_type": "stream",
     "text": [
      "Early stopping at epoch 19\n",
      "Final MCC: 0.1725\n"
     ]
    },
    {
     "name": "stderr",
     "output_type": "stream",
     "text": [
      "/tmp/ipykernel_1425419/2683590562.py:7: FutureWarning: suggest_loguniform has been deprecated in v3.0.0. This feature will be removed in v6.0.0. See https://github.com/optuna/optuna/releases/tag/v3.0.0. Use suggest_float(..., log=True) instead.\n",
      "  learning_rate = trial.suggest_loguniform(\"learning_rate\", 1e-4, 1e-1)\n",
      "/tmp/ipykernel_1425419/2683590562.py:8: FutureWarning: suggest_loguniform has been deprecated in v3.0.0. This feature will be removed in v6.0.0. See https://github.com/optuna/optuna/releases/tag/v3.0.0. Use suggest_float(..., log=True) instead.\n",
      "  weight_decay = trial.suggest_loguniform(\"weight_decay\", 1e-5, 1e-1)\n",
      "/home/gonken/anaconda3/envs/torch/lib/python3.12/site-packages/torch/nn/modules/transformer.py:379: UserWarning: enable_nested_tensor is True, but self.use_nested_tensor is False because encoder_layer.self_attn.batch_first was not True(use batch_first for better inference performance)\n",
      "  warnings.warn(\n",
      "[I 2024-12-12 22:07:09,319] Trial 63 pruned. \n",
      "[I 2024-12-12 22:07:09,669] Trial 64 pruned. \n",
      "[I 2024-12-12 22:07:10,105] Trial 65 pruned. \n",
      "[I 2024-12-12 22:07:10,649] Trial 66 pruned. \n",
      "[I 2024-12-12 22:07:11,098] Trial 67 pruned. \n",
      "[I 2024-12-12 22:07:11,635] Trial 68 pruned. \n",
      "[I 2024-12-12 22:07:20,379] Trial 69 finished with value: 0.19742705895854942 and parameters: {'embed_dim': 256, 'num_heads': 4, 'num_layers': 3, 'dropout': 0.5, 'learning_rate': 0.0001754885665131573, 'weight_decay': 0.002445035143594684}. Best is trial 17 with value: 0.2442773713744798.\n"
     ]
    },
    {
     "name": "stdout",
     "output_type": "stream",
     "text": [
      "Early stopping at epoch 23\n",
      "Final MCC: 0.1974\n"
     ]
    },
    {
     "name": "stderr",
     "output_type": "stream",
     "text": [
      "/tmp/ipykernel_1425419/2683590562.py:7: FutureWarning: suggest_loguniform has been deprecated in v3.0.0. This feature will be removed in v6.0.0. See https://github.com/optuna/optuna/releases/tag/v3.0.0. Use suggest_float(..., log=True) instead.\n",
      "  learning_rate = trial.suggest_loguniform(\"learning_rate\", 1e-4, 1e-1)\n",
      "/tmp/ipykernel_1425419/2683590562.py:8: FutureWarning: suggest_loguniform has been deprecated in v3.0.0. This feature will be removed in v6.0.0. See https://github.com/optuna/optuna/releases/tag/v3.0.0. Use suggest_float(..., log=True) instead.\n",
      "  weight_decay = trial.suggest_loguniform(\"weight_decay\", 1e-5, 1e-1)\n",
      "/home/gonken/anaconda3/envs/torch/lib/python3.12/site-packages/torch/nn/modules/transformer.py:379: UserWarning: enable_nested_tensor is True, but self.use_nested_tensor is False because encoder_layer.self_attn.batch_first was not True(use batch_first for better inference performance)\n",
      "  warnings.warn(\n",
      "[I 2024-12-12 22:07:20,908] Trial 70 pruned. \n",
      "[I 2024-12-12 22:07:27,676] Trial 71 finished with value: 0.23117799692084084 and parameters: {'embed_dim': 64, 'num_heads': 4, 'num_layers': 4, 'dropout': 0.45, 'learning_rate': 0.0005017849014861264, 'weight_decay': 0.00021140321026684157}. Best is trial 17 with value: 0.2442773713744798.\n"
     ]
    },
    {
     "name": "stdout",
     "output_type": "stream",
     "text": [
      "Early stopping at epoch 14\n",
      "Final MCC: 0.2312\n"
     ]
    },
    {
     "name": "stderr",
     "output_type": "stream",
     "text": [
      "/tmp/ipykernel_1425419/2683590562.py:7: FutureWarning: suggest_loguniform has been deprecated in v3.0.0. This feature will be removed in v6.0.0. See https://github.com/optuna/optuna/releases/tag/v3.0.0. Use suggest_float(..., log=True) instead.\n",
      "  learning_rate = trial.suggest_loguniform(\"learning_rate\", 1e-4, 1e-1)\n",
      "/tmp/ipykernel_1425419/2683590562.py:8: FutureWarning: suggest_loguniform has been deprecated in v3.0.0. This feature will be removed in v6.0.0. See https://github.com/optuna/optuna/releases/tag/v3.0.0. Use suggest_float(..., log=True) instead.\n",
      "  weight_decay = trial.suggest_loguniform(\"weight_decay\", 1e-5, 1e-1)\n",
      "/home/gonken/anaconda3/envs/torch/lib/python3.12/site-packages/torch/nn/modules/transformer.py:379: UserWarning: enable_nested_tensor is True, but self.use_nested_tensor is False because encoder_layer.self_attn.batch_first was not True(use batch_first for better inference performance)\n",
      "  warnings.warn(\n",
      "[I 2024-12-12 22:07:28,143] Trial 72 pruned. \n",
      "[I 2024-12-12 22:07:28,663] Trial 73 pruned. \n",
      "[I 2024-12-12 22:07:29,154] Trial 74 pruned. \n",
      "[I 2024-12-12 22:07:29,595] Trial 75 pruned. \n",
      "[I 2024-12-12 22:07:30,124] Trial 76 pruned. \n",
      "[I 2024-12-12 22:07:30,611] Trial 77 pruned. \n",
      "[I 2024-12-12 22:07:31,006] Trial 78 pruned. \n",
      "[I 2024-12-12 22:07:31,477] Trial 79 pruned. \n",
      "[I 2024-12-12 22:07:31,920] Trial 80 pruned. \n",
      "[I 2024-12-12 22:07:32,492] Trial 81 pruned. \n",
      "[I 2024-12-12 22:07:33,011] Trial 82 pruned. \n",
      "[I 2024-12-12 22:07:33,507] Trial 83 pruned. \n",
      "[I 2024-12-12 22:07:41,215] Trial 84 finished with value: 0.2168978427216907 and parameters: {'embed_dim': 64, 'num_heads': 4, 'num_layers': 4, 'dropout': 0.45, 'learning_rate': 0.0010597341481005278, 'weight_decay': 0.0003381447822211435}. Best is trial 17 with value: 0.2442773713744798.\n"
     ]
    },
    {
     "name": "stdout",
     "output_type": "stream",
     "text": [
      "Early stopping at epoch 18\n",
      "Final MCC: 0.2169\n"
     ]
    },
    {
     "name": "stderr",
     "output_type": "stream",
     "text": [
      "/tmp/ipykernel_1425419/2683590562.py:7: FutureWarning: suggest_loguniform has been deprecated in v3.0.0. This feature will be removed in v6.0.0. See https://github.com/optuna/optuna/releases/tag/v3.0.0. Use suggest_float(..., log=True) instead.\n",
      "  learning_rate = trial.suggest_loguniform(\"learning_rate\", 1e-4, 1e-1)\n",
      "/tmp/ipykernel_1425419/2683590562.py:8: FutureWarning: suggest_loguniform has been deprecated in v3.0.0. This feature will be removed in v6.0.0. See https://github.com/optuna/optuna/releases/tag/v3.0.0. Use suggest_float(..., log=True) instead.\n",
      "  weight_decay = trial.suggest_loguniform(\"weight_decay\", 1e-5, 1e-1)\n",
      "/home/gonken/anaconda3/envs/torch/lib/python3.12/site-packages/torch/nn/modules/transformer.py:379: UserWarning: enable_nested_tensor is True, but self.use_nested_tensor is False because encoder_layer.self_attn.batch_first was not True(use batch_first for better inference performance)\n",
      "  warnings.warn(\n",
      "[I 2024-12-12 22:07:46,907] Trial 85 finished with value: 0.18682935809623102 and parameters: {'embed_dim': 64, 'num_heads': 8, 'num_layers': 4, 'dropout': 0.45, 'learning_rate': 0.0006964337538094404, 'weight_decay': 0.0005307770445354697}. Best is trial 17 with value: 0.2442773713744798.\n"
     ]
    },
    {
     "name": "stdout",
     "output_type": "stream",
     "text": [
      "Early stopping at epoch 11\n",
      "Final MCC: 0.1868\n"
     ]
    },
    {
     "name": "stderr",
     "output_type": "stream",
     "text": [
      "/tmp/ipykernel_1425419/2683590562.py:7: FutureWarning: suggest_loguniform has been deprecated in v3.0.0. This feature will be removed in v6.0.0. See https://github.com/optuna/optuna/releases/tag/v3.0.0. Use suggest_float(..., log=True) instead.\n",
      "  learning_rate = trial.suggest_loguniform(\"learning_rate\", 1e-4, 1e-1)\n",
      "/tmp/ipykernel_1425419/2683590562.py:8: FutureWarning: suggest_loguniform has been deprecated in v3.0.0. This feature will be removed in v6.0.0. See https://github.com/optuna/optuna/releases/tag/v3.0.0. Use suggest_float(..., log=True) instead.\n",
      "  weight_decay = trial.suggest_loguniform(\"weight_decay\", 1e-5, 1e-1)\n",
      "/home/gonken/anaconda3/envs/torch/lib/python3.12/site-packages/torch/nn/modules/transformer.py:379: UserWarning: enable_nested_tensor is True, but self.use_nested_tensor is False because encoder_layer.self_attn.batch_first was not True(use batch_first for better inference performance)\n",
      "  warnings.warn(\n",
      "[I 2024-12-12 22:07:47,293] Trial 86 pruned. \n",
      "[I 2024-12-12 22:07:47,827] Trial 87 pruned. \n",
      "[I 2024-12-12 22:07:54,001] Trial 88 finished with value: 0.21824701358980594 and parameters: {'embed_dim': 64, 'num_heads': 8, 'num_layers': 4, 'dropout': 0.5, 'learning_rate': 0.0002253484378777718, 'weight_decay': 0.0015548526688913956}. Best is trial 17 with value: 0.2442773713744798.\n"
     ]
    },
    {
     "name": "stdout",
     "output_type": "stream",
     "text": [
      "Early stopping at epoch 14\n",
      "Final MCC: 0.2182\n"
     ]
    },
    {
     "name": "stderr",
     "output_type": "stream",
     "text": [
      "/tmp/ipykernel_1425419/2683590562.py:7: FutureWarning: suggest_loguniform has been deprecated in v3.0.0. This feature will be removed in v6.0.0. See https://github.com/optuna/optuna/releases/tag/v3.0.0. Use suggest_float(..., log=True) instead.\n",
      "  learning_rate = trial.suggest_loguniform(\"learning_rate\", 1e-4, 1e-1)\n",
      "/tmp/ipykernel_1425419/2683590562.py:8: FutureWarning: suggest_loguniform has been deprecated in v3.0.0. This feature will be removed in v6.0.0. See https://github.com/optuna/optuna/releases/tag/v3.0.0. Use suggest_float(..., log=True) instead.\n",
      "  weight_decay = trial.suggest_loguniform(\"weight_decay\", 1e-5, 1e-1)\n",
      "/home/gonken/anaconda3/envs/torch/lib/python3.12/site-packages/torch/nn/modules/transformer.py:379: UserWarning: enable_nested_tensor is True, but self.use_nested_tensor is False because encoder_layer.self_attn.batch_first was not True(use batch_first for better inference performance)\n",
      "  warnings.warn(\n",
      "[I 2024-12-12 22:08:00,951] Trial 89 finished with value: 0.21900322682555096 and parameters: {'embed_dim': 128, 'num_heads': 8, 'num_layers': 3, 'dropout': 0.5, 'learning_rate': 0.0002105579439137697, 'weight_decay': 0.0005901814647917912}. Best is trial 17 with value: 0.2442773713744798.\n"
     ]
    },
    {
     "name": "stdout",
     "output_type": "stream",
     "text": [
      "Early stopping at epoch 17\n",
      "Final MCC: 0.2190\n"
     ]
    },
    {
     "name": "stderr",
     "output_type": "stream",
     "text": [
      "/tmp/ipykernel_1425419/2683590562.py:7: FutureWarning: suggest_loguniform has been deprecated in v3.0.0. This feature will be removed in v6.0.0. See https://github.com/optuna/optuna/releases/tag/v3.0.0. Use suggest_float(..., log=True) instead.\n",
      "  learning_rate = trial.suggest_loguniform(\"learning_rate\", 1e-4, 1e-1)\n",
      "/tmp/ipykernel_1425419/2683590562.py:8: FutureWarning: suggest_loguniform has been deprecated in v3.0.0. This feature will be removed in v6.0.0. See https://github.com/optuna/optuna/releases/tag/v3.0.0. Use suggest_float(..., log=True) instead.\n",
      "  weight_decay = trial.suggest_loguniform(\"weight_decay\", 1e-5, 1e-1)\n",
      "/home/gonken/anaconda3/envs/torch/lib/python3.12/site-packages/torch/nn/modules/transformer.py:379: UserWarning: enable_nested_tensor is True, but self.use_nested_tensor is False because encoder_layer.self_attn.batch_first was not True(use batch_first for better inference performance)\n",
      "  warnings.warn(\n",
      "[I 2024-12-12 22:08:08,231] Trial 90 finished with value: 0.21791793423134 and parameters: {'embed_dim': 128, 'num_heads': 8, 'num_layers': 3, 'dropout': 0.5, 'learning_rate': 0.00021649757664053408, 'weight_decay': 0.001579111320710974}. Best is trial 17 with value: 0.2442773713744798.\n"
     ]
    },
    {
     "name": "stdout",
     "output_type": "stream",
     "text": [
      "Early stopping at epoch 17\n",
      "Final MCC: 0.2179\n"
     ]
    },
    {
     "name": "stderr",
     "output_type": "stream",
     "text": [
      "/tmp/ipykernel_1425419/2683590562.py:7: FutureWarning: suggest_loguniform has been deprecated in v3.0.0. This feature will be removed in v6.0.0. See https://github.com/optuna/optuna/releases/tag/v3.0.0. Use suggest_float(..., log=True) instead.\n",
      "  learning_rate = trial.suggest_loguniform(\"learning_rate\", 1e-4, 1e-1)\n",
      "/tmp/ipykernel_1425419/2683590562.py:8: FutureWarning: suggest_loguniform has been deprecated in v3.0.0. This feature will be removed in v6.0.0. See https://github.com/optuna/optuna/releases/tag/v3.0.0. Use suggest_float(..., log=True) instead.\n",
      "  weight_decay = trial.suggest_loguniform(\"weight_decay\", 1e-5, 1e-1)\n",
      "/home/gonken/anaconda3/envs/torch/lib/python3.12/site-packages/torch/nn/modules/transformer.py:379: UserWarning: enable_nested_tensor is True, but self.use_nested_tensor is False because encoder_layer.self_attn.batch_first was not True(use batch_first for better inference performance)\n",
      "  warnings.warn(\n",
      "[I 2024-12-12 22:08:13,053] Trial 91 finished with value: 0.19255518083326909 and parameters: {'embed_dim': 128, 'num_heads': 8, 'num_layers': 3, 'dropout': 0.5, 'learning_rate': 0.00012917620957482188, 'weight_decay': 0.00046417839491637346}. Best is trial 17 with value: 0.2442773713744798.\n"
     ]
    },
    {
     "name": "stdout",
     "output_type": "stream",
     "text": [
      "Early stopping at epoch 13\n",
      "Final MCC: 0.1926\n"
     ]
    },
    {
     "name": "stderr",
     "output_type": "stream",
     "text": [
      "/tmp/ipykernel_1425419/2683590562.py:7: FutureWarning: suggest_loguniform has been deprecated in v3.0.0. This feature will be removed in v6.0.0. See https://github.com/optuna/optuna/releases/tag/v3.0.0. Use suggest_float(..., log=True) instead.\n",
      "  learning_rate = trial.suggest_loguniform(\"learning_rate\", 1e-4, 1e-1)\n",
      "/tmp/ipykernel_1425419/2683590562.py:8: FutureWarning: suggest_loguniform has been deprecated in v3.0.0. This feature will be removed in v6.0.0. See https://github.com/optuna/optuna/releases/tag/v3.0.0. Use suggest_float(..., log=True) instead.\n",
      "  weight_decay = trial.suggest_loguniform(\"weight_decay\", 1e-5, 1e-1)\n",
      "/home/gonken/anaconda3/envs/torch/lib/python3.12/site-packages/torch/nn/modules/transformer.py:379: UserWarning: enable_nested_tensor is True, but self.use_nested_tensor is False because encoder_layer.self_attn.batch_first was not True(use batch_first for better inference performance)\n",
      "  warnings.warn(\n",
      "[I 2024-12-12 22:08:24,492] Trial 92 finished with value: 0.20172522992322012 and parameters: {'embed_dim': 128, 'num_heads': 8, 'num_layers': 3, 'dropout': 0.5, 'learning_rate': 0.00017561509760353848, 'weight_decay': 0.0006366225110397343}. Best is trial 17 with value: 0.2442773713744798.\n"
     ]
    },
    {
     "name": "stdout",
     "output_type": "stream",
     "text": [
      "Early stopping at epoch 28\n",
      "Final MCC: 0.2017\n"
     ]
    },
    {
     "name": "stderr",
     "output_type": "stream",
     "text": [
      "/tmp/ipykernel_1425419/2683590562.py:7: FutureWarning: suggest_loguniform has been deprecated in v3.0.0. This feature will be removed in v6.0.0. See https://github.com/optuna/optuna/releases/tag/v3.0.0. Use suggest_float(..., log=True) instead.\n",
      "  learning_rate = trial.suggest_loguniform(\"learning_rate\", 1e-4, 1e-1)\n",
      "/tmp/ipykernel_1425419/2683590562.py:8: FutureWarning: suggest_loguniform has been deprecated in v3.0.0. This feature will be removed in v6.0.0. See https://github.com/optuna/optuna/releases/tag/v3.0.0. Use suggest_float(..., log=True) instead.\n",
      "  weight_decay = trial.suggest_loguniform(\"weight_decay\", 1e-5, 1e-1)\n",
      "/home/gonken/anaconda3/envs/torch/lib/python3.12/site-packages/torch/nn/modules/transformer.py:379: UserWarning: enable_nested_tensor is True, but self.use_nested_tensor is False because encoder_layer.self_attn.batch_first was not True(use batch_first for better inference performance)\n",
      "  warnings.warn(\n",
      "[I 2024-12-12 22:08:33,482] Trial 93 finished with value: 0.20824645909674402 and parameters: {'embed_dim': 128, 'num_heads': 8, 'num_layers': 3, 'dropout': 0.5, 'learning_rate': 0.0002431695903187589, 'weight_decay': 0.0009452282767068157}. Best is trial 17 with value: 0.2442773713744798.\n"
     ]
    },
    {
     "name": "stdout",
     "output_type": "stream",
     "text": [
      "Early stopping at epoch 24\n",
      "Final MCC: 0.2082\n"
     ]
    },
    {
     "name": "stderr",
     "output_type": "stream",
     "text": [
      "/tmp/ipykernel_1425419/2683590562.py:7: FutureWarning: suggest_loguniform has been deprecated in v3.0.0. This feature will be removed in v6.0.0. See https://github.com/optuna/optuna/releases/tag/v3.0.0. Use suggest_float(..., log=True) instead.\n",
      "  learning_rate = trial.suggest_loguniform(\"learning_rate\", 1e-4, 1e-1)\n",
      "/tmp/ipykernel_1425419/2683590562.py:8: FutureWarning: suggest_loguniform has been deprecated in v3.0.0. This feature will be removed in v6.0.0. See https://github.com/optuna/optuna/releases/tag/v3.0.0. Use suggest_float(..., log=True) instead.\n",
      "  weight_decay = trial.suggest_loguniform(\"weight_decay\", 1e-5, 1e-1)\n",
      "/home/gonken/anaconda3/envs/torch/lib/python3.12/site-packages/torch/nn/modules/transformer.py:379: UserWarning: enable_nested_tensor is True, but self.use_nested_tensor is False because encoder_layer.self_attn.batch_first was not True(use batch_first for better inference performance)\n",
      "  warnings.warn(\n",
      "[I 2024-12-12 22:08:52,261] Trial 94 finished with value: 0.1548070797655182 and parameters: {'embed_dim': 128, 'num_heads': 8, 'num_layers': 3, 'dropout': 0.5, 'learning_rate': 0.00018575106239177415, 'weight_decay': 0.0027674496617748523}. Best is trial 17 with value: 0.2442773713744798.\n"
     ]
    },
    {
     "name": "stdout",
     "output_type": "stream",
     "text": [
      "Early stopping at epoch 49\n",
      "Final MCC: 0.1548\n"
     ]
    },
    {
     "name": "stderr",
     "output_type": "stream",
     "text": [
      "/tmp/ipykernel_1425419/2683590562.py:7: FutureWarning: suggest_loguniform has been deprecated in v3.0.0. This feature will be removed in v6.0.0. See https://github.com/optuna/optuna/releases/tag/v3.0.0. Use suggest_float(..., log=True) instead.\n",
      "  learning_rate = trial.suggest_loguniform(\"learning_rate\", 1e-4, 1e-1)\n",
      "/tmp/ipykernel_1425419/2683590562.py:8: FutureWarning: suggest_loguniform has been deprecated in v3.0.0. This feature will be removed in v6.0.0. See https://github.com/optuna/optuna/releases/tag/v3.0.0. Use suggest_float(..., log=True) instead.\n",
      "  weight_decay = trial.suggest_loguniform(\"weight_decay\", 1e-5, 1e-1)\n",
      "/home/gonken/anaconda3/envs/torch/lib/python3.12/site-packages/torch/nn/modules/transformer.py:379: UserWarning: enable_nested_tensor is True, but self.use_nested_tensor is False because encoder_layer.self_attn.batch_first was not True(use batch_first for better inference performance)\n",
      "  warnings.warn(\n",
      "[I 2024-12-12 22:08:52,832] Trial 95 pruned. \n",
      "[I 2024-12-12 22:08:53,226] Trial 96 pruned. \n",
      "[I 2024-12-12 22:08:53,725] Trial 97 pruned. \n",
      "[I 2024-12-12 22:09:02,441] Trial 98 finished with value: 0.20191135200894691 and parameters: {'embed_dim': 64, 'num_heads': 8, 'num_layers': 5, 'dropout': 0.5, 'learning_rate': 0.00033109431013309584, 'weight_decay': 0.0006272640058317629}. Best is trial 17 with value: 0.2442773713744798.\n"
     ]
    },
    {
     "name": "stdout",
     "output_type": "stream",
     "text": [
      "Early stopping at epoch 15\n",
      "Final MCC: 0.2019\n"
     ]
    },
    {
     "name": "stderr",
     "output_type": "stream",
     "text": [
      "/tmp/ipykernel_1425419/2683590562.py:7: FutureWarning: suggest_loguniform has been deprecated in v3.0.0. This feature will be removed in v6.0.0. See https://github.com/optuna/optuna/releases/tag/v3.0.0. Use suggest_float(..., log=True) instead.\n",
      "  learning_rate = trial.suggest_loguniform(\"learning_rate\", 1e-4, 1e-1)\n",
      "/tmp/ipykernel_1425419/2683590562.py:8: FutureWarning: suggest_loguniform has been deprecated in v3.0.0. This feature will be removed in v6.0.0. See https://github.com/optuna/optuna/releases/tag/v3.0.0. Use suggest_float(..., log=True) instead.\n",
      "  weight_decay = trial.suggest_loguniform(\"weight_decay\", 1e-5, 1e-1)\n",
      "/home/gonken/anaconda3/envs/torch/lib/python3.12/site-packages/torch/nn/modules/transformer.py:379: UserWarning: enable_nested_tensor is True, but self.use_nested_tensor is False because encoder_layer.self_attn.batch_first was not True(use batch_first for better inference performance)\n",
      "  warnings.warn(\n",
      "[I 2024-12-12 22:09:02,853] Trial 99 pruned. \n"
     ]
    },
    {
     "name": "stdout",
     "output_type": "stream",
     "text": [
      "Best Parameters:  {'embed_dim': 64, 'num_heads': 8, 'num_layers': 5, 'dropout': 0.2, 'learning_rate': 0.0003785099337944861, 'weight_decay': 0.0003034144790751974}\n",
      "Best Validation F1:  0.2442773713744798\n"
     ]
    }
   ],
   "source": [
    "device_id = 1\n",
    "torch.cuda.set_device(device_id)\n",
    "device = torch.device(f\"cuda:{device_id}\" if torch.cuda.is_available() else \"cpu\")\n",
    "\n",
    "# Optunaの設定\n",
    "study = optuna.create_study(direction=\"maximize\")  \n",
    "study.optimize(objective, n_trials=100)\n",
    "\n",
    "# 結果表示\n",
    "print(\"Best Parameters: \", study.best_params)\n",
    "print(\"Best Validation F1: \", study.best_value)"
   ]
  },
  {
   "cell_type": "code",
   "execution_count": 24,
   "metadata": {},
   "outputs": [
    {
     "name": "stdout",
     "output_type": "stream",
     "text": [
      "Best parameters saved to 'best_params.json'\n"
     ]
    }
   ],
   "source": [
    "best_params = study.best_params\n",
    "\n",
    "# JSON形式で保存\n",
    "with open(\"optim_param/stack_model_params.json\", \"w\") as f:\n",
    "    json.dump(best_params, f)\n",
    "\n",
    "print(\"Best parameters saved to 'best_params.json'\")"
   ]
  },
  {
   "cell_type": "code",
   "execution_count": 32,
   "metadata": {},
   "outputs": [
    {
     "name": "stderr",
     "output_type": "stream",
     "text": [
      "/home/gonken/anaconda3/envs/torch/lib/python3.12/site-packages/torch/nn/modules/transformer.py:379: UserWarning: enable_nested_tensor is True, but self.use_nested_tensor is False because encoder_layer.self_attn.batch_first was not True(use batch_first for better inference performance)\n",
      "  warnings.warn(\n"
     ]
    },
    {
     "name": "stdout",
     "output_type": "stream",
     "text": [
      "Epoch [1/50], Loss: 0.4958\n",
      "Epoch [1/50], Train Loss: 0.4958, Val Loss: 0.6585\n",
      "Epoch [2/50], Loss: 0.4569\n",
      "Epoch [2/50], Train Loss: 0.4569, Val Loss: 0.7144\n",
      "Epoch [3/50], Loss: 0.4561\n",
      "Epoch [3/50], Train Loss: 0.4561, Val Loss: 0.6955\n",
      "Epoch [4/50], Loss: 0.4603\n",
      "Epoch [4/50], Train Loss: 0.4603, Val Loss: 0.6899\n",
      "Epoch [5/50], Loss: 0.4537\n",
      "Epoch [5/50], Train Loss: 0.4537, Val Loss: 0.6640\n",
      "Epoch [6/50], Loss: 0.4507\n",
      "Epoch [6/50], Train Loss: 0.4507, Val Loss: 0.7609\n",
      "Epoch [7/50], Loss: 0.4502\n",
      "Epoch [7/50], Train Loss: 0.4502, Val Loss: 0.7620\n",
      "Epoch [8/50], Loss: 0.4606\n",
      "Epoch [8/50], Train Loss: 0.4606, Val Loss: 0.6697\n",
      "Epoch [9/50], Loss: 0.4486\n",
      "Epoch [9/50], Train Loss: 0.4486, Val Loss: 0.7023\n",
      "Epoch [10/50], Loss: 0.4530\n",
      "Epoch [10/50], Train Loss: 0.4530, Val Loss: 0.7580\n",
      "Epoch [11/50], Loss: 0.4496\n",
      "Epoch [11/50], Train Loss: 0.4496, Val Loss: 0.7060\n",
      "Epoch [12/50], Loss: 0.4428\n",
      "Epoch [12/50], Train Loss: 0.4428, Val Loss: 0.7427\n",
      "Epoch [13/50], Loss: 0.4484\n",
      "Epoch [13/50], Train Loss: 0.4484, Val Loss: 0.7476\n",
      "Epoch [14/50], Loss: 0.4426\n",
      "Epoch [14/50], Train Loss: 0.4426, Val Loss: 0.6966\n",
      "Epoch [15/50], Loss: 0.4488\n",
      "Epoch [15/50], Train Loss: 0.4488, Val Loss: 0.6901\n",
      "Epoch [16/50], Loss: 0.4437\n",
      "Epoch [16/50], Train Loss: 0.4437, Val Loss: 0.7327\n",
      "Epoch [17/50], Loss: 0.4449\n",
      "Epoch [17/50], Train Loss: 0.4449, Val Loss: 0.7205\n",
      "Epoch [18/50], Loss: 0.4431\n",
      "Epoch [18/50], Train Loss: 0.4431, Val Loss: 0.6936\n",
      "Epoch [19/50], Loss: 0.4437\n",
      "Epoch [19/50], Train Loss: 0.4437, Val Loss: 0.6832\n",
      "Epoch [20/50], Loss: 0.4444\n",
      "Epoch [20/50], Train Loss: 0.4444, Val Loss: 0.7523\n",
      "Epoch [21/50], Loss: 0.4409\n",
      "Epoch [21/50], Train Loss: 0.4409, Val Loss: 0.6870\n",
      "Epoch [22/50], Loss: 0.4420\n",
      "Epoch [22/50], Train Loss: 0.4420, Val Loss: 0.7150\n",
      "Epoch [23/50], Loss: 0.4379\n",
      "Epoch [23/50], Train Loss: 0.4379, Val Loss: 0.7437\n",
      "Epoch [24/50], Loss: 0.4429\n",
      "Epoch [24/50], Train Loss: 0.4429, Val Loss: 0.7042\n",
      "Epoch [25/50], Loss: 0.4398\n",
      "Epoch [25/50], Train Loss: 0.4398, Val Loss: 0.7124\n",
      "Epoch [26/50], Loss: 0.4380\n",
      "Epoch [26/50], Train Loss: 0.4380, Val Loss: 0.7247\n",
      "Epoch [27/50], Loss: 0.4392\n",
      "Epoch [27/50], Train Loss: 0.4392, Val Loss: 0.6727\n",
      "Epoch [28/50], Loss: 0.4402\n",
      "Epoch [28/50], Train Loss: 0.4402, Val Loss: 0.6838\n",
      "Epoch [29/50], Loss: 0.4411\n",
      "Epoch [29/50], Train Loss: 0.4411, Val Loss: 0.7443\n",
      "Epoch [30/50], Loss: 0.4369\n",
      "Epoch [30/50], Train Loss: 0.4369, Val Loss: 0.7590\n",
      "Epoch [31/50], Loss: 0.4414\n",
      "Epoch [31/50], Train Loss: 0.4414, Val Loss: 0.7243\n",
      "Epoch [32/50], Loss: 0.4403\n",
      "Epoch [32/50], Train Loss: 0.4403, Val Loss: 0.7096\n",
      "Epoch [33/50], Loss: 0.4359\n",
      "Epoch [33/50], Train Loss: 0.4359, Val Loss: 0.7421\n",
      "Epoch [34/50], Loss: 0.4351\n",
      "Epoch [34/50], Train Loss: 0.4351, Val Loss: 0.7452\n",
      "Epoch [35/50], Loss: 0.4404\n",
      "Epoch [35/50], Train Loss: 0.4404, Val Loss: 0.7024\n",
      "Epoch [36/50], Loss: 0.4360\n",
      "Epoch [36/50], Train Loss: 0.4360, Val Loss: 0.7112\n",
      "Epoch [37/50], Loss: 0.4372\n",
      "Epoch [37/50], Train Loss: 0.4372, Val Loss: 0.7158\n",
      "Epoch [38/50], Loss: 0.4319\n",
      "Epoch [38/50], Train Loss: 0.4319, Val Loss: 0.7239\n",
      "Epoch [39/50], Loss: 0.4399\n",
      "Epoch [39/50], Train Loss: 0.4399, Val Loss: 0.7413\n",
      "Epoch [40/50], Loss: 0.4363\n",
      "Epoch [40/50], Train Loss: 0.4363, Val Loss: 0.7672\n",
      "Epoch [41/50], Loss: 0.4396\n",
      "Epoch [41/50], Train Loss: 0.4396, Val Loss: 0.7219\n",
      "Epoch [42/50], Loss: 0.4350\n",
      "Epoch [42/50], Train Loss: 0.4350, Val Loss: 0.7195\n",
      "Epoch [43/50], Loss: 0.4383\n",
      "Epoch [43/50], Train Loss: 0.4383, Val Loss: 0.6972\n",
      "Epoch [44/50], Loss: 0.4363\n",
      "Epoch [44/50], Train Loss: 0.4363, Val Loss: 0.6996\n",
      "Epoch [45/50], Loss: 0.4358\n",
      "Epoch [45/50], Train Loss: 0.4358, Val Loss: 0.7638\n",
      "Epoch [46/50], Loss: 0.4408\n",
      "Epoch [46/50], Train Loss: 0.4408, Val Loss: 0.6981\n",
      "Epoch [47/50], Loss: 0.4351\n",
      "Epoch [47/50], Train Loss: 0.4351, Val Loss: 0.7288\n",
      "Epoch [48/50], Loss: 0.4326\n",
      "Epoch [48/50], Train Loss: 0.4326, Val Loss: 0.7230\n",
      "Epoch [49/50], Loss: 0.4318\n",
      "Epoch [49/50], Train Loss: 0.4318, Val Loss: 0.7185\n",
      "Epoch [50/50], Loss: 0.4335\n",
      "Epoch [50/50], Train Loss: 0.4335, Val Loss: 0.7483\n"
     ]
    },
    {
     "data": {
      "image/png": "[encoded data removed]",
      "text/plain": [
       "<Figure size 1000x600 with 1 Axes>"
      ]
     },
     "metadata": {},
     "output_type": "display_data"
    }
   ],
   "source": [
    "best_params=study.best_params\n",
    "model = meta_model(input_dim=X_train_tensor.shape[1],embed_dim=best_params[\"embed_dim\"],num_heads=best_params[\"num_heads\"],num_layers=best_params[\"num_layers\"],dropout=best_params['dropout'],num_classes=1).to(device)\n",
    "\n",
    "# 最適化と訓練を実行\n",
    "optimizer = optim.Adam(model.parameters(), lr=best_params[\"learning_rate\"],weight_decay=best_params[\"weight_decay\"])\n",
    "criterion = nn.BCELoss()\n",
    "\n",
    "num_epochs=50\n",
    "train_losses = []\n",
    "val_losses = []\n",
    "\n",
    "model.train()\n",
    "for epoch in range(num_epochs):\n",
    "    epoch_train_loss = 0\n",
    "    epoch_val_loss = 0\n",
    "\n",
    "    for X_batch, y_batch in train_loader:\n",
    "        X_batch, y_batch = X_batch.to(device), y_batch.to(device)\n",
    "        optimizer.zero_grad()\n",
    "        outputs = model(X_batch).squeeze()\n",
    "        loss = criterion(outputs, y_batch.squeeze())\n",
    "        loss.backward()\n",
    "        optimizer.step()\n",
    "        epoch_train_loss += loss.item()\n",
    "    avg_train_loss = epoch_train_loss / len(train_loader)\n",
    "    train_losses.append(avg_train_loss)\n",
    "    print(f'Epoch [{epoch+1}/{num_epochs}], Loss: {avg_train_loss:.4f}')\n",
    "\n",
    "    if val_loader is not None:\n",
    "        model.eval()  \n",
    "        with torch.no_grad():\n",
    "            for X_val, y_val in val_loader:\n",
    "                X_val, y_val = X_val.to(device), y_val.to(device)\n",
    "                val_outputs = model(X_val).squeeze()\n",
    "                val_loss = criterion(val_outputs, y_val.squeeze())\n",
    "                epoch_val_loss += val_loss.item()\n",
    "\n",
    "        avg_val_loss = epoch_val_loss / len(val_loader)\n",
    "        val_losses.append(avg_val_loss)\n",
    "        model.train()  \n",
    "\n",
    "    if val_loader is not None:\n",
    "        print(f\"Epoch [{epoch+1}/{num_epochs}], Train Loss: {avg_train_loss:.4f}, Val Loss: {avg_val_loss:.4f}\")\n",
    "    else:\n",
    "        print(f\"Epoch [{epoch+1}/{num_epochs}], Train Loss: {avg_train_loss:.4f}\")\n",
    "\n",
    "plt.figure(figsize=(10, 6))\n",
    "plt.plot(range(1, num_epochs + 1), train_losses, label='Train Loss')\n",
    "if val_losses:\n",
    "    plt.plot(range(1, num_epochs + 1), val_losses, label='Validation Loss')\n",
    "plt.xlabel('Epoch')\n",
    "plt.ylabel('Loss')\n",
    "plt.title('Learning Curve for stacking')\n",
    "plt.legend()\n",
    "plt.grid()\n",
    "plt.show()"
   ]
  },
  {
   "cell_type": "code",
   "execution_count": 33,
   "metadata": {},
   "outputs": [
    {
     "name": "stdout",
     "output_type": "stream",
     "text": [
      "Accuracy: 59.91%\n",
      "Precision: 0.4829\n",
      "Recall: 0.5428\n",
      "F1 Score: 0.5111\n",
      "Matthews Correlation Coefficient: 0.1741\n",
      "Specificity: 0.6345\n"
     ]
    },
    {
     "data": {
      "image/png": "[encoded data removed]",
      "text/plain": [
       "<Figure size 640x480 with 1 Axes>"
      ]
     },
     "metadata": {},
     "output_type": "display_data"
    },
    {
     "data": {
      "image/png": "[encoded data removed]",
      "text/plain": [
       "<Figure size 640x480 with 1 Axes>"
      ]
     },
     "metadata": {},
     "output_type": "display_data"
    },
    {
     "data": {
      "image/png": "[encoded data removed]",
      "text/plain": [
       "<Figure size 640x480 with 1 Axes>"
      ]
     },
     "metadata": {},
     "output_type": "display_data"
    }
   ],
   "source": [
    "model.eval()\n",
    "with torch.no_grad():\n",
    "    X_test_tensor = X_test_tensor.to(device)\n",
    "    y_test_tensor = y_test_tensor.to(device)\n",
    "\n",
    "    # 予測と確率\n",
    "    test_outputs = model(X_test_tensor).squeeze()\n",
    "    predictions = (test_outputs >=0.5).float()\n",
    "    y_true = y_test_tensor.cpu().numpy()\n",
    "    y_pred = predictions.cpu().numpy()\n",
    "    y_prob = test_outputs.cpu().numpy()\n",
    "\n",
    "# 評価指標\n",
    "    accuracy = accuracy_score(y_true, y_pred)\n",
    "    precision = precision_score(y_true, y_pred)\n",
    "    recall = recall_score(y_true, y_pred)\n",
    "    f1 = f1_score(y_true, y_pred)\n",
    "    mcc = matthews_corrcoef(y_true, y_pred)\n",
    "    specificity = recall_score(y_true, y_pred, pos_label=0)  \n",
    "    print(f'Accuracy: {accuracy * 100:.2f}%')\n",
    "    print(f'Precision: {precision:.4f}')\n",
    "    print(f'Recall: {recall:.4f}')\n",
    "    print(f'F1 Score: {f1:.4f}')\n",
    "    print(f'Matthews Correlation Coefficient: {mcc:.4f}')\n",
    "    print(f'Specificity: {specificity:.4f}')\n",
    "\n",
    "    # 混同行列（割合表示）\n",
    "    cm = confusion_matrix(y_true, y_pred, normalize='true')\n",
    "    sns.heatmap(cm, annot=True, fmt=\".2%\", cmap=\"Blues\", cbar=False)\n",
    "    plt.xlabel(\"Predicted\")\n",
    "    plt.ylabel(\"Actual\")\n",
    "    plt.title(f\"Confusion Matrix (Normalized)\")\n",
    "    plt.show()\n",
    "\n",
    "    # ROC曲線とAUC\n",
    "    fpr, tpr, thresholds = roc_curve(y_true, y_prob)\n",
    "    roc_auc = auc(fpr, tpr)\n",
    "    plt.plot(fpr, tpr, label=f'ROC curve (AUC = {roc_auc:.2f})')\n",
    "    plt.plot([0, 1], [0, 1], 'k--') \n",
    "    plt.xlabel('False Positive Rate')\n",
    "    plt.ylabel('True Positive Rate')\n",
    "    plt.title(f'ROC Curve - Model ')\n",
    "    plt.legend(loc=\"lower right\")\n",
    "    plt.show()\n",
    "\n",
    "    # Precision-Recall曲線\n",
    "    precision_curve, recall_curve, pr_thresholds = precision_recall_curve(y_true, y_prob)\n",
    "    pr_auc = auc(recall_curve, precision_curve)\n",
    "    plt.plot(recall_curve, precision_curve, label=f'PR curve (AUC = {pr_auc:.2f})')\n",
    "    plt.xlabel('Recall')\n",
    "    plt.ylabel('Precision')\n",
    "    plt.title(f'Precision-Recall Curve ')\n",
    "    plt.legend(loc=\"lower left\")\n",
    "    plt.show()    "
   ]
  },
  {
   "cell_type": "code",
   "execution_count": 34,
   "metadata": {},
   "outputs": [],
   "source": [
    "torch.save(model.state_dict(), 'model_params/stack_model_FTT.pth')"
   ]
  },
  {
   "cell_type": "code",
   "execution_count": null,
   "metadata": {},
   "outputs": [],
   "source": []
  }
 ],
 "metadata": {
  "kernelspec": {
   "display_name": "torch",
   "language": "python",
   "name": "python3"
  },
  "language_info": {
   "codemirror_mode": {
    "name": "ipython",
    "version": 3
   },
   "file_extension": ".py",
   "mimetype": "text/x-python",
   "name": "python",
   "nbconvert_exporter": "python",
   "pygments_lexer": "ipython3",
   "version": "3.12.7"
  }
 },
 "nbformat": 4,
 "nbformat_minor": 2
}
