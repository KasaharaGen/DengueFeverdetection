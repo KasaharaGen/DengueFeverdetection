{
 "cells": [
  {
   "cell_type": "code",
   "execution_count": 158,
   "metadata": {},
   "outputs": [],
   "source": [
    "import torch\n",
    "import torch.nn as nn\n",
    "import torch.nn.functional as F\n",
    "import torch.optim as optim\n",
    "import numpy as np\n",
    "import json\n",
    "\n",
    "from sklearn.ensemble import RandomForestClassifier\n",
    "from sklearn.svm import SVC\n",
    "\n",
    "from sklearn.preprocessing import MinMaxScaler, StandardScaler\n",
    "from sklearn.decomposition import PCA\n",
    "from sklearn.manifold import TSNE\n",
    "from sklearn.cluster import KMeans\n",
    "from scipy.spatial.distance import cdist\n",
    "\n",
    "import optuna\n",
    "\n",
    "import pandas as pd\n",
    "import matplotlib.pyplot as plt\n",
    "import seaborn as sns\n",
    "\n",
    "from sklearn.model_selection import train_test_split\n",
    "from sklearn.metrics import confusion_matrix,accuracy_score, precision_score, recall_score, f1_score, confusion_matrix, roc_curve, auc,matthews_corrcoef, precision_recall_curve,roc_auc_score\n",
    "\n",
    "\n"
   ]
  },
  {
   "cell_type": "code",
   "execution_count": 159,
   "metadata": {},
   "outputs": [],
   "source": [
    "with open(\"optim_param/optim_DNN_1_params.json\", \"r\") as f:\n",
    "    DNN_1_params = json.load(f)\n",
    "\n",
    "with open(\"optim_param/optim_DNN_2_params.json\", \"r\") as f:\n",
    "    DNN_2_params = json.load(f)\n",
    "\n",
    "with open(\"optim_param/optim_DNN_3_params.json\", \"r\") as f:\n",
    "    DNN_3_params = json.load(f)\n",
    "\n",
    "with open(\"optim_param/optim_DNN_4_params.json\", \"r\") as f:\n",
    "    DNN_4_params = json.load(f)\n",
    "\n",
    "with open(\"optim_param/optim_DNN_5_params.json\", \"r\") as f:\n",
    "    DNN_5_params = json.load(f)\n",
    "\n",
    "with open(\"optim_param/optim_DNN_6_params.json\", \"r\") as f:\n",
    "    DNN_6_params = json.load(f)\n",
    "\n",
    "with open(\"optim_param/optim_DNN_7_params.json\", \"r\") as f:\n",
    "    DNN_7_params = json.load(f)\n",
    "\n",
    "with open(\"optim_param/optim_ResNet_params.json\", \"r\") as f:\n",
    "    ResNet_params = json.load(f)\n",
    "\n",
    "with open(\"optim_param/optim_FTTansformer_params.json\", \"r\") as f:\n",
    "    FTTransformer_params = json.load(f)"
   ]
  },
  {
   "cell_type": "code",
   "execution_count": null,
   "metadata": {},
   "outputs": [],
   "source": [
    "class DNN_1(nn.Module):\n",
    "    def __init__(self, input_dim, dropout=DNN_1_params[\"dropout\"]):\n",
    "        super(DNN_1, self).__init__()\n",
    "        self.layer1 = nn.Linear(input_dim, 64)\n",
    "        self.bn1 = nn.BatchNorm1d(64)\n",
    "        self.layer2 = nn.Linear(64, 32)\n",
    "        self.bn2 = nn.BatchNorm1d(32)\n",
    "        self.layer3 = nn.Linear(32, 16)\n",
    "        self.bn3 = nn.BatchNorm1d(16)\n",
    "        self.layer4 = nn.Linear(16, 8)\n",
    "        self.bn4 = nn.BatchNorm1d(8)\n",
    "        self.output_layer = nn.Linear(8, 1)\n",
    "\n",
    "        self.dropout = nn.Dropout(dropout)\n",
    "        \n",
    "    def forward(self, x):\n",
    "        x = torch.relu(self.bn1(self.layer1(x)))  \n",
    "        x = self.dropout(x)\n",
    "        \n",
    "        x = torch.relu(self.bn2(self.layer2(x)))  \n",
    "        x = self.dropout(x)\n",
    "\n",
    "        x = torch.relu(self.bn3(self.layer3(x)))  \n",
    "        x = self.dropout(x)\n",
    "\n",
    "        x = torch.relu(self.bn4(self.layer4(x))) \n",
    "        x = self.dropout(x)\n",
    "\n",
    "        x = torch.sigmoid(self.output_layer(x)) \n",
    "        return x"
   ]
  },
  {
   "cell_type": "code",
   "execution_count": 161,
   "metadata": {},
   "outputs": [],
   "source": [
    "class DNN_2(nn.Module):\n",
    "    def __init__(self, input_dim,dropout1=DNN_2_params[\"dropout1\"],dropout2=DNN_2_params[\"dropout2\"],dropout3=DNN_2_params[\"dropout3\"],dropout4=DNN_2_params[\"dropout4\"]):\n",
    "        super(DNN_2, self).__init__()\n",
    "        self.layer1 = nn.Linear(input_dim,64)\n",
    "        self.layer2 = nn.Linear(64,32)\n",
    "        self.layer3 = nn.Linear(32,16)\n",
    "        self.layer4 = nn.Linear(16,8)\n",
    "        self.output_layer = nn.Linear(8, 1)\n",
    "\n",
    "        self.bn1=nn.BatchNorm1d(64)\n",
    "        self.bn2=nn.BatchNorm1d(32)\n",
    "        self.bn3=nn.BatchNorm1d(16)\n",
    "        self.bn4=nn.BatchNorm1d(8)\n",
    "\n",
    "\n",
    "        self.dropout1 = nn.Dropout(dropout1)\n",
    "        self.dropout2 = nn.Dropout(dropout2)\n",
    "        self.dropout3 = nn.Dropout(dropout3)\n",
    "        self.dropout4 = nn.Dropout(dropout4)\n",
    "\n",
    "        \n",
    "        \n",
    "    def forward(self, x):\n",
    "        x = torch.relu(self.bn1(self.layer1(x)))\n",
    "        x = self.dropout1(x)\n",
    "        \n",
    "        x = torch.relu(self.bn2(self.layer2(x)))\n",
    "        x = self.dropout2(x)\n",
    "\n",
    "        x = torch.relu(self.bn3(self.layer3(x)))\n",
    "        x = self.dropout3(x)\n",
    "\n",
    "        x = torch.relu(self.bn4(self.layer4(x)))\n",
    "        x = self.dropout4(x)\n",
    "\n",
    "        x = torch.sigmoid(self.output_layer(x)) \n",
    "        return x\n",
    "    "
   ]
  },
  {
   "cell_type": "code",
   "execution_count": 162,
   "metadata": {},
   "outputs": [],
   "source": [
    "class DNN_3(nn.Module):\n",
    "    def __init__(self, input_dim,dropout1=DNN_3_params[\"dropout1\"],dropout2=DNN_3_params[\"dropout2\"]):\n",
    "        super(DNN_3, self).__init__()\n",
    "        self.layer1 = nn.Linear(input_dim,64)\n",
    "        self.layer2 = nn.Linear(64,32)\n",
    "        self.layer3 = nn.Linear(32, 16)\n",
    "        self.layer4 = nn.Linear(16, 8)\n",
    "        self.output_layer = nn.Linear(8, 1)\n",
    "\n",
    "        self.bn1=nn.BatchNorm1d(64)\n",
    "        self.bn2=nn.BatchNorm1d(32)\n",
    "        self.bn3=nn.BatchNorm1d(16)\n",
    "        self.bn4=nn.BatchNorm1d(8)\n",
    "\n",
    "        self.dropout1 = nn.Dropout(dropout1)\n",
    "        self.dropout2 = nn.Dropout(dropout2)        \n",
    "        \n",
    "    def forward(self, x):\n",
    "        x = torch.relu(self.bn1(self.layer1(x)))\n",
    "        \n",
    "        x = torch.relu(self.bn2(self.layer2(x)))\n",
    "        x = self.dropout1(x)\n",
    "\n",
    "        x = torch.relu(self.bn3(self.layer3(x)))\n",
    "        x = self.dropout2(x)\n",
    "\n",
    "        x = torch.relu(self.bn4(self.layer4(x)))\n",
    "    \n",
    "\n",
    "        x = torch.sigmoid(self.output_layer(x)) \n",
    "        return x\n",
    "    "
   ]
  },
  {
   "cell_type": "code",
   "execution_count": 163,
   "metadata": {},
   "outputs": [],
   "source": [
    "class DNN_4(nn.Module):\n",
    "    def __init__(self, input_dim,dropout1=DNN_4_params[\"dropout1\"],dropout2=DNN_4_params[\"dropout2\"]):\n",
    "        super(DNN_4, self).__init__()\n",
    "        self.layer1 = nn.Linear(input_dim,64)\n",
    "        self.layer2 = nn.Linear(64,32)\n",
    "        self.layer3 = nn.Linear(32, 16)\n",
    "        self.layer4 = nn.Linear(16, 8)\n",
    "        self.output_layer = nn.Linear(8, 1)\n",
    "\n",
    "        self.bn1=nn.BatchNorm1d(64)\n",
    "        self.bn2=nn.BatchNorm1d(32)\n",
    "        self.bn3=nn.BatchNorm1d(16)\n",
    "        self.bn4=nn.BatchNorm1d(8)\n",
    "\n",
    "        self.dropout1 = nn.Dropout(dropout1)\n",
    "        self.dropout2 = nn.Dropout(dropout2)\n",
    "        \n",
    "        \n",
    "    def forward(self, x):\n",
    "        x = torch.relu(self.bn1(self.layer1(x)))\n",
    "        x = self.dropout1(x)\n",
    "        \n",
    "        x = torch.relu(self.bn2(self.layer2(x)))\n",
    "    \n",
    "\n",
    "        x = torch.relu(self.bn3(self.layer3(x)))\n",
    "        \n",
    "\n",
    "        x = torch.relu(self.bn4(self.layer4(x)))\n",
    "        x = self.dropout2(x)\n",
    "\n",
    "        x = torch.sigmoid(self.output_layer(x)) \n",
    "        return x\n",
    "    "
   ]
  },
  {
   "cell_type": "code",
   "execution_count": 164,
   "metadata": {},
   "outputs": [],
   "source": [
    "class DNN_5(nn.Module):\n",
    "    def __init__(self, input_dim,dropout1=DNN_5_params[\"dropout1\"],dropout2=DNN_5_params[\"dropout2\"]):\n",
    "        super(DNN_5, self).__init__()\n",
    "        self.layer1 = nn.Linear(input_dim,64)\n",
    "        self.layer2 = nn.Linear(64,32)\n",
    "        self.layer3 = nn.Linear(32, 16)\n",
    "        self.layer4 = nn.Linear(16, 8)\n",
    "        self.output_layer = nn.Linear(8, 1)\n",
    "\n",
    "        self.bn1=nn.BatchNorm1d(64)\n",
    "        self.bn2=nn.BatchNorm1d(32)\n",
    "        self.bn3=nn.BatchNorm1d(16)\n",
    "        self.bn4=nn.BatchNorm1d(8)\n",
    "\n",
    "        self.dropout1 = nn.Dropout(dropout1)\n",
    "        self.dropout2 = nn.Dropout(dropout2)        \n",
    "        \n",
    "    def forward(self, x):\n",
    "        x = torch.relu(self.bn1(self.layer1(x)))\n",
    "        \n",
    "        x = torch.relu(self.bn2(self.layer2(x)))\n",
    "        \n",
    "\n",
    "        x = torch.relu(self.bn3(self.layer3(x)))\n",
    "        x = self.dropout1(x)\n",
    "\n",
    "        x = torch.relu(self.bn4(self.layer4(x)))\n",
    "        x = self.dropout2(x)\n",
    "\n",
    "        x = torch.sigmoid(self.output_layer(x)) \n",
    "        return x\n",
    "    "
   ]
  },
  {
   "cell_type": "code",
   "execution_count": 165,
   "metadata": {},
   "outputs": [],
   "source": [
    "class DNN_6(nn.Module):\n",
    "    def __init__(self, input_dim,dropout1=DNN_6_params[\"dropout1\"],dropout2=DNN_6_params[\"dropout2\"]):\n",
    "        super(DNN_6, self).__init__()\n",
    "        self.layer1 = nn.Linear(input_dim,64)\n",
    "        self.layer2 = nn.Linear(64,32)\n",
    "        self.layer3 = nn.Linear(32, 16)\n",
    "        self.layer4 = nn.Linear(16, 8)\n",
    "        self.output_layer = nn.Linear(8, 1)\n",
    "\n",
    "        self.bn1=nn.BatchNorm1d(64)\n",
    "        self.bn2=nn.BatchNorm1d(32)\n",
    "        self.bn3=nn.BatchNorm1d(16)\n",
    "        self.bn4=nn.BatchNorm1d(8)\n",
    "\n",
    "        self.dropout1 = nn.Dropout(dropout1)\n",
    "        self.dropout2 = nn.Dropout(dropout2)\n",
    "        \n",
    "    def forward(self, x):\n",
    "        x = torch.relu(self.bn1(self.layer1(x)))\n",
    "        x = self.dropout1(x)\n",
    "        \n",
    "        x = torch.relu(self.bn2(self.layer2(x)))\n",
    "    \n",
    "\n",
    "        x = torch.relu(self.bn3(self.layer3(x)))\n",
    "        x = self.dropout2(x)\n",
    "\n",
    "        x = torch.relu(self.bn4(self.layer4(x)))\n",
    "        \n",
    "        x = torch.sigmoid(self.output_layer(x)) \n",
    "        return x\n",
    "    "
   ]
  },
  {
   "cell_type": "code",
   "execution_count": 166,
   "metadata": {},
   "outputs": [],
   "source": [
    "class DNN_7(nn.Module):\n",
    "    def __init__(self, input_dim,dropout1=DNN_7_params[\"dropout1\"],dropout2=DNN_7_params[\"dropout2\"]):\n",
    "        super(DNN_7, self).__init__()\n",
    "        self.layer1 = nn.Linear(input_dim,64)\n",
    "        self.layer2 = nn.Linear(64,32)\n",
    "        self.layer3 = nn.Linear(32, 16)\n",
    "        self.layer4 = nn.Linear(16, 8)\n",
    "        self.output_layer = nn.Linear(8, 1)\n",
    "\n",
    "        self.bn1=nn.BatchNorm1d(64)\n",
    "        self.bn2=nn.BatchNorm1d(32)\n",
    "        self.bn3=nn.BatchNorm1d(16)\n",
    "        self.bn4=nn.BatchNorm1d(8)\n",
    "\n",
    "        self.dropout1 = nn.Dropout(dropout1)\n",
    "        self.dropout2 = nn.Dropout(dropout2)\n",
    "        \n",
    "    def forward(self, x):\n",
    "        x = torch.relu(self.bn1(self.layer1(x)))\n",
    "        \n",
    "        x = torch.relu(self.bn2(self.layer2(x)))\n",
    "        x = self.dropout1(x)\n",
    "\n",
    "        x = torch.relu(self.bn3(self.layer3(x)))\n",
    "\n",
    "        x = torch.relu(self.bn4(self.layer4(x)))\n",
    "        x = self.dropout2(x)\n",
    "\n",
    "        x = torch.sigmoid(self.output_layer(x)) \n",
    "        return x\n",
    "    "
   ]
  },
  {
   "cell_type": "code",
   "execution_count": 167,
   "metadata": {},
   "outputs": [],
   "source": [
    "class FTTransformer(nn.Module):\n",
    "    def __init__(self, input_dim, num_classes=1, embed_dim=FTTransformer_params[\"embed_dim\"], num_heads=FTTransformer_params[\"num_heads\"], num_layers=FTTransformer_params[\"num_layers\"], dropout=FTTransformer_params[\"dropout\"]):\n",
    "        super(FTTransformer, self).__init__()\n",
    "        self.embedding = nn.Linear(input_dim, embed_dim)\n",
    "        self.embedding_dropout = nn.Dropout(dropout)  # 埋め込み層後のDropout\n",
    "        encoder_layer = nn.TransformerEncoderLayer(d_model=embed_dim, nhead=num_heads, dropout=dropout)\n",
    "        self.transformer = nn.TransformerEncoder(encoder_layer, num_layers=num_layers)\n",
    "        self.fc = nn.Linear(embed_dim, num_classes)\n",
    "        self.output_dropout = nn.Dropout(dropout)  # 出力層前のDropout\n",
    "\n",
    "    def forward(self, x):\n",
    "        x = self.embedding(x)\n",
    "        x = self.embedding_dropout(x)  # Dropoutを埋め込み層後に適用\n",
    "        x = x.unsqueeze(1)  # [batch_size, 1, embed_dim]\n",
    "        x = self.transformer(x)\n",
    "        x = x.mean(dim=1)  # 平均プーリング\n",
    "        x = self.output_dropout(x)  # Dropoutを適用\n",
    "        x = self.fc(x)\n",
    "        x = torch.sigmoid(x)  # 2値分類用のシグモイド活性化\n",
    "        return x\n"
   ]
  },
  {
   "cell_type": "code",
   "execution_count": 168,
   "metadata": {},
   "outputs": [],
   "source": [
    "class ResidualBlock(nn.Module):\n",
    "    def __init__(self, input_dim, hidden_dim,dropout1,dropout2):\n",
    "        super(ResidualBlock, self).__init__()\n",
    "        self.fc1 = nn.Linear(input_dim, hidden_dim)\n",
    "        self.bn1 = nn.BatchNorm1d(hidden_dim)\n",
    "        self.dropout1=nn.Dropout(dropout1)\n",
    "        \n",
    "        self.fc2 = nn.Linear(hidden_dim, input_dim)\n",
    "        self.bn2 = nn.BatchNorm1d(input_dim)\n",
    "        self.dropout2=nn.Dropout(dropout2)\n",
    "\n",
    "    def forward(self, x):\n",
    "        residual = x  # 入力を保存 (ショートカット)\n",
    "        out = torch.relu(self.bn1(self.fc1(x)))\n",
    "        out=self.dropout1(out)\n",
    "\n",
    "        out = self.bn2(self.fc2(out))\n",
    "        out=self.dropout2(out)\n",
    "\n",
    "        out += residual  # ショートカット接続\n",
    "        return torch.relu(out)\n"
   ]
  },
  {
   "cell_type": "code",
   "execution_count": 169,
   "metadata": {},
   "outputs": [],
   "source": [
    "class ResNetBinaryClassifier(nn.Module):\n",
    "    def __init__(self, input_dim, num_blocks=ResNet_params[\"num_blocks\"], hidden_dim=ResNet_params[\"hidden_dim\"], dropout1=ResNet_params[\"dropout1\"], dropout2=ResNet_params[\"dropout2\"]):\n",
    "        super(ResNetBinaryClassifier, self).__init__()\n",
    "        self.blocks = nn.Sequential(\n",
    "            *[ResidualBlock(input_dim, hidden_dim, dropout1, dropout2) for _ in range(num_blocks)]\n",
    "        )\n",
    "        self.output_layer = nn.Linear(input_dim, 1)  # 出力層\n",
    "\n",
    "    def forward(self, x):\n",
    "        x = self.blocks(x)\n",
    "        x = torch.sigmoid(self.output_layer(x))  # 2値分類用シグモイド\n",
    "        return x"
   ]
  },
  {
   "cell_type": "code",
   "execution_count": 170,
   "metadata": {},
   "outputs": [],
   "source": [
    "df=pd.read_csv('learning_data.csv',index_col=0)\n",
    "\n",
    "X=df.drop(columns='dengue',axis=1).values\n",
    "y=df['dengue'].values\n",
    "\n",
    "X_train, X_test, y_train, y_test = train_test_split(X, y, test_size=0.2,random_state=42)\n",
    "\n",
    "X_train_tensor=torch.tensor(X_train, dtype=torch.float32)\n",
    "y_train_tensor=torch.tensor(y_train, dtype=torch.float32)\n",
    "X_test_tensor=torch.tensor(X_test, dtype=torch.float32)\n",
    "y_test_tensor=torch.tensor(y_test, dtype=torch.float32)"
   ]
  },
  {
   "cell_type": "code",
   "execution_count": 171,
   "metadata": {},
   "outputs": [
    {
     "name": "stderr",
     "output_type": "stream",
     "text": [
      "/tmp/ipykernel_1287795/1801429464.py:33: FutureWarning: You are using `torch.load` with `weights_only=False` (the current default value), which uses the default pickle module implicitly. It is possible to construct malicious pickle data which will execute arbitrary code during unpickling (See https://github.com/pytorch/pytorch/blob/main/SECURITY.md#untrusted-models for more details). In a future release, the default value for `weights_only` will be flipped to `True`. This limits the functions that could be executed during unpickling. Arbitrary objects will no longer be allowed to be loaded via this mode unless they are explicitly allowlisted by the user via `torch.serialization.add_safe_globals`. We recommend you start setting `weights_only=True` for any use case where you don't have full control of the loaded file. Please open an issue on GitHub for any issues related to this experimental feature.\n",
      "  model.load_state_dict(torch.load(path, map_location=device))\n",
      "/home/gonken/anaconda3/envs/torch/lib/python3.12/site-packages/torch/nn/modules/transformer.py:379: UserWarning: enable_nested_tensor is True, but self.use_nested_tensor is False because encoder_layer.self_attn.batch_first was not True(use batch_first for better inference performance)\n",
      "  warnings.warn(\n"
     ]
    }
   ],
   "source": [
    "# デバイス設定\n",
    "device = torch.device(\"cuda\" if torch.cuda.is_available() else \"cpu\")\n",
    "\n",
    "\n",
    "model_paths = [\n",
    "    \"model_params/DNN_1.pth\",\n",
    "    \"model_params/DNN_2.pth\",\n",
    "    \"model_params/DNN_3.pth\",\n",
    "    \"model_params/DNN_4.pth\",\n",
    "    \"model_params/DNN_5.pth\",\n",
    "    \"model_params/DNN_6.pth\",\n",
    "    \"model_params/DNN_7.pth\",\n",
    "    \"model_params/FTTransformer.pth\",\n",
    "    \"model_params/ResNet.pth\",\n",
    "    ]\n",
    "\n",
    "model_classes = {0: DNN_1,\n",
    "                 1: DNN_2,\n",
    "                 2: DNN_3,\n",
    "                 3: DNN_4,\n",
    "                 4: DNN_5,\n",
    "                 5: DNN_6,\n",
    "                 6: DNN_7,\n",
    "                 7:FTTransformer,\n",
    "                 8:ResNetBinaryClassifier\n",
    "                 }\n",
    "\n",
    "models=[]\n",
    "\n",
    "for i, path in enumerate(model_paths):\n",
    "    if i in model_classes:\n",
    "        model = model_classes[i](input_dim=X_train.shape[1]).to(device)\n",
    "        model.load_state_dict(torch.load(path, map_location=device))\n",
    "        model.eval()\n",
    "        models.append(model)"
   ]
  },
  {
   "cell_type": "code",
   "execution_count": 172,
   "metadata": {},
   "outputs": [
    {
     "name": "stdout",
     "output_type": "stream",
     "text": [
      "Train DL Features Shape: torch.Size([3508, 9])\n",
      "Test DL Features Shape: torch.Size([878, 9])\n"
     ]
    }
   ],
   "source": [
    "train_outputs = []\n",
    "test_outputs = []\n",
    "\n",
    "with torch.no_grad():\n",
    "    for model in models:\n",
    "        model.eval()\n",
    "        \n",
    "        train_output = model(X_train_tensor.to(device))\n",
    "        train_outputs.append(train_output)\n",
    "        \n",
    "        # テストデータの出力\n",
    "        test_output = model(X_test_tensor.to(device))\n",
    "        test_outputs.append(test_output)\n",
    "\n",
    "train_DL_features = torch.cat(train_outputs, dim=1)  \n",
    "test_DL_features = torch.cat(test_outputs, dim=1) \n",
    "\n",
    "# 出力形状の確認\n",
    "print(f\"Train DL Features Shape: {train_DL_features.shape}\")\n",
    "print(f\"Test DL Features Shape: {test_DL_features.shape}\")\n"
   ]
  },
  {
   "cell_type": "code",
   "execution_count": 173,
   "metadata": {},
   "outputs": [
    {
     "name": "stdout",
     "output_type": "stream",
     "text": [
      "all_features.shape: (3508, 20)\n",
      "train_DL_features_np.shape: (3508, 9)\n",
      "train_standardized_features.shape: (3508, 20)\n"
     ]
    }
   ],
   "source": [
    "train_DL_features_np = train_DL_features.cpu().numpy()\n",
    "\n",
    "scaler = MinMaxScaler()\n",
    "normalized_features = scaler.fit_transform(train_DL_features_np.reshape(-1, train_DL_features_np.shape[-1]))\n",
    "\n",
    "# KMeans クラスタリング\n",
    "kmeans = KMeans(n_clusters=6, random_state=42)\n",
    "kmeans_labels = kmeans.fit_predict(normalized_features)\n",
    "\n",
    "# クラスタリング特徴量を修正\n",
    "cluster_features = kmeans_labels.reshape(-1, 1) \n",
    "\n",
    "# PCA（主成分分析）\n",
    "pca = PCA(n_components=6,random_state=42)\n",
    "pca_features = pca.fit_transform(normalized_features)  \n",
    "\n",
    "# t-SNE\n",
    "tsne = TSNE(n_components=3, random_state=42)\n",
    "tsne_features = tsne.fit_transform(normalized_features) \n",
    "\n",
    "# 距離から類似度を計算\n",
    "distance_matrix = cdist(normalized_features, normalized_features, metric='euclidean')\n",
    "similarity_features = 1 / (1 + distance_matrix) \n",
    "\n",
    "# 距離から類似度の平均特徴量を生成\n",
    "similarity_features_mean = similarity_features.mean(axis=1).reshape(-1, 1) \n",
    "\n",
    "all_features = np.hstack([normalized_features,cluster_features,pca_features,tsne_features,similarity_features_mean])\n",
    "\n",
    "print(f\"all_features.shape: {all_features.shape}\")\n",
    "print(f\"train_DL_features_np.shape: {train_DL_features_np.shape}\")\n",
    "\n",
    "scaler_standard = StandardScaler()\n",
    "train_standardized_features = scaler_standard.fit_transform(all_features)\n",
    "\n",
    "print(f\"train_standardized_features.shape: {train_standardized_features.shape}\")"
   ]
  },
  {
   "cell_type": "code",
   "execution_count": 174,
   "metadata": {},
   "outputs": [
    {
     "name": "stdout",
     "output_type": "stream",
     "text": [
      "all_features.shape: (878, 20)\n",
      "test_DL_features_np.shape: (3508, 9)\n",
      "test_standardized_features.shape: (878, 20)\n"
     ]
    }
   ],
   "source": [
    "test_DL_features_np = test_DL_features.cpu().numpy()\n",
    "\n",
    "scaler = MinMaxScaler()\n",
    "normalized_features = scaler.fit_transform(test_DL_features_np.reshape(-1, test_DL_features_np.shape[-1]))\n",
    "\n",
    "# KMeans クラスタリング\n",
    "kmeans = KMeans(n_clusters=6, random_state=42)\n",
    "kmeans_labels = kmeans.fit_predict(normalized_features)\n",
    "\n",
    "# クラスタリング特徴量を修正\n",
    "cluster_features = kmeans_labels.reshape(-1, 1) \n",
    "\n",
    "# PCA（主成分分析）\n",
    "pca = PCA(n_components=6,random_state=42)\n",
    "pca_features = pca.fit_transform(normalized_features)  \n",
    "\n",
    "# t-SNE\n",
    "tsne = TSNE(n_components=3, random_state=42)\n",
    "tsne_features = tsne.fit_transform(normalized_features) \n",
    "\n",
    "# 距離から類似度を計算\n",
    "distance_matrix = cdist(normalized_features, normalized_features, metric='euclidean')\n",
    "similarity_features = 1 / (1 + distance_matrix) \n",
    "\n",
    "# 距離から類似度の平均特徴量を生成\n",
    "similarity_features_mean = similarity_features.mean(axis=1).reshape(-1, 1) \n",
    "\n",
    "all_features = np.hstack([normalized_features,cluster_features,pca_features,tsne_features,similarity_features_mean])\n",
    "\n",
    "print(f\"all_features.shape: {all_features.shape}\")\n",
    "print(f\"test_DL_features_np.shape: {train_DL_features_np.shape}\")\n",
    "\n",
    "scaler_standard = StandardScaler()\n",
    "test_standardized_features = scaler_standard.fit_transform(all_features)\n",
    "\n",
    "print(f\"test_standardized_features.shape: {test_standardized_features.shape}\")"
   ]
  },
  {
   "cell_type": "code",
   "execution_count": 175,
   "metadata": {},
   "outputs": [],
   "source": [
    "X_train, X_val, y_train, y_val = train_test_split(train_standardized_features, y_train, test_size=0.1,random_state=42)"
   ]
  },
  {
   "cell_type": "code",
   "execution_count": 176,
   "metadata": {},
   "outputs": [],
   "source": [
    "X_train_tensor=torch.tensor(X_train, dtype=torch.float32)\n",
    "y_train_tensor=torch.tensor(y_train, dtype=torch.float32)\n",
    "X_val_tensor=torch.tensor(X_val, dtype=torch.float32)\n",
    "y_val_tensor=torch.tensor(y_val, dtype=torch.float32)\n",
    "X_test_tensor = torch.tensor(test_standardized_features, dtype=torch.float32)\n",
    "y_test_tensor = torch.tensor(y_test, dtype=torch.float32)\n"
   ]
  },
  {
   "cell_type": "code",
   "execution_count": 177,
   "metadata": {},
   "outputs": [],
   "source": [
    "train_dataset = torch.utils.data.TensorDataset(X_train_tensor, y_train_tensor)\n",
    "train_loader = torch.utils.data.DataLoader(dataset=train_dataset, batch_size=128, shuffle=True)\n",
    "\n",
    "val_dataset = torch.utils.data.TensorDataset(X_val_tensor, y_val_tensor)\n",
    "val_loader = torch.utils.data.DataLoader(dataset=val_dataset, batch_size=128, shuffle=False)"
   ]
  },
  {
   "cell_type": "code",
   "execution_count": 178,
   "metadata": {},
   "outputs": [],
   "source": [
    "class meta_model(nn.Module):\n",
    "    def __init__(self, input_dim, num_classes, embed_dim, num_heads, num_layers, dropout):\n",
    "        super(meta_model, self).__init__()\n",
    "        self.embedding = nn.Linear(input_dim, embed_dim)\n",
    "        self.embedding_dropout = nn.Dropout(dropout)  # 埋め込み層後のDropout\n",
    "        encoder_layer = nn.TransformerEncoderLayer(d_model=embed_dim, nhead=num_heads, dropout=dropout)\n",
    "        self.transformer = nn.TransformerEncoder(encoder_layer, num_layers=num_layers)\n",
    "        self.fc = nn.Linear(embed_dim, num_classes)\n",
    "        self.output_dropout = nn.Dropout(dropout)  # 出力層前のDropout\n",
    "\n",
    "    def forward(self, x):\n",
    "        x = self.embedding(x)\n",
    "        x = self.embedding_dropout(x)  # Dropoutを埋め込み層後に適用\n",
    "        x = x.unsqueeze(1)  # [batch_size, 1, embed_dim]\n",
    "        x = self.transformer(x)\n",
    "        x = x.mean(dim=1)  # 平均プーリング\n",
    "        x = self.output_dropout(x)  # Dropoutを適用\n",
    "        x = self.fc(x)\n",
    "        x = torch.sigmoid(x)  # 2値分類用のシグモイド活性化\n",
    "        return x\n"
   ]
  },
  {
   "cell_type": "code",
   "execution_count": 179,
   "metadata": {},
   "outputs": [],
   "source": [
    "def objective(trial):\n",
    "    # ハイパーパラメータのサンプリング\n",
    "    embed_dim=trial.suggest_categorical(\"embed_dim\",[64,128,256])\n",
    "    num_heads=trial.suggest_categorical(\"num_heads\",[4,8,16])\n",
    "    num_layers=trial.suggest_categorical(\"num_layers\",[3,4,5])\n",
    "    dropout = trial.suggest_float(\"dropout\", 0, 0.5, step=0.05)\n",
    "    learning_rate = trial.suggest_loguniform(\"learning_rate\", 1e-4, 1e-1)  \n",
    "    weight_decay = trial.suggest_loguniform(\"weight_decay\", 1e-5, 1e-1)   \n",
    "\n",
    "    # モデルの定義\n",
    "    model = meta_model(\n",
    "        input_dim=X_train_tensor.shape[1],\n",
    "        num_classes=1,\n",
    "        embed_dim=embed_dim,\n",
    "        num_heads=num_heads,\n",
    "        num_layers=num_layers,\n",
    "        dropout=dropout\n",
    "    ).to(device)\n",
    "\n",
    "    criterion = nn.BCELoss()\n",
    "    optimizer = torch.optim.Adam(model.parameters(), lr=learning_rate, weight_decay=weight_decay)\n",
    "\n",
    "    # Early Stoppingの設定\n",
    "    patience = 10\n",
    "    best_val_loss = float('inf')\n",
    "    patience_counter = 0\n",
    "\n",
    "    # 訓練ループ\n",
    "    num_epochs = 100\n",
    "    for epoch in range(num_epochs):\n",
    "        model.train()\n",
    "        for X_batch, y_batch in train_loader:\n",
    "            X_batch, y_batch = X_batch.to(device), y_batch.to(device)\n",
    "            optimizer.zero_grad()\n",
    "            outputs = model(X_batch).squeeze()\n",
    "            loss = criterion(outputs, y_batch.squeeze())\n",
    "            loss.backward()\n",
    "            optimizer.step()\n",
    "\n",
    "        # バリデーション評価\n",
    "        model.eval()\n",
    "        val_loss = 0\n",
    "        val_true, val_pred = [], []\n",
    "        with torch.no_grad():\n",
    "            for X_val, y_val in val_loader:\n",
    "                X_val, y_val = X_val.to(device), y_val.to(device)\n",
    "                val_outputs = model(X_val).squeeze()\n",
    "                val_loss += criterion(val_outputs, y_val.squeeze()).item()\n",
    "                predictions = (val_outputs >=0.5).float()\n",
    "                val_true.extend(y_val.cpu().numpy())\n",
    "                val_pred.extend(predictions.cpu().numpy())\n",
    "\n",
    "        val_loss /= len(val_loader)\n",
    "\n",
    "        # Early Stoppingの判定\n",
    "        if val_loss < best_val_loss:\n",
    "            best_val_loss = val_loss\n",
    "            patience_counter = 0\n",
    "        else:\n",
    "            patience_counter += 1\n",
    "\n",
    "        if patience_counter >= patience:\n",
    "            print(f\"Early stopping at epoch {epoch}\")\n",
    "            break\n",
    "\n",
    "        # Optunaのプルーニング機能\n",
    "        trial.report(val_loss, epoch)\n",
    "        if trial.should_prune():\n",
    "            raise optuna.exceptions.TrialPruned()\n",
    "\n",
    "    mcc = matthews_corrcoef(val_true, val_pred)\n",
    "    print(f\"Final MCC: {mcc:.4f}\")\n",
    "\n",
    "    return mcc  \n"
   ]
  },
  {
   "cell_type": "code",
   "execution_count": 180,
   "metadata": {},
   "outputs": [
    {
     "name": "stderr",
     "output_type": "stream",
     "text": [
      "[I 2024-12-12 19:42:30,608] A new study created in memory with name: no-name-e4fb273e-dc40-4c10-9ce0-3b21f041e5f7\n",
      "/tmp/ipykernel_1287795/2683590562.py:7: FutureWarning: suggest_loguniform has been deprecated in v3.0.0. This feature will be removed in v6.0.0. See https://github.com/optuna/optuna/releases/tag/v3.0.0. Use suggest_float(..., log=True) instead.\n",
      "  learning_rate = trial.suggest_loguniform(\"learning_rate\", 1e-4, 1e-1)\n",
      "/tmp/ipykernel_1287795/2683590562.py:8: FutureWarning: suggest_loguniform has been deprecated in v3.0.0. This feature will be removed in v6.0.0. See https://github.com/optuna/optuna/releases/tag/v3.0.0. Use suggest_float(..., log=True) instead.\n",
      "  weight_decay = trial.suggest_loguniform(\"weight_decay\", 1e-5, 1e-1)\n",
      "/home/gonken/anaconda3/envs/torch/lib/python3.12/site-packages/torch/nn/modules/transformer.py:379: UserWarning: enable_nested_tensor is True, but self.use_nested_tensor is False because encoder_layer.self_attn.batch_first was not True(use batch_first for better inference performance)\n",
      "  warnings.warn(\n",
      "[I 2024-12-12 19:42:37,770] Trial 0 finished with value: 0.20657089269151246 and parameters: {'embed_dim': 64, 'num_heads': 4, 'num_layers': 3, 'dropout': 0.25, 'learning_rate': 0.0015076317921361567, 'weight_decay': 0.0017937288411791947}. Best is trial 0 with value: 0.20657089269151246.\n"
     ]
    },
    {
     "name": "stdout",
     "output_type": "stream",
     "text": [
      "Early stopping at epoch 16\n",
      "Final MCC: 0.2066\n"
     ]
    },
    {
     "name": "stderr",
     "output_type": "stream",
     "text": [
      "/tmp/ipykernel_1287795/2683590562.py:7: FutureWarning: suggest_loguniform has been deprecated in v3.0.0. This feature will be removed in v6.0.0. See https://github.com/optuna/optuna/releases/tag/v3.0.0. Use suggest_float(..., log=True) instead.\n",
      "  learning_rate = trial.suggest_loguniform(\"learning_rate\", 1e-4, 1e-1)\n",
      "/tmp/ipykernel_1287795/2683590562.py:8: FutureWarning: suggest_loguniform has been deprecated in v3.0.0. This feature will be removed in v6.0.0. See https://github.com/optuna/optuna/releases/tag/v3.0.0. Use suggest_float(..., log=True) instead.\n",
      "  weight_decay = trial.suggest_loguniform(\"weight_decay\", 1e-5, 1e-1)\n",
      "/home/gonken/anaconda3/envs/torch/lib/python3.12/site-packages/torch/nn/modules/transformer.py:379: UserWarning: enable_nested_tensor is True, but self.use_nested_tensor is False because encoder_layer.self_attn.batch_first was not True(use batch_first for better inference performance)\n",
      "  warnings.warn(\n",
      "[I 2024-12-12 19:42:46,990] Trial 1 finished with value: 0.19805367011493666 and parameters: {'embed_dim': 128, 'num_heads': 8, 'num_layers': 5, 'dropout': 0.05, 'learning_rate': 0.0032026379116711456, 'weight_decay': 0.012727898445083161}. Best is trial 0 with value: 0.20657089269151246.\n"
     ]
    },
    {
     "name": "stdout",
     "output_type": "stream",
     "text": [
      "Early stopping at epoch 15\n",
      "Final MCC: 0.1981\n"
     ]
    },
    {
     "name": "stderr",
     "output_type": "stream",
     "text": [
      "/tmp/ipykernel_1287795/2683590562.py:7: FutureWarning: suggest_loguniform has been deprecated in v3.0.0. This feature will be removed in v6.0.0. See https://github.com/optuna/optuna/releases/tag/v3.0.0. Use suggest_float(..., log=True) instead.\n",
      "  learning_rate = trial.suggest_loguniform(\"learning_rate\", 1e-4, 1e-1)\n",
      "/tmp/ipykernel_1287795/2683590562.py:8: FutureWarning: suggest_loguniform has been deprecated in v3.0.0. This feature will be removed in v6.0.0. See https://github.com/optuna/optuna/releases/tag/v3.0.0. Use suggest_float(..., log=True) instead.\n",
      "  weight_decay = trial.suggest_loguniform(\"weight_decay\", 1e-5, 1e-1)\n",
      "/home/gonken/anaconda3/envs/torch/lib/python3.12/site-packages/torch/nn/modules/transformer.py:379: UserWarning: enable_nested_tensor is True, but self.use_nested_tensor is False because encoder_layer.self_attn.batch_first was not True(use batch_first for better inference performance)\n",
      "  warnings.warn(\n",
      "[I 2024-12-12 19:42:55,512] Trial 2 finished with value: 0.2074251915366926 and parameters: {'embed_dim': 128, 'num_heads': 8, 'num_layers': 5, 'dropout': 0.30000000000000004, 'learning_rate': 0.0010322726874247609, 'weight_decay': 0.005407273057650519}. Best is trial 2 with value: 0.2074251915366926.\n"
     ]
    },
    {
     "name": "stdout",
     "output_type": "stream",
     "text": [
      "Early stopping at epoch 14\n",
      "Final MCC: 0.2074\n"
     ]
    },
    {
     "name": "stderr",
     "output_type": "stream",
     "text": [
      "/tmp/ipykernel_1287795/2683590562.py:7: FutureWarning: suggest_loguniform has been deprecated in v3.0.0. This feature will be removed in v6.0.0. See https://github.com/optuna/optuna/releases/tag/v3.0.0. Use suggest_float(..., log=True) instead.\n",
      "  learning_rate = trial.suggest_loguniform(\"learning_rate\", 1e-4, 1e-1)\n",
      "/tmp/ipykernel_1287795/2683590562.py:8: FutureWarning: suggest_loguniform has been deprecated in v3.0.0. This feature will be removed in v6.0.0. See https://github.com/optuna/optuna/releases/tag/v3.0.0. Use suggest_float(..., log=True) instead.\n",
      "  weight_decay = trial.suggest_loguniform(\"weight_decay\", 1e-5, 1e-1)\n",
      "/home/gonken/anaconda3/envs/torch/lib/python3.12/site-packages/torch/nn/modules/transformer.py:379: UserWarning: enable_nested_tensor is True, but self.use_nested_tensor is False because encoder_layer.self_attn.batch_first was not True(use batch_first for better inference performance)\n",
      "  warnings.warn(\n",
      "[I 2024-12-12 19:43:03,183] Trial 3 finished with value: 0.0 and parameters: {'embed_dim': 128, 'num_heads': 4, 'num_layers': 5, 'dropout': 0.2, 'learning_rate': 0.010453525670187197, 'weight_decay': 1.681811466279178e-05}. Best is trial 2 with value: 0.2074251915366926.\n"
     ]
    },
    {
     "name": "stdout",
     "output_type": "stream",
     "text": [
      "Early stopping at epoch 11\n",
      "Final MCC: 0.0000\n"
     ]
    },
    {
     "name": "stderr",
     "output_type": "stream",
     "text": [
      "/tmp/ipykernel_1287795/2683590562.py:7: FutureWarning: suggest_loguniform has been deprecated in v3.0.0. This feature will be removed in v6.0.0. See https://github.com/optuna/optuna/releases/tag/v3.0.0. Use suggest_float(..., log=True) instead.\n",
      "  learning_rate = trial.suggest_loguniform(\"learning_rate\", 1e-4, 1e-1)\n",
      "/tmp/ipykernel_1287795/2683590562.py:8: FutureWarning: suggest_loguniform has been deprecated in v3.0.0. This feature will be removed in v6.0.0. See https://github.com/optuna/optuna/releases/tag/v3.0.0. Use suggest_float(..., log=True) instead.\n",
      "  weight_decay = trial.suggest_loguniform(\"weight_decay\", 1e-5, 1e-1)\n",
      "/home/gonken/anaconda3/envs/torch/lib/python3.12/site-packages/torch/nn/modules/transformer.py:379: UserWarning: enable_nested_tensor is True, but self.use_nested_tensor is False because encoder_layer.self_attn.batch_first was not True(use batch_first for better inference performance)\n",
      "  warnings.warn(\n",
      "[I 2024-12-12 19:43:09,853] Trial 4 finished with value: 0.0 and parameters: {'embed_dim': 64, 'num_heads': 16, 'num_layers': 3, 'dropout': 0.15000000000000002, 'learning_rate': 0.01822179415207466, 'weight_decay': 9.65846151073774e-05}. Best is trial 2 with value: 0.2074251915366926.\n"
     ]
    },
    {
     "name": "stdout",
     "output_type": "stream",
     "text": [
      "Early stopping at epoch 16\n",
      "Final MCC: 0.0000\n"
     ]
    },
    {
     "name": "stderr",
     "output_type": "stream",
     "text": [
      "/tmp/ipykernel_1287795/2683590562.py:7: FutureWarning: suggest_loguniform has been deprecated in v3.0.0. This feature will be removed in v6.0.0. See https://github.com/optuna/optuna/releases/tag/v3.0.0. Use suggest_float(..., log=True) instead.\n",
      "  learning_rate = trial.suggest_loguniform(\"learning_rate\", 1e-4, 1e-1)\n",
      "/tmp/ipykernel_1287795/2683590562.py:8: FutureWarning: suggest_loguniform has been deprecated in v3.0.0. This feature will be removed in v6.0.0. See https://github.com/optuna/optuna/releases/tag/v3.0.0. Use suggest_float(..., log=True) instead.\n",
      "  weight_decay = trial.suggest_loguniform(\"weight_decay\", 1e-5, 1e-1)\n",
      "/home/gonken/anaconda3/envs/torch/lib/python3.12/site-packages/torch/nn/modules/transformer.py:379: UserWarning: enable_nested_tensor is True, but self.use_nested_tensor is False because encoder_layer.self_attn.batch_first was not True(use batch_first for better inference performance)\n",
      "  warnings.warn(\n",
      "[I 2024-12-12 19:43:16,470] Trial 5 finished with value: 0.18387887444709092 and parameters: {'embed_dim': 128, 'num_heads': 16, 'num_layers': 5, 'dropout': 0.35000000000000003, 'learning_rate': 0.0011176933956287742, 'weight_decay': 0.0015473631597093846}. Best is trial 2 with value: 0.2074251915366926.\n"
     ]
    },
    {
     "name": "stdout",
     "output_type": "stream",
     "text": [
      "Early stopping at epoch 11\n",
      "Final MCC: 0.1839\n"
     ]
    },
    {
     "name": "stderr",
     "output_type": "stream",
     "text": [
      "/tmp/ipykernel_1287795/2683590562.py:7: FutureWarning: suggest_loguniform has been deprecated in v3.0.0. This feature will be removed in v6.0.0. See https://github.com/optuna/optuna/releases/tag/v3.0.0. Use suggest_float(..., log=True) instead.\n",
      "  learning_rate = trial.suggest_loguniform(\"learning_rate\", 1e-4, 1e-1)\n",
      "/tmp/ipykernel_1287795/2683590562.py:8: FutureWarning: suggest_loguniform has been deprecated in v3.0.0. This feature will be removed in v6.0.0. See https://github.com/optuna/optuna/releases/tag/v3.0.0. Use suggest_float(..., log=True) instead.\n",
      "  weight_decay = trial.suggest_loguniform(\"weight_decay\", 1e-5, 1e-1)\n",
      "/home/gonken/anaconda3/envs/torch/lib/python3.12/site-packages/torch/nn/modules/transformer.py:379: UserWarning: enable_nested_tensor is True, but self.use_nested_tensor is False because encoder_layer.self_attn.batch_first was not True(use batch_first for better inference performance)\n",
      "  warnings.warn(\n",
      "[I 2024-12-12 19:43:22,950] Trial 6 finished with value: 0.18285714285714286 and parameters: {'embed_dim': 128, 'num_heads': 4, 'num_layers': 4, 'dropout': 0.25, 'learning_rate': 0.0011731642046942793, 'weight_decay': 0.006540952835114548}. Best is trial 2 with value: 0.2074251915366926.\n"
     ]
    },
    {
     "name": "stdout",
     "output_type": "stream",
     "text": [
      "Early stopping at epoch 12\n",
      "Final MCC: 0.1829\n"
     ]
    },
    {
     "name": "stderr",
     "output_type": "stream",
     "text": [
      "/tmp/ipykernel_1287795/2683590562.py:7: FutureWarning: suggest_loguniform has been deprecated in v3.0.0. This feature will be removed in v6.0.0. See https://github.com/optuna/optuna/releases/tag/v3.0.0. Use suggest_float(..., log=True) instead.\n",
      "  learning_rate = trial.suggest_loguniform(\"learning_rate\", 1e-4, 1e-1)\n",
      "/tmp/ipykernel_1287795/2683590562.py:8: FutureWarning: suggest_loguniform has been deprecated in v3.0.0. This feature will be removed in v6.0.0. See https://github.com/optuna/optuna/releases/tag/v3.0.0. Use suggest_float(..., log=True) instead.\n",
      "  weight_decay = trial.suggest_loguniform(\"weight_decay\", 1e-5, 1e-1)\n",
      "/home/gonken/anaconda3/envs/torch/lib/python3.12/site-packages/torch/nn/modules/transformer.py:379: UserWarning: enable_nested_tensor is True, but self.use_nested_tensor is False because encoder_layer.self_attn.batch_first was not True(use batch_first for better inference performance)\n",
      "  warnings.warn(\n",
      "[I 2024-12-12 19:43:23,405] Trial 7 pruned. \n",
      "[I 2024-12-12 19:43:31,036] Trial 8 finished with value: 0.0 and parameters: {'embed_dim': 64, 'num_heads': 4, 'num_layers': 3, 'dropout': 0.05, 'learning_rate': 0.07777207111102338, 'weight_decay': 4.5171680651483125e-05}. Best is trial 2 with value: 0.2074251915366926.\n"
     ]
    },
    {
     "name": "stdout",
     "output_type": "stream",
     "text": [
      "Early stopping at epoch 17\n",
      "Final MCC: 0.0000\n"
     ]
    },
    {
     "name": "stderr",
     "output_type": "stream",
     "text": [
      "/tmp/ipykernel_1287795/2683590562.py:7: FutureWarning: suggest_loguniform has been deprecated in v3.0.0. This feature will be removed in v6.0.0. See https://github.com/optuna/optuna/releases/tag/v3.0.0. Use suggest_float(..., log=True) instead.\n",
      "  learning_rate = trial.suggest_loguniform(\"learning_rate\", 1e-4, 1e-1)\n",
      "/tmp/ipykernel_1287795/2683590562.py:8: FutureWarning: suggest_loguniform has been deprecated in v3.0.0. This feature will be removed in v6.0.0. See https://github.com/optuna/optuna/releases/tag/v3.0.0. Use suggest_float(..., log=True) instead.\n",
      "  weight_decay = trial.suggest_loguniform(\"weight_decay\", 1e-5, 1e-1)\n",
      "/home/gonken/anaconda3/envs/torch/lib/python3.12/site-packages/torch/nn/modules/transformer.py:379: UserWarning: enable_nested_tensor is True, but self.use_nested_tensor is False because encoder_layer.self_attn.batch_first was not True(use batch_first for better inference performance)\n",
      "  warnings.warn(\n",
      "[I 2024-12-12 19:43:31,669] Trial 9 pruned. \n",
      "[I 2024-12-12 19:43:44,153] Trial 10 finished with value: 0.19538712238500955 and parameters: {'embed_dim': 256, 'num_heads': 8, 'num_layers': 4, 'dropout': 0.5, 'learning_rate': 0.00010673399805704529, 'weight_decay': 0.09550083231010113}. Best is trial 2 with value: 0.2074251915366926.\n"
     ]
    },
    {
     "name": "stdout",
     "output_type": "stream",
     "text": [
      "Early stopping at epoch 28\n",
      "Final MCC: 0.1954\n"
     ]
    },
    {
     "name": "stderr",
     "output_type": "stream",
     "text": [
      "/tmp/ipykernel_1287795/2683590562.py:7: FutureWarning: suggest_loguniform has been deprecated in v3.0.0. This feature will be removed in v6.0.0. See https://github.com/optuna/optuna/releases/tag/v3.0.0. Use suggest_float(..., log=True) instead.\n",
      "  learning_rate = trial.suggest_loguniform(\"learning_rate\", 1e-4, 1e-1)\n",
      "/tmp/ipykernel_1287795/2683590562.py:8: FutureWarning: suggest_loguniform has been deprecated in v3.0.0. This feature will be removed in v6.0.0. See https://github.com/optuna/optuna/releases/tag/v3.0.0. Use suggest_float(..., log=True) instead.\n",
      "  weight_decay = trial.suggest_loguniform(\"weight_decay\", 1e-5, 1e-1)\n",
      "/home/gonken/anaconda3/envs/torch/lib/python3.12/site-packages/torch/nn/modules/transformer.py:379: UserWarning: enable_nested_tensor is True, but self.use_nested_tensor is False because encoder_layer.self_attn.batch_first was not True(use batch_first for better inference performance)\n",
      "  warnings.warn(\n",
      "[I 2024-12-12 19:43:44,484] Trial 11 pruned. \n",
      "[I 2024-12-12 19:43:44,934] Trial 12 pruned. \n",
      "[I 2024-12-12 19:43:45,280] Trial 13 pruned. \n",
      "[I 2024-12-12 19:43:45,730] Trial 14 pruned. \n",
      "[I 2024-12-12 19:43:46,253] Trial 15 pruned. \n",
      "[I 2024-12-12 19:43:46,571] Trial 16 pruned. \n",
      "[I 2024-12-12 19:43:47,085] Trial 17 pruned. \n",
      "[I 2024-12-12 19:43:47,435] Trial 18 pruned. \n",
      "[I 2024-12-12 19:43:47,859] Trial 19 pruned. \n",
      "[I 2024-12-12 19:43:48,344] Trial 20 pruned. \n",
      "[I 2024-12-12 19:43:48,860] Trial 21 pruned. \n",
      "[I 2024-12-12 19:43:49,419] Trial 22 pruned. \n",
      "[I 2024-12-12 19:43:49,896] Trial 23 pruned. \n",
      "[I 2024-12-12 19:43:50,399] Trial 24 pruned. \n",
      "[I 2024-12-12 19:43:50,761] Trial 25 pruned. \n",
      "[I 2024-12-12 19:43:51,241] Trial 26 pruned. \n",
      "[I 2024-12-12 19:43:51,784] Trial 27 pruned. \n",
      "[I 2024-12-12 19:43:52,232] Trial 28 pruned. \n",
      "[I 2024-12-12 19:43:52,583] Trial 29 pruned. \n",
      "[I 2024-12-12 19:43:53,081] Trial 30 pruned. \n",
      "[I 2024-12-12 19:43:53,554] Trial 31 pruned. \n",
      "[I 2024-12-12 19:44:07,474] Trial 32 finished with value: 0.20594366505666611 and parameters: {'embed_dim': 256, 'num_heads': 8, 'num_layers': 4, 'dropout': 0.5, 'learning_rate': 0.00011231609313717251, 'weight_decay': 0.04717361580222586}. Best is trial 2 with value: 0.2074251915366926.\n"
     ]
    },
    {
     "name": "stdout",
     "output_type": "stream",
     "text": [
      "Early stopping at epoch 32\n",
      "Final MCC: 0.2059\n"
     ]
    },
    {
     "name": "stderr",
     "output_type": "stream",
     "text": [
      "/tmp/ipykernel_1287795/2683590562.py:7: FutureWarning: suggest_loguniform has been deprecated in v3.0.0. This feature will be removed in v6.0.0. See https://github.com/optuna/optuna/releases/tag/v3.0.0. Use suggest_float(..., log=True) instead.\n",
      "  learning_rate = trial.suggest_loguniform(\"learning_rate\", 1e-4, 1e-1)\n",
      "/tmp/ipykernel_1287795/2683590562.py:8: FutureWarning: suggest_loguniform has been deprecated in v3.0.0. This feature will be removed in v6.0.0. See https://github.com/optuna/optuna/releases/tag/v3.0.0. Use suggest_float(..., log=True) instead.\n",
      "  weight_decay = trial.suggest_loguniform(\"weight_decay\", 1e-5, 1e-1)\n",
      "/home/gonken/anaconda3/envs/torch/lib/python3.12/site-packages/torch/nn/modules/transformer.py:379: UserWarning: enable_nested_tensor is True, but self.use_nested_tensor is False because encoder_layer.self_attn.batch_first was not True(use batch_first for better inference performance)\n",
      "  warnings.warn(\n",
      "[I 2024-12-12 19:44:07,972] Trial 33 pruned. \n",
      "[I 2024-12-12 19:44:13,073] Trial 34 finished with value: 0.23960336183731895 and parameters: {'embed_dim': 256, 'num_heads': 8, 'num_layers': 4, 'dropout': 0.45, 'learning_rate': 0.0007398629409220552, 'weight_decay': 0.021431395372296415}. Best is trial 34 with value: 0.23960336183731895.\n"
     ]
    },
    {
     "name": "stdout",
     "output_type": "stream",
     "text": [
      "Early stopping at epoch 11\n",
      "Final MCC: 0.2396\n"
     ]
    },
    {
     "name": "stderr",
     "output_type": "stream",
     "text": [
      "/tmp/ipykernel_1287795/2683590562.py:7: FutureWarning: suggest_loguniform has been deprecated in v3.0.0. This feature will be removed in v6.0.0. See https://github.com/optuna/optuna/releases/tag/v3.0.0. Use suggest_float(..., log=True) instead.\n",
      "  learning_rate = trial.suggest_loguniform(\"learning_rate\", 1e-4, 1e-1)\n",
      "/tmp/ipykernel_1287795/2683590562.py:8: FutureWarning: suggest_loguniform has been deprecated in v3.0.0. This feature will be removed in v6.0.0. See https://github.com/optuna/optuna/releases/tag/v3.0.0. Use suggest_float(..., log=True) instead.\n",
      "  weight_decay = trial.suggest_loguniform(\"weight_decay\", 1e-5, 1e-1)\n",
      "/home/gonken/anaconda3/envs/torch/lib/python3.12/site-packages/torch/nn/modules/transformer.py:379: UserWarning: enable_nested_tensor is True, but self.use_nested_tensor is False because encoder_layer.self_attn.batch_first was not True(use batch_first for better inference performance)\n",
      "  warnings.warn(\n",
      "[I 2024-12-12 19:44:23,093] Trial 35 finished with value: 0.16824697564365998 and parameters: {'embed_dim': 256, 'num_heads': 8, 'num_layers': 4, 'dropout': 0.45, 'learning_rate': 0.00011034213031512441, 'weight_decay': 0.044128078154726226}. Best is trial 34 with value: 0.23960336183731895.\n"
     ]
    },
    {
     "name": "stdout",
     "output_type": "stream",
     "text": [
      "Early stopping at epoch 24\n",
      "Final MCC: 0.1682\n"
     ]
    },
    {
     "name": "stderr",
     "output_type": "stream",
     "text": [
      "/tmp/ipykernel_1287795/2683590562.py:7: FutureWarning: suggest_loguniform has been deprecated in v3.0.0. This feature will be removed in v6.0.0. See https://github.com/optuna/optuna/releases/tag/v3.0.0. Use suggest_float(..., log=True) instead.\n",
      "  learning_rate = trial.suggest_loguniform(\"learning_rate\", 1e-4, 1e-1)\n",
      "/tmp/ipykernel_1287795/2683590562.py:8: FutureWarning: suggest_loguniform has been deprecated in v3.0.0. This feature will be removed in v6.0.0. See https://github.com/optuna/optuna/releases/tag/v3.0.0. Use suggest_float(..., log=True) instead.\n",
      "  weight_decay = trial.suggest_loguniform(\"weight_decay\", 1e-5, 1e-1)\n",
      "/home/gonken/anaconda3/envs/torch/lib/python3.12/site-packages/torch/nn/modules/transformer.py:379: UserWarning: enable_nested_tensor is True, but self.use_nested_tensor is False because encoder_layer.self_attn.batch_first was not True(use batch_first for better inference performance)\n",
      "  warnings.warn(\n",
      "[I 2024-12-12 19:44:29,410] Trial 36 finished with value: 0.25545658049094966 and parameters: {'embed_dim': 256, 'num_heads': 16, 'num_layers': 4, 'dropout': 0.5, 'learning_rate': 0.0007400257470594041, 'weight_decay': 0.021710065492330736}. Best is trial 36 with value: 0.25545658049094966.\n"
     ]
    },
    {
     "name": "stdout",
     "output_type": "stream",
     "text": [
      "Early stopping at epoch 15\n",
      "Final MCC: 0.2555\n"
     ]
    },
    {
     "name": "stderr",
     "output_type": "stream",
     "text": [
      "/tmp/ipykernel_1287795/2683590562.py:7: FutureWarning: suggest_loguniform has been deprecated in v3.0.0. This feature will be removed in v6.0.0. See https://github.com/optuna/optuna/releases/tag/v3.0.0. Use suggest_float(..., log=True) instead.\n",
      "  learning_rate = trial.suggest_loguniform(\"learning_rate\", 1e-4, 1e-1)\n",
      "/tmp/ipykernel_1287795/2683590562.py:8: FutureWarning: suggest_loguniform has been deprecated in v3.0.0. This feature will be removed in v6.0.0. See https://github.com/optuna/optuna/releases/tag/v3.0.0. Use suggest_float(..., log=True) instead.\n",
      "  weight_decay = trial.suggest_loguniform(\"weight_decay\", 1e-5, 1e-1)\n",
      "/home/gonken/anaconda3/envs/torch/lib/python3.12/site-packages/torch/nn/modules/transformer.py:379: UserWarning: enable_nested_tensor is True, but self.use_nested_tensor is False because encoder_layer.self_attn.batch_first was not True(use batch_first for better inference performance)\n",
      "  warnings.warn(\n",
      "[I 2024-12-12 19:44:29,848] Trial 37 pruned. \n",
      "[I 2024-12-12 19:44:30,231] Trial 38 pruned. \n",
      "[I 2024-12-12 19:44:30,533] Trial 39 pruned. \n",
      "[I 2024-12-12 19:44:30,843] Trial 40 pruned. \n",
      "[I 2024-12-12 19:44:38,844] Trial 41 finished with value: 0.22272344208538955 and parameters: {'embed_dim': 256, 'num_heads': 16, 'num_layers': 4, 'dropout': 0.5, 'learning_rate': 0.000318546024421401, 'weight_decay': 0.04795774724148426}. Best is trial 36 with value: 0.25545658049094966.\n"
     ]
    },
    {
     "name": "stdout",
     "output_type": "stream",
     "text": [
      "Early stopping at epoch 17\n",
      "Final MCC: 0.2227\n"
     ]
    },
    {
     "name": "stderr",
     "output_type": "stream",
     "text": [
      "/tmp/ipykernel_1287795/2683590562.py:7: FutureWarning: suggest_loguniform has been deprecated in v3.0.0. This feature will be removed in v6.0.0. See https://github.com/optuna/optuna/releases/tag/v3.0.0. Use suggest_float(..., log=True) instead.\n",
      "  learning_rate = trial.suggest_loguniform(\"learning_rate\", 1e-4, 1e-1)\n",
      "/tmp/ipykernel_1287795/2683590562.py:8: FutureWarning: suggest_loguniform has been deprecated in v3.0.0. This feature will be removed in v6.0.0. See https://github.com/optuna/optuna/releases/tag/v3.0.0. Use suggest_float(..., log=True) instead.\n",
      "  weight_decay = trial.suggest_loguniform(\"weight_decay\", 1e-5, 1e-1)\n",
      "/home/gonken/anaconda3/envs/torch/lib/python3.12/site-packages/torch/nn/modules/transformer.py:379: UserWarning: enable_nested_tensor is True, but self.use_nested_tensor is False because encoder_layer.self_attn.batch_first was not True(use batch_first for better inference performance)\n",
      "  warnings.warn(\n",
      "[I 2024-12-12 19:44:45,040] Trial 42 finished with value: 0.21195161744839547 and parameters: {'embed_dim': 256, 'num_heads': 16, 'num_layers': 4, 'dropout': 0.5, 'learning_rate': 0.0002114882517205826, 'weight_decay': 0.028414301663153025}. Best is trial 36 with value: 0.25545658049094966.\n"
     ]
    },
    {
     "name": "stdout",
     "output_type": "stream",
     "text": [
      "Early stopping at epoch 13\n",
      "Final MCC: 0.2120\n"
     ]
    },
    {
     "name": "stderr",
     "output_type": "stream",
     "text": [
      "/tmp/ipykernel_1287795/2683590562.py:7: FutureWarning: suggest_loguniform has been deprecated in v3.0.0. This feature will be removed in v6.0.0. See https://github.com/optuna/optuna/releases/tag/v3.0.0. Use suggest_float(..., log=True) instead.\n",
      "  learning_rate = trial.suggest_loguniform(\"learning_rate\", 1e-4, 1e-1)\n",
      "/tmp/ipykernel_1287795/2683590562.py:8: FutureWarning: suggest_loguniform has been deprecated in v3.0.0. This feature will be removed in v6.0.0. See https://github.com/optuna/optuna/releases/tag/v3.0.0. Use suggest_float(..., log=True) instead.\n",
      "  weight_decay = trial.suggest_loguniform(\"weight_decay\", 1e-5, 1e-1)\n",
      "/home/gonken/anaconda3/envs/torch/lib/python3.12/site-packages/torch/nn/modules/transformer.py:379: UserWarning: enable_nested_tensor is True, but self.use_nested_tensor is False because encoder_layer.self_attn.batch_first was not True(use batch_first for better inference performance)\n",
      "  warnings.warn(\n",
      "[I 2024-12-12 19:44:45,462] Trial 43 pruned. \n",
      "[I 2024-12-12 19:44:45,932] Trial 44 pruned. \n",
      "[I 2024-12-12 19:44:46,374] Trial 45 pruned. \n",
      "[I 2024-12-12 19:44:53,398] Trial 46 finished with value: 0.20769042792421805 and parameters: {'embed_dim': 256, 'num_heads': 16, 'num_layers': 4, 'dropout': 0.5, 'learning_rate': 0.0005861150415903929, 'weight_decay': 0.027961796191541}. Best is trial 36 with value: 0.25545658049094966.\n"
     ]
    },
    {
     "name": "stdout",
     "output_type": "stream",
     "text": [
      "Early stopping at epoch 14\n",
      "Final MCC: 0.2077\n"
     ]
    },
    {
     "name": "stderr",
     "output_type": "stream",
     "text": [
      "/tmp/ipykernel_1287795/2683590562.py:7: FutureWarning: suggest_loguniform has been deprecated in v3.0.0. This feature will be removed in v6.0.0. See https://github.com/optuna/optuna/releases/tag/v3.0.0. Use suggest_float(..., log=True) instead.\n",
      "  learning_rate = trial.suggest_loguniform(\"learning_rate\", 1e-4, 1e-1)\n",
      "/tmp/ipykernel_1287795/2683590562.py:8: FutureWarning: suggest_loguniform has been deprecated in v3.0.0. This feature will be removed in v6.0.0. See https://github.com/optuna/optuna/releases/tag/v3.0.0. Use suggest_float(..., log=True) instead.\n",
      "  weight_decay = trial.suggest_loguniform(\"weight_decay\", 1e-5, 1e-1)\n",
      "/home/gonken/anaconda3/envs/torch/lib/python3.12/site-packages/torch/nn/modules/transformer.py:379: UserWarning: enable_nested_tensor is True, but self.use_nested_tensor is False because encoder_layer.self_attn.batch_first was not True(use batch_first for better inference performance)\n",
      "  warnings.warn(\n",
      "[I 2024-12-12 19:44:53,921] Trial 47 pruned. \n",
      "[I 2024-12-12 19:45:02,995] Trial 48 finished with value: 0.19724529517490136 and parameters: {'embed_dim': 256, 'num_heads': 16, 'num_layers': 4, 'dropout': 0.45, 'learning_rate': 0.00018141695487803425, 'weight_decay': 0.01591827294637867}. Best is trial 36 with value: 0.25545658049094966.\n"
     ]
    },
    {
     "name": "stdout",
     "output_type": "stream",
     "text": [
      "Early stopping at epoch 18\n",
      "Final MCC: 0.1972\n"
     ]
    },
    {
     "name": "stderr",
     "output_type": "stream",
     "text": [
      "/tmp/ipykernel_1287795/2683590562.py:7: FutureWarning: suggest_loguniform has been deprecated in v3.0.0. This feature will be removed in v6.0.0. See https://github.com/optuna/optuna/releases/tag/v3.0.0. Use suggest_float(..., log=True) instead.\n",
      "  learning_rate = trial.suggest_loguniform(\"learning_rate\", 1e-4, 1e-1)\n",
      "/tmp/ipykernel_1287795/2683590562.py:8: FutureWarning: suggest_loguniform has been deprecated in v3.0.0. This feature will be removed in v6.0.0. See https://github.com/optuna/optuna/releases/tag/v3.0.0. Use suggest_float(..., log=True) instead.\n",
      "  weight_decay = trial.suggest_loguniform(\"weight_decay\", 1e-5, 1e-1)\n",
      "/home/gonken/anaconda3/envs/torch/lib/python3.12/site-packages/torch/nn/modules/transformer.py:379: UserWarning: enable_nested_tensor is True, but self.use_nested_tensor is False because encoder_layer.self_attn.batch_first was not True(use batch_first for better inference performance)\n",
      "  warnings.warn(\n",
      "[I 2024-12-12 19:45:12,561] Trial 49 finished with value: 0.20899050642413985 and parameters: {'embed_dim': 256, 'num_heads': 16, 'num_layers': 4, 'dropout': 0.5, 'learning_rate': 0.00022249344536367358, 'weight_decay': 0.06786258352284656}. Best is trial 36 with value: 0.25545658049094966.\n"
     ]
    },
    {
     "name": "stdout",
     "output_type": "stream",
     "text": [
      "Early stopping at epoch 21\n",
      "Final MCC: 0.2090\n"
     ]
    },
    {
     "name": "stderr",
     "output_type": "stream",
     "text": [
      "/tmp/ipykernel_1287795/2683590562.py:7: FutureWarning: suggest_loguniform has been deprecated in v3.0.0. This feature will be removed in v6.0.0. See https://github.com/optuna/optuna/releases/tag/v3.0.0. Use suggest_float(..., log=True) instead.\n",
      "  learning_rate = trial.suggest_loguniform(\"learning_rate\", 1e-4, 1e-1)\n",
      "/tmp/ipykernel_1287795/2683590562.py:8: FutureWarning: suggest_loguniform has been deprecated in v3.0.0. This feature will be removed in v6.0.0. See https://github.com/optuna/optuna/releases/tag/v3.0.0. Use suggest_float(..., log=True) instead.\n",
      "  weight_decay = trial.suggest_loguniform(\"weight_decay\", 1e-5, 1e-1)\n",
      "/home/gonken/anaconda3/envs/torch/lib/python3.12/site-packages/torch/nn/modules/transformer.py:379: UserWarning: enable_nested_tensor is True, but self.use_nested_tensor is False because encoder_layer.self_attn.batch_first was not True(use batch_first for better inference performance)\n",
      "  warnings.warn(\n",
      "[I 2024-12-12 19:45:13,103] Trial 50 pruned. \n",
      "[I 2024-12-12 19:45:24,525] Trial 51 finished with value: 0.20146694750408328 and parameters: {'embed_dim': 256, 'num_heads': 16, 'num_layers': 4, 'dropout': 0.5, 'learning_rate': 0.00015674726804127924, 'weight_decay': 0.0931333587604291}. Best is trial 36 with value: 0.25545658049094966.\n"
     ]
    },
    {
     "name": "stdout",
     "output_type": "stream",
     "text": [
      "Early stopping at epoch 23\n",
      "Final MCC: 0.2015\n"
     ]
    },
    {
     "name": "stderr",
     "output_type": "stream",
     "text": [
      "/tmp/ipykernel_1287795/2683590562.py:7: FutureWarning: suggest_loguniform has been deprecated in v3.0.0. This feature will be removed in v6.0.0. See https://github.com/optuna/optuna/releases/tag/v3.0.0. Use suggest_float(..., log=True) instead.\n",
      "  learning_rate = trial.suggest_loguniform(\"learning_rate\", 1e-4, 1e-1)\n",
      "/tmp/ipykernel_1287795/2683590562.py:8: FutureWarning: suggest_loguniform has been deprecated in v3.0.0. This feature will be removed in v6.0.0. See https://github.com/optuna/optuna/releases/tag/v3.0.0. Use suggest_float(..., log=True) instead.\n",
      "  weight_decay = trial.suggest_loguniform(\"weight_decay\", 1e-5, 1e-1)\n",
      "/home/gonken/anaconda3/envs/torch/lib/python3.12/site-packages/torch/nn/modules/transformer.py:379: UserWarning: enable_nested_tensor is True, but self.use_nested_tensor is False because encoder_layer.self_attn.batch_first was not True(use batch_first for better inference performance)\n",
      "  warnings.warn(\n",
      "[I 2024-12-12 19:45:24,989] Trial 52 pruned. \n",
      "[I 2024-12-12 19:45:25,543] Trial 53 pruned. \n",
      "[I 2024-12-12 19:45:26,027] Trial 54 pruned. \n",
      "[I 2024-12-12 19:45:26,522] Trial 55 pruned. \n",
      "[I 2024-12-12 19:45:37,618] Trial 56 finished with value: 0.19237062288668477 and parameters: {'embed_dim': 256, 'num_heads': 16, 'num_layers': 4, 'dropout': 0.5, 'learning_rate': 0.00015210155054522676, 'weight_decay': 0.07065770989036414}. Best is trial 36 with value: 0.25545658049094966.\n"
     ]
    },
    {
     "name": "stdout",
     "output_type": "stream",
     "text": [
      "Early stopping at epoch 24\n",
      "Final MCC: 0.1924\n"
     ]
    },
    {
     "name": "stderr",
     "output_type": "stream",
     "text": [
      "/tmp/ipykernel_1287795/2683590562.py:7: FutureWarning: suggest_loguniform has been deprecated in v3.0.0. This feature will be removed in v6.0.0. See https://github.com/optuna/optuna/releases/tag/v3.0.0. Use suggest_float(..., log=True) instead.\n",
      "  learning_rate = trial.suggest_loguniform(\"learning_rate\", 1e-4, 1e-1)\n",
      "/tmp/ipykernel_1287795/2683590562.py:8: FutureWarning: suggest_loguniform has been deprecated in v3.0.0. This feature will be removed in v6.0.0. See https://github.com/optuna/optuna/releases/tag/v3.0.0. Use suggest_float(..., log=True) instead.\n",
      "  weight_decay = trial.suggest_loguniform(\"weight_decay\", 1e-5, 1e-1)\n",
      "/home/gonken/anaconda3/envs/torch/lib/python3.12/site-packages/torch/nn/modules/transformer.py:379: UserWarning: enable_nested_tensor is True, but self.use_nested_tensor is False because encoder_layer.self_attn.batch_first was not True(use batch_first for better inference performance)\n",
      "  warnings.warn(\n",
      "[I 2024-12-12 19:45:37,956] Trial 57 pruned. \n",
      "[I 2024-12-12 19:45:38,278] Trial 58 pruned. \n",
      "[I 2024-12-12 19:45:38,592] Trial 59 pruned. \n",
      "[I 2024-12-12 19:45:39,052] Trial 60 pruned. \n",
      "[I 2024-12-12 19:45:45,687] Trial 61 finished with value: 0.2089793297157573 and parameters: {'embed_dim': 256, 'num_heads': 16, 'num_layers': 4, 'dropout': 0.5, 'learning_rate': 0.000555186203878564, 'weight_decay': 0.014917749412826121}. Best is trial 36 with value: 0.25545658049094966.\n"
     ]
    },
    {
     "name": "stdout",
     "output_type": "stream",
     "text": [
      "Early stopping at epoch 15\n",
      "Final MCC: 0.2090\n"
     ]
    },
    {
     "name": "stderr",
     "output_type": "stream",
     "text": [
      "/tmp/ipykernel_1287795/2683590562.py:7: FutureWarning: suggest_loguniform has been deprecated in v3.0.0. This feature will be removed in v6.0.0. See https://github.com/optuna/optuna/releases/tag/v3.0.0. Use suggest_float(..., log=True) instead.\n",
      "  learning_rate = trial.suggest_loguniform(\"learning_rate\", 1e-4, 1e-1)\n",
      "/tmp/ipykernel_1287795/2683590562.py:8: FutureWarning: suggest_loguniform has been deprecated in v3.0.0. This feature will be removed in v6.0.0. See https://github.com/optuna/optuna/releases/tag/v3.0.0. Use suggest_float(..., log=True) instead.\n",
      "  weight_decay = trial.suggest_loguniform(\"weight_decay\", 1e-5, 1e-1)\n",
      "/home/gonken/anaconda3/envs/torch/lib/python3.12/site-packages/torch/nn/modules/transformer.py:379: UserWarning: enable_nested_tensor is True, but self.use_nested_tensor is False because encoder_layer.self_attn.batch_first was not True(use batch_first for better inference performance)\n",
      "  warnings.warn(\n",
      "[I 2024-12-12 19:45:46,255] Trial 62 pruned. \n",
      "[I 2024-12-12 19:45:54,708] Trial 63 finished with value: 0.21346268941654015 and parameters: {'embed_dim': 256, 'num_heads': 16, 'num_layers': 4, 'dropout': 0.5, 'learning_rate': 0.00039272237699597797, 'weight_decay': 0.016600716527137578}. Best is trial 36 with value: 0.25545658049094966.\n"
     ]
    },
    {
     "name": "stdout",
     "output_type": "stream",
     "text": [
      "Early stopping at epoch 18\n",
      "Final MCC: 0.2135\n"
     ]
    },
    {
     "name": "stderr",
     "output_type": "stream",
     "text": [
      "/tmp/ipykernel_1287795/2683590562.py:7: FutureWarning: suggest_loguniform has been deprecated in v3.0.0. This feature will be removed in v6.0.0. See https://github.com/optuna/optuna/releases/tag/v3.0.0. Use suggest_float(..., log=True) instead.\n",
      "  learning_rate = trial.suggest_loguniform(\"learning_rate\", 1e-4, 1e-1)\n",
      "/tmp/ipykernel_1287795/2683590562.py:8: FutureWarning: suggest_loguniform has been deprecated in v3.0.0. This feature will be removed in v6.0.0. See https://github.com/optuna/optuna/releases/tag/v3.0.0. Use suggest_float(..., log=True) instead.\n",
      "  weight_decay = trial.suggest_loguniform(\"weight_decay\", 1e-5, 1e-1)\n",
      "/home/gonken/anaconda3/envs/torch/lib/python3.12/site-packages/torch/nn/modules/transformer.py:379: UserWarning: enable_nested_tensor is True, but self.use_nested_tensor is False because encoder_layer.self_attn.batch_first was not True(use batch_first for better inference performance)\n",
      "  warnings.warn(\n",
      "[I 2024-12-12 19:45:55,143] Trial 64 pruned. \n",
      "[I 2024-12-12 19:45:55,594] Trial 65 pruned. \n",
      "[I 2024-12-12 19:46:03,164] Trial 66 finished with value: 0.199022037673755 and parameters: {'embed_dim': 256, 'num_heads': 16, 'num_layers': 4, 'dropout': 0.5, 'learning_rate': 0.00019501397501831116, 'weight_decay': 0.0031744494638906856}. Best is trial 36 with value: 0.25545658049094966.\n"
     ]
    },
    {
     "name": "stdout",
     "output_type": "stream",
     "text": [
      "Early stopping at epoch 16\n",
      "Final MCC: 0.1990\n"
     ]
    },
    {
     "name": "stderr",
     "output_type": "stream",
     "text": [
      "/tmp/ipykernel_1287795/2683590562.py:7: FutureWarning: suggest_loguniform has been deprecated in v3.0.0. This feature will be removed in v6.0.0. See https://github.com/optuna/optuna/releases/tag/v3.0.0. Use suggest_float(..., log=True) instead.\n",
      "  learning_rate = trial.suggest_loguniform(\"learning_rate\", 1e-4, 1e-1)\n",
      "/tmp/ipykernel_1287795/2683590562.py:8: FutureWarning: suggest_loguniform has been deprecated in v3.0.0. This feature will be removed in v6.0.0. See https://github.com/optuna/optuna/releases/tag/v3.0.0. Use suggest_float(..., log=True) instead.\n",
      "  weight_decay = trial.suggest_loguniform(\"weight_decay\", 1e-5, 1e-1)\n",
      "/home/gonken/anaconda3/envs/torch/lib/python3.12/site-packages/torch/nn/modules/transformer.py:379: UserWarning: enable_nested_tensor is True, but self.use_nested_tensor is False because encoder_layer.self_attn.batch_first was not True(use batch_first for better inference performance)\n",
      "  warnings.warn(\n",
      "[I 2024-12-12 19:46:03,619] Trial 67 pruned. \n",
      "[I 2024-12-12 19:46:03,979] Trial 68 pruned. \n",
      "[I 2024-12-12 19:46:04,395] Trial 69 pruned. \n",
      "[I 2024-12-12 19:46:04,890] Trial 70 pruned. \n",
      "[I 2024-12-12 19:46:10,037] Trial 71 finished with value: 0.22848653036674993 and parameters: {'embed_dim': 256, 'num_heads': 16, 'num_layers': 4, 'dropout': 0.5, 'learning_rate': 0.0006323460021294857, 'weight_decay': 0.02912516332158831}. Best is trial 36 with value: 0.25545658049094966.\n"
     ]
    },
    {
     "name": "stdout",
     "output_type": "stream",
     "text": [
      "Early stopping at epoch 11\n",
      "Final MCC: 0.2285\n"
     ]
    },
    {
     "name": "stderr",
     "output_type": "stream",
     "text": [
      "/tmp/ipykernel_1287795/2683590562.py:7: FutureWarning: suggest_loguniform has been deprecated in v3.0.0. This feature will be removed in v6.0.0. See https://github.com/optuna/optuna/releases/tag/v3.0.0. Use suggest_float(..., log=True) instead.\n",
      "  learning_rate = trial.suggest_loguniform(\"learning_rate\", 1e-4, 1e-1)\n",
      "/tmp/ipykernel_1287795/2683590562.py:8: FutureWarning: suggest_loguniform has been deprecated in v3.0.0. This feature will be removed in v6.0.0. See https://github.com/optuna/optuna/releases/tag/v3.0.0. Use suggest_float(..., log=True) instead.\n",
      "  weight_decay = trial.suggest_loguniform(\"weight_decay\", 1e-5, 1e-1)\n",
      "/home/gonken/anaconda3/envs/torch/lib/python3.12/site-packages/torch/nn/modules/transformer.py:379: UserWarning: enable_nested_tensor is True, but self.use_nested_tensor is False because encoder_layer.self_attn.batch_first was not True(use batch_first for better inference performance)\n",
      "  warnings.warn(\n",
      "[I 2024-12-12 19:46:15,110] Trial 72 finished with value: 0.19393798054663625 and parameters: {'embed_dim': 256, 'num_heads': 16, 'num_layers': 4, 'dropout': 0.5, 'learning_rate': 0.00044984906308205737, 'weight_decay': 0.0381048545421879}. Best is trial 36 with value: 0.25545658049094966.\n"
     ]
    },
    {
     "name": "stdout",
     "output_type": "stream",
     "text": [
      "Early stopping at epoch 11\n",
      "Final MCC: 0.1939\n"
     ]
    },
    {
     "name": "stderr",
     "output_type": "stream",
     "text": [
      "/tmp/ipykernel_1287795/2683590562.py:7: FutureWarning: suggest_loguniform has been deprecated in v3.0.0. This feature will be removed in v6.0.0. See https://github.com/optuna/optuna/releases/tag/v3.0.0. Use suggest_float(..., log=True) instead.\n",
      "  learning_rate = trial.suggest_loguniform(\"learning_rate\", 1e-4, 1e-1)\n",
      "/tmp/ipykernel_1287795/2683590562.py:8: FutureWarning: suggest_loguniform has been deprecated in v3.0.0. This feature will be removed in v6.0.0. See https://github.com/optuna/optuna/releases/tag/v3.0.0. Use suggest_float(..., log=True) instead.\n",
      "  weight_decay = trial.suggest_loguniform(\"weight_decay\", 1e-5, 1e-1)\n",
      "/home/gonken/anaconda3/envs/torch/lib/python3.12/site-packages/torch/nn/modules/transformer.py:379: UserWarning: enable_nested_tensor is True, but self.use_nested_tensor is False because encoder_layer.self_attn.batch_first was not True(use batch_first for better inference performance)\n",
      "  warnings.warn(\n",
      "[I 2024-12-12 19:46:15,641] Trial 73 pruned. \n",
      "[I 2024-12-12 19:46:16,124] Trial 74 pruned. \n",
      "[I 2024-12-12 19:46:16,628] Trial 75 pruned. \n",
      "[I 2024-12-12 19:46:16,969] Trial 76 pruned. \n",
      "[I 2024-12-12 19:46:24,814] Trial 77 finished with value: 0.23599284946046217 and parameters: {'embed_dim': 256, 'num_heads': 16, 'num_layers': 4, 'dropout': 0.45, 'learning_rate': 0.000336583710469793, 'weight_decay': 0.01798775157648939}. Best is trial 36 with value: 0.25545658049094966.\n"
     ]
    },
    {
     "name": "stdout",
     "output_type": "stream",
     "text": [
      "Early stopping at epoch 19\n",
      "Final MCC: 0.2360\n"
     ]
    },
    {
     "name": "stderr",
     "output_type": "stream",
     "text": [
      "/tmp/ipykernel_1287795/2683590562.py:7: FutureWarning: suggest_loguniform has been deprecated in v3.0.0. This feature will be removed in v6.0.0. See https://github.com/optuna/optuna/releases/tag/v3.0.0. Use suggest_float(..., log=True) instead.\n",
      "  learning_rate = trial.suggest_loguniform(\"learning_rate\", 1e-4, 1e-1)\n",
      "/tmp/ipykernel_1287795/2683590562.py:8: FutureWarning: suggest_loguniform has been deprecated in v3.0.0. This feature will be removed in v6.0.0. See https://github.com/optuna/optuna/releases/tag/v3.0.0. Use suggest_float(..., log=True) instead.\n",
      "  weight_decay = trial.suggest_loguniform(\"weight_decay\", 1e-5, 1e-1)\n",
      "/home/gonken/anaconda3/envs/torch/lib/python3.12/site-packages/torch/nn/modules/transformer.py:379: UserWarning: enable_nested_tensor is True, but self.use_nested_tensor is False because encoder_layer.self_attn.batch_first was not True(use batch_first for better inference performance)\n",
      "  warnings.warn(\n",
      "[I 2024-12-12 19:46:25,170] Trial 78 pruned. \n",
      "[I 2024-12-12 19:46:25,579] Trial 79 pruned. \n",
      "[I 2024-12-12 19:46:26,055] Trial 80 pruned. \n",
      "[I 2024-12-12 19:46:32,416] Trial 81 finished with value: 0.2320635028057558 and parameters: {'embed_dim': 256, 'num_heads': 16, 'num_layers': 4, 'dropout': 0.5, 'learning_rate': 0.0008652196256451823, 'weight_decay': 0.01254775841172238}. Best is trial 36 with value: 0.25545658049094966.\n"
     ]
    },
    {
     "name": "stdout",
     "output_type": "stream",
     "text": [
      "Early stopping at epoch 14\n",
      "Final MCC: 0.2321\n"
     ]
    },
    {
     "name": "stderr",
     "output_type": "stream",
     "text": [
      "/tmp/ipykernel_1287795/2683590562.py:7: FutureWarning: suggest_loguniform has been deprecated in v3.0.0. This feature will be removed in v6.0.0. See https://github.com/optuna/optuna/releases/tag/v3.0.0. Use suggest_float(..., log=True) instead.\n",
      "  learning_rate = trial.suggest_loguniform(\"learning_rate\", 1e-4, 1e-1)\n",
      "/tmp/ipykernel_1287795/2683590562.py:8: FutureWarning: suggest_loguniform has been deprecated in v3.0.0. This feature will be removed in v6.0.0. See https://github.com/optuna/optuna/releases/tag/v3.0.0. Use suggest_float(..., log=True) instead.\n",
      "  weight_decay = trial.suggest_loguniform(\"weight_decay\", 1e-5, 1e-1)\n",
      "/home/gonken/anaconda3/envs/torch/lib/python3.12/site-packages/torch/nn/modules/transformer.py:379: UserWarning: enable_nested_tensor is True, but self.use_nested_tensor is False because encoder_layer.self_attn.batch_first was not True(use batch_first for better inference performance)\n",
      "  warnings.warn(\n",
      "[I 2024-12-12 19:46:32,807] Trial 82 pruned. \n",
      "[I 2024-12-12 19:46:33,265] Trial 83 pruned. \n",
      "[I 2024-12-12 19:46:38,024] Trial 84 finished with value: 0.21579563925985285 and parameters: {'embed_dim': 256, 'num_heads': 16, 'num_layers': 4, 'dropout': 0.5, 'learning_rate': 0.00045981191795897274, 'weight_decay': 0.043690016237637005}. Best is trial 36 with value: 0.25545658049094966.\n"
     ]
    },
    {
     "name": "stdout",
     "output_type": "stream",
     "text": [
      "Early stopping at epoch 11\n",
      "Final MCC: 0.2158\n"
     ]
    },
    {
     "name": "stderr",
     "output_type": "stream",
     "text": [
      "/tmp/ipykernel_1287795/2683590562.py:7: FutureWarning: suggest_loguniform has been deprecated in v3.0.0. This feature will be removed in v6.0.0. See https://github.com/optuna/optuna/releases/tag/v3.0.0. Use suggest_float(..., log=True) instead.\n",
      "  learning_rate = trial.suggest_loguniform(\"learning_rate\", 1e-4, 1e-1)\n",
      "/tmp/ipykernel_1287795/2683590562.py:8: FutureWarning: suggest_loguniform has been deprecated in v3.0.0. This feature will be removed in v6.0.0. See https://github.com/optuna/optuna/releases/tag/v3.0.0. Use suggest_float(..., log=True) instead.\n",
      "  weight_decay = trial.suggest_loguniform(\"weight_decay\", 1e-5, 1e-1)\n",
      "/home/gonken/anaconda3/envs/torch/lib/python3.12/site-packages/torch/nn/modules/transformer.py:379: UserWarning: enable_nested_tensor is True, but self.use_nested_tensor is False because encoder_layer.self_attn.batch_first was not True(use batch_first for better inference performance)\n",
      "  warnings.warn(\n",
      "[I 2024-12-12 19:46:38,458] Trial 85 pruned. \n",
      "[I 2024-12-12 19:46:38,900] Trial 86 pruned. \n",
      "[I 2024-12-12 19:46:44,347] Trial 87 finished with value: 0.1522212465329842 and parameters: {'embed_dim': 256, 'num_heads': 16, 'num_layers': 4, 'dropout': 0.45, 'learning_rate': 0.0009591810568040648, 'weight_decay': 0.04406973316000773}. Best is trial 36 with value: 0.25545658049094966.\n"
     ]
    },
    {
     "name": "stdout",
     "output_type": "stream",
     "text": [
      "Early stopping at epoch 11\n",
      "Final MCC: 0.1522\n"
     ]
    },
    {
     "name": "stderr",
     "output_type": "stream",
     "text": [
      "/tmp/ipykernel_1287795/2683590562.py:7: FutureWarning: suggest_loguniform has been deprecated in v3.0.0. This feature will be removed in v6.0.0. See https://github.com/optuna/optuna/releases/tag/v3.0.0. Use suggest_float(..., log=True) instead.\n",
      "  learning_rate = trial.suggest_loguniform(\"learning_rate\", 1e-4, 1e-1)\n",
      "/tmp/ipykernel_1287795/2683590562.py:8: FutureWarning: suggest_loguniform has been deprecated in v3.0.0. This feature will be removed in v6.0.0. See https://github.com/optuna/optuna/releases/tag/v3.0.0. Use suggest_float(..., log=True) instead.\n",
      "  weight_decay = trial.suggest_loguniform(\"weight_decay\", 1e-5, 1e-1)\n",
      "/home/gonken/anaconda3/envs/torch/lib/python3.12/site-packages/torch/nn/modules/transformer.py:379: UserWarning: enable_nested_tensor is True, but self.use_nested_tensor is False because encoder_layer.self_attn.batch_first was not True(use batch_first for better inference performance)\n",
      "  warnings.warn(\n",
      "[I 2024-12-12 19:46:44,773] Trial 88 pruned. \n",
      "[I 2024-12-12 19:46:45,221] Trial 89 pruned. \n",
      "[I 2024-12-12 19:46:45,683] Trial 90 pruned. \n",
      "[I 2024-12-12 19:46:46,199] Trial 91 pruned. \n",
      "[I 2024-12-12 19:46:46,689] Trial 92 pruned. \n",
      "[I 2024-12-12 19:46:57,042] Trial 93 finished with value: 0.2074251915366926 and parameters: {'embed_dim': 256, 'num_heads': 16, 'num_layers': 4, 'dropout': 0.5, 'learning_rate': 0.00013069832670658111, 'weight_decay': 0.05137660530412906}. Best is trial 36 with value: 0.25545658049094966.\n"
     ]
    },
    {
     "name": "stdout",
     "output_type": "stream",
     "text": [
      "Early stopping at epoch 23\n",
      "Final MCC: 0.2074\n"
     ]
    },
    {
     "name": "stderr",
     "output_type": "stream",
     "text": [
      "/tmp/ipykernel_1287795/2683590562.py:7: FutureWarning: suggest_loguniform has been deprecated in v3.0.0. This feature will be removed in v6.0.0. See https://github.com/optuna/optuna/releases/tag/v3.0.0. Use suggest_float(..., log=True) instead.\n",
      "  learning_rate = trial.suggest_loguniform(\"learning_rate\", 1e-4, 1e-1)\n",
      "/tmp/ipykernel_1287795/2683590562.py:8: FutureWarning: suggest_loguniform has been deprecated in v3.0.0. This feature will be removed in v6.0.0. See https://github.com/optuna/optuna/releases/tag/v3.0.0. Use suggest_float(..., log=True) instead.\n",
      "  weight_decay = trial.suggest_loguniform(\"weight_decay\", 1e-5, 1e-1)\n",
      "/home/gonken/anaconda3/envs/torch/lib/python3.12/site-packages/torch/nn/modules/transformer.py:379: UserWarning: enable_nested_tensor is True, but self.use_nested_tensor is False because encoder_layer.self_attn.batch_first was not True(use batch_first for better inference performance)\n",
      "  warnings.warn(\n",
      "[I 2024-12-12 19:46:57,567] Trial 94 pruned. \n",
      "[I 2024-12-12 19:47:04,227] Trial 95 finished with value: 0.23643868166813248 and parameters: {'embed_dim': 256, 'num_heads': 16, 'num_layers': 5, 'dropout': 0.5, 'learning_rate': 0.0007303887757932323, 'weight_decay': 0.05955566262281984}. Best is trial 36 with value: 0.25545658049094966.\n"
     ]
    },
    {
     "name": "stdout",
     "output_type": "stream",
     "text": [
      "Early stopping at epoch 12\n",
      "Final MCC: 0.2364\n"
     ]
    },
    {
     "name": "stderr",
     "output_type": "stream",
     "text": [
      "/tmp/ipykernel_1287795/2683590562.py:7: FutureWarning: suggest_loguniform has been deprecated in v3.0.0. This feature will be removed in v6.0.0. See https://github.com/optuna/optuna/releases/tag/v3.0.0. Use suggest_float(..., log=True) instead.\n",
      "  learning_rate = trial.suggest_loguniform(\"learning_rate\", 1e-4, 1e-1)\n",
      "/tmp/ipykernel_1287795/2683590562.py:8: FutureWarning: suggest_loguniform has been deprecated in v3.0.0. This feature will be removed in v6.0.0. See https://github.com/optuna/optuna/releases/tag/v3.0.0. Use suggest_float(..., log=True) instead.\n",
      "  weight_decay = trial.suggest_loguniform(\"weight_decay\", 1e-5, 1e-1)\n",
      "/home/gonken/anaconda3/envs/torch/lib/python3.12/site-packages/torch/nn/modules/transformer.py:379: UserWarning: enable_nested_tensor is True, but self.use_nested_tensor is False because encoder_layer.self_attn.batch_first was not True(use batch_first for better inference performance)\n",
      "  warnings.warn(\n",
      "[I 2024-12-12 19:47:10,231] Trial 96 finished with value: 0.23018478852669574 and parameters: {'embed_dim': 128, 'num_heads': 16, 'num_layers': 5, 'dropout': 0.5, 'learning_rate': 0.0007647057486046541, 'weight_decay': 0.019325416857725056}. Best is trial 36 with value: 0.25545658049094966.\n"
     ]
    },
    {
     "name": "stdout",
     "output_type": "stream",
     "text": [
      "Early stopping at epoch 12\n",
      "Final MCC: 0.2302\n"
     ]
    },
    {
     "name": "stderr",
     "output_type": "stream",
     "text": [
      "/tmp/ipykernel_1287795/2683590562.py:7: FutureWarning: suggest_loguniform has been deprecated in v3.0.0. This feature will be removed in v6.0.0. See https://github.com/optuna/optuna/releases/tag/v3.0.0. Use suggest_float(..., log=True) instead.\n",
      "  learning_rate = trial.suggest_loguniform(\"learning_rate\", 1e-4, 1e-1)\n",
      "/tmp/ipykernel_1287795/2683590562.py:8: FutureWarning: suggest_loguniform has been deprecated in v3.0.0. This feature will be removed in v6.0.0. See https://github.com/optuna/optuna/releases/tag/v3.0.0. Use suggest_float(..., log=True) instead.\n",
      "  weight_decay = trial.suggest_loguniform(\"weight_decay\", 1e-5, 1e-1)\n",
      "/home/gonken/anaconda3/envs/torch/lib/python3.12/site-packages/torch/nn/modules/transformer.py:379: UserWarning: enable_nested_tensor is True, but self.use_nested_tensor is False because encoder_layer.self_attn.batch_first was not True(use batch_first for better inference performance)\n",
      "  warnings.warn(\n",
      "[I 2024-12-12 19:47:10,799] Trial 97 pruned. \n",
      "[I 2024-12-12 19:47:11,379] Trial 98 pruned. \n",
      "[I 2024-12-12 19:47:11,867] Trial 99 pruned. \n"
     ]
    },
    {
     "name": "stdout",
     "output_type": "stream",
     "text": [
      "Best Parameters:  {'embed_dim': 256, 'num_heads': 16, 'num_layers': 4, 'dropout': 0.5, 'learning_rate': 0.0007400257470594041, 'weight_decay': 0.021710065492330736}\n",
      "Best Validation F1:  0.25545658049094966\n"
     ]
    }
   ],
   "source": [
    "device_id = 1\n",
    "torch.cuda.set_device(device_id)\n",
    "device = torch.device(f\"cuda:{device_id}\" if torch.cuda.is_available() else \"cpu\")\n",
    "\n",
    "# Optunaの設定\n",
    "study = optuna.create_study(direction=\"maximize\")  \n",
    "study.optimize(objective, n_trials=100)\n",
    "\n",
    "# 結果表示\n",
    "print(\"Best Parameters: \", study.best_params)\n",
    "print(\"Best Validation F1: \", study.best_value)"
   ]
  },
  {
   "cell_type": "code",
   "execution_count": 181,
   "metadata": {},
   "outputs": [
    {
     "name": "stdout",
     "output_type": "stream",
     "text": [
      "Best parameters saved to 'best_params.json'\n"
     ]
    }
   ],
   "source": [
    "best_params = study.best_params\n",
    "\n",
    "# JSON形式で保存\n",
    "with open(\"optim_param/stack_model_params.json\", \"w\") as f:\n",
    "    json.dump(best_params, f)\n",
    "\n",
    "print(\"Best parameters saved to 'best_params.json'\")"
   ]
  },
  {
   "cell_type": "code",
   "execution_count": 182,
   "metadata": {},
   "outputs": [
    {
     "name": "stdout",
     "output_type": "stream",
     "text": [
      "Epoch [1/50], Loss: 0.5575\n",
      "Epoch [1/50], Train Loss: 0.5575, Val Loss: 0.7665\n",
      "Epoch [2/50], Loss: 0.4707\n",
      "Epoch [2/50], Train Loss: 0.4707, Val Loss: 0.7522\n",
      "Epoch [3/50], Loss: 0.4780\n",
      "Epoch [3/50], Train Loss: 0.4780, Val Loss: 0.7483\n",
      "Epoch [4/50], Loss: 0.4826\n",
      "Epoch [4/50], Train Loss: 0.4826, Val Loss: 0.7881\n",
      "Epoch [5/50], Loss: 0.4750\n",
      "Epoch [5/50], Train Loss: 0.4750, Val Loss: 0.7800\n",
      "Epoch [6/50], Loss: 0.4728\n",
      "Epoch [6/50], Train Loss: 0.4728, Val Loss: 0.7424\n",
      "Epoch [7/50], Loss: 0.4618\n",
      "Epoch [7/50], Train Loss: 0.4618, Val Loss: 0.7907\n",
      "Epoch [8/50], Loss: 0.4599\n",
      "Epoch [8/50], Train Loss: 0.4599, Val Loss: 0.7563\n",
      "Epoch [9/50], Loss: 0.4591\n",
      "Epoch [9/50], Train Loss: 0.4591, Val Loss: 0.7990\n",
      "Epoch [10/50], Loss: 0.4622\n",
      "Epoch [10/50], Train Loss: 0.4622, Val Loss: 0.8323\n",
      "Epoch [11/50], Loss: 0.4576\n",
      "Epoch [11/50], Train Loss: 0.4576, Val Loss: 0.7878\n",
      "Epoch [12/50], Loss: 0.4584\n",
      "Epoch [12/50], Train Loss: 0.4584, Val Loss: 0.7951\n",
      "Epoch [13/50], Loss: 0.4572\n",
      "Epoch [13/50], Train Loss: 0.4572, Val Loss: 0.7985\n",
      "Epoch [14/50], Loss: 0.4613\n",
      "Epoch [14/50], Train Loss: 0.4613, Val Loss: 0.7953\n",
      "Epoch [15/50], Loss: 0.4561\n",
      "Epoch [15/50], Train Loss: 0.4561, Val Loss: 0.7995\n",
      "Epoch [16/50], Loss: 0.4560\n",
      "Epoch [16/50], Train Loss: 0.4560, Val Loss: 0.8263\n",
      "Epoch [17/50], Loss: 0.4573\n",
      "Epoch [17/50], Train Loss: 0.4573, Val Loss: 0.7903\n",
      "Epoch [18/50], Loss: 0.4484\n",
      "Epoch [18/50], Train Loss: 0.4484, Val Loss: 0.7727\n",
      "Epoch [19/50], Loss: 0.4512\n",
      "Epoch [19/50], Train Loss: 0.4512, Val Loss: 0.8029\n",
      "Epoch [20/50], Loss: 0.4515\n",
      "Epoch [20/50], Train Loss: 0.4515, Val Loss: 0.7728\n",
      "Epoch [21/50], Loss: 0.4500\n",
      "Epoch [21/50], Train Loss: 0.4500, Val Loss: 0.7797\n",
      "Epoch [22/50], Loss: 0.4504\n",
      "Epoch [22/50], Train Loss: 0.4504, Val Loss: 0.8041\n",
      "Epoch [23/50], Loss: 0.4520\n",
      "Epoch [23/50], Train Loss: 0.4520, Val Loss: 0.7861\n",
      "Epoch [24/50], Loss: 0.4513\n",
      "Epoch [24/50], Train Loss: 0.4513, Val Loss: 0.8251\n",
      "Epoch [25/50], Loss: 0.4480\n",
      "Epoch [25/50], Train Loss: 0.4480, Val Loss: 0.7674\n",
      "Epoch [26/50], Loss: 0.4507\n",
      "Epoch [26/50], Train Loss: 0.4507, Val Loss: 0.8155\n",
      "Epoch [27/50], Loss: 0.4475\n",
      "Epoch [27/50], Train Loss: 0.4475, Val Loss: 0.7890\n",
      "Epoch [28/50], Loss: 0.4465\n",
      "Epoch [28/50], Train Loss: 0.4465, Val Loss: 0.8444\n",
      "Epoch [29/50], Loss: 0.4538\n",
      "Epoch [29/50], Train Loss: 0.4538, Val Loss: 0.8413\n",
      "Epoch [30/50], Loss: 0.4558\n",
      "Epoch [30/50], Train Loss: 0.4558, Val Loss: 0.8000\n",
      "Epoch [31/50], Loss: 0.4477\n",
      "Epoch [31/50], Train Loss: 0.4477, Val Loss: 0.7846\n",
      "Epoch [32/50], Loss: 0.4485\n",
      "Epoch [32/50], Train Loss: 0.4485, Val Loss: 0.7860\n",
      "Epoch [33/50], Loss: 0.4479\n",
      "Epoch [33/50], Train Loss: 0.4479, Val Loss: 0.7890\n",
      "Epoch [34/50], Loss: 0.4456\n",
      "Epoch [34/50], Train Loss: 0.4456, Val Loss: 0.8287\n",
      "Epoch [35/50], Loss: 0.4518\n",
      "Epoch [35/50], Train Loss: 0.4518, Val Loss: 0.8138\n",
      "Epoch [36/50], Loss: 0.4496\n",
      "Epoch [36/50], Train Loss: 0.4496, Val Loss: 0.7778\n",
      "Epoch [37/50], Loss: 0.4440\n",
      "Epoch [37/50], Train Loss: 0.4440, Val Loss: 0.7826\n",
      "Epoch [38/50], Loss: 0.4472\n",
      "Epoch [38/50], Train Loss: 0.4472, Val Loss: 0.7864\n",
      "Epoch [39/50], Loss: 0.4523\n",
      "Epoch [39/50], Train Loss: 0.4523, Val Loss: 0.7888\n",
      "Epoch [40/50], Loss: 0.4508\n",
      "Epoch [40/50], Train Loss: 0.4508, Val Loss: 0.7755\n",
      "Epoch [41/50], Loss: 0.4501\n",
      "Epoch [41/50], Train Loss: 0.4501, Val Loss: 0.7704\n",
      "Epoch [42/50], Loss: 0.4564\n",
      "Epoch [42/50], Train Loss: 0.4564, Val Loss: 0.8201\n",
      "Epoch [43/50], Loss: 0.4524\n",
      "Epoch [43/50], Train Loss: 0.4524, Val Loss: 0.8053\n",
      "Epoch [44/50], Loss: 0.4448\n",
      "Epoch [44/50], Train Loss: 0.4448, Val Loss: 0.7771\n",
      "Epoch [45/50], Loss: 0.4500\n",
      "Epoch [45/50], Train Loss: 0.4500, Val Loss: 0.7770\n",
      "Epoch [46/50], Loss: 0.4518\n",
      "Epoch [46/50], Train Loss: 0.4518, Val Loss: 0.7664\n",
      "Epoch [47/50], Loss: 0.4476\n",
      "Epoch [47/50], Train Loss: 0.4476, Val Loss: 0.8315\n",
      "Epoch [48/50], Loss: 0.4494\n",
      "Epoch [48/50], Train Loss: 0.4494, Val Loss: 0.8108\n",
      "Epoch [49/50], Loss: 0.4466\n",
      "Epoch [49/50], Train Loss: 0.4466, Val Loss: 0.7807\n",
      "Epoch [50/50], Loss: 0.4479\n",
      "Epoch [50/50], Train Loss: 0.4479, Val Loss: 0.7710\n"
     ]
    },
    {
     "data": {
      "image/png": "[encoded data removed]",
      "text/plain": [
       "<Figure size 1000x600 with 1 Axes>"
      ]
     },
     "metadata": {},
     "output_type": "display_data"
    }
   ],
   "source": [
    "best_params=study.best_params\n",
    "model = meta_model(input_dim=X_train_tensor.shape[1],embed_dim=best_params[\"embed_dim\"],num_heads=best_params[\"num_heads\"],num_layers=best_params[\"num_layers\"],dropout=best_params['dropout'],num_classes=1).to(device)\n",
    "\n",
    "# 最適化と訓練を実行\n",
    "optimizer = optim.Adam(model.parameters(), lr=best_params[\"learning_rate\"],weight_decay=best_params[\"weight_decay\"])\n",
    "criterion = nn.BCELoss()\n",
    "\n",
    "num_epochs=50\n",
    "train_losses = []\n",
    "val_losses = []\n",
    "\n",
    "model.train()\n",
    "for epoch in range(num_epochs):\n",
    "    epoch_train_loss = 0\n",
    "    epoch_val_loss = 0\n",
    "\n",
    "    for X_batch, y_batch in train_loader:\n",
    "        X_batch, y_batch = X_batch.to(device), y_batch.to(device)\n",
    "        optimizer.zero_grad()\n",
    "        outputs = model(X_batch).squeeze()\n",
    "        loss = criterion(outputs, y_batch.squeeze())\n",
    "        loss.backward()\n",
    "        optimizer.step()\n",
    "        epoch_train_loss += loss.item()\n",
    "    avg_train_loss = epoch_train_loss / len(train_loader)\n",
    "    train_losses.append(avg_train_loss)\n",
    "    print(f'Epoch [{epoch+1}/{num_epochs}], Loss: {avg_train_loss:.4f}')\n",
    "\n",
    "    if val_loader is not None:\n",
    "        model.eval()  \n",
    "        with torch.no_grad():\n",
    "            for X_val, y_val in val_loader:\n",
    "                X_val, y_val = X_val.to(device), y_val.to(device)\n",
    "                val_outputs = model(X_val).squeeze()\n",
    "                val_loss = criterion(val_outputs, y_val.squeeze())\n",
    "                epoch_val_loss += val_loss.item()\n",
    "\n",
    "        avg_val_loss = epoch_val_loss / len(val_loader)\n",
    "        val_losses.append(avg_val_loss)\n",
    "        model.train()  \n",
    "\n",
    "    if val_loader is not None:\n",
    "        print(f\"Epoch [{epoch+1}/{num_epochs}], Train Loss: {avg_train_loss:.4f}, Val Loss: {avg_val_loss:.4f}\")\n",
    "    else:\n",
    "        print(f\"Epoch [{epoch+1}/{num_epochs}], Train Loss: {avg_train_loss:.4f}\")\n",
    "\n",
    "plt.figure(figsize=(10, 6))\n",
    "plt.plot(range(1, num_epochs + 1), train_losses, label='Train Loss')\n",
    "if val_losses:\n",
    "    plt.plot(range(1, num_epochs + 1), val_losses, label='Validation Loss')\n",
    "plt.xlabel('Epoch')\n",
    "plt.ylabel('Loss')\n",
    "plt.title('Learning Curve for stacking')\n",
    "plt.legend()\n",
    "plt.grid()\n",
    "plt.show()"
   ]
  },
  {
   "cell_type": "code",
   "execution_count": 183,
   "metadata": {},
   "outputs": [
    {
     "name": "stdout",
     "output_type": "stream",
     "text": [
      "Accuracy: 58.09%\n",
      "Precision: 0.4619\n",
      "Recall: 0.5192\n",
      "F1 Score: 0.4889\n",
      "Matthews Correlation Coefficient: 0.1364\n",
      "Specificity: 0.6197\n"
     ]
    },
    {
     "data": {
      "image/png": "[encoded data removed]",
      "text/plain": [
       "<Figure size 640x480 with 1 Axes>"
      ]
     },
     "metadata": {},
     "output_type": "display_data"
    },
    {
     "data": {
      "image/png": "[encoded data removed]",
      "text/plain": [
       "<Figure size 640x480 with 1 Axes>"
      ]
     },
     "metadata": {},
     "output_type": "display_data"
    },
    {
     "data": {
      "image/png": "[encoded data removed]",
      "text/plain": [
       "<Figure size 640x480 with 1 Axes>"
      ]
     },
     "metadata": {},
     "output_type": "display_data"
    }
   ],
   "source": [
    "model.eval()\n",
    "with torch.no_grad():\n",
    "    X_test_tensor = X_test_tensor.to(device)\n",
    "    y_test_tensor = y_test_tensor.to(device)\n",
    "\n",
    "    # 予測と確率\n",
    "    test_outputs = model(X_test_tensor).squeeze()\n",
    "    predictions = (test_outputs >=0.5).float()\n",
    "    y_true = y_test_tensor.cpu().numpy()\n",
    "    y_pred = predictions.cpu().numpy()\n",
    "    y_prob = test_outputs.cpu().numpy()\n",
    "\n",
    "# 評価指標\n",
    "    accuracy = accuracy_score(y_true, y_pred)\n",
    "    precision = precision_score(y_true, y_pred)\n",
    "    recall = recall_score(y_true, y_pred)\n",
    "    f1 = f1_score(y_true, y_pred)\n",
    "    mcc = matthews_corrcoef(y_true, y_pred)\n",
    "    specificity = recall_score(y_true, y_pred, pos_label=0)  \n",
    "    print(f'Accuracy: {accuracy * 100:.2f}%')\n",
    "    print(f'Precision: {precision:.4f}')\n",
    "    print(f'Recall: {recall:.4f}')\n",
    "    print(f'F1 Score: {f1:.4f}')\n",
    "    print(f'Matthews Correlation Coefficient: {mcc:.4f}')\n",
    "    print(f'Specificity: {specificity:.4f}')\n",
    "\n",
    "    # 混同行列（割合表示）\n",
    "    cm = confusion_matrix(y_true, y_pred, normalize='true')\n",
    "    sns.heatmap(cm, annot=True, fmt=\".2%\", cmap=\"Blues\", cbar=False)\n",
    "    plt.xlabel(\"Predicted\")\n",
    "    plt.ylabel(\"Actual\")\n",
    "    plt.title(f\"Confusion Matrix (Normalized)\")\n",
    "    plt.show()\n",
    "\n",
    "    # ROC曲線とAUC\n",
    "    fpr, tpr, thresholds = roc_curve(y_true, y_prob)\n",
    "    roc_auc = auc(fpr, tpr)\n",
    "    plt.plot(fpr, tpr, label=f'ROC curve (AUC = {roc_auc:.2f})')\n",
    "    plt.plot([0, 1], [0, 1], 'k--') \n",
    "    plt.xlabel('False Positive Rate')\n",
    "    plt.ylabel('True Positive Rate')\n",
    "    plt.title(f'ROC Curve - Model ')\n",
    "    plt.legend(loc=\"lower right\")\n",
    "    plt.show()\n",
    "\n",
    "    # Precision-Recall曲線\n",
    "    precision_curve, recall_curve, pr_thresholds = precision_recall_curve(y_true, y_prob)\n",
    "    pr_auc = auc(recall_curve, precision_curve)\n",
    "    plt.plot(recall_curve, precision_curve, label=f'PR curve (AUC = {pr_auc:.2f})')\n",
    "    plt.xlabel('Recall')\n",
    "    plt.ylabel('Precision')\n",
    "    plt.title(f'Precision-Recall Curve ')\n",
    "    plt.legend(loc=\"lower left\")\n",
    "    plt.show()    "
   ]
  },
  {
   "cell_type": "code",
   "execution_count": 184,
   "metadata": {},
   "outputs": [],
   "source": [
    "torch.save(model.state_dict(), 'model_params/stack_model_FTT.pth')"
   ]
  },
  {
   "cell_type": "code",
   "execution_count": null,
   "metadata": {},
   "outputs": [],
   "source": []
  }
 ],
 "metadata": {
  "kernelspec": {
   "display_name": "torch",
   "language": "python",
   "name": "python3"
  },
  "language_info": {
   "codemirror_mode": {
    "name": "ipython",
    "version": 3
   },
   "file_extension": ".py",
   "mimetype": "text/x-python",
   "name": "python",
   "nbconvert_exporter": "python",
   "pygments_lexer": "ipython3",
   "version": "3.12.7"
  }
 },
 "nbformat": 4,
 "nbformat_minor": 2
}
