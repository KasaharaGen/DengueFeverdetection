{
 "cells": [
  {
   "cell_type": "code",
   "execution_count": 1,
   "metadata": {},
   "outputs": [],
   "source": [
    "import numpy as np\n",
    "import pandas as pd\n",
    "import matplotlib.pyplot as plt\n",
    "import seaborn as sns\n",
    "import json\n",
    "\n",
    "import torch\n",
    "import torch.nn as nn\n",
    "import torch.optim as optim\n",
    "\n",
    "import optuna\n",
    "\n",
    "from sklearn.model_selection import train_test_split\n",
    "from sklearn.metrics import confusion_matrix,accuracy_score, precision_score, recall_score, f1_score, confusion_matrix, roc_curve, auc,matthews_corrcoef, precision_recall_curve,roc_auc_score\n",
    "\n"
   ]
  },
  {
   "cell_type": "markdown",
   "metadata": {},
   "source": [
    "データ読み取り"
   ]
  },
  {
   "cell_type": "code",
   "execution_count": 2,
   "metadata": {},
   "outputs": [],
   "source": [
    "df=pd.read_csv('learning_data.csv',index_col=0)\n",
    "\n",
    "X=df.drop(columns='dengue',axis=1).values\n",
    "y=df['dengue'].values\n",
    "\n",
    "X_train, X_test, y_train, y_test = train_test_split(X, y, test_size=0.2,random_state=0)\n",
    "X_train, X_val, y_train, y_val = train_test_split(X_train, y_train, test_size=0.1,random_state=0)\n",
    "\n",
    "#torchテンソルに変換\n",
    "X_train_tensor = torch.tensor(X_train, dtype=torch.float32)\n",
    "y_train_tensor = torch.tensor(y_train, dtype=torch.float32)\n",
    "X_test_tensor = torch.tensor(X_test, dtype=torch.float32)\n",
    "y_test_tensor = torch.tensor(y_test, dtype=torch.float32)\n",
    "X_val_tensor = torch.tensor(X_val, dtype=torch.float32)\n",
    "y_val_tensor = torch.tensor(y_val, dtype=torch.float32)\n"
   ]
  },
  {
   "cell_type": "code",
   "execution_count": 3,
   "metadata": {},
   "outputs": [],
   "source": [
    "class DNN_1(nn.Module):\n",
    "    def __init__(self, input_dim, dropout):\n",
    "        super(DNN_1, self).__init__()\n",
    "        self.layer1 = nn.Linear(input_dim, 32)\n",
    "        self.bn1 = nn.BatchNorm1d(32)\n",
    "        self.layer2 = nn.Linear(32, 16)\n",
    "        self.bn2 = nn.BatchNorm1d(16)\n",
    "        self.layer3 = nn.Linear(16, 8)\n",
    "        self.bn3 = nn.BatchNorm1d(8)\n",
    "        self.layer4 = nn.Linear(8, 4)\n",
    "        self.bn4 = nn.BatchNorm1d(4)\n",
    "        self.output_layer = nn.Linear(4, 1)\n",
    "\n",
    "        self.dropout = nn.Dropout(dropout)\n",
    "        \n",
    "    def forward(self, x):\n",
    "        x = torch.relu(self.bn1(self.layer1(x)))  \n",
    "        x = self.dropout(x)\n",
    "        \n",
    "        x = torch.relu(self.bn2(self.layer2(x)))  \n",
    "        x = self.dropout(x)\n",
    "\n",
    "        x = torch.relu(self.bn3(self.layer3(x)))  \n",
    "        x = self.dropout(x)\n",
    "\n",
    "        x = torch.relu(self.bn4(self.layer4(x))) \n",
    "        x = self.dropout(x)\n",
    "\n",
    "        x = torch.sigmoid(self.output_layer(x)) \n",
    "        return x\n",
    "    "
   ]
  },
  {
   "cell_type": "markdown",
   "metadata": {},
   "source": [
    "学習データセットの作成"
   ]
  },
  {
   "cell_type": "code",
   "execution_count": 4,
   "metadata": {},
   "outputs": [],
   "source": [
    "train_dataset = torch.utils.data.TensorDataset(X_train_tensor, y_train_tensor)\n",
    "train_loader = torch.utils.data.DataLoader(dataset=train_dataset, batch_size=128, shuffle=True)\n",
    "\n",
    "val_dataset = torch.utils.data.TensorDataset(X_val_tensor, y_val_tensor)\n",
    "val_loader = torch.utils.data.DataLoader(dataset=val_dataset, batch_size=128, shuffle=False)"
   ]
  },
  {
   "cell_type": "markdown",
   "metadata": {},
   "source": [
    "Optunaの設定"
   ]
  },
  {
   "cell_type": "code",
   "execution_count": 5,
   "metadata": {},
   "outputs": [],
   "source": [
    "def objective(trial):\n",
    "    # ハイパーパラメータのサンプリング\n",
    "    dropout= trial.suggest_float(\"dropout\", 0, 0.5, step=0.05)\n",
    "    learning_rate = trial.suggest_loguniform(\"learning_rate\", 1e-4, 1e-1)  \n",
    "    weight_decay = trial.suggest_loguniform(\"weight_decay\", 1e-5, 1e-1)   \n",
    "\n",
    "    # モデルの定義\n",
    "    model = DNN_1(\n",
    "        input_dim=X_train_tensor.shape[1],\n",
    "        dropout=dropout\n",
    "    ).to(device)\n",
    "\n",
    "    criterion = nn.BCELoss()\n",
    "    optimizer = torch.optim.Adam(model.parameters(), lr=learning_rate, weight_decay=weight_decay)\n",
    "\n",
    "    # Early Stoppingの設定\n",
    "    patience = 10\n",
    "    best_val_loss = float('inf')\n",
    "    patience_counter = 0\n",
    "\n",
    "    # 訓練ループ\n",
    "    num_epochs = 100\n",
    "    for epoch in range(num_epochs):\n",
    "        model.train()\n",
    "        for X_batch, y_batch in train_loader:\n",
    "            X_batch, y_batch = X_batch.to(device), y_batch.to(device)\n",
    "            optimizer.zero_grad()\n",
    "            outputs = model(X_batch).squeeze()\n",
    "            loss = criterion(outputs, y_batch.squeeze())\n",
    "            loss.backward()\n",
    "            optimizer.step()\n",
    "\n",
    "        # バリデーション評価\n",
    "        model.eval()\n",
    "        val_loss = 0\n",
    "        val_true, val_pred = [], []\n",
    "        with torch.no_grad():\n",
    "            for X_val, y_val in val_loader:\n",
    "                X_val, y_val = X_val.to(device), y_val.to(device)\n",
    "                val_outputs = model(X_val).squeeze()\n",
    "                val_loss += criterion(val_outputs, y_val.squeeze()).item()\n",
    "                predictions = (val_outputs >=0.5).float()\n",
    "                val_true.extend(y_val.cpu().numpy())\n",
    "                val_pred.extend(predictions.cpu().numpy())\n",
    "\n",
    "        val_loss /= len(val_loader)\n",
    "\n",
    "        # Early Stoppingの判定\n",
    "        if val_loss < best_val_loss:\n",
    "            best_val_loss = val_loss\n",
    "            patience_counter = 0\n",
    "        else:\n",
    "            patience_counter += 1\n",
    "\n",
    "        if patience_counter >= patience:\n",
    "            print(f\"Early stopping at epoch {epoch}\")\n",
    "            break\n",
    "\n",
    "        # Optunaのプルーニング機能\n",
    "        trial.report(val_loss, epoch)\n",
    "        if trial.should_prune():\n",
    "            raise optuna.exceptions.TrialPruned()\n",
    "\n",
    "    mcc = matthews_corrcoef(val_true, val_pred)\n",
    "    print(f\"Final MCC: {mcc:.4f}\")\n",
    "\n",
    "    return mcc  \n"
   ]
  },
  {
   "cell_type": "markdown",
   "metadata": {},
   "source": [
    "最適化"
   ]
  },
  {
   "cell_type": "code",
   "execution_count": 6,
   "metadata": {},
   "outputs": [
    {
     "name": "stderr",
     "output_type": "stream",
     "text": [
      "[I 2024-12-18 13:38:48,763] A new study created in memory with name: no-name-9587a9e8-a9ff-46c9-ab38-f82759cbf222\n",
      "/tmp/ipykernel_41708/1443040819.py:4: FutureWarning: suggest_loguniform has been deprecated in v3.0.0. This feature will be removed in v6.0.0. See https://github.com/optuna/optuna/releases/tag/v3.0.0. Use suggest_float(..., log=True) instead.\n",
      "  learning_rate = trial.suggest_loguniform(\"learning_rate\", 1e-4, 1e-1)\n",
      "/tmp/ipykernel_41708/1443040819.py:5: FutureWarning: suggest_loguniform has been deprecated in v3.0.0. This feature will be removed in v6.0.0. See https://github.com/optuna/optuna/releases/tag/v3.0.0. Use suggest_float(..., log=True) instead.\n",
      "  weight_decay = trial.suggest_loguniform(\"weight_decay\", 1e-5, 1e-1)\n",
      "[I 2024-12-18 13:38:54,658] Trial 0 finished with value: 0.0 and parameters: {'dropout': 0.35000000000000003, 'learning_rate': 0.014885829544289764, 'weight_decay': 0.00015038839157415643}. Best is trial 0 with value: 0.0.\n"
     ]
    },
    {
     "name": "stdout",
     "output_type": "stream",
     "text": [
      "Early stopping at epoch 29\n",
      "Final MCC: 0.0000\n"
     ]
    },
    {
     "name": "stderr",
     "output_type": "stream",
     "text": [
      "/tmp/ipykernel_41708/1443040819.py:4: FutureWarning: suggest_loguniform has been deprecated in v3.0.0. This feature will be removed in v6.0.0. See https://github.com/optuna/optuna/releases/tag/v3.0.0. Use suggest_float(..., log=True) instead.\n",
      "  learning_rate = trial.suggest_loguniform(\"learning_rate\", 1e-4, 1e-1)\n",
      "/tmp/ipykernel_41708/1443040819.py:5: FutureWarning: suggest_loguniform has been deprecated in v3.0.0. This feature will be removed in v6.0.0. See https://github.com/optuna/optuna/releases/tag/v3.0.0. Use suggest_float(..., log=True) instead.\n",
      "  weight_decay = trial.suggest_loguniform(\"weight_decay\", 1e-5, 1e-1)\n",
      "[I 2024-12-18 13:39:00,787] Trial 1 finished with value: 0.0 and parameters: {'dropout': 0.45, 'learning_rate': 0.0009302498820185496, 'weight_decay': 0.06949430132922509}. Best is trial 0 with value: 0.0.\n"
     ]
    },
    {
     "name": "stdout",
     "output_type": "stream",
     "text": [
      "Early stopping at epoch 42\n",
      "Final MCC: 0.0000\n"
     ]
    },
    {
     "name": "stderr",
     "output_type": "stream",
     "text": [
      "/tmp/ipykernel_41708/1443040819.py:4: FutureWarning: suggest_loguniform has been deprecated in v3.0.0. This feature will be removed in v6.0.0. See https://github.com/optuna/optuna/releases/tag/v3.0.0. Use suggest_float(..., log=True) instead.\n",
      "  learning_rate = trial.suggest_loguniform(\"learning_rate\", 1e-4, 1e-1)\n",
      "/tmp/ipykernel_41708/1443040819.py:5: FutureWarning: suggest_loguniform has been deprecated in v3.0.0. This feature will be removed in v6.0.0. See https://github.com/optuna/optuna/releases/tag/v3.0.0. Use suggest_float(..., log=True) instead.\n",
      "  weight_decay = trial.suggest_loguniform(\"weight_decay\", 1e-5, 1e-1)\n",
      "[I 2024-12-18 13:39:04,010] Trial 2 finished with value: 0.0 and parameters: {'dropout': 0.15000000000000002, 'learning_rate': 0.003473958546321181, 'weight_decay': 0.018865069254551926}. Best is trial 0 with value: 0.0.\n"
     ]
    },
    {
     "name": "stdout",
     "output_type": "stream",
     "text": [
      "Early stopping at epoch 32\n",
      "Final MCC: 0.0000\n"
     ]
    },
    {
     "name": "stderr",
     "output_type": "stream",
     "text": [
      "/tmp/ipykernel_41708/1443040819.py:4: FutureWarning: suggest_loguniform has been deprecated in v3.0.0. This feature will be removed in v6.0.0. See https://github.com/optuna/optuna/releases/tag/v3.0.0. Use suggest_float(..., log=True) instead.\n",
      "  learning_rate = trial.suggest_loguniform(\"learning_rate\", 1e-4, 1e-1)\n",
      "/tmp/ipykernel_41708/1443040819.py:5: FutureWarning: suggest_loguniform has been deprecated in v3.0.0. This feature will be removed in v6.0.0. See https://github.com/optuna/optuna/releases/tag/v3.0.0. Use suggest_float(..., log=True) instead.\n",
      "  weight_decay = trial.suggest_loguniform(\"weight_decay\", 1e-5, 1e-1)\n",
      "[I 2024-12-18 13:39:07,680] Trial 3 finished with value: 0.0 and parameters: {'dropout': 0.45, 'learning_rate': 0.005899980834128264, 'weight_decay': 0.0001895113000700072}. Best is trial 0 with value: 0.0.\n"
     ]
    },
    {
     "name": "stdout",
     "output_type": "stream",
     "text": [
      "Early stopping at epoch 29\n",
      "Final MCC: 0.0000\n"
     ]
    },
    {
     "name": "stderr",
     "output_type": "stream",
     "text": [
      "/tmp/ipykernel_41708/1443040819.py:4: FutureWarning: suggest_loguniform has been deprecated in v3.0.0. This feature will be removed in v6.0.0. See https://github.com/optuna/optuna/releases/tag/v3.0.0. Use suggest_float(..., log=True) instead.\n",
      "  learning_rate = trial.suggest_loguniform(\"learning_rate\", 1e-4, 1e-1)\n",
      "/tmp/ipykernel_41708/1443040819.py:5: FutureWarning: suggest_loguniform has been deprecated in v3.0.0. This feature will be removed in v6.0.0. See https://github.com/optuna/optuna/releases/tag/v3.0.0. Use suggest_float(..., log=True) instead.\n",
      "  weight_decay = trial.suggest_loguniform(\"weight_decay\", 1e-5, 1e-1)\n",
      "[I 2024-12-18 13:39:10,382] Trial 4 finished with value: 0.0 and parameters: {'dropout': 0.05, 'learning_rate': 0.017242493816331965, 'weight_decay': 0.0030552995949499266}. Best is trial 0 with value: 0.0.\n",
      "/tmp/ipykernel_41708/1443040819.py:4: FutureWarning: suggest_loguniform has been deprecated in v3.0.0. This feature will be removed in v6.0.0. See https://github.com/optuna/optuna/releases/tag/v3.0.0. Use suggest_float(..., log=True) instead.\n",
      "  learning_rate = trial.suggest_loguniform(\"learning_rate\", 1e-4, 1e-1)\n",
      "/tmp/ipykernel_41708/1443040819.py:5: FutureWarning: suggest_loguniform has been deprecated in v3.0.0. This feature will be removed in v6.0.0. See https://github.com/optuna/optuna/releases/tag/v3.0.0. Use suggest_float(..., log=True) instead.\n",
      "  weight_decay = trial.suggest_loguniform(\"weight_decay\", 1e-5, 1e-1)\n",
      "[I 2024-12-18 13:39:10,533] Trial 5 pruned. \n"
     ]
    },
    {
     "name": "stdout",
     "output_type": "stream",
     "text": [
      "Early stopping at epoch 21\n",
      "Final MCC: 0.0000\n"
     ]
    },
    {
     "name": "stderr",
     "output_type": "stream",
     "text": [
      "[I 2024-12-18 13:39:22,410] Trial 6 finished with value: 0.0 and parameters: {'dropout': 0.4, 'learning_rate': 0.0004170466707387757, 'weight_decay': 0.03374928520567246}. Best is trial 0 with value: 0.0.\n",
      "/tmp/ipykernel_41708/1443040819.py:4: FutureWarning: suggest_loguniform has been deprecated in v3.0.0. This feature will be removed in v6.0.0. See https://github.com/optuna/optuna/releases/tag/v3.0.0. Use suggest_float(..., log=True) instead.\n",
      "  learning_rate = trial.suggest_loguniform(\"learning_rate\", 1e-4, 1e-1)\n",
      "/tmp/ipykernel_41708/1443040819.py:5: FutureWarning: suggest_loguniform has been deprecated in v3.0.0. This feature will be removed in v6.0.0. See https://github.com/optuna/optuna/releases/tag/v3.0.0. Use suggest_float(..., log=True) instead.\n",
      "  weight_decay = trial.suggest_loguniform(\"weight_decay\", 1e-5, 1e-1)\n",
      "[I 2024-12-18 13:39:22,550] Trial 7 pruned. \n"
     ]
    },
    {
     "name": "stdout",
     "output_type": "stream",
     "text": [
      "Early stopping at epoch 78\n",
      "Final MCC: 0.0000\n"
     ]
    },
    {
     "name": "stderr",
     "output_type": "stream",
     "text": [
      "[I 2024-12-18 13:39:31,473] Trial 8 finished with value: -0.029793606892833856 and parameters: {'dropout': 0.35000000000000003, 'learning_rate': 0.001060363631790908, 'weight_decay': 1.480408508472105e-05}. Best is trial 0 with value: 0.0.\n"
     ]
    },
    {
     "name": "stdout",
     "output_type": "stream",
     "text": [
      "Early stopping at epoch 65\n",
      "Final MCC: -0.0298\n"
     ]
    },
    {
     "name": "stderr",
     "output_type": "stream",
     "text": [
      "/tmp/ipykernel_41708/1443040819.py:4: FutureWarning: suggest_loguniform has been deprecated in v3.0.0. This feature will be removed in v6.0.0. See https://github.com/optuna/optuna/releases/tag/v3.0.0. Use suggest_float(..., log=True) instead.\n",
      "  learning_rate = trial.suggest_loguniform(\"learning_rate\", 1e-4, 1e-1)\n",
      "/tmp/ipykernel_41708/1443040819.py:5: FutureWarning: suggest_loguniform has been deprecated in v3.0.0. This feature will be removed in v6.0.0. See https://github.com/optuna/optuna/releases/tag/v3.0.0. Use suggest_float(..., log=True) instead.\n",
      "  weight_decay = trial.suggest_loguniform(\"weight_decay\", 1e-5, 1e-1)\n",
      "[I 2024-12-18 13:39:45,530] Trial 9 finished with value: 0.11323212301422023 and parameters: {'dropout': 0.2, 'learning_rate': 0.0001607914260672055, 'weight_decay': 0.0034228451588922994}. Best is trial 9 with value: 0.11323212301422023.\n"
     ]
    },
    {
     "name": "stdout",
     "output_type": "stream",
     "text": [
      "Final MCC: 0.1132\n"
     ]
    },
    {
     "name": "stderr",
     "output_type": "stream",
     "text": [
      "/tmp/ipykernel_41708/1443040819.py:4: FutureWarning: suggest_loguniform has been deprecated in v3.0.0. This feature will be removed in v6.0.0. See https://github.com/optuna/optuna/releases/tag/v3.0.0. Use suggest_float(..., log=True) instead.\n",
      "  learning_rate = trial.suggest_loguniform(\"learning_rate\", 1e-4, 1e-1)\n",
      "/tmp/ipykernel_41708/1443040819.py:5: FutureWarning: suggest_loguniform has been deprecated in v3.0.0. This feature will be removed in v6.0.0. See https://github.com/optuna/optuna/releases/tag/v3.0.0. Use suggest_float(..., log=True) instead.\n",
      "  weight_decay = trial.suggest_loguniform(\"weight_decay\", 1e-5, 1e-1)\n",
      "[I 2024-12-18 13:39:59,136] Trial 10 finished with value: 0.058815833969955704 and parameters: {'dropout': 0.2, 'learning_rate': 0.00014544443463882227, 'weight_decay': 0.0037316337970716685}. Best is trial 9 with value: 0.11323212301422023.\n",
      "/tmp/ipykernel_41708/1443040819.py:4: FutureWarning: suggest_loguniform has been deprecated in v3.0.0. This feature will be removed in v6.0.0. See https://github.com/optuna/optuna/releases/tag/v3.0.0. Use suggest_float(..., log=True) instead.\n",
      "  learning_rate = trial.suggest_loguniform(\"learning_rate\", 1e-4, 1e-1)\n",
      "/tmp/ipykernel_41708/1443040819.py:5: FutureWarning: suggest_loguniform has been deprecated in v3.0.0. This feature will be removed in v6.0.0. See https://github.com/optuna/optuna/releases/tag/v3.0.0. Use suggest_float(..., log=True) instead.\n",
      "  weight_decay = trial.suggest_loguniform(\"weight_decay\", 1e-5, 1e-1)\n",
      "[I 2024-12-18 13:39:59,257] Trial 11 pruned. \n"
     ]
    },
    {
     "name": "stdout",
     "output_type": "stream",
     "text": [
      "Final MCC: 0.0588\n"
     ]
    },
    {
     "name": "stderr",
     "output_type": "stream",
     "text": [
      "[I 2024-12-18 13:39:59,407] Trial 12 pruned. \n",
      "[I 2024-12-18 13:40:12,601] Trial 13 finished with value: 0.050483098099700675 and parameters: {'dropout': 0.25, 'learning_rate': 0.0003732312542652582, 'weight_decay': 0.0005456363707385707}. Best is trial 9 with value: 0.11323212301422023.\n"
     ]
    },
    {
     "name": "stdout",
     "output_type": "stream",
     "text": [
      "Final MCC: 0.0505\n"
     ]
    },
    {
     "name": "stderr",
     "output_type": "stream",
     "text": [
      "/tmp/ipykernel_41708/1443040819.py:4: FutureWarning: suggest_loguniform has been deprecated in v3.0.0. This feature will be removed in v6.0.0. See https://github.com/optuna/optuna/releases/tag/v3.0.0. Use suggest_float(..., log=True) instead.\n",
      "  learning_rate = trial.suggest_loguniform(\"learning_rate\", 1e-4, 1e-1)\n",
      "/tmp/ipykernel_41708/1443040819.py:5: FutureWarning: suggest_loguniform has been deprecated in v3.0.0. This feature will be removed in v6.0.0. See https://github.com/optuna/optuna/releases/tag/v3.0.0. Use suggest_float(..., log=True) instead.\n",
      "  weight_decay = trial.suggest_loguniform(\"weight_decay\", 1e-5, 1e-1)\n",
      "[I 2024-12-18 13:40:19,229] Trial 14 finished with value: 0.2163264045918301 and parameters: {'dropout': 0.0, 'learning_rate': 0.00028359708273401724, 'weight_decay': 0.007746506360860651}. Best is trial 14 with value: 0.2163264045918301.\n",
      "/tmp/ipykernel_41708/1443040819.py:4: FutureWarning: suggest_loguniform has been deprecated in v3.0.0. This feature will be removed in v6.0.0. See https://github.com/optuna/optuna/releases/tag/v3.0.0. Use suggest_float(..., log=True) instead.\n",
      "  learning_rate = trial.suggest_loguniform(\"learning_rate\", 1e-4, 1e-1)\n",
      "/tmp/ipykernel_41708/1443040819.py:5: FutureWarning: suggest_loguniform has been deprecated in v3.0.0. This feature will be removed in v6.0.0. See https://github.com/optuna/optuna/releases/tag/v3.0.0. Use suggest_float(..., log=True) instead.\n",
      "  weight_decay = trial.suggest_loguniform(\"weight_decay\", 1e-5, 1e-1)\n",
      "[I 2024-12-18 13:40:19,375] Trial 15 pruned. \n"
     ]
    },
    {
     "name": "stdout",
     "output_type": "stream",
     "text": [
      "Early stopping at epoch 52\n",
      "Final MCC: 0.2163\n"
     ]
    },
    {
     "name": "stderr",
     "output_type": "stream",
     "text": [
      "[I 2024-12-18 13:40:19,522] Trial 16 pruned. \n",
      "[I 2024-12-18 13:40:19,677] Trial 17 pruned. \n",
      "[I 2024-12-18 13:40:19,833] Trial 18 pruned. \n",
      "[I 2024-12-18 13:40:19,996] Trial 19 pruned. \n",
      "[I 2024-12-18 13:40:33,685] Trial 20 finished with value: 0.11229042229326915 and parameters: {'dropout': 0.05, 'learning_rate': 0.00024361913360319468, 'weight_decay': 2.998402855381855e-05}. Best is trial 14 with value: 0.2163264045918301.\n"
     ]
    },
    {
     "name": "stdout",
     "output_type": "stream",
     "text": [
      "Early stopping at epoch 98\n",
      "Final MCC: 0.1123\n"
     ]
    },
    {
     "name": "stderr",
     "output_type": "stream",
     "text": [
      "/tmp/ipykernel_41708/1443040819.py:4: FutureWarning: suggest_loguniform has been deprecated in v3.0.0. This feature will be removed in v6.0.0. See https://github.com/optuna/optuna/releases/tag/v3.0.0. Use suggest_float(..., log=True) instead.\n",
      "  learning_rate = trial.suggest_loguniform(\"learning_rate\", 1e-4, 1e-1)\n",
      "/tmp/ipykernel_41708/1443040819.py:5: FutureWarning: suggest_loguniform has been deprecated in v3.0.0. This feature will be removed in v6.0.0. See https://github.com/optuna/optuna/releases/tag/v3.0.0. Use suggest_float(..., log=True) instead.\n",
      "  weight_decay = trial.suggest_loguniform(\"weight_decay\", 1e-5, 1e-1)\n",
      "[I 2024-12-18 13:40:46,841] Trial 21 finished with value: 0.24224130867330518 and parameters: {'dropout': 0.05, 'learning_rate': 0.0002024593647306743, 'weight_decay': 3.177205265428517e-05}. Best is trial 21 with value: 0.24224130867330518.\n",
      "/tmp/ipykernel_41708/1443040819.py:4: FutureWarning: suggest_loguniform has been deprecated in v3.0.0. This feature will be removed in v6.0.0. See https://github.com/optuna/optuna/releases/tag/v3.0.0. Use suggest_float(..., log=True) instead.\n",
      "  learning_rate = trial.suggest_loguniform(\"learning_rate\", 1e-4, 1e-1)\n",
      "/tmp/ipykernel_41708/1443040819.py:5: FutureWarning: suggest_loguniform has been deprecated in v3.0.0. This feature will be removed in v6.0.0. See https://github.com/optuna/optuna/releases/tag/v3.0.0. Use suggest_float(..., log=True) instead.\n",
      "  weight_decay = trial.suggest_loguniform(\"weight_decay\", 1e-5, 1e-1)\n",
      "[I 2024-12-18 13:40:47,003] Trial 22 pruned. \n"
     ]
    },
    {
     "name": "stdout",
     "output_type": "stream",
     "text": [
      "Final MCC: 0.2422\n"
     ]
    },
    {
     "name": "stderr",
     "output_type": "stream",
     "text": [
      "[I 2024-12-18 13:40:47,172] Trial 23 pruned. \n",
      "[I 2024-12-18 13:40:47,321] Trial 24 pruned. \n",
      "[I 2024-12-18 13:40:47,465] Trial 25 pruned. \n",
      "[I 2024-12-18 13:40:57,087] Trial 26 finished with value: 0.2999771510906397 and parameters: {'dropout': 0.15000000000000002, 'learning_rate': 0.0006216112888575313, 'weight_decay': 0.0012950060178640221}. Best is trial 26 with value: 0.2999771510906397.\n",
      "/tmp/ipykernel_41708/1443040819.py:4: FutureWarning: suggest_loguniform has been deprecated in v3.0.0. This feature will be removed in v6.0.0. See https://github.com/optuna/optuna/releases/tag/v3.0.0. Use suggest_float(..., log=True) instead.\n",
      "  learning_rate = trial.suggest_loguniform(\"learning_rate\", 1e-4, 1e-1)\n",
      "/tmp/ipykernel_41708/1443040819.py:5: FutureWarning: suggest_loguniform has been deprecated in v3.0.0. This feature will be removed in v6.0.0. See https://github.com/optuna/optuna/releases/tag/v3.0.0. Use suggest_float(..., log=True) instead.\n",
      "  weight_decay = trial.suggest_loguniform(\"weight_decay\", 1e-5, 1e-1)\n",
      "[I 2024-12-18 13:40:57,246] Trial 27 pruned. \n"
     ]
    },
    {
     "name": "stdout",
     "output_type": "stream",
     "text": [
      "Early stopping at epoch 69\n",
      "Final MCC: 0.3000\n"
     ]
    },
    {
     "name": "stderr",
     "output_type": "stream",
     "text": [
      "[I 2024-12-18 13:40:57,400] Trial 28 pruned. \n",
      "[I 2024-12-18 13:40:57,577] Trial 29 pruned. \n",
      "[I 2024-12-18 13:40:57,750] Trial 30 pruned. \n",
      "[I 2024-12-18 13:40:57,905] Trial 31 pruned. \n",
      "[I 2024-12-18 13:40:58,065] Trial 32 pruned. \n",
      "[I 2024-12-18 13:41:10,202] Trial 33 finished with value: 0.13010092165223883 and parameters: {'dropout': 0.05, 'learning_rate': 0.00026427362214399494, 'weight_decay': 0.0024430669170023636}. Best is trial 26 with value: 0.2999771510906397.\n",
      "/tmp/ipykernel_41708/1443040819.py:4: FutureWarning: suggest_loguniform has been deprecated in v3.0.0. This feature will be removed in v6.0.0. See https://github.com/optuna/optuna/releases/tag/v3.0.0. Use suggest_float(..., log=True) instead.\n",
      "  learning_rate = trial.suggest_loguniform(\"learning_rate\", 1e-4, 1e-1)\n",
      "/tmp/ipykernel_41708/1443040819.py:5: FutureWarning: suggest_loguniform has been deprecated in v3.0.0. This feature will be removed in v6.0.0. See https://github.com/optuna/optuna/releases/tag/v3.0.0. Use suggest_float(..., log=True) instead.\n",
      "  weight_decay = trial.suggest_loguniform(\"weight_decay\", 1e-5, 1e-1)\n",
      "[I 2024-12-18 13:41:10,352] Trial 34 pruned. \n"
     ]
    },
    {
     "name": "stdout",
     "output_type": "stream",
     "text": [
      "Early stopping at epoch 90\n",
      "Final MCC: 0.1301\n"
     ]
    },
    {
     "name": "stderr",
     "output_type": "stream",
     "text": [
      "[I 2024-12-18 13:41:10,513] Trial 35 pruned. \n",
      "[I 2024-12-18 13:41:10,688] Trial 36 pruned. \n",
      "[I 2024-12-18 13:41:10,834] Trial 37 pruned. \n",
      "[I 2024-12-18 13:41:10,992] Trial 38 pruned. \n",
      "[I 2024-12-18 13:41:11,152] Trial 39 pruned. \n",
      "[I 2024-12-18 13:41:11,299] Trial 40 pruned. \n",
      "[I 2024-12-18 13:41:11,467] Trial 41 pruned. \n",
      "[I 2024-12-18 13:41:25,005] Trial 42 finished with value: -0.01802491056346171 and parameters: {'dropout': 0.2, 'learning_rate': 0.00015487185505488375, 'weight_decay': 0.0048786402705345}. Best is trial 26 with value: 0.2999771510906397.\n",
      "/tmp/ipykernel_41708/1443040819.py:4: FutureWarning: suggest_loguniform has been deprecated in v3.0.0. This feature will be removed in v6.0.0. See https://github.com/optuna/optuna/releases/tag/v3.0.0. Use suggest_float(..., log=True) instead.\n",
      "  learning_rate = trial.suggest_loguniform(\"learning_rate\", 1e-4, 1e-1)\n",
      "/tmp/ipykernel_41708/1443040819.py:5: FutureWarning: suggest_loguniform has been deprecated in v3.0.0. This feature will be removed in v6.0.0. See https://github.com/optuna/optuna/releases/tag/v3.0.0. Use suggest_float(..., log=True) instead.\n",
      "  weight_decay = trial.suggest_loguniform(\"weight_decay\", 1e-5, 1e-1)\n",
      "[I 2024-12-18 13:41:25,167] Trial 43 pruned. \n"
     ]
    },
    {
     "name": "stdout",
     "output_type": "stream",
     "text": [
      "Final MCC: -0.0180\n"
     ]
    },
    {
     "name": "stderr",
     "output_type": "stream",
     "text": [
      "[I 2024-12-18 13:41:25,335] Trial 44 pruned. \n",
      "[I 2024-12-18 13:41:25,492] Trial 45 pruned. \n",
      "[I 2024-12-18 13:41:25,641] Trial 46 pruned. \n",
      "[I 2024-12-18 13:41:25,789] Trial 47 pruned. \n",
      "[I 2024-12-18 13:41:25,935] Trial 48 pruned. \n",
      "[I 2024-12-18 13:41:26,095] Trial 49 pruned. \n",
      "[I 2024-12-18 13:41:26,253] Trial 50 pruned. \n",
      "[I 2024-12-18 13:41:26,409] Trial 51 pruned. \n",
      "[I 2024-12-18 13:41:26,566] Trial 52 pruned. \n",
      "[I 2024-12-18 13:41:26,729] Trial 53 pruned. \n",
      "[I 2024-12-18 13:41:26,894] Trial 54 pruned. \n",
      "[I 2024-12-18 13:41:27,028] Trial 55 pruned. \n",
      "[I 2024-12-18 13:41:32,452] Trial 56 finished with value: 0.2283332846729748 and parameters: {'dropout': 0.0, 'learning_rate': 0.00021842637004431154, 'weight_decay': 1.696462670192025e-05}. Best is trial 26 with value: 0.2999771510906397.\n"
     ]
    },
    {
     "name": "stdout",
     "output_type": "stream",
     "text": [
      "Early stopping at epoch 43\n",
      "Final MCC: 0.2283\n"
     ]
    },
    {
     "name": "stderr",
     "output_type": "stream",
     "text": [
      "/tmp/ipykernel_41708/1443040819.py:4: FutureWarning: suggest_loguniform has been deprecated in v3.0.0. This feature will be removed in v6.0.0. See https://github.com/optuna/optuna/releases/tag/v3.0.0. Use suggest_float(..., log=True) instead.\n",
      "  learning_rate = trial.suggest_loguniform(\"learning_rate\", 1e-4, 1e-1)\n",
      "/tmp/ipykernel_41708/1443040819.py:5: FutureWarning: suggest_loguniform has been deprecated in v3.0.0. This feature will be removed in v6.0.0. See https://github.com/optuna/optuna/releases/tag/v3.0.0. Use suggest_float(..., log=True) instead.\n",
      "  weight_decay = trial.suggest_loguniform(\"weight_decay\", 1e-5, 1e-1)\n",
      "[I 2024-12-18 13:41:33,941] Trial 57 finished with value: 0.0 and parameters: {'dropout': 0.0, 'learning_rate': 0.00012440323226867663, 'weight_decay': 1.9583216372809015e-05}. Best is trial 26 with value: 0.2999771510906397.\n",
      "/tmp/ipykernel_41708/1443040819.py:4: FutureWarning: suggest_loguniform has been deprecated in v3.0.0. This feature will be removed in v6.0.0. See https://github.com/optuna/optuna/releases/tag/v3.0.0. Use suggest_float(..., log=True) instead.\n",
      "  learning_rate = trial.suggest_loguniform(\"learning_rate\", 1e-4, 1e-1)\n",
      "/tmp/ipykernel_41708/1443040819.py:5: FutureWarning: suggest_loguniform has been deprecated in v3.0.0. This feature will be removed in v6.0.0. See https://github.com/optuna/optuna/releases/tag/v3.0.0. Use suggest_float(..., log=True) instead.\n",
      "  weight_decay = trial.suggest_loguniform(\"weight_decay\", 1e-5, 1e-1)\n",
      "[I 2024-12-18 13:41:34,101] Trial 58 pruned. \n"
     ]
    },
    {
     "name": "stdout",
     "output_type": "stream",
     "text": [
      "Early stopping at epoch 10\n",
      "Final MCC: 0.0000\n"
     ]
    },
    {
     "name": "stderr",
     "output_type": "stream",
     "text": [
      "[I 2024-12-18 13:41:34,264] Trial 59 pruned. \n",
      "[I 2024-12-18 13:41:47,968] Trial 60 finished with value: 0.14054807707650874 and parameters: {'dropout': 0.25, 'learning_rate': 0.00010357313001749534, 'weight_decay': 0.000439417860662994}. Best is trial 26 with value: 0.2999771510906397.\n",
      "/tmp/ipykernel_41708/1443040819.py:4: FutureWarning: suggest_loguniform has been deprecated in v3.0.0. This feature will be removed in v6.0.0. See https://github.com/optuna/optuna/releases/tag/v3.0.0. Use suggest_float(..., log=True) instead.\n",
      "  learning_rate = trial.suggest_loguniform(\"learning_rate\", 1e-4, 1e-1)\n",
      "/tmp/ipykernel_41708/1443040819.py:5: FutureWarning: suggest_loguniform has been deprecated in v3.0.0. This feature will be removed in v6.0.0. See https://github.com/optuna/optuna/releases/tag/v3.0.0. Use suggest_float(..., log=True) instead.\n",
      "  weight_decay = trial.suggest_loguniform(\"weight_decay\", 1e-5, 1e-1)\n",
      "[I 2024-12-18 13:41:48,119] Trial 61 pruned. \n"
     ]
    },
    {
     "name": "stdout",
     "output_type": "stream",
     "text": [
      "Final MCC: 0.1405\n"
     ]
    },
    {
     "name": "stderr",
     "output_type": "stream",
     "text": [
      "[I 2024-12-18 13:42:01,303] Trial 62 finished with value: 0.1529969212004841 and parameters: {'dropout': 0.25, 'learning_rate': 0.00017982131454714033, 'weight_decay': 0.00020584952752223938}. Best is trial 26 with value: 0.2999771510906397.\n",
      "/tmp/ipykernel_41708/1443040819.py:4: FutureWarning: suggest_loguniform has been deprecated in v3.0.0. This feature will be removed in v6.0.0. See https://github.com/optuna/optuna/releases/tag/v3.0.0. Use suggest_float(..., log=True) instead.\n",
      "  learning_rate = trial.suggest_loguniform(\"learning_rate\", 1e-4, 1e-1)\n",
      "/tmp/ipykernel_41708/1443040819.py:5: FutureWarning: suggest_loguniform has been deprecated in v3.0.0. This feature will be removed in v6.0.0. See https://github.com/optuna/optuna/releases/tag/v3.0.0. Use suggest_float(..., log=True) instead.\n",
      "  weight_decay = trial.suggest_loguniform(\"weight_decay\", 1e-5, 1e-1)\n",
      "[I 2024-12-18 13:42:01,454] Trial 63 pruned. \n"
     ]
    },
    {
     "name": "stdout",
     "output_type": "stream",
     "text": [
      "Final MCC: 0.1530\n"
     ]
    },
    {
     "name": "stderr",
     "output_type": "stream",
     "text": [
      "[I 2024-12-18 13:42:01,609] Trial 64 pruned. \n",
      "[I 2024-12-18 13:42:01,773] Trial 65 pruned. \n",
      "[I 2024-12-18 13:42:01,914] Trial 66 pruned. \n",
      "[I 2024-12-18 13:42:02,067] Trial 67 pruned. \n",
      "[I 2024-12-18 13:42:02,206] Trial 68 pruned. \n",
      "[I 2024-12-18 13:42:02,320] Trial 69 pruned. \n",
      "[I 2024-12-18 13:42:02,466] Trial 70 pruned. \n",
      "[I 2024-12-18 13:42:02,639] Trial 71 pruned. \n",
      "[I 2024-12-18 13:42:02,813] Trial 72 pruned. \n",
      "[I 2024-12-18 13:42:02,982] Trial 73 pruned. \n",
      "[I 2024-12-18 13:42:03,136] Trial 74 pruned. \n",
      "[I 2024-12-18 13:42:03,286] Trial 75 pruned. \n",
      "[I 2024-12-18 13:42:03,456] Trial 76 pruned. \n",
      "[I 2024-12-18 13:42:03,628] Trial 77 pruned. \n",
      "[I 2024-12-18 13:42:03,788] Trial 78 pruned. \n",
      "[I 2024-12-18 13:42:17,321] Trial 79 finished with value: 0.18331713208391512 and parameters: {'dropout': 0.05, 'learning_rate': 0.0001956771554684564, 'weight_decay': 0.004470460585629905}. Best is trial 26 with value: 0.2999771510906397.\n",
      "/tmp/ipykernel_41708/1443040819.py:4: FutureWarning: suggest_loguniform has been deprecated in v3.0.0. This feature will be removed in v6.0.0. See https://github.com/optuna/optuna/releases/tag/v3.0.0. Use suggest_float(..., log=True) instead.\n",
      "  learning_rate = trial.suggest_loguniform(\"learning_rate\", 1e-4, 1e-1)\n",
      "/tmp/ipykernel_41708/1443040819.py:5: FutureWarning: suggest_loguniform has been deprecated in v3.0.0. This feature will be removed in v6.0.0. See https://github.com/optuna/optuna/releases/tag/v3.0.0. Use suggest_float(..., log=True) instead.\n",
      "  weight_decay = trial.suggest_loguniform(\"weight_decay\", 1e-5, 1e-1)\n",
      "[I 2024-12-18 13:42:17,469] Trial 80 pruned. \n"
     ]
    },
    {
     "name": "stdout",
     "output_type": "stream",
     "text": [
      "Final MCC: 0.1833\n"
     ]
    },
    {
     "name": "stderr",
     "output_type": "stream",
     "text": [
      "[I 2024-12-18 13:42:17,623] Trial 81 pruned. \n",
      "[I 2024-12-18 13:42:17,787] Trial 82 pruned. \n",
      "[I 2024-12-18 13:42:17,955] Trial 83 pruned. \n",
      "[I 2024-12-18 13:42:18,113] Trial 84 pruned. \n",
      "[I 2024-12-18 13:42:18,307] Trial 85 pruned. \n",
      "[I 2024-12-18 13:42:18,449] Trial 86 pruned. \n",
      "[I 2024-12-18 13:42:18,608] Trial 87 pruned. \n",
      "[I 2024-12-18 13:42:18,782] Trial 88 pruned. \n",
      "[I 2024-12-18 13:42:18,941] Trial 89 pruned. \n",
      "[I 2024-12-18 13:42:19,107] Trial 90 pruned. \n",
      "[I 2024-12-18 13:42:19,266] Trial 91 pruned. \n",
      "[I 2024-12-18 13:42:19,433] Trial 92 pruned. \n",
      "[I 2024-12-18 13:42:19,590] Trial 93 pruned. \n",
      "[I 2024-12-18 13:42:19,758] Trial 94 pruned. \n",
      "[I 2024-12-18 13:42:19,913] Trial 95 pruned. \n",
      "[I 2024-12-18 13:42:20,071] Trial 96 pruned. \n",
      "[I 2024-12-18 13:42:20,227] Trial 97 pruned. \n",
      "[I 2024-12-18 13:42:20,398] Trial 98 pruned. \n",
      "[I 2024-12-18 13:42:32,510] Trial 99 finished with value: 0.03625054651998926 and parameters: {'dropout': 0.1, 'learning_rate': 0.00031556039779079823, 'weight_decay': 0.0003783748058047449}. Best is trial 26 with value: 0.2999771510906397.\n"
     ]
    },
    {
     "name": "stdout",
     "output_type": "stream",
     "text": [
      "Final MCC: 0.0363\n",
      "Best Parameters:  {'dropout': 0.15000000000000002, 'learning_rate': 0.0006216112888575313, 'weight_decay': 0.0012950060178640221}\n",
      "Best Validation F1:  0.2999771510906397\n"
     ]
    }
   ],
   "source": [
    "device_id = 0  \n",
    "torch.cuda.set_device(device_id)\n",
    "device = torch.device(f\"cuda:{device_id}\" if torch.cuda.is_available() else \"cpu\")\n",
    "\n",
    "# Optunaの設定\n",
    "study = optuna.create_study(direction=\"maximize\")  \n",
    "study.optimize(objective, n_trials=100)\n",
    "\n",
    "# 結果表示\n",
    "print(\"Best Parameters: \", study.best_params)\n",
    "print(\"Best Validation F1: \", study.best_value)"
   ]
  },
  {
   "cell_type": "code",
   "execution_count": 7,
   "metadata": {},
   "outputs": [
    {
     "name": "stdout",
     "output_type": "stream",
     "text": [
      "Best parameters saved to 'best_params.json'\n"
     ]
    }
   ],
   "source": [
    "best_params = study.best_params\n",
    "\n",
    "# JSON形式で保存\n",
    "with open(\"optim_param/optim_DNN_1_params.json\", \"w\") as f:\n",
    "    json.dump(best_params, f)\n",
    "\n",
    "print(\"Best parameters saved to 'best_params.json'\")"
   ]
  },
  {
   "cell_type": "markdown",
   "metadata": {},
   "source": [
    "最適化パラメーターで再学習"
   ]
  },
  {
   "cell_type": "code",
   "execution_count": 12,
   "metadata": {},
   "outputs": [
    {
     "name": "stdout",
     "output_type": "stream",
     "text": [
      "Epoch [1/100], Loss: 0.6964\n",
      "Epoch [1/100], Train Loss: 0.6964, Val Loss: 0.6784\n",
      "Epoch [2/100], Loss: 0.6830\n",
      "Epoch [2/100], Train Loss: 0.6830, Val Loss: 0.6702\n",
      "Epoch [3/100], Loss: 0.6783\n",
      "Epoch [3/100], Train Loss: 0.6783, Val Loss: 0.6609\n",
      "Epoch [4/100], Loss: 0.6695\n",
      "Epoch [4/100], Train Loss: 0.6695, Val Loss: 0.6537\n",
      "Epoch [5/100], Loss: 0.6603\n",
      "Epoch [5/100], Train Loss: 0.6603, Val Loss: 0.6478\n",
      "Epoch [6/100], Loss: 0.6529\n",
      "Epoch [6/100], Train Loss: 0.6529, Val Loss: 0.6418\n",
      "Epoch [7/100], Loss: 0.6484\n",
      "Epoch [7/100], Train Loss: 0.6484, Val Loss: 0.6371\n",
      "Epoch [8/100], Loss: 0.6475\n",
      "Epoch [8/100], Train Loss: 0.6475, Val Loss: 0.6315\n",
      "Epoch [9/100], Loss: 0.6355\n",
      "Epoch [9/100], Train Loss: 0.6355, Val Loss: 0.6272\n",
      "Epoch [10/100], Loss: 0.6317\n",
      "Epoch [10/100], Train Loss: 0.6317, Val Loss: 0.6220\n",
      "Epoch [11/100], Loss: 0.6310\n",
      "Epoch [11/100], Train Loss: 0.6310, Val Loss: 0.6162\n",
      "Epoch [12/100], Loss: 0.6280\n",
      "Epoch [12/100], Train Loss: 0.6280, Val Loss: 0.6101\n",
      "Epoch [13/100], Loss: 0.6161\n",
      "Epoch [13/100], Train Loss: 0.6161, Val Loss: 0.6052\n",
      "Epoch [14/100], Loss: 0.6137\n",
      "Epoch [14/100], Train Loss: 0.6137, Val Loss: 0.5993\n",
      "Epoch [15/100], Loss: 0.6138\n",
      "Epoch [15/100], Train Loss: 0.6138, Val Loss: 0.5963\n",
      "Epoch [16/100], Loss: 0.6046\n",
      "Epoch [16/100], Train Loss: 0.6046, Val Loss: 0.5933\n",
      "Epoch [17/100], Loss: 0.6005\n",
      "Epoch [17/100], Train Loss: 0.6005, Val Loss: 0.5900\n",
      "Epoch [18/100], Loss: 0.5951\n",
      "Epoch [18/100], Train Loss: 0.5951, Val Loss: 0.5880\n",
      "Epoch [19/100], Loss: 0.6001\n",
      "Epoch [19/100], Train Loss: 0.6001, Val Loss: 0.5857\n",
      "Epoch [20/100], Loss: 0.6013\n",
      "Epoch [20/100], Train Loss: 0.6013, Val Loss: 0.5832\n",
      "Epoch [21/100], Loss: 0.5952\n",
      "Epoch [21/100], Train Loss: 0.5952, Val Loss: 0.5804\n",
      "Epoch [22/100], Loss: 0.5941\n",
      "Epoch [22/100], Train Loss: 0.5941, Val Loss: 0.5782\n",
      "Epoch [23/100], Loss: 0.5931\n",
      "Epoch [23/100], Train Loss: 0.5931, Val Loss: 0.5769\n",
      "Epoch [24/100], Loss: 0.5863\n",
      "Epoch [24/100], Train Loss: 0.5863, Val Loss: 0.5759\n",
      "Epoch [25/100], Loss: 0.5917\n",
      "Epoch [25/100], Train Loss: 0.5917, Val Loss: 0.5745\n",
      "Epoch [26/100], Loss: 0.5891\n",
      "Epoch [26/100], Train Loss: 0.5891, Val Loss: 0.5736\n",
      "Epoch [27/100], Loss: 0.5825\n",
      "Epoch [27/100], Train Loss: 0.5825, Val Loss: 0.5719\n",
      "Epoch [28/100], Loss: 0.5832\n",
      "Epoch [28/100], Train Loss: 0.5832, Val Loss: 0.5706\n",
      "Epoch [29/100], Loss: 0.5837\n",
      "Epoch [29/100], Train Loss: 0.5837, Val Loss: 0.5693\n",
      "Epoch [30/100], Loss: 0.5802\n",
      "Epoch [30/100], Train Loss: 0.5802, Val Loss: 0.5694\n",
      "Epoch [31/100], Loss: 0.5835\n",
      "Epoch [31/100], Train Loss: 0.5835, Val Loss: 0.5690\n",
      "Epoch [32/100], Loss: 0.5848\n",
      "Epoch [32/100], Train Loss: 0.5848, Val Loss: 0.5688\n",
      "Epoch [33/100], Loss: 0.5791\n",
      "Epoch [33/100], Train Loss: 0.5791, Val Loss: 0.5698\n",
      "Epoch [34/100], Loss: 0.5781\n",
      "Epoch [34/100], Train Loss: 0.5781, Val Loss: 0.5678\n",
      "Epoch [35/100], Loss: 0.5788\n",
      "Epoch [35/100], Train Loss: 0.5788, Val Loss: 0.5667\n",
      "Epoch [36/100], Loss: 0.5737\n",
      "Epoch [36/100], Train Loss: 0.5737, Val Loss: 0.5655\n",
      "Epoch [37/100], Loss: 0.5737\n",
      "Epoch [37/100], Train Loss: 0.5737, Val Loss: 0.5659\n",
      "Epoch [38/100], Loss: 0.5693\n",
      "Epoch [38/100], Train Loss: 0.5693, Val Loss: 0.5640\n",
      "Epoch [39/100], Loss: 0.5788\n",
      "Epoch [39/100], Train Loss: 0.5788, Val Loss: 0.5642\n",
      "Epoch [40/100], Loss: 0.5749\n",
      "Epoch [40/100], Train Loss: 0.5749, Val Loss: 0.5629\n",
      "Epoch [41/100], Loss: 0.5669\n",
      "Epoch [41/100], Train Loss: 0.5669, Val Loss: 0.5629\n",
      "Epoch [42/100], Loss: 0.5726\n",
      "Epoch [42/100], Train Loss: 0.5726, Val Loss: 0.5623\n",
      "Epoch [43/100], Loss: 0.5738\n",
      "Epoch [43/100], Train Loss: 0.5738, Val Loss: 0.5618\n",
      "Epoch [44/100], Loss: 0.5791\n",
      "Epoch [44/100], Train Loss: 0.5791, Val Loss: 0.5625\n",
      "Epoch [45/100], Loss: 0.5742\n",
      "Epoch [45/100], Train Loss: 0.5742, Val Loss: 0.5619\n",
      "Epoch [46/100], Loss: 0.5720\n",
      "Epoch [46/100], Train Loss: 0.5720, Val Loss: 0.5611\n",
      "Epoch [47/100], Loss: 0.5721\n",
      "Epoch [47/100], Train Loss: 0.5721, Val Loss: 0.5617\n",
      "Epoch [48/100], Loss: 0.5714\n",
      "Epoch [48/100], Train Loss: 0.5714, Val Loss: 0.5610\n",
      "Epoch [49/100], Loss: 0.5676\n",
      "Epoch [49/100], Train Loss: 0.5676, Val Loss: 0.5611\n",
      "Epoch [50/100], Loss: 0.5694\n",
      "Epoch [50/100], Train Loss: 0.5694, Val Loss: 0.5628\n",
      "Epoch [51/100], Loss: 0.5728\n",
      "Epoch [51/100], Train Loss: 0.5728, Val Loss: 0.5617\n",
      "Epoch [52/100], Loss: 0.5722\n",
      "Epoch [52/100], Train Loss: 0.5722, Val Loss: 0.5621\n",
      "Epoch [53/100], Loss: 0.5637\n",
      "Epoch [53/100], Train Loss: 0.5637, Val Loss: 0.5619\n",
      "Epoch [54/100], Loss: 0.5667\n",
      "Epoch [54/100], Train Loss: 0.5667, Val Loss: 0.5623\n",
      "Epoch [55/100], Loss: 0.5685\n",
      "Epoch [55/100], Train Loss: 0.5685, Val Loss: 0.5629\n",
      "Epoch [56/100], Loss: 0.5680\n",
      "Epoch [56/100], Train Loss: 0.5680, Val Loss: 0.5619\n",
      "Epoch [57/100], Loss: 0.5655\n",
      "Epoch [57/100], Train Loss: 0.5655, Val Loss: 0.5612\n",
      "Epoch [58/100], Loss: 0.5674\n",
      "Epoch [58/100], Train Loss: 0.5674, Val Loss: 0.5602\n",
      "Epoch [59/100], Loss: 0.5652\n",
      "Epoch [59/100], Train Loss: 0.5652, Val Loss: 0.5593\n",
      "Epoch [60/100], Loss: 0.5682\n",
      "Epoch [60/100], Train Loss: 0.5682, Val Loss: 0.5596\n",
      "Epoch [61/100], Loss: 0.5616\n",
      "Epoch [61/100], Train Loss: 0.5616, Val Loss: 0.5608\n",
      "Epoch [62/100], Loss: 0.5698\n",
      "Epoch [62/100], Train Loss: 0.5698, Val Loss: 0.5605\n",
      "Epoch [63/100], Loss: 0.5649\n",
      "Epoch [63/100], Train Loss: 0.5649, Val Loss: 0.5592\n",
      "Epoch [64/100], Loss: 0.5663\n",
      "Epoch [64/100], Train Loss: 0.5663, Val Loss: 0.5601\n",
      "Epoch [65/100], Loss: 0.5658\n",
      "Epoch [65/100], Train Loss: 0.5658, Val Loss: 0.5599\n",
      "Epoch [66/100], Loss: 0.5606\n",
      "Epoch [66/100], Train Loss: 0.5606, Val Loss: 0.5572\n",
      "Epoch [67/100], Loss: 0.5662\n",
      "Epoch [67/100], Train Loss: 0.5662, Val Loss: 0.5554\n",
      "Epoch [68/100], Loss: 0.5676\n",
      "Epoch [68/100], Train Loss: 0.5676, Val Loss: 0.5569\n",
      "Epoch [69/100], Loss: 0.5581\n",
      "Epoch [69/100], Train Loss: 0.5581, Val Loss: 0.5596\n",
      "Epoch [70/100], Loss: 0.5677\n",
      "Epoch [70/100], Train Loss: 0.5677, Val Loss: 0.5590\n",
      "Epoch [71/100], Loss: 0.5647\n",
      "Epoch [71/100], Train Loss: 0.5647, Val Loss: 0.5622\n",
      "Epoch [72/100], Loss: 0.5602\n",
      "Epoch [72/100], Train Loss: 0.5602, Val Loss: 0.5631\n",
      "Epoch [73/100], Loss: 0.5623\n",
      "Epoch [73/100], Train Loss: 0.5623, Val Loss: 0.5632\n",
      "Epoch [74/100], Loss: 0.5604\n",
      "Epoch [74/100], Train Loss: 0.5604, Val Loss: 0.5624\n",
      "Epoch [75/100], Loss: 0.5558\n",
      "Epoch [75/100], Train Loss: 0.5558, Val Loss: 0.5608\n",
      "Epoch [76/100], Loss: 0.5602\n",
      "Epoch [76/100], Train Loss: 0.5602, Val Loss: 0.5618\n",
      "Epoch [77/100], Loss: 0.5613\n",
      "Epoch [77/100], Train Loss: 0.5613, Val Loss: 0.5594\n",
      "Epoch [78/100], Loss: 0.5636\n",
      "Epoch [78/100], Train Loss: 0.5636, Val Loss: 0.5598\n",
      "Epoch [79/100], Loss: 0.5615\n",
      "Epoch [79/100], Train Loss: 0.5615, Val Loss: 0.5587\n",
      "Epoch [80/100], Loss: 0.5584\n",
      "Epoch [80/100], Train Loss: 0.5584, Val Loss: 0.5580\n",
      "Epoch [81/100], Loss: 0.5538\n",
      "Epoch [81/100], Train Loss: 0.5538, Val Loss: 0.5603\n",
      "Epoch [82/100], Loss: 0.5633\n",
      "Epoch [82/100], Train Loss: 0.5633, Val Loss: 0.5583\n",
      "Epoch [83/100], Loss: 0.5533\n",
      "Epoch [83/100], Train Loss: 0.5533, Val Loss: 0.5572\n",
      "Epoch [84/100], Loss: 0.5643\n",
      "Epoch [84/100], Train Loss: 0.5643, Val Loss: 0.5594\n",
      "Epoch [85/100], Loss: 0.5552\n",
      "Epoch [85/100], Train Loss: 0.5552, Val Loss: 0.5637\n",
      "Epoch [86/100], Loss: 0.5567\n",
      "Epoch [86/100], Train Loss: 0.5567, Val Loss: 0.5629\n",
      "Epoch [87/100], Loss: 0.5561\n",
      "Epoch [87/100], Train Loss: 0.5561, Val Loss: 0.5638\n",
      "Epoch [88/100], Loss: 0.5572\n",
      "Epoch [88/100], Train Loss: 0.5572, Val Loss: 0.5632\n",
      "Epoch [89/100], Loss: 0.5595\n",
      "Epoch [89/100], Train Loss: 0.5595, Val Loss: 0.5626\n",
      "Epoch [90/100], Loss: 0.5585\n",
      "Epoch [90/100], Train Loss: 0.5585, Val Loss: 0.5612\n",
      "Epoch [91/100], Loss: 0.5594\n",
      "Epoch [91/100], Train Loss: 0.5594, Val Loss: 0.5584\n",
      "Epoch [92/100], Loss: 0.5555\n",
      "Epoch [92/100], Train Loss: 0.5555, Val Loss: 0.5581\n",
      "Epoch [93/100], Loss: 0.5489\n",
      "Epoch [93/100], Train Loss: 0.5489, Val Loss: 0.5619\n",
      "Epoch [94/100], Loss: 0.5532\n",
      "Epoch [94/100], Train Loss: 0.5532, Val Loss: 0.5615\n",
      "Epoch [95/100], Loss: 0.5571\n",
      "Epoch [95/100], Train Loss: 0.5571, Val Loss: 0.5651\n",
      "Epoch [96/100], Loss: 0.5543\n",
      "Epoch [96/100], Train Loss: 0.5543, Val Loss: 0.5667\n",
      "Epoch [97/100], Loss: 0.5515\n",
      "Epoch [97/100], Train Loss: 0.5515, Val Loss: 0.5653\n",
      "Epoch [98/100], Loss: 0.5539\n",
      "Epoch [98/100], Train Loss: 0.5539, Val Loss: 0.5654\n",
      "Epoch [99/100], Loss: 0.5564\n",
      "Epoch [99/100], Train Loss: 0.5564, Val Loss: 0.5666\n",
      "Epoch [100/100], Loss: 0.5497\n",
      "Epoch [100/100], Train Loss: 0.5497, Val Loss: 0.5675\n"
     ]
    },
    {
     "data": {
      "image/png": "[encoded data removed]",
      "text/plain": [
       "<Figure size 1000x600 with 1 Axes>"
      ]
     },
     "metadata": {},
     "output_type": "display_data"
    }
   ],
   "source": [
    "best_params=study.best_params\n",
    "model = DNN_1(input_dim=X_train_tensor.shape[1],dropout=best_params[\"dropout\"]).to(device)\n",
    "\n",
    "# 最適化と訓練を実行\n",
    "optimizer = optim.Adam(model.parameters(), lr=best_params[\"learning_rate\"],weight_decay=best_params[\"weight_decay\"])\n",
    "criterion = nn.BCELoss()\n",
    "\n",
    "num_epochs=100\n",
    "train_losses = []\n",
    "val_losses = []\n",
    "\n",
    "model.train()\n",
    "for epoch in range(num_epochs):\n",
    "    epoch_train_loss = 0\n",
    "    epoch_val_loss = 0\n",
    "\n",
    "    for X_batch, y_batch in train_loader:\n",
    "        X_batch, y_batch = X_batch.to(device), y_batch.to(device)\n",
    "        optimizer.zero_grad()\n",
    "        outputs = model(X_batch).squeeze()\n",
    "        loss = criterion(outputs, y_batch.squeeze())\n",
    "        loss.backward()\n",
    "        optimizer.step()\n",
    "        epoch_train_loss += loss.item()\n",
    "    avg_train_loss = epoch_train_loss / len(train_loader)\n",
    "    train_losses.append(avg_train_loss)\n",
    "    print(f'Epoch [{epoch+1}/{num_epochs}], Loss: {avg_train_loss:.4f}')\n",
    "\n",
    "    if val_loader is not None:\n",
    "        model.eval()  \n",
    "        with torch.no_grad():\n",
    "            for X_val, y_val in val_loader:\n",
    "                X_val, y_val = X_val.to(device), y_val.to(device)\n",
    "                val_outputs = model(X_val).squeeze()\n",
    "                val_loss = criterion(val_outputs, y_val.squeeze())\n",
    "                epoch_val_loss += val_loss.item()\n",
    "\n",
    "        avg_val_loss = epoch_val_loss / len(val_loader)\n",
    "        val_losses.append(avg_val_loss)\n",
    "        model.train()  \n",
    "\n",
    "    if val_loader is not None:\n",
    "        print(f\"Epoch [{epoch+1}/{num_epochs}], Train Loss: {avg_train_loss:.4f}, Val Loss: {avg_val_loss:.4f}\")\n",
    "    else:\n",
    "        print(f\"Epoch [{epoch+1}/{num_epochs}], Train Loss: {avg_train_loss:.4f}\")\n",
    "\n",
    "plt.figure(figsize=(10, 6))\n",
    "plt.plot(range(1, num_epochs + 1), train_losses, label='Train Loss')\n",
    "if val_losses:\n",
    "    plt.plot(range(1, num_epochs + 1), val_losses, label='Validation Loss')\n",
    "plt.xlabel('Epoch')\n",
    "plt.ylabel('Loss')\n",
    "plt.title('Learning Curve for DNN1')\n",
    "plt.legend()\n",
    "plt.grid()\n",
    "plt.show()"
   ]
  },
  {
   "cell_type": "code",
   "execution_count": 13,
   "metadata": {},
   "outputs": [
    {
     "name": "stdout",
     "output_type": "stream",
     "text": [
      "Accuracy: 62.53%\n",
      "Precision: 0.4962\n",
      "Recall: 0.4037\n",
      "F1 Score: 0.4452\n",
      "Matthews Correlation Coefficient: 0.1688\n",
      "Specificity: 0.7568\n"
     ]
    },
    {
     "data": {
      "image/png": "[encoded data removed]",
      "text/plain": [
       "<Figure size 640x480 with 1 Axes>"
      ]
     },
     "metadata": {},
     "output_type": "display_data"
    },
    {
     "data": {
      "image/png": "[encoded data removed]",
      "text/plain": [
       "<Figure size 640x480 with 1 Axes>"
      ]
     },
     "metadata": {},
     "output_type": "display_data"
    },
    {
     "data": {
      "image/png": "[encoded data removed]",
      "text/plain": [
       "<Figure size 640x480 with 1 Axes>"
      ]
     },
     "metadata": {},
     "output_type": "display_data"
    }
   ],
   "source": [
    "model.eval()\n",
    "with torch.no_grad():\n",
    "    X_test_tensor = X_test_tensor.to(device)\n",
    "    y_test_tensor = y_test_tensor.to(device)\n",
    "\n",
    "    # 予測と確率\n",
    "    test_outputs = model(X_test_tensor).squeeze()\n",
    "    predictions = (test_outputs >=0.5).float()\n",
    "    y_true = y_test_tensor.cpu().numpy()\n",
    "    y_pred = predictions.cpu().numpy()\n",
    "    y_prob = test_outputs.cpu().numpy()\n",
    "\n",
    "# 評価指標\n",
    "    accuracy = accuracy_score(y_true, y_pred)\n",
    "    precision = precision_score(y_true, y_pred)\n",
    "    recall = recall_score(y_true, y_pred)\n",
    "    f1 = f1_score(y_true, y_pred)\n",
    "    mcc = matthews_corrcoef(y_true, y_pred)\n",
    "    specificity = recall_score(y_true, y_pred, pos_label=0)  \n",
    "    print(f'Accuracy: {accuracy * 100:.2f}%')\n",
    "    print(f'Precision: {precision:.4f}')\n",
    "    print(f'Recall: {recall:.4f}')\n",
    "    print(f'F1 Score: {f1:.4f}')\n",
    "    print(f'Matthews Correlation Coefficient: {mcc:.4f}')\n",
    "    print(f'Specificity: {specificity:.4f}')\n",
    "\n",
    "    # 混同行列（割合表示）\n",
    "    cm = confusion_matrix(y_true, y_pred, normalize='true')\n",
    "    sns.heatmap(cm, annot=True, fmt=\".2%\", cmap=\"Blues\", cbar=False)\n",
    "    plt.xlabel(\"Predicted\")\n",
    "    plt.ylabel(\"Actual\")\n",
    "    plt.title(f\"Confusion Matrix (Normalized)\")\n",
    "    plt.show()\n",
    "\n",
    "    # ROC曲線とAUC\n",
    "    fpr, tpr, thresholds = roc_curve(y_true, y_prob)\n",
    "    roc_auc = auc(fpr, tpr)\n",
    "    plt.plot(fpr, tpr, label=f'ROC curve (AUC = {roc_auc:.2f})')\n",
    "    plt.plot([0, 1], [0, 1], 'k--') \n",
    "    plt.xlabel('False Positive Rate')\n",
    "    plt.ylabel('True Positive Rate')\n",
    "    plt.title(f'ROC Curve - Model ')\n",
    "    plt.legend(loc=\"lower right\")\n",
    "    plt.show()\n",
    "\n",
    "    # Precision-Recall曲線\n",
    "    precision_curve, recall_curve, pr_thresholds = precision_recall_curve(y_true, y_prob)\n",
    "    pr_auc = auc(recall_curve, precision_curve)\n",
    "    plt.plot(recall_curve, precision_curve, label=f'PR curve (AUC = {pr_auc:.2f})')\n",
    "    plt.xlabel('Recall')\n",
    "    plt.ylabel('Precision')\n",
    "    plt.title(f'Precision-Recall Curve ')\n",
    "    plt.legend(loc=\"lower left\")\n",
    "    plt.show()    "
   ]
  },
  {
   "cell_type": "code",
   "execution_count": 14,
   "metadata": {},
   "outputs": [],
   "source": [
    "# モデルと構造を保存\n",
    "torch.save(model.state_dict(), 'model_params/DNN_1.pth')\n"
   ]
  },
  {
   "cell_type": "code",
   "execution_count": 11,
   "metadata": {},
   "outputs": [
    {
     "name": "stdout",
     "output_type": "stream",
     "text": [
      "----------------------------------------------------------------\n",
      "        Layer (type)               Output Shape         Param #\n",
      "================================================================\n",
      "            Linear-1                   [-1, 32]             960\n",
      "       BatchNorm1d-2                   [-1, 32]              64\n",
      "           Dropout-3                   [-1, 32]               0\n",
      "            Linear-4                   [-1, 16]             528\n",
      "       BatchNorm1d-5                   [-1, 16]              32\n",
      "           Dropout-6                   [-1, 16]               0\n",
      "            Linear-7                    [-1, 8]             136\n",
      "       BatchNorm1d-8                    [-1, 8]              16\n",
      "           Dropout-9                    [-1, 8]               0\n",
      "           Linear-10                    [-1, 4]              36\n",
      "      BatchNorm1d-11                    [-1, 4]               8\n",
      "          Dropout-12                    [-1, 4]               0\n",
      "           Linear-13                    [-1, 1]               5\n",
      "================================================================\n",
      "Total params: 1,785\n",
      "Trainable params: 1,785\n",
      "Non-trainable params: 0\n",
      "----------------------------------------------------------------\n",
      "Input size (MB): 0.00\n",
      "Forward/backward pass size (MB): 0.00\n",
      "Params size (MB): 0.01\n",
      "Estimated Total Size (MB): 0.01\n",
      "----------------------------------------------------------------\n"
     ]
    }
   ],
   "source": [
    "from torchsummary import summary\n",
    "summary(model, input_size=(X_train_tensor.shape[1],))"
   ]
  },
  {
   "cell_type": "code",
   "execution_count": null,
   "metadata": {},
   "outputs": [],
   "source": []
  }
 ],
 "metadata": {
  "kernelspec": {
   "display_name": "torch",
   "language": "python",
   "name": "python3"
  },
  "language_info": {
   "codemirror_mode": {
    "name": "ipython",
    "version": 3
   },
   "file_extension": ".py",
   "mimetype": "text/x-python",
   "name": "python",
   "nbconvert_exporter": "python",
   "pygments_lexer": "ipython3",
   "version": "3.12.7"
  }
 },
 "nbformat": 4,
 "nbformat_minor": 2
}
