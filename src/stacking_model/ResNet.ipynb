{
 "cells": [
  {
   "cell_type": "code",
   "execution_count": 1,
   "metadata": {},
   "outputs": [],
   "source": [
    "import torch\n",
    "import torch.nn as nn\n",
    "import torch.nn.functional as F\n",
    "import torch.optim as optim\n",
    "import numpy as np\n",
    "import json\n",
    "\n",
    "from sklearn.preprocessing import MinMaxScaler, StandardScaler\n",
    "from sklearn.decomposition import PCA\n",
    "from sklearn.manifold import TSNE\n",
    "from sklearn.cluster import KMeans\n",
    "from scipy.spatial.distance import cdist\n",
    "\n",
    "import optuna\n",
    "\n",
    "import pandas as pd\n",
    "import matplotlib.pyplot as plt\n",
    "import seaborn as sns\n",
    "\n",
    "from sklearn.model_selection import train_test_split\n",
    "from sklearn.metrics import confusion_matrix,accuracy_score, precision_score, recall_score, f1_score, confusion_matrix, roc_curve, auc,matthews_corrcoef, precision_recall_curve,roc_auc_score\n",
    "\n",
    "\n"
   ]
  },
  {
   "cell_type": "code",
   "execution_count": 2,
   "metadata": {},
   "outputs": [],
   "source": [
    "class ResidualBlock(nn.Module):\n",
    "    def __init__(self, input_dim, hidden_dim,dropout1,dropout2):\n",
    "        super(ResidualBlock, self).__init__()\n",
    "        self.fc1 = nn.Linear(input_dim, hidden_dim)\n",
    "        self.bn1 = nn.BatchNorm1d(hidden_dim)\n",
    "        self.dropout1=nn.Dropout(dropout1)\n",
    "        \n",
    "        self.fc2 = nn.Linear(hidden_dim, input_dim)\n",
    "        self.bn2 = nn.BatchNorm1d(input_dim)\n",
    "        self.dropout2=nn.Dropout(dropout2)\n",
    "\n",
    "    def forward(self, x):\n",
    "        residual = x  # 入力を保存 (ショートカット)\n",
    "        out = torch.relu(self.bn1(self.fc1(x)))\n",
    "        out=self.dropout1(out)\n",
    "\n",
    "        out = self.bn2(self.fc2(out))\n",
    "        out=self.dropout2(out)\n",
    "\n",
    "        out += residual  # ショートカット接続\n",
    "        return torch.relu(out)\n"
   ]
  },
  {
   "cell_type": "code",
   "execution_count": 3,
   "metadata": {},
   "outputs": [],
   "source": [
    "class ResNetBinaryClassifier(nn.Module):\n",
    "    def __init__(self, input_dim, num_blocks, hidden_dim, dropout1, dropout2):\n",
    "        super(ResNetBinaryClassifier, self).__init__()\n",
    "        self.blocks = nn.Sequential(\n",
    "            *[ResidualBlock(input_dim, hidden_dim, dropout1, dropout2) for _ in range(num_blocks)]\n",
    "        )\n",
    "        self.output_layer = nn.Linear(input_dim, 1)  # 出力層\n",
    "\n",
    "    def forward(self, x):\n",
    "        x = self.blocks(x)\n",
    "        x = torch.sigmoid(self.output_layer(x))  # 2値分類用シグモイド\n",
    "        return x"
   ]
  },
  {
   "cell_type": "code",
   "execution_count": 4,
   "metadata": {},
   "outputs": [],
   "source": [
    "df=pd.read_csv('learning_data.csv',index_col=0)\n",
    "\n",
    "X=df.drop(columns='dengue',axis=1).values\n",
    "y=df['dengue'].values\n",
    "\n",
    "X_train, X_test, y_train, y_test = train_test_split(X, y, test_size=0.2,random_state=0)\n",
    "X_train, X_val, y_train, y_val = train_test_split(X_train, y_train, test_size=0.1,random_state=0)\n",
    "\n",
    "#torchテンソルに変換\n",
    "X_train_tensor = torch.tensor(X_train, dtype=torch.float32)\n",
    "y_train_tensor = torch.tensor(y_train, dtype=torch.float32)\n",
    "X_test_tensor = torch.tensor(X_test, dtype=torch.float32)\n",
    "y_test_tensor = torch.tensor(y_test, dtype=torch.float32)\n",
    "X_val_tensor = torch.tensor(X_val, dtype=torch.float32)\n",
    "y_val_tensor = torch.tensor(y_val, dtype=torch.float32)\n"
   ]
  },
  {
   "cell_type": "code",
   "execution_count": 5,
   "metadata": {},
   "outputs": [],
   "source": [
    "train_dataset = torch.utils.data.TensorDataset(X_train_tensor, y_train_tensor)\n",
    "train_loader = torch.utils.data.DataLoader(dataset=train_dataset, batch_size=128, shuffle=True)\n",
    "\n",
    "val_dataset = torch.utils.data.TensorDataset(X_val_tensor, y_val_tensor)\n",
    "val_loader = torch.utils.data.DataLoader(dataset=val_dataset, batch_size=128, shuffle=False)"
   ]
  },
  {
   "cell_type": "code",
   "execution_count": 6,
   "metadata": {},
   "outputs": [],
   "source": [
    "def objective(trial):\n",
    "    # ハイパーパラメータのサンプリング\n",
    "    hidden_dim=trial.suggest_categorical(\"hidden_dim\",[64,128,256])\n",
    "    num_blocks=trial.suggest_categorical(\"num_blocks\",[3,4,5])\n",
    "    dropout1 = trial.suggest_float(\"dropout1\", 0, 0.5, step=0.05)\n",
    "    dropout2 = trial.suggest_float(\"dropout2\", 0, 0.5, step=0.05)\n",
    "    learning_rate = trial.suggest_loguniform(\"learning_rate\", 1e-4, 1e-1)  \n",
    "    weight_decay = trial.suggest_loguniform(\"weight_decay\", 1e-5, 1e-1)   \n",
    "\n",
    "    # モデルの定義\n",
    "    model = ResNetBinaryClassifier(\n",
    "        input_dim=X_train_tensor.shape[1],\n",
    "        num_blocks=num_blocks,\n",
    "        hidden_dim=hidden_dim,\n",
    "        dropout1=dropout1,\n",
    "        dropout2=dropout2\n",
    "    ).to(device)\n",
    "\n",
    "    criterion = nn.BCELoss()\n",
    "    optimizer = torch.optim.Adam(model.parameters(), lr=learning_rate, weight_decay=weight_decay)\n",
    "\n",
    "    # Early Stoppingの設定\n",
    "    patience = 10\n",
    "    best_val_loss = float('inf')\n",
    "    patience_counter = 0\n",
    "\n",
    "    # 訓練ループ\n",
    "    num_epochs = 100\n",
    "    for epoch in range(num_epochs):\n",
    "        model.train()\n",
    "        for X_batch, y_batch in train_loader:\n",
    "            X_batch, y_batch = X_batch.to(device), y_batch.to(device)\n",
    "            optimizer.zero_grad()\n",
    "            outputs = model(X_batch).squeeze()\n",
    "            loss = criterion(outputs, y_batch.squeeze())\n",
    "            loss.backward()\n",
    "            optimizer.step()\n",
    "\n",
    "        # バリデーション評価\n",
    "        model.eval()\n",
    "        val_loss = 0\n",
    "        val_true, val_pred = [], []\n",
    "        with torch.no_grad():\n",
    "            for X_val, y_val in val_loader:\n",
    "                X_val, y_val = X_val.to(device), y_val.to(device)\n",
    "                val_outputs = model(X_val).squeeze()\n",
    "                val_loss += criterion(val_outputs, y_val.squeeze()).item()\n",
    "                predictions = (val_outputs >=0.5).float()\n",
    "                val_true.extend(y_val.cpu().numpy())\n",
    "                val_pred.extend(predictions.cpu().numpy())\n",
    "\n",
    "        val_loss /= len(val_loader)\n",
    "\n",
    "        # Early Stoppingの判定\n",
    "        if val_loss < best_val_loss:\n",
    "            best_val_loss = val_loss\n",
    "            patience_counter = 0\n",
    "        else:\n",
    "            patience_counter += 1\n",
    "\n",
    "        if patience_counter >= patience:\n",
    "            print(f\"Early stopping at epoch {epoch}\")\n",
    "            break\n",
    "\n",
    "        # Optunaのプルーニング機能\n",
    "        trial.report(val_loss, epoch)\n",
    "        if trial.should_prune():\n",
    "            raise optuna.exceptions.TrialPruned()\n",
    "\n",
    "    mcc = matthews_corrcoef(val_true, val_pred)\n",
    "    print(f\"Final MCC: {mcc:.4f}\")\n",
    "\n",
    "    return mcc  \n"
   ]
  },
  {
   "cell_type": "code",
   "execution_count": 7,
   "metadata": {},
   "outputs": [
    {
     "name": "stderr",
     "output_type": "stream",
     "text": [
      "[I 2024-12-18 13:40:50,024] A new study created in memory with name: no-name-2f57fa4b-a182-4187-9bca-9c0533542076\n",
      "/tmp/ipykernel_41978/2074326936.py:7: FutureWarning: suggest_loguniform has been deprecated in v3.0.0. This feature will be removed in v6.0.0. See https://github.com/optuna/optuna/releases/tag/v3.0.0. Use suggest_float(..., log=True) instead.\n",
      "  learning_rate = trial.suggest_loguniform(\"learning_rate\", 1e-4, 1e-1)\n",
      "/tmp/ipykernel_41978/2074326936.py:8: FutureWarning: suggest_loguniform has been deprecated in v3.0.0. This feature will be removed in v6.0.0. See https://github.com/optuna/optuna/releases/tag/v3.0.0. Use suggest_float(..., log=True) instead.\n",
      "  weight_decay = trial.suggest_loguniform(\"weight_decay\", 1e-5, 1e-1)\n",
      "[I 2024-12-18 13:40:58,422] Trial 0 finished with value: 0.15200911195659603 and parameters: {'hidden_dim': 64, 'num_blocks': 3, 'dropout1': 0.0, 'dropout2': 0.1, 'learning_rate': 0.00010406562946785872, 'weight_decay': 0.009525114451203374}. Best is trial 0 with value: 0.15200911195659603.\n"
     ]
    },
    {
     "name": "stdout",
     "output_type": "stream",
     "text": [
      "Early stopping at epoch 44\n",
      "Final MCC: 0.1520\n"
     ]
    },
    {
     "name": "stderr",
     "output_type": "stream",
     "text": [
      "/tmp/ipykernel_41978/2074326936.py:7: FutureWarning: suggest_loguniform has been deprecated in v3.0.0. This feature will be removed in v6.0.0. See https://github.com/optuna/optuna/releases/tag/v3.0.0. Use suggest_float(..., log=True) instead.\n",
      "  learning_rate = trial.suggest_loguniform(\"learning_rate\", 1e-4, 1e-1)\n",
      "/tmp/ipykernel_41978/2074326936.py:8: FutureWarning: suggest_loguniform has been deprecated in v3.0.0. This feature will be removed in v6.0.0. See https://github.com/optuna/optuna/releases/tag/v3.0.0. Use suggest_float(..., log=True) instead.\n",
      "  weight_decay = trial.suggest_loguniform(\"weight_decay\", 1e-5, 1e-1)\n",
      "[I 2024-12-18 13:41:01,129] Trial 1 finished with value: 0.20661098348154688 and parameters: {'hidden_dim': 256, 'num_blocks': 4, 'dropout1': 0.45, 'dropout2': 0.05, 'learning_rate': 0.0028566265933467703, 'weight_decay': 0.0024180270104055845}. Best is trial 1 with value: 0.20661098348154688.\n"
     ]
    },
    {
     "name": "stdout",
     "output_type": "stream",
     "text": [
      "Early stopping at epoch 13\n",
      "Final MCC: 0.2066\n"
     ]
    },
    {
     "name": "stderr",
     "output_type": "stream",
     "text": [
      "/tmp/ipykernel_41978/2074326936.py:7: FutureWarning: suggest_loguniform has been deprecated in v3.0.0. This feature will be removed in v6.0.0. See https://github.com/optuna/optuna/releases/tag/v3.0.0. Use suggest_float(..., log=True) instead.\n",
      "  learning_rate = trial.suggest_loguniform(\"learning_rate\", 1e-4, 1e-1)\n",
      "/tmp/ipykernel_41978/2074326936.py:8: FutureWarning: suggest_loguniform has been deprecated in v3.0.0. This feature will be removed in v6.0.0. See https://github.com/optuna/optuna/releases/tag/v3.0.0. Use suggest_float(..., log=True) instead.\n",
      "  weight_decay = trial.suggest_loguniform(\"weight_decay\", 1e-5, 1e-1)\n",
      "[I 2024-12-18 13:41:08,314] Trial 2 finished with value: 0.11306592631617944 and parameters: {'hidden_dim': 128, 'num_blocks': 5, 'dropout1': 0.05, 'dropout2': 0.2, 'learning_rate': 0.03498398841228746, 'weight_decay': 3.3181622039531307e-05}. Best is trial 1 with value: 0.20661098348154688.\n"
     ]
    },
    {
     "name": "stdout",
     "output_type": "stream",
     "text": [
      "Early stopping at epoch 30\n",
      "Final MCC: 0.1131\n"
     ]
    },
    {
     "name": "stderr",
     "output_type": "stream",
     "text": [
      "/tmp/ipykernel_41978/2074326936.py:7: FutureWarning: suggest_loguniform has been deprecated in v3.0.0. This feature will be removed in v6.0.0. See https://github.com/optuna/optuna/releases/tag/v3.0.0. Use suggest_float(..., log=True) instead.\n",
      "  learning_rate = trial.suggest_loguniform(\"learning_rate\", 1e-4, 1e-1)\n",
      "/tmp/ipykernel_41978/2074326936.py:8: FutureWarning: suggest_loguniform has been deprecated in v3.0.0. This feature will be removed in v6.0.0. See https://github.com/optuna/optuna/releases/tag/v3.0.0. Use suggest_float(..., log=True) instead.\n",
      "  weight_decay = trial.suggest_loguniform(\"weight_decay\", 1e-5, 1e-1)\n",
      "[I 2024-12-18 13:41:12,172] Trial 3 finished with value: 0.17794433285390665 and parameters: {'hidden_dim': 64, 'num_blocks': 5, 'dropout1': 0.30000000000000004, 'dropout2': 0.35000000000000003, 'learning_rate': 0.017951223693436408, 'weight_decay': 6.450437711711392e-05}. Best is trial 1 with value: 0.20661098348154688.\n"
     ]
    },
    {
     "name": "stdout",
     "output_type": "stream",
     "text": [
      "Early stopping at epoch 17\n",
      "Final MCC: 0.1779\n"
     ]
    },
    {
     "name": "stderr",
     "output_type": "stream",
     "text": [
      "/tmp/ipykernel_41978/2074326936.py:7: FutureWarning: suggest_loguniform has been deprecated in v3.0.0. This feature will be removed in v6.0.0. See https://github.com/optuna/optuna/releases/tag/v3.0.0. Use suggest_float(..., log=True) instead.\n",
      "  learning_rate = trial.suggest_loguniform(\"learning_rate\", 1e-4, 1e-1)\n",
      "/tmp/ipykernel_41978/2074326936.py:8: FutureWarning: suggest_loguniform has been deprecated in v3.0.0. This feature will be removed in v6.0.0. See https://github.com/optuna/optuna/releases/tag/v3.0.0. Use suggest_float(..., log=True) instead.\n",
      "  weight_decay = trial.suggest_loguniform(\"weight_decay\", 1e-5, 1e-1)\n",
      "[I 2024-12-18 13:41:17,390] Trial 4 finished with value: 0.23490673361625033 and parameters: {'hidden_dim': 256, 'num_blocks': 3, 'dropout1': 0.15000000000000002, 'dropout2': 0.30000000000000004, 'learning_rate': 0.0001968896232914715, 'weight_decay': 0.00010328053276706531}. Best is trial 4 with value: 0.23490673361625033.\n"
     ]
    },
    {
     "name": "stdout",
     "output_type": "stream",
     "text": [
      "Early stopping at epoch 31\n",
      "Final MCC: 0.2349\n"
     ]
    },
    {
     "name": "stderr",
     "output_type": "stream",
     "text": [
      "/tmp/ipykernel_41978/2074326936.py:7: FutureWarning: suggest_loguniform has been deprecated in v3.0.0. This feature will be removed in v6.0.0. See https://github.com/optuna/optuna/releases/tag/v3.0.0. Use suggest_float(..., log=True) instead.\n",
      "  learning_rate = trial.suggest_loguniform(\"learning_rate\", 1e-4, 1e-1)\n",
      "/tmp/ipykernel_41978/2074326936.py:8: FutureWarning: suggest_loguniform has been deprecated in v3.0.0. This feature will be removed in v6.0.0. See https://github.com/optuna/optuna/releases/tag/v3.0.0. Use suggest_float(..., log=True) instead.\n",
      "  weight_decay = trial.suggest_loguniform(\"weight_decay\", 1e-5, 1e-1)\n",
      "[I 2024-12-18 13:41:19,875] Trial 5 finished with value: 0.08021904054019983 and parameters: {'hidden_dim': 128, 'num_blocks': 3, 'dropout1': 0.0, 'dropout2': 0.25, 'learning_rate': 0.05161746325716877, 'weight_decay': 0.004956219676226088}. Best is trial 4 with value: 0.23490673361625033.\n",
      "/tmp/ipykernel_41978/2074326936.py:7: FutureWarning: suggest_loguniform has been deprecated in v3.0.0. This feature will be removed in v6.0.0. See https://github.com/optuna/optuna/releases/tag/v3.0.0. Use suggest_float(..., log=True) instead.\n",
      "  learning_rate = trial.suggest_loguniform(\"learning_rate\", 1e-4, 1e-1)\n",
      "/tmp/ipykernel_41978/2074326936.py:8: FutureWarning: suggest_loguniform has been deprecated in v3.0.0. This feature will be removed in v6.0.0. See https://github.com/optuna/optuna/releases/tag/v3.0.0. Use suggest_float(..., log=True) instead.\n",
      "  weight_decay = trial.suggest_loguniform(\"weight_decay\", 1e-5, 1e-1)\n",
      "[I 2024-12-18 13:41:20,044] Trial 6 pruned. \n"
     ]
    },
    {
     "name": "stdout",
     "output_type": "stream",
     "text": [
      "Early stopping at epoch 14\n",
      "Final MCC: 0.0802\n"
     ]
    },
    {
     "name": "stderr",
     "output_type": "stream",
     "text": [
      "[I 2024-12-18 13:41:27,133] Trial 7 finished with value: 0.2514221960540895 and parameters: {'hidden_dim': 128, 'num_blocks': 4, 'dropout1': 0.0, 'dropout2': 0.35000000000000003, 'learning_rate': 0.00022283026660963005, 'weight_decay': 0.0032733791144535424}. Best is trial 7 with value: 0.2514221960540895.\n"
     ]
    },
    {
     "name": "stdout",
     "output_type": "stream",
     "text": [
      "Early stopping at epoch 37\n",
      "Final MCC: 0.2514\n"
     ]
    },
    {
     "name": "stderr",
     "output_type": "stream",
     "text": [
      "/tmp/ipykernel_41978/2074326936.py:7: FutureWarning: suggest_loguniform has been deprecated in v3.0.0. This feature will be removed in v6.0.0. See https://github.com/optuna/optuna/releases/tag/v3.0.0. Use suggest_float(..., log=True) instead.\n",
      "  learning_rate = trial.suggest_loguniform(\"learning_rate\", 1e-4, 1e-1)\n",
      "/tmp/ipykernel_41978/2074326936.py:8: FutureWarning: suggest_loguniform has been deprecated in v3.0.0. This feature will be removed in v6.0.0. See https://github.com/optuna/optuna/releases/tag/v3.0.0. Use suggest_float(..., log=True) instead.\n",
      "  weight_decay = trial.suggest_loguniform(\"weight_decay\", 1e-5, 1e-1)\n",
      "[I 2024-12-18 13:41:27,393] Trial 8 pruned. \n",
      "[I 2024-12-18 13:41:27,602] Trial 9 pruned. \n",
      "[I 2024-12-18 13:41:33,237] Trial 10 finished with value: 0.1891473010262702 and parameters: {'hidden_dim': 128, 'num_blocks': 4, 'dropout1': 0.2, 'dropout2': 0.5, 'learning_rate': 0.0008572768518353595, 'weight_decay': 0.053026764847304335}. Best is trial 7 with value: 0.2514221960540895.\n"
     ]
    },
    {
     "name": "stdout",
     "output_type": "stream",
     "text": [
      "Early stopping at epoch 28\n",
      "Final MCC: 0.1891\n"
     ]
    },
    {
     "name": "stderr",
     "output_type": "stream",
     "text": [
      "/tmp/ipykernel_41978/2074326936.py:7: FutureWarning: suggest_loguniform has been deprecated in v3.0.0. This feature will be removed in v6.0.0. See https://github.com/optuna/optuna/releases/tag/v3.0.0. Use suggest_float(..., log=True) instead.\n",
      "  learning_rate = trial.suggest_loguniform(\"learning_rate\", 1e-4, 1e-1)\n",
      "/tmp/ipykernel_41978/2074326936.py:8: FutureWarning: suggest_loguniform has been deprecated in v3.0.0. This feature will be removed in v6.0.0. See https://github.com/optuna/optuna/releases/tag/v3.0.0. Use suggest_float(..., log=True) instead.\n",
      "  weight_decay = trial.suggest_loguniform(\"weight_decay\", 1e-5, 1e-1)\n",
      "[I 2024-12-18 13:41:40,835] Trial 11 finished with value: 0.15822258889610805 and parameters: {'hidden_dim': 256, 'num_blocks': 4, 'dropout1': 0.15000000000000002, 'dropout2': 0.35000000000000003, 'learning_rate': 0.00011132673507279031, 'weight_decay': 0.00036659466931526264}. Best is trial 7 with value: 0.2514221960540895.\n",
      "/tmp/ipykernel_41978/2074326936.py:7: FutureWarning: suggest_loguniform has been deprecated in v3.0.0. This feature will be removed in v6.0.0. See https://github.com/optuna/optuna/releases/tag/v3.0.0. Use suggest_float(..., log=True) instead.\n",
      "  learning_rate = trial.suggest_loguniform(\"learning_rate\", 1e-4, 1e-1)\n",
      "/tmp/ipykernel_41978/2074326936.py:8: FutureWarning: suggest_loguniform has been deprecated in v3.0.0. This feature will be removed in v6.0.0. See https://github.com/optuna/optuna/releases/tag/v3.0.0. Use suggest_float(..., log=True) instead.\n",
      "  weight_decay = trial.suggest_loguniform(\"weight_decay\", 1e-5, 1e-1)\n",
      "[I 2024-12-18 13:41:41,016] Trial 12 pruned. \n"
     ]
    },
    {
     "name": "stdout",
     "output_type": "stream",
     "text": [
      "Early stopping at epoch 38\n",
      "Final MCC: 0.1582\n"
     ]
    },
    {
     "name": "stderr",
     "output_type": "stream",
     "text": [
      "[I 2024-12-18 13:41:41,222] Trial 13 pruned. \n",
      "[I 2024-12-18 13:41:41,455] Trial 14 pruned. \n",
      "[I 2024-12-18 13:41:47,715] Trial 15 finished with value: 0.13133951751507011 and parameters: {'hidden_dim': 128, 'num_blocks': 4, 'dropout1': 0.25, 'dropout2': 0.15000000000000002, 'learning_rate': 0.00023820915213319124, 'weight_decay': 0.052562435611801205}. Best is trial 7 with value: 0.2514221960540895.\n"
     ]
    },
    {
     "name": "stdout",
     "output_type": "stream",
     "text": [
      "Early stopping at epoch 32\n",
      "Final MCC: 0.1313\n"
     ]
    },
    {
     "name": "stderr",
     "output_type": "stream",
     "text": [
      "/tmp/ipykernel_41978/2074326936.py:7: FutureWarning: suggest_loguniform has been deprecated in v3.0.0. This feature will be removed in v6.0.0. See https://github.com/optuna/optuna/releases/tag/v3.0.0. Use suggest_float(..., log=True) instead.\n",
      "  learning_rate = trial.suggest_loguniform(\"learning_rate\", 1e-4, 1e-1)\n",
      "/tmp/ipykernel_41978/2074326936.py:8: FutureWarning: suggest_loguniform has been deprecated in v3.0.0. This feature will be removed in v6.0.0. See https://github.com/optuna/optuna/releases/tag/v3.0.0. Use suggest_float(..., log=True) instead.\n",
      "  weight_decay = trial.suggest_loguniform(\"weight_decay\", 1e-5, 1e-1)\n",
      "[I 2024-12-18 13:41:47,915] Trial 16 pruned. \n",
      "[I 2024-12-18 13:41:48,109] Trial 17 pruned. \n",
      "[I 2024-12-18 13:42:02,517] Trial 18 finished with value: 0.234863468925647 and parameters: {'hidden_dim': 128, 'num_blocks': 4, 'dropout1': 0.5, 'dropout2': 0.30000000000000004, 'learning_rate': 0.0002018067909494334, 'weight_decay': 0.00016739464642742024}. Best is trial 7 with value: 0.2514221960540895.\n"
     ]
    },
    {
     "name": "stdout",
     "output_type": "stream",
     "text": [
      "Early stopping at epoch 73\n",
      "Final MCC: 0.2349\n"
     ]
    },
    {
     "name": "stderr",
     "output_type": "stream",
     "text": [
      "/tmp/ipykernel_41978/2074326936.py:7: FutureWarning: suggest_loguniform has been deprecated in v3.0.0. This feature will be removed in v6.0.0. See https://github.com/optuna/optuna/releases/tag/v3.0.0. Use suggest_float(..., log=True) instead.\n",
      "  learning_rate = trial.suggest_loguniform(\"learning_rate\", 1e-4, 1e-1)\n",
      "/tmp/ipykernel_41978/2074326936.py:8: FutureWarning: suggest_loguniform has been deprecated in v3.0.0. This feature will be removed in v6.0.0. See https://github.com/optuna/optuna/releases/tag/v3.0.0. Use suggest_float(..., log=True) instead.\n",
      "  weight_decay = trial.suggest_loguniform(\"weight_decay\", 1e-5, 1e-1)\n",
      "[I 2024-12-18 13:42:02,770] Trial 19 pruned. \n",
      "[I 2024-12-18 13:42:03,003] Trial 20 pruned. \n",
      "[I 2024-12-18 13:42:18,969] Trial 21 finished with value: 0.2589743696347 and parameters: {'hidden_dim': 128, 'num_blocks': 4, 'dropout1': 0.5, 'dropout2': 0.30000000000000004, 'learning_rate': 0.00020074197084020835, 'weight_decay': 0.0001773175649472692}. Best is trial 21 with value: 0.2589743696347.\n"
     ]
    },
    {
     "name": "stdout",
     "output_type": "stream",
     "text": [
      "Early stopping at epoch 80\n",
      "Final MCC: 0.2590\n"
     ]
    },
    {
     "name": "stderr",
     "output_type": "stream",
     "text": [
      "/tmp/ipykernel_41978/2074326936.py:7: FutureWarning: suggest_loguniform has been deprecated in v3.0.0. This feature will be removed in v6.0.0. See https://github.com/optuna/optuna/releases/tag/v3.0.0. Use suggest_float(..., log=True) instead.\n",
      "  learning_rate = trial.suggest_loguniform(\"learning_rate\", 1e-4, 1e-1)\n",
      "/tmp/ipykernel_41978/2074326936.py:8: FutureWarning: suggest_loguniform has been deprecated in v3.0.0. This feature will be removed in v6.0.0. See https://github.com/optuna/optuna/releases/tag/v3.0.0. Use suggest_float(..., log=True) instead.\n",
      "  weight_decay = trial.suggest_loguniform(\"weight_decay\", 1e-5, 1e-1)\n",
      "[I 2024-12-18 13:42:24,038] Trial 22 finished with value: 0.12274500057241113 and parameters: {'hidden_dim': 128, 'num_blocks': 4, 'dropout1': 0.25, 'dropout2': 0.30000000000000004, 'learning_rate': 0.0004847271394670682, 'weight_decay': 6.794918115881088e-05}. Best is trial 21 with value: 0.2589743696347.\n"
     ]
    },
    {
     "name": "stdout",
     "output_type": "stream",
     "text": [
      "Early stopping at epoch 25\n",
      "Final MCC: 0.1227\n"
     ]
    },
    {
     "name": "stderr",
     "output_type": "stream",
     "text": [
      "/tmp/ipykernel_41978/2074326936.py:7: FutureWarning: suggest_loguniform has been deprecated in v3.0.0. This feature will be removed in v6.0.0. See https://github.com/optuna/optuna/releases/tag/v3.0.0. Use suggest_float(..., log=True) instead.\n",
      "  learning_rate = trial.suggest_loguniform(\"learning_rate\", 1e-4, 1e-1)\n",
      "/tmp/ipykernel_41978/2074326936.py:8: FutureWarning: suggest_loguniform has been deprecated in v3.0.0. This feature will be removed in v6.0.0. See https://github.com/optuna/optuna/releases/tag/v3.0.0. Use suggest_float(..., log=True) instead.\n",
      "  weight_decay = trial.suggest_loguniform(\"weight_decay\", 1e-5, 1e-1)\n",
      "[I 2024-12-18 13:42:24,252] Trial 23 pruned. \n",
      "[I 2024-12-18 13:42:39,014] Trial 24 finished with value: 0.2388292215065641 and parameters: {'hidden_dim': 128, 'num_blocks': 4, 'dropout1': 0.30000000000000004, 'dropout2': 0.2, 'learning_rate': 0.00010337789177054491, 'weight_decay': 3.113128186183179e-05}. Best is trial 21 with value: 0.2589743696347.\n"
     ]
    },
    {
     "name": "stdout",
     "output_type": "stream",
     "text": [
      "Early stopping at epoch 74\n",
      "Final MCC: 0.2388\n"
     ]
    },
    {
     "name": "stderr",
     "output_type": "stream",
     "text": [
      "/tmp/ipykernel_41978/2074326936.py:7: FutureWarning: suggest_loguniform has been deprecated in v3.0.0. This feature will be removed in v6.0.0. See https://github.com/optuna/optuna/releases/tag/v3.0.0. Use suggest_float(..., log=True) instead.\n",
      "  learning_rate = trial.suggest_loguniform(\"learning_rate\", 1e-4, 1e-1)\n",
      "/tmp/ipykernel_41978/2074326936.py:8: FutureWarning: suggest_loguniform has been deprecated in v3.0.0. This feature will be removed in v6.0.0. See https://github.com/optuna/optuna/releases/tag/v3.0.0. Use suggest_float(..., log=True) instead.\n",
      "  weight_decay = trial.suggest_loguniform(\"weight_decay\", 1e-5, 1e-1)\n",
      "[I 2024-12-18 13:42:51,332] Trial 25 finished with value: 0.15467524598371948 and parameters: {'hidden_dim': 128, 'num_blocks': 4, 'dropout1': 0.4, 'dropout2': 0.15000000000000002, 'learning_rate': 0.0001024335842872085, 'weight_decay': 2.87178224698494e-05}. Best is trial 21 with value: 0.2589743696347.\n"
     ]
    },
    {
     "name": "stdout",
     "output_type": "stream",
     "text": [
      "Early stopping at epoch 64\n",
      "Final MCC: 0.1547\n"
     ]
    },
    {
     "name": "stderr",
     "output_type": "stream",
     "text": [
      "/tmp/ipykernel_41978/2074326936.py:7: FutureWarning: suggest_loguniform has been deprecated in v3.0.0. This feature will be removed in v6.0.0. See https://github.com/optuna/optuna/releases/tag/v3.0.0. Use suggest_float(..., log=True) instead.\n",
      "  learning_rate = trial.suggest_loguniform(\"learning_rate\", 1e-4, 1e-1)\n",
      "/tmp/ipykernel_41978/2074326936.py:8: FutureWarning: suggest_loguniform has been deprecated in v3.0.0. This feature will be removed in v6.0.0. See https://github.com/optuna/optuna/releases/tag/v3.0.0. Use suggest_float(..., log=True) instead.\n",
      "  weight_decay = trial.suggest_loguniform(\"weight_decay\", 1e-5, 1e-1)\n",
      "[I 2024-12-18 13:42:51,539] Trial 26 pruned. \n",
      "[I 2024-12-18 13:43:01,643] Trial 27 finished with value: 0.2283332846729748 and parameters: {'hidden_dim': 128, 'num_blocks': 4, 'dropout1': 0.45, 'dropout2': 0.15000000000000002, 'learning_rate': 0.0003473439264790239, 'weight_decay': 0.0002601159312360521}. Best is trial 21 with value: 0.2589743696347.\n"
     ]
    },
    {
     "name": "stdout",
     "output_type": "stream",
     "text": [
      "Early stopping at epoch 55\n",
      "Final MCC: 0.2283\n"
     ]
    },
    {
     "name": "stderr",
     "output_type": "stream",
     "text": [
      "/tmp/ipykernel_41978/2074326936.py:7: FutureWarning: suggest_loguniform has been deprecated in v3.0.0. This feature will be removed in v6.0.0. See https://github.com/optuna/optuna/releases/tag/v3.0.0. Use suggest_float(..., log=True) instead.\n",
      "  learning_rate = trial.suggest_loguniform(\"learning_rate\", 1e-4, 1e-1)\n",
      "/tmp/ipykernel_41978/2074326936.py:8: FutureWarning: suggest_loguniform has been deprecated in v3.0.0. This feature will be removed in v6.0.0. See https://github.com/optuna/optuna/releases/tag/v3.0.0. Use suggest_float(..., log=True) instead.\n",
      "  weight_decay = trial.suggest_loguniform(\"weight_decay\", 1e-5, 1e-1)\n",
      "[I 2024-12-18 13:43:18,486] Trial 28 finished with value: 0.22316474223212845 and parameters: {'hidden_dim': 128, 'num_blocks': 4, 'dropout1': 0.30000000000000004, 'dropout2': 0.25, 'learning_rate': 0.0001642842472862106, 'weight_decay': 0.0012930798466561902}. Best is trial 21 with value: 0.2589743696347.\n"
     ]
    },
    {
     "name": "stdout",
     "output_type": "stream",
     "text": [
      "Early stopping at epoch 81\n",
      "Final MCC: 0.2232\n"
     ]
    },
    {
     "name": "stderr",
     "output_type": "stream",
     "text": [
      "/tmp/ipykernel_41978/2074326936.py:7: FutureWarning: suggest_loguniform has been deprecated in v3.0.0. This feature will be removed in v6.0.0. See https://github.com/optuna/optuna/releases/tag/v3.0.0. Use suggest_float(..., log=True) instead.\n",
      "  learning_rate = trial.suggest_loguniform(\"learning_rate\", 1e-4, 1e-1)\n",
      "/tmp/ipykernel_41978/2074326936.py:8: FutureWarning: suggest_loguniform has been deprecated in v3.0.0. This feature will be removed in v6.0.0. See https://github.com/optuna/optuna/releases/tag/v3.0.0. Use suggest_float(..., log=True) instead.\n",
      "  weight_decay = trial.suggest_loguniform(\"weight_decay\", 1e-5, 1e-1)\n",
      "[I 2024-12-18 13:43:38,624] Trial 29 finished with value: 0.2586502677259226 and parameters: {'hidden_dim': 64, 'num_blocks': 4, 'dropout1': 0.45, 'dropout2': 0.1, 'learning_rate': 0.00012117091189140579, 'weight_decay': 0.01391298944636411}. Best is trial 21 with value: 0.2589743696347.\n"
     ]
    },
    {
     "name": "stdout",
     "output_type": "stream",
     "text": [
      "Final MCC: 0.2587\n"
     ]
    },
    {
     "name": "stderr",
     "output_type": "stream",
     "text": [
      "/tmp/ipykernel_41978/2074326936.py:7: FutureWarning: suggest_loguniform has been deprecated in v3.0.0. This feature will be removed in v6.0.0. See https://github.com/optuna/optuna/releases/tag/v3.0.0. Use suggest_float(..., log=True) instead.\n",
      "  learning_rate = trial.suggest_loguniform(\"learning_rate\", 1e-4, 1e-1)\n",
      "/tmp/ipykernel_41978/2074326936.py:8: FutureWarning: suggest_loguniform has been deprecated in v3.0.0. This feature will be removed in v6.0.0. See https://github.com/optuna/optuna/releases/tag/v3.0.0. Use suggest_float(..., log=True) instead.\n",
      "  weight_decay = trial.suggest_loguniform(\"weight_decay\", 1e-5, 1e-1)\n",
      "[I 2024-12-18 13:43:38,878] Trial 30 pruned. \n",
      "[I 2024-12-18 13:43:57,376] Trial 31 finished with value: 0.25697387074879735 and parameters: {'hidden_dim': 64, 'num_blocks': 4, 'dropout1': 0.5, 'dropout2': 0.1, 'learning_rate': 0.00011978796316969473, 'weight_decay': 0.016864625165397842}. Best is trial 21 with value: 0.2589743696347.\n"
     ]
    },
    {
     "name": "stdout",
     "output_type": "stream",
     "text": [
      "Early stopping at epoch 91\n",
      "Final MCC: 0.2570\n"
     ]
    },
    {
     "name": "stderr",
     "output_type": "stream",
     "text": [
      "/tmp/ipykernel_41978/2074326936.py:7: FutureWarning: suggest_loguniform has been deprecated in v3.0.0. This feature will be removed in v6.0.0. See https://github.com/optuna/optuna/releases/tag/v3.0.0. Use suggest_float(..., log=True) instead.\n",
      "  learning_rate = trial.suggest_loguniform(\"learning_rate\", 1e-4, 1e-1)\n",
      "/tmp/ipykernel_41978/2074326936.py:8: FutureWarning: suggest_loguniform has been deprecated in v3.0.0. This feature will be removed in v6.0.0. See https://github.com/optuna/optuna/releases/tag/v3.0.0. Use suggest_float(..., log=True) instead.\n",
      "  weight_decay = trial.suggest_loguniform(\"weight_decay\", 1e-5, 1e-1)\n",
      "[I 2024-12-18 13:44:10,499] Trial 32 finished with value: 0.25252551273902735 and parameters: {'hidden_dim': 64, 'num_blocks': 4, 'dropout1': 0.5, 'dropout2': 0.05, 'learning_rate': 0.00013647780894571077, 'weight_decay': 0.014092795307174118}. Best is trial 21 with value: 0.2589743696347.\n"
     ]
    },
    {
     "name": "stdout",
     "output_type": "stream",
     "text": [
      "Early stopping at epoch 74\n",
      "Final MCC: 0.2525\n"
     ]
    },
    {
     "name": "stderr",
     "output_type": "stream",
     "text": [
      "/tmp/ipykernel_41978/2074326936.py:7: FutureWarning: suggest_loguniform has been deprecated in v3.0.0. This feature will be removed in v6.0.0. See https://github.com/optuna/optuna/releases/tag/v3.0.0. Use suggest_float(..., log=True) instead.\n",
      "  learning_rate = trial.suggest_loguniform(\"learning_rate\", 1e-4, 1e-1)\n",
      "/tmp/ipykernel_41978/2074326936.py:8: FutureWarning: suggest_loguniform has been deprecated in v3.0.0. This feature will be removed in v6.0.0. See https://github.com/optuna/optuna/releases/tag/v3.0.0. Use suggest_float(..., log=True) instead.\n",
      "  weight_decay = trial.suggest_loguniform(\"weight_decay\", 1e-5, 1e-1)\n",
      "[I 2024-12-18 13:44:31,084] Trial 33 finished with value: 0.22352986386836018 and parameters: {'hidden_dim': 64, 'num_blocks': 4, 'dropout1': 0.5, 'dropout2': 0.05, 'learning_rate': 0.00013791444779723432, 'weight_decay': 0.020070823208964837}. Best is trial 21 with value: 0.2589743696347.\n"
     ]
    },
    {
     "name": "stdout",
     "output_type": "stream",
     "text": [
      "Final MCC: 0.2235\n"
     ]
    },
    {
     "name": "stderr",
     "output_type": "stream",
     "text": [
      "/tmp/ipykernel_41978/2074326936.py:7: FutureWarning: suggest_loguniform has been deprecated in v3.0.0. This feature will be removed in v6.0.0. See https://github.com/optuna/optuna/releases/tag/v3.0.0. Use suggest_float(..., log=True) instead.\n",
      "  learning_rate = trial.suggest_loguniform(\"learning_rate\", 1e-4, 1e-1)\n",
      "/tmp/ipykernel_41978/2074326936.py:8: FutureWarning: suggest_loguniform has been deprecated in v3.0.0. This feature will be removed in v6.0.0. See https://github.com/optuna/optuna/releases/tag/v3.0.0. Use suggest_float(..., log=True) instead.\n",
      "  weight_decay = trial.suggest_loguniform(\"weight_decay\", 1e-5, 1e-1)\n",
      "[I 2024-12-18 13:44:31,349] Trial 34 pruned. \n",
      "[I 2024-12-18 13:44:36,748] Trial 35 finished with value: 0.19716195257041821 and parameters: {'hidden_dim': 64, 'num_blocks': 4, 'dropout1': 0.5, 'dropout2': 0.05, 'learning_rate': 0.0005557984427425381, 'weight_decay': 0.012299829339881142}. Best is trial 21 with value: 0.2589743696347.\n"
     ]
    },
    {
     "name": "stdout",
     "output_type": "stream",
     "text": [
      "Early stopping at epoch 25\n",
      "Final MCC: 0.1972\n"
     ]
    },
    {
     "name": "stderr",
     "output_type": "stream",
     "text": [
      "/tmp/ipykernel_41978/2074326936.py:7: FutureWarning: suggest_loguniform has been deprecated in v3.0.0. This feature will be removed in v6.0.0. See https://github.com/optuna/optuna/releases/tag/v3.0.0. Use suggest_float(..., log=True) instead.\n",
      "  learning_rate = trial.suggest_loguniform(\"learning_rate\", 1e-4, 1e-1)\n",
      "/tmp/ipykernel_41978/2074326936.py:8: FutureWarning: suggest_loguniform has been deprecated in v3.0.0. This feature will be removed in v6.0.0. See https://github.com/optuna/optuna/releases/tag/v3.0.0. Use suggest_float(..., log=True) instead.\n",
      "  weight_decay = trial.suggest_loguniform(\"weight_decay\", 1e-5, 1e-1)\n",
      "[I 2024-12-18 13:44:37,003] Trial 36 pruned. \n",
      "[I 2024-12-18 13:45:02,296] Trial 37 finished with value: 0.16139498195772142 and parameters: {'hidden_dim': 64, 'num_blocks': 5, 'dropout1': 0.45, 'dropout2': 0.05, 'learning_rate': 0.00014029681554651526, 'weight_decay': 0.015227858928296667}. Best is trial 21 with value: 0.2589743696347.\n"
     ]
    },
    {
     "name": "stdout",
     "output_type": "stream",
     "text": [
      "Final MCC: 0.1614\n"
     ]
    },
    {
     "name": "stderr",
     "output_type": "stream",
     "text": [
      "/tmp/ipykernel_41978/2074326936.py:7: FutureWarning: suggest_loguniform has been deprecated in v3.0.0. This feature will be removed in v6.0.0. See https://github.com/optuna/optuna/releases/tag/v3.0.0. Use suggest_float(..., log=True) instead.\n",
      "  learning_rate = trial.suggest_loguniform(\"learning_rate\", 1e-4, 1e-1)\n",
      "/tmp/ipykernel_41978/2074326936.py:8: FutureWarning: suggest_loguniform has been deprecated in v3.0.0. This feature will be removed in v6.0.0. See https://github.com/optuna/optuna/releases/tag/v3.0.0. Use suggest_float(..., log=True) instead.\n",
      "  weight_decay = trial.suggest_loguniform(\"weight_decay\", 1e-5, 1e-1)\n",
      "[I 2024-12-18 13:45:17,755] Trial 38 finished with value: 0.21602245579047738 and parameters: {'hidden_dim': 64, 'num_blocks': 4, 'dropout1': 0.5, 'dropout2': 0.1, 'learning_rate': 0.0001494891101830328, 'weight_decay': 0.005276599129776173}. Best is trial 21 with value: 0.2589743696347.\n"
     ]
    },
    {
     "name": "stdout",
     "output_type": "stream",
     "text": [
      "Early stopping at epoch 69\n",
      "Final MCC: 0.2160\n"
     ]
    },
    {
     "name": "stderr",
     "output_type": "stream",
     "text": [
      "/tmp/ipykernel_41978/2074326936.py:7: FutureWarning: suggest_loguniform has been deprecated in v3.0.0. This feature will be removed in v6.0.0. See https://github.com/optuna/optuna/releases/tag/v3.0.0. Use suggest_float(..., log=True) instead.\n",
      "  learning_rate = trial.suggest_loguniform(\"learning_rate\", 1e-4, 1e-1)\n",
      "/tmp/ipykernel_41978/2074326936.py:8: FutureWarning: suggest_loguniform has been deprecated in v3.0.0. This feature will be removed in v6.0.0. See https://github.com/optuna/optuna/releases/tag/v3.0.0. Use suggest_float(..., log=True) instead.\n",
      "  weight_decay = trial.suggest_loguniform(\"weight_decay\", 1e-5, 1e-1)\n",
      "[I 2024-12-18 13:45:17,962] Trial 39 pruned. \n",
      "[I 2024-12-18 13:45:30,818] Trial 40 finished with value: 0.19739794575271097 and parameters: {'hidden_dim': 64, 'num_blocks': 4, 'dropout1': 0.45, 'dropout2': 0.15000000000000002, 'learning_rate': 0.00033190041173242744, 'weight_decay': 0.0020176894745784217}. Best is trial 21 with value: 0.2589743696347.\n"
     ]
    },
    {
     "name": "stdout",
     "output_type": "stream",
     "text": [
      "Early stopping at epoch 60\n",
      "Final MCC: 0.1974\n"
     ]
    },
    {
     "name": "stderr",
     "output_type": "stream",
     "text": [
      "/tmp/ipykernel_41978/2074326936.py:7: FutureWarning: suggest_loguniform has been deprecated in v3.0.0. This feature will be removed in v6.0.0. See https://github.com/optuna/optuna/releases/tag/v3.0.0. Use suggest_float(..., log=True) instead.\n",
      "  learning_rate = trial.suggest_loguniform(\"learning_rate\", 1e-4, 1e-1)\n",
      "/tmp/ipykernel_41978/2074326936.py:8: FutureWarning: suggest_loguniform has been deprecated in v3.0.0. This feature will be removed in v6.0.0. See https://github.com/optuna/optuna/releases/tag/v3.0.0. Use suggest_float(..., log=True) instead.\n",
      "  weight_decay = trial.suggest_loguniform(\"weight_decay\", 1e-5, 1e-1)\n",
      "[I 2024-12-18 13:45:38,858] Trial 41 finished with value: 0.17130404326634582 and parameters: {'hidden_dim': 64, 'num_blocks': 4, 'dropout1': 0.35000000000000003, 'dropout2': 0.05, 'learning_rate': 0.00024499636762345987, 'weight_decay': 0.03493831533367838}. Best is trial 21 with value: 0.2589743696347.\n"
     ]
    },
    {
     "name": "stdout",
     "output_type": "stream",
     "text": [
      "Early stopping at epoch 35\n",
      "Final MCC: 0.1713\n"
     ]
    },
    {
     "name": "stderr",
     "output_type": "stream",
     "text": [
      "/tmp/ipykernel_41978/2074326936.py:7: FutureWarning: suggest_loguniform has been deprecated in v3.0.0. This feature will be removed in v6.0.0. See https://github.com/optuna/optuna/releases/tag/v3.0.0. Use suggest_float(..., log=True) instead.\n",
      "  learning_rate = trial.suggest_loguniform(\"learning_rate\", 1e-4, 1e-1)\n",
      "/tmp/ipykernel_41978/2074326936.py:8: FutureWarning: suggest_loguniform has been deprecated in v3.0.0. This feature will be removed in v6.0.0. See https://github.com/optuna/optuna/releases/tag/v3.0.0. Use suggest_float(..., log=True) instead.\n",
      "  weight_decay = trial.suggest_loguniform(\"weight_decay\", 1e-5, 1e-1)\n",
      "[I 2024-12-18 13:46:00,995] Trial 42 finished with value: 0.21267143241840136 and parameters: {'hidden_dim': 64, 'num_blocks': 4, 'dropout1': 0.5, 'dropout2': 0.1, 'learning_rate': 0.00016553592152458203, 'weight_decay': 0.0030092098248503136}. Best is trial 21 with value: 0.2589743696347.\n"
     ]
    },
    {
     "name": "stdout",
     "output_type": "stream",
     "text": [
      "Early stopping at epoch 97\n",
      "Final MCC: 0.2127\n"
     ]
    },
    {
     "name": "stderr",
     "output_type": "stream",
     "text": [
      "/tmp/ipykernel_41978/2074326936.py:7: FutureWarning: suggest_loguniform has been deprecated in v3.0.0. This feature will be removed in v6.0.0. See https://github.com/optuna/optuna/releases/tag/v3.0.0. Use suggest_float(..., log=True) instead.\n",
      "  learning_rate = trial.suggest_loguniform(\"learning_rate\", 1e-4, 1e-1)\n",
      "/tmp/ipykernel_41978/2074326936.py:8: FutureWarning: suggest_loguniform has been deprecated in v3.0.0. This feature will be removed in v6.0.0. See https://github.com/optuna/optuna/releases/tag/v3.0.0. Use suggest_float(..., log=True) instead.\n",
      "  weight_decay = trial.suggest_loguniform(\"weight_decay\", 1e-5, 1e-1)\n",
      "[I 2024-12-18 13:46:23,337] Trial 43 finished with value: 0.3161935009291388 and parameters: {'hidden_dim': 64, 'num_blocks': 4, 'dropout1': 0.45, 'dropout2': 0.35000000000000003, 'learning_rate': 0.00010133130072109258, 'weight_decay': 0.009709314253093087}. Best is trial 43 with value: 0.3161935009291388.\n"
     ]
    },
    {
     "name": "stdout",
     "output_type": "stream",
     "text": [
      "Final MCC: 0.3162\n"
     ]
    },
    {
     "name": "stderr",
     "output_type": "stream",
     "text": [
      "/tmp/ipykernel_41978/2074326936.py:7: FutureWarning: suggest_loguniform has been deprecated in v3.0.0. This feature will be removed in v6.0.0. See https://github.com/optuna/optuna/releases/tag/v3.0.0. Use suggest_float(..., log=True) instead.\n",
      "  learning_rate = trial.suggest_loguniform(\"learning_rate\", 1e-4, 1e-1)\n",
      "/tmp/ipykernel_41978/2074326936.py:8: FutureWarning: suggest_loguniform has been deprecated in v3.0.0. This feature will be removed in v6.0.0. See https://github.com/optuna/optuna/releases/tag/v3.0.0. Use suggest_float(..., log=True) instead.\n",
      "  weight_decay = trial.suggest_loguniform(\"weight_decay\", 1e-5, 1e-1)\n",
      "[I 2024-12-18 13:46:44,816] Trial 44 finished with value: 0.2589743696347 and parameters: {'hidden_dim': 64, 'num_blocks': 4, 'dropout1': 0.45, 'dropout2': 0.0, 'learning_rate': 0.00010980264589668926, 'weight_decay': 0.006286184002889496}. Best is trial 43 with value: 0.3161935009291388.\n"
     ]
    },
    {
     "name": "stdout",
     "output_type": "stream",
     "text": [
      "Final MCC: 0.2590\n"
     ]
    },
    {
     "name": "stderr",
     "output_type": "stream",
     "text": [
      "/tmp/ipykernel_41978/2074326936.py:7: FutureWarning: suggest_loguniform has been deprecated in v3.0.0. This feature will be removed in v6.0.0. See https://github.com/optuna/optuna/releases/tag/v3.0.0. Use suggest_float(..., log=True) instead.\n",
      "  learning_rate = trial.suggest_loguniform(\"learning_rate\", 1e-4, 1e-1)\n",
      "/tmp/ipykernel_41978/2074326936.py:8: FutureWarning: suggest_loguniform has been deprecated in v3.0.0. This feature will be removed in v6.0.0. See https://github.com/optuna/optuna/releases/tag/v3.0.0. Use suggest_float(..., log=True) instead.\n",
      "  weight_decay = trial.suggest_loguniform(\"weight_decay\", 1e-5, 1e-1)\n",
      "[I 2024-12-18 13:47:08,829] Trial 45 finished with value: 0.23806625464787998 and parameters: {'hidden_dim': 64, 'num_blocks': 5, 'dropout1': 0.35000000000000003, 'dropout2': 0.35000000000000003, 'learning_rate': 0.00010244300624123383, 'weight_decay': 0.007350554800918719}. Best is trial 43 with value: 0.3161935009291388.\n"
     ]
    },
    {
     "name": "stdout",
     "output_type": "stream",
     "text": [
      "Final MCC: 0.2381\n"
     ]
    },
    {
     "name": "stderr",
     "output_type": "stream",
     "text": [
      "/tmp/ipykernel_41978/2074326936.py:7: FutureWarning: suggest_loguniform has been deprecated in v3.0.0. This feature will be removed in v6.0.0. See https://github.com/optuna/optuna/releases/tag/v3.0.0. Use suggest_float(..., log=True) instead.\n",
      "  learning_rate = trial.suggest_loguniform(\"learning_rate\", 1e-4, 1e-1)\n",
      "/tmp/ipykernel_41978/2074326936.py:8: FutureWarning: suggest_loguniform has been deprecated in v3.0.0. This feature will be removed in v6.0.0. See https://github.com/optuna/optuna/releases/tag/v3.0.0. Use suggest_float(..., log=True) instead.\n",
      "  weight_decay = trial.suggest_loguniform(\"weight_decay\", 1e-5, 1e-1)\n",
      "[I 2024-12-18 13:47:09,113] Trial 46 pruned. \n",
      "[I 2024-12-18 13:47:28,017] Trial 47 finished with value: 0.2876894065388417 and parameters: {'hidden_dim': 64, 'num_blocks': 4, 'dropout1': 0.4, 'dropout2': 0.25, 'learning_rate': 0.00027428638183242684, 'weight_decay': 0.001944699695577028}. Best is trial 43 with value: 0.3161935009291388.\n"
     ]
    },
    {
     "name": "stdout",
     "output_type": "stream",
     "text": [
      "Early stopping at epoch 85\n",
      "Final MCC: 0.2877\n"
     ]
    },
    {
     "name": "stderr",
     "output_type": "stream",
     "text": [
      "/tmp/ipykernel_41978/2074326936.py:7: FutureWarning: suggest_loguniform has been deprecated in v3.0.0. This feature will be removed in v6.0.0. See https://github.com/optuna/optuna/releases/tag/v3.0.0. Use suggest_float(..., log=True) instead.\n",
      "  learning_rate = trial.suggest_loguniform(\"learning_rate\", 1e-4, 1e-1)\n",
      "/tmp/ipykernel_41978/2074326936.py:8: FutureWarning: suggest_loguniform has been deprecated in v3.0.0. This feature will be removed in v6.0.0. See https://github.com/optuna/optuna/releases/tag/v3.0.0. Use suggest_float(..., log=True) instead.\n",
      "  weight_decay = trial.suggest_loguniform(\"weight_decay\", 1e-5, 1e-1)\n",
      "[I 2024-12-18 13:47:39,539] Trial 48 finished with value: 0.21733559127470506 and parameters: {'hidden_dim': 64, 'num_blocks': 4, 'dropout1': 0.4, 'dropout2': 0.30000000000000004, 'learning_rate': 0.0002977691753699783, 'weight_decay': 0.0021632578449211027}. Best is trial 43 with value: 0.3161935009291388.\n"
     ]
    },
    {
     "name": "stdout",
     "output_type": "stream",
     "text": [
      "Early stopping at epoch 71\n",
      "Final MCC: 0.2173\n"
     ]
    },
    {
     "name": "stderr",
     "output_type": "stream",
     "text": [
      "/tmp/ipykernel_41978/2074326936.py:7: FutureWarning: suggest_loguniform has been deprecated in v3.0.0. This feature will be removed in v6.0.0. See https://github.com/optuna/optuna/releases/tag/v3.0.0. Use suggest_float(..., log=True) instead.\n",
      "  learning_rate = trial.suggest_loguniform(\"learning_rate\", 1e-4, 1e-1)\n",
      "/tmp/ipykernel_41978/2074326936.py:8: FutureWarning: suggest_loguniform has been deprecated in v3.0.0. This feature will be removed in v6.0.0. See https://github.com/optuna/optuna/releases/tag/v3.0.0. Use suggest_float(..., log=True) instead.\n",
      "  weight_decay = trial.suggest_loguniform(\"weight_decay\", 1e-5, 1e-1)\n",
      "[I 2024-12-18 13:47:52,216] Trial 49 finished with value: 0.3127296926049439 and parameters: {'hidden_dim': 64, 'num_blocks': 3, 'dropout1': 0.45, 'dropout2': 0.45, 'learning_rate': 0.00041729887546416885, 'weight_decay': 0.006783583230805202}. Best is trial 43 with value: 0.3161935009291388.\n",
      "/tmp/ipykernel_41978/2074326936.py:7: FutureWarning: suggest_loguniform has been deprecated in v3.0.0. This feature will be removed in v6.0.0. See https://github.com/optuna/optuna/releases/tag/v3.0.0. Use suggest_float(..., log=True) instead.\n",
      "  learning_rate = trial.suggest_loguniform(\"learning_rate\", 1e-4, 1e-1)\n",
      "/tmp/ipykernel_41978/2074326936.py:8: FutureWarning: suggest_loguniform has been deprecated in v3.0.0. This feature will be removed in v6.0.0. See https://github.com/optuna/optuna/releases/tag/v3.0.0. Use suggest_float(..., log=True) instead.\n",
      "  weight_decay = trial.suggest_loguniform(\"weight_decay\", 1e-5, 1e-1)\n",
      "[I 2024-12-18 13:47:52,361] Trial 50 pruned. \n"
     ]
    },
    {
     "name": "stdout",
     "output_type": "stream",
     "text": [
      "Early stopping at epoch 62\n",
      "Final MCC: 0.3127\n"
     ]
    },
    {
     "name": "stderr",
     "output_type": "stream",
     "text": [
      "[I 2024-12-18 13:47:52,503] Trial 51 pruned. \n",
      "[I 2024-12-18 13:48:08,454] Trial 52 finished with value: 0.2749328942581873 and parameters: {'hidden_dim': 64, 'num_blocks': 3, 'dropout1': 0.45, 'dropout2': 0.4, 'learning_rate': 0.00022143311045563633, 'weight_decay': 0.008881724952096012}. Best is trial 43 with value: 0.3161935009291388.\n"
     ]
    },
    {
     "name": "stdout",
     "output_type": "stream",
     "text": [
      "Early stopping at epoch 82\n",
      "Final MCC: 0.2749\n"
     ]
    },
    {
     "name": "stderr",
     "output_type": "stream",
     "text": [
      "/tmp/ipykernel_41978/2074326936.py:7: FutureWarning: suggest_loguniform has been deprecated in v3.0.0. This feature will be removed in v6.0.0. See https://github.com/optuna/optuna/releases/tag/v3.0.0. Use suggest_float(..., log=True) instead.\n",
      "  learning_rate = trial.suggest_loguniform(\"learning_rate\", 1e-4, 1e-1)\n",
      "/tmp/ipykernel_41978/2074326936.py:8: FutureWarning: suggest_loguniform has been deprecated in v3.0.0. This feature will be removed in v6.0.0. See https://github.com/optuna/optuna/releases/tag/v3.0.0. Use suggest_float(..., log=True) instead.\n",
      "  weight_decay = trial.suggest_loguniform(\"weight_decay\", 1e-5, 1e-1)\n",
      "[I 2024-12-18 13:48:16,786] Trial 53 finished with value: 0.17933841191876132 and parameters: {'hidden_dim': 64, 'num_blocks': 3, 'dropout1': 0.4, 'dropout2': 0.4, 'learning_rate': 0.0007623908135837928, 'weight_decay': 0.0069389433807035585}. Best is trial 43 with value: 0.3161935009291388.\n",
      "/tmp/ipykernel_41978/2074326936.py:7: FutureWarning: suggest_loguniform has been deprecated in v3.0.0. This feature will be removed in v6.0.0. See https://github.com/optuna/optuna/releases/tag/v3.0.0. Use suggest_float(..., log=True) instead.\n",
      "  learning_rate = trial.suggest_loguniform(\"learning_rate\", 1e-4, 1e-1)\n",
      "/tmp/ipykernel_41978/2074326936.py:8: FutureWarning: suggest_loguniform has been deprecated in v3.0.0. This feature will be removed in v6.0.0. See https://github.com/optuna/optuna/releases/tag/v3.0.0. Use suggest_float(..., log=True) instead.\n",
      "  weight_decay = trial.suggest_loguniform(\"weight_decay\", 1e-5, 1e-1)\n",
      "[I 2024-12-18 13:48:16,972] Trial 54 pruned. \n"
     ]
    },
    {
     "name": "stdout",
     "output_type": "stream",
     "text": [
      "Early stopping at epoch 42\n",
      "Final MCC: 0.1793\n"
     ]
    },
    {
     "name": "stderr",
     "output_type": "stream",
     "text": [
      "[I 2024-12-18 13:48:17,217] Trial 55 pruned. \n",
      "[I 2024-12-18 13:48:38,373] Trial 56 finished with value: 0.3185691354916671 and parameters: {'hidden_dim': 64, 'num_blocks': 3, 'dropout1': 0.4, 'dropout2': 0.5, 'learning_rate': 0.00019818345059160225, 'weight_decay': 0.010024765726594232}. Best is trial 56 with value: 0.3185691354916671.\n"
     ]
    },
    {
     "name": "stdout",
     "output_type": "stream",
     "text": [
      "Final MCC: 0.3186\n"
     ]
    },
    {
     "name": "stderr",
     "output_type": "stream",
     "text": [
      "/tmp/ipykernel_41978/2074326936.py:7: FutureWarning: suggest_loguniform has been deprecated in v3.0.0. This feature will be removed in v6.0.0. See https://github.com/optuna/optuna/releases/tag/v3.0.0. Use suggest_float(..., log=True) instead.\n",
      "  learning_rate = trial.suggest_loguniform(\"learning_rate\", 1e-4, 1e-1)\n",
      "/tmp/ipykernel_41978/2074326936.py:8: FutureWarning: suggest_loguniform has been deprecated in v3.0.0. This feature will be removed in v6.0.0. See https://github.com/optuna/optuna/releases/tag/v3.0.0. Use suggest_float(..., log=True) instead.\n",
      "  weight_decay = trial.suggest_loguniform(\"weight_decay\", 1e-5, 1e-1)\n",
      "[I 2024-12-18 13:48:38,608] Trial 57 pruned. \n",
      "[I 2024-12-18 13:48:38,828] Trial 58 pruned. \n",
      "[I 2024-12-18 13:48:39,053] Trial 59 pruned. \n",
      "[I 2024-12-18 13:48:39,281] Trial 60 pruned. \n",
      "[I 2024-12-18 13:48:59,892] Trial 61 finished with value: 0.2524251922578796 and parameters: {'hidden_dim': 64, 'num_blocks': 3, 'dropout1': 0.45, 'dropout2': 0.35000000000000003, 'learning_rate': 0.00021405498076784469, 'weight_decay': 0.006482595642685903}. Best is trial 56 with value: 0.3185691354916671.\n"
     ]
    },
    {
     "name": "stdout",
     "output_type": "stream",
     "text": [
      "Final MCC: 0.2524\n"
     ]
    },
    {
     "name": "stderr",
     "output_type": "stream",
     "text": [
      "/tmp/ipykernel_41978/2074326936.py:7: FutureWarning: suggest_loguniform has been deprecated in v3.0.0. This feature will be removed in v6.0.0. See https://github.com/optuna/optuna/releases/tag/v3.0.0. Use suggest_float(..., log=True) instead.\n",
      "  learning_rate = trial.suggest_loguniform(\"learning_rate\", 1e-4, 1e-1)\n",
      "/tmp/ipykernel_41978/2074326936.py:8: FutureWarning: suggest_loguniform has been deprecated in v3.0.0. This feature will be removed in v6.0.0. See https://github.com/optuna/optuna/releases/tag/v3.0.0. Use suggest_float(..., log=True) instead.\n",
      "  weight_decay = trial.suggest_loguniform(\"weight_decay\", 1e-5, 1e-1)\n",
      "[I 2024-12-18 13:49:00,111] Trial 62 pruned. \n",
      "[I 2024-12-18 13:49:17,200] Trial 63 finished with value: 0.2686920389979384 and parameters: {'hidden_dim': 64, 'num_blocks': 3, 'dropout1': 0.45, 'dropout2': 0.30000000000000004, 'learning_rate': 0.00016157722899046162, 'weight_decay': 0.004432833992952705}. Best is trial 56 with value: 0.3185691354916671.\n"
     ]
    },
    {
     "name": "stdout",
     "output_type": "stream",
     "text": [
      "Early stopping at epoch 81\n",
      "Final MCC: 0.2687\n"
     ]
    },
    {
     "name": "stderr",
     "output_type": "stream",
     "text": [
      "/tmp/ipykernel_41978/2074326936.py:7: FutureWarning: suggest_loguniform has been deprecated in v3.0.0. This feature will be removed in v6.0.0. See https://github.com/optuna/optuna/releases/tag/v3.0.0. Use suggest_float(..., log=True) instead.\n",
      "  learning_rate = trial.suggest_loguniform(\"learning_rate\", 1e-4, 1e-1)\n",
      "/tmp/ipykernel_41978/2074326936.py:8: FutureWarning: suggest_loguniform has been deprecated in v3.0.0. This feature will be removed in v6.0.0. See https://github.com/optuna/optuna/releases/tag/v3.0.0. Use suggest_float(..., log=True) instead.\n",
      "  weight_decay = trial.suggest_loguniform(\"weight_decay\", 1e-5, 1e-1)\n",
      "[I 2024-12-18 13:49:25,409] Trial 64 finished with value: 0.30445732398352765 and parameters: {'hidden_dim': 64, 'num_blocks': 3, 'dropout1': 0.4, 'dropout2': 0.30000000000000004, 'learning_rate': 0.0001771160020623963, 'weight_decay': 0.003758976673069562}. Best is trial 56 with value: 0.3185691354916671.\n"
     ]
    },
    {
     "name": "stdout",
     "output_type": "stream",
     "text": [
      "Early stopping at epoch 56\n",
      "Final MCC: 0.3045\n"
     ]
    },
    {
     "name": "stderr",
     "output_type": "stream",
     "text": [
      "/tmp/ipykernel_41978/2074326936.py:7: FutureWarning: suggest_loguniform has been deprecated in v3.0.0. This feature will be removed in v6.0.0. See https://github.com/optuna/optuna/releases/tag/v3.0.0. Use suggest_float(..., log=True) instead.\n",
      "  learning_rate = trial.suggest_loguniform(\"learning_rate\", 1e-4, 1e-1)\n",
      "/tmp/ipykernel_41978/2074326936.py:8: FutureWarning: suggest_loguniform has been deprecated in v3.0.0. This feature will be removed in v6.0.0. See https://github.com/optuna/optuna/releases/tag/v3.0.0. Use suggest_float(..., log=True) instead.\n",
      "  weight_decay = trial.suggest_loguniform(\"weight_decay\", 1e-5, 1e-1)\n",
      "[I 2024-12-18 13:49:36,814] Trial 65 finished with value: 0.16910940367045932 and parameters: {'hidden_dim': 64, 'num_blocks': 3, 'dropout1': 0.35000000000000003, 'dropout2': 0.30000000000000004, 'learning_rate': 0.00028076842797554094, 'weight_decay': 0.003908021895969904}. Best is trial 56 with value: 0.3185691354916671.\n"
     ]
    },
    {
     "name": "stdout",
     "output_type": "stream",
     "text": [
      "Early stopping at epoch 56\n",
      "Final MCC: 0.1691\n"
     ]
    },
    {
     "name": "stderr",
     "output_type": "stream",
     "text": [
      "/tmp/ipykernel_41978/2074326936.py:7: FutureWarning: suggest_loguniform has been deprecated in v3.0.0. This feature will be removed in v6.0.0. See https://github.com/optuna/optuna/releases/tag/v3.0.0. Use suggest_float(..., log=True) instead.\n",
      "  learning_rate = trial.suggest_loguniform(\"learning_rate\", 1e-4, 1e-1)\n",
      "/tmp/ipykernel_41978/2074326936.py:8: FutureWarning: suggest_loguniform has been deprecated in v3.0.0. This feature will be removed in v6.0.0. See https://github.com/optuna/optuna/releases/tag/v3.0.0. Use suggest_float(..., log=True) instead.\n",
      "  weight_decay = trial.suggest_loguniform(\"weight_decay\", 1e-5, 1e-1)\n",
      "[I 2024-12-18 13:49:37,026] Trial 66 pruned. \n",
      "[I 2024-12-18 13:49:56,432] Trial 67 finished with value: 0.2553725207868155 and parameters: {'hidden_dim': 64, 'num_blocks': 3, 'dropout1': 0.4, 'dropout2': 0.30000000000000004, 'learning_rate': 0.00015754895362711396, 'weight_decay': 0.0027196456071615998}. Best is trial 56 with value: 0.3185691354916671.\n"
     ]
    },
    {
     "name": "stdout",
     "output_type": "stream",
     "text": [
      "Final MCC: 0.2554\n"
     ]
    },
    {
     "name": "stderr",
     "output_type": "stream",
     "text": [
      "/tmp/ipykernel_41978/2074326936.py:7: FutureWarning: suggest_loguniform has been deprecated in v3.0.0. This feature will be removed in v6.0.0. See https://github.com/optuna/optuna/releases/tag/v3.0.0. Use suggest_float(..., log=True) instead.\n",
      "  learning_rate = trial.suggest_loguniform(\"learning_rate\", 1e-4, 1e-1)\n",
      "/tmp/ipykernel_41978/2074326936.py:8: FutureWarning: suggest_loguniform has been deprecated in v3.0.0. This feature will be removed in v6.0.0. See https://github.com/optuna/optuna/releases/tag/v3.0.0. Use suggest_float(..., log=True) instead.\n",
      "  weight_decay = trial.suggest_loguniform(\"weight_decay\", 1e-5, 1e-1)\n",
      "[I 2024-12-18 13:49:56,637] Trial 68 pruned. \n",
      "[I 2024-12-18 13:50:08,166] Trial 69 finished with value: 0.2013878178804103 and parameters: {'hidden_dim': 64, 'num_blocks': 3, 'dropout1': 0.30000000000000004, 'dropout2': 0.25, 'learning_rate': 0.0002165809389330048, 'weight_decay': 0.010868781319531343}. Best is trial 56 with value: 0.3185691354916671.\n"
     ]
    },
    {
     "name": "stdout",
     "output_type": "stream",
     "text": [
      "Early stopping at epoch 54\n",
      "Final MCC: 0.2014\n"
     ]
    },
    {
     "name": "stderr",
     "output_type": "stream",
     "text": [
      "/tmp/ipykernel_41978/2074326936.py:7: FutureWarning: suggest_loguniform has been deprecated in v3.0.0. This feature will be removed in v6.0.0. See https://github.com/optuna/optuna/releases/tag/v3.0.0. Use suggest_float(..., log=True) instead.\n",
      "  learning_rate = trial.suggest_loguniform(\"learning_rate\", 1e-4, 1e-1)\n",
      "/tmp/ipykernel_41978/2074326936.py:8: FutureWarning: suggest_loguniform has been deprecated in v3.0.0. This feature will be removed in v6.0.0. See https://github.com/optuna/optuna/releases/tag/v3.0.0. Use suggest_float(..., log=True) instead.\n",
      "  weight_decay = trial.suggest_loguniform(\"weight_decay\", 1e-5, 1e-1)\n",
      "[I 2024-12-18 13:50:24,339] Trial 70 finished with value: 0.2602692878478548 and parameters: {'hidden_dim': 64, 'num_blocks': 3, 'dropout1': 0.4, 'dropout2': 0.35000000000000003, 'learning_rate': 0.00013682658418072408, 'weight_decay': 0.004936325272757559}. Best is trial 56 with value: 0.3185691354916671.\n"
     ]
    },
    {
     "name": "stdout",
     "output_type": "stream",
     "text": [
      "Early stopping at epoch 78\n",
      "Final MCC: 0.2603\n"
     ]
    },
    {
     "name": "stderr",
     "output_type": "stream",
     "text": [
      "/tmp/ipykernel_41978/2074326936.py:7: FutureWarning: suggest_loguniform has been deprecated in v3.0.0. This feature will be removed in v6.0.0. See https://github.com/optuna/optuna/releases/tag/v3.0.0. Use suggest_float(..., log=True) instead.\n",
      "  learning_rate = trial.suggest_loguniform(\"learning_rate\", 1e-4, 1e-1)\n",
      "/tmp/ipykernel_41978/2074326936.py:8: FutureWarning: suggest_loguniform has been deprecated in v3.0.0. This feature will be removed in v6.0.0. See https://github.com/optuna/optuna/releases/tag/v3.0.0. Use suggest_float(..., log=True) instead.\n",
      "  weight_decay = trial.suggest_loguniform(\"weight_decay\", 1e-5, 1e-1)\n",
      "[I 2024-12-18 13:50:24,569] Trial 71 pruned. \n",
      "[I 2024-12-18 13:50:45,547] Trial 72 finished with value: 0.19955196667096528 and parameters: {'hidden_dim': 64, 'num_blocks': 3, 'dropout1': 0.45, 'dropout2': 0.35000000000000003, 'learning_rate': 0.00016826019287865358, 'weight_decay': 0.007808436696369511}. Best is trial 56 with value: 0.3185691354916671.\n"
     ]
    },
    {
     "name": "stdout",
     "output_type": "stream",
     "text": [
      "Final MCC: 0.1996\n"
     ]
    },
    {
     "name": "stderr",
     "output_type": "stream",
     "text": [
      "/tmp/ipykernel_41978/2074326936.py:7: FutureWarning: suggest_loguniform has been deprecated in v3.0.0. This feature will be removed in v6.0.0. See https://github.com/optuna/optuna/releases/tag/v3.0.0. Use suggest_float(..., log=True) instead.\n",
      "  learning_rate = trial.suggest_loguniform(\"learning_rate\", 1e-4, 1e-1)\n",
      "/tmp/ipykernel_41978/2074326936.py:8: FutureWarning: suggest_loguniform has been deprecated in v3.0.0. This feature will be removed in v6.0.0. See https://github.com/optuna/optuna/releases/tag/v3.0.0. Use suggest_float(..., log=True) instead.\n",
      "  weight_decay = trial.suggest_loguniform(\"weight_decay\", 1e-5, 1e-1)\n",
      "[I 2024-12-18 13:50:45,790] Trial 73 pruned. \n",
      "[I 2024-12-18 13:50:46,061] Trial 74 pruned. \n",
      "[I 2024-12-18 13:51:02,925] Trial 75 finished with value: 0.21733559127470506 and parameters: {'hidden_dim': 64, 'num_blocks': 3, 'dropout1': 0.45, 'dropout2': 0.5, 'learning_rate': 0.00012459933305781012, 'weight_decay': 0.00544816949778743}. Best is trial 56 with value: 0.3185691354916671.\n"
     ]
    },
    {
     "name": "stdout",
     "output_type": "stream",
     "text": [
      "Early stopping at epoch 90\n",
      "Final MCC: 0.2173\n"
     ]
    },
    {
     "name": "stderr",
     "output_type": "stream",
     "text": [
      "/tmp/ipykernel_41978/2074326936.py:7: FutureWarning: suggest_loguniform has been deprecated in v3.0.0. This feature will be removed in v6.0.0. See https://github.com/optuna/optuna/releases/tag/v3.0.0. Use suggest_float(..., log=True) instead.\n",
      "  learning_rate = trial.suggest_loguniform(\"learning_rate\", 1e-4, 1e-1)\n",
      "/tmp/ipykernel_41978/2074326936.py:8: FutureWarning: suggest_loguniform has been deprecated in v3.0.0. This feature will be removed in v6.0.0. See https://github.com/optuna/optuna/releases/tag/v3.0.0. Use suggest_float(..., log=True) instead.\n",
      "  weight_decay = trial.suggest_loguniform(\"weight_decay\", 1e-5, 1e-1)\n",
      "[I 2024-12-18 13:51:03,153] Trial 76 pruned. \n",
      "[I 2024-12-18 13:51:03,431] Trial 77 pruned. \n",
      "[I 2024-12-18 13:51:21,831] Trial 78 finished with value: 0.30382551338376107 and parameters: {'hidden_dim': 64, 'num_blocks': 3, 'dropout1': 0.45, 'dropout2': 0.4, 'learning_rate': 0.00014492278411519223, 'weight_decay': 0.008434039240498915}. Best is trial 56 with value: 0.3185691354916671.\n",
      "/tmp/ipykernel_41978/2074326936.py:7: FutureWarning: suggest_loguniform has been deprecated in v3.0.0. This feature will be removed in v6.0.0. See https://github.com/optuna/optuna/releases/tag/v3.0.0. Use suggest_float(..., log=True) instead.\n",
      "  learning_rate = trial.suggest_loguniform(\"learning_rate\", 1e-4, 1e-1)\n",
      "/tmp/ipykernel_41978/2074326936.py:8: FutureWarning: suggest_loguniform has been deprecated in v3.0.0. This feature will be removed in v6.0.0. See https://github.com/optuna/optuna/releases/tag/v3.0.0. Use suggest_float(..., log=True) instead.\n",
      "  weight_decay = trial.suggest_loguniform(\"weight_decay\", 1e-5, 1e-1)\n",
      "[I 2024-12-18 13:51:21,966] Trial 79 pruned. \n"
     ]
    },
    {
     "name": "stdout",
     "output_type": "stream",
     "text": [
      "Final MCC: 0.3038\n"
     ]
    },
    {
     "name": "stderr",
     "output_type": "stream",
     "text": [
      "[I 2024-12-18 13:51:22,103] Trial 80 pruned. \n",
      "[I 2024-12-18 13:51:22,292] Trial 81 pruned. \n",
      "[I 2024-12-18 13:51:42,012] Trial 82 finished with value: 0.2627818048829654 and parameters: {'hidden_dim': 64, 'num_blocks': 3, 'dropout1': 0.45, 'dropout2': 0.4, 'learning_rate': 0.00016888857569234518, 'weight_decay': 0.0031552415065064883}. Best is trial 56 with value: 0.3185691354916671.\n"
     ]
    },
    {
     "name": "stdout",
     "output_type": "stream",
     "text": [
      "Early stopping at epoch 99\n",
      "Final MCC: 0.2628\n"
     ]
    },
    {
     "name": "stderr",
     "output_type": "stream",
     "text": [
      "/tmp/ipykernel_41978/2074326936.py:7: FutureWarning: suggest_loguniform has been deprecated in v3.0.0. This feature will be removed in v6.0.0. See https://github.com/optuna/optuna/releases/tag/v3.0.0. Use suggest_float(..., log=True) instead.\n",
      "  learning_rate = trial.suggest_loguniform(\"learning_rate\", 1e-4, 1e-1)\n",
      "/tmp/ipykernel_41978/2074326936.py:8: FutureWarning: suggest_loguniform has been deprecated in v3.0.0. This feature will be removed in v6.0.0. See https://github.com/optuna/optuna/releases/tag/v3.0.0. Use suggest_float(..., log=True) instead.\n",
      "  weight_decay = trial.suggest_loguniform(\"weight_decay\", 1e-5, 1e-1)\n",
      "[I 2024-12-18 13:51:42,232] Trial 83 pruned. \n",
      "[I 2024-12-18 13:51:57,168] Trial 84 finished with value: 0.2028633304070839 and parameters: {'hidden_dim': 64, 'num_blocks': 3, 'dropout1': 0.45, 'dropout2': 0.4, 'learning_rate': 0.00021905997492492716, 'weight_decay': 0.003429622377449146}. Best is trial 56 with value: 0.3185691354916671.\n",
      "/tmp/ipykernel_41978/2074326936.py:7: FutureWarning: suggest_loguniform has been deprecated in v3.0.0. This feature will be removed in v6.0.0. See https://github.com/optuna/optuna/releases/tag/v3.0.0. Use suggest_float(..., log=True) instead.\n",
      "  learning_rate = trial.suggest_loguniform(\"learning_rate\", 1e-4, 1e-1)\n",
      "/tmp/ipykernel_41978/2074326936.py:8: FutureWarning: suggest_loguniform has been deprecated in v3.0.0. This feature will be removed in v6.0.0. See https://github.com/optuna/optuna/releases/tag/v3.0.0. Use suggest_float(..., log=True) instead.\n",
      "  weight_decay = trial.suggest_loguniform(\"weight_decay\", 1e-5, 1e-1)\n",
      "[I 2024-12-18 13:51:57,304] Trial 85 pruned. \n"
     ]
    },
    {
     "name": "stdout",
     "output_type": "stream",
     "text": [
      "Early stopping at epoch 76\n",
      "Final MCC: 0.2029\n"
     ]
    },
    {
     "name": "stderr",
     "output_type": "stream",
     "text": [
      "[I 2024-12-18 13:51:57,483] Trial 86 pruned. \n",
      "[I 2024-12-18 13:52:14,213] Trial 87 finished with value: 0.24364103448269775 and parameters: {'hidden_dim': 64, 'num_blocks': 3, 'dropout1': 0.45, 'dropout2': 0.45, 'learning_rate': 0.00011646575119408315, 'weight_decay': 0.008380656662470008}. Best is trial 56 with value: 0.3185691354916671.\n"
     ]
    },
    {
     "name": "stdout",
     "output_type": "stream",
     "text": [
      "Final MCC: 0.2436\n"
     ]
    },
    {
     "name": "stderr",
     "output_type": "stream",
     "text": [
      "/tmp/ipykernel_41978/2074326936.py:7: FutureWarning: suggest_loguniform has been deprecated in v3.0.0. This feature will be removed in v6.0.0. See https://github.com/optuna/optuna/releases/tag/v3.0.0. Use suggest_float(..., log=True) instead.\n",
      "  learning_rate = trial.suggest_loguniform(\"learning_rate\", 1e-4, 1e-1)\n",
      "/tmp/ipykernel_41978/2074326936.py:8: FutureWarning: suggest_loguniform has been deprecated in v3.0.0. This feature will be removed in v6.0.0. See https://github.com/optuna/optuna/releases/tag/v3.0.0. Use suggest_float(..., log=True) instead.\n",
      "  weight_decay = trial.suggest_loguniform(\"weight_decay\", 1e-5, 1e-1)\n",
      "[I 2024-12-18 13:52:14,425] Trial 88 pruned. \n",
      "[I 2024-12-18 13:52:34,480] Trial 89 finished with value: 0.15200911195659603 and parameters: {'hidden_dim': 64, 'num_blocks': 3, 'dropout1': 0.4, 'dropout2': 0.2, 'learning_rate': 0.00016393583628894397, 'weight_decay': 0.004368436900895962}. Best is trial 56 with value: 0.3185691354916671.\n"
     ]
    },
    {
     "name": "stdout",
     "output_type": "stream",
     "text": [
      "Early stopping at epoch 98\n",
      "Final MCC: 0.1520\n"
     ]
    },
    {
     "name": "stderr",
     "output_type": "stream",
     "text": [
      "/tmp/ipykernel_41978/2074326936.py:7: FutureWarning: suggest_loguniform has been deprecated in v3.0.0. This feature will be removed in v6.0.0. See https://github.com/optuna/optuna/releases/tag/v3.0.0. Use suggest_float(..., log=True) instead.\n",
      "  learning_rate = trial.suggest_loguniform(\"learning_rate\", 1e-4, 1e-1)\n",
      "/tmp/ipykernel_41978/2074326936.py:8: FutureWarning: suggest_loguniform has been deprecated in v3.0.0. This feature will be removed in v6.0.0. See https://github.com/optuna/optuna/releases/tag/v3.0.0. Use suggest_float(..., log=True) instead.\n",
      "  weight_decay = trial.suggest_loguniform(\"weight_decay\", 1e-5, 1e-1)\n",
      "[I 2024-12-18 13:52:46,119] Trial 90 finished with value: 0.20455491857885993 and parameters: {'hidden_dim': 64, 'num_blocks': 3, 'dropout1': 0.2, 'dropout2': 0.4, 'learning_rate': 0.00020423984276565497, 'weight_decay': 0.002936904044049939}. Best is trial 56 with value: 0.3185691354916671.\n"
     ]
    },
    {
     "name": "stdout",
     "output_type": "stream",
     "text": [
      "Early stopping at epoch 59\n",
      "Final MCC: 0.2046\n"
     ]
    },
    {
     "name": "stderr",
     "output_type": "stream",
     "text": [
      "/tmp/ipykernel_41978/2074326936.py:7: FutureWarning: suggest_loguniform has been deprecated in v3.0.0. This feature will be removed in v6.0.0. See https://github.com/optuna/optuna/releases/tag/v3.0.0. Use suggest_float(..., log=True) instead.\n",
      "  learning_rate = trial.suggest_loguniform(\"learning_rate\", 1e-4, 1e-1)\n",
      "/tmp/ipykernel_41978/2074326936.py:8: FutureWarning: suggest_loguniform has been deprecated in v3.0.0. This feature will be removed in v6.0.0. See https://github.com/optuna/optuna/releases/tag/v3.0.0. Use suggest_float(..., log=True) instead.\n",
      "  weight_decay = trial.suggest_loguniform(\"weight_decay\", 1e-5, 1e-1)\n",
      "[I 2024-12-18 13:53:07,439] Trial 91 finished with value: 0.3162890911135341 and parameters: {'hidden_dim': 64, 'num_blocks': 3, 'dropout1': 0.4, 'dropout2': 0.35000000000000003, 'learning_rate': 0.00012712210180921142, 'weight_decay': 0.0053441754115826565}. Best is trial 56 with value: 0.3185691354916671.\n"
     ]
    },
    {
     "name": "stdout",
     "output_type": "stream",
     "text": [
      "Final MCC: 0.3163\n"
     ]
    },
    {
     "name": "stderr",
     "output_type": "stream",
     "text": [
      "/tmp/ipykernel_41978/2074326936.py:7: FutureWarning: suggest_loguniform has been deprecated in v3.0.0. This feature will be removed in v6.0.0. See https://github.com/optuna/optuna/releases/tag/v3.0.0. Use suggest_float(..., log=True) instead.\n",
      "  learning_rate = trial.suggest_loguniform(\"learning_rate\", 1e-4, 1e-1)\n",
      "/tmp/ipykernel_41978/2074326936.py:8: FutureWarning: suggest_loguniform has been deprecated in v3.0.0. This feature will be removed in v6.0.0. See https://github.com/optuna/optuna/releases/tag/v3.0.0. Use suggest_float(..., log=True) instead.\n",
      "  weight_decay = trial.suggest_loguniform(\"weight_decay\", 1e-5, 1e-1)\n",
      "[I 2024-12-18 13:53:25,390] Trial 92 finished with value: 0.16663993361171764 and parameters: {'hidden_dim': 64, 'num_blocks': 3, 'dropout1': 0.45, 'dropout2': 0.30000000000000004, 'learning_rate': 0.00011714721296293974, 'weight_decay': 0.0056131903508928015}. Best is trial 56 with value: 0.3185691354916671.\n"
     ]
    },
    {
     "name": "stdout",
     "output_type": "stream",
     "text": [
      "Final MCC: 0.1666\n"
     ]
    },
    {
     "name": "stderr",
     "output_type": "stream",
     "text": [
      "/tmp/ipykernel_41978/2074326936.py:7: FutureWarning: suggest_loguniform has been deprecated in v3.0.0. This feature will be removed in v6.0.0. See https://github.com/optuna/optuna/releases/tag/v3.0.0. Use suggest_float(..., log=True) instead.\n",
      "  learning_rate = trial.suggest_loguniform(\"learning_rate\", 1e-4, 1e-1)\n",
      "/tmp/ipykernel_41978/2074326936.py:8: FutureWarning: suggest_loguniform has been deprecated in v3.0.0. This feature will be removed in v6.0.0. See https://github.com/optuna/optuna/releases/tag/v3.0.0. Use suggest_float(..., log=True) instead.\n",
      "  weight_decay = trial.suggest_loguniform(\"weight_decay\", 1e-5, 1e-1)\n",
      "[I 2024-12-18 13:53:43,647] Trial 93 finished with value: 0.19953329281440324 and parameters: {'hidden_dim': 64, 'num_blocks': 3, 'dropout1': 0.4, 'dropout2': 0.30000000000000004, 'learning_rate': 0.00015603296517326625, 'weight_decay': 0.0015471563330442173}. Best is trial 56 with value: 0.3185691354916671.\n"
     ]
    },
    {
     "name": "stdout",
     "output_type": "stream",
     "text": [
      "Early stopping at epoch 91\n",
      "Final MCC: 0.1995\n"
     ]
    },
    {
     "name": "stderr",
     "output_type": "stream",
     "text": [
      "/tmp/ipykernel_41978/2074326936.py:7: FutureWarning: suggest_loguniform has been deprecated in v3.0.0. This feature will be removed in v6.0.0. See https://github.com/optuna/optuna/releases/tag/v3.0.0. Use suggest_float(..., log=True) instead.\n",
      "  learning_rate = trial.suggest_loguniform(\"learning_rate\", 1e-4, 1e-1)\n",
      "/tmp/ipykernel_41978/2074326936.py:8: FutureWarning: suggest_loguniform has been deprecated in v3.0.0. This feature will be removed in v6.0.0. See https://github.com/optuna/optuna/releases/tag/v3.0.0. Use suggest_float(..., log=True) instead.\n",
      "  weight_decay = trial.suggest_loguniform(\"weight_decay\", 1e-5, 1e-1)\n",
      "[I 2024-12-18 13:53:43,879] Trial 94 pruned. \n",
      "[I 2024-12-18 13:54:02,923] Trial 95 finished with value: 0.3127296926049439 and parameters: {'hidden_dim': 64, 'num_blocks': 3, 'dropout1': 0.4, 'dropout2': 0.35000000000000003, 'learning_rate': 0.00012544254526681962, 'weight_decay': 0.00847538646825946}. Best is trial 56 with value: 0.3185691354916671.\n"
     ]
    },
    {
     "name": "stdout",
     "output_type": "stream",
     "text": [
      "Final MCC: 0.3127\n"
     ]
    },
    {
     "name": "stderr",
     "output_type": "stream",
     "text": [
      "/tmp/ipykernel_41978/2074326936.py:7: FutureWarning: suggest_loguniform has been deprecated in v3.0.0. This feature will be removed in v6.0.0. See https://github.com/optuna/optuna/releases/tag/v3.0.0. Use suggest_float(..., log=True) instead.\n",
      "  learning_rate = trial.suggest_loguniform(\"learning_rate\", 1e-4, 1e-1)\n",
      "/tmp/ipykernel_41978/2074326936.py:8: FutureWarning: suggest_loguniform has been deprecated in v3.0.0. This feature will be removed in v6.0.0. See https://github.com/optuna/optuna/releases/tag/v3.0.0. Use suggest_float(..., log=True) instead.\n",
      "  weight_decay = trial.suggest_loguniform(\"weight_decay\", 1e-5, 1e-1)\n",
      "[I 2024-12-18 13:54:15,818] Trial 96 finished with value: 0.220748811927002 and parameters: {'hidden_dim': 64, 'num_blocks': 3, 'dropout1': 0.05, 'dropout2': 0.35000000000000003, 'learning_rate': 0.0001287354111471168, 'weight_decay': 0.013346877735101114}. Best is trial 56 with value: 0.3185691354916671.\n"
     ]
    },
    {
     "name": "stdout",
     "output_type": "stream",
     "text": [
      "Early stopping at epoch 69\n",
      "Final MCC: 0.2207\n"
     ]
    },
    {
     "name": "stderr",
     "output_type": "stream",
     "text": [
      "/tmp/ipykernel_41978/2074326936.py:7: FutureWarning: suggest_loguniform has been deprecated in v3.0.0. This feature will be removed in v6.0.0. See https://github.com/optuna/optuna/releases/tag/v3.0.0. Use suggest_float(..., log=True) instead.\n",
      "  learning_rate = trial.suggest_loguniform(\"learning_rate\", 1e-4, 1e-1)\n",
      "/tmp/ipykernel_41978/2074326936.py:8: FutureWarning: suggest_loguniform has been deprecated in v3.0.0. This feature will be removed in v6.0.0. See https://github.com/optuna/optuna/releases/tag/v3.0.0. Use suggest_float(..., log=True) instead.\n",
      "  weight_decay = trial.suggest_loguniform(\"weight_decay\", 1e-5, 1e-1)\n",
      "[I 2024-12-18 13:54:16,100] Trial 97 pruned. \n",
      "[I 2024-12-18 13:54:24,591] Trial 98 finished with value: 0.24460788119839852 and parameters: {'hidden_dim': 256, 'num_blocks': 3, 'dropout1': 0.35000000000000003, 'dropout2': 0.30000000000000004, 'learning_rate': 0.0001006831055214432, 'weight_decay': 0.010641869983982538}. Best is trial 56 with value: 0.3185691354916671.\n"
     ]
    },
    {
     "name": "stdout",
     "output_type": "stream",
     "text": [
      "Early stopping at epoch 50\n",
      "Final MCC: 0.2446\n"
     ]
    },
    {
     "name": "stderr",
     "output_type": "stream",
     "text": [
      "/tmp/ipykernel_41978/2074326936.py:7: FutureWarning: suggest_loguniform has been deprecated in v3.0.0. This feature will be removed in v6.0.0. See https://github.com/optuna/optuna/releases/tag/v3.0.0. Use suggest_float(..., log=True) instead.\n",
      "  learning_rate = trial.suggest_loguniform(\"learning_rate\", 1e-4, 1e-1)\n",
      "/tmp/ipykernel_41978/2074326936.py:8: FutureWarning: suggest_loguniform has been deprecated in v3.0.0. This feature will be removed in v6.0.0. See https://github.com/optuna/optuna/releases/tag/v3.0.0. Use suggest_float(..., log=True) instead.\n",
      "  weight_decay = trial.suggest_loguniform(\"weight_decay\", 1e-5, 1e-1)\n",
      "[I 2024-12-18 13:54:36,929] Trial 99 finished with value: 0.29466976898542185 and parameters: {'hidden_dim': 64, 'num_blocks': 3, 'dropout1': 0.4, 'dropout2': 0.35000000000000003, 'learning_rate': 0.0002030897000419717, 'weight_decay': 0.022126120621443972}. Best is trial 56 with value: 0.3185691354916671.\n"
     ]
    },
    {
     "name": "stdout",
     "output_type": "stream",
     "text": [
      "Early stopping at epoch 63\n",
      "Final MCC: 0.2947\n",
      "Best Parameters:  {'hidden_dim': 64, 'num_blocks': 3, 'dropout1': 0.4, 'dropout2': 0.5, 'learning_rate': 0.00019818345059160225, 'weight_decay': 0.010024765726594232}\n",
      "Best Validation F1:  0.3185691354916671\n"
     ]
    }
   ],
   "source": [
    "device_id = 1 \n",
    "torch.cuda.set_device(device_id)\n",
    "device = torch.device(f\"cuda:{device_id}\" if torch.cuda.is_available() else \"cpu\")\n",
    "\n",
    "# Optunaの設定\n",
    "study = optuna.create_study(direction=\"maximize\")  \n",
    "study.optimize(objective, n_trials=100)\n",
    "\n",
    "# 結果表示\n",
    "print(\"Best Parameters: \", study.best_params)\n",
    "print(\"Best Validation F1: \", study.best_value)"
   ]
  },
  {
   "cell_type": "code",
   "execution_count": 8,
   "metadata": {},
   "outputs": [
    {
     "name": "stdout",
     "output_type": "stream",
     "text": [
      "Best parameters saved to 'best_params.json'\n"
     ]
    }
   ],
   "source": [
    "best_params = study.best_params\n",
    "\n",
    "# JSON形式で保存\n",
    "with open(\"optim_param/optim_ResNet_params.json\", \"w\") as f:\n",
    "    json.dump(best_params, f)\n",
    "\n",
    "print(\"Best parameters saved to 'best_params.json'\")"
   ]
  },
  {
   "cell_type": "code",
   "execution_count": 15,
   "metadata": {},
   "outputs": [
    {
     "name": "stdout",
     "output_type": "stream",
     "text": [
      "Epoch [1/150], Loss: 0.9249\n",
      "Epoch [1/150], Train Loss: 0.9249, Val Loss: 0.7816\n",
      "Epoch [2/150], Loss: 0.8548\n",
      "Epoch [2/150], Train Loss: 0.8548, Val Loss: 0.7499\n",
      "Epoch [3/150], Loss: 0.8224\n",
      "Epoch [3/150], Train Loss: 0.8224, Val Loss: 0.7131\n",
      "Epoch [4/150], Loss: 0.7638\n",
      "Epoch [4/150], Train Loss: 0.7638, Val Loss: 0.6916\n",
      "Epoch [5/150], Loss: 0.7435\n",
      "Epoch [5/150], Train Loss: 0.7435, Val Loss: 0.6699\n",
      "Epoch [6/150], Loss: 0.7241\n",
      "Epoch [6/150], Train Loss: 0.7241, Val Loss: 0.6545\n",
      "Epoch [7/150], Loss: 0.7076\n",
      "Epoch [7/150], Train Loss: 0.7076, Val Loss: 0.6389\n",
      "Epoch [8/150], Loss: 0.6903\n",
      "Epoch [8/150], Train Loss: 0.6903, Val Loss: 0.6321\n",
      "Epoch [9/150], Loss: 0.6978\n",
      "Epoch [9/150], Train Loss: 0.6978, Val Loss: 0.6246\n",
      "Epoch [10/150], Loss: 0.6849\n",
      "Epoch [10/150], Train Loss: 0.6849, Val Loss: 0.6171\n",
      "Epoch [11/150], Loss: 0.6647\n",
      "Epoch [11/150], Train Loss: 0.6647, Val Loss: 0.6116\n",
      "Epoch [12/150], Loss: 0.6785\n",
      "Epoch [12/150], Train Loss: 0.6785, Val Loss: 0.6113\n",
      "Epoch [13/150], Loss: 0.6676\n",
      "Epoch [13/150], Train Loss: 0.6676, Val Loss: 0.6066\n",
      "Epoch [14/150], Loss: 0.6587\n",
      "Epoch [14/150], Train Loss: 0.6587, Val Loss: 0.6042\n",
      "Epoch [15/150], Loss: 0.6578\n",
      "Epoch [15/150], Train Loss: 0.6578, Val Loss: 0.6001\n",
      "Epoch [16/150], Loss: 0.6553\n",
      "Epoch [16/150], Train Loss: 0.6553, Val Loss: 0.5966\n",
      "Epoch [17/150], Loss: 0.6558\n",
      "Epoch [17/150], Train Loss: 0.6558, Val Loss: 0.5944\n",
      "Epoch [18/150], Loss: 0.6498\n",
      "Epoch [18/150], Train Loss: 0.6498, Val Loss: 0.5923\n",
      "Epoch [19/150], Loss: 0.6440\n",
      "Epoch [19/150], Train Loss: 0.6440, Val Loss: 0.5894\n",
      "Epoch [20/150], Loss: 0.6432\n",
      "Epoch [20/150], Train Loss: 0.6432, Val Loss: 0.5883\n",
      "Epoch [21/150], Loss: 0.6422\n",
      "Epoch [21/150], Train Loss: 0.6422, Val Loss: 0.5849\n",
      "Epoch [22/150], Loss: 0.6337\n",
      "Epoch [22/150], Train Loss: 0.6337, Val Loss: 0.5832\n",
      "Epoch [23/150], Loss: 0.6323\n",
      "Epoch [23/150], Train Loss: 0.6323, Val Loss: 0.5825\n",
      "Epoch [24/150], Loss: 0.6369\n",
      "Epoch [24/150], Train Loss: 0.6369, Val Loss: 0.5817\n",
      "Epoch [25/150], Loss: 0.6356\n",
      "Epoch [25/150], Train Loss: 0.6356, Val Loss: 0.5791\n",
      "Epoch [26/150], Loss: 0.6260\n",
      "Epoch [26/150], Train Loss: 0.6260, Val Loss: 0.5774\n",
      "Epoch [27/150], Loss: 0.6291\n",
      "Epoch [27/150], Train Loss: 0.6291, Val Loss: 0.5763\n",
      "Epoch [28/150], Loss: 0.6326\n",
      "Epoch [28/150], Train Loss: 0.6326, Val Loss: 0.5749\n",
      "Epoch [29/150], Loss: 0.6197\n",
      "Epoch [29/150], Train Loss: 0.6197, Val Loss: 0.5732\n",
      "Epoch [30/150], Loss: 0.6175\n",
      "Epoch [30/150], Train Loss: 0.6175, Val Loss: 0.5718\n",
      "Epoch [31/150], Loss: 0.6194\n",
      "Epoch [31/150], Train Loss: 0.6194, Val Loss: 0.5716\n",
      "Epoch [32/150], Loss: 0.6161\n",
      "Epoch [32/150], Train Loss: 0.6161, Val Loss: 0.5723\n",
      "Epoch [33/150], Loss: 0.6030\n",
      "Epoch [33/150], Train Loss: 0.6030, Val Loss: 0.5713\n",
      "Epoch [34/150], Loss: 0.6080\n",
      "Epoch [34/150], Train Loss: 0.6080, Val Loss: 0.5707\n",
      "Epoch [35/150], Loss: 0.6084\n",
      "Epoch [35/150], Train Loss: 0.6084, Val Loss: 0.5701\n",
      "Epoch [36/150], Loss: 0.6123\n",
      "Epoch [36/150], Train Loss: 0.6123, Val Loss: 0.5680\n",
      "Epoch [37/150], Loss: 0.6041\n",
      "Epoch [37/150], Train Loss: 0.6041, Val Loss: 0.5711\n",
      "Epoch [38/150], Loss: 0.6059\n",
      "Epoch [38/150], Train Loss: 0.6059, Val Loss: 0.5691\n",
      "Epoch [39/150], Loss: 0.6017\n",
      "Epoch [39/150], Train Loss: 0.6017, Val Loss: 0.5678\n",
      "Epoch [40/150], Loss: 0.6000\n",
      "Epoch [40/150], Train Loss: 0.6000, Val Loss: 0.5674\n",
      "Epoch [41/150], Loss: 0.6067\n",
      "Epoch [41/150], Train Loss: 0.6067, Val Loss: 0.5671\n",
      "Epoch [42/150], Loss: 0.6101\n",
      "Epoch [42/150], Train Loss: 0.6101, Val Loss: 0.5664\n",
      "Epoch [43/150], Loss: 0.6014\n",
      "Epoch [43/150], Train Loss: 0.6014, Val Loss: 0.5655\n",
      "Epoch [44/150], Loss: 0.6068\n",
      "Epoch [44/150], Train Loss: 0.6068, Val Loss: 0.5658\n",
      "Epoch [45/150], Loss: 0.6005\n",
      "Epoch [45/150], Train Loss: 0.6005, Val Loss: 0.5653\n",
      "Epoch [46/150], Loss: 0.6014\n",
      "Epoch [46/150], Train Loss: 0.6014, Val Loss: 0.5641\n",
      "Epoch [47/150], Loss: 0.6026\n",
      "Epoch [47/150], Train Loss: 0.6026, Val Loss: 0.5647\n",
      "Epoch [48/150], Loss: 0.5917\n",
      "Epoch [48/150], Train Loss: 0.5917, Val Loss: 0.5653\n",
      "Epoch [49/150], Loss: 0.5990\n",
      "Epoch [49/150], Train Loss: 0.5990, Val Loss: 0.5649\n",
      "Epoch [50/150], Loss: 0.5979\n",
      "Epoch [50/150], Train Loss: 0.5979, Val Loss: 0.5643\n",
      "Epoch [51/150], Loss: 0.5966\n",
      "Epoch [51/150], Train Loss: 0.5966, Val Loss: 0.5641\n",
      "Epoch [52/150], Loss: 0.5992\n",
      "Epoch [52/150], Train Loss: 0.5992, Val Loss: 0.5634\n",
      "Epoch [53/150], Loss: 0.5885\n",
      "Epoch [53/150], Train Loss: 0.5885, Val Loss: 0.5629\n",
      "Epoch [54/150], Loss: 0.5968\n",
      "Epoch [54/150], Train Loss: 0.5968, Val Loss: 0.5631\n",
      "Epoch [55/150], Loss: 0.5932\n",
      "Epoch [55/150], Train Loss: 0.5932, Val Loss: 0.5636\n",
      "Epoch [56/150], Loss: 0.5879\n",
      "Epoch [56/150], Train Loss: 0.5879, Val Loss: 0.5637\n",
      "Epoch [57/150], Loss: 0.5919\n",
      "Epoch [57/150], Train Loss: 0.5919, Val Loss: 0.5643\n",
      "Epoch [58/150], Loss: 0.5981\n",
      "Epoch [58/150], Train Loss: 0.5981, Val Loss: 0.5633\n",
      "Epoch [59/150], Loss: 0.5942\n",
      "Epoch [59/150], Train Loss: 0.5942, Val Loss: 0.5633\n",
      "Epoch [60/150], Loss: 0.5878\n",
      "Epoch [60/150], Train Loss: 0.5878, Val Loss: 0.5637\n",
      "Epoch [61/150], Loss: 0.5881\n",
      "Epoch [61/150], Train Loss: 0.5881, Val Loss: 0.5639\n",
      "Epoch [62/150], Loss: 0.5875\n",
      "Epoch [62/150], Train Loss: 0.5875, Val Loss: 0.5630\n",
      "Epoch [63/150], Loss: 0.5865\n",
      "Epoch [63/150], Train Loss: 0.5865, Val Loss: 0.5631\n",
      "Epoch [64/150], Loss: 0.5848\n",
      "Epoch [64/150], Train Loss: 0.5848, Val Loss: 0.5631\n",
      "Epoch [65/150], Loss: 0.5918\n",
      "Epoch [65/150], Train Loss: 0.5918, Val Loss: 0.5632\n",
      "Epoch [66/150], Loss: 0.5848\n",
      "Epoch [66/150], Train Loss: 0.5848, Val Loss: 0.5632\n",
      "Epoch [67/150], Loss: 0.5902\n",
      "Epoch [67/150], Train Loss: 0.5902, Val Loss: 0.5632\n",
      "Epoch [68/150], Loss: 0.5836\n",
      "Epoch [68/150], Train Loss: 0.5836, Val Loss: 0.5626\n",
      "Epoch [69/150], Loss: 0.5862\n",
      "Epoch [69/150], Train Loss: 0.5862, Val Loss: 0.5645\n",
      "Epoch [70/150], Loss: 0.5893\n",
      "Epoch [70/150], Train Loss: 0.5893, Val Loss: 0.5631\n",
      "Epoch [71/150], Loss: 0.5804\n",
      "Epoch [71/150], Train Loss: 0.5804, Val Loss: 0.5634\n",
      "Epoch [72/150], Loss: 0.5830\n",
      "Epoch [72/150], Train Loss: 0.5830, Val Loss: 0.5629\n",
      "Epoch [73/150], Loss: 0.5854\n",
      "Epoch [73/150], Train Loss: 0.5854, Val Loss: 0.5629\n",
      "Epoch [74/150], Loss: 0.5833\n",
      "Epoch [74/150], Train Loss: 0.5833, Val Loss: 0.5628\n",
      "Epoch [75/150], Loss: 0.5795\n",
      "Epoch [75/150], Train Loss: 0.5795, Val Loss: 0.5641\n",
      "Epoch [76/150], Loss: 0.5874\n",
      "Epoch [76/150], Train Loss: 0.5874, Val Loss: 0.5627\n",
      "Epoch [77/150], Loss: 0.5815\n",
      "Epoch [77/150], Train Loss: 0.5815, Val Loss: 0.5617\n",
      "Epoch [78/150], Loss: 0.5839\n",
      "Epoch [78/150], Train Loss: 0.5839, Val Loss: 0.5628\n",
      "Epoch [79/150], Loss: 0.5784\n",
      "Epoch [79/150], Train Loss: 0.5784, Val Loss: 0.5633\n",
      "Epoch [80/150], Loss: 0.5832\n",
      "Epoch [80/150], Train Loss: 0.5832, Val Loss: 0.5626\n",
      "Epoch [81/150], Loss: 0.5857\n",
      "Epoch [81/150], Train Loss: 0.5857, Val Loss: 0.5625\n",
      "Epoch [82/150], Loss: 0.5806\n",
      "Epoch [82/150], Train Loss: 0.5806, Val Loss: 0.5624\n",
      "Epoch [83/150], Loss: 0.5782\n",
      "Epoch [83/150], Train Loss: 0.5782, Val Loss: 0.5631\n",
      "Epoch [84/150], Loss: 0.5801\n",
      "Epoch [84/150], Train Loss: 0.5801, Val Loss: 0.5627\n",
      "Epoch [85/150], Loss: 0.5792\n",
      "Epoch [85/150], Train Loss: 0.5792, Val Loss: 0.5626\n",
      "Epoch [86/150], Loss: 0.5817\n",
      "Epoch [86/150], Train Loss: 0.5817, Val Loss: 0.5628\n",
      "Epoch [87/150], Loss: 0.5749\n",
      "Epoch [87/150], Train Loss: 0.5749, Val Loss: 0.5623\n",
      "Epoch [88/150], Loss: 0.5795\n",
      "Epoch [88/150], Train Loss: 0.5795, Val Loss: 0.5628\n",
      "Epoch [89/150], Loss: 0.5795\n",
      "Epoch [89/150], Train Loss: 0.5795, Val Loss: 0.5627\n",
      "Epoch [90/150], Loss: 0.5774\n",
      "Epoch [90/150], Train Loss: 0.5774, Val Loss: 0.5621\n",
      "Epoch [91/150], Loss: 0.5772\n",
      "Epoch [91/150], Train Loss: 0.5772, Val Loss: 0.5631\n",
      "Epoch [92/150], Loss: 0.5744\n",
      "Epoch [92/150], Train Loss: 0.5744, Val Loss: 0.5621\n",
      "Epoch [93/150], Loss: 0.5721\n",
      "Epoch [93/150], Train Loss: 0.5721, Val Loss: 0.5613\n",
      "Epoch [94/150], Loss: 0.5771\n",
      "Epoch [94/150], Train Loss: 0.5771, Val Loss: 0.5617\n",
      "Epoch [95/150], Loss: 0.5767\n",
      "Epoch [95/150], Train Loss: 0.5767, Val Loss: 0.5628\n",
      "Epoch [96/150], Loss: 0.5771\n",
      "Epoch [96/150], Train Loss: 0.5771, Val Loss: 0.5614\n",
      "Epoch [97/150], Loss: 0.5761\n",
      "Epoch [97/150], Train Loss: 0.5761, Val Loss: 0.5618\n",
      "Epoch [98/150], Loss: 0.5761\n",
      "Epoch [98/150], Train Loss: 0.5761, Val Loss: 0.5621\n",
      "Epoch [99/150], Loss: 0.5777\n",
      "Epoch [99/150], Train Loss: 0.5777, Val Loss: 0.5622\n",
      "Epoch [100/150], Loss: 0.5776\n",
      "Epoch [100/150], Train Loss: 0.5776, Val Loss: 0.5613\n",
      "Epoch [101/150], Loss: 0.5739\n",
      "Epoch [101/150], Train Loss: 0.5739, Val Loss: 0.5616\n",
      "Epoch [102/150], Loss: 0.5780\n",
      "Epoch [102/150], Train Loss: 0.5780, Val Loss: 0.5618\n",
      "Epoch [103/150], Loss: 0.5766\n",
      "Epoch [103/150], Train Loss: 0.5766, Val Loss: 0.5626\n",
      "Epoch [104/150], Loss: 0.5725\n",
      "Epoch [104/150], Train Loss: 0.5725, Val Loss: 0.5620\n",
      "Epoch [105/150], Loss: 0.5752\n",
      "Epoch [105/150], Train Loss: 0.5752, Val Loss: 0.5623\n",
      "Epoch [106/150], Loss: 0.5735\n",
      "Epoch [106/150], Train Loss: 0.5735, Val Loss: 0.5614\n",
      "Epoch [107/150], Loss: 0.5714\n",
      "Epoch [107/150], Train Loss: 0.5714, Val Loss: 0.5627\n",
      "Epoch [108/150], Loss: 0.5777\n",
      "Epoch [108/150], Train Loss: 0.5777, Val Loss: 0.5618\n",
      "Epoch [109/150], Loss: 0.5761\n",
      "Epoch [109/150], Train Loss: 0.5761, Val Loss: 0.5625\n",
      "Epoch [110/150], Loss: 0.5770\n",
      "Epoch [110/150], Train Loss: 0.5770, Val Loss: 0.5623\n",
      "Epoch [111/150], Loss: 0.5723\n",
      "Epoch [111/150], Train Loss: 0.5723, Val Loss: 0.5637\n",
      "Epoch [112/150], Loss: 0.5726\n",
      "Epoch [112/150], Train Loss: 0.5726, Val Loss: 0.5629\n",
      "Epoch [113/150], Loss: 0.5717\n",
      "Epoch [113/150], Train Loss: 0.5717, Val Loss: 0.5635\n",
      "Epoch [114/150], Loss: 0.5690\n",
      "Epoch [114/150], Train Loss: 0.5690, Val Loss: 0.5639\n",
      "Epoch [115/150], Loss: 0.5731\n",
      "Epoch [115/150], Train Loss: 0.5731, Val Loss: 0.5640\n",
      "Epoch [116/150], Loss: 0.5693\n",
      "Epoch [116/150], Train Loss: 0.5693, Val Loss: 0.5632\n",
      "Epoch [117/150], Loss: 0.5718\n",
      "Epoch [117/150], Train Loss: 0.5718, Val Loss: 0.5636\n",
      "Epoch [118/150], Loss: 0.5712\n",
      "Epoch [118/150], Train Loss: 0.5712, Val Loss: 0.5634\n",
      "Epoch [119/150], Loss: 0.5722\n",
      "Epoch [119/150], Train Loss: 0.5722, Val Loss: 0.5638\n",
      "Epoch [120/150], Loss: 0.5686\n",
      "Epoch [120/150], Train Loss: 0.5686, Val Loss: 0.5639\n",
      "Epoch [121/150], Loss: 0.5663\n",
      "Epoch [121/150], Train Loss: 0.5663, Val Loss: 0.5635\n",
      "Epoch [122/150], Loss: 0.5674\n",
      "Epoch [122/150], Train Loss: 0.5674, Val Loss: 0.5636\n",
      "Epoch [123/150], Loss: 0.5648\n",
      "Epoch [123/150], Train Loss: 0.5648, Val Loss: 0.5637\n",
      "Epoch [124/150], Loss: 0.5672\n",
      "Epoch [124/150], Train Loss: 0.5672, Val Loss: 0.5647\n",
      "Epoch [125/150], Loss: 0.5694\n",
      "Epoch [125/150], Train Loss: 0.5694, Val Loss: 0.5642\n",
      "Epoch [126/150], Loss: 0.5714\n",
      "Epoch [126/150], Train Loss: 0.5714, Val Loss: 0.5647\n",
      "Epoch [127/150], Loss: 0.5680\n",
      "Epoch [127/150], Train Loss: 0.5680, Val Loss: 0.5655\n",
      "Epoch [128/150], Loss: 0.5708\n",
      "Epoch [128/150], Train Loss: 0.5708, Val Loss: 0.5657\n",
      "Epoch [129/150], Loss: 0.5708\n",
      "Epoch [129/150], Train Loss: 0.5708, Val Loss: 0.5659\n",
      "Epoch [130/150], Loss: 0.5659\n",
      "Epoch [130/150], Train Loss: 0.5659, Val Loss: 0.5671\n",
      "Epoch [131/150], Loss: 0.5691\n",
      "Epoch [131/150], Train Loss: 0.5691, Val Loss: 0.5673\n",
      "Epoch [132/150], Loss: 0.5680\n",
      "Epoch [132/150], Train Loss: 0.5680, Val Loss: 0.5672\n",
      "Epoch [133/150], Loss: 0.5646\n",
      "Epoch [133/150], Train Loss: 0.5646, Val Loss: 0.5664\n",
      "Epoch [134/150], Loss: 0.5655\n",
      "Epoch [134/150], Train Loss: 0.5655, Val Loss: 0.5668\n",
      "Epoch [135/150], Loss: 0.5664\n",
      "Epoch [135/150], Train Loss: 0.5664, Val Loss: 0.5664\n",
      "Epoch [136/150], Loss: 0.5636\n",
      "Epoch [136/150], Train Loss: 0.5636, Val Loss: 0.5673\n",
      "Epoch [137/150], Loss: 0.5664\n",
      "Epoch [137/150], Train Loss: 0.5664, Val Loss: 0.5667\n",
      "Epoch [138/150], Loss: 0.5687\n",
      "Epoch [138/150], Train Loss: 0.5687, Val Loss: 0.5665\n",
      "Epoch [139/150], Loss: 0.5664\n",
      "Epoch [139/150], Train Loss: 0.5664, Val Loss: 0.5664\n",
      "Epoch [140/150], Loss: 0.5627\n",
      "Epoch [140/150], Train Loss: 0.5627, Val Loss: 0.5670\n",
      "Epoch [141/150], Loss: 0.5629\n",
      "Epoch [141/150], Train Loss: 0.5629, Val Loss: 0.5672\n",
      "Epoch [142/150], Loss: 0.5645\n",
      "Epoch [142/150], Train Loss: 0.5645, Val Loss: 0.5674\n",
      "Epoch [143/150], Loss: 0.5631\n",
      "Epoch [143/150], Train Loss: 0.5631, Val Loss: 0.5672\n",
      "Epoch [144/150], Loss: 0.5643\n",
      "Epoch [144/150], Train Loss: 0.5643, Val Loss: 0.5677\n",
      "Epoch [145/150], Loss: 0.5639\n",
      "Epoch [145/150], Train Loss: 0.5639, Val Loss: 0.5688\n",
      "Epoch [146/150], Loss: 0.5701\n",
      "Epoch [146/150], Train Loss: 0.5701, Val Loss: 0.5681\n",
      "Epoch [147/150], Loss: 0.5616\n",
      "Epoch [147/150], Train Loss: 0.5616, Val Loss: 0.5676\n",
      "Epoch [148/150], Loss: 0.5639\n",
      "Epoch [148/150], Train Loss: 0.5639, Val Loss: 0.5686\n",
      "Epoch [149/150], Loss: 0.5603\n",
      "Epoch [149/150], Train Loss: 0.5603, Val Loss: 0.5676\n",
      "Epoch [150/150], Loss: 0.5713\n",
      "Epoch [150/150], Train Loss: 0.5713, Val Loss: 0.5674\n"
     ]
    },
    {
     "data": {
      "image/png": "[encoded data removed]",
      "text/plain": [
       "<Figure size 1000x600 with 1 Axes>"
      ]
     },
     "metadata": {},
     "output_type": "display_data"
    }
   ],
   "source": [
    "best_params=study.best_params\n",
    "model = ResNetBinaryClassifier(input_dim=X_train_tensor.shape[1],num_blocks=best_params[\"num_blocks\"],hidden_dim=best_params[\"hidden_dim\"],dropout1=best_params[\"dropout1\"],dropout2=best_params[\"dropout2\"]).to(device)\n",
    "\n",
    "# 最適化と訓練を実行\n",
    "optimizer = optim.Adam(model.parameters(), lr=best_params[\"learning_rate\"],weight_decay=best_params[\"weight_decay\"])\n",
    "criterion = nn.BCELoss()\n",
    "\n",
    "num_epochs=150\n",
    "train_losses = []\n",
    "val_losses = []\n",
    "\n",
    "model.train()\n",
    "for epoch in range(num_epochs):\n",
    "    epoch_train_loss = 0\n",
    "    epoch_val_loss = 0\n",
    "\n",
    "    for X_batch, y_batch in train_loader:\n",
    "        X_batch, y_batch = X_batch.to(device), y_batch.to(device)\n",
    "        optimizer.zero_grad()\n",
    "        outputs = model(X_batch).squeeze()\n",
    "        loss = criterion(outputs, y_batch.squeeze())\n",
    "        loss.backward()\n",
    "        optimizer.step()\n",
    "        epoch_train_loss += loss.item()\n",
    "    avg_train_loss = epoch_train_loss / len(train_loader)\n",
    "    train_losses.append(avg_train_loss)\n",
    "    print(f'Epoch [{epoch+1}/{num_epochs}], Loss: {avg_train_loss:.4f}')\n",
    "\n",
    "    if val_loader is not None:\n",
    "        model.eval()  \n",
    "        with torch.no_grad():\n",
    "            for X_val, y_val in val_loader:\n",
    "                X_val, y_val = X_val.to(device), y_val.to(device)\n",
    "                val_outputs = model(X_val).squeeze()\n",
    "                val_loss = criterion(val_outputs, y_val.squeeze())\n",
    "                epoch_val_loss += val_loss.item()\n",
    "\n",
    "        avg_val_loss = epoch_val_loss / len(val_loader)\n",
    "        val_losses.append(avg_val_loss)\n",
    "        model.train()  \n",
    "\n",
    "    if val_loader is not None:\n",
    "        print(f\"Epoch [{epoch+1}/{num_epochs}], Train Loss: {avg_train_loss:.4f}, Val Loss: {avg_val_loss:.4f}\")\n",
    "    else:\n",
    "        print(f\"Epoch [{epoch+1}/{num_epochs}], Train Loss: {avg_train_loss:.4f}\")\n",
    "\n",
    "plt.figure(figsize=(10, 6))\n",
    "plt.plot(range(1, num_epochs + 1), train_losses, label='Train Loss')\n",
    "if val_losses:\n",
    "    plt.plot(range(1, num_epochs + 1), val_losses, label='Validation Loss')\n",
    "plt.xlabel('Epoch')\n",
    "plt.ylabel('Loss')\n",
    "plt.title('Learning Curve for ResNet')\n",
    "plt.legend()\n",
    "plt.grid()\n",
    "plt.show()"
   ]
  },
  {
   "cell_type": "code",
   "execution_count": 16,
   "metadata": {},
   "outputs": [
    {
     "name": "stdout",
     "output_type": "stream",
     "text": [
      "Accuracy: 62.30%\n",
      "Precision: 0.4947\n",
      "Recall: 0.5657\n",
      "F1 Score: 0.5278\n",
      "Matthews Correlation Coefficient: 0.2178\n",
      "Specificity: 0.6570\n"
     ]
    },
    {
     "data": {
      "image/png": "[encoded data removed]",
      "text/plain": [
       "<Figure size 640x480 with 1 Axes>"
      ]
     },
     "metadata": {},
     "output_type": "display_data"
    },
    {
     "data": {
      "image/png": "[encoded data removed]",
      "text/plain": [
       "<Figure size 640x480 with 1 Axes>"
      ]
     },
     "metadata": {},
     "output_type": "display_data"
    },
    {
     "data": {
      "image/png": "[encoded data removed]",
      "text/plain": [
       "<Figure size 640x480 with 1 Axes>"
      ]
     },
     "metadata": {},
     "output_type": "display_data"
    }
   ],
   "source": [
    "model.eval()\n",
    "with torch.no_grad():\n",
    "    X_test_tensor = X_test_tensor.to(device)\n",
    "    y_test_tensor = y_test_tensor.to(device)\n",
    "\n",
    "    # 予測と確率\n",
    "    test_outputs = model(X_test_tensor).squeeze()\n",
    "    predictions = (test_outputs >=0.5).float()\n",
    "    y_true = y_test_tensor.cpu().numpy()\n",
    "    y_pred = predictions.cpu().numpy()\n",
    "    y_prob = test_outputs.cpu().numpy()\n",
    "\n",
    "# 評価指標\n",
    "    accuracy = accuracy_score(y_true, y_pred)\n",
    "    precision = precision_score(y_true, y_pred)\n",
    "    recall = recall_score(y_true, y_pred)\n",
    "    f1 = f1_score(y_true, y_pred)\n",
    "    mcc = matthews_corrcoef(y_true, y_pred)\n",
    "    specificity = recall_score(y_true, y_pred, pos_label=0)  \n",
    "    print(f'Accuracy: {accuracy * 100:.2f}%')\n",
    "    print(f'Precision: {precision:.4f}')\n",
    "    print(f'Recall: {recall:.4f}')\n",
    "    print(f'F1 Score: {f1:.4f}')\n",
    "    print(f'Matthews Correlation Coefficient: {mcc:.4f}')\n",
    "    print(f'Specificity: {specificity:.4f}')\n",
    "\n",
    "    # 混同行列（割合表示）\n",
    "    cm = confusion_matrix(y_true, y_pred, normalize='true')\n",
    "    sns.heatmap(cm, annot=True, fmt=\".2%\", cmap=\"Blues\", cbar=False)\n",
    "    plt.xlabel(\"Predicted\")\n",
    "    plt.ylabel(\"Actual\")\n",
    "    plt.title(f\"Confusion Matrix (Normalized)\")\n",
    "    plt.show()\n",
    "\n",
    "    # ROC曲線とAUC\n",
    "    fpr, tpr, thresholds = roc_curve(y_true, y_prob)\n",
    "    roc_auc = auc(fpr, tpr)\n",
    "    plt.plot(fpr, tpr, label=f'ROC curve (AUC = {roc_auc:.2f})')\n",
    "    plt.plot([0, 1], [0, 1], 'k--') \n",
    "    plt.xlabel('False Positive Rate')\n",
    "    plt.ylabel('True Positive Rate')\n",
    "    plt.title(f'ROC Curve - Model ')\n",
    "    plt.legend(loc=\"lower right\")\n",
    "    plt.show()\n",
    "\n",
    "    # Precision-Recall曲線\n",
    "    precision_curve, recall_curve, pr_thresholds = precision_recall_curve(y_true, y_prob)\n",
    "    pr_auc = auc(recall_curve, precision_curve)\n",
    "    plt.plot(recall_curve, precision_curve, label=f'PR curve (AUC = {pr_auc:.2f})')\n",
    "    plt.xlabel('Recall')\n",
    "    plt.ylabel('Precision')\n",
    "    plt.title(f'Precision-Recall Curve ')\n",
    "    plt.legend(loc=\"lower left\")\n",
    "    plt.show()    "
   ]
  },
  {
   "cell_type": "code",
   "execution_count": 17,
   "metadata": {},
   "outputs": [],
   "source": [
    "torch.save(model.state_dict(), 'model_params/ResNet.pth')\n",
    "\n"
   ]
  },
  {
   "cell_type": "code",
   "execution_count": 12,
   "metadata": {},
   "outputs": [
    {
     "name": "stdout",
     "output_type": "stream",
     "text": [
      "----------------------------------------------------------------\n",
      "        Layer (type)               Output Shape         Param #\n",
      "================================================================\n",
      "            Linear-1                   [-1, 64]           1,920\n",
      "       BatchNorm1d-2                   [-1, 64]             128\n",
      "           Dropout-3                   [-1, 64]               0\n",
      "            Linear-4                   [-1, 29]           1,885\n",
      "       BatchNorm1d-5                   [-1, 29]              58\n",
      "           Dropout-6                   [-1, 29]               0\n",
      "     ResidualBlock-7                   [-1, 29]               0\n",
      "            Linear-8                   [-1, 64]           1,920\n",
      "       BatchNorm1d-9                   [-1, 64]             128\n",
      "          Dropout-10                   [-1, 64]               0\n",
      "           Linear-11                   [-1, 29]           1,885\n",
      "      BatchNorm1d-12                   [-1, 29]              58\n",
      "          Dropout-13                   [-1, 29]               0\n",
      "    ResidualBlock-14                   [-1, 29]               0\n",
      "           Linear-15                   [-1, 64]           1,920\n",
      "      BatchNorm1d-16                   [-1, 64]             128\n",
      "          Dropout-17                   [-1, 64]               0\n",
      "           Linear-18                   [-1, 29]           1,885\n",
      "      BatchNorm1d-19                   [-1, 29]              58\n",
      "          Dropout-20                   [-1, 29]               0\n",
      "    ResidualBlock-21                   [-1, 29]               0\n",
      "           Linear-22                    [-1, 1]              30\n",
      "================================================================\n",
      "Total params: 12,003\n",
      "Trainable params: 12,003\n",
      "Non-trainable params: 0\n",
      "----------------------------------------------------------------\n",
      "Input size (MB): 0.00\n",
      "Forward/backward pass size (MB): 0.01\n",
      "Params size (MB): 0.05\n",
      "Estimated Total Size (MB): 0.05\n",
      "----------------------------------------------------------------\n"
     ]
    }
   ],
   "source": [
    "from torchsummary import summary\n",
    "summary(model, input_size=(X_train_tensor.shape[1],))"
   ]
  },
  {
   "cell_type": "code",
   "execution_count": null,
   "metadata": {},
   "outputs": [],
   "source": []
  }
 ],
 "metadata": {
  "kernelspec": {
   "display_name": "torch",
   "language": "python",
   "name": "python3"
  },
  "language_info": {
   "codemirror_mode": {
    "name": "ipython",
    "version": 3
   },
   "file_extension": ".py",
   "mimetype": "text/x-python",
   "name": "python",
   "nbconvert_exporter": "python",
   "pygments_lexer": "ipython3",
   "version": "3.12.7"
  }
 },
 "nbformat": 4,
 "nbformat_minor": 2
}
