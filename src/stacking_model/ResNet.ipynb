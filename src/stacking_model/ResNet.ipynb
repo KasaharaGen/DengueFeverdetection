{
 "cells": [
  {
   "cell_type": "code",
   "execution_count": 13,
   "metadata": {},
   "outputs": [],
   "source": [
    "import torch\n",
    "import torch.nn as nn\n",
    "import torch.nn.functional as F\n",
    "import torch.optim as optim\n",
    "import numpy as np\n",
    "import json\n",
    "\n",
    "from sklearn.preprocessing import MinMaxScaler, StandardScaler\n",
    "from sklearn.decomposition import PCA\n",
    "from sklearn.manifold import TSNE\n",
    "from sklearn.cluster import KMeans\n",
    "from scipy.spatial.distance import cdist\n",
    "\n",
    "import optuna\n",
    "\n",
    "import pandas as pd\n",
    "import matplotlib.pyplot as plt\n",
    "import seaborn as sns\n",
    "\n",
    "from sklearn.model_selection import train_test_split\n",
    "from sklearn.metrics import confusion_matrix,accuracy_score, precision_score, recall_score, f1_score, confusion_matrix, roc_curve, auc,matthews_corrcoef, precision_recall_curve,roc_auc_score\n",
    "\n",
    "\n"
   ]
  },
  {
   "cell_type": "code",
   "execution_count": 14,
   "metadata": {},
   "outputs": [],
   "source": [
    "class ResidualBlock(nn.Module):\n",
    "    def __init__(self, input_dim, hidden_dim,dropout1,dropout2):\n",
    "        super(ResidualBlock, self).__init__()\n",
    "        self.fc1 = nn.Linear(input_dim, hidden_dim)\n",
    "        self.bn1 = nn.BatchNorm1d(hidden_dim)\n",
    "        self.dropout1=nn.Dropout(dropout1)\n",
    "        \n",
    "        self.fc2 = nn.Linear(hidden_dim, input_dim)\n",
    "        self.bn2 = nn.BatchNorm1d(input_dim)\n",
    "        self.dropout2=nn.Dropout(dropout2)\n",
    "\n",
    "    def forward(self, x):\n",
    "        residual = x  # 入力を保存 (ショートカット)\n",
    "        out = torch.relu(self.bn1(self.fc1(x)))\n",
    "        out=self.dropout1(out)\n",
    "\n",
    "        out = self.bn2(self.fc2(out))\n",
    "        out=self.dropout2(out)\n",
    "\n",
    "        out += residual  # ショートカット接続\n",
    "        return torch.relu(out)\n"
   ]
  },
  {
   "cell_type": "code",
   "execution_count": 15,
   "metadata": {},
   "outputs": [],
   "source": [
    "class ResNetBinaryClassifier(nn.Module):\n",
    "    def __init__(self, input_dim, num_blocks, hidden_dim, dropout1, dropout2):\n",
    "        super(ResNetBinaryClassifier, self).__init__()\n",
    "        self.blocks = nn.Sequential(\n",
    "            *[ResidualBlock(input_dim, hidden_dim, dropout1, dropout2) for _ in range(num_blocks)]\n",
    "        )\n",
    "        self.output_layer = nn.Linear(input_dim, 1)  # 出力層\n",
    "\n",
    "    def forward(self, x):\n",
    "        x = self.blocks(x)\n",
    "        x = torch.sigmoid(self.output_layer(x))  # 2値分類用シグモイド\n",
    "        return x"
   ]
  },
  {
   "cell_type": "code",
   "execution_count": 16,
   "metadata": {},
   "outputs": [],
   "source": [
    "df=pd.read_csv('learning_data.csv',index_col=0)\n",
    "\n",
    "X=df.drop(columns='dengue',axis=1).values\n",
    "y=df['dengue'].values\n",
    "\n",
    "X_train, X_test, y_train, y_test = train_test_split(X, y, test_size=0.2,random_state=42)\n",
    "X_train, X_val, y_train, y_val = train_test_split(X_train, y_train, test_size=0.1,random_state=42)\n",
    "\n",
    "#torchテンソルに変換\n",
    "X_train_tensor = torch.tensor(X_train, dtype=torch.float32)\n",
    "y_train_tensor = torch.tensor(y_train, dtype=torch.float32)\n",
    "X_test_tensor = torch.tensor(X_test, dtype=torch.float32)\n",
    "y_test_tensor = torch.tensor(y_test, dtype=torch.float32)\n",
    "X_val_tensor = torch.tensor(X_val, dtype=torch.float32)\n",
    "y_val_tensor = torch.tensor(y_val, dtype=torch.float32)\n"
   ]
  },
  {
   "cell_type": "code",
   "execution_count": 17,
   "metadata": {},
   "outputs": [],
   "source": [
    "train_dataset = torch.utils.data.TensorDataset(X_train_tensor, y_train_tensor)\n",
    "train_loader = torch.utils.data.DataLoader(dataset=train_dataset, batch_size=128, shuffle=True)\n",
    "\n",
    "val_dataset = torch.utils.data.TensorDataset(X_val_tensor, y_val_tensor)\n",
    "val_loader = torch.utils.data.DataLoader(dataset=val_dataset, batch_size=128, shuffle=False)"
   ]
  },
  {
   "cell_type": "code",
   "execution_count": 18,
   "metadata": {},
   "outputs": [],
   "source": [
    "def objective(trial):\n",
    "    # ハイパーパラメータのサンプリング\n",
    "    hidden_dim=trial.suggest_categorical(\"hidden_dim\",[64,128,256])\n",
    "    num_blocks=trial.suggest_categorical(\"num_blocks\",[3,4,5])\n",
    "    dropout1 = trial.suggest_float(\"dropout1\", 0, 0.5, step=0.05)\n",
    "    dropout2 = trial.suggest_float(\"dropout2\", 0, 0.5, step=0.05)\n",
    "    learning_rate = trial.suggest_loguniform(\"learning_rate\", 1e-4, 1e-1)  \n",
    "    weight_decay = trial.suggest_loguniform(\"weight_decay\", 1e-5, 1e-1)   \n",
    "\n",
    "    # モデルの定義\n",
    "    model = ResNetBinaryClassifier(\n",
    "        input_dim=X_train_tensor.shape[1],\n",
    "        num_blocks=num_blocks,\n",
    "        hidden_dim=hidden_dim,\n",
    "        dropout1=dropout1,\n",
    "        dropout2=dropout2\n",
    "    ).to(device)\n",
    "\n",
    "    criterion = nn.BCELoss()\n",
    "    optimizer = torch.optim.Adam(model.parameters(), lr=learning_rate, weight_decay=weight_decay)\n",
    "\n",
    "    # Early Stoppingの設定\n",
    "    patience = 10\n",
    "    best_val_loss = float('inf')\n",
    "    patience_counter = 0\n",
    "\n",
    "    # 訓練ループ\n",
    "    num_epochs = 100\n",
    "    for epoch in range(num_epochs):\n",
    "        model.train()\n",
    "        for X_batch, y_batch in train_loader:\n",
    "            X_batch, y_batch = X_batch.to(device), y_batch.to(device)\n",
    "            optimizer.zero_grad()\n",
    "            outputs = model(X_batch).squeeze()\n",
    "            loss = criterion(outputs, y_batch.squeeze())\n",
    "            loss.backward()\n",
    "            optimizer.step()\n",
    "\n",
    "        # バリデーション評価\n",
    "        model.eval()\n",
    "        val_loss = 0\n",
    "        val_true, val_pred = [], []\n",
    "        with torch.no_grad():\n",
    "            for X_val, y_val in val_loader:\n",
    "                X_val, y_val = X_val.to(device), y_val.to(device)\n",
    "                val_outputs = model(X_val).squeeze()\n",
    "                val_loss += criterion(val_outputs, y_val.squeeze()).item()\n",
    "                predictions = (val_outputs >=0.5).float()\n",
    "                val_true.extend(y_val.cpu().numpy())\n",
    "                val_pred.extend(predictions.cpu().numpy())\n",
    "\n",
    "        val_loss /= len(val_loader)\n",
    "\n",
    "        # Early Stoppingの判定\n",
    "        if val_loss < best_val_loss:\n",
    "            best_val_loss = val_loss\n",
    "            patience_counter = 0\n",
    "        else:\n",
    "            patience_counter += 1\n",
    "\n",
    "        if patience_counter >= patience:\n",
    "            print(f\"Early stopping at epoch {epoch}\")\n",
    "            break\n",
    "\n",
    "        # Optunaのプルーニング機能\n",
    "        trial.report(val_loss, epoch)\n",
    "        if trial.should_prune():\n",
    "            raise optuna.exceptions.TrialPruned()\n",
    "\n",
    "    mcc = matthews_corrcoef(val_true, val_pred)\n",
    "    print(f\"Final MCC: {mcc:.4f}\")\n",
    "\n",
    "    return mcc  \n"
   ]
  },
  {
   "cell_type": "code",
   "execution_count": 19,
   "metadata": {},
   "outputs": [
    {
     "name": "stderr",
     "output_type": "stream",
     "text": [
      "[I 2024-12-12 21:01:38,130] A new study created in memory with name: no-name-79ab3df8-8588-4027-8c6a-31b8ad9808e7\n",
      "/tmp/ipykernel_1419760/2074326936.py:7: FutureWarning: suggest_loguniform has been deprecated in v3.0.0. This feature will be removed in v6.0.0. See https://github.com/optuna/optuna/releases/tag/v3.0.0. Use suggest_float(..., log=True) instead.\n",
      "  learning_rate = trial.suggest_loguniform(\"learning_rate\", 1e-4, 1e-1)\n",
      "/tmp/ipykernel_1419760/2074326936.py:8: FutureWarning: suggest_loguniform has been deprecated in v3.0.0. This feature will be removed in v6.0.0. See https://github.com/optuna/optuna/releases/tag/v3.0.0. Use suggest_float(..., log=True) instead.\n",
      "  weight_decay = trial.suggest_loguniform(\"weight_decay\", 1e-5, 1e-1)\n",
      "[I 2024-12-12 21:01:43,786] Trial 0 finished with value: 0.26681413083353966 and parameters: {'hidden_dim': 256, 'num_blocks': 5, 'dropout1': 0.45, 'dropout2': 0.05, 'learning_rate': 0.0005918433855899806, 'weight_decay': 0.009040228295919734}. Best is trial 0 with value: 0.26681413083353966.\n"
     ]
    },
    {
     "name": "stdout",
     "output_type": "stream",
     "text": [
      "Early stopping at epoch 24\n",
      "Final MCC: 0.2668\n"
     ]
    },
    {
     "name": "stderr",
     "output_type": "stream",
     "text": [
      "/tmp/ipykernel_1419760/2074326936.py:7: FutureWarning: suggest_loguniform has been deprecated in v3.0.0. This feature will be removed in v6.0.0. See https://github.com/optuna/optuna/releases/tag/v3.0.0. Use suggest_float(..., log=True) instead.\n",
      "  learning_rate = trial.suggest_loguniform(\"learning_rate\", 1e-4, 1e-1)\n",
      "/tmp/ipykernel_1419760/2074326936.py:8: FutureWarning: suggest_loguniform has been deprecated in v3.0.0. This feature will be removed in v6.0.0. See https://github.com/optuna/optuna/releases/tag/v3.0.0. Use suggest_float(..., log=True) instead.\n",
      "  weight_decay = trial.suggest_loguniform(\"weight_decay\", 1e-5, 1e-1)\n",
      "[I 2024-12-12 21:01:46,782] Trial 1 finished with value: 0.2994352830433584 and parameters: {'hidden_dim': 256, 'num_blocks': 3, 'dropout1': 0.25, 'dropout2': 0.1, 'learning_rate': 0.0471805609829078, 'weight_decay': 8.253438967132516e-05}. Best is trial 1 with value: 0.2994352830433584.\n"
     ]
    },
    {
     "name": "stdout",
     "output_type": "stream",
     "text": [
      "Early stopping at epoch 17\n",
      "Final MCC: 0.2994\n"
     ]
    },
    {
     "name": "stderr",
     "output_type": "stream",
     "text": [
      "/tmp/ipykernel_1419760/2074326936.py:7: FutureWarning: suggest_loguniform has been deprecated in v3.0.0. This feature will be removed in v6.0.0. See https://github.com/optuna/optuna/releases/tag/v3.0.0. Use suggest_float(..., log=True) instead.\n",
      "  learning_rate = trial.suggest_loguniform(\"learning_rate\", 1e-4, 1e-1)\n",
      "/tmp/ipykernel_1419760/2074326936.py:8: FutureWarning: suggest_loguniform has been deprecated in v3.0.0. This feature will be removed in v6.0.0. See https://github.com/optuna/optuna/releases/tag/v3.0.0. Use suggest_float(..., log=True) instead.\n",
      "  weight_decay = trial.suggest_loguniform(\"weight_decay\", 1e-5, 1e-1)\n",
      "[I 2024-12-12 21:01:52,047] Trial 2 finished with value: 0.2244755939415051 and parameters: {'hidden_dim': 128, 'num_blocks': 5, 'dropout1': 0.15000000000000002, 'dropout2': 0.05, 'learning_rate': 0.0005442639229556051, 'weight_decay': 0.023828130713271136}. Best is trial 1 with value: 0.2994352830433584.\n"
     ]
    },
    {
     "name": "stdout",
     "output_type": "stream",
     "text": [
      "Early stopping at epoch 23\n",
      "Final MCC: 0.2245\n"
     ]
    },
    {
     "name": "stderr",
     "output_type": "stream",
     "text": [
      "/tmp/ipykernel_1419760/2074326936.py:7: FutureWarning: suggest_loguniform has been deprecated in v3.0.0. This feature will be removed in v6.0.0. See https://github.com/optuna/optuna/releases/tag/v3.0.0. Use suggest_float(..., log=True) instead.\n",
      "  learning_rate = trial.suggest_loguniform(\"learning_rate\", 1e-4, 1e-1)\n",
      "/tmp/ipykernel_1419760/2074326936.py:8: FutureWarning: suggest_loguniform has been deprecated in v3.0.0. This feature will be removed in v6.0.0. See https://github.com/optuna/optuna/releases/tag/v3.0.0. Use suggest_float(..., log=True) instead.\n",
      "  weight_decay = trial.suggest_loguniform(\"weight_decay\", 1e-5, 1e-1)\n",
      "[I 2024-12-12 21:02:14,447] Trial 3 finished with value: 0.2269285812025616 and parameters: {'hidden_dim': 128, 'num_blocks': 5, 'dropout1': 0.35000000000000003, 'dropout2': 0.25, 'learning_rate': 0.00011133791969358479, 'weight_decay': 0.0015906254761713784}. Best is trial 1 with value: 0.2994352830433584.\n"
     ]
    },
    {
     "name": "stdout",
     "output_type": "stream",
     "text": [
      "Final MCC: 0.2269\n"
     ]
    },
    {
     "name": "stderr",
     "output_type": "stream",
     "text": [
      "/tmp/ipykernel_1419760/2074326936.py:7: FutureWarning: suggest_loguniform has been deprecated in v3.0.0. This feature will be removed in v6.0.0. See https://github.com/optuna/optuna/releases/tag/v3.0.0. Use suggest_float(..., log=True) instead.\n",
      "  learning_rate = trial.suggest_loguniform(\"learning_rate\", 1e-4, 1e-1)\n",
      "/tmp/ipykernel_1419760/2074326936.py:8: FutureWarning: suggest_loguniform has been deprecated in v3.0.0. This feature will be removed in v6.0.0. See https://github.com/optuna/optuna/releases/tag/v3.0.0. Use suggest_float(..., log=True) instead.\n",
      "  weight_decay = trial.suggest_loguniform(\"weight_decay\", 1e-5, 1e-1)\n",
      "[I 2024-12-12 21:02:18,358] Trial 4 finished with value: 0.18998022666296369 and parameters: {'hidden_dim': 256, 'num_blocks': 4, 'dropout1': 0.15000000000000002, 'dropout2': 0.2, 'learning_rate': 0.0007046507331169004, 'weight_decay': 0.023905863517872532}. Best is trial 1 with value: 0.2994352830433584.\n",
      "/tmp/ipykernel_1419760/2074326936.py:7: FutureWarning: suggest_loguniform has been deprecated in v3.0.0. This feature will be removed in v6.0.0. See https://github.com/optuna/optuna/releases/tag/v3.0.0. Use suggest_float(..., log=True) instead.\n",
      "  learning_rate = trial.suggest_loguniform(\"learning_rate\", 1e-4, 1e-1)\n",
      "/tmp/ipykernel_1419760/2074326936.py:8: FutureWarning: suggest_loguniform has been deprecated in v3.0.0. This feature will be removed in v6.0.0. See https://github.com/optuna/optuna/releases/tag/v3.0.0. Use suggest_float(..., log=True) instead.\n",
      "  weight_decay = trial.suggest_loguniform(\"weight_decay\", 1e-5, 1e-1)\n",
      "[I 2024-12-12 21:02:18,523] Trial 5 pruned. \n"
     ]
    },
    {
     "name": "stdout",
     "output_type": "stream",
     "text": [
      "Early stopping at epoch 19\n",
      "Final MCC: 0.1900\n"
     ]
    },
    {
     "name": "stderr",
     "output_type": "stream",
     "text": [
      "[I 2024-12-12 21:02:18,728] Trial 6 pruned. \n",
      "[I 2024-12-12 21:02:27,251] Trial 7 finished with value: 0.30535305915376365 and parameters: {'hidden_dim': 64, 'num_blocks': 5, 'dropout1': 0.2, 'dropout2': 0.5, 'learning_rate': 0.0011183864016925116, 'weight_decay': 8.90770112077375e-05}. Best is trial 7 with value: 0.30535305915376365.\n",
      "/tmp/ipykernel_1419760/2074326936.py:7: FutureWarning: suggest_loguniform has been deprecated in v3.0.0. This feature will be removed in v6.0.0. See https://github.com/optuna/optuna/releases/tag/v3.0.0. Use suggest_float(..., log=True) instead.\n",
      "  learning_rate = trial.suggest_loguniform(\"learning_rate\", 1e-4, 1e-1)\n",
      "/tmp/ipykernel_1419760/2074326936.py:8: FutureWarning: suggest_loguniform has been deprecated in v3.0.0. This feature will be removed in v6.0.0. See https://github.com/optuna/optuna/releases/tag/v3.0.0. Use suggest_float(..., log=True) instead.\n",
      "  weight_decay = trial.suggest_loguniform(\"weight_decay\", 1e-5, 1e-1)\n",
      "[I 2024-12-12 21:02:27,420] Trial 8 pruned. \n"
     ]
    },
    {
     "name": "stdout",
     "output_type": "stream",
     "text": [
      "Early stopping at epoch 37\n",
      "Final MCC: 0.3054\n"
     ]
    },
    {
     "name": "stderr",
     "output_type": "stream",
     "text": [
      "[I 2024-12-12 21:02:27,605] Trial 9 pruned. \n",
      "[I 2024-12-12 21:02:39,049] Trial 10 finished with value: 0.3265053619643415 and parameters: {'hidden_dim': 64, 'num_blocks': 4, 'dropout1': 0.0, 'dropout2': 0.5, 'learning_rate': 0.00016331875290221857, 'weight_decay': 1.1638308548865671e-05}. Best is trial 10 with value: 0.3265053619643415.\n"
     ]
    },
    {
     "name": "stdout",
     "output_type": "stream",
     "text": [
      "Early stopping at epoch 62\n",
      "Final MCC: 0.3265\n"
     ]
    },
    {
     "name": "stderr",
     "output_type": "stream",
     "text": [
      "/tmp/ipykernel_1419760/2074326936.py:7: FutureWarning: suggest_loguniform has been deprecated in v3.0.0. This feature will be removed in v6.0.0. See https://github.com/optuna/optuna/releases/tag/v3.0.0. Use suggest_float(..., log=True) instead.\n",
      "  learning_rate = trial.suggest_loguniform(\"learning_rate\", 1e-4, 1e-1)\n",
      "/tmp/ipykernel_1419760/2074326936.py:8: FutureWarning: suggest_loguniform has been deprecated in v3.0.0. This feature will be removed in v6.0.0. See https://github.com/optuna/optuna/releases/tag/v3.0.0. Use suggest_float(..., log=True) instead.\n",
      "  weight_decay = trial.suggest_loguniform(\"weight_decay\", 1e-5, 1e-1)\n",
      "[I 2024-12-12 21:02:57,285] Trial 11 finished with value: 0.32476190476190475 and parameters: {'hidden_dim': 64, 'num_blocks': 4, 'dropout1': 0.0, 'dropout2': 0.5, 'learning_rate': 0.00010127102412322779, 'weight_decay': 1.067132175396909e-05}. Best is trial 10 with value: 0.3265053619643415.\n"
     ]
    },
    {
     "name": "stdout",
     "output_type": "stream",
     "text": [
      "Final MCC: 0.3248\n"
     ]
    },
    {
     "name": "stderr",
     "output_type": "stream",
     "text": [
      "/tmp/ipykernel_1419760/2074326936.py:7: FutureWarning: suggest_loguniform has been deprecated in v3.0.0. This feature will be removed in v6.0.0. See https://github.com/optuna/optuna/releases/tag/v3.0.0. Use suggest_float(..., log=True) instead.\n",
      "  learning_rate = trial.suggest_loguniform(\"learning_rate\", 1e-4, 1e-1)\n",
      "/tmp/ipykernel_1419760/2074326936.py:8: FutureWarning: suggest_loguniform has been deprecated in v3.0.0. This feature will be removed in v6.0.0. See https://github.com/optuna/optuna/releases/tag/v3.0.0. Use suggest_float(..., log=True) instead.\n",
      "  weight_decay = trial.suggest_loguniform(\"weight_decay\", 1e-5, 1e-1)\n",
      "[I 2024-12-12 21:03:09,950] Trial 12 finished with value: 0.2254109089162614 and parameters: {'hidden_dim': 64, 'num_blocks': 4, 'dropout1': 0.0, 'dropout2': 0.4, 'learning_rate': 0.0001150758360433131, 'weight_decay': 1.2462209056647204e-05}. Best is trial 10 with value: 0.3265053619643415.\n",
      "/tmp/ipykernel_1419760/2074326936.py:7: FutureWarning: suggest_loguniform has been deprecated in v3.0.0. This feature will be removed in v6.0.0. See https://github.com/optuna/optuna/releases/tag/v3.0.0. Use suggest_float(..., log=True) instead.\n",
      "  learning_rate = trial.suggest_loguniform(\"learning_rate\", 1e-4, 1e-1)\n",
      "/tmp/ipykernel_1419760/2074326936.py:8: FutureWarning: suggest_loguniform has been deprecated in v3.0.0. This feature will be removed in v6.0.0. See https://github.com/optuna/optuna/releases/tag/v3.0.0. Use suggest_float(..., log=True) instead.\n",
      "  weight_decay = trial.suggest_loguniform(\"weight_decay\", 1e-5, 1e-1)\n",
      "[I 2024-12-12 21:03:10,121] Trial 13 pruned. \n"
     ]
    },
    {
     "name": "stdout",
     "output_type": "stream",
     "text": [
      "Early stopping at epoch 71\n",
      "Final MCC: 0.2254\n"
     ]
    },
    {
     "name": "stderr",
     "output_type": "stream",
     "text": [
      "[I 2024-12-12 21:03:17,759] Trial 14 finished with value: 0.30023590780442755 and parameters: {'hidden_dim': 64, 'num_blocks': 4, 'dropout1': 0.05, 'dropout2': 0.4, 'learning_rate': 0.0003333613014646995, 'weight_decay': 5.035995232547304e-05}. Best is trial 10 with value: 0.3265053619643415.\n",
      "/tmp/ipykernel_1419760/2074326936.py:7: FutureWarning: suggest_loguniform has been deprecated in v3.0.0. This feature will be removed in v6.0.0. See https://github.com/optuna/optuna/releases/tag/v3.0.0. Use suggest_float(..., log=True) instead.\n",
      "  learning_rate = trial.suggest_loguniform(\"learning_rate\", 1e-4, 1e-1)\n",
      "/tmp/ipykernel_1419760/2074326936.py:8: FutureWarning: suggest_loguniform has been deprecated in v3.0.0. This feature will be removed in v6.0.0. See https://github.com/optuna/optuna/releases/tag/v3.0.0. Use suggest_float(..., log=True) instead.\n",
      "  weight_decay = trial.suggest_loguniform(\"weight_decay\", 1e-5, 1e-1)\n",
      "[I 2024-12-12 21:03:17,937] Trial 15 pruned. \n"
     ]
    },
    {
     "name": "stdout",
     "output_type": "stream",
     "text": [
      "Early stopping at epoch 42\n",
      "Final MCC: 0.3002\n"
     ]
    },
    {
     "name": "stderr",
     "output_type": "stream",
     "text": [
      "[I 2024-12-12 21:03:27,167] Trial 16 finished with value: 0.21345034975240643 and parameters: {'hidden_dim': 64, 'num_blocks': 4, 'dropout1': 0.30000000000000004, 'dropout2': 0.5, 'learning_rate': 0.00023917959296135545, 'weight_decay': 0.09997218454953981}. Best is trial 10 with value: 0.3265053619643415.\n",
      "/tmp/ipykernel_1419760/2074326936.py:7: FutureWarning: suggest_loguniform has been deprecated in v3.0.0. This feature will be removed in v6.0.0. See https://github.com/optuna/optuna/releases/tag/v3.0.0. Use suggest_float(..., log=True) instead.\n",
      "  learning_rate = trial.suggest_loguniform(\"learning_rate\", 1e-4, 1e-1)\n",
      "/tmp/ipykernel_1419760/2074326936.py:8: FutureWarning: suggest_loguniform has been deprecated in v3.0.0. This feature will be removed in v6.0.0. See https://github.com/optuna/optuna/releases/tag/v3.0.0. Use suggest_float(..., log=True) instead.\n",
      "  weight_decay = trial.suggest_loguniform(\"weight_decay\", 1e-5, 1e-1)\n",
      "[I 2024-12-12 21:03:27,353] Trial 17 pruned. \n"
     ]
    },
    {
     "name": "stdout",
     "output_type": "stream",
     "text": [
      "Early stopping at epoch 50\n",
      "Final MCC: 0.2135\n"
     ]
    },
    {
     "name": "stderr",
     "output_type": "stream",
     "text": [
      "[I 2024-12-12 21:03:27,573] Trial 18 pruned. \n",
      "[I 2024-12-12 21:03:34,130] Trial 19 finished with value: 0.18350448042621648 and parameters: {'hidden_dim': 64, 'num_blocks': 4, 'dropout1': 0.1, 'dropout2': 0.2, 'learning_rate': 0.00028634271300538187, 'weight_decay': 1.1982678031309827e-05}. Best is trial 10 with value: 0.3265053619643415.\n"
     ]
    },
    {
     "name": "stdout",
     "output_type": "stream",
     "text": [
      "Early stopping at epoch 35\n",
      "Final MCC: 0.1835\n"
     ]
    },
    {
     "name": "stderr",
     "output_type": "stream",
     "text": [
      "/tmp/ipykernel_1419760/2074326936.py:7: FutureWarning: suggest_loguniform has been deprecated in v3.0.0. This feature will be removed in v6.0.0. See https://github.com/optuna/optuna/releases/tag/v3.0.0. Use suggest_float(..., log=True) instead.\n",
      "  learning_rate = trial.suggest_loguniform(\"learning_rate\", 1e-4, 1e-1)\n",
      "/tmp/ipykernel_1419760/2074326936.py:8: FutureWarning: suggest_loguniform has been deprecated in v3.0.0. This feature will be removed in v6.0.0. See https://github.com/optuna/optuna/releases/tag/v3.0.0. Use suggest_float(..., log=True) instead.\n",
      "  weight_decay = trial.suggest_loguniform(\"weight_decay\", 1e-5, 1e-1)\n",
      "[I 2024-12-12 21:03:34,354] Trial 20 pruned. \n",
      "[I 2024-12-12 21:03:34,578] Trial 21 pruned. \n",
      "[I 2024-12-12 21:03:51,773] Trial 22 finished with value: 0.17252089353322636 and parameters: {'hidden_dim': 64, 'num_blocks': 5, 'dropout1': 0.30000000000000004, 'dropout2': 0.45, 'learning_rate': 0.0004218087588633664, 'weight_decay': 1.0680275173898105e-05}. Best is trial 10 with value: 0.3265053619643415.\n"
     ]
    },
    {
     "name": "stdout",
     "output_type": "stream",
     "text": [
      "Early stopping at epoch 79\n",
      "Final MCC: 0.1725\n"
     ]
    },
    {
     "name": "stderr",
     "output_type": "stream",
     "text": [
      "/tmp/ipykernel_1419760/2074326936.py:7: FutureWarning: suggest_loguniform has been deprecated in v3.0.0. This feature will be removed in v6.0.0. See https://github.com/optuna/optuna/releases/tag/v3.0.0. Use suggest_float(..., log=True) instead.\n",
      "  learning_rate = trial.suggest_loguniform(\"learning_rate\", 1e-4, 1e-1)\n",
      "/tmp/ipykernel_1419760/2074326936.py:8: FutureWarning: suggest_loguniform has been deprecated in v3.0.0. This feature will be removed in v6.0.0. See https://github.com/optuna/optuna/releases/tag/v3.0.0. Use suggest_float(..., log=True) instead.\n",
      "  weight_decay = trial.suggest_loguniform(\"weight_decay\", 1e-5, 1e-1)\n",
      "[I 2024-12-12 21:03:52,015] Trial 23 pruned. \n",
      "[I 2024-12-12 21:03:52,248] Trial 24 pruned. \n",
      "[I 2024-12-12 21:03:52,462] Trial 25 pruned. \n",
      "[I 2024-12-12 21:03:52,691] Trial 26 pruned. \n",
      "[I 2024-12-12 21:03:58,076] Trial 27 finished with value: 0.27877282097486783 and parameters: {'hidden_dim': 64, 'num_blocks': 4, 'dropout1': 0.25, 'dropout2': 0.5, 'learning_rate': 0.00017964898506626263, 'weight_decay': 5.150489289136046e-05}. Best is trial 10 with value: 0.3265053619643415.\n"
     ]
    },
    {
     "name": "stdout",
     "output_type": "stream",
     "text": [
      "Early stopping at epoch 28\n",
      "Final MCC: 0.2788\n"
     ]
    },
    {
     "name": "stderr",
     "output_type": "stream",
     "text": [
      "/tmp/ipykernel_1419760/2074326936.py:7: FutureWarning: suggest_loguniform has been deprecated in v3.0.0. This feature will be removed in v6.0.0. See https://github.com/optuna/optuna/releases/tag/v3.0.0. Use suggest_float(..., log=True) instead.\n",
      "  learning_rate = trial.suggest_loguniform(\"learning_rate\", 1e-4, 1e-1)\n",
      "/tmp/ipykernel_1419760/2074326936.py:8: FutureWarning: suggest_loguniform has been deprecated in v3.0.0. This feature will be removed in v6.0.0. See https://github.com/optuna/optuna/releases/tag/v3.0.0. Use suggest_float(..., log=True) instead.\n",
      "  weight_decay = trial.suggest_loguniform(\"weight_decay\", 1e-5, 1e-1)\n",
      "[I 2024-12-12 21:03:58,286] Trial 28 pruned. \n",
      "[I 2024-12-12 21:03:58,512] Trial 29 pruned. \n",
      "[I 2024-12-12 21:03:58,746] Trial 30 pruned. \n",
      "[I 2024-12-12 21:03:58,955] Trial 31 pruned. \n",
      "[I 2024-12-12 21:03:59,175] Trial 32 pruned. \n",
      "[I 2024-12-12 21:03:59,414] Trial 33 pruned. \n",
      "[I 2024-12-12 21:03:59,655] Trial 34 pruned. \n",
      "[I 2024-12-12 21:04:18,110] Trial 35 finished with value: 0.22355617972145436 and parameters: {'hidden_dim': 128, 'num_blocks': 4, 'dropout1': 0.15000000000000002, 'dropout2': 0.5, 'learning_rate': 0.0001251727570263109, 'weight_decay': 1.01152387583583e-05}. Best is trial 10 with value: 0.3265053619643415.\n"
     ]
    },
    {
     "name": "stdout",
     "output_type": "stream",
     "text": [
      "Final MCC: 0.2236\n"
     ]
    },
    {
     "name": "stderr",
     "output_type": "stream",
     "text": [
      "/tmp/ipykernel_1419760/2074326936.py:7: FutureWarning: suggest_loguniform has been deprecated in v3.0.0. This feature will be removed in v6.0.0. See https://github.com/optuna/optuna/releases/tag/v3.0.0. Use suggest_float(..., log=True) instead.\n",
      "  learning_rate = trial.suggest_loguniform(\"learning_rate\", 1e-4, 1e-1)\n",
      "/tmp/ipykernel_1419760/2074326936.py:8: FutureWarning: suggest_loguniform has been deprecated in v3.0.0. This feature will be removed in v6.0.0. See https://github.com/optuna/optuna/releases/tag/v3.0.0. Use suggest_float(..., log=True) instead.\n",
      "  weight_decay = trial.suggest_loguniform(\"weight_decay\", 1e-5, 1e-1)\n",
      "[I 2024-12-12 21:04:18,351] Trial 36 pruned. \n",
      "[I 2024-12-12 21:04:18,535] Trial 37 pruned. \n",
      "[I 2024-12-12 21:04:18,756] Trial 38 pruned. \n",
      "[I 2024-12-12 21:04:31,652] Trial 39 finished with value: 0.2270934357735348 and parameters: {'hidden_dim': 64, 'num_blocks': 3, 'dropout1': 0.2, 'dropout2': 0.15000000000000002, 'learning_rate': 0.00014543474594943523, 'weight_decay': 0.0004975414821646456}. Best is trial 10 with value: 0.3265053619643415.\n"
     ]
    },
    {
     "name": "stdout",
     "output_type": "stream",
     "text": [
      "Early stopping at epoch 82\n",
      "Final MCC: 0.2271\n"
     ]
    },
    {
     "name": "stderr",
     "output_type": "stream",
     "text": [
      "/tmp/ipykernel_1419760/2074326936.py:7: FutureWarning: suggest_loguniform has been deprecated in v3.0.0. This feature will be removed in v6.0.0. See https://github.com/optuna/optuna/releases/tag/v3.0.0. Use suggest_float(..., log=True) instead.\n",
      "  learning_rate = trial.suggest_loguniform(\"learning_rate\", 1e-4, 1e-1)\n",
      "/tmp/ipykernel_1419760/2074326936.py:8: FutureWarning: suggest_loguniform has been deprecated in v3.0.0. This feature will be removed in v6.0.0. See https://github.com/optuna/optuna/releases/tag/v3.0.0. Use suggest_float(..., log=True) instead.\n",
      "  weight_decay = trial.suggest_loguniform(\"weight_decay\", 1e-5, 1e-1)\n",
      "[I 2024-12-12 21:04:31,903] Trial 40 pruned. \n",
      "[I 2024-12-12 21:04:32,095] Trial 41 pruned. \n",
      "[I 2024-12-12 21:04:32,315] Trial 42 pruned. \n",
      "[I 2024-12-12 21:04:32,499] Trial 43 pruned. \n",
      "[I 2024-12-12 21:04:32,686] Trial 44 pruned. \n",
      "[I 2024-12-12 21:04:32,866] Trial 45 pruned. \n",
      "[I 2024-12-12 21:04:33,076] Trial 46 pruned. \n",
      "[I 2024-12-12 21:04:33,282] Trial 47 pruned. \n",
      "[I 2024-12-12 21:04:48,844] Trial 48 finished with value: 0.21929928561660791 and parameters: {'hidden_dim': 64, 'num_blocks': 3, 'dropout1': 0.2, 'dropout2': 0.4, 'learning_rate': 0.00011652384884852818, 'weight_decay': 3.096480164527201e-05}. Best is trial 10 with value: 0.3265053619643415.\n"
     ]
    },
    {
     "name": "stdout",
     "output_type": "stream",
     "text": [
      "Final MCC: 0.2193\n"
     ]
    },
    {
     "name": "stderr",
     "output_type": "stream",
     "text": [
      "/tmp/ipykernel_1419760/2074326936.py:7: FutureWarning: suggest_loguniform has been deprecated in v3.0.0. This feature will be removed in v6.0.0. See https://github.com/optuna/optuna/releases/tag/v3.0.0. Use suggest_float(..., log=True) instead.\n",
      "  learning_rate = trial.suggest_loguniform(\"learning_rate\", 1e-4, 1e-1)\n",
      "/tmp/ipykernel_1419760/2074326936.py:8: FutureWarning: suggest_loguniform has been deprecated in v3.0.0. This feature will be removed in v6.0.0. See https://github.com/optuna/optuna/releases/tag/v3.0.0. Use suggest_float(..., log=True) instead.\n",
      "  weight_decay = trial.suggest_loguniform(\"weight_decay\", 1e-5, 1e-1)\n",
      "[I 2024-12-12 21:04:49,089] Trial 49 pruned. \n",
      "[I 2024-12-12 21:04:49,323] Trial 50 pruned. \n",
      "[I 2024-12-12 21:04:49,589] Trial 51 pruned. \n",
      "[I 2024-12-12 21:05:08,402] Trial 52 finished with value: 0.3240593575912021 and parameters: {'hidden_dim': 64, 'num_blocks': 4, 'dropout1': 0.30000000000000004, 'dropout2': 0.5, 'learning_rate': 0.00010384521713482633, 'weight_decay': 2.6258984450734424e-05}. Best is trial 10 with value: 0.3265053619643415.\n"
     ]
    },
    {
     "name": "stdout",
     "output_type": "stream",
     "text": [
      "Early stopping at epoch 99\n",
      "Final MCC: 0.3241\n"
     ]
    },
    {
     "name": "stderr",
     "output_type": "stream",
     "text": [
      "/tmp/ipykernel_1419760/2074326936.py:7: FutureWarning: suggest_loguniform has been deprecated in v3.0.0. This feature will be removed in v6.0.0. See https://github.com/optuna/optuna/releases/tag/v3.0.0. Use suggest_float(..., log=True) instead.\n",
      "  learning_rate = trial.suggest_loguniform(\"learning_rate\", 1e-4, 1e-1)\n",
      "/tmp/ipykernel_1419760/2074326936.py:8: FutureWarning: suggest_loguniform has been deprecated in v3.0.0. This feature will be removed in v6.0.0. See https://github.com/optuna/optuna/releases/tag/v3.0.0. Use suggest_float(..., log=True) instead.\n",
      "  weight_decay = trial.suggest_loguniform(\"weight_decay\", 1e-5, 1e-1)\n",
      "[I 2024-12-12 21:05:27,777] Trial 53 finished with value: 0.26285714285714284 and parameters: {'hidden_dim': 64, 'num_blocks': 4, 'dropout1': 0.30000000000000004, 'dropout2': 0.5, 'learning_rate': 0.00011446605184070452, 'weight_decay': 1.4670925096413787e-05}. Best is trial 10 with value: 0.3265053619643415.\n"
     ]
    },
    {
     "name": "stdout",
     "output_type": "stream",
     "text": [
      "Final MCC: 0.2629\n"
     ]
    },
    {
     "name": "stderr",
     "output_type": "stream",
     "text": [
      "/tmp/ipykernel_1419760/2074326936.py:7: FutureWarning: suggest_loguniform has been deprecated in v3.0.0. This feature will be removed in v6.0.0. See https://github.com/optuna/optuna/releases/tag/v3.0.0. Use suggest_float(..., log=True) instead.\n",
      "  learning_rate = trial.suggest_loguniform(\"learning_rate\", 1e-4, 1e-1)\n",
      "/tmp/ipykernel_1419760/2074326936.py:8: FutureWarning: suggest_loguniform has been deprecated in v3.0.0. This feature will be removed in v6.0.0. See https://github.com/optuna/optuna/releases/tag/v3.0.0. Use suggest_float(..., log=True) instead.\n",
      "  weight_decay = trial.suggest_loguniform(\"weight_decay\", 1e-5, 1e-1)\n",
      "[I 2024-12-12 21:05:47,376] Trial 54 finished with value: 0.29061798236548464 and parameters: {'hidden_dim': 64, 'num_blocks': 4, 'dropout1': 0.30000000000000004, 'dropout2': 0.45, 'learning_rate': 0.00031048873054160647, 'weight_decay': 2.5703667047914796e-05}. Best is trial 10 with value: 0.3265053619643415.\n"
     ]
    },
    {
     "name": "stdout",
     "output_type": "stream",
     "text": [
      "Final MCC: 0.2906\n"
     ]
    },
    {
     "name": "stderr",
     "output_type": "stream",
     "text": [
      "/tmp/ipykernel_1419760/2074326936.py:7: FutureWarning: suggest_loguniform has been deprecated in v3.0.0. This feature will be removed in v6.0.0. See https://github.com/optuna/optuna/releases/tag/v3.0.0. Use suggest_float(..., log=True) instead.\n",
      "  learning_rate = trial.suggest_loguniform(\"learning_rate\", 1e-4, 1e-1)\n",
      "/tmp/ipykernel_1419760/2074326936.py:8: FutureWarning: suggest_loguniform has been deprecated in v3.0.0. This feature will be removed in v6.0.0. See https://github.com/optuna/optuna/releases/tag/v3.0.0. Use suggest_float(..., log=True) instead.\n",
      "  weight_decay = trial.suggest_loguniform(\"weight_decay\", 1e-5, 1e-1)\n",
      "[I 2024-12-12 21:05:47,617] Trial 55 pruned. \n",
      "[I 2024-12-12 21:06:11,813] Trial 56 finished with value: 0.2946096069503197 and parameters: {'hidden_dim': 64, 'num_blocks': 5, 'dropout1': 0.35000000000000003, 'dropout2': 0.45, 'learning_rate': 0.00010625069444838867, 'weight_decay': 0.00021433133151450257}. Best is trial 10 with value: 0.3265053619643415.\n"
     ]
    },
    {
     "name": "stdout",
     "output_type": "stream",
     "text": [
      "Final MCC: 0.2946\n"
     ]
    },
    {
     "name": "stderr",
     "output_type": "stream",
     "text": [
      "/tmp/ipykernel_1419760/2074326936.py:7: FutureWarning: suggest_loguniform has been deprecated in v3.0.0. This feature will be removed in v6.0.0. See https://github.com/optuna/optuna/releases/tag/v3.0.0. Use suggest_float(..., log=True) instead.\n",
      "  learning_rate = trial.suggest_loguniform(\"learning_rate\", 1e-4, 1e-1)\n",
      "/tmp/ipykernel_1419760/2074326936.py:8: FutureWarning: suggest_loguniform has been deprecated in v3.0.0. This feature will be removed in v6.0.0. See https://github.com/optuna/optuna/releases/tag/v3.0.0. Use suggest_float(..., log=True) instead.\n",
      "  weight_decay = trial.suggest_loguniform(\"weight_decay\", 1e-5, 1e-1)\n",
      "[I 2024-12-12 21:06:12,076] Trial 57 pruned. \n",
      "[I 2024-12-12 21:06:28,928] Trial 58 finished with value: 0.2901083796939586 and parameters: {'hidden_dim': 64, 'num_blocks': 5, 'dropout1': 0.2, 'dropout2': 0.45, 'learning_rate': 0.0001426918975714013, 'weight_decay': 0.06065255677105681}. Best is trial 10 with value: 0.3265053619643415.\n"
     ]
    },
    {
     "name": "stdout",
     "output_type": "stream",
     "text": [
      "Early stopping at epoch 68\n",
      "Final MCC: 0.2901\n"
     ]
    },
    {
     "name": "stderr",
     "output_type": "stream",
     "text": [
      "/tmp/ipykernel_1419760/2074326936.py:7: FutureWarning: suggest_loguniform has been deprecated in v3.0.0. This feature will be removed in v6.0.0. See https://github.com/optuna/optuna/releases/tag/v3.0.0. Use suggest_float(..., log=True) instead.\n",
      "  learning_rate = trial.suggest_loguniform(\"learning_rate\", 1e-4, 1e-1)\n",
      "/tmp/ipykernel_1419760/2074326936.py:8: FutureWarning: suggest_loguniform has been deprecated in v3.0.0. This feature will be removed in v6.0.0. See https://github.com/optuna/optuna/releases/tag/v3.0.0. Use suggest_float(..., log=True) instead.\n",
      "  weight_decay = trial.suggest_loguniform(\"weight_decay\", 1e-5, 1e-1)\n",
      "[I 2024-12-12 21:06:29,135] Trial 59 pruned. \n",
      "[I 2024-12-12 21:06:29,344] Trial 60 pruned. \n",
      "[I 2024-12-12 21:06:29,598] Trial 61 pruned. \n",
      "[I 2024-12-12 21:06:29,829] Trial 62 pruned. \n",
      "[I 2024-12-12 21:06:30,109] Trial 63 pruned. \n",
      "[I 2024-12-12 21:06:30,378] Trial 64 pruned. \n",
      "[I 2024-12-12 21:06:30,661] Trial 65 pruned. \n",
      "[I 2024-12-12 21:06:48,092] Trial 66 finished with value: 0.3301105465945809 and parameters: {'hidden_dim': 64, 'num_blocks': 4, 'dropout1': 0.35000000000000003, 'dropout2': 0.4, 'learning_rate': 0.0003090280165750253, 'weight_decay': 0.000403495474255714}. Best is trial 66 with value: 0.3301105465945809.\n"
     ]
    },
    {
     "name": "stdout",
     "output_type": "stream",
     "text": [
      "Early stopping at epoch 84\n",
      "Final MCC: 0.3301\n"
     ]
    },
    {
     "name": "stderr",
     "output_type": "stream",
     "text": [
      "/tmp/ipykernel_1419760/2074326936.py:7: FutureWarning: suggest_loguniform has been deprecated in v3.0.0. This feature will be removed in v6.0.0. See https://github.com/optuna/optuna/releases/tag/v3.0.0. Use suggest_float(..., log=True) instead.\n",
      "  learning_rate = trial.suggest_loguniform(\"learning_rate\", 1e-4, 1e-1)\n",
      "/tmp/ipykernel_1419760/2074326936.py:8: FutureWarning: suggest_loguniform has been deprecated in v3.0.0. This feature will be removed in v6.0.0. See https://github.com/optuna/optuna/releases/tag/v3.0.0. Use suggest_float(..., log=True) instead.\n",
      "  weight_decay = trial.suggest_loguniform(\"weight_decay\", 1e-5, 1e-1)\n",
      "[I 2024-12-12 21:06:48,354] Trial 67 pruned. \n",
      "[I 2024-12-12 21:06:48,549] Trial 68 pruned. \n",
      "[I 2024-12-12 21:06:48,760] Trial 69 pruned. \n",
      "[I 2024-12-12 21:06:48,990] Trial 70 pruned. \n",
      "[I 2024-12-12 21:07:09,671] Trial 71 finished with value: 0.292856973836873 and parameters: {'hidden_dim': 64, 'num_blocks': 4, 'dropout1': 0.35000000000000003, 'dropout2': 0.5, 'learning_rate': 0.00013713837737877287, 'weight_decay': 0.00018771001411680604}. Best is trial 66 with value: 0.3301105465945809.\n"
     ]
    },
    {
     "name": "stdout",
     "output_type": "stream",
     "text": [
      "Final MCC: 0.2929\n"
     ]
    },
    {
     "name": "stderr",
     "output_type": "stream",
     "text": [
      "/tmp/ipykernel_1419760/2074326936.py:7: FutureWarning: suggest_loguniform has been deprecated in v3.0.0. This feature will be removed in v6.0.0. See https://github.com/optuna/optuna/releases/tag/v3.0.0. Use suggest_float(..., log=True) instead.\n",
      "  learning_rate = trial.suggest_loguniform(\"learning_rate\", 1e-4, 1e-1)\n",
      "/tmp/ipykernel_1419760/2074326936.py:8: FutureWarning: suggest_loguniform has been deprecated in v3.0.0. This feature will be removed in v6.0.0. See https://github.com/optuna/optuna/releases/tag/v3.0.0. Use suggest_float(..., log=True) instead.\n",
      "  weight_decay = trial.suggest_loguniform(\"weight_decay\", 1e-5, 1e-1)\n",
      "[I 2024-12-12 21:07:09,958] Trial 72 pruned. \n",
      "[I 2024-12-12 21:07:10,200] Trial 73 pruned. \n",
      "[I 2024-12-12 21:07:35,856] Trial 74 finished with value: 0.22955183473683494 and parameters: {'hidden_dim': 64, 'num_blocks': 5, 'dropout1': 0.35000000000000003, 'dropout2': 0.5, 'learning_rate': 0.00027173629881752743, 'weight_decay': 0.00035040887992516303}. Best is trial 66 with value: 0.3301105465945809.\n"
     ]
    },
    {
     "name": "stdout",
     "output_type": "stream",
     "text": [
      "Final MCC: 0.2296\n"
     ]
    },
    {
     "name": "stderr",
     "output_type": "stream",
     "text": [
      "/tmp/ipykernel_1419760/2074326936.py:7: FutureWarning: suggest_loguniform has been deprecated in v3.0.0. This feature will be removed in v6.0.0. See https://github.com/optuna/optuna/releases/tag/v3.0.0. Use suggest_float(..., log=True) instead.\n",
      "  learning_rate = trial.suggest_loguniform(\"learning_rate\", 1e-4, 1e-1)\n",
      "/tmp/ipykernel_1419760/2074326936.py:8: FutureWarning: suggest_loguniform has been deprecated in v3.0.0. This feature will be removed in v6.0.0. See https://github.com/optuna/optuna/releases/tag/v3.0.0. Use suggest_float(..., log=True) instead.\n",
      "  weight_decay = trial.suggest_loguniform(\"weight_decay\", 1e-5, 1e-1)\n",
      "[I 2024-12-12 21:07:36,068] Trial 75 pruned. \n",
      "[I 2024-12-12 21:07:36,341] Trial 76 pruned. \n",
      "[I 2024-12-12 21:07:36,560] Trial 77 pruned. \n",
      "[I 2024-12-12 21:07:52,750] Trial 78 finished with value: 0.27490258014691055 and parameters: {'hidden_dim': 64, 'num_blocks': 5, 'dropout1': 0.05, 'dropout2': 0.4, 'learning_rate': 0.00024192732104208603, 'weight_decay': 2.5272214842769034e-05}. Best is trial 66 with value: 0.3301105465945809.\n",
      "/tmp/ipykernel_1419760/2074326936.py:7: FutureWarning: suggest_loguniform has been deprecated in v3.0.0. This feature will be removed in v6.0.0. See https://github.com/optuna/optuna/releases/tag/v3.0.0. Use suggest_float(..., log=True) instead.\n",
      "  learning_rate = trial.suggest_loguniform(\"learning_rate\", 1e-4, 1e-1)\n",
      "/tmp/ipykernel_1419760/2074326936.py:8: FutureWarning: suggest_loguniform has been deprecated in v3.0.0. This feature will be removed in v6.0.0. See https://github.com/optuna/optuna/releases/tag/v3.0.0. Use suggest_float(..., log=True) instead.\n",
      "  weight_decay = trial.suggest_loguniform(\"weight_decay\", 1e-5, 1e-1)\n",
      "[I 2024-12-12 21:07:52,925] Trial 79 pruned. \n"
     ]
    },
    {
     "name": "stdout",
     "output_type": "stream",
     "text": [
      "Early stopping at epoch 72\n",
      "Final MCC: 0.2749\n"
     ]
    },
    {
     "name": "stderr",
     "output_type": "stream",
     "text": [
      "[I 2024-12-12 21:07:53,188] Trial 80 pruned. \n",
      "[I 2024-12-12 21:07:53,460] Trial 81 pruned. \n",
      "[I 2024-12-12 21:07:53,720] Trial 82 pruned. \n",
      "[I 2024-12-12 21:07:54,004] Trial 83 pruned. \n",
      "[I 2024-12-12 21:07:54,272] Trial 84 pruned. \n",
      "[I 2024-12-12 21:07:54,502] Trial 85 pruned. \n",
      "[I 2024-12-12 21:07:54,760] Trial 86 pruned. \n",
      "[I 2024-12-12 21:07:54,975] Trial 87 pruned. \n",
      "[I 2024-12-12 21:07:55,183] Trial 88 pruned. \n",
      "[I 2024-12-12 21:08:11,319] Trial 89 finished with value: 0.2872188069922511 and parameters: {'hidden_dim': 64, 'num_blocks': 4, 'dropout1': 0.0, 'dropout2': 0.45, 'learning_rate': 0.00012280039868540536, 'weight_decay': 4.097379571030327e-05}. Best is trial 66 with value: 0.3301105465945809.\n"
     ]
    },
    {
     "name": "stdout",
     "output_type": "stream",
     "text": [
      "Early stopping at epoch 72\n",
      "Final MCC: 0.2872\n"
     ]
    },
    {
     "name": "stderr",
     "output_type": "stream",
     "text": [
      "/tmp/ipykernel_1419760/2074326936.py:7: FutureWarning: suggest_loguniform has been deprecated in v3.0.0. This feature will be removed in v6.0.0. See https://github.com/optuna/optuna/releases/tag/v3.0.0. Use suggest_float(..., log=True) instead.\n",
      "  learning_rate = trial.suggest_loguniform(\"learning_rate\", 1e-4, 1e-1)\n",
      "/tmp/ipykernel_1419760/2074326936.py:8: FutureWarning: suggest_loguniform has been deprecated in v3.0.0. This feature will be removed in v6.0.0. See https://github.com/optuna/optuna/releases/tag/v3.0.0. Use suggest_float(..., log=True) instead.\n",
      "  weight_decay = trial.suggest_loguniform(\"weight_decay\", 1e-5, 1e-1)\n",
      "[I 2024-12-12 21:08:11,540] Trial 90 pruned. \n",
      "[I 2024-12-12 21:08:11,735] Trial 91 pruned. \n",
      "[I 2024-12-12 21:08:32,364] Trial 92 finished with value: 0.2659184789314576 and parameters: {'hidden_dim': 64, 'num_blocks': 4, 'dropout1': 0.35000000000000003, 'dropout2': 0.45, 'learning_rate': 0.00020478680000927875, 'weight_decay': 1.1882216437981635e-05}. Best is trial 66 with value: 0.3301105465945809.\n"
     ]
    },
    {
     "name": "stdout",
     "output_type": "stream",
     "text": [
      "Final MCC: 0.2659\n"
     ]
    },
    {
     "name": "stderr",
     "output_type": "stream",
     "text": [
      "/tmp/ipykernel_1419760/2074326936.py:7: FutureWarning: suggest_loguniform has been deprecated in v3.0.0. This feature will be removed in v6.0.0. See https://github.com/optuna/optuna/releases/tag/v3.0.0. Use suggest_float(..., log=True) instead.\n",
      "  learning_rate = trial.suggest_loguniform(\"learning_rate\", 1e-4, 1e-1)\n",
      "/tmp/ipykernel_1419760/2074326936.py:8: FutureWarning: suggest_loguniform has been deprecated in v3.0.0. This feature will be removed in v6.0.0. See https://github.com/optuna/optuna/releases/tag/v3.0.0. Use suggest_float(..., log=True) instead.\n",
      "  weight_decay = trial.suggest_loguniform(\"weight_decay\", 1e-5, 1e-1)\n",
      "[I 2024-12-12 21:08:32,640] Trial 93 pruned. \n",
      "[I 2024-12-12 21:08:32,920] Trial 94 pruned. \n",
      "[I 2024-12-12 21:08:33,195] Trial 95 pruned. \n",
      "[I 2024-12-12 21:08:55,740] Trial 96 finished with value: 0.2820872109772377 and parameters: {'hidden_dim': 64, 'num_blocks': 4, 'dropout1': 0.35000000000000003, 'dropout2': 0.5, 'learning_rate': 0.00013145510798448374, 'weight_decay': 1.83674326977744e-05}. Best is trial 66 with value: 0.3301105465945809.\n"
     ]
    },
    {
     "name": "stdout",
     "output_type": "stream",
     "text": [
      "Final MCC: 0.2821\n"
     ]
    },
    {
     "name": "stderr",
     "output_type": "stream",
     "text": [
      "/tmp/ipykernel_1419760/2074326936.py:7: FutureWarning: suggest_loguniform has been deprecated in v3.0.0. This feature will be removed in v6.0.0. See https://github.com/optuna/optuna/releases/tag/v3.0.0. Use suggest_float(..., log=True) instead.\n",
      "  learning_rate = trial.suggest_loguniform(\"learning_rate\", 1e-4, 1e-1)\n",
      "/tmp/ipykernel_1419760/2074326936.py:8: FutureWarning: suggest_loguniform has been deprecated in v3.0.0. This feature will be removed in v6.0.0. See https://github.com/optuna/optuna/releases/tag/v3.0.0. Use suggest_float(..., log=True) instead.\n",
      "  weight_decay = trial.suggest_loguniform(\"weight_decay\", 1e-5, 1e-1)\n",
      "[I 2024-12-12 21:08:56,049] Trial 97 pruned. \n",
      "[I 2024-12-12 21:08:56,322] Trial 98 pruned. \n",
      "[I 2024-12-12 21:09:09,253] Trial 99 finished with value: 0.24575353546304368 and parameters: {'hidden_dim': 64, 'num_blocks': 3, 'dropout1': 0.15000000000000002, 'dropout2': 0.5, 'learning_rate': 0.00011164480703644703, 'weight_decay': 4.454708684038653e-05}. Best is trial 66 with value: 0.3301105465945809.\n"
     ]
    },
    {
     "name": "stdout",
     "output_type": "stream",
     "text": [
      "Early stopping at epoch 75\n",
      "Final MCC: 0.2458\n",
      "Best Parameters:  {'hidden_dim': 64, 'num_blocks': 4, 'dropout1': 0.35000000000000003, 'dropout2': 0.4, 'learning_rate': 0.0003090280165750253, 'weight_decay': 0.000403495474255714}\n",
      "Best Validation F1:  0.3301105465945809\n"
     ]
    }
   ],
   "source": [
    "device_id = 1 \n",
    "torch.cuda.set_device(device_id)\n",
    "device = torch.device(f\"cuda:{device_id}\" if torch.cuda.is_available() else \"cpu\")\n",
    "\n",
    "# Optunaの設定\n",
    "study = optuna.create_study(direction=\"maximize\")  \n",
    "study.optimize(objective, n_trials=100)\n",
    "\n",
    "# 結果表示\n",
    "print(\"Best Parameters: \", study.best_params)\n",
    "print(\"Best Validation F1: \", study.best_value)"
   ]
  },
  {
   "cell_type": "code",
   "execution_count": 20,
   "metadata": {},
   "outputs": [
    {
     "name": "stdout",
     "output_type": "stream",
     "text": [
      "Best parameters saved to 'best_params.json'\n"
     ]
    }
   ],
   "source": [
    "best_params = study.best_params\n",
    "\n",
    "# JSON形式で保存\n",
    "with open(\"optim_param/optim_ResNet_params.json\", \"w\") as f:\n",
    "    json.dump(best_params, f)\n",
    "\n",
    "print(\"Best parameters saved to 'best_params.json'\")"
   ]
  },
  {
   "cell_type": "code",
   "execution_count": 25,
   "metadata": {},
   "outputs": [
    {
     "name": "stdout",
     "output_type": "stream",
     "text": [
      "Epoch [1/100], Loss: 0.7450\n",
      "Epoch [1/100], Train Loss: 0.7450, Val Loss: 0.6780\n",
      "Epoch [2/100], Loss: 0.7074\n",
      "Epoch [2/100], Train Loss: 0.7074, Val Loss: 0.6588\n",
      "Epoch [3/100], Loss: 0.6865\n",
      "Epoch [3/100], Train Loss: 0.6865, Val Loss: 0.6440\n",
      "Epoch [4/100], Loss: 0.6695\n",
      "Epoch [4/100], Train Loss: 0.6695, Val Loss: 0.6351\n",
      "Epoch [5/100], Loss: 0.6667\n",
      "Epoch [5/100], Train Loss: 0.6667, Val Loss: 0.6306\n",
      "Epoch [6/100], Loss: 0.6692\n",
      "Epoch [6/100], Train Loss: 0.6692, Val Loss: 0.6266\n",
      "Epoch [7/100], Loss: 0.6561\n",
      "Epoch [7/100], Train Loss: 0.6561, Val Loss: 0.6218\n",
      "Epoch [8/100], Loss: 0.6464\n",
      "Epoch [8/100], Train Loss: 0.6464, Val Loss: 0.6220\n",
      "Epoch [9/100], Loss: 0.6297\n",
      "Epoch [9/100], Train Loss: 0.6297, Val Loss: 0.6180\n",
      "Epoch [10/100], Loss: 0.6329\n",
      "Epoch [10/100], Train Loss: 0.6329, Val Loss: 0.6134\n",
      "Epoch [11/100], Loss: 0.6293\n",
      "Epoch [11/100], Train Loss: 0.6293, Val Loss: 0.6103\n",
      "Epoch [12/100], Loss: 0.6231\n",
      "Epoch [12/100], Train Loss: 0.6231, Val Loss: 0.6064\n",
      "Epoch [13/100], Loss: 0.6138\n",
      "Epoch [13/100], Train Loss: 0.6138, Val Loss: 0.6057\n",
      "Epoch [14/100], Loss: 0.6171\n",
      "Epoch [14/100], Train Loss: 0.6171, Val Loss: 0.6059\n",
      "Epoch [15/100], Loss: 0.6198\n",
      "Epoch [15/100], Train Loss: 0.6198, Val Loss: 0.6045\n",
      "Epoch [16/100], Loss: 0.6055\n",
      "Epoch [16/100], Train Loss: 0.6055, Val Loss: 0.6040\n",
      "Epoch [17/100], Loss: 0.6081\n",
      "Epoch [17/100], Train Loss: 0.6081, Val Loss: 0.6020\n",
      "Epoch [18/100], Loss: 0.6029\n",
      "Epoch [18/100], Train Loss: 0.6029, Val Loss: 0.5989\n",
      "Epoch [19/100], Loss: 0.6003\n",
      "Epoch [19/100], Train Loss: 0.6003, Val Loss: 0.5994\n",
      "Epoch [20/100], Loss: 0.5985\n",
      "Epoch [20/100], Train Loss: 0.5985, Val Loss: 0.5983\n",
      "Epoch [21/100], Loss: 0.5946\n",
      "Epoch [21/100], Train Loss: 0.5946, Val Loss: 0.5969\n",
      "Epoch [22/100], Loss: 0.5881\n",
      "Epoch [22/100], Train Loss: 0.5881, Val Loss: 0.5971\n",
      "Epoch [23/100], Loss: 0.5875\n",
      "Epoch [23/100], Train Loss: 0.5875, Val Loss: 0.5964\n",
      "Epoch [24/100], Loss: 0.5851\n",
      "Epoch [24/100], Train Loss: 0.5851, Val Loss: 0.5949\n",
      "Epoch [25/100], Loss: 0.5917\n",
      "Epoch [25/100], Train Loss: 0.5917, Val Loss: 0.5949\n",
      "Epoch [26/100], Loss: 0.5859\n",
      "Epoch [26/100], Train Loss: 0.5859, Val Loss: 0.5952\n",
      "Epoch [27/100], Loss: 0.5844\n",
      "Epoch [27/100], Train Loss: 0.5844, Val Loss: 0.5957\n",
      "Epoch [28/100], Loss: 0.5853\n",
      "Epoch [28/100], Train Loss: 0.5853, Val Loss: 0.5949\n",
      "Epoch [29/100], Loss: 0.5818\n",
      "Epoch [29/100], Train Loss: 0.5818, Val Loss: 0.5912\n",
      "Epoch [30/100], Loss: 0.5857\n",
      "Epoch [30/100], Train Loss: 0.5857, Val Loss: 0.5923\n",
      "Epoch [31/100], Loss: 0.5795\n",
      "Epoch [31/100], Train Loss: 0.5795, Val Loss: 0.5902\n",
      "Epoch [32/100], Loss: 0.5806\n",
      "Epoch [32/100], Train Loss: 0.5806, Val Loss: 0.5902\n",
      "Epoch [33/100], Loss: 0.5811\n",
      "Epoch [33/100], Train Loss: 0.5811, Val Loss: 0.5886\n",
      "Epoch [34/100], Loss: 0.5783\n",
      "Epoch [34/100], Train Loss: 0.5783, Val Loss: 0.5886\n",
      "Epoch [35/100], Loss: 0.5816\n",
      "Epoch [35/100], Train Loss: 0.5816, Val Loss: 0.5864\n",
      "Epoch [36/100], Loss: 0.5846\n",
      "Epoch [36/100], Train Loss: 0.5846, Val Loss: 0.5879\n",
      "Epoch [37/100], Loss: 0.5800\n",
      "Epoch [37/100], Train Loss: 0.5800, Val Loss: 0.5864\n",
      "Epoch [38/100], Loss: 0.5726\n",
      "Epoch [38/100], Train Loss: 0.5726, Val Loss: 0.5850\n",
      "Epoch [39/100], Loss: 0.5721\n",
      "Epoch [39/100], Train Loss: 0.5721, Val Loss: 0.5855\n",
      "Epoch [40/100], Loss: 0.5826\n",
      "Epoch [40/100], Train Loss: 0.5826, Val Loss: 0.5861\n",
      "Epoch [41/100], Loss: 0.5783\n",
      "Epoch [41/100], Train Loss: 0.5783, Val Loss: 0.5839\n",
      "Epoch [42/100], Loss: 0.5682\n",
      "Epoch [42/100], Train Loss: 0.5682, Val Loss: 0.5848\n",
      "Epoch [43/100], Loss: 0.5736\n",
      "Epoch [43/100], Train Loss: 0.5736, Val Loss: 0.5856\n",
      "Epoch [44/100], Loss: 0.5772\n",
      "Epoch [44/100], Train Loss: 0.5772, Val Loss: 0.5825\n",
      "Epoch [45/100], Loss: 0.5685\n",
      "Epoch [45/100], Train Loss: 0.5685, Val Loss: 0.5810\n",
      "Epoch [46/100], Loss: 0.5725\n",
      "Epoch [46/100], Train Loss: 0.5725, Val Loss: 0.5811\n",
      "Epoch [47/100], Loss: 0.5708\n",
      "Epoch [47/100], Train Loss: 0.5708, Val Loss: 0.5842\n",
      "Epoch [48/100], Loss: 0.5712\n",
      "Epoch [48/100], Train Loss: 0.5712, Val Loss: 0.5826\n",
      "Epoch [49/100], Loss: 0.5730\n",
      "Epoch [49/100], Train Loss: 0.5730, Val Loss: 0.5817\n",
      "Epoch [50/100], Loss: 0.5756\n",
      "Epoch [50/100], Train Loss: 0.5756, Val Loss: 0.5816\n",
      "Epoch [51/100], Loss: 0.5643\n",
      "Epoch [51/100], Train Loss: 0.5643, Val Loss: 0.5816\n",
      "Epoch [52/100], Loss: 0.5728\n",
      "Epoch [52/100], Train Loss: 0.5728, Val Loss: 0.5808\n",
      "Epoch [53/100], Loss: 0.5698\n",
      "Epoch [53/100], Train Loss: 0.5698, Val Loss: 0.5802\n",
      "Epoch [54/100], Loss: 0.5675\n",
      "Epoch [54/100], Train Loss: 0.5675, Val Loss: 0.5797\n",
      "Epoch [55/100], Loss: 0.5678\n",
      "Epoch [55/100], Train Loss: 0.5678, Val Loss: 0.5809\n",
      "Epoch [56/100], Loss: 0.5664\n",
      "Epoch [56/100], Train Loss: 0.5664, Val Loss: 0.5803\n",
      "Epoch [57/100], Loss: 0.5669\n",
      "Epoch [57/100], Train Loss: 0.5669, Val Loss: 0.5796\n",
      "Epoch [58/100], Loss: 0.5706\n",
      "Epoch [58/100], Train Loss: 0.5706, Val Loss: 0.5792\n",
      "Epoch [59/100], Loss: 0.5679\n",
      "Epoch [59/100], Train Loss: 0.5679, Val Loss: 0.5812\n",
      "Epoch [60/100], Loss: 0.5628\n",
      "Epoch [60/100], Train Loss: 0.5628, Val Loss: 0.5809\n",
      "Epoch [61/100], Loss: 0.5677\n",
      "Epoch [61/100], Train Loss: 0.5677, Val Loss: 0.5773\n",
      "Epoch [62/100], Loss: 0.5617\n",
      "Epoch [62/100], Train Loss: 0.5617, Val Loss: 0.5773\n",
      "Epoch [63/100], Loss: 0.5578\n",
      "Epoch [63/100], Train Loss: 0.5578, Val Loss: 0.5782\n",
      "Epoch [64/100], Loss: 0.5617\n",
      "Epoch [64/100], Train Loss: 0.5617, Val Loss: 0.5769\n",
      "Epoch [65/100], Loss: 0.5669\n",
      "Epoch [65/100], Train Loss: 0.5669, Val Loss: 0.5774\n",
      "Epoch [66/100], Loss: 0.5666\n",
      "Epoch [66/100], Train Loss: 0.5666, Val Loss: 0.5776\n",
      "Epoch [67/100], Loss: 0.5649\n",
      "Epoch [67/100], Train Loss: 0.5649, Val Loss: 0.5777\n",
      "Epoch [68/100], Loss: 0.5612\n",
      "Epoch [68/100], Train Loss: 0.5612, Val Loss: 0.5774\n",
      "Epoch [69/100], Loss: 0.5702\n",
      "Epoch [69/100], Train Loss: 0.5702, Val Loss: 0.5768\n",
      "Epoch [70/100], Loss: 0.5689\n",
      "Epoch [70/100], Train Loss: 0.5689, Val Loss: 0.5762\n",
      "Epoch [71/100], Loss: 0.5654\n",
      "Epoch [71/100], Train Loss: 0.5654, Val Loss: 0.5756\n",
      "Epoch [72/100], Loss: 0.5640\n",
      "Epoch [72/100], Train Loss: 0.5640, Val Loss: 0.5767\n",
      "Epoch [73/100], Loss: 0.5591\n",
      "Epoch [73/100], Train Loss: 0.5591, Val Loss: 0.5761\n",
      "Epoch [74/100], Loss: 0.5611\n",
      "Epoch [74/100], Train Loss: 0.5611, Val Loss: 0.5749\n",
      "Epoch [75/100], Loss: 0.5586\n",
      "Epoch [75/100], Train Loss: 0.5586, Val Loss: 0.5740\n",
      "Epoch [76/100], Loss: 0.5623\n",
      "Epoch [76/100], Train Loss: 0.5623, Val Loss: 0.5737\n",
      "Epoch [77/100], Loss: 0.5685\n",
      "Epoch [77/100], Train Loss: 0.5685, Val Loss: 0.5744\n",
      "Epoch [78/100], Loss: 0.5582\n",
      "Epoch [78/100], Train Loss: 0.5582, Val Loss: 0.5735\n",
      "Epoch [79/100], Loss: 0.5615\n",
      "Epoch [79/100], Train Loss: 0.5615, Val Loss: 0.5727\n",
      "Epoch [80/100], Loss: 0.5542\n",
      "Epoch [80/100], Train Loss: 0.5542, Val Loss: 0.5731\n",
      "Epoch [81/100], Loss: 0.5587\n",
      "Epoch [81/100], Train Loss: 0.5587, Val Loss: 0.5719\n",
      "Epoch [82/100], Loss: 0.5634\n",
      "Epoch [82/100], Train Loss: 0.5634, Val Loss: 0.5734\n",
      "Epoch [83/100], Loss: 0.5607\n",
      "Epoch [83/100], Train Loss: 0.5607, Val Loss: 0.5729\n",
      "Epoch [84/100], Loss: 0.5586\n",
      "Epoch [84/100], Train Loss: 0.5586, Val Loss: 0.5731\n",
      "Epoch [85/100], Loss: 0.5609\n",
      "Epoch [85/100], Train Loss: 0.5609, Val Loss: 0.5723\n",
      "Epoch [86/100], Loss: 0.5562\n",
      "Epoch [86/100], Train Loss: 0.5562, Val Loss: 0.5731\n",
      "Epoch [87/100], Loss: 0.5573\n",
      "Epoch [87/100], Train Loss: 0.5573, Val Loss: 0.5731\n",
      "Epoch [88/100], Loss: 0.5579\n",
      "Epoch [88/100], Train Loss: 0.5579, Val Loss: 0.5725\n",
      "Epoch [89/100], Loss: 0.5611\n",
      "Epoch [89/100], Train Loss: 0.5611, Val Loss: 0.5731\n",
      "Epoch [90/100], Loss: 0.5586\n",
      "Epoch [90/100], Train Loss: 0.5586, Val Loss: 0.5740\n",
      "Epoch [91/100], Loss: 0.5580\n",
      "Epoch [91/100], Train Loss: 0.5580, Val Loss: 0.5733\n",
      "Epoch [92/100], Loss: 0.5602\n",
      "Epoch [92/100], Train Loss: 0.5602, Val Loss: 0.5734\n",
      "Epoch [93/100], Loss: 0.5561\n",
      "Epoch [93/100], Train Loss: 0.5561, Val Loss: 0.5746\n",
      "Epoch [94/100], Loss: 0.5565\n",
      "Epoch [94/100], Train Loss: 0.5565, Val Loss: 0.5730\n",
      "Epoch [95/100], Loss: 0.5576\n",
      "Epoch [95/100], Train Loss: 0.5576, Val Loss: 0.5731\n",
      "Epoch [96/100], Loss: 0.5617\n",
      "Epoch [96/100], Train Loss: 0.5617, Val Loss: 0.5716\n",
      "Epoch [97/100], Loss: 0.5555\n",
      "Epoch [97/100], Train Loss: 0.5555, Val Loss: 0.5729\n",
      "Epoch [98/100], Loss: 0.5578\n",
      "Epoch [98/100], Train Loss: 0.5578, Val Loss: 0.5736\n",
      "Epoch [99/100], Loss: 0.5533\n",
      "Epoch [99/100], Train Loss: 0.5533, Val Loss: 0.5728\n",
      "Epoch [100/100], Loss: 0.5569\n",
      "Epoch [100/100], Train Loss: 0.5569, Val Loss: 0.5709\n"
     ]
    },
    {
     "data": {
      "image/png": "[encoded data removed]",
      "text/plain": [
       "<Figure size 1000x600 with 1 Axes>"
      ]
     },
     "metadata": {},
     "output_type": "display_data"
    }
   ],
   "source": [
    "best_params=study.best_params\n",
    "model = ResNetBinaryClassifier(input_dim=X_train_tensor.shape[1],num_blocks=best_params[\"num_blocks\"],hidden_dim=best_params[\"hidden_dim\"],dropout1=best_params[\"dropout1\"],dropout2=best_params[\"dropout2\"]).to(device)\n",
    "\n",
    "# 最適化と訓練を実行\n",
    "optimizer = optim.Adam(model.parameters(), lr=best_params[\"learning_rate\"],weight_decay=best_params[\"weight_decay\"])\n",
    "criterion = nn.BCELoss()\n",
    "\n",
    "num_epochs=100\n",
    "train_losses = []\n",
    "val_losses = []\n",
    "\n",
    "model.train()\n",
    "for epoch in range(num_epochs):\n",
    "    epoch_train_loss = 0\n",
    "    epoch_val_loss = 0\n",
    "\n",
    "    for X_batch, y_batch in train_loader:\n",
    "        X_batch, y_batch = X_batch.to(device), y_batch.to(device)\n",
    "        optimizer.zero_grad()\n",
    "        outputs = model(X_batch).squeeze()\n",
    "        loss = criterion(outputs, y_batch.squeeze())\n",
    "        loss.backward()\n",
    "        optimizer.step()\n",
    "        epoch_train_loss += loss.item()\n",
    "    avg_train_loss = epoch_train_loss / len(train_loader)\n",
    "    train_losses.append(avg_train_loss)\n",
    "    print(f'Epoch [{epoch+1}/{num_epochs}], Loss: {avg_train_loss:.4f}')\n",
    "\n",
    "    if val_loader is not None:\n",
    "        model.eval()  \n",
    "        with torch.no_grad():\n",
    "            for X_val, y_val in val_loader:\n",
    "                X_val, y_val = X_val.to(device), y_val.to(device)\n",
    "                val_outputs = model(X_val).squeeze()\n",
    "                val_loss = criterion(val_outputs, y_val.squeeze())\n",
    "                epoch_val_loss += val_loss.item()\n",
    "\n",
    "        avg_val_loss = epoch_val_loss / len(val_loader)\n",
    "        val_losses.append(avg_val_loss)\n",
    "        model.train()  \n",
    "\n",
    "    if val_loader is not None:\n",
    "        print(f\"Epoch [{epoch+1}/{num_epochs}], Train Loss: {avg_train_loss:.4f}, Val Loss: {avg_val_loss:.4f}\")\n",
    "    else:\n",
    "        print(f\"Epoch [{epoch+1}/{num_epochs}], Train Loss: {avg_train_loss:.4f}\")\n",
    "\n",
    "plt.figure(figsize=(10, 6))\n",
    "plt.plot(range(1, num_epochs + 1), train_losses, label='Train Loss')\n",
    "if val_losses:\n",
    "    plt.plot(range(1, num_epochs + 1), val_losses, label='Validation Loss')\n",
    "plt.xlabel('Epoch')\n",
    "plt.ylabel('Loss')\n",
    "plt.title('Learning Curve for ResNet')\n",
    "plt.legend()\n",
    "plt.grid()\n",
    "plt.show()"
   ]
  },
  {
   "cell_type": "code",
   "execution_count": 26,
   "metadata": {},
   "outputs": [
    {
     "name": "stdout",
     "output_type": "stream",
     "text": [
      "Accuracy: 58.09%\n",
      "Precision: 0.4750\n",
      "Recall: 0.8112\n",
      "F1 Score: 0.5991\n",
      "Matthews Correlation Coefficient: 0.2540\n",
      "Specificity: 0.4360\n"
     ]
    },
    {
     "data": {
      "image/png": "[encoded data removed]",
      "text/plain": [
       "<Figure size 640x480 with 1 Axes>"
      ]
     },
     "metadata": {},
     "output_type": "display_data"
    },
    {
     "data": {
      "image/png": "[encoded data removed]",
      "text/plain": [
       "<Figure size 640x480 with 1 Axes>"
      ]
     },
     "metadata": {},
     "output_type": "display_data"
    },
    {
     "data": {
      "image/png": "[encoded data removed]",
      "text/plain": [
       "<Figure size 640x480 with 1 Axes>"
      ]
     },
     "metadata": {},
     "output_type": "display_data"
    }
   ],
   "source": [
    "model.eval()\n",
    "with torch.no_grad():\n",
    "    X_test_tensor = X_test_tensor.to(device)\n",
    "    y_test_tensor = y_test_tensor.to(device)\n",
    "\n",
    "    # 予測と確率\n",
    "    test_outputs = model(X_test_tensor).squeeze()\n",
    "    predictions = (test_outputs >=0.5).float()\n",
    "    y_true = y_test_tensor.cpu().numpy()\n",
    "    y_pred = predictions.cpu().numpy()\n",
    "    y_prob = test_outputs.cpu().numpy()\n",
    "\n",
    "# 評価指標\n",
    "    accuracy = accuracy_score(y_true, y_pred)\n",
    "    precision = precision_score(y_true, y_pred)\n",
    "    recall = recall_score(y_true, y_pred)\n",
    "    f1 = f1_score(y_true, y_pred)\n",
    "    mcc = matthews_corrcoef(y_true, y_pred)\n",
    "    specificity = recall_score(y_true, y_pred, pos_label=0)  \n",
    "    print(f'Accuracy: {accuracy * 100:.2f}%')\n",
    "    print(f'Precision: {precision:.4f}')\n",
    "    print(f'Recall: {recall:.4f}')\n",
    "    print(f'F1 Score: {f1:.4f}')\n",
    "    print(f'Matthews Correlation Coefficient: {mcc:.4f}')\n",
    "    print(f'Specificity: {specificity:.4f}')\n",
    "\n",
    "    # 混同行列（割合表示）\n",
    "    cm = confusion_matrix(y_true, y_pred, normalize='true')\n",
    "    sns.heatmap(cm, annot=True, fmt=\".2%\", cmap=\"Blues\", cbar=False)\n",
    "    plt.xlabel(\"Predicted\")\n",
    "    plt.ylabel(\"Actual\")\n",
    "    plt.title(f\"Confusion Matrix (Normalized)\")\n",
    "    plt.show()\n",
    "\n",
    "    # ROC曲線とAUC\n",
    "    fpr, tpr, thresholds = roc_curve(y_true, y_prob)\n",
    "    roc_auc = auc(fpr, tpr)\n",
    "    plt.plot(fpr, tpr, label=f'ROC curve (AUC = {roc_auc:.2f})')\n",
    "    plt.plot([0, 1], [0, 1], 'k--') \n",
    "    plt.xlabel('False Positive Rate')\n",
    "    plt.ylabel('True Positive Rate')\n",
    "    plt.title(f'ROC Curve - Model ')\n",
    "    plt.legend(loc=\"lower right\")\n",
    "    plt.show()\n",
    "\n",
    "    # Precision-Recall曲線\n",
    "    precision_curve, recall_curve, pr_thresholds = precision_recall_curve(y_true, y_prob)\n",
    "    pr_auc = auc(recall_curve, precision_curve)\n",
    "    plt.plot(recall_curve, precision_curve, label=f'PR curve (AUC = {pr_auc:.2f})')\n",
    "    plt.xlabel('Recall')\n",
    "    plt.ylabel('Precision')\n",
    "    plt.title(f'Precision-Recall Curve ')\n",
    "    plt.legend(loc=\"lower left\")\n",
    "    plt.show()    "
   ]
  },
  {
   "cell_type": "code",
   "execution_count": 23,
   "metadata": {},
   "outputs": [],
   "source": [
    "torch.save(model.state_dict(), 'model_params/ResNet.pth')\n",
    "\n"
   ]
  },
  {
   "cell_type": "code",
   "execution_count": 24,
   "metadata": {},
   "outputs": [
    {
     "name": "stdout",
     "output_type": "stream",
     "text": [
      "----------------------------------------------------------------\n",
      "        Layer (type)               Output Shape         Param #\n",
      "================================================================\n",
      "            Linear-1                   [-1, 64]           1,920\n",
      "       BatchNorm1d-2                   [-1, 64]             128\n",
      "           Dropout-3                   [-1, 64]               0\n",
      "            Linear-4                   [-1, 29]           1,885\n",
      "       BatchNorm1d-5                   [-1, 29]              58\n",
      "           Dropout-6                   [-1, 29]               0\n",
      "     ResidualBlock-7                   [-1, 29]               0\n",
      "            Linear-8                   [-1, 64]           1,920\n",
      "       BatchNorm1d-9                   [-1, 64]             128\n",
      "          Dropout-10                   [-1, 64]               0\n",
      "           Linear-11                   [-1, 29]           1,885\n",
      "      BatchNorm1d-12                   [-1, 29]              58\n",
      "          Dropout-13                   [-1, 29]               0\n",
      "    ResidualBlock-14                   [-1, 29]               0\n",
      "           Linear-15                   [-1, 64]           1,920\n",
      "      BatchNorm1d-16                   [-1, 64]             128\n",
      "          Dropout-17                   [-1, 64]               0\n",
      "           Linear-18                   [-1, 29]           1,885\n",
      "      BatchNorm1d-19                   [-1, 29]              58\n",
      "          Dropout-20                   [-1, 29]               0\n",
      "    ResidualBlock-21                   [-1, 29]               0\n",
      "           Linear-22                   [-1, 64]           1,920\n",
      "      BatchNorm1d-23                   [-1, 64]             128\n",
      "          Dropout-24                   [-1, 64]               0\n",
      "           Linear-25                   [-1, 29]           1,885\n",
      "      BatchNorm1d-26                   [-1, 29]              58\n",
      "          Dropout-27                   [-1, 29]               0\n",
      "    ResidualBlock-28                   [-1, 29]               0\n",
      "           Linear-29                    [-1, 1]              30\n",
      "================================================================\n",
      "Total params: 15,994\n",
      "Trainable params: 15,994\n",
      "Non-trainable params: 0\n",
      "----------------------------------------------------------------\n",
      "Input size (MB): 0.00\n",
      "Forward/backward pass size (MB): 0.01\n",
      "Params size (MB): 0.06\n",
      "Estimated Total Size (MB): 0.07\n",
      "----------------------------------------------------------------\n"
     ]
    }
   ],
   "source": [
    "from torchsummary import summary\n",
    "summary(model, input_size=(X_train_tensor.shape[1],))"
   ]
  },
  {
   "cell_type": "code",
   "execution_count": null,
   "metadata": {},
   "outputs": [],
   "source": []
  }
 ],
 "metadata": {
  "kernelspec": {
   "display_name": "torch",
   "language": "python",
   "name": "python3"
  },
  "language_info": {
   "codemirror_mode": {
    "name": "ipython",
    "version": 3
   },
   "file_extension": ".py",
   "mimetype": "text/x-python",
   "name": "python",
   "nbconvert_exporter": "python",
   "pygments_lexer": "ipython3",
   "version": "3.12.7"
  }
 },
 "nbformat": 4,
 "nbformat_minor": 2
}
