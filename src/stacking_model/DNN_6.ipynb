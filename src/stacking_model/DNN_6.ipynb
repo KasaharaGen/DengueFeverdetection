{
 "cells": [
  {
   "cell_type": "code",
   "execution_count": 51,
   "metadata": {},
   "outputs": [],
   "source": [
    "import numpy as np\n",
    "import pandas as pd\n",
    "import matplotlib.pyplot as plt\n",
    "import seaborn as sns\n",
    "import json\n",
    "\n",
    "import torch\n",
    "import torch.nn as nn\n",
    "import torch.optim as optim\n",
    "\n",
    "import optuna\n",
    "\n",
    "from sklearn.model_selection import train_test_split\n",
    "from sklearn.metrics import confusion_matrix,accuracy_score, precision_score, recall_score, f1_score, confusion_matrix, roc_curve, auc,matthews_corrcoef, precision_recall_curve,roc_auc_score\n",
    "\n"
   ]
  },
  {
   "cell_type": "markdown",
   "metadata": {},
   "source": [
    "データ読み取り"
   ]
  },
  {
   "cell_type": "code",
   "execution_count": 52,
   "metadata": {},
   "outputs": [],
   "source": [
    "df=pd.read_csv('learning_data.csv',index_col=0)\n",
    "\n",
    "X=df.drop(columns='dengue',axis=1).values\n",
    "y=df['dengue'].values\n",
    "\n",
    "X_train, X_test, y_train, y_test = train_test_split(X, y, test_size=0.2,random_state=42)\n",
    "X_train, X_val, y_train, y_val = train_test_split(X_train, y_train, test_size=0.1,random_state=42)\n",
    "\n",
    "#torchテンソルに変換\n",
    "X_train_tensor = torch.tensor(X_train, dtype=torch.float32)\n",
    "y_train_tensor = torch.tensor(y_train, dtype=torch.float32)\n",
    "X_test_tensor = torch.tensor(X_test, dtype=torch.float32)\n",
    "y_test_tensor = torch.tensor(y_test, dtype=torch.float32)\n",
    "X_val_tensor = torch.tensor(X_val, dtype=torch.float32)\n",
    "y_val_tensor = torch.tensor(y_val, dtype=torch.float32)\n"
   ]
  },
  {
   "cell_type": "code",
   "execution_count": 53,
   "metadata": {},
   "outputs": [],
   "source": [
    "class DNN_6(nn.Module):\n",
    "    def __init__(self, input_dim,dropout1,dropout2):\n",
    "        super(DNN_6, self).__init__()\n",
    "        self.layer1 = nn.Linear(input_dim,32)\n",
    "        self.layer2 = nn.Linear(32,16)\n",
    "        self.layer3 = nn.Linear(16, 8)\n",
    "        self.layer4 = nn.Linear(8,4)\n",
    "        self.output_layer = nn.Linear(4, 1)\n",
    "\n",
    "        self.bn1=nn.BatchNorm1d(32)\n",
    "        self.bn2=nn.BatchNorm1d(16)\n",
    "        self.bn3=nn.BatchNorm1d(8)\n",
    "        self.bn4=nn.BatchNorm1d(4)\n",
    "\n",
    "        self.dropout1 = nn.Dropout(dropout1)\n",
    "        self.dropout2 = nn.Dropout(dropout2)\n",
    "        \n",
    "    def forward(self, x):\n",
    "        x = torch.relu(self.bn1(self.layer1(x)))\n",
    "        x = self.dropout1(x)\n",
    "        \n",
    "        x = torch.relu(self.bn2(self.layer2(x)))\n",
    "    \n",
    "\n",
    "        x = torch.relu(self.bn3(self.layer3(x)))\n",
    "        x = self.dropout2(x)\n",
    "\n",
    "        x = torch.relu(self.bn4(self.layer4(x)))\n",
    "        \n",
    "        x = torch.sigmoid(self.output_layer(x)) \n",
    "        return x\n",
    "    "
   ]
  },
  {
   "cell_type": "markdown",
   "metadata": {},
   "source": [
    "学習データセットの作成"
   ]
  },
  {
   "cell_type": "code",
   "execution_count": 54,
   "metadata": {},
   "outputs": [],
   "source": [
    "train_dataset = torch.utils.data.TensorDataset(X_train_tensor, y_train_tensor)\n",
    "train_loader = torch.utils.data.DataLoader(dataset=train_dataset, batch_size=128, shuffle=True)\n",
    "\n",
    "val_dataset = torch.utils.data.TensorDataset(X_val_tensor, y_val_tensor)\n",
    "val_loader = torch.utils.data.DataLoader(dataset=val_dataset, batch_size=128, shuffle=False)"
   ]
  },
  {
   "cell_type": "code",
   "execution_count": 55,
   "metadata": {},
   "outputs": [],
   "source": [
    "def objective(trial):\n",
    "    dropout1 = trial.suggest_float(\"dropout1\", 0, 0.5, step=0.05)\n",
    "    dropout2 = trial.suggest_float(\"dropout2\", 0, 0.5, step=0.05)\n",
    "    learning_rate = trial.suggest_loguniform(\"learning_rate\", 1e-4, 1e-1)  # 範囲を調整\n",
    "    weight_decay = trial.suggest_loguniform(\"weight_decay\", 1e-5, 1e-1)   # 範囲を調整\n",
    "\n",
    "    # モデル定義\n",
    "    model = DNN_6(\n",
    "        input_dim=X_train_tensor.shape[1],\n",
    "        dropout1=dropout1,\n",
    "        dropout2=dropout2\n",
    "    ).to(device)\n",
    "\n",
    "    criterion = nn.BCELoss()\n",
    "    optimizer = torch.optim.Adam(model.parameters(), lr=learning_rate, weight_decay=weight_decay)\n",
    "\n",
    "    # Early Stoppingの設定\n",
    "    patience = 10\n",
    "    best_val_loss = float('inf')\n",
    "    patience_counter = 0\n",
    "\n",
    "    # 訓練ループ\n",
    "    num_epochs = 100\n",
    "    for epoch in range(num_epochs):\n",
    "        model.train()\n",
    "        for X_batch, y_batch in train_loader:\n",
    "            X_batch, y_batch = X_batch.to(device), y_batch.to(device)\n",
    "            optimizer.zero_grad()\n",
    "            outputs = model(X_batch).squeeze()\n",
    "            loss = criterion(outputs, y_batch.squeeze())\n",
    "            loss.backward()\n",
    "            optimizer.step()\n",
    "\n",
    "        # バリデーション評価\n",
    "        model.eval()\n",
    "        val_loss = 0\n",
    "        val_true, val_pred = [], []\n",
    "        with torch.no_grad():\n",
    "            for X_val, y_val in val_loader:\n",
    "                X_val, y_val = X_val.to(device), y_val.to(device)\n",
    "                val_outputs = model(X_val).squeeze()\n",
    "                val_loss += criterion(val_outputs, y_val.squeeze()).item()\n",
    "                predictions = (val_outputs >=0.5).float()\n",
    "                val_true.extend(y_val.cpu().numpy())\n",
    "                val_pred.extend(predictions.cpu().numpy())\n",
    "\n",
    "        val_loss /= len(val_loader)\n",
    "\n",
    "        # Early Stoppingの判定\n",
    "        if val_loss < best_val_loss:\n",
    "            best_val_loss = val_loss\n",
    "            patience_counter = 0\n",
    "        else:\n",
    "            patience_counter += 1\n",
    "\n",
    "        if patience_counter >= patience:\n",
    "            print(f\"Early stopping at epoch {epoch}\")\n",
    "            break\n",
    "\n",
    "        # Optunaへのログ\n",
    "        trial.report(val_loss, epoch)\n",
    "        if trial.should_prune():\n",
    "            raise optuna.exceptions.TrialPruned()\n",
    "\n",
    "    # 評価指標の計算\n",
    "    mcc = matthews_corrcoef(val_true, val_pred)\n",
    "    print(f\"Final MCC: {mcc:.4f}\")\n",
    "\n",
    "    return mcc  # mccを返す\n"
   ]
  },
  {
   "cell_type": "code",
   "execution_count": 56,
   "metadata": {},
   "outputs": [
    {
     "name": "stderr",
     "output_type": "stream",
     "text": [
      "[I 2024-12-12 21:01:30,534] A new study created in memory with name: no-name-3f1a0542-4fcd-47ac-bbfe-d85125af0af1\n",
      "/tmp/ipykernel_1285281/2195649114.py:4: FutureWarning: suggest_loguniform has been deprecated in v3.0.0. This feature will be removed in v6.0.0. See https://github.com/optuna/optuna/releases/tag/v3.0.0. Use suggest_float(..., log=True) instead.\n",
      "  learning_rate = trial.suggest_loguniform(\"learning_rate\", 1e-4, 1e-1)  # 範囲を調整\n",
      "/tmp/ipykernel_1285281/2195649114.py:5: FutureWarning: suggest_loguniform has been deprecated in v3.0.0. This feature will be removed in v6.0.0. See https://github.com/optuna/optuna/releases/tag/v3.0.0. Use suggest_float(..., log=True) instead.\n",
      "  weight_decay = trial.suggest_loguniform(\"weight_decay\", 1e-5, 1e-1)   # 範囲を調整\n",
      "[I 2024-12-12 21:01:35,908] Trial 0 finished with value: 0.0 and parameters: {'dropout1': 0.45, 'dropout2': 0.25, 'learning_rate': 0.01683795591711285, 'weight_decay': 0.004784656660142866}. Best is trial 0 with value: 0.0.\n"
     ]
    },
    {
     "name": "stdout",
     "output_type": "stream",
     "text": [
      "Early stopping at epoch 38\n",
      "Final MCC: 0.0000\n"
     ]
    },
    {
     "name": "stderr",
     "output_type": "stream",
     "text": [
      "/tmp/ipykernel_1285281/2195649114.py:4: FutureWarning: suggest_loguniform has been deprecated in v3.0.0. This feature will be removed in v6.0.0. See https://github.com/optuna/optuna/releases/tag/v3.0.0. Use suggest_float(..., log=True) instead.\n",
      "  learning_rate = trial.suggest_loguniform(\"learning_rate\", 1e-4, 1e-1)  # 範囲を調整\n",
      "/tmp/ipykernel_1285281/2195649114.py:5: FutureWarning: suggest_loguniform has been deprecated in v3.0.0. This feature will be removed in v6.0.0. See https://github.com/optuna/optuna/releases/tag/v3.0.0. Use suggest_float(..., log=True) instead.\n",
      "  weight_decay = trial.suggest_loguniform(\"weight_decay\", 1e-5, 1e-1)   # 範囲を調整\n",
      "[I 2024-12-12 21:01:38,914] Trial 1 finished with value: 0.09972557820171411 and parameters: {'dropout1': 0.4, 'dropout2': 0.0, 'learning_rate': 0.01607541872841226, 'weight_decay': 6.975476992926437e-05}. Best is trial 1 with value: 0.09972557820171411.\n"
     ]
    },
    {
     "name": "stdout",
     "output_type": "stream",
     "text": [
      "Early stopping at epoch 21\n",
      "Final MCC: 0.0997\n"
     ]
    },
    {
     "name": "stderr",
     "output_type": "stream",
     "text": [
      "/tmp/ipykernel_1285281/2195649114.py:4: FutureWarning: suggest_loguniform has been deprecated in v3.0.0. This feature will be removed in v6.0.0. See https://github.com/optuna/optuna/releases/tag/v3.0.0. Use suggest_float(..., log=True) instead.\n",
      "  learning_rate = trial.suggest_loguniform(\"learning_rate\", 1e-4, 1e-1)  # 範囲を調整\n",
      "/tmp/ipykernel_1285281/2195649114.py:5: FutureWarning: suggest_loguniform has been deprecated in v3.0.0. This feature will be removed in v6.0.0. See https://github.com/optuna/optuna/releases/tag/v3.0.0. Use suggest_float(..., log=True) instead.\n",
      "  weight_decay = trial.suggest_loguniform(\"weight_decay\", 1e-5, 1e-1)   # 範囲を調整\n",
      "[I 2024-12-12 21:01:46,327] Trial 2 finished with value: 0.21167785409592751 and parameters: {'dropout1': 0.2, 'dropout2': 0.45, 'learning_rate': 0.0011029044260769596, 'weight_decay': 0.017040998020995065}. Best is trial 2 with value: 0.21167785409592751.\n"
     ]
    },
    {
     "name": "stdout",
     "output_type": "stream",
     "text": [
      "Early stopping at epoch 53\n",
      "Final MCC: 0.2117\n"
     ]
    },
    {
     "name": "stderr",
     "output_type": "stream",
     "text": [
      "/tmp/ipykernel_1285281/2195649114.py:4: FutureWarning: suggest_loguniform has been deprecated in v3.0.0. This feature will be removed in v6.0.0. See https://github.com/optuna/optuna/releases/tag/v3.0.0. Use suggest_float(..., log=True) instead.\n",
      "  learning_rate = trial.suggest_loguniform(\"learning_rate\", 1e-4, 1e-1)  # 範囲を調整\n",
      "/tmp/ipykernel_1285281/2195649114.py:5: FutureWarning: suggest_loguniform has been deprecated in v3.0.0. This feature will be removed in v6.0.0. See https://github.com/optuna/optuna/releases/tag/v3.0.0. Use suggest_float(..., log=True) instead.\n",
      "  weight_decay = trial.suggest_loguniform(\"weight_decay\", 1e-5, 1e-1)   # 範囲を調整\n",
      "[I 2024-12-12 21:01:52,343] Trial 3 finished with value: 0.2253425835243262 and parameters: {'dropout1': 0.05, 'dropout2': 0.25, 'learning_rate': 0.0006050156111429414, 'weight_decay': 0.0005206687189751427}. Best is trial 3 with value: 0.2253425835243262.\n"
     ]
    },
    {
     "name": "stdout",
     "output_type": "stream",
     "text": [
      "Early stopping at epoch 43\n",
      "Final MCC: 0.2253\n"
     ]
    },
    {
     "name": "stderr",
     "output_type": "stream",
     "text": [
      "/tmp/ipykernel_1285281/2195649114.py:4: FutureWarning: suggest_loguniform has been deprecated in v3.0.0. This feature will be removed in v6.0.0. See https://github.com/optuna/optuna/releases/tag/v3.0.0. Use suggest_float(..., log=True) instead.\n",
      "  learning_rate = trial.suggest_loguniform(\"learning_rate\", 1e-4, 1e-1)  # 範囲を調整\n",
      "/tmp/ipykernel_1285281/2195649114.py:5: FutureWarning: suggest_loguniform has been deprecated in v3.0.0. This feature will be removed in v6.0.0. See https://github.com/optuna/optuna/releases/tag/v3.0.0. Use suggest_float(..., log=True) instead.\n",
      "  weight_decay = trial.suggest_loguniform(\"weight_decay\", 1e-5, 1e-1)   # 範囲を調整\n",
      "[I 2024-12-12 21:01:59,028] Trial 4 finished with value: 0.18285714285714286 and parameters: {'dropout1': 0.05, 'dropout2': 0.1, 'learning_rate': 0.0003738514609695898, 'weight_decay': 1.477463450895148e-05}. Best is trial 3 with value: 0.2253425835243262.\n",
      "/tmp/ipykernel_1285281/2195649114.py:4: FutureWarning: suggest_loguniform has been deprecated in v3.0.0. This feature will be removed in v6.0.0. See https://github.com/optuna/optuna/releases/tag/v3.0.0. Use suggest_float(..., log=True) instead.\n",
      "  learning_rate = trial.suggest_loguniform(\"learning_rate\", 1e-4, 1e-1)  # 範囲を調整\n",
      "/tmp/ipykernel_1285281/2195649114.py:5: FutureWarning: suggest_loguniform has been deprecated in v3.0.0. This feature will be removed in v6.0.0. See https://github.com/optuna/optuna/releases/tag/v3.0.0. Use suggest_float(..., log=True) instead.\n",
      "  weight_decay = trial.suggest_loguniform(\"weight_decay\", 1e-5, 1e-1)   # 範囲を調整\n",
      "[I 2024-12-12 21:01:59,185] Trial 5 pruned. \n"
     ]
    },
    {
     "name": "stdout",
     "output_type": "stream",
     "text": [
      "Early stopping at epoch 49\n",
      "Final MCC: 0.1829\n"
     ]
    },
    {
     "name": "stderr",
     "output_type": "stream",
     "text": [
      "[I 2024-12-12 21:01:59,335] Trial 6 pruned. \n",
      "[I 2024-12-12 21:01:59,479] Trial 7 pruned. \n",
      "[I 2024-12-12 21:02:05,845] Trial 8 finished with value: 0.06986653107724576 and parameters: {'dropout1': 0.1, 'dropout2': 0.5, 'learning_rate': 0.0008578798704694724, 'weight_decay': 0.05149870992773073}. Best is trial 3 with value: 0.2253425835243262.\n",
      "/tmp/ipykernel_1285281/2195649114.py:4: FutureWarning: suggest_loguniform has been deprecated in v3.0.0. This feature will be removed in v6.0.0. See https://github.com/optuna/optuna/releases/tag/v3.0.0. Use suggest_float(..., log=True) instead.\n",
      "  learning_rate = trial.suggest_loguniform(\"learning_rate\", 1e-4, 1e-1)  # 範囲を調整\n",
      "/tmp/ipykernel_1285281/2195649114.py:5: FutureWarning: suggest_loguniform has been deprecated in v3.0.0. This feature will be removed in v6.0.0. See https://github.com/optuna/optuna/releases/tag/v3.0.0. Use suggest_float(..., log=True) instead.\n",
      "  weight_decay = trial.suggest_loguniform(\"weight_decay\", 1e-5, 1e-1)   # 範囲を調整\n",
      "[I 2024-12-12 21:02:05,982] Trial 9 pruned. \n"
     ]
    },
    {
     "name": "stdout",
     "output_type": "stream",
     "text": [
      "Early stopping at epoch 46\n",
      "Final MCC: 0.0699\n"
     ]
    },
    {
     "name": "stderr",
     "output_type": "stream",
     "text": [
      "[I 2024-12-12 21:02:18,270] Trial 10 finished with value: 0.16469315538757745 and parameters: {'dropout1': 0.0, 'dropout2': 0.15000000000000002, 'learning_rate': 0.0001110656953550572, 'weight_decay': 0.0002693998084069984}. Best is trial 3 with value: 0.2253425835243262.\n"
     ]
    },
    {
     "name": "stdout",
     "output_type": "stream",
     "text": [
      "Early stopping at epoch 90\n",
      "Final MCC: 0.1647\n"
     ]
    },
    {
     "name": "stderr",
     "output_type": "stream",
     "text": [
      "/tmp/ipykernel_1285281/2195649114.py:4: FutureWarning: suggest_loguniform has been deprecated in v3.0.0. This feature will be removed in v6.0.0. See https://github.com/optuna/optuna/releases/tag/v3.0.0. Use suggest_float(..., log=True) instead.\n",
      "  learning_rate = trial.suggest_loguniform(\"learning_rate\", 1e-4, 1e-1)  # 範囲を調整\n",
      "/tmp/ipykernel_1285281/2195649114.py:5: FutureWarning: suggest_loguniform has been deprecated in v3.0.0. This feature will be removed in v6.0.0. See https://github.com/optuna/optuna/releases/tag/v3.0.0. Use suggest_float(..., log=True) instead.\n",
      "  weight_decay = trial.suggest_loguniform(\"weight_decay\", 1e-5, 1e-1)   # 範囲を調整\n",
      "[I 2024-12-12 21:02:24,114] Trial 11 finished with value: 0.1981107909197888 and parameters: {'dropout1': 0.15000000000000002, 'dropout2': 0.45, 'learning_rate': 0.0015616774937329556, 'weight_decay': 0.0007023077278952505}. Best is trial 3 with value: 0.2253425835243262.\n",
      "/tmp/ipykernel_1285281/2195649114.py:4: FutureWarning: suggest_loguniform has been deprecated in v3.0.0. This feature will be removed in v6.0.0. See https://github.com/optuna/optuna/releases/tag/v3.0.0. Use suggest_float(..., log=True) instead.\n",
      "  learning_rate = trial.suggest_loguniform(\"learning_rate\", 1e-4, 1e-1)  # 範囲を調整\n",
      "/tmp/ipykernel_1285281/2195649114.py:5: FutureWarning: suggest_loguniform has been deprecated in v3.0.0. This feature will be removed in v6.0.0. See https://github.com/optuna/optuna/releases/tag/v3.0.0. Use suggest_float(..., log=True) instead.\n",
      "  weight_decay = trial.suggest_loguniform(\"weight_decay\", 1e-5, 1e-1)   # 範囲を調整\n",
      "[I 2024-12-12 21:02:24,288] Trial 12 pruned. \n"
     ]
    },
    {
     "name": "stdout",
     "output_type": "stream",
     "text": [
      "Early stopping at epoch 41\n",
      "Final MCC: 0.1981\n"
     ]
    },
    {
     "name": "stderr",
     "output_type": "stream",
     "text": [
      "[I 2024-12-12 21:02:24,466] Trial 13 pruned. \n",
      "[I 2024-12-12 21:02:24,654] Trial 14 pruned. \n",
      "[I 2024-12-12 21:02:24,811] Trial 15 pruned. \n",
      "[I 2024-12-12 21:02:24,973] Trial 16 pruned. \n",
      "[I 2024-12-12 21:02:25,146] Trial 17 pruned. \n",
      "[I 2024-12-12 21:02:25,312] Trial 18 pruned. \n",
      "[I 2024-12-12 21:02:25,503] Trial 19 pruned. \n",
      "[I 2024-12-12 21:02:25,672] Trial 20 pruned. \n",
      "[I 2024-12-12 21:02:30,981] Trial 21 finished with value: 0.2006979507182985 and parameters: {'dropout1': 0.15000000000000002, 'dropout2': 0.45, 'learning_rate': 0.0016653208754423413, 'weight_decay': 0.00035040005606920175}. Best is trial 3 with value: 0.2253425835243262.\n",
      "/tmp/ipykernel_1285281/2195649114.py:4: FutureWarning: suggest_loguniform has been deprecated in v3.0.0. This feature will be removed in v6.0.0. See https://github.com/optuna/optuna/releases/tag/v3.0.0. Use suggest_float(..., log=True) instead.\n",
      "  learning_rate = trial.suggest_loguniform(\"learning_rate\", 1e-4, 1e-1)  # 範囲を調整\n",
      "/tmp/ipykernel_1285281/2195649114.py:5: FutureWarning: suggest_loguniform has been deprecated in v3.0.0. This feature will be removed in v6.0.0. See https://github.com/optuna/optuna/releases/tag/v3.0.0. Use suggest_float(..., log=True) instead.\n",
      "  weight_decay = trial.suggest_loguniform(\"weight_decay\", 1e-5, 1e-1)   # 範囲を調整\n",
      "[I 2024-12-12 21:02:31,152] Trial 22 pruned. \n"
     ]
    },
    {
     "name": "stdout",
     "output_type": "stream",
     "text": [
      "Early stopping at epoch 38\n",
      "Final MCC: 0.2007\n"
     ]
    },
    {
     "name": "stderr",
     "output_type": "stream",
     "text": [
      "[I 2024-12-12 21:02:31,324] Trial 23 pruned. \n",
      "[I 2024-12-12 21:02:31,496] Trial 24 pruned. \n",
      "[I 2024-12-12 21:02:31,660] Trial 25 pruned. \n",
      "[I 2024-12-12 21:02:31,851] Trial 26 pruned. \n",
      "[I 2024-12-12 21:02:38,751] Trial 27 finished with value: 0.19752488647727628 and parameters: {'dropout1': 0.25, 'dropout2': 0.5, 'learning_rate': 0.0024926905939034673, 'weight_decay': 0.0001722785819207004}. Best is trial 3 with value: 0.2253425835243262.\n",
      "/tmp/ipykernel_1285281/2195649114.py:4: FutureWarning: suggest_loguniform has been deprecated in v3.0.0. This feature will be removed in v6.0.0. See https://github.com/optuna/optuna/releases/tag/v3.0.0. Use suggest_float(..., log=True) instead.\n",
      "  learning_rate = trial.suggest_loguniform(\"learning_rate\", 1e-4, 1e-1)  # 範囲を調整\n",
      "/tmp/ipykernel_1285281/2195649114.py:5: FutureWarning: suggest_loguniform has been deprecated in v3.0.0. This feature will be removed in v6.0.0. See https://github.com/optuna/optuna/releases/tag/v3.0.0. Use suggest_float(..., log=True) instead.\n",
      "  weight_decay = trial.suggest_loguniform(\"weight_decay\", 1e-5, 1e-1)   # 範囲を調整\n",
      "[I 2024-12-12 21:02:38,918] Trial 28 pruned. \n"
     ]
    },
    {
     "name": "stdout",
     "output_type": "stream",
     "text": [
      "Early stopping at epoch 50\n",
      "Final MCC: 0.1975\n"
     ]
    },
    {
     "name": "stderr",
     "output_type": "stream",
     "text": [
      "[I 2024-12-12 21:02:39,105] Trial 29 pruned. \n",
      "[I 2024-12-12 21:02:44,692] Trial 30 finished with value: 0.20155811598048665 and parameters: {'dropout1': 0.2, 'dropout2': 0.25, 'learning_rate': 0.0010928858792809057, 'weight_decay': 0.010679656136870037}. Best is trial 3 with value: 0.2253425835243262.\n",
      "/tmp/ipykernel_1285281/2195649114.py:4: FutureWarning: suggest_loguniform has been deprecated in v3.0.0. This feature will be removed in v6.0.0. See https://github.com/optuna/optuna/releases/tag/v3.0.0. Use suggest_float(..., log=True) instead.\n",
      "  learning_rate = trial.suggest_loguniform(\"learning_rate\", 1e-4, 1e-1)  # 範囲を調整\n",
      "/tmp/ipykernel_1285281/2195649114.py:5: FutureWarning: suggest_loguniform has been deprecated in v3.0.0. This feature will be removed in v6.0.0. See https://github.com/optuna/optuna/releases/tag/v3.0.0. Use suggest_float(..., log=True) instead.\n",
      "  weight_decay = trial.suggest_loguniform(\"weight_decay\", 1e-5, 1e-1)   # 範囲を調整\n",
      "[I 2024-12-12 21:02:44,872] Trial 31 pruned. \n"
     ]
    },
    {
     "name": "stdout",
     "output_type": "stream",
     "text": [
      "Early stopping at epoch 40\n",
      "Final MCC: 0.2016\n"
     ]
    },
    {
     "name": "stderr",
     "output_type": "stream",
     "text": [
      "[I 2024-12-12 21:02:45,046] Trial 32 pruned. \n",
      "[I 2024-12-12 21:02:55,078] Trial 33 finished with value: -0.020498001542269693 and parameters: {'dropout1': 0.25, 'dropout2': 0.30000000000000004, 'learning_rate': 0.00038826311970261275, 'weight_decay': 0.045396363294932816}. Best is trial 3 with value: 0.2253425835243262.\n",
      "/tmp/ipykernel_1285281/2195649114.py:4: FutureWarning: suggest_loguniform has been deprecated in v3.0.0. This feature will be removed in v6.0.0. See https://github.com/optuna/optuna/releases/tag/v3.0.0. Use suggest_float(..., log=True) instead.\n",
      "  learning_rate = trial.suggest_loguniform(\"learning_rate\", 1e-4, 1e-1)  # 範囲を調整\n",
      "/tmp/ipykernel_1285281/2195649114.py:5: FutureWarning: suggest_loguniform has been deprecated in v3.0.0. This feature will be removed in v6.0.0. See https://github.com/optuna/optuna/releases/tag/v3.0.0. Use suggest_float(..., log=True) instead.\n",
      "  weight_decay = trial.suggest_loguniform(\"weight_decay\", 1e-5, 1e-1)   # 範囲を調整\n",
      "[I 2024-12-12 21:02:55,243] Trial 34 pruned. \n"
     ]
    },
    {
     "name": "stdout",
     "output_type": "stream",
     "text": [
      "Early stopping at epoch 73\n",
      "Final MCC: -0.0205\n"
     ]
    },
    {
     "name": "stderr",
     "output_type": "stream",
     "text": [
      "[I 2024-12-12 21:02:55,408] Trial 35 pruned. \n",
      "[I 2024-12-12 21:02:55,597] Trial 36 pruned. \n",
      "[I 2024-12-12 21:02:55,758] Trial 37 pruned. \n",
      "[I 2024-12-12 21:02:55,938] Trial 38 pruned. \n",
      "[I 2024-12-12 21:02:56,102] Trial 39 pruned. \n",
      "[I 2024-12-12 21:02:56,255] Trial 40 pruned. \n",
      "[I 2024-12-12 21:02:56,417] Trial 41 pruned. \n",
      "[I 2024-12-12 21:03:01,840] Trial 42 finished with value: 0.11073664488434595 and parameters: {'dropout1': 0.25, 'dropout2': 0.5, 'learning_rate': 0.0008847169550095093, 'weight_decay': 0.0007399069168938951}. Best is trial 3 with value: 0.2253425835243262.\n",
      "/tmp/ipykernel_1285281/2195649114.py:4: FutureWarning: suggest_loguniform has been deprecated in v3.0.0. This feature will be removed in v6.0.0. See https://github.com/optuna/optuna/releases/tag/v3.0.0. Use suggest_float(..., log=True) instead.\n",
      "  learning_rate = trial.suggest_loguniform(\"learning_rate\", 1e-4, 1e-1)  # 範囲を調整\n",
      "/tmp/ipykernel_1285281/2195649114.py:5: FutureWarning: suggest_loguniform has been deprecated in v3.0.0. This feature will be removed in v6.0.0. See https://github.com/optuna/optuna/releases/tag/v3.0.0. Use suggest_float(..., log=True) instead.\n",
      "  weight_decay = trial.suggest_loguniform(\"weight_decay\", 1e-5, 1e-1)   # 範囲を調整\n",
      "[I 2024-12-12 21:03:02,012] Trial 43 pruned. \n"
     ]
    },
    {
     "name": "stdout",
     "output_type": "stream",
     "text": [
      "Early stopping at epoch 40\n",
      "Final MCC: 0.1107\n"
     ]
    },
    {
     "name": "stderr",
     "output_type": "stream",
     "text": [
      "[I 2024-12-12 21:03:02,191] Trial 44 pruned. \n",
      "[I 2024-12-12 21:03:06,779] Trial 45 finished with value: 0.12866309174879753 and parameters: {'dropout1': 0.30000000000000004, 'dropout2': 0.35000000000000003, 'learning_rate': 0.0016065374997485, 'weight_decay': 0.009972253445082763}. Best is trial 3 with value: 0.2253425835243262.\n",
      "/tmp/ipykernel_1285281/2195649114.py:4: FutureWarning: suggest_loguniform has been deprecated in v3.0.0. This feature will be removed in v6.0.0. See https://github.com/optuna/optuna/releases/tag/v3.0.0. Use suggest_float(..., log=True) instead.\n",
      "  learning_rate = trial.suggest_loguniform(\"learning_rate\", 1e-4, 1e-1)  # 範囲を調整\n",
      "/tmp/ipykernel_1285281/2195649114.py:5: FutureWarning: suggest_loguniform has been deprecated in v3.0.0. This feature will be removed in v6.0.0. See https://github.com/optuna/optuna/releases/tag/v3.0.0. Use suggest_float(..., log=True) instead.\n",
      "  weight_decay = trial.suggest_loguniform(\"weight_decay\", 1e-5, 1e-1)   # 範囲を調整\n",
      "[I 2024-12-12 21:03:06,913] Trial 46 pruned. \n"
     ]
    },
    {
     "name": "stdout",
     "output_type": "stream",
     "text": [
      "Early stopping at epoch 34\n",
      "Final MCC: 0.1287\n"
     ]
    },
    {
     "name": "stderr",
     "output_type": "stream",
     "text": [
      "[I 2024-12-12 21:03:07,072] Trial 47 pruned. \n",
      "[I 2024-12-12 21:03:15,486] Trial 48 finished with value: 0.09311575134142959 and parameters: {'dropout1': 0.15000000000000002, 'dropout2': 0.35000000000000003, 'learning_rate': 0.0007588118088421798, 'weight_decay': 0.017631602165295204}. Best is trial 3 with value: 0.2253425835243262.\n",
      "/tmp/ipykernel_1285281/2195649114.py:4: FutureWarning: suggest_loguniform has been deprecated in v3.0.0. This feature will be removed in v6.0.0. See https://github.com/optuna/optuna/releases/tag/v3.0.0. Use suggest_float(..., log=True) instead.\n",
      "  learning_rate = trial.suggest_loguniform(\"learning_rate\", 1e-4, 1e-1)  # 範囲を調整\n",
      "/tmp/ipykernel_1285281/2195649114.py:5: FutureWarning: suggest_loguniform has been deprecated in v3.0.0. This feature will be removed in v6.0.0. See https://github.com/optuna/optuna/releases/tag/v3.0.0. Use suggest_float(..., log=True) instead.\n",
      "  weight_decay = trial.suggest_loguniform(\"weight_decay\", 1e-5, 1e-1)   # 範囲を調整\n",
      "[I 2024-12-12 21:03:15,659] Trial 49 pruned. \n"
     ]
    },
    {
     "name": "stdout",
     "output_type": "stream",
     "text": [
      "Early stopping at epoch 62\n",
      "Final MCC: 0.0931\n"
     ]
    },
    {
     "name": "stderr",
     "output_type": "stream",
     "text": [
      "[I 2024-12-12 21:03:25,868] Trial 50 finished with value: 0.22021303264001046 and parameters: {'dropout1': 0.0, 'dropout2': 0.4, 'learning_rate': 0.00030106870157138235, 'weight_decay': 0.00038047422743411863}. Best is trial 3 with value: 0.2253425835243262.\n"
     ]
    },
    {
     "name": "stdout",
     "output_type": "stream",
     "text": [
      "Early stopping at epoch 76\n",
      "Final MCC: 0.2202\n"
     ]
    },
    {
     "name": "stderr",
     "output_type": "stream",
     "text": [
      "/tmp/ipykernel_1285281/2195649114.py:4: FutureWarning: suggest_loguniform has been deprecated in v3.0.0. This feature will be removed in v6.0.0. See https://github.com/optuna/optuna/releases/tag/v3.0.0. Use suggest_float(..., log=True) instead.\n",
      "  learning_rate = trial.suggest_loguniform(\"learning_rate\", 1e-4, 1e-1)  # 範囲を調整\n",
      "/tmp/ipykernel_1285281/2195649114.py:5: FutureWarning: suggest_loguniform has been deprecated in v3.0.0. This feature will be removed in v6.0.0. See https://github.com/optuna/optuna/releases/tag/v3.0.0. Use suggest_float(..., log=True) instead.\n",
      "  weight_decay = trial.suggest_loguniform(\"weight_decay\", 1e-5, 1e-1)   # 範囲を調整\n",
      "[I 2024-12-12 21:03:35,911] Trial 51 finished with value: 0.23456648721306436 and parameters: {'dropout1': 0.0, 'dropout2': 0.4, 'learning_rate': 0.0002629863626109198, 'weight_decay': 0.00037853668743634907}. Best is trial 51 with value: 0.23456648721306436.\n",
      "/tmp/ipykernel_1285281/2195649114.py:4: FutureWarning: suggest_loguniform has been deprecated in v3.0.0. This feature will be removed in v6.0.0. See https://github.com/optuna/optuna/releases/tag/v3.0.0. Use suggest_float(..., log=True) instead.\n",
      "  learning_rate = trial.suggest_loguniform(\"learning_rate\", 1e-4, 1e-1)  # 範囲を調整\n",
      "/tmp/ipykernel_1285281/2195649114.py:5: FutureWarning: suggest_loguniform has been deprecated in v3.0.0. This feature will be removed in v6.0.0. See https://github.com/optuna/optuna/releases/tag/v3.0.0. Use suggest_float(..., log=True) instead.\n",
      "  weight_decay = trial.suggest_loguniform(\"weight_decay\", 1e-5, 1e-1)   # 範囲を調整\n",
      "[I 2024-12-12 21:03:36,098] Trial 52 pruned. \n"
     ]
    },
    {
     "name": "stdout",
     "output_type": "stream",
     "text": [
      "Early stopping at epoch 77\n",
      "Final MCC: 0.2346\n"
     ]
    },
    {
     "name": "stderr",
     "output_type": "stream",
     "text": [
      "[I 2024-12-12 21:03:36,286] Trial 53 pruned. \n",
      "[I 2024-12-12 21:03:36,456] Trial 54 pruned. \n",
      "[I 2024-12-12 21:03:36,619] Trial 55 pruned. \n",
      "[I 2024-12-12 21:03:41,404] Trial 56 finished with value: 0.2505981300796612 and parameters: {'dropout1': 0.0, 'dropout2': 0.30000000000000004, 'learning_rate': 0.0005031487583495494, 'weight_decay': 0.0009531416398357554}. Best is trial 56 with value: 0.2505981300796612.\n",
      "/tmp/ipykernel_1285281/2195649114.py:4: FutureWarning: suggest_loguniform has been deprecated in v3.0.0. This feature will be removed in v6.0.0. See https://github.com/optuna/optuna/releases/tag/v3.0.0. Use suggest_float(..., log=True) instead.\n",
      "  learning_rate = trial.suggest_loguniform(\"learning_rate\", 1e-4, 1e-1)  # 範囲を調整\n",
      "/tmp/ipykernel_1285281/2195649114.py:5: FutureWarning: suggest_loguniform has been deprecated in v3.0.0. This feature will be removed in v6.0.0. See https://github.com/optuna/optuna/releases/tag/v3.0.0. Use suggest_float(..., log=True) instead.\n",
      "  weight_decay = trial.suggest_loguniform(\"weight_decay\", 1e-5, 1e-1)   # 範囲を調整\n",
      "[I 2024-12-12 21:03:41,579] Trial 57 pruned. \n"
     ]
    },
    {
     "name": "stdout",
     "output_type": "stream",
     "text": [
      "Early stopping at epoch 35\n",
      "Final MCC: 0.2506\n"
     ]
    },
    {
     "name": "stderr",
     "output_type": "stream",
     "text": [
      "[I 2024-12-12 21:03:41,746] Trial 58 pruned. \n",
      "[I 2024-12-12 21:03:41,939] Trial 59 pruned. \n",
      "[I 2024-12-12 21:03:42,107] Trial 60 pruned. \n",
      "[I 2024-12-12 21:03:55,593] Trial 61 finished with value: 0.16061237167872047 and parameters: {'dropout1': 0.05, 'dropout2': 0.45, 'learning_rate': 0.0001424561997665493, 'weight_decay': 0.0009035087345693045}. Best is trial 56 with value: 0.2505981300796612.\n"
     ]
    },
    {
     "name": "stdout",
     "output_type": "stream",
     "text": [
      "Final MCC: 0.1606\n"
     ]
    },
    {
     "name": "stderr",
     "output_type": "stream",
     "text": [
      "/tmp/ipykernel_1285281/2195649114.py:4: FutureWarning: suggest_loguniform has been deprecated in v3.0.0. This feature will be removed in v6.0.0. See https://github.com/optuna/optuna/releases/tag/v3.0.0. Use suggest_float(..., log=True) instead.\n",
      "  learning_rate = trial.suggest_loguniform(\"learning_rate\", 1e-4, 1e-1)  # 範囲を調整\n",
      "/tmp/ipykernel_1285281/2195649114.py:5: FutureWarning: suggest_loguniform has been deprecated in v3.0.0. This feature will be removed in v6.0.0. See https://github.com/optuna/optuna/releases/tag/v3.0.0. Use suggest_float(..., log=True) instead.\n",
      "  weight_decay = trial.suggest_loguniform(\"weight_decay\", 1e-5, 1e-1)   # 範囲を調整\n",
      "[I 2024-12-12 21:04:08,751] Trial 62 finished with value: 0.2491270510681658 and parameters: {'dropout1': 0.1, 'dropout2': 0.4, 'learning_rate': 0.0002354854665453752, 'weight_decay': 0.0003777272803730575}. Best is trial 56 with value: 0.2505981300796612.\n"
     ]
    },
    {
     "name": "stdout",
     "output_type": "stream",
     "text": [
      "Final MCC: 0.2491\n"
     ]
    },
    {
     "name": "stderr",
     "output_type": "stream",
     "text": [
      "/tmp/ipykernel_1285281/2195649114.py:4: FutureWarning: suggest_loguniform has been deprecated in v3.0.0. This feature will be removed in v6.0.0. See https://github.com/optuna/optuna/releases/tag/v3.0.0. Use suggest_float(..., log=True) instead.\n",
      "  learning_rate = trial.suggest_loguniform(\"learning_rate\", 1e-4, 1e-1)  # 範囲を調整\n",
      "/tmp/ipykernel_1285281/2195649114.py:5: FutureWarning: suggest_loguniform has been deprecated in v3.0.0. This feature will be removed in v6.0.0. See https://github.com/optuna/optuna/releases/tag/v3.0.0. Use suggest_float(..., log=True) instead.\n",
      "  weight_decay = trial.suggest_loguniform(\"weight_decay\", 1e-5, 1e-1)   # 範囲を調整\n",
      "[I 2024-12-12 21:04:20,479] Trial 63 finished with value: 0.23969851967409345 and parameters: {'dropout1': 0.1, 'dropout2': 0.35000000000000003, 'learning_rate': 0.00033389792995967875, 'weight_decay': 0.0006667854225254814}. Best is trial 56 with value: 0.2505981300796612.\n"
     ]
    },
    {
     "name": "stdout",
     "output_type": "stream",
     "text": [
      "Early stopping at epoch 85\n",
      "Final MCC: 0.2397\n"
     ]
    },
    {
     "name": "stderr",
     "output_type": "stream",
     "text": [
      "/tmp/ipykernel_1285281/2195649114.py:4: FutureWarning: suggest_loguniform has been deprecated in v3.0.0. This feature will be removed in v6.0.0. See https://github.com/optuna/optuna/releases/tag/v3.0.0. Use suggest_float(..., log=True) instead.\n",
      "  learning_rate = trial.suggest_loguniform(\"learning_rate\", 1e-4, 1e-1)  # 範囲を調整\n",
      "/tmp/ipykernel_1285281/2195649114.py:5: FutureWarning: suggest_loguniform has been deprecated in v3.0.0. This feature will be removed in v6.0.0. See https://github.com/optuna/optuna/releases/tag/v3.0.0. Use suggest_float(..., log=True) instead.\n",
      "  weight_decay = trial.suggest_loguniform(\"weight_decay\", 1e-5, 1e-1)   # 範囲を調整\n",
      "[I 2024-12-12 21:04:33,606] Trial 64 finished with value: 0.19245008972987526 and parameters: {'dropout1': 0.1, 'dropout2': 0.4, 'learning_rate': 0.00026474947717469125, 'weight_decay': 0.00027339035689474275}. Best is trial 56 with value: 0.2505981300796612.\n"
     ]
    },
    {
     "name": "stdout",
     "output_type": "stream",
     "text": [
      "Early stopping at epoch 97\n",
      "Final MCC: 0.1925\n"
     ]
    },
    {
     "name": "stderr",
     "output_type": "stream",
     "text": [
      "/tmp/ipykernel_1285281/2195649114.py:4: FutureWarning: suggest_loguniform has been deprecated in v3.0.0. This feature will be removed in v6.0.0. See https://github.com/optuna/optuna/releases/tag/v3.0.0. Use suggest_float(..., log=True) instead.\n",
      "  learning_rate = trial.suggest_loguniform(\"learning_rate\", 1e-4, 1e-1)  # 範囲を調整\n",
      "/tmp/ipykernel_1285281/2195649114.py:5: FutureWarning: suggest_loguniform has been deprecated in v3.0.0. This feature will be removed in v6.0.0. See https://github.com/optuna/optuna/releases/tag/v3.0.0. Use suggest_float(..., log=True) instead.\n",
      "  weight_decay = trial.suggest_loguniform(\"weight_decay\", 1e-5, 1e-1)   # 範囲を調整\n",
      "[I 2024-12-12 21:04:47,042] Trial 65 finished with value: 0.2820380374088831 and parameters: {'dropout1': 0.05, 'dropout2': 0.35000000000000003, 'learning_rate': 0.0001037074018757262, 'weight_decay': 0.0007126637506587911}. Best is trial 65 with value: 0.2820380374088831.\n",
      "/tmp/ipykernel_1285281/2195649114.py:4: FutureWarning: suggest_loguniform has been deprecated in v3.0.0. This feature will be removed in v6.0.0. See https://github.com/optuna/optuna/releases/tag/v3.0.0. Use suggest_float(..., log=True) instead.\n",
      "  learning_rate = trial.suggest_loguniform(\"learning_rate\", 1e-4, 1e-1)  # 範囲を調整\n",
      "/tmp/ipykernel_1285281/2195649114.py:5: FutureWarning: suggest_loguniform has been deprecated in v3.0.0. This feature will be removed in v6.0.0. See https://github.com/optuna/optuna/releases/tag/v3.0.0. Use suggest_float(..., log=True) instead.\n",
      "  weight_decay = trial.suggest_loguniform(\"weight_decay\", 1e-5, 1e-1)   # 範囲を調整\n",
      "[I 2024-12-12 21:04:47,197] Trial 66 pruned. \n"
     ]
    },
    {
     "name": "stdout",
     "output_type": "stream",
     "text": [
      "Final MCC: 0.2820\n"
     ]
    },
    {
     "name": "stderr",
     "output_type": "stream",
     "text": [
      "[I 2024-12-12 21:05:00,484] Trial 67 finished with value: 0.3519296838064799 and parameters: {'dropout1': 0.0, 'dropout2': 0.35000000000000003, 'learning_rate': 0.00011649952740879514, 'weight_decay': 0.0004698019738116687}. Best is trial 67 with value: 0.3519296838064799.\n",
      "/tmp/ipykernel_1285281/2195649114.py:4: FutureWarning: suggest_loguniform has been deprecated in v3.0.0. This feature will be removed in v6.0.0. See https://github.com/optuna/optuna/releases/tag/v3.0.0. Use suggest_float(..., log=True) instead.\n",
      "  learning_rate = trial.suggest_loguniform(\"learning_rate\", 1e-4, 1e-1)  # 範囲を調整\n",
      "/tmp/ipykernel_1285281/2195649114.py:5: FutureWarning: suggest_loguniform has been deprecated in v3.0.0. This feature will be removed in v6.0.0. See https://github.com/optuna/optuna/releases/tag/v3.0.0. Use suggest_float(..., log=True) instead.\n",
      "  weight_decay = trial.suggest_loguniform(\"weight_decay\", 1e-5, 1e-1)   # 範囲を調整\n",
      "[I 2024-12-12 21:05:00,654] Trial 68 pruned. \n"
     ]
    },
    {
     "name": "stdout",
     "output_type": "stream",
     "text": [
      "Final MCC: 0.3519\n"
     ]
    },
    {
     "name": "stderr",
     "output_type": "stream",
     "text": [
      "[I 2024-12-12 21:05:00,820] Trial 69 pruned. \n",
      "[I 2024-12-12 21:05:02,247] Trial 70 finished with value: 0.26970669762114313 and parameters: {'dropout1': 0.0, 'dropout2': 0.30000000000000004, 'learning_rate': 0.00014593789514500457, 'weight_decay': 0.0003090296919446039}. Best is trial 67 with value: 0.3519296838064799.\n"
     ]
    },
    {
     "name": "stdout",
     "output_type": "stream",
     "text": [
      "Early stopping at epoch 10\n",
      "Final MCC: 0.2697\n"
     ]
    },
    {
     "name": "stderr",
     "output_type": "stream",
     "text": [
      "/tmp/ipykernel_1285281/2195649114.py:4: FutureWarning: suggest_loguniform has been deprecated in v3.0.0. This feature will be removed in v6.0.0. See https://github.com/optuna/optuna/releases/tag/v3.0.0. Use suggest_float(..., log=True) instead.\n",
      "  learning_rate = trial.suggest_loguniform(\"learning_rate\", 1e-4, 1e-1)  # 範囲を調整\n",
      "/tmp/ipykernel_1285281/2195649114.py:5: FutureWarning: suggest_loguniform has been deprecated in v3.0.0. This feature will be removed in v6.0.0. See https://github.com/optuna/optuna/releases/tag/v3.0.0. Use suggest_float(..., log=True) instead.\n",
      "  weight_decay = trial.suggest_loguniform(\"weight_decay\", 1e-5, 1e-1)   # 範囲を調整\n",
      "[I 2024-12-12 21:05:15,321] Trial 71 finished with value: 0.15952463458184282 and parameters: {'dropout1': 0.0, 'dropout2': 0.30000000000000004, 'learning_rate': 0.00015306323029791406, 'weight_decay': 0.0005068329088081467}. Best is trial 67 with value: 0.3519296838064799.\n"
     ]
    },
    {
     "name": "stdout",
     "output_type": "stream",
     "text": [
      "Final MCC: 0.1595\n"
     ]
    },
    {
     "name": "stderr",
     "output_type": "stream",
     "text": [
      "/tmp/ipykernel_1285281/2195649114.py:4: FutureWarning: suggest_loguniform has been deprecated in v3.0.0. This feature will be removed in v6.0.0. See https://github.com/optuna/optuna/releases/tag/v3.0.0. Use suggest_float(..., log=True) instead.\n",
      "  learning_rate = trial.suggest_loguniform(\"learning_rate\", 1e-4, 1e-1)  # 範囲を調整\n",
      "/tmp/ipykernel_1285281/2195649114.py:5: FutureWarning: suggest_loguniform has been deprecated in v3.0.0. This feature will be removed in v6.0.0. See https://github.com/optuna/optuna/releases/tag/v3.0.0. Use suggest_float(..., log=True) instead.\n",
      "  weight_decay = trial.suggest_loguniform(\"weight_decay\", 1e-5, 1e-1)   # 範囲を調整\n",
      "[I 2024-12-12 21:05:28,311] Trial 72 finished with value: 0.16022142494441605 and parameters: {'dropout1': 0.0, 'dropout2': 0.30000000000000004, 'learning_rate': 0.00012815196698024925, 'weight_decay': 0.00029790993828445584}. Best is trial 67 with value: 0.3519296838064799.\n",
      "/tmp/ipykernel_1285281/2195649114.py:4: FutureWarning: suggest_loguniform has been deprecated in v3.0.0. This feature will be removed in v6.0.0. See https://github.com/optuna/optuna/releases/tag/v3.0.0. Use suggest_float(..., log=True) instead.\n",
      "  learning_rate = trial.suggest_loguniform(\"learning_rate\", 1e-4, 1e-1)  # 範囲を調整\n",
      "/tmp/ipykernel_1285281/2195649114.py:5: FutureWarning: suggest_loguniform has been deprecated in v3.0.0. This feature will be removed in v6.0.0. See https://github.com/optuna/optuna/releases/tag/v3.0.0. Use suggest_float(..., log=True) instead.\n",
      "  weight_decay = trial.suggest_loguniform(\"weight_decay\", 1e-5, 1e-1)   # 範囲を調整\n",
      "[I 2024-12-12 21:05:28,486] Trial 73 pruned. \n"
     ]
    },
    {
     "name": "stdout",
     "output_type": "stream",
     "text": [
      "Final MCC: 0.1602\n"
     ]
    },
    {
     "name": "stderr",
     "output_type": "stream",
     "text": [
      "[I 2024-12-12 21:05:41,899] Trial 74 finished with value: 0.3466162967069742 and parameters: {'dropout1': 0.1, 'dropout2': 0.30000000000000004, 'learning_rate': 0.0002237500328597118, 'weight_decay': 0.0006303450334521479}. Best is trial 67 with value: 0.3519296838064799.\n",
      "/tmp/ipykernel_1285281/2195649114.py:4: FutureWarning: suggest_loguniform has been deprecated in v3.0.0. This feature will be removed in v6.0.0. See https://github.com/optuna/optuna/releases/tag/v3.0.0. Use suggest_float(..., log=True) instead.\n",
      "  learning_rate = trial.suggest_loguniform(\"learning_rate\", 1e-4, 1e-1)  # 範囲を調整\n",
      "/tmp/ipykernel_1285281/2195649114.py:5: FutureWarning: suggest_loguniform has been deprecated in v3.0.0. This feature will be removed in v6.0.0. See https://github.com/optuna/optuna/releases/tag/v3.0.0. Use suggest_float(..., log=True) instead.\n",
      "  weight_decay = trial.suggest_loguniform(\"weight_decay\", 1e-5, 1e-1)   # 範囲を調整\n",
      "[I 2024-12-12 21:05:42,054] Trial 75 pruned. \n"
     ]
    },
    {
     "name": "stdout",
     "output_type": "stream",
     "text": [
      "Final MCC: 0.3466\n"
     ]
    },
    {
     "name": "stderr",
     "output_type": "stream",
     "text": [
      "[I 2024-12-12 21:05:42,221] Trial 76 pruned. \n",
      "[I 2024-12-12 21:05:55,468] Trial 77 finished with value: 0.20599826550471345 and parameters: {'dropout1': 0.05, 'dropout2': 0.4, 'learning_rate': 0.00012370918787220047, 'weight_decay': 0.0008913374849679078}. Best is trial 67 with value: 0.3519296838064799.\n",
      "/tmp/ipykernel_1285281/2195649114.py:4: FutureWarning: suggest_loguniform has been deprecated in v3.0.0. This feature will be removed in v6.0.0. See https://github.com/optuna/optuna/releases/tag/v3.0.0. Use suggest_float(..., log=True) instead.\n",
      "  learning_rate = trial.suggest_loguniform(\"learning_rate\", 1e-4, 1e-1)  # 範囲を調整\n",
      "/tmp/ipykernel_1285281/2195649114.py:5: FutureWarning: suggest_loguniform has been deprecated in v3.0.0. This feature will be removed in v6.0.0. See https://github.com/optuna/optuna/releases/tag/v3.0.0. Use suggest_float(..., log=True) instead.\n",
      "  weight_decay = trial.suggest_loguniform(\"weight_decay\", 1e-5, 1e-1)   # 範囲を調整\n",
      "[I 2024-12-12 21:05:55,593] Trial 78 pruned. \n"
     ]
    },
    {
     "name": "stdout",
     "output_type": "stream",
     "text": [
      "Final MCC: 0.2060\n"
     ]
    },
    {
     "name": "stderr",
     "output_type": "stream",
     "text": [
      "[I 2024-12-12 21:05:55,717] Trial 79 pruned. \n",
      "[I 2024-12-12 21:06:04,394] Trial 80 finished with value: 0.15348397985425583 and parameters: {'dropout1': 0.0, 'dropout2': 0.30000000000000004, 'learning_rate': 0.0003296896784989757, 'weight_decay': 0.0003167076885655517}. Best is trial 67 with value: 0.3519296838064799.\n",
      "/tmp/ipykernel_1285281/2195649114.py:4: FutureWarning: suggest_loguniform has been deprecated in v3.0.0. This feature will be removed in v6.0.0. See https://github.com/optuna/optuna/releases/tag/v3.0.0. Use suggest_float(..., log=True) instead.\n",
      "  learning_rate = trial.suggest_loguniform(\"learning_rate\", 1e-4, 1e-1)  # 範囲を調整\n",
      "/tmp/ipykernel_1285281/2195649114.py:5: FutureWarning: suggest_loguniform has been deprecated in v3.0.0. This feature will be removed in v6.0.0. See https://github.com/optuna/optuna/releases/tag/v3.0.0. Use suggest_float(..., log=True) instead.\n",
      "  weight_decay = trial.suggest_loguniform(\"weight_decay\", 1e-5, 1e-1)   # 範囲を調整\n",
      "[I 2024-12-12 21:06:04,566] Trial 81 pruned. \n"
     ]
    },
    {
     "name": "stdout",
     "output_type": "stream",
     "text": [
      "Early stopping at epoch 64\n",
      "Final MCC: 0.1535\n"
     ]
    },
    {
     "name": "stderr",
     "output_type": "stream",
     "text": [
      "[I 2024-12-12 21:06:04,739] Trial 82 pruned. \n",
      "[I 2024-12-12 21:06:04,895] Trial 83 pruned. \n",
      "[I 2024-12-12 21:06:14,615] Trial 84 finished with value: 0.18043743550526925 and parameters: {'dropout1': 0.0, 'dropout2': 0.4, 'learning_rate': 0.0003660035031549009, 'weight_decay': 0.0010267104178222509}. Best is trial 67 with value: 0.3519296838064799.\n"
     ]
    },
    {
     "name": "stdout",
     "output_type": "stream",
     "text": [
      "Early stopping at epoch 72\n",
      "Final MCC: 0.1804\n"
     ]
    },
    {
     "name": "stderr",
     "output_type": "stream",
     "text": [
      "/tmp/ipykernel_1285281/2195649114.py:4: FutureWarning: suggest_loguniform has been deprecated in v3.0.0. This feature will be removed in v6.0.0. See https://github.com/optuna/optuna/releases/tag/v3.0.0. Use suggest_float(..., log=True) instead.\n",
      "  learning_rate = trial.suggest_loguniform(\"learning_rate\", 1e-4, 1e-1)  # 範囲を調整\n",
      "/tmp/ipykernel_1285281/2195649114.py:5: FutureWarning: suggest_loguniform has been deprecated in v3.0.0. This feature will be removed in v6.0.0. See https://github.com/optuna/optuna/releases/tag/v3.0.0. Use suggest_float(..., log=True) instead.\n",
      "  weight_decay = trial.suggest_loguniform(\"weight_decay\", 1e-5, 1e-1)   # 範囲を調整\n",
      "[I 2024-12-12 21:06:28,101] Trial 85 finished with value: 0.29820711911014497 and parameters: {'dropout1': 0.45, 'dropout2': 0.30000000000000004, 'learning_rate': 0.00020742452527433268, 'weight_decay': 0.00040202510145417294}. Best is trial 67 with value: 0.3519296838064799.\n"
     ]
    },
    {
     "name": "stdout",
     "output_type": "stream",
     "text": [
      "Final MCC: 0.2982\n"
     ]
    },
    {
     "name": "stderr",
     "output_type": "stream",
     "text": [
      "/tmp/ipykernel_1285281/2195649114.py:4: FutureWarning: suggest_loguniform has been deprecated in v3.0.0. This feature will be removed in v6.0.0. See https://github.com/optuna/optuna/releases/tag/v3.0.0. Use suggest_float(..., log=True) instead.\n",
      "  learning_rate = trial.suggest_loguniform(\"learning_rate\", 1e-4, 1e-1)  # 範囲を調整\n",
      "/tmp/ipykernel_1285281/2195649114.py:5: FutureWarning: suggest_loguniform has been deprecated in v3.0.0. This feature will be removed in v6.0.0. See https://github.com/optuna/optuna/releases/tag/v3.0.0. Use suggest_float(..., log=True) instead.\n",
      "  weight_decay = trial.suggest_loguniform(\"weight_decay\", 1e-5, 1e-1)   # 範囲を調整\n",
      "[I 2024-12-12 21:06:41,532] Trial 86 finished with value: 0.06683528052994064 and parameters: {'dropout1': 0.45, 'dropout2': 0.30000000000000004, 'learning_rate': 0.00020052960684858854, 'weight_decay': 0.00022901721948393383}. Best is trial 67 with value: 0.3519296838064799.\n",
      "/tmp/ipykernel_1285281/2195649114.py:4: FutureWarning: suggest_loguniform has been deprecated in v3.0.0. This feature will be removed in v6.0.0. See https://github.com/optuna/optuna/releases/tag/v3.0.0. Use suggest_float(..., log=True) instead.\n",
      "  learning_rate = trial.suggest_loguniform(\"learning_rate\", 1e-4, 1e-1)  # 範囲を調整\n",
      "/tmp/ipykernel_1285281/2195649114.py:5: FutureWarning: suggest_loguniform has been deprecated in v3.0.0. This feature will be removed in v6.0.0. See https://github.com/optuna/optuna/releases/tag/v3.0.0. Use suggest_float(..., log=True) instead.\n",
      "  weight_decay = trial.suggest_loguniform(\"weight_decay\", 1e-5, 1e-1)   # 範囲を調整\n",
      "[I 2024-12-12 21:06:41,707] Trial 87 pruned. \n"
     ]
    },
    {
     "name": "stdout",
     "output_type": "stream",
     "text": [
      "Final MCC: 0.0668\n"
     ]
    },
    {
     "name": "stderr",
     "output_type": "stream",
     "text": [
      "[I 2024-12-12 21:06:55,251] Trial 88 finished with value: 0.2336269260954477 and parameters: {'dropout1': 0.35000000000000003, 'dropout2': 0.30000000000000004, 'learning_rate': 0.00015616357535195636, 'weight_decay': 0.0008196930412739763}. Best is trial 67 with value: 0.3519296838064799.\n"
     ]
    },
    {
     "name": "stdout",
     "output_type": "stream",
     "text": [
      "Final MCC: 0.2336\n"
     ]
    },
    {
     "name": "stderr",
     "output_type": "stream",
     "text": [
      "/tmp/ipykernel_1285281/2195649114.py:4: FutureWarning: suggest_loguniform has been deprecated in v3.0.0. This feature will be removed in v6.0.0. See https://github.com/optuna/optuna/releases/tag/v3.0.0. Use suggest_float(..., log=True) instead.\n",
      "  learning_rate = trial.suggest_loguniform(\"learning_rate\", 1e-4, 1e-1)  # 範囲を調整\n",
      "/tmp/ipykernel_1285281/2195649114.py:5: FutureWarning: suggest_loguniform has been deprecated in v3.0.0. This feature will be removed in v6.0.0. See https://github.com/optuna/optuna/releases/tag/v3.0.0. Use suggest_float(..., log=True) instead.\n",
      "  weight_decay = trial.suggest_loguniform(\"weight_decay\", 1e-5, 1e-1)   # 範囲を調整\n",
      "[I 2024-12-12 21:07:08,661] Trial 89 finished with value: 0.3262076873547043 and parameters: {'dropout1': 0.0, 'dropout2': 0.4, 'learning_rate': 0.000267100442732523, 'weight_decay': 0.0027127248233380524}. Best is trial 67 with value: 0.3519296838064799.\n",
      "/tmp/ipykernel_1285281/2195649114.py:4: FutureWarning: suggest_loguniform has been deprecated in v3.0.0. This feature will be removed in v6.0.0. See https://github.com/optuna/optuna/releases/tag/v3.0.0. Use suggest_float(..., log=True) instead.\n",
      "  learning_rate = trial.suggest_loguniform(\"learning_rate\", 1e-4, 1e-1)  # 範囲を調整\n",
      "/tmp/ipykernel_1285281/2195649114.py:5: FutureWarning: suggest_loguniform has been deprecated in v3.0.0. This feature will be removed in v6.0.0. See https://github.com/optuna/optuna/releases/tag/v3.0.0. Use suggest_float(..., log=True) instead.\n",
      "  weight_decay = trial.suggest_loguniform(\"weight_decay\", 1e-5, 1e-1)   # 範囲を調整\n",
      "[I 2024-12-12 21:07:08,849] Trial 90 pruned. \n"
     ]
    },
    {
     "name": "stdout",
     "output_type": "stream",
     "text": [
      "Final MCC: 0.3262\n"
     ]
    },
    {
     "name": "stderr",
     "output_type": "stream",
     "text": [
      "[I 2024-12-12 21:07:09,010] Trial 91 pruned. \n",
      "[I 2024-12-12 21:07:17,526] Trial 92 finished with value: 0.20855180581096214 and parameters: {'dropout1': 0.0, 'dropout2': 0.35000000000000003, 'learning_rate': 0.00033542689704526137, 'weight_decay': 0.001146382054508072}. Best is trial 67 with value: 0.3519296838064799.\n",
      "/tmp/ipykernel_1285281/2195649114.py:4: FutureWarning: suggest_loguniform has been deprecated in v3.0.0. This feature will be removed in v6.0.0. See https://github.com/optuna/optuna/releases/tag/v3.0.0. Use suggest_float(..., log=True) instead.\n",
      "  learning_rate = trial.suggest_loguniform(\"learning_rate\", 1e-4, 1e-1)  # 範囲を調整\n",
      "/tmp/ipykernel_1285281/2195649114.py:5: FutureWarning: suggest_loguniform has been deprecated in v3.0.0. This feature will be removed in v6.0.0. See https://github.com/optuna/optuna/releases/tag/v3.0.0. Use suggest_float(..., log=True) instead.\n",
      "  weight_decay = trial.suggest_loguniform(\"weight_decay\", 1e-5, 1e-1)   # 範囲を調整\n",
      "[I 2024-12-12 21:07:17,638] Trial 93 pruned. \n"
     ]
    },
    {
     "name": "stdout",
     "output_type": "stream",
     "text": [
      "Early stopping at epoch 67\n",
      "Final MCC: 0.2086\n"
     ]
    },
    {
     "name": "stderr",
     "output_type": "stream",
     "text": [
      "[I 2024-12-12 21:07:17,776] Trial 94 pruned. \n",
      "[I 2024-12-12 21:07:17,906] Trial 95 pruned. \n",
      "[I 2024-12-12 21:07:30,470] Trial 96 finished with value: 0.18850975507974496 and parameters: {'dropout1': 0.0, 'dropout2': 0.35000000000000003, 'learning_rate': 0.00023729564796997664, 'weight_decay': 0.0029369614226196295}. Best is trial 67 with value: 0.3519296838064799.\n",
      "/tmp/ipykernel_1285281/2195649114.py:4: FutureWarning: suggest_loguniform has been deprecated in v3.0.0. This feature will be removed in v6.0.0. See https://github.com/optuna/optuna/releases/tag/v3.0.0. Use suggest_float(..., log=True) instead.\n",
      "  learning_rate = trial.suggest_loguniform(\"learning_rate\", 1e-4, 1e-1)  # 範囲を調整\n",
      "/tmp/ipykernel_1285281/2195649114.py:5: FutureWarning: suggest_loguniform has been deprecated in v3.0.0. This feature will be removed in v6.0.0. See https://github.com/optuna/optuna/releases/tag/v3.0.0. Use suggest_float(..., log=True) instead.\n",
      "  weight_decay = trial.suggest_loguniform(\"weight_decay\", 1e-5, 1e-1)   # 範囲を調整\n",
      "[I 2024-12-12 21:07:30,591] Trial 97 pruned. \n"
     ]
    },
    {
     "name": "stdout",
     "output_type": "stream",
     "text": [
      "Final MCC: 0.1885\n"
     ]
    },
    {
     "name": "stderr",
     "output_type": "stream",
     "text": [
      "[I 2024-12-12 21:07:30,758] Trial 98 pruned. \n",
      "[I 2024-12-12 21:07:30,924] Trial 99 pruned. \n"
     ]
    },
    {
     "name": "stdout",
     "output_type": "stream",
     "text": [
      "Best Parameters:  {'dropout1': 0.0, 'dropout2': 0.35000000000000003, 'learning_rate': 0.00011649952740879514, 'weight_decay': 0.0004698019738116687}\n",
      "Best Validation F1:  0.3519296838064799\n"
     ]
    }
   ],
   "source": [
    "device_id = 0  # 使用するGPUのID（0または1）\n",
    "torch.cuda.set_device(device_id)\n",
    "device = torch.device(f\"cuda:{device_id}\" if torch.cuda.is_available() else \"cpu\")\n",
    "\n",
    "# Optunaの設定\n",
    "study = optuna.create_study(direction=\"maximize\")  \n",
    "study.optimize(objective, n_trials=100)\n",
    "\n",
    "# 結果表示\n",
    "print(\"Best Parameters: \", study.best_params)\n",
    "print(\"Best Validation F1: \", study.best_value)"
   ]
  },
  {
   "cell_type": "code",
   "execution_count": 57,
   "metadata": {},
   "outputs": [
    {
     "name": "stdout",
     "output_type": "stream",
     "text": [
      "Best parameters saved to 'best_params.json'\n"
     ]
    }
   ],
   "source": [
    "best_params = study.best_params\n",
    "\n",
    "# JSON形式で保存\n",
    "with open(\"optim_param/optim_DNN_6_params.json\", \"w\") as f:\n",
    "    json.dump(best_params, f)\n",
    "\n",
    "print(\"Best parameters saved to 'best_params.json'\")"
   ]
  },
  {
   "cell_type": "code",
   "execution_count": 77,
   "metadata": {},
   "outputs": [
    {
     "name": "stdout",
     "output_type": "stream",
     "text": [
      "Epoch [1/80], Loss: 0.7829\n",
      "Epoch [1/80], Train Loss: 0.7829, Val Loss: 0.7487\n",
      "Epoch [2/80], Loss: 0.7748\n",
      "Epoch [2/80], Train Loss: 0.7748, Val Loss: 0.7731\n",
      "Epoch [3/80], Loss: 0.7675\n",
      "Epoch [3/80], Train Loss: 0.7675, Val Loss: 0.7767\n",
      "Epoch [4/80], Loss: 0.7598\n",
      "Epoch [4/80], Train Loss: 0.7598, Val Loss: 0.7707\n",
      "Epoch [5/80], Loss: 0.7592\n",
      "Epoch [5/80], Train Loss: 0.7592, Val Loss: 0.7660\n",
      "Epoch [6/80], Loss: 0.7546\n",
      "Epoch [6/80], Train Loss: 0.7546, Val Loss: 0.7587\n",
      "Epoch [7/80], Loss: 0.7444\n",
      "Epoch [7/80], Train Loss: 0.7444, Val Loss: 0.7561\n",
      "Epoch [8/80], Loss: 0.7430\n",
      "Epoch [8/80], Train Loss: 0.7430, Val Loss: 0.7530\n",
      "Epoch [9/80], Loss: 0.7350\n",
      "Epoch [9/80], Train Loss: 0.7350, Val Loss: 0.7478\n",
      "Epoch [10/80], Loss: 0.7313\n",
      "Epoch [10/80], Train Loss: 0.7313, Val Loss: 0.7441\n",
      "Epoch [11/80], Loss: 0.7288\n",
      "Epoch [11/80], Train Loss: 0.7288, Val Loss: 0.7411\n",
      "Epoch [12/80], Loss: 0.7231\n",
      "Epoch [12/80], Train Loss: 0.7231, Val Loss: 0.7372\n",
      "Epoch [13/80], Loss: 0.7185\n",
      "Epoch [13/80], Train Loss: 0.7185, Val Loss: 0.7357\n",
      "Epoch [14/80], Loss: 0.7132\n",
      "Epoch [14/80], Train Loss: 0.7132, Val Loss: 0.7318\n",
      "Epoch [15/80], Loss: 0.7154\n",
      "Epoch [15/80], Train Loss: 0.7154, Val Loss: 0.7296\n",
      "Epoch [16/80], Loss: 0.7131\n",
      "Epoch [16/80], Train Loss: 0.7131, Val Loss: 0.7263\n",
      "Epoch [17/80], Loss: 0.7057\n",
      "Epoch [17/80], Train Loss: 0.7057, Val Loss: 0.7207\n",
      "Epoch [18/80], Loss: 0.7022\n",
      "Epoch [18/80], Train Loss: 0.7022, Val Loss: 0.7169\n",
      "Epoch [19/80], Loss: 0.6963\n",
      "Epoch [19/80], Train Loss: 0.6963, Val Loss: 0.7132\n",
      "Epoch [20/80], Loss: 0.7024\n",
      "Epoch [20/80], Train Loss: 0.7024, Val Loss: 0.7122\n",
      "Epoch [21/80], Loss: 0.6954\n",
      "Epoch [21/80], Train Loss: 0.6954, Val Loss: 0.7082\n",
      "Epoch [22/80], Loss: 0.6899\n",
      "Epoch [22/80], Train Loss: 0.6899, Val Loss: 0.7057\n",
      "Epoch [23/80], Loss: 0.6858\n",
      "Epoch [23/80], Train Loss: 0.6858, Val Loss: 0.7050\n",
      "Epoch [24/80], Loss: 0.6863\n",
      "Epoch [24/80], Train Loss: 0.6863, Val Loss: 0.7023\n",
      "Epoch [25/80], Loss: 0.6829\n",
      "Epoch [25/80], Train Loss: 0.6829, Val Loss: 0.6963\n",
      "Epoch [26/80], Loss: 0.6799\n",
      "Epoch [26/80], Train Loss: 0.6799, Val Loss: 0.6967\n",
      "Epoch [27/80], Loss: 0.6769\n",
      "Epoch [27/80], Train Loss: 0.6769, Val Loss: 0.6882\n",
      "Epoch [28/80], Loss: 0.6731\n",
      "Epoch [28/80], Train Loss: 0.6731, Val Loss: 0.6889\n",
      "Epoch [29/80], Loss: 0.6705\n",
      "Epoch [29/80], Train Loss: 0.6705, Val Loss: 0.6861\n",
      "Epoch [30/80], Loss: 0.6700\n",
      "Epoch [30/80], Train Loss: 0.6700, Val Loss: 0.6886\n",
      "Epoch [31/80], Loss: 0.6684\n",
      "Epoch [31/80], Train Loss: 0.6684, Val Loss: 0.6839\n",
      "Epoch [32/80], Loss: 0.6645\n",
      "Epoch [32/80], Train Loss: 0.6645, Val Loss: 0.6831\n",
      "Epoch [33/80], Loss: 0.6671\n",
      "Epoch [33/80], Train Loss: 0.6671, Val Loss: 0.6767\n",
      "Epoch [34/80], Loss: 0.6563\n",
      "Epoch [34/80], Train Loss: 0.6563, Val Loss: 0.6778\n",
      "Epoch [35/80], Loss: 0.6581\n",
      "Epoch [35/80], Train Loss: 0.6581, Val Loss: 0.6749\n",
      "Epoch [36/80], Loss: 0.6553\n",
      "Epoch [36/80], Train Loss: 0.6553, Val Loss: 0.6729\n",
      "Epoch [37/80], Loss: 0.6521\n",
      "Epoch [37/80], Train Loss: 0.6521, Val Loss: 0.6714\n",
      "Epoch [38/80], Loss: 0.6498\n",
      "Epoch [38/80], Train Loss: 0.6498, Val Loss: 0.6691\n",
      "Epoch [39/80], Loss: 0.6490\n",
      "Epoch [39/80], Train Loss: 0.6490, Val Loss: 0.6647\n",
      "Epoch [40/80], Loss: 0.6480\n",
      "Epoch [40/80], Train Loss: 0.6480, Val Loss: 0.6676\n",
      "Epoch [41/80], Loss: 0.6458\n",
      "Epoch [41/80], Train Loss: 0.6458, Val Loss: 0.6643\n",
      "Epoch [42/80], Loss: 0.6424\n",
      "Epoch [42/80], Train Loss: 0.6424, Val Loss: 0.6618\n",
      "Epoch [43/80], Loss: 0.6427\n",
      "Epoch [43/80], Train Loss: 0.6427, Val Loss: 0.6609\n",
      "Epoch [44/80], Loss: 0.6399\n",
      "Epoch [44/80], Train Loss: 0.6399, Val Loss: 0.6567\n",
      "Epoch [45/80], Loss: 0.6371\n",
      "Epoch [45/80], Train Loss: 0.6371, Val Loss: 0.6575\n",
      "Epoch [46/80], Loss: 0.6391\n",
      "Epoch [46/80], Train Loss: 0.6391, Val Loss: 0.6552\n",
      "Epoch [47/80], Loss: 0.6363\n",
      "Epoch [47/80], Train Loss: 0.6363, Val Loss: 0.6530\n",
      "Epoch [48/80], Loss: 0.6334\n",
      "Epoch [48/80], Train Loss: 0.6334, Val Loss: 0.6485\n",
      "Epoch [49/80], Loss: 0.6331\n",
      "Epoch [49/80], Train Loss: 0.6331, Val Loss: 0.6490\n",
      "Epoch [50/80], Loss: 0.6285\n",
      "Epoch [50/80], Train Loss: 0.6285, Val Loss: 0.6445\n",
      "Epoch [51/80], Loss: 0.6269\n",
      "Epoch [51/80], Train Loss: 0.6269, Val Loss: 0.6443\n",
      "Epoch [52/80], Loss: 0.6263\n",
      "Epoch [52/80], Train Loss: 0.6263, Val Loss: 0.6410\n",
      "Epoch [53/80], Loss: 0.6246\n",
      "Epoch [53/80], Train Loss: 0.6246, Val Loss: 0.6421\n",
      "Epoch [54/80], Loss: 0.6230\n",
      "Epoch [54/80], Train Loss: 0.6230, Val Loss: 0.6409\n",
      "Epoch [55/80], Loss: 0.6258\n",
      "Epoch [55/80], Train Loss: 0.6258, Val Loss: 0.6387\n",
      "Epoch [56/80], Loss: 0.6190\n",
      "Epoch [56/80], Train Loss: 0.6190, Val Loss: 0.6369\n",
      "Epoch [57/80], Loss: 0.6212\n",
      "Epoch [57/80], Train Loss: 0.6212, Val Loss: 0.6361\n",
      "Epoch [58/80], Loss: 0.6168\n",
      "Epoch [58/80], Train Loss: 0.6168, Val Loss: 0.6353\n",
      "Epoch [59/80], Loss: 0.6160\n",
      "Epoch [59/80], Train Loss: 0.6160, Val Loss: 0.6348\n",
      "Epoch [60/80], Loss: 0.6122\n",
      "Epoch [60/80], Train Loss: 0.6122, Val Loss: 0.6340\n",
      "Epoch [61/80], Loss: 0.6163\n",
      "Epoch [61/80], Train Loss: 0.6163, Val Loss: 0.6295\n",
      "Epoch [62/80], Loss: 0.6129\n",
      "Epoch [62/80], Train Loss: 0.6129, Val Loss: 0.6281\n",
      "Epoch [63/80], Loss: 0.6119\n",
      "Epoch [63/80], Train Loss: 0.6119, Val Loss: 0.6251\n",
      "Epoch [64/80], Loss: 0.6133\n",
      "Epoch [64/80], Train Loss: 0.6133, Val Loss: 0.6258\n",
      "Epoch [65/80], Loss: 0.6079\n",
      "Epoch [65/80], Train Loss: 0.6079, Val Loss: 0.6253\n",
      "Epoch [66/80], Loss: 0.6121\n",
      "Epoch [66/80], Train Loss: 0.6121, Val Loss: 0.6224\n",
      "Epoch [67/80], Loss: 0.6077\n",
      "Epoch [67/80], Train Loss: 0.6077, Val Loss: 0.6261\n",
      "Epoch [68/80], Loss: 0.6042\n",
      "Epoch [68/80], Train Loss: 0.6042, Val Loss: 0.6216\n",
      "Epoch [69/80], Loss: 0.6054\n",
      "Epoch [69/80], Train Loss: 0.6054, Val Loss: 0.6198\n",
      "Epoch [70/80], Loss: 0.6025\n",
      "Epoch [70/80], Train Loss: 0.6025, Val Loss: 0.6211\n",
      "Epoch [71/80], Loss: 0.5985\n",
      "Epoch [71/80], Train Loss: 0.5985, Val Loss: 0.6220\n",
      "Epoch [72/80], Loss: 0.5976\n",
      "Epoch [72/80], Train Loss: 0.5976, Val Loss: 0.6153\n",
      "Epoch [73/80], Loss: 0.5994\n",
      "Epoch [73/80], Train Loss: 0.5994, Val Loss: 0.6149\n",
      "Epoch [74/80], Loss: 0.6012\n",
      "Epoch [74/80], Train Loss: 0.6012, Val Loss: 0.6131\n",
      "Epoch [75/80], Loss: 0.5978\n",
      "Epoch [75/80], Train Loss: 0.5978, Val Loss: 0.6139\n",
      "Epoch [76/80], Loss: 0.5931\n",
      "Epoch [76/80], Train Loss: 0.5931, Val Loss: 0.6101\n",
      "Epoch [77/80], Loss: 0.5952\n",
      "Epoch [77/80], Train Loss: 0.5952, Val Loss: 0.6106\n",
      "Epoch [78/80], Loss: 0.5946\n",
      "Epoch [78/80], Train Loss: 0.5946, Val Loss: 0.6098\n",
      "Epoch [79/80], Loss: 0.5977\n",
      "Epoch [79/80], Train Loss: 0.5977, Val Loss: 0.6115\n",
      "Epoch [80/80], Loss: 0.5919\n",
      "Epoch [80/80], Train Loss: 0.5919, Val Loss: 0.6081\n"
     ]
    },
    {
     "data": {
      "image/png": "[encoded data removed]",
      "text/plain": [
       "<Figure size 1000x600 with 1 Axes>"
      ]
     },
     "metadata": {},
     "output_type": "display_data"
    }
   ],
   "source": [
    "best_params=study.best_params\n",
    "model = DNN_6(input_dim=X_train_tensor.shape[1],\n",
    "              dropout1=best_params[\"dropout1\"],\n",
    "              dropout2=best_params[\"dropout2\"],).to(device)\n",
    "# 最適化と訓練を実行\n",
    "optimizer = optim.Adam(model.parameters(), lr=best_params[\"learning_rate\"],weight_decay=best_params[\"weight_decay\"])\n",
    "criterion = nn.BCELoss()\n",
    "\n",
    "num_epochs=80\n",
    "train_losses = []\n",
    "val_losses = []\n",
    "\n",
    "model.train()\n",
    "for epoch in range(num_epochs):\n",
    "    epoch_train_loss = 0\n",
    "    epoch_val_loss = 0\n",
    "\n",
    "    for X_batch, y_batch in train_loader:\n",
    "        X_batch, y_batch = X_batch.to(device), y_batch.to(device)\n",
    "        optimizer.zero_grad()\n",
    "        outputs = model(X_batch).squeeze()\n",
    "        loss = criterion(outputs, y_batch.squeeze())\n",
    "        loss.backward()\n",
    "        optimizer.step()\n",
    "        epoch_train_loss += loss.item()\n",
    "    avg_train_loss = epoch_train_loss / len(train_loader)\n",
    "    train_losses.append(avg_train_loss)\n",
    "    print(f'Epoch [{epoch+1}/{num_epochs}], Loss: {avg_train_loss:.4f}')\n",
    "\n",
    "    if val_loader is not None:\n",
    "        model.eval()  \n",
    "        with torch.no_grad():\n",
    "            for X_val, y_val in val_loader:\n",
    "                X_val, y_val = X_val.to(device), y_val.to(device)\n",
    "                val_outputs = model(X_val).squeeze()\n",
    "                val_loss = criterion(val_outputs, y_val.squeeze())\n",
    "                epoch_val_loss += val_loss.item()\n",
    "\n",
    "        avg_val_loss = epoch_val_loss / len(val_loader)\n",
    "        val_losses.append(avg_val_loss)\n",
    "        model.train()  \n",
    "\n",
    "    if val_loader is not None:\n",
    "        print(f\"Epoch [{epoch+1}/{num_epochs}], Train Loss: {avg_train_loss:.4f}, Val Loss: {avg_val_loss:.4f}\")\n",
    "    else:\n",
    "        print(f\"Epoch [{epoch+1}/{num_epochs}], Train Loss: {avg_train_loss:.4f}\")\n",
    "\n",
    "plt.figure(figsize=(10, 6))\n",
    "plt.plot(range(1, num_epochs + 1), train_losses, label='Train Loss')\n",
    "if val_losses:\n",
    "    plt.plot(range(1, num_epochs + 1), val_losses, label='Validation Loss')\n",
    "plt.xlabel('Epoch')\n",
    "plt.ylabel('Loss')\n",
    "plt.title('Learning Curve for DNN6')\n",
    "plt.legend()\n",
    "plt.grid()\n",
    "plt.show()"
   ]
  },
  {
   "cell_type": "code",
   "execution_count": 78,
   "metadata": {},
   "outputs": [
    {
     "name": "stdout",
     "output_type": "stream",
     "text": [
      "Accuracy: 57.18%\n",
      "Precision: 0.4699\n",
      "Recall: 0.8525\n",
      "F1 Score: 0.6059\n",
      "Matthews Correlation Coefficient: 0.2633\n",
      "Specificity: 0.3952\n"
     ]
    },
    {
     "data": {
      "image/png": "[encoded data removed]",
      "text/plain": [
       "<Figure size 640x480 with 1 Axes>"
      ]
     },
     "metadata": {},
     "output_type": "display_data"
    },
    {
     "data": {
      "image/png": "[encoded data removed]",
      "text/plain": [
       "<Figure size 640x480 with 1 Axes>"
      ]
     },
     "metadata": {},
     "output_type": "display_data"
    },
    {
     "data": {
      "image/png": "[encoded data removed]",
      "text/plain": [
       "<Figure size 640x480 with 1 Axes>"
      ]
     },
     "metadata": {},
     "output_type": "display_data"
    }
   ],
   "source": [
    "model.eval()\n",
    "with torch.no_grad():\n",
    "    X_test_tensor = X_test_tensor.to(device)\n",
    "    y_test_tensor = y_test_tensor.to(device)\n",
    "\n",
    "    # 予測と確率\n",
    "    test_outputs = model(X_test_tensor).squeeze()\n",
    "    predictions = (test_outputs >=0.5).float()\n",
    "    y_true = y_test_tensor.cpu().numpy()\n",
    "    y_pred = predictions.cpu().numpy()\n",
    "    y_prob = test_outputs.cpu().numpy()\n",
    "\n",
    "# 評価指標\n",
    "    accuracy = accuracy_score(y_true, y_pred)\n",
    "    precision = precision_score(y_true, y_pred)\n",
    "    recall = recall_score(y_true, y_pred)\n",
    "    f1 = f1_score(y_true, y_pred)\n",
    "    mcc = matthews_corrcoef(y_true, y_pred)\n",
    "    specificity = recall_score(y_true, y_pred, pos_label=0)  \n",
    "    print(f'Accuracy: {accuracy * 100:.2f}%')\n",
    "    print(f'Precision: {precision:.4f}')\n",
    "    print(f'Recall: {recall:.4f}')\n",
    "    print(f'F1 Score: {f1:.4f}')\n",
    "    print(f'Matthews Correlation Coefficient: {mcc:.4f}')\n",
    "    print(f'Specificity: {specificity:.4f}')\n",
    "\n",
    "    # 混同行列（割合表示）\n",
    "    cm = confusion_matrix(y_true, y_pred, normalize='true')\n",
    "    sns.heatmap(cm, annot=True, fmt=\".2%\", cmap=\"Blues\", cbar=False)\n",
    "    plt.xlabel(\"Predicted\")\n",
    "    plt.ylabel(\"Actual\")\n",
    "    plt.title(f\"Confusion Matrix (Normalized)\")\n",
    "    plt.show()\n",
    "\n",
    "    # ROC曲線とAUC\n",
    "    fpr, tpr, thresholds = roc_curve(y_true, y_prob)\n",
    "    roc_auc = auc(fpr, tpr)\n",
    "    plt.plot(fpr, tpr, label=f'ROC curve (AUC = {roc_auc:.2f})')\n",
    "    plt.plot([0, 1], [0, 1], 'k--') \n",
    "    plt.xlabel('False Positive Rate')\n",
    "    plt.ylabel('True Positive Rate')\n",
    "    plt.title(f'ROC Curve - Model ')\n",
    "    plt.legend(loc=\"lower right\")\n",
    "    plt.show()\n",
    "\n",
    "    # Precision-Recall曲線\n",
    "    precision_curve, recall_curve, pr_thresholds = precision_recall_curve(y_true, y_prob)\n",
    "    pr_auc = auc(recall_curve, precision_curve)\n",
    "    plt.plot(recall_curve, precision_curve, label=f'PR curve (AUC = {pr_auc:.2f})')\n",
    "    plt.xlabel('Recall')\n",
    "    plt.ylabel('Precision')\n",
    "    plt.title(f'Precision-Recall Curve ')\n",
    "    plt.legend(loc=\"lower left\")\n",
    "    plt.show()    "
   ]
  },
  {
   "cell_type": "code",
   "execution_count": null,
   "metadata": {},
   "outputs": [],
   "source": [
    "# モデルと構造を保存\n",
    "torch.save(model.state_dict(), 'model_params/DNN_6.pth')\n",
    "\n",
    "\n"
   ]
  },
  {
   "cell_type": "code",
   "execution_count": 61,
   "metadata": {},
   "outputs": [
    {
     "name": "stdout",
     "output_type": "stream",
     "text": [
      "----------------------------------------------------------------\n",
      "        Layer (type)               Output Shape         Param #\n",
      "================================================================\n",
      "            Linear-1                   [-1, 32]             960\n",
      "       BatchNorm1d-2                   [-1, 32]              64\n",
      "           Dropout-3                   [-1, 32]               0\n",
      "            Linear-4                   [-1, 16]             528\n",
      "       BatchNorm1d-5                   [-1, 16]              32\n",
      "            Linear-6                    [-1, 8]             136\n",
      "       BatchNorm1d-7                    [-1, 8]              16\n",
      "           Dropout-8                    [-1, 8]               0\n",
      "            Linear-9                    [-1, 4]              36\n",
      "      BatchNorm1d-10                    [-1, 4]               8\n",
      "           Linear-11                    [-1, 1]               5\n",
      "================================================================\n",
      "Total params: 1,785\n",
      "Trainable params: 1,785\n",
      "Non-trainable params: 0\n",
      "----------------------------------------------------------------\n",
      "Input size (MB): 0.00\n",
      "Forward/backward pass size (MB): 0.00\n",
      "Params size (MB): 0.01\n",
      "Estimated Total Size (MB): 0.01\n",
      "----------------------------------------------------------------\n"
     ]
    }
   ],
   "source": [
    "from torchsummary import summary\n",
    "summary(model, input_size=(X_train_tensor.shape[1],))"
   ]
  },
  {
   "cell_type": "code",
   "execution_count": null,
   "metadata": {},
   "outputs": [],
   "source": []
  }
 ],
 "metadata": {
  "kernelspec": {
   "display_name": "torch",
   "language": "python",
   "name": "python3"
  },
  "language_info": {
   "codemirror_mode": {
    "name": "ipython",
    "version": 3
   },
   "file_extension": ".py",
   "mimetype": "text/x-python",
   "name": "python",
   "nbconvert_exporter": "python",
   "pygments_lexer": "ipython3",
   "version": "3.12.7"
  }
 },
 "nbformat": 4,
 "nbformat_minor": 2
}
