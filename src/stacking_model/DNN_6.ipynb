{
 "cells": [
  {
   "cell_type": "code",
   "execution_count": 1,
   "metadata": {},
   "outputs": [],
   "source": [
    "import numpy as np\n",
    "import pandas as pd\n",
    "import matplotlib.pyplot as plt\n",
    "import seaborn as sns\n",
    "import json\n",
    "\n",
    "import torch\n",
    "import torch.nn as nn\n",
    "import torch.optim as optim\n",
    "\n",
    "import optuna\n",
    "\n",
    "from sklearn.model_selection import train_test_split\n",
    "from sklearn.metrics import confusion_matrix,accuracy_score, precision_score, recall_score, f1_score, confusion_matrix, roc_curve, auc,matthews_corrcoef, precision_recall_curve,roc_auc_score\n",
    "\n"
   ]
  },
  {
   "cell_type": "markdown",
   "metadata": {},
   "source": [
    "データ読み取り"
   ]
  },
  {
   "cell_type": "code",
   "execution_count": 2,
   "metadata": {},
   "outputs": [],
   "source": [
    "df=pd.read_csv('learning_data.csv',index_col=0)\n",
    "\n",
    "X=df.drop(columns='dengue',axis=1).values\n",
    "y=df['dengue'].values\n",
    "\n",
    "X_train, X_test, y_train, y_test = train_test_split(X, y, test_size=0.2,random_state=0)\n",
    "X_train, X_val, y_train, y_val = train_test_split(X_train, y_train, test_size=0.1,random_state=0)\n",
    "\n",
    "#torchテンソルに変換\n",
    "X_train_tensor = torch.tensor(X_train, dtype=torch.float32)\n",
    "y_train_tensor = torch.tensor(y_train, dtype=torch.float32)\n",
    "X_test_tensor = torch.tensor(X_test, dtype=torch.float32)\n",
    "y_test_tensor = torch.tensor(y_test, dtype=torch.float32)\n",
    "X_val_tensor = torch.tensor(X_val, dtype=torch.float32)\n",
    "y_val_tensor = torch.tensor(y_val, dtype=torch.float32)\n"
   ]
  },
  {
   "cell_type": "code",
   "execution_count": 3,
   "metadata": {},
   "outputs": [],
   "source": [
    "class DNN_6(nn.Module):\n",
    "    def __init__(self, input_dim,dropout1,dropout2):\n",
    "        super(DNN_6, self).__init__()\n",
    "        self.layer1 = nn.Linear(input_dim,32)\n",
    "        self.layer2 = nn.Linear(32,16)\n",
    "        self.layer3 = nn.Linear(16, 8)\n",
    "        self.layer4 = nn.Linear(8,4)\n",
    "        self.output_layer = nn.Linear(4, 1)\n",
    "\n",
    "        self.bn1=nn.BatchNorm1d(32)\n",
    "        self.bn2=nn.BatchNorm1d(16)\n",
    "        self.bn3=nn.BatchNorm1d(8)\n",
    "        self.bn4=nn.BatchNorm1d(4)\n",
    "\n",
    "        self.dropout1 = nn.Dropout(dropout1)\n",
    "        self.dropout2 = nn.Dropout(dropout2)\n",
    "        \n",
    "    def forward(self, x):\n",
    "        x = torch.relu(self.bn1(self.layer1(x)))\n",
    "        x = self.dropout1(x)\n",
    "        \n",
    "        x = torch.relu(self.bn2(self.layer2(x)))\n",
    "    \n",
    "\n",
    "        x = torch.relu(self.bn3(self.layer3(x)))\n",
    "        x = self.dropout2(x)\n",
    "\n",
    "        x = torch.relu(self.bn4(self.layer4(x)))\n",
    "        \n",
    "        x = torch.sigmoid(self.output_layer(x)) \n",
    "        return x\n",
    "    "
   ]
  },
  {
   "cell_type": "markdown",
   "metadata": {},
   "source": [
    "学習データセットの作成"
   ]
  },
  {
   "cell_type": "code",
   "execution_count": 4,
   "metadata": {},
   "outputs": [],
   "source": [
    "train_dataset = torch.utils.data.TensorDataset(X_train_tensor, y_train_tensor)\n",
    "train_loader = torch.utils.data.DataLoader(dataset=train_dataset, batch_size=128, shuffle=True)\n",
    "\n",
    "val_dataset = torch.utils.data.TensorDataset(X_val_tensor, y_val_tensor)\n",
    "val_loader = torch.utils.data.DataLoader(dataset=val_dataset, batch_size=128, shuffle=False)"
   ]
  },
  {
   "cell_type": "code",
   "execution_count": 5,
   "metadata": {},
   "outputs": [],
   "source": [
    "def objective(trial):\n",
    "    dropout1 = trial.suggest_float(\"dropout1\", 0, 0.5, step=0.05)\n",
    "    dropout2 = trial.suggest_float(\"dropout2\", 0, 0.5, step=0.05)\n",
    "    learning_rate = trial.suggest_loguniform(\"learning_rate\", 1e-4, 1e-1)  # 範囲を調整\n",
    "    weight_decay = trial.suggest_loguniform(\"weight_decay\", 1e-5, 1e-1)   # 範囲を調整\n",
    "\n",
    "    # モデル定義\n",
    "    model = DNN_6(\n",
    "        input_dim=X_train_tensor.shape[1],\n",
    "        dropout1=dropout1,\n",
    "        dropout2=dropout2\n",
    "    ).to(device)\n",
    "\n",
    "    criterion = nn.BCELoss()\n",
    "    optimizer = torch.optim.Adam(model.parameters(), lr=learning_rate, weight_decay=weight_decay)\n",
    "\n",
    "    # Early Stoppingの設定\n",
    "    patience = 10\n",
    "    best_val_loss = float('inf')\n",
    "    patience_counter = 0\n",
    "\n",
    "    # 訓練ループ\n",
    "    num_epochs = 100\n",
    "    for epoch in range(num_epochs):\n",
    "        model.train()\n",
    "        for X_batch, y_batch in train_loader:\n",
    "            X_batch, y_batch = X_batch.to(device), y_batch.to(device)\n",
    "            optimizer.zero_grad()\n",
    "            outputs = model(X_batch).squeeze()\n",
    "            loss = criterion(outputs, y_batch.squeeze())\n",
    "            loss.backward()\n",
    "            optimizer.step()\n",
    "\n",
    "        # バリデーション評価\n",
    "        model.eval()\n",
    "        val_loss = 0\n",
    "        val_true, val_pred = [], []\n",
    "        with torch.no_grad():\n",
    "            for X_val, y_val in val_loader:\n",
    "                X_val, y_val = X_val.to(device), y_val.to(device)\n",
    "                val_outputs = model(X_val).squeeze()\n",
    "                val_loss += criterion(val_outputs, y_val.squeeze()).item()\n",
    "                predictions = (val_outputs >=0.5).float()\n",
    "                val_true.extend(y_val.cpu().numpy())\n",
    "                val_pred.extend(predictions.cpu().numpy())\n",
    "\n",
    "        val_loss /= len(val_loader)\n",
    "\n",
    "        # Early Stoppingの判定\n",
    "        if val_loss < best_val_loss:\n",
    "            best_val_loss = val_loss\n",
    "            patience_counter = 0\n",
    "        else:\n",
    "            patience_counter += 1\n",
    "\n",
    "        if patience_counter >= patience:\n",
    "            print(f\"Early stopping at epoch {epoch}\")\n",
    "            break\n",
    "\n",
    "        # Optunaへのログ\n",
    "        trial.report(val_loss, epoch)\n",
    "        if trial.should_prune():\n",
    "            raise optuna.exceptions.TrialPruned()\n",
    "\n",
    "    # 評価指標の計算\n",
    "    mcc = matthews_corrcoef(val_true, val_pred)\n",
    "    print(f\"Final MCC: {mcc:.4f}\")\n",
    "\n",
    "    return mcc  # mccを返す\n"
   ]
  },
  {
   "cell_type": "code",
   "execution_count": 6,
   "metadata": {},
   "outputs": [
    {
     "name": "stderr",
     "output_type": "stream",
     "text": [
      "[I 2024-12-18 13:39:58,811] A new study created in memory with name: no-name-04080bb1-3aad-41b8-bd28-960f79ebfa53\n"
     ]
    },
    {
     "name": "stderr",
     "output_type": "stream",
     "text": [
      "/tmp/ipykernel_41883/2195649114.py:4: FutureWarning: suggest_loguniform has been deprecated in v3.0.0. This feature will be removed in v6.0.0. See https://github.com/optuna/optuna/releases/tag/v3.0.0. Use suggest_float(..., log=True) instead.\n",
      "  learning_rate = trial.suggest_loguniform(\"learning_rate\", 1e-4, 1e-1)  # 範囲を調整\n",
      "/tmp/ipykernel_41883/2195649114.py:5: FutureWarning: suggest_loguniform has been deprecated in v3.0.0. This feature will be removed in v6.0.0. See https://github.com/optuna/optuna/releases/tag/v3.0.0. Use suggest_float(..., log=True) instead.\n",
      "  weight_decay = trial.suggest_loguniform(\"weight_decay\", 1e-5, 1e-1)   # 範囲を調整\n",
      "[I 2024-12-18 13:40:09,581] Trial 0 finished with value: -0.030472936793272357 and parameters: {'dropout1': 0.0, 'dropout2': 0.35000000000000003, 'learning_rate': 0.00017385316981149773, 'weight_decay': 0.046433406903303734}. Best is trial 0 with value: -0.030472936793272357.\n"
     ]
    },
    {
     "name": "stdout",
     "output_type": "stream",
     "text": [
      "Early stopping at epoch 72\n",
      "Final MCC: -0.0305\n"
     ]
    },
    {
     "name": "stderr",
     "output_type": "stream",
     "text": [
      "/tmp/ipykernel_41883/2195649114.py:4: FutureWarning: suggest_loguniform has been deprecated in v3.0.0. This feature will be removed in v6.0.0. See https://github.com/optuna/optuna/releases/tag/v3.0.0. Use suggest_float(..., log=True) instead.\n",
      "  learning_rate = trial.suggest_loguniform(\"learning_rate\", 1e-4, 1e-1)  # 範囲を調整\n",
      "/tmp/ipykernel_41883/2195649114.py:5: FutureWarning: suggest_loguniform has been deprecated in v3.0.0. This feature will be removed in v6.0.0. See https://github.com/optuna/optuna/releases/tag/v3.0.0. Use suggest_float(..., log=True) instead.\n",
      "  weight_decay = trial.suggest_loguniform(\"weight_decay\", 1e-5, 1e-1)   # 範囲を調整\n",
      "[I 2024-12-18 13:40:15,932] Trial 1 finished with value: 0.22095446372049624 and parameters: {'dropout1': 0.0, 'dropout2': 0.15000000000000002, 'learning_rate': 0.0003655533850521266, 'weight_decay': 0.030388321994435828}. Best is trial 1 with value: 0.22095446372049624.\n"
     ]
    },
    {
     "name": "stdout",
     "output_type": "stream",
     "text": [
      "Early stopping at epoch 47\n",
      "Final MCC: 0.2210\n"
     ]
    },
    {
     "name": "stderr",
     "output_type": "stream",
     "text": [
      "/tmp/ipykernel_41883/2195649114.py:4: FutureWarning: suggest_loguniform has been deprecated in v3.0.0. This feature will be removed in v6.0.0. See https://github.com/optuna/optuna/releases/tag/v3.0.0. Use suggest_float(..., log=True) instead.\n",
      "  learning_rate = trial.suggest_loguniform(\"learning_rate\", 1e-4, 1e-1)  # 範囲を調整\n",
      "/tmp/ipykernel_41883/2195649114.py:5: FutureWarning: suggest_loguniform has been deprecated in v3.0.0. This feature will be removed in v6.0.0. See https://github.com/optuna/optuna/releases/tag/v3.0.0. Use suggest_float(..., log=True) instead.\n",
      "  weight_decay = trial.suggest_loguniform(\"weight_decay\", 1e-5, 1e-1)   # 範囲を調整\n",
      "[I 2024-12-18 13:40:28,939] Trial 2 finished with value: 0.2300082210846483 and parameters: {'dropout1': 0.35000000000000003, 'dropout2': 0.05, 'learning_rate': 0.00022157461068071852, 'weight_decay': 2.115734607313402e-05}. Best is trial 2 with value: 0.2300082210846483.\n"
     ]
    },
    {
     "name": "stdout",
     "output_type": "stream",
     "text": [
      "Final MCC: 0.2300\n"
     ]
    },
    {
     "name": "stderr",
     "output_type": "stream",
     "text": [
      "/tmp/ipykernel_41883/2195649114.py:4: FutureWarning: suggest_loguniform has been deprecated in v3.0.0. This feature will be removed in v6.0.0. See https://github.com/optuna/optuna/releases/tag/v3.0.0. Use suggest_float(..., log=True) instead.\n",
      "  learning_rate = trial.suggest_loguniform(\"learning_rate\", 1e-4, 1e-1)  # 範囲を調整\n",
      "/tmp/ipykernel_41883/2195649114.py:5: FutureWarning: suggest_loguniform has been deprecated in v3.0.0. This feature will be removed in v6.0.0. See https://github.com/optuna/optuna/releases/tag/v3.0.0. Use suggest_float(..., log=True) instead.\n",
      "  weight_decay = trial.suggest_loguniform(\"weight_decay\", 1e-5, 1e-1)   # 範囲を調整\n",
      "[I 2024-12-18 13:40:33,078] Trial 3 finished with value: 0.0 and parameters: {'dropout1': 0.4, 'dropout2': 0.15000000000000002, 'learning_rate': 0.007847616771018485, 'weight_decay': 0.004168698301333751}. Best is trial 2 with value: 0.2300082210846483.\n"
     ]
    },
    {
     "name": "stdout",
     "output_type": "stream",
     "text": [
      "Early stopping at epoch 30\n",
      "Final MCC: 0.0000\n"
     ]
    },
    {
     "name": "stderr",
     "output_type": "stream",
     "text": [
      "/tmp/ipykernel_41883/2195649114.py:4: FutureWarning: suggest_loguniform has been deprecated in v3.0.0. This feature will be removed in v6.0.0. See https://github.com/optuna/optuna/releases/tag/v3.0.0. Use suggest_float(..., log=True) instead.\n",
      "  learning_rate = trial.suggest_loguniform(\"learning_rate\", 1e-4, 1e-1)  # 範囲を調整\n",
      "/tmp/ipykernel_41883/2195649114.py:5: FutureWarning: suggest_loguniform has been deprecated in v3.0.0. This feature will be removed in v6.0.0. See https://github.com/optuna/optuna/releases/tag/v3.0.0. Use suggest_float(..., log=True) instead.\n",
      "  weight_decay = trial.suggest_loguniform(\"weight_decay\", 1e-5, 1e-1)   # 範囲を調整\n",
      "[I 2024-12-18 13:40:45,440] Trial 4 finished with value: 0.08516356185954171 and parameters: {'dropout1': 0.5, 'dropout2': 0.0, 'learning_rate': 0.00015428300918247787, 'weight_decay': 1.6151382514676572e-05}. Best is trial 2 with value: 0.2300082210846483.\n",
      "/tmp/ipykernel_41883/2195649114.py:4: FutureWarning: suggest_loguniform has been deprecated in v3.0.0. This feature will be removed in v6.0.0. See https://github.com/optuna/optuna/releases/tag/v3.0.0. Use suggest_float(..., log=True) instead.\n",
      "  learning_rate = trial.suggest_loguniform(\"learning_rate\", 1e-4, 1e-1)  # 範囲を調整\n",
      "/tmp/ipykernel_41883/2195649114.py:5: FutureWarning: suggest_loguniform has been deprecated in v3.0.0. This feature will be removed in v6.0.0. See https://github.com/optuna/optuna/releases/tag/v3.0.0. Use suggest_float(..., log=True) instead.\n",
      "  weight_decay = trial.suggest_loguniform(\"weight_decay\", 1e-5, 1e-1)   # 範囲を調整\n",
      "[I 2024-12-18 13:40:45,577] Trial 5 pruned. \n"
     ]
    },
    {
     "name": "stdout",
     "output_type": "stream",
     "text": [
      "Final MCC: 0.0852\n"
     ]
    },
    {
     "name": "stderr",
     "output_type": "stream",
     "text": [
      "[I 2024-12-18 13:40:50,760] Trial 6 finished with value: 0.1762186952706993 and parameters: {'dropout1': 0.1, 'dropout2': 0.0, 'learning_rate': 0.0003246006028314836, 'weight_decay': 1.4303193389440733e-05}. Best is trial 2 with value: 0.2300082210846483.\n"
     ]
    },
    {
     "name": "stdout",
     "output_type": "stream",
     "text": [
      "Early stopping at epoch 39\n",
      "Final MCC: 0.1762\n"
     ]
    },
    {
     "name": "stderr",
     "output_type": "stream",
     "text": [
      "/tmp/ipykernel_41883/2195649114.py:4: FutureWarning: suggest_loguniform has been deprecated in v3.0.0. This feature will be removed in v6.0.0. See https://github.com/optuna/optuna/releases/tag/v3.0.0. Use suggest_float(..., log=True) instead.\n",
      "  learning_rate = trial.suggest_loguniform(\"learning_rate\", 1e-4, 1e-1)  # 範囲を調整\n",
      "/tmp/ipykernel_41883/2195649114.py:5: FutureWarning: suggest_loguniform has been deprecated in v3.0.0. This feature will be removed in v6.0.0. See https://github.com/optuna/optuna/releases/tag/v3.0.0. Use suggest_float(..., log=True) instead.\n",
      "  weight_decay = trial.suggest_loguniform(\"weight_decay\", 1e-5, 1e-1)   # 範囲を調整\n",
      "[I 2024-12-18 13:41:01,692] Trial 7 finished with value: 0.18088568649340306 and parameters: {'dropout1': 0.5, 'dropout2': 0.1, 'learning_rate': 0.0005924445367800429, 'weight_decay': 1.0585792432128973e-05}. Best is trial 2 with value: 0.2300082210846483.\n"
     ]
    },
    {
     "name": "stdout",
     "output_type": "stream",
     "text": [
      "Early stopping at epoch 82\n",
      "Final MCC: 0.1809\n"
     ]
    },
    {
     "name": "stderr",
     "output_type": "stream",
     "text": [
      "/tmp/ipykernel_41883/2195649114.py:4: FutureWarning: suggest_loguniform has been deprecated in v3.0.0. This feature will be removed in v6.0.0. See https://github.com/optuna/optuna/releases/tag/v3.0.0. Use suggest_float(..., log=True) instead.\n",
      "  learning_rate = trial.suggest_loguniform(\"learning_rate\", 1e-4, 1e-1)  # 範囲を調整\n",
      "/tmp/ipykernel_41883/2195649114.py:5: FutureWarning: suggest_loguniform has been deprecated in v3.0.0. This feature will be removed in v6.0.0. See https://github.com/optuna/optuna/releases/tag/v3.0.0. Use suggest_float(..., log=True) instead.\n",
      "  weight_decay = trial.suggest_loguniform(\"weight_decay\", 1e-5, 1e-1)   # 範囲を調整\n",
      "[I 2024-12-18 13:41:14,353] Trial 8 finished with value: 0.11364937202176227 and parameters: {'dropout1': 0.5, 'dropout2': 0.1, 'learning_rate': 0.00014049777326733868, 'weight_decay': 4.608787508198736e-05}. Best is trial 2 with value: 0.2300082210846483.\n",
      "/tmp/ipykernel_41883/2195649114.py:4: FutureWarning: suggest_loguniform has been deprecated in v3.0.0. This feature will be removed in v6.0.0. See https://github.com/optuna/optuna/releases/tag/v3.0.0. Use suggest_float(..., log=True) instead.\n",
      "  learning_rate = trial.suggest_loguniform(\"learning_rate\", 1e-4, 1e-1)  # 範囲を調整\n",
      "/tmp/ipykernel_41883/2195649114.py:5: FutureWarning: suggest_loguniform has been deprecated in v3.0.0. This feature will be removed in v6.0.0. See https://github.com/optuna/optuna/releases/tag/v3.0.0. Use suggest_float(..., log=True) instead.\n",
      "  weight_decay = trial.suggest_loguniform(\"weight_decay\", 1e-5, 1e-1)   # 範囲を調整\n",
      "[I 2024-12-18 13:41:14,485] Trial 9 pruned. \n"
     ]
    },
    {
     "name": "stdout",
     "output_type": "stream",
     "text": [
      "Final MCC: 0.1136\n"
     ]
    },
    {
     "name": "stderr",
     "output_type": "stream",
     "text": [
      "[I 2024-12-18 13:41:14,665] Trial 10 pruned. \n",
      "[I 2024-12-18 13:41:21,463] Trial 11 finished with value: 0.0 and parameters: {'dropout1': 0.25, 'dropout2': 0.25, 'learning_rate': 0.0008773814145000921, 'weight_decay': 0.0635478252233136}. Best is trial 2 with value: 0.2300082210846483.\n",
      "/tmp/ipykernel_41883/2195649114.py:4: FutureWarning: suggest_loguniform has been deprecated in v3.0.0. This feature will be removed in v6.0.0. See https://github.com/optuna/optuna/releases/tag/v3.0.0. Use suggest_float(..., log=True) instead.\n",
      "  learning_rate = trial.suggest_loguniform(\"learning_rate\", 1e-4, 1e-1)  # 範囲を調整\n",
      "/tmp/ipykernel_41883/2195649114.py:5: FutureWarning: suggest_loguniform has been deprecated in v3.0.0. This feature will be removed in v6.0.0. See https://github.com/optuna/optuna/releases/tag/v3.0.0. Use suggest_float(..., log=True) instead.\n",
      "  weight_decay = trial.suggest_loguniform(\"weight_decay\", 1e-5, 1e-1)   # 範囲を調整\n",
      "[I 2024-12-18 13:41:21,615] Trial 12 pruned. \n"
     ]
    },
    {
     "name": "stdout",
     "output_type": "stream",
     "text": [
      "Early stopping at epoch 52\n",
      "Final MCC: 0.0000\n"
     ]
    },
    {
     "name": "stderr",
     "output_type": "stream",
     "text": [
      "[I 2024-12-18 13:41:21,795] Trial 13 pruned. \n",
      "[I 2024-12-18 13:41:21,947] Trial 14 pruned. \n",
      "[I 2024-12-18 13:41:22,107] Trial 15 pruned. \n",
      "[I 2024-12-18 13:41:22,257] Trial 16 pruned. \n",
      "[I 2024-12-18 13:41:34,904] Trial 17 finished with value: 0.3544775071250178 and parameters: {'dropout1': 0.15000000000000002, 'dropout2': 0.05, 'learning_rate': 0.00011017994671581143, 'weight_decay': 0.023941977001903543}. Best is trial 17 with value: 0.3544775071250178.\n",
      "/tmp/ipykernel_41883/2195649114.py:4: FutureWarning: suggest_loguniform has been deprecated in v3.0.0. This feature will be removed in v6.0.0. See https://github.com/optuna/optuna/releases/tag/v3.0.0. Use suggest_float(..., log=True) instead.\n",
      "  learning_rate = trial.suggest_loguniform(\"learning_rate\", 1e-4, 1e-1)  # 範囲を調整\n",
      "/tmp/ipykernel_41883/2195649114.py:5: FutureWarning: suggest_loguniform has been deprecated in v3.0.0. This feature will be removed in v6.0.0. See https://github.com/optuna/optuna/releases/tag/v3.0.0. Use suggest_float(..., log=True) instead.\n",
      "  weight_decay = trial.suggest_loguniform(\"weight_decay\", 1e-5, 1e-1)   # 範囲を調整\n",
      "[I 2024-12-18 13:41:35,067] Trial 18 pruned. \n"
     ]
    },
    {
     "name": "stdout",
     "output_type": "stream",
     "text": [
      "Final MCC: 0.3545\n"
     ]
    },
    {
     "name": "stderr",
     "output_type": "stream",
     "text": [
      "[I 2024-12-18 13:41:35,223] Trial 19 pruned. \n",
      "[I 2024-12-18 13:41:48,299] Trial 20 finished with value: 0.33146012786998486 and parameters: {'dropout1': 0.2, 'dropout2': 0.35000000000000003, 'learning_rate': 0.0001061154601151627, 'weight_decay': 0.020765587621720975}. Best is trial 17 with value: 0.3544775071250178.\n",
      "/tmp/ipykernel_41883/2195649114.py:4: FutureWarning: suggest_loguniform has been deprecated in v3.0.0. This feature will be removed in v6.0.0. See https://github.com/optuna/optuna/releases/tag/v3.0.0. Use suggest_float(..., log=True) instead.\n",
      "  learning_rate = trial.suggest_loguniform(\"learning_rate\", 1e-4, 1e-1)  # 範囲を調整\n",
      "/tmp/ipykernel_41883/2195649114.py:5: FutureWarning: suggest_loguniform has been deprecated in v3.0.0. This feature will be removed in v6.0.0. See https://github.com/optuna/optuna/releases/tag/v3.0.0. Use suggest_float(..., log=True) instead.\n",
      "  weight_decay = trial.suggest_loguniform(\"weight_decay\", 1e-5, 1e-1)   # 範囲を調整\n",
      "[I 2024-12-18 13:41:48,483] Trial 21 pruned. \n"
     ]
    },
    {
     "name": "stdout",
     "output_type": "stream",
     "text": [
      "Final MCC: 0.3315\n"
     ]
    },
    {
     "name": "stderr",
     "output_type": "stream",
     "text": [
      "[I 2024-12-18 13:41:48,608] Trial 22 pruned. \n",
      "[I 2024-12-18 13:41:48,724] Trial 23 pruned. \n",
      "[I 2024-12-18 13:41:48,841] Trial 24 pruned. \n",
      "[I 2024-12-18 13:41:48,969] Trial 25 pruned. \n",
      "[I 2024-12-18 13:41:49,110] Trial 26 pruned. \n",
      "[I 2024-12-18 13:41:56,687] Trial 27 finished with value: 0.3025120184445448 and parameters: {'dropout1': 0.30000000000000004, 'dropout2': 0.4, 'learning_rate': 0.0005155931018288929, 'weight_decay': 0.0004933082452222047}. Best is trial 17 with value: 0.3544775071250178.\n",
      "/tmp/ipykernel_41883/2195649114.py:4: FutureWarning: suggest_loguniform has been deprecated in v3.0.0. This feature will be removed in v6.0.0. See https://github.com/optuna/optuna/releases/tag/v3.0.0. Use suggest_float(..., log=True) instead.\n",
      "  learning_rate = trial.suggest_loguniform(\"learning_rate\", 1e-4, 1e-1)  # 範囲を調整\n",
      "/tmp/ipykernel_41883/2195649114.py:5: FutureWarning: suggest_loguniform has been deprecated in v3.0.0. This feature will be removed in v6.0.0. See https://github.com/optuna/optuna/releases/tag/v3.0.0. Use suggest_float(..., log=True) instead.\n",
      "  weight_decay = trial.suggest_loguniform(\"weight_decay\", 1e-5, 1e-1)   # 範囲を調整\n",
      "[I 2024-12-18 13:41:56,849] Trial 28 pruned. \n"
     ]
    },
    {
     "name": "stdout",
     "output_type": "stream",
     "text": [
      "Early stopping at epoch 58\n",
      "Final MCC: 0.3025\n"
     ]
    },
    {
     "name": "stderr",
     "output_type": "stream",
     "text": [
      "[I 2024-12-18 13:41:57,002] Trial 29 pruned. \n",
      "[I 2024-12-18 13:41:57,164] Trial 30 pruned. \n",
      "[I 2024-12-18 13:41:57,335] Trial 31 pruned. \n",
      "[I 2024-12-18 13:41:57,505] Trial 32 pruned. \n",
      "[I 2024-12-18 13:42:08,105] Trial 33 finished with value: 0.2641482193878004 and parameters: {'dropout1': 0.45, 'dropout2': 0.30000000000000004, 'learning_rate': 0.00039916519375864025, 'weight_decay': 0.03382029999180346}. Best is trial 17 with value: 0.3544775071250178.\n",
      "/tmp/ipykernel_41883/2195649114.py:4: FutureWarning: suggest_loguniform has been deprecated in v3.0.0. This feature will be removed in v6.0.0. See https://github.com/optuna/optuna/releases/tag/v3.0.0. Use suggest_float(..., log=True) instead.\n",
      "  learning_rate = trial.suggest_loguniform(\"learning_rate\", 1e-4, 1e-1)  # 範囲を調整\n",
      "/tmp/ipykernel_41883/2195649114.py:5: FutureWarning: suggest_loguniform has been deprecated in v3.0.0. This feature will be removed in v6.0.0. See https://github.com/optuna/optuna/releases/tag/v3.0.0. Use suggest_float(..., log=True) instead.\n",
      "  weight_decay = trial.suggest_loguniform(\"weight_decay\", 1e-5, 1e-1)   # 範囲を調整\n",
      "[I 2024-12-18 13:42:08,269] Trial 34 pruned. \n"
     ]
    },
    {
     "name": "stdout",
     "output_type": "stream",
     "text": [
      "Early stopping at epoch 82\n",
      "Final MCC: 0.2641\n"
     ]
    },
    {
     "name": "stderr",
     "output_type": "stream",
     "text": [
      "[I 2024-12-18 13:42:08,401] Trial 35 pruned. \n",
      "[I 2024-12-18 13:42:08,554] Trial 36 pruned. \n",
      "[I 2024-12-18 13:42:08,710] Trial 37 pruned. \n",
      "[I 2024-12-18 13:42:08,881] Trial 38 pruned. \n",
      "[I 2024-12-18 13:42:09,010] Trial 39 pruned. \n",
      "[I 2024-12-18 13:42:09,154] Trial 40 pruned. \n",
      "[I 2024-12-18 13:42:22,066] Trial 41 finished with value: 0.21693970237177376 and parameters: {'dropout1': 0.30000000000000004, 'dropout2': 0.15000000000000002, 'learning_rate': 0.0001458823845851271, 'weight_decay': 0.024814449526988403}. Best is trial 17 with value: 0.3544775071250178.\n",
      "/tmp/ipykernel_41883/2195649114.py:4: FutureWarning: suggest_loguniform has been deprecated in v3.0.0. This feature will be removed in v6.0.0. See https://github.com/optuna/optuna/releases/tag/v3.0.0. Use suggest_float(..., log=True) instead.\n",
      "  learning_rate = trial.suggest_loguniform(\"learning_rate\", 1e-4, 1e-1)  # 範囲を調整\n",
      "/tmp/ipykernel_41883/2195649114.py:5: FutureWarning: suggest_loguniform has been deprecated in v3.0.0. This feature will be removed in v6.0.0. See https://github.com/optuna/optuna/releases/tag/v3.0.0. Use suggest_float(..., log=True) instead.\n",
      "  weight_decay = trial.suggest_loguniform(\"weight_decay\", 1e-5, 1e-1)   # 範囲を調整\n",
      "[I 2024-12-18 13:42:22,211] Trial 42 pruned. \n"
     ]
    },
    {
     "name": "stdout",
     "output_type": "stream",
     "text": [
      "Final MCC: 0.2169\n"
     ]
    },
    {
     "name": "stderr",
     "output_type": "stream",
     "text": [
      "[I 2024-12-18 13:42:33,936] Trial 43 finished with value: 0.3675998382986562 and parameters: {'dropout1': 0.4, 'dropout2': 0.0, 'learning_rate': 0.00024426735505470216, 'weight_decay': 0.011752020640266416}. Best is trial 43 with value: 0.3675998382986562.\n",
      "/tmp/ipykernel_41883/2195649114.py:4: FutureWarning: suggest_loguniform has been deprecated in v3.0.0. This feature will be removed in v6.0.0. See https://github.com/optuna/optuna/releases/tag/v3.0.0. Use suggest_float(..., log=True) instead.\n",
      "  learning_rate = trial.suggest_loguniform(\"learning_rate\", 1e-4, 1e-1)  # 範囲を調整\n",
      "/tmp/ipykernel_41883/2195649114.py:5: FutureWarning: suggest_loguniform has been deprecated in v3.0.0. This feature will be removed in v6.0.0. See https://github.com/optuna/optuna/releases/tag/v3.0.0. Use suggest_float(..., log=True) instead.\n",
      "  weight_decay = trial.suggest_loguniform(\"weight_decay\", 1e-5, 1e-1)   # 範囲を調整\n",
      "[I 2024-12-18 13:42:34,090] Trial 44 pruned. \n"
     ]
    },
    {
     "name": "stdout",
     "output_type": "stream",
     "text": [
      "Final MCC: 0.3676\n"
     ]
    },
    {
     "name": "stderr",
     "output_type": "stream",
     "text": [
      "[I 2024-12-18 13:42:39,089] Trial 45 finished with value: 0.19027076567983248 and parameters: {'dropout1': 0.5, 'dropout2': 0.05, 'learning_rate': 0.0009944987580884873, 'weight_decay': 0.038611424056859606}. Best is trial 43 with value: 0.3675998382986562.\n",
      "/tmp/ipykernel_41883/2195649114.py:4: FutureWarning: suggest_loguniform has been deprecated in v3.0.0. This feature will be removed in v6.0.0. See https://github.com/optuna/optuna/releases/tag/v3.0.0. Use suggest_float(..., log=True) instead.\n",
      "  learning_rate = trial.suggest_loguniform(\"learning_rate\", 1e-4, 1e-1)  # 範囲を調整\n",
      "/tmp/ipykernel_41883/2195649114.py:5: FutureWarning: suggest_loguniform has been deprecated in v3.0.0. This feature will be removed in v6.0.0. See https://github.com/optuna/optuna/releases/tag/v3.0.0. Use suggest_float(..., log=True) instead.\n",
      "  weight_decay = trial.suggest_loguniform(\"weight_decay\", 1e-5, 1e-1)   # 範囲を調整\n",
      "[I 2024-12-18 13:42:39,265] Trial 46 pruned. \n"
     ]
    },
    {
     "name": "stdout",
     "output_type": "stream",
     "text": [
      "Early stopping at epoch 36\n",
      "Final MCC: 0.1903\n"
     ]
    },
    {
     "name": "stderr",
     "output_type": "stream",
     "text": [
      "[I 2024-12-18 13:42:44,733] Trial 47 finished with value: 0.3361243376191836 and parameters: {'dropout1': 0.2, 'dropout2': 0.25, 'learning_rate': 0.00037487473492092607, 'weight_decay': 0.055099500581115}. Best is trial 43 with value: 0.3675998382986562.\n"
     ]
    },
    {
     "name": "stdout",
     "output_type": "stream",
     "text": [
      "Early stopping at epoch 42\n",
      "Final MCC: 0.3361\n"
     ]
    },
    {
     "name": "stderr",
     "output_type": "stream",
     "text": [
      "/tmp/ipykernel_41883/2195649114.py:4: FutureWarning: suggest_loguniform has been deprecated in v3.0.0. This feature will be removed in v6.0.0. See https://github.com/optuna/optuna/releases/tag/v3.0.0. Use suggest_float(..., log=True) instead.\n",
      "  learning_rate = trial.suggest_loguniform(\"learning_rate\", 1e-4, 1e-1)  # 範囲を調整\n",
      "/tmp/ipykernel_41883/2195649114.py:5: FutureWarning: suggest_loguniform has been deprecated in v3.0.0. This feature will be removed in v6.0.0. See https://github.com/optuna/optuna/releases/tag/v3.0.0. Use suggest_float(..., log=True) instead.\n",
      "  weight_decay = trial.suggest_loguniform(\"weight_decay\", 1e-5, 1e-1)   # 範囲を調整\n",
      "[I 2024-12-18 13:42:57,255] Trial 48 finished with value: 0.36735759045844235 and parameters: {'dropout1': 0.2, 'dropout2': 0.1, 'learning_rate': 0.00012452126710741368, 'weight_decay': 0.05445491593824558}. Best is trial 43 with value: 0.3675998382986562.\n",
      "/tmp/ipykernel_41883/2195649114.py:4: FutureWarning: suggest_loguniform has been deprecated in v3.0.0. This feature will be removed in v6.0.0. See https://github.com/optuna/optuna/releases/tag/v3.0.0. Use suggest_float(..., log=True) instead.\n",
      "  learning_rate = trial.suggest_loguniform(\"learning_rate\", 1e-4, 1e-1)  # 範囲を調整\n",
      "/tmp/ipykernel_41883/2195649114.py:5: FutureWarning: suggest_loguniform has been deprecated in v3.0.0. This feature will be removed in v6.0.0. See https://github.com/optuna/optuna/releases/tag/v3.0.0. Use suggest_float(..., log=True) instead.\n",
      "  weight_decay = trial.suggest_loguniform(\"weight_decay\", 1e-5, 1e-1)   # 範囲を調整\n",
      "[I 2024-12-18 13:42:57,406] Trial 49 pruned. \n"
     ]
    },
    {
     "name": "stdout",
     "output_type": "stream",
     "text": [
      "Final MCC: 0.3674\n"
     ]
    },
    {
     "name": "stderr",
     "output_type": "stream",
     "text": [
      "[I 2024-12-18 13:42:57,541] Trial 50 pruned. \n",
      "[I 2024-12-18 13:42:57,707] Trial 51 pruned. \n",
      "[I 2024-12-18 13:42:57,865] Trial 52 pruned. \n",
      "[I 2024-12-18 13:43:10,503] Trial 53 finished with value: 0.31258095575292827 and parameters: {'dropout1': 0.15000000000000002, 'dropout2': 0.05, 'learning_rate': 0.00023348023571499418, 'weight_decay': 0.0008898247814679852}. Best is trial 43 with value: 0.3675998382986562.\n",
      "/tmp/ipykernel_41883/2195649114.py:4: FutureWarning: suggest_loguniform has been deprecated in v3.0.0. This feature will be removed in v6.0.0. See https://github.com/optuna/optuna/releases/tag/v3.0.0. Use suggest_float(..., log=True) instead.\n",
      "  learning_rate = trial.suggest_loguniform(\"learning_rate\", 1e-4, 1e-1)  # 範囲を調整\n",
      "/tmp/ipykernel_41883/2195649114.py:5: FutureWarning: suggest_loguniform has been deprecated in v3.0.0. This feature will be removed in v6.0.0. See https://github.com/optuna/optuna/releases/tag/v3.0.0. Use suggest_float(..., log=True) instead.\n",
      "  weight_decay = trial.suggest_loguniform(\"weight_decay\", 1e-5, 1e-1)   # 範囲を調整\n",
      "[I 2024-12-18 13:43:10,642] Trial 54 pruned. \n"
     ]
    },
    {
     "name": "stdout",
     "output_type": "stream",
     "text": [
      "Final MCC: 0.3126\n"
     ]
    },
    {
     "name": "stderr",
     "output_type": "stream",
     "text": [
      "[I 2024-12-18 13:43:18,984] Trial 55 finished with value: 0.2671573952012478 and parameters: {'dropout1': 0.15000000000000002, 'dropout2': 0.0, 'learning_rate': 0.00023311476321750735, 'weight_decay': 0.019374276688623664}. Best is trial 43 with value: 0.3675998382986562.\n",
      "/tmp/ipykernel_41883/2195649114.py:4: FutureWarning: suggest_loguniform has been deprecated in v3.0.0. This feature will be removed in v6.0.0. See https://github.com/optuna/optuna/releases/tag/v3.0.0. Use suggest_float(..., log=True) instead.\n",
      "  learning_rate = trial.suggest_loguniform(\"learning_rate\", 1e-4, 1e-1)  # 範囲を調整\n",
      "/tmp/ipykernel_41883/2195649114.py:5: FutureWarning: suggest_loguniform has been deprecated in v3.0.0. This feature will be removed in v6.0.0. See https://github.com/optuna/optuna/releases/tag/v3.0.0. Use suggest_float(..., log=True) instead.\n",
      "  weight_decay = trial.suggest_loguniform(\"weight_decay\", 1e-5, 1e-1)   # 範囲を調整\n",
      "[I 2024-12-18 13:43:19,139] Trial 56 pruned. \n"
     ]
    },
    {
     "name": "stdout",
     "output_type": "stream",
     "text": [
      "Early stopping at epoch 68\n",
      "Final MCC: 0.2672\n"
     ]
    },
    {
     "name": "stderr",
     "output_type": "stream",
     "text": [
      "[I 2024-12-18 13:43:25,803] Trial 57 finished with value: 0.212796691704275 and parameters: {'dropout1': 0.2, 'dropout2': 0.05, 'learning_rate': 0.00036096924246580556, 'weight_decay': 0.0032867288578439626}. Best is trial 43 with value: 0.3675998382986562.\n"
     ]
    },
    {
     "name": "stdout",
     "output_type": "stream",
     "text": [
      "Early stopping at epoch 52\n",
      "Final MCC: 0.2128\n"
     ]
    },
    {
     "name": "stderr",
     "output_type": "stream",
     "text": [
      "/tmp/ipykernel_41883/2195649114.py:4: FutureWarning: suggest_loguniform has been deprecated in v3.0.0. This feature will be removed in v6.0.0. See https://github.com/optuna/optuna/releases/tag/v3.0.0. Use suggest_float(..., log=True) instead.\n",
      "  learning_rate = trial.suggest_loguniform(\"learning_rate\", 1e-4, 1e-1)  # 範囲を調整\n",
      "/tmp/ipykernel_41883/2195649114.py:5: FutureWarning: suggest_loguniform has been deprecated in v3.0.0. This feature will be removed in v6.0.0. See https://github.com/optuna/optuna/releases/tag/v3.0.0. Use suggest_float(..., log=True) instead.\n",
      "  weight_decay = trial.suggest_loguniform(\"weight_decay\", 1e-5, 1e-1)   # 範囲を調整\n",
      "[I 2024-12-18 13:43:39,300] Trial 58 finished with value: 0.33527283303300776 and parameters: {'dropout1': 0.15000000000000002, 'dropout2': 0.1, 'learning_rate': 0.00012663832896110983, 'weight_decay': 0.06132966360091005}. Best is trial 43 with value: 0.3675998382986562.\n",
      "/tmp/ipykernel_41883/2195649114.py:4: FutureWarning: suggest_loguniform has been deprecated in v3.0.0. This feature will be removed in v6.0.0. See https://github.com/optuna/optuna/releases/tag/v3.0.0. Use suggest_float(..., log=True) instead.\n",
      "  learning_rate = trial.suggest_loguniform(\"learning_rate\", 1e-4, 1e-1)  # 範囲を調整\n",
      "/tmp/ipykernel_41883/2195649114.py:5: FutureWarning: suggest_loguniform has been deprecated in v3.0.0. This feature will be removed in v6.0.0. See https://github.com/optuna/optuna/releases/tag/v3.0.0. Use suggest_float(..., log=True) instead.\n",
      "  weight_decay = trial.suggest_loguniform(\"weight_decay\", 1e-5, 1e-1)   # 範囲を調整\n",
      "[I 2024-12-18 13:43:39,481] Trial 59 pruned. \n"
     ]
    },
    {
     "name": "stdout",
     "output_type": "stream",
     "text": [
      "Final MCC: 0.3353\n"
     ]
    },
    {
     "name": "stderr",
     "output_type": "stream",
     "text": [
      "[I 2024-12-18 13:43:40,991] Trial 60 finished with value: 0.0 and parameters: {'dropout1': 0.2, 'dropout2': 0.1, 'learning_rate': 0.0001237503698545222, 'weight_decay': 0.047763007338626776}. Best is trial 43 with value: 0.3675998382986562.\n",
      "/tmp/ipykernel_41883/2195649114.py:4: FutureWarning: suggest_loguniform has been deprecated in v3.0.0. This feature will be removed in v6.0.0. See https://github.com/optuna/optuna/releases/tag/v3.0.0. Use suggest_float(..., log=True) instead.\n",
      "  learning_rate = trial.suggest_loguniform(\"learning_rate\", 1e-4, 1e-1)  # 範囲を調整\n",
      "/tmp/ipykernel_41883/2195649114.py:5: FutureWarning: suggest_loguniform has been deprecated in v3.0.0. This feature will be removed in v6.0.0. See https://github.com/optuna/optuna/releases/tag/v3.0.0. Use suggest_float(..., log=True) instead.\n",
      "  weight_decay = trial.suggest_loguniform(\"weight_decay\", 1e-5, 1e-1)   # 範囲を調整\n",
      "[I 2024-12-18 13:43:41,146] Trial 61 pruned. \n"
     ]
    },
    {
     "name": "stdout",
     "output_type": "stream",
     "text": [
      "Early stopping at epoch 10\n",
      "Final MCC: 0.0000\n"
     ]
    },
    {
     "name": "stderr",
     "output_type": "stream",
     "text": [
      "[I 2024-12-18 13:43:41,267] Trial 62 pruned. \n",
      "[I 2024-12-18 13:43:41,391] Trial 63 pruned. \n",
      "[I 2024-12-18 13:43:41,524] Trial 64 pruned. \n",
      "[I 2024-12-18 13:43:41,676] Trial 65 pruned. \n",
      "[I 2024-12-18 13:43:41,836] Trial 66 pruned. \n",
      "[I 2024-12-18 13:43:42,008] Trial 67 pruned. \n",
      "[I 2024-12-18 13:43:42,149] Trial 68 pruned. \n",
      "[I 2024-12-18 13:43:42,271] Trial 69 pruned. \n",
      "[I 2024-12-18 13:43:42,393] Trial 70 pruned. \n",
      "[I 2024-12-18 13:43:42,516] Trial 71 pruned. \n",
      "[I 2024-12-18 13:43:42,640] Trial 72 pruned. \n",
      "[I 2024-12-18 13:43:54,533] Trial 73 finished with value: 0.30338381952359283 and parameters: {'dropout1': 0.25, 'dropout2': 0.05, 'learning_rate': 0.0002689915845455112, 'weight_decay': 0.00015795097119441053}. Best is trial 43 with value: 0.3675998382986562.\n",
      "/tmp/ipykernel_41883/2195649114.py:4: FutureWarning: suggest_loguniform has been deprecated in v3.0.0. This feature will be removed in v6.0.0. See https://github.com/optuna/optuna/releases/tag/v3.0.0. Use suggest_float(..., log=True) instead.\n",
      "  learning_rate = trial.suggest_loguniform(\"learning_rate\", 1e-4, 1e-1)  # 範囲を調整\n",
      "/tmp/ipykernel_41883/2195649114.py:5: FutureWarning: suggest_loguniform has been deprecated in v3.0.0. This feature will be removed in v6.0.0. See https://github.com/optuna/optuna/releases/tag/v3.0.0. Use suggest_float(..., log=True) instead.\n",
      "  weight_decay = trial.suggest_loguniform(\"weight_decay\", 1e-5, 1e-1)   # 範囲を調整\n",
      "[I 2024-12-18 13:43:54,642] Trial 74 pruned. \n"
     ]
    },
    {
     "name": "stdout",
     "output_type": "stream",
     "text": [
      "Final MCC: 0.3034\n"
     ]
    },
    {
     "name": "stderr",
     "output_type": "stream",
     "text": [
      "[I 2024-12-18 13:43:54,751] Trial 75 pruned. \n",
      "[I 2024-12-18 13:43:54,859] Trial 76 pruned. \n",
      "[I 2024-12-18 13:43:54,967] Trial 77 pruned. \n",
      "[I 2024-12-18 13:43:55,074] Trial 78 pruned. \n",
      "[I 2024-12-18 13:44:03,861] Trial 79 finished with value: 0.1189143148483564 and parameters: {'dropout1': 0.25, 'dropout2': 0.15000000000000002, 'learning_rate': 0.0002843942578995909, 'weight_decay': 0.00021037465779868297}. Best is trial 43 with value: 0.3675998382986562.\n",
      "/tmp/ipykernel_41883/2195649114.py:4: FutureWarning: suggest_loguniform has been deprecated in v3.0.0. This feature will be removed in v6.0.0. See https://github.com/optuna/optuna/releases/tag/v3.0.0. Use suggest_float(..., log=True) instead.\n",
      "  learning_rate = trial.suggest_loguniform(\"learning_rate\", 1e-4, 1e-1)  # 範囲を調整\n",
      "/tmp/ipykernel_41883/2195649114.py:5: FutureWarning: suggest_loguniform has been deprecated in v3.0.0. This feature will be removed in v6.0.0. See https://github.com/optuna/optuna/releases/tag/v3.0.0. Use suggest_float(..., log=True) instead.\n",
      "  weight_decay = trial.suggest_loguniform(\"weight_decay\", 1e-5, 1e-1)   # 範囲を調整\n",
      "[I 2024-12-18 13:44:03,994] Trial 80 pruned. \n"
     ]
    },
    {
     "name": "stdout",
     "output_type": "stream",
     "text": [
      "Early stopping at epoch 91\n",
      "Final MCC: 0.1189\n"
     ]
    },
    {
     "name": "stderr",
     "output_type": "stream",
     "text": [
      "[I 2024-12-18 13:44:04,128] Trial 81 pruned. \n",
      "[I 2024-12-18 13:44:04,278] Trial 82 pruned. \n",
      "[I 2024-12-18 13:44:08,980] Trial 83 finished with value: 0.08207487271029917 and parameters: {'dropout1': 0.30000000000000004, 'dropout2': 0.4, 'learning_rate': 0.0029724262122982873, 'weight_decay': 0.00025494386188336507}. Best is trial 43 with value: 0.3675998382986562.\n",
      "/tmp/ipykernel_41883/2195649114.py:4: FutureWarning: suggest_loguniform has been deprecated in v3.0.0. This feature will be removed in v6.0.0. See https://github.com/optuna/optuna/releases/tag/v3.0.0. Use suggest_float(..., log=True) instead.\n",
      "  learning_rate = trial.suggest_loguniform(\"learning_rate\", 1e-4, 1e-1)  # 範囲を調整\n",
      "/tmp/ipykernel_41883/2195649114.py:5: FutureWarning: suggest_loguniform has been deprecated in v3.0.0. This feature will be removed in v6.0.0. See https://github.com/optuna/optuna/releases/tag/v3.0.0. Use suggest_float(..., log=True) instead.\n",
      "  weight_decay = trial.suggest_loguniform(\"weight_decay\", 1e-5, 1e-1)   # 範囲を調整\n",
      "[I 2024-12-18 13:44:09,119] Trial 84 pruned. \n"
     ]
    },
    {
     "name": "stdout",
     "output_type": "stream",
     "text": [
      "Early stopping at epoch 31\n",
      "Final MCC: 0.0821\n"
     ]
    },
    {
     "name": "stderr",
     "output_type": "stream",
     "text": [
      "[I 2024-12-18 13:44:09,274] Trial 85 pruned. \n",
      "[I 2024-12-18 13:44:20,108] Trial 86 finished with value: 0.3067824844174605 and parameters: {'dropout1': 0.2, 'dropout2': 0.45, 'learning_rate': 0.00020481598252769756, 'weight_decay': 0.0009136306548675267}. Best is trial 43 with value: 0.3675998382986562.\n",
      "/tmp/ipykernel_41883/2195649114.py:4: FutureWarning: suggest_loguniform has been deprecated in v3.0.0. This feature will be removed in v6.0.0. See https://github.com/optuna/optuna/releases/tag/v3.0.0. Use suggest_float(..., log=True) instead.\n",
      "  learning_rate = trial.suggest_loguniform(\"learning_rate\", 1e-4, 1e-1)  # 範囲を調整\n",
      "/tmp/ipykernel_41883/2195649114.py:5: FutureWarning: suggest_loguniform has been deprecated in v3.0.0. This feature will be removed in v6.0.0. See https://github.com/optuna/optuna/releases/tag/v3.0.0. Use suggest_float(..., log=True) instead.\n",
      "  weight_decay = trial.suggest_loguniform(\"weight_decay\", 1e-5, 1e-1)   # 範囲を調整\n",
      "[I 2024-12-18 13:44:20,214] Trial 87 pruned. \n"
     ]
    },
    {
     "name": "stdout",
     "output_type": "stream",
     "text": [
      "Final MCC: 0.3068\n"
     ]
    },
    {
     "name": "stderr",
     "output_type": "stream",
     "text": [
      "[I 2024-12-18 13:44:20,322] Trial 88 pruned. \n",
      "[I 2024-12-18 13:44:20,455] Trial 89 pruned. \n",
      "[I 2024-12-18 13:44:20,618] Trial 90 pruned. \n",
      "[I 2024-12-18 13:44:20,775] Trial 91 pruned. \n",
      "[I 2024-12-18 13:44:34,353] Trial 92 finished with value: 0.3311225956359344 and parameters: {'dropout1': 0.15000000000000002, 'dropout2': 0.5, 'learning_rate': 0.0001938501195723803, 'weight_decay': 0.0006038824766080131}. Best is trial 43 with value: 0.3675998382986562.\n",
      "/tmp/ipykernel_41883/2195649114.py:4: FutureWarning: suggest_loguniform has been deprecated in v3.0.0. This feature will be removed in v6.0.0. See https://github.com/optuna/optuna/releases/tag/v3.0.0. Use suggest_float(..., log=True) instead.\n",
      "  learning_rate = trial.suggest_loguniform(\"learning_rate\", 1e-4, 1e-1)  # 範囲を調整\n",
      "/tmp/ipykernel_41883/2195649114.py:5: FutureWarning: suggest_loguniform has been deprecated in v3.0.0. This feature will be removed in v6.0.0. See https://github.com/optuna/optuna/releases/tag/v3.0.0. Use suggest_float(..., log=True) instead.\n",
      "  weight_decay = trial.suggest_loguniform(\"weight_decay\", 1e-5, 1e-1)   # 範囲を調整\n",
      "[I 2024-12-18 13:44:34,499] Trial 93 pruned. \n"
     ]
    },
    {
     "name": "stdout",
     "output_type": "stream",
     "text": [
      "Final MCC: 0.3311\n"
     ]
    },
    {
     "name": "stderr",
     "output_type": "stream",
     "text": [
      "[I 2024-12-18 13:44:34,650] Trial 94 pruned. \n",
      "[I 2024-12-18 13:44:34,790] Trial 95 pruned. \n",
      "[I 2024-12-18 13:44:34,932] Trial 96 pruned. \n",
      "[I 2024-12-18 13:44:35,054] Trial 97 pruned. \n",
      "[I 2024-12-18 13:44:35,218] Trial 98 pruned. \n",
      "[I 2024-12-18 13:44:35,382] Trial 99 pruned. \n"
     ]
    },
    {
     "name": "stdout",
     "output_type": "stream",
     "text": [
      "Best Parameters:  {'dropout1': 0.4, 'dropout2': 0.0, 'learning_rate': 0.00024426735505470216, 'weight_decay': 0.011752020640266416}\n",
      "Best Validation F1:  0.3675998382986562\n"
     ]
    }
   ],
   "source": [
    "device_id = 0  # 使用するGPUのID（0または1）\n",
    "torch.cuda.set_device(device_id)\n",
    "device = torch.device(f\"cuda:{device_id}\" if torch.cuda.is_available() else \"cpu\")\n",
    "\n",
    "# Optunaの設定\n",
    "study = optuna.create_study(direction=\"maximize\")  \n",
    "study.optimize(objective, n_trials=100)\n",
    "\n",
    "# 結果表示\n",
    "print(\"Best Parameters: \", study.best_params)\n",
    "print(\"Best Validation F1: \", study.best_value)"
   ]
  },
  {
   "cell_type": "code",
   "execution_count": 7,
   "metadata": {},
   "outputs": [
    {
     "name": "stdout",
     "output_type": "stream",
     "text": [
      "Best parameters saved to 'best_params.json'\n"
     ]
    }
   ],
   "source": [
    "best_params = study.best_params\n",
    "\n",
    "# JSON形式で保存\n",
    "with open(\"optim_param/optim_DNN_6_params.json\", \"w\") as f:\n",
    "    json.dump(best_params, f)\n",
    "\n",
    "print(\"Best parameters saved to 'best_params.json'\")"
   ]
  },
  {
   "cell_type": "code",
   "execution_count": 12,
   "metadata": {},
   "outputs": [
    {
     "name": "stdout",
     "output_type": "stream",
     "text": [
      "Epoch [1/100], Loss: 0.6678\n",
      "Epoch [1/100], Train Loss: 0.6678, Val Loss: 0.6652\n",
      "Epoch [2/100], Loss: 0.6607\n",
      "Epoch [2/100], Train Loss: 0.6607, Val Loss: 0.6601\n",
      "Epoch [3/100], Loss: 0.6606\n",
      "Epoch [3/100], Train Loss: 0.6606, Val Loss: 0.6578\n",
      "Epoch [4/100], Loss: 0.6579\n",
      "Epoch [4/100], Train Loss: 0.6579, Val Loss: 0.6533\n",
      "Epoch [5/100], Loss: 0.6543\n",
      "Epoch [5/100], Train Loss: 0.6543, Val Loss: 0.6486\n",
      "Epoch [6/100], Loss: 0.6513\n",
      "Epoch [6/100], Train Loss: 0.6513, Val Loss: 0.6434\n",
      "Epoch [7/100], Loss: 0.6460\n",
      "Epoch [7/100], Train Loss: 0.6460, Val Loss: 0.6377\n",
      "Epoch [8/100], Loss: 0.6401\n",
      "Epoch [8/100], Train Loss: 0.6401, Val Loss: 0.6316\n",
      "Epoch [9/100], Loss: 0.6393\n",
      "Epoch [9/100], Train Loss: 0.6393, Val Loss: 0.6269\n",
      "Epoch [10/100], Loss: 0.6332\n",
      "Epoch [10/100], Train Loss: 0.6332, Val Loss: 0.6207\n",
      "Epoch [11/100], Loss: 0.6269\n",
      "Epoch [11/100], Train Loss: 0.6269, Val Loss: 0.6139\n",
      "Epoch [12/100], Loss: 0.6255\n",
      "Epoch [12/100], Train Loss: 0.6255, Val Loss: 0.6093\n",
      "Epoch [13/100], Loss: 0.6208\n",
      "Epoch [13/100], Train Loss: 0.6208, Val Loss: 0.6053\n",
      "Epoch [14/100], Loss: 0.6211\n",
      "Epoch [14/100], Train Loss: 0.6211, Val Loss: 0.5996\n",
      "Epoch [15/100], Loss: 0.6107\n",
      "Epoch [15/100], Train Loss: 0.6107, Val Loss: 0.5966\n",
      "Epoch [16/100], Loss: 0.6109\n",
      "Epoch [16/100], Train Loss: 0.6109, Val Loss: 0.5946\n",
      "Epoch [17/100], Loss: 0.6094\n",
      "Epoch [17/100], Train Loss: 0.6094, Val Loss: 0.5908\n",
      "Epoch [18/100], Loss: 0.6034\n",
      "Epoch [18/100], Train Loss: 0.6034, Val Loss: 0.5875\n",
      "Epoch [19/100], Loss: 0.6037\n",
      "Epoch [19/100], Train Loss: 0.6037, Val Loss: 0.5854\n",
      "Epoch [20/100], Loss: 0.5994\n",
      "Epoch [20/100], Train Loss: 0.5994, Val Loss: 0.5848\n",
      "Epoch [21/100], Loss: 0.5987\n",
      "Epoch [21/100], Train Loss: 0.5987, Val Loss: 0.5822\n",
      "Epoch [22/100], Loss: 0.6002\n",
      "Epoch [22/100], Train Loss: 0.6002, Val Loss: 0.5818\n",
      "Epoch [23/100], Loss: 0.5978\n",
      "Epoch [23/100], Train Loss: 0.5978, Val Loss: 0.5822\n",
      "Epoch [24/100], Loss: 0.5997\n",
      "Epoch [24/100], Train Loss: 0.5997, Val Loss: 0.5816\n",
      "Epoch [25/100], Loss: 0.5924\n",
      "Epoch [25/100], Train Loss: 0.5924, Val Loss: 0.5793\n",
      "Epoch [26/100], Loss: 0.5926\n",
      "Epoch [26/100], Train Loss: 0.5926, Val Loss: 0.5791\n",
      "Epoch [27/100], Loss: 0.5910\n",
      "Epoch [27/100], Train Loss: 0.5910, Val Loss: 0.5798\n",
      "Epoch [28/100], Loss: 0.5936\n",
      "Epoch [28/100], Train Loss: 0.5936, Val Loss: 0.5805\n",
      "Epoch [29/100], Loss: 0.5892\n",
      "Epoch [29/100], Train Loss: 0.5892, Val Loss: 0.5779\n",
      "Epoch [30/100], Loss: 0.5913\n",
      "Epoch [30/100], Train Loss: 0.5913, Val Loss: 0.5769\n",
      "Epoch [31/100], Loss: 0.5864\n",
      "Epoch [31/100], Train Loss: 0.5864, Val Loss: 0.5770\n",
      "Epoch [32/100], Loss: 0.5840\n",
      "Epoch [32/100], Train Loss: 0.5840, Val Loss: 0.5772\n",
      "Epoch [33/100], Loss: 0.5835\n",
      "Epoch [33/100], Train Loss: 0.5835, Val Loss: 0.5757\n",
      "Epoch [34/100], Loss: 0.5850\n",
      "Epoch [34/100], Train Loss: 0.5850, Val Loss: 0.5751\n",
      "Epoch [35/100], Loss: 0.5837\n",
      "Epoch [35/100], Train Loss: 0.5837, Val Loss: 0.5751\n",
      "Epoch [36/100], Loss: 0.5826\n",
      "Epoch [36/100], Train Loss: 0.5826, Val Loss: 0.5745\n",
      "Epoch [37/100], Loss: 0.5854\n",
      "Epoch [37/100], Train Loss: 0.5854, Val Loss: 0.5745\n",
      "Epoch [38/100], Loss: 0.5811\n",
      "Epoch [38/100], Train Loss: 0.5811, Val Loss: 0.5738\n",
      "Epoch [39/100], Loss: 0.5819\n",
      "Epoch [39/100], Train Loss: 0.5819, Val Loss: 0.5735\n",
      "Epoch [40/100], Loss: 0.5785\n",
      "Epoch [40/100], Train Loss: 0.5785, Val Loss: 0.5735\n",
      "Epoch [41/100], Loss: 0.5807\n",
      "Epoch [41/100], Train Loss: 0.5807, Val Loss: 0.5725\n",
      "Epoch [42/100], Loss: 0.5799\n",
      "Epoch [42/100], Train Loss: 0.5799, Val Loss: 0.5720\n",
      "Epoch [43/100], Loss: 0.5776\n",
      "Epoch [43/100], Train Loss: 0.5776, Val Loss: 0.5713\n",
      "Epoch [44/100], Loss: 0.5846\n",
      "Epoch [44/100], Train Loss: 0.5846, Val Loss: 0.5715\n",
      "Epoch [45/100], Loss: 0.5834\n",
      "Epoch [45/100], Train Loss: 0.5834, Val Loss: 0.5696\n",
      "Epoch [46/100], Loss: 0.5780\n",
      "Epoch [46/100], Train Loss: 0.5780, Val Loss: 0.5711\n",
      "Epoch [47/100], Loss: 0.5788\n",
      "Epoch [47/100], Train Loss: 0.5788, Val Loss: 0.5693\n",
      "Epoch [48/100], Loss: 0.5797\n",
      "Epoch [48/100], Train Loss: 0.5797, Val Loss: 0.5699\n",
      "Epoch [49/100], Loss: 0.5775\n",
      "Epoch [49/100], Train Loss: 0.5775, Val Loss: 0.5729\n",
      "Epoch [50/100], Loss: 0.5765\n",
      "Epoch [50/100], Train Loss: 0.5765, Val Loss: 0.5695\n",
      "Epoch [51/100], Loss: 0.5767\n",
      "Epoch [51/100], Train Loss: 0.5767, Val Loss: 0.5725\n",
      "Epoch [52/100], Loss: 0.5786\n",
      "Epoch [52/100], Train Loss: 0.5786, Val Loss: 0.5701\n",
      "Epoch [53/100], Loss: 0.5757\n",
      "Epoch [53/100], Train Loss: 0.5757, Val Loss: 0.5709\n",
      "Epoch [54/100], Loss: 0.5748\n",
      "Epoch [54/100], Train Loss: 0.5748, Val Loss: 0.5703\n",
      "Epoch [55/100], Loss: 0.5776\n",
      "Epoch [55/100], Train Loss: 0.5776, Val Loss: 0.5695\n",
      "Epoch [56/100], Loss: 0.5756\n",
      "Epoch [56/100], Train Loss: 0.5756, Val Loss: 0.5692\n",
      "Epoch [57/100], Loss: 0.5768\n",
      "Epoch [57/100], Train Loss: 0.5768, Val Loss: 0.5691\n",
      "Epoch [58/100], Loss: 0.5767\n",
      "Epoch [58/100], Train Loss: 0.5767, Val Loss: 0.5705\n",
      "Epoch [59/100], Loss: 0.5749\n",
      "Epoch [59/100], Train Loss: 0.5749, Val Loss: 0.5690\n",
      "Epoch [60/100], Loss: 0.5725\n",
      "Epoch [60/100], Train Loss: 0.5725, Val Loss: 0.5695\n",
      "Epoch [61/100], Loss: 0.5729\n",
      "Epoch [61/100], Train Loss: 0.5729, Val Loss: 0.5689\n",
      "Epoch [62/100], Loss: 0.5737\n",
      "Epoch [62/100], Train Loss: 0.5737, Val Loss: 0.5694\n",
      "Epoch [63/100], Loss: 0.5715\n",
      "Epoch [63/100], Train Loss: 0.5715, Val Loss: 0.5689\n",
      "Epoch [64/100], Loss: 0.5712\n",
      "Epoch [64/100], Train Loss: 0.5712, Val Loss: 0.5685\n",
      "Epoch [65/100], Loss: 0.5703\n",
      "Epoch [65/100], Train Loss: 0.5703, Val Loss: 0.5683\n",
      "Epoch [66/100], Loss: 0.5707\n",
      "Epoch [66/100], Train Loss: 0.5707, Val Loss: 0.5693\n",
      "Epoch [67/100], Loss: 0.5711\n",
      "Epoch [67/100], Train Loss: 0.5711, Val Loss: 0.5676\n",
      "Epoch [68/100], Loss: 0.5726\n",
      "Epoch [68/100], Train Loss: 0.5726, Val Loss: 0.5683\n",
      "Epoch [69/100], Loss: 0.5682\n",
      "Epoch [69/100], Train Loss: 0.5682, Val Loss: 0.5691\n",
      "Epoch [70/100], Loss: 0.5695\n",
      "Epoch [70/100], Train Loss: 0.5695, Val Loss: 0.5677\n",
      "Epoch [71/100], Loss: 0.5682\n",
      "Epoch [71/100], Train Loss: 0.5682, Val Loss: 0.5667\n",
      "Epoch [72/100], Loss: 0.5723\n",
      "Epoch [72/100], Train Loss: 0.5723, Val Loss: 0.5673\n",
      "Epoch [73/100], Loss: 0.5692\n",
      "Epoch [73/100], Train Loss: 0.5692, Val Loss: 0.5687\n",
      "Epoch [74/100], Loss: 0.5701\n",
      "Epoch [74/100], Train Loss: 0.5701, Val Loss: 0.5688\n",
      "Epoch [75/100], Loss: 0.5699\n",
      "Epoch [75/100], Train Loss: 0.5699, Val Loss: 0.5697\n",
      "Epoch [76/100], Loss: 0.5679\n",
      "Epoch [76/100], Train Loss: 0.5679, Val Loss: 0.5690\n",
      "Epoch [77/100], Loss: 0.5686\n",
      "Epoch [77/100], Train Loss: 0.5686, Val Loss: 0.5668\n",
      "Epoch [78/100], Loss: 0.5680\n",
      "Epoch [78/100], Train Loss: 0.5680, Val Loss: 0.5684\n",
      "Epoch [79/100], Loss: 0.5652\n",
      "Epoch [79/100], Train Loss: 0.5652, Val Loss: 0.5685\n",
      "Epoch [80/100], Loss: 0.5704\n",
      "Epoch [80/100], Train Loss: 0.5704, Val Loss: 0.5685\n",
      "Epoch [81/100], Loss: 0.5663\n",
      "Epoch [81/100], Train Loss: 0.5663, Val Loss: 0.5677\n",
      "Epoch [82/100], Loss: 0.5625\n",
      "Epoch [82/100], Train Loss: 0.5625, Val Loss: 0.5677\n",
      "Epoch [83/100], Loss: 0.5646\n",
      "Epoch [83/100], Train Loss: 0.5646, Val Loss: 0.5689\n",
      "Epoch [84/100], Loss: 0.5663\n",
      "Epoch [84/100], Train Loss: 0.5663, Val Loss: 0.5685\n",
      "Epoch [85/100], Loss: 0.5660\n",
      "Epoch [85/100], Train Loss: 0.5660, Val Loss: 0.5669\n",
      "Epoch [86/100], Loss: 0.5681\n",
      "Epoch [86/100], Train Loss: 0.5681, Val Loss: 0.5663\n",
      "Epoch [87/100], Loss: 0.5654\n",
      "Epoch [87/100], Train Loss: 0.5654, Val Loss: 0.5667\n",
      "Epoch [88/100], Loss: 0.5637\n",
      "Epoch [88/100], Train Loss: 0.5637, Val Loss: 0.5668\n",
      "Epoch [89/100], Loss: 0.5626\n",
      "Epoch [89/100], Train Loss: 0.5626, Val Loss: 0.5656\n",
      "Epoch [90/100], Loss: 0.5668\n",
      "Epoch [90/100], Train Loss: 0.5668, Val Loss: 0.5663\n",
      "Epoch [91/100], Loss: 0.5660\n",
      "Epoch [91/100], Train Loss: 0.5660, Val Loss: 0.5664\n",
      "Epoch [92/100], Loss: 0.5631\n",
      "Epoch [92/100], Train Loss: 0.5631, Val Loss: 0.5658\n",
      "Epoch [93/100], Loss: 0.5643\n",
      "Epoch [93/100], Train Loss: 0.5643, Val Loss: 0.5646\n",
      "Epoch [94/100], Loss: 0.5638\n",
      "Epoch [94/100], Train Loss: 0.5638, Val Loss: 0.5633\n",
      "Epoch [95/100], Loss: 0.5635\n",
      "Epoch [95/100], Train Loss: 0.5635, Val Loss: 0.5649\n",
      "Epoch [96/100], Loss: 0.5635\n",
      "Epoch [96/100], Train Loss: 0.5635, Val Loss: 0.5656\n",
      "Epoch [97/100], Loss: 0.5664\n",
      "Epoch [97/100], Train Loss: 0.5664, Val Loss: 0.5642\n",
      "Epoch [98/100], Loss: 0.5597\n",
      "Epoch [98/100], Train Loss: 0.5597, Val Loss: 0.5650\n",
      "Epoch [99/100], Loss: 0.5663\n",
      "Epoch [99/100], Train Loss: 0.5663, Val Loss: 0.5654\n",
      "Epoch [100/100], Loss: 0.5635\n",
      "Epoch [100/100], Train Loss: 0.5635, Val Loss: 0.5666\n"
     ]
    },
    {
     "data": {
      "image/png": "[encoded data removed]",
      "text/plain": [
       "<Figure size 1000x600 with 1 Axes>"
      ]
     },
     "metadata": {},
     "output_type": "display_data"
    }
   ],
   "source": [
    "best_params=study.best_params\n",
    "model = DNN_6(input_dim=X_train_tensor.shape[1],\n",
    "              dropout1=best_params[\"dropout1\"],\n",
    "              dropout2=best_params[\"dropout2\"],).to(device)\n",
    "# 最適化と訓練を実行\n",
    "optimizer = optim.Adam(model.parameters(), lr=best_params[\"learning_rate\"],weight_decay=best_params[\"weight_decay\"])\n",
    "criterion = nn.BCELoss()\n",
    "\n",
    "num_epochs=100\n",
    "train_losses = []\n",
    "val_losses = []\n",
    "\n",
    "model.train()\n",
    "for epoch in range(num_epochs):\n",
    "    epoch_train_loss = 0\n",
    "    epoch_val_loss = 0\n",
    "\n",
    "    for X_batch, y_batch in train_loader:\n",
    "        X_batch, y_batch = X_batch.to(device), y_batch.to(device)\n",
    "        optimizer.zero_grad()\n",
    "        outputs = model(X_batch).squeeze()\n",
    "        loss = criterion(outputs, y_batch.squeeze())\n",
    "        loss.backward()\n",
    "        optimizer.step()\n",
    "        epoch_train_loss += loss.item()\n",
    "    avg_train_loss = epoch_train_loss / len(train_loader)\n",
    "    train_losses.append(avg_train_loss)\n",
    "    print(f'Epoch [{epoch+1}/{num_epochs}], Loss: {avg_train_loss:.4f}')\n",
    "\n",
    "    if val_loader is not None:\n",
    "        model.eval()  \n",
    "        with torch.no_grad():\n",
    "            for X_val, y_val in val_loader:\n",
    "                X_val, y_val = X_val.to(device), y_val.to(device)\n",
    "                val_outputs = model(X_val).squeeze()\n",
    "                val_loss = criterion(val_outputs, y_val.squeeze())\n",
    "                epoch_val_loss += val_loss.item()\n",
    "\n",
    "        avg_val_loss = epoch_val_loss / len(val_loader)\n",
    "        val_losses.append(avg_val_loss)\n",
    "        model.train()  \n",
    "\n",
    "    if val_loader is not None:\n",
    "        print(f\"Epoch [{epoch+1}/{num_epochs}], Train Loss: {avg_train_loss:.4f}, Val Loss: {avg_val_loss:.4f}\")\n",
    "    else:\n",
    "        print(f\"Epoch [{epoch+1}/{num_epochs}], Train Loss: {avg_train_loss:.4f}\")\n",
    "\n",
    "plt.figure(figsize=(10, 6))\n",
    "plt.plot(range(1, num_epochs + 1), train_losses, label='Train Loss')\n",
    "if val_losses:\n",
    "    plt.plot(range(1, num_epochs + 1), val_losses, label='Validation Loss')\n",
    "plt.xlabel('Epoch')\n",
    "plt.ylabel('Loss')\n",
    "plt.title('Learning Curve for DNN6')\n",
    "plt.legend()\n",
    "plt.grid()\n",
    "plt.show()"
   ]
  },
  {
   "cell_type": "code",
   "execution_count": 13,
   "metadata": {},
   "outputs": [
    {
     "name": "stdout",
     "output_type": "stream",
     "text": [
      "Accuracy: 62.98%\n",
      "Precision: 0.5062\n",
      "Recall: 0.2477\n",
      "F1 Score: 0.3326\n",
      "Matthews Correlation Coefficient: 0.1307\n",
      "Specificity: 0.8566\n"
     ]
    },
    {
     "data": {
      "image/png": "[encoded data removed]",
      "text/plain": [
       "<Figure size 640x480 with 1 Axes>"
      ]
     },
     "metadata": {},
     "output_type": "display_data"
    },
    {
     "data": {
      "image/png": "[encoded data removed]",
      "text/plain": [
       "<Figure size 640x480 with 1 Axes>"
      ]
     },
     "metadata": {},
     "output_type": "display_data"
    },
    {
     "data": {
      "image/png": "[encoded data removed]",
      "text/plain": [
       "<Figure size 640x480 with 1 Axes>"
      ]
     },
     "metadata": {},
     "output_type": "display_data"
    }
   ],
   "source": [
    "model.eval()\n",
    "with torch.no_grad():\n",
    "    X_test_tensor = X_test_tensor.to(device)\n",
    "    y_test_tensor = y_test_tensor.to(device)\n",
    "\n",
    "    # 予測と確率\n",
    "    test_outputs = model(X_test_tensor).squeeze()\n",
    "    predictions = (test_outputs >=0.5).float()\n",
    "    y_true = y_test_tensor.cpu().numpy()\n",
    "    y_pred = predictions.cpu().numpy()\n",
    "    y_prob = test_outputs.cpu().numpy()\n",
    "\n",
    "# 評価指標\n",
    "    accuracy = accuracy_score(y_true, y_pred)\n",
    "    precision = precision_score(y_true, y_pred)\n",
    "    recall = recall_score(y_true, y_pred)\n",
    "    f1 = f1_score(y_true, y_pred)\n",
    "    mcc = matthews_corrcoef(y_true, y_pred)\n",
    "    specificity = recall_score(y_true, y_pred, pos_label=0)  \n",
    "    print(f'Accuracy: {accuracy * 100:.2f}%')\n",
    "    print(f'Precision: {precision:.4f}')\n",
    "    print(f'Recall: {recall:.4f}')\n",
    "    print(f'F1 Score: {f1:.4f}')\n",
    "    print(f'Matthews Correlation Coefficient: {mcc:.4f}')\n",
    "    print(f'Specificity: {specificity:.4f}')\n",
    "\n",
    "    # 混同行列（割合表示）\n",
    "    cm = confusion_matrix(y_true, y_pred, normalize='true')\n",
    "    sns.heatmap(cm, annot=True, fmt=\".2%\", cmap=\"Blues\", cbar=False)\n",
    "    plt.xlabel(\"Predicted\")\n",
    "    plt.ylabel(\"Actual\")\n",
    "    plt.title(f\"Confusion Matrix (Normalized)\")\n",
    "    plt.show()\n",
    "\n",
    "    # ROC曲線とAUC\n",
    "    fpr, tpr, thresholds = roc_curve(y_true, y_prob)\n",
    "    roc_auc = auc(fpr, tpr)\n",
    "    plt.plot(fpr, tpr, label=f'ROC curve (AUC = {roc_auc:.2f})')\n",
    "    plt.plot([0, 1], [0, 1], 'k--') \n",
    "    plt.xlabel('False Positive Rate')\n",
    "    plt.ylabel('True Positive Rate')\n",
    "    plt.title(f'ROC Curve - Model ')\n",
    "    plt.legend(loc=\"lower right\")\n",
    "    plt.show()\n",
    "\n",
    "    # Precision-Recall曲線\n",
    "    precision_curve, recall_curve, pr_thresholds = precision_recall_curve(y_true, y_prob)\n",
    "    pr_auc = auc(recall_curve, precision_curve)\n",
    "    plt.plot(recall_curve, precision_curve, label=f'PR curve (AUC = {pr_auc:.2f})')\n",
    "    plt.xlabel('Recall')\n",
    "    plt.ylabel('Precision')\n",
    "    plt.title(f'Precision-Recall Curve ')\n",
    "    plt.legend(loc=\"lower left\")\n",
    "    plt.show()    "
   ]
  },
  {
   "cell_type": "code",
   "execution_count": 10,
   "metadata": {},
   "outputs": [],
   "source": [
    "# モデルと構造を保存\n",
    "torch.save(model.state_dict(), 'model_params/DNN_6.pth')\n",
    "\n",
    "\n"
   ]
  },
  {
   "cell_type": "code",
   "execution_count": 11,
   "metadata": {},
   "outputs": [
    {
     "name": "stdout",
     "output_type": "stream",
     "text": [
      "----------------------------------------------------------------\n",
      "        Layer (type)               Output Shape         Param #\n",
      "================================================================\n",
      "            Linear-1                   [-1, 32]             960\n",
      "       BatchNorm1d-2                   [-1, 32]              64\n",
      "           Dropout-3                   [-1, 32]               0\n",
      "            Linear-4                   [-1, 16]             528\n",
      "       BatchNorm1d-5                   [-1, 16]              32\n",
      "            Linear-6                    [-1, 8]             136\n",
      "       BatchNorm1d-7                    [-1, 8]              16\n",
      "           Dropout-8                    [-1, 8]               0\n",
      "            Linear-9                    [-1, 4]              36\n",
      "      BatchNorm1d-10                    [-1, 4]               8\n",
      "           Linear-11                    [-1, 1]               5\n",
      "================================================================\n",
      "Total params: 1,785\n",
      "Trainable params: 1,785\n",
      "Non-trainable params: 0\n",
      "----------------------------------------------------------------\n",
      "Input size (MB): 0.00\n",
      "Forward/backward pass size (MB): 0.00\n",
      "Params size (MB): 0.01\n",
      "Estimated Total Size (MB): 0.01\n",
      "----------------------------------------------------------------\n"
     ]
    }
   ],
   "source": [
    "from torchsummary import summary\n",
    "summary(model, input_size=(X_train_tensor.shape[1],))"
   ]
  },
  {
   "cell_type": "code",
   "execution_count": null,
   "metadata": {},
   "outputs": [],
   "source": []
  }
 ],
 "metadata": {
  "kernelspec": {
   "display_name": "torch",
   "language": "python",
   "name": "python3"
  },
  "language_info": {
   "codemirror_mode": {
    "name": "ipython",
    "version": 3
   },
   "file_extension": ".py",
   "mimetype": "text/x-python",
   "name": "python",
   "nbconvert_exporter": "python",
   "pygments_lexer": "ipython3",
   "version": "3.12.7"
  }
 },
 "nbformat": 4,
 "nbformat_minor": 2
}
