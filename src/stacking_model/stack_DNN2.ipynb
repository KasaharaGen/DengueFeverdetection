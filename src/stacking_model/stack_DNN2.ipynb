{
 "cells": [
  {
   "cell_type": "code",
   "execution_count": 22,
   "metadata": {},
   "outputs": [],
   "source": [
    "import torch\n",
    "import torch.nn as nn\n",
    "import torch.nn.functional as F\n",
    "import torch.optim as optim\n",
    "import numpy as np\n",
    "import json\n",
    "\n",
    "from sklearn.ensemble import RandomForestClassifier\n",
    "from sklearn.svm import SVC\n",
    "\n",
    "from sklearn.preprocessing import MinMaxScaler, StandardScaler\n",
    "from sklearn.decomposition import PCA\n",
    "from sklearn.manifold import TSNE\n",
    "from sklearn.cluster import KMeans\n",
    "from scipy.spatial.distance import cdist\n",
    "\n",
    "import optuna\n",
    "\n",
    "import pandas as pd\n",
    "import matplotlib.pyplot as plt\n",
    "import seaborn as sns\n",
    "\n",
    "from sklearn.model_selection import train_test_split\n",
    "from sklearn.metrics import confusion_matrix,accuracy_score, precision_score, recall_score, f1_score, confusion_matrix, roc_curve, auc,matthews_corrcoef, precision_recall_curve,roc_auc_score\n",
    "\n",
    "\n"
   ]
  },
  {
   "cell_type": "code",
   "execution_count": 23,
   "metadata": {},
   "outputs": [],
   "source": [
    "with open(\"optim_param/optim_DNN_1_params.json\", \"r\") as f:\n",
    "    DNN_1_params = json.load(f)\n",
    "\n",
    "with open(\"optim_param/optim_DNN_2_params.json\", \"r\") as f:\n",
    "    DNN_2_params = json.load(f)\n",
    "\n",
    "with open(\"optim_param/optim_DNN_3_params.json\", \"r\") as f:\n",
    "    DNN_3_params = json.load(f)\n",
    "\n",
    "with open(\"optim_param/optim_DNN_4_params.json\", \"r\") as f:\n",
    "    DNN_4_params = json.load(f)\n",
    "\n",
    "with open(\"optim_param/optim_DNN_5_params.json\", \"r\") as f:\n",
    "    DNN_5_params = json.load(f)\n",
    "\n",
    "with open(\"optim_param/optim_DNN_6_params.json\", \"r\") as f:\n",
    "    DNN_6_params = json.load(f)\n",
    "\n",
    "with open(\"optim_param/optim_DNN_7_params.json\", \"r\") as f:\n",
    "    DNN_7_params = json.load(f)\n",
    "\n",
    "with open(\"optim_param/optim_ResNet_params.json\", \"r\") as f:\n",
    "    ResNet_params = json.load(f)\n",
    "\n",
    "with open(\"optim_param/optim_FTTansformer_params.json\", \"r\") as f:\n",
    "    FTTransformer_params = json.load(f)"
   ]
  },
  {
   "cell_type": "code",
   "execution_count": 24,
   "metadata": {},
   "outputs": [],
   "source": [
    "class DNN_1(nn.Module):\n",
    "    def __init__(self, input_dim, dropout_rate=DNN_1_params[\"dropout\"]):\n",
    "        super(DNN_1, self).__init__()\n",
    "        self.layer1 = nn.Linear(input_dim, 32)\n",
    "        self.bn1 = nn.BatchNorm1d(32)\n",
    "        self.layer2 = nn.Linear(32, 16)\n",
    "        self.bn2 = nn.BatchNorm1d(16)\n",
    "        self.layer3 = nn.Linear(16, 8)\n",
    "        self.bn3 = nn.BatchNorm1d(8)\n",
    "        self.layer4 = nn.Linear(8, 4)\n",
    "        self.bn4 = nn.BatchNorm1d(4)\n",
    "        self.output_layer = nn.Linear(4, 1)\n",
    "\n",
    "        self.dropout = nn.Dropout(dropout_rate)\n",
    "        \n",
    "    def forward(self, x):\n",
    "        x = torch.relu(self.bn1(self.layer1(x)))  \n",
    "        x = self.dropout(x)\n",
    "        \n",
    "        x = torch.relu(self.bn2(self.layer2(x)))  \n",
    "        x = self.dropout(x)\n",
    "\n",
    "        x = torch.relu(self.bn3(self.layer3(x)))  \n",
    "        x = self.dropout(x)\n",
    "\n",
    "        x = torch.relu(self.bn4(self.layer4(x))) \n",
    "        x = self.dropout(x)\n",
    "\n",
    "        x = torch.sigmoid(self.output_layer(x)) \n",
    "        return x"
   ]
  },
  {
   "cell_type": "code",
   "execution_count": 25,
   "metadata": {},
   "outputs": [],
   "source": [
    "class DNN_2(nn.Module):\n",
    "    def __init__(self, input_dim,dropout1=DNN_2_params[\"dropout1\"],dropout2=DNN_2_params[\"dropout2\"],dropout3=DNN_2_params[\"dropout3\"],dropout4=DNN_2_params[\"dropout4\"]):\n",
    "        super(DNN_2, self).__init__()\n",
    "        self.layer1 = nn.Linear(input_dim,32)\n",
    "        self.layer2 = nn.Linear(32,16)\n",
    "        self.layer3 = nn.Linear(16,8)\n",
    "        self.layer4 = nn.Linear(8,4)\n",
    "        self.output_layer = nn.Linear(4, 1)\n",
    "\n",
    "        self.bn1=nn.BatchNorm1d(32)\n",
    "        self.bn2=nn.BatchNorm1d(16)\n",
    "        self.bn3=nn.BatchNorm1d(8)\n",
    "        self.bn4=nn.BatchNorm1d(4)\n",
    "\n",
    "\n",
    "        self.dropout1 = nn.Dropout(dropout1)\n",
    "        self.dropout2 = nn.Dropout(dropout2)\n",
    "        self.dropout3 = nn.Dropout(dropout3)\n",
    "        self.dropout4 = nn.Dropout(dropout4)\n",
    "\n",
    "        \n",
    "        \n",
    "    def forward(self, x):\n",
    "        x = torch.relu(self.bn1(self.layer1(x)))\n",
    "        x = self.dropout1(x)\n",
    "        \n",
    "        x = torch.relu(self.bn2(self.layer2(x)))\n",
    "        x = self.dropout2(x)\n",
    "\n",
    "        x = torch.relu(self.bn3(self.layer3(x)))\n",
    "        x = self.dropout3(x)\n",
    "\n",
    "        x = torch.relu(self.bn4(self.layer4(x)))\n",
    "        x = self.dropout4(x)\n",
    "\n",
    "        x = torch.sigmoid(self.output_layer(x)) \n",
    "        return x\n",
    "    "
   ]
  },
  {
   "cell_type": "code",
   "execution_count": 26,
   "metadata": {},
   "outputs": [],
   "source": [
    "class DNN_3(nn.Module):\n",
    "    def __init__(self, input_dim,dropout1=DNN_3_params[\"dropout1\"],dropout2=DNN_3_params[\"dropout2\"]):\n",
    "        super(DNN_3, self).__init__()\n",
    "        self.layer1 = nn.Linear(input_dim,32)\n",
    "        self.layer2 = nn.Linear(32,16)\n",
    "        self.layer3 = nn.Linear(16, 8)\n",
    "        self.layer4 = nn.Linear(8, 4)\n",
    "        self.output_layer = nn.Linear(4, 1)\n",
    "\n",
    "        self.bn1=nn.BatchNorm1d(32)\n",
    "        self.bn2=nn.BatchNorm1d(16)\n",
    "        self.bn3=nn.BatchNorm1d(8)\n",
    "        self.bn4=nn.BatchNorm1d(4)\n",
    "\n",
    "        self.dropout1 = nn.Dropout(dropout1)\n",
    "        self.dropout2 = nn.Dropout(dropout2)        \n",
    "        \n",
    "    def forward(self, x):\n",
    "        x = torch.relu(self.bn1(self.layer1(x)))\n",
    "        \n",
    "        x = torch.relu(self.bn2(self.layer2(x)))\n",
    "        x = self.dropout1(x)\n",
    "\n",
    "        x = torch.relu(self.bn3(self.layer3(x)))\n",
    "        x = self.dropout2(x)\n",
    "\n",
    "        x = torch.relu(self.bn4(self.layer4(x)))\n",
    "    \n",
    "\n",
    "        x = torch.sigmoid(self.output_layer(x)) \n",
    "        return x\n",
    "    "
   ]
  },
  {
   "cell_type": "code",
   "execution_count": 27,
   "metadata": {},
   "outputs": [],
   "source": [
    "class DNN_4(nn.Module):\n",
    "    def __init__(self, input_dim,dropout1=DNN_4_params[\"dropout1\"],dropout2=DNN_4_params[\"dropout2\"]):\n",
    "        super(DNN_4, self).__init__()\n",
    "        self.layer1 = nn.Linear(input_dim,32)\n",
    "        self.layer2 = nn.Linear(32,16)\n",
    "        self.layer3 = nn.Linear(16, 8)\n",
    "        self.layer4 = nn.Linear(8, 4)\n",
    "        self.output_layer = nn.Linear(4, 1)\n",
    "\n",
    "        self.bn1=nn.BatchNorm1d(32)\n",
    "        self.bn2=nn.BatchNorm1d(16)\n",
    "        self.bn3=nn.BatchNorm1d(8)\n",
    "        self.bn4=nn.BatchNorm1d(4)\n",
    "\n",
    "        self.dropout1 = nn.Dropout(dropout1)\n",
    "        self.dropout2 = nn.Dropout(dropout2)\n",
    "        \n",
    "        \n",
    "    def forward(self, x):\n",
    "        x = torch.relu(self.bn1(self.layer1(x)))\n",
    "        x = self.dropout1(x)\n",
    "        \n",
    "        x = torch.relu(self.bn2(self.layer2(x)))\n",
    "    \n",
    "\n",
    "        x = torch.relu(self.bn3(self.layer3(x)))\n",
    "        \n",
    "\n",
    "        x = torch.relu(self.bn4(self.layer4(x)))\n",
    "        x = self.dropout2(x)\n",
    "\n",
    "        x = torch.sigmoid(self.output_layer(x)) \n",
    "        return x\n",
    "    "
   ]
  },
  {
   "cell_type": "code",
   "execution_count": 28,
   "metadata": {},
   "outputs": [],
   "source": [
    "class DNN_5(nn.Module):\n",
    "    def __init__(self, input_dim,dropout1=DNN_5_params[\"dropout1\"],dropout2=DNN_5_params[\"dropout2\"]):\n",
    "        super(DNN_5, self).__init__()\n",
    "        self.layer1 = nn.Linear(input_dim,32)\n",
    "        self.layer2 = nn.Linear(32,16)\n",
    "        self.layer3 = nn.Linear(16, 8)\n",
    "        self.layer4 = nn.Linear(8, 4)\n",
    "        self.output_layer = nn.Linear(4, 1)\n",
    "\n",
    "        self.bn1=nn.BatchNorm1d(32)\n",
    "        self.bn2=nn.BatchNorm1d(16)\n",
    "        self.bn3=nn.BatchNorm1d(8)\n",
    "        self.bn4=nn.BatchNorm1d(4)\n",
    "\n",
    "        self.dropout1 = nn.Dropout(dropout1)\n",
    "        self.dropout2 = nn.Dropout(dropout2)        \n",
    "        \n",
    "    def forward(self, x):\n",
    "        x = torch.relu(self.bn1(self.layer1(x)))\n",
    "        \n",
    "        x = torch.relu(self.bn2(self.layer2(x)))\n",
    "        \n",
    "\n",
    "        x = torch.relu(self.bn3(self.layer3(x)))\n",
    "        x = self.dropout1(x)\n",
    "\n",
    "        x = torch.relu(self.bn4(self.layer4(x)))\n",
    "        x = self.dropout2(x)\n",
    "\n",
    "        x = torch.sigmoid(self.output_layer(x)) \n",
    "        return x\n",
    "    "
   ]
  },
  {
   "cell_type": "code",
   "execution_count": 29,
   "metadata": {},
   "outputs": [],
   "source": [
    "class DNN_6(nn.Module):\n",
    "    def __init__(self, input_dim,dropout1=DNN_6_params[\"dropout1\"],dropout2=DNN_6_params[\"dropout2\"]):\n",
    "        super(DNN_6, self).__init__()\n",
    "        self.layer1 = nn.Linear(input_dim,32)\n",
    "        self.layer2 = nn.Linear(32,16)\n",
    "        self.layer3 = nn.Linear(16, 8)\n",
    "        self.layer4 = nn.Linear(8, 4)\n",
    "        self.output_layer = nn.Linear(4, 1)\n",
    "\n",
    "        self.bn1=nn.BatchNorm1d(32)\n",
    "        self.bn2=nn.BatchNorm1d(16)\n",
    "        self.bn3=nn.BatchNorm1d(8)\n",
    "        self.bn4=nn.BatchNorm1d(4)\n",
    "\n",
    "        self.dropout1 = nn.Dropout(dropout1)\n",
    "        self.dropout2 = nn.Dropout(dropout2)\n",
    "        \n",
    "    def forward(self, x):\n",
    "        x = torch.relu(self.bn1(self.layer1(x)))\n",
    "        x = self.dropout1(x)\n",
    "        \n",
    "        x = torch.relu(self.bn2(self.layer2(x)))\n",
    "    \n",
    "\n",
    "        x = torch.relu(self.bn3(self.layer3(x)))\n",
    "        x = self.dropout2(x)\n",
    "\n",
    "        x = torch.relu(self.bn4(self.layer4(x)))\n",
    "        \n",
    "        x = torch.sigmoid(self.output_layer(x)) \n",
    "        return x\n",
    "    "
   ]
  },
  {
   "cell_type": "code",
   "execution_count": 30,
   "metadata": {},
   "outputs": [],
   "source": [
    "class DNN_7(nn.Module):\n",
    "    def __init__(self, input_dim,dropout1=DNN_7_params[\"dropout1\"],dropout2=DNN_7_params[\"dropout2\"]):\n",
    "        super(DNN_7, self).__init__()\n",
    "        self.layer1 = nn.Linear(input_dim,32)\n",
    "        self.layer2 = nn.Linear(32,16)\n",
    "        self.layer3 = nn.Linear(16, 8)\n",
    "        self.layer4 = nn.Linear(8, 4)\n",
    "        self.output_layer = nn.Linear(4, 1)\n",
    "\n",
    "        self.bn1=nn.BatchNorm1d(32)\n",
    "        self.bn2=nn.BatchNorm1d(16)\n",
    "        self.bn3=nn.BatchNorm1d(8)\n",
    "        self.bn4=nn.BatchNorm1d(4)\n",
    "\n",
    "        self.dropout1 = nn.Dropout(dropout1)\n",
    "        self.dropout2 = nn.Dropout(dropout2)\n",
    "        \n",
    "    def forward(self, x):\n",
    "        x = torch.relu(self.bn1(self.layer1(x)))\n",
    "        \n",
    "        x = torch.relu(self.bn2(self.layer2(x)))\n",
    "        x = self.dropout1(x)\n",
    "\n",
    "        x = torch.relu(self.bn3(self.layer3(x)))\n",
    "\n",
    "        x = torch.relu(self.bn4(self.layer4(x)))\n",
    "        x = self.dropout2(x)\n",
    "\n",
    "        x = torch.sigmoid(self.output_layer(x)) \n",
    "        return x\n",
    "    "
   ]
  },
  {
   "cell_type": "code",
   "execution_count": 31,
   "metadata": {},
   "outputs": [],
   "source": [
    "class FTTransformer(nn.Module):\n",
    "    def __init__(self, input_dim, num_classes=1, embed_dim=FTTransformer_params[\"embed_dim\"], num_heads=FTTransformer_params[\"num_heads\"], num_layers=FTTransformer_params[\"num_layers\"], dropout=FTTransformer_params[\"dropout\"]):\n",
    "        super(FTTransformer, self).__init__()\n",
    "        self.embedding = nn.Linear(input_dim, embed_dim)\n",
    "        self.embedding_dropout = nn.Dropout(dropout)  # 埋め込み層後のDropout\n",
    "        encoder_layer = nn.TransformerEncoderLayer(d_model=embed_dim, nhead=num_heads, dropout=dropout)\n",
    "        self.transformer = nn.TransformerEncoder(encoder_layer, num_layers=num_layers)\n",
    "        self.fc = nn.Linear(embed_dim, num_classes)\n",
    "        self.output_dropout = nn.Dropout(dropout)  # 出力層前のDropout\n",
    "\n",
    "    def forward(self, x):\n",
    "        x = self.embedding(x)\n",
    "        x = self.embedding_dropout(x)  # Dropoutを埋め込み層後に適用\n",
    "        x = x.unsqueeze(1)  # [batch_size, 1, embed_dim]\n",
    "        x = self.transformer(x)\n",
    "        x = x.mean(dim=1)  # 平均プーリング\n",
    "        x = self.output_dropout(x)  # Dropoutを適用\n",
    "        x = self.fc(x)\n",
    "        x = torch.sigmoid(x)  # 2値分類用のシグモイド活性化\n",
    "        return x\n"
   ]
  },
  {
   "cell_type": "code",
   "execution_count": 32,
   "metadata": {},
   "outputs": [],
   "source": [
    "class ResidualBlock(nn.Module):\n",
    "    def __init__(self, input_dim, hidden_dim,dropout1,dropout2):\n",
    "        super(ResidualBlock, self).__init__()\n",
    "        self.fc1 = nn.Linear(input_dim, hidden_dim)\n",
    "        self.bn1 = nn.BatchNorm1d(hidden_dim)\n",
    "        self.dropout1=nn.Dropout(dropout1)\n",
    "        \n",
    "        self.fc2 = nn.Linear(hidden_dim, input_dim)\n",
    "        self.bn2 = nn.BatchNorm1d(input_dim)\n",
    "        self.dropout2=nn.Dropout(dropout2)\n",
    "\n",
    "    def forward(self, x):\n",
    "        residual = x  # 入力を保存 (ショートカット)\n",
    "        out = torch.relu(self.bn1(self.fc1(x)))\n",
    "        out=self.dropout1(out)\n",
    "\n",
    "        out = self.bn2(self.fc2(out))\n",
    "        out=self.dropout2(out)\n",
    "\n",
    "        out += residual  # ショートカット接続\n",
    "        return torch.relu(out)\n"
   ]
  },
  {
   "cell_type": "code",
   "execution_count": 33,
   "metadata": {},
   "outputs": [],
   "source": [
    "class ResNetBinaryClassifier(nn.Module):\n",
    "    def __init__(self, input_dim, num_blocks=ResNet_params[\"num_blocks\"], hidden_dim=ResNet_params[\"hidden_dim\"], dropout1=ResNet_params[\"dropout1\"], dropout2=ResNet_params[\"dropout2\"]):\n",
    "        super(ResNetBinaryClassifier, self).__init__()\n",
    "        self.blocks = nn.Sequential(\n",
    "            *[ResidualBlock(input_dim, hidden_dim, dropout1, dropout2) for _ in range(num_blocks)]\n",
    "        )\n",
    "        self.output_layer = nn.Linear(input_dim, 1)  # 出力層\n",
    "\n",
    "    def forward(self, x):\n",
    "        x = self.blocks(x)\n",
    "        x = torch.sigmoid(self.output_layer(x))  # 2値分類用シグモイド\n",
    "        return x"
   ]
  },
  {
   "cell_type": "code",
   "execution_count": 34,
   "metadata": {},
   "outputs": [],
   "source": [
    "df=pd.read_csv('learning_data.csv',index_col=0)\n",
    "\n",
    "X=df.drop(columns='dengue',axis=1).values\n",
    "y=df['dengue'].values\n",
    "\n",
    "X_train, X_test, y_train, y_test = train_test_split(X, y, test_size=0.2,random_state=0)\n",
    "\n",
    "X_train_tensor=torch.tensor(X_train, dtype=torch.float32)\n",
    "y_train_tensor=torch.tensor(y_train, dtype=torch.float32)\n",
    "X_test_tensor=torch.tensor(X_test, dtype=torch.float32)\n",
    "y_test_tensor=torch.tensor(y_test, dtype=torch.float32)"
   ]
  },
  {
   "cell_type": "code",
   "execution_count": 35,
   "metadata": {},
   "outputs": [
    {
     "name": "stderr",
     "output_type": "stream",
     "text": [
      "/tmp/ipykernel_42869/1801429464.py:33: FutureWarning: You are using `torch.load` with `weights_only=False` (the current default value), which uses the default pickle module implicitly. It is possible to construct malicious pickle data which will execute arbitrary code during unpickling (See https://github.com/pytorch/pytorch/blob/main/SECURITY.md#untrusted-models for more details). In a future release, the default value for `weights_only` will be flipped to `True`. This limits the functions that could be executed during unpickling. Arbitrary objects will no longer be allowed to be loaded via this mode unless they are explicitly allowlisted by the user via `torch.serialization.add_safe_globals`. We recommend you start setting `weights_only=True` for any use case where you don't have full control of the loaded file. Please open an issue on GitHub for any issues related to this experimental feature.\n",
      "  model.load_state_dict(torch.load(path, map_location=device))\n",
      "/home/gonken/anaconda3/envs/torch/lib/python3.12/site-packages/torch/nn/modules/transformer.py:379: UserWarning: enable_nested_tensor is True, but self.use_nested_tensor is False because encoder_layer.self_attn.batch_first was not True(use batch_first for better inference performance)\n",
      "  warnings.warn(\n"
     ]
    }
   ],
   "source": [
    "# デバイス設定\n",
    "device = torch.device(\"cuda\" if torch.cuda.is_available() else \"cpu\")\n",
    "\n",
    "\n",
    "model_paths = [\n",
    "    \"model_params/DNN_1.pth\",\n",
    "    \"model_params/DNN_2.pth\",\n",
    "    \"model_params/DNN_3.pth\",\n",
    "    \"model_params/DNN_4.pth\",\n",
    "    \"model_params/DNN_5.pth\",\n",
    "    \"model_params/DNN_6.pth\",\n",
    "    \"model_params/DNN_7.pth\",\n",
    "    \"model_params/FTTransformer.pth\",\n",
    "    \"model_params/ResNet.pth\",\n",
    "    ]\n",
    "\n",
    "model_classes = {0: DNN_1,\n",
    "                 1: DNN_2,\n",
    "                 2: DNN_3,\n",
    "                 3: DNN_4,\n",
    "                 4: DNN_5,\n",
    "                 5: DNN_6,\n",
    "                 6: DNN_7,\n",
    "                 7:FTTransformer,\n",
    "                 8:ResNetBinaryClassifier\n",
    "                 }\n",
    "\n",
    "models=[]\n",
    "\n",
    "for i, path in enumerate(model_paths):\n",
    "    if i in model_classes:\n",
    "        model = model_classes[i](input_dim=X_train.shape[1]).to(device)\n",
    "        model.load_state_dict(torch.load(path, map_location=device))\n",
    "        model.eval()\n",
    "        models.append(model)"
   ]
  },
  {
   "cell_type": "code",
   "execution_count": 36,
   "metadata": {},
   "outputs": [
    {
     "name": "stdout",
     "output_type": "stream",
     "text": [
      "Train DL Features Shape: torch.Size([3508, 9])\n",
      "Test DL Features Shape: torch.Size([878, 9])\n"
     ]
    }
   ],
   "source": [
    "train_outputs = []\n",
    "test_outputs = []\n",
    "\n",
    "with torch.no_grad():\n",
    "    for model in models:\n",
    "        model.eval()\n",
    "        \n",
    "        train_output = model(X_train_tensor.to(device))\n",
    "        train_outputs.append(train_output)\n",
    "        \n",
    "        # テストデータの出力\n",
    "        test_output = model(X_test_tensor.to(device))\n",
    "        test_outputs.append(test_output)\n",
    "\n",
    "train_DL_features = torch.cat(train_outputs, dim=1)  \n",
    "test_DL_features = torch.cat(test_outputs, dim=1) \n",
    "\n",
    "# 出力形状の確認\n",
    "print(f\"Train DL Features Shape: {train_DL_features.shape}\")\n",
    "print(f\"Test DL Features Shape: {test_DL_features.shape}\")\n"
   ]
  },
  {
   "cell_type": "code",
   "execution_count": 37,
   "metadata": {},
   "outputs": [],
   "source": [
    "X_train, X_val, y_train, y_val = train_test_split(X_train, y_train, test_size=0.1,random_state=0)"
   ]
  },
  {
   "cell_type": "code",
   "execution_count": 38,
   "metadata": {},
   "outputs": [],
   "source": [
    "X_train_tensor=torch.tensor(X_train, dtype=torch.float32)\n",
    "y_train_tensor=torch.tensor(y_train, dtype=torch.float32)\n",
    "X_val_tensor=torch.tensor(X_val, dtype=torch.float32)\n",
    "y_val_tensor=torch.tensor(y_val, dtype=torch.float32)\n",
    "X_test_tensor = torch.tensor(X_test, dtype=torch.float32)\n",
    "y_test_tensor = torch.tensor(y_test, dtype=torch.float32)\n"
   ]
  },
  {
   "cell_type": "code",
   "execution_count": 39,
   "metadata": {},
   "outputs": [],
   "source": [
    "train_dataset = torch.utils.data.TensorDataset(X_train_tensor, y_train_tensor)\n",
    "train_loader = torch.utils.data.DataLoader(dataset=train_dataset, batch_size=128, shuffle=True)\n",
    "\n",
    "val_dataset = torch.utils.data.TensorDataset(X_val_tensor, y_val_tensor)\n",
    "val_loader = torch.utils.data.DataLoader(dataset=val_dataset, batch_size=128, shuffle=False)"
   ]
  },
  {
   "cell_type": "code",
   "execution_count": 40,
   "metadata": {},
   "outputs": [],
   "source": [
    "class meta_model(nn.Module):\n",
    "    def __init__(self, input_dim,dropout1=DNN_2_params[\"dropout1\"],dropout2=DNN_2_params[\"dropout2\"]):\n",
    "        super(meta_model, self).__init__()\n",
    "        self.layer1 = nn.Linear(input_dim,16)\n",
    "        self.layer2 = nn.Linear(16,4)\n",
    "        self.output_layer = nn.Linear(4, 1)\n",
    "\n",
    "        self.bn1=nn.BatchNorm1d(16)\n",
    "        self.bn2=nn.BatchNorm1d(4)\n",
    "\n",
    "\n",
    "        self.dropout1 = nn.Dropout(dropout1)\n",
    "        self.dropout2 = nn.Dropout(dropout2)\n",
    "        \n",
    "\n",
    "        \n",
    "        \n",
    "    def forward(self, x):\n",
    "        x = torch.relu(self.bn1(self.layer1(x)))\n",
    "        x = self.dropout1(x)\n",
    "        \n",
    "        x = torch.relu(self.bn2(self.layer2(x)))\n",
    "        x = self.dropout2(x)\n",
    "\n",
    "        x = torch.sigmoid(self.output_layer(x)) \n",
    "        return x"
   ]
  },
  {
   "cell_type": "code",
   "execution_count": 41,
   "metadata": {},
   "outputs": [],
   "source": [
    "def objective(trial):\n",
    "    # ハイパーパラメータのサンプリング\n",
    "    dropout1 = trial.suggest_float(\"dropout1\", 0, 0.5, step=0.05)\n",
    "    dropout2 = trial.suggest_float(\"dropout2\", 0, 0.5, step=0.05)\n",
    "    learning_rate = trial.suggest_loguniform(\"learning_rate\", 1e-4, 1e-1)\n",
    "    weight_decay=trial.suggest_loguniform(\"weight_decay\", 1e-4, 1e-1)\n",
    "    \n",
    "\n",
    "    # モデル定義\n",
    "    model = meta_model(\n",
    "        input_dim=X_train_tensor.shape[1],\n",
    "        dropout1=dropout1,\n",
    "        dropout2=dropout2\n",
    "    ).to(device)\n",
    "\n",
    "    criterion = nn.BCELoss()\n",
    "    optimizer = torch.optim.Adam(model.parameters(), lr=learning_rate,weight_decay=weight_decay)\n",
    "\n",
    "    # Early Stoppingの設定\n",
    "    patience = 10\n",
    "    best_val_loss = float('inf')\n",
    "    patience_counter = 0\n",
    "\n",
    "    # 訓練ループ\n",
    "    num_epochs = 100\n",
    "    for epoch in range(num_epochs):\n",
    "        model.train()\n",
    "        for X_batch, y_batch in train_loader:\n",
    "            X_batch, y_batch = X_batch.to(device), y_batch.to(device)\n",
    "            optimizer.zero_grad()\n",
    "            outputs = model(X_batch).squeeze()\n",
    "            loss = criterion(outputs, y_batch.squeeze())\n",
    "            loss.backward()\n",
    "            optimizer.step()\n",
    "\n",
    "        # バリデーション評価\n",
    "        model.eval()\n",
    "        val_loss = 0\n",
    "        val_true, val_pred = [], []\n",
    "        with torch.no_grad():\n",
    "            for X_val, y_val in val_loader:\n",
    "                X_val, y_val = X_val.to(device), y_val.to(device)\n",
    "                val_outputs = model(X_val).squeeze()\n",
    "                val_loss += criterion(val_outputs, y_val.squeeze()).item()\n",
    "                predictions = (val_outputs >=0.5).float()  \n",
    "                val_true.extend(y_val.cpu().numpy())\n",
    "                val_pred.extend(predictions.cpu().numpy())\n",
    "\n",
    "        val_loss /= len(val_loader)\n",
    "\n",
    "        # Early Stopping判定\n",
    "        if val_loss < best_val_loss:\n",
    "            best_val_loss = val_loss\n",
    "            patience_counter = 0\n",
    "        else:\n",
    "            patience_counter += 1\n",
    "\n",
    "        if patience_counter >= patience:\n",
    "            print(f\"Early stopping at epoch {epoch}\")\n",
    "            break\n",
    "\n",
    "        # Optunaへのログ\n",
    "        trial.report(val_loss, epoch)\n",
    "        if trial.should_prune():\n",
    "            raise optuna.exceptions.TrialPruned()\n",
    "\n",
    "    # 評価指標の計算\n",
    "    mcc = matthews_corrcoef(val_true, val_pred)\n",
    "    print(f\"Final MCC: {mcc:.4f}\")\n",
    "\n",
    "    return mcc  # mccを返す\n"
   ]
  },
  {
   "cell_type": "code",
   "execution_count": 42,
   "metadata": {},
   "outputs": [
    {
     "name": "stderr",
     "output_type": "stream",
     "text": [
      "[I 2024-12-18 14:08:09,072] A new study created in memory with name: no-name-79255289-3d84-4252-bfdc-693d4b7a1017\n",
      "/tmp/ipykernel_42869/3503316040.py:5: FutureWarning: suggest_loguniform has been deprecated in v3.0.0. This feature will be removed in v6.0.0. See https://github.com/optuna/optuna/releases/tag/v3.0.0. Use suggest_float(..., log=True) instead.\n",
      "  learning_rate = trial.suggest_loguniform(\"learning_rate\", 1e-4, 1e-1)\n",
      "/tmp/ipykernel_42869/3503316040.py:6: FutureWarning: suggest_loguniform has been deprecated in v3.0.0. This feature will be removed in v6.0.0. See https://github.com/optuna/optuna/releases/tag/v3.0.0. Use suggest_float(..., log=True) instead.\n",
      "  weight_decay=trial.suggest_loguniform(\"weight_decay\", 1e-4, 1e-1)\n",
      "[I 2024-12-18 14:08:10,911] Trial 0 finished with value: 0.0 and parameters: {'dropout1': 0.4, 'dropout2': 0.1, 'learning_rate': 0.022657559585572615, 'weight_decay': 0.016798809999091214}. Best is trial 0 with value: 0.0.\n"
     ]
    },
    {
     "name": "stdout",
     "output_type": "stream",
     "text": [
      "Early stopping at epoch 17\n",
      "Final MCC: 0.0000\n"
     ]
    },
    {
     "name": "stderr",
     "output_type": "stream",
     "text": [
      "/tmp/ipykernel_42869/3503316040.py:5: FutureWarning: suggest_loguniform has been deprecated in v3.0.0. This feature will be removed in v6.0.0. See https://github.com/optuna/optuna/releases/tag/v3.0.0. Use suggest_float(..., log=True) instead.\n",
      "  learning_rate = trial.suggest_loguniform(\"learning_rate\", 1e-4, 1e-1)\n",
      "/tmp/ipykernel_42869/3503316040.py:6: FutureWarning: suggest_loguniform has been deprecated in v3.0.0. This feature will be removed in v6.0.0. See https://github.com/optuna/optuna/releases/tag/v3.0.0. Use suggest_float(..., log=True) instead.\n",
      "  weight_decay=trial.suggest_loguniform(\"weight_decay\", 1e-4, 1e-1)\n",
      "[I 2024-12-18 14:08:12,081] Trial 1 finished with value: 0.0 and parameters: {'dropout1': 0.2, 'dropout2': 0.0, 'learning_rate': 0.008352587702896588, 'weight_decay': 0.08603026058507796}. Best is trial 0 with value: 0.0.\n"
     ]
    },
    {
     "name": "stdout",
     "output_type": "stream",
     "text": [
      "Early stopping at epoch 12\n",
      "Final MCC: 0.0000\n"
     ]
    },
    {
     "name": "stderr",
     "output_type": "stream",
     "text": [
      "/tmp/ipykernel_42869/3503316040.py:5: FutureWarning: suggest_loguniform has been deprecated in v3.0.0. This feature will be removed in v6.0.0. See https://github.com/optuna/optuna/releases/tag/v3.0.0. Use suggest_float(..., log=True) instead.\n",
      "  learning_rate = trial.suggest_loguniform(\"learning_rate\", 1e-4, 1e-1)\n",
      "/tmp/ipykernel_42869/3503316040.py:6: FutureWarning: suggest_loguniform has been deprecated in v3.0.0. This feature will be removed in v6.0.0. See https://github.com/optuna/optuna/releases/tag/v3.0.0. Use suggest_float(..., log=True) instead.\n",
      "  weight_decay=trial.suggest_loguniform(\"weight_decay\", 1e-4, 1e-1)\n",
      "[I 2024-12-18 14:08:21,999] Trial 2 finished with value: 0.11131873390823191 and parameters: {'dropout1': 0.30000000000000004, 'dropout2': 0.4, 'learning_rate': 0.0004363432626256847, 'weight_decay': 0.0059572740614312735}. Best is trial 2 with value: 0.11131873390823191.\n"
     ]
    },
    {
     "name": "stdout",
     "output_type": "stream",
     "text": [
      "Final MCC: 0.1113\n"
     ]
    },
    {
     "name": "stderr",
     "output_type": "stream",
     "text": [
      "/tmp/ipykernel_42869/3503316040.py:5: FutureWarning: suggest_loguniform has been deprecated in v3.0.0. This feature will be removed in v6.0.0. See https://github.com/optuna/optuna/releases/tag/v3.0.0. Use suggest_float(..., log=True) instead.\n",
      "  learning_rate = trial.suggest_loguniform(\"learning_rate\", 1e-4, 1e-1)\n",
      "/tmp/ipykernel_42869/3503316040.py:6: FutureWarning: suggest_loguniform has been deprecated in v3.0.0. This feature will be removed in v6.0.0. See https://github.com/optuna/optuna/releases/tag/v3.0.0. Use suggest_float(..., log=True) instead.\n",
      "  weight_decay=trial.suggest_loguniform(\"weight_decay\", 1e-4, 1e-1)\n",
      "[I 2024-12-18 14:08:25,663] Trial 3 finished with value: 0.12143639348227671 and parameters: {'dropout1': 0.15000000000000002, 'dropout2': 0.15000000000000002, 'learning_rate': 0.0033102837982924007, 'weight_decay': 0.010579102918445512}. Best is trial 3 with value: 0.12143639348227671.\n"
     ]
    },
    {
     "name": "stdout",
     "output_type": "stream",
     "text": [
      "Early stopping at epoch 33\n",
      "Final MCC: 0.1214\n"
     ]
    },
    {
     "name": "stderr",
     "output_type": "stream",
     "text": [
      "/tmp/ipykernel_42869/3503316040.py:5: FutureWarning: suggest_loguniform has been deprecated in v3.0.0. This feature will be removed in v6.0.0. See https://github.com/optuna/optuna/releases/tag/v3.0.0. Use suggest_float(..., log=True) instead.\n",
      "  learning_rate = trial.suggest_loguniform(\"learning_rate\", 1e-4, 1e-1)\n",
      "/tmp/ipykernel_42869/3503316040.py:6: FutureWarning: suggest_loguniform has been deprecated in v3.0.0. This feature will be removed in v6.0.0. See https://github.com/optuna/optuna/releases/tag/v3.0.0. Use suggest_float(..., log=True) instead.\n",
      "  weight_decay=trial.suggest_loguniform(\"weight_decay\", 1e-4, 1e-1)\n",
      "[I 2024-12-18 14:08:36,561] Trial 4 finished with value: -0.018903319276908553 and parameters: {'dropout1': 0.25, 'dropout2': 0.25, 'learning_rate': 0.00010622892831258694, 'weight_decay': 0.035288083486714486}. Best is trial 3 with value: 0.12143639348227671.\n",
      "/tmp/ipykernel_42869/3503316040.py:5: FutureWarning: suggest_loguniform has been deprecated in v3.0.0. This feature will be removed in v6.0.0. See https://github.com/optuna/optuna/releases/tag/v3.0.0. Use suggest_float(..., log=True) instead.\n",
      "  learning_rate = trial.suggest_loguniform(\"learning_rate\", 1e-4, 1e-1)\n",
      "/tmp/ipykernel_42869/3503316040.py:6: FutureWarning: suggest_loguniform has been deprecated in v3.0.0. This feature will be removed in v6.0.0. See https://github.com/optuna/optuna/releases/tag/v3.0.0. Use suggest_float(..., log=True) instead.\n",
      "  weight_decay=trial.suggest_loguniform(\"weight_decay\", 1e-4, 1e-1)\n",
      "[I 2024-12-18 14:08:36,676] Trial 5 pruned. \n"
     ]
    },
    {
     "name": "stdout",
     "output_type": "stream",
     "text": [
      "Final MCC: -0.0189\n"
     ]
    },
    {
     "name": "stderr",
     "output_type": "stream",
     "text": [
      "[I 2024-12-18 14:08:47,049] Trial 6 finished with value: 0.30229535759890275 and parameters: {'dropout1': 0.2, 'dropout2': 0.30000000000000004, 'learning_rate': 0.00020070132779300443, 'weight_decay': 0.0009671721390076575}. Best is trial 6 with value: 0.30229535759890275.\n"
     ]
    },
    {
     "name": "stdout",
     "output_type": "stream",
     "text": [
      "Final MCC: 0.3023\n"
     ]
    },
    {
     "name": "stderr",
     "output_type": "stream",
     "text": [
      "/tmp/ipykernel_42869/3503316040.py:5: FutureWarning: suggest_loguniform has been deprecated in v3.0.0. This feature will be removed in v6.0.0. See https://github.com/optuna/optuna/releases/tag/v3.0.0. Use suggest_float(..., log=True) instead.\n",
      "  learning_rate = trial.suggest_loguniform(\"learning_rate\", 1e-4, 1e-1)\n",
      "/tmp/ipykernel_42869/3503316040.py:6: FutureWarning: suggest_loguniform has been deprecated in v3.0.0. This feature will be removed in v6.0.0. See https://github.com/optuna/optuna/releases/tag/v3.0.0. Use suggest_float(..., log=True) instead.\n",
      "  weight_decay=trial.suggest_loguniform(\"weight_decay\", 1e-4, 1e-1)\n",
      "[I 2024-12-18 14:08:53,803] Trial 7 finished with value: 0.11765148915921306 and parameters: {'dropout1': 0.45, 'dropout2': 0.1, 'learning_rate': 0.0012777222818529954, 'weight_decay': 0.00963216941462049}. Best is trial 6 with value: 0.30229535759890275.\n",
      "/tmp/ipykernel_42869/3503316040.py:5: FutureWarning: suggest_loguniform has been deprecated in v3.0.0. This feature will be removed in v6.0.0. See https://github.com/optuna/optuna/releases/tag/v3.0.0. Use suggest_float(..., log=True) instead.\n",
      "  learning_rate = trial.suggest_loguniform(\"learning_rate\", 1e-4, 1e-1)\n",
      "/tmp/ipykernel_42869/3503316040.py:6: FutureWarning: suggest_loguniform has been deprecated in v3.0.0. This feature will be removed in v6.0.0. See https://github.com/optuna/optuna/releases/tag/v3.0.0. Use suggest_float(..., log=True) instead.\n",
      "  weight_decay=trial.suggest_loguniform(\"weight_decay\", 1e-4, 1e-1)\n",
      "[I 2024-12-18 14:08:53,915] Trial 8 pruned. \n"
     ]
    },
    {
     "name": "stdout",
     "output_type": "stream",
     "text": [
      "Early stopping at epoch 63\n",
      "Final MCC: 0.1177\n"
     ]
    },
    {
     "name": "stderr",
     "output_type": "stream",
     "text": [
      "[I 2024-12-18 14:08:54,033] Trial 9 pruned. \n",
      "[I 2024-12-18 14:08:54,161] Trial 10 pruned. \n",
      "[I 2024-12-18 14:08:54,285] Trial 11 pruned. \n",
      "[I 2024-12-18 14:08:54,408] Trial 12 pruned. \n",
      "[I 2024-12-18 14:09:03,013] Trial 13 finished with value: 0.2245414332443818 and parameters: {'dropout1': 0.05, 'dropout2': 0.2, 'learning_rate': 0.00052605342242859, 'weight_decay': 0.00018872638781430653}. Best is trial 6 with value: 0.30229535759890275.\n",
      "/tmp/ipykernel_42869/3503316040.py:5: FutureWarning: suggest_loguniform has been deprecated in v3.0.0. This feature will be removed in v6.0.0. See https://github.com/optuna/optuna/releases/tag/v3.0.0. Use suggest_float(..., log=True) instead.\n",
      "  learning_rate = trial.suggest_loguniform(\"learning_rate\", 1e-4, 1e-1)\n",
      "/tmp/ipykernel_42869/3503316040.py:6: FutureWarning: suggest_loguniform has been deprecated in v3.0.0. This feature will be removed in v6.0.0. See https://github.com/optuna/optuna/releases/tag/v3.0.0. Use suggest_float(..., log=True) instead.\n",
      "  weight_decay=trial.suggest_loguniform(\"weight_decay\", 1e-4, 1e-1)\n",
      "[I 2024-12-18 14:09:03,133] Trial 14 pruned. \n"
     ]
    },
    {
     "name": "stdout",
     "output_type": "stream",
     "text": [
      "Early stopping at epoch 83\n",
      "Final MCC: 0.2245\n"
     ]
    },
    {
     "name": "stderr",
     "output_type": "stream",
     "text": [
      "[I 2024-12-18 14:09:03,256] Trial 15 pruned. \n",
      "[I 2024-12-18 14:09:06,706] Trial 16 finished with value: 0.10615481083641774 and parameters: {'dropout1': 0.1, 'dropout2': 0.5, 'learning_rate': 0.0010260705841290602, 'weight_decay': 0.00046761699746420554}. Best is trial 6 with value: 0.30229535759890275.\n",
      "/tmp/ipykernel_42869/3503316040.py:5: FutureWarning: suggest_loguniform has been deprecated in v3.0.0. This feature will be removed in v6.0.0. See https://github.com/optuna/optuna/releases/tag/v3.0.0. Use suggest_float(..., log=True) instead.\n",
      "  learning_rate = trial.suggest_loguniform(\"learning_rate\", 1e-4, 1e-1)\n",
      "/tmp/ipykernel_42869/3503316040.py:6: FutureWarning: suggest_loguniform has been deprecated in v3.0.0. This feature will be removed in v6.0.0. See https://github.com/optuna/optuna/releases/tag/v3.0.0. Use suggest_float(..., log=True) instead.\n",
      "  weight_decay=trial.suggest_loguniform(\"weight_decay\", 1e-4, 1e-1)\n",
      "[I 2024-12-18 14:09:06,829] Trial 17 pruned. \n"
     ]
    },
    {
     "name": "stdout",
     "output_type": "stream",
     "text": [
      "Early stopping at epoch 33\n",
      "Final MCC: 0.1062\n"
     ]
    },
    {
     "name": "stderr",
     "output_type": "stream",
     "text": [
      "[I 2024-12-18 14:09:06,939] Trial 18 pruned. \n",
      "[I 2024-12-18 14:09:07,051] Trial 19 pruned. \n",
      "[I 2024-12-18 14:09:07,172] Trial 20 pruned. \n",
      "[I 2024-12-18 14:09:12,780] Trial 21 finished with value: 0.13258544231582267 and parameters: {'dropout1': 0.15000000000000002, 'dropout2': 0.2, 'learning_rate': 0.0020656542581238024, 'weight_decay': 0.018058142482566875}. Best is trial 6 with value: 0.30229535759890275.\n",
      "/tmp/ipykernel_42869/3503316040.py:5: FutureWarning: suggest_loguniform has been deprecated in v3.0.0. This feature will be removed in v6.0.0. See https://github.com/optuna/optuna/releases/tag/v3.0.0. Use suggest_float(..., log=True) instead.\n",
      "  learning_rate = trial.suggest_loguniform(\"learning_rate\", 1e-4, 1e-1)\n",
      "/tmp/ipykernel_42869/3503316040.py:6: FutureWarning: suggest_loguniform has been deprecated in v3.0.0. This feature will be removed in v6.0.0. See https://github.com/optuna/optuna/releases/tag/v3.0.0. Use suggest_float(..., log=True) instead.\n",
      "  weight_decay=trial.suggest_loguniform(\"weight_decay\", 1e-4, 1e-1)\n",
      "[I 2024-12-18 14:09:12,908] Trial 22 pruned. \n"
     ]
    },
    {
     "name": "stdout",
     "output_type": "stream",
     "text": [
      "Early stopping at epoch 50\n",
      "Final MCC: 0.1326\n"
     ]
    },
    {
     "name": "stderr",
     "output_type": "stream",
     "text": [
      "[I 2024-12-18 14:09:13,034] Trial 23 pruned. \n",
      "[I 2024-12-18 14:09:23,535] Trial 24 finished with value: 0.1264965079231856 and parameters: {'dropout1': 0.1, 'dropout2': 0.30000000000000004, 'learning_rate': 0.00021400729673068093, 'weight_decay': 0.001354798587807026}. Best is trial 6 with value: 0.30229535759890275.\n",
      "/tmp/ipykernel_42869/3503316040.py:5: FutureWarning: suggest_loguniform has been deprecated in v3.0.0. This feature will be removed in v6.0.0. See https://github.com/optuna/optuna/releases/tag/v3.0.0. Use suggest_float(..., log=True) instead.\n",
      "  learning_rate = trial.suggest_loguniform(\"learning_rate\", 1e-4, 1e-1)\n",
      "/tmp/ipykernel_42869/3503316040.py:6: FutureWarning: suggest_loguniform has been deprecated in v3.0.0. This feature will be removed in v6.0.0. See https://github.com/optuna/optuna/releases/tag/v3.0.0. Use suggest_float(..., log=True) instead.\n",
      "  weight_decay=trial.suggest_loguniform(\"weight_decay\", 1e-4, 1e-1)\n",
      "[I 2024-12-18 14:09:23,661] Trial 25 pruned. \n"
     ]
    },
    {
     "name": "stdout",
     "output_type": "stream",
     "text": [
      "Final MCC: 0.1265\n"
     ]
    },
    {
     "name": "stderr",
     "output_type": "stream",
     "text": [
      "[I 2024-12-18 14:09:23,784] Trial 26 pruned. \n",
      "[I 2024-12-18 14:09:23,902] Trial 27 pruned. \n",
      "[I 2024-12-18 14:09:24,020] Trial 28 pruned. \n",
      "[I 2024-12-18 14:09:24,138] Trial 29 pruned. \n",
      "[I 2024-12-18 14:09:24,261] Trial 30 pruned. \n",
      "[I 2024-12-18 14:09:35,007] Trial 31 finished with value: -0.02544593845891862 and parameters: {'dropout1': 0.1, 'dropout2': 0.30000000000000004, 'learning_rate': 0.00018991477769858452, 'weight_decay': 0.0016125245036282593}. Best is trial 6 with value: 0.30229535759890275.\n"
     ]
    },
    {
     "name": "stdout",
     "output_type": "stream",
     "text": [
      "Final MCC: -0.0254\n"
     ]
    },
    {
     "name": "stderr",
     "output_type": "stream",
     "text": [
      "/tmp/ipykernel_42869/3503316040.py:5: FutureWarning: suggest_loguniform has been deprecated in v3.0.0. This feature will be removed in v6.0.0. See https://github.com/optuna/optuna/releases/tag/v3.0.0. Use suggest_float(..., log=True) instead.\n",
      "  learning_rate = trial.suggest_loguniform(\"learning_rate\", 1e-4, 1e-1)\n",
      "/tmp/ipykernel_42869/3503316040.py:6: FutureWarning: suggest_loguniform has been deprecated in v3.0.0. This feature will be removed in v6.0.0. See https://github.com/optuna/optuna/releases/tag/v3.0.0. Use suggest_float(..., log=True) instead.\n",
      "  weight_decay=trial.suggest_loguniform(\"weight_decay\", 1e-4, 1e-1)\n",
      "[I 2024-12-18 14:09:43,600] Trial 32 finished with value: 0.09822692941903015 and parameters: {'dropout1': 0.05, 'dropout2': 0.25, 'learning_rate': 0.0003007296680628331, 'weight_decay': 0.001031249054812205}. Best is trial 6 with value: 0.30229535759890275.\n"
     ]
    },
    {
     "name": "stdout",
     "output_type": "stream",
     "text": [
      "Final MCC: 0.0982\n"
     ]
    },
    {
     "name": "stderr",
     "output_type": "stream",
     "text": [
      "/tmp/ipykernel_42869/3503316040.py:5: FutureWarning: suggest_loguniform has been deprecated in v3.0.0. This feature will be removed in v6.0.0. See https://github.com/optuna/optuna/releases/tag/v3.0.0. Use suggest_float(..., log=True) instead.\n",
      "  learning_rate = trial.suggest_loguniform(\"learning_rate\", 1e-4, 1e-1)\n",
      "/tmp/ipykernel_42869/3503316040.py:6: FutureWarning: suggest_loguniform has been deprecated in v3.0.0. This feature will be removed in v6.0.0. See https://github.com/optuna/optuna/releases/tag/v3.0.0. Use suggest_float(..., log=True) instead.\n",
      "  weight_decay=trial.suggest_loguniform(\"weight_decay\", 1e-4, 1e-1)\n",
      "[I 2024-12-18 14:09:51,816] Trial 33 finished with value: 0.27986259142336767 and parameters: {'dropout1': 0.1, 'dropout2': 0.30000000000000004, 'learning_rate': 0.0005144286680306695, 'weight_decay': 0.001536215098332318}. Best is trial 6 with value: 0.30229535759890275.\n",
      "/tmp/ipykernel_42869/3503316040.py:5: FutureWarning: suggest_loguniform has been deprecated in v3.0.0. This feature will be removed in v6.0.0. See https://github.com/optuna/optuna/releases/tag/v3.0.0. Use suggest_float(..., log=True) instead.\n",
      "  learning_rate = trial.suggest_loguniform(\"learning_rate\", 1e-4, 1e-1)\n",
      "/tmp/ipykernel_42869/3503316040.py:6: FutureWarning: suggest_loguniform has been deprecated in v3.0.0. This feature will be removed in v6.0.0. See https://github.com/optuna/optuna/releases/tag/v3.0.0. Use suggest_float(..., log=True) instead.\n",
      "  weight_decay=trial.suggest_loguniform(\"weight_decay\", 1e-4, 1e-1)\n",
      "[I 2024-12-18 14:09:51,913] Trial 34 pruned. \n"
     ]
    },
    {
     "name": "stdout",
     "output_type": "stream",
     "text": [
      "Early stopping at epoch 76\n",
      "Final MCC: 0.2799\n"
     ]
    },
    {
     "name": "stderr",
     "output_type": "stream",
     "text": [
      "[I 2024-12-18 14:09:52,034] Trial 35 pruned. \n",
      "[I 2024-12-18 14:10:01,050] Trial 36 finished with value: 0.13091495913970802 and parameters: {'dropout1': 0.2, 'dropout2': 0.35000000000000003, 'learning_rate': 0.0008289330081850095, 'weight_decay': 0.00047977435293144723}. Best is trial 6 with value: 0.30229535759890275.\n",
      "/tmp/ipykernel_42869/3503316040.py:5: FutureWarning: suggest_loguniform has been deprecated in v3.0.0. This feature will be removed in v6.0.0. See https://github.com/optuna/optuna/releases/tag/v3.0.0. Use suggest_float(..., log=True) instead.\n",
      "  learning_rate = trial.suggest_loguniform(\"learning_rate\", 1e-4, 1e-1)\n",
      "/tmp/ipykernel_42869/3503316040.py:6: FutureWarning: suggest_loguniform has been deprecated in v3.0.0. This feature will be removed in v6.0.0. See https://github.com/optuna/optuna/releases/tag/v3.0.0. Use suggest_float(..., log=True) instead.\n",
      "  weight_decay=trial.suggest_loguniform(\"weight_decay\", 1e-4, 1e-1)\n",
      "[I 2024-12-18 14:10:01,175] Trial 37 pruned. \n"
     ]
    },
    {
     "name": "stdout",
     "output_type": "stream",
     "text": [
      "Early stopping at epoch 83\n",
      "Final MCC: 0.1309\n"
     ]
    },
    {
     "name": "stderr",
     "output_type": "stream",
     "text": [
      "[I 2024-12-18 14:10:01,299] Trial 38 pruned. \n",
      "[I 2024-12-18 14:10:01,401] Trial 39 pruned. \n",
      "[I 2024-12-18 14:10:01,507] Trial 40 pruned. \n",
      "[I 2024-12-18 14:10:01,621] Trial 41 pruned. \n",
      "[I 2024-12-18 14:10:01,737] Trial 42 pruned. \n",
      "[I 2024-12-18 14:10:01,827] Trial 43 pruned. \n",
      "[I 2024-12-18 14:10:06,519] Trial 44 finished with value: 0.14571870503829365 and parameters: {'dropout1': 0.25, 'dropout2': 0.45, 'learning_rate': 0.0025798956685683136, 'weight_decay': 0.0001686965943817782}. Best is trial 6 with value: 0.30229535759890275.\n",
      "/tmp/ipykernel_42869/3503316040.py:5: FutureWarning: suggest_loguniform has been deprecated in v3.0.0. This feature will be removed in v6.0.0. See https://github.com/optuna/optuna/releases/tag/v3.0.0. Use suggest_float(..., log=True) instead.\n",
      "  learning_rate = trial.suggest_loguniform(\"learning_rate\", 1e-4, 1e-1)\n",
      "/tmp/ipykernel_42869/3503316040.py:6: FutureWarning: suggest_loguniform has been deprecated in v3.0.0. This feature will be removed in v6.0.0. See https://github.com/optuna/optuna/releases/tag/v3.0.0. Use suggest_float(..., log=True) instead.\n",
      "  weight_decay=trial.suggest_loguniform(\"weight_decay\", 1e-4, 1e-1)\n",
      "[I 2024-12-18 14:10:06,647] Trial 45 pruned. \n"
     ]
    },
    {
     "name": "stdout",
     "output_type": "stream",
     "text": [
      "Early stopping at epoch 50\n",
      "Final MCC: 0.1457\n"
     ]
    },
    {
     "name": "stderr",
     "output_type": "stream",
     "text": [
      "[I 2024-12-18 14:10:06,775] Trial 46 pruned. \n",
      "[I 2024-12-18 14:10:06,882] Trial 47 pruned. \n",
      "[I 2024-12-18 14:10:06,980] Trial 48 pruned. \n",
      "[I 2024-12-18 14:10:07,075] Trial 49 pruned. \n",
      "[I 2024-12-18 14:10:07,171] Trial 50 pruned. \n",
      "[I 2024-12-18 14:10:07,268] Trial 51 pruned. \n",
      "[I 2024-12-18 14:10:07,356] Trial 52 pruned. \n",
      "[I 2024-12-18 14:10:07,455] Trial 53 pruned. \n",
      "[I 2024-12-18 14:10:12,421] Trial 54 finished with value: 0.22775241260906298 and parameters: {'dropout1': 0.1, 'dropout2': 0.35000000000000003, 'learning_rate': 0.0014075522805081547, 'weight_decay': 0.00013956177353581352}. Best is trial 6 with value: 0.30229535759890275.\n",
      "/tmp/ipykernel_42869/3503316040.py:5: FutureWarning: suggest_loguniform has been deprecated in v3.0.0. This feature will be removed in v6.0.0. See https://github.com/optuna/optuna/releases/tag/v3.0.0. Use suggest_float(..., log=True) instead.\n",
      "  learning_rate = trial.suggest_loguniform(\"learning_rate\", 1e-4, 1e-1)\n",
      "/tmp/ipykernel_42869/3503316040.py:6: FutureWarning: suggest_loguniform has been deprecated in v3.0.0. This feature will be removed in v6.0.0. See https://github.com/optuna/optuna/releases/tag/v3.0.0. Use suggest_float(..., log=True) instead.\n",
      "  weight_decay=trial.suggest_loguniform(\"weight_decay\", 1e-4, 1e-1)\n",
      "[I 2024-12-18 14:10:12,509] Trial 55 pruned. \n",
      "[I 2024-12-18 14:10:12,595] Trial 56 pruned. \n"
     ]
    },
    {
     "name": "stdout",
     "output_type": "stream",
     "text": [
      "Early stopping at epoch 49\n",
      "Final MCC: 0.2278\n"
     ]
    },
    {
     "name": "stderr",
     "output_type": "stream",
     "text": [
      "[I 2024-12-18 14:10:12,682] Trial 57 pruned. \n",
      "[I 2024-12-18 14:10:12,795] Trial 58 pruned. \n",
      "[I 2024-12-18 14:10:12,918] Trial 59 pruned. \n",
      "[I 2024-12-18 14:10:13,040] Trial 60 pruned. \n",
      "[I 2024-12-18 14:10:13,168] Trial 61 pruned. \n",
      "[I 2024-12-18 14:10:13,289] Trial 62 pruned. \n",
      "[I 2024-12-18 14:10:13,410] Trial 63 pruned. \n",
      "[I 2024-12-18 14:10:13,536] Trial 64 pruned. \n",
      "[I 2024-12-18 14:10:13,664] Trial 65 pruned. \n",
      "[I 2024-12-18 14:10:13,788] Trial 66 pruned. \n",
      "[I 2024-12-18 14:10:13,909] Trial 67 pruned. \n",
      "[I 2024-12-18 14:10:17,014] Trial 68 finished with value: 0.17202530168019592 and parameters: {'dropout1': 0.15000000000000002, 'dropout2': 0.30000000000000004, 'learning_rate': 0.0018759405409008937, 'weight_decay': 0.0008956029455812497}. Best is trial 6 with value: 0.30229535759890275.\n",
      "/tmp/ipykernel_42869/3503316040.py:5: FutureWarning: suggest_loguniform has been deprecated in v3.0.0. This feature will be removed in v6.0.0. See https://github.com/optuna/optuna/releases/tag/v3.0.0. Use suggest_float(..., log=True) instead.\n",
      "  learning_rate = trial.suggest_loguniform(\"learning_rate\", 1e-4, 1e-1)\n",
      "/tmp/ipykernel_42869/3503316040.py:6: FutureWarning: suggest_loguniform has been deprecated in v3.0.0. This feature will be removed in v6.0.0. See https://github.com/optuna/optuna/releases/tag/v3.0.0. Use suggest_float(..., log=True) instead.\n",
      "  weight_decay=trial.suggest_loguniform(\"weight_decay\", 1e-4, 1e-1)\n",
      "[I 2024-12-18 14:10:17,106] Trial 69 pruned. \n",
      "[I 2024-12-18 14:10:17,190] Trial 70 pruned. \n"
     ]
    },
    {
     "name": "stdout",
     "output_type": "stream",
     "text": [
      "Early stopping at epoch 32\n",
      "Final MCC: 0.1720\n"
     ]
    },
    {
     "name": "stderr",
     "output_type": "stream",
     "text": [
      "[I 2024-12-18 14:10:17,277] Trial 71 pruned. \n",
      "[I 2024-12-18 14:10:17,362] Trial 72 pruned. \n",
      "[I 2024-12-18 14:10:17,446] Trial 73 pruned. \n",
      "[I 2024-12-18 14:10:17,532] Trial 74 pruned. \n",
      "[I 2024-12-18 14:10:17,616] Trial 75 pruned. \n",
      "[I 2024-12-18 14:10:17,700] Trial 76 pruned. \n",
      "[I 2024-12-18 14:10:17,785] Trial 77 pruned. \n",
      "[I 2024-12-18 14:10:17,870] Trial 78 pruned. \n",
      "[I 2024-12-18 14:10:17,954] Trial 79 pruned. \n",
      "[I 2024-12-18 14:10:18,039] Trial 80 pruned. \n",
      "[I 2024-12-18 14:10:18,124] Trial 81 pruned. \n",
      "[I 2024-12-18 14:10:18,209] Trial 82 pruned. \n",
      "[I 2024-12-18 14:10:25,817] Trial 83 finished with value: 0.3067824844174605 and parameters: {'dropout1': 0.15000000000000002, 'dropout2': 0.35000000000000003, 'learning_rate': 0.00018367923714872187, 'weight_decay': 0.0009614092935899386}. Best is trial 83 with value: 0.3067824844174605.\n",
      "/tmp/ipykernel_42869/3503316040.py:5: FutureWarning: suggest_loguniform has been deprecated in v3.0.0. This feature will be removed in v6.0.0. See https://github.com/optuna/optuna/releases/tag/v3.0.0. Use suggest_float(..., log=True) instead.\n",
      "  learning_rate = trial.suggest_loguniform(\"learning_rate\", 1e-4, 1e-1)\n",
      "/tmp/ipykernel_42869/3503316040.py:6: FutureWarning: suggest_loguniform has been deprecated in v3.0.0. This feature will be removed in v6.0.0. See https://github.com/optuna/optuna/releases/tag/v3.0.0. Use suggest_float(..., log=True) instead.\n",
      "  weight_decay=trial.suggest_loguniform(\"weight_decay\", 1e-4, 1e-1)\n",
      "[I 2024-12-18 14:10:25,931] Trial 84 pruned. \n"
     ]
    },
    {
     "name": "stdout",
     "output_type": "stream",
     "text": [
      "Final MCC: 0.3068\n"
     ]
    },
    {
     "name": "stderr",
     "output_type": "stream",
     "text": [
      "[I 2024-12-18 14:10:36,080] Trial 85 finished with value: 0.12802902367616784 and parameters: {'dropout1': 0.2, 'dropout2': 0.35000000000000003, 'learning_rate': 0.0002743891199619204, 'weight_decay': 0.000628730515642074}. Best is trial 83 with value: 0.3067824844174605.\n"
     ]
    },
    {
     "name": "stdout",
     "output_type": "stream",
     "text": [
      "Final MCC: 0.1280\n"
     ]
    },
    {
     "name": "stderr",
     "output_type": "stream",
     "text": [
      "/tmp/ipykernel_42869/3503316040.py:5: FutureWarning: suggest_loguniform has been deprecated in v3.0.0. This feature will be removed in v6.0.0. See https://github.com/optuna/optuna/releases/tag/v3.0.0. Use suggest_float(..., log=True) instead.\n",
      "  learning_rate = trial.suggest_loguniform(\"learning_rate\", 1e-4, 1e-1)\n",
      "/tmp/ipykernel_42869/3503316040.py:6: FutureWarning: suggest_loguniform has been deprecated in v3.0.0. This feature will be removed in v6.0.0. See https://github.com/optuna/optuna/releases/tag/v3.0.0. Use suggest_float(..., log=True) instead.\n",
      "  weight_decay=trial.suggest_loguniform(\"weight_decay\", 1e-4, 1e-1)\n",
      "[I 2024-12-18 14:10:45,813] Trial 86 finished with value: 0.17171734347308867 and parameters: {'dropout1': 0.15000000000000002, 'dropout2': 0.4, 'learning_rate': 0.00017521685850177774, 'weight_decay': 0.09384203821297518}. Best is trial 83 with value: 0.3067824844174605.\n"
     ]
    },
    {
     "name": "stdout",
     "output_type": "stream",
     "text": [
      "Final MCC: 0.1717\n"
     ]
    },
    {
     "name": "stderr",
     "output_type": "stream",
     "text": [
      "/tmp/ipykernel_42869/3503316040.py:5: FutureWarning: suggest_loguniform has been deprecated in v3.0.0. This feature will be removed in v6.0.0. See https://github.com/optuna/optuna/releases/tag/v3.0.0. Use suggest_float(..., log=True) instead.\n",
      "  learning_rate = trial.suggest_loguniform(\"learning_rate\", 1e-4, 1e-1)\n",
      "/tmp/ipykernel_42869/3503316040.py:6: FutureWarning: suggest_loguniform has been deprecated in v3.0.0. This feature will be removed in v6.0.0. See https://github.com/optuna/optuna/releases/tag/v3.0.0. Use suggest_float(..., log=True) instead.\n",
      "  weight_decay=trial.suggest_loguniform(\"weight_decay\", 1e-4, 1e-1)\n",
      "[I 2024-12-18 14:10:55,109] Trial 87 finished with value: 0.1424463307517114 and parameters: {'dropout1': 0.15000000000000002, 'dropout2': 0.4, 'learning_rate': 0.00017427360810978046, 'weight_decay': 0.09305071147825955}. Best is trial 83 with value: 0.3067824844174605.\n"
     ]
    },
    {
     "name": "stdout",
     "output_type": "stream",
     "text": [
      "Final MCC: 0.1424\n"
     ]
    },
    {
     "name": "stderr",
     "output_type": "stream",
     "text": [
      "/tmp/ipykernel_42869/3503316040.py:5: FutureWarning: suggest_loguniform has been deprecated in v3.0.0. This feature will be removed in v6.0.0. See https://github.com/optuna/optuna/releases/tag/v3.0.0. Use suggest_float(..., log=True) instead.\n",
      "  learning_rate = trial.suggest_loguniform(\"learning_rate\", 1e-4, 1e-1)\n",
      "/tmp/ipykernel_42869/3503316040.py:6: FutureWarning: suggest_loguniform has been deprecated in v3.0.0. This feature will be removed in v6.0.0. See https://github.com/optuna/optuna/releases/tag/v3.0.0. Use suggest_float(..., log=True) instead.\n",
      "  weight_decay=trial.suggest_loguniform(\"weight_decay\", 1e-4, 1e-1)\n",
      "[I 2024-12-18 14:11:04,265] Trial 88 finished with value: 0.3441936434225538 and parameters: {'dropout1': 0.15000000000000002, 'dropout2': 0.4, 'learning_rate': 0.0001592758782514425, 'weight_decay': 0.06028380934065914}. Best is trial 88 with value: 0.3441936434225538.\n",
      "/tmp/ipykernel_42869/3503316040.py:5: FutureWarning: suggest_loguniform has been deprecated in v3.0.0. This feature will be removed in v6.0.0. See https://github.com/optuna/optuna/releases/tag/v3.0.0. Use suggest_float(..., log=True) instead.\n",
      "  learning_rate = trial.suggest_loguniform(\"learning_rate\", 1e-4, 1e-1)\n",
      "/tmp/ipykernel_42869/3503316040.py:6: FutureWarning: suggest_loguniform has been deprecated in v3.0.0. This feature will be removed in v6.0.0. See https://github.com/optuna/optuna/releases/tag/v3.0.0. Use suggest_float(..., log=True) instead.\n",
      "  weight_decay=trial.suggest_loguniform(\"weight_decay\", 1e-4, 1e-1)\n",
      "[I 2024-12-18 14:11:04,352] Trial 89 pruned. \n"
     ]
    },
    {
     "name": "stdout",
     "output_type": "stream",
     "text": [
      "Final MCC: 0.3442\n"
     ]
    },
    {
     "name": "stderr",
     "output_type": "stream",
     "text": [
      "[I 2024-12-18 14:11:12,977] Trial 90 finished with value: 0.22308674355523242 and parameters: {'dropout1': 0.05, 'dropout2': 0.4, 'learning_rate': 0.00013202406198261967, 'weight_decay': 0.0786005679988337}. Best is trial 88 with value: 0.3441936434225538.\n"
     ]
    },
    {
     "name": "stdout",
     "output_type": "stream",
     "text": [
      "Final MCC: 0.2231\n"
     ]
    },
    {
     "name": "stderr",
     "output_type": "stream",
     "text": [
      "/tmp/ipykernel_42869/3503316040.py:5: FutureWarning: suggest_loguniform has been deprecated in v3.0.0. This feature will be removed in v6.0.0. See https://github.com/optuna/optuna/releases/tag/v3.0.0. Use suggest_float(..., log=True) instead.\n",
      "  learning_rate = trial.suggest_loguniform(\"learning_rate\", 1e-4, 1e-1)\n",
      "/tmp/ipykernel_42869/3503316040.py:6: FutureWarning: suggest_loguniform has been deprecated in v3.0.0. This feature will be removed in v6.0.0. See https://github.com/optuna/optuna/releases/tag/v3.0.0. Use suggest_float(..., log=True) instead.\n",
      "  weight_decay=trial.suggest_loguniform(\"weight_decay\", 1e-4, 1e-1)\n",
      "[I 2024-12-18 14:11:21,153] Trial 91 finished with value: 0.35626061420705346 and parameters: {'dropout1': 0.05, 'dropout2': 0.4, 'learning_rate': 0.00010900426438914696, 'weight_decay': 0.06860314640031462}. Best is trial 91 with value: 0.35626061420705346.\n"
     ]
    },
    {
     "name": "stdout",
     "output_type": "stream",
     "text": [
      "Final MCC: 0.3563\n"
     ]
    },
    {
     "name": "stderr",
     "output_type": "stream",
     "text": [
      "/tmp/ipykernel_42869/3503316040.py:5: FutureWarning: suggest_loguniform has been deprecated in v3.0.0. This feature will be removed in v6.0.0. See https://github.com/optuna/optuna/releases/tag/v3.0.0. Use suggest_float(..., log=True) instead.\n",
      "  learning_rate = trial.suggest_loguniform(\"learning_rate\", 1e-4, 1e-1)\n",
      "/tmp/ipykernel_42869/3503316040.py:6: FutureWarning: suggest_loguniform has been deprecated in v3.0.0. This feature will be removed in v6.0.0. See https://github.com/optuna/optuna/releases/tag/v3.0.0. Use suggest_float(..., log=True) instead.\n",
      "  weight_decay=trial.suggest_loguniform(\"weight_decay\", 1e-4, 1e-1)\n",
      "[I 2024-12-18 14:11:30,797] Trial 92 finished with value: 0.3193499472847486 and parameters: {'dropout1': 0.05, 'dropout2': 0.4, 'learning_rate': 0.00010200659120630917, 'weight_decay': 0.06874089117547601}. Best is trial 91 with value: 0.35626061420705346.\n"
     ]
    },
    {
     "name": "stdout",
     "output_type": "stream",
     "text": [
      "Final MCC: 0.3193\n"
     ]
    },
    {
     "name": "stderr",
     "output_type": "stream",
     "text": [
      "/tmp/ipykernel_42869/3503316040.py:5: FutureWarning: suggest_loguniform has been deprecated in v3.0.0. This feature will be removed in v6.0.0. See https://github.com/optuna/optuna/releases/tag/v3.0.0. Use suggest_float(..., log=True) instead.\n",
      "  learning_rate = trial.suggest_loguniform(\"learning_rate\", 1e-4, 1e-1)\n",
      "/tmp/ipykernel_42869/3503316040.py:6: FutureWarning: suggest_loguniform has been deprecated in v3.0.0. This feature will be removed in v6.0.0. See https://github.com/optuna/optuna/releases/tag/v3.0.0. Use suggest_float(..., log=True) instead.\n",
      "  weight_decay=trial.suggest_loguniform(\"weight_decay\", 1e-4, 1e-1)\n",
      "[I 2024-12-18 14:11:41,214] Trial 93 finished with value: 0.36634673021429376 and parameters: {'dropout1': 0.05, 'dropout2': 0.4, 'learning_rate': 0.00010845328174970751, 'weight_decay': 0.057575132608342905}. Best is trial 93 with value: 0.36634673021429376.\n"
     ]
    },
    {
     "name": "stdout",
     "output_type": "stream",
     "text": [
      "Final MCC: 0.3663\n"
     ]
    },
    {
     "name": "stderr",
     "output_type": "stream",
     "text": [
      "/tmp/ipykernel_42869/3503316040.py:5: FutureWarning: suggest_loguniform has been deprecated in v3.0.0. This feature will be removed in v6.0.0. See https://github.com/optuna/optuna/releases/tag/v3.0.0. Use suggest_float(..., log=True) instead.\n",
      "  learning_rate = trial.suggest_loguniform(\"learning_rate\", 1e-4, 1e-1)\n",
      "/tmp/ipykernel_42869/3503316040.py:6: FutureWarning: suggest_loguniform has been deprecated in v3.0.0. This feature will be removed in v6.0.0. See https://github.com/optuna/optuna/releases/tag/v3.0.0. Use suggest_float(..., log=True) instead.\n",
      "  weight_decay=trial.suggest_loguniform(\"weight_decay\", 1e-4, 1e-1)\n",
      "[I 2024-12-18 14:11:49,214] Trial 94 finished with value: 0.3025886620115761 and parameters: {'dropout1': 0.05, 'dropout2': 0.4, 'learning_rate': 0.00010258567213355378, 'weight_decay': 0.05494844907637236}. Best is trial 93 with value: 0.36634673021429376.\n",
      "/tmp/ipykernel_42869/3503316040.py:5: FutureWarning: suggest_loguniform has been deprecated in v3.0.0. This feature will be removed in v6.0.0. See https://github.com/optuna/optuna/releases/tag/v3.0.0. Use suggest_float(..., log=True) instead.\n",
      "  learning_rate = trial.suggest_loguniform(\"learning_rate\", 1e-4, 1e-1)\n",
      "/tmp/ipykernel_42869/3503316040.py:6: FutureWarning: suggest_loguniform has been deprecated in v3.0.0. This feature will be removed in v6.0.0. See https://github.com/optuna/optuna/releases/tag/v3.0.0. Use suggest_float(..., log=True) instead.\n",
      "  weight_decay=trial.suggest_loguniform(\"weight_decay\", 1e-4, 1e-1)\n",
      "[I 2024-12-18 14:11:49,299] Trial 95 pruned. \n",
      "[I 2024-12-18 14:11:49,396] Trial 96 pruned. \n"
     ]
    },
    {
     "name": "stdout",
     "output_type": "stream",
     "text": [
      "Final MCC: 0.3026\n"
     ]
    },
    {
     "name": "stderr",
     "output_type": "stream",
     "text": [
      "[I 2024-12-18 14:11:49,486] Trial 97 pruned. \n",
      "[I 2024-12-18 14:11:49,572] Trial 98 pruned. \n",
      "[I 2024-12-18 14:11:56,516] Trial 99 finished with value: 0.3528325439547313 and parameters: {'dropout1': 0.05, 'dropout2': 0.4, 'learning_rate': 0.00012366228969332252, 'weight_decay': 0.06402796263499065}. Best is trial 93 with value: 0.36634673021429376.\n"
     ]
    },
    {
     "name": "stdout",
     "output_type": "stream",
     "text": [
      "Final MCC: 0.3528\n",
      "Best Parameters:  {'dropout1': 0.05, 'dropout2': 0.4, 'learning_rate': 0.00010845328174970751, 'weight_decay': 0.057575132608342905}\n",
      "Best Validation F1:  0.36634673021429376\n"
     ]
    }
   ],
   "source": [
    "device_id = 1\n",
    "torch.cuda.set_device(device_id)\n",
    "device = torch.device(f\"cuda:{device_id}\" if torch.cuda.is_available() else \"cpu\")\n",
    "\n",
    "# Optunaの設定\n",
    "study = optuna.create_study(direction=\"maximize\")  \n",
    "study.optimize(objective, n_trials=100)\n",
    "\n",
    "# 結果表示\n",
    "print(\"Best Parameters: \", study.best_params)\n",
    "print(\"Best Validation F1: \", study.best_value)"
   ]
  },
  {
   "cell_type": "code",
   "execution_count": 43,
   "metadata": {},
   "outputs": [
    {
     "name": "stdout",
     "output_type": "stream",
     "text": [
      "Best parameters saved to 'best_params.json'\n"
     ]
    }
   ],
   "source": [
    "best_params = study.best_params\n",
    "\n",
    "# JSON形式で保存\n",
    "with open(\"optim_param/stack_DNN_params.json\", \"w\") as f:\n",
    "    json.dump(best_params, f)\n",
    "\n",
    "print(\"Best parameters saved to 'best_params.json'\")"
   ]
  },
  {
   "cell_type": "code",
   "execution_count": 51,
   "metadata": {},
   "outputs": [
    {
     "name": "stdout",
     "output_type": "stream",
     "text": [
      "Epoch [1/70], Loss: 0.8875\n",
      "Epoch [1/70], Train Loss: 0.8875, Val Loss: 0.8456\n",
      "Epoch [2/70], Loss: 0.8741\n",
      "Epoch [2/70], Train Loss: 0.8741, Val Loss: 0.8648\n",
      "Epoch [3/70], Loss: 0.8683\n",
      "Epoch [3/70], Train Loss: 0.8683, Val Loss: 0.8573\n",
      "Epoch [4/70], Loss: 0.8611\n",
      "Epoch [4/70], Train Loss: 0.8611, Val Loss: 0.8485\n",
      "Epoch [5/70], Loss: 0.8489\n",
      "Epoch [5/70], Train Loss: 0.8489, Val Loss: 0.8417\n",
      "Epoch [6/70], Loss: 0.8465\n",
      "Epoch [6/70], Train Loss: 0.8465, Val Loss: 0.8351\n",
      "Epoch [7/70], Loss: 0.8397\n",
      "Epoch [7/70], Train Loss: 0.8397, Val Loss: 0.8311\n",
      "Epoch [8/70], Loss: 0.8276\n",
      "Epoch [8/70], Train Loss: 0.8276, Val Loss: 0.8279\n",
      "Epoch [9/70], Loss: 0.8354\n",
      "Epoch [9/70], Train Loss: 0.8354, Val Loss: 0.8259\n",
      "Epoch [10/70], Loss: 0.8270\n",
      "Epoch [10/70], Train Loss: 0.8270, Val Loss: 0.8248\n",
      "Epoch [11/70], Loss: 0.8265\n",
      "Epoch [11/70], Train Loss: 0.8265, Val Loss: 0.8202\n",
      "Epoch [12/70], Loss: 0.8226\n",
      "Epoch [12/70], Train Loss: 0.8226, Val Loss: 0.8159\n",
      "Epoch [13/70], Loss: 0.8175\n",
      "Epoch [13/70], Train Loss: 0.8175, Val Loss: 0.8151\n",
      "Epoch [14/70], Loss: 0.8128\n",
      "Epoch [14/70], Train Loss: 0.8128, Val Loss: 0.8115\n",
      "Epoch [15/70], Loss: 0.8164\n",
      "Epoch [15/70], Train Loss: 0.8164, Val Loss: 0.8100\n",
      "Epoch [16/70], Loss: 0.8085\n",
      "Epoch [16/70], Train Loss: 0.8085, Val Loss: 0.8092\n",
      "Epoch [17/70], Loss: 0.8132\n",
      "Epoch [17/70], Train Loss: 0.8132, Val Loss: 0.8048\n",
      "Epoch [18/70], Loss: 0.8071\n",
      "Epoch [18/70], Train Loss: 0.8071, Val Loss: 0.8034\n",
      "Epoch [19/70], Loss: 0.8011\n",
      "Epoch [19/70], Train Loss: 0.8011, Val Loss: 0.8013\n",
      "Epoch [20/70], Loss: 0.8023\n",
      "Epoch [20/70], Train Loss: 0.8023, Val Loss: 0.7972\n",
      "Epoch [21/70], Loss: 0.7915\n",
      "Epoch [21/70], Train Loss: 0.7915, Val Loss: 0.7945\n",
      "Epoch [22/70], Loss: 0.7964\n",
      "Epoch [22/70], Train Loss: 0.7964, Val Loss: 0.7898\n",
      "Epoch [23/70], Loss: 0.7954\n",
      "Epoch [23/70], Train Loss: 0.7954, Val Loss: 0.7903\n",
      "Epoch [24/70], Loss: 0.7914\n",
      "Epoch [24/70], Train Loss: 0.7914, Val Loss: 0.7856\n",
      "Epoch [25/70], Loss: 0.7886\n",
      "Epoch [25/70], Train Loss: 0.7886, Val Loss: 0.7846\n",
      "Epoch [26/70], Loss: 0.7870\n",
      "Epoch [26/70], Train Loss: 0.7870, Val Loss: 0.7832\n",
      "Epoch [27/70], Loss: 0.7794\n",
      "Epoch [27/70], Train Loss: 0.7794, Val Loss: 0.7787\n",
      "Epoch [28/70], Loss: 0.7781\n",
      "Epoch [28/70], Train Loss: 0.7781, Val Loss: 0.7784\n",
      "Epoch [29/70], Loss: 0.7786\n",
      "Epoch [29/70], Train Loss: 0.7786, Val Loss: 0.7745\n",
      "Epoch [30/70], Loss: 0.7701\n",
      "Epoch [30/70], Train Loss: 0.7701, Val Loss: 0.7710\n",
      "Epoch [31/70], Loss: 0.7695\n",
      "Epoch [31/70], Train Loss: 0.7695, Val Loss: 0.7694\n",
      "Epoch [32/70], Loss: 0.7705\n",
      "Epoch [32/70], Train Loss: 0.7705, Val Loss: 0.7686\n",
      "Epoch [33/70], Loss: 0.7636\n",
      "Epoch [33/70], Train Loss: 0.7636, Val Loss: 0.7670\n",
      "Epoch [34/70], Loss: 0.7623\n",
      "Epoch [34/70], Train Loss: 0.7623, Val Loss: 0.7633\n",
      "Epoch [35/70], Loss: 0.7602\n",
      "Epoch [35/70], Train Loss: 0.7602, Val Loss: 0.7638\n",
      "Epoch [36/70], Loss: 0.7609\n",
      "Epoch [36/70], Train Loss: 0.7609, Val Loss: 0.7572\n",
      "Epoch [37/70], Loss: 0.7610\n",
      "Epoch [37/70], Train Loss: 0.7610, Val Loss: 0.7541\n",
      "Epoch [38/70], Loss: 0.7521\n",
      "Epoch [38/70], Train Loss: 0.7521, Val Loss: 0.7533\n",
      "Epoch [39/70], Loss: 0.7549\n",
      "Epoch [39/70], Train Loss: 0.7549, Val Loss: 0.7516\n",
      "Epoch [40/70], Loss: 0.7498\n",
      "Epoch [40/70], Train Loss: 0.7498, Val Loss: 0.7500\n",
      "Epoch [41/70], Loss: 0.7442\n",
      "Epoch [41/70], Train Loss: 0.7442, Val Loss: 0.7459\n",
      "Epoch [42/70], Loss: 0.7443\n",
      "Epoch [42/70], Train Loss: 0.7443, Val Loss: 0.7439\n",
      "Epoch [43/70], Loss: 0.7421\n",
      "Epoch [43/70], Train Loss: 0.7421, Val Loss: 0.7410\n",
      "Epoch [44/70], Loss: 0.7346\n",
      "Epoch [44/70], Train Loss: 0.7346, Val Loss: 0.7362\n",
      "Epoch [45/70], Loss: 0.7372\n",
      "Epoch [45/70], Train Loss: 0.7372, Val Loss: 0.7373\n",
      "Epoch [46/70], Loss: 0.7346\n",
      "Epoch [46/70], Train Loss: 0.7346, Val Loss: 0.7350\n",
      "Epoch [47/70], Loss: 0.7361\n",
      "Epoch [47/70], Train Loss: 0.7361, Val Loss: 0.7349\n",
      "Epoch [48/70], Loss: 0.7297\n",
      "Epoch [48/70], Train Loss: 0.7297, Val Loss: 0.7306\n",
      "Epoch [49/70], Loss: 0.7258\n",
      "Epoch [49/70], Train Loss: 0.7258, Val Loss: 0.7294\n",
      "Epoch [50/70], Loss: 0.7280\n",
      "Epoch [50/70], Train Loss: 0.7280, Val Loss: 0.7276\n",
      "Epoch [51/70], Loss: 0.7229\n",
      "Epoch [51/70], Train Loss: 0.7229, Val Loss: 0.7215\n",
      "Epoch [52/70], Loss: 0.7240\n",
      "Epoch [52/70], Train Loss: 0.7240, Val Loss: 0.7222\n",
      "Epoch [53/70], Loss: 0.7192\n",
      "Epoch [53/70], Train Loss: 0.7192, Val Loss: 0.7209\n",
      "Epoch [54/70], Loss: 0.7161\n",
      "Epoch [54/70], Train Loss: 0.7161, Val Loss: 0.7172\n",
      "Epoch [55/70], Loss: 0.7160\n",
      "Epoch [55/70], Train Loss: 0.7160, Val Loss: 0.7165\n",
      "Epoch [56/70], Loss: 0.7182\n",
      "Epoch [56/70], Train Loss: 0.7182, Val Loss: 0.7133\n",
      "Epoch [57/70], Loss: 0.7145\n",
      "Epoch [57/70], Train Loss: 0.7145, Val Loss: 0.7117\n",
      "Epoch [58/70], Loss: 0.7125\n",
      "Epoch [58/70], Train Loss: 0.7125, Val Loss: 0.7114\n",
      "Epoch [59/70], Loss: 0.7126\n",
      "Epoch [59/70], Train Loss: 0.7126, Val Loss: 0.7096\n",
      "Epoch [60/70], Loss: 0.7084\n",
      "Epoch [60/70], Train Loss: 0.7084, Val Loss: 0.7050\n",
      "Epoch [61/70], Loss: 0.7045\n",
      "Epoch [61/70], Train Loss: 0.7045, Val Loss: 0.7051\n",
      "Epoch [62/70], Loss: 0.7023\n",
      "Epoch [62/70], Train Loss: 0.7023, Val Loss: 0.7016\n",
      "Epoch [63/70], Loss: 0.7006\n",
      "Epoch [63/70], Train Loss: 0.7006, Val Loss: 0.7014\n",
      "Epoch [64/70], Loss: 0.7040\n",
      "Epoch [64/70], Train Loss: 0.7040, Val Loss: 0.6994\n",
      "Epoch [65/70], Loss: 0.6976\n",
      "Epoch [65/70], Train Loss: 0.6976, Val Loss: 0.6983\n",
      "Epoch [66/70], Loss: 0.6982\n",
      "Epoch [66/70], Train Loss: 0.6982, Val Loss: 0.6956\n",
      "Epoch [67/70], Loss: 0.6974\n",
      "Epoch [67/70], Train Loss: 0.6974, Val Loss: 0.6947\n",
      "Epoch [68/70], Loss: 0.6952\n",
      "Epoch [68/70], Train Loss: 0.6952, Val Loss: 0.6904\n",
      "Epoch [69/70], Loss: 0.6964\n",
      "Epoch [69/70], Train Loss: 0.6964, Val Loss: 0.6902\n",
      "Epoch [70/70], Loss: 0.6912\n",
      "Epoch [70/70], Train Loss: 0.6912, Val Loss: 0.6871\n"
     ]
    },
    {
     "data": {
      "image/png": "[encoded data removed]",
      "text/plain": [
       "<Figure size 1000x600 with 1 Axes>"
      ]
     },
     "metadata": {},
     "output_type": "display_data"
    }
   ],
   "source": [
    "best_params=study.best_params\n",
    "model = meta_model(input_dim=X_train_tensor.shape[1],\n",
    "              dropout1=best_params[\"dropout1\"],\n",
    "              dropout2=best_params[\"dropout2\"]).to(device)\n",
    "# 最適化と訓練を実行\n",
    "optimizer = optim.Adam(model.parameters(), lr=best_params[\"learning_rate\"],weight_decay=best_params[\"weight_decay\"])\n",
    "criterion = nn.BCELoss()\n",
    "\n",
    "num_epochs=70\n",
    "train_losses = []\n",
    "val_losses = []\n",
    "\n",
    "model.train()\n",
    "for epoch in range(num_epochs):\n",
    "    epoch_train_loss = 0\n",
    "    epoch_val_loss = 0\n",
    "\n",
    "    for X_batch, y_batch in train_loader:\n",
    "        X_batch, y_batch = X_batch.to(device), y_batch.to(device)\n",
    "        optimizer.zero_grad()\n",
    "        outputs = model(X_batch).squeeze()\n",
    "        loss = criterion(outputs, y_batch.squeeze())\n",
    "        loss.backward()\n",
    "        optimizer.step()\n",
    "        epoch_train_loss += loss.item()\n",
    "    avg_train_loss = epoch_train_loss / len(train_loader)\n",
    "    train_losses.append(avg_train_loss)\n",
    "    print(f'Epoch [{epoch+1}/{num_epochs}], Loss: {avg_train_loss:.4f}')\n",
    "\n",
    "    if val_loader is not None:\n",
    "        model.eval()  \n",
    "        with torch.no_grad():\n",
    "            for X_val, y_val in val_loader:\n",
    "                X_val, y_val = X_val.to(device), y_val.to(device)\n",
    "                val_outputs = model(X_val).squeeze()\n",
    "                val_loss = criterion(val_outputs, y_val.squeeze())\n",
    "                epoch_val_loss += val_loss.item()\n",
    "\n",
    "        avg_val_loss = epoch_val_loss / len(val_loader)\n",
    "        val_losses.append(avg_val_loss)\n",
    "        model.train()  \n",
    "\n",
    "    if val_loader is not None:\n",
    "        print(f\"Epoch [{epoch+1}/{num_epochs}], Train Loss: {avg_train_loss:.4f}, Val Loss: {avg_val_loss:.4f}\")\n",
    "    else:\n",
    "        print(f\"Epoch [{epoch+1}/{num_epochs}], Train Loss: {avg_train_loss:.4f}\")\n",
    "\n",
    "plt.figure(figsize=(10, 6))\n",
    "plt.plot(range(1, num_epochs + 1), train_losses, label='Train Loss')\n",
    "if val_losses:\n",
    "    plt.plot(range(1, num_epochs + 1), val_losses, label='Validation Loss')\n",
    "plt.xlabel('Epoch')\n",
    "plt.ylabel('Loss')\n",
    "plt.title('Learning Curve for stacking')\n",
    "plt.legend()\n",
    "plt.grid()\n",
    "plt.show()"
   ]
  },
  {
   "cell_type": "code",
   "execution_count": 52,
   "metadata": {},
   "outputs": [
    {
     "name": "stdout",
     "output_type": "stream",
     "text": [
      "Accuracy: 58.20%\n",
      "Precision: 0.4704\n",
      "Recall: 0.9725\n",
      "F1 Score: 0.6341\n",
      "Matthews Correlation Coefficient: 0.3707\n",
      "Specificity: 0.3503\n"
     ]
    },
    {
     "data": {
      "image/png": "[encoded data removed]",
      "text/plain": [
       "<Figure size 640x480 with 1 Axes>"
      ]
     },
     "metadata": {},
     "output_type": "display_data"
    },
    {
     "data": {
      "image/png": "[encoded data removed]",
      "text/plain": [
       "<Figure size 640x480 with 1 Axes>"
      ]
     },
     "metadata": {},
     "output_type": "display_data"
    },
    {
     "data": {
      "image/png": "[encoded data removed]",
      "text/plain": [
       "<Figure size 640x480 with 1 Axes>"
      ]
     },
     "metadata": {},
     "output_type": "display_data"
    }
   ],
   "source": [
    "model.eval()\n",
    "with torch.no_grad():\n",
    "    X_test_tensor = X_test_tensor.to(device)\n",
    "    y_test_tensor = y_test_tensor.to(device)\n",
    "\n",
    "    # 予測と確率\n",
    "    test_outputs = model(X_test_tensor).squeeze()\n",
    "    predictions = (test_outputs >=0.5).float()\n",
    "    y_true = y_test_tensor.cpu().numpy()\n",
    "    y_pred = predictions.cpu().numpy()\n",
    "    y_prob = test_outputs.cpu().numpy()\n",
    "\n",
    "# 評価指標\n",
    "    accuracy = accuracy_score(y_true, y_pred)\n",
    "    precision = precision_score(y_true, y_pred)\n",
    "    recall = recall_score(y_true, y_pred)\n",
    "    f1 = f1_score(y_true, y_pred)\n",
    "    mcc = matthews_corrcoef(y_true, y_pred)\n",
    "    specificity = recall_score(y_true, y_pred, pos_label=0)  \n",
    "    print(f'Accuracy: {accuracy * 100:.2f}%')\n",
    "    print(f'Precision: {precision:.4f}')\n",
    "    print(f'Recall: {recall:.4f}')\n",
    "    print(f'F1 Score: {f1:.4f}')\n",
    "    print(f'Matthews Correlation Coefficient: {mcc:.4f}')\n",
    "    print(f'Specificity: {specificity:.4f}')\n",
    "\n",
    "    # 混同行列（割合表示）\n",
    "    cm = confusion_matrix(y_true, y_pred, normalize='true')\n",
    "    sns.heatmap(cm, annot=True, fmt=\".2%\", cmap=\"Blues\", cbar=False)\n",
    "    plt.xlabel(\"Predicted\")\n",
    "    plt.ylabel(\"Actual\")\n",
    "    plt.title(f\"Confusion Matrix (Normalized)\")\n",
    "    plt.show()\n",
    "\n",
    "    # ROC曲線とAUC\n",
    "    fpr, tpr, thresholds = roc_curve(y_true, y_prob)\n",
    "    roc_auc = auc(fpr, tpr)\n",
    "    plt.plot(fpr, tpr, label=f'ROC curve (AUC = {roc_auc:.2f})')\n",
    "    plt.plot([0, 1], [0, 1], 'k--') \n",
    "    plt.xlabel('False Positive Rate')\n",
    "    plt.ylabel('True Positive Rate')\n",
    "    plt.title(f'ROC Curve - Model ')\n",
    "    plt.legend(loc=\"lower right\")\n",
    "    plt.show()\n",
    "\n",
    "    # Precision-Recall曲線\n",
    "    precision_curve, recall_curve, pr_thresholds = precision_recall_curve(y_true, y_prob)\n",
    "    pr_auc = auc(recall_curve, precision_curve)\n",
    "    plt.plot(recall_curve, precision_curve, label=f'PR curve (AUC = {pr_auc:.2f})')\n",
    "    plt.xlabel('Recall')\n",
    "    plt.ylabel('Precision')\n",
    "    plt.title(f'Precision-Recall Curve ')\n",
    "    plt.legend(loc=\"lower left\")\n",
    "    plt.show()    "
   ]
  },
  {
   "cell_type": "code",
   "execution_count": 53,
   "metadata": {},
   "outputs": [],
   "source": [
    "torch.save(model.state_dict(), 'model_params/stack_model_DNN.pth')"
   ]
  },
  {
   "cell_type": "code",
   "execution_count": null,
   "metadata": {},
   "outputs": [],
   "source": []
  }
 ],
 "metadata": {
  "kernelspec": {
   "display_name": "torch",
   "language": "python",
   "name": "python3"
  },
  "language_info": {
   "codemirror_mode": {
    "name": "ipython",
    "version": 3
   },
   "file_extension": ".py",
   "mimetype": "text/x-python",
   "name": "python",
   "nbconvert_exporter": "python",
   "pygments_lexer": "ipython3",
   "version": "3.12.7"
  }
 },
 "nbformat": 4,
 "nbformat_minor": 2
}
