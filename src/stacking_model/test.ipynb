{
 "cells": [
  {
   "cell_type": "code",
   "execution_count": null,
   "id": "initial_id",
   "metadata": {
    "ExecuteTime": {
     "end_time": "2024-10-23T05:21:25.946719Z",
     "start_time": "2024-10-23T05:21:24.776999Z"
    },
    "collapsed": true
   },
   "outputs": [],
   "source": [
    "import pandas as pd\n",
    "%matplotlib inline\n",
    "\n",
    "from sklearn.model_selection import train_test_split\n",
    "\n",
    "from model import optimize_function,optimize,optimize_stacking\n",
    "\n",
    "from sklearn.linear_model import LogisticRegression # ロジスティック回帰\n",
    "from sklearn.neighbors import KNeighborsClassifier # K近傍法\n",
    "from sklearn.svm import SVC # サポートベクターマシン\n",
    "from sklearn.tree import DecisionTreeClassifier # 決定木\n",
    "from sklearn.ensemble import RandomForestClassifier # ランダムフォレスト\n",
    "from lightgbm import LGBMClassifier #LGBM\n",
    "from sklearn.ensemble import AdaBoostClassifier # AdaBoost\n",
    "from sklearn.naive_bayes import GaussianNB # ナイーブ・ベイズ\n",
    "\n",
    "from sklearn.ensemble import StackingClassifier\n",
    "from sklearn.metrics import accuracy_score"
   ]
  },
  {
   "cell_type": "markdown",
   "id": "72a3c96ef8e25b9d",
   "metadata": {},
   "source": [
    "データの読み込みと分割"
   ]
  },
  {
   "cell_type": "code",
   "execution_count": null,
   "id": "316ed5fd58140072",
   "metadata": {
    "ExecuteTime": {
     "end_time": "2024-10-23T05:21:25.996480Z",
     "start_time": "2024-10-23T05:21:25.988177Z"
    }
   },
   "outputs": [],
   "source": [
    "# データの読み込み\n",
    "data = pd.read_csv('../../data/preprocessed_data.csv',index_col=None)\n",
    "\n",
    "# 特徴量とターゲット変数の分割\n",
    "X = data.drop('dengue', axis=1)  \n",
    "y = data['dengue']"
   ]
  },
  {
   "cell_type": "code",
   "execution_count": null,
   "id": "d6536880a304347f",
   "metadata": {
    "ExecuteTime": {
     "end_time": "2024-10-23T05:21:26.127809Z",
     "start_time": "2024-10-23T05:21:26.122299Z"
    }
   },
   "outputs": [],
   "source": [
    "X_train, X_test, y_train, y_test = train_test_split(X, y, test_size=0.2, random_state=42)"
   ]
  },
  {
   "cell_type": "markdown",
   "id": "4442679b15ee5f39",
   "metadata": {},
   "source": [
    "各分類機の最適化"
   ]
  },
  {
   "cell_type": "code",
   "execution_count": null,
   "id": "8a465eccd1e8b656",
   "metadata": {
    "ExecuteTime": {
     "end_time": "2024-10-23T05:21:26.173479Z",
     "start_time": "2024-10-23T05:21:26.170237Z"
    }
   },
   "outputs": [],
   "source": [
    "optimize_function=optimize_function(X_train,y_train)"
   ]
  },
  {
   "cell_type": "code",
   "execution_count": null,
   "id": "51272a95c0080fde",
   "metadata": {
    "ExecuteTime": {
     "end_time": "2024-10-23T05:21:26.278300Z",
     "start_time": "2024-10-23T05:21:26.273695Z"
    }
   },
   "outputs": [],
   "source": [
    "objectives_dict={\"Logistic Regression\" : optimize_function.objective_logistic_regression,\n",
    "                 \"Nearest Neighbors\" : optimize_function.objective_knn, \n",
    "                 \"RBF SVM\" : optimize_function.objective_svm_rbf, \n",
    "                 \"Decision Tree\" : optimize_function.objective_decision_tree,\n",
    "                 \"Random Forest\" : optimize_function.objective_random_forest,\n",
    "                 \"LGBM\" : optimize_function.objective_lgbm,\n",
    "                 \"AdaBoost\" : optimize_function.objective_adaboost, \n",
    "                 \"Naive Bayes\": optimize_function.objective_naive_bayes\n",
    "                 }"
   ]
  },
  {
   "cell_type": "code",
   "execution_count": null,
   "id": "37ac8b873bcc9db5",
   "metadata": {
    "ExecuteTime": {
     "end_time": "2024-10-23T05:34:21.619547Z",
     "start_time": "2024-10-23T05:21:26.329136Z"
    }
   },
   "outputs": [],
   "source": [
    "optimize=optimize(objectives_dict)\n",
    "best_params=optimize.optimize()"
   ]
  },
  {
   "cell_type": "code",
   "execution_count": null,
   "id": "d152321d58cfc91c",
   "metadata": {
    "ExecuteTime": {
     "end_time": "2024-10-23T05:34:22.507087Z",
     "start_time": "2024-10-23T05:34:22.501032Z"
    }
   },
   "outputs": [],
   "source": [
    "df_best_params=pd.DataFrame.from_dict(best_params,orient='index')\n",
    "df_best_params.to_csv('best_params/best_params.csv')"
   ]
  },
  {
   "cell_type": "code",
   "execution_count": null,
   "id": "e76648c5ca81eb77",
   "metadata": {
    "ExecuteTime": {
     "end_time": "2024-10-23T05:34:22.585989Z",
     "start_time": "2024-10-23T05:34:22.568758Z"
    }
   },
   "outputs": [],
   "source": [
    "best_params_df=pd.read_csv('best_params/best_params.csv')\n",
    "best_params_df"
   ]
  },
  {
   "cell_type": "markdown",
   "id": "3d0ac0f7c9abae54",
   "metadata": {},
   "source": [
    "スタッキングモデルの構築"
   ]
  },
  {
   "cell_type": "code",
   "execution_count": null,
   "id": "93723e81513bfe59",
   "metadata": {
    "ExecuteTime": {
     "end_time": "2024-10-23T05:34:22.649732Z",
     "start_time": "2024-10-23T05:34:22.645483Z"
    }
   },
   "outputs": [],
   "source": [
    "names = ['RBF SVM','Nearest Neighbors', \n",
    "         'Decision Tree','Random Forest','AdaBoost']\n",
    "\n",
    "classifiers = [SVC(kernel=\"rbf\",C=0.35,gamma='scale',class_weight='balanced',probability=True),\n",
    "               KNeighborsClassifier(n_neighbors=38,weights='uniform',algorithm='kd_tree'),\n",
    "               DecisionTreeClassifier(criterion='entropy',max_depth=25,min_samples_split=2,min_samples_leaf=100,class_weight='balanced'),\n",
    "               RandomForestClassifier(max_depth=84,min_samples_split=23,min_samples_leaf=49,n_estimators=146,class_weight='balanced'),\n",
    "               AdaBoostClassifier(algorithm='SAMME',n_estimators=867,learning_rate=0.575176)]"
   ]
  },
  {
   "cell_type": "code",
   "execution_count": null,
   "id": "347dd76e747dbf04",
   "metadata": {
    "ExecuteTime": {
     "end_time": "2024-10-23T05:42:26.796451Z",
     "start_time": "2024-10-23T05:34:22.692187Z"
    }
   },
   "outputs": [],
   "source": [
    "optimize_stacking=optimize_stacking(names,classifiers,X_train,y_train)\n",
    "objective_stacking=optimize_stacking.objective_stacking\n",
    "optimize_stacking.optimize_stacking(objective_stacking)"
   ]
  },
  {
   "cell_type": "code",
   "execution_count": null,
   "id": "bd5ffd4b152684da",
   "metadata": {
    "ExecuteTime": {
     "end_time": "2024-10-23T05:42:26.847796067Z",
     "start_time": "2024-10-17T07:29:04.444664Z"
    }
   },
   "outputs": [],
   "source": [
    "# 最適化したスタッキングモデルの構築\n",
    "#meta_model = LGBMClassifier(num_leaves=611,learning_rate=0.073,n_estimators=897,lambda_l1=15,lambd_l2=39) #LGBM\n",
    "meta_model=LogisticRegression()\n",
    "estimator=[(name,clf) for name,clf in zip(names,classifiers)]\n",
    "stacking_clf = StackingClassifier(estimators=estimator, final_estimator=meta_model)\n",
    "stacking_clf.fit(X_train, y_train)\n"
   ]
  },
  {
   "cell_type": "code",
   "execution_count": null,
   "id": "cb291d6e15af7f7f",
   "metadata": {
    "ExecuteTime": {
     "end_time": "2024-10-23T05:42:26.852714997Z",
     "start_time": "2024-10-17T07:29:24.767791Z"
    }
   },
   "outputs": [],
   "source": [
    "#テスト・比較\n",
    "result = []\n",
    "\n",
    "#各機械学習モデルのテスト\n",
    "for name, clf in zip(names, classifiers): \n",
    "    clf.fit(X_train, y_train) \n",
    "    score1 = clf.score(X_train, y_train) \n",
    "    score2 = clf.score(X_test, y_test) \n",
    "    result.append([score1, score2]) \n",
    "\n",
    "result = pd.DataFrame(result, columns=['train', 'test'], index=names)\n",
    "\n",
    "#スタッキングモデルのテスト\n",
    "y_pred = stacking_clf.predict(X_test)\n",
    "\n",
    "accuracy = accuracy_score(y_test, y_pred)\n",
    "\n",
    "stacking_score1 = stacking_clf.score(X_train, y_train)\n",
    "stacking_score2 = stacking_clf.score(X_test, y_test)\n",
    "\n",
    "stacking_result = pd.DataFrame([[stacking_score1, stacking_score2]], columns=['train', 'test'], index=['Stacking'])\n",
    "\n",
    "# 既存の結果とスタッキング結果を結合\n",
    "result_df = pd.concat([pd.DataFrame(result, columns=['train', 'test'], index=names), stacking_result])\n",
    "result_df = result_df.sort_values('test', ascending=False)\n",
    "\n",
    "print(result_df)\n"
   ]
  },
  {
   "cell_type": "code",
   "execution_count": null,
   "id": "7d3a53583862ed51",
   "metadata": {
    "ExecuteTime": {
     "end_time": "2024-10-23T05:42:26.872010535Z",
     "start_time": "2024-10-17T07:29:31.408302Z"
    }
   },
   "outputs": [],
   "source": [
    "result_df.plot(kind='bar', alpha=0.5, grid=True)"
   ]
  },
  {
   "cell_type": "code",
   "execution_count": null,
   "id": "5b75e3dee2b659c6",
   "metadata": {},
   "outputs": [],
   "source": []
  }
 ],
 "metadata": {
  "kernelspec": {
   "display_name": "Python 3",
   "language": "python",
   "name": "python3"
  },
  "language_info": {
   "codemirror_mode": {
    "name": "ipython",
    "version": 2
   },
   "file_extension": ".py",
   "mimetype": "text/x-python",
   "name": "python",
   "nbconvert_exporter": "python",
   "pygments_lexer": "ipython2",
   "version": "2.7.6"
  }
 },
 "nbformat": 4,
 "nbformat_minor": 5
}
