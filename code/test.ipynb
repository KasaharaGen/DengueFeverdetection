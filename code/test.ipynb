from dengue import preprocess
test=preprocess()
print(test.OCR('../1706.03762v7.pdf'))