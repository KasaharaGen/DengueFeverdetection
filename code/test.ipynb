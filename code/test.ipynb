{
 "cells": [
  {
   "cell_type": "code",
   "execution_count": 2,
   "metadata": {},
   "outputs": [],
   "source": [
    "from dengue import preprocess"
   ]
  },
  {
   "cell_type": "code",
   "execution_count": 3,
   "metadata": {},
   "outputs": [
    {
     "name": "stdout",
     "output_type": "stream",
     "text": [
      "Father Muller Medical College Hospital Be)\n",
      "(A unit of Father Muller Charitable Institutions)\n",
      "Na”\n",
      "\n",
      "Father Muller Road, Kankanady, Mangaluru - 575 002, India\n",
      "DEPT. OF RADIO-DIAGNOSIS & IMAGING MR. 14E\n",
      "\n",
      " \n",
      "\n",
      " \n",
      "\n",
      "Patient Name : CONANT . Age / Gender - 51 Years / Female\n",
      "Reg No 170117631 (IP 796970 Ward/BedNo :OWARD/O SurF 44\n",
      "\n",
      ": Dr JOHN JOSEPH S. MARTIS MBBS,MS \\\n",
      "Request No : 779233 Referred by SURGERY UNITE\n",
      "\n",
      "Requested Date. 34_40.2019/12:32 pees date and. 9444-2019 / 11:14\n",
      "ime\n",
      "\n",
      "and time\n",
      "Cl. Diagnosis : Done By - Dr LENON JASON DSOUZA\n",
      "MAMMOGRAM BILATERAL\n",
      "\n",
      "MAMMOGRAM - BILATERAL BREAST\n",
      "\n",
      " \n",
      "\n",
      "Indication - Case of Carcinoma right breast.\n",
      "- No previous mammograms available for comparison\n",
      "\n",
      "- Craniocaudal and mediolateral views are studied\n",
      "\n",
      "- Breast composition : Predominantly fatty breast pattern noted\n",
      "\n",
      "Right breast\n",
      "\n",
      "- Lobulated high density mass noted in inner lower quadrant of right breast.\n",
      "\n",
      "- 2.8x2.1cms well defined smooth margins noted in high density mass lesion noted in upper\n",
      "quadrant in periaxillary region measuring 4.5x3.2cms.\n",
      "\n",
      "  \n",
      "   \n",
      "   \n",
      "   \n",
      "\n",
      "- Few prominent right axillary lymphnodes noted with few showing loss of fatty hilum.\n",
      "- No evidence of micro/macrocalcification\n",
      "\n",
      "- No evidence of skin/trabecular thickening\n",
      "\n",
      "- No evidence of skin/ nipple retraction.\n",
      "\n",
      "Left breast\n",
      "\n",
      "- Small high density opacity noted in outer upper quadrant of left breast- likely\n",
      "intramammary lymphnode.\n",
      "\n",
      "- Prominent left axillary lymphnodes noted with maintained fatty hilum.\n",
      "- No evidence of skin/trabecular thickening\n",
      "- No evidence of skin/ nipple retraction.\n",
      "\n",
      "IMPRESSION: Known case of Carcinoma right breast Vigan\n",
      "- BI-RADS - vi. , Present study sho :\n",
      "\n",
      "DAP28346 - 01-11-2019/11:14\n",
      "\n",
      "Phone : 0824 - 2238000/3 2381\n",
      "5 SS a “-35163, Fay -\n",
      "Email : mullerhospital@fathermuller.in / muller@fathermutler we www. duct\n",
      "‘ ; Tathermuller.edu. in\n",
      "\f\n"
     ]
    }
   ],
   "source": [
    "test=preprocess()\n",
    "text=test.OCR('../sample_data/sample pdf-1.pdf')\n",
    "print(text)"
   ]
  },
  {
   "cell_type": "code",
   "execution_count": null,
   "metadata": {},
   "outputs": [],
   "source": []
  },
  {
   "cell_type": "code",
   "execution_count": null,
   "metadata": {},
   "outputs": [],
   "source": []
  },
  {
   "cell_type": "code",
   "execution_count": null,
   "metadata": {},
   "outputs": [],
   "source": []
  }
 ],
 "metadata": {
  "kernelspec": {
   "display_name": "dengue",
   "language": "python",
   "name": "python3"
  },
  "language_info": {
   "codemirror_mode": {
    "name": "ipython",
    "version": 3
   },
   "file_extension": ".py",
   "mimetype": "text/x-python",
   "name": "python",
   "nbconvert_exporter": "python",
   "pygments_lexer": "ipython3",
   "version": "3.12.4"
  },
  "orig_nbformat": 4
 },
 "nbformat": 4,
 "nbformat_minor": 2
}
